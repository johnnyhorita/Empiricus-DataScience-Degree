{
 "cells": [
  {
   "cell_type": "markdown",
   "id": "05ed34d4",
   "metadata": {},
   "source": [
    "# Aula 1"
   ]
  },
  {
   "cell_type": "markdown",
   "id": "31b2cea2",
   "metadata": {},
   "source": [
    "Apresentação da professora Renata, Pedro e Alessandro\n",
    "\n",
    "\n",
    "Instalação do Anaconda\n",
    "Utilização do Jupyter Notebook\n",
    "    - python -m notebook\n",
    "    - jupyter notebook   \n",
    "    \n",
    "Opções online\n",
    "- <a href=\"https://jupyter.org/try/\"> Jupyter</a>\n",
    "- <a href=\"https://colab.research.google.com/notebooks/intro.ipynb?utm_source=scs-index#recent=true\"> Colab</a>\n"
   ]
  },
  {
   "cell_type": "markdown",
   "id": "1b091480",
   "metadata": {},
   "source": [
    "## Notebook exemplos\n",
    "### Básicos\n",
    "https://jupyter-notebook.readthedocs.io/en/stable/examples/Notebook/Notebook%20Basics.html\n",
    "\n",
    "### Markdown\n",
    "https://jupyter-notebook.readthedocs.io/en/stable/examples/Notebook/Working%20With%20Markdown%20Cells.html\n",
    "\n",
    "### Extensions\n",
    "https://jupyter-contrib-nbextensions.readthedocs.io/en/latest/install.html\n",
    "\n",
    "conda install -c conda-forge jupyter_contrib_nbextensions\n",
    "\n",
    "conda install -c conda-forge jupyter_contrib_nbextensions\n",
    "jupyter contrib nbextension install --user\n",
    "jupyter nbextensions_configurator enable --user\n",
    "\n",
    "conda install -c conda-forge/label/gcc7 autopep8\n",
    "conda install yapf\n"
   ]
  },
  {
   "cell_type": "code",
   "execution_count": null,
   "id": "7164076a",
   "metadata": {},
   "outputs": [],
   "source": []
  }
 ],
 "metadata": {
  "kernelspec": {
   "display_name": "Python 3",
   "language": "python",
   "name": "python3"
  },
  "language_info": {
   "codemirror_mode": {
    "name": "ipython",
    "version": 3
   },
   "file_extension": ".py",
   "mimetype": "text/x-python",
   "name": "python",
   "nbconvert_exporter": "python",
   "pygments_lexer": "ipython3",
   "version": "3.8.10"
  }
 },
 "nbformat": 4,
 "nbformat_minor": 5
}
