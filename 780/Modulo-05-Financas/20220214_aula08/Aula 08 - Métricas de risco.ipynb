{
 "cells": [
  {
   "cell_type": "markdown",
   "metadata": {},
   "source": [
    "## Métricas de risco - VaR e ES"
   ]
  },
  {
   "cell_type": "markdown",
   "metadata": {},
   "source": [
    "## Introdução\n",
    "\n",
    "### Após completar este capítulo, você será capaz de:\n",
    "\n",
    "- Compreender a importância das métricas de risco\n",
    "- Compreender o conceito de VaR\n",
    "- Calcular o VaR por metodologia histórica\n",
    "\n",
    "### Conceitos utilizados\n",
    "- Probabilidade básica\n",
    "- Distribuição Normal\n",
    "- Percentil\n",
    "- Retorno\n",
    "- PnL (*profit and loss*)"
   ]
  },
  {
   "cell_type": "markdown",
   "metadata": {},
   "source": [
    "### Importância das métricas de risco💰📈\n",
    "**O que são métricas de risco**   \n",
    "Métricas que visam estimar **perdas potenciais** sob determinados cenários (premissas) em função de modelos de apreçamento. Em geral, são aplicáveis tanto a apenas um ativo, como em carteiras complexas e diversas, pois apresentam uma visão consolidada sobre um risco financeiro. Por este mesmo motivo, costumam utilizar ferramentas e conceitos estatísticos na mensuração.\n",
    "\n",
    "Há métricas para estimar diversos tipos de risco financeiro, como risco de crédito, mercado, contraparte, liquidez, etc.\n",
    "\n",
    "**Para que servem**   \n",
    "São utilizadas na gestão de risco de instituições financeiras - *e na sua carteira pessoal, por que não?*   \n",
    "Geralmente são vinculadas com outras ações e mitigadores, como definição de apetite de risco e limites de operação.\n",
    "Também são muito utilizadas pelos órgãos reguladores do sistema financeiro para controlar a tomada de risco das instituições e garantir a saúde do mercado. Reguladores estimam o **capital** a ser alocado pela instituição financeira em função das métricas de risco.\n",
    "\n",
    "\n",
    "**Exemplo em risco de mercado**\n",
    "\n",
    "|Métrica de risco| Exigência regulatória|\n",
    "|---|---|\n",
    "|Value at Risk (VaR) | Capital RM (Res. 4.557 e Circ. 3.646)|\n",
    "|Expected Shortfall (ES) | FRTB|\n",
    "|Teste de estresse| ICAAP (Res. 4.557)|\n",
    "|ΔEVE e ΔNII | IRRBB (Circ. 3.876)|\n",
    "\n"
   ]
  },
  {
   "cell_type": "code",
   "execution_count": 1,
   "metadata": {},
   "outputs": [],
   "source": [
    "# Bibliotecas\n",
    "import datetime as dt\n",
    "import numpy as np\n",
    "import pandas as pd\n",
    "import matplotlib.pyplot as plt"
   ]
  },
  {
   "cell_type": "markdown",
   "metadata": {},
   "source": [
    "### Revisão <a class=\"anchor\" id=\"2\"></a>\n",
    "1. Retorno simples\n",
    "2. PnL - Profit or Loss - Perdas ou Ganhos (resultado)"
   ]
  },
  {
   "cell_type": "markdown",
   "metadata": {},
   "source": [
    "Seja $P_t$ o preço de um ativo no instante $t$.\n",
    "O retorno simples é dado por:\n",
    "$$ retorno_t = \\frac{preço_t - preço_{t-HP}}{preço_{t-HP}} $$\n",
    "ou\n",
    "$$ retorno_t = \\frac{preço_t}{preço_{t-HP}} -1 $$\n",
    "\n",
    "Geralmente o retorno é expresso em porcentagem, relativamente ao período. Também é chamado de *taxa de retorno*.   \n",
    "E o PnL é dado por:\n",
    "\n",
    "$$ PnL_t = preço_t - preço_{t-HP} $$\n",
    "ou\n",
    "$$ PnL_t = retorno_t \\cdot preço_{t-HP} $$\n",
    "\n",
    "e representa a perda ou ganho em valor financeiro ocorrida no período decorrido da variação de preços do ativo."
   ]
  },
  {
   "cell_type": "code",
   "execution_count": 2,
   "metadata": {},
   "outputs": [],
   "source": [
    "# Captura dos dados\n",
    "def read_fx_input(fx_name, path_in):\n",
    "    df = pd.read_csv(path_in + fx_name + '.csv', decimal=',')\n",
    "    df = df[df.tipoBoletim == 'Fechamento'].reset_index()\n",
    "    df['date'] = df['dataHoraCotacao'].apply(lambda x: dt.datetime.strptime(x[0:10], '%Y-%m-%d').date())\n",
    "    df['price'] = (df.cotacaoCompra + df.cotacaoVenda)/2 # mid\n",
    "    return df[['date', 'price']].set_index('date')"
   ]
  },
  {
   "cell_type": "markdown",
   "metadata": {},
   "source": [
    "bid = oferta de venda\n",
    "ask = oferta de compra\n",
    "mid = preço médio"
   ]
  },
  {
   "cell_type": "code",
   "execution_count": 3,
   "metadata": {
    "scrolled": true
   },
   "outputs": [
    {
     "data": {
      "text/html": [
       "<div>\n",
       "<style scoped>\n",
       "    .dataframe tbody tr th:only-of-type {\n",
       "        vertical-align: middle;\n",
       "    }\n",
       "\n",
       "    .dataframe tbody tr th {\n",
       "        vertical-align: top;\n",
       "    }\n",
       "\n",
       "    .dataframe thead th {\n",
       "        text-align: right;\n",
       "    }\n",
       "</style>\n",
       "<table border=\"1\" class=\"dataframe\">\n",
       "  <thead>\n",
       "    <tr style=\"text-align: right;\">\n",
       "      <th></th>\n",
       "      <th>price</th>\n",
       "    </tr>\n",
       "    <tr>\n",
       "      <th>date</th>\n",
       "      <th></th>\n",
       "    </tr>\n",
       "  </thead>\n",
       "  <tbody>\n",
       "    <tr>\n",
       "      <th>2010-01-04</th>\n",
       "      <td>1.7236</td>\n",
       "    </tr>\n",
       "    <tr>\n",
       "      <th>2010-01-05</th>\n",
       "      <td>1.7223</td>\n",
       "    </tr>\n",
       "    <tr>\n",
       "      <th>2010-01-06</th>\n",
       "      <td>1.7333</td>\n",
       "    </tr>\n",
       "    <tr>\n",
       "      <th>2010-01-07</th>\n",
       "      <td>1.7409</td>\n",
       "    </tr>\n",
       "    <tr>\n",
       "      <th>2010-01-08</th>\n",
       "      <td>1.7386</td>\n",
       "    </tr>\n",
       "  </tbody>\n",
       "</table>\n",
       "</div>"
      ],
      "text/plain": [
       "             price\n",
       "date              \n",
       "2010-01-04  1.7236\n",
       "2010-01-05  1.7223\n",
       "2010-01-06  1.7333\n",
       "2010-01-07  1.7409\n",
       "2010-01-08  1.7386"
      ]
     },
     "execution_count": 3,
     "metadata": {},
     "output_type": "execute_result"
    }
   ],
   "source": [
    "df_inputs = read_fx_input('USD', '')\n",
    "df_inputs.head()"
   ]
  },
  {
   "cell_type": "markdown",
   "metadata": {},
   "source": [
    "Temos uma base de preços históricos. \n",
    "Calculemos os retornos:"
   ]
  },
  {
   "cell_type": "code",
   "execution_count": 4,
   "metadata": {},
   "outputs": [],
   "source": [
    "def calc_ret_pnl(df, hp): # df = df_usd\n",
    "    df['return'] = (df['price']/df['price'].shift(hp) - 1) # Retorno\n",
    "    df['PnL'] = df['price'] - df['price'].shift(hp) # Realizado\n",
    "    # df['logReturn'] = df.apply(lambda x: np.log(x['return']), axis=1) # log retorno\n",
    "    return df"
   ]
  },
  {
   "cell_type": "code",
   "execution_count": 5,
   "metadata": {},
   "outputs": [
    {
     "data": {
      "text/html": [
       "<div>\n",
       "<style scoped>\n",
       "    .dataframe tbody tr th:only-of-type {\n",
       "        vertical-align: middle;\n",
       "    }\n",
       "\n",
       "    .dataframe tbody tr th {\n",
       "        vertical-align: top;\n",
       "    }\n",
       "\n",
       "    .dataframe thead th {\n",
       "        text-align: right;\n",
       "    }\n",
       "</style>\n",
       "<table border=\"1\" class=\"dataframe\">\n",
       "  <thead>\n",
       "    <tr style=\"text-align: right;\">\n",
       "      <th></th>\n",
       "      <th>price</th>\n",
       "      <th>return</th>\n",
       "      <th>PnL</th>\n",
       "    </tr>\n",
       "    <tr>\n",
       "      <th>date</th>\n",
       "      <th></th>\n",
       "      <th></th>\n",
       "      <th></th>\n",
       "    </tr>\n",
       "  </thead>\n",
       "  <tbody>\n",
       "    <tr>\n",
       "      <th>2010-01-04</th>\n",
       "      <td>1.7236</td>\n",
       "      <td>NaN</td>\n",
       "      <td>NaN</td>\n",
       "    </tr>\n",
       "    <tr>\n",
       "      <th>2010-01-05</th>\n",
       "      <td>1.7223</td>\n",
       "      <td>-0.000754</td>\n",
       "      <td>-0.0013</td>\n",
       "    </tr>\n",
       "    <tr>\n",
       "      <th>2010-01-06</th>\n",
       "      <td>1.7333</td>\n",
       "      <td>0.006387</td>\n",
       "      <td>0.0110</td>\n",
       "    </tr>\n",
       "    <tr>\n",
       "      <th>2010-01-07</th>\n",
       "      <td>1.7409</td>\n",
       "      <td>0.004385</td>\n",
       "      <td>0.0076</td>\n",
       "    </tr>\n",
       "    <tr>\n",
       "      <th>2010-01-08</th>\n",
       "      <td>1.7386</td>\n",
       "      <td>-0.001321</td>\n",
       "      <td>-0.0023</td>\n",
       "    </tr>\n",
       "  </tbody>\n",
       "</table>\n",
       "</div>"
      ],
      "text/plain": [
       "             price    return     PnL\n",
       "date                                \n",
       "2010-01-04  1.7236       NaN     NaN\n",
       "2010-01-05  1.7223 -0.000754 -0.0013\n",
       "2010-01-06  1.7333  0.006387  0.0110\n",
       "2010-01-07  1.7409  0.004385  0.0076\n",
       "2010-01-08  1.7386 -0.001321 -0.0023"
      ]
     },
     "execution_count": 5,
     "metadata": {},
     "output_type": "execute_result"
    }
   ],
   "source": [
    "df_metrics = calc_ret_pnl(df_inputs, hp=1)\n",
    "df_metrics.head()"
   ]
  },
  {
   "cell_type": "markdown",
   "metadata": {},
   "source": [
    "### 3. Definições <a class=\"anchor\" id=\"3\"></a>\n",
    "1. VaR - Value at Risk\n",
    "2. ES - Expected shortfall\n",
    "3. Parâmetros comuns"
   ]
  },
  {
   "cell_type": "markdown",
   "metadata": {},
   "source": [
    "#### 3.1 VaR\n",
    "Conceito:\n",
    "- Pior perda esperada sob condições normais de mercado, ao longo de determinado intervalo de tempo ($HP$) e dentro de determinado nível de confiança ($1−\\alpha$).\n",
    "\n",
    "Definição:   \n",
    "Seja $x(t)$ a série temporal de resultados (PnL), então:\n",
    "\n",
    "$$ VaR_{1-\\alpha}^{HP}(t) = \\inf \\{y \\in \\mathbb{R}: Pr(x(t)) > y = 1 - \\alpha \\} $$\n",
    "\n",
    "Exemplo:   \n",
    "Se um portfólio possui um VaR para $HP=10$ dias e nível de confiança 95\\% no valor de R\\$ 1 milhão, significa que:\n",
    "- Há uma probabilidade de $\\alpha = 5\\%$ que o portfólio perca mais de R$ 1 milhão num intervalo de 10 dias, caso o portfólio permaneça o mesmo neste período. "
   ]
  },
  {
   "cell_type": "markdown",
   "metadata": {},
   "source": [
    "<div>\n",
    "    <img src=\"Imagens/09_01_var_conceito.png\" style=\"width: 600px;\"/>\n",
    "</div>"
   ]
  },
  {
   "cell_type": "markdown",
   "metadata": {},
   "source": [
    "#### 3.2 ES\n",
    "Conceito:\n",
    "- Valor esperado (média) da perda condicional ao estouro do VaR, ao longo de determinado intervalo de tempo ($𝐻𝑃$) e dentro de determinado nível de confiança ($1−\\alpha$).\n",
    "\n",
    "Definição:\n",
    "$$ ES_{1-\\alpha}^{HP}(t) = \\mathbb{E}[x(t) | x(t) < VaR_{1-\\alpha}^{HP}(t)] $$\n",
    "\n",
    "Exemplo:   \n",
    "Se o ES é de R\\$ 10 milhões, significa que:\n",
    "- Caso ocorra uma perda pior que o VaR (estouro), o valor esperado dessa perda é de R\\$ 10 milhões."
   ]
  },
  {
   "cell_type": "markdown",
   "metadata": {},
   "source": [
    "<div>\n",
    "    <img src=\"Imagens/09_02_metricas_NTN-B_99.0.png\" style=\"width: 800px;\"/>\n",
    "</div>"
   ]
  },
  {
   "cell_type": "markdown",
   "metadata": {},
   "source": [
    "#### 3.3 Parâmetros comuns\n",
    "A definição dos parâmetros pode vir por exigência regulatória ou por decisão interna da instituição financeira, de acordo com seus apetites de risco ou uso dos modelos. A seguir, temos os valores mais comuns para o *holding period* e para o nível de confiança.\n",
    "\n",
    "$HP$: \n",
    "- 1 dia (usado em cálculo de limites)\n",
    "- 10 dias (usado para cálculo de capital)\n",
    "- 30 dias (usado em métricas de liquidez)\n",
    "\n",
    "Nível de confiança ($ 1 - \\alpha $):\n",
    "- 99%\n",
    "- 97,5%\n",
    "- 95%\n",
    "\n",
    "O nível de confiança é unilateral, pois sob uma visão de riscos, a preocupação é apenas sobre as perdas."
   ]
  },
  {
   "cell_type": "markdown",
   "metadata": {},
   "source": [
    "### 4. Métodos de cálculo<a class=\"anchor\" id=\"4\"></a>\n",
    "1. **Paramétrico**   \n",
    "Premissa: distribuições teóricas com parâmetros conhecidos   \n",
    "Custo processamento: baixo   \n",
    "Custo base de dados: baixo   \n",
    "Maior fragilidade: depende diretamente da amostra utilizada na calibração dos parâmetros e da adequação das distribuições utilizadas\n",
    "\n",
    "2. **Histórico**   \n",
    "Premissa: informações passadas representam bem a distribuição   \n",
    "Custo processamento: baixo   \n",
    "Custo base de dados: alto   \n",
    "Maior fragilidade: depende diretamente da amostra utilizada\n",
    "\n",
    "3. **Simulação por Monte Carlo**   \n",
    "Premissa: adequação dos modelos de projeção   \n",
    "Custo processamento: alto   \n",
    "Custo base de dados: alto   \n",
    "Maior fragilidade: risco de modelo"
   ]
  },
  {
   "cell_type": "markdown",
   "metadata": {},
   "source": [
    "#### 4.2 Histórico\n",
    "\n",
    "O VaR histórico é facilmente computado, porém exige uma maior quantidade de dados armazenados. Sua vantagem é que não há assunção de distribuição teórica sobre os retornos, pois os percentis são calculados diretamente a partir da amostra de realizações já ocorridas. Isto acaba sendo também uma desvantagem, pois o modelo é baseado apenas em informações passadas, falhando em predizer possíveis movimentações que não ocorreram no período histórico utilizado na mensuração.   \n",
    "\n",
    "Na simulação histórica, primeiramente define-se a quantidade $n$ de cenários que será utilizada como tamanho da amostra para cálculo dos percentis. Com isto, obtemos uma série com $n$ retornos já realizados. Em geral, utilizam-se os retornos mais recentes e, portanto:\n",
    "\n",
    "$$ sRet_t = \\{retorno(\\tau)\\}_{t-n}^{t} $$\n",
    "\n",
    "Estes retornos são aplicados ao valor financeiro atual para gerar uma série de possíveis cenários de perdas e ganhos (PnLs):\n",
    "\n",
    "$$ sPnL_t = MtM_t \\cdot sRet_t = \\{MtM_t \\cdot retorno(\\tau)\\}_{t-n}^{t} $$\n",
    "\n",
    "𝑃ara obter o VaR, calcula-se o percentil $\\alpha$ desta série:\n",
    "\n",
    "$$ VaR_{1-\\alpha}(t) = Percentil[sPnL_t, \\alpha] $$\n",
    "\n",
    "Na prática, ordenam-se os valores de PnL simulados e busca-se o $\\alpha$-ésimo pior valor da série.   \n",
    "Para obter o ES, é calculada a média de todos os valores da série abaixo do VaR, ou seja, das perdas piores que o valor do VaR:\n",
    "\n",
    "$$ ES_{1 - \\alpha}(t) = Média[x | x < VaR_{1-\\alpha}(t)], x \\in sPnL_t $$\n",
    "\n",
    "É comum utilizar $n = 1000$ dias mais recentes para cálculo histórico, que representam aproximadamente 4 anos de dados diários. "
   ]
  },
  {
   "cell_type": "markdown",
   "metadata": {},
   "source": [
    "#### Exemplo prático: Método histórico simples com um único fator de risco\n",
    "Calcular o VaR histórico de 1 dia com 99% de confiança para USD Spot"
   ]
  },
  {
   "cell_type": "markdown",
   "metadata": {},
   "source": [
    "Cálculo da série de PnLs: $ sPnL_t $   \n",
    "Fazemos o corte do período utilizado como amostra. Em nosso exemplo, usaremos os últimos 1000 PnLs:"
   ]
  },
  {
   "cell_type": "code",
   "execution_count": 6,
   "metadata": {},
   "outputs": [
    {
     "data": {
      "text/plain": [
       "date\n",
       "2017-05-05   -0.0016\n",
       "2017-05-08    0.0174\n",
       "2017-05-09   -0.0081\n",
       "2017-05-10   -0.0251\n",
       "2017-05-11   -0.0047\n",
       "               ...  \n",
       "2021-04-26   -0.0221\n",
       "2021-04-27   -0.0142\n",
       "2021-04-28   -0.0419\n",
       "2021-04-29   -0.0343\n",
       "2021-04-30    0.0374\n",
       "Name: PnL, Length: 1000, dtype: float64"
      ]
     },
     "execution_count": 6,
     "metadata": {},
     "output_type": "execute_result"
    }
   ],
   "source": [
    "amostra_PnL = df_metrics.PnL.iloc[len(df_metrics)-1000:len(df_metrics)]\n",
    "amostra_PnL"
   ]
  },
  {
   "cell_type": "code",
   "execution_count": 7,
   "metadata": {},
   "outputs": [
    {
     "data": {
      "image/png": "[encoded data removed]",
      "text/plain": [
       "<Figure size 432x288 with 1 Axes>"
      ]
     },
     "metadata": {
      "needs_background": "light"
     },
     "output_type": "display_data"
    }
   ],
   "source": [
    "# Histograma da amostra de 1000 dias\n",
    "plt.hist(amostra_PnL, density=False, bins=50)\n",
    "plt.ylabel('Frequência')\n",
    "plt.xlabel('PnL');"
   ]
  },
  {
   "cell_type": "code",
   "execution_count": 8,
   "metadata": {},
   "outputs": [
    {
     "data": {
      "text/plain": [
       "Text(0.5, 1.0, 'Histograma')"
      ]
     },
     "execution_count": 8,
     "metadata": {},
     "output_type": "execute_result"
    },
    {
     "data": {
      "image/png": "[encoded data removed]",
      "text/plain": [
       "<Figure size 432x288 with 1 Axes>"
      ]
     },
     "metadata": {
      "needs_background": "light"
     },
     "output_type": "display_data"
    }
   ],
   "source": [
    "import scipy.stats as st\n",
    "bins = 50\n",
    "plt.hist(amostra_PnL, density=True, bins=bins, label=\"Dados\")\n",
    "xmin, xmax = plt.xlim()\n",
    "mu, sigma = st.norm.fit(amostra_PnL)\n",
    "x = np.linspace(xmin, xmax, 100)\n",
    "curve = st.norm.pdf(x, mu, sigma)\n",
    "plt.plot(x, curve, label=\"PDF\")\n",
    "plt.legend(loc=\"upper left\")\n",
    "plt.ylabel('Densidade')\n",
    "plt.xlabel('PnL')\n",
    "plt.title(\"Histograma\")"
   ]
  },
  {
   "cell_type": "markdown",
   "metadata": {},
   "source": [
    "Para obter o VaR, basta buscar o percentil desejado $\\alpha$:"
   ]
  },
  {
   "cell_type": "code",
   "execution_count": 9,
   "metadata": {},
   "outputs": [
    {
     "name": "stdout",
     "output_type": "stream",
     "text": [
      "VaR 99% = R$ 0.13\n"
     ]
    }
   ],
   "source": [
    "alpha = 0.01\n",
    "var = amostra_PnL.quantile(alpha)\n",
    "print(\"VaR 99% = R$ \" + \"{:.2f}\".format(- var))"
   ]
  },
  {
   "cell_type": "markdown",
   "metadata": {},
   "source": [
    "Para obter o ES, basta calcular a média dos valores abaixo do VaR:"
   ]
  },
  {
   "cell_type": "code",
   "execution_count": 10,
   "metadata": {},
   "outputs": [
    {
     "data": {
      "text/plain": [
       "date\n",
       "2020-03-13   -0.14705\n",
       "2020-04-09   -0.13440\n",
       "2020-04-29   -0.13920\n",
       "2020-06-03   -0.20850\n",
       "2020-07-21   -0.13520\n",
       "2020-11-05   -0.13080\n",
       "2020-11-09   -0.24920\n",
       "2021-01-13   -0.15670\n",
       "2021-03-04   -0.13340\n",
       "2021-03-11   -0.15590\n",
       "Name: PnL, dtype: float64"
      ]
     },
     "execution_count": 10,
     "metadata": {},
     "output_type": "execute_result"
    }
   ],
   "source": [
    "amostra_es = amostra_PnL[amostra_PnL <= var]\n",
    "amostra_es"
   ]
  },
  {
   "cell_type": "code",
   "execution_count": 12,
   "metadata": {},
   "outputs": [
    {
     "name": "stdout",
     "output_type": "stream",
     "text": [
      "ES 99% = R$ 0.16\n"
     ]
    }
   ],
   "source": [
    "es = amostra_PnL[amostra_PnL <= var].mean()\n",
    "print(\"ES 99% = R$ \" + \"{:.2f}\".format(-es))"
   ]
  },
  {
   "cell_type": "markdown",
   "metadata": {},
   "source": [
    "### 5. Exercícios<a class=\"anchor\" id=\"5\"></a>"
   ]
  },
  {
   "cell_type": "markdown",
   "metadata": {},
   "source": [
    "1. É possível o ES apresentar um valor menor (em módulo) que o VaR:   \n",
    "a) sob o mesmo nível de confiança?   \n",
    "b) sob um nível de confiança maior (ex: ES 95% e VaR 99%)?   \n",
    "c) sob um nível de confiança menor (ex: ES 99% e VaR 95%)?"
   ]
  },
  {
   "cell_type": "markdown",
   "metadata": {},
   "source": [
    "Resposta aqui"
   ]
  },
  {
   "cell_type": "markdown",
   "metadata": {},
   "source": [
    "2. Calcule o VaR histórico com nível de confiança de 95% e HP=1, para a última data disponível de USD Spot (30/04/2021), utilizando uma amostra de 500 dias."
   ]
  },
  {
   "cell_type": "code",
   "execution_count": 32,
   "metadata": {},
   "outputs": [],
   "source": [
    "# Resposta aqui "
   ]
  },
  {
   "cell_type": "markdown",
   "metadata": {},
   "source": [
    "3. Calcule o ES histórico com nível de confiança de 97,5% e HP=1, para a última data disponível de USD Spot (30/04/2021), utilizando uma amostra de 1000 dias."
   ]
  },
  {
   "cell_type": "code",
   "execution_count": null,
   "metadata": {},
   "outputs": [],
   "source": [
    "# Resposta aqui"
   ]
  },
  {
   "cell_type": "markdown",
   "metadata": {},
   "source": [
    "4. Calcule a série temporal de VaR 99% e 97,5%, com HP=1, utilizando uma amostra de 1000 dias para todas as datas possíveis.   \n",
    "Dica: Há 2844 dias com preços na base, removendo HP=1 para cálculo do primeiro retorno e 1000 para amostra do 1º VaR, teremos como resultado uma série de VaRs de tamanho 1843."
   ]
  },
  {
   "cell_type": "code",
   "execution_count": 9,
   "metadata": {},
   "outputs": [],
   "source": [
    "# Resposta aqui"
   ]
  },
  {
   "cell_type": "markdown",
   "metadata": {},
   "source": [
    "### 6. Referências bibliográficas<a class=\"anchor\" id=\"6\"></a>\n",
    "\n",
    "Didáticos:   \n",
    "- [Pedro A. Moretin, Econometria financeira: um curso em séries temporais financeiras](https://books.google.com.br/books/about/Econometria_financeira.html?id=I3i5DwAAQBAJ&source=kp_book_description&redir_esc=y)\n",
    "- [Philippe Jorion, Value at Risk](https://merage.uci.edu/~jorion/VAR/)\n",
    "\n",
    "Normas de reguladores:\n",
    "- [BCB, 2017, Resolução 4.557](https://www.bcb.gov.br/pre/normativos/busca/downloadNormativo.asp?arquivo=/Lists/Normativos/Attachments/50344/Res_4557_v2_L.pdf)\n",
    "- [BCB, 2013, Circular 3.646](https://www.bcb.gov.br/htms/Normativ/CIRCULAR3646.pdf)\n",
    "- [BCB, 2018, Circular 3.876](https://www.bcb.gov.br/estabilidadefinanceira/exibenormativo?tipo=Circular&numero=3876)\n",
    "- [BIS, 2019, Minimum capital requirements for market risk (FRTB)](https://www.bis.org/bcbs/publ/d457.pdf)"
   ]
  },
  {
   "cell_type": "code",
   "execution_count": null,
   "metadata": {},
   "outputs": [],
   "source": []
  }
 ],
 "metadata": {
  "kernelspec": {
   "display_name": "Python 3 (ipykernel)",
   "language": "python",
   "name": "python3"
  },
  "language_info": {
   "codemirror_mode": {
    "name": "ipython",
    "version": 3
   },
   "file_extension": ".py",
   "mimetype": "text/x-python",
   "name": "python",
   "nbconvert_exporter": "python",
   "pygments_lexer": "ipython3",
   "version": "3.9.7"
  }
 },
 "nbformat": 4,
 "nbformat_minor": 4
}
