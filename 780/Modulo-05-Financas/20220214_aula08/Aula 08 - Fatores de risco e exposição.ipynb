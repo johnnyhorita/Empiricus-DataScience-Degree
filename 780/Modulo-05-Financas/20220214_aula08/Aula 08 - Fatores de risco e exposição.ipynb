{
 "cells": [
  {
   "cell_type": "markdown",
   "metadata": {},
   "source": [
    "# Exposição a Fatores de Risco\n",
    "\n",
    "Após completar este capítulo, você será capaz de:\n",
    "\n",
    "- Compreender o que são fatores de risco\n",
    "- Compreender o que é exposição a risco\n",
    "- Calcular exposição a risco\n",
    "- Compreender o que são as Gregas e sua relação com a exposição a fatores de risco\n",
    "\n",
    "## 1. Fator de risco\n",
    "\n",
    "Um fator de risco de um produto ou portfólio é uma fonte de risco e retorno. É uma variável de mercado que apresenta alguma incerteza sobre seus valores futuros.\n",
    "\n",
    "**Exemplo**\n",
    "\n",
    "Suponha que você possui um contrato a termo de dólar com notional de R\\\\$1.000,00 e vencimento em 3 meses. Para estimarmos o valor de mercado (MtM) deste contrato, precisamos projetar o valor futuro do dólar e descontá-lo a valor presente.\n",
    "\n",
    "$$ MtM = Notional \\cdot Spot_{USD} \\cdot \\frac{Fator_{CupomUSD}}{Fator_{Pré}} $$\n",
    "\n",
    "O seu contrato a termo não é uma variável de mercado, comum a todos os participantes, portanto, não poderia ser utilizado como fator de risco. Contudo, podemos identificar, através da equação de preço acima, seus fatores de risco.\n",
    "\n",
    "- Notional: é uma variável cadastral e fixa, definida em contrato. Portanto, não é uma fonte de risco;\n",
    "- $Spot_{USD}$: é o preço a vista da moeda USD; é uma variável de mercado e possui incerteza sobre seus valores futuros;\n",
    "- $Fator_{CupomUSD}$: é o fator que representa o diferencial entre as taxas básicas de juros entre o Brasil e os EUA. Também apresenta incerteza e pode ser calculada a partir do mercado;\n",
    "- $Fator_{Pré}$: é o fator de juros da taxa livre de risco brasileira e apresenta incerteza sobre seus valores futuros.\n",
    "\n",
    "Portanto, podemos identificar os seguintes fatores de risco para um contrato a termo de USD: \n",
    "\n",
    "$$ Spot_{USD}, Fator_{CupomUSD} e Fator_{Pré} $$"
   ]
  },
  {
   "cell_type": "markdown",
   "metadata": {},
   "source": [
    "## 2. Exposição\n",
    "Exposição é a quantidade de valor financeiro que pode ser perdida devido aos riscos associados a um determinado fator de risco.\n",
    "\n",
    "**Exemplo**\n",
    "\n",
    "Suponha ainda que as variáveis pssuam os seguites valores hoje:\n",
    "\n",
    "- $Spot_{USD}$ = 5,10;\n",
    "- $Fator_{CupomUSD}$: 1,01;\n",
    "- $Fator_{Pré}$: 1,06.\n",
    "\n",
    "\n",
    "Logo, seu contrato a termo de USD vale: \n",
    "\n",
    "$$ MtM = 1000 \\cdot 5,10 \\cdot \\frac{1,01}{1,06} $$\n",
    "$$ MtM = R\\$4.859,43 $$\n",
    "\n",
    "Então, este é o valor que você está exposto em cada um dos fatores de risco identificados acima.\n",
    "\n",
    "Agora, imagine que o valor do dólar a vista caia 20\\% para R\\$4,08, enquanto os fatores de juros seguem os mesmos. Qual seria o impacto no contrato?\n",
    "\n",
    "$$ MtM_{simulado} = 1000 \\cdot 4,08 \\cdot \\frac{1,01}{1,06} $$\n",
    "$$ MtM_{simulado} = R\\$3.887,55 $$\n",
    "\n",
    "O valor do contrato a termo cairia 4.859,43 - 3.887,55 = 971,88.\n",
    "Veja que este valor equivale a uma variação relativa de: 971,88/4.859,43 = 20\\%. Ou seja, a mesma variação observada no valor do dólar a vista.\n",
    "\n",
    "Desta forma, podemos estimar perdas potenciais num contrato (ou num portfólio) a partir das variações dos fatores de risco. Neste caso, ao invés de recalcular o preço simulado da carteira, poderíamos aplicar a variação projetada do dólar de 20\\% diretamente sobre a exposição em carteira:\n",
    "\n",
    "$$ Perda Potencial = 20\\% \\cdot 4.859,43 = R\\$ 971,88 $$\n",
    "\n",
    "Esta relação ocorre neste tipo de contrato, pois o preço deste derivativo é **linear** em função do spot. Esta relação não ocorre para opções e outros derivativos exóticos que não apresentem relação linear (são chamados de derivativos não lineares). Para estimar perdas potenciais de portfólios com opções, as exposições a fatores de risco são mensuradas pelas **gregas**.\n",
    "\n",
    "\n"
   ]
  },
  {
   "cell_type": "markdown",
   "metadata": {},
   "source": [
    "## 3. Gregas\n",
    "\n",
    "Vimos anteriormente que o preço de uma opção depende de uma série de parâmetros. Uma pergunta muito comum (principalmente para gestores de risco) é: o que acontece com o valor da minha opção (ou da minha carteira de opções) quando há variações nesses parâmetros? Ou ainda: qual é risco a que um portfólio está submetido em razão das variações de mercado?\n",
    "\n",
    "Uma parte da resposta a essa pergunta está relacionada com uma série de quantidades, quase sempre representadas por letras gregas, que medem a sensibilidade da opção com relação a seus parâmetros mais comuns. Essas quantidades são chamadas de **gregas** da opção.\n",
    "\n",
    "As gregas são obtidas pelo cálculo das derivadas parciais do preço da opção com relação a um (ou mais) de seus parâmetros. No modelo B&S, que possui fórmula fechada e diferenciável, há solução analítica para o cálculo das gregas. Em outros casos, muitas vezes é preciso recorrer a técnicas de derivação numérica para encontar seus valores. \n",
    "\n",
    "![Tabela gregas](Imagens/06_08_Tabela_gregas.png)\n",
    "\n",
    "Tabela de equações das gregas no modelo de Black-Scholes (Fonte: Hull, 2016).\n",
    "![Tabela gregas](Imagens/06_09_Tabela_gregas_BS.png)\n",
    "\n",
    "Vejamos na figura abaixo a representação gráfica do conceito do Delta. Ele representa o coeficiente angular do preço da opção em função do preço spot do ativo objeto. Em outras palavras, quanto a variação do spot vai afetar o preço da opção. Na figura, o Delta possui um valor de 0,6, significa que uma variação no spot impacta em 60% o preço da opção.\n",
    "\n",
    "![Delta slope](Imagens/08_01_Delta_Slope.png)\n",
    "\n",
    "**Exemplo**\n",
    "\n",
    "Suponha que um investidor vendeu 2.000 opções de compra (*calls*) de uma ação que vale R\\\\$10,00 e gostaria de neutralizar sua exposição à ação. Suponha ainda que o preço de cada opção é R\\\\$1,00 e o Delta dessas opções hoje vale 0,5. \n",
    "\n",
    "Neste caso, para neutralizar o risco, bastaria ele comprar: $2.000 \\cdot 0,5 = 1.000$ ações. Veja que não precisamos utilizar o preço da opção, nem o preço da ação para identificar a quantidade de ações a ser comprada. Utilizamos apenas o Delta e a quantidade de opções.\n",
    "\n",
    "Desta forma, se a ação desvalorizar R\\\\$0,50, ele terá uma desvalorização total nas ações de R\\\\$500,00, mas por outro lado, terá um ganho nas calls, que terão desvalorizado R\\\\$0,25. Como o investidor vendeu 2.000 ações, essa desvalorização gerará um lucro de R\\$500,00. Portanto, o resultado teve um *hedge* com sucesso e o resultado foi neutralizado. Esta técnica é conhecida com ***delta hedging***.\n",
    "\n",
    "Esta estratégia, apesar de muito utilizada no mercado, não é perfeita, pois não considera outros fatores de risco como a volatilidade, o prazo, entre outros. Além disso, o Delta também varia ao longo do tempo, de forma que o portfólio de hedge deve ser rebalanceado e isto pode gerar custos transacionais que superem o resultado ganho."
   ]
  },
  {
   "cell_type": "code",
   "execution_count": null,
   "metadata": {},
   "outputs": [],
   "source": []
  }
 ],
 "metadata": {
  "kernelspec": {
   "display_name": "Python 3 (ipykernel)",
   "language": "python",
   "name": "python3"
  },
  "language_info": {
   "codemirror_mode": {
    "name": "ipython",
    "version": 3
   },
   "file_extension": ".py",
   "mimetype": "text/x-python",
   "name": "python",
   "nbconvert_exporter": "python",
   "pygments_lexer": "ipython3",
   "version": "3.9.7"
  }
 },
 "nbformat": 4,
 "nbformat_minor": 4
}
