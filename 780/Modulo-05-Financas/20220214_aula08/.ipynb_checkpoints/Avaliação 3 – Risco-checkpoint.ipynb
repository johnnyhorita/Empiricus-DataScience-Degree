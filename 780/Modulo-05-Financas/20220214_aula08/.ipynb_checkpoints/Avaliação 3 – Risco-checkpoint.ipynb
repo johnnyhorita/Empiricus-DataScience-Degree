{
 "cells": [
  {
   "cell_type": "markdown",
   "id": "38c769f8",
   "metadata": {},
   "source": [
    "# Avaliação 3 – Risco\n",
    "## Construção de uma calculadora de retornos e VaR em Python\n",
    "\n",
    "Data prevista de entrega: 10/01/2022\n",
    "\n",
    "Formato de envio: arquivo .py conforme instruções a seguir.\n",
    "- Pode fazer orientado a objetos ou funcional;\n",
    "- Pode construir quantos métodos/classes/funções adicionais desejarem;\n",
    "- Pode utilizar bibliotecas abertas;\n",
    "- O arquivo deve conter as funções solicitadas e os cenários de teste (pelo menos um teste para cada função/método);\n",
    "- Comente as funções e o que mais achar necessário no código;\n",
    "\n",
    "A nota da avaliação considerará apenas o resultado das funções desejadas (existência de bugs, bom funcionamento, etc);<br>\n",
    "Na avaliação qualitativa, faremos comentários de melhorias na estrutura do código (para fins de evolução de aprendizado, e não para reduzir nota).<br>\n",
    "\n",
    "### Funções/métodos mínimos de entrega:\n",
    "- calcula_retorno(pandas serie_precos, holding_period)\n",
    "    - Retorna: retorno simples (pd.Dataframe)\n",
    "\n",
    "\n",
    "- calcula_log_retorno(pandas serie_precos, holding_period)\n",
    "    - Retorna: log-retorno (pd.Dataframe)\n",
    "\n",
    "\n",
    "- calcula_var(pandas serie_retornos, alpha, vlr_carteira_atual)\n",
    "    - Retorna VaR (float)\n",
    "\n",
    "\n",
    "- calcula_es(pandas serie_retornos, alpha, vlr_carteira_atual)\n"
   ]
  },
  {
   "cell_type": "code",
   "execution_count": null,
   "id": "2579174e",
   "metadata": {},
   "outputs": [],
   "source": []
  },
  {
   "cell_type": "code",
   "execution_count": null,
   "id": "0a06b5b0",
   "metadata": {},
   "outputs": [],
   "source": []
  },
  {
   "cell_type": "code",
   "execution_count": null,
   "id": "582ba89b",
   "metadata": {},
   "outputs": [],
   "source": []
  },
  {
   "cell_type": "code",
   "execution_count": null,
   "id": "55da8932",
   "metadata": {},
   "outputs": [],
   "source": []
  }
 ],
 "metadata": {
  "kernelspec": {
   "display_name": "Python 3 (ipykernel)",
   "language": "python",
   "name": "python3"
  },
  "language_info": {
   "codemirror_mode": {
    "name": "ipython",
    "version": 3
   },
   "file_extension": ".py",
   "mimetype": "text/x-python",
   "name": "python",
   "nbconvert_exporter": "python",
   "pygments_lexer": "ipython3",
   "version": "3.8.12"
  }
 },
 "nbformat": 4,
 "nbformat_minor": 5
}
