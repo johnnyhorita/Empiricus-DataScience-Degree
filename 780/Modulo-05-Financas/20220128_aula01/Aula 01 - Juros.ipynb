{
 "cells": [
  {
   "cell_type": "markdown",
   "metadata": {},
   "source": [
    "# Juros\n",
    "\n",
    "Após completar este capítulo, você será capaz de:\n",
    "\n",
    "- Calcular juros simples e juros compostos\n",
    "- Compreender o conceito de valor futuro e valor presente\n",
    "- Calcular equivalência de taxas em diferentes períodos\n",
    "- Distinguir a capitalização simples e composta"
   ]
  },
  {
   "cell_type": "markdown",
   "metadata": {},
   "source": [
    "Juros é a remuneração sobre o capital cobrada pelo empréstimo do dinheiro. É calculado sobre um período de tempo (em que o capital foi emprestado). Pode ser calculado de duas formas: simples ou composto.\n",
    "\n",
    "## 1. Juros Simples\n",
    "\n",
    "Juros simples são a forma mais intuitiva para se calcular os juros sobre um capital. \n",
    "\n",
    "O juros simples $J$ pode ser calculado da seguinte forma:\n",
    "\n",
    "$$ J = C \\cdot i \\cdot n$$\n",
    "\n",
    "Onde:\n",
    "\n",
    "- $C = $ quantia inicial (capital)\n",
    "- $i = $ taxa de juros (em percentual)\n",
    "- $n = $ período de tempo\n",
    "- $M = $ montante (capital inicial mais os juros)\n",
    "\n",
    "O **montante** $M$ também é conhecido por **Valor Futuro** ou $FV$.\n",
    "\n",
    "O **capital** $C$ também é conhecido por **Valor Presente** ou $PV$.\n",
    "\n",
    "A partir desta mesma relação, podemos reescrever de forma a obter as outras informações:\n",
    "\n",
    "$$ C = \\frac{J}{i \\cdot n}$$\n",
    "$$ i = \\frac{J}{C \\cdot n}$$\n",
    "$$ n = \\frac{J}{C \\cdot i}$$\n",
    "$$ M = C + J$$\n",
    "$$ M = C \\cdot (1 + i \\cdot n)$$\n",
    "$$ C = \\frac{M}{(1 + i \\cdot n)}$$"
   ]
  },
  {
   "cell_type": "markdown",
   "metadata": {},
   "source": [
    "**Exemplo 1**\n",
    "\n",
    "*Quanto Julia resgastou, após ter aplicado R$ 20.000,00 por 3 meses, no regime de capitalização simples, à taxa de 5% ao mês?*\n"
   ]
  },
  {
   "cell_type": "code",
   "execution_count": 3,
   "metadata": {},
   "outputs": [
    {
     "name": "stdout",
     "output_type": "stream",
     "text": [
      "Montante: 23000.0\n"
     ]
    }
   ],
   "source": [
    "\n",
    "c = 20_000 #quantia inicial (capital)\n",
    "i = 0.05 #taxa de juros (em percentual)\n",
    "n = 3 # período de tempo\n",
    "#m = montante (capital inicial mais os juros)\n",
    "\n",
    "m = c * (1 + i*n)\n",
    "print(f'Montante: {m}')"
   ]
  },
  {
   "cell_type": "markdown",
   "metadata": {},
   "source": [
    "**Exemplo 2**\n",
    "\n",
    "*Fernando tomou um valor emprestado com um amigo, a uma taxa de 2,5% a.m. Sabendo que depois de 5 meses ele teve que pagar R$ 1.125,00, qual foi o valor que Fernando pegou emprestado?*\n"
   ]
  },
  {
   "cell_type": "code",
   "execution_count": 4,
   "metadata": {},
   "outputs": [
    {
     "name": "stdout",
     "output_type": "stream",
     "text": [
      "Capital: 1000.0, Juros: 125.0\n"
     ]
    }
   ],
   "source": [
    "\n",
    "m = 1125.00\n",
    "i = 2.5/100\n",
    "n = 5\n",
    "\n",
    "c = m/(1+ i*n)\n",
    "j = m-c\n",
    "\n",
    "print(f'Capital: {c}, Juros: {j}')\n"
   ]
  },
  {
   "cell_type": "markdown",
   "metadata": {},
   "source": [
    "## Exercícios\n",
    "\n",
    "1. Lista 1 - Juros Simples (Class)"
   ]
  },
  {
   "cell_type": "markdown",
   "metadata": {},
   "source": [
    "\n",
    "## 2. Juros compostos\n",
    "Nos juros compostos, o rendimento é incorporado ao capital a cada periodo. Este efeito muitas vezes é identificado por \"juros sobre juros\".\n",
    "\n",
    "Os juros compostos $J$ podem ser calculado da seguinte forma:\n",
    "\n",
    "$$ M = C \\cdot (1 + i)^n$$\n",
    "\n",
    "Onde:\n",
    "\n",
    "- $C = $ quantia inicial (capital)\n",
    "- $i = $ taxa de juros (em percentual)\n",
    "- $n = $ período de tempo\n",
    "- $M = $ montante (capital inicial mais os juros)\n",
    "\n",
    "Ou também podemos escrever na seguinte nomenclatura:\n",
    "\n",
    "$$ VF = VP \\cdot (1 + i)^n$$\n",
    "\n",
    "Onde:\n",
    "\n",
    "- $FV = $ valor futuro (*future value*)\n",
    "- $PV = $ valor presente (*present value*)\n",
    "\n",
    "A expressão:\n",
    "\n",
    "$$ (1 + i)^n$$\n",
    "\n",
    "também é chamada de **fator de atualização**.\n",
    "\n",
    "A partir desta mesma relação, podemos reescrever de forma a obter as outras informações, como o valor dos juros em si:\n",
    "\n",
    "$$ C = \\frac{M}{(1 + i)^n}$$\n",
    "$$ J = M - C $$\n",
    "$$ J = C \\cdot (1 + i)^n - C$$\n",
    "$$ J = C \\cdot [(1 + i)^n - 1]$$"
   ]
  },
  {
   "cell_type": "markdown",
   "metadata": {},
   "source": [
    "**Exemplo 1**\n",
    "\n",
    "*Quanto resgatarei se aplicar R$ 1.500,00 por 7 meses? Sabendo que a taxa é de 2% a.m.*"
   ]
  },
  {
   "cell_type": "code",
   "execution_count": 7,
   "metadata": {},
   "outputs": [
    {
     "data": {
      "text/plain": [
       "1723.03"
      ]
     },
     "execution_count": 7,
     "metadata": {},
     "output_type": "execute_result"
    }
   ],
   "source": [
    "c = 1500 # quantia inicial (capital)\n",
    "i = 0.02 # taxa de juros (em percentual)\n",
    "n = 7 # período de tempo\n",
    "#M = #  montante (capital inicial mais os juros)\n",
    "\n",
    "m = c*(1 + i)**n\n",
    "\n",
    "round(m,2)\n"
   ]
  },
  {
   "cell_type": "markdown",
   "metadata": {},
   "source": [
    "**Exemplo 2**\n",
    "\n",
    "*Gustavo possui R$ 200,00 em sua aplicação. Sabendo que a taxa de juros foi de 0,65% a.m. Quanto Gustavo aplicou há 12 meses atrás?*"
   ]
  },
  {
   "cell_type": "code",
   "execution_count": 10,
   "metadata": {},
   "outputs": [
    {
     "data": {
      "text/plain": [
       "185.04"
      ]
     },
     "execution_count": 10,
     "metadata": {},
     "output_type": "execute_result"
    }
   ],
   "source": [
    "m = 200\n",
    "i = 0.65/100\n",
    "n = 12\n",
    "c = m/(1+i)**n\n",
    "\n",
    "round(c,2)"
   ]
  },
  {
   "cell_type": "markdown",
   "metadata": {},
   "source": [
    "## 3. Equivalência de taxas \n",
    "\n",
    "A taxa de juros sempre é mensurada para um dado período. O período pode ser ao ano (a.a.), ao mês (a.m.), ao dia (a.d.), ou qualquer outro período estabelecido.\n",
    "\n",
    "Caso você possua uma taxa definida em um período (por exemplo, ao ano), mas precise calcular o juros por um prazo definido de outra forma (por exemplo, ao mês), é necessário realizar a converão dessas taxas. \n",
    "\n",
    "A conversão será realizada de acordo com a capitalização dos juros. Ou seja, para juros compostos, a conversão é diferente de juros simples, como veremos a seguir.\n",
    "\n",
    "### 3.1. Capitalização Simples\n",
    "\n",
    "Para taxas com capitalização simples, a conversão é realizada da seguinte forma:\n",
    "\n",
    "$$ i_{desejada} = i_{original} \\cdot  \\frac{n_{desejado}}{n_{original}} $$\n",
    "\n",
    "Em que:\n",
    "\n",
    "- $i_{desejada}$ é a taxa definida ao período desejado;\n",
    "- $i_{original}$ é a taxa definida ao período original;\n",
    "- $n_{desejado}$ é o prazo do período desejado;\n",
    "- $n_{original}$ é o prazo do período original;"
   ]
  },
  {
   "cell_type": "markdown",
   "metadata": {},
   "source": [
    "**Exemplo 1**\n",
    "\n",
    "*Se temos uma taxa de 24% a.a., qual a taxa equivalente definida ao mês?*"
   ]
  },
  {
   "cell_type": "code",
   "execution_count": 15,
   "metadata": {},
   "outputs": [
    {
     "name": "stdout",
     "output_type": "stream",
     "text": [
      "2.0%\n"
     ]
    }
   ],
   "source": [
    "i_aa = 0.24\n",
    "i_am = i_aa * 1 / 12\n",
    "\n",
    "i_am\n",
    "\n",
    "print(f'{round(i_am * 100,2)}%')\n"
   ]
  },
  {
   "cell_type": "markdown",
   "metadata": {},
   "source": [
    "**Exemplo 2**\n",
    "\n",
    "*Se temos uma taxa de 0,1% a.d., qual a taxa equivalente definida ao semestre?*"
   ]
  },
  {
   "cell_type": "code",
   "execution_count": 14,
   "metadata": {},
   "outputs": [
    {
     "name": "stdout",
     "output_type": "stream",
     "text": [
      "18.0%\n"
     ]
    }
   ],
   "source": [
    "\n",
    "i_ad = 0.1/100\n",
    "i_as = i_ad * (6* 30)/1\n",
    "\n",
    "print(f'{round(i_as * 100,2)}%')"
   ]
  },
  {
   "cell_type": "markdown",
   "metadata": {},
   "source": [
    "### 3.2. Capitalização Composta\n",
    "\n",
    "Para taxas com capitalização composta, a conversão é realizada da seguinte forma:\n",
    "\n",
    "$$ i_{desejada} = [(1 + i_{original})^{ \\frac{n_{desejado}}{n_{original}} } - 1] \\cdot 100\\%$$\n",
    "\n",
    "Em que:\n",
    "\n",
    "- $i_{desejada}$ é a taxa definida ao período desejado;\n",
    "- $i_{original}$ é a taxa definida ao período original;\n",
    "- $n_{desejado}$ é o prazo do período desejado;\n",
    "- $n_{original}$ é o prazo do período original;"
   ]
  },
  {
   "cell_type": "markdown",
   "metadata": {},
   "source": [
    "**Exemplo 1**\n",
    "\n",
    "*Se temos uma taxa de 24% a.a., qual a taxa equivalente definida ao mês?*"
   ]
  },
  {
   "cell_type": "code",
   "execution_count": 16,
   "metadata": {},
   "outputs": [
    {
     "name": "stdout",
     "output_type": "stream",
     "text": [
      "1.81%\n"
     ]
    }
   ],
   "source": [
    "\n",
    "i_aa = 0.24\n",
    "\n",
    "i_am = (1 + i_aa) ** (1/12) - 1\n",
    "\n",
    "print(f'{round(i_am * 100,2)}%')\n"
   ]
  },
  {
   "cell_type": "markdown",
   "metadata": {},
   "source": [
    "**Exemplo 2**\n",
    "\n",
    "*Se temos uma taxa de 0,1% a.d., qual a taxa equivalente definida ao semestre?*"
   ]
  },
  {
   "cell_type": "code",
   "execution_count": 17,
   "metadata": {},
   "outputs": [
    {
     "name": "stdout",
     "output_type": "stream",
     "text": [
      "19.71%\n"
     ]
    }
   ],
   "source": [
    "\n",
    "\n",
    "i_ad = 0.1/100\n",
    "\n",
    "i_as = (1 + i_ad) ** (6*30) - 1\n",
    "\n",
    "print(f'{round(i_as * 100,2)}%')\n"
   ]
  },
  {
   "cell_type": "markdown",
   "metadata": {},
   "source": [
    "## 4. Comparação dos regimes de capitalização\n",
    "\n",
    "Suponha que você possui um investimento com valor inicial de R$100,00 que rende 10% ao mês na capitalização simples. Quanto terá acumulado ao final de 12 meses?\n",
    "\n",
    "$$ M = 100,00 * (1 + 10\\% \\cdot 12) $$\n",
    "$$ M = 220,00 $$\n",
    "\n",
    "Veja que os juros são equivalentes a 10\\% $\\cdot$ R100,00 = 10,00 por mês. É como se tivéssemos somando 10,00 a cada um dos 12 meses de investimento, resultando portanto em 120,00 de juros totais no período.\n",
    "\n",
    "Caso seu investimento fosse capitalizado por juros compostos, pela mesma taxa, quanto teria rendido ao final do mesmo período?\n",
    "\n",
    "$$ M = 100,00 * (1 + 10\\%)^{12} $$\n",
    "$$ M = 313,84 $$\n",
    "\n",
    "Neste caso, é como se o capital fosse atualizado a cada mês com a adição dos juros recebidos. Portanto, o valor dos juros pagos a cada mês varia (e é crescente!)."
   ]
  },
  {
   "cell_type": "markdown",
   "metadata": {},
   "source": [
    "\n",
    "![Comparação de taxas equivalentes](Imagens/01_01_Juros_Compara.jpg)"
   ]
  },
  {
   "cell_type": "code",
   "execution_count": 18,
   "metadata": {},
   "outputs": [],
   "source": [
    "import pandas as pd\n",
    "\n",
    "# Juros simples\n",
    "def calcula_juros_simples(C, taxa, prazo):\n",
    "    tabela_juros = pd.DataFrame(columns=['Juros', 'Montante'])\n",
    "    for n in range(prazo + 1):\n",
    "        \n",
    "        tabela_juros.loc[n, 'Juros'] = C*n*taxa\n",
    "        tabela_juros.loc[n, 'Montante'] = C*(1 + n*taxa)\n",
    "    print(tabela_juros)\n",
    "\n",
    "# Juros compostos\n",
    "def calcula_juros_compostos(C, taxa, prazo):\n",
    "    tabela_juros = pd.DataFrame(columns=['Juros', 'Montante'])\n",
    "    for n in range(prazo + 1):\n",
    "        \n",
    "        tabela_juros.loc[n, 'Juros'] = C*((1 + taxa)**n - 1)\n",
    "        tabela_juros.loc[n, 'Montante'] = C*(1 + taxa)**n\n",
    "    print(tabela_juros)\n",
    "    "
   ]
  },
  {
   "cell_type": "code",
   "execution_count": 20,
   "metadata": {},
   "outputs": [
    {
     "name": "stdout",
     "output_type": "stream",
     "text": [
      "    Juros Montante\n",
      "0     0.0    100.0\n",
      "1    10.0    110.0\n",
      "2    20.0    120.0\n",
      "3    30.0    130.0\n",
      "4    40.0    140.0\n",
      "5    50.0    150.0\n",
      "6    60.0    160.0\n",
      "7    70.0    170.0\n",
      "8    80.0    180.0\n",
      "9    90.0    190.0\n",
      "10  100.0    200.0\n",
      "11  110.0    210.0\n",
      "12  120.0    220.0\n"
     ]
    }
   ],
   "source": [
    "calcula_juros_simples(C=100, taxa=0.10, prazo=12)"
   ]
  },
  {
   "cell_type": "code",
   "execution_count": 24,
   "metadata": {},
   "outputs": [
    {
     "name": "stdout",
     "output_type": "stream",
     "text": [
      "         Juros    Montante\n",
      "0          0.0       100.0\n",
      "1         10.0       110.0\n",
      "2         21.0       121.0\n",
      "3         33.1       133.1\n",
      "4        46.41      146.41\n",
      "5       61.051     161.051\n",
      "6      77.1561    177.1561\n",
      "7     94.87171   194.87171\n",
      "8   114.358881  214.358881\n",
      "9   135.794769  235.794769\n",
      "10  159.374246  259.374246\n",
      "11  185.311671  285.311671\n",
      "12  213.842838  313.842838\n"
     ]
    }
   ],
   "source": [
    "calcula_juros_compostos(C=100, taxa=0.10, prazo=12)"
   ]
  },
  {
   "cell_type": "markdown",
   "metadata": {},
   "source": [
    "_______________________________________________________________________________"
   ]
  },
  {
   "cell_type": "markdown",
   "metadata": {},
   "source": [
    "Agora, surge uma nova dúvida: qual seria a taxa no regime simples equivalente a este rendimento de 10\\% por 12 meses no regime composto? Ou seja, Qual deveria ser a taxa simples que ao final de 12 meses, você receba os mesmos R$ 313,84 acumulados?\n",
    "\n",
    "Primeiramente, precisamos calcular a taxa do período desejado de 12 meses:\n",
    "\n",
    "$$ i_{a.a.} = [(1 + 10\\%)^{ \\frac{12}{1} } - 1] \\cdot 100\\%$$\n",
    "$$ i_{a.a.} = 213,84\\% $$\n",
    "\n",
    "Por fim, podemos encontrar a taxa ao mês no regime simples que equivale a 213,84% a.a.\n",
    "\n",
    "$$ i_{a.m.} = 213,84\\% \\cdot  \\frac{1}{12} $$\n",
    "$$ i_{a.m.} = 17,82\\% $$\n",
    "\n",
    "Portanto, a taxa a.m. simples que equivale a 10% a.m. no regime composto por um período de 1 ano é: 17,82%.\n",
    "\n",
    "\n",
    "**Conclusão**: Taxas **iguais** com capitalização diferente (simples e composta) não são **equivalentes**.\n"
   ]
  },
  {
   "cell_type": "markdown",
   "metadata": {},
   "source": [
    "**Como converter uma taxa mensal simples para uma taxa mensal composta, de forma que elas sejam equivalentes em 12 meses (1 ano)?**\n",
    "\n",
    "- i_am = taxa composta mensal\n",
    "- i_aa = taxa composta anual\n",
    "\n",
    "- r_am = taxa simples mensal\n",
    "- r_aa = taxa simples anual"
   ]
  },
  {
   "cell_type": "markdown",
   "metadata": {},
   "source": [
    "1º calculamos o fator composto ao ano (período de equivalencia das taxas)\n",
    "\n",
    "Ex: i_am = 10%, i_aa = ?\n",
    "    \n",
    "Fator composto (mensal -> anual):\n",
    "\n",
    "- (1 + i_am)^n_am = (1 + i_aa)^n_aa \n",
    "- (1 + i_am)^12   = (1 + i_aa)^1 \n",
    "- i_aa = (1 + i_am)^12  - 1\n",
    "- i_aa = 213%"
   ]
  },
  {
   "cell_type": "code",
   "execution_count": 28,
   "metadata": {},
   "outputs": [],
   "source": [
    "i_am = 0.1\n",
    "i_aa = (1 + i_am)**(12/1)-1\n",
    "i_aa # taxa no periodo desejado que qeru a equivalencia\n",
    "\n",
    "r_aa = i_aa # no perido de 12 meses quero que as taxas sejam iguais\n",
    "\n",
    "#(1+i*n) = (1+i)**n = (1+ i)\n",
    "\n",
    "#taxa mensal regime simples\n",
    "r_am = r_aa*1/12"
   ]
  },
  {
   "cell_type": "markdown",
   "metadata": {},
   "source": [
    "2º igualamos o fator anual composto com o simples\n",
    "- (1 + i_aa)^n_aa = (1 + r_aa*n_aa)\n",
    "- (1 + i_aa)^1    = (1 + r_aa*1)\n",
    "- (1 + i_aa)      = (1 + r_aa)\n",
    "- r_aa = i_aa\n",
    "\n",
    "Obs: veja que as taxas no período equivalente (neste exemplo de 12 meses) são iguais\n",
    "\n",
    "Ex: r_aa = i_aa = 213%"
   ]
  },
  {
   "cell_type": "code",
   "execution_count": 29,
   "metadata": {},
   "outputs": [],
   "source": [
    "\n",
    "r_aa = i_aa # no perido de 12 meses quero que as taxas sejam iguais\n",
    "\n",
    "\n",
    "#taxa mensal regime simples\n",
    "r_am = r_aa*1/12\n"
   ]
  },
  {
   "cell_type": "markdown",
   "metadata": {},
   "source": [
    "3º convertemos a taxa simples anual para mensal\n",
    "Ex: r_aa = 213%, i_am = ?\n",
    "\n",
    "- (1 + r_aa\\*n_aa) = (1 + r_am\\*n_am)\n",
    "- (1 + r_aa\\*1   ) = (1 + r_am\\*12)\n",
    "- r_am = r_aa/12\n",
    "- r_am = 17,82 \\%"
   ]
  },
  {
   "cell_type": "code",
   "execution_count": null,
   "metadata": {},
   "outputs": [],
   "source": []
  },
  {
   "cell_type": "markdown",
   "metadata": {},
   "source": [
    "-----------------------------------------"
   ]
  },
  {
   "cell_type": "markdown",
   "metadata": {},
   "source": [
    "A seguir temos um exemplo da mesma taxa em diferentes regimes de capitalização, ao longo de diversos prazos. Neste exemplo, as taxas são equivalentes para o período de 12 meses.\n",
    "\n",
    "![Comparação de taxas equivalentes](Imagens/01_01_Taxas_Equivalentes.png )\n",
    "\n",
    "Neste segundo exemplo, temos as taxas iguais (não equivalentes) nos dois regimes de capitalização ao longo de diferentes prazos.\n",
    "\n",
    "![Comparação de taxas iguais](Imagens/01_02_Taxas_Iguais.png )"
   ]
  },
  {
   "cell_type": "markdown",
   "metadata": {},
   "source": [
    "## Exercícios\n",
    "\n",
    "2. Lista 2 - Juros Compostos"
   ]
  },
  {
   "cell_type": "markdown",
   "metadata": {},
   "source": [
    "## Bibliotecas\n",
    "\n",
    "### Excel\n",
    "\n",
    "[Referência Microsoft](https://support.microsoft.com/pt-br/office/fun%C3%A7%C3%B5es-financeiras-refer%C3%AAncia-5658d81e-6035-4f24-89c1-fbf124c2b1d8)\n",
    "\n",
    "Principais funções:\n",
    "- VF(taxa,nper,pgto,[vp],[tipo]), calcula o valor futuro de um investimento com base em uma taxa de juros constante\n",
    "- VP(taxa, nper, pgto, [vf], [tipo]), calcula o valor presente de um empréstimo ou investimento com base em uma taxa de juros constante.\n",
    "- Taxa (nper, pgto, VP, [vf], [tipo], [suposição]), retorna a taxa de juros por período de anuidade\n",
    "- PGTO(taxa, nper, va, [vf], [tipo]), calcula o pagamento de um empréstimo de acordo com pagamentos constantes e com uma taxa de juros constante.\n",
    "- DURAÇÃOP(taxa, va, vf), retorna o número de períodos necessários para um investimento alcançar um valor especificado.\n",
    "\n",
    "### Python\n",
    "\n",
    "[Numpy Financial](https://numpy.org/numpy-financial/latest/)\n",
    "\n",
    "Principais funções:\n",
    "\n",
    "- fv(rate, nper, pmt, pv[, when]) Compute the future value.\n",
    "- ipmt(rate, per, nper, pv[, fv, when]) Compute the interest portion of a payment.\n",
    "- irr(values) Return the Internal Rate of Return (IRR).\n",
    "- mirr(values, finance_rate, reinvest_rate) Modified internal rate of return.\n",
    "- nper(rate, pmt, pv[, fv, when]) Compute the number of periodic payments.\n",
    "- npv(rate, values) Returns the NPV (Net Present Value) of a cash flow series.\n",
    "-  pmt(rate, nper, pv[, fv, when]) Compute the payment against loan principal plus interest.\n",
    "-  ppmt(rate, per, nper, pv[, fv, when]) Compute the payment against loan principal.\n",
    "- pv(rate, nper, pmt[, fv, when]) Compute the present value.\n",
    "- rate(nper, pmt, pv, fv[, when, guess, tol, …]) Compute the rate of interest per period."
   ]
  },
  {
   "cell_type": "markdown",
   "metadata": {},
   "source": [
    "## [Conteúdo adicional] Taxas contínuas\n",
    "\n",
    "Há uma terceira forma de capitalizar juros utilizando taxas contínuas. Este formato de taxas é utilizado em diveros modelos de apreçamento de produtos financeiros (que veremos nas próximas aulas), devido às vantagens das propriedades matemáticas do exponencial.\n",
    "\n",
    "A taxa contínua utiliza a premissa de que os juros são capitalizados de forma constante no tempo e são mensuradas pela expressão exponencial:\n",
    "\n",
    "$$ e^{r \\cdot t} = exp(r \\cdot t)$$\n",
    "\n",
    "Onde:\n",
    "\n",
    "- $e$ = número neperiano (ou exponencial)\n",
    "- $r$ = taxa contínua ao período\n",
    "- $t$ = período\n",
    "\n",
    "Comparando o fator de atualização do regime composto com o contínuo, temos:\n",
    "\n",
    "$$ (1 + i)^n = e^{r \\cdot t} $$\n",
    "\n",
    "Obs: $t$ e $n$ representam o prazo de capitalização, mas podem estar em períodos distintos. Por exmeplo: $i$ e $n$ definidos ao mês, enquanto $r$ e $t$ definidos ao ano.\n",
    "\n",
    "A partir da relação dos fatores acima, podemos calcular as taxas equivalentes:\n",
    "\n",
    "$$ ln(1 + i)^n = ln(e^{r \\cdot t}) $$\n",
    "$$ n \\cdot ln(1 + i) = r \\cdot t $$\n",
    "\n",
    "Supondo que ambas taxas e prazos sejama definidas no mesmo período, temos que $n$ = $t$ e:\n",
    "\n",
    "$$ r = ln(1 + i) $$\n",
    "\n",
    "E \n",
    "$$ e^r = 1 + i $$\n",
    "$$ i = e^r - 1 $$\n"
   ]
  },
  {
   "cell_type": "markdown",
   "metadata": {},
   "source": [
    "## Referências\n",
    "\n",
    "- NETO ASSAF, Alexandre. Matemática Financeira e suas Aplicações, Editora Atlas, 12ª edição, 2012.\n",
    "- Menezes, Marcio de. Matemática Financeira .IesdeBrasil, 2009.\n"
   ]
  }
 ],
 "metadata": {
  "kernelspec": {
   "display_name": "Python 3 (ipykernel)",
   "language": "python",
   "name": "python3"
  },
  "language_info": {
   "codemirror_mode": {
    "name": "ipython",
    "version": 3
   },
   "file_extension": ".py",
   "mimetype": "text/x-python",
   "name": "python",
   "nbconvert_exporter": "python",
   "pygments_lexer": "ipython3",
   "version": "3.8.12"
  }
 },
 "nbformat": 4,
 "nbformat_minor": 4
}
