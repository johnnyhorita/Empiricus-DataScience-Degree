{
 "cells": [
  {
   "cell_type": "markdown",
   "metadata": {},
   "source": [
    "# Finanças? 💰"
   ]
  },
  {
   "cell_type": "markdown",
   "metadata": {},
   "source": [
    "https://www.menti.com/xcy1ja4qpb\n",
    "\n",
    "![Mentimeter QR code](Imagens/00_00_mentimeter_qr_code.png)"
   ]
  },
  {
   "cell_type": "markdown",
   "metadata": {},
   "source": [
    "![Mapa mental de finanças](Imagens/00_01_Finanças_mapa.png)"
   ]
  },
  {
   "cell_type": "markdown",
   "metadata": {},
   "source": [
    "## 1. A professora 👩\n",
    "\n",
    "**Larissa dos Anjos Miyagi**\n",
    "\n",
    "- E-mail: larissamiyagi@gmail.com\n",
    "- Linkedin: https://www.linkedin.com/in/larissa-miyagi/\n",
    "\n",
    "Resumo acadêmico:\n",
    "\n",
    "- Bacharela em Matemática Aplicada e Computacional (IME-USP)\n",
    "- Pós-graduação em Produtos Financeiros e Gestão de Risco (FIA)\n",
    "- FRM candidate\n",
    "\n",
    "Resumo profissional:\n",
    "- Itaú Unibanco - Analista III de modelagem e estudos quantitativos\n",
    "- Itaú Unibanco - Analista III de validação de modelos de risco de mercado\n",
    "- Itaú Unibanco - Analista I de desenvolvimento de sistemas de risco de mercado\n",
    "- JP Morgan - Estagiária de risco em TI e segurança de informação"
   ]
  },
  {
   "cell_type": "markdown",
   "metadata": {},
   "source": [
    "## 2. Aulas e material 📚📖📓💻\n",
    "\n",
    "Materiais:\n",
    "- [Google Drive da turma](https://drive.google.com/drive/folders/1Qpz2fBm6DK-tNhYvSAZhci8AFuXGSJOS?usp=sharing)\n",
    "- [Canal anônimo](https://forms.gle/A8NbaBKmhhJmXFLF7)\n",
    "\n",
    "\n",
    "Informações adicionais:\n",
    "- Presença\n",
    "    - Tolerância de 20min\n",
    "    - A partir das 19h20, a presença será marcada em qualquer momento da aula\n",
    "    - Enviar mensagem no chat para declarar presença\n",
    "    - Enviar mensagem no chat, caso precise sair antes\n",
    "    - O chat será utilizado em caso de possíveis divergências\n",
    "- Aulas gravadas\n",
    "    - Links no arquivo \"Aulas Gravadas\" no drive da turma\n",
    "- Formato das aulas e atividades\n",
    "- Conceitos: Macroeconomia, Produtos, Risco, Gestão de portfólio, Modelos e Tópicos adicionais"
   ]
  },
  {
   "cell_type": "markdown",
   "metadata": {},
   "source": [
    "## 3. Avaliação 🧾🏆\n",
    "\n",
    "Avaliação tradicional (nota de 0 a 10):\n",
    "- 6 atividades com peso igual;\n",
    "- 1 para cada conceito, aproximadamente 1 por semana;\n",
    "- Formatos diversos: prova, trabalho em grupo e projeto;\n",
    "- Em geral, haverá um prazo maior para finalizar (1 semana), exceto os últimos projetos\n",
    "- Entregar via Class;\n",
    "\n",
    "Avaliação por rubrica (avaliação qualitativa):\n",
    "- Todas as atividades serão consideradas na avaliação\n",
    "- Questionários serão respondidos na última aula do módulo\n",
    "- Aluno -> Professor, Aluno -> Aluno (auto-avaliação) e Professor -> Aluno"
   ]
  },
  {
   "cell_type": "markdown",
   "metadata": {},
   "source": [
    "## 4. Conhecendo os alunos\n",
    "\n",
    "https://forms.gle/z75H7yieQSXs27UN7"
   ]
  },
  {
   "cell_type": "code",
   "execution_count": null,
   "metadata": {},
   "outputs": [],
   "source": []
  }
 ],
 "metadata": {
  "kernelspec": {
   "display_name": "Python 3 (ipykernel)",
   "language": "python",
   "name": "python3"
  },
  "language_info": {
   "codemirror_mode": {
    "name": "ipython",
    "version": 3
   },
   "file_extension": ".py",
   "mimetype": "text/x-python",
   "name": "python",
   "nbconvert_exporter": "python",
   "pygments_lexer": "ipython3",
   "version": "3.9.7"
  }
 },
 "nbformat": 4,
 "nbformat_minor": 4
}
