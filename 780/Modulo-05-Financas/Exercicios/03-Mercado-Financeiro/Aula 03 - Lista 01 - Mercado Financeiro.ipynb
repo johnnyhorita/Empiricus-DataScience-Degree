{
 "cells": [
  {
   "cell_type": "markdown",
   "id": "40b04235",
   "metadata": {},
   "source": [
    "Questão #1<br>\n",
    "Vale<br>\n",
    "10<br>\n",
    "Enunciado<br>\n",
    "Caracteriza-se como ativos de renda fixa aqueles que:<br>\n",
    "\n",
    "Alternativas<br>\n",
    "\n",
    "[ ] Possuem fluxos incertos, com pagamento condicional a um evento<br>\n",
    "[C] Possuem fluxo certo e pagamento incondicional<br>\n",
    "[ ] São garantias de ganhos reais<br>\n",
    "[X] Sempre possuem taxa de retorno fixa e conhecida no momento de compra<br>\n",
    "\n",
    "Errei correta C"
   ]
  },
  {
   "cell_type": "code",
   "execution_count": null,
   "id": "a26121fc",
   "metadata": {},
   "outputs": [],
   "source": []
  },
  {
   "cell_type": "markdown",
   "id": "731d4474",
   "metadata": {},
   "source": [
    "Questão #2<br>\n",
    "Vale<br>\n",
    "10<br>\n",
    "Enunciado<br>\n",
    "Caracteriza-se como ativos de renda variável aqueles que:<br>\n",
    "\n",
    "Alternativas<br>\n",
    "[X] Possuem fluxos incertos, com pagamento condicional a um evento<br>\n",
    "[ ] Possuem fluxo certo e pagamento incondicional<br>\n",
    "[ ] São garantias de ganhos reais<br>\n",
    "[ ] Sempre possuem taxa de retorno fixa e conhecida no momento de compra<br>\n"
   ]
  },
  {
   "cell_type": "code",
   "execution_count": null,
   "id": "5c0877f0",
   "metadata": {},
   "outputs": [],
   "source": []
  },
  {
   "cell_type": "markdown",
   "id": "7a421eae",
   "metadata": {},
   "source": [
    "Questão #3<br>\n",
    "Vale<br>\n",
    "10<br>\n",
    "Enunciado<br>\n",
    "São contratos de derivativos:<br>\n",
    "\n",
    "Alternativas<br>\n",
    "[ ] Opções, ações e futuros<br>\n",
    "[ ] Termos, seguros e futuros<br>\n",
    "[ ] Termos, títulos públicos e swaps<br>\n",
    "[X] Opções, futuros e swaps<br>\n"
   ]
  },
  {
   "cell_type": "code",
   "execution_count": null,
   "id": "38b2f248",
   "metadata": {},
   "outputs": [],
   "source": []
  },
  {
   "cell_type": "markdown",
   "id": "d0413bf7",
   "metadata": {},
   "source": [
    "Questão #4<br>\n",
    "Vale<br>\n",
    "10<br>\n",
    "Enunciado<br>\n",
    "É atribuição do Banco Central:<br>\n",
    "\n",
    "Alternativas<br>\n",
    "[ ] Fazer a diferenciação de tarifas entre bancos<br>\n",
    "[C] Fazer operações no mercado aberto para executar a política monetária<br>\n",
    "[X] Definir as regras da cobrança de do imposto de renda - fato gerador e alíquotas<br>\n",
    "[ ] Definir as regras de funcionamento dos fundos de investimento e sua classificação<br>\n",
    "\n",
    "Errei correta C"
   ]
  },
  {
   "cell_type": "code",
   "execution_count": null,
   "id": "ae594f50",
   "metadata": {},
   "outputs": [],
   "source": []
  },
  {
   "cell_type": "markdown",
   "id": "8a6c335a",
   "metadata": {},
   "source": [
    "Questão #5<br>\n",
    "Vale<br>\n",
    "10<br>\n",
    "Enunciado<br>\n",
    "Suzana tinha os seguintes investimentos no Banco TopInvest<br>\n",
    "\n",
    "CDB no valor de R 25.000,00;<br>\n",
    "Fundo de ações no valor de R 15.000,00;<br>\n",
    "LCI no valor de R 30.000,00.<br>\n",
    "O Banco TopInvest sofreu liquidação extrajudicial. O valor que a Suzana receberá do Fundo Garantidor de Crédito (FGC) é de:<br>\n",
    "\n",
    "Alternativas<br>\n",
    "[ ] R 40.000,00<br>\n",
    "[ ] R 60.000,00<br>\n",
    "[X] R 55.000,00<br>\n",
    "[ ] R 70.000,00<br>\n",
    "\n",
    "Cobertos pelo FGC: CDBs, as LCs, as LCIs e as LCAs,"
   ]
  },
  {
   "cell_type": "code",
   "execution_count": null,
   "id": "c2214114",
   "metadata": {},
   "outputs": [],
   "source": []
  },
  {
   "cell_type": "markdown",
   "id": "9986dd41",
   "metadata": {},
   "source": [
    "Questão #6<br>\n",
    "Vale<br>\n",
    "10<br>\n",
    "Enunciado<br>\n",
    "CDB’s – Certificados de Depósitos Bancários são títulos:<br>\n",
    "\n",
    "Alternativas<br>\n",
    "[ ] Que financiam operações compromissadas do sistema bancário<br>\n",
    "[ ] Que lastreiam as operações do mercado financeiro<br>\n",
    "[ ] De renda variável emitidos por bancos de investimentos<br>\n",
    "[X] De renda fixa emitido pelos bancos comerciais<br>"
   ]
  },
  {
   "cell_type": "code",
   "execution_count": null,
   "id": "18ab9002",
   "metadata": {},
   "outputs": [],
   "source": []
  },
  {
   "cell_type": "markdown",
   "id": "0a467b31",
   "metadata": {},
   "source": [
    "Questão #7<br>\n",
    "Vale<br>\n",
    "10<br>\n",
    "Enunciado<br>\n",
    "No Brasil, há basicamente duas clearing houses em funcionamento, são essas:<br>\n",
    "\n",
    "Alternativas<br>\n",
    "[ ] CETIP e COPOM<br>\n",
    "[ ] SUSEP e BACEN<br>\n",
    "[X] B3 e SELIC<br>\n",
    "[ ] CVM e BACEN<br>\n",
    "\n",
    "https://www.capitalresearch.com.br/blog/investimentos/clearing-house/#:~:text=Clearing%20house%20%C3%A9%20uma%20institui%C3%A7%C3%A3o,de%20ativos%20do%20mercado%20financeiro.&text=Quando%20voc%C3%AA%20compra%20um%20t%C3%ADtulo,compra%20e%20liquidar%20essa%20opera%C3%A7%C3%A3o.\n"
   ]
  },
  {
   "cell_type": "code",
   "execution_count": null,
   "id": "22c70457",
   "metadata": {},
   "outputs": [],
   "source": []
  },
  {
   "cell_type": "markdown",
   "id": "0d961cd0",
   "metadata": {},
   "source": [
    "Questão #8<br>\n",
    "Vale<br>\n",
    "10<br>\n",
    "Enunciado<br>\n",
    "O mercado financeiro é composto basicamente por três tipos de participantes, são eles o Hedger, o Especulador e o Arbitrador. Com relação às respectivas definições, assinale a alterantiva correta:<br>\n",
    "\n",
    "Alternativas<br>\n",
    "[ ] O Hedger é o agente que se proveita de preços fora dos preços justos ou de diferenças entre mercados<br>\n",
    "[ ] O Especulador é o agente que visa transferir seu risco para outro agente se proteger da flutuação dos preços no mercado, concentrando-se no negócio<br>\n",
    "[X] Arbitrador busca um \"lucro sem risco\" e atua como um regulador de mercados, equilibrando a oferta e a demanda, eliminando as possibilidades de arbitragem<br>\n",
    "[ ] O Arbitrador atua por meio da aposta sobre a direção dos preços, se beneficiando do diferencial entre os preços de compra e venda<br>\n",
    "\n",
    "https://plataformafasttrade.com.br/blog/entenda-as-diferencas-entre-especulacao-hedge-e-arbitragem/\n",
    "https://www.infomoney.com.br/mercados/especular-fazer-hedge-ou-arbitrar-quando-escolher-cada-uma-das-estrategias-2/\n"
   ]
  },
  {
   "cell_type": "code",
   "execution_count": null,
   "id": "82c2fa9f",
   "metadata": {},
   "outputs": [],
   "source": []
  }
 ],
 "metadata": {
  "kernelspec": {
   "display_name": "Python 3 (ipykernel)",
   "language": "python",
   "name": "python3"
  },
  "language_info": {
   "codemirror_mode": {
    "name": "ipython",
    "version": 3
   },
   "file_extension": ".py",
   "mimetype": "text/x-python",
   "name": "python",
   "nbconvert_exporter": "python",
   "pygments_lexer": "ipython3",
   "version": "3.8.12"
  }
 },
 "nbformat": 4,
 "nbformat_minor": 5
}
