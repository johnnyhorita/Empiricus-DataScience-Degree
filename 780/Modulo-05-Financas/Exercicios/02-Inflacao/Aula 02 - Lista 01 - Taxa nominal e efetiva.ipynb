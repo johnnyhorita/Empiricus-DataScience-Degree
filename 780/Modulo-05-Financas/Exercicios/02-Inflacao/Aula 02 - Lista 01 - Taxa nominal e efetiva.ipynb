{
 "cells": [
  {
   "cell_type": "markdown",
   "id": "40b04235",
   "metadata": {},
   "source": [
    "Questão #1<br>\n",
    "Vale<br>\n",
    "10<br>\n",
    "\n",
    "Enunciado<br>\n",
    "Inflação é:<br>\n",
    "\n",
    "Alternativas<br>\n",
    "[X] aumento contínuo no nível geral dos preços, ocasionando perda do poder aquisitivo da moeda;<br>\n",
    "[ ] nova alternativa aumento contínuo do nível geral dos preços, ocasionando elevação do poder aquisitivo da mo­eda;<br>\n",
    "[ ] declínio acelerado dos preços, ocasionando perda do poder aquisitivo da moeda;<br>\n",
    "[ ] pequena elevação dos preços sem ocasionar perda do poder aquisitivo da moeda;<br>"
   ]
  },
  {
   "cell_type": "code",
   "execution_count": null,
   "id": "a26121fc",
   "metadata": {},
   "outputs": [],
   "source": []
  },
  {
   "cell_type": "markdown",
   "id": "731d4474",
   "metadata": {},
   "source": [
    "Questão #2<br>\n",
    "Vale<br>\n",
    "10<br>\n",
    "\n",
    "Enunciado<br>\n",
    "A taxa de juros de uma aplicação, eliminando o efeito inflacionário, denomina-se taxa:<br>\n",
    "\n",
    "Alternativas<br>\n",
    "[X] Real<br>\n",
    "[ ] Nominal<br>\n",
    "[ ] Bruta<br>\n",
    "[ ] Líquida<br>"
   ]
  },
  {
   "cell_type": "code",
   "execution_count": null,
   "id": "5c0877f0",
   "metadata": {},
   "outputs": [],
   "source": []
  },
  {
   "cell_type": "markdown",
   "id": "7a421eae",
   "metadata": {},
   "source": [
    "Questão #3<br>\n",
    "Vale<br>\n",
    "10<br>\n",
    "\n",
    "Enunciado<br>\n",
    "Um investidor fez uma aplicação financeira com as seguintes características:<br>\n",
    "\n",
    "Valor de aplicação R 100, valor do resgate, daqui a 60 dias R 105. Supondo que a inflação nesse período foi de 1,5%, podemos descrever a operação e seus resultados como:<br>\n",
    "\n",
    "Alternativas<br>\n",
    "[ ] Taxa nominal 3,50%; taxa real 5,00%<br>\n",
    "[ ] Taxa nominal 5,00%; taxa real 3,50%<br>\n",
    "[X] Taxa nominal 5,00%; taxa real 3,45%<br>\n",
    "[ ] Taxa nominal 3,45%; taxa real 5,00%<br>"
   ]
  },
  {
   "cell_type": "markdown",
   "id": "4a177234",
   "metadata": {},
   "source": [
    "(1 + tn) = (1 + r) × (1 + j)\n",
    "\n",
    "tn: taxa de juros nominal<br>\n",
    "r: taxa de juros real<br>\n",
    "j: inflação do período.<br>\n"
   ]
  },
  {
   "cell_type": "code",
   "execution_count": 22,
   "id": "dbef3b14",
   "metadata": {},
   "outputs": [
    {
     "name": "stdout",
     "output_type": "stream",
     "text": [
      "Taxa real: 3.45%\n"
     ]
    }
   ],
   "source": [
    "J = 105 - 100  \n",
    "\n",
    "i_inf = 1.5/100\n",
    "i_efe = J/100\n",
    "i_real = (1 + i_efe) / (1 + i_inf) - 1\n",
    "print(f'Taxa real: {round(i_real*100, 2)}%')\n"
   ]
  },
  {
   "cell_type": "markdown",
   "id": "d0413bf7",
   "metadata": {},
   "source": [
    "Questão #4<br>\n",
    "Vale<br>\n",
    "10<br>\n",
    "\n",
    "Enunciado<br>\n",
    "Variação cambial, ou entrada de capital estrangeiro, tem maior impacto em qual dos índices abaixo?<br>\n",
    "\n",
    "Alternativas<br>\n",
    "[ ] INPC<br>\n",
    "[ ] IPCA<br>\n",
    "[X] IGP-M<br>\n",
    "[ ] INCC<br>"
   ]
  },
  {
   "cell_type": "code",
   "execution_count": null,
   "id": "ae594f50",
   "metadata": {},
   "outputs": [],
   "source": []
  },
  {
   "cell_type": "markdown",
   "id": "8a6c335a",
   "metadata": {},
   "source": [
    "Questão #5<br>\n",
    "Vale<br>\n",
    "10<br>\n",
    "\n",
    "Enunciado<br>\n",
    "É responsabilidade do Comitê de Política Monetária (COPOM):<br>\n",
    "\n",
    "Alternativas<br>\n",
    "[X] estabelecer a meta para a taxa básica de juros da economia<br>\n",
    "[ ] fixar a meta da taxa de inflação para determinado ano<br>\n",
    "[ ] estabelecer uma meta para a taxa de câmbio<br>\n",
    "[ ] determinar as alíquotas dos depósitos compulsórios<br>"
   ]
  },
  {
   "cell_type": "code",
   "execution_count": null,
   "id": "c2214114",
   "metadata": {},
   "outputs": [],
   "source": []
  },
  {
   "cell_type": "markdown",
   "id": "9986dd41",
   "metadata": {},
   "source": [
    "Questão #6<br>\n",
    "Vale<br>\n",
    "10<br>\n",
    "\n",
    "Enunciado<br>\n",
    "Um fundo de investimento teve como retorno 8%. Considerando que a inflação no período foi de 2%. Logo, a taxa Real é de:<br>\n",
    "\n",
    "Alternativas<br>\n",
    "[ ] 6,12%<br>\n",
    "[ ] 5,77%<br>\n",
    "[ ] 6,00%<br>\n",
    "[X] 5,88%<br>\n",
    "\n"
   ]
  },
  {
   "cell_type": "code",
   "execution_count": 11,
   "id": "842b0b91",
   "metadata": {},
   "outputs": [
    {
     "name": "stdout",
     "output_type": "stream",
     "text": [
      "Taxa real: 5.88%\n"
     ]
    }
   ],
   "source": [
    "\n",
    "i_inf = 2/100\n",
    "i_efe = 8/100\n",
    "i_real = (1 + i_efe) / (1 + i_inf) - 1\n",
    "print(f'Taxa real: {round(i_real*100, 2)}%')\n"
   ]
  },
  {
   "cell_type": "code",
   "execution_count": null,
   "id": "f5be5698",
   "metadata": {},
   "outputs": [],
   "source": []
  },
  {
   "cell_type": "markdown",
   "id": "0a467b31",
   "metadata": {},
   "source": [
    "Questão #7<br>\n",
    "Vale<br>\n",
    "10<br>\n",
    "\n",
    "Enunciado<br>\n",
    "Um investidor efetuou uma aplicação financeira que rendeu 8%. A taxa de deflação foi de 2% nesse período. O rendimento real foi:<br>\n",
    "\n",
    "Alternativas<br>\n",
    "[ ] Exatamente igual a 10%;<br>\n",
    "[ ] Um pouco inferior a 6%;<br>\n",
    "[X] Um pouco superior a 10%;<br>\n",
    "[ ] Exatamente igual a 6%;<br>\n",
    "\n"
   ]
  },
  {
   "cell_type": "code",
   "execution_count": 16,
   "id": "33615cec",
   "metadata": {},
   "outputs": [
    {
     "name": "stdout",
     "output_type": "stream",
     "text": [
      "Taxa real: 10.16%\n"
     ]
    }
   ],
   "source": [
    "i_inf = 2/100\n",
    "i_efe = 8/100\n",
    "i_real = (1 + i_efe) * (1 + i_inf) - 1\n",
    "print(f'Taxa real: {round(i_real*100, 2)}%')\n"
   ]
  },
  {
   "cell_type": "code",
   "execution_count": null,
   "id": "22c70457",
   "metadata": {},
   "outputs": [],
   "source": []
  },
  {
   "cell_type": "markdown",
   "id": "0d961cd0",
   "metadata": {},
   "source": [
    "Questão #8<br>\n",
    "Vale<br>\n",
    "10<br>\n",
    "\n",
    "Enunciado<br>\n",
    "Taxa de juros real é:<br>\n",
    "\n",
    "Alternativas<br>\n",
    "[ ] A taxa de juros em moeda corrente;<br>\n",
    "[ ] A taxa que é efetivamente paga pelo tomador;<br>\n",
    "[ ] Taxa nominal mais a variação da inflação;<br>\n",
    "[X] Taxa nominal descontada a variação da inflação;<br>\n",
    "\n"
   ]
  },
  {
   "cell_type": "code",
   "execution_count": null,
   "id": "82c2fa9f",
   "metadata": {},
   "outputs": [],
   "source": []
  }
 ],
 "metadata": {
  "kernelspec": {
   "display_name": "Python 3 (ipykernel)",
   "language": "python",
   "name": "python3"
  },
  "language_info": {
   "codemirror_mode": {
    "name": "ipython",
    "version": 3
   },
   "file_extension": ".py",
   "mimetype": "text/x-python",
   "name": "python",
   "nbconvert_exporter": "python",
   "pygments_lexer": "ipython3",
   "version": "3.8.12"
  }
 },
 "nbformat": 4,
 "nbformat_minor": 5
}
