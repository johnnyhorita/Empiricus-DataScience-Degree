{
 "cells": [
  {
   "cell_type": "markdown",
   "id": "000ffa05",
   "metadata": {},
   "source": [
    "Questão #1<br>\n",
    "Vale<br>\n",
    "10<br>\n",
    "\n",
    "Enunciado<br>\n",
    "A inflação está acima ou abaixo do esperado? Como você explica esta afirmação?\n"
   ]
  },
  {
   "cell_type": "markdown",
   "id": "5b1f2ce1",
   "metadata": {},
   "source": [
    "A inflação está acima do esperado, podemos constatar pelos aumentos consecutivos da taxa Selic, taxa básica de juros da economia, que influencia em diversas outras taxas como as cobradas em empréstimos, financiamentos e de retorno em aplicações financeiras. Dessa forma \"desacelera\" a economia para conter a inflação."
   ]
  },
  {
   "cell_type": "code",
   "execution_count": null,
   "id": "c04b9527",
   "metadata": {},
   "outputs": [],
   "source": []
  },
  {
   "cell_type": "markdown",
   "id": "d529e8e8",
   "metadata": {},
   "source": [
    "Questão #2<br>\n",
    "Vale<br>\n",
    "10<br>\n",
    "\n",
    "Enunciado<br>\n",
    "Qual tipo de política monetária o governo atual tem aplicado (ou tentado aplicar)?"
   ]
  },
  {
   "cell_type": "markdown",
   "id": "5348f6f7",
   "metadata": {},
   "source": [
    "A Política Monetária adotada depende do comportamento da economia brasileira, pode ser contracionista ou expansionista. Com a alta da inflação a politica monetária adotada atualmente é a contracionista, aumentando a taxa de juros para diminuir a demanda por crédito junto aos bancos, reduzindo a circulação de moeda da economia e, com isso, a redução da inflação devido a diminuição da demanda.\n",
    "\n"
   ]
  },
  {
   "cell_type": "code",
   "execution_count": null,
   "id": "d978e628",
   "metadata": {},
   "outputs": [],
   "source": []
  },
  {
   "cell_type": "markdown",
   "id": "906c03e4",
   "metadata": {},
   "source": [
    "Questão #3<br>\n",
    "Vale<br>\n",
    "10<br>\n",
    "\n",
    "Enunciado<br>\n",
    "Dada a previsão das instituições financeiras, você prefere um investimento com taxa real pré-definida ou taxa nominal?"
   ]
  },
  {
   "cell_type": "code",
   "execution_count": null,
   "id": "4fa9cf3b",
   "metadata": {},
   "outputs": [],
   "source": [
    "Prefiro um investimento com taxa real pré-definida"
   ]
  }
 ],
 "metadata": {
  "kernelspec": {
   "display_name": "Python 3 (ipykernel)",
   "language": "python",
   "name": "python3"
  },
  "language_info": {
   "codemirror_mode": {
    "name": "ipython",
    "version": 3
   },
   "file_extension": ".py",
   "mimetype": "text/x-python",
   "name": "python",
   "nbconvert_exporter": "python",
   "pygments_lexer": "ipython3",
   "version": "3.8.12"
  }
 },
 "nbformat": 4,
 "nbformat_minor": 5
}
