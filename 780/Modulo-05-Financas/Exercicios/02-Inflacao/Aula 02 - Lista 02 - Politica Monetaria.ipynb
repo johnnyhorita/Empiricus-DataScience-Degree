{
 "cells": [
  {
   "cell_type": "markdown",
   "id": "18ee8d34",
   "metadata": {},
   "source": [
    "Questão #1<br>\n",
    "Vale<br>\n",
    "10<br>\n",
    "\n",
    "Enunciado<br>\n",
    "Para executar uma política monetária contracionista, uma medida que pode ser adotada pelo banco central é:<br>\n",
    "\n",
    "Alternativas<br>\n",
    "[ ] Comprar Títulos Públicos Federais<br>\n",
    "[X] Vender Títulos Públicos Federais<br>\n",
    "[ ] Reduzir a taxa Selic<br>\n",
    "[ ] Reduzir a taxa de redesconto<br>"
   ]
  },
  {
   "cell_type": "code",
   "execution_count": null,
   "id": "fddb97b8",
   "metadata": {},
   "outputs": [],
   "source": []
  },
  {
   "cell_type": "markdown",
   "id": "ff6b7a64",
   "metadata": {},
   "source": [
    "Questão #2<br>\n",
    "Vale<br>\n",
    "10<br>\n",
    "\n",
    "Enunciado<br>\n",
    "Um aumento na meta da taxa Selic tende a:<br>\n",
    "\n",
    "Alternativas<br>\n",
    "[X] Aumentar o IGP-M e diminuir o IPCA;<br>\n",
    "[ ] Aumentar a Ptax;<br>\n",
    "[ ] Aumentar o PIB projetado;<br>\n",
    "[ ] Diminuir a Ptax; -- [Correto]<br>\n",
    "\n",
    "Errei!!"
   ]
  },
  {
   "cell_type": "code",
   "execution_count": null,
   "id": "86eeca14",
   "metadata": {},
   "outputs": [],
   "source": []
  },
  {
   "cell_type": "markdown",
   "id": "f51eb30a",
   "metadata": {},
   "source": [
    "Questão #3<br>\n",
    "Vale<br>\n",
    "10<br>\n",
    "\n",
    "Enunciado<br>\n",
    "No Regime de Metas de Inflação, quando a taxa de inflação projetada está abaixo da meta, o Copom tende a:<br>\n",
    "\n",
    "Alternativas<br>\n",
    "[ ] Aumentar a taxa básica de juros (DI)<br>\n",
    "[ ] Aumentar a taxa básica de juros (Selic)<br>\n",
    "[ ] Diminuir a taxa básica de juros (DI)<br>\n",
    "[X] Diminuir a taxa básica de juros (Selic)<br>"
   ]
  },
  {
   "cell_type": "code",
   "execution_count": null,
   "id": "8eb1dc91",
   "metadata": {},
   "outputs": [],
   "source": []
  },
  {
   "cell_type": "markdown",
   "id": "85cb6a42",
   "metadata": {},
   "source": [
    "Questão #4<br>\n",
    "Vale<br>\n",
    "10<br>\n",
    "\n",
    "Enunciado<br>\n",
    "A melhor definição da Taxa Selic é:<br>\n",
    "\n",
    "Alternativas<br>\n",
    "[X] A taxa básica da economia, sendo usada como referência para a determinação das demais taxas do mercado, tanto as de empréstimos como as de remuneração das aplicações em renda fixa.<br>\n",
    "[ ] O indicador diário da taxa de juros a longo prazo.<br>\n",
    "[ ] A taxa que define o rendimento das Cadernetas de Poupança.<br>\n",
    "[ ] O benchmark do mercado para aplicações no mercado financeiro<br>"
   ]
  },
  {
   "cell_type": "code",
   "execution_count": null,
   "id": "d76b86de",
   "metadata": {},
   "outputs": [],
   "source": []
  },
  {
   "cell_type": "markdown",
   "id": "2d75a72f",
   "metadata": {},
   "source": [
    "Questão #5<br>\n",
    "Vale<br>\n",
    "10<br>\n",
    "\n",
    "Enunciado<br>\n",
    "Seu cliente lhe indaga a respeito da diferença entre a Taxa Selic Meta e a Taxa Selic Over. Você explica que:<br>\n",
    "\n",
    "Alternativas<br>\n",
    "[X] A primeira é fixada pelo COPOM e a segunda é determinada pelo mercado<br>\n",
    "[ ] A primeira é fixada pelo Conselho Monetário Nacional; a segunda é fixada pelo COPOM<br>\n",
    "[ ] A primeira é fixada pelo COPOM para o prazo de um mês, a segunda para o prazo de um dia<br>\n",
    "[ ] A primeira tem lastro em títulos públicos; a segunda em títulos privados<br>"
   ]
  },
  {
   "cell_type": "code",
   "execution_count": null,
   "id": "c784a2e5",
   "metadata": {},
   "outputs": [],
   "source": []
  },
  {
   "cell_type": "markdown",
   "id": "4e6bd577",
   "metadata": {},
   "source": [
    "Questão #6<br>\n",
    "Vale<br>\n",
    "10<br>\n",
    "\n",
    "Enunciado<br>\n",
    "O índice de inflação oficialmente utilizado pelo governo brasileiro para verificar o cumprimento da meta de inflação é o:<br>\n",
    "\n",
    "Alternativas<br>\n",
    "[X] Índice de Preços ao Consumidor Amplo (IPCA)<br>\n",
    "[ ] Índice Nacional de Preços ao Consumidor (INPC)<br>\n",
    "[ ] Índice Geral de Preços do Mercado (IGP-M)<br>\n",
    "[ ] Índice de Preços ao Consumidor (IPC)<br>"
   ]
  },
  {
   "cell_type": "code",
   "execution_count": null,
   "id": "28681b92",
   "metadata": {},
   "outputs": [],
   "source": []
  },
  {
   "cell_type": "markdown",
   "id": "b512780c",
   "metadata": {},
   "source": [
    "Questão #7<br>\n",
    "Vale<br>\n",
    "10<br>\n",
    "\n",
    "Enunciado<br>\n",
    "Na última reunião do COPOM, houve redução da taxa Selic de 6,5% a.a. para 5,5% a.a. Neste caso, podemos afirmar que:<br>\n",
    "\n",
    "I. Há um abandono do sistema de metas de inflação;<br>\n",
    "II. Há uma flexibilização da política monetária;<br>\n",
    "III. A inflação medida pelo IPCA está sob controle;<br>\n",
    "IV. A inflação medida pelo IGPM está sob controle; <br>\n",
    "Está correto o que se afirma em:<br>\n",
    "\n",
    "Alternativas<br>\n",
    "[ ] I, II e III<br>\n",
    "[ ] I e III<br>\n",
    "[ ] II, III e IV<br>\n",
    "[X] II e III<br>"
   ]
  },
  {
   "cell_type": "code",
   "execution_count": null,
   "id": "01dbdada",
   "metadata": {},
   "outputs": [],
   "source": []
  },
  {
   "cell_type": "markdown",
   "id": "57658976",
   "metadata": {},
   "source": [
    "Questão #8<br>\n",
    "Vale<br>\n",
    "10<br>\n",
    "\n",
    "Enunciado<br>\n",
    "O Conselho Monetário Nacional (CMN) é considerado o:<br>\n",
    "\n",
    "Alternativas<br>\n",
    "[X] órgão máximo do Sistema Financeiro Nacional<br>\n",
    "[ ] fiscalizador do mercado de capitais<br>\n",
    "[ ] banco dos bancos<br>\n",
    "[ ] legislador do sistema de previdência complementar aberta<br>"
   ]
  },
  {
   "cell_type": "code",
   "execution_count": null,
   "id": "4cd119d0",
   "metadata": {},
   "outputs": [],
   "source": []
  }
 ],
 "metadata": {
  "kernelspec": {
   "display_name": "Python 3 (ipykernel)",
   "language": "python",
   "name": "python3"
  },
  "language_info": {
   "codemirror_mode": {
    "name": "ipython",
    "version": 3
   },
   "file_extension": ".py",
   "mimetype": "text/x-python",
   "name": "python",
   "nbconvert_exporter": "python",
   "pygments_lexer": "ipython3",
   "version": "3.8.12"
  }
 },
 "nbformat": 4,
 "nbformat_minor": 5
}
