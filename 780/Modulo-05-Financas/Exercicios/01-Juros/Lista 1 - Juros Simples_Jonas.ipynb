{
 "cells": [
  {
   "cell_type": "markdown",
   "id": "e4498bd2",
   "metadata": {},
   "source": [
    "__#1 (Vunesp) Num balancete de uma empresa consta que certo capital foi aplicado a uma taxa de 30% ao ano durante 8 meses, rendendo juros simples no valor de R$ 192,00. O capital aplicado foi de:__"
   ]
  },
  {
   "cell_type": "code",
   "execution_count": 6,
   "id": "0b03d6a7",
   "metadata": {},
   "outputs": [
    {
     "name": "stdout",
     "output_type": "stream",
     "text": [
      "A taxa mensal é de 0.024999999999999998\n",
      "O capital inicial foi de 960.0\n"
     ]
    }
   ],
   "source": [
    "t_anual = 0.3\n",
    "t_mensal = 8\n",
    "juros = 192\n",
    "#M - C = j\n",
    "t_mensal = t_anual / 12\n",
    "print(f'A taxa mensal é de {t_mensal}')\n",
    "#C x t_mensal * 8 = 192\n",
    "C = 192/(0.2)\n",
    "print(f'O capital inicial foi de {C}')"
   ]
  },
  {
   "cell_type": "markdown",
   "id": "a1e969ec",
   "metadata": {},
   "source": [
    "__#2 Enunciado\n",
    "Durante quanto tempo um capital deve ser mantido em investimento a juros simples com taxa de 2% a.m. para que ele gere um montante que seja o dobro do capital investido?__"
   ]
  },
  {
   "cell_type": "code",
   "execution_count": 7,
   "id": "799bdf73",
   "metadata": {},
   "outputs": [
    {
     "name": "stdout",
     "output_type": "stream",
     "text": [
      "A uma taxa de 2%, capitalização simples, ao mês, um determinando montate levará 50.0 meses para ser dobrado\n"
     ]
    }
   ],
   "source": [
    "#Vamos considerar o capital inicial sendo 1 e o montante final sendo 2\n",
    "C = 1\n",
    "M = 2\n",
    "juros = 0.02\n",
    "# M = C x (1 + juros * t)\n",
    "# 2 = 1 x (1 + 0.02 * t)\n",
    "t = 1/0.02\n",
    "print(f'A uma taxa de 2%, capitalização simples, ao mês, um determinando montate levará {t} meses para ser dobrado')"
   ]
  },
  {
   "cell_type": "markdown",
   "id": "b7ac66aa",
   "metadata": {},
   "source": [
    "__#3 (Cespe 2008) No regime de juros simples, determinado capital investido durante 2,5 meses produziu o montante de 12.000,00. O mesmo capital, investido durante 5 meses, no mesmo regime de juros, produziu o montante de 14.000,00. Nesse caso, é correto afirmar que esse capital é__"
   ]
  },
  {
   "cell_type": "code",
   "execution_count": 9,
   "id": "2f9d43cf",
   "metadata": {},
   "outputs": [
    {
     "name": "stdout",
     "output_type": "stream",
     "text": [
      "O capital inicial é de 10000.0\n"
     ]
    }
   ],
   "source": [
    "M_1 = 12_000\n",
    "p_1 = 2.5\n",
    "p_2 = 5\n",
    "M_2 = 14_000\n",
    "#Para o primeiro montate\n",
    "#12_000 = C * (1 + j*2.5)\n",
    "#C = 12_000 / (1 + j*2.5)\n",
    "\n",
    "#Para o segundo montate\n",
    "#14_000 = C * (1 + j*5)\n",
    "#C = 14_000 / (1 + j*5)\n",
    "\n",
    "#Agora basta igualar e calcular\n",
    "#14_000 / (1 + j*5) = 12_000 / (1 + j*2.5)\n",
    "#12 + 60i = 14 + 35i\n",
    "#25i = 2\n",
    "#i = 0.08\n",
    "\n",
    "#Sabendo a taxa podemos calcular o capital\n",
    "#12_000 = C * (1 + 0.08*2.5)\n",
    "C = 12_000/ (1 + 0.08*2.5)\n",
    "print(f'O capital inicial é de {C}')"
   ]
  },
  {
   "cell_type": "markdown",
   "id": "d676c766",
   "metadata": {},
   "source": [
    "__#4 (FGV) Um capital aplicado a juros simples produz o montante de 7.200,00 em cinco meses e, em oito meses, esse montante passa a valer 7.680,00.__\n",
    "\n",
    "__Nessas condições, a taxa de juros aplicada a esse capital é de:__"
   ]
  },
  {
   "cell_type": "code",
   "execution_count": 36,
   "id": "3f8912a8",
   "metadata": {},
   "outputs": [
    {
     "name": "stdout",
     "output_type": "stream",
     "text": [
      "A taxa de juros aplicada foi de 2.5% ao mês\n"
     ]
    }
   ],
   "source": [
    "M_1 = 7_200\n",
    "p_1 = 5\n",
    "M_2 = 7_680\n",
    "p_2 = 8\n",
    "#Para o montante 1:\n",
    "#7_200 = C * (1 + j*5)\n",
    "#C = 7_200/(1 + 5j)\n",
    "\n",
    "#Para o montate 2:\n",
    "#7_680 = C * (1 + j*8)\n",
    "#C = 7_680 / (1 + 8j)\n",
    "\n",
    "#Igualanado\n",
    "#7_680 / (1 + 8j) = 7_200/(1 + 5j)\n",
    "#7_680*(1 + 5j) = 7_200 * (1 + 8j)\n",
    "#7680 + 38_400j = 7_200 + 57_600j\n",
    "#19_200j = 480\n",
    "j = 480/19_200\n",
    "print(f'A taxa de juros aplicada foi de {j*100}% ao mês')"
   ]
  },
  {
   "cell_type": "markdown",
   "id": "dd083955",
   "metadata": {},
   "source": [
    "__#5 Nos boletos de contas, além da data de vencimento, há também as informações sobre os juros a serem cobrados caso haja atraso no pagamento da conta. Uma determinada conta havia informações de que, no caso de atraso, seriam cobrados 2% de multa mais 1% a cada mês de atraso em cima do valor inicial da dívida.__\n",
    "\n",
    "__Se em um determinado período uma conta nessas condições ficou atrasada durante 3 meses e o valor pago por ela foi de 868,35, o valor da conta anterior aos juros e à multa é de:__"
   ]
  },
  {
   "cell_type": "code",
   "execution_count": 17,
   "id": "28ee2b0f",
   "metadata": {},
   "outputs": [
    {
     "name": "stdout",
     "output_type": "stream",
     "text": [
      "O valor inicial do boleto era de 827.0 reais\n"
     ]
    }
   ],
   "source": [
    "multa = 0.02\n",
    "juros = 0.01\n",
    "prazo = 3\n",
    "M = 868.35\n",
    "\n",
    "#Formula\n",
    "#M = C * (1 + juros * prazo + multa) \n",
    "#868.35 = C * (1 + 0.01*3 + 0.02)\n",
    "C = 868.35 / (1 + 0.01*3 + 0.02)\n",
    "print(f'O valor inicial do boleto era de {C} reais')"
   ]
  },
  {
   "cell_type": "markdown",
   "id": "35e154d6",
   "metadata": {},
   "source": [
    "__#6 Para completar a compra de um carro, Júlia pegou emprestado de sua amiga 10.000,00 e pagou, ao final, 12.250,00. Sabendo que a taxa de juros da operação empregada foi 2,5% a.m., quanto tempo Júlia levou para pagar sua amiga?__"
   ]
  },
  {
   "cell_type": "code",
   "execution_count": 20,
   "id": "0610756e",
   "metadata": {},
   "outputs": [
    {
     "name": "stdout",
     "output_type": "stream",
     "text": [
      "Para pagar o montante, Júlia demorou 9.0 meses\n"
     ]
    }
   ],
   "source": [
    "C = 10_000\n",
    "M = 12_250\n",
    "juros = 0.025\n",
    "\n",
    "#M = C (1+ juros*prazo)\n",
    "#12_250 = 10_000 (1 + 0.025 * prazo)\n",
    "p = (12_250 - 10_000)/250\n",
    "print(f'Para pagar o montante, Júlia demorou {p} meses')"
   ]
  },
  {
   "cell_type": "markdown",
   "id": "eb1c1e34",
   "metadata": {},
   "source": [
    "__#7 Alguns amigos se juntaram para fazer um investimento, e cada um realizou o investimento de 2100,00. Esse dinheiro foi investido pelo organizador e, após 8 meses, todos os membros receberam de volta o seu dinheiro mais o valor do rendimento. Sabendo que cada um deles recebeu  2604,00, qual foi a taxa de juros ao mês caso esse valor tenha sido investido em um regime de juros simples?__"
   ]
  },
  {
   "cell_type": "code",
   "execution_count": 23,
   "id": "bb10c316",
   "metadata": {},
   "outputs": [
    {
     "name": "stdout",
     "output_type": "stream",
     "text": [
      "A operação rendeu juros de 3.0% ao mês\n"
     ]
    }
   ],
   "source": [
    "C = 2_100\n",
    "prazo = 8\n",
    "M = 2_604\n",
    "\n",
    "#M = C (1 + juros * prazo)\n",
    "#2_604 = 2_100 * (1 + 8j)\n",
    "j = ((2_604/2100) - 1)/8\n",
    "print(f'A operação rendeu juros de {j*100}% ao mês')"
   ]
  },
  {
   "cell_type": "markdown",
   "id": "d3961c65",
   "metadata": {},
   "source": [
    "__#8Qual deve ser o capital aplicado a uma taxa de juros simples de 10% a.a. para que, em 6 meses, renda 217,50 de juros?__"
   ]
  },
  {
   "cell_type": "code",
   "execution_count": 30,
   "id": "5782af5c",
   "metadata": {},
   "outputs": [
    {
     "name": "stdout",
     "output_type": "stream",
     "text": [
      "O capital inicial aplicado foi de 4350.0\n"
     ]
    }
   ],
   "source": [
    "juros = 217.5\n",
    "taxa_anual = 0.1\n",
    "taxa_mensal = 0.1/12\n",
    "prazo = 6\n",
    "\n",
    "#M - C = juros\n",
    "#C * (1 + taxa * prazo) - C = 217.5\n",
    "#C * (1 + taxa_mensal*6) - C = 217.5\n",
    "#C + 0.05C - C = 217.5\n",
    "C = 217.5/0.05\n",
    "\n",
    "print(f'O capital inicial aplicado foi de {C}')"
   ]
  },
  {
   "cell_type": "markdown",
   "id": "d61aa032",
   "metadata": {},
   "source": [
    "__#9 Uma mesa digitalizadora é vendida à vista no valor de 600,00 ou a prazo por 675,00. Caso o cliente opte pela segunda opção, ele precisa dar uma entrada de 100,00 e pagar o restante após 1 mês. Nesse caso, a taxa de juros mensal que é cobrada pelo valor pago a prazo é de:__"
   ]
  },
  {
   "cell_type": "code",
   "execution_count": 34,
   "id": "69922db9",
   "metadata": {},
   "outputs": [
    {
     "name": "stdout",
     "output_type": "stream",
     "text": [
      "O juros da operação foi de 15.0% ao mês\n"
     ]
    }
   ],
   "source": [
    "C = 600\n",
    "M = 675\n",
    "#M - Entrada = (C-Entrada) * (1 + juros * prazo)\n",
    "#575 = 500*(1 + juros * 1)\n",
    "juros = (575-500)/500 \n",
    "print(f'O juros da operação foi de {juros*100}% ao mês')"
   ]
  },
  {
   "cell_type": "markdown",
   "id": "d07411b1",
   "metadata": {},
   "source": [
    "__#10 (IFMG) Chiquinho aplicou a quantia de 500,00 a juros simples durante 6 meses. A taxa de aplicação foi de 5% ao mês. O montante obtido foi de:__"
   ]
  },
  {
   "cell_type": "code",
   "execution_count": 35,
   "id": "0a5dadfc",
   "metadata": {},
   "outputs": [
    {
     "data": {
      "text/plain": [
       "650.0"
      ]
     },
     "execution_count": 35,
     "metadata": {},
     "output_type": "execute_result"
    }
   ],
   "source": [
    "C = 500\n",
    "prazo = 6\n",
    "taxa = 0.05\n",
    "M = 500 * (1+0.05*6)\n",
    "M"
   ]
  }
 ],
 "metadata": {
  "kernelspec": {
   "display_name": "Python 3 (ipykernel)",
   "language": "python",
   "name": "python3"
  },
  "language_info": {
   "codemirror_mode": {
    "name": "ipython",
    "version": 3
   },
   "file_extension": ".py",
   "mimetype": "text/x-python",
   "name": "python",
   "nbconvert_exporter": "python",
   "pygments_lexer": "ipython3",
   "version": "3.8.12"
  }
 },
 "nbformat": 4,
 "nbformat_minor": 5
}
