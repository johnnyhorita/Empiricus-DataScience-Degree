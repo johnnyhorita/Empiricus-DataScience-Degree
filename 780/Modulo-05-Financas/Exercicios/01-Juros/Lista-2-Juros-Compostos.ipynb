{
 "cells": [
  {
   "cell_type": "markdown",
   "id": "dfbe6c37",
   "metadata": {},
   "source": [
    "\n",
    "Os juros compostos $J$ podem ser calculado da seguinte forma:\n",
    "\n",
    "$$ M = C \\cdot (1 + i)^n$$\n",
    "\n",
    "Onde:\n",
    "\n",
    "- $C = $ quantia inicial (capital)\n",
    "- $i = $ taxa de juros (em percentual)\n",
    "- $n = $ período de tempo\n",
    "- $M = $ montante (capital inicial mais os juros)\n",
    "\n",
    "Ou também podemos escrever na seguinte nomenclatura:\n",
    "\n",
    "$$ VF = VP \\cdot (1 + i)^n$$\n",
    "\n",
    "Onde:\n",
    "\n",
    "- $FV = $ valor futuro (*future value*)\n",
    "- $PV = $ valor presente (*present value*)\n",
    "\n",
    "A expressão:\n",
    "\n",
    "$$ (1 + i)^n$$\n",
    "\n",
    "também é chamada de **fator de atualização**.\n",
    "\n",
    "A partir desta mesma relação, podemos reescrever de forma a obter as outras informações, como o valor dos juros em si:\n",
    "\n",
    "$$ C = \\frac{M}{(1 + i)^n}$$<br>\n",
    "$$ J = M - C $$<br>\n",
    "$$ J = C \\cdot (1 + i)^n - C$$<br>\n",
    "$$ J = C \\cdot [(1 + i)^n - 1]$$<br>"
   ]
  },
  {
   "cell_type": "code",
   "execution_count": 49,
   "id": "730d5641",
   "metadata": {},
   "outputs": [],
   "source": [
    "import math"
   ]
  },
  {
   "cell_type": "markdown",
   "id": "c1e87053",
   "metadata": {},
   "source": [
    "Questão #1\n",
    "Vale\n",
    "10\n",
    "Enunciado\n",
    "(CESGRANRIO) Um banco possui, atualmente, um modelo de financiamento em regime de juros compostos, em que as parcelas são pagas, mensalmente, a uma taxa de juros de 2% ao mês. Para um certo perfil de clientes, o banco pretende possibilitar o pagamento da dívida a cada três meses, a uma taxa de juros trimestral equivalente à praticada no modelo atual. A melhor aproximação para o valor da taxa de juros trimestral desse novo modelo de financiamento é:\n",
    "\n",
    "Alternativas\n",
    "[ ] A) 2,48%\n",
    "[ ] B) 6,00%\n",
    "[ ] E) 8,00%\n",
    "[ ] D) 7,28%\n",
    "[X] C) 6,12%\n"
   ]
  },
  {
   "cell_type": "markdown",
   "id": "e9965542",
   "metadata": {},
   "source": [
    "$$ M = C \\cdot (1 + i)^n$$<br>\n",
    "$$ J = M - C $$<br>"
   ]
  },
  {
   "cell_type": "code",
   "execution_count": 98,
   "id": "489e311b",
   "metadata": {},
   "outputs": [
    {
     "name": "stdout",
     "output_type": "stream",
     "text": [
      "A taxa trimestral é de 6.120800000000015%\n"
     ]
    }
   ],
   "source": [
    "i = 0.02\n",
    "n = 3\n",
    "C = 1\n",
    "\n",
    "M = C * ((1 + i) ** n)\n",
    "\n",
    "J = M - C\n",
    "\n",
    "print(f'A taxa trimestral é de {J * 100}%')"
   ]
  },
  {
   "cell_type": "code",
   "execution_count": 69,
   "id": "3d2408e0",
   "metadata": {},
   "outputs": [
    {
     "name": "stdout",
     "output_type": "stream",
     "text": [
      "A taxa trimestral é de 6.120800000000015%\n"
     ]
    }
   ],
   "source": [
    "taxa = 0.02\n",
    "\n",
    "#(1 + taxa_equivalente)**periodo_taxa_quivalente = (1 + taxa)**periodo_taxa\n",
    "#(1+taxa_equivalente)1 = (1+0,02)3 \n",
    "taxa_equivalente = ((1.02)**3) - 1 \n",
    "\n",
    "print(f'A taxa trimestral é de {taxa_equivalente*100}%')"
   ]
  },
  {
   "cell_type": "markdown",
   "id": "b71e4b89",
   "metadata": {},
   "source": [
    "Questão #2\n",
    "Vale\n",
    "10\n",
    "Enunciado\n",
    "(ZAMBINI) Juca e Glaucom, primos e pintores de Igreja, estão estudando realizar investimentos com o dinheiro recebido de suas pinturas. Eles querem um investimento que duplique o capital investido após um ano. Esse investimento deve ter uma taxa de juros anual de:\n",
    "\n",
    "Alternativas\n",
    "[X] A) 100%\n",
    "[ ] D) 80%\n",
    "[ ] C) 130%\n",
    "[ ] B) 200%\n",
    "\n"
   ]
  },
  {
   "cell_type": "markdown",
   "id": "0457ffae",
   "metadata": {},
   "source": [
    "$$ M = C \\cdot (1 + i \\cdot n)$$<br>\n",
    "$$ 2C = C \\cdot (1 + i \\cdot 1)$$<br>\n",
    "$$ \\frac{2C} C = (1 + 1i)$$<br>\n",
    "$$ 2 = 1 + 1i$$<br>\n",
    "$$ 2 - 1 = 1i$$<br>\n",
    "$$ 1 = 1i$$<br>\n",
    "$$ i = \\frac{1}{1}$$<br>\n",
    "$$ i = 1$$<br>\n"
   ]
  },
  {
   "cell_type": "code",
   "execution_count": 104,
   "id": "cae8e69c",
   "metadata": {},
   "outputs": [
    {
     "name": "stdout",
     "output_type": "stream",
     "text": [
      "1.0\n"
     ]
    }
   ],
   "source": [
    "\n",
    "C = 1\n",
    "M = C * 2\n",
    "n = 12\n",
    "\n",
    "#2C = C * (1 + i) ** 1\n",
    "\n",
    "i = 1 /1\n",
    "print (i)\n"
   ]
  },
  {
   "cell_type": "markdown",
   "id": "a6aae7e3",
   "metadata": {},
   "source": [
    "\n",
    "Questão #3\n",
    "Vale\n",
    "10\n",
    "Enunciado\n",
    "(CESGRANRIO) Uma pessoa tem uma dívida no valor de R$2.000,00, vencendo no dia de hoje. Com dificuldade de quitá-la, pediu o adiamento do pagamento para daqui a 3 meses. Considerando-se uma taxa de juros compostos de 2% a.m., qual é o valor equivalente, aproximadamente, que o gerente do banco propôs que ela pagasse, em reais?\n",
    "\n",
    "Alternativas\n",
    "[ ] A) 2.020,40\n",
    "[ ] D) 2.120,20\n",
    "[ ] B) 2.040,00\n",
    "[X] E) 2.122,42\n",
    "[ ] C) 2.080,82\n",
    "\n"
   ]
  },
  {
   "cell_type": "markdown",
   "id": "a81c0fd6",
   "metadata": {},
   "source": [
    "$$ M = C \\cdot (1 + i)^n$$"
   ]
  },
  {
   "cell_type": "code",
   "execution_count": 70,
   "id": "1dc676b6",
   "metadata": {},
   "outputs": [
    {
     "name": "stdout",
     "output_type": "stream",
     "text": [
      "O valor final do empréstimo foi de 2122.416\n"
     ]
    }
   ],
   "source": [
    "C = 2_000\n",
    "n = 3\n",
    "i = 0.02\n",
    "\n",
    "M = C * ((1 + i) ** n)\n",
    "\n",
    "print(f'O valor final do empréstimo foi de {M}')"
   ]
  },
  {
   "cell_type": "markdown",
   "id": "9f200e59",
   "metadata": {},
   "source": [
    "Questão #4\n",
    "Vale\n",
    "10\n",
    "Enunciado\n",
    "(Prefeitura de Gaspar - SC) Um empréstimo de R$ 20.000,00 é tomado para pagamento após três anos com taxa de juros compostos anual de 10% e capitalização anual. O valor dos juros ao final do período será:\n",
    "\n",
    "Alternativas\n",
    "[ ] A) R$26.000,00\n",
    "[ ] D) R$6.600,00\n",
    "[ ] C) R$6.000,00\n",
    "[X] B) R$6.620,00\n",
    "\n"
   ]
  },
  {
   "cell_type": "markdown",
   "id": "3396c8a3",
   "metadata": {},
   "source": [
    "$$ M = C \\cdot (1 + i)^n$$<br>\n",
    "$$ J = M - C $$<br>"
   ]
  },
  {
   "cell_type": "code",
   "execution_count": 74,
   "id": "f18c3093",
   "metadata": {},
   "outputs": [
    {
     "name": "stdout",
     "output_type": "stream",
     "text": [
      "O valor dos juros ao final do período será: 6620.000000000007\n"
     ]
    }
   ],
   "source": [
    "\n",
    "C = 20000\n",
    "i = 0.10\n",
    "n = 3\n",
    "\n",
    "M = C * ((1 + i) ** n)\n",
    "J = M - C\n",
    "\n",
    "print(f'O valor dos juros ao final do período será: {J}')\n"
   ]
  },
  {
   "cell_type": "markdown",
   "id": "e483af0c",
   "metadata": {},
   "source": [
    "\n",
    "Questão #5\n",
    "Vale\n",
    "10\n",
    "Enunciado\n",
    "João vai aproveitar suas férias daqui a 2 anos e fará uma viagem com sua família. Ele fez os cálculos do valor que precisa, e decidiu fazer um investimento de R$ 2.500,00 no banco. Sua aplicação é com taxa de juros de 4% ao ano, no regime de juros compostos, e ele irá deixar por 2 anos. Assinale a alternativa que apresenta o valor total que João terá após decorridos os 2 anos de sua aplicação:\n",
    "\n",
    "Alternativas\n",
    "[ ] A) R$ 2.700,00\n",
    "[ ] C) R$ 2.714,00\n",
    "[ ] B) R$ 2.708,40\n",
    "[ ] D) R$ 2.710,00\n",
    "[X] E) R$ 2.704,00\n",
    "\n"
   ]
  },
  {
   "cell_type": "markdown",
   "id": "0226a2d5",
   "metadata": {},
   "source": [
    "$$ M = C \\cdot (1 + i)^n$$<br>"
   ]
  },
  {
   "cell_type": "code",
   "execution_count": 76,
   "id": "2babd890",
   "metadata": {},
   "outputs": [
    {
     "name": "stdout",
     "output_type": "stream",
     "text": [
      "Valor total que João terá após decorridos os 2 anos de sua aplicação: 2704.0000000000005\n"
     ]
    }
   ],
   "source": [
    "\n",
    "C = 2500\n",
    "i = 0.04\n",
    "n = 2\n",
    "\n",
    "M = C * ((1 + i) ** n)\n",
    "\n",
    "print (f'Valor total que João terá após decorridos os 2 anos de sua aplicação: {M}')"
   ]
  },
  {
   "cell_type": "markdown",
   "id": "217f4050",
   "metadata": {},
   "source": [
    "\n",
    "Questão #6\n",
    "Vale\n",
    "10\n",
    "Enunciado\n",
    "(CESGRANRIO) Uma pessoa deixou de pagar a fatura do cartão de crédito, de modo que, após dois meses, o valor inicial da fatura se transformou em uma dívida de R$26.450,00. Nunca foram feitas compras parceladas e não foram feitas compras adicionais durante esses dois meses.\n",
    "\n",
    "Considerando-se que foram cobrados, indevidamente, juros compostos de 15% ao mês e que, por determinação judicial, o valor inicial deva ser reconsiderado para uma nova negociação entre as partes, o valor inicial da dívida era de:\n",
    "\n",
    "Alternativas\n",
    "[ ] A) R$18.515,00\n",
    "[X] C) R$20.000,00\n",
    "[ ] B) R$18.815,00\n",
    "[ ] D) R$21.000,00\n",
    "[ ] E) R$21.115,00\n",
    "\n"
   ]
  },
  {
   "cell_type": "markdown",
   "id": "ca62d289",
   "metadata": {},
   "source": [
    "$$ C = \\frac{M}{(1 + i)^n}$$<br>"
   ]
  },
  {
   "cell_type": "code",
   "execution_count": 79,
   "id": "f6119643",
   "metadata": {},
   "outputs": [
    {
     "name": "stdout",
     "output_type": "stream",
     "text": [
      "o valor inicial da dívida era de: 20000.000000000004\n"
     ]
    }
   ],
   "source": [
    "\n",
    "M = 26450\n",
    "n = 2 \n",
    "i = 0.15\n",
    "\n",
    "C = M / ((1 + i) ** n)\n",
    "\n",
    "print (f'o valor inicial da dívida era de: {C}')"
   ]
  },
  {
   "cell_type": "markdown",
   "id": "2d1e785c",
   "metadata": {},
   "source": [
    "\n",
    "Questão #7\n",
    "Vale\n",
    "10\n",
    "Enunciado\n",
    "(CESGRANRIO) Um cliente fez um investimento de R$ 100.000,00 em janeiro de 2019, comprando cotas de um fundo imobiliário, o que lhe proporcionou uma taxa de retorno de 21%, ao final de 12 meses de aplicação. Em janeiro de 2020, buscando maior rentabilidade, procurou um especialista financeiro indicado pelo seu gerente, que lhe recomendou aplicar todo o montante da operação anterior em renda variável. O cliente fez conforme recomendado, o que lhe proporcionou um retorno de 96% em 12 meses, resgatando o novo montante em janeiro de 2021. Considerando-se um sistema de juros compostos, a taxa de retorno equivalente, obtida em cada período de 12 meses pelo cliente, de janeiro de 2019 a janeiro de 2021, foi igual a:\n",
    "\n",
    "Alternativas\n",
    "[X] A) 54%\n",
    "[ ] E) 62%\n",
    "[ ] B) 56%\n",
    "[ ] D) 60%\n",
    "[ ] C) 58%\n",
    "\n"
   ]
  },
  {
   "cell_type": "code",
   "execution_count": null,
   "id": "845a05c4",
   "metadata": {},
   "outputs": [],
   "source": [
    "\n",
    "ieq = [(1 + i)^t - 1]\n",
    "\n",
    "(1 + iE) = (1 + iA) ^ n\n",
    "\n",
    "Onde:\n",
    "\n",
    "iE = taxa de juros equivalente;\n",
    "iA = taxa de juros atual;\n",
    "n = número de períodos.\n"
   ]
  },
  {
   "cell_type": "code",
   "execution_count": 97,
   "id": "a4c3cee3",
   "metadata": {},
   "outputs": [
    {
     "name": "stdout",
     "output_type": "stream",
     "text": [
      "Rentabilidade Fundo Imobiliário: 121000.0\n",
      "Rentabilidade Renda variável...: 237160.0\n",
      "54.0\n"
     ]
    }
   ],
   "source": [
    "# Fundo Imobiliário\n",
    "Ci = 100_000\n",
    "ii = 0.21\n",
    "ni = 12 \n",
    "Fi = C + (C * i)\n",
    "\n",
    "# Renda variável\n",
    "irv = 0.96\n",
    "nrv = 12\n",
    "Rv = Fi + (Fi * irv)\n",
    "\n",
    "n = 2\n",
    "\n",
    "re = ((Rv / Ci) ** 0.5 - 1) * 100\n",
    "\n",
    "\n",
    "#(1 + iE) = (1 + 0,01) ^ 12 → (1 + iE) = 1,01 ^ 12 → iE = 1,12682 - 1 = 0,12682\n",
    "\n",
    "\n",
    "print(f'Rentabilidade Fundo Imobiliário: {Fi}')\n",
    "print(f'Rentabilidade Renda variável...: {Rv}')\n",
    "print (re)"
   ]
  },
  {
   "cell_type": "markdown",
   "id": "fa022209",
   "metadata": {},
   "source": [
    "Questão #8\n",
    "Vale\n",
    "10\n",
    "Enunciado\n",
    "(Planexcon) Maria conseguiu juntar um capital de R$ 4.000,00. Por quanto tempo ela deve aplicar esse valor a uma taxa de juro composto de 7% a.a. para que produza um montante de R$ 6.002,91:\n",
    "\n",
    "Alternativas\n",
    "[X] A) 6 anos\n",
    "[ ] D) 8 anos\n",
    "[ ] C) 7 anos\n",
    "[ ] E) 8 anos e meio\n",
    "[ ] B) 6 anos e meio\n",
    "\n"
   ]
  },
  {
   "cell_type": "markdown",
   "id": "50f8d6a3",
   "metadata": {},
   "source": [
    "$$ M = C \\cdot (1 + i)^n$$\n",
    "\n",
    "$$ n = \\frac{log \\frac{M}{C}}{log (1 + i)}$$"
   ]
  },
  {
   "cell_type": "code",
   "execution_count": null,
   "id": "2f1a5707",
   "metadata": {},
   "outputs": [],
   "source": []
  },
  {
   "cell_type": "code",
   "execution_count": 68,
   "id": "4f0c8e42",
   "metadata": {},
   "outputs": [
    {
     "name": "stdout",
     "output_type": "stream",
     "text": [
      "Duração.: 6 anos\n"
     ]
    }
   ],
   "source": [
    "C = 4000\n",
    "i = 0.07\n",
    "M = 6002.91\n",
    "\n",
    "n = math.log(M/C) / math.log(1 + i)\n",
    "\n",
    "print(f'Duração.: {round(n)} anos')\n"
   ]
  },
  {
   "cell_type": "markdown",
   "id": "5ec42a8a",
   "metadata": {},
   "source": [
    "\n",
    "Questão #9\n",
    "Vale\n",
    "10\n",
    "Enunciado\n",
    "(FGV) Se, ao receber a fatura do seu cartão de crédito, o titular não puder pagar o valor integral, a operadora desse cartão permite que seja feito um pagamento menor de, no mínimo, 15% do valor total. Entretanto, na fatura do mês seguinte, constará: - o saldo devedor (o que não foi pago na fatura anterior) acrescido de juros de 8% a.m.; - a multa por atraso, no valor de 2% do saldo devedor; - juros de mora, no valor de 1% do saldo devedor; - IOF (imposto sobre operações financeiras), no valor de 0,38% do saldo devedor.\n",
    "\n",
    "O titular desse cartão de crédito recebeu uma fatura no valor de R$ 2.000,00 e, na data do vencimento, pagou apenas 40% do seu valor. Um mês após esse pagamento, a dívida nesse cartão foi totalmente quitada. Se nenhuma compra foi feita durante esse período, esse último pagamento foi de:\n",
    "\n",
    "Alternativas\n",
    "[ ] A) R$ 891,04\n",
    "[ ] E) R$ 1.340,21\n",
    "[X] D) R$ 1.336,56\n",
    "[ ] C) R$ 1.240,21\n",
    "[ ] B) R$ 1.236,56\n",
    "\n"
   ]
  },
  {
   "cell_type": "markdown",
   "id": "130d3ab2",
   "metadata": {},
   "source": [
    "$$ M = C \\cdot (1 + i)^n$$"
   ]
  },
  {
   "cell_type": "code",
   "execution_count": 15,
   "id": "718c29bb",
   "metadata": {},
   "outputs": [
    {
     "name": "stdout",
     "output_type": "stream",
     "text": [
      "Taxa (i)...........: 8% ao mês\n",
      "Duração (n)........: 1 mes\n",
      "Saldo devedor (C)..: 1296.0\n",
      "Multa..............: 24.0\n",
      "Mora...............: 12.0\n",
      "IOF................: 4.56\n",
      "Pagamento (C + Multa + Mora + IOF).: 1336.56\n"
     ]
    }
   ],
   "source": [
    "# 1º) A conta veio R$ 2.000,00 e o cliente pagou 40%:\n",
    "vl_conta = 2000 # Valor da conta\n",
    "perc_pago = 0.4 # Valor percentual pago\n",
    "vl_pg = vl_conta * perc_pago # Valor pago\n",
    "vl_dev = vl_conta - vl_pg # Saldo devedor\n",
    "\n",
    "# 2°) Saldo devedor acrescido de 8% juros:\n",
    "i = 8\n",
    "n = 1\n",
    "vl_dev_juros = vl_dev * (1 + (i/100))**1 # C\n",
    "\n",
    "#3º) Multa por atraso de 2% do saldo devedor:\n",
    "vl_dev_multa = vl_dev * 0.02\n",
    "\n",
    "#4°) Juros de mora de 1% do saldo devedor:\n",
    "vl_dev_mora = vl_dev * 0.01\n",
    "\n",
    "#5°) IOF de 0,38% do saldo devedor:\n",
    "vl_dev_iof = vl_dev * 0.0038\n",
    "\n",
    "M = vl_dev_juros + vl_dev_multa + vl_dev_mora + vl_dev_iof\n",
    "\n",
    "print(f'Taxa (i)...........: {i}% ao mês')\n",
    "print(f'Duração (n)........: {n} mes')\n",
    "print(f'Saldo devedor (C)..: {vl_dev_juros}')\n",
    "print(f'Multa..............: {vl_dev_multa}')\n",
    "print(f'Mora...............: {vl_dev_mora}')\n",
    "print(f'IOF................: {vl_dev_iof}')\n",
    "print(f'Pagamento (C + Multa + Mora + IOF).: {M}')\n"
   ]
  },
  {
   "cell_type": "code",
   "execution_count": null,
   "id": "a4711098",
   "metadata": {},
   "outputs": [],
   "source": []
  },
  {
   "cell_type": "markdown",
   "id": "2f2ba386",
   "metadata": {},
   "source": [
    "\n",
    "Questão #10\n",
    "Vale\n",
    "10\n",
    "Enunciado\n",
    "(FGV) Um televisor pode ser adquirido à vista ou por meio de 3 prestações mensais, iguais e consecutivas, no valor de R$ 2.704,00, sendo a primeira delas paga no ato da compra. Se o vendedor cobra juros de 4% a.m. nas transações a prazo, o valor à vista do televisor é:\n",
    "\n",
    "Alternativas\n",
    "[ ] A) R$ 7.800,00\n",
    "[ ] C) R$ 7.802,00\n",
    "[ ] B) R$ 7.801,00\n",
    "[ ] D) R$ 7.803,00\n",
    "[X] E) R$ 7.804,00\n",
    "\n"
   ]
  },
  {
   "cell_type": "markdown",
   "id": "1ab9f8bb",
   "metadata": {},
   "source": [
    "$$ C = \\frac{M}{(1 + i)^n}$$<br>"
   ]
  },
  {
   "cell_type": "code",
   "execution_count": 41,
   "id": "5837608e",
   "metadata": {},
   "outputs": [
    {
     "name": "stdout",
     "output_type": "stream",
     "text": [
      "Valor a vista do televisor: 7804.0\n"
     ]
    }
   ],
   "source": [
    "\n",
    "# Calcular o valor das parcelas sem juros para saber o valor a vista\n",
    "    \n",
    "M = 2704\n",
    "n = 3\n",
    "i = 0.04\n",
    "\n",
    "# Prestação do ato + primeira prestação sem juros + segunda prestação sem juros\n",
    "tv = M + (M / (1+i)**1) + (M / (1+i)**2)\n",
    "\n",
    "print(f'Valor a vista do televisor: {tv}')\n"
   ]
  },
  {
   "cell_type": "code",
   "execution_count": null,
   "id": "936d6a2b",
   "metadata": {},
   "outputs": [],
   "source": []
  }
 ],
 "metadata": {
  "kernelspec": {
   "display_name": "Python 3 (ipykernel)",
   "language": "python",
   "name": "python3"
  },
  "language_info": {
   "codemirror_mode": {
    "name": "ipython",
    "version": 3
   },
   "file_extension": ".py",
   "mimetype": "text/x-python",
   "name": "python",
   "nbconvert_exporter": "python",
   "pygments_lexer": "ipython3",
   "version": "3.8.12"
  }
 },
 "nbformat": 4,
 "nbformat_minor": 5
}
