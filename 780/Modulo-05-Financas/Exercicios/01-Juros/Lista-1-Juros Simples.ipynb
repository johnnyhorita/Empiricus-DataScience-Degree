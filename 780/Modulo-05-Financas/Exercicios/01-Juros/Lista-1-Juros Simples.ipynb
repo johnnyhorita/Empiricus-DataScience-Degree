{
 "cells": [
  {
   "cell_type": "markdown",
   "id": "91cad53d",
   "metadata": {},
   "source": [
    "O juros simples $J$ pode ser calculado da seguinte forma:\n",
    "\n",
    "$$ J = C \\cdot i \\cdot n$$\n",
    "\n",
    "Onde:\n",
    "\n",
    "- $C = $ quantia inicial (capital)\n",
    "- $i = $ taxa de juros (em percentual)\n",
    "- $n = $ período de tempo\n",
    "- $M = $ montante (capital inicial mais os juros)\n",
    "\n",
    "O **montante** $M$ também é conhecido por **Valor Futuro** ou $FV$.\n",
    "\n",
    "O **capital** $C$ também é conhecido por **Valor Presente** ou $PV$.\n",
    "\n",
    "A partir desta mesma relação, podemos reescrever de forma a obter as outras informações:\n",
    "\n",
    "$$ C = \\frac{J}{i \\cdot n}$$<br>\n",
    "$$ i = \\frac{J}{C \\cdot n}$$<br>\n",
    "$$ n = \\frac{J}{C \\cdot i}$$<br>\n",
    "$$ M = C + J$$<br>\n",
    "$$ M = C \\cdot (1 + i \\cdot n)$$<br>\n",
    "$$ C = \\frac{M}{(1 + i \\cdot n)}$$<br>"
   ]
  },
  {
   "cell_type": "markdown",
   "id": "3bc2cb6d",
   "metadata": {},
   "source": [
    "Questão #1\n",
    "Vale\n",
    "10\n",
    "Enunciado\n",
    "(Vunesp) Num balancete de uma empresa consta que certo capital foi aplicado a uma taxa de 30% ao ano durante 8 meses, rendendo juros simples no valor de R$ 192,00. O capital aplicado foi de:\n",
    "\n",
    "Alternativas\n",
    "[ ] R$ 288,00.\n",
    "[ ] R$ 2.880,00.\n",
    "[X] R$ 960,00.\n",
    "[ ] R$ 880,00."
   ]
  },
  {
   "cell_type": "markdown",
   "id": "530b6f34",
   "metadata": {},
   "source": [
    "$$ C = \\frac{J}{i \\cdot n}$$<br>"
   ]
  },
  {
   "cell_type": "code",
   "execution_count": 146,
   "id": "384754a0",
   "metadata": {},
   "outputs": [
    {
     "name": "stdout",
     "output_type": "stream",
     "text": [
      "Capital investido (C): 960.0\n"
     ]
    }
   ],
   "source": [
    "i = 30 / 12  # percentual / quantidade de meses em um ano\n",
    "i = i / 100 # percentual ao mês\n",
    "n = 8       # tempo 8 meses\n",
    "J = 192\n",
    "\n",
    "C = J / (i*n)\n",
    "\n",
    "print(f'Capital investido (C): {C}')\n"
   ]
  },
  {
   "cell_type": "markdown",
   "id": "e9b65cc4",
   "metadata": {},
   "source": [
    "Questão #2\n",
    "Vale\n",
    "10\n",
    "Enunciado\n",
    "Durante quanto tempo um capital deve ser mantido em investimento a juros simples com taxa de 2% a.m. para que ele gere um montante que seja o dobro do capital investido?\n",
    "\n",
    "Alternativas\n",
    "[ ] 3 anos e 4 meses.\n",
    "[ ] 3 anos e 9 meses.\n",
    "[X] 4 anos e 2 meses.\n",
    "[ ] 3 anos e 6 meses.\n",
    "[ ] 4 anos.\n"
   ]
  },
  {
   "cell_type": "markdown",
   "id": "5e9c1e55",
   "metadata": {},
   "source": [
    "$$ M = C \\cdot (1 + i \\cdot n)$$<br>\n",
    "$$ 2C = C \\cdot (1 + 0.02 \\cdot n)$$<br>\n",
    "$$ \\frac{2C} C = (1 + 0.02n)$$<br>\n",
    "$$ 2 = 1 + 0.02n$$<br>\n",
    "$$ 2 - 1 = 0.02n$$<br>\n",
    "$$ 1 = 0.02n$$<br>\n",
    "$$ n = \\frac{1}{0.02}$$<br>\n",
    "$$ n = 50$$<br>"
   ]
  },
  {
   "cell_type": "code",
   "execution_count": 48,
   "id": "35ac6525",
   "metadata": {},
   "outputs": [
    {
     "name": "stdout",
     "output_type": "stream",
     "text": [
      "Taxa (i).............: 0.02% ao mês\n",
      "Duração (n=50).......: 4 anos e 2 meses\n"
     ]
    }
   ],
   "source": [
    "\n",
    "M = C * 2    # montante que seja o dobro do capital investido\n",
    "i = 2        # percentual / quantidade de meses em um ano\n",
    "i = i / 100  # percentual\n",
    "#n = ?        # tempo\n",
    "\n",
    "n = (1/i)\n",
    "\n",
    "print(f'Taxa (i).............: {i}% ao mês')\n",
    "print(f'Duração (n={int(n)}).......: {int(n / 12)} anos e {int(n % 12)} meses')\n"
   ]
  },
  {
   "cell_type": "markdown",
   "id": "1a3e5c6f",
   "metadata": {},
   "source": [
    "Questão #3\n",
    "Vale\n",
    "10\n",
    "Enunciado\n",
    "(Cespe 2008) No regime de juros simples, determinado capital investido durante 2,5 meses produziu o montante de R$ 12.000,00. O mesmo capital, investido durante 5 meses, no mesmo regime de juros, produziu o montante de R$ 14.000,00. Nesse caso, é correto afirmar que esse capital é\n",
    "\n",
    "Alternativas\n",
    "[ ] inferior a R$ 9.400,00.\n",
    "[ ] superior a R$ 10.600,00.\n",
    "[ ] superior a R$ 9.400,00 e inferior a R$ 9.800,00\n",
    "[ ] superior a R$ 10.200,00 e inferior a R$ 10.600,00.\n",
    "[X] superior a R$ 9.800,00 e inferior a R$ 10.200,00.\n",
    "\n"
   ]
  },
  {
   "cell_type": "markdown",
   "id": "bbae32ca",
   "metadata": {},
   "source": [
    "$$ M = C + J$$<br>\n",
    "$$ 12000 = C + 2000$$<br>\n",
    "$$ 12000 - 2000 = C$$<br>\n",
    "$$ C = 10000$$<br>"
   ]
  },
  {
   "cell_type": "code",
   "execution_count": 67,
   "id": "d5933337",
   "metadata": {},
   "outputs": [
    {
     "name": "stdout",
     "output_type": "stream",
     "text": [
      "Capital investido (C): 10000\n"
     ]
    }
   ],
   "source": [
    "# 1º) Capital investido em 2,5 meses = R$ 12.000\n",
    "M = 12_000\n",
    "\n",
    "# 2º) Capital investido em 5 meses = R$ 14.000\n",
    "\n",
    "# 3º) Diferença de montante gerado em 2,5 meses é de 14.000 - 12.000 = R$ 2.000\n",
    "J = 2_000\n",
    "\n",
    "# 4º) O montante é a soma do capital com os juros, pois o tempo de investimento é equivalente (juros simples)\n",
    "\n",
    "C = M - J\n",
    "\n",
    "print(f'Capital investido (C): {C}')"
   ]
  },
  {
   "cell_type": "markdown",
   "id": "8403fe29",
   "metadata": {},
   "source": [
    "\n",
    "Questão #4\n",
    "Vale\n",
    "10\n",
    "Enunciado\n",
    "(FGV) Um capital aplicado a juros simples produz o montante de R$ 7.200,00 em cinco meses e, em oito meses, esse montante passa a valer R$ 7.680,00.\n",
    "\n",
    "Nessas condições, a taxa de juros aplicada a esse capital é de:\n",
    "\n",
    "Alternativas\n",
    "[ ] 2,20% a.m.\n",
    "[ ] 2,36% a.m.\n",
    "[ ] 2,25% a.m.\n",
    "[ ] 2,44% a.m.\n",
    "[X] 2,50% a.m.\n"
   ]
  },
  {
   "cell_type": "markdown",
   "id": "460b54bb",
   "metadata": {},
   "source": [
    "Calcular a diferença entre as duas situações.\n",
    "\n",
    "A diferença entre o tempo: 8 – 5 = 3 meses e o valor 7680 - 7200 = 480.<br>\n",
    "Em 3 meses, esse capital gerou juros de 7.680 – 7.200 = 480, ou seja, em 3 meses, os juros são R$ 480,00, divindo por 3, sabemos que em cada mês o juros é de 160.<br>\n",
    "\n",
    "5 meses = 7200<br>\n",
    "8 meses = 7680<br>\n",
    "3 meses = 480<br>\n",
    "1 mes = 160<br>\n",
    "\n",
    "Em 5 meses, o juro é de 5 · 160 = 800 e que o montante é de 7.200,00, então o capital investido foi de 7.200 – 800 = 6.400. Para encontrar a taxa de juros, faremos o seguinte:\n",
    "\n",
    "$$ i = \\frac{J}{C \\cdot n}$$<br>"
   ]
  },
  {
   "cell_type": "code",
   "execution_count": 145,
   "id": "921be852",
   "metadata": {},
   "outputs": [
    {
     "name": "stdout",
     "output_type": "stream",
     "text": [
      "Taxa (i).............: 2.5% ao mês\n"
     ]
    }
   ],
   "source": [
    "J = 800\n",
    "C = 6400\n",
    "n = 5\n",
    "\n",
    "i = J / (C*n)\n",
    "\n",
    "print(f'Taxa (i).............: {i * 100}% ao mês')\n"
   ]
  },
  {
   "cell_type": "markdown",
   "id": "50ff3243",
   "metadata": {},
   "source": [
    "Questão #5\n",
    "Vale\n",
    "10\n",
    "Enunciado\n",
    "Nos boletos de contas, além da data de vencimento, há também as informações sobre os juros a serem cobrados caso haja atraso no pagamento da conta. Uma determinada conta havia informações de que, no caso de atraso, seriam cobrados 2% de multa mais 1% a cada mês de atraso em cima do valor inicial da dívida.\n",
    "\n",
    "Se em um determinado período uma conta nessas condições ficou atrasada durante 3 meses e o valor pago por ela foi de R$ 868,35, o valor da conta anterior aos juros e à multa é de:\n",
    "\n",
    "Alternativas\n",
    "[ ] R$ 800,00.\n",
    "[ ] R$ 815,00.\n",
    "[ ] R$ 819,00.\n",
    "[X] R$ 827,00.\n",
    "[ ] R$ 832,00\n"
   ]
  },
  {
   "cell_type": "markdown",
   "id": "808d6890",
   "metadata": {},
   "source": [
    "$$ M = C \\cdot (1 + i \\cdot n)$$<br>\n",
    "$$ C = \\frac {M}{(1 + i \\cdot n) + multa}$$<br>"
   ]
  },
  {
   "cell_type": "code",
   "execution_count": 144,
   "id": "5ae23343",
   "metadata": {},
   "outputs": [
    {
     "name": "stdout",
     "output_type": "stream",
     "text": [
      "Capital investido (C): 827.0\n"
     ]
    }
   ],
   "source": [
    "\n",
    "M = 868.35\n",
    "perc_multa = 0.02\n",
    "n = 3\n",
    "i = 0.01 # Multa ao Mês\n",
    "\n",
    "C = M / (1 + (i * n) + perc_multa) \n",
    "\n",
    "J = C * (i * n) \n",
    "\n",
    "print(f'Capital investido (C): {C}')\n"
   ]
  },
  {
   "cell_type": "code",
   "execution_count": null,
   "id": "cfdf77e3",
   "metadata": {},
   "outputs": [],
   "source": []
  },
  {
   "cell_type": "markdown",
   "id": "fd1e0824",
   "metadata": {},
   "source": [
    "\n",
    "Questão #6\n",
    "Vale\n",
    "10\n",
    "Enunciado\n",
    "Para completar a compra de um carro, Júlia pegou emprestado de sua amiga R$ 10.000,00 e pagou, ao final, R$ 12.250,00. Sabendo que a taxa de juros da operação empregada foi 2,5% a.m., quanto tempo Júlia levou para pagar sua amiga?\n",
    "\n",
    "Alternativas\n",
    "[ ] 6 meses.\n",
    "[ ] 7 meses.\n",
    "[ ] 8 meses.\n",
    "[X] 9 meses.\n",
    "[ ] 10 meses.\n"
   ]
  },
  {
   "cell_type": "markdown",
   "id": "0578d6c7",
   "metadata": {},
   "source": [
    "$$ J = M - C$$<br>\n",
    "$$ n = \\frac{J}{C \\cdot i}$$<br>"
   ]
  },
  {
   "cell_type": "code",
   "execution_count": 143,
   "id": "f643eb0e",
   "metadata": {},
   "outputs": [
    {
     "name": "stdout",
     "output_type": "stream",
     "text": [
      "Duração (n)..........: 9.0 meses\n"
     ]
    }
   ],
   "source": [
    "\n",
    "M = 12250\n",
    "i = 2.5 / 100\n",
    "C = 10000\n",
    "\n",
    "J = M - C\n",
    "n = J / (C*i)\n",
    "\n",
    "print(f'Duração (n)..........: {n} meses')\n"
   ]
  },
  {
   "cell_type": "code",
   "execution_count": null,
   "id": "a1ba6465",
   "metadata": {},
   "outputs": [],
   "source": []
  },
  {
   "cell_type": "markdown",
   "id": "7f762c36",
   "metadata": {},
   "source": [
    "Questão #7\n",
    "Vale\n",
    "10\n",
    "Enunciado\n",
    "Alguns amigos se juntaram para fazer um investimento, e cada um realizou o investimento de R$ 2100,00. Esse dinheiro foi investido pelo organizador e, após 8 meses, todos os membros receberam de volta o seu dinheiro mais o valor do rendimento. Sabendo que cada um deles recebeu R$ 2604,00, qual foi a taxa de juros ao mês caso esse valor tenha sido investido em um regime de juros simples?\n",
    "\n",
    "Alternativas\n",
    "[ ] 2% a.m.\n",
    "[ ] 6% a.m.\n",
    "[X] 3% a.m.\n",
    "[ ] 4% a.m.\n",
    "[ ] 5% a.m.\n"
   ]
  },
  {
   "cell_type": "markdown",
   "id": "96c6d50a",
   "metadata": {},
   "source": [
    "$$ i = \\frac{J}{C \\cdot n}$$<br>"
   ]
  },
  {
   "cell_type": "code",
   "execution_count": 142,
   "id": "ec0eeccb",
   "metadata": {},
   "outputs": [
    {
     "name": "stdout",
     "output_type": "stream",
     "text": [
      "Taxa (i).............: 3.0% ao mês\n"
     ]
    }
   ],
   "source": [
    "M = 2604\n",
    "C = 2100\n",
    "n = 8\n",
    "\n",
    "J = M - C\n",
    "i = J / (C * n)\n",
    "\n",
    "print(f'Taxa (i).............: {i*100}% ao mês')\n"
   ]
  },
  {
   "cell_type": "markdown",
   "id": "10832f17",
   "metadata": {},
   "source": [
    "Questão #8\n",
    "Vale\n",
    "10\n",
    "Enunciado\n",
    "Qual deve ser o capital aplicado a uma taxa de juros simples de 10% a.a. para que, em 6 meses, renda R$ 217,50 de juros?\n",
    "\n",
    "Alternativas\n",
    "[X] R$ 4350,00.\n",
    "[ ] R$ 3.750,00.\n",
    "[ ] R$ 3.575,00.\n",
    "[ ] R$ 345,00.\n",
    "[ ] R$ 453,00.\n",
    "\n"
   ]
  },
  {
   "cell_type": "markdown",
   "id": "9c4dcb78",
   "metadata": {},
   "source": [
    "$$ C = \\frac{J}{i \\cdot n}$$<br>"
   ]
  },
  {
   "cell_type": "code",
   "execution_count": 141,
   "id": "17b24861",
   "metadata": {},
   "outputs": [
    {
     "name": "stdout",
     "output_type": "stream",
     "text": [
      "Capital investido (C): 4350.0\n"
     ]
    }
   ],
   "source": [
    "\n",
    "J = 217.50\n",
    "i = (10 / 12) / 100\n",
    "n = 6\n",
    "\n",
    "C = J / (i * n)\n",
    "\n",
    "print(f'Capital investido (C): {C}')\n"
   ]
  },
  {
   "cell_type": "markdown",
   "id": "2768ad19",
   "metadata": {},
   "source": [
    "\n",
    "Questão #9\n",
    "Vale\n",
    "10\n",
    "Enunciado\n",
    "Uma mesa digitalizadora é vendida à vista no valor de R$ 600,00 ou a prazo por R$ 675,00. Caso o cliente opte pela segunda opção, ele precisa dar uma entrada de R$ 100,00 e pagar o restante após 1 mês. Nesse caso, a taxa de juros mensal que é cobrada pelo valor pago a prazo é de:\n",
    "\n",
    "Alternativas\n",
    "[ ] 5%.\n",
    "[ ] 20%.\n",
    "[X] 15%.\n",
    "[ ] 10%.\n",
    "[ ] 12%.\n"
   ]
  },
  {
   "cell_type": "markdown",
   "id": "f6729088",
   "metadata": {},
   "source": [
    "$$ i = \\frac{J}{C \\cdot n}$$<br>"
   ]
  },
  {
   "cell_type": "code",
   "execution_count": 140,
   "id": "54abc498",
   "metadata": {},
   "outputs": [
    {
     "name": "stdout",
     "output_type": "stream",
     "text": [
      "Taxa (i).............: 15.0% ao mês\n"
     ]
    }
   ],
   "source": [
    "# Pagamento à vista\n",
    "pg_vista = 600 \n",
    "# Pagamento à prazo\n",
    "pg_prazo = 675\n",
    "# Valor da entrada\n",
    "vl_ent = 100\n",
    "# Restante a pagar é o valor do pagamento à vista - o valor de entrada, que será a quantia incial (capital)\n",
    "C = pg_vista - vl_ent\n",
    "# juros = Pagamento à prazo - pagamento à vista\n",
    "J = pg_prazo - pg_vista\n",
    "# pagar o restante após 1 mês\n",
    "n = 1\n",
    "\n",
    "i = (J / (C * n))*100\n",
    "\n",
    "print(f'Taxa (i).............: {i}% ao mês')\n"
   ]
  },
  {
   "cell_type": "code",
   "execution_count": null,
   "id": "80d0eafd",
   "metadata": {},
   "outputs": [],
   "source": []
  },
  {
   "cell_type": "markdown",
   "id": "1e1e63d6",
   "metadata": {},
   "source": [
    "Questão #10\n",
    "Vale\n",
    "10\n",
    "Enunciado\n",
    "(IFMG) Chiquinho aplicou a quantia de R$ 500,00 a juros simples durante 6 meses. A taxa de aplicação foi de 5% ao mês. O montante obtido foi de:\n",
    "\n",
    "Alternativas\n",
    "[X] R$ 650,00.\n",
    "[ ] R$ 700,00.\n",
    "[ ] R$ 800,00.\n",
    "[ ] R$ 750,00.\n"
   ]
  },
  {
   "cell_type": "markdown",
   "id": "a0d5729c",
   "metadata": {},
   "source": [
    "$$ M = C \\cdot (1 + i \\cdot n)$$<br>"
   ]
  },
  {
   "cell_type": "code",
   "execution_count": 139,
   "id": "9290cb2f",
   "metadata": {},
   "outputs": [
    {
     "name": "stdout",
     "output_type": "stream",
     "text": [
      "Montante (M).........: 650.0\n"
     ]
    }
   ],
   "source": [
    "C = 500\n",
    "i = 5 / 100\n",
    "n = 6\n",
    "\n",
    "M = C * (1 + (i * n))\n",
    "\n",
    "print(f'Montante (M).........: {M}')\n"
   ]
  },
  {
   "cell_type": "code",
   "execution_count": null,
   "id": "07ba3a91",
   "metadata": {},
   "outputs": [],
   "source": []
  }
 ],
 "metadata": {
  "kernelspec": {
   "display_name": "Python 3 (ipykernel)",
   "language": "python",
   "name": "python3"
  },
  "language_info": {
   "codemirror_mode": {
    "name": "ipython",
    "version": 3
   },
   "file_extension": ".py",
   "mimetype": "text/x-python",
   "name": "python",
   "nbconvert_exporter": "python",
   "pygments_lexer": "ipython3",
   "version": "3.8.12"
  }
 },
 "nbformat": 4,
 "nbformat_minor": 5
}
