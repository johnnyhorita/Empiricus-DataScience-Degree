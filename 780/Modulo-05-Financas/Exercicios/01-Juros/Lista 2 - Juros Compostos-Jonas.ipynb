{
 "cells": [
  {
   "cell_type": "markdown",
   "id": "fcea9044",
   "metadata": {},
   "source": [
    "__#1(CESGRANRIO) Um banco possui, atualmente, um modelo de financiamento em regime de juros compostos, em que as parcelas são pagas, mensalmente, a uma taxa de juros de 2% ao mês. Para um certo perfil de clientes, o banco pretende possibilitar o pagamento da dívida a cada três meses, a uma taxa de juros trimestral equivalente à praticada no modelo atual. A melhor aproximação para o valor da taxa de juros trimestral desse novo modelo de financiamento é:__"
   ]
  },
  {
   "cell_type": "code",
   "execution_count": 4,
   "id": "97362b57",
   "metadata": {},
   "outputs": [
    {
     "name": "stdout",
     "output_type": "stream",
     "text": [
      "A taxa trimestral é de 6.120800000000015%\n"
     ]
    }
   ],
   "source": [
    "taxa = 0.02\n",
    "\n",
    "#(1 + taxa_equivalente)**periodo_taxa_quivalente = (1 + taxa)**periodo_taxa\n",
    "#(1+taxa_equivalente)1 = (1+0,02)3 \n",
    "taxa_equivalente = ((1.02)**3) - 1 \n",
    "\n",
    "print(f'A taxa trimestral é de {taxa_equivalente*100}%')"
   ]
  },
  {
   "cell_type": "markdown",
   "id": "6e81d471",
   "metadata": {},
   "source": [
    "__#2(ZAMBINI) Juca e Glaucom, primos e pintores de Igreja, estão estudando realizar investimentos com o dinheiro recebido de suas pinturas. Eles querem um investimento que duplique o capital investido após um ano. Esse investimento deve ter uma taxa de juros anual de:__"
   ]
  },
  {
   "cell_type": "code",
   "execution_count": 1,
   "id": "4323cc6c",
   "metadata": {},
   "outputs": [],
   "source": [
    "C = 1\n",
    "M = 2\n",
    "#M = C x (1+taxa)**1\n",
    "taxa = 1"
   ]
  },
  {
   "cell_type": "markdown",
   "id": "7fa55dc7",
   "metadata": {},
   "source": [
    "__#3 (CESGRANRIO) Uma pessoa tem uma dívida no valor de 2.000,00, vencendo no dia de hoje. Com dificuldade de quitá-la, pediu o adiamento do pagamento para daqui a 3 meses. Considerando-se uma taxa de juros compostos de 2% a.m., qual é o valor equivalente, aproximadamente, que o gerente do banco propôs que ela pagasse, em reais?__"
   ]
  },
  {
   "cell_type": "code",
   "execution_count": 4,
   "id": "8d31b7e2",
   "metadata": {},
   "outputs": [
    {
     "name": "stdout",
     "output_type": "stream",
     "text": [
      "O valor final do empréstimo foi de 2122.416\n"
     ]
    }
   ],
   "source": [
    "C = 2_000\n",
    "prazo = 3\n",
    "taxa = 0.02\n",
    "\n",
    "#M = C x (1+taxa)**prazo\n",
    "\n",
    "M = C*((1+taxa)**prazo)\n",
    "\n",
    "print(f'O valor final do empréstimo foi de {M}')"
   ]
  },
  {
   "cell_type": "markdown",
   "id": "c450207d",
   "metadata": {},
   "source": [
    "__#4(Prefeitura de Gaspar - SC) Um empréstimo de 20.000,00 é tomado para pagamento após três anos com taxa de juros compostos anual de 10% e capitalização anual. O valor dos juros ao final do período será:__"
   ]
  },
  {
   "cell_type": "code",
   "execution_count": 6,
   "id": "bc068424",
   "metadata": {},
   "outputs": [
    {
     "name": "stdout",
     "output_type": "stream",
     "text": [
      "O valor do juros foi de 6620.000000000007\n"
     ]
    }
   ],
   "source": [
    "C = 20_000\n",
    "prazo = 3\n",
    "taxa = 0.1\n",
    "\n",
    "#M = C x (1+taxa)**prazo\n",
    "M = C*((1+taxa)**prazo)\n",
    "\n",
    "#Juros = M - C\n",
    "juros = M-C\n",
    "\n",
    "print(f'O valor do juros foi de {juros}')"
   ]
  },
  {
   "cell_type": "markdown",
   "id": "ab319962",
   "metadata": {},
   "source": [
    "__#5 João vai aproveitar suas férias daqui a 2 anos e fará uma viagem com sua família. Ele fez os cálculos do valor que precisa, e decidiu fazer um investimento de 2.500,00 no banco. Sua aplicação é com taxa de juros de 4% ao ano, no regime de juros compostos, e ele irá deixar por 2 anos. Assinale a alternativa que apresenta o valor total que João terá após decorridos os 2 anos de sua aplicação:__"
   ]
  },
  {
   "cell_type": "code",
   "execution_count": 8,
   "id": "531ab1a5",
   "metadata": {},
   "outputs": [
    {
     "name": "stdout",
     "output_type": "stream",
     "text": [
      "O valor final que João terá ao final de dois ano é de 2704.0000000000005\n"
     ]
    }
   ],
   "source": [
    "C = 2_500\n",
    "taxa = 0.04\n",
    "prazo = 2\n",
    "\n",
    "#M = C x (1+taxa)**prazo\n",
    "M = C*((1+taxa)**prazo)\n",
    "\n",
    "print(f'O valor final que João terá ao final de dois ano é de {M}')"
   ]
  },
  {
   "cell_type": "markdown",
   "id": "2d37268c",
   "metadata": {},
   "source": [
    "__#6 (CESGRANRIO) Uma pessoa deixou de pagar a fatura do cartão de crédito, de modo que, após dois meses, o valor inicial da fatura se transformou em uma dívida de 26.450,00. Nunca foram feitas compras parceladas e não foram feitas compras adicionais durante esses dois meses.__\n",
    "\n",
    "__Considerando-se que foram cobrados, indevidamente, juros compostos de 15% ao mês e que, por determinação judicial, o valor inicial deva ser reconsiderado para uma nova negociação entre as partes, o valor inicial da dívida era de:__"
   ]
  },
  {
   "cell_type": "code",
   "execution_count": 9,
   "id": "42146fcd",
   "metadata": {},
   "outputs": [
    {
     "name": "stdout",
     "output_type": "stream",
     "text": [
      "O valor inicial da divida era de 20000.000000000004\n"
     ]
    }
   ],
   "source": [
    "M = 26_450\n",
    "taxa = 0.15\n",
    "prazo = 2\n",
    "\n",
    "#C = M/((1+taxa)**prazo)\n",
    "C = M/((1+taxa)**prazo)\n",
    "\n",
    "print(f'O valor inicial da divida era de {C}')"
   ]
  },
  {
   "cell_type": "markdown",
   "id": "1b927231",
   "metadata": {},
   "source": [
    "__#7 (CESGRANRIO) Um cliente fez um investimento de 100.000,00 em janeiro de 2019, comprando cotas de um fundo imobiliário, o que lhe proporcionou uma taxa de retorno de 21%, ao final de 12 meses de aplicação. Em janeiro de 2020, buscando maior rentabilidade, procurou um especialista financeiro indicado pelo seu gerente, que lhe recomendou aplicar todo o montante da operação anterior em renda variável. O cliente fez conforme recomendado, o que lhe proporcionou um retorno de 96% em 12 meses, resgatando o novo montante em janeiro de 2021. Considerando-se um sistema de juros compostos, a taxa de retorno equivalente, obtida em cada período de 12 meses pelo cliente, de janeiro de 2019 a janeiro de 2021, foi igual a:__"
   ]
  },
  {
   "cell_type": "code",
   "execution_count": 17,
   "id": "fc16598f",
   "metadata": {},
   "outputs": [
    {
     "name": "stdout",
     "output_type": "stream",
     "text": [
      "O juros do periodo foi de 1.5394804318340654\n"
     ]
    }
   ],
   "source": [
    "#FII\n",
    "C = 100_000\n",
    "M = 121_000\n",
    "prazo = 12\n",
    "\n",
    "#Multimercado\n",
    "C_2 = 121_000\n",
    "M_2 = 237160\n",
    "prazo_2 = 12\n",
    "\n",
    "#Colocando na fórmula\n",
    "#237_160 = 100_000 x ((1 + juros)**2)\n",
    "#237_160/100_000 = (1 + juros)**2\n",
    "juros = 2.37**0.5\n",
    "\n",
    "print(f'O juros do periodo foi de {juros}')"
   ]
  },
  {
   "cell_type": "markdown",
   "id": "15f12173",
   "metadata": {},
   "source": [
    "__#8 #(Planexcon) Maria conseguiu juntar um capital de 4.000,00. Por quanto tempo ela deve aplicar esse valor a uma taxa de juro composto de 7% a.a. para que produza um montante de 6.002,91:__"
   ]
  },
  {
   "cell_type": "code",
   "execution_count": 23,
   "id": "a2f55e9b",
   "metadata": {},
   "outputs": [
    {
     "data": {
      "text/plain": [
       "1.5007303518490005"
      ]
     },
     "execution_count": 23,
     "metadata": {},
     "output_type": "execute_result"
    }
   ],
   "source": [
    "C = 4_000\n",
    "taxa = 0.07\n",
    "M = 6_002.91\n",
    "\n",
    "#M = C x (1+taxa)**prazo\n",
    "#6_002.91 = 4_000 x (1.07)**prazo\n",
    "#1.5 = 1.07**prazo\n",
    "prazo = 6"
   ]
  },
  {
   "cell_type": "markdown",
   "id": "c73afb5a",
   "metadata": {},
   "source": [
    "__#9 #(FGV) Se, ao receber a fatura do seu cartão de crédito, o titular não puder pagar o valor integral, a operadora desse cartão permite que seja feito um pagamento menor de, no mínimo, 15% do valor total. Entretanto, na fatura do mês seguinte, constará: - o saldo devedor (o que não foi pago na fatura anterior) acrescido de juros de 8% a.m.; - a multa por atraso, no valor de 2% do saldo devedor; - juros de mora, no valor de 1% do saldo devedor; - IOF (imposto sobre operações financeiras), no valor de 0,38% do saldo devedor.__\n",
    "\n",
    "__O titular desse cartão de crédito recebeu uma fatura no valor de 2.000,00 e, na data do vencimento, pagou apenas 40% do seu valor. Um mês após esse pagamento, a dívida nesse cartão foi totalmente quitada. Se nenhuma compra foi feita durante esse período, esse último pagamento foi de:__"
   ]
  },
  {
   "cell_type": "code",
   "execution_count": 25,
   "id": "837aad75",
   "metadata": {},
   "outputs": [
    {
     "data": {
      "text/plain": [
       "1336.56"
      ]
     },
     "execution_count": 25,
     "metadata": {},
     "output_type": "execute_result"
    }
   ],
   "source": [
    "valor_entrada = 800\n",
    "taxa = 0.08\n",
    "multa = 0.02\n",
    "juros_mora = 0.01\n",
    "IOF = 0.0038\n",
    "fatura = 2_000\n",
    "C = 1_200\n",
    "\n",
    "#M = C * (1 + taxa)**prazo + C*multa + C*juros_mora + C*IOF\n",
    "prazo = 1\n",
    "M = C * (1 + taxa)**prazo + C*multa + C*juros_mora + C*IOF\n",
    "M"
   ]
  },
  {
   "cell_type": "markdown",
   "id": "17b58a87",
   "metadata": {},
   "source": [
    "__#10 (FGV) Um televisor pode ser adquirido à vista ou por meio de 3 prestações mensais, iguais e consecutivas, no valor de 2.704,00, sendo a primeira delas paga no ato da compra. Se o vendedor cobra juros de 4% a.m. nas transações a prazo, o valor à vista do televisor é:__"
   ]
  },
  {
   "cell_type": "code",
   "execution_count": 32,
   "id": "450ce1cd",
   "metadata": {},
   "outputs": [
    {
     "name": "stdout",
     "output_type": "stream",
     "text": [
      "O valor a vista foi de 7804.0\n"
     ]
    }
   ],
   "source": [
    "M_1 = 2_704\n",
    "M_2 = 2_704\n",
    "taxa = 0.04\n",
    "\n",
    "#C = M/((1+taxa)**prazo)\n",
    "C_1 = M_1/((1+taxa)**1)\n",
    "\n",
    "C_2 = M_2/((1+taxa)**2)\n",
    "\n",
    "valor_vista = 2704 + C_1 + C_2\n",
    "\n",
    "print(f'O valor a vista foi de {valor_vista}')"
   ]
  }
 ],
 "metadata": {
  "kernelspec": {
   "display_name": "Python 3 (ipykernel)",
   "language": "python",
   "name": "python3"
  },
  "language_info": {
   "codemirror_mode": {
    "name": "ipython",
    "version": 3
   },
   "file_extension": ".py",
   "mimetype": "text/x-python",
   "name": "python",
   "nbconvert_exporter": "python",
   "pygments_lexer": "ipython3",
   "version": "3.8.12"
  }
 },
 "nbformat": 4,
 "nbformat_minor": 5
}
