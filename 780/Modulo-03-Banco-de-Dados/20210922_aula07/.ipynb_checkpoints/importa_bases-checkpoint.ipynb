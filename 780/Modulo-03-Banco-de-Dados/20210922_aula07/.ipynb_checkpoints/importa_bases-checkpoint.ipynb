{
 "cells": [
  {
   "cell_type": "markdown",
   "id": "845a0e1d",
   "metadata": {},
   "source": [
    "## Importação da planilha BrazilianCities.xlsx \n",
    "\n",
    "#### Utilizando as bibliotecas pandas e psycopg2"
   ]
  },
  {
   "cell_type": "code",
   "execution_count": null,
   "id": "2881e110",
   "metadata": {
    "ExecuteTime": {
     "end_time": "2021-09-22T22:17:57.869477Z",
     "start_time": "2021-09-22T22:17:56.883915Z"
    }
   },
   "outputs": [],
   "source": [
    "# importa bibliotecas\n",
    "import pandas as pd\n",
    "import psycopg2\n",
    "import psycopg2.extras as extras\n",
    "from psycopg2 import OperationalError, errorcodes, errors\n",
    "from io import StringIO\n"
   ]
  },
  {
   "cell_type": "code",
   "execution_count": null,
   "id": "b928c0cf",
   "metadata": {
    "ExecuteTime": {
     "end_time": "2021-09-14T18:53:53.874093Z",
     "start_time": "2021-09-14T18:53:53.856072Z"
    }
   },
   "outputs": [],
   "source": [
    "# Variáveis de conexão\n",
    "host = ''\n",
    "dbName = 'bd_cidades_estados'\n",
    "user = ''\n",
    "pwd = ''"
   ]
  },
  {
   "cell_type": "code",
   "execution_count": null,
   "id": "c55ea4e1",
   "metadata": {
    "ExecuteTime": {
     "end_time": "2021-09-22T22:18:36.279524Z",
     "start_time": "2021-09-22T22:18:36.275918Z"
    }
   },
   "outputs": [],
   "source": [
    "host = 'awspostgresql-lc.cpsrkdcyo3lf.us-east-2.rds.amazonaws.com'\n",
    "dbName = 'geo_letscode'\n",
    "user = 'postgres'\n",
    "pwd = '.Sbrobous'"
   ]
  },
  {
   "cell_type": "code",
   "execution_count": null,
   "id": "886d6c43",
   "metadata": {
    "ExecuteTime": {
     "end_time": "2021-09-22T22:19:05.479749Z",
     "start_time": "2021-09-22T22:19:05.467715Z"
    }
   },
   "outputs": [],
   "source": [
    "# Funcões\n",
    "\n",
    "# Função para conexão com o banco de dados\n",
    "def connect_database(host, dbName, user, pwd):\n",
    "    \"\"\"\n",
    "    Função para conectar o banco de dados\n",
    "\n",
    "    Parametros:\n",
    "        host   : Instancia PostgreSQL\n",
    "        dbName : banco de dados\n",
    "        user   : usuário\n",
    "        pwd    : senha do usuário\n",
    "        \n",
    "    Retornos:\n",
    "        cur  : Utilize para conectar e executar os comandos SQL.\n",
    "        conn : Conexão com o banco de dados.\n",
    "    \"\"\"\n",
    "    # connect to default database\n",
    "    conn = psycopg2.connect(f\"host={host} dbname={dbName} user={user} password={pwd}\")\n",
    "    conn.set_session(autocommit=True)\n",
    "    cur = conn.cursor()\n",
    "    return cur, conn\n",
    "\n",
    "# Função para criar as tabelas\n",
    "def create_tables(stmt_create_tables):\n",
    "    \"\"\"\n",
    "    Função para criar tabelas\n",
    "\n",
    "    Parametros:\n",
    "        cur  : Utilize para conectar e executar os comandos SQL.\n",
    "        conn : Conexão com o banco de dados.\n",
    "    \"\"\"\n",
    "    for stmt in stmt_create_tables:\n",
    "        cur.execute(stmt)\n",
    "        conn.commit()\n",
    "    return\n",
    "\n",
    "\n",
    "# Função genérica para inserir linhas\n",
    "def insert_rows(df, insert_stmt):\n",
    "    \"\"\"\n",
    "    Função genérica para inserir linhas em tabela\n",
    "    \n",
    "    Parametros:\n",
    "        df          : Dataframe com os valores a serem inseridos\n",
    "        insert_stmt : Comando de insert \n",
    "    \"\"\"\n",
    "    # Executa o loop para gerar as tuplas com os valores a serem inseridos\n",
    "    for row in df.itertuples(index=False):\n",
    "        # print(tuple(row))\n",
    "        # Executa o insert\n",
    "        cur.execute(insert_stmt, tuple(row))\n",
    "    print(\"Dados inseridos com sucesso...\")\n",
    "    return\n",
    "\n",
    "# função usando psycopg2.extras.execute_values() para inserir o dataframe\n",
    "def insert_tb_cidade(df):    \n",
    "    \"\"\"\n",
    "    Função usando psycopg2.extras.execute_values() para inserir o dataframe\n",
    "    \n",
    "    Parametros:\n",
    "        df    : Dataframe com os valores a serem inseridos\n",
    "    \"\"\"   \n",
    "    # Criação de uma lista de tupples a partir dos valores do dataframe\n",
    "    tpls = [tuple(row) for row in df.itertuples(index=False)]\n",
    "    \n",
    "    # Comando de inserção\n",
    "    sql = \"\"\" INSERT INTO tb_cidade (nome_cidade, id_estado) VALUES %s\"\"\"\n",
    "    try:\n",
    "        extras.execute_values(cur, sql, tpls)\n",
    "        print(\"Dados inseridos usando execute_values() com sucesso...\")\n",
    "    except (Exception, psycopg2.DatabaseError) as err:\n",
    "        show_psycopg2_exception(err)\n",
    "        cursor.close()\n",
    "    return\n",
    "\n",
    "# função usando copy_from() com StringIO para inserir o dataframe\n",
    "def copy_from_dataFile_StringIO(df, table, cols):\n",
    "    \"\"\"\n",
    "    Função usando copy_from() com StringIO para inserir o dataframe\n",
    "\n",
    "    Parametros:\n",
    "        df    : Dataframe com os valores a serem inseridos\n",
    "        table : Tabela para inserção dos dados\n",
    "        cols  : Colunas da tabela\n",
    "    \"\"\"\n",
    "    \n",
    "  # salvando o dataframe para a memória\n",
    "    buffer = StringIO()\n",
    "    df.to_csv(buffer, header=False, index = False)\n",
    "    buffer.seek(0)\n",
    "    try:\n",
    "        cur.copy_from(buffer, table, sep=\",\", columns=cols)\n",
    "        print(\"Dados inseridos usando copy_from_datafile_StringIO() com sucesso...\")\n",
    "    except (Exception, psycopg2.DatabaseError) as err:\n",
    "        show_psycopg2_exception(err)\n",
    "        cursor.close()\n",
    "    return\n"
   ]
  },
  {
   "cell_type": "code",
   "execution_count": null,
   "id": "97a25b07",
   "metadata": {
    "ExecuteTime": {
     "end_time": "2021-09-22T22:19:52.275501Z",
     "start_time": "2021-09-22T22:19:50.772310Z"
    }
   },
   "outputs": [],
   "source": [
    "# Conexão com o banco de dados Postgre\n",
    "cur, conn = connect_database(host, dbName, user, pwd)"
   ]
  },
  {
   "cell_type": "code",
   "execution_count": null,
   "id": "105952cd",
   "metadata": {
    "ExecuteTime": {
     "end_time": "2021-09-22T23:45:51.659062Z",
     "start_time": "2021-09-22T23:45:51.656068Z"
    }
   },
   "outputs": [],
   "source": [
    "# Comandos para criação das tabelas\n",
    "#stmt_create_tables = list()\n",
    "#stmt_create_tables.append('CREATE TABLE IF NOT EXISTS fabricante (manufacturerID INTEGER NOT NULL, manufacturer VARCHAR(100) NOT NULL, CONSTRAINT fabricante_pk PRIMARY KEY (manufacturerID));')\n",
    "#stmt_create_tables.append('CREATE TABLE IF NOT EXISTS produtos (productID INTEGER NOT NULL, category VARCHAR(100) NOT NULL, segment VARCHAR(100) NOT NULL, product VARCHAR(100) NOT NULL, manufacturerID INTEGER NOT NULL, CONSTRAINT produtos_pk PRIMARY KEY (productID));')\n",
    "#stmt_create_tables.append('CREATE TABLE IF NOT EXISTS geo (zip INTEGER NOT NULL, city VARCHAR(100) NOT NULL, state VARCHAR(2) NOT NULL, region VARCHAR(6) NOT NULL, district VARCHAR(20) NOT NULL, CONSTRAINT geo_pk PRIMARY KEY (zip));')\n",
    "#stmt_create_tables.append('CREATE TABLE IF NOT EXISTS vendas (saleid INTEGER NOT NULL, date DATE NOT NULL, units INTEGER NOT NULL, revenue NUMERIC(10,2) NOT NULL, zip INTEGER NOT NULL, productID INTEGER NOT NULL, CONSTRAINT vendas_pk PRIMARY KEY (saleid));')\n"
   ]
  },
  {
   "cell_type": "code",
   "execution_count": null,
   "id": "66e6357d",
   "metadata": {
    "ExecuteTime": {
     "end_time": "2021-09-22T23:45:52.233562Z",
     "start_time": "2021-09-22T23:45:52.231560Z"
    }
   },
   "outputs": [],
   "source": [
    "#cur.execute('ALTER TABLE produtos ADD CONSTRAINT fabricante_produtos_fk FOREIGN KEY (manufacturerID) REFERENCES fabricante (manufacturerID) ON DELETE NO ACTION ON UPDATE NO ACTION NOT DEFERRABLE;')  \n",
    "#cur.execute('ALTER TABLE vendas ADD CONSTRAINT produtos_vendas_fk FOREIGN KEY (productID) REFERENCES produtos (productID) ON DELETE NO ACTION ON UPDATE NO ACTION NOT DEFERRABLE;')  \n",
    "#cur.execute('ALTER TABLE vendas ADD CONSTRAINT geo_vendas_fk FOREIGN KEY (zip) REFERENCES geo (zip) ON DELETE NO ACTION ON UPDATE NO ACTION NOT DEFERRABLE;')  "
   ]
  },
  {
   "cell_type": "code",
   "execution_count": null,
   "id": "7a596b5d",
   "metadata": {
    "ExecuteTime": {
     "end_time": "2021-09-15T13:32:58.434467Z",
     "start_time": "2021-09-15T13:32:58.038997Z"
    }
   },
   "outputs": [],
   "source": [
    "# Cria as tabelas no banco de dados\n",
    "#create_tables(stmt_create_tables)"
   ]
  },
  {
   "cell_type": "code",
   "execution_count": null,
   "id": "1ee7679d",
   "metadata": {
    "ExecuteTime": {
     "end_time": "2021-09-22T22:37:51.746293Z",
     "start_time": "2021-09-22T22:37:51.705617Z"
    }
   },
   "outputs": [],
   "source": [
    "# Cria datraframe geo\n",
    "dfgeo = pd.read_csv('./bases/geo.csv', sep=',')"
   ]
  },
  {
   "cell_type": "code",
   "execution_count": null,
   "id": "78efbca9",
   "metadata": {
    "ExecuteTime": {
     "end_time": "2021-09-22T22:50:53.848315Z",
     "start_time": "2021-09-22T22:50:53.844311Z"
    }
   },
   "outputs": [],
   "source": [
    "dfgeo.shape"
   ]
  },
  {
   "cell_type": "code",
   "execution_count": null,
   "id": "e5b5a73d",
   "metadata": {
    "ExecuteTime": {
     "end_time": "2021-09-22T22:51:06.501993Z",
     "start_time": "2021-09-22T22:51:06.471958Z"
    }
   },
   "outputs": [],
   "source": [
    "# Verifica se existem zips duplicados\n",
    "dfgeo[dfgeo.duplicated()]"
   ]
  },
  {
   "cell_type": "code",
   "execution_count": null,
   "id": "78eab07c",
   "metadata": {
    "ExecuteTime": {
     "end_time": "2021-09-22T22:41:05.359478Z",
     "start_time": "2021-09-22T22:41:05.296821Z"
    }
   },
   "outputs": [],
   "source": [
    "# Retira o State de City e cria uma coluna apenas com City\n",
    "dfgeo['CityOnly'] = dfgeo['City'].str.split(',', 0, expand=True)[0]"
   ]
  },
  {
   "cell_type": "code",
   "execution_count": null,
   "id": "6bce24c9",
   "metadata": {
    "ExecuteTime": {
     "end_time": "2021-09-22T23:11:25.317520Z",
     "start_time": "2021-09-22T23:11:25.310518Z"
    }
   },
   "outputs": [],
   "source": [
    "# Gera dataframe geo2\n",
    "columns = ['Zip', 'CityOnly', 'State', 'Region', 'District']\n",
    "dfgeo2 = dfgeo[columns].copy()\n",
    "dfgeo2.rename(columns = {'CityOnly': 'City'}, inplace = True)"
   ]
  },
  {
   "cell_type": "code",
   "execution_count": null,
   "id": "c5ece6ab",
   "metadata": {
    "ExecuteTime": {
     "end_time": "2021-09-22T23:12:11.826110Z",
     "start_time": "2021-09-22T23:12:11.044186Z"
    }
   },
   "outputs": [],
   "source": [
    "# Inserindo dados na tabela geo\n",
    "#Comando para truncar a tabela \n",
    "cur.execute('truncate table geo')  \n",
    "\n",
    "#Chamada da função para inserção utilizando arquivo em memória\n",
    "cols = ['zip', 'City', 'State', 'Region', 'District']\n",
    "copy_from_dataFile_StringIO(dfgeo2, 'geo', cols)"
   ]
  },
  {
   "cell_type": "code",
   "execution_count": null,
   "id": "3ed9b2d1",
   "metadata": {
    "ExecuteTime": {
     "end_time": "2021-09-15T13:33:08.386235Z",
     "start_time": "2021-09-15T13:33:07.799571Z"
    }
   },
   "outputs": [],
   "source": [
    "#Comando para truncar a tabela \n",
    "cur.execute('truncate table tb_estado restart identity')  \n",
    "\n",
    "#Chamada da função para inserção utilizando arquivo em memória\n",
    "cols = ['nome_estado', 'sigla_estado']\n",
    "copy_from_dataFile_StringIO(df_estado, 'tb_estado', cols)"
   ]
  },
  {
   "cell_type": "code",
   "execution_count": null,
   "id": "207acb78",
   "metadata": {
    "ExecuteTime": {
     "end_time": "2021-09-15T13:33:10.948031Z",
     "start_time": "2021-09-15T13:33:10.668056Z"
    }
   },
   "outputs": [],
   "source": [
    "# Select na tabela tb_estado para verificar as linhas inseridas\n",
    "cur.execute('SELECT * FROM tb_estado')  \n",
    "rows = cur.fetchall()\n",
    "rows"
   ]
  },
  {
   "cell_type": "code",
   "execution_count": null,
   "id": "f5f11853",
   "metadata": {
    "ExecuteTime": {
     "end_time": "2021-09-15T13:33:14.758821Z",
     "start_time": "2021-09-15T13:33:14.358365Z"
    }
   },
   "outputs": [],
   "source": [
    "# Cria o Dataframe com os estados a partir da leitura da tabela para carregar o id_estado\n",
    "df_estadoSQL = pd.read_sql('SELECT * FROM tb_estado', conn);"
   ]
  },
  {
   "cell_type": "code",
   "execution_count": null,
   "id": "94791f7a",
   "metadata": {
    "ExecuteTime": {
     "end_time": "2021-09-15T13:33:16.445766Z",
     "start_time": "2021-09-15T13:33:16.414606Z"
    }
   },
   "outputs": [],
   "source": [
    "df_estadoSQL"
   ]
  },
  {
   "cell_type": "code",
   "execution_count": null,
   "id": "09cd5d3a",
   "metadata": {
    "ExecuteTime": {
     "end_time": "2021-09-15T13:33:23.302145Z",
     "start_time": "2021-09-15T13:33:23.288055Z"
    }
   },
   "outputs": [],
   "source": [
    "# Cria o dataframe df_cidade com o join do dataframe df (planilha) e dataframe df_estadoSQL \n",
    "# para referenciar o id_estado nas cidades\n",
    "df_cidade = pd.merge(left=df, right=df_estadoSQL, left_on='Sigla', right_on='sigla_estado').copy()"
   ]
  },
  {
   "cell_type": "code",
   "execution_count": null,
   "id": "bfe8e868",
   "metadata": {
    "ExecuteTime": {
     "end_time": "2021-09-15T13:33:27.313237Z",
     "start_time": "2021-09-15T13:33:26.285816Z"
    }
   },
   "outputs": [],
   "source": [
    "# Processo importando o dataframe para a memória e depois para a tabela é mais performático\n",
    "cur.execute('truncate table tb_cidade restart identity')\n",
    "\n",
    "#definição das colunas da tabela\n",
    "cols=['nome_cidade', 'id_estado']\n",
    "\n",
    "#função de inserção\n",
    "copy_from_dataFile_StringIO(df_cidade[['Cidade', 'id_estado']], 'tb_cidade', cols)"
   ]
  },
  {
   "cell_type": "code",
   "execution_count": null,
   "id": "2421623d",
   "metadata": {
    "ExecuteTime": {
     "end_time": "2021-09-15T13:33:28.959737Z",
     "start_time": "2021-09-15T13:33:28.692216Z"
    }
   },
   "outputs": [],
   "source": [
    "# Select na tabela tb_cidade para contabilizar as cidades por estado\n",
    "cur.execute(\"\"\"\n",
    "            select \tcount(id_cidade) AS \"Qtd_Cidades\", \n",
    "                    e.nome_estado, \n",
    "                    e.sigla_estado \n",
    "            from \t\ttb_cidade c \n",
    "            inner join \ttb_estado e \n",
    "                    on\te.id_estado = c.id_estado  \n",
    "            group by e.nome_estado, e.sigla_estado\n",
    "            order by 1 asc\n",
    "            \"\"\")\n",
    "rows = cur.fetchall()\n",
    "rows"
   ]
  },
  {
   "cell_type": "code",
   "execution_count": null,
   "id": "db383c60",
   "metadata": {
    "ExecuteTime": {
     "end_time": "2021-09-14T19:04:35.180426Z",
     "start_time": "2021-09-14T19:04:34.238931Z"
    }
   },
   "outputs": [],
   "source": [
    "# Select na tabela tb_cidade para verificar as linhas inseridas\n",
    "cur.execute('SELECT * FROM tb_cidade')  \n",
    "rows = cur.fetchall()\n",
    "rows"
   ]
  },
  {
   "cell_type": "code",
   "execution_count": null,
   "id": "91c019a0",
   "metadata": {
    "ExecuteTime": {
     "end_time": "2021-09-15T12:56:19.990588Z",
     "start_time": "2021-09-15T12:56:07.067446Z"
    }
   },
   "outputs": [],
   "source": [
    "##############################################################################################\n",
    "#\n",
    "# 2. VERSÃO\n",
    "#\n",
    "# NÃO É NECESSÁRIO EXECUTAR ESSA CÉLULA, ESTE INSERT É MENOS PERFORMATICO QUE O COPY_FROM E StringIO\n",
    "# MAS MUITO MELHOR QUE O INSERT LINHA A LINHA\n",
    "# \n",
    "# EXPERIÊNCIA DIDÁTICA\n",
    "#\n",
    "##############################################################################################\n",
    "\n",
    "# Processo incluindo em lote utilizando psycopg2.extras.execute_values() é mais performático\n",
    "cur.execute('truncate table tb_cidade restart identity')  \n",
    "insert_tb_cidade(df_cidade[['Cidade', 'id_estado']])"
   ]
  },
  {
   "cell_type": "code",
   "execution_count": null,
   "id": "99be9ced",
   "metadata": {
    "ExecuteTime": {
     "end_time": "2021-09-14T12:18:20.352751Z",
     "start_time": "2021-09-14T12:01:44.178640Z"
    }
   },
   "outputs": [],
   "source": [
    "##############################################################################################\n",
    "#\n",
    "# 1. VERSÃO\n",
    "#\n",
    "# NÃO É NECESSÁRIO EXECUTAR ESSA CÉLULA, POIS O INSERT LINHA A LINHA É DEMORADO\n",
    "#\n",
    "# EXPERIÊNCIA DIDÁTICA\n",
    "#\n",
    "##############################################################################################\n",
    "\n",
    "# Processo incluindo linha a linha - é bem demorado (15 min = 5.000)\n",
    "postgres_insert_query = \"\"\" INSERT INTO tb_cidade (id_cidade, nome_cidade, id_estado) VALUES (DEFAULT,%s,%s)\"\"\"\n",
    "\n",
    "cur.execute('truncate table tb_cidade restart identity')  \n",
    "insert_rows(df_cidade[['Cidade', 'id_estado']], postgres_insert_query)"
   ]
  },
  {
   "cell_type": "code",
   "execution_count": null,
   "id": "8df2a108",
   "metadata": {},
   "outputs": [],
   "source": []
  }
 ],
 "metadata": {
  "kernelspec": {
   "display_name": "Python 3 (ipykernel)",
   "language": "python",
   "name": "python3"
  },
  "language_info": {
   "codemirror_mode": {
    "name": "ipython",
    "version": 3
   },
   "file_extension": ".py",
   "mimetype": "text/x-python",
   "name": "python",
   "nbconvert_exporter": "python",
   "pygments_lexer": "ipython3",
   "version": "3.8.11"
  }
 },
 "nbformat": 4,
 "nbformat_minor": 5
}
