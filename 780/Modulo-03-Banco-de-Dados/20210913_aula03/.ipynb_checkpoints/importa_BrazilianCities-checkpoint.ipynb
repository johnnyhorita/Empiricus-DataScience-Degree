{
 "cells": [
  {
   "cell_type": "markdown",
   "id": "845a0e1d",
   "metadata": {},
   "source": [
    "## Importação da planilha BrazilianCities.xlsx \n",
    "\n",
    "#### Utilizando as bibliotecas pandas e psycopg2"
   ]
  },
  {
   "cell_type": "code",
   "execution_count": 1,
   "id": "2881e110",
   "metadata": {
    "ExecuteTime": {
     "end_time": "2021-09-14T19:43:22.694411Z",
     "start_time": "2021-09-14T19:43:22.119706Z"
    }
   },
   "outputs": [],
   "source": [
    "# importa bibliotecas\n",
    "import pandas as pd\n",
    "import psycopg2\n",
    "import psycopg2.extras as extras\n"
   ]
  },
  {
   "cell_type": "code",
   "execution_count": null,
   "id": "b928c0cf",
   "metadata": {
    "ExecuteTime": {
     "end_time": "2021-09-14T18:53:53.874093Z",
     "start_time": "2021-09-14T18:53:53.856072Z"
    }
   },
   "outputs": [],
   "source": [
    "# Variáveis de conexão\n",
    "host = ''\n",
    "dbName = 'bd_cidades_estados'\n",
    "user = ''\n",
    "pwd = ''"
   ]
  },
  {
   "cell_type": "code",
   "execution_count": 3,
   "id": "886d6c43",
   "metadata": {
    "ExecuteTime": {
     "end_time": "2021-09-14T19:43:46.093472Z",
     "start_time": "2021-09-14T19:43:46.084437Z"
    }
   },
   "outputs": [],
   "source": [
    "# Funcões\n",
    "\n",
    "# Função para conexão com o banco de dados\n",
    "def connect_database(host, dbName, user, pwd):\n",
    "    \"\"\"\n",
    "    Função para conectar o banco de dados\n",
    "\n",
    "    Parametros:\n",
    "        host   : Instancia PostgreSQL\n",
    "        dbName : banco de dados\n",
    "        user   : usuário\n",
    "        pwd    : senha do usuário\n",
    "        \n",
    "    Retornos:\n",
    "        cur  : Utilize para conectar e executar os comandos SQL.\n",
    "        conn : Conexão com o banco de dados.\n",
    "    \"\"\"\n",
    "    # connect to default database\n",
    "    conn = psycopg2.connect(f\"host={host} dbname={dbName} user={user} password={pwd}\")\n",
    "    conn.set_session(autocommit=True)\n",
    "    cur = conn.cursor()\n",
    "    return cur, conn\n",
    "\n",
    "# Função para criar as tabelas\n",
    "def create_tables(stmt_create_tables):\n",
    "    \"\"\"\n",
    "    Função para criar tabelas\n",
    "\n",
    "    Parametros:\n",
    "        cur  : Utilize para conectar e executar os comandos SQL.\n",
    "        conn : Conexão com o banco de dados.\n",
    "    \"\"\"\n",
    "    for stmt in stmt_create_tables:\n",
    "        cur.execute(stmt)\n",
    "        conn.commit()\n",
    "    return\n",
    "\n",
    "\n",
    "# Função genérica para inserir linhas\n",
    "def insert_rows(df, insert_stmt):\n",
    "    \"\"\"\n",
    "    Função genérica para inserir linhas em tabela\n",
    "    \n",
    "    Parametros:\n",
    "        df          : Dataframe com os valores a serem inseridos\n",
    "        insert_stmt : Comando de insert \n",
    "    \"\"\"\n",
    "    # Executa o loop para gerar as tuplas com os valores a serem inseridos\n",
    "    for row in df.itertuples(index=False):\n",
    "        # print(tuple(row))\n",
    "        # Executa o insert\n",
    "        cur.execute(insert_stmt, tuple(row))\n",
    "    print(\"Dados inseridos com sucesso...\")\n",
    "    return\n",
    "\n",
    "# função usando psycopg2.extras.execute_values() para inserir o dataframe\n",
    "def insert_tb_cidade(df):    \n",
    "    \"\"\"\n",
    "    Função usando psycopg2.extras.execute_values() para inserir o dataframe\n",
    "    \n",
    "    Parametros:\n",
    "        df    : Dataframe com os valores a serem inseridos\n",
    "    \"\"\"   \n",
    "    # Criação de uma lista de tupples a partir dos valores do dataframe\n",
    "    tpls = [tuple(row) for row in df.itertuples(index=False)]\n",
    "    \n",
    "    # Comando de inserção\n",
    "    sql = \"\"\" INSERT INTO tb_cidade (nome_cidade, id_estado) VALUES %s\"\"\"\n",
    "    try:\n",
    "        extras.execute_values(cur, sql, tpls)\n",
    "        print(\"Dados inseridos usando execute_values() com sucesso...\")\n",
    "    except (Exception, psycopg2.DatabaseError) as err:\n",
    "        show_psycopg2_exception(err)\n",
    "        cursor.close()\n",
    "    return\n"
   ]
  },
  {
   "cell_type": "code",
   "execution_count": 4,
   "id": "97a25b07",
   "metadata": {
    "ExecuteTime": {
     "end_time": "2021-09-14T19:43:49.344730Z",
     "start_time": "2021-09-14T19:43:47.572503Z"
    }
   },
   "outputs": [],
   "source": [
    "# Conexão com o banco de dados Postgre\n",
    "cur, conn = connect_database(host, dbName, user, pwd)"
   ]
  },
  {
   "cell_type": "code",
   "execution_count": 5,
   "id": "105952cd",
   "metadata": {
    "ExecuteTime": {
     "end_time": "2021-09-14T19:43:50.192674Z",
     "start_time": "2021-09-14T19:43:50.187635Z"
    }
   },
   "outputs": [],
   "source": [
    "# Comandos para criação das tabelas\n",
    "stmt_create_tables = list()\n",
    "stmt_create_tables.append('CREATE TABLE IF NOT EXISTS tb_estado (id_estado smallserial not null primary key, nome_estado varchar(100) not null, sigla_estado char(02) not null);')\n",
    "stmt_create_tables.append('CREATE TABLE IF NOT EXISTS tb_cidade (id_cidade smallserial not null primary key, nome_cidade varchar(300) not null, id_estado smallint not null);')"
   ]
  },
  {
   "cell_type": "code",
   "execution_count": 6,
   "id": "7a596b5d",
   "metadata": {
    "ExecuteTime": {
     "end_time": "2021-09-14T19:43:51.039726Z",
     "start_time": "2021-09-14T19:43:50.717351Z"
    }
   },
   "outputs": [],
   "source": [
    "# Cria as tabelas no banco de dados\n",
    "create_tables(stmt_create_tables)"
   ]
  },
  {
   "cell_type": "code",
   "execution_count": 7,
   "id": "1ee7679d",
   "metadata": {
    "ExecuteTime": {
     "end_time": "2021-09-14T19:43:54.491367Z",
     "start_time": "2021-09-14T19:43:53.299300Z"
    }
   },
   "outputs": [],
   "source": [
    "# Cria datraframe com a planilha principal\n",
    "df = pd.read_excel('BrazilianCities.xlsx', sheet_name='BrazilianCities')"
   ]
  },
  {
   "cell_type": "code",
   "execution_count": 8,
   "id": "6bce24c9",
   "metadata": {
    "ExecuteTime": {
     "end_time": "2021-09-14T19:43:56.016450Z",
     "start_time": "2021-09-14T19:43:56.012446Z"
    }
   },
   "outputs": [],
   "source": [
    "# Gera dataframe de estado\n",
    "df_estado = df[['Estado', 'Sigla']].copy()"
   ]
  },
  {
   "cell_type": "code",
   "execution_count": 9,
   "id": "1323f792",
   "metadata": {
    "ExecuteTime": {
     "end_time": "2021-09-14T19:43:57.510752Z",
     "start_time": "2021-09-14T19:43:57.489788Z"
    }
   },
   "outputs": [
    {
     "data": {
      "text/plain": [
       "(5570, 2)"
      ]
     },
     "execution_count": 9,
     "metadata": {},
     "output_type": "execute_result"
    }
   ],
   "source": [
    "df_estado.shape"
   ]
  },
  {
   "cell_type": "code",
   "execution_count": 10,
   "id": "e2d38194",
   "metadata": {
    "ExecuteTime": {
     "end_time": "2021-09-14T19:43:58.637397Z",
     "start_time": "2021-09-14T19:43:58.616407Z"
    }
   },
   "outputs": [],
   "source": [
    "# Retira os estados repetidos\n",
    "df_estado = df_estado.drop_duplicates(keep='last').copy()"
   ]
  },
  {
   "cell_type": "code",
   "execution_count": 11,
   "id": "2c503a06",
   "metadata": {
    "ExecuteTime": {
     "end_time": "2021-09-14T19:44:00.453199Z",
     "start_time": "2021-09-14T19:44:00.444164Z"
    }
   },
   "outputs": [
    {
     "data": {
      "text/plain": [
       "(27, 2)"
      ]
     },
     "execution_count": 11,
     "metadata": {},
     "output_type": "execute_result"
    }
   ],
   "source": [
    "df_estado.shape"
   ]
  },
  {
   "cell_type": "code",
   "execution_count": 12,
   "id": "3ed9b2d1",
   "metadata": {
    "ExecuteTime": {
     "end_time": "2021-09-14T19:44:06.804780Z",
     "start_time": "2021-09-14T19:44:02.385464Z"
    }
   },
   "outputs": [
    {
     "name": "stdout",
     "output_type": "stream",
     "text": [
      "Dados inseridos com sucesso...\n"
     ]
    }
   ],
   "source": [
    "#Comando para truncar a tabela \n",
    "cur.execute('truncate table tb_estado restart identity')  \n",
    "\n",
    "#Comando para inserir os registros\n",
    "postgres_insert_query = \"\"\" INSERT INTO tb_estado (id_estado, nome_estado, sigla_estado) VALUES (DEFAULT,%s,%s)\"\"\"\n",
    "\n",
    "#Chamada da função para inserção dos dados (linha a linha)\n",
    "insert_rows(df_estado, postgres_insert_query)"
   ]
  },
  {
   "cell_type": "code",
   "execution_count": null,
   "id": "207acb78",
   "metadata": {
    "ExecuteTime": {
     "end_time": "2021-09-14T18:55:24.786221Z",
     "start_time": "2021-09-14T18:55:24.608297Z"
    }
   },
   "outputs": [],
   "source": [
    "# Select na tabela tb_estado para verificar as linhas inseridas\n",
    "cur.execute('SELECT * FROM tb_estado')  \n",
    "rows = cur.fetchall()\n",
    "rows"
   ]
  },
  {
   "cell_type": "code",
   "execution_count": 13,
   "id": "f5f11853",
   "metadata": {
    "ExecuteTime": {
     "end_time": "2021-09-14T19:44:15.172444Z",
     "start_time": "2021-09-14T19:44:14.876269Z"
    }
   },
   "outputs": [],
   "source": [
    "# Cria o Dataframe com os estados a partir da leitura da tabela para carregar o id_estado\n",
    "df_estadoSQL = pd.read_sql('SELECT * FROM tb_estado', conn);"
   ]
  },
  {
   "cell_type": "code",
   "execution_count": 14,
   "id": "94791f7a",
   "metadata": {
    "ExecuteTime": {
     "end_time": "2021-09-14T19:44:18.644387Z",
     "start_time": "2021-09-14T19:44:18.633388Z"
    }
   },
   "outputs": [
    {
     "data": {
      "text/html": [
       "<div>\n",
       "<style scoped>\n",
       "    .dataframe tbody tr th:only-of-type {\n",
       "        vertical-align: middle;\n",
       "    }\n",
       "\n",
       "    .dataframe tbody tr th {\n",
       "        vertical-align: top;\n",
       "    }\n",
       "\n",
       "    .dataframe thead th {\n",
       "        text-align: right;\n",
       "    }\n",
       "</style>\n",
       "<table border=\"1\" class=\"dataframe\">\n",
       "  <thead>\n",
       "    <tr style=\"text-align: right;\">\n",
       "      <th></th>\n",
       "      <th>id_estado</th>\n",
       "      <th>nome_estado</th>\n",
       "      <th>sigla_estado</th>\n",
       "    </tr>\n",
       "  </thead>\n",
       "  <tbody>\n",
       "    <tr>\n",
       "      <th>0</th>\n",
       "      <td>1</td>\n",
       "      <td>DISTRITO FEDERAL</td>\n",
       "      <td>DF</td>\n",
       "    </tr>\n",
       "    <tr>\n",
       "      <th>1</th>\n",
       "      <td>2</td>\n",
       "      <td>RORAIMA</td>\n",
       "      <td>RR</td>\n",
       "    </tr>\n",
       "    <tr>\n",
       "      <th>2</th>\n",
       "      <td>3</td>\n",
       "      <td>SERGIPE</td>\n",
       "      <td>SE</td>\n",
       "    </tr>\n",
       "    <tr>\n",
       "      <th>3</th>\n",
       "      <td>4</td>\n",
       "      <td>AMAZONAS</td>\n",
       "      <td>AM</td>\n",
       "    </tr>\n",
       "    <tr>\n",
       "      <th>4</th>\n",
       "      <td>5</td>\n",
       "      <td>MATO GROSSO DO SUL</td>\n",
       "      <td>MS</td>\n",
       "    </tr>\n",
       "    <tr>\n",
       "      <th>5</th>\n",
       "      <td>6</td>\n",
       "      <td>ALAGOAS</td>\n",
       "      <td>AL</td>\n",
       "    </tr>\n",
       "    <tr>\n",
       "      <th>6</th>\n",
       "      <td>7</td>\n",
       "      <td>CEARÁ</td>\n",
       "      <td>CE</td>\n",
       "    </tr>\n",
       "    <tr>\n",
       "      <th>7</th>\n",
       "      <td>8</td>\n",
       "      <td>RIO GRANDE DO NORTE</td>\n",
       "      <td>RN</td>\n",
       "    </tr>\n",
       "    <tr>\n",
       "      <th>8</th>\n",
       "      <td>9</td>\n",
       "      <td>GOIÁS</td>\n",
       "      <td>GO</td>\n",
       "    </tr>\n",
       "    <tr>\n",
       "      <th>9</th>\n",
       "      <td>10</td>\n",
       "      <td>MATO GROSSO</td>\n",
       "      <td>MT</td>\n",
       "    </tr>\n",
       "    <tr>\n",
       "      <th>10</th>\n",
       "      <td>11</td>\n",
       "      <td>RONDÔNIA</td>\n",
       "      <td>RO</td>\n",
       "    </tr>\n",
       "    <tr>\n",
       "      <th>11</th>\n",
       "      <td>12</td>\n",
       "      <td>ESPÍRITO SANTO</td>\n",
       "      <td>ES</td>\n",
       "    </tr>\n",
       "    <tr>\n",
       "      <th>12</th>\n",
       "      <td>13</td>\n",
       "      <td>AMAPÁ</td>\n",
       "      <td>AP</td>\n",
       "    </tr>\n",
       "    <tr>\n",
       "      <th>13</th>\n",
       "      <td>14</td>\n",
       "      <td>RIO DE JANEIRO</td>\n",
       "      <td>RJ</td>\n",
       "    </tr>\n",
       "    <tr>\n",
       "      <th>14</th>\n",
       "      <td>15</td>\n",
       "      <td>PIAUÍ</td>\n",
       "      <td>PI</td>\n",
       "    </tr>\n",
       "    <tr>\n",
       "      <th>15</th>\n",
       "      <td>16</td>\n",
       "      <td>MINAS GERAIS</td>\n",
       "      <td>MG</td>\n",
       "    </tr>\n",
       "    <tr>\n",
       "      <th>16</th>\n",
       "      <td>17</td>\n",
       "      <td>TOCANTINS</td>\n",
       "      <td>TO</td>\n",
       "    </tr>\n",
       "    <tr>\n",
       "      <th>17</th>\n",
       "      <td>18</td>\n",
       "      <td>PARANÁ</td>\n",
       "      <td>PR</td>\n",
       "    </tr>\n",
       "    <tr>\n",
       "      <th>18</th>\n",
       "      <td>19</td>\n",
       "      <td>RIO GRANDE DO SUL</td>\n",
       "      <td>RS</td>\n",
       "    </tr>\n",
       "    <tr>\n",
       "      <th>19</th>\n",
       "      <td>20</td>\n",
       "      <td>ACRE</td>\n",
       "      <td>AC</td>\n",
       "    </tr>\n",
       "    <tr>\n",
       "      <th>20</th>\n",
       "      <td>21</td>\n",
       "      <td>PERNAMBUCO</td>\n",
       "      <td>PE</td>\n",
       "    </tr>\n",
       "    <tr>\n",
       "      <th>21</th>\n",
       "      <td>22</td>\n",
       "      <td>PARÁ</td>\n",
       "      <td>PA</td>\n",
       "    </tr>\n",
       "    <tr>\n",
       "      <th>22</th>\n",
       "      <td>23</td>\n",
       "      <td>BAHIA</td>\n",
       "      <td>BA</td>\n",
       "    </tr>\n",
       "    <tr>\n",
       "      <th>23</th>\n",
       "      <td>24</td>\n",
       "      <td>PARAÍBA</td>\n",
       "      <td>PB</td>\n",
       "    </tr>\n",
       "    <tr>\n",
       "      <th>24</th>\n",
       "      <td>25</td>\n",
       "      <td>SÃO PAULO</td>\n",
       "      <td>SP</td>\n",
       "    </tr>\n",
       "    <tr>\n",
       "      <th>25</th>\n",
       "      <td>26</td>\n",
       "      <td>MARANHÃO</td>\n",
       "      <td>MA</td>\n",
       "    </tr>\n",
       "    <tr>\n",
       "      <th>26</th>\n",
       "      <td>27</td>\n",
       "      <td>SANTA CATARINA</td>\n",
       "      <td>SC</td>\n",
       "    </tr>\n",
       "  </tbody>\n",
       "</table>\n",
       "</div>"
      ],
      "text/plain": [
       "    id_estado          nome_estado sigla_estado\n",
       "0           1     DISTRITO FEDERAL           DF\n",
       "1           2              RORAIMA           RR\n",
       "2           3              SERGIPE           SE\n",
       "3           4             AMAZONAS           AM\n",
       "4           5   MATO GROSSO DO SUL           MS\n",
       "5           6              ALAGOAS           AL\n",
       "6           7                CEARÁ           CE\n",
       "7           8  RIO GRANDE DO NORTE           RN\n",
       "8           9                GOIÁS           GO\n",
       "9          10          MATO GROSSO           MT\n",
       "10         11             RONDÔNIA           RO\n",
       "11         12       ESPÍRITO SANTO           ES\n",
       "12         13                AMAPÁ           AP\n",
       "13         14       RIO DE JANEIRO           RJ\n",
       "14         15                PIAUÍ           PI\n",
       "15         16         MINAS GERAIS           MG\n",
       "16         17            TOCANTINS           TO\n",
       "17         18               PARANÁ           PR\n",
       "18         19    RIO GRANDE DO SUL           RS\n",
       "19         20                 ACRE           AC\n",
       "20         21           PERNAMBUCO           PE\n",
       "21         22                 PARÁ           PA\n",
       "22         23                BAHIA           BA\n",
       "23         24              PARAÍBA           PB\n",
       "24         25            SÃO PAULO           SP\n",
       "25         26             MARANHÃO           MA\n",
       "26         27       SANTA CATARINA           SC"
      ]
     },
     "execution_count": 14,
     "metadata": {},
     "output_type": "execute_result"
    }
   ],
   "source": [
    "df_estadoSQL"
   ]
  },
  {
   "cell_type": "code",
   "execution_count": 15,
   "id": "09cd5d3a",
   "metadata": {
    "ExecuteTime": {
     "end_time": "2021-09-14T19:44:24.842506Z",
     "start_time": "2021-09-14T19:44:24.834479Z"
    }
   },
   "outputs": [],
   "source": [
    "# Cria o dataframe df_cidade com o join do dataframe df (planilha) e dataframe df_estadoSQL \n",
    "# para referenciar o id_estado nas cidades\n",
    "df_cidade = pd.merge(left=df, right=df_estadoSQL, left_on='Sigla', right_on='sigla_estado').copy()"
   ]
  },
  {
   "cell_type": "code",
   "execution_count": 16,
   "id": "91c019a0",
   "metadata": {
    "ExecuteTime": {
     "end_time": "2021-09-14T19:44:37.388904Z",
     "start_time": "2021-09-14T19:44:27.883432Z"
    }
   },
   "outputs": [
    {
     "name": "stdout",
     "output_type": "stream",
     "text": [
      "Dados inseridos usando execute_values() com sucesso...\n"
     ]
    }
   ],
   "source": [
    "# Processo incluindo em lote utilizando psycopg2.extras.execute_values() é mais performático\n",
    "cur.execute('truncate table tb_cidade restart identity')  \n",
    "insert_tb_cidade(df_cidade[['Cidade', 'id_estado']])"
   ]
  },
  {
   "cell_type": "code",
   "execution_count": 19,
   "id": "2421623d",
   "metadata": {
    "ExecuteTime": {
     "end_time": "2021-09-14T19:45:03.084135Z",
     "start_time": "2021-09-14T19:45:02.907217Z"
    }
   },
   "outputs": [
    {
     "data": {
      "text/plain": [
       "[(1, 'DISTRITO FEDERAL', 'DF'),\n",
       " (15, 'RORAIMA', 'RR'),\n",
       " (16, 'AMAPÁ', 'AP'),\n",
       " (22, 'ACRE', 'AC'),\n",
       " (52, 'RONDÔNIA', 'RO'),\n",
       " (62, 'AMAZONAS', 'AM'),\n",
       " (75, 'SERGIPE', 'SE'),\n",
       " (78, 'ESPÍRITO SANTO', 'ES'),\n",
       " (79, 'MATO GROSSO DO SUL', 'MS'),\n",
       " (92, 'RIO DE JANEIRO', 'RJ'),\n",
       " (102, 'ALAGOAS', 'AL'),\n",
       " (139, 'TOCANTINS', 'TO'),\n",
       " (141, 'MATO GROSSO', 'MT'),\n",
       " (144, 'PARÁ', 'PA'),\n",
       " (167, 'RIO GRANDE DO NORTE', 'RN'),\n",
       " (184, 'CEARÁ', 'CE'),\n",
       " (185, 'PERNAMBUCO', 'PE'),\n",
       " (217, 'MARANHÃO', 'MA'),\n",
       " (223, 'PARAÍBA', 'PB'),\n",
       " (224, 'PIAUÍ', 'PI'),\n",
       " (246, 'GOIÁS', 'GO'),\n",
       " (295, 'SANTA CATARINA', 'SC'),\n",
       " (399, 'PARANÁ', 'PR'),\n",
       " (417, 'BAHIA', 'BA'),\n",
       " (497, 'RIO GRANDE DO SUL', 'RS'),\n",
       " (645, 'SÃO PAULO', 'SP'),\n",
       " (853, 'MINAS GERAIS', 'MG')]"
      ]
     },
     "execution_count": 19,
     "metadata": {},
     "output_type": "execute_result"
    }
   ],
   "source": [
    "# Select na tabela tb_cidade para contabilizar as cidades por estado\n",
    "cur.execute(\"\"\"\n",
    "            select \tcount(id_cidade) AS \"Qtd_Cidades\", \n",
    "                    e.nome_estado, \n",
    "                    e.sigla_estado \n",
    "            from \t\ttb_cidade c \n",
    "            inner join \ttb_estado e \n",
    "                    on\te.id_estado = c.id_estado  \n",
    "            group by e.nome_estado, e.sigla_estado\n",
    "            order by 1 asc\n",
    "            \"\"\")\n",
    "rows = cur.fetchall()\n",
    "rows"
   ]
  },
  {
   "cell_type": "code",
   "execution_count": null,
   "id": "db383c60",
   "metadata": {
    "ExecuteTime": {
     "end_time": "2021-09-14T19:04:35.180426Z",
     "start_time": "2021-09-14T19:04:34.238931Z"
    }
   },
   "outputs": [],
   "source": [
    "# Select na tabela tb_cidade para verificar as linhas inseridas\n",
    "cur.execute('SELECT * FROM tb_cidade')  \n",
    "rows = cur.fetchall()\n",
    "rows"
   ]
  },
  {
   "cell_type": "code",
   "execution_count": null,
   "id": "99be9ced",
   "metadata": {
    "ExecuteTime": {
     "end_time": "2021-09-14T12:18:20.352751Z",
     "start_time": "2021-09-14T12:01:44.178640Z"
    }
   },
   "outputs": [],
   "source": [
    "##############################################################################################\n",
    "#\n",
    "# NÃO É NECESSÁRIO EXECUTAR ESSA CÉLULA, POIS O INSERT LINHA A LINHA DESSA É DEMORADO\n",
    "#\n",
    "# ESTA AQUI APENAS PARA EXPERIÊNCIA DIDÁTICA\n",
    "#\n",
    "##############################################################################################\n",
    "\n",
    "# Processo incluindo linha a linha - é bem demorado (15 min = 5.000)\n",
    "postgres_insert_query = \"\"\" INSERT INTO tb_cidade (id_cidade, nome_cidade, id_estado) VALUES (DEFAULT,%s,%s)\"\"\"\n",
    "cur.execute('truncate table tb_cidade restart identity')  \n",
    "insert_rows(df_cidade[['Cidade', 'id_estado']], postgres_insert_query)"
   ]
  },
  {
   "cell_type": "code",
   "execution_count": null,
   "id": "8df2a108",
   "metadata": {},
   "outputs": [],
   "source": []
  }
 ],
 "metadata": {
  "kernelspec": {
   "display_name": "Python 3 (ipykernel)",
   "language": "python",
   "name": "python3"
  },
  "language_info": {
   "codemirror_mode": {
    "name": "ipython",
    "version": 3
   },
   "file_extension": ".py",
   "mimetype": "text/x-python",
   "name": "python",
   "nbconvert_exporter": "python",
   "pygments_lexer": "ipython3",
   "version": "3.8.11"
  }
 },
 "nbformat": 4,
 "nbformat_minor": 5
}
