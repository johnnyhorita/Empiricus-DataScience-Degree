{
 "cells": [
  {
   "cell_type": "code",
   "execution_count": 46,
   "id": "66d4a281",
   "metadata": {
    "ExecuteTime": {
     "end_time": "2021-10-01T10:19:41.777548Z",
     "start_time": "2021-10-01T10:19:41.763584Z"
    }
   },
   "outputs": [],
   "source": [
    "import pandas as pd\n",
    "from sqlalchemy import create_engine\n",
    "\n",
    "import getpass"
   ]
  },
  {
   "cell_type": "code",
   "execution_count": 47,
   "id": "6d5515f9",
   "metadata": {
    "ExecuteTime": {
     "end_time": "2021-10-01T10:19:43.952736Z",
     "start_time": "2021-10-01T10:19:43.937742Z"
    }
   },
   "outputs": [],
   "source": [
    "#end_point = getpass.getpass()"
   ]
  },
  {
   "cell_type": "code",
   "execution_count": 48,
   "id": "b3d1c94b",
   "metadata": {
    "ExecuteTime": {
     "end_time": "2021-10-01T10:19:44.296276Z",
     "start_time": "2021-10-01T10:19:44.287275Z"
    }
   },
   "outputs": [],
   "source": [
    "#sql_host = 'db-cloudformation.cjasfp09yn8w.us-east-2.rds.amazonaws.com'\n",
    "#sql_db = 'bd_cidades_estados'\n",
    "#sql_user = 'postgres'\n",
    "#sql_pass = 'letscodeaws'\n",
    "\n",
    "sql_host = 'localhost'\n",
    "sql_db = 'prova_letscode'\n",
    "sql_user = 'postgres'\n",
    "sql_pass = '.Sbrobous'\n",
    "sql_port = '5432'\n",
    "\n",
    "conn_string = f'postgresql+psycopg2://{sql_user}:{sql_pass}@{sql_host}:{sql_port}/{sql_db}'"
   ]
  },
  {
   "cell_type": "code",
   "execution_count": 49,
   "id": "b5be3a97",
   "metadata": {
    "ExecuteTime": {
     "end_time": "2021-10-01T10:19:46.847481Z",
     "start_time": "2021-10-01T10:19:46.760993Z"
    }
   },
   "outputs": [],
   "source": [
    "engine = create_engine(conn_string)\n",
    "conn = engine.raw_connection()\n",
    "cursor = conn.cursor()"
   ]
  },
  {
   "cell_type": "code",
   "execution_count": 50,
   "id": "d9d56442",
   "metadata": {
    "ExecuteTime": {
     "end_time": "2021-10-01T10:19:48.564923Z",
     "start_time": "2021-10-01T10:19:48.544925Z"
    }
   },
   "outputs": [],
   "source": [
    "df = pd.read_csv('Chess.csv', sep=',')"
   ]
  },
  {
   "cell_type": "code",
   "execution_count": 51,
   "id": "06d01667",
   "metadata": {
    "ExecuteTime": {
     "end_time": "2021-10-01T10:19:50.008714Z",
     "start_time": "2021-10-01T10:19:50.003720Z"
    }
   },
   "outputs": [],
   "source": [
    "#df.to_sql('tb_cidade', engine, if_exists='append', index=False)"
   ]
  },
  {
   "cell_type": "code",
   "execution_count": 52,
   "id": "2f712b97",
   "metadata": {
    "ExecuteTime": {
     "end_time": "2021-10-01T10:20:17.023157Z",
     "start_time": "2021-10-01T10:20:16.921276Z"
    }
   },
   "outputs": [],
   "source": [
    "df.to_sql('tb_chess', engine, if_exists='append', index=False)"
   ]
  },
  {
   "cell_type": "code",
   "execution_count": 53,
   "id": "7d0a0a47",
   "metadata": {
    "ExecuteTime": {
     "end_time": "2021-10-01T10:20:32.273438Z",
     "start_time": "2021-10-01T10:20:32.255434Z"
    }
   },
   "outputs": [],
   "source": [
    "cursor.close()"
   ]
  },
  {
   "cell_type": "code",
   "execution_count": null,
   "id": "20df696e",
   "metadata": {},
   "outputs": [],
   "source": []
  }
 ],
 "metadata": {
  "kernelspec": {
   "display_name": "Python 3 (ipykernel)",
   "language": "python",
   "name": "python3"
  },
  "language_info": {
   "codemirror_mode": {
    "name": "ipython",
    "version": 3
   },
   "file_extension": ".py",
   "mimetype": "text/x-python",
   "name": "python",
   "nbconvert_exporter": "python",
   "pygments_lexer": "ipython3",
   "version": "3.8.11"
  }
 },
 "nbformat": 4,
 "nbformat_minor": 5
}
