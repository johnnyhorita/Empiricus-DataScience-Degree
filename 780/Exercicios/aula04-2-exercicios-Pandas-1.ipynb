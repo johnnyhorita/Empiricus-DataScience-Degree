{
 "cells": [
  {
   "cell_type": "markdown",
   "id": "a40cb393",
   "metadata": {
    "ExecuteTime": {
     "end_time": "2021-08-11T23:50:35.997207Z",
     "start_time": "2021-08-11T23:50:35.995169Z"
    }
   },
   "source": [
    "# Bibliotecas e APIs\n",
    "\n",
    "## 2 - LC | Pandas 1"
   ]
  },
  {
   "cell_type": "markdown",
   "id": "b012fa33",
   "metadata": {},
   "source": [
    "Questão #1\n",
    "\n",
    "Enunciado\n",
    "Em um concurso público foram contabilizados os números de pessoas inscritas (até a data inicialmente estabelecida para a inscrição) segundo os níveis de escolaridade: fundamental completo, médio completo, superior completo e pós-graduação completa. Segue abaixo a tabela com os valores observados.\n",
    "\n",
    "Nível de escolaridade\tInscritos\n",
    "Fundamental completo\t451\n",
    "Médio completo\t627\n",
    "Superior completo\t292\n",
    "Pós-graduação completa\t95\n",
    "Com base na tabela acima, crie uma Series com esses valores e calcule:\n",
    "\n",
    "(a) O número total de inscritos\n",
    "(b) Número inscritos que possuem, pelo menos, o superior completo.\n",
    "(c) Suponha que a inscrição foi prorrogada e, com isso, foi obtido um número adicional de inscrições: 68, 93, 22 e 0 inscritos a mais em cada uma das categorias de escolaridade apresentados na tabela acima (na mesma ordem). Assim, crie uma nova Series com esses valores.\n",
    "(d) Utilizando as duas Series que você tem, calcule o número total de inscritos após a prorrogação do período de inscrições."
   ]
  },
  {
   "cell_type": "code",
   "execution_count": null,
   "id": "00eab40a",
   "metadata": {},
   "outputs": [],
   "source": []
  },
  {
   "cell_type": "markdown",
   "id": "1abb5163",
   "metadata": {},
   "source": [
    "Questão #2\n",
    "\n",
    "Enunciado\n",
    "Uma turma de cinco alunos foi submetida a uma avaliação e a nota de cada um dos alunos é apresentada na tabela abaixo:\n",
    "\n",
    "Nome do Aluno\tNota\n",
    "Wilfred\t2\n",
    "Abbie\t7\n",
    "Harry\t5.5\n",
    "Julia\t10\n",
    "Carrie\t6.2\n",
    "\n",
    "(a) Crie uma Series com os valores da tabela acima.\n",
    "\n",
    "(b) Retorne o número de alunos que foram aprovados (considerando que a nota mínima para a aprovação é 7).\n",
    "\n",
    "(c) Qual foi a nota média da turma.\n",
    "\n",
    "(d) Obtenha o nome dos alunos que tiraram notas acima da média da turma.\n"
   ]
  },
  {
   "cell_type": "code",
   "execution_count": null,
   "id": "be3b6301",
   "metadata": {},
   "outputs": [],
   "source": []
  },
  {
   "cell_type": "markdown",
   "id": "c20a9c1b",
   "metadata": {},
   "source": [
    "Questão #3\n",
    "\n",
    "Enunciado\n",
    "Crie um objeto DataFrame que contenha os dados da tabela abaixo, os quais se referem ao peso, altura e idade de cinco pessoas:\n",
    "\n",
    "Peso (kg)\tAltura (cm)\tIdade\n",
    "72\t180\t31\n",
    "80\t170\t21\n",
    "60\t175\t16\n",
    "90\t174\t28\n",
    "100\t185\t23\n",
    "Com base no DataFrame criado, realize o que pedido nos itens abaixo:\n",
    "\n",
    "(a) Visualize apenas os dados da coluna que contém a altura das pessoas.\n",
    "\n",
    "(b) Obtenha a idade média das pessoas.\n",
    "\n",
    "(c) Obtenha os dados das pessoas que estão abaixo da altura média.\n",
    "\n",
    "(d) Crie um nova coluna no DataFrame que contenha o IMC (Índice de Massa Corporal) de cada pessoa.\n",
    "\n",
    "(e) Remova a coluna que contém a idade das pessoas.\n",
    "\n",
    "(f) Salve esses dados do DataFrame em um arquivo csv."
   ]
  },
  {
   "cell_type": "code",
   "execution_count": null,
   "id": "0f741b72",
   "metadata": {},
   "outputs": [],
   "source": []
  },
  {
   "cell_type": "markdown",
   "id": "3f67e443",
   "metadata": {},
   "source": [
    "Questão #4\n",
    "\n",
    "Enunciado\n",
    "Carregue, em um objeto DataFrame, o arquivo CSV que você salvou no item (f) da questão anterior. Em seguida,\n",
    "\n",
    "(a) Crie uma nova coluna que contenha o nome das pessoas (sinta-se à vontade para atribuir os nomes que preferir).\n",
    "\n",
    "(b) Defina a nova coluna criada (com os nomes) como o índice (index) do seu DataFrame.\n",
    "\n",
    "(c) Obtenha o nome das pessoas que são classificadas com Sobrepeso (IMC entre 25 e 29,9)."
   ]
  },
  {
   "cell_type": "code",
   "execution_count": null,
   "id": "7710f1a1",
   "metadata": {},
   "outputs": [],
   "source": []
  },
  {
   "cell_type": "markdown",
   "id": "e762b0b3",
   "metadata": {},
   "source": [
    "Questão #5\n",
    "\n",
    "Enunciado\n",
    "Carregue, em um objeto DataFrame, o mesmo dataset que você salvou na Questão 3. Em seguida,\n",
    "\n",
    "(a) Adicione uma nova coluna nesse DF chamada Classificação, que contenha a classificação de cada indivíduo, de acordo com o seu IMC. Para isso, consulte a tabela abaixo.\n",
    "\n",
    "IMC\tClassificação\tObesidade (grau)\n",
    "Menor que 18,5\tMagreza\t0\n",
    "Entre 18,5 e 24,9\tNormal\t0\n",
    "Entre 25,0 e 29,9\tSobrepeso\tI\n",
    "Entre 30,0 e 39,9\tObesidade\tII\n",
    "Maior que 40,0\tObesidade Grave\tIII\n",
    "(b) Salve em DataFrame no formato xlsx."
   ]
  },
  {
   "cell_type": "code",
   "execution_count": null,
   "id": "7382912d",
   "metadata": {},
   "outputs": [],
   "source": []
  }
 ],
 "metadata": {
  "kernelspec": {
   "display_name": "Python 3",
   "language": "python",
   "name": "python3"
  },
  "language_info": {
   "codemirror_mode": {
    "name": "ipython",
    "version": 3
   },
   "file_extension": ".py",
   "mimetype": "text/x-python",
   "name": "python",
   "nbconvert_exporter": "python",
   "pygments_lexer": "ipython3",
   "version": "3.8.11"
  }
 },
 "nbformat": 4,
 "nbformat_minor": 5
}
