{
 "cells": [
  {
   "cell_type": "markdown",
   "id": "a40cb393",
   "metadata": {
    "ExecuteTime": {
     "end_time": "2021-08-11T23:50:35.997207Z",
     "start_time": "2021-08-11T23:50:35.995169Z"
    }
   },
   "source": [
    "# Bibliotecas e APIs\n",
    "\n",
    "## 2 - LC | Pandas 1"
   ]
  },
  {
   "cell_type": "markdown",
   "id": "b012fa33",
   "metadata": {},
   "source": [
    "Questão #1\n",
    "\n",
    "Enunciado\n",
    "\n",
    "Em um concurso público foram contabilizados os números de pessoas inscritas (até a data inicialmente estabelecida para a inscrição) segundo os níveis de escolaridade: fundamental completo, médio completo, superior completo e pós-graduação completa. Segue abaixo a tabela com os valores observados.\n",
    "\n",
    "Nível de escolaridade\tInscritos\n",
    "Fundamental completo\t451\n",
    "Médio completo\t627\n",
    "Superior completo\t292\n",
    "Pós-graduação completa\t95\n",
    "\n",
    "Com base na tabela acima, crie uma Series com esses valores e calcule:\n",
    "\n",
    "(a) O número total de inscritos\n",
    "(b) Número inscritos que possuem, pelo menos, o superior completo.\n",
    "(c) Suponha que a inscrição foi prorrogada e, com isso, foi obtido um número adicional de inscrições: 68, 93, 22 e 0 inscritos a mais em cada uma das categorias de escolaridade apresentados na tabela acima (na mesma ordem). Assim, crie uma nova Series com esses valores.\n",
    "(d) Utilizando as duas Series que você tem, calcule o número total de inscritos após a prorrogação do período de inscrições."
   ]
  },
  {
   "cell_type": "code",
   "execution_count": 170,
   "id": "00eab40a",
   "metadata": {
    "ExecuteTime": {
     "end_time": "2021-08-16T17:46:07.642444Z",
     "start_time": "2021-08-16T17:46:07.622444Z"
    }
   },
   "outputs": [
    {
     "name": "stdout",
     "output_type": "stream",
     "text": [
      "(a) O número total de inscritos: 30.7\n",
      "(b) Número inscritos que possuem, pelo menos, o superior completo: 0.0\n",
      "(d) O número total de inscritos: 1648\n"
     ]
    }
   ],
   "source": [
    "import pandas as pd\n",
    "\n",
    "labels = ['Fundamental completo', 'Medio completo', 'Superior completo', 'Pos-graduacao completa']\n",
    "val1 = [451, 627, 292, 95]\n",
    "val2 = [68, 93, 22, 0]\n",
    "\n",
    "serie1 = pd.Series(data=val1, index=labels)\n",
    "sc = serie[serie.index == 'Superior completo'].values.sum()\n",
    "serie2 = pd.Series(data=val2, index=labels)\n",
    "serie3 = serie1 + serie2\n",
    "\n",
    "print(f'(a) O número total de inscritos: {serie.values.sum()}')\n",
    "print(f'(b) Número inscritos que possuem, pelo menos, o superior completo: {sc}')\n",
    "print(f'(d) O número total de inscritos: {serie3.values.sum()}')\n"
   ]
  },
  {
   "cell_type": "markdown",
   "id": "1abb5163",
   "metadata": {},
   "source": [
    "Questão #2\n",
    "\n",
    "Enunciado\n",
    "Uma turma de cinco alunos foi submetida a uma avaliação e a nota de cada um dos alunos é apresentada na tabela abaixo:\n",
    "\n",
    "Nome do Aluno\tNota\n",
    "Wilfred\t2\n",
    "Abbie\t7\n",
    "Harry\t5.5\n",
    "Julia\t10\n",
    "Carrie\t6.2\n",
    "\n",
    "(a) Crie uma Series com os valores da tabela acima.\n",
    "\n",
    "(b) Retorne o número de alunos que foram aprovados (considerando que a nota mínima para a aprovação é 7).\n",
    "\n",
    "(c) Qual foi a nota média da turma.\n",
    "\n",
    "(d) Obtenha o nome dos alunos que tiraram notas acima da média da turma.\n"
   ]
  },
  {
   "cell_type": "code",
   "execution_count": 171,
   "id": "be3b6301",
   "metadata": {
    "ExecuteTime": {
     "end_time": "2021-08-16T17:46:11.282279Z",
     "start_time": "2021-08-16T17:46:11.265314Z"
    }
   },
   "outputs": [
    {
     "name": "stdout",
     "output_type": "stream",
     "text": [
      "(a) Crie uma Series com os valores da tabela acima.\n",
      "Wilfred     2.0\n",
      "Abbie       7.0\n",
      "Harry       5.5\n",
      "Julia      10.0\n",
      "Carrie      6.2\n",
      "dtype: float64\n",
      "\n",
      "(b) Retorne o número de alunos que foram aprovados (considerando que a nota mínima para a aprovação é 7).\n",
      "2\n",
      "\n",
      "(c) Qual foi a nota média da turma.\n",
      "6.14\n",
      "\n",
      "(d) Obtenha o nome dos alunos que tiraram notas acima da média da turma.\n",
      "['Abbie', 'Julia', 'Carrie']\n"
     ]
    }
   ],
   "source": [
    "import pandas as pd\n",
    "\n",
    "nome = ['Wilfred', 'Abbie', 'Harry', 'Julia', 'Carrie']\n",
    "nota = [2.0, 7.0, 5.5, 10.0, 6.2]\n",
    "serie = pd.Series(data=nota, index=nome)\n",
    "\n",
    "print('(a) Crie uma Series com os valores da tabela acima.')\n",
    "print(serie)\n",
    "print('\\n(b) Retorne o número de alunos que foram aprovados (considerando que a nota mínima para a aprovação é 7).')\n",
    "print(serie[serie.values >= 7.0].size)\n",
    "print('\\n(c) Qual foi a nota média da turma.')\n",
    "media = serie.values.mean()\n",
    "print(media)\n",
    "print('\\n(d) Obtenha o nome dos alunos que tiraram notas acima da média da turma.')\n",
    "print(serie[serie.values > media].index.tolist())"
   ]
  },
  {
   "cell_type": "markdown",
   "id": "c20a9c1b",
   "metadata": {},
   "source": [
    "Questão #3\n",
    "\n",
    "Enunciado\n",
    "\n",
    "Crie um objeto DataFrame que contenha os dados da tabela abaixo, os quais se referem ao peso, altura e idade de cinco pessoas:\n",
    "\n",
    "Peso (kg)\tAltura (cm)\tIdade\n",
    "72\t180\t31\n",
    "80\t170\t21\n",
    "60\t175\t16\n",
    "90\t174\t28\n",
    "100\t185\t23\n",
    "Com base no DataFrame criado, realize o que pedido nos itens abaixo:\n",
    "\n",
    "(a) Visualize apenas os dados da coluna que contém a altura das pessoas.\n",
    "\n",
    "(b) Obtenha a idade média das pessoas.\n",
    "\n",
    "(c) Obtenha os dados das pessoas que estão abaixo da altura média.\n",
    "\n",
    "(d) Crie um nova coluna no DataFrame que contenha o IMC (Índice de Massa Corporal) de cada pessoa.\n",
    "\n",
    "(e) Remova a coluna que contém a idade das pessoas.\n",
    "\n",
    "(f) Salve esses dados do DataFrame em um arquivo csv."
   ]
  },
  {
   "cell_type": "code",
   "execution_count": 111,
   "id": "0f741b72",
   "metadata": {
    "ExecuteTime": {
     "end_time": "2021-08-16T10:30:58.510340Z",
     "start_time": "2021-08-16T10:30:58.487341Z"
    }
   },
   "outputs": [
    {
     "name": "stdout",
     "output_type": "stream",
     "text": [
      "   peso  altura  idade\n",
      "0    72     180     31\n",
      "1    80     170     21\n",
      "2    60     175      1\n",
      "3    90     174     28\n",
      "4   100     185     23\n",
      "\n",
      "(a) Visualize apenas os dados da coluna que contém a altura das pessoas.\n",
      "180\n",
      "170\n",
      "175\n",
      "174\n",
      "185\n",
      "\n",
      "(b) Obtenha a idade média das pessoas.\n",
      "20.8\n",
      "\n",
      "(c) Obtenha os dados das pessoas que estão abaixo da altura média (176.8).\n",
      "   peso  altura  idade\n",
      "1    80     170     21\n",
      "2    60     175      1\n",
      "3    90     174     28\n",
      "\n",
      "(d) Crie um nova coluna no DataFrame que contenha o IMC (Índice de Massa Corporal) de cada pessoa.\n",
      "0    22.22\n",
      "1    27.68\n",
      "2    19.59\n",
      "3    29.73\n",
      "4    29.22\n",
      "dtype: float64\n",
      "\n",
      "(e) Remova a coluna que contém a idade das pessoas.\n",
      "   peso  altura    imc\n",
      "0    72     180  22.22\n",
      "1    80     170  27.68\n",
      "2    60     175  19.59\n",
      "3    90     174  29.73\n",
      "4   100     185  29.22\n",
      "\n",
      "(f) Salve esses dados do DataFrame em um arquivo csv.\n"
     ]
    }
   ],
   "source": [
    "import pandas as pd\n",
    "\n",
    "data = {'peso': [72, 80, 60, 90, 100], 'altura': [180, 170, 175, 174, 185], 'idade': [31, 21, 1, 28, 23]}\n",
    "df = pd.DataFrame(data)\n",
    "print(df)\n",
    "print('\\n(a) Visualize apenas os dados da coluna que contém a altura das pessoas.')\n",
    "print(df['altura'].to_string(index=False))\n",
    "print('\\n(b) Obtenha a idade média das pessoas.')\n",
    "print(df['idade'].mean())\n",
    "am = df['altura'].mean()\n",
    "print(f'\\n(c) Obtenha os dados das pessoas que estão abaixo da altura média ({am}).')\n",
    "print(df[df['altura'] < df['altura'].mean()]) \n",
    "print('\\n(d) Crie um nova coluna no DataFrame que contenha o IMC (Índice de Massa Corporal) de cada pessoa.')\n",
    "imc = round((df['peso'] / (df['altura']/100)**2),2)\n",
    "imclist = [imc.values]\n",
    "#df = df.assign(IMC = imc)               \n",
    "#df.insert(3, \"imc\", imc, True)\n",
    "df['imc'] = imc\n",
    "print(imc)\n",
    "print('\\n(e) Remova a coluna que contém a idade das pessoas.')\n",
    "del df['idade']\n",
    "print(df)\n",
    "print('\\n(f) Salve esses dados do DataFrame em um arquivo csv.')\n",
    "df.to_csv('./datasets/2-exercicios-Pandas-questao-3-imc.csv', index=False, header=True, sep=';')"
   ]
  },
  {
   "cell_type": "markdown",
   "id": "3f67e443",
   "metadata": {},
   "source": [
    "Questão #4\n",
    "\n",
    "Enunciado\n",
    "\n",
    "Carregue, em um objeto DataFrame, o arquivo CSV que você salvou no item (f) da questão anterior. Em seguida,\n",
    "\n",
    "(a) Crie uma nova coluna que contenha o nome das pessoas (sinta-se à vontade para atribuir os nomes que preferir).\n",
    "\n",
    "(b) Defina a nova coluna criada (com os nomes) como o índice (index) do seu DataFrame.\n",
    "\n",
    "(c) Obtenha o nome das pessoas que são classificadas com Sobrepeso (IMC entre 25 e 29,9)."
   ]
  },
  {
   "cell_type": "code",
   "execution_count": 172,
   "id": "7710f1a1",
   "metadata": {
    "ExecuteTime": {
     "end_time": "2021-08-16T17:46:25.007152Z",
     "start_time": "2021-08-16T17:46:24.976588Z"
    }
   },
   "outputs": [
    {
     "name": "stdout",
     "output_type": "stream",
     "text": [
      "(a) Crie uma nova coluna que contenha o nome das pessoas\n",
      "   peso  altura    imc       nome\n",
      "0    72     180  22.22      Maria\n",
      "1    80     170  27.68       Joao\n",
      "2    60     175  19.59   Ezequiel\n",
      "3    90     174  29.73  Aparecida\n",
      "4   100     185  29.22      Paulo\n",
      "\n",
      "(b) Defina a nova coluna criada (com os nomes) como o índice (index)\n",
      "           peso  altura    imc\n",
      "nome                          \n",
      "Maria        72     180  22.22\n",
      "Joao         80     170  27.68\n",
      "Ezequiel     60     175  19.59\n",
      "Aparecida    90     174  29.73\n",
      "Paulo       100     185  29.22\n",
      "\n",
      "(c) Obtenha o nome das pessoas que são classificadas com Sobrepeso (IMC entre 25 e 29,9)\n",
      "['Joao', 'Aparecida', 'Paulo']\n"
     ]
    }
   ],
   "source": [
    "import pandas as pd\n",
    "\n",
    "df = pd.read_csv ('./datasets/2-exercicios-Pandas-questao-3-imc.csv', sep=';')\n",
    "\n",
    "print('(a) Crie uma nova coluna que contenha o nome das pessoas')\n",
    "nomes = ['Maria', 'Joao', 'Ezequiel', 'Aparecida', 'Paulo']\n",
    "df['nome'] = nomes\n",
    "print (df)\n",
    "print('\\n(b) Defina a nova coluna criada (com os nomes) como o índice (index)')\n",
    "df.set_index('nome', inplace=True)\n",
    "print (df)\n",
    "print('\\n(c) Obtenha o nome das pessoas que são classificadas com Sobrepeso (IMC entre 25 e 29,9)')\n",
    "filtro = (df['imc'] >= 25) & (df['imc'] <= 29.9)\n",
    "print(df[filtro].index.tolist())"
   ]
  },
  {
   "cell_type": "markdown",
   "id": "e762b0b3",
   "metadata": {},
   "source": [
    "Questão #5\n",
    "\n",
    "Enunciado\n",
    "\n",
    "Carregue, em um objeto DataFrame, o mesmo dataset que você salvou na Questão 3. Em seguida,\n",
    "\n",
    "(a) Adicione uma nova coluna nesse DF chamada Classificação, que contenha a classificação de cada indivíduo, \n",
    "de acordo com o seu IMC. Para isso, consulte a tabela abaixo.\n",
    "\n",
    "IMC\tClassificação\tObesidade (grau)\n",
    "Menor que 18,5\tMagreza\t0\n",
    "Entre 18,5 e 24,9\tNormal\t0\n",
    "Entre 25,0 e 29,9\tSobrepeso\tI\n",
    "Entre 30,0 e 39,9\tObesidade\tII\n",
    "Maior que 40,0\tObesidade Grave\tIII\n",
    "(b) Salve em DataFrame no formato xlsx."
   ]
  },
  {
   "cell_type": "code",
   "execution_count": 181,
   "id": "7382912d",
   "metadata": {
    "ExecuteTime": {
     "end_time": "2021-08-16T18:05:46.313800Z",
     "start_time": "2021-08-16T18:05:46.263092Z"
    }
   },
   "outputs": [
    {
     "data": {
      "text/html": [
       "<div>\n",
       "<style scoped>\n",
       "    .dataframe tbody tr th:only-of-type {\n",
       "        vertical-align: middle;\n",
       "    }\n",
       "\n",
       "    .dataframe tbody tr th {\n",
       "        vertical-align: top;\n",
       "    }\n",
       "\n",
       "    .dataframe thead th {\n",
       "        text-align: right;\n",
       "    }\n",
       "</style>\n",
       "<table border=\"1\" class=\"dataframe\">\n",
       "  <thead>\n",
       "    <tr style=\"text-align: right;\">\n",
       "      <th></th>\n",
       "      <th>peso</th>\n",
       "      <th>altura</th>\n",
       "      <th>imc</th>\n",
       "      <th>classificacao</th>\n",
       "    </tr>\n",
       "  </thead>\n",
       "  <tbody>\n",
       "    <tr>\n",
       "      <th>0</th>\n",
       "      <td>72</td>\n",
       "      <td>180</td>\n",
       "      <td>22.22</td>\n",
       "      <td>Normal</td>\n",
       "    </tr>\n",
       "    <tr>\n",
       "      <th>1</th>\n",
       "      <td>80</td>\n",
       "      <td>170</td>\n",
       "      <td>27.68</td>\n",
       "      <td>Sobrepeso</td>\n",
       "    </tr>\n",
       "    <tr>\n",
       "      <th>2</th>\n",
       "      <td>60</td>\n",
       "      <td>175</td>\n",
       "      <td>19.59</td>\n",
       "      <td>Normal</td>\n",
       "    </tr>\n",
       "    <tr>\n",
       "      <th>3</th>\n",
       "      <td>90</td>\n",
       "      <td>174</td>\n",
       "      <td>29.73</td>\n",
       "      <td>Sobrepeso</td>\n",
       "    </tr>\n",
       "    <tr>\n",
       "      <th>4</th>\n",
       "      <td>100</td>\n",
       "      <td>185</td>\n",
       "      <td>29.22</td>\n",
       "      <td>Sobrepeso</td>\n",
       "    </tr>\n",
       "  </tbody>\n",
       "</table>\n",
       "</div>"
      ],
      "text/plain": [
       "   peso  altura    imc classificacao\n",
       "0    72     180  22.22        Normal\n",
       "1    80     170  27.68     Sobrepeso\n",
       "2    60     175  19.59        Normal\n",
       "3    90     174  29.73     Sobrepeso\n",
       "4   100     185  29.22     Sobrepeso"
      ]
     },
     "execution_count": 181,
     "metadata": {},
     "output_type": "execute_result"
    }
   ],
   "source": [
    "import pandas as pd\n",
    "\n",
    "df = pd.read_csv ('./datasets/2-exercicios-Pandas-questao-3-imc.csv', sep=';')\n",
    "\n",
    "data = {'IMC_de': [0, 18.5, 25.0, 30.0, 40.0], 'IMC_ate': [18.5, 24.9, 29.9, 39.9, 80.0],'Classificacao': ['Magreza', 'Normal', 'Sobrepeso', 'Obesidade', 'Obesidade Grave'], 'Obesidade': ['0','0','I', 'II', 'III']}\n",
    "df_imc_class = pd.DataFrame(data)\n",
    "\n",
    "imc_class_list = list()\n",
    "for e in df['imc']:\n",
    "    #print(e)\n",
    "    for i in range(len(df_imc_class)) :\n",
    "        imc_de = df_imc_class.iloc[i, 0]\n",
    "        imc_ate = df_imc_class.iloc[i, 1]\n",
    "        imc_class = df_imc_class.iloc[i, 2] \n",
    "        if ((e >= imc_de) and (e <= imc_ate)):\n",
    "            #print(imc_class)\n",
    "            imc_class_list.append(imc_class)\n",
    "\n",
    "df['classificacao'] = imc_class_list\n",
    "df.to_excel('./datasets/2-exercicios-Pandas-questao-5-imc-class.xlsx', sheet_name='IMC', index=False, header=True)\n",
    "df\n"
   ]
  },
  {
   "cell_type": "code",
   "execution_count": 161,
   "id": "dcef668a",
   "metadata": {
    "ExecuteTime": {
     "end_time": "2021-08-16T17:37:53.463412Z",
     "start_time": "2021-08-16T17:37:53.450377Z"
    }
   },
   "outputs": [
    {
     "name": "stdout",
     "output_type": "stream",
     "text": [
      "0.0 18.5 Magreza\n",
      "18.5 24.9 Normal\n",
      "25.0 29.9 Sobrepeso\n",
      "30.0 39.9 Obesidade\n",
      "40.0 40.0 Obesidade Grave\n"
     ]
    }
   ],
   "source": [
    "for i in range(len(df_imc_class)) : \n",
    "    print(df_imc_class.iloc[i, 0], df_imc_class.iloc[i, 1], df_imc_class.iloc[i, 2]) "
   ]
  },
  {
   "cell_type": "code",
   "execution_count": 169,
   "id": "ca4926a1",
   "metadata": {
    "ExecuteTime": {
     "end_time": "2021-08-16T17:45:25.362136Z",
     "start_time": "2021-08-16T17:45:25.351136Z"
    }
   },
   "outputs": [
    {
     "data": {
      "text/html": [
       "<div>\n",
       "<style scoped>\n",
       "    .dataframe tbody tr th:only-of-type {\n",
       "        vertical-align: middle;\n",
       "    }\n",
       "\n",
       "    .dataframe tbody tr th {\n",
       "        vertical-align: top;\n",
       "    }\n",
       "\n",
       "    .dataframe thead th {\n",
       "        text-align: right;\n",
       "    }\n",
       "</style>\n",
       "<table border=\"1\" class=\"dataframe\">\n",
       "  <thead>\n",
       "    <tr style=\"text-align: right;\">\n",
       "      <th></th>\n",
       "      <th>peso</th>\n",
       "      <th>altura</th>\n",
       "      <th>imc</th>\n",
       "      <th>Classificacao</th>\n",
       "      <th>classificacao</th>\n",
       "    </tr>\n",
       "  </thead>\n",
       "  <tbody>\n",
       "    <tr>\n",
       "      <th>0</th>\n",
       "      <td>72</td>\n",
       "      <td>180</td>\n",
       "      <td>22.22</td>\n",
       "      <td>Normal</td>\n",
       "      <td>Normal</td>\n",
       "    </tr>\n",
       "    <tr>\n",
       "      <th>1</th>\n",
       "      <td>80</td>\n",
       "      <td>170</td>\n",
       "      <td>27.68</td>\n",
       "      <td>Sobrepeso</td>\n",
       "      <td>Sobrepeso</td>\n",
       "    </tr>\n",
       "    <tr>\n",
       "      <th>2</th>\n",
       "      <td>60</td>\n",
       "      <td>175</td>\n",
       "      <td>19.59</td>\n",
       "      <td>Normal</td>\n",
       "      <td>Normal</td>\n",
       "    </tr>\n",
       "    <tr>\n",
       "      <th>3</th>\n",
       "      <td>90</td>\n",
       "      <td>174</td>\n",
       "      <td>29.73</td>\n",
       "      <td>Sobrepeso</td>\n",
       "      <td>Sobrepeso</td>\n",
       "    </tr>\n",
       "    <tr>\n",
       "      <th>4</th>\n",
       "      <td>100</td>\n",
       "      <td>185</td>\n",
       "      <td>29.22</td>\n",
       "      <td>Sobrepeso</td>\n",
       "      <td>Sobrepeso</td>\n",
       "    </tr>\n",
       "  </tbody>\n",
       "</table>\n",
       "</div>"
      ],
      "text/plain": [
       "   peso  altura    imc Classificacao classificacao\n",
       "0    72     180  22.22        Normal        Normal\n",
       "1    80     170  27.68     Sobrepeso     Sobrepeso\n",
       "2    60     175  19.59        Normal        Normal\n",
       "3    90     174  29.73     Sobrepeso     Sobrepeso\n",
       "4   100     185  29.22     Sobrepeso     Sobrepeso"
      ]
     },
     "execution_count": 169,
     "metadata": {},
     "output_type": "execute_result"
    }
   ],
   "source": [
    "df"
   ]
  },
  {
   "cell_type": "code",
   "execution_count": null,
   "id": "9944463e",
   "metadata": {},
   "outputs": [],
   "source": []
  }
 ],
 "metadata": {
  "kernelspec": {
   "display_name": "Python 3",
   "language": "python",
   "name": "python3"
  },
  "language_info": {
   "codemirror_mode": {
    "name": "ipython",
    "version": 3
   },
   "file_extension": ".py",
   "mimetype": "text/x-python",
   "name": "python",
   "nbconvert_exporter": "python",
   "pygments_lexer": "ipython3",
   "version": "3.8.11"
  }
 },
 "nbformat": 4,
 "nbformat_minor": 5
}
