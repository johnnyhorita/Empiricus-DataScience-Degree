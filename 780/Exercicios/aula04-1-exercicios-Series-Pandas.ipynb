{
 "cells": [
  {
   "cell_type": "markdown",
   "id": "a40cb393",
   "metadata": {
    "ExecuteTime": {
     "end_time": "2021-08-11T23:50:35.997207Z",
     "start_time": "2021-08-11T23:50:35.995169Z"
    }
   },
   "source": [
    "# Bibliotecas e APIs\n",
    "\n",
    "## 1 - Series | Pandas"
   ]
  },
  {
   "cell_type": "markdown",
   "id": "b012fa33",
   "metadata": {},
   "source": [
    "Questão #1\n",
    "\n",
    "Enunciado\n",
    "\n",
    "Crie uma Series com os índices registrados pelo TIOBE Index para as top 10 linguagens de programação.\n",
    "\n",
    "Os índices da Series devem ser os nomes das linguagens, e os valores devem ser as taxas de popularidade de cada respectiva linguagem de programação. Em seguida, utilize os métodos da Series para:\n",
    "\n",
    "Exibir os cinco primeiros valores da Series\n",
    "\n",
    "Exibir os cinco últimos valores da Series"
   ]
  },
  {
   "cell_type": "code",
   "execution_count": 19,
   "id": "00eab40a",
   "metadata": {
    "ExecuteTime": {
     "end_time": "2021-08-12T01:09:01.361167Z",
     "start_time": "2021-08-12T01:09:01.341128Z"
    }
   },
   "outputs": [],
   "source": [
    "import pandas as pd\n",
    "df = pd.read_csv(\"./datasets/TIOBE_202108.csv\", sep=';')\n",
    "\n",
    "labels = df['Programming Language'].head(10).tolist()\n",
    "valores = df['Ratings'].head(10).tolist()\n",
    "serie = pd.Series(data=valores, index=labels)"
   ]
  },
  {
   "cell_type": "code",
   "execution_count": 20,
   "id": "d8be80ac",
   "metadata": {
    "ExecuteTime": {
     "end_time": "2021-08-12T01:09:02.489464Z",
     "start_time": "2021-08-12T01:09:02.477446Z"
    }
   },
   "outputs": [],
   "source": [
    "labels = ['C', 'Python', 'Java', 'C++', 'C#', 'Visual Basic', 'JavaScript', 'PHP', 'Assembly language', 'SQL']\n",
    "valores = ['12.57%', '11.86%', '10.43%', '7.36%', '5.14%', '4.67%', '2.95%', '2.19%', '2.03%', '1.47%']\n",
    "serie = pd.Series(data=valores, index=labels)"
   ]
  },
  {
   "cell_type": "code",
   "execution_count": 26,
   "id": "4795c06d",
   "metadata": {
    "ExecuteTime": {
     "end_time": "2021-08-12T01:10:47.144062Z",
     "start_time": "2021-08-12T01:10:47.123062Z"
    }
   },
   "outputs": [
    {
     "name": "stdout",
     "output_type": "stream",
     "text": [
      "\n",
      "Exibir os cinco primeiros valores da Series\n",
      "C         12.57%\n",
      "Python    11.86%\n",
      "Java      10.43%\n",
      "C++        7.36%\n",
      "C#         5.14%\n",
      "dtype: object\n",
      "\n",
      "Exibir os cinco últimos valores da Series\n",
      "Visual Basic         4.67%\n",
      "JavaScript           2.95%\n",
      "PHP                  2.19%\n",
      "Assembly language    2.03%\n",
      "SQL                  1.47%\n",
      "dtype: object\n"
     ]
    }
   ],
   "source": [
    "print('\\nExibir os cinco primeiros valores da Series')\n",
    "print(serie.head(5))\n",
    "print('\\nExibir os cinco últimos valores da Series')\n",
    "print(serie.tail(5))"
   ]
  },
  {
   "cell_type": "code",
   "execution_count": 22,
   "id": "99508cbe",
   "metadata": {
    "ExecuteTime": {
     "end_time": "2021-08-12T01:09:15.915908Z",
     "start_time": "2021-08-12T01:09:15.901854Z"
    }
   },
   "outputs": [
    {
     "data": {
      "text/plain": [
       "Visual Basic         4.67%\n",
       "JavaScript           2.95%\n",
       "PHP                  2.19%\n",
       "Assembly language    2.03%\n",
       "SQL                  1.47%\n",
       "dtype: object"
      ]
     },
     "execution_count": 22,
     "metadata": {},
     "output_type": "execute_result"
    }
   ],
   "source": [
    "serie.tail(5)"
   ]
  },
  {
   "cell_type": "markdown",
   "id": "1abb5163",
   "metadata": {},
   "source": [
    "Questão #2\n",
    "\n",
    "Enunciado\n",
    "\n",
    "Crie uma Series com os 11 primeiros termos da sequência de Fibonacci. \n",
    "Utilize letras (em ordem alfabética) como os índices da Series. \n",
    "Em seguida, obtenha apenas aqueles elementos que forem superiores a 10 e inferiores a 50.\n",
    "\n",
    "Sequência de Fibonacci: 0, 1, 1, 2, 3, 5, 8, 13, 21, 34, 55..."
   ]
  },
  {
   "cell_type": "code",
   "execution_count": null,
   "id": "16cc08e5",
   "metadata": {},
   "outputs": [],
   "source": [
    "n1,n2 = 0,1\n",
    "print(n1)\n",
    "for i in range(1, 11):\n",
    "    print(n2)\n",
    "    n1,n2 = n2, n1+n2\n"
   ]
  },
  {
   "cell_type": "code",
   "execution_count": 86,
   "id": "7e759599",
   "metadata": {
    "ExecuteTime": {
     "end_time": "2021-08-12T11:34:57.512569Z",
     "start_time": "2021-08-12T11:34:57.503476Z"
    }
   },
   "outputs": [
    {
     "data": {
      "text/plain": [
       "[0, 1, 1, 3, 5, 7, 9, 11, 13, 15, 17]"
      ]
     },
     "execution_count": 86,
     "metadata": {},
     "output_type": "execute_result"
    }
   ],
   "source": [
    "l = list()\n",
    "for i in range(1, 11):    \n",
    "    l.append(i if i in [0, 1] else (i - 1) + (i - 2))\n",
    "    \n",
    "l"
   ]
  },
  {
   "cell_type": "code",
   "execution_count": 94,
   "id": "be3b6301",
   "metadata": {
    "ExecuteTime": {
     "end_time": "2021-08-12T11:40:42.888836Z",
     "start_time": "2021-08-12T11:40:42.855413Z"
    }
   },
   "outputs": [
    {
     "data": {
      "text/plain": [
       "[0.0, 1.0, 1.0, 2.0, 3.0, 5.0, 8.0, 13.0, 21.0, 34.0, 55.0]"
      ]
     },
     "execution_count": 94,
     "metadata": {},
     "output_type": "execute_result"
    }
   ],
   "source": [
    "import pandas as pd\n",
    "import string\n",
    "\n",
    "seq = 11\n",
    "#def fibSerie(seq):\n",
    "df = pd.DataFrame()\n",
    "alfabeto = list(string.ascii_lowercase)\n",
    "for i in range(0, seq):\n",
    "    df.loc[i, 'fib'] = i if i in [0, 1] else df.loc[i - 1, 'fib'] + df.loc[i - 2, 'fib']\n",
    "df['alfaindex'] = alfabeto[:seq]\n",
    "\n",
    "#    return df\n",
    "df['fib'].tolist()\n",
    "#df\n",
    "#df[df.fibSerie.between(10, 50)]\n",
    "#fibSerie(11)\n",
    "\n",
    "    "
   ]
  },
  {
   "cell_type": "code",
   "execution_count": 49,
   "id": "0273c0fb",
   "metadata": {
    "ExecuteTime": {
     "end_time": "2021-08-12T10:48:31.727351Z",
     "start_time": "2021-08-12T10:48:31.711348Z"
    }
   },
   "outputs": [
    {
     "data": {
      "text/plain": [
       "11"
      ]
     },
     "execution_count": 49,
     "metadata": {},
     "output_type": "execute_result"
    }
   ],
   "source": [
    "df['fib'].size"
   ]
  },
  {
   "cell_type": "code",
   "execution_count": 60,
   "id": "742ccbc0",
   "metadata": {
    "ExecuteTime": {
     "end_time": "2021-08-12T11:17:12.740890Z",
     "start_time": "2021-08-12T11:17:12.723175Z"
    }
   },
   "outputs": [],
   "source": [
    "#chr(ord('x')) == 'x'\n",
    "#df['number_col'] = df['number_col'].astype(int).apply(lambda x: chr(ord('`')+x))\n",
    "\n",
    "import string\n",
    "num2alpha = dict(zip(range(1, 27), string.ascii_lowercase))\n",
    "\n",
    "alphabet_list = list(string.ascii_lowercase)"
   ]
  },
  {
   "cell_type": "code",
   "execution_count": 35,
   "id": "bf837c1a",
   "metadata": {
    "ExecuteTime": {
     "end_time": "2021-08-12T10:31:49.794814Z",
     "start_time": "2021-08-12T10:31:49.771666Z"
    }
   },
   "outputs": [
    {
     "name": "stdout",
     "output_type": "stream",
     "text": [
      "0\n",
      "1\n",
      "1\n",
      "2\n",
      "3\n",
      "5\n",
      "8\n",
      "13\n",
      "21\n",
      "34\n",
      "55\n"
     ]
    }
   ],
   "source": [
    "n1,n2 = 0,1\n",
    "print(n1)\n",
    "for i in range(0, 10):\n",
    "    print(n2)\n",
    "    n1,n2 = n2, n1+n2\n"
   ]
  },
  {
   "cell_type": "markdown",
   "id": "c20a9c1b",
   "metadata": {},
   "source": [
    "Questão #3\n",
    "\n",
    "Enunciado\n",
    "\n",
    "Crie um programa para calcular a média e o desvio padrão de uma series. Observe o exemplo abaixo:\n",
    "\n",
    "Series\n",
    "\n",
    "0 1\n",
    "1 2\n",
    "2 3\n",
    "3 4\n",
    "4 5\n",
    "5 6\n",
    "6 7\n",
    "7 8\n",
    "8 9\n",
    "9 5\n",
    "10 3\n",
    "dtype: int64\n",
    "Saída\n",
    "\n",
    "Média: 4.818181818181818\n",
    "Desvio Padrão: 2.522624895547565"
   ]
  },
  {
   "cell_type": "code",
   "execution_count": null,
   "id": "0f741b72",
   "metadata": {},
   "outputs": [],
   "source": []
  },
  {
   "cell_type": "markdown",
   "id": "3f67e443",
   "metadata": {},
   "source": [
    "Questão #4\n",
    "\n",
    "Enunciado\n",
    "Crie um array com 20 números aleatórios inteiros entre 1 e 5. \n",
    "Em seguida, calcule a frequência (percentual) de cada valor específico da Series."
   ]
  },
  {
   "cell_type": "code",
   "execution_count": null,
   "id": "7710f1a1",
   "metadata": {},
   "outputs": [],
   "source": []
  },
  {
   "cell_type": "markdown",
   "id": "e762b0b3",
   "metadata": {},
   "source": [
    "Questão #5\n",
    "\n",
    "Enunciado\n",
    "Crie um programa para mostrar qual é o valor mais frequente de uma series e, \n",
    "em seguida, substitua todos os demais valores dela por \"Outro valor\"."
   ]
  },
  {
   "cell_type": "code",
   "execution_count": null,
   "id": "7382912d",
   "metadata": {},
   "outputs": [],
   "source": []
  },
  {
   "cell_type": "markdown",
   "id": "5abbe4c5",
   "metadata": {},
   "source": [
    "Questão #6\n",
    "\n",
    "Enunciado\n",
    "Crie um array com números entre 1 e 10, com passo 1. \n",
    "Em seguida, embaralhe esses números utilizando o método shuffle do Numpy. \n",
    "Crie uma lista com o fatorial desses números, nessa nova ordem (após o embaralhamento). \n",
    "Por fim, crie uma Series cujo os valores são os fatoriais (embaralhados) e os índices são os números associados ao fatorial.\n",
    "\n",
    "Exemplo de saída\n",
    "\n",
    "3           6\n",
    "5         120\n",
    "1           1\n",
    "9      362880\n",
    "4          24\n",
    "7        5040\n",
    "10    3628800\n",
    "2           2\n",
    "6         720\n",
    "8       40320\n",
    "dtype: int64"
   ]
  },
  {
   "cell_type": "code",
   "execution_count": null,
   "id": "1cd01630",
   "metadata": {},
   "outputs": [],
   "source": []
  },
  {
   "cell_type": "code",
   "execution_count": null,
   "id": "d2d9e7b5",
   "metadata": {},
   "outputs": [],
   "source": []
  }
 ],
 "metadata": {
  "kernelspec": {
   "display_name": "Python 3",
   "language": "python",
   "name": "python3"
  },
  "language_info": {
   "codemirror_mode": {
    "name": "ipython",
    "version": 3
   },
   "file_extension": ".py",
   "mimetype": "text/x-python",
   "name": "python",
   "nbconvert_exporter": "python",
   "pygments_lexer": "ipython3",
   "version": "3.8.11"
  }
 },
 "nbformat": 4,
 "nbformat_minor": 5
}
