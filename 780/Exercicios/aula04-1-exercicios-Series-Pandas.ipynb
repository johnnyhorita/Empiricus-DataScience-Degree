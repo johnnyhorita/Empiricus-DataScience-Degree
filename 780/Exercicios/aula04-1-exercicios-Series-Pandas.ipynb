{
 "cells": [
  {
   "cell_type": "markdown",
   "id": "a40cb393",
   "metadata": {
    "ExecuteTime": {
     "end_time": "2021-08-11T23:50:35.997207Z",
     "start_time": "2021-08-11T23:50:35.995169Z"
    }
   },
   "source": [
    "# Bibliotecas e APIs\n",
    "\n",
    "## 1 - Series | Pandas"
   ]
  },
  {
   "cell_type": "markdown",
   "id": "b012fa33",
   "metadata": {},
   "source": [
    "Questão #1\n",
    "\n",
    "Enunciado\n",
    "\n",
    "Crie uma Series com os índices registrados pelo TIOBE Index para as top 10 linguagens de programação.\n",
    "\n",
    "Os índices da Series devem ser os nomes das linguagens, e os valores devem ser as taxas de popularidade de cada respectiva linguagem de programação. Em seguida, utilize os métodos da Series para:\n",
    "\n",
    "Exibir os cinco primeiros valores da Series\n",
    "\n",
    "Exibir os cinco últimos valores da Series"
   ]
  },
  {
   "cell_type": "code",
   "execution_count": null,
   "id": "00eab40a",
   "metadata": {
    "ExecuteTime": {
     "end_time": "2021-08-15T11:01:44.524387Z",
     "start_time": "2021-08-15T11:01:44.490034Z"
    }
   },
   "outputs": [],
   "source": [
    "import pandas as pd\n",
    "df = pd.read_csv(\"./datasets/TIOBE_202108.csv\", sep=';')\n",
    "\n",
    "labels = df['Programming Language'].head(10).tolist()\n",
    "valores = df['Ratings'].head(10).tolist()\n",
    "serie = pd.Series(data=valores, index=labels)"
   ]
  },
  {
   "cell_type": "code",
   "execution_count": 2,
   "id": "d8be80ac",
   "metadata": {
    "ExecuteTime": {
     "end_time": "2021-08-15T12:46:32.960907Z",
     "start_time": "2021-08-15T12:46:32.946905Z"
    }
   },
   "outputs": [
    {
     "name": "stdout",
     "output_type": "stream",
     "text": [
      "\n",
      "Exibir os cinco primeiros valores da Series\n",
      "C         12.57%\n",
      "Python    11.86%\n",
      "Java      10.43%\n",
      "C++        7.36%\n",
      "C#         5.14%\n",
      "dtype: object\n",
      "\n",
      "Exibir os cinco últimos valores da Series\n",
      "Visual Basic         4.67%\n",
      "JavaScript           2.95%\n",
      "PHP                  2.19%\n",
      "Assembly language    2.03%\n",
      "SQL                  1.47%\n",
      "dtype: object\n"
     ]
    }
   ],
   "source": [
    "labels = ['C', 'Python', 'Java', 'C++', 'C#', 'Visual Basic', 'JavaScript', 'PHP', 'Assembly language', 'SQL']\n",
    "valores = ['12.57%', '11.86%', '10.43%', '7.36%', '5.14%', '4.67%', '2.95%', '2.19%', '2.03%', '1.47%']\n",
    "serie = pd.Series(data=valores, index=labels)\n",
    "print('\\nExibir os cinco primeiros valores da Series')\n",
    "print(serie.head(5))\n",
    "print('\\nExibir os cinco últimos valores da Series')\n",
    "print(serie.tail(5))"
   ]
  },
  {
   "cell_type": "code",
   "execution_count": null,
   "id": "4795c06d",
   "metadata": {
    "ExecuteTime": {
     "end_time": "2021-08-15T11:01:52.995453Z",
     "start_time": "2021-08-15T11:01:52.978431Z"
    }
   },
   "outputs": [],
   "source": [
    "print('\\nExibir os cinco primeiros valores da Series')\n",
    "print(serie.head(5))\n",
    "print('\\nExibir os cinco últimos valores da Series')\n",
    "print(serie.tail(5))"
   ]
  },
  {
   "cell_type": "markdown",
   "id": "1abb5163",
   "metadata": {},
   "source": [
    "Questão #2\n",
    "\n",
    "Enunciado\n",
    "\n",
    "Crie uma Series com os 11 primeiros termos da sequência de Fibonacci. \n",
    "Utilize letras (em ordem alfabética) como os índices da Series. \n",
    "Em seguida, obtenha apenas aqueles elementos que forem superiores a 10 e inferiores a 50.\n",
    "\n",
    "Sequência de Fibonacci: 0, 1, 1, 2, 3, 5, 8, 13, 21, 34, 55..."
   ]
  },
  {
   "cell_type": "code",
   "execution_count": 3,
   "id": "16cc08e5",
   "metadata": {
    "ExecuteTime": {
     "end_time": "2021-08-15T12:46:39.797112Z",
     "start_time": "2021-08-15T12:46:39.785087Z"
    }
   },
   "outputs": [
    {
     "data": {
      "text/plain": [
       "h    13\n",
       "i    21\n",
       "j    34\n",
       "dtype: int64"
      ]
     },
     "execution_count": 3,
     "metadata": {},
     "output_type": "execute_result"
    }
   ],
   "source": [
    "import pandas as pd\n",
    "import string\n",
    "\n",
    "alfabeto = list(string.ascii_lowercase)\n",
    "\n",
    "def fibSerie(seq):\n",
    "    listFib = list()\n",
    "    n1,n2 = 0,1\n",
    "    listFib.append(n1)\n",
    "    for i in range(1, seq):\n",
    "        listFib.append(n2)\n",
    "        n1,n2 = n2, n1+n2\n",
    "    return listFib\n",
    "\n",
    "seq = 11\n",
    "valores = fibSerie(seq)\n",
    "labels = alfabeto[:seq]\n",
    "serie = pd.Series(data=valores, index=labels)\n",
    "filtro = (serie > 10) & (serie < 50)\n",
    "serie[filtro]"
   ]
  },
  {
   "cell_type": "code",
   "execution_count": 4,
   "id": "be3b6301",
   "metadata": {
    "ExecuteTime": {
     "end_time": "2021-08-15T12:46:47.659243Z",
     "start_time": "2021-08-15T12:46:47.624888Z"
    }
   },
   "outputs": [
    {
     "data": {
      "text/plain": [
       "[0.0, 1.0, 1.0, 2.0, 3.0, 5.0, 8.0, 13.0, 21.0, 34.0, 55.0]"
      ]
     },
     "execution_count": 4,
     "metadata": {},
     "output_type": "execute_result"
    }
   ],
   "source": [
    "import pandas as pd\n",
    "import string\n",
    "\n",
    "seq = 11\n",
    "#def fibSerie(seq):\n",
    "df = pd.DataFrame()\n",
    "alfabeto = list(string.ascii_lowercase)\n",
    "for i in range(0, seq):\n",
    "    df.loc[i, 'fib'] = i if i in [0, 1] else df.loc[i - 1, 'fib'] + df.loc[i - 2, 'fib']\n",
    "df['alfaindex'] = alfabeto[:seq]\n",
    "\n",
    "#    return df\n",
    "df['fib'].tolist()\n",
    "#df\n",
    "#df[df.fibSerie.between(10, 50)]\n",
    "#fibSerie(11)\n",
    "\n",
    "    "
   ]
  },
  {
   "cell_type": "markdown",
   "id": "c20a9c1b",
   "metadata": {},
   "source": [
    "Questão #3\n",
    "\n",
    "Enunciado\n",
    "\n",
    "Crie um programa para calcular a média e o desvio padrão de uma series. Observe o exemplo abaixo:\n",
    "\n",
    "Series\n",
    "\n",
    "0 1\n",
    "1 2\n",
    "2 3\n",
    "3 4\n",
    "4 5\n",
    "5 6\n",
    "6 7\n",
    "7 8\n",
    "8 9\n",
    "9 5\n",
    "10 3\n",
    "dtype: int64\n",
    "Saída\n",
    "\n",
    "Média: 4.818181818181818\n",
    "Desvio Padrão: 2.522624895547565"
   ]
  },
  {
   "cell_type": "code",
   "execution_count": 5,
   "id": "0f741b72",
   "metadata": {
    "ExecuteTime": {
     "end_time": "2021-08-15T12:47:28.221575Z",
     "start_time": "2021-08-15T12:47:28.204544Z"
    }
   },
   "outputs": [
    {
     "name": "stdout",
     "output_type": "stream",
     "text": [
      "Media: 4.818181818181818\n",
      "Desvio Padrao: 2.522624895547565\n"
     ]
    }
   ],
   "source": [
    "import pandas as pd\n",
    "\n",
    "def Mean_Std_Serie(serie):\n",
    "    s = pd.Series(serie)\n",
    "    print(f'Media: {s.mean()}')\n",
    "    print(f'Desvio Padrao: {s.std()}')\n",
    "    return\n",
    "    \n",
    "a = [1, 2, 3, 4, 5, 6, 7, 8, 9, 5, 3]\n",
    "\n",
    "Mean_Std_Serie(a)\n"
   ]
  },
  {
   "cell_type": "markdown",
   "id": "3f67e443",
   "metadata": {},
   "source": [
    "Questão #4\n",
    "\n",
    "Enunciado\n",
    "\n",
    "Crie um array com 20 números aleatórios inteiros entre 1 e 5.\n",
    "\n",
    "Em seguida, calcule a frequência (percentual) de cada valor específico da Series."
   ]
  },
  {
   "cell_type": "code",
   "execution_count": 18,
   "id": "7710f1a1",
   "metadata": {
    "ExecuteTime": {
     "end_time": "2021-08-16T19:27:03.696688Z",
     "start_time": "2021-08-16T19:27:03.682651Z"
    }
   },
   "outputs": [
    {
     "name": "stdout",
     "output_type": "stream",
     "text": [
      "[1 3 3 2 3 4 1 4 2 4 1 2 1 4 2 2 4 3 4 1]\n",
      "[[1 5]\n",
      " [2 5]\n",
      " [3 4]\n",
      " [4 6]]\n",
      "[[1.   0.25]\n",
      " [2.   0.25]\n",
      " [3.   0.2 ]\n",
      " [4.   0.3 ]]\n"
     ]
    },
    {
     "data": {
      "text/plain": [
       "4    30.00%\n",
       "1    25.00%\n",
       "2    25.00%\n",
       "3    20.00%\n",
       "dtype: object"
      ]
     },
     "execution_count": 18,
     "metadata": {},
     "output_type": "execute_result"
    }
   ],
   "source": [
    "import numpy as np\n",
    "import pandas as pd\n",
    "\n",
    "def formata_porcentagem(x):\n",
    "    return f'{(x*100):.2f}%'\n",
    "\n",
    "arr = np.random.randint(1,5,20)\n",
    "(unique, counts) = np.unique(arr, return_counts=True)\n",
    "frequencies = np.asarray((unique, counts)).T\n",
    "perc = np.asarray((unique, (counts / arr.size))).T\n",
    "print(arr)\n",
    "print(frequencies)\n",
    "print(perc)\n",
    "\n",
    "arr2 = pd.Series(arr)\n",
    "(arr2\n",
    " .value_counts(normalize=True)\n",
    " .apply(lambda x: formata_porcentagem(x))\n",
    ")\n"
   ]
  },
  {
   "cell_type": "code",
   "execution_count": 7,
   "id": "a9ae0865",
   "metadata": {
    "ExecuteTime": {
     "end_time": "2021-08-16T19:18:37.824522Z",
     "start_time": "2021-08-16T19:18:37.818509Z"
    }
   },
   "outputs": [
    {
     "name": "stdout",
     "output_type": "stream",
     "text": [
      "Original array:\n",
      "[2 1 2 1 1 2 2 1 3 4 4 2 3 1 2 1 1 1 1 1]\n",
      "Frequency of unique values of the said array:\n",
      "[[1.  2.  3.  4. ]\n",
      " [0.5 0.3 0.1 0.1]]\n"
     ]
    }
   ],
   "source": [
    "import numpy as np\n",
    "a = np.random.randint(1,5,20)\n",
    "print(\"Original array:\")\n",
    "print(a)\n",
    "unique_elements, counts_elements = np.unique(a, return_counts=True)\n",
    "print(\"Frequency of unique values of the said array:\")\n",
    "print(np.asarray((unique_elements, counts_elements / a.size)))"
   ]
  },
  {
   "cell_type": "markdown",
   "id": "e762b0b3",
   "metadata": {},
   "source": [
    "Questão #5\n",
    "\n",
    "Enunciado\n",
    "\n",
    "Crie um programa para mostrar qual é o valor mais frequente de uma series e, \n",
    "em seguida, substitua todos os demais valores dela por \"Outro valor\"."
   ]
  },
  {
   "cell_type": "code",
   "execution_count": null,
   "id": "7382912d",
   "metadata": {
    "ExecuteTime": {
     "end_time": "2021-08-15T11:54:31.254005Z",
     "start_time": "2021-08-15T11:54:31.239976Z"
    }
   },
   "outputs": [],
   "source": [
    "import numpy as np\n",
    "import random\n",
    "\n",
    "arr = np.random.randint(1,25,100)\n",
    "(unique, counts) = np.unique(arr, return_counts=True)\n",
    "frequencies = np.asarray((unique, counts)).T\n",
    "counts = np.bincount(arr)\n",
    "print(f'Primeiro valor mais frequente: {np.argmax(counts)}')\n",
    "print(frequencies)\n",
    "\n",
    "arr = np.where(arr != np.argmax(counts), random.randint(100, 200), arr)\n",
    "print(arr)"
   ]
  },
  {
   "cell_type": "markdown",
   "id": "5abbe4c5",
   "metadata": {},
   "source": [
    "Questão #6\n",
    "\n",
    "Enunciado\n",
    "Crie um array com números entre 1 e 10, com passo 1. \n",
    "Em seguida, embaralhe esses números utilizando o método shuffle do Numpy. \n",
    "Crie uma lista com o fatorial desses números, nessa nova ordem (após o embaralhamento). \n",
    "Por fim, crie uma Series cujo os valores são os fatoriais (embaralhados) e os índices são os números associados ao fatorial.\n",
    "\n",
    "Exemplo de saída\n",
    "\n",
    "3           6\n",
    "5         120\n",
    "1           1\n",
    "9      362880\n",
    "4          24\n",
    "7        5040\n",
    "10    3628800\n",
    "2           2\n",
    "6         720\n",
    "8       40320\n",
    "dtype: int64"
   ]
  },
  {
   "cell_type": "code",
   "execution_count": 1,
   "id": "1cd01630",
   "metadata": {
    "ExecuteTime": {
     "end_time": "2021-08-15T12:45:38.894632Z",
     "start_time": "2021-08-15T12:45:37.858113Z"
    }
   },
   "outputs": [
    {
     "data": {
      "text/plain": [
       "3           6\n",
       "4          24\n",
       "1           1\n",
       "8       40320\n",
       "9      362880\n",
       "10    3628800\n",
       "6         720\n",
       "5         120\n",
       "2           2\n",
       "7        5040\n",
       "dtype: int32"
      ]
     },
     "execution_count": 1,
     "metadata": {},
     "output_type": "execute_result"
    }
   ],
   "source": [
    "import numpy as np\n",
    "import pandas as pd\n",
    "\n",
    "arr = np.arange(1, 11, 1)\n",
    "np.random.shuffle(arr)\n",
    "\n",
    "def fatorial(n):\n",
    "    if n == 0:\n",
    "        return 1\n",
    "    else:\n",
    "        return n * fatorial(n-1)\n",
    "\n",
    "fatorlist = list()\n",
    "for e in arr:\n",
    "    fatorlist.append(fatorial(e))\n",
    "\n",
    "labels = arr.tolist()\n",
    "valores = fatorlist\n",
    "serie = pd.Series(data=valores, index=labels)\n",
    "serie"
   ]
  },
  {
   "cell_type": "code",
   "execution_count": null,
   "id": "2899bdc3",
   "metadata": {},
   "outputs": [],
   "source": []
  }
 ],
 "metadata": {
  "kernelspec": {
   "display_name": "Python 3",
   "language": "python",
   "name": "python3"
  },
  "language_info": {
   "codemirror_mode": {
    "name": "ipython",
    "version": 3
   },
   "file_extension": ".py",
   "mimetype": "text/x-python",
   "name": "python",
   "nbconvert_exporter": "python",
   "pygments_lexer": "ipython3",
   "version": "3.8.11"
  }
 },
 "nbformat": 4,
 "nbformat_minor": 5
}
