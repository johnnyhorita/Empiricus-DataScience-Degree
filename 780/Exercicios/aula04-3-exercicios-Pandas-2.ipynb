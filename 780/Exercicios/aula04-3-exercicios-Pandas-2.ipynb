{
 "cells": [
  {
   "cell_type": "markdown",
   "id": "a40cb393",
   "metadata": {
    "ExecuteTime": {
     "end_time": "2021-08-11T23:50:35.997207Z",
     "start_time": "2021-08-11T23:50:35.995169Z"
    }
   },
   "source": [
    "# Bibliotecas e APIs\n",
    "\n",
    "## 3 - LC | Pandas 2"
   ]
  },
  {
   "cell_type": "markdown",
   "id": "b012fa33",
   "metadata": {},
   "source": [
    "Questão #1\n",
    "\n",
    "Enunciado\n",
    "\n",
    "O arquivo avocado.csv consiste em um dataset que contém dados sobre vendas de abacates (avocado, em inglês) em diversas regiões dos Estados Unidos. Essa dataset contém as seguintes colunas:\n",
    "\n",
    "Date - a data da observação\n",
    "AveragePrice - o preço médio de um único abacate\n",
    "year - o ano\n",
    "region - a cidade ou região da observação\n",
    "Total Volume - volume total de abacates vendidos\n",
    "\n",
    "Além das informações acima, contidas no arquivo avocado.csv, o tipo do abacate (convencional ou orgânico) também seria uma informação importante para a sua análise.\n",
    "\n",
    "Suponhamos que você conseguiu essas informações para cada uma das observações do arquivo avocado.csv, na mesma ordem, e salvou-as no arquivo avocado_type.csv. \n",
    "\n",
    "Portanto, tudo o que você precisa é juntar esses dois arquivos em um mesmo DataFrame. E, em seguida, salve-o em um arquivo csv.\n",
    "\n",
    "PS. Caso queira criar uma Series com os dados aleatórios para o tipo de abacate, utilize o código abaixo:\n",
    "\n",
    "tipos = pd.Series(np.random.randint(0, 2, df_avocado.shape[0]))\n",
    "tipos = tipos.map({0: 'convencional', 1:'orgânico'})\n"
   ]
  },
  {
   "cell_type": "code",
   "execution_count": 15,
   "id": "00eab40a",
   "metadata": {
    "ExecuteTime": {
     "end_time": "2021-08-16T18:35:24.897238Z",
     "start_time": "2021-08-16T18:35:24.791187Z"
    }
   },
   "outputs": [],
   "source": [
    "import pandas as pd\n",
    "\n",
    "df = pd.read_csv ('./datasets/avocado.csv', sep=',')\n",
    "df_type = pd.read_csv ('./datasets/avocado_type.csv', sep=',')\n",
    "\n",
    "columns = ['Date', 'AveragePrice', 'year', 'region', 'Total Volume', 'type']\n",
    "#df['avocado_type'] = df_type['type']\n",
    "df_avo_type = df.join(df_type)\n",
    "df_avo_type[columns]\n",
    "df_avo_type.to_csv('./datasets/3-exercicios-Pandas-questao-1-avocado.csv', index=False, header=True, sep=';')"
   ]
  },
  {
   "cell_type": "markdown",
   "id": "1abb5163",
   "metadata": {},
   "source": [
    "Questão #2\n",
    "\n",
    "Enunciado\n",
    "\n",
    "Carregue o arquivo csv que você salvou na questão anterior e, em seguida, obtenha o que é solicitado nos itens elencados abaixo:\n",
    "\n",
    "(a) A quantidade de abacates do tipo convecional e do tipo orgânico.\n",
    "\n",
    "(b) A quantidade de registros (linhas) de abacates vendidos para cada região.\n",
    "\n",
    "(c) Para que todos os labels das colunas fiquem padronizados, renomeie aqueles que estão iniciando em letra minúscula para que iniciem em letra maiúscula.\n",
    "\n",
    "(d) Uma vez que você já possui uma coluna com a data, remova a coluna que apresenta o ano."
   ]
  },
  {
   "cell_type": "code",
   "execution_count": 48,
   "id": "be3b6301",
   "metadata": {
    "ExecuteTime": {
     "end_time": "2021-08-16T19:11:31.794843Z",
     "start_time": "2021-08-16T19:11:31.752696Z"
    }
   },
   "outputs": [
    {
     "name": "stdout",
     "output_type": "stream",
     "text": [
      "(a) A quantidade de abacates do tipo convecional e do tipo orgânico.\n",
      "conventional    9126\n",
      "organic         9123\n",
      "Name: type, dtype: int64\n",
      "\n",
      "(b) A quantidade de registros (linhas) de abacates vendidos para cada região.\n",
      "Albany                 338\n",
      "Sacramento             338\n",
      "Northeast              338\n",
      "NorthernNewEngland     338\n",
      "Orlando                338\n",
      "Philadelphia           338\n",
      "PhoenixTucson          338\n",
      "Pittsburgh             338\n",
      "Plains                 338\n",
      "Portland               338\n",
      "RaleighGreensboro      338\n",
      "RichmondNorfolk        338\n",
      "Roanoke                338\n",
      "SanDiego               338\n",
      "Atlanta                338\n",
      "SanFrancisco           338\n",
      "Seattle                338\n",
      "SouthCarolina          338\n",
      "SouthCentral           338\n",
      "Southeast              338\n",
      "Spokane                338\n",
      "StLouis                338\n",
      "Syracuse               338\n",
      "Tampa                  338\n",
      "TotalUS                338\n",
      "West                   338\n",
      "NewYork                338\n",
      "NewOrleansMobile       338\n",
      "Nashville              338\n",
      "Midsouth               338\n",
      "BaltimoreWashington    338\n",
      "Boise                  338\n",
      "Boston                 338\n",
      "BuffaloRochester       338\n",
      "California             338\n",
      "Charlotte              338\n",
      "Chicago                338\n",
      "CincinnatiDayton       338\n",
      "Columbus               338\n",
      "DallasFtWorth          338\n",
      "Denver                 338\n",
      "Detroit                338\n",
      "GrandRapids            338\n",
      "GreatLakes             338\n",
      "HarrisburgScranton     338\n",
      "HartfordSpringfield    338\n",
      "Houston                338\n",
      "Indianapolis           338\n",
      "Jacksonville           338\n",
      "LasVegas               338\n",
      "LosAngeles             338\n",
      "Louisville             338\n",
      "MiamiFtLauderdale      338\n",
      "WestTexNewMexico       335\n",
      "Name: region, dtype: int64\n",
      "\n",
      "(c) Renomeie aqueles que estão iniciando em letra minúscula para que iniciem em letra maiúscula.\n",
      "Index(['Date', 'AveragePrice', 'Total Volume', 'year', 'region', 'type'], dtype='object')\n",
      "Index(['Date', 'Averageprice', 'Total Volume', 'Year', 'Region', 'Type'], dtype='object')\n",
      "\n",
      "(d) Uma vez que você já possui uma coluna com a data, remova a coluna que apresenta o ano.\n",
      "Index(['Date', 'Averageprice', 'Total Volume', 'Region', 'Type'], dtype='object')\n"
     ]
    }
   ],
   "source": [
    "import pandas as pd\n",
    "import string\n",
    "\n",
    "df = pd.read_csv ('./datasets/3-exercicios-Pandas-questao-1-avocado.csv', sep=';')\n",
    "\n",
    "print('(a) A quantidade de abacates do tipo convecional e do tipo orgânico.')\n",
    "print(df[\"type\"].value_counts())\n",
    "print('\\n(b) A quantidade de registros (linhas) de abacates vendidos para cada região.')\n",
    "print(df[\"region\"].value_counts())\n",
    "print('\\n(c) Renomeie aqueles que estão iniciando em letra minúscula para que iniciem em letra maiúscula.')\n",
    "print(df.keys())\n",
    "for col_name in df.columns:\n",
    "    df.rename(columns={col_name: string.capwords(col_name)}, inplace=True)\n",
    "print(df.keys())\n",
    "print('\\n(d) Uma vez que você já possui uma coluna com a data, remova a coluna que apresenta o ano.')\n",
    "del df['Year']\n",
    "print(df.keys())"
   ]
  },
  {
   "cell_type": "code",
   "execution_count": null,
   "id": "01acd0e3",
   "metadata": {},
   "outputs": [],
   "source": [
    "#avo_types = df.groupby('type')\n",
    "#avo_types.groups\n",
    "#avo_types.count()\n"
   ]
  },
  {
   "cell_type": "markdown",
   "id": "c20a9c1b",
   "metadata": {},
   "source": [
    "Questão #3\n",
    "\n",
    "Enunciado\n",
    "\n",
    "Carregue, em um objeto DataFrame, o mesmo dataset que você salvou na questão Q1, agrupe os dados do DF pelo tipo do abacate e, em seguida, obtenha:\n",
    "\n",
    "(a) A volume total de abacates vendidos para cada tipo.\n",
    "\n",
    "(b) O preço médio dos abacates vendidos para cada tipo."
   ]
  },
  {
   "cell_type": "code",
   "execution_count": 56,
   "id": "0f741b72",
   "metadata": {
    "ExecuteTime": {
     "end_time": "2021-08-16T20:22:28.893661Z",
     "start_time": "2021-08-16T20:22:28.864661Z"
    }
   },
   "outputs": [
    {
     "name": "stdout",
     "output_type": "stream",
     "text": [
      "(a) A volume total de abacates vendidos para cada tipo.\n",
      "type\n",
      "conventional    1.508722e+10\n",
      "organic         4.361817e+08\n",
      "Name: Total Volume, dtype: float64\n",
      "\n",
      "(b) O preço médio dos abacates vendidos para cada tipo.\n",
      "type\n",
      "conventional    1.158040\n",
      "organic         1.653999\n",
      "Name: AveragePrice, dtype: float64\n"
     ]
    }
   ],
   "source": [
    "import pandas as pd\n",
    "import string\n",
    "\n",
    "df = pd.read_csv ('./datasets/3-exercicios-Pandas-questao-1-avocado.csv', sep=';')\n",
    "\n",
    "print('(a) A volume total de abacates vendidos para cada tipo.')\n",
    "print(df.groupby(['type'])['Total Volume'].agg('sum'))\n",
    "print('\\n(b) O preço médio dos abacates vendidos para cada tipo.')\n",
    "print(df.groupby(['type'])['AveragePrice'].agg('mean'))"
   ]
  },
  {
   "cell_type": "markdown",
   "id": "3f67e443",
   "metadata": {},
   "source": [
    "Questão #4\n",
    "\n",
    "Enunciado\n",
    "\n",
    "O arquivo googleplaystore.csv é um dataset que contém diversas informações sobre aplicativos disponíveis para download na Google Play Store. Você deve utilizar esse dataset para fazer o mesmo que foi solicitado na questão anterior. Ou seja, carregue-o em um objeto DataFrame e verifique os dados contidos nas colunas desse DF. Logo após, verifique se existem dados duplicados e/ou ausentes nesse dataset.\n",
    "\n",
    "Caso existam dados duplicados, remova-os. Caso existam dados ausentes, você pode removê-los ou pensar em alguma maneira de preenchê-los.\n",
    "\n",
    "Clique aqui para fazer o download do dataset."
   ]
  },
  {
   "cell_type": "code",
   "execution_count": null,
   "id": "7710f1a1",
   "metadata": {},
   "outputs": [],
   "source": []
  },
  {
   "cell_type": "markdown",
   "id": "e762b0b3",
   "metadata": {},
   "source": [
    "Questão #5\n",
    "\n",
    "Enunciado\n",
    "\n",
    "O arquivo houses_to_rent.csv consiste em um dataset que contém dados sobre casas para alugar no Brasil. \n",
    "Carregue-o em um objeto DataFrame e verifique os dados contidos nas colunas desse DF (você pode utilizar os métodos head, tail e info). Logo após, verifique se existem dados duplicados e/ou ausentes nesse dataset.\n",
    "\n",
    "Caso existam dados duplicados, remova-os. Caso existam dados ausentes, você pode removê-los ou pensar em alguma maneira de preenchê-los.\n",
    "\n",
    "Clique aqui para fazer o download do dataset."
   ]
  },
  {
   "cell_type": "code",
   "execution_count": null,
   "id": "7382912d",
   "metadata": {},
   "outputs": [],
   "source": []
  }
 ],
 "metadata": {
  "kernelspec": {
   "display_name": "Python 3",
   "language": "python",
   "name": "python3"
  },
  "language_info": {
   "codemirror_mode": {
    "name": "ipython",
    "version": 3
   },
   "file_extension": ".py",
   "mimetype": "text/x-python",
   "name": "python",
   "nbconvert_exporter": "python",
   "pygments_lexer": "ipython3",
   "version": "3.8.11"
  }
 },
 "nbformat": 4,
 "nbformat_minor": 5
}
