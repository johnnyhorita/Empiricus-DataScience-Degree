{
 "cells": [
  {
   "cell_type": "code",
   "execution_count": null,
   "id": "b8b9d0c8",
   "metadata": {},
   "outputs": [],
   "source": [
    "Teorema de bayes"
   ]
  },
  {
   "cell_type": "code",
   "execution_count": null,
   "id": "573d5929",
   "metadata": {},
   "outputs": [],
   "source": [
    "# A probabilidade de uma pessoa ter certa doença A é de 1%\n",
    "# consequentemente, a probabilidade de não ter a doença é de 99%\n",
    "probabilidade_doenca = 0.01\n",
    "probabilidade_nao_doenca = 1 - probabilidade_doenca\n",
    "\n",
    "# Um teste T para detectar a doença não é 100% confiável, detectando\n",
    "# a doença em pessoas não doentes e não detectando em pessoas doentes\n",
    "\n",
    "# O teste detecta a doença em pessoas doentes em 90% dos casos\n",
    "# e não detecta a doença em pessoas doentes em 10% dos casos\n",
    "prob_teste_pos_e_doenca = 0.9\n",
    "prob_teste_neg_e_doenca = 0.1\n",
    "\n",
    "# O teste detecta a doença em pessoas não doentes em 5% dos casos\n",
    "# e não detecta a doença em pessoas não doentes em 95% dos casos\n",
    "prob_teste_pos_e_nao_doenca = 0.05\n",
    "prob_teste_neg_e_nao_doenca = 0.95\n",
    "\n",
    "# Verdadeiro positivo: chance de ter a doença e o teste dar positivo\n",
    "prob_verdadeiro_positivo = probabilidade_doenca * prob_teste_pos_e_doenca\n",
    "# Verdadeiro negativo: chance de não ter a doença e o teste dar negativo\n",
    "prob_verdadeiro_negativo = probabilidade_nao_doenca * prob_teste_neg_e_nao_doenca\n",
    "# Falso positivo: chance de não ter a doença e o teste dar positivo\n",
    "prob_falso_positivo = probabilidade_nao_doenca * prob_teste_pos_e_nao_doenca\n",
    "# Falso negativo: chance de ter a doença e o teste dar negativo\n",
    "prob_falso_negativo = probabilidade_doenca * prob_teste_neg_e_doenca\n",
    "\n",
    "# Fizemos o teste e o resultado foi positivo. Qual a chance de eu ter a doença?\n",
    "# Teorema de Bayes: P(D|A) = (P(A|D) * P(D)) / (P(A|D) * P(D) + P(A|¬D) * P(¬D))\n",
    "# P(D|A) = Probabilidade de doença dado um teste positivo. É o que desejamos calcular\n",
    "# P(A|D) = Probabilidade do teste ser positivo se você tem a doença -> 90%\n",
    "# P(D) = Probabilidade de ter a doença -> 1%\n",
    "# P(A|¬D) = Probabilidade do teste ser positivo e você não ter a doença -> 5%\n",
    "# P(¬D) = Probabilidade de não ter a doença -> 99%\n",
    "# Simplificar as variáveis para que a equação não fique muito extensa\n",
    "P_A_D = prob_teste_pos_e_doenca\n",
    "P_D = probabilidade_doenca\n",
    "P_A_ND = prob_teste_pos_e_nao_doenca\n",
    "P_ND = probabilidade_nao_doenca\n",
    "prob_doente_dado_positivo = (P_A_D * P_D) / (P_A_D * P_D + P_A_ND * P_ND)\n",
    "print(prob_doente_dado_positivo)\n",
    "0.15384615384615385"
   ]
  }
 ],
 "metadata": {
  "kernelspec": {
   "display_name": "Python 3 (ipykernel)",
   "language": "python",
   "name": "python3"
  },
  "language_info": {
   "codemirror_mode": {
    "name": "ipython",
    "version": 3
   },
   "file_extension": ".py",
   "mimetype": "text/x-python",
   "name": "python",
   "nbconvert_exporter": "python",
   "pygments_lexer": "ipython3",
   "version": "3.8.11"
  }
 },
 "nbformat": 4,
 "nbformat_minor": 5
}
