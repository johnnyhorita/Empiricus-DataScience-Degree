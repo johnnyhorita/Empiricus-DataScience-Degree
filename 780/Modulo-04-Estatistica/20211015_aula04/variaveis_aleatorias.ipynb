{
 "cells": [
  {
   "cell_type": "markdown",
   "id": "5f0fa417-e2eb-4935-ba3e-b5902dd78361",
   "metadata": {},
   "source": [
    "# O que veremos\n",
    "- Variável Aleatória\n",
    "- Momentos\n",
    "    - Esperânça\n",
    "    - Variância\n",
    "- Modelos de probabilidade discreta\n",
    "- Modelos de probabilidade contínua"
   ]
  },
  {
   "cell_type": "code",
   "execution_count": 1,
   "id": "5b99d462-d3f1-4550-8147-3e8f6be96210",
   "metadata": {},
   "outputs": [],
   "source": [
    "import scipy\n",
    "import numpy as np\n",
    "import matplotlib.pyplot as plt\n",
    "import seaborn as sns"
   ]
  },
  {
   "cell_type": "markdown",
   "id": "3b963990-1f79-415e-9a95-ded279fc5d68",
   "metadata": {},
   "source": [
    "# Variável aleatória\n",
    "\n",
    "Uma variável aleatória é uma função definida num espaço amostral, que assume valores reais.\n",
    "\n",
    "**Exs.:**\n",
    "\n",
    "- Moedas:\n",
    "\n",
    "Seja X uma v.a. igual ao número de caras num lançamento de duas moedas. Dessa forma temos que:\n",
    "\n",
    "|Espaço Amostral|Valores de X|\n",
    "|:---:|:---:|\n",
    "|KK|2|\n",
    "|KC|1|\n",
    "|CK|1|\n",
    "|CC|0|\n",
    "\n",
    "- Linha de produção:\n",
    "\n",
    "Seja X a v.a. definida pela quantidade peças defeituosas entre as 3 retiradas da linha de produção para teste e averiguação\n",
    "\n",
    "|Espaço Amostral|Valores de X|\n",
    "|:---:|:---:|\n",
    "|BBB|0|\n",
    "|BBD|1|\n",
    "|BDB|1|\n",
    "|DBB|1|\n",
    "|BDD|2|\n",
    "|DBD|2|\n",
    "|DDB|2|\n",
    "|DDD|3|\n",
    "\n",
    "- Outros\n",
    "    - O número de veículos que passam por um posto de pedágio\n",
    "    - O tempo de vida de um cliente da empresa\n",
    "    - O volume de água numa represa num dado instante\n",
    "    - O tempo de espera entre ligações numa central de telemarketing"
   ]
  },
  {
   "cell_type": "markdown",
   "id": "dbe8510f-348d-45f0-9700-9665ff0bf390",
   "metadata": {},
   "source": [
    "A partir da definição da variável aleatória podemos verificar as probabilidades de cada um dos valores ocorrerem e a isso chamamos de **distribuição de probabilidade**\n",
    "\n",
    "**Exs:**\n",
    "\n",
    "- Moedas:\n",
    "\n",
    "|Valores de X| Elementos amostrais | Probabilidade|\n",
    "|:---:|:---:|:---:|\n",
    "|2|KK|$\\frac{1}{4}$|\n",
    "|1|KC, CK|$\\frac{1}{2}$|\n",
    "|0|CC|$\\frac{1}{4}$|\n",
    "\n",
    "- Linha de produção:\n",
    "\n",
    "Suponha que a Probabilidade de uma peça ser boa é de 0.9 e portanto de ser defeituosa é de 0.1, logo:\n",
    "\n",
    "|Valores de X| Elementos amostrais | Probabilidade|\n",
    "|:---:|:---:|:---:|\n",
    "|0|BBB|$(0.9)^3$\n",
    "|1|BBD, BDB, DBB|$3(0.9)^2(0.1)$\n",
    "|2|BDD, DBD, DDB|$3(0.9)(0.1)^2$\n",
    "|3|DDD|$(0.1)^3$\n"
   ]
  },
  {
   "cell_type": "code",
   "execution_count": 2,
   "id": "7b24657e-e7c2-4266-8dcc-f74697794958",
   "metadata": {
    "scrolled": true,
    "tags": []
   },
   "outputs": [
    {
     "name": "stdout",
     "output_type": "stream",
     "text": [
      "['B' 'B' 'B']\n",
      "['B' 'B' 'B']\n",
      "['D' 'B' 'D']\n",
      "['B' 'B' 'B']\n",
      "['D' 'D' 'B']\n",
      "['B' 'B' 'B']\n",
      "['B' 'B' 'B']\n",
      "['B' 'B' 'B']\n",
      "['B' 'B' 'B']\n",
      "['B' 'B' 'B']\n",
      "['B' 'B' 'B']\n",
      "['B' 'B' 'B']\n",
      "['B' 'B' 'B']\n",
      "['B' 'D' 'B']\n",
      "['B' 'B' 'B']\n",
      "['D' 'B' 'B']\n",
      "['B' 'B' 'D']\n",
      "['B' 'B' 'B']\n",
      "['B' 'B' 'B']\n",
      "['B' 'B' 'B']\n",
      "['D' 'B' 'B']\n",
      "['D' 'B' 'B']\n",
      "['B' 'B' 'B']\n",
      "['B' 'B' 'D']\n",
      "['B' 'B' 'B']\n",
      "['B' 'B' 'B']\n",
      "['B' 'B' 'B']\n",
      "['B' 'B' 'B']\n",
      "['B' 'B' 'B']\n",
      "['B' 'B' 'B']\n",
      "['B' 'B' 'B']\n",
      "['B' 'B' 'B']\n",
      "['B' 'B' 'B']\n",
      "['B' 'B' 'D']\n",
      "['B' 'D' 'B']\n",
      "['B' 'B' 'B']\n",
      "['B' 'B' 'D']\n",
      "['B' 'B' 'B']\n",
      "['B' 'B' 'D']\n",
      "['B' 'B' 'B']\n",
      "['D' 'D' 'B']\n",
      "['B' 'B' 'B']\n",
      "['B' 'D' 'B']\n",
      "['B' 'B' 'B']\n",
      "['B' 'D' 'B']\n",
      "['D' 'B' 'B']\n",
      "['B' 'B' 'D']\n",
      "['B' 'B' 'B']\n",
      "['B' 'B' 'B']\n",
      "['B' 'B' 'B']\n",
      "['B' 'B' 'D']\n",
      "['B' 'B' 'B']\n",
      "['B' 'B' 'D']\n",
      "['B' 'B' 'B']\n",
      "['B' 'B' 'B']\n",
      "['B' 'B' 'B']\n",
      "['B' 'B' 'B']\n",
      "['B' 'B' 'B']\n",
      "['B' 'B' 'B']\n",
      "['D' 'B' 'B']\n",
      "['B' 'B' 'B']\n",
      "['B' 'B' 'B']\n",
      "['B' 'D' 'B']\n",
      "['B' 'B' 'B']\n",
      "['B' 'B' 'B']\n",
      "['B' 'B' 'B']\n",
      "['B' 'B' 'B']\n",
      "['B' 'B' 'B']\n",
      "['B' 'B' 'D']\n",
      "['B' 'B' 'B']\n",
      "['B' 'B' 'B']\n",
      "['B' 'B' 'D']\n",
      "['B' 'B' 'B']\n",
      "['B' 'B' 'B']\n",
      "['B' 'B' 'D']\n",
      "['B' 'B' 'D']\n",
      "['D' 'B' 'B']\n",
      "['D' 'B' 'B']\n",
      "['B' 'B' 'B']\n",
      "['D' 'B' 'B']\n",
      "['B' 'B' 'B']\n",
      "['B' 'D' 'B']\n",
      "['B' 'B' 'B']\n",
      "['D' 'B' 'B']\n",
      "['B' 'B' 'B']\n",
      "['B' 'B' 'D']\n",
      "['B' 'B' 'B']\n",
      "['D' 'B' 'B']\n",
      "['B' 'B' 'B']\n",
      "['B' 'B' 'D']\n",
      "['B' 'B' 'B']\n",
      "['B' 'B' 'B']\n",
      "['B' 'B' 'B']\n",
      "['B' 'B' 'B']\n",
      "['B' 'B' 'B']\n",
      "['B' 'B' 'B']\n",
      "['B' 'B' 'B']\n",
      "['B' 'B' 'B']\n",
      "['B' 'B' 'B']\n",
      "['B' 'D' 'B']\n"
     ]
    }
   ],
   "source": [
    "#random choice\n",
    "elementos = ['B', 'D']\n",
    "for _ in range(100):\n",
    "    print(np.random.choice(elementos, 3, p=[0.9, 0.1]))"
   ]
  },
  {
   "cell_type": "markdown",
   "id": "20c95762-130b-4b1e-90a8-491f4620b43e",
   "metadata": {},
   "source": [
    "\n",
    "- Número de lançamentos até o primeiro sucesso\n",
    "\n",
    "Seja X uma v.a. que assume o valor da quantidade de n lançamentos de um dado até que o número 6 seja observado.\n",
    "\n",
    "Aqui percebemos que $X \\in \\mathbb{N}_1^n$ e que\n",
    "\n",
    "$$P(X = 1) = \\dfrac{1}{6}$$\n",
    "\n",
    "$$P(X = 2) = \\dfrac{5}{6}\\dfrac{1}{6}$$\n",
    "\n",
    "$$P(X = 3) = \\left(\\dfrac{5}{6}\\right)^2\\dfrac{1}{6}$$\n",
    "\n",
    "$$\\cdots$$\n",
    "\n",
    "$$P(X = n) = \\left(\\dfrac{5}{6}\\right)^{n-1}\\dfrac{1}{6}$$"
   ]
  },
  {
   "cell_type": "markdown",
   "id": "3fec5a95-94bc-4d45-9fff-533829395574",
   "metadata": {},
   "source": [
    "Note que, além dos valores tabulados, é possível termos uma fórmula que nos dá exatamente a probabilidade para cada valor possível de X. A isso damos o nome de **função de probabilidade** ou ainda, mais especificamente para os casos contínuos, **função densidade de probabilidade**."
   ]
  },
  {
   "cell_type": "markdown",
   "id": "818e9a1e-0c5f-46b4-ac17-b0caec061203",
   "metadata": {},
   "source": [
    "Além do valor pontual de probabilidade isso nos permite também a calcular a probabilidade de intervalo de valores.\n",
    "\n",
    "**Ex.:**\n",
    "- Moeda\n",
    "\n",
    "$$P(X \\geq 1) = P(\\{X = 1\\} \\cup \\{X = 2\\}) = P(X = 1) + P(X = 2) = 0.5 + 0.25 = 0.75$$\n",
    "\n",
    "- Lançamentos\n",
    "\n",
    "$$P( 3 \\leq X \\leq 12) = \\sum_{i=3}^{12} P(X = i) = \\sum_{i=3}^{12}\\left(\\dfrac{5}{6}\\right)^{i-1}\\dfrac{1}{6}$$\n",
    "\n",
    "\n",
    "Em termos gerais temos\n",
    "\n",
    "Caso discreto:\n",
    "\n",
    "$$P(a \\leq X \\leq b) = \\sum_{i=a}^b P(X = i)$$\n",
    "\n",
    "Caso contínuo:\n",
    "\n",
    "$$P(a \\leq X \\leq b) = \\int_a^b f(x)dx$$"
   ]
  },
  {
   "cell_type": "markdown",
   "id": "246b9fb4-0805-4d89-a6d3-59ba644fd05f",
   "metadata": {},
   "source": [
    "**Ex.:** Imagine que você gerencie uma estação de telemarketing e deseja saber qual é a probabilidade de receber ligações com intervalos de até 10 segundos entre uma e outra, para conseguir dimensionar a quantidade de pessoas para alocar na sua operação. Para isso você começa a contabilizar o tempo que demora para chegar uma nova ligação e tem algo como a imagem abaixo:\n",
    "\n",
    "<img src = \"./imgs/tempo_entre_eventos.png\" width = \"50%\"></img>\n",
    "\n"
   ]
  },
  {
   "cell_type": "code",
   "execution_count": 4,
   "id": "2de8fc4b-437a-4f34-93d8-0f3f740630b6",
   "metadata": {},
   "outputs": [
    {
     "data": {
      "image/png": "[encoded data removed]",
      "text/plain": [
       "<Figure size 432x288 with 1 Axes>"
      ]
     },
     "metadata": {
      "needs_background": "light"
     },
     "output_type": "display_data"
    }
   ],
   "source": [
    "# Tempo entre observacoes\n",
    "# Telemarketing, Sinistro de Carro, ...\n",
    "lamb = 0.05 #taxa de ligacoes por segundo\n",
    "scale = 1/lamb\n",
    "exp = scipy.stats.expon\n",
    "x = np.linspace(exp.ppf(0.01, scale = scale),\n",
    "                exp.ppf(0.991, scale = scale),\n",
    "                500)\n",
    "\n",
    "plt.plot(x, exp.pdf(x, scale = scale),'r-')\n",
    "plt.hist(exp.rvs(size=1000, scale = scale),\n",
    "         bins = range(0,91,10),\n",
    "         density=True,\n",
    "         alpha=0.2)\n",
    "plt.show()"
   ]
  },
  {
   "cell_type": "code",
   "execution_count": 5,
   "id": "8d33e604-2223-4fc1-af56-61e2aadb2895",
   "metadata": {},
   "outputs": [
    {
     "data": {
      "text/plain": [
       "0.3934693402873666"
      ]
     },
     "execution_count": 5,
     "metadata": {},
     "output_type": "execute_result"
    }
   ],
   "source": [
    "# AUC\n",
    "b = 10\n",
    "a = 0\n",
    "\n",
    "exp.cdf(b, scale=scale) - exp.cdf(a, scale=scale)"
   ]
  },
  {
   "cell_type": "markdown",
   "id": "67a96cc4-5e97-4066-9108-324783f54a88",
   "metadata": {},
   "source": [
    "O comando acima implementa a chamada **Função de Distribuição de Probabilidade**, também conhecida como **Função de Distribuição Acumulada**, que tem esse nome pois denota\n",
    "\n",
    "$$F_X(x) = P(X <= x)$$\n",
    "\n",
    "e, por consequência temos então que:\n",
    "\n",
    "$$P(a \\leq X \\leq b) = \\int_a^b f(x)dx = F_X(b) - F_X(a)$$"
   ]
  },
  {
   "cell_type": "markdown",
   "id": "82e8e30a-c741-4002-ad8c-4c8863336a49",
   "metadata": {},
   "source": [
    "# Momentos\n",
    "Momentos de uma função são medidas quantitativas a respeito da forma do gráfico dessa função. Em probabilidade temos 4 momentos principais:\n",
    "\n",
    "- Primeiro Momento: **Esperança**\n",
    "- Segundo Momento: **Variância**\n",
    "- Terceiro Momento: **Assimetria**\n",
    "- Quarto Momento: **Curtose**"
   ]
  },
  {
   "cell_type": "markdown",
   "id": "ff12e0a4-f896-4317-987d-386a8a96c808",
   "metadata": {},
   "source": [
    "## Esperança\n",
    "\n",
    "Imagine que queremos apostar 1 real se as pessoas conhecem ou não um determinado filme, por exemplo [Ágora](https://pt.wikipedia.org/wiki/Ágora_(filme)). Vamos super que a gente faça uma pesquisa prévia e tenhamos a seguinte tabela de frequência:\n",
    "\n",
    "||Conhecem o filme|Não conhecem o filme|\n",
    "|---|:---:|:---:|\n",
    "Freq. Abs.|37|176|\n",
    "Probabilidade|0.17|0.83|\n",
    "Prêmio|-1|1|\n",
    "\n",
    "Se fizermos essa aposta perguntando para 100 pessoas diferentes, qual é o valor que eu espero ganhar (ou perder) ao final da última aposta?\n",
    "\n",
    "Seja C: Conhecer o filme, podemos que a quantidade de perdas esperadas é igual a\n",
    "\n",
    "$$P(C) = 0.17 \\rightarrow 100*P(C) = 17 \\rightarrow 17*-1 = -R\\$17.00 $$\n",
    "\n",
    "enquanto que a quantidade de ganhos esperados é de\n",
    "\n",
    "$$P(C^c) = 0.83 \\rightarrow 100*P(C^c) = 83 \\rightarrow 83* 1 = R\\$83.00 $$\n",
    "\n",
    "Dessa maneira o nosso saldo esperado total seria de\n",
    "\n",
    "$$100*17*-1 + 100*83*1 = R\\$66.00$$\n",
    "\n",
    "mas podemos ainda ver qual é o valor esperado médio a ser recebido por aposta dividindo pela quantidade de apostas feitas.\n",
    "\n",
    "$$\\dfrac{\\color{red}{100}*0.17*-1 + \\color{red}{100}*0.83*1}{\\color{red}{100}} = R\\$0.66$$\n",
    "\n",
    "Ou seja, na média, esperamos receber 66 centavos por aposta. Podemos dizer então que **66 centavos é o Valor Esperado da aposta**\n",
    "\n",
    "Notem ainda que o que fizemos foi uma média monderada de acordo com as probabilidades, ou em termos matemáticos:\n",
    "\n",
    "$$E(X) = \\sum_{x \\in X}xP(X = x)$$\n",
    "\n",
    "ou para casos contínuos como\n",
    "\n",
    "$$E(X) = \\int_{-\\infty}^{\\infty}xf(x)dx$$\n",
    "\n",
    "Sendo uma média ponderada então poderíamos entender que, dado que $P(C) = 0.17$ é muito inferior a 0.83, a pessoa poderia querer inverter a aposta e tentar nos atrair pro golpe nos dando mais dinheiro, de acordo com a tabela abaixo. Vale a pena continuar apostado?\n",
    "\n",
    "||Conhecem o filme|Não conhecem o filme|\n",
    "|---|:---:|:---:|\n",
    "Freq. Abs.|37|176|\n",
    "Probabilidade|0.17|0.83|\n",
    "Prêmio|10|-1|\n",
    "\n",
    "$$E(X) = \\sum_{x \\in X}xP(X = x) = 10*0.17 + (-1)*0.83 = 0.87$$\n"
   ]
  },
  {
   "cell_type": "code",
   "execution_count": 6,
   "id": "1179683a-c4f2-4012-9113-83f2b94baca9",
   "metadata": {},
   "outputs": [
    {
     "data": {
      "text/plain": [
       "0.8700000000000002"
      ]
     },
     "execution_count": 6,
     "metadata": {},
     "output_type": "execute_result"
    }
   ],
   "source": [
    "#calc ex\n",
    "def esperanca(prob, vlr):\n",
    "    return sum(prob * vlr)\n",
    "    \n",
    "prob = np.array([0.17, 0.83])\n",
    "vlr = np.array([10, -1])\n",
    "\n",
    "esperanca(prob=prob, vlr=vlr)"
   ]
  },
  {
   "cell_type": "code",
   "execution_count": 7,
   "id": "570a6754-9a35-4c04-9d8e-aa60c8c102e4",
   "metadata": {},
   "outputs": [
    {
     "data": {
      "text/plain": [
       "19.999999999999787"
      ]
     },
     "execution_count": 7,
     "metadata": {},
     "output_type": "execute_result"
    }
   ],
   "source": [
    "# Para o caso de telemarketing\n",
    "exp(scale=20).expect()"
   ]
  },
  {
   "cell_type": "markdown",
   "id": "15498765-05b7-4914-85b8-085a7ddc7e1d",
   "metadata": {},
   "source": [
    "ou seja, o Valor Esperado de espera entre chamadas é, em média, de 20 segundos."
   ]
  },
  {
   "cell_type": "markdown",
   "id": "c9dc2401-8d5e-48f7-a59a-f6b20513689e",
   "metadata": {},
   "source": [
    "### Propriedades\n",
    "\n",
    "Sejam $a,b,c \\in \\mathbb{R}$\n",
    "\n",
    "- $E(c) = c$\n",
    "- $E(aX + b) = aE(X) + b$\n",
    "- $E(aX +bY) = aE(X) + bE(Y)$"
   ]
  },
  {
   "cell_type": "markdown",
   "id": "09ca7e69-1046-4918-9cd8-3ca69f3c80d8",
   "metadata": {},
   "source": [
    "### Definição de momentos a partir da Esperança\n",
    "\n",
    "Agora que sabemos o que é a Esperança, podemos definir formalmente o **k-ésimo momento de uma variável aleatória X em torno de b** como sendo $E[(X - b)^k] \\ \\forall b \\in \\mathbb{R}, k \\in \\mathbb{N}^+$\n",
    "\n",
    "De forma que se $b=0$ chamamos $E(X^k)$ de **k-ésimo momento de X** \n",
    "\n",
    "e um caso especial ocorre quando $b = E(X)$, de maneira tal que chamamos $E[(X - E(X))^k]$ de **k-ésimo momento central de X** ou ainda **k-ésimo momento em torno da média de X**"
   ]
  },
  {
   "cell_type": "markdown",
   "id": "56b47cea-3d68-49bd-a002-5f26aeed050c",
   "metadata": {},
   "source": [
    "## Variância\n",
    "\n",
    "Como vimos anteriormente, a variância é uma medida de dispersão de uma variável em torno da média. No contexto de variáveis aleatórias isso pode ser expresso como o segundo momento central de uma v.a. X, ou seja\n",
    "\n",
    "$$Var(X) = E[(X - E(X))^2] = E(X^2) - E(X)^2$$\n",
    "\n",
    "Sabendo a equação da esperança, tanto para o caso discreto quanto para o contínuo, podemos escrever ainda que\n",
    "\n",
    "$$Var(X) = \\sum_{x\\in X}[x - E(X)]^2P(X = x)$$\n",
    "\n",
    "ou\n",
    "\n",
    "$$Var(X) = \\int_{-\\infty}^{\\infty}[x - E(X)]^2f(x)dx$$"
   ]
  },
  {
   "cell_type": "markdown",
   "id": "0b70f0e2-cccb-482a-8c9f-d3156f28bd5c",
   "metadata": {},
   "source": [
    "### Propriedades\n",
    "\n",
    "Sejam $a,b,c \\in \\mathbb{R}$\n",
    "\n",
    "- $Var(c) = 0$\n",
    "- $Var(aX + b) = a^2Var(X)$"
   ]
  },
  {
   "cell_type": "markdown",
   "id": "4a838a84-6bc0-48e4-acfb-996be88f5f0f",
   "metadata": {},
   "source": [
    "# Exercícios"
   ]
  },
  {
   "cell_type": "markdown",
   "id": "03cc10ce-579f-4c51-ba2e-e0cf2b3f168e",
   "metadata": {},
   "source": [
    "- Seja X uma v.a. que representa o valor observado num dado não viesado.\n",
    "\n",
    "    1. Descreva quem é a distribuição de probabilidade de X\n",
    "    2. Calcule $E(X)$\n",
    "    3. Calcule $Var(X)$"
   ]
  },
  {
   "cell_type": "markdown",
   "id": "f33aea17-04d2-417b-9a23-3a0bb24b7049",
   "metadata": {},
   "source": [
    "- Seja X uma v.a. que representa a quantidade de caras num único lançamento de uma moeda não viesada.\n",
    "\n",
    "    1. Descreva quem é a distribuição de probabilidade de X\n",
    "    2. Calcule $E(X)$\n",
    "    3. Calcule $Var(X)$\n",
    "    "
   ]
  },
  {
   "cell_type": "markdown",
   "id": "7c0f55fe-030d-484a-a5b8-e5a412205b00",
   "metadata": {},
   "source": [
    "- Seja X uma v.a. que representa a quantidade de caras num único lançamento de uma moeda em que a probabilidade de cair cara é de 75%.\n",
    "\n",
    "    1. Descreva quem é a distribuição de probabilidade de X\n",
    "    2. Calcule $E(X)$\n",
    "    3. Calcule $Var(X)$\n"
   ]
  },
  {
   "cell_type": "markdown",
   "id": "897efdcb-0e5a-489f-8a08-b71dbbf8ee57",
   "metadata": {},
   "source": [
    "- Seja X uma v.a. que representa a compra de um ativo (X = 1) ou a não compra de um ativo (X = 0) em que o sucesso da compra tem 90% de probabilidade.\n",
    "\n",
    "    1. Descreva quem é a distribuição de probabilidade de X\n",
    "    2. Calcule $E(X)$\n",
    "    3. Calcule $Var(X)$\n",
    "    "
   ]
  },
  {
   "cell_type": "markdown",
   "id": "bb58a731-d17d-4b55-b651-071b828a0158",
   "metadata": {},
   "source": [
    "- Numa fabrica itens são produzidos por máquinas com taxa de erro/defeito de 3%. Seja X a v.a. definada pelo número de n peças fabricadas até a observação de uma falha.\n",
    "\n",
    "    1. Esboce quem é a disbribuição de probabilidade de X\n",
    "    2. Defina quem é a função de probabilidade de X\n",
    "    3. Qual é a probabilidade do primeiro erro ser detectado na quinta inspeção/peça?\n",
    "    4. Qual é a probabilidade do primeiro defeito detectado ocorrer em alguma das 5 primeiras inspeções?\n"
   ]
  },
  {
   "cell_type": "markdown",
   "id": "616138e8-a4a7-4bac-a5fa-0d0fecbce506",
   "metadata": {},
   "source": [
    "# Desafio"
   ]
  },
  {
   "cell_type": "markdown",
   "id": "7045c158-f242-4ced-8578-0d62bbf97c85",
   "metadata": {},
   "source": [
    "Considere uma carteira de 100mil reais com exposição total a crédito distribuída da seguinte maneira:\n",
    "\n",
    "- Crédito A: EC = 10 mil reais, com probabilidade de default $p_a = 0.02$\n",
    "- Crédito B: EC = 20 mil reais, com probabilidade de default $p_b = 0.05$\n",
    "- Crédito C: EC = 70 mil reais, com probabilidade de default $p_c = 0.10$\n",
    "\n",
    "De maneira que as linhas de crédito são independentes.\n",
    "\n",
    "Você enquanto credor do crédito precisa avaliar se libera ou não o crédito para essa carteira. Explique, a partir dos cálculos e conceitos relacionados a probabilidade vistos em aula, a sua decisão.\n",
    "\n",
    "\n",
    "\n",
    "**DICA: Qual é a perda esperada dessa carteira?**\n",
    "\n",
    "*EC = Exposição a crédito\n",
    "\n",
    "*Default igual a probabilidade de não pagar o saldo devedor"
   ]
  }
 ],
 "metadata": {
  "kernelspec": {
   "display_name": "Python 3 (ipykernel)",
   "language": "python",
   "name": "python3"
  },
  "language_info": {
   "codemirror_mode": {
    "name": "ipython",
    "version": 3
   },
   "file_extension": ".py",
   "mimetype": "text/x-python",
   "name": "python",
   "nbconvert_exporter": "python",
   "pygments_lexer": "ipython3",
   "version": "3.8.11"
  }
 },
 "nbformat": 4,
 "nbformat_minor": 5
}
