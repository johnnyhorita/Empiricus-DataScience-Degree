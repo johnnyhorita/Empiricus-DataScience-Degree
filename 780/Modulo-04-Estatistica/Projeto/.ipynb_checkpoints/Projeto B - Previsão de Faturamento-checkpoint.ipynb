{
 "cells": [
  {
   "cell_type": "markdown",
   "id": "a7333695",
   "metadata": {},
   "source": [
    "# Módulo de estatística \n",
    "\n",
    "## Projeto B - Previsão do faturamento da empresa de acordo com os produtos"
   ]
  },
  {
   "cell_type": "markdown",
   "id": "bdf1f163",
   "metadata": {},
   "source": [
    "### Instruções"
   ]
  },
  {
   "cell_type": "markdown",
   "id": "d86e808f",
   "metadata": {},
   "source": [
    "- O projeto deverá ser entregue até dia 22/11 antes do início da aula\n",
    "- O projeto poderá ser feito em grupo com até 4 integrantes\n",
    "- Serão 2 projetos A e B porém apenas 1 projeto deverá ser entregue e escolhido pelo grupo\n",
    "\n",
    "- A entrega deve ser feita em jupyter notebook com os códigos explícitos e comentados. Além disso os conceitos, decisões e conclusões usadas devem estar destacadas no notebook"
   ]
  },
  {
   "cell_type": "markdown",
   "id": "287ff267",
   "metadata": {},
   "source": [
    "### Informações sobre o projeto"
   ]
  },
  {
   "cell_type": "markdown",
   "id": "1e1c57c0",
   "metadata": {
    "ExecuteTime": {
     "end_time": "2021-10-27T13:51:00.835165Z",
     "start_time": "2021-10-27T13:50:59.943274Z"
    }
   },
   "source": [
    "Dataset (conjunto de dados a ser utilizado) é um arquivo txt separado por tabulação e encontrasse no drive em:\n",
    "\n",
    "./Modulo 4/aulas/data/sim_ts.txt"
   ]
  },
  {
   "cell_type": "markdown",
   "id": "e5720c22",
   "metadata": {},
   "source": [
    "#### Case\n",
    "\n",
    "Imagine que você trabalha numa empresa de benefícios que vende diversos produtos para os RHs clientes, com o intuito de melhorar a qualidade de vida de seus colaboradores por meio de alimentação saudável, transporte, saúde, entre outros.\n",
    "\n",
    "Para ajudar no direcionamento e estratégia corporativa, bem como definir a meta do time comercial, você ficou encarregado de prever qual seria o faturamento mensal esperado para 2022. \n",
    "\n",
    "Utilizando as metodologias vistas em aula, sobretudo ligadas a séries temporais, faça o seguinte:\n",
    "\n",
    "#### Etapa I\n",
    "\n",
    "**EDA - Análise exploratória de dados**\n",
    "\n",
    "- Análise das medidas de medidas de posição, dispersão, correlação (análises univaridas e bivariadas) - histograma, boxplot, mapa de calor, etc...\n",
    "- Identificação e tratamento de outliers e missings, caso necessário (sempre explicando a opção)\n",
    "\n",
    "#### Etapa II\n",
    "a. Ajuste um modelo para o faturamento total (sem quebrar por produto) e realize a projeção para os meses faltantes até o final de 2022.\n",
    "\n",
    "b. Faça ajustes indivíduais para cada produto e consolide os resultados para obter o faturamento total para os meses faltantes até o final de 2022.\n",
    "\n",
    "c. Qual dos dois cenários obteve a melhor projeção? Qual cenário você usaria dentro da sua empresa pensando nos desdobramentos estratégicos citados acima? Justifique a sua resposta com base em métricas bem definidas e no entendimento do problema.\n",
    "\n",
    "#### Informação sobre os atributos\n",
    "\n",
    "- **vlr:** Vlr. faturado no mês\n",
    "- **date:** Mês de referência do faturamento\n",
    "- **produto:** Produto ao qual o faturamento diz respeito"
   ]
  },
  {
   "cell_type": "code",
   "execution_count": null,
   "id": "51c0b8f9",
   "metadata": {},
   "outputs": [],
   "source": []
  },
  {
   "cell_type": "markdown",
   "id": "7ca8302d",
   "metadata": {},
   "source": [
    "## Importando bibliotecas"
   ]
  },
  {
   "cell_type": "code",
   "execution_count": 1,
   "id": "fd3bffa1",
   "metadata": {
    "ExecuteTime": {
     "end_time": "2021-11-05T18:52:03.517399Z",
     "start_time": "2021-11-05T18:52:02.969462Z"
    }
   },
   "outputs": [],
   "source": [
    "import pandas as pd\n",
    "import numpy as np\n",
    "\n",
    "from datetime import datetime\n"
   ]
  },
  {
   "cell_type": "markdown",
   "id": "f0fa8bbf",
   "metadata": {},
   "source": [
    "## Etapa I\n",
    "\n",
    "**AED - Análise exploratória de dados**"
   ]
  },
  {
   "cell_type": "markdown",
   "id": "933a2a71",
   "metadata": {},
   "source": [
    "### Carregando dataset"
   ]
  },
  {
   "cell_type": "code",
   "execution_count": 2,
   "id": "361e7809",
   "metadata": {
    "ExecuteTime": {
     "end_time": "2021-11-05T18:52:04.082244Z",
     "start_time": "2021-11-05T18:52:04.045210Z"
    }
   },
   "outputs": [
    {
     "name": "stdout",
     "output_type": "stream",
     "text": [
      "sim_ts.txt\n"
     ]
    }
   ],
   "source": [
    "# Lista o dataset no repositório local\n",
    "data_folder = \".\\\\Dataset\\\\Projeto-B\\\\\"\n",
    "!dir /ON /b /a-d $data_folder"
   ]
  },
  {
   "cell_type": "code",
   "execution_count": 3,
   "id": "c3ab5f64",
   "metadata": {
    "ExecuteTime": {
     "end_time": "2021-11-05T18:52:04.563876Z",
     "start_time": "2021-11-05T18:52:04.552875Z"
    }
   },
   "outputs": [
    {
     "name": "stdout",
     "output_type": "stream",
     "text": [
      "Wall time: 3.96 ms\n"
     ]
    }
   ],
   "source": [
    "%%time\n",
    "# Carrega o arquivo no dataframe\n",
    "file = 'sim_ts.txt'\n",
    "\n",
    "df = pd.read_csv(data_folder + file, sep=\"\\t\")"
   ]
  },
  {
   "cell_type": "code",
   "execution_count": 4,
   "id": "d6269c8d",
   "metadata": {
    "ExecuteTime": {
     "end_time": "2021-11-05T18:52:06.880191Z",
     "start_time": "2021-11-05T18:52:06.874194Z"
    }
   },
   "outputs": [
    {
     "name": "stdout",
     "output_type": "stream",
     "text": [
      "Linhas.: 511\n",
      "Colunas: 3\n"
     ]
    }
   ],
   "source": [
    "lin, col = df.shape\n",
    "print(f'Linhas.: {lin}\\nColunas: {col}')"
   ]
  },
  {
   "cell_type": "code",
   "execution_count": 5,
   "id": "db3192cb",
   "metadata": {
    "ExecuteTime": {
     "end_time": "2021-11-05T18:52:08.973333Z",
     "start_time": "2021-11-05T18:52:08.953336Z"
    }
   },
   "outputs": [
    {
     "data": {
      "text/html": [
       "<div>\n",
       "<style scoped>\n",
       "    .dataframe tbody tr th:only-of-type {\n",
       "        vertical-align: middle;\n",
       "    }\n",
       "\n",
       "    .dataframe tbody tr th {\n",
       "        vertical-align: top;\n",
       "    }\n",
       "\n",
       "    .dataframe thead th {\n",
       "        text-align: right;\n",
       "    }\n",
       "</style>\n",
       "<table border=\"1\" class=\"dataframe\">\n",
       "  <thead>\n",
       "    <tr style=\"text-align: right;\">\n",
       "      <th></th>\n",
       "      <th>vlr</th>\n",
       "      <th>date</th>\n",
       "      <th>produto</th>\n",
       "    </tr>\n",
       "  </thead>\n",
       "  <tbody>\n",
       "    <tr>\n",
       "      <th>0</th>\n",
       "      <td>1.006195e+09</td>\n",
       "      <td>2009-12-01</td>\n",
       "      <td>alimenticio</td>\n",
       "    </tr>\n",
       "    <tr>\n",
       "      <th>1</th>\n",
       "      <td>9.986980e+08</td>\n",
       "      <td>2010-01-01</td>\n",
       "      <td>alimenticio</td>\n",
       "    </tr>\n",
       "    <tr>\n",
       "      <th>2</th>\n",
       "      <td>9.994182e+08</td>\n",
       "      <td>2010-02-01</td>\n",
       "      <td>alimenticio</td>\n",
       "    </tr>\n",
       "    <tr>\n",
       "      <th>3</th>\n",
       "      <td>9.900000e+08</td>\n",
       "      <td>2010-03-01</td>\n",
       "      <td>alimenticio</td>\n",
       "    </tr>\n",
       "    <tr>\n",
       "      <th>4</th>\n",
       "      <td>9.942075e+08</td>\n",
       "      <td>2010-04-01</td>\n",
       "      <td>alimenticio</td>\n",
       "    </tr>\n",
       "  </tbody>\n",
       "</table>\n",
       "</div>"
      ],
      "text/plain": [
       "            vlr        date      produto\n",
       "0  1.006195e+09  2009-12-01  alimenticio\n",
       "1  9.986980e+08  2010-01-01  alimenticio\n",
       "2  9.994182e+08  2010-02-01  alimenticio\n",
       "3  9.900000e+08  2010-03-01  alimenticio\n",
       "4  9.942075e+08  2010-04-01  alimenticio"
      ]
     },
     "execution_count": 5,
     "metadata": {},
     "output_type": "execute_result"
    }
   ],
   "source": [
    "df.head(5)"
   ]
  },
  {
   "cell_type": "markdown",
   "id": "249c0aa7",
   "metadata": {},
   "source": [
    "Podemos ver que cada linha do conjunto de dados tem os valores faturados de um produto, em uma determinada data, descritos em detalhe abaixo."
   ]
  },
  {
   "cell_type": "markdown",
   "id": "cf46e5bd",
   "metadata": {},
   "source": [
    "### Características dos dados\n",
    "\n",
    "- **vlr:** Valor faturado no mês\n",
    "- **date:** Mês de referência do faturamento\n",
    "- **produto:** Nome de identificação do produto ao qual o faturamento diz respeito"
   ]
  },
  {
   "cell_type": "code",
   "execution_count": null,
   "id": "8743cc6d",
   "metadata": {
    "ExecuteTime": {
     "end_time": "2021-11-05T18:20:27.328987Z",
     "start_time": "2021-11-05T18:20:27.305988Z"
    }
   },
   "outputs": [],
   "source": [
    "# Obtendo as informações de colunas e tipo das colunas do dataframe\n",
    "df.info(show_counts =True)"
   ]
  },
  {
   "cell_type": "code",
   "execution_count": null,
   "id": "ff5edd7a",
   "metadata": {
    "ExecuteTime": {
     "end_time": "2021-11-05T18:20:28.075384Z",
     "start_time": "2021-11-05T18:20:28.059388Z"
    }
   },
   "outputs": [],
   "source": [
    "# Obtendo informações gerais dos valores que cada coluna numérica contém\n",
    "df.describe()"
   ]
  },
  {
   "cell_type": "code",
   "execution_count": null,
   "id": "3f8bd720",
   "metadata": {
    "ExecuteTime": {
     "end_time": "2021-11-05T18:20:29.181133Z",
     "start_time": "2021-11-05T18:20:29.160098Z"
    }
   },
   "outputs": [],
   "source": [
    "# Obtendo informações gerais dos valores incluindo as variáveis do tipo object\n",
    "df.describe(include=object)"
   ]
  },
  {
   "cell_type": "markdown",
   "id": "a2956323",
   "metadata": {
    "ExecuteTime": {
     "end_time": "2021-11-04T12:17:30.311814Z",
     "start_time": "2021-11-04T12:17:30.308808Z"
    }
   },
   "source": [
    "### Pré-processamento"
   ]
  },
  {
   "cell_type": "code",
   "execution_count": null,
   "id": "49104d2d",
   "metadata": {
    "ExecuteTime": {
     "end_time": "2021-11-05T18:20:31.741272Z",
     "start_time": "2021-11-05T18:20:31.722103Z"
    }
   },
   "outputs": [],
   "source": [
    "# Obtendo as informações de colunas e tipo das colunas do dataframe\n",
    "df.info()"
   ]
  },
  {
   "cell_type": "markdown",
   "id": "1d035c61",
   "metadata": {
    "ExecuteTime": {
     "end_time": "2021-11-05T18:07:30.531030Z",
     "start_time": "2021-11-05T18:07:30.521035Z"
    },
    "heading_collapsed": true
   },
   "source": [
    "#### *Data Prep*"
   ]
  },
  {
   "cell_type": "code",
   "execution_count": null,
   "id": "4c46e387",
   "metadata": {
    "hidden": true
   },
   "outputs": [],
   "source": [
    "# Install dataprep\n",
    "\n",
    "# conda install -c conda-forge dataprep\n",
    "# or\n",
    "# !pip install dataprep\n",
    "\n",
    "from dataprep.eda import plot, plot_correlation, create_report, plot_missing"
   ]
  },
  {
   "cell_type": "code",
   "execution_count": null,
   "id": "23776794",
   "metadata": {
    "ExecuteTime": {
     "end_time": "2021-11-05T17:58:38.663399Z",
     "start_time": "2021-11-05T17:58:38.369243Z"
    },
    "hidden": true
   },
   "outputs": [],
   "source": [
    "plot(df)"
   ]
  },
  {
   "cell_type": "code",
   "execution_count": null,
   "id": "a22f15fe",
   "metadata": {
    "ExecuteTime": {
     "end_time": "2021-11-05T18:02:42.411055Z",
     "start_time": "2021-11-05T18:02:40.358497Z"
    },
    "hidden": true
   },
   "outputs": [],
   "source": [
    "create_report(df)"
   ]
  },
  {
   "cell_type": "markdown",
   "id": "fc612c47",
   "metadata": {
    "heading_collapsed": true
   },
   "source": [
    "#### *Autoviz*"
   ]
  },
  {
   "cell_type": "code",
   "execution_count": null,
   "id": "8c2bdebf",
   "metadata": {
    "ExecuteTime": {
     "end_time": "2021-11-05T18:20:39.923592Z",
     "start_time": "2021-11-05T18:20:35.655443Z"
    },
    "hidden": true
   },
   "outputs": [],
   "source": [
    "# Install Autoviz\n",
    "\n",
    "# conda install -c conda-forge autoviz\n",
    "# conda install -c anaconda xlrd\n",
    "\n",
    "# OR \n",
    "\n",
    "# !pip install Autoviz\n",
    "# !pip install xlrd\n",
    "\n",
    "\n",
    "from autoviz.AutoViz_Class import AutoViz_Class"
   ]
  },
  {
   "cell_type": "code",
   "execution_count": null,
   "id": "567b00d1",
   "metadata": {
    "ExecuteTime": {
     "start_time": "2021-11-05T18:21:22.817Z"
    },
    "hidden": true
   },
   "outputs": [],
   "source": [
    "AV = AutoViz_Class()\n",
    "dftc = AV.AutoViz(\n",
    "    filename='', \n",
    "    sep='' , \n",
    "    depVar='', \n",
    "    dfte=df, \n",
    "    header=0, \n",
    "    verbose=1, \n",
    "    lowess=False, \n",
    "    chart_format='bokeh', \n",
    "    max_rows_analyzed=150000, \n",
    "    max_cols_analyzed=30\n",
    ")"
   ]
  },
  {
   "cell_type": "markdown",
   "id": "9d3649b7",
   "metadata": {
    "ExecuteTime": {
     "start_time": "2021-11-05T18:23:12.968Z"
    },
    "heading_collapsed": true
   },
   "source": [
    "#### *Pandas Profiling*"
   ]
  },
  {
   "cell_type": "code",
   "execution_count": null,
   "id": "55da183b",
   "metadata": {
    "ExecuteTime": {
     "end_time": "2021-11-05T18:25:17.610982Z",
     "start_time": "2021-11-05T18:25:17.598984Z"
    },
    "hidden": true
   },
   "outputs": [],
   "source": [
    "from pandas_profiling import ProfileReport"
   ]
  },
  {
   "cell_type": "code",
   "execution_count": null,
   "id": "e7b42de0",
   "metadata": {
    "ExecuteTime": {
     "start_time": "2021-11-05T18:25:28.190Z"
    },
    "hidden": true
   },
   "outputs": [],
   "source": [
    "report = ProfileReport(df)\n",
    "report"
   ]
  },
  {
   "cell_type": "markdown",
   "id": "7ee922ed",
   "metadata": {
    "ExecuteTime": {
     "start_time": "2021-11-05T18:26:26.536Z"
    }
   },
   "source": [
    "#### *SweetViz*"
   ]
  },
  {
   "cell_type": "code",
   "execution_count": 6,
   "id": "b7de1ffc",
   "metadata": {
    "ExecuteTime": {
     "end_time": "2021-11-05T18:52:18.755286Z",
     "start_time": "2021-11-05T18:52:18.748250Z"
    }
   },
   "outputs": [],
   "source": [
    "# Install sweetviz\n",
    "\n",
    "# conda install -c conda-forge sweetviz\n",
    "# or\n",
    "#!pip install sweetviz"
   ]
  },
  {
   "cell_type": "code",
   "execution_count": 7,
   "id": "690d663d",
   "metadata": {
    "ExecuteTime": {
     "end_time": "2021-11-05T18:52:20.077136Z",
     "start_time": "2021-11-05T18:52:19.069395Z"
    }
   },
   "outputs": [],
   "source": [
    "import sweetviz as sv"
   ]
  },
  {
   "cell_type": "code",
   "execution_count": null,
   "id": "6e8d8067",
   "metadata": {
    "ExecuteTime": {
     "start_time": "2021-11-05T18:52:52.827Z"
    }
   },
   "outputs": [
    {
     "data": {
      "application/vnd.jupyter.widget-view+json": {
       "model_id": "0d6e0318c50f4d63aec3d14e7a02badf",
       "version_major": 2,
       "version_minor": 0
      },
      "text/plain": [
       "                                             |                                             | [  0%]   00:00 ->…"
      ]
     },
     "metadata": {},
     "output_type": "display_data"
    }
   ],
   "source": [
    "advert_report = sv.analyze([df, \"Data\"])"
   ]
  },
  {
   "cell_type": "code",
   "execution_count": null,
   "id": "e44a5de4",
   "metadata": {},
   "outputs": [],
   "source": []
  },
  {
   "cell_type": "code",
   "execution_count": null,
   "id": "466474f7",
   "metadata": {},
   "outputs": [],
   "source": []
  }
 ],
 "metadata": {
  "kernelspec": {
   "display_name": "Python 3 (ipykernel)",
   "language": "python",
   "name": "python3"
  },
  "language_info": {
   "codemirror_mode": {
    "name": "ipython",
    "version": 3
   },
   "file_extension": ".py",
   "mimetype": "text/x-python",
   "name": "python",
   "nbconvert_exporter": "python",
   "pygments_lexer": "ipython3",
   "version": "3.8.12"
  },
  "varInspector": {
   "cols": {
    "lenName": 16,
    "lenType": 16,
    "lenVar": 40
   },
   "kernels_config": {
    "python": {
     "delete_cmd_postfix": "",
     "delete_cmd_prefix": "del ",
     "library": "var_list.py",
     "varRefreshCmd": "print(var_dic_list())"
    },
    "r": {
     "delete_cmd_postfix": ") ",
     "delete_cmd_prefix": "rm(",
     "library": "var_list.r",
     "varRefreshCmd": "cat(var_dic_list()) "
    }
   },
   "types_to_exclude": [
    "module",
    "function",
    "builtin_function_or_method",
    "instance",
    "_Feature"
   ],
   "window_display": false
  }
 },
 "nbformat": 4,
 "nbformat_minor": 5
}
