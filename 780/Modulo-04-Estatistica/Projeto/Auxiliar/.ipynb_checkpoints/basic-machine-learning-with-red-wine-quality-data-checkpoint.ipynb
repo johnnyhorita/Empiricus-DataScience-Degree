{
 "cells": [
  {
   "cell_type": "markdown",
   "metadata": {
    "_cell_guid": "9f10bf0d-1663-4724-92bd-10734f617469",
    "_uuid": "fb75ad519cf2a1699730203f970ee84ecabb7ba7"
   },
   "source": [
    "Welcome, and thank you for opening this Notebook.\n",
    "This Notebook will provide knowledge to novice Data Scientists with basic Machine Learning concepts like - \n",
    "1. Data Exploratory Ananlysis\n",
    "2. Principle Component Analysis\n",
    "3. Prediction and Model selection"
   ]
  },
  {
   "cell_type": "code",
   "execution_count": null,
   "metadata": {
    "_cell_guid": "b1076dfc-b9ad-4769-8c92-a6c4dae69d19",
    "_uuid": "8f2839f25d086af736a60e9eeb907d3b93b6e0e5",
    "collapsed": true
   },
   "outputs": [],
   "source": [
    "# This Python 3 environment comes with many helpful analytics libraries installed\n",
    "# It is defined by the kaggle/python docker image: https://github.com/kaggle/docker-python\n",
    "# For example, here's several helpful packages to load in \n",
    "\n",
    "import numpy as np # linear algebra\n",
    "import pandas as pd # data processing, CSV file I/O (e.g. pd.read_csv)\n",
    "\n",
    "# Input data files are available in the \"../input/\" directory.\n",
    "# For example, running this (by clicking run or pressing Shift+Enter) will list the files in the input directory\n",
    "\n",
    "import os\n",
    "print(os.listdir(\"../input\"))\n",
    "\n",
    "# Any results you write to the current directory are saved as output."
   ]
  },
  {
   "cell_type": "code",
   "execution_count": 1,
   "metadata": {
    "_cell_guid": "79c7e3d0-c299-4dcb-8224-4455121ee9b0",
    "_uuid": "d629ff2d2480ee46fbb7e2d37f6b5fab8052498a",
    "collapsed": true
   },
   "outputs": [],
   "source": [
    "import pandas as pd\n",
    "import numpy as np\n",
    "import sklearn\n",
    "import seaborn as sns\n",
    "import matplotlib.pyplot as plt\n"
   ]
  },
  {
   "cell_type": "code",
   "execution_count": 2,
   "metadata": {
    "_cell_guid": "3c433b63-8702-4d46-a0b0-0c9c2db86e13",
    "_uuid": "3884d273363bb16449da10e7d9bc4ac6cdb9dcb9",
    "collapsed": true
   },
   "outputs": [],
   "source": [
    "data = pd.read_csv(\"../input/winequality-red.csv\")"
   ]
  },
  {
   "cell_type": "code",
   "execution_count": 3,
   "metadata": {
    "_cell_guid": "8ef54a1c-4d8a-4408-bb48-a9d5fc5aacc8",
    "_uuid": "1891e0fee8b1ebde871f6bcab04afdd341fe45ee"
   },
   "outputs": [],
   "source": [
    "data.head()"
   ]
  },
  {
   "cell_type": "markdown",
   "metadata": {
    "_cell_guid": "ab43c395-a7ae-45a4-9247-88fd00f68cde",
    "_uuid": "4d827b479ac076dec9b87f95b2d2c80471289eb1"
   },
   "source": [
    "Check the correlation for each of the fields"
   ]
  },
  {
   "cell_type": "code",
   "execution_count": 5,
   "metadata": {
    "_cell_guid": "235fef65-fbd8-423f-bda2-c646e7fa5b31",
    "_kg_hide-output": true,
    "_uuid": "30fa2868d4b06a878847a8286656277557ceae2c"
   },
   "outputs": [],
   "source": [
    "data.corr"
   ]
  },
  {
   "cell_type": "code",
   "execution_count": 6,
   "metadata": {
    "_cell_guid": "2fddd8fb-767c-4121-ae0e-67906f5ee4bf",
    "_uuid": "1d7f507014ca8059db463e53d3a345c5cc798f45"
   },
   "outputs": [],
   "source": [
    "data.columns"
   ]
  },
  {
   "cell_type": "code",
   "execution_count": 7,
   "metadata": {
    "_cell_guid": "73fb843a-10bf-40a2-b1c9-cee12b859024",
    "_uuid": "116f69464f84cc23148b43412a36784743e72a47"
   },
   "outputs": [],
   "source": [
    "data.info()"
   ]
  },
  {
   "cell_type": "code",
   "execution_count": 8,
   "metadata": {
    "_cell_guid": "4690bf97-d84e-441e-bb71-3254fb08df3f",
    "_uuid": "1d7b88f182da62cc909f5cdce6a322fa826b2cfb"
   },
   "outputs": [],
   "source": [
    "data['quality'].unique()"
   ]
  },
  {
   "cell_type": "code",
   "execution_count": 10,
   "metadata": {
    "_cell_guid": "1bc897b6-8662-40bb-82cb-467783bd858e",
    "_kg_hide-output": true,
    "_uuid": "de9dc09ba1a6d6c38731d5a6820491c9ded01060",
    "scrolled": true
   },
   "outputs": [],
   "source": [
    "#Check correleation between the variables using Seaborn's pairplot. \n",
    "sns.pairplot(data)"
   ]
  },
  {
   "cell_type": "markdown",
   "metadata": {
    "_cell_guid": "750cc859-8b2c-4aa3-b841-eb15c3b9e454",
    "_uuid": "8118c9b0692535aa01796cf9380e7752fc39d5fe",
    "collapsed": true
   },
   "source": [
    "No correlation between the fields as seen on the pairplot"
   ]
  },
  {
   "cell_type": "code",
   "execution_count": 11,
   "metadata": {
    "_cell_guid": "6444e55d-6120-4f55-999b-de07fe4af7bd",
    "_uuid": "7df97876e5bf7956d13885af74f1a16ca55299ba"
   },
   "outputs": [],
   "source": [
    "#count of each target variable\n",
    "from collections import Counter\n",
    "Counter(data['quality'])"
   ]
  },
  {
   "cell_type": "code",
   "execution_count": 12,
   "metadata": {
    "_cell_guid": "4e077138-0845-4400-a465-905e91d26bd2",
    "_uuid": "c0b7fc5f5987c37df1654a5c3653c7e0c6f1bda4"
   },
   "outputs": [],
   "source": [
    "#count of the target variable\n",
    "sns.countplot(x='quality', data=data)"
   ]
  },
  {
   "cell_type": "code",
   "execution_count": 13,
   "metadata": {
    "_cell_guid": "77053b9f-b032-434e-95a2-f72c04ee150d",
    "_uuid": "612d4fc1e72dd46b848a9e8f6c9ceeb3cf9d946a"
   },
   "outputs": [],
   "source": [
    "#Plot a boxplot to check for Outliers\n",
    "#Target variable is Quality. So will plot a boxplot each column against target variable\n",
    "sns.boxplot('quality', 'fixed acidity', data = data)"
   ]
  },
  {
   "cell_type": "code",
   "execution_count": 14,
   "metadata": {
    "_cell_guid": "abc61c4d-beb3-4a9b-9c2f-75f5ada02a2c",
    "_uuid": "6949ceecad5acc1a7093bf1da4bcfa6d7a8cc3d1"
   },
   "outputs": [],
   "source": [
    "sns.boxplot('quality', 'volatile acidity', data = data)"
   ]
  },
  {
   "cell_type": "code",
   "execution_count": 15,
   "metadata": {
    "_cell_guid": "0745d4c5-cad7-4405-8cb2-70947f4a89cc",
    "_uuid": "784739a0b1224fbb66acb30ca6e5395e53ced574"
   },
   "outputs": [],
   "source": [
    "sns.boxplot('quality', 'citric acid', data = data)"
   ]
  },
  {
   "cell_type": "code",
   "execution_count": 16,
   "metadata": {
    "_cell_guid": "67caf05c-4b66-469a-b08a-b63f55a86847",
    "_uuid": "8447db8a0d6e9b0f493bcb3d4258789a972329fe"
   },
   "outputs": [],
   "source": [
    "sns.boxplot('quality', 'residual sugar', data = data)"
   ]
  },
  {
   "cell_type": "code",
   "execution_count": 17,
   "metadata": {
    "_cell_guid": "a86b145b-9b96-4ba1-8c6f-50720529074c",
    "_uuid": "8a00c906d885ed4ae6afe3effd45d95352a83abf"
   },
   "outputs": [],
   "source": [
    "sns.boxplot('quality', 'chlorides', data = data)"
   ]
  },
  {
   "cell_type": "code",
   "execution_count": 18,
   "metadata": {
    "_cell_guid": "2f722b6b-c37e-4283-9c05-fdccd8b9efa0",
    "_uuid": "bcf8de3300e13548fc3291ddee46f1946999fec2"
   },
   "outputs": [],
   "source": [
    "sns.boxplot('quality', 'free sulfur dioxide', data = data)"
   ]
  },
  {
   "cell_type": "code",
   "execution_count": 19,
   "metadata": {
    "_cell_guid": "005902cd-5698-4eaf-bc57-05f6ea78de85",
    "_uuid": "39c3aae358288463ca86c37349f5f9a2983b69bd"
   },
   "outputs": [],
   "source": [
    "sns.boxplot('quality', 'total sulfur dioxide', data = data)"
   ]
  },
  {
   "cell_type": "code",
   "execution_count": 20,
   "metadata": {
    "_cell_guid": "eca12eb9-03bd-4ca3-ae21-f8ac75c05368",
    "_uuid": "27f2d2e3e6e1be22b20758048e05160cced66d5c"
   },
   "outputs": [],
   "source": [
    "sns.boxplot('quality', 'density', data = data)"
   ]
  },
  {
   "cell_type": "code",
   "execution_count": 21,
   "metadata": {
    "_cell_guid": "708a8471-17ce-4ee0-8b09-cc2439774464",
    "_uuid": "1be78a8ba34aee99882aa2894a0bb48c8ad38dde"
   },
   "outputs": [],
   "source": [
    "sns.boxplot('quality', 'pH', data = data)"
   ]
  },
  {
   "cell_type": "code",
   "execution_count": 22,
   "metadata": {
    "_cell_guid": "4cd59e08-5956-4316-829f-95fa86bfdc69",
    "_uuid": "7050f9dabebe8dde66f513e7d89b22fcd896195a"
   },
   "outputs": [],
   "source": [
    "sns.boxplot('quality', 'sulphates', data = data)"
   ]
  },
  {
   "cell_type": "code",
   "execution_count": 23,
   "metadata": {
    "_cell_guid": "22064ee1-0337-4bad-9bdb-2c629ff0ec0f",
    "_uuid": "2b15f634348a6726a83edc4a37cd69fd840f9a2c"
   },
   "outputs": [],
   "source": [
    "sns.boxplot('quality', 'alcohol', data = data)"
   ]
  },
  {
   "cell_type": "code",
   "execution_count": 24,
   "metadata": {
    "_cell_guid": "7bf19dee-b049-4e60-8869-c1acbb86dd94",
    "_uuid": "d6d46f3f4e0f6bb2f21fc65498328c3c6949caf7"
   },
   "outputs": [],
   "source": [
    "#boxplots show many outliers for quite a few columns. Describe the dataset to get a better idea on what's happening\n",
    "data.describe()\n",
    "#fixed acidity - 25% - 7.1 and 50% - 7.9. Not much of a variance. Could explain the huge number of outliers\n",
    "#volatile acididty - similar reasoning\n",
    "#citric acid - seems to be somewhat uniformly distributed\n",
    "#residual sugar - min - 0.9, max - 15!! Waaaaay too much difference. Could explain the outliers.\n",
    "#chlorides - same as residual sugar. Min - 0.012, max - 0.611\n",
    "#free sulfur dioxide, total suflur dioxide - same explanation as above"
   ]
  },
  {
   "cell_type": "code",
   "execution_count": 25,
   "metadata": {
    "_cell_guid": "18edb4f8-c189-427d-b148-700cac2b98be",
    "_uuid": "5a1c194eccd2f4cba6b660d479addc3b2ae88ffd",
    "collapsed": true
   },
   "outputs": [],
   "source": [
    "#next we shall create a new column called Review. This column will contain the values of 1,2, and 3. \n",
    "#1 - Bad\n",
    "#2 - Average\n",
    "#3 - Excellent\n",
    "#This will be split in the following way. \n",
    "#1,2,3 --> Bad\n",
    "#4,5,6,7 --> Average\n",
    "#8,9,10 --> Excellent\n",
    "#Create an empty list called Reviews\n",
    "reviews = []\n",
    "for i in data['quality']:\n",
    "    if i >= 1 and i <= 3:\n",
    "        reviews.append('1')\n",
    "    elif i >= 4 and i <= 7:\n",
    "        reviews.append('2')\n",
    "    elif i >= 8 and i <= 10:\n",
    "        reviews.append('3')\n",
    "data['Reviews'] = reviews"
   ]
  },
  {
   "cell_type": "code",
   "execution_count": 26,
   "metadata": {
    "_cell_guid": "fa5f1602-92e7-48e2-b00c-d433667d2770",
    "_uuid": "e040c55f782e39c757890ace1aef29eb9ecada9b"
   },
   "outputs": [],
   "source": [
    "#view final data\n",
    "data.columns"
   ]
  },
  {
   "cell_type": "code",
   "execution_count": 27,
   "metadata": {
    "_cell_guid": "2bb484e5-b3da-4ecf-9e4a-bbfbbfc24af9",
    "_uuid": "93156e9cf5295f18d740fbb390146b32f0bbb551"
   },
   "outputs": [],
   "source": [
    "data['Reviews'].unique()"
   ]
  },
  {
   "cell_type": "code",
   "execution_count": 28,
   "metadata": {
    "_cell_guid": "5bb3fc71-ec60-4e07-9844-836344310488",
    "_uuid": "882056ead3b386492d1f9ee6832a212419b9eb31"
   },
   "outputs": [],
   "source": [
    "Counter(data['Reviews'])"
   ]
  },
  {
   "cell_type": "markdown",
   "metadata": {
    "_cell_guid": "4ec7bd38-583c-40e6-8a6c-f2ecba12ef33",
    "_uuid": "fbe525fb686f72fa07a3135d242f33b6a39645db"
   },
   "source": [
    "Split the x and y variables\n"
   ]
  },
  {
   "cell_type": "code",
   "execution_count": 29,
   "metadata": {
    "_cell_guid": "1e62ef87-cc19-45a9-946f-97e02ff3f95b",
    "_uuid": "7d678a16dad1abd45110fa3d685905c209d832d9",
    "collapsed": true
   },
   "outputs": [],
   "source": [
    "x = data.iloc[:,:11]\n",
    "y = data['Reviews']"
   ]
  },
  {
   "cell_type": "code",
   "execution_count": 30,
   "metadata": {
    "_cell_guid": "24943123-3105-4f80-a852-7a923b8e26c8",
    "_kg_hide-output": true,
    "_uuid": "fef650b2fac102197d9289c64a14b3531ec484a4"
   },
   "outputs": [],
   "source": [
    "x.head(10)"
   ]
  },
  {
   "cell_type": "code",
   "execution_count": 31,
   "metadata": {
    "_cell_guid": "b6e36de1-558b-4372-989a-f0f8c53c0125",
    "_kg_hide-output": true,
    "_uuid": "97a27e866711970aa789dcac9b239fdb29803af2"
   },
   "outputs": [],
   "source": [
    "y.head(10)"
   ]
  },
  {
   "cell_type": "markdown",
   "metadata": {
    "_cell_guid": "53fd8db3-9f55-47b3-a2e9-046a457edd15",
    "_uuid": "b73f745bf43cb152051b24acf28587b7b23782d4"
   },
   "source": [
    "Now scale the data using StandardScalar for PCA"
   ]
  },
  {
   "cell_type": "code",
   "execution_count": 32,
   "metadata": {
    "_cell_guid": "ddd7c913-dbba-4fe8-8dc0-774b2e7cd8a4",
    "_uuid": "fabf06e7febaf64d16c6a52d31680536c7ab083e",
    "collapsed": true
   },
   "outputs": [],
   "source": [
    "from sklearn.preprocessing import StandardScaler\n",
    "sc = StandardScaler()\n",
    "x = sc.fit_transform(x)\n"
   ]
  },
  {
   "cell_type": "code",
   "execution_count": 33,
   "metadata": {
    "_cell_guid": "b8b8a176-1e23-45a5-b06a-eec5a64bd468",
    "_kg_hide-output": true,
    "_uuid": "80e9fd04a7bb058d1238faa7282dbe36a548b9c8"
   },
   "outputs": [],
   "source": [
    "#view the scaled features\n",
    "print(x)"
   ]
  },
  {
   "cell_type": "markdown",
   "metadata": {
    "_cell_guid": "04aa7a4c-a2b7-4aaa-b6a8-906276a98b7e",
    "_uuid": "d5ddcda32e5eccd3ddf2cc0acf0cb4cca2c7a92b"
   },
   "source": [
    "Proceed to perform PCA\n"
   ]
  },
  {
   "cell_type": "code",
   "execution_count": 34,
   "metadata": {
    "_cell_guid": "60033c46-14bf-4037-bf32-49c6288affdc",
    "_uuid": "3d91581ba034a1dfb52313a7c652c67ee0f48f29",
    "collapsed": true
   },
   "outputs": [],
   "source": [
    "from sklearn.decomposition import PCA\n",
    "pca = PCA()\n",
    "x_pca = pca.fit_transform(x)"
   ]
  },
  {
   "cell_type": "code",
   "execution_count": 35,
   "metadata": {
    "_cell_guid": "a26ac234-edd1-4e95-af8b-f8116858cf48",
    "_kg_hide-output": true,
    "_uuid": "08e488cceee0d7949a45e7d704aa0199a1127981"
   },
   "outputs": [],
   "source": [
    "#plot the graph to find the principal components\n",
    "plt.figure(figsize=(10,10))\n",
    "plt.plot(np.cumsum(pca.explained_variance_ratio_), 'ro-')\n",
    "plt.grid()"
   ]
  },
  {
   "cell_type": "code",
   "execution_count": 36,
   "metadata": {
    "_cell_guid": "6c1e3742-6198-46a8-871b-91d883d5cd66",
    "_uuid": "7641f5cb5d08613ca2365c73545b73cf1c9abfd5",
    "collapsed": true
   },
   "outputs": [],
   "source": [
    "#AS per the graph, we can see that 8 principal components attribute for 90% of variation in the data. \n",
    "#we shall pick the first 8 components for our prediction.\n",
    "pca_new = PCA(n_components=8)\n",
    "x_new = pca_new.fit_transform(x)"
   ]
  },
  {
   "cell_type": "code",
   "execution_count": 37,
   "metadata": {
    "_cell_guid": "5328cdf6-310e-4dd6-ab13-ab37fa8f60ee",
    "_kg_hide-output": true,
    "_uuid": "42de25256137c9166acb46f8ade763e40bc42ffd"
   },
   "outputs": [],
   "source": [
    "print(x_new)"
   ]
  },
  {
   "cell_type": "markdown",
   "metadata": {
    "_cell_guid": "0ae7e5e5-da29-4ea7-b21a-9cb81523e473",
    "_uuid": "09877a1eeab6ab2963bf4d2810120393a7899491"
   },
   "source": [
    "Split the data into train and test data"
   ]
  },
  {
   "cell_type": "code",
   "execution_count": 38,
   "metadata": {
    "_cell_guid": "b87e0527-7828-4064-9be1-cafcf61bd8f9",
    "_kg_hide-output": true,
    "_uuid": "c2d0bba8cb4c02047bd216434dfedca35bb6bf26"
   },
   "outputs": [],
   "source": [
    "from sklearn.cross_validation import train_test_split\n",
    "x_train, x_test, y_train, y_test = train_test_split(x_new, y, test_size = 0.25)"
   ]
  },
  {
   "cell_type": "code",
   "execution_count": 39,
   "metadata": {
    "_cell_guid": "2d32ca9a-f04c-4104-8e18-f68a3b676991",
    "_uuid": "7877b5affb706a96df8842d2104ff94e5693331a"
   },
   "outputs": [],
   "source": [
    "print(x_train.shape)\n",
    "print(y_train.shape)\n",
    "print(x_test.shape)\n",
    "print(y_test.shape)\n"
   ]
  },
  {
   "cell_type": "markdown",
   "metadata": {
    "_cell_guid": "1e618a46-6735-457c-b4a6-f7c58b0b503e",
    "_uuid": "dd6f3dd51c77c9354e8dd0ddce4dff1c1c933e95"
   },
   "source": [
    "Proceed with Modelling.\n",
    "We will use the following algorithms \n",
    "1. Logistic Regression\n",
    "2. Decision Trees\n",
    "3. Naive Bayes\n",
    "4. Random Forests\n",
    "5. SVM"
   ]
  },
  {
   "cell_type": "markdown",
   "metadata": {
    "_cell_guid": "ab3c7405-baa0-4c4b-9a92-661d7fdb0ce5",
    "_uuid": "3fce7c0912fdfec6b4fd6d1faba303c8a297a105"
   },
   "source": [
    "1. Logistic Regression\n"
   ]
  },
  {
   "cell_type": "code",
   "execution_count": 40,
   "metadata": {
    "_cell_guid": "3315ac18-332d-4990-9e74-d15e737c2d7a",
    "_uuid": "a1218f4287e64d2b40d90e4247ad2dfe9f69559b",
    "collapsed": true
   },
   "outputs": [],
   "source": [
    "from sklearn.linear_model import LogisticRegression\n",
    "from sklearn.metrics import confusion_matrix, accuracy_score\n",
    "lr = LogisticRegression()\n",
    "lr.fit(x_train, y_train)\n",
    "lr_predict = lr.predict(x_test)"
   ]
  },
  {
   "cell_type": "code",
   "execution_count": 41,
   "metadata": {
    "_cell_guid": "5dd8934a-c79a-41a6-803d-f6ee560193d5",
    "_kg_hide-output": true,
    "_uuid": "15e1b1557ed032fb088048ff460b05152652873d"
   },
   "outputs": [],
   "source": [
    "#print confusion matrix and accuracy score\n",
    "lr_conf_matrix = confusion_matrix(y_test, lr_predict)\n",
    "lr_acc_score = accuracy_score(y_test, lr_predict)\n",
    "print(lr_conf_matrix)\n",
    "print(lr_acc_score*100)"
   ]
  },
  {
   "cell_type": "markdown",
   "metadata": {
    "_cell_guid": "b2b617d9-569f-4e1a-b7df-a76336307857",
    "_uuid": "eb5352eba23619ca07d8675fa6135c2dac057543"
   },
   "source": [
    "98% accuracy with Logistic Regression! Let's see of Decision Trees give us a better accuracy"
   ]
  },
  {
   "cell_type": "code",
   "execution_count": 42,
   "metadata": {
    "_cell_guid": "a6d6fab8-deb2-4f0e-ab9b-23898684e72c",
    "_uuid": "38f65e3a8f24d02610c02d63fa59f55ff4e305b8",
    "collapsed": true
   },
   "outputs": [],
   "source": [
    "from sklearn.tree import DecisionTreeClassifier\n",
    "dt = DecisionTreeClassifier()\n",
    "dt.fit(x_train,y_train)\n",
    "dt_predict = dt.predict(x_test)\n"
   ]
  },
  {
   "cell_type": "code",
   "execution_count": 43,
   "metadata": {
    "_cell_guid": "85bda4be-7773-4369-98c7-485b8252b461",
    "_kg_hide-output": true,
    "_uuid": "c979d3cd8ec71b820c0c59caa03113411975b03f"
   },
   "outputs": [],
   "source": [
    "#print confusion matrix and accuracy score\n",
    "dt_conf_matrix = confusion_matrix(y_test, dt_predict)\n",
    "dt_acc_score = accuracy_score(y_test, dt_predict)\n",
    "print(dt_conf_matrix)\n",
    "print(dt_acc_score*100)"
   ]
  },
  {
   "cell_type": "markdown",
   "metadata": {
    "_cell_guid": "f5cd3a29-61a9-44dd-aed4-9404f6766939",
    "_kg_hide-output": true,
    "_uuid": "68d0efe373c3e1795105b80a15598b16bf26440a"
   },
   "source": [
    "Lesser accuracy with Decision Tree! Let's Use NaiveBayes"
   ]
  },
  {
   "cell_type": "code",
   "execution_count": 44,
   "metadata": {
    "_cell_guid": "4f53be48-eba0-4ae7-a545-55889f3fbc0a",
    "_uuid": "d3cac78e4940368594196cf8019fdb1d673dfa5c",
    "collapsed": true
   },
   "outputs": [],
   "source": [
    "from sklearn.naive_bayes import GaussianNB\n",
    "nb = GaussianNB()\n",
    "nb.fit(x_train,y_train)\n",
    "nb_predict=nb.predict(x_test)"
   ]
  },
  {
   "cell_type": "code",
   "execution_count": 45,
   "metadata": {
    "_cell_guid": "351227ab-c43a-464f-93ac-86c160591c79",
    "_kg_hide-output": true,
    "_uuid": "f85db042231ab12c0f8d238df67dad9bad212e1e"
   },
   "outputs": [],
   "source": [
    "#print confusion matrix and accuracy score\n",
    "nb_conf_matrix = confusion_matrix(y_test, nb_predict)\n",
    "nb_acc_score = accuracy_score(y_test, nb_predict)\n",
    "print(nb_conf_matrix)\n",
    "print(nb_acc_score*100)"
   ]
  },
  {
   "cell_type": "markdown",
   "metadata": {
    "_cell_guid": "bf976a50-066e-4c2a-a0b5-87c0a9d9082e",
    "_uuid": "a367071fc75dc9d4f955e7ff46a4de773be20c5c"
   },
   "source": [
    "Similar accuracy as Decision Tree. Let's use RandomForest classifier now."
   ]
  },
  {
   "cell_type": "code",
   "execution_count": 46,
   "metadata": {
    "_cell_guid": "dff696d8-157b-4228-8598-313e6b65c39b",
    "_uuid": "adcb07a2ad38f6d02018164970f9bee57994e220",
    "collapsed": true
   },
   "outputs": [],
   "source": [
    "from sklearn.ensemble import RandomForestClassifier\n",
    "rf = RandomForestClassifier()\n",
    "rf.fit(x_train, y_train)\n",
    "rf_predict=rf.predict(x_test)"
   ]
  },
  {
   "cell_type": "code",
   "execution_count": 47,
   "metadata": {
    "_cell_guid": "78fae80a-58b7-476e-a5cb-72ad9f98b615",
    "_kg_hide-output": true,
    "_uuid": "df719efee375ee04f9be904cfe19ef00233a2be3"
   },
   "outputs": [],
   "source": [
    "#print confusion matrix and accuracy score\n",
    "rf_conf_matrix = confusion_matrix(y_test, rf_predict)\n",
    "rf_acc_score = accuracy_score(y_test, rf_predict)\n",
    "print(rf_conf_matrix)\n",
    "print(rf_acc_score*100)"
   ]
  },
  {
   "cell_type": "markdown",
   "metadata": {
    "_cell_guid": "6ed4c0b6-6d65-492c-9966-fd76725bd343",
    "_uuid": "ae39a5566412c935e77dcf65846ddc55c6b7b8a1"
   },
   "source": [
    "98% accuracy! Improvement from Decision Tree and Naive Bayes but the same as Logistic Regression Classifier"
   ]
  },
  {
   "cell_type": "markdown",
   "metadata": {
    "_cell_guid": "5ebcb487-33d5-4aee-bcb6-a630bb71047a",
    "_uuid": "9d15d13f41d68842da5df1cab6e38fc2064f3b74"
   },
   "source": [
    "SVM Classifier"
   ]
  },
  {
   "cell_type": "code",
   "execution_count": 48,
   "metadata": {
    "_cell_guid": "33ae8a2b-347f-4d9b-86e3-59b8dd14f6c9",
    "_uuid": "32361e1e362c1bb7f34416052850d9f2076d9996",
    "collapsed": true
   },
   "outputs": [],
   "source": [
    "from sklearn.svm import SVC"
   ]
  },
  {
   "cell_type": "code",
   "execution_count": 49,
   "metadata": {
    "_uuid": "6b8de3286826871992dfdfc858c82de93d7ed51d",
    "collapsed": true
   },
   "outputs": [],
   "source": [
    "#we shall use the rbf kernel first and check the accuracy\n",
    "lin_svc = SVC()\n",
    "lin_svc.fit(x_train, y_train)\n",
    "lin_svc=rf.predict(x_test)\n"
   ]
  },
  {
   "cell_type": "code",
   "execution_count": 50,
   "metadata": {
    "_uuid": "51c75312f8418749ebef08600622015d2b6c039d"
   },
   "outputs": [],
   "source": [
    "#print confusion matrix and accuracy score\n",
    "lin_svc_conf_matrix = confusion_matrix(y_test, rf_predict)\n",
    "lin_svc_acc_score = accuracy_score(y_test, rf_predict)\n",
    "print(lin_svc_conf_matrix)\n",
    "print(lin_svc_acc_score*100)"
   ]
  },
  {
   "cell_type": "markdown",
   "metadata": {
    "_uuid": "0f815c0ec996bc1a3aa5966a455bbe1896c54f90"
   },
   "source": [
    "![](http://)98.5% accuracy wit RBF Kernel! Same as Random Forest! Let's try the linear kernel now and see if it improves our accuracy in any way."
   ]
  },
  {
   "cell_type": "code",
   "execution_count": 51,
   "metadata": {
    "_uuid": "71e656855d54b40d9278a9cd8da4c8f4a77177f4",
    "collapsed": true
   },
   "outputs": [],
   "source": [
    "rbf_svc = SVC(kernel='linear')\n",
    "rbf_svc.fit(x_train, y_train)\n",
    "rbf_svc=rf.predict(x_test)"
   ]
  },
  {
   "cell_type": "code",
   "execution_count": 52,
   "metadata": {
    "_uuid": "8ed052947e3eb4d7a9010b2084b1f73e8f836025"
   },
   "outputs": [],
   "source": [
    "rbf_svc_conf_matrix = confusion_matrix(y_test, rf_predict)\n",
    "rbf_svc_acc_score = accuracy_score(y_test, rf_predict)\n",
    "print(rbf_svc_conf_matrix)\n",
    "print(rbf_svc_acc_score*100)"
   ]
  },
  {
   "cell_type": "markdown",
   "metadata": {
    "_uuid": "e025956b3245036f764e692942a2cfdc59858af3"
   },
   "source": [
    "The same accuracy! So we can see that the SVC and the Random Forest give us good prediction accuracy for the Wine Classification problem.\n",
    "We can further improve accuracy by fine-tuning the parameters of each classifier.\n",
    "Hope you found this Kernel useful! Pleae leave in comments in case of any questions, concerns, and feedback! Thank you :) "
   ]
  }
 ],
 "metadata": {
  "kernelspec": {
   "display_name": "Python 3 (ipykernel)",
   "language": "python",
   "name": "python3"
  },
  "language_info": {
   "codemirror_mode": {
    "name": "ipython",
    "version": 3
   },
   "file_extension": ".py",
   "mimetype": "text/x-python",
   "name": "python",
   "nbconvert_exporter": "python",
   "pygments_lexer": "ipython3",
   "version": "3.8.12"
  }
 },
 "nbformat": 4,
 "nbformat_minor": 1
}
