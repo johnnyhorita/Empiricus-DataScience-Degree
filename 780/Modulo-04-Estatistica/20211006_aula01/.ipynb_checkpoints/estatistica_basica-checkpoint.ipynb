{
 "cells": [
  {
   "cell_type": "markdown",
   "id": "614ca83e-a918-4580-a36f-fb3ed0032e1b",
   "metadata": {},
   "source": [
    "# Estatística Básica"
   ]
  },
  {
   "cell_type": "markdown",
   "id": "400e59da-b5f6-4348-b23e-043a72a21ea3",
   "metadata": {},
   "source": [
    "# O que veremos:\n",
    "- Relevância da Estatística em Ciência de Dados\n",
    "- Diferentes tipos de dados\n",
    "- O tipo de gráfico ideal para cada variável\n",
    "- Medidas resumo\n",
    "- Analise descritiva por meio de gráficos"
   ]
  },
  {
   "cell_type": "markdown",
   "id": "ae8a265c-4eed-4465-8b9e-9bab84f85c98",
   "metadata": {},
   "source": [
    "# Contexto\n",
    "## Porquê estudar estatística em Ciência de Dados?\n",
    "\n",
    "Apesar de não háver concenso no uso dessa figura, não há como discutir a importância da estatística na área de ciência de dados.  \n",
    "\n",
    "<img src=\"imgs/venn_ds.png\" alt=\"drawing\" width=\"25%\"/>"
   ]
  },
  {
   "cell_type": "markdown",
   "id": "bc1362f1-f0e6-413c-9dd9-735b469b9782",
   "metadata": {},
   "source": [
    "É um dos grandes pilares bases para processos mais complexos\n",
    "\n",
    "<img src=\"https://miro.medium.com/max/1000/1*x7P7gqjo8k2_bj2rTQWAfg.jpeg\" alt=\"drawing\" width=\"25%\"/>\n"
   ]
  },
  {
   "cell_type": "markdown",
   "id": "cc576464-374e-45e8-ab9b-0ec26b3a3153",
   "metadata": {},
   "source": [
    "## O que é Probabilidade e Estatística?\n",
    "\n",
    "Essas duas áreas são extremamente amplas, e fornecem toda a base da __ciência de dados__. Por isso, vamos dar uma olhada nos principais conceitos. A probabilidade e estatística podem ser divididas nos seguintes três pilares:\n",
    "\n",
    "**Probabilidade**: é a teoria matemática utilizada para se estudar a incerteza oriundas de `fenômenos de caráter aleátorio`.\n",
    "\n",
    "**Estatística Descritiva**: Etapa inicial da análise estatística, tendo como objetivo tirar informações prévias de modo informal e direto. A ideia é obter informações que `resumam` o conjuto de dados, a fim que estes possam ser `descritos`, e conclusões iniciais possam ser tiradas.\n",
    "\n",
    "**Inferência Estatística**: É o conjunto de técnicas que possibilitam a extrapolação de conclusões tiradas a partir de um conjunto pequeno de dados (denominado <font color = red>**amostra**</font>) para todo o universo sob análise (denominado <font color = red>**população**</font>).\n",
    "\n",
    "<img src=\"https://phhp-faculty-cantrell.sites.medinfo.ufl.edu/files/2012/07/mod10-big_picture_inference.gif\" width=\"40%\">"
   ]
  },
  {
   "cell_type": "markdown",
   "id": "239f98cd-6432-4ab8-9fde-e0110cf0225d",
   "metadata": {},
   "source": [
    "## Por onde começar?\n",
    "\n",
    "Existem algumas metodologias e processos para definir como trabalhar e gerir projetos de ciência de dados.\n",
    "\n",
    "Em uma pesquisa publicada pela [KDnugget](https://www.kdnuggets.com/) em 2014, revela a grande preferência do uso da metodologia CRISP-DM: Cross Industry Standard Process for Data Mining\n",
    "\n",
    "<img src=\"https://miro.medium.com/max/988/0*tA5OjppLK627FfFo\" alt=\"drawing\" width=\"25%\"/>\n"
   ]
  },
  {
   "cell_type": "markdown",
   "id": "9f0aa480-8613-4918-9840-a98fa2338533",
   "metadata": {},
   "source": [
    "Como você pode ver, tudo gira em função dos dados.\n",
    "\n",
    "<img src=\"https://miro.medium.com/max/814/1*95_DQ5N2laaU-6NSZRlZMw.png\" alt=\"drawing\" width=\"25%\"/>\n",
    "\n"
   ]
  },
  {
   "cell_type": "markdown",
   "id": "44560355-1aa3-4896-8708-c70dd6e1f84f",
   "metadata": {},
   "source": [
    "Então vamos ver os tipos de dados de acordo com a estatística."
   ]
  },
  {
   "cell_type": "markdown",
   "id": "745e3d24-86d6-4136-8efb-55b2e7fa7713",
   "metadata": {},
   "source": [
    "# Variáveis\n",
    "\n",
    "Características associadas a atributos, fenômenos ou eventos tal como:\n",
    "- Estado civíl\n",
    "- Salário\n",
    "- É cliente?\n",
    "- Tempo de contrato\n",
    "\n",
    "Representado como X, Y, Z ..."
   ]
  },
  {
   "cell_type": "code",
   "execution_count": 1,
   "id": "d3adc4a0-0d44-4846-8bb9-5b522bd98b2d",
   "metadata": {},
   "outputs": [
    {
     "name": "stdout",
     "output_type": "stream",
     "text": [
      "Salario\n",
      "\n",
      "[4513.57 3363.37 5521.04 7263.48 3297.96 7155.35 7171.06 5043.93 6821.83\n",
      " 5429.2 ]\n",
      "--------------------------------\n",
      "0    4513.57\n",
      "1    3363.37\n",
      "2    5521.04\n",
      "3    7263.48\n",
      "4    3297.96\n",
      "5    7155.35\n",
      "6    7171.06\n",
      "7    5043.93\n",
      "8    6821.83\n",
      "9    5429.20\n",
      "dtype: float64\n",
      "--------------------------------\n"
     ]
    },
    {
     "data": {
      "text/html": [
       "<div>\n",
       "<style scoped>\n",
       "    .dataframe tbody tr th:only-of-type {\n",
       "        vertical-align: middle;\n",
       "    }\n",
       "\n",
       "    .dataframe tbody tr th {\n",
       "        vertical-align: top;\n",
       "    }\n",
       "\n",
       "    .dataframe thead th {\n",
       "        text-align: right;\n",
       "    }\n",
       "</style>\n",
       "<table border=\"1\" class=\"dataframe\">\n",
       "  <thead>\n",
       "    <tr style=\"text-align: right;\">\n",
       "      <th></th>\n",
       "      <th>0</th>\n",
       "    </tr>\n",
       "  </thead>\n",
       "  <tbody>\n",
       "    <tr>\n",
       "      <th>0</th>\n",
       "      <td>4513.57</td>\n",
       "    </tr>\n",
       "    <tr>\n",
       "      <th>1</th>\n",
       "      <td>3363.37</td>\n",
       "    </tr>\n",
       "    <tr>\n",
       "      <th>2</th>\n",
       "      <td>5521.04</td>\n",
       "    </tr>\n",
       "    <tr>\n",
       "      <th>3</th>\n",
       "      <td>7263.48</td>\n",
       "    </tr>\n",
       "    <tr>\n",
       "      <th>4</th>\n",
       "      <td>3297.96</td>\n",
       "    </tr>\n",
       "    <tr>\n",
       "      <th>5</th>\n",
       "      <td>7155.35</td>\n",
       "    </tr>\n",
       "    <tr>\n",
       "      <th>6</th>\n",
       "      <td>7171.06</td>\n",
       "    </tr>\n",
       "    <tr>\n",
       "      <th>7</th>\n",
       "      <td>5043.93</td>\n",
       "    </tr>\n",
       "    <tr>\n",
       "      <th>8</th>\n",
       "      <td>6821.83</td>\n",
       "    </tr>\n",
       "    <tr>\n",
       "      <th>9</th>\n",
       "      <td>5429.20</td>\n",
       "    </tr>\n",
       "  </tbody>\n",
       "</table>\n",
       "</div>"
      ],
      "text/plain": [
       "         0\n",
       "0  4513.57\n",
       "1  3363.37\n",
       "2  5521.04\n",
       "3  7263.48\n",
       "4  3297.96\n",
       "5  7155.35\n",
       "6  7171.06\n",
       "7  5043.93\n",
       "8  6821.83\n",
       "9  5429.20"
      ]
     },
     "execution_count": 1,
     "metadata": {},
     "output_type": "execute_result"
    }
   ],
   "source": [
    "import numpy as np\n",
    "import pandas as pd\n",
    "import seaborn as sns\n",
    "import matplotlib.pyplot as plt\n",
    "\n",
    "estado_civil = [\"casado\", \"solteiro\", \"viuvo\"]\n",
    "is_cliente = (\"sim\", \"nao\")\n",
    "\n",
    "salario = np.round((8000 - 2500)*np.random.random_sample(10) + 2500,2)\n",
    "\n",
    "print(\"Salario\\n\")\n",
    "print(salario)\n",
    "print(\"-\"*32)\n",
    "print(pd.Series(salario))\n",
    "print(\"-\"*32)\n",
    "pd.DataFrame(pd.Series(salario))"
   ]
  },
  {
   "cell_type": "markdown",
   "id": "59a79e7e-5bd6-4694-8013-53b886b0f567",
   "metadata": {},
   "source": [
    "## Tipos de variáveis\n",
    "![](imgs/tipos_variaveis.png)\n",
    "\n",
    "Cada tipo de variável exige um tipo diferente de análises e gráficos"
   ]
  },
  {
   "cell_type": "markdown",
   "id": "399ea92c-fbb1-458c-9c00-0909fe2b34dc",
   "metadata": {},
   "source": [
    "### Qualitativas\n",
    "Define características discretizadas\n",
    "\n",
    "- **Nominal:** Não existe distinção de ordem entre as classes    \n",
    "- **Ordinal:** Existe uma ordenação lógica entre as categorias\n",
    "    "
   ]
  },
  {
   "cell_type": "code",
   "execution_count": 58,
   "id": "09ccedd9-8be3-4545-8502-25950934fd0a",
   "metadata": {},
   "outputs": [
    {
     "name": "stdout",
     "output_type": "stream",
     "text": [
      "Indentidade de Genero: \n",
      " ['Homem', 'Mulher', 'Nao-Binario']\n"
     ]
    }
   ],
   "source": [
    "print(\"Indentidade de Genero: \\n\", [\"Homem\", \"Mulher\", \"Nao-Binario\"])"
   ]
  },
  {
   "cell_type": "markdown",
   "id": "b48c5196-fa77-4b24-95c2-3a912614eb28",
   "metadata": {},
   "source": [
    "- [x] Nominal\n",
    "- [ ] Ordinal"
   ]
  },
  {
   "cell_type": "code",
   "execution_count": 59,
   "id": "dc7f7f24-9e8f-4dbf-a6de-4e78c526aa98",
   "metadata": {},
   "outputs": [
    {
     "name": "stdout",
     "output_type": "stream",
     "text": [
      "Porte da Empresa: \n",
      " ['MEI', 'ME', 'Varejo', 'Corporate']\n"
     ]
    }
   ],
   "source": [
    "print(\"Porte da Empresa: \\n\", [\"MEI\", \"ME\", \"Varejo\", \"Corporate\"])"
   ]
  },
  {
   "cell_type": "markdown",
   "id": "85206ffc-ff21-4938-93b0-1d271c989999",
   "metadata": {},
   "source": [
    "- [x] Nominal\n",
    "- [ ] Ordinal"
   ]
  },
  {
   "cell_type": "code",
   "execution_count": 60,
   "id": "99d825b3-5739-4d2d-98e8-424c0ca880e9",
   "metadata": {},
   "outputs": [
    {
     "name": "stdout",
     "output_type": "stream",
     "text": [
      "Escolaridade: \n",
      " ['Ensino Fundamental', 'Ensino Medio', 'Graduacao', 'Mestrado', 'Doutorado']\n"
     ]
    }
   ],
   "source": [
    "print(\"Escolaridade: \\n\", [\"Ensino Fundamental\", \"Ensino Medio\", \"Graduacao\", \"Mestrado\", \"Doutorado\"])"
   ]
  },
  {
   "cell_type": "markdown",
   "id": "b778a533-5de8-4fa6-af46-3c16e1106e59",
   "metadata": {},
   "source": [
    "- [ ] Nominal\n",
    "- [x] Ordinal"
   ]
  },
  {
   "cell_type": "code",
   "execution_count": 61,
   "id": "5b07e584-1882-4551-a151-91e09a0d65e0",
   "metadata": {},
   "outputs": [
    {
     "name": "stdout",
     "output_type": "stream",
     "text": [
      "Ativo Financeiro: \n",
      " ['Renda Fixa', 'Acoes', 'FII', 'COE']\n"
     ]
    }
   ],
   "source": [
    "print(\"Ativo Financeiro: \\n\", [\"Renda Fixa\", \"Acoes\", \"FII\", \"COE\"])"
   ]
  },
  {
   "cell_type": "markdown",
   "id": "cd961b38-16be-4d9a-9f59-fe1fb55a702e",
   "metadata": {},
   "source": [
    "- [x] Nominal\n",
    "- [ ] Ordinal"
   ]
  },
  {
   "cell_type": "code",
   "execution_count": 62,
   "id": "ebe776e5-3bf6-46a5-a58d-5fe9e55f7df2",
   "metadata": {},
   "outputs": [
    {
     "name": "stdout",
     "output_type": "stream",
     "text": [
      "IMC: \n",
      " ['Magreza', 'Saudavel', 'Sobrepeso', 'Obeso']\n"
     ]
    }
   ],
   "source": [
    "print(\"IMC: \\n\", [\"Magreza\", \"Saudavel\", \"Sobrepeso\", \"Obeso\"])"
   ]
  },
  {
   "cell_type": "markdown",
   "id": "3c099aba-9602-40b9-8011-779801619304",
   "metadata": {},
   "source": [
    "- [ ] Nominal\n",
    "- [x] Ordinal"
   ]
  },
  {
   "cell_type": "code",
   "execution_count": 63,
   "id": "a5c06133-7195-4d13-8eae-f555519f0e83",
   "metadata": {},
   "outputs": [
    {
     "name": "stdout",
     "output_type": "stream",
     "text": [
      "Clima: \n",
      " ['Chuvoso', 'Ensolarado', 'Com Neblina']\n"
     ]
    }
   ],
   "source": [
    "print(\"Clima: \\n\", [\"Chuvoso\", \"Ensolarado\", \"Com Neblina\"])"
   ]
  },
  {
   "cell_type": "markdown",
   "id": "76f6ae3a-10cc-4579-8583-9d7b84e40b7b",
   "metadata": {},
   "source": [
    "- [x] Nominal\n",
    "- [ ] Ordinal"
   ]
  },
  {
   "cell_type": "markdown",
   "id": "f83fb7da-ffc3-4320-a329-e448b976cc7c",
   "metadata": {},
   "source": [
    "#### Tabela de Frequência\n",
    "Quando se tem apenas dados categóricos não conseguimos diretamente pensar em visualizações e portanto é de interesse calcular algumas medidas"
   ]
  },
  {
   "cell_type": "code",
   "execution_count": 2,
   "id": "0fa44db7-92fa-4877-83c3-a255bad10c53",
   "metadata": {},
   "outputs": [
    {
     "data": {
      "text/html": [
       "<div>\n",
       "<style scoped>\n",
       "    .dataframe tbody tr th:only-of-type {\n",
       "        vertical-align: middle;\n",
       "    }\n",
       "\n",
       "    .dataframe tbody tr th {\n",
       "        vertical-align: top;\n",
       "    }\n",
       "\n",
       "    .dataframe thead th {\n",
       "        text-align: right;\n",
       "    }\n",
       "</style>\n",
       "<table border=\"1\" class=\"dataframe\">\n",
       "  <thead>\n",
       "    <tr style=\"text-align: right;\">\n",
       "      <th></th>\n",
       "      <th>mpg</th>\n",
       "      <th>cylinders</th>\n",
       "      <th>displacement</th>\n",
       "      <th>horsepower</th>\n",
       "      <th>weight</th>\n",
       "      <th>acceleration</th>\n",
       "      <th>model_year</th>\n",
       "      <th>origin</th>\n",
       "      <th>name</th>\n",
       "    </tr>\n",
       "  </thead>\n",
       "  <tbody>\n",
       "    <tr>\n",
       "      <th>0</th>\n",
       "      <td>18.0</td>\n",
       "      <td>8</td>\n",
       "      <td>307.0</td>\n",
       "      <td>130.0</td>\n",
       "      <td>3504</td>\n",
       "      <td>12.0</td>\n",
       "      <td>70</td>\n",
       "      <td>usa</td>\n",
       "      <td>chevrolet chevelle malibu</td>\n",
       "    </tr>\n",
       "    <tr>\n",
       "      <th>1</th>\n",
       "      <td>15.0</td>\n",
       "      <td>8</td>\n",
       "      <td>350.0</td>\n",
       "      <td>165.0</td>\n",
       "      <td>3693</td>\n",
       "      <td>11.5</td>\n",
       "      <td>70</td>\n",
       "      <td>usa</td>\n",
       "      <td>buick skylark 320</td>\n",
       "    </tr>\n",
       "    <tr>\n",
       "      <th>2</th>\n",
       "      <td>18.0</td>\n",
       "      <td>8</td>\n",
       "      <td>318.0</td>\n",
       "      <td>150.0</td>\n",
       "      <td>3436</td>\n",
       "      <td>11.0</td>\n",
       "      <td>70</td>\n",
       "      <td>usa</td>\n",
       "      <td>plymouth satellite</td>\n",
       "    </tr>\n",
       "    <tr>\n",
       "      <th>3</th>\n",
       "      <td>16.0</td>\n",
       "      <td>8</td>\n",
       "      <td>304.0</td>\n",
       "      <td>150.0</td>\n",
       "      <td>3433</td>\n",
       "      <td>12.0</td>\n",
       "      <td>70</td>\n",
       "      <td>usa</td>\n",
       "      <td>amc rebel sst</td>\n",
       "    </tr>\n",
       "    <tr>\n",
       "      <th>4</th>\n",
       "      <td>17.0</td>\n",
       "      <td>8</td>\n",
       "      <td>302.0</td>\n",
       "      <td>140.0</td>\n",
       "      <td>3449</td>\n",
       "      <td>10.5</td>\n",
       "      <td>70</td>\n",
       "      <td>usa</td>\n",
       "      <td>ford torino</td>\n",
       "    </tr>\n",
       "    <tr>\n",
       "      <th>...</th>\n",
       "      <td>...</td>\n",
       "      <td>...</td>\n",
       "      <td>...</td>\n",
       "      <td>...</td>\n",
       "      <td>...</td>\n",
       "      <td>...</td>\n",
       "      <td>...</td>\n",
       "      <td>...</td>\n",
       "      <td>...</td>\n",
       "    </tr>\n",
       "    <tr>\n",
       "      <th>393</th>\n",
       "      <td>27.0</td>\n",
       "      <td>4</td>\n",
       "      <td>140.0</td>\n",
       "      <td>86.0</td>\n",
       "      <td>2790</td>\n",
       "      <td>15.6</td>\n",
       "      <td>82</td>\n",
       "      <td>usa</td>\n",
       "      <td>ford mustang gl</td>\n",
       "    </tr>\n",
       "    <tr>\n",
       "      <th>394</th>\n",
       "      <td>44.0</td>\n",
       "      <td>4</td>\n",
       "      <td>97.0</td>\n",
       "      <td>52.0</td>\n",
       "      <td>2130</td>\n",
       "      <td>24.6</td>\n",
       "      <td>82</td>\n",
       "      <td>europe</td>\n",
       "      <td>vw pickup</td>\n",
       "    </tr>\n",
       "    <tr>\n",
       "      <th>395</th>\n",
       "      <td>32.0</td>\n",
       "      <td>4</td>\n",
       "      <td>135.0</td>\n",
       "      <td>84.0</td>\n",
       "      <td>2295</td>\n",
       "      <td>11.6</td>\n",
       "      <td>82</td>\n",
       "      <td>usa</td>\n",
       "      <td>dodge rampage</td>\n",
       "    </tr>\n",
       "    <tr>\n",
       "      <th>396</th>\n",
       "      <td>28.0</td>\n",
       "      <td>4</td>\n",
       "      <td>120.0</td>\n",
       "      <td>79.0</td>\n",
       "      <td>2625</td>\n",
       "      <td>18.6</td>\n",
       "      <td>82</td>\n",
       "      <td>usa</td>\n",
       "      <td>ford ranger</td>\n",
       "    </tr>\n",
       "    <tr>\n",
       "      <th>397</th>\n",
       "      <td>31.0</td>\n",
       "      <td>4</td>\n",
       "      <td>119.0</td>\n",
       "      <td>82.0</td>\n",
       "      <td>2720</td>\n",
       "      <td>19.4</td>\n",
       "      <td>82</td>\n",
       "      <td>usa</td>\n",
       "      <td>chevy s-10</td>\n",
       "    </tr>\n",
       "  </tbody>\n",
       "</table>\n",
       "<p>398 rows × 9 columns</p>\n",
       "</div>"
      ],
      "text/plain": [
       "      mpg  cylinders  displacement  horsepower  weight  acceleration  \\\n",
       "0    18.0          8         307.0       130.0    3504          12.0   \n",
       "1    15.0          8         350.0       165.0    3693          11.5   \n",
       "2    18.0          8         318.0       150.0    3436          11.0   \n",
       "3    16.0          8         304.0       150.0    3433          12.0   \n",
       "4    17.0          8         302.0       140.0    3449          10.5   \n",
       "..    ...        ...           ...         ...     ...           ...   \n",
       "393  27.0          4         140.0        86.0    2790          15.6   \n",
       "394  44.0          4          97.0        52.0    2130          24.6   \n",
       "395  32.0          4         135.0        84.0    2295          11.6   \n",
       "396  28.0          4         120.0        79.0    2625          18.6   \n",
       "397  31.0          4         119.0        82.0    2720          19.4   \n",
       "\n",
       "     model_year  origin                       name  \n",
       "0            70     usa  chevrolet chevelle malibu  \n",
       "1            70     usa          buick skylark 320  \n",
       "2            70     usa         plymouth satellite  \n",
       "3            70     usa              amc rebel sst  \n",
       "4            70     usa                ford torino  \n",
       "..          ...     ...                        ...  \n",
       "393          82     usa            ford mustang gl  \n",
       "394          82  europe                  vw pickup  \n",
       "395          82     usa              dodge rampage  \n",
       "396          82     usa                ford ranger  \n",
       "397          82     usa                 chevy s-10  \n",
       "\n",
       "[398 rows x 9 columns]"
      ]
     },
     "execution_count": 2,
     "metadata": {},
     "output_type": "execute_result"
    }
   ],
   "source": [
    "#mpg\n",
    "mpg = sns.load_dataset(\"mpg\")\n",
    "mpg"
   ]
  },
  {
   "cell_type": "code",
   "execution_count": 6,
   "id": "2133ac2e-7399-473f-b6ae-0926ecc1b770",
   "metadata": {},
   "outputs": [
    {
     "data": {
      "text/html": [
       "<div>\n",
       "<style scoped>\n",
       "    .dataframe tbody tr th:only-of-type {\n",
       "        vertical-align: middle;\n",
       "    }\n",
       "\n",
       "    .dataframe tbody tr th {\n",
       "        vertical-align: top;\n",
       "    }\n",
       "\n",
       "    .dataframe thead th {\n",
       "        text-align: right;\n",
       "    }\n",
       "</style>\n",
       "<table border=\"1\" class=\"dataframe\">\n",
       "  <thead>\n",
       "    <tr style=\"text-align: right;\">\n",
       "      <th></th>\n",
       "      <th>qtd</th>\n",
       "      <th>pct</th>\n",
       "    </tr>\n",
       "  </thead>\n",
       "  <tbody>\n",
       "    <tr>\n",
       "      <th>usa</th>\n",
       "      <td>249</td>\n",
       "      <td>62.562814</td>\n",
       "    </tr>\n",
       "    <tr>\n",
       "      <th>japan</th>\n",
       "      <td>79</td>\n",
       "      <td>19.849246</td>\n",
       "    </tr>\n",
       "    <tr>\n",
       "      <th>europe</th>\n",
       "      <td>70</td>\n",
       "      <td>17.587940</td>\n",
       "    </tr>\n",
       "  </tbody>\n",
       "</table>\n",
       "</div>"
      ],
      "text/plain": [
       "        qtd        pct\n",
       "usa     249  62.562814\n",
       "japan    79  19.849246\n",
       "europe   70  17.587940"
      ]
     },
     "execution_count": 6,
     "metadata": {},
     "output_type": "execute_result"
    }
   ],
   "source": [
    "freq_table = pd.concat([mpg.origin.value_counts(),\n",
    "           mpg.origin.value_counts(normalize = True)*100],\n",
    "          axis = 1,\n",
    "          keys = (\"qtd\",\"pct\"))\n",
    "\n",
    "freq_table"
   ]
  },
  {
   "cell_type": "code",
   "execution_count": null,
   "id": "b322e2eb-efca-4949-8673-c783b24fe0eb",
   "metadata": {},
   "outputs": [],
   "source": []
  },
  {
   "cell_type": "markdown",
   "id": "2c431fa3-9e66-4c56-946f-bf0bb4311c0f",
   "metadata": {},
   "source": [
    "A distribuição de frequências é um agrupamento de dados em classes, de tal forma que contabilizamos o número de ocorrências em cada classe. O objetivo é apresentar os dados de uma maneira mais concisa e que nos permita extrair informação sobre seu comportamento. A seguir, apresentamos algumas definições necessárias à construção da distribuição de frequências.\n",
    "\n",
    "**Frequência absoluta (ƒi):** É o número de observações correspondente a cada classe. A frequência absoluta é, geralmente, chamada apenas de frequência.\n",
    "\n",
    "**Frequência relativa (ƒri):** É o quociente entre a frequência absoluta da classe correspondente e a soma das frequências (total observado), isto é, $ \\displaystyle f_{ri}=\\frac{f_i}{\\sum_{j}f_j} $ onde n representa o número total de observações.\n",
    "\n",
    "**Frequência percentual (pi):** É obtida multiplicando a frequência relativa por 100%.<br><br>"
   ]
  },
  {
   "cell_type": "markdown",
   "id": "c4ee6cbf-a836-43b9-997b-c078da5199dc",
   "metadata": {},
   "source": [
    "#### Gráfico de barras"
   ]
  },
  {
   "cell_type": "code",
   "execution_count": 9,
   "id": "fe25c531-cbb8-4770-92f2-130f0d13050f",
   "metadata": {},
   "outputs": [
    {
     "data": {
      "image/png": "[encoded data removed]",
      "text/plain": [
       "<Figure size 432x288 with 1 Axes>"
      ]
     },
     "metadata": {
      "needs_background": "light"
     },
     "output_type": "display_data"
    },
    {
     "data": {
      "image/png": "[encoded data removed]",
      "text/plain": [
       "<Figure size 432x288 with 1 Axes>"
      ]
     },
     "metadata": {
      "needs_background": "light"
     },
     "output_type": "display_data"
    }
   ],
   "source": [
    "#freq table\n",
    "freq_table.qtd.plot(kind=\"bar\")\n",
    "plt.show()\n",
    "freq_table.pct.plot(kind=\"bar\")\n",
    "plt.show()"
   ]
  },
  {
   "cell_type": "markdown",
   "id": "5dfd0435-bf8b-4acd-8ec4-0d675c3090ef",
   "metadata": {},
   "source": [
    "#### Gráfico de setor"
   ]
  },
  {
   "cell_type": "code",
   "execution_count": 13,
   "id": "7b13375c-c30e-42b3-b219-b4b91da8a635",
   "metadata": {},
   "outputs": [
    {
     "data": {
      "image/png": "[encoded data removed]",
      "text/plain": [
       "<Figure size 432x288 with 1 Axes>"
      ]
     },
     "metadata": {},
     "output_type": "display_data"
    }
   ],
   "source": [
    "#pie plot\n",
    "freq_table.qtd.plot.pie(autopct = \"%1.1f%%\")\n",
    "plt.show()"
   ]
  },
  {
   "cell_type": "markdown",
   "id": "6d7753ed-336b-4de0-9380-4cac4f5c3c05",
   "metadata": {},
   "source": [
    "### Quantitativas\n",
    "Representam valores numéricos.\n",
    "\n",
    "- Discreta\n",
    "    Apenas valores inteiros como contagens\n",
    "    Ex.: Qtd. de filhos, Idade, Qtd. de vendas\n",
    "\n",
    "\n",
    "- Contínua\n",
    "    Valores reais com casas decimais.\n",
    "    Ex.: Faturamento, valor investido, preço de ativo"
   ]
  },
  {
   "cell_type": "markdown",
   "id": "7d3ef0d7-18e2-43e6-996f-0fcf63d7ff8a",
   "metadata": {},
   "source": [
    "### Histograma"
   ]
  },
  {
   "cell_type": "code",
   "execution_count": 3,
   "id": "1dc0bff1-f4f2-48ba-9968-6ba9129a3442",
   "metadata": {},
   "outputs": [],
   "source": [
    "import yfinance as yf"
   ]
  },
  {
   "cell_type": "code",
   "execution_count": 4,
   "id": "616a6ecb-c51b-4c58-a94b-fa61a6a9b7c8",
   "metadata": {},
   "outputs": [
    {
     "name": "stdout",
     "output_type": "stream",
     "text": [
      "[*********************100%***********************]  1 of 1 completed\n"
     ]
    }
   ],
   "source": [
    "bvsp = yf.download(\"^BVSP\", start=\"2000-01-01\", end=\"2021-10-06\")"
   ]
  },
  {
   "cell_type": "code",
   "execution_count": null,
   "id": "acebc07d-bf42-43bb-ac34-420c9f76e62b",
   "metadata": {},
   "outputs": [],
   "source": [
    "#plot bvsp"
   ]
  },
  {
   "cell_type": "code",
   "execution_count": 7,
   "id": "125c2c21-4eab-4ea1-ac84-cb6cb79c65c4",
   "metadata": {},
   "outputs": [],
   "source": [
    "#plot retorno"
   ]
  },
  {
   "cell_type": "code",
   "execution_count": 8,
   "id": "7c45cd62-be5c-4ee0-bf03-d0329b90de42",
   "metadata": {},
   "outputs": [],
   "source": [
    "#hist retorno"
   ]
  },
  {
   "cell_type": "code",
   "execution_count": null,
   "id": "7c7ca64f-1020-4716-ac8c-89dc6da41c80",
   "metadata": {},
   "outputs": [],
   "source": []
  },
  {
   "cell_type": "code",
   "execution_count": null,
   "id": "bdb6476b-8b59-4901-bf44-bf1a02699e78",
   "metadata": {},
   "outputs": [],
   "source": []
  },
  {
   "cell_type": "code",
   "execution_count": null,
   "id": "29bcc4fe-7ac5-46c9-abcb-ccbb7bc453b0",
   "metadata": {},
   "outputs": [],
   "source": []
  },
  {
   "cell_type": "code",
   "execution_count": null,
   "id": "d5330382-11ad-46d3-9414-cdaed0a9d869",
   "metadata": {},
   "outputs": [],
   "source": []
  },
  {
   "cell_type": "code",
   "execution_count": null,
   "id": "ce66a419-62bd-4d12-a5aa-a47aae9fe760",
   "metadata": {},
   "outputs": [],
   "source": []
  },
  {
   "cell_type": "markdown",
   "id": "b2888d52-4459-4153-ad4b-74858dd5fb49",
   "metadata": {},
   "source": [
    "<img src=\"./imgs/histograma.png\" alt=\"drawing\" width=\"50%\"/>"
   ]
  },
  {
   "cell_type": "markdown",
   "id": "7de0dc43-4ecb-431c-b31d-32a7ce9bd4f6",
   "metadata": {},
   "source": [
    "## Medidas Resumo\n",
    "\n",
    "O principal objetivo da estatística descritiva é gerar **medidas que resumam** o conjunto de dados que estamos analisando, ou seja, medidas que descrevam **a distribuição** dos dados, de forma quantitativa. Temos dois tipos de métricas disponíveis: as métricas de __posição__ e __dispersão__. Vamos conhecer melhor essas métricas a seguir:"
   ]
  },
  {
   "cell_type": "markdown",
   "id": "212d15a1-c475-4031-ab92-7e02d7f5fe19",
   "metadata": {},
   "source": [
    "### Medidas de Posição\n",
    "Estas são medidas que **resumem** algumas propriedades posicionais do conjunto de dados\n",
    "\n",
    "<img src=\"https://i.pinimg.com/originals/3e/8a/90/3e8a90c122ad25240cc46ac075cb0f4c.png\" width=\"25%\">"
   ]
  },
  {
   "cell_type": "markdown",
   "id": "4bc84313-61a9-47c0-883e-15dbae4f4121",
   "metadata": {},
   "source": [
    "#### Média\n",
    "\n",
    "Seja $X$ uma variável quantitativa e $x_1,x_2,x_3, ...$ os valores assumidos por X. \n",
    "\n",
    "Define-se média de $X$ por $\\overline{X}$ sendo que:\n",
    "\n",
    "$$\\overline{X} = \\dfrac{\\sum_{i=1}^{n}x_i}{n}= \\dfrac{x_1+ x_2 + x_3 +... +x_n}{n}$$\n",
    "\n",
    "Caso estejamos nos referindo a média populacional, damos o nome de $\\mu$\n",
    "\n",
    "$$\\mu = \\dfrac{\\sum_{i=1}^{N}x_i}{N}= \\dfrac{x_1+ x_2 + x_3 +... +x_N}{N}$$"
   ]
  },
  {
   "cell_type": "code",
   "execution_count": 9,
   "id": "6f6e7196-4339-4a8d-8ea5-bdf01a4e73b0",
   "metadata": {},
   "outputs": [],
   "source": [
    "#rand mean"
   ]
  },
  {
   "cell_type": "code",
   "execution_count": 10,
   "id": "6bfe8642-8115-4afd-b27c-29e467dd0dcc",
   "metadata": {},
   "outputs": [],
   "source": [
    "#rand mean diff"
   ]
  },
  {
   "cell_type": "markdown",
   "id": "22bdfc23-b105-4a0a-9651-4ec9cff6f8b6",
   "metadata": {},
   "source": [
    "#### Moda\n",
    "\n",
    "A **moda** é o valor que ocorre com **maior frequencia** em um conjunto de dados. Dependendo do conjunto de dados, ele pode ser:\n",
    "\n",
    "- Sem moda: quando nenhum valor se repete \n",
    "\n",
    "- unimodal: Quando existe apenas um valor repetido com maior frequência \n",
    "\n",
    "- multimodal: quando existem mais de um valor com a mesma frequência máxima"
   ]
  },
  {
   "cell_type": "code",
   "execution_count": 11,
   "id": "8f46ab98-de8f-4919-8f7f-2983404feb1a",
   "metadata": {},
   "outputs": [],
   "source": [
    "#Series moda"
   ]
  },
  {
   "cell_type": "code",
   "execution_count": null,
   "id": "4e40cd0e-ddfd-4408-b4e3-459239354943",
   "metadata": {},
   "outputs": [],
   "source": []
  },
  {
   "cell_type": "markdown",
   "id": "8bd81c9a-b2d8-4910-89d9-db809633239a",
   "metadata": {},
   "source": [
    "#### Mediana\n",
    "\n",
    "A **mediana** de uma variável é um número tal que há o mesmo número de observações maiores e menores do que ele, ocupando assim a **posição central** da série de observações.\n",
    "\n",
    "Assim, para calcularmos a mediana, basta **ordenarmos os dados, do menor pro maior**, e contar o que está no meio dos dados ordenados (se houver número par de dados, pega-se a média entre os dados que estão \"no meio\")\n",
    "\n",
    "- *Exemplo*\n",
    "\n",
    "i) 3,4,**7**,8,8 **mediana = 7**       (CASO ÍMPAR)\n",
    "\n",
    "ii) 3,4,**7**,**8**,8,9 **mediana = (7+8)/2 = 7,5**   (CASO PAR)\n",
    "\n",
    "<br>\n",
    "\n",
    "Logo, podemos definir: \n",
    "\n",
    "- Mediana de $X = X_{\\frac{n+1}{2}}$ `Se tamanho da amostra ímpar`\n",
    "\n",
    "\n",
    "- Mediana de $X = \\frac{X_{\\frac{n}{2}}+ X_{\\frac{n+1}{2}}}{2}$ `Se tamanho da amostra par`\n",
    "\n",
    "Como os valores de **indice no python** começam em `0`, devemos nos atentar que a equação acima deve ficar como:\n",
    "\n",
    "- Mediana de $X = X_{\\frac{n}{2}}$ `Se tamanho da amostra par`\n",
    "\n",
    "\n",
    "- Mediana de $X = \\frac{X_{\\frac{n-1}{2}}+ X_{\\frac{n}{2}}}{2}$ `Se tamanho da amostra ímpar`"
   ]
  },
  {
   "cell_type": "code",
   "execution_count": 12,
   "id": "35db0951-16a7-4918-91ce-15111ea1ae8b",
   "metadata": {},
   "outputs": [],
   "source": [
    "#rand median"
   ]
  },
  {
   "cell_type": "code",
   "execution_count": null,
   "id": "a8edf032-abdd-477d-8446-8ff5c694467a",
   "metadata": {},
   "outputs": [],
   "source": []
  },
  {
   "cell_type": "markdown",
   "id": "98867c81-4e0f-4bd4-ad7d-7e450bedfb1e",
   "metadata": {},
   "source": [
    "#### Quartis (Q1, Q2 e Q3)\n",
    "\n",
    "São valores dados a partir do conjunto de observações ordenado em ordem crescente, que dividem os dados **em quatro partes iguais**. \n",
    "\n",
    "- O primeiro quartil, Q1, é o número que deixa 25% das observações abaixo e 75% acima;\n",
    "- O segundo quartil, Q2 é a **mediana**, deixa 50% das observações abaixo e 50% das observações acima;\n",
    "- O terceiro quartil, Q3, deixa 75% das observações abaixo e 25% acima;\n",
    "\n",
    "\n",
    "<img src=\"https://aprendendogestao.com.br/wp-content/uploads/2016/07/QE-Figura-1.png\" width=\"700\" height=\"700\" />"
   ]
  },
  {
   "cell_type": "code",
   "execution_count": 13,
   "id": "c08c931a-5581-4384-9474-5f56d468d682",
   "metadata": {},
   "outputs": [],
   "source": [
    "#quartis"
   ]
  },
  {
   "cell_type": "code",
   "execution_count": null,
   "id": "b230e8e9-b586-4723-9901-ad23d4599ac6",
   "metadata": {},
   "outputs": [],
   "source": []
  },
  {
   "cell_type": "code",
   "execution_count": null,
   "id": "7737dbc7-6428-41c0-813a-14f7faee1ed7",
   "metadata": {},
   "outputs": [],
   "source": []
  },
  {
   "cell_type": "markdown",
   "id": "509439e8-ec6f-4859-b645-015728475d66",
   "metadata": {},
   "source": [
    "### Medidas de Dispersão\n",
    "\n",
    "Estas são **medidas de variabilidade**, que indicam o quanto as observações variam ao redor de alguma medida de centralidade (média, mediana, etc.). Em outras palavras, indicam **o quão longe podemos esperar que uma observação esteja do valor típico para aquela variável**. \n",
    "\n",
    "Existem diversas medidas de variabilidade, algumas das quais apresentamos a seguir."
   ]
  },
  {
   "cell_type": "markdown",
   "id": "9b7a355d-df54-46bc-9743-038ba240243c",
   "metadata": {},
   "source": [
    "#### Amplitude\n",
    "\n",
    "A amplitude é a **diferença entre o maior e o menor valor observado**."
   ]
  },
  {
   "cell_type": "code",
   "execution_count": null,
   "id": "4806030b-5962-4394-96a9-72b0bed60359",
   "metadata": {},
   "outputs": [],
   "source": [
    "# amplitude\n",
    "amostra2 = np.array([2, 3, 4, 7, 7, 8, 8, 11, 11, 11, 12, 15, 19])"
   ]
  },
  {
   "cell_type": "code",
   "execution_count": null,
   "id": "9b110232-eb7b-480a-9cdd-bfdc865352ca",
   "metadata": {},
   "outputs": [],
   "source": []
  },
  {
   "cell_type": "code",
   "execution_count": null,
   "id": "8328bfc8-a9fc-4fc1-b388-d65f644ed937",
   "metadata": {},
   "outputs": [],
   "source": []
  },
  {
   "cell_type": "code",
   "execution_count": null,
   "id": "34dc9c1f-b796-434e-bd25-1589aa5b1541",
   "metadata": {},
   "outputs": [],
   "source": []
  },
  {
   "cell_type": "code",
   "execution_count": null,
   "id": "ea93547a-fd9b-4c2b-9db1-48ac6e4aa56f",
   "metadata": {},
   "outputs": [],
   "source": []
  },
  {
   "cell_type": "code",
   "execution_count": null,
   "id": "696d2a43-f38a-4a31-9ea5-4c197b26306a",
   "metadata": {},
   "outputs": [],
   "source": []
  },
  {
   "cell_type": "code",
   "execution_count": null,
   "id": "11ea728f-ef77-41d5-b55f-b14b57e95027",
   "metadata": {},
   "outputs": [],
   "source": []
  },
  {
   "cell_type": "markdown",
   "id": "0387a700-e692-40c0-85f3-868533e9f042",
   "metadata": {},
   "source": [
    "Algo bem importante a salientar sobre a amplitude é:\n",
    "\n",
    "- **Fortemente influenciada** por valores extremos nas observações, como outliers. "
   ]
  },
  {
   "cell_type": "code",
   "execution_count": null,
   "id": "3c335067-70df-4456-812f-752aea573eb5",
   "metadata": {},
   "outputs": [],
   "source": [
    "amostra2 = np.array([2, 3, 4, 7, 7, 8, 8, 11, 11, 11, 12, 15, 19, 87])\n"
   ]
  },
  {
   "cell_type": "markdown",
   "id": "55113402-ec53-4eb1-b04f-ceea0eff70d3",
   "metadata": {},
   "source": [
    "#### Variância \n",
    "\n",
    "A variância representa **o quanto os dados se afastam da média, em geral**. \n",
    "\n",
    "Por definição, tomamos a média dos **desvios quadráticos da média**:\n",
    "\n",
    "$$ Var(X) = S^2 = \\sum_{i=1}^{n}\\frac{(x_i-\\overline{x})^{2}}{n-1} = \\frac{(x_1-\\overline{x})^{2}}{n-1} + \\frac{(x_2-\\overline{x})^{2}}{n-1} + \\cdots$$\n",
    "\n",
    "No caso da variância populacional o calculo é diferente, pois fazemos a diferença com relação a média populacional e dividimos pelo total de elementos $n$:\n",
    "\n",
    "$$ Var(X) = \\sigma^2 = \\sum_{i=1}^{n}\\frac{(x_i-\\mu)^{2}}{n} = \\frac{(x_1-\\mu)^{2}}{n} + \\frac{(x_2-\\mu)^{2}}{n} + \\cdots$$"
   ]
  },
  {
   "cell_type": "code",
   "execution_count": null,
   "id": "d438be6f-bdb1-497a-b84b-e2888da9e450",
   "metadata": {},
   "outputs": [],
   "source": [
    "#rand"
   ]
  },
  {
   "cell_type": "code",
   "execution_count": 17,
   "id": "1b1a8032-0280-4394-a65d-08ed88b720f0",
   "metadata": {},
   "outputs": [],
   "source": [
    "#salario"
   ]
  },
  {
   "cell_type": "code",
   "execution_count": null,
   "id": "c48d1598-711f-4a01-8e9b-02a8323d02cf",
   "metadata": {},
   "outputs": [],
   "source": []
  },
  {
   "cell_type": "code",
   "execution_count": null,
   "id": "5e6d78bb-ac27-4c4f-a9be-f8803648e8a0",
   "metadata": {},
   "outputs": [],
   "source": []
  },
  {
   "cell_type": "code",
   "execution_count": null,
   "id": "3c6e718e-66cb-4f99-bed4-4c0254aebff2",
   "metadata": {},
   "outputs": [],
   "source": []
  },
  {
   "cell_type": "code",
   "execution_count": null,
   "id": "cfc646b9-5957-4e78-ba6f-b5be7a8ac8db",
   "metadata": {},
   "outputs": [],
   "source": []
  },
  {
   "cell_type": "code",
   "execution_count": null,
   "id": "3eff543e-85ca-479b-a6c0-d91c129543c4",
   "metadata": {},
   "outputs": [],
   "source": []
  },
  {
   "cell_type": "markdown",
   "id": "05d7c9b7-b00e-4506-8bbf-e0929706676c",
   "metadata": {},
   "source": [
    "### Desvio padrão\n",
    "\n",
    "Note que, da forma como foi definida, a variância é um valor **quadrático** nos dados. Para evitar isso, é comum tirar a raiz quadrada da variância, o que define o **desvio padrão**:\n",
    "\n",
    "$$ S = \\sqrt{Var(X)} = \\sqrt{\\sum_{i=1}^{n}\\frac{(x_i-\\overline{x})^{2}}{n - 1}}$$\n",
    "\n",
    "Novamente temos a adaptação do calculo para o caso populacional:\n",
    "\n",
    "$$ \\sigma = \\sqrt{\\sigma^2} = \\sqrt{\\sum_{i=1}^{n}\\frac{(x_i-\\mu)^{2}}{n}}$$"
   ]
  },
  {
   "cell_type": "code",
   "execution_count": null,
   "id": "10e34120-c27c-47c4-a400-e406fc521bd7",
   "metadata": {},
   "outputs": [],
   "source": []
  }
 ],
 "metadata": {
  "kernelspec": {
   "display_name": "Python 3.8.8 64-bit ('base': conda)",
   "language": "python",
   "name": "python388jvsc74a57bd0dca0ade3e726a953b501b15e8e990130d2b7799f14cfd9f4271676035ebe5511"
  },
  "language_info": {
   "codemirror_mode": {
    "name": "ipython",
    "version": 3
   },
   "file_extension": ".py",
   "mimetype": "text/x-python",
   "name": "python",
   "nbconvert_exporter": "python",
   "pygments_lexer": "ipython3",
   "version": "3.8.8"
  }
 },
 "nbformat": 4,
 "nbformat_minor": 5
}
