{
 "cells": [
  {
   "cell_type": "markdown",
   "metadata": {},
   "source": [
    "## Aula 9: Modelos autoregressivos"
   ]
  },
  {
   "cell_type": "markdown",
   "metadata": {},
   "source": [
    "### Objetivos\n",
    "Desenvolver a bagagem básica para prever o comportamento futuro de uma série temporal a partir do seu comportamento passado.\n",
    "\n",
    "### Habilidades a serem desenvolvidas\n",
    "Ao final da aula o aluno deve entender os conceitos de:\n",
    "\n",
    "- ACF e PACF\n",
    "- Random walk\n",
    "- White noise\n",
    "- Estacionaridade\n",
    "- Teste Dicky-Fuller para testar normalidade\n",
    "- Modelos AR, MA, ARMA e ARIMA\n",
    "\n",
    "### Bibliotecas usadas\n",
    "As seguintes bibliotecas serão usadas:\n",
    " - Numpy;\n",
    " - Pandas;\n",
    " - Datetime;\n",
    " - Pandas datareader;\n",
    " - Matplotlib."
   ]
  },
  {
   "cell_type": "code",
   "execution_count": 1,
   "metadata": {
    "ExecuteTime": {
     "end_time": "2021-02-19T16:22:06.460571Z",
     "start_time": "2021-02-19T16:21:55.975595Z"
    }
   },
   "outputs": [
    {
     "ename": "ModuleNotFoundError",
     "evalue": "No module named 'pandas_datareader'",
     "output_type": "error",
     "traceback": [
      "\u001b[1;31m---------------------------------------------------------------------------\u001b[0m",
      "\u001b[1;31mModuleNotFoundError\u001b[0m                       Traceback (most recent call last)",
      "\u001b[1;32mC:\\Users\\JOHNNY~1.HOR\\AppData\\Local\\Temp/ipykernel_20376/357482751.py\u001b[0m in \u001b[0;36m<module>\u001b[1;34m\u001b[0m\n\u001b[0;32m      4\u001b[0m \u001b[1;32mfrom\u001b[0m \u001b[0mdatetime\u001b[0m \u001b[1;32mimport\u001b[0m \u001b[0mdatetime\u001b[0m\u001b[1;33m,\u001b[0m \u001b[0mtimedelta\u001b[0m\u001b[1;33m\u001b[0m\u001b[1;33m\u001b[0m\u001b[0m\n\u001b[0;32m      5\u001b[0m \u001b[1;32mimport\u001b[0m \u001b[0mseaborn\u001b[0m \u001b[1;32mas\u001b[0m \u001b[0msns\u001b[0m\u001b[1;33m\u001b[0m\u001b[1;33m\u001b[0m\u001b[0m\n\u001b[1;32m----> 6\u001b[1;33m \u001b[1;32mfrom\u001b[0m \u001b[0mpandas_datareader\u001b[0m\u001b[1;33m.\u001b[0m\u001b[0mdata\u001b[0m \u001b[1;32mimport\u001b[0m \u001b[0mDataReader\u001b[0m\u001b[1;33m\u001b[0m\u001b[1;33m\u001b[0m\u001b[0m\n\u001b[0m\u001b[0;32m      7\u001b[0m \u001b[1;32mimport\u001b[0m \u001b[0myfinance\u001b[0m \u001b[1;32mas\u001b[0m \u001b[0myf\u001b[0m\u001b[1;33m\u001b[0m\u001b[1;33m\u001b[0m\u001b[0m\n\u001b[0;32m      8\u001b[0m \u001b[1;32mimport\u001b[0m \u001b[0mwarnings\u001b[0m\u001b[1;33m\u001b[0m\u001b[1;33m\u001b[0m\u001b[0m\n",
      "\u001b[1;31mModuleNotFoundError\u001b[0m: No module named 'pandas_datareader'"
     ]
    }
   ],
   "source": [
    "import numpy as np\n",
    "import pandas as pd\n",
    "import matplotlib.pyplot as plt\n",
    "from datetime import datetime, timedelta\n",
    "import seaborn as sns\n",
    "from pandas_datareader.data import DataReader\n",
    "import yfinance as yf\n",
    "import warnings\n",
    "warnings.filterwarnings(\"ignore\")\n",
    "\n",
    "%matplotlib inline"
   ]
  },
  {
   "cell_type": "markdown",
   "metadata": {},
   "source": [
    "## Fundamentos de séries temporais"
   ]
  },
  {
   "cell_type": "markdown",
   "metadata": {},
   "source": [
    "https://finance.yahoo.com/"
   ]
  },
  {
   "cell_type": "code",
   "execution_count": 40,
   "metadata": {},
   "outputs": [],
   "source": [
    "# 1"
   ]
  },
  {
   "cell_type": "code",
   "execution_count": 50,
   "metadata": {},
   "outputs": [],
   "source": [
    "# 2"
   ]
  },
  {
   "cell_type": "code",
   "execution_count": 64,
   "metadata": {
    "ExecuteTime": {
     "end_time": "2021-02-19T16:22:11.351470Z",
     "start_time": "2021-02-19T16:22:10.691389Z"
    }
   },
   "outputs": [],
   "source": [
    "# 3"
   ]
  },
  {
   "cell_type": "code",
   "execution_count": 65,
   "metadata": {},
   "outputs": [],
   "source": [
    "# 4"
   ]
  },
  {
   "cell_type": "code",
   "execution_count": 73,
   "metadata": {},
   "outputs": [],
   "source": [
    "# 5"
   ]
  },
  {
   "cell_type": "markdown",
   "metadata": {},
   "source": [
    "**AutoCorrelation Function - autocorrelação**\n",
    "\n",
    "\n",
    "Medida pela correlação entre a série temporal com a cópia defasada dela mesma.  \n",
    "$Corr(y_t, y_{t-1})$  \n",
    "Normalmente utiliza-se a correlação de Pearson\n",
    "\n",
    "\n",
    "**PACF - Autocorrelação parcial**\n",
    "\n",
    "Ao contrário da autocorrelação, remove efeito e dados temporais intermediarios. Ou seja, os passos de tempo entre o passo atual e o passo t-q são desconsiderados na PACF.  \n",
    "Para tal utilizamos a seguinte formula:   \n",
    "\n",
    "$y_{t} = \\phi_{1} * y_{t-1} + \\phi_{2} * t_{t-2} + \\varepsilon_{t}$  \n",
    "\n",
    "Nesse caso podemos generalizar para uma ordem $k$ a nossa função   \n",
    "\n",
    "$y_{t} = \\phi_{1} * y_{t-1} + \\phi_{2} * t_{t-2} + ... + \\phi_{k} * t_{t-k} + \\varepsilon_{t}$  \n",
    "Para achar a PACF queremos o valor de $phi_{k}$.  \n",
    "\n",
    "O valor de $k$ é extremamente útil para escolher a ordem da nossa função autoregressiva!\n",
    "\n",
    "![](https://i1.wp.com/www.business-science.io/assets/lag-explanation.PNG?w=584)"
   ]
  },
  {
   "cell_type": "code",
   "execution_count": null,
   "metadata": {},
   "outputs": [],
   "source": [
    "# 6"
   ]
  },
  {
   "cell_type": "code",
   "execution_count": null,
   "metadata": {},
   "outputs": [],
   "source": [
    "# 7"
   ]
  },
  {
   "cell_type": "code",
   "execution_count": null,
   "metadata": {},
   "outputs": [],
   "source": [
    "# 8"
   ]
  },
  {
   "cell_type": "code",
   "execution_count": 74,
   "metadata": {
    "ExecuteTime": {
     "end_time": "2021-02-19T16:22:12.328344Z",
     "start_time": "2021-02-19T16:22:11.377960Z"
    }
   },
   "outputs": [],
   "source": [
    "# 9"
   ]
  },
  {
   "cell_type": "code",
   "execution_count": null,
   "metadata": {},
   "outputs": [],
   "source": [
    "# 10"
   ]
  },
  {
   "cell_type": "code",
   "execution_count": null,
   "metadata": {},
   "outputs": [],
   "source": [
    "# 11"
   ]
  },
  {
   "cell_type": "markdown",
   "metadata": {},
   "source": [
    "Intervalos de confiança são desenhados como cones e setados por default para 95% de confiança. Ou seja, valores fora do cone são muito provavelmente correlações efetivas, e não coincidências."
   ]
  },
  {
   "cell_type": "markdown",
   "metadata": {},
   "source": [
    "## Estacionaridade\n",
    "\n",
    "- uma série temporal é dita estacionária quando ela se desenvolve no tempo aleatoriamente ao redor de um valor constante, refletindo alguma forma de equilíbrio estável\n",
    "\n",
    "![](https://miro.medium.com/max/2580/1*tkx0_wwQ2JT7pSlTeg4yzg.png)"
   ]
  },
  {
   "cell_type": "markdown",
   "metadata": {},
   "source": [
    "## White noise\n",
    "\n",
    "- média constante = 0\n",
    "- variância constante\n",
    "- autocorrelação zero em todas lags => sazonalidade inexistente\n",
    "\n",
    "**Importância**\n",
    "$$y_{t} = sinal + ruido$$\n",
    "\n",
    "- Sinal => AR, MA...\n",
    "- Ruído => Parte totalmente imprevisível\n",
    "\n",
    "- Modelo bom => resíduo é ruído branco\n",
    "\n",
    "**Testes**\n",
    "- Visual\n",
    "- Rolling window => verificar o movimento do desvio padrão e da média no tempo\n",
    "- Correlações => ACF dentro do intervalo de confiança\n",
    "\n",
    "![](https://3qeqpr26caki16dnhd19sv6by6v-wpengine.netdna-ssl.com/wp-content/uploads/2017/01/White-Noise-Series-Line-Plot.png)"
   ]
  },
  {
   "cell_type": "code",
   "execution_count": 77,
   "metadata": {
    "ExecuteTime": {
     "end_time": "2021-02-19T16:22:40.119058Z",
     "start_time": "2021-02-19T16:22:39.833658Z"
    }
   },
   "outputs": [],
   "source": [
    "# 12"
   ]
  },
  {
   "cell_type": "markdown",
   "metadata": {},
   "source": [
    "**Random walk**\n",
    "\n",
    "- preço de hoje = preço de ontem + ruído\n",
    "$$P_t = P_{t-1} + \\epsilon_t$$\n",
    "- mudança de preço é ruído branco\n",
    "$$P_t - P_{t-1} = \\epsilon_t$$\n",
    "- não é possível prever um random walk\n",
    "- melhor previsão do preço de amanhã é o preço de hoje\n",
    "- random walk com drift\n",
    "$$P_t = \\mu + P_{t-1} + \\epsilon_t$$\n",
    "- mudança de preço é ruído branco com média $\\mu$\n",
    "$$P_t - P_{t-1} = \\mu + \\epsilon_t$$\n",
    "\n",
    "**teste estatístico para random walk**\n",
    "- teste de regressão para random walk\n",
    "$$P_t =\\alpha + \\beta P_{t-1} \\epsilon_t$$\n",
    "\n",
    "- equivalente com\n",
    "$$P_t - P_{t-1}=\\alpha + \\beta P_{t-1} \\epsilon_t$$\n",
    "\n",
    "- teste de Dickey–Fuller\n",
    "    - random walk\n",
    "$$H_0: \\beta = 0$$\n",
    "    - não é random walk\n",
    "$$H_1: \\beta < 0$$\n"
   ]
  },
  {
   "cell_type": "markdown",
   "metadata": {
    "ExecuteTime": {
     "end_time": "2021-02-19T16:16:57.072065Z",
     "start_time": "2021-02-19T16:16:57.052087Z"
    }
   },
   "source": [
    "- random walk são exemplos de séries não estacionárias\n",
    "\n",
    "![](https://3qeqpr26caki16dnhd19sv6by6v-wpengine.netdna-ssl.com/wp-content/uploads/2017/01/Random-Walk-Line-Plot.png)\n",
    "\n",
    "- séries sazonais também não são estacionárias\n",
    "\n",
    "![](https://anomaly.io/wp-content/uploads/2015/12/multiplicative-model.png)\n",
    "\n",
    "- transformando séries não estacionárias em estacionárias\n",
    "\n",
    "![](https://miro.medium.com/proxy/1*ipFYXnNKmw-HcF8r4Ro9Bw.png)"
   ]
  },
  {
   "cell_type": "code",
   "execution_count": 14,
   "metadata": {
    "ExecuteTime": {
     "end_time": "2021-02-19T16:22:40.566664Z",
     "start_time": "2021-02-19T16:22:40.562618Z"
    }
   },
   "outputs": [],
   "source": [
    "# 13"
   ]
  },
  {
   "cell_type": "code",
   "execution_count": 78,
   "metadata": {},
   "outputs": [],
   "source": [
    "# 14"
   ]
  },
  {
   "cell_type": "markdown",
   "metadata": {},
   "source": [
    "## Autoregressive (AR)"
   ]
  },
  {
   "cell_type": "markdown",
   "metadata": {},
   "source": [
    "**Modelo AR**\n",
    "\n",
    "- Conceito: capturar o padrão por trás da time series e prever o comportamento futuro a partir do passado\n",
    "- Exemplo: sazonalidade anual de vendas\n",
    "\n",
    "$$R_t = \\mu + \\phi R_{t-1} + \\epsilon_t$$\n",
    "\n",
    "$$R_t = \\phi R_{t-1} + \\epsilon_t$$\n",
    "\n",
    "- $R_t$ => instante presente\n",
    "- $R_{t-p}$ => passados p lags\n",
    "- $\\phi$ => coeficiente da PACF\n",
    "- Bom modelo => lags da PACF fora do cone de confiança\n",
    "\n",
    "- visto que há somente um valor defasado do lado direito, modelo é chamado de AR de ordem 1 ou AR(1)\n",
    "\n",
    "\n",
    "- $\\phi = 1$: random walk\n",
    "- $\\phi = 0$: white noise\n",
    "\n",
    "- estacionaridade: $-1 < \\phi < 1$\n",
    "- $\\phi$ negativo: mean reversion\n",
    "- $\\phi$ positivo: momentum\n",
    "\n",
    "- AR(1)\n",
    "$$R_t = \\mu + \\phi_1 R_{t-1} + \\epsilon_t$$\n",
    "\n",
    "- AR(2)\n",
    "$$R_t = \\mu + \\phi_1 R_{t-1} + \\phi_2 R_{t-2} + \\epsilon_t$$\n",
    "\n",
    "- AR(3)\n",
    "$$R_t = \\mu + \\phi_1 R_{t-1} + \\phi_2 R_{t-2} + \\phi_3 R_{t-3} + \\epsilon_t$$"
   ]
  },
  {
   "cell_type": "markdown",
   "metadata": {},
   "source": [
    "**Identificando a ordem do modelo AR**\n",
    "\n",
    "- partial correlation function (PACF)\n"
   ]
  },
  {
   "cell_type": "code",
   "execution_count": 79,
   "metadata": {},
   "outputs": [],
   "source": [
    "# 15"
   ]
  },
  {
   "cell_type": "code",
   "execution_count": 80,
   "metadata": {},
   "outputs": [],
   "source": [
    "# 16"
   ]
  },
  {
   "cell_type": "code",
   "execution_count": 81,
   "metadata": {},
   "outputs": [],
   "source": [
    "# 17"
   ]
  },
  {
   "cell_type": "code",
   "execution_count": 82,
   "metadata": {},
   "outputs": [],
   "source": [
    "# 18"
   ]
  },
  {
   "cell_type": "code",
   "execution_count": 83,
   "metadata": {
    "ExecuteTime": {
     "end_time": "2021-02-19T16:23:54.753688Z",
     "start_time": "2021-02-19T16:23:54.671653Z"
    }
   },
   "outputs": [],
   "source": [
    "# 19"
   ]
  },
  {
   "cell_type": "code",
   "execution_count": 10,
   "metadata": {
    "ExecuteTime": {
     "end_time": "2021-02-19T16:23:55.008595Z",
     "start_time": "2021-02-19T16:23:54.756409Z"
    }
   },
   "outputs": [],
   "source": [
    "# 20"
   ]
  },
  {
   "cell_type": "code",
   "execution_count": 84,
   "metadata": {},
   "outputs": [],
   "source": [
    "# 21"
   ]
  },
  {
   "cell_type": "code",
   "execution_count": 85,
   "metadata": {},
   "outputs": [],
   "source": [
    "# 22"
   ]
  },
  {
   "cell_type": "code",
   "execution_count": 86,
   "metadata": {},
   "outputs": [],
   "source": [
    "# 23"
   ]
  },
  {
   "cell_type": "code",
   "execution_count": 87,
   "metadata": {},
   "outputs": [],
   "source": [
    "# 24"
   ]
  },
  {
   "cell_type": "code",
   "execution_count": 88,
   "metadata": {
    "ExecuteTime": {
     "end_time": "2021-02-19T16:23:55.046154Z",
     "start_time": "2021-02-19T16:23:55.010877Z"
    }
   },
   "outputs": [],
   "source": [
    "# 25"
   ]
  },
  {
   "cell_type": "code",
   "execution_count": 12,
   "metadata": {
    "ExecuteTime": {
     "end_time": "2021-02-19T16:23:55.155372Z",
     "start_time": "2021-02-19T16:23:55.052366Z"
    }
   },
   "outputs": [],
   "source": [
    "# 26"
   ]
  },
  {
   "cell_type": "code",
   "execution_count": 89,
   "metadata": {
    "ExecuteTime": {
     "end_time": "2021-02-19T16:23:55.696671Z",
     "start_time": "2021-02-19T16:23:55.159495Z"
    }
   },
   "outputs": [],
   "source": [
    "# 27"
   ]
  },
  {
   "cell_type": "code",
   "execution_count": 90,
   "metadata": {
    "ExecuteTime": {
     "end_time": "2021-02-19T16:23:56.056788Z",
     "start_time": "2021-02-19T16:23:55.698622Z"
    }
   },
   "outputs": [],
   "source": [
    "# 28"
   ]
  },
  {
   "cell_type": "code",
   "execution_count": 91,
   "metadata": {
    "ExecuteTime": {
     "end_time": "2021-02-19T16:23:56.362405Z",
     "start_time": "2021-02-19T16:23:56.058601Z"
    }
   },
   "outputs": [],
   "source": [
    "# 29"
   ]
  },
  {
   "cell_type": "code",
   "execution_count": 92,
   "metadata": {
    "ExecuteTime": {
     "end_time": "2021-02-19T16:23:56.372543Z",
     "start_time": "2021-02-19T16:23:56.365119Z"
    }
   },
   "outputs": [],
   "source": [
    "# 30"
   ]
  },
  {
   "cell_type": "code",
   "execution_count": 93,
   "metadata": {
    "ExecuteTime": {
     "end_time": "2021-02-19T16:23:56.495142Z",
     "start_time": "2021-02-19T16:23:56.374307Z"
    }
   },
   "outputs": [],
   "source": [
    "# 31"
   ]
  },
  {
   "cell_type": "code",
   "execution_count": 94,
   "metadata": {
    "ExecuteTime": {
     "end_time": "2021-02-19T16:23:56.994094Z",
     "start_time": "2021-02-19T16:23:56.499074Z"
    }
   },
   "outputs": [],
   "source": [
    "# 32"
   ]
  },
  {
   "cell_type": "code",
   "execution_count": 95,
   "metadata": {
    "ExecuteTime": {
     "end_time": "2021-02-19T16:23:57.207855Z",
     "start_time": "2021-02-19T16:23:56.995871Z"
    }
   },
   "outputs": [],
   "source": [
    "# 33"
   ]
  },
  {
   "cell_type": "code",
   "execution_count": null,
   "metadata": {},
   "outputs": [],
   "source": [
    "# 34"
   ]
  },
  {
   "cell_type": "code",
   "execution_count": 96,
   "metadata": {
    "ExecuteTime": {
     "end_time": "2021-02-19T16:23:58.134729Z",
     "start_time": "2021-02-19T16:23:57.291733Z"
    }
   },
   "outputs": [],
   "source": [
    "# 35"
   ]
  },
  {
   "cell_type": "code",
   "execution_count": 97,
   "metadata": {
    "ExecuteTime": {
     "end_time": "2021-02-19T16:23:58.434808Z",
     "start_time": "2021-02-19T16:23:58.137190Z"
    }
   },
   "outputs": [],
   "source": [
    "# 36"
   ]
  },
  {
   "cell_type": "code",
   "execution_count": 98,
   "metadata": {
    "ExecuteTime": {
     "end_time": "2021-02-19T16:23:58.447209Z",
     "start_time": "2021-02-19T16:23:58.437397Z"
    }
   },
   "outputs": [],
   "source": [
    "# 37"
   ]
  },
  {
   "cell_type": "markdown",
   "metadata": {},
   "source": [
    "## Moving average (MA)"
   ]
  },
  {
   "cell_type": "markdown",
   "metadata": {},
   "source": [
    "**Modelo MA**\n",
    "\n",
    "- MA(1)\n",
    "$$x_t = \\mu + w_t + \\theta_1 w_{t-1}$$\n",
    "\n",
    "- MA(2)\n",
    "$$x_t = \\mu + w_t + \\theta_1 w_{t-1} + \\theta_2 w_{t-2}$$\n",
    "\n",
    "- MA(3)\n",
    "$$x_t = \\mu + w_t + \\theta_1 w_{t-1} + \\theta_2 w_{t-2} + \\theta_3 w_{t-3}$$\n",
    "\n",
    "- MA(q)\n",
    "$$x_t = \\mu + w_t + \\theta_1 w_{t-1} + \\theta_2 w_{t-2} + ... + \\theta_q w_{t-q}$$\n",
    "\n",
    "Onde, $w_t ~ N(0, \\sigma^2_w)$, logo $w_t$ é iid a uma distribuição normal com média 0 e de mesma variância\n",
    "\n",
    "Alguns livros definem o sinal negativo antes dos temors $\\theta$, isso não altera as propriedades gerais do modelo. No R utiliza-se o sinal positivo!\n",
    "\n",
    "Para M(1)\n",
    "\n",
    "- Média:     $E(x_t) = \\mu$  \n",
    "- Variância: $Var(x_t) = \\sigma^2_w(1+\\theta^2_1)$   \n",
    "- ACF:       $\\rho_1 = \\frac{\\theta_1}{1 + \\theta^2_1}$\n",
    "\n",
    "Para M(2)\n",
    "- Média:     $E(x_t) = \\mu$  \n",
    "- Variância: $Var(x_t) = \\sigma^2_w(1+ \\theta^2_1 + \\theta^2_2)$   \n",
    "- ACF:       $\\rho_1 = \\frac{\\theta_1 + \\theta_1\\theta_2}{1 + \\theta^2_1 + \\theta^2_2}$, $\\rho_2 = \\frac{\\theta_2}{1 + \\theta^2_1 + \\theta^2_2}$ \n",
    "\n"
   ]
  },
  {
   "cell_type": "code",
   "execution_count": 99,
   "metadata": {
    "ExecuteTime": {
     "end_time": "2021-02-19T16:23:58.531666Z",
     "start_time": "2021-02-19T16:23:58.449798Z"
    }
   },
   "outputs": [],
   "source": [
    "# 38"
   ]
  },
  {
   "cell_type": "code",
   "execution_count": 100,
   "metadata": {
    "ExecuteTime": {
     "end_time": "2021-02-19T16:23:59.056082Z",
     "start_time": "2021-02-19T16:23:58.534299Z"
    }
   },
   "outputs": [],
   "source": [
    "# 39"
   ]
  },
  {
   "cell_type": "code",
   "execution_count": 101,
   "metadata": {
    "ExecuteTime": {
     "end_time": "2021-02-19T16:23:59.503730Z",
     "start_time": "2021-02-19T16:23:59.062820Z"
    },
    "scrolled": true
   },
   "outputs": [],
   "source": [
    "# 40"
   ]
  },
  {
   "cell_type": "markdown",
   "metadata": {},
   "source": [
    "**Previsão com modelo MA**"
   ]
  },
  {
   "cell_type": "code",
   "execution_count": 102,
   "metadata": {
    "ExecuteTime": {
     "end_time": "2021-02-19T16:23:59.736219Z",
     "start_time": "2021-02-19T16:23:59.508184Z"
    }
   },
   "outputs": [],
   "source": [
    "# 41"
   ]
  },
  {
   "cell_type": "code",
   "execution_count": 103,
   "metadata": {
    "ExecuteTime": {
     "end_time": "2021-02-19T16:24:00.040296Z",
     "start_time": "2021-02-19T16:23:59.738975Z"
    }
   },
   "outputs": [],
   "source": [
    "# 42"
   ]
  },
  {
   "cell_type": "markdown",
   "metadata": {},
   "source": [
    "## Modelos ARMA"
   ]
  },
  {
   "cell_type": "markdown",
   "metadata": {},
   "source": [
    "![](https://image1.slideserve.com/1710867/slide34-l.jpg)\n",
    "\n",
    "**Modelo ARMA**\n",
    "\n",
    "- ARMA(1, 1):\n",
    "$$R_t = \\mu + \\phi R_{t-1} + \\epsilon_t + \\theta \\epsilon_{t-1}$$"
   ]
  },
  {
   "cell_type": "code",
   "execution_count": 107,
   "metadata": {
    "ExecuteTime": {
     "end_time": "2021-02-19T16:25:30.058359Z",
     "start_time": "2021-02-19T16:25:27.550629Z"
    }
   },
   "outputs": [],
   "source": [
    "# 43"
   ]
  },
  {
   "cell_type": "code",
   "execution_count": 108,
   "metadata": {
    "ExecuteTime": {
     "end_time": "2021-02-19T16:25:30.629707Z",
     "start_time": "2021-02-19T16:25:30.060896Z"
    }
   },
   "outputs": [],
   "source": [
    "# 44\n"
   ]
  },
  {
   "cell_type": "code",
   "execution_count": 31,
   "metadata": {
    "ExecuteTime": {
     "end_time": "2021-02-19T16:25:30.637591Z",
     "start_time": "2021-02-19T16:25:30.633076Z"
    }
   },
   "outputs": [],
   "source": [
    "# 45"
   ]
  },
  {
   "cell_type": "code",
   "execution_count": 110,
   "metadata": {
    "ExecuteTime": {
     "end_time": "2021-02-19T16:25:31.521076Z",
     "start_time": "2021-02-19T16:25:30.640146Z"
    }
   },
   "outputs": [],
   "source": [
    "# 46"
   ]
  },
  {
   "cell_type": "code",
   "execution_count": 111,
   "metadata": {
    "ExecuteTime": {
     "end_time": "2021-02-19T16:25:31.532692Z",
     "start_time": "2021-02-19T16:25:31.524418Z"
    }
   },
   "outputs": [],
   "source": [
    "# 47"
   ]
  },
  {
   "cell_type": "code",
   "execution_count": 112,
   "metadata": {
    "ExecuteTime": {
     "end_time": "2021-02-19T16:25:32.165424Z",
     "start_time": "2021-02-19T16:25:31.535744Z"
    }
   },
   "outputs": [],
   "source": [
    "# 48"
   ]
  },
  {
   "cell_type": "code",
   "execution_count": 55,
   "metadata": {
    "ExecuteTime": {
     "end_time": "2021-02-19T16:25:33.029025Z",
     "start_time": "2021-02-19T16:25:32.167643Z"
    }
   },
   "outputs": [
    {
     "name": "stdout",
     "output_type": "stream",
     "text": [
      "P-value de CL=F é 4.1107622390964046e-29; ou seja, é estacionária? True\n",
      "P-value de GOLL4.SA é 2.716565974795641e-27; ou seja, é estacionária? True\n"
     ]
    }
   ],
   "source": [
    "# 49"
   ]
  },
  {
   "cell_type": "code",
   "execution_count": 113,
   "metadata": {
    "ExecuteTime": {
     "end_time": "2021-02-19T16:25:34.536961Z",
     "start_time": "2021-02-19T16:25:33.052457Z"
    }
   },
   "outputs": [],
   "source": [
    "# 50"
   ]
  },
  {
   "cell_type": "code",
   "execution_count": 114,
   "metadata": {
    "ExecuteTime": {
     "end_time": "2021-02-19T16:27:09.624144Z",
     "start_time": "2021-02-19T16:27:08.840116Z"
    }
   },
   "outputs": [],
   "source": [
    "# 51"
   ]
  },
  {
   "cell_type": "markdown",
   "metadata": {},
   "source": [
    "## Akaike Information Criterion\n",
    "- AIC mais baixo => melhor modelo"
   ]
  },
  {
   "cell_type": "code",
   "execution_count": 66,
   "metadata": {
    "ExecuteTime": {
     "end_time": "2021-02-19T16:27:27.025999Z",
     "start_time": "2021-02-19T16:27:24.226221Z"
    }
   },
   "outputs": [],
   "source": [
    "# 52"
   ]
  },
  {
   "cell_type": "code",
   "execution_count": 67,
   "metadata": {
    "ExecuteTime": {
     "end_time": "2021-02-19T16:27:29.237786Z",
     "start_time": "2021-02-19T16:27:29.232272Z"
    }
   },
   "outputs": [],
   "source": [
    "# 53\n"
   ]
  },
  {
   "cell_type": "code",
   "execution_count": 115,
   "metadata": {
    "ExecuteTime": {
     "end_time": "2021-02-19T16:27:30.568608Z",
     "start_time": "2021-02-19T16:27:30.537832Z"
    }
   },
   "outputs": [],
   "source": [
    "# 54"
   ]
  },
  {
   "cell_type": "markdown",
   "metadata": {},
   "source": [
    "## Modelos ARIMA"
   ]
  },
  {
   "cell_type": "markdown",
   "metadata": {},
   "source": [
    "- p: número de defasagens autoregressivas\n",
    "- d: ordem da diferença das defasagens\n",
    "- q: número de defasagens das médias móveis\n",
    "\n",
    "Ou seja, $p$ refere-se ao (AR), $d$ ao (I), e $p$ ao (MA)\n",
    "\n",
    "Onde:\n",
    "\n",
    "$$ (d=0): y'_t = Y_t$$\n",
    "$$ (d=1): y'_t = Y_t - Y_{t-1}$$ \n",
    "$$ (d=2): y'_t = (Y_t - Y_{t-1}) - (Y_{t-1} - Y_{t-2})$$\n",
    "\n",
    "Logo temos:  \n",
    "A parte do ARI  (autoregressivo e integrated)  \n",
    "$y'_{t} = \\mu + \\phi_1 y'_{t-1} +  ... + \\phi_p y'_{t-p} +\\epsilon_t$\n",
    "E para MA temos:  \n",
    "$y'_{t} = \\theta_1 w_{t-1} + ... + \\theta_q w_{t-q}$\n",
    "\n",
    "Juntando as duas formulas:  \n",
    "$y'_{t} = \\mu + \\phi_1 y'_{t-1} +  ... + \\phi_p y'_{t-p}\n",
    "+ \\theta_1 w_{t-1} + ... + \\theta_q w_{t-q} +\\epsilon_t$\n",
    "\n",
    "Quando muitos componentes são combinados é mais simples utilizar a anotação de backshift. Por exemplo, a equação acima pode ser escrita como:  \n",
    "$(1 - \\phi_1 B + ... + \\phi+_p B^p) (1-B)^dy_t = c + (1 + \\theta_1B + ... + \\theta_q B^q)w_t$  \n",
    "\n",
    " | AR(p)..................................| d diff........................|...................MA..................|"
   ]
  },
  {
   "cell_type": "code",
   "execution_count": 116,
   "metadata": {
    "ExecuteTime": {
     "end_time": "2021-02-19T16:28:03.263214Z",
     "start_time": "2021-02-19T16:28:03.257412Z"
    }
   },
   "outputs": [],
   "source": [
    "# 55"
   ]
  },
  {
   "cell_type": "code",
   "execution_count": 117,
   "metadata": {
    "ExecuteTime": {
     "end_time": "2021-02-19T16:28:06.175344Z",
     "start_time": "2021-02-19T16:28:05.605019Z"
    }
   },
   "outputs": [],
   "source": [
    "# 56"
   ]
  },
  {
   "cell_type": "code",
   "execution_count": 118,
   "metadata": {
    "ExecuteTime": {
     "end_time": "2021-02-19T16:28:22.010615Z",
     "start_time": "2021-02-19T16:28:21.755798Z"
    }
   },
   "outputs": [],
   "source": [
    "# 57"
   ]
  },
  {
   "cell_type": "code",
   "execution_count": 119,
   "metadata": {
    "ExecuteTime": {
     "end_time": "2021-02-19T16:28:27.331379Z",
     "start_time": "2021-02-19T16:28:27.324920Z"
    }
   },
   "outputs": [],
   "source": [
    "# 58"
   ]
  },
  {
   "cell_type": "code",
   "execution_count": null,
   "metadata": {},
   "outputs": [],
   "source": []
  }
 ],
 "metadata": {
  "kernelspec": {
   "display_name": "Python 3 (ipykernel)",
   "language": "python",
   "name": "python3"
  },
  "language_info": {
   "codemirror_mode": {
    "name": "ipython",
    "version": 3
   },
   "file_extension": ".py",
   "mimetype": "text/x-python",
   "name": "python",
   "nbconvert_exporter": "python",
   "pygments_lexer": "ipython3",
   "version": "3.8.12"
  },
  "toc": {
   "base_numbering": 1,
   "nav_menu": {},
   "number_sections": true,
   "sideBar": true,
   "skip_h1_title": false,
   "title_cell": "Table of Contents",
   "title_sidebar": "Contents",
   "toc_cell": false,
   "toc_position": {},
   "toc_section_display": true,
   "toc_window_display": false
  },
  "varInspector": {
   "cols": {
    "lenName": 16,
    "lenType": 16,
    "lenVar": 40
   },
   "kernels_config": {
    "python": {
     "delete_cmd_postfix": "",
     "delete_cmd_prefix": "del ",
     "library": "var_list.py",
     "varRefreshCmd": "print(var_dic_list())"
    },
    "r": {
     "delete_cmd_postfix": ") ",
     "delete_cmd_prefix": "rm(",
     "library": "var_list.r",
     "varRefreshCmd": "cat(var_dic_list()) "
    }
   },
   "types_to_exclude": [
    "module",
    "function",
    "builtin_function_or_method",
    "instance",
    "_Feature"
   ],
   "window_display": false
  }
 },
 "nbformat": 4,
 "nbformat_minor": 4
}
