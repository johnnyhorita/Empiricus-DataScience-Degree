{
 "cells": [
  {
   "cell_type": "markdown",
   "id": "6bbe1be8-11db-48e4-9bd6-d5e52c0a190e",
   "metadata": {},
   "source": [
    "# Exercícios"
   ]
  },
  {
   "cell_type": "code",
   "execution_count": 3,
   "id": "dcf2db38-4ff1-4d6f-873f-425e6846e372",
   "metadata": {},
   "outputs": [],
   "source": [
    "from scipy import stats\n",
    "import numpy as np\n",
    "import pandas as pd\n",
    "import seaborn as sns\n",
    "import matplotlib.pyplot as plt\n",
    "import statsmodels.api as sm\n",
    "from statsmodels.formula.api import ols\n"
   ]
  },
  {
   "cell_type": "markdown",
   "id": "f414b840-5a09-4551-beb3-cd6ae7a09c7c",
   "metadata": {},
   "source": [
    "- Uma urna contém duas bolas brancas (B) e três bolas vermelhas. Suponha que são sorteadas duas bolas ao acaso, sem reposição. Isso significa que escolhemos a primeira bola, verificamos sua cor e não a devolvemos à urna. Misturamos as bolas restantes e retiramos a segunda. \n",
    "    - Qual a probabilidade de sair bola branca na segunda extração?\n",
    "    - Dado que na primeira extração foi retirada uma bola branca, qual a probabilidade da segunda extração ser da bola vermelha?"
   ]
  },
  {
   "cell_type": "code",
   "execution_count": 6,
   "id": "2ec2b329-5987-4fb0-a912-89eb30c58955",
   "metadata": {},
   "outputs": [
    {
     "data": {
      "text/plain": [
       "0.4"
      ]
     },
     "execution_count": 6,
     "metadata": {},
     "output_type": "execute_result"
    }
   ],
   "source": [
    "#a\n",
    "#P(bb ou vb) = P(bb) + P(vb)\n",
    "((2/5)*(1/4))+((3/5)*(2/4))"
   ]
  },
  {
   "cell_type": "code",
   "execution_count": 7,
   "id": "41c03b5c-54fc-4d2e-a299-abe93a8629a6",
   "metadata": {},
   "outputs": [
    {
     "data": {
      "text/plain": [
       "0.75"
      ]
     },
     "execution_count": 7,
     "metadata": {},
     "output_type": "execute_result"
    }
   ],
   "source": [
    "#b\n",
    "#P(v|b) = P(v e b)/P(b) = P(v no segundo)\n",
    "3/4"
   ]
  },
  {
   "cell_type": "markdown",
   "id": "783d3e07-299a-4feb-8a2b-7d16bb0ff31e",
   "metadata": {},
   "source": [
    "- Num teste de multipla escolha o estudante sabe uma resposta com probabilidade $p$ e chuta uma resposta com probabilidade $1-p$. Sendo $m$ a quantidade de alternativas (igual para todas as questões), e assumindo que o estudante chutou, ele tem uma probabilidade de acertar de $\\frac{1}{m}$.\n",
    "    - Sabendo-se que o estudante acertou a questão, qual é a probabilidade dele realmente saber a resposta? \n",
    "    \n",
    "*obs.: podem fazer de forma genérica ou substituirem valores para $p$ e $m$"
   ]
  },
  {
   "cell_type": "markdown",
   "id": "8866caa3-5f4c-4dd6-86fe-3d78253bb4f1",
   "metadata": {},
   "source": [
    "- S: Saber\n",
    "- C: Correto\n",
    "\n",
    "$$P(S|C) = \\dfrac{P(S)P(C|S)}{P(S)P(C|S) + P(\\lnot S)P(C|\\lnot S)}$$\n",
    "\n",
    "mas\n",
    "\n",
    "- $P(S) = p$\n",
    "- $P(\\lnot S) = 1-p$\n",
    "- $P(C|\\lnot S) = \\frac{1}{m}$\n",
    "- $P(C|S) = 1$\n",
    "\n",
    "e portanto\n",
    "\n",
    "$$P(S|C) = \\dfrac{p}{p + (1-p)\\frac{1}{m}} = \\dfrac{mp}{1+(m-1)p}$$\n"
   ]
  },
  {
   "cell_type": "markdown",
   "id": "8bd11d66-b6c2-4706-8686-4e0047cded58",
   "metadata": {},
   "source": [
    "- Suponha que o limite de uma estrada é de 80km/h e, a partir da medição por radar, sabe-se que nessa rodovia a velocidade dos veículo $X$ segue uma distribuição normal com média de 72km/h e desvio padrão de 8 km/h.\n",
    "    - Qual a probabilidade de um veículo ser multado?\n",
    "    - Além da multa, se um veículo ultrapassar o limite em 30km/h, o motorista perde a carteira. Considerando apenas os infratores de velocidade, qual a probabilidade dele perder a carteira?\n",
    "    "
   ]
  },
  {
   "cell_type": "code",
   "execution_count": 8,
   "id": "74f6ad85-7e56-4e3e-a1ea-993de6171562",
   "metadata": {},
   "outputs": [
    {
     "data": {
      "text/plain": [
       "0.15865525393145707"
      ]
     },
     "execution_count": 8,
     "metadata": {},
     "output_type": "execute_result"
    }
   ],
   "source": [
    "#P(X > 80) = 1 - P(X<=80)\n",
    "rv = stats.norm(72, 8)\n",
    "1-rv.cdf(80)"
   ]
  },
  {
   "cell_type": "code",
   "execution_count": 9,
   "id": "9eea9934-36de-4ac7-a6d2-09c1178481e3",
   "metadata": {},
   "outputs": [
    {
     "data": {
      "text/plain": [
       "1.017083242516037e-06"
      ]
     },
     "execution_count": 9,
     "metadata": {},
     "output_type": "execute_result"
    }
   ],
   "source": [
    "#P(X > 110| X> 80) = P(X>110) = 1 - P(X<=110)\n",
    "1 - rv.cdf(110)"
   ]
  },
  {
   "cell_type": "code",
   "execution_count": null,
   "id": "182ea402-0b78-4ca7-95e5-aa281e85aa8c",
   "metadata": {},
   "outputs": [],
   "source": [
    "#P(80 < 110 < X )\n",
    "1 - rv.cdf(110)"
   ]
  },
  {
   "cell_type": "markdown",
   "id": "17df2c74-5ecf-49ce-8118-4d10a7f618e0",
   "metadata": {},
   "source": [
    "- Suponha que a probabilidade de uma criança nascer loira é de 1/4. Se houverem 6 crianças na família, qual é a probabilidade de 3 dele serem loiros?"
   ]
  },
  {
   "cell_type": "code",
   "execution_count": 4,
   "id": "0bbb476a-e6e4-44b7-87bf-c5c11b5615fe",
   "metadata": {},
   "outputs": [
    {
     "data": {
      "text/plain": [
       "0.13183593750000008"
      ]
     },
     "execution_count": 4,
     "metadata": {},
     "output_type": "execute_result"
    }
   ],
   "source": [
    "#X~Bin(6,0.25)\n",
    "#P(X = 3)\n",
    "rv = stats.binom(6, 0.25)\n",
    "rv.pmf(3)"
   ]
  },
  {
   "cell_type": "markdown",
   "id": "229db1ae-e7ac-47fb-9e35-d5e78ee24dd2",
   "metadata": {},
   "source": [
    "- Se a probabilidade de atingir um alvo com um único disparo é de 0.3. Qual é a probabilidade de, em 4 disparos, atingirmos o alvo ao menos 3 vezes?\n"
   ]
  },
  {
   "cell_type": "code",
   "execution_count": 11,
   "id": "a88020b8-bd22-4b6b-82c1-373c4c491e38",
   "metadata": {},
   "outputs": [
    {
     "data": {
      "text/plain": [
       "0.0837"
      ]
     },
     "execution_count": 11,
     "metadata": {},
     "output_type": "execute_result"
    }
   ],
   "source": [
    "#X~Bin(4,0.3)\n",
    "#P(X >= 3) = 1 - P(X < 3) = 1 - P(X <= 2)\n",
    "rv = stats.binom(4, 0.3)\n",
    "1-rv.cdf(2)"
   ]
  },
  {
   "cell_type": "code",
   "execution_count": 5,
   "id": "82ab55a2-1d3c-4120-a792-83d509ad3d03",
   "metadata": {},
   "outputs": [
    {
     "data": {
      "text/plain": [
       "0.83056640625"
      ]
     },
     "execution_count": 5,
     "metadata": {},
     "output_type": "execute_result"
    }
   ],
   "source": [
    "rv.cdf(2)"
   ]
  },
  {
   "cell_type": "code",
   "execution_count": 6,
   "id": "37dac270-aea4-4f3e-9ced-7a2a79f755c2",
   "metadata": {},
   "outputs": [
    {
     "data": {
      "text/plain": [
       "2.0"
      ]
     },
     "execution_count": 6,
     "metadata": {},
     "output_type": "execute_result"
    }
   ],
   "source": [
    "rv.ppf(0.83056640625)"
   ]
  },
  {
   "cell_type": "markdown",
   "id": "7759d93d-5ea0-4c95-b059-3710133469d0",
   "metadata": {},
   "source": [
    "- Suponha que o número de meteoros registrados por um sistema de radares num intervalo qualquer de 30 segundos é de 1.81 em média. Assumindo que os meteoros aparecem aleatoriamente e de forma independente. Usando a distribuição de Poisson determine:\n",
    "    - A probabilidade de que nenhum meteoro seja encontrado num intervalo de 1 minuto.\n",
    "    - A probabilidade encontrarmos de 5 a 8 meteoros em 2 minutos."
   ]
  },
  {
   "cell_type": "code",
   "execution_count": 12,
   "id": "6acebf93-fcee-4a4d-8303-b6cd1cd3b16e",
   "metadata": {},
   "outputs": [
    {
     "data": {
      "text/plain": [
       "0.026782676492638175"
      ]
     },
     "execution_count": 12,
     "metadata": {},
     "output_type": "execute_result"
    }
   ],
   "source": [
    "#X~Poisson(k*lambda)\n",
    "#P(X = 0| lambda = 2*1.81)\n",
    "rv = stats.poisson(2*1.81)\n",
    "rv.pmf(0)"
   ]
  },
  {
   "cell_type": "code",
   "execution_count": 15,
   "id": "a74df928-91a0-40e1-a253-c71fad3b2e86",
   "metadata": {},
   "outputs": [
    {
     "data": {
      "text/plain": [
       "0.5451062052204809"
      ]
     },
     "execution_count": 15,
     "metadata": {},
     "output_type": "execute_result"
    }
   ],
   "source": [
    "#X~Poisson(k*lambda)\n",
    "#P(5 <= X <= 8| lambda = 4*1.81) = P(X<=8) - P(X<=4)\n",
    "rv = stats.poisson(4*1.81)\n",
    "rv.cdf(8) - rv.cdf(4)"
   ]
  },
  {
   "cell_type": "markdown",
   "id": "349bfc5c-671a-49f6-bc97-a4dac3643be7",
   "metadata": {},
   "source": [
    "- O número médio de jornais vendidos numa banca é 5 jornais por minuto. Qual é a probabilidade de vender ao menos 1 jornal em um minuto?"
   ]
  },
  {
   "cell_type": "code",
   "execution_count": 10,
   "id": "7df828a2-5f30-469a-86fd-56d21f317946",
   "metadata": {},
   "outputs": [
    {
     "data": {
      "text/plain": [
       "0.9932620530009145"
      ]
     },
     "execution_count": 10,
     "metadata": {},
     "output_type": "execute_result"
    }
   ],
   "source": [
    "#X ~ Poisson(5)\n",
    "#P(X>=1) = 1 - P(X<1) = 1-P(X=0)\n",
    "rv = stats.poisson(5)\n",
    "1-rv.pmf(0)"
   ]
  },
  {
   "cell_type": "code",
   "execution_count": 11,
   "id": "b40b2875-4d38-48cb-93aa-7be4ff3d10b8",
   "metadata": {},
   "outputs": [
    {
     "data": {
      "text/plain": [
       "0.9932620530009145"
      ]
     },
     "execution_count": 11,
     "metadata": {},
     "output_type": "execute_result"
    }
   ],
   "source": [
    "1-rv.cdf(0)"
   ]
  },
  {
   "cell_type": "markdown",
   "id": "304398b1-5bdd-416e-8514-867f736c89eb",
   "metadata": {},
   "source": [
    "- Jane iniciou um novo trabalha como representante de vendas numa empresa extremamente competitiva, ao ponto de exigirem que novos colaboradores batem uma meta de 100 reais por contrato. Numa amostra coletada pela gerente de Jane de 16 vendas, observou-se que a média de valor fechado nos contratos foi de 108 reais com um desvio de 12 reais. Considerando uma confiança de 95%, a gerente poderia seguir com a contratação da Jane ou ela precisaria ser desligada de acordo com as políticas da empresa?"
   ]
  },
  {
   "cell_type": "markdown",
   "id": "05eb6ce2-e6fc-4f99-bf47-2342b8a2e1a5",
   "metadata": {},
   "source": [
    "ho: 108 => mu\n",
    "h1: 108 < mu"
   ]
  },
  {
   "cell_type": "markdown",
   "id": "6ee6147d-7717-48e6-8123-7154c63c19fc",
   "metadata": {},
   "source": [
    "h0: mu >= 100\n",
    "H1: mu < 100"
   ]
  },
  {
   "cell_type": "markdown",
   "id": "07b47ed8-2ee5-4ba9-91ab-7ca90bf7f854",
   "metadata": {},
   "source": [
    "alpha = 5%"
   ]
  },
  {
   "cell_type": "markdown",
   "id": "eb0432d2-8fe4-4f97-838e-77dc29947d0a",
   "metadata": {},
   "source": [
    "mu0 = 100\n",
    "mu1 = 108\n",
    "std = 12/4\n"
   ]
  },
  {
   "cell_type": "markdown",
   "id": "714604f5-7d55-4908-ba8a-932f6bae04f9",
   "metadata": {},
   "source": [
    "mu1 - 100/std"
   ]
  },
  {
   "cell_type": "markdown",
   "id": "c9a54b99-c94b-4f42-aaeb-f6613b8bcca6",
   "metadata": {},
   "source": [
    "108 - 100/std"
   ]
  },
  {
   "cell_type": "code",
   "execution_count": null,
   "id": "d8efc6f0-7b14-42c2-88f6-878774e73527",
   "metadata": {},
   "outputs": [],
   "source": []
  },
  {
   "cell_type": "markdown",
   "id": "8bbf3cbe-b6eb-42b5-86a7-52bb7aa8b5da",
   "metadata": {},
   "source": [
    "- $H_0: \\mu <= 100$\n",
    "- $H_1: \\mu > 100$\n",
    "- $\\alpha = 0.05$\n",
    "\n",
    "$$\\overline{X} \\sim N(100, \\frac{144}{16}) \\rightarrow Z = \\dfrac{\\overline{X} - 100}{3} \\sim N(0, 1)$$\n",
    "\n",
    "$$\\alpha = P(\\text{Erro Tipo I}) \\rightarrow z = \\dfrac{x_c - 100}{3} = 1.645$$\n",
    "$$RC = \\{X \\in [104.935; \\infty)\\}$$\n",
    "\n",
    "Portanto rejeitamos H0 e Jane pode seguir feliz repensando sua escolha de empresa enquanto recebe seu salário"
   ]
  },
  {
   "cell_type": "code",
   "execution_count": 12,
   "id": "f758b380-8e25-46de-a5b4-97e6e5b78dcb",
   "metadata": {},
   "outputs": [
    {
     "data": {
      "text/plain": [
       "104.935"
      ]
     },
     "execution_count": 12,
     "metadata": {},
     "output_type": "execute_result"
    }
   ],
   "source": [
    "1.645*3+100"
   ]
  },
  {
   "cell_type": "markdown",
   "id": "db3511d6-5f90-4d1d-8f23-b0ac12d0fc2d",
   "metadata": {},
   "source": [
    "$\\alpha = 0.05$\n",
    "\n",
    "$$T = \\dfrac{\\overline{X} - 100}{3} \\sim t(15)$$\n",
    "\n",
    "$$\\alpha = P(\\text{Erro Tipo I}) \\rightarrow t = \\dfrac{x_c - 100}{3} = 1.753$$\n",
    "$$RC = \\{X \\in [105.259; \\infty)\\}$$"
   ]
  },
  {
   "cell_type": "code",
   "execution_count": 13,
   "id": "c7aeaac0-1b83-4f9e-9344-c4ee542743b3",
   "metadata": {},
   "outputs": [],
   "source": [
    "rv = stats.t(15)"
   ]
  },
  {
   "cell_type": "code",
   "execution_count": 15,
   "id": "b964ac96-0a47-4bdc-be42-5190034113c8",
   "metadata": {},
   "outputs": [
    {
     "data": {
      "text/plain": [
       "105.259"
      ]
     },
     "execution_count": 15,
     "metadata": {},
     "output_type": "execute_result"
    }
   ],
   "source": [
    "3*1.753+100"
   ]
  },
  {
   "cell_type": "code",
   "execution_count": 14,
   "id": "eda66db2-a2bc-4339-91c1-fc3f84de8d57",
   "metadata": {},
   "outputs": [
    {
     "data": {
      "text/plain": [
       "1.7530503556925547"
      ]
     },
     "execution_count": 14,
     "metadata": {},
     "output_type": "execute_result"
    }
   ],
   "source": [
    "rv.ppf(0.95)"
   ]
  },
  {
   "cell_type": "markdown",
   "id": "c9260793-3192-4a8b-b514-309ff453375d",
   "metadata": {},
   "source": [
    "H0: mu >= 100\n",
    "h1: mu < 100"
   ]
  },
  {
   "cell_type": "code",
   "execution_count": 17,
   "id": "e51f084f-b6cc-43f0-96d3-9612a9cc843e",
   "metadata": {},
   "outputs": [
    {
     "data": {
      "text/plain": [
       "94.74084893292233"
      ]
     },
     "execution_count": 17,
     "metadata": {},
     "output_type": "execute_result"
    }
   ],
   "source": [
    "rv.ppf(0.05)*3 + 100"
   ]
  },
  {
   "cell_type": "markdown",
   "id": "c5c4d2c0-c1a4-4155-87d1-ebc26591f1d3",
   "metadata": {},
   "source": [
    "$$RC = \\{X \\in (-\\infty; 94.74]\\}$$"
   ]
  },
  {
   "cell_type": "markdown",
   "id": "85779da6-1836-4e3c-abdf-8bc22e2f2043",
   "metadata": {},
   "source": [
    "- Considerando os dados de população do IBGE de 2010, apresente as métricas características dessa população e aponte dados discrepântes. \n",
    "- Calcule o intervalo de confiânça para a média, a um nível de 95%, assumindo que os dados tem distribuição normal. Utilizando boostraping temos uma alteração significativa nesse intervalo?\n",
    "- Temos indícios para afirmar que o valor médio da população nas UFs brasileira é diferente de 8 milhões? \n"
   ]
  },
  {
   "cell_type": "code",
   "execution_count": 19,
   "id": "5ca94057-3e0a-4e68-bb68-76ccf56d443e",
   "metadata": {
    "scrolled": true,
    "tags": []
   },
   "outputs": [
    {
     "data": {
      "text/html": [
       "<div>\n",
       "<style scoped>\n",
       "    .dataframe tbody tr th:only-of-type {\n",
       "        vertical-align: middle;\n",
       "    }\n",
       "\n",
       "    .dataframe tbody tr th {\n",
       "        vertical-align: top;\n",
       "    }\n",
       "\n",
       "    .dataframe thead th {\n",
       "        text-align: right;\n",
       "    }\n",
       "</style>\n",
       "<table border=\"1\" class=\"dataframe\">\n",
       "  <thead>\n",
       "    <tr style=\"text-align: right;\">\n",
       "      <th></th>\n",
       "      <th>estado</th>\n",
       "      <th>populacao</th>\n",
       "    </tr>\n",
       "  </thead>\n",
       "  <tbody>\n",
       "    <tr>\n",
       "      <th>0</th>\n",
       "      <td>Rondônia</td>\n",
       "      <td>1562409</td>\n",
       "    </tr>\n",
       "    <tr>\n",
       "      <th>1</th>\n",
       "      <td>Acre</td>\n",
       "      <td>733559</td>\n",
       "    </tr>\n",
       "    <tr>\n",
       "      <th>2</th>\n",
       "      <td>Amazonas</td>\n",
       "      <td>3483985</td>\n",
       "    </tr>\n",
       "    <tr>\n",
       "      <th>3</th>\n",
       "      <td>Roraima</td>\n",
       "      <td>450479</td>\n",
       "    </tr>\n",
       "    <tr>\n",
       "      <th>4</th>\n",
       "      <td>Pará</td>\n",
       "      <td>7581051</td>\n",
       "    </tr>\n",
       "    <tr>\n",
       "      <th>5</th>\n",
       "      <td>Amapá</td>\n",
       "      <td>669526</td>\n",
       "    </tr>\n",
       "    <tr>\n",
       "      <th>6</th>\n",
       "      <td>Tocantins</td>\n",
       "      <td>1383445</td>\n",
       "    </tr>\n",
       "    <tr>\n",
       "      <th>7</th>\n",
       "      <td>Maranhão</td>\n",
       "      <td>6574789</td>\n",
       "    </tr>\n",
       "    <tr>\n",
       "      <th>8</th>\n",
       "      <td>Piauí</td>\n",
       "      <td>3118360</td>\n",
       "    </tr>\n",
       "    <tr>\n",
       "      <th>9</th>\n",
       "      <td>Ceará</td>\n",
       "      <td>8452381</td>\n",
       "    </tr>\n",
       "    <tr>\n",
       "      <th>10</th>\n",
       "      <td>Rio Grande do Norte</td>\n",
       "      <td>3168027</td>\n",
       "    </tr>\n",
       "    <tr>\n",
       "      <th>11</th>\n",
       "      <td>Paraíba</td>\n",
       "      <td>3766528</td>\n",
       "    </tr>\n",
       "    <tr>\n",
       "      <th>12</th>\n",
       "      <td>Pernambuco</td>\n",
       "      <td>8796448</td>\n",
       "    </tr>\n",
       "    <tr>\n",
       "      <th>13</th>\n",
       "      <td>Alagoas</td>\n",
       "      <td>3120494</td>\n",
       "    </tr>\n",
       "    <tr>\n",
       "      <th>14</th>\n",
       "      <td>Sergipe</td>\n",
       "      <td>2068017</td>\n",
       "    </tr>\n",
       "    <tr>\n",
       "      <th>15</th>\n",
       "      <td>Bahia</td>\n",
       "      <td>14016906</td>\n",
       "    </tr>\n",
       "    <tr>\n",
       "      <th>16</th>\n",
       "      <td>Minas Gerais</td>\n",
       "      <td>19597330</td>\n",
       "    </tr>\n",
       "    <tr>\n",
       "      <th>17</th>\n",
       "      <td>Espírito Santo</td>\n",
       "      <td>3514952</td>\n",
       "    </tr>\n",
       "    <tr>\n",
       "      <th>18</th>\n",
       "      <td>Rio de Janeiro</td>\n",
       "      <td>15989929</td>\n",
       "    </tr>\n",
       "    <tr>\n",
       "      <th>19</th>\n",
       "      <td>São Paulo</td>\n",
       "      <td>41262199</td>\n",
       "    </tr>\n",
       "    <tr>\n",
       "      <th>20</th>\n",
       "      <td>Paraná</td>\n",
       "      <td>10444526</td>\n",
       "    </tr>\n",
       "    <tr>\n",
       "      <th>21</th>\n",
       "      <td>Santa Catarina</td>\n",
       "      <td>6248436</td>\n",
       "    </tr>\n",
       "    <tr>\n",
       "      <th>22</th>\n",
       "      <td>Rio Grande do Sul</td>\n",
       "      <td>10693929</td>\n",
       "    </tr>\n",
       "    <tr>\n",
       "      <th>23</th>\n",
       "      <td>Mato Grosso do Sul</td>\n",
       "      <td>2449024</td>\n",
       "    </tr>\n",
       "    <tr>\n",
       "      <th>24</th>\n",
       "      <td>Mato Grosso</td>\n",
       "      <td>3035122</td>\n",
       "    </tr>\n",
       "    <tr>\n",
       "      <th>25</th>\n",
       "      <td>Goiás</td>\n",
       "      <td>6003788</td>\n",
       "    </tr>\n",
       "    <tr>\n",
       "      <th>26</th>\n",
       "      <td>Distrito Federal</td>\n",
       "      <td>2570160</td>\n",
       "    </tr>\n",
       "  </tbody>\n",
       "</table>\n",
       "</div>"
      ],
      "text/plain": [
       "                 estado  populacao\n",
       "0              Rondônia    1562409\n",
       "1                  Acre     733559\n",
       "2              Amazonas    3483985\n",
       "3               Roraima     450479\n",
       "4                  Pará    7581051\n",
       "5                 Amapá     669526\n",
       "6             Tocantins    1383445\n",
       "7              Maranhão    6574789\n",
       "8                 Piauí    3118360\n",
       "9                 Ceará    8452381\n",
       "10  Rio Grande do Norte    3168027\n",
       "11              Paraíba    3766528\n",
       "12           Pernambuco    8796448\n",
       "13              Alagoas    3120494\n",
       "14              Sergipe    2068017\n",
       "15                Bahia   14016906\n",
       "16         Minas Gerais   19597330\n",
       "17       Espírito Santo    3514952\n",
       "18       Rio de Janeiro   15989929\n",
       "19            São Paulo   41262199\n",
       "20               Paraná   10444526\n",
       "21       Santa Catarina    6248436\n",
       "22    Rio Grande do Sul   10693929\n",
       "23   Mato Grosso do Sul    2449024\n",
       "24          Mato Grosso    3035122\n",
       "25                Goiás    6003788\n",
       "26     Distrito Federal    2570160"
      ]
     },
     "execution_count": 19,
     "metadata": {},
     "output_type": "execute_result"
    }
   ],
   "source": [
    "import pandas as pd\n",
    "\n",
    "n = [\n",
    "    1562409, 733559, 3483985, 450479, 7581051, 669526, 1383445, 6574789,\n",
    "    3118360, 8452381, 3168027, 3766528, 8796448, 3120494, 2068017, 14016906,\n",
    "    19597330, 3514952, 15989929, 41262199, 10444526, 6248436, 10693929,\n",
    "    2449024, 3035122, 6003788, 2570160\n",
    "]\n",
    "\n",
    "estado = [\n",
    "    \"Rondônia\", \"Acre\", \"Amazonas\", \"Roraima\", \"Pará\", \"Amapá\", \"Tocantins\",\n",
    "    \"Maranhão\", \"Piauí\", \"Ceará\", \"Rio Grande do Norte\", \"Paraíba\", \"Pernambuco\",\n",
    "    \"Alagoas\", \"Sergipe\", \"Bahia\", \"Minas Gerais\", \"Espírito Santo\",\n",
    "    \"Rio de Janeiro\", \"São Paulo\", \"Paraná\", \"Santa Catarina\", \"Rio Grande do Sul\",\n",
    "    \"Mato Grosso do Sul\", \"Mato Grosso\", \"Goiás\", \"Distrito Federal\"\n",
    "]\n",
    "\n",
    "df = pd.DataFrame({'estado': estado, 'populacao': n})\n",
    "df"
   ]
  },
  {
   "cell_type": "code",
   "execution_count": 12,
   "id": "70650c5a-d0d8-414c-8e9e-200ace054964",
   "metadata": {},
   "outputs": [
    {
     "data": {
      "text/plain": [
       "count    2.700000e+01\n",
       "mean     7.065030e+06\n",
       "std      8.410049e+06\n",
       "min      4.504790e+05\n",
       "25%      2.509592e+06\n",
       "50%      3.514952e+06\n",
       "75%      8.624414e+06\n",
       "max      4.126220e+07\n",
       "Name: populacao, dtype: float64"
      ]
     },
     "execution_count": 12,
     "metadata": {},
     "output_type": "execute_result"
    }
   ],
   "source": [
    "df.populacao.describe()"
   ]
  },
  {
   "cell_type": "code",
   "execution_count": 30,
   "id": "42ca7d99-497f-402b-b59b-6eeb77cf2d50",
   "metadata": {},
   "outputs": [
    {
     "data": {
      "image/png": "[encoded data removed]",
      "text/plain": [
       "<Figure size 720x432 with 2 Axes>"
      ]
     },
     "metadata": {
      "needs_background": "light"
     },
     "output_type": "display_data"
    }
   ],
   "source": [
    "f, (ax_box, ax_hist) = plt.subplots(2,\n",
    "                                    sharex=True,\n",
    "                                    figsize=(10,6),\n",
    "                                    gridspec_kw={\"height_ratios\": (.2, .8)})\n",
    " \n",
    "# assigning a graph to each ax\n",
    "sns.boxplot(x = df.populacao, ax=ax_box)\n",
    "sns.histplot(df.populacao, ax=ax_hist)\n",
    "plt.axvline(x=df.populacao.mean(), color=\"red\", label=\"média\")\n",
    "plt.axvline(df.populacao.median(), color=\"green\", label=\"mediana\")\n",
    "\n",
    "plt.axvline(df.populacao.quantile(0.25), color=\"orange\", label=\"q1\")\n",
    "plt.axvline(df.populacao.quantile(0.75), color=\"pink\", label=\"q3\")\n",
    "\n",
    "plt.legend()\n",
    "plt.show()\n",
    "\n",
    "# Remove x axis name for the boxplot\n",
    "ax_box.set(xlabel='')\n",
    "plt.show()"
   ]
  },
  {
   "cell_type": "code",
   "execution_count": 35,
   "id": "b13b60c8-0e93-41d4-aace-ce831e124a1d",
   "metadata": {
    "scrolled": true,
    "tags": []
   },
   "outputs": [
    {
     "data": {
      "text/html": [
       "<div>\n",
       "<style scoped>\n",
       "    .dataframe tbody tr th:only-of-type {\n",
       "        vertical-align: middle;\n",
       "    }\n",
       "\n",
       "    .dataframe tbody tr th {\n",
       "        vertical-align: top;\n",
       "    }\n",
       "\n",
       "    .dataframe thead th {\n",
       "        text-align: right;\n",
       "    }\n",
       "</style>\n",
       "<table border=\"1\" class=\"dataframe\">\n",
       "  <thead>\n",
       "    <tr style=\"text-align: right;\">\n",
       "      <th></th>\n",
       "      <th>estado</th>\n",
       "      <th>populacao</th>\n",
       "      <th>is_outlier</th>\n",
       "    </tr>\n",
       "  </thead>\n",
       "  <tbody>\n",
       "    <tr>\n",
       "      <th>0</th>\n",
       "      <td>Rondônia</td>\n",
       "      <td>1562409</td>\n",
       "      <td>0</td>\n",
       "    </tr>\n",
       "    <tr>\n",
       "      <th>1</th>\n",
       "      <td>Acre</td>\n",
       "      <td>733559</td>\n",
       "      <td>0</td>\n",
       "    </tr>\n",
       "    <tr>\n",
       "      <th>2</th>\n",
       "      <td>Amazonas</td>\n",
       "      <td>3483985</td>\n",
       "      <td>0</td>\n",
       "    </tr>\n",
       "    <tr>\n",
       "      <th>3</th>\n",
       "      <td>Roraima</td>\n",
       "      <td>450479</td>\n",
       "      <td>0</td>\n",
       "    </tr>\n",
       "    <tr>\n",
       "      <th>4</th>\n",
       "      <td>Pará</td>\n",
       "      <td>7581051</td>\n",
       "      <td>0</td>\n",
       "    </tr>\n",
       "    <tr>\n",
       "      <th>5</th>\n",
       "      <td>Amapá</td>\n",
       "      <td>669526</td>\n",
       "      <td>0</td>\n",
       "    </tr>\n",
       "    <tr>\n",
       "      <th>6</th>\n",
       "      <td>Tocantins</td>\n",
       "      <td>1383445</td>\n",
       "      <td>0</td>\n",
       "    </tr>\n",
       "    <tr>\n",
       "      <th>7</th>\n",
       "      <td>Maranhão</td>\n",
       "      <td>6574789</td>\n",
       "      <td>0</td>\n",
       "    </tr>\n",
       "    <tr>\n",
       "      <th>8</th>\n",
       "      <td>Piauí</td>\n",
       "      <td>3118360</td>\n",
       "      <td>0</td>\n",
       "    </tr>\n",
       "    <tr>\n",
       "      <th>9</th>\n",
       "      <td>Ceará</td>\n",
       "      <td>8452381</td>\n",
       "      <td>0</td>\n",
       "    </tr>\n",
       "    <tr>\n",
       "      <th>10</th>\n",
       "      <td>Rio Grande do Norte</td>\n",
       "      <td>3168027</td>\n",
       "      <td>0</td>\n",
       "    </tr>\n",
       "    <tr>\n",
       "      <th>11</th>\n",
       "      <td>Paraíba</td>\n",
       "      <td>3766528</td>\n",
       "      <td>0</td>\n",
       "    </tr>\n",
       "    <tr>\n",
       "      <th>12</th>\n",
       "      <td>Pernambuco</td>\n",
       "      <td>8796448</td>\n",
       "      <td>0</td>\n",
       "    </tr>\n",
       "    <tr>\n",
       "      <th>13</th>\n",
       "      <td>Alagoas</td>\n",
       "      <td>3120494</td>\n",
       "      <td>0</td>\n",
       "    </tr>\n",
       "    <tr>\n",
       "      <th>14</th>\n",
       "      <td>Sergipe</td>\n",
       "      <td>2068017</td>\n",
       "      <td>0</td>\n",
       "    </tr>\n",
       "    <tr>\n",
       "      <th>15</th>\n",
       "      <td>Bahia</td>\n",
       "      <td>14016906</td>\n",
       "      <td>0</td>\n",
       "    </tr>\n",
       "    <tr>\n",
       "      <th>16</th>\n",
       "      <td>Minas Gerais</td>\n",
       "      <td>19597330</td>\n",
       "      <td>1</td>\n",
       "    </tr>\n",
       "    <tr>\n",
       "      <th>17</th>\n",
       "      <td>Espírito Santo</td>\n",
       "      <td>3514952</td>\n",
       "      <td>0</td>\n",
       "    </tr>\n",
       "    <tr>\n",
       "      <th>18</th>\n",
       "      <td>Rio de Janeiro</td>\n",
       "      <td>15989929</td>\n",
       "      <td>0</td>\n",
       "    </tr>\n",
       "    <tr>\n",
       "      <th>19</th>\n",
       "      <td>São Paulo</td>\n",
       "      <td>41262199</td>\n",
       "      <td>1</td>\n",
       "    </tr>\n",
       "    <tr>\n",
       "      <th>20</th>\n",
       "      <td>Paraná</td>\n",
       "      <td>10444526</td>\n",
       "      <td>0</td>\n",
       "    </tr>\n",
       "    <tr>\n",
       "      <th>21</th>\n",
       "      <td>Santa Catarina</td>\n",
       "      <td>6248436</td>\n",
       "      <td>0</td>\n",
       "    </tr>\n",
       "    <tr>\n",
       "      <th>22</th>\n",
       "      <td>Rio Grande do Sul</td>\n",
       "      <td>10693929</td>\n",
       "      <td>0</td>\n",
       "    </tr>\n",
       "    <tr>\n",
       "      <th>23</th>\n",
       "      <td>Mato Grosso do Sul</td>\n",
       "      <td>2449024</td>\n",
       "      <td>0</td>\n",
       "    </tr>\n",
       "    <tr>\n",
       "      <th>24</th>\n",
       "      <td>Mato Grosso</td>\n",
       "      <td>3035122</td>\n",
       "      <td>0</td>\n",
       "    </tr>\n",
       "    <tr>\n",
       "      <th>25</th>\n",
       "      <td>Goiás</td>\n",
       "      <td>6003788</td>\n",
       "      <td>0</td>\n",
       "    </tr>\n",
       "    <tr>\n",
       "      <th>26</th>\n",
       "      <td>Distrito Federal</td>\n",
       "      <td>2570160</td>\n",
       "      <td>0</td>\n",
       "    </tr>\n",
       "  </tbody>\n",
       "</table>\n",
       "</div>"
      ],
      "text/plain": [
       "                 estado  populacao  is_outlier\n",
       "0              Rondônia    1562409           0\n",
       "1                  Acre     733559           0\n",
       "2              Amazonas    3483985           0\n",
       "3               Roraima     450479           0\n",
       "4                  Pará    7581051           0\n",
       "5                 Amapá     669526           0\n",
       "6             Tocantins    1383445           0\n",
       "7              Maranhão    6574789           0\n",
       "8                 Piauí    3118360           0\n",
       "9                 Ceará    8452381           0\n",
       "10  Rio Grande do Norte    3168027           0\n",
       "11              Paraíba    3766528           0\n",
       "12           Pernambuco    8796448           0\n",
       "13              Alagoas    3120494           0\n",
       "14              Sergipe    2068017           0\n",
       "15                Bahia   14016906           0\n",
       "16         Minas Gerais   19597330           1\n",
       "17       Espírito Santo    3514952           0\n",
       "18       Rio de Janeiro   15989929           0\n",
       "19            São Paulo   41262199           1\n",
       "20               Paraná   10444526           0\n",
       "21       Santa Catarina    6248436           0\n",
       "22    Rio Grande do Sul   10693929           0\n",
       "23   Mato Grosso do Sul    2449024           0\n",
       "24          Mato Grosso    3035122           0\n",
       "25                Goiás    6003788           0\n",
       "26     Distrito Federal    2570160           0"
      ]
     },
     "execution_count": 35,
     "metadata": {},
     "output_type": "execute_result"
    }
   ],
   "source": [
    "iqd = 1.5*(np.quantile(df.populacao, 0.75) - np.quantile(df.populacao, 0.25))\n",
    "df[\"is_outlier\"] = np.where(df.populacao.between(np.quantile(df.populacao, 0.25) - iqd, np.quantile(df.populacao, 0.75) + iqd), 0, 1)\n",
    "df"
   ]
  },
  {
   "cell_type": "code",
   "execution_count": 20,
   "id": "fa6202fa-b018-433b-a118-200e07df601f",
   "metadata": {},
   "outputs": [
    {
     "data": {
      "text/plain": [
       "7065029.592592592"
      ]
     },
     "execution_count": 20,
     "metadata": {},
     "output_type": "execute_result"
    }
   ],
   "source": [
    "df.populacao.mean()"
   ]
  },
  {
   "cell_type": "code",
   "execution_count": 36,
   "id": "3f6db0e6-b5d4-4563-aa15-0680838b396f",
   "metadata": {},
   "outputs": [
    {
     "data": {
      "text/plain": [
       "Ttest_1sampResult(statistic=-0.577671894322712, pvalue=0.5684552004296279)"
      ]
     },
     "execution_count": 36,
     "metadata": {},
     "output_type": "execute_result"
    }
   ],
   "source": [
    "stats.ttest_1samp(df.populacao, 8_000_000)"
   ]
  },
  {
   "cell_type": "code",
   "execution_count": 37,
   "id": "c48df1b3-1af4-4d77-8738-42192d382c87",
   "metadata": {},
   "outputs": [
    {
     "data": {
      "text/plain": [
       "Ttest_1sampResult(statistic=-3.331429107251705, pvalue=0.002789277049183387)"
      ]
     },
     "execution_count": 37,
     "metadata": {},
     "output_type": "execute_result"
    }
   ],
   "source": [
    "\n",
    "\n",
    "stats.ttest_1samp(\n",
    "    df[df.is_outlier == 0].populacao,\n",
    "    8_000_000\n",
    ")\n"
   ]
  },
  {
   "cell_type": "markdown",
   "id": "b2a6f65b-393c-4ac7-a083-f51b0b678bb4",
   "metadata": {},
   "source": [
    "### IC"
   ]
  },
  {
   "cell_type": "code",
   "execution_count": 46,
   "id": "d3439390-9ffb-405b-a9f5-c2ede5e1b144",
   "metadata": {},
   "outputs": [
    {
     "data": {
      "text/plain": [
       "(-3053060.1854330497, 13444761.78543305)"
      ]
     },
     "execution_count": 46,
     "metadata": {},
     "output_type": "execute_result"
    }
   ],
   "source": [
    "mu = df[df.is_outlier == 0].populacao.mean()\n",
    "std = df[df.is_outlier == 0].populacao.std()\n",
    "mu - 1.96*std, mu + 1.96*std "
   ]
  },
  {
   "cell_type": "code",
   "execution_count": 40,
   "id": "da498ad0-520f-4e45-ba67-f22589efd97a",
   "metadata": {},
   "outputs": [
    {
     "data": {
      "text/plain": [
       "<AxesSubplot:ylabel='Count'>"
      ]
     },
     "execution_count": 40,
     "metadata": {},
     "output_type": "execute_result"
    },
    {
     "data": {
      "image/png": "[encoded data removed]",
      "text/plain": [
       "<Figure size 432x288 with 1 Axes>"
      ]
     },
     "metadata": {
      "needs_background": "light"
     },
     "output_type": "display_data"
    }
   ],
   "source": [
    "repeticoes = 500_000\n",
    "n = len(df)\n",
    "np.random.seed(7)\n",
    "amostras = np.random.choice(df.populacao, size = n*repeticoes).reshape((repeticoes,n))\n",
    "amostras_medias = amostras.mean(axis = 1)\n",
    "sns.histplot(amostras_medias,kde = True)"
   ]
  },
  {
   "cell_type": "code",
   "execution_count": 44,
   "id": "ddb74082-fbc3-4557-b689-736373c18389",
   "metadata": {},
   "outputs": [
    {
     "data": {
      "text/plain": [
       "(4394262.54537037, 10560953.512037035)"
      ]
     },
     "execution_count": 44,
     "metadata": {},
     "output_type": "execute_result"
    }
   ],
   "source": [
    "alpha = 0.05\n",
    "np.quantile(amostras_medias, alpha/2), np.quantile(amostras_medias, 1-(alpha/2))"
   ]
  },
  {
   "cell_type": "markdown",
   "id": "3d18f35d-06ff-499a-ae6a-bcd039577edb",
   "metadata": {},
   "source": [
    "- A partir dos dados abaixo faça uma uma analise descritiva para entender se existem sub-grupos não homegêneos de tal forma que seja interessante testar alguma hipótese com relação a média entre eles."
   ]
  },
  {
   "cell_type": "code",
   "execution_count": 4,
   "id": "9104c0cf-1862-43de-9e57-e76bd985a458",
   "metadata": {
    "scrolled": true,
    "tags": []
   },
   "outputs": [
    {
     "data": {
      "text/html": [
       "<div>\n",
       "<style scoped>\n",
       "    .dataframe tbody tr th:only-of-type {\n",
       "        vertical-align: middle;\n",
       "    }\n",
       "\n",
       "    .dataframe tbody tr th {\n",
       "        vertical-align: top;\n",
       "    }\n",
       "\n",
       "    .dataframe thead th {\n",
       "        text-align: right;\n",
       "    }\n",
       "</style>\n",
       "<table border=\"1\" class=\"dataframe\">\n",
       "  <thead>\n",
       "    <tr style=\"text-align: right;\">\n",
       "      <th></th>\n",
       "      <th>estado_civil</th>\n",
       "      <th>grau_instrucao</th>\n",
       "      <th>n_filhos</th>\n",
       "      <th>salario</th>\n",
       "      <th>idade_anos</th>\n",
       "      <th>idade_meses</th>\n",
       "      <th>reg_procedencia</th>\n",
       "    </tr>\n",
       "    <tr>\n",
       "      <th>N</th>\n",
       "      <th></th>\n",
       "      <th></th>\n",
       "      <th></th>\n",
       "      <th></th>\n",
       "      <th></th>\n",
       "      <th></th>\n",
       "      <th></th>\n",
       "    </tr>\n",
       "  </thead>\n",
       "  <tbody>\n",
       "    <tr>\n",
       "      <th>1</th>\n",
       "      <td>solteiro</td>\n",
       "      <td>ensino fundamental</td>\n",
       "      <td>NaN</td>\n",
       "      <td>4.00</td>\n",
       "      <td>26</td>\n",
       "      <td>3</td>\n",
       "      <td>interior</td>\n",
       "    </tr>\n",
       "    <tr>\n",
       "      <th>2</th>\n",
       "      <td>casado</td>\n",
       "      <td>ensino fundamental</td>\n",
       "      <td>1.0</td>\n",
       "      <td>4.56</td>\n",
       "      <td>32</td>\n",
       "      <td>10</td>\n",
       "      <td>capital</td>\n",
       "    </tr>\n",
       "    <tr>\n",
       "      <th>3</th>\n",
       "      <td>casado</td>\n",
       "      <td>ensino fundamental</td>\n",
       "      <td>2.0</td>\n",
       "      <td>5.25</td>\n",
       "      <td>36</td>\n",
       "      <td>5</td>\n",
       "      <td>capital</td>\n",
       "    </tr>\n",
       "    <tr>\n",
       "      <th>4</th>\n",
       "      <td>solteiro</td>\n",
       "      <td>ensino médio</td>\n",
       "      <td>NaN</td>\n",
       "      <td>5.73</td>\n",
       "      <td>20</td>\n",
       "      <td>10</td>\n",
       "      <td>outra</td>\n",
       "    </tr>\n",
       "    <tr>\n",
       "      <th>5</th>\n",
       "      <td>solteiro</td>\n",
       "      <td>ensino fundamental</td>\n",
       "      <td>NaN</td>\n",
       "      <td>6.26</td>\n",
       "      <td>40</td>\n",
       "      <td>7</td>\n",
       "      <td>outra</td>\n",
       "    </tr>\n",
       "    <tr>\n",
       "      <th>6</th>\n",
       "      <td>casado</td>\n",
       "      <td>ensino fundamental</td>\n",
       "      <td>0.0</td>\n",
       "      <td>6.66</td>\n",
       "      <td>28</td>\n",
       "      <td>0</td>\n",
       "      <td>interior</td>\n",
       "    </tr>\n",
       "    <tr>\n",
       "      <th>7</th>\n",
       "      <td>solteiro</td>\n",
       "      <td>ensino fundamental</td>\n",
       "      <td>NaN</td>\n",
       "      <td>6.86</td>\n",
       "      <td>41</td>\n",
       "      <td>0</td>\n",
       "      <td>interior</td>\n",
       "    </tr>\n",
       "    <tr>\n",
       "      <th>8</th>\n",
       "      <td>solteiro</td>\n",
       "      <td>ensino fundamental</td>\n",
       "      <td>NaN</td>\n",
       "      <td>7.39</td>\n",
       "      <td>43</td>\n",
       "      <td>4</td>\n",
       "      <td>capital</td>\n",
       "    </tr>\n",
       "    <tr>\n",
       "      <th>9</th>\n",
       "      <td>casado</td>\n",
       "      <td>ensino médio</td>\n",
       "      <td>1.0</td>\n",
       "      <td>7.59</td>\n",
       "      <td>34</td>\n",
       "      <td>10</td>\n",
       "      <td>capital</td>\n",
       "    </tr>\n",
       "    <tr>\n",
       "      <th>10</th>\n",
       "      <td>solteiro</td>\n",
       "      <td>ensino médio</td>\n",
       "      <td>NaN</td>\n",
       "      <td>7.44</td>\n",
       "      <td>23</td>\n",
       "      <td>6</td>\n",
       "      <td>outra</td>\n",
       "    </tr>\n",
       "    <tr>\n",
       "      <th>11</th>\n",
       "      <td>casado</td>\n",
       "      <td>ensino médio</td>\n",
       "      <td>2.0</td>\n",
       "      <td>8.12</td>\n",
       "      <td>33</td>\n",
       "      <td>6</td>\n",
       "      <td>interior</td>\n",
       "    </tr>\n",
       "    <tr>\n",
       "      <th>12</th>\n",
       "      <td>solteiro</td>\n",
       "      <td>ensino fundamental</td>\n",
       "      <td>NaN</td>\n",
       "      <td>8.46</td>\n",
       "      <td>27</td>\n",
       "      <td>11</td>\n",
       "      <td>capital</td>\n",
       "    </tr>\n",
       "    <tr>\n",
       "      <th>13</th>\n",
       "      <td>solteiro</td>\n",
       "      <td>ensino médio</td>\n",
       "      <td>NaN</td>\n",
       "      <td>8.74</td>\n",
       "      <td>37</td>\n",
       "      <td>5</td>\n",
       "      <td>outra</td>\n",
       "    </tr>\n",
       "    <tr>\n",
       "      <th>14</th>\n",
       "      <td>casado</td>\n",
       "      <td>ensino fundamental</td>\n",
       "      <td>3.0</td>\n",
       "      <td>8.95</td>\n",
       "      <td>44</td>\n",
       "      <td>2</td>\n",
       "      <td>outra</td>\n",
       "    </tr>\n",
       "    <tr>\n",
       "      <th>15</th>\n",
       "      <td>casado</td>\n",
       "      <td>ensino médio</td>\n",
       "      <td>0.0</td>\n",
       "      <td>9.13</td>\n",
       "      <td>30</td>\n",
       "      <td>5</td>\n",
       "      <td>interior</td>\n",
       "    </tr>\n",
       "    <tr>\n",
       "      <th>16</th>\n",
       "      <td>solteiro</td>\n",
       "      <td>ensino médio</td>\n",
       "      <td>NaN</td>\n",
       "      <td>9.35</td>\n",
       "      <td>38</td>\n",
       "      <td>8</td>\n",
       "      <td>outra</td>\n",
       "    </tr>\n",
       "    <tr>\n",
       "      <th>17</th>\n",
       "      <td>casado</td>\n",
       "      <td>ensino médio</td>\n",
       "      <td>1.0</td>\n",
       "      <td>9.77</td>\n",
       "      <td>31</td>\n",
       "      <td>7</td>\n",
       "      <td>capital</td>\n",
       "    </tr>\n",
       "    <tr>\n",
       "      <th>18</th>\n",
       "      <td>casado</td>\n",
       "      <td>ensino fundamental</td>\n",
       "      <td>2.0</td>\n",
       "      <td>9.80</td>\n",
       "      <td>39</td>\n",
       "      <td>7</td>\n",
       "      <td>outra</td>\n",
       "    </tr>\n",
       "    <tr>\n",
       "      <th>19</th>\n",
       "      <td>solteiro</td>\n",
       "      <td>superior</td>\n",
       "      <td>NaN</td>\n",
       "      <td>10.53</td>\n",
       "      <td>25</td>\n",
       "      <td>8</td>\n",
       "      <td>interior</td>\n",
       "    </tr>\n",
       "    <tr>\n",
       "      <th>20</th>\n",
       "      <td>solteiro</td>\n",
       "      <td>ensino médio</td>\n",
       "      <td>NaN</td>\n",
       "      <td>10.76</td>\n",
       "      <td>37</td>\n",
       "      <td>4</td>\n",
       "      <td>interior</td>\n",
       "    </tr>\n",
       "    <tr>\n",
       "      <th>21</th>\n",
       "      <td>casado</td>\n",
       "      <td>ensino médio</td>\n",
       "      <td>1.0</td>\n",
       "      <td>11.06</td>\n",
       "      <td>30</td>\n",
       "      <td>9</td>\n",
       "      <td>outra</td>\n",
       "    </tr>\n",
       "    <tr>\n",
       "      <th>22</th>\n",
       "      <td>solteiro</td>\n",
       "      <td>ensino médio</td>\n",
       "      <td>NaN</td>\n",
       "      <td>11.59</td>\n",
       "      <td>34</td>\n",
       "      <td>2</td>\n",
       "      <td>capital</td>\n",
       "    </tr>\n",
       "    <tr>\n",
       "      <th>23</th>\n",
       "      <td>solteiro</td>\n",
       "      <td>ensino fundamental</td>\n",
       "      <td>NaN</td>\n",
       "      <td>12.00</td>\n",
       "      <td>41</td>\n",
       "      <td>0</td>\n",
       "      <td>outra</td>\n",
       "    </tr>\n",
       "    <tr>\n",
       "      <th>24</th>\n",
       "      <td>casado</td>\n",
       "      <td>superior</td>\n",
       "      <td>0.0</td>\n",
       "      <td>12.79</td>\n",
       "      <td>26</td>\n",
       "      <td>1</td>\n",
       "      <td>outra</td>\n",
       "    </tr>\n",
       "    <tr>\n",
       "      <th>25</th>\n",
       "      <td>casado</td>\n",
       "      <td>ensino médio</td>\n",
       "      <td>2.0</td>\n",
       "      <td>13.23</td>\n",
       "      <td>32</td>\n",
       "      <td>5</td>\n",
       "      <td>interior</td>\n",
       "    </tr>\n",
       "    <tr>\n",
       "      <th>26</th>\n",
       "      <td>casado</td>\n",
       "      <td>ensino médio</td>\n",
       "      <td>2.0</td>\n",
       "      <td>13.60</td>\n",
       "      <td>35</td>\n",
       "      <td>0</td>\n",
       "      <td>outra</td>\n",
       "    </tr>\n",
       "    <tr>\n",
       "      <th>27</th>\n",
       "      <td>solteiro</td>\n",
       "      <td>ensino fundamental</td>\n",
       "      <td>NaN</td>\n",
       "      <td>13.85</td>\n",
       "      <td>46</td>\n",
       "      <td>7</td>\n",
       "      <td>outra</td>\n",
       "    </tr>\n",
       "    <tr>\n",
       "      <th>28</th>\n",
       "      <td>casado</td>\n",
       "      <td>ensino médio</td>\n",
       "      <td>0.0</td>\n",
       "      <td>14.69</td>\n",
       "      <td>29</td>\n",
       "      <td>8</td>\n",
       "      <td>interior</td>\n",
       "    </tr>\n",
       "    <tr>\n",
       "      <th>29</th>\n",
       "      <td>casado</td>\n",
       "      <td>ensino médio</td>\n",
       "      <td>5.0</td>\n",
       "      <td>14.71</td>\n",
       "      <td>40</td>\n",
       "      <td>6</td>\n",
       "      <td>interior</td>\n",
       "    </tr>\n",
       "    <tr>\n",
       "      <th>30</th>\n",
       "      <td>casado</td>\n",
       "      <td>ensino médio</td>\n",
       "      <td>2.0</td>\n",
       "      <td>15.99</td>\n",
       "      <td>35</td>\n",
       "      <td>10</td>\n",
       "      <td>capital</td>\n",
       "    </tr>\n",
       "    <tr>\n",
       "      <th>31</th>\n",
       "      <td>solteiro</td>\n",
       "      <td>superior</td>\n",
       "      <td>NaN</td>\n",
       "      <td>16.22</td>\n",
       "      <td>31</td>\n",
       "      <td>5</td>\n",
       "      <td>outra</td>\n",
       "    </tr>\n",
       "    <tr>\n",
       "      <th>32</th>\n",
       "      <td>casado</td>\n",
       "      <td>ensino médio</td>\n",
       "      <td>1.0</td>\n",
       "      <td>16.61</td>\n",
       "      <td>36</td>\n",
       "      <td>4</td>\n",
       "      <td>interior</td>\n",
       "    </tr>\n",
       "    <tr>\n",
       "      <th>33</th>\n",
       "      <td>casado</td>\n",
       "      <td>superior</td>\n",
       "      <td>3.0</td>\n",
       "      <td>17.26</td>\n",
       "      <td>43</td>\n",
       "      <td>7</td>\n",
       "      <td>capital</td>\n",
       "    </tr>\n",
       "    <tr>\n",
       "      <th>34</th>\n",
       "      <td>solteiro</td>\n",
       "      <td>superior</td>\n",
       "      <td>NaN</td>\n",
       "      <td>18.75</td>\n",
       "      <td>33</td>\n",
       "      <td>7</td>\n",
       "      <td>capital</td>\n",
       "    </tr>\n",
       "    <tr>\n",
       "      <th>35</th>\n",
       "      <td>casado</td>\n",
       "      <td>ensino médio</td>\n",
       "      <td>2.0</td>\n",
       "      <td>19.40</td>\n",
       "      <td>48</td>\n",
       "      <td>11</td>\n",
       "      <td>capital</td>\n",
       "    </tr>\n",
       "    <tr>\n",
       "      <th>36</th>\n",
       "      <td>casado</td>\n",
       "      <td>superior</td>\n",
       "      <td>3.0</td>\n",
       "      <td>23.30</td>\n",
       "      <td>42</td>\n",
       "      <td>2</td>\n",
       "      <td>interior</td>\n",
       "    </tr>\n",
       "  </tbody>\n",
       "</table>\n",
       "</div>"
      ],
      "text/plain": [
       "   estado_civil      grau_instrucao  n_filhos  salario  idade_anos  \\\n",
       "N                                                                    \n",
       "1      solteiro  ensino fundamental       NaN     4.00          26   \n",
       "2        casado  ensino fundamental       1.0     4.56          32   \n",
       "3        casado  ensino fundamental       2.0     5.25          36   \n",
       "4      solteiro        ensino médio       NaN     5.73          20   \n",
       "5      solteiro  ensino fundamental       NaN     6.26          40   \n",
       "6        casado  ensino fundamental       0.0     6.66          28   \n",
       "7      solteiro  ensino fundamental       NaN     6.86          41   \n",
       "8      solteiro  ensino fundamental       NaN     7.39          43   \n",
       "9        casado        ensino médio       1.0     7.59          34   \n",
       "10     solteiro        ensino médio       NaN     7.44          23   \n",
       "11       casado        ensino médio       2.0     8.12          33   \n",
       "12     solteiro  ensino fundamental       NaN     8.46          27   \n",
       "13     solteiro        ensino médio       NaN     8.74          37   \n",
       "14       casado  ensino fundamental       3.0     8.95          44   \n",
       "15       casado        ensino médio       0.0     9.13          30   \n",
       "16     solteiro        ensino médio       NaN     9.35          38   \n",
       "17       casado        ensino médio       1.0     9.77          31   \n",
       "18       casado  ensino fundamental       2.0     9.80          39   \n",
       "19     solteiro            superior       NaN    10.53          25   \n",
       "20     solteiro        ensino médio       NaN    10.76          37   \n",
       "21       casado        ensino médio       1.0    11.06          30   \n",
       "22     solteiro        ensino médio       NaN    11.59          34   \n",
       "23     solteiro  ensino fundamental       NaN    12.00          41   \n",
       "24       casado            superior       0.0    12.79          26   \n",
       "25       casado        ensino médio       2.0    13.23          32   \n",
       "26       casado        ensino médio       2.0    13.60          35   \n",
       "27     solteiro  ensino fundamental       NaN    13.85          46   \n",
       "28       casado        ensino médio       0.0    14.69          29   \n",
       "29       casado        ensino médio       5.0    14.71          40   \n",
       "30       casado        ensino médio       2.0    15.99          35   \n",
       "31     solteiro            superior       NaN    16.22          31   \n",
       "32       casado        ensino médio       1.0    16.61          36   \n",
       "33       casado            superior       3.0    17.26          43   \n",
       "34     solteiro            superior       NaN    18.75          33   \n",
       "35       casado        ensino médio       2.0    19.40          48   \n",
       "36       casado            superior       3.0    23.30          42   \n",
       "\n",
       "    idade_meses reg_procedencia  \n",
       "N                                \n",
       "1             3        interior  \n",
       "2            10         capital  \n",
       "3             5         capital  \n",
       "4            10           outra  \n",
       "5             7           outra  \n",
       "6             0        interior  \n",
       "7             0        interior  \n",
       "8             4         capital  \n",
       "9            10         capital  \n",
       "10            6           outra  \n",
       "11            6        interior  \n",
       "12           11         capital  \n",
       "13            5           outra  \n",
       "14            2           outra  \n",
       "15            5        interior  \n",
       "16            8           outra  \n",
       "17            7         capital  \n",
       "18            7           outra  \n",
       "19            8        interior  \n",
       "20            4        interior  \n",
       "21            9           outra  \n",
       "22            2         capital  \n",
       "23            0           outra  \n",
       "24            1           outra  \n",
       "25            5        interior  \n",
       "26            0           outra  \n",
       "27            7           outra  \n",
       "28            8        interior  \n",
       "29            6        interior  \n",
       "30           10         capital  \n",
       "31            5           outra  \n",
       "32            4        interior  \n",
       "33            7         capital  \n",
       "34            7         capital  \n",
       "35           11         capital  \n",
       "36            2        interior  "
      ]
     },
     "execution_count": 4,
     "metadata": {},
     "output_type": "execute_result"
    }
   ],
   "source": [
    "dt_func = pd.read_csv(\"./data/cad_empregados.txt\", sep=\"\\t\", index_col = \"N\")\n",
    "dt_func"
   ]
  },
  {
   "cell_type": "code",
   "execution_count": 32,
   "id": "bb0741b3-00a8-49ed-8ddc-7361a3a845e6",
   "metadata": {},
   "outputs": [
    {
     "data": {
      "text/plain": [
       "<seaborn.axisgrid.PairGrid at 0x7fbab4989100>"
      ]
     },
     "execution_count": 32,
     "metadata": {},
     "output_type": "execute_result"
    },
    {
     "data": {
      "image/png": "[encoded data removed]",
      "text/plain": [
       "<Figure size 856x720 with 20 Axes>"
      ]
     },
     "metadata": {
      "needs_background": "light"
     },
     "output_type": "display_data"
    }
   ],
   "source": [
    "import seaborn as sns\n",
    "\n",
    "sns.pairplot(data = dt_func, hue = \"grau_instrucao\")"
   ]
  },
  {
   "cell_type": "code",
   "execution_count": 1,
   "id": "03ff2032-b445-43d5-bd0a-ed7e6deb85ae",
   "metadata": {},
   "outputs": [
    {
     "ename": "NameError",
     "evalue": "name 'sns' is not defined",
     "output_type": "error",
     "traceback": [
      "\u001b[0;31m---------------------------------------------------------------------------\u001b[0m",
      "\u001b[0;31mNameError\u001b[0m                                 Traceback (most recent call last)",
      "\u001b[0;32m<ipython-input-1-b81e9a194fff>\u001b[0m in \u001b[0;36m<module>\u001b[0;34m\u001b[0m\n\u001b[0;32m----> 1\u001b[0;31m \u001b[0msns\u001b[0m\u001b[0;34m.\u001b[0m\u001b[0mpairplot\u001b[0m\u001b[0;34m(\u001b[0m\u001b[0mdata\u001b[0m \u001b[0;34m=\u001b[0m \u001b[0mdt_func\u001b[0m\u001b[0;34m,\u001b[0m \u001b[0mhue\u001b[0m \u001b[0;34m=\u001b[0m \u001b[0;34m\"estado_civil\"\u001b[0m\u001b[0;34m)\u001b[0m\u001b[0;34m\u001b[0m\u001b[0;34m\u001b[0m\u001b[0m\n\u001b[0m",
      "\u001b[0;31mNameError\u001b[0m: name 'sns' is not defined"
     ]
    }
   ],
   "source": [
    "sns.pairplot(data = dt_func, hue = \"estado_civil\")"
   ]
  },
  {
   "cell_type": "code",
   "execution_count": null,
   "id": "52d1b8d1-1fb7-44c9-826d-378dd3ef02c9",
   "metadata": {},
   "outputs": [],
   "source": [
    "sns.pairplot(data = dt_func, hue = \"reg_procedencia\")"
   ]
  },
  {
   "cell_type": "code",
   "execution_count": 23,
   "id": "76253ac7-98a8-4963-91df-cc561b374656",
   "metadata": {},
   "outputs": [
    {
     "data": {
      "text/plain": [
       "Ttest_indResult(statistic=-1.4894274491604382, pvalue=0.14559337812439738)"
      ]
     },
     "execution_count": 23,
     "metadata": {},
     "output_type": "execute_result"
    }
   ],
   "source": [
    "stats.ttest_ind(dt_func[dt_func.estado_civil == \"solteiro\"].salario,\n",
    "               dt_func[dt_func.estado_civil == \"casado\"].salario)"
   ]
  },
  {
   "cell_type": "code",
   "execution_count": 24,
   "id": "3dda873b-0033-4f73-ac2f-498115ff4608",
   "metadata": {},
   "outputs": [
    {
     "data": {
      "text/plain": [
       "Ttest_indResult(statistic=-0.5586369196794682, pvalue=0.5800704074411918)"
      ]
     },
     "execution_count": 24,
     "metadata": {},
     "output_type": "execute_result"
    }
   ],
   "source": [
    "stats.ttest_ind(dt_func[dt_func.estado_civil == \"solteiro\"].idade_anos,\n",
    "               dt_func[dt_func.estado_civil == \"casado\"].idade_anos)"
   ]
  },
  {
   "cell_type": "code",
   "execution_count": 25,
   "id": "9ab917e2-7037-441b-9783-8873eab90171",
   "metadata": {},
   "outputs": [
    {
     "data": {
      "text/plain": [
       "Ttest_indResult(statistic=0.04207795895996853, pvalue=0.9668340635895623)"
      ]
     },
     "execution_count": 25,
     "metadata": {},
     "output_type": "execute_result"
    }
   ],
   "source": [
    "stats.ttest_ind(dt_func[dt_func.reg_procedencia == \"interior\"].salario,\n",
    "               dt_func[dt_func.reg_procedencia == \"capital\"].salario)"
   ]
  },
  {
   "cell_type": "code",
   "execution_count": 27,
   "id": "2baf956f-203b-4a85-add6-e0b7e5cede0c",
   "metadata": {},
   "outputs": [
    {
     "data": {
      "text/plain": [
       "Ttest_indResult(statistic=0.5651874076910169, pvalue=0.5776651157128883)"
      ]
     },
     "execution_count": 27,
     "metadata": {},
     "output_type": "execute_result"
    }
   ],
   "source": [
    "stats.ttest_ind(dt_func[dt_func.reg_procedencia == \"capital\"].salario,\n",
    "               dt_func[dt_func.reg_procedencia == \"outra\"].salario)"
   ]
  },
  {
   "cell_type": "code",
   "execution_count": 5,
   "id": "314016da-2c3b-4a3d-9439-2a6176be5c34",
   "metadata": {},
   "outputs": [
    {
     "name": "stdout",
     "output_type": "stream",
     "text": [
      "                     sum_sq    df         F    PR(>F)\n",
      "reg_procedencia    9.372826   2.0  0.212669  0.809523\n",
      "Residual         727.193996  33.0       NaN       NaN\n"
     ]
    }
   ],
   "source": [
    "#H0: medias sao iguais\n",
    "#H1: ao menos duas sao diferentes\n",
    "\n",
    "mod = ols('salario ~ reg_procedencia', data=dt_func).fit()\n",
    "                \n",
    "aov_table = sm.stats.anova_lm(mod, typ=2)\n",
    "print(aov_table)"
   ]
  }
 ],
 "metadata": {
  "kernelspec": {
   "display_name": "Python 3 (ipykernel)",
   "language": "python",
   "name": "python3"
  },
  "language_info": {
   "codemirror_mode": {
    "name": "ipython",
    "version": 3
   },
   "file_extension": ".py",
   "mimetype": "text/x-python",
   "name": "python",
   "nbconvert_exporter": "python",
   "pygments_lexer": "ipython3",
   "version": "3.8.11"
  }
 },
 "nbformat": 4,
 "nbformat_minor": 5
}
