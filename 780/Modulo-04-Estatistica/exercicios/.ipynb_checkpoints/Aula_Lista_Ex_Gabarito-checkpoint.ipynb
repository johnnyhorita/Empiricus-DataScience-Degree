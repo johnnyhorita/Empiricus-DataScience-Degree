{
 "cells": [
  {
   "cell_type": "markdown",
   "id": "ab3dfefb",
   "metadata": {},
   "source": [
    "# Exercícios"
   ]
  },
  {
   "cell_type": "markdown",
   "id": "65123c45",
   "metadata": {},
   "source": [
    "### Questão 1"
   ]
  },
  {
   "cell_type": "markdown",
   "id": "f36953b8",
   "metadata": {},
   "source": [
    "Um teste para COVID-19 possui uma taxa de 5% de falso positivo e 1% de falso negativo, ou seja, em 5% dos não-infectados acusa como infectados, e em 1% dos infectados acusa como não infectados. Sabendo que atualmente 1% da população está infectada, calcule a probabilidade de um paciente cujo teste apontou positivo estar realmente infectado."
   ]
  },
  {
   "cell_type": "code",
   "execution_count": null,
   "id": "0f8a1054",
   "metadata": {},
   "outputs": [],
   "source": []
  },
  {
   "cell_type": "markdown",
   "id": "e1e8b03b",
   "metadata": {},
   "source": [
    "### Questão 2"
   ]
  },
  {
   "cell_type": "markdown",
   "id": "9b42655a",
   "metadata": {},
   "source": [
    "A probabilidade de dado honesto é conhecido e igual a $1/6$, mas quando vamos testar isso com um dado físico, não necessariamente vai cair uma vez cada face do dado (se eu lançar ele 6 vezes). A ideia é que conforme fazermos vários testes a tendência é que a probabilidade de cada face irá convergir pro valor esperado. \n",
    "\n",
    "Vamos testar este conceito utilizando da programação seguintes os itens abaixo:]\n",
    "\n",
    "__A)__ Desenvolva uma função que receba um valor n, onde n é a quantidade de elementos e o objetivo da função é retorna uma _Series_ com n elementos sendo esses elementos números variando de 1 e 6;\n",
    "\n",
    "__B)__ Teste a função para n igual a 10, 100, 1.000, 10.000 e 100.000 casos e para cada um deles calcule a proporção de vezes que aparece cada número;\n",
    "\n",
    "__DIca.:__ utilize a função do _Pandas_ `.value_counts`\n",
    "\n",
    "__C)__ O que podermos dizer sobre a afirmação do enunciado, a tendência é que as probabilidades irâo convergir para $1/6$?"
   ]
  },
  {
   "cell_type": "code",
   "execution_count": 25,
   "id": "136d9889-c04f-4b4a-9fb0-51664a878c38",
   "metadata": {},
   "outputs": [
    {
     "name": "stdout",
     "output_type": "stream",
     "text": [
      "4    0.3\n",
      "6    0.3\n",
      "1    0.2\n",
      "2    0.1\n",
      "3    0.1\n",
      "dtype: float64\n",
      "3    0.18\n",
      "4    0.18\n",
      "1    0.17\n",
      "5    0.17\n",
      "2    0.16\n",
      "6    0.14\n",
      "dtype: float64\n",
      "4    0.194\n",
      "6    0.169\n",
      "2    0.165\n",
      "1    0.161\n",
      "5    0.158\n",
      "3    0.153\n",
      "dtype: float64\n",
      "4    0.1704\n",
      "5    0.1704\n",
      "2    0.1669\n",
      "1    0.1666\n",
      "3    0.1633\n",
      "6    0.1624\n",
      "dtype: float64\n",
      "2    0.16891\n",
      "6    0.16683\n",
      "1    0.16626\n",
      "5    0.16611\n",
      "4    0.16606\n",
      "3    0.16583\n",
      "dtype: float64\n"
     ]
    }
   ],
   "source": [
    "import numpy as np\n",
    "import pandas as pd\n",
    "\n",
    "def rand_dado(n):\n",
    "    return np.random.randint(1,7,n)\n",
    "\n",
    "for i in [10,100,1000,10000,100000]:\n",
    "    series = pd.Series(rand_dado(i))\n",
    "    print(series.value_counts(normalize=True))"
   ]
  },
  {
   "cell_type": "markdown",
   "id": "8ed593e2",
   "metadata": {},
   "source": [
    "### Questão 3"
   ]
  },
  {
   "cell_type": "markdown",
   "id": "f9102e3c",
   "metadata": {},
   "source": [
    "Na casa de Luiza e Rafael tem um pote de balas de diferentes cores. Certo dia a mamãe deles contou quantas balas tinha de cada uma das cores:\n",
    "\n",
    "- 14 balas azuis;\n",
    "- 22 balas vermelhas;\n",
    "- 17 balas amarelas.\n",
    "\n",
    "A mamãe deles deixou que cada um pegasse 3 balas começando pela Luiza e depois o Rafael. Dado isso resolva os item abaixo:\n",
    "\n",
    "__A)__ Qual a probabilidade da Luiza pegar uma bala de cada na ordem da contagem e o Rafael pegar 2 azuis e uma vermelha, dado que é um evento sem reposição?\n",
    "\n",
    "__B)__ Luiza decidiu ficar só com a bala amarela e devolveu as demais para o pote antes que o Rafael pegasse suas balas. Como que ficaria a probabilidade para o Rafael agora?"
   ]
  },
  {
   "cell_type": "code",
   "execution_count": null,
   "id": "e9450ec7-478a-4c74-a285-f4b1a0034cfa",
   "metadata": {},
   "outputs": [],
   "source": [
    "#A\n",
    "p_luiza = (14*22*17)/(53*52*51)\n",
    "p_rafa = (3*13*12*21)/(50*49*48)\n",
    "p_geral = p_luiza*p_rafa\n"
   ]
  },
  {
   "cell_type": "code",
   "execution_count": null,
   "id": "e380a31a-ea8a-4415-88bc-c130ca978629",
   "metadata": {},
   "outputs": [],
   "source": [
    "#B\n",
    "(3*14*13*22)/(52*51*50)"
   ]
  },
  {
   "cell_type": "markdown",
   "id": "efcd759a",
   "metadata": {},
   "source": [
    "### Questão 4"
   ]
  },
  {
   "cell_type": "markdown",
   "id": "8180ee4e",
   "metadata": {},
   "source": [
    "Um programa de computador gera uma pontuação aleatória para cada usuário, sendo que:\n",
    "\n",
    "- Em 1/2 dos casos, gera 0.5;\n",
    "- Em 1/4 dos casos, gera 0.25;\n",
    "- Em 1/8 dos casos, gera 0.125.\n",
    "\n",
    "E essa lógica segue assim por diante. Resolva os itens a seguir:\n",
    "\n",
    "__A)__ Calcule o __valor esperado__ utilizando apenas os 3 primeiros casos;\n",
    "\n",
    "__B)__ Faça um _loop_ para calcular o __valor esperado__ para 100 casos e avalie se só com os 3 primeiros casos temos uma boa aproximação ou não."
   ]
  },
  {
   "cell_type": "code",
   "execution_count": 14,
   "id": "2786c7b1-28ac-4b79-9a04-d4d6cde8e554",
   "metadata": {},
   "outputs": [
    {
     "data": {
      "text/plain": [
       "0.328125"
      ]
     },
     "execution_count": 14,
     "metadata": {},
     "output_type": "execute_result"
    }
   ],
   "source": [
    "#A\n",
    "0.5**2+0.25**2+0.125**2"
   ]
  },
  {
   "cell_type": "code",
   "execution_count": 23,
   "id": "11ba9d60-2bcb-417b-bb1d-a42f463784e6",
   "metadata": {},
   "outputs": [
    {
     "name": "stdout",
     "output_type": "stream",
     "text": [
      "[5.00000000e-01 2.50000000e-01 1.25000000e-01 6.25000000e-02\n",
      " 3.12500000e-02 1.56250000e-02 7.81250000e-03 3.90625000e-03\n",
      " 1.95312500e-03 9.76562500e-04 4.88281250e-04 2.44140625e-04\n",
      " 1.22070312e-04 6.10351562e-05 3.05175781e-05 1.52587891e-05\n",
      " 7.62939453e-06 3.81469727e-06 1.90734863e-06 9.53674316e-07\n",
      " 4.76837158e-07 2.38418579e-07 1.19209290e-07 5.96046448e-08\n",
      " 2.98023224e-08 1.49011612e-08 7.45058060e-09 3.72529030e-09\n",
      " 1.86264515e-09 9.31322575e-10 4.65661287e-10 2.32830644e-10\n",
      " 1.16415322e-10 5.82076609e-11 2.91038305e-11 1.45519152e-11\n",
      " 7.27595761e-12 3.63797881e-12 1.81898940e-12 9.09494702e-13\n",
      " 4.54747351e-13 2.27373675e-13 1.13686838e-13 5.68434189e-14\n",
      " 2.84217094e-14 1.42108547e-14 7.10542736e-15 3.55271368e-15\n",
      " 1.77635684e-15 8.88178420e-16 4.44089210e-16 2.22044605e-16\n",
      " 1.11022302e-16 5.55111512e-17 2.77555756e-17 1.38777878e-17\n",
      " 6.93889390e-18 3.46944695e-18 1.73472348e-18 8.67361738e-19\n",
      " 4.33680869e-19 2.16840434e-19 1.08420217e-19 5.42101086e-20\n",
      " 2.71050543e-20 1.35525272e-20 6.77626358e-21 3.38813179e-21\n",
      " 1.69406589e-21 8.47032947e-22 4.23516474e-22 2.11758237e-22\n",
      " 1.05879118e-22 5.29395592e-23 2.64697796e-23 1.32348898e-23\n",
      " 6.61744490e-24 3.30872245e-24 1.65436123e-24 8.27180613e-25\n",
      " 4.13590306e-25 2.06795153e-25 1.03397577e-25 5.16987883e-26\n",
      " 2.58493941e-26 1.29246971e-26 6.46234854e-27 3.23117427e-27\n",
      " 1.61558713e-27 8.07793567e-28 4.03896783e-28 2.01948392e-28\n",
      " 1.00974196e-28 5.04870979e-29 2.52435490e-29 1.26217745e-29\n",
      " 6.31088724e-30 3.15544362e-30 1.57772181e-30 7.88860905e-31]\n"
     ]
    },
    {
     "data": {
      "text/plain": [
       "0.3333333333333333"
      ]
     },
     "execution_count": 23,
     "metadata": {},
     "output_type": "execute_result"
    }
   ],
   "source": [
    "import numpy as np\n",
    "i = np.array(range(1,101))\n",
    "x = (0.5**i)\n",
    "print(x)\n",
    "x[x == np.inf] = 0\n",
    "sum(x**2)"
   ]
  },
  {
   "cell_type": "markdown",
   "id": "57a9dba0",
   "metadata": {},
   "source": [
    "### Questão 5"
   ]
  },
  {
   "cell_type": "markdown",
   "id": "03ce87d4",
   "metadata": {},
   "source": [
    "Em um programa de auditório, havia 3 portas (A, B, C), dentro da qual uma continha um prêmio. O participante escolheu a porta A e antes de abrir a porta o apresentador abriu a porta C, na qual não havia nada. O participante aumentará a probabilidade de acertar a porta caso mude a escolha dele da porta A para a B?"
   ]
  },
  {
   "cell_type": "code",
   "execution_count": null,
   "id": "cb736e05",
   "metadata": {},
   "outputs": [],
   "source": []
  },
  {
   "cell_type": "markdown",
   "id": "4a12dfd0-7697-45fa-9117-06986f5334a0",
   "metadata": {},
   "source": [
    "### Questão 6\n",
    "\n",
    "Uma relação bem importante entre uma população e uma amostra, é que uma amostra pode ser significativa daquela população (ou seja, podemos inferir que a média e variância da amostra será bem próximo do valor real da população), isto quando essa amostra for grande o suficiente para isso. Vamos fazer algumas simulações utilizando o _Python_ para testar esses conceicos, resolvendo os itens a seguir:\n",
    "\n",
    "__A)__ Crie uma lista com número aleatórios entre 20 e 50 e que essa lista contenham 1 milhão de elementos;\n",
    "\n",
    "__B)__ Calcule a média e a variância para essa lista;\n",
    "\n",
    "__C)__ Faça amostra aleatórias de diversos tamanhos (10, 100, 1.000 e 10.000 elementos) e calcule as mesmas métricas que o item anterior, para avaliar o conceito proposto no enunciado"
   ]
  },
  {
   "cell_type": "code",
   "execution_count": null,
   "id": "3671884d-49ed-4023-9695-fc5e69dc2f78",
   "metadata": {},
   "outputs": [],
   "source": [
    "#A\n",
    "\n",
    "# Define uma semente aleatória\n",
    "np.random.seed(42)\n",
    "\n",
    "# tamanho da população\n",
    "n = 1000000\n",
    "\n",
    "# Criando a população\n",
    "pop = list(np.random.randint(20, 50, size = n))\n",
    "\n",
    "# Print de 5 elementos da população\n",
    "pop[:5]"
   ]
  },
  {
   "cell_type": "code",
   "execution_count": null,
   "id": "18cf21ea-63ba-4aae-988a-48f68d3904b8",
   "metadata": {},
   "outputs": [],
   "source": [
    "#B\n",
    "\n",
    "# Print das metricas da população\n",
    "print(\"Métricas da População: \")\n",
    "print('Média:     ', np.round(np.mean(pop),2))\n",
    "print('Variância: ', np.round(np.var(pop),2))"
   ]
  },
  {
   "cell_type": "code",
   "execution_count": null,
   "id": "e782dfc6-77e7-470b-b023-c8e52f66b8bf",
   "metadata": {},
   "outputs": [],
   "source": [
    "#C\n",
    "\n",
    "# Import da biblioteca random para os samples\n",
    "import random\n",
    "\n",
    "# Cria uma lista com os diversos tamanhos de amostras\n",
    "n_amostras = [10, 100, 1000, 10000]\n",
    "\n",
    "# Loop para fazer a amostra aleatória e calcular as métricas\n",
    "for n in n_amostras:\n",
    "    amostra = list(random.sample(pop, n))\n",
    "    print('Amostra com {} elementos'.format(n))\n",
    "    print('Média:     ', np.round(np.mean(amostra),2))\n",
    "    print('Variância: ', np.round(np.var(amostra),2))\n",
    "    print('=================================')"
   ]
  },
  {
   "cell_type": "markdown",
   "id": "600e9ee3-525b-4d9a-a0bc-aac739c72837",
   "metadata": {},
   "source": [
    "### Questão 7\n",
    "\n",
    "Neste exercício vamos demonstrar a importância de uma amostragem estratificada quando temos grupos significantes dentro da população. Faça os seguintes itens:\n",
    "\n",
    "__A)__ Crie 3 listas de números aleatórios sendo elas:\n",
    "    - uma lista com números aleatórios entre 40 e 50 contendo 10.000 elementos;\n",
    "    - uma lista com números aleatórios entre 10 e 20 contendo 6.000 elementos;\n",
    "    - uma lista com números aleatórios entre 80 e 90 contendo 4.000 elementos.\n",
    "    \n",
    "__B)__ Calcule a média e a variância para cada uma das 3 listas;\n",
    "\n",
    "__C)__ Calcule a média e a variância para a população, onde a população seja as 3 listas juntas;\n",
    "\n",
    "__Dica.:__ Neste caso, temos que trabalhar com média e variância ponderada!\n",
    "\n",
    "Para calcular a média ponderada devemos seguir a fórmula abaixo:\n",
    "    \n",
    "$$\\overline{x}_{p} = \\sum_{i=1}^{k} p_i \\overline{x}_i$$\n",
    "\n",
    "onde $k$ e o número de grupos dentro da população e $p_i$ os pesos de cada grupo definido por $p_i = n_i/N$\n",
    "\n",
    "Já para o variância ponderada, deve-se calcular da seguinte forma:\n",
    "\n",
    "$$S_{p}^{2} = \\sum_{i=1}^{k} S_{i}^{2}$$\n",
    "\n",
    "__D)__ Una as 3 listas em uma só e retire uma amostra de 1% da lista resultante. Calcule a média e a variância para esta amostra;\n",
    "\n",
    "__E)__ Por fim, faça uma amostra estratificada da seguinte forma: faça uma amostra aleatória de 1% de cada uma das 3 listas e em seguida calcule a média e a variância para a amostra estratificada (será necessário utilizar a média e variância ponderada!).\n",
    "\n",
    "__F)__ Compare o resultado das métricas para a amostra e a amostra estratificada com o valor das métricas da população."
   ]
  },
  {
   "cell_type": "code",
   "execution_count": null,
   "id": "68afab66-32a5-4994-9c04-ddb97480e938",
   "metadata": {},
   "outputs": [],
   "source": [
    "import numpy as np\n",
    "import pandas as pd"
   ]
  },
  {
   "cell_type": "code",
   "execution_count": 5,
   "id": "250fc5c2-1538-4e39-bd08-9c3db4bd9594",
   "metadata": {},
   "outputs": [],
   "source": [
    "# A\n",
    "# Define uma semente aleatória\n",
    "np.random.seed(42)\n",
    "\n",
    "# tamanho das listas\n",
    "n1 = 10000\n",
    "n2 = 6000\n",
    "n3 = 4000\n",
    "\n",
    "# Criando as listas\n",
    "lista1 = list(np.random.randint(40, 50, size = n1))\n",
    "lista2 = list(np.random.randint(10, 20, size = n2))\n",
    "lista3 = list(np.random.randint(80, 90, size = n3))"
   ]
  },
  {
   "cell_type": "code",
   "execution_count": 6,
   "id": "5707855d-26e6-49a4-94cb-3f4ded70888e",
   "metadata": {},
   "outputs": [
    {
     "name": "stdout",
     "output_type": "stream",
     "text": [
      "Métricas - Lista 1: \n",
      "Amostra com 10000 elementos\n",
      "Média:      44.5\n",
      "Variância:  8.37\n",
      "=================================\n",
      "Métricas - Lista 2: \n",
      "Amostra com 6000 elementos\n",
      "Média:      14.52\n",
      "Variância:  8.19\n",
      "=================================\n",
      "Métricas - Lista 3: \n",
      "Amostra com 4000 elementos\n",
      "Média:      84.5\n",
      "Variância:  8.4\n",
      "=================================\n"
     ]
    }
   ],
   "source": [
    "#B\n",
    "# Calculo métricas lista 1\n",
    "mean1 = np.round(np.mean(lista1),2)\n",
    "var1  = np.round(np.var(lista1),2)\n",
    "\n",
    "# Calculo métricas lista 2\n",
    "mean2 = np.round(np.mean(lista2),2)\n",
    "var2  = np.round(np.var(lista2),2)\n",
    "\n",
    "# Calculo métricas lista 3\n",
    "mean3 = np.round(np.mean(lista3),2)\n",
    "var3  = np.round(np.var(lista3),2)\n",
    "\n",
    "# Print dos resultados\n",
    "print('Métricas - Lista 1: ')\n",
    "print(f'Amostra com {n1} elementos')\n",
    "print('Média:     ', mean1)\n",
    "print('Variância: ', var1)\n",
    "print('=================================')\n",
    "print('Métricas - Lista 2: ')\n",
    "print(f'Amostra com {n2} elementos')\n",
    "print('Média:     ', mean2)\n",
    "print('Variância: ', var2)\n",
    "print('=================================')\n",
    "print('Métricas - Lista 3: ')\n",
    "print(f'Amostra com {n3} elementos')\n",
    "print('Média:     ', mean3)\n",
    "print('Variância: ', var3)\n",
    "print('=================================')"
   ]
  },
  {
   "cell_type": "code",
   "execution_count": 7,
   "id": "16a4347e-e266-41f8-ba96-a03a5a1a1dc3",
   "metadata": {},
   "outputs": [
    {
     "name": "stdout",
     "output_type": "stream",
     "text": [
      "Métricas da População: \n",
      "Amostra com 20000 elementos\n",
      "Média Ponderada:      43.506\n",
      "Variância Ponderada:  24.96\n"
     ]
    }
   ],
   "source": [
    "#C\n",
    "# Total da população\n",
    "N = n1 + n2 + n3\n",
    "\n",
    "# peso 1\n",
    "p1 = n1/N\n",
    "\n",
    "# peso 2\n",
    "p2 = n2/N\n",
    "\n",
    "# peso 3\n",
    "p3 = n3/N\n",
    "\n",
    "# Média Ponderada das listas\n",
    "mean_N = p1*mean1 + p2*mean2 + p3*mean3\n",
    "\n",
    "# Variância Ponderada das listas\n",
    "var_N = var1 + var2 + var3\n",
    "\n",
    "# Print das métricas da população\n",
    "print('Métricas da População: ')\n",
    "print('Amostra com {} elementos'.format(N))\n",
    "print('Média Ponderada:     ', mean_N)\n",
    "print('Variância Ponderada: ', var_N)"
   ]
  },
  {
   "cell_type": "code",
   "execution_count": 10,
   "id": "7e3f4e27-dcc5-43a8-8e5f-8ecd99d18749",
   "metadata": {},
   "outputs": [
    {
     "data": {
      "text/plain": [
       "20000"
      ]
     },
     "execution_count": 10,
     "metadata": {},
     "output_type": "execute_result"
    }
   ],
   "source": [
    "# Cria a população\n",
    "pop = lista1 + lista2 + lista3\n",
    "\n",
    "# Tamanho da população\n",
    "len(pop)"
   ]
  },
  {
   "cell_type": "code",
   "execution_count": 12,
   "id": "139e15dd-875c-4ebb-9155-8822fdc55dae",
   "metadata": {},
   "outputs": [
    {
     "name": "stdout",
     "output_type": "stream",
     "text": [
      "Amostra com 200 elementos\n",
      "Média:      43.83\n",
      "Variância:  525.23\n",
      "=================================\n"
     ]
    }
   ],
   "source": [
    "# Define a amostra de uma população\n",
    "import random\n",
    "amostra = list(random.sample(pop, 200))\n",
    "\n",
    "# Print das metricas da amostra\n",
    "print('Amostra com {} elementos'.format(200))\n",
    "print('Média:     ', np.round(np.mean(amostra),2))\n",
    "print('Variância: ', np.round(np.var(amostra),2))\n",
    "print('=================================')"
   ]
  },
  {
   "cell_type": "code",
   "execution_count": 13,
   "id": "b0b37547-58ba-4c38-b5b2-fed96b8715f3",
   "metadata": {},
   "outputs": [
    {
     "name": "stdout",
     "output_type": "stream",
     "text": [
      "Amostra 1 com 100 elementos\n",
      "Média:      44.71\n",
      "Variância:  8.77\n",
      "=================================\n",
      "Amostra 2 com 60 elementos\n",
      "Média:      13.88\n",
      "Variância:  7.5\n",
      "=================================\n",
      "Amostra 3 com 40 elementos\n",
      "Média:      85.22\n",
      "Variância:  7.62\n",
      "=================================\n"
     ]
    }
   ],
   "source": [
    "# Amostra 1\n",
    "# Define a amostra de uma população\n",
    "amostra1 = list(random.sample(lista1, 100))\n",
    "\n",
    "# Metricas amostra 1\n",
    "mean_amostra1 = np.round(np.mean(amostra1),2)\n",
    "var_amostra1 = np.round(np.var(amostra1),2)\n",
    "\n",
    "# Print das metricas da amostra\n",
    "print('Amostra 1 com {} elementos'.format(100))\n",
    "print('Média:     ', mean_amostra1)\n",
    "print('Variância: ', var_amostra1)\n",
    "print('=================================')\n",
    "\n",
    "# Amostra 2\n",
    "# Define a amostra de uma população\n",
    "amostra2 = list(random.sample(lista2, 60))\n",
    "\n",
    "# Metricas amostra 1\n",
    "mean_amostra2 = np.round(np.mean(amostra2),2)\n",
    "var_amostra2 = np.round(np.var(amostra2),2)\n",
    "\n",
    "# Print das metricas da amostra\n",
    "print('Amostra 2 com {} elementos'.format(60))\n",
    "print('Média:     ', mean_amostra2)\n",
    "print('Variância: ', var_amostra2)\n",
    "print('=================================')\n",
    "\n",
    "# Amostra3\n",
    "# Define a amostra de uma população\n",
    "amostra3 = list(random.sample(lista3, 40))\n",
    "\n",
    "# Metricas amostra 1\n",
    "mean_amostra3 = np.round(np.mean(amostra3),2)\n",
    "var_amostra3 = np.round(np.var(amostra3),2)\n",
    "\n",
    "# Print das metricas da amostra\n",
    "print('Amostra 3 com {} elementos'.format(40))\n",
    "print('Média:     ', mean_amostra3)\n",
    "print('Variância: ', var_amostra3)\n",
    "print('=================================')"
   ]
  },
  {
   "cell_type": "code",
   "execution_count": null,
   "id": "0c8c4379-deb6-4293-88d5-692c09abfc2f",
   "metadata": {},
   "outputs": [],
   "source": [
    "#D\n",
    "\n",
    "# Cria a população\n",
    "pop = lista1 + lista2 + lista3\n",
    "\n",
    "# Tamanho da população\n",
    "len(pop)\n",
    "\n",
    "# Define a amostra de uma população\n",
    "amostra = list(random.sample(pop, 200))\n",
    "\n",
    "# Print das metricas da amostra\n",
    "print('Amostra com {} elementos'.format(200))\n",
    "print('Média:     ', np.round(np.mean(amostra),2))\n",
    "print('Variância: ', np.round(np.var(amostra),2))\n",
    "print('=================================')"
   ]
  },
  {
   "cell_type": "code",
   "execution_count": null,
   "id": "24ff12eb-c455-43ab-8a29-e7d852e0c549",
   "metadata": {},
   "outputs": [],
   "source": [
    "#E\n",
    "\n",
    "# Amostra 1\n",
    "# Define a amostra de uma população\n",
    "amostra1 = list(random.sample(lista1, 100))\n",
    "\n",
    "# Metricas amostra 1\n",
    "mean_amostra1 = np.round(np.mean(amostra1),2)\n",
    "var_amostra1 = np.round(np.var(amostra1),2)\n",
    "\n",
    "# Print das metricas da amostra\n",
    "print('Amostra 1 com {} elementos'.format(100))\n",
    "print('Média:     ', mean_amostra1)\n",
    "print('Variância: ', var_amostra1)\n",
    "print('=================================')\n",
    "\n",
    "# Amostra 2\n",
    "# Define a amostra de uma população\n",
    "amostra2 = list(random.sample(lista2, 60))\n",
    "\n",
    "# Metricas amostra 1\n",
    "mean_amostra2 = np.round(np.mean(amostra2),2)\n",
    "var_amostra2 = np.round(np.var(amostra2),2)\n",
    "\n",
    "# Print das metricas da amostra\n",
    "print('Amostra 2 com {} elementos'.format(60))\n",
    "print('Média:     ', mean_amostra2)\n",
    "print('Variância: ', var_amostra2)\n",
    "print('=================================')\n",
    "\n",
    "# Amostra3\n",
    "# Define a amostra de uma população\n",
    "amostra3 = list(random.sample(lista3, 40))\n",
    "\n",
    "# Metricas amostra 1\n",
    "mean_amostra3 = np.round(np.mean(amostra3),2)\n",
    "var_amostra3 = np.round(np.var(amostra3),2)\n",
    "\n",
    "# Print das metricas da amostra\n",
    "print('Amostra 3 com {} elementos'.format(40))\n",
    "print('Média:     ', mean_amostra3)\n",
    "print('Variância: ', var_amostra3)\n",
    "print('=================================')"
   ]
  }
 ],
 "metadata": {
  "kernelspec": {
   "display_name": "Python 3 (ipykernel)",
   "language": "python",
   "name": "python3"
  },
  "language_info": {
   "codemirror_mode": {
    "name": "ipython",
    "version": 3
   },
   "file_extension": ".py",
   "mimetype": "text/x-python",
   "name": "python",
   "nbconvert_exporter": "python",
   "pygments_lexer": "ipython3",
   "version": "3.8.11"
  },
  "varInspector": {
   "cols": {
    "lenName": 16,
    "lenType": 16,
    "lenVar": 40
   },
   "kernels_config": {
    "python": {
     "delete_cmd_postfix": "",
     "delete_cmd_prefix": "del ",
     "library": "var_list.py",
     "varRefreshCmd": "print(var_dic_list())"
    },
    "r": {
     "delete_cmd_postfix": ") ",
     "delete_cmd_prefix": "rm(",
     "library": "var_list.r",
     "varRefreshCmd": "cat(var_dic_list()) "
    }
   },
   "types_to_exclude": [
    "module",
    "function",
    "builtin_function_or_method",
    "instance",
    "_Feature"
   ],
   "window_display": false
  }
 },
 "nbformat": 4,
 "nbformat_minor": 5
}
