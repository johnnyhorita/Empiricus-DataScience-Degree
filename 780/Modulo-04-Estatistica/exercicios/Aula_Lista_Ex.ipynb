{
 "cells": [
  {
   "cell_type": "markdown",
   "id": "ab3dfefb",
   "metadata": {},
   "source": [
    "# Exercícios"
   ]
  },
  {
   "cell_type": "markdown",
   "id": "65123c45",
   "metadata": {},
   "source": [
    "### Questão 1"
   ]
  },
  {
   "cell_type": "markdown",
   "id": "f36953b8",
   "metadata": {},
   "source": [
    "Um teste para COVID-19 possui uma taxa de 5% de falso positivo e 1% de falso negativo, ou seja, em 5% dos não-infectados acusa como infectados, e em 1% dos infectados acusa como não infectados. Sabendo que atualmente 1% da população está infectada, calcule a probabilidade de um paciente cujo teste apontou positivo estar realmente infectado."
   ]
  },
  {
   "cell_type": "code",
   "execution_count": null,
   "id": "0f8a1054",
   "metadata": {},
   "outputs": [],
   "source": [
    "         Doente (True) | Não doente (False)\n",
    "Positivo 99%           |  5%\n",
    "Negativo 1%            |  95% \n",
    "\n"
   ]
  },
  {
   "cell_type": "markdown",
   "id": "e1e8b03b",
   "metadata": {},
   "source": [
    "### Questão 2"
   ]
  },
  {
   "cell_type": "markdown",
   "id": "9b42655a",
   "metadata": {},
   "source": [
    "A probabilidade de dado honesto é conhecido e igual a $1/6$, mas quando vamos testar isso com um dado físico, não necessariamente vai cair uma vez cada face do dado (se eu lançar ele 6 vezes). A ideia é que conforme fazermos vários testes a tendência é que a probabilidade de cada face irá convergir pro valor esperado. \n",
    "\n",
    "Vamos testar este conceito utilizando da programação seguintes os itens abaixo:]\n",
    "\n",
    "__A)__ Desenvolva uma função que receba um valor n, onde n é a quantidade de elementos e o objetivo da função é retorna uma _Series_ com n elementos sendo esses elementos números variando de 1 e 6;\n",
    "\n",
    "__B)__ Teste a função para n igual a 10, 100, 1.000, 10.000 e 100.000 casos e para cada um deles calcule a proporção de vezes que aparece cada número;\n",
    "\n",
    "__DIca.:__ utilize a função do _Pandas_ `.value_counts`\n",
    "\n",
    "__C)__ O que podermos dizer sobre a afirmação do enunciado, a tendência é que as probabilidades irâo convergir para $1/6$?"
   ]
  },
  {
   "cell_type": "code",
   "execution_count": 49,
   "id": "f5c300fe",
   "metadata": {
    "ExecuteTime": {
     "end_time": "2021-10-19T01:10:48.622112Z",
     "start_time": "2021-10-19T01:10:48.599083Z"
    }
   },
   "outputs": [
    {
     "name": "stdout",
     "output_type": "stream",
     "text": [
      "6    0.3\n",
      "4    0.3\n",
      "5    0.1\n",
      "1    0.1\n",
      "3    0.1\n",
      "2    0.1\n",
      "dtype: float64\n",
      "6    0.19\n",
      "2    0.18\n",
      "3    0.18\n",
      "5    0.16\n",
      "1    0.15\n",
      "4    0.14\n",
      "dtype: float64\n",
      "1    0.174\n",
      "3    0.173\n",
      "5    0.172\n",
      "6    0.166\n",
      "2    0.159\n",
      "4    0.156\n",
      "dtype: float64\n",
      "2    0.1713\n",
      "6    0.1700\n",
      "1    0.1681\n",
      "3    0.1678\n",
      "5    0.1623\n",
      "4    0.1605\n",
      "dtype: float64\n",
      "4    0.16867\n",
      "2    0.16717\n",
      "5    0.16701\n",
      "1    0.16680\n",
      "6    0.16665\n",
      "3    0.16370\n",
      "dtype: float64\n"
     ]
    }
   ],
   "source": [
    "import pandas as pd\n",
    "import numpy as np\n",
    "\n",
    "def rand_dado(n):\n",
    "    return np.random.randint(1,7,n)\n",
    "\n",
    "for i in [10,100,1_000,10_000,100_000]:\n",
    "    series = pd.Series(rand_dado(i))\n",
    "    print(series.value_counts(normalize=True))\n",
    "    "
   ]
  },
  {
   "cell_type": "code",
   "execution_count": 42,
   "id": "aeac7694",
   "metadata": {
    "ExecuteTime": {
     "end_time": "2021-10-19T00:36:06.137088Z",
     "start_time": "2021-10-19T00:36:04.476984Z"
    }
   },
   "outputs": [
    {
     "name": "stdout",
     "output_type": "stream",
     "text": [
      "Quantos lançamentos de dado? 10\n",
      "     1    2    3   4   5    6\n",
      "0  NaN  NaN  NaN NaN NaN  1.0\n",
      "1  NaN  NaN  1.0 NaN NaN  NaN\n",
      "2  1.0  NaN  NaN NaN NaN  NaN\n",
      "3  NaN  NaN  1.0 NaN NaN  NaN\n",
      "4  NaN  NaN  1.0 NaN NaN  NaN\n",
      "5  NaN  1.0  NaN NaN NaN  NaN\n",
      "6  NaN  1.0  NaN NaN NaN  NaN\n",
      "7  NaN  NaN  NaN NaN NaN  1.0\n",
      "8  NaN  1.0  NaN NaN NaN  NaN\n",
      "9  1.0  NaN  NaN NaN NaN  NaN\n",
      "     1  2  3  4  5  6\n",
      "1.0  2  3  3  0  0  2\n",
      "Numero 1 saiu  2  vezes =  20.0 %\n",
      "Numero 2 saiu  3  vezes =  30.0 %\n",
      "Numero 3 saiu  3  vezes =  30.0 %\n",
      "Numero 4 saiu  0  vezes =  0.0 %\n",
      "Numero 5 saiu  0  vezes =  0.0 %\n",
      "Numero 6 saiu  2  vezes =  20.0 %\n"
     ]
    }
   ],
   "source": [
    "import random\n",
    "import pandas as pd\n",
    "import numpy as np\n",
    "\n",
    "def joga_dado():\n",
    "    return random.randint(1,6)\n",
    "\n",
    "def repete(n):\n",
    "    column_names = [\"1\", \"2\", \"3\", \"4\", \"5\", \"6\"]\n",
    "    df = pd.DataFrame(columns=column_names)    \n",
    "    \n",
    "    for val in range(n):\n",
    "        test1=test2=test3=test4=test5=test6 = np.nan\n",
    "        test = random.randint(1,6) #joga_dado()\n",
    "        if(test==1):\n",
    "            test1 = 1\n",
    "        elif(test==2):\n",
    "            test2 = 1\n",
    "        elif(test==3):\n",
    "            test3 = 1\n",
    "        elif(test==4):\n",
    "            test4 = 1\n",
    "        elif(test==5):\n",
    "            test5 = 1\n",
    "        else:\n",
    "            test6 = 1\n",
    "        \n",
    "        test_dado = {'1':test1, '2':test2, '3':test3, '4':test4, '5':test5, '6':test6}\n",
    "        df = df.append(test_dado, ignore_index = True)\n",
    "      \n",
    "    print(df)\n",
    "    print(df.apply(pd.value_counts).fillna(0).astype(int))\n",
    "        \n",
    "    t1 = df['1'].count()\n",
    "    t2 = df['2'].count()\n",
    "    t3 = df['3'].count()\n",
    "    t4 = df['4'].count()\n",
    "    t5 = df['5'].count()\n",
    "    t6 = df['6'].count()\n",
    "    \n",
    "    print(\"Numero 1 saiu \", t1,\" vezes = \", (t1/n)*100, \"%\")\n",
    "    print(\"Numero 2 saiu \", t2,\" vezes = \", (t2/n)*100, \"%\")\n",
    "    print(\"Numero 3 saiu \", t3,\" vezes = \", (t3/n)*100, \"%\")\n",
    "    print(\"Numero 4 saiu \", t4,\" vezes = \", (t4/n)*100, \"%\")\n",
    "    print(\"Numero 5 saiu \", t5,\" vezes = \", (t5/n)*100, \"%\")\n",
    "    print(\"Numero 6 saiu \", t6,\" vezes = \", (t6/n)*100, \"%\")\n",
    "    return\n",
    "\n",
    "n = int(input('Quantos lançamentos de dado? '))\n",
    "repete(n)\n"
   ]
  },
  {
   "cell_type": "code",
   "execution_count": null,
   "id": "136d9889-c04f-4b4a-9fb0-51664a878c38",
   "metadata": {
    "ExecuteTime": {
     "end_time": "2021-10-18T23:10:43.927478Z",
     "start_time": "2021-10-18T23:10:32.592124Z"
    }
   },
   "outputs": [],
   "source": [
    "import random\n",
    "\n",
    "def joga_dado():\n",
    "    return random.randint(1,6)\n",
    "\n",
    "def menu():\n",
    "    n = int(input('Quantos lançamentos de dado? '))\n",
    "    repete(n)\n",
    "\n",
    "def repete(n):\n",
    "    test1=test2=test3=test4=test5=test6 = 0\n",
    "    for val in range(n):\n",
    "        test = joga_dado()\n",
    "            \n",
    "        if(test==1):\n",
    "            test1 += 1\n",
    "        elif(test==2):\n",
    "            test2 += 1\n",
    "        elif(test==3):\n",
    "            test3 += 1\n",
    "        elif(test==4):\n",
    "            test4 += 1\n",
    "        elif(test==5):\n",
    "            test5 += 1\n",
    "        else:\n",
    "            test6 += 1\n",
    "    \n",
    "    print(\"Numero 1 saiu \", test1,\" vezes = \",(test1/n)*100, \" %\")\n",
    "    print(\"Numero 2 saiu \", test2,\" vezes = \",(test2/n)*100, \" %\")\n",
    "    print(\"Numero 3 saiu \", test3,\" vezes = \",(test3/n)*100, \" %\")\n",
    "    print(\"Numero 4 saiu \", test4,\" vezes = \",(test4/n)*100, \" %\")\n",
    "    print(\"Numero 5 saiu \", test5,\" vezes = \",(test5/n)*100, \" %\")\n",
    "    print(\"Numero 6 saiu \", test6,\" vezes = \",(test6/n)*100, \" %\")\n",
    "\n",
    "while True:\n",
    "    menu()\n",
    "    "
   ]
  },
  {
   "cell_type": "markdown",
   "id": "8ed593e2",
   "metadata": {},
   "source": [
    "### Questão 3"
   ]
  },
  {
   "cell_type": "markdown",
   "id": "f9102e3c",
   "metadata": {},
   "source": [
    "Na casa de Luiza e Rafael tem um pote de balas de diferentes cores. Certo dia a mamãe deles contou quantas balas tinha de cada uma das cores:\n",
    "\n",
    "- 14 balas azuis;\n",
    "- 22 balas vermelhas;\n",
    "- 17 balas amarelas.\n",
    "\n",
    "A mamãe deles deixou que cada um pegasse 3 balas começando pela Luiza e depois o Rafael. Dado isso resolva os item abaixo:\n",
    "\n",
    "__A)__ Qual a probabilidade da Luiza pegar uma bala de cada na ordem da contagem e o Rafael pegar 2 azuis e uma vermelha, dado que é um evento sem reposição?\n",
    "\n",
    "__B)__ Luiza decidiu ficar só com a bala amarela e devolveu as demais para o pote antes que o Rafael pegasse suas balas. Como que ficaria a probabilidade para o Rafael agora?"
   ]
  },
  {
   "cell_type": "code",
   "execution_count": null,
   "id": "e9450ec7-478a-4c74-a285-f4b1a0034cfa",
   "metadata": {},
   "outputs": [],
   "source": [
    "                Luiza     Rafael\n",
    "14 azuis         \n",
    "22 vermelhas    \n",
    "17 amarelas      \n",
    "14+22+17=53"
   ]
  },
  {
   "cell_type": "markdown",
   "id": "efcd759a",
   "metadata": {},
   "source": [
    "### Questão 4"
   ]
  },
  {
   "cell_type": "markdown",
   "id": "8180ee4e",
   "metadata": {},
   "source": [
    "Um programa de computador gera uma pontuação aleatória para cada usuário, sendo que:\n",
    "\n",
    "- Em 1/2 dos casos, gera 0.5;\n",
    "- Em 1/4 dos casos, gera 0.25;\n",
    "- Em 1/8 dos casos, gera 0.125.\n",
    "\n",
    "E essa lógica segue assim por diante. Resolva os itens a seguir:\n",
    "\n",
    "__A)__ Calcule o __valor esperado__ utilizando apenas os 3 primeiros casos;\n",
    "\n",
    "__B)__ Faça um _loop_ para calcular o __valor esperado__ para 100 casos e avalie se só com os 3 primeiros casos temos uma boa aproximação ou não."
   ]
  },
  {
   "cell_type": "code",
   "execution_count": 43,
   "id": "2786c7b1-28ac-4b79-9a04-d4d6cde8e554",
   "metadata": {
    "ExecuteTime": {
     "end_time": "2021-10-19T00:45:39.597425Z",
     "start_time": "2021-10-19T00:45:39.586458Z"
    }
   },
   "outputs": [
    {
     "data": {
      "text/plain": [
       "0.328125"
      ]
     },
     "execution_count": 43,
     "metadata": {},
     "output_type": "execute_result"
    }
   ],
   "source": [
    "#p(x = 0,5) = 1/2\n",
    "#p(x = 0,25) = 1/4\n",
    "#p(x = 0,125) = 1/8\n",
    "\n",
    "0.5**2 + 0.25**2 + 0.125**2 "
   ]
  },
  {
   "cell_type": "code",
   "execution_count": 47,
   "id": "6e6972ae",
   "metadata": {
    "ExecuteTime": {
     "end_time": "2021-10-19T00:50:10.920188Z",
     "start_time": "2021-10-19T00:50:10.912189Z"
    }
   },
   "outputs": [
    {
     "data": {
      "text/plain": [
       "0.3333333333333333"
      ]
     },
     "execution_count": 47,
     "metadata": {},
     "output_type": "execute_result"
    }
   ],
   "source": [
    "i = np.array(range(1,100))\n",
    "x = 0.5**i\n",
    "x[x ==np.inf] = 0\n",
    "sum(x**2)\n"
   ]
  },
  {
   "cell_type": "markdown",
   "id": "57a9dba0",
   "metadata": {},
   "source": [
    "### Questão 5"
   ]
  },
  {
   "cell_type": "markdown",
   "id": "03ce87d4",
   "metadata": {},
   "source": [
    "Em um programa de auditório, havia 3 portas (A, B, C), dentro da qual uma continha um prêmio. O participante escolheu a porta A e antes de abrir a porta o apresentador abriu a porta C, na qual não havia nada. O participante aumentará a probabilidade de acertar a porta caso mude a escolha dele da porta A para a B?"
   ]
  },
  {
   "cell_type": "code",
   "execution_count": null,
   "id": "cb736e05",
   "metadata": {},
   "outputs": [],
   "source": []
  },
  {
   "cell_type": "markdown",
   "id": "4a12dfd0-7697-45fa-9117-06986f5334a0",
   "metadata": {},
   "source": [
    "### Questão 6\n",
    "\n",
    "Uma relação bem importante entre uma população e uma amostra, é que uma amostra pode ser significativa daquela população (ou seja, podemos inferir que a média e variância da amostra será bem próximo do valor real da população), isto quando essa amostra for grande o suficiente para isso. Vamos fazer algumas simulações utilizando o _Python_ para testar esses conceicos, resolvendo os itens a seguir:\n",
    "\n",
    "__A)__ Crie uma lista com número aleatórios entre 20 e 50 e que essa lista contenham 1 milhão de elementos;\n",
    "\n",
    "__B)__ Calcule a média e a variância para essa lista;\n",
    "\n",
    "__C)__ Faça amostra aleatórias de diversos tamanhos (10, 100, 1.000 e 10.000 elementos) e calcule as mesmas métricas que o item anterior, para avaliar o conceito proposto no enunciado"
   ]
  },
  {
   "cell_type": "code",
   "execution_count": null,
   "id": "3671884d-49ed-4023-9695-fc5e69dc2f78",
   "metadata": {},
   "outputs": [],
   "source": [
    "import random\n",
    "#Generate 5 random numbers between 10 and 30\n",
    "randomlist = random.sample(range(10, 30), 5)\n",
    "print(randomlist)"
   ]
  },
  {
   "cell_type": "markdown",
   "id": "600e9ee3-525b-4d9a-a0bc-aac739c72837",
   "metadata": {},
   "source": [
    "### Questão 7\n",
    "\n",
    "Neste exercício vamos demonstrar a importância de uma amostragem estratificada quando temos grupos significantes dentro da população. Faça os seguintes itens:\n",
    "\n",
    "__A)__ Crie 3 listas de números aleatórios sendo elas:\n",
    "    - uma lista com números aleatórios entre 40 e 50 contendo 10.000 elementos;\n",
    "    - uma lista com números aleatórios entre 10 e 20 contendo 6.000 elementos;\n",
    "    - uma lista com números aleatórios entre 80 e 90 contendo 4.000 elementos.\n",
    "    \n",
    "__B)__ Calcule a média e a variância para cada uma das 3 listas;\n",
    "\n",
    "__C)__ Calcule a média e a variância para a população, onde a população seja as 3 listas juntas;\n",
    "\n",
    "__Dica.:__ Neste caso, temos que trabalhar com média e variância ponderada!\n",
    "\n",
    "Para calcular a média ponderada devemos seguir a fórmula abaixo:\n",
    "    \n",
    "$$\\overline{x}_{p} = \\sum_{i=1}^{k} p_i \\overline{x}_i$$\n",
    "\n",
    "onde $k$ e o número de grupos dentro da população e $p_i$ os pesos de cada grupo definido por $p_i = n_i/N$\n",
    "\n",
    "Já para o variância ponderada, deve-se calcular da seguinte forma:\n",
    "\n",
    "$$S_{p}^{2} = \\sum_{i=1}^{k} S_{i}^{2}$$\n",
    "\n",
    "__D)__ Una as 3 listas em uma só e retire uma amostra de 1% da lista resultante. Calcule a média e a variância para esta amostra;\n",
    "\n",
    "__E)__ Por fim, faça uma amostra estratificada da seguinte forma: faça uma amostra aleatória de 1% de cada uma das 3 listas e em seguida calcule a média e a variância para a amostra estratificada (será necessário utilizar a média e variância ponderada!).\n",
    "\n",
    "__F)__ Compare o resultado das métricas para a amostra e a amostra estratificada com o valor das métricas da população."
   ]
  }
 ],
 "metadata": {
  "kernelspec": {
   "display_name": "Python 3 (ipykernel)",
   "language": "python",
   "name": "python3"
  },
  "language_info": {
   "codemirror_mode": {
    "name": "ipython",
    "version": 3
   },
   "file_extension": ".py",
   "mimetype": "text/x-python",
   "name": "python",
   "nbconvert_exporter": "python",
   "pygments_lexer": "ipython3",
   "version": "3.8.11"
  },
  "varInspector": {
   "cols": {
    "lenName": 16,
    "lenType": 16,
    "lenVar": 40
   },
   "kernels_config": {
    "python": {
     "delete_cmd_postfix": "",
     "delete_cmd_prefix": "del ",
     "library": "var_list.py",
     "varRefreshCmd": "print(var_dic_list())"
    },
    "r": {
     "delete_cmd_postfix": ") ",
     "delete_cmd_prefix": "rm(",
     "library": "var_list.r",
     "varRefreshCmd": "cat(var_dic_list()) "
    }
   },
   "types_to_exclude": [
    "module",
    "function",
    "builtin_function_or_method",
    "instance",
    "_Feature"
   ],
   "window_display": false
  }
 },
 "nbformat": 4,
 "nbformat_minor": 5
}
