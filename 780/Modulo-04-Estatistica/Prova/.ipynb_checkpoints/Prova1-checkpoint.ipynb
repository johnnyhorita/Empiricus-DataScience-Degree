{
 "cells": [
  {
   "cell_type": "code",
   "execution_count": 1,
   "id": "e5ab3ff8",
   "metadata": {
    "ExecuteTime": {
     "end_time": "2021-11-05T22:09:34.276314Z",
     "start_time": "2021-11-05T22:09:33.605861Z"
    }
   },
   "outputs": [],
   "source": [
    "#Importando bibliotecas\n",
    "import numpy as np\n",
    "from math import factorial\n",
    "\n",
    "from scipy import stats"
   ]
  },
  {
   "cell_type": "markdown",
   "id": "ffea59ec",
   "metadata": {},
   "source": [
    "Questão #1\n",
    "\n",
    "Enunciado\n",
    "Identifique nas alternativas abaixo, a opção que contenha apenas métricas de posição:\n",
    "\n",
    "Alternativas\n",
    "[ ] média, desvio padrão\n",
    "\n",
    "[ ] desvio padrão, variância\n",
    "\n",
    "[X] mediana, moda\n",
    "\n",
    "[ ] variância, mediana\n",
    "\n",
    "[ ] média, correlação de Pearson\n",
    "\n",
    "Referencia: Conteúdo Class, Introdução à estatistica, 2- Medidas de Posição\n",
    "https://class.letscode.com.br/apps/academy/courses/965183ab-dfe9-4986-9b79-bee8ccfe6581/96230df4-b43e-11eb-b735-022e1f507e0a/a38a74e3-1d83-44b1-963b-9ea216e531c2"
   ]
  },
  {
   "cell_type": "markdown",
   "id": "7563a00f",
   "metadata": {
    "ExecuteTime": {
     "end_time": "2021-10-29T22:30:11.092901Z",
     "start_time": "2021-10-29T22:30:11.084932Z"
    }
   },
   "source": [
    "Questão #2\n",
    "\n",
    "Enunciado\n",
    "Dado o boxplot conforme a figura abaixo:\n",
    "\n",
    "\n",
    "Como é definida a fórmula para os limites superior e inferior do boxplot que separa os dados da distribuição \n",
    "dos prováveis outliers?\n",
    "\n",
    "Alternativas\n",
    "[ ] Q1 + 1.5(Q3 - Q1), Q3 - 1.5(Q3 - Q1)\n",
    "\n",
    "[ ] Q3 + 1(Q3 - Q1), Q1 - 1(Q3 - Q1)\n",
    "\n",
    "[ ] Q3 - 1.5(Q3 - Q1), Q1 + 1.5(Q3 - Q1)\n",
    "\n",
    "[X] Q3 + 1.5(Q3 - Q1), Q1 - 1.5(Q3 - Q1)\n",
    "\n",
    "[ ] 1.5Q3 + (Q3 - Q1), 1.5Q1 - (Q3 - Q1)\n",
    "\n",
    "Referencia: https://operdata.com.br/blog/como-interpretar-um-boxplot/#:~:text=Sendo%20assim%2C%20os%20limites%20inferior,(Terceiro%20Quartil%20%E2%80%93%20Primeiro%20Quartil)"
   ]
  },
  {
   "cell_type": "markdown",
   "id": "d048191d",
   "metadata": {
    "ExecuteTime": {
     "end_time": "2021-10-29T22:48:19.356480Z",
     "start_time": "2021-10-29T22:48:19.349479Z"
    }
   },
   "source": [
    "Questão #3\n",
    "\n",
    "Enunciado\n",
    "Rafael queria levar dinheiro na escola para comprar balas, mas sua mãe só deixou que ele levasse duas moedas para a escola. \n",
    "Sabendo que dentro do cofre do Rafael, temos as seguintes moedas:\n",
    "\n",
    "10 centavos = 5 moedas\n",
    "25 centavos = 3 moedas\n",
    "50 centavos = 10 moedas\n",
    "01 real = 2 moedas\n",
    "Qual a probabilidade de Rafael retirar respectivamente uma moeda de 1 real e uma moeda de 25 centavos?\n",
    "\n",
    "Alternativas\n",
    "\n",
    "[ ] 30,0 %\n",
    "\n",
    "[ ] 10,0 %\n",
    "\n",
    "[X] 1,6 %\n",
    "\n",
    "[ ] 15,8 %\n",
    "\n",
    "[ ] 5,3 %\n",
    "\n"
   ]
  },
  {
   "cell_type": "code",
   "execution_count": 2,
   "id": "1dc312d9",
   "metadata": {
    "ExecuteTime": {
     "end_time": "2021-11-05T22:11:23.912744Z",
     "start_time": "2021-11-05T22:11:23.901714Z"
    }
   },
   "outputs": [
    {
     "name": "stdout",
     "output_type": "stream",
     "text": [
      "0.1\n",
      "0.15789473684210525\n",
      "1.58%\n"
     ]
    }
   ],
   "source": [
    "#m10 centavos = 5 moedas\n",
    "#m25 centavos = 3 moedas\n",
    "#m50 centavos = 10 moedas\n",
    "#m1 real = 2 moedas\n",
    "\n",
    "m10 = 5\n",
    "m25 = 3\n",
    "m50 = 10\n",
    "m1 = 2\n",
    "\n",
    "qt_moedas = m10 + m25 + m50 + m1\n",
    "qt_moedas\n",
    "\n",
    "a = m1/qt_moedas \n",
    "b = 3/(qt_moedas - 1)\n",
    "\n",
    "print(a)\n",
    "print(b)\n",
    "\n",
    "c = a*b\n",
    "print(f'{c:.2%}')"
   ]
  },
  {
   "cell_type": "markdown",
   "id": "2ff5e711",
   "metadata": {},
   "source": [
    "Questão #4\n",
    "\n",
    "Enunciado\n",
    "\n",
    "Em uma filial de um banco, 40% dos clientes que vão ao caixa eletrônico sacam dinheiro do caixa. \n",
    "Utilizando de uma distribuição binomial, qual é a probabilidade de no máximo 12 clientes sacarem dinheiro em um dia que tivemos 30 clientes no caixa eletrônico?\n",
    "\n",
    "Alternativas\n",
    "\n",
    "[ ] 57,8 %\n",
    "\n",
    "[X] 52,2 %\n",
    "\n",
    "[ ] 42,2 %\n",
    "\n",
    "[ ] 47,8 %\n",
    "\n",
    "[ ] 40,0 %"
   ]
  },
  {
   "cell_type": "code",
   "execution_count": 22,
   "id": "3a85e05b",
   "metadata": {
    "ExecuteTime": {
     "end_time": "2021-11-05T22:24:33.935264Z",
     "start_time": "2021-11-05T22:24:33.924268Z"
    }
   },
   "outputs": [
    {
     "data": {
      "text/plain": [
       "0.5784657285461176"
      ]
     },
     "execution_count": 22,
     "metadata": {},
     "output_type": "execute_result"
    }
   ],
   "source": [
    "#X~Bin(6,1/4)\n",
    "#P(X = 12)\n",
    "\n",
    "p = 0.4 #probabilidade de sucesso\n",
    "n = 30 #numero de filhos\n",
    "k = 12\n",
    "\n",
    "stats.binom(n,p).cdf(12)\n"
   ]
  },
  {
   "cell_type": "code",
   "execution_count": 23,
   "id": "c91aeff9",
   "metadata": {
    "ExecuteTime": {
     "end_time": "2021-11-05T22:25:21.662833Z",
     "start_time": "2021-11-05T22:25:21.656834Z"
    }
   },
   "outputs": [
    {
     "name": "stdout",
     "output_type": "stream",
     "text": [
      "Probabilidade:  14.74 %\n"
     ]
    }
   ],
   "source": [
    "p = 0.4 #probabilidade de sucesso\n",
    "n = 30 #numero de filhos\n",
    "k = 12 # frequencia observada\n",
    "q = 1 - p # insucesso\n",
    "\n",
    "\n",
    "def func_binomial(n, p, k):\n",
    "    C = factorial(n)/(factorial(n-k)*factorial(k))\n",
    "    return C*np.power(p, k)*np.power(1-p, n-k)\n",
    "\n",
    "print('Probabilidade: ', round(func_binomial(n, p, k)*100,2), '%') #Probabilidade da metade das crianças serem loiras"
   ]
  },
  {
   "cell_type": "code",
   "execution_count": null,
   "id": "1ac5f911",
   "metadata": {
    "ExecuteTime": {
     "end_time": "2021-10-30T01:16:35.479765Z",
     "start_time": "2021-10-30T01:16:35.472022Z"
    }
   },
   "outputs": [],
   "source": [
    "prob=0\n",
    "for k in range(1,13):\n",
    "    prob +=  round(func_binomial(n, p, k)*100,2)\n",
    "\n",
    "\n",
    "print(f'Probabilidade k >= {k}: {prob}')"
   ]
  },
  {
   "cell_type": "code",
   "execution_count": null,
   "id": "7efb5689",
   "metadata": {},
   "outputs": [],
   "source": [
    "print('Probabilidade: ', round(func_binomial(n, p, k)*100,2), '%')"
   ]
  },
  {
   "cell_type": "code",
   "execution_count": 26,
   "id": "e155031b",
   "metadata": {
    "ExecuteTime": {
     "end_time": "2021-11-05T22:26:30.365162Z",
     "start_time": "2021-11-05T22:26:30.359141Z"
    }
   },
   "outputs": [
    {
     "data": {
      "text/plain": [
       "0.5784657285461176"
      ]
     },
     "execution_count": 26,
     "metadata": {},
     "output_type": "execute_result"
    }
   ],
   "source": [
    "p = 0.4 #Probabilidade de clientes\n",
    "n = 30 #\n",
    "k = 12\n",
    "\n",
    "rv = stats.binom(n, p)\n",
    "rv.cdf(12)"
   ]
  },
  {
   "cell_type": "markdown",
   "id": "cb4bde74",
   "metadata": {},
   "source": [
    "Questão #5\n",
    "\n",
    "Enunciado\n",
    "\n",
    "Em um centro de distribuição logístico da Amazon, chegam cerca de 1.440 produtos por dia.\n",
    "Sabendo que segue uma distribuição de Poisson, qual a probabilidade de que em um minuto cheguem 3 produtos?\n",
    "\n",
    "Alternativas\n",
    "\n",
    "[ ] 36,8 %\n",
    "\n",
    "[ ] 55,2 %\n",
    "\n",
    "[ ] 24,5 %\n",
    "\n",
    "[X] 6,1 %\n",
    "\n",
    "[ ] 18,4 %"
   ]
  },
  {
   "cell_type": "code",
   "execution_count": 8,
   "id": "dc4b6d04",
   "metadata": {
    "ExecuteTime": {
     "end_time": "2021-11-05T22:15:29.214169Z",
     "start_time": "2021-11-05T22:15:29.205138Z"
    }
   },
   "outputs": [
    {
     "name": "stdout",
     "output_type": "stream",
     "text": [
      "6.13%\n"
     ]
    }
   ],
   "source": [
    "k=3\n",
    "lbd = 1440 / 1440 = (60*24)\n",
    "\n",
    "rv = stats.poisson(lbd)\n",
    "a = rv.pmf(k)\n",
    "print(f'{a:0.2%}')"
   ]
  },
  {
   "cell_type": "markdown",
   "id": "2b74dc73",
   "metadata": {},
   "source": [
    "Questão #6\n",
    "\n",
    "Enunciado\n",
    "Suponha que 60% das mulheres que compram kits de gravidez instantâneos estejam, de fato, grávidas. \n",
    "Para um kit de uma marca específica, se a mulher estiver grávida, o teste fornecerá resultado positivo 96% das vezes e negativo 4% das vezes (um “falso negativo\"). Se ela não estiver grávida, o teste resultará positivo em 1% das vezes (um “falso positivo”) e negativo 99% das vezes . Suponha que um teste resulte positivo. Qual a probabilidade de que a mulher esteja realmente grávida?\n",
    "\n",
    "\n",
    "Alternativas\n",
    "\n",
    "[ ] 77,7 %\n",
    "\n",
    "[ ] 63,2 %\n",
    "\n",
    "[ ] 39,4 %\n",
    "\n",
    "[ ] 86,4 %\n",
    "\n",
    "[X] 99,3 %\n",
    "\n",
    "Referencia: http://www.ucs.br/etc/conferencias/index.php/mostraucsppga/mostrappga2013/paper/viewFile/3639/1086\n"
   ]
  },
  {
   "cell_type": "markdown",
   "id": "50fe5ff8",
   "metadata": {},
   "source": [
    "Temos uma grávida, e um teste T utilizado para identificar a gravidez.\n",
    "\n",
    "Não Grávida 1% \n",
    "\n",
    "\n",
    "|                | Pessoa Grávida | Pessoa Não Grávida |\n",
    "|----------------|----------------|--------------------|\n",
    "| Teste positivo |  96 %          |  1 %               |\n",
    "| Teste Negativo |   4 %          | 99 %               |"
   ]
  },
  {
   "cell_type": "code",
   "execution_count": 9,
   "id": "1460e949",
   "metadata": {
    "ExecuteTime": {
     "end_time": "2021-11-05T22:17:44.785175Z",
     "start_time": "2021-11-05T22:17:44.779210Z"
    }
   },
   "outputs": [
    {
     "data": {
      "text/plain": [
       "0.576"
      ]
     },
     "execution_count": 9,
     "metadata": {},
     "output_type": "execute_result"
    }
   ],
   "source": [
    "(0.6*0.96) "
   ]
  },
  {
   "cell_type": "code",
   "execution_count": 10,
   "id": "2cc7b28e",
   "metadata": {
    "ExecuteTime": {
     "end_time": "2021-11-05T22:17:45.608821Z",
     "start_time": "2021-11-05T22:17:45.603812Z"
    }
   },
   "outputs": [
    {
     "data": {
      "text/plain": [
       "0.6"
      ]
     },
     "execution_count": 10,
     "metadata": {},
     "output_type": "execute_result"
    }
   ],
   "source": [
    "(0.6*0.96) + (0.6*0.04)"
   ]
  },
  {
   "cell_type": "code",
   "execution_count": 11,
   "id": "e2e9f9db",
   "metadata": {
    "ExecuteTime": {
     "end_time": "2021-11-05T22:17:46.494987Z",
     "start_time": "2021-11-05T22:17:46.488991Z"
    }
   },
   "outputs": [
    {
     "data": {
      "text/plain": [
       "0.4"
      ]
     },
     "execution_count": 11,
     "metadata": {},
     "output_type": "execute_result"
    }
   ],
   "source": [
    "(0.4*0.01) + (0.4*0.99)"
   ]
  },
  {
   "cell_type": "code",
   "execution_count": 12,
   "id": "a6d2ae2d",
   "metadata": {
    "ExecuteTime": {
     "end_time": "2021-11-05T22:17:47.486998Z",
     "start_time": "2021-11-05T22:17:47.481961Z"
    }
   },
   "outputs": [
    {
     "data": {
      "text/plain": [
       "0.993103448275862"
      ]
     },
     "execution_count": 12,
     "metadata": {},
     "output_type": "execute_result"
    }
   ],
   "source": [
    "(0.6*0.96) / ((0.6*0.96) + (0.4*0.01))\n"
   ]
  },
  {
   "cell_type": "code",
   "execution_count": 13,
   "id": "209037e4",
   "metadata": {
    "ExecuteTime": {
     "end_time": "2021-11-05T22:17:51.511799Z",
     "start_time": "2021-11-05T22:17:51.506798Z"
    }
   },
   "outputs": [
    {
     "name": "stdout",
     "output_type": "stream",
     "text": [
      "99.31%\n"
     ]
    }
   ],
   "source": [
    "a = (0.6*0.96) / ((0.6*0.96) + (0.4*0.01))\n",
    "print(f'{a:.2%}')"
   ]
  },
  {
   "cell_type": "markdown",
   "id": "be0db229",
   "metadata": {},
   "source": [
    "Questão #7\n",
    "\n",
    "Enunciado\n",
    "\n",
    "Uma máquina de sorvete está regulada de modo a servir uma média de 80g por casquinha. \n",
    "Se a quantidade servida por casquinha seguir uma distribuição normal com desvio padrão de 8g, \n",
    "qual a porcentagem de casquinhas que conterão mais de 90g de sorvete?\n",
    "\n",
    "Alternativas\n",
    "\n",
    "[ ] 26,6 %\n",
    "\n",
    "[ ] 73,4 %\n",
    "\n",
    "[X] 10,6 %\n",
    "\n",
    "[ ] 50,0 %\n",
    "\n",
    "[ ] 89,4 %"
   ]
  },
  {
   "cell_type": "code",
   "execution_count": 16,
   "id": "e3b5f6d1",
   "metadata": {
    "ExecuteTime": {
     "end_time": "2021-11-05T22:20:31.929911Z",
     "start_time": "2021-11-05T22:20:31.922876Z"
    }
   },
   "outputs": [
    {
     "name": "stdout",
     "output_type": "stream",
     "text": [
      "A probabilidade de ter mais que 150g é igual a:  10.56 %\n"
     ]
    }
   ],
   "source": [
    "import scipy.stats as st\n",
    "import numpy as np\n",
    "\n",
    "# Definindo as metricas\n",
    "media = 80\n",
    "dp = 8\n",
    "\n",
    "# Calculand o valor Z para o nosso caso\n",
    "z = (90-media)/dp\n",
    "\n",
    "print('A probabilidade de ter mais que 150g é igual a: ', np.round((1-st.norm.cdf(z))*100, 2), '%')"
   ]
  },
  {
   "cell_type": "code",
   "execution_count": 18,
   "id": "24de7115",
   "metadata": {
    "ExecuteTime": {
     "end_time": "2021-11-05T22:21:21.085886Z",
     "start_time": "2021-11-05T22:21:21.077855Z"
    }
   },
   "outputs": [
    {
     "data": {
      "text/plain": [
       "0.10564977366685535"
      ]
     },
     "execution_count": 18,
     "metadata": {},
     "output_type": "execute_result"
    }
   ],
   "source": [
    "1-stats.norm(80,8).cdf(90)"
   ]
  },
  {
   "cell_type": "markdown",
   "id": "3b7a7514",
   "metadata": {},
   "source": [
    "Questão #8\n",
    "\n",
    "Enunciado\n",
    "\n",
    "O tempo para fabricar um perfume em uma empresa é descrito por uma variável aleatória X, \n",
    "medida em horas, com distribuição normal de média mu = 7 e desvio padrão sigma = 2. \n",
    "Qual a probabilidade de que um perfume será finalizado entre 4 e 11 horas?\n",
    "\n",
    "Alternativas\n",
    "\n",
    "[X] 91,0 %\n",
    "\n",
    "[ ] 93,4 %\n",
    "\n",
    "[ ] 9,0 %\n",
    "\n",
    "[ ] 97,7 %\n",
    "\n",
    "[ ] 2,3 %"
   ]
  },
  {
   "cell_type": "code",
   "execution_count": 21,
   "id": "0655cc0a",
   "metadata": {
    "ExecuteTime": {
     "end_time": "2021-11-05T22:22:40.521755Z",
     "start_time": "2021-11-05T22:22:40.514761Z"
    }
   },
   "outputs": [
    {
     "name": "stdout",
     "output_type": "stream",
     "text": [
      "Z score para o valor 45: -1.5\n",
      "Z score para o valor 62: 2.0\n",
      "Probabilidade de X assumir valor entre 4 e 11: 91.04 %\n"
     ]
    }
   ],
   "source": [
    "mu = 7\n",
    "sigma = 2\n",
    "\n",
    "z1 = (4-mu)/sigma\n",
    "z2 = (11-mu)/sigma\n",
    "\n",
    "print('Z score para o valor 45:', z1)\n",
    "\n",
    "print('Z score para o valor 62:', z2)\n",
    "\n",
    "#olhar na tabela ou usar a formula abaixo\n",
    "print('Probabilidade de X assumir valor entre 4 e 11:', round((stats.norm.cdf(z2)-stats.norm.cdf(z1))*100,2),'%')"
   ]
  },
  {
   "cell_type": "code",
   "execution_count": 20,
   "id": "620c9365",
   "metadata": {
    "ExecuteTime": {
     "end_time": "2021-11-05T22:22:34.619238Z",
     "start_time": "2021-11-05T22:22:34.612273Z"
    }
   },
   "outputs": [
    {
     "data": {
      "text/plain": [
       "0.9104426667829627"
      ]
     },
     "execution_count": 20,
     "metadata": {},
     "output_type": "execute_result"
    }
   ],
   "source": [
    "rv = stats.norm(7,2)\n",
    "rv.cdf(11)- rv.cdf(4)"
   ]
  },
  {
   "cell_type": "code",
   "execution_count": null,
   "id": "f0908796",
   "metadata": {},
   "outputs": [],
   "source": [
    "Questão #9\n",
    "\n",
    "Enunciado\n",
    "\n",
    "Dados os tipos de amostragem e as definições dos mesmos, assinale a alternativa que indique cada tipo de amostragem com a respectiva definição:\n",
    "\n",
    "Tipos de Amostragem:\n",
    "\n",
    "1 - Amostragem Aleatória Simples\n",
    "\n",
    "2 - Amostragem Estratificada\n",
    "\n",
    "3 - Amostragem por Conglomerado\n",
    "\n",
    "Definições:\n",
    "\n",
    "I - Método de amostragem onde a população é dividida em grupos (estratos) segundo algumas características conhecidas sobre a população em estudo;\n",
    "\n",
    "II - Método de amostragem que divide em subpopulações (conglomerados), onde escolhem aleatóriamente por amostragem simples as subpopulações e todos os elementos de uma subpopulação irão fazer parte da amostra;\n",
    "\n",
    "III - Método de amostragem mais simples onde serão escolhidos aleatoriamente elementos com ou sem reposição.\n",
    "\n",
    "Alternativas\n",
    "[ ] 1-II, 2-I, 3-III\n",
    "\n",
    "[ ] 1-II, 2-III, 3-I\n",
    "\n",
    "[X] 1-III, 2-I, 3-II\n",
    "\n",
    "[ ] 1-I, 2-II, 3-III\n",
    "\n",
    "[ ] 1-III, 2-II, 3-I\n"
   ]
  },
  {
   "cell_type": "markdown",
   "id": "41e35815",
   "metadata": {},
   "source": [
    "Questão #10\n",
    "\n",
    "Enunciado\n",
    "\n",
    "Um fabricante de refrigerante anunciou que o índice de cafeína do seu refrigerante de cola é igual a 35mg por lata. \n",
    "Um laboratório realizou 20 análises do índice de cafeína obtendo os \n",
    "resultados (37, 34, 36, 37, 35, 32, 30, 35, 34, 36, 39, 38, 34, 35, 31, 30, 33, 35, 36, 31). \n",
    "Sabe-se que o índice de cafeína do refrigerante de cola dessa marca se distribui normalmente com variância igual a 4. \n",
    "Responda respectivamente a conclusão sobre o teste e o valor crítico para este teste com nível de significância de 5%?\n",
    "\n",
    "Alternativas\n",
    "\n",
    "[ ] Aceita H0, X_critico = 34,40 mg\n",
    "\n",
    "[X] Rejeita H0, X_critico = 34,40 mg\n",
    "\n",
    "[ ] Aceita H0, X_critico = 35,74 mg\n",
    "\n",
    "[ ] Rejeita H0, X_critico = 35,74 mg\n",
    "\n"
   ]
  },
  {
   "cell_type": "code",
   "execution_count": null,
   "id": "e00ae82f",
   "metadata": {},
   "outputs": [],
   "source": [
    "h0 <= 35\n",
    "h1 > 35"
   ]
  },
  {
   "cell_type": "code",
   "execution_count": 28,
   "id": "4be1308b",
   "metadata": {
    "ExecuteTime": {
     "end_time": "2021-11-05T22:29:32.082725Z",
     "start_time": "2021-11-05T22:29:32.078724Z"
    }
   },
   "outputs": [
    {
     "name": "stdout",
     "output_type": "stream",
     "text": [
      "The average is  34.4\n"
     ]
    }
   ],
   "source": [
    "number_list = [37, 34, 36, 37, 35, 32, 30, 35, 34, 36, 39, 38, 34, 35, 31, 30, 33, 35, 36, 31]\n",
    "\n",
    "avg = sum(number_list)/len(number_list)\n",
    "print(\"The average is \", round(avg,2))\n"
   ]
  },
  {
   "cell_type": "code",
   "execution_count": 29,
   "id": "3d6b94ec",
   "metadata": {
    "ExecuteTime": {
     "end_time": "2021-11-05T22:29:48.580125Z",
     "start_time": "2021-11-05T22:29:48.574125Z"
    }
   },
   "outputs": [
    {
     "data": {
      "text/plain": [
       "-0.6708203932499385"
      ]
     },
     "execution_count": 29,
     "metadata": {},
     "output_type": "execute_result"
    }
   ],
   "source": [
    "n = 20\n",
    "media_amostra = 34.4\n",
    "desvio_padrao = 4\n",
    "mu = 35\n",
    "confianca = 0.95\n",
    "significancia = 1 - confianca\n",
    "\n",
    "\n",
    "tc = (media_amostra - mu) / (desvio_padrao / np.sqrt(n))\n",
    "tc"
   ]
  },
  {
   "cell_type": "code",
   "execution_count": null,
   "id": "d0d56b60",
   "metadata": {
    "ExecuteTime": {
     "end_time": "2021-10-30T00:48:47.129301Z",
     "start_time": "2021-10-30T00:48:47.120304Z"
    }
   },
   "outputs": [],
   "source": [
    "from scipy.stats import t as t_student\n",
    "\n",
    "n = 20\n",
    "graus_de_liberdade = n - 1\n",
    "\n",
    "t_alpha = t_student.ppf(confianca, df=graus_de_liberdade)\n",
    "t_alpha"
   ]
  },
  {
   "cell_type": "code",
   "execution_count": null,
   "id": "5befe377",
   "metadata": {},
   "outputs": [],
   "source": []
  }
 ],
 "metadata": {
  "kernelspec": {
   "display_name": "Python 3 (ipykernel)",
   "language": "python",
   "name": "python3"
  },
  "language_info": {
   "codemirror_mode": {
    "name": "ipython",
    "version": 3
   },
   "file_extension": ".py",
   "mimetype": "text/x-python",
   "name": "python",
   "nbconvert_exporter": "python",
   "pygments_lexer": "ipython3",
   "version": "3.8.12"
  }
 },
 "nbformat": 4,
 "nbformat_minor": 5
}
