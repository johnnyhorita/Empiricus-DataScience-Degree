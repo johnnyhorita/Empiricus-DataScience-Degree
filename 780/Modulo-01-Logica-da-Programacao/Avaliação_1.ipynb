{
 "cells": [
  {
   "cell_type": "markdown",
   "metadata": {},
   "source": [
    "# 1"
   ]
  },
  {
   "cell_type": "markdown",
   "metadata": {},
   "source": [
    "Dado o seguinte trecho de código, o que deve ser colocado no lugar de XXXXXX para que a função imprima na tela os números ímpares de 0 a 10?\n",
    "\n",
    "```python\n",
    "x = 0\n",
    "while x <= 10:\n",
    "    if XXXXXX:\n",
    "        print(x)\n",
    "    x += 1\n",
    "```\n",
    "\n",
    "- [ ] x//2 == 0  \n",
    "\n",
    "- [ ] x%2 == 1  \n",
    "\n",
    "- [ ] x%2 == 0  \n",
    "\n",
    "- [ ] x//2 == 1  "
   ]
  },
  {
   "cell_type": "markdown",
   "metadata": {},
   "source": [
    "# 2"
   ]
  },
  {
   "cell_type": "markdown",
   "metadata": {},
   "source": [
    "Se... então... se...?\n",
    "Dado o seguinte trecho de código, quais linhas serão mostradas na tela?\n",
    "```python\n",
    "x = 4\n",
    "if x < 4:\n",
    "    print('linha 1')\n",
    "elif x > 5:\n",
    "    print('linha 2')\n",
    "print('linha 3')\n",
    "if x%4 == 0:\n",
    "    print('linha 4')\n",
    "else:\n",
    "    print('linha 5')\n",
    "```\n",
    "\n",
    "- [ ] Apenas a linha 3\n",
    "\n",
    "- [ ] Linhas 3 e 4\n",
    "\n",
    "- [ ] Linhas 2 e 4\n",
    "\n",
    "- [ ] Linhas 2 e 5"
   ]
  },
  {
   "cell_type": "markdown",
   "metadata": {},
   "source": [
    "# 3"
   ]
  },
  {
   "cell_type": "markdown",
   "metadata": {},
   "source": [
    "Dado o código de uma página WEB:\n",
    "```html\n",
    "<html>\n",
    "  <body>\n",
    "    <p class=\"classe_a\" id=\"1\"> \n",
    "      Esse é o primeiro parágrafo.\n",
    "    </p>\n",
    "    <p class=\"classe_a\" id=\"2\"> \n",
    "      Esse é o segundo parágrafo.\n",
    "    </p>\n",
    "    <p class=\"classe_b\" id=\"3\"> \n",
    "      Esse é o terceiro parágrafo.\n",
    "    </p>\n",
    "  </body>\n",
    "</html>\n",
    "```\n",
    "Suponha que o conteúdo já está em uma variável chamada \"soup\". Utilizando o BeautifulSoup, qual das alternativas mostra o código correto para retornar apenas o texto \"Esse é o terceiro parágrafo.\":\n",
    "\n",
    "- [ ] soup.find_all('p')\n",
    "\n",
    "- [ ] soup.find('p', id='3').get_text()\n",
    "\n",
    "- [ ] soup.find_all('p', id='3')\n",
    "\n",
    "- [ ] soup.find_all('p')[1]\n"
   ]
  },
  {
   "cell_type": "markdown",
   "metadata": {},
   "source": [
    "# 4"
   ]
  },
  {
   "cell_type": "markdown",
   "metadata": {},
   "source": [
    "Somando multiplos argumentos\n",
    "Dada a seguinte função:\n",
    "```python\n",
    "def soma(*args):\n",
    "  result = 0\n",
    "  for i in args:\n",
    "    result = result+i\n",
    "  return result\n",
    "```\n",
    "Como o próprio nome diz, essa é uma função para realizar uma soma de n argumentos, mas dependendo da entrada inserida, o programa resultará em erro. Indique a única opção que pode ser passada como argumento da função para que o código não quebre:\n",
    "\n",
    "- [ ] 1,2,3,4\n",
    "\n",
    "- [ ] '1234'\n",
    "\n",
    "- [ ] [1,2,3,4]\n",
    "\n",
    "- [ ] '1','2','3','4'"
   ]
  },
  {
   "cell_type": "markdown",
   "metadata": {},
   "source": [
    "# 5"
   ]
  },
  {
   "cell_type": "markdown",
   "metadata": {},
   "source": [
    "Extraindo valores de um dicionário\n",
    "Escreva um função que extraia a lista de valores de um dicionário com base numa dada chave:\n",
    "\n",
    "Exemplo:\n",
    "\n",
    "# Input:  \n",
    "lista_de_notas = [\n",
    " {'matemática': 90, 'português': 92},\n",
    " {'matemática': 89, 'português': 94},\n",
    " {'matemática': 92, 'português': 88}\n",
    "]\n",
    "\n",
    "extrai_notas(lista_de_notas, 'matemática')\n",
    "\n",
    "# Output:\n",
    "-> [90, 89, 92]"
   ]
  },
  {
   "cell_type": "code",
   "execution_count": null,
   "metadata": {},
   "outputs": [],
   "source": []
  },
  {
   "cell_type": "markdown",
   "metadata": {},
   "source": [
    "# 6"
   ]
  },
  {
   "cell_type": "markdown",
   "metadata": {},
   "source": [
    "Removendo itens de lista\n",
    "```python\n",
    "def remove_retorna(n, lista):\n",
    "    return XXXXXX\n",
    "```\n",
    "A função acima, deve remover o elemento da posição ‘n’ da ‘lista’ e o retornar. Com essas informações, o que deveríamos pôr no lugar de XXXXXX para que a função funcione corretamente?\n",
    "\n",
    "- [ ] lista.pop(n)\n",
    "\n",
    "- [ ] del(lista[n])\n",
    "\n",
    "- [ ] remove(lista[n])\n",
    "\n",
    "- [ ] lista.remove(n)"
   ]
  },
  {
   "cell_type": "markdown",
   "metadata": {},
   "source": [
    "# 7"
   ]
  },
  {
   "cell_type": "markdown",
   "metadata": {},
   "source": [
    "Fazendo barulho com classe\n",
    "```python\n",
    "class Britadeira():\n",
    "    def __init__(self, marca):\n",
    "        self.marca = marca\n",
    "        self.barulho = 'TRRRA'\n",
    "\n",
    "    def furar(self, n=1, sep=''):\n",
    "        som_completo = ''\n",
    "        for i in range(n):\n",
    "            som_completo += self.barulho + sep\n",
    "        print(f'{som_completo}')\n",
    "```\n",
    "Sem alterar a classe acima, instancie e faça o objeto imprimir \"TRRRA TRRRA TRRRA\"."
   ]
  },
  {
   "cell_type": "markdown",
   "metadata": {},
   "source": [
    "# 8"
   ]
  },
  {
   "cell_type": "markdown",
   "metadata": {},
   "source": [
    "Herança: de geração a geração\n",
    "```python\n",
    "class Mae:\n",
    "    def __init__(self, x=1):\n",
    "        self.x = x\n",
    "\n",
    "class Filha(Mae):\n",
    "    def __init__(self, y=2):\n",
    "        super().__init__()\n",
    "        self.y = y\n",
    "\n",
    "def main():\n",
    "    obj = Filha()\n",
    "    print(obj.x, obj.y)\n",
    "\n",
    "main()\n",
    "```\n",
    "Explique o que o programa acima faz e o que imprimirá (se imprimirá) na tela."
   ]
  },
  {
   "cell_type": "code",
   "execution_count": null,
   "metadata": {},
   "outputs": [],
   "source": []
  }
 ],
 "metadata": {
  "kernelspec": {
   "display_name": "Python 3",
   "language": "python",
   "name": "python3"
  },
  "language_info": {
   "codemirror_mode": {
    "name": "ipython",
    "version": 3
   },
   "file_extension": ".py",
   "mimetype": "text/x-python",
   "name": "python",
   "nbconvert_exporter": "python",
   "pygments_lexer": "ipython3",
   "version": "3.8.3"
  }
 },
 "nbformat": 4,
 "nbformat_minor": 4
}
