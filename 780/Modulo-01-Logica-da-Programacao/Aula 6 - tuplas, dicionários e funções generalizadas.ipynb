{
 "cells": [
  {
   "cell_type": "code",
   "execution_count": 1,
   "metadata": {},
   "outputs": [],
   "source": [
    "%config Completer.use_jedi = False"
   ]
  },
  {
   "cell_type": "markdown",
   "metadata": {},
   "source": [
    "# Aula 6 - tuplas, dicionários e funções generalizadas\n",
    "\n",
    "Na aula de hoje, vamos explorar os seguintes tópicos em Python:\n",
    "\n",
    "- 1) Tuplas\n",
    "- 2) Dicionários\n",
    "- 3) Funções com parâmetros variáveis\n",
    "- 4) Funções com parâmetros opcionais\n"
   ]
  },
  {
   "cell_type": "markdown",
   "metadata": {},
   "source": [
    "____\n",
    "____\n",
    "____"
   ]
  },
  {
   "cell_type": "markdown",
   "metadata": {},
   "source": [
    "## 1) Tuplas\n",
    "\n",
    "Até o momento, temos utilizado **listas** pra armazenar uma coleção de dados.\n",
    "\n",
    "Aprenderemos agora sobre uma nova **estrutura de dados**: tuplas!\n",
    "\n",
    "Tuplas são estruturas bastante parecidas com listas:\n",
    "\n",
    "- Podem guardar **tipos diferentes de dados**.\n",
    "- São indexadas (podemos **acessar elementos por índices**).\n",
    "- São iteráveis (**podemos percorrer com o `for`**)."
   ]
  },
  {
   "cell_type": "markdown",
   "metadata": {},
   "source": [
    "A principal diferença é: tuplas são **imutáveis**!\n",
    "\n",
    "Para tuplas **não é possível**: alterar elementos individuais, adicionar elementos, remover elementos ou alterar a ordem dos elementos. Uma vez criada, não é possível alterar nada de uma tupla!\n",
    "\n",
    "Mas, então, pra que servem as tuplas?\n",
    "\n",
    "- É um jeito de **sinalizar que esses dados não deveriam ser alterados**. \n",
    "\n",
    "- É um meio de garantir que os elementos estarão **em uma ordem específica**.\n",
    "\n",
    "- O acesso a elementos de uma tupla **é bem mais rápido**."
   ]
  },
  {
   "cell_type": "markdown",
   "metadata": {},
   "source": [
    "Tuplas são indicadas entre **parênteses ()**\n"
   ]
  },
  {
   "cell_type": "code",
   "execution_count": 2,
   "metadata": {},
   "outputs": [],
   "source": [
    "# para criar uma tupla utilizamos parênteses\n",
    "tupla = (1, 2, 'Gil')"
   ]
  },
  {
   "cell_type": "code",
   "execution_count": 3,
   "metadata": {},
   "outputs": [
    {
     "data": {
      "text/plain": [
       "(1, 2, 'Gil')"
      ]
     },
     "execution_count": 3,
     "metadata": {},
     "output_type": "execute_result"
    }
   ],
   "source": [
    "tupla"
   ]
  },
  {
   "cell_type": "code",
   "execution_count": 4,
   "metadata": {},
   "outputs": [
    {
     "data": {
      "text/plain": [
       "tuple"
      ]
     },
     "execution_count": 4,
     "metadata": {},
     "output_type": "execute_result"
    }
   ],
   "source": [
    "type(tupla)"
   ]
  },
  {
   "cell_type": "markdown",
   "metadata": {},
   "source": [
    "No entanto, é possível definir tuplas sem a utilização de parênteses, apenas **listando os elementos, separados por vírgula**"
   ]
  },
  {
   "cell_type": "code",
   "execution_count": 5,
   "metadata": {},
   "outputs": [],
   "source": [
    "# criando uma tupla sem parênteses\n",
    "tupla = 1, 2, 'Gil'"
   ]
  },
  {
   "cell_type": "code",
   "execution_count": 6,
   "metadata": {},
   "outputs": [
    {
     "data": {
      "text/plain": [
       "(1, 2, 'Gil')"
      ]
     },
     "execution_count": 6,
     "metadata": {},
     "output_type": "execute_result"
    }
   ],
   "source": [
    "tupla"
   ]
  },
  {
   "cell_type": "code",
   "execution_count": 7,
   "metadata": {},
   "outputs": [
    {
     "data": {
      "text/plain": [
       "tuple"
      ]
     },
     "execution_count": 7,
     "metadata": {},
     "output_type": "execute_result"
    }
   ],
   "source": [
    "type(tupla)"
   ]
  },
  {
   "cell_type": "markdown",
   "metadata": {},
   "source": [
    "Operações com tuplas"
   ]
  },
  {
   "cell_type": "code",
   "execution_count": 8,
   "metadata": {},
   "outputs": [
    {
     "data": {
      "text/plain": [
       "1"
      ]
     },
     "execution_count": 8,
     "metadata": {},
     "output_type": "execute_result"
    }
   ],
   "source": [
    "# para acessar um elemento pelo índice ainda usamos colchete\n",
    "tupla[0]\n"
   ]
  },
  {
   "cell_type": "code",
   "execution_count": 9,
   "metadata": {},
   "outputs": [
    {
     "data": {
      "text/plain": [
       "2"
      ]
     },
     "execution_count": 9,
     "metadata": {},
     "output_type": "execute_result"
    }
   ],
   "source": [
    "tupla[1]"
   ]
  },
  {
   "cell_type": "code",
   "execution_count": 10,
   "metadata": {},
   "outputs": [
    {
     "data": {
      "text/plain": [
       "'Gil'"
      ]
     },
     "execution_count": 10,
     "metadata": {},
     "output_type": "execute_result"
    }
   ],
   "source": [
    "tupla[-1]"
   ]
  },
  {
   "cell_type": "code",
   "execution_count": 11,
   "metadata": {},
   "outputs": [
    {
     "name": "stdout",
     "output_type": "stream",
     "text": [
      "1\n",
      "2\n",
      "Gil\n"
     ]
    }
   ],
   "source": [
    "# imprimindo cada elemento\n",
    "for elemento in tupla:\n",
    "    print(elemento)"
   ]
  },
  {
   "cell_type": "code",
   "execution_count": 12,
   "metadata": {},
   "outputs": [
    {
     "name": "stdout",
     "output_type": "stream",
     "text": [
      "0 1\n",
      "1 2\n",
      "2 Gil\n"
     ]
    }
   ],
   "source": [
    "# Com range\n",
    "for i in range(len(tupla)):\n",
    "    print(i, tupla[i])"
   ]
  },
  {
   "cell_type": "code",
   "execution_count": 13,
   "metadata": {},
   "outputs": [
    {
     "name": "stdout",
     "output_type": "stream",
     "text": [
      "0 1\n",
      "1 2\n",
      "2 Gil\n"
     ]
    }
   ],
   "source": [
    "# Com enumerate\n",
    "for i, elemento in enumerate(tupla):\n",
    "    print(i, elemento)"
   ]
  },
  {
   "cell_type": "markdown",
   "metadata": {},
   "source": [
    "Mas, como dissemos, a tupla é **imutável!** Assim, se tentarmos mudar algum dos seus elementos, teremos um erro:"
   ]
  },
  {
   "cell_type": "code",
   "execution_count": 14,
   "metadata": {},
   "outputs": [
    {
     "ename": "TypeError",
     "evalue": "'tuple' object does not support item assignment",
     "output_type": "error",
     "traceback": [
      "\u001b[0;31m---------------------------------------------------------------------------\u001b[0m",
      "\u001b[0;31mTypeError\u001b[0m                                 Traceback (most recent call last)",
      "\u001b[0;32m<ipython-input-14-b0436ac0b6ac>\u001b[0m in \u001b[0;36m<module>\u001b[0;34m\u001b[0m\n\u001b[1;32m      1\u001b[0m \u001b[0;31m# tentando mudar alguma elemento da tupla\u001b[0m\u001b[0;34m\u001b[0m\u001b[0;34m\u001b[0m\u001b[0;34m\u001b[0m\u001b[0m\n\u001b[0;32m----> 2\u001b[0;31m \u001b[0mtupla\u001b[0m\u001b[0;34m[\u001b[0m\u001b[0;36m0\u001b[0m\u001b[0;34m]\u001b[0m \u001b[0;34m=\u001b[0m \u001b[0;36m21\u001b[0m\u001b[0;34m\u001b[0m\u001b[0;34m\u001b[0m\u001b[0m\n\u001b[0m",
      "\u001b[0;31mTypeError\u001b[0m: 'tuple' object does not support item assignment"
     ]
    }
   ],
   "source": [
    "# tentando mudar alguma elemento da tupla\n",
    "tupla[0] = 21"
   ]
  },
  {
   "cell_type": "markdown",
   "metadata": {},
   "source": [
    "Para \"alterar uma tupla\", podemos fazer um procedimento bem forçado: primeiro, transformamos a tupla em lista; aí, alteramos a lista; depois, transformamos a lista de volta em tupla:"
   ]
  },
  {
   "cell_type": "code",
   "execution_count": 15,
   "metadata": {},
   "outputs": [],
   "source": [
    "# criando uma lista com os elementos da tupla\n",
    "lista_intermediaria = list(tupla)"
   ]
  },
  {
   "cell_type": "code",
   "execution_count": 16,
   "metadata": {},
   "outputs": [
    {
     "data": {
      "text/plain": [
       "[1, 2, 'Gil']"
      ]
     },
     "execution_count": 16,
     "metadata": {},
     "output_type": "execute_result"
    }
   ],
   "source": [
    "lista_intermediaria"
   ]
  },
  {
   "cell_type": "code",
   "execution_count": 17,
   "metadata": {},
   "outputs": [],
   "source": [
    "# alterando um elemento da lista - ao contrário da tupla, a lista é mutável!\n",
    "lista_intermediaria[0] = 21\n"
   ]
  },
  {
   "cell_type": "code",
   "execution_count": 18,
   "metadata": {},
   "outputs": [
    {
     "data": {
      "text/plain": [
       "[21, 2, 'Gil']"
      ]
     },
     "execution_count": 18,
     "metadata": {},
     "output_type": "execute_result"
    }
   ],
   "source": [
    "lista_intermediaria"
   ]
  },
  {
   "cell_type": "code",
   "execution_count": 19,
   "metadata": {},
   "outputs": [],
   "source": [
    "# criando uma tupla a partir de uma lista:\n",
    "\n",
    "tupla_modificada = tuple(lista_intermediaria)\n"
   ]
  },
  {
   "cell_type": "code",
   "execution_count": 20,
   "metadata": {},
   "outputs": [
    {
     "data": {
      "text/plain": [
       "(21, 2, 'Gil')"
      ]
     },
     "execution_count": 20,
     "metadata": {},
     "output_type": "execute_result"
    }
   ],
   "source": [
    "tupla_modificada"
   ]
  },
  {
   "cell_type": "markdown",
   "metadata": {},
   "source": [
    "No entanto, note que a tupla original permaneceu inalterada:"
   ]
  },
  {
   "cell_type": "code",
   "execution_count": 21,
   "metadata": {},
   "outputs": [
    {
     "name": "stdout",
     "output_type": "stream",
     "text": [
      "(1, 2, 'Gil')\n",
      "(21, 2, 'Gil')\n"
     ]
    }
   ],
   "source": [
    "# a tupla original permanece a mesma!\n",
    "print(tupla)\n",
    "print(tupla_modificada)"
   ]
  },
  {
   "cell_type": "markdown",
   "metadata": {},
   "source": [
    "Outra utilidade de tuplas: fazer uma função **retornar mais de um valor**"
   ]
  },
  {
   "cell_type": "code",
   "execution_count": 22,
   "metadata": {},
   "outputs": [],
   "source": [
    "# 1\n",
    "def seq(x):\n",
    "    return x, 2*x, 3*x, 'Danilo'"
   ]
  },
  {
   "cell_type": "code",
   "execution_count": 23,
   "metadata": {},
   "outputs": [
    {
     "data": {
      "text/plain": [
       "(2, 4, 6, 'Danilo')"
      ]
     },
     "execution_count": 23,
     "metadata": {},
     "output_type": "execute_result"
    }
   ],
   "source": [
    "seq(2)"
   ]
  },
  {
   "cell_type": "code",
   "execution_count": 24,
   "metadata": {},
   "outputs": [],
   "source": [
    "resultados = seq(2)"
   ]
  },
  {
   "cell_type": "code",
   "execution_count": 25,
   "metadata": {},
   "outputs": [
    {
     "data": {
      "text/plain": [
       "(2, 4, 6, 'Danilo')"
      ]
     },
     "execution_count": 25,
     "metadata": {},
     "output_type": "execute_result"
    }
   ],
   "source": [
    "resultados"
   ]
  },
  {
   "cell_type": "code",
   "execution_count": 26,
   "metadata": {},
   "outputs": [],
   "source": [
    "x, x2, x3, nome = seq(3)"
   ]
  },
  {
   "cell_type": "code",
   "execution_count": 27,
   "metadata": {},
   "outputs": [
    {
     "name": "stdout",
     "output_type": "stream",
     "text": [
      "3\n",
      "6\n",
      "9\n",
      "Danilo\n"
     ]
    }
   ],
   "source": [
    "print(x)\n",
    "print(x2)\n",
    "print(x3)\n",
    "print(nome)"
   ]
  },
  {
   "cell_type": "code",
   "execution_count": 28,
   "metadata": {},
   "outputs": [
    {
     "name": "stdout",
     "output_type": "stream",
     "text": [
      "(0, 1)\n",
      "(1, 2)\n",
      "(2, 'Gil')\n",
      "------------------------------------\n",
      "0 1\n",
      "1 2\n",
      "2 Gil\n",
      "------------------------------------\n",
      "0 1\n",
      "1 2\n",
      "2 Gil\n"
     ]
    }
   ],
   "source": [
    "# Enumerate retorna uma tupla\n",
    "for valor in enumerate(tupla):\n",
    "    print(valor)\n",
    "\n",
    "print('-'*36)\n",
    "for valor in enumerate(tupla):\n",
    "    print(valor[0], valor[1])\n",
    "\n",
    "print('-'*36)\n",
    "for i, elemento in enumerate(tupla):\n",
    "    print(i, elemento)"
   ]
  },
  {
   "cell_type": "markdown",
   "metadata": {},
   "source": [
    "____\n",
    "____\n",
    "____"
   ]
  },
  {
   "cell_type": "markdown",
   "metadata": {},
   "source": [
    "## 2) Dicionários\n",
    "\n",
    "Uma outra estrutura de dados bem importante em Python são os **dicionários**.\n",
    "\n",
    "O dicionário também é uma **coleção de dados**. \n",
    "\n",
    "A diferença é que um dicionário é definido a partir de **dois elementos**: uma **chave** e um **valor**.\n",
    "\n",
    "- A **chave** é uma string ou int que é utilizada como se fosse um índice, identificando os respectivos valores.\n",
    "\n",
    "- O **valor** pode ser qualquer dado: um int, um float, uma str, um bool, uma lista, uma tupla, outro dicionário...\n",
    "\n"
   ]
  },
  {
   "cell_type": "markdown",
   "metadata": {},
   "source": [
    "Dicionários são indicados **entre chaves{}**, segundo a estrutura:\n",
    "\n",
    "```python\n",
    "dicionario = {\"chave\": valor}\n",
    "```"
   ]
  },
  {
   "cell_type": "code",
   "execution_count": 29,
   "metadata": {},
   "outputs": [],
   "source": [
    "# 2\n",
    "# definindo um dicionário\n",
    "dicionario_do_fulano = {\n",
    "    \"nome\": 'Fulano',\n",
    "    \"idade\": 32,\n",
    "    \"cidade\": \"BH\",\n",
    "    \"filhos\": 0,\n",
    "    \"altura\": 1.42\n",
    "}"
   ]
  },
  {
   "cell_type": "code",
   "execution_count": 30,
   "metadata": {},
   "outputs": [
    {
     "data": {
      "text/plain": [
       "{'nome': 'Fulano', 'idade': 32, 'cidade': 'BH', 'filhos': 0, 'altura': 1.42}"
      ]
     },
     "execution_count": 30,
     "metadata": {},
     "output_type": "execute_result"
    }
   ],
   "source": [
    "dicionario_do_fulano"
   ]
  },
  {
   "cell_type": "code",
   "execution_count": 31,
   "metadata": {},
   "outputs": [
    {
     "data": {
      "text/plain": [
       "'BH'"
      ]
     },
     "execution_count": 31,
     "metadata": {},
     "output_type": "execute_result"
    }
   ],
   "source": [
    "# acessando valores dos dicionários a partir das chaves \n",
    "dicionario_do_fulano['cidade']"
   ]
  },
  {
   "cell_type": "code",
   "execution_count": 32,
   "metadata": {},
   "outputs": [
    {
     "data": {
      "text/plain": [
       "'Fulano'"
      ]
     },
     "execution_count": 32,
     "metadata": {},
     "output_type": "execute_result"
    }
   ],
   "source": [
    "dicionario_do_fulano['nome']"
   ]
  },
  {
   "cell_type": "code",
   "execution_count": 33,
   "metadata": {},
   "outputs": [],
   "source": [
    "cadastro = {\"nomes\" : [\"Joãozinho\", \"Mariazinha\"],\n",
    "                \"idades\" : [32, 25],\n",
    "                \"cidades\" : [\"Mauá\", \"Santo André\"],\n",
    "                \"filhos\": [0, 0],\n",
    "                \"altura\" : [1.80, 1.65]}"
   ]
  },
  {
   "cell_type": "code",
   "execution_count": 34,
   "metadata": {},
   "outputs": [
    {
     "data": {
      "text/plain": [
       "['Joãozinho', 'Mariazinha']"
      ]
     },
     "execution_count": 34,
     "metadata": {},
     "output_type": "execute_result"
    }
   ],
   "source": [
    "cadastro['nomes']"
   ]
  },
  {
   "cell_type": "code",
   "execution_count": 35,
   "metadata": {},
   "outputs": [
    {
     "data": {
      "text/plain": [
       "[32, 25]"
      ]
     },
     "execution_count": 35,
     "metadata": {},
     "output_type": "execute_result"
    }
   ],
   "source": [
    "cadastro['idades']"
   ]
  },
  {
   "cell_type": "markdown",
   "metadata": {},
   "source": [
    "Poderíamos, ao invés de um dicionário, usar uma lista de listas, como abaixo. \n",
    "\n",
    "Porém, neste caso, fica bem menos intuitivo quando queremos selecionar os elementos que representam nomes ou cidades, porque somos obrigado a usar números para indexar, ao invés das chaves."
   ]
  },
  {
   "cell_type": "code",
   "execution_count": 36,
   "metadata": {},
   "outputs": [],
   "source": [
    "nomes = [\"Joãozinho\", \"Mariazinha\"]\n",
    "idades = [32, 25]\n",
    "alturas  = [1.8, 1.65]"
   ]
  },
  {
   "cell_type": "code",
   "execution_count": 37,
   "metadata": {},
   "outputs": [],
   "source": [
    "cadastro_listas = [\n",
    "    nomes,\n",
    "    idades,\n",
    "    alturas\n",
    "]"
   ]
  },
  {
   "cell_type": "code",
   "execution_count": 38,
   "metadata": {},
   "outputs": [
    {
     "data": {
      "text/plain": [
       "1.8"
      ]
     },
     "execution_count": 38,
     "metadata": {},
     "output_type": "execute_result"
    }
   ],
   "source": [
    "cadastro_listas[2][0]"
   ]
  },
  {
   "cell_type": "code",
   "execution_count": 39,
   "metadata": {},
   "outputs": [
    {
     "data": {
      "text/plain": [
       "1.8"
      ]
     },
     "execution_count": 39,
     "metadata": {},
     "output_type": "execute_result"
    }
   ],
   "source": [
    "cadastro['altura'][0]"
   ]
  },
  {
   "cell_type": "markdown",
   "metadata": {},
   "source": [
    "Para adicionar elementos ao dicionário, não precisamos de uma função pronta (como o append das listas). \n",
    "\n",
    "Basta definir a nova chave como uma variável, e atribuir um novo valor a ela:\n"
   ]
  },
  {
   "cell_type": "code",
   "execution_count": 40,
   "metadata": {},
   "outputs": [
    {
     "data": {
      "text/plain": [
       "{'nomes': ['Joãozinho', 'Mariazinha'],\n",
       " 'idades': [32, 25],\n",
       " 'cidades': ['Mauá', 'Santo André'],\n",
       " 'filhos': [0, 0],\n",
       " 'altura': [1.8, 1.65]}"
      ]
     },
     "execution_count": 40,
     "metadata": {},
     "output_type": "execute_result"
    }
   ],
   "source": [
    "cadastro"
   ]
  },
  {
   "cell_type": "code",
   "execution_count": 41,
   "metadata": {},
   "outputs": [],
   "source": [
    "cadastro['pets'] = ['Bia', 'Luiza']"
   ]
  },
  {
   "cell_type": "code",
   "execution_count": 42,
   "metadata": {},
   "outputs": [
    {
     "data": {
      "text/plain": [
       "{'nomes': ['Joãozinho', 'Mariazinha'],\n",
       " 'idades': [32, 25],\n",
       " 'cidades': ['Mauá', 'Santo André'],\n",
       " 'filhos': [0, 0],\n",
       " 'altura': [1.8, 1.65],\n",
       " 'pets': ['Bia', 'Luiza']}"
      ]
     },
     "execution_count": 42,
     "metadata": {},
     "output_type": "execute_result"
    }
   ],
   "source": [
    "cadastro"
   ]
  },
  {
   "cell_type": "code",
   "execution_count": 43,
   "metadata": {},
   "outputs": [],
   "source": [
    "cadastro_listas.append(['Bia', 'Luiza'])"
   ]
  },
  {
   "cell_type": "code",
   "execution_count": 44,
   "metadata": {},
   "outputs": [
    {
     "data": {
      "text/plain": [
       "[['Joãozinho', 'Mariazinha'], [32, 25], [1.8, 1.65], ['Bia', 'Luiza']]"
      ]
     },
     "execution_count": 44,
     "metadata": {},
     "output_type": "execute_result"
    }
   ],
   "source": [
    "cadastro_listas"
   ]
  },
  {
   "cell_type": "markdown",
   "metadata": {},
   "source": [
    "Automaticamente, o elemento criado é adicionado ao fim!"
   ]
  },
  {
   "cell_type": "markdown",
   "metadata": {},
   "source": [
    "__Para apagar uma chave, utilize o \"pop\"__"
   ]
  },
  {
   "cell_type": "code",
   "execution_count": 45,
   "metadata": {},
   "outputs": [],
   "source": [
    "# 6\n",
    "\n",
    "pets = cadastro.pop('pets')"
   ]
  },
  {
   "cell_type": "code",
   "execution_count": 46,
   "metadata": {},
   "outputs": [
    {
     "data": {
      "text/plain": [
       "{'nomes': ['Joãozinho', 'Mariazinha'],\n",
       " 'idades': [32, 25],\n",
       " 'cidades': ['Mauá', 'Santo André'],\n",
       " 'filhos': [0, 0],\n",
       " 'altura': [1.8, 1.65]}"
      ]
     },
     "execution_count": 46,
     "metadata": {},
     "output_type": "execute_result"
    }
   ],
   "source": [
    "cadastro"
   ]
  },
  {
   "cell_type": "code",
   "execution_count": 47,
   "metadata": {},
   "outputs": [
    {
     "data": {
      "text/plain": [
       "['Bia', 'Luiza']"
      ]
     },
     "execution_count": 47,
     "metadata": {},
     "output_type": "execute_result"
    }
   ],
   "source": [
    "pets"
   ]
  },
  {
   "cell_type": "markdown",
   "metadata": {},
   "source": [
    "__Ou, utilize o \"del\"__"
   ]
  },
  {
   "cell_type": "code",
   "execution_count": 48,
   "metadata": {},
   "outputs": [],
   "source": [
    "# 7 \n",
    "cadastro['pets'] = pets\n",
    "\n",
    "del cadastro['pets']"
   ]
  },
  {
   "cell_type": "code",
   "execution_count": 49,
   "metadata": {},
   "outputs": [
    {
     "data": {
      "text/plain": [
       "{'nomes': ['Joãozinho', 'Mariazinha'],\n",
       " 'idades': [32, 25],\n",
       " 'cidades': ['Mauá', 'Santo André'],\n",
       " 'filhos': [0, 0],\n",
       " 'altura': [1.8, 1.65]}"
      ]
     },
     "execution_count": 49,
     "metadata": {},
     "output_type": "execute_result"
    }
   ],
   "source": [
    "cadastro"
   ]
  },
  {
   "cell_type": "markdown",
   "metadata": {},
   "source": [
    "Alterar os valores também é possível:"
   ]
  },
  {
   "cell_type": "markdown",
   "metadata": {},
   "source": [
    "Posso também alterar elementos individuais dos valores, os indexando\n",
    "\n",
    "(Lembre-se que, neste caso, os valores são listas! Então, devo indexá-las para alterar seus elementos!)"
   ]
  },
  {
   "cell_type": "code",
   "execution_count": 50,
   "metadata": {},
   "outputs": [],
   "source": [
    "# 8 \n",
    "cadastro['cidades'] = ['Paris', 'Londres']"
   ]
  },
  {
   "cell_type": "code",
   "execution_count": 51,
   "metadata": {},
   "outputs": [
    {
     "data": {
      "text/plain": [
       "{'nomes': ['Joãozinho', 'Mariazinha'],\n",
       " 'idades': [32, 25],\n",
       " 'cidades': ['Paris', 'Londres'],\n",
       " 'filhos': [0, 0],\n",
       " 'altura': [1.8, 1.65]}"
      ]
     },
     "execution_count": 51,
     "metadata": {},
     "output_type": "execute_result"
    }
   ],
   "source": [
    "cadastro"
   ]
  },
  {
   "cell_type": "code",
   "execution_count": null,
   "metadata": {},
   "outputs": [],
   "source": []
  },
  {
   "cell_type": "code",
   "execution_count": 52,
   "metadata": {},
   "outputs": [
    {
     "data": {
      "text/plain": [
       "{'nomes': ['Joãozinho', 'Mariazinha'],\n",
       " 'idades': [32, 25],\n",
       " 'cidades': 1,\n",
       " 'filhos': [0, 0],\n",
       " 'altura': [1.8, 1.65]}"
      ]
     },
     "execution_count": 52,
     "metadata": {},
     "output_type": "execute_result"
    }
   ],
   "source": [
    "# Alteração indevida de valor\n",
    "cadastro['cidades'] = 1\n",
    "cadastro"
   ]
  },
  {
   "cell_type": "code",
   "execution_count": 53,
   "metadata": {},
   "outputs": [
    {
     "data": {
      "text/plain": [
       "{'nomes': ['Joãozinho', 'Mariazinha'],\n",
       " 'idades': [32, 25],\n",
       " 'cidades': ['Paris', 'Londres'],\n",
       " 'filhos': [0, 0],\n",
       " 'altura': [1.8, 1.65]}"
      ]
     },
     "execution_count": 53,
     "metadata": {},
     "output_type": "execute_result"
    }
   ],
   "source": [
    "cadastro['cidades'] = ['Paris', 'Londres']\n",
    "cadastro"
   ]
  },
  {
   "cell_type": "code",
   "execution_count": 54,
   "metadata": {},
   "outputs": [],
   "source": [
    "cadastro['cidades'][0] = 'São Paulo'"
   ]
  },
  {
   "cell_type": "code",
   "execution_count": 55,
   "metadata": {},
   "outputs": [],
   "source": [
    "cadastro['trabalho'] = ('Dentista', 'Cientista de dados')"
   ]
  },
  {
   "cell_type": "code",
   "execution_count": 56,
   "metadata": {},
   "outputs": [
    {
     "ename": "TypeError",
     "evalue": "'tuple' object does not support item assignment",
     "output_type": "error",
     "traceback": [
      "\u001b[0;31m---------------------------------------------------------------------------\u001b[0m",
      "\u001b[0;31mTypeError\u001b[0m                                 Traceback (most recent call last)",
      "\u001b[0;32m<ipython-input-56-907701b7b3eb>\u001b[0m in \u001b[0;36m<module>\u001b[0;34m\u001b[0m\n\u001b[0;32m----> 1\u001b[0;31m \u001b[0mcadastro\u001b[0m\u001b[0;34m[\u001b[0m\u001b[0;34m'trabalho'\u001b[0m\u001b[0;34m]\u001b[0m\u001b[0;34m[\u001b[0m\u001b[0;36m0\u001b[0m\u001b[0;34m]\u001b[0m \u001b[0;34m=\u001b[0m \u001b[0;34m'Engenheiro'\u001b[0m\u001b[0;34m\u001b[0m\u001b[0;34m\u001b[0m\u001b[0m\n\u001b[0m",
      "\u001b[0;31mTypeError\u001b[0m: 'tuple' object does not support item assignment"
     ]
    }
   ],
   "source": [
    "cadastro['trabalho'][0] = 'Engenheiro'"
   ]
  },
  {
   "cell_type": "code",
   "execution_count": 57,
   "metadata": {},
   "outputs": [],
   "source": [
    "cadastro['trabalho'] = ['Dentista', 'Cientista de dados']"
   ]
  },
  {
   "cell_type": "code",
   "execution_count": 58,
   "metadata": {},
   "outputs": [
    {
     "data": {
      "text/plain": [
       "{'nomes': ['Joãozinho', 'Mariazinha'],\n",
       " 'idades': [32, 25],\n",
       " 'cidades': ['São Paulo', 'Londres'],\n",
       " 'filhos': [0, 0],\n",
       " 'altura': [1.8, 1.65],\n",
       " 'trabalho': ['Dentista', 'Cientista de dados']}"
      ]
     },
     "execution_count": 58,
     "metadata": {},
     "output_type": "execute_result"
    }
   ],
   "source": [
    "cadastro"
   ]
  },
  {
   "cell_type": "markdown",
   "metadata": {},
   "source": [
    "Para adicionar novos elementos aos valores (que são listas), usamos o append:"
   ]
  },
  {
   "cell_type": "code",
   "execution_count": 59,
   "metadata": {},
   "outputs": [],
   "source": [
    "cadastro['nomes'].append('Fulano')\n",
    "cadastro['idades'].append(22)\n",
    "cadastro['cidades'].append('Rio')\n",
    "cadastro['filhos'].append(3)\n",
    "cadastro['altura'].append(1.75)\n",
    "cadastro['trabalho'].append('Engenheiro')"
   ]
  },
  {
   "cell_type": "code",
   "execution_count": 60,
   "metadata": {},
   "outputs": [],
   "source": [
    "var = (cadastro['nomes'][0], cadastro['idades'][0])"
   ]
  },
  {
   "cell_type": "code",
   "execution_count": 72,
   "metadata": {},
   "outputs": [
    {
     "data": {
      "text/plain": [
       "('Joãozinho', 32)"
      ]
     },
     "execution_count": 72,
     "metadata": {},
     "output_type": "execute_result"
    }
   ],
   "source": [
    "var"
   ]
  },
  {
   "cell_type": "markdown",
   "metadata": {},
   "source": [
    "Dicionários podem ser percorridos com um for. \n",
    "\n",
    "Ao fazer isso, **as chaves serão percorridas** \n",
    "\n",
    "Porém, a partir da chave obtém-se o valor:"
   ]
  },
  {
   "cell_type": "code",
   "execution_count": 78,
   "metadata": {},
   "outputs": [
    {
     "data": {
      "text/plain": [
       "{'nomes': ['Joãozinho', 'Mariazinha', 'Fulano'],\n",
       " 'idades': [32, 25, 22],\n",
       " 'cidades': ['São Paulo', 'Londres', 'Rio'],\n",
       " 'filhos': [0, 0, 3],\n",
       " 'altura': [1.8, 1.65, 1.75],\n",
       " 'trabalho': ['Dentista', 'Cientista de dados', 'Engenheiro']}"
      ]
     },
     "execution_count": 78,
     "metadata": {},
     "output_type": "execute_result"
    }
   ],
   "source": [
    "cadastro"
   ]
  },
  {
   "cell_type": "code",
   "execution_count": 79,
   "metadata": {},
   "outputs": [
    {
     "name": "stdout",
     "output_type": "stream",
     "text": [
      "nomes\n",
      "idades\n",
      "cidades\n",
      "filhos\n",
      "altura\n",
      "trabalho\n"
     ]
    }
   ],
   "source": [
    "# 11\n",
    "for chave in cadastro:\n",
    "    print(chave)"
   ]
  },
  {
   "cell_type": "code",
   "execution_count": 80,
   "metadata": {},
   "outputs": [
    {
     "data": {
      "text/plain": [
       "['Joãozinho', 'Mariazinha', 'Fulano']"
      ]
     },
     "execution_count": 80,
     "metadata": {},
     "output_type": "execute_result"
    }
   ],
   "source": [
    "cadastro['nomes']"
   ]
  },
  {
   "cell_type": "code",
   "execution_count": 83,
   "metadata": {},
   "outputs": [
    {
     "name": "stdout",
     "output_type": "stream",
     "text": [
      "chave='nomes', cadastro[chave]=['Joãozinho', 'Mariazinha', 'Fulano']\n",
      "chave='idades', cadastro[chave]=[32, 25, 22]\n",
      "chave='cidades', cadastro[chave]=['São Paulo', 'Londres', 'Rio']\n",
      "chave='filhos', cadastro[chave]=[0, 0, 3]\n",
      "chave='altura', cadastro[chave]=[1.8, 1.65, 1.75]\n",
      "chave='trabalho', cadastro[chave]=['Dentista', 'Cientista de dados', 'Engenheiro']\n"
     ]
    }
   ],
   "source": [
    "for chave in cadastro:\n",
    "    print(f'{chave=}, {cadastro[chave]=}')"
   ]
  },
  {
   "cell_type": "code",
   "execution_count": 87,
   "metadata": {
    "scrolled": true,
    "tags": []
   },
   "outputs": [
    {
     "name": "stdout",
     "output_type": "stream",
     "text": [
      "chave='nomes'\n",
      "0 Joãozinho\n",
      "1 Mariazinha\n",
      "2 Fulano\n",
      "--------------------------\n",
      "chave='idades'\n",
      "0 32\n",
      "1 25\n",
      "2 22\n",
      "--------------------------\n",
      "chave='cidades'\n",
      "0 São Paulo\n",
      "1 Londres\n",
      "2 Rio\n",
      "--------------------------\n",
      "chave='filhos'\n",
      "0 0\n",
      "1 0\n",
      "2 3\n",
      "--------------------------\n",
      "chave='altura'\n",
      "0 1.8\n",
      "1 1.65\n",
      "2 1.75\n",
      "--------------------------\n",
      "chave='trabalho'\n",
      "0 Dentista\n",
      "1 Cientista de dados\n",
      "2 Engenheiro\n",
      "--------------------------\n"
     ]
    }
   ],
   "source": [
    "for chave in cadastro:\n",
    "    print(f'{chave=}')\n",
    "    for i, elemento in enumerate(cadastro[chave]):\n",
    "        print(i, elemento)\n",
    "    print('-'*26)"
   ]
  },
  {
   "cell_type": "code",
   "execution_count": 102,
   "metadata": {},
   "outputs": [],
   "source": [
    "cadastro['numero_cadastros'] = 3"
   ]
  },
  {
   "cell_type": "code",
   "execution_count": 103,
   "metadata": {},
   "outputs": [
    {
     "data": {
      "text/plain": [
       "{'nomes': ['Joãozinho', 'Mariazinha', 'Fulano'],\n",
       " 'idades': [32, 25, 22],\n",
       " 'cidades': ['São Paulo', 'Londres', 'Rio'],\n",
       " 'filhos': [0, 0, 3],\n",
       " 'altura': [1.8, 1.65, 1.75],\n",
       " 'trabalho': ['Dentista', 'Cientista de dados', 'Engenheiro'],\n",
       " 'numero_cadastros': 3}"
      ]
     },
     "execution_count": 103,
     "metadata": {},
     "output_type": "execute_result"
    }
   ],
   "source": [
    "cadastro"
   ]
  },
  {
   "cell_type": "code",
   "execution_count": 104,
   "metadata": {
    "scrolled": true,
    "tags": []
   },
   "outputs": [
    {
     "name": "stdout",
     "output_type": "stream",
     "text": [
      "chave='nomes'\n",
      "0 Joãozinho\n",
      "1 Mariazinha\n",
      "2 Fulano\n",
      "--------------------------\n",
      "chave='idades'\n",
      "0 32\n",
      "1 25\n",
      "2 22\n",
      "--------------------------\n",
      "chave='cidades'\n",
      "0 São Paulo\n",
      "1 Londres\n",
      "2 Rio\n",
      "--------------------------\n",
      "chave='filhos'\n",
      "0 0\n",
      "1 0\n",
      "2 3\n",
      "--------------------------\n",
      "chave='altura'\n",
      "0 1.8\n",
      "1 1.65\n",
      "2 1.75\n",
      "--------------------------\n",
      "chave='trabalho'\n",
      "0 Dentista\n",
      "1 Cientista de dados\n",
      "2 Engenheiro\n",
      "--------------------------\n",
      "chave='numero_cadastros'\n",
      "O número é: 3\n",
      "--------------------------\n"
     ]
    }
   ],
   "source": [
    "for chave in cadastro:\n",
    "    print(f'{chave=}')\n",
    "    valor = cadastro[chave]\n",
    "    if isinstance(valor, (tuple, list)):\n",
    "        for i, elemento in enumerate(valor):\n",
    "            print(i, elemento)\n",
    "    elif isinstance(valor, (int, float)):\n",
    "        print('O número é:', valor)\n",
    "    elif isinstance(valor, (str)):\n",
    "        print('A string é:', valor)\n",
    "    print('-'*26)"
   ]
  },
  {
   "cell_type": "markdown",
   "metadata": {},
   "source": [
    "Uma utilidade disso é para pegar os dados respectivos de cada elemento do cadastro:"
   ]
  },
  {
   "cell_type": "code",
   "execution_count": 105,
   "metadata": {},
   "outputs": [
    {
     "data": {
      "text/plain": [
       "{'nomes': ['Joãozinho', 'Mariazinha', 'Fulano'],\n",
       " 'idades': [32, 25, 22],\n",
       " 'cidades': ['São Paulo', 'Londres', 'Rio'],\n",
       " 'filhos': [0, 0, 3],\n",
       " 'altura': [1.8, 1.65, 1.75],\n",
       " 'trabalho': ['Dentista', 'Cientista de dados', 'Engenheiro']}"
      ]
     },
     "execution_count": 105,
     "metadata": {},
     "output_type": "execute_result"
    }
   ],
   "source": [
    "cadastro.pop('numero_cadastros')\n",
    "cadastro"
   ]
  },
  {
   "cell_type": "code",
   "execution_count": 108,
   "metadata": {},
   "outputs": [
    {
     "data": {
      "text/plain": [
       "2"
      ]
     },
     "execution_count": 108,
     "metadata": {},
     "output_type": "execute_result"
    }
   ],
   "source": [
    "cadastro['nomes'].index('Fulano')"
   ]
  },
  {
   "cell_type": "code",
   "execution_count": null,
   "metadata": {},
   "outputs": [],
   "source": []
  },
  {
   "cell_type": "code",
   "execution_count": 113,
   "metadata": {},
   "outputs": [],
   "source": [
    "nome = 'Joãozinho'\n",
    "dados = []\n",
    "for chave in cadastro:\n",
    "    index = cadastro['nomes'].index(nome)\n",
    "    dados.append(cadastro[chave][index])"
   ]
  },
  {
   "cell_type": "code",
   "execution_count": 115,
   "metadata": {},
   "outputs": [],
   "source": [
    "def pega_dados(campo, valor):\n",
    "    dados = []\n",
    "    index = cadastro[campo].index(valor)\n",
    "    for chave in cadastro:\n",
    "        dados.append(cadastro[chave][index])\n",
    "    return tuple(dados)"
   ]
  },
  {
   "cell_type": "code",
   "execution_count": 118,
   "metadata": {},
   "outputs": [],
   "source": [
    "resultado = pega_dados('nomes', 'Fulano')"
   ]
  },
  {
   "cell_type": "code",
   "execution_count": 120,
   "metadata": {},
   "outputs": [
    {
     "data": {
      "text/plain": [
       "('Fulano', 22, 'Rio', 3, 1.75, 'Engenheiro')"
      ]
     },
     "execution_count": 120,
     "metadata": {},
     "output_type": "execute_result"
    }
   ],
   "source": [
    "resultado"
   ]
  },
  {
   "cell_type": "markdown",
   "metadata": {},
   "source": [
    "Mas também é possível acessar apenas os valores do dicionário com o método `values()`"
   ]
  },
  {
   "cell_type": "code",
   "execution_count": 127,
   "metadata": {},
   "outputs": [],
   "source": [
    "nome = 'Fulano'\n",
    "dados = []\n",
    "for valor in cadastro.values():\n",
    "    index = cadastro['nomes'].index(nome)\n",
    "    dados.append(valor[index])\n",
    "    \n",
    "dados = tuple(dados)"
   ]
  },
  {
   "cell_type": "markdown",
   "metadata": {},
   "source": [
    "Usando compreensão de listas, fica ainda mais simples:"
   ]
  },
  {
   "cell_type": "code",
   "execution_count": 128,
   "metadata": {},
   "outputs": [
    {
     "data": {
      "text/plain": [
       "('Fulano', 22, 'Rio', 3, 1.75, 'Engenheiro')"
      ]
     },
     "execution_count": 128,
     "metadata": {},
     "output_type": "execute_result"
    }
   ],
   "source": [
    "dados"
   ]
  },
  {
   "cell_type": "code",
   "execution_count": 131,
   "metadata": {},
   "outputs": [
    {
     "name": "stdout",
     "output_type": "stream",
     "text": [
      "['Fulano', 22, 'Rio', 3, 1.75, 'Engenheiro']\n",
      "['Fulano', 22, 'Rio', 3, 1.75, 'Engenheiro']\n"
     ]
    }
   ],
   "source": [
    "# 15\n",
    "# Utilizando compreensão de listas\n",
    "print([cadastro[chave][cadastro['nomes'].index(nome)] for chave in cadastro])\n",
    "\n",
    "# ou\n",
    "print([valor[cadastro['nomes'].index(nome)] for valor in cadastro.values()])"
   ]
  },
  {
   "cell_type": "markdown",
   "metadata": {},
   "source": [
    "É possível obter chaves e valores separadamente.\n",
    "\n",
    "Para isso, usamos os métodos `keys()` e `values()`. "
   ]
  },
  {
   "cell_type": "code",
   "execution_count": 138,
   "metadata": {},
   "outputs": [
    {
     "name": "stdout",
     "output_type": "stream",
     "text": [
      "chaves: dict_keys(['nomes', 'idades', 'cidades', 'filhos', 'altura', 'trabalho'])\n",
      "--------------------------\n",
      "valores: dict_values([['Joãozinho', 'Mariazinha', 'Fulano'], [32, 25, 22], ['São Paulo', 'Londres', 'Rio'], [0, 0, 3], [1.8, 1.65, 1.75], ['Dentista', 'Cientista de dados', 'Engenheiro']])\n"
     ]
    }
   ],
   "source": [
    "print('chaves:', cadastro.keys())\n",
    "\n",
    "print('-'*26)\n",
    "\n",
    "print('valores:', cadastro.values())"
   ]
  },
  {
   "cell_type": "code",
   "execution_count": 146,
   "metadata": {},
   "outputs": [],
   "source": []
  },
  {
   "cell_type": "markdown",
   "metadata": {},
   "source": [
    "E esses valores podem ser transformados em listas com a função `list()`"
   ]
  },
  {
   "cell_type": "code",
   "execution_count": 139,
   "metadata": {},
   "outputs": [
    {
     "name": "stdout",
     "output_type": "stream",
     "text": [
      "chaves: ['nomes', 'idades', 'cidades', 'filhos', 'altura', 'trabalho']\n",
      "--------------------------\n",
      "valores: [['Joãozinho', 'Mariazinha', 'Fulano'], [32, 25, 22], ['São Paulo', 'Londres', 'Rio'], [0, 0, 3], [1.8, 1.65, 1.75], ['Dentista', 'Cientista de dados', 'Engenheiro']]\n"
     ]
    }
   ],
   "source": [
    "# tomando uma lista com chaves\n",
    "\n",
    "print('chaves:', list(cadastro.keys()))\n",
    "\n",
    "print('-'*26)\n",
    "\n",
    "print('valores:', list(cadastro.values()))"
   ]
  },
  {
   "cell_type": "markdown",
   "metadata": {},
   "source": [
    "Deixando todos os valores em uma unica lista, a partir da lista de listas.\n",
    "\n",
    "Esta lista terá todos os valores dentro do dicionario"
   ]
  },
  {
   "cell_type": "code",
   "execution_count": 144,
   "metadata": {},
   "outputs": [
    {
     "data": {
      "text/plain": [
       "[0, 0, 3]"
      ]
     },
     "execution_count": 144,
     "metadata": {},
     "output_type": "execute_result"
    }
   ],
   "source": [
    "list(cadastro.values())[list(cadastro.keys()).index('filhos')]"
   ]
  },
  {
   "cell_type": "code",
   "execution_count": 154,
   "metadata": {},
   "outputs": [
    {
     "name": "stdout",
     "output_type": "stream",
     "text": [
      "k='nomes'\n",
      "v=['Joãozinho', 'Mariazinha', 'Fulano']\n",
      "--------------------------\n",
      "k='idades'\n",
      "v=[32, 25, 22]\n",
      "--------------------------\n",
      "k='cidades'\n",
      "v=['São Paulo', 'Londres', 'Rio']\n",
      "--------------------------\n",
      "k='filhos'\n",
      "v=[0, 0, 3]\n",
      "--------------------------\n",
      "k='altura'\n",
      "v=[1.8, 1.65, 1.75]\n",
      "--------------------------\n",
      "k='trabalho'\n",
      "v=['Dentista', 'Cientista de dados', 'Engenheiro']\n",
      "--------------------------\n"
     ]
    }
   ],
   "source": [
    "for k, v in cadastro.items():\n",
    "    print(f'{k=}')\n",
    "    print(f'{v=}')\n",
    "    print('-'*26)"
   ]
  },
  {
   "cell_type": "code",
   "execution_count": 159,
   "metadata": {},
   "outputs": [],
   "source": [
    "nome = 'Joãozinho'\n",
    "dados = []\n",
    "for chave, valor in cadastro.items():\n",
    "    index = cadastro['nomes'].index(nome)\n",
    "    dados.append((chave, valor[index]))"
   ]
  },
  {
   "cell_type": "code",
   "execution_count": 160,
   "metadata": {},
   "outputs": [
    {
     "data": {
      "text/plain": [
       "[('nomes', 'Joãozinho'),\n",
       " ('idades', 32),\n",
       " ('cidades', 'São Paulo'),\n",
       " ('filhos', 0),\n",
       " ('altura', 1.8),\n",
       " ('trabalho', 'Dentista')]"
      ]
     },
     "execution_count": 160,
     "metadata": {},
     "output_type": "execute_result"
    }
   ],
   "source": [
    "dados"
   ]
  },
  {
   "cell_type": "markdown",
   "metadata": {},
   "source": [
    "### Extra namedtuples"
   ]
  },
  {
   "cell_type": "code",
   "execution_count": 161,
   "metadata": {},
   "outputs": [],
   "source": [
    "pt1 = (1.0, 5.0)\n",
    "pt2 = (2.5, 1.5)"
   ]
  },
  {
   "cell_type": "code",
   "execution_count": 162,
   "metadata": {},
   "outputs": [
    {
     "data": {
      "text/plain": [
       "(1.0, 5.0)"
      ]
     },
     "execution_count": 162,
     "metadata": {},
     "output_type": "execute_result"
    }
   ],
   "source": [
    "pt1"
   ]
  },
  {
   "cell_type": "code",
   "execution_count": 163,
   "metadata": {},
   "outputs": [],
   "source": [
    "dist = ((pt1[0]-pt2[0]) ** 2 + (pt1[1] - pt2[1]) ** 2)**0.5"
   ]
  },
  {
   "cell_type": "code",
   "execution_count": 164,
   "metadata": {},
   "outputs": [
    {
     "data": {
      "text/plain": [
       "3.8078865529319543"
      ]
     },
     "execution_count": 164,
     "metadata": {},
     "output_type": "execute_result"
    }
   ],
   "source": [
    "dist"
   ]
  },
  {
   "cell_type": "code",
   "execution_count": 165,
   "metadata": {},
   "outputs": [],
   "source": [
    "from collections import namedtuple"
   ]
  },
  {
   "cell_type": "code",
   "execution_count": 166,
   "metadata": {},
   "outputs": [],
   "source": [
    "Ponto = namedtuple('Ponto', 'x y')"
   ]
  },
  {
   "cell_type": "code",
   "execution_count": 174,
   "metadata": {},
   "outputs": [],
   "source": [
    "pt1 = Ponto(1.0, 5.0)\n",
    "pt2 = Ponto(2.5, 1.5)"
   ]
  },
  {
   "cell_type": "code",
   "execution_count": 170,
   "metadata": {},
   "outputs": [
    {
     "data": {
      "text/plain": [
       "True"
      ]
     },
     "execution_count": 170,
     "metadata": {},
     "output_type": "execute_result"
    }
   ],
   "source": [
    "isinstance(pt1, tuple)"
   ]
  },
  {
   "cell_type": "code",
   "execution_count": 173,
   "metadata": {},
   "outputs": [
    {
     "data": {
      "text/plain": [
       "(1.0, 5.0)"
      ]
     },
     "execution_count": 173,
     "metadata": {},
     "output_type": "execute_result"
    }
   ],
   "source": [
    "pt1[0], pt1[1]"
   ]
  },
  {
   "cell_type": "code",
   "execution_count": 176,
   "metadata": {},
   "outputs": [
    {
     "data": {
      "text/plain": [
       "(1.0, 5.0)"
      ]
     },
     "execution_count": 176,
     "metadata": {},
     "output_type": "execute_result"
    }
   ],
   "source": [
    "pt1.x, pt1.y"
   ]
  },
  {
   "cell_type": "code",
   "execution_count": 177,
   "metadata": {},
   "outputs": [],
   "source": [
    "dist = ((pt1.x - pt2.x) ** 2 + (pt1.y - pt2.y) ** 2)**0.5"
   ]
  },
  {
   "cell_type": "code",
   "execution_count": 178,
   "metadata": {},
   "outputs": [
    {
     "data": {
      "text/plain": [
       "3.8078865529319543"
      ]
     },
     "execution_count": 178,
     "metadata": {},
     "output_type": "execute_result"
    }
   ],
   "source": [
    "dist"
   ]
  },
  {
   "cell_type": "code",
   "execution_count": 198,
   "metadata": {},
   "outputs": [],
   "source": [
    "Info = namedtuple('Info', ['nome', 'idade', 'cidade', 'filho', 'altura', 'trabalho'])"
   ]
  },
  {
   "cell_type": "code",
   "execution_count": 199,
   "metadata": {},
   "outputs": [],
   "source": [
    "def cadastro_de_usuario(dc, info):\n",
    "    if dc:\n",
    "        _id = max(list(dc.keys())) + 1\n",
    "    else:\n",
    "        _id = 0\n",
    "    dc[_id] = Info(*info)\n",
    "    return dc"
   ]
  },
  {
   "cell_type": "code",
   "execution_count": null,
   "metadata": {},
   "outputs": [],
   "source": []
  },
  {
   "cell_type": "code",
   "execution_count": null,
   "metadata": {},
   "outputs": [],
   "source": []
  },
  {
   "cell_type": "code",
   "execution_count": 200,
   "metadata": {},
   "outputs": [],
   "source": [
    "cadastro2 = {}\n",
    "cadastro2 = cadastro_de_usuario(cadastro2, ['Fulano', 22, 'Rio', 3, 1.75, 'Engenheiro'])"
   ]
  },
  {
   "cell_type": "code",
   "execution_count": 201,
   "metadata": {},
   "outputs": [],
   "source": [
    "cadastro2 = cadastro_de_usuario(cadastro2, ['Gil', 34, 'SP', 5, 1.90, 'Farmaceutico'])"
   ]
  },
  {
   "cell_type": "code",
   "execution_count": 204,
   "metadata": {},
   "outputs": [
    {
     "data": {
      "text/plain": [
       "{0: Info(nome='Fulano', idade=22, cidade='Rio', filho=3, altura=1.75, trabalho='Engenheiro'),\n",
       " 1: Info(nome='Gil', idade=34, cidade='SP', filho=5, altura=1.9, trabalho='Farmaceutico')}"
      ]
     },
     "execution_count": 204,
     "metadata": {},
     "output_type": "execute_result"
    }
   ],
   "source": [
    "cadastro2 = cadastro_de_usuario(cadastro2, ['Rafael', , 'SP', 5, 1.90, 'Farmaceutico'])"
   ]
  },
  {
   "cell_type": "code",
   "execution_count": 205,
   "metadata": {},
   "outputs": [
    {
     "data": {
      "text/plain": [
       "{0: Info(nome='Fulano', idade=22, cidade='Rio', filho=3, altura=1.75, trabalho='Engenheiro'),\n",
       " 1: Info(nome='Gil', idade=34, cidade='SP', filho=5, altura=1.9, trabalho='Farmaceutico'),\n",
       " 2: Info(nome='Rafael', idade=25, cidade='Rio Grande do Sul', filho=0, altura=1.75, trabalho='Engenheiro')}"
      ]
     },
     "execution_count": 205,
     "metadata": {},
     "output_type": "execute_result"
    }
   ],
   "source": [
    "cadastro_de_usuario(cadastro2, ['Rafael', 25, 'Rio Grande do Sul', 0, 1.75, 'Engenheiro'])"
   ]
  },
  {
   "cell_type": "code",
   "execution_count": 218,
   "metadata": {},
   "outputs": [
    {
     "data": {
      "text/plain": [
       "{0: Info(nome='Fulano', idade=22, cidade='Rio', filho=3, altura=1.75, trabalho='Engenheiro'),\n",
       " 1: Info(nome='Gil', idade=34, cidade='SP', filho=5, altura=1.9, trabalho='Farmaceutico'),\n",
       " 2: Info(nome='Rafael', idade=25, cidade='Rio Grande do Sul', filho=0, altura=1.75, trabalho='Engenheiro'),\n",
       " 3: Info(nome='Rafael', idade=32, cidade='SP', filho=2, altura=1.42, trabalho='Mecanico')}"
      ]
     },
     "execution_count": 218,
     "metadata": {},
     "output_type": "execute_result"
    }
   ],
   "source": [
    "cadastro_de_usuario(cadastro2, ['Rafael', 32, 'SP', 2, 1.42, 'Mecanico'])"
   ]
  },
  {
   "cell_type": "code",
   "execution_count": 210,
   "metadata": {},
   "outputs": [
    {
     "data": {
      "text/plain": [
       "Info(nome='Rafael', idade=25, cidade='Rio Grande do Sul', filho=0, altura=1.75, trabalho='Engenheiro')"
      ]
     },
     "execution_count": 210,
     "metadata": {},
     "output_type": "execute_result"
    }
   ],
   "source": [
    "cadastro2[2]"
   ]
  },
  {
   "cell_type": "code",
   "execution_count": null,
   "metadata": {},
   "outputs": [],
   "source": []
  },
  {
   "cell_type": "code",
   "execution_count": 221,
   "metadata": {},
   "outputs": [],
   "source": [
    "def pega_usuario(dc, valor):\n",
    "    dado = {}\n",
    "    for _id, resultado in dc.items():\n",
    "        if valor in resultado:\n",
    "            dado[_id] = resultado\n",
    "    return dado"
   ]
  },
  {
   "cell_type": "code",
   "execution_count": 225,
   "metadata": {},
   "outputs": [
    {
     "data": {
      "text/plain": [
       "{2: Info(nome='Rafael', idade=25, cidade='Rio Grande do Sul', filho=0, altura=1.75, trabalho='Engenheiro'),\n",
       " 3: Info(nome='Rafael', idade=32, cidade='SP', filho=2, altura=1.42, trabalho='Mecanico')}"
      ]
     },
     "execution_count": 225,
     "metadata": {},
     "output_type": "execute_result"
    }
   ],
   "source": [
    "pega_usuario(cadastro2, 'Rafael')"
   ]
  },
  {
   "cell_type": "code",
   "execution_count": 222,
   "metadata": {},
   "outputs": [
    {
     "data": {
      "text/plain": [
       "{2: Info(nome='Rafael', idade=25, cidade='Rio Grande do Sul', filho=0, altura=1.75, trabalho='Engenheiro')}"
      ]
     },
     "execution_count": 222,
     "metadata": {},
     "output_type": "execute_result"
    }
   ],
   "source": [
    "pega_usuario(\n",
    "    pega_usuario(cadastro2, 'Rafael'), 25)"
   ]
  },
  {
   "cell_type": "markdown",
   "metadata": {},
   "source": [
    "____\n",
    "____\n",
    "____\n",
    "___"
   ]
  },
  {
   "cell_type": "markdown",
   "metadata": {},
   "source": [
    "## 3) Funções com parâmetros variáveis\n",
    "\n",
    "Se não quisermos especificar **quais** e **quantos** são os parâmetros de uma função, passamos o argumento com **um asterisco**\n",
    "\n",
    "- Os parâmetros passados são **agrupados em uma tupla**, automaticamente, pelo python.\n",
    "\n",
    "Porém, o usuário não precisa passar uma tupla: basta passar vários argumentos separados por vírgula, e o Python automaticamente criará uma tupla com eles. \n",
    "\n",
    "Uma função que segue exatamente essa estrutura é o `print()`!\n",
    "\n",
    "Vamos criar uma função desta forma:"
   ]
  },
  {
   "cell_type": "code",
   "execution_count": 228,
   "metadata": {},
   "outputs": [
    {
     "name": "stdout",
     "output_type": "stream",
     "text": [
      "1\n"
     ]
    }
   ],
   "source": [
    "# 18\n",
    "print(1)"
   ]
  },
  {
   "cell_type": "code",
   "execution_count": 232,
   "metadata": {},
   "outputs": [],
   "source": [
    "def meu_print(*elementos):\n",
    "    print(elementos)"
   ]
  },
  {
   "cell_type": "code",
   "execution_count": 274,
   "metadata": {},
   "outputs": [],
   "source": [
    "def soma(a, b, *numeros):\n",
    "    print(f'{a=}, {b=}')\n",
    "    print(f'{numeros=}')\n",
    "    soma_parcial = a\n",
    "    soma_numeros = sum(numeros)\n",
    "    return soma_parcial + soma_numeros"
   ]
  },
  {
   "cell_type": "code",
   "execution_count": 279,
   "metadata": {},
   "outputs": [
    {
     "name": "stdout",
     "output_type": "stream",
     "text": [
      "a=1, b=2\n",
      "numeros=(3, 2, 3, 4, 5, 6, 7, 8, 9)\n"
     ]
    },
    {
     "data": {
      "text/plain": [
       "48"
      ]
     },
     "execution_count": 279,
     "metadata": {},
     "output_type": "execute_result"
    }
   ],
   "source": [
    "soma(1, 2, 3, 2, 3, 4, 5, 6, 7, 8, 9)"
   ]
  },
  {
   "cell_type": "code",
   "execution_count": 282,
   "metadata": {},
   "outputs": [],
   "source": [
    "def soma(a, b, *args):\n",
    "    print(f'{a=}, {b=}')\n",
    "    print(f'{args=}')\n",
    "    soma_parcial = a\n",
    "    numeros = []\n",
    "    letras = []\n",
    "    for elemento in args:\n",
    "        if isinstance(elemento, (int, float)):\n",
    "            numeros.append(elemento)\n",
    "        else:\n",
    "            letras.append(elemento)\n",
    "    soma_numeros = sum(numeros)\n",
    "    print(letras)\n",
    "    return soma_parcial + soma_numeros"
   ]
  },
  {
   "cell_type": "code",
   "execution_count": 283,
   "metadata": {},
   "outputs": [
    {
     "name": "stdout",
     "output_type": "stream",
     "text": [
      "a=1, b=2\n",
      "args=(3, 'a', 5, 10, 'abc', 'd', 21.2)\n",
      "['a', 'abc', 'd']\n"
     ]
    },
    {
     "data": {
      "text/plain": [
       "40.2"
      ]
     },
     "execution_count": 283,
     "metadata": {},
     "output_type": "execute_result"
    }
   ],
   "source": [
    "soma(1,2,3, 'a', 5, 10, 'abc', 'd', 21.2)"
   ]
  },
  {
   "cell_type": "code",
   "execution_count": 290,
   "metadata": {},
   "outputs": [],
   "source": [
    "def calcula_media(lista):\n",
    "    print(lista)\n",
    "    soma = sum(lista)\n",
    "    tamanho_lista = len(lista)\n",
    "    return soma/tamanho_lista"
   ]
  },
  {
   "cell_type": "code",
   "execution_count": 291,
   "metadata": {},
   "outputs": [
    {
     "name": "stdout",
     "output_type": "stream",
     "text": [
      "[10, 5, 8]\n"
     ]
    },
    {
     "data": {
      "text/plain": [
       "7.666666666666667"
      ]
     },
     "execution_count": 291,
     "metadata": {},
     "output_type": "execute_result"
    }
   ],
   "source": [
    "calcula_media([10, 5, 8])"
   ]
  },
  {
   "cell_type": "code",
   "execution_count": 312,
   "metadata": {},
   "outputs": [],
   "source": [
    "def calcula_media(*args):\n",
    "    print(args)\n",
    "    soma = sum(args)\n",
    "    tamanho_lista = len(args)\n",
    "    return soma/tamanho_lista"
   ]
  },
  {
   "cell_type": "code",
   "execution_count": 313,
   "metadata": {},
   "outputs": [
    {
     "name": "stdout",
     "output_type": "stream",
     "text": [
      "(1, 2, 3, 4, 5)\n"
     ]
    },
    {
     "data": {
      "text/plain": [
       "3.0"
      ]
     },
     "execution_count": 313,
     "metadata": {},
     "output_type": "execute_result"
    }
   ],
   "source": [
    "calcula_media(1, 2, 3, 4, 5)"
   ]
  },
  {
   "cell_type": "code",
   "execution_count": 314,
   "metadata": {},
   "outputs": [
    {
     "name": "stdout",
     "output_type": "stream",
     "text": [
      "(10, 5, 8)\n"
     ]
    },
    {
     "data": {
      "text/plain": [
       "7.666666666666667"
      ]
     },
     "execution_count": 314,
     "metadata": {},
     "output_type": "execute_result"
    }
   ],
   "source": [
    "calcula_media(10, 5, 8)"
   ]
  },
  {
   "cell_type": "code",
   "execution_count": 315,
   "metadata": {},
   "outputs": [],
   "source": [
    "def calcula_media(*args):\n",
    "    print(args)\n",
    "    total = 0\n",
    "    n_elementos = 0\n",
    "    for elemento in args:\n",
    "        total += elemento\n",
    "        n_elementos += 1\n",
    "    \n",
    "    return total/n_elementos"
   ]
  },
  {
   "cell_type": "code",
   "execution_count": 316,
   "metadata": {},
   "outputs": [
    {
     "name": "stdout",
     "output_type": "stream",
     "text": [
      "(10, 5, 8)\n"
     ]
    },
    {
     "data": {
      "text/plain": [
       "7.666666666666667"
      ]
     },
     "execution_count": 316,
     "metadata": {},
     "output_type": "execute_result"
    }
   ],
   "source": [
    "calcula_media(10, 5, 8)"
   ]
  },
  {
   "cell_type": "code",
   "execution_count": 297,
   "metadata": {},
   "outputs": [],
   "source": [
    "def media_de_dois_n(a, b, *args):\n",
    "    \"\"\"Considera apenas os dois primeiros números para média\"\"\"\n",
    "    return (a + b)/ 2"
   ]
  },
  {
   "cell_type": "code",
   "execution_count": 295,
   "metadata": {},
   "outputs": [
    {
     "data": {
      "text/plain": [
       "1.5"
      ]
     },
     "execution_count": 295,
     "metadata": {},
     "output_type": "execute_result"
    }
   ],
   "source": [
    "media_de_dois_n(1, 2)"
   ]
  },
  {
   "cell_type": "code",
   "execution_count": 298,
   "metadata": {},
   "outputs": [
    {
     "data": {
      "text/plain": [
       "1.5"
      ]
     },
     "execution_count": 298,
     "metadata": {},
     "output_type": "execute_result"
    }
   ],
   "source": [
    "# Exemplo, utilizando *args para evitar erros! Considerando apenas os dois primeiros numeros\n",
    "media_de_dois_n(1, 2, 5, 10, 20)"
   ]
  },
  {
   "cell_type": "code",
   "execution_count": 300,
   "metadata": {},
   "outputs": [
    {
     "data": {
      "text/plain": [
       "1.5"
      ]
     },
     "execution_count": 300,
     "metadata": {},
     "output_type": "execute_result"
    }
   ],
   "source": [
    "media_de_dois_n(1, 2, 100, 10)"
   ]
  },
  {
   "cell_type": "code",
   "execution_count": 304,
   "metadata": {},
   "outputs": [],
   "source": [
    "# Utilizando um parâmetro padrão para b\n",
    "def media_de_dois_n(a, b=10):\n",
    "    \"\"\"Considera apenas os dois primeiros números para média\"\"\"\n",
    "    return (a + b) / 2"
   ]
  },
  {
   "cell_type": "code",
   "execution_count": 305,
   "metadata": {},
   "outputs": [
    {
     "data": {
      "text/plain": [
       "1.5"
      ]
     },
     "execution_count": 305,
     "metadata": {},
     "output_type": "execute_result"
    }
   ],
   "source": [
    "media_de_dois_n(1, 2)"
   ]
  },
  {
   "cell_type": "code",
   "execution_count": 306,
   "metadata": {},
   "outputs": [
    {
     "data": {
      "text/plain": [
       "5.5"
      ]
     },
     "execution_count": 306,
     "metadata": {},
     "output_type": "execute_result"
    }
   ],
   "source": [
    "media_de_dois_n(1)"
   ]
  },
  {
   "cell_type": "code",
   "execution_count": null,
   "metadata": {},
   "outputs": [],
   "source": []
  },
  {
   "cell_type": "markdown",
   "metadata": {},
   "source": [
    "Função que soma os elementos de listas, quantas forem passadas como argumento.\n",
    "\n",
    "O retorno é a soma de todos os elementos de todas as listas"
   ]
  },
  {
   "cell_type": "code",
   "execution_count": 342,
   "metadata": {},
   "outputs": [],
   "source": [
    "lista_de_lista = [[1, 2, 3, 4], [23, 42, 57], list(range(0, 100))]"
   ]
  },
  {
   "cell_type": "code",
   "execution_count": 343,
   "metadata": {},
   "outputs": [],
   "source": [
    "def soma(*args):\n",
    "    print(args)\n",
    "    return sum(args)"
   ]
  },
  {
   "cell_type": "code",
   "execution_count": 344,
   "metadata": {},
   "outputs": [
    {
     "name": "stdout",
     "output_type": "stream",
     "text": [
      "(1, 2, 3)\n"
     ]
    },
    {
     "data": {
      "text/plain": [
       "6"
      ]
     },
     "execution_count": 344,
     "metadata": {},
     "output_type": "execute_result"
    }
   ],
   "source": [
    "soma(1,2,3)"
   ]
  },
  {
   "cell_type": "code",
   "execution_count": 345,
   "metadata": {},
   "outputs": [
    {
     "name": "stdout",
     "output_type": "stream",
     "text": [
      "(1, 2, 3, 4)\n",
      "(23, 42, 57)\n",
      "(0, 1, 2, 3, 4, 5, 6, 7, 8, 9, 10, 11, 12, 13, 14, 15, 16, 17, 18, 19, 20, 21, 22, 23, 24, 25, 26, 27, 28, 29, 30, 31, 32, 33, 34, 35, 36, 37, 38, 39, 40, 41, 42, 43, 44, 45, 46, 47, 48, 49, 50, 51, 52, 53, 54, 55, 56, 57, 58, 59, 60, 61, 62, 63, 64, 65, 66, 67, 68, 69, 70, 71, 72, 73, 74, 75, 76, 77, 78, 79, 80, 81, 82, 83, 84, 85, 86, 87, 88, 89, 90, 91, 92, 93, 94, 95, 96, 97, 98, 99)\n"
     ]
    },
    {
     "data": {
      "text/plain": [
       "[10, 122, 4950]"
      ]
     },
     "execution_count": 345,
     "metadata": {},
     "output_type": "execute_result"
    }
   ],
   "source": [
    "[soma(*lista) for lista in lista_de_lista]"
   ]
  },
  {
   "cell_type": "code",
   "execution_count": 336,
   "metadata": {},
   "outputs": [],
   "source": [
    "a, b, c = (lista_de_lista[1])"
   ]
  },
  {
   "cell_type": "code",
   "execution_count": 337,
   "metadata": {},
   "outputs": [
    {
     "data": {
      "text/plain": [
       "23"
      ]
     },
     "execution_count": 337,
     "metadata": {},
     "output_type": "execute_result"
    }
   ],
   "source": [
    "a"
   ]
  },
  {
   "cell_type": "code",
   "execution_count": 333,
   "metadata": {},
   "outputs": [
    {
     "data": {
      "text/plain": [
       "3"
      ]
     },
     "execution_count": 333,
     "metadata": {},
     "output_type": "execute_result"
    }
   ],
   "source": [
    "c"
   ]
  },
  {
   "cell_type": "markdown",
   "metadata": {},
   "source": [
    "______\n",
    "_________\n",
    "________"
   ]
  },
  {
   "cell_type": "markdown",
   "metadata": {},
   "source": [
    "## 4) Funções com parâmetros opcionais\n",
    "\n",
    "Também é possível fazer funções com **argumentos opcionais**, que são indicados com **dois asteriscos**\n",
    "\n",
    "- Os parâmetros passados são **agrupados em um dicionário**: o nome do parâmetro será uma chave, e o valor será o valor.\n",
    "\n",
    "O exemplo abaixo cadastra usuários em uma base de dados.\n",
    "\n",
    "Até agora, sabemos apenas definir funções com argumentos **obrigatórios**: se algum deles não for passado, a função nos avisará isso!"
   ]
  },
  {
   "cell_type": "code",
   "execution_count": 351,
   "metadata": {},
   "outputs": [],
   "source": [
    "def soma(a, b, c):\n",
    "    return a + b + c"
   ]
  },
  {
   "cell_type": "code",
   "execution_count": 352,
   "metadata": {},
   "outputs": [
    {
     "data": {
      "text/plain": [
       "6"
      ]
     },
     "execution_count": 352,
     "metadata": {},
     "output_type": "execute_result"
    }
   ],
   "source": [
    "soma(1, 2, 3)"
   ]
  },
  {
   "cell_type": "code",
   "execution_count": 353,
   "metadata": {},
   "outputs": [
    {
     "ename": "TypeError",
     "evalue": "soma() missing 2 required positional arguments: 'b' and 'c'",
     "output_type": "error",
     "traceback": [
      "\u001b[0;31m---------------------------------------------------------------------------\u001b[0m",
      "\u001b[0;31mTypeError\u001b[0m                                 Traceback (most recent call last)",
      "\u001b[0;32m<ipython-input-353-30d023bb944f>\u001b[0m in \u001b[0;36m<module>\u001b[0;34m\u001b[0m\n\u001b[0;32m----> 1\u001b[0;31m \u001b[0msoma\u001b[0m\u001b[0;34m(\u001b[0m\u001b[0;36m1\u001b[0m\u001b[0;34m)\u001b[0m\u001b[0;34m\u001b[0m\u001b[0;34m\u001b[0m\u001b[0m\n\u001b[0m",
      "\u001b[0;31mTypeError\u001b[0m: soma() missing 2 required positional arguments: 'b' and 'c'"
     ]
    }
   ],
   "source": [
    "soma(1)"
   ]
  },
  {
   "cell_type": "code",
   "execution_count": 354,
   "metadata": {},
   "outputs": [
    {
     "data": {
      "text/plain": [
       "6"
      ]
     },
     "execution_count": 354,
     "metadata": {},
     "output_type": "execute_result"
    }
   ],
   "source": [
    "soma(a=1, b=2, c=3)"
   ]
  },
  {
   "cell_type": "code",
   "execution_count": 355,
   "metadata": {},
   "outputs": [
    {
     "data": {
      "text/plain": [
       "6"
      ]
     },
     "execution_count": 355,
     "metadata": {},
     "output_type": "execute_result"
    }
   ],
   "source": [
    "soma(b=2, a=1, c=3)"
   ]
  },
  {
   "cell_type": "code",
   "execution_count": 356,
   "metadata": {},
   "outputs": [
    {
     "ename": "TypeError",
     "evalue": "soma() missing 1 required positional argument: 'c'",
     "output_type": "error",
     "traceback": [
      "\u001b[0;31m---------------------------------------------------------------------------\u001b[0m",
      "\u001b[0;31mTypeError\u001b[0m                                 Traceback (most recent call last)",
      "\u001b[0;32m<ipython-input-356-3fcdabc4dabc>\u001b[0m in \u001b[0;36m<module>\u001b[0;34m\u001b[0m\n\u001b[0;32m----> 1\u001b[0;31m \u001b[0msoma\u001b[0m\u001b[0;34m(\u001b[0m\u001b[0mb\u001b[0m\u001b[0;34m=\u001b[0m\u001b[0;36m2\u001b[0m\u001b[0;34m,\u001b[0m \u001b[0ma\u001b[0m\u001b[0;34m=\u001b[0m\u001b[0;36m1\u001b[0m\u001b[0;34m)\u001b[0m\u001b[0;34m\u001b[0m\u001b[0;34m\u001b[0m\u001b[0m\n\u001b[0m",
      "\u001b[0;31mTypeError\u001b[0m: soma() missing 1 required positional argument: 'c'"
     ]
    }
   ],
   "source": [
    "soma(b=2, a=1)"
   ]
  },
  {
   "cell_type": "code",
   "execution_count": 361,
   "metadata": {},
   "outputs": [],
   "source": [
    "def soma(a, b, c=0):\n",
    "    print(f'{a=}, {b=}, {c=}')\n",
    "    return a + b + c"
   ]
  },
  {
   "cell_type": "code",
   "execution_count": 362,
   "metadata": {},
   "outputs": [
    {
     "name": "stdout",
     "output_type": "stream",
     "text": [
      "a=1, b=2, c=0\n"
     ]
    },
    {
     "data": {
      "text/plain": [
       "3"
      ]
     },
     "execution_count": 362,
     "metadata": {},
     "output_type": "execute_result"
    }
   ],
   "source": [
    "soma(a=1, b=2)"
   ]
  },
  {
   "cell_type": "code",
   "execution_count": 363,
   "metadata": {},
   "outputs": [
    {
     "name": "stdout",
     "output_type": "stream",
     "text": [
      "a=1, b=2, c=3\n"
     ]
    },
    {
     "data": {
      "text/plain": [
       "6"
      ]
     },
     "execution_count": 363,
     "metadata": {},
     "output_type": "execute_result"
    }
   ],
   "source": [
    "soma(a=1, b=2, c=3)"
   ]
  },
  {
   "cell_type": "code",
   "execution_count": 364,
   "metadata": {},
   "outputs": [
    {
     "name": "stdout",
     "output_type": "stream",
     "text": [
      "a=3, b=2, c=1\n"
     ]
    },
    {
     "data": {
      "text/plain": [
       "6"
      ]
     },
     "execution_count": 364,
     "metadata": {},
     "output_type": "execute_result"
    }
   ],
   "source": [
    "soma(c=1, b=2, a=3)"
   ]
  },
  {
   "cell_type": "code",
   "execution_count": null,
   "metadata": {},
   "outputs": [],
   "source": []
  },
  {
   "cell_type": "code",
   "execution_count": 380,
   "metadata": {},
   "outputs": [],
   "source": [
    "def cadastro(cpf, nome, imprime_dados=[]):\n",
    "    if 'cpf' in imprime_dados and 'nome' in imprime_dados:\n",
    "        print(f'O CPF do usuário cadastrado é {cpf}')\n",
    "        print(f'O nome do usuário cadastrado é {nome}')\n",
    "    elif 'cpf' in imprime_dados:\n",
    "        print(f'O CPF do usuário cadastrado é {cpf}')\n",
    "    elif 'nome' in imprime_dados:\n",
    "        print(f'O nome do usuário cadastrado é {nome}')\n",
    "    else:\n",
    "        print(f'O CPF do usuário cadastrado é {cpf}')\n",
    "        print(f'O nome do usuário cadastrado é {nome}')"
   ]
  },
  {
   "cell_type": "code",
   "execution_count": 381,
   "metadata": {},
   "outputs": [
    {
     "name": "stdout",
     "output_type": "stream",
     "text": [
      "O CPF do usuário cadastrado é 39784512357\n",
      "O nome do usuário cadastrado é Maria da Silva\n"
     ]
    }
   ],
   "source": [
    "cadastro(39784512357, 'Maria da Silva')"
   ]
  },
  {
   "cell_type": "code",
   "execution_count": 382,
   "metadata": {},
   "outputs": [
    {
     "ename": "TypeError",
     "evalue": "cadastro() missing 1 required positional argument: 'nome'",
     "output_type": "error",
     "traceback": [
      "\u001b[0;31m---------------------------------------------------------------------------\u001b[0m",
      "\u001b[0;31mTypeError\u001b[0m                                 Traceback (most recent call last)",
      "\u001b[0;32m<ipython-input-382-6e341bedb82c>\u001b[0m in \u001b[0;36m<module>\u001b[0;34m\u001b[0m\n\u001b[0;32m----> 1\u001b[0;31m \u001b[0mcadastro\u001b[0m\u001b[0;34m(\u001b[0m\u001b[0;36m39784512357\u001b[0m\u001b[0;34m)\u001b[0m\u001b[0;34m\u001b[0m\u001b[0;34m\u001b[0m\u001b[0m\n\u001b[0m",
      "\u001b[0;31mTypeError\u001b[0m: cadastro() missing 1 required positional argument: 'nome'"
     ]
    }
   ],
   "source": [
    "cadastro(39784512357)"
   ]
  },
  {
   "cell_type": "code",
   "execution_count": 383,
   "metadata": {},
   "outputs": [
    {
     "name": "stdout",
     "output_type": "stream",
     "text": [
      "O nome do usuário cadastrado é Maria da Silva\n"
     ]
    }
   ],
   "source": [
    "cadastro(39784512357, 'Maria da Silva', imprime_dados=['nome'])"
   ]
  },
  {
   "cell_type": "code",
   "execution_count": 384,
   "metadata": {},
   "outputs": [
    {
     "name": "stdout",
     "output_type": "stream",
     "text": [
      "O CPF do usuário cadastrado é 39784512357\n",
      "O nome do usuário cadastrado é Maria da Silva\n"
     ]
    }
   ],
   "source": [
    "cadastro(39784512357, 'Maria da Silva', imprime_dados=['nome', 'cpf'])"
   ]
  },
  {
   "cell_type": "code",
   "execution_count": 385,
   "metadata": {},
   "outputs": [
    {
     "name": "stdout",
     "output_type": "stream",
     "text": [
      "O CPF do usuário cadastrado é 39784512357\n"
     ]
    }
   ],
   "source": [
    "cadastro(39784512357, 'Maria da Silva', imprime_dados=['cpf'])"
   ]
  },
  {
   "cell_type": "code",
   "execution_count": 386,
   "metadata": {},
   "outputs": [
    {
     "name": "stdout",
     "output_type": "stream",
     "text": [
      "O CPF do usuário cadastrado é 39784512357\n",
      "O nome do usuário cadastrado é Maria da Silva\n"
     ]
    }
   ],
   "source": [
    "cadastro(39784512357, 'Maria da Silva')"
   ]
  },
  {
   "cell_type": "code",
   "execution_count": 387,
   "metadata": {},
   "outputs": [
    {
     "ename": "TypeError",
     "evalue": "cadastro() missing 1 required positional argument: 'nome'",
     "output_type": "error",
     "traceback": [
      "\u001b[0;31m---------------------------------------------------------------------------\u001b[0m",
      "\u001b[0;31mTypeError\u001b[0m                                 Traceback (most recent call last)",
      "\u001b[0;32m<ipython-input-387-2db717dc0be5>\u001b[0m in \u001b[0;36m<module>\u001b[0;34m\u001b[0m\n\u001b[0;32m----> 1\u001b[0;31m \u001b[0mcadastro\u001b[0m\u001b[0;34m(\u001b[0m\u001b[0;34m'Maria da Silva'\u001b[0m\u001b[0;34m)\u001b[0m\u001b[0;34m\u001b[0m\u001b[0;34m\u001b[0m\u001b[0m\n\u001b[0m",
      "\u001b[0;31mTypeError\u001b[0m: cadastro() missing 1 required positional argument: 'nome'"
     ]
    }
   ],
   "source": [
    "cadastro('Maria da Silva')"
   ]
  },
  {
   "cell_type": "code",
   "execution_count": 392,
   "metadata": {},
   "outputs": [],
   "source": [
    "def cadastro(cpf, nome=None, imprime_dados=[]):\n",
    "    if 'cpf' in imprime_dados and 'nome' in imprime_dados:\n",
    "        if nome is not None:  # if nome != None\n",
    "            print(f'O nome do usuário cadastrado é {nome}')\n",
    "        else:\n",
    "            print(f'O nome do usuário não foi cadastrado')\n",
    "        print(f'O CPF do usuário cadastrado é {cpf}')\n",
    "    elif 'cpf' in imprime_dados:\n",
    "        print(f'O CPF do usuário cadastrado é {cpf}')\n",
    "    elif 'nome' in imprime_dados:\n",
    "        if nome is not None:\n",
    "            print(f'O nome do usuário cadastrado é {nome}')\n",
    "        else:\n",
    "            print(f'O nome do usuário não foi cadastrado')\n",
    "    else:\n",
    "        if nome is not None:\n",
    "            print(f'O nome do usuário cadastrado é {nome}')\n",
    "        else:\n",
    "            print(f'O nome do usuário não foi cadastrado')\n",
    "        print(f'O CPF do usuário cadastrado é {cpf}')\n",
    "        "
   ]
  },
  {
   "cell_type": "code",
   "execution_count": 393,
   "metadata": {},
   "outputs": [
    {
     "name": "stdout",
     "output_type": "stream",
     "text": [
      "O nome do usuário cadastrado é Maria da Silva\n",
      "O CPF do usuário cadastrado é 39784512357\n"
     ]
    }
   ],
   "source": [
    "cadastro(39784512357, 'Maria da Silva')"
   ]
  },
  {
   "cell_type": "code",
   "execution_count": 394,
   "metadata": {},
   "outputs": [
    {
     "name": "stdout",
     "output_type": "stream",
     "text": [
      "O CPF do usuário cadastrado é 39784512357\n"
     ]
    }
   ],
   "source": [
    "cadastro(39784512357, imprime_dados=['cpf'])"
   ]
  },
  {
   "cell_type": "code",
   "execution_count": 395,
   "metadata": {},
   "outputs": [
    {
     "name": "stdout",
     "output_type": "stream",
     "text": [
      "O nome do usuário não foi cadastrado\n",
      "O CPF do usuário cadastrado é 39784512357\n"
     ]
    }
   ],
   "source": [
    "cadastro(39784512357, imprime_dados=['cpf', 'nome'])"
   ]
  },
  {
   "cell_type": "code",
   "execution_count": 396,
   "metadata": {},
   "outputs": [],
   "source": [
    "# Refactoring do código acima\n",
    "def cadastro(cpf, nome=None, imprime_dados=[]):\n",
    "    if nome is not None:\n",
    "        retorno_nome = (f'O nome do usuário cadastrado é {nome}')\n",
    "    else:\n",
    "        retorno_nome = (f'O nome do usuário não foi cadastrado')\n",
    "\n",
    "    if 'cpf' in imprime_dados and 'nome' in imprime_dados:\n",
    "        print(retorno_nome)\n",
    "        print(f'O CPF do usuário cadastrado é {cpf}')\n",
    "    elif 'cpf' in imprime_dados:\n",
    "        print(f'O CPF do usuário cadastrado é {cpf}')\n",
    "    elif 'nome' in imprime_dados:\n",
    "        print(retorno_nome)\n",
    "    else:\n",
    "        print(retorno_nome)\n",
    "        print(f'O CPF do usuário cadastrado é {cpf}')\n",
    "        "
   ]
  },
  {
   "cell_type": "code",
   "execution_count": 397,
   "metadata": {},
   "outputs": [
    {
     "name": "stdout",
     "output_type": "stream",
     "text": [
      "O nome do usuário não foi cadastrado\n",
      "O CPF do usuário cadastrado é 39784512357\n"
     ]
    }
   ],
   "source": [
    "cadastro(39784512357, imprime_dados=['cpf', 'nome'])"
   ]
  },
  {
   "cell_type": "code",
   "execution_count": null,
   "metadata": {},
   "outputs": [],
   "source": []
  },
  {
   "cell_type": "markdown",
   "metadata": {},
   "source": [
    " Podemos modificar a função para que um usuário possa fornecer unicamente seu nome e CPF; ou ambos, opcionalmente."
   ]
  },
  {
   "cell_type": "code",
   "execution_count": 418,
   "metadata": {},
   "outputs": [
    {
     "name": "stdout",
     "output_type": "stream",
     "text": [
      "a=1 b=2 numeros=(3, 4, 5, 6)\n"
     ]
    }
   ],
   "source": [
    "def soma(a=0, b=0, *numeros):\n",
    "    print(f'{a=} {b=} {numeros=}')\n",
    "soma(1, 2, 3, 4, 5, 6)"
   ]
  },
  {
   "cell_type": "code",
   "execution_count": 398,
   "metadata": {},
   "outputs": [],
   "source": [
    "def cadastro(**usuario):\n",
    "    print(usuario)"
   ]
  },
  {
   "cell_type": "code",
   "execution_count": 422,
   "metadata": {},
   "outputs": [],
   "source": [
    "def soma(**kwargs):\n",
    "    print(kwargs)"
   ]
  },
  {
   "cell_type": "code",
   "execution_count": 423,
   "metadata": {},
   "outputs": [
    {
     "name": "stdout",
     "output_type": "stream",
     "text": [
      "{'a': 1, 'b': 2}\n"
     ]
    }
   ],
   "source": [
    "soma(a=1, b=2)"
   ]
  },
  {
   "cell_type": "code",
   "execution_count": 430,
   "metadata": {},
   "outputs": [
    {
     "name": "stdout",
     "output_type": "stream",
     "text": [
      "{'cpf': 1234876479, 'nome': 'Maria de Belem', 'imprime_dados': ['cpf'], 'aleatorio': 'ndlsa'}\n"
     ]
    }
   ],
   "source": [
    "cadastro(cpf=1234876479, nome='Maria de Belem', imprime_dados=['cpf'], aleatorio='ndlsa')"
   ]
  },
  {
   "cell_type": "code",
   "execution_count": 440,
   "metadata": {},
   "outputs": [],
   "source": [
    "def cadastro(**usuario):\n",
    "    \"\"\"\n",
    "    usuarios:\n",
    "        - cpf: corresponde ao cpf do usuario\n",
    "        - nome: corresponde ao nome do usuario\n",
    "    \"\"\"\n",
    "    print(usuario)\n",
    "    if 'nome' not in usuario and 'cpf' not in usuario:\n",
    "        print('Nenhum cadastro encontrado')\n",
    "    else:\n",
    "        if 'nome' in usuario:\n",
    "            print(f'O nome do usuário cadastrado é {usuario[\"nome\"]}')\n",
    "        if 'cpf' in usuario:\n",
    "            print(f'O CPF do usuário cadastrado é {usuario[\"cpf\"]}')"
   ]
  },
  {
   "cell_type": "code",
   "execution_count": 433,
   "metadata": {},
   "outputs": [
    {
     "name": "stdout",
     "output_type": "stream",
     "text": [
      "{'cpf': 1234876479}\n",
      "O CPF do usuário cadastrado é 1234876479\n"
     ]
    }
   ],
   "source": [
    "cadastro(cpf=1234876479)"
   ]
  },
  {
   "cell_type": "code",
   "execution_count": 434,
   "metadata": {},
   "outputs": [
    {
     "name": "stdout",
     "output_type": "stream",
     "text": [
      "{'cpf': 1234876479, 'nome': 'Maria de Belem'}\n",
      "O nome do usuário cadastrado é Maria de Belem\n",
      "O CPF do usuário cadastrado é 1234876479\n"
     ]
    }
   ],
   "source": [
    "cadastro(cpf=1234876479, nome='Maria de Belem')"
   ]
  },
  {
   "cell_type": "code",
   "execution_count": 435,
   "metadata": {},
   "outputs": [
    {
     "name": "stdout",
     "output_type": "stream",
     "text": [
      "{'nome': 'Maria de Belem'}\n",
      "O nome do usuário cadastrado é Maria de Belem\n"
     ]
    }
   ],
   "source": [
    "cadastro(nome='Maria de Belem')"
   ]
  },
  {
   "cell_type": "code",
   "execution_count": 436,
   "metadata": {},
   "outputs": [
    {
     "name": "stdout",
     "output_type": "stream",
     "text": [
      "{'cpf': 1234876479, 'nome': 'Maria de Belem', 'imprime_dados': ['cpf'], 'aleatorio': 'ndlsa'}\n",
      "O nome do usuário cadastrado é Maria de Belem\n",
      "O CPF do usuário cadastrado é 1234876479\n"
     ]
    }
   ],
   "source": [
    "cadastro(cpf=1234876479, nome='Maria de Belem', imprime_dados=['cpf'], aleatorio='ndlsa')"
   ]
  },
  {
   "cell_type": "code",
   "execution_count": 449,
   "metadata": {},
   "outputs": [],
   "source": [
    "def cadastro(cpf=9999, **usuario):\n",
    "    \"\"\"\n",
    "    usuarios:\n",
    "        - cpf: corresponde ao cpf do usuario\n",
    "        - nome: corresponde ao nome do usuario\n",
    "    \"\"\"\n",
    "    print(usuario)\n",
    "    if 'nome' not in usuario and 'cpf' not in usuario:\n",
    "        print('Nenhum cadastro encontrado')\n",
    "    else:\n",
    "        if 'nome' in usuario:\n",
    "            print(f'O nome do usuário cadastrado é {usuario[\"nome\"]}')\n",
    "        if 'cpf' in usuario:\n",
    "            print(f'O CPF do usuário cadastrado é {usuario[\"cpf\"]}')"
   ]
  },
  {
   "cell_type": "code",
   "execution_count": 453,
   "metadata": {},
   "outputs": [],
   "source": [
    "def teste(*args, **kwargs):\n",
    "    print(f'{args=}')\n",
    "    print(f'{kwargs=}')"
   ]
  },
  {
   "cell_type": "code",
   "execution_count": 454,
   "metadata": {},
   "outputs": [
    {
     "name": "stdout",
     "output_type": "stream",
     "text": [
      "args=(1, 2, 3)\n",
      "kwargs={'a': 20, 'b': 30}\n"
     ]
    }
   ],
   "source": [
    "teste(1, 2, 3, a=20, b=30)"
   ]
  },
  {
   "cell_type": "code",
   "execution_count": 455,
   "metadata": {},
   "outputs": [
    {
     "name": "stdout",
     "output_type": "stream",
     "text": [
      "args=(1, 2, 3)\n",
      "kwargs={}\n"
     ]
    }
   ],
   "source": [
    "teste(1, 2, 3)"
   ]
  },
  {
   "cell_type": "code",
   "execution_count": 456,
   "metadata": {},
   "outputs": [
    {
     "name": "stdout",
     "output_type": "stream",
     "text": [
      "args=()\n",
      "kwargs={'a': 20, 'b': 30}\n"
     ]
    }
   ],
   "source": [
    "teste(a=20, b=30)"
   ]
  },
  {
   "cell_type": "markdown",
   "metadata": {},
   "source": [
    "## Compreensões de dicionario"
   ]
  },
  {
   "cell_type": "code",
   "execution_count": 457,
   "metadata": {},
   "outputs": [
    {
     "data": {
      "text/plain": [
       "[0, 1, 4, 9, 16, 25, 36, 49, 64, 81]"
      ]
     },
     "execution_count": 457,
     "metadata": {},
     "output_type": "execute_result"
    }
   ],
   "source": [
    "[x**2 for x in range(0, 10)]"
   ]
  },
  {
   "cell_type": "code",
   "execution_count": 458,
   "metadata": {},
   "outputs": [
    {
     "data": {
      "text/plain": [
       "{0: 0, 1: 1, 2: 4, 3: 9, 4: 16, 5: 25, 6: 36, 7: 49, 8: 64, 9: 81}"
      ]
     },
     "execution_count": 458,
     "metadata": {},
     "output_type": "execute_result"
    }
   ],
   "source": [
    "{i: x**2 for i, x in enumerate(range(0, 10))}"
   ]
  },
  {
   "cell_type": "code",
   "execution_count": 459,
   "metadata": {},
   "outputs": [
    {
     "data": {
      "text/plain": [
       "{0: 0, 1: 1, 2: 4, 3: 9, 4: 16, 5: 25, 6: 36, 7: 49, 8: 64, 9: 81}"
      ]
     },
     "execution_count": 459,
     "metadata": {},
     "output_type": "execute_result"
    }
   ],
   "source": [
    "{x: x**2 for x in range(0, 10)}"
   ]
  },
  {
   "cell_type": "markdown",
   "metadata": {},
   "source": [
    "### Curiosidades"
   ]
  },
  {
   "cell_type": "code",
   "execution_count": 461,
   "metadata": {},
   "outputs": [],
   "source": [
    "lista1 = list(range(0, 5))\n",
    "lista2 = list(range(10, 15))"
   ]
  },
  {
   "cell_type": "code",
   "execution_count": 462,
   "metadata": {},
   "outputs": [
    {
     "data": {
      "text/plain": [
       "[0, 1, 2, 3, 4, 10, 11, 12, 13, 14]"
      ]
     },
     "execution_count": 462,
     "metadata": {},
     "output_type": "execute_result"
    }
   ],
   "source": [
    "lista1 + lista2"
   ]
  },
  {
   "cell_type": "code",
   "execution_count": 463,
   "metadata": {},
   "outputs": [
    {
     "data": {
      "text/plain": [
       "[0, 1, 2, 3, 4]"
      ]
     },
     "execution_count": 463,
     "metadata": {},
     "output_type": "execute_result"
    }
   ],
   "source": [
    "lista1"
   ]
  },
  {
   "cell_type": "code",
   "execution_count": 464,
   "metadata": {},
   "outputs": [
    {
     "data": {
      "text/plain": [
       "[0, 1, 2, 3, 4]"
      ]
     },
     "execution_count": 464,
     "metadata": {},
     "output_type": "execute_result"
    }
   ],
   "source": [
    "[*lista1]"
   ]
  },
  {
   "cell_type": "code",
   "execution_count": 465,
   "metadata": {},
   "outputs": [
    {
     "data": {
      "text/plain": [
       "[0, 1, 2, 3, 4, 10, 11, 12, 13, 14]"
      ]
     },
     "execution_count": 465,
     "metadata": {},
     "output_type": "execute_result"
    }
   ],
   "source": [
    "[*lista1, *lista2]"
   ]
  },
  {
   "cell_type": "code",
   "execution_count": 466,
   "metadata": {},
   "outputs": [],
   "source": [
    "a, b, c, d, e = lista1"
   ]
  },
  {
   "cell_type": "code",
   "execution_count": 467,
   "metadata": {},
   "outputs": [
    {
     "data": {
      "text/plain": [
       "(0, 1, 2, 3, 4)"
      ]
     },
     "execution_count": 467,
     "metadata": {},
     "output_type": "execute_result"
    }
   ],
   "source": [
    "a, b, c, d, e"
   ]
  },
  {
   "cell_type": "code",
   "execution_count": 469,
   "metadata": {},
   "outputs": [
    {
     "ename": "ValueError",
     "evalue": "too many values to unpack (expected 2)",
     "output_type": "error",
     "traceback": [
      "\u001b[0;31m---------------------------------------------------------------------------\u001b[0m",
      "\u001b[0;31mValueError\u001b[0m                                Traceback (most recent call last)",
      "\u001b[0;32m<ipython-input-469-1b33f39c8f09>\u001b[0m in \u001b[0;36m<module>\u001b[0;34m\u001b[0m\n\u001b[0;32m----> 1\u001b[0;31m \u001b[0ma\u001b[0m\u001b[0;34m,\u001b[0m \u001b[0mb\u001b[0m \u001b[0;34m=\u001b[0m \u001b[0mlista1\u001b[0m\u001b[0;34m\u001b[0m\u001b[0;34m\u001b[0m\u001b[0m\n\u001b[0m",
      "\u001b[0;31mValueError\u001b[0m: too many values to unpack (expected 2)"
     ]
    }
   ],
   "source": [
    "a, b = lista1"
   ]
  },
  {
   "cell_type": "code",
   "execution_count": 470,
   "metadata": {},
   "outputs": [
    {
     "ename": "ValueError",
     "evalue": "too many values to unpack (expected 3)",
     "output_type": "error",
     "traceback": [
      "\u001b[0;31m---------------------------------------------------------------------------\u001b[0m",
      "\u001b[0;31mValueError\u001b[0m                                Traceback (most recent call last)",
      "\u001b[0;32m<ipython-input-470-e986db74ee9d>\u001b[0m in \u001b[0;36m<module>\u001b[0;34m\u001b[0m\n\u001b[0;32m----> 1\u001b[0;31m \u001b[0m_\u001b[0m\u001b[0;34m,\u001b[0m \u001b[0mb\u001b[0m\u001b[0;34m,\u001b[0m \u001b[0mc\u001b[0m  \u001b[0;34m=\u001b[0m \u001b[0mlista1\u001b[0m\u001b[0;34m\u001b[0m\u001b[0;34m\u001b[0m\u001b[0m\n\u001b[0m",
      "\u001b[0;31mValueError\u001b[0m: too many values to unpack (expected 3)"
     ]
    }
   ],
   "source": [
    "_, b, c  = lista1"
   ]
  },
  {
   "cell_type": "code",
   "execution_count": 472,
   "metadata": {},
   "outputs": [],
   "source": [
    "a, b, c, *d  = lista1"
   ]
  },
  {
   "cell_type": "code",
   "execution_count": 473,
   "metadata": {},
   "outputs": [
    {
     "data": {
      "text/plain": [
       "0"
      ]
     },
     "execution_count": 473,
     "metadata": {},
     "output_type": "execute_result"
    }
   ],
   "source": [
    "a"
   ]
  },
  {
   "cell_type": "code",
   "execution_count": 474,
   "metadata": {},
   "outputs": [
    {
     "data": {
      "text/plain": [
       "1"
      ]
     },
     "execution_count": 474,
     "metadata": {},
     "output_type": "execute_result"
    }
   ],
   "source": [
    "b"
   ]
  },
  {
   "cell_type": "code",
   "execution_count": 475,
   "metadata": {},
   "outputs": [
    {
     "data": {
      "text/plain": [
       "2"
      ]
     },
     "execution_count": 475,
     "metadata": {},
     "output_type": "execute_result"
    }
   ],
   "source": [
    "c"
   ]
  },
  {
   "cell_type": "code",
   "execution_count": 476,
   "metadata": {},
   "outputs": [
    {
     "data": {
      "text/plain": [
       "[3, 4]"
      ]
     },
     "execution_count": 476,
     "metadata": {},
     "output_type": "execute_result"
    }
   ],
   "source": [
    "d"
   ]
  },
  {
   "cell_type": "code",
   "execution_count": 477,
   "metadata": {},
   "outputs": [],
   "source": [
    "a, *b, c  = lista1"
   ]
  },
  {
   "cell_type": "code",
   "execution_count": 478,
   "metadata": {},
   "outputs": [
    {
     "data": {
      "text/plain": [
       "0"
      ]
     },
     "execution_count": 478,
     "metadata": {},
     "output_type": "execute_result"
    }
   ],
   "source": [
    "a"
   ]
  },
  {
   "cell_type": "code",
   "execution_count": 479,
   "metadata": {},
   "outputs": [
    {
     "data": {
      "text/plain": [
       "4"
      ]
     },
     "execution_count": 479,
     "metadata": {},
     "output_type": "execute_result"
    }
   ],
   "source": [
    "c"
   ]
  },
  {
   "cell_type": "code",
   "execution_count": 480,
   "metadata": {},
   "outputs": [
    {
     "data": {
      "text/plain": [
       "[1, 2, 3]"
      ]
     },
     "execution_count": 480,
     "metadata": {},
     "output_type": "execute_result"
    }
   ],
   "source": [
    "b"
   ]
  },
  {
   "cell_type": "code",
   "execution_count": 482,
   "metadata": {},
   "outputs": [],
   "source": [
    "dc1 = {'a': 0, 'b': 1, 'c': 2}\n",
    "dc2 = {'d': 10, 'e': 11, 'f': 12}"
   ]
  },
  {
   "cell_type": "code",
   "execution_count": 486,
   "metadata": {},
   "outputs": [
    {
     "data": {
      "text/plain": [
       "{'a': 0, 'b': 1, 'c': 2, 'd': 10, 'e': 11, 'f': 12}"
      ]
     },
     "execution_count": 486,
     "metadata": {},
     "output_type": "execute_result"
    }
   ],
   "source": [
    "{**dc1, **dc2}"
   ]
  },
  {
   "cell_type": "code",
   "execution_count": 487,
   "metadata": {},
   "outputs": [],
   "source": [
    "dc1 = {'a': 0, 'b': 1, 'c': 2}\n",
    "dc2 = {'d': 10, 'e': 11, 'f': 12}\n",
    "dc3 = {'g': 10, 'h': 11, 'i': 12}"
   ]
  },
  {
   "cell_type": "code",
   "execution_count": 488,
   "metadata": {},
   "outputs": [],
   "source": [
    "lista_dic = [dc1, dc2, dc3]"
   ]
  },
  {
   "cell_type": "code",
   "execution_count": 489,
   "metadata": {},
   "outputs": [
    {
     "data": {
      "text/plain": [
       "[{'a': 0, 'b': 1, 'c': 2},\n",
       " {'d': 10, 'e': 11, 'f': 12},\n",
       " {'g': 10, 'h': 11, 'i': 12}]"
      ]
     },
     "execution_count": 489,
     "metadata": {},
     "output_type": "execute_result"
    }
   ],
   "source": [
    "lista_dic"
   ]
  },
  {
   "cell_type": "code",
   "execution_count": 492,
   "metadata": {},
   "outputs": [
    {
     "data": {
      "text/plain": [
       "{'a': 0, 'b': 1, 'c': 2, 'd': 10, 'e': 11, 'f': 12}"
      ]
     },
     "execution_count": 492,
     "metadata": {},
     "output_type": "execute_result"
    }
   ],
   "source": [
    "{**dc1, **dc2}"
   ]
  },
  {
   "cell_type": "code",
   "execution_count": 493,
   "metadata": {},
   "outputs": [
    {
     "data": {
      "text/plain": [
       "{'a': 0, 'b': 1, 'c': 2, 'd': 10, 'e': 11, 'f': 12, 'g': 10, 'h': 11, 'i': 12}"
      ]
     },
     "execution_count": 493,
     "metadata": {},
     "output_type": "execute_result"
    }
   ],
   "source": [
    "{**dc1, **dc2, **dc3}"
   ]
  },
  {
   "cell_type": "code",
   "execution_count": 490,
   "metadata": {},
   "outputs": [],
   "source": [
    "dic_final = {}\n",
    "for dic in lista_dic:\n",
    "    dic_final = {**dic_final, **dic}"
   ]
  },
  {
   "cell_type": "code",
   "execution_count": 491,
   "metadata": {},
   "outputs": [
    {
     "data": {
      "text/plain": [
       "{'a': 0, 'b': 1, 'c': 2, 'd': 10, 'e': 11, 'f': 12, 'g': 10, 'h': 11, 'i': 12}"
      ]
     },
     "execution_count": 491,
     "metadata": {},
     "output_type": "execute_result"
    }
   ],
   "source": [
    "dic_final"
   ]
  },
  {
   "cell_type": "markdown",
   "metadata": {},
   "source": [
    "{}        + {'a': 0, 'b': 1, 'c': 2} => {'a': 0, 'b': 1, 'c': 2} (dic_final)\n",
    "|            |\n",
    "dic_final    dc1                          \n",
    "\n",
    "{'a': 0, 'b': 1, 'c': 2}  + {'d': 10, 'e': 11, 'f': 12} => {'a': 0, 'b': 1, 'c': 2, 'd': 10, 'e': 11, 'f': 12}\n",
    "|                           |\n",
    "dic_final                   dc2"
   ]
  },
  {
   "cell_type": "markdown",
   "metadata": {},
   "source": [
    "## Voltamos 20:40"
   ]
  },
  {
   "cell_type": "code",
   "execution_count": 494,
   "metadata": {},
   "outputs": [
    {
     "data": {
      "text/plain": [
       "6.428571428571429"
      ]
     },
     "execution_count": 494,
     "metadata": {},
     "output_type": "execute_result"
    }
   ],
   "source": [
    "45/7"
   ]
  },
  {
   "cell_type": "code",
   "execution_count": null,
   "metadata": {},
   "outputs": [],
   "source": []
  }
 ],
 "metadata": {
  "kernelspec": {
   "display_name": "Python 3",
   "language": "python",
   "name": "python3"
  },
  "language_info": {
   "codemirror_mode": {
    "name": "ipython",
    "version": 3
   },
   "file_extension": ".py",
   "mimetype": "text/x-python",
   "name": "python",
   "nbconvert_exporter": "python",
   "pygments_lexer": "ipython3",
   "version": "3.8.3"
  }
 },
 "nbformat": 4,
 "nbformat_minor": 4
}
