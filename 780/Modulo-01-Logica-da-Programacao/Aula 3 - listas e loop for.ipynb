{
 "cells": [
  {
   "cell_type": "code",
   "execution_count": 1,
   "metadata": {},
   "outputs": [],
   "source": [
    "%config Completer.use_jedi = False"
   ]
  },
  {
   "cell_type": "markdown",
   "metadata": {},
   "source": [
    "# Aula 3 - listas e loop for\n",
    "\n",
    "Na aula de hoje, vamos explorar os seguintes tópicos em Python:\n",
    "\n",
    "- 1) Listas\n",
    "- 2) Funções de listas\n",
    "- 3) Laços de repetição (for)\n",
    "    - 3.1) Compreensão de listas\n"
   ]
  },
  {
   "cell_type": "markdown",
   "metadata": {},
   "source": [
    "____\n",
    "____\n",
    "____"
   ]
  },
  {
   "cell_type": "markdown",
   "metadata": {},
   "source": [
    "## 1) Listas\n",
    "\n",
    "Imagine que você quer armazenar várias variáveis relacionadas, como, por exemplo, todas suas notas em provas.\n",
    "\n",
    "Se houver muitas notas, não é muito prático criar uma variável para cada uma. Seria muito mais conveniente armazenar todas as notas em uma **lista**, não é mesmo? \n",
    "\n",
    "Em python, temos uma estrutura de dados que é exatamente isso: uma lista! Listas são indicadas por colchete []\n",
    "\n",
    "Uma lista nada mais é que um **conjunto de objetos**, que podem ser de diversos tipos:"
   ]
  },
  {
   "cell_type": "markdown",
   "metadata": {},
   "source": [
    "Lista de números (int e float)"
   ]
  },
  {
   "cell_type": "code",
   "execution_count": 2,
   "metadata": {},
   "outputs": [],
   "source": [
    "# Lista de int\n",
    "lista = [1, 2, 20, -40, 55, 88]"
   ]
  },
  {
   "cell_type": "code",
   "execution_count": 3,
   "metadata": {},
   "outputs": [
    {
     "data": {
      "text/plain": [
       "[1, 2, 20, -40, 55, 88]"
      ]
     },
     "execution_count": 3,
     "metadata": {},
     "output_type": "execute_result"
    }
   ],
   "source": [
    "lista"
   ]
  },
  {
   "cell_type": "code",
   "execution_count": 4,
   "metadata": {},
   "outputs": [],
   "source": [
    "lista = [1., 2.4, 3, 10, 20, 40]"
   ]
  },
  {
   "cell_type": "code",
   "execution_count": 5,
   "metadata": {},
   "outputs": [
    {
     "data": {
      "text/plain": [
       "[1.0, 2.4, 3, 10, 20, 40]"
      ]
     },
     "execution_count": 5,
     "metadata": {},
     "output_type": "execute_result"
    }
   ],
   "source": [
    "lista"
   ]
  },
  {
   "cell_type": "markdown",
   "metadata": {},
   "source": [
    "Lista de strings"
   ]
  },
  {
   "cell_type": "code",
   "execution_count": 6,
   "metadata": {},
   "outputs": [],
   "source": [
    "lista_de_strings = ['Hoje', 'Amanhã', 'Ontem']"
   ]
  },
  {
   "cell_type": "code",
   "execution_count": 7,
   "metadata": {},
   "outputs": [
    {
     "data": {
      "text/plain": [
       "['Hoje', 'Amanhã', 'Ontem']"
      ]
     },
     "execution_count": 7,
     "metadata": {},
     "output_type": "execute_result"
    }
   ],
   "source": [
    "lista_de_strings"
   ]
  },
  {
   "cell_type": "markdown",
   "metadata": {},
   "source": [
    "Lista de números e strings"
   ]
  },
  {
   "cell_type": "code",
   "execution_count": 8,
   "metadata": {},
   "outputs": [
    {
     "data": {
      "text/plain": [
       "['Gil', 10, 20, 4.5]"
      ]
     },
     "execution_count": 8,
     "metadata": {},
     "output_type": "execute_result"
    }
   ],
   "source": [
    "listas_num_strings = ['Gil', 10, 20, 4.5]\n",
    "\n",
    "listas_num_strings"
   ]
  },
  {
   "cell_type": "markdown",
   "metadata": {},
   "source": [
    "Lista de listas"
   ]
  },
  {
   "cell_type": "code",
   "execution_count": 9,
   "metadata": {},
   "outputs": [
    {
     "data": {
      "text/plain": [
       "[['Danilo', 20, 45, 50]]"
      ]
     },
     "execution_count": 9,
     "metadata": {},
     "output_type": "execute_result"
    }
   ],
   "source": [
    "lista_de_listas = [['Danilo', 20, 45, 50]]\n",
    "\n",
    "lista_de_listas"
   ]
  },
  {
   "cell_type": "markdown",
   "metadata": {},
   "source": [
    "Tudo junto"
   ]
  },
  {
   "cell_type": "code",
   "execution_count": 10,
   "metadata": {},
   "outputs": [
    {
     "data": {
      "text/plain": [
       "['Gil', 2, 4, 5, ['Danilo', 20, 45, 50]]"
      ]
     },
     "execution_count": 10,
     "metadata": {},
     "output_type": "execute_result"
    }
   ],
   "source": [
    "\n",
    "lista = ['Gil', 2, 4, 5, ['Danilo', 20, 45, 50]]\n",
    "\n",
    "lista"
   ]
  },
  {
   "cell_type": "markdown",
   "metadata": {},
   "source": [
    "Muitas vezes, queremos **acessar elementos individuais** da lista. \n",
    "\n",
    "Para fazer isso, devemos indicar qual é o **índice** respectivo ao elemento, isto é, qual é a **posição** do elemento dentro da lista\n",
    "\n",
    "Para acessar o elemento na **posição i** da lista \"minha_lista\", fazemos:\n",
    "\n",
    "```python\n",
    "minha_lista[i]\n",
    "```\n",
    "\n",
    "__MUITO IMPORTANTE: a numeração de índice começa em zero!__\n",
    "\n",
    "Ou seja:\n",
    "\n",
    "- O primeiro elemento tem índice 0: ```minha_lista[0]``` ,\n",
    "- O segundo tem índice 1: ```minha_lista[1]```,\n",
    "\n",
    "E assim por diante!\n",
    "\n",
    "Também podemos acessar os últimos elementos, usando índices negativos:\n",
    "\n",
    "- O último elemento tem índice -1: ```minha_lista[-1]```,\n",
    "- O penúltimo tem índice -2: ```minha_lista[-2]```,\n",
    "\n",
    "E assim por diante!"
   ]
  },
  {
   "cell_type": "code",
   "execution_count": 11,
   "metadata": {},
   "outputs": [],
   "source": [
    "minha_lista = [1, 2, 50, 'Gil']"
   ]
  },
  {
   "cell_type": "code",
   "execution_count": 12,
   "metadata": {},
   "outputs": [
    {
     "data": {
      "text/plain": [
       "1"
      ]
     },
     "execution_count": 12,
     "metadata": {},
     "output_type": "execute_result"
    }
   ],
   "source": [
    "# Acessando o primeiro elemento\n",
    "minha_lista[0]"
   ]
  },
  {
   "cell_type": "code",
   "execution_count": 13,
   "metadata": {},
   "outputs": [
    {
     "data": {
      "text/plain": [
       "'Gil'"
      ]
     },
     "execution_count": 13,
     "metadata": {},
     "output_type": "execute_result"
    }
   ],
   "source": [
    "# Acessando o último elemento\n",
    "minha_lista[-1]"
   ]
  },
  {
   "cell_type": "code",
   "execution_count": 14,
   "metadata": {},
   "outputs": [
    {
     "data": {
      "text/plain": [
       "1"
      ]
     },
     "execution_count": 14,
     "metadata": {},
     "output_type": "execute_result"
    }
   ],
   "source": [
    "minha_lista[-4]"
   ]
  },
  {
   "cell_type": "code",
   "execution_count": 15,
   "metadata": {},
   "outputs": [
    {
     "ename": "IndexError",
     "evalue": "list index out of range",
     "output_type": "error",
     "traceback": [
      "\u001b[0;31m---------------------------------------------------------------------------\u001b[0m",
      "\u001b[0;31mIndexError\u001b[0m                                Traceback (most recent call last)",
      "\u001b[0;32m<ipython-input-15-c1ad1146f8e2>\u001b[0m in \u001b[0;36m<module>\u001b[0;34m\u001b[0m\n\u001b[0;32m----> 1\u001b[0;31m \u001b[0mminha_lista\u001b[0m\u001b[0;34m[\u001b[0m\u001b[0;36m4\u001b[0m\u001b[0;34m]\u001b[0m\u001b[0;34m\u001b[0m\u001b[0;34m\u001b[0m\u001b[0m\n\u001b[0m",
      "\u001b[0;31mIndexError\u001b[0m: list index out of range"
     ]
    }
   ],
   "source": [
    "minha_lista[4]"
   ]
  },
  {
   "cell_type": "code",
   "execution_count": null,
   "metadata": {},
   "outputs": [],
   "source": []
  },
  {
   "cell_type": "code",
   "execution_count": 16,
   "metadata": {},
   "outputs": [],
   "source": [
    "minha_lista = ['Gil', 2, 4, 5, ['Danilo', 20, 45, 50]]"
   ]
  },
  {
   "cell_type": "code",
   "execution_count": 17,
   "metadata": {},
   "outputs": [
    {
     "data": {
      "text/plain": [
       "2"
      ]
     },
     "execution_count": 17,
     "metadata": {},
     "output_type": "execute_result"
    }
   ],
   "source": [
    "# Acessando o segundo elemento\n",
    "minha_lista[1]"
   ]
  },
  {
   "cell_type": "markdown",
   "metadata": {},
   "source": [
    "Também podemos **acessar pedaços da lista**, indicando o intervalo de índices que queremos, separados por \":\",  **com intervalo superior aberto**:\n",
    "\n",
    "- ```minha_lista[1:3]```: seleciona os elementos de indice 1 até indice 2\n",
    "- ```minha_lista[:4]```: seleciona do primeiro elemento até o de índice 3\n",
    "- ```minha_lista[3:]```: seleciona do elemento de índice 3 até o final\n",
    "- ```minha_lista[:]```: seleciona a lista inteira\n",
    "\n",
    "Este conceito é chamado de \"slicing\" em Python, pois você está pegando \"fatias\" da lista!"
   ]
  },
  {
   "cell_type": "code",
   "execution_count": 18,
   "metadata": {},
   "outputs": [],
   "source": [
    "# Criando uma lista complexa (com int, float, string, e lista)\n",
    "minha_lista = ['Gil', 2, 4, 5, ['Danilo', 20, 45, 50]]"
   ]
  },
  {
   "cell_type": "code",
   "execution_count": 19,
   "metadata": {},
   "outputs": [
    {
     "data": {
      "text/plain": [
       "['Gil', 2, 4, 5]"
      ]
     },
     "execution_count": 19,
     "metadata": {},
     "output_type": "execute_result"
    }
   ],
   "source": [
    "minha_lista[0:4]"
   ]
  },
  {
   "cell_type": "code",
   "execution_count": 20,
   "metadata": {},
   "outputs": [
    {
     "data": {
      "text/plain": [
       "[4, 5]"
      ]
     },
     "execution_count": 20,
     "metadata": {},
     "output_type": "execute_result"
    }
   ],
   "source": [
    "minha_lista[2:4] # retorna o elemento da lista com indice 2 e 3"
   ]
  },
  {
   "cell_type": "code",
   "execution_count": 21,
   "metadata": {},
   "outputs": [
    {
     "data": {
      "text/plain": [
       "['Danilo', 20, 45, 50]"
      ]
     },
     "execution_count": 21,
     "metadata": {},
     "output_type": "execute_result"
    }
   ],
   "source": [
    "minha_lista[-1]"
   ]
  },
  {
   "cell_type": "code",
   "execution_count": 22,
   "metadata": {},
   "outputs": [
    {
     "data": {
      "text/plain": [
       "['Gil', 2, 4, 5]"
      ]
     },
     "execution_count": 22,
     "metadata": {},
     "output_type": "execute_result"
    }
   ],
   "source": [
    "minha_lista[0:4]"
   ]
  },
  {
   "cell_type": "code",
   "execution_count": 23,
   "metadata": {},
   "outputs": [
    {
     "data": {
      "text/plain": [
       "['Gil', 2, 4, 5]"
      ]
     },
     "execution_count": 23,
     "metadata": {},
     "output_type": "execute_result"
    }
   ],
   "source": [
    "minha_lista[:4]"
   ]
  },
  {
   "cell_type": "code",
   "execution_count": 24,
   "metadata": {},
   "outputs": [
    {
     "data": {
      "text/plain": [
       "[4, 5, ['Danilo', 20, 45, 50]]"
      ]
     },
     "execution_count": 24,
     "metadata": {},
     "output_type": "execute_result"
    }
   ],
   "source": [
    "minha_lista[2:5]"
   ]
  },
  {
   "cell_type": "code",
   "execution_count": 25,
   "metadata": {},
   "outputs": [
    {
     "data": {
      "text/plain": [
       "[4, 5, ['Danilo', 20, 45, 50]]"
      ]
     },
     "execution_count": 25,
     "metadata": {},
     "output_type": "execute_result"
    }
   ],
   "source": [
    "minha_lista[2:]"
   ]
  },
  {
   "cell_type": "code",
   "execution_count": 26,
   "metadata": {},
   "outputs": [
    {
     "data": {
      "text/plain": [
       "['Gil', 2, 4, 5]"
      ]
     },
     "execution_count": 26,
     "metadata": {},
     "output_type": "execute_result"
    }
   ],
   "source": [
    "minha_lista[:-1]"
   ]
  },
  {
   "cell_type": "code",
   "execution_count": 27,
   "metadata": {},
   "outputs": [
    {
     "data": {
      "text/plain": [
       "[2, 4, 5]"
      ]
     },
     "execution_count": 27,
     "metadata": {},
     "output_type": "execute_result"
    }
   ],
   "source": [
    "minha_lista[1:-1]"
   ]
  },
  {
   "cell_type": "code",
   "execution_count": 28,
   "metadata": {},
   "outputs": [
    {
     "data": {
      "text/plain": [
       "[2, 4, 5]"
      ]
     },
     "execution_count": 28,
     "metadata": {},
     "output_type": "execute_result"
    }
   ],
   "source": [
    "minha_lista[-4:-1]"
   ]
  },
  {
   "cell_type": "code",
   "execution_count": 29,
   "metadata": {},
   "outputs": [
    {
     "data": {
      "text/plain": [
       "['Gil', 2]"
      ]
     },
     "execution_count": 29,
     "metadata": {},
     "output_type": "execute_result"
    }
   ],
   "source": [
    "# Pegar os dois primeiros elementos...\n",
    "minha_lista[: 2]"
   ]
  },
  {
   "cell_type": "code",
   "execution_count": 30,
   "metadata": {},
   "outputs": [
    {
     "data": {
      "text/plain": [
       "['Gil', 2, 4, 5]"
      ]
     },
     "execution_count": 30,
     "metadata": {},
     "output_type": "execute_result"
    }
   ],
   "source": [
    "# Pegando os quatro primeiros elementos\n",
    "minha_lista[: 4]"
   ]
  },
  {
   "cell_type": "code",
   "execution_count": 31,
   "metadata": {},
   "outputs": [
    {
     "data": {
      "text/plain": [
       "[2, 4, 5, ['Danilo', 20, 45, 50]]"
      ]
     },
     "execution_count": 31,
     "metadata": {},
     "output_type": "execute_result"
    }
   ],
   "source": [
    "# Os quatro últimos elementos\n",
    "minha_lista[-4:]"
   ]
  },
  {
   "cell_type": "code",
   "execution_count": 32,
   "metadata": {},
   "outputs": [
    {
     "data": {
      "text/plain": [
       "['Danilo', 20, 45, 50]"
      ]
     },
     "execution_count": 32,
     "metadata": {},
     "output_type": "execute_result"
    }
   ],
   "source": [
    "# Qual meu último elemento?\n",
    "minha_lista[-1]"
   ]
  },
  {
   "cell_type": "code",
   "execution_count": 33,
   "metadata": {},
   "outputs": [
    {
     "data": {
      "text/plain": [
       "'Danilo'"
      ]
     },
     "execution_count": 33,
     "metadata": {},
     "output_type": "execute_result"
    }
   ],
   "source": [
    "# Acessando uma lista de lista\n",
    "sub_lista = minha_lista[-1]\n",
    "sub_lista[0]"
   ]
  },
  {
   "cell_type": "code",
   "execution_count": 34,
   "metadata": {},
   "outputs": [
    {
     "data": {
      "text/plain": [
       "['Danilo', 20]"
      ]
     },
     "execution_count": 34,
     "metadata": {},
     "output_type": "execute_result"
    }
   ],
   "source": [
    "minha_lista[-1][0:2]"
   ]
  },
  {
   "cell_type": "code",
   "execution_count": 35,
   "metadata": {},
   "outputs": [
    {
     "data": {
      "text/plain": [
       "['Danilo', 20]"
      ]
     },
     "execution_count": 35,
     "metadata": {},
     "output_type": "execute_result"
    }
   ],
   "source": [
    "minha_lista[-1][:2]"
   ]
  },
  {
   "cell_type": "code",
   "execution_count": 36,
   "metadata": {},
   "outputs": [
    {
     "data": {
      "text/plain": [
       "[45, 50]"
      ]
     },
     "execution_count": 36,
     "metadata": {},
     "output_type": "execute_result"
    }
   ],
   "source": [
    "minha_lista[-1][-2:]"
   ]
  },
  {
   "cell_type": "markdown",
   "metadata": {},
   "source": [
    "Podemos também fazer algumas **operações com listas**"
   ]
  },
  {
   "cell_type": "markdown",
   "metadata": {},
   "source": [
    "Soma de listas: ao **somar listas**, os elementos são **concatenados**, na ordem dada, para formar uma lista maior:"
   ]
  },
  {
   "cell_type": "code",
   "execution_count": 37,
   "metadata": {},
   "outputs": [
    {
     "data": {
      "text/plain": [
       "[1, 2, 3, 4, 5, 6]"
      ]
     },
     "execution_count": 37,
     "metadata": {},
     "output_type": "execute_result"
    }
   ],
   "source": [
    "# Podemos estender as listas...\n",
    "lista1 = [1, 2, 3]\n",
    "lista2 = [4, 5, 6]\n",
    "\n",
    "lista1 + lista2"
   ]
  },
  {
   "cell_type": "code",
   "execution_count": 38,
   "metadata": {},
   "outputs": [],
   "source": [
    "lista3 = lista2 + lista1"
   ]
  },
  {
   "cell_type": "code",
   "execution_count": null,
   "metadata": {},
   "outputs": [],
   "source": []
  },
  {
   "cell_type": "code",
   "execution_count": 39,
   "metadata": {},
   "outputs": [],
   "source": [
    "# Podemos estender as listas com extend!\n",
    "lista1.extend(lista2)  # acaba modificando a lista1!!! Cuidado!"
   ]
  },
  {
   "cell_type": "code",
   "execution_count": 40,
   "metadata": {},
   "outputs": [
    {
     "data": {
      "text/plain": [
       "[1, 2, 3, 4, 5, 6]"
      ]
     },
     "execution_count": 40,
     "metadata": {},
     "output_type": "execute_result"
    }
   ],
   "source": [
    "lista1"
   ]
  },
  {
   "cell_type": "code",
   "execution_count": 41,
   "metadata": {},
   "outputs": [],
   "source": [
    "l1 = [1,2,3]"
   ]
  },
  {
   "cell_type": "code",
   "execution_count": 42,
   "metadata": {},
   "outputs": [],
   "source": [
    "l3 = l1.extend([4, 5, 6])"
   ]
  },
  {
   "cell_type": "code",
   "execution_count": 43,
   "metadata": {},
   "outputs": [
    {
     "data": {
      "text/plain": [
       "NoneType"
      ]
     },
     "execution_count": 43,
     "metadata": {},
     "output_type": "execute_result"
    }
   ],
   "source": [
    "type(l3)"
   ]
  },
  {
   "cell_type": "code",
   "execution_count": 44,
   "metadata": {},
   "outputs": [
    {
     "name": "stdout",
     "output_type": "stream",
     "text": [
      "[1, 2, 3, 4, 5, 6]\n"
     ]
    }
   ],
   "source": [
    "print(l1)"
   ]
  },
  {
   "cell_type": "markdown",
   "metadata": {},
   "source": [
    "Ao **multiplicar listas por um inteiro**, os elementos são repetidos, na ordem que aparecem:"
   ]
  },
  {
   "cell_type": "code",
   "execution_count": 45,
   "metadata": {},
   "outputs": [
    {
     "data": {
      "text/plain": [
       "[1, 2, 3, 1, 2, 3, 1, 2, 3]"
      ]
     },
     "execution_count": 45,
     "metadata": {},
     "output_type": "execute_result"
    }
   ],
   "source": [
    "# Múltiplicando lista\n",
    "[1, 2, 3] * 3"
   ]
  },
  {
   "cell_type": "code",
   "execution_count": 46,
   "metadata": {},
   "outputs": [
    {
     "data": {
      "text/plain": [
       "[0, 0, 0, 0, 0, 0, 0, 0, 0, 0, 0, 0, 0, 0, 0, 0, 0, 0, 0, 0]"
      ]
     },
     "execution_count": 46,
     "metadata": {},
     "output_type": "execute_result"
    }
   ],
   "source": [
    "[0] * 20"
   ]
  },
  {
   "cell_type": "markdown",
   "metadata": {},
   "source": [
    "Se quisermos somar os elementos de duas listas, ou multiplicá-los por algum número, temos que usar um **laço**, como veremos logo mais!"
   ]
  },
  {
   "cell_type": "markdown",
   "metadata": {},
   "source": [
    "É possível transformar strings em uma **lista de caracteres**:"
   ]
  },
  {
   "cell_type": "code",
   "execution_count": null,
   "metadata": {},
   "outputs": [],
   "source": []
  },
  {
   "cell_type": "code",
   "execution_count": 47,
   "metadata": {},
   "outputs": [
    {
     "data": {
      "text/plain": [
       "['a', 'b', 'a', 'c', 'a', 't', 'e']"
      ]
     },
     "execution_count": 47,
     "metadata": {},
     "output_type": "execute_result"
    }
   ],
   "source": [
    "# Podemos aplicar list em uma string\n",
    "list(\"abacate\")"
   ]
  },
  {
   "cell_type": "markdown",
   "metadata": {},
   "source": [
    "__________\n",
    "__________\n",
    "__________"
   ]
  },
  {
   "cell_type": "markdown",
   "metadata": {},
   "source": [
    "## 2) Funções de listas"
   ]
  },
  {
   "cell_type": "markdown",
   "metadata": {},
   "source": [
    "Podemos começar com uma lista vazia, e preenchê-la aos poucos.\n",
    "\n",
    "Para **criar uma lista vazia**, fazemos:"
   ]
  },
  {
   "cell_type": "code",
   "execution_count": 65,
   "metadata": {},
   "outputs": [
    {
     "data": {
      "text/plain": [
       "[]"
      ]
     },
     "execution_count": 65,
     "metadata": {},
     "output_type": "execute_result"
    }
   ],
   "source": [
    "# tanto faz o list() ou o []\n",
    "# lista_vazia = list()\n",
    "\n",
    "lista_vazia = []\n",
    "\n",
    "lista_vazia"
   ]
  },
  {
   "cell_type": "code",
   "execution_count": 63,
   "metadata": {},
   "outputs": [
    {
     "data": {
      "text/plain": [
       "list"
      ]
     },
     "execution_count": 63,
     "metadata": {},
     "output_type": "execute_result"
    }
   ],
   "source": [
    "type([])"
   ]
  },
  {
   "cell_type": "code",
   "execution_count": 64,
   "metadata": {},
   "outputs": [
    {
     "data": {
      "text/plain": [
       "list"
      ]
     },
     "execution_count": 64,
     "metadata": {},
     "output_type": "execute_result"
    }
   ],
   "source": [
    "type(list())"
   ]
  },
  {
   "cell_type": "markdown",
   "metadata": {},
   "source": [
    "Para adicionar um elemento **ao fim da lista**, usamos a função \"append()\".\n",
    "\n",
    "**OBS.: só podemos apendar um único elemento por vez!**"
   ]
  },
  {
   "cell_type": "code",
   "execution_count": 118,
   "metadata": {},
   "outputs": [],
   "source": [
    "lista = []\n",
    "meu_numero = 42\n",
    "lista.append(meu_numero)"
   ]
  },
  {
   "cell_type": "code",
   "execution_count": 119,
   "metadata": {},
   "outputs": [
    {
     "data": {
      "text/plain": [
       "[42]"
      ]
     },
     "execution_count": 119,
     "metadata": {},
     "output_type": "execute_result"
    }
   ],
   "source": [
    "lista"
   ]
  },
  {
   "cell_type": "code",
   "execution_count": 120,
   "metadata": {},
   "outputs": [],
   "source": [
    "minha_str = 'Luis'"
   ]
  },
  {
   "cell_type": "code",
   "execution_count": 121,
   "metadata": {},
   "outputs": [],
   "source": [
    "lista.append(minha_str)"
   ]
  },
  {
   "cell_type": "code",
   "execution_count": 122,
   "metadata": {},
   "outputs": [
    {
     "data": {
      "text/plain": [
       "[42, 'Luis']"
      ]
     },
     "execution_count": 122,
     "metadata": {},
     "output_type": "execute_result"
    }
   ],
   "source": [
    "lista"
   ]
  },
  {
   "cell_type": "code",
   "execution_count": 123,
   "metadata": {},
   "outputs": [],
   "source": [
    "lista.append(16.2)"
   ]
  },
  {
   "cell_type": "code",
   "execution_count": 124,
   "metadata": {},
   "outputs": [
    {
     "data": {
      "text/plain": [
       "[42, 'Luis', 16.2]"
      ]
     },
     "execution_count": 124,
     "metadata": {},
     "output_type": "execute_result"
    }
   ],
   "source": [
    "lista"
   ]
  },
  {
   "cell_type": "code",
   "execution_count": 125,
   "metadata": {},
   "outputs": [],
   "source": [
    "lista2 = []"
   ]
  },
  {
   "cell_type": "code",
   "execution_count": 126,
   "metadata": {},
   "outputs": [
    {
     "data": {
      "text/plain": [
       "[]"
      ]
     },
     "execution_count": 126,
     "metadata": {},
     "output_type": "execute_result"
    }
   ],
   "source": [
    "lista2"
   ]
  },
  {
   "cell_type": "code",
   "execution_count": 127,
   "metadata": {},
   "outputs": [],
   "source": [
    "lista2.append(lista)"
   ]
  },
  {
   "cell_type": "code",
   "execution_count": 128,
   "metadata": {},
   "outputs": [
    {
     "data": {
      "text/plain": [
       "[[42, 'Luis', 16.2]]"
      ]
     },
     "execution_count": 128,
     "metadata": {},
     "output_type": "execute_result"
    }
   ],
   "source": [
    "lista2"
   ]
  },
  {
   "cell_type": "code",
   "execution_count": 129,
   "metadata": {},
   "outputs": [
    {
     "data": {
      "text/plain": [
       "[42, 'Luis', 16.2, 'Andrade', '16/06/21']"
      ]
     },
     "execution_count": 129,
     "metadata": {},
     "output_type": "execute_result"
    }
   ],
   "source": [
    "lista + ['Andrade', '16/06/21']"
   ]
  },
  {
   "cell_type": "code",
   "execution_count": 130,
   "metadata": {},
   "outputs": [
    {
     "data": {
      "text/plain": [
       "[42, 'Luis', 16.2, 'Andrade', '16/06/21']"
      ]
     },
     "execution_count": 130,
     "metadata": {},
     "output_type": "execute_result"
    }
   ],
   "source": [
    "lista2 = ['Andrade', '16/06/21'] \n",
    "lista + lista2"
   ]
  },
  {
   "cell_type": "code",
   "execution_count": 131,
   "metadata": {},
   "outputs": [],
   "source": [
    "lista.extend(lista2)"
   ]
  },
  {
   "cell_type": "code",
   "execution_count": 132,
   "metadata": {},
   "outputs": [
    {
     "data": {
      "text/plain": [
       "[42, 'Luis', 16.2, 'Andrade', '16/06/21']"
      ]
     },
     "execution_count": 132,
     "metadata": {},
     "output_type": "execute_result"
    }
   ],
   "source": [
    "lista"
   ]
  },
  {
   "cell_type": "code",
   "execution_count": 133,
   "metadata": {},
   "outputs": [],
   "source": [
    "lista.append(lista2)"
   ]
  },
  {
   "cell_type": "code",
   "execution_count": 134,
   "metadata": {},
   "outputs": [
    {
     "data": {
      "text/plain": [
       "[42, 'Luis', 16.2, 'Andrade', '16/06/21', ['Andrade', '16/06/21']]"
      ]
     },
     "execution_count": 134,
     "metadata": {},
     "output_type": "execute_result"
    }
   ],
   "source": [
    "lista"
   ]
  },
  {
   "cell_type": "code",
   "execution_count": 143,
   "metadata": {},
   "outputs": [],
   "source": [
    "nova_lista = [1, 2, 3]\n",
    "nova_lista2 = [10, 20, 30]"
   ]
  },
  {
   "cell_type": "code",
   "execution_count": 144,
   "metadata": {},
   "outputs": [],
   "source": [
    "nova_lista3 = nova_lista + nova_lista2"
   ]
  },
  {
   "cell_type": "code",
   "execution_count": 145,
   "metadata": {},
   "outputs": [
    {
     "data": {
      "text/plain": [
       "[1, 2, 3, 10, 20, 30]"
      ]
     },
     "execution_count": 145,
     "metadata": {},
     "output_type": "execute_result"
    }
   ],
   "source": [
    "nova_lista3"
   ]
  },
  {
   "cell_type": "code",
   "execution_count": 146,
   "metadata": {},
   "outputs": [],
   "source": [
    "nova_lista.extend(nova_lista2)"
   ]
  },
  {
   "cell_type": "code",
   "execution_count": 147,
   "metadata": {},
   "outputs": [
    {
     "data": {
      "text/plain": [
       "[1, 2, 3, 10, 20, 30]"
      ]
     },
     "execution_count": 147,
     "metadata": {},
     "output_type": "execute_result"
    }
   ],
   "source": [
    "nova_lista"
   ]
  },
  {
   "cell_type": "code",
   "execution_count": null,
   "metadata": {},
   "outputs": [],
   "source": []
  },
  {
   "cell_type": "markdown",
   "metadata": {},
   "source": [
    "Se você quiser adicionar um elemento numa **posição específica**, use a função \"insert()\", onde o primeiro argumento é a posição, e o segundo é o elemento:\n",
    "\n",
    "**OBS.: só podemos inserir um único elemento por vez!**"
   ]
  },
  {
   "cell_type": "code",
   "execution_count": 188,
   "metadata": {},
   "outputs": [],
   "source": [
    "# lista.insert(index, elemento)\n",
    "lista = []"
   ]
  },
  {
   "cell_type": "code",
   "execution_count": 189,
   "metadata": {},
   "outputs": [],
   "source": [
    "lista.insert(0, 'Quarta')"
   ]
  },
  {
   "cell_type": "code",
   "execution_count": 190,
   "metadata": {},
   "outputs": [
    {
     "data": {
      "text/plain": [
       "['Quarta']"
      ]
     },
     "execution_count": 190,
     "metadata": {},
     "output_type": "execute_result"
    }
   ],
   "source": [
    "lista"
   ]
  },
  {
   "cell_type": "code",
   "execution_count": 191,
   "metadata": {},
   "outputs": [],
   "source": [
    "lista.insert(0, 'Rone')"
   ]
  },
  {
   "cell_type": "code",
   "execution_count": 192,
   "metadata": {},
   "outputs": [
    {
     "data": {
      "text/plain": [
       "['Rone', 'Quarta']"
      ]
     },
     "execution_count": 192,
     "metadata": {},
     "output_type": "execute_result"
    }
   ],
   "source": [
    "lista"
   ]
  },
  {
   "cell_type": "code",
   "execution_count": 193,
   "metadata": {},
   "outputs": [],
   "source": [
    "lista.insert(-1, 'Hoje')"
   ]
  },
  {
   "cell_type": "code",
   "execution_count": 194,
   "metadata": {},
   "outputs": [
    {
     "data": {
      "text/plain": [
       "['Rone', 'Hoje', 'Quarta']"
      ]
     },
     "execution_count": 194,
     "metadata": {},
     "output_type": "execute_result"
    }
   ],
   "source": [
    "lista"
   ]
  },
  {
   "cell_type": "code",
   "execution_count": 195,
   "metadata": {},
   "outputs": [],
   "source": [
    "lista.insert(-2, 'Ontem')"
   ]
  },
  {
   "cell_type": "code",
   "execution_count": 196,
   "metadata": {},
   "outputs": [
    {
     "data": {
      "text/plain": [
       "['Rone', 'Ontem', 'Hoje', 'Quarta']"
      ]
     },
     "execution_count": 196,
     "metadata": {},
     "output_type": "execute_result"
    }
   ],
   "source": [
    "lista"
   ]
  },
  {
   "cell_type": "code",
   "execution_count": 197,
   "metadata": {},
   "outputs": [],
   "source": [
    "lista.insert(5, 'Frio')"
   ]
  },
  {
   "cell_type": "code",
   "execution_count": 198,
   "metadata": {},
   "outputs": [
    {
     "data": {
      "text/plain": [
       "['Rone', 'Ontem', 'Hoje', 'Quarta', 'Frio']"
      ]
     },
     "execution_count": 198,
     "metadata": {},
     "output_type": "execute_result"
    }
   ],
   "source": [
    "lista"
   ]
  },
  {
   "cell_type": "code",
   "execution_count": 199,
   "metadata": {},
   "outputs": [],
   "source": [
    "lista.insert(-1, 'Vinho')"
   ]
  },
  {
   "cell_type": "code",
   "execution_count": 200,
   "metadata": {},
   "outputs": [
    {
     "data": {
      "text/plain": [
       "['Rone', 'Ontem', 'Hoje', 'Quarta', 'Vinho', 'Frio']"
      ]
     },
     "execution_count": 200,
     "metadata": {},
     "output_type": "execute_result"
    }
   ],
   "source": [
    "lista"
   ]
  },
  {
   "cell_type": "markdown",
   "metadata": {},
   "source": [
    "Podemos, também, **redefinir um elemento da lista individualmente**. Para isso, basta selecionarmos este elemento, e redefiní-lo:"
   ]
  },
  {
   "cell_type": "code",
   "execution_count": 203,
   "metadata": {},
   "outputs": [],
   "source": [
    "# redefinindo um elemento pela posicao\n",
    "lista[0] = 'Mario'"
   ]
  },
  {
   "cell_type": "code",
   "execution_count": 204,
   "metadata": {},
   "outputs": [
    {
     "data": {
      "text/plain": [
       "['Mario', 'Ontem', 'Hoje', 'Quarta', 'Vinho', 'Frio']"
      ]
     },
     "execution_count": 204,
     "metadata": {},
     "output_type": "execute_result"
    }
   ],
   "source": [
    "lista"
   ]
  },
  {
   "cell_type": "code",
   "execution_count": 206,
   "metadata": {},
   "outputs": [],
   "source": [
    "# Preciso substituir pelo mesmo tipo?\n",
    "lista[5] = 16.4"
   ]
  },
  {
   "cell_type": "code",
   "execution_count": 207,
   "metadata": {},
   "outputs": [
    {
     "data": {
      "text/plain": [
       "['Mario', 'Ontem', 'Hoje', 'Quarta', 'Vinho', 16.4]"
      ]
     },
     "execution_count": 207,
     "metadata": {},
     "output_type": "execute_result"
    }
   ],
   "source": [
    "lista"
   ]
  },
  {
   "cell_type": "code",
   "execution_count": 211,
   "metadata": {},
   "outputs": [],
   "source": [
    "lista[-1] = 18.8"
   ]
  },
  {
   "cell_type": "code",
   "execution_count": 212,
   "metadata": {},
   "outputs": [
    {
     "data": {
      "text/plain": [
       "['Mario', 'Ontem', 'Hoje', 'Quarta', 'Vinho', 18.8]"
      ]
     },
     "execution_count": 212,
     "metadata": {},
     "output_type": "execute_result"
    }
   ],
   "source": [
    "lista"
   ]
  },
  {
   "cell_type": "markdown",
   "metadata": {},
   "source": [
    "Para **remover um elemento da lista**, use a função \"remove()\". \n",
    "\n",
    "**OBS.: Essa função remove apenas a primeira aparição do elemento**"
   ]
  },
  {
   "cell_type": "code",
   "execution_count": 236,
   "metadata": {},
   "outputs": [],
   "source": [
    "# Lembrar!\n",
    "# nova_lista = list('aab')\n",
    "nova_lista = ['b', 'a', 'a', 'b', 'c', 'd']"
   ]
  },
  {
   "cell_type": "code",
   "execution_count": 237,
   "metadata": {},
   "outputs": [
    {
     "data": {
      "text/plain": [
       "['b', 'a', 'a', 'b', 'c', 'd']"
      ]
     },
     "execution_count": 237,
     "metadata": {},
     "output_type": "execute_result"
    }
   ],
   "source": [
    "nova_lista"
   ]
  },
  {
   "cell_type": "code",
   "execution_count": 238,
   "metadata": {},
   "outputs": [],
   "source": [
    "# removendo um elemento\n",
    "nova_lista.remove('c')"
   ]
  },
  {
   "cell_type": "code",
   "execution_count": 239,
   "metadata": {},
   "outputs": [
    {
     "data": {
      "text/plain": [
       "['b', 'a', 'a', 'b', 'd']"
      ]
     },
     "execution_count": 239,
     "metadata": {},
     "output_type": "execute_result"
    }
   ],
   "source": [
    "nova_lista"
   ]
  },
  {
   "cell_type": "code",
   "execution_count": 240,
   "metadata": {},
   "outputs": [
    {
     "ename": "ValueError",
     "evalue": "list.remove(x): x not in list",
     "output_type": "error",
     "traceback": [
      "\u001b[0;31m---------------------------------------------------------------------------\u001b[0m",
      "\u001b[0;31mValueError\u001b[0m                                Traceback (most recent call last)",
      "\u001b[0;32m<ipython-input-240-219e322f50cd>\u001b[0m in \u001b[0;36m<module>\u001b[0;34m\u001b[0m\n\u001b[0;32m----> 1\u001b[0;31m \u001b[0mnova_lista\u001b[0m\u001b[0;34m.\u001b[0m\u001b[0mremove\u001b[0m\u001b[0;34m(\u001b[0m\u001b[0;34m'c'\u001b[0m\u001b[0;34m)\u001b[0m\u001b[0;34m\u001b[0m\u001b[0;34m\u001b[0m\u001b[0m\n\u001b[0m",
      "\u001b[0;31mValueError\u001b[0m: list.remove(x): x not in list"
     ]
    }
   ],
   "source": [
    "nova_lista.remove('c')"
   ]
  },
  {
   "cell_type": "markdown",
   "metadata": {},
   "source": [
    "Se você quiser remover um elemento de determinado índice, use a função \"pop()\":"
   ]
  },
  {
   "cell_type": "code",
   "execution_count": 243,
   "metadata": {},
   "outputs": [
    {
     "data": {
      "text/plain": [
       "['b', 'a', 'a', 'b', 'd']"
      ]
     },
     "execution_count": 243,
     "metadata": {},
     "output_type": "execute_result"
    }
   ],
   "source": [
    "nova_lista"
   ]
  },
  {
   "cell_type": "code",
   "execution_count": 244,
   "metadata": {},
   "outputs": [
    {
     "data": {
      "text/plain": [
       "'a'"
      ]
     },
     "execution_count": 244,
     "metadata": {},
     "output_type": "execute_result"
    }
   ],
   "source": [
    "nova_lista[2]"
   ]
  },
  {
   "cell_type": "code",
   "execution_count": 245,
   "metadata": {},
   "outputs": [
    {
     "data": {
      "text/plain": [
       "'a'"
      ]
     },
     "execution_count": 245,
     "metadata": {},
     "output_type": "execute_result"
    }
   ],
   "source": [
    "nova_lista.pop(2)"
   ]
  },
  {
   "cell_type": "code",
   "execution_count": 246,
   "metadata": {},
   "outputs": [
    {
     "data": {
      "text/plain": [
       "['b', 'a', 'b', 'd']"
      ]
     },
     "execution_count": 246,
     "metadata": {},
     "output_type": "execute_result"
    }
   ],
   "source": [
    "nova_lista"
   ]
  },
  {
   "cell_type": "code",
   "execution_count": 247,
   "metadata": {},
   "outputs": [
    {
     "data": {
      "text/plain": [
       "['Allan', 'Kuma', 'Gil']"
      ]
     },
     "execution_count": 247,
     "metadata": {},
     "output_type": "execute_result"
    }
   ],
   "source": [
    "fila"
   ]
  },
  {
   "cell_type": "code",
   "execution_count": 248,
   "metadata": {},
   "outputs": [],
   "source": [
    "atendendo = fila.pop(-1)"
   ]
  },
  {
   "cell_type": "code",
   "execution_count": 249,
   "metadata": {},
   "outputs": [
    {
     "data": {
      "text/plain": [
       "'Gil'"
      ]
     },
     "execution_count": 249,
     "metadata": {},
     "output_type": "execute_result"
    }
   ],
   "source": [
    "atendendo"
   ]
  },
  {
   "cell_type": "code",
   "execution_count": 250,
   "metadata": {},
   "outputs": [],
   "source": [
    "atendendo = fila.pop(-1)"
   ]
  },
  {
   "cell_type": "code",
   "execution_count": 251,
   "metadata": {},
   "outputs": [
    {
     "data": {
      "text/plain": [
       "'Kuma'"
      ]
     },
     "execution_count": 251,
     "metadata": {},
     "output_type": "execute_result"
    }
   ],
   "source": [
    "atendendo"
   ]
  },
  {
   "cell_type": "code",
   "execution_count": 252,
   "metadata": {},
   "outputs": [],
   "source": [
    "atendendo = fila.pop(-1)"
   ]
  },
  {
   "cell_type": "code",
   "execution_count": 253,
   "metadata": {},
   "outputs": [
    {
     "data": {
      "text/plain": [
       "'Allan'"
      ]
     },
     "execution_count": 253,
     "metadata": {},
     "output_type": "execute_result"
    }
   ],
   "source": [
    "atendendo"
   ]
  },
  {
   "cell_type": "code",
   "execution_count": 264,
   "metadata": {},
   "outputs": [],
   "source": [
    "fila = ['Lucas', 'Felipe', 'Gil', 'Thalita']"
   ]
  },
  {
   "cell_type": "code",
   "execution_count": 265,
   "metadata": {},
   "outputs": [
    {
     "name": "stdout",
     "output_type": "stream",
     "text": [
      "Atendendo a pessoa Lucas\n",
      "Atendendo a pessoa Felipe\n",
      "Atendendo a pessoa Gil\n",
      "Atendendo a pessoa Thalita\n",
      "Atendendo a pessoa Kuma\n",
      "Atendendo a pessoa Chris\n"
     ]
    }
   ],
   "source": [
    "while fila:\n",
    "    pessoa = fila.pop(0)\n",
    "    print('Atendendo a pessoa', pessoa)\n",
    "    if pessoa == 'Gil':\n",
    "        fila.extend(['Kuma', 'Chris'])"
   ]
  },
  {
   "cell_type": "code",
   "execution_count": 267,
   "metadata": {},
   "outputs": [
    {
     "name": "stdout",
     "output_type": "stream",
     "text": [
      "Atendendo a pessoa Lucas\n",
      "Atendendo a pessoa Felipe\n",
      "Atendendo a pessoa Gil\n",
      "Atendendo a pessoa Kuma\n",
      "Atendendo a pessoa Chris\n",
      "Atendendo a pessoa Thalita\n"
     ]
    }
   ],
   "source": [
    "fila = ['Lucas', 'Felipe', 'Gil', 'Thalita']\n",
    "while fila:\n",
    "    pessoa = fila.pop(0)\n",
    "    print('Atendendo a pessoa', pessoa)\n",
    "    if pessoa == 'Gil':\n",
    "        fila.insert(0, 'Kuma')\n",
    "        fila.insert(1, 'Chris')"
   ]
  },
  {
   "cell_type": "code",
   "execution_count": 269,
   "metadata": {},
   "outputs": [
    {
     "name": "stdout",
     "output_type": "stream",
     "text": [
      "['abacate', 'a', 'a', 'b', 42, True]\n",
      "['abacate', 'a', 'b', 42, True]\n",
      "['abacate', 'a', 42, True]\n"
     ]
    }
   ],
   "source": [
    "lista = [\"abacate\", \"a\", 'a', \"b\", 42, True]\n",
    "\n",
    "print(lista)\n",
    "\n",
    "lista.remove('a')\n",
    "\n",
    "print(lista)\n",
    "\n",
    "lista.pop(2)\n",
    "\n",
    "print(lista)"
   ]
  },
  {
   "cell_type": "markdown",
   "metadata": {},
   "source": [
    "Muitas vezes é interessante **ordenar a lista**. Pra fazer isso, usamos a função \"sorted\".\n",
    "\n",
    "**OBS: essa função só funciona para listas com o mesmo tipo de dado!**"
   ]
  },
  {
   "cell_type": "code",
   "execution_count": 270,
   "metadata": {},
   "outputs": [],
   "source": [
    "lista = [100, 20, -30, 0, 42]"
   ]
  },
  {
   "cell_type": "code",
   "execution_count": 271,
   "metadata": {},
   "outputs": [
    {
     "data": {
      "text/plain": [
       "[100, 20, -30, 0, 42]"
      ]
     },
     "execution_count": 271,
     "metadata": {},
     "output_type": "execute_result"
    }
   ],
   "source": [
    "lista"
   ]
  },
  {
   "cell_type": "code",
   "execution_count": 274,
   "metadata": {},
   "outputs": [],
   "source": [
    "lista_ordenada = sorted(lista)"
   ]
  },
  {
   "cell_type": "code",
   "execution_count": 275,
   "metadata": {},
   "outputs": [
    {
     "data": {
      "text/plain": [
       "[-30, 0, 20, 42, 100]"
      ]
     },
     "execution_count": 275,
     "metadata": {},
     "output_type": "execute_result"
    }
   ],
   "source": [
    "lista_ordenada"
   ]
  },
  {
   "cell_type": "code",
   "execution_count": 276,
   "metadata": {},
   "outputs": [],
   "source": [
    "lista = [-30, 21, 42, 0, 'abacate']"
   ]
  },
  {
   "cell_type": "code",
   "execution_count": 283,
   "metadata": {},
   "outputs": [
    {
     "ename": "TypeError",
     "evalue": "'<' not supported between instances of 'str' and 'int'",
     "output_type": "error",
     "traceback": [
      "\u001b[0;31m---------------------------------------------------------------------------\u001b[0m",
      "\u001b[0;31mTypeError\u001b[0m                                 Traceback (most recent call last)",
      "\u001b[0;32m<ipython-input-283-06c3f264dc7a>\u001b[0m in \u001b[0;36m<module>\u001b[0;34m\u001b[0m\n\u001b[0;32m----> 1\u001b[0;31m \u001b[0msorted\u001b[0m\u001b[0;34m(\u001b[0m\u001b[0mlista\u001b[0m\u001b[0;34m)\u001b[0m\u001b[0;34m\u001b[0m\u001b[0;34m\u001b[0m\u001b[0m\n\u001b[0m",
      "\u001b[0;31mTypeError\u001b[0m: '<' not supported between instances of 'str' and 'int'"
     ]
    }
   ],
   "source": [
    "sorted(lista)"
   ]
  },
  {
   "cell_type": "code",
   "execution_count": null,
   "metadata": {},
   "outputs": [],
   "source": []
  },
  {
   "cell_type": "code",
   "execution_count": 292,
   "metadata": {},
   "outputs": [],
   "source": [
    "# ordenando lista de strings: por ordem alfabética, segundo a tabela ascii\n",
    "\n",
    "lista_strings = [\"abacate\", \"pera\", \"laranja\", \"998\"]"
   ]
  },
  {
   "cell_type": "code",
   "execution_count": 293,
   "metadata": {},
   "outputs": [
    {
     "data": {
      "text/plain": [
       "['abacate', 'pera', 'laranja', '998']"
      ]
     },
     "execution_count": 293,
     "metadata": {},
     "output_type": "execute_result"
    }
   ],
   "source": [
    "lista_strings"
   ]
  },
  {
   "cell_type": "code",
   "execution_count": 294,
   "metadata": {},
   "outputs": [
    {
     "data": {
      "text/plain": [
       "['998', 'abacate', 'laranja', 'pera']"
      ]
     },
     "execution_count": 294,
     "metadata": {},
     "output_type": "execute_result"
    }
   ],
   "source": [
    "sorted(lista_strings)"
   ]
  },
  {
   "cell_type": "code",
   "execution_count": 295,
   "metadata": {},
   "outputs": [
    {
     "data": {
      "text/plain": [
       "['abacate', 'pera', 'laranja', '998']"
      ]
     },
     "execution_count": 295,
     "metadata": {},
     "output_type": "execute_result"
    }
   ],
   "source": [
    "lista_strings"
   ]
  },
  {
   "cell_type": "code",
   "execution_count": 296,
   "metadata": {},
   "outputs": [],
   "source": [
    "lista_strings = sorted(lista_strings)"
   ]
  },
  {
   "cell_type": "code",
   "execution_count": 297,
   "metadata": {},
   "outputs": [
    {
     "data": {
      "text/plain": [
       "['998', 'abacate', 'laranja', 'pera']"
      ]
     },
     "execution_count": 297,
     "metadata": {},
     "output_type": "execute_result"
    }
   ],
   "source": [
    "lista_strings"
   ]
  },
  {
   "cell_type": "code",
   "execution_count": null,
   "metadata": {},
   "outputs": [],
   "source": []
  },
  {
   "cell_type": "code",
   "execution_count": 304,
   "metadata": {},
   "outputs": [],
   "source": [
    "lista_num = [10, 10.5, 5, -10, -42]"
   ]
  },
  {
   "cell_type": "code",
   "execution_count": 305,
   "metadata": {},
   "outputs": [
    {
     "data": {
      "text/plain": [
       "[-42, -10, 5, 10, 10.5]"
      ]
     },
     "execution_count": 305,
     "metadata": {},
     "output_type": "execute_result"
    }
   ],
   "source": [
    "sorted(lista_num)"
   ]
  },
  {
   "cell_type": "code",
   "execution_count": 306,
   "metadata": {},
   "outputs": [
    {
     "data": {
      "text/plain": [
       "[10, 10.5, 5, -10, -42]"
      ]
     },
     "execution_count": 306,
     "metadata": {},
     "output_type": "execute_result"
    }
   ],
   "source": [
    "lista_num"
   ]
  },
  {
   "cell_type": "code",
   "execution_count": 307,
   "metadata": {},
   "outputs": [
    {
     "data": {
      "text/plain": [
       "[-42, -10, 5, 10, 10.5]"
      ]
     },
     "execution_count": 307,
     "metadata": {},
     "output_type": "execute_result"
    }
   ],
   "source": [
    "sorted(lista_num)"
   ]
  },
  {
   "cell_type": "code",
   "execution_count": 308,
   "metadata": {},
   "outputs": [],
   "source": [
    "lista_num.sort()"
   ]
  },
  {
   "cell_type": "code",
   "execution_count": 309,
   "metadata": {},
   "outputs": [
    {
     "data": {
      "text/plain": [
       "[-42, -10, 5, 10, 10.5]"
      ]
     },
     "execution_count": 309,
     "metadata": {},
     "output_type": "execute_result"
    }
   ],
   "source": [
    "lista_num"
   ]
  },
  {
   "cell_type": "markdown",
   "metadata": {},
   "source": [
    "Para **inverter a ordem dos elementos**, adicione ao final da lista [::-1]:"
   ]
  },
  {
   "cell_type": "code",
   "execution_count": 310,
   "metadata": {},
   "outputs": [],
   "source": [
    "lista_num = [10, 10.5, 5, -10, -42]"
   ]
  },
  {
   "cell_type": "code",
   "execution_count": 312,
   "metadata": {},
   "outputs": [],
   "source": [
    "# Para ordernar podemos utilizar o metodo lista.sort()\n",
    "lista_num_ord = sorted(lista_num)\n"
   ]
  },
  {
   "cell_type": "code",
   "execution_count": 316,
   "metadata": {},
   "outputs": [
    {
     "data": {
      "text/plain": [
       "[-42, -10, 5, 10, 10.5]"
      ]
     },
     "execution_count": 316,
     "metadata": {},
     "output_type": "execute_result"
    }
   ],
   "source": [
    "lista_num_ord"
   ]
  },
  {
   "cell_type": "code",
   "execution_count": 315,
   "metadata": {},
   "outputs": [
    {
     "data": {
      "text/plain": [
       "[10.5, 10, 5, -10, -42]"
      ]
     },
     "execution_count": 315,
     "metadata": {},
     "output_type": "execute_result"
    }
   ],
   "source": [
    "lista_num_ord[::-1]"
   ]
  },
  {
   "cell_type": "code",
   "execution_count": 317,
   "metadata": {},
   "outputs": [
    {
     "data": {
      "text/plain": [
       "[-42, -10, 5, 10, 10.5]"
      ]
     },
     "execution_count": 317,
     "metadata": {},
     "output_type": "execute_result"
    }
   ],
   "source": [
    "lista_num_ord[::1]"
   ]
  },
  {
   "cell_type": "code",
   "execution_count": 318,
   "metadata": {},
   "outputs": [
    {
     "data": {
      "text/plain": [
       "[-42, 5, 10.5]"
      ]
     },
     "execution_count": 318,
     "metadata": {},
     "output_type": "execute_result"
    }
   ],
   "source": [
    "# lista[start:end:step] ==> lista[começo:fim:passo]\n",
    "lista_num_ord[::2]"
   ]
  },
  {
   "cell_type": "code",
   "execution_count": 319,
   "metadata": {},
   "outputs": [
    {
     "data": {
      "text/plain": [
       "[-42, -10, 5, 10, 10.5]"
      ]
     },
     "execution_count": 319,
     "metadata": {},
     "output_type": "execute_result"
    }
   ],
   "source": [
    "lista_num_ord"
   ]
  },
  {
   "cell_type": "code",
   "execution_count": 320,
   "metadata": {},
   "outputs": [
    {
     "data": {
      "text/plain": [
       "[10.5, 10, 5, -10, -42]"
      ]
     },
     "execution_count": 320,
     "metadata": {},
     "output_type": "execute_result"
    }
   ],
   "source": [
    "lista_num_ord[::-1]"
   ]
  },
  {
   "cell_type": "code",
   "execution_count": 325,
   "metadata": {},
   "outputs": [
    {
     "data": {
      "text/plain": [
       "[-42, -10, 5, 10, 10.5]"
      ]
     },
     "execution_count": 325,
     "metadata": {},
     "output_type": "execute_result"
    }
   ],
   "source": [
    "lista_num_ord"
   ]
  },
  {
   "cell_type": "code",
   "execution_count": 328,
   "metadata": {},
   "outputs": [
    {
     "data": {
      "text/plain": [
       "[10.5, -10]"
      ]
     },
     "execution_count": 328,
     "metadata": {},
     "output_type": "execute_result"
    }
   ],
   "source": [
    "lista_num_ord[::-3]"
   ]
  },
  {
   "cell_type": "code",
   "execution_count": 330,
   "metadata": {},
   "outputs": [],
   "source": [
    "lista_num_ord2 = sorted(lista_num, reverse=True)"
   ]
  },
  {
   "cell_type": "code",
   "execution_count": 331,
   "metadata": {},
   "outputs": [],
   "source": [
    "lista_num.sort(reverse=True)"
   ]
  },
  {
   "cell_type": "code",
   "execution_count": 334,
   "metadata": {},
   "outputs": [
    {
     "data": {
      "text/plain": [
       "[10.5, 10, 5, -10, -42]"
      ]
     },
     "execution_count": 334,
     "metadata": {},
     "output_type": "execute_result"
    }
   ],
   "source": [
    "lista_num_ord2"
   ]
  },
  {
   "cell_type": "code",
   "execution_count": 335,
   "metadata": {},
   "outputs": [
    {
     "data": {
      "text/plain": [
       "[10.5, 10, 5, -10, -42]"
      ]
     },
     "execution_count": 335,
     "metadata": {},
     "output_type": "execute_result"
    }
   ],
   "source": [
    "lista_num"
   ]
  },
  {
   "cell_type": "markdown",
   "metadata": {},
   "source": [
    "Isso pode ser usado para ordenar uma lista na ordem inversa (maior pro menor):"
   ]
  },
  {
   "cell_type": "markdown",
   "metadata": {},
   "source": [
    "Se quisermos saber **qual é a posição (índice) de determinado elemento**, usamos o método \".index()\".\n",
    "\n",
    "Este método retorna apenas a **primeira aparição** do elemento:"
   ]
  },
  {
   "cell_type": "code",
   "execution_count": 337,
   "metadata": {},
   "outputs": [],
   "source": [
    "lista = [1, 2, 45, 8, 8, 8, 20]"
   ]
  },
  {
   "cell_type": "code",
   "execution_count": 339,
   "metadata": {},
   "outputs": [
    {
     "data": {
      "text/plain": [
       "1"
      ]
     },
     "execution_count": 339,
     "metadata": {},
     "output_type": "execute_result"
    }
   ],
   "source": [
    "lista.index(2)"
   ]
  },
  {
   "cell_type": "code",
   "execution_count": 340,
   "metadata": {},
   "outputs": [
    {
     "data": {
      "text/plain": [
       "3"
      ]
     },
     "execution_count": 340,
     "metadata": {},
     "output_type": "execute_result"
    }
   ],
   "source": [
    "lista.index(8)"
   ]
  },
  {
   "cell_type": "code",
   "execution_count": 341,
   "metadata": {},
   "outputs": [
    {
     "data": {
      "text/plain": [
       "3"
      ]
     },
     "execution_count": 341,
     "metadata": {},
     "output_type": "execute_result"
    }
   ],
   "source": [
    "lista.index(8)"
   ]
  },
  {
   "cell_type": "markdown",
   "metadata": {},
   "source": [
    "Por fim, podemos encontrar algumas **propriedades dos elementos da lista:**"
   ]
  },
  {
   "cell_type": "code",
   "execution_count": 342,
   "metadata": {},
   "outputs": [],
   "source": [
    "lista = [34, 2, 5, 8, 8, 8, -37]"
   ]
  },
  {
   "cell_type": "code",
   "execution_count": 343,
   "metadata": {},
   "outputs": [
    {
     "data": {
      "text/plain": [
       "[34, 2, 5, 8, 8, 8, -37]"
      ]
     },
     "execution_count": 343,
     "metadata": {},
     "output_type": "execute_result"
    }
   ],
   "source": [
    "lista"
   ]
  },
  {
   "cell_type": "markdown",
   "metadata": {},
   "source": [
    "Para encontrar o maior elemento, use \"max()\":"
   ]
  },
  {
   "cell_type": "code",
   "execution_count": 344,
   "metadata": {},
   "outputs": [
    {
     "data": {
      "text/plain": [
       "34"
      ]
     },
     "execution_count": 344,
     "metadata": {},
     "output_type": "execute_result"
    }
   ],
   "source": [
    "max(lista)"
   ]
  },
  {
   "cell_type": "markdown",
   "metadata": {},
   "source": [
    "Para encontrar o menor elemento, use \"min()\":"
   ]
  },
  {
   "cell_type": "code",
   "execution_count": 345,
   "metadata": {},
   "outputs": [
    {
     "data": {
      "text/plain": [
       "-37"
      ]
     },
     "execution_count": 345,
     "metadata": {},
     "output_type": "execute_result"
    }
   ],
   "source": [
    "min(lista)"
   ]
  },
  {
   "cell_type": "markdown",
   "metadata": {},
   "source": [
    "Para encontrar o número de elementos (ou seja, qual é o \"tamanho\" da lista), use \"len()\":"
   ]
  },
  {
   "cell_type": "code",
   "execution_count": 348,
   "metadata": {},
   "outputs": [
    {
     "data": {
      "text/plain": [
       "7"
      ]
     },
     "execution_count": 348,
     "metadata": {},
     "output_type": "execute_result"
    }
   ],
   "source": [
    "len(lista)"
   ]
  },
  {
   "cell_type": "markdown",
   "metadata": {},
   "source": [
    "Para somar os elementos da lista, use \"sum()\":"
   ]
  },
  {
   "cell_type": "code",
   "execution_count": 350,
   "metadata": {},
   "outputs": [
    {
     "data": {
      "text/plain": [
       "28"
      ]
     },
     "execution_count": 350,
     "metadata": {},
     "output_type": "execute_result"
    }
   ],
   "source": [
    "sum(lista)"
   ]
  },
  {
   "cell_type": "markdown",
   "metadata": {},
   "source": [
    "Agora fica bem fácil encontrar a média dos números em uma lista:"
   ]
  },
  {
   "cell_type": "code",
   "execution_count": 351,
   "metadata": {},
   "outputs": [],
   "source": [
    "notas = [10, 9, 9.5, 0, 6, 10]"
   ]
  },
  {
   "cell_type": "code",
   "execution_count": 353,
   "metadata": {},
   "outputs": [
    {
     "data": {
      "text/plain": [
       "44.5"
      ]
     },
     "execution_count": 353,
     "metadata": {},
     "output_type": "execute_result"
    }
   ],
   "source": [
    "sum(notas)"
   ]
  },
  {
   "cell_type": "code",
   "execution_count": 354,
   "metadata": {},
   "outputs": [
    {
     "data": {
      "text/plain": [
       "6"
      ]
     },
     "execution_count": 354,
     "metadata": {},
     "output_type": "execute_result"
    }
   ],
   "source": [
    "len(notas)"
   ]
  },
  {
   "cell_type": "code",
   "execution_count": 356,
   "metadata": {},
   "outputs": [
    {
     "name": "stdout",
     "output_type": "stream",
     "text": [
      "A média é 7.416666666666667\n"
     ]
    }
   ],
   "source": [
    "media = sum(notas)/len(notas)\n",
    "\n",
    "print('A média é', media)"
   ]
  },
  {
   "cell_type": "markdown",
   "metadata": {},
   "source": [
    "__Um exemplo para o cálculo de média dos valores em uma lista...__\n",
    "\n",
    "Mas fazemos o usuário digitar os elementos da lista, um a um!"
   ]
  },
  {
   "cell_type": "markdown",
   "metadata": {},
   "source": [
    "- Inicializar uma lista vazia\n",
    "- Pedir quantas notas a serem inseridas\n",
    "- Enquanto todas as notas não forem inseridas, adicionar a nota a uma lista \n",
    "- Calcule a média"
   ]
  },
  {
   "cell_type": "markdown",
   "metadata": {},
   "source": [
    "## Respostas alunos"
   ]
  },
  {
   "cell_type": "code",
   "execution_count": null,
   "metadata": {},
   "outputs": [],
   "source": [
    "cont = 1\n",
    "\n",
    "lista_de_notas = []\n",
    "\n",
    "quantidade = int(input(\"Quantas notas tem? \"))\n",
    "\n",
    "while len(lista_de_notas) != quantidade:\n",
    "    nota = float(input(\"Digite a \" + str(cont) + \"a nota: \"))\n",
    "    lista_de_notas.append(nota)\n",
    "    cont += 1\n",
    "            \n",
    "media = sum(lista_de_notas)/len(lista_de_notas)\n",
    "                \n",
    "print(\"A media do aluno é: \" + str(media))"
   ]
  },
  {
   "cell_type": "code",
   "execution_count": null,
   "metadata": {},
   "outputs": [],
   "source": [
    "cont = 1\n",
    "\n",
    "lista_de_notas = []\n",
    "\n",
    "quantidade = int(input(\"Quantas notas tem? \"))\n",
    "\n",
    "while len(lista_de_notas) < quantidade:\n",
    "    lista_de_notas.append(float(input(\"Insira a \" + str(cont) + \"a nota: \" ))) \n",
    "    cont += 1\n",
    "\n",
    "print('A média é ', str(sum(lista_de_notas) / len(lista_de_notas)))"
   ]
  },
  {
   "cell_type": "code",
   "execution_count": null,
   "metadata": {},
   "outputs": [],
   "source": [
    "cont = 0\n",
    "\n",
    "lista_de_notas = []\n",
    "\n",
    "quantidade = int(input(\"Quantas notas tem? \"))\n",
    "\n",
    "while cont < quantidade:\n",
    "    cont += 1\n",
    "    nota = float(input(f\"Digite a nota  {cont} ?\"))\n",
    "    lista_de_notas.append(nota)\n",
    "print(lista_de_notas)\n",
    "\n",
    "media = sum(lista_de_notas)/len(lista_de_notas)\n",
    "\n",
    "print(\"Sua média é \" , media)"
   ]
  },
  {
   "cell_type": "code",
   "execution_count": 360,
   "metadata": {},
   "outputs": [
    {
     "name": "stdin",
     "output_type": "stream",
     "text": [
      "Quantas notas tem?  10\n",
      "Digite a nota entre 0 e 10 -10\n",
      "Digite a nota entre 0 e 10 jklasjdçlas\n"
     ]
    },
    {
     "ename": "ValueError",
     "evalue": "could not convert string to float: 'jklasjdçlas'",
     "output_type": "error",
     "traceback": [
      "\u001b[0;31m---------------------------------------------------------------------------\u001b[0m",
      "\u001b[0;31mValueError\u001b[0m                                Traceback (most recent call last)",
      "\u001b[0;32m<ipython-input-360-6db119a0e8ab>\u001b[0m in \u001b[0;36m<module>\u001b[0;34m\u001b[0m\n\u001b[1;32m      7\u001b[0m \u001b[0;34m\u001b[0m\u001b[0m\n\u001b[1;32m      8\u001b[0m     \u001b[0;32mwhile\u001b[0m \u001b[0mnota\u001b[0m \u001b[0;34m<\u001b[0m \u001b[0;36m0\u001b[0m \u001b[0;32mor\u001b[0m \u001b[0mnota\u001b[0m \u001b[0;34m>\u001b[0m \u001b[0;36m10\u001b[0m\u001b[0;34m:\u001b[0m\u001b[0;34m\u001b[0m\u001b[0;34m\u001b[0m\u001b[0m\n\u001b[0;32m----> 9\u001b[0;31m         \u001b[0mnota\u001b[0m \u001b[0;34m=\u001b[0m \u001b[0mfloat\u001b[0m\u001b[0;34m(\u001b[0m\u001b[0minput\u001b[0m\u001b[0;34m(\u001b[0m\u001b[0;34m'Digite a nota entre 0 e 10'\u001b[0m\u001b[0;34m)\u001b[0m\u001b[0;34m)\u001b[0m\u001b[0;34m\u001b[0m\u001b[0;34m\u001b[0m\u001b[0m\n\u001b[0m\u001b[1;32m     10\u001b[0m \u001b[0;34m\u001b[0m\u001b[0m\n\u001b[1;32m     11\u001b[0m     \u001b[0mlista_de_notas\u001b[0m\u001b[0;34m.\u001b[0m\u001b[0mappend\u001b[0m\u001b[0;34m(\u001b[0m\u001b[0mnota\u001b[0m\u001b[0;34m)\u001b[0m\u001b[0;34m\u001b[0m\u001b[0;34m\u001b[0m\u001b[0m\n",
      "\u001b[0;31mValueError\u001b[0m: could not convert string to float: 'jklasjdçlas'"
     ]
    }
   ],
   "source": [
    "lista_de_notas = []\n",
    "\n",
    "quantidade = int(float(input(\"Quantas notas tem? \")))\n",
    "\n",
    "while quantidade > 0:\n",
    "    nota = float(input('Digite a nota entre 0 e 10'))\n",
    "    \n",
    "    while nota < 0 or nota > 10:\n",
    "        nota = float(input('Digite a nota entre 0 e 10'))\n",
    "                              \n",
    "    lista_de_notas.append(nota)\n",
    "                              \n",
    "    quantidade = quantidade - 1\n",
    "\n",
    "media = sum(lista_de_notas) / len(lista_de_notas)\n",
    "print('A media é ', media)"
   ]
  },
  {
   "cell_type": "code",
   "execution_count": null,
   "metadata": {},
   "outputs": [],
   "source": [
    "notas = []\n",
    "iteracao = int(input(\"Quantas Notas tem? \"))\n",
    "cont = 0\n",
    "while cont <iteracao:\n",
    "\n",
    "    nota = float(input(f\"Entre com a {cont+1}ª nota: \"))\n",
    "    \n",
    "    if nota>=0 and nota <=10:\n",
    "        notas.append(nota)\n",
    "        cont+=1\n",
    "    else:\n",
    "        print(\"Digite a nota correta!\")\n",
    "    \n",
    "media = sum(notas)/len(notas)\n",
    "print(f\"A Média final das {iteracao} notas é: {media}\")"
   ]
  },
  {
   "cell_type": "code",
   "execution_count": null,
   "metadata": {},
   "outputs": [],
   "source": [
    "interador = 10\n",
    "contador = 0\n",
    "lista_notas = []\n",
    "quantidade_notas = int(input(\"qual a quantidade de notas?: \"))\n",
    "\n",
    "while contador < quantidade_notas:\n",
    "\n",
    "  nota = float(input(\"digite uma nota: \"))\n",
    "\n",
    "  if nota < 0 or nota > 10:\n",
    "\n",
    "    print(\"nota inválida, digite uma nova válida\")\n",
    "\n",
    "  else:\n",
    "\n",
    "    lista_notas.append(nota)\n",
    "    contador = contador + 1\n",
    "\n",
    "media = sum(lista_notas)/len(lista_notas)\n",
    "\n",
    "print(f\"A média é {media}\")"
   ]
  },
  {
   "cell_type": "code",
   "execution_count": null,
   "metadata": {},
   "outputs": [],
   "source": [
    "cont = 0\n",
    "\n",
    "lista_de_notas = []\n",
    "\n",
    "qtd = int(input(\"Quantas notas tem? \"))\n",
    "\n",
    "while cont < qtd:\n",
    "    \n",
    "    nota = float(input(\"Digite a {}ª nota: \".format(cont+1)))\n",
    "    \n",
    "    while nota < 0 or nota > 10 or type():\n",
    "        nota = float(input(\"Digite uma nota válida (de 0 a 10): \"))\n",
    "    \n",
    "    lista_de_notas.append(nota)\n",
    "    \n",
    "    cont += 1\n",
    "\n",
    "media = sum(lista_de_notas)/len(lista_de_notas)\n",
    "print(\"A média do aluno foi de\", media)"
   ]
  },
  {
   "cell_type": "code",
   "execution_count": null,
   "metadata": {},
   "outputs": [],
   "source": [
    "cont = 0\n",
    "\n",
    "lista_de_notas = []\n",
    "\n",
    "quantidade = int(input(\"Quantas notas tem? \"))\n",
    "\n",
    "while(cont < quantidade):\n",
    "    lista_de_notas.append(float(input(f\"Digite a nota {cont+1}: \")))\n",
    "    \n",
    "    cont += 1\n",
    "\n",
    "print(\"A média é\",sum(lista_de_notas) / quantidade)"
   ]
  },
  {
   "cell_type": "code",
   "execution_count": null,
   "metadata": {},
   "outputs": [],
   "source": [
    "cont = 0\n",
    "\n",
    "lista_de_notas = []\n",
    "\n",
    "quantidade = int(input(\"Quantas notas tem? \"))\n",
    "\n",
    "while cont < quantidade:\n",
    "    cont +=1\n",
    "    notas = float(input(\"Qual é \" + str(cont) + \"a nota?\"))\n",
    "    lista_de_notas.append(notas)\n",
    "\n",
    "media = round(sum(lista_de_notas)/len(lista_de_notas), 2)\n",
    "print(\"A média das notas é:\", media)"
   ]
  },
  {
   "cell_type": "code",
   "execution_count": null,
   "metadata": {},
   "outputs": [],
   "source": []
  },
  {
   "cell_type": "code",
   "execution_count": 364,
   "metadata": {},
   "outputs": [
    {
     "name": "stdin",
     "output_type": "stream",
     "text": [
      "Quantas notas tem?  3\n"
     ]
    },
    {
     "name": "stdout",
     "output_type": "stream",
     "text": [
      "tamanho 3 lista_quantidade [0, 0, 0]\n"
     ]
    },
    {
     "name": "stdin",
     "output_type": "stream",
     "text": [
      "Qual é 1a nota? 10\n"
     ]
    },
    {
     "name": "stdout",
     "output_type": "stream",
     "text": [
      "tamanho 2 lista_quantidade [0, 0]\n"
     ]
    },
    {
     "name": "stdin",
     "output_type": "stream",
     "text": [
      "Qual é 2a nota? 50\n"
     ]
    },
    {
     "name": "stdout",
     "output_type": "stream",
     "text": [
      "tamanho 1 lista_quantidade [0]\n"
     ]
    },
    {
     "name": "stdin",
     "output_type": "stream",
     "text": [
      "Qual é 3a nota? 90\n"
     ]
    },
    {
     "name": "stdout",
     "output_type": "stream",
     "text": [
      "tamanho 0 lista_quantidade []\n",
      "A média das notas é: 50.0\n"
     ]
    }
   ],
   "source": [
    "lista_de_notas = []\n",
    "\n",
    "lista_quantidade = [0] * int(input(\"Quantas notas tem? \"))\n",
    "print('tamanho', len(lista_quantidade), 'lista_quantidade', lista_quantidade)\n",
    "cont = 0\n",
    "\n",
    "while lista_quantidade:\n",
    "    cont += 1\n",
    "    lista_quantidade.pop()\n",
    "    notas = float(input(\"Qual é \" + str(cont) + \"a nota?\"))\n",
    "    lista_de_notas.append(notas)\n",
    "    print('tamanho', len(lista_quantidade), 'lista_quantidade', lista_quantidade)\n",
    "\n",
    "media = round(sum(lista_de_notas)/len(lista_de_notas), 2)\n",
    "print(\"A média das notas é:\", media)"
   ]
  },
  {
   "cell_type": "markdown",
   "metadata": {},
   "source": [
    "__________\n",
    "__________\n",
    "__________"
   ]
  },
  {
   "cell_type": "markdown",
   "metadata": {},
   "source": [
    "## 3) Laços de repetição (for)\n",
    "\n",
    "Na última aula, vimos como usar o laço de repetição \"while\" para repetir operações em Python\n",
    "\n",
    "Agora, veremos um outro laço, o **for**\n",
    "\n",
    "Mas, antes de vermos como este laço pode ser utilizado para **repetir operações**, é interessante entender o `for` como sendo, na realidade, um operador utilizado para **percorrer elementos de uma lista** (na verdade, de qualquer objeto **iterável**. Conheceremos outros objetos assim mais pra frente...)\n",
    "\n",
    "A estrutura do for é:\n",
    "\n",
    "```python\n",
    "for item in lista:\n",
    "    operacao_feita_pra_cada_item\n",
    "```"
   ]
  },
  {
   "cell_type": "code",
   "execution_count": 365,
   "metadata": {},
   "outputs": [
    {
     "name": "stdout",
     "output_type": "stream",
     "text": [
      "a\n",
      "b\n",
      "c\n",
      "d\n"
     ]
    }
   ],
   "source": [
    "lista = [\"a\", \"b\", \"c\", \"d\"]\n",
    "\n",
    "# Imprimindo elemento a elemento\n",
    "\n",
    "for elemento in lista:\n",
    "    print(elemento)"
   ]
  },
  {
   "cell_type": "markdown",
   "metadata": {},
   "source": [
    "O código acima é equivalente a:"
   ]
  },
  {
   "cell_type": "code",
   "execution_count": 368,
   "metadata": {},
   "outputs": [
    {
     "name": "stdout",
     "output_type": "stream",
     "text": [
      "a\n",
      "b\n",
      "c\n",
      "d\n"
     ]
    }
   ],
   "source": [
    "lista = [\"a\", \"b\", \"c\", \"d\"]\n",
    "\n",
    "print(lista[0])\n",
    "print(lista[1])\n",
    "print(lista[2])\n",
    "print(lista[3])"
   ]
  },
  {
   "cell_type": "code",
   "execution_count": 369,
   "metadata": {},
   "outputs": [
    {
     "name": "stdout",
     "output_type": "stream",
     "text": [
      "1\n",
      "40\n",
      "30\n",
      "10\n"
     ]
    }
   ],
   "source": [
    "lista = [1, 40, 30, 10]\n",
    "for num in lista:\n",
    "    print(num)"
   ]
  },
  {
   "cell_type": "code",
   "execution_count": 371,
   "metadata": {},
   "outputs": [
    {
     "name": "stdout",
     "output_type": "stream",
     "text": [
      "1\n",
      "10\n",
      "30\n",
      "40\n"
     ]
    }
   ],
   "source": [
    "for num in sorted(lista):\n",
    "    print(num)"
   ]
  },
  {
   "cell_type": "code",
   "execution_count": 374,
   "metadata": {},
   "outputs": [],
   "source": [
    "lista_de_lista = [10, 3, 'a', True, [10, 30, 40]]"
   ]
  },
  {
   "cell_type": "code",
   "execution_count": 375,
   "metadata": {},
   "outputs": [
    {
     "name": "stdout",
     "output_type": "stream",
     "text": [
      "10\n",
      "3\n",
      "a\n",
      "True\n",
      "[10, 30, 40]\n"
     ]
    }
   ],
   "source": [
    "for elemento in lista_de_lista:\n",
    "    print(elemento)"
   ]
  },
  {
   "cell_type": "markdown",
   "metadata": {},
   "source": [
    "__Um exemplo de uso...__\n",
    "\n",
    "Separando números positivos e negativos de uma lista de números"
   ]
  },
  {
   "cell_type": "code",
   "execution_count": 377,
   "metadata": {},
   "outputs": [
    {
     "name": "stdout",
     "output_type": "stream",
     "text": [
      "numero 4\n",
      "numero 5\n",
      "numero 6\n",
      "numero 5\n",
      "numero -6\n",
      "numero 56\n",
      "numero 7\n",
      "numero -10\n",
      "numero 78\n",
      "numero 80\n",
      "numero 9\n",
      "lista positivos [4, 5, 6, 5, 56, 7, 78, 80, 9]\n",
      "lista negativos [-6, -10]\n"
     ]
    }
   ],
   "source": [
    "lista = [4, 5, 6, 5, -6, 56, 7, -10, 78, 80, 9]\n",
    "\n",
    "lista_neg = []\n",
    "lista_pos = []\n",
    "\n",
    "# Separando os elementos positivos e negativos\n",
    "for num in lista:\n",
    "    print('numero', num)\n",
    "    if num >=0:\n",
    "        lista_pos.append(num)\n",
    "    else:\n",
    "        lista_neg.append(num)\n",
    "\n",
    "print('lista positivos', lista_pos)\n",
    "print('lista negativos', lista_neg)"
   ]
  },
  {
   "cell_type": "code",
   "execution_count": 380,
   "metadata": {},
   "outputs": [
    {
     "name": "stdout",
     "output_type": "stream",
     "text": [
      "elemento 4\n",
      "elemento é pos 4\n",
      "elemento 5\n",
      "elemento é pos 5\n",
      "elemento 6\n",
      "elemento é pos 6\n",
      "elemento 5\n",
      "elemento é pos 5\n",
      "elemento -6\n",
      "elemento é neg -6\n",
      "elemento 56\n",
      "elemento é pos 56\n",
      "elemento b\n",
      "elemento é str b\n",
      "elemento 7\n",
      "elemento é pos 7\n",
      "elemento -10\n",
      "elemento é neg -10\n",
      "elemento 78\n",
      "elemento é pos 78\n",
      "elemento 80\n",
      "elemento é pos 80\n",
      "elemento 9\n",
      "elemento é pos 9\n",
      "elemento a\n",
      "elemento é str a\n",
      "lista positivos [4, 5, 6, 5, 56, 7, 78, 80, 9]\n",
      "lista negativos [-6, -10]\n",
      "lista string ['b', 'a']\n"
     ]
    }
   ],
   "source": [
    "lista = [4, 5, 6, 5, -6, 56, 'b', 7, -10, 78, 80, 9, 'a']\n",
    "\n",
    "lista_neg = []\n",
    "lista_pos = []\n",
    "lista_str = []\n",
    "\n",
    "# Separando os elementos positivos e negativos\n",
    "for elemento in lista:\n",
    "    print('elemento', elemento)\n",
    "    \n",
    "    if type(elemento) == str:\n",
    "        print('elemento é str', elemento)\n",
    "        lista_str.append(elemento)\n",
    "    elif elemento >=0:\n",
    "        print('elemento é pos', elemento)\n",
    "        lista_pos.append(elemento)\n",
    "    else:\n",
    "        print('elemento é neg', elemento)\n",
    "        lista_neg.append(elemento)\n",
    "\n",
    "print('lista positivos', lista_pos)\n",
    "print('lista negativos', lista_neg)\n",
    "print('lista string', lista_str)"
   ]
  },
  {
   "cell_type": "code",
   "execution_count": 386,
   "metadata": {},
   "outputs": [
    {
     "name": "stdout",
     "output_type": "stream",
     "text": [
      "indice 0 elemento: 4\n",
      "indice 1 elemento: 5\n",
      "indice 2 elemento: 6\n",
      "indice 3 elemento: 5\n",
      "indice 4 elemento: -6\n",
      "indice 5 elemento: 56\n",
      "indice 6 elemento: b\n",
      "indice 7 elemento: 7\n",
      "indice 8 elemento: -10\n",
      "indice 9 elemento: 78\n",
      "indice 10 elemento: 80\n",
      "indice 11 elemento: 9\n",
      "indice 12 elemento: a\n"
     ]
    }
   ],
   "source": [
    "lista = [4, 5, 6, 5, -6, 56, 'b', 7, -10, 78, 80, 9, 'a']\n",
    "tot = 0\n",
    "for elemento in lista:\n",
    "    \n",
    "    print('indice', tot, 'elemento:', elemento)\n",
    "    tot += 1"
   ]
  },
  {
   "cell_type": "code",
   "execution_count": null,
   "metadata": {},
   "outputs": [],
   "source": []
  },
  {
   "cell_type": "markdown",
   "metadata": {},
   "source": [
    "O \"for\" percorre todos os elementos de uma lista, a não ser que o \"break\" seja utilizado -- esse comando quebra o for, ou seja, os elementos param de ser percorridos"
   ]
  },
  {
   "cell_type": "code",
   "execution_count": 393,
   "metadata": {},
   "outputs": [
    {
     "name": "stdout",
     "output_type": "stream",
     "text": [
      "4\n",
      "5\n",
      "6\n",
      "5\n",
      "56\n",
      "7\n",
      "numero é negativo -10\n"
     ]
    }
   ],
   "source": [
    "lista = [4, 5, 6, 5, 56, 7, -10, 78, 80, 9]\n",
    "\n",
    "# Imprima os elementos da lista até o primeiro elemento negativo (break)\n",
    "\n",
    "for num in lista:\n",
    "    \n",
    "    if num < 0:\n",
    "        print('numero é negativo', num)\n",
    "        break\n",
    "    print(num)"
   ]
  },
  {
   "cell_type": "markdown",
   "metadata": {},
   "source": [
    "Podemos fazer operações com os elementos de umas lista e usá-los pra preencher outra lista:"
   ]
  },
  {
   "cell_type": "code",
   "execution_count": 396,
   "metadata": {},
   "outputs": [
    {
     "data": {
      "text/plain": [
       "[2, 4, 6, 10, 306, -112]"
      ]
     },
     "execution_count": 396,
     "metadata": {},
     "output_type": "execute_result"
    }
   ],
   "source": [
    "lista = [1, 2, 3, 5, 153, -56]\n",
    "lista_dobro = []\n",
    "\n",
    "# dobrando o valor de cada elemento da lista\n",
    "\n",
    "for num in lista:\n",
    "    lista_dobro.append(num * 2)\n",
    "lista_dobro"
   ]
  },
  {
   "cell_type": "markdown",
   "metadata": {},
   "source": [
    "_____\n",
    "\n",
    "### 3.1) Compreensão de listas\n",
    "\n",
    "Uma estrutura extremamente útil em python é a __compreensão de listas__ (list comprehension), com a qual é possível construir listas novas a partir de outras listas de forma bem condensada!\n",
    "\n",
    "A sintaxe é: \n",
    "\n",
    "```python\n",
    "[operacao_sobre_os_items for item in lista_base]\n",
    "```"
   ]
  },
  {
   "cell_type": "markdown",
   "metadata": {},
   "source": [
    "Por exemplo, é possível criar a mesma \"lista_dobro\" definida acima, de forma muito mais condensada:"
   ]
  },
  {
   "cell_type": "code",
   "execution_count": 407,
   "metadata": {},
   "outputs": [],
   "source": [
    "lista = [1, 2, 3, 5, 153, -56, -1247]"
   ]
  },
  {
   "cell_type": "code",
   "execution_count": 408,
   "metadata": {},
   "outputs": [],
   "source": [
    "lista_dobro = [num*2 for num in lista]"
   ]
  },
  {
   "cell_type": "code",
   "execution_count": 409,
   "metadata": {},
   "outputs": [
    {
     "data": {
      "text/plain": [
       "[2, 4, 6, 10, 306, -112, -2494]"
      ]
     },
     "execution_count": 409,
     "metadata": {},
     "output_type": "execute_result"
    }
   ],
   "source": [
    "lista_dobro"
   ]
  },
  {
   "cell_type": "code",
   "execution_count": 410,
   "metadata": {},
   "outputs": [
    {
     "data": {
      "text/plain": [
       "[2, 4, 6, 10, 306, -112, -2494]"
      ]
     },
     "execution_count": 410,
     "metadata": {},
     "output_type": "execute_result"
    }
   ],
   "source": [
    "lista_dobro = []\n",
    "for num in lista:\n",
    "    lista_dobro.append(num*2)\n",
    "lista_dobro"
   ]
  },
  {
   "cell_type": "code",
   "execution_count": 406,
   "metadata": {},
   "outputs": [
    {
     "data": {
      "text/plain": [
       "['11', '22', '33']"
      ]
     },
     "execution_count": 406,
     "metadata": {},
     "output_type": "execute_result"
    }
   ],
   "source": [
    "[num*2 for num in ['1', '2', '3']]"
   ]
  },
  {
   "cell_type": "code",
   "execution_count": 412,
   "metadata": {},
   "outputs": [
    {
     "data": {
      "text/plain": [
       "[[1, 2, 3, 1, 2, 3]]"
      ]
     },
     "execution_count": 412,
     "metadata": {},
     "output_type": "execute_result"
    }
   ],
   "source": [
    "[num*2 for num in [[1, 2, 3]]]"
   ]
  },
  {
   "cell_type": "markdown",
   "metadata": {},
   "source": [
    "Também é possível construir uma lista usando compreensão de listas com base em alguma estrutura condicional!\n",
    "\n",
    "Se você for utilizar apenas o if, a sintaxe é:\n",
    "\n",
    "```python\n",
    "[operacao_sobre_os_items for item in lista_base if condicao]\n",
    "```"
   ]
  },
  {
   "cell_type": "code",
   "execution_count": 421,
   "metadata": {},
   "outputs": [
    {
     "name": "stdout",
     "output_type": "stream",
     "text": [
      "[[2], [4], [10], [42]]\n"
     ]
    }
   ],
   "source": [
    "# pega apenas os números pares e cria uma nova lista\n",
    "\n",
    "lista = [1, 2, 3, 4, 5, 10 , 21, 23, 25, 27, 42, 51]\n",
    "\n",
    "\n",
    "# forma tradicional\n",
    "lista_pares = []\n",
    "for num in lista:\n",
    "    if num % 2 == 0:\n",
    "        lista_pares.append(num)\n",
    "print(lista_pares)"
   ]
  },
  {
   "cell_type": "code",
   "execution_count": 433,
   "metadata": {},
   "outputs": [],
   "source": [
    "lista_pares = [\n",
    "    num*2 for num in lista if num % 2 == 0\n",
    "]"
   ]
  },
  {
   "cell_type": "code",
   "execution_count": 435,
   "metadata": {},
   "outputs": [],
   "source": [
    "lista_float = [1.2, 1.4, 1.9]"
   ]
  },
  {
   "cell_type": "markdown",
   "metadata": {},
   "source": [
    "Caso você queira utilizar também o else como parte da estrutura condicional, a sintaxe muda um pouco:\n",
    "\n",
    "```python\n",
    "[valor_caso_if if condicao else valor_caso_else for item in lista_base]\n",
    "```"
   ]
  },
  {
   "cell_type": "code",
   "execution_count": 447,
   "metadata": {},
   "outputs": [
    {
     "data": {
      "text/plain": [
       "['1 é impar', '2 é par', '3 é impar', '4 é par', '5 é impar', '6 é par']"
      ]
     },
     "execution_count": 447,
     "metadata": {},
     "output_type": "execute_result"
    }
   ],
   "source": [
    "# também é possível definir o else.\n",
    "# Criando uma lista dizendo se o número é par ou impar\n",
    "# ['1 é ímpar', '4 é par', ...]\n",
    "\n",
    "\n",
    "par_ou_impar = [1, 2, 3, 4, 5, 6]\n",
    "\n",
    "[\n",
    "    str(num) + ' é par'\n",
    "         if num %2 == 0\n",
    "         else str(num) + ' é impar'\n",
    "    for num in par_ou_impar]\n",
    "\n"
   ]
  },
  {
   "cell_type": "code",
   "execution_count": 446,
   "metadata": {},
   "outputs": [
    {
     "name": "stdout",
     "output_type": "stream",
     "text": [
      "1 x 5 = 5\n",
      "1 x 7 = 7\n",
      "1 x 8 = 8\n",
      "2 x 5 = 10\n",
      "2 x 7 = 14\n",
      "2 x 8 = 16\n",
      "3 x 5 = 15\n",
      "3 x 7 = 21\n",
      "3 x 8 = 24\n",
      "4 x 5 = 20\n",
      "4 x 7 = 28\n",
      "4 x 8 = 32\n",
      "5 x 5 = 25\n",
      "5 x 7 = 35\n",
      "5 x 8 = 40\n",
      "6 x 5 = 30\n",
      "6 x 7 = 42\n",
      "6 x 8 = 48\n"
     ]
    }
   ],
   "source": [
    "l1 = [1, 2, 3, 4, 5, 6]\n",
    "l2 = [5, 7, 8]\n",
    "\n",
    "for num1 in l1:\n",
    "    for num2 in l2:\n",
    "        print(num1, 'x', num2, '=', num1 * num2)\n",
    "        "
   ]
  },
  {
   "cell_type": "markdown",
   "metadata": {},
   "source": [
    "**como fazer a operação acima com compreensão de listas**"
   ]
  },
  {
   "cell_type": "code",
   "execution_count": 499,
   "metadata": {},
   "outputs": [
    {
     "data": {
      "text/plain": [
       "[5, 7, 8, 10, 14, 16, 15, 21, 24, 20, 28, 32, 25, 35, 40, 30, 42, 48]"
      ]
     },
     "execution_count": 499,
     "metadata": {},
     "output_type": "execute_result"
    }
   ],
   "source": [
    "l1 = [1, 2, 3, 4, 5, 6]\n",
    "l2 = [5, 7, 8]\n",
    "\n",
    "[(num1 * num2) for num1 in l1 for num2 in l2]"
   ]
  },
  {
   "cell_type": "markdown",
   "metadata": {},
   "source": [
    "_____\n",
    "_____"
   ]
  },
  {
   "cell_type": "markdown",
   "metadata": {},
   "source": [
    "É muito comum utilizarmos a função \"range()\" juntamente do for\n",
    "\n",
    "Essa função cria um **intervalo**, que é uma espécie de \"lista virtual\" de **números em sequência**. Sua sintaxe é:\n",
    "\n",
    "- range(primeiro_numero, último_numero - 1, passo)\n",
    "\n",
    "Se for dado apenas um argumento, o padrão é começar por zero, e ir de 1 em 1:\n",
    "\n",
    "- range(10) é equivalente a range(0, 10, 1), cria uma sequência de 0 a 9, de 1 em 1\n",
    "- range(-12, 12, 2): cria uma sequência de -12 a 11, de 2 em 2\n",
    "\n",
    "Ao fazermos list(range()), obtermos uma lista correspondente ao iterável.\n",
    "\n",
    "**OBS: só podemos fazer iteráveis de int!**"
   ]
  },
  {
   "cell_type": "code",
   "execution_count": 505,
   "metadata": {},
   "outputs": [
    {
     "data": {
      "text/plain": [
       "range(0, 10)"
      ]
     },
     "execution_count": 505,
     "metadata": {},
     "output_type": "execute_result"
    }
   ],
   "source": [
    "range(0, 10)"
   ]
  },
  {
   "cell_type": "code",
   "execution_count": 507,
   "metadata": {},
   "outputs": [
    {
     "data": {
      "text/plain": [
       "[0, 1, 2, 3, 4, 5, 6, 7, 8, 9]"
      ]
     },
     "execution_count": 507,
     "metadata": {},
     "output_type": "execute_result"
    }
   ],
   "source": [
    "lista_range = list(range(0, 10))\n",
    "lista_range"
   ]
  },
  {
   "cell_type": "code",
   "execution_count": 508,
   "metadata": {},
   "outputs": [
    {
     "data": {
      "text/plain": [
       "[0, 1, 2, 3]"
      ]
     },
     "execution_count": 508,
     "metadata": {},
     "output_type": "execute_result"
    }
   ],
   "source": [
    "lista_range[:4]"
   ]
  },
  {
   "cell_type": "code",
   "execution_count": 512,
   "metadata": {},
   "outputs": [
    {
     "data": {
      "text/plain": [
       "[0, 1, 2, 3, 4, 5, 6, 7, 8, 9]"
      ]
     },
     "execution_count": 512,
     "metadata": {},
     "output_type": "execute_result"
    }
   ],
   "source": [
    "list(range(0, 10, 1))"
   ]
  },
  {
   "cell_type": "code",
   "execution_count": 514,
   "metadata": {},
   "outputs": [
    {
     "data": {
      "text/plain": [
       "[10, 9, 8, 7, 6, 5, 4, 3, 2]"
      ]
     },
     "execution_count": 514,
     "metadata": {},
     "output_type": "execute_result"
    }
   ],
   "source": [
    "list(range(10, 1, -1))"
   ]
  },
  {
   "cell_type": "code",
   "execution_count": null,
   "metadata": {},
   "outputs": [],
   "source": []
  },
  {
   "cell_type": "markdown",
   "metadata": {},
   "source": [
    "É muito comum usar o for com o range para **percorrer os índices de uma lista**, e assim também **acessar os elementos da lista através do índice**.\n",
    "\n",
    "Isso é feito passando pro range o comprinento da lista como argumento!"
   ]
  },
  {
   "cell_type": "code",
   "execution_count": 521,
   "metadata": {},
   "outputs": [
    {
     "name": "stdout",
     "output_type": "stream",
     "text": [
      "0 0\n",
      "1 1\n",
      "2 5\n",
      "3 20\n",
      "4 21\n"
     ]
    }
   ],
   "source": [
    "lista = [0, 1, 5, 20, 21]\n",
    "\n",
    "# imprimir o index e o elemento da lista\n",
    "for idx in range(len(lista)):\n",
    "    print(idx, lista[idx])"
   ]
  },
  {
   "cell_type": "code",
   "execution_count": 522,
   "metadata": {},
   "outputs": [
    {
     "data": {
      "text/plain": [
       "20"
      ]
     },
     "execution_count": 522,
     "metadata": {},
     "output_type": "execute_result"
    }
   ],
   "source": [
    "lista[3]"
   ]
  },
  {
   "cell_type": "code",
   "execution_count": 523,
   "metadata": {},
   "outputs": [
    {
     "data": {
      "text/plain": [
       "20"
      ]
     },
     "execution_count": 523,
     "metadata": {},
     "output_type": "execute_result"
    }
   ],
   "source": [
    "idx = 3\n",
    "lista[idx] # mesma sintaxe que lista[3]"
   ]
  },
  {
   "cell_type": "markdown",
   "metadata": {},
   "source": [
    "Note a diferença do que foi feito acima e o que é feito abaixo:"
   ]
  },
  {
   "cell_type": "code",
   "execution_count": 535,
   "metadata": {},
   "outputs": [
    {
     "name": "stdout",
     "output_type": "stream",
     "text": [
      "0\n",
      "1\n",
      "5\n",
      "20\n",
      "21\n"
     ]
    }
   ],
   "source": [
    "for elemento in lista:\n",
    "    print(elemento)"
   ]
  },
  {
   "cell_type": "code",
   "execution_count": 531,
   "metadata": {},
   "outputs": [],
   "source": [
    "lista_palavra = ['Olá'] * 10"
   ]
  },
  {
   "cell_type": "code",
   "execution_count": 532,
   "metadata": {},
   "outputs": [
    {
     "name": "stdout",
     "output_type": "stream",
     "text": [
      "0 Olá\n",
      "1 Olá\n",
      "2 Olá\n",
      "3 Olá\n",
      "4 Olá\n",
      "5 Olá\n",
      "6 Olá\n",
      "7 Olá\n",
      "8 Olá\n",
      "9 Olá\n"
     ]
    }
   ],
   "source": [
    "for idx in range(len(lista_palavra)):\n",
    "    print(idx, lista_palavra[idx])"
   ]
  },
  {
   "cell_type": "code",
   "execution_count": null,
   "metadata": {},
   "outputs": [],
   "source": []
  },
  {
   "cell_type": "markdown",
   "metadata": {},
   "source": [
    "O range é muito interessante caso **queiramos repetir determinada instrução**\n",
    "\n",
    "Se vc quer repetir N vezes, basta fazer:\n",
    "\n",
    "```python\n",
    "for i in range(N):\n",
    "    operacao_repetida\n",
    "```\n",
    "\n",
    "É neste sentido que o `for` passa a ser explicitamente um laço de repetição!\n",
    "\n",
    "Mas note que este laço se diferencia do while no fato de **não precisar de uma condição explícita**\n",
    "\n",
    "Este laço determina que as operações sejam repetidas **para valores em uma lista** (que no caso é o `range`).\n",
    "\n",
    "Este laço é, portanto, bem mais controlado -- dificilmente ocorrerá loops infinitos!"
   ]
  },
  {
   "cell_type": "code",
   "execution_count": 538,
   "metadata": {},
   "outputs": [
    {
     "name": "stdout",
     "output_type": "stream",
     "text": [
      "Olá, mundo\n",
      "Olá, mundo\n",
      "Olá, mundo\n",
      "Olá, mundo\n",
      "Olá, mundo\n"
     ]
    }
   ],
   "source": [
    "for i in range(5):\n",
    "    print(\"Olá, mundo\")"
   ]
  },
  {
   "cell_type": "markdown",
   "metadata": {},
   "source": [
    "Note que o código acima é equivalente a:"
   ]
  },
  {
   "cell_type": "code",
   "execution_count": 539,
   "metadata": {},
   "outputs": [
    {
     "name": "stdout",
     "output_type": "stream",
     "text": [
      "Olá, mundo\n",
      "Olá, mundo\n",
      "Olá, mundo\n",
      "Olá, mundo\n",
      "Olá, mundo\n"
     ]
    }
   ],
   "source": [
    "for i in [0, 1, 2, 3, 4]:\n",
    "    print(\"Olá, mundo\")"
   ]
  },
  {
   "cell_type": "markdown",
   "metadata": {},
   "source": [
    "Exemplo de uso com o break"
   ]
  },
  {
   "cell_type": "code",
   "execution_count": 552,
   "metadata": {},
   "outputs": [
    {
     "name": "stdout",
     "output_type": "stream",
     "text": [
      "indice 13 apresentou o número negativo: -10\n"
     ]
    }
   ],
   "source": [
    "# mostrando qual é o índice do primeiro elemento negativo\n",
    "\n",
    "lista = [4, 5, 6, 5, 56, 7, 10, 78, 80, 9, 324, 32, 492, -10, 2043, -15, 31, -20, 32]\n",
    "\n",
    "for i in range(len(lista)):\n",
    "    if lista[i] < 0:\n",
    "        print('indice', i, 'apresentou o número negativo:', lista[i])\n",
    "        break\n",
    "    "
   ]
  },
  {
   "cell_type": "code",
   "execution_count": 551,
   "metadata": {
    "scrolled": true,
    "tags": []
   },
   "outputs": [
    {
     "name": "stdout",
     "output_type": "stream",
     "text": [
      "num1 0 num2 0\n",
      "num1 0 num2 10\n",
      "num1 0 num2 15\n",
      "num1 0 num2 20\n",
      "num1 0 num2 21\n",
      "num1 0 num2 22\n",
      "num1 10 num2 0\n",
      "num1 10 num2 10\n",
      "num1 10 num2 15\n",
      "num1 10 num2 20\n",
      "num1 10 num2 21\n",
      "num1 10 num2 22\n",
      "num1 15 num2 0\n",
      "num1 15 num2 10\n",
      "num1 15 num2 15\n",
      "num1 15 num2 20\n",
      "num1 15 num2 21\n",
      "num1 15 num2 22\n",
      "num1 20 num2 0\n",
      "num1 20 num2 10\n",
      "num1 20 num2 15\n",
      "num1 20 num2 20\n",
      "num1 20 num2 21\n",
      "num1 20 num2 22\n",
      "num1 21 num2 0\n",
      "num1 21 num2 10\n",
      "num1 21 num2 15\n",
      "num1 21 num2 20\n",
      "num1 21 num2 21\n",
      "num1 21 num2 22\n",
      "num1 22 num2 0\n",
      "num1 22 num2 10\n",
      "num1 22 num2 15\n",
      "num1 22 num2 20\n",
      "num1 22 num2 21\n",
      "num1 22 num2 22\n"
     ]
    }
   ],
   "source": [
    "lista1 = [0, 10, 15, 20, 21, 22]\n",
    "lista2 = [0, 10, 15, 20, 21, 22]\n",
    "for num1 in lista1:\n",
    "    for num2 in lista2:\n",
    "        # 0 -> num1 (iteração 1 do primeiro loop)\n",
    "        # 10 -> num1 (iteração 2 do primeiro loop)\n",
    "        print('num1', num1, 'num2', num2)\n",
    "        "
   ]
  },
  {
   "cell_type": "code",
   "execution_count": null,
   "metadata": {},
   "outputs": [],
   "source": [
    "# Apresentar enumerate"
   ]
  },
  {
   "cell_type": "code",
   "execution_count": 561,
   "metadata": {},
   "outputs": [
    {
     "name": "stdout",
     "output_type": "stream",
     "text": [
      "0 10\n",
      "1 20\n",
      "2 30\n",
      "3 40\n",
      "4 55\n"
     ]
    }
   ],
   "source": [
    "lista = ['Olá',10, 20, 30, 40, 55]\n",
    "for idx in range(len(lista)):\n",
    "    print(idx, lista[idx])"
   ]
  },
  {
   "cell_type": "code",
   "execution_count": 555,
   "metadata": {},
   "outputs": [
    {
     "data": {
      "text/plain": [
       "['Olá', 10, 20, 30, 40, 55]"
      ]
     },
     "execution_count": 555,
     "metadata": {},
     "output_type": "execute_result"
    }
   ],
   "source": [
    "# ['Olá', 10, 20, 30, 40, 55]\n",
    "# [0,     1,  2,  3,  4,  5]"
   ]
  },
  {
   "cell_type": "code",
   "execution_count": 562,
   "metadata": {},
   "outputs": [
    {
     "name": "stdout",
     "output_type": "stream",
     "text": [
      "0 10\n",
      "1 20\n",
      "2 30\n",
      "3 40\n",
      "4 55\n"
     ]
    }
   ],
   "source": [
    "for idx, elemento in enumerate(lista, start=0):\n",
    "    print(idx, elemento)"
   ]
  },
  {
   "cell_type": "code",
   "execution_count": 563,
   "metadata": {},
   "outputs": [],
   "source": [
    "lista = [10, 20, 30, 40, 55]\n",
    "lista2 = [100, 200, 321, 421]"
   ]
  },
  {
   "cell_type": "code",
   "execution_count": 566,
   "metadata": {},
   "outputs": [
    {
     "name": "stdout",
     "output_type": "stream",
     "text": [
      "0 10\n",
      "1 20\n",
      "2 30\n",
      "3 40\n",
      "4 55\n",
      "------------------------------\n",
      "10 100\n",
      "11 200\n",
      "12 321\n",
      "13 421\n"
     ]
    }
   ],
   "source": [
    "for count, elemento in enumerate(lista, start=0):\n",
    "    print(count, elemento)\n",
    "\n",
    "print('-'*30)\n",
    "for count, elemento in enumerate(lista2, start=10):\n",
    "    print(count, elemento)"
   ]
  },
  {
   "cell_type": "code",
   "execution_count": 575,
   "metadata": {},
   "outputs": [
    {
     "data": {
      "text/plain": [
       "False"
      ]
     },
     "execution_count": 575,
     "metadata": {},
     "output_type": "execute_result"
    }
   ],
   "source": [
    "# Interrogando se um elemento está presente na lista ou não\n",
    "lista_num = [1,2,3]\n",
    "4 in lista_num"
   ]
  },
  {
   "cell_type": "code",
   "execution_count": 576,
   "metadata": {},
   "outputs": [
    {
     "data": {
      "text/plain": [
       "True"
      ]
     },
     "execution_count": 576,
     "metadata": {},
     "output_type": "execute_result"
    }
   ],
   "source": [
    "1 in lista_num"
   ]
  },
  {
   "cell_type": "code",
   "execution_count": 577,
   "metadata": {},
   "outputs": [],
   "source": [
    "lista_str = ['s', 'n']"
   ]
  },
  {
   "cell_type": "code",
   "execution_count": 578,
   "metadata": {},
   "outputs": [
    {
     "data": {
      "text/plain": [
       "False"
      ]
     },
     "execution_count": 578,
     "metadata": {},
     "output_type": "execute_result"
    }
   ],
   "source": [
    "'dhsjka' in lista_str"
   ]
  },
  {
   "cell_type": "code",
   "execution_count": 579,
   "metadata": {},
   "outputs": [
    {
     "data": {
      "text/plain": [
       "True"
      ]
     },
     "execution_count": 579,
     "metadata": {},
     "output_type": "execute_result"
    }
   ],
   "source": [
    "'s' in lista_str"
   ]
  },
  {
   "cell_type": "code",
   "execution_count": null,
   "metadata": {},
   "outputs": [],
   "source": []
  },
  {
   "cell_type": "markdown",
   "metadata": {},
   "source": [
    "___\n",
    "___\n",
    "\n",
    "### Vamos a um exercício que utilizada tudo o que vimos até então?"
   ]
  },
  {
   "cell_type": "markdown",
   "metadata": {},
   "source": [
    "```\n",
    "Desafio 3 - Um hospital quer fazer o diagnóstico de gripe ou dengue a partir de um questionário de sintomas, tendo as perguntas abaixo, faça um programa que faça o diagnóstico deste hospital:\n",
    "\n",
    "a. Sente dor no corpo?\n",
    "\n",
    "b. Você tem febre?\n",
    "\n",
    "c. Você tem tosse?\n",
    "\n",
    "d. Está com congestão nasal?\n",
    "\n",
    "e. Tem manchas pelo corpo?\n",
    "\n",
    "Para o diagnóstico ele tem a seguinte tabela:\n",
    "\n",
    "A\tB\tC\tD\tE\tResultado\n",
    "Sim\tSim\tNão\tNão\tSim\tDengue\n",
    "Sim\tSim\tSim\tSim\tNão\tGripe\n",
    "Não\tSim\tSim\tSim\tNão\tGripe\n",
    "Sim\tNão\tNão\tNão\tNão\tSem doenças\n",
    "Não\tNão\tNão\tNão\tNão\tSem doenças\n",
    "```"
   ]
  },
  {
   "cell_type": "code",
   "execution_count": 589,
   "metadata": {},
   "outputs": [
    {
     "name": "stdin",
     "output_type": "stream",
     "text": [
      "a. Sente dor no corpo? Digite (s ou n) s\n",
      "b. Você tem febre? Digite (s ou n) s\n",
      "c. Você tem tosse? Digite (s ou n) s\n",
      "d. Está com congestão nasal? Digite (s ou n) s\n",
      "e. Tem mancha pelo corpo? Digite (s ou n) s\n"
     ]
    },
    {
     "name": "stdout",
     "output_type": "stream",
     "text": [
      "Não sei a doença\n"
     ]
    }
   ],
   "source": [
    "lista_perguntas = [\n",
    "    'a. Sente dor no corpo?',\n",
    "    'b. Você tem febre?',\n",
    "    'c. Você tem tosse?',\n",
    "    'd. Está com congestão nasal?',\n",
    "    'e. Tem mancha pelo corpo?'\n",
    "]\n",
    "\n",
    "lista_resposta = []\n",
    "for pergunta in lista_perguntas:\n",
    "\n",
    "    resposta = input(pergunta + ' Digite (s ou n)')\n",
    "    \n",
    "#     while resposta != 's' and resposta != 'n':\n",
    "    while resposta not in ['s', 'n']:\n",
    "        resposta = input('Não entendi! Digite (s ou n)')\n",
    "    \n",
    "    lista_resposta.append(resposta)\n",
    "    \n",
    "dengue = list('ssnns')\n",
    "gripe = [list('ssssn'), list('nsssn')]\n",
    "sem_doencas = [list('snnnn'), list('nnnnn')]\n",
    "\n",
    "if lista_resposta == dengue:\n",
    "    print('Paciente com dengue')\n",
    "    \n",
    "elif lista_resposta in gripe:\n",
    "    print('Paciente com gripe')\n",
    "    \n",
    "elif lista_resposta in sem_doencas:\n",
    "    print('Paciente sem doença')\n",
    "\n",
    "else:\n",
    "    print('Não sei a doença')\n"
   ]
  },
  {
   "cell_type": "code",
   "execution_count": null,
   "metadata": {},
   "outputs": [],
   "source": []
  },
  {
   "cell_type": "markdown",
   "metadata": {},
   "source": [
    "## Monte Carlo"
   ]
  },
  {
   "cell_type": "code",
   "execution_count": 602,
   "metadata": {},
   "outputs": [],
   "source": [
    "import random\n",
    "import statistics"
   ]
  },
  {
   "cell_type": "code",
   "execution_count": 649,
   "metadata": {},
   "outputs": [],
   "source": [
    "resultados = []\n",
    "for _ in range(1000):\n",
    "    lista = []\n",
    "    for i in range(1000):\n",
    "        num_aleatorio = (random.randint(1, 6))  # dado não viciado\n",
    "        lista.append(num_aleatorio)\n",
    "    resultados.append(sum(lista) / len(lista))\n",
    "print('media', sum(resultados) / len(resultados))\n",
    "print('desvio padrão', statistics.stdev(resultados))"
   ]
  },
  {
   "cell_type": "code",
   "execution_count": 654,
   "metadata": {},
   "outputs": [],
   "source": []
  },
  {
   "cell_type": "code",
   "execution_count": 659,
   "metadata": {},
   "outputs": [],
   "source": [
    "dado = [3, 4, 5, 6]  # dado viciado\n",
    "resultados = []\n",
    "for _ in range(1000):\n",
    "    lista = []\n",
    "    for i in range(1000):\n",
    "        num_aleatorio = random.choice(dado)\n",
    "        lista.append(num_aleatorio)\n",
    "    resultados.append(sum(lista) / len(lista))\n",
    "    \n",
    "print('media', sum(resultados) / len(resultados))\n",
    "print('desvio padrão', statistics.stdev(resultados))"
   ]
  },
  {
   "cell_type": "markdown",
   "metadata": {},
   "source": [
    "## Monte Carlo Calculo de Pi\n",
    "\n",
    "Imagine que você tenha um quadrado de lado 2. Dentro desse quadrado conseguimos inserir um circulo com raio 1.\n",
    "\n",
    "Logo a área do quadrado é: $l^2 = (2*r)^2$  \n",
    "E a área do circulo é: $\\pi * r^2$  \n",
    "\n",
    "Imagine que eu jogue 1000 agulhas aleatoriamente nesse quadrado.  \n",
    "Quantas agulhas irão cair dentro do circulo?  \n",
    "Quantas agulhas irão cair fora do circulo?\n",
    "\n",
    "$P(agulha \\ dentro) = ÁreaCirculo / AreaQuadrado$  \n",
    "$P(agulha \\ dentro) = \\pi * r^2 / 4r^2$  \n",
    "$P(agulha \\ dentro) = \\pi / 4$  \n",
    "$\\pi = (Dentro/Total) * 4$  \n",
    "\n",
    "\n",
    "Construa um programa que simule o lançamento de $n$ agulhas (1000 por exemplo).  \n",
    "Qual seria o valor de pi?  \n",
    "E se fizermos essa simulação (Monte Carlo) muitas vezes(1, 10, 100, 1000, 10000)? Qual o valor de pi?  \n",
    "\n",
    "distância <= 1\n",
    "\n",
    "e lembrando que:\n",
    "$d^2 = x^2 + y^2$ ==> $d =  sqrt(x^2 + y^2)$"
   ]
  },
  {
   "cell_type": "code",
   "execution_count": 703,
   "metadata": {},
   "outputs": [],
   "source": [
    "import random\n",
    "\n",
    "pis = []\n",
    "n_sim = 10000\n",
    "agulhas = 1000\n",
    "for _ in range(n_sim):\n",
    "    pontos_circulo = 0\n",
    "    total = 0\n",
    "    for i in range(agulhas):\n",
    "        total +=1\n",
    "        x = random.random()\n",
    "        y = random.random()\n",
    "        dist = (x**2 + y**2) ** 0.5\n",
    "        if dist <= 1:\n",
    "            pontos_circulo +=1\n",
    "    pi = 4 * (pontos_circulo / total) \n",
    "    pis.append(pi)"
   ]
  },
  {
   "cell_type": "code",
   "execution_count": 704,
   "metadata": {},
   "outputs": [
    {
     "data": {
      "text/plain": [
       "3.1422488"
      ]
     },
     "execution_count": 704,
     "metadata": {},
     "output_type": "execute_result"
    }
   ],
   "source": [
    "sum(pis)/ len(pis)"
   ]
  },
  {
   "cell_type": "code",
   "execution_count": 705,
   "metadata": {},
   "outputs": [
    {
     "data": {
      "image/png": "[encoded data removed]",
      "text/plain": [
       "<Figure size 432x288 with 1 Axes>"
      ]
     },
     "metadata": {
      "needs_background": "light"
     },
     "output_type": "display_data"
    }
   ],
   "source": [
    "import seaborn as sns\n",
    "import matplotlib.pyplot as plt\n",
    "plt.hist(pis, bins=50)\n",
    "plt.show()"
   ]
  },
  {
   "cell_type": "code",
   "execution_count": null,
   "metadata": {},
   "outputs": [],
   "source": []
  },
  {
   "cell_type": "code",
   "execution_count": null,
   "metadata": {},
   "outputs": [],
   "source": []
  },
  {
   "cell_type": "code",
   "execution_count": null,
   "metadata": {},
   "outputs": [],
   "source": []
  },
  {
   "cell_type": "code",
   "execution_count": 680,
   "metadata": {},
   "outputs": [
    {
     "name": "stdout",
     "output_type": "stream",
     "text": [
      "Valor de pi é  2.912\n"
     ]
    }
   ],
   "source": [
    "raio = 1\n",
    "pi = 3\n",
    "area_quadrado = 4 * raio**2\n",
    "area_circulo = pi * raio ** 2\n",
    "\n",
    "d = 1 * (2)**0.5\n",
    "lista_distancia = []\n",
    "for i in range(1000):\n",
    "    lista_distancia.append(random.uniform(0, d))\n",
    "\n",
    "cont_circulo = 0    \n",
    "for instancia in lista_distancia:   \n",
    "    if instancia <= 1:\n",
    "        cont_circulo +=1\n",
    "\n",
    "pi = cont_circulo / len(lista_distancia) * 4        \n",
    "print(\"Valor de pi é \", pi)"
   ]
  },
  {
   "cell_type": "code",
   "execution_count": 672,
   "metadata": {},
   "outputs": [
    {
     "name": "stdout",
     "output_type": "stream",
     "text": [
      "O valor de pi é 3.096\n"
     ]
    }
   ],
   "source": [
    "import random\n",
    "import math\n",
    "\n",
    "lista = []\n",
    "lista_dentro = []\n",
    "total = 1000\n",
    "for i in range(total): #gera valores aleatorios\n",
    "    \n",
    "    x = random.random()\n",
    "    y = random.random()\n",
    "    lista.append([x,y])\n",
    "    \n",
    "for x,y in lista:   #adiciona os valores dentro do quadrado\n",
    "    posição = math.sqrt(x**2 + y**2)\n",
    "\n",
    "    if posição <= 1:\n",
    "        lista_dentro.append(posição)\n",
    "    \n",
    "pi = (len(lista_dentro)/total) * 4\n",
    "\n",
    "print('O valor de pi é', pi)"
   ]
  },
  {
   "cell_type": "code",
   "execution_count": 666,
   "metadata": {},
   "outputs": [
    {
     "name": "stdout",
     "output_type": "stream",
     "text": [
      "3.141336\n"
     ]
    }
   ],
   "source": [
    "import random\n",
    "lista_x = []\n",
    "lista_y = []\n",
    "num_range = 1000000\n",
    "cont = 0\n",
    "d = []\n",
    "r = 1\n",
    "for i in range(num_range):\n",
    "    x = random.uniform(-1,1)\n",
    "    lista_x.append(x)\n",
    "    y = random.uniform(-1,1)\n",
    "    lista_y.append(y)\n",
    "    d.append((x**2 + y**2)**0.5)\n",
    "    if d[i] <= r:\n",
    "        cont += 1\n",
    "pi = (cont/num_range)*4\n",
    "print(pi)"
   ]
  },
  {
   "cell_type": "code",
   "execution_count": 665,
   "metadata": {},
   "outputs": [
    {
     "name": "stdin",
     "output_type": "stream",
     "text": [
      "Escolha o número de lançamento: 1000\n"
     ]
    },
    {
     "name": "stdout",
     "output_type": "stream",
     "text": [
      "A simulação de pi é: 3.076\n"
     ]
    }
   ],
   "source": [
    "import random\n",
    "\n",
    "num_lancamento = int(input(\"Escolha o número de lançamento:\"))\n",
    "cont = 0\n",
    "for _ in range(num_lancamento):\n",
    "        num_aleatorio_x = random.random()\n",
    "        num_aleatorio_y = random.random()\n",
    "        distancia = (num_aleatorio_x ** 2 + num_aleatorio_y **2 ) ** (0.5)\n",
    "        if distancia <= 1:\n",
    "            cont += 1\n",
    "            \n",
    "pi = (cont /  num_lancamento) * 4\n",
    "\n",
    "print(\"A simulação de pi é:\", pi)"
   ]
  },
  {
   "cell_type": "code",
   "execution_count": 663,
   "metadata": {},
   "outputs": [
    {
     "name": "stdin",
     "output_type": "stream",
     "text": [
      "Digite a quantidade de agulhas: 10000\n"
     ]
    },
    {
     "name": "stdout",
     "output_type": "stream",
     "text": [
      "3.1156\n"
     ]
    }
   ],
   "source": [
    "import random\n",
    "cont = 0\n",
    "amostra = int(input(\"Digite a quantidade de agulhas:\"))\n",
    "for _ in range(amostra):\n",
    "    x = random.random() \n",
    "    y = random.random()\n",
    "    dist = (x**2 + y**2)**(1/2)\n",
    "    \n",
    "    if dist <= 1:\n",
    "        cont += 1\n",
    "pi = (cont / amostra)*4\n",
    "\n",
    "print(pi)"
   ]
  },
  {
   "cell_type": "code",
   "execution_count": 664,
   "metadata": {},
   "outputs": [
    {
     "name": "stdout",
     "output_type": "stream",
     "text": [
      "3.142752\n"
     ]
    }
   ],
   "source": [
    "import numpy as np\n",
    "\n",
    "N = 1000000 # número de iterações\n",
    "n = 0\n",
    "\n",
    "\n",
    "x = np.random.uniform(size=N)\n",
    "y = np.random.uniform(size=N)\n",
    "\n",
    "for i in range(N):\n",
    "    if x[i]**2 + y[i]**2 < 1**2:  #aqui coloquei ao quadrado só para deixar claro que não preciso fazer a raiz\n",
    "        n+=1\n",
    "\n",
    "pi = 4*n/N\n",
    "\n",
    "print(pi)"
   ]
  },
  {
   "cell_type": "code",
   "execution_count": null,
   "metadata": {},
   "outputs": [],
   "source": []
  },
  {
   "cell_type": "code",
   "execution_count": null,
   "metadata": {},
   "outputs": [],
   "source": []
  },
  {
   "cell_type": "code",
   "execution_count": null,
   "metadata": {},
   "outputs": [],
   "source": []
  }
 ],
 "metadata": {
  "kernelspec": {
   "display_name": "Python 3",
   "language": "python",
   "name": "python3"
  },
  "language_info": {
   "codemirror_mode": {
    "name": "ipython",
    "version": 3
   },
   "file_extension": ".py",
   "mimetype": "text/x-python",
   "name": "python",
   "nbconvert_exporter": "python",
   "pygments_lexer": "ipython3",
   "version": "3.8.3"
  }
 },
 "nbformat": 4,
 "nbformat_minor": 4
}
