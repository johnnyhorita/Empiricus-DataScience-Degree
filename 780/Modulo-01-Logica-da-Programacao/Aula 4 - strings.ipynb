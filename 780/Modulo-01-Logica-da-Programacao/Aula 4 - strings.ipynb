{
 "cells": [
  {
   "cell_type": "markdown",
   "metadata": {},
   "source": [
    "# Aula 4 - strings\n",
    "\n",
    "Na aula de hoje, vamos explorar os seguintes tópicos em Python:\n",
    "\n",
    "- 1) Strings\n",
    "- 2) Funções de Strings\n",
    "    - 2.1) Formatação de strings\n"
   ]
  },
  {
   "cell_type": "markdown",
   "metadata": {},
   "source": [
    "____\n",
    "____\n",
    "____"
   ]
  },
  {
   "cell_type": "markdown",
   "metadata": {},
   "source": [
    "## 1) Strings\n",
    "\n",
    "Desde a primeira aula, temos trabalhado com strings, que, como vimos, representam **dados textuais**\n",
    "\n",
    "Vamos, agora, olhar pra strings um pouco mais a fundo, e aprender algumas funções para trabalharmos com strings"
   ]
  },
  {
   "cell_type": "markdown",
   "metadata": {},
   "source": [
    "Uma string nada mais é do que uma **coleção de caracteres**!\n",
    "\n",
    "Assim, podemos acessar caracteres específicos ou então um intervalo de caracteres de uma string, como se fosse uma lista!\n",
    "\n",
    "**OBS.: Para strings também, o índice começa em 0, e podemos usar índices negativos!**"
   ]
  },
  {
   "cell_type": "code",
   "execution_count": 1,
   "metadata": {},
   "outputs": [
    {
     "name": "stdout",
     "output_type": "stream",
     "text": [
      "Olá\n",
      "Olá\n"
     ]
    }
   ],
   "source": [
    "print(\"Olá\")\n",
    "print(\"O\"+'l'+'á')"
   ]
  },
  {
   "cell_type": "code",
   "execution_count": 13,
   "metadata": {},
   "outputs": [],
   "source": [
    "nome = 'Gilberto'"
   ]
  },
  {
   "cell_type": "code",
   "execution_count": 14,
   "metadata": {},
   "outputs": [
    {
     "data": {
      "text/plain": [
       "'G'"
      ]
     },
     "execution_count": 14,
     "metadata": {},
     "output_type": "execute_result"
    }
   ],
   "source": [
    "nome[0]"
   ]
  },
  {
   "cell_type": "code",
   "execution_count": 15,
   "metadata": {},
   "outputs": [
    {
     "data": {
      "text/plain": [
       "'o'"
      ]
     },
     "execution_count": 15,
     "metadata": {},
     "output_type": "execute_result"
    }
   ],
   "source": [
    "nome[-1]"
   ]
  },
  {
   "cell_type": "code",
   "execution_count": 16,
   "metadata": {},
   "outputs": [
    {
     "data": {
      "text/plain": [
       "'ilb'"
      ]
     },
     "execution_count": 16,
     "metadata": {},
     "output_type": "execute_result"
    }
   ],
   "source": [
    "nome[1:4]"
   ]
  },
  {
   "cell_type": "code",
   "execution_count": 17,
   "metadata": {},
   "outputs": [
    {
     "data": {
      "text/plain": [
       "'otrebliG'"
      ]
     },
     "execution_count": 17,
     "metadata": {},
     "output_type": "execute_result"
    }
   ],
   "source": [
    "nome[::-1]"
   ]
  },
  {
   "cell_type": "code",
   "execution_count": 18,
   "metadata": {},
   "outputs": [
    {
     "data": {
      "text/plain": [
       "'Gil'"
      ]
     },
     "execution_count": 18,
     "metadata": {},
     "output_type": "execute_result"
    }
   ],
   "source": [
    "nome[: 3]"
   ]
  },
  {
   "cell_type": "code",
   "execution_count": 19,
   "metadata": {},
   "outputs": [
    {
     "data": {
      "text/plain": [
       "'berto'"
      ]
     },
     "execution_count": 19,
     "metadata": {},
     "output_type": "execute_result"
    }
   ],
   "source": [
    "nome[3:]"
   ]
  },
  {
   "cell_type": "code",
   "execution_count": 20,
   "metadata": {},
   "outputs": [
    {
     "data": {
      "text/plain": [
       "'GilbertoGilbertoGilberto'"
      ]
     },
     "execution_count": 20,
     "metadata": {},
     "output_type": "execute_result"
    }
   ],
   "source": [
    "nome * 3"
   ]
  },
  {
   "cell_type": "code",
   "execution_count": 21,
   "metadata": {},
   "outputs": [
    {
     "data": {
      "text/plain": [
       "[100, 100, 100]"
      ]
     },
     "execution_count": 21,
     "metadata": {},
     "output_type": "execute_result"
    }
   ],
   "source": [
    "[100] * 3"
   ]
  },
  {
   "cell_type": "code",
   "execution_count": 22,
   "metadata": {},
   "outputs": [
    {
     "data": {
      "text/plain": [
       "[100, 200]"
      ]
     },
     "execution_count": 22,
     "metadata": {},
     "output_type": "execute_result"
    }
   ],
   "source": [
    "[100] + [200]"
   ]
  },
  {
   "cell_type": "code",
   "execution_count": 25,
   "metadata": {},
   "outputs": [
    {
     "data": {
      "text/plain": [
       "'Gilberto Kaihami'"
      ]
     },
     "execution_count": 25,
     "metadata": {},
     "output_type": "execute_result"
    }
   ],
   "source": [
    "nome + ' ' + 'Kaihami'"
   ]
  },
  {
   "cell_type": "markdown",
   "metadata": {},
   "source": [
    "Para saber o comprimento de uma string (quantos caracteres ela tem, incluindo espaços e pontuações), use a função len():"
   ]
  },
  {
   "cell_type": "code",
   "execution_count": 26,
   "metadata": {},
   "outputs": [
    {
     "data": {
      "text/plain": [
       "3"
      ]
     },
     "execution_count": 26,
     "metadata": {},
     "output_type": "execute_result"
    }
   ],
   "source": [
    "len([0, 10, 2000])"
   ]
  },
  {
   "cell_type": "code",
   "execution_count": 27,
   "metadata": {},
   "outputs": [
    {
     "data": {
      "text/plain": [
       "8"
      ]
     },
     "execution_count": 27,
     "metadata": {},
     "output_type": "execute_result"
    }
   ],
   "source": [
    "len(nome)"
   ]
  },
  {
   "cell_type": "markdown",
   "metadata": {},
   "source": [
    "Podemos também percorrer cada caractere da string com o `for` -- strings são objetos **iteráveis**:"
   ]
  },
  {
   "cell_type": "code",
   "execution_count": 28,
   "metadata": {},
   "outputs": [
    {
     "name": "stdout",
     "output_type": "stream",
     "text": [
      "G\n",
      "i\n",
      "l\n",
      "b\n",
      "e\n",
      "r\n",
      "t\n",
      "o\n"
     ]
    }
   ],
   "source": [
    "for letra in nome:\n",
    "    print(letra)\n",
    "    "
   ]
  },
  {
   "cell_type": "markdown",
   "metadata": {},
   "source": [
    "Dá pra fazer o mesmo com o range() e o len():"
   ]
  },
  {
   "cell_type": "code",
   "execution_count": 34,
   "metadata": {},
   "outputs": [
    {
     "name": "stdout",
     "output_type": "stream",
     "text": [
      "0 G\n",
      "1 i\n",
      "2 l\n",
      "3 b\n",
      "4 e\n",
      "5 r\n",
      "6 t\n",
      "7 o\n"
     ]
    }
   ],
   "source": [
    "# acessando pelo index\n",
    "for i in range(len(nome)):\n",
    "    print(i, nome[i])\n"
   ]
  },
  {
   "cell_type": "code",
   "execution_count": 33,
   "metadata": {},
   "outputs": [
    {
     "name": "stdout",
     "output_type": "stream",
     "text": [
      "0 G\n",
      "1 i\n",
      "2 l\n",
      "3 b\n",
      "4 e\n",
      "5 r\n",
      "6 t\n",
      "7 o\n"
     ]
    }
   ],
   "source": [
    "# com enumerate\n",
    "for i, letra in enumerate(nome):\n",
    "    print(i, letra)"
   ]
  },
  {
   "cell_type": "code",
   "execution_count": 35,
   "metadata": {},
   "outputs": [
    {
     "name": "stdout",
     "output_type": "stream",
     "text": [
      "10 G\n",
      "11 i\n",
      "12 l\n",
      "13 b\n",
      "14 e\n",
      "15 r\n",
      "16 t\n",
      "17 o\n"
     ]
    }
   ],
   "source": [
    "# com enumerate começando a contagem em 10\n",
    "for i, letra in enumerate(nome, start=10):\n",
    "    print(i, letra)"
   ]
  },
  {
   "cell_type": "code",
   "execution_count": null,
   "metadata": {},
   "outputs": [],
   "source": []
  },
  {
   "cell_type": "markdown",
   "metadata": {},
   "source": [
    "Apesar de se parecer com uma lista, a string não tem exatamente as propriedades de uma lista. Por exemplo, **não podemos alterar** caracteres individualmente:"
   ]
  },
  {
   "cell_type": "code",
   "execution_count": 39,
   "metadata": {},
   "outputs": [],
   "source": [
    "lista = ['Breno', 'Gil', 'Chris']"
   ]
  },
  {
   "cell_type": "code",
   "execution_count": 40,
   "metadata": {},
   "outputs": [
    {
     "data": {
      "text/plain": [
       "['Breno', 'Gil', 'Chris']"
      ]
     },
     "execution_count": 40,
     "metadata": {},
     "output_type": "execute_result"
    }
   ],
   "source": [
    "lista"
   ]
  },
  {
   "cell_type": "code",
   "execution_count": 41,
   "metadata": {},
   "outputs": [],
   "source": [
    "lista[1] = 'Gilberto'"
   ]
  },
  {
   "cell_type": "code",
   "execution_count": 42,
   "metadata": {},
   "outputs": [
    {
     "data": {
      "text/plain": [
       "['Breno', 'Gilberto', 'Chris']"
      ]
     },
     "execution_count": 42,
     "metadata": {},
     "output_type": "execute_result"
    }
   ],
   "source": [
    "lista"
   ]
  },
  {
   "cell_type": "code",
   "execution_count": null,
   "metadata": {},
   "outputs": [],
   "source": []
  },
  {
   "cell_type": "code",
   "execution_count": 44,
   "metadata": {},
   "outputs": [],
   "source": [
    "nome = 'Gilberto'"
   ]
  },
  {
   "cell_type": "code",
   "execution_count": 45,
   "metadata": {},
   "outputs": [
    {
     "data": {
      "text/plain": [
       "'o'"
      ]
     },
     "execution_count": 45,
     "metadata": {},
     "output_type": "execute_result"
    }
   ],
   "source": [
    "nome[-1]"
   ]
  },
  {
   "cell_type": "code",
   "execution_count": 46,
   "metadata": {},
   "outputs": [
    {
     "ename": "TypeError",
     "evalue": "'str' object does not support item assignment",
     "output_type": "error",
     "traceback": [
      "\u001b[0;31m---------------------------------------------------------------------------\u001b[0m",
      "\u001b[0;31mTypeError\u001b[0m                                 Traceback (most recent call last)",
      "\u001b[0;32m<ipython-input-46-526e7bf18cf7>\u001b[0m in \u001b[0;36m<module>\u001b[0;34m\u001b[0m\n\u001b[1;32m      1\u001b[0m \u001b[0;31m# alterando um caracter pelo index\u001b[0m\u001b[0;34m\u001b[0m\u001b[0;34m\u001b[0m\u001b[0;34m\u001b[0m\u001b[0m\n\u001b[0;32m----> 2\u001b[0;31m \u001b[0mnome\u001b[0m\u001b[0;34m[\u001b[0m\u001b[0;34m-\u001b[0m\u001b[0;36m1\u001b[0m\u001b[0;34m]\u001b[0m \u001b[0;34m=\u001b[0m \u001b[0;34m'oo'\u001b[0m\u001b[0;34m\u001b[0m\u001b[0;34m\u001b[0m\u001b[0m\n\u001b[0m",
      "\u001b[0;31mTypeError\u001b[0m: 'str' object does not support item assignment"
     ]
    }
   ],
   "source": [
    "# alterando um caracter pelo index\n",
    "nome[-1] = 'oo'"
   ]
  },
  {
   "cell_type": "code",
   "execution_count": 47,
   "metadata": {},
   "outputs": [],
   "source": [
    "nome = 'Gilbertoo'"
   ]
  },
  {
   "cell_type": "markdown",
   "metadata": {},
   "source": [
    "Mas nós conseguimos **alterar caracteres (ou palavras)** com o método \"replace()\":"
   ]
  },
  {
   "cell_type": "code",
   "execution_count": 48,
   "metadata": {},
   "outputs": [],
   "source": [
    "frase = 'Hoje esta um bom dia!'"
   ]
  },
  {
   "cell_type": "code",
   "execution_count": 51,
   "metadata": {},
   "outputs": [],
   "source": [
    "# replace(old, new, count)\n",
    "frase = frase.replace('esta', 'está')"
   ]
  },
  {
   "cell_type": "code",
   "execution_count": 52,
   "metadata": {},
   "outputs": [
    {
     "data": {
      "text/plain": [
       "'Hoje está um bom dia'"
      ]
     },
     "execution_count": 52,
     "metadata": {},
     "output_type": "execute_result"
    }
   ],
   "source": [
    "frase"
   ]
  },
  {
   "cell_type": "code",
   "execution_count": 60,
   "metadata": {},
   "outputs": [],
   "source": [
    "frase = 'A banana esta triste, enquanto a maça esta feliz na mesa. esta mesa é muito bonita'\n",
    "# ultimo parametro: quantidade de primeiras aparições do caractere a ser substituido"
   ]
  },
  {
   "cell_type": "code",
   "execution_count": 62,
   "metadata": {},
   "outputs": [
    {
     "data": {
      "text/plain": [
       "'A banana está triste, enquanto a maça está feliz na mesa. esta mesa é muito bonita'"
      ]
     },
     "execution_count": 62,
     "metadata": {},
     "output_type": "execute_result"
    }
   ],
   "source": [
    "frase.replace('esta', 'está', 2)"
   ]
  },
  {
   "cell_type": "code",
   "execution_count": 63,
   "metadata": {},
   "outputs": [],
   "source": [
    "frase = \"Hoje é segunda feira\""
   ]
  },
  {
   "cell_type": "code",
   "execution_count": 65,
   "metadata": {},
   "outputs": [
    {
     "data": {
      "text/plain": [
       "'Hoje é segunda feira'"
      ]
     },
     "execution_count": 65,
     "metadata": {},
     "output_type": "execute_result"
    }
   ],
   "source": [
    "frase.replace(' e ', 'é')"
   ]
  },
  {
   "cell_type": "code",
   "execution_count": 275,
   "metadata": {},
   "outputs": [
    {
     "data": {
      "text/plain": [
       "'b Boeboletb é bzul'"
      ]
     },
     "execution_count": 275,
     "metadata": {},
     "output_type": "execute_result"
    }
   ],
   "source": [
    "# Juntando vários replaces\n",
    "frase = 'A Borboleta é azul'\n",
    "frase.replace('a', 'b').replace('A', 'b').replace('r', 'e')"
   ]
  },
  {
   "cell_type": "markdown",
   "metadata": {},
   "source": [
    "Podemos **transformar uma string em uma lista de caracteres**, explicitamente, usando a fução \"list()\""
   ]
  },
  {
   "cell_type": "code",
   "execution_count": 66,
   "metadata": {},
   "outputs": [
    {
     "data": {
      "text/plain": [
       "['a', 'b', 'a', 'c', 'a', 't', 'e']"
      ]
     },
     "execution_count": 66,
     "metadata": {},
     "output_type": "execute_result"
    }
   ],
   "source": [
    "list('abacate')"
   ]
  },
  {
   "cell_type": "code",
   "execution_count": 67,
   "metadata": {},
   "outputs": [],
   "source": [
    "# list(string)\n",
    "lista_frase = list(frase)\n"
   ]
  },
  {
   "cell_type": "code",
   "execution_count": 68,
   "metadata": {},
   "outputs": [
    {
     "data": {
      "text/plain": [
       "['H',\n",
       " 'o',\n",
       " 'j',\n",
       " 'e',\n",
       " ' ',\n",
       " 'é',\n",
       " ' ',\n",
       " 's',\n",
       " 'e',\n",
       " 'g',\n",
       " 'u',\n",
       " 'n',\n",
       " 'd',\n",
       " 'a',\n",
       " ' ',\n",
       " 'f',\n",
       " 'e',\n",
       " 'i',\n",
       " 'r',\n",
       " 'a']"
      ]
     },
     "execution_count": 68,
     "metadata": {},
     "output_type": "execute_result"
    }
   ],
   "source": [
    "lista_frase"
   ]
  },
  {
   "cell_type": "code",
   "execution_count": null,
   "metadata": {},
   "outputs": [],
   "source": []
  },
  {
   "cell_type": "markdown",
   "metadata": {},
   "source": [
    "Agora sim, podemos alterar um elemento da lista:"
   ]
  },
  {
   "cell_type": "code",
   "execution_count": 70,
   "metadata": {},
   "outputs": [],
   "source": [
    "# Como é uma lista conseguimos alterar um unico elemento\n",
    "lista_frase[0] = 'I'"
   ]
  },
  {
   "cell_type": "code",
   "execution_count": 71,
   "metadata": {},
   "outputs": [
    {
     "data": {
      "text/plain": [
       "['I',\n",
       " 'o',\n",
       " 'j',\n",
       " 'e',\n",
       " ' ',\n",
       " 'é',\n",
       " ' ',\n",
       " 's',\n",
       " 'e',\n",
       " 'g',\n",
       " 'u',\n",
       " 'n',\n",
       " 'd',\n",
       " 'a',\n",
       " ' ',\n",
       " 'f',\n",
       " 'e',\n",
       " 'i',\n",
       " 'r',\n",
       " 'a']"
      ]
     },
     "execution_count": 71,
     "metadata": {},
     "output_type": "execute_result"
    }
   ],
   "source": [
    "lista_frase"
   ]
  },
  {
   "cell_type": "code",
   "execution_count": null,
   "metadata": {},
   "outputs": [],
   "source": []
  },
  {
   "cell_type": "code",
   "execution_count": 73,
   "metadata": {},
   "outputs": [],
   "source": [
    "lista_frase_limpa = []\n",
    "for char in lista_frase:\n",
    "    if char == 'é':\n",
    "        char = 'e'\n",
    "    lista_frase_limpa.append(char)"
   ]
  },
  {
   "cell_type": "code",
   "execution_count": 76,
   "metadata": {},
   "outputs": [],
   "source": [
    "str_listra_frase_limpa = ''\n",
    "for char in lista_frase_limpa:\n",
    "    str_listra_frase_limpa += char"
   ]
  },
  {
   "cell_type": "code",
   "execution_count": 77,
   "metadata": {},
   "outputs": [
    {
     "data": {
      "text/plain": [
       "'Ioje e segunda feira'"
      ]
     },
     "execution_count": 77,
     "metadata": {},
     "output_type": "execute_result"
    }
   ],
   "source": [
    "str_listra_frase_limpa"
   ]
  },
  {
   "cell_type": "markdown",
   "metadata": {},
   "source": [
    "E, pra trasnformar a lista de volta pra string, usamos a função \"join()\":"
   ]
  },
  {
   "cell_type": "code",
   "execution_count": 82,
   "metadata": {},
   "outputs": [
    {
     "data": {
      "text/plain": [
       "['I', 'o', 'j']"
      ]
     },
     "execution_count": 82,
     "metadata": {},
     "output_type": "execute_result"
    }
   ],
   "source": [
    "lista_frase_limpa[0:3]"
   ]
  },
  {
   "cell_type": "code",
   "execution_count": 84,
   "metadata": {},
   "outputs": [
    {
     "data": {
      "text/plain": [
       "'I o j e   e   s e g u n d a   f e i r a'"
      ]
     },
     "execution_count": 84,
     "metadata": {},
     "output_type": "execute_result"
    }
   ],
   "source": [
    "# join(lista)\n",
    "' '.join(lista_frase_limpa)"
   ]
  },
  {
   "cell_type": "markdown",
   "metadata": {},
   "source": [
    "Um exemplo do uso do .join() pra juntar os números de uma lista em um único numero"
   ]
  },
  {
   "cell_type": "code",
   "execution_count": 87,
   "metadata": {},
   "outputs": [
    {
     "data": {
      "text/plain": [
       "'[2021, 6, 21]'"
      ]
     },
     "execution_count": 87,
     "metadata": {},
     "output_type": "execute_result"
    }
   ],
   "source": []
  },
  {
   "cell_type": "code",
   "execution_count": 88,
   "metadata": {},
   "outputs": [
    {
     "data": {
      "text/plain": [
       "'2021/6/21'"
      ]
     },
     "execution_count": 88,
     "metadata": {},
     "output_type": "execute_result"
    }
   ],
   "source": [
    "# Concatenando números\n",
    "\n",
    "lista_num = [2021, 6, 21]\n",
    "'/'.join([str(num) for num in lista_num])\n"
   ]
  },
  {
   "cell_type": "markdown",
   "metadata": {},
   "source": [
    "Como já vimos, podemos fazer **operações com strings**:"
   ]
  },
  {
   "cell_type": "markdown",
   "metadata": {},
   "source": [
    "Soma de strings: ao somar duas strings, elas são concatenadas:"
   ]
  },
  {
   "cell_type": "code",
   "execution_count": 90,
   "metadata": {},
   "outputs": [
    {
     "data": {
      "text/plain": [
       "'Danilo é amigo'"
      ]
     },
     "execution_count": 90,
     "metadata": {},
     "output_type": "execute_result"
    }
   ],
   "source": [
    "# str + str\n",
    "'Danilo ' + 'é ' + 'amigo'"
   ]
  },
  {
   "cell_type": "markdown",
   "metadata": {},
   "source": [
    "Multiplicação de string por inteiro: ao multiplicar uma string por um número inteiro, a string é repetida:"
   ]
  },
  {
   "cell_type": "code",
   "execution_count": 91,
   "metadata": {},
   "outputs": [
    {
     "data": {
      "text/plain": [
       "'DaniloDaniloDaniloDaniloDaniloDaniloDaniloDaniloDaniloDanilo'"
      ]
     },
     "execution_count": 91,
     "metadata": {},
     "output_type": "execute_result"
    }
   ],
   "source": [
    "# str * int\n",
    "'Danilo' * 10"
   ]
  },
  {
   "cell_type": "markdown",
   "metadata": {},
   "source": [
    "__________\n",
    "__________\n",
    "__________"
   ]
  },
  {
   "cell_type": "markdown",
   "metadata": {},
   "source": [
    "## 2) Funções de strings\n",
    "\n",
    "Como listas, strings também têm algumas funções específicas. Algumas delas são:"
   ]
  },
  {
   "cell_type": "markdown",
   "metadata": {},
   "source": [
    ".upper(): transforma todos os caracteres em maiúscula"
   ]
  },
  {
   "cell_type": "code",
   "execution_count": 92,
   "metadata": {},
   "outputs": [],
   "source": [
    "nome = 'leandro'"
   ]
  },
  {
   "cell_type": "code",
   "execution_count": 93,
   "metadata": {},
   "outputs": [
    {
     "data": {
      "text/plain": [
       "'LEANDRO'"
      ]
     },
     "execution_count": 93,
     "metadata": {},
     "output_type": "execute_result"
    }
   ],
   "source": [
    "# upper()\n",
    "nome.upper()"
   ]
  },
  {
   "cell_type": "markdown",
   "metadata": {},
   "source": [
    ".lower(): trasnforma todos os caracteres em minúscula"
   ]
  },
  {
   "cell_type": "code",
   "execution_count": 95,
   "metadata": {},
   "outputs": [
    {
     "data": {
      "text/plain": [
       "'leandro'"
      ]
     },
     "execution_count": 95,
     "metadata": {},
     "output_type": "execute_result"
    }
   ],
   "source": [
    "# lower()\n",
    "nome = 'LEANDRO'\n",
    "nome.lower()"
   ]
  },
  {
   "cell_type": "code",
   "execution_count": 96,
   "metadata": {},
   "outputs": [
    {
     "data": {
      "text/plain": [
       "'leandro'"
      ]
     },
     "execution_count": 96,
     "metadata": {},
     "output_type": "execute_result"
    }
   ],
   "source": [
    "nome = 'LeANdro'\n",
    "nome.lower()"
   ]
  },
  {
   "cell_type": "markdown",
   "metadata": {},
   "source": [
    ".title(): deixa a primeira letra de cada palavra em maiúscula"
   ]
  },
  {
   "cell_type": "code",
   "execution_count": 100,
   "metadata": {},
   "outputs": [],
   "source": [
    "# title\n",
    "titulo = 'na mira do iNImigo'"
   ]
  },
  {
   "cell_type": "code",
   "execution_count": 101,
   "metadata": {},
   "outputs": [
    {
     "data": {
      "text/plain": [
       "'na mira do iNImigo'"
      ]
     },
     "execution_count": 101,
     "metadata": {},
     "output_type": "execute_result"
    }
   ],
   "source": [
    "titulo"
   ]
  },
  {
   "cell_type": "code",
   "execution_count": 104,
   "metadata": {},
   "outputs": [],
   "source": [
    "titulo = titulo.title()"
   ]
  },
  {
   "cell_type": "code",
   "execution_count": 105,
   "metadata": {},
   "outputs": [
    {
     "data": {
      "text/plain": [
       "'Na Mira Do Inimigo'"
      ]
     },
     "execution_count": 105,
     "metadata": {},
     "output_type": "execute_result"
    }
   ],
   "source": [
    "titulo"
   ]
  },
  {
   "cell_type": "code",
   "execution_count": 107,
   "metadata": {},
   "outputs": [
    {
     "data": {
      "text/plain": [
       "'Uma Boa Época Para Viver'"
      ]
     },
     "execution_count": 107,
     "metadata": {},
     "output_type": "execute_result"
    }
   ],
   "source": [
    "'uma boa época para viver'.title()"
   ]
  },
  {
   "cell_type": "markdown",
   "metadata": {},
   "source": [
    ".capitalize(): deixa a primeira letra da primeira palavra em maiúscula"
   ]
  },
  {
   "cell_type": "code",
   "execution_count": 110,
   "metadata": {},
   "outputs": [],
   "source": [
    "# capitalize\n",
    "frase = 'uma boa época para viver. e uma boa semana para aprender'"
   ]
  },
  {
   "cell_type": "code",
   "execution_count": 111,
   "metadata": {},
   "outputs": [
    {
     "data": {
      "text/plain": [
       "'Uma boa época para viver. e uma boa semana para aprender'"
      ]
     },
     "execution_count": 111,
     "metadata": {},
     "output_type": "execute_result"
    }
   ],
   "source": [
    "frase.capitalize()"
   ]
  },
  {
   "cell_type": "markdown",
   "metadata": {},
   "source": [
    "É possível quebrar uma string em determinado caractere, tendo como resultado uma **lista com os caracteres além da quebra**.\n",
    "\n",
    "- Para quebrar nos espaços, use a função \".split()\", sem argumento"
   ]
  },
  {
   "cell_type": "code",
   "execution_count": 116,
   "metadata": {},
   "outputs": [],
   "source": [
    "# Quebrando uma string utilizando o split\n",
    "frase = 'uma boa época para viver. e uma boa semana para aprender'"
   ]
  },
  {
   "cell_type": "code",
   "execution_count": 118,
   "metadata": {},
   "outputs": [],
   "source": [
    "frase_sep = frase.split()"
   ]
  },
  {
   "cell_type": "code",
   "execution_count": 127,
   "metadata": {},
   "outputs": [
    {
     "data": {
      "text/plain": [
       "'uma boa época para viver. e uma boa semana para aprender'"
      ]
     },
     "execution_count": 127,
     "metadata": {},
     "output_type": "execute_result"
    }
   ],
   "source": [
    "' '.join(frase_sep)"
   ]
  },
  {
   "cell_type": "code",
   "execution_count": 126,
   "metadata": {},
   "outputs": [
    {
     "data": {
      "text/plain": [
       "'UMA boa ÉPOCA para VIVER. e UMA boa SEMANA para APRENDER'"
      ]
     },
     "execution_count": 126,
     "metadata": {},
     "output_type": "execute_result"
    }
   ],
   "source": [
    "' '.join([palavra.upper() if i % 2 == 0 else palavra for i, palavra in enumerate(frase_sep)])"
   ]
  },
  {
   "cell_type": "markdown",
   "metadata": {},
   "source": [
    "- Para quebrar em algum caracter, use o caractere como argumento:"
   ]
  },
  {
   "cell_type": "code",
   "execution_count": null,
   "metadata": {},
   "outputs": [],
   "source": [
    "# split por um separador"
   ]
  },
  {
   "cell_type": "code",
   "execution_count": 132,
   "metadata": {},
   "outputs": [
    {
     "data": {
      "text/plain": [
       "['uma boa época para viver', ' e uma boa semana para aprender']"
      ]
     },
     "execution_count": 132,
     "metadata": {},
     "output_type": "execute_result"
    }
   ],
   "source": [
    "frase.split('.')"
   ]
  },
  {
   "cell_type": "code",
   "execution_count": 133,
   "metadata": {},
   "outputs": [
    {
     "data": {
      "text/plain": [
       "['um',\n",
       " ' bo',\n",
       " ' époc',\n",
       " ' p',\n",
       " 'r',\n",
       " ' viver. e um',\n",
       " ' bo',\n",
       " ' sem',\n",
       " 'n',\n",
       " ' p',\n",
       " 'r',\n",
       " ' ',\n",
       " 'prender']"
      ]
     },
     "execution_count": 133,
     "metadata": {},
     "output_type": "execute_result"
    }
   ],
   "source": [
    "frase.split('a')"
   ]
  },
  {
   "cell_type": "code",
   "execution_count": 134,
   "metadata": {},
   "outputs": [
    {
     "data": {
      "text/plain": [
       "['uma boa época para viv', '. e uma boa semana para aprend', '']"
      ]
     },
     "execution_count": 134,
     "metadata": {},
     "output_type": "execute_result"
    }
   ],
   "source": [
    "frase.split('er')"
   ]
  },
  {
   "cell_type": "code",
   "execution_count": 131,
   "metadata": {},
   "outputs": [
    {
     "data": {
      "text/plain": [
       "['uma boa época para viver. e uma boa semana para aprender']"
      ]
     },
     "execution_count": 131,
     "metadata": {},
     "output_type": "execute_result"
    }
   ],
   "source": [
    "frase.split('djsklsalj')"
   ]
  },
  {
   "cell_type": "code",
   "execution_count": 145,
   "metadata": {},
   "outputs": [],
   "source": [
    "marks = '.?!;:'\n",
    "frase2 = frase\n",
    "for mark in marks:\n",
    "    frase2 = frase2.replace(mark, '!=!')\n"
   ]
  },
  {
   "cell_type": "code",
   "execution_count": null,
   "metadata": {},
   "outputs": [],
   "source": []
  },
  {
   "cell_type": "markdown",
   "metadata": {},
   "source": [
    "- Podemos contar a frequência de um caracter/palavra"
   ]
  },
  {
   "cell_type": "code",
   "execution_count": 147,
   "metadata": {},
   "outputs": [
    {
     "data": {
      "text/plain": [
       "'uma boa época para viver. e uma boa semana para aprender'"
      ]
     },
     "execution_count": 147,
     "metadata": {},
     "output_type": "execute_result"
    }
   ],
   "source": [
    "frase"
   ]
  },
  {
   "cell_type": "code",
   "execution_count": 151,
   "metadata": {},
   "outputs": [
    {
     "data": {
      "text/plain": [
       "12"
      ]
     },
     "execution_count": 151,
     "metadata": {},
     "output_type": "execute_result"
    }
   ],
   "source": [
    "# Utilizando count\n",
    "frase.count('a')"
   ]
  },
  {
   "cell_type": "markdown",
   "metadata": {},
   "source": [
    "__Tirar espaços que tão sobrando no fim e no início da string__\n",
    "\n",
    "Utilize a função strip()"
   ]
  },
  {
   "cell_type": "code",
   "execution_count": 153,
   "metadata": {},
   "outputs": [
    {
     "data": {
      "text/plain": [
       "['uma boa época para viver', ' e uma boa semana para aprender']"
      ]
     },
     "execution_count": 153,
     "metadata": {},
     "output_type": "execute_result"
    }
   ],
   "source": [
    "# Removendo espaços no inicio e fim -> strip\n",
    "frase.split('.')"
   ]
  },
  {
   "cell_type": "code",
   "execution_count": 156,
   "metadata": {},
   "outputs": [
    {
     "data": {
      "text/plain": [
       "'e uma boa semana para aprender'"
      ]
     },
     "execution_count": 156,
     "metadata": {},
     "output_type": "execute_result"
    }
   ],
   "source": [
    "'                             e uma boa semana para aprender'.strip()"
   ]
  },
  {
   "cell_type": "code",
   "execution_count": 157,
   "metadata": {},
   "outputs": [
    {
     "data": {
      "text/plain": [
       "'e uma boa semana para aprender'"
      ]
     },
     "execution_count": 157,
     "metadata": {},
     "output_type": "execute_result"
    }
   ],
   "source": [
    "'e uma boa semana para aprender                        '.strip()"
   ]
  },
  {
   "cell_type": "code",
   "execution_count": 158,
   "metadata": {},
   "outputs": [
    {
     "data": {
      "text/plain": [
       "'e uma boa semana para aprender'"
      ]
     },
     "execution_count": 158,
     "metadata": {},
     "output_type": "execute_result"
    }
   ],
   "source": [
    "'                 e uma boa semana para aprender                        '.strip()"
   ]
  },
  {
   "cell_type": "markdown",
   "metadata": {},
   "source": [
    "Mas essa função não elimina espaços extrar no \"meio\" da string -- apenas no início e no fim!"
   ]
  },
  {
   "cell_type": "code",
   "execution_count": 160,
   "metadata": {},
   "outputs": [
    {
     "data": {
      "text/plain": [
       "'e uma boa semana            para aprender'"
      ]
     },
     "execution_count": 160,
     "metadata": {},
     "output_type": "execute_result"
    }
   ],
   "source": [
    "# strip remove espaços entre palavras?\n",
    "\n",
    "'       e uma boa semana            para aprender   '.strip()"
   ]
  },
  {
   "cell_type": "markdown",
   "metadata": {},
   "source": [
    "__Pra tirar espaços do meio, podemos fazer:__"
   ]
  },
  {
   "cell_type": "code",
   "execution_count": 164,
   "metadata": {},
   "outputs": [
    {
     "data": {
      "text/plain": [
       "['e uma boa semana', 'para aprender']"
      ]
     },
     "execution_count": 164,
     "metadata": {},
     "output_type": "execute_result"
    }
   ],
   "source": [
    "# Como podemos fazer?\n",
    "[subfrase.strip() for subfrase in '       e uma boa semana.            para aprender   '.split('.')]"
   ]
  },
  {
   "cell_type": "code",
   "execution_count": 165,
   "metadata": {},
   "outputs": [
    {
     "data": {
      "text/plain": [
       "'e uma boa semana para aprender'"
      ]
     },
     "execution_count": 165,
     "metadata": {},
     "output_type": "execute_result"
    }
   ],
   "source": [
    "# Com join\n",
    "' '.join([subfrase.strip() for subfrase in '       e uma boa semana.            para aprender   '.split('.')])"
   ]
  },
  {
   "cell_type": "code",
   "execution_count": 172,
   "metadata": {},
   "outputs": [
    {
     "data": {
      "text/plain": [
       "['Há algumas casas nesse bairro.', 'Há muitas pessoas felizes.', '']"
      ]
     },
     "execution_count": 172,
     "metadata": {},
     "output_type": "execute_result"
    }
   ],
   "source": [
    "frases = '''     Há algumas casas nesse bairro.\n",
    "   Há muitas pessoas felizes.\n",
    "'''\n",
    "[frase.strip() for frase in frases.split('\\n')]"
   ]
  },
  {
   "cell_type": "markdown",
   "metadata": {},
   "source": [
    "Ou:"
   ]
  },
  {
   "cell_type": "code",
   "execution_count": 186,
   "metadata": {},
   "outputs": [
    {
     "data": {
      "text/plain": [
       "'    e uma boa semana      para aprender  '"
      ]
     },
     "execution_count": 186,
     "metadata": {},
     "output_type": "execute_result"
    }
   ],
   "source": [
    "frase = '       e uma boa semana            para aprender   '\n",
    "\n",
    "\n",
    "frase.replace(\"  \", \" \", frase.count(\" \") - 1)"
   ]
  },
  {
   "cell_type": "code",
   "execution_count": 187,
   "metadata": {},
   "outputs": [
    {
     "name": "stdout",
     "output_type": "stream",
     "text": [
      "1     e uma boa semana      para aprender  \n",
      "2   e uma boa semana   para aprender \n",
      "3  e uma boa semana  para aprender \n",
      "4  e uma boa semana para aprender \n"
     ]
    }
   ],
   "source": [
    "i = 0\n",
    "while frase.count('  ') > 0:\n",
    "    i += 1\n",
    "    frase = frase.replace(\"  \", \" \")\n",
    "    print(i, frase)"
   ]
  },
  {
   "cell_type": "code",
   "execution_count": 188,
   "metadata": {},
   "outputs": [
    {
     "data": {
      "text/plain": [
       "'e uma boa semana para aprender'"
      ]
     },
     "execution_count": 188,
     "metadata": {},
     "output_type": "execute_result"
    }
   ],
   "source": [
    "frase.strip()"
   ]
  },
  {
   "cell_type": "code",
   "execution_count": 190,
   "metadata": {},
   "outputs": [],
   "source": [
    "frase = '       e uma boa semana            para aprender   '"
   ]
  },
  {
   "cell_type": "code",
   "execution_count": 195,
   "metadata": {},
   "outputs": [
    {
     "data": {
      "text/plain": [
       "'e uma boa semana para aprender'"
      ]
     },
     "execution_count": 195,
     "metadata": {},
     "output_type": "execute_result"
    }
   ],
   "source": [
    "# Com join\n",
    "' '.join(frase.split())"
   ]
  },
  {
   "cell_type": "markdown",
   "metadata": {},
   "source": [
    "Outras funções interessantes...\n",
    "\n",
    "- isdigit()\n",
    "- isalpha()\n",
    "- isalnum()\n",
    "- isspace()"
   ]
  },
  {
   "cell_type": "code",
   "execution_count": 196,
   "metadata": {},
   "outputs": [
    {
     "data": {
      "text/plain": [
       "True"
      ]
     },
     "execution_count": 196,
     "metadata": {},
     "output_type": "execute_result"
    }
   ],
   "source": [
    "'1'.isdigit()"
   ]
  },
  {
   "cell_type": "code",
   "execution_count": 197,
   "metadata": {},
   "outputs": [
    {
     "data": {
      "text/plain": [
       "False"
      ]
     },
     "execution_count": 197,
     "metadata": {},
     "output_type": "execute_result"
    }
   ],
   "source": [
    "'a'.isdigit()"
   ]
  },
  {
   "cell_type": "code",
   "execution_count": 198,
   "metadata": {},
   "outputs": [
    {
     "data": {
      "text/plain": [
       "False"
      ]
     },
     "execution_count": 198,
     "metadata": {},
     "output_type": "execute_result"
    }
   ],
   "source": [
    "'1.0'.isdigit()"
   ]
  },
  {
   "cell_type": "code",
   "execution_count": 200,
   "metadata": {},
   "outputs": [
    {
     "data": {
      "text/plain": [
       "True"
      ]
     },
     "execution_count": 200,
     "metadata": {},
     "output_type": "execute_result"
    }
   ],
   "source": [
    "'a'.isalpha()"
   ]
  },
  {
   "cell_type": "code",
   "execution_count": 201,
   "metadata": {},
   "outputs": [
    {
     "data": {
      "text/plain": [
       "False"
      ]
     },
     "execution_count": 201,
     "metadata": {},
     "output_type": "execute_result"
    }
   ],
   "source": [
    "'!'.isalpha()"
   ]
  },
  {
   "cell_type": "code",
   "execution_count": 202,
   "metadata": {},
   "outputs": [
    {
     "data": {
      "text/plain": [
       "False"
      ]
     },
     "execution_count": 202,
     "metadata": {},
     "output_type": "execute_result"
    }
   ],
   "source": [
    "'1'.isalpha()"
   ]
  },
  {
   "cell_type": "code",
   "execution_count": 204,
   "metadata": {},
   "outputs": [
    {
     "data": {
      "text/plain": [
       "True"
      ]
     },
     "execution_count": 204,
     "metadata": {},
     "output_type": "execute_result"
    }
   ],
   "source": [
    "'10a'.isalnum()"
   ]
  },
  {
   "cell_type": "code",
   "execution_count": 217,
   "metadata": {},
   "outputs": [
    {
     "data": {
      "text/plain": [
       "True"
      ]
     },
     "execution_count": 217,
     "metadata": {},
     "output_type": "execute_result"
    }
   ],
   "source": [
    "'AAaa10'.isalnum()"
   ]
  },
  {
   "cell_type": "code",
   "execution_count": 211,
   "metadata": {},
   "outputs": [
    {
     "data": {
      "text/plain": [
       "False"
      ]
     },
     "execution_count": 211,
     "metadata": {},
     "output_type": "execute_result"
    }
   ],
   "source": [
    "'a'.isspace()"
   ]
  },
  {
   "cell_type": "code",
   "execution_count": 212,
   "metadata": {},
   "outputs": [
    {
     "data": {
      "text/plain": [
       "False"
      ]
     },
     "execution_count": 212,
     "metadata": {},
     "output_type": "execute_result"
    }
   ],
   "source": [
    "'a '.isspace()"
   ]
  },
  {
   "cell_type": "code",
   "execution_count": 213,
   "metadata": {},
   "outputs": [
    {
     "data": {
      "text/plain": [
       "True"
      ]
     },
     "execution_count": 213,
     "metadata": {},
     "output_type": "execute_result"
    }
   ],
   "source": [
    "' '.isspace()"
   ]
  },
  {
   "cell_type": "code",
   "execution_count": 231,
   "metadata": {},
   "outputs": [
    {
     "data": {
      "text/plain": [
       "False"
      ]
     },
     "execution_count": 231,
     "metadata": {},
     "output_type": "execute_result"
    }
   ],
   "source": [
    "'10a'.isdigit()"
   ]
  },
  {
   "cell_type": "code",
   "execution_count": 232,
   "metadata": {},
   "outputs": [
    {
     "data": {
      "text/plain": [
       "False"
      ]
     },
     "execution_count": 232,
     "metadata": {},
     "output_type": "execute_result"
    }
   ],
   "source": [
    "'10a'.isalpha()"
   ]
  },
  {
   "cell_type": "code",
   "execution_count": 233,
   "metadata": {},
   "outputs": [
    {
     "data": {
      "text/plain": [
       "True"
      ]
     },
     "execution_count": 233,
     "metadata": {},
     "output_type": "execute_result"
    }
   ],
   "source": [
    "'10a'.isalnum()"
   ]
  },
  {
   "cell_type": "code",
   "execution_count": 227,
   "metadata": {},
   "outputs": [
    {
     "name": "stdout",
     "output_type": "stream",
     "text": [
      "Lista de numeros ['2', '1', '2', '0', '2', '1', '1', '2', '5']\n",
      "Lista de caracteres ['S', 'ã', 'o', 'P', 'a', 'u', 'l', 'o', 's', 'e', 'g', 'u', 'n', 'd', 'a', 'f', 'e', 'i', 'r', 'a', 'd', 'e', 'j', 'u', 'n', 'h', 'o', 'd', 'e', 'E', 's', 't', 'á', 'u', 'm', 'l', 'i', 'n', 'd', 'o', 'd', 'i', 'a', 'T', 'e', 'm', 'p', 'e', 'r', 'a', 't', 'u', 'r', 'a', 'e', 's', 't', 'á', 'g', 'r', 'a', 'u', 's']\n",
      "Lista de pontuações ['-', '.', '!', '!', '!', '.', '?']\n"
     ]
    }
   ],
   "source": [
    "# Dado uma frase, vamos separar em digitos alpha [a-z] e pontuações\n",
    "frase = 'São Paulo segunda-feira 21 de junho de 2021. Está um lindo dia!!! Temperatura está 12.5 graus?'\n",
    "\n",
    "num = []\n",
    "letra = []\n",
    "pontos = []\n",
    "for char in frase:\n",
    "    if char.isdigit():\n",
    "        num.append(char)\n",
    "    elif char.isalpha():\n",
    "        letra.append(char)\n",
    "    elif char.isspace():\n",
    "#         print('É um espaço')\n",
    "        pass\n",
    "    else:\n",
    "        pontos.append(char)\n",
    "        \n",
    "        \n",
    "print('Lista de numeros', num)\n",
    "print('Lista de caracteres', letra)\n",
    "print('Lista de pontuações', pontos)"
   ]
  },
  {
   "cell_type": "code",
   "execution_count": 230,
   "metadata": {},
   "outputs": [
    {
     "name": "stdout",
     "output_type": "stream",
     "text": [
      "Lista de numeros ['2', '1', '2', '0', '2', '1', '1', '2', '5']\n",
      "Lista de caracteres ['S', 'ã', 'o', 'P', 'a', 'u', 'l', 'o', 's', 'e', 'g', 'u', 'n', 'd', 'a', 'f', 'e', 'i', 'r', 'a', 'd', 'e', 'j', 'u', 'n', 'h', 'o', 'd', 'e', 'E', 's', 't', 'á', 'u', 'm', 'l', 'i', 'n', 'd', 'o', 'd', 'i', 'a', 'T', 'e', 'm', 'p', 'e', 'r', 'a', 't', 'u', 'r', 'a', 'e', 's', 't', 'á', 'g', 'r', 'a', 'u', 's']\n",
      "Lista de pontuações ['-', '.', '!', '!', '!', '.', '?']\n"
     ]
    }
   ],
   "source": [
    "# Dado uma frase, vamos separar em digitos alpha [a-z] e pontuações\n",
    "frase = 'São Paulo segunda-feira 21 de junho de 2021. Está um lindo dia!!! Temperatura está 12.5 graus?'\n",
    "\n",
    "num = []\n",
    "letra = []\n",
    "pontos = []\n",
    "for char in frase:\n",
    "    if char.isdigit():\n",
    "        num.append(char)\n",
    "    elif char.isalpha():\n",
    "        letra.append(char)\n",
    "    elif not char.isspace():\n",
    "        pontos.append(char)\n",
    "#     else:\n",
    "#         pass\n",
    "        \n",
    "print('Lista de numeros', num)\n",
    "print('Lista de caracteres', letra)\n",
    "print('Lista de pontuações', pontos)"
   ]
  },
  {
   "cell_type": "code",
   "execution_count": null,
   "metadata": {},
   "outputs": [],
   "source": []
  },
  {
   "cell_type": "markdown",
   "metadata": {},
   "source": [
    "Podemos usar as funções acima para padronizar a resposta de um usuário!\n",
    "\n",
    "Utilizamos a função \n",
    "\n",
    "```unicodedata.normalize(\"NFD\", minha_string).encode(\"ascii\", \"ignore\").decode(\"utf-8\")```\n",
    "\n",
    "Para tirar acentos da string \"minha_string\"\n",
    "\n",
    "E o ```strip()``` é usado pra tirar espaços desnecessários do início e do fim de uma string"
   ]
  },
  {
   "cell_type": "code",
   "execution_count": 238,
   "metadata": {},
   "outputs": [],
   "source": [
    "import unicodedata"
   ]
  },
  {
   "cell_type": "code",
   "execution_count": 239,
   "metadata": {},
   "outputs": [
    {
     "name": "stdout",
     "output_type": "stream",
     "text": [
      "string original: Coração\n",
      "string padronizada: CORACAO\n"
     ]
    }
   ],
   "source": [
    "# mais um exemplo\n",
    "\n",
    "minha_string = \"Coração\"\n",
    "\n",
    "print(\"string original:\", minha_string)\n",
    "print(\"string padronizada:\", unicodedata.normalize(\"NFD\", minha_string).encode(\"ascii\", \"ignore\").decode(\"utf-8\").upper().strip())"
   ]
  },
  {
   "cell_type": "code",
   "execution_count": 246,
   "metadata": {},
   "outputs": [],
   "source": [
    "str_ascii = unicodedata.normalize(\"NFD\", minha_string).encode(\"ascii\", \"ignore\") "
   ]
  },
  {
   "cell_type": "code",
   "execution_count": 253,
   "metadata": {},
   "outputs": [
    {
     "data": {
      "text/plain": [
       "True"
      ]
     },
     "execution_count": 253,
     "metadata": {},
     "output_type": "execute_result"
    }
   ],
   "source": [
    "respostas = ['nao', 'n']\n",
    "minha_resposta = '   NãO'\n",
    "unicodedata.normalize(\"NFD\", minha_resposta).encode(\"ascii\", \"ignore\").decode(\"utf-8\").lower().strip() in respostas"
   ]
  },
  {
   "cell_type": "code",
   "execution_count": 259,
   "metadata": {},
   "outputs": [
    {
     "data": {
      "text/plain": [
       "'nao'"
      ]
     },
     "execution_count": 259,
     "metadata": {},
     "output_type": "execute_result"
    }
   ],
   "source": [
    "(unicodedata.normalize(\"NFD\", minha_resposta)  # Transformando em unicode\n",
    "            .encode(\"ascii\", \"ignore\")  # Transformando unicode -> ASCII -> removendo acentos e \"ç\"\n",
    "            .decode('utf-8')  # Transformando ASCII -> UTF-8\n",
    "            .lower()  # transformando a string em caixa baixa\n",
    "            .strip()  # removendo espaços extras na direita e esquerda da string\n",
    ")"
   ]
  },
  {
   "cell_type": "code",
   "execution_count": 268,
   "metadata": {},
   "outputs": [
    {
     "name": "stdin",
     "output_type": "stream",
     "text": [
      "Hoje vai chover NãO\n"
     ]
    }
   ],
   "source": [
    "respostas = ['nao', 'n', 'sim', 's']\n",
    "resposta_usuario = None\n",
    "while resposta_usuario not in respostas:\n",
    "    resposta_usuario = input('Hoje vai chover')\n",
    "    resposta_usuario = unicodedata.normalize(\"NFD\", resposta_usuario).encode(\"ascii\", \"ignore\").decode(\"utf-8\").lower().strip()\n"
   ]
  },
  {
   "cell_type": "markdown",
   "metadata": {},
   "source": [
    "Como pudemos ver acima, processar a string para que ela esteja em **determinado padrão** (por exemplo: em letras maiúsculas e sem acentos) é um passo muito importante para que operações de comparação entre strings funcionem perfeitamente sem erros!"
   ]
  },
  {
   "cell_type": "code",
   "execution_count": null,
   "metadata": {},
   "outputs": [],
   "source": [
    "import unicodedata\n",
    "respostas = ['nao', 'n', 'sim', 's']\n",
    "resposta_usuario = None\n",
    "while resposta_usuario not in respostas:\n",
    "    resposta_usuario = input('Hoje vai chover')\n",
    "    resposta_usuario = unicodedata.normalize(\"NFD\", resposta_usuario).encode(\"ascii\", \"ignore\").decode(\"utf-8\").lower().strip()\n"
   ]
  },
  {
   "cell_type": "markdown",
   "metadata": {},
   "source": [
    "___\n",
    "___"
   ]
  },
  {
   "cell_type": "markdown",
   "metadata": {},
   "source": [
    "### 2.1) Formatação de strings\n",
    "\n",
    "Também podemos **formatar strings**. Isso pode ser super útil tanto ao receber dados do usuário (input) quando ao exbibir dados pro usuário (print)"
   ]
  },
  {
   "cell_type": "markdown",
   "metadata": {},
   "source": [
    "Um dos usos mais legal do format é para **exibir** strings formatadas.\n",
    "\n",
    "Imagine que você queira exibir uma data no formato dd/mm/aaaa.\n",
    "\n",
    "Em situações normais, dias e meses inferiores a 10 apareceriam com apenas 1 dígito (int não é representado com zeros à esquerda). Porém, podemos especificar no format que gostaríamos de representar um inteiro com 2 dígitos, preenchendo com zero dígitos em branco (à esquerda): \n",
    "\n",
    "```python\n",
    "\n",
    "dia = 1\n",
    "mes = 2\n",
    "ano = 2020\n",
    "data = '{:02d}/{:02d}/{:04d}'.format(dia, mes, ano)\n",
    "print(data) # resultado: 01/02/2020\n",
    "```\n",
    "\n",
    "O símbolo 'd' indica que estamos representando números **inteiros** em base decimal (dígitos de 0 a 9). \n",
    "\n",
    "Os símbolos '2' e '4' indicam, respectivamente, 2 dígitos ou 4 dígitos. \n",
    "\n",
    "o símbolo '0' indica que se faltar dígitos, os espaços devem ser preenchidos com zero"
   ]
  },
  {
   "cell_type": "code",
   "execution_count": 280,
   "metadata": {},
   "outputs": [
    {
     "data": {
      "text/plain": [
       "'01/06/2021'"
      ]
     },
     "execution_count": 280,
     "metadata": {},
     "output_type": "execute_result"
    }
   ],
   "source": [
    "dia = 1\n",
    "'{:02d}/06/2021'.format(dia)\n"
   ]
  },
  {
   "cell_type": "code",
   "execution_count": 286,
   "metadata": {
    "scrolled": true,
    "tags": []
   },
   "outputs": [
    {
     "name": "stdout",
     "output_type": "stream",
     "text": [
      "01/06/2021\n",
      "01/06/2021\n",
      "--------------------------\n",
      "02/06/2021\n",
      "02/06/2021\n",
      "--------------------------\n",
      "03/06/2021\n",
      "03/06/2021\n",
      "--------------------------\n",
      "04/06/2021\n",
      "04/06/2021\n",
      "--------------------------\n",
      "05/06/2021\n",
      "05/06/2021\n",
      "--------------------------\n",
      "06/06/2021\n",
      "06/06/2021\n",
      "--------------------------\n",
      "07/06/2021\n",
      "07/06/2021\n",
      "--------------------------\n",
      "08/06/2021\n",
      "08/06/2021\n",
      "--------------------------\n",
      "09/06/2021\n",
      "09/06/2021\n",
      "--------------------------\n",
      "10/06/2021\n",
      "10/06/2021\n",
      "--------------------------\n",
      "11/06/2021\n",
      "11/06/2021\n",
      "--------------------------\n",
      "12/06/2021\n",
      "12/06/2021\n",
      "--------------------------\n",
      "13/06/2021\n",
      "13/06/2021\n",
      "--------------------------\n",
      "14/06/2021\n",
      "14/06/2021\n",
      "--------------------------\n",
      "15/06/2021\n",
      "15/06/2021\n",
      "--------------------------\n",
      "16/06/2021\n",
      "16/06/2021\n",
      "--------------------------\n",
      "17/06/2021\n",
      "17/06/2021\n",
      "--------------------------\n",
      "18/06/2021\n",
      "18/06/2021\n",
      "--------------------------\n",
      "19/06/2021\n",
      "19/06/2021\n",
      "--------------------------\n",
      "20/06/2021\n",
      "20/06/2021\n",
      "--------------------------\n",
      "21/06/2021\n",
      "21/06/2021\n",
      "--------------------------\n",
      "22/06/2021\n",
      "22/06/2021\n",
      "--------------------------\n",
      "23/06/2021\n",
      "23/06/2021\n",
      "--------------------------\n",
      "24/06/2021\n",
      "24/06/2021\n",
      "--------------------------\n",
      "25/06/2021\n",
      "25/06/2021\n",
      "--------------------------\n",
      "26/06/2021\n",
      "26/06/2021\n",
      "--------------------------\n",
      "27/06/2021\n",
      "27/06/2021\n",
      "--------------------------\n",
      "28/06/2021\n",
      "28/06/2021\n",
      "--------------------------\n",
      "29/06/2021\n",
      "29/06/2021\n",
      "--------------------------\n",
      "30/06/2021\n",
      "30/06/2021\n",
      "--------------------------\n"
     ]
    }
   ],
   "source": [
    "for dia in range(1, 31):\n",
    "    if dia < 10:\n",
    "        print('0'+ str(dia) + '/06/2021')\n",
    "    else:\n",
    "        print(str(dia) + '/06/2021')\n",
    "    print('{:02d}/06/2021'.format(dia))\n",
    "    print('-'*26)"
   ]
  },
  {
   "cell_type": "code",
   "execution_count": 288,
   "metadata": {
    "scrolled": true,
    "tags": []
   },
   "outputs": [
    {
     "name": "stdout",
     "output_type": "stream",
     "text": [
      "01/01/2021\n",
      "02/01/2021\n",
      "03/01/2021\n",
      "04/01/2021\n",
      "05/01/2021\n",
      "06/01/2021\n",
      "07/01/2021\n",
      "08/01/2021\n",
      "09/01/2021\n",
      "10/01/2021\n",
      "11/01/2021\n",
      "12/01/2021\n",
      "13/01/2021\n",
      "14/01/2021\n",
      "15/01/2021\n",
      "16/01/2021\n",
      "17/01/2021\n",
      "18/01/2021\n",
      "19/01/2021\n",
      "20/01/2021\n",
      "21/01/2021\n",
      "22/01/2021\n",
      "23/01/2021\n",
      "24/01/2021\n",
      "25/01/2021\n",
      "26/01/2021\n",
      "27/01/2021\n",
      "28/01/2021\n",
      "29/01/2021\n",
      "30/01/2021\n",
      "--------------------------\n",
      "01/02/2021\n",
      "02/02/2021\n",
      "03/02/2021\n",
      "04/02/2021\n",
      "05/02/2021\n",
      "06/02/2021\n",
      "07/02/2021\n",
      "08/02/2021\n",
      "09/02/2021\n",
      "10/02/2021\n",
      "11/02/2021\n",
      "12/02/2021\n",
      "13/02/2021\n",
      "14/02/2021\n",
      "15/02/2021\n",
      "16/02/2021\n",
      "17/02/2021\n",
      "18/02/2021\n",
      "19/02/2021\n",
      "20/02/2021\n",
      "21/02/2021\n",
      "22/02/2021\n",
      "23/02/2021\n",
      "24/02/2021\n",
      "25/02/2021\n",
      "26/02/2021\n",
      "27/02/2021\n",
      "28/02/2021\n",
      "29/02/2021\n",
      "30/02/2021\n",
      "--------------------------\n",
      "01/03/2021\n",
      "02/03/2021\n",
      "03/03/2021\n",
      "04/03/2021\n",
      "05/03/2021\n",
      "06/03/2021\n",
      "07/03/2021\n",
      "08/03/2021\n",
      "09/03/2021\n",
      "10/03/2021\n",
      "11/03/2021\n",
      "12/03/2021\n",
      "13/03/2021\n",
      "14/03/2021\n",
      "15/03/2021\n",
      "16/03/2021\n",
      "17/03/2021\n",
      "18/03/2021\n",
      "19/03/2021\n",
      "20/03/2021\n",
      "21/03/2021\n",
      "22/03/2021\n",
      "23/03/2021\n",
      "24/03/2021\n",
      "25/03/2021\n",
      "26/03/2021\n",
      "27/03/2021\n",
      "28/03/2021\n",
      "29/03/2021\n",
      "30/03/2021\n",
      "--------------------------\n",
      "01/04/2021\n",
      "02/04/2021\n",
      "03/04/2021\n",
      "04/04/2021\n",
      "05/04/2021\n",
      "06/04/2021\n",
      "07/04/2021\n",
      "08/04/2021\n",
      "09/04/2021\n",
      "10/04/2021\n",
      "11/04/2021\n",
      "12/04/2021\n",
      "13/04/2021\n",
      "14/04/2021\n",
      "15/04/2021\n",
      "16/04/2021\n",
      "17/04/2021\n",
      "18/04/2021\n",
      "19/04/2021\n",
      "20/04/2021\n",
      "21/04/2021\n",
      "22/04/2021\n",
      "23/04/2021\n",
      "24/04/2021\n",
      "25/04/2021\n",
      "26/04/2021\n",
      "27/04/2021\n",
      "28/04/2021\n",
      "29/04/2021\n",
      "30/04/2021\n",
      "--------------------------\n",
      "01/05/2021\n",
      "02/05/2021\n",
      "03/05/2021\n",
      "04/05/2021\n",
      "05/05/2021\n",
      "06/05/2021\n",
      "07/05/2021\n",
      "08/05/2021\n",
      "09/05/2021\n",
      "10/05/2021\n",
      "11/05/2021\n",
      "12/05/2021\n",
      "13/05/2021\n",
      "14/05/2021\n",
      "15/05/2021\n",
      "16/05/2021\n",
      "17/05/2021\n",
      "18/05/2021\n",
      "19/05/2021\n",
      "20/05/2021\n",
      "21/05/2021\n",
      "22/05/2021\n",
      "23/05/2021\n",
      "24/05/2021\n",
      "25/05/2021\n",
      "26/05/2021\n",
      "27/05/2021\n",
      "28/05/2021\n",
      "29/05/2021\n",
      "30/05/2021\n",
      "--------------------------\n",
      "01/06/2021\n",
      "02/06/2021\n",
      "03/06/2021\n",
      "04/06/2021\n",
      "05/06/2021\n",
      "06/06/2021\n",
      "07/06/2021\n",
      "08/06/2021\n",
      "09/06/2021\n",
      "10/06/2021\n",
      "11/06/2021\n",
      "12/06/2021\n",
      "13/06/2021\n",
      "14/06/2021\n",
      "15/06/2021\n",
      "16/06/2021\n",
      "17/06/2021\n",
      "18/06/2021\n",
      "19/06/2021\n",
      "20/06/2021\n",
      "21/06/2021\n",
      "22/06/2021\n",
      "23/06/2021\n",
      "24/06/2021\n",
      "25/06/2021\n",
      "26/06/2021\n",
      "27/06/2021\n",
      "28/06/2021\n",
      "29/06/2021\n",
      "30/06/2021\n",
      "--------------------------\n",
      "01/07/2021\n",
      "02/07/2021\n",
      "03/07/2021\n",
      "04/07/2021\n",
      "05/07/2021\n",
      "06/07/2021\n",
      "07/07/2021\n",
      "08/07/2021\n",
      "09/07/2021\n",
      "10/07/2021\n",
      "11/07/2021\n",
      "12/07/2021\n",
      "13/07/2021\n",
      "14/07/2021\n",
      "15/07/2021\n",
      "16/07/2021\n",
      "17/07/2021\n",
      "18/07/2021\n",
      "19/07/2021\n",
      "20/07/2021\n",
      "21/07/2021\n",
      "22/07/2021\n",
      "23/07/2021\n",
      "24/07/2021\n",
      "25/07/2021\n",
      "26/07/2021\n",
      "27/07/2021\n",
      "28/07/2021\n",
      "29/07/2021\n",
      "30/07/2021\n",
      "--------------------------\n",
      "01/08/2021\n",
      "02/08/2021\n",
      "03/08/2021\n",
      "04/08/2021\n",
      "05/08/2021\n",
      "06/08/2021\n",
      "07/08/2021\n",
      "08/08/2021\n",
      "09/08/2021\n",
      "10/08/2021\n",
      "11/08/2021\n",
      "12/08/2021\n",
      "13/08/2021\n",
      "14/08/2021\n",
      "15/08/2021\n",
      "16/08/2021\n",
      "17/08/2021\n",
      "18/08/2021\n",
      "19/08/2021\n",
      "20/08/2021\n",
      "21/08/2021\n",
      "22/08/2021\n",
      "23/08/2021\n",
      "24/08/2021\n",
      "25/08/2021\n",
      "26/08/2021\n",
      "27/08/2021\n",
      "28/08/2021\n",
      "29/08/2021\n",
      "30/08/2021\n",
      "--------------------------\n",
      "01/09/2021\n",
      "02/09/2021\n",
      "03/09/2021\n",
      "04/09/2021\n",
      "05/09/2021\n",
      "06/09/2021\n",
      "07/09/2021\n",
      "08/09/2021\n",
      "09/09/2021\n",
      "10/09/2021\n",
      "11/09/2021\n",
      "12/09/2021\n",
      "13/09/2021\n",
      "14/09/2021\n",
      "15/09/2021\n",
      "16/09/2021\n",
      "17/09/2021\n",
      "18/09/2021\n",
      "19/09/2021\n",
      "20/09/2021\n",
      "21/09/2021\n",
      "22/09/2021\n",
      "23/09/2021\n",
      "24/09/2021\n",
      "25/09/2021\n",
      "26/09/2021\n",
      "27/09/2021\n",
      "28/09/2021\n",
      "29/09/2021\n",
      "30/09/2021\n",
      "--------------------------\n",
      "01/10/2021\n",
      "02/10/2021\n",
      "03/10/2021\n",
      "04/10/2021\n",
      "05/10/2021\n",
      "06/10/2021\n",
      "07/10/2021\n",
      "08/10/2021\n",
      "09/10/2021\n",
      "10/10/2021\n",
      "11/10/2021\n",
      "12/10/2021\n",
      "13/10/2021\n",
      "14/10/2021\n",
      "15/10/2021\n",
      "16/10/2021\n",
      "17/10/2021\n",
      "18/10/2021\n",
      "19/10/2021\n",
      "20/10/2021\n",
      "21/10/2021\n",
      "22/10/2021\n",
      "23/10/2021\n",
      "24/10/2021\n",
      "25/10/2021\n",
      "26/10/2021\n",
      "27/10/2021\n",
      "28/10/2021\n",
      "29/10/2021\n",
      "30/10/2021\n",
      "--------------------------\n",
      "01/11/2021\n",
      "02/11/2021\n",
      "03/11/2021\n",
      "04/11/2021\n",
      "05/11/2021\n",
      "06/11/2021\n",
      "07/11/2021\n",
      "08/11/2021\n",
      "09/11/2021\n",
      "10/11/2021\n",
      "11/11/2021\n",
      "12/11/2021\n",
      "13/11/2021\n",
      "14/11/2021\n",
      "15/11/2021\n",
      "16/11/2021\n",
      "17/11/2021\n",
      "18/11/2021\n",
      "19/11/2021\n",
      "20/11/2021\n",
      "21/11/2021\n",
      "22/11/2021\n",
      "23/11/2021\n",
      "24/11/2021\n",
      "25/11/2021\n",
      "26/11/2021\n",
      "27/11/2021\n",
      "28/11/2021\n",
      "29/11/2021\n",
      "30/11/2021\n",
      "--------------------------\n",
      "01/12/2021\n",
      "02/12/2021\n",
      "03/12/2021\n",
      "04/12/2021\n",
      "05/12/2021\n",
      "06/12/2021\n",
      "07/12/2021\n",
      "08/12/2021\n",
      "09/12/2021\n",
      "10/12/2021\n",
      "11/12/2021\n",
      "12/12/2021\n",
      "13/12/2021\n",
      "14/12/2021\n",
      "15/12/2021\n",
      "16/12/2021\n",
      "17/12/2021\n",
      "18/12/2021\n",
      "19/12/2021\n",
      "20/12/2021\n",
      "21/12/2021\n",
      "22/12/2021\n",
      "23/12/2021\n",
      "24/12/2021\n",
      "25/12/2021\n",
      "26/12/2021\n",
      "27/12/2021\n",
      "28/12/2021\n",
      "29/12/2021\n",
      "30/12/2021\n",
      "--------------------------\n"
     ]
    }
   ],
   "source": [
    "for mes in range(1, 13):\n",
    "    for dia in range(1, 31):\n",
    "        print('{:02d}/{:02d}/2021'.format(dia, mes))\n",
    "    print('-'*26)"
   ]
  },
  {
   "cell_type": "code",
   "execution_count": 305,
   "metadata": {},
   "outputs": [
    {
     "name": "stdout",
     "output_type": "stream",
     "text": [
      "01/01/2021\n",
      "02/01/2021\n",
      "03/01/2021\n",
      "04/01/2021\n",
      "--------------------------\n",
      "01/01/2022\n",
      "02/01/2022\n",
      "03/01/2022\n",
      "04/01/2022\n",
      "--------------------------\n"
     ]
    }
   ],
   "source": [
    "for ano in [2021, 2022]:\n",
    "    for mes in range(1, 2):\n",
    "        for dia in range(1, 5):\n",
    "            print('{:02d}/{:02d}/{:04d}'.format(dia, mes, ano))\n",
    "        print('-'*26)"
   ]
  },
  {
   "cell_type": "code",
   "execution_count": 312,
   "metadata": {},
   "outputs": [
    {
     "name": "stdout",
     "output_type": "stream",
     "text": [
      "01/01/2021\n",
      "02/01/2021\n",
      "03/01/2021\n",
      "04/01/2021\n",
      "--------------------------\n",
      "01/01/2022\n",
      "02/01/2022\n",
      "03/01/2022\n",
      "04/01/2022\n",
      "--------------------------\n"
     ]
    }
   ],
   "source": [
    "for ano in range(1, 3):\n",
    "    for mes in range(1, 2):\n",
    "        for dia in range(1, 5):\n",
    "            print('{:02d}/{:02d}/202{}'.format(dia, mes, ano))\n",
    "        print('-'*26)"
   ]
  },
  {
   "cell_type": "code",
   "execution_count": null,
   "metadata": {},
   "outputs": [],
   "source": []
  },
  {
   "cell_type": "markdown",
   "metadata": {},
   "source": [
    "Imagina que você queira exibir algum valor monetário, por exemplo, o preço de alguma coisa.\n",
    "\n",
    "Utilizando float, pode ser que seu resultado tenha apenas uma casa decimal.\n",
    "\n",
    "Mas, se tratando de dinheito, sempre queremos mostrar duas casas decimais!\n",
    "\n",
    "Usaremos o format para representar com apenas 2 casas.\n",
    "\n",
    "```python\n",
    "preco = 1500.5\n",
    "\n",
    "print(preco) \n",
    "\n",
    "precoFinal = 'R$ {:.2f}'.format(preco)\n",
    "\n",
    "print(precoFinal)\n",
    "```\n",
    "\n",
    "Neste caso, o 'f' indica que o número é float. \n",
    "\n",
    "Já o '.2' indica que queremos 2 casas após o ponto decimal. \n",
    "\n",
    "Note que a função não apenas descarta as casas excedentes, e sim arredonda corretamente o número."
   ]
  },
  {
   "cell_type": "code",
   "execution_count": 314,
   "metadata": {},
   "outputs": [
    {
     "name": "stdout",
     "output_type": "stream",
     "text": [
      "R$ 1500.57\n"
     ]
    }
   ],
   "source": [
    "preco = 1500.5678\n",
    "\n",
    "preco_final = \"R$ {:.2f}\".format(preco)\n",
    "\n",
    "print(preco_final)"
   ]
  },
  {
   "cell_type": "code",
   "execution_count": 317,
   "metadata": {},
   "outputs": [
    {
     "name": "stdout",
     "output_type": "stream",
     "text": [
      "Retirou R$20.00\n",
      "Saldo   R$980.00\n",
      "--------------------------\n",
      "Retirou R$30.00\n",
      "Saldo   R$950.00\n",
      "--------------------------\n",
      "Retirou R$40.00\n",
      "Saldo   R$910.00\n",
      "--------------------------\n",
      "Retirou R$50.00\n",
      "Saldo   R$860.00\n",
      "--------------------------\n"
     ]
    }
   ],
   "source": [
    "saldo = 1000\n",
    "\n",
    "retiradas = [0, 20, 30, 0, 40, 50]\n",
    "for retirada in retiradas:\n",
    "    if retirada > 0:\n",
    "        print('Retirou R${:.2f}'.format(retirada))\n",
    "        saldo -= retirada\n",
    "        print('Saldo   R${:.2f}'.format(saldo))\n",
    "        print('-'*26)"
   ]
  },
  {
   "cell_type": "code",
   "execution_count": 325,
   "metadata": {},
   "outputs": [
    {
     "name": "stdout",
     "output_type": "stream",
     "text": [
      "R$ 1500.57\n"
     ]
    }
   ],
   "source": [
    "preco = 1500.5678\n",
    "\n",
    "preco_final = \"R$ {preco:.2f}\".format(preco=preco)\n",
    "\n",
    "print(preco_final)"
   ]
  },
  {
   "cell_type": "markdown",
   "metadata": {},
   "source": [
    "### f-strings"
   ]
  },
  {
   "cell_type": "code",
   "execution_count": 320,
   "metadata": {},
   "outputs": [
    {
     "data": {
      "text/plain": [
       "'1/06/2021'"
      ]
     },
     "execution_count": 320,
     "metadata": {},
     "output_type": "execute_result"
    }
   ],
   "source": [
    "dia = 1\n",
    "f'{dia}/06/2021'"
   ]
  },
  {
   "cell_type": "code",
   "execution_count": 321,
   "metadata": {},
   "outputs": [
    {
     "data": {
      "text/plain": [
       "'01/06/2021'"
      ]
     },
     "execution_count": 321,
     "metadata": {},
     "output_type": "execute_result"
    }
   ],
   "source": [
    "dia = 1\n",
    "f'{dia:02d}/06/2021'\n"
   ]
  },
  {
   "cell_type": "code",
   "execution_count": null,
   "metadata": {},
   "outputs": [],
   "source": []
  },
  {
   "cell_type": "code",
   "execution_count": 323,
   "metadata": {
    "scrolled": true,
    "tags": []
   },
   "outputs": [
    {
     "name": "stdout",
     "output_type": "stream",
     "text": [
      "01/06/2021\n",
      "--------------------------\n",
      "02/06/2021\n",
      "--------------------------\n",
      "03/06/2021\n",
      "--------------------------\n",
      "04/06/2021\n",
      "--------------------------\n",
      "05/06/2021\n",
      "--------------------------\n",
      "06/06/2021\n",
      "--------------------------\n",
      "07/06/2021\n",
      "--------------------------\n",
      "08/06/2021\n",
      "--------------------------\n",
      "09/06/2021\n",
      "--------------------------\n",
      "10/06/2021\n",
      "--------------------------\n",
      "11/06/2021\n",
      "--------------------------\n",
      "12/06/2021\n",
      "--------------------------\n",
      "13/06/2021\n",
      "--------------------------\n",
      "14/06/2021\n",
      "--------------------------\n",
      "15/06/2021\n",
      "--------------------------\n",
      "16/06/2021\n",
      "--------------------------\n",
      "17/06/2021\n",
      "--------------------------\n",
      "18/06/2021\n",
      "--------------------------\n",
      "19/06/2021\n",
      "--------------------------\n",
      "20/06/2021\n",
      "--------------------------\n",
      "21/06/2021\n",
      "--------------------------\n",
      "22/06/2021\n",
      "--------------------------\n",
      "23/06/2021\n",
      "--------------------------\n",
      "24/06/2021\n",
      "--------------------------\n",
      "25/06/2021\n",
      "--------------------------\n",
      "26/06/2021\n",
      "--------------------------\n",
      "27/06/2021\n",
      "--------------------------\n",
      "28/06/2021\n",
      "--------------------------\n",
      "29/06/2021\n",
      "--------------------------\n",
      "30/06/2021\n",
      "--------------------------\n"
     ]
    }
   ],
   "source": [
    "for dia in range(1, 31):\n",
    "#     print('{:02d}/06/2021'.format(dia))\n",
    "    print(f'{dia:02d}/06/2021')\n",
    "    print('-'*26)"
   ]
  },
  {
   "cell_type": "code",
   "execution_count": 328,
   "metadata": {},
   "outputs": [
    {
     "name": "stdout",
     "output_type": "stream",
     "text": [
      "01/01/2021\n",
      "02/01/2021\n",
      "03/01/2021\n",
      "04/01/2021\n",
      "--------------------------\n",
      "01/01/2022\n",
      "02/01/2022\n",
      "03/01/2022\n",
      "04/01/2022\n",
      "--------------------------\n"
     ]
    }
   ],
   "source": [
    "for ano in range(1, 3):\n",
    "    for mes in range(1, 2):\n",
    "        for dia in range(1, 5):\n",
    "            print(f'{dia:02d}/{mes:02d}/202{ano}')\n",
    "        print('-'*26)"
   ]
  },
  {
   "cell_type": "code",
   "execution_count": 333,
   "metadata": {},
   "outputs": [
    {
     "name": "stdout",
     "output_type": "stream",
     "text": [
      "01/01/2021\n",
      "02/01/2021\n",
      "03/01/2021\n",
      "04/01/2021\n",
      "--------------------------\n",
      "01/01/2022\n",
      "02/01/2022\n",
      "03/01/2022\n",
      "04/01/2022\n",
      "--------------------------\n"
     ]
    }
   ],
   "source": [
    "for ano in range(2021, 2023):\n",
    "    for mes in range(1, 2):\n",
    "        for dia in range(1, 5):\n",
    "            print('{:02d}/{:02d}/{:04d}'.format(dia, mes, ano))\n",
    "        print('-'*26)"
   ]
  },
  {
   "cell_type": "code",
   "execution_count": 337,
   "metadata": {},
   "outputs": [
    {
     "name": "stdout",
     "output_type": "stream",
     "text": [
      "01/01/21\n",
      "02/01/21\n",
      "03/01/21\n",
      "04/01/21\n",
      "--------------------------\n",
      "01/01/22\n",
      "02/01/22\n",
      "03/01/22\n",
      "04/01/22\n",
      "--------------------------\n"
     ]
    }
   ],
   "source": [
    "for ano in range(2021, 2023):\n",
    "    for mes in range(1, 2):\n",
    "        for dia in range(1, 5):\n",
    "            print(f'{dia:02d}/{mes:02d}/{str(ano)[-2:]}')\n",
    "        print('-' * 26)"
   ]
  },
  {
   "cell_type": "code",
   "execution_count": 338,
   "metadata": {},
   "outputs": [
    {
     "data": {
      "text/plain": [
       "'{dia}'"
      ]
     },
     "execution_count": 338,
     "metadata": {},
     "output_type": "execute_result"
    }
   ],
   "source": [
    "'{dia}'"
   ]
  },
  {
   "cell_type": "code",
   "execution_count": 339,
   "metadata": {},
   "outputs": [
    {
     "data": {
      "text/plain": [
       "'4'"
      ]
     },
     "execution_count": 339,
     "metadata": {},
     "output_type": "execute_result"
    }
   ],
   "source": [
    "f'{dia}'"
   ]
  },
  {
   "cell_type": "code",
   "execution_count": 346,
   "metadata": {},
   "outputs": [],
   "source": [
    "# Como escapar a chave\n"
   ]
  },
  {
   "cell_type": "code",
   "execution_count": 351,
   "metadata": {},
   "outputs": [
    {
     "data": {
      "text/plain": [
       "'{} '"
      ]
     },
     "execution_count": 351,
     "metadata": {},
     "output_type": "execute_result"
    }
   ],
   "source": [
    "f'{{}}'"
   ]
  },
  {
   "cell_type": "code",
   "execution_count": 347,
   "metadata": {},
   "outputs": [
    {
     "name": "stdout",
     "output_type": "stream",
     "text": [
      "R$ 1500.57\n"
     ]
    }
   ],
   "source": [
    "preco = 1500.5678\n",
    "\n",
    "# preco_final = \"R$ {preco:.2f}\".format(preco=preco)\n",
    "preco_final = f\"R$ {preco:.2f}\"\n",
    "\n",
    "print(preco_final)"
   ]
  },
  {
   "cell_type": "code",
   "execution_count": 348,
   "metadata": {},
   "outputs": [
    {
     "data": {
      "text/plain": [
       "'2021.8925'"
      ]
     },
     "execution_count": 348,
     "metadata": {},
     "output_type": "execute_result"
    }
   ],
   "source": [
    "f'{2021.89248923:.4f}'"
   ]
  },
  {
   "cell_type": "code",
   "execution_count": null,
   "metadata": {},
   "outputs": [],
   "source": []
  }
 ],
 "metadata": {
  "kernelspec": {
   "display_name": "Python 3",
   "language": "python",
   "name": "python3"
  },
  "language_info": {
   "codemirror_mode": {
    "name": "ipython",
    "version": 3
   },
   "file_extension": ".py",
   "mimetype": "text/x-python",
   "name": "python",
   "nbconvert_exporter": "python",
   "pygments_lexer": "ipython3",
   "version": "3.8.3"
  },
  "varInspector": {
   "cols": {
    "lenName": 16,
    "lenType": 16,
    "lenVar": 40
   },
   "kernels_config": {
    "python": {
     "delete_cmd_postfix": "",
     "delete_cmd_prefix": "del ",
     "library": "var_list.py",
     "varRefreshCmd": "print(var_dic_list())"
    },
    "r": {
     "delete_cmd_postfix": ") ",
     "delete_cmd_prefix": "rm(",
     "library": "var_list.r",
     "varRefreshCmd": "cat(var_dic_list()) "
    }
   },
   "types_to_exclude": [
    "module",
    "function",
    "builtin_function_or_method",
    "instance",
    "_Feature"
   ],
   "window_display": false
  }
 },
 "nbformat": 4,
 "nbformat_minor": 4
}
