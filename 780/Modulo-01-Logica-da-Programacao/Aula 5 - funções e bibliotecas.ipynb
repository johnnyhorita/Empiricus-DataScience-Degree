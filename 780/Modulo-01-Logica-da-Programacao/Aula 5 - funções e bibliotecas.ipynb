{
 "cells": [
  {
   "cell_type": "code",
   "execution_count": 1,
   "metadata": {},
   "outputs": [],
   "source": [
    "%config Completer.use_jedi = False"
   ]
  },
  {
   "cell_type": "markdown",
   "metadata": {},
   "source": [
    "# Aula 5 - funções e bibliotecas\n",
    "\n",
    "Na aula de hoje, vamos explorar os seguintes tópicos em Python:\n",
    "\n",
    "- 1) Funções\n",
    "- 2) Bibliotecas\n",
    "- 3) Além do Jupyter\n",
    "- 4) Criando programas executáveis (.exe)\n",
    "_______"
   ]
  },
  {
   "cell_type": "markdown",
   "metadata": {},
   "source": [
    "___\n",
    "___\n",
    "___\n"
   ]
  },
  {
   "cell_type": "markdown",
   "metadata": {},
   "source": [
    "## 1) Funções\n",
    "\n",
    "Até o momento, já vimos diversas funções em Python.\n",
    "\n",
    "- Na primeira aula, tivemos contato com a função `print()`, que exibe um texto na tela;\n",
    "\n",
    "- Depois, aprendemos sobre a função `input()`, que serve pra capturar algo que o usuário digita;\n",
    "\n",
    "- Em seguida, vimos algumas funções aplicada à listas, como a `sorted()`, para ordenar uma lista;\n"
   ]
  },
  {
   "cell_type": "code",
   "execution_count": 1,
   "metadata": {},
   "outputs": [
    {
     "name": "stdout",
     "output_type": "stream",
     "text": [
      "Hoje é sexta-feira!\n"
     ]
    }
   ],
   "source": [
    "# Relembrando print\n",
    "print('Hoje é sexta-feira!')"
   ]
  },
  {
   "cell_type": "code",
   "execution_count": 2,
   "metadata": {},
   "outputs": [
    {
     "name": "stdin",
     "output_type": "stream",
     "text": [
      "Que dia é hoje? sexta-feira\n"
     ]
    },
    {
     "data": {
      "text/plain": [
       "'sexta-feira'"
      ]
     },
     "execution_count": 2,
     "metadata": {},
     "output_type": "execute_result"
    }
   ],
   "source": [
    "# input...\n",
    "input('Que dia é hoje?')"
   ]
  },
  {
   "cell_type": "code",
   "execution_count": 7,
   "metadata": {},
   "outputs": [
    {
     "data": {
      "text/plain": [
       "[23, 15, 14, 10, 0]"
      ]
     },
     "execution_count": 7,
     "metadata": {},
     "output_type": "execute_result"
    }
   ],
   "source": [
    "sorted([10, 23, 14, 15, 0], reverse=True)"
   ]
  },
  {
   "cell_type": "code",
   "execution_count": 4,
   "metadata": {},
   "outputs": [
    {
     "data": {
      "text/plain": [
       "23"
      ]
     },
     "execution_count": 4,
     "metadata": {},
     "output_type": "execute_result"
    }
   ],
   "source": [
    "# max...\n",
    "max([10, 23, 14, 15, 0])"
   ]
  },
  {
   "cell_type": "code",
   "execution_count": 6,
   "metadata": {},
   "outputs": [
    {
     "data": {
      "text/plain": [
       "'HOJE É SEXTA'"
      ]
     },
     "execution_count": 6,
     "metadata": {},
     "output_type": "execute_result"
    }
   ],
   "source": [
    "frase = 'hoje é sexta'\n",
    "frase.upper()"
   ]
  },
  {
   "cell_type": "code",
   "execution_count": 8,
   "metadata": {},
   "outputs": [
    {
     "data": {
      "text/plain": [
       "'Hoje é sexta'"
      ]
     },
     "execution_count": 8,
     "metadata": {},
     "output_type": "execute_result"
    }
   ],
   "source": [
    "frase.replace('hoje', 'Hoje')"
   ]
  },
  {
   "cell_type": "code",
   "execution_count": 31,
   "metadata": {
    "scrolled": true,
    "tags": []
   },
   "outputs": [
    {
     "data": {
      "text/plain": [
       "['__add__',\n",
       " '__class__',\n",
       " '__contains__',\n",
       " '__delattr__',\n",
       " '__dir__',\n",
       " '__doc__',\n",
       " '__eq__',\n",
       " '__format__',\n",
       " '__ge__',\n",
       " '__getattribute__',\n",
       " '__getitem__',\n",
       " '__getnewargs__',\n",
       " '__gt__',\n",
       " '__hash__',\n",
       " '__init__',\n",
       " '__init_subclass__',\n",
       " '__iter__',\n",
       " '__le__',\n",
       " '__len__',\n",
       " '__lt__',\n",
       " '__mod__',\n",
       " '__mul__',\n",
       " '__ne__',\n",
       " '__new__',\n",
       " '__reduce__',\n",
       " '__reduce_ex__',\n",
       " '__repr__',\n",
       " '__rmod__',\n",
       " '__rmul__',\n",
       " '__setattr__',\n",
       " '__sizeof__',\n",
       " '__str__',\n",
       " '__subclasshook__',\n",
       " 'capitalize',\n",
       " 'casefold',\n",
       " 'center',\n",
       " 'count',\n",
       " 'encode',\n",
       " 'endswith',\n",
       " 'expandtabs',\n",
       " 'find',\n",
       " 'format',\n",
       " 'format_map',\n",
       " 'index',\n",
       " 'isalnum',\n",
       " 'isalpha',\n",
       " 'isascii',\n",
       " 'isdecimal',\n",
       " 'isdigit',\n",
       " 'isidentifier',\n",
       " 'islower',\n",
       " 'isnumeric',\n",
       " 'isprintable',\n",
       " 'isspace',\n",
       " 'istitle',\n",
       " 'isupper',\n",
       " 'join',\n",
       " 'ljust',\n",
       " 'lower',\n",
       " 'lstrip',\n",
       " 'maketrans',\n",
       " 'partition',\n",
       " 'replace',\n",
       " 'rfind',\n",
       " 'rindex',\n",
       " 'rjust',\n",
       " 'rpartition',\n",
       " 'rsplit',\n",
       " 'rstrip',\n",
       " 'split',\n",
       " 'splitlines',\n",
       " 'startswith',\n",
       " 'strip',\n",
       " 'swapcase',\n",
       " 'title',\n",
       " 'translate',\n",
       " 'upper',\n",
       " 'zfill']"
      ]
     },
     "execution_count": 31,
     "metadata": {},
     "output_type": "execute_result"
    }
   ],
   "source": [
    "# Lista as metodos disponiveis para um objeto\n",
    "dir(frase)"
   ]
  },
  {
   "cell_type": "code",
   "execution_count": 19,
   "metadata": {},
   "outputs": [
    {
     "data": {
      "text/plain": [
       "['capitalize', 'isalnum', 'isalpha', 'isdecimal']"
      ]
     },
     "execution_count": 19,
     "metadata": {},
     "output_type": "execute_result"
    }
   ],
   "source": [
    "[metodo for metodo in dir(frase) if 'al' in metodo]"
   ]
  },
  {
   "cell_type": "code",
   "execution_count": 27,
   "metadata": {},
   "outputs": [],
   "source": [
    "frases = [\n",
    "    'hoje é sexta',\n",
    "    'amanhã é sabado',\n",
    "    'semana que vem é Sexta'\n",
    "]"
   ]
  },
  {
   "cell_type": "code",
   "execution_count": 29,
   "metadata": {},
   "outputs": [
    {
     "name": "stdout",
     "output_type": "stream",
     "text": [
      "hoje é sexta\n",
      "semana que vem é Sexta\n"
     ]
    }
   ],
   "source": [
    "for frase in frases:\n",
    "    if 'sexta' in frase.lower():\n",
    "        print(frase)"
   ]
  },
  {
   "cell_type": "code",
   "execution_count": 25,
   "metadata": {},
   "outputs": [
    {
     "data": {
      "text/plain": [
       "False"
      ]
     },
     "execution_count": 25,
     "metadata": {},
     "output_type": "execute_result"
    }
   ],
   "source": [
    "# Verificando o tipo de um objeto\n",
    "isinstance('20', int)"
   ]
  },
  {
   "cell_type": "code",
   "execution_count": 23,
   "metadata": {},
   "outputs": [
    {
     "data": {
      "text/plain": [
       "True"
      ]
     },
     "execution_count": 23,
     "metadata": {},
     "output_type": "execute_result"
    }
   ],
   "source": [
    "isinstance(20, int)"
   ]
  },
  {
   "cell_type": "code",
   "execution_count": 24,
   "metadata": {},
   "outputs": [
    {
     "data": {
      "text/plain": [
       "True"
      ]
     },
     "execution_count": 24,
     "metadata": {},
     "output_type": "execute_result"
    }
   ],
   "source": [
    "isinstance(20, (int, float))"
   ]
  },
  {
   "cell_type": "code",
   "execution_count": 26,
   "metadata": {},
   "outputs": [],
   "source": [
    "nums = ['30', 20, '51', 20.0]\n",
    "nums_limpos = []\n",
    "\n",
    "for num in nums:\n",
    "    if isinstance(num, (int, float)):\n",
    "        nums_limpos.append(num)\n",
    "    else:\n",
    "        nums_limpos.append(int(num))"
   ]
  },
  {
   "cell_type": "code",
   "execution_count": 27,
   "metadata": {},
   "outputs": [
    {
     "data": {
      "text/plain": [
       "[30, 20, 51, 20.0]"
      ]
     },
     "execution_count": 27,
     "metadata": {},
     "output_type": "execute_result"
    }
   ],
   "source": [
    "nums_limpos"
   ]
  },
  {
   "cell_type": "markdown",
   "metadata": {},
   "source": [
    "\n",
    "A intuição sobre funções, então, já nos é familiar:\n",
    "\n",
    "Uma função é um objeto utilizado para **fazer determinadas ações**.\n",
    "\n",
    "Podemos ver uma função como uma \"caixinha\" que pega uma **entrada** (o argumento), faz algum **processamento**, e então **retorna uma saída** (o output)\n",
    "\n",
    "<img src=\"https://s3.amazonaws.com/illustrativemathematics/images/000/000/782/medium/Task_1_8c7a6a9a2e1421586c40f125bd783de3.jpg?1335065782\" width=300>\n",
    "\n",
    "\n",
    "<img src=\"https://1.bp.blogspot.com/_MhOt9n2UJbM/TC6emeqHdqI/AAAAAAAAAiQ/1brsWuWvOC0/s1600/function-machine.png\" width=300>\n"
   ]
  },
  {
   "cell_type": "markdown",
   "metadata": {},
   "source": [
    "Aprenderemos agora como criar **nossas próprias funções** em Python!"
   ]
  },
  {
   "cell_type": "markdown",
   "metadata": {},
   "source": [
    "A estrutura de **definição de uma função** é dada por:\n",
    "\n",
    "```python\n",
    "def nome_da_funcao(argumentos):\n",
    "    \n",
    "    instrucoes\n",
    "    \n",
    "    return saida\n",
    "```"
   ]
  },
  {
   "cell_type": "markdown",
   "metadata": {},
   "source": [
    "Há 5 elementos fundamentais para a criação de novas funções em Python:\n",
    "\n",
    "- Primeiramente, usamos \"def\" para deixar claro que estamos **definindo** uma função;\n",
    "- Depois, damos um **nome** para nossa função;\n",
    "- Em parênteses, falamos quais serão os **argumentos** da função -- esses são os inputs, e em python, esses elementos são opcionais!\n",
    "- Depois, explicitamos qual é o **processamento** feito pela função;\n",
    "- Ao fim, dizemos o que a função irá **retornar** -- esses são os outputs, e em Python esse elemento é opcional!"
   ]
  },
  {
   "cell_type": "markdown",
   "metadata": {},
   "source": [
    "Sempre que quisermos **executar** uma função, basta **chamá-la**, dando os argumentos desejados!\n",
    "\n",
    "```python\n",
    "nome_da_funcao(argumentos)\n",
    "```"
   ]
  },
  {
   "cell_type": "markdown",
   "metadata": {},
   "source": [
    "__Uma função sem argumentos e sem return__\n",
    "\n",
    "Apenas imprime algo na tela, mas sempre A MESMA COISA\n"
   ]
  },
  {
   "cell_type": "code",
   "execution_count": 32,
   "metadata": {},
   "outputs": [],
   "source": [
    "def cumprimenta():\n",
    "    print('Olá Gil!')\n",
    "    \n",
    "    "
   ]
  },
  {
   "cell_type": "markdown",
   "metadata": {},
   "source": [
    "__Chamando a função__"
   ]
  },
  {
   "cell_type": "code",
   "execution_count": 33,
   "metadata": {},
   "outputs": [
    {
     "name": "stdout",
     "output_type": "stream",
     "text": [
      "Olá Gil!\n"
     ]
    }
   ],
   "source": [
    "# chamar função cumprimenta\n",
    "cumprimenta()"
   ]
  },
  {
   "cell_type": "code",
   "execution_count": 36,
   "metadata": {},
   "outputs": [
    {
     "name": "stdout",
     "output_type": "stream",
     "text": [
      "Olá Gil!\n",
      "Olá Gil!\n",
      "Olá Gil!\n",
      "Olá Gil!\n"
     ]
    }
   ],
   "source": [
    "cumprimenta()\n",
    "cumprimenta()\n",
    "cumprimenta()\n",
    "cumprimenta()"
   ]
  },
  {
   "cell_type": "code",
   "execution_count": 37,
   "metadata": {},
   "outputs": [
    {
     "name": "stdout",
     "output_type": "stream",
     "text": [
      "Olá Gil!\n"
     ]
    }
   ],
   "source": [
    "var_cump = cumprimenta()"
   ]
  },
  {
   "cell_type": "code",
   "execution_count": 39,
   "metadata": {},
   "outputs": [
    {
     "data": {
      "text/plain": [
       "NoneType"
      ]
     },
     "execution_count": 39,
     "metadata": {},
     "output_type": "execute_result"
    }
   ],
   "source": [
    "type(var_cump)"
   ]
  },
  {
   "cell_type": "code",
   "execution_count": 40,
   "metadata": {},
   "outputs": [],
   "source": [
    "def soma_um_mais_um():\n",
    "    print(1 + 1)"
   ]
  },
  {
   "cell_type": "code",
   "execution_count": 43,
   "metadata": {},
   "outputs": [
    {
     "name": "stdout",
     "output_type": "stream",
     "text": [
      "2\n"
     ]
    },
    {
     "data": {
      "text/plain": [
       "NoneType"
      ]
     },
     "execution_count": 43,
     "metadata": {},
     "output_type": "execute_result"
    }
   ],
   "source": [
    "type(soma_um_mais_um())"
   ]
  },
  {
   "cell_type": "code",
   "execution_count": 45,
   "metadata": {},
   "outputs": [
    {
     "name": "stdout",
     "output_type": "stream",
     "text": [
      "2\n"
     ]
    }
   ],
   "source": [
    "soma_um_mais_um()"
   ]
  },
  {
   "cell_type": "markdown",
   "metadata": {},
   "source": [
    "__Uma função com argumento, mas sem return__\n",
    "\n",
    "Imprime o que eu mandar na tela, como argumento!"
   ]
  },
  {
   "cell_type": "code",
   "execution_count": 49,
   "metadata": {},
   "outputs": [],
   "source": [
    "# cumprimenta(nome)\n",
    "def cumprimenta(nome):\n",
    "    print(f'Olá {nome}!')"
   ]
  },
  {
   "cell_type": "code",
   "execution_count": 50,
   "metadata": {},
   "outputs": [
    {
     "name": "stdout",
     "output_type": "stream",
     "text": [
      "Olá Alexandre!\n"
     ]
    }
   ],
   "source": [
    "nome = 'Alexandre'\n",
    "cumprimenta(nome)"
   ]
  },
  {
   "cell_type": "code",
   "execution_count": 51,
   "metadata": {},
   "outputs": [
    {
     "name": "stdout",
     "output_type": "stream",
     "text": [
      "Olá Edson!\n"
     ]
    }
   ],
   "source": [
    "nome = 'Edson'\n",
    "cumprimenta(nome)"
   ]
  },
  {
   "cell_type": "code",
   "execution_count": 52,
   "metadata": {},
   "outputs": [
    {
     "name": "stdout",
     "output_type": "stream",
     "text": [
      "Olá Alexandre!\n",
      "Olá Edson!\n",
      "Olá Thalita!\n"
     ]
    }
   ],
   "source": [
    "nomes = ['Alexandre', 'Edson', 'Thalita']\n",
    "for nome in nomes:\n",
    "    cumprimenta(nome)\n",
    "#     Equivalente print(f'Olá {nome}')"
   ]
  },
  {
   "cell_type": "markdown",
   "metadata": {},
   "source": [
    "__Uma função com dois argumentos, mas ainda sem return__\n",
    "\n",
    "Imprime algo na tela, mas dependendo do segundo argumento que eu passar"
   ]
  },
  {
   "cell_type": "code",
   "execution_count": 53,
   "metadata": {},
   "outputs": [],
   "source": [
    "# 0-11h Bom dia!\n",
    "# 12-18 Boa tarde!\n",
    "# 19-23 Boa noite!\n",
    "# Erro(?)\n",
    "def cumprimenta_horario(nome, hora):\n",
    "    if hora >= 0 and hora <= 11:\n",
    "        print(f'Bom dia! {nome}')\n",
    "    elif hora >= 12 and hora <= 18:\n",
    "        print(f'Boa tarde! {nome}')\n",
    "    elif hora >= 19 and hora <= 23:\n",
    "        print(f'Boa noite {nome}')\n",
    "    else:\n",
    "        print('Erro!')"
   ]
  },
  {
   "cell_type": "code",
   "execution_count": null,
   "metadata": {},
   "outputs": [],
   "source": []
  },
  {
   "cell_type": "code",
   "execution_count": 59,
   "metadata": {},
   "outputs": [
    {
     "name": "stdout",
     "output_type": "stream",
     "text": [
      "Bom dia! Thalita\n"
     ]
    }
   ],
   "source": [
    "cumprimenta_horario(nome, 10)"
   ]
  },
  {
   "cell_type": "code",
   "execution_count": 60,
   "metadata": {},
   "outputs": [
    {
     "name": "stdout",
     "output_type": "stream",
     "text": [
      "Bom dia! Thalita\n"
     ]
    }
   ],
   "source": [
    "# Equivalente, mas temos que repetir o código para reutilizar!!!\n",
    "hora = 10\n",
    "if hora >= 0 and hora <= 11:\n",
    "    print(f'Bom dia! {nome}')\n",
    "elif hora >= 12 and hora <= 18:\n",
    "    print(f'Boa tarde! {nome}')\n",
    "elif hora >= 19 and hora <= 23:\n",
    "    print(f'Boa noite {nome}')\n",
    "else:\n",
    "    print('Erro!')"
   ]
  },
  {
   "cell_type": "code",
   "execution_count": 55,
   "metadata": {},
   "outputs": [
    {
     "name": "stdout",
     "output_type": "stream",
     "text": [
      "Boa tarde! Thalita\n"
     ]
    }
   ],
   "source": [
    "cumprimenta_horario(nome, 18)"
   ]
  },
  {
   "cell_type": "code",
   "execution_count": 56,
   "metadata": {},
   "outputs": [
    {
     "name": "stdout",
     "output_type": "stream",
     "text": [
      "Boa noite Thalita\n"
     ]
    }
   ],
   "source": [
    "cumprimenta_horario(nome, 20)"
   ]
  },
  {
   "cell_type": "code",
   "execution_count": 57,
   "metadata": {},
   "outputs": [
    {
     "name": "stdout",
     "output_type": "stream",
     "text": [
      "Erro!\n"
     ]
    }
   ],
   "source": [
    "cumprimenta_horario(nome, 25)"
   ]
  },
  {
   "cell_type": "code",
   "execution_count": 1,
   "metadata": {},
   "outputs": [],
   "source": [
    "# 0-11h Bom dia!\n",
    "# 12-18 Boa tarde!\n",
    "# 19-23 Boa noite!\n",
    "# Erro(?)\n",
    "def cumprimenta_horario(nome, h):\n",
    "    if h >= 0 and h <= 11:\n",
    "        print(f'Bom dia! {nome}')\n",
    "    elif h >= 12 and h <= 18:\n",
    "        print(f'Boa tarde! {nome}')\n",
    "    elif h >= 19 and h <= 23:\n",
    "        print(f'Boa noite {nome}')\n",
    "    else:\n",
    "        print('Erro!')"
   ]
  },
  {
   "cell_type": "code",
   "execution_count": 3,
   "metadata": {},
   "outputs": [
    {
     "name": "stdout",
     "output_type": "stream",
     "text": [
      "Bom dia! Gil\n"
     ]
    }
   ],
   "source": [
    "nome = 'Gil'\n",
    "cumprimenta_horario(nome, 10)"
   ]
  },
  {
   "cell_type": "code",
   "execution_count": 5,
   "metadata": {},
   "outputs": [
    {
     "name": "stdout",
     "output_type": "stream",
     "text": [
      "Bom dia! Gil\n"
     ]
    }
   ],
   "source": [
    "# Caso não fosse uma função precisamos trocar todos os nomes de variaveis muitas vezes!!!\n",
    "# Aumenta a complexidade do código\n",
    "h = 10\n",
    "if h >= 0 and h <= 11:\n",
    "    print(f'Bom dia! {nome}')\n",
    "elif h >= 12 and h <= 18:\n",
    "    print(f'Boa tarde! {nome}')\n",
    "elif h >= 19 and h <= 23:\n",
    "    print(f'Boa noite {nome}')\n",
    "else:\n",
    "    print('Erro!')"
   ]
  },
  {
   "cell_type": "code",
   "execution_count": 7,
   "metadata": {},
   "outputs": [
    {
     "name": "stdout",
     "output_type": "stream",
     "text": [
      "Boa noite Gil\n"
     ]
    }
   ],
   "source": [
    "h = 20\n",
    "if h >= 0 and h <= 11:\n",
    "    print(f'Bom dia! {nome}')\n",
    "elif h >= 12 and h <= 18:\n",
    "    print(f'Boa tarde! {nome}')\n",
    "elif h >= 19 and h <= 23:\n",
    "    print(f'Boa noite {nome}')\n",
    "else:\n",
    "    print('Erro!')"
   ]
  },
  {
   "cell_type": "markdown",
   "metadata": {},
   "source": [
    "Posso mudar a ordem dos argumentos, mas pra isso devo explicitar exatamente quais são os valores que estou passando para quais argumentos!"
   ]
  },
  {
   "cell_type": "code",
   "execution_count": 8,
   "metadata": {},
   "outputs": [],
   "source": [
    "def cumprimenta_horario(nome, hora):\n",
    "    if hora >= 0 and hora <= 11:\n",
    "        print(f'Bom dia! {nome}')\n",
    "    elif hora >= 12 and hora <= 18:\n",
    "        print(f'Boa tarde! {nome}')\n",
    "    elif hora >= 19 and hora <= 23:\n",
    "        print(f'Boa noite {nome}')\n",
    "    else:\n",
    "        print('Erro!')"
   ]
  },
  {
   "cell_type": "code",
   "execution_count": 12,
   "metadata": {},
   "outputs": [
    {
     "name": "stdout",
     "output_type": "stream",
     "text": [
      "Boa noite Gil\n"
     ]
    }
   ],
   "source": [
    "hora = 20\n",
    "pessoa = 'Gil'\n",
    "cumprimenta_horario(hora=hora, nome=pessoa)"
   ]
  },
  {
   "cell_type": "code",
   "execution_count": 15,
   "metadata": {},
   "outputs": [
    {
     "name": "stdout",
     "output_type": "stream",
     "text": [
      "Boa noite Gil\n"
     ]
    }
   ],
   "source": [
    "cumprimenta_horario(pessoa, hora)"
   ]
  },
  {
   "cell_type": "code",
   "execution_count": 16,
   "metadata": {},
   "outputs": [
    {
     "name": "stdout",
     "output_type": "stream",
     "text": [
      "Boa noite Gil\n"
     ]
    }
   ],
   "source": [
    "cumprimenta_horario(pessoa, hora=hora)"
   ]
  },
  {
   "cell_type": "code",
   "execution_count": 18,
   "metadata": {},
   "outputs": [
    {
     "ename": "SyntaxError",
     "evalue": "positional argument follows keyword argument (<ipython-input-18-608ec5034d3c>, line 1)",
     "output_type": "error",
     "traceback": [
      "\u001b[0;36m  File \u001b[0;32m\"<ipython-input-18-608ec5034d3c>\"\u001b[0;36m, line \u001b[0;32m1\u001b[0m\n\u001b[0;31m    cumprimenta_horario(hora=hora, pessoa)\u001b[0m\n\u001b[0m                                   ^\u001b[0m\n\u001b[0;31mSyntaxError\u001b[0m\u001b[0;31m:\u001b[0m positional argument follows keyword argument\n"
     ]
    }
   ],
   "source": [
    "cumprimenta_horario(hora=hora, pessoa)"
   ]
  },
  {
   "cell_type": "code",
   "execution_count": 13,
   "metadata": {},
   "outputs": [],
   "source": [
    "# Manter a consistência é muito importante\n",
    "def greeting(pessoa):\n",
    "    if \"G\" in pessoa:\n",
    "        print(f'Olá {pessoa} seu dia será grandioso')\n",
    "    elif 'B' in pessoa:\n",
    "        print(f'Olá {pessoa} seu dia será bom')\n",
    "    else:\n",
    "        print(f'Olá {pessoa}')"
   ]
  },
  {
   "cell_type": "code",
   "execution_count": 14,
   "metadata": {},
   "outputs": [
    {
     "name": "stdout",
     "output_type": "stream",
     "text": [
      "Olá Gil seu dia será grandioso\n"
     ]
    }
   ],
   "source": [
    "greeting(nome)"
   ]
  },
  {
   "cell_type": "code",
   "execution_count": 19,
   "metadata": {},
   "outputs": [
    {
     "name": "stdout",
     "output_type": "stream",
     "text": [
      "Boa noite Gil\n"
     ]
    }
   ],
   "source": [
    "pessoa_cump = cumprimenta_horario(nome, hora=hora)"
   ]
  },
  {
   "cell_type": "code",
   "execution_count": null,
   "metadata": {},
   "outputs": [],
   "source": []
  },
  {
   "cell_type": "markdown",
   "metadata": {},
   "source": [
    "__Mas e o return?__\n",
    "\n",
    "\n",
    "Todas as funções acima de fato fazem alguma operação, mas nõs não conseguimos **acessar** o resultado das operações! Veja um exemplo mais claro: uma função que calcula a soma de dois números:"
   ]
  },
  {
   "cell_type": "code",
   "execution_count": 1,
   "metadata": {},
   "outputs": [],
   "source": [
    "# soma(n1, n2) -> None\n",
    "def calc_soma(n1, n2):\n",
    "    num1 = n1\n",
    "    num2 = n2\n",
    "    soma = num1 + num2\n",
    "    print('Soma de n1 e n2', n1 + n2)\n",
    "    print(f'Soma de num1 e num2 {soma}')"
   ]
  },
  {
   "cell_type": "code",
   "execution_count": 2,
   "metadata": {},
   "outputs": [
    {
     "name": "stdout",
     "output_type": "stream",
     "text": [
      "Soma de n1 e n2 42\n",
      "Soma de num1 e num2 42\n"
     ]
    }
   ],
   "source": [
    "calc_soma(10, 32)"
   ]
  },
  {
   "cell_type": "markdown",
   "metadata": {},
   "source": [
    "Note que a função calcula a soma dos números, mas apenas exibe este resultado com o print! \n",
    "\n",
    "**A variável \"soma\" é uma variável que existe apenas no interior da função!!**"
   ]
  },
  {
   "cell_type": "markdown",
   "metadata": {},
   "source": [
    "Se quisermos armazenar o valor da soma, podemos **retornar** o valor desta variável!\n",
    "\n",
    "**OBS.:** apenas o **valor** da variável é retornado, não o nome dela!!\n",
    "\n",
    "Fora da função, o nome de variável \"soma\" ainda continua não existindo!!"
   ]
  },
  {
   "cell_type": "code",
   "execution_count": 3,
   "metadata": {},
   "outputs": [],
   "source": [
    "def calc_soma(n1, n2):\n",
    "    soma = n1 + n2\n",
    "    return soma"
   ]
  },
  {
   "cell_type": "markdown",
   "metadata": {},
   "source": [
    "Daí, basta armazenar o resultado retornado em uma variável, **como fazíamos com o input()!**"
   ]
  },
  {
   "cell_type": "code",
   "execution_count": 4,
   "metadata": {},
   "outputs": [
    {
     "data": {
      "text/plain": [
       "62"
      ]
     },
     "execution_count": 4,
     "metadata": {},
     "output_type": "execute_result"
    }
   ],
   "source": [
    "# Armazenar valor numa variável\n",
    "calc_soma(20, 42)"
   ]
  },
  {
   "cell_type": "code",
   "execution_count": 5,
   "metadata": {},
   "outputs": [],
   "source": [
    "soma = 42\n",
    "resultado = calc_soma(20,120)"
   ]
  },
  {
   "cell_type": "code",
   "execution_count": 6,
   "metadata": {},
   "outputs": [
    {
     "name": "stdout",
     "output_type": "stream",
     "text": [
      "42\n",
      "140\n"
     ]
    }
   ],
   "source": [
    "print(soma)\n",
    "print(resultado)"
   ]
  },
  {
   "cell_type": "code",
   "execution_count": 7,
   "metadata": {
    "scrolled": true,
    "tags": []
   },
   "outputs": [
    {
     "data": {
      "text/plain": [
       "{'__name__': '__main__',\n",
       " '__doc__': 'Automatically created module for IPython interactive environment',\n",
       " '__package__': None,\n",
       " '__loader__': None,\n",
       " '__spec__': None,\n",
       " '__builtin__': <module 'builtins' (built-in)>,\n",
       " '__builtins__': <module 'builtins' (built-in)>,\n",
       " '_ih': ['',\n",
       "  \"# soma(n1, n2) -> None\\ndef calc_soma(n1, n2):\\n    num1 = n1\\n    num2 = n2\\n    soma = num1 + num2\\n    print('Soma de n1 e n2', n1 + n2)\\n    print(f'Soma de num1 e num2 {soma}')\",\n",
       "  'calc_soma(10, 32)',\n",
       "  'def calc_soma(n1, n2):\\n    soma = n1 + n2\\n    return soma',\n",
       "  '# Armazenar valor numa variável\\ncalc_soma(20, 42)',\n",
       "  'soma = 42\\nresultado = calc_soma(20,120)',\n",
       "  'print(soma)\\nprint(resultado)',\n",
       "  'vars()'],\n",
       " '_oh': {3: '[]',\n",
       "  4: 62,\n",
       "  5: '[]',\n",
       "  6: '[{\"varName\": \"resultado\", \"varType\": \"int\", \"varSize\": \"28\", \"varShape\": \"\", \"varContent\": \"140\", \"isMatrix\": false, \"isWidget\": null}, {\"varName\": \"soma\", \"varType\": \"int\", \"varSize\": \"28\", \"varShape\": \"\", \"varContent\": \"42\", \"isMatrix\": false, \"isWidget\": null}]',\n",
       "  7: '[{\"varName\": \"resultado\", \"varType\": \"int\", \"varSize\": \"28\", \"varShape\": \"\", \"varContent\": \"140\", \"isMatrix\": false, \"isWidget\": null}, {\"varName\": \"soma\", \"varType\": \"int\", \"varSize\": \"28\", \"varShape\": \"\", \"varContent\": \"42\", \"isMatrix\": false, \"isWidget\": null}]'},\n",
       " '_dh': ['/home/kaihami/class/780/logica_programacao'],\n",
       " 'In': ['',\n",
       "  \"# soma(n1, n2) -> None\\ndef calc_soma(n1, n2):\\n    num1 = n1\\n    num2 = n2\\n    soma = num1 + num2\\n    print('Soma de n1 e n2', n1 + n2)\\n    print(f'Soma de num1 e num2 {soma}')\",\n",
       "  'calc_soma(10, 32)',\n",
       "  'def calc_soma(n1, n2):\\n    soma = n1 + n2\\n    return soma',\n",
       "  '# Armazenar valor numa variável\\ncalc_soma(20, 42)',\n",
       "  'soma = 42\\nresultado = calc_soma(20,120)',\n",
       "  'print(soma)\\nprint(resultado)',\n",
       "  'vars()'],\n",
       " 'Out': {3: '[]',\n",
       "  4: 62,\n",
       "  5: '[]',\n",
       "  6: '[{\"varName\": \"resultado\", \"varType\": \"int\", \"varSize\": \"28\", \"varShape\": \"\", \"varContent\": \"140\", \"isMatrix\": false, \"isWidget\": null}, {\"varName\": \"soma\", \"varType\": \"int\", \"varSize\": \"28\", \"varShape\": \"\", \"varContent\": \"42\", \"isMatrix\": false, \"isWidget\": null}]',\n",
       "  7: '[{\"varName\": \"resultado\", \"varType\": \"int\", \"varSize\": \"28\", \"varShape\": \"\", \"varContent\": \"140\", \"isMatrix\": false, \"isWidget\": null}, {\"varName\": \"soma\", \"varType\": \"int\", \"varSize\": \"28\", \"varShape\": \"\", \"varContent\": \"42\", \"isMatrix\": false, \"isWidget\": null}]'},\n",
       " 'get_ipython': <function IPython.core.getipython.get_ipython()>,\n",
       " 'exit': <IPython.core.autocall.ZMQExitAutocall at 0x7fdd09bdb790>,\n",
       " 'quit': <IPython.core.autocall.ZMQExitAutocall at 0x7fdd09bdb790>,\n",
       " '_': '[{\"varName\": \"resultado\", \"varType\": \"int\", \"varSize\": \"28\", \"varShape\": \"\", \"varContent\": \"140\", \"isMatrix\": false, \"isWidget\": null}, {\"varName\": \"soma\", \"varType\": \"int\", \"varSize\": \"28\", \"varShape\": \"\", \"varContent\": \"42\", \"isMatrix\": false, \"isWidget\": null}]',\n",
       " '__': '[{\"varName\": \"resultado\", \"varType\": \"int\", \"varSize\": \"28\", \"varShape\": \"\", \"varContent\": \"140\", \"isMatrix\": false, \"isWidget\": null}, {\"varName\": \"soma\", \"varType\": \"int\", \"varSize\": \"28\", \"varShape\": \"\", \"varContent\": \"42\", \"isMatrix\": false, \"isWidget\": null}]',\n",
       " '___': '[]',\n",
       " 'json': <module 'json' from '/home/kaihami/anaconda3/lib/python3.8/json/__init__.py'>,\n",
       " 'sys': <module 'sys' (built-in)>,\n",
       " 'NamespaceMagics': IPython.core.magics.namespace.NamespaceMagics,\n",
       " '_jupyterlab_variableinspector_nms': <IPython.core.magics.namespace.NamespaceMagics at 0x7fdd08b0c910>,\n",
       " '_jupyterlab_variableinspector_Jupyter': <ipykernel.zmqshell.ZMQInteractiveShell at 0x7fdd0cc0f760>,\n",
       " '__np': None,\n",
       " '__pd': None,\n",
       " '__pyspark': None,\n",
       " '__tf': None,\n",
       " '__K': None,\n",
       " '__torch': None,\n",
       " '__ipywidgets': None,\n",
       " '_check_imported': <function __main__._check_imported()>,\n",
       " '_jupyterlab_variableinspector_getsizeof': <function __main__._jupyterlab_variableinspector_getsizeof(x)>,\n",
       " '_jupyterlab_variableinspector_getshapeof': <function __main__._jupyterlab_variableinspector_getshapeof(x)>,\n",
       " '_jupyterlab_variableinspector_getcontentof': <function __main__._jupyterlab_variableinspector_getcontentof(x)>,\n",
       " '_jupyterlab_variableinspector_is_matrix': <function __main__._jupyterlab_variableinspector_is_matrix(x)>,\n",
       " '_jupyterlab_variableinspector_is_widget': <function __main__._jupyterlab_variableinspector_is_widget(x)>,\n",
       " '_jupyterlab_variableinspector_dict_list': <function __main__._jupyterlab_variableinspector_dict_list()>,\n",
       " '_jupyterlab_variableinspector_getmatrixcontent': <function __main__._jupyterlab_variableinspector_getmatrixcontent(x, max_rows=10000)>,\n",
       " '_jupyterlab_variableinspector_displaywidget': <function __main__._jupyterlab_variableinspector_displaywidget(widget)>,\n",
       " '_jupyterlab_variableinspector_default': <function __main__._jupyterlab_variableinspector_default(o)>,\n",
       " '_jupyterlab_variableinspector_deletevariable': <function __main__._jupyterlab_variableinspector_deletevariable(x)>,\n",
       " '_i': 'print(soma)\\nprint(resultado)',\n",
       " '_ii': 'soma = 42\\nresultado = calc_soma(20,120)',\n",
       " '_iii': '# Armazenar valor numa variável\\ncalc_soma(20, 42)',\n",
       " '_i1': \"# soma(n1, n2) -> None\\ndef calc_soma(n1, n2):\\n    num1 = n1\\n    num2 = n2\\n    soma = num1 + num2\\n    print('Soma de n1 e n2', n1 + n2)\\n    print(f'Soma de num1 e num2 {soma}')\",\n",
       " 'calc_soma': <function __main__.calc_soma(n1, n2)>,\n",
       " '_i2': 'calc_soma(10, 32)',\n",
       " '_3': '[]',\n",
       " '_i3': 'def calc_soma(n1, n2):\\n    soma = n1 + n2\\n    return soma',\n",
       " '_4': 62,\n",
       " '_i4': '# Armazenar valor numa variável\\ncalc_soma(20, 42)',\n",
       " '_5': '[]',\n",
       " '_i5': 'soma = 42\\nresultado = calc_soma(20,120)',\n",
       " 'soma': 42,\n",
       " 'resultado': 140,\n",
       " '_6': '[{\"varName\": \"resultado\", \"varType\": \"int\", \"varSize\": \"28\", \"varShape\": \"\", \"varContent\": \"140\", \"isMatrix\": false, \"isWidget\": null}, {\"varName\": \"soma\", \"varType\": \"int\", \"varSize\": \"28\", \"varShape\": \"\", \"varContent\": \"42\", \"isMatrix\": false, \"isWidget\": null}]',\n",
       " '_i6': 'print(soma)\\nprint(resultado)',\n",
       " '_7': '[{\"varName\": \"resultado\", \"varType\": \"int\", \"varSize\": \"28\", \"varShape\": \"\", \"varContent\": \"140\", \"isMatrix\": false, \"isWidget\": null}, {\"varName\": \"soma\", \"varType\": \"int\", \"varSize\": \"28\", \"varShape\": \"\", \"varContent\": \"42\", \"isMatrix\": false, \"isWidget\": null}]',\n",
       " '_i7': 'vars()'}"
      ]
     },
     "execution_count": 7,
     "metadata": {},
     "output_type": "execute_result"
    }
   ],
   "source": [
    "vars()"
   ]
  },
  {
   "cell_type": "code",
   "execution_count": 14,
   "metadata": {},
   "outputs": [],
   "source": [
    "def calc_soma_valores_globais():\n",
    "    soma = n1 + n2\n",
    "    return soma"
   ]
  },
  {
   "cell_type": "code",
   "execution_count": 15,
   "metadata": {},
   "outputs": [
    {
     "data": {
      "text/plain": [
       "300"
      ]
     },
     "execution_count": 15,
     "metadata": {},
     "output_type": "execute_result"
    }
   ],
   "source": [
    "# A função olha primeiro pro escopo local buscando as variaveis.\n",
    "# Caso não encontre ela procura essas variaveis no escopo global\n",
    "# Caso encontre no escopo global essa função utiliza esse valor.\n",
    "# Se não encontrar ocorre um erro!\n",
    "\n",
    "n1 = 100\n",
    "n2 = 200\n",
    "\n",
    "calc_soma_valores_globais()"
   ]
  },
  {
   "cell_type": "markdown",
   "metadata": {},
   "source": [
    "Um outro exemplo:"
   ]
  },
  {
   "cell_type": "code",
   "execution_count": 18,
   "metadata": {},
   "outputs": [],
   "source": [
    "def cumprimenta_horario(nome, hora):\n",
    "    \n",
    "    saida = f'Olá {nome}, agora são {hora} horas'\n",
    "    \n",
    "    return saida"
   ]
  },
  {
   "cell_type": "code",
   "execution_count": 19,
   "metadata": {},
   "outputs": [
    {
     "data": {
      "text/plain": [
       "'Olá Sergio, agora são 20 horas'"
      ]
     },
     "execution_count": 19,
     "metadata": {},
     "output_type": "execute_result"
    }
   ],
   "source": [
    "texto = cumprimenta_horario('Sergio', 20)\n",
    "\n",
    "texto"
   ]
  },
  {
   "cell_type": "code",
   "execution_count": 21,
   "metadata": {},
   "outputs": [
    {
     "data": {
      "text/plain": [
       "'Olá Danilo, agora são 20.0 horas'"
      ]
     },
     "execution_count": 21,
     "metadata": {},
     "output_type": "execute_result"
    }
   ],
   "source": [
    "texto = cumprimenta_horario('Danilo', 20.0)\n",
    "\n",
    "texto"
   ]
  },
  {
   "cell_type": "code",
   "execution_count": null,
   "metadata": {},
   "outputs": [],
   "source": []
  },
  {
   "cell_type": "markdown",
   "metadata": {},
   "source": [
    "Vamos elaborar um pouco mais?\n",
    "\n",
    "Que tal fazermos uma função calculadora?"
   ]
  },
  {
   "cell_type": "code",
   "execution_count": 40,
   "metadata": {},
   "outputs": [],
   "source": [
    "# 1\n",
    "def calculadora(num1, num2): \n",
    "    operacao = input('Digite uma operação (+,-,*,/)')\n",
    "    resultado = None\n",
    "    if operacao == '+':\n",
    "        resultado = num1 + num2\n",
    "    elif operacao == '-':\n",
    "        resultado = num1 - num2\n",
    "    elif operacao == '*':\n",
    "        resultado = num1 * num2\n",
    "    elif operacao == '/':\n",
    "        resultado = num1 / num2\n",
    "    else:\n",
    "        print('Não sei o resultado')\n",
    "\n",
    "    return resultado"
   ]
  },
  {
   "cell_type": "code",
   "execution_count": 42,
   "metadata": {},
   "outputs": [
    {
     "name": "stdin",
     "output_type": "stream",
     "text": [
      "Digite uma operação (+,-,*,/) +\n"
     ]
    }
   ],
   "source": [
    "resultado_valido = calculadora(2, 3)"
   ]
  },
  {
   "cell_type": "code",
   "execution_count": 43,
   "metadata": {},
   "outputs": [
    {
     "name": "stdin",
     "output_type": "stream",
     "text": [
      "Digite uma operação (+,-,*,/) //\n"
     ]
    },
    {
     "name": "stdout",
     "output_type": "stream",
     "text": [
      "Não sei o resultado\n"
     ]
    }
   ],
   "source": [
    "resultado_invalido = calculadora(2, 3)"
   ]
  },
  {
   "cell_type": "code",
   "execution_count": 44,
   "metadata": {},
   "outputs": [
    {
     "name": "stdin",
     "output_type": "stream",
     "text": [
      "Digite uma operação (+,-,*,/) +\n",
      "Digite uma operação (+,-,*,/) *\n",
      "Digite uma operação (+,-,*,/) //\n"
     ]
    },
    {
     "name": "stdout",
     "output_type": "stream",
     "text": [
      "Não sei o resultado\n"
     ]
    }
   ],
   "source": [
    "lista_resultados = []\n",
    "for n in range(3):\n",
    "    lista_resultados.append(calculadora(2, 3))"
   ]
  },
  {
   "cell_type": "code",
   "execution_count": 46,
   "metadata": {},
   "outputs": [
    {
     "data": {
      "text/plain": [
       "[5, 6, None]"
      ]
     },
     "execution_count": 46,
     "metadata": {},
     "output_type": "execute_result"
    }
   ],
   "source": [
    "lista_resultados"
   ]
  },
  {
   "cell_type": "code",
   "execution_count": 49,
   "metadata": {},
   "outputs": [
    {
     "name": "stdout",
     "output_type": "stream",
     "text": [
      "5\n",
      "6\n"
     ]
    }
   ],
   "source": [
    "\n",
    "for resultado in lista_resultados:\n",
    "    if not isinstance(resultado, type(None)):\n",
    "        print(resultado)"
   ]
  },
  {
   "cell_type": "code",
   "execution_count": null,
   "metadata": {},
   "outputs": [],
   "source": []
  },
  {
   "cell_type": "code",
   "execution_count": 50,
   "metadata": {},
   "outputs": [],
   "source": [
    "# 1\n",
    "def calculadora(num1, num2): \n",
    "    operacao = input('Digite uma operação (+,-,*,/)')\n",
    "    if operacao == '+':\n",
    "        resultado = num1 + num2\n",
    "    elif operacao == '-':\n",
    "        resultado = num1 - num2\n",
    "    elif operacao == '*':\n",
    "        resultado = num1 * num2\n",
    "    elif operacao == '/':\n",
    "        resultado = num1 / num2\n",
    "    else:\n",
    "        print('Não sei o resultado')\n",
    "        return None\n",
    "\n",
    "    return resultado"
   ]
  },
  {
   "cell_type": "code",
   "execution_count": null,
   "metadata": {},
   "outputs": [],
   "source": []
  },
  {
   "cell_type": "code",
   "execution_count": 51,
   "metadata": {},
   "outputs": [
    {
     "name": "stdin",
     "output_type": "stream",
     "text": [
      "Digite uma operação (+,-,*,/) +\n"
     ]
    },
    {
     "data": {
      "text/plain": [
       "8"
      ]
     },
     "execution_count": 51,
     "metadata": {},
     "output_type": "execute_result"
    }
   ],
   "source": [
    "calculadora(3, 5)"
   ]
  },
  {
   "cell_type": "code",
   "execution_count": 53,
   "metadata": {},
   "outputs": [
    {
     "name": "stdin",
     "output_type": "stream",
     "text": [
      "Digite uma operação (+,-,*,/) *\n"
     ]
    },
    {
     "data": {
      "text/plain": [
       "15"
      ]
     },
     "execution_count": 53,
     "metadata": {},
     "output_type": "execute_result"
    }
   ],
   "source": [
    "calculadora(3, 5)"
   ]
  },
  {
   "cell_type": "code",
   "execution_count": 54,
   "metadata": {},
   "outputs": [
    {
     "name": "stdin",
     "output_type": "stream",
     "text": [
      "Digite uma operação (+,-,*,/) //\n"
     ]
    },
    {
     "name": "stdout",
     "output_type": "stream",
     "text": [
      "Não sei o resultado\n"
     ]
    }
   ],
   "source": [
    "calculadora(3, 5)"
   ]
  },
  {
   "cell_type": "code",
   "execution_count": 55,
   "metadata": {},
   "outputs": [],
   "source": [
    "# 1\n",
    "def calculadora(num1, num2): \n",
    "    operacao = input('Digite uma operação (+,-,*,/)')\n",
    "    if operacao == '+':\n",
    "        resultado = num1 + num2\n",
    "        return resultado\n",
    "    elif operacao == '-':\n",
    "        resultado = num1 - num2\n",
    "        return resultado\n",
    "    elif operacao == '*':\n",
    "        resultado = num1 * num2\n",
    "        return resultado\n",
    "    elif operacao == '/':\n",
    "        resultado = num1 / num2\n",
    "        return resultado\n",
    "    else:\n",
    "        print('Não sei o resultado')\n",
    "        return None\n"
   ]
  },
  {
   "cell_type": "code",
   "execution_count": 56,
   "metadata": {},
   "outputs": [
    {
     "name": "stdin",
     "output_type": "stream",
     "text": [
      "Digite uma operação (+,-,*,/) +\n"
     ]
    },
    {
     "data": {
      "text/plain": [
       "8"
      ]
     },
     "execution_count": 56,
     "metadata": {},
     "output_type": "execute_result"
    }
   ],
   "source": [
    "calculadora(3, 5)"
   ]
  },
  {
   "cell_type": "code",
   "execution_count": 57,
   "metadata": {},
   "outputs": [],
   "source": [
    "def calculadora(num1, num2): \n",
    "    operacao = input('Digite uma operação (+,-,*,/)')\n",
    "    if operacao == '+':\n",
    "        return num1 + num2\n",
    "    elif operacao == '-':\n",
    "        return num1 - num2\n",
    "    elif operacao == '*':\n",
    "        return num1 * num2\n",
    "    elif operacao == '/':\n",
    "        return num1 / num2\n",
    "    else:\n",
    "        print('Não sei o resultado')\n",
    "        return None\n",
    "    "
   ]
  },
  {
   "cell_type": "code",
   "execution_count": 59,
   "metadata": {},
   "outputs": [],
   "source": []
  },
  {
   "cell_type": "code",
   "execution_count": 68,
   "metadata": {},
   "outputs": [],
   "source": [
    "from typing import NewType\n",
    "resultado = NewType('resultado', int)\n",
    "def calculadora(num1: int, num2: int) -> resultado: \n",
    "    if not isinstance(num1, int):\n",
    "        print(f'num1 não é inteiro, ele é {type(num1)}')\n",
    "        return None\n",
    "    if not isinstance(num2, int):\n",
    "        print(f'num2 não é inteiro, ele é {type(num2)}')\n",
    "        return None\n",
    "    operacao = input('Digite uma operação (+,-,*,/)')\n",
    "    resultado = None\n",
    "    if operacao == '+':\n",
    "        resultado = num1 + num2\n",
    "    elif operacao == '-':\n",
    "        resultado = num1 - num2\n",
    "    elif operacao == '*':\n",
    "        resultado = num1 * num2\n",
    "    elif operacao == '/':\n",
    "        resultado = num1 / num2\n",
    "    else:\n",
    "        print('Não sei o resultado')\n",
    "    return resultado"
   ]
  },
  {
   "cell_type": "code",
   "execution_count": 69,
   "metadata": {},
   "outputs": [
    {
     "name": "stdout",
     "output_type": "stream",
     "text": [
      "num2 não é inteiro, ele é <class 'str'>\n"
     ]
    }
   ],
   "source": [
    "calculadora(10, '10')"
   ]
  },
  {
   "cell_type": "code",
   "execution_count": 70,
   "metadata": {},
   "outputs": [
    {
     "name": "stdout",
     "output_type": "stream",
     "text": [
      "num1 não é inteiro, ele é <class 'float'>\n"
     ]
    }
   ],
   "source": [
    "calculadora(10.0, 10)"
   ]
  },
  {
   "cell_type": "markdown",
   "metadata": {},
   "source": [
    "_________\n",
    "\n",
    "__Funções recursivas__\n",
    "\n",
    "Um aspecto bem legal sobre funções é a **recursividade**\n",
    "\n",
    "Podemos chamar uma função dentro de outra função? Sim!\n",
    "\n",
    "Podemos fazer uma função que calcula a média entre dois números, utilizando a função que calcula a soma entre dois números"
   ]
  },
  {
   "cell_type": "code",
   "execution_count": null,
   "metadata": {},
   "outputs": [],
   "source": [
    "# 2"
   ]
  },
  {
   "cell_type": "code",
   "execution_count": 75,
   "metadata": {},
   "outputs": [],
   "source": [
    "\n",
    "# soma_dois_numeros\n",
    "def soma_dois_numeros(x, y):\n",
    "    print('Entrando na soma dois numeros')\n",
    "    soma = x + y\n",
    "    return soma\n",
    "\n",
    "# media entre dois números\n",
    "def calcula_media(x, y):\n",
    "    print('x',x,'y', y)\n",
    "    soma = soma_dois_numeros(x, y)\n",
    "    print('soma', soma)\n",
    "    media = soma / 2\n",
    "    return media"
   ]
  },
  {
   "cell_type": "code",
   "execution_count": 76,
   "metadata": {},
   "outputs": [
    {
     "name": "stdout",
     "output_type": "stream",
     "text": [
      "Entrando na soma dois numeros\n"
     ]
    },
    {
     "data": {
      "text/plain": [
       "4"
      ]
     },
     "execution_count": 76,
     "metadata": {},
     "output_type": "execute_result"
    }
   ],
   "source": [
    "soma_dois_numeros(2, 2)"
   ]
  },
  {
   "cell_type": "code",
   "execution_count": 77,
   "metadata": {},
   "outputs": [
    {
     "name": "stdout",
     "output_type": "stream",
     "text": [
      "x 2 y 2\n",
      "Entrando na soma dois numeros\n",
      "soma 4\n"
     ]
    },
    {
     "data": {
      "text/plain": [
       "2.0"
      ]
     },
     "execution_count": 77,
     "metadata": {},
     "output_type": "execute_result"
    }
   ],
   "source": [
    "calcula_media(2, 2)"
   ]
  },
  {
   "cell_type": "markdown",
   "metadata": {},
   "source": [
    "Podemos também redefinir a função de calculadora em termos de várias sub-funções pra cada operação:"
   ]
  },
  {
   "cell_type": "code",
   "execution_count": null,
   "metadata": {},
   "outputs": [],
   "source": []
  },
  {
   "cell_type": "code",
   "execution_count": 38,
   "metadata": {},
   "outputs": [],
   "source": [
    "# Dividimos a responsabilidade da função calculadora!\n",
    "# Isso é importante para aumentar a \n",
    "# soma \n",
    "def soma(x, y):\n",
    "    print('Entrando soma')\n",
    "    return x + y\n",
    "#############################################\n",
    "\n",
    "# subtracao\n",
    "def subtracao(x, y):\n",
    "    return x - y\n",
    "#############################################\n",
    "\n",
    "# multiplicacao\n",
    "def multiplicacao(x, y):\n",
    "    return x * y\n",
    "#############################################\n",
    "\n",
    "# divisao\n",
    "def divisao(x, y):\n",
    "    return x / y\n",
    "#############################################\n",
    "\n",
    "# calculadora\n",
    "def calculadora(x, y, operacao):\n",
    "    print('Entrando calculadora')\n",
    "    if operacao not in ['+', '-', '*', '/']:\n",
    "        print('Operação invalida')\n",
    "        return None\n",
    "    \n",
    "    if operacao == '+':\n",
    "        resultado = soma(x, y)\n",
    "    elif operacao == '-':\n",
    "        resultado = subtracao(x, y)\n",
    "    elif operacao == '*':\n",
    "        resultado = multiplicacao(x, y)\n",
    "    elif operacao == '/':\n",
    "        resultado = divisao(x, y)\n",
    "    return resultado"
   ]
  },
  {
   "cell_type": "code",
   "execution_count": 39,
   "metadata": {},
   "outputs": [
    {
     "name": "stdout",
     "output_type": "stream",
     "text": [
      "Entrando soma\n",
      "2\n",
      "Entrando soma\n",
      "0\n",
      "Entrando soma\n",
      "1\n"
     ]
    }
   ],
   "source": [
    "print(soma(1, 1))\n",
    "print(soma(-1, 1))\n",
    "print(soma(0, 1))"
   ]
  },
  {
   "cell_type": "code",
   "execution_count": 40,
   "metadata": {},
   "outputs": [
    {
     "name": "stdout",
     "output_type": "stream",
     "text": [
      "0\n",
      "-2\n",
      "-1\n"
     ]
    }
   ],
   "source": [
    "print(subtracao(1, 1))\n",
    "print(subtracao(-1, 1))\n",
    "print(subtracao(0, 1))"
   ]
  },
  {
   "cell_type": "code",
   "execution_count": 41,
   "metadata": {},
   "outputs": [
    {
     "name": "stdout",
     "output_type": "stream",
     "text": [
      "1\n",
      "-1\n",
      "0\n",
      "4\n"
     ]
    }
   ],
   "source": [
    "print(multiplicacao(1, 1))\n",
    "print(multiplicacao(-1, 1))\n",
    "print(multiplicacao(0, 1))\n",
    "print(multiplicacao(2, 2))"
   ]
  },
  {
   "cell_type": "code",
   "execution_count": 42,
   "metadata": {},
   "outputs": [
    {
     "name": "stdout",
     "output_type": "stream",
     "text": [
      "1.0\n",
      "-1.0\n",
      "0.0\n"
     ]
    }
   ],
   "source": [
    "print(divisao(1, 1))\n",
    "print(divisao(-1, 1))\n",
    "print(divisao(0, 1))"
   ]
  },
  {
   "cell_type": "code",
   "execution_count": 43,
   "metadata": {},
   "outputs": [
    {
     "name": "stdout",
     "output_type": "stream",
     "text": [
      "Entrando calculadora\n"
     ]
    },
    {
     "data": {
      "text/plain": [
       "6"
      ]
     },
     "execution_count": 43,
     "metadata": {},
     "output_type": "execute_result"
    }
   ],
   "source": [
    "calculadora(2, 3, '*')"
   ]
  },
  {
   "cell_type": "code",
   "execution_count": 44,
   "metadata": {},
   "outputs": [
    {
     "name": "stdout",
     "output_type": "stream",
     "text": [
      "Entrando calculadora\n"
     ]
    },
    {
     "data": {
      "text/plain": [
       "-1"
      ]
     },
     "execution_count": 44,
     "metadata": {},
     "output_type": "execute_result"
    }
   ],
   "source": [
    "calculadora(2, 3, '-')"
   ]
  },
  {
   "cell_type": "markdown",
   "metadata": {},
   "source": [
    "Também é possível utilizar a função calculadora para definir uma função que calcula a média entre dois números:"
   ]
  },
  {
   "cell_type": "code",
   "execution_count": 45,
   "metadata": {},
   "outputs": [],
   "source": [
    "# 4\n",
    "# media\n",
    "def media(num1, num2):\n",
    "    print('Entrando media')\n",
    "    return calculadora(num1, num2, '+') / 2"
   ]
  },
  {
   "cell_type": "code",
   "execution_count": null,
   "metadata": {},
   "outputs": [],
   "source": []
  },
  {
   "cell_type": "code",
   "execution_count": 46,
   "metadata": {},
   "outputs": [
    {
     "name": "stdout",
     "output_type": "stream",
     "text": [
      "Entrando media\n",
      "Entrando calculadora\n",
      "Entrando soma\n"
     ]
    },
    {
     "data": {
      "text/plain": [
       "9.5"
      ]
     },
     "execution_count": 46,
     "metadata": {},
     "output_type": "execute_result"
    }
   ],
   "source": [
    "media(10, 9)"
   ]
  },
  {
   "cell_type": "code",
   "execution_count": 53,
   "metadata": {},
   "outputs": [],
   "source": [
    "# 4\n",
    "# media\n",
    "def media(num1, num2):\n",
    "    print('Entrando media')\n",
    "    soma = calculadora(num1, num2, '+')\n",
    "    print('soma calculada')\n",
    "    return calculadora(soma, 2, '/')"
   ]
  },
  {
   "cell_type": "code",
   "execution_count": 54,
   "metadata": {},
   "outputs": [
    {
     "name": "stdout",
     "output_type": "stream",
     "text": [
      "Entrando media\n",
      "Entrando calculadora\n",
      "Entrando soma\n",
      "soma calculada\n",
      "Entrando calculadora\n"
     ]
    },
    {
     "data": {
      "text/plain": [
       "9.5"
      ]
     },
     "execution_count": 54,
     "metadata": {},
     "output_type": "execute_result"
    }
   ],
   "source": [
    "media(10, 9)"
   ]
  },
  {
   "cell_type": "markdown",
   "metadata": {},
   "source": [
    "Mas podemos ir além: **chamar a mesma função dentro dela mesma!**\n",
    "\n",
    "Por exemplo, pra calcular potências!"
   ]
  },
  {
   "cell_type": "markdown",
   "metadata": {},
   "source": [
    "$2^{4} ==> 2 * 2 * 2 * 2$"
   ]
  },
  {
   "cell_type": "code",
   "execution_count": 75,
   "metadata": {},
   "outputs": [],
   "source": [
    "# 5\n",
    "# Função recursiva para potencia!\n",
    "\n",
    "def calcula_potencia(base, expoente, chamada):\n",
    "    chamada += 1\n",
    "    print(f'{chamada=}')\n",
    "    print(f'{base=}')\n",
    "    print(f'{expoente=}')\n",
    "    print('-'*26)\n",
    "    if expoente > 0:\n",
    "        return base * calcula_potencia(base, expoente-1, chamada)\n",
    "    elif expoente == 0:\n",
    "        return 1"
   ]
  },
  {
   "cell_type": "code",
   "execution_count": 76,
   "metadata": {
    "scrolled": true,
    "tags": []
   },
   "outputs": [
    {
     "name": "stdout",
     "output_type": "stream",
     "text": [
      "chamada=1\n",
      "base=2\n",
      "expoente=3\n",
      "--------------------------\n",
      "chamada=2\n",
      "base=2\n",
      "expoente=2\n",
      "--------------------------\n",
      "chamada=3\n",
      "base=2\n",
      "expoente=1\n",
      "--------------------------\n",
      "chamada=4\n",
      "base=2\n",
      "expoente=0\n",
      "--------------------------\n"
     ]
    },
    {
     "data": {
      "text/plain": [
       "8"
      ]
     },
     "execution_count": 76,
     "metadata": {},
     "output_type": "execute_result"
    }
   ],
   "source": [
    "calcula_potencia(2, 3, 0)"
   ]
  },
  {
   "cell_type": "markdown",
   "metadata": {},
   "source": [
    "Podemos entender a recursividade ao analisar o que que a função retorna a cada vez que ela é chamada:\n",
    "\n",
    "- potencia(2, 3)\n",
    "- 2 * potencia(2, 2)\n",
    "- 2 * (2 * potencia(2, 1))\n",
    "- 2 * (2 * (2 * potencia(2, 0)))\n",
    "- 2 * (2 * (2 * 1))\n",
    "\n",
    "Assim, o resultado final é:\n",
    "\n",
    "2 * 2 * 2 * 1 = 8"
   ]
  },
  {
   "cell_type": "markdown",
   "metadata": {},
   "source": [
    "Existem problemas que são naturalmente recursivos, como, por exemplo, fatorial:"
   ]
  },
  {
   "cell_type": "markdown",
   "metadata": {},
   "source": [
    "5! = 5\\*4! = 5\\*4\\*3! = 5\\*4\\*3\\*2! = 5\\*4\\*3\\*2\\*1!"
   ]
  },
  {
   "cell_type": "code",
   "execution_count": 87,
   "metadata": {},
   "outputs": [],
   "source": [
    "# 6\n",
    "# Fatorial\n",
    "def fatorial(n, contagem):\n",
    "    contagem +=1\n",
    "    print(f'{contagem=}')\n",
    "    print(f'{n=}')\n",
    "    print('-'*26)\n",
    "    if n in [0, 1]:\n",
    "        return 1\n",
    "    elif n < 0:\n",
    "        print('n é menor que 0')\n",
    "        return None\n",
    "    else:\n",
    "        return n * fatorial(n-1, contagem)"
   ]
  },
  {
   "cell_type": "code",
   "execution_count": 89,
   "metadata": {},
   "outputs": [
    {
     "name": "stdout",
     "output_type": "stream",
     "text": [
      "contagem=1\n",
      "n=4\n",
      "--------------------------\n",
      "contagem=2\n",
      "n=3\n",
      "--------------------------\n",
      "contagem=3\n",
      "n=2\n",
      "--------------------------\n",
      "contagem=4\n",
      "n=1\n",
      "--------------------------\n"
     ]
    },
    {
     "data": {
      "text/plain": [
       "24"
      ]
     },
     "execution_count": 89,
     "metadata": {},
     "output_type": "execute_result"
    }
   ],
   "source": [
    "fatorial(4, 0)"
   ]
  },
  {
   "cell_type": "code",
   "execution_count": 94,
   "metadata": {},
   "outputs": [],
   "source": [
    "return 4 * fatorial(4-1) -> return 4 * 3 * 2 * 1\n",
    "return 3 * fatorial(3-1) -> return 3 * 2 * 1\n",
    "return 2 * fatorial(2-1) -> return 2 * 1\n",
    "return 1"
   ]
  },
  {
   "cell_type": "markdown",
   "metadata": {},
   "source": [
    "Visualizando o return de cada execução da função:\n",
    "\n",
    "- fatorial(4)\n",
    "- 4 * fatorial(3)\n",
    "- 4 * (3 * fatorial(2))\n",
    "- 4 * (3 * (2 * fatorial(1)))\n",
    "- 4 * (3 * (2 * 1))\n",
    "\n",
    "Assim, o resultado final é:\n",
    "\n",
    "4 * 3 * 2 * 1"
   ]
  },
  {
   "cell_type": "markdown",
   "metadata": {},
   "source": [
    "Apesar de **elegantes**, funções recursivas são **pouco eficientes** (pois demandam mais memória), e de leitura mais difícil"
   ]
  },
  {
   "cell_type": "markdown",
   "metadata": {},
   "source": [
    "### Dúvidas da aula"
   ]
  },
  {
   "cell_type": "code",
   "execution_count": 106,
   "metadata": {},
   "outputs": [],
   "source": [
    "# perguntando os números dentro da função\n",
    "def calculadora(): \n",
    "    num1 = float(input('Digite um número'))\n",
    "    num2 = float(input('Digite um número'))\n",
    "    operacao = input('Digite uma operação (+,-,*,/)')\n",
    "    if operacao == '+':\n",
    "        resultado = num1 + num2\n",
    "        return resultado\n",
    "    elif operacao == '-':\n",
    "        resultado = num1 - num2\n",
    "        return resultado\n",
    "    elif operacao == '*':\n",
    "        resultado = num1 * num2\n",
    "        return resultado\n",
    "    elif operacao == '/':\n",
    "        resultado = num1 / num2\n",
    "        return resultado\n",
    "    else:\n",
    "        print('Não sei o resultado')\n",
    "        return None\n"
   ]
  },
  {
   "cell_type": "code",
   "execution_count": 110,
   "metadata": {},
   "outputs": [
    {
     "name": "stdin",
     "output_type": "stream",
     "text": [
      "Digite um número 10\n",
      "Digite um número 10\n",
      "Digite uma operação (+,-,*,/) *\n"
     ]
    },
    {
     "data": {
      "text/plain": [
       "100.0"
      ]
     },
     "execution_count": 110,
     "metadata": {},
     "output_type": "execute_result"
    }
   ],
   "source": [
    "def calculadora(num1, num2): \n",
    "    operacao = input('Digite uma operação (+,-,*,/)')\n",
    "    if operacao == '+':\n",
    "        resultado = num1 + num2\n",
    "        return resultado\n",
    "    elif operacao == '-':\n",
    "        resultado = num1 - num2\n",
    "        return resultado\n",
    "    elif operacao == '*':\n",
    "        resultado = num1 * num2\n",
    "        return resultado\n",
    "    elif operacao == '/':\n",
    "        resultado = num1 / num2\n",
    "        return resultado\n",
    "    else:\n",
    "        print('Não sei o resultado')\n",
    "        return None\n",
    "    \n",
    "# perguntando os números fora da função e passando como argumento para a função\n",
    "\n",
    "num1 = float(input('Digite um número'))\n",
    "num2 = float(input('Digite um número'))\n",
    "\n",
    "calculadora(num1, num2)\n"
   ]
  },
  {
   "cell_type": "markdown",
   "metadata": {},
   "source": [
    "#### Lista 1 - Variáveis, Entradas e Saídas -  exercicio 9\n",
    "\n",
    "Faça um programa que peça o dia, o mês e o ano para o usuário e imprima a data completa no formato dd/mm/aaaa."
   ]
  },
  {
   "cell_type": "code",
   "execution_count": 119,
   "metadata": {},
   "outputs": [
    {
     "name": "stdin",
     "output_type": "stream",
     "text": [
      "Informe o dia 1\n",
      "Informe o mês 6\n",
      "Informe o ano 2021\n"
     ]
    },
    {
     "name": "stdout",
     "output_type": "stream",
     "text": [
      "01/06/2021\n"
     ]
    }
   ],
   "source": [
    "dia = int(input('Informe o dia'))\n",
    "mes = int(input('Informe o mês'))\n",
    "ano = int(input('Informe o ano'))\n",
    "print(f'{dia:02d}/{mes:02d}/{ano}')"
   ]
  },
  {
   "cell_type": "code",
   "execution_count": 121,
   "metadata": {},
   "outputs": [
    {
     "name": "stdin",
     "output_type": "stream",
     "text": [
      "Informe o dia 1\n",
      "Informe o mês 6\n",
      "Informe o ano 2021\n"
     ]
    },
    {
     "name": "stdout",
     "output_type": "stream",
     "text": [
      "01/06/2021\n"
     ]
    },
    {
     "name": "stdin",
     "output_type": "stream",
     "text": [
      "Informe o dia 2\n",
      "Informe o mês 6\n",
      "Informe o ano 2021\n"
     ]
    },
    {
     "name": "stdout",
     "output_type": "stream",
     "text": [
      "02/06/2021\n"
     ]
    }
   ],
   "source": [
    "def imprime_data():\n",
    "    dia = int(input('Informe o dia'))\n",
    "    mes = int(input('Informe o mês'))\n",
    "    ano = int(input('Informe o ano'))\n",
    "    print(f'{dia:02d}/{mes:02d}/{ano}')\n",
    "imprime_data()\n",
    "imprime_data()"
   ]
  },
  {
   "cell_type": "markdown",
   "metadata": {},
   "source": [
    "____\n",
    "____\n",
    "____"
   ]
  },
  {
   "cell_type": "markdown",
   "metadata": {},
   "source": [
    "## 2) Bibliotecas\n",
    "\n",
    "Durante o curso, já tivemos contato com algumas **bibliotecas** (também chamadas de **pacotes** ou **módulos**), como a `datetime` e a `unicodedata`\n",
    "\n",
    "Uma biblioteca nada mais é que **uma coleção de funções prontas**, ou seja, \"incrementos adicionais\" do python puro, que podem ser utilizadas pra fazer tarefas específicas"
   ]
  },
  {
   "cell_type": "markdown",
   "metadata": {},
   "source": [
    "Podemos dar um \"apelido\" para a biblioteca, que em python é chamado de \"alias\". \n",
    "\n",
    "Para isso, usamos a estrutura: \n",
    "\n",
    "```python\n",
    "import nome_da_biblioteca as apelido_da_biblioteca\n",
    "```\n",
    "Assim, quando formos nos referir à biblioteca para utilizar uma de suas funções, usamos o seu apelido, ao invés de seu nome completo\n",
    "\n",
    "Por exemplo, podemo simportar a biblioteca datetime com o apelido \"dt\""
   ]
  },
  {
   "cell_type": "markdown",
   "metadata": {},
   "source": [
    "Diversos formatos de data  \n",
    "\"2021-06-28\"  \n",
    "yyyy-mm-dd  \n",
    "\"2021/06/28\"  \n",
    "yyyy/mm/dd  \n",
    "\"28/06/2021\"  \n",
    "dd/mm/yyyy  \n",
    "\"06/28/2021\"  \n",
    "mm/dd/yyyy  \n",
    "\n",
    "\"01/03/2021\"  \n",
    "\n",
    "\"06/28/21\"  \n",
    "\n",
    "\"Jun/28/21\"  \n",
    "\n"
   ]
  },
  {
   "cell_type": "code",
   "execution_count": 6,
   "metadata": {},
   "outputs": [],
   "source": [
    "import datetime"
   ]
  },
  {
   "cell_type": "code",
   "execution_count": 8,
   "metadata": {},
   "outputs": [],
   "source": [
    "datetime_apelido = datetime"
   ]
  },
  {
   "cell_type": "code",
   "execution_count": 3,
   "metadata": {},
   "outputs": [
    {
     "data": {
      "text/plain": [
       "['MAXYEAR',\n",
       " 'MINYEAR',\n",
       " '__builtins__',\n",
       " '__cached__',\n",
       " '__doc__',\n",
       " '__file__',\n",
       " '__loader__',\n",
       " '__name__',\n",
       " '__package__',\n",
       " '__spec__',\n",
       " 'date',\n",
       " 'datetime',\n",
       " 'datetime_CAPI',\n",
       " 'sys',\n",
       " 'time',\n",
       " 'timedelta',\n",
       " 'timezone',\n",
       " 'tzinfo']"
      ]
     },
     "execution_count": 3,
     "metadata": {},
     "output_type": "execute_result"
    }
   ],
   "source": [
    "dir(datetime)"
   ]
  },
  {
   "cell_type": "code",
   "execution_count": 9,
   "metadata": {},
   "outputs": [
    {
     "data": {
      "text/plain": [
       "['MAXYEAR',\n",
       " 'MINYEAR',\n",
       " '__builtins__',\n",
       " '__cached__',\n",
       " '__doc__',\n",
       " '__file__',\n",
       " '__loader__',\n",
       " '__name__',\n",
       " '__package__',\n",
       " '__spec__',\n",
       " 'date',\n",
       " 'datetime',\n",
       " 'datetime_CAPI',\n",
       " 'sys',\n",
       " 'time',\n",
       " 'timedelta',\n",
       " 'timezone',\n",
       " 'tzinfo']"
      ]
     },
     "execution_count": 9,
     "metadata": {},
     "output_type": "execute_result"
    }
   ],
   "source": [
    "dir(datetime_apelido)"
   ]
  },
  {
   "cell_type": "code",
   "execution_count": 11,
   "metadata": {},
   "outputs": [],
   "source": [
    "import datetime as dt\n",
    "# dt = datetime"
   ]
  },
  {
   "cell_type": "code",
   "execution_count": 17,
   "metadata": {},
   "outputs": [],
   "source": [
    "# criando uma data\n",
    "data = dt.date(2021, 6, 28)"
   ]
  },
  {
   "cell_type": "code",
   "execution_count": 20,
   "metadata": {},
   "outputs": [
    {
     "data": {
      "text/plain": [
       "datetime.date(2021, 6, 28)"
      ]
     },
     "execution_count": 20,
     "metadata": {},
     "output_type": "execute_result"
    }
   ],
   "source": [
    "data"
   ]
  },
  {
   "cell_type": "code",
   "execution_count": 18,
   "metadata": {},
   "outputs": [
    {
     "name": "stdout",
     "output_type": "stream",
     "text": [
      "2021-06-28\n"
     ]
    }
   ],
   "source": [
    "print(data)"
   ]
  },
  {
   "cell_type": "code",
   "execution_count": 48,
   "metadata": {},
   "outputs": [
    {
     "data": {
      "text/plain": [
       "datetime.datetime(2021, 6, 28, 19, 45, 48, 443177)"
      ]
     },
     "execution_count": 48,
     "metadata": {},
     "output_type": "execute_result"
    }
   ],
   "source": [
    "dt.datetime.now()"
   ]
  },
  {
   "cell_type": "code",
   "execution_count": 46,
   "metadata": {},
   "outputs": [
    {
     "data": {
      "text/plain": [
       "datetime.datetime(2021, 6, 28, 19, 44, 40, 221952)"
      ]
     },
     "execution_count": 46,
     "metadata": {},
     "output_type": "execute_result"
    }
   ],
   "source": [
    "dt.datetime.today()"
   ]
  },
  {
   "cell_type": "code",
   "execution_count": null,
   "metadata": {},
   "outputs": [],
   "source": []
  },
  {
   "cell_type": "code",
   "execution_count": 28,
   "metadata": {},
   "outputs": [
    {
     "name": "stdout",
     "output_type": "stream",
     "text": [
      "06/28/2021\n",
      "Mon\n",
      "Monday\n",
      "Monday\n",
      "28/06/2021\n"
     ]
    }
   ],
   "source": [
    "print(f'{data:%m/%d/%Y}')\n",
    "print(f'{data:%a}')\n",
    "print(f'{data:%A}')\n",
    "\n",
    "# A função strftime formata o objeto datetime.date para um formato de saida\n",
    "# https://docs.python.org/3/library/datetime.html\n",
    "# Olhar seção strftime() and strptime() Format Codes\n",
    "print(data.strftime('%A'))\n",
    "print(data.strftime('%d/%m/%Y'))\n"
   ]
  },
  {
   "cell_type": "code",
   "execution_count": 29,
   "metadata": {},
   "outputs": [],
   "source": [
    "def dia_semana(data):\n",
    "    dia = f'{data:%A}'\n",
    "    # dia = data.strftime('%A')\n",
    "    dia_str = ''\n",
    "    if dia == 'Monday':\n",
    "        dia_str = 'Segunda'\n",
    "    ...\n",
    "        \n",
    "    return dia_str"
   ]
  },
  {
   "cell_type": "code",
   "execution_count": null,
   "metadata": {},
   "outputs": [],
   "source": []
  },
  {
   "cell_type": "code",
   "execution_count": 34,
   "metadata": {},
   "outputs": [
    {
     "data": {
      "text/plain": [
       "datetime.datetime(2021, 6, 28, 19, 37, 27, 26143)"
      ]
     },
     "execution_count": 34,
     "metadata": {},
     "output_type": "execute_result"
    }
   ],
   "source": [
    "# dia de hoje dt.timedelta\n",
    "dt.datetime.today()"
   ]
  },
  {
   "cell_type": "code",
   "execution_count": 36,
   "metadata": {},
   "outputs": [
    {
     "data": {
      "text/plain": [
       "datetime.date(2021, 6, 28)"
      ]
     },
     "execution_count": 36,
     "metadata": {},
     "output_type": "execute_result"
    }
   ],
   "source": [
    "dt.date.today()"
   ]
  },
  {
   "cell_type": "code",
   "execution_count": 41,
   "metadata": {},
   "outputs": [
    {
     "name": "stdout",
     "output_type": "stream",
     "text": [
      "2021-03-30\n",
      "2019-10-07\n"
     ]
    }
   ],
   "source": [
    "print(dt.date.today() - dt.timedelta(days=90))\n",
    "print(dt.date.today() - dt.timedelta(weeks=90))"
   ]
  },
  {
   "cell_type": "code",
   "execution_count": 43,
   "metadata": {},
   "outputs": [
    {
     "data": {
      "text/plain": [
       "datetime.timedelta(days=90)"
      ]
     },
     "execution_count": 43,
     "metadata": {},
     "output_type": "execute_result"
    }
   ],
   "source": [
    "dt.timedelta(90)"
   ]
  },
  {
   "cell_type": "code",
   "execution_count": 63,
   "metadata": {},
   "outputs": [],
   "source": [
    "hoje = dt.datetime.today()\n",
    "data1 = dt.datetime.today() - dt.timedelta(weeks=90)\n",
    "data2 = dt.datetime.today() - dt.timedelta(180)"
   ]
  },
  {
   "cell_type": "code",
   "execution_count": 64,
   "metadata": {},
   "outputs": [
    {
     "name": "stdout",
     "output_type": "stream",
     "text": [
      "2021-06-28\n",
      "2019-10-07\n",
      "2020-12-30\n"
     ]
    }
   ],
   "source": [
    "print(f'{hoje:%Y-%m-%d}')\n",
    "print(f'{data1:%Y-%m-%d}')\n",
    "print(f'{data2:%Y-%m-%d}')"
   ]
  },
  {
   "cell_type": "code",
   "execution_count": 72,
   "metadata": {},
   "outputs": [
    {
     "data": {
      "text/plain": [
       "datetime.datetime(2021, 6, 28, 19, 49, 1, 255879)"
      ]
     },
     "execution_count": 72,
     "metadata": {},
     "output_type": "execute_result"
    }
   ],
   "source": [
    "hoje"
   ]
  },
  {
   "cell_type": "code",
   "execution_count": 73,
   "metadata": {},
   "outputs": [
    {
     "data": {
      "text/plain": [
       "datetime.datetime(2019, 10, 7, 19, 49, 1, 255934)"
      ]
     },
     "execution_count": 73,
     "metadata": {},
     "output_type": "execute_result"
    }
   ],
   "source": [
    "data1"
   ]
  },
  {
   "cell_type": "code",
   "execution_count": 68,
   "metadata": {},
   "outputs": [
    {
     "data": {
      "text/plain": [
       "999945"
      ]
     },
     "execution_count": 68,
     "metadata": {},
     "output_type": "execute_result"
    }
   ],
   "source": [
    "(hoje - data1).days"
   ]
  },
  {
   "cell_type": "code",
   "execution_count": 75,
   "metadata": {},
   "outputs": [
    {
     "data": {
      "text/plain": [
       "23.99972222222222"
      ]
     },
     "execution_count": 75,
     "metadata": {},
     "output_type": "execute_result"
    }
   ],
   "source": [
    "(((hoje - data1).seconds) / 3600)"
   ]
  },
  {
   "cell_type": "code",
   "execution_count": 80,
   "metadata": {
    "scrolled": true,
    "tags": []
   },
   "outputs": [
    {
     "name": "stdout",
     "output_type": "stream",
     "text": [
      "28/06/21\n",
      "29/06/21\n",
      "30/06/21\n",
      "01/07/21\n",
      "02/07/21\n",
      "03/07/21\n",
      "04/07/21\n",
      "05/07/21\n",
      "06/07/21\n",
      "07/07/21\n",
      "08/07/21\n",
      "09/07/21\n",
      "10/07/21\n",
      "11/07/21\n",
      "12/07/21\n",
      "13/07/21\n",
      "14/07/21\n",
      "15/07/21\n",
      "16/07/21\n",
      "17/07/21\n",
      "18/07/21\n",
      "19/07/21\n",
      "20/07/21\n",
      "21/07/21\n",
      "22/07/21\n",
      "23/07/21\n",
      "24/07/21\n",
      "25/07/21\n",
      "26/07/21\n",
      "27/07/21\n",
      "28/07/21\n"
     ]
    }
   ],
   "source": [
    "hoje = dt.date.today()\n",
    "for n_dia in range(0,31):\n",
    "    print(f'{hoje + dt.timedelta(n_dia):%d/%m/%y}')\n",
    "    "
   ]
  },
  {
   "cell_type": "code",
   "execution_count": 81,
   "metadata": {},
   "outputs": [],
   "source": [
    "hoje = dt.date.today()\n",
    "lista_datas = []\n",
    "for n_dia in range(0,31):\n",
    "    lista_datas.append(hoje + dt.timedelta(n_dia))\n",
    "    "
   ]
  },
  {
   "cell_type": "code",
   "execution_count": 85,
   "metadata": {},
   "outputs": [
    {
     "data": {
      "text/plain": [
       "[datetime.date(2021, 6, 28),\n",
       " datetime.date(2021, 6, 29),\n",
       " datetime.date(2021, 6, 30),\n",
       " datetime.date(2021, 7, 1),\n",
       " datetime.date(2021, 7, 2),\n",
       " datetime.date(2021, 7, 3),\n",
       " datetime.date(2021, 7, 4),\n",
       " datetime.date(2021, 7, 5),\n",
       " datetime.date(2021, 7, 6),\n",
       " datetime.date(2021, 7, 7),\n",
       " datetime.date(2021, 7, 8),\n",
       " datetime.date(2021, 7, 9),\n",
       " datetime.date(2021, 7, 10),\n",
       " datetime.date(2021, 7, 11),\n",
       " datetime.date(2021, 7, 12),\n",
       " datetime.date(2021, 7, 13),\n",
       " datetime.date(2021, 7, 14),\n",
       " datetime.date(2021, 7, 15),\n",
       " datetime.date(2021, 7, 16),\n",
       " datetime.date(2021, 7, 17),\n",
       " datetime.date(2021, 7, 18),\n",
       " datetime.date(2021, 7, 19),\n",
       " datetime.date(2021, 7, 20),\n",
       " datetime.date(2021, 7, 21),\n",
       " datetime.date(2021, 7, 22),\n",
       " datetime.date(2021, 7, 23),\n",
       " datetime.date(2021, 7, 24),\n",
       " datetime.date(2021, 7, 25),\n",
       " datetime.date(2021, 7, 26),\n",
       " datetime.date(2021, 7, 27),\n",
       " datetime.date(2021, 7, 28)]"
      ]
     },
     "execution_count": 85,
     "metadata": {},
     "output_type": "execute_result"
    }
   ],
   "source": [
    "lista_datas"
   ]
  },
  {
   "cell_type": "code",
   "execution_count": 93,
   "metadata": {},
   "outputs": [
    {
     "data": {
      "text/plain": [
       "[datetime.datetime(2021, 2, 27, 0, 0),\n",
       " datetime.datetime(2021, 2, 28, 0, 0),\n",
       " datetime.datetime(2021, 3, 1, 0, 0),\n",
       " datetime.datetime(2021, 3, 2, 0, 0),\n",
       " datetime.datetime(2021, 3, 3, 0, 0),\n",
       " datetime.datetime(2021, 3, 4, 0, 0),\n",
       " datetime.datetime(2021, 3, 5, 0, 0),\n",
       " datetime.datetime(2021, 3, 6, 0, 0),\n",
       " datetime.datetime(2021, 3, 7, 0, 0),\n",
       " datetime.datetime(2021, 3, 8, 0, 0)]"
      ]
     },
     "execution_count": 93,
     "metadata": {},
     "output_type": "execute_result"
    }
   ],
   "source": [
    "[dt.datetime.strptime('27/02/2020', '%d/%m/%Y') + dt.timedelta(n_dias) for n_dias in range(10)]"
   ]
  },
  {
   "cell_type": "code",
   "execution_count": 94,
   "metadata": {},
   "outputs": [
    {
     "data": {
      "text/plain": [
       "[datetime.datetime(2021, 2, 27, 0, 0),\n",
       " datetime.datetime(2021, 2, 28, 0, 0),\n",
       " datetime.datetime(2021, 3, 1, 0, 0),\n",
       " datetime.datetime(2021, 3, 2, 0, 0),\n",
       " datetime.datetime(2021, 3, 3, 0, 0),\n",
       " datetime.datetime(2021, 3, 4, 0, 0),\n",
       " datetime.datetime(2021, 3, 5, 0, 0),\n",
       " datetime.datetime(2021, 3, 6, 0, 0),\n",
       " datetime.datetime(2021, 3, 7, 0, 0),\n",
       " datetime.datetime(2021, 3, 8, 0, 0)]"
      ]
     },
     "execution_count": 94,
     "metadata": {},
     "output_type": "execute_result"
    }
   ],
   "source": [
    "[dt.datetime.strptime('27/02/2021', '%d/%m/%Y') + dt.timedelta(n_dias) for n_dias in range(10)]"
   ]
  },
  {
   "cell_type": "code",
   "execution_count": 102,
   "metadata": {},
   "outputs": [],
   "source": [
    "lista_datas = [dt.datetime.strptime('27/02/2021', '%d/%m/%Y') + dt.timedelta(n_dias) for n_dias in range(15)]"
   ]
  },
  {
   "cell_type": "code",
   "execution_count": 103,
   "metadata": {},
   "outputs": [
    {
     "data": {
      "text/plain": [
       "[datetime.datetime(2021, 2, 27, 0, 0),\n",
       " datetime.datetime(2021, 2, 28, 0, 0),\n",
       " datetime.datetime(2021, 3, 1, 0, 0),\n",
       " datetime.datetime(2021, 3, 2, 0, 0),\n",
       " datetime.datetime(2021, 3, 3, 0, 0),\n",
       " datetime.datetime(2021, 3, 4, 0, 0),\n",
       " datetime.datetime(2021, 3, 5, 0, 0),\n",
       " datetime.datetime(2021, 3, 6, 0, 0),\n",
       " datetime.datetime(2021, 3, 7, 0, 0),\n",
       " datetime.datetime(2021, 3, 8, 0, 0),\n",
       " datetime.datetime(2021, 3, 9, 0, 0),\n",
       " datetime.datetime(2021, 3, 10, 0, 0),\n",
       " datetime.datetime(2021, 3, 11, 0, 0),\n",
       " datetime.datetime(2021, 3, 12, 0, 0),\n",
       " datetime.datetime(2021, 3, 13, 0, 0)]"
      ]
     },
     "execution_count": 103,
     "metadata": {},
     "output_type": "execute_result"
    }
   ],
   "source": [
    "lista_datas"
   ]
  },
  {
   "cell_type": "code",
   "execution_count": 104,
   "metadata": {},
   "outputs": [
    {
     "data": {
      "text/plain": [
       "[datetime.datetime(2021, 3, 1, 0, 0),\n",
       " datetime.datetime(2021, 3, 2, 0, 0),\n",
       " datetime.datetime(2021, 3, 3, 0, 0),\n",
       " datetime.datetime(2021, 3, 4, 0, 0),\n",
       " datetime.datetime(2021, 3, 5, 0, 0),\n",
       " datetime.datetime(2021, 3, 8, 0, 0),\n",
       " datetime.datetime(2021, 3, 9, 0, 0),\n",
       " datetime.datetime(2021, 3, 10, 0, 0),\n",
       " datetime.datetime(2021, 3, 11, 0, 0),\n",
       " datetime.datetime(2021, 3, 12, 0, 0)]"
      ]
     },
     "execution_count": 104,
     "metadata": {},
     "output_type": "execute_result"
    }
   ],
   "source": [
    "[data for data in lista_datas if data.weekday() in list(range(5))]"
   ]
  },
  {
   "cell_type": "code",
   "execution_count": null,
   "metadata": {},
   "outputs": [],
   "source": []
  },
  {
   "cell_type": "markdown",
   "metadata": {},
   "source": [
    "Para instalarmos uma biblioteca nova, abrimos o **terminal**, e usamos:\n",
    "\n",
    "```pip install nome_da_biblioteca```\n",
    "\n",
    "ou\n",
    "\n",
    "```conda install nome_da_biblioteca```\n",
    "\n",
    "\n",
    "Se quisermos uma versão específica,\n",
    "\n",
    "```pip install nome_da_biblioteca==numero_da_versao```\n",
    "\n",
    "Outra forma de instalar bibliotecas diretamente no Jupyter, é digitar em alguma célula de código exatamente os códigos acima, mas com um \"!\" no início. Por exemplo,\n",
    "\n",
    "```!pip install nome_da_biblioteca```"
   ]
  },
  {
   "cell_type": "markdown",
   "metadata": {},
   "source": [
    "Um ótimo site para referência de bibliotecas em Python: https://pypi.org/"
   ]
  },
  {
   "cell_type": "markdown",
   "metadata": {},
   "source": [
    "Para fazer os exercícios a seguir, é nécessário utilizar a biblioteca [random](https://docs.python.org/3/library/random.html)!"
   ]
  },
  {
   "cell_type": "markdown",
   "metadata": {},
   "source": [
    "**7.Faça uma função que sorteia 10 números aleatórios entre 0 e 100 e retorna o maior entre eles.**"
   ]
  },
  {
   "cell_type": "code",
   "execution_count": 134,
   "metadata": {},
   "outputs": [],
   "source": [
    "import random"
   ]
  },
  {
   "cell_type": "code",
   "execution_count": 161,
   "metadata": {},
   "outputs": [],
   "source": [
    "random.seed(42)\n",
    "print([random.randint(0, 100) for _ in range(10)])\n",
    "print([random.randint(0, 100) for _ in range(10)])\n",
    "print([random.randint(0, 100) for _ in range(10)])"
   ]
  },
  {
   "cell_type": "code",
   "execution_count": 166,
   "metadata": {},
   "outputs": [
    {
     "name": "stdout",
     "output_type": "stream",
     "text": [
      "[81, 14, 3, 94, 35, 31, 28, 17, 94, 13]\n",
      "[81, 14, 3, 94, 35, 31, 28, 17, 94, 13]\n",
      "[86, 94, 69, 11, 75, 54, 4, 3, 11, 27]\n"
     ]
    }
   ],
   "source": [
    "random.seed(42)\n",
    "print([random.randint(0, 100) for _ in range(10)])\n",
    "random.seed(42)\n",
    "print([random.randint(0, 100) for _ in range(10)])\n",
    "print([random.randint(0, 100) for _ in range(10)])"
   ]
  },
  {
   "cell_type": "code",
   "execution_count": 182,
   "metadata": {},
   "outputs": [],
   "source": [
    "def maximo_valor(n):\n",
    "    random.seed(42)\n",
    "    lista_valores = [random.randint(0, 100) for _ in range(n)]\n",
    "    return max(lista_valores)\n",
    "    "
   ]
  },
  {
   "cell_type": "code",
   "execution_count": 183,
   "metadata": {},
   "outputs": [
    {
     "name": "stdout",
     "output_type": "stream",
     "text": [
      "94\n"
     ]
    }
   ],
   "source": [
    "random.seed(42)\n",
    "print(max([random.randint(0, 100) for _ in range(10)]))"
   ]
  },
  {
   "cell_type": "code",
   "execution_count": 184,
   "metadata": {},
   "outputs": [
    {
     "data": {
      "text/plain": [
       "94"
      ]
     },
     "execution_count": 184,
     "metadata": {},
     "output_type": "execute_result"
    }
   ],
   "source": [
    "maximo_valor(10)"
   ]
  },
  {
   "cell_type": "markdown",
   "metadata": {},
   "source": [
    "\n",
    "**8.Faça uma função que recebe um número n de entrada, sorteia n números aleatórios entre 0 e 100 e retorna a média deles.**"
   ]
  },
  {
   "cell_type": "code",
   "execution_count": 188,
   "metadata": {},
   "outputs": [
    {
     "data": {
      "text/plain": [
       "[11, 75, 54, 4, 3, 27, 29, 64, 77, 71]"
      ]
     },
     "execution_count": 188,
     "metadata": {},
     "output_type": "execute_result"
    }
   ],
   "source": [
    "n = 10\n",
    "sample(range(0, 101), n)"
   ]
  },
  {
   "cell_type": "code",
   "execution_count": 196,
   "metadata": {},
   "outputs": [],
   "source": [
    "def media_aleatoria(n):\n",
    "    random.seed(23)\n",
    "    lista_valores = sample(range(0, 101), n)\n",
    "    return sum(lista_valores) / len(lista_valores)  # ou sum(lista_valores) / n\n",
    "    "
   ]
  },
  {
   "cell_type": "code",
   "execution_count": 193,
   "metadata": {},
   "outputs": [
    {
     "data": {
      "text/plain": [
       "47.6"
      ]
     },
     "execution_count": 193,
     "metadata": {},
     "output_type": "execute_result"
    }
   ],
   "source": [
    "media_aleatoria(10)"
   ]
  },
  {
   "cell_type": "code",
   "execution_count": 195,
   "metadata": {},
   "outputs": [
    {
     "data": {
      "text/plain": [
       "47.6"
      ]
     },
     "execution_count": 195,
     "metadata": {},
     "output_type": "execute_result"
    }
   ],
   "source": [
    "random.seed(23)\n",
    "n = 10\n",
    "lista_valores = sample(range(0, 101), n)\n",
    "sum(lista_valores) / len(lista_valores)"
   ]
  },
  {
   "cell_type": "code",
   "execution_count": 179,
   "metadata": {},
   "outputs": [],
   "source": [
    "## Imports com from"
   ]
  },
  {
   "cell_type": "code",
   "execution_count": 117,
   "metadata": {},
   "outputs": [],
   "source": [
    "import datetime as dt\n",
    "from datetime import datetime\n",
    "from datetime import datetime as dt2"
   ]
  },
  {
   "cell_type": "code",
   "execution_count": 118,
   "metadata": {},
   "outputs": [
    {
     "data": {
      "text/plain": [
       "datetime.datetime(2021, 6, 28, 20, 23, 12, 951378)"
      ]
     },
     "execution_count": 118,
     "metadata": {},
     "output_type": "execute_result"
    }
   ],
   "source": [
    "dt.datetime.today()"
   ]
  },
  {
   "cell_type": "code",
   "execution_count": 119,
   "metadata": {},
   "outputs": [
    {
     "data": {
      "text/plain": [
       "datetime.datetime(2021, 6, 28, 20, 23, 13, 194103)"
      ]
     },
     "execution_count": 119,
     "metadata": {},
     "output_type": "execute_result"
    }
   ],
   "source": [
    "datetime.today()"
   ]
  },
  {
   "cell_type": "code",
   "execution_count": 120,
   "metadata": {},
   "outputs": [
    {
     "data": {
      "text/plain": [
       "datetime.datetime(2021, 6, 28, 20, 23, 16, 751920)"
      ]
     },
     "execution_count": 120,
     "metadata": {},
     "output_type": "execute_result"
    }
   ],
   "source": [
    "dt2.today()"
   ]
  },
  {
   "cell_type": "markdown",
   "metadata": {},
   "source": [
    "____\n",
    "____\n",
    "____"
   ]
  },
  {
   "cell_type": "markdown",
   "metadata": {},
   "source": [
    "## 3) Além do Jupyter\n",
    "\n",
    "E se eu quiser executar meu código fora do jupyter?\n",
    "\n",
    "Para isso, salvamos o arquivo como a extensão \".py\"\n",
    "\n",
    "E então executamos o arquivo no terminal, utilizando\n",
    "\n",
    "`python nome_do_programa.py` "
   ]
  },
  {
   "cell_type": "markdown",
   "metadata": {},
   "source": [
    "____\n",
    "____\n",
    "____"
   ]
  },
  {
   "cell_type": "markdown",
   "metadata": {},
   "source": [
    "## 4) Criando programas executáveis (.exe)\n",
    "\n",
    "__Obs.: o texto abaixo é o mesmo que está no Class!__\n",
    "\n",
    "Imagine que você deseja enviar um programa que você fez em Python para um amigo. Para que seu amigo consiga executar seu programa, é necessário que ele também tenha o Python instalado no computador dele -- ele teria que fazer todo aquele processo de instalação do Python que fizemos na primeira aula do curso.\n",
    "\n",
    "Muitas vezes, isso é bastante inconveniente -- não seria bem melhor se seu amigo pudesse executar seu programa feito em Python independentemente dele ter o Python instalado no computador dele?\n",
    "\n",
    "A boa notícia é que isso é possível! Basta nós transformarmos o nosso programa Python (de extensão \".py\") para um programa executável (de extensão \".exe\"), que funciona independente de qualquer instalação do Python!\n",
    "\n",
    "Há diversas formas de fazer isso, mas veremos aqui a forma mais simples, que é utilizando a biblioteca **pyinstaler**! Para acessar a documentação da biblioteca, [clique aqui!](https://www.pyinstaller.org/index.html)\n",
    "\n",
    "\n",
    "De maneira simplificada, o que a biblioteca faz é comprimir o código Python (arquivo .py) juntamente com todas as bibliotecas utilizadas nele, e criar versões locais das bibliotecas e do próprio Python, sem a necessidade que estes sejam instalados. Com isso, é criado um arquivo executável (.exe), que ao ser executado é interpretado localmente, fazendo referência às pastas locais com as bibliotecas -- e assim o programa é executado, independente do Python ou as bibliotecas estarem instaladas no computador! Bem legal, né?\n",
    "\n",
    "Agora que entendemos o funcionamento básico da biblioteca, vamos ver como utiliá-la! Basta seguir o passo-a-passo a seguir:\n",
    "\n",
    "___________________________\n",
    "\n",
    "\n",
    "- 1) Caso você esteja usando o Jupyter Notebook, é necessário salvar o código do notebook que queremos transformar em .exe como um arquivo \".py\":\n",
    "\t- Pra fazer isso, abra o Notebook, e no menu superior vá em em File >> Download as >> Python (.py);\n",
    "\t- Se você usa alguma IDE e já tem o arquivo .py diretamente, pode ir pro passo seguinte!\n",
    "\n",
    "- 2) Crie uma pasta nova e coloque o arquivo .py nesta pasta\n",
    "\t- Dê o nome que desejar à pasta -- é nela que ficará o arquivo .exe final e todas as outras pastas de referência às bibliotecas, como mencionamos acima;\n",
    "\t- Crie a pasta em um local simples (como, por exemplo, dentro da pasta \"Documentos\"), pois teremos que \"navegar\" até essa pasta no passo 4), abaixo.\n",
    "\n",
    "- 3) Caso você ainda não tenha instalado, é necessário instalar o pyinstaller (Isso é feito apenas uma vez!)\n",
    "\t- A instalação é feita como você instalaria qualquer biblioteca:\n",
    "\t\t- Abra o terminal (Linux ou Mac), Prompt de comando ou Anaconda Prompt (Windows), digite ```pip install pyinstaller```, e dê enter;\n",
    "\t\t- Pra quem tem o anaconda, pode usar também o ```conda install pyinstaller```;\n",
    "\t\t- Também é possível instalar diretamente pelo Jupyter, executando em uma célula o código ```!pip install pyinstaller```.\n",
    "\n",
    "\n",
    "- 4) Uma vez instalada a biblioteca, você deve utilizar o terminal/prompt de comando pra navegar até a pasta criada no passo 2):\n",
    "\t- Para fazer isso, utilize o comando ```\"cd\"``` no terminal/prompt para mudar de pastas, até você chegar na pasta desejada.\n",
    "\n",
    "- 5) Quando você estiver na pasta, rode no terminal/prompt o seguinte comando: ```pyinstaller nome_do_programa.py```\n",
    "\t- Vai aparecer um monte de código na tela do prompt, normal. Isso é a biblioteca em ação!\n",
    "\t- Quando o processo terminar, aparecerá uma mensagem de sucesso no prompt. Depois disso, pode fecha-lo.\n",
    "\n",
    "- 6) Agora vá até a pasta do passo 2), e veja que uma pasta chamada \"dist\" foi criada. \n",
    "\t- Pode ser que outras pastas também tenham sido criadas -- essas são as passas com as bibliotecas e outros arquivos importantes pro seu arquivo .exe funcionar, que mencionamos antes.\n",
    "\n",
    "- 7) Dentro desta pasta \"dist\" você vai encontrar o arquivo .exe! Pronto!\n",
    "\n",
    "\n",
    "___________________________\n",
    "\n",
    "Pronto! Seguindo o passo-a-passo acima, você conseguiu criar um arquivo executável capaz de rodar em qualquer computador, independente da instalção do Python!\n",
    "\n",
    "> Obs.: uma vez instalada a biblioteca, o passo 3) não precisará mais ser repetido! Lembre-se que só é necessário instalar as bibliotecas uma vez!\n",
    "\n",
    "Um ponto importante é que todos os arquivos nas pastas criadas além da \"dist\" são necessários pro seu arquivo .exe ser executado corretamente! Então, pra você enviar o programa pro seu amigo, é necessário enviar também todas essas pastas.\n",
    "\n",
    "> A dica é: comprima a pasta criada no passo 2) (ou seja, crie um arquivo .zip ou .rar), e envie este arquivo comprimido! Assim, você garante que todos os arquivos necessários serão também enviados!\n",
    "\n",
    "Feito isso, o que importa é que seu arquivo .exe foi criado! Você pode criar um atalho pra ele e colocá-lo em qualquer outra pasta, ou seja, não é necessário entrar na pasta do passo 2) sempre que você for querer exectuar o programa!\n",
    "\n",
    "Vamos a um exemplo?\n",
    "\n",
    "\n",
    "Considere o programa a seguir:\n",
    "\n",
    "```python\n",
    "import datetime as dt\n",
    "\n",
    "nome = input(\"\\nQual é o seu nome? \")\n",
    "\n",
    "print(\"\\nBom dia,\" + nome + \"!\")\n",
    "\n",
    "print(\"\\nEu sou um programa pra te falar qual é a data e hora atuais!\")\n",
    "\n",
    "print(\"\\nO dia de hoje é:\", dt.datetime.strftime(dt.datetime.now(), \"%d/%m/%Y\"))\n",
    "\n",
    "print(\"\\nE a hora atual é:\", dt.datetime.strftime(dt.datetime.now(), \"%H:%M:%S\"))\n",
    "\n",
    "resposta = input(\"\\nVocê deseja fechar o programa? (s/n) \")\n",
    "\n",
    "while resposta.lower() != \"s\":\n",
    "\n",
    "\tresposta = input(\"\\nVocê deseja fechar o programa? (s/n) \")\n",
    "\n",
    "```\n",
    "\n",
    "É um programa bem simples, que pede o nome do usuário, depois exibe o dia e hora atuais (para isso, utiliza a biblioteca datatime). Por fim, pede a confirmação do usuário para fechar o programa.\n",
    "\n",
    "Copie o código acima em um arquivo .py e siga o passo-a-passo acima a partir do passo 2), ou copie o código em um Notebook, e siga a partir do passo 1). Após o passo 7), você terá criado um arquivo .exe do programa acima! Dando dois cliques no arquivo exectuável, você verá o programa acima ser executado no terminal/prompt de comando! E caso você faça uma interface gráfica, é a interface que será aberta ao executar o arquivo .exe!\n",
    "\n",
    "Agora você consegue enviar seus programas a quem quiser! Muito bem!"
   ]
  },
  {
   "cell_type": "markdown",
   "metadata": {},
   "source": [
    "## Mandar lista de função recursiva"
   ]
  },
  {
   "cell_type": "code",
   "execution_count": null,
   "metadata": {},
   "outputs": [],
   "source": []
  },
  {
   "cell_type": "markdown",
   "metadata": {},
   "source": [
    "## Comentar sobre pass e continue"
   ]
  },
  {
   "cell_type": "code",
   "execution_count": null,
   "metadata": {},
   "outputs": [],
   "source": []
  },
  {
   "cell_type": "markdown",
   "metadata": {},
   "source": [
    "## Formas de acessar a documentação!"
   ]
  },
  {
   "cell_type": "code",
   "execution_count": 12,
   "metadata": {},
   "outputs": [
    {
     "data": {
      "text/plain": [
       "\u001b[0;31mSignature:\u001b[0m \u001b[0mvar\u001b[0m\u001b[0;34m.\u001b[0m\u001b[0mreplace\u001b[0m\u001b[0;34m(\u001b[0m\u001b[0mold\u001b[0m\u001b[0;34m,\u001b[0m \u001b[0mnew\u001b[0m\u001b[0;34m,\u001b[0m \u001b[0mcount\u001b[0m\u001b[0;34m=\u001b[0m\u001b[0;34m-\u001b[0m\u001b[0;36m1\u001b[0m\u001b[0;34m,\u001b[0m \u001b[0;34m/\u001b[0m\u001b[0;34m)\u001b[0m\u001b[0;34m\u001b[0m\u001b[0;34m\u001b[0m\u001b[0m\n",
       "\u001b[0;31mDocstring:\u001b[0m\n",
       "Return a copy with all occurrences of substring old replaced by new.\n",
       "\n",
       "  count\n",
       "    Maximum number of occurrences to replace.\n",
       "    -1 (the default value) means replace all occurrences.\n",
       "\n",
       "If the optional argument count is given, only the first count occurrences are\n",
       "replaced.\n",
       "\u001b[0;31mType:\u001b[0m      builtin_function_or_method\n"
      ]
     },
     "metadata": {},
     "output_type": "display_data"
    }
   ],
   "source": [
    "var = 'Minha string'\n",
    "\n",
    "# Verificando a documentação do replace\n",
    "var.replace??"
   ]
  },
  {
   "cell_type": "code",
   "execution_count": 14,
   "metadata": {},
   "outputs": [
    {
     "name": "stdout",
     "output_type": "stream",
     "text": [
      "Help on built-in function replace:\n",
      "\n",
      "replace(old, new, count=-1, /) method of builtins.str instance\n",
      "    Return a copy with all occurrences of substring old replaced by new.\n",
      "    \n",
      "      count\n",
      "        Maximum number of occurrences to replace.\n",
      "        -1 (the default value) means replace all occurrences.\n",
      "    \n",
      "    If the optional argument count is given, only the first count occurrences are\n",
      "    replaced.\n",
      "\n"
     ]
    }
   ],
   "source": [
    "# Outra forma de verificar a documentação do replace\n",
    "help(var.replace)"
   ]
  },
  {
   "cell_type": "code",
   "execution_count": null,
   "metadata": {},
   "outputs": [],
   "source": []
  }
 ],
 "metadata": {
  "kernelspec": {
   "display_name": "Python 3",
   "language": "python",
   "name": "python3"
  },
  "language_info": {
   "codemirror_mode": {
    "name": "ipython",
    "version": 3
   },
   "file_extension": ".py",
   "mimetype": "text/x-python",
   "name": "python",
   "nbconvert_exporter": "python",
   "pygments_lexer": "ipython3",
   "version": "3.8.3"
  },
  "varInspector": {
   "cols": {
    "lenName": 16,
    "lenType": 16,
    "lenVar": 40
   },
   "kernels_config": {
    "python": {
     "delete_cmd_postfix": "",
     "delete_cmd_prefix": "del ",
     "library": "var_list.py",
     "varRefreshCmd": "print(var_dic_list())"
    },
    "r": {
     "delete_cmd_postfix": ") ",
     "delete_cmd_prefix": "rm(",
     "library": "var_list.r",
     "varRefreshCmd": "cat(var_dic_list()) "
    }
   },
   "types_to_exclude": [
    "module",
    "function",
    "builtin_function_or_method",
    "instance",
    "_Feature"
   ],
   "window_display": false
  }
 },
 "nbformat": 4,
 "nbformat_minor": 4
}
