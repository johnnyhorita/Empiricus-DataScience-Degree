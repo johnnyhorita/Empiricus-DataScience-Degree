{
 "cells": [
  {
   "cell_type": "code",
   "execution_count": 1,
   "metadata": {},
   "outputs": [],
   "source": [
    "%config Completer.use_jedi = False"
   ]
  },
  {
   "cell_type": "markdown",
   "metadata": {},
   "source": [
    "# Aula 0 - Introdução, Jupyter e variáveis\n",
    "\n",
    "## Outline\n",
    "-------------------------\n",
    "Na aula de hoje vamos explorar os seguintes tópicos:\n",
    "- 1. Introdução: Jupyter e outras IDEs;\n",
    "- 2. Primeiro programa em Python;\n",
    "- 3. Variáveis\n",
    "-------------------------\n",
    "\n",
    "## Objetivos\n",
    "Nessa aula iremos explorar algumas funcionalidades do Jupyter Notebook, o ambiente de desenvolvimento que utilizaremos neste curso.\n",
    "\n",
    "### Apresentações.\n",
    "- Sobre mim\n",
    "- Ementa do curso\n",
    "- Sobre vocês\n",
    "- Let's Code\n",
    "    - Escola de alunos para alunos -> Foco no conhecimento prático, sem perder de vista o conhecimento teórico.\n"
   ]
  },
  {
   "cell_type": "markdown",
   "metadata": {},
   "source": [
    "**Alguns sites interessantes para treinar programação:**  \n",
    "[CodeSignal](https://codesignal.com/developers/)  \n",
    "[projecteuler](https://projecteuler.net/)  \n",
    "[CodeWars](https://www.codewars.com/)  \n",
    "[LeetCode](https://leetcode.com/)  \n",
    "[HackerRank](https://www.hackerrank.com/)  \n",
    "\n",
    "**Comunidade de Dados de São Paulo**  \n",
    "PyData SP  \n",
    "- [Meetup](https://www.meetup.com/PyData-Sao-Paulo/)\n",
    "- [YouTube](https://www.youtube.com/channel/UCejuzULiRcqml_DOnY2IFfA)\n",
    "- [LinkedIn](https://www.linkedin.com/company/14826505/)"
   ]
  },
  {
   "cell_type": "markdown",
   "metadata": {},
   "source": [
    "# Instalando o Anaconda\n",
    "O anaconda é uma distribuição das linguagens Python e R para a computação científica, sendo amplamente utilizada no mundo de Data Science (mas não se restringindo apenas a isso). Para instalá-la, baixe a versão mais recente na [página de downloads](https://www.anaconda.com/distribution/) do site. Essa distribuição já contém grande parte dos módulos (bibliotecas) Python que usaremos em aula.\n",
    "\n",
    "O curso também pode ser seguido instalando cada biblioteca manualmente com o `pip`.\n",
    "\n",
    "### Jupyter\n",
    "Você pode encontrar uma introdução ao Jupyter Notebook [aqui](https://letscode-academy.com/blog/introducao-ao-jupyter-notebook/).\n",
    "\n",
    "### VSCode\n",
    "O VSCode é um editor de código que permite o rápido desenvolvimento.\n",
    "Suporta o \"linting\" do código, permitindo visualizar de forma ágil possíveis problemas de desenvolvimento.\n",
    "\n"
   ]
  },
  {
   "cell_type": "markdown",
   "metadata": {},
   "source": [
    "## 1) Introdução: Jupyter\n",
    "\n",
    "#### Alguns atalhos\n",
    "Para usar o Jupyter de forma fluida e rápida, é importante utilizarmos alguns atalhos do teclado.\n",
    "\n",
    "Existem muitos atalhos (eles podem ser consultados no menu acima, em **Help >> Keyboard Shortcuts**), mas os principais utilizados são:\n",
    "- CTRL + ENTER ou SHIFT + ENTER: executa a célula;\n",
    "- ENTER: para entrar em uma célula;\n",
    "- ESC: deixa a célula em modo de comando (azul);\n",
    "- ESC e depois M: transforma a célula em célula de texto (markdown);\n",
    "- ESC e depois Y: transforma a célula em célula de código;\n",
    "- ESC e depois DD: apaga a célula;\n",
    "- ESC e depois A: (ABOVE) - cria uma célula acima da célula atual;\n",
    "- ESC e depois B: (BELOW) - cria uma célula abaixo da célula atual;"
   ]
  },
  {
   "cell_type": "markdown",
   "metadata": {},
   "source": [
    "## 2) Primeiro programa em Python\n",
    "\n",
    "Tradicionalmente, o primeiro programa feito em uma nova linguagem de programação consiste em exibir a frase \"Olá, mundo!\" na tela.\n",
    "\n",
    "Vamos fazer isso em Python?\n",
    "\n",
    "Para isso, basta utilizar a função `print()`, e indicar o texto a ser exibido entre aspas: \"Olá, mundo!\""
   ]
  },
  {
   "cell_type": "code",
   "execution_count": 7,
   "metadata": {},
   "outputs": [
    {
     "name": "stdout",
     "output_type": "stream",
     "text": [
      "Olá, mundo!\n"
     ]
    }
   ],
   "source": [
    "print(\"Olá, mundo!\")"
   ]
  },
  {
   "cell_type": "markdown",
   "metadata": {},
   "source": [
    "--------------------\n",
    "Parabéns! Seu primeiro programa em Python foi executado com sucesso!\n",
    "\n",
    "Depois vamos falar melhor sobre o print()."
   ]
  },
  {
   "cell_type": "markdown",
   "metadata": {},
   "source": [
    "-------------------\n",
    "Depois vamos falar melhor sobre operações matemáticas em Python, mas podemos exibir o resultado de algumas operações simples usando a funçao print()\n",
    "\n",
    "Note que as instruções são executadas __na ordem em que aparecem!__"
   ]
  },
  {
   "cell_type": "code",
   "execution_count": 8,
   "metadata": {},
   "outputs": [
    {
     "name": "stdout",
     "output_type": "stream",
     "text": [
      "5\n",
      "2190\n",
      "40\n"
     ]
    }
   ],
   "source": [
    "print(10 - 5)   # subtração\n",
    "print(6 * 365)  # multiplicação\n",
    "print(10 + 30)  # adição"
   ]
  },
  {
   "cell_type": "markdown",
   "metadata": {},
   "source": [
    "O jupyter nos permite também examinar o valor de uma expressão sem a necessidade de usar o print()\n",
    "\n",
    "Mas note que logo abaixo do código, aparece um \"Out[]\" ou o número da célula que foi executada, o que não acontece quando usamos a função print()\n",
    "\n",
    "Esse é um jeito de \"espiar\" o output das operações do Python de forma direta!"
   ]
  },
  {
   "cell_type": "code",
   "execution_count": 20,
   "metadata": {},
   "outputs": [
    {
     "data": {
      "text/plain": [
       "40"
      ]
     },
     "execution_count": 20,
     "metadata": {},
     "output_type": "execute_result"
    }
   ],
   "source": [
    "10 + 30  # adição"
   ]
  },
  {
   "cell_type": "markdown",
   "metadata": {},
   "source": [
    "Outra coisa importante é que o Jupyter só permite examinar o valor da **última** expressão no código:"
   ]
  },
  {
   "cell_type": "code",
   "execution_count": 26,
   "metadata": {},
   "outputs": [
    {
     "data": {
      "text/plain": [
       "40"
      ]
     },
     "execution_count": 26,
     "metadata": {},
     "output_type": "execute_result"
    }
   ],
   "source": [
    "10 - 5\n",
    "6 * 365\n",
    "10 + 30"
   ]
  },
  {
   "cell_type": "markdown",
   "metadata": {},
   "source": [
    "## 3) Variáveis\n",
    "\n",
    "Seria legal se pudéssemos **guardar** o valor das operações matemáticas que fizemos acima, não é mesmo?\n",
    "\n",
    "Isso é possível com o uso das **variáveis**, que são um pedacinho da memória onde armazenamos as operações do Python\n",
    "\n",
    "\n",
    "Uma variável pode legar qualquer nome, mas existem algumas regras:\n",
    "\n",
    "- O Python **diferencia** maiúscula de minúscula (ex: \"variavel\" é diferente de \"Variavel\", \"VaRiAvEl\" ou \"VARIAVEL\")\n",
    "    - Dica: melhor usar letras minúsculas pra nomes de variáveis\n",
    "- O nome das variáveis **não** pode ter espaço! Use um underline ao invés de espaço: \"minha_variavel\" ao invés de \"minha variavel\"\n",
    "- É melhor que o nome da variável **não** tenha acento (ex: não usar o nome \"variável\")\n",
    "- Existem algumas palavras reservadas do Python, que **não** podem ser usadas como nome de variável, ex: and, or, if, else, lambda, etc.\n",
    "- Também **não** use nome de funções para variáveis (ex: print)\n",
    "- Dica geral: o nome de variavel fica preto em python!\n",
    "    - Se o nome que você for dar ficar colorido, melhor escolher outro nome!"
   ]
  },
  {
   "cell_type": "markdown",
   "metadata": {},
   "source": [
    "### Criando três variaveis\n",
    "\n",
    "Agora, vamos criar três variáveis para armazenar os calores dos cálculos matemáticos\n",
    "\n",
    "__IMPORTANTE (dica): O sinal \"=\" é lido como \"recebe\", pois o que estamos fazendo é guardando o valor da operação matemática no pedacinho de memória com o nome da variável, então o pedacinho de memória recebe o valor indicado depois do sinal de \"=\"__\n",
    "\n",
    "Ou seja, lemos o código a seguir como:\n",
    "\n",
    "- A variável que demos o nome de \"meu_numero\", **recebe** o valor da operação \"2+3\" (que é 5);\n",
    "- A variável que demos o nome de \"variavel\", **recebe** o valor da operação \"1+1\" (que é 2);\n",
    "- A variável que demos o nome de \"x\", **recebe** o valor da operação \"2*3\" (que é 6);\n",
    "\n",
    "O código a seguir apenas cria as variáveis: note que não há nenhum output!"
   ]
  },
  {
   "cell_type": "code",
   "execution_count": 41,
   "metadata": {},
   "outputs": [],
   "source": [
    "meu_numero = 20 + 30\n",
    "variavel = 369 - 38\n",
    "x = 35 * 489"
   ]
  },
  {
   "cell_type": "markdown",
   "metadata": {},
   "source": [
    "Para examinarmos o valor armazenado nas variáveis, podemos, individualmente, \"chamar\" a variável na célula:"
   ]
  },
  {
   "cell_type": "code",
   "execution_count": 43,
   "metadata": {},
   "outputs": [
    {
     "data": {
      "text/plain": [
       "50"
      ]
     },
     "execution_count": 43,
     "metadata": {},
     "output_type": "execute_result"
    }
   ],
   "source": [
    "meu_numero"
   ]
  },
  {
   "cell_type": "code",
   "execution_count": 44,
   "metadata": {},
   "outputs": [
    {
     "data": {
      "text/plain": [
       "331"
      ]
     },
     "execution_count": 44,
     "metadata": {},
     "output_type": "execute_result"
    }
   ],
   "source": [
    "variavel"
   ]
  },
  {
   "cell_type": "code",
   "execution_count": 45,
   "metadata": {},
   "outputs": [
    {
     "data": {
      "text/plain": [
       "17115"
      ]
     },
     "execution_count": 45,
     "metadata": {},
     "output_type": "execute_result"
    }
   ],
   "source": [
    "x"
   ]
  },
  {
   "cell_type": "markdown",
   "metadata": {},
   "source": [
    "Se quisermos exibir o valor das 3 variáveis em seguida, podemos usar o print\n",
    "\n",
    "Note que de fato são exibidos os **valores armazenados nas variáveis!!**"
   ]
  },
  {
   "cell_type": "code",
   "execution_count": 46,
   "metadata": {},
   "outputs": [
    {
     "name": "stdout",
     "output_type": "stream",
     "text": [
      "meu_numero: 50\n",
      "variavel: 331\n",
      "x: 17115\n"
     ]
    }
   ],
   "source": [
    "print('meu_numero:', meu_numero)\n",
    "print('variavel:', variavel)\n",
    "print('x:', x)"
   ]
  },
  {
   "cell_type": "markdown",
   "metadata": {},
   "source": [
    "Como o próprio nome diz, variáveis podem variar, ou seja, eu posso mudar o valor que tá armazenado na variável.\n",
    "\n",
    "Se, por exemplo, eu quiser que a variável \"x\" passe a receber o valor \"42\", eu faço simplesmente o código a seguir, que é lido como \"a variável x recebe o valor 42\"."
   ]
  },
  {
   "cell_type": "code",
   "execution_count": 47,
   "metadata": {},
   "outputs": [
    {
     "data": {
      "text/plain": [
       "17115"
      ]
     },
     "execution_count": 47,
     "metadata": {},
     "output_type": "execute_result"
    }
   ],
   "source": [
    "x"
   ]
  },
  {
   "cell_type": "code",
   "execution_count": 48,
   "metadata": {},
   "outputs": [],
   "source": [
    "x = 42"
   ]
  },
  {
   "cell_type": "code",
   "execution_count": 49,
   "metadata": {},
   "outputs": [
    {
     "name": "stdout",
     "output_type": "stream",
     "text": [
      "42\n"
     ]
    }
   ],
   "source": [
    "print(x)"
   ]
  },
  {
   "cell_type": "code",
   "execution_count": 50,
   "metadata": {},
   "outputs": [
    {
     "data": {
      "text/plain": [
       "42"
      ]
     },
     "execution_count": 50,
     "metadata": {},
     "output_type": "execute_result"
    }
   ],
   "source": [
    "x"
   ]
  },
  {
   "cell_type": "markdown",
   "metadata": {},
   "source": [
    "### Extras\n",
    "- Inspetor de variaveis\n"
   ]
  },
  {
   "cell_type": "code",
   "execution_count": null,
   "metadata": {},
   "outputs": [],
   "source": [
    "# Inspetor de variaveis\n",
    "# pip install lckr-jupyterlab-variableinspector"
   ]
  },
  {
   "cell_type": "markdown",
   "metadata": {},
   "source": [
    "%history"
   ]
  },
  {
   "cell_type": "code",
   "execution_count": null,
   "metadata": {},
   "outputs": [],
   "source": []
  },
  {
   "cell_type": "markdown",
   "metadata": {},
   "source": [
    "acessando variáveis de uma célula"
   ]
  },
  {
   "cell_type": "code",
   "execution_count": null,
   "metadata": {},
   "outputs": [],
   "source": []
  },
  {
   "cell_type": "markdown",
   "metadata": {},
   "source": [
    "acessando código de uma célula (_i{célula})"
   ]
  },
  {
   "cell_type": "code",
   "execution_count": null,
   "metadata": {},
   "outputs": [],
   "source": []
  }
 ],
 "metadata": {
  "kernelspec": {
   "display_name": "Python 3",
   "language": "python",
   "name": "python3"
  },
  "language_info": {
   "codemirror_mode": {
    "name": "ipython",
    "version": 3
   },
   "file_extension": ".py",
   "mimetype": "text/x-python",
   "name": "python",
   "nbconvert_exporter": "python",
   "pygments_lexer": "ipython3",
   "version": "3.8.3"
  }
 },
 "nbformat": 4,
 "nbformat_minor": 4
}
