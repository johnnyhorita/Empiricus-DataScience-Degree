{
 "cells": [
  {
   "cell_type": "markdown",
   "id": "d1d8cc4d-8769-4162-87f1-08ffcd53675d",
   "metadata": {},
   "source": [
    "# Aula 2 - Pandas\n",
    "\n",
    "Na aula de hoje, vamos explorar os seguintes tópicos em Python:\n",
    "\n",
    "- 2) Pandas"
   ]
  },
  {
   "cell_type": "markdown",
   "id": "6623ade9-d5a5-43cf-aac3-ceaeab01d6b0",
   "metadata": {},
   "source": [
    "## 1) Pandas\n",
    "\n",
    "O **Pandas** é uma das bibliotecas mais usadas em data science.\n",
    "\n",
    "Esta biblioteca, construída a partir do Numpy, possibilita a estruturação e manipulação de dados de maneira simples e eficiente.\n",
    "\n",
    "Comos os dados são a matéria prima de todo projeto de data science, manipulá-los é fundamental! Por isso, utilizaremos o Pandas em quase todas as aulas daqui pra frente!\n",
    "\n",
    "Para entendermos melhor o pandas e passar a utilizá-lo, precisamos entender suas estruturas fundamentais: as **Series** e o **DataFrame**.\n",
    "\n",
    "Começamos importando o pandas:"
   ]
  },
  {
   "cell_type": "code",
   "execution_count": 2,
   "id": "31118d05-c760-4983-862e-62ec242ab9ed",
   "metadata": {
    "ExecuteTime": {
     "end_time": "2021-08-09T23:47:20.684357Z",
     "start_time": "2021-08-09T23:47:20.006834Z"
    }
   },
   "outputs": [],
   "source": [
    "# importando o pandas\n",
    "\n",
    "import numpy as np\n",
    "import pandas as pd"
   ]
  },
  {
   "cell_type": "markdown",
   "id": "ff54ef28-0c91-439a-8875-3114cda69cbe",
   "metadata": {},
   "source": [
    "### Series\n",
    "\n",
    "O objeto fundamental do Pandas são as **Series**, uma classe do pandas.\n",
    "\n",
    "As Series são as **colunas das tabelas** (que veremos mais a frente), e por baixo dos panos, os dados ficam armazenados como **numpy arrays**!\n",
    "\n",
    "A diferença é que a série possui um **índice associado**, permitindo o acesso aos conteúdos dessa estrutura por ele, como um dicionário.\n",
    "\n",
    "Além disso, as séries têm métodos específicos além dos que vimos pra arrays, o que será super útil!\n",
    "\n",
    "Podemos criar uma série **a partir de uma lista**, usando a função do pandas `pd.Series()`: "
   ]
  },
  {
   "cell_type": "code",
   "execution_count": 3,
   "id": "7ea14001-d12e-4b33-9354-9fa80ae9a357",
   "metadata": {
    "ExecuteTime": {
     "end_time": "2021-08-09T23:47:22.984744Z",
     "start_time": "2021-08-09T23:47:22.980762Z"
    }
   },
   "outputs": [],
   "source": [
    "# 1\n",
    "lista = [4,6,3,7,13]\n",
    "arr = np.array(lista)"
   ]
  },
  {
   "cell_type": "code",
   "execution_count": 4,
   "id": "52950dd1-a515-4042-b356-8cdf4f06f154",
   "metadata": {
    "ExecuteTime": {
     "end_time": "2021-08-09T23:47:39.671360Z",
     "start_time": "2021-08-09T23:47:39.668385Z"
    }
   },
   "outputs": [],
   "source": [
    "# 2\n",
    "serie = pd.Series(lista)"
   ]
  },
  {
   "cell_type": "code",
   "execution_count": 5,
   "id": "b1e96238-2199-45ac-9359-29492f50fbb4",
   "metadata": {
    "ExecuteTime": {
     "end_time": "2021-08-09T23:47:44.406059Z",
     "start_time": "2021-08-09T23:47:44.393061Z"
    }
   },
   "outputs": [
    {
     "data": {
      "text/plain": [
       "0     4\n",
       "1     6\n",
       "2     3\n",
       "3     7\n",
       "4    13\n",
       "dtype: int64"
      ]
     },
     "execution_count": 5,
     "metadata": {},
     "output_type": "execute_result"
    }
   ],
   "source": [
    "# 3\n",
    "serie"
   ]
  },
  {
   "cell_type": "code",
   "execution_count": 6,
   "id": "3a701b38-48e7-4ea9-988d-b66a1055b3d1",
   "metadata": {
    "ExecuteTime": {
     "end_time": "2021-08-09T23:47:54.691745Z",
     "start_time": "2021-08-09T23:47:54.686716Z"
    }
   },
   "outputs": [
    {
     "data": {
      "text/plain": [
       "3"
      ]
     },
     "execution_count": 6,
     "metadata": {},
     "output_type": "execute_result"
    }
   ],
   "source": [
    "# 4\n",
    "serie[2]"
   ]
  },
  {
   "cell_type": "code",
   "execution_count": 7,
   "id": "79ee1ddb-e0f6-49bf-949a-008d79c4cd4d",
   "metadata": {
    "ExecuteTime": {
     "end_time": "2021-08-09T23:48:21.993519Z",
     "start_time": "2021-08-09T23:48:21.988522Z"
    }
   },
   "outputs": [
    {
     "data": {
      "text/plain": [
       "RangeIndex(start=0, stop=5, step=1)"
      ]
     },
     "execution_count": 7,
     "metadata": {},
     "output_type": "execute_result"
    }
   ],
   "source": [
    "# 5\n",
    "serie.index"
   ]
  },
  {
   "cell_type": "code",
   "execution_count": 8,
   "id": "555ac150-3a16-458f-9192-88764addf093",
   "metadata": {
    "ExecuteTime": {
     "end_time": "2021-08-09T23:48:30.136890Z",
     "start_time": "2021-08-09T23:48:30.131890Z"
    }
   },
   "outputs": [
    {
     "data": {
      "text/plain": [
       "array([ 4,  6,  3,  7, 13], dtype=int64)"
      ]
     },
     "execution_count": 8,
     "metadata": {},
     "output_type": "execute_result"
    }
   ],
   "source": [
    "# 6\n",
    "serie.values"
   ]
  },
  {
   "cell_type": "code",
   "execution_count": 9,
   "id": "e0a97821-5651-45a9-bf83-82f5a826c1d1",
   "metadata": {
    "ExecuteTime": {
     "end_time": "2021-08-09T23:49:01.977984Z",
     "start_time": "2021-08-09T23:49:01.971977Z"
    }
   },
   "outputs": [
    {
     "data": {
      "text/plain": [
       "[0, 1, 2, 3, 4]"
      ]
     },
     "execution_count": 9,
     "metadata": {},
     "output_type": "execute_result"
    }
   ],
   "source": [
    "# 7\n",
    "list(range(0,5,1))"
   ]
  },
  {
   "cell_type": "code",
   "execution_count": 4,
   "id": "bc860a5a-97aa-4ba5-bd6f-7ed0fd22cfcd",
   "metadata": {},
   "outputs": [],
   "source": [
    "# 8\n"
   ]
  },
  {
   "cell_type": "code",
   "execution_count": 5,
   "id": "1b92f645-6e4a-42ee-8267-e427244be6cf",
   "metadata": {},
   "outputs": [],
   "source": [
    "# 9"
   ]
  },
  {
   "cell_type": "code",
   "execution_count": 6,
   "id": "69020de1-db11-4d7f-8504-46ded246dab0",
   "metadata": {},
   "outputs": [],
   "source": [
    "# 10\n"
   ]
  },
  {
   "cell_type": "code",
   "execution_count": 7,
   "id": "e5ca1b2f-d15c-43b7-b61c-82847b5d958c",
   "metadata": {},
   "outputs": [],
   "source": [
    "# 11"
   ]
  },
  {
   "cell_type": "code",
   "execution_count": 8,
   "id": "156616b6-7d6d-416b-806f-e00368e1c928",
   "metadata": {},
   "outputs": [],
   "source": [
    "# 12"
   ]
  },
  {
   "cell_type": "code",
   "execution_count": 9,
   "id": "0964078b-ce63-4b6a-97ed-8fb746e363cf",
   "metadata": {},
   "outputs": [],
   "source": [
    "# 13"
   ]
  },
  {
   "cell_type": "code",
   "execution_count": 10,
   "id": "1d7f4be6-7a40-40f8-bc57-020887ee7325",
   "metadata": {},
   "outputs": [],
   "source": [
    "# 14"
   ]
  },
  {
   "cell_type": "code",
   "execution_count": 11,
   "id": "c8c55273-24b4-4690-8d05-9737397fc1a8",
   "metadata": {},
   "outputs": [],
   "source": [
    "# 15\n"
   ]
  },
  {
   "cell_type": "code",
   "execution_count": 12,
   "id": "923c0a90-40f9-47a9-b9eb-8e4cc40f7804",
   "metadata": {},
   "outputs": [],
   "source": [
    "# 16"
   ]
  },
  {
   "cell_type": "code",
   "execution_count": null,
   "id": "9d8752a2-4a0b-406d-b8c8-536c9fb92532",
   "metadata": {},
   "outputs": [],
   "source": [
    "# 17"
   ]
  },
  {
   "cell_type": "markdown",
   "id": "8d5290a3-d989-4bca-a589-ebc2e510ec85",
   "metadata": {},
   "source": [
    "Outra forma bem natural de construir séries é apartir de um **dicionário**\n",
    "\n",
    "Neste caso, as **chaves** se tornam as labels de índice!"
   ]
  },
  {
   "cell_type": "code",
   "execution_count": 13,
   "id": "5e90b57c-8ab9-483d-bf2d-cfde1868419c",
   "metadata": {
    "ExecuteTime": {
     "end_time": "2021-08-10T00:01:53.891043Z",
     "start_time": "2021-08-10T00:01:53.886071Z"
    }
   },
   "outputs": [],
   "source": [
    "# 18\n",
    "dic = {'a':12, 'b':13, 'd': 42, 'g': 51}\n",
    "serie = pd.Series(dic)"
   ]
  },
  {
   "cell_type": "code",
   "execution_count": 15,
   "id": "23d7d2c6",
   "metadata": {
    "ExecuteTime": {
     "end_time": "2021-08-10T00:03:26.951703Z",
     "start_time": "2021-08-10T00:03:26.944736Z"
    }
   },
   "outputs": [
    {
     "data": {
      "text/plain": [
       "a    17\n",
       "b    18\n",
       "d    47\n",
       "g    56\n",
       "dtype: int64"
      ]
     },
     "execution_count": 15,
     "metadata": {},
     "output_type": "execute_result"
    }
   ],
   "source": [
    "serie + 5\n"
   ]
  },
  {
   "cell_type": "code",
   "execution_count": 19,
   "id": "cb066890",
   "metadata": {
    "ExecuteTime": {
     "end_time": "2021-08-10T00:05:33.978351Z",
     "start_time": "2021-08-10T00:05:33.972335Z"
    }
   },
   "outputs": [],
   "source": [
    "masc1 = serie % 2 == 0"
   ]
  },
  {
   "cell_type": "code",
   "execution_count": null,
   "id": "b502a5de",
   "metadata": {},
   "outputs": [],
   "source": []
  },
  {
   "cell_type": "markdown",
   "id": "4b5e160d",
   "metadata": {
    "ExecuteTime": {
     "end_time": "2021-08-10T00:04:50.353852Z",
     "start_time": "2021-08-10T00:04:50.346847Z"
    }
   },
   "source": [
    "serie[masc1]"
   ]
  },
  {
   "cell_type": "code",
   "execution_count": 12,
   "id": "82991108",
   "metadata": {
    "ExecuteTime": {
     "end_time": "2021-08-09T23:59:45.367780Z",
     "start_time": "2021-08-09T23:59:45.361799Z"
    }
   },
   "outputs": [
    {
     "data": {
      "text/plain": [
       "a    12\n",
       "b    13\n",
       "d    42\n",
       "g    51\n",
       "dtype: int64"
      ]
     },
     "execution_count": 12,
     "metadata": {},
     "output_type": "execute_result"
    }
   ],
   "source": [
    "pd.Series(data=dic.values(), index=dic.keys())"
   ]
  },
  {
   "cell_type": "markdown",
   "id": "23aa99b9-d31d-4ab0-9e32-3f1b485b61e4",
   "metadata": {},
   "source": [
    "Ao fazer operações com séries, os valores são alterados um a um, exatamente como vimos com os numpy arrays!"
   ]
  },
  {
   "cell_type": "code",
   "execution_count": 14,
   "id": "d971cded-2254-47ef-bb6e-101e7c81128b",
   "metadata": {},
   "outputs": [],
   "source": [
    "# 19"
   ]
  },
  {
   "cell_type": "code",
   "execution_count": 15,
   "id": "6fcac7e3-e086-4dc2-a38e-7aa81f7cebae",
   "metadata": {},
   "outputs": [],
   "source": [
    "# 20"
   ]
  },
  {
   "cell_type": "code",
   "execution_count": 16,
   "id": "1c13e50f-4ff4-4f0d-baf7-bcf355c0eada",
   "metadata": {},
   "outputs": [],
   "source": [
    "# 21"
   ]
  },
  {
   "cell_type": "code",
   "execution_count": 17,
   "id": "c686fc8a-371e-46ea-86b1-109954313ff9",
   "metadata": {},
   "outputs": [],
   "source": [
    "# 22"
   ]
  },
  {
   "cell_type": "code",
   "execution_count": 18,
   "id": "0057e821-d8a6-48ef-826c-26f9ac9183cc",
   "metadata": {},
   "outputs": [],
   "source": [
    "# 23"
   ]
  },
  {
   "cell_type": "code",
   "execution_count": 19,
   "id": "97cfdf97-feec-4e50-9348-61525a601ebf",
   "metadata": {},
   "outputs": [],
   "source": [
    "# 24"
   ]
  },
  {
   "cell_type": "code",
   "execution_count": 20,
   "id": "0fa353b7-4b74-44b8-a4e5-732cf586a9ac",
   "metadata": {},
   "outputs": [],
   "source": [
    "# 25"
   ]
  },
  {
   "cell_type": "code",
   "execution_count": null,
   "id": "c39f806f-4c99-4ced-b8a9-095c86b66d95",
   "metadata": {},
   "outputs": [],
   "source": [
    "# 26"
   ]
  },
  {
   "cell_type": "code",
   "execution_count": null,
   "id": "38648056-bfa0-4f87-83ef-f7a8c76889da",
   "metadata": {},
   "outputs": [],
   "source": [
    "# 27"
   ]
  },
  {
   "cell_type": "code",
   "execution_count": null,
   "id": "45bc0ecf-7f35-4db0-aa30-e900807890ba",
   "metadata": {},
   "outputs": [],
   "source": [
    "# 28"
   ]
  },
  {
   "cell_type": "code",
   "execution_count": 21,
   "id": "0eb3d834-9b6e-4547-9578-4fb0f6ccfa89",
   "metadata": {},
   "outputs": [],
   "source": [
    "# 29"
   ]
  },
  {
   "cell_type": "code",
   "execution_count": null,
   "id": "5656a635-3035-41f1-b30d-3fcbbcc74b3f",
   "metadata": {},
   "outputs": [],
   "source": [
    "# 30"
   ]
  },
  {
   "cell_type": "code",
   "execution_count": null,
   "id": "95d89ccc-81c3-4de8-94cd-6e4b9834fc87",
   "metadata": {},
   "outputs": [],
   "source": [
    "# 31\n"
   ]
  },
  {
   "cell_type": "code",
   "execution_count": 22,
   "id": "92ff0abb-2ec7-46e3-999e-154538c6819b",
   "metadata": {},
   "outputs": [],
   "source": [
    "# 32"
   ]
  },
  {
   "cell_type": "code",
   "execution_count": null,
   "id": "328de3df-44eb-4c90-94dd-d59b5ba820a1",
   "metadata": {},
   "outputs": [],
   "source": [
    "# 33"
   ]
  },
  {
   "cell_type": "code",
   "execution_count": null,
   "id": "1884d127-d4ab-4815-bca8-49726b227cf2",
   "metadata": {},
   "outputs": [],
   "source": [
    "# 34"
   ]
  },
  {
   "cell_type": "code",
   "execution_count": 23,
   "id": "98d3aea8-28fe-4a73-91db-ef627e8ad90b",
   "metadata": {},
   "outputs": [],
   "source": [
    "# 35"
   ]
  },
  {
   "cell_type": "code",
   "execution_count": null,
   "id": "dbb29529-562a-4379-8942-dc74bb48b9b6",
   "metadata": {},
   "outputs": [],
   "source": [
    "# 36"
   ]
  },
  {
   "cell_type": "markdown",
   "id": "3aef1bb0-235f-4535-933a-cfc016622e60",
   "metadata": {},
   "source": [
    "Há vários outros métodos muito úteis para séries!\n",
    "\n",
    "Os principais são:"
   ]
  },
  {
   "cell_type": "code",
   "execution_count": null,
   "id": "7346d457-de5b-4e4d-8b8a-363792abb954",
   "metadata": {},
   "outputs": [],
   "source": [
    "# 37\n"
   ]
  },
  {
   "cell_type": "code",
   "execution_count": 24,
   "id": "e4f62397-b768-494c-a4c7-35ece12c7d51",
   "metadata": {},
   "outputs": [],
   "source": [
    "# 38"
   ]
  },
  {
   "cell_type": "code",
   "execution_count": 25,
   "id": "54cfed68-1507-4602-be6b-7e52a2caecf0",
   "metadata": {},
   "outputs": [],
   "source": [
    "# 39"
   ]
  },
  {
   "cell_type": "code",
   "execution_count": 26,
   "id": "b6a84a96-ce69-4250-9073-c92d670b5333",
   "metadata": {},
   "outputs": [],
   "source": [
    "# 40"
   ]
  },
  {
   "cell_type": "code",
   "execution_count": 27,
   "id": "6c907776-0c41-492f-8190-11b43c9544c0",
   "metadata": {},
   "outputs": [],
   "source": [
    "# 41"
   ]
  },
  {
   "cell_type": "code",
   "execution_count": 28,
   "id": "6e70717e-ffb4-45df-b64b-8ba390307c55",
   "metadata": {},
   "outputs": [],
   "source": [
    "# 42"
   ]
  },
  {
   "cell_type": "code",
   "execution_count": 29,
   "id": "f581b545-e921-4dcd-ade8-2540db9accbe",
   "metadata": {},
   "outputs": [],
   "source": [
    "# 43"
   ]
  },
  {
   "cell_type": "code",
   "execution_count": 30,
   "id": "b1d2a3ad-da47-4c8b-993c-53ab3916633e",
   "metadata": {},
   "outputs": [],
   "source": [
    "# 44"
   ]
  },
  {
   "cell_type": "code",
   "execution_count": 31,
   "id": "29bacc03-df42-487d-a287-9386cf00527d",
   "metadata": {},
   "outputs": [],
   "source": [
    "# 45"
   ]
  },
  {
   "cell_type": "code",
   "execution_count": 32,
   "id": "fb524928-edbf-4b0b-9d52-fdf7d6a64d78",
   "metadata": {},
   "outputs": [],
   "source": [
    "# 46"
   ]
  },
  {
   "cell_type": "code",
   "execution_count": 33,
   "id": "1017ac95-5525-4521-b1f4-7c06d838d043",
   "metadata": {},
   "outputs": [],
   "source": [
    "# 47"
   ]
  },
  {
   "cell_type": "code",
   "execution_count": 34,
   "id": "515182d7-d0f6-4162-bd33-bad13e37f031",
   "metadata": {},
   "outputs": [],
   "source": [
    "# 48"
   ]
  },
  {
   "cell_type": "code",
   "execution_count": 35,
   "id": "6cb5127a-8e18-4071-832e-ccfffe2679f9",
   "metadata": {},
   "outputs": [],
   "source": [
    "# 49"
   ]
  },
  {
   "cell_type": "code",
   "execution_count": 36,
   "id": "cbaf641a-3dee-4703-9f37-6b50fddce73d",
   "metadata": {},
   "outputs": [],
   "source": [
    "# 50"
   ]
  },
  {
   "cell_type": "code",
   "execution_count": 37,
   "id": "3d504c9f-374e-4ea9-b369-b768d692a855",
   "metadata": {},
   "outputs": [],
   "source": [
    "# 51"
   ]
  },
  {
   "cell_type": "code",
   "execution_count": null,
   "id": "8ace0ec2-12ad-42ff-b267-8b09293fd9a7",
   "metadata": {},
   "outputs": [],
   "source": [
    "# 52"
   ]
  },
  {
   "cell_type": "code",
   "execution_count": null,
   "id": "a39dcb8f-7fbd-4cd3-9a31-c1de73dc366d",
   "metadata": {},
   "outputs": [],
   "source": [
    "# 53"
   ]
  },
  {
   "cell_type": "code",
   "execution_count": null,
   "id": "efc8dfd1-b4a7-444f-bd37-61c64f683a4d",
   "metadata": {},
   "outputs": [],
   "source": [
    "# 54"
   ]
  },
  {
   "cell_type": "code",
   "execution_count": 38,
   "id": "fd77446c-d1e2-4914-855f-68c044eb1643",
   "metadata": {},
   "outputs": [],
   "source": [
    "# 55"
   ]
  },
  {
   "cell_type": "code",
   "execution_count": 39,
   "id": "4370bd4c-d614-452d-aa2c-a326574cc02c",
   "metadata": {},
   "outputs": [],
   "source": [
    "# 56"
   ]
  },
  {
   "cell_type": "code",
   "execution_count": 40,
   "id": "2661523b-63ef-48f0-a361-6436c6b6c6ca",
   "metadata": {},
   "outputs": [],
   "source": [
    "# 57"
   ]
  },
  {
   "cell_type": "code",
   "execution_count": 41,
   "id": "ce26d108-56ff-4f3f-a95c-aa6cca1eda40",
   "metadata": {},
   "outputs": [],
   "source": [
    "# 58"
   ]
  },
  {
   "cell_type": "code",
   "execution_count": 42,
   "id": "742f50b9-8350-4db0-8e9b-29819246c4bb",
   "metadata": {},
   "outputs": [],
   "source": [
    "# 59"
   ]
  },
  {
   "cell_type": "code",
   "execution_count": 43,
   "id": "33bb6935-1823-4312-935e-5a7e7f963b53",
   "metadata": {},
   "outputs": [],
   "source": [
    "# 60"
   ]
  },
  {
   "cell_type": "code",
   "execution_count": 44,
   "id": "585f33fa-0328-4130-80d6-bc47e7139556",
   "metadata": {},
   "outputs": [],
   "source": [
    "# 61"
   ]
  },
  {
   "cell_type": "code",
   "execution_count": 45,
   "id": "f6ee7b98-888a-45a1-8f18-f9d5ca2de0a8",
   "metadata": {},
   "outputs": [],
   "source": [
    "# 62"
   ]
  },
  {
   "cell_type": "code",
   "execution_count": 46,
   "id": "3b5a1061-e43a-44c1-9467-594c6e8a1bed",
   "metadata": {},
   "outputs": [],
   "source": [
    "# 63"
   ]
  },
  {
   "cell_type": "code",
   "execution_count": 47,
   "id": "6d8eadeb-2a1a-4419-a1d8-e5b173e41b51",
   "metadata": {},
   "outputs": [],
   "source": [
    "# 64"
   ]
  },
  {
   "cell_type": "code",
   "execution_count": 48,
   "id": "90e57706-a0db-4ee4-9692-940e086f14c4",
   "metadata": {},
   "outputs": [],
   "source": [
    "# 65"
   ]
  },
  {
   "cell_type": "code",
   "execution_count": 49,
   "id": "a349392e-d570-4dfa-a282-a9a0a194c87f",
   "metadata": {},
   "outputs": [],
   "source": [
    "# 66"
   ]
  },
  {
   "cell_type": "code",
   "execution_count": 50,
   "id": "c356f7ef-41ed-45b5-8a20-26242e6ea577",
   "metadata": {},
   "outputs": [],
   "source": [
    "# 67"
   ]
  },
  {
   "cell_type": "code",
   "execution_count": 51,
   "id": "19549fb5-f5b6-4da3-a96a-fa4f92c217f9",
   "metadata": {},
   "outputs": [],
   "source": [
    "# 68"
   ]
  },
  {
   "cell_type": "code",
   "execution_count": 52,
   "id": "b95a2d64-8d93-42ed-b3f3-650ab454099f",
   "metadata": {},
   "outputs": [],
   "source": [
    "# 69"
   ]
  },
  {
   "cell_type": "markdown",
   "id": "137da353-d400-4f6b-a038-28271827ef26",
   "metadata": {},
   "source": [
    "Como séries são construídas a partir de numpy arrays, podemos também fazer filtros!"
   ]
  },
  {
   "cell_type": "code",
   "execution_count": null,
   "id": "6378d83f-0499-4d46-ad04-e60fcc684404",
   "metadata": {},
   "outputs": [],
   "source": [
    "# 70"
   ]
  },
  {
   "cell_type": "code",
   "execution_count": null,
   "id": "22d5795b-f450-4317-ba43-6e136e744677",
   "metadata": {},
   "outputs": [],
   "source": [
    "# 71"
   ]
  },
  {
   "cell_type": "markdown",
   "id": "32914cac-5e70-4fb5-a419-d991e97bde62",
   "metadata": {},
   "source": [
    "### DataFrame\n",
    "\n",
    "Agora que conhecemos as séries, vamos partir pro objeto do Pandas que mais utilizaremos: o **DataFrame**\n",
    "\n",
    "Como veremos a seguir, o DataFrame é uma estrutura que se assemalha a uma **tabela**.\n",
    "\n",
    "Estruturalmente, o DataFrame nada mais é que um **conjunto de Series**, uma para cada coluna (e, claro, com mesmo índice, que irão indexar as linhas)."
   ]
  },
  {
   "cell_type": "markdown",
   "id": "45f31fac-2452-4bd0-ac04-77567dc0c522",
   "metadata": {},
   "source": [
    "Veremos depois como **ler um dataframe a partir de um arquivo** (que é provavelmente a forma mais comum)"
   ]
  },
  {
   "cell_type": "markdown",
   "id": "263ea5cb-85e3-41fe-a0e5-01a1206dbda5",
   "metadata": {},
   "source": [
    "Há muitas formas de construir um DataFrame do zero. Todas elas fazem uso da função **pd.DataFrame()**, como veremos a seguir.\n",
    "\n",
    "Se quisermos especificar os índices de linha, o nome das colunas, e os dados, podemos passá-los separadamente: "
   ]
  },
  {
   "cell_type": "code",
   "execution_count": 53,
   "id": "bb0526dc-5302-436e-ada7-e6b5aa6839f3",
   "metadata": {},
   "outputs": [],
   "source": [
    "# 72"
   ]
  },
  {
   "cell_type": "code",
   "execution_count": null,
   "id": "be03239e-46c8-46db-889b-5f6d3f77f40f",
   "metadata": {},
   "outputs": [],
   "source": [
    "# 73"
   ]
  },
  {
   "cell_type": "code",
   "execution_count": null,
   "id": "045b44c3-6616-4542-b28c-43873a1f1c2b",
   "metadata": {},
   "outputs": [],
   "source": [
    "# 74"
   ]
  },
  {
   "cell_type": "code",
   "execution_count": null,
   "id": "23ebb3e5-84d1-4cd1-9b4b-fba50a872b8f",
   "metadata": {},
   "outputs": [],
   "source": [
    "# 75"
   ]
  },
  {
   "cell_type": "code",
   "execution_count": 54,
   "id": "5867e4a9-57c7-4937-94a2-10d8e28d24d1",
   "metadata": {},
   "outputs": [],
   "source": [
    "# 76"
   ]
  },
  {
   "cell_type": "code",
   "execution_count": 55,
   "id": "bb148ade-bdf2-4c2b-97e0-48e5a994a1e7",
   "metadata": {},
   "outputs": [],
   "source": [
    "# 77"
   ]
  },
  {
   "cell_type": "code",
   "execution_count": 56,
   "id": "b1c923a7-d315-4d15-8a37-7b7bf8a7f7c7",
   "metadata": {},
   "outputs": [],
   "source": [
    "# 78"
   ]
  },
  {
   "cell_type": "code",
   "execution_count": 57,
   "id": "66e43b89-9ea7-4eea-a1ca-bc659bc58a33",
   "metadata": {},
   "outputs": [],
   "source": [
    "# 79"
   ]
  },
  {
   "cell_type": "code",
   "execution_count": 58,
   "id": "6767a41e-d1a6-4884-99d5-568345744975",
   "metadata": {},
   "outputs": [],
   "source": [
    "# 80"
   ]
  },
  {
   "cell_type": "code",
   "execution_count": 59,
   "id": "b9eaba8c-6bee-4d54-ad22-21a1368e4b3f",
   "metadata": {},
   "outputs": [],
   "source": [
    "# 81"
   ]
  },
  {
   "cell_type": "markdown",
   "id": "0359aff1-5f85-4b16-95a7-fdcb69fe03d3",
   "metadata": {},
   "source": [
    "Outra forma bem natural é utilizar um dicionário cujos valores são listas. Neste caso, as chaves serão o nome das colunas!"
   ]
  },
  {
   "cell_type": "code",
   "execution_count": null,
   "id": "04e3fc29-e1d1-47b8-9ed0-dda28872df36",
   "metadata": {},
   "outputs": [],
   "source": [
    "# 82"
   ]
  },
  {
   "cell_type": "code",
   "execution_count": 60,
   "id": "b3bfa268-2659-4ac1-bf99-0260e49d584b",
   "metadata": {},
   "outputs": [],
   "source": [
    "# 83"
   ]
  },
  {
   "cell_type": "code",
   "execution_count": 61,
   "id": "185a5834-bd49-4375-9363-207500c3b2f3",
   "metadata": {},
   "outputs": [],
   "source": [
    "# 84"
   ]
  },
  {
   "cell_type": "code",
   "execution_count": 62,
   "id": "93efd4f5-8bbe-4e7d-a5c4-fe274053fa6f",
   "metadata": {},
   "outputs": [],
   "source": [
    "# 85"
   ]
  },
  {
   "cell_type": "code",
   "execution_count": 63,
   "id": "80b10c0e-6fe1-435f-a30e-d47d046efd08",
   "metadata": {},
   "outputs": [],
   "source": [
    "# 86"
   ]
  },
  {
   "cell_type": "code",
   "execution_count": 64,
   "id": "3fba0904-1e65-4529-96c9-1dc76706002f",
   "metadata": {},
   "outputs": [],
   "source": [
    "# 87"
   ]
  },
  {
   "cell_type": "code",
   "execution_count": 65,
   "id": "cf3a3457-6ec6-4bad-930c-b87219527ab3",
   "metadata": {},
   "outputs": [],
   "source": [
    "# 88"
   ]
  },
  {
   "cell_type": "markdown",
   "id": "e77e3975-3e74-4895-9a6e-e9a613a8d82a",
   "metadata": {},
   "source": [
    "Acessando com o .loc e .iloc"
   ]
  },
  {
   "cell_type": "code",
   "execution_count": 66,
   "id": "457bcd9e-fbdb-4eab-80e1-4b8935053034",
   "metadata": {},
   "outputs": [],
   "source": [
    "# 89"
   ]
  },
  {
   "cell_type": "code",
   "execution_count": 68,
   "id": "538ba36d-0789-435b-9151-7f9bdec8c3cb",
   "metadata": {},
   "outputs": [],
   "source": [
    "# 90"
   ]
  },
  {
   "cell_type": "code",
   "execution_count": 69,
   "id": "cd6fca6e-8b5d-48d6-9e50-0f82d57d485d",
   "metadata": {},
   "outputs": [],
   "source": [
    "# 91"
   ]
  },
  {
   "cell_type": "code",
   "execution_count": null,
   "id": "cd922c63-62ba-4181-aef0-fdee40816045",
   "metadata": {},
   "outputs": [],
   "source": [
    "# 92"
   ]
  },
  {
   "cell_type": "code",
   "execution_count": 70,
   "id": "a4de04ad-da13-4f03-97ea-5de2a450217f",
   "metadata": {},
   "outputs": [],
   "source": [
    "# 93"
   ]
  },
  {
   "cell_type": "code",
   "execution_count": null,
   "id": "c9f616ee-4072-4e75-940a-a48a20bed8c9",
   "metadata": {},
   "outputs": [],
   "source": [
    "# 94"
   ]
  },
  {
   "cell_type": "markdown",
   "id": "f5b1cdc9-fc36-4d6d-9df6-7bada40df2b0",
   "metadata": {},
   "source": [
    "Podemos fazer operações com as colunas, dado que elas são séries!"
   ]
  },
  {
   "cell_type": "code",
   "execution_count": 71,
   "id": "c4ba92d5-6ba2-45fc-8748-7afae8650d9e",
   "metadata": {},
   "outputs": [],
   "source": [
    "# 95"
   ]
  },
  {
   "cell_type": "code",
   "execution_count": 72,
   "id": "726feb16-39b9-42b2-96ae-e024ae45f431",
   "metadata": {},
   "outputs": [],
   "source": [
    "# 96"
   ]
  },
  {
   "cell_type": "code",
   "execution_count": 73,
   "id": "3d013b68-8999-4845-9f32-fcf46430995d",
   "metadata": {},
   "outputs": [],
   "source": [
    "# 97"
   ]
  },
  {
   "cell_type": "code",
   "execution_count": 74,
   "id": "cbb87b8a-5ed4-48d1-8c64-2b5dff64c216",
   "metadata": {},
   "outputs": [],
   "source": [
    "# 98"
   ]
  },
  {
   "cell_type": "code",
   "execution_count": 75,
   "id": "f4667646-ac58-4b0b-abc4-da26cceff913",
   "metadata": {},
   "outputs": [],
   "source": [
    "# 99"
   ]
  },
  {
   "cell_type": "code",
   "execution_count": 76,
   "id": "57ee022c-6d8f-4d20-9416-ee89c7da722a",
   "metadata": {},
   "outputs": [],
   "source": [
    "# 100"
   ]
  },
  {
   "cell_type": "code",
   "execution_count": 77,
   "id": "80fbcf32-00d4-4822-a80a-2eadf6c49d0e",
   "metadata": {},
   "outputs": [],
   "source": [
    "# 101"
   ]
  },
  {
   "cell_type": "code",
   "execution_count": 78,
   "id": "933f788c-2761-4b2d-a127-6220cc6634a3",
   "metadata": {},
   "outputs": [],
   "source": [
    "# 102"
   ]
  },
  {
   "cell_type": "code",
   "execution_count": 79,
   "id": "0c61b640-7b30-4bc8-a6c0-4f72d1f669b6",
   "metadata": {},
   "outputs": [],
   "source": [
    "# 103"
   ]
  },
  {
   "cell_type": "code",
   "execution_count": 80,
   "id": "88005cf5-9516-4584-a16f-6352f697c9d5",
   "metadata": {},
   "outputs": [],
   "source": [
    "# 104"
   ]
  },
  {
   "cell_type": "code",
   "execution_count": 81,
   "id": "95a53d06-7bce-4f02-a5a7-92c2cc18f169",
   "metadata": {},
   "outputs": [],
   "source": [
    "# 105"
   ]
  },
  {
   "cell_type": "code",
   "execution_count": 82,
   "id": "8c6a441f-32fe-4afc-bec0-7ea43f7c3d37",
   "metadata": {},
   "outputs": [],
   "source": [
    "# 106"
   ]
  },
  {
   "cell_type": "code",
   "execution_count": 83,
   "id": "b048ebda-920a-4faa-9abb-78734ef7029c",
   "metadata": {},
   "outputs": [],
   "source": [
    "# 107"
   ]
  },
  {
   "cell_type": "code",
   "execution_count": 84,
   "id": "f918620e-78aa-4801-83fd-9cad4cabeeca",
   "metadata": {},
   "outputs": [],
   "source": [
    "# 108"
   ]
  },
  {
   "cell_type": "code",
   "execution_count": 85,
   "id": "d013ee3a-3114-4392-aa27-c18acdc2aefb",
   "metadata": {},
   "outputs": [],
   "source": [
    "# 109"
   ]
  },
  {
   "cell_type": "markdown",
   "id": "b3eaa3bc-1e56-4034-8c5a-c26806b11e0d",
   "metadata": {},
   "source": [
    "Excluindo uma coluna"
   ]
  },
  {
   "cell_type": "code",
   "execution_count": null,
   "id": "65480ac2-b4c8-4135-b49c-d7f0acd1e308",
   "metadata": {},
   "outputs": [],
   "source": [
    "# 110"
   ]
  },
  {
   "cell_type": "code",
   "execution_count": null,
   "id": "660a4fad-2a81-4716-bfff-e7cc6165da46",
   "metadata": {},
   "outputs": [],
   "source": [
    "# 111"
   ]
  },
  {
   "cell_type": "markdown",
   "id": "3558cebe-d599-453e-878f-acd000632a50",
   "metadata": {},
   "source": [
    "Como o dataframe é um conjunto de séries, também podemos fazer filtros!\n"
   ]
  },
  {
   "cell_type": "code",
   "execution_count": 86,
   "id": "07e78ed6-8171-43ad-8597-68037390a0d2",
   "metadata": {},
   "outputs": [],
   "source": [
    "# 112"
   ]
  },
  {
   "cell_type": "code",
   "execution_count": 87,
   "id": "b4e37084-dda7-41aa-9929-1b94a7fb82ff",
   "metadata": {},
   "outputs": [],
   "source": [
    "# 113"
   ]
  },
  {
   "cell_type": "code",
   "execution_count": 88,
   "id": "608fb8c9-4cc1-41c0-9885-0ffb0f0d1b45",
   "metadata": {},
   "outputs": [],
   "source": [
    "# 114"
   ]
  },
  {
   "cell_type": "code",
   "execution_count": 89,
   "id": "870877e8-0fd7-4b41-ab95-af54bd617153",
   "metadata": {},
   "outputs": [],
   "source": [
    "# 115"
   ]
  },
  {
   "cell_type": "code",
   "execution_count": 90,
   "id": "4759832e-f8aa-4303-b4ee-6bd3faea04ce",
   "metadata": {},
   "outputs": [],
   "source": [
    "# 116"
   ]
  },
  {
   "cell_type": "code",
   "execution_count": 91,
   "id": "afb0567a-9e16-4f2a-b35c-b3fec2090190",
   "metadata": {},
   "outputs": [],
   "source": [
    "# 117"
   ]
  },
  {
   "cell_type": "code",
   "execution_count": 92,
   "id": "6c0ad601-a063-423d-9ef9-5672f3969f0b",
   "metadata": {},
   "outputs": [],
   "source": [
    "# 118"
   ]
  },
  {
   "cell_type": "code",
   "execution_count": 93,
   "id": "2bb10c89-49a1-49fc-a85d-d45c0b7601cd",
   "metadata": {},
   "outputs": [],
   "source": [
    "# 119"
   ]
  },
  {
   "cell_type": "markdown",
   "id": "94ec6898-6fa2-445b-aaa9-aef4c481a7fe",
   "metadata": {},
   "source": [
    "Se você quiser fazer com que os indices de linha voltem a ser numéricos, faça:"
   ]
  },
  {
   "cell_type": "code",
   "execution_count": null,
   "id": "c325a2ae-f7f4-48bf-96d9-b46318cdd790",
   "metadata": {},
   "outputs": [],
   "source": [
    "# 120"
   ]
  },
  {
   "cell_type": "code",
   "execution_count": 95,
   "id": "4b3b24c8-2035-480b-ab0d-d921990176f9",
   "metadata": {},
   "outputs": [],
   "source": [
    "# 121"
   ]
  },
  {
   "cell_type": "markdown",
   "id": "b10a5cae-00a3-4931-8a30-5e778fb7c0b6",
   "metadata": {},
   "source": [
    "Também é possível criar uma coluna diretamente a partir da lista (mas tem que ser com o número exato de linhas!)"
   ]
  },
  {
   "cell_type": "code",
   "execution_count": 96,
   "id": "e053bd3b-6185-45ef-a168-7bdcd640226f",
   "metadata": {},
   "outputs": [],
   "source": [
    "# 122"
   ]
  },
  {
   "cell_type": "code",
   "execution_count": 97,
   "id": "427877c1-43bf-4cc5-986f-6b50bc604561",
   "metadata": {},
   "outputs": [],
   "source": [
    "# 123"
   ]
  },
  {
   "cell_type": "markdown",
   "id": "e0802f1a-f85d-4f93-8dd9-7594db8b203c",
   "metadata": {},
   "source": [
    "Alterando o nome de colunas"
   ]
  },
  {
   "cell_type": "code",
   "execution_count": 98,
   "id": "0cd5e0b1-1ab3-447c-adff-55c8a0c9b561",
   "metadata": {},
   "outputs": [],
   "source": [
    "# 124"
   ]
  },
  {
   "cell_type": "code",
   "execution_count": null,
   "id": "0721a3a9-d24a-4c6b-8b9e-a2b942020ded",
   "metadata": {},
   "outputs": [],
   "source": [
    "# 125"
   ]
  },
  {
   "cell_type": "code",
   "execution_count": 99,
   "id": "ad3f402c-b075-44a9-bf69-ddd88af14ed0",
   "metadata": {},
   "outputs": [],
   "source": [
    "# 126"
   ]
  },
  {
   "cell_type": "markdown",
   "id": "b4b6f272-4703-453f-9408-234fdce836d3",
   "metadata": {},
   "source": [
    "#### Concat\n",
    "\n",
    "Muitas vezes, queremos **juntar** dataframes relacionados em um único dataframe.\n",
    "\n",
    "Para isso, utilizamos o método **pd.concat()**"
   ]
  },
  {
   "cell_type": "code",
   "execution_count": 100,
   "id": "49740263-72b8-43c2-91c9-dadda8b06fd8",
   "metadata": {},
   "outputs": [],
   "source": [
    "# 127"
   ]
  },
  {
   "cell_type": "code",
   "execution_count": 101,
   "id": "f58997be-0ce2-4aea-9416-6aa3cacd4f82",
   "metadata": {},
   "outputs": [],
   "source": [
    "# 128"
   ]
  },
  {
   "cell_type": "code",
   "execution_count": 102,
   "id": "b874ed92-8cb4-4a0c-9fb6-dbcabd2853ba",
   "metadata": {},
   "outputs": [],
   "source": [
    "# 129"
   ]
  },
  {
   "cell_type": "code",
   "execution_count": 103,
   "id": "59ecaf5a-4d7f-48ad-9779-7abaf433766c",
   "metadata": {},
   "outputs": [],
   "source": [
    "# 130."
   ]
  },
  {
   "cell_type": "code",
   "execution_count": 104,
   "id": "11210d36-ef0f-49fc-99d4-3dc8e8b70a4c",
   "metadata": {},
   "outputs": [],
   "source": [
    "# 131"
   ]
  },
  {
   "cell_type": "code",
   "execution_count": 105,
   "id": "9256977f-5e9c-4f27-a0b4-f62ad759544d",
   "metadata": {},
   "outputs": [],
   "source": [
    "# 132"
   ]
  },
  {
   "cell_type": "code",
   "execution_count": 106,
   "id": "91b5e53f-0535-47f9-ac44-9f0ed06f2e24",
   "metadata": {},
   "outputs": [],
   "source": [
    "# 133"
   ]
  },
  {
   "cell_type": "code",
   "execution_count": null,
   "id": "a89005a6-9a77-4d28-88fd-e775daf802f4",
   "metadata": {},
   "outputs": [],
   "source": [
    "# 134"
   ]
  },
  {
   "cell_type": "markdown",
   "id": "08de2f2e-fefc-403b-b088-043db1ffba58",
   "metadata": {},
   "source": [
    "### Merge (join)\n",
    "\n",
    "Outra tarefa muito comum quando estamos trabalhando com bases de dados é o **cruzamento**\n",
    "\n",
    "Para fazer isso, utilizamos o método **.merge()**, cujos modos de cruzamento são:\n",
    "\n",
    "<img src=\"https://community.qlik.com/legacyfs/online/87693_all-joins.png\" width=450>"
   ]
  },
  {
   "cell_type": "code",
   "execution_count": null,
   "id": "ae9925a9-878a-42b6-b171-11cc839e4b89",
   "metadata": {},
   "outputs": [],
   "source": [
    "# 135"
   ]
  },
  {
   "cell_type": "code",
   "execution_count": 107,
   "id": "a685063b-7b62-4a0f-adbc-551ccda83bd7",
   "metadata": {},
   "outputs": [],
   "source": [
    "# 136"
   ]
  },
  {
   "cell_type": "code",
   "execution_count": 108,
   "id": "421bbd3c-f822-4af4-8aee-eeb39c254bf5",
   "metadata": {},
   "outputs": [],
   "source": [
    "# 137"
   ]
  },
  {
   "cell_type": "code",
   "execution_count": 109,
   "id": "d7437a1f-11ec-4a40-b5d7-ef6eced612fc",
   "metadata": {},
   "outputs": [],
   "source": [
    "# 138"
   ]
  },
  {
   "cell_type": "code",
   "execution_count": 110,
   "id": "c85ab1b8-c11b-4fc1-af8d-628025411805",
   "metadata": {},
   "outputs": [],
   "source": [
    "# 139"
   ]
  },
  {
   "cell_type": "markdown",
   "id": "3f6a72b6-0824-40a1-91ed-4d1adca429d3",
   "metadata": {},
   "source": [
    "__________\n",
    "\n",
    "## Uso do map:"
   ]
  },
  {
   "cell_type": "code",
   "execution_count": null,
   "id": "aa0a060a-ee83-4c05-bdba-9c511d7c5f8e",
   "metadata": {},
   "outputs": [],
   "source": [
    "# 140"
   ]
  },
  {
   "cell_type": "code",
   "execution_count": null,
   "id": "7fb5d32b-c023-407a-a0b4-63f518ec159a",
   "metadata": {},
   "outputs": [],
   "source": []
  },
  {
   "cell_type": "markdown",
   "id": "7778d329-7755-4938-8afa-dfcd1463ef0c",
   "metadata": {},
   "source": [
    "# Transformações de dados"
   ]
  },
  {
   "cell_type": "markdown",
   "id": "0c7a65aa-2896-4462-bdf8-0f1a96f28d38",
   "metadata": {},
   "source": [
    "## GroupBy"
   ]
  },
  {
   "cell_type": "markdown",
   "id": "16ec01cc-5d94-4742-adb1-71b828551b44",
   "metadata": {},
   "source": [
    "## Pivot"
   ]
  },
  {
   "cell_type": "markdown",
   "id": "163ddf21-fbc5-4c9a-9437-e187af463d8d",
   "metadata": {},
   "source": [
    "## Melt"
   ]
  },
  {
   "cell_type": "markdown",
   "id": "0072e63f-9986-45bd-9d3d-da514c68b833",
   "metadata": {},
   "source": [
    "## cut"
   ]
  },
  {
   "cell_type": "markdown",
   "id": "7235aeee-1b84-4290-b7a3-05edb17a18ee",
   "metadata": {},
   "source": [
    "## qcut"
   ]
  },
  {
   "cell_type": "markdown",
   "id": "2c0771fe-5600-44d9-9046-1ea0873ffad0",
   "metadata": {},
   "source": [
    "## get_dummies"
   ]
  },
  {
   "cell_type": "code",
   "execution_count": null,
   "id": "b5ff0f42-053c-4a52-80fa-221d5750789c",
   "metadata": {},
   "outputs": [],
   "source": []
  }
 ],
 "metadata": {
  "kernelspec": {
   "display_name": "Python 3",
   "language": "python",
   "name": "python3"
  },
  "language_info": {
   "codemirror_mode": {
    "name": "ipython",
    "version": 3
   },
   "file_extension": ".py",
   "mimetype": "text/x-python",
   "name": "python",
   "nbconvert_exporter": "python",
   "pygments_lexer": "ipython3",
   "version": "3.8.11"
  }
 },
 "nbformat": 4,
 "nbformat_minor": 5
}
