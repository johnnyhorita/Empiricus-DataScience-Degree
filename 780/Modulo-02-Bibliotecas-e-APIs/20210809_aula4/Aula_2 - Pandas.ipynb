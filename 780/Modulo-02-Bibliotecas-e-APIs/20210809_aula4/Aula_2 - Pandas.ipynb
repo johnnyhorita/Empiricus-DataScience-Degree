{
 "cells": [
  {
   "cell_type": "markdown",
   "id": "10ec7509-1b46-4ac6-847a-e181c1ebe9ee",
   "metadata": {},
   "source": [
    "## Aula 2: Introdução Pandas"
   ]
  },
  {
   "cell_type": "markdown",
   "id": "3ba1ab73-8f6e-426a-af66-53015e9de67a",
   "metadata": {},
   "source": [
    "## 1) Pandas\n",
    "\n",
    "O **[Pandas](https://pandas.pydata.org/)** é uma das bibliotecas mais usadas em data science.\n",
    "\n",
    "Esta biblioteca, construída a partir do Numpy, possibilita a estruturação e manipulação de dados de maneira simples e eficiente.\n",
    "\n",
    "Comos os dados são a matéria prima de todo projeto de data science, manipulá-los é fundamental! Por isso, utilizaremos o Pandas em quase todas as aulas daqui pra frente!"
   ]
  },
  {
   "cell_type": "markdown",
   "id": "07dfab27-7a22-4c9f-aab9-af335f2b09fc",
   "metadata": {},
   "source": [
    "### DataFrame\n",
    "\n",
    "O objeto do Pandas que mais utilizaremos será o **DataFrame**\n",
    "\n",
    "Como veremos a seguir, o DataFrame é uma estrutura que se assemalha a uma **tabela**."
   ]
  },
  {
   "cell_type": "markdown",
   "id": "c8b129da-750c-4c3a-a3cb-60ff47d9ee18",
   "metadata": {},
   "source": [
    "### Lendo dados de um arquivo\n",
    "\n",
    "A forma mais comum de se construir um dataframe é a partir da **leitura de um arquivo**\n",
    "\n",
    "Em geral, queremos ler arquivos já estruturados como base de dados, em formatos como .csv, .txt, .xlsx, etc.\n",
    "\n",
    "O pandas é capaz de ler todos esses formatos, com funções específicas!"
   ]
  },
  {
   "cell_type": "markdown",
   "id": "7a7f536e-6ae3-4aac-9ecc-32c1a982bb74",
   "metadata": {},
   "source": [
    "### 1. Faça um programa que imprima as linhas do arquivo alunos.csv"
   ]
  },
  {
   "cell_type": "code",
   "execution_count": 5,
   "id": "4da509a3-9d49-477d-8089-f8c45e397673",
   "metadata": {},
   "outputs": [],
   "source": [
    "import pandas as pd"
   ]
  },
  {
   "cell_type": "code",
   "execution_count": 8,
   "id": "e1a3b3a9-8aef-495b-877e-420fc0c0bc54",
   "metadata": {},
   "outputs": [],
   "source": [
    "df = pd.read_csv(\"./datasets/alunos.csv\", sep=';')"
   ]
  },
  {
   "cell_type": "code",
   "execution_count": 9,
   "id": "9d1ea2f1-0f07-414c-aaa8-ac46beb0fd82",
   "metadata": {},
   "outputs": [
    {
     "data": {
      "text/html": [
       "<div>\n",
       "<style scoped>\n",
       "    .dataframe tbody tr th:only-of-type {\n",
       "        vertical-align: middle;\n",
       "    }\n",
       "\n",
       "    .dataframe tbody tr th {\n",
       "        vertical-align: top;\n",
       "    }\n",
       "\n",
       "    .dataframe thead th {\n",
       "        text-align: right;\n",
       "    }\n",
       "</style>\n",
       "<table border=\"1\" class=\"dataframe\">\n",
       "  <thead>\n",
       "    <tr style=\"text-align: right;\">\n",
       "      <th></th>\n",
       "      <th>RA</th>\n",
       "      <th>Nome</th>\n",
       "      <th>Frequencia</th>\n",
       "      <th>Prova_1</th>\n",
       "      <th>Prova_2</th>\n",
       "      <th>Prova_3</th>\n",
       "      <th>Prova_4</th>\n",
       "    </tr>\n",
       "  </thead>\n",
       "  <tbody>\n",
       "    <tr>\n",
       "      <th>0</th>\n",
       "      <td>110201</td>\n",
       "      <td>Antonio Carlos</td>\n",
       "      <td>20</td>\n",
       "      <td>6.5</td>\n",
       "      <td>8.5</td>\n",
       "      <td>7.0</td>\n",
       "      <td>6</td>\n",
       "    </tr>\n",
       "    <tr>\n",
       "      <th>1</th>\n",
       "      <td>110212</td>\n",
       "      <td>Ana Beatriz</td>\n",
       "      <td>20</td>\n",
       "      <td>7.0</td>\n",
       "      <td>7.0</td>\n",
       "      <td>7.0</td>\n",
       "      <td>8</td>\n",
       "    </tr>\n",
       "    <tr>\n",
       "      <th>2</th>\n",
       "      <td>110218</td>\n",
       "      <td>Carlos Vernes</td>\n",
       "      <td>17</td>\n",
       "      <td>7.0</td>\n",
       "      <td>7.0</td>\n",
       "      <td>7.0</td>\n",
       "      <td>7</td>\n",
       "    </tr>\n",
       "    <tr>\n",
       "      <th>3</th>\n",
       "      <td>110307</td>\n",
       "      <td>Francisco Cunha</td>\n",
       "      <td>20</td>\n",
       "      <td>9.0</td>\n",
       "      <td>8.5</td>\n",
       "      <td>8.5</td>\n",
       "      <td>10</td>\n",
       "    </tr>\n",
       "    <tr>\n",
       "      <th>4</th>\n",
       "      <td>110275</td>\n",
       "      <td>Sandra Rosa</td>\n",
       "      <td>15</td>\n",
       "      <td>6.5</td>\n",
       "      <td>7.5</td>\n",
       "      <td>7.0</td>\n",
       "      <td>7</td>\n",
       "    </tr>\n",
       "    <tr>\n",
       "      <th>5</th>\n",
       "      <td>110281</td>\n",
       "      <td>Juliana Arruda</td>\n",
       "      <td>18</td>\n",
       "      <td>7.5</td>\n",
       "      <td>7.0</td>\n",
       "      <td>7.5</td>\n",
       "      <td>8</td>\n",
       "    </tr>\n",
       "    <tr>\n",
       "      <th>6</th>\n",
       "      <td>110301</td>\n",
       "      <td>Joao Galo</td>\n",
       "      <td>20</td>\n",
       "      <td>5.0</td>\n",
       "      <td>6.5</td>\n",
       "      <td>7.0</td>\n",
       "      <td>5</td>\n",
       "    </tr>\n",
       "    <tr>\n",
       "      <th>7</th>\n",
       "      <td>110263</td>\n",
       "      <td>José Valente</td>\n",
       "      <td>20</td>\n",
       "      <td>10.0</td>\n",
       "      <td>10.0</td>\n",
       "      <td>10.0</td>\n",
       "      <td>10</td>\n",
       "    </tr>\n",
       "    <tr>\n",
       "      <th>8</th>\n",
       "      <td>110271</td>\n",
       "      <td>Maria Ferreira</td>\n",
       "      <td>19</td>\n",
       "      <td>9.5</td>\n",
       "      <td>8.0</td>\n",
       "      <td>7.0</td>\n",
       "      <td>10</td>\n",
       "    </tr>\n",
       "    <tr>\n",
       "      <th>9</th>\n",
       "      <td>110236</td>\n",
       "      <td>Adriana Tavares</td>\n",
       "      <td>20</td>\n",
       "      <td>8.0</td>\n",
       "      <td>8.0</td>\n",
       "      <td>8.0</td>\n",
       "      <td>8</td>\n",
       "    </tr>\n",
       "  </tbody>\n",
       "</table>\n",
       "</div>"
      ],
      "text/plain": [
       "       RA             Nome  Frequencia  Prova_1  Prova_2  Prova_3  Prova_4\n",
       "0  110201   Antonio Carlos          20      6.5      8.5      7.0        6\n",
       "1  110212      Ana Beatriz          20      7.0      7.0      7.0        8\n",
       "2  110218    Carlos Vernes          17      7.0      7.0      7.0        7\n",
       "3  110307  Francisco Cunha          20      9.0      8.5      8.5       10\n",
       "4  110275      Sandra Rosa          15      6.5      7.5      7.0        7\n",
       "5  110281   Juliana Arruda          18      7.5      7.0      7.5        8\n",
       "6  110301        Joao Galo          20      5.0      6.5      7.0        5\n",
       "7  110263     José Valente          20     10.0     10.0     10.0       10\n",
       "8  110271   Maria Ferreira          19      9.5      8.0      7.0       10\n",
       "9  110236  Adriana Tavares          20      8.0      8.0      8.0        8"
      ]
     },
     "execution_count": 9,
     "metadata": {},
     "output_type": "execute_result"
    }
   ],
   "source": [
    "df"
   ]
  },
  {
   "cell_type": "code",
   "execution_count": 14,
   "id": "f62a1aa4-07ed-47fd-842d-1f00a2be46a4",
   "metadata": {},
   "outputs": [
    {
     "name": "stdout",
     "output_type": "stream",
     "text": [
      "       RA             Nome  Frequencia  Prova_1  Prova_2  Prova_3  Prova_4\n",
      "0  110201   Antonio Carlos          20      6.5      8.5      7.0        6\n",
      "1  110212      Ana Beatriz          20      7.0      7.0      7.0        8\n",
      "2  110218    Carlos Vernes          17      7.0      7.0      7.0        7\n",
      "3  110307  Francisco Cunha          20      9.0      8.5      8.5       10\n",
      "4  110275      Sandra Rosa          15      6.5      7.5      7.0        7\n",
      "5  110281   Juliana Arruda          18      7.5      7.0      7.5        8\n",
      "6  110301        Joao Galo          20      5.0      6.5      7.0        5\n",
      "7  110263     José Valente          20     10.0     10.0     10.0       10\n",
      "8  110271   Maria Ferreira          19      9.5      8.0      7.0       10\n",
      "9  110236  Adriana Tavares          20      8.0      8.0      8.0        8\n"
     ]
    }
   ],
   "source": [
    "print(df)"
   ]
  },
  {
   "cell_type": "code",
   "execution_count": 21,
   "id": "72bf1952-f3a4-4882-a25f-62e5c5cff096",
   "metadata": {},
   "outputs": [
    {
     "name": "stdout",
     "output_type": "stream",
     "text": [
      "RA\n",
      "Nome\n",
      "Frequencia\n",
      "Prova_1\n",
      "Prova_2\n",
      "Prova_3\n",
      "Prova_4\n"
     ]
    }
   ],
   "source": [
    "\n",
    "for col in df:\n",
    "    print(col)"
   ]
  },
  {
   "cell_type": "code",
   "execution_count": 22,
   "id": "5dea3e19-c42c-4fcc-aaab-41a4e0ac5c37",
   "metadata": {},
   "outputs": [
    {
     "name": "stdout",
     "output_type": "stream",
     "text": [
      "RA\n",
      "Nome\n",
      "Frequencia\n",
      "Prova_1\n",
      "Prova_2\n",
      "Prova_3\n",
      "Prova_4\n"
     ]
    }
   ],
   "source": [
    "cols = []\n",
    "for col in df:\n",
    "    print(col)\n",
    "    cols.append(col)"
   ]
  },
  {
   "cell_type": "code",
   "execution_count": 30,
   "id": "98a3a395-8ec8-48b5-8999-3db2f42518ec",
   "metadata": {},
   "outputs": [
    {
     "name": "stdout",
     "output_type": "stream",
     "text": [
      "Index(['RA', 'Nome', 'Frequencia', 'Prova_1', 'Prova_2', 'Prova_3', 'Prova_4'], dtype='object')\n",
      "<class 'pandas.core.indexes.base.Index'>\n",
      "--------------------------------\n",
      "['RA', 'Nome', 'Frequencia', 'Prova_1', 'Prova_2', 'Prova_3', 'Prova_4']\n",
      "--------------------------------\n",
      "['RA', 'Nome', 'Frequencia', 'Prova_1', 'Prova_2', 'Prova_3', 'Prova_4']\n"
     ]
    }
   ],
   "source": [
    "# Pegando as colunas do DataFrame\n",
    "print(df.columns)\n",
    "print(type(df.columns))\n",
    "print('-'*32)\n",
    "print(list(df.columns))\n",
    "print('-'*32)\n",
    "print((df.columns.tolist()))"
   ]
  },
  {
   "cell_type": "code",
   "execution_count": 31,
   "id": "6a00393f-84a5-4ca9-95dc-404101a1c1e7",
   "metadata": {},
   "outputs": [
    {
     "data": {
      "text/html": [
       "<div>\n",
       "<style scoped>\n",
       "    .dataframe tbody tr th:only-of-type {\n",
       "        vertical-align: middle;\n",
       "    }\n",
       "\n",
       "    .dataframe tbody tr th {\n",
       "        vertical-align: top;\n",
       "    }\n",
       "\n",
       "    .dataframe thead th {\n",
       "        text-align: right;\n",
       "    }\n",
       "</style>\n",
       "<table border=\"1\" class=\"dataframe\">\n",
       "  <thead>\n",
       "    <tr style=\"text-align: right;\">\n",
       "      <th></th>\n",
       "      <th>RA</th>\n",
       "      <th>Nome</th>\n",
       "      <th>Frequencia</th>\n",
       "      <th>Prova_1</th>\n",
       "      <th>Prova_2</th>\n",
       "      <th>Prova_3</th>\n",
       "      <th>Prova_4</th>\n",
       "    </tr>\n",
       "  </thead>\n",
       "  <tbody>\n",
       "    <tr>\n",
       "      <th>0</th>\n",
       "      <td>110201</td>\n",
       "      <td>Antonio Carlos</td>\n",
       "      <td>20</td>\n",
       "      <td>6.5</td>\n",
       "      <td>8.5</td>\n",
       "      <td>7.0</td>\n",
       "      <td>6</td>\n",
       "    </tr>\n",
       "    <tr>\n",
       "      <th>1</th>\n",
       "      <td>110212</td>\n",
       "      <td>Ana Beatriz</td>\n",
       "      <td>20</td>\n",
       "      <td>7.0</td>\n",
       "      <td>7.0</td>\n",
       "      <td>7.0</td>\n",
       "      <td>8</td>\n",
       "    </tr>\n",
       "    <tr>\n",
       "      <th>2</th>\n",
       "      <td>110218</td>\n",
       "      <td>Carlos Vernes</td>\n",
       "      <td>17</td>\n",
       "      <td>7.0</td>\n",
       "      <td>7.0</td>\n",
       "      <td>7.0</td>\n",
       "      <td>7</td>\n",
       "    </tr>\n",
       "    <tr>\n",
       "      <th>3</th>\n",
       "      <td>110307</td>\n",
       "      <td>Francisco Cunha</td>\n",
       "      <td>20</td>\n",
       "      <td>9.0</td>\n",
       "      <td>8.5</td>\n",
       "      <td>8.5</td>\n",
       "      <td>10</td>\n",
       "    </tr>\n",
       "    <tr>\n",
       "      <th>4</th>\n",
       "      <td>110275</td>\n",
       "      <td>Sandra Rosa</td>\n",
       "      <td>15</td>\n",
       "      <td>6.5</td>\n",
       "      <td>7.5</td>\n",
       "      <td>7.0</td>\n",
       "      <td>7</td>\n",
       "    </tr>\n",
       "    <tr>\n",
       "      <th>5</th>\n",
       "      <td>110281</td>\n",
       "      <td>Juliana Arruda</td>\n",
       "      <td>18</td>\n",
       "      <td>7.5</td>\n",
       "      <td>7.0</td>\n",
       "      <td>7.5</td>\n",
       "      <td>8</td>\n",
       "    </tr>\n",
       "    <tr>\n",
       "      <th>6</th>\n",
       "      <td>110301</td>\n",
       "      <td>Joao Galo</td>\n",
       "      <td>20</td>\n",
       "      <td>5.0</td>\n",
       "      <td>6.5</td>\n",
       "      <td>7.0</td>\n",
       "      <td>5</td>\n",
       "    </tr>\n",
       "    <tr>\n",
       "      <th>7</th>\n",
       "      <td>110263</td>\n",
       "      <td>José Valente</td>\n",
       "      <td>20</td>\n",
       "      <td>10.0</td>\n",
       "      <td>10.0</td>\n",
       "      <td>10.0</td>\n",
       "      <td>10</td>\n",
       "    </tr>\n",
       "    <tr>\n",
       "      <th>8</th>\n",
       "      <td>110271</td>\n",
       "      <td>Maria Ferreira</td>\n",
       "      <td>19</td>\n",
       "      <td>9.5</td>\n",
       "      <td>8.0</td>\n",
       "      <td>7.0</td>\n",
       "      <td>10</td>\n",
       "    </tr>\n",
       "    <tr>\n",
       "      <th>9</th>\n",
       "      <td>110236</td>\n",
       "      <td>Adriana Tavares</td>\n",
       "      <td>20</td>\n",
       "      <td>8.0</td>\n",
       "      <td>8.0</td>\n",
       "      <td>8.0</td>\n",
       "      <td>8</td>\n",
       "    </tr>\n",
       "  </tbody>\n",
       "</table>\n",
       "</div>"
      ],
      "text/plain": [
       "       RA             Nome  Frequencia  Prova_1  Prova_2  Prova_3  Prova_4\n",
       "0  110201   Antonio Carlos          20      6.5      8.5      7.0        6\n",
       "1  110212      Ana Beatriz          20      7.0      7.0      7.0        8\n",
       "2  110218    Carlos Vernes          17      7.0      7.0      7.0        7\n",
       "3  110307  Francisco Cunha          20      9.0      8.5      8.5       10\n",
       "4  110275      Sandra Rosa          15      6.5      7.5      7.0        7\n",
       "5  110281   Juliana Arruda          18      7.5      7.0      7.5        8\n",
       "6  110301        Joao Galo          20      5.0      6.5      7.0        5\n",
       "7  110263     José Valente          20     10.0     10.0     10.0       10\n",
       "8  110271   Maria Ferreira          19      9.5      8.0      7.0       10\n",
       "9  110236  Adriana Tavares          20      8.0      8.0      8.0        8"
      ]
     },
     "execution_count": 31,
     "metadata": {},
     "output_type": "execute_result"
    }
   ],
   "source": [
    "df"
   ]
  },
  {
   "cell_type": "code",
   "execution_count": 32,
   "id": "802bac31-14b2-4676-a9fc-eb43f2b11cc4",
   "metadata": {},
   "outputs": [
    {
     "data": {
      "text/html": [
       "<div>\n",
       "<style scoped>\n",
       "    .dataframe tbody tr th:only-of-type {\n",
       "        vertical-align: middle;\n",
       "    }\n",
       "\n",
       "    .dataframe tbody tr th {\n",
       "        vertical-align: top;\n",
       "    }\n",
       "\n",
       "    .dataframe thead th {\n",
       "        text-align: right;\n",
       "    }\n",
       "</style>\n",
       "<table border=\"1\" class=\"dataframe\">\n",
       "  <thead>\n",
       "    <tr style=\"text-align: right;\">\n",
       "      <th></th>\n",
       "      <th>RA</th>\n",
       "      <th>Nome</th>\n",
       "      <th>Frequencia</th>\n",
       "      <th>Prova_1</th>\n",
       "      <th>Prova_2</th>\n",
       "      <th>Prova_3</th>\n",
       "      <th>Prova_4</th>\n",
       "    </tr>\n",
       "  </thead>\n",
       "  <tbody>\n",
       "    <tr>\n",
       "      <th>0</th>\n",
       "      <td>110201</td>\n",
       "      <td>Antonio Carlos</td>\n",
       "      <td>20</td>\n",
       "      <td>6.5</td>\n",
       "      <td>8.5</td>\n",
       "      <td>7.0</td>\n",
       "      <td>6</td>\n",
       "    </tr>\n",
       "    <tr>\n",
       "      <th>1</th>\n",
       "      <td>110212</td>\n",
       "      <td>Ana Beatriz</td>\n",
       "      <td>20</td>\n",
       "      <td>7.0</td>\n",
       "      <td>7.0</td>\n",
       "      <td>7.0</td>\n",
       "      <td>8</td>\n",
       "    </tr>\n",
       "    <tr>\n",
       "      <th>2</th>\n",
       "      <td>110218</td>\n",
       "      <td>Carlos Vernes</td>\n",
       "      <td>17</td>\n",
       "      <td>7.0</td>\n",
       "      <td>7.0</td>\n",
       "      <td>7.0</td>\n",
       "      <td>7</td>\n",
       "    </tr>\n",
       "  </tbody>\n",
       "</table>\n",
       "</div>"
      ],
      "text/plain": [
       "       RA            Nome  Frequencia  Prova_1  Prova_2  Prova_3  Prova_4\n",
       "0  110201  Antonio Carlos          20      6.5      8.5      7.0        6\n",
       "1  110212     Ana Beatriz          20      7.0      7.0      7.0        8\n",
       "2  110218   Carlos Vernes          17      7.0      7.0      7.0        7"
      ]
     },
     "execution_count": 32,
     "metadata": {},
     "output_type": "execute_result"
    }
   ],
   "source": [
    "df.head(3)"
   ]
  },
  {
   "cell_type": "code",
   "execution_count": 33,
   "id": "b8fce5a7-a50d-4e56-9ff8-2675941e07e0",
   "metadata": {},
   "outputs": [
    {
     "data": {
      "text/html": [
       "<div>\n",
       "<style scoped>\n",
       "    .dataframe tbody tr th:only-of-type {\n",
       "        vertical-align: middle;\n",
       "    }\n",
       "\n",
       "    .dataframe tbody tr th {\n",
       "        vertical-align: top;\n",
       "    }\n",
       "\n",
       "    .dataframe thead th {\n",
       "        text-align: right;\n",
       "    }\n",
       "</style>\n",
       "<table border=\"1\" class=\"dataframe\">\n",
       "  <thead>\n",
       "    <tr style=\"text-align: right;\">\n",
       "      <th></th>\n",
       "      <th>RA</th>\n",
       "      <th>Nome</th>\n",
       "      <th>Frequencia</th>\n",
       "      <th>Prova_1</th>\n",
       "      <th>Prova_2</th>\n",
       "      <th>Prova_3</th>\n",
       "      <th>Prova_4</th>\n",
       "    </tr>\n",
       "  </thead>\n",
       "  <tbody>\n",
       "    <tr>\n",
       "      <th>0</th>\n",
       "      <td>110201</td>\n",
       "      <td>Antonio Carlos</td>\n",
       "      <td>20</td>\n",
       "      <td>6.5</td>\n",
       "      <td>8.5</td>\n",
       "      <td>7.0</td>\n",
       "      <td>6</td>\n",
       "    </tr>\n",
       "    <tr>\n",
       "      <th>1</th>\n",
       "      <td>110212</td>\n",
       "      <td>Ana Beatriz</td>\n",
       "      <td>20</td>\n",
       "      <td>7.0</td>\n",
       "      <td>7.0</td>\n",
       "      <td>7.0</td>\n",
       "      <td>8</td>\n",
       "    </tr>\n",
       "    <tr>\n",
       "      <th>2</th>\n",
       "      <td>110218</td>\n",
       "      <td>Carlos Vernes</td>\n",
       "      <td>17</td>\n",
       "      <td>7.0</td>\n",
       "      <td>7.0</td>\n",
       "      <td>7.0</td>\n",
       "      <td>7</td>\n",
       "    </tr>\n",
       "    <tr>\n",
       "      <th>3</th>\n",
       "      <td>110307</td>\n",
       "      <td>Francisco Cunha</td>\n",
       "      <td>20</td>\n",
       "      <td>9.0</td>\n",
       "      <td>8.5</td>\n",
       "      <td>8.5</td>\n",
       "      <td>10</td>\n",
       "    </tr>\n",
       "    <tr>\n",
       "      <th>4</th>\n",
       "      <td>110275</td>\n",
       "      <td>Sandra Rosa</td>\n",
       "      <td>15</td>\n",
       "      <td>6.5</td>\n",
       "      <td>7.5</td>\n",
       "      <td>7.0</td>\n",
       "      <td>7</td>\n",
       "    </tr>\n",
       "  </tbody>\n",
       "</table>\n",
       "</div>"
      ],
      "text/plain": [
       "       RA             Nome  Frequencia  Prova_1  Prova_2  Prova_3  Prova_4\n",
       "0  110201   Antonio Carlos          20      6.5      8.5      7.0        6\n",
       "1  110212      Ana Beatriz          20      7.0      7.0      7.0        8\n",
       "2  110218    Carlos Vernes          17      7.0      7.0      7.0        7\n",
       "3  110307  Francisco Cunha          20      9.0      8.5      8.5       10\n",
       "4  110275      Sandra Rosa          15      6.5      7.5      7.0        7"
      ]
     },
     "execution_count": 33,
     "metadata": {},
     "output_type": "execute_result"
    }
   ],
   "source": [
    "df.head(5)"
   ]
  },
  {
   "cell_type": "code",
   "execution_count": 34,
   "id": "50b0b256-76ce-4801-b549-24921bdf89de",
   "metadata": {},
   "outputs": [
    {
     "data": {
      "text/html": [
       "<div>\n",
       "<style scoped>\n",
       "    .dataframe tbody tr th:only-of-type {\n",
       "        vertical-align: middle;\n",
       "    }\n",
       "\n",
       "    .dataframe tbody tr th {\n",
       "        vertical-align: top;\n",
       "    }\n",
       "\n",
       "    .dataframe thead th {\n",
       "        text-align: right;\n",
       "    }\n",
       "</style>\n",
       "<table border=\"1\" class=\"dataframe\">\n",
       "  <thead>\n",
       "    <tr style=\"text-align: right;\">\n",
       "      <th></th>\n",
       "      <th>RA</th>\n",
       "      <th>Nome</th>\n",
       "      <th>Frequencia</th>\n",
       "      <th>Prova_1</th>\n",
       "      <th>Prova_2</th>\n",
       "      <th>Prova_3</th>\n",
       "      <th>Prova_4</th>\n",
       "    </tr>\n",
       "  </thead>\n",
       "  <tbody>\n",
       "    <tr>\n",
       "      <th>7</th>\n",
       "      <td>110263</td>\n",
       "      <td>José Valente</td>\n",
       "      <td>20</td>\n",
       "      <td>10.0</td>\n",
       "      <td>10.0</td>\n",
       "      <td>10.0</td>\n",
       "      <td>10</td>\n",
       "    </tr>\n",
       "    <tr>\n",
       "      <th>8</th>\n",
       "      <td>110271</td>\n",
       "      <td>Maria Ferreira</td>\n",
       "      <td>19</td>\n",
       "      <td>9.5</td>\n",
       "      <td>8.0</td>\n",
       "      <td>7.0</td>\n",
       "      <td>10</td>\n",
       "    </tr>\n",
       "    <tr>\n",
       "      <th>9</th>\n",
       "      <td>110236</td>\n",
       "      <td>Adriana Tavares</td>\n",
       "      <td>20</td>\n",
       "      <td>8.0</td>\n",
       "      <td>8.0</td>\n",
       "      <td>8.0</td>\n",
       "      <td>8</td>\n",
       "    </tr>\n",
       "  </tbody>\n",
       "</table>\n",
       "</div>"
      ],
      "text/plain": [
       "       RA             Nome  Frequencia  Prova_1  Prova_2  Prova_3  Prova_4\n",
       "7  110263     José Valente          20     10.0     10.0     10.0       10\n",
       "8  110271   Maria Ferreira          19      9.5      8.0      7.0       10\n",
       "9  110236  Adriana Tavares          20      8.0      8.0      8.0        8"
      ]
     },
     "execution_count": 34,
     "metadata": {},
     "output_type": "execute_result"
    }
   ],
   "source": [
    "df.tail(3)"
   ]
  },
  {
   "cell_type": "code",
   "execution_count": 35,
   "id": "606eaec0-a753-4c98-b9c5-612322d03191",
   "metadata": {},
   "outputs": [
    {
     "data": {
      "text/plain": [
       "pandas.core.frame.DataFrame"
      ]
     },
     "execution_count": 35,
     "metadata": {},
     "output_type": "execute_result"
    }
   ],
   "source": [
    "type(df)"
   ]
  },
  {
   "cell_type": "code",
   "execution_count": 36,
   "id": "6264f2d8-21f3-4dfd-877f-c2efb7fdb2fa",
   "metadata": {},
   "outputs": [
    {
     "data": {
      "text/html": [
       "<div>\n",
       "<style scoped>\n",
       "    .dataframe tbody tr th:only-of-type {\n",
       "        vertical-align: middle;\n",
       "    }\n",
       "\n",
       "    .dataframe tbody tr th {\n",
       "        vertical-align: top;\n",
       "    }\n",
       "\n",
       "    .dataframe thead th {\n",
       "        text-align: right;\n",
       "    }\n",
       "</style>\n",
       "<table border=\"1\" class=\"dataframe\">\n",
       "  <thead>\n",
       "    <tr style=\"text-align: right;\">\n",
       "      <th></th>\n",
       "      <th>RA</th>\n",
       "      <th>Nome</th>\n",
       "      <th>Frequencia</th>\n",
       "      <th>Prova_1</th>\n",
       "      <th>Prova_2</th>\n",
       "      <th>Prova_3</th>\n",
       "      <th>Prova_4</th>\n",
       "    </tr>\n",
       "  </thead>\n",
       "  <tbody>\n",
       "    <tr>\n",
       "      <th>0</th>\n",
       "      <td>110201</td>\n",
       "      <td>Antonio Carlos</td>\n",
       "      <td>20</td>\n",
       "      <td>6.5</td>\n",
       "      <td>8.5</td>\n",
       "      <td>7.0</td>\n",
       "      <td>6</td>\n",
       "    </tr>\n",
       "    <tr>\n",
       "      <th>1</th>\n",
       "      <td>110212</td>\n",
       "      <td>Ana Beatriz</td>\n",
       "      <td>20</td>\n",
       "      <td>7.0</td>\n",
       "      <td>7.0</td>\n",
       "      <td>7.0</td>\n",
       "      <td>8</td>\n",
       "    </tr>\n",
       "    <tr>\n",
       "      <th>2</th>\n",
       "      <td>110218</td>\n",
       "      <td>Carlos Vernes</td>\n",
       "      <td>17</td>\n",
       "      <td>7.0</td>\n",
       "      <td>7.0</td>\n",
       "      <td>7.0</td>\n",
       "      <td>7</td>\n",
       "    </tr>\n",
       "    <tr>\n",
       "      <th>3</th>\n",
       "      <td>110307</td>\n",
       "      <td>Francisco Cunha</td>\n",
       "      <td>20</td>\n",
       "      <td>9.0</td>\n",
       "      <td>8.5</td>\n",
       "      <td>8.5</td>\n",
       "      <td>10</td>\n",
       "    </tr>\n",
       "    <tr>\n",
       "      <th>4</th>\n",
       "      <td>110275</td>\n",
       "      <td>Sandra Rosa</td>\n",
       "      <td>15</td>\n",
       "      <td>6.5</td>\n",
       "      <td>7.5</td>\n",
       "      <td>7.0</td>\n",
       "      <td>7</td>\n",
       "    </tr>\n",
       "    <tr>\n",
       "      <th>5</th>\n",
       "      <td>110281</td>\n",
       "      <td>Juliana Arruda</td>\n",
       "      <td>18</td>\n",
       "      <td>7.5</td>\n",
       "      <td>7.0</td>\n",
       "      <td>7.5</td>\n",
       "      <td>8</td>\n",
       "    </tr>\n",
       "    <tr>\n",
       "      <th>6</th>\n",
       "      <td>110301</td>\n",
       "      <td>Joao Galo</td>\n",
       "      <td>20</td>\n",
       "      <td>5.0</td>\n",
       "      <td>6.5</td>\n",
       "      <td>7.0</td>\n",
       "      <td>5</td>\n",
       "    </tr>\n",
       "    <tr>\n",
       "      <th>7</th>\n",
       "      <td>110263</td>\n",
       "      <td>José Valente</td>\n",
       "      <td>20</td>\n",
       "      <td>10.0</td>\n",
       "      <td>10.0</td>\n",
       "      <td>10.0</td>\n",
       "      <td>10</td>\n",
       "    </tr>\n",
       "    <tr>\n",
       "      <th>8</th>\n",
       "      <td>110271</td>\n",
       "      <td>Maria Ferreira</td>\n",
       "      <td>19</td>\n",
       "      <td>9.5</td>\n",
       "      <td>8.0</td>\n",
       "      <td>7.0</td>\n",
       "      <td>10</td>\n",
       "    </tr>\n",
       "    <tr>\n",
       "      <th>9</th>\n",
       "      <td>110236</td>\n",
       "      <td>Adriana Tavares</td>\n",
       "      <td>20</td>\n",
       "      <td>8.0</td>\n",
       "      <td>8.0</td>\n",
       "      <td>8.0</td>\n",
       "      <td>8</td>\n",
       "    </tr>\n",
       "  </tbody>\n",
       "</table>\n",
       "</div>"
      ],
      "text/plain": [
       "       RA             Nome  Frequencia  Prova_1  Prova_2  Prova_3  Prova_4\n",
       "0  110201   Antonio Carlos          20      6.5      8.5      7.0        6\n",
       "1  110212      Ana Beatriz          20      7.0      7.0      7.0        8\n",
       "2  110218    Carlos Vernes          17      7.0      7.0      7.0        7\n",
       "3  110307  Francisco Cunha          20      9.0      8.5      8.5       10\n",
       "4  110275      Sandra Rosa          15      6.5      7.5      7.0        7\n",
       "5  110281   Juliana Arruda          18      7.5      7.0      7.5        8\n",
       "6  110301        Joao Galo          20      5.0      6.5      7.0        5\n",
       "7  110263     José Valente          20     10.0     10.0     10.0       10\n",
       "8  110271   Maria Ferreira          19      9.5      8.0      7.0       10\n",
       "9  110236  Adriana Tavares          20      8.0      8.0      8.0        8"
      ]
     },
     "execution_count": 36,
     "metadata": {},
     "output_type": "execute_result"
    }
   ],
   "source": [
    "df"
   ]
  },
  {
   "cell_type": "code",
   "execution_count": 37,
   "id": "52d3b4a9-535b-42d6-8c10-3ae67223a7c1",
   "metadata": {},
   "outputs": [
    {
     "data": {
      "text/plain": [
       "0    20\n",
       "1    20\n",
       "2    17\n",
       "3    20\n",
       "4    15\n",
       "5    18\n",
       "6    20\n",
       "7    20\n",
       "8    19\n",
       "9    20\n",
       "Name: Frequencia, dtype: int64"
      ]
     },
     "execution_count": 37,
     "metadata": {},
     "output_type": "execute_result"
    }
   ],
   "source": [
    "df['Frequencia']"
   ]
  },
  {
   "cell_type": "code",
   "execution_count": 40,
   "id": "ad264cf3-f3bf-4809-89c2-241c66c0fe54",
   "metadata": {},
   "outputs": [
    {
     "data": {
      "text/plain": [
       "0    110201\n",
       "1    110212\n",
       "2    110218\n",
       "3    110307\n",
       "4    110275\n",
       "5    110281\n",
       "6    110301\n",
       "7    110263\n",
       "8    110271\n",
       "9    110236\n",
       "Name: RA, dtype: int64"
      ]
     },
     "execution_count": 40,
     "metadata": {},
     "output_type": "execute_result"
    }
   ],
   "source": [
    "df['RA']"
   ]
  },
  {
   "cell_type": "code",
   "execution_count": 45,
   "id": "547d7249-7156-4568-93c0-6aadcbeafd54",
   "metadata": {},
   "outputs": [
    {
     "data": {
      "text/html": [
       "<div>\n",
       "<style scoped>\n",
       "    .dataframe tbody tr th:only-of-type {\n",
       "        vertical-align: middle;\n",
       "    }\n",
       "\n",
       "    .dataframe tbody tr th {\n",
       "        vertical-align: top;\n",
       "    }\n",
       "\n",
       "    .dataframe thead th {\n",
       "        text-align: right;\n",
       "    }\n",
       "</style>\n",
       "<table border=\"1\" class=\"dataframe\">\n",
       "  <thead>\n",
       "    <tr style=\"text-align: right;\">\n",
       "      <th></th>\n",
       "      <th>Frequencia</th>\n",
       "      <th>Prova_1</th>\n",
       "      <th>RA</th>\n",
       "    </tr>\n",
       "  </thead>\n",
       "  <tbody>\n",
       "    <tr>\n",
       "      <th>0</th>\n",
       "      <td>20</td>\n",
       "      <td>6.5</td>\n",
       "      <td>110201</td>\n",
       "    </tr>\n",
       "    <tr>\n",
       "      <th>1</th>\n",
       "      <td>20</td>\n",
       "      <td>7.0</td>\n",
       "      <td>110212</td>\n",
       "    </tr>\n",
       "    <tr>\n",
       "      <th>2</th>\n",
       "      <td>17</td>\n",
       "      <td>7.0</td>\n",
       "      <td>110218</td>\n",
       "    </tr>\n",
       "    <tr>\n",
       "      <th>3</th>\n",
       "      <td>20</td>\n",
       "      <td>9.0</td>\n",
       "      <td>110307</td>\n",
       "    </tr>\n",
       "    <tr>\n",
       "      <th>4</th>\n",
       "      <td>15</td>\n",
       "      <td>6.5</td>\n",
       "      <td>110275</td>\n",
       "    </tr>\n",
       "    <tr>\n",
       "      <th>5</th>\n",
       "      <td>18</td>\n",
       "      <td>7.5</td>\n",
       "      <td>110281</td>\n",
       "    </tr>\n",
       "    <tr>\n",
       "      <th>6</th>\n",
       "      <td>20</td>\n",
       "      <td>5.0</td>\n",
       "      <td>110301</td>\n",
       "    </tr>\n",
       "    <tr>\n",
       "      <th>7</th>\n",
       "      <td>20</td>\n",
       "      <td>10.0</td>\n",
       "      <td>110263</td>\n",
       "    </tr>\n",
       "    <tr>\n",
       "      <th>8</th>\n",
       "      <td>19</td>\n",
       "      <td>9.5</td>\n",
       "      <td>110271</td>\n",
       "    </tr>\n",
       "    <tr>\n",
       "      <th>9</th>\n",
       "      <td>20</td>\n",
       "      <td>8.0</td>\n",
       "      <td>110236</td>\n",
       "    </tr>\n",
       "  </tbody>\n",
       "</table>\n",
       "</div>"
      ],
      "text/plain": [
       "   Frequencia  Prova_1      RA\n",
       "0          20      6.5  110201\n",
       "1          20      7.0  110212\n",
       "2          17      7.0  110218\n",
       "3          20      9.0  110307\n",
       "4          15      6.5  110275\n",
       "5          18      7.5  110281\n",
       "6          20      5.0  110301\n",
       "7          20     10.0  110263\n",
       "8          19      9.5  110271\n",
       "9          20      8.0  110236"
      ]
     },
     "execution_count": 45,
     "metadata": {},
     "output_type": "execute_result"
    }
   ],
   "source": [
    "df[['Frequencia', 'Prova_1', 'RA']]"
   ]
  },
  {
   "cell_type": "code",
   "execution_count": 46,
   "id": "5ec1751b-fe12-4e68-8c44-019b38c7905f",
   "metadata": {},
   "outputs": [
    {
     "data": {
      "text/html": [
       "<div>\n",
       "<style scoped>\n",
       "    .dataframe tbody tr th:only-of-type {\n",
       "        vertical-align: middle;\n",
       "    }\n",
       "\n",
       "    .dataframe tbody tr th {\n",
       "        vertical-align: top;\n",
       "    }\n",
       "\n",
       "    .dataframe thead th {\n",
       "        text-align: right;\n",
       "    }\n",
       "</style>\n",
       "<table border=\"1\" class=\"dataframe\">\n",
       "  <thead>\n",
       "    <tr style=\"text-align: right;\">\n",
       "      <th></th>\n",
       "      <th>RA</th>\n",
       "      <th>Nome</th>\n",
       "      <th>Frequencia</th>\n",
       "      <th>Prova_1</th>\n",
       "      <th>Prova_2</th>\n",
       "      <th>Prova_3</th>\n",
       "      <th>Prova_4</th>\n",
       "    </tr>\n",
       "  </thead>\n",
       "  <tbody>\n",
       "    <tr>\n",
       "      <th>0</th>\n",
       "      <td>110201</td>\n",
       "      <td>Antonio Carlos</td>\n",
       "      <td>20</td>\n",
       "      <td>6.5</td>\n",
       "      <td>8.5</td>\n",
       "      <td>7.0</td>\n",
       "      <td>6</td>\n",
       "    </tr>\n",
       "    <tr>\n",
       "      <th>1</th>\n",
       "      <td>110212</td>\n",
       "      <td>Ana Beatriz</td>\n",
       "      <td>20</td>\n",
       "      <td>7.0</td>\n",
       "      <td>7.0</td>\n",
       "      <td>7.0</td>\n",
       "      <td>8</td>\n",
       "    </tr>\n",
       "    <tr>\n",
       "      <th>2</th>\n",
       "      <td>110218</td>\n",
       "      <td>Carlos Vernes</td>\n",
       "      <td>17</td>\n",
       "      <td>7.0</td>\n",
       "      <td>7.0</td>\n",
       "      <td>7.0</td>\n",
       "      <td>7</td>\n",
       "    </tr>\n",
       "    <tr>\n",
       "      <th>3</th>\n",
       "      <td>110307</td>\n",
       "      <td>Francisco Cunha</td>\n",
       "      <td>20</td>\n",
       "      <td>9.0</td>\n",
       "      <td>8.5</td>\n",
       "      <td>8.5</td>\n",
       "      <td>10</td>\n",
       "    </tr>\n",
       "    <tr>\n",
       "      <th>4</th>\n",
       "      <td>110275</td>\n",
       "      <td>Sandra Rosa</td>\n",
       "      <td>15</td>\n",
       "      <td>6.5</td>\n",
       "      <td>7.5</td>\n",
       "      <td>7.0</td>\n",
       "      <td>7</td>\n",
       "    </tr>\n",
       "    <tr>\n",
       "      <th>5</th>\n",
       "      <td>110281</td>\n",
       "      <td>Juliana Arruda</td>\n",
       "      <td>18</td>\n",
       "      <td>7.5</td>\n",
       "      <td>7.0</td>\n",
       "      <td>7.5</td>\n",
       "      <td>8</td>\n",
       "    </tr>\n",
       "    <tr>\n",
       "      <th>6</th>\n",
       "      <td>110301</td>\n",
       "      <td>Joao Galo</td>\n",
       "      <td>20</td>\n",
       "      <td>5.0</td>\n",
       "      <td>6.5</td>\n",
       "      <td>7.0</td>\n",
       "      <td>5</td>\n",
       "    </tr>\n",
       "    <tr>\n",
       "      <th>7</th>\n",
       "      <td>110263</td>\n",
       "      <td>José Valente</td>\n",
       "      <td>20</td>\n",
       "      <td>10.0</td>\n",
       "      <td>10.0</td>\n",
       "      <td>10.0</td>\n",
       "      <td>10</td>\n",
       "    </tr>\n",
       "    <tr>\n",
       "      <th>8</th>\n",
       "      <td>110271</td>\n",
       "      <td>Maria Ferreira</td>\n",
       "      <td>19</td>\n",
       "      <td>9.5</td>\n",
       "      <td>8.0</td>\n",
       "      <td>7.0</td>\n",
       "      <td>10</td>\n",
       "    </tr>\n",
       "    <tr>\n",
       "      <th>9</th>\n",
       "      <td>110236</td>\n",
       "      <td>Adriana Tavares</td>\n",
       "      <td>20</td>\n",
       "      <td>8.0</td>\n",
       "      <td>8.0</td>\n",
       "      <td>8.0</td>\n",
       "      <td>8</td>\n",
       "    </tr>\n",
       "  </tbody>\n",
       "</table>\n",
       "</div>"
      ],
      "text/plain": [
       "       RA             Nome  Frequencia  Prova_1  Prova_2  Prova_3  Prova_4\n",
       "0  110201   Antonio Carlos          20      6.5      8.5      7.0        6\n",
       "1  110212      Ana Beatriz          20      7.0      7.0      7.0        8\n",
       "2  110218    Carlos Vernes          17      7.0      7.0      7.0        7\n",
       "3  110307  Francisco Cunha          20      9.0      8.5      8.5       10\n",
       "4  110275      Sandra Rosa          15      6.5      7.5      7.0        7\n",
       "5  110281   Juliana Arruda          18      7.5      7.0      7.5        8\n",
       "6  110301        Joao Galo          20      5.0      6.5      7.0        5\n",
       "7  110263     José Valente          20     10.0     10.0     10.0       10\n",
       "8  110271   Maria Ferreira          19      9.5      8.0      7.0       10\n",
       "9  110236  Adriana Tavares          20      8.0      8.0      8.0        8"
      ]
     },
     "execution_count": 46,
     "metadata": {},
     "output_type": "execute_result"
    }
   ],
   "source": [
    "df"
   ]
  },
  {
   "cell_type": "code",
   "execution_count": 47,
   "id": "3efabb93-75f5-4034-aeb2-ae4015e3cd55",
   "metadata": {},
   "outputs": [
    {
     "data": {
      "text/plain": [
       "(10, 7)"
      ]
     },
     "execution_count": 47,
     "metadata": {},
     "output_type": "execute_result"
    }
   ],
   "source": [
    "df.shape"
   ]
  },
  {
   "cell_type": "code",
   "execution_count": 48,
   "id": "865c6d29-2364-46a4-ac8f-1c6358f54d38",
   "metadata": {},
   "outputs": [],
   "source": [
    "n_linhas, n_colunas = df.shape"
   ]
  },
  {
   "cell_type": "code",
   "execution_count": 50,
   "id": "64070ac1-049d-4fb8-8396-d79cebdadbf4",
   "metadata": {},
   "outputs": [
    {
     "name": "stdout",
     "output_type": "stream",
     "text": [
      "\n",
      "O dataframe tem:\n",
      "10 linhas\n",
      "7 colunas\n"
     ]
    }
   ],
   "source": [
    "print(f'''\n",
    "O dataframe tem:\n",
    "{n_linhas} linhas\n",
    "{n_colunas} colunas''')"
   ]
  },
  {
   "cell_type": "code",
   "execution_count": 51,
   "id": "873e232d-b08e-463e-98b4-78618a636cca",
   "metadata": {},
   "outputs": [
    {
     "data": {
      "text/plain": [
       "0    110201\n",
       "1    110212\n",
       "2    110218\n",
       "3    110307\n",
       "4    110275\n",
       "5    110281\n",
       "6    110301\n",
       "7    110263\n",
       "8    110271\n",
       "9    110236\n",
       "Name: RA, dtype: int64"
      ]
     },
     "execution_count": 51,
     "metadata": {},
     "output_type": "execute_result"
    }
   ],
   "source": [
    "df['RA']"
   ]
  },
  {
   "cell_type": "code",
   "execution_count": 52,
   "id": "3e70772f-f554-4a43-936a-627e5ffde1fe",
   "metadata": {},
   "outputs": [
    {
     "data": {
      "text/plain": [
       "(10,)"
      ]
     },
     "execution_count": 52,
     "metadata": {},
     "output_type": "execute_result"
    }
   ],
   "source": [
    "df['RA'].shape"
   ]
  },
  {
   "cell_type": "code",
   "execution_count": 53,
   "id": "b17d27a8-0044-407a-b1a5-e02d1197e19b",
   "metadata": {},
   "outputs": [
    {
     "data": {
      "text/plain": [
       "RA                    110201\n",
       "Nome          Antonio Carlos\n",
       "Frequencia                20\n",
       "Prova_1                  6.5\n",
       "Prova_2                  8.5\n",
       "Prova_3                  7.0\n",
       "Prova_4                    6\n",
       "Name: 0, dtype: object"
      ]
     },
     "execution_count": 53,
     "metadata": {},
     "output_type": "execute_result"
    }
   ],
   "source": [
    "df.loc[0]"
   ]
  },
  {
   "cell_type": "code",
   "execution_count": 54,
   "id": "433db2d4-5a39-4986-9e35-aef33f150a4d",
   "metadata": {},
   "outputs": [
    {
     "data": {
      "text/plain": [
       "(7,)"
      ]
     },
     "execution_count": 54,
     "metadata": {},
     "output_type": "execute_result"
    }
   ],
   "source": [
    "df.loc[0].shape"
   ]
  },
  {
   "cell_type": "code",
   "execution_count": 56,
   "id": "1986b759-a5e8-4e58-a87f-c4a82fc9dfcd",
   "metadata": {},
   "outputs": [
    {
     "data": {
      "text/plain": [
       "array([110201, 'Antonio Carlos', 20, 6.5, 8.5, 7.0, 6], dtype=object)"
      ]
     },
     "execution_count": 56,
     "metadata": {},
     "output_type": "execute_result"
    }
   ],
   "source": [
    "df.loc[0].values"
   ]
  },
  {
   "cell_type": "code",
   "execution_count": 57,
   "id": "883639af-914d-449b-b071-54aff587b5a6",
   "metadata": {},
   "outputs": [
    {
     "data": {
      "text/plain": [
       "'Antonio Carlos'"
      ]
     },
     "execution_count": 57,
     "metadata": {},
     "output_type": "execute_result"
    }
   ],
   "source": [
    "df.loc[0, 'Nome']"
   ]
  },
  {
   "cell_type": "markdown",
   "id": "e9236a74-e0e7-4b04-a6c3-e31921278869",
   "metadata": {},
   "source": [
    "## Faça um programa que imprima as linhas do arquivo alunos.csv como listas"
   ]
  },
  {
   "cell_type": "code",
   "execution_count": 64,
   "id": "cce82473-a856-4a08-a71c-9b8562972f66",
   "metadata": {},
   "outputs": [
    {
     "name": "stdout",
     "output_type": "stream",
     "text": [
      "[110201, 'Antonio Carlos', 20, 6.5, 8.5, 7.0, 6]\n",
      "[110212, 'Ana Beatriz', 20, 7.0, 7.0, 7.0, 8]\n",
      "[110218, 'Carlos Vernes', 17, 7.0, 7.0, 7.0, 7]\n",
      "[110307, 'Francisco Cunha', 20, 9.0, 8.5, 8.5, 10]\n",
      "[110275, 'Sandra Rosa', 15, 6.5, 7.5, 7.0, 7]\n",
      "[110281, 'Juliana Arruda', 18, 7.5, 7.0, 7.5, 8]\n",
      "[110301, 'Joao Galo', 20, 5.0, 6.5, 7.0, 5]\n",
      "[110263, 'José Valente', 20, 10.0, 10.0, 10.0, 10]\n",
      "[110271, 'Maria Ferreira', 19, 9.5, 8.0, 7.0, 10]\n",
      "[110236, 'Adriana Tavares', 20, 8.0, 8.0, 8.0, 8]\n"
     ]
    }
   ],
   "source": [
    "for i in range(df.shape[0]):\n",
    "    print(df.loc[i].values.tolist())"
   ]
  },
  {
   "cell_type": "code",
   "execution_count": 68,
   "id": "044311d5-9019-4810-9d5a-a489d314f89f",
   "metadata": {},
   "outputs": [
    {
     "name": "stdout",
     "output_type": "stream",
     "text": [
      "0 [110201, 'Antonio Carlos', 20, 6.5, 8.5, 7.0, 6]\n",
      "1 [110212, 'Ana Beatriz', 20, 7.0, 7.0, 7.0, 8]\n",
      "2 [110218, 'Carlos Vernes', 17, 7.0, 7.0, 7.0, 7]\n",
      "3 [110307, 'Francisco Cunha', 20, 9.0, 8.5, 8.5, 10]\n",
      "4 [110275, 'Sandra Rosa', 15, 6.5, 7.5, 7.0, 7]\n",
      "5 [110281, 'Juliana Arruda', 18, 7.5, 7.0, 7.5, 8]\n",
      "6 [110301, 'Joao Galo', 20, 5.0, 6.5, 7.0, 5]\n",
      "7 [110263, 'José Valente', 20, 10.0, 10.0, 10.0, 10]\n",
      "8 [110271, 'Maria Ferreira', 19, 9.5, 8.0, 7.0, 10]\n",
      "9 [110236, 'Adriana Tavares', 20, 8.0, 8.0, 8.0, 8]\n"
     ]
    }
   ],
   "source": [
    "for i, linha in df.iterrows():\n",
    "    print(i, linha.values.tolist())"
   ]
  },
  {
   "cell_type": "code",
   "execution_count": 75,
   "id": "24670200-2bc5-48d9-b305-93bfd629de0b",
   "metadata": {},
   "outputs": [
    {
     "name": "stdout",
     "output_type": "stream",
     "text": [
      "110201\tAntonio Carlos\t20\t6.5\t8.5\t7.0\t6\n",
      "110212\tAna Beatriz\t20\t7.0\t7.0\t7.0\t8\n",
      "110218\tCarlos Vernes\t17\t7.0\t7.0\t7.0\t7\n",
      "110307\tFrancisco Cunha\t20\t9.0\t8.5\t8.5\t10\n",
      "110275\tSandra Rosa\t15\t6.5\t7.5\t7.0\t7\n",
      "110281\tJuliana Arruda\t18\t7.5\t7.0\t7.5\t8\n",
      "110301\tJoao Galo\t20\t5.0\t6.5\t7.0\t5\n",
      "110263\tJosé Valente\t20\t10.0\t10.0\t10.0\t10\n",
      "110271\tMaria Ferreira\t19\t9.5\t8.0\t7.0\t10\n",
      "110236\tAdriana Tavares\t20\t8.0\t8.0\t8.0\t8\n"
     ]
    }
   ],
   "source": [
    "for i, linha in df.iterrows():\n",
    "    # Utilizando compreensão de lista para converter o valor da célula em string!\n",
    "    lista_valores = [str(valor) for valor in linha.values.tolist()]\n",
    "    \n",
    "    # Utilizando a conversão de tipos do numpy\n",
    "    lista_valores = linha.values.astype('str')\n",
    "    print('\\t'.join(lista_valores))\n",
    "    "
   ]
  },
  {
   "cell_type": "markdown",
   "id": "3db6fa3c-e5a4-4116-996b-daf9f89d3c56",
   "metadata": {},
   "source": [
    "##  Faça um programa que imprima os elementos da coluna ‘Nome’ do arquivo alunos.csv."
   ]
  },
  {
   "cell_type": "code",
   "execution_count": 78,
   "id": "cbddbef9-78dc-4c78-a211-2238ff11b2a1",
   "metadata": {},
   "outputs": [
    {
     "data": {
      "text/plain": [
       "3    Francisco Cunha\n",
       "4        Sandra Rosa\n",
       "Name: Nome, dtype: object"
      ]
     },
     "execution_count": 78,
     "metadata": {},
     "output_type": "execute_result"
    }
   ],
   "source": [
    "df['Nome'][3:5]"
   ]
  },
  {
   "cell_type": "code",
   "execution_count": 79,
   "id": "9af79709-e61a-490f-9c58-dfa3e6880acf",
   "metadata": {},
   "outputs": [
    {
     "data": {
      "text/html": [
       "<div>\n",
       "<style scoped>\n",
       "    .dataframe tbody tr th:only-of-type {\n",
       "        vertical-align: middle;\n",
       "    }\n",
       "\n",
       "    .dataframe tbody tr th {\n",
       "        vertical-align: top;\n",
       "    }\n",
       "\n",
       "    .dataframe thead th {\n",
       "        text-align: right;\n",
       "    }\n",
       "</style>\n",
       "<table border=\"1\" class=\"dataframe\">\n",
       "  <thead>\n",
       "    <tr style=\"text-align: right;\">\n",
       "      <th></th>\n",
       "      <th>RA</th>\n",
       "      <th>Nome</th>\n",
       "      <th>Frequencia</th>\n",
       "      <th>Prova_1</th>\n",
       "      <th>Prova_2</th>\n",
       "      <th>Prova_3</th>\n",
       "      <th>Prova_4</th>\n",
       "    </tr>\n",
       "  </thead>\n",
       "  <tbody>\n",
       "    <tr>\n",
       "      <th>3</th>\n",
       "      <td>110307</td>\n",
       "      <td>Francisco Cunha</td>\n",
       "      <td>20</td>\n",
       "      <td>9.0</td>\n",
       "      <td>8.5</td>\n",
       "      <td>8.5</td>\n",
       "      <td>10</td>\n",
       "    </tr>\n",
       "    <tr>\n",
       "      <th>4</th>\n",
       "      <td>110275</td>\n",
       "      <td>Sandra Rosa</td>\n",
       "      <td>15</td>\n",
       "      <td>6.5</td>\n",
       "      <td>7.5</td>\n",
       "      <td>7.0</td>\n",
       "      <td>7</td>\n",
       "    </tr>\n",
       "  </tbody>\n",
       "</table>\n",
       "</div>"
      ],
      "text/plain": [
       "       RA             Nome  Frequencia  Prova_1  Prova_2  Prova_3  Prova_4\n",
       "3  110307  Francisco Cunha          20      9.0      8.5      8.5       10\n",
       "4  110275      Sandra Rosa          15      6.5      7.5      7.0        7"
      ]
     },
     "execution_count": 79,
     "metadata": {},
     "output_type": "execute_result"
    }
   ],
   "source": [
    "df[3:5]"
   ]
  },
  {
   "cell_type": "code",
   "execution_count": 82,
   "id": "06b9750e-1988-4974-a2ba-b6348d5026bc",
   "metadata": {},
   "outputs": [
    {
     "data": {
      "text/html": [
       "<div>\n",
       "<style scoped>\n",
       "    .dataframe tbody tr th:only-of-type {\n",
       "        vertical-align: middle;\n",
       "    }\n",
       "\n",
       "    .dataframe tbody tr th {\n",
       "        vertical-align: top;\n",
       "    }\n",
       "\n",
       "    .dataframe thead th {\n",
       "        text-align: right;\n",
       "    }\n",
       "</style>\n",
       "<table border=\"1\" class=\"dataframe\">\n",
       "  <thead>\n",
       "    <tr style=\"text-align: right;\">\n",
       "      <th></th>\n",
       "      <th>RA</th>\n",
       "      <th>Nome</th>\n",
       "      <th>Frequencia</th>\n",
       "      <th>Prova_1</th>\n",
       "      <th>Prova_2</th>\n",
       "      <th>Prova_3</th>\n",
       "      <th>Prova_4</th>\n",
       "    </tr>\n",
       "  </thead>\n",
       "  <tbody>\n",
       "    <tr>\n",
       "      <th>3</th>\n",
       "      <td>110307</td>\n",
       "      <td>Francisco Cunha</td>\n",
       "      <td>20</td>\n",
       "      <td>9.0</td>\n",
       "      <td>8.5</td>\n",
       "      <td>8.5</td>\n",
       "      <td>10</td>\n",
       "    </tr>\n",
       "    <tr>\n",
       "      <th>4</th>\n",
       "      <td>110275</td>\n",
       "      <td>Sandra Rosa</td>\n",
       "      <td>15</td>\n",
       "      <td>6.5</td>\n",
       "      <td>7.5</td>\n",
       "      <td>7.0</td>\n",
       "      <td>7</td>\n",
       "    </tr>\n",
       "  </tbody>\n",
       "</table>\n",
       "</div>"
      ],
      "text/plain": [
       "       RA             Nome  Frequencia  Prova_1  Prova_2  Prova_3  Prova_4\n",
       "3  110307  Francisco Cunha          20      9.0      8.5      8.5       10\n",
       "4  110275      Sandra Rosa          15      6.5      7.5      7.0        7"
      ]
     },
     "execution_count": 82,
     "metadata": {},
     "output_type": "execute_result"
    }
   ],
   "source": [
    "df.loc[3:4]"
   ]
  },
  {
   "cell_type": "code",
   "execution_count": 83,
   "id": "143b18f2-e043-4cbf-96b7-ae3795bbfdf0",
   "metadata": {},
   "outputs": [
    {
     "data": {
      "text/plain": [
       "3    Francisco Cunha\n",
       "4        Sandra Rosa\n",
       "Name: Nome, dtype: object"
      ]
     },
     "execution_count": 83,
     "metadata": {},
     "output_type": "execute_result"
    }
   ],
   "source": [
    "df.loc[3:4, 'Nome']"
   ]
  },
  {
   "cell_type": "code",
   "execution_count": 84,
   "id": "5a06432b-3439-489b-89ab-5358f1ad5834",
   "metadata": {},
   "outputs": [
    {
     "name": "stdout",
     "output_type": "stream",
     "text": [
      "Antonio Carlos\n",
      "Ana Beatriz\n",
      "Carlos Vernes\n",
      "Francisco Cunha\n",
      "Sandra Rosa\n",
      "Juliana Arruda\n",
      "Joao Galo\n",
      "José Valente\n",
      "Maria Ferreira\n",
      "Adriana Tavares\n"
     ]
    }
   ],
   "source": [
    "for nome in df['Nome'].values:\n",
    "    print(nome)"
   ]
  },
  {
   "cell_type": "markdown",
   "id": "7ed3bd52-0631-4017-9724-075749559be0",
   "metadata": {},
   "source": [
    "## Faça um programa que copie os dados do arquivo alunos.csv para um arquivo chamado alunos2.csv"
   ]
  },
  {
   "cell_type": "code",
   "execution_count": 85,
   "id": "bbcb09d7-4fa1-4482-9119-dcdeb3c64bc3",
   "metadata": {},
   "outputs": [],
   "source": [
    "df.to_csv('./datasets/alunos2.csv')"
   ]
  },
  {
   "cell_type": "code",
   "execution_count": 86,
   "id": "425742f1-2e55-4eac-99e8-7a0b7fbfc794",
   "metadata": {},
   "outputs": [],
   "source": [
    "df.to_csv('./datasets/alunos2.csv', sep=';', index=None)"
   ]
  },
  {
   "cell_type": "code",
   "execution_count": 87,
   "id": "1c7ecfcd-a7be-485f-8704-9c2ce39408b7",
   "metadata": {},
   "outputs": [],
   "source": [
    "df.to_excel('./datasets/alunos2.xlsx', index=None)"
   ]
  },
  {
   "cell_type": "markdown",
   "id": "fd68be7c-4e1c-42a5-acc8-2e2081e5d4e0",
   "metadata": {},
   "source": [
    "## 5. Faça um programa que imprima o nome e a média de cada um dos alunos do arquivo alunos.csv\n"
   ]
  },
  {
   "cell_type": "code",
   "execution_count": 93,
   "id": "d66cab7b-5fea-477e-af93-1711fe541647",
   "metadata": {},
   "outputs": [
    {
     "data": {
      "text/html": [
       "<div>\n",
       "<style scoped>\n",
       "    .dataframe tbody tr th:only-of-type {\n",
       "        vertical-align: middle;\n",
       "    }\n",
       "\n",
       "    .dataframe tbody tr th {\n",
       "        vertical-align: top;\n",
       "    }\n",
       "\n",
       "    .dataframe thead th {\n",
       "        text-align: right;\n",
       "    }\n",
       "</style>\n",
       "<table border=\"1\" class=\"dataframe\">\n",
       "  <thead>\n",
       "    <tr style=\"text-align: right;\">\n",
       "      <th></th>\n",
       "      <th>Prova_1</th>\n",
       "    </tr>\n",
       "  </thead>\n",
       "  <tbody>\n",
       "    <tr>\n",
       "      <th>0</th>\n",
       "      <td>6.5</td>\n",
       "    </tr>\n",
       "    <tr>\n",
       "      <th>1</th>\n",
       "      <td>7.0</td>\n",
       "    </tr>\n",
       "    <tr>\n",
       "      <th>2</th>\n",
       "      <td>7.0</td>\n",
       "    </tr>\n",
       "    <tr>\n",
       "      <th>3</th>\n",
       "      <td>9.0</td>\n",
       "    </tr>\n",
       "    <tr>\n",
       "      <th>4</th>\n",
       "      <td>6.5</td>\n",
       "    </tr>\n",
       "    <tr>\n",
       "      <th>5</th>\n",
       "      <td>7.5</td>\n",
       "    </tr>\n",
       "    <tr>\n",
       "      <th>6</th>\n",
       "      <td>5.0</td>\n",
       "    </tr>\n",
       "    <tr>\n",
       "      <th>7</th>\n",
       "      <td>10.0</td>\n",
       "    </tr>\n",
       "    <tr>\n",
       "      <th>8</th>\n",
       "      <td>9.5</td>\n",
       "    </tr>\n",
       "    <tr>\n",
       "      <th>9</th>\n",
       "      <td>8.0</td>\n",
       "    </tr>\n",
       "  </tbody>\n",
       "</table>\n",
       "</div>"
      ],
      "text/plain": [
       "   Prova_1\n",
       "0      6.5\n",
       "1      7.0\n",
       "2      7.0\n",
       "3      9.0\n",
       "4      6.5\n",
       "5      7.5\n",
       "6      5.0\n",
       "7     10.0\n",
       "8      9.5\n",
       "9      8.0"
      ]
     },
     "execution_count": 93,
     "metadata": {},
     "output_type": "execute_result"
    }
   ],
   "source": [
    "df[['Prova_1']]"
   ]
  },
  {
   "cell_type": "code",
   "execution_count": 94,
   "id": "7f4941ca-0fff-43e3-9e39-af67ae99d737",
   "metadata": {},
   "outputs": [
    {
     "data": {
      "text/html": [
       "<div>\n",
       "<style scoped>\n",
       "    .dataframe tbody tr th:only-of-type {\n",
       "        vertical-align: middle;\n",
       "    }\n",
       "\n",
       "    .dataframe tbody tr th {\n",
       "        vertical-align: top;\n",
       "    }\n",
       "\n",
       "    .dataframe thead th {\n",
       "        text-align: right;\n",
       "    }\n",
       "</style>\n",
       "<table border=\"1\" class=\"dataframe\">\n",
       "  <thead>\n",
       "    <tr style=\"text-align: right;\">\n",
       "      <th></th>\n",
       "      <th>Prova_1</th>\n",
       "      <th>Prova_2</th>\n",
       "      <th>Prova_3</th>\n",
       "      <th>Prova_4</th>\n",
       "    </tr>\n",
       "  </thead>\n",
       "  <tbody>\n",
       "    <tr>\n",
       "      <th>0</th>\n",
       "      <td>6.5</td>\n",
       "      <td>8.5</td>\n",
       "      <td>7.0</td>\n",
       "      <td>6</td>\n",
       "    </tr>\n",
       "    <tr>\n",
       "      <th>1</th>\n",
       "      <td>7.0</td>\n",
       "      <td>7.0</td>\n",
       "      <td>7.0</td>\n",
       "      <td>8</td>\n",
       "    </tr>\n",
       "    <tr>\n",
       "      <th>2</th>\n",
       "      <td>7.0</td>\n",
       "      <td>7.0</td>\n",
       "      <td>7.0</td>\n",
       "      <td>7</td>\n",
       "    </tr>\n",
       "    <tr>\n",
       "      <th>3</th>\n",
       "      <td>9.0</td>\n",
       "      <td>8.5</td>\n",
       "      <td>8.5</td>\n",
       "      <td>10</td>\n",
       "    </tr>\n",
       "    <tr>\n",
       "      <th>4</th>\n",
       "      <td>6.5</td>\n",
       "      <td>7.5</td>\n",
       "      <td>7.0</td>\n",
       "      <td>7</td>\n",
       "    </tr>\n",
       "    <tr>\n",
       "      <th>5</th>\n",
       "      <td>7.5</td>\n",
       "      <td>7.0</td>\n",
       "      <td>7.5</td>\n",
       "      <td>8</td>\n",
       "    </tr>\n",
       "    <tr>\n",
       "      <th>6</th>\n",
       "      <td>5.0</td>\n",
       "      <td>6.5</td>\n",
       "      <td>7.0</td>\n",
       "      <td>5</td>\n",
       "    </tr>\n",
       "    <tr>\n",
       "      <th>7</th>\n",
       "      <td>10.0</td>\n",
       "      <td>10.0</td>\n",
       "      <td>10.0</td>\n",
       "      <td>10</td>\n",
       "    </tr>\n",
       "    <tr>\n",
       "      <th>8</th>\n",
       "      <td>9.5</td>\n",
       "      <td>8.0</td>\n",
       "      <td>7.0</td>\n",
       "      <td>10</td>\n",
       "    </tr>\n",
       "    <tr>\n",
       "      <th>9</th>\n",
       "      <td>8.0</td>\n",
       "      <td>8.0</td>\n",
       "      <td>8.0</td>\n",
       "      <td>8</td>\n",
       "    </tr>\n",
       "  </tbody>\n",
       "</table>\n",
       "</div>"
      ],
      "text/plain": [
       "   Prova_1  Prova_2  Prova_3  Prova_4\n",
       "0      6.5      8.5      7.0        6\n",
       "1      7.0      7.0      7.0        8\n",
       "2      7.0      7.0      7.0        7\n",
       "3      9.0      8.5      8.5       10\n",
       "4      6.5      7.5      7.0        7\n",
       "5      7.5      7.0      7.5        8\n",
       "6      5.0      6.5      7.0        5\n",
       "7     10.0     10.0     10.0       10\n",
       "8      9.5      8.0      7.0       10\n",
       "9      8.0      8.0      8.0        8"
      ]
     },
     "execution_count": 94,
     "metadata": {},
     "output_type": "execute_result"
    }
   ],
   "source": [
    "df[['Prova_1', 'Prova_2', 'Prova_3', 'Prova_4']]"
   ]
  },
  {
   "cell_type": "code",
   "execution_count": 99,
   "id": "d023ea04-84f2-4d3e-af59-b8ecc025a94b",
   "metadata": {},
   "outputs": [
    {
     "data": {
      "text/html": [
       "<div>\n",
       "<style scoped>\n",
       "    .dataframe tbody tr th:only-of-type {\n",
       "        vertical-align: middle;\n",
       "    }\n",
       "\n",
       "    .dataframe tbody tr th {\n",
       "        vertical-align: top;\n",
       "    }\n",
       "\n",
       "    .dataframe thead th {\n",
       "        text-align: right;\n",
       "    }\n",
       "</style>\n",
       "<table border=\"1\" class=\"dataframe\">\n",
       "  <thead>\n",
       "    <tr style=\"text-align: right;\">\n",
       "      <th></th>\n",
       "      <th>RA</th>\n",
       "      <th>Nome</th>\n",
       "      <th>Frequencia</th>\n",
       "      <th>Prova_1</th>\n",
       "      <th>Prova_2</th>\n",
       "      <th>Prova_3</th>\n",
       "      <th>Prova_4</th>\n",
       "    </tr>\n",
       "  </thead>\n",
       "  <tbody>\n",
       "    <tr>\n",
       "      <th>0</th>\n",
       "      <td>110201</td>\n",
       "      <td>Antonio Carlos</td>\n",
       "      <td>20</td>\n",
       "      <td>6.5</td>\n",
       "      <td>8.5</td>\n",
       "      <td>7.0</td>\n",
       "      <td>6</td>\n",
       "    </tr>\n",
       "    <tr>\n",
       "      <th>1</th>\n",
       "      <td>110212</td>\n",
       "      <td>Ana Beatriz</td>\n",
       "      <td>20</td>\n",
       "      <td>7.0</td>\n",
       "      <td>7.0</td>\n",
       "      <td>7.0</td>\n",
       "      <td>8</td>\n",
       "    </tr>\n",
       "    <tr>\n",
       "      <th>2</th>\n",
       "      <td>110218</td>\n",
       "      <td>Carlos Vernes</td>\n",
       "      <td>17</td>\n",
       "      <td>7.0</td>\n",
       "      <td>7.0</td>\n",
       "      <td>7.0</td>\n",
       "      <td>7</td>\n",
       "    </tr>\n",
       "    <tr>\n",
       "      <th>3</th>\n",
       "      <td>110307</td>\n",
       "      <td>Francisco Cunha</td>\n",
       "      <td>20</td>\n",
       "      <td>9.0</td>\n",
       "      <td>8.5</td>\n",
       "      <td>8.5</td>\n",
       "      <td>10</td>\n",
       "    </tr>\n",
       "    <tr>\n",
       "      <th>4</th>\n",
       "      <td>110275</td>\n",
       "      <td>Sandra Rosa</td>\n",
       "      <td>15</td>\n",
       "      <td>6.5</td>\n",
       "      <td>7.5</td>\n",
       "      <td>7.0</td>\n",
       "      <td>7</td>\n",
       "    </tr>\n",
       "    <tr>\n",
       "      <th>5</th>\n",
       "      <td>110281</td>\n",
       "      <td>Juliana Arruda</td>\n",
       "      <td>18</td>\n",
       "      <td>7.5</td>\n",
       "      <td>7.0</td>\n",
       "      <td>7.5</td>\n",
       "      <td>8</td>\n",
       "    </tr>\n",
       "    <tr>\n",
       "      <th>6</th>\n",
       "      <td>110301</td>\n",
       "      <td>Joao Galo</td>\n",
       "      <td>20</td>\n",
       "      <td>5.0</td>\n",
       "      <td>6.5</td>\n",
       "      <td>7.0</td>\n",
       "      <td>5</td>\n",
       "    </tr>\n",
       "    <tr>\n",
       "      <th>7</th>\n",
       "      <td>110263</td>\n",
       "      <td>José Valente</td>\n",
       "      <td>20</td>\n",
       "      <td>10.0</td>\n",
       "      <td>10.0</td>\n",
       "      <td>10.0</td>\n",
       "      <td>10</td>\n",
       "    </tr>\n",
       "    <tr>\n",
       "      <th>8</th>\n",
       "      <td>110271</td>\n",
       "      <td>Maria Ferreira</td>\n",
       "      <td>19</td>\n",
       "      <td>9.5</td>\n",
       "      <td>8.0</td>\n",
       "      <td>7.0</td>\n",
       "      <td>10</td>\n",
       "    </tr>\n",
       "    <tr>\n",
       "      <th>9</th>\n",
       "      <td>110236</td>\n",
       "      <td>Adriana Tavares</td>\n",
       "      <td>20</td>\n",
       "      <td>8.0</td>\n",
       "      <td>8.0</td>\n",
       "      <td>8.0</td>\n",
       "      <td>8</td>\n",
       "    </tr>\n",
       "  </tbody>\n",
       "</table>\n",
       "</div>"
      ],
      "text/plain": [
       "       RA             Nome  Frequencia  Prova_1  Prova_2  Prova_3  Prova_4\n",
       "0  110201   Antonio Carlos          20      6.5      8.5      7.0        6\n",
       "1  110212      Ana Beatriz          20      7.0      7.0      7.0        8\n",
       "2  110218    Carlos Vernes          17      7.0      7.0      7.0        7\n",
       "3  110307  Francisco Cunha          20      9.0      8.5      8.5       10\n",
       "4  110275      Sandra Rosa          15      6.5      7.5      7.0        7\n",
       "5  110281   Juliana Arruda          18      7.5      7.0      7.5        8\n",
       "6  110301        Joao Galo          20      5.0      6.5      7.0        5\n",
       "7  110263     José Valente          20     10.0     10.0     10.0       10\n",
       "8  110271   Maria Ferreira          19      9.5      8.0      7.0       10\n",
       "9  110236  Adriana Tavares          20      8.0      8.0      8.0        8"
      ]
     },
     "execution_count": 99,
     "metadata": {},
     "output_type": "execute_result"
    }
   ],
   "source": [
    "df"
   ]
  },
  {
   "cell_type": "code",
   "execution_count": 95,
   "id": "9f49732e-16e2-470a-a064-2c3363153dd7",
   "metadata": {},
   "outputs": [],
   "source": [
    "coluna_provas = [col for col in df.columns if 'Prova' in col]"
   ]
  },
  {
   "cell_type": "code",
   "execution_count": 98,
   "id": "c48b7f70-a852-4e8b-ab2c-3a4b8758241c",
   "metadata": {},
   "outputs": [
    {
     "data": {
      "text/plain": [
       "['Prova_1', 'Prova_2', 'Prova_3', 'Prova_4']"
      ]
     },
     "execution_count": 98,
     "metadata": {},
     "output_type": "execute_result"
    }
   ],
   "source": [
    "coluna_provas"
   ]
  },
  {
   "cell_type": "code",
   "execution_count": 100,
   "id": "1f4a1e95-21ba-42c7-aa0e-7b868883bec5",
   "metadata": {},
   "outputs": [
    {
     "data": {
      "text/html": [
       "<div>\n",
       "<style scoped>\n",
       "    .dataframe tbody tr th:only-of-type {\n",
       "        vertical-align: middle;\n",
       "    }\n",
       "\n",
       "    .dataframe tbody tr th {\n",
       "        vertical-align: top;\n",
       "    }\n",
       "\n",
       "    .dataframe thead th {\n",
       "        text-align: right;\n",
       "    }\n",
       "</style>\n",
       "<table border=\"1\" class=\"dataframe\">\n",
       "  <thead>\n",
       "    <tr style=\"text-align: right;\">\n",
       "      <th></th>\n",
       "      <th>Prova_1</th>\n",
       "      <th>Prova_2</th>\n",
       "      <th>Prova_3</th>\n",
       "      <th>Prova_4</th>\n",
       "    </tr>\n",
       "  </thead>\n",
       "  <tbody>\n",
       "    <tr>\n",
       "      <th>0</th>\n",
       "      <td>6.5</td>\n",
       "      <td>8.5</td>\n",
       "      <td>7.0</td>\n",
       "      <td>6</td>\n",
       "    </tr>\n",
       "    <tr>\n",
       "      <th>1</th>\n",
       "      <td>7.0</td>\n",
       "      <td>7.0</td>\n",
       "      <td>7.0</td>\n",
       "      <td>8</td>\n",
       "    </tr>\n",
       "    <tr>\n",
       "      <th>2</th>\n",
       "      <td>7.0</td>\n",
       "      <td>7.0</td>\n",
       "      <td>7.0</td>\n",
       "      <td>7</td>\n",
       "    </tr>\n",
       "    <tr>\n",
       "      <th>3</th>\n",
       "      <td>9.0</td>\n",
       "      <td>8.5</td>\n",
       "      <td>8.5</td>\n",
       "      <td>10</td>\n",
       "    </tr>\n",
       "    <tr>\n",
       "      <th>4</th>\n",
       "      <td>6.5</td>\n",
       "      <td>7.5</td>\n",
       "      <td>7.0</td>\n",
       "      <td>7</td>\n",
       "    </tr>\n",
       "    <tr>\n",
       "      <th>5</th>\n",
       "      <td>7.5</td>\n",
       "      <td>7.0</td>\n",
       "      <td>7.5</td>\n",
       "      <td>8</td>\n",
       "    </tr>\n",
       "    <tr>\n",
       "      <th>6</th>\n",
       "      <td>5.0</td>\n",
       "      <td>6.5</td>\n",
       "      <td>7.0</td>\n",
       "      <td>5</td>\n",
       "    </tr>\n",
       "    <tr>\n",
       "      <th>7</th>\n",
       "      <td>10.0</td>\n",
       "      <td>10.0</td>\n",
       "      <td>10.0</td>\n",
       "      <td>10</td>\n",
       "    </tr>\n",
       "    <tr>\n",
       "      <th>8</th>\n",
       "      <td>9.5</td>\n",
       "      <td>8.0</td>\n",
       "      <td>7.0</td>\n",
       "      <td>10</td>\n",
       "    </tr>\n",
       "    <tr>\n",
       "      <th>9</th>\n",
       "      <td>8.0</td>\n",
       "      <td>8.0</td>\n",
       "      <td>8.0</td>\n",
       "      <td>8</td>\n",
       "    </tr>\n",
       "  </tbody>\n",
       "</table>\n",
       "</div>"
      ],
      "text/plain": [
       "   Prova_1  Prova_2  Prova_3  Prova_4\n",
       "0      6.5      8.5      7.0        6\n",
       "1      7.0      7.0      7.0        8\n",
       "2      7.0      7.0      7.0        7\n",
       "3      9.0      8.5      8.5       10\n",
       "4      6.5      7.5      7.0        7\n",
       "5      7.5      7.0      7.5        8\n",
       "6      5.0      6.5      7.0        5\n",
       "7     10.0     10.0     10.0       10\n",
       "8      9.5      8.0      7.0       10\n",
       "9      8.0      8.0      8.0        8"
      ]
     },
     "execution_count": 100,
     "metadata": {},
     "output_type": "execute_result"
    }
   ],
   "source": [
    "df[coluna_provas]"
   ]
  },
  {
   "cell_type": "code",
   "execution_count": 106,
   "id": "21089e0a-8421-412d-9092-8db2b0878fed",
   "metadata": {},
   "outputs": [
    {
     "data": {
      "text/html": [
       "<div>\n",
       "<style scoped>\n",
       "    .dataframe tbody tr th:only-of-type {\n",
       "        vertical-align: middle;\n",
       "    }\n",
       "\n",
       "    .dataframe tbody tr th {\n",
       "        vertical-align: top;\n",
       "    }\n",
       "\n",
       "    .dataframe thead th {\n",
       "        text-align: right;\n",
       "    }\n",
       "</style>\n",
       "<table border=\"1\" class=\"dataframe\">\n",
       "  <thead>\n",
       "    <tr style=\"text-align: right;\">\n",
       "      <th></th>\n",
       "      <th>Prova_1</th>\n",
       "      <th>Prova_2</th>\n",
       "      <th>Prova_3</th>\n",
       "      <th>Prova_4</th>\n",
       "    </tr>\n",
       "  </thead>\n",
       "  <tbody>\n",
       "    <tr>\n",
       "      <th>0</th>\n",
       "      <td>6.5</td>\n",
       "      <td>8.5</td>\n",
       "      <td>7.0</td>\n",
       "      <td>6</td>\n",
       "    </tr>\n",
       "    <tr>\n",
       "      <th>1</th>\n",
       "      <td>7.0</td>\n",
       "      <td>7.0</td>\n",
       "      <td>7.0</td>\n",
       "      <td>8</td>\n",
       "    </tr>\n",
       "    <tr>\n",
       "      <th>2</th>\n",
       "      <td>7.0</td>\n",
       "      <td>7.0</td>\n",
       "      <td>7.0</td>\n",
       "      <td>7</td>\n",
       "    </tr>\n",
       "    <tr>\n",
       "      <th>3</th>\n",
       "      <td>9.0</td>\n",
       "      <td>8.5</td>\n",
       "      <td>8.5</td>\n",
       "      <td>10</td>\n",
       "    </tr>\n",
       "    <tr>\n",
       "      <th>4</th>\n",
       "      <td>6.5</td>\n",
       "      <td>7.5</td>\n",
       "      <td>7.0</td>\n",
       "      <td>7</td>\n",
       "    </tr>\n",
       "    <tr>\n",
       "      <th>5</th>\n",
       "      <td>7.5</td>\n",
       "      <td>7.0</td>\n",
       "      <td>7.5</td>\n",
       "      <td>8</td>\n",
       "    </tr>\n",
       "    <tr>\n",
       "      <th>6</th>\n",
       "      <td>5.0</td>\n",
       "      <td>6.5</td>\n",
       "      <td>7.0</td>\n",
       "      <td>5</td>\n",
       "    </tr>\n",
       "    <tr>\n",
       "      <th>7</th>\n",
       "      <td>10.0</td>\n",
       "      <td>10.0</td>\n",
       "      <td>10.0</td>\n",
       "      <td>10</td>\n",
       "    </tr>\n",
       "    <tr>\n",
       "      <th>8</th>\n",
       "      <td>9.5</td>\n",
       "      <td>8.0</td>\n",
       "      <td>7.0</td>\n",
       "      <td>10</td>\n",
       "    </tr>\n",
       "    <tr>\n",
       "      <th>9</th>\n",
       "      <td>8.0</td>\n",
       "      <td>8.0</td>\n",
       "      <td>8.0</td>\n",
       "      <td>8</td>\n",
       "    </tr>\n",
       "  </tbody>\n",
       "</table>\n",
       "</div>"
      ],
      "text/plain": [
       "   Prova_1  Prova_2  Prova_3  Prova_4\n",
       "0      6.5      8.5      7.0        6\n",
       "1      7.0      7.0      7.0        8\n",
       "2      7.0      7.0      7.0        7\n",
       "3      9.0      8.5      8.5       10\n",
       "4      6.5      7.5      7.0        7\n",
       "5      7.5      7.0      7.5        8\n",
       "6      5.0      6.5      7.0        5\n",
       "7     10.0     10.0     10.0       10\n",
       "8      9.5      8.0      7.0       10\n",
       "9      8.0      8.0      8.0        8"
      ]
     },
     "execution_count": 106,
     "metadata": {},
     "output_type": "execute_result"
    }
   ],
   "source": [
    "df.iloc[:, 3:]"
   ]
  },
  {
   "cell_type": "code",
   "execution_count": null,
   "id": "9e30a5f3-b2f9-49ba-b22a-8c9bbdab7109",
   "metadata": {},
   "outputs": [],
   "source": []
  },
  {
   "cell_type": "code",
   "execution_count": 108,
   "id": "cff51f7b-7c68-4504-ae14-a46020b35b68",
   "metadata": {},
   "outputs": [
    {
     "data": {
      "text/plain": [
       "Prova_1    7.6\n",
       "Prova_2    7.8\n",
       "Prova_3    7.6\n",
       "Prova_4    7.9\n",
       "dtype: float64"
      ]
     },
     "execution_count": 108,
     "metadata": {},
     "output_type": "execute_result"
    }
   ],
   "source": [
    "df[coluna_provas].mean()"
   ]
  },
  {
   "cell_type": "code",
   "execution_count": 111,
   "id": "9419698f-1015-4e33-872c-e1e24283d101",
   "metadata": {},
   "outputs": [
    {
     "data": {
      "text/plain": [
       "0     7.000\n",
       "1     7.250\n",
       "2     7.000\n",
       "3     9.000\n",
       "4     7.000\n",
       "5     7.500\n",
       "6     5.875\n",
       "7    10.000\n",
       "8     8.625\n",
       "9     8.000\n",
       "dtype: float64"
      ]
     },
     "execution_count": 111,
     "metadata": {},
     "output_type": "execute_result"
    }
   ],
   "source": [
    "df[coluna_provas].mean(axis=1)"
   ]
  },
  {
   "cell_type": "code",
   "execution_count": 112,
   "id": "4543d6a4-6564-4550-9a65-d30e2ef18d6c",
   "metadata": {},
   "outputs": [
    {
     "data": {
      "text/html": [
       "<div>\n",
       "<style scoped>\n",
       "    .dataframe tbody tr th:only-of-type {\n",
       "        vertical-align: middle;\n",
       "    }\n",
       "\n",
       "    .dataframe tbody tr th {\n",
       "        vertical-align: top;\n",
       "    }\n",
       "\n",
       "    .dataframe thead th {\n",
       "        text-align: right;\n",
       "    }\n",
       "</style>\n",
       "<table border=\"1\" class=\"dataframe\">\n",
       "  <thead>\n",
       "    <tr style=\"text-align: right;\">\n",
       "      <th></th>\n",
       "      <th>RA</th>\n",
       "      <th>Nome</th>\n",
       "      <th>Frequencia</th>\n",
       "      <th>Prova_1</th>\n",
       "      <th>Prova_2</th>\n",
       "      <th>Prova_3</th>\n",
       "      <th>Prova_4</th>\n",
       "    </tr>\n",
       "  </thead>\n",
       "  <tbody>\n",
       "    <tr>\n",
       "      <th>0</th>\n",
       "      <td>110201</td>\n",
       "      <td>Antonio Carlos</td>\n",
       "      <td>20</td>\n",
       "      <td>6.5</td>\n",
       "      <td>8.5</td>\n",
       "      <td>7.0</td>\n",
       "      <td>6</td>\n",
       "    </tr>\n",
       "    <tr>\n",
       "      <th>1</th>\n",
       "      <td>110212</td>\n",
       "      <td>Ana Beatriz</td>\n",
       "      <td>20</td>\n",
       "      <td>7.0</td>\n",
       "      <td>7.0</td>\n",
       "      <td>7.0</td>\n",
       "      <td>8</td>\n",
       "    </tr>\n",
       "    <tr>\n",
       "      <th>2</th>\n",
       "      <td>110218</td>\n",
       "      <td>Carlos Vernes</td>\n",
       "      <td>17</td>\n",
       "      <td>7.0</td>\n",
       "      <td>7.0</td>\n",
       "      <td>7.0</td>\n",
       "      <td>7</td>\n",
       "    </tr>\n",
       "    <tr>\n",
       "      <th>3</th>\n",
       "      <td>110307</td>\n",
       "      <td>Francisco Cunha</td>\n",
       "      <td>20</td>\n",
       "      <td>9.0</td>\n",
       "      <td>8.5</td>\n",
       "      <td>8.5</td>\n",
       "      <td>10</td>\n",
       "    </tr>\n",
       "    <tr>\n",
       "      <th>4</th>\n",
       "      <td>110275</td>\n",
       "      <td>Sandra Rosa</td>\n",
       "      <td>15</td>\n",
       "      <td>6.5</td>\n",
       "      <td>7.5</td>\n",
       "      <td>7.0</td>\n",
       "      <td>7</td>\n",
       "    </tr>\n",
       "    <tr>\n",
       "      <th>5</th>\n",
       "      <td>110281</td>\n",
       "      <td>Juliana Arruda</td>\n",
       "      <td>18</td>\n",
       "      <td>7.5</td>\n",
       "      <td>7.0</td>\n",
       "      <td>7.5</td>\n",
       "      <td>8</td>\n",
       "    </tr>\n",
       "    <tr>\n",
       "      <th>6</th>\n",
       "      <td>110301</td>\n",
       "      <td>Joao Galo</td>\n",
       "      <td>20</td>\n",
       "      <td>5.0</td>\n",
       "      <td>6.5</td>\n",
       "      <td>7.0</td>\n",
       "      <td>5</td>\n",
       "    </tr>\n",
       "    <tr>\n",
       "      <th>7</th>\n",
       "      <td>110263</td>\n",
       "      <td>José Valente</td>\n",
       "      <td>20</td>\n",
       "      <td>10.0</td>\n",
       "      <td>10.0</td>\n",
       "      <td>10.0</td>\n",
       "      <td>10</td>\n",
       "    </tr>\n",
       "    <tr>\n",
       "      <th>8</th>\n",
       "      <td>110271</td>\n",
       "      <td>Maria Ferreira</td>\n",
       "      <td>19</td>\n",
       "      <td>9.5</td>\n",
       "      <td>8.0</td>\n",
       "      <td>7.0</td>\n",
       "      <td>10</td>\n",
       "    </tr>\n",
       "    <tr>\n",
       "      <th>9</th>\n",
       "      <td>110236</td>\n",
       "      <td>Adriana Tavares</td>\n",
       "      <td>20</td>\n",
       "      <td>8.0</td>\n",
       "      <td>8.0</td>\n",
       "      <td>8.0</td>\n",
       "      <td>8</td>\n",
       "    </tr>\n",
       "  </tbody>\n",
       "</table>\n",
       "</div>"
      ],
      "text/plain": [
       "       RA             Nome  Frequencia  Prova_1  Prova_2  Prova_3  Prova_4\n",
       "0  110201   Antonio Carlos          20      6.5      8.5      7.0        6\n",
       "1  110212      Ana Beatriz          20      7.0      7.0      7.0        8\n",
       "2  110218    Carlos Vernes          17      7.0      7.0      7.0        7\n",
       "3  110307  Francisco Cunha          20      9.0      8.5      8.5       10\n",
       "4  110275      Sandra Rosa          15      6.5      7.5      7.0        7\n",
       "5  110281   Juliana Arruda          18      7.5      7.0      7.5        8\n",
       "6  110301        Joao Galo          20      5.0      6.5      7.0        5\n",
       "7  110263     José Valente          20     10.0     10.0     10.0       10\n",
       "8  110271   Maria Ferreira          19      9.5      8.0      7.0       10\n",
       "9  110236  Adriana Tavares          20      8.0      8.0      8.0        8"
      ]
     },
     "execution_count": 112,
     "metadata": {},
     "output_type": "execute_result"
    }
   ],
   "source": [
    "df"
   ]
  },
  {
   "cell_type": "code",
   "execution_count": 124,
   "id": "e6482c30-a99e-40c7-901a-fe4938941745",
   "metadata": {},
   "outputs": [],
   "source": [
    "df['Media'] = df[coluna_provas].mean(axis=1)"
   ]
  },
  {
   "cell_type": "code",
   "execution_count": 129,
   "id": "c092b776-6c36-47b5-b44b-64f540c5c9f7",
   "metadata": {
    "tags": []
   },
   "outputs": [
    {
     "name": "stdout",
     "output_type": "stream",
     "text": [
      "Antonio Carlos\t7.0\n",
      "Ana Beatriz\t7.25\n",
      "Carlos Vernes\t7.0\n",
      "Francisco Cunha\t9.0\n",
      "Sandra Rosa\t7.0\n",
      "Juliana Arruda\t7.5\n",
      "Joao Galo\t5.875\n",
      "José Valente\t10.0\n",
      "Maria Ferreira\t8.625\n",
      "Adriana Tavares\t8.0\n"
     ]
    }
   ],
   "source": [
    "for i, linha in df[['Nome', 'Media']].iterrows():\n",
    "    nome = linha.Nome\n",
    "    media = linha.Media\n",
    "    print('\\t'.join([str(x) for x in [nome, media]]))"
   ]
  },
  {
   "cell_type": "code",
   "execution_count": 131,
   "id": "33b72aa2-ca9f-4841-8b8e-8a19c069422b",
   "metadata": {},
   "outputs": [
    {
     "data": {
      "text/plain": [
       "0    True\n",
       "1    True\n",
       "2    True\n",
       "3    True\n",
       "4    True\n",
       "5    True\n",
       "6    True\n",
       "7    True\n",
       "8    True\n",
       "9    True\n",
       "Name: Nome, dtype: bool"
      ]
     },
     "execution_count": 131,
     "metadata": {},
     "output_type": "execute_result"
    }
   ],
   "source": [
    "df.Nome == df['Nome']"
   ]
  },
  {
   "cell_type": "markdown",
   "id": "46e7fcb7-46c4-4d1c-9ef1-f6aff37f805d",
   "metadata": {},
   "source": [
    "6. Faça um programa que crie um arquivo media.csv e guarde o RA\n",
    "(registro do aluno) junto com a respectiva média de cada um dos\n",
    "alunos no arquivo alunos.csv."
   ]
  },
  {
   "cell_type": "code",
   "execution_count": 139,
   "id": "e0c7ee51-9aab-444f-9543-7a614edd8cdd",
   "metadata": {},
   "outputs": [],
   "source": [
    "df2 = df[['Nome', 'Média']].sort_values(['Média', 'Nome'])"
   ]
  },
  {
   "cell_type": "code",
   "execution_count": 144,
   "id": "d1f61db4-040f-4bb5-9c25-dd1b911eb74b",
   "metadata": {},
   "outputs": [
    {
     "data": {
      "text/html": [
       "<div>\n",
       "<style scoped>\n",
       "    .dataframe tbody tr th:only-of-type {\n",
       "        vertical-align: middle;\n",
       "    }\n",
       "\n",
       "    .dataframe tbody tr th {\n",
       "        vertical-align: top;\n",
       "    }\n",
       "\n",
       "    .dataframe thead th {\n",
       "        text-align: right;\n",
       "    }\n",
       "</style>\n",
       "<table border=\"1\" class=\"dataframe\">\n",
       "  <thead>\n",
       "    <tr style=\"text-align: right;\">\n",
       "      <th></th>\n",
       "      <th>Nome</th>\n",
       "      <th>Média</th>\n",
       "    </tr>\n",
       "  </thead>\n",
       "  <tbody>\n",
       "    <tr>\n",
       "      <th>6</th>\n",
       "      <td>Joao Galo</td>\n",
       "      <td>5.875</td>\n",
       "    </tr>\n",
       "    <tr>\n",
       "      <th>0</th>\n",
       "      <td>Antonio Carlos</td>\n",
       "      <td>7.000</td>\n",
       "    </tr>\n",
       "    <tr>\n",
       "      <th>2</th>\n",
       "      <td>Carlos Vernes</td>\n",
       "      <td>7.000</td>\n",
       "    </tr>\n",
       "    <tr>\n",
       "      <th>4</th>\n",
       "      <td>Sandra Rosa</td>\n",
       "      <td>7.000</td>\n",
       "    </tr>\n",
       "    <tr>\n",
       "      <th>1</th>\n",
       "      <td>Ana Beatriz</td>\n",
       "      <td>7.250</td>\n",
       "    </tr>\n",
       "    <tr>\n",
       "      <th>5</th>\n",
       "      <td>Juliana Arruda</td>\n",
       "      <td>7.500</td>\n",
       "    </tr>\n",
       "    <tr>\n",
       "      <th>9</th>\n",
       "      <td>Adriana Tavares</td>\n",
       "      <td>8.000</td>\n",
       "    </tr>\n",
       "    <tr>\n",
       "      <th>8</th>\n",
       "      <td>Maria Ferreira</td>\n",
       "      <td>8.625</td>\n",
       "    </tr>\n",
       "    <tr>\n",
       "      <th>3</th>\n",
       "      <td>Francisco Cunha</td>\n",
       "      <td>9.000</td>\n",
       "    </tr>\n",
       "    <tr>\n",
       "      <th>7</th>\n",
       "      <td>José Valente</td>\n",
       "      <td>10.000</td>\n",
       "    </tr>\n",
       "  </tbody>\n",
       "</table>\n",
       "</div>"
      ],
      "text/plain": [
       "              Nome   Média\n",
       "6        Joao Galo   5.875\n",
       "0   Antonio Carlos   7.000\n",
       "2    Carlos Vernes   7.000\n",
       "4      Sandra Rosa   7.000\n",
       "1      Ana Beatriz   7.250\n",
       "5   Juliana Arruda   7.500\n",
       "9  Adriana Tavares   8.000\n",
       "8   Maria Ferreira   8.625\n",
       "3  Francisco Cunha   9.000\n",
       "7     José Valente  10.000"
      ]
     },
     "execution_count": 144,
     "metadata": {},
     "output_type": "execute_result"
    }
   ],
   "source": [
    "df2"
   ]
  },
  {
   "cell_type": "code",
   "execution_count": 141,
   "id": "f1d72fa9-3b7a-4d4f-a458-0fdf17022cfb",
   "metadata": {},
   "outputs": [
    {
     "data": {
      "text/plain": [
       "Nome     Antonio Carlos\n",
       "Média               7.0\n",
       "Name: 0, dtype: object"
      ]
     },
     "execution_count": 141,
     "metadata": {},
     "output_type": "execute_result"
    }
   ],
   "source": [
    "df2.loc[0]"
   ]
  },
  {
   "cell_type": "code",
   "execution_count": 143,
   "id": "042bdb12-c76a-44a1-a349-bc574c1899c2",
   "metadata": {},
   "outputs": [
    {
     "data": {
      "text/plain": [
       "Nome     Joao Galo\n",
       "Média        5.875\n",
       "Name: 6, dtype: object"
      ]
     },
     "execution_count": 143,
     "metadata": {},
     "output_type": "execute_result"
    }
   ],
   "source": [
    "df2.iloc[0]"
   ]
  },
  {
   "cell_type": "code",
   "execution_count": null,
   "id": "04aceb1d-e54f-4f27-96cd-25ac6c38ae16",
   "metadata": {},
   "outputs": [],
   "source": []
  },
  {
   "cell_type": "code",
   "execution_count": 138,
   "id": "6e65f800-4861-4fe0-9da7-41803129275f",
   "metadata": {},
   "outputs": [
    {
     "data": {
      "text/html": [
       "<div>\n",
       "<style scoped>\n",
       "    .dataframe tbody tr th:only-of-type {\n",
       "        vertical-align: middle;\n",
       "    }\n",
       "\n",
       "    .dataframe tbody tr th {\n",
       "        vertical-align: top;\n",
       "    }\n",
       "\n",
       "    .dataframe thead th {\n",
       "        text-align: right;\n",
       "    }\n",
       "</style>\n",
       "<table border=\"1\" class=\"dataframe\">\n",
       "  <thead>\n",
       "    <tr style=\"text-align: right;\">\n",
       "      <th></th>\n",
       "      <th>Nome</th>\n",
       "      <th>Média</th>\n",
       "    </tr>\n",
       "  </thead>\n",
       "  <tbody>\n",
       "    <tr>\n",
       "      <th>6</th>\n",
       "      <td>Joao Galo</td>\n",
       "      <td>5.875</td>\n",
       "    </tr>\n",
       "    <tr>\n",
       "      <th>0</th>\n",
       "      <td>Antonio Carlos</td>\n",
       "      <td>7.000</td>\n",
       "    </tr>\n",
       "    <tr>\n",
       "      <th>2</th>\n",
       "      <td>Carlos Vernes</td>\n",
       "      <td>7.000</td>\n",
       "    </tr>\n",
       "    <tr>\n",
       "      <th>4</th>\n",
       "      <td>Sandra Rosa</td>\n",
       "      <td>7.000</td>\n",
       "    </tr>\n",
       "    <tr>\n",
       "      <th>1</th>\n",
       "      <td>Ana Beatriz</td>\n",
       "      <td>7.250</td>\n",
       "    </tr>\n",
       "    <tr>\n",
       "      <th>5</th>\n",
       "      <td>Juliana Arruda</td>\n",
       "      <td>7.500</td>\n",
       "    </tr>\n",
       "    <tr>\n",
       "      <th>9</th>\n",
       "      <td>Adriana Tavares</td>\n",
       "      <td>8.000</td>\n",
       "    </tr>\n",
       "    <tr>\n",
       "      <th>8</th>\n",
       "      <td>Maria Ferreira</td>\n",
       "      <td>8.625</td>\n",
       "    </tr>\n",
       "    <tr>\n",
       "      <th>3</th>\n",
       "      <td>Francisco Cunha</td>\n",
       "      <td>9.000</td>\n",
       "    </tr>\n",
       "    <tr>\n",
       "      <th>7</th>\n",
       "      <td>José Valente</td>\n",
       "      <td>10.000</td>\n",
       "    </tr>\n",
       "  </tbody>\n",
       "</table>\n",
       "</div>"
      ],
      "text/plain": [
       "              Nome   Média\n",
       "6        Joao Galo   5.875\n",
       "0   Antonio Carlos   7.000\n",
       "2    Carlos Vernes   7.000\n",
       "4      Sandra Rosa   7.000\n",
       "1      Ana Beatriz   7.250\n",
       "5   Juliana Arruda   7.500\n",
       "9  Adriana Tavares   8.000\n",
       "8   Maria Ferreira   8.625\n",
       "3  Francisco Cunha   9.000\n",
       "7     José Valente  10.000"
      ]
     },
     "execution_count": 138,
     "metadata": {},
     "output_type": "execute_result"
    }
   ],
   "source": [
    "df[['Nome', 'Média']].sort_values(['Média'])"
   ]
  },
  {
   "cell_type": "code",
   "execution_count": 135,
   "id": "a9ce083e-0654-4c36-84f1-cad142998394",
   "metadata": {},
   "outputs": [],
   "source": [
    "df[['RA', 'Média']].to_csv('./datasets/media.csv', index=None)"
   ]
  }
 ],
 "metadata": {
  "kernelspec": {
   "display_name": "Python 3",
   "language": "python",
   "name": "python3"
  },
  "language_info": {
   "codemirror_mode": {
    "name": "ipython",
    "version": 3
   },
   "file_extension": ".py",
   "mimetype": "text/x-python",
   "name": "python",
   "nbconvert_exporter": "python",
   "pygments_lexer": "ipython3",
   "version": "3.8.11"
  }
 },
 "nbformat": 4,
 "nbformat_minor": 5
}
