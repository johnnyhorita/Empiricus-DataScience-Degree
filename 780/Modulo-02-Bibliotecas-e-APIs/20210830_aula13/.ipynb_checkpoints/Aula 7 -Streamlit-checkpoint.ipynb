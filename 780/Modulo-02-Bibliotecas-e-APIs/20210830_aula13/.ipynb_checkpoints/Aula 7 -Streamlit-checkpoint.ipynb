{
 "cells": [
  {
   "cell_type": "markdown",
   "id": "7bfd5865-1721-42fe-8382-bb5fde7cb1f9",
   "metadata": {},
   "source": [
    "## Streamlit - Criando dashboards"
   ]
  },
  {
   "cell_type": "code",
   "execution_count": 1,
   "id": "36d18639-5a09-4986-add4-c8094a60c19a",
   "metadata": {
    "ExecuteTime": {
     "end_time": "2021-08-30T22:06:58.467350Z",
     "start_time": "2021-08-30T22:06:58.231828Z"
    }
   },
   "outputs": [
    {
     "ename": "ModuleNotFoundError",
     "evalue": "No module named 'yfinance'",
     "output_type": "error",
     "traceback": [
      "\u001b[1;31m---------------------------------------------------------------------------\u001b[0m",
      "\u001b[1;31mModuleNotFoundError\u001b[0m                       Traceback (most recent call last)",
      "\u001b[1;32mC:\\Users\\JOHNNY~1.HOR\\AppData\\Local\\Temp/ipykernel_15284/4114707952.py\u001b[0m in \u001b[0;36m<module>\u001b[1;34m\u001b[0m\n\u001b[1;32m----> 1\u001b[1;33m \u001b[1;32mimport\u001b[0m \u001b[0myfinance\u001b[0m \u001b[1;32mas\u001b[0m \u001b[0myf\u001b[0m\u001b[1;33m\u001b[0m\u001b[1;33m\u001b[0m\u001b[0m\n\u001b[0m\u001b[0;32m      2\u001b[0m \u001b[1;32mimport\u001b[0m \u001b[0mdatetime\u001b[0m \u001b[1;32mas\u001b[0m \u001b[0mdt\u001b[0m\u001b[1;33m\u001b[0m\u001b[1;33m\u001b[0m\u001b[0m\n\u001b[0;32m      3\u001b[0m \u001b[1;32mfrom\u001b[0m \u001b[0mplotly\u001b[0m \u001b[1;32mimport\u001b[0m \u001b[0mgraph_objs\u001b[0m \u001b[1;32mas\u001b[0m \u001b[0mgo\u001b[0m\u001b[1;33m\u001b[0m\u001b[1;33m\u001b[0m\u001b[0m\n\u001b[0;32m      4\u001b[0m \u001b[1;32mfrom\u001b[0m \u001b[0mplotly\u001b[0m\u001b[1;33m.\u001b[0m\u001b[0msubplots\u001b[0m \u001b[1;32mimport\u001b[0m \u001b[0mmake_subplots\u001b[0m\u001b[1;33m\u001b[0m\u001b[1;33m\u001b[0m\u001b[0m\n",
      "\u001b[1;31mModuleNotFoundError\u001b[0m: No module named 'yfinance'"
     ]
    }
   ],
   "source": [
    "import yfinance as yf\n",
    "import datetime as dt\n",
    "from plotly import graph_objs as go\n",
    "from plotly.subplots import make_subplots"
   ]
  },
  {
   "cell_type": "code",
   "execution_count": null,
   "id": "2daff0f3-100b-4153-b84e-c5e14c248121",
   "metadata": {
    "ExecuteTime": {
     "end_time": "2021-08-30T22:06:58.468350Z",
     "start_time": "2021-08-30T22:06:58.468350Z"
    }
   },
   "outputs": [],
   "source": [
    "start = '2015-01-01'\n",
    "today = dt.date.today().strftime('%Y-%m-%d')"
   ]
  },
  {
   "cell_type": "code",
   "execution_count": null,
   "id": "f5cb6f30-2991-4478-a3f8-139e8935472b",
   "metadata": {
    "ExecuteTime": {
     "end_time": "2021-08-30T22:06:58.469364Z",
     "start_time": "2021-08-30T22:06:58.469364Z"
    }
   },
   "outputs": [],
   "source": [
    "start, today"
   ]
  },
  {
   "cell_type": "code",
   "execution_count": null,
   "id": "0382944a-f294-4a6c-ad32-79299c105266",
   "metadata": {
    "ExecuteTime": {
     "end_time": "2021-08-30T22:06:58.470350Z",
     "start_time": "2021-08-30T22:06:58.470350Z"
    }
   },
   "outputs": [],
   "source": [
    "ticker = 'GOOG'\n",
    "data = yf.download(ticker, start, today)"
   ]
  },
  {
   "cell_type": "code",
   "execution_count": null,
   "id": "1bebc68e-4c68-4b48-a3c4-353927c2a99e",
   "metadata": {
    "ExecuteTime": {
     "end_time": "2021-08-30T22:06:58.471349Z",
     "start_time": "2021-08-30T22:06:58.471349Z"
    }
   },
   "outputs": [],
   "source": [
    "data.head()"
   ]
  },
  {
   "cell_type": "code",
   "execution_count": null,
   "id": "b982143b-1e13-4210-8ad9-3596ac2bf912",
   "metadata": {
    "ExecuteTime": {
     "end_time": "2021-08-30T22:06:58.472349Z",
     "start_time": "2021-08-30T22:06:58.472349Z"
    }
   },
   "outputs": [],
   "source": [
    "data.Open.plot()\n",
    "data.Close.plot()"
   ]
  },
  {
   "cell_type": "code",
   "execution_count": null,
   "id": "5b22114c-559a-48dd-a21f-f97eb028c656",
   "metadata": {
    "ExecuteTime": {
     "end_time": "2021-08-30T22:06:58.473350Z",
     "start_time": "2021-08-30T22:06:58.473350Z"
    }
   },
   "outputs": [],
   "source": [
    "def extract_data(ticker, start, end):\n",
    "    data = yf.download(ticker, start, end)\n",
    "    data = data.reset_index()\n",
    "    return data"
   ]
  },
  {
   "cell_type": "code",
   "execution_count": null,
   "id": "efa3bebb-125e-4da6-ac23-9fe4fb6c4307",
   "metadata": {
    "ExecuteTime": {
     "end_time": "2021-08-30T22:06:58.474350Z",
     "start_time": "2021-08-30T22:06:58.474350Z"
    }
   },
   "outputs": [],
   "source": [
    "data = extract_data('AAPL', start=start, end=today)\n",
    "data2 = extract_data('GOOG', start=start, end=today)"
   ]
  },
  {
   "cell_type": "code",
   "execution_count": null,
   "id": "b49ca899-7188-443a-8083-18035a5f55d5",
   "metadata": {
    "ExecuteTime": {
     "end_time": "2021-08-30T22:06:58.475351Z",
     "start_time": "2021-08-30T22:06:58.475351Z"
    }
   },
   "outputs": [],
   "source": [
    "data.head()"
   ]
  },
  {
   "cell_type": "code",
   "execution_count": null,
   "id": "95c54962-f4ed-4e69-8796-f948eb55a973",
   "metadata": {},
   "outputs": [],
   "source": []
  },
  {
   "cell_type": "code",
   "execution_count": null,
   "id": "67706417-b065-41ee-b8db-514d85b2b3c9",
   "metadata": {
    "ExecuteTime": {
     "end_time": "2021-08-30T22:06:58.476350Z",
     "start_time": "2021-08-30T22:06:58.476350Z"
    }
   },
   "outputs": [],
   "source": [
    "fig = go.Figure()\n",
    "fig.add_trace(go.Scatter(\n",
    "    x=data['Date'], y=data['Open'], name='stock_open'))\n",
    "\n",
    "fig.add_trace(go.Scatter(\n",
    "    x=data['Date'], y=data['Close'], name='stock_close'))\n",
    "\n",
    "fig.layout.update(title_text='Abertatura e Fechamento',\n",
    "                 xaxis_rangeslider_visible=True)\n",
    "\n",
    "fig.layout.update(\n",
    "    xaxis=dict(\n",
    "            showline=True,\n",
    "#             showgrid=False,\n",
    "            showticklabels=True,\n",
    "            linecolor='rgb(0, 0, 0)',\n",
    "            linewidth=2,\n",
    "            ticks='outside',\n",
    "            tickfont=dict(\n",
    "                family='Roboto',\n",
    "                size=12,\n",
    "                color='rgb(82,82,82)'),\n",
    "        ),\n",
    "    yaxis=dict(\n",
    "            showline=True,\n",
    "            showgrid=False,\n",
    "            zeroline=True,\n",
    "            showticklabels=True,\n",
    "            ticks='outside',\n",
    "            linecolor='rgb(0, 0, 0)',\n",
    "            linewidth=2\n",
    "        ),\n",
    "    plot_bgcolor='rgb(255,255,255)',  # plot_bgcolor='white'   \n",
    ")\n",
    "fig"
   ]
  },
  {
   "cell_type": "code",
   "execution_count": null,
   "id": "bb558f40-88fb-4497-ab1f-0f87775c4ca7",
   "metadata": {
    "ExecuteTime": {
     "end_time": "2021-08-30T22:06:58.478365Z",
     "start_time": "2021-08-30T22:06:58.478365Z"
    }
   },
   "outputs": [],
   "source": [
    "fig = make_subplots(specs=[[{\"secondary_y\": True}]])\n",
    "\n",
    "fig.add_trace(go.Scatter(\n",
    "    x=data['Date'], y=data['Close'], name='Apple'))\n",
    "\n",
    "\n",
    "fig.add_trace(go.Scatter(\n",
    "    x=data2['Date'], y=data2['Close'], name='Google'),\n",
    "             secondary_y=True)\n",
    "fig.update_layout(\n",
    "    xaxis=dict(\n",
    "            showline=True,\n",
    "#             showgrid=False,\n",
    "            showticklabels=True,\n",
    "            linecolor='rgb(0, 0, 0)',\n",
    "            linewidth=2,\n",
    "            ticks='outside',\n",
    "            tickfont=dict(\n",
    "                family='Roboto',\n",
    "                size=12,\n",
    "                color='rgb(82,82,82)'),\n",
    "        ),\n",
    "    yaxis=dict(\n",
    "            showline=True,\n",
    "            showgrid=False,\n",
    "            zeroline=True,\n",
    "            showticklabels=True,\n",
    "            ticks='outside',\n",
    "            linecolor='rgb(0, 0, 0)',\n",
    "            linewidth=2,\n",
    "            tickfont=dict(\n",
    "                family='Roboto',\n",
    "                size=12,\n",
    "                color='rgb(0,0,255)')\n",
    "        ),\n",
    "    plot_bgcolor='rgb(255,255,255)',  # plot_bgcolor='white'   \n",
    ")\n",
    "fig"
   ]
  },
  {
   "cell_type": "code",
   "execution_count": null,
   "id": "52823215-e3dd-4077-989d-b68afe5682f2",
   "metadata": {},
   "outputs": [],
   "source": []
  }
 ],
 "metadata": {
  "kernelspec": {
   "display_name": "Python 3 (ipykernel)",
   "language": "python",
   "name": "python3"
  },
  "language_info": {
   "codemirror_mode": {
    "name": "ipython",
    "version": 3
   },
   "file_extension": ".py",
   "mimetype": "text/x-python",
   "name": "python",
   "nbconvert_exporter": "python",
   "pygments_lexer": "ipython3",
   "version": "3.8.11"
  }
 },
 "nbformat": 4,
 "nbformat_minor": 5
}
