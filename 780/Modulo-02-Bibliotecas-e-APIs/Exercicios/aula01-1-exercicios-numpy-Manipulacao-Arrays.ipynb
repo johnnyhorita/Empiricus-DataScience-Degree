{
 "cells": [
  {
   "cell_type": "markdown",
   "id": "48ec85ce",
   "metadata": {},
   "source": [
    "# Bibliotecas e APIs\n",
    "\n",
    "## 1 - LC | Numpy"
   ]
  },
  {
   "cell_type": "markdown",
   "id": "5bbfb19c",
   "metadata": {},
   "source": [
    "Questão #1\n",
    "\n",
    "Enunciado\n",
    "Printe os elementos dos seguintes dois vetores usando apenas um for:\n",
    "\n",
    "arr = np.array([[[1, 2, 3], [4, 5, 6]], [[7, 8, 9], [10, 11, 12]]])\n",
    "\n",
    "Depois, faça o mesmo usando numpy (usando a função nditer) e deixe um comentário sobre a diferença dos dois métodos.\n",
    "\n",
    "arr = np.array([[[1, 2, 3], [4, 5, 6]], [[7, 8, 9], [10, 11, 12]]])"
   ]
  },
  {
   "cell_type": "code",
   "execution_count": 48,
   "id": "131907cd",
   "metadata": {
    "ExecuteTime": {
     "end_time": "2021-08-06T17:42:27.700279Z",
     "start_time": "2021-08-06T17:42:27.682282Z"
    }
   },
   "outputs": [
    {
     "name": "stdout",
     "output_type": "stream",
     "text": [
      "\n",
      "A)\n",
      "[0 1 0 1 0 1 0 1 0 1 0 1 0 1 0 1 0 1 0 1 0 1 0 1 0 1 0 1 0 1 0 1 0 1 0 1 0\n",
      " 1 0 1 0 1 0 1 0 1 0 1 0 1]\n",
      "\n",
      "B)\n",
      "[ 6  7  8  9 10 11 12 13 14 15 16 17 18 19 20 21 22 23 24 25 26 27 28 29\n",
      " 30 31 32 33 34 35 36 37 38 39 40 41 42 43 44 45 46 47 48 49]\n",
      "\n",
      "C)\n",
      "[ 0  1  2  3  4  5  6  7  8  9 10]\n",
      "\n",
      "D)\n",
      "[ 0  1  2  3  4  5  6  7  8  9 10 11 12 13 14 15 16 17 18 19 20 21 22 23\n",
      " 24 25 26 27 28 29 30 31 32 33 34 35 36 37 38 39 40 41 42 43 44 45 46 47\n",
      " 48 49]\n"
     ]
    }
   ],
   "source": [
    "import numpy as np\n",
    "\n",
    "arr = np.arange(50)\n",
    "\n",
    "print('\\nA)')\n",
    "arr_atualizado = arr[arr % 2]\n",
    "print(arr_atualizado)\n",
    "\n",
    "print('\\nB)')\n",
    "arr_atualizado = arr[arr>5]\n",
    "print(arr_atualizado)\n",
    "\n",
    "print('\\nC)')\n",
    "arr_atualizado = arr[arr <= 10]\n",
    "print(arr_atualizado)\n",
    "\n",
    "print('\\nD)')\n",
    "arr_atualizado = arr[(arr != 1) | (arr != 3)]\n",
    "print(arr_atualizado)"
   ]
  },
  {
   "cell_type": "markdown",
   "id": "07b7428a",
   "metadata": {
    "ExecuteTime": {
     "end_time": "2021-08-05T12:31:54.300933Z",
     "start_time": "2021-08-05T12:31:54.279917Z"
    }
   },
   "source": [
    "Questão #2\n",
    "\n",
    "\n",
    "Peça para o usuário uma lista com as comidas favoritas dele, depois transforme isso em um objeto numpy. Agora transformado, elimine todas as comidas que começam com uma vogal. Mostre o resultado.\n",
    "\n",
    "Exemplo:\n",
    "\n",
    "Entrada: [maçã, uva, morango, melancia, acelga]\n",
    "\n",
    "Saída: [maçã, morango, melancia]"
   ]
  },
  {
   "cell_type": "code",
   "execution_count": 2,
   "id": "9692ff2d",
   "metadata": {
    "ExecuteTime": {
     "end_time": "2021-08-05T14:45:52.105217Z",
     "start_time": "2021-08-05T14:45:52.098217Z"
    }
   },
   "outputs": [
    {
     "name": "stdout",
     "output_type": "stream",
     "text": [
      "a) Crie um array aleatório de 15 itens entre 0 e 100;\n",
      "[89 27 31 25  5  1 91 40 14 31  8 30 59 84 66]\n",
      "\n",
      "b) Qual o maior número do array?\n",
      "91\n",
      "\n",
      "c) Qual a sua posição?\n",
      "[6]\n",
      "\n",
      "d) Verifique quais números do array são maior que 10;\n",
      "[89 27 31 25 91 40 14 31 30 59 84 66]\n",
      "\n",
      "e) Salve em uma nova lista apenas os itens entre 10 e 30.\n",
      "[89 27 31 25  5  1 91 40 14 31  8 30 59 84 66]\n"
     ]
    }
   ],
   "source": [
    "import numpy as np\n",
    "\n",
    "print(frutas[sum([np.char.count(frutas, x) for x in 'aeiou']) == 2])\n",
    "\n",
    "\n",
    "print('a) Crie um array aleatório de 15 itens entre 0 e 100;')\n",
    "arr1 = np.random.randint(0, 100, 15)\n",
    "print(arr1)\n",
    "\n",
    "print('\\nb) Qual o maior número do array?')\n",
    "print(arr1.max())\n",
    "\n",
    "print('\\nc) Qual a sua posição?')\n",
    "i, = np.where(arr1 == arr1.max())\n",
    "print(i)\n",
    "\n",
    "\n",
    "print('\\nd) Verifique quais números do array são maior que 10;')\n",
    "filter_arr = arr1 > 10\n",
    "print(arr1[filter_arr])\n",
    "\n",
    "print('\\ne) Salve em uma nova lista apenas os itens entre 10 e 30.')\n",
    "filter_arr = (arr1 > 10) & (arr1 < 30)\n",
    "arr1[filter_arr]\n",
    "print(arr1)\n"
   ]
  },
  {
   "cell_type": "markdown",
   "id": "16d07f3a",
   "metadata": {},
   "source": [
    "Questão #3\n",
    "\n",
    "Enunciado\n",
    "Imprima a dimensão dos seguintes objetos numpy:\n",
    "\n",
    "a = np.array(2)\n",
    "\n",
    "b = np.array([1, 2, 3, 4, 5])\n",
    "\n",
    "c = np.array([[1, 2, 3], [4, 5, 6]])\n",
    "\n",
    "d = np.array([[[1, 2, 3], [4, 5, 6]], [[7, 8, 9], [10, 11, 12]]])"
   ]
  },
  {
   "cell_type": "code",
   "execution_count": 47,
   "id": "48e40c4a",
   "metadata": {
    "ExecuteTime": {
     "end_time": "2021-08-06T17:39:59.226036Z",
     "start_time": "2021-08-06T17:39:59.210036Z"
    }
   },
   "outputs": [
    {
     "name": "stdout",
     "output_type": "stream",
     "text": [
      "a)\n",
      "[[  0.  20.]\n",
      " [ 40.  60.]\n",
      " [ 80. 100.]]\n",
      "\n",
      "b)\n",
      "[[48 54]\n",
      " [75 16]\n",
      " [92 77]\n",
      " [56 40]\n",
      " [78 22]]\n",
      "\n",
      "c)\n",
      "[[48 54 75 16 92]\n",
      " [77 56 40 78 22]]\n"
     ]
    },
    {
     "data": {
      "text/plain": [
       "array([[ 1540.,  1120.,   800.,  1560.,   440.],\n",
       "       [ 6540.,  5520.,  5400.,  5320.,  5000.],\n",
       "       [11540.,  9920., 10000.,  9080.,  9560.]])"
      ]
     },
     "execution_count": 47,
     "metadata": {},
     "output_type": "execute_result"
    }
   ],
   "source": [
    "print('a)')\n",
    "a = np.linspace(0, 100, 6, endpoint=True).reshape(3, 2)\n",
    "print(a)\n",
    "    \n",
    "print('\\nb)')\n",
    "b = np.random.randint(100, size=(5, 2))\n",
    "print(b)\n",
    "\n",
    "print('\\nc)')\n",
    "print(b.reshape(2, 5))\n",
    "np.matmul(a, b.reshape(2, 5))"
   ]
  },
  {
   "cell_type": "code",
   "execution_count": 3,
   "id": "30834f53",
   "metadata": {
    "ExecuteTime": {
     "end_time": "2021-08-05T14:45:52.375021Z",
     "start_time": "2021-08-05T14:45:52.106218Z"
    }
   },
   "outputs": [
    {
     "name": "stdout",
     "output_type": "stream",
     "text": [
      "Wall time: 264 ms\n"
     ]
    }
   ],
   "source": [
    "%%time\n",
    "import random\n",
    "\n",
    "n_sim = 10_000\n",
    "agulhas = 1_000\n",
    "x = np.random.random(agulhas * n_sim)\n",
    "y = np.random.random(agulhas * n_sim)\n",
    "dist = np.sqrt(x**2 + y**2) # (x**2 + y**2) ** 0.5\n",
    "dentro = np.where(dist<=1, 1, 0)\n",
    "pis_arr = dentro.reshape(n_sim, -1).mean(axis=1)*4\n"
   ]
  },
  {
   "cell_type": "code",
   "execution_count": null,
   "id": "0455a4da",
   "metadata": {},
   "outputs": [],
   "source": [
    "Questão #4\n",
    "\n",
    "Enunciado\n",
    "Transforme o array em uma matriz 4 por 3 utilizando numpy.\n",
    "\n",
    "arr = [1, 2, 3, 4, 'Amelia, 'Bruna, 'Carolina', 'Débora', True, False, False, True]\n",
    "\n",
    "Depois, faça o mesmo para uma matriz 3 por 4."
   ]
  }
 ],
 "metadata": {
  "kernelspec": {
   "display_name": "Python 3 (ipykernel)",
   "language": "python",
   "name": "python3"
  },
  "language_info": {
   "codemirror_mode": {
    "name": "ipython",
    "version": 3
   },
   "file_extension": ".py",
   "mimetype": "text/x-python",
   "name": "python",
   "nbconvert_exporter": "python",
   "pygments_lexer": "ipython3",
   "version": "3.8.11"
  }
 },
 "nbformat": 4,
 "nbformat_minor": 5
}
