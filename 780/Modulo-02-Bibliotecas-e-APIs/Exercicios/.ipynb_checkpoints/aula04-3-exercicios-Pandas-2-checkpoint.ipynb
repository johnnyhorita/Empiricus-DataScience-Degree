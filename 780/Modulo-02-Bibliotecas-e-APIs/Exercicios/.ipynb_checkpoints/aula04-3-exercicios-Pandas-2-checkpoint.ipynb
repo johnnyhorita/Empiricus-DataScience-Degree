{
 "cells": [
  {
   "cell_type": "markdown",
   "id": "a40cb393",
   "metadata": {
    "ExecuteTime": {
     "end_time": "2021-08-11T23:50:35.997207Z",
     "start_time": "2021-08-11T23:50:35.995169Z"
    }
   },
   "source": [
    "# Bibliotecas e APIs\n",
    "\n",
    "## 3 - LC | Pandas 2"
   ]
  },
  {
   "cell_type": "markdown",
   "id": "b012fa33",
   "metadata": {},
   "source": [
    "Questão #1\n",
    "\n",
    "Enunciado\n",
    "\n",
    "O arquivo avocado.csv consiste em um dataset que contém dados sobre vendas de abacates (avocado, em inglês) em diversas regiões dos Estados Unidos. Essa dataset contém as seguintes colunas:\n",
    "\n",
    "Date - a data da observação\n",
    "AveragePrice - o preço médio de um único abacate\n",
    "year - o ano\n",
    "region - a cidade ou região da observação\n",
    "Total Volume - volume total de abacates vendidos\n",
    "\n",
    "Além das informações acima, contidas no arquivo avocado.csv, o tipo do abacate (convencional ou orgânico) também seria uma informação importante para a sua análise.\n",
    "\n",
    "Suponhamos que você conseguiu essas informações para cada uma das observações do arquivo avocado.csv, na mesma ordem, e salvou-as no arquivo avocado_type.csv. \n",
    "\n",
    "Portanto, tudo o que você precisa é juntar esses dois arquivos em um mesmo DataFrame. E, em seguida, salve-o em um arquivo csv.\n",
    "\n",
    "PS. Caso queira criar uma Series com os dados aleatórios para o tipo de abacate, utilize o código abaixo:\n",
    "\n",
    "tipos = pd.Series(np.random.randint(0, 2, df_avocado.shape[0]))\n",
    "tipos = tipos.map({0: 'convencional', 1:'orgânico'})\n"
   ]
  },
  {
   "cell_type": "code",
   "execution_count": 15,
   "id": "00eab40a",
   "metadata": {
    "ExecuteTime": {
     "end_time": "2021-08-16T18:35:24.897238Z",
     "start_time": "2021-08-16T18:35:24.791187Z"
    }
   },
   "outputs": [],
   "source": [
    "import pandas as pd\n",
    "\n",
    "df = pd.read_csv ('./datasets/avocado.csv', sep=',')\n",
    "df_type = pd.read_csv ('./datasets/avocado_type.csv', sep=',')\n",
    "\n",
    "columns = ['Date', 'AveragePrice', 'year', 'region', 'Total Volume', 'type']\n",
    "#df['avocado_type'] = df_type['type']\n",
    "df_avo_type = df.join(df_type)\n",
    "df_avo_type[columns]\n",
    "df_avo_type.to_csv('./datasets/3-exercicios-Pandas-questao-1-avocado.csv', index=False, header=True, sep=';')"
   ]
  },
  {
   "cell_type": "markdown",
   "id": "1abb5163",
   "metadata": {},
   "source": [
    "Questão #2\n",
    "\n",
    "Enunciado\n",
    "\n",
    "Carregue o arquivo csv que você salvou na questão anterior e, em seguida, obtenha o que é solicitado nos itens elencados abaixo:\n",
    "\n",
    "(a) A quantidade de abacates do tipo convecional e do tipo orgânico.\n",
    "\n",
    "(b) A quantidade de registros (linhas) de abacates vendidos para cada região.\n",
    "\n",
    "(c) Para que todos os labels das colunas fiquem padronizados, renomeie aqueles que estão iniciando em letra minúscula para que iniciem em letra maiúscula.\n",
    "\n",
    "(d) Uma vez que você já possui uma coluna com a data, remova a coluna que apresenta o ano."
   ]
  },
  {
   "cell_type": "code",
   "execution_count": 48,
   "id": "be3b6301",
   "metadata": {
    "ExecuteTime": {
     "end_time": "2021-08-16T19:11:31.794843Z",
     "start_time": "2021-08-16T19:11:31.752696Z"
    }
   },
   "outputs": [
    {
     "name": "stdout",
     "output_type": "stream",
     "text": [
      "(a) A quantidade de abacates do tipo convecional e do tipo orgânico.\n",
      "conventional    9126\n",
      "organic         9123\n",
      "Name: type, dtype: int64\n",
      "\n",
      "(b) A quantidade de registros (linhas) de abacates vendidos para cada região.\n",
      "Albany                 338\n",
      "Sacramento             338\n",
      "Northeast              338\n",
      "NorthernNewEngland     338\n",
      "Orlando                338\n",
      "Philadelphia           338\n",
      "PhoenixTucson          338\n",
      "Pittsburgh             338\n",
      "Plains                 338\n",
      "Portland               338\n",
      "RaleighGreensboro      338\n",
      "RichmondNorfolk        338\n",
      "Roanoke                338\n",
      "SanDiego               338\n",
      "Atlanta                338\n",
      "SanFrancisco           338\n",
      "Seattle                338\n",
      "SouthCarolina          338\n",
      "SouthCentral           338\n",
      "Southeast              338\n",
      "Spokane                338\n",
      "StLouis                338\n",
      "Syracuse               338\n",
      "Tampa                  338\n",
      "TotalUS                338\n",
      "West                   338\n",
      "NewYork                338\n",
      "NewOrleansMobile       338\n",
      "Nashville              338\n",
      "Midsouth               338\n",
      "BaltimoreWashington    338\n",
      "Boise                  338\n",
      "Boston                 338\n",
      "BuffaloRochester       338\n",
      "California             338\n",
      "Charlotte              338\n",
      "Chicago                338\n",
      "CincinnatiDayton       338\n",
      "Columbus               338\n",
      "DallasFtWorth          338\n",
      "Denver                 338\n",
      "Detroit                338\n",
      "GrandRapids            338\n",
      "GreatLakes             338\n",
      "HarrisburgScranton     338\n",
      "HartfordSpringfield    338\n",
      "Houston                338\n",
      "Indianapolis           338\n",
      "Jacksonville           338\n",
      "LasVegas               338\n",
      "LosAngeles             338\n",
      "Louisville             338\n",
      "MiamiFtLauderdale      338\n",
      "WestTexNewMexico       335\n",
      "Name: region, dtype: int64\n",
      "\n",
      "(c) Renomeie aqueles que estão iniciando em letra minúscula para que iniciem em letra maiúscula.\n",
      "Index(['Date', 'AveragePrice', 'Total Volume', 'year', 'region', 'type'], dtype='object')\n",
      "Index(['Date', 'Averageprice', 'Total Volume', 'Year', 'Region', 'Type'], dtype='object')\n",
      "\n",
      "(d) Uma vez que você já possui uma coluna com a data, remova a coluna que apresenta o ano.\n",
      "Index(['Date', 'Averageprice', 'Total Volume', 'Region', 'Type'], dtype='object')\n"
     ]
    }
   ],
   "source": [
    "import pandas as pd\n",
    "import string\n",
    "\n",
    "df = pd.read_csv ('./datasets/3-exercicios-Pandas-questao-1-avocado.csv', sep=';')\n",
    "\n",
    "print('(a) A quantidade de abacates do tipo convecional e do tipo orgânico.')\n",
    "print(df[\"type\"].value_counts())\n",
    "print('\\n(b) A quantidade de registros (linhas) de abacates vendidos para cada região.')\n",
    "print(df[\"region\"].value_counts())\n",
    "print('\\n(c) Renomeie aqueles que estão iniciando em letra minúscula para que iniciem em letra maiúscula.')\n",
    "print(df.keys())\n",
    "for col_name in df.columns:\n",
    "    df.rename(columns={col_name: string.capwords(col_name)}, inplace=True)\n",
    "print(df.keys())\n",
    "print('\\n(d) Uma vez que você já possui uma coluna com a data, remova a coluna que apresenta o ano.')\n",
    "del df['Year']\n",
    "print(df.keys())"
   ]
  },
  {
   "cell_type": "code",
   "execution_count": null,
   "id": "01acd0e3",
   "metadata": {},
   "outputs": [],
   "source": [
    "#avo_types = df.groupby('type')\n",
    "#avo_types.groups\n",
    "#avo_types.count()\n"
   ]
  },
  {
   "cell_type": "markdown",
   "id": "c20a9c1b",
   "metadata": {},
   "source": [
    "Questão #3\n",
    "\n",
    "Enunciado\n",
    "\n",
    "Carregue, em um objeto DataFrame, o mesmo dataset que você salvou na questão Q1, agrupe os dados do DF pelo tipo do abacate e, em seguida, obtenha:\n",
    "\n",
    "(a) A volume total de abacates vendidos para cada tipo.\n",
    "\n",
    "(b) O preço médio dos abacates vendidos para cada tipo."
   ]
  },
  {
   "cell_type": "code",
   "execution_count": 56,
   "id": "0f741b72",
   "metadata": {
    "ExecuteTime": {
     "end_time": "2021-08-16T20:22:28.893661Z",
     "start_time": "2021-08-16T20:22:28.864661Z"
    }
   },
   "outputs": [
    {
     "name": "stdout",
     "output_type": "stream",
     "text": [
      "(a) A volume total de abacates vendidos para cada tipo.\n",
      "type\n",
      "conventional    1.508722e+10\n",
      "organic         4.361817e+08\n",
      "Name: Total Volume, dtype: float64\n",
      "\n",
      "(b) O preço médio dos abacates vendidos para cada tipo.\n",
      "type\n",
      "conventional    1.158040\n",
      "organic         1.653999\n",
      "Name: AveragePrice, dtype: float64\n"
     ]
    }
   ],
   "source": [
    "import pandas as pd\n",
    "import string\n",
    "\n",
    "df = pd.read_csv ('./datasets/3-exercicios-Pandas-questao-1-avocado.csv', sep=';')\n",
    "\n",
    "print('(a) A volume total de abacates vendidos para cada tipo.')\n",
    "print(df.groupby(['type'])['Total Volume'].agg('sum'))\n",
    "print('\\n(b) O preço médio dos abacates vendidos para cada tipo.')\n",
    "print(df.groupby(['type'])['AveragePrice'].agg('mean'))"
   ]
  },
  {
   "cell_type": "markdown",
   "id": "3f67e443",
   "metadata": {},
   "source": [
    "Questão #4\n",
    "\n",
    "Enunciado\n",
    "\n",
    "O arquivo googleplaystore.csv é um dataset que contém diversas informações sobre aplicativos disponíveis para download na Google Play Store. Você deve utilizar esse dataset para fazer o mesmo que foi solicitado na questão anterior. Ou seja, carregue-o em um objeto DataFrame e verifique os dados contidos nas colunas desse DF. Logo após, verifique se existem dados duplicados e/ou ausentes nesse dataset.\n",
    "\n",
    "Caso existam dados duplicados, remova-os. Caso existam dados ausentes, você pode removê-los ou pensar em alguma maneira de preenchê-los.\n",
    "\n",
    "Clique aqui para fazer o download do dataset."
   ]
  },
  {
   "cell_type": "code",
   "execution_count": 30,
   "id": "7710f1a1",
   "metadata": {
    "ExecuteTime": {
     "end_time": "2021-08-24T18:02:31.490203Z",
     "start_time": "2021-08-24T18:02:31.101858Z"
    }
   },
   "outputs": [
    {
     "name": "stdout",
     "output_type": "stream",
     "text": [
      "Quantidade de linhas do df: 10841\n",
      "Quantidade de linhas após limpeza dos itens duplicados: 10358\n",
      "\n",
      "Total NaN de cada coluna no DataFrame:\n",
      "Rating            1465\n",
      "Type                 1\n",
      "Content Rating       1\n",
      "Current Ver          8\n",
      "Android Ver          3\n",
      "dtype: int64\n",
      "\n",
      "Porcentagem faltantes por coluna no DataFrame:\n",
      "Rating            14.143657\n",
      "Type               0.009654\n",
      "Content Rating     0.009654\n",
      "Current Ver        0.077235\n",
      "Android Ver        0.028963\n",
      "dtype: float64\n"
     ]
    }
   ],
   "source": [
    "import pandas as pd\n",
    "import string\n",
    "\n",
    "df = pd.read_csv ('https://s3-sa-east-1.amazonaws.com/lcpi/e1c2115b-1725-4525-9fd5-0ce57fb5c408.csv', sep=',', encoding='utf8')\n",
    "#df = pd.read_csv ('./datasets/3-exercicios-Pandas-questao-4-googleplaystore.csv', sep=',', encoding='utf8')\n",
    "\n",
    "print(f'Quantidade de linhas do df: {df.shape[0]}')\n",
    "\n",
    "# Caso existam dados duplicados, remova-os.\n",
    "df = df.drop_duplicates(keep='last').copy()\n",
    "print(f'Quantidade de linhas após limpeza dos itens duplicados: {df.shape[0]}')\n",
    "\n",
    "print(f\"\\nTotal NaN de cada coluna no DataFrame:\\n{df[missing_col].isnull().sum()}\")\n",
    "print(f\"\\nPorcentagem faltantes por coluna no DataFrame:\\n{(df[missing_col].isnull().sum()/df.shape[0])*100}\")"
   ]
  },
  {
   "cell_type": "code",
   "execution_count": 26,
   "id": "f79805b7",
   "metadata": {
    "ExecuteTime": {
     "end_time": "2021-08-24T17:57:01.412897Z",
     "start_time": "2021-08-24T17:57:01.400863Z"
    }
   },
   "outputs": [
    {
     "data": {
      "text/plain": [
       "['Rating', 'Type', 'Content Rating', 'Current Ver', 'Android Ver']"
      ]
     },
     "execution_count": 26,
     "metadata": {},
     "output_type": "execute_result"
    }
   ],
   "source": [
    "missing_col = df.columns[df.isnull().any()].tolist()\n",
    "missing_col"
   ]
  },
  {
   "cell_type": "code",
   "execution_count": 29,
   "id": "272da27b",
   "metadata": {
    "ExecuteTime": {
     "end_time": "2021-08-24T18:01:42.313562Z",
     "start_time": "2021-08-24T18:01:42.289544Z"
    }
   },
   "outputs": [
    {
     "name": "stdout",
     "output_type": "stream",
     "text": [
      "\n",
      "Total NaN de cada coluna no DataFrame:\n",
      "Rating            1465\n",
      "Type                 1\n",
      "Content Rating       1\n",
      "Current Ver          8\n",
      "Android Ver          3\n",
      "dtype: int64\n",
      "\n",
      "Porcentagem faltantes por coluna no DataFrame:\n",
      "Rating            14.143657\n",
      "Type               0.009654\n",
      "Content Rating     0.009654\n",
      "Current Ver        0.077235\n",
      "Android Ver        0.028963\n",
      "dtype: float64\n"
     ]
    }
   ],
   "source": [
    "print(f\"\\nTotal NaN de cada coluna no DataFrame:\\n{df[missing_col].isnull().sum()}\")\n",
    "print(f\"\\nPorcentagem faltantes por coluna no DataFrame:\\n{(df[missing_col].isnull().sum()/df.shape[0])*100}\")"
   ]
  },
  {
   "cell_type": "code",
   "execution_count": 24,
   "id": "44d23c5a",
   "metadata": {
    "ExecuteTime": {
     "end_time": "2021-08-24T17:56:46.547897Z",
     "start_time": "2021-08-24T17:56:46.528898Z"
    }
   },
   "outputs": [
    {
     "name": "stdout",
     "output_type": "stream",
     "text": [
      "<class 'pandas.core.frame.DataFrame'>\n",
      "Int64Index: 10358 entries, 0 to 10840\n",
      "Data columns (total 13 columns):\n",
      " #   Column          Non-Null Count  Dtype  \n",
      "---  ------          --------------  -----  \n",
      " 0   App             10358 non-null  object \n",
      " 1   Category        10358 non-null  object \n",
      " 2   Rating          8893 non-null   float64\n",
      " 3   Reviews         10358 non-null  object \n",
      " 4   Size            10358 non-null  object \n",
      " 5   Installs        10358 non-null  object \n",
      " 6   Type            10357 non-null  object \n",
      " 7   Price           10358 non-null  object \n",
      " 8   Content Rating  10357 non-null  object \n",
      " 9   Genres          10358 non-null  object \n",
      " 10  Last Updated    10358 non-null  object \n",
      " 11  Current Ver     10350 non-null  object \n",
      " 12  Android Ver     10355 non-null  object \n",
      "dtypes: float64(1), object(12)\n",
      "memory usage: 1.1+ MB\n"
     ]
    }
   ],
   "source": [
    "df.info()"
   ]
  },
  {
   "cell_type": "code",
   "execution_count": 10,
   "id": "697585f0",
   "metadata": {
    "ExecuteTime": {
     "end_time": "2021-08-24T17:46:40.557945Z",
     "start_time": "2021-08-24T17:46:40.537259Z"
    }
   },
   "outputs": [
    {
     "name": "stdout",
     "output_type": "stream",
     "text": [
      "(a) A volume total de app por categoria.\n"
     ]
    },
    {
     "data": {
      "text/plain": [
       "FAMILY                 1972\n",
       "GAME                   1144\n",
       "TOOLS                   843\n",
       "MEDICAL                 463\n",
       "BUSINESS                460\n",
       "PRODUCTIVITY            424\n",
       "PERSONALIZATION         392\n",
       "COMMUNICATION           387\n",
       "SPORTS                  384\n",
       "LIFESTYLE               382\n",
       "FINANCE                 366\n",
       "HEALTH_AND_FITNESS      341\n",
       "PHOTOGRAPHY             335\n",
       "SOCIAL                  295\n",
       "NEWS_AND_MAGAZINES      283\n",
       "SHOPPING                260\n",
       "TRAVEL_AND_LOCAL        258\n",
       "DATING                  234\n",
       "BOOKS_AND_REFERENCE     231\n",
       "VIDEO_PLAYERS           175\n",
       "EDUCATION               156\n",
       "ENTERTAINMENT           149\n",
       "MAPS_AND_NAVIGATION     137\n",
       "FOOD_AND_DRINK          127\n",
       "HOUSE_AND_HOME           88\n",
       "LIBRARIES_AND_DEMO       85\n",
       "AUTO_AND_VEHICLES        85\n",
       "WEATHER                  82\n",
       "ART_AND_DESIGN           65\n",
       "EVENTS                   64\n",
       "PARENTING                60\n",
       "COMICS                   60\n",
       "BEAUTY                   53\n",
       "1.9                       1\n",
       "Name: Category, dtype: int64"
      ]
     },
     "execution_count": 10,
     "metadata": {},
     "output_type": "execute_result"
    }
   ],
   "source": [
    "print('(a) Quantidade total de app por categoria.')\n",
    "df.Category.value_counts()\n",
    "      \n"
   ]
  },
  {
   "cell_type": "code",
   "execution_count": 4,
   "id": "044a41bc",
   "metadata": {
    "ExecuteTime": {
     "end_time": "2021-08-24T17:34:23.568725Z",
     "start_time": "2021-08-24T17:34:23.549726Z"
    }
   },
   "outputs": [
    {
     "name": "stdout",
     "output_type": "stream",
     "text": [
      "<class 'pandas.core.frame.DataFrame'>\n",
      "RangeIndex: 10841 entries, 0 to 10840\n",
      "Data columns (total 13 columns):\n",
      " #   Column          Non-Null Count  Dtype  \n",
      "---  ------          --------------  -----  \n",
      " 0   App             10841 non-null  object \n",
      " 1   Category        10841 non-null  object \n",
      " 2   Rating          9367 non-null   float64\n",
      " 3   Reviews         10841 non-null  object \n",
      " 4   Size            10841 non-null  object \n",
      " 5   Installs        10841 non-null  object \n",
      " 6   Type            10840 non-null  object \n",
      " 7   Price           10841 non-null  object \n",
      " 8   Content Rating  10840 non-null  object \n",
      " 9   Genres          10841 non-null  object \n",
      " 10  Last Updated    10841 non-null  object \n",
      " 11  Current Ver     10833 non-null  object \n",
      " 12  Android Ver     10838 non-null  object \n",
      "dtypes: float64(1), object(12)\n",
      "memory usage: 1.1+ MB\n"
     ]
    }
   ],
   "source": [
    "df.info()"
   ]
  },
  {
   "cell_type": "code",
   "execution_count": 5,
   "id": "1f645d11",
   "metadata": {
    "ExecuteTime": {
     "end_time": "2021-08-24T17:34:43.926363Z",
     "start_time": "2021-08-24T17:34:43.895367Z"
    },
    "scrolled": true
   },
   "outputs": [
    {
     "data": {
      "text/html": [
       "<div>\n",
       "<style scoped>\n",
       "    .dataframe tbody tr th:only-of-type {\n",
       "        vertical-align: middle;\n",
       "    }\n",
       "\n",
       "    .dataframe tbody tr th {\n",
       "        vertical-align: top;\n",
       "    }\n",
       "\n",
       "    .dataframe thead th {\n",
       "        text-align: right;\n",
       "    }\n",
       "</style>\n",
       "<table border=\"1\" class=\"dataframe\">\n",
       "  <thead>\n",
       "    <tr style=\"text-align: right;\">\n",
       "      <th></th>\n",
       "      <th>App</th>\n",
       "      <th>Category</th>\n",
       "      <th>Rating</th>\n",
       "      <th>Reviews</th>\n",
       "      <th>Size</th>\n",
       "      <th>Installs</th>\n",
       "      <th>Type</th>\n",
       "      <th>Price</th>\n",
       "      <th>Content Rating</th>\n",
       "      <th>Genres</th>\n",
       "      <th>Last Updated</th>\n",
       "      <th>Current Ver</th>\n",
       "      <th>Android Ver</th>\n",
       "    </tr>\n",
       "  </thead>\n",
       "  <tbody>\n",
       "    <tr>\n",
       "      <th>0</th>\n",
       "      <td>Photo Editor &amp; Candy Camera &amp; Grid &amp; ScrapBook</td>\n",
       "      <td>ART_AND_DESIGN</td>\n",
       "      <td>4.1</td>\n",
       "      <td>159</td>\n",
       "      <td>19M</td>\n",
       "      <td>10,000+</td>\n",
       "      <td>Free</td>\n",
       "      <td>0</td>\n",
       "      <td>Everyone</td>\n",
       "      <td>Art &amp; Design</td>\n",
       "      <td>January 7, 2018</td>\n",
       "      <td>1.0.0</td>\n",
       "      <td>4.0.3 and up</td>\n",
       "    </tr>\n",
       "    <tr>\n",
       "      <th>1</th>\n",
       "      <td>Coloring book moana</td>\n",
       "      <td>ART_AND_DESIGN</td>\n",
       "      <td>3.9</td>\n",
       "      <td>967</td>\n",
       "      <td>14M</td>\n",
       "      <td>500,000+</td>\n",
       "      <td>Free</td>\n",
       "      <td>0</td>\n",
       "      <td>Everyone</td>\n",
       "      <td>Art &amp; Design;Pretend Play</td>\n",
       "      <td>January 15, 2018</td>\n",
       "      <td>2.0.0</td>\n",
       "      <td>4.0.3 and up</td>\n",
       "    </tr>\n",
       "    <tr>\n",
       "      <th>2</th>\n",
       "      <td>U Launcher Lite – FREE Live Cool Themes, Hide ...</td>\n",
       "      <td>ART_AND_DESIGN</td>\n",
       "      <td>4.7</td>\n",
       "      <td>87510</td>\n",
       "      <td>8.7M</td>\n",
       "      <td>5,000,000+</td>\n",
       "      <td>Free</td>\n",
       "      <td>0</td>\n",
       "      <td>Everyone</td>\n",
       "      <td>Art &amp; Design</td>\n",
       "      <td>August 1, 2018</td>\n",
       "      <td>1.2.4</td>\n",
       "      <td>4.0.3 and up</td>\n",
       "    </tr>\n",
       "    <tr>\n",
       "      <th>3</th>\n",
       "      <td>Sketch - Draw &amp; Paint</td>\n",
       "      <td>ART_AND_DESIGN</td>\n",
       "      <td>4.5</td>\n",
       "      <td>215644</td>\n",
       "      <td>25M</td>\n",
       "      <td>50,000,000+</td>\n",
       "      <td>Free</td>\n",
       "      <td>0</td>\n",
       "      <td>Teen</td>\n",
       "      <td>Art &amp; Design</td>\n",
       "      <td>June 8, 2018</td>\n",
       "      <td>Varies with device</td>\n",
       "      <td>4.2 and up</td>\n",
       "    </tr>\n",
       "    <tr>\n",
       "      <th>4</th>\n",
       "      <td>Pixel Draw - Number Art Coloring Book</td>\n",
       "      <td>ART_AND_DESIGN</td>\n",
       "      <td>4.3</td>\n",
       "      <td>967</td>\n",
       "      <td>2.8M</td>\n",
       "      <td>100,000+</td>\n",
       "      <td>Free</td>\n",
       "      <td>0</td>\n",
       "      <td>Everyone</td>\n",
       "      <td>Art &amp; Design;Creativity</td>\n",
       "      <td>June 20, 2018</td>\n",
       "      <td>1.1</td>\n",
       "      <td>4.4 and up</td>\n",
       "    </tr>\n",
       "  </tbody>\n",
       "</table>\n",
       "</div>"
      ],
      "text/plain": [
       "                                                 App        Category  Rating  \\\n",
       "0     Photo Editor & Candy Camera & Grid & ScrapBook  ART_AND_DESIGN     4.1   \n",
       "1                                Coloring book moana  ART_AND_DESIGN     3.9   \n",
       "2  U Launcher Lite – FREE Live Cool Themes, Hide ...  ART_AND_DESIGN     4.7   \n",
       "3                              Sketch - Draw & Paint  ART_AND_DESIGN     4.5   \n",
       "4              Pixel Draw - Number Art Coloring Book  ART_AND_DESIGN     4.3   \n",
       "\n",
       "  Reviews  Size     Installs  Type Price Content Rating  \\\n",
       "0     159   19M      10,000+  Free     0       Everyone   \n",
       "1     967   14M     500,000+  Free     0       Everyone   \n",
       "2   87510  8.7M   5,000,000+  Free     0       Everyone   \n",
       "3  215644   25M  50,000,000+  Free     0           Teen   \n",
       "4     967  2.8M     100,000+  Free     0       Everyone   \n",
       "\n",
       "                      Genres      Last Updated         Current Ver  \\\n",
       "0               Art & Design   January 7, 2018               1.0.0   \n",
       "1  Art & Design;Pretend Play  January 15, 2018               2.0.0   \n",
       "2               Art & Design    August 1, 2018               1.2.4   \n",
       "3               Art & Design      June 8, 2018  Varies with device   \n",
       "4    Art & Design;Creativity     June 20, 2018                 1.1   \n",
       "\n",
       "    Android Ver  \n",
       "0  4.0.3 and up  \n",
       "1  4.0.3 and up  \n",
       "2  4.0.3 and up  \n",
       "3    4.2 and up  \n",
       "4    4.4 and up  "
      ]
     },
     "execution_count": 5,
     "metadata": {},
     "output_type": "execute_result"
    }
   ],
   "source": [
    "df.head()"
   ]
  },
  {
   "cell_type": "markdown",
   "id": "e762b0b3",
   "metadata": {},
   "source": [
    "Questão #5\n",
    "\n",
    "Enunciado\n",
    "\n",
    "O arquivo houses_to_rent.csv consiste em um dataset que contém dados sobre casas para alugar no Brasil. \n",
    "Carregue-o em um objeto DataFrame e verifique os dados contidos nas colunas desse DF (você pode utilizar os métodos head, tail e info). Logo após, verifique se existem dados duplicados e/ou ausentes nesse dataset.\n",
    "\n",
    "Caso existam dados duplicados, remova-os. Caso existam dados ausentes, você pode removê-los ou pensar em alguma maneira de preenchê-los.\n",
    "\n",
    "Clique aqui para fazer o download do dataset."
   ]
  },
  {
   "cell_type": "code",
   "execution_count": 1,
   "id": "77380a99",
   "metadata": {
    "ExecuteTime": {
     "end_time": "2021-08-28T10:22:18.274600Z",
     "start_time": "2021-08-28T10:22:06.362708Z"
    }
   },
   "outputs": [],
   "source": [
    "import pandas as pd\n",
    "import string\n",
    "\n",
    "df = pd.read_csv ('https://s3-sa-east-1.amazonaws.com/lcpi/bc1625bb-909a-4a15-8107-6e4047ec6cd4.csv', sep=',', encoding='utf8')\n",
    "#df = pd.read_csv ('./datasets/3-exercicios-Pandas-questao-4-googleplaystore.csv', sep=',', encoding='utf8')\n"
   ]
  },
  {
   "cell_type": "code",
   "execution_count": 20,
   "id": "206451a0",
   "metadata": {
    "ExecuteTime": {
     "end_time": "2021-08-28T10:53:37.690209Z",
     "start_time": "2021-08-28T10:53:26.332207Z"
    }
   },
   "outputs": [
    {
     "name": "stdout",
     "output_type": "stream",
     "text": [
      "Informações do df:\n",
      "<class 'pandas.core.frame.DataFrame'>\n",
      "RangeIndex: 10692 entries, 0 to 10691\n",
      "Data columns (total 13 columns):\n",
      " #   Column               Non-Null Count  Dtype \n",
      "---  ------               --------------  ----- \n",
      " 0   city                 10692 non-null  object\n",
      " 1   area                 10692 non-null  int64 \n",
      " 2   rooms                10692 non-null  int64 \n",
      " 3   bathroom             10692 non-null  int64 \n",
      " 4   parking spaces       10692 non-null  int64 \n",
      " 5   floor                10692 non-null  object\n",
      " 6   animal               10692 non-null  object\n",
      " 7   furniture            10692 non-null  object\n",
      " 8   hoa (R$)             10692 non-null  int64 \n",
      " 9   rent amount (R$)     10692 non-null  int64 \n",
      " 10  property tax (R$)    10692 non-null  int64 \n",
      " 11  fire insurance (R$)  10692 non-null  int64 \n",
      " 12  total (R$)           10692 non-null  int64 \n",
      "dtypes: int64(9), object(4)\n",
      "memory usage: 1.1+ MB\n",
      "\n",
      "None\n",
      "Todas as Linhas duplicadas:\n",
      "(604, 13)\n",
      "\n",
      "Quantidade de linhas após limpeza dos itens duplicados: 10334\n"
     ]
    }
   ],
   "source": [
    "import pandas as pd\n",
    "import string\n",
    "\n",
    "df = pd.read_csv ('https://s3-sa-east-1.amazonaws.com/lcpi/bc1625bb-909a-4a15-8107-6e4047ec6cd4.csv', sep=',', encoding='utf8')\n",
    "\n",
    "print(f'Informações do df:')\n",
    "print(f'\\n{df.info()}')\n",
    "\n",
    "df_duplicateRows = df[df.duplicated(keep=False)].copy()\n",
    "print(\"Todas as Linhas duplicadas:\")\n",
    "print(df_duplicateRows.shape)\n",
    "\n",
    "# Caso existam dados duplicados, remova-os.\n",
    "df = df.drop_duplicates(keep='last').copy()\n",
    "print(f'\\nQuantidade de linhas após limpeza dos itens duplicados: {df.shape[0]}')\n",
    "\n",
    "missing_col = df.columns[df.isnull().any()].tolist()\n",
    "missing_col\n",
    "\n",
    "df.to_csv('resultado.csv', index=False)"
   ]
  },
  {
   "cell_type": "code",
   "execution_count": null,
   "id": "c210b689",
   "metadata": {},
   "outputs": [],
   "source": []
  }
 ],
 "metadata": {
  "kernelspec": {
   "display_name": "Python 3",
   "language": "python",
   "name": "python3"
  },
  "language_info": {
   "codemirror_mode": {
    "name": "ipython",
    "version": 3
   },
   "file_extension": ".py",
   "mimetype": "text/x-python",
   "name": "python",
   "nbconvert_exporter": "python",
   "pygments_lexer": "ipython3",
   "version": "3.8.11"
  }
 },
 "nbformat": 4,
 "nbformat_minor": 5
}
