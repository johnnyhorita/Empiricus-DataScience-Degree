{
 "cells": [
  {
   "cell_type": "markdown",
   "id": "7a5c8e30",
   "metadata": {},
   "source": [
    "# Módulo 2"
   ]
  },
  {
   "cell_type": "markdown",
   "id": "68af69fa",
   "metadata": {},
   "source": [
    "## LC | Numpy - Manipulação de Arrays"
   ]
  },
  {
   "cell_type": "markdown",
   "id": "1e90d0d4",
   "metadata": {},
   "source": [
    "### Questão 01"
   ]
  },
  {
   "cell_type": "markdown",
   "id": "15bdfb98",
   "metadata": {},
   "source": [
    "Printe os elementos dos seguintes dois vetores usando apenas um for:\n",
    "\n",
    "arr = np.array([[[1, 2, 3], [4, 5, 6]], [[7, 8, 9], [10, 11, 12]]])\n",
    "\n",
    "Depois, faça o mesmo usando numpy (usando a função nditer) e deixe um comentário sobre a diferença dos dois métodos.\n",
    "\n",
    "arr = np.array([[[1, 2, 3], [4, 5, 6]], [[7, 8, 9], [10, 11, 12]]])"
   ]
  },
  {
   "cell_type": "code",
   "execution_count": 1,
   "id": "53050fb3",
   "metadata": {},
   "outputs": [],
   "source": [
    "import numpy as np\n",
    "\n",
    "arr = np.array([[[1, 2, 3], [4, 5, 6]], [[7, 8, 9], [10, 11, 12]]])"
   ]
  },
  {
   "cell_type": "code",
   "execution_count": 407,
   "id": "32064717",
   "metadata": {
    "scrolled": true
   },
   "outputs": [
    {
     "name": "stdout",
     "output_type": "stream",
     "text": [
      "Com 1 for:\n",
      "[[1 2 3]\n",
      " [4 5 6]]\n",
      "[[ 7  8  9]\n",
      " [10 11 12]]\n",
      "\n",
      "Com .flat\n",
      "1\n",
      "2\n",
      "3\n",
      "4\n",
      "5\n",
      "6\n",
      "7\n",
      "8\n",
      "9\n",
      "10\n",
      "11\n",
      "12\n",
      "\n",
      "Com np.nditer()\n",
      "1\n",
      "2\n",
      "3\n",
      "4\n",
      "5\n",
      "6\n",
      "7\n",
      "8\n",
      "9\n",
      "10\n",
      "11\n",
      "12\n"
     ]
    }
   ],
   "source": [
    "print('Com 1 for:')\n",
    "for elemento in arr:\n",
    "    print(elemento)\n",
    "\n",
    "print('')\n",
    "\n",
    "print('Com .flat')\n",
    "for elemento in arr.flat:\n",
    "    print(elemento)\n",
    "\n",
    "print('')\n",
    "\n",
    "print('Com np.nditer()')\n",
    "for elemento in np.nditer(arr):\n",
    "    print(elemento)"
   ]
  },
  {
   "cell_type": "markdown",
   "id": "f271958c",
   "metadata": {},
   "source": [
    "### Questão 02"
   ]
  },
  {
   "cell_type": "markdown",
   "id": "a690c936",
   "metadata": {},
   "source": [
    "Peça para o usuário uma lista com as comidas favoritas dele, depois transforme isso em um objeto numpy. Agora transformado, elimine todas as comidas que começam com uma vogal. Mostre o resultado.\n",
    "\n",
    "Exemplo:\n",
    "\n",
    "Entrada: [maçã, uva, morango, melancia, acelga]\n",
    "\n",
    "Saída: [maçã, morango, melancia]"
   ]
  },
  {
   "cell_type": "code",
   "execution_count": 32,
   "id": "2789c63a",
   "metadata": {},
   "outputs": [
    {
     "name": "stdout",
     "output_type": "stream",
     "text": [
      "['maçã' 'morango' 'melancia' 'pessego' 'mamão' 'goiaba']\n"
     ]
    }
   ],
   "source": [
    "entrada = ['maçã', 'uva', 'morango', 'melancia', 'acelga', 'pessego', 'mamão', 'goiaba', 'abacaxi']\n",
    "\n",
    "vogais = 'aeiou'\n",
    "\n",
    "comidas = np.array(entrada)\n",
    "\n",
    "nao_comeca_vogal = np.vectorize(lambda fruta: fruta[0] not in vogais)\n",
    "\n",
    "mask = nao_comeca_vogal(comidas)\n",
    "\n",
    "comidas = comidas[mask]\n",
    "\n",
    "print(comidas)"
   ]
  },
  {
   "cell_type": "code",
   "execution_count": 41,
   "id": "57582d1c",
   "metadata": {},
   "outputs": [
    {
     "data": {
      "text/plain": [
       "array(['maçã', 'morango', 'melancia'], dtype='<U8')"
      ]
     },
     "execution_count": 41,
     "metadata": {},
     "output_type": "execute_result"
    }
   ],
   "source": [
    "entrada = ['maçã', 'uva', 'morango', 'melancia', 'acelga']\n",
    "\n",
    "arr = np.array(entrada)\n",
    "\n",
    "vogais = 'aeiou'\n",
    "\n",
    "y=False\n",
    "for i in vogais:\n",
    "    x = np.char.startswith(arr,i)\n",
    "    y = y | x\n",
    "\n",
    "arr[~y]"
   ]
  },
  {
   "cell_type": "markdown",
   "id": "f0013994",
   "metadata": {},
   "source": [
    "### Questão 03"
   ]
  },
  {
   "cell_type": "markdown",
   "id": "8e5d246a",
   "metadata": {},
   "source": [
    "Imprima a dimensão dos seguintes objetos numpy:\n",
    "\n",
    "a = np.array(2)\n",
    "\n",
    "b = np.array([1, 2, 3, 4, 5])\n",
    "\n",
    "c = np.array([[1, 2, 3], [4, 5, 6]])\n",
    "\n",
    "d = np.array([[[1, 2, 3], [4, 5, 6]], [[7, 8, 9], [10, 11, 12]]])"
   ]
  },
  {
   "cell_type": "code",
   "execution_count": 326,
   "id": "eaaa193d",
   "metadata": {},
   "outputs": [
    {
     "name": "stdout",
     "output_type": "stream",
     "text": [
      "0\n",
      "1\n",
      "2\n",
      "3\n"
     ]
    }
   ],
   "source": [
    "a = np.array(2)\n",
    "\n",
    "b = np.array([1, 2, 3, 4, 5])\n",
    "\n",
    "c = np.array([[1, 2, 3], [4, 5, 6]])\n",
    "\n",
    "d = np.array([[[1, 2, 3], [4, 5, 6]], [[7, 8, 9], [10, 11, 12]]])\n",
    "\n",
    "for arrays in [a,b,c,d]:\n",
    "    print(arrays.ndim)"
   ]
  },
  {
   "cell_type": "markdown",
   "id": "e50ea62a",
   "metadata": {},
   "source": [
    "### Questão 04"
   ]
  },
  {
   "cell_type": "markdown",
   "id": "19325371",
   "metadata": {},
   "source": [
    "Transforme o array em uma matriz 4 por 3 utilizando numpy.\n",
    "\n",
    "arr = [1, 2, 3, 4, 'Amelia, 'Bruna, 'Carolina', 'Débora', True, False, False, True]\n",
    "\n",
    "Depois, faça o mesmo para uma matriz 3 por 4."
   ]
  },
  {
   "cell_type": "code",
   "execution_count": 327,
   "id": "af211315",
   "metadata": {},
   "outputs": [
    {
     "name": "stdout",
     "output_type": "stream",
     "text": [
      "(4,3):\n",
      "[['1' '2' '3']\n",
      " ['4' 'Amelia' 'Bruna']\n",
      " ['Carolina' 'Débora' 'True']\n",
      " ['False' 'False' 'True']]\n",
      "\n",
      "(3,4):\n",
      "[['1' '2' '3' '4']\n",
      " ['Amelia' 'Bruna' 'Carolina' 'Débora']\n",
      " ['True' 'False' 'False' 'True']]\n"
     ]
    }
   ],
   "source": [
    "arr = np.array([1, 2, 3, 4, 'Amelia', 'Bruna', 'Carolina', 'Débora', True, False, False, True])\n",
    "\n",
    "print('(4,3):')\n",
    "arr.resize(4,3)\n",
    "print(arr)\n",
    "\n",
    "print('\\n(3,4):')\n",
    "arr.resize(3,4)\n",
    "print(arr)"
   ]
  },
  {
   "cell_type": "markdown",
   "id": "1663bc99",
   "metadata": {},
   "source": [
    "### Questão 05"
   ]
  },
  {
   "cell_type": "markdown",
   "id": "d3782603",
   "metadata": {},
   "source": [
    "Transforme o seguinte array em uma matriz 3D 3x3x3:\n",
    "\n",
    "arr = [1, 2, 3, 4, 5, 6, 7, 8, 9]\n",
    "\n",
    "Deixe um comentário explicando o que significa uma matriz 3D."
   ]
  },
  {
   "cell_type": "code",
   "execution_count": 328,
   "id": "ce896ea4",
   "metadata": {},
   "outputs": [
    {
     "data": {
      "text/plain": [
       "array([[[1, 2, 3],\n",
       "        [4, 5, 6],\n",
       "        [7, 8, 9]]])"
      ]
     },
     "execution_count": 328,
     "metadata": {},
     "output_type": "execute_result"
    }
   ],
   "source": [
    "#será que era uma matriz 3x3x1 ou 1x3x3?  \n",
    "#uma matriz com 3 dimensões é composta por mais um eixo, além da linha e coluna.  \n",
    "#então \n",
    "arr = np.array([1, 2, 3, 4, 5, 6, 7, 8, 9])  \n",
    "arr.reshape((1,3,3))"
   ]
  },
  {
   "cell_type": "markdown",
   "id": "c29cfb5c",
   "metadata": {},
   "source": [
    "### Questão 06"
   ]
  },
  {
   "cell_type": "markdown",
   "id": "d0cfc5fa",
   "metadata": {},
   "source": [
    "Tente transformar o seguinte array em uma matriz 3x3x3\n",
    "\n",
    "arr = [1, 2, 3, 4, 5, 6, 7, 8]\n",
    "\n",
    "Funciona? Se sim, explique o motivo. Se não, explique o erro."
   ]
  },
  {
   "cell_type": "code",
   "execution_count": 329,
   "id": "6008d74f",
   "metadata": {},
   "outputs": [
    {
     "ename": "ValueError",
     "evalue": "cannot reshape array of size 8 into shape (1,3,3)",
     "output_type": "error",
     "traceback": [
      "\u001b[1;31m---------------------------------------------------------------------------\u001b[0m",
      "\u001b[1;31mValueError\u001b[0m                                Traceback (most recent call last)",
      "\u001b[1;32m<ipython-input-329-9e1746fe6546>\u001b[0m in \u001b[0;36m<module>\u001b[1;34m\u001b[0m\n\u001b[0;32m      2\u001b[0m \u001b[1;33m\u001b[0m\u001b[0m\n\u001b[0;32m      3\u001b[0m \u001b[1;31m#não existem elementos suficientes para compor o array\u001b[0m\u001b[1;33m\u001b[0m\u001b[1;33m\u001b[0m\u001b[1;33m\u001b[0m\u001b[0m\n\u001b[1;32m----> 4\u001b[1;33m \u001b[0marr\u001b[0m\u001b[1;33m.\u001b[0m\u001b[0mreshape\u001b[0m\u001b[1;33m(\u001b[0m\u001b[1;33m(\u001b[0m\u001b[1;36m1\u001b[0m\u001b[1;33m,\u001b[0m\u001b[1;36m3\u001b[0m\u001b[1;33m,\u001b[0m\u001b[1;36m3\u001b[0m\u001b[1;33m)\u001b[0m\u001b[1;33m)\u001b[0m\u001b[1;33m\u001b[0m\u001b[1;33m\u001b[0m\u001b[0m\n\u001b[0m",
      "\u001b[1;31mValueError\u001b[0m: cannot reshape array of size 8 into shape (1,3,3)"
     ]
    }
   ],
   "source": [
    "arr = np.array([1, 2, 3, 4, 5, 6, 7, 8])\n",
    "\n",
    "#não existem elementos suficientes para compor o array\n",
    "arr.reshape((1,3,3))"
   ]
  },
  {
   "cell_type": "markdown",
   "id": "e0d9a9e3",
   "metadata": {},
   "source": [
    "### Questão 07"
   ]
  },
  {
   "cell_type": "markdown",
   "id": "5447b906",
   "metadata": {},
   "source": [
    "Percorra o seguinte array utilizando for encaixado:\n",
    "\n",
    "arr = [[[1, 2], [3, 4]], [[5, 6], [7, 8]]]\n",
    "\n",
    "Agora, percorra o mesmo array utilizando a função nditer de numpy."
   ]
  },
  {
   "cell_type": "code",
   "execution_count": 330,
   "id": "73a200a3",
   "metadata": {},
   "outputs": [
    {
     "name": "stdout",
     "output_type": "stream",
     "text": [
      "Com for encaixado\n",
      "1\n",
      "2\n",
      "3\n",
      "4\n",
      "5\n",
      "6\n",
      "7\n",
      "8\n",
      "\n",
      "Com np.nditer()\n",
      "1\n",
      "2\n",
      "3\n",
      "4\n",
      "5\n",
      "6\n",
      "7\n",
      "8\n"
     ]
    }
   ],
   "source": [
    "arr = np.array([[[1, 2], [3, 4]], [[5, 6], [7, 8]]])\n",
    "\n",
    "print('Com for encaixado')\n",
    "for matriz in arr:\n",
    "    for linha in matriz:\n",
    "        for elemento in linha:\n",
    "            print(elemento)\n",
    "\n",
    "print('')\n",
    "\n",
    "print('Com np.nditer()')\n",
    "for elemento in np.nditer(arr):\n",
    "    print(elemento)"
   ]
  },
  {
   "cell_type": "markdown",
   "id": "b0186233",
   "metadata": {},
   "source": [
    "### Questão 08"
   ]
  },
  {
   "cell_type": "markdown",
   "id": "4804e789",
   "metadata": {},
   "source": [
    "Percorra os indexes do seguinte array utilizando for encaixado:\n",
    "\n",
    "arr = [[[1, 2], [3, 4]], [[5, 6], [7, 8]]]\n",
    "\n",
    "Agora faça o mesmo trabalho utilizando a função ndenumerate."
   ]
  },
  {
   "cell_type": "code",
   "execution_count": 331,
   "id": "fb96b745",
   "metadata": {},
   "outputs": [
    {
     "name": "stdout",
     "output_type": "stream",
     "text": [
      "Com for encaixado\n",
      "(0, 0, 0)\n",
      "(0, 0, 1)\n",
      "(0, 1, 0)\n",
      "(0, 1, 1)\n",
      "(0, 0, 1)\n",
      "(0, 0, 2)\n",
      "(0, 1, 0)\n",
      "(0, 1, 1)\n",
      "\n",
      "Com for np.ndenumerate:\n",
      "(0, 0, 0)\n",
      "(0, 0, 1)\n",
      "(0, 1, 0)\n",
      "(0, 1, 1)\n",
      "(1, 0, 0)\n",
      "(1, 0, 1)\n",
      "(1, 1, 0)\n",
      "(1, 1, 1)\n"
     ]
    }
   ],
   "source": [
    "arr = np.array([[[1, 2], [3, 4]], [[4, 6], [7, 8]]])\n",
    "\n",
    "print('Com for encaixado')\n",
    "x,y,z=0,0,0\n",
    "\n",
    "for matriz in arr:\n",
    "    for linha in matriz:\n",
    "        for elemento in linha:\n",
    "            print((x,y,z))\n",
    "            z += 1\n",
    "        y+= 1\n",
    "        z = 0\n",
    "    z += 1\n",
    "    y  = 0\n",
    "\n",
    "print('\\nCom for np.ndenumerate:')\n",
    "for elemento in np.ndenumerate(arr):\n",
    "    print(elemento[0])"
   ]
  },
  {
   "cell_type": "markdown",
   "id": "b94ab1d8",
   "metadata": {},
   "source": [
    "### Questão 09"
   ]
  },
  {
   "cell_type": "markdown",
   "id": "4b74bbf9",
   "metadata": {},
   "source": [
    "Junte os dois seguintes arrays na horizontal:\n",
    "\n",
    "arr1 = [1, 2, 3]\n",
    "\n",
    "arr2 = [4, 5, 6]\n",
    "\n",
    "Depois, os junte verticalmente."
   ]
  },
  {
   "cell_type": "code",
   "execution_count": 332,
   "id": "9c6332dd",
   "metadata": {},
   "outputs": [
    {
     "name": "stdout",
     "output_type": "stream",
     "text": [
      "Usando hstack e vstack\n",
      "hstack:\n",
      "[1 2 3 4 5 6]\n",
      "vstack:\n",
      "[[1 2 3]\n",
      " [4 5 6]]\n",
      "\n",
      "Usando concatenate\n",
      "concatenate (axis=1):\n",
      "[[1 2 3 4 5 6]]\n",
      "concatenate (axis=0):\n",
      "[[1 2 3]\n",
      " [4 5 6]]\n"
     ]
    }
   ],
   "source": [
    "arr1 = np.array([1, 2, 3])\n",
    "arr2 = np.array([4, 5, 6])\n",
    "\n",
    "print('Usando hstack e vstack')\n",
    "print('hstack:')\n",
    "print(np.hstack((arr1, arr2)))\n",
    "print('vstack:')\n",
    "print(np.vstack((arr1, arr2)))\n",
    "\n",
    "#usando concatenate\n",
    "arr1 = arr1.reshape(1,3)\n",
    "arr2 = arr2.reshape(1,3)\n",
    "\n",
    "print('\\nUsando concatenate')\n",
    "print('concatenate (axis=1):')\n",
    "print(np.concatenate((arr1, arr2), axis=1))\n",
    "\n",
    "print('concatenate (axis=0):')\n",
    "print(np.concatenate((arr1, arr2), axis=0))"
   ]
  },
  {
   "cell_type": "markdown",
   "id": "6a8b8188",
   "metadata": {},
   "source": [
    "### Questão 10"
   ]
  },
  {
   "cell_type": "markdown",
   "id": "bda98f4b",
   "metadata": {},
   "source": [
    "Enunciado\n",
    "a) Tranforme o seguinte array 2D em dois arrays 2D:\n",
    "\n",
    "arr = [[1, 2], [3, 4], [5, 6], [7, 8]]\n",
    "\n",
    "b) Transforme o seguinte array em três arrays com apenas uma coluna:\n",
    "\n",
    "arr = [[1, 2, 3], [4, 5, 6], [7, 8, 9]]"
   ]
  },
  {
   "cell_type": "code",
   "execution_count": 4,
   "id": "ac134d53",
   "metadata": {},
   "outputs": [
    {
     "name": "stdout",
     "output_type": "stream",
     "text": [
      "[array([[1, 2],\n",
      "       [3, 4]]), array([[5, 6],\n",
      "       [7, 8]])]\n",
      "[array([[1],\n",
      "       [4],\n",
      "       [7]]), array([[2],\n",
      "       [5],\n",
      "       [8]]), array([[3],\n",
      "       [6],\n",
      "       [9]])]\n"
     ]
    }
   ],
   "source": [
    "#a)\n",
    "arr = np.array([[1, 2], [3, 4], [5, 6], [7, 8]])\n",
    "arr = np.vsplit(arr, 2)\n",
    "#ou, com np.array_split:\n",
    "#arr = np.array_split(arr, 2)\n",
    "print(arr)\n",
    "\n",
    "#b)\n",
    "arr = np.array([[1, 2, 3], [4, 5, 6], [7, 8, 9]])\n",
    "arr = np.hsplit(arr, 3)\n",
    "print(arr)"
   ]
  },
  {
   "cell_type": "markdown",
   "id": "bfbb5f18",
   "metadata": {},
   "source": [
    "### Questão 11"
   ]
  },
  {
   "cell_type": "markdown",
   "id": "347211a2",
   "metadata": {},
   "source": [
    "DESAFIO: Utilizando manipulação de arrays, ache os indexes do array cujo valor possua apenas 2 vogais no nome usando numpy.\n",
    "\n",
    "frutas = ['banana', 'morango, 'uva', 'pitaia', 'abacate', 'abacaxi', 'acerola', 'jenipapo', 'kiwi']"
   ]
  },
  {
   "cell_type": "code",
   "execution_count": 5,
   "id": "e091d549",
   "metadata": {},
   "outputs": [
    {
     "data": {
      "text/plain": [
       "(array([2, 8], dtype=int64),)"
      ]
     },
     "execution_count": 5,
     "metadata": {},
     "output_type": "execute_result"
    }
   ],
   "source": [
    "import numpy as np\n",
    "\n",
    "frutas = np.array(['banana', 'morango', 'uva', 'pitaia', 'abacate', 'abacaxi', 'acerola', 'jenipapo', 'kiwi'])\n",
    "\n",
    "mapper = lambda fruta: True if len([letra for letra in fruta if letra in 'aeiou']) == 2 else False\n",
    "\n",
    "duas_vogais = np.vectorize(mapper)  \n",
    "\n",
    "np.where(duas_vogais(frutas))\n",
    "\n",
    "#ou, com arg where\n",
    "#np.argwhere(duas_vogais(frutas))"
   ]
  },
  {
   "cell_type": "markdown",
   "id": "65aca83b",
   "metadata": {},
   "source": [
    "### Questão 12"
   ]
  },
  {
   "cell_type": "markdown",
   "id": "da7e8a35",
   "metadata": {},
   "source": [
    "DESAFIO: Utilizando manipulação de arrays, vamos seguir um conjunto de passos para organizar alguns dados. Teremos nesse seguinte array uma ordem que segue:\n",
    "\n",
    "[Nome do aluno, idade, 'gênero', signo, altura, nota do 1° semestre, nota do 2° bimestre, se está ou não inscrito no próximo ano da escola, nome do outro aluno, idade do outro aluno...]\n",
    "\n",
    "arr = ['Amélia', 13, 'F', 'peixes', 1.51, 9, 7, True, 'Bruno', 14, 'O', 'leão', 1.60, 4, 10, False, 'João', 14, 'M', 'escorpião', 1.58, 8, 9, True, 'Jordana', 13, 'F', 'escorpião', 1.72, 9, 9, False]\n",
    "\n",
    "a) Enumere os indexes de todas as informações que são do tipo string.\n",
    "\n",
    "b) Separe essas informações do objeto arr de forma que cada aluno tenha seu próprio array.\n",
    "\n",
    "c) Separe em duas colunas, a primeira com o nome, a idade, o gênero e o signo e a segunda com a altura, nota do primeiro bimestre, nota do segundo bimestre e se está ou não inscrito no próximo ano.\n",
    "\n",
    "d) Elimine o gênero de todos os arrays cujos alunos tem menos de 14 anos."
   ]
  },
  {
   "cell_type": "code",
   "execution_count": 43,
   "id": "79e96c17",
   "metadata": {},
   "outputs": [
    {
     "name": "stdout",
     "output_type": "stream",
     "text": [
      "(array([ 0,  2,  3,  7,  8, 10, 11, 15, 16, 18, 19, 23, 24, 26, 27, 31],\n",
      "      dtype=int64),)\n",
      "[array(['Amélia', '13', 'F', 'peixes', '1.51', '9', '7', 'True'],\n",
      "      dtype='<U32'), array(['Bruno', '14', 'O', 'leão', '1.6', '4', '10', 'False'],\n",
      "      dtype='<U32'), array(['João', '14', 'M', 'escorpião', '1.58', '8', '9', 'True'],\n",
      "      dtype='<U32'), array(['Jordana', '13', 'F', 'escorpião', '1.72', '9', '9', 'False'],\n",
      "      dtype='<U32')]\n"
     ]
    },
    {
     "data": {
      "text/plain": [
       "[[array(['Amélia', '13', 'F', 'peixes'], dtype='<U32'),\n",
       "  array(['1.51', '9', '7', 'True'], dtype='<U32')],\n",
       " [array(['Bruno', '14', 'O', 'leão'], dtype='<U32'),\n",
       "  array(['1.6', '4', '10', 'False'], dtype='<U32')],\n",
       " [array(['João', '14', 'M', 'escorpião'], dtype='<U32'),\n",
       "  array(['1.58', '8', '9', 'True'], dtype='<U32')],\n",
       " [array(['Jordana', '13', 'F', 'escorpião'], dtype='<U32'),\n",
       "  array(['1.72', '9', '9', 'False'], dtype='<U32')]]"
      ]
     },
     "metadata": {},
     "output_type": "display_data"
    },
    {
     "name": "stdout",
     "output_type": "stream",
     "text": [
      "[[array(['Amélia', '13', 'peixes'], dtype='<U32'), array(['1.51', '9', '7', 'True'], dtype='<U32')], [array(['Bruno', '14', 'O', 'leão'], dtype='<U32'), array(['1.6', '4', '10', 'False'], dtype='<U32')], [array(['João', '14', 'M', 'escorpião'], dtype='<U32'), array(['1.58', '8', '9', 'True'], dtype='<U32')], [array(['Jordana', '13', 'escorpião'], dtype='<U32'), array(['1.72', '9', '9', 'False'], dtype='<U32')]]\n"
     ]
    }
   ],
   "source": [
    "arr = np.array(['Amélia', 13, 'F', 'peixes', 1.51, 9, 7, True, 'Bruno', 14, 'O', 'leão', 1.60, 4, 10, False, 'João', 14, 'M', 'escorpião', 1.58, 8, 9, True, 'Jordana', 13, 'F', 'escorpião', 1.72, 9, 9, False])\n",
    "arr\n",
    "\n",
    "IDADE=1\n",
    "GENERO=2\n",
    "\n",
    "#a)\n",
    "mapper = lambda elemento: elemento.isalpha()\n",
    "acha_string = np.vectorize(mapper)\n",
    "print(np.where(acha_string(arr)))\n",
    "\n",
    "#b)\n",
    "arr = np.array_split(arr, len(arr)/8)\n",
    "print(arr)\n",
    "\n",
    "#c)\n",
    "for i in range(len(arr)):\n",
    "    arr[i] = np.hsplit(arr[i],2)\n",
    "    \n",
    "display(arr)\n",
    "\n",
    "#d)\n",
    "for i in range(len(arr)):\n",
    "    if int(arr[i][0][IDADE])<14:\n",
    "        arr[i][0] = np.delete(arr[i][0],GENERO)\n",
    "print(arr)"
   ]
  },
  {
   "cell_type": "code",
   "execution_count": 44,
   "id": "dd20d189",
   "metadata": {},
   "outputs": [
    {
     "data": {
      "text/plain": [
       "[array(['Amélia', '13', 'peixes'], dtype='<U32'),\n",
       " array(['1.51', '9', '7', 'True'], dtype='<U32')]"
      ]
     },
     "execution_count": 44,
     "metadata": {},
     "output_type": "execute_result"
    }
   ],
   "source": [
    "arr[0] #uma linha"
   ]
  },
  {
   "cell_type": "code",
   "execution_count": 41,
   "id": "4c08275e",
   "metadata": {},
   "outputs": [
    {
     "data": {
      "text/plain": [
       "array(['Amélia', '13', 'F', 'peixes'], dtype='<U32')"
      ]
     },
     "execution_count": 41,
     "metadata": {},
     "output_type": "execute_result"
    }
   ],
   "source": [
    "arr[0][0] #a primeira com o nome, a idade, o gênero e o signo"
   ]
  },
  {
   "cell_type": "code",
   "execution_count": 42,
   "id": "6e743839",
   "metadata": {},
   "outputs": [
    {
     "data": {
      "text/plain": [
       "array(['1.51', '9', '7', 'True'], dtype='<U32')"
      ]
     },
     "execution_count": 42,
     "metadata": {},
     "output_type": "execute_result"
    }
   ],
   "source": [
    "arr[0][1]#a segunda com a altura, nota do primeiro bimestre, nota do segundo bimestre e se está ou não inscrito no próximo ano."
   ]
  },
  {
   "cell_type": "code",
   "execution_count": null,
   "id": "de8ee5ff",
   "metadata": {},
   "outputs": [],
   "source": []
  }
 ],
 "metadata": {
  "kernelspec": {
   "display_name": "Python 3 (ipykernel)",
   "language": "python",
   "name": "python3"
  },
  "language_info": {
   "codemirror_mode": {
    "name": "ipython",
    "version": 3
   },
   "file_extension": ".py",
   "mimetype": "text/x-python",
   "name": "python",
   "nbconvert_exporter": "python",
   "pygments_lexer": "ipython3",
   "version": "3.8.11"
  }
 },
 "nbformat": 4,
 "nbformat_minor": 5
}
