{
 "cells": [
  {
   "cell_type": "code",
   "execution_count": 1,
   "id": "9826bf68",
   "metadata": {
    "ExecuteTime": {
     "end_time": "2021-09-06T15:57:16.403327Z",
     "start_time": "2021-09-06T15:38:34.278205Z"
    }
   },
   "outputs": [
    {
     "name": "stdout",
     "output_type": "stream",
     "text": [
      "^C\n"
     ]
    }
   ],
   "source": [
    "# run local notebook\n",
    "!streamlit run nasdaq_fbprophet.py"
   ]
  },
  {
   "cell_type": "code",
   "execution_count": null,
   "id": "4723e6bf",
   "metadata": {},
   "outputs": [],
   "source": []
  }
 ],
 "metadata": {
  "kernelspec": {
   "display_name": "Python 3 (ipykernel)",
   "language": "python",
   "name": "python3"
  },
  "language_info": {
   "codemirror_mode": {
    "name": "ipython",
    "version": 3
   },
   "file_extension": ".py",
   "mimetype": "text/x-python",
   "name": "python",
   "nbconvert_exporter": "python",
   "pygments_lexer": "ipython3",
   "version": "3.8.11"
  }
 },
 "nbformat": 4,
 "nbformat_minor": 5
}
