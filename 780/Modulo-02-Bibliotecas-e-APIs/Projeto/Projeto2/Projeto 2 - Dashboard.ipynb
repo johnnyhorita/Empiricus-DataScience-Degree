{
 "cells": [
  {
   "cell_type": "markdown",
   "id": "3d8d51e4-3a1f-419d-ba69-15c1d6e4cc02",
   "metadata": {},
   "source": [
    "## Projeto 2: Construindo um dashboard\n",
    "Vimos que é possível construir gráficos dinâmicos em aula.\n",
    "\n",
    "Agora é a oportunidade de juntar o que aprendemos de pandas, seaborn, e plotly. Integrando num dashboard que será hospedado no streamlit.\n",
    "\n",
    "### Objetivo:\n",
    "- Construir um dashboard dinâmico com dados de interesse\n",
    "    - Ações\n",
    "    - Casos de COVID\n",
    "    - Viagens da Uber\n",
    "    - Qualquer tipo de dados!\n",
    "- Aplicar boas práticas de desenvolvimento com pandas e gráficos\n",
    "- Escolher a palheta de cor adequada\n",
    "- Escolher gráficos adequados\n",
    "- Criar uma estória para o usuário com os dados  \n",
    "\n",
    "#### Objetivo extra\n",
    "- Publicar o dash\n",
    "Como publicar o dash?  \n",
    "https://docs.streamlit.io/en/stable/deploy_streamlit_app.html\n",
    "\n",
    "\n",
    "\n",
    "Não precisamos criar 10 gráficos distintos, ou um com muitas informações. As vezes um ou dois gráficos já é o suficiente para passar a mensagem de forma objetiva!\n",
    "\n",
    "link do streamlit  \n",
    "https://streamlit.io/  \n",
    "A documentação é bem detalhada! Olhe com atenção e veja as possibilidades de botões, filtros e gráficos.  \n",
    "https://docs.streamlit.io/en/stable/\n",
    "\n",
    "\n",
    "\n",
    "### Dados:\n",
    "`yfinance` modulo para extração de valores de ações.\n",
    "\n",
    "https://data.world/datasets/uber\n",
    "\n",
    "https://ourworldindata.org/\n"
   ]
  },
  {
   "cell_type": "code",
   "execution_count": null,
   "id": "e317bd38-7ea8-472a-8cee-a821f451469b",
   "metadata": {},
   "outputs": [],
   "source": []
  }
 ],
 "metadata": {
  "kernelspec": {
   "display_name": "Python 3 (ipykernel)",
   "language": "python",
   "name": "python3"
  },
  "language_info": {
   "codemirror_mode": {
    "name": "ipython",
    "version": 3
   },
   "file_extension": ".py",
   "mimetype": "text/x-python",
   "name": "python",
   "nbconvert_exporter": "python",
   "pygments_lexer": "ipython3",
   "version": "3.8.11"
  }
 },
 "nbformat": 4,
 "nbformat_minor": 5
}
