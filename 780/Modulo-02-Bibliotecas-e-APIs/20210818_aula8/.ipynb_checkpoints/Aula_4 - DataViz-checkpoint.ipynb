{
 "cells": [
  {
   "cell_type": "markdown",
   "id": "85480839-fe34-4869-b72f-6503019e1eb5",
   "metadata": {},
   "source": [
    "# Aula 4 - Visualização de dados (Dataviz)\n",
    "\n",
    "Na aula de hoje, vamos explorar os seguintes tópicos em Python:\n",
    "\n",
    "- 1) Dataviz\n",
    "- 2) Matplotlib\n",
    "- 3) Seaborn\n",
    "- 4) Sua vez de praticar!\n",
    "- 5) Estruturas adicionais do matplotlib"
   ]
  },
  {
   "cell_type": "markdown",
   "id": "ed85df65-22fc-4ad2-b20b-8d7996acf33f",
   "metadata": {},
   "source": [
    "## 1) Dataviz\n",
    "\n",
    "Como discutimos desde a primeira aula, uma das atribuições do cientista de dados é **apresentar os resultados e conclusões** das análises realizadas, de forma o mais **intuitiva e visual** possível.\n",
    "\n",
    "Afinal, não seria muito interessante apresentar equações complicadas e tabelas \"cruas\" para um comitê executivo, não é mesmo?\n",
    "\n",
    "Por esse motivo, é muito importante que sejam aplicadas técnicas de **visualização de dados**. Esta é uma área de data science por si só, muitas vezes é chamada de **dataviz**, e é de enorme importância para que um projeto de data science seja bem sucedido e **bem comunicado**!\n",
    "\n",
    "Além disso, a habilidade de visualizar os dados ajuda muito no processo de **EDA**, como discutimos anteriormente, afinal, representações visuais dos dados sempre são mais simples e intuitivas de serem interpretadas!\n",
    "\n",
    "Então, os principais objetivos do dataviz são:\n",
    "\n",
    "- Auxiliar na EDA; Exploratory Data Analysis\n",
    "- Auxiliar na apresentação de resultados.\n",
    "\n",
    "Vamos agora aprender algumas ferramentas de dataviz!"
   ]
  },
  {
   "cell_type": "markdown",
   "id": "55c1752c-c622-48de-9566-6726aedb6864",
   "metadata": {},
   "source": [
    "## um site bem bacana\n",
    "\n",
    "https://www.python-graph-gallery.com/"
   ]
  },
  {
   "cell_type": "markdown",
   "id": "69beaabc-49f8-472a-b2fe-b28db8b47adc",
   "metadata": {},
   "source": [
    "## 2) Matplotlib\n",
    "\n",
    "O matplotlib é a biblioteca mais popular para visualização de dados em Python. Ela permite a geração de diferentes tipos de gráfico, como gráficos de linha, de barras, de pizza, de dispersão e histogramas.\n",
    "\n",
    "Além disso, a matplotlib permite personalizar os gráficos de diversas maneiras, acrescentando **múltiplas fontes de dados**, **trocando cor**, **formato dos marcadores** ou gerando **diversos gráficos na mesma imagem**.\n",
    "\n",
    "Vamos aprender como utilizá-la!"
   ]
  },
  {
   "cell_type": "code",
   "execution_count": null,
   "id": "29924584-ea2a-4636-8fc2-1548c3d6fc64",
   "metadata": {},
   "outputs": [],
   "source": [
    "# bibliotecas de processamento de dados\n",
    "\n",
    "import numpy as np\n",
    "import pandas as pd"
   ]
  },
  {
   "cell_type": "code",
   "execution_count": null,
   "id": "88378960-7119-4880-b60e-b21cacd54f23",
   "metadata": {},
   "outputs": [],
   "source": [
    "# importando o matplotlib\n",
    "\n",
    "import matplotlib.pyplot as plt"
   ]
  },
  {
   "cell_type": "markdown",
   "id": "5826925e-d673-4c16-a8c0-d63b9db6c3c1",
   "metadata": {},
   "source": [
    "Vamos começar com uns gráficos simples...\n",
    "\n",
    "A forma mais simples de criar gráficos com o matplotlib é a partir de **listas**,**arrays**, etc.\n",
    "\n",
    "A ideia é que sejam dados os pontos **(x, y)** que são então plotados"
   ]
  },
  {
   "cell_type": "code",
   "execution_count": null,
   "id": "2ddcb7f6-97cb-4aba-8989-1f5e4178a55e",
   "metadata": {},
   "outputs": [],
   "source": [
    "# 1"
   ]
  },
  {
   "cell_type": "markdown",
   "id": "d793d763-005a-45c4-9663-a6e997deb8c8",
   "metadata": {},
   "source": [
    "Note que o gráfico ficou meio \"serrilhado\"... Isso acontece porque pegamos apenas 4 pontos para fazer o gráfico, que foram ligados por linhas retas. \n",
    "\n",
    "Se quisermos um gráfico mais suave, é interessante usar o numpy!"
   ]
  },
  {
   "cell_type": "code",
   "execution_count": null,
   "id": "7b0fe0be-4f56-4fde-b6f8-b00e1079d8dc",
   "metadata": {},
   "outputs": [],
   "source": [
    "# 2"
   ]
  },
  {
   "cell_type": "code",
   "execution_count": null,
   "id": "20b97a0d-3212-4d43-86ae-55b9eca481c2",
   "metadata": {},
   "outputs": [],
   "source": [
    "# 3"
   ]
  },
  {
   "cell_type": "code",
   "execution_count": null,
   "id": "b79be847-fe82-485c-88bf-780afb7a2420",
   "metadata": {},
   "outputs": [],
   "source": [
    "# 4"
   ]
  },
  {
   "cell_type": "code",
   "execution_count": null,
   "id": "6a1c6acd-f175-4354-bdba-6e07aa2b1d5e",
   "metadata": {},
   "outputs": [],
   "source": [
    "# 5"
   ]
  },
  {
   "cell_type": "code",
   "execution_count": null,
   "id": "679b349f-0ead-4350-9b8f-3c8cb9c5770e",
   "metadata": {},
   "outputs": [],
   "source": [
    "# 6"
   ]
  },
  {
   "cell_type": "markdown",
   "id": "c04262ce-fa08-4ae8-8564-049f22617281",
   "metadata": {},
   "source": [
    "Vamos fazer uns outros gráficos, pra praticar:"
   ]
  },
  {
   "cell_type": "code",
   "execution_count": null,
   "id": "149a7264-643b-4da0-aa24-8e2cc28fd9e0",
   "metadata": {},
   "outputs": [],
   "source": [
    "# 7"
   ]
  },
  {
   "cell_type": "code",
   "execution_count": null,
   "id": "78a5f101-26e7-4520-a0e6-90cdc7e3b4de",
   "metadata": {},
   "outputs": [],
   "source": [
    "# 8"
   ]
  },
  {
   "cell_type": "code",
   "execution_count": null,
   "id": "b7abd340-532a-402f-b50a-26be897eb3fc",
   "metadata": {},
   "outputs": [],
   "source": [
    "# 9"
   ]
  },
  {
   "cell_type": "code",
   "execution_count": null,
   "id": "f3610b7f-d857-4062-b95a-99e5f5278f19",
   "metadata": {},
   "outputs": [],
   "source": [
    "# 10"
   ]
  },
  {
   "cell_type": "code",
   "execution_count": 1,
   "id": "ff36854d-d536-4140-8322-df27a7abd1b3",
   "metadata": {},
   "outputs": [],
   "source": [
    "# 11"
   ]
  },
  {
   "cell_type": "code",
   "execution_count": 2,
   "id": "0a428c7c-11c8-4183-9d67-109de2925edf",
   "metadata": {},
   "outputs": [],
   "source": [
    "#12"
   ]
  },
  {
   "cell_type": "code",
   "execution_count": 3,
   "id": "18ea2ba6-7fa7-4433-a0a6-7294117d69f2",
   "metadata": {},
   "outputs": [],
   "source": [
    "# 13"
   ]
  },
  {
   "cell_type": "code",
   "execution_count": 4,
   "id": "30ebe0ce-5038-410e-bf2a-46ef26cb586c",
   "metadata": {},
   "outputs": [],
   "source": [
    "# 14"
   ]
  },
  {
   "cell_type": "code",
   "execution_count": 5,
   "id": "930908b6-1416-4772-a6fc-4e63e36d63ad",
   "metadata": {},
   "outputs": [],
   "source": [
    "# 15"
   ]
  },
  {
   "cell_type": "code",
   "execution_count": 6,
   "id": "346944fd-8f88-4cf6-aace-0790b9e37dd0",
   "metadata": {},
   "outputs": [],
   "source": [
    "# 16"
   ]
  },
  {
   "cell_type": "code",
   "execution_count": 7,
   "id": "770d075a-051f-48f1-8cf8-3e614ed059d9",
   "metadata": {},
   "outputs": [],
   "source": [
    "# 17"
   ]
  },
  {
   "cell_type": "code",
   "execution_count": 8,
   "id": "e0b35cf8-6664-4e38-add3-ae8b38fee900",
   "metadata": {},
   "outputs": [],
   "source": [
    "# 18"
   ]
  },
  {
   "cell_type": "markdown",
   "id": "7d10bcb8-c017-4b23-994c-e00b4044d580",
   "metadata": {},
   "source": [
    "O matplotlib nos permite **alterar o tamanho do gráfico** e também **plotar mais de uma curva em um mesmo eixo**"
   ]
  },
  {
   "cell_type": "code",
   "execution_count": 9,
   "id": "e2ac8df3-fdcd-46f8-9562-f35c2bfc5f7d",
   "metadata": {},
   "outputs": [],
   "source": [
    "# 19"
   ]
  },
  {
   "cell_type": "markdown",
   "id": "f5f92f66-b159-425d-af45-7db9d0ffb0fc",
   "metadata": {},
   "source": [
    "Para fazermos gráficos em eixos separados, usamos o `plt.show()`, que finaliza a figura e a exibe"
   ]
  },
  {
   "cell_type": "code",
   "execution_count": 10,
   "id": "99677b89-9dd8-4760-aee4-b1d6ae6b5912",
   "metadata": {},
   "outputs": [],
   "source": [
    "# 20"
   ]
  },
  {
   "cell_type": "code",
   "execution_count": 11,
   "id": "56004a0f-f95d-4785-99f5-a6f37dc54f7f",
   "metadata": {},
   "outputs": [],
   "source": [
    "# 21\n"
   ]
  },
  {
   "cell_type": "markdown",
   "id": "5510a189-eb1a-4dd0-89bd-efcdc7c8fa76",
   "metadata": {},
   "source": [
    "Note que a imagem foi salva com umas bordas que podem ser indesejáveis... Pra corrigir isso, sete o parâmetro **bbox_inches = \"tight\"**"
   ]
  },
  {
   "cell_type": "code",
   "execution_count": null,
   "id": "35888c38-1175-4e82-bbf6-c3c813f6fa78",
   "metadata": {},
   "outputs": [],
   "source": [
    "# 22"
   ]
  },
  {
   "cell_type": "markdown",
   "id": "db10eacb-691a-43b5-a676-f761e0978cc0",
   "metadata": {},
   "source": [
    "Também é possível adicionar títulos ao gráfico e aos eixos"
   ]
  },
  {
   "cell_type": "code",
   "execution_count": null,
   "id": "fd4ab08b-1714-44cd-88ba-f78c5039b78d",
   "metadata": {},
   "outputs": [],
   "source": [
    "# 23"
   ]
  },
  {
   "cell_type": "markdown",
   "id": "1d96628e-eb0c-45bd-9379-ae533f5a0713",
   "metadata": {},
   "source": [
    "É possível mover as legendas com os argumentos do **plt.legend()**"
   ]
  },
  {
   "cell_type": "code",
   "execution_count": null,
   "id": "d7e79d84-5cad-4909-8680-41938abcfcbb",
   "metadata": {},
   "outputs": [],
   "source": [
    "# 24"
   ]
  },
  {
   "cell_type": "code",
   "execution_count": null,
   "id": "9805ea18-4761-4a9c-8ed0-e9fbe26d804c",
   "metadata": {},
   "outputs": [],
   "source": [
    "# 25"
   ]
  },
  {
   "cell_type": "markdown",
   "id": "4261d695-e84f-4c01-b247-0c6eaf642e71",
   "metadata": {},
   "source": [
    "Para maiores informações sobre legendas, [clique aqui!](https://matplotlib.org/tutorials/intermediate/legend_guide.html)\n",
    "\n",
    "Você encontra outros exemplos de legenda [aqui.](http://jb-blog.readthedocs.io/en/latest/posts/0012-matplotlib-legend-outdide-plot.html)"
   ]
  },
  {
   "cell_type": "markdown",
   "id": "3c86d422-04d8-4382-9463-b3bdab582250",
   "metadata": {},
   "source": [
    "É possível mudar a cor das curvas, bem como o estilo, usando os [argumentos de estilo](https://matplotlib.org/2.1.2/api/_as_gen/matplotlib.lines.Line2D.html).\n",
    "\n",
    "Dica: para escolha de cores, use o **color picker do google** para pegar o código HEX"
   ]
  },
  {
   "cell_type": "code",
   "execution_count": null,
   "id": "400bdd49-8aad-40ed-bf08-b68fa32ed835",
   "metadata": {},
   "outputs": [],
   "source": [
    "# 26"
   ]
  },
  {
   "cell_type": "markdown",
   "id": "c4948f0d-a16a-43d6-9d11-627bc4fbd15a",
   "metadata": {},
   "source": [
    "## 3) Seaborn\n",
    "\n",
    "Vamos agora conhecer outra biblioteca de dataviz: o **seaborn**.\n",
    "\n",
    "Essa biblioteca é construída usando a matplotlib, e tem como foco produzir **gráficos estatísticos** como por exemplo:\n",
    "\n",
    "- plots de distribuição\n",
    "- plots categóricos\n",
    "- plots de matriz\n",
    "\n",
    "Vamos ver exemplos de usabilidade dos tipos de gráficos acima!\n",
    "\n",
    "\n",
    "Para ilustrar esses gráficos, vamos utilizar alguns datasets que já vêm com o prório seaborn!"
   ]
  },
  {
   "cell_type": "markdown",
   "id": "96ab8416-3f87-4fc3-92d7-64d0da0698ab",
   "metadata": {},
   "source": [
    "O seaborn passou por algumas modificações recentemente... Pra garantir que vamos ter as mesmas funcionalidades, é importante que todos estejamos com a versão `v.0.11` ou maior."
   ]
  },
  {
   "cell_type": "markdown",
   "id": "7ea116de-2de4-47b6-b320-8b9c948a25b0",
   "metadata": {},
   "source": [
    "Para quem precisar atualizar o seaborn, faça o seguinte (em uma célula aqui do jupyter mesmo):\n",
    "\n",
    "`!pip install seaborn --upgrade`"
   ]
  },
  {
   "cell_type": "code",
   "execution_count": null,
   "id": "0b9cf758-8bcf-422f-ab29-51738494b172",
   "metadata": {},
   "outputs": [],
   "source": [
    "# importa o seaborn\n",
    "\n",
    "import seaborn as sns"
   ]
  },
  {
   "cell_type": "code",
   "execution_count": null,
   "id": "6e722e11-1441-4cab-9679-14dec46a7825",
   "metadata": {},
   "outputs": [],
   "source": [
    "# 27"
   ]
  },
  {
   "cell_type": "markdown",
   "id": "3fb87783-d7fd-4ac8-819f-82ffbe8b7e7e",
   "metadata": {},
   "source": [
    "### Plots de distribuição\n",
    "\n",
    "Como o nome indica, são gráficos que nos auxiliam a visualizar a **distribuição dos dados**, ou seja, como os dados estão distribuídos nos diferentes valores que determinadas variáveis podem assumir.\n"
   ]
  },
  {
   "cell_type": "code",
   "execution_count": null,
   "id": "4678ca62-7341-482c-9014-0d43a20fc983",
   "metadata": {},
   "outputs": [],
   "source": [
    "# 28\n"
   ]
  },
  {
   "cell_type": "code",
   "execution_count": 12,
   "id": "5ecaf84c-811c-44ee-b44a-ebae19651783",
   "metadata": {},
   "outputs": [],
   "source": [
    "# 29"
   ]
  },
  {
   "cell_type": "markdown",
   "id": "eb416125-27e1-47b5-86bc-b6c777f7301c",
   "metadata": {},
   "source": [
    "Esse é um dataframe que contém informações sobre mesas de um restaurante e as gorjetas (tips) que as pessoas da mesa deram, juntamente com outras informações relativas ao pedido.\n",
    "\n",
    "Esses dados podem ser utilizados, por exemplo, para prever o quanto de gorjeta se espera receber de determinada mesa!"
   ]
  },
  {
   "cell_type": "code",
   "execution_count": null,
   "id": "7966120c-5b29-4454-9a6c-873ede618368",
   "metadata": {},
   "outputs": [],
   "source": [
    "# 30"
   ]
  },
  {
   "cell_type": "code",
   "execution_count": null,
   "id": "4a5003e1-0f29-4bcf-a6e8-6db3eeab3b44",
   "metadata": {},
   "outputs": [],
   "source": [
    "# 31"
   ]
  },
  {
   "cell_type": "markdown",
   "id": "a04a718a-44c2-411a-a8b8-b9e05c08c00b",
   "metadata": {},
   "source": [
    "__Histplot (antigo \"distplot\")__\n",
    "\n",
    "Este tipo de gráfico ilustra a **distribuição dos dados numéricos**, através de um histograma.\n",
    "\n",
    "Por padrão, o gráfico não mais produz automaticamente a curva [KDE](https://pt.wikipedia.org/wiki/Estimativa_de_densidade_kernel) da distribuição, isso é, uma **estimativa para a função densidade de probabilidade da distribuição.**"
   ]
  },
  {
   "cell_type": "code",
   "execution_count": 13,
   "id": "3f00559d-656a-4330-b819-256fcf319430",
   "metadata": {},
   "outputs": [],
   "source": [
    "# 32"
   ]
  },
  {
   "cell_type": "markdown",
   "id": "5d48a194-ac7d-4e7d-a65e-91ef12ad752f",
   "metadata": {},
   "source": [
    "KDE - kernel density estimate"
   ]
  },
  {
   "cell_type": "code",
   "execution_count": 14,
   "id": "9c47f494-00d0-460d-ae08-a706e2028bbc",
   "metadata": {},
   "outputs": [],
   "source": [
    "# 33"
   ]
  },
  {
   "cell_type": "code",
   "execution_count": 15,
   "id": "abbd5f99-0798-469c-bef7-bbf6bcdf399f",
   "metadata": {},
   "outputs": [],
   "source": [
    "# 34"
   ]
  },
  {
   "cell_type": "code",
   "execution_count": 16,
   "id": "a5f4646d-4440-48e2-a1f9-636f2dd1ecb1",
   "metadata": {},
   "outputs": [],
   "source": [
    "# 35"
   ]
  },
  {
   "cell_type": "code",
   "execution_count": 17,
   "id": "a4d8fc4e-36b7-4208-9a0d-ec7162c779d3",
   "metadata": {},
   "outputs": [],
   "source": [
    "# 36"
   ]
  },
  {
   "cell_type": "code",
   "execution_count": 18,
   "id": "6a2e087a-0351-415f-bd9e-20bd83cdb09b",
   "metadata": {},
   "outputs": [],
   "source": [
    "# 37"
   ]
  },
  {
   "cell_type": "code",
   "execution_count": 19,
   "id": "4a8334dc-4a51-42f0-abba-2377f2a21b81",
   "metadata": {},
   "outputs": [],
   "source": [
    "# 38"
   ]
  },
  {
   "cell_type": "code",
   "execution_count": 20,
   "id": "9cac23cc-0a3f-4457-a9af-cd467f171103",
   "metadata": {},
   "outputs": [],
   "source": [
    "# 39"
   ]
  },
  {
   "cell_type": "markdown",
   "id": "fb560718-929d-4271-a3ae-d56b3ed0b18a",
   "metadata": {},
   "source": [
    "A legenda tá bem em cima do gráfico, grrrr ... pra colocar ela pra fora, não é tão simples\n",
    "\n",
    "Encontrei a solução nesse post: https://stackoverflow.com/questions/66623746/no-access-to-legend-of-sns-histplot-used-with-data-normalisation"
   ]
  },
  {
   "cell_type": "code",
   "execution_count": 21,
   "id": "ee891d15-4e4a-4763-8d0a-dc49281c26d7",
   "metadata": {},
   "outputs": [],
   "source": [
    "# 40"
   ]
  },
  {
   "cell_type": "code",
   "execution_count": null,
   "id": "5276afdf-28a1-4d59-9e3a-b653b30eef7d",
   "metadata": {},
   "outputs": [],
   "source": [
    "# 41"
   ]
  },
  {
   "cell_type": "markdown",
   "id": "53daef68-dd44-415a-990a-5d6552505a64",
   "metadata": {},
   "source": [
    "Aplique essa técnica a todos os gráficos do seaborn que vc quiser posicionar a legenda fora do eixo ;)"
   ]
  },
  {
   "cell_type": "code",
   "execution_count": null,
   "id": "13641ac7-969a-4149-8165-8cf77efaf1a9",
   "metadata": {},
   "outputs": [],
   "source": [
    "# 42"
   ]
  },
  {
   "cell_type": "code",
   "execution_count": 23,
   "id": "401e4ce4-0f76-4fcc-9c19-2a760195ba77",
   "metadata": {},
   "outputs": [],
   "source": [
    "# 43"
   ]
  },
  {
   "cell_type": "code",
   "execution_count": 24,
   "id": "8f29cef3-0de6-4b1f-b29e-4f4dd9410767",
   "metadata": {},
   "outputs": [],
   "source": [
    "# 44"
   ]
  },
  {
   "cell_type": "code",
   "execution_count": null,
   "id": "c378edaa-98ae-4e05-b515-3ac7ec07c82b",
   "metadata": {},
   "outputs": [],
   "source": [
    "# 45"
   ]
  },
  {
   "cell_type": "code",
   "execution_count": null,
   "id": "0c4b857f-93a7-4575-a4e6-aa3fae2e995c",
   "metadata": {},
   "outputs": [],
   "source": [
    "# 46"
   ]
  },
  {
   "cell_type": "code",
   "execution_count": null,
   "id": "ae4c0847-fddb-4fed-8a37-d1ca4e72fae8",
   "metadata": {},
   "outputs": [],
   "source": [
    "# 47"
   ]
  },
  {
   "cell_type": "code",
   "execution_count": 25,
   "id": "ec842569-6e35-4a6e-826c-d27b14d55ff8",
   "metadata": {},
   "outputs": [],
   "source": [
    "# 48"
   ]
  },
  {
   "cell_type": "code",
   "execution_count": 26,
   "id": "dce2654e-9e74-4e16-be38-af744e2a66f5",
   "metadata": {},
   "outputs": [],
   "source": [
    "# 49"
   ]
  },
  {
   "cell_type": "code",
   "execution_count": 27,
   "id": "71548609-d334-4c24-8c7c-fb6126380a3e",
   "metadata": {},
   "outputs": [],
   "source": [
    "# 50"
   ]
  },
  {
   "cell_type": "code",
   "execution_count": 28,
   "id": "be136a4f-b396-4553-a00d-a4b9436f9216",
   "metadata": {},
   "outputs": [],
   "source": [
    "# 51"
   ]
  },
  {
   "cell_type": "code",
   "execution_count": 29,
   "id": "2295c5cd-0c27-407b-b72b-e7faef33a172",
   "metadata": {},
   "outputs": [],
   "source": [
    "# 52"
   ]
  },
  {
   "cell_type": "markdown",
   "id": "da68a7b3-1726-48b0-abab-e23e32338ed4",
   "metadata": {},
   "source": [
    "Vamos ver a distribuição de outras colunas numéricas..."
   ]
  },
  {
   "cell_type": "code",
   "execution_count": 30,
   "id": "0ee46b8d-6a03-4086-a9ca-40394a637b86",
   "metadata": {},
   "outputs": [],
   "source": [
    "# 53"
   ]
  },
  {
   "cell_type": "markdown",
   "id": "215e931d-8a1e-4ecb-95ba-ac4f6cc08cfc",
   "metadata": {},
   "source": [
    "### exercicio - plot de distribuição (histograma) pras demais colunas numericas, acima"
   ]
  },
  {
   "cell_type": "code",
   "execution_count": null,
   "id": "83b03892-578e-4f7f-a903-d3065445845c",
   "metadata": {},
   "outputs": [],
   "source": [
    "# 54"
   ]
  },
  {
   "cell_type": "markdown",
   "id": "74ee5935-81d7-4dd6-bd42-c2f61c71ca89",
   "metadata": {},
   "source": [
    "__Jointplot__\n",
    "\n",
    "O jointplot é um gráfico que relaciona duas colunas diferentes.\n",
    "\n",
    "Em cada um dos eixos são exibidas as distribuições das respectivas colunas, e entre os eixos é mostrado algum tipo de gráfico para os pares de pontos das duas colunas.\n",
    "\n",
    "Este gráfico no meio é definido pelo parâmetro \"kind\", que pode assumir 6 valores diferentes.\n",
    "\n",
    "Através desse gráfico podemos rapidamente examinar a **relação entre as diferentes variáveis**! Dessa forma, podemos já saber o que esperar das análises posteriores"
   ]
  },
  {
   "cell_type": "code",
   "execution_count": 31,
   "id": "35d6ec21-b21e-44c7-a5f2-e6e33bb765e9",
   "metadata": {},
   "outputs": [],
   "source": [
    "# 55"
   ]
  },
  {
   "cell_type": "code",
   "execution_count": null,
   "id": "b4829f10-1100-4879-a100-91c9419c22c5",
   "metadata": {},
   "outputs": [],
   "source": [
    "# 56"
   ]
  },
  {
   "cell_type": "code",
   "execution_count": 32,
   "id": "6496ed63-5806-4902-b6a4-c6fd4d0c602b",
   "metadata": {},
   "outputs": [],
   "source": [
    "# 57"
   ]
  },
  {
   "cell_type": "code",
   "execution_count": 33,
   "id": "ae9d0fea-e124-4d5d-b540-1f2e802e7678",
   "metadata": {},
   "outputs": [],
   "source": [
    "# 58"
   ]
  },
  {
   "cell_type": "code",
   "execution_count": 34,
   "id": "bd6d4744-ac66-4f4a-8314-d937b265745b",
   "metadata": {},
   "outputs": [],
   "source": [
    "# 59"
   ]
  },
  {
   "cell_type": "code",
   "execution_count": 35,
   "id": "57813983-8fd3-4ccf-a457-a2d0e60ac869",
   "metadata": {},
   "outputs": [],
   "source": [
    "# 60"
   ]
  },
  {
   "cell_type": "code",
   "execution_count": 36,
   "id": "1c6b91d6-13dd-429d-9dcc-33a07488bbdd",
   "metadata": {},
   "outputs": [],
   "source": [
    "# 61"
   ]
  },
  {
   "cell_type": "code",
   "execution_count": 37,
   "id": "85afffbb-db39-4e90-86c2-4a93da160412",
   "metadata": {},
   "outputs": [],
   "source": [
    "#62\n"
   ]
  },
  {
   "cell_type": "markdown",
   "id": "65cc0700-21b3-4650-aaee-719fb73de4f5",
   "metadata": {},
   "source": [
    "Um argumento bem interessante é o \"hue\", que **separa os dados** de acordo com alguma variável **categórica**.\n",
    "\n",
    "Essa funcionalidade nos ajuda a visualizar claramente a relação entre as variáveis **numéricas** com as variáveis **categóricas**!\n",
    "\n",
    "(Essa é uma funcionalidade nova do seaborn (v. 0.11), por isso, pode ser necessário atualizar a versão... Para isso, rode em alguma célula: !pip install seaborn --upgrade)\n"
   ]
  },
  {
   "cell_type": "code",
   "execution_count": 38,
   "id": "bf30d320-fb30-4f20-a443-a5ccae99ff05",
   "metadata": {},
   "outputs": [],
   "source": [
    "# 63"
   ]
  },
  {
   "cell_type": "code",
   "execution_count": null,
   "id": "55007af1-495b-4b90-94f4-bea73ff9306b",
   "metadata": {},
   "outputs": [],
   "source": [
    "# 64"
   ]
  },
  {
   "cell_type": "code",
   "execution_count": 39,
   "id": "775b34b9-9e0f-4d7f-bc95-57b80920d433",
   "metadata": {},
   "outputs": [],
   "source": [
    "# 65"
   ]
  },
  {
   "cell_type": "code",
   "execution_count": 40,
   "id": "7bf18ba3-a1a1-4709-8a10-14c2f866a8eb",
   "metadata": {},
   "outputs": [],
   "source": [
    "# 66"
   ]
  },
  {
   "cell_type": "code",
   "execution_count": 41,
   "id": "cdbcd220-b193-4b5a-b59b-3970f8858638",
   "metadata": {},
   "outputs": [],
   "source": [
    "# 67"
   ]
  },
  {
   "cell_type": "code",
   "execution_count": 42,
   "id": "46266f7e-b294-4efe-820b-9af0580e7fbb",
   "metadata": {},
   "outputs": [],
   "source": [
    "# 68"
   ]
  },
  {
   "cell_type": "code",
   "execution_count": 43,
   "id": "a42c4408-eaae-43f2-97cc-3274b8f2a53e",
   "metadata": {},
   "outputs": [],
   "source": [
    "# 69"
   ]
  },
  {
   "cell_type": "code",
   "execution_count": 44,
   "id": "0c690f2d-8972-49fb-9496-47631b50aab5",
   "metadata": {},
   "outputs": [],
   "source": [
    "# 70"
   ]
  },
  {
   "cell_type": "code",
   "execution_count": 45,
   "id": "1eb5b11c-8b56-4284-b174-b034b750d4be",
   "metadata": {},
   "outputs": [],
   "source": [
    "# 71"
   ]
  },
  {
   "cell_type": "code",
   "execution_count": 46,
   "id": "ef7efa92-6018-4626-b84c-efa787012d66",
   "metadata": {},
   "outputs": [],
   "source": [
    "# 72"
   ]
  },
  {
   "cell_type": "markdown",
   "id": "71b9d06e-07eb-439a-bbec-40837c443df8",
   "metadata": {},
   "source": [
    "Podemos criar uma nova coluna \"weekday\", que indica se o dia é dia útil ou fds:"
   ]
  },
  {
   "cell_type": "code",
   "execution_count": 47,
   "id": "dbc754d3-192e-4313-bb60-ebdd56ccf28b",
   "metadata": {},
   "outputs": [],
   "source": [
    "# 73"
   ]
  },
  {
   "cell_type": "markdown",
   "id": "0aab4883-8266-4557-b090-b403e3d0861b",
   "metadata": {},
   "source": [
    "__Pairplot__\n",
    "\n",
    "O pairplot produz uma matriz de gráficos, onde a diagonal principal terá a **distribuição** dos dados da respectiva coluna, e os demais elementos são **gráficos de relação** entre as diferentes colunas.\n",
    "\n",
    "Ambos os gráficos podem ser controlados pelos argumentos \"diag_kind\" e \"kind\", respectivamente"
   ]
  },
  {
   "cell_type": "markdown",
   "id": "598789b2-2b43-41dd-9e46-a8d630662ef9",
   "metadata": {},
   "source": [
    "kind : {'scatter', 'kde', 'hist', 'reg'}\n",
    "\n",
    "diag_kind : {'auto', 'hist', 'kde', None}"
   ]
  },
  {
   "cell_type": "code",
   "execution_count": 48,
   "id": "2d9c2699-6aa9-4997-9ca5-4c2481e7b6d8",
   "metadata": {},
   "outputs": [],
   "source": [
    "# 74"
   ]
  },
  {
   "cell_type": "code",
   "execution_count": 49,
   "id": "4451b2c2-8ea0-45fe-8a54-b129de759992",
   "metadata": {},
   "outputs": [],
   "source": [
    "# 75"
   ]
  },
  {
   "cell_type": "code",
   "execution_count": 50,
   "id": "d304492d-d227-485d-b890-a2f75a494f49",
   "metadata": {},
   "outputs": [],
   "source": [
    "# 76"
   ]
  },
  {
   "cell_type": "markdown",
   "id": "73998822-1ea7-4aa4-a7c9-d8bc7ce7187e",
   "metadata": {},
   "source": [
    "Também é possível usar o hue"
   ]
  },
  {
   "cell_type": "code",
   "execution_count": 51,
   "id": "4533b48f-b332-4257-87b6-6215c55fc13a",
   "metadata": {},
   "outputs": [],
   "source": [
    "# 77"
   ]
  },
  {
   "cell_type": "code",
   "execution_count": 52,
   "id": "f5d98b66-f231-492f-a33d-af732e869524",
   "metadata": {},
   "outputs": [],
   "source": [
    "# 78"
   ]
  },
  {
   "cell_type": "code",
   "execution_count": 53,
   "id": "5a5894c5-af42-47ea-a951-ccb7c8adb7ac",
   "metadata": {},
   "outputs": [],
   "source": [
    "# 79"
   ]
  },
  {
   "cell_type": "code",
   "execution_count": 54,
   "id": "ffa502fa-e5c7-4b7a-8701-b57a365ccad6",
   "metadata": {},
   "outputs": [],
   "source": [
    "# 80"
   ]
  },
  {
   "cell_type": "markdown",
   "id": "bcf54aa4-6b06-407e-a21e-93613c41d2ef",
   "metadata": {},
   "source": [
    "### Plots categóricos\n",
    "\n",
    "Esse tipo de gráfico é muito útil para visualizarmos os dados categóricos!\n",
    "\n",
    "Vamos ver alguns gráficos para esse fim:"
   ]
  },
  {
   "cell_type": "markdown",
   "id": "bf441396-2d99-40da-95fc-f4c16e1aff52",
   "metadata": {},
   "source": [
    "__Countplot__\n",
    "\n",
    "Esse gráfico é a visualização do \"value_counts\"!"
   ]
  },
  {
   "cell_type": "code",
   "execution_count": 55,
   "id": "b6c825b1-dea0-4115-98b2-80519bb0643b",
   "metadata": {},
   "outputs": [],
   "source": [
    "# 81"
   ]
  },
  {
   "cell_type": "code",
   "execution_count": null,
   "id": "a0344b01-7dc8-4809-ad80-3d64b75c36af",
   "metadata": {},
   "outputs": [],
   "source": [
    "# 82"
   ]
  },
  {
   "cell_type": "code",
   "execution_count": null,
   "id": "d21a2ce2-269a-4a13-bca0-a30b14205055",
   "metadata": {},
   "outputs": [],
   "source": [
    "# 83"
   ]
  },
  {
   "cell_type": "code",
   "execution_count": 56,
   "id": "4586a8b0-8ad7-495f-b68f-b7f0320b5ba1",
   "metadata": {},
   "outputs": [],
   "source": [
    "# 84"
   ]
  },
  {
   "cell_type": "code",
   "execution_count": 57,
   "id": "be2cbb79-5961-429d-a4d9-6de0371d8734",
   "metadata": {},
   "outputs": [],
   "source": [
    "# 85"
   ]
  },
  {
   "cell_type": "code",
   "execution_count": 58,
   "id": "51f8e674-51fc-42e2-af15-2076e9b68e47",
   "metadata": {},
   "outputs": [],
   "source": [
    "# 86"
   ]
  },
  {
   "cell_type": "code",
   "execution_count": 59,
   "id": "92cfae45-a915-43da-8d74-c017b70cbb98",
   "metadata": {},
   "outputs": [],
   "source": [
    "# 87"
   ]
  },
  {
   "cell_type": "code",
   "execution_count": 60,
   "id": "783d6b66-4a80-4dc0-b996-e2625e7dcf6b",
   "metadata": {},
   "outputs": [],
   "source": [
    "# 88"
   ]
  },
  {
   "cell_type": "markdown",
   "id": "eee7f0bc-bc80-489e-ab46-9f8003f293bc",
   "metadata": {},
   "source": [
    "__Barplot__\n",
    "\n",
    "Esse é o gráfico de barras, similar ao countplot, mas com a diferença que no eixo x teremos dados categóricos, e no eixo y algum dado numérico.\n",
    "\n",
    "O que o barplot mostra é **alguma estatística descritiva** (média, mediana, etc...) da variável numérica, separada pela variável categórica (como se fosse um \"hue\")\n",
    "\n",
    "A barra no topo é a barra de erro, que é comumente tomada como o **desvio padrão**.\n"
   ]
  },
  {
   "cell_type": "code",
   "execution_count": 61,
   "id": "a49f9704-cd20-4d2a-ac8f-49b995e18c22",
   "metadata": {},
   "outputs": [],
   "source": [
    "# 89"
   ]
  },
  {
   "cell_type": "code",
   "execution_count": null,
   "id": "2760d36f-5fa1-412c-9938-d11fd677247d",
   "metadata": {},
   "outputs": [],
   "source": [
    "# 90"
   ]
  },
  {
   "cell_type": "markdown",
   "id": "173db32b-38fa-49bc-9131-6fbcb98f9918",
   "metadata": {},
   "source": [
    "É possível mudar a função descritiva:\n"
   ]
  },
  {
   "cell_type": "code",
   "execution_count": 62,
   "id": "d5be731d-b7ed-4b50-9bd9-b0ce68f58638",
   "metadata": {},
   "outputs": [],
   "source": [
    "# 91"
   ]
  },
  {
   "cell_type": "code",
   "execution_count": null,
   "id": "71053c79-715f-4455-af66-aa87fe465c1a",
   "metadata": {},
   "outputs": [],
   "source": [
    "# 92"
   ]
  },
  {
   "cell_type": "markdown",
   "id": "9f4b1c18-445e-47ca-88d5-653de64e6f17",
   "metadata": {},
   "source": [
    "__Boxplot__\n",
    "\n",
    "Os gráficos \"boxplots\" (diagramas de caixa) ilustram a **distribuição de dados numéricos entre os diferentes valores de dados categóricos**\n",
    "\n",
    "Nesses gráficos, é possível visualizar os **quartis**, bem como os **outliers**\n",
    "\n",
    "Quartis (Q1, Q2 e Q3): São valores dados a partir do conjunto de observações ordenado em ordem crescente, que dividem os dados **em quatro partes iguais**. \n",
    "\n",
    "- O primeiro quartil, Q1, é o número que deixa 25% das observações abaixo e 75% acima;\n",
    "- O segundo quartil, Q2 é a **mediana**, deixa 50% das observações abaixo e 50% das observações acima;\n",
    "- O terceiro quartil, Q3, deixa 75% das observações abaixo e 25% acima;\n",
    "\n",
    "\n",
    "<img src=\"https://aprendendogestao.com.br/wp-content/uploads/2016/07/QE-Figura-1.png\" width=\"700\" height=\"700\" />\n",
    "\n",
    "O boxplot permite a visualização da construção acima:\n",
    "\n",
    "<img src=\"https://miro.medium.com/max/18000/1*2c21SkzJMf3frPXPAR_gZA.png\" width=500>"
   ]
  },
  {
   "cell_type": "markdown",
   "id": "eb5cd357-2eb4-4f22-bfe0-107c8d7b257c",
   "metadata": {},
   "source": [
    "Essas barras fora da caixa são chamadas de \"whisker\", que estabelecem os limites para os dados serem considerados típicos dentro da dsitrtibuição"
   ]
  },
  {
   "cell_type": "code",
   "execution_count": 63,
   "id": "6a41f8dd-92ff-41f7-bbcd-80b0bc9882ab",
   "metadata": {},
   "outputs": [],
   "source": [
    "# 93"
   ]
  },
  {
   "cell_type": "code",
   "execution_count": 64,
   "id": "1ecafa85-b302-45bf-bc2e-26754ad6bc6c",
   "metadata": {},
   "outputs": [],
   "source": [
    "# 94"
   ]
  },
  {
   "cell_type": "code",
   "execution_count": null,
   "id": "2ce03ef6-6d13-4e8a-9c46-f854094cb155",
   "metadata": {},
   "outputs": [],
   "source": [
    "# 95"
   ]
  },
  {
   "cell_type": "code",
   "execution_count": null,
   "id": "b16f6a17-2e3d-475a-8128-6b87b5a44b3b",
   "metadata": {},
   "outputs": [],
   "source": [
    "# 96"
   ]
  },
  {
   "cell_type": "code",
   "execution_count": 65,
   "id": "653dfe9a-05d9-48e2-9654-0b4996143a60",
   "metadata": {},
   "outputs": [],
   "source": [
    "# 97"
   ]
  },
  {
   "cell_type": "code",
   "execution_count": 66,
   "id": "70290e4c-32d6-4f7e-8f83-f951d95a64f4",
   "metadata": {},
   "outputs": [],
   "source": [
    "# 98"
   ]
  },
  {
   "cell_type": "code",
   "execution_count": 67,
   "id": "2cfbe2ba-57fc-4a0a-8a8b-b251aad386c6",
   "metadata": {},
   "outputs": [],
   "source": [
    "# 99"
   ]
  },
  {
   "cell_type": "code",
   "execution_count": 68,
   "id": "332e3bae-dcd2-400c-8de1-c0ddcc3f3e92",
   "metadata": {},
   "outputs": [],
   "source": [
    "# 100"
   ]
  },
  {
   "cell_type": "code",
   "execution_count": 69,
   "id": "dd96adb0-d9c8-4f38-8ab5-a103febc9547",
   "metadata": {},
   "outputs": [],
   "source": [
    "# 101"
   ]
  },
  {
   "cell_type": "code",
   "execution_count": 70,
   "id": "ad3d703b-76d4-4757-8315-6fa7c38e9f76",
   "metadata": {},
   "outputs": [],
   "source": [
    "# 102"
   ]
  },
  {
   "cell_type": "code",
   "execution_count": null,
   "id": "48bcbfd1-258a-406b-9086-02d4645b48a3",
   "metadata": {},
   "outputs": [],
   "source": [
    "# 103"
   ]
  },
  {
   "cell_type": "markdown",
   "id": "c8ee22cc-dd1e-4a54-9cb2-8f2b13b4fbf5",
   "metadata": {},
   "source": [
    "__Violinplot__\n",
    "\n",
    "Este tipo de gráfico é bem semelhante ao boxplot quanto ao uso: ele ilustra **a distribuição dos dados numéricos entre as diferentes classes de dados categóricos**, mas de forma explícita, exibindo a curva KDE da distribuição:"
   ]
  },
  {
   "cell_type": "code",
   "execution_count": null,
   "id": "3d04b619-8e7e-410c-84af-4d586cd5a705",
   "metadata": {},
   "outputs": [],
   "source": []
  }
 ],
 "metadata": {
  "kernelspec": {
   "display_name": "Python 3",
   "language": "python",
   "name": "python3"
  },
  "language_info": {
   "codemirror_mode": {
    "name": "ipython",
    "version": 3
   },
   "file_extension": ".py",
   "mimetype": "text/x-python",
   "name": "python",
   "nbconvert_exporter": "python",
   "pygments_lexer": "ipython3",
   "version": "3.8.11"
  }
 },
 "nbformat": 4,
 "nbformat_minor": 5
}
