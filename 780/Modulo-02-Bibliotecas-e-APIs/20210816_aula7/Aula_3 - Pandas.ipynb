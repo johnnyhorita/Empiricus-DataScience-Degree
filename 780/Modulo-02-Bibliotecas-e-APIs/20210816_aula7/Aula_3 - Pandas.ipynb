{
 "cells": [
  {
   "cell_type": "markdown",
   "id": "d1d8cc4d-8769-4162-87f1-08ffcd53675d",
   "metadata": {},
   "source": [
    "# Aula 2 - Pandas\n",
    "\n",
    "Na aula de hoje, vamos explorar os seguintes tópicos em Python:\n",
    "\n",
    "- 2) Pandas"
   ]
  },
  {
   "cell_type": "markdown",
   "id": "6623ade9-d5a5-43cf-aac3-ceaeab01d6b0",
   "metadata": {},
   "source": [
    "## 1) Pandas\n",
    "\n",
    "O **Pandas** é uma das bibliotecas mais usadas em data science.\n",
    "\n",
    "Esta biblioteca, construída a partir do Numpy, possibilita a estruturação e manipulação de dados de maneira simples e eficiente.\n",
    "\n",
    "Comos os dados são a matéria prima de todo projeto de data science, manipulá-los é fundamental! Por isso, utilizaremos o Pandas em quase todas as aulas daqui pra frente!\n",
    "\n",
    "Para entendermos melhor o pandas e passar a utilizá-lo, precisamos entender suas estruturas fundamentais: as **Series** e o **DataFrame**.\n",
    "\n",
    "Começamos importando o pandas:"
   ]
  },
  {
   "cell_type": "code",
   "execution_count": 113,
   "id": "31118d05-c760-4983-862e-62ec242ab9ed",
   "metadata": {},
   "outputs": [],
   "source": [
    "# importando o pandas\n",
    "\n",
    "import numpy as np\n",
    "import pandas as pd"
   ]
  },
  {
   "cell_type": "markdown",
   "id": "ff54ef28-0c91-439a-8875-3114cda69cbe",
   "metadata": {},
   "source": [
    "### Series\n",
    "\n",
    "O objeto fundamental do Pandas são as **Series**, uma classe do pandas.\n",
    "\n",
    "As Series são as **colunas das tabelas** (que veremos mais a frente), e por baixo dos panos, os dados ficam armazenados como **numpy arrays**!\n",
    "\n",
    "A diferença é que a série possui um **índice associado**, permitindo o acesso aos conteúdos dessa estrutura por ele, como um dicionário.\n",
    "\n",
    "Além disso, as séries têm métodos específicos além dos que vimos pra arrays, o que será super útil!\n",
    "\n",
    "Podemos criar uma série **a partir de uma lista**, usando a função do pandas `pd.Series()`: "
   ]
  },
  {
   "cell_type": "code",
   "execution_count": 114,
   "id": "7ea14001-d12e-4b33-9354-9fa80ae9a357",
   "metadata": {},
   "outputs": [],
   "source": [
    "lista = [4, 6, 3, 7, 13]"
   ]
  },
  {
   "cell_type": "code",
   "execution_count": 115,
   "id": "52950dd1-a515-4042-b356-8cdf4f06f154",
   "metadata": {},
   "outputs": [
    {
     "data": {
      "text/plain": [
       "array([ 4,  6,  3,  7, 13])"
      ]
     },
     "execution_count": 115,
     "metadata": {},
     "output_type": "execute_result"
    }
   ],
   "source": [
    "arr = np.array(lista)\n",
    "arr"
   ]
  },
  {
   "cell_type": "code",
   "execution_count": 116,
   "id": "9dff953c-162d-461c-84a2-43390acff1d1",
   "metadata": {},
   "outputs": [
    {
     "data": {
      "text/plain": [
       "3"
      ]
     },
     "execution_count": 116,
     "metadata": {},
     "output_type": "execute_result"
    }
   ],
   "source": [
    "arr[2]"
   ]
  },
  {
   "cell_type": "code",
   "execution_count": 117,
   "id": "55183e91-1294-46de-afbe-d879686bcb6e",
   "metadata": {},
   "outputs": [],
   "source": [
    "serie = pd.Series(lista)"
   ]
  },
  {
   "cell_type": "code",
   "execution_count": 118,
   "id": "2902150d-773b-49ea-8fce-2e0ca23bc51c",
   "metadata": {},
   "outputs": [
    {
     "data": {
      "text/plain": [
       "0     4\n",
       "1     6\n",
       "2     3\n",
       "3     7\n",
       "4    13\n",
       "dtype: int64"
      ]
     },
     "execution_count": 118,
     "metadata": {},
     "output_type": "execute_result"
    }
   ],
   "source": [
    "serie"
   ]
  },
  {
   "cell_type": "code",
   "execution_count": 119,
   "id": "ca2b3d59-01fd-44f0-b733-d6eda83dda65",
   "metadata": {},
   "outputs": [
    {
     "data": {
      "text/plain": [
       "3"
      ]
     },
     "execution_count": 119,
     "metadata": {},
     "output_type": "execute_result"
    }
   ],
   "source": [
    "serie[2]"
   ]
  },
  {
   "cell_type": "code",
   "execution_count": 120,
   "id": "79ee1ddb-e0f6-49bf-949a-008d79c4cd4d",
   "metadata": {},
   "outputs": [
    {
     "data": {
      "text/plain": [
       "array([ 4,  6,  3,  7, 13])"
      ]
     },
     "execution_count": 120,
     "metadata": {},
     "output_type": "execute_result"
    }
   ],
   "source": [
    "serie.values"
   ]
  },
  {
   "cell_type": "code",
   "execution_count": 122,
   "id": "555ac150-3a16-458f-9192-88764addf093",
   "metadata": {},
   "outputs": [
    {
     "data": {
      "text/plain": [
       "RangeIndex(start=0, stop=5, step=1)"
      ]
     },
     "execution_count": 122,
     "metadata": {},
     "output_type": "execute_result"
    }
   ],
   "source": [
    "serie.index"
   ]
  },
  {
   "cell_type": "code",
   "execution_count": 124,
   "id": "e0a97821-5651-45a9-bf83-82f5a826c1d1",
   "metadata": {},
   "outputs": [
    {
     "data": {
      "text/plain": [
       "[0, 1, 2, 3, 4]"
      ]
     },
     "execution_count": 124,
     "metadata": {},
     "output_type": "execute_result"
    }
   ],
   "source": [
    "list(range(0, 5, 1))"
   ]
  },
  {
   "cell_type": "code",
   "execution_count": 125,
   "id": "247556f3-4291-407a-9ef6-81f973a36bb5",
   "metadata": {},
   "outputs": [
    {
     "data": {
      "text/plain": [
       "[0, 1, 2, 3, 4]"
      ]
     },
     "execution_count": 125,
     "metadata": {},
     "output_type": "execute_result"
    }
   ],
   "source": [
    "serie.index.tolist()"
   ]
  },
  {
   "cell_type": "code",
   "execution_count": 126,
   "id": "a8fa0b03-96cd-462c-a41e-a7cbcb09ec21",
   "metadata": {},
   "outputs": [
    {
     "data": {
      "text/plain": [
       "[0, 1, 2, 3, 4]"
      ]
     },
     "execution_count": 126,
     "metadata": {},
     "output_type": "execute_result"
    }
   ],
   "source": [
    "list(serie.index)"
   ]
  },
  {
   "cell_type": "code",
   "execution_count": 127,
   "id": "bc860a5a-97aa-4ba5-bd6f-7ed0fd22cfcd",
   "metadata": {},
   "outputs": [
    {
     "data": {
      "text/plain": [
       "3"
      ]
     },
     "execution_count": 127,
     "metadata": {},
     "output_type": "execute_result"
    }
   ],
   "source": [
    "serie[2]"
   ]
  },
  {
   "cell_type": "code",
   "execution_count": 129,
   "id": "38576640-562c-4254-8a06-2b7ef1dbffff",
   "metadata": {},
   "outputs": [
    {
     "data": {
      "text/plain": [
       "3"
      ]
     },
     "execution_count": 129,
     "metadata": {},
     "output_type": "execute_result"
    }
   ],
   "source": [
    "serie.values[2]"
   ]
  },
  {
   "cell_type": "code",
   "execution_count": 130,
   "id": "1b92f645-6e4a-42ee-8267-e427244be6cf",
   "metadata": {},
   "outputs": [],
   "source": [
    "dic = {\n",
    "    0: 42,\n",
    "    1: 50\n",
    "}"
   ]
  },
  {
   "cell_type": "code",
   "execution_count": 134,
   "id": "465a89b2-734c-4cf5-b9db-4743907cf155",
   "metadata": {},
   "outputs": [
    {
     "data": {
      "text/plain": [
       "{0: 42, 1: 50}"
      ]
     },
     "execution_count": 134,
     "metadata": {},
     "output_type": "execute_result"
    }
   ],
   "source": [
    "dic"
   ]
  },
  {
   "cell_type": "code",
   "execution_count": 131,
   "id": "2d971e34-d1e9-470f-be3c-a87681653750",
   "metadata": {},
   "outputs": [
    {
     "data": {
      "text/plain": [
       "dict_values([42, 50])"
      ]
     },
     "execution_count": 131,
     "metadata": {},
     "output_type": "execute_result"
    }
   ],
   "source": [
    "dic.values()"
   ]
  },
  {
   "cell_type": "code",
   "execution_count": 132,
   "id": "dcd8ff72-8f9f-45e5-a98e-1fd7b90dba78",
   "metadata": {},
   "outputs": [
    {
     "data": {
      "text/plain": [
       "dict_keys([0, 1])"
      ]
     },
     "execution_count": 132,
     "metadata": {},
     "output_type": "execute_result"
    }
   ],
   "source": [
    "dic.keys()"
   ]
  },
  {
   "cell_type": "code",
   "execution_count": 133,
   "id": "7602b107-84e2-4545-bb58-fbf94b43cbfb",
   "metadata": {},
   "outputs": [
    {
     "data": {
      "text/plain": [
       "50"
      ]
     },
     "execution_count": 133,
     "metadata": {},
     "output_type": "execute_result"
    }
   ],
   "source": [
    "dic[1]"
   ]
  },
  {
   "cell_type": "code",
   "execution_count": 135,
   "id": "69020de1-db11-4d7f-8504-46ded246dab0",
   "metadata": {},
   "outputs": [
    {
     "data": {
      "text/plain": [
       "0     4\n",
       "1     6\n",
       "2     3\n",
       "3     7\n",
       "4    13\n",
       "dtype: int64"
      ]
     },
     "execution_count": 135,
     "metadata": {},
     "output_type": "execute_result"
    }
   ],
   "source": [
    "serie"
   ]
  },
  {
   "cell_type": "code",
   "execution_count": 136,
   "id": "10102d83-dbab-4573-879e-11087850d316",
   "metadata": {},
   "outputs": [
    {
     "data": {
      "text/plain": [
       "2     3\n",
       "3     7\n",
       "4    13\n",
       "dtype: int64"
      ]
     },
     "execution_count": 136,
     "metadata": {},
     "output_type": "execute_result"
    }
   ],
   "source": [
    "serie[2:]"
   ]
  },
  {
   "cell_type": "code",
   "execution_count": 137,
   "id": "e5ca1b2f-d15c-43b7-b61c-82847b5d958c",
   "metadata": {},
   "outputs": [],
   "source": [
    "indices = ['a', 'b', 'c', 'd', 'e']"
   ]
  },
  {
   "cell_type": "code",
   "execution_count": 139,
   "id": "156616b6-7d6d-416b-806f-e00368e1c928",
   "metadata": {},
   "outputs": [],
   "source": [
    "serie2 = pd.Series(data=lista, index=indices)"
   ]
  },
  {
   "cell_type": "code",
   "execution_count": 141,
   "id": "2f529f58-a7c4-448a-a228-d1b74815ca59",
   "metadata": {},
   "outputs": [
    {
     "data": {
      "text/plain": [
       "a     4\n",
       "b     6\n",
       "c     3\n",
       "d     7\n",
       "e    13\n",
       "dtype: int64"
      ]
     },
     "execution_count": 141,
     "metadata": {},
     "output_type": "execute_result"
    }
   ],
   "source": [
    "serie2"
   ]
  },
  {
   "cell_type": "code",
   "execution_count": 142,
   "id": "0964078b-ce63-4b6a-97ed-8fb746e363cf",
   "metadata": {},
   "outputs": [
    {
     "data": {
      "text/plain": [
       "3"
      ]
     },
     "execution_count": 142,
     "metadata": {},
     "output_type": "execute_result"
    }
   ],
   "source": [
    "serie[2]"
   ]
  },
  {
   "cell_type": "code",
   "execution_count": 144,
   "id": "b7ca3fa2-119a-4a23-90c4-a212f51b44b8",
   "metadata": {},
   "outputs": [
    {
     "data": {
      "text/plain": [
       "3"
      ]
     },
     "execution_count": 144,
     "metadata": {},
     "output_type": "execute_result"
    }
   ],
   "source": [
    "serie2['c']"
   ]
  },
  {
   "cell_type": "code",
   "execution_count": 145,
   "id": "1d7f4be6-7a40-40f8-bc57-020887ee7325",
   "metadata": {},
   "outputs": [
    {
     "data": {
      "text/plain": [
       "c     3\n",
       "d     7\n",
       "e    13\n",
       "dtype: int64"
      ]
     },
     "execution_count": 145,
     "metadata": {},
     "output_type": "execute_result"
    }
   ],
   "source": [
    "serie2['c':]"
   ]
  },
  {
   "cell_type": "code",
   "execution_count": 146,
   "id": "97213161-6f48-442e-b8be-5075eb3c7074",
   "metadata": {},
   "outputs": [
    {
     "data": {
      "text/plain": [
       "3"
      ]
     },
     "execution_count": 146,
     "metadata": {},
     "output_type": "execute_result"
    }
   ],
   "source": [
    "serie2.loc['c']"
   ]
  },
  {
   "cell_type": "code",
   "execution_count": 149,
   "id": "4b5ca065-70b2-476b-9e7d-e3e965a321ef",
   "metadata": {
    "scrolled": true,
    "tags": []
   },
   "outputs": [
    {
     "ename": "KeyError",
     "evalue": "2",
     "output_type": "error",
     "traceback": [
      "\u001b[0;31m---------------------------------------------------------------------------\u001b[0m",
      "\u001b[0;31mKeyError\u001b[0m                                  Traceback (most recent call last)",
      "\u001b[0;32m~/opt/anaconda3/lib/python3.8/site-packages/pandas/core/indexes/base.py\u001b[0m in \u001b[0;36mget_loc\u001b[0;34m(self, key, method, tolerance)\u001b[0m\n\u001b[1;32m   3360\u001b[0m             \u001b[0;32mtry\u001b[0m\u001b[0;34m:\u001b[0m\u001b[0;34m\u001b[0m\u001b[0;34m\u001b[0m\u001b[0m\n\u001b[0;32m-> 3361\u001b[0;31m                 \u001b[0;32mreturn\u001b[0m \u001b[0mself\u001b[0m\u001b[0;34m.\u001b[0m\u001b[0m_engine\u001b[0m\u001b[0;34m.\u001b[0m\u001b[0mget_loc\u001b[0m\u001b[0;34m(\u001b[0m\u001b[0mcasted_key\u001b[0m\u001b[0;34m)\u001b[0m\u001b[0;34m\u001b[0m\u001b[0;34m\u001b[0m\u001b[0m\n\u001b[0m\u001b[1;32m   3362\u001b[0m             \u001b[0;32mexcept\u001b[0m \u001b[0mKeyError\u001b[0m \u001b[0;32mas\u001b[0m \u001b[0merr\u001b[0m\u001b[0;34m:\u001b[0m\u001b[0;34m\u001b[0m\u001b[0;34m\u001b[0m\u001b[0m\n",
      "\u001b[0;32m~/opt/anaconda3/lib/python3.8/site-packages/pandas/_libs/index.pyx\u001b[0m in \u001b[0;36mpandas._libs.index.IndexEngine.get_loc\u001b[0;34m()\u001b[0m\n",
      "\u001b[0;32m~/opt/anaconda3/lib/python3.8/site-packages/pandas/_libs/index.pyx\u001b[0m in \u001b[0;36mpandas._libs.index.IndexEngine.get_loc\u001b[0;34m()\u001b[0m\n",
      "\u001b[0;32mpandas/_libs/hashtable_class_helper.pxi\u001b[0m in \u001b[0;36mpandas._libs.hashtable.PyObjectHashTable.get_item\u001b[0;34m()\u001b[0m\n",
      "\u001b[0;32mpandas/_libs/hashtable_class_helper.pxi\u001b[0m in \u001b[0;36mpandas._libs.hashtable.PyObjectHashTable.get_item\u001b[0;34m()\u001b[0m\n",
      "\u001b[0;31mKeyError\u001b[0m: 2",
      "\nThe above exception was the direct cause of the following exception:\n",
      "\u001b[0;31mKeyError\u001b[0m                                  Traceback (most recent call last)",
      "\u001b[0;32m<ipython-input-149-d6d37f9144ee>\u001b[0m in \u001b[0;36m<module>\u001b[0;34m\u001b[0m\n\u001b[0;32m----> 1\u001b[0;31m \u001b[0mserie2\u001b[0m\u001b[0;34m.\u001b[0m\u001b[0mloc\u001b[0m\u001b[0;34m[\u001b[0m\u001b[0;36m2\u001b[0m\u001b[0;34m]\u001b[0m\u001b[0;34m\u001b[0m\u001b[0;34m\u001b[0m\u001b[0m\n\u001b[0m",
      "\u001b[0;32m~/opt/anaconda3/lib/python3.8/site-packages/pandas/core/indexing.py\u001b[0m in \u001b[0;36m__getitem__\u001b[0;34m(self, key)\u001b[0m\n\u001b[1;32m    929\u001b[0m \u001b[0;34m\u001b[0m\u001b[0m\n\u001b[1;32m    930\u001b[0m             \u001b[0mmaybe_callable\u001b[0m \u001b[0;34m=\u001b[0m \u001b[0mcom\u001b[0m\u001b[0;34m.\u001b[0m\u001b[0mapply_if_callable\u001b[0m\u001b[0;34m(\u001b[0m\u001b[0mkey\u001b[0m\u001b[0;34m,\u001b[0m \u001b[0mself\u001b[0m\u001b[0;34m.\u001b[0m\u001b[0mobj\u001b[0m\u001b[0;34m)\u001b[0m\u001b[0;34m\u001b[0m\u001b[0;34m\u001b[0m\u001b[0m\n\u001b[0;32m--> 931\u001b[0;31m             \u001b[0;32mreturn\u001b[0m \u001b[0mself\u001b[0m\u001b[0;34m.\u001b[0m\u001b[0m_getitem_axis\u001b[0m\u001b[0;34m(\u001b[0m\u001b[0mmaybe_callable\u001b[0m\u001b[0;34m,\u001b[0m \u001b[0maxis\u001b[0m\u001b[0;34m=\u001b[0m\u001b[0maxis\u001b[0m\u001b[0;34m)\u001b[0m\u001b[0;34m\u001b[0m\u001b[0;34m\u001b[0m\u001b[0m\n\u001b[0m\u001b[1;32m    932\u001b[0m \u001b[0;34m\u001b[0m\u001b[0m\n\u001b[1;32m    933\u001b[0m     \u001b[0;32mdef\u001b[0m \u001b[0m_is_scalar_access\u001b[0m\u001b[0;34m(\u001b[0m\u001b[0mself\u001b[0m\u001b[0;34m,\u001b[0m \u001b[0mkey\u001b[0m\u001b[0;34m:\u001b[0m \u001b[0mtuple\u001b[0m\u001b[0;34m)\u001b[0m\u001b[0;34m:\u001b[0m\u001b[0;34m\u001b[0m\u001b[0;34m\u001b[0m\u001b[0m\n",
      "\u001b[0;32m~/opt/anaconda3/lib/python3.8/site-packages/pandas/core/indexing.py\u001b[0m in \u001b[0;36m_getitem_axis\u001b[0;34m(self, key, axis)\u001b[0m\n\u001b[1;32m   1162\u001b[0m         \u001b[0;31m# fall thru to straight lookup\u001b[0m\u001b[0;34m\u001b[0m\u001b[0;34m\u001b[0m\u001b[0;34m\u001b[0m\u001b[0m\n\u001b[1;32m   1163\u001b[0m         \u001b[0mself\u001b[0m\u001b[0;34m.\u001b[0m\u001b[0m_validate_key\u001b[0m\u001b[0;34m(\u001b[0m\u001b[0mkey\u001b[0m\u001b[0;34m,\u001b[0m \u001b[0maxis\u001b[0m\u001b[0;34m)\u001b[0m\u001b[0;34m\u001b[0m\u001b[0;34m\u001b[0m\u001b[0m\n\u001b[0;32m-> 1164\u001b[0;31m         \u001b[0;32mreturn\u001b[0m \u001b[0mself\u001b[0m\u001b[0;34m.\u001b[0m\u001b[0m_get_label\u001b[0m\u001b[0;34m(\u001b[0m\u001b[0mkey\u001b[0m\u001b[0;34m,\u001b[0m \u001b[0maxis\u001b[0m\u001b[0;34m=\u001b[0m\u001b[0maxis\u001b[0m\u001b[0;34m)\u001b[0m\u001b[0;34m\u001b[0m\u001b[0;34m\u001b[0m\u001b[0m\n\u001b[0m\u001b[1;32m   1165\u001b[0m \u001b[0;34m\u001b[0m\u001b[0m\n\u001b[1;32m   1166\u001b[0m     \u001b[0;32mdef\u001b[0m \u001b[0m_get_slice_axis\u001b[0m\u001b[0;34m(\u001b[0m\u001b[0mself\u001b[0m\u001b[0;34m,\u001b[0m \u001b[0mslice_obj\u001b[0m\u001b[0;34m:\u001b[0m \u001b[0mslice\u001b[0m\u001b[0;34m,\u001b[0m \u001b[0maxis\u001b[0m\u001b[0;34m:\u001b[0m \u001b[0mint\u001b[0m\u001b[0;34m)\u001b[0m\u001b[0;34m:\u001b[0m\u001b[0;34m\u001b[0m\u001b[0;34m\u001b[0m\u001b[0m\n",
      "\u001b[0;32m~/opt/anaconda3/lib/python3.8/site-packages/pandas/core/indexing.py\u001b[0m in \u001b[0;36m_get_label\u001b[0;34m(self, label, axis)\u001b[0m\n\u001b[1;32m   1111\u001b[0m     \u001b[0;32mdef\u001b[0m \u001b[0m_get_label\u001b[0m\u001b[0;34m(\u001b[0m\u001b[0mself\u001b[0m\u001b[0;34m,\u001b[0m \u001b[0mlabel\u001b[0m\u001b[0;34m,\u001b[0m \u001b[0maxis\u001b[0m\u001b[0;34m:\u001b[0m \u001b[0mint\u001b[0m\u001b[0;34m)\u001b[0m\u001b[0;34m:\u001b[0m\u001b[0;34m\u001b[0m\u001b[0;34m\u001b[0m\u001b[0m\n\u001b[1;32m   1112\u001b[0m         \u001b[0;31m# GH#5667 this will fail if the label is not present in the axis.\u001b[0m\u001b[0;34m\u001b[0m\u001b[0;34m\u001b[0m\u001b[0;34m\u001b[0m\u001b[0m\n\u001b[0;32m-> 1113\u001b[0;31m         \u001b[0;32mreturn\u001b[0m \u001b[0mself\u001b[0m\u001b[0;34m.\u001b[0m\u001b[0mobj\u001b[0m\u001b[0;34m.\u001b[0m\u001b[0mxs\u001b[0m\u001b[0;34m(\u001b[0m\u001b[0mlabel\u001b[0m\u001b[0;34m,\u001b[0m \u001b[0maxis\u001b[0m\u001b[0;34m=\u001b[0m\u001b[0maxis\u001b[0m\u001b[0;34m)\u001b[0m\u001b[0;34m\u001b[0m\u001b[0;34m\u001b[0m\u001b[0m\n\u001b[0m\u001b[1;32m   1114\u001b[0m \u001b[0;34m\u001b[0m\u001b[0m\n\u001b[1;32m   1115\u001b[0m     \u001b[0;32mdef\u001b[0m \u001b[0m_handle_lowerdim_multi_index_axis0\u001b[0m\u001b[0;34m(\u001b[0m\u001b[0mself\u001b[0m\u001b[0;34m,\u001b[0m \u001b[0mtup\u001b[0m\u001b[0;34m:\u001b[0m \u001b[0mtuple\u001b[0m\u001b[0;34m)\u001b[0m\u001b[0;34m:\u001b[0m\u001b[0;34m\u001b[0m\u001b[0;34m\u001b[0m\u001b[0m\n",
      "\u001b[0;32m~/opt/anaconda3/lib/python3.8/site-packages/pandas/core/generic.py\u001b[0m in \u001b[0;36mxs\u001b[0;34m(self, key, axis, level, drop_level)\u001b[0m\n\u001b[1;32m   3771\u001b[0m                 \u001b[0;32mraise\u001b[0m \u001b[0mTypeError\u001b[0m\u001b[0;34m(\u001b[0m\u001b[0;34mf\"Expected label or tuple of labels, got {key}\"\u001b[0m\u001b[0;34m)\u001b[0m \u001b[0;32mfrom\u001b[0m \u001b[0me\u001b[0m\u001b[0;34m\u001b[0m\u001b[0;34m\u001b[0m\u001b[0m\n\u001b[1;32m   3772\u001b[0m         \u001b[0;32melse\u001b[0m\u001b[0;34m:\u001b[0m\u001b[0;34m\u001b[0m\u001b[0;34m\u001b[0m\u001b[0m\n\u001b[0;32m-> 3773\u001b[0;31m             \u001b[0mloc\u001b[0m \u001b[0;34m=\u001b[0m \u001b[0mindex\u001b[0m\u001b[0;34m.\u001b[0m\u001b[0mget_loc\u001b[0m\u001b[0;34m(\u001b[0m\u001b[0mkey\u001b[0m\u001b[0;34m)\u001b[0m\u001b[0;34m\u001b[0m\u001b[0;34m\u001b[0m\u001b[0m\n\u001b[0m\u001b[1;32m   3774\u001b[0m \u001b[0;34m\u001b[0m\u001b[0m\n\u001b[1;32m   3775\u001b[0m             \u001b[0;32mif\u001b[0m \u001b[0misinstance\u001b[0m\u001b[0;34m(\u001b[0m\u001b[0mloc\u001b[0m\u001b[0;34m,\u001b[0m \u001b[0mnp\u001b[0m\u001b[0;34m.\u001b[0m\u001b[0mndarray\u001b[0m\u001b[0;34m)\u001b[0m\u001b[0;34m:\u001b[0m\u001b[0;34m\u001b[0m\u001b[0;34m\u001b[0m\u001b[0m\n",
      "\u001b[0;32m~/opt/anaconda3/lib/python3.8/site-packages/pandas/core/indexes/base.py\u001b[0m in \u001b[0;36mget_loc\u001b[0;34m(self, key, method, tolerance)\u001b[0m\n\u001b[1;32m   3361\u001b[0m                 \u001b[0;32mreturn\u001b[0m \u001b[0mself\u001b[0m\u001b[0;34m.\u001b[0m\u001b[0m_engine\u001b[0m\u001b[0;34m.\u001b[0m\u001b[0mget_loc\u001b[0m\u001b[0;34m(\u001b[0m\u001b[0mcasted_key\u001b[0m\u001b[0;34m)\u001b[0m\u001b[0;34m\u001b[0m\u001b[0;34m\u001b[0m\u001b[0m\n\u001b[1;32m   3362\u001b[0m             \u001b[0;32mexcept\u001b[0m \u001b[0mKeyError\u001b[0m \u001b[0;32mas\u001b[0m \u001b[0merr\u001b[0m\u001b[0;34m:\u001b[0m\u001b[0;34m\u001b[0m\u001b[0;34m\u001b[0m\u001b[0m\n\u001b[0;32m-> 3363\u001b[0;31m                 \u001b[0;32mraise\u001b[0m \u001b[0mKeyError\u001b[0m\u001b[0;34m(\u001b[0m\u001b[0mkey\u001b[0m\u001b[0;34m)\u001b[0m \u001b[0;32mfrom\u001b[0m \u001b[0merr\u001b[0m\u001b[0;34m\u001b[0m\u001b[0;34m\u001b[0m\u001b[0m\n\u001b[0m\u001b[1;32m   3364\u001b[0m \u001b[0;34m\u001b[0m\u001b[0m\n\u001b[1;32m   3365\u001b[0m         \u001b[0;32mif\u001b[0m \u001b[0mis_scalar\u001b[0m\u001b[0;34m(\u001b[0m\u001b[0mkey\u001b[0m\u001b[0;34m)\u001b[0m \u001b[0;32mand\u001b[0m \u001b[0misna\u001b[0m\u001b[0;34m(\u001b[0m\u001b[0mkey\u001b[0m\u001b[0;34m)\u001b[0m \u001b[0;32mand\u001b[0m \u001b[0;32mnot\u001b[0m \u001b[0mself\u001b[0m\u001b[0;34m.\u001b[0m\u001b[0mhasnans\u001b[0m\u001b[0;34m:\u001b[0m\u001b[0;34m\u001b[0m\u001b[0;34m\u001b[0m\u001b[0m\n",
      "\u001b[0;31mKeyError\u001b[0m: 2"
     ]
    }
   ],
   "source": [
    "serie2.loc[2]"
   ]
  },
  {
   "cell_type": "code",
   "execution_count": 148,
   "id": "fa767fdc-c8b5-44b0-b2b8-754626163b83",
   "metadata": {},
   "outputs": [
    {
     "data": {
      "text/plain": [
       "3"
      ]
     },
     "execution_count": 148,
     "metadata": {},
     "output_type": "execute_result"
    }
   ],
   "source": [
    "serie2.iloc[2]"
   ]
  },
  {
   "cell_type": "markdown",
   "id": "8d5290a3-d989-4bca-a589-ebc2e510ec85",
   "metadata": {},
   "source": [
    "Outra forma bem natural de construir séries é apartir de um **dicionário**\n",
    "\n",
    "Neste caso, as **chaves** se tornam as labels de índice!"
   ]
  },
  {
   "cell_type": "code",
   "execution_count": 150,
   "id": "5e90b57c-8ab9-483d-bf2d-cfde1868419c",
   "metadata": {},
   "outputs": [
    {
     "data": {
      "text/plain": [
       "{0: 42, 1: 50}"
      ]
     },
     "execution_count": 150,
     "metadata": {},
     "output_type": "execute_result"
    }
   ],
   "source": [
    "dic"
   ]
  },
  {
   "cell_type": "code",
   "execution_count": 151,
   "id": "934e60e9-6bfa-455a-8616-33b7b7083525",
   "metadata": {},
   "outputs": [
    {
     "data": {
      "text/plain": [
       "0    42\n",
       "1    50\n",
       "dtype: int64"
      ]
     },
     "execution_count": 151,
     "metadata": {},
     "output_type": "execute_result"
    }
   ],
   "source": [
    "pd.Series(dic)"
   ]
  },
  {
   "cell_type": "code",
   "execution_count": 152,
   "id": "3672d1ad-801f-4df3-8c4c-fcb95c3e4299",
   "metadata": {},
   "outputs": [],
   "source": [
    "dic = {\n",
    "    'a': 12,\n",
    "    'b': 13,\n",
    "    'd': 42,\n",
    "    'g': 51\n",
    "}"
   ]
  },
  {
   "cell_type": "code",
   "execution_count": 153,
   "id": "0f9854f5-1cc1-4fc3-a4b0-892f99e2e934",
   "metadata": {},
   "outputs": [
    {
     "data": {
      "text/plain": [
       "a    12\n",
       "b    13\n",
       "d    42\n",
       "g    51\n",
       "dtype: int64"
      ]
     },
     "execution_count": 153,
     "metadata": {},
     "output_type": "execute_result"
    }
   ],
   "source": [
    "pd.Series(dic)"
   ]
  },
  {
   "cell_type": "code",
   "execution_count": 154,
   "id": "151765a7-ecc2-495a-bf2d-246a8615a9d6",
   "metadata": {},
   "outputs": [
    {
     "data": {
      "text/plain": [
       "a    12\n",
       "b    13\n",
       "d    42\n",
       "g    51\n",
       "dtype: int64"
      ]
     },
     "execution_count": 154,
     "metadata": {},
     "output_type": "execute_result"
    }
   ],
   "source": [
    "pd.Series(data=dic.values(), index = dic.keys())"
   ]
  },
  {
   "cell_type": "markdown",
   "id": "23aa99b9-d31d-4ab0-9e32-3f1b485b61e4",
   "metadata": {},
   "source": [
    "Ao fazer operações com séries, os valores são alterados um a um, exatamente como vimos com os numpy arrays!"
   ]
  },
  {
   "cell_type": "code",
   "execution_count": 163,
   "id": "3a01a764-3c50-472b-b8ce-c31a7b29ff0e",
   "metadata": {},
   "outputs": [
    {
     "data": {
      "text/plain": [
       "array([ 9, 11,  8, 12, 18])"
      ]
     },
     "execution_count": 163,
     "metadata": {},
     "output_type": "execute_result"
    }
   ],
   "source": [
    "arr + 5 "
   ]
  },
  {
   "cell_type": "code",
   "execution_count": 164,
   "id": "d971cded-2254-47ef-bb6e-101e7c81128b",
   "metadata": {},
   "outputs": [
    {
     "data": {
      "text/plain": [
       "0     9\n",
       "1    11\n",
       "2     8\n",
       "3    12\n",
       "4    18\n",
       "dtype: int64"
      ]
     },
     "execution_count": 164,
     "metadata": {},
     "output_type": "execute_result"
    }
   ],
   "source": [
    "serie + 5"
   ]
  },
  {
   "cell_type": "code",
   "execution_count": 165,
   "id": "6fcac7e3-e086-4dc2-a38e-7aa81f7cebae",
   "metadata": {},
   "outputs": [
    {
     "data": {
      "text/plain": [
       "0    0.8\n",
       "1    1.2\n",
       "2    0.6\n",
       "3    1.4\n",
       "4    2.6\n",
       "dtype: float64"
      ]
     },
     "execution_count": 165,
     "metadata": {},
     "output_type": "execute_result"
    }
   ],
   "source": [
    "serie / 5"
   ]
  },
  {
   "cell_type": "code",
   "execution_count": 166,
   "id": "adc96939-6c11-44de-ae10-9f2f823459f6",
   "metadata": {},
   "outputs": [
    {
     "data": {
      "text/plain": [
       "0     40\n",
       "1     60\n",
       "2     30\n",
       "3     70\n",
       "4    130\n",
       "dtype: int64"
      ]
     },
     "execution_count": 166,
     "metadata": {},
     "output_type": "execute_result"
    }
   ],
   "source": [
    "serie * 10"
   ]
  },
  {
   "cell_type": "code",
   "execution_count": 167,
   "id": "a3992205-04bf-4239-9346-6db804df8b5f",
   "metadata": {},
   "outputs": [
    {
     "data": {
      "text/plain": [
       "0     16\n",
       "1     36\n",
       "2      9\n",
       "3     49\n",
       "4    169\n",
       "dtype: int64"
      ]
     },
     "execution_count": 167,
     "metadata": {},
     "output_type": "execute_result"
    }
   ],
   "source": [
    "serie ** 2"
   ]
  },
  {
   "cell_type": "code",
   "execution_count": 168,
   "id": "5d436410-6b96-4e22-b0f9-dbb471ed6fee",
   "metadata": {},
   "outputs": [
    {
     "data": {
      "text/plain": [
       "0    1.386294\n",
       "1    1.791759\n",
       "2    1.098612\n",
       "3    1.945910\n",
       "4    2.564949\n",
       "dtype: float64"
      ]
     },
     "execution_count": 168,
     "metadata": {},
     "output_type": "execute_result"
    }
   ],
   "source": [
    "np.log(serie)"
   ]
  },
  {
   "cell_type": "code",
   "execution_count": 170,
   "id": "72d70d1a-1526-4100-91a5-11cfb1287257",
   "metadata": {},
   "outputs": [
    {
     "data": {
      "text/plain": [
       "array([ True,  True, False, False, False])"
      ]
     },
     "execution_count": 170,
     "metadata": {},
     "output_type": "execute_result"
    }
   ],
   "source": [
    "arr % 2 == 0"
   ]
  },
  {
   "cell_type": "code",
   "execution_count": 172,
   "id": "75e2ce19-933e-42c3-82b0-8ca7288aeb80",
   "metadata": {},
   "outputs": [],
   "source": [
    "mascara = serie % 2 == 0"
   ]
  },
  {
   "cell_type": "code",
   "execution_count": 173,
   "id": "4f032f93-994b-4cca-85d8-039f2e4cfaf7",
   "metadata": {},
   "outputs": [
    {
     "data": {
      "text/plain": [
       "0    4\n",
       "1    6\n",
       "dtype: int64"
      ]
     },
     "execution_count": 173,
     "metadata": {},
     "output_type": "execute_result"
    }
   ],
   "source": [
    "serie[mascara]"
   ]
  },
  {
   "cell_type": "code",
   "execution_count": 178,
   "id": "b5210dd1-a02a-474e-aa74-8f77e4dab1cb",
   "metadata": {},
   "outputs": [
    {
     "data": {
      "text/plain": [
       "0     4\n",
       "1     6\n",
       "2     3\n",
       "3     7\n",
       "4    13\n",
       "dtype: int64"
      ]
     },
     "execution_count": 178,
     "metadata": {},
     "output_type": "execute_result"
    }
   ],
   "source": [
    "serie"
   ]
  },
  {
   "cell_type": "code",
   "execution_count": 179,
   "id": "27b6c22b-8467-46e3-a604-55824bf260f9",
   "metadata": {},
   "outputs": [],
   "source": [
    "mascara2 = serie < 6"
   ]
  },
  {
   "cell_type": "code",
   "execution_count": 182,
   "id": "13a397be-6086-4fb6-bbf1-1e0ce053222d",
   "metadata": {},
   "outputs": [
    {
     "data": {
      "text/plain": [
       "0     4\n",
       "1     6\n",
       "2     3\n",
       "3     7\n",
       "4    13\n",
       "dtype: int64"
      ]
     },
     "execution_count": 182,
     "metadata": {},
     "output_type": "execute_result"
    }
   ],
   "source": [
    "serie"
   ]
  },
  {
   "cell_type": "code",
   "execution_count": 180,
   "id": "e5ac8984-6ca0-402d-94cc-8ea39e9d9669",
   "metadata": {},
   "outputs": [
    {
     "data": {
      "text/plain": [
       "0     True\n",
       "1    False\n",
       "2     True\n",
       "3    False\n",
       "4    False\n",
       "dtype: bool"
      ]
     },
     "execution_count": 180,
     "metadata": {},
     "output_type": "execute_result"
    }
   ],
   "source": [
    "mascara2"
   ]
  },
  {
   "cell_type": "code",
   "execution_count": 181,
   "id": "a5961fc1-507f-4da5-abd7-4cd25a6ed7d5",
   "metadata": {},
   "outputs": [
    {
     "data": {
      "text/plain": [
       "0    4\n",
       "2    3\n",
       "dtype: int64"
      ]
     },
     "execution_count": 181,
     "metadata": {},
     "output_type": "execute_result"
    }
   ],
   "source": [
    "serie[mascara2]"
   ]
  },
  {
   "cell_type": "code",
   "execution_count": 183,
   "id": "27be98d6-1255-4768-a4b3-be49184485e8",
   "metadata": {},
   "outputs": [],
   "source": [
    "lista1 = [4, 6, 3, 7, 25]\n",
    "lista2 = [21, 31, 98, 65, 42]"
   ]
  },
  {
   "cell_type": "code",
   "execution_count": 187,
   "id": "76759fbd-4a39-4776-8896-473d419f08aa",
   "metadata": {},
   "outputs": [],
   "source": [
    "arr1 = np.array(lista1)\n",
    "arr2 = np.array(lista2)"
   ]
  },
  {
   "cell_type": "code",
   "execution_count": 184,
   "id": "838e8925-565c-4eb6-9cbf-90acfd31126f",
   "metadata": {},
   "outputs": [],
   "source": [
    "s1 = pd.Series(lista1)\n",
    "s2 = pd.Series(lista2)"
   ]
  },
  {
   "cell_type": "code",
   "execution_count": 185,
   "id": "44e19e83-043f-4bd0-b907-b1773be9dce7",
   "metadata": {},
   "outputs": [
    {
     "data": {
      "text/plain": [
       "0     4\n",
       "1     6\n",
       "2     3\n",
       "3     7\n",
       "4    25\n",
       "dtype: int64"
      ]
     },
     "execution_count": 185,
     "metadata": {},
     "output_type": "execute_result"
    }
   ],
   "source": [
    "s1"
   ]
  },
  {
   "cell_type": "code",
   "execution_count": 186,
   "id": "1b649a43-8ea3-485b-892c-48736c1e51c0",
   "metadata": {},
   "outputs": [
    {
     "data": {
      "text/plain": [
       "0    21\n",
       "1    31\n",
       "2    98\n",
       "3    65\n",
       "4    42\n",
       "dtype: int64"
      ]
     },
     "execution_count": 186,
     "metadata": {},
     "output_type": "execute_result"
    }
   ],
   "source": [
    "s2"
   ]
  },
  {
   "cell_type": "code",
   "execution_count": 188,
   "id": "0057e821-d8a6-48ef-826c-26f9ac9183cc",
   "metadata": {},
   "outputs": [
    {
     "data": {
      "text/plain": [
       "array([ 25,  37, 101,  72,  67])"
      ]
     },
     "execution_count": 188,
     "metadata": {},
     "output_type": "execute_result"
    }
   ],
   "source": [
    "arr1 + arr2"
   ]
  },
  {
   "cell_type": "code",
   "execution_count": 189,
   "id": "97cfdf97-feec-4e50-9348-61525a601ebf",
   "metadata": {},
   "outputs": [
    {
     "data": {
      "text/plain": [
       "0     25\n",
       "1     37\n",
       "2    101\n",
       "3     72\n",
       "4     67\n",
       "dtype: int64"
      ]
     },
     "execution_count": 189,
     "metadata": {},
     "output_type": "execute_result"
    }
   ],
   "source": [
    "s1 + s2"
   ]
  },
  {
   "cell_type": "code",
   "execution_count": 193,
   "id": "0fa353b7-4b74-44b8-a4e5-732cf586a9ac",
   "metadata": {},
   "outputs": [
    {
     "name": "stdout",
     "output_type": "stream",
     "text": [
      "[51 92 14 71 60]\n",
      "[20 82 86 74 74 87 99]\n"
     ]
    }
   ],
   "source": [
    "np.random.seed(42)\n",
    "\n",
    "a1 = np.random.randint(0, 100, 5)\n",
    "a2 = np.random.randint(0, 100, 7)\n",
    "print(a1)\n",
    "print(a2)"
   ]
  },
  {
   "cell_type": "code",
   "execution_count": 194,
   "id": "c39f806f-4c99-4ced-b8a9-095c86b66d95",
   "metadata": {},
   "outputs": [],
   "source": [
    "s1 = pd.Series(a1)\n",
    "s2 = pd.Series(a2)"
   ]
  },
  {
   "cell_type": "code",
   "execution_count": 195,
   "id": "3016a6f4-4a72-4e63-a421-cf74b2e7f446",
   "metadata": {},
   "outputs": [
    {
     "data": {
      "text/plain": [
       "0    51\n",
       "1    92\n",
       "2    14\n",
       "3    71\n",
       "4    60\n",
       "dtype: int64"
      ]
     },
     "execution_count": 195,
     "metadata": {},
     "output_type": "execute_result"
    }
   ],
   "source": [
    "s1"
   ]
  },
  {
   "cell_type": "code",
   "execution_count": 196,
   "id": "4e8878bc-83ae-413e-b410-68bf20d16db7",
   "metadata": {},
   "outputs": [
    {
     "data": {
      "text/plain": [
       "0    20\n",
       "1    82\n",
       "2    86\n",
       "3    74\n",
       "4    74\n",
       "5    87\n",
       "6    99\n",
       "dtype: int64"
      ]
     },
     "execution_count": 196,
     "metadata": {},
     "output_type": "execute_result"
    }
   ],
   "source": [
    "s2"
   ]
  },
  {
   "cell_type": "code",
   "execution_count": 198,
   "id": "38648056-bfa0-4f87-83ef-f7a8c76889da",
   "metadata": {},
   "outputs": [
    {
     "data": {
      "text/plain": [
       "(array([51, 92, 14, 71, 60]), array([20, 82, 86, 74, 74, 87, 99]))"
      ]
     },
     "execution_count": 198,
     "metadata": {},
     "output_type": "execute_result"
    }
   ],
   "source": [
    "a1, a2"
   ]
  },
  {
   "cell_type": "code",
   "execution_count": 199,
   "id": "45bc0ecf-7f35-4db0-aa30-e900807890ba",
   "metadata": {},
   "outputs": [
    {
     "ename": "ValueError",
     "evalue": "operands could not be broadcast together with shapes (5,) (7,) ",
     "output_type": "error",
     "traceback": [
      "\u001b[0;31m---------------------------------------------------------------------------\u001b[0m",
      "\u001b[0;31mValueError\u001b[0m                                Traceback (most recent call last)",
      "\u001b[0;32m<ipython-input-199-638078fd0cbc>\u001b[0m in \u001b[0;36m<module>\u001b[0;34m\u001b[0m\n\u001b[0;32m----> 1\u001b[0;31m \u001b[0ma1\u001b[0m \u001b[0;34m+\u001b[0m \u001b[0ma2\u001b[0m\u001b[0;34m\u001b[0m\u001b[0;34m\u001b[0m\u001b[0m\n\u001b[0m",
      "\u001b[0;31mValueError\u001b[0m: operands could not be broadcast together with shapes (5,) (7,) "
     ]
    }
   ],
   "source": [
    "a1 + a2"
   ]
  },
  {
   "cell_type": "code",
   "execution_count": 201,
   "id": "42da8bb1-f57f-4acf-a8a0-e668d1eaeee6",
   "metadata": {},
   "outputs": [
    {
     "data": {
      "text/plain": [
       "0    51\n",
       "1    92\n",
       "2    14\n",
       "3    71\n",
       "4    60\n",
       "dtype: int64"
      ]
     },
     "execution_count": 201,
     "metadata": {},
     "output_type": "execute_result"
    }
   ],
   "source": [
    "s1"
   ]
  },
  {
   "cell_type": "code",
   "execution_count": 200,
   "id": "0eb3d834-9b6e-4547-9578-4fb0f6ccfa89",
   "metadata": {},
   "outputs": [
    {
     "data": {
      "text/plain": [
       "0     71.0\n",
       "1    174.0\n",
       "2    100.0\n",
       "3    145.0\n",
       "4    134.0\n",
       "5      NaN\n",
       "6      NaN\n",
       "dtype: float64"
      ]
     },
     "execution_count": 200,
     "metadata": {},
     "output_type": "execute_result"
    }
   ],
   "source": [
    "s1 + s2"
   ]
  },
  {
   "cell_type": "code",
   "execution_count": 203,
   "id": "6dbb4495-c875-4797-b895-9814c894a3e2",
   "metadata": {},
   "outputs": [
    {
     "data": {
      "text/plain": [
       "0     71.0\n",
       "1    174.0\n",
       "2    100.0\n",
       "3    145.0\n",
       "4    134.0\n",
       "5     87.0\n",
       "6     99.0\n",
       "dtype: float64"
      ]
     },
     "execution_count": 203,
     "metadata": {},
     "output_type": "execute_result"
    }
   ],
   "source": [
    "s1.add(s2, fill_value=0)"
   ]
  },
  {
   "cell_type": "code",
   "execution_count": 204,
   "id": "1bcf6038-82a9-460d-bd5c-e8c0df727164",
   "metadata": {},
   "outputs": [
    {
     "data": {
      "text/plain": [
       "0    1020.0\n",
       "1    7544.0\n",
       "2    1204.0\n",
       "3    5254.0\n",
       "4    4440.0\n",
       "5       NaN\n",
       "6       NaN\n",
       "dtype: float64"
      ]
     },
     "execution_count": 204,
     "metadata": {},
     "output_type": "execute_result"
    }
   ],
   "source": [
    "s1 * s2"
   ]
  },
  {
   "cell_type": "code",
   "execution_count": 207,
   "id": "45457758-f187-4442-89d5-8d51ebb1197d",
   "metadata": {},
   "outputs": [
    {
     "data": {
      "text/plain": [
       "0    1020.0\n",
       "1    7544.0\n",
       "2    1204.0\n",
       "3    5254.0\n",
       "4    4440.0\n",
       "5      87.0\n",
       "6      99.0\n",
       "dtype: float64"
      ]
     },
     "execution_count": 207,
     "metadata": {},
     "output_type": "execute_result"
    }
   ],
   "source": [
    "s1.multiply(s2, fill_value=1)"
   ]
  },
  {
   "cell_type": "code",
   "execution_count": 213,
   "id": "36046572-5c1b-4eb9-9357-ae2bdb98d139",
   "metadata": {},
   "outputs": [],
   "source": [
    "t1 = pd.Series({valor*10: valor for valor in a1})"
   ]
  },
  {
   "cell_type": "code",
   "execution_count": 214,
   "id": "037bbf29-279e-403d-ab75-174df1e9185d",
   "metadata": {},
   "outputs": [],
   "source": [
    "t2 = pd.Series({valor: valor for valor in a2})"
   ]
  },
  {
   "cell_type": "code",
   "execution_count": 215,
   "id": "5a6aab8c-1edf-437b-bf50-7377f497ea12",
   "metadata": {},
   "outputs": [
    {
     "data": {
      "text/plain": [
       "510    51\n",
       "920    92\n",
       "140    14\n",
       "710    71\n",
       "600    60\n",
       "dtype: int64"
      ]
     },
     "execution_count": 215,
     "metadata": {},
     "output_type": "execute_result"
    }
   ],
   "source": [
    "t1"
   ]
  },
  {
   "cell_type": "code",
   "execution_count": 216,
   "id": "8b4b0de6-9d74-45fe-99e5-7921e6fa06a5",
   "metadata": {},
   "outputs": [
    {
     "data": {
      "text/plain": [
       "20    20\n",
       "82    82\n",
       "86    86\n",
       "74    74\n",
       "87    87\n",
       "99    99\n",
       "dtype: int64"
      ]
     },
     "execution_count": 216,
     "metadata": {},
     "output_type": "execute_result"
    }
   ],
   "source": [
    "t2"
   ]
  },
  {
   "cell_type": "code",
   "execution_count": 219,
   "id": "75061185-900c-410d-a88d-48068e6b247c",
   "metadata": {},
   "outputs": [
    {
     "data": {
      "text/plain": [
       "20    NaN\n",
       "74    NaN\n",
       "82    NaN\n",
       "86    NaN\n",
       "87    NaN\n",
       "99    NaN\n",
       "140   NaN\n",
       "510   NaN\n",
       "600   NaN\n",
       "710   NaN\n",
       "920   NaN\n",
       "dtype: float64"
      ]
     },
     "execution_count": 219,
     "metadata": {},
     "output_type": "execute_result"
    }
   ],
   "source": [
    "# Operações baseiam-se no indices\n",
    "t1 + t2"
   ]
  },
  {
   "cell_type": "code",
   "execution_count": 220,
   "id": "92ff0abb-2ec7-46e3-999e-154538c6819b",
   "metadata": {},
   "outputs": [],
   "source": [
    "s_texto = pd.Series(['a', 'b', 'c'])\n",
    "s_numero = pd.Series([1, 2, 3])"
   ]
  },
  {
   "cell_type": "code",
   "execution_count": 221,
   "id": "aaeae8b7-877d-453a-8073-5c795a2d88ed",
   "metadata": {},
   "outputs": [
    {
     "data": {
      "text/plain": [
       "'aaa'"
      ]
     },
     "execution_count": 221,
     "metadata": {},
     "output_type": "execute_result"
    }
   ],
   "source": [
    "'a' * 3"
   ]
  },
  {
   "cell_type": "code",
   "execution_count": 222,
   "id": "328de3df-44eb-4c90-94dd-d59b5ba820a1",
   "metadata": {},
   "outputs": [
    {
     "data": {
      "text/plain": [
       "0    aaa\n",
       "1    bbb\n",
       "2    ccc\n",
       "dtype: object"
      ]
     },
     "execution_count": 222,
     "metadata": {},
     "output_type": "execute_result"
    }
   ],
   "source": [
    "s_texto * 3"
   ]
  },
  {
   "cell_type": "code",
   "execution_count": 223,
   "id": "1884d127-d4ab-4815-bca8-49726b227cf2",
   "metadata": {},
   "outputs": [
    {
     "data": {
      "text/plain": [
       "0      a\n",
       "1     bb\n",
       "2    ccc\n",
       "dtype: object"
      ]
     },
     "execution_count": 223,
     "metadata": {},
     "output_type": "execute_result"
    }
   ],
   "source": [
    "s_texto * s_numero"
   ]
  },
  {
   "cell_type": "code",
   "execution_count": 225,
   "id": "9f0f81ca-3226-40f8-94d8-8258bbd471ef",
   "metadata": {},
   "outputs": [
    {
     "ename": "TypeError",
     "evalue": "can only concatenate str (not \"int\") to str",
     "output_type": "error",
     "traceback": [
      "\u001b[0;31m---------------------------------------------------------------------------\u001b[0m",
      "\u001b[0;31mTypeError\u001b[0m                                 Traceback (most recent call last)",
      "\u001b[0;32m<ipython-input-225-e88bced83533>\u001b[0m in \u001b[0;36m<module>\u001b[0;34m\u001b[0m\n\u001b[0;32m----> 1\u001b[0;31m \u001b[0;34m'a'\u001b[0m \u001b[0;34m+\u001b[0m \u001b[0;36m20\u001b[0m\u001b[0;34m\u001b[0m\u001b[0;34m\u001b[0m\u001b[0m\n\u001b[0m",
      "\u001b[0;31mTypeError\u001b[0m: can only concatenate str (not \"int\") to str"
     ]
    }
   ],
   "source": [
    "'a' + 20"
   ]
  },
  {
   "cell_type": "code",
   "execution_count": 224,
   "id": "17525dbf-9916-4865-b38f-316f89087a27",
   "metadata": {},
   "outputs": [
    {
     "ename": "TypeError",
     "evalue": "can only concatenate str (not \"int\") to str",
     "output_type": "error",
     "traceback": [
      "\u001b[0;31m---------------------------------------------------------------------------\u001b[0m",
      "\u001b[0;31mTypeError\u001b[0m                                 Traceback (most recent call last)",
      "\u001b[0;32m~/opt/anaconda3/lib/python3.8/site-packages/pandas/core/ops/array_ops.py\u001b[0m in \u001b[0;36m_na_arithmetic_op\u001b[0;34m(left, right, op, is_cmp)\u001b[0m\n\u001b[1;32m    165\u001b[0m     \u001b[0;32mtry\u001b[0m\u001b[0;34m:\u001b[0m\u001b[0;34m\u001b[0m\u001b[0;34m\u001b[0m\u001b[0m\n\u001b[0;32m--> 166\u001b[0;31m         \u001b[0mresult\u001b[0m \u001b[0;34m=\u001b[0m \u001b[0mfunc\u001b[0m\u001b[0;34m(\u001b[0m\u001b[0mleft\u001b[0m\u001b[0;34m,\u001b[0m \u001b[0mright\u001b[0m\u001b[0;34m)\u001b[0m\u001b[0;34m\u001b[0m\u001b[0;34m\u001b[0m\u001b[0m\n\u001b[0m\u001b[1;32m    167\u001b[0m     \u001b[0;32mexcept\u001b[0m \u001b[0mTypeError\u001b[0m\u001b[0;34m:\u001b[0m\u001b[0;34m\u001b[0m\u001b[0;34m\u001b[0m\u001b[0m\n",
      "\u001b[0;32m~/opt/anaconda3/lib/python3.8/site-packages/pandas/core/computation/expressions.py\u001b[0m in \u001b[0;36mevaluate\u001b[0;34m(op, a, b, use_numexpr)\u001b[0m\n\u001b[1;32m    238\u001b[0m             \u001b[0;31m# error: \"None\" not callable\u001b[0m\u001b[0;34m\u001b[0m\u001b[0;34m\u001b[0m\u001b[0;34m\u001b[0m\u001b[0m\n\u001b[0;32m--> 239\u001b[0;31m             \u001b[0;32mreturn\u001b[0m \u001b[0m_evaluate\u001b[0m\u001b[0;34m(\u001b[0m\u001b[0mop\u001b[0m\u001b[0;34m,\u001b[0m \u001b[0mop_str\u001b[0m\u001b[0;34m,\u001b[0m \u001b[0ma\u001b[0m\u001b[0;34m,\u001b[0m \u001b[0mb\u001b[0m\u001b[0;34m)\u001b[0m  \u001b[0;31m# type: ignore[misc]\u001b[0m\u001b[0;34m\u001b[0m\u001b[0;34m\u001b[0m\u001b[0m\n\u001b[0m\u001b[1;32m    240\u001b[0m     \u001b[0;32mreturn\u001b[0m \u001b[0m_evaluate_standard\u001b[0m\u001b[0;34m(\u001b[0m\u001b[0mop\u001b[0m\u001b[0;34m,\u001b[0m \u001b[0mop_str\u001b[0m\u001b[0;34m,\u001b[0m \u001b[0ma\u001b[0m\u001b[0;34m,\u001b[0m \u001b[0mb\u001b[0m\u001b[0;34m)\u001b[0m\u001b[0;34m\u001b[0m\u001b[0;34m\u001b[0m\u001b[0m\n",
      "\u001b[0;32m~/opt/anaconda3/lib/python3.8/site-packages/pandas/core/computation/expressions.py\u001b[0m in \u001b[0;36m_evaluate_numexpr\u001b[0;34m(op, op_str, a, b)\u001b[0m\n\u001b[1;32m    127\u001b[0m     \u001b[0;32mif\u001b[0m \u001b[0mresult\u001b[0m \u001b[0;32mis\u001b[0m \u001b[0;32mNone\u001b[0m\u001b[0;34m:\u001b[0m\u001b[0;34m\u001b[0m\u001b[0;34m\u001b[0m\u001b[0m\n\u001b[0;32m--> 128\u001b[0;31m         \u001b[0mresult\u001b[0m \u001b[0;34m=\u001b[0m \u001b[0m_evaluate_standard\u001b[0m\u001b[0;34m(\u001b[0m\u001b[0mop\u001b[0m\u001b[0;34m,\u001b[0m \u001b[0mop_str\u001b[0m\u001b[0;34m,\u001b[0m \u001b[0ma\u001b[0m\u001b[0;34m,\u001b[0m \u001b[0mb\u001b[0m\u001b[0;34m)\u001b[0m\u001b[0;34m\u001b[0m\u001b[0;34m\u001b[0m\u001b[0m\n\u001b[0m\u001b[1;32m    129\u001b[0m \u001b[0;34m\u001b[0m\u001b[0m\n",
      "\u001b[0;32m~/opt/anaconda3/lib/python3.8/site-packages/pandas/core/computation/expressions.py\u001b[0m in \u001b[0;36m_evaluate_standard\u001b[0;34m(op, op_str, a, b)\u001b[0m\n\u001b[1;32m     68\u001b[0m         \u001b[0m_store_test_result\u001b[0m\u001b[0;34m(\u001b[0m\u001b[0;32mFalse\u001b[0m\u001b[0;34m)\u001b[0m\u001b[0;34m\u001b[0m\u001b[0;34m\u001b[0m\u001b[0m\n\u001b[0;32m---> 69\u001b[0;31m     \u001b[0;32mreturn\u001b[0m \u001b[0mop\u001b[0m\u001b[0;34m(\u001b[0m\u001b[0ma\u001b[0m\u001b[0;34m,\u001b[0m \u001b[0mb\u001b[0m\u001b[0;34m)\u001b[0m\u001b[0;34m\u001b[0m\u001b[0;34m\u001b[0m\u001b[0m\n\u001b[0m\u001b[1;32m     70\u001b[0m \u001b[0;34m\u001b[0m\u001b[0m\n",
      "\u001b[0;31mTypeError\u001b[0m: can only concatenate str (not \"int\") to str",
      "\nDuring handling of the above exception, another exception occurred:\n",
      "\u001b[0;31mTypeError\u001b[0m                                 Traceback (most recent call last)",
      "\u001b[0;32m<ipython-input-224-1b1d22ded4a1>\u001b[0m in \u001b[0;36m<module>\u001b[0;34m\u001b[0m\n\u001b[0;32m----> 1\u001b[0;31m \u001b[0ms_texto\u001b[0m \u001b[0;34m+\u001b[0m \u001b[0ms_numero\u001b[0m\u001b[0;34m\u001b[0m\u001b[0;34m\u001b[0m\u001b[0m\n\u001b[0m",
      "\u001b[0;32m~/opt/anaconda3/lib/python3.8/site-packages/pandas/core/ops/common.py\u001b[0m in \u001b[0;36mnew_method\u001b[0;34m(self, other)\u001b[0m\n\u001b[1;32m     67\u001b[0m         \u001b[0mother\u001b[0m \u001b[0;34m=\u001b[0m \u001b[0mitem_from_zerodim\u001b[0m\u001b[0;34m(\u001b[0m\u001b[0mother\u001b[0m\u001b[0;34m)\u001b[0m\u001b[0;34m\u001b[0m\u001b[0;34m\u001b[0m\u001b[0m\n\u001b[1;32m     68\u001b[0m \u001b[0;34m\u001b[0m\u001b[0m\n\u001b[0;32m---> 69\u001b[0;31m         \u001b[0;32mreturn\u001b[0m \u001b[0mmethod\u001b[0m\u001b[0;34m(\u001b[0m\u001b[0mself\u001b[0m\u001b[0;34m,\u001b[0m \u001b[0mother\u001b[0m\u001b[0;34m)\u001b[0m\u001b[0;34m\u001b[0m\u001b[0;34m\u001b[0m\u001b[0m\n\u001b[0m\u001b[1;32m     70\u001b[0m \u001b[0;34m\u001b[0m\u001b[0m\n\u001b[1;32m     71\u001b[0m     \u001b[0;32mreturn\u001b[0m \u001b[0mnew_method\u001b[0m\u001b[0;34m\u001b[0m\u001b[0;34m\u001b[0m\u001b[0m\n",
      "\u001b[0;32m~/opt/anaconda3/lib/python3.8/site-packages/pandas/core/arraylike.py\u001b[0m in \u001b[0;36m__add__\u001b[0;34m(self, other)\u001b[0m\n\u001b[1;32m     90\u001b[0m     \u001b[0;34m@\u001b[0m\u001b[0munpack_zerodim_and_defer\u001b[0m\u001b[0;34m(\u001b[0m\u001b[0;34m\"__add__\"\u001b[0m\u001b[0;34m)\u001b[0m\u001b[0;34m\u001b[0m\u001b[0;34m\u001b[0m\u001b[0m\n\u001b[1;32m     91\u001b[0m     \u001b[0;32mdef\u001b[0m \u001b[0m__add__\u001b[0m\u001b[0;34m(\u001b[0m\u001b[0mself\u001b[0m\u001b[0;34m,\u001b[0m \u001b[0mother\u001b[0m\u001b[0;34m)\u001b[0m\u001b[0;34m:\u001b[0m\u001b[0;34m\u001b[0m\u001b[0;34m\u001b[0m\u001b[0m\n\u001b[0;32m---> 92\u001b[0;31m         \u001b[0;32mreturn\u001b[0m \u001b[0mself\u001b[0m\u001b[0;34m.\u001b[0m\u001b[0m_arith_method\u001b[0m\u001b[0;34m(\u001b[0m\u001b[0mother\u001b[0m\u001b[0;34m,\u001b[0m \u001b[0moperator\u001b[0m\u001b[0;34m.\u001b[0m\u001b[0madd\u001b[0m\u001b[0;34m)\u001b[0m\u001b[0;34m\u001b[0m\u001b[0;34m\u001b[0m\u001b[0m\n\u001b[0m\u001b[1;32m     93\u001b[0m \u001b[0;34m\u001b[0m\u001b[0m\n\u001b[1;32m     94\u001b[0m     \u001b[0;34m@\u001b[0m\u001b[0munpack_zerodim_and_defer\u001b[0m\u001b[0;34m(\u001b[0m\u001b[0;34m\"__radd__\"\u001b[0m\u001b[0;34m)\u001b[0m\u001b[0;34m\u001b[0m\u001b[0;34m\u001b[0m\u001b[0m\n",
      "\u001b[0;32m~/opt/anaconda3/lib/python3.8/site-packages/pandas/core/series.py\u001b[0m in \u001b[0;36m_arith_method\u001b[0;34m(self, other, op)\u001b[0m\n\u001b[1;32m   5523\u001b[0m \u001b[0;34m\u001b[0m\u001b[0m\n\u001b[1;32m   5524\u001b[0m         \u001b[0;32mwith\u001b[0m \u001b[0mnp\u001b[0m\u001b[0;34m.\u001b[0m\u001b[0merrstate\u001b[0m\u001b[0;34m(\u001b[0m\u001b[0mall\u001b[0m\u001b[0;34m=\u001b[0m\u001b[0;34m\"ignore\"\u001b[0m\u001b[0;34m)\u001b[0m\u001b[0;34m:\u001b[0m\u001b[0;34m\u001b[0m\u001b[0;34m\u001b[0m\u001b[0m\n\u001b[0;32m-> 5525\u001b[0;31m             \u001b[0mresult\u001b[0m \u001b[0;34m=\u001b[0m \u001b[0mops\u001b[0m\u001b[0;34m.\u001b[0m\u001b[0marithmetic_op\u001b[0m\u001b[0;34m(\u001b[0m\u001b[0mlvalues\u001b[0m\u001b[0;34m,\u001b[0m \u001b[0mrvalues\u001b[0m\u001b[0;34m,\u001b[0m \u001b[0mop\u001b[0m\u001b[0;34m)\u001b[0m\u001b[0;34m\u001b[0m\u001b[0;34m\u001b[0m\u001b[0m\n\u001b[0m\u001b[1;32m   5526\u001b[0m \u001b[0;34m\u001b[0m\u001b[0m\n\u001b[1;32m   5527\u001b[0m         \u001b[0;32mreturn\u001b[0m \u001b[0mself\u001b[0m\u001b[0;34m.\u001b[0m\u001b[0m_construct_result\u001b[0m\u001b[0;34m(\u001b[0m\u001b[0mresult\u001b[0m\u001b[0;34m,\u001b[0m \u001b[0mname\u001b[0m\u001b[0;34m=\u001b[0m\u001b[0mres_name\u001b[0m\u001b[0;34m)\u001b[0m\u001b[0;34m\u001b[0m\u001b[0;34m\u001b[0m\u001b[0m\n",
      "\u001b[0;32m~/opt/anaconda3/lib/python3.8/site-packages/pandas/core/ops/array_ops.py\u001b[0m in \u001b[0;36marithmetic_op\u001b[0;34m(left, right, op)\u001b[0m\n\u001b[1;32m    222\u001b[0m         \u001b[0m_bool_arith_check\u001b[0m\u001b[0;34m(\u001b[0m\u001b[0mop\u001b[0m\u001b[0;34m,\u001b[0m \u001b[0mleft\u001b[0m\u001b[0;34m,\u001b[0m \u001b[0mright\u001b[0m\u001b[0;34m)\u001b[0m\u001b[0;34m\u001b[0m\u001b[0;34m\u001b[0m\u001b[0m\n\u001b[1;32m    223\u001b[0m \u001b[0;34m\u001b[0m\u001b[0m\n\u001b[0;32m--> 224\u001b[0;31m         \u001b[0mres_values\u001b[0m \u001b[0;34m=\u001b[0m \u001b[0m_na_arithmetic_op\u001b[0m\u001b[0;34m(\u001b[0m\u001b[0mleft\u001b[0m\u001b[0;34m,\u001b[0m \u001b[0mright\u001b[0m\u001b[0;34m,\u001b[0m \u001b[0mop\u001b[0m\u001b[0;34m)\u001b[0m\u001b[0;34m\u001b[0m\u001b[0;34m\u001b[0m\u001b[0m\n\u001b[0m\u001b[1;32m    225\u001b[0m \u001b[0;34m\u001b[0m\u001b[0m\n\u001b[1;32m    226\u001b[0m     \u001b[0;32mreturn\u001b[0m \u001b[0mres_values\u001b[0m\u001b[0;34m\u001b[0m\u001b[0;34m\u001b[0m\u001b[0m\n",
      "\u001b[0;32m~/opt/anaconda3/lib/python3.8/site-packages/pandas/core/ops/array_ops.py\u001b[0m in \u001b[0;36m_na_arithmetic_op\u001b[0;34m(left, right, op, is_cmp)\u001b[0m\n\u001b[1;32m    171\u001b[0m             \u001b[0;31m# Don't do this for comparisons, as that will handle complex numbers\u001b[0m\u001b[0;34m\u001b[0m\u001b[0;34m\u001b[0m\u001b[0;34m\u001b[0m\u001b[0m\n\u001b[1;32m    172\u001b[0m             \u001b[0;31m#  incorrectly, see GH#32047\u001b[0m\u001b[0;34m\u001b[0m\u001b[0;34m\u001b[0m\u001b[0;34m\u001b[0m\u001b[0m\n\u001b[0;32m--> 173\u001b[0;31m             \u001b[0mresult\u001b[0m \u001b[0;34m=\u001b[0m \u001b[0m_masked_arith_op\u001b[0m\u001b[0;34m(\u001b[0m\u001b[0mleft\u001b[0m\u001b[0;34m,\u001b[0m \u001b[0mright\u001b[0m\u001b[0;34m,\u001b[0m \u001b[0mop\u001b[0m\u001b[0;34m)\u001b[0m\u001b[0;34m\u001b[0m\u001b[0;34m\u001b[0m\u001b[0m\n\u001b[0m\u001b[1;32m    174\u001b[0m         \u001b[0;32melse\u001b[0m\u001b[0;34m:\u001b[0m\u001b[0;34m\u001b[0m\u001b[0;34m\u001b[0m\u001b[0m\n\u001b[1;32m    175\u001b[0m             \u001b[0;32mraise\u001b[0m\u001b[0;34m\u001b[0m\u001b[0;34m\u001b[0m\u001b[0m\n",
      "\u001b[0;32m~/opt/anaconda3/lib/python3.8/site-packages/pandas/core/ops/array_ops.py\u001b[0m in \u001b[0;36m_masked_arith_op\u001b[0;34m(x, y, op)\u001b[0m\n\u001b[1;32m    110\u001b[0m         \u001b[0;31m# See GH#5284, GH#5035, GH#19448 for historical reference\u001b[0m\u001b[0;34m\u001b[0m\u001b[0;34m\u001b[0m\u001b[0;34m\u001b[0m\u001b[0m\n\u001b[1;32m    111\u001b[0m         \u001b[0;32mif\u001b[0m \u001b[0mmask\u001b[0m\u001b[0;34m.\u001b[0m\u001b[0many\u001b[0m\u001b[0;34m(\u001b[0m\u001b[0;34m)\u001b[0m\u001b[0;34m:\u001b[0m\u001b[0;34m\u001b[0m\u001b[0;34m\u001b[0m\u001b[0m\n\u001b[0;32m--> 112\u001b[0;31m             \u001b[0mresult\u001b[0m\u001b[0;34m[\u001b[0m\u001b[0mmask\u001b[0m\u001b[0;34m]\u001b[0m \u001b[0;34m=\u001b[0m \u001b[0mop\u001b[0m\u001b[0;34m(\u001b[0m\u001b[0mxrav\u001b[0m\u001b[0;34m[\u001b[0m\u001b[0mmask\u001b[0m\u001b[0;34m]\u001b[0m\u001b[0;34m,\u001b[0m \u001b[0myrav\u001b[0m\u001b[0;34m[\u001b[0m\u001b[0mmask\u001b[0m\u001b[0;34m]\u001b[0m\u001b[0;34m)\u001b[0m\u001b[0;34m\u001b[0m\u001b[0;34m\u001b[0m\u001b[0m\n\u001b[0m\u001b[1;32m    113\u001b[0m \u001b[0;34m\u001b[0m\u001b[0m\n\u001b[1;32m    114\u001b[0m     \u001b[0;32melse\u001b[0m\u001b[0;34m:\u001b[0m\u001b[0;34m\u001b[0m\u001b[0;34m\u001b[0m\u001b[0m\n",
      "\u001b[0;31mTypeError\u001b[0m: can only concatenate str (not \"int\") to str"
     ]
    }
   ],
   "source": [
    "s_texto + s_numero"
   ]
  },
  {
   "cell_type": "code",
   "execution_count": 226,
   "id": "bcf213b5-e087-49d4-9e27-f0a322cac2e8",
   "metadata": {},
   "outputs": [
    {
     "data": {
      "text/plain": [
       "0    a1\n",
       "1    b2\n",
       "2    c3\n",
       "dtype: object"
      ]
     },
     "execution_count": 226,
     "metadata": {},
     "output_type": "execute_result"
    }
   ],
   "source": [
    "s_texto + s_numero.astype('str')"
   ]
  },
  {
   "cell_type": "markdown",
   "id": "3aef1bb0-235f-4535-933a-cfc016622e60",
   "metadata": {},
   "source": [
    "Há vários outros métodos muito úteis para séries!\n",
    "\n",
    "Os principais são:"
   ]
  },
  {
   "cell_type": "code",
   "execution_count": 331,
   "id": "7346d457-de5b-4e4d-8b8a-363792abb954",
   "metadata": {},
   "outputs": [],
   "source": [
    "np.random.seed(42)\n",
    "\n",
    "notas = pd.Series(np.random.randint(0, 11, 30))"
   ]
  },
  {
   "cell_type": "code",
   "execution_count": 229,
   "id": "60ad3158-ee44-4204-ac09-26bcaf58e82c",
   "metadata": {},
   "outputs": [],
   "source": [
    "arr_notas = notas.values"
   ]
  },
  {
   "cell_type": "code",
   "execution_count": 230,
   "id": "1aca9e84-9b6d-4bcf-a0d3-b32c926468ef",
   "metadata": {},
   "outputs": [
    {
     "data": {
      "text/plain": [
       "array([ 6,  3, 10,  7,  4,  6,  9,  2,  6, 10, 10,  7,  4,  3,  7,  7,  2,\n",
       "        5,  4,  1,  7,  5,  1,  4,  0,  9,  5,  8,  0, 10])"
      ]
     },
     "execution_count": 230,
     "metadata": {},
     "output_type": "execute_result"
    }
   ],
   "source": [
    "arr_notas"
   ]
  },
  {
   "cell_type": "code",
   "execution_count": 231,
   "id": "1ce937a1-8866-4c39-b34d-3fade2318ea2",
   "metadata": {
    "scrolled": true,
    "tags": []
   },
   "outputs": [
    {
     "data": {
      "text/plain": [
       "0      6\n",
       "1      3\n",
       "2     10\n",
       "3      7\n",
       "4      4\n",
       "5      6\n",
       "6      9\n",
       "7      2\n",
       "8      6\n",
       "9     10\n",
       "10    10\n",
       "11     7\n",
       "12     4\n",
       "13     3\n",
       "14     7\n",
       "15     7\n",
       "16     2\n",
       "17     5\n",
       "18     4\n",
       "19     1\n",
       "20     7\n",
       "21     5\n",
       "22     1\n",
       "23     4\n",
       "24     0\n",
       "25     9\n",
       "26     5\n",
       "27     8\n",
       "28     0\n",
       "29    10\n",
       "dtype: int64"
      ]
     },
     "execution_count": 231,
     "metadata": {},
     "output_type": "execute_result"
    }
   ],
   "source": [
    "notas"
   ]
  },
  {
   "cell_type": "code",
   "execution_count": 234,
   "id": "e4f62397-b768-494c-a4c7-35ece12c7d51",
   "metadata": {},
   "outputs": [],
   "source": [
    "mascara = arr_notas > 0"
   ]
  },
  {
   "cell_type": "code",
   "execution_count": 235,
   "id": "616c23bd-13da-46e1-9653-46aa3d9b09c9",
   "metadata": {},
   "outputs": [
    {
     "data": {
      "text/plain": [
       "array([ 6,  3, 10,  7,  4,  6,  9,  2,  6, 10, 10,  7,  4,  3,  7,  7,  2,\n",
       "        5,  4,  1,  7,  5,  1,  4,  9,  5,  8, 10])"
      ]
     },
     "execution_count": 235,
     "metadata": {},
     "output_type": "execute_result"
    }
   ],
   "source": [
    "arr_notas[mascara]"
   ]
  },
  {
   "cell_type": "code",
   "execution_count": 239,
   "id": "ba063b53-6761-4a8f-bbf9-d441ca978ee2",
   "metadata": {},
   "outputs": [],
   "source": [
    "mascara2 = notas > 0"
   ]
  },
  {
   "cell_type": "code",
   "execution_count": 240,
   "id": "303dce38-2402-40d5-8921-afc40b68cb2c",
   "metadata": {
    "scrolled": true,
    "tags": []
   },
   "outputs": [
    {
     "data": {
      "text/plain": [
       "0      6\n",
       "1      3\n",
       "2     10\n",
       "3      7\n",
       "4      4\n",
       "5      6\n",
       "6      9\n",
       "7      2\n",
       "8      6\n",
       "9     10\n",
       "10    10\n",
       "11     7\n",
       "12     4\n",
       "13     3\n",
       "14     7\n",
       "15     7\n",
       "16     2\n",
       "17     5\n",
       "18     4\n",
       "19     1\n",
       "20     7\n",
       "21     5\n",
       "22     1\n",
       "23     4\n",
       "25     9\n",
       "26     5\n",
       "27     8\n",
       "29    10\n",
       "dtype: int64"
      ]
     },
     "execution_count": 240,
     "metadata": {},
     "output_type": "execute_result"
    }
   ],
   "source": [
    "notas[mascara2]"
   ]
  },
  {
   "cell_type": "code",
   "execution_count": 241,
   "id": "1a54aa20-73b1-4c9f-9fcc-ef698f84bf23",
   "metadata": {},
   "outputs": [],
   "source": [
    "mascara3 = (notas >= 0) & (notas < 5)"
   ]
  },
  {
   "cell_type": "code",
   "execution_count": 264,
   "id": "2b3e3cde-05c7-4799-ae76-6287170a4d8d",
   "metadata": {},
   "outputs": [],
   "source": [
    "notas_vermelhas = notas[mascara3]\n",
    "\n",
    "# Utilizar o ~ para pegar a negativa da mascara\n",
    "notas_azuis = notas[~mascara3]"
   ]
  },
  {
   "cell_type": "code",
   "execution_count": 265,
   "id": "da592024-fab9-428d-b302-3f3a979fca87",
   "metadata": {
    "scrolled": true,
    "tags": []
   },
   "outputs": [
    {
     "data": {
      "text/plain": [
       "0     False\n",
       "1      True\n",
       "2     False\n",
       "3     False\n",
       "4      True\n",
       "5     False\n",
       "6     False\n",
       "7      True\n",
       "8     False\n",
       "9     False\n",
       "10    False\n",
       "11    False\n",
       "12     True\n",
       "13     True\n",
       "14    False\n",
       "15    False\n",
       "16     True\n",
       "17    False\n",
       "18     True\n",
       "19     True\n",
       "20    False\n",
       "21    False\n",
       "22     True\n",
       "23     True\n",
       "24     True\n",
       "25    False\n",
       "26    False\n",
       "27    False\n",
       "28     True\n",
       "29    False\n",
       "dtype: bool"
      ]
     },
     "execution_count": 265,
     "metadata": {},
     "output_type": "execute_result"
    }
   ],
   "source": [
    "mascara3"
   ]
  },
  {
   "cell_type": "code",
   "execution_count": 266,
   "id": "bb10db1c-f3da-4147-af4d-4598b4e2d0ae",
   "metadata": {
    "scrolled": true,
    "tags": []
   },
   "outputs": [
    {
     "data": {
      "text/plain": [
       "0      True\n",
       "1     False\n",
       "2      True\n",
       "3      True\n",
       "4     False\n",
       "5      True\n",
       "6      True\n",
       "7     False\n",
       "8      True\n",
       "9      True\n",
       "10     True\n",
       "11     True\n",
       "12    False\n",
       "13    False\n",
       "14     True\n",
       "15     True\n",
       "16    False\n",
       "17     True\n",
       "18    False\n",
       "19    False\n",
       "20     True\n",
       "21     True\n",
       "22    False\n",
       "23    False\n",
       "24    False\n",
       "25     True\n",
       "26     True\n",
       "27     True\n",
       "28    False\n",
       "29     True\n",
       "dtype: bool"
      ]
     },
     "execution_count": 266,
     "metadata": {},
     "output_type": "execute_result"
    }
   ],
   "source": [
    "(~mascara3)"
   ]
  },
  {
   "cell_type": "code",
   "execution_count": 272,
   "id": "3c00ce44-2f0e-4c17-8376-c1cd9d5a63bf",
   "metadata": {},
   "outputs": [
    {
     "data": {
      "text/plain": [
       "1     3\n",
       "4     4\n",
       "7     2\n",
       "12    4\n",
       "13    3\n",
       "16    2\n",
       "18    4\n",
       "19    1\n",
       "22    1\n",
       "23    4\n",
       "24    0\n",
       "28    0\n",
       "dtype: int64"
      ]
     },
     "execution_count": 272,
     "metadata": {},
     "output_type": "execute_result"
    }
   ],
   "source": [
    "notas_vermelhas"
   ]
  },
  {
   "cell_type": "code",
   "execution_count": 273,
   "id": "69dfa764-008f-46dd-8790-af7611afe79f",
   "metadata": {},
   "outputs": [
    {
     "data": {
      "text/plain": [
       "0      6\n",
       "2     10\n",
       "3      7\n",
       "5      6\n",
       "6      9\n",
       "8      6\n",
       "9     10\n",
       "10    10\n",
       "11     7\n",
       "14     7\n",
       "15     7\n",
       "17     5\n",
       "20     7\n",
       "21     5\n",
       "25     9\n",
       "26     5\n",
       "27     8\n",
       "29    10\n",
       "dtype: int64"
      ]
     },
     "execution_count": 273,
     "metadata": {},
     "output_type": "execute_result"
    }
   ],
   "source": [
    "notas_azuis"
   ]
  },
  {
   "cell_type": "code",
   "execution_count": 285,
   "id": "8058b147-a5fa-4408-832b-32f1137136b6",
   "metadata": {},
   "outputs": [],
   "source": [
    "soma = lambda a, b: a + b"
   ]
  },
  {
   "cell_type": "code",
   "execution_count": 286,
   "id": "2b65676c-e191-49fb-9fff-1411c367d7f3",
   "metadata": {},
   "outputs": [],
   "source": [
    "def soma_func(a, b):\n",
    "    return a + b"
   ]
  },
  {
   "cell_type": "code",
   "execution_count": 287,
   "id": "5c7e46f4-b379-494f-a65e-440c0cdcbb93",
   "metadata": {},
   "outputs": [
    {
     "data": {
      "text/plain": [
       "3"
      ]
     },
     "execution_count": 287,
     "metadata": {},
     "output_type": "execute_result"
    }
   ],
   "source": [
    "soma(1, 2)"
   ]
  },
  {
   "cell_type": "code",
   "execution_count": 288,
   "id": "77b39713-a4cf-45f4-817a-3f761301d0e2",
   "metadata": {},
   "outputs": [
    {
     "data": {
      "text/plain": [
       "3"
      ]
     },
     "execution_count": 288,
     "metadata": {},
     "output_type": "execute_result"
    }
   ],
   "source": [
    "soma_func(1, 2)"
   ]
  },
  {
   "cell_type": "code",
   "execution_count": 289,
   "id": "b5128537-99be-47e0-83fb-5b833ba5a16a",
   "metadata": {},
   "outputs": [],
   "source": [
    "eleva_quad = lambda x: x ** 2"
   ]
  },
  {
   "cell_type": "code",
   "execution_count": 290,
   "id": "cedc52ea-dbd4-4d73-96bf-63b8e1e92c6d",
   "metadata": {},
   "outputs": [
    {
     "data": {
      "text/plain": [
       "16"
      ]
     },
     "execution_count": 290,
     "metadata": {},
     "output_type": "execute_result"
    }
   ],
   "source": [
    "eleva_quad(4)"
   ]
  },
  {
   "cell_type": "code",
   "execution_count": 293,
   "id": "0d28fcad-302a-4a8e-96e3-4e3b21c2928b",
   "metadata": {},
   "outputs": [],
   "source": [
    "lista_valores = [1, 2, 3, 4]"
   ]
  },
  {
   "cell_type": "code",
   "execution_count": 295,
   "id": "749f3103-6ed4-424b-aeea-8c0308bb16ce",
   "metadata": {},
   "outputs": [
    {
     "data": {
      "text/plain": [
       "[1, 4, 9, 16]"
      ]
     },
     "execution_count": 295,
     "metadata": {},
     "output_type": "execute_result"
    }
   ],
   "source": [
    "[eleva_quad(valor) for valor in lista_valores]"
   ]
  },
  {
   "cell_type": "code",
   "execution_count": 296,
   "id": "54cfed68-1507-4602-be6b-7e52a2caecf0",
   "metadata": {
    "scrolled": true,
    "tags": []
   },
   "outputs": [
    {
     "data": {
      "text/plain": [
       "0       par\n",
       "1     impar\n",
       "2       par\n",
       "3     impar\n",
       "4       par\n",
       "5       par\n",
       "6     impar\n",
       "7       par\n",
       "8       par\n",
       "9       par\n",
       "10      par\n",
       "11    impar\n",
       "12      par\n",
       "13    impar\n",
       "14    impar\n",
       "15    impar\n",
       "16      par\n",
       "17    impar\n",
       "18      par\n",
       "19    impar\n",
       "20    impar\n",
       "21    impar\n",
       "22    impar\n",
       "23      par\n",
       "24      par\n",
       "25    impar\n",
       "26    impar\n",
       "27      par\n",
       "28      par\n",
       "29      par\n",
       "dtype: object"
      ]
     },
     "execution_count": 296,
     "metadata": {},
     "output_type": "execute_result"
    }
   ],
   "source": [
    "notas.apply(lambda nota: 'par' if nota % 2 == 0 else 'impar')"
   ]
  },
  {
   "cell_type": "code",
   "execution_count": 297,
   "id": "b6a84a96-ce69-4250-9073-c92d670b5333",
   "metadata": {
    "scrolled": true,
    "tags": []
   },
   "outputs": [
    {
     "data": {
      "text/plain": [
       "0      6\n",
       "1      3\n",
       "2     10\n",
       "3      7\n",
       "4      4\n",
       "5      6\n",
       "6      9\n",
       "7      2\n",
       "8      6\n",
       "9     10\n",
       "10    10\n",
       "11     7\n",
       "12     4\n",
       "13     3\n",
       "14     7\n",
       "15     7\n",
       "16     2\n",
       "17     5\n",
       "18     4\n",
       "19     1\n",
       "20     7\n",
       "21     5\n",
       "22     1\n",
       "23     4\n",
       "24     0\n",
       "25     9\n",
       "26     5\n",
       "27     8\n",
       "28     0\n",
       "29    10\n",
       "dtype: int64"
      ]
     },
     "execution_count": 297,
     "metadata": {},
     "output_type": "execute_result"
    }
   ],
   "source": [
    "notas"
   ]
  },
  {
   "cell_type": "code",
   "execution_count": 307,
   "id": "b5833d58-b7e9-46c4-947c-4492aad46789",
   "metadata": {},
   "outputs": [],
   "source": [
    "notas_check = notas.apply(lambda x: True if x >= 5 else False)"
   ]
  },
  {
   "cell_type": "code",
   "execution_count": 308,
   "id": "14eb9a83-0256-445a-bd9f-6d9168e5c5c6",
   "metadata": {},
   "outputs": [
    {
     "data": {
      "text/plain": [
       "0      6\n",
       "2     10\n",
       "3      7\n",
       "5      6\n",
       "6      9\n",
       "8      6\n",
       "9     10\n",
       "10    10\n",
       "11     7\n",
       "14     7\n",
       "15     7\n",
       "17     5\n",
       "20     7\n",
       "21     5\n",
       "25     9\n",
       "26     5\n",
       "27     8\n",
       "29    10\n",
       "dtype: int64"
      ]
     },
     "execution_count": 308,
     "metadata": {},
     "output_type": "execute_result"
    }
   ],
   "source": [
    "notas[notas_check]"
   ]
  },
  {
   "cell_type": "code",
   "execution_count": 310,
   "id": "5842491b-cfe5-4072-aa3c-4be3d349af4f",
   "metadata": {},
   "outputs": [
    {
     "data": {
      "text/plain": [
       "10"
      ]
     },
     "execution_count": 310,
     "metadata": {},
     "output_type": "execute_result"
    }
   ],
   "source": [
    "notas.max()"
   ]
  },
  {
   "cell_type": "code",
   "execution_count": 311,
   "id": "6c907776-0c41-492f-8190-11b43c9544c0",
   "metadata": {},
   "outputs": [
    {
     "data": {
      "text/plain": [
       "0"
      ]
     },
     "execution_count": 311,
     "metadata": {},
     "output_type": "execute_result"
    }
   ],
   "source": [
    "notas.min()"
   ]
  },
  {
   "cell_type": "code",
   "execution_count": 312,
   "id": "6e70717e-ffb4-45df-b64b-8ba390307c55",
   "metadata": {},
   "outputs": [
    {
     "data": {
      "text/plain": [
       "5.4"
      ]
     },
     "execution_count": 312,
     "metadata": {},
     "output_type": "execute_result"
    }
   ],
   "source": [
    "notas.mean()"
   ]
  },
  {
   "cell_type": "code",
   "execution_count": 313,
   "id": "f581b545-e921-4dcd-ade8-2540db9accbe",
   "metadata": {},
   "outputs": [
    {
     "data": {
      "text/plain": [
       "3.0580588839868725"
      ]
     },
     "execution_count": 313,
     "metadata": {},
     "output_type": "execute_result"
    }
   ],
   "source": [
    "notas.std()"
   ]
  },
  {
   "cell_type": "code",
   "execution_count": 314,
   "id": "b1d2a3ad-da47-4c8b-993c-53ab3916633e",
   "metadata": {},
   "outputs": [
    {
     "data": {
      "text/plain": [
       "30"
      ]
     },
     "execution_count": 314,
     "metadata": {},
     "output_type": "execute_result"
    }
   ],
   "source": [
    "len(notas)"
   ]
  },
  {
   "cell_type": "code",
   "execution_count": 316,
   "id": "1c0441c6-f811-4ea0-b05f-eb2cfddd2511",
   "metadata": {},
   "outputs": [
    {
     "data": {
      "text/plain": [
       "(30,)"
      ]
     },
     "execution_count": 316,
     "metadata": {},
     "output_type": "execute_result"
    }
   ],
   "source": [
    "notas.shape"
   ]
  },
  {
   "cell_type": "code",
   "execution_count": 317,
   "id": "62ba9a8a-f361-47ec-b7f7-2ebd3d36cc9c",
   "metadata": {},
   "outputs": [
    {
     "data": {
      "text/plain": [
       "30"
      ]
     },
     "execution_count": 317,
     "metadata": {},
     "output_type": "execute_result"
    }
   ],
   "source": [
    "notas.size"
   ]
  },
  {
   "cell_type": "code",
   "execution_count": 332,
   "id": "29bacc03-df42-487d-a287-9386cf00527d",
   "metadata": {
    "scrolled": true,
    "tags": []
   },
   "outputs": [
    {
     "data": {
      "text/plain": [
       "24     0\n",
       "28     0\n",
       "22     1\n",
       "19     1\n",
       "16     2\n",
       "7      2\n",
       "1      3\n",
       "13     3\n",
       "12     4\n",
       "18     4\n",
       "23     4\n",
       "4      4\n",
       "21     5\n",
       "26     5\n",
       "17     5\n",
       "8      6\n",
       "5      6\n",
       "0      6\n",
       "20     7\n",
       "14     7\n",
       "11     7\n",
       "3      7\n",
       "15     7\n",
       "27     8\n",
       "6      9\n",
       "25     9\n",
       "10    10\n",
       "9     10\n",
       "2     10\n",
       "29    10\n",
       "dtype: int64"
      ]
     },
     "execution_count": 332,
     "metadata": {},
     "output_type": "execute_result"
    }
   ],
   "source": [
    "notas.sort_values()"
   ]
  },
  {
   "cell_type": "code",
   "execution_count": 335,
   "id": "fb524928-edbf-4b0b-9d52-fdf7d6a64d78",
   "metadata": {
    "scrolled": true,
    "tags": []
   },
   "outputs": [],
   "source": [
    "notas_ordernadas = notas.sort_values(ascending=False)"
   ]
  },
  {
   "cell_type": "code",
   "execution_count": 338,
   "id": "4797a4c2-d7ae-47af-9d79-a47794151123",
   "metadata": {},
   "outputs": [
    {
     "data": {
      "text/plain": [
       "array([ 6,  3, 10,  7,  4,  9,  2,  5,  1,  0,  8])"
      ]
     },
     "execution_count": 338,
     "metadata": {},
     "output_type": "execute_result"
    }
   ],
   "source": [
    "notas.unique()"
   ]
  },
  {
   "cell_type": "code",
   "execution_count": 339,
   "id": "1ccf786a-c481-46d0-bfe4-cb24dba04e6c",
   "metadata": {},
   "outputs": [
    {
     "data": {
      "text/plain": [
       "7     5\n",
       "10    4\n",
       "4     4\n",
       "6     3\n",
       "5     3\n",
       "3     2\n",
       "9     2\n",
       "2     2\n",
       "1     2\n",
       "0     2\n",
       "8     1\n",
       "dtype: int64"
      ]
     },
     "execution_count": 339,
     "metadata": {},
     "output_type": "execute_result"
    }
   ],
   "source": [
    "# Numero de ocorrencia de cada valor unico\n",
    "\n",
    "# Frequencia absoluta\n",
    "notas.value_counts()"
   ]
  },
  {
   "cell_type": "code",
   "execution_count": 340,
   "id": "8ace0ec2-12ad-42ff-b267-8b09293fd9a7",
   "metadata": {},
   "outputs": [
    {
     "data": {
      "text/plain": [
       "7     0.166667\n",
       "10    0.133333\n",
       "4     0.133333\n",
       "6     0.100000\n",
       "5     0.100000\n",
       "3     0.066667\n",
       "9     0.066667\n",
       "2     0.066667\n",
       "1     0.066667\n",
       "0     0.066667\n",
       "8     0.033333\n",
       "dtype: float64"
      ]
     },
     "execution_count": 340,
     "metadata": {},
     "output_type": "execute_result"
    }
   ],
   "source": [
    "notas.value_counts() / notas.size"
   ]
  },
  {
   "cell_type": "code",
   "execution_count": 342,
   "id": "a39dcb8f-7fbd-4cd3-9a31-c1de73dc366d",
   "metadata": {},
   "outputs": [
    {
     "data": {
      "text/plain": [
       "7     0.166667\n",
       "10    0.133333\n",
       "4     0.133333\n",
       "6     0.100000\n",
       "5     0.100000\n",
       "3     0.066667\n",
       "9     0.066667\n",
       "2     0.066667\n",
       "1     0.066667\n",
       "0     0.066667\n",
       "8     0.033333\n",
       "dtype: float64"
      ]
     },
     "execution_count": 342,
     "metadata": {},
     "output_type": "execute_result"
    }
   ],
   "source": [
    "# Frequência relativa\n",
    "notas.value_counts(normalize=True)"
   ]
  },
  {
   "cell_type": "code",
   "execution_count": 346,
   "id": "244d6d51-a485-41a5-9068-c7b8faddc90c",
   "metadata": {},
   "outputs": [],
   "source": [
    "def formata_porcentagem(x):\n",
    "    return f'{(x*100):.2f}%'"
   ]
  },
  {
   "cell_type": "code",
   "execution_count": 354,
   "id": "082ef602-4ea8-488a-b6eb-30f1bc694bf5",
   "metadata": {},
   "outputs": [
    {
     "data": {
      "text/plain": [
       "'110.00%'"
      ]
     },
     "execution_count": 354,
     "metadata": {},
     "output_type": "execute_result"
    }
   ],
   "source": [
    "formata_porcentagem(1.1)"
   ]
  },
  {
   "cell_type": "code",
   "execution_count": 358,
   "id": "fd77446c-d1e2-4914-855f-68c044eb1643",
   "metadata": {},
   "outputs": [
    {
     "data": {
      "text/plain": [
       "7     0.167\n",
       "10    0.133\n",
       "4     0.133\n",
       "6     0.100\n",
       "5     0.100\n",
       "3     0.067\n",
       "9     0.067\n",
       "2     0.067\n",
       "1     0.067\n",
       "0     0.067\n",
       "8     0.033\n",
       "dtype: float64"
      ]
     },
     "execution_count": 358,
     "metadata": {},
     "output_type": "execute_result"
    }
   ],
   "source": [
    "(notas\n",
    " .value_counts(normalize=True)\n",
    " .apply(lambda x: round(x, 3)))"
   ]
  },
  {
   "cell_type": "code",
   "execution_count": 360,
   "id": "4370bd4c-d614-452d-aa2c-a326574cc02c",
   "metadata": {},
   "outputs": [
    {
     "data": {
      "text/plain": [
       "7     16.67\n",
       "10    13.33\n",
       "4     13.33\n",
       "6     10.00\n",
       "5     10.00\n",
       "3      6.67\n",
       "9      6.67\n",
       "2      6.67\n",
       "1      6.67\n",
       "0      6.67\n",
       "8      3.33\n",
       "dtype: float64"
      ]
     },
     "execution_count": 360,
     "metadata": {},
     "output_type": "execute_result"
    }
   ],
   "source": [
    "(notas\n",
    " .value_counts(normalize=True)\n",
    " .apply(lambda x: round(x*100, 2)))"
   ]
  },
  {
   "cell_type": "code",
   "execution_count": 362,
   "id": "2661523b-63ef-48f0-a361-6436c6b6c6ca",
   "metadata": {},
   "outputs": [
    {
     "data": {
      "text/plain": [
       "7     16.67%\n",
       "10    13.33%\n",
       "4     13.33%\n",
       "6     10.00%\n",
       "5     10.00%\n",
       "3      6.67%\n",
       "9      6.67%\n",
       "2      6.67%\n",
       "1      6.67%\n",
       "0      6.67%\n",
       "8      3.33%\n",
       "dtype: object"
      ]
     },
     "execution_count": 362,
     "metadata": {},
     "output_type": "execute_result"
    }
   ],
   "source": [
    "(notas\n",
    " .value_counts(normalize=True)\n",
    " .apply(lambda x: formata_porcentagem(x))\n",
    ")"
   ]
  },
  {
   "cell_type": "code",
   "execution_count": 364,
   "id": "ce26d108-56ff-4f3f-a95c-aa6cca1eda40",
   "metadata": {},
   "outputs": [
    {
     "data": {
      "text/plain": [
       "7     16.67%\n",
       "10    13.33%\n",
       "4     13.33%\n",
       "6     10.00%\n",
       "5     10.00%\n",
       "3      6.67%\n",
       "9      6.67%\n",
       "2      6.67%\n",
       "1      6.67%\n",
       "0      6.67%\n",
       "8      3.33%\n",
       "dtype: object"
      ]
     },
     "execution_count": 364,
     "metadata": {},
     "output_type": "execute_result"
    }
   ],
   "source": [
    "(notas\n",
    " .value_counts(normalize=True)\n",
    " .apply(lambda x: f'{(x*100):.2f}%')\n",
    ")"
   ]
  },
  {
   "cell_type": "code",
   "execution_count": 369,
   "id": "cd5551d7-1d79-4b79-8db9-4c07d453b6b2",
   "metadata": {},
   "outputs": [
    {
     "data": {
      "text/plain": [
       "0      6\n",
       "1      3\n",
       "2     10\n",
       "3      7\n",
       "4      4\n",
       "5      6\n",
       "6      9\n",
       "7      2\n",
       "8      6\n",
       "9     10\n",
       "10    10\n",
       "11     7\n",
       "12     4\n",
       "13     3\n",
       "14     7\n",
       "15     7\n",
       "16     2\n",
       "17     5\n",
       "18     4\n",
       "19     1\n",
       "20     7\n",
       "21     5\n",
       "22     1\n",
       "23     4\n",
       "24     0\n",
       "25     9\n",
       "26     5\n",
       "27     8\n",
       "28     0\n",
       "29    10\n",
       "dtype: int64"
      ]
     },
     "execution_count": 369,
     "metadata": {},
     "output_type": "execute_result"
    }
   ],
   "source": [
    "notas"
   ]
  },
  {
   "cell_type": "code",
   "execution_count": 370,
   "id": "742f50b9-8350-4db0-8e9b-29819246c4bb",
   "metadata": {},
   "outputs": [
    {
     "data": {
      "text/plain": [
       "162"
      ]
     },
     "execution_count": 370,
     "metadata": {},
     "output_type": "execute_result"
    }
   ],
   "source": [
    "notas.sum()"
   ]
  },
  {
   "cell_type": "code",
   "execution_count": 371,
   "id": "33bb6935-1823-4312-935e-5a7e7f963b53",
   "metadata": {},
   "outputs": [
    {
     "data": {
      "text/plain": [
       "0       6\n",
       "1       9\n",
       "2      19\n",
       "3      26\n",
       "4      30\n",
       "5      36\n",
       "6      45\n",
       "7      47\n",
       "8      53\n",
       "9      63\n",
       "10     73\n",
       "11     80\n",
       "12     84\n",
       "13     87\n",
       "14     94\n",
       "15    101\n",
       "16    103\n",
       "17    108\n",
       "18    112\n",
       "19    113\n",
       "20    120\n",
       "21    125\n",
       "22    126\n",
       "23    130\n",
       "24    130\n",
       "25    139\n",
       "26    144\n",
       "27    152\n",
       "28    152\n",
       "29    162\n",
       "dtype: int64"
      ]
     },
     "execution_count": 371,
     "metadata": {},
     "output_type": "execute_result"
    }
   ],
   "source": [
    "notas.cumsum()"
   ]
  },
  {
   "cell_type": "code",
   "execution_count": 376,
   "id": "585f33fa-0328-4130-80d6-bc47e7139556",
   "metadata": {},
   "outputs": [
    {
     "data": {
      "text/plain": [
       "7     0.166667\n",
       "10    0.300000\n",
       "4     0.433333\n",
       "6     0.533333\n",
       "5     0.633333\n",
       "3     0.700000\n",
       "9     0.766667\n",
       "2     0.833333\n",
       "1     0.900000\n",
       "0     0.966667\n",
       "8     1.000000\n",
       "dtype: float64"
      ]
     },
     "execution_count": 376,
     "metadata": {},
     "output_type": "execute_result"
    }
   ],
   "source": [
    "(notas\n",
    " .value_counts(normalize=True)\n",
    " .cumsum())"
   ]
  },
  {
   "cell_type": "code",
   "execution_count": 382,
   "id": "f6ee7b98-888a-45a1-8f18-f9d5ca2de0a8",
   "metadata": {},
   "outputs": [],
   "source": [
    "total_pop = 30000\n",
    "vacinacao = np.random.randint(0, 1000, 60)"
   ]
  },
  {
   "cell_type": "code",
   "execution_count": 383,
   "id": "b0b2c97a-0f13-45a2-bf94-9014a36ff5d9",
   "metadata": {},
   "outputs": [],
   "source": [
    "serie_vacinacao = pd.Series(vacinacao)"
   ]
  },
  {
   "cell_type": "code",
   "execution_count": 386,
   "id": "b8b2bd20-2118-48f9-aa49-7832f74d285f",
   "metadata": {},
   "outputs": [],
   "source": [
    "serie_normalizada_vacinacao = serie_vacinacao / total_pop"
   ]
  },
  {
   "cell_type": "code",
   "execution_count": 387,
   "id": "b77600a3-750b-4d29-9f55-2df7932d06b0",
   "metadata": {},
   "outputs": [
    {
     "data": {
      "text/plain": [
       "0     0.030600\n",
       "1     0.035567\n",
       "2     0.039933\n",
       "3     0.054333\n",
       "4     0.056267\n",
       "5     0.088533\n",
       "6     0.116367\n",
       "7     0.122967\n",
       "8     0.130100\n",
       "9     0.160000\n",
       "10    0.178667\n",
       "11    0.194367\n",
       "12    0.219133\n",
       "13    0.227333\n",
       "14    0.240033\n",
       "15    0.273033\n",
       "16    0.280967\n",
       "17    0.311833\n",
       "18    0.324033\n",
       "19    0.329600\n",
       "20    0.348233\n",
       "21    0.349900\n",
       "22    0.376900\n",
       "23    0.397200\n",
       "24    0.428867\n",
       "25    0.453100\n",
       "26    0.476033\n",
       "27    0.488667\n",
       "28    0.504433\n",
       "29    0.507067\n",
       "30    0.530267\n",
       "31    0.542467\n",
       "32    0.557800\n",
       "33    0.588133\n",
       "34    0.606067\n",
       "35    0.621100\n",
       "36    0.636533\n",
       "37    0.668500\n",
       "38    0.684400\n",
       "39    0.715233\n",
       "40    0.729200\n",
       "41    0.752733\n",
       "42    0.759833\n",
       "43    0.772100\n",
       "44    0.800533\n",
       "45    0.804300\n",
       "46    0.829400\n",
       "47    0.846133\n",
       "48    0.867300\n",
       "49    0.894500\n",
       "50    0.914067\n",
       "51    0.924400\n",
       "52    0.940000\n",
       "53    0.967433\n",
       "54    0.991000\n",
       "55    1.019733\n",
       "56    1.021167\n",
       "57    1.034967\n",
       "58    1.058200\n",
       "59    1.086667\n",
       "dtype: float64"
      ]
     },
     "execution_count": 387,
     "metadata": {},
     "output_type": "execute_result"
    }
   ],
   "source": [
    "serie_normalizada_vacinacao.cumsum()"
   ]
  },
  {
   "cell_type": "code",
   "execution_count": 434,
   "id": "d8865222-3f22-48f6-aec4-022205720553",
   "metadata": {},
   "outputs": [],
   "source": [
    "meta = 1.5*10**6\n",
    "vendas = np.random.randint(12000, 50000, 61)\n",
    "serie_vendas = pd.Series(vendas)"
   ]
  },
  {
   "cell_type": "code",
   "execution_count": 435,
   "id": "32243de9-7736-41b1-b154-9752a1fcb3c5",
   "metadata": {},
   "outputs": [],
   "source": [
    "serie_normalizada_vendas = serie_vendas / meta"
   ]
  },
  {
   "cell_type": "code",
   "execution_count": 436,
   "id": "caa0af76-68f2-456d-a143-24dbb42d52ea",
   "metadata": {
    "scrolled": true,
    "tags": []
   },
   "outputs": [
    {
     "data": {
      "text/plain": [
       "0     0.010257\n",
       "1     0.040717\n",
       "2     0.055628\n",
       "3     0.085849\n",
       "4     0.106944\n",
       "        ...   \n",
       "56    1.231609\n",
       "57    1.257415\n",
       "58    1.265447\n",
       "59    1.286747\n",
       "60    1.304862\n",
       "Length: 61, dtype: float64"
      ]
     },
     "execution_count": 436,
     "metadata": {},
     "output_type": "execute_result"
    }
   ],
   "source": [
    "serie_normalizada_vendas.cumsum()"
   ]
  },
  {
   "cell_type": "code",
   "execution_count": 437,
   "id": "6623f02c-e368-4ce7-b82f-8150dac0c747",
   "metadata": {},
   "outputs": [
    {
     "data": {
      "text/plain": [
       "0.033"
      ]
     },
     "execution_count": 437,
     "metadata": {},
     "output_type": "execute_result"
    }
   ],
   "source": [
    "serie_normalizada_vendas.max()"
   ]
  },
  {
   "cell_type": "code",
   "execution_count": 438,
   "id": "bfb47028-92b2-498f-9942-395903d4e22b",
   "metadata": {},
   "outputs": [
    {
     "data": {
      "text/plain": [
       "0.008032"
      ]
     },
     "execution_count": 438,
     "metadata": {},
     "output_type": "execute_result"
    }
   ],
   "source": [
    "serie_normalizada_vendas.min()"
   ]
  },
  {
   "cell_type": "code",
   "execution_count": 439,
   "id": "82d83fed-6e81-41b6-8896-016f0d62e8c8",
   "metadata": {},
   "outputs": [
    {
     "data": {
      "text/plain": [
       "58    0.008032\n",
       "dtype: float64"
      ]
     },
     "execution_count": 439,
     "metadata": {},
     "output_type": "execute_result"
    }
   ],
   "source": [
    "# pegando a linha com menor valor, utilizando o indice que retorna do argmin(), retorna apenas um valor\n",
    "serie_normalizada_vendas.loc[serie_normalizada_vendas.argmin(): serie_normalizada_vendas.argmin()]"
   ]
  },
  {
   "cell_type": "code",
   "execution_count": 440,
   "id": "9395206f-0547-4bf4-8074-c27f338ebbc5",
   "metadata": {},
   "outputs": [
    {
     "data": {
      "text/plain": [
       "58    0.008032\n",
       "dtype: float64"
      ]
     },
     "execution_count": 440,
     "metadata": {},
     "output_type": "execute_result"
    }
   ],
   "source": [
    "# pegando a linha com menor valor, utilizando uma comparação booleana, retorna todas as linhas com menor valor\n",
    "serie_normalizada_vendas.loc[serie_normalizada_vendas == serie_normalizada_vendas.min()]"
   ]
  },
  {
   "cell_type": "code",
   "execution_count": 441,
   "id": "f4644747-d34d-456d-8055-12de5a3a595a",
   "metadata": {},
   "outputs": [
    {
     "data": {
      "text/plain": [
       "0     0.010257\n",
       "2     0.014911\n",
       "5     0.015193\n",
       "11    0.008233\n",
       "20    0.012780\n",
       "21    0.016869\n",
       "22    0.012138\n",
       "23    0.016211\n",
       "25    0.012160\n",
       "26    0.009262\n",
       "27    0.017169\n",
       "28    0.015488\n",
       "29    0.019673\n",
       "30    0.010078\n",
       "32    0.010695\n",
       "35    0.017344\n",
       "40    0.013858\n",
       "41    0.009324\n",
       "42    0.015295\n",
       "43    0.019639\n",
       "44    0.016107\n",
       "49    0.013848\n",
       "51    0.008807\n",
       "52    0.008153\n",
       "53    0.017563\n",
       "56    0.019257\n",
       "58    0.008032\n",
       "60    0.018115\n",
       "dtype: float64"
      ]
     },
     "execution_count": 441,
     "metadata": {},
     "output_type": "execute_result"
    }
   ],
   "source": [
    "serie_normalizada_vendas.loc[serie_normalizada_vendas <= 0.02]"
   ]
  },
  {
   "cell_type": "code",
   "execution_count": 442,
   "id": "d6dcbd17-ab1a-4be1-be08-e157586839d2",
   "metadata": {},
   "outputs": [
    {
     "data": {
      "text/plain": [
       "0.021391180327868863"
      ]
     },
     "execution_count": 442,
     "metadata": {},
     "output_type": "execute_result"
    }
   ],
   "source": [
    "serie_normalizada_vendas.mean()"
   ]
  },
  {
   "cell_type": "code",
   "execution_count": 443,
   "id": "28e69a79-b1de-4ade-bd3e-385cc4d41a6c",
   "metadata": {},
   "outputs": [
    {
     "data": {
      "text/plain": [
       "0.008096072014569045"
      ]
     },
     "execution_count": 443,
     "metadata": {},
     "output_type": "execute_result"
    }
   ],
   "source": [
    "serie_normalizada_vendas.std()"
   ]
  },
  {
   "cell_type": "code",
   "execution_count": 445,
   "id": "09095d92-7911-4824-b72f-8de7661e5449",
   "metadata": {},
   "outputs": [
    {
     "data": {
      "text/plain": [
       "30"
      ]
     },
     "execution_count": 445,
     "metadata": {},
     "output_type": "execute_result"
    }
   ],
   "source": []
  },
  {
   "cell_type": "code",
   "execution_count": 458,
   "id": "8fbd6bb6-afb3-41e0-9102-7d7622816d98",
   "metadata": {
    "scrolled": true,
    "tags": []
   },
   "outputs": [
    {
     "data": {
      "text/plain": [
       "0.021094666666666668"
      ]
     },
     "execution_count": 458,
     "metadata": {},
     "output_type": "execute_result"
    }
   ],
   "source": [
    "(serie_normalizada_vendas\n",
    " .sort_values()\n",
    " .values\n",
    " [int(serie_normalizada_vendas.size/2)])"
   ]
  },
  {
   "cell_type": "code",
   "execution_count": 449,
   "id": "3b5a1061-e43a-44c1-9467-594c6e8a1bed",
   "metadata": {},
   "outputs": [
    {
     "data": {
      "text/plain": [
       "0.021094666666666668"
      ]
     },
     "execution_count": 449,
     "metadata": {},
     "output_type": "execute_result"
    }
   ],
   "source": [
    "serie_normalizada_vendas.median()"
   ]
  },
  {
   "cell_type": "code",
   "execution_count": 460,
   "id": "6d8eadeb-2a1a-4419-a1d8-e5b173e41b51",
   "metadata": {},
   "outputs": [
    {
     "data": {
      "text/plain": [
       "0.015192666666666667"
      ]
     },
     "execution_count": 460,
     "metadata": {},
     "output_type": "execute_result"
    }
   ],
   "source": [
    "np.quantile(serie_normalizada_vendas, 0.25)"
   ]
  },
  {
   "cell_type": "code",
   "execution_count": 461,
   "id": "cb60cea7-df15-42a6-abbc-b4acdf4d203b",
   "metadata": {},
   "outputs": [
    {
     "data": {
      "text/plain": [
       "0.021094666666666668"
      ]
     },
     "execution_count": 461,
     "metadata": {},
     "output_type": "execute_result"
    }
   ],
   "source": [
    "np.quantile(serie_normalizada_vendas, 0.50)"
   ]
  },
  {
   "cell_type": "code",
   "execution_count": 462,
   "id": "90e57706-a0db-4ee4-9692-940e086f14c4",
   "metadata": {},
   "outputs": [
    {
     "data": {
      "text/plain": [
       "0.029994"
      ]
     },
     "execution_count": 462,
     "metadata": {},
     "output_type": "execute_result"
    }
   ],
   "source": [
    "np.quantile(serie_normalizada_vendas, 0.75)"
   ]
  },
  {
   "cell_type": "code",
   "execution_count": 463,
   "id": "a349392e-d570-4dfa-a282-a9a0a194c87f",
   "metadata": {},
   "outputs": [
    {
     "data": {
      "text/plain": [
       "count    61.000000\n",
       "mean      0.021391\n",
       "std       0.008096\n",
       "min       0.008032\n",
       "25%       0.015193\n",
       "50%       0.021095\n",
       "75%       0.029994\n",
       "max       0.033000\n",
       "dtype: float64"
      ]
     },
     "execution_count": 463,
     "metadata": {},
     "output_type": "execute_result"
    }
   ],
   "source": [
    "serie_normalizada_vendas.describe()"
   ]
  },
  {
   "cell_type": "markdown",
   "id": "137da353-d400-4f6b-a038-28271827ef26",
   "metadata": {},
   "source": [
    "Como séries são construídas a partir de numpy arrays, podemos também fazer filtros!"
   ]
  },
  {
   "cell_type": "code",
   "execution_count": 466,
   "id": "c356f7ef-41ed-45b5-8a20-26242e6ea577",
   "metadata": {},
   "outputs": [
    {
     "data": {
      "text/plain": [
       "count    31.000000\n",
       "mean      0.028316\n",
       "std       0.003844\n",
       "min       0.021095\n",
       "25%       0.025424\n",
       "50%       0.029994\n",
       "75%       0.031673\n",
       "max       0.033000\n",
       "dtype: float64"
      ]
     },
     "execution_count": 466,
     "metadata": {},
     "output_type": "execute_result"
    }
   ],
   "source": [
    "serie_normalizada_vendas[serie_normalizada_vendas>0.021].describe()"
   ]
  },
  {
   "cell_type": "code",
   "execution_count": 467,
   "id": "19549fb5-f5b6-4da3-a96a-fa4f92c217f9",
   "metadata": {},
   "outputs": [
    {
     "data": {
      "text/plain": [
       "count    30.000000\n",
       "mean      0.021760\n",
       "std       0.004412\n",
       "min       0.015295\n",
       "25%       0.017701\n",
       "50%       0.021197\n",
       "75%       0.025614\n",
       "max       0.029994\n",
       "dtype: float64"
      ]
     },
     "execution_count": 467,
     "metadata": {},
     "output_type": "execute_result"
    }
   ],
   "source": [
    "serie_normalizada_vendas[(serie_normalizada_vendas >= 0.015193) & \n",
    "                         (serie_normalizada_vendas <= 0.029994)].describe()"
   ]
  },
  {
   "cell_type": "markdown",
   "id": "32914cac-5e70-4fb5-a419-d991e97bde62",
   "metadata": {},
   "source": [
    "### DataFrame\n",
    "\n",
    "Agora que conhecemos as séries, vamos partir pro objeto do Pandas que mais utilizaremos: o **DataFrame**\n",
    "\n",
    "Como veremos a seguir, o DataFrame é uma estrutura que se assemalha a uma **tabela**.\n",
    "\n",
    "Estruturalmente, o DataFrame nada mais é que um **conjunto de Series**, uma para cada coluna (e, claro, com mesmo índice, que irão indexar as linhas)."
   ]
  },
  {
   "cell_type": "markdown",
   "id": "45f31fac-2452-4bd0-ac04-77567dc0c522",
   "metadata": {},
   "source": [
    "Veremos depois como **ler um dataframe a partir de um arquivo** (que é provavelmente a forma mais comum)"
   ]
  },
  {
   "cell_type": "markdown",
   "id": "263ea5cb-85e3-41fe-a0e5-01a1206dbda5",
   "metadata": {},
   "source": [
    "Há muitas formas de construir um DataFrame do zero. Todas elas fazem uso da função **pd.DataFrame()**, como veremos a seguir.\n",
    "\n",
    "Se quisermos especificar os índices de linha, o nome das colunas, e os dados, podemos passá-los separadamente: "
   ]
  },
  {
   "cell_type": "code",
   "execution_count": 474,
   "id": "bb0526dc-5302-436e-ada7-e6b5aa6839f3",
   "metadata": {},
   "outputs": [],
   "source": [
    "np.random.seed(42)\n",
    "m = np.random.randint(-100, 100, (5, 3))"
   ]
  },
  {
   "cell_type": "code",
   "execution_count": 476,
   "id": "1a1a3626-3122-4df7-b00b-1aec9679bc0d",
   "metadata": {},
   "outputs": [
    {
     "data": {
      "text/html": [
       "<div>\n",
       "<style scoped>\n",
       "    .dataframe tbody tr th:only-of-type {\n",
       "        vertical-align: middle;\n",
       "    }\n",
       "\n",
       "    .dataframe tbody tr th {\n",
       "        vertical-align: top;\n",
       "    }\n",
       "\n",
       "    .dataframe thead th {\n",
       "        text-align: right;\n",
       "    }\n",
       "</style>\n",
       "<table border=\"1\" class=\"dataframe\">\n",
       "  <thead>\n",
       "    <tr style=\"text-align: right;\">\n",
       "      <th></th>\n",
       "      <th>0</th>\n",
       "      <th>1</th>\n",
       "      <th>2</th>\n",
       "    </tr>\n",
       "  </thead>\n",
       "  <tbody>\n",
       "    <tr>\n",
       "      <th>0</th>\n",
       "      <td>2</td>\n",
       "      <td>79</td>\n",
       "      <td>-8</td>\n",
       "    </tr>\n",
       "    <tr>\n",
       "      <th>1</th>\n",
       "      <td>-86</td>\n",
       "      <td>6</td>\n",
       "      <td>-29</td>\n",
       "    </tr>\n",
       "    <tr>\n",
       "      <th>2</th>\n",
       "      <td>88</td>\n",
       "      <td>-80</td>\n",
       "      <td>2</td>\n",
       "    </tr>\n",
       "    <tr>\n",
       "      <th>3</th>\n",
       "      <td>21</td>\n",
       "      <td>-26</td>\n",
       "      <td>-13</td>\n",
       "    </tr>\n",
       "    <tr>\n",
       "      <th>4</th>\n",
       "      <td>16</td>\n",
       "      <td>-1</td>\n",
       "      <td>3</td>\n",
       "    </tr>\n",
       "  </tbody>\n",
       "</table>\n",
       "</div>"
      ],
      "text/plain": [
       "    0   1   2\n",
       "0   2  79  -8\n",
       "1 -86   6 -29\n",
       "2  88 -80   2\n",
       "3  21 -26 -13\n",
       "4  16  -1   3"
      ]
     },
     "execution_count": 476,
     "metadata": {},
     "output_type": "execute_result"
    }
   ],
   "source": [
    "pd.DataFrame(m)"
   ]
  },
  {
   "cell_type": "code",
   "execution_count": 477,
   "id": "c7f6648c-80f0-4544-8b13-177adf14dff4",
   "metadata": {},
   "outputs": [],
   "source": [
    "df_nome_linhas = pd.DataFrame(\n",
    "                             m,\n",
    "                             index = ['obs1', 'obs2', 'obs3', 'obs4', 'obs5'],\n",
    "                             columns=['variavel_1', 'variavel_2', 'variavel_3']\n",
    "                        )"
   ]
  },
  {
   "cell_type": "code",
   "execution_count": 478,
   "id": "45bcdfc9-1818-4b34-88d8-a05d20bd9204",
   "metadata": {},
   "outputs": [
    {
     "data": {
      "text/html": [
       "<div>\n",
       "<style scoped>\n",
       "    .dataframe tbody tr th:only-of-type {\n",
       "        vertical-align: middle;\n",
       "    }\n",
       "\n",
       "    .dataframe tbody tr th {\n",
       "        vertical-align: top;\n",
       "    }\n",
       "\n",
       "    .dataframe thead th {\n",
       "        text-align: right;\n",
       "    }\n",
       "</style>\n",
       "<table border=\"1\" class=\"dataframe\">\n",
       "  <thead>\n",
       "    <tr style=\"text-align: right;\">\n",
       "      <th></th>\n",
       "      <th>variavel_1</th>\n",
       "      <th>variavel_2</th>\n",
       "      <th>variavel_3</th>\n",
       "    </tr>\n",
       "  </thead>\n",
       "  <tbody>\n",
       "    <tr>\n",
       "      <th>obs1</th>\n",
       "      <td>2</td>\n",
       "      <td>79</td>\n",
       "      <td>-8</td>\n",
       "    </tr>\n",
       "    <tr>\n",
       "      <th>obs2</th>\n",
       "      <td>-86</td>\n",
       "      <td>6</td>\n",
       "      <td>-29</td>\n",
       "    </tr>\n",
       "    <tr>\n",
       "      <th>obs3</th>\n",
       "      <td>88</td>\n",
       "      <td>-80</td>\n",
       "      <td>2</td>\n",
       "    </tr>\n",
       "    <tr>\n",
       "      <th>obs4</th>\n",
       "      <td>21</td>\n",
       "      <td>-26</td>\n",
       "      <td>-13</td>\n",
       "    </tr>\n",
       "    <tr>\n",
       "      <th>obs5</th>\n",
       "      <td>16</td>\n",
       "      <td>-1</td>\n",
       "      <td>3</td>\n",
       "    </tr>\n",
       "  </tbody>\n",
       "</table>\n",
       "</div>"
      ],
      "text/plain": [
       "      variavel_1  variavel_2  variavel_3\n",
       "obs1           2          79          -8\n",
       "obs2         -86           6         -29\n",
       "obs3          88         -80           2\n",
       "obs4          21         -26         -13\n",
       "obs5          16          -1           3"
      ]
     },
     "execution_count": 478,
     "metadata": {},
     "output_type": "execute_result"
    }
   ],
   "source": [
    "df_nome_linhas"
   ]
  },
  {
   "cell_type": "code",
   "execution_count": 479,
   "id": "01814954-02c2-45c3-8fb8-847daa0436d0",
   "metadata": {},
   "outputs": [
    {
     "data": {
      "text/plain": [
       "variavel_1    88\n",
       "variavel_2   -80\n",
       "variavel_3     2\n",
       "Name: obs3, dtype: int64"
      ]
     },
     "execution_count": 479,
     "metadata": {},
     "output_type": "execute_result"
    }
   ],
   "source": [
    "df_nome_linhas.loc['obs3']"
   ]
  },
  {
   "cell_type": "code",
   "execution_count": 480,
   "id": "6c3dccca-1f4e-428e-8740-69b9533e3284",
   "metadata": {},
   "outputs": [
    {
     "data": {
      "text/plain": [
       "variavel_1    88\n",
       "variavel_2   -80\n",
       "variavel_3     2\n",
       "Name: obs3, dtype: int64"
      ]
     },
     "execution_count": 480,
     "metadata": {},
     "output_type": "execute_result"
    }
   ],
   "source": [
    "df_nome_linhas.iloc[2]"
   ]
  },
  {
   "cell_type": "code",
   "execution_count": 481,
   "id": "be03239e-46c8-46db-889b-5f6d3f77f40f",
   "metadata": {},
   "outputs": [
    {
     "data": {
      "text/plain": [
       "-80"
      ]
     },
     "execution_count": 481,
     "metadata": {},
     "output_type": "execute_result"
    }
   ],
   "source": [
    "df_nome_linhas.loc['obs3', 'variavel_2']"
   ]
  },
  {
   "cell_type": "code",
   "execution_count": 483,
   "id": "06c390fb-070a-4181-8980-bc616248fc73",
   "metadata": {},
   "outputs": [
    {
     "data": {
      "text/plain": [
       "obs1    79\n",
       "obs2     6\n",
       "obs3   -80\n",
       "obs4   -26\n",
       "obs5    -1\n",
       "Name: variavel_2, dtype: int64"
      ]
     },
     "execution_count": 483,
     "metadata": {},
     "output_type": "execute_result"
    }
   ],
   "source": [
    "# Selecionando todas as linhas de uma dada coluna\n",
    "df_nome_linhas['variavel_2']"
   ]
  },
  {
   "cell_type": "code",
   "execution_count": 484,
   "id": "90f7a4e3-6a5c-4fe5-bffa-b3bb57621b7e",
   "metadata": {},
   "outputs": [
    {
     "data": {
      "text/plain": [
       "obs1    79\n",
       "obs2     6\n",
       "obs3   -80\n",
       "obs4   -26\n",
       "obs5    -1\n",
       "Name: variavel_2, dtype: int64"
      ]
     },
     "execution_count": 484,
     "metadata": {},
     "output_type": "execute_result"
    }
   ],
   "source": [
    "# Selecionando todas as linhas de uma dada coluna utilizando o .loc\n",
    "df_nome_linhas.loc[:, 'variavel_2']"
   ]
  },
  {
   "cell_type": "code",
   "execution_count": 485,
   "id": "23ebb3e5-84d1-4cd1-9b4b-fba50a872b8f",
   "metadata": {},
   "outputs": [
    {
     "data": {
      "text/html": [
       "<div>\n",
       "<style scoped>\n",
       "    .dataframe tbody tr th:only-of-type {\n",
       "        vertical-align: middle;\n",
       "    }\n",
       "\n",
       "    .dataframe tbody tr th {\n",
       "        vertical-align: top;\n",
       "    }\n",
       "\n",
       "    .dataframe thead th {\n",
       "        text-align: right;\n",
       "    }\n",
       "</style>\n",
       "<table border=\"1\" class=\"dataframe\">\n",
       "  <thead>\n",
       "    <tr style=\"text-align: right;\">\n",
       "      <th></th>\n",
       "      <th>variavel_1</th>\n",
       "      <th>variavel_2</th>\n",
       "      <th>variavel_3</th>\n",
       "    </tr>\n",
       "  </thead>\n",
       "  <tbody>\n",
       "    <tr>\n",
       "      <th>obs1</th>\n",
       "      <td>2</td>\n",
       "      <td>79</td>\n",
       "      <td>-8</td>\n",
       "    </tr>\n",
       "    <tr>\n",
       "      <th>obs2</th>\n",
       "      <td>-86</td>\n",
       "      <td>6</td>\n",
       "      <td>-29</td>\n",
       "    </tr>\n",
       "    <tr>\n",
       "      <th>obs3</th>\n",
       "      <td>88</td>\n",
       "      <td>-80</td>\n",
       "      <td>2</td>\n",
       "    </tr>\n",
       "    <tr>\n",
       "      <th>obs4</th>\n",
       "      <td>21</td>\n",
       "      <td>-26</td>\n",
       "      <td>-13</td>\n",
       "    </tr>\n",
       "    <tr>\n",
       "      <th>obs5</th>\n",
       "      <td>16</td>\n",
       "      <td>-1</td>\n",
       "      <td>3</td>\n",
       "    </tr>\n",
       "  </tbody>\n",
       "</table>\n",
       "</div>"
      ],
      "text/plain": [
       "      variavel_1  variavel_2  variavel_3\n",
       "obs1           2          79          -8\n",
       "obs2         -86           6         -29\n",
       "obs3          88         -80           2\n",
       "obs4          21         -26         -13\n",
       "obs5          16          -1           3"
      ]
     },
     "execution_count": 485,
     "metadata": {},
     "output_type": "execute_result"
    }
   ],
   "source": [
    "df_nome_linhas"
   ]
  },
  {
   "cell_type": "code",
   "execution_count": 487,
   "id": "5867e4a9-57c7-4937-94a2-10d8e28d24d1",
   "metadata": {},
   "outputs": [
    {
     "data": {
      "text/plain": [
       "-80"
      ]
     },
     "execution_count": 487,
     "metadata": {},
     "output_type": "execute_result"
    }
   ],
   "source": [
    "df_nome_linhas.iloc[2, 1]"
   ]
  },
  {
   "cell_type": "code",
   "execution_count": 492,
   "id": "b1c923a7-d315-4d15-8a37-7b7bf8a7f7c7",
   "metadata": {},
   "outputs": [
    {
     "name": "stdout",
     "output_type": "stream",
     "text": [
      "2\n",
      "79\n",
      "-8\n"
     ]
    }
   ],
   "source": [
    "for col in df_nome_linhas.columns:\n",
    "    print(df_nome_linhas.loc['obs1', col])"
   ]
  },
  {
   "cell_type": "code",
   "execution_count": 494,
   "id": "c7a4c952-ee9f-49f7-8c1e-ea4f1dd6dcde",
   "metadata": {},
   "outputs": [
    {
     "data": {
      "text/plain": [
       "array([ 2, 79, -8])"
      ]
     },
     "execution_count": 494,
     "metadata": {},
     "output_type": "execute_result"
    }
   ],
   "source": [
    "df_nome_linhas.loc['obs1'].values"
   ]
  },
  {
   "cell_type": "code",
   "execution_count": 497,
   "id": "7d9f241c-febc-42f1-8912-8f6c1ad9ed8e",
   "metadata": {},
   "outputs": [
    {
     "data": {
      "text/html": [
       "<div>\n",
       "<style scoped>\n",
       "    .dataframe tbody tr th:only-of-type {\n",
       "        vertical-align: middle;\n",
       "    }\n",
       "\n",
       "    .dataframe tbody tr th {\n",
       "        vertical-align: top;\n",
       "    }\n",
       "\n",
       "    .dataframe thead th {\n",
       "        text-align: right;\n",
       "    }\n",
       "</style>\n",
       "<table border=\"1\" class=\"dataframe\">\n",
       "  <thead>\n",
       "    <tr style=\"text-align: right;\">\n",
       "      <th></th>\n",
       "      <th>variavel_1</th>\n",
       "      <th>variavel_3</th>\n",
       "    </tr>\n",
       "  </thead>\n",
       "  <tbody>\n",
       "    <tr>\n",
       "      <th>obs4</th>\n",
       "      <td>21</td>\n",
       "      <td>-13</td>\n",
       "    </tr>\n",
       "    <tr>\n",
       "      <th>obs5</th>\n",
       "      <td>16</td>\n",
       "      <td>3</td>\n",
       "    </tr>\n",
       "  </tbody>\n",
       "</table>\n",
       "</div>"
      ],
      "text/plain": [
       "      variavel_1  variavel_3\n",
       "obs4          21         -13\n",
       "obs5          16           3"
      ]
     },
     "execution_count": 497,
     "metadata": {},
     "output_type": "execute_result"
    }
   ],
   "source": [
    "df_nome_linhas.iloc[-2:,[0, 2]]"
   ]
  },
  {
   "cell_type": "code",
   "execution_count": 500,
   "id": "274892b3-6d67-4d7c-aada-d5775a0f014f",
   "metadata": {},
   "outputs": [
    {
     "data": {
      "text/plain": [
       "array([[ 21, -13],\n",
       "       [ 16,   3]])"
      ]
     },
     "execution_count": 500,
     "metadata": {},
     "output_type": "execute_result"
    }
   ],
   "source": [
    "df_nome_linhas.iloc[-2:,[0, 2]].values"
   ]
  },
  {
   "cell_type": "code",
   "execution_count": 501,
   "id": "66e43b89-9ea7-4eea-a1ca-bc659bc58a33",
   "metadata": {},
   "outputs": [
    {
     "data": {
      "text/plain": [
       "(5, 3)"
      ]
     },
     "execution_count": 501,
     "metadata": {},
     "output_type": "execute_result"
    }
   ],
   "source": [
    "df_nome_linhas.shape"
   ]
  },
  {
   "cell_type": "code",
   "execution_count": 503,
   "id": "a9173318-0987-4613-b33c-0e31ee77e639",
   "metadata": {},
   "outputs": [
    {
     "data": {
      "text/plain": [
       "3"
      ]
     },
     "execution_count": 503,
     "metadata": {},
     "output_type": "execute_result"
    }
   ],
   "source": [
    "# Número de colunas com o shape\n",
    "df_nome_linhas.shape[1]\n",
    "# Número de colunas com o len\n",
    "len(df_nome_linhas.columns)"
   ]
  },
  {
   "cell_type": "code",
   "execution_count": 508,
   "id": "8806d997-40e4-4ed4-bcbd-6c4ed9d4c673",
   "metadata": {},
   "outputs": [
    {
     "data": {
      "text/plain": [
       "5"
      ]
     },
     "execution_count": 508,
     "metadata": {},
     "output_type": "execute_result"
    }
   ],
   "source": [
    "# Número de linhas com shape\n",
    "df_nome_linhas.shape[0]"
   ]
  },
  {
   "cell_type": "code",
   "execution_count": 509,
   "id": "de31762e-befd-4ef0-ad76-dca150960367",
   "metadata": {},
   "outputs": [
    {
     "data": {
      "text/plain": [
       "5"
      ]
     },
     "execution_count": 509,
     "metadata": {},
     "output_type": "execute_result"
    }
   ],
   "source": [
    "len(df_nome_linhas.index)"
   ]
  },
  {
   "cell_type": "code",
   "execution_count": 510,
   "id": "b9eaba8c-6bee-4d54-ad22-21a1368e4b3f",
   "metadata": {},
   "outputs": [],
   "source": [
    "df_nome_colunas = pd.DataFrame(m,\n",
    "                              columns=['variavel_1', 'variavel_2', 'variavel_3'])"
   ]
  },
  {
   "cell_type": "code",
   "execution_count": 511,
   "id": "adb13e68-6962-4998-9f80-3fa29e2396e9",
   "metadata": {},
   "outputs": [
    {
     "data": {
      "text/html": [
       "<div>\n",
       "<style scoped>\n",
       "    .dataframe tbody tr th:only-of-type {\n",
       "        vertical-align: middle;\n",
       "    }\n",
       "\n",
       "    .dataframe tbody tr th {\n",
       "        vertical-align: top;\n",
       "    }\n",
       "\n",
       "    .dataframe thead th {\n",
       "        text-align: right;\n",
       "    }\n",
       "</style>\n",
       "<table border=\"1\" class=\"dataframe\">\n",
       "  <thead>\n",
       "    <tr style=\"text-align: right;\">\n",
       "      <th></th>\n",
       "      <th>variavel_1</th>\n",
       "      <th>variavel_2</th>\n",
       "      <th>variavel_3</th>\n",
       "    </tr>\n",
       "  </thead>\n",
       "  <tbody>\n",
       "    <tr>\n",
       "      <th>0</th>\n",
       "      <td>2</td>\n",
       "      <td>79</td>\n",
       "      <td>-8</td>\n",
       "    </tr>\n",
       "    <tr>\n",
       "      <th>1</th>\n",
       "      <td>-86</td>\n",
       "      <td>6</td>\n",
       "      <td>-29</td>\n",
       "    </tr>\n",
       "    <tr>\n",
       "      <th>2</th>\n",
       "      <td>88</td>\n",
       "      <td>-80</td>\n",
       "      <td>2</td>\n",
       "    </tr>\n",
       "    <tr>\n",
       "      <th>3</th>\n",
       "      <td>21</td>\n",
       "      <td>-26</td>\n",
       "      <td>-13</td>\n",
       "    </tr>\n",
       "    <tr>\n",
       "      <th>4</th>\n",
       "      <td>16</td>\n",
       "      <td>-1</td>\n",
       "      <td>3</td>\n",
       "    </tr>\n",
       "  </tbody>\n",
       "</table>\n",
       "</div>"
      ],
      "text/plain": [
       "   variavel_1  variavel_2  variavel_3\n",
       "0           2          79          -8\n",
       "1         -86           6         -29\n",
       "2          88         -80           2\n",
       "3          21         -26         -13\n",
       "4          16          -1           3"
      ]
     },
     "execution_count": 511,
     "metadata": {},
     "output_type": "execute_result"
    }
   ],
   "source": [
    "df_nome_colunas"
   ]
  },
  {
   "cell_type": "code",
   "execution_count": 522,
   "id": "ec7a9bd1-11e7-4f2d-9fc0-4c0b79e00544",
   "metadata": {},
   "outputs": [
    {
     "data": {
      "text/plain": [
       "{'variavel_1': {0: 2, 1: -86, 2: 88, 3: 21, 4: 16},\n",
       " 'variavel_2': {0: 79, 1: 6, 2: -80, 3: -26, 4: -1},\n",
       " 'variavel_3': {0: -8, 1: -29, 2: 2, 3: -13, 4: 3}}"
      ]
     },
     "execution_count": 522,
     "metadata": {},
     "output_type": "execute_result"
    }
   ],
   "source": [
    "(df_nome_colunas.to_dict())"
   ]
  },
  {
   "cell_type": "code",
   "execution_count": 521,
   "id": "5c53eaf5-2cb3-471b-ac03-cdd5d0a68703",
   "metadata": {},
   "outputs": [
    {
     "data": {
      "text/html": [
       "<div>\n",
       "<style scoped>\n",
       "    .dataframe tbody tr th:only-of-type {\n",
       "        vertical-align: middle;\n",
       "    }\n",
       "\n",
       "    .dataframe tbody tr th {\n",
       "        vertical-align: top;\n",
       "    }\n",
       "\n",
       "    .dataframe thead th {\n",
       "        text-align: right;\n",
       "    }\n",
       "</style>\n",
       "<table border=\"1\" class=\"dataframe\">\n",
       "  <thead>\n",
       "    <tr style=\"text-align: right;\">\n",
       "      <th></th>\n",
       "      <th>variavel_1</th>\n",
       "      <th>variavel_2</th>\n",
       "      <th>variavel_3</th>\n",
       "    </tr>\n",
       "  </thead>\n",
       "  <tbody>\n",
       "    <tr>\n",
       "      <th>0</th>\n",
       "      <td>2</td>\n",
       "      <td>79</td>\n",
       "      <td>-8</td>\n",
       "    </tr>\n",
       "    <tr>\n",
       "      <th>1</th>\n",
       "      <td>-86</td>\n",
       "      <td>6</td>\n",
       "      <td>-29</td>\n",
       "    </tr>\n",
       "    <tr>\n",
       "      <th>2</th>\n",
       "      <td>88</td>\n",
       "      <td>-80</td>\n",
       "      <td>2</td>\n",
       "    </tr>\n",
       "    <tr>\n",
       "      <th>3</th>\n",
       "      <td>21</td>\n",
       "      <td>-26</td>\n",
       "      <td>-13</td>\n",
       "    </tr>\n",
       "    <tr>\n",
       "      <th>4</th>\n",
       "      <td>16</td>\n",
       "      <td>-1</td>\n",
       "      <td>3</td>\n",
       "    </tr>\n",
       "  </tbody>\n",
       "</table>\n",
       "</div>"
      ],
      "text/plain": [
       "   variavel_1  variavel_2  variavel_3\n",
       "0           2          79          -8\n",
       "1         -86           6         -29\n",
       "2          88         -80           2\n",
       "3          21         -26         -13\n",
       "4          16          -1           3"
      ]
     },
     "execution_count": 521,
     "metadata": {},
     "output_type": "execute_result"
    }
   ],
   "source": [
    "pd.DataFrame(df_nome_colunas.to_dict())"
   ]
  },
  {
   "cell_type": "markdown",
   "id": "0359aff1-5f85-4b16-95a7-fdcb69fe03d3",
   "metadata": {},
   "source": [
    "Outra forma bem natural é utilizar um dicionário cujos valores são listas. Neste caso, as chaves serão o nome das colunas!"
   ]
  },
  {
   "cell_type": "code",
   "execution_count": 518,
   "id": "ce450b30-c5df-4a94-915a-ed4048556209",
   "metadata": {},
   "outputs": [],
   "source": [
    "dic = {\n",
    "    'variavel_1': [2, 79, 78, 88],\n",
    "    'variavel_2': [-86, 6, 78, 192],\n",
    "    'variavel_3': [88, -80, 93, 24]\n",
    "}"
   ]
  },
  {
   "cell_type": "code",
   "execution_count": 525,
   "id": "df4b0f5b-abc7-403e-98d0-f4cd2bdc470f",
   "metadata": {},
   "outputs": [],
   "source": [
    "df_dic = pd.DataFrame(dic)"
   ]
  },
  {
   "cell_type": "code",
   "execution_count": 528,
   "id": "faa70d89-e0ca-40de-9d68-1cd2eb67cf00",
   "metadata": {},
   "outputs": [],
   "source": [
    "df_dic['variavel_1'][1] = -90"
   ]
  },
  {
   "cell_type": "code",
   "execution_count": 529,
   "id": "81f81167-b48c-47c6-88af-9dae9c9253c6",
   "metadata": {},
   "outputs": [
    {
     "data": {
      "text/html": [
       "<div>\n",
       "<style scoped>\n",
       "    .dataframe tbody tr th:only-of-type {\n",
       "        vertical-align: middle;\n",
       "    }\n",
       "\n",
       "    .dataframe tbody tr th {\n",
       "        vertical-align: top;\n",
       "    }\n",
       "\n",
       "    .dataframe thead th {\n",
       "        text-align: right;\n",
       "    }\n",
       "</style>\n",
       "<table border=\"1\" class=\"dataframe\">\n",
       "  <thead>\n",
       "    <tr style=\"text-align: right;\">\n",
       "      <th></th>\n",
       "      <th>variavel_1</th>\n",
       "      <th>variavel_2</th>\n",
       "      <th>variavel_3</th>\n",
       "    </tr>\n",
       "  </thead>\n",
       "  <tbody>\n",
       "    <tr>\n",
       "      <th>0</th>\n",
       "      <td>2</td>\n",
       "      <td>-86</td>\n",
       "      <td>88</td>\n",
       "    </tr>\n",
       "    <tr>\n",
       "      <th>1</th>\n",
       "      <td>-90</td>\n",
       "      <td>6</td>\n",
       "      <td>-80</td>\n",
       "    </tr>\n",
       "    <tr>\n",
       "      <th>2</th>\n",
       "      <td>78</td>\n",
       "      <td>78</td>\n",
       "      <td>93</td>\n",
       "    </tr>\n",
       "    <tr>\n",
       "      <th>3</th>\n",
       "      <td>88</td>\n",
       "      <td>192</td>\n",
       "      <td>24</td>\n",
       "    </tr>\n",
       "  </tbody>\n",
       "</table>\n",
       "</div>"
      ],
      "text/plain": [
       "   variavel_1  variavel_2  variavel_3\n",
       "0           2         -86          88\n",
       "1         -90           6         -80\n",
       "2          78          78          93\n",
       "3          88         192          24"
      ]
     },
     "execution_count": 529,
     "metadata": {},
     "output_type": "execute_result"
    }
   ],
   "source": [
    "df_dic"
   ]
  },
  {
   "cell_type": "code",
   "execution_count": 530,
   "id": "1641238c-3e34-4800-b045-33eb6ca1ee5a",
   "metadata": {},
   "outputs": [],
   "source": [
    "df_dic.loc[1, 'variavel_1'] = -78"
   ]
  },
  {
   "cell_type": "code",
   "execution_count": 531,
   "id": "31cbbc52-0541-431a-9fd5-6073b9aa674e",
   "metadata": {},
   "outputs": [
    {
     "data": {
      "text/html": [
       "<div>\n",
       "<style scoped>\n",
       "    .dataframe tbody tr th:only-of-type {\n",
       "        vertical-align: middle;\n",
       "    }\n",
       "\n",
       "    .dataframe tbody tr th {\n",
       "        vertical-align: top;\n",
       "    }\n",
       "\n",
       "    .dataframe thead th {\n",
       "        text-align: right;\n",
       "    }\n",
       "</style>\n",
       "<table border=\"1\" class=\"dataframe\">\n",
       "  <thead>\n",
       "    <tr style=\"text-align: right;\">\n",
       "      <th></th>\n",
       "      <th>variavel_1</th>\n",
       "      <th>variavel_2</th>\n",
       "      <th>variavel_3</th>\n",
       "    </tr>\n",
       "  </thead>\n",
       "  <tbody>\n",
       "    <tr>\n",
       "      <th>0</th>\n",
       "      <td>2</td>\n",
       "      <td>-86</td>\n",
       "      <td>88</td>\n",
       "    </tr>\n",
       "    <tr>\n",
       "      <th>1</th>\n",
       "      <td>-78</td>\n",
       "      <td>6</td>\n",
       "      <td>-80</td>\n",
       "    </tr>\n",
       "    <tr>\n",
       "      <th>2</th>\n",
       "      <td>78</td>\n",
       "      <td>78</td>\n",
       "      <td>93</td>\n",
       "    </tr>\n",
       "    <tr>\n",
       "      <th>3</th>\n",
       "      <td>88</td>\n",
       "      <td>192</td>\n",
       "      <td>24</td>\n",
       "    </tr>\n",
       "  </tbody>\n",
       "</table>\n",
       "</div>"
      ],
      "text/plain": [
       "   variavel_1  variavel_2  variavel_3\n",
       "0           2         -86          88\n",
       "1         -78           6         -80\n",
       "2          78          78          93\n",
       "3          88         192          24"
      ]
     },
     "execution_count": 531,
     "metadata": {},
     "output_type": "execute_result"
    }
   ],
   "source": [
    "df_dic"
   ]
  },
  {
   "cell_type": "code",
   "execution_count": 532,
   "id": "cf3a3457-6ec6-4bad-930c-b87219527ab3",
   "metadata": {},
   "outputs": [],
   "source": [
    "df_dic.iloc[1, 0] = -150"
   ]
  },
  {
   "cell_type": "code",
   "execution_count": 533,
   "id": "43d72efa-7edf-4d41-91ce-fa4e244e96bc",
   "metadata": {},
   "outputs": [
    {
     "data": {
      "text/html": [
       "<div>\n",
       "<style scoped>\n",
       "    .dataframe tbody tr th:only-of-type {\n",
       "        vertical-align: middle;\n",
       "    }\n",
       "\n",
       "    .dataframe tbody tr th {\n",
       "        vertical-align: top;\n",
       "    }\n",
       "\n",
       "    .dataframe thead th {\n",
       "        text-align: right;\n",
       "    }\n",
       "</style>\n",
       "<table border=\"1\" class=\"dataframe\">\n",
       "  <thead>\n",
       "    <tr style=\"text-align: right;\">\n",
       "      <th></th>\n",
       "      <th>variavel_1</th>\n",
       "      <th>variavel_2</th>\n",
       "      <th>variavel_3</th>\n",
       "    </tr>\n",
       "  </thead>\n",
       "  <tbody>\n",
       "    <tr>\n",
       "      <th>0</th>\n",
       "      <td>2</td>\n",
       "      <td>-86</td>\n",
       "      <td>88</td>\n",
       "    </tr>\n",
       "    <tr>\n",
       "      <th>1</th>\n",
       "      <td>-150</td>\n",
       "      <td>6</td>\n",
       "      <td>-80</td>\n",
       "    </tr>\n",
       "    <tr>\n",
       "      <th>2</th>\n",
       "      <td>78</td>\n",
       "      <td>78</td>\n",
       "      <td>93</td>\n",
       "    </tr>\n",
       "    <tr>\n",
       "      <th>3</th>\n",
       "      <td>88</td>\n",
       "      <td>192</td>\n",
       "      <td>24</td>\n",
       "    </tr>\n",
       "  </tbody>\n",
       "</table>\n",
       "</div>"
      ],
      "text/plain": [
       "   variavel_1  variavel_2  variavel_3\n",
       "0           2         -86          88\n",
       "1        -150           6         -80\n",
       "2          78          78          93\n",
       "3          88         192          24"
      ]
     },
     "execution_count": 533,
     "metadata": {},
     "output_type": "execute_result"
    }
   ],
   "source": [
    "df_dic"
   ]
  },
  {
   "cell_type": "markdown",
   "id": "f5b1cdc9-fc36-4d6d-9df6-7bada40df2b0",
   "metadata": {},
   "source": [
    "Podemos fazer operações com as colunas, dado que elas são séries!"
   ]
  },
  {
   "cell_type": "code",
   "execution_count": 538,
   "id": "c4ba92d5-6ba2-45fc-8748-7afae8650d9e",
   "metadata": {},
   "outputs": [],
   "source": [
    "resultado = df_dic['variavel_1'] + 20"
   ]
  },
  {
   "cell_type": "code",
   "execution_count": 539,
   "id": "0a1187ef-8d34-48ab-8b74-407e8bf3fed0",
   "metadata": {},
   "outputs": [
    {
     "data": {
      "text/plain": [
       "0     22\n",
       "1   -130\n",
       "2     98\n",
       "3    108\n",
       "Name: variavel_1, dtype: int64"
      ]
     },
     "execution_count": 539,
     "metadata": {},
     "output_type": "execute_result"
    }
   ],
   "source": [
    "resultado"
   ]
  },
  {
   "cell_type": "code",
   "execution_count": 540,
   "id": "726feb16-39b9-42b2-96ae-e024ae45f431",
   "metadata": {},
   "outputs": [],
   "source": [
    "df_dic['resultado'] = df_dic['variavel_1'] + 20"
   ]
  },
  {
   "cell_type": "code",
   "execution_count": 541,
   "id": "392b3107-ef99-4b7f-8fdf-02a612b09d71",
   "metadata": {},
   "outputs": [
    {
     "data": {
      "text/html": [
       "<div>\n",
       "<style scoped>\n",
       "    .dataframe tbody tr th:only-of-type {\n",
       "        vertical-align: middle;\n",
       "    }\n",
       "\n",
       "    .dataframe tbody tr th {\n",
       "        vertical-align: top;\n",
       "    }\n",
       "\n",
       "    .dataframe thead th {\n",
       "        text-align: right;\n",
       "    }\n",
       "</style>\n",
       "<table border=\"1\" class=\"dataframe\">\n",
       "  <thead>\n",
       "    <tr style=\"text-align: right;\">\n",
       "      <th></th>\n",
       "      <th>variavel_1</th>\n",
       "      <th>variavel_2</th>\n",
       "      <th>variavel_3</th>\n",
       "      <th>resultado</th>\n",
       "    </tr>\n",
       "  </thead>\n",
       "  <tbody>\n",
       "    <tr>\n",
       "      <th>0</th>\n",
       "      <td>2</td>\n",
       "      <td>-86</td>\n",
       "      <td>88</td>\n",
       "      <td>22</td>\n",
       "    </tr>\n",
       "    <tr>\n",
       "      <th>1</th>\n",
       "      <td>-150</td>\n",
       "      <td>6</td>\n",
       "      <td>-80</td>\n",
       "      <td>-130</td>\n",
       "    </tr>\n",
       "    <tr>\n",
       "      <th>2</th>\n",
       "      <td>78</td>\n",
       "      <td>78</td>\n",
       "      <td>93</td>\n",
       "      <td>98</td>\n",
       "    </tr>\n",
       "    <tr>\n",
       "      <th>3</th>\n",
       "      <td>88</td>\n",
       "      <td>192</td>\n",
       "      <td>24</td>\n",
       "      <td>108</td>\n",
       "    </tr>\n",
       "  </tbody>\n",
       "</table>\n",
       "</div>"
      ],
      "text/plain": [
       "   variavel_1  variavel_2  variavel_3  resultado\n",
       "0           2         -86          88         22\n",
       "1        -150           6         -80       -130\n",
       "2          78          78          93         98\n",
       "3          88         192          24        108"
      ]
     },
     "execution_count": 541,
     "metadata": {},
     "output_type": "execute_result"
    }
   ],
   "source": [
    "df_dic"
   ]
  },
  {
   "cell_type": "code",
   "execution_count": 542,
   "id": "a7f7e8bf-c730-4aff-b4b7-4d61a7b143ba",
   "metadata": {},
   "outputs": [],
   "source": [
    "df_dic['resultado2'] = resultado"
   ]
  },
  {
   "cell_type": "code",
   "execution_count": 543,
   "id": "db686a60-6669-4a25-bf7c-15bad6452a7b",
   "metadata": {},
   "outputs": [
    {
     "data": {
      "text/html": [
       "<div>\n",
       "<style scoped>\n",
       "    .dataframe tbody tr th:only-of-type {\n",
       "        vertical-align: middle;\n",
       "    }\n",
       "\n",
       "    .dataframe tbody tr th {\n",
       "        vertical-align: top;\n",
       "    }\n",
       "\n",
       "    .dataframe thead th {\n",
       "        text-align: right;\n",
       "    }\n",
       "</style>\n",
       "<table border=\"1\" class=\"dataframe\">\n",
       "  <thead>\n",
       "    <tr style=\"text-align: right;\">\n",
       "      <th></th>\n",
       "      <th>variavel_1</th>\n",
       "      <th>variavel_2</th>\n",
       "      <th>variavel_3</th>\n",
       "      <th>resultado</th>\n",
       "      <th>resultado2</th>\n",
       "    </tr>\n",
       "  </thead>\n",
       "  <tbody>\n",
       "    <tr>\n",
       "      <th>0</th>\n",
       "      <td>2</td>\n",
       "      <td>-86</td>\n",
       "      <td>88</td>\n",
       "      <td>22</td>\n",
       "      <td>22</td>\n",
       "    </tr>\n",
       "    <tr>\n",
       "      <th>1</th>\n",
       "      <td>-150</td>\n",
       "      <td>6</td>\n",
       "      <td>-80</td>\n",
       "      <td>-130</td>\n",
       "      <td>-130</td>\n",
       "    </tr>\n",
       "    <tr>\n",
       "      <th>2</th>\n",
       "      <td>78</td>\n",
       "      <td>78</td>\n",
       "      <td>93</td>\n",
       "      <td>98</td>\n",
       "      <td>98</td>\n",
       "    </tr>\n",
       "    <tr>\n",
       "      <th>3</th>\n",
       "      <td>88</td>\n",
       "      <td>192</td>\n",
       "      <td>24</td>\n",
       "      <td>108</td>\n",
       "      <td>108</td>\n",
       "    </tr>\n",
       "  </tbody>\n",
       "</table>\n",
       "</div>"
      ],
      "text/plain": [
       "   variavel_1  variavel_2  variavel_3  resultado  resultado2\n",
       "0           2         -86          88         22          22\n",
       "1        -150           6         -80       -130        -130\n",
       "2          78          78          93         98          98\n",
       "3          88         192          24        108         108"
      ]
     },
     "execution_count": 543,
     "metadata": {},
     "output_type": "execute_result"
    }
   ],
   "source": [
    "df_dic"
   ]
  },
  {
   "cell_type": "code",
   "execution_count": 555,
   "id": "26630958-6f6c-4fc1-8f6d-38fa6f07bcae",
   "metadata": {},
   "outputs": [],
   "source": [
    "df_notas = pd.DataFrame(notas,columns=['nota'])"
   ]
  },
  {
   "cell_type": "code",
   "execution_count": 556,
   "id": "e61421b0-85b1-479b-9f81-59de284fc7c9",
   "metadata": {},
   "outputs": [],
   "source": [
    "df_notas['nome'] = None"
   ]
  },
  {
   "cell_type": "code",
   "execution_count": 557,
   "id": "4496a2df-8886-42e7-997a-50d70b4d6348",
   "metadata": {},
   "outputs": [],
   "source": [
    "df_notas.loc[0: 9, 'nome'] = 'Maria'\n",
    "df_notas.loc[10: 19,'nome'] = 'João'\n",
    "df_notas.loc[20: , 'nome'] = 'José'"
   ]
  },
  {
   "cell_type": "code",
   "execution_count": 562,
   "id": "0e95eb5b-8171-40d8-b2a3-fe7bc0f1ead4",
   "metadata": {},
   "outputs": [],
   "source": [
    "df_notas['e_aprovado'] = df_notas.nota.apply(lambda x: 'Aprovado' if x>5 else 'Reprovado')"
   ]
  },
  {
   "cell_type": "code",
   "execution_count": 566,
   "id": "37cd9bf4-7205-4a11-8daa-a0b3df4975bd",
   "metadata": {},
   "outputs": [
    {
     "data": {
      "text/plain": [
       "nota          [6, 3, 10, 7, 4, 9, 2, 5, 1, 0, 8]\n",
       "nome                         [Maria, João, José]\n",
       "e_aprovado                 [Aprovado, Reprovado]\n",
       "dtype: object"
      ]
     },
     "execution_count": 566,
     "metadata": {},
     "output_type": "execute_result"
    }
   ],
   "source": [
    "# Utilizando o apply sem passar o nome da coluna e com o axis=0, conseguimos acessar os valores individuais de cada linha\n",
    "df_notas.apply(lambda coluna: coluna.unique())"
   ]
  },
  {
   "cell_type": "code",
   "execution_count": 568,
   "id": "5ab81a90-241b-452f-bc09-f384f3721b99",
   "metadata": {},
   "outputs": [
    {
     "data": {
      "text/plain": [
       "0                    2.0Maria\n",
       "1                    1.0Maria\n",
       "2     3.3333333333333335Maria\n",
       "3     2.3333333333333335Maria\n",
       "4     1.3333333333333333Maria\n",
       "5                    2.0Maria\n",
       "6                    3.0Maria\n",
       "7     0.6666666666666666Maria\n",
       "8                    2.0Maria\n",
       "9     3.3333333333333335Maria\n",
       "10     3.3333333333333335João\n",
       "11     2.3333333333333335João\n",
       "12     1.3333333333333333João\n",
       "13                    1.0João\n",
       "14     2.3333333333333335João\n",
       "15     2.3333333333333335João\n",
       "16     0.6666666666666666João\n",
       "17     1.6666666666666667João\n",
       "18     1.3333333333333333João\n",
       "19     0.3333333333333333João\n",
       "20     2.3333333333333335José\n",
       "21     1.6666666666666667José\n",
       "22     0.3333333333333333José\n",
       "23     1.3333333333333333José\n",
       "24                    0.0José\n",
       "25                    3.0José\n",
       "26     1.6666666666666667José\n",
       "27     2.6666666666666665José\n",
       "28                    0.0José\n",
       "29     3.3333333333333335José\n",
       "dtype: object"
      ]
     },
     "execution_count": 568,
     "metadata": {},
     "output_type": "execute_result"
    }
   ],
   "source": [
    "# Utilizando o apply sem passar o nome da coluna e com o axis=1, conseguimos acessar os valores individuais de cada coluna\n",
    "# utilizando a anotação com `linha[<nome_coluna>]` ou linha.<nome_coluna>\n",
    "df_notas.apply(lambda linha: str(linha['nota'] / 3) + linha['nome'], axis=1)"
   ]
  },
  {
   "cell_type": "code",
   "execution_count": 575,
   "id": "77b446ff-b68d-440c-add4-a705c81a4be2",
   "metadata": {
    "scrolled": true,
    "tags": []
   },
   "outputs": [
    {
     "data": {
      "text/plain": [
       "0      6\n",
       "1      3\n",
       "2     10\n",
       "3      7\n",
       "4      4\n",
       "5      6\n",
       "6      9\n",
       "7      2\n",
       "8      6\n",
       "9     10\n",
       "10    10\n",
       "11     7\n",
       "12     4\n",
       "13     3\n",
       "14     7\n",
       "15     7\n",
       "16     2\n",
       "17     5\n",
       "18     4\n",
       "19     1\n",
       "20     7\n",
       "21     5\n",
       "22     1\n",
       "23     4\n",
       "24     0\n",
       "25     9\n",
       "26     5\n",
       "27     8\n",
       "28     0\n",
       "29    10\n",
       "Name: nota, dtype: int64"
      ]
     },
     "execution_count": 575,
     "metadata": {},
     "output_type": "execute_result"
    }
   ],
   "source": [
    "df_notas['nota'] # ou df_notas.nota"
   ]
  },
  {
   "cell_type": "code",
   "execution_count": null,
   "id": "69c60ee4-5510-4245-bbd6-af88fbc50d3f",
   "metadata": {},
   "outputs": [],
   "source": [
    "df_notas.get('nota')"
   ]
  },
  {
   "cell_type": "code",
   "execution_count": 573,
   "id": "949a7274-e213-4099-9efd-dd798fd881f1",
   "metadata": {},
   "outputs": [
    {
     "ename": "AttributeError",
     "evalue": "'DataFrame' object has no attribute 'aa'",
     "output_type": "error",
     "traceback": [
      "\u001b[0;31m---------------------------------------------------------------------------\u001b[0m",
      "\u001b[0;31mAttributeError\u001b[0m                            Traceback (most recent call last)",
      "\u001b[0;32m<ipython-input-573-0385bce58dd5>\u001b[0m in \u001b[0;36m<module>\u001b[0;34m\u001b[0m\n\u001b[0;32m----> 1\u001b[0;31m \u001b[0mdf_notas\u001b[0m\u001b[0;34m.\u001b[0m\u001b[0maa\u001b[0m\u001b[0;34m\u001b[0m\u001b[0;34m\u001b[0m\u001b[0m\n\u001b[0m",
      "\u001b[0;32m~/opt/anaconda3/lib/python3.8/site-packages/pandas/core/generic.py\u001b[0m in \u001b[0;36m__getattr__\u001b[0;34m(self, name)\u001b[0m\n\u001b[1;32m   5476\u001b[0m         ):\n\u001b[1;32m   5477\u001b[0m             \u001b[0;32mreturn\u001b[0m \u001b[0mself\u001b[0m\u001b[0;34m[\u001b[0m\u001b[0mname\u001b[0m\u001b[0;34m]\u001b[0m\u001b[0;34m\u001b[0m\u001b[0;34m\u001b[0m\u001b[0m\n\u001b[0;32m-> 5478\u001b[0;31m         \u001b[0;32mreturn\u001b[0m \u001b[0mobject\u001b[0m\u001b[0;34m.\u001b[0m\u001b[0m__getattribute__\u001b[0m\u001b[0;34m(\u001b[0m\u001b[0mself\u001b[0m\u001b[0;34m,\u001b[0m \u001b[0mname\u001b[0m\u001b[0;34m)\u001b[0m\u001b[0;34m\u001b[0m\u001b[0;34m\u001b[0m\u001b[0m\n\u001b[0m\u001b[1;32m   5479\u001b[0m \u001b[0;34m\u001b[0m\u001b[0m\n\u001b[1;32m   5480\u001b[0m     \u001b[0;32mdef\u001b[0m \u001b[0m__setattr__\u001b[0m\u001b[0;34m(\u001b[0m\u001b[0mself\u001b[0m\u001b[0;34m,\u001b[0m \u001b[0mname\u001b[0m\u001b[0;34m:\u001b[0m \u001b[0mstr\u001b[0m\u001b[0;34m,\u001b[0m \u001b[0mvalue\u001b[0m\u001b[0;34m)\u001b[0m \u001b[0;34m->\u001b[0m \u001b[0;32mNone\u001b[0m\u001b[0;34m:\u001b[0m\u001b[0;34m\u001b[0m\u001b[0;34m\u001b[0m\u001b[0m\n",
      "\u001b[0;31mAttributeError\u001b[0m: 'DataFrame' object has no attribute 'aa'"
     ]
    }
   ],
   "source": [
    "df_notas.aa"
   ]
  },
  {
   "cell_type": "code",
   "execution_count": 574,
   "id": "08ef0526-dfb6-4ec1-9f97-cb4493551c16",
   "metadata": {},
   "outputs": [
    {
     "ename": "KeyError",
     "evalue": "'aa'",
     "output_type": "error",
     "traceback": [
      "\u001b[0;31m---------------------------------------------------------------------------\u001b[0m",
      "\u001b[0;31mKeyError\u001b[0m                                  Traceback (most recent call last)",
      "\u001b[0;32m~/opt/anaconda3/lib/python3.8/site-packages/pandas/core/indexes/base.py\u001b[0m in \u001b[0;36mget_loc\u001b[0;34m(self, key, method, tolerance)\u001b[0m\n\u001b[1;32m   3360\u001b[0m             \u001b[0;32mtry\u001b[0m\u001b[0;34m:\u001b[0m\u001b[0;34m\u001b[0m\u001b[0;34m\u001b[0m\u001b[0m\n\u001b[0;32m-> 3361\u001b[0;31m                 \u001b[0;32mreturn\u001b[0m \u001b[0mself\u001b[0m\u001b[0;34m.\u001b[0m\u001b[0m_engine\u001b[0m\u001b[0;34m.\u001b[0m\u001b[0mget_loc\u001b[0m\u001b[0;34m(\u001b[0m\u001b[0mcasted_key\u001b[0m\u001b[0;34m)\u001b[0m\u001b[0;34m\u001b[0m\u001b[0;34m\u001b[0m\u001b[0m\n\u001b[0m\u001b[1;32m   3362\u001b[0m             \u001b[0;32mexcept\u001b[0m \u001b[0mKeyError\u001b[0m \u001b[0;32mas\u001b[0m \u001b[0merr\u001b[0m\u001b[0;34m:\u001b[0m\u001b[0;34m\u001b[0m\u001b[0;34m\u001b[0m\u001b[0m\n",
      "\u001b[0;32m~/opt/anaconda3/lib/python3.8/site-packages/pandas/_libs/index.pyx\u001b[0m in \u001b[0;36mpandas._libs.index.IndexEngine.get_loc\u001b[0;34m()\u001b[0m\n",
      "\u001b[0;32m~/opt/anaconda3/lib/python3.8/site-packages/pandas/_libs/index.pyx\u001b[0m in \u001b[0;36mpandas._libs.index.IndexEngine.get_loc\u001b[0;34m()\u001b[0m\n",
      "\u001b[0;32mpandas/_libs/hashtable_class_helper.pxi\u001b[0m in \u001b[0;36mpandas._libs.hashtable.PyObjectHashTable.get_item\u001b[0;34m()\u001b[0m\n",
      "\u001b[0;32mpandas/_libs/hashtable_class_helper.pxi\u001b[0m in \u001b[0;36mpandas._libs.hashtable.PyObjectHashTable.get_item\u001b[0;34m()\u001b[0m\n",
      "\u001b[0;31mKeyError\u001b[0m: 'aa'",
      "\nThe above exception was the direct cause of the following exception:\n",
      "\u001b[0;31mKeyError\u001b[0m                                  Traceback (most recent call last)",
      "\u001b[0;32m<ipython-input-574-cd95910c2b8e>\u001b[0m in \u001b[0;36m<module>\u001b[0;34m\u001b[0m\n\u001b[0;32m----> 1\u001b[0;31m \u001b[0mdf_notas\u001b[0m\u001b[0;34m[\u001b[0m\u001b[0;34m'aa'\u001b[0m\u001b[0;34m]\u001b[0m\u001b[0;34m\u001b[0m\u001b[0;34m\u001b[0m\u001b[0m\n\u001b[0m",
      "\u001b[0;32m~/opt/anaconda3/lib/python3.8/site-packages/pandas/core/frame.py\u001b[0m in \u001b[0;36m__getitem__\u001b[0;34m(self, key)\u001b[0m\n\u001b[1;32m   3453\u001b[0m             \u001b[0;32mif\u001b[0m \u001b[0mself\u001b[0m\u001b[0;34m.\u001b[0m\u001b[0mcolumns\u001b[0m\u001b[0;34m.\u001b[0m\u001b[0mnlevels\u001b[0m \u001b[0;34m>\u001b[0m \u001b[0;36m1\u001b[0m\u001b[0;34m:\u001b[0m\u001b[0;34m\u001b[0m\u001b[0;34m\u001b[0m\u001b[0m\n\u001b[1;32m   3454\u001b[0m                 \u001b[0;32mreturn\u001b[0m \u001b[0mself\u001b[0m\u001b[0;34m.\u001b[0m\u001b[0m_getitem_multilevel\u001b[0m\u001b[0;34m(\u001b[0m\u001b[0mkey\u001b[0m\u001b[0;34m)\u001b[0m\u001b[0;34m\u001b[0m\u001b[0;34m\u001b[0m\u001b[0m\n\u001b[0;32m-> 3455\u001b[0;31m             \u001b[0mindexer\u001b[0m \u001b[0;34m=\u001b[0m \u001b[0mself\u001b[0m\u001b[0;34m.\u001b[0m\u001b[0mcolumns\u001b[0m\u001b[0;34m.\u001b[0m\u001b[0mget_loc\u001b[0m\u001b[0;34m(\u001b[0m\u001b[0mkey\u001b[0m\u001b[0;34m)\u001b[0m\u001b[0;34m\u001b[0m\u001b[0;34m\u001b[0m\u001b[0m\n\u001b[0m\u001b[1;32m   3456\u001b[0m             \u001b[0;32mif\u001b[0m \u001b[0mis_integer\u001b[0m\u001b[0;34m(\u001b[0m\u001b[0mindexer\u001b[0m\u001b[0;34m)\u001b[0m\u001b[0;34m:\u001b[0m\u001b[0;34m\u001b[0m\u001b[0;34m\u001b[0m\u001b[0m\n\u001b[1;32m   3457\u001b[0m                 \u001b[0mindexer\u001b[0m \u001b[0;34m=\u001b[0m \u001b[0;34m[\u001b[0m\u001b[0mindexer\u001b[0m\u001b[0;34m]\u001b[0m\u001b[0;34m\u001b[0m\u001b[0;34m\u001b[0m\u001b[0m\n",
      "\u001b[0;32m~/opt/anaconda3/lib/python3.8/site-packages/pandas/core/indexes/base.py\u001b[0m in \u001b[0;36mget_loc\u001b[0;34m(self, key, method, tolerance)\u001b[0m\n\u001b[1;32m   3361\u001b[0m                 \u001b[0;32mreturn\u001b[0m \u001b[0mself\u001b[0m\u001b[0;34m.\u001b[0m\u001b[0m_engine\u001b[0m\u001b[0;34m.\u001b[0m\u001b[0mget_loc\u001b[0m\u001b[0;34m(\u001b[0m\u001b[0mcasted_key\u001b[0m\u001b[0;34m)\u001b[0m\u001b[0;34m\u001b[0m\u001b[0;34m\u001b[0m\u001b[0m\n\u001b[1;32m   3362\u001b[0m             \u001b[0;32mexcept\u001b[0m \u001b[0mKeyError\u001b[0m \u001b[0;32mas\u001b[0m \u001b[0merr\u001b[0m\u001b[0;34m:\u001b[0m\u001b[0;34m\u001b[0m\u001b[0;34m\u001b[0m\u001b[0m\n\u001b[0;32m-> 3363\u001b[0;31m                 \u001b[0;32mraise\u001b[0m \u001b[0mKeyError\u001b[0m\u001b[0;34m(\u001b[0m\u001b[0mkey\u001b[0m\u001b[0;34m)\u001b[0m \u001b[0;32mfrom\u001b[0m \u001b[0merr\u001b[0m\u001b[0;34m\u001b[0m\u001b[0;34m\u001b[0m\u001b[0m\n\u001b[0m\u001b[1;32m   3364\u001b[0m \u001b[0;34m\u001b[0m\u001b[0m\n\u001b[1;32m   3365\u001b[0m         \u001b[0;32mif\u001b[0m \u001b[0mis_scalar\u001b[0m\u001b[0;34m(\u001b[0m\u001b[0mkey\u001b[0m\u001b[0;34m)\u001b[0m \u001b[0;32mand\u001b[0m \u001b[0misna\u001b[0m\u001b[0;34m(\u001b[0m\u001b[0mkey\u001b[0m\u001b[0;34m)\u001b[0m \u001b[0;32mand\u001b[0m \u001b[0;32mnot\u001b[0m \u001b[0mself\u001b[0m\u001b[0;34m.\u001b[0m\u001b[0mhasnans\u001b[0m\u001b[0;34m:\u001b[0m\u001b[0;34m\u001b[0m\u001b[0;34m\u001b[0m\u001b[0m\n",
      "\u001b[0;31mKeyError\u001b[0m: 'aa'"
     ]
    }
   ],
   "source": [
    "df_notas['aa']"
   ]
  },
  {
   "cell_type": "code",
   "execution_count": 572,
   "id": "c29d1191-4cd5-4e6f-9c30-f887eb64bd89",
   "metadata": {},
   "outputs": [],
   "source": [
    "df_notas.get('aa')"
   ]
  },
  {
   "cell_type": "code",
   "execution_count": 578,
   "id": "5a763f47-c04e-47e7-a2f1-6c81535d09b1",
   "metadata": {},
   "outputs": [],
   "source": [
    "df_notas['e_aprovado_bool'] = df_notas['nota'] > 5"
   ]
  },
  {
   "cell_type": "code",
   "execution_count": 579,
   "id": "eb2ba3d3-834c-4139-9b61-c5eb67900fb4",
   "metadata": {
    "scrolled": true,
    "tags": []
   },
   "outputs": [
    {
     "data": {
      "text/html": [
       "<div>\n",
       "<style scoped>\n",
       "    .dataframe tbody tr th:only-of-type {\n",
       "        vertical-align: middle;\n",
       "    }\n",
       "\n",
       "    .dataframe tbody tr th {\n",
       "        vertical-align: top;\n",
       "    }\n",
       "\n",
       "    .dataframe thead th {\n",
       "        text-align: right;\n",
       "    }\n",
       "</style>\n",
       "<table border=\"1\" class=\"dataframe\">\n",
       "  <thead>\n",
       "    <tr style=\"text-align: right;\">\n",
       "      <th></th>\n",
       "      <th>nota</th>\n",
       "      <th>nome</th>\n",
       "      <th>e_aprovado</th>\n",
       "      <th>e_aprovado_bool</th>\n",
       "    </tr>\n",
       "  </thead>\n",
       "  <tbody>\n",
       "    <tr>\n",
       "      <th>0</th>\n",
       "      <td>6</td>\n",
       "      <td>Maria</td>\n",
       "      <td>Aprovado</td>\n",
       "      <td>True</td>\n",
       "    </tr>\n",
       "    <tr>\n",
       "      <th>1</th>\n",
       "      <td>3</td>\n",
       "      <td>Maria</td>\n",
       "      <td>Reprovado</td>\n",
       "      <td>False</td>\n",
       "    </tr>\n",
       "    <tr>\n",
       "      <th>2</th>\n",
       "      <td>10</td>\n",
       "      <td>Maria</td>\n",
       "      <td>Aprovado</td>\n",
       "      <td>True</td>\n",
       "    </tr>\n",
       "    <tr>\n",
       "      <th>3</th>\n",
       "      <td>7</td>\n",
       "      <td>Maria</td>\n",
       "      <td>Aprovado</td>\n",
       "      <td>True</td>\n",
       "    </tr>\n",
       "    <tr>\n",
       "      <th>4</th>\n",
       "      <td>4</td>\n",
       "      <td>Maria</td>\n",
       "      <td>Reprovado</td>\n",
       "      <td>False</td>\n",
       "    </tr>\n",
       "    <tr>\n",
       "      <th>5</th>\n",
       "      <td>6</td>\n",
       "      <td>Maria</td>\n",
       "      <td>Aprovado</td>\n",
       "      <td>True</td>\n",
       "    </tr>\n",
       "    <tr>\n",
       "      <th>6</th>\n",
       "      <td>9</td>\n",
       "      <td>Maria</td>\n",
       "      <td>Aprovado</td>\n",
       "      <td>True</td>\n",
       "    </tr>\n",
       "    <tr>\n",
       "      <th>7</th>\n",
       "      <td>2</td>\n",
       "      <td>Maria</td>\n",
       "      <td>Reprovado</td>\n",
       "      <td>False</td>\n",
       "    </tr>\n",
       "    <tr>\n",
       "      <th>8</th>\n",
       "      <td>6</td>\n",
       "      <td>Maria</td>\n",
       "      <td>Aprovado</td>\n",
       "      <td>True</td>\n",
       "    </tr>\n",
       "    <tr>\n",
       "      <th>9</th>\n",
       "      <td>10</td>\n",
       "      <td>Maria</td>\n",
       "      <td>Aprovado</td>\n",
       "      <td>True</td>\n",
       "    </tr>\n",
       "    <tr>\n",
       "      <th>10</th>\n",
       "      <td>10</td>\n",
       "      <td>João</td>\n",
       "      <td>Aprovado</td>\n",
       "      <td>True</td>\n",
       "    </tr>\n",
       "    <tr>\n",
       "      <th>11</th>\n",
       "      <td>7</td>\n",
       "      <td>João</td>\n",
       "      <td>Aprovado</td>\n",
       "      <td>True</td>\n",
       "    </tr>\n",
       "    <tr>\n",
       "      <th>12</th>\n",
       "      <td>4</td>\n",
       "      <td>João</td>\n",
       "      <td>Reprovado</td>\n",
       "      <td>False</td>\n",
       "    </tr>\n",
       "    <tr>\n",
       "      <th>13</th>\n",
       "      <td>3</td>\n",
       "      <td>João</td>\n",
       "      <td>Reprovado</td>\n",
       "      <td>False</td>\n",
       "    </tr>\n",
       "    <tr>\n",
       "      <th>14</th>\n",
       "      <td>7</td>\n",
       "      <td>João</td>\n",
       "      <td>Aprovado</td>\n",
       "      <td>True</td>\n",
       "    </tr>\n",
       "    <tr>\n",
       "      <th>15</th>\n",
       "      <td>7</td>\n",
       "      <td>João</td>\n",
       "      <td>Aprovado</td>\n",
       "      <td>True</td>\n",
       "    </tr>\n",
       "    <tr>\n",
       "      <th>16</th>\n",
       "      <td>2</td>\n",
       "      <td>João</td>\n",
       "      <td>Reprovado</td>\n",
       "      <td>False</td>\n",
       "    </tr>\n",
       "    <tr>\n",
       "      <th>17</th>\n",
       "      <td>5</td>\n",
       "      <td>João</td>\n",
       "      <td>Reprovado</td>\n",
       "      <td>False</td>\n",
       "    </tr>\n",
       "    <tr>\n",
       "      <th>18</th>\n",
       "      <td>4</td>\n",
       "      <td>João</td>\n",
       "      <td>Reprovado</td>\n",
       "      <td>False</td>\n",
       "    </tr>\n",
       "    <tr>\n",
       "      <th>19</th>\n",
       "      <td>1</td>\n",
       "      <td>João</td>\n",
       "      <td>Reprovado</td>\n",
       "      <td>False</td>\n",
       "    </tr>\n",
       "    <tr>\n",
       "      <th>20</th>\n",
       "      <td>7</td>\n",
       "      <td>José</td>\n",
       "      <td>Aprovado</td>\n",
       "      <td>True</td>\n",
       "    </tr>\n",
       "    <tr>\n",
       "      <th>21</th>\n",
       "      <td>5</td>\n",
       "      <td>José</td>\n",
       "      <td>Reprovado</td>\n",
       "      <td>False</td>\n",
       "    </tr>\n",
       "    <tr>\n",
       "      <th>22</th>\n",
       "      <td>1</td>\n",
       "      <td>José</td>\n",
       "      <td>Reprovado</td>\n",
       "      <td>False</td>\n",
       "    </tr>\n",
       "    <tr>\n",
       "      <th>23</th>\n",
       "      <td>4</td>\n",
       "      <td>José</td>\n",
       "      <td>Reprovado</td>\n",
       "      <td>False</td>\n",
       "    </tr>\n",
       "    <tr>\n",
       "      <th>24</th>\n",
       "      <td>0</td>\n",
       "      <td>José</td>\n",
       "      <td>Reprovado</td>\n",
       "      <td>False</td>\n",
       "    </tr>\n",
       "    <tr>\n",
       "      <th>25</th>\n",
       "      <td>9</td>\n",
       "      <td>José</td>\n",
       "      <td>Aprovado</td>\n",
       "      <td>True</td>\n",
       "    </tr>\n",
       "    <tr>\n",
       "      <th>26</th>\n",
       "      <td>5</td>\n",
       "      <td>José</td>\n",
       "      <td>Reprovado</td>\n",
       "      <td>False</td>\n",
       "    </tr>\n",
       "    <tr>\n",
       "      <th>27</th>\n",
       "      <td>8</td>\n",
       "      <td>José</td>\n",
       "      <td>Aprovado</td>\n",
       "      <td>True</td>\n",
       "    </tr>\n",
       "    <tr>\n",
       "      <th>28</th>\n",
       "      <td>0</td>\n",
       "      <td>José</td>\n",
       "      <td>Reprovado</td>\n",
       "      <td>False</td>\n",
       "    </tr>\n",
       "    <tr>\n",
       "      <th>29</th>\n",
       "      <td>10</td>\n",
       "      <td>José</td>\n",
       "      <td>Aprovado</td>\n",
       "      <td>True</td>\n",
       "    </tr>\n",
       "  </tbody>\n",
       "</table>\n",
       "</div>"
      ],
      "text/plain": [
       "    nota   nome e_aprovado  e_aprovado_bool\n",
       "0      6  Maria   Aprovado             True\n",
       "1      3  Maria  Reprovado            False\n",
       "2     10  Maria   Aprovado             True\n",
       "3      7  Maria   Aprovado             True\n",
       "4      4  Maria  Reprovado            False\n",
       "5      6  Maria   Aprovado             True\n",
       "6      9  Maria   Aprovado             True\n",
       "7      2  Maria  Reprovado            False\n",
       "8      6  Maria   Aprovado             True\n",
       "9     10  Maria   Aprovado             True\n",
       "10    10   João   Aprovado             True\n",
       "11     7   João   Aprovado             True\n",
       "12     4   João  Reprovado            False\n",
       "13     3   João  Reprovado            False\n",
       "14     7   João   Aprovado             True\n",
       "15     7   João   Aprovado             True\n",
       "16     2   João  Reprovado            False\n",
       "17     5   João  Reprovado            False\n",
       "18     4   João  Reprovado            False\n",
       "19     1   João  Reprovado            False\n",
       "20     7   José   Aprovado             True\n",
       "21     5   José  Reprovado            False\n",
       "22     1   José  Reprovado            False\n",
       "23     4   José  Reprovado            False\n",
       "24     0   José  Reprovado            False\n",
       "25     9   José   Aprovado             True\n",
       "26     5   José  Reprovado            False\n",
       "27     8   José   Aprovado             True\n",
       "28     0   José  Reprovado            False\n",
       "29    10   José   Aprovado             True"
      ]
     },
     "execution_count": 579,
     "metadata": {},
     "output_type": "execute_result"
    }
   ],
   "source": [
    "df_notas"
   ]
  },
  {
   "cell_type": "code",
   "execution_count": 581,
   "id": "8b8830ae-9d89-49f6-a0da-51dd37213b6a",
   "metadata": {},
   "outputs": [],
   "source": [
    "# Para criar novas colunas utilizar com colchetes []\n",
    "df_notas['coluna_de_1'] = 1"
   ]
  },
  {
   "cell_type": "code",
   "execution_count": 586,
   "id": "e194035b-e748-4159-97e8-3b7d8fce90f0",
   "metadata": {},
   "outputs": [
    {
     "data": {
      "text/plain": [
       "(30, 5)"
      ]
     },
     "execution_count": 586,
     "metadata": {},
     "output_type": "execute_result"
    }
   ],
   "source": [
    "df_notas.shape"
   ]
  },
  {
   "cell_type": "code",
   "execution_count": 587,
   "id": "fd3317a3-4f78-43db-97e1-5d9af17f5a8a",
   "metadata": {},
   "outputs": [],
   "source": [
    "df_notas['x'] = np.random.randint(0, 20, 30)"
   ]
  },
  {
   "cell_type": "code",
   "execution_count": 588,
   "id": "6470085e-1675-43a4-a053-737127ac0e24",
   "metadata": {
    "scrolled": true,
    "tags": []
   },
   "outputs": [
    {
     "ename": "ValueError",
     "evalue": "Length of values (25) does not match length of index (30)",
     "output_type": "error",
     "traceback": [
      "\u001b[0;31m---------------------------------------------------------------------------\u001b[0m",
      "\u001b[0;31mValueError\u001b[0m                                Traceback (most recent call last)",
      "\u001b[0;32m<ipython-input-588-181b8bc9cd53>\u001b[0m in \u001b[0;36m<module>\u001b[0;34m\u001b[0m\n\u001b[0;32m----> 1\u001b[0;31m \u001b[0mdf_notas\u001b[0m\u001b[0;34m[\u001b[0m\u001b[0;34m'y'\u001b[0m\u001b[0;34m]\u001b[0m \u001b[0;34m=\u001b[0m \u001b[0mnp\u001b[0m\u001b[0;34m.\u001b[0m\u001b[0mrandom\u001b[0m\u001b[0;34m.\u001b[0m\u001b[0mrandint\u001b[0m\u001b[0;34m(\u001b[0m\u001b[0;36m0\u001b[0m\u001b[0;34m,\u001b[0m \u001b[0;36m20\u001b[0m\u001b[0;34m,\u001b[0m \u001b[0;36m25\u001b[0m\u001b[0;34m)\u001b[0m\u001b[0;34m\u001b[0m\u001b[0;34m\u001b[0m\u001b[0m\n\u001b[0m",
      "\u001b[0;32m~/opt/anaconda3/lib/python3.8/site-packages/pandas/core/frame.py\u001b[0m in \u001b[0;36m__setitem__\u001b[0;34m(self, key, value)\u001b[0m\n\u001b[1;32m   3605\u001b[0m         \u001b[0;32melse\u001b[0m\u001b[0;34m:\u001b[0m\u001b[0;34m\u001b[0m\u001b[0;34m\u001b[0m\u001b[0m\n\u001b[1;32m   3606\u001b[0m             \u001b[0;31m# set column\u001b[0m\u001b[0;34m\u001b[0m\u001b[0;34m\u001b[0m\u001b[0;34m\u001b[0m\u001b[0m\n\u001b[0;32m-> 3607\u001b[0;31m             \u001b[0mself\u001b[0m\u001b[0;34m.\u001b[0m\u001b[0m_set_item\u001b[0m\u001b[0;34m(\u001b[0m\u001b[0mkey\u001b[0m\u001b[0;34m,\u001b[0m \u001b[0mvalue\u001b[0m\u001b[0;34m)\u001b[0m\u001b[0;34m\u001b[0m\u001b[0;34m\u001b[0m\u001b[0m\n\u001b[0m\u001b[1;32m   3608\u001b[0m \u001b[0;34m\u001b[0m\u001b[0m\n\u001b[1;32m   3609\u001b[0m     \u001b[0;32mdef\u001b[0m \u001b[0m_setitem_slice\u001b[0m\u001b[0;34m(\u001b[0m\u001b[0mself\u001b[0m\u001b[0;34m,\u001b[0m \u001b[0mkey\u001b[0m\u001b[0;34m:\u001b[0m \u001b[0mslice\u001b[0m\u001b[0;34m,\u001b[0m \u001b[0mvalue\u001b[0m\u001b[0;34m)\u001b[0m\u001b[0;34m:\u001b[0m\u001b[0;34m\u001b[0m\u001b[0;34m\u001b[0m\u001b[0m\n",
      "\u001b[0;32m~/opt/anaconda3/lib/python3.8/site-packages/pandas/core/frame.py\u001b[0m in \u001b[0;36m_set_item\u001b[0;34m(self, key, value)\u001b[0m\n\u001b[1;32m   3777\u001b[0m         \u001b[0mensure\u001b[0m \u001b[0mhomogeneity\u001b[0m\u001b[0;34m.\u001b[0m\u001b[0;34m\u001b[0m\u001b[0;34m\u001b[0m\u001b[0m\n\u001b[1;32m   3778\u001b[0m         \"\"\"\n\u001b[0;32m-> 3779\u001b[0;31m         \u001b[0mvalue\u001b[0m \u001b[0;34m=\u001b[0m \u001b[0mself\u001b[0m\u001b[0;34m.\u001b[0m\u001b[0m_sanitize_column\u001b[0m\u001b[0;34m(\u001b[0m\u001b[0mvalue\u001b[0m\u001b[0;34m)\u001b[0m\u001b[0;34m\u001b[0m\u001b[0;34m\u001b[0m\u001b[0m\n\u001b[0m\u001b[1;32m   3780\u001b[0m \u001b[0;34m\u001b[0m\u001b[0m\n\u001b[1;32m   3781\u001b[0m         if (\n",
      "\u001b[0;32m~/opt/anaconda3/lib/python3.8/site-packages/pandas/core/frame.py\u001b[0m in \u001b[0;36m_sanitize_column\u001b[0;34m(self, value)\u001b[0m\n\u001b[1;32m   4502\u001b[0m \u001b[0;34m\u001b[0m\u001b[0m\n\u001b[1;32m   4503\u001b[0m         \u001b[0;32mif\u001b[0m \u001b[0mis_list_like\u001b[0m\u001b[0;34m(\u001b[0m\u001b[0mvalue\u001b[0m\u001b[0;34m)\u001b[0m\u001b[0;34m:\u001b[0m\u001b[0;34m\u001b[0m\u001b[0;34m\u001b[0m\u001b[0m\n\u001b[0;32m-> 4504\u001b[0;31m             \u001b[0mcom\u001b[0m\u001b[0;34m.\u001b[0m\u001b[0mrequire_length_match\u001b[0m\u001b[0;34m(\u001b[0m\u001b[0mvalue\u001b[0m\u001b[0;34m,\u001b[0m \u001b[0mself\u001b[0m\u001b[0;34m.\u001b[0m\u001b[0mindex\u001b[0m\u001b[0;34m)\u001b[0m\u001b[0;34m\u001b[0m\u001b[0;34m\u001b[0m\u001b[0m\n\u001b[0m\u001b[1;32m   4505\u001b[0m         \u001b[0;32mreturn\u001b[0m \u001b[0msanitize_array\u001b[0m\u001b[0;34m(\u001b[0m\u001b[0mvalue\u001b[0m\u001b[0;34m,\u001b[0m \u001b[0mself\u001b[0m\u001b[0;34m.\u001b[0m\u001b[0mindex\u001b[0m\u001b[0;34m,\u001b[0m \u001b[0mcopy\u001b[0m\u001b[0;34m=\u001b[0m\u001b[0;32mTrue\u001b[0m\u001b[0;34m,\u001b[0m \u001b[0mallow_2d\u001b[0m\u001b[0;34m=\u001b[0m\u001b[0;32mTrue\u001b[0m\u001b[0;34m)\u001b[0m\u001b[0;34m\u001b[0m\u001b[0;34m\u001b[0m\u001b[0m\n\u001b[1;32m   4506\u001b[0m \u001b[0;34m\u001b[0m\u001b[0m\n",
      "\u001b[0;32m~/opt/anaconda3/lib/python3.8/site-packages/pandas/core/common.py\u001b[0m in \u001b[0;36mrequire_length_match\u001b[0;34m(data, index)\u001b[0m\n\u001b[1;32m    529\u001b[0m     \"\"\"\n\u001b[1;32m    530\u001b[0m     \u001b[0;32mif\u001b[0m \u001b[0mlen\u001b[0m\u001b[0;34m(\u001b[0m\u001b[0mdata\u001b[0m\u001b[0;34m)\u001b[0m \u001b[0;34m!=\u001b[0m \u001b[0mlen\u001b[0m\u001b[0;34m(\u001b[0m\u001b[0mindex\u001b[0m\u001b[0;34m)\u001b[0m\u001b[0;34m:\u001b[0m\u001b[0;34m\u001b[0m\u001b[0;34m\u001b[0m\u001b[0m\n\u001b[0;32m--> 531\u001b[0;31m         raise ValueError(\n\u001b[0m\u001b[1;32m    532\u001b[0m             \u001b[0;34m\"Length of values \"\u001b[0m\u001b[0;34m\u001b[0m\u001b[0;34m\u001b[0m\u001b[0m\n\u001b[1;32m    533\u001b[0m             \u001b[0;34mf\"({len(data)}) \"\u001b[0m\u001b[0;34m\u001b[0m\u001b[0;34m\u001b[0m\u001b[0m\n",
      "\u001b[0;31mValueError\u001b[0m: Length of values (25) does not match length of index (30)"
     ]
    }
   ],
   "source": [
    "# Quando passamos um vetor/lista/array/serie precisamos do mesmo número de linhas no dataframe original\n",
    "df_notas['y'] = np.random.randint(0, 20, 25)"
   ]
  },
  {
   "cell_type": "code",
   "execution_count": 595,
   "id": "7777a08d-fd89-45b0-a9f1-0e92ac47eb8a",
   "metadata": {},
   "outputs": [],
   "source": [
    "lista_numero_com_nan = (list(np.random.randint(0, 20, 10)) \n",
    "+ [np.nan, np.nan]  \n",
    "+ list(np.random.randint(0, 20, 10))\n",
    "+ [np.nan, np.nan, np.nan]\n",
    "+ list(np.random.randint(0, 20, 5)))"
   ]
  },
  {
   "cell_type": "code",
   "execution_count": 596,
   "id": "f4667646-ac58-4b0b-abc4-da26cceff913",
   "metadata": {},
   "outputs": [],
   "source": [
    "df_notas['y'] = lista_numero_com_nan"
   ]
  },
  {
   "cell_type": "code",
   "execution_count": 598,
   "id": "b0ab8c9a-b793-4bc0-94ec-6d8922fe0574",
   "metadata": {},
   "outputs": [
    {
     "data": {
      "text/plain": [
       "19.0"
      ]
     },
     "execution_count": 598,
     "metadata": {},
     "output_type": "execute_result"
    }
   ],
   "source": [
    "df_notas['y'].max()"
   ]
  },
  {
   "cell_type": "code",
   "execution_count": null,
   "id": "35c314b3-11d6-4cab-82fc-475336d79e3e",
   "metadata": {},
   "outputs": [],
   "source": []
  },
  {
   "cell_type": "code",
   "execution_count": 604,
   "id": "22f8dfd1-e437-403f-87ae-6ecdebbe254d",
   "metadata": {},
   "outputs": [
    {
     "data": {
      "text/plain": [
       "7.96"
      ]
     },
     "execution_count": 604,
     "metadata": {},
     "output_type": "execute_result"
    }
   ],
   "source": [
    "df_notas.y.sum() / 30"
   ]
  },
  {
   "cell_type": "code",
   "execution_count": 606,
   "id": "de97b451-783d-42aa-8bbc-de3a74209158",
   "metadata": {},
   "outputs": [
    {
     "data": {
      "text/plain": [
       "7.96"
      ]
     },
     "execution_count": 606,
     "metadata": {},
     "output_type": "execute_result"
    }
   ],
   "source": [
    "# o mean desconsidera os NaN (Not a Number), eliminando da população\n",
    "df_notas['y'].mean()"
   ]
  },
  {
   "cell_type": "code",
   "execution_count": null,
   "id": "996a0290-e288-4f36-a21e-cfd9c43ac954",
   "metadata": {},
   "outputs": [],
   "source": [
    "df_notas.y.sum() / 25"
   ]
  },
  {
   "cell_type": "code",
   "execution_count": 611,
   "id": "0c61b640-7b30-4bc8-a6c0-4f72d1f669b6",
   "metadata": {},
   "outputs": [],
   "source": [
    "df_notas['y'] = df_notas['y'].fillna(0)"
   ]
  },
  {
   "cell_type": "code",
   "execution_count": 619,
   "id": "e54603ce-663d-408d-bde6-694b7f569a3f",
   "metadata": {},
   "outputs": [],
   "source": [
    "df = df_notas[['x', 'y']]"
   ]
  },
  {
   "cell_type": "code",
   "execution_count": 621,
   "id": "da8f7e37-4ff0-4aa2-b172-328437847145",
   "metadata": {},
   "outputs": [
    {
     "name": "stderr",
     "output_type": "stream",
     "text": [
      "<ipython-input-621-c5fc4eb82742>:1: SettingWithCopyWarning: \n",
      "A value is trying to be set on a copy of a slice from a DataFrame.\n",
      "Try using .loc[row_indexer,col_indexer] = value instead\n",
      "\n",
      "See the caveats in the documentation: https://pandas.pydata.org/pandas-docs/stable/user_guide/indexing.html#returning-a-view-versus-a-copy\n",
      "  df['soma_x_y'] = df['x'] + df['y']\n"
     ]
    }
   ],
   "source": [
    "df['soma_x_y'] = df['x'] + df['y']"
   ]
  },
  {
   "cell_type": "code",
   "execution_count": 623,
   "id": "89e6406d-e19c-4894-9b73-38bcce10ba7d",
   "metadata": {},
   "outputs": [
    {
     "data": {
      "text/plain": [
       "0      4.0\n",
       "1     17.0\n",
       "2     15.0\n",
       "3     21.0\n",
       "4     17.0\n",
       "5     16.0\n",
       "6     12.0\n",
       "7     12.0\n",
       "8     20.0\n",
       "9      9.0\n",
       "10    15.0\n",
       "11    14.0\n",
       "12    14.0\n",
       "13    36.0\n",
       "14    12.0\n",
       "15    30.0\n",
       "16     7.0\n",
       "17     7.0\n",
       "18    28.0\n",
       "19    22.0\n",
       "20    13.0\n",
       "21    10.0\n",
       "22    17.0\n",
       "23     3.0\n",
       "24    13.0\n",
       "25    36.0\n",
       "26     9.0\n",
       "27     6.0\n",
       "28    29.0\n",
       "29    29.0\n",
       "dtype: float64"
      ]
     },
     "execution_count": 623,
     "metadata": {},
     "output_type": "execute_result"
    }
   ],
   "source": [
    "df[['x', 'y']].sum(axis=1)"
   ]
  },
  {
   "cell_type": "markdown",
   "id": "b3eaa3bc-1e56-4034-8c5a-c26806b11e0d",
   "metadata": {},
   "source": [
    "Excluindo uma coluna"
   ]
  },
  {
   "cell_type": "code",
   "execution_count": 625,
   "id": "65480ac2-b4c8-4135-b49c-d7f0acd1e308",
   "metadata": {},
   "outputs": [
    {
     "data": {
      "text/html": [
       "<div>\n",
       "<style scoped>\n",
       "    .dataframe tbody tr th:only-of-type {\n",
       "        vertical-align: middle;\n",
       "    }\n",
       "\n",
       "    .dataframe tbody tr th {\n",
       "        vertical-align: top;\n",
       "    }\n",
       "\n",
       "    .dataframe thead th {\n",
       "        text-align: right;\n",
       "    }\n",
       "</style>\n",
       "<table border=\"1\" class=\"dataframe\">\n",
       "  <thead>\n",
       "    <tr style=\"text-align: right;\">\n",
       "      <th></th>\n",
       "      <th>nota</th>\n",
       "      <th>nome</th>\n",
       "      <th>e_aprovado</th>\n",
       "      <th>e_aprovado_bool</th>\n",
       "      <th>coluna_de_1</th>\n",
       "      <th>x</th>\n",
       "      <th>y</th>\n",
       "    </tr>\n",
       "  </thead>\n",
       "  <tbody>\n",
       "    <tr>\n",
       "      <th>0</th>\n",
       "      <td>6</td>\n",
       "      <td>Maria</td>\n",
       "      <td>Aprovado</td>\n",
       "      <td>True</td>\n",
       "      <td>1</td>\n",
       "      <td>2</td>\n",
       "      <td>2.0</td>\n",
       "    </tr>\n",
       "    <tr>\n",
       "      <th>1</th>\n",
       "      <td>3</td>\n",
       "      <td>Maria</td>\n",
       "      <td>Reprovado</td>\n",
       "      <td>False</td>\n",
       "      <td>1</td>\n",
       "      <td>1</td>\n",
       "      <td>16.0</td>\n",
       "    </tr>\n",
       "    <tr>\n",
       "      <th>2</th>\n",
       "      <td>10</td>\n",
       "      <td>Maria</td>\n",
       "      <td>Aprovado</td>\n",
       "      <td>True</td>\n",
       "      <td>1</td>\n",
       "      <td>11</td>\n",
       "      <td>4.0</td>\n",
       "    </tr>\n",
       "    <tr>\n",
       "      <th>3</th>\n",
       "      <td>7</td>\n",
       "      <td>Maria</td>\n",
       "      <td>Aprovado</td>\n",
       "      <td>True</td>\n",
       "      <td>1</td>\n",
       "      <td>5</td>\n",
       "      <td>16.0</td>\n",
       "    </tr>\n",
       "    <tr>\n",
       "      <th>4</th>\n",
       "      <td>4</td>\n",
       "      <td>Maria</td>\n",
       "      <td>Reprovado</td>\n",
       "      <td>False</td>\n",
       "      <td>1</td>\n",
       "      <td>1</td>\n",
       "      <td>16.0</td>\n",
       "    </tr>\n",
       "  </tbody>\n",
       "</table>\n",
       "</div>"
      ],
      "text/plain": [
       "   nota   nome e_aprovado  e_aprovado_bool  coluna_de_1   x     y\n",
       "0     6  Maria   Aprovado             True            1   2   2.0\n",
       "1     3  Maria  Reprovado            False            1   1  16.0\n",
       "2    10  Maria   Aprovado             True            1  11   4.0\n",
       "3     7  Maria   Aprovado             True            1   5  16.0\n",
       "4     4  Maria  Reprovado            False            1   1  16.0"
      ]
     },
     "execution_count": 625,
     "metadata": {},
     "output_type": "execute_result"
    }
   ],
   "source": [
    "df_notas.head()"
   ]
  },
  {
   "cell_type": "code",
   "execution_count": 627,
   "id": "c48498c2-00c1-489d-a05e-27c6d96cc8a5",
   "metadata": {},
   "outputs": [],
   "source": [
    "df_notas2 = df_notas[['nota', 'e_aprovado', 'x']]"
   ]
  },
  {
   "cell_type": "code",
   "execution_count": 628,
   "id": "f8abf443-a961-4b82-b765-bd3808520c28",
   "metadata": {
    "scrolled": true,
    "tags": []
   },
   "outputs": [
    {
     "data": {
      "text/html": [
       "<div>\n",
       "<style scoped>\n",
       "    .dataframe tbody tr th:only-of-type {\n",
       "        vertical-align: middle;\n",
       "    }\n",
       "\n",
       "    .dataframe tbody tr th {\n",
       "        vertical-align: top;\n",
       "    }\n",
       "\n",
       "    .dataframe thead th {\n",
       "        text-align: right;\n",
       "    }\n",
       "</style>\n",
       "<table border=\"1\" class=\"dataframe\">\n",
       "  <thead>\n",
       "    <tr style=\"text-align: right;\">\n",
       "      <th></th>\n",
       "      <th>nota</th>\n",
       "      <th>e_aprovado</th>\n",
       "      <th>x</th>\n",
       "    </tr>\n",
       "  </thead>\n",
       "  <tbody>\n",
       "    <tr>\n",
       "      <th>0</th>\n",
       "      <td>6</td>\n",
       "      <td>Aprovado</td>\n",
       "      <td>2</td>\n",
       "    </tr>\n",
       "    <tr>\n",
       "      <th>1</th>\n",
       "      <td>3</td>\n",
       "      <td>Reprovado</td>\n",
       "      <td>1</td>\n",
       "    </tr>\n",
       "    <tr>\n",
       "      <th>2</th>\n",
       "      <td>10</td>\n",
       "      <td>Aprovado</td>\n",
       "      <td>11</td>\n",
       "    </tr>\n",
       "    <tr>\n",
       "      <th>3</th>\n",
       "      <td>7</td>\n",
       "      <td>Aprovado</td>\n",
       "      <td>5</td>\n",
       "    </tr>\n",
       "    <tr>\n",
       "      <th>4</th>\n",
       "      <td>4</td>\n",
       "      <td>Reprovado</td>\n",
       "      <td>1</td>\n",
       "    </tr>\n",
       "    <tr>\n",
       "      <th>5</th>\n",
       "      <td>6</td>\n",
       "      <td>Aprovado</td>\n",
       "      <td>0</td>\n",
       "    </tr>\n",
       "    <tr>\n",
       "      <th>6</th>\n",
       "      <td>9</td>\n",
       "      <td>Aprovado</td>\n",
       "      <td>11</td>\n",
       "    </tr>\n",
       "    <tr>\n",
       "      <th>7</th>\n",
       "      <td>2</td>\n",
       "      <td>Reprovado</td>\n",
       "      <td>11</td>\n",
       "    </tr>\n",
       "    <tr>\n",
       "      <th>8</th>\n",
       "      <td>6</td>\n",
       "      <td>Aprovado</td>\n",
       "      <td>16</td>\n",
       "    </tr>\n",
       "    <tr>\n",
       "      <th>9</th>\n",
       "      <td>10</td>\n",
       "      <td>Aprovado</td>\n",
       "      <td>9</td>\n",
       "    </tr>\n",
       "    <tr>\n",
       "      <th>10</th>\n",
       "      <td>10</td>\n",
       "      <td>Aprovado</td>\n",
       "      <td>15</td>\n",
       "    </tr>\n",
       "    <tr>\n",
       "      <th>11</th>\n",
       "      <td>7</td>\n",
       "      <td>Aprovado</td>\n",
       "      <td>14</td>\n",
       "    </tr>\n",
       "    <tr>\n",
       "      <th>12</th>\n",
       "      <td>4</td>\n",
       "      <td>Reprovado</td>\n",
       "      <td>14</td>\n",
       "    </tr>\n",
       "    <tr>\n",
       "      <th>13</th>\n",
       "      <td>3</td>\n",
       "      <td>Reprovado</td>\n",
       "      <td>18</td>\n",
       "    </tr>\n",
       "    <tr>\n",
       "      <th>14</th>\n",
       "      <td>7</td>\n",
       "      <td>Aprovado</td>\n",
       "      <td>11</td>\n",
       "    </tr>\n",
       "    <tr>\n",
       "      <th>15</th>\n",
       "      <td>7</td>\n",
       "      <td>Aprovado</td>\n",
       "      <td>19</td>\n",
       "    </tr>\n",
       "    <tr>\n",
       "      <th>16</th>\n",
       "      <td>2</td>\n",
       "      <td>Reprovado</td>\n",
       "      <td>2</td>\n",
       "    </tr>\n",
       "    <tr>\n",
       "      <th>17</th>\n",
       "      <td>5</td>\n",
       "      <td>Reprovado</td>\n",
       "      <td>4</td>\n",
       "    </tr>\n",
       "    <tr>\n",
       "      <th>18</th>\n",
       "      <td>4</td>\n",
       "      <td>Reprovado</td>\n",
       "      <td>18</td>\n",
       "    </tr>\n",
       "    <tr>\n",
       "      <th>19</th>\n",
       "      <td>1</td>\n",
       "      <td>Reprovado</td>\n",
       "      <td>6</td>\n",
       "    </tr>\n",
       "    <tr>\n",
       "      <th>20</th>\n",
       "      <td>7</td>\n",
       "      <td>Aprovado</td>\n",
       "      <td>8</td>\n",
       "    </tr>\n",
       "    <tr>\n",
       "      <th>21</th>\n",
       "      <td>5</td>\n",
       "      <td>Reprovado</td>\n",
       "      <td>6</td>\n",
       "    </tr>\n",
       "    <tr>\n",
       "      <th>22</th>\n",
       "      <td>1</td>\n",
       "      <td>Reprovado</td>\n",
       "      <td>17</td>\n",
       "    </tr>\n",
       "    <tr>\n",
       "      <th>23</th>\n",
       "      <td>4</td>\n",
       "      <td>Reprovado</td>\n",
       "      <td>3</td>\n",
       "    </tr>\n",
       "    <tr>\n",
       "      <th>24</th>\n",
       "      <td>0</td>\n",
       "      <td>Reprovado</td>\n",
       "      <td>13</td>\n",
       "    </tr>\n",
       "    <tr>\n",
       "      <th>25</th>\n",
       "      <td>9</td>\n",
       "      <td>Aprovado</td>\n",
       "      <td>17</td>\n",
       "    </tr>\n",
       "    <tr>\n",
       "      <th>26</th>\n",
       "      <td>5</td>\n",
       "      <td>Reprovado</td>\n",
       "      <td>8</td>\n",
       "    </tr>\n",
       "    <tr>\n",
       "      <th>27</th>\n",
       "      <td>8</td>\n",
       "      <td>Aprovado</td>\n",
       "      <td>1</td>\n",
       "    </tr>\n",
       "    <tr>\n",
       "      <th>28</th>\n",
       "      <td>0</td>\n",
       "      <td>Reprovado</td>\n",
       "      <td>19</td>\n",
       "    </tr>\n",
       "    <tr>\n",
       "      <th>29</th>\n",
       "      <td>10</td>\n",
       "      <td>Aprovado</td>\n",
       "      <td>14</td>\n",
       "    </tr>\n",
       "  </tbody>\n",
       "</table>\n",
       "</div>"
      ],
      "text/plain": [
       "    nota e_aprovado   x\n",
       "0      6   Aprovado   2\n",
       "1      3  Reprovado   1\n",
       "2     10   Aprovado  11\n",
       "3      7   Aprovado   5\n",
       "4      4  Reprovado   1\n",
       "5      6   Aprovado   0\n",
       "6      9   Aprovado  11\n",
       "7      2  Reprovado  11\n",
       "8      6   Aprovado  16\n",
       "9     10   Aprovado   9\n",
       "10    10   Aprovado  15\n",
       "11     7   Aprovado  14\n",
       "12     4  Reprovado  14\n",
       "13     3  Reprovado  18\n",
       "14     7   Aprovado  11\n",
       "15     7   Aprovado  19\n",
       "16     2  Reprovado   2\n",
       "17     5  Reprovado   4\n",
       "18     4  Reprovado  18\n",
       "19     1  Reprovado   6\n",
       "20     7   Aprovado   8\n",
       "21     5  Reprovado   6\n",
       "22     1  Reprovado  17\n",
       "23     4  Reprovado   3\n",
       "24     0  Reprovado  13\n",
       "25     9   Aprovado  17\n",
       "26     5  Reprovado   8\n",
       "27     8   Aprovado   1\n",
       "28     0  Reprovado  19\n",
       "29    10   Aprovado  14"
      ]
     },
     "execution_count": 628,
     "metadata": {},
     "output_type": "execute_result"
    }
   ],
   "source": [
    "df_notas2"
   ]
  },
  {
   "cell_type": "code",
   "execution_count": 629,
   "id": "66d9ce07-34ce-45d9-885a-eddb0b4761c9",
   "metadata": {},
   "outputs": [
    {
     "data": {
      "text/html": [
       "<div>\n",
       "<style scoped>\n",
       "    .dataframe tbody tr th:only-of-type {\n",
       "        vertical-align: middle;\n",
       "    }\n",
       "\n",
       "    .dataframe tbody tr th {\n",
       "        vertical-align: top;\n",
       "    }\n",
       "\n",
       "    .dataframe thead th {\n",
       "        text-align: right;\n",
       "    }\n",
       "</style>\n",
       "<table border=\"1\" class=\"dataframe\">\n",
       "  <thead>\n",
       "    <tr style=\"text-align: right;\">\n",
       "      <th></th>\n",
       "      <th>nota</th>\n",
       "      <th>nome</th>\n",
       "      <th>e_aprovado</th>\n",
       "      <th>e_aprovado_bool</th>\n",
       "      <th>coluna_de_1</th>\n",
       "      <th>x</th>\n",
       "      <th>y</th>\n",
       "    </tr>\n",
       "  </thead>\n",
       "  <tbody>\n",
       "    <tr>\n",
       "      <th>0</th>\n",
       "      <td>6</td>\n",
       "      <td>Maria</td>\n",
       "      <td>Aprovado</td>\n",
       "      <td>True</td>\n",
       "      <td>1</td>\n",
       "      <td>2</td>\n",
       "      <td>2.0</td>\n",
       "    </tr>\n",
       "    <tr>\n",
       "      <th>1</th>\n",
       "      <td>3</td>\n",
       "      <td>Maria</td>\n",
       "      <td>Reprovado</td>\n",
       "      <td>False</td>\n",
       "      <td>1</td>\n",
       "      <td>1</td>\n",
       "      <td>16.0</td>\n",
       "    </tr>\n",
       "    <tr>\n",
       "      <th>2</th>\n",
       "      <td>10</td>\n",
       "      <td>Maria</td>\n",
       "      <td>Aprovado</td>\n",
       "      <td>True</td>\n",
       "      <td>1</td>\n",
       "      <td>11</td>\n",
       "      <td>4.0</td>\n",
       "    </tr>\n",
       "    <tr>\n",
       "      <th>3</th>\n",
       "      <td>7</td>\n",
       "      <td>Maria</td>\n",
       "      <td>Aprovado</td>\n",
       "      <td>True</td>\n",
       "      <td>1</td>\n",
       "      <td>5</td>\n",
       "      <td>16.0</td>\n",
       "    </tr>\n",
       "    <tr>\n",
       "      <th>4</th>\n",
       "      <td>4</td>\n",
       "      <td>Maria</td>\n",
       "      <td>Reprovado</td>\n",
       "      <td>False</td>\n",
       "      <td>1</td>\n",
       "      <td>1</td>\n",
       "      <td>16.0</td>\n",
       "    </tr>\n",
       "  </tbody>\n",
       "</table>\n",
       "</div>"
      ],
      "text/plain": [
       "   nota   nome e_aprovado  e_aprovado_bool  coluna_de_1   x     y\n",
       "0     6  Maria   Aprovado             True            1   2   2.0\n",
       "1     3  Maria  Reprovado            False            1   1  16.0\n",
       "2    10  Maria   Aprovado             True            1  11   4.0\n",
       "3     7  Maria   Aprovado             True            1   5  16.0\n",
       "4     4  Maria  Reprovado            False            1   1  16.0"
      ]
     },
     "execution_count": 629,
     "metadata": {},
     "output_type": "execute_result"
    }
   ],
   "source": [
    "df_notas.head()"
   ]
  },
  {
   "cell_type": "code",
   "execution_count": 631,
   "id": "660a4fad-2a81-4716-bfff-e7cc6165da46",
   "metadata": {},
   "outputs": [],
   "source": [
    "df_notas3 = df_notas.drop(columns=['nome', 'e_aprovado_bool', 'coluna_de_1','y'])"
   ]
  },
  {
   "cell_type": "code",
   "execution_count": 633,
   "id": "077e0490-74a9-4e40-8fa1-038c0196323d",
   "metadata": {},
   "outputs": [
    {
     "data": {
      "text/html": [
       "<div>\n",
       "<style scoped>\n",
       "    .dataframe tbody tr th:only-of-type {\n",
       "        vertical-align: middle;\n",
       "    }\n",
       "\n",
       "    .dataframe tbody tr th {\n",
       "        vertical-align: top;\n",
       "    }\n",
       "\n",
       "    .dataframe thead th {\n",
       "        text-align: right;\n",
       "    }\n",
       "</style>\n",
       "<table border=\"1\" class=\"dataframe\">\n",
       "  <thead>\n",
       "    <tr style=\"text-align: right;\">\n",
       "      <th></th>\n",
       "      <th>nota</th>\n",
       "      <th>e_aprovado</th>\n",
       "      <th>x</th>\n",
       "    </tr>\n",
       "  </thead>\n",
       "  <tbody>\n",
       "    <tr>\n",
       "      <th>0</th>\n",
       "      <td>6</td>\n",
       "      <td>Aprovado</td>\n",
       "      <td>2</td>\n",
       "    </tr>\n",
       "    <tr>\n",
       "      <th>1</th>\n",
       "      <td>3</td>\n",
       "      <td>Reprovado</td>\n",
       "      <td>1</td>\n",
       "    </tr>\n",
       "    <tr>\n",
       "      <th>2</th>\n",
       "      <td>10</td>\n",
       "      <td>Aprovado</td>\n",
       "      <td>11</td>\n",
       "    </tr>\n",
       "    <tr>\n",
       "      <th>3</th>\n",
       "      <td>7</td>\n",
       "      <td>Aprovado</td>\n",
       "      <td>5</td>\n",
       "    </tr>\n",
       "    <tr>\n",
       "      <th>4</th>\n",
       "      <td>4</td>\n",
       "      <td>Reprovado</td>\n",
       "      <td>1</td>\n",
       "    </tr>\n",
       "  </tbody>\n",
       "</table>\n",
       "</div>"
      ],
      "text/plain": [
       "   nota e_aprovado   x\n",
       "0     6   Aprovado   2\n",
       "1     3  Reprovado   1\n",
       "2    10   Aprovado  11\n",
       "3     7   Aprovado   5\n",
       "4     4  Reprovado   1"
      ]
     },
     "execution_count": 633,
     "metadata": {},
     "output_type": "execute_result"
    }
   ],
   "source": [
    "df_notas3.head()"
   ]
  },
  {
   "cell_type": "code",
   "execution_count": 656,
   "id": "edc7ea4d-d942-4710-a51a-05b6aaab31fa",
   "metadata": {},
   "outputs": [],
   "source": [
    "def exclui_colunas(df, colunas):\n",
    "    df = df.copy()\n",
    "    df.drop(columns=colunas, inplace=True)\n",
    "    return df\n",
    "\n",
    "def exclui_colunas_ins(df, colunas):\n",
    "    df.drop(columns=colunas, inplace=True)\n",
    "    return df"
   ]
  },
  {
   "cell_type": "code",
   "execution_count": 657,
   "id": "1a4320f7-c8b8-40ef-ae99-170d198a58b0",
   "metadata": {},
   "outputs": [],
   "source": [
    "df_nota_bkp = df_notas.copy()"
   ]
  },
  {
   "cell_type": "code",
   "execution_count": 658,
   "id": "3b549a53-1fff-4319-8572-e2cb73d6cf7e",
   "metadata": {
    "scrolled": true,
    "tags": []
   },
   "outputs": [
    {
     "data": {
      "text/html": [
       "<div>\n",
       "<style scoped>\n",
       "    .dataframe tbody tr th:only-of-type {\n",
       "        vertical-align: middle;\n",
       "    }\n",
       "\n",
       "    .dataframe tbody tr th {\n",
       "        vertical-align: top;\n",
       "    }\n",
       "\n",
       "    .dataframe thead th {\n",
       "        text-align: right;\n",
       "    }\n",
       "</style>\n",
       "<table border=\"1\" class=\"dataframe\">\n",
       "  <thead>\n",
       "    <tr style=\"text-align: right;\">\n",
       "      <th></th>\n",
       "      <th>nota</th>\n",
       "      <th>e_aprovado</th>\n",
       "      <th>x</th>\n",
       "    </tr>\n",
       "  </thead>\n",
       "  <tbody>\n",
       "    <tr>\n",
       "      <th>0</th>\n",
       "      <td>6</td>\n",
       "      <td>Aprovado</td>\n",
       "      <td>2</td>\n",
       "    </tr>\n",
       "    <tr>\n",
       "      <th>1</th>\n",
       "      <td>3</td>\n",
       "      <td>Reprovado</td>\n",
       "      <td>1</td>\n",
       "    </tr>\n",
       "    <tr>\n",
       "      <th>2</th>\n",
       "      <td>10</td>\n",
       "      <td>Aprovado</td>\n",
       "      <td>11</td>\n",
       "    </tr>\n",
       "    <tr>\n",
       "      <th>3</th>\n",
       "      <td>7</td>\n",
       "      <td>Aprovado</td>\n",
       "      <td>5</td>\n",
       "    </tr>\n",
       "    <tr>\n",
       "      <th>4</th>\n",
       "      <td>4</td>\n",
       "      <td>Reprovado</td>\n",
       "      <td>1</td>\n",
       "    </tr>\n",
       "    <tr>\n",
       "      <th>5</th>\n",
       "      <td>6</td>\n",
       "      <td>Aprovado</td>\n",
       "      <td>0</td>\n",
       "    </tr>\n",
       "    <tr>\n",
       "      <th>6</th>\n",
       "      <td>9</td>\n",
       "      <td>Aprovado</td>\n",
       "      <td>11</td>\n",
       "    </tr>\n",
       "    <tr>\n",
       "      <th>7</th>\n",
       "      <td>2</td>\n",
       "      <td>Reprovado</td>\n",
       "      <td>11</td>\n",
       "    </tr>\n",
       "    <tr>\n",
       "      <th>8</th>\n",
       "      <td>6</td>\n",
       "      <td>Aprovado</td>\n",
       "      <td>16</td>\n",
       "    </tr>\n",
       "    <tr>\n",
       "      <th>9</th>\n",
       "      <td>10</td>\n",
       "      <td>Aprovado</td>\n",
       "      <td>9</td>\n",
       "    </tr>\n",
       "    <tr>\n",
       "      <th>10</th>\n",
       "      <td>10</td>\n",
       "      <td>Aprovado</td>\n",
       "      <td>15</td>\n",
       "    </tr>\n",
       "    <tr>\n",
       "      <th>11</th>\n",
       "      <td>7</td>\n",
       "      <td>Aprovado</td>\n",
       "      <td>14</td>\n",
       "    </tr>\n",
       "    <tr>\n",
       "      <th>12</th>\n",
       "      <td>4</td>\n",
       "      <td>Reprovado</td>\n",
       "      <td>14</td>\n",
       "    </tr>\n",
       "    <tr>\n",
       "      <th>13</th>\n",
       "      <td>3</td>\n",
       "      <td>Reprovado</td>\n",
       "      <td>18</td>\n",
       "    </tr>\n",
       "    <tr>\n",
       "      <th>14</th>\n",
       "      <td>7</td>\n",
       "      <td>Aprovado</td>\n",
       "      <td>11</td>\n",
       "    </tr>\n",
       "    <tr>\n",
       "      <th>15</th>\n",
       "      <td>7</td>\n",
       "      <td>Aprovado</td>\n",
       "      <td>19</td>\n",
       "    </tr>\n",
       "    <tr>\n",
       "      <th>16</th>\n",
       "      <td>2</td>\n",
       "      <td>Reprovado</td>\n",
       "      <td>2</td>\n",
       "    </tr>\n",
       "    <tr>\n",
       "      <th>17</th>\n",
       "      <td>5</td>\n",
       "      <td>Reprovado</td>\n",
       "      <td>4</td>\n",
       "    </tr>\n",
       "    <tr>\n",
       "      <th>18</th>\n",
       "      <td>4</td>\n",
       "      <td>Reprovado</td>\n",
       "      <td>18</td>\n",
       "    </tr>\n",
       "    <tr>\n",
       "      <th>19</th>\n",
       "      <td>1</td>\n",
       "      <td>Reprovado</td>\n",
       "      <td>6</td>\n",
       "    </tr>\n",
       "    <tr>\n",
       "      <th>20</th>\n",
       "      <td>7</td>\n",
       "      <td>Aprovado</td>\n",
       "      <td>8</td>\n",
       "    </tr>\n",
       "    <tr>\n",
       "      <th>21</th>\n",
       "      <td>5</td>\n",
       "      <td>Reprovado</td>\n",
       "      <td>6</td>\n",
       "    </tr>\n",
       "    <tr>\n",
       "      <th>22</th>\n",
       "      <td>1</td>\n",
       "      <td>Reprovado</td>\n",
       "      <td>17</td>\n",
       "    </tr>\n",
       "    <tr>\n",
       "      <th>23</th>\n",
       "      <td>4</td>\n",
       "      <td>Reprovado</td>\n",
       "      <td>3</td>\n",
       "    </tr>\n",
       "    <tr>\n",
       "      <th>24</th>\n",
       "      <td>0</td>\n",
       "      <td>Reprovado</td>\n",
       "      <td>13</td>\n",
       "    </tr>\n",
       "    <tr>\n",
       "      <th>25</th>\n",
       "      <td>9</td>\n",
       "      <td>Aprovado</td>\n",
       "      <td>17</td>\n",
       "    </tr>\n",
       "    <tr>\n",
       "      <th>26</th>\n",
       "      <td>5</td>\n",
       "      <td>Reprovado</td>\n",
       "      <td>8</td>\n",
       "    </tr>\n",
       "    <tr>\n",
       "      <th>27</th>\n",
       "      <td>8</td>\n",
       "      <td>Aprovado</td>\n",
       "      <td>1</td>\n",
       "    </tr>\n",
       "    <tr>\n",
       "      <th>28</th>\n",
       "      <td>0</td>\n",
       "      <td>Reprovado</td>\n",
       "      <td>19</td>\n",
       "    </tr>\n",
       "    <tr>\n",
       "      <th>29</th>\n",
       "      <td>10</td>\n",
       "      <td>Aprovado</td>\n",
       "      <td>14</td>\n",
       "    </tr>\n",
       "  </tbody>\n",
       "</table>\n",
       "</div>"
      ],
      "text/plain": [
       "    nota e_aprovado   x\n",
       "0      6   Aprovado   2\n",
       "1      3  Reprovado   1\n",
       "2     10   Aprovado  11\n",
       "3      7   Aprovado   5\n",
       "4      4  Reprovado   1\n",
       "5      6   Aprovado   0\n",
       "6      9   Aprovado  11\n",
       "7      2  Reprovado  11\n",
       "8      6   Aprovado  16\n",
       "9     10   Aprovado   9\n",
       "10    10   Aprovado  15\n",
       "11     7   Aprovado  14\n",
       "12     4  Reprovado  14\n",
       "13     3  Reprovado  18\n",
       "14     7   Aprovado  11\n",
       "15     7   Aprovado  19\n",
       "16     2  Reprovado   2\n",
       "17     5  Reprovado   4\n",
       "18     4  Reprovado  18\n",
       "19     1  Reprovado   6\n",
       "20     7   Aprovado   8\n",
       "21     5  Reprovado   6\n",
       "22     1  Reprovado  17\n",
       "23     4  Reprovado   3\n",
       "24     0  Reprovado  13\n",
       "25     9   Aprovado  17\n",
       "26     5  Reprovado   8\n",
       "27     8   Aprovado   1\n",
       "28     0  Reprovado  19\n",
       "29    10   Aprovado  14"
      ]
     },
     "execution_count": 658,
     "metadata": {},
     "output_type": "execute_result"
    }
   ],
   "source": [
    "exclui_colunas(df_notas, colunas=['nome', 'e_aprovado_bool', 'coluna_de_1','y'])"
   ]
  },
  {
   "cell_type": "markdown",
   "id": "3558cebe-d599-453e-878f-acd000632a50",
   "metadata": {},
   "source": [
    "Como o dataframe é um conjunto de séries, também podemos fazer filtros!\n"
   ]
  },
  {
   "cell_type": "code",
   "execution_count": 664,
   "id": "07e78ed6-8171-43ad-8597-68037390a0d2",
   "metadata": {},
   "outputs": [
    {
     "data": {
      "text/html": [
       "<div>\n",
       "<style scoped>\n",
       "    .dataframe tbody tr th:only-of-type {\n",
       "        vertical-align: middle;\n",
       "    }\n",
       "\n",
       "    .dataframe tbody tr th {\n",
       "        vertical-align: top;\n",
       "    }\n",
       "\n",
       "    .dataframe thead th {\n",
       "        text-align: right;\n",
       "    }\n",
       "</style>\n",
       "<table border=\"1\" class=\"dataframe\">\n",
       "  <thead>\n",
       "    <tr style=\"text-align: right;\">\n",
       "      <th></th>\n",
       "      <th>nota</th>\n",
       "      <th>nome</th>\n",
       "      <th>e_aprovado</th>\n",
       "      <th>e_aprovado_bool</th>\n",
       "      <th>coluna_de_1</th>\n",
       "      <th>x</th>\n",
       "      <th>y</th>\n",
       "    </tr>\n",
       "  </thead>\n",
       "  <tbody>\n",
       "    <tr>\n",
       "      <th>0</th>\n",
       "      <td>6</td>\n",
       "      <td>Maria</td>\n",
       "      <td>Aprovado</td>\n",
       "      <td>True</td>\n",
       "      <td>1</td>\n",
       "      <td>2</td>\n",
       "      <td>2.0</td>\n",
       "    </tr>\n",
       "    <tr>\n",
       "      <th>2</th>\n",
       "      <td>10</td>\n",
       "      <td>Maria</td>\n",
       "      <td>Aprovado</td>\n",
       "      <td>True</td>\n",
       "      <td>1</td>\n",
       "      <td>11</td>\n",
       "      <td>4.0</td>\n",
       "    </tr>\n",
       "    <tr>\n",
       "      <th>3</th>\n",
       "      <td>7</td>\n",
       "      <td>Maria</td>\n",
       "      <td>Aprovado</td>\n",
       "      <td>True</td>\n",
       "      <td>1</td>\n",
       "      <td>5</td>\n",
       "      <td>16.0</td>\n",
       "    </tr>\n",
       "    <tr>\n",
       "      <th>5</th>\n",
       "      <td>6</td>\n",
       "      <td>Maria</td>\n",
       "      <td>Aprovado</td>\n",
       "      <td>True</td>\n",
       "      <td>1</td>\n",
       "      <td>0</td>\n",
       "      <td>16.0</td>\n",
       "    </tr>\n",
       "    <tr>\n",
       "      <th>6</th>\n",
       "      <td>9</td>\n",
       "      <td>Maria</td>\n",
       "      <td>Aprovado</td>\n",
       "      <td>True</td>\n",
       "      <td>1</td>\n",
       "      <td>11</td>\n",
       "      <td>1.0</td>\n",
       "    </tr>\n",
       "    <tr>\n",
       "      <th>8</th>\n",
       "      <td>6</td>\n",
       "      <td>Maria</td>\n",
       "      <td>Aprovado</td>\n",
       "      <td>True</td>\n",
       "      <td>1</td>\n",
       "      <td>16</td>\n",
       "      <td>4.0</td>\n",
       "    </tr>\n",
       "    <tr>\n",
       "      <th>9</th>\n",
       "      <td>10</td>\n",
       "      <td>Maria</td>\n",
       "      <td>Aprovado</td>\n",
       "      <td>True</td>\n",
       "      <td>1</td>\n",
       "      <td>9</td>\n",
       "      <td>0.0</td>\n",
       "    </tr>\n",
       "    <tr>\n",
       "      <th>10</th>\n",
       "      <td>10</td>\n",
       "      <td>João</td>\n",
       "      <td>Aprovado</td>\n",
       "      <td>True</td>\n",
       "      <td>1</td>\n",
       "      <td>15</td>\n",
       "      <td>0.0</td>\n",
       "    </tr>\n",
       "    <tr>\n",
       "      <th>11</th>\n",
       "      <td>7</td>\n",
       "      <td>João</td>\n",
       "      <td>Aprovado</td>\n",
       "      <td>True</td>\n",
       "      <td>1</td>\n",
       "      <td>14</td>\n",
       "      <td>0.0</td>\n",
       "    </tr>\n",
       "    <tr>\n",
       "      <th>14</th>\n",
       "      <td>7</td>\n",
       "      <td>João</td>\n",
       "      <td>Aprovado</td>\n",
       "      <td>True</td>\n",
       "      <td>1</td>\n",
       "      <td>11</td>\n",
       "      <td>1.0</td>\n",
       "    </tr>\n",
       "    <tr>\n",
       "      <th>15</th>\n",
       "      <td>7</td>\n",
       "      <td>João</td>\n",
       "      <td>Aprovado</td>\n",
       "      <td>True</td>\n",
       "      <td>1</td>\n",
       "      <td>19</td>\n",
       "      <td>11.0</td>\n",
       "    </tr>\n",
       "    <tr>\n",
       "      <th>20</th>\n",
       "      <td>7</td>\n",
       "      <td>José</td>\n",
       "      <td>Aprovado</td>\n",
       "      <td>True</td>\n",
       "      <td>1</td>\n",
       "      <td>8</td>\n",
       "      <td>5.0</td>\n",
       "    </tr>\n",
       "    <tr>\n",
       "      <th>25</th>\n",
       "      <td>9</td>\n",
       "      <td>José</td>\n",
       "      <td>Aprovado</td>\n",
       "      <td>True</td>\n",
       "      <td>1</td>\n",
       "      <td>17</td>\n",
       "      <td>19.0</td>\n",
       "    </tr>\n",
       "    <tr>\n",
       "      <th>27</th>\n",
       "      <td>8</td>\n",
       "      <td>José</td>\n",
       "      <td>Aprovado</td>\n",
       "      <td>True</td>\n",
       "      <td>1</td>\n",
       "      <td>1</td>\n",
       "      <td>5.0</td>\n",
       "    </tr>\n",
       "    <tr>\n",
       "      <th>29</th>\n",
       "      <td>10</td>\n",
       "      <td>José</td>\n",
       "      <td>Aprovado</td>\n",
       "      <td>True</td>\n",
       "      <td>1</td>\n",
       "      <td>14</td>\n",
       "      <td>15.0</td>\n",
       "    </tr>\n",
       "  </tbody>\n",
       "</table>\n",
       "</div>"
      ],
      "text/plain": [
       "    nota   nome e_aprovado  e_aprovado_bool  coluna_de_1   x     y\n",
       "0      6  Maria   Aprovado             True            1   2   2.0\n",
       "2     10  Maria   Aprovado             True            1  11   4.0\n",
       "3      7  Maria   Aprovado             True            1   5  16.0\n",
       "5      6  Maria   Aprovado             True            1   0  16.0\n",
       "6      9  Maria   Aprovado             True            1  11   1.0\n",
       "8      6  Maria   Aprovado             True            1  16   4.0\n",
       "9     10  Maria   Aprovado             True            1   9   0.0\n",
       "10    10   João   Aprovado             True            1  15   0.0\n",
       "11     7   João   Aprovado             True            1  14   0.0\n",
       "14     7   João   Aprovado             True            1  11   1.0\n",
       "15     7   João   Aprovado             True            1  19  11.0\n",
       "20     7   José   Aprovado             True            1   8   5.0\n",
       "25     9   José   Aprovado             True            1  17  19.0\n",
       "27     8   José   Aprovado             True            1   1   5.0\n",
       "29    10   José   Aprovado             True            1  14  15.0"
      ]
     },
     "execution_count": 664,
     "metadata": {},
     "output_type": "execute_result"
    }
   ],
   "source": [
    "df_notas[df_notas.nota > 5]"
   ]
  },
  {
   "cell_type": "code",
   "execution_count": 666,
   "id": "b4e37084-dda7-41aa-9929-1b94a7fb82ff",
   "metadata": {},
   "outputs": [
    {
     "data": {
      "text/html": [
       "<div>\n",
       "<style scoped>\n",
       "    .dataframe tbody tr th:only-of-type {\n",
       "        vertical-align: middle;\n",
       "    }\n",
       "\n",
       "    .dataframe tbody tr th {\n",
       "        vertical-align: top;\n",
       "    }\n",
       "\n",
       "    .dataframe thead th {\n",
       "        text-align: right;\n",
       "    }\n",
       "</style>\n",
       "<table border=\"1\" class=\"dataframe\">\n",
       "  <thead>\n",
       "    <tr style=\"text-align: right;\">\n",
       "      <th></th>\n",
       "      <th>nota</th>\n",
       "      <th>nome</th>\n",
       "      <th>e_aprovado</th>\n",
       "      <th>e_aprovado_bool</th>\n",
       "      <th>coluna_de_1</th>\n",
       "      <th>x</th>\n",
       "      <th>y</th>\n",
       "    </tr>\n",
       "  </thead>\n",
       "  <tbody>\n",
       "    <tr>\n",
       "      <th>0</th>\n",
       "      <td>6</td>\n",
       "      <td>Maria</td>\n",
       "      <td>Aprovado</td>\n",
       "      <td>True</td>\n",
       "      <td>1</td>\n",
       "      <td>2</td>\n",
       "      <td>2.0</td>\n",
       "    </tr>\n",
       "    <tr>\n",
       "      <th>3</th>\n",
       "      <td>7</td>\n",
       "      <td>Maria</td>\n",
       "      <td>Aprovado</td>\n",
       "      <td>True</td>\n",
       "      <td>1</td>\n",
       "      <td>5</td>\n",
       "      <td>16.0</td>\n",
       "    </tr>\n",
       "    <tr>\n",
       "      <th>5</th>\n",
       "      <td>6</td>\n",
       "      <td>Maria</td>\n",
       "      <td>Aprovado</td>\n",
       "      <td>True</td>\n",
       "      <td>1</td>\n",
       "      <td>0</td>\n",
       "      <td>16.0</td>\n",
       "    </tr>\n",
       "    <tr>\n",
       "      <th>8</th>\n",
       "      <td>6</td>\n",
       "      <td>Maria</td>\n",
       "      <td>Aprovado</td>\n",
       "      <td>True</td>\n",
       "      <td>1</td>\n",
       "      <td>16</td>\n",
       "      <td>4.0</td>\n",
       "    </tr>\n",
       "    <tr>\n",
       "      <th>11</th>\n",
       "      <td>7</td>\n",
       "      <td>João</td>\n",
       "      <td>Aprovado</td>\n",
       "      <td>True</td>\n",
       "      <td>1</td>\n",
       "      <td>14</td>\n",
       "      <td>0.0</td>\n",
       "    </tr>\n",
       "    <tr>\n",
       "      <th>14</th>\n",
       "      <td>7</td>\n",
       "      <td>João</td>\n",
       "      <td>Aprovado</td>\n",
       "      <td>True</td>\n",
       "      <td>1</td>\n",
       "      <td>11</td>\n",
       "      <td>1.0</td>\n",
       "    </tr>\n",
       "    <tr>\n",
       "      <th>15</th>\n",
       "      <td>7</td>\n",
       "      <td>João</td>\n",
       "      <td>Aprovado</td>\n",
       "      <td>True</td>\n",
       "      <td>1</td>\n",
       "      <td>19</td>\n",
       "      <td>11.0</td>\n",
       "    </tr>\n",
       "    <tr>\n",
       "      <th>20</th>\n",
       "      <td>7</td>\n",
       "      <td>José</td>\n",
       "      <td>Aprovado</td>\n",
       "      <td>True</td>\n",
       "      <td>1</td>\n",
       "      <td>8</td>\n",
       "      <td>5.0</td>\n",
       "    </tr>\n",
       "  </tbody>\n",
       "</table>\n",
       "</div>"
      ],
      "text/plain": [
       "    nota   nome e_aprovado  e_aprovado_bool  coluna_de_1   x     y\n",
       "0      6  Maria   Aprovado             True            1   2   2.0\n",
       "3      7  Maria   Aprovado             True            1   5  16.0\n",
       "5      6  Maria   Aprovado             True            1   0  16.0\n",
       "8      6  Maria   Aprovado             True            1  16   4.0\n",
       "11     7   João   Aprovado             True            1  14   0.0\n",
       "14     7   João   Aprovado             True            1  11   1.0\n",
       "15     7   João   Aprovado             True            1  19  11.0\n",
       "20     7   José   Aprovado             True            1   8   5.0"
      ]
     },
     "execution_count": 666,
     "metadata": {},
     "output_type": "execute_result"
    }
   ],
   "source": [
    "df_notas[(df_notas.nota > 5) & (df_notas.nota < 8)]"
   ]
  },
  {
   "cell_type": "code",
   "execution_count": 670,
   "id": "608fb8c9-4cc1-41c0-9885-0ffb0f0d1b45",
   "metadata": {},
   "outputs": [
    {
     "data": {
      "text/html": [
       "<div>\n",
       "<style scoped>\n",
       "    .dataframe tbody tr th:only-of-type {\n",
       "        vertical-align: middle;\n",
       "    }\n",
       "\n",
       "    .dataframe tbody tr th {\n",
       "        vertical-align: top;\n",
       "    }\n",
       "\n",
       "    .dataframe thead th {\n",
       "        text-align: right;\n",
       "    }\n",
       "</style>\n",
       "<table border=\"1\" class=\"dataframe\">\n",
       "  <thead>\n",
       "    <tr style=\"text-align: right;\">\n",
       "      <th></th>\n",
       "      <th>nota</th>\n",
       "      <th>nome</th>\n",
       "      <th>e_aprovado</th>\n",
       "      <th>e_aprovado_bool</th>\n",
       "      <th>coluna_de_1</th>\n",
       "      <th>x</th>\n",
       "      <th>y</th>\n",
       "    </tr>\n",
       "  </thead>\n",
       "  <tbody>\n",
       "    <tr>\n",
       "      <th>1</th>\n",
       "      <td>3</td>\n",
       "      <td>Maria</td>\n",
       "      <td>Reprovado</td>\n",
       "      <td>False</td>\n",
       "      <td>1</td>\n",
       "      <td>1</td>\n",
       "      <td>16.0</td>\n",
       "    </tr>\n",
       "    <tr>\n",
       "      <th>3</th>\n",
       "      <td>7</td>\n",
       "      <td>Maria</td>\n",
       "      <td>Aprovado</td>\n",
       "      <td>True</td>\n",
       "      <td>1</td>\n",
       "      <td>5</td>\n",
       "      <td>16.0</td>\n",
       "    </tr>\n",
       "    <tr>\n",
       "      <th>11</th>\n",
       "      <td>7</td>\n",
       "      <td>João</td>\n",
       "      <td>Aprovado</td>\n",
       "      <td>True</td>\n",
       "      <td>1</td>\n",
       "      <td>14</td>\n",
       "      <td>0.0</td>\n",
       "    </tr>\n",
       "    <tr>\n",
       "      <th>13</th>\n",
       "      <td>3</td>\n",
       "      <td>João</td>\n",
       "      <td>Reprovado</td>\n",
       "      <td>False</td>\n",
       "      <td>1</td>\n",
       "      <td>18</td>\n",
       "      <td>18.0</td>\n",
       "    </tr>\n",
       "    <tr>\n",
       "      <th>14</th>\n",
       "      <td>7</td>\n",
       "      <td>João</td>\n",
       "      <td>Aprovado</td>\n",
       "      <td>True</td>\n",
       "      <td>1</td>\n",
       "      <td>11</td>\n",
       "      <td>1.0</td>\n",
       "    </tr>\n",
       "    <tr>\n",
       "      <th>15</th>\n",
       "      <td>7</td>\n",
       "      <td>João</td>\n",
       "      <td>Aprovado</td>\n",
       "      <td>True</td>\n",
       "      <td>1</td>\n",
       "      <td>19</td>\n",
       "      <td>11.0</td>\n",
       "    </tr>\n",
       "    <tr>\n",
       "      <th>17</th>\n",
       "      <td>5</td>\n",
       "      <td>João</td>\n",
       "      <td>Reprovado</td>\n",
       "      <td>False</td>\n",
       "      <td>1</td>\n",
       "      <td>4</td>\n",
       "      <td>3.0</td>\n",
       "    </tr>\n",
       "    <tr>\n",
       "      <th>20</th>\n",
       "      <td>7</td>\n",
       "      <td>José</td>\n",
       "      <td>Aprovado</td>\n",
       "      <td>True</td>\n",
       "      <td>1</td>\n",
       "      <td>8</td>\n",
       "      <td>5.0</td>\n",
       "    </tr>\n",
       "    <tr>\n",
       "      <th>21</th>\n",
       "      <td>5</td>\n",
       "      <td>José</td>\n",
       "      <td>Reprovado</td>\n",
       "      <td>False</td>\n",
       "      <td>1</td>\n",
       "      <td>6</td>\n",
       "      <td>4.0</td>\n",
       "    </tr>\n",
       "    <tr>\n",
       "      <th>26</th>\n",
       "      <td>5</td>\n",
       "      <td>José</td>\n",
       "      <td>Reprovado</td>\n",
       "      <td>False</td>\n",
       "      <td>1</td>\n",
       "      <td>8</td>\n",
       "      <td>1.0</td>\n",
       "    </tr>\n",
       "  </tbody>\n",
       "</table>\n",
       "</div>"
      ],
      "text/plain": [
       "    nota   nome e_aprovado  e_aprovado_bool  coluna_de_1   x     y\n",
       "1      3  Maria  Reprovado            False            1   1  16.0\n",
       "3      7  Maria   Aprovado             True            1   5  16.0\n",
       "11     7   João   Aprovado             True            1  14   0.0\n",
       "13     3   João  Reprovado            False            1  18  18.0\n",
       "14     7   João   Aprovado             True            1  11   1.0\n",
       "15     7   João   Aprovado             True            1  19  11.0\n",
       "17     5   João  Reprovado            False            1   4   3.0\n",
       "20     7   José   Aprovado             True            1   8   5.0\n",
       "21     5   José  Reprovado            False            1   6   4.0\n",
       "26     5   José  Reprovado            False            1   8   1.0"
      ]
     },
     "execution_count": 670,
     "metadata": {},
     "output_type": "execute_result"
    }
   ],
   "source": [
    "# retorna valores dentro de uma lista\n",
    "df_notas[df_notas.nota.isin([3, 5, 7])]"
   ]
  },
  {
   "cell_type": "code",
   "execution_count": 671,
   "id": "870877e8-0fd7-4b41-ab95-af54bd617153",
   "metadata": {},
   "outputs": [
    {
     "data": {
      "text/html": [
       "<div>\n",
       "<style scoped>\n",
       "    .dataframe tbody tr th:only-of-type {\n",
       "        vertical-align: middle;\n",
       "    }\n",
       "\n",
       "    .dataframe tbody tr th {\n",
       "        vertical-align: top;\n",
       "    }\n",
       "\n",
       "    .dataframe thead th {\n",
       "        text-align: right;\n",
       "    }\n",
       "</style>\n",
       "<table border=\"1\" class=\"dataframe\">\n",
       "  <thead>\n",
       "    <tr style=\"text-align: right;\">\n",
       "      <th></th>\n",
       "      <th>nota</th>\n",
       "      <th>nome</th>\n",
       "      <th>e_aprovado</th>\n",
       "      <th>e_aprovado_bool</th>\n",
       "      <th>coluna_de_1</th>\n",
       "      <th>x</th>\n",
       "      <th>y</th>\n",
       "    </tr>\n",
       "  </thead>\n",
       "  <tbody>\n",
       "    <tr>\n",
       "      <th>0</th>\n",
       "      <td>6</td>\n",
       "      <td>Maria</td>\n",
       "      <td>Aprovado</td>\n",
       "      <td>True</td>\n",
       "      <td>1</td>\n",
       "      <td>2</td>\n",
       "      <td>2.0</td>\n",
       "    </tr>\n",
       "    <tr>\n",
       "      <th>2</th>\n",
       "      <td>10</td>\n",
       "      <td>Maria</td>\n",
       "      <td>Aprovado</td>\n",
       "      <td>True</td>\n",
       "      <td>1</td>\n",
       "      <td>11</td>\n",
       "      <td>4.0</td>\n",
       "    </tr>\n",
       "    <tr>\n",
       "      <th>4</th>\n",
       "      <td>4</td>\n",
       "      <td>Maria</td>\n",
       "      <td>Reprovado</td>\n",
       "      <td>False</td>\n",
       "      <td>1</td>\n",
       "      <td>1</td>\n",
       "      <td>16.0</td>\n",
       "    </tr>\n",
       "    <tr>\n",
       "      <th>5</th>\n",
       "      <td>6</td>\n",
       "      <td>Maria</td>\n",
       "      <td>Aprovado</td>\n",
       "      <td>True</td>\n",
       "      <td>1</td>\n",
       "      <td>0</td>\n",
       "      <td>16.0</td>\n",
       "    </tr>\n",
       "    <tr>\n",
       "      <th>6</th>\n",
       "      <td>9</td>\n",
       "      <td>Maria</td>\n",
       "      <td>Aprovado</td>\n",
       "      <td>True</td>\n",
       "      <td>1</td>\n",
       "      <td>11</td>\n",
       "      <td>1.0</td>\n",
       "    </tr>\n",
       "    <tr>\n",
       "      <th>7</th>\n",
       "      <td>2</td>\n",
       "      <td>Maria</td>\n",
       "      <td>Reprovado</td>\n",
       "      <td>False</td>\n",
       "      <td>1</td>\n",
       "      <td>11</td>\n",
       "      <td>1.0</td>\n",
       "    </tr>\n",
       "    <tr>\n",
       "      <th>8</th>\n",
       "      <td>6</td>\n",
       "      <td>Maria</td>\n",
       "      <td>Aprovado</td>\n",
       "      <td>True</td>\n",
       "      <td>1</td>\n",
       "      <td>16</td>\n",
       "      <td>4.0</td>\n",
       "    </tr>\n",
       "    <tr>\n",
       "      <th>9</th>\n",
       "      <td>10</td>\n",
       "      <td>Maria</td>\n",
       "      <td>Aprovado</td>\n",
       "      <td>True</td>\n",
       "      <td>1</td>\n",
       "      <td>9</td>\n",
       "      <td>0.0</td>\n",
       "    </tr>\n",
       "    <tr>\n",
       "      <th>10</th>\n",
       "      <td>10</td>\n",
       "      <td>João</td>\n",
       "      <td>Aprovado</td>\n",
       "      <td>True</td>\n",
       "      <td>1</td>\n",
       "      <td>15</td>\n",
       "      <td>0.0</td>\n",
       "    </tr>\n",
       "    <tr>\n",
       "      <th>12</th>\n",
       "      <td>4</td>\n",
       "      <td>João</td>\n",
       "      <td>Reprovado</td>\n",
       "      <td>False</td>\n",
       "      <td>1</td>\n",
       "      <td>14</td>\n",
       "      <td>0.0</td>\n",
       "    </tr>\n",
       "    <tr>\n",
       "      <th>16</th>\n",
       "      <td>2</td>\n",
       "      <td>João</td>\n",
       "      <td>Reprovado</td>\n",
       "      <td>False</td>\n",
       "      <td>1</td>\n",
       "      <td>2</td>\n",
       "      <td>5.0</td>\n",
       "    </tr>\n",
       "    <tr>\n",
       "      <th>18</th>\n",
       "      <td>4</td>\n",
       "      <td>João</td>\n",
       "      <td>Reprovado</td>\n",
       "      <td>False</td>\n",
       "      <td>1</td>\n",
       "      <td>18</td>\n",
       "      <td>10.0</td>\n",
       "    </tr>\n",
       "    <tr>\n",
       "      <th>19</th>\n",
       "      <td>1</td>\n",
       "      <td>João</td>\n",
       "      <td>Reprovado</td>\n",
       "      <td>False</td>\n",
       "      <td>1</td>\n",
       "      <td>6</td>\n",
       "      <td>16.0</td>\n",
       "    </tr>\n",
       "    <tr>\n",
       "      <th>22</th>\n",
       "      <td>1</td>\n",
       "      <td>José</td>\n",
       "      <td>Reprovado</td>\n",
       "      <td>False</td>\n",
       "      <td>1</td>\n",
       "      <td>17</td>\n",
       "      <td>0.0</td>\n",
       "    </tr>\n",
       "    <tr>\n",
       "      <th>23</th>\n",
       "      <td>4</td>\n",
       "      <td>José</td>\n",
       "      <td>Reprovado</td>\n",
       "      <td>False</td>\n",
       "      <td>1</td>\n",
       "      <td>3</td>\n",
       "      <td>0.0</td>\n",
       "    </tr>\n",
       "    <tr>\n",
       "      <th>24</th>\n",
       "      <td>0</td>\n",
       "      <td>José</td>\n",
       "      <td>Reprovado</td>\n",
       "      <td>False</td>\n",
       "      <td>1</td>\n",
       "      <td>13</td>\n",
       "      <td>0.0</td>\n",
       "    </tr>\n",
       "    <tr>\n",
       "      <th>25</th>\n",
       "      <td>9</td>\n",
       "      <td>José</td>\n",
       "      <td>Aprovado</td>\n",
       "      <td>True</td>\n",
       "      <td>1</td>\n",
       "      <td>17</td>\n",
       "      <td>19.0</td>\n",
       "    </tr>\n",
       "    <tr>\n",
       "      <th>27</th>\n",
       "      <td>8</td>\n",
       "      <td>José</td>\n",
       "      <td>Aprovado</td>\n",
       "      <td>True</td>\n",
       "      <td>1</td>\n",
       "      <td>1</td>\n",
       "      <td>5.0</td>\n",
       "    </tr>\n",
       "    <tr>\n",
       "      <th>28</th>\n",
       "      <td>0</td>\n",
       "      <td>José</td>\n",
       "      <td>Reprovado</td>\n",
       "      <td>False</td>\n",
       "      <td>1</td>\n",
       "      <td>19</td>\n",
       "      <td>10.0</td>\n",
       "    </tr>\n",
       "    <tr>\n",
       "      <th>29</th>\n",
       "      <td>10</td>\n",
       "      <td>José</td>\n",
       "      <td>Aprovado</td>\n",
       "      <td>True</td>\n",
       "      <td>1</td>\n",
       "      <td>14</td>\n",
       "      <td>15.0</td>\n",
       "    </tr>\n",
       "  </tbody>\n",
       "</table>\n",
       "</div>"
      ],
      "text/plain": [
       "    nota   nome e_aprovado  e_aprovado_bool  coluna_de_1   x     y\n",
       "0      6  Maria   Aprovado             True            1   2   2.0\n",
       "2     10  Maria   Aprovado             True            1  11   4.0\n",
       "4      4  Maria  Reprovado            False            1   1  16.0\n",
       "5      6  Maria   Aprovado             True            1   0  16.0\n",
       "6      9  Maria   Aprovado             True            1  11   1.0\n",
       "7      2  Maria  Reprovado            False            1  11   1.0\n",
       "8      6  Maria   Aprovado             True            1  16   4.0\n",
       "9     10  Maria   Aprovado             True            1   9   0.0\n",
       "10    10   João   Aprovado             True            1  15   0.0\n",
       "12     4   João  Reprovado            False            1  14   0.0\n",
       "16     2   João  Reprovado            False            1   2   5.0\n",
       "18     4   João  Reprovado            False            1  18  10.0\n",
       "19     1   João  Reprovado            False            1   6  16.0\n",
       "22     1   José  Reprovado            False            1  17   0.0\n",
       "23     4   José  Reprovado            False            1   3   0.0\n",
       "24     0   José  Reprovado            False            1  13   0.0\n",
       "25     9   José   Aprovado             True            1  17  19.0\n",
       "27     8   José   Aprovado             True            1   1   5.0\n",
       "28     0   José  Reprovado            False            1  19  10.0\n",
       "29    10   José   Aprovado             True            1  14  15.0"
      ]
     },
     "execution_count": 671,
     "metadata": {},
     "output_type": "execute_result"
    }
   ],
   "source": [
    "# Negação de notas \n",
    "df_notas[~df_notas.nota.isin([3, 5, 7])]"
   ]
  },
  {
   "cell_type": "code",
   "execution_count": 674,
   "id": "4759832e-f8aa-4303-b4ee-6bd3faea04ce",
   "metadata": {},
   "outputs": [
    {
     "data": {
      "text/html": [
       "<div>\n",
       "<style scoped>\n",
       "    .dataframe tbody tr th:only-of-type {\n",
       "        vertical-align: middle;\n",
       "    }\n",
       "\n",
       "    .dataframe tbody tr th {\n",
       "        vertical-align: top;\n",
       "    }\n",
       "\n",
       "    .dataframe thead th {\n",
       "        text-align: right;\n",
       "    }\n",
       "</style>\n",
       "<table border=\"1\" class=\"dataframe\">\n",
       "  <thead>\n",
       "    <tr style=\"text-align: right;\">\n",
       "      <th></th>\n",
       "      <th>nota</th>\n",
       "      <th>nome</th>\n",
       "      <th>e_aprovado</th>\n",
       "      <th>e_aprovado_bool</th>\n",
       "      <th>coluna_de_1</th>\n",
       "      <th>x</th>\n",
       "      <th>y</th>\n",
       "    </tr>\n",
       "  </thead>\n",
       "  <tbody>\n",
       "    <tr>\n",
       "      <th>0</th>\n",
       "      <td>6</td>\n",
       "      <td>Maria</td>\n",
       "      <td>Aprovado</td>\n",
       "      <td>True</td>\n",
       "      <td>1</td>\n",
       "      <td>2</td>\n",
       "      <td>2.0</td>\n",
       "    </tr>\n",
       "    <tr>\n",
       "      <th>1</th>\n",
       "      <td>3</td>\n",
       "      <td>Maria</td>\n",
       "      <td>Reprovado</td>\n",
       "      <td>False</td>\n",
       "      <td>1</td>\n",
       "      <td>1</td>\n",
       "      <td>16.0</td>\n",
       "    </tr>\n",
       "    <tr>\n",
       "      <th>3</th>\n",
       "      <td>7</td>\n",
       "      <td>Maria</td>\n",
       "      <td>Aprovado</td>\n",
       "      <td>True</td>\n",
       "      <td>1</td>\n",
       "      <td>5</td>\n",
       "      <td>16.0</td>\n",
       "    </tr>\n",
       "    <tr>\n",
       "      <th>4</th>\n",
       "      <td>4</td>\n",
       "      <td>Maria</td>\n",
       "      <td>Reprovado</td>\n",
       "      <td>False</td>\n",
       "      <td>1</td>\n",
       "      <td>1</td>\n",
       "      <td>16.0</td>\n",
       "    </tr>\n",
       "    <tr>\n",
       "      <th>5</th>\n",
       "      <td>6</td>\n",
       "      <td>Maria</td>\n",
       "      <td>Aprovado</td>\n",
       "      <td>True</td>\n",
       "      <td>1</td>\n",
       "      <td>0</td>\n",
       "      <td>16.0</td>\n",
       "    </tr>\n",
       "    <tr>\n",
       "      <th>8</th>\n",
       "      <td>6</td>\n",
       "      <td>Maria</td>\n",
       "      <td>Aprovado</td>\n",
       "      <td>True</td>\n",
       "      <td>1</td>\n",
       "      <td>16</td>\n",
       "      <td>4.0</td>\n",
       "    </tr>\n",
       "    <tr>\n",
       "      <th>11</th>\n",
       "      <td>7</td>\n",
       "      <td>João</td>\n",
       "      <td>Aprovado</td>\n",
       "      <td>True</td>\n",
       "      <td>1</td>\n",
       "      <td>14</td>\n",
       "      <td>0.0</td>\n",
       "    </tr>\n",
       "    <tr>\n",
       "      <th>12</th>\n",
       "      <td>4</td>\n",
       "      <td>João</td>\n",
       "      <td>Reprovado</td>\n",
       "      <td>False</td>\n",
       "      <td>1</td>\n",
       "      <td>14</td>\n",
       "      <td>0.0</td>\n",
       "    </tr>\n",
       "    <tr>\n",
       "      <th>13</th>\n",
       "      <td>3</td>\n",
       "      <td>João</td>\n",
       "      <td>Reprovado</td>\n",
       "      <td>False</td>\n",
       "      <td>1</td>\n",
       "      <td>18</td>\n",
       "      <td>18.0</td>\n",
       "    </tr>\n",
       "    <tr>\n",
       "      <th>14</th>\n",
       "      <td>7</td>\n",
       "      <td>João</td>\n",
       "      <td>Aprovado</td>\n",
       "      <td>True</td>\n",
       "      <td>1</td>\n",
       "      <td>11</td>\n",
       "      <td>1.0</td>\n",
       "    </tr>\n",
       "    <tr>\n",
       "      <th>15</th>\n",
       "      <td>7</td>\n",
       "      <td>João</td>\n",
       "      <td>Aprovado</td>\n",
       "      <td>True</td>\n",
       "      <td>1</td>\n",
       "      <td>19</td>\n",
       "      <td>11.0</td>\n",
       "    </tr>\n",
       "    <tr>\n",
       "      <th>17</th>\n",
       "      <td>5</td>\n",
       "      <td>João</td>\n",
       "      <td>Reprovado</td>\n",
       "      <td>False</td>\n",
       "      <td>1</td>\n",
       "      <td>4</td>\n",
       "      <td>3.0</td>\n",
       "    </tr>\n",
       "    <tr>\n",
       "      <th>18</th>\n",
       "      <td>4</td>\n",
       "      <td>João</td>\n",
       "      <td>Reprovado</td>\n",
       "      <td>False</td>\n",
       "      <td>1</td>\n",
       "      <td>18</td>\n",
       "      <td>10.0</td>\n",
       "    </tr>\n",
       "    <tr>\n",
       "      <th>20</th>\n",
       "      <td>7</td>\n",
       "      <td>José</td>\n",
       "      <td>Aprovado</td>\n",
       "      <td>True</td>\n",
       "      <td>1</td>\n",
       "      <td>8</td>\n",
       "      <td>5.0</td>\n",
       "    </tr>\n",
       "    <tr>\n",
       "      <th>21</th>\n",
       "      <td>5</td>\n",
       "      <td>José</td>\n",
       "      <td>Reprovado</td>\n",
       "      <td>False</td>\n",
       "      <td>1</td>\n",
       "      <td>6</td>\n",
       "      <td>4.0</td>\n",
       "    </tr>\n",
       "    <tr>\n",
       "      <th>23</th>\n",
       "      <td>4</td>\n",
       "      <td>José</td>\n",
       "      <td>Reprovado</td>\n",
       "      <td>False</td>\n",
       "      <td>1</td>\n",
       "      <td>3</td>\n",
       "      <td>0.0</td>\n",
       "    </tr>\n",
       "    <tr>\n",
       "      <th>26</th>\n",
       "      <td>5</td>\n",
       "      <td>José</td>\n",
       "      <td>Reprovado</td>\n",
       "      <td>False</td>\n",
       "      <td>1</td>\n",
       "      <td>8</td>\n",
       "      <td>1.0</td>\n",
       "    </tr>\n",
       "  </tbody>\n",
       "</table>\n",
       "</div>"
      ],
      "text/plain": [
       "    nota   nome e_aprovado  e_aprovado_bool  coluna_de_1   x     y\n",
       "0      6  Maria   Aprovado             True            1   2   2.0\n",
       "1      3  Maria  Reprovado            False            1   1  16.0\n",
       "3      7  Maria   Aprovado             True            1   5  16.0\n",
       "4      4  Maria  Reprovado            False            1   1  16.0\n",
       "5      6  Maria   Aprovado             True            1   0  16.0\n",
       "8      6  Maria   Aprovado             True            1  16   4.0\n",
       "11     7   João   Aprovado             True            1  14   0.0\n",
       "12     4   João  Reprovado            False            1  14   0.0\n",
       "13     3   João  Reprovado            False            1  18  18.0\n",
       "14     7   João   Aprovado             True            1  11   1.0\n",
       "15     7   João   Aprovado             True            1  19  11.0\n",
       "17     5   João  Reprovado            False            1   4   3.0\n",
       "18     4   João  Reprovado            False            1  18  10.0\n",
       "20     7   José   Aprovado             True            1   8   5.0\n",
       "21     5   José  Reprovado            False            1   6   4.0\n",
       "23     4   José  Reprovado            False            1   3   0.0\n",
       "26     5   José  Reprovado            False            1   8   1.0"
      ]
     },
     "execution_count": 674,
     "metadata": {},
     "output_type": "execute_result"
    }
   ],
   "source": [
    "df_notas[df_notas.nota.between(3, 7)]"
   ]
  },
  {
   "cell_type": "code",
   "execution_count": 677,
   "id": "afb0567a-9e16-4f2a-b35c-b3fec2090190",
   "metadata": {},
   "outputs": [],
   "source": [
    "# Setando o indice a partir de uma coluna\n",
    "df_notas_nome = df_notas.set_index('nome')"
   ]
  },
  {
   "cell_type": "code",
   "execution_count": 678,
   "id": "f46f5c91-ab65-42a0-ac09-a8ee4b3b12dd",
   "metadata": {
    "scrolled": true,
    "tags": []
   },
   "outputs": [
    {
     "data": {
      "text/html": [
       "<div>\n",
       "<style scoped>\n",
       "    .dataframe tbody tr th:only-of-type {\n",
       "        vertical-align: middle;\n",
       "    }\n",
       "\n",
       "    .dataframe tbody tr th {\n",
       "        vertical-align: top;\n",
       "    }\n",
       "\n",
       "    .dataframe thead th {\n",
       "        text-align: right;\n",
       "    }\n",
       "</style>\n",
       "<table border=\"1\" class=\"dataframe\">\n",
       "  <thead>\n",
       "    <tr style=\"text-align: right;\">\n",
       "      <th></th>\n",
       "      <th>nota</th>\n",
       "      <th>e_aprovado</th>\n",
       "      <th>e_aprovado_bool</th>\n",
       "      <th>coluna_de_1</th>\n",
       "      <th>x</th>\n",
       "      <th>y</th>\n",
       "    </tr>\n",
       "    <tr>\n",
       "      <th>nome</th>\n",
       "      <th></th>\n",
       "      <th></th>\n",
       "      <th></th>\n",
       "      <th></th>\n",
       "      <th></th>\n",
       "      <th></th>\n",
       "    </tr>\n",
       "  </thead>\n",
       "  <tbody>\n",
       "    <tr>\n",
       "      <th>Maria</th>\n",
       "      <td>6</td>\n",
       "      <td>Aprovado</td>\n",
       "      <td>True</td>\n",
       "      <td>1</td>\n",
       "      <td>2</td>\n",
       "      <td>2.0</td>\n",
       "    </tr>\n",
       "    <tr>\n",
       "      <th>Maria</th>\n",
       "      <td>3</td>\n",
       "      <td>Reprovado</td>\n",
       "      <td>False</td>\n",
       "      <td>1</td>\n",
       "      <td>1</td>\n",
       "      <td>16.0</td>\n",
       "    </tr>\n",
       "    <tr>\n",
       "      <th>Maria</th>\n",
       "      <td>10</td>\n",
       "      <td>Aprovado</td>\n",
       "      <td>True</td>\n",
       "      <td>1</td>\n",
       "      <td>11</td>\n",
       "      <td>4.0</td>\n",
       "    </tr>\n",
       "    <tr>\n",
       "      <th>Maria</th>\n",
       "      <td>7</td>\n",
       "      <td>Aprovado</td>\n",
       "      <td>True</td>\n",
       "      <td>1</td>\n",
       "      <td>5</td>\n",
       "      <td>16.0</td>\n",
       "    </tr>\n",
       "    <tr>\n",
       "      <th>Maria</th>\n",
       "      <td>4</td>\n",
       "      <td>Reprovado</td>\n",
       "      <td>False</td>\n",
       "      <td>1</td>\n",
       "      <td>1</td>\n",
       "      <td>16.0</td>\n",
       "    </tr>\n",
       "    <tr>\n",
       "      <th>Maria</th>\n",
       "      <td>6</td>\n",
       "      <td>Aprovado</td>\n",
       "      <td>True</td>\n",
       "      <td>1</td>\n",
       "      <td>0</td>\n",
       "      <td>16.0</td>\n",
       "    </tr>\n",
       "    <tr>\n",
       "      <th>Maria</th>\n",
       "      <td>9</td>\n",
       "      <td>Aprovado</td>\n",
       "      <td>True</td>\n",
       "      <td>1</td>\n",
       "      <td>11</td>\n",
       "      <td>1.0</td>\n",
       "    </tr>\n",
       "    <tr>\n",
       "      <th>Maria</th>\n",
       "      <td>2</td>\n",
       "      <td>Reprovado</td>\n",
       "      <td>False</td>\n",
       "      <td>1</td>\n",
       "      <td>11</td>\n",
       "      <td>1.0</td>\n",
       "    </tr>\n",
       "    <tr>\n",
       "      <th>Maria</th>\n",
       "      <td>6</td>\n",
       "      <td>Aprovado</td>\n",
       "      <td>True</td>\n",
       "      <td>1</td>\n",
       "      <td>16</td>\n",
       "      <td>4.0</td>\n",
       "    </tr>\n",
       "    <tr>\n",
       "      <th>Maria</th>\n",
       "      <td>10</td>\n",
       "      <td>Aprovado</td>\n",
       "      <td>True</td>\n",
       "      <td>1</td>\n",
       "      <td>9</td>\n",
       "      <td>0.0</td>\n",
       "    </tr>\n",
       "    <tr>\n",
       "      <th>João</th>\n",
       "      <td>10</td>\n",
       "      <td>Aprovado</td>\n",
       "      <td>True</td>\n",
       "      <td>1</td>\n",
       "      <td>15</td>\n",
       "      <td>0.0</td>\n",
       "    </tr>\n",
       "    <tr>\n",
       "      <th>João</th>\n",
       "      <td>7</td>\n",
       "      <td>Aprovado</td>\n",
       "      <td>True</td>\n",
       "      <td>1</td>\n",
       "      <td>14</td>\n",
       "      <td>0.0</td>\n",
       "    </tr>\n",
       "    <tr>\n",
       "      <th>João</th>\n",
       "      <td>4</td>\n",
       "      <td>Reprovado</td>\n",
       "      <td>False</td>\n",
       "      <td>1</td>\n",
       "      <td>14</td>\n",
       "      <td>0.0</td>\n",
       "    </tr>\n",
       "    <tr>\n",
       "      <th>João</th>\n",
       "      <td>3</td>\n",
       "      <td>Reprovado</td>\n",
       "      <td>False</td>\n",
       "      <td>1</td>\n",
       "      <td>18</td>\n",
       "      <td>18.0</td>\n",
       "    </tr>\n",
       "    <tr>\n",
       "      <th>João</th>\n",
       "      <td>7</td>\n",
       "      <td>Aprovado</td>\n",
       "      <td>True</td>\n",
       "      <td>1</td>\n",
       "      <td>11</td>\n",
       "      <td>1.0</td>\n",
       "    </tr>\n",
       "    <tr>\n",
       "      <th>João</th>\n",
       "      <td>7</td>\n",
       "      <td>Aprovado</td>\n",
       "      <td>True</td>\n",
       "      <td>1</td>\n",
       "      <td>19</td>\n",
       "      <td>11.0</td>\n",
       "    </tr>\n",
       "    <tr>\n",
       "      <th>João</th>\n",
       "      <td>2</td>\n",
       "      <td>Reprovado</td>\n",
       "      <td>False</td>\n",
       "      <td>1</td>\n",
       "      <td>2</td>\n",
       "      <td>5.0</td>\n",
       "    </tr>\n",
       "    <tr>\n",
       "      <th>João</th>\n",
       "      <td>5</td>\n",
       "      <td>Reprovado</td>\n",
       "      <td>False</td>\n",
       "      <td>1</td>\n",
       "      <td>4</td>\n",
       "      <td>3.0</td>\n",
       "    </tr>\n",
       "    <tr>\n",
       "      <th>João</th>\n",
       "      <td>4</td>\n",
       "      <td>Reprovado</td>\n",
       "      <td>False</td>\n",
       "      <td>1</td>\n",
       "      <td>18</td>\n",
       "      <td>10.0</td>\n",
       "    </tr>\n",
       "    <tr>\n",
       "      <th>João</th>\n",
       "      <td>1</td>\n",
       "      <td>Reprovado</td>\n",
       "      <td>False</td>\n",
       "      <td>1</td>\n",
       "      <td>6</td>\n",
       "      <td>16.0</td>\n",
       "    </tr>\n",
       "    <tr>\n",
       "      <th>José</th>\n",
       "      <td>7</td>\n",
       "      <td>Aprovado</td>\n",
       "      <td>True</td>\n",
       "      <td>1</td>\n",
       "      <td>8</td>\n",
       "      <td>5.0</td>\n",
       "    </tr>\n",
       "    <tr>\n",
       "      <th>José</th>\n",
       "      <td>5</td>\n",
       "      <td>Reprovado</td>\n",
       "      <td>False</td>\n",
       "      <td>1</td>\n",
       "      <td>6</td>\n",
       "      <td>4.0</td>\n",
       "    </tr>\n",
       "    <tr>\n",
       "      <th>José</th>\n",
       "      <td>1</td>\n",
       "      <td>Reprovado</td>\n",
       "      <td>False</td>\n",
       "      <td>1</td>\n",
       "      <td>17</td>\n",
       "      <td>0.0</td>\n",
       "    </tr>\n",
       "    <tr>\n",
       "      <th>José</th>\n",
       "      <td>4</td>\n",
       "      <td>Reprovado</td>\n",
       "      <td>False</td>\n",
       "      <td>1</td>\n",
       "      <td>3</td>\n",
       "      <td>0.0</td>\n",
       "    </tr>\n",
       "    <tr>\n",
       "      <th>José</th>\n",
       "      <td>0</td>\n",
       "      <td>Reprovado</td>\n",
       "      <td>False</td>\n",
       "      <td>1</td>\n",
       "      <td>13</td>\n",
       "      <td>0.0</td>\n",
       "    </tr>\n",
       "    <tr>\n",
       "      <th>José</th>\n",
       "      <td>9</td>\n",
       "      <td>Aprovado</td>\n",
       "      <td>True</td>\n",
       "      <td>1</td>\n",
       "      <td>17</td>\n",
       "      <td>19.0</td>\n",
       "    </tr>\n",
       "    <tr>\n",
       "      <th>José</th>\n",
       "      <td>5</td>\n",
       "      <td>Reprovado</td>\n",
       "      <td>False</td>\n",
       "      <td>1</td>\n",
       "      <td>8</td>\n",
       "      <td>1.0</td>\n",
       "    </tr>\n",
       "    <tr>\n",
       "      <th>José</th>\n",
       "      <td>8</td>\n",
       "      <td>Aprovado</td>\n",
       "      <td>True</td>\n",
       "      <td>1</td>\n",
       "      <td>1</td>\n",
       "      <td>5.0</td>\n",
       "    </tr>\n",
       "    <tr>\n",
       "      <th>José</th>\n",
       "      <td>0</td>\n",
       "      <td>Reprovado</td>\n",
       "      <td>False</td>\n",
       "      <td>1</td>\n",
       "      <td>19</td>\n",
       "      <td>10.0</td>\n",
       "    </tr>\n",
       "    <tr>\n",
       "      <th>José</th>\n",
       "      <td>10</td>\n",
       "      <td>Aprovado</td>\n",
       "      <td>True</td>\n",
       "      <td>1</td>\n",
       "      <td>14</td>\n",
       "      <td>15.0</td>\n",
       "    </tr>\n",
       "  </tbody>\n",
       "</table>\n",
       "</div>"
      ],
      "text/plain": [
       "       nota e_aprovado  e_aprovado_bool  coluna_de_1   x     y\n",
       "nome                                                          \n",
       "Maria     6   Aprovado             True            1   2   2.0\n",
       "Maria     3  Reprovado            False            1   1  16.0\n",
       "Maria    10   Aprovado             True            1  11   4.0\n",
       "Maria     7   Aprovado             True            1   5  16.0\n",
       "Maria     4  Reprovado            False            1   1  16.0\n",
       "Maria     6   Aprovado             True            1   0  16.0\n",
       "Maria     9   Aprovado             True            1  11   1.0\n",
       "Maria     2  Reprovado            False            1  11   1.0\n",
       "Maria     6   Aprovado             True            1  16   4.0\n",
       "Maria    10   Aprovado             True            1   9   0.0\n",
       "João     10   Aprovado             True            1  15   0.0\n",
       "João      7   Aprovado             True            1  14   0.0\n",
       "João      4  Reprovado            False            1  14   0.0\n",
       "João      3  Reprovado            False            1  18  18.0\n",
       "João      7   Aprovado             True            1  11   1.0\n",
       "João      7   Aprovado             True            1  19  11.0\n",
       "João      2  Reprovado            False            1   2   5.0\n",
       "João      5  Reprovado            False            1   4   3.0\n",
       "João      4  Reprovado            False            1  18  10.0\n",
       "João      1  Reprovado            False            1   6  16.0\n",
       "José      7   Aprovado             True            1   8   5.0\n",
       "José      5  Reprovado            False            1   6   4.0\n",
       "José      1  Reprovado            False            1  17   0.0\n",
       "José      4  Reprovado            False            1   3   0.0\n",
       "José      0  Reprovado            False            1  13   0.0\n",
       "José      9   Aprovado             True            1  17  19.0\n",
       "José      5  Reprovado            False            1   8   1.0\n",
       "José      8   Aprovado             True            1   1   5.0\n",
       "José      0  Reprovado            False            1  19  10.0\n",
       "José     10   Aprovado             True            1  14  15.0"
      ]
     },
     "execution_count": 678,
     "metadata": {},
     "output_type": "execute_result"
    }
   ],
   "source": [
    "df_notas_nome"
   ]
  },
  {
   "cell_type": "code",
   "execution_count": 679,
   "id": "89ac0057-74eb-466e-bfc9-bd778dbb4481",
   "metadata": {},
   "outputs": [
    {
     "data": {
      "text/html": [
       "<div>\n",
       "<style scoped>\n",
       "    .dataframe tbody tr th:only-of-type {\n",
       "        vertical-align: middle;\n",
       "    }\n",
       "\n",
       "    .dataframe tbody tr th {\n",
       "        vertical-align: top;\n",
       "    }\n",
       "\n",
       "    .dataframe thead th {\n",
       "        text-align: right;\n",
       "    }\n",
       "</style>\n",
       "<table border=\"1\" class=\"dataframe\">\n",
       "  <thead>\n",
       "    <tr style=\"text-align: right;\">\n",
       "      <th></th>\n",
       "      <th>nota</th>\n",
       "      <th>e_aprovado</th>\n",
       "      <th>e_aprovado_bool</th>\n",
       "      <th>coluna_de_1</th>\n",
       "      <th>x</th>\n",
       "      <th>y</th>\n",
       "    </tr>\n",
       "    <tr>\n",
       "      <th>nome</th>\n",
       "      <th></th>\n",
       "      <th></th>\n",
       "      <th></th>\n",
       "      <th></th>\n",
       "      <th></th>\n",
       "      <th></th>\n",
       "    </tr>\n",
       "  </thead>\n",
       "  <tbody>\n",
       "    <tr>\n",
       "      <th>João</th>\n",
       "      <td>10</td>\n",
       "      <td>Aprovado</td>\n",
       "      <td>True</td>\n",
       "      <td>1</td>\n",
       "      <td>15</td>\n",
       "      <td>0.0</td>\n",
       "    </tr>\n",
       "    <tr>\n",
       "      <th>João</th>\n",
       "      <td>7</td>\n",
       "      <td>Aprovado</td>\n",
       "      <td>True</td>\n",
       "      <td>1</td>\n",
       "      <td>14</td>\n",
       "      <td>0.0</td>\n",
       "    </tr>\n",
       "    <tr>\n",
       "      <th>João</th>\n",
       "      <td>4</td>\n",
       "      <td>Reprovado</td>\n",
       "      <td>False</td>\n",
       "      <td>1</td>\n",
       "      <td>14</td>\n",
       "      <td>0.0</td>\n",
       "    </tr>\n",
       "    <tr>\n",
       "      <th>João</th>\n",
       "      <td>3</td>\n",
       "      <td>Reprovado</td>\n",
       "      <td>False</td>\n",
       "      <td>1</td>\n",
       "      <td>18</td>\n",
       "      <td>18.0</td>\n",
       "    </tr>\n",
       "    <tr>\n",
       "      <th>João</th>\n",
       "      <td>7</td>\n",
       "      <td>Aprovado</td>\n",
       "      <td>True</td>\n",
       "      <td>1</td>\n",
       "      <td>11</td>\n",
       "      <td>1.0</td>\n",
       "    </tr>\n",
       "    <tr>\n",
       "      <th>João</th>\n",
       "      <td>7</td>\n",
       "      <td>Aprovado</td>\n",
       "      <td>True</td>\n",
       "      <td>1</td>\n",
       "      <td>19</td>\n",
       "      <td>11.0</td>\n",
       "    </tr>\n",
       "    <tr>\n",
       "      <th>João</th>\n",
       "      <td>2</td>\n",
       "      <td>Reprovado</td>\n",
       "      <td>False</td>\n",
       "      <td>1</td>\n",
       "      <td>2</td>\n",
       "      <td>5.0</td>\n",
       "    </tr>\n",
       "    <tr>\n",
       "      <th>João</th>\n",
       "      <td>5</td>\n",
       "      <td>Reprovado</td>\n",
       "      <td>False</td>\n",
       "      <td>1</td>\n",
       "      <td>4</td>\n",
       "      <td>3.0</td>\n",
       "    </tr>\n",
       "    <tr>\n",
       "      <th>João</th>\n",
       "      <td>4</td>\n",
       "      <td>Reprovado</td>\n",
       "      <td>False</td>\n",
       "      <td>1</td>\n",
       "      <td>18</td>\n",
       "      <td>10.0</td>\n",
       "    </tr>\n",
       "    <tr>\n",
       "      <th>João</th>\n",
       "      <td>1</td>\n",
       "      <td>Reprovado</td>\n",
       "      <td>False</td>\n",
       "      <td>1</td>\n",
       "      <td>6</td>\n",
       "      <td>16.0</td>\n",
       "    </tr>\n",
       "  </tbody>\n",
       "</table>\n",
       "</div>"
      ],
      "text/plain": [
       "      nota e_aprovado  e_aprovado_bool  coluna_de_1   x     y\n",
       "nome                                                         \n",
       "João    10   Aprovado             True            1  15   0.0\n",
       "João     7   Aprovado             True            1  14   0.0\n",
       "João     4  Reprovado            False            1  14   0.0\n",
       "João     3  Reprovado            False            1  18  18.0\n",
       "João     7   Aprovado             True            1  11   1.0\n",
       "João     7   Aprovado             True            1  19  11.0\n",
       "João     2  Reprovado            False            1   2   5.0\n",
       "João     5  Reprovado            False            1   4   3.0\n",
       "João     4  Reprovado            False            1  18  10.0\n",
       "João     1  Reprovado            False            1   6  16.0"
      ]
     },
     "execution_count": 679,
     "metadata": {},
     "output_type": "execute_result"
    }
   ],
   "source": [
    "df_notas_nome.loc['João']"
   ]
  },
  {
   "cell_type": "code",
   "execution_count": 682,
   "id": "6c0ad601-a063-423d-9ef9-5672f3969f0b",
   "metadata": {},
   "outputs": [],
   "source": [
    "df_notas_nome_resetado = df_notas_nome.reset_index()"
   ]
  },
  {
   "cell_type": "markdown",
   "id": "94ec6898-6fa2-445b-aaa9-aef4c481a7fe",
   "metadata": {},
   "source": [
    "Se você quiser fazer com que os indices de linha voltem a ser numéricos, faça:"
   ]
  },
  {
   "cell_type": "code",
   "execution_count": 683,
   "id": "e9bbcb66-6fa1-435c-98c6-d579d0c673d1",
   "metadata": {},
   "outputs": [
    {
     "data": {
      "text/html": [
       "<div>\n",
       "<style scoped>\n",
       "    .dataframe tbody tr th:only-of-type {\n",
       "        vertical-align: middle;\n",
       "    }\n",
       "\n",
       "    .dataframe tbody tr th {\n",
       "        vertical-align: top;\n",
       "    }\n",
       "\n",
       "    .dataframe thead th {\n",
       "        text-align: right;\n",
       "    }\n",
       "</style>\n",
       "<table border=\"1\" class=\"dataframe\">\n",
       "  <thead>\n",
       "    <tr style=\"text-align: right;\">\n",
       "      <th></th>\n",
       "      <th>nome</th>\n",
       "      <th>nota</th>\n",
       "      <th>e_aprovado</th>\n",
       "      <th>e_aprovado_bool</th>\n",
       "      <th>coluna_de_1</th>\n",
       "      <th>x</th>\n",
       "      <th>y</th>\n",
       "    </tr>\n",
       "  </thead>\n",
       "  <tbody>\n",
       "    <tr>\n",
       "      <th>0</th>\n",
       "      <td>Maria</td>\n",
       "      <td>6</td>\n",
       "      <td>Aprovado</td>\n",
       "      <td>True</td>\n",
       "      <td>1</td>\n",
       "      <td>2</td>\n",
       "      <td>2.0</td>\n",
       "    </tr>\n",
       "    <tr>\n",
       "      <th>1</th>\n",
       "      <td>Maria</td>\n",
       "      <td>3</td>\n",
       "      <td>Reprovado</td>\n",
       "      <td>False</td>\n",
       "      <td>1</td>\n",
       "      <td>1</td>\n",
       "      <td>16.0</td>\n",
       "    </tr>\n",
       "    <tr>\n",
       "      <th>2</th>\n",
       "      <td>Maria</td>\n",
       "      <td>10</td>\n",
       "      <td>Aprovado</td>\n",
       "      <td>True</td>\n",
       "      <td>1</td>\n",
       "      <td>11</td>\n",
       "      <td>4.0</td>\n",
       "    </tr>\n",
       "    <tr>\n",
       "      <th>3</th>\n",
       "      <td>Maria</td>\n",
       "      <td>7</td>\n",
       "      <td>Aprovado</td>\n",
       "      <td>True</td>\n",
       "      <td>1</td>\n",
       "      <td>5</td>\n",
       "      <td>16.0</td>\n",
       "    </tr>\n",
       "    <tr>\n",
       "      <th>4</th>\n",
       "      <td>Maria</td>\n",
       "      <td>4</td>\n",
       "      <td>Reprovado</td>\n",
       "      <td>False</td>\n",
       "      <td>1</td>\n",
       "      <td>1</td>\n",
       "      <td>16.0</td>\n",
       "    </tr>\n",
       "    <tr>\n",
       "      <th>5</th>\n",
       "      <td>Maria</td>\n",
       "      <td>6</td>\n",
       "      <td>Aprovado</td>\n",
       "      <td>True</td>\n",
       "      <td>1</td>\n",
       "      <td>0</td>\n",
       "      <td>16.0</td>\n",
       "    </tr>\n",
       "    <tr>\n",
       "      <th>6</th>\n",
       "      <td>Maria</td>\n",
       "      <td>9</td>\n",
       "      <td>Aprovado</td>\n",
       "      <td>True</td>\n",
       "      <td>1</td>\n",
       "      <td>11</td>\n",
       "      <td>1.0</td>\n",
       "    </tr>\n",
       "    <tr>\n",
       "      <th>7</th>\n",
       "      <td>Maria</td>\n",
       "      <td>2</td>\n",
       "      <td>Reprovado</td>\n",
       "      <td>False</td>\n",
       "      <td>1</td>\n",
       "      <td>11</td>\n",
       "      <td>1.0</td>\n",
       "    </tr>\n",
       "    <tr>\n",
       "      <th>8</th>\n",
       "      <td>Maria</td>\n",
       "      <td>6</td>\n",
       "      <td>Aprovado</td>\n",
       "      <td>True</td>\n",
       "      <td>1</td>\n",
       "      <td>16</td>\n",
       "      <td>4.0</td>\n",
       "    </tr>\n",
       "    <tr>\n",
       "      <th>9</th>\n",
       "      <td>Maria</td>\n",
       "      <td>10</td>\n",
       "      <td>Aprovado</td>\n",
       "      <td>True</td>\n",
       "      <td>1</td>\n",
       "      <td>9</td>\n",
       "      <td>0.0</td>\n",
       "    </tr>\n",
       "    <tr>\n",
       "      <th>10</th>\n",
       "      <td>João</td>\n",
       "      <td>10</td>\n",
       "      <td>Aprovado</td>\n",
       "      <td>True</td>\n",
       "      <td>1</td>\n",
       "      <td>15</td>\n",
       "      <td>0.0</td>\n",
       "    </tr>\n",
       "    <tr>\n",
       "      <th>11</th>\n",
       "      <td>João</td>\n",
       "      <td>7</td>\n",
       "      <td>Aprovado</td>\n",
       "      <td>True</td>\n",
       "      <td>1</td>\n",
       "      <td>14</td>\n",
       "      <td>0.0</td>\n",
       "    </tr>\n",
       "    <tr>\n",
       "      <th>12</th>\n",
       "      <td>João</td>\n",
       "      <td>4</td>\n",
       "      <td>Reprovado</td>\n",
       "      <td>False</td>\n",
       "      <td>1</td>\n",
       "      <td>14</td>\n",
       "      <td>0.0</td>\n",
       "    </tr>\n",
       "    <tr>\n",
       "      <th>13</th>\n",
       "      <td>João</td>\n",
       "      <td>3</td>\n",
       "      <td>Reprovado</td>\n",
       "      <td>False</td>\n",
       "      <td>1</td>\n",
       "      <td>18</td>\n",
       "      <td>18.0</td>\n",
       "    </tr>\n",
       "    <tr>\n",
       "      <th>14</th>\n",
       "      <td>João</td>\n",
       "      <td>7</td>\n",
       "      <td>Aprovado</td>\n",
       "      <td>True</td>\n",
       "      <td>1</td>\n",
       "      <td>11</td>\n",
       "      <td>1.0</td>\n",
       "    </tr>\n",
       "    <tr>\n",
       "      <th>15</th>\n",
       "      <td>João</td>\n",
       "      <td>7</td>\n",
       "      <td>Aprovado</td>\n",
       "      <td>True</td>\n",
       "      <td>1</td>\n",
       "      <td>19</td>\n",
       "      <td>11.0</td>\n",
       "    </tr>\n",
       "    <tr>\n",
       "      <th>16</th>\n",
       "      <td>João</td>\n",
       "      <td>2</td>\n",
       "      <td>Reprovado</td>\n",
       "      <td>False</td>\n",
       "      <td>1</td>\n",
       "      <td>2</td>\n",
       "      <td>5.0</td>\n",
       "    </tr>\n",
       "    <tr>\n",
       "      <th>17</th>\n",
       "      <td>João</td>\n",
       "      <td>5</td>\n",
       "      <td>Reprovado</td>\n",
       "      <td>False</td>\n",
       "      <td>1</td>\n",
       "      <td>4</td>\n",
       "      <td>3.0</td>\n",
       "    </tr>\n",
       "    <tr>\n",
       "      <th>18</th>\n",
       "      <td>João</td>\n",
       "      <td>4</td>\n",
       "      <td>Reprovado</td>\n",
       "      <td>False</td>\n",
       "      <td>1</td>\n",
       "      <td>18</td>\n",
       "      <td>10.0</td>\n",
       "    </tr>\n",
       "    <tr>\n",
       "      <th>19</th>\n",
       "      <td>João</td>\n",
       "      <td>1</td>\n",
       "      <td>Reprovado</td>\n",
       "      <td>False</td>\n",
       "      <td>1</td>\n",
       "      <td>6</td>\n",
       "      <td>16.0</td>\n",
       "    </tr>\n",
       "    <tr>\n",
       "      <th>20</th>\n",
       "      <td>José</td>\n",
       "      <td>7</td>\n",
       "      <td>Aprovado</td>\n",
       "      <td>True</td>\n",
       "      <td>1</td>\n",
       "      <td>8</td>\n",
       "      <td>5.0</td>\n",
       "    </tr>\n",
       "    <tr>\n",
       "      <th>21</th>\n",
       "      <td>José</td>\n",
       "      <td>5</td>\n",
       "      <td>Reprovado</td>\n",
       "      <td>False</td>\n",
       "      <td>1</td>\n",
       "      <td>6</td>\n",
       "      <td>4.0</td>\n",
       "    </tr>\n",
       "    <tr>\n",
       "      <th>22</th>\n",
       "      <td>José</td>\n",
       "      <td>1</td>\n",
       "      <td>Reprovado</td>\n",
       "      <td>False</td>\n",
       "      <td>1</td>\n",
       "      <td>17</td>\n",
       "      <td>0.0</td>\n",
       "    </tr>\n",
       "    <tr>\n",
       "      <th>23</th>\n",
       "      <td>José</td>\n",
       "      <td>4</td>\n",
       "      <td>Reprovado</td>\n",
       "      <td>False</td>\n",
       "      <td>1</td>\n",
       "      <td>3</td>\n",
       "      <td>0.0</td>\n",
       "    </tr>\n",
       "    <tr>\n",
       "      <th>24</th>\n",
       "      <td>José</td>\n",
       "      <td>0</td>\n",
       "      <td>Reprovado</td>\n",
       "      <td>False</td>\n",
       "      <td>1</td>\n",
       "      <td>13</td>\n",
       "      <td>0.0</td>\n",
       "    </tr>\n",
       "    <tr>\n",
       "      <th>25</th>\n",
       "      <td>José</td>\n",
       "      <td>9</td>\n",
       "      <td>Aprovado</td>\n",
       "      <td>True</td>\n",
       "      <td>1</td>\n",
       "      <td>17</td>\n",
       "      <td>19.0</td>\n",
       "    </tr>\n",
       "    <tr>\n",
       "      <th>26</th>\n",
       "      <td>José</td>\n",
       "      <td>5</td>\n",
       "      <td>Reprovado</td>\n",
       "      <td>False</td>\n",
       "      <td>1</td>\n",
       "      <td>8</td>\n",
       "      <td>1.0</td>\n",
       "    </tr>\n",
       "    <tr>\n",
       "      <th>27</th>\n",
       "      <td>José</td>\n",
       "      <td>8</td>\n",
       "      <td>Aprovado</td>\n",
       "      <td>True</td>\n",
       "      <td>1</td>\n",
       "      <td>1</td>\n",
       "      <td>5.0</td>\n",
       "    </tr>\n",
       "    <tr>\n",
       "      <th>28</th>\n",
       "      <td>José</td>\n",
       "      <td>0</td>\n",
       "      <td>Reprovado</td>\n",
       "      <td>False</td>\n",
       "      <td>1</td>\n",
       "      <td>19</td>\n",
       "      <td>10.0</td>\n",
       "    </tr>\n",
       "    <tr>\n",
       "      <th>29</th>\n",
       "      <td>José</td>\n",
       "      <td>10</td>\n",
       "      <td>Aprovado</td>\n",
       "      <td>True</td>\n",
       "      <td>1</td>\n",
       "      <td>14</td>\n",
       "      <td>15.0</td>\n",
       "    </tr>\n",
       "  </tbody>\n",
       "</table>\n",
       "</div>"
      ],
      "text/plain": [
       "     nome  nota e_aprovado  e_aprovado_bool  coluna_de_1   x     y\n",
       "0   Maria     6   Aprovado             True            1   2   2.0\n",
       "1   Maria     3  Reprovado            False            1   1  16.0\n",
       "2   Maria    10   Aprovado             True            1  11   4.0\n",
       "3   Maria     7   Aprovado             True            1   5  16.0\n",
       "4   Maria     4  Reprovado            False            1   1  16.0\n",
       "5   Maria     6   Aprovado             True            1   0  16.0\n",
       "6   Maria     9   Aprovado             True            1  11   1.0\n",
       "7   Maria     2  Reprovado            False            1  11   1.0\n",
       "8   Maria     6   Aprovado             True            1  16   4.0\n",
       "9   Maria    10   Aprovado             True            1   9   0.0\n",
       "10   João    10   Aprovado             True            1  15   0.0\n",
       "11   João     7   Aprovado             True            1  14   0.0\n",
       "12   João     4  Reprovado            False            1  14   0.0\n",
       "13   João     3  Reprovado            False            1  18  18.0\n",
       "14   João     7   Aprovado             True            1  11   1.0\n",
       "15   João     7   Aprovado             True            1  19  11.0\n",
       "16   João     2  Reprovado            False            1   2   5.0\n",
       "17   João     5  Reprovado            False            1   4   3.0\n",
       "18   João     4  Reprovado            False            1  18  10.0\n",
       "19   João     1  Reprovado            False            1   6  16.0\n",
       "20   José     7   Aprovado             True            1   8   5.0\n",
       "21   José     5  Reprovado            False            1   6   4.0\n",
       "22   José     1  Reprovado            False            1  17   0.0\n",
       "23   José     4  Reprovado            False            1   3   0.0\n",
       "24   José     0  Reprovado            False            1  13   0.0\n",
       "25   José     9   Aprovado             True            1  17  19.0\n",
       "26   José     5  Reprovado            False            1   8   1.0\n",
       "27   José     8   Aprovado             True            1   1   5.0\n",
       "28   José     0  Reprovado            False            1  19  10.0\n",
       "29   José    10   Aprovado             True            1  14  15.0"
      ]
     },
     "execution_count": 683,
     "metadata": {},
     "output_type": "execute_result"
    }
   ],
   "source": [
    "df_notas_nome_resetado"
   ]
  },
  {
   "cell_type": "code",
   "execution_count": 690,
   "id": "b8bfaecf-fb7a-4715-84dc-f10629f38e5f",
   "metadata": {
    "scrolled": true,
    "tags": []
   },
   "outputs": [
    {
     "data": {
      "text/html": [
       "<div>\n",
       "<style scoped>\n",
       "    .dataframe tbody tr th:only-of-type {\n",
       "        vertical-align: middle;\n",
       "    }\n",
       "\n",
       "    .dataframe tbody tr th {\n",
       "        vertical-align: top;\n",
       "    }\n",
       "\n",
       "    .dataframe thead th {\n",
       "        text-align: right;\n",
       "    }\n",
       "</style>\n",
       "<table border=\"1\" class=\"dataframe\">\n",
       "  <thead>\n",
       "    <tr style=\"text-align: right;\">\n",
       "      <th></th>\n",
       "      <th>index</th>\n",
       "      <th>nome</th>\n",
       "      <th>nota</th>\n",
       "      <th>e_aprovado</th>\n",
       "      <th>e_aprovado_bool</th>\n",
       "      <th>coluna_de_1</th>\n",
       "      <th>x</th>\n",
       "      <th>y</th>\n",
       "    </tr>\n",
       "  </thead>\n",
       "  <tbody>\n",
       "    <tr>\n",
       "      <th>0</th>\n",
       "      <td>0</td>\n",
       "      <td>Maria</td>\n",
       "      <td>6</td>\n",
       "      <td>Aprovado</td>\n",
       "      <td>True</td>\n",
       "      <td>1</td>\n",
       "      <td>2</td>\n",
       "      <td>2.0</td>\n",
       "    </tr>\n",
       "    <tr>\n",
       "      <th>1</th>\n",
       "      <td>1</td>\n",
       "      <td>Maria</td>\n",
       "      <td>3</td>\n",
       "      <td>Reprovado</td>\n",
       "      <td>False</td>\n",
       "      <td>1</td>\n",
       "      <td>1</td>\n",
       "      <td>16.0</td>\n",
       "    </tr>\n",
       "    <tr>\n",
       "      <th>2</th>\n",
       "      <td>2</td>\n",
       "      <td>Maria</td>\n",
       "      <td>10</td>\n",
       "      <td>Aprovado</td>\n",
       "      <td>True</td>\n",
       "      <td>1</td>\n",
       "      <td>11</td>\n",
       "      <td>4.0</td>\n",
       "    </tr>\n",
       "    <tr>\n",
       "      <th>3</th>\n",
       "      <td>3</td>\n",
       "      <td>Maria</td>\n",
       "      <td>7</td>\n",
       "      <td>Aprovado</td>\n",
       "      <td>True</td>\n",
       "      <td>1</td>\n",
       "      <td>5</td>\n",
       "      <td>16.0</td>\n",
       "    </tr>\n",
       "    <tr>\n",
       "      <th>4</th>\n",
       "      <td>4</td>\n",
       "      <td>Maria</td>\n",
       "      <td>4</td>\n",
       "      <td>Reprovado</td>\n",
       "      <td>False</td>\n",
       "      <td>1</td>\n",
       "      <td>1</td>\n",
       "      <td>16.0</td>\n",
       "    </tr>\n",
       "    <tr>\n",
       "      <th>5</th>\n",
       "      <td>5</td>\n",
       "      <td>Maria</td>\n",
       "      <td>6</td>\n",
       "      <td>Aprovado</td>\n",
       "      <td>True</td>\n",
       "      <td>1</td>\n",
       "      <td>0</td>\n",
       "      <td>16.0</td>\n",
       "    </tr>\n",
       "    <tr>\n",
       "      <th>6</th>\n",
       "      <td>6</td>\n",
       "      <td>Maria</td>\n",
       "      <td>9</td>\n",
       "      <td>Aprovado</td>\n",
       "      <td>True</td>\n",
       "      <td>1</td>\n",
       "      <td>11</td>\n",
       "      <td>1.0</td>\n",
       "    </tr>\n",
       "    <tr>\n",
       "      <th>7</th>\n",
       "      <td>7</td>\n",
       "      <td>Maria</td>\n",
       "      <td>2</td>\n",
       "      <td>Reprovado</td>\n",
       "      <td>False</td>\n",
       "      <td>1</td>\n",
       "      <td>11</td>\n",
       "      <td>1.0</td>\n",
       "    </tr>\n",
       "    <tr>\n",
       "      <th>8</th>\n",
       "      <td>8</td>\n",
       "      <td>Maria</td>\n",
       "      <td>6</td>\n",
       "      <td>Aprovado</td>\n",
       "      <td>True</td>\n",
       "      <td>1</td>\n",
       "      <td>16</td>\n",
       "      <td>4.0</td>\n",
       "    </tr>\n",
       "    <tr>\n",
       "      <th>9</th>\n",
       "      <td>9</td>\n",
       "      <td>Maria</td>\n",
       "      <td>10</td>\n",
       "      <td>Aprovado</td>\n",
       "      <td>True</td>\n",
       "      <td>1</td>\n",
       "      <td>9</td>\n",
       "      <td>0.0</td>\n",
       "    </tr>\n",
       "    <tr>\n",
       "      <th>10</th>\n",
       "      <td>10</td>\n",
       "      <td>João</td>\n",
       "      <td>10</td>\n",
       "      <td>Aprovado</td>\n",
       "      <td>True</td>\n",
       "      <td>1</td>\n",
       "      <td>15</td>\n",
       "      <td>0.0</td>\n",
       "    </tr>\n",
       "    <tr>\n",
       "      <th>11</th>\n",
       "      <td>11</td>\n",
       "      <td>João</td>\n",
       "      <td>7</td>\n",
       "      <td>Aprovado</td>\n",
       "      <td>True</td>\n",
       "      <td>1</td>\n",
       "      <td>14</td>\n",
       "      <td>0.0</td>\n",
       "    </tr>\n",
       "    <tr>\n",
       "      <th>12</th>\n",
       "      <td>12</td>\n",
       "      <td>João</td>\n",
       "      <td>4</td>\n",
       "      <td>Reprovado</td>\n",
       "      <td>False</td>\n",
       "      <td>1</td>\n",
       "      <td>14</td>\n",
       "      <td>0.0</td>\n",
       "    </tr>\n",
       "    <tr>\n",
       "      <th>13</th>\n",
       "      <td>13</td>\n",
       "      <td>João</td>\n",
       "      <td>3</td>\n",
       "      <td>Reprovado</td>\n",
       "      <td>False</td>\n",
       "      <td>1</td>\n",
       "      <td>18</td>\n",
       "      <td>18.0</td>\n",
       "    </tr>\n",
       "    <tr>\n",
       "      <th>14</th>\n",
       "      <td>14</td>\n",
       "      <td>João</td>\n",
       "      <td>7</td>\n",
       "      <td>Aprovado</td>\n",
       "      <td>True</td>\n",
       "      <td>1</td>\n",
       "      <td>11</td>\n",
       "      <td>1.0</td>\n",
       "    </tr>\n",
       "    <tr>\n",
       "      <th>15</th>\n",
       "      <td>15</td>\n",
       "      <td>João</td>\n",
       "      <td>7</td>\n",
       "      <td>Aprovado</td>\n",
       "      <td>True</td>\n",
       "      <td>1</td>\n",
       "      <td>19</td>\n",
       "      <td>11.0</td>\n",
       "    </tr>\n",
       "    <tr>\n",
       "      <th>16</th>\n",
       "      <td>16</td>\n",
       "      <td>João</td>\n",
       "      <td>2</td>\n",
       "      <td>Reprovado</td>\n",
       "      <td>False</td>\n",
       "      <td>1</td>\n",
       "      <td>2</td>\n",
       "      <td>5.0</td>\n",
       "    </tr>\n",
       "    <tr>\n",
       "      <th>17</th>\n",
       "      <td>17</td>\n",
       "      <td>João</td>\n",
       "      <td>5</td>\n",
       "      <td>Reprovado</td>\n",
       "      <td>False</td>\n",
       "      <td>1</td>\n",
       "      <td>4</td>\n",
       "      <td>3.0</td>\n",
       "    </tr>\n",
       "    <tr>\n",
       "      <th>18</th>\n",
       "      <td>18</td>\n",
       "      <td>João</td>\n",
       "      <td>4</td>\n",
       "      <td>Reprovado</td>\n",
       "      <td>False</td>\n",
       "      <td>1</td>\n",
       "      <td>18</td>\n",
       "      <td>10.0</td>\n",
       "    </tr>\n",
       "    <tr>\n",
       "      <th>19</th>\n",
       "      <td>19</td>\n",
       "      <td>João</td>\n",
       "      <td>1</td>\n",
       "      <td>Reprovado</td>\n",
       "      <td>False</td>\n",
       "      <td>1</td>\n",
       "      <td>6</td>\n",
       "      <td>16.0</td>\n",
       "    </tr>\n",
       "    <tr>\n",
       "      <th>20</th>\n",
       "      <td>20</td>\n",
       "      <td>José</td>\n",
       "      <td>7</td>\n",
       "      <td>Aprovado</td>\n",
       "      <td>True</td>\n",
       "      <td>1</td>\n",
       "      <td>8</td>\n",
       "      <td>5.0</td>\n",
       "    </tr>\n",
       "    <tr>\n",
       "      <th>21</th>\n",
       "      <td>21</td>\n",
       "      <td>José</td>\n",
       "      <td>5</td>\n",
       "      <td>Reprovado</td>\n",
       "      <td>False</td>\n",
       "      <td>1</td>\n",
       "      <td>6</td>\n",
       "      <td>4.0</td>\n",
       "    </tr>\n",
       "    <tr>\n",
       "      <th>22</th>\n",
       "      <td>22</td>\n",
       "      <td>José</td>\n",
       "      <td>1</td>\n",
       "      <td>Reprovado</td>\n",
       "      <td>False</td>\n",
       "      <td>1</td>\n",
       "      <td>17</td>\n",
       "      <td>0.0</td>\n",
       "    </tr>\n",
       "    <tr>\n",
       "      <th>23</th>\n",
       "      <td>23</td>\n",
       "      <td>José</td>\n",
       "      <td>4</td>\n",
       "      <td>Reprovado</td>\n",
       "      <td>False</td>\n",
       "      <td>1</td>\n",
       "      <td>3</td>\n",
       "      <td>0.0</td>\n",
       "    </tr>\n",
       "    <tr>\n",
       "      <th>24</th>\n",
       "      <td>24</td>\n",
       "      <td>José</td>\n",
       "      <td>0</td>\n",
       "      <td>Reprovado</td>\n",
       "      <td>False</td>\n",
       "      <td>1</td>\n",
       "      <td>13</td>\n",
       "      <td>0.0</td>\n",
       "    </tr>\n",
       "    <tr>\n",
       "      <th>25</th>\n",
       "      <td>25</td>\n",
       "      <td>José</td>\n",
       "      <td>9</td>\n",
       "      <td>Aprovado</td>\n",
       "      <td>True</td>\n",
       "      <td>1</td>\n",
       "      <td>17</td>\n",
       "      <td>19.0</td>\n",
       "    </tr>\n",
       "    <tr>\n",
       "      <th>26</th>\n",
       "      <td>26</td>\n",
       "      <td>José</td>\n",
       "      <td>5</td>\n",
       "      <td>Reprovado</td>\n",
       "      <td>False</td>\n",
       "      <td>1</td>\n",
       "      <td>8</td>\n",
       "      <td>1.0</td>\n",
       "    </tr>\n",
       "    <tr>\n",
       "      <th>27</th>\n",
       "      <td>27</td>\n",
       "      <td>José</td>\n",
       "      <td>8</td>\n",
       "      <td>Aprovado</td>\n",
       "      <td>True</td>\n",
       "      <td>1</td>\n",
       "      <td>1</td>\n",
       "      <td>5.0</td>\n",
       "    </tr>\n",
       "    <tr>\n",
       "      <th>28</th>\n",
       "      <td>28</td>\n",
       "      <td>José</td>\n",
       "      <td>0</td>\n",
       "      <td>Reprovado</td>\n",
       "      <td>False</td>\n",
       "      <td>1</td>\n",
       "      <td>19</td>\n",
       "      <td>10.0</td>\n",
       "    </tr>\n",
       "    <tr>\n",
       "      <th>29</th>\n",
       "      <td>29</td>\n",
       "      <td>José</td>\n",
       "      <td>10</td>\n",
       "      <td>Aprovado</td>\n",
       "      <td>True</td>\n",
       "      <td>1</td>\n",
       "      <td>14</td>\n",
       "      <td>15.0</td>\n",
       "    </tr>\n",
       "  </tbody>\n",
       "</table>\n",
       "</div>"
      ],
      "text/plain": [
       "    index   nome  nota e_aprovado  e_aprovado_bool  coluna_de_1   x     y\n",
       "0       0  Maria     6   Aprovado             True            1   2   2.0\n",
       "1       1  Maria     3  Reprovado            False            1   1  16.0\n",
       "2       2  Maria    10   Aprovado             True            1  11   4.0\n",
       "3       3  Maria     7   Aprovado             True            1   5  16.0\n",
       "4       4  Maria     4  Reprovado            False            1   1  16.0\n",
       "5       5  Maria     6   Aprovado             True            1   0  16.0\n",
       "6       6  Maria     9   Aprovado             True            1  11   1.0\n",
       "7       7  Maria     2  Reprovado            False            1  11   1.0\n",
       "8       8  Maria     6   Aprovado             True            1  16   4.0\n",
       "9       9  Maria    10   Aprovado             True            1   9   0.0\n",
       "10     10   João    10   Aprovado             True            1  15   0.0\n",
       "11     11   João     7   Aprovado             True            1  14   0.0\n",
       "12     12   João     4  Reprovado            False            1  14   0.0\n",
       "13     13   João     3  Reprovado            False            1  18  18.0\n",
       "14     14   João     7   Aprovado             True            1  11   1.0\n",
       "15     15   João     7   Aprovado             True            1  19  11.0\n",
       "16     16   João     2  Reprovado            False            1   2   5.0\n",
       "17     17   João     5  Reprovado            False            1   4   3.0\n",
       "18     18   João     4  Reprovado            False            1  18  10.0\n",
       "19     19   João     1  Reprovado            False            1   6  16.0\n",
       "20     20   José     7   Aprovado             True            1   8   5.0\n",
       "21     21   José     5  Reprovado            False            1   6   4.0\n",
       "22     22   José     1  Reprovado            False            1  17   0.0\n",
       "23     23   José     4  Reprovado            False            1   3   0.0\n",
       "24     24   José     0  Reprovado            False            1  13   0.0\n",
       "25     25   José     9   Aprovado             True            1  17  19.0\n",
       "26     26   José     5  Reprovado            False            1   8   1.0\n",
       "27     27   José     8   Aprovado             True            1   1   5.0\n",
       "28     28   José     0  Reprovado            False            1  19  10.0\n",
       "29     29   José    10   Aprovado             True            1  14  15.0"
      ]
     },
     "execution_count": 690,
     "metadata": {},
     "output_type": "execute_result"
    }
   ],
   "source": [
    "# O indice vai como coluna\n",
    "df_notas_nome_resetado.reset_index()"
   ]
  },
  {
   "cell_type": "code",
   "execution_count": 691,
   "id": "69450235-86be-4a3e-a457-287f93b9ab3c",
   "metadata": {
    "scrolled": true,
    "tags": []
   },
   "outputs": [
    {
     "data": {
      "text/html": [
       "<div>\n",
       "<style scoped>\n",
       "    .dataframe tbody tr th:only-of-type {\n",
       "        vertical-align: middle;\n",
       "    }\n",
       "\n",
       "    .dataframe tbody tr th {\n",
       "        vertical-align: top;\n",
       "    }\n",
       "\n",
       "    .dataframe thead th {\n",
       "        text-align: right;\n",
       "    }\n",
       "</style>\n",
       "<table border=\"1\" class=\"dataframe\">\n",
       "  <thead>\n",
       "    <tr style=\"text-align: right;\">\n",
       "      <th></th>\n",
       "      <th>nome</th>\n",
       "      <th>nota</th>\n",
       "      <th>e_aprovado</th>\n",
       "      <th>e_aprovado_bool</th>\n",
       "      <th>coluna_de_1</th>\n",
       "      <th>x</th>\n",
       "      <th>y</th>\n",
       "    </tr>\n",
       "  </thead>\n",
       "  <tbody>\n",
       "    <tr>\n",
       "      <th>0</th>\n",
       "      <td>Maria</td>\n",
       "      <td>6</td>\n",
       "      <td>Aprovado</td>\n",
       "      <td>True</td>\n",
       "      <td>1</td>\n",
       "      <td>2</td>\n",
       "      <td>2.0</td>\n",
       "    </tr>\n",
       "    <tr>\n",
       "      <th>1</th>\n",
       "      <td>Maria</td>\n",
       "      <td>3</td>\n",
       "      <td>Reprovado</td>\n",
       "      <td>False</td>\n",
       "      <td>1</td>\n",
       "      <td>1</td>\n",
       "      <td>16.0</td>\n",
       "    </tr>\n",
       "    <tr>\n",
       "      <th>2</th>\n",
       "      <td>Maria</td>\n",
       "      <td>10</td>\n",
       "      <td>Aprovado</td>\n",
       "      <td>True</td>\n",
       "      <td>1</td>\n",
       "      <td>11</td>\n",
       "      <td>4.0</td>\n",
       "    </tr>\n",
       "    <tr>\n",
       "      <th>3</th>\n",
       "      <td>Maria</td>\n",
       "      <td>7</td>\n",
       "      <td>Aprovado</td>\n",
       "      <td>True</td>\n",
       "      <td>1</td>\n",
       "      <td>5</td>\n",
       "      <td>16.0</td>\n",
       "    </tr>\n",
       "    <tr>\n",
       "      <th>4</th>\n",
       "      <td>Maria</td>\n",
       "      <td>4</td>\n",
       "      <td>Reprovado</td>\n",
       "      <td>False</td>\n",
       "      <td>1</td>\n",
       "      <td>1</td>\n",
       "      <td>16.0</td>\n",
       "    </tr>\n",
       "    <tr>\n",
       "      <th>5</th>\n",
       "      <td>Maria</td>\n",
       "      <td>6</td>\n",
       "      <td>Aprovado</td>\n",
       "      <td>True</td>\n",
       "      <td>1</td>\n",
       "      <td>0</td>\n",
       "      <td>16.0</td>\n",
       "    </tr>\n",
       "    <tr>\n",
       "      <th>6</th>\n",
       "      <td>Maria</td>\n",
       "      <td>9</td>\n",
       "      <td>Aprovado</td>\n",
       "      <td>True</td>\n",
       "      <td>1</td>\n",
       "      <td>11</td>\n",
       "      <td>1.0</td>\n",
       "    </tr>\n",
       "    <tr>\n",
       "      <th>7</th>\n",
       "      <td>Maria</td>\n",
       "      <td>2</td>\n",
       "      <td>Reprovado</td>\n",
       "      <td>False</td>\n",
       "      <td>1</td>\n",
       "      <td>11</td>\n",
       "      <td>1.0</td>\n",
       "    </tr>\n",
       "    <tr>\n",
       "      <th>8</th>\n",
       "      <td>Maria</td>\n",
       "      <td>6</td>\n",
       "      <td>Aprovado</td>\n",
       "      <td>True</td>\n",
       "      <td>1</td>\n",
       "      <td>16</td>\n",
       "      <td>4.0</td>\n",
       "    </tr>\n",
       "    <tr>\n",
       "      <th>9</th>\n",
       "      <td>Maria</td>\n",
       "      <td>10</td>\n",
       "      <td>Aprovado</td>\n",
       "      <td>True</td>\n",
       "      <td>1</td>\n",
       "      <td>9</td>\n",
       "      <td>0.0</td>\n",
       "    </tr>\n",
       "    <tr>\n",
       "      <th>10</th>\n",
       "      <td>João</td>\n",
       "      <td>10</td>\n",
       "      <td>Aprovado</td>\n",
       "      <td>True</td>\n",
       "      <td>1</td>\n",
       "      <td>15</td>\n",
       "      <td>0.0</td>\n",
       "    </tr>\n",
       "    <tr>\n",
       "      <th>11</th>\n",
       "      <td>João</td>\n",
       "      <td>7</td>\n",
       "      <td>Aprovado</td>\n",
       "      <td>True</td>\n",
       "      <td>1</td>\n",
       "      <td>14</td>\n",
       "      <td>0.0</td>\n",
       "    </tr>\n",
       "    <tr>\n",
       "      <th>12</th>\n",
       "      <td>João</td>\n",
       "      <td>4</td>\n",
       "      <td>Reprovado</td>\n",
       "      <td>False</td>\n",
       "      <td>1</td>\n",
       "      <td>14</td>\n",
       "      <td>0.0</td>\n",
       "    </tr>\n",
       "    <tr>\n",
       "      <th>13</th>\n",
       "      <td>João</td>\n",
       "      <td>3</td>\n",
       "      <td>Reprovado</td>\n",
       "      <td>False</td>\n",
       "      <td>1</td>\n",
       "      <td>18</td>\n",
       "      <td>18.0</td>\n",
       "    </tr>\n",
       "    <tr>\n",
       "      <th>14</th>\n",
       "      <td>João</td>\n",
       "      <td>7</td>\n",
       "      <td>Aprovado</td>\n",
       "      <td>True</td>\n",
       "      <td>1</td>\n",
       "      <td>11</td>\n",
       "      <td>1.0</td>\n",
       "    </tr>\n",
       "    <tr>\n",
       "      <th>15</th>\n",
       "      <td>João</td>\n",
       "      <td>7</td>\n",
       "      <td>Aprovado</td>\n",
       "      <td>True</td>\n",
       "      <td>1</td>\n",
       "      <td>19</td>\n",
       "      <td>11.0</td>\n",
       "    </tr>\n",
       "    <tr>\n",
       "      <th>16</th>\n",
       "      <td>João</td>\n",
       "      <td>2</td>\n",
       "      <td>Reprovado</td>\n",
       "      <td>False</td>\n",
       "      <td>1</td>\n",
       "      <td>2</td>\n",
       "      <td>5.0</td>\n",
       "    </tr>\n",
       "    <tr>\n",
       "      <th>17</th>\n",
       "      <td>João</td>\n",
       "      <td>5</td>\n",
       "      <td>Reprovado</td>\n",
       "      <td>False</td>\n",
       "      <td>1</td>\n",
       "      <td>4</td>\n",
       "      <td>3.0</td>\n",
       "    </tr>\n",
       "    <tr>\n",
       "      <th>18</th>\n",
       "      <td>João</td>\n",
       "      <td>4</td>\n",
       "      <td>Reprovado</td>\n",
       "      <td>False</td>\n",
       "      <td>1</td>\n",
       "      <td>18</td>\n",
       "      <td>10.0</td>\n",
       "    </tr>\n",
       "    <tr>\n",
       "      <th>19</th>\n",
       "      <td>João</td>\n",
       "      <td>1</td>\n",
       "      <td>Reprovado</td>\n",
       "      <td>False</td>\n",
       "      <td>1</td>\n",
       "      <td>6</td>\n",
       "      <td>16.0</td>\n",
       "    </tr>\n",
       "    <tr>\n",
       "      <th>20</th>\n",
       "      <td>José</td>\n",
       "      <td>7</td>\n",
       "      <td>Aprovado</td>\n",
       "      <td>True</td>\n",
       "      <td>1</td>\n",
       "      <td>8</td>\n",
       "      <td>5.0</td>\n",
       "    </tr>\n",
       "    <tr>\n",
       "      <th>21</th>\n",
       "      <td>José</td>\n",
       "      <td>5</td>\n",
       "      <td>Reprovado</td>\n",
       "      <td>False</td>\n",
       "      <td>1</td>\n",
       "      <td>6</td>\n",
       "      <td>4.0</td>\n",
       "    </tr>\n",
       "    <tr>\n",
       "      <th>22</th>\n",
       "      <td>José</td>\n",
       "      <td>1</td>\n",
       "      <td>Reprovado</td>\n",
       "      <td>False</td>\n",
       "      <td>1</td>\n",
       "      <td>17</td>\n",
       "      <td>0.0</td>\n",
       "    </tr>\n",
       "    <tr>\n",
       "      <th>23</th>\n",
       "      <td>José</td>\n",
       "      <td>4</td>\n",
       "      <td>Reprovado</td>\n",
       "      <td>False</td>\n",
       "      <td>1</td>\n",
       "      <td>3</td>\n",
       "      <td>0.0</td>\n",
       "    </tr>\n",
       "    <tr>\n",
       "      <th>24</th>\n",
       "      <td>José</td>\n",
       "      <td>0</td>\n",
       "      <td>Reprovado</td>\n",
       "      <td>False</td>\n",
       "      <td>1</td>\n",
       "      <td>13</td>\n",
       "      <td>0.0</td>\n",
       "    </tr>\n",
       "    <tr>\n",
       "      <th>25</th>\n",
       "      <td>José</td>\n",
       "      <td>9</td>\n",
       "      <td>Aprovado</td>\n",
       "      <td>True</td>\n",
       "      <td>1</td>\n",
       "      <td>17</td>\n",
       "      <td>19.0</td>\n",
       "    </tr>\n",
       "    <tr>\n",
       "      <th>26</th>\n",
       "      <td>José</td>\n",
       "      <td>5</td>\n",
       "      <td>Reprovado</td>\n",
       "      <td>False</td>\n",
       "      <td>1</td>\n",
       "      <td>8</td>\n",
       "      <td>1.0</td>\n",
       "    </tr>\n",
       "    <tr>\n",
       "      <th>27</th>\n",
       "      <td>José</td>\n",
       "      <td>8</td>\n",
       "      <td>Aprovado</td>\n",
       "      <td>True</td>\n",
       "      <td>1</td>\n",
       "      <td>1</td>\n",
       "      <td>5.0</td>\n",
       "    </tr>\n",
       "    <tr>\n",
       "      <th>28</th>\n",
       "      <td>José</td>\n",
       "      <td>0</td>\n",
       "      <td>Reprovado</td>\n",
       "      <td>False</td>\n",
       "      <td>1</td>\n",
       "      <td>19</td>\n",
       "      <td>10.0</td>\n",
       "    </tr>\n",
       "    <tr>\n",
       "      <th>29</th>\n",
       "      <td>José</td>\n",
       "      <td>10</td>\n",
       "      <td>Aprovado</td>\n",
       "      <td>True</td>\n",
       "      <td>1</td>\n",
       "      <td>14</td>\n",
       "      <td>15.0</td>\n",
       "    </tr>\n",
       "  </tbody>\n",
       "</table>\n",
       "</div>"
      ],
      "text/plain": [
       "     nome  nota e_aprovado  e_aprovado_bool  coluna_de_1   x     y\n",
       "0   Maria     6   Aprovado             True            1   2   2.0\n",
       "1   Maria     3  Reprovado            False            1   1  16.0\n",
       "2   Maria    10   Aprovado             True            1  11   4.0\n",
       "3   Maria     7   Aprovado             True            1   5  16.0\n",
       "4   Maria     4  Reprovado            False            1   1  16.0\n",
       "5   Maria     6   Aprovado             True            1   0  16.0\n",
       "6   Maria     9   Aprovado             True            1  11   1.0\n",
       "7   Maria     2  Reprovado            False            1  11   1.0\n",
       "8   Maria     6   Aprovado             True            1  16   4.0\n",
       "9   Maria    10   Aprovado             True            1   9   0.0\n",
       "10   João    10   Aprovado             True            1  15   0.0\n",
       "11   João     7   Aprovado             True            1  14   0.0\n",
       "12   João     4  Reprovado            False            1  14   0.0\n",
       "13   João     3  Reprovado            False            1  18  18.0\n",
       "14   João     7   Aprovado             True            1  11   1.0\n",
       "15   João     7   Aprovado             True            1  19  11.0\n",
       "16   João     2  Reprovado            False            1   2   5.0\n",
       "17   João     5  Reprovado            False            1   4   3.0\n",
       "18   João     4  Reprovado            False            1  18  10.0\n",
       "19   João     1  Reprovado            False            1   6  16.0\n",
       "20   José     7   Aprovado             True            1   8   5.0\n",
       "21   José     5  Reprovado            False            1   6   4.0\n",
       "22   José     1  Reprovado            False            1  17   0.0\n",
       "23   José     4  Reprovado            False            1   3   0.0\n",
       "24   José     0  Reprovado            False            1  13   0.0\n",
       "25   José     9   Aprovado             True            1  17  19.0\n",
       "26   José     5  Reprovado            False            1   8   1.0\n",
       "27   José     8   Aprovado             True            1   1   5.0\n",
       "28   José     0  Reprovado            False            1  19  10.0\n",
       "29   José    10   Aprovado             True            1  14  15.0"
      ]
     },
     "execution_count": 691,
     "metadata": {},
     "output_type": "execute_result"
    }
   ],
   "source": [
    "# Resetamos o indice e removemos a coluna indice\n",
    "df_notas_nome_resetado.reset_index(drop=True)"
   ]
  },
  {
   "cell_type": "code",
   "execution_count": 693,
   "id": "2bb10c89-49a1-49fc-a85d-d45c0b7601cd",
   "metadata": {
    "scrolled": true,
    "tags": []
   },
   "outputs": [
    {
     "data": {
      "text/html": [
       "<div>\n",
       "<style scoped>\n",
       "    .dataframe tbody tr th:only-of-type {\n",
       "        vertical-align: middle;\n",
       "    }\n",
       "\n",
       "    .dataframe tbody tr th {\n",
       "        vertical-align: top;\n",
       "    }\n",
       "\n",
       "    .dataframe thead th {\n",
       "        text-align: right;\n",
       "    }\n",
       "</style>\n",
       "<table border=\"1\" class=\"dataframe\">\n",
       "  <thead>\n",
       "    <tr style=\"text-align: right;\">\n",
       "      <th></th>\n",
       "      <th>nota</th>\n",
       "      <th>e_aprovado</th>\n",
       "      <th>e_aprovado_bool</th>\n",
       "      <th>coluna_de_1</th>\n",
       "      <th>x</th>\n",
       "      <th>y</th>\n",
       "    </tr>\n",
       "  </thead>\n",
       "  <tbody>\n",
       "    <tr>\n",
       "      <th>0</th>\n",
       "      <td>6</td>\n",
       "      <td>Aprovado</td>\n",
       "      <td>True</td>\n",
       "      <td>1</td>\n",
       "      <td>2</td>\n",
       "      <td>2.0</td>\n",
       "    </tr>\n",
       "    <tr>\n",
       "      <th>1</th>\n",
       "      <td>3</td>\n",
       "      <td>Reprovado</td>\n",
       "      <td>False</td>\n",
       "      <td>1</td>\n",
       "      <td>1</td>\n",
       "      <td>16.0</td>\n",
       "    </tr>\n",
       "    <tr>\n",
       "      <th>2</th>\n",
       "      <td>10</td>\n",
       "      <td>Aprovado</td>\n",
       "      <td>True</td>\n",
       "      <td>1</td>\n",
       "      <td>11</td>\n",
       "      <td>4.0</td>\n",
       "    </tr>\n",
       "    <tr>\n",
       "      <th>3</th>\n",
       "      <td>7</td>\n",
       "      <td>Aprovado</td>\n",
       "      <td>True</td>\n",
       "      <td>1</td>\n",
       "      <td>5</td>\n",
       "      <td>16.0</td>\n",
       "    </tr>\n",
       "    <tr>\n",
       "      <th>4</th>\n",
       "      <td>4</td>\n",
       "      <td>Reprovado</td>\n",
       "      <td>False</td>\n",
       "      <td>1</td>\n",
       "      <td>1</td>\n",
       "      <td>16.0</td>\n",
       "    </tr>\n",
       "    <tr>\n",
       "      <th>5</th>\n",
       "      <td>6</td>\n",
       "      <td>Aprovado</td>\n",
       "      <td>True</td>\n",
       "      <td>1</td>\n",
       "      <td>0</td>\n",
       "      <td>16.0</td>\n",
       "    </tr>\n",
       "    <tr>\n",
       "      <th>6</th>\n",
       "      <td>9</td>\n",
       "      <td>Aprovado</td>\n",
       "      <td>True</td>\n",
       "      <td>1</td>\n",
       "      <td>11</td>\n",
       "      <td>1.0</td>\n",
       "    </tr>\n",
       "    <tr>\n",
       "      <th>7</th>\n",
       "      <td>2</td>\n",
       "      <td>Reprovado</td>\n",
       "      <td>False</td>\n",
       "      <td>1</td>\n",
       "      <td>11</td>\n",
       "      <td>1.0</td>\n",
       "    </tr>\n",
       "    <tr>\n",
       "      <th>8</th>\n",
       "      <td>6</td>\n",
       "      <td>Aprovado</td>\n",
       "      <td>True</td>\n",
       "      <td>1</td>\n",
       "      <td>16</td>\n",
       "      <td>4.0</td>\n",
       "    </tr>\n",
       "    <tr>\n",
       "      <th>9</th>\n",
       "      <td>10</td>\n",
       "      <td>Aprovado</td>\n",
       "      <td>True</td>\n",
       "      <td>1</td>\n",
       "      <td>9</td>\n",
       "      <td>0.0</td>\n",
       "    </tr>\n",
       "    <tr>\n",
       "      <th>10</th>\n",
       "      <td>10</td>\n",
       "      <td>Aprovado</td>\n",
       "      <td>True</td>\n",
       "      <td>1</td>\n",
       "      <td>15</td>\n",
       "      <td>0.0</td>\n",
       "    </tr>\n",
       "    <tr>\n",
       "      <th>11</th>\n",
       "      <td>7</td>\n",
       "      <td>Aprovado</td>\n",
       "      <td>True</td>\n",
       "      <td>1</td>\n",
       "      <td>14</td>\n",
       "      <td>0.0</td>\n",
       "    </tr>\n",
       "    <tr>\n",
       "      <th>12</th>\n",
       "      <td>4</td>\n",
       "      <td>Reprovado</td>\n",
       "      <td>False</td>\n",
       "      <td>1</td>\n",
       "      <td>14</td>\n",
       "      <td>0.0</td>\n",
       "    </tr>\n",
       "    <tr>\n",
       "      <th>13</th>\n",
       "      <td>3</td>\n",
       "      <td>Reprovado</td>\n",
       "      <td>False</td>\n",
       "      <td>1</td>\n",
       "      <td>18</td>\n",
       "      <td>18.0</td>\n",
       "    </tr>\n",
       "    <tr>\n",
       "      <th>14</th>\n",
       "      <td>7</td>\n",
       "      <td>Aprovado</td>\n",
       "      <td>True</td>\n",
       "      <td>1</td>\n",
       "      <td>11</td>\n",
       "      <td>1.0</td>\n",
       "    </tr>\n",
       "    <tr>\n",
       "      <th>15</th>\n",
       "      <td>7</td>\n",
       "      <td>Aprovado</td>\n",
       "      <td>True</td>\n",
       "      <td>1</td>\n",
       "      <td>19</td>\n",
       "      <td>11.0</td>\n",
       "    </tr>\n",
       "    <tr>\n",
       "      <th>16</th>\n",
       "      <td>2</td>\n",
       "      <td>Reprovado</td>\n",
       "      <td>False</td>\n",
       "      <td>1</td>\n",
       "      <td>2</td>\n",
       "      <td>5.0</td>\n",
       "    </tr>\n",
       "    <tr>\n",
       "      <th>17</th>\n",
       "      <td>5</td>\n",
       "      <td>Reprovado</td>\n",
       "      <td>False</td>\n",
       "      <td>1</td>\n",
       "      <td>4</td>\n",
       "      <td>3.0</td>\n",
       "    </tr>\n",
       "    <tr>\n",
       "      <th>18</th>\n",
       "      <td>4</td>\n",
       "      <td>Reprovado</td>\n",
       "      <td>False</td>\n",
       "      <td>1</td>\n",
       "      <td>18</td>\n",
       "      <td>10.0</td>\n",
       "    </tr>\n",
       "    <tr>\n",
       "      <th>19</th>\n",
       "      <td>1</td>\n",
       "      <td>Reprovado</td>\n",
       "      <td>False</td>\n",
       "      <td>1</td>\n",
       "      <td>6</td>\n",
       "      <td>16.0</td>\n",
       "    </tr>\n",
       "    <tr>\n",
       "      <th>20</th>\n",
       "      <td>7</td>\n",
       "      <td>Aprovado</td>\n",
       "      <td>True</td>\n",
       "      <td>1</td>\n",
       "      <td>8</td>\n",
       "      <td>5.0</td>\n",
       "    </tr>\n",
       "    <tr>\n",
       "      <th>21</th>\n",
       "      <td>5</td>\n",
       "      <td>Reprovado</td>\n",
       "      <td>False</td>\n",
       "      <td>1</td>\n",
       "      <td>6</td>\n",
       "      <td>4.0</td>\n",
       "    </tr>\n",
       "    <tr>\n",
       "      <th>22</th>\n",
       "      <td>1</td>\n",
       "      <td>Reprovado</td>\n",
       "      <td>False</td>\n",
       "      <td>1</td>\n",
       "      <td>17</td>\n",
       "      <td>0.0</td>\n",
       "    </tr>\n",
       "    <tr>\n",
       "      <th>23</th>\n",
       "      <td>4</td>\n",
       "      <td>Reprovado</td>\n",
       "      <td>False</td>\n",
       "      <td>1</td>\n",
       "      <td>3</td>\n",
       "      <td>0.0</td>\n",
       "    </tr>\n",
       "    <tr>\n",
       "      <th>24</th>\n",
       "      <td>0</td>\n",
       "      <td>Reprovado</td>\n",
       "      <td>False</td>\n",
       "      <td>1</td>\n",
       "      <td>13</td>\n",
       "      <td>0.0</td>\n",
       "    </tr>\n",
       "    <tr>\n",
       "      <th>25</th>\n",
       "      <td>9</td>\n",
       "      <td>Aprovado</td>\n",
       "      <td>True</td>\n",
       "      <td>1</td>\n",
       "      <td>17</td>\n",
       "      <td>19.0</td>\n",
       "    </tr>\n",
       "    <tr>\n",
       "      <th>26</th>\n",
       "      <td>5</td>\n",
       "      <td>Reprovado</td>\n",
       "      <td>False</td>\n",
       "      <td>1</td>\n",
       "      <td>8</td>\n",
       "      <td>1.0</td>\n",
       "    </tr>\n",
       "    <tr>\n",
       "      <th>27</th>\n",
       "      <td>8</td>\n",
       "      <td>Aprovado</td>\n",
       "      <td>True</td>\n",
       "      <td>1</td>\n",
       "      <td>1</td>\n",
       "      <td>5.0</td>\n",
       "    </tr>\n",
       "    <tr>\n",
       "      <th>28</th>\n",
       "      <td>0</td>\n",
       "      <td>Reprovado</td>\n",
       "      <td>False</td>\n",
       "      <td>1</td>\n",
       "      <td>19</td>\n",
       "      <td>10.0</td>\n",
       "    </tr>\n",
       "    <tr>\n",
       "      <th>29</th>\n",
       "      <td>10</td>\n",
       "      <td>Aprovado</td>\n",
       "      <td>True</td>\n",
       "      <td>1</td>\n",
       "      <td>14</td>\n",
       "      <td>15.0</td>\n",
       "    </tr>\n",
       "  </tbody>\n",
       "</table>\n",
       "</div>"
      ],
      "text/plain": [
       "    nota e_aprovado  e_aprovado_bool  coluna_de_1   x     y\n",
       "0      6   Aprovado             True            1   2   2.0\n",
       "1      3  Reprovado            False            1   1  16.0\n",
       "2     10   Aprovado             True            1  11   4.0\n",
       "3      7   Aprovado             True            1   5  16.0\n",
       "4      4  Reprovado            False            1   1  16.0\n",
       "5      6   Aprovado             True            1   0  16.0\n",
       "6      9   Aprovado             True            1  11   1.0\n",
       "7      2  Reprovado            False            1  11   1.0\n",
       "8      6   Aprovado             True            1  16   4.0\n",
       "9     10   Aprovado             True            1   9   0.0\n",
       "10    10   Aprovado             True            1  15   0.0\n",
       "11     7   Aprovado             True            1  14   0.0\n",
       "12     4  Reprovado            False            1  14   0.0\n",
       "13     3  Reprovado            False            1  18  18.0\n",
       "14     7   Aprovado             True            1  11   1.0\n",
       "15     7   Aprovado             True            1  19  11.0\n",
       "16     2  Reprovado            False            1   2   5.0\n",
       "17     5  Reprovado            False            1   4   3.0\n",
       "18     4  Reprovado            False            1  18  10.0\n",
       "19     1  Reprovado            False            1   6  16.0\n",
       "20     7   Aprovado             True            1   8   5.0\n",
       "21     5  Reprovado            False            1   6   4.0\n",
       "22     1  Reprovado            False            1  17   0.0\n",
       "23     4  Reprovado            False            1   3   0.0\n",
       "24     0  Reprovado            False            1  13   0.0\n",
       "25     9   Aprovado             True            1  17  19.0\n",
       "26     5  Reprovado            False            1   8   1.0\n",
       "27     8   Aprovado             True            1   1   5.0\n",
       "28     0  Reprovado            False            1  19  10.0\n",
       "29    10   Aprovado             True            1  14  15.0"
      ]
     },
     "execution_count": 693,
     "metadata": {},
     "output_type": "execute_result"
    }
   ],
   "source": [
    "df_notas_nome.reset_index(drop=True)"
   ]
  },
  {
   "cell_type": "markdown",
   "id": "e0802f1a-f85d-4f93-8dd9-7594db8b203c",
   "metadata": {},
   "source": [
    "Alterando o nome de colunas"
   ]
  },
  {
   "cell_type": "code",
   "execution_count": 698,
   "id": "0cd5e0b1-1ab3-447c-adff-55c8a0c9b561",
   "metadata": {},
   "outputs": [],
   "source": [
    "df_notas = df_notas.rename(columns={'e_aprovado': 'está aprovado?',\n",
    "                         'coluna_de_1': 'col_de_1'})"
   ]
  },
  {
   "cell_type": "code",
   "execution_count": 701,
   "id": "b6d91679-89d2-41e3-af76-b51fb5b3ddd0",
   "metadata": {},
   "outputs": [
    {
     "data": {
      "text/html": [
       "<div>\n",
       "<style scoped>\n",
       "    .dataframe tbody tr th:only-of-type {\n",
       "        vertical-align: middle;\n",
       "    }\n",
       "\n",
       "    .dataframe tbody tr th {\n",
       "        vertical-align: top;\n",
       "    }\n",
       "\n",
       "    .dataframe thead th {\n",
       "        text-align: right;\n",
       "    }\n",
       "</style>\n",
       "<table border=\"1\" class=\"dataframe\">\n",
       "  <thead>\n",
       "    <tr style=\"text-align: right;\">\n",
       "      <th></th>\n",
       "      <th>nota</th>\n",
       "      <th>nome</th>\n",
       "      <th>está aprovado?</th>\n",
       "      <th>e_aprovado_bool</th>\n",
       "      <th>col_de_1</th>\n",
       "      <th>x</th>\n",
       "      <th>y</th>\n",
       "    </tr>\n",
       "  </thead>\n",
       "  <tbody>\n",
       "    <tr>\n",
       "      <th>0</th>\n",
       "      <td>6</td>\n",
       "      <td>Maria</td>\n",
       "      <td>Aprovado</td>\n",
       "      <td>True</td>\n",
       "      <td>1</td>\n",
       "      <td>2</td>\n",
       "      <td>2.0</td>\n",
       "    </tr>\n",
       "    <tr>\n",
       "      <th>1</th>\n",
       "      <td>3</td>\n",
       "      <td>Maria</td>\n",
       "      <td>Reprovado</td>\n",
       "      <td>False</td>\n",
       "      <td>1</td>\n",
       "      <td>1</td>\n",
       "      <td>16.0</td>\n",
       "    </tr>\n",
       "    <tr>\n",
       "      <th>2</th>\n",
       "      <td>10</td>\n",
       "      <td>Maria</td>\n",
       "      <td>Aprovado</td>\n",
       "      <td>True</td>\n",
       "      <td>1</td>\n",
       "      <td>11</td>\n",
       "      <td>4.0</td>\n",
       "    </tr>\n",
       "    <tr>\n",
       "      <th>3</th>\n",
       "      <td>7</td>\n",
       "      <td>Maria</td>\n",
       "      <td>Aprovado</td>\n",
       "      <td>True</td>\n",
       "      <td>1</td>\n",
       "      <td>5</td>\n",
       "      <td>16.0</td>\n",
       "    </tr>\n",
       "    <tr>\n",
       "      <th>4</th>\n",
       "      <td>4</td>\n",
       "      <td>Maria</td>\n",
       "      <td>Reprovado</td>\n",
       "      <td>False</td>\n",
       "      <td>1</td>\n",
       "      <td>1</td>\n",
       "      <td>16.0</td>\n",
       "    </tr>\n",
       "  </tbody>\n",
       "</table>\n",
       "</div>"
      ],
      "text/plain": [
       "   nota   nome está aprovado?  e_aprovado_bool  col_de_1   x     y\n",
       "0     6  Maria       Aprovado             True         1   2   2.0\n",
       "1     3  Maria      Reprovado            False         1   1  16.0\n",
       "2    10  Maria       Aprovado             True         1  11   4.0\n",
       "3     7  Maria       Aprovado             True         1   5  16.0\n",
       "4     4  Maria      Reprovado            False         1   1  16.0"
      ]
     },
     "execution_count": 701,
     "metadata": {},
     "output_type": "execute_result"
    }
   ],
   "source": [
    "df_notas.head()"
   ]
  },
  {
   "cell_type": "code",
   "execution_count": 702,
   "id": "1910ab35-dd3f-4130-a907-28152b99bb6e",
   "metadata": {},
   "outputs": [],
   "source": [
    "colunas = ['nota', 'nome', 'e_aprovado', 'e_aprovado_bool', 'col_num_1', 'x', 'y']"
   ]
  },
  {
   "cell_type": "code",
   "execution_count": 704,
   "id": "b8eb2796-b3a0-4b83-acca-d2a92faf9091",
   "metadata": {},
   "outputs": [],
   "source": [
    "df_notas.columns = colunas"
   ]
  },
  {
   "cell_type": "code",
   "execution_count": 705,
   "id": "c87ef9db-6792-471d-9540-ca6feb6a5c5c",
   "metadata": {
    "scrolled": true,
    "tags": []
   },
   "outputs": [
    {
     "data": {
      "text/html": [
       "<div>\n",
       "<style scoped>\n",
       "    .dataframe tbody tr th:only-of-type {\n",
       "        vertical-align: middle;\n",
       "    }\n",
       "\n",
       "    .dataframe tbody tr th {\n",
       "        vertical-align: top;\n",
       "    }\n",
       "\n",
       "    .dataframe thead th {\n",
       "        text-align: right;\n",
       "    }\n",
       "</style>\n",
       "<table border=\"1\" class=\"dataframe\">\n",
       "  <thead>\n",
       "    <tr style=\"text-align: right;\">\n",
       "      <th></th>\n",
       "      <th>nota</th>\n",
       "      <th>nome</th>\n",
       "      <th>e_aprovado</th>\n",
       "      <th>e_aprovado_bool</th>\n",
       "      <th>col_num_1</th>\n",
       "      <th>x</th>\n",
       "      <th>y</th>\n",
       "    </tr>\n",
       "  </thead>\n",
       "  <tbody>\n",
       "    <tr>\n",
       "      <th>0</th>\n",
       "      <td>6</td>\n",
       "      <td>Maria</td>\n",
       "      <td>Aprovado</td>\n",
       "      <td>True</td>\n",
       "      <td>1</td>\n",
       "      <td>2</td>\n",
       "      <td>2.0</td>\n",
       "    </tr>\n",
       "    <tr>\n",
       "      <th>1</th>\n",
       "      <td>3</td>\n",
       "      <td>Maria</td>\n",
       "      <td>Reprovado</td>\n",
       "      <td>False</td>\n",
       "      <td>1</td>\n",
       "      <td>1</td>\n",
       "      <td>16.0</td>\n",
       "    </tr>\n",
       "    <tr>\n",
       "      <th>2</th>\n",
       "      <td>10</td>\n",
       "      <td>Maria</td>\n",
       "      <td>Aprovado</td>\n",
       "      <td>True</td>\n",
       "      <td>1</td>\n",
       "      <td>11</td>\n",
       "      <td>4.0</td>\n",
       "    </tr>\n",
       "    <tr>\n",
       "      <th>3</th>\n",
       "      <td>7</td>\n",
       "      <td>Maria</td>\n",
       "      <td>Aprovado</td>\n",
       "      <td>True</td>\n",
       "      <td>1</td>\n",
       "      <td>5</td>\n",
       "      <td>16.0</td>\n",
       "    </tr>\n",
       "    <tr>\n",
       "      <th>4</th>\n",
       "      <td>4</td>\n",
       "      <td>Maria</td>\n",
       "      <td>Reprovado</td>\n",
       "      <td>False</td>\n",
       "      <td>1</td>\n",
       "      <td>1</td>\n",
       "      <td>16.0</td>\n",
       "    </tr>\n",
       "    <tr>\n",
       "      <th>5</th>\n",
       "      <td>6</td>\n",
       "      <td>Maria</td>\n",
       "      <td>Aprovado</td>\n",
       "      <td>True</td>\n",
       "      <td>1</td>\n",
       "      <td>0</td>\n",
       "      <td>16.0</td>\n",
       "    </tr>\n",
       "    <tr>\n",
       "      <th>6</th>\n",
       "      <td>9</td>\n",
       "      <td>Maria</td>\n",
       "      <td>Aprovado</td>\n",
       "      <td>True</td>\n",
       "      <td>1</td>\n",
       "      <td>11</td>\n",
       "      <td>1.0</td>\n",
       "    </tr>\n",
       "    <tr>\n",
       "      <th>7</th>\n",
       "      <td>2</td>\n",
       "      <td>Maria</td>\n",
       "      <td>Reprovado</td>\n",
       "      <td>False</td>\n",
       "      <td>1</td>\n",
       "      <td>11</td>\n",
       "      <td>1.0</td>\n",
       "    </tr>\n",
       "    <tr>\n",
       "      <th>8</th>\n",
       "      <td>6</td>\n",
       "      <td>Maria</td>\n",
       "      <td>Aprovado</td>\n",
       "      <td>True</td>\n",
       "      <td>1</td>\n",
       "      <td>16</td>\n",
       "      <td>4.0</td>\n",
       "    </tr>\n",
       "    <tr>\n",
       "      <th>9</th>\n",
       "      <td>10</td>\n",
       "      <td>Maria</td>\n",
       "      <td>Aprovado</td>\n",
       "      <td>True</td>\n",
       "      <td>1</td>\n",
       "      <td>9</td>\n",
       "      <td>0.0</td>\n",
       "    </tr>\n",
       "    <tr>\n",
       "      <th>10</th>\n",
       "      <td>10</td>\n",
       "      <td>João</td>\n",
       "      <td>Aprovado</td>\n",
       "      <td>True</td>\n",
       "      <td>1</td>\n",
       "      <td>15</td>\n",
       "      <td>0.0</td>\n",
       "    </tr>\n",
       "    <tr>\n",
       "      <th>11</th>\n",
       "      <td>7</td>\n",
       "      <td>João</td>\n",
       "      <td>Aprovado</td>\n",
       "      <td>True</td>\n",
       "      <td>1</td>\n",
       "      <td>14</td>\n",
       "      <td>0.0</td>\n",
       "    </tr>\n",
       "    <tr>\n",
       "      <th>12</th>\n",
       "      <td>4</td>\n",
       "      <td>João</td>\n",
       "      <td>Reprovado</td>\n",
       "      <td>False</td>\n",
       "      <td>1</td>\n",
       "      <td>14</td>\n",
       "      <td>0.0</td>\n",
       "    </tr>\n",
       "    <tr>\n",
       "      <th>13</th>\n",
       "      <td>3</td>\n",
       "      <td>João</td>\n",
       "      <td>Reprovado</td>\n",
       "      <td>False</td>\n",
       "      <td>1</td>\n",
       "      <td>18</td>\n",
       "      <td>18.0</td>\n",
       "    </tr>\n",
       "    <tr>\n",
       "      <th>14</th>\n",
       "      <td>7</td>\n",
       "      <td>João</td>\n",
       "      <td>Aprovado</td>\n",
       "      <td>True</td>\n",
       "      <td>1</td>\n",
       "      <td>11</td>\n",
       "      <td>1.0</td>\n",
       "    </tr>\n",
       "    <tr>\n",
       "      <th>15</th>\n",
       "      <td>7</td>\n",
       "      <td>João</td>\n",
       "      <td>Aprovado</td>\n",
       "      <td>True</td>\n",
       "      <td>1</td>\n",
       "      <td>19</td>\n",
       "      <td>11.0</td>\n",
       "    </tr>\n",
       "    <tr>\n",
       "      <th>16</th>\n",
       "      <td>2</td>\n",
       "      <td>João</td>\n",
       "      <td>Reprovado</td>\n",
       "      <td>False</td>\n",
       "      <td>1</td>\n",
       "      <td>2</td>\n",
       "      <td>5.0</td>\n",
       "    </tr>\n",
       "    <tr>\n",
       "      <th>17</th>\n",
       "      <td>5</td>\n",
       "      <td>João</td>\n",
       "      <td>Reprovado</td>\n",
       "      <td>False</td>\n",
       "      <td>1</td>\n",
       "      <td>4</td>\n",
       "      <td>3.0</td>\n",
       "    </tr>\n",
       "    <tr>\n",
       "      <th>18</th>\n",
       "      <td>4</td>\n",
       "      <td>João</td>\n",
       "      <td>Reprovado</td>\n",
       "      <td>False</td>\n",
       "      <td>1</td>\n",
       "      <td>18</td>\n",
       "      <td>10.0</td>\n",
       "    </tr>\n",
       "    <tr>\n",
       "      <th>19</th>\n",
       "      <td>1</td>\n",
       "      <td>João</td>\n",
       "      <td>Reprovado</td>\n",
       "      <td>False</td>\n",
       "      <td>1</td>\n",
       "      <td>6</td>\n",
       "      <td>16.0</td>\n",
       "    </tr>\n",
       "    <tr>\n",
       "      <th>20</th>\n",
       "      <td>7</td>\n",
       "      <td>José</td>\n",
       "      <td>Aprovado</td>\n",
       "      <td>True</td>\n",
       "      <td>1</td>\n",
       "      <td>8</td>\n",
       "      <td>5.0</td>\n",
       "    </tr>\n",
       "    <tr>\n",
       "      <th>21</th>\n",
       "      <td>5</td>\n",
       "      <td>José</td>\n",
       "      <td>Reprovado</td>\n",
       "      <td>False</td>\n",
       "      <td>1</td>\n",
       "      <td>6</td>\n",
       "      <td>4.0</td>\n",
       "    </tr>\n",
       "    <tr>\n",
       "      <th>22</th>\n",
       "      <td>1</td>\n",
       "      <td>José</td>\n",
       "      <td>Reprovado</td>\n",
       "      <td>False</td>\n",
       "      <td>1</td>\n",
       "      <td>17</td>\n",
       "      <td>0.0</td>\n",
       "    </tr>\n",
       "    <tr>\n",
       "      <th>23</th>\n",
       "      <td>4</td>\n",
       "      <td>José</td>\n",
       "      <td>Reprovado</td>\n",
       "      <td>False</td>\n",
       "      <td>1</td>\n",
       "      <td>3</td>\n",
       "      <td>0.0</td>\n",
       "    </tr>\n",
       "    <tr>\n",
       "      <th>24</th>\n",
       "      <td>0</td>\n",
       "      <td>José</td>\n",
       "      <td>Reprovado</td>\n",
       "      <td>False</td>\n",
       "      <td>1</td>\n",
       "      <td>13</td>\n",
       "      <td>0.0</td>\n",
       "    </tr>\n",
       "    <tr>\n",
       "      <th>25</th>\n",
       "      <td>9</td>\n",
       "      <td>José</td>\n",
       "      <td>Aprovado</td>\n",
       "      <td>True</td>\n",
       "      <td>1</td>\n",
       "      <td>17</td>\n",
       "      <td>19.0</td>\n",
       "    </tr>\n",
       "    <tr>\n",
       "      <th>26</th>\n",
       "      <td>5</td>\n",
       "      <td>José</td>\n",
       "      <td>Reprovado</td>\n",
       "      <td>False</td>\n",
       "      <td>1</td>\n",
       "      <td>8</td>\n",
       "      <td>1.0</td>\n",
       "    </tr>\n",
       "    <tr>\n",
       "      <th>27</th>\n",
       "      <td>8</td>\n",
       "      <td>José</td>\n",
       "      <td>Aprovado</td>\n",
       "      <td>True</td>\n",
       "      <td>1</td>\n",
       "      <td>1</td>\n",
       "      <td>5.0</td>\n",
       "    </tr>\n",
       "    <tr>\n",
       "      <th>28</th>\n",
       "      <td>0</td>\n",
       "      <td>José</td>\n",
       "      <td>Reprovado</td>\n",
       "      <td>False</td>\n",
       "      <td>1</td>\n",
       "      <td>19</td>\n",
       "      <td>10.0</td>\n",
       "    </tr>\n",
       "    <tr>\n",
       "      <th>29</th>\n",
       "      <td>10</td>\n",
       "      <td>José</td>\n",
       "      <td>Aprovado</td>\n",
       "      <td>True</td>\n",
       "      <td>1</td>\n",
       "      <td>14</td>\n",
       "      <td>15.0</td>\n",
       "    </tr>\n",
       "  </tbody>\n",
       "</table>\n",
       "</div>"
      ],
      "text/plain": [
       "    nota   nome e_aprovado  e_aprovado_bool  col_num_1   x     y\n",
       "0      6  Maria   Aprovado             True          1   2   2.0\n",
       "1      3  Maria  Reprovado            False          1   1  16.0\n",
       "2     10  Maria   Aprovado             True          1  11   4.0\n",
       "3      7  Maria   Aprovado             True          1   5  16.0\n",
       "4      4  Maria  Reprovado            False          1   1  16.0\n",
       "5      6  Maria   Aprovado             True          1   0  16.0\n",
       "6      9  Maria   Aprovado             True          1  11   1.0\n",
       "7      2  Maria  Reprovado            False          1  11   1.0\n",
       "8      6  Maria   Aprovado             True          1  16   4.0\n",
       "9     10  Maria   Aprovado             True          1   9   0.0\n",
       "10    10   João   Aprovado             True          1  15   0.0\n",
       "11     7   João   Aprovado             True          1  14   0.0\n",
       "12     4   João  Reprovado            False          1  14   0.0\n",
       "13     3   João  Reprovado            False          1  18  18.0\n",
       "14     7   João   Aprovado             True          1  11   1.0\n",
       "15     7   João   Aprovado             True          1  19  11.0\n",
       "16     2   João  Reprovado            False          1   2   5.0\n",
       "17     5   João  Reprovado            False          1   4   3.0\n",
       "18     4   João  Reprovado            False          1  18  10.0\n",
       "19     1   João  Reprovado            False          1   6  16.0\n",
       "20     7   José   Aprovado             True          1   8   5.0\n",
       "21     5   José  Reprovado            False          1   6   4.0\n",
       "22     1   José  Reprovado            False          1  17   0.0\n",
       "23     4   José  Reprovado            False          1   3   0.0\n",
       "24     0   José  Reprovado            False          1  13   0.0\n",
       "25     9   José   Aprovado             True          1  17  19.0\n",
       "26     5   José  Reprovado            False          1   8   1.0\n",
       "27     8   José   Aprovado             True          1   1   5.0\n",
       "28     0   José  Reprovado            False          1  19  10.0\n",
       "29    10   José   Aprovado             True          1  14  15.0"
      ]
     },
     "execution_count": 705,
     "metadata": {},
     "output_type": "execute_result"
    }
   ],
   "source": [
    "df_notas"
   ]
  },
  {
   "cell_type": "code",
   "execution_count": 708,
   "id": "00d9b775-c342-4f27-ab0e-4780156358d8",
   "metadata": {
    "scrolled": true,
    "tags": []
   },
   "outputs": [
    {
     "data": {
      "text/html": [
       "<div>\n",
       "<style scoped>\n",
       "    .dataframe tbody tr th:only-of-type {\n",
       "        vertical-align: middle;\n",
       "    }\n",
       "\n",
       "    .dataframe tbody tr th {\n",
       "        vertical-align: top;\n",
       "    }\n",
       "\n",
       "    .dataframe thead th {\n",
       "        text-align: right;\n",
       "    }\n",
       "</style>\n",
       "<table border=\"1\" class=\"dataframe\">\n",
       "  <thead>\n",
       "    <tr style=\"text-align: right;\">\n",
       "      <th></th>\n",
       "      <th>nome</th>\n",
       "      <th>nota</th>\n",
       "      <th>y</th>\n",
       "      <th>x</th>\n",
       "    </tr>\n",
       "  </thead>\n",
       "  <tbody>\n",
       "    <tr>\n",
       "      <th>0</th>\n",
       "      <td>Maria</td>\n",
       "      <td>6</td>\n",
       "      <td>2.0</td>\n",
       "      <td>2</td>\n",
       "    </tr>\n",
       "    <tr>\n",
       "      <th>1</th>\n",
       "      <td>Maria</td>\n",
       "      <td>3</td>\n",
       "      <td>16.0</td>\n",
       "      <td>1</td>\n",
       "    </tr>\n",
       "    <tr>\n",
       "      <th>2</th>\n",
       "      <td>Maria</td>\n",
       "      <td>10</td>\n",
       "      <td>4.0</td>\n",
       "      <td>11</td>\n",
       "    </tr>\n",
       "    <tr>\n",
       "      <th>3</th>\n",
       "      <td>Maria</td>\n",
       "      <td>7</td>\n",
       "      <td>16.0</td>\n",
       "      <td>5</td>\n",
       "    </tr>\n",
       "    <tr>\n",
       "      <th>4</th>\n",
       "      <td>Maria</td>\n",
       "      <td>4</td>\n",
       "      <td>16.0</td>\n",
       "      <td>1</td>\n",
       "    </tr>\n",
       "    <tr>\n",
       "      <th>5</th>\n",
       "      <td>Maria</td>\n",
       "      <td>6</td>\n",
       "      <td>16.0</td>\n",
       "      <td>0</td>\n",
       "    </tr>\n",
       "    <tr>\n",
       "      <th>6</th>\n",
       "      <td>Maria</td>\n",
       "      <td>9</td>\n",
       "      <td>1.0</td>\n",
       "      <td>11</td>\n",
       "    </tr>\n",
       "    <tr>\n",
       "      <th>7</th>\n",
       "      <td>Maria</td>\n",
       "      <td>2</td>\n",
       "      <td>1.0</td>\n",
       "      <td>11</td>\n",
       "    </tr>\n",
       "    <tr>\n",
       "      <th>8</th>\n",
       "      <td>Maria</td>\n",
       "      <td>6</td>\n",
       "      <td>4.0</td>\n",
       "      <td>16</td>\n",
       "    </tr>\n",
       "    <tr>\n",
       "      <th>9</th>\n",
       "      <td>Maria</td>\n",
       "      <td>10</td>\n",
       "      <td>0.0</td>\n",
       "      <td>9</td>\n",
       "    </tr>\n",
       "    <tr>\n",
       "      <th>10</th>\n",
       "      <td>João</td>\n",
       "      <td>10</td>\n",
       "      <td>0.0</td>\n",
       "      <td>15</td>\n",
       "    </tr>\n",
       "    <tr>\n",
       "      <th>11</th>\n",
       "      <td>João</td>\n",
       "      <td>7</td>\n",
       "      <td>0.0</td>\n",
       "      <td>14</td>\n",
       "    </tr>\n",
       "    <tr>\n",
       "      <th>12</th>\n",
       "      <td>João</td>\n",
       "      <td>4</td>\n",
       "      <td>0.0</td>\n",
       "      <td>14</td>\n",
       "    </tr>\n",
       "    <tr>\n",
       "      <th>13</th>\n",
       "      <td>João</td>\n",
       "      <td>3</td>\n",
       "      <td>18.0</td>\n",
       "      <td>18</td>\n",
       "    </tr>\n",
       "    <tr>\n",
       "      <th>14</th>\n",
       "      <td>João</td>\n",
       "      <td>7</td>\n",
       "      <td>1.0</td>\n",
       "      <td>11</td>\n",
       "    </tr>\n",
       "    <tr>\n",
       "      <th>15</th>\n",
       "      <td>João</td>\n",
       "      <td>7</td>\n",
       "      <td>11.0</td>\n",
       "      <td>19</td>\n",
       "    </tr>\n",
       "    <tr>\n",
       "      <th>16</th>\n",
       "      <td>João</td>\n",
       "      <td>2</td>\n",
       "      <td>5.0</td>\n",
       "      <td>2</td>\n",
       "    </tr>\n",
       "    <tr>\n",
       "      <th>17</th>\n",
       "      <td>João</td>\n",
       "      <td>5</td>\n",
       "      <td>3.0</td>\n",
       "      <td>4</td>\n",
       "    </tr>\n",
       "    <tr>\n",
       "      <th>18</th>\n",
       "      <td>João</td>\n",
       "      <td>4</td>\n",
       "      <td>10.0</td>\n",
       "      <td>18</td>\n",
       "    </tr>\n",
       "    <tr>\n",
       "      <th>19</th>\n",
       "      <td>João</td>\n",
       "      <td>1</td>\n",
       "      <td>16.0</td>\n",
       "      <td>6</td>\n",
       "    </tr>\n",
       "    <tr>\n",
       "      <th>20</th>\n",
       "      <td>José</td>\n",
       "      <td>7</td>\n",
       "      <td>5.0</td>\n",
       "      <td>8</td>\n",
       "    </tr>\n",
       "    <tr>\n",
       "      <th>21</th>\n",
       "      <td>José</td>\n",
       "      <td>5</td>\n",
       "      <td>4.0</td>\n",
       "      <td>6</td>\n",
       "    </tr>\n",
       "    <tr>\n",
       "      <th>22</th>\n",
       "      <td>José</td>\n",
       "      <td>1</td>\n",
       "      <td>0.0</td>\n",
       "      <td>17</td>\n",
       "    </tr>\n",
       "    <tr>\n",
       "      <th>23</th>\n",
       "      <td>José</td>\n",
       "      <td>4</td>\n",
       "      <td>0.0</td>\n",
       "      <td>3</td>\n",
       "    </tr>\n",
       "    <tr>\n",
       "      <th>24</th>\n",
       "      <td>José</td>\n",
       "      <td>0</td>\n",
       "      <td>0.0</td>\n",
       "      <td>13</td>\n",
       "    </tr>\n",
       "    <tr>\n",
       "      <th>25</th>\n",
       "      <td>José</td>\n",
       "      <td>9</td>\n",
       "      <td>19.0</td>\n",
       "      <td>17</td>\n",
       "    </tr>\n",
       "    <tr>\n",
       "      <th>26</th>\n",
       "      <td>José</td>\n",
       "      <td>5</td>\n",
       "      <td>1.0</td>\n",
       "      <td>8</td>\n",
       "    </tr>\n",
       "    <tr>\n",
       "      <th>27</th>\n",
       "      <td>José</td>\n",
       "      <td>8</td>\n",
       "      <td>5.0</td>\n",
       "      <td>1</td>\n",
       "    </tr>\n",
       "    <tr>\n",
       "      <th>28</th>\n",
       "      <td>José</td>\n",
       "      <td>0</td>\n",
       "      <td>10.0</td>\n",
       "      <td>19</td>\n",
       "    </tr>\n",
       "    <tr>\n",
       "      <th>29</th>\n",
       "      <td>José</td>\n",
       "      <td>10</td>\n",
       "      <td>15.0</td>\n",
       "      <td>14</td>\n",
       "    </tr>\n",
       "  </tbody>\n",
       "</table>\n",
       "</div>"
      ],
      "text/plain": [
       "     nome  nota     y   x\n",
       "0   Maria     6   2.0   2\n",
       "1   Maria     3  16.0   1\n",
       "2   Maria    10   4.0  11\n",
       "3   Maria     7  16.0   5\n",
       "4   Maria     4  16.0   1\n",
       "5   Maria     6  16.0   0\n",
       "6   Maria     9   1.0  11\n",
       "7   Maria     2   1.0  11\n",
       "8   Maria     6   4.0  16\n",
       "9   Maria    10   0.0   9\n",
       "10   João    10   0.0  15\n",
       "11   João     7   0.0  14\n",
       "12   João     4   0.0  14\n",
       "13   João     3  18.0  18\n",
       "14   João     7   1.0  11\n",
       "15   João     7  11.0  19\n",
       "16   João     2   5.0   2\n",
       "17   João     5   3.0   4\n",
       "18   João     4  10.0  18\n",
       "19   João     1  16.0   6\n",
       "20   José     7   5.0   8\n",
       "21   José     5   4.0   6\n",
       "22   José     1   0.0  17\n",
       "23   José     4   0.0   3\n",
       "24   José     0   0.0  13\n",
       "25   José     9  19.0  17\n",
       "26   José     5   1.0   8\n",
       "27   José     8   5.0   1\n",
       "28   José     0  10.0  19\n",
       "29   José    10  15.0  14"
      ]
     },
     "execution_count": 708,
     "metadata": {},
     "output_type": "execute_result"
    }
   ],
   "source": [
    "# reordenando as colunas\n",
    "df_notas[['nome', 'nota', 'y', 'x']]"
   ]
  },
  {
   "cell_type": "code",
   "execution_count": 709,
   "id": "81f141f1-7bdb-404c-b527-faa6055648a3",
   "metadata": {
    "scrolled": true,
    "tags": []
   },
   "outputs": [
    {
     "data": {
      "text/html": [
       "<div>\n",
       "<style scoped>\n",
       "    .dataframe tbody tr th:only-of-type {\n",
       "        vertical-align: middle;\n",
       "    }\n",
       "\n",
       "    .dataframe tbody tr th {\n",
       "        vertical-align: top;\n",
       "    }\n",
       "\n",
       "    .dataframe thead th {\n",
       "        text-align: right;\n",
       "    }\n",
       "</style>\n",
       "<table border=\"1\" class=\"dataframe\">\n",
       "  <thead>\n",
       "    <tr style=\"text-align: right;\">\n",
       "      <th></th>\n",
       "      <th>nome</th>\n",
       "      <th>nota</th>\n",
       "      <th>y</th>\n",
       "      <th>x</th>\n",
       "    </tr>\n",
       "  </thead>\n",
       "  <tbody>\n",
       "    <tr>\n",
       "      <th>24</th>\n",
       "      <td>José</td>\n",
       "      <td>0</td>\n",
       "      <td>0.0</td>\n",
       "      <td>13</td>\n",
       "    </tr>\n",
       "    <tr>\n",
       "      <th>28</th>\n",
       "      <td>José</td>\n",
       "      <td>0</td>\n",
       "      <td>10.0</td>\n",
       "      <td>19</td>\n",
       "    </tr>\n",
       "    <tr>\n",
       "      <th>22</th>\n",
       "      <td>José</td>\n",
       "      <td>1</td>\n",
       "      <td>0.0</td>\n",
       "      <td>17</td>\n",
       "    </tr>\n",
       "    <tr>\n",
       "      <th>19</th>\n",
       "      <td>João</td>\n",
       "      <td>1</td>\n",
       "      <td>16.0</td>\n",
       "      <td>6</td>\n",
       "    </tr>\n",
       "    <tr>\n",
       "      <th>16</th>\n",
       "      <td>João</td>\n",
       "      <td>2</td>\n",
       "      <td>5.0</td>\n",
       "      <td>2</td>\n",
       "    </tr>\n",
       "    <tr>\n",
       "      <th>7</th>\n",
       "      <td>Maria</td>\n",
       "      <td>2</td>\n",
       "      <td>1.0</td>\n",
       "      <td>11</td>\n",
       "    </tr>\n",
       "    <tr>\n",
       "      <th>1</th>\n",
       "      <td>Maria</td>\n",
       "      <td>3</td>\n",
       "      <td>16.0</td>\n",
       "      <td>1</td>\n",
       "    </tr>\n",
       "    <tr>\n",
       "      <th>13</th>\n",
       "      <td>João</td>\n",
       "      <td>3</td>\n",
       "      <td>18.0</td>\n",
       "      <td>18</td>\n",
       "    </tr>\n",
       "    <tr>\n",
       "      <th>12</th>\n",
       "      <td>João</td>\n",
       "      <td>4</td>\n",
       "      <td>0.0</td>\n",
       "      <td>14</td>\n",
       "    </tr>\n",
       "    <tr>\n",
       "      <th>18</th>\n",
       "      <td>João</td>\n",
       "      <td>4</td>\n",
       "      <td>10.0</td>\n",
       "      <td>18</td>\n",
       "    </tr>\n",
       "    <tr>\n",
       "      <th>23</th>\n",
       "      <td>José</td>\n",
       "      <td>4</td>\n",
       "      <td>0.0</td>\n",
       "      <td>3</td>\n",
       "    </tr>\n",
       "    <tr>\n",
       "      <th>4</th>\n",
       "      <td>Maria</td>\n",
       "      <td>4</td>\n",
       "      <td>16.0</td>\n",
       "      <td>1</td>\n",
       "    </tr>\n",
       "    <tr>\n",
       "      <th>21</th>\n",
       "      <td>José</td>\n",
       "      <td>5</td>\n",
       "      <td>4.0</td>\n",
       "      <td>6</td>\n",
       "    </tr>\n",
       "    <tr>\n",
       "      <th>26</th>\n",
       "      <td>José</td>\n",
       "      <td>5</td>\n",
       "      <td>1.0</td>\n",
       "      <td>8</td>\n",
       "    </tr>\n",
       "    <tr>\n",
       "      <th>17</th>\n",
       "      <td>João</td>\n",
       "      <td>5</td>\n",
       "      <td>3.0</td>\n",
       "      <td>4</td>\n",
       "    </tr>\n",
       "    <tr>\n",
       "      <th>8</th>\n",
       "      <td>Maria</td>\n",
       "      <td>6</td>\n",
       "      <td>4.0</td>\n",
       "      <td>16</td>\n",
       "    </tr>\n",
       "    <tr>\n",
       "      <th>5</th>\n",
       "      <td>Maria</td>\n",
       "      <td>6</td>\n",
       "      <td>16.0</td>\n",
       "      <td>0</td>\n",
       "    </tr>\n",
       "    <tr>\n",
       "      <th>0</th>\n",
       "      <td>Maria</td>\n",
       "      <td>6</td>\n",
       "      <td>2.0</td>\n",
       "      <td>2</td>\n",
       "    </tr>\n",
       "    <tr>\n",
       "      <th>20</th>\n",
       "      <td>José</td>\n",
       "      <td>7</td>\n",
       "      <td>5.0</td>\n",
       "      <td>8</td>\n",
       "    </tr>\n",
       "    <tr>\n",
       "      <th>14</th>\n",
       "      <td>João</td>\n",
       "      <td>7</td>\n",
       "      <td>1.0</td>\n",
       "      <td>11</td>\n",
       "    </tr>\n",
       "    <tr>\n",
       "      <th>11</th>\n",
       "      <td>João</td>\n",
       "      <td>7</td>\n",
       "      <td>0.0</td>\n",
       "      <td>14</td>\n",
       "    </tr>\n",
       "    <tr>\n",
       "      <th>3</th>\n",
       "      <td>Maria</td>\n",
       "      <td>7</td>\n",
       "      <td>16.0</td>\n",
       "      <td>5</td>\n",
       "    </tr>\n",
       "    <tr>\n",
       "      <th>15</th>\n",
       "      <td>João</td>\n",
       "      <td>7</td>\n",
       "      <td>11.0</td>\n",
       "      <td>19</td>\n",
       "    </tr>\n",
       "    <tr>\n",
       "      <th>27</th>\n",
       "      <td>José</td>\n",
       "      <td>8</td>\n",
       "      <td>5.0</td>\n",
       "      <td>1</td>\n",
       "    </tr>\n",
       "    <tr>\n",
       "      <th>6</th>\n",
       "      <td>Maria</td>\n",
       "      <td>9</td>\n",
       "      <td>1.0</td>\n",
       "      <td>11</td>\n",
       "    </tr>\n",
       "    <tr>\n",
       "      <th>25</th>\n",
       "      <td>José</td>\n",
       "      <td>9</td>\n",
       "      <td>19.0</td>\n",
       "      <td>17</td>\n",
       "    </tr>\n",
       "    <tr>\n",
       "      <th>10</th>\n",
       "      <td>João</td>\n",
       "      <td>10</td>\n",
       "      <td>0.0</td>\n",
       "      <td>15</td>\n",
       "    </tr>\n",
       "    <tr>\n",
       "      <th>9</th>\n",
       "      <td>Maria</td>\n",
       "      <td>10</td>\n",
       "      <td>0.0</td>\n",
       "      <td>9</td>\n",
       "    </tr>\n",
       "    <tr>\n",
       "      <th>2</th>\n",
       "      <td>Maria</td>\n",
       "      <td>10</td>\n",
       "      <td>4.0</td>\n",
       "      <td>11</td>\n",
       "    </tr>\n",
       "    <tr>\n",
       "      <th>29</th>\n",
       "      <td>José</td>\n",
       "      <td>10</td>\n",
       "      <td>15.0</td>\n",
       "      <td>14</td>\n",
       "    </tr>\n",
       "  </tbody>\n",
       "</table>\n",
       "</div>"
      ],
      "text/plain": [
       "     nome  nota     y   x\n",
       "24   José     0   0.0  13\n",
       "28   José     0  10.0  19\n",
       "22   José     1   0.0  17\n",
       "19   João     1  16.0   6\n",
       "16   João     2   5.0   2\n",
       "7   Maria     2   1.0  11\n",
       "1   Maria     3  16.0   1\n",
       "13   João     3  18.0  18\n",
       "12   João     4   0.0  14\n",
       "18   João     4  10.0  18\n",
       "23   José     4   0.0   3\n",
       "4   Maria     4  16.0   1\n",
       "21   José     5   4.0   6\n",
       "26   José     5   1.0   8\n",
       "17   João     5   3.0   4\n",
       "8   Maria     6   4.0  16\n",
       "5   Maria     6  16.0   0\n",
       "0   Maria     6   2.0   2\n",
       "20   José     7   5.0   8\n",
       "14   João     7   1.0  11\n",
       "11   João     7   0.0  14\n",
       "3   Maria     7  16.0   5\n",
       "15   João     7  11.0  19\n",
       "27   José     8   5.0   1\n",
       "6   Maria     9   1.0  11\n",
       "25   José     9  19.0  17\n",
       "10   João    10   0.0  15\n",
       "9   Maria    10   0.0   9\n",
       "2   Maria    10   4.0  11\n",
       "29   José    10  15.0  14"
      ]
     },
     "execution_count": 709,
     "metadata": {},
     "output_type": "execute_result"
    }
   ],
   "source": [
    "df_notas[['nome', 'nota', 'y', 'x']].sort_values('nota')"
   ]
  },
  {
   "cell_type": "code",
   "execution_count": 710,
   "id": "6409cd9d-8aa2-4db8-9470-e7f8ebbca7e6",
   "metadata": {
    "scrolled": true,
    "tags": []
   },
   "outputs": [
    {
     "data": {
      "text/html": [
       "<div>\n",
       "<style scoped>\n",
       "    .dataframe tbody tr th:only-of-type {\n",
       "        vertical-align: middle;\n",
       "    }\n",
       "\n",
       "    .dataframe tbody tr th {\n",
       "        vertical-align: top;\n",
       "    }\n",
       "\n",
       "    .dataframe thead th {\n",
       "        text-align: right;\n",
       "    }\n",
       "</style>\n",
       "<table border=\"1\" class=\"dataframe\">\n",
       "  <thead>\n",
       "    <tr style=\"text-align: right;\">\n",
       "      <th></th>\n",
       "      <th>nome</th>\n",
       "      <th>nota</th>\n",
       "      <th>y</th>\n",
       "      <th>x</th>\n",
       "    </tr>\n",
       "  </thead>\n",
       "  <tbody>\n",
       "    <tr>\n",
       "      <th>24</th>\n",
       "      <td>José</td>\n",
       "      <td>0</td>\n",
       "      <td>0.0</td>\n",
       "      <td>13</td>\n",
       "    </tr>\n",
       "    <tr>\n",
       "      <th>28</th>\n",
       "      <td>José</td>\n",
       "      <td>0</td>\n",
       "      <td>10.0</td>\n",
       "      <td>19</td>\n",
       "    </tr>\n",
       "    <tr>\n",
       "      <th>19</th>\n",
       "      <td>João</td>\n",
       "      <td>1</td>\n",
       "      <td>16.0</td>\n",
       "      <td>6</td>\n",
       "    </tr>\n",
       "    <tr>\n",
       "      <th>22</th>\n",
       "      <td>José</td>\n",
       "      <td>1</td>\n",
       "      <td>0.0</td>\n",
       "      <td>17</td>\n",
       "    </tr>\n",
       "    <tr>\n",
       "      <th>16</th>\n",
       "      <td>João</td>\n",
       "      <td>2</td>\n",
       "      <td>5.0</td>\n",
       "      <td>2</td>\n",
       "    </tr>\n",
       "    <tr>\n",
       "      <th>7</th>\n",
       "      <td>Maria</td>\n",
       "      <td>2</td>\n",
       "      <td>1.0</td>\n",
       "      <td>11</td>\n",
       "    </tr>\n",
       "    <tr>\n",
       "      <th>1</th>\n",
       "      <td>Maria</td>\n",
       "      <td>3</td>\n",
       "      <td>16.0</td>\n",
       "      <td>1</td>\n",
       "    </tr>\n",
       "    <tr>\n",
       "      <th>13</th>\n",
       "      <td>João</td>\n",
       "      <td>3</td>\n",
       "      <td>18.0</td>\n",
       "      <td>18</td>\n",
       "    </tr>\n",
       "    <tr>\n",
       "      <th>4</th>\n",
       "      <td>Maria</td>\n",
       "      <td>4</td>\n",
       "      <td>16.0</td>\n",
       "      <td>1</td>\n",
       "    </tr>\n",
       "    <tr>\n",
       "      <th>23</th>\n",
       "      <td>José</td>\n",
       "      <td>4</td>\n",
       "      <td>0.0</td>\n",
       "      <td>3</td>\n",
       "    </tr>\n",
       "    <tr>\n",
       "      <th>12</th>\n",
       "      <td>João</td>\n",
       "      <td>4</td>\n",
       "      <td>0.0</td>\n",
       "      <td>14</td>\n",
       "    </tr>\n",
       "    <tr>\n",
       "      <th>18</th>\n",
       "      <td>João</td>\n",
       "      <td>4</td>\n",
       "      <td>10.0</td>\n",
       "      <td>18</td>\n",
       "    </tr>\n",
       "    <tr>\n",
       "      <th>17</th>\n",
       "      <td>João</td>\n",
       "      <td>5</td>\n",
       "      <td>3.0</td>\n",
       "      <td>4</td>\n",
       "    </tr>\n",
       "    <tr>\n",
       "      <th>21</th>\n",
       "      <td>José</td>\n",
       "      <td>5</td>\n",
       "      <td>4.0</td>\n",
       "      <td>6</td>\n",
       "    </tr>\n",
       "    <tr>\n",
       "      <th>26</th>\n",
       "      <td>José</td>\n",
       "      <td>5</td>\n",
       "      <td>1.0</td>\n",
       "      <td>8</td>\n",
       "    </tr>\n",
       "    <tr>\n",
       "      <th>5</th>\n",
       "      <td>Maria</td>\n",
       "      <td>6</td>\n",
       "      <td>16.0</td>\n",
       "      <td>0</td>\n",
       "    </tr>\n",
       "    <tr>\n",
       "      <th>0</th>\n",
       "      <td>Maria</td>\n",
       "      <td>6</td>\n",
       "      <td>2.0</td>\n",
       "      <td>2</td>\n",
       "    </tr>\n",
       "    <tr>\n",
       "      <th>8</th>\n",
       "      <td>Maria</td>\n",
       "      <td>6</td>\n",
       "      <td>4.0</td>\n",
       "      <td>16</td>\n",
       "    </tr>\n",
       "    <tr>\n",
       "      <th>3</th>\n",
       "      <td>Maria</td>\n",
       "      <td>7</td>\n",
       "      <td>16.0</td>\n",
       "      <td>5</td>\n",
       "    </tr>\n",
       "    <tr>\n",
       "      <th>20</th>\n",
       "      <td>José</td>\n",
       "      <td>7</td>\n",
       "      <td>5.0</td>\n",
       "      <td>8</td>\n",
       "    </tr>\n",
       "    <tr>\n",
       "      <th>14</th>\n",
       "      <td>João</td>\n",
       "      <td>7</td>\n",
       "      <td>1.0</td>\n",
       "      <td>11</td>\n",
       "    </tr>\n",
       "    <tr>\n",
       "      <th>11</th>\n",
       "      <td>João</td>\n",
       "      <td>7</td>\n",
       "      <td>0.0</td>\n",
       "      <td>14</td>\n",
       "    </tr>\n",
       "    <tr>\n",
       "      <th>15</th>\n",
       "      <td>João</td>\n",
       "      <td>7</td>\n",
       "      <td>11.0</td>\n",
       "      <td>19</td>\n",
       "    </tr>\n",
       "    <tr>\n",
       "      <th>27</th>\n",
       "      <td>José</td>\n",
       "      <td>8</td>\n",
       "      <td>5.0</td>\n",
       "      <td>1</td>\n",
       "    </tr>\n",
       "    <tr>\n",
       "      <th>6</th>\n",
       "      <td>Maria</td>\n",
       "      <td>9</td>\n",
       "      <td>1.0</td>\n",
       "      <td>11</td>\n",
       "    </tr>\n",
       "    <tr>\n",
       "      <th>25</th>\n",
       "      <td>José</td>\n",
       "      <td>9</td>\n",
       "      <td>19.0</td>\n",
       "      <td>17</td>\n",
       "    </tr>\n",
       "    <tr>\n",
       "      <th>9</th>\n",
       "      <td>Maria</td>\n",
       "      <td>10</td>\n",
       "      <td>0.0</td>\n",
       "      <td>9</td>\n",
       "    </tr>\n",
       "    <tr>\n",
       "      <th>2</th>\n",
       "      <td>Maria</td>\n",
       "      <td>10</td>\n",
       "      <td>4.0</td>\n",
       "      <td>11</td>\n",
       "    </tr>\n",
       "    <tr>\n",
       "      <th>29</th>\n",
       "      <td>José</td>\n",
       "      <td>10</td>\n",
       "      <td>15.0</td>\n",
       "      <td>14</td>\n",
       "    </tr>\n",
       "    <tr>\n",
       "      <th>10</th>\n",
       "      <td>João</td>\n",
       "      <td>10</td>\n",
       "      <td>0.0</td>\n",
       "      <td>15</td>\n",
       "    </tr>\n",
       "  </tbody>\n",
       "</table>\n",
       "</div>"
      ],
      "text/plain": [
       "     nome  nota     y   x\n",
       "24   José     0   0.0  13\n",
       "28   José     0  10.0  19\n",
       "19   João     1  16.0   6\n",
       "22   José     1   0.0  17\n",
       "16   João     2   5.0   2\n",
       "7   Maria     2   1.0  11\n",
       "1   Maria     3  16.0   1\n",
       "13   João     3  18.0  18\n",
       "4   Maria     4  16.0   1\n",
       "23   José     4   0.0   3\n",
       "12   João     4   0.0  14\n",
       "18   João     4  10.0  18\n",
       "17   João     5   3.0   4\n",
       "21   José     5   4.0   6\n",
       "26   José     5   1.0   8\n",
       "5   Maria     6  16.0   0\n",
       "0   Maria     6   2.0   2\n",
       "8   Maria     6   4.0  16\n",
       "3   Maria     7  16.0   5\n",
       "20   José     7   5.0   8\n",
       "14   João     7   1.0  11\n",
       "11   João     7   0.0  14\n",
       "15   João     7  11.0  19\n",
       "27   José     8   5.0   1\n",
       "6   Maria     9   1.0  11\n",
       "25   José     9  19.0  17\n",
       "9   Maria    10   0.0   9\n",
       "2   Maria    10   4.0  11\n",
       "29   José    10  15.0  14\n",
       "10   João    10   0.0  15"
      ]
     },
     "execution_count": 710,
     "metadata": {},
     "output_type": "execute_result"
    }
   ],
   "source": [
    "df_notas[['nome', 'nota', 'y', 'x']].sort_values(['nota', 'x', 'y'])"
   ]
  },
  {
   "cell_type": "markdown",
   "id": "b4b6f272-4703-453f-9408-234fdce836d3",
   "metadata": {},
   "source": [
    "#### Concat\n",
    "\n",
    "Muitas vezes, queremos **juntar** dataframes relacionados em um único dataframe.\n",
    "\n",
    "Para isso, utilizamos o método **pd.concat()**"
   ]
  },
  {
   "cell_type": "code",
   "execution_count": 712,
   "id": "49740263-72b8-43c2-91c9-dadda8b06fd8",
   "metadata": {},
   "outputs": [],
   "source": [
    "df1 = pd.DataFrame(\n",
    "                    {\n",
    "                        'A': [1,2,3],\n",
    "                        'B': [4,5,6],\n",
    "                        'C': [7,8,9]\n",
    "                    })\n",
    "df2 = pd.DataFrame(\n",
    "                    {\n",
    "                        'B': [1,2,3],\n",
    "                        'C': [4,5,6],\n",
    "                        'D': [7,8,9]\n",
    "                    })"
   ]
  },
  {
   "cell_type": "code",
   "execution_count": 713,
   "id": "55225fec-8295-42fd-bc51-37167d1d6b2d",
   "metadata": {},
   "outputs": [
    {
     "data": {
      "text/html": [
       "<div>\n",
       "<style scoped>\n",
       "    .dataframe tbody tr th:only-of-type {\n",
       "        vertical-align: middle;\n",
       "    }\n",
       "\n",
       "    .dataframe tbody tr th {\n",
       "        vertical-align: top;\n",
       "    }\n",
       "\n",
       "    .dataframe thead th {\n",
       "        text-align: right;\n",
       "    }\n",
       "</style>\n",
       "<table border=\"1\" class=\"dataframe\">\n",
       "  <thead>\n",
       "    <tr style=\"text-align: right;\">\n",
       "      <th></th>\n",
       "      <th>A</th>\n",
       "      <th>B</th>\n",
       "      <th>C</th>\n",
       "    </tr>\n",
       "  </thead>\n",
       "  <tbody>\n",
       "    <tr>\n",
       "      <th>0</th>\n",
       "      <td>1</td>\n",
       "      <td>4</td>\n",
       "      <td>7</td>\n",
       "    </tr>\n",
       "    <tr>\n",
       "      <th>1</th>\n",
       "      <td>2</td>\n",
       "      <td>5</td>\n",
       "      <td>8</td>\n",
       "    </tr>\n",
       "    <tr>\n",
       "      <th>2</th>\n",
       "      <td>3</td>\n",
       "      <td>6</td>\n",
       "      <td>9</td>\n",
       "    </tr>\n",
       "  </tbody>\n",
       "</table>\n",
       "</div>"
      ],
      "text/plain": [
       "   A  B  C\n",
       "0  1  4  7\n",
       "1  2  5  8\n",
       "2  3  6  9"
      ]
     },
     "metadata": {},
     "output_type": "display_data"
    },
    {
     "data": {
      "text/html": [
       "<div>\n",
       "<style scoped>\n",
       "    .dataframe tbody tr th:only-of-type {\n",
       "        vertical-align: middle;\n",
       "    }\n",
       "\n",
       "    .dataframe tbody tr th {\n",
       "        vertical-align: top;\n",
       "    }\n",
       "\n",
       "    .dataframe thead th {\n",
       "        text-align: right;\n",
       "    }\n",
       "</style>\n",
       "<table border=\"1\" class=\"dataframe\">\n",
       "  <thead>\n",
       "    <tr style=\"text-align: right;\">\n",
       "      <th></th>\n",
       "      <th>B</th>\n",
       "      <th>C</th>\n",
       "      <th>D</th>\n",
       "    </tr>\n",
       "  </thead>\n",
       "  <tbody>\n",
       "    <tr>\n",
       "      <th>0</th>\n",
       "      <td>1</td>\n",
       "      <td>4</td>\n",
       "      <td>7</td>\n",
       "    </tr>\n",
       "    <tr>\n",
       "      <th>1</th>\n",
       "      <td>2</td>\n",
       "      <td>5</td>\n",
       "      <td>8</td>\n",
       "    </tr>\n",
       "    <tr>\n",
       "      <th>2</th>\n",
       "      <td>3</td>\n",
       "      <td>6</td>\n",
       "      <td>9</td>\n",
       "    </tr>\n",
       "  </tbody>\n",
       "</table>\n",
       "</div>"
      ],
      "text/plain": [
       "   B  C  D\n",
       "0  1  4  7\n",
       "1  2  5  8\n",
       "2  3  6  9"
      ]
     },
     "metadata": {},
     "output_type": "display_data"
    }
   ],
   "source": [
    "display(df1)\n",
    "display(df2)"
   ]
  },
  {
   "cell_type": "code",
   "execution_count": 716,
   "id": "f58997be-0ce2-4aea-9416-6aa3cacd4f82",
   "metadata": {},
   "outputs": [],
   "source": [
    "df3 = pd.concat([df1, df2], axis=0)"
   ]
  },
  {
   "cell_type": "code",
   "execution_count": 717,
   "id": "1181e8c4-aa9d-4adb-8211-1bd1ef87ba57",
   "metadata": {},
   "outputs": [
    {
     "data": {
      "text/html": [
       "<div>\n",
       "<style scoped>\n",
       "    .dataframe tbody tr th:only-of-type {\n",
       "        vertical-align: middle;\n",
       "    }\n",
       "\n",
       "    .dataframe tbody tr th {\n",
       "        vertical-align: top;\n",
       "    }\n",
       "\n",
       "    .dataframe thead th {\n",
       "        text-align: right;\n",
       "    }\n",
       "</style>\n",
       "<table border=\"1\" class=\"dataframe\">\n",
       "  <thead>\n",
       "    <tr style=\"text-align: right;\">\n",
       "      <th></th>\n",
       "      <th>A</th>\n",
       "      <th>B</th>\n",
       "      <th>C</th>\n",
       "      <th>D</th>\n",
       "    </tr>\n",
       "  </thead>\n",
       "  <tbody>\n",
       "    <tr>\n",
       "      <th>0</th>\n",
       "      <td>1.0</td>\n",
       "      <td>4</td>\n",
       "      <td>7</td>\n",
       "      <td>NaN</td>\n",
       "    </tr>\n",
       "    <tr>\n",
       "      <th>1</th>\n",
       "      <td>2.0</td>\n",
       "      <td>5</td>\n",
       "      <td>8</td>\n",
       "      <td>NaN</td>\n",
       "    </tr>\n",
       "    <tr>\n",
       "      <th>2</th>\n",
       "      <td>3.0</td>\n",
       "      <td>6</td>\n",
       "      <td>9</td>\n",
       "      <td>NaN</td>\n",
       "    </tr>\n",
       "    <tr>\n",
       "      <th>0</th>\n",
       "      <td>NaN</td>\n",
       "      <td>1</td>\n",
       "      <td>4</td>\n",
       "      <td>7.0</td>\n",
       "    </tr>\n",
       "    <tr>\n",
       "      <th>1</th>\n",
       "      <td>NaN</td>\n",
       "      <td>2</td>\n",
       "      <td>5</td>\n",
       "      <td>8.0</td>\n",
       "    </tr>\n",
       "    <tr>\n",
       "      <th>2</th>\n",
       "      <td>NaN</td>\n",
       "      <td>3</td>\n",
       "      <td>6</td>\n",
       "      <td>9.0</td>\n",
       "    </tr>\n",
       "  </tbody>\n",
       "</table>\n",
       "</div>"
      ],
      "text/plain": [
       "     A  B  C    D\n",
       "0  1.0  4  7  NaN\n",
       "1  2.0  5  8  NaN\n",
       "2  3.0  6  9  NaN\n",
       "0  NaN  1  4  7.0\n",
       "1  NaN  2  5  8.0\n",
       "2  NaN  3  6  9.0"
      ]
     },
     "execution_count": 717,
     "metadata": {},
     "output_type": "execute_result"
    }
   ],
   "source": [
    "df3"
   ]
  },
  {
   "cell_type": "code",
   "execution_count": 718,
   "id": "8c878db9-67cf-4400-83f3-98682d9d29b4",
   "metadata": {},
   "outputs": [
    {
     "data": {
      "text/html": [
       "<div>\n",
       "<style scoped>\n",
       "    .dataframe tbody tr th:only-of-type {\n",
       "        vertical-align: middle;\n",
       "    }\n",
       "\n",
       "    .dataframe tbody tr th {\n",
       "        vertical-align: top;\n",
       "    }\n",
       "\n",
       "    .dataframe thead th {\n",
       "        text-align: right;\n",
       "    }\n",
       "</style>\n",
       "<table border=\"1\" class=\"dataframe\">\n",
       "  <thead>\n",
       "    <tr style=\"text-align: right;\">\n",
       "      <th></th>\n",
       "      <th>A</th>\n",
       "      <th>B</th>\n",
       "      <th>C</th>\n",
       "      <th>D</th>\n",
       "    </tr>\n",
       "  </thead>\n",
       "  <tbody>\n",
       "    <tr>\n",
       "      <th>0</th>\n",
       "      <td>False</td>\n",
       "      <td>False</td>\n",
       "      <td>False</td>\n",
       "      <td>True</td>\n",
       "    </tr>\n",
       "    <tr>\n",
       "      <th>1</th>\n",
       "      <td>False</td>\n",
       "      <td>False</td>\n",
       "      <td>False</td>\n",
       "      <td>True</td>\n",
       "    </tr>\n",
       "    <tr>\n",
       "      <th>2</th>\n",
       "      <td>False</td>\n",
       "      <td>False</td>\n",
       "      <td>False</td>\n",
       "      <td>True</td>\n",
       "    </tr>\n",
       "    <tr>\n",
       "      <th>0</th>\n",
       "      <td>True</td>\n",
       "      <td>False</td>\n",
       "      <td>False</td>\n",
       "      <td>False</td>\n",
       "    </tr>\n",
       "    <tr>\n",
       "      <th>1</th>\n",
       "      <td>True</td>\n",
       "      <td>False</td>\n",
       "      <td>False</td>\n",
       "      <td>False</td>\n",
       "    </tr>\n",
       "    <tr>\n",
       "      <th>2</th>\n",
       "      <td>True</td>\n",
       "      <td>False</td>\n",
       "      <td>False</td>\n",
       "      <td>False</td>\n",
       "    </tr>\n",
       "  </tbody>\n",
       "</table>\n",
       "</div>"
      ],
      "text/plain": [
       "       A      B      C      D\n",
       "0  False  False  False   True\n",
       "1  False  False  False   True\n",
       "2  False  False  False   True\n",
       "0   True  False  False  False\n",
       "1   True  False  False  False\n",
       "2   True  False  False  False"
      ]
     },
     "execution_count": 718,
     "metadata": {},
     "output_type": "execute_result"
    }
   ],
   "source": [
    "df3.isnull()"
   ]
  },
  {
   "cell_type": "code",
   "execution_count": 719,
   "id": "24301249-0800-44dd-8f65-b98f73a6b2c2",
   "metadata": {},
   "outputs": [
    {
     "data": {
      "text/plain": [
       "A    3\n",
       "B    0\n",
       "C    0\n",
       "D    3\n",
       "dtype: int64"
      ]
     },
     "execution_count": 719,
     "metadata": {},
     "output_type": "execute_result"
    }
   ],
   "source": [
    "df3.isnull().sum()"
   ]
  },
  {
   "cell_type": "code",
   "execution_count": 720,
   "id": "11210d36-ef0f-49fc-99d4-3dc8e8b70a4c",
   "metadata": {},
   "outputs": [
    {
     "data": {
      "text/plain": [
       "0    1\n",
       "1    1\n",
       "2    1\n",
       "0    1\n",
       "1    1\n",
       "2    1\n",
       "dtype: int64"
      ]
     },
     "execution_count": 720,
     "metadata": {},
     "output_type": "execute_result"
    }
   ],
   "source": [
    "df3.isnull().sum(axis=1)"
   ]
  },
  {
   "cell_type": "code",
   "execution_count": 724,
   "id": "11039313-221c-4d6f-8e90-3fa094aca62f",
   "metadata": {},
   "outputs": [
    {
     "data": {
      "text/plain": [
       "6"
      ]
     },
     "execution_count": 724,
     "metadata": {},
     "output_type": "execute_result"
    }
   ],
   "source": [
    "df3.isnull().sum().sum()"
   ]
  },
  {
   "cell_type": "code",
   "execution_count": 726,
   "id": "2b5ad8df-4c1d-4510-8765-3c92db0d3860",
   "metadata": {},
   "outputs": [
    {
     "data": {
      "text/html": [
       "<div>\n",
       "<style scoped>\n",
       "    .dataframe tbody tr th:only-of-type {\n",
       "        vertical-align: middle;\n",
       "    }\n",
       "\n",
       "    .dataframe tbody tr th {\n",
       "        vertical-align: top;\n",
       "    }\n",
       "\n",
       "    .dataframe thead th {\n",
       "        text-align: right;\n",
       "    }\n",
       "</style>\n",
       "<table border=\"1\" class=\"dataframe\">\n",
       "  <thead>\n",
       "    <tr style=\"text-align: right;\">\n",
       "      <th></th>\n",
       "      <th>A</th>\n",
       "      <th>B</th>\n",
       "      <th>C</th>\n",
       "    </tr>\n",
       "  </thead>\n",
       "  <tbody>\n",
       "    <tr>\n",
       "      <th>0</th>\n",
       "      <td>1</td>\n",
       "      <td>4</td>\n",
       "      <td>7</td>\n",
       "    </tr>\n",
       "    <tr>\n",
       "      <th>1</th>\n",
       "      <td>2</td>\n",
       "      <td>5</td>\n",
       "      <td>8</td>\n",
       "    </tr>\n",
       "    <tr>\n",
       "      <th>2</th>\n",
       "      <td>3</td>\n",
       "      <td>6</td>\n",
       "      <td>9</td>\n",
       "    </tr>\n",
       "  </tbody>\n",
       "</table>\n",
       "</div>"
      ],
      "text/plain": [
       "   A  B  C\n",
       "0  1  4  7\n",
       "1  2  5  8\n",
       "2  3  6  9"
      ]
     },
     "metadata": {},
     "output_type": "display_data"
    },
    {
     "data": {
      "text/html": [
       "<div>\n",
       "<style scoped>\n",
       "    .dataframe tbody tr th:only-of-type {\n",
       "        vertical-align: middle;\n",
       "    }\n",
       "\n",
       "    .dataframe tbody tr th {\n",
       "        vertical-align: top;\n",
       "    }\n",
       "\n",
       "    .dataframe thead th {\n",
       "        text-align: right;\n",
       "    }\n",
       "</style>\n",
       "<table border=\"1\" class=\"dataframe\">\n",
       "  <thead>\n",
       "    <tr style=\"text-align: right;\">\n",
       "      <th></th>\n",
       "      <th>B</th>\n",
       "      <th>C</th>\n",
       "      <th>D</th>\n",
       "    </tr>\n",
       "  </thead>\n",
       "  <tbody>\n",
       "    <tr>\n",
       "      <th>0</th>\n",
       "      <td>1</td>\n",
       "      <td>4</td>\n",
       "      <td>7</td>\n",
       "    </tr>\n",
       "    <tr>\n",
       "      <th>1</th>\n",
       "      <td>2</td>\n",
       "      <td>5</td>\n",
       "      <td>8</td>\n",
       "    </tr>\n",
       "    <tr>\n",
       "      <th>2</th>\n",
       "      <td>3</td>\n",
       "      <td>6</td>\n",
       "      <td>9</td>\n",
       "    </tr>\n",
       "  </tbody>\n",
       "</table>\n",
       "</div>"
      ],
      "text/plain": [
       "   B  C  D\n",
       "0  1  4  7\n",
       "1  2  5  8\n",
       "2  3  6  9"
      ]
     },
     "metadata": {},
     "output_type": "display_data"
    }
   ],
   "source": [
    "display(df1)\n",
    "display(df2)"
   ]
  },
  {
   "cell_type": "code",
   "execution_count": 725,
   "id": "01a39e6c-7b73-4158-9080-c2e99d4dc1a9",
   "metadata": {},
   "outputs": [
    {
     "data": {
      "text/html": [
       "<div>\n",
       "<style scoped>\n",
       "    .dataframe tbody tr th:only-of-type {\n",
       "        vertical-align: middle;\n",
       "    }\n",
       "\n",
       "    .dataframe tbody tr th {\n",
       "        vertical-align: top;\n",
       "    }\n",
       "\n",
       "    .dataframe thead th {\n",
       "        text-align: right;\n",
       "    }\n",
       "</style>\n",
       "<table border=\"1\" class=\"dataframe\">\n",
       "  <thead>\n",
       "    <tr style=\"text-align: right;\">\n",
       "      <th></th>\n",
       "      <th>A</th>\n",
       "      <th>B</th>\n",
       "      <th>C</th>\n",
       "      <th>D</th>\n",
       "    </tr>\n",
       "  </thead>\n",
       "  <tbody>\n",
       "    <tr>\n",
       "      <th>0</th>\n",
       "      <td>1.0</td>\n",
       "      <td>4</td>\n",
       "      <td>7</td>\n",
       "      <td>NaN</td>\n",
       "    </tr>\n",
       "    <tr>\n",
       "      <th>1</th>\n",
       "      <td>2.0</td>\n",
       "      <td>5</td>\n",
       "      <td>8</td>\n",
       "      <td>NaN</td>\n",
       "    </tr>\n",
       "    <tr>\n",
       "      <th>2</th>\n",
       "      <td>3.0</td>\n",
       "      <td>6</td>\n",
       "      <td>9</td>\n",
       "      <td>NaN</td>\n",
       "    </tr>\n",
       "    <tr>\n",
       "      <th>0</th>\n",
       "      <td>NaN</td>\n",
       "      <td>1</td>\n",
       "      <td>4</td>\n",
       "      <td>7.0</td>\n",
       "    </tr>\n",
       "    <tr>\n",
       "      <th>1</th>\n",
       "      <td>NaN</td>\n",
       "      <td>2</td>\n",
       "      <td>5</td>\n",
       "      <td>8.0</td>\n",
       "    </tr>\n",
       "    <tr>\n",
       "      <th>2</th>\n",
       "      <td>NaN</td>\n",
       "      <td>3</td>\n",
       "      <td>6</td>\n",
       "      <td>9.0</td>\n",
       "    </tr>\n",
       "  </tbody>\n",
       "</table>\n",
       "</div>"
      ],
      "text/plain": [
       "     A  B  C    D\n",
       "0  1.0  4  7  NaN\n",
       "1  2.0  5  8  NaN\n",
       "2  3.0  6  9  NaN\n",
       "0  NaN  1  4  7.0\n",
       "1  NaN  2  5  8.0\n",
       "2  NaN  3  6  9.0"
      ]
     },
     "execution_count": 725,
     "metadata": {},
     "output_type": "execute_result"
    }
   ],
   "source": [
    "# os indices se repetem\n",
    "df3"
   ]
  },
  {
   "cell_type": "code",
   "execution_count": 727,
   "id": "9256977f-5e9c-4f27-a0b4-f62ad759544d",
   "metadata": {},
   "outputs": [
    {
     "data": {
      "text/html": [
       "<div>\n",
       "<style scoped>\n",
       "    .dataframe tbody tr th:only-of-type {\n",
       "        vertical-align: middle;\n",
       "    }\n",
       "\n",
       "    .dataframe tbody tr th {\n",
       "        vertical-align: top;\n",
       "    }\n",
       "\n",
       "    .dataframe thead th {\n",
       "        text-align: right;\n",
       "    }\n",
       "</style>\n",
       "<table border=\"1\" class=\"dataframe\">\n",
       "  <thead>\n",
       "    <tr style=\"text-align: right;\">\n",
       "      <th></th>\n",
       "      <th>index</th>\n",
       "      <th>A</th>\n",
       "      <th>B</th>\n",
       "      <th>C</th>\n",
       "      <th>D</th>\n",
       "    </tr>\n",
       "  </thead>\n",
       "  <tbody>\n",
       "    <tr>\n",
       "      <th>0</th>\n",
       "      <td>0</td>\n",
       "      <td>1.0</td>\n",
       "      <td>4</td>\n",
       "      <td>7</td>\n",
       "      <td>NaN</td>\n",
       "    </tr>\n",
       "    <tr>\n",
       "      <th>1</th>\n",
       "      <td>1</td>\n",
       "      <td>2.0</td>\n",
       "      <td>5</td>\n",
       "      <td>8</td>\n",
       "      <td>NaN</td>\n",
       "    </tr>\n",
       "    <tr>\n",
       "      <th>2</th>\n",
       "      <td>2</td>\n",
       "      <td>3.0</td>\n",
       "      <td>6</td>\n",
       "      <td>9</td>\n",
       "      <td>NaN</td>\n",
       "    </tr>\n",
       "    <tr>\n",
       "      <th>3</th>\n",
       "      <td>0</td>\n",
       "      <td>NaN</td>\n",
       "      <td>1</td>\n",
       "      <td>4</td>\n",
       "      <td>7.0</td>\n",
       "    </tr>\n",
       "    <tr>\n",
       "      <th>4</th>\n",
       "      <td>1</td>\n",
       "      <td>NaN</td>\n",
       "      <td>2</td>\n",
       "      <td>5</td>\n",
       "      <td>8.0</td>\n",
       "    </tr>\n",
       "    <tr>\n",
       "      <th>5</th>\n",
       "      <td>2</td>\n",
       "      <td>NaN</td>\n",
       "      <td>3</td>\n",
       "      <td>6</td>\n",
       "      <td>9.0</td>\n",
       "    </tr>\n",
       "  </tbody>\n",
       "</table>\n",
       "</div>"
      ],
      "text/plain": [
       "   index    A  B  C    D\n",
       "0      0  1.0  4  7  NaN\n",
       "1      1  2.0  5  8  NaN\n",
       "2      2  3.0  6  9  NaN\n",
       "3      0  NaN  1  4  7.0\n",
       "4      1  NaN  2  5  8.0\n",
       "5      2  NaN  3  6  9.0"
      ]
     },
     "execution_count": 727,
     "metadata": {},
     "output_type": "execute_result"
    }
   ],
   "source": [
    "df3.reset_index()"
   ]
  },
  {
   "cell_type": "code",
   "execution_count": 728,
   "id": "91b5e53f-0535-47f9-ac44-9f0ed06f2e24",
   "metadata": {},
   "outputs": [
    {
     "data": {
      "text/html": [
       "<div>\n",
       "<style scoped>\n",
       "    .dataframe tbody tr th:only-of-type {\n",
       "        vertical-align: middle;\n",
       "    }\n",
       "\n",
       "    .dataframe tbody tr th {\n",
       "        vertical-align: top;\n",
       "    }\n",
       "\n",
       "    .dataframe thead th {\n",
       "        text-align: right;\n",
       "    }\n",
       "</style>\n",
       "<table border=\"1\" class=\"dataframe\">\n",
       "  <thead>\n",
       "    <tr style=\"text-align: right;\">\n",
       "      <th></th>\n",
       "      <th>A</th>\n",
       "      <th>B</th>\n",
       "      <th>C</th>\n",
       "      <th>D</th>\n",
       "    </tr>\n",
       "  </thead>\n",
       "  <tbody>\n",
       "    <tr>\n",
       "      <th>0</th>\n",
       "      <td>1.0</td>\n",
       "      <td>4</td>\n",
       "      <td>7</td>\n",
       "      <td>NaN</td>\n",
       "    </tr>\n",
       "    <tr>\n",
       "      <th>1</th>\n",
       "      <td>2.0</td>\n",
       "      <td>5</td>\n",
       "      <td>8</td>\n",
       "      <td>NaN</td>\n",
       "    </tr>\n",
       "    <tr>\n",
       "      <th>2</th>\n",
       "      <td>3.0</td>\n",
       "      <td>6</td>\n",
       "      <td>9</td>\n",
       "      <td>NaN</td>\n",
       "    </tr>\n",
       "    <tr>\n",
       "      <th>3</th>\n",
       "      <td>NaN</td>\n",
       "      <td>1</td>\n",
       "      <td>4</td>\n",
       "      <td>7.0</td>\n",
       "    </tr>\n",
       "    <tr>\n",
       "      <th>4</th>\n",
       "      <td>NaN</td>\n",
       "      <td>2</td>\n",
       "      <td>5</td>\n",
       "      <td>8.0</td>\n",
       "    </tr>\n",
       "    <tr>\n",
       "      <th>5</th>\n",
       "      <td>NaN</td>\n",
       "      <td>3</td>\n",
       "      <td>6</td>\n",
       "      <td>9.0</td>\n",
       "    </tr>\n",
       "  </tbody>\n",
       "</table>\n",
       "</div>"
      ],
      "text/plain": [
       "     A  B  C    D\n",
       "0  1.0  4  7  NaN\n",
       "1  2.0  5  8  NaN\n",
       "2  3.0  6  9  NaN\n",
       "3  NaN  1  4  7.0\n",
       "4  NaN  2  5  8.0\n",
       "5  NaN  3  6  9.0"
      ]
     },
     "execution_count": 728,
     "metadata": {},
     "output_type": "execute_result"
    }
   ],
   "source": [
    "df3.reset_index(drop = True)"
   ]
  },
  {
   "cell_type": "code",
   "execution_count": 730,
   "id": "a89005a6-9a77-4d28-88fd-e775daf802f4",
   "metadata": {},
   "outputs": [],
   "source": [
    "df4 = pd.concat([df1, df2], axis = 1)"
   ]
  },
  {
   "cell_type": "code",
   "execution_count": 731,
   "id": "f711036d-777b-42a4-9dc3-8e940908a04d",
   "metadata": {},
   "outputs": [
    {
     "data": {
      "text/plain": [
       "0    1\n",
       "1    2\n",
       "2    3\n",
       "Name: A, dtype: int64"
      ]
     },
     "execution_count": 731,
     "metadata": {},
     "output_type": "execute_result"
    }
   ],
   "source": [
    "df4['A']"
   ]
  },
  {
   "cell_type": "code",
   "execution_count": 732,
   "id": "659cbe59-e115-4df7-892d-8f241d2394b3",
   "metadata": {},
   "outputs": [
    {
     "data": {
      "text/html": [
       "<div>\n",
       "<style scoped>\n",
       "    .dataframe tbody tr th:only-of-type {\n",
       "        vertical-align: middle;\n",
       "    }\n",
       "\n",
       "    .dataframe tbody tr th {\n",
       "        vertical-align: top;\n",
       "    }\n",
       "\n",
       "    .dataframe thead th {\n",
       "        text-align: right;\n",
       "    }\n",
       "</style>\n",
       "<table border=\"1\" class=\"dataframe\">\n",
       "  <thead>\n",
       "    <tr style=\"text-align: right;\">\n",
       "      <th></th>\n",
       "      <th>B</th>\n",
       "      <th>B</th>\n",
       "    </tr>\n",
       "  </thead>\n",
       "  <tbody>\n",
       "    <tr>\n",
       "      <th>0</th>\n",
       "      <td>4</td>\n",
       "      <td>1</td>\n",
       "    </tr>\n",
       "    <tr>\n",
       "      <th>1</th>\n",
       "      <td>5</td>\n",
       "      <td>2</td>\n",
       "    </tr>\n",
       "    <tr>\n",
       "      <th>2</th>\n",
       "      <td>6</td>\n",
       "      <td>3</td>\n",
       "    </tr>\n",
       "  </tbody>\n",
       "</table>\n",
       "</div>"
      ],
      "text/plain": [
       "   B  B\n",
       "0  4  1\n",
       "1  5  2\n",
       "2  6  3"
      ]
     },
     "execution_count": 732,
     "metadata": {},
     "output_type": "execute_result"
    }
   ],
   "source": [
    "df4['B']"
   ]
  },
  {
   "cell_type": "code",
   "execution_count": 733,
   "id": "130eb4a2-4893-440f-813f-62b9e74fd292",
   "metadata": {},
   "outputs": [],
   "source": [
    "df1.columns = [f'{col}_df1' for col in df1.columns]"
   ]
  },
  {
   "cell_type": "code",
   "execution_count": 734,
   "id": "9f2158ec-81b8-4558-b0a7-a91c83db8a82",
   "metadata": {},
   "outputs": [
    {
     "data": {
      "text/html": [
       "<div>\n",
       "<style scoped>\n",
       "    .dataframe tbody tr th:only-of-type {\n",
       "        vertical-align: middle;\n",
       "    }\n",
       "\n",
       "    .dataframe tbody tr th {\n",
       "        vertical-align: top;\n",
       "    }\n",
       "\n",
       "    .dataframe thead th {\n",
       "        text-align: right;\n",
       "    }\n",
       "</style>\n",
       "<table border=\"1\" class=\"dataframe\">\n",
       "  <thead>\n",
       "    <tr style=\"text-align: right;\">\n",
       "      <th></th>\n",
       "      <th>A_df1</th>\n",
       "      <th>B_df1</th>\n",
       "      <th>C_df1</th>\n",
       "    </tr>\n",
       "  </thead>\n",
       "  <tbody>\n",
       "    <tr>\n",
       "      <th>0</th>\n",
       "      <td>1</td>\n",
       "      <td>4</td>\n",
       "      <td>7</td>\n",
       "    </tr>\n",
       "    <tr>\n",
       "      <th>1</th>\n",
       "      <td>2</td>\n",
       "      <td>5</td>\n",
       "      <td>8</td>\n",
       "    </tr>\n",
       "    <tr>\n",
       "      <th>2</th>\n",
       "      <td>3</td>\n",
       "      <td>6</td>\n",
       "      <td>9</td>\n",
       "    </tr>\n",
       "  </tbody>\n",
       "</table>\n",
       "</div>"
      ],
      "text/plain": [
       "   A_df1  B_df1  C_df1\n",
       "0      1      4      7\n",
       "1      2      5      8\n",
       "2      3      6      9"
      ]
     },
     "execution_count": 734,
     "metadata": {},
     "output_type": "execute_result"
    }
   ],
   "source": [
    "df1"
   ]
  },
  {
   "cell_type": "code",
   "execution_count": 735,
   "id": "3d09a751-5cf4-4089-bfee-cfab676901c2",
   "metadata": {},
   "outputs": [
    {
     "data": {
      "text/html": [
       "<div>\n",
       "<style scoped>\n",
       "    .dataframe tbody tr th:only-of-type {\n",
       "        vertical-align: middle;\n",
       "    }\n",
       "\n",
       "    .dataframe tbody tr th {\n",
       "        vertical-align: top;\n",
       "    }\n",
       "\n",
       "    .dataframe thead th {\n",
       "        text-align: right;\n",
       "    }\n",
       "</style>\n",
       "<table border=\"1\" class=\"dataframe\">\n",
       "  <thead>\n",
       "    <tr style=\"text-align: right;\">\n",
       "      <th></th>\n",
       "      <th>A_df1</th>\n",
       "      <th>B_df1</th>\n",
       "      <th>C_df1</th>\n",
       "      <th>B</th>\n",
       "      <th>C</th>\n",
       "      <th>D</th>\n",
       "    </tr>\n",
       "  </thead>\n",
       "  <tbody>\n",
       "    <tr>\n",
       "      <th>0</th>\n",
       "      <td>1</td>\n",
       "      <td>4</td>\n",
       "      <td>7</td>\n",
       "      <td>1</td>\n",
       "      <td>4</td>\n",
       "      <td>7</td>\n",
       "    </tr>\n",
       "    <tr>\n",
       "      <th>1</th>\n",
       "      <td>2</td>\n",
       "      <td>5</td>\n",
       "      <td>8</td>\n",
       "      <td>2</td>\n",
       "      <td>5</td>\n",
       "      <td>8</td>\n",
       "    </tr>\n",
       "    <tr>\n",
       "      <th>2</th>\n",
       "      <td>3</td>\n",
       "      <td>6</td>\n",
       "      <td>9</td>\n",
       "      <td>3</td>\n",
       "      <td>6</td>\n",
       "      <td>9</td>\n",
       "    </tr>\n",
       "  </tbody>\n",
       "</table>\n",
       "</div>"
      ],
      "text/plain": [
       "   A_df1  B_df1  C_df1  B  C  D\n",
       "0      1      4      7  1  4  7\n",
       "1      2      5      8  2  5  8\n",
       "2      3      6      9  3  6  9"
      ]
     },
     "execution_count": 735,
     "metadata": {},
     "output_type": "execute_result"
    }
   ],
   "source": [
    "pd.concat([df1,df2], axis = 1)"
   ]
  },
  {
   "cell_type": "code",
   "execution_count": 737,
   "id": "85e749a8-181c-4b4e-b9da-b35bc516ec29",
   "metadata": {},
   "outputs": [],
   "source": [
    "df5 = pd.DataFrame(\n",
    "                    {\n",
    "                        'A': [1,2,3],\n",
    "                        'B': [4,5,6],\n",
    "                        'C': [7,8,9]\n",
    "                    })\n",
    "df6 = pd.DataFrame(\n",
    "                    {\n",
    "                        'B': [1,2,3,6],\n",
    "                        'C': [4,5,6,9],\n",
    "                        'D': [7,8,9,10]\n",
    "                    })"
   ]
  },
  {
   "cell_type": "code",
   "execution_count": 738,
   "id": "d2bc07bf-3741-4ef9-91cb-5728794bb1a4",
   "metadata": {},
   "outputs": [
    {
     "data": {
      "text/html": [
       "<div>\n",
       "<style scoped>\n",
       "    .dataframe tbody tr th:only-of-type {\n",
       "        vertical-align: middle;\n",
       "    }\n",
       "\n",
       "    .dataframe tbody tr th {\n",
       "        vertical-align: top;\n",
       "    }\n",
       "\n",
       "    .dataframe thead th {\n",
       "        text-align: right;\n",
       "    }\n",
       "</style>\n",
       "<table border=\"1\" class=\"dataframe\">\n",
       "  <thead>\n",
       "    <tr style=\"text-align: right;\">\n",
       "      <th></th>\n",
       "      <th>A</th>\n",
       "      <th>B</th>\n",
       "      <th>C</th>\n",
       "    </tr>\n",
       "  </thead>\n",
       "  <tbody>\n",
       "    <tr>\n",
       "      <th>0</th>\n",
       "      <td>1</td>\n",
       "      <td>4</td>\n",
       "      <td>7</td>\n",
       "    </tr>\n",
       "    <tr>\n",
       "      <th>1</th>\n",
       "      <td>2</td>\n",
       "      <td>5</td>\n",
       "      <td>8</td>\n",
       "    </tr>\n",
       "    <tr>\n",
       "      <th>2</th>\n",
       "      <td>3</td>\n",
       "      <td>6</td>\n",
       "      <td>9</td>\n",
       "    </tr>\n",
       "  </tbody>\n",
       "</table>\n",
       "</div>"
      ],
      "text/plain": [
       "   A  B  C\n",
       "0  1  4  7\n",
       "1  2  5  8\n",
       "2  3  6  9"
      ]
     },
     "metadata": {},
     "output_type": "display_data"
    },
    {
     "data": {
      "text/html": [
       "<div>\n",
       "<style scoped>\n",
       "    .dataframe tbody tr th:only-of-type {\n",
       "        vertical-align: middle;\n",
       "    }\n",
       "\n",
       "    .dataframe tbody tr th {\n",
       "        vertical-align: top;\n",
       "    }\n",
       "\n",
       "    .dataframe thead th {\n",
       "        text-align: right;\n",
       "    }\n",
       "</style>\n",
       "<table border=\"1\" class=\"dataframe\">\n",
       "  <thead>\n",
       "    <tr style=\"text-align: right;\">\n",
       "      <th></th>\n",
       "      <th>B</th>\n",
       "      <th>C</th>\n",
       "      <th>D</th>\n",
       "    </tr>\n",
       "  </thead>\n",
       "  <tbody>\n",
       "    <tr>\n",
       "      <th>0</th>\n",
       "      <td>1</td>\n",
       "      <td>4</td>\n",
       "      <td>7</td>\n",
       "    </tr>\n",
       "    <tr>\n",
       "      <th>1</th>\n",
       "      <td>2</td>\n",
       "      <td>5</td>\n",
       "      <td>8</td>\n",
       "    </tr>\n",
       "    <tr>\n",
       "      <th>2</th>\n",
       "      <td>3</td>\n",
       "      <td>6</td>\n",
       "      <td>9</td>\n",
       "    </tr>\n",
       "    <tr>\n",
       "      <th>3</th>\n",
       "      <td>6</td>\n",
       "      <td>9</td>\n",
       "      <td>10</td>\n",
       "    </tr>\n",
       "  </tbody>\n",
       "</table>\n",
       "</div>"
      ],
      "text/plain": [
       "   B  C   D\n",
       "0  1  4   7\n",
       "1  2  5   8\n",
       "2  3  6   9\n",
       "3  6  9  10"
      ]
     },
     "metadata": {},
     "output_type": "display_data"
    }
   ],
   "source": [
    "display(df5)\n",
    "display(df6)"
   ]
  },
  {
   "cell_type": "code",
   "execution_count": 739,
   "id": "46b64166-5ca3-4106-8a44-9002955f96bd",
   "metadata": {},
   "outputs": [
    {
     "data": {
      "text/html": [
       "<div>\n",
       "<style scoped>\n",
       "    .dataframe tbody tr th:only-of-type {\n",
       "        vertical-align: middle;\n",
       "    }\n",
       "\n",
       "    .dataframe tbody tr th {\n",
       "        vertical-align: top;\n",
       "    }\n",
       "\n",
       "    .dataframe thead th {\n",
       "        text-align: right;\n",
       "    }\n",
       "</style>\n",
       "<table border=\"1\" class=\"dataframe\">\n",
       "  <thead>\n",
       "    <tr style=\"text-align: right;\">\n",
       "      <th></th>\n",
       "      <th>A</th>\n",
       "      <th>B</th>\n",
       "      <th>C</th>\n",
       "      <th>B</th>\n",
       "      <th>C</th>\n",
       "      <th>D</th>\n",
       "    </tr>\n",
       "  </thead>\n",
       "  <tbody>\n",
       "    <tr>\n",
       "      <th>0</th>\n",
       "      <td>1.0</td>\n",
       "      <td>4.0</td>\n",
       "      <td>7.0</td>\n",
       "      <td>1</td>\n",
       "      <td>4</td>\n",
       "      <td>7</td>\n",
       "    </tr>\n",
       "    <tr>\n",
       "      <th>1</th>\n",
       "      <td>2.0</td>\n",
       "      <td>5.0</td>\n",
       "      <td>8.0</td>\n",
       "      <td>2</td>\n",
       "      <td>5</td>\n",
       "      <td>8</td>\n",
       "    </tr>\n",
       "    <tr>\n",
       "      <th>2</th>\n",
       "      <td>3.0</td>\n",
       "      <td>6.0</td>\n",
       "      <td>9.0</td>\n",
       "      <td>3</td>\n",
       "      <td>6</td>\n",
       "      <td>9</td>\n",
       "    </tr>\n",
       "    <tr>\n",
       "      <th>3</th>\n",
       "      <td>NaN</td>\n",
       "      <td>NaN</td>\n",
       "      <td>NaN</td>\n",
       "      <td>6</td>\n",
       "      <td>9</td>\n",
       "      <td>10</td>\n",
       "    </tr>\n",
       "  </tbody>\n",
       "</table>\n",
       "</div>"
      ],
      "text/plain": [
       "     A    B    C  B  C   D\n",
       "0  1.0  4.0  7.0  1  4   7\n",
       "1  2.0  5.0  8.0  2  5   8\n",
       "2  3.0  6.0  9.0  3  6   9\n",
       "3  NaN  NaN  NaN  6  9  10"
      ]
     },
     "execution_count": 739,
     "metadata": {},
     "output_type": "execute_result"
    }
   ],
   "source": [
    "pd.concat([df5, df6], axis=1)"
   ]
  },
  {
   "cell_type": "markdown",
   "id": "08de2f2e-fefc-403b-b088-043db1ffba58",
   "metadata": {},
   "source": [
    "### Merge (join)\n",
    "\n",
    "Outra tarefa muito comum quando estamos trabalhando com bases de dados é o **cruzamento**\n",
    "\n",
    "Para fazer isso, utilizamos o método **.merge()**, cujos modos de cruzamento são:\n",
    "\n",
    "<img src=\"https://community.qlik.com/legacyfs/online/87693_all-joins.png\" width=450>"
   ]
  },
  {
   "cell_type": "code",
   "execution_count": 742,
   "id": "ae9925a9-878a-42b6-b171-11cc839e4b89",
   "metadata": {},
   "outputs": [
    {
     "data": {
      "text/html": [
       "<div>\n",
       "<style scoped>\n",
       "    .dataframe tbody tr th:only-of-type {\n",
       "        vertical-align: middle;\n",
       "    }\n",
       "\n",
       "    .dataframe tbody tr th {\n",
       "        vertical-align: top;\n",
       "    }\n",
       "\n",
       "    .dataframe thead th {\n",
       "        text-align: right;\n",
       "    }\n",
       "</style>\n",
       "<table border=\"1\" class=\"dataframe\">\n",
       "  <thead>\n",
       "    <tr style=\"text-align: right;\">\n",
       "      <th></th>\n",
       "      <th>Paises</th>\n",
       "      <th>valor1</th>\n",
       "      <th>valor2</th>\n",
       "    </tr>\n",
       "  </thead>\n",
       "  <tbody>\n",
       "    <tr>\n",
       "      <th>0</th>\n",
       "      <td>Br</td>\n",
       "      <td>1</td>\n",
       "      <td>3</td>\n",
       "    </tr>\n",
       "    <tr>\n",
       "      <th>1</th>\n",
       "      <td>Pt</td>\n",
       "      <td>2</td>\n",
       "      <td>4</td>\n",
       "    </tr>\n",
       "    <tr>\n",
       "      <th>2</th>\n",
       "      <td>It</td>\n",
       "      <td>3</td>\n",
       "      <td>5</td>\n",
       "    </tr>\n",
       "  </tbody>\n",
       "</table>\n",
       "</div>"
      ],
      "text/plain": [
       "  Paises  valor1  valor2\n",
       "0     Br       1       3\n",
       "1     Pt       2       4\n",
       "2     It       3       5"
      ]
     },
     "metadata": {},
     "output_type": "display_data"
    },
    {
     "data": {
      "text/html": [
       "<div>\n",
       "<style scoped>\n",
       "    .dataframe tbody tr th:only-of-type {\n",
       "        vertical-align: middle;\n",
       "    }\n",
       "\n",
       "    .dataframe tbody tr th {\n",
       "        vertical-align: top;\n",
       "    }\n",
       "\n",
       "    .dataframe thead th {\n",
       "        text-align: right;\n",
       "    }\n",
       "</style>\n",
       "<table border=\"1\" class=\"dataframe\">\n",
       "  <thead>\n",
       "    <tr style=\"text-align: right;\">\n",
       "      <th></th>\n",
       "      <th>Paises</th>\n",
       "      <th>valor3</th>\n",
       "      <th>valor4</th>\n",
       "    </tr>\n",
       "  </thead>\n",
       "  <tbody>\n",
       "    <tr>\n",
       "      <th>0</th>\n",
       "      <td>Br</td>\n",
       "      <td>1</td>\n",
       "      <td>3</td>\n",
       "    </tr>\n",
       "    <tr>\n",
       "      <th>1</th>\n",
       "      <td>Pt</td>\n",
       "      <td>2</td>\n",
       "      <td>4</td>\n",
       "    </tr>\n",
       "    <tr>\n",
       "      <th>2</th>\n",
       "      <td>Py</td>\n",
       "      <td>3</td>\n",
       "      <td>5</td>\n",
       "    </tr>\n",
       "  </tbody>\n",
       "</table>\n",
       "</div>"
      ],
      "text/plain": [
       "  Paises  valor3  valor4\n",
       "0     Br       1       3\n",
       "1     Pt       2       4\n",
       "2     Py       3       5"
      ]
     },
     "metadata": {},
     "output_type": "display_data"
    }
   ],
   "source": [
    "df3 = pd.DataFrame({\n",
    "    'Paises': ['Br', 'Pt', 'It'],\n",
    "    'valor1': [1, 2, 3],\n",
    "    'valor2': [3, 4, 5]\n",
    "})\n",
    "df4 = pd.DataFrame({\n",
    "    'Paises': ['Br', 'Pt', 'Py'],\n",
    "    'valor3': [1, 2, 3],\n",
    "    'valor4': [3, 4, 5]\n",
    "})\n",
    "display(df3)\n",
    "display(df4)"
   ]
  },
  {
   "cell_type": "code",
   "execution_count": 743,
   "id": "a685063b-7b62-4a0f-adbc-551ccda83bd7",
   "metadata": {},
   "outputs": [
    {
     "data": {
      "text/html": [
       "<div>\n",
       "<style scoped>\n",
       "    .dataframe tbody tr th:only-of-type {\n",
       "        vertical-align: middle;\n",
       "    }\n",
       "\n",
       "    .dataframe tbody tr th {\n",
       "        vertical-align: top;\n",
       "    }\n",
       "\n",
       "    .dataframe thead th {\n",
       "        text-align: right;\n",
       "    }\n",
       "</style>\n",
       "<table border=\"1\" class=\"dataframe\">\n",
       "  <thead>\n",
       "    <tr style=\"text-align: right;\">\n",
       "      <th></th>\n",
       "      <th>Paises</th>\n",
       "      <th>valor1</th>\n",
       "      <th>valor2</th>\n",
       "      <th>valor3</th>\n",
       "      <th>valor4</th>\n",
       "    </tr>\n",
       "  </thead>\n",
       "  <tbody>\n",
       "    <tr>\n",
       "      <th>0</th>\n",
       "      <td>Br</td>\n",
       "      <td>1</td>\n",
       "      <td>3</td>\n",
       "      <td>1</td>\n",
       "      <td>3</td>\n",
       "    </tr>\n",
       "    <tr>\n",
       "      <th>1</th>\n",
       "      <td>Pt</td>\n",
       "      <td>2</td>\n",
       "      <td>4</td>\n",
       "      <td>2</td>\n",
       "      <td>4</td>\n",
       "    </tr>\n",
       "  </tbody>\n",
       "</table>\n",
       "</div>"
      ],
      "text/plain": [
       "  Paises  valor1  valor2  valor3  valor4\n",
       "0     Br       1       3       1       3\n",
       "1     Pt       2       4       2       4"
      ]
     },
     "execution_count": 743,
     "metadata": {},
     "output_type": "execute_result"
    }
   ],
   "source": [
    "# Cruzando os dados da coluna `\"Paises\"` com o modo `inner`\n",
    "\n",
    "df3.merge(df4, how='inner', on='Paises')"
   ]
  },
  {
   "cell_type": "code",
   "execution_count": 744,
   "id": "421bbd3c-f822-4af4-8aee-eeb39c254bf5",
   "metadata": {},
   "outputs": [
    {
     "data": {
      "text/html": [
       "<div>\n",
       "<style scoped>\n",
       "    .dataframe tbody tr th:only-of-type {\n",
       "        vertical-align: middle;\n",
       "    }\n",
       "\n",
       "    .dataframe tbody tr th {\n",
       "        vertical-align: top;\n",
       "    }\n",
       "\n",
       "    .dataframe thead th {\n",
       "        text-align: right;\n",
       "    }\n",
       "</style>\n",
       "<table border=\"1\" class=\"dataframe\">\n",
       "  <thead>\n",
       "    <tr style=\"text-align: right;\">\n",
       "      <th></th>\n",
       "      <th>Paises</th>\n",
       "      <th>valor1</th>\n",
       "      <th>valor2</th>\n",
       "      <th>valor3</th>\n",
       "      <th>valor4</th>\n",
       "    </tr>\n",
       "  </thead>\n",
       "  <tbody>\n",
       "    <tr>\n",
       "      <th>0</th>\n",
       "      <td>Br</td>\n",
       "      <td>1</td>\n",
       "      <td>3</td>\n",
       "      <td>1.0</td>\n",
       "      <td>3.0</td>\n",
       "    </tr>\n",
       "    <tr>\n",
       "      <th>1</th>\n",
       "      <td>Pt</td>\n",
       "      <td>2</td>\n",
       "      <td>4</td>\n",
       "      <td>2.0</td>\n",
       "      <td>4.0</td>\n",
       "    </tr>\n",
       "    <tr>\n",
       "      <th>2</th>\n",
       "      <td>It</td>\n",
       "      <td>3</td>\n",
       "      <td>5</td>\n",
       "      <td>NaN</td>\n",
       "      <td>NaN</td>\n",
       "    </tr>\n",
       "  </tbody>\n",
       "</table>\n",
       "</div>"
      ],
      "text/plain": [
       "  Paises  valor1  valor2  valor3  valor4\n",
       "0     Br       1       3     1.0     3.0\n",
       "1     Pt       2       4     2.0     4.0\n",
       "2     It       3       5     NaN     NaN"
      ]
     },
     "execution_count": 744,
     "metadata": {},
     "output_type": "execute_result"
    }
   ],
   "source": [
    "df3.merge(df4, how='left', on='Paises')"
   ]
  },
  {
   "cell_type": "code",
   "execution_count": 745,
   "id": "48441e97-75ce-44a0-bc09-5d93da64dcec",
   "metadata": {},
   "outputs": [
    {
     "data": {
      "text/html": [
       "<div>\n",
       "<style scoped>\n",
       "    .dataframe tbody tr th:only-of-type {\n",
       "        vertical-align: middle;\n",
       "    }\n",
       "\n",
       "    .dataframe tbody tr th {\n",
       "        vertical-align: top;\n",
       "    }\n",
       "\n",
       "    .dataframe thead th {\n",
       "        text-align: right;\n",
       "    }\n",
       "</style>\n",
       "<table border=\"1\" class=\"dataframe\">\n",
       "  <thead>\n",
       "    <tr style=\"text-align: right;\">\n",
       "      <th></th>\n",
       "      <th>Paises</th>\n",
       "      <th>valor3</th>\n",
       "      <th>valor4</th>\n",
       "      <th>valor1</th>\n",
       "      <th>valor2</th>\n",
       "    </tr>\n",
       "  </thead>\n",
       "  <tbody>\n",
       "    <tr>\n",
       "      <th>0</th>\n",
       "      <td>Br</td>\n",
       "      <td>1</td>\n",
       "      <td>3</td>\n",
       "      <td>1.0</td>\n",
       "      <td>3.0</td>\n",
       "    </tr>\n",
       "    <tr>\n",
       "      <th>1</th>\n",
       "      <td>Pt</td>\n",
       "      <td>2</td>\n",
       "      <td>4</td>\n",
       "      <td>2.0</td>\n",
       "      <td>4.0</td>\n",
       "    </tr>\n",
       "    <tr>\n",
       "      <th>2</th>\n",
       "      <td>Py</td>\n",
       "      <td>3</td>\n",
       "      <td>5</td>\n",
       "      <td>NaN</td>\n",
       "      <td>NaN</td>\n",
       "    </tr>\n",
       "  </tbody>\n",
       "</table>\n",
       "</div>"
      ],
      "text/plain": [
       "  Paises  valor3  valor4  valor1  valor2\n",
       "0     Br       1       3     1.0     3.0\n",
       "1     Pt       2       4     2.0     4.0\n",
       "2     Py       3       5     NaN     NaN"
      ]
     },
     "execution_count": 745,
     "metadata": {},
     "output_type": "execute_result"
    }
   ],
   "source": [
    "df4.merge(df3, how='left', on='Paises')"
   ]
  },
  {
   "cell_type": "code",
   "execution_count": 746,
   "id": "d7437a1f-11ec-4a40-b5d7-ef6eced612fc",
   "metadata": {},
   "outputs": [
    {
     "data": {
      "text/html": [
       "<div>\n",
       "<style scoped>\n",
       "    .dataframe tbody tr th:only-of-type {\n",
       "        vertical-align: middle;\n",
       "    }\n",
       "\n",
       "    .dataframe tbody tr th {\n",
       "        vertical-align: top;\n",
       "    }\n",
       "\n",
       "    .dataframe thead th {\n",
       "        text-align: right;\n",
       "    }\n",
       "</style>\n",
       "<table border=\"1\" class=\"dataframe\">\n",
       "  <thead>\n",
       "    <tr style=\"text-align: right;\">\n",
       "      <th></th>\n",
       "      <th>Paises</th>\n",
       "      <th>valor1</th>\n",
       "      <th>valor2</th>\n",
       "      <th>valor3</th>\n",
       "      <th>valor4</th>\n",
       "    </tr>\n",
       "  </thead>\n",
       "  <tbody>\n",
       "    <tr>\n",
       "      <th>0</th>\n",
       "      <td>Br</td>\n",
       "      <td>1.0</td>\n",
       "      <td>3.0</td>\n",
       "      <td>1</td>\n",
       "      <td>3</td>\n",
       "    </tr>\n",
       "    <tr>\n",
       "      <th>1</th>\n",
       "      <td>Pt</td>\n",
       "      <td>2.0</td>\n",
       "      <td>4.0</td>\n",
       "      <td>2</td>\n",
       "      <td>4</td>\n",
       "    </tr>\n",
       "    <tr>\n",
       "      <th>2</th>\n",
       "      <td>Py</td>\n",
       "      <td>NaN</td>\n",
       "      <td>NaN</td>\n",
       "      <td>3</td>\n",
       "      <td>5</td>\n",
       "    </tr>\n",
       "  </tbody>\n",
       "</table>\n",
       "</div>"
      ],
      "text/plain": [
       "  Paises  valor1  valor2  valor3  valor4\n",
       "0     Br     1.0     3.0       1       3\n",
       "1     Pt     2.0     4.0       2       4\n",
       "2     Py     NaN     NaN       3       5"
      ]
     },
     "execution_count": 746,
     "metadata": {},
     "output_type": "execute_result"
    }
   ],
   "source": [
    "df3.merge(df4, how='right', on='Paises')"
   ]
  },
  {
   "cell_type": "code",
   "execution_count": 747,
   "id": "c85ab1b8-c11b-4fc1-af8d-628025411805",
   "metadata": {},
   "outputs": [
    {
     "data": {
      "text/html": [
       "<div>\n",
       "<style scoped>\n",
       "    .dataframe tbody tr th:only-of-type {\n",
       "        vertical-align: middle;\n",
       "    }\n",
       "\n",
       "    .dataframe tbody tr th {\n",
       "        vertical-align: top;\n",
       "    }\n",
       "\n",
       "    .dataframe thead th {\n",
       "        text-align: right;\n",
       "    }\n",
       "</style>\n",
       "<table border=\"1\" class=\"dataframe\">\n",
       "  <thead>\n",
       "    <tr style=\"text-align: right;\">\n",
       "      <th></th>\n",
       "      <th>Paises</th>\n",
       "      <th>valor1</th>\n",
       "      <th>valor2</th>\n",
       "      <th>valor3</th>\n",
       "      <th>valor4</th>\n",
       "    </tr>\n",
       "  </thead>\n",
       "  <tbody>\n",
       "    <tr>\n",
       "      <th>0</th>\n",
       "      <td>Br</td>\n",
       "      <td>1.0</td>\n",
       "      <td>3.0</td>\n",
       "      <td>1.0</td>\n",
       "      <td>3.0</td>\n",
       "    </tr>\n",
       "    <tr>\n",
       "      <th>1</th>\n",
       "      <td>Pt</td>\n",
       "      <td>2.0</td>\n",
       "      <td>4.0</td>\n",
       "      <td>2.0</td>\n",
       "      <td>4.0</td>\n",
       "    </tr>\n",
       "    <tr>\n",
       "      <th>2</th>\n",
       "      <td>It</td>\n",
       "      <td>3.0</td>\n",
       "      <td>5.0</td>\n",
       "      <td>NaN</td>\n",
       "      <td>NaN</td>\n",
       "    </tr>\n",
       "    <tr>\n",
       "      <th>3</th>\n",
       "      <td>Py</td>\n",
       "      <td>NaN</td>\n",
       "      <td>NaN</td>\n",
       "      <td>3.0</td>\n",
       "      <td>5.0</td>\n",
       "    </tr>\n",
       "  </tbody>\n",
       "</table>\n",
       "</div>"
      ],
      "text/plain": [
       "  Paises  valor1  valor2  valor3  valor4\n",
       "0     Br     1.0     3.0     1.0     3.0\n",
       "1     Pt     2.0     4.0     2.0     4.0\n",
       "2     It     3.0     5.0     NaN     NaN\n",
       "3     Py     NaN     NaN     3.0     5.0"
      ]
     },
     "execution_count": 747,
     "metadata": {},
     "output_type": "execute_result"
    }
   ],
   "source": [
    "df3.merge(df4, how='outer', on='Paises')"
   ]
  },
  {
   "cell_type": "code",
   "execution_count": null,
   "id": "a947de18-408e-4a57-85e3-7da1367d32fe",
   "metadata": {},
   "outputs": [],
   "source": [
    "df3 = pd.DataFrame({\n",
    "    'Paises': ['Br', 'Pt', 'It'],\n",
    "    'valor1': [1, 2, 3],\n",
    "    'valor2': [3, 4, 5]\n",
    "})\n",
    "df4 = pd.DataFrame({\n",
    "    'Paises': ['Br', 'Pt', 'Py'],\n",
    "    'valor3': [1, 2, 3],\n",
    "    'valor4': [3, 4, 5]\n",
    "})"
   ]
  },
  {
   "cell_type": "code",
   "execution_count": 749,
   "id": "3a4f2501-f418-4e57-a1d3-785f1ecf8ff5",
   "metadata": {},
   "outputs": [],
   "source": [
    "df3 = pd.DataFrame({\n",
    "    'Country': ['Br','Pt', 'It'],\n",
    "    'valor1': [1, 2, 3],\n",
    "    'valor2': [3, 4, 5]\n",
    "})\n",
    "\n",
    "df4 = pd.DataFrame({\n",
    "    'Paises': ['Br', 'Pt', 'Py'],\n",
    "    'valor3': [1, 2, 3],\n",
    "    'valor4': [3, 4, 5]\n",
    "})"
   ]
  },
  {
   "cell_type": "code",
   "execution_count": 750,
   "id": "12442d60-8e4b-40d2-b2a7-f191fde5d6c3",
   "metadata": {},
   "outputs": [
    {
     "data": {
      "text/html": [
       "<div>\n",
       "<style scoped>\n",
       "    .dataframe tbody tr th:only-of-type {\n",
       "        vertical-align: middle;\n",
       "    }\n",
       "\n",
       "    .dataframe tbody tr th {\n",
       "        vertical-align: top;\n",
       "    }\n",
       "\n",
       "    .dataframe thead th {\n",
       "        text-align: right;\n",
       "    }\n",
       "</style>\n",
       "<table border=\"1\" class=\"dataframe\">\n",
       "  <thead>\n",
       "    <tr style=\"text-align: right;\">\n",
       "      <th></th>\n",
       "      <th>Country</th>\n",
       "      <th>valor1</th>\n",
       "      <th>valor2</th>\n",
       "      <th>Paises</th>\n",
       "      <th>valor3</th>\n",
       "      <th>valor4</th>\n",
       "    </tr>\n",
       "  </thead>\n",
       "  <tbody>\n",
       "    <tr>\n",
       "      <th>0</th>\n",
       "      <td>Br</td>\n",
       "      <td>1</td>\n",
       "      <td>3</td>\n",
       "      <td>Br</td>\n",
       "      <td>1.0</td>\n",
       "      <td>3.0</td>\n",
       "    </tr>\n",
       "    <tr>\n",
       "      <th>1</th>\n",
       "      <td>Pt</td>\n",
       "      <td>2</td>\n",
       "      <td>4</td>\n",
       "      <td>Pt</td>\n",
       "      <td>2.0</td>\n",
       "      <td>4.0</td>\n",
       "    </tr>\n",
       "    <tr>\n",
       "      <th>2</th>\n",
       "      <td>It</td>\n",
       "      <td>3</td>\n",
       "      <td>5</td>\n",
       "      <td>NaN</td>\n",
       "      <td>NaN</td>\n",
       "      <td>NaN</td>\n",
       "    </tr>\n",
       "  </tbody>\n",
       "</table>\n",
       "</div>"
      ],
      "text/plain": [
       "  Country  valor1  valor2 Paises  valor3  valor4\n",
       "0      Br       1       3     Br     1.0     3.0\n",
       "1      Pt       2       4     Pt     2.0     4.0\n",
       "2      It       3       5    NaN     NaN     NaN"
      ]
     },
     "execution_count": 750,
     "metadata": {},
     "output_type": "execute_result"
    }
   ],
   "source": [
    "df3.merge(df4, how='left', left_on=['Country'], right_on=['Paises'])"
   ]
  },
  {
   "cell_type": "code",
   "execution_count": 751,
   "id": "5693af32-dec0-4c4e-978e-6f8d6f86a500",
   "metadata": {},
   "outputs": [
    {
     "data": {
      "text/html": [
       "<div>\n",
       "<style scoped>\n",
       "    .dataframe tbody tr th:only-of-type {\n",
       "        vertical-align: middle;\n",
       "    }\n",
       "\n",
       "    .dataframe tbody tr th {\n",
       "        vertical-align: top;\n",
       "    }\n",
       "\n",
       "    .dataframe thead th {\n",
       "        text-align: right;\n",
       "    }\n",
       "</style>\n",
       "<table border=\"1\" class=\"dataframe\">\n",
       "  <thead>\n",
       "    <tr style=\"text-align: right;\">\n",
       "      <th></th>\n",
       "      <th>Country</th>\n",
       "      <th>valor1</th>\n",
       "      <th>valor2</th>\n",
       "      <th>valor3</th>\n",
       "      <th>valor4</th>\n",
       "    </tr>\n",
       "  </thead>\n",
       "  <tbody>\n",
       "    <tr>\n",
       "      <th>0</th>\n",
       "      <td>Br</td>\n",
       "      <td>1</td>\n",
       "      <td>3</td>\n",
       "      <td>1.0</td>\n",
       "      <td>3.0</td>\n",
       "    </tr>\n",
       "    <tr>\n",
       "      <th>1</th>\n",
       "      <td>Pt</td>\n",
       "      <td>2</td>\n",
       "      <td>4</td>\n",
       "      <td>2.0</td>\n",
       "      <td>4.0</td>\n",
       "    </tr>\n",
       "    <tr>\n",
       "      <th>2</th>\n",
       "      <td>It</td>\n",
       "      <td>3</td>\n",
       "      <td>5</td>\n",
       "      <td>NaN</td>\n",
       "      <td>NaN</td>\n",
       "    </tr>\n",
       "  </tbody>\n",
       "</table>\n",
       "</div>"
      ],
      "text/plain": [
       "  Country  valor1  valor2  valor3  valor4\n",
       "0      Br       1       3     1.0     3.0\n",
       "1      Pt       2       4     2.0     4.0\n",
       "2      It       3       5     NaN     NaN"
      ]
     },
     "execution_count": 751,
     "metadata": {},
     "output_type": "execute_result"
    }
   ],
   "source": [
    "df3.merge(df4, how='left', left_on=['Country'], right_on=['Paises']).drop(columns=['Paises'])"
   ]
  },
  {
   "cell_type": "code",
   "execution_count": 754,
   "id": "84d37120-7149-4230-99a3-97a72931a02a",
   "metadata": {},
   "outputs": [],
   "source": [
    "df4 = df4.rename(columns={'Paises': 'Country'})"
   ]
  },
  {
   "cell_type": "code",
   "execution_count": 755,
   "id": "e7842ae5-4904-4134-954b-6f1ade03795d",
   "metadata": {},
   "outputs": [
    {
     "data": {
      "text/html": [
       "<div>\n",
       "<style scoped>\n",
       "    .dataframe tbody tr th:only-of-type {\n",
       "        vertical-align: middle;\n",
       "    }\n",
       "\n",
       "    .dataframe tbody tr th {\n",
       "        vertical-align: top;\n",
       "    }\n",
       "\n",
       "    .dataframe thead th {\n",
       "        text-align: right;\n",
       "    }\n",
       "</style>\n",
       "<table border=\"1\" class=\"dataframe\">\n",
       "  <thead>\n",
       "    <tr style=\"text-align: right;\">\n",
       "      <th></th>\n",
       "      <th>Country</th>\n",
       "      <th>valor1</th>\n",
       "      <th>valor2</th>\n",
       "    </tr>\n",
       "  </thead>\n",
       "  <tbody>\n",
       "    <tr>\n",
       "      <th>0</th>\n",
       "      <td>Br</td>\n",
       "      <td>1</td>\n",
       "      <td>3</td>\n",
       "    </tr>\n",
       "    <tr>\n",
       "      <th>1</th>\n",
       "      <td>Pt</td>\n",
       "      <td>2</td>\n",
       "      <td>4</td>\n",
       "    </tr>\n",
       "    <tr>\n",
       "      <th>2</th>\n",
       "      <td>It</td>\n",
       "      <td>3</td>\n",
       "      <td>5</td>\n",
       "    </tr>\n",
       "  </tbody>\n",
       "</table>\n",
       "</div>"
      ],
      "text/plain": [
       "  Country  valor1  valor2\n",
       "0      Br       1       3\n",
       "1      Pt       2       4\n",
       "2      It       3       5"
      ]
     },
     "metadata": {},
     "output_type": "display_data"
    },
    {
     "data": {
      "text/html": [
       "<div>\n",
       "<style scoped>\n",
       "    .dataframe tbody tr th:only-of-type {\n",
       "        vertical-align: middle;\n",
       "    }\n",
       "\n",
       "    .dataframe tbody tr th {\n",
       "        vertical-align: top;\n",
       "    }\n",
       "\n",
       "    .dataframe thead th {\n",
       "        text-align: right;\n",
       "    }\n",
       "</style>\n",
       "<table border=\"1\" class=\"dataframe\">\n",
       "  <thead>\n",
       "    <tr style=\"text-align: right;\">\n",
       "      <th></th>\n",
       "      <th>Country</th>\n",
       "      <th>valor3</th>\n",
       "      <th>valor4</th>\n",
       "    </tr>\n",
       "  </thead>\n",
       "  <tbody>\n",
       "    <tr>\n",
       "      <th>0</th>\n",
       "      <td>Br</td>\n",
       "      <td>1</td>\n",
       "      <td>3</td>\n",
       "    </tr>\n",
       "    <tr>\n",
       "      <th>1</th>\n",
       "      <td>Pt</td>\n",
       "      <td>2</td>\n",
       "      <td>4</td>\n",
       "    </tr>\n",
       "    <tr>\n",
       "      <th>2</th>\n",
       "      <td>Py</td>\n",
       "      <td>3</td>\n",
       "      <td>5</td>\n",
       "    </tr>\n",
       "  </tbody>\n",
       "</table>\n",
       "</div>"
      ],
      "text/plain": [
       "  Country  valor3  valor4\n",
       "0      Br       1       3\n",
       "1      Pt       2       4\n",
       "2      Py       3       5"
      ]
     },
     "metadata": {},
     "output_type": "display_data"
    }
   ],
   "source": [
    "display(df3)\n",
    "display(df4)"
   ]
  },
  {
   "cell_type": "code",
   "execution_count": 756,
   "id": "ea307978-140c-4ed7-a54b-92956f3e1a44",
   "metadata": {},
   "outputs": [
    {
     "data": {
      "text/html": [
       "<div>\n",
       "<style scoped>\n",
       "    .dataframe tbody tr th:only-of-type {\n",
       "        vertical-align: middle;\n",
       "    }\n",
       "\n",
       "    .dataframe tbody tr th {\n",
       "        vertical-align: top;\n",
       "    }\n",
       "\n",
       "    .dataframe thead th {\n",
       "        text-align: right;\n",
       "    }\n",
       "</style>\n",
       "<table border=\"1\" class=\"dataframe\">\n",
       "  <thead>\n",
       "    <tr style=\"text-align: right;\">\n",
       "      <th></th>\n",
       "      <th>Country</th>\n",
       "      <th>valor1</th>\n",
       "      <th>valor2</th>\n",
       "      <th>valor3</th>\n",
       "      <th>valor4</th>\n",
       "    </tr>\n",
       "  </thead>\n",
       "  <tbody>\n",
       "    <tr>\n",
       "      <th>0</th>\n",
       "      <td>Br</td>\n",
       "      <td>1</td>\n",
       "      <td>3</td>\n",
       "      <td>1.0</td>\n",
       "      <td>3.0</td>\n",
       "    </tr>\n",
       "    <tr>\n",
       "      <th>1</th>\n",
       "      <td>Pt</td>\n",
       "      <td>2</td>\n",
       "      <td>4</td>\n",
       "      <td>2.0</td>\n",
       "      <td>4.0</td>\n",
       "    </tr>\n",
       "    <tr>\n",
       "      <th>2</th>\n",
       "      <td>It</td>\n",
       "      <td>3</td>\n",
       "      <td>5</td>\n",
       "      <td>NaN</td>\n",
       "      <td>NaN</td>\n",
       "    </tr>\n",
       "  </tbody>\n",
       "</table>\n",
       "</div>"
      ],
      "text/plain": [
       "  Country  valor1  valor2  valor3  valor4\n",
       "0      Br       1       3     1.0     3.0\n",
       "1      Pt       2       4     2.0     4.0\n",
       "2      It       3       5     NaN     NaN"
      ]
     },
     "execution_count": 756,
     "metadata": {},
     "output_type": "execute_result"
    }
   ],
   "source": [
    "df3.merge(df4, how='left', left_on=['Country'], right_on=['Country'])"
   ]
  },
  {
   "cell_type": "code",
   "execution_count": 757,
   "id": "1fd0dfa5-4a80-4443-857b-2d439ee447dd",
   "metadata": {},
   "outputs": [],
   "source": [
    "df3 = pd.DataFrame({\n",
    "    'nome': ['João','Maria', 'Edu'],\n",
    "    'sobrenome': ['Silva','Alencar', 'Deus'],\n",
    "    'valor1': [1, 2, 3],\n",
    "    'valor2': [3, 4, 5]\n",
    "})\n",
    "\n",
    "df4 = pd.DataFrame({\n",
    "    'nome': ['João','Maria', 'Dadinho'],\n",
    "    'sobrenome': ['Silva','Alencar', 'Deus'],\n",
    "    'valor3': [1, 2, 3],\n",
    "    'valor4': [3, 4, 5]\n",
    "})"
   ]
  },
  {
   "cell_type": "code",
   "execution_count": 758,
   "id": "2b0d58a7-81ae-43a7-8205-773db3884b10",
   "metadata": {},
   "outputs": [
    {
     "data": {
      "text/html": [
       "<div>\n",
       "<style scoped>\n",
       "    .dataframe tbody tr th:only-of-type {\n",
       "        vertical-align: middle;\n",
       "    }\n",
       "\n",
       "    .dataframe tbody tr th {\n",
       "        vertical-align: top;\n",
       "    }\n",
       "\n",
       "    .dataframe thead th {\n",
       "        text-align: right;\n",
       "    }\n",
       "</style>\n",
       "<table border=\"1\" class=\"dataframe\">\n",
       "  <thead>\n",
       "    <tr style=\"text-align: right;\">\n",
       "      <th></th>\n",
       "      <th>nome</th>\n",
       "      <th>sobrenome</th>\n",
       "      <th>valor1</th>\n",
       "      <th>valor2</th>\n",
       "    </tr>\n",
       "  </thead>\n",
       "  <tbody>\n",
       "    <tr>\n",
       "      <th>0</th>\n",
       "      <td>João</td>\n",
       "      <td>Silva</td>\n",
       "      <td>1</td>\n",
       "      <td>3</td>\n",
       "    </tr>\n",
       "    <tr>\n",
       "      <th>1</th>\n",
       "      <td>Maria</td>\n",
       "      <td>Alencar</td>\n",
       "      <td>2</td>\n",
       "      <td>4</td>\n",
       "    </tr>\n",
       "    <tr>\n",
       "      <th>2</th>\n",
       "      <td>Edu</td>\n",
       "      <td>Deus</td>\n",
       "      <td>3</td>\n",
       "      <td>5</td>\n",
       "    </tr>\n",
       "  </tbody>\n",
       "</table>\n",
       "</div>"
      ],
      "text/plain": [
       "    nome sobrenome  valor1  valor2\n",
       "0   João     Silva       1       3\n",
       "1  Maria   Alencar       2       4\n",
       "2    Edu      Deus       3       5"
      ]
     },
     "metadata": {},
     "output_type": "display_data"
    },
    {
     "data": {
      "text/html": [
       "<div>\n",
       "<style scoped>\n",
       "    .dataframe tbody tr th:only-of-type {\n",
       "        vertical-align: middle;\n",
       "    }\n",
       "\n",
       "    .dataframe tbody tr th {\n",
       "        vertical-align: top;\n",
       "    }\n",
       "\n",
       "    .dataframe thead th {\n",
       "        text-align: right;\n",
       "    }\n",
       "</style>\n",
       "<table border=\"1\" class=\"dataframe\">\n",
       "  <thead>\n",
       "    <tr style=\"text-align: right;\">\n",
       "      <th></th>\n",
       "      <th>nome</th>\n",
       "      <th>sobrenome</th>\n",
       "      <th>valor3</th>\n",
       "      <th>valor4</th>\n",
       "    </tr>\n",
       "  </thead>\n",
       "  <tbody>\n",
       "    <tr>\n",
       "      <th>0</th>\n",
       "      <td>João</td>\n",
       "      <td>Silva</td>\n",
       "      <td>1</td>\n",
       "      <td>3</td>\n",
       "    </tr>\n",
       "    <tr>\n",
       "      <th>1</th>\n",
       "      <td>Maria</td>\n",
       "      <td>Alencar</td>\n",
       "      <td>2</td>\n",
       "      <td>4</td>\n",
       "    </tr>\n",
       "    <tr>\n",
       "      <th>2</th>\n",
       "      <td>Dadinho</td>\n",
       "      <td>Deus</td>\n",
       "      <td>3</td>\n",
       "      <td>5</td>\n",
       "    </tr>\n",
       "  </tbody>\n",
       "</table>\n",
       "</div>"
      ],
      "text/plain": [
       "      nome sobrenome  valor3  valor4\n",
       "0     João     Silva       1       3\n",
       "1    Maria   Alencar       2       4\n",
       "2  Dadinho      Deus       3       5"
      ]
     },
     "metadata": {},
     "output_type": "display_data"
    }
   ],
   "source": [
    "display(df3)\n",
    "display(df4)"
   ]
  },
  {
   "cell_type": "code",
   "execution_count": 759,
   "id": "505541a0-78d4-461e-a573-c5a4c740280f",
   "metadata": {},
   "outputs": [
    {
     "data": {
      "text/html": [
       "<div>\n",
       "<style scoped>\n",
       "    .dataframe tbody tr th:only-of-type {\n",
       "        vertical-align: middle;\n",
       "    }\n",
       "\n",
       "    .dataframe tbody tr th {\n",
       "        vertical-align: top;\n",
       "    }\n",
       "\n",
       "    .dataframe thead th {\n",
       "        text-align: right;\n",
       "    }\n",
       "</style>\n",
       "<table border=\"1\" class=\"dataframe\">\n",
       "  <thead>\n",
       "    <tr style=\"text-align: right;\">\n",
       "      <th></th>\n",
       "      <th>nome</th>\n",
       "      <th>sobrenome</th>\n",
       "      <th>valor1</th>\n",
       "      <th>valor2</th>\n",
       "      <th>valor3</th>\n",
       "      <th>valor4</th>\n",
       "    </tr>\n",
       "  </thead>\n",
       "  <tbody>\n",
       "    <tr>\n",
       "      <th>0</th>\n",
       "      <td>João</td>\n",
       "      <td>Silva</td>\n",
       "      <td>1</td>\n",
       "      <td>3</td>\n",
       "      <td>1</td>\n",
       "      <td>3</td>\n",
       "    </tr>\n",
       "    <tr>\n",
       "      <th>1</th>\n",
       "      <td>Maria</td>\n",
       "      <td>Alencar</td>\n",
       "      <td>2</td>\n",
       "      <td>4</td>\n",
       "      <td>2</td>\n",
       "      <td>4</td>\n",
       "    </tr>\n",
       "  </tbody>\n",
       "</table>\n",
       "</div>"
      ],
      "text/plain": [
       "    nome sobrenome  valor1  valor2  valor3  valor4\n",
       "0   João     Silva       1       3       1       3\n",
       "1  Maria   Alencar       2       4       2       4"
      ]
     },
     "execution_count": 759,
     "metadata": {},
     "output_type": "execute_result"
    }
   ],
   "source": [
    "df3.merge(df4, on=['nome', 'sobrenome'])"
   ]
  },
  {
   "cell_type": "code",
   "execution_count": 760,
   "id": "c6a5126b-58ec-4c2d-a03e-aadf8f035379",
   "metadata": {},
   "outputs": [
    {
     "data": {
      "text/html": [
       "<div>\n",
       "<style scoped>\n",
       "    .dataframe tbody tr th:only-of-type {\n",
       "        vertical-align: middle;\n",
       "    }\n",
       "\n",
       "    .dataframe tbody tr th {\n",
       "        vertical-align: top;\n",
       "    }\n",
       "\n",
       "    .dataframe thead th {\n",
       "        text-align: right;\n",
       "    }\n",
       "</style>\n",
       "<table border=\"1\" class=\"dataframe\">\n",
       "  <thead>\n",
       "    <tr style=\"text-align: right;\">\n",
       "      <th></th>\n",
       "      <th>nome</th>\n",
       "      <th>sobrenome</th>\n",
       "      <th>valor1</th>\n",
       "      <th>valor2</th>\n",
       "      <th>valor3</th>\n",
       "      <th>valor4</th>\n",
       "    </tr>\n",
       "  </thead>\n",
       "  <tbody>\n",
       "    <tr>\n",
       "      <th>0</th>\n",
       "      <td>João</td>\n",
       "      <td>Silva</td>\n",
       "      <td>1</td>\n",
       "      <td>3</td>\n",
       "      <td>1</td>\n",
       "      <td>3</td>\n",
       "    </tr>\n",
       "    <tr>\n",
       "      <th>1</th>\n",
       "      <td>Maria</td>\n",
       "      <td>Alencar</td>\n",
       "      <td>2</td>\n",
       "      <td>4</td>\n",
       "      <td>2</td>\n",
       "      <td>4</td>\n",
       "    </tr>\n",
       "  </tbody>\n",
       "</table>\n",
       "</div>"
      ],
      "text/plain": [
       "    nome sobrenome  valor1  valor2  valor3  valor4\n",
       "0   João     Silva       1       3       1       3\n",
       "1  Maria   Alencar       2       4       2       4"
      ]
     },
     "execution_count": 760,
     "metadata": {},
     "output_type": "execute_result"
    }
   ],
   "source": [
    "df3.merge(df4, left_on=['nome', 'sobrenome'], right_on=['nome', 'sobrenome'])"
   ]
  },
  {
   "cell_type": "code",
   "execution_count": 763,
   "id": "90b7c305-d7cc-4db1-8b24-d5f03d86628d",
   "metadata": {},
   "outputs": [
    {
     "data": {
      "text/html": [
       "<div>\n",
       "<style scoped>\n",
       "    .dataframe tbody tr th:only-of-type {\n",
       "        vertical-align: middle;\n",
       "    }\n",
       "\n",
       "    .dataframe tbody tr th {\n",
       "        vertical-align: top;\n",
       "    }\n",
       "\n",
       "    .dataframe thead th {\n",
       "        text-align: right;\n",
       "    }\n",
       "</style>\n",
       "<table border=\"1\" class=\"dataframe\">\n",
       "  <thead>\n",
       "    <tr style=\"text-align: right;\">\n",
       "      <th></th>\n",
       "      <th>nome_df3</th>\n",
       "      <th>sobrenome_df3</th>\n",
       "      <th>valor1</th>\n",
       "      <th>valor2</th>\n",
       "      <th>nome_df4</th>\n",
       "      <th>sobrenome_df4</th>\n",
       "      <th>valor3</th>\n",
       "      <th>valor4</th>\n",
       "    </tr>\n",
       "  </thead>\n",
       "  <tbody>\n",
       "    <tr>\n",
       "      <th>0</th>\n",
       "      <td>João</td>\n",
       "      <td>Silva</td>\n",
       "      <td>1</td>\n",
       "      <td>3</td>\n",
       "      <td>João</td>\n",
       "      <td>Silva</td>\n",
       "      <td>1</td>\n",
       "      <td>3</td>\n",
       "    </tr>\n",
       "    <tr>\n",
       "      <th>1</th>\n",
       "      <td>Maria</td>\n",
       "      <td>Alencar</td>\n",
       "      <td>2</td>\n",
       "      <td>4</td>\n",
       "      <td>Maria</td>\n",
       "      <td>Alencar</td>\n",
       "      <td>2</td>\n",
       "      <td>4</td>\n",
       "    </tr>\n",
       "    <tr>\n",
       "      <th>2</th>\n",
       "      <td>Edu</td>\n",
       "      <td>Deus</td>\n",
       "      <td>3</td>\n",
       "      <td>5</td>\n",
       "      <td>Dadinho</td>\n",
       "      <td>Deus</td>\n",
       "      <td>3</td>\n",
       "      <td>5</td>\n",
       "    </tr>\n",
       "  </tbody>\n",
       "</table>\n",
       "</div>"
      ],
      "text/plain": [
       "  nome_df3 sobrenome_df3  valor1  valor2 nome_df4 sobrenome_df4  valor3  \\\n",
       "0     João         Silva       1       3     João         Silva       1   \n",
       "1    Maria       Alencar       2       4    Maria       Alencar       2   \n",
       "2      Edu          Deus       3       5  Dadinho          Deus       3   \n",
       "\n",
       "   valor4  \n",
       "0       3  \n",
       "1       4  \n",
       "2       5  "
      ]
     },
     "execution_count": 763,
     "metadata": {},
     "output_type": "execute_result"
    }
   ],
   "source": [
    "df3.join(df4, lsuffix='_df3', rsuffix='_df4')"
   ]
  },
  {
   "cell_type": "code",
   "execution_count": 766,
   "id": "1a8e26cc-5cdf-43ee-b8b1-4c08c0b04241",
   "metadata": {},
   "outputs": [
    {
     "data": {
      "text/html": [
       "<div>\n",
       "<style scoped>\n",
       "    .dataframe tbody tr th:only-of-type {\n",
       "        vertical-align: middle;\n",
       "    }\n",
       "\n",
       "    .dataframe tbody tr th {\n",
       "        vertical-align: top;\n",
       "    }\n",
       "\n",
       "    .dataframe thead th {\n",
       "        text-align: right;\n",
       "    }\n",
       "</style>\n",
       "<table border=\"1\" class=\"dataframe\">\n",
       "  <thead>\n",
       "    <tr style=\"text-align: right;\">\n",
       "      <th></th>\n",
       "      <th>nome_df3</th>\n",
       "      <th>sobrenome_df3</th>\n",
       "      <th>valor1</th>\n",
       "      <th>valor2</th>\n",
       "      <th>nome</th>\n",
       "      <th>sobrenome</th>\n",
       "      <th>valor3</th>\n",
       "      <th>valor4</th>\n",
       "    </tr>\n",
       "  </thead>\n",
       "  <tbody>\n",
       "    <tr>\n",
       "      <th>0</th>\n",
       "      <td>João</td>\n",
       "      <td>Silva</td>\n",
       "      <td>1</td>\n",
       "      <td>3</td>\n",
       "      <td>João</td>\n",
       "      <td>Silva</td>\n",
       "      <td>1</td>\n",
       "      <td>3</td>\n",
       "    </tr>\n",
       "    <tr>\n",
       "      <th>1</th>\n",
       "      <td>Maria</td>\n",
       "      <td>Alencar</td>\n",
       "      <td>2</td>\n",
       "      <td>4</td>\n",
       "      <td>Maria</td>\n",
       "      <td>Alencar</td>\n",
       "      <td>2</td>\n",
       "      <td>4</td>\n",
       "    </tr>\n",
       "    <tr>\n",
       "      <th>2</th>\n",
       "      <td>Edu</td>\n",
       "      <td>Deus</td>\n",
       "      <td>3</td>\n",
       "      <td>5</td>\n",
       "      <td>Dadinho</td>\n",
       "      <td>Deus</td>\n",
       "      <td>3</td>\n",
       "      <td>5</td>\n",
       "    </tr>\n",
       "  </tbody>\n",
       "</table>\n",
       "</div>"
      ],
      "text/plain": [
       "  nome_df3 sobrenome_df3  valor1  valor2     nome sobrenome  valor3  valor4\n",
       "0     João         Silva       1       3     João     Silva       1       3\n",
       "1    Maria       Alencar       2       4    Maria   Alencar       2       4\n",
       "2      Edu          Deus       3       5  Dadinho      Deus       3       5"
      ]
     },
     "execution_count": 766,
     "metadata": {},
     "output_type": "execute_result"
    }
   ],
   "source": [
    "df3.join(df4, lsuffix='_df3')"
   ]
  },
  {
   "cell_type": "code",
   "execution_count": 769,
   "id": "a280b91a-4303-422f-81fa-4c7f69b4e15d",
   "metadata": {},
   "outputs": [
    {
     "data": {
      "text/html": [
       "<div>\n",
       "<style scoped>\n",
       "    .dataframe tbody tr th:only-of-type {\n",
       "        vertical-align: middle;\n",
       "    }\n",
       "\n",
       "    .dataframe tbody tr th {\n",
       "        vertical-align: top;\n",
       "    }\n",
       "\n",
       "    .dataframe thead th {\n",
       "        text-align: right;\n",
       "    }\n",
       "</style>\n",
       "<table border=\"1\" class=\"dataframe\">\n",
       "  <thead>\n",
       "    <tr style=\"text-align: right;\">\n",
       "      <th></th>\n",
       "      <th>sobrenome</th>\n",
       "      <th>valor1</th>\n",
       "      <th>valor2</th>\n",
       "    </tr>\n",
       "    <tr>\n",
       "      <th>nome</th>\n",
       "      <th></th>\n",
       "      <th></th>\n",
       "      <th></th>\n",
       "    </tr>\n",
       "  </thead>\n",
       "  <tbody>\n",
       "    <tr>\n",
       "      <th>João</th>\n",
       "      <td>Silva</td>\n",
       "      <td>1</td>\n",
       "      <td>3</td>\n",
       "    </tr>\n",
       "    <tr>\n",
       "      <th>Maria</th>\n",
       "      <td>Alencar</td>\n",
       "      <td>2</td>\n",
       "      <td>4</td>\n",
       "    </tr>\n",
       "    <tr>\n",
       "      <th>Edu</th>\n",
       "      <td>Deus</td>\n",
       "      <td>3</td>\n",
       "      <td>5</td>\n",
       "    </tr>\n",
       "  </tbody>\n",
       "</table>\n",
       "</div>"
      ],
      "text/plain": [
       "      sobrenome  valor1  valor2\n",
       "nome                           \n",
       "João      Silva       1       3\n",
       "Maria   Alencar       2       4\n",
       "Edu        Deus       3       5"
      ]
     },
     "metadata": {},
     "output_type": "display_data"
    },
    {
     "data": {
      "text/html": [
       "<div>\n",
       "<style scoped>\n",
       "    .dataframe tbody tr th:only-of-type {\n",
       "        vertical-align: middle;\n",
       "    }\n",
       "\n",
       "    .dataframe tbody tr th {\n",
       "        vertical-align: top;\n",
       "    }\n",
       "\n",
       "    .dataframe thead th {\n",
       "        text-align: right;\n",
       "    }\n",
       "</style>\n",
       "<table border=\"1\" class=\"dataframe\">\n",
       "  <thead>\n",
       "    <tr style=\"text-align: right;\">\n",
       "      <th></th>\n",
       "      <th>sobrenome</th>\n",
       "      <th>valor3</th>\n",
       "      <th>valor4</th>\n",
       "    </tr>\n",
       "    <tr>\n",
       "      <th>nome</th>\n",
       "      <th></th>\n",
       "      <th></th>\n",
       "      <th></th>\n",
       "    </tr>\n",
       "  </thead>\n",
       "  <tbody>\n",
       "    <tr>\n",
       "      <th>João</th>\n",
       "      <td>Silva</td>\n",
       "      <td>1</td>\n",
       "      <td>3</td>\n",
       "    </tr>\n",
       "    <tr>\n",
       "      <th>Maria</th>\n",
       "      <td>Alencar</td>\n",
       "      <td>2</td>\n",
       "      <td>4</td>\n",
       "    </tr>\n",
       "    <tr>\n",
       "      <th>Dadinho</th>\n",
       "      <td>Deus</td>\n",
       "      <td>3</td>\n",
       "      <td>5</td>\n",
       "    </tr>\n",
       "  </tbody>\n",
       "</table>\n",
       "</div>"
      ],
      "text/plain": [
       "        sobrenome  valor3  valor4\n",
       "nome                             \n",
       "João        Silva       1       3\n",
       "Maria     Alencar       2       4\n",
       "Dadinho      Deus       3       5"
      ]
     },
     "metadata": {},
     "output_type": "display_data"
    }
   ],
   "source": [
    "df3_nome = df3.set_index('nome')\n",
    "df4_nome = df4.set_index('nome')\n",
    "\n",
    "display(df3_nome)\n",
    "display(df4_nome)"
   ]
  },
  {
   "cell_type": "code",
   "execution_count": 772,
   "id": "c0d14d95-e136-4249-8d6e-7b628df3b190",
   "metadata": {},
   "outputs": [
    {
     "data": {
      "text/html": [
       "<div>\n",
       "<style scoped>\n",
       "    .dataframe tbody tr th:only-of-type {\n",
       "        vertical-align: middle;\n",
       "    }\n",
       "\n",
       "    .dataframe tbody tr th {\n",
       "        vertical-align: top;\n",
       "    }\n",
       "\n",
       "    .dataframe thead th {\n",
       "        text-align: right;\n",
       "    }\n",
       "</style>\n",
       "<table border=\"1\" class=\"dataframe\">\n",
       "  <thead>\n",
       "    <tr style=\"text-align: right;\">\n",
       "      <th></th>\n",
       "      <th>sobrenome_df3</th>\n",
       "      <th>valor1</th>\n",
       "      <th>valor2</th>\n",
       "      <th>sobrenome</th>\n",
       "      <th>valor3</th>\n",
       "      <th>valor4</th>\n",
       "    </tr>\n",
       "    <tr>\n",
       "      <th>nome</th>\n",
       "      <th></th>\n",
       "      <th></th>\n",
       "      <th></th>\n",
       "      <th></th>\n",
       "      <th></th>\n",
       "      <th></th>\n",
       "    </tr>\n",
       "  </thead>\n",
       "  <tbody>\n",
       "    <tr>\n",
       "      <th>João</th>\n",
       "      <td>Silva</td>\n",
       "      <td>1</td>\n",
       "      <td>3</td>\n",
       "      <td>Silva</td>\n",
       "      <td>1.0</td>\n",
       "      <td>3.0</td>\n",
       "    </tr>\n",
       "    <tr>\n",
       "      <th>Maria</th>\n",
       "      <td>Alencar</td>\n",
       "      <td>2</td>\n",
       "      <td>4</td>\n",
       "      <td>Alencar</td>\n",
       "      <td>2.0</td>\n",
       "      <td>4.0</td>\n",
       "    </tr>\n",
       "    <tr>\n",
       "      <th>Edu</th>\n",
       "      <td>Deus</td>\n",
       "      <td>3</td>\n",
       "      <td>5</td>\n",
       "      <td>NaN</td>\n",
       "      <td>NaN</td>\n",
       "      <td>NaN</td>\n",
       "    </tr>\n",
       "  </tbody>\n",
       "</table>\n",
       "</div>"
      ],
      "text/plain": [
       "      sobrenome_df3  valor1  valor2 sobrenome  valor3  valor4\n",
       "nome                                                         \n",
       "João          Silva       1       3     Silva     1.0     3.0\n",
       "Maria       Alencar       2       4   Alencar     2.0     4.0\n",
       "Edu            Deus       3       5       NaN     NaN     NaN"
      ]
     },
     "execution_count": 772,
     "metadata": {},
     "output_type": "execute_result"
    }
   ],
   "source": [
    "df3_nome.join(df4_nome, lsuffix='_df3')"
   ]
  },
  {
   "cell_type": "code",
   "execution_count": 773,
   "id": "79b8e0f2-ef26-4fad-8399-25bbe6fd1da0",
   "metadata": {},
   "outputs": [
    {
     "data": {
      "text/html": [
       "<div>\n",
       "<style scoped>\n",
       "    .dataframe tbody tr th:only-of-type {\n",
       "        vertical-align: middle;\n",
       "    }\n",
       "\n",
       "    .dataframe tbody tr th {\n",
       "        vertical-align: top;\n",
       "    }\n",
       "\n",
       "    .dataframe thead th {\n",
       "        text-align: right;\n",
       "    }\n",
       "</style>\n",
       "<table border=\"1\" class=\"dataframe\">\n",
       "  <thead>\n",
       "    <tr style=\"text-align: right;\">\n",
       "      <th></th>\n",
       "      <th>sobrenome_df3</th>\n",
       "      <th>valor1</th>\n",
       "      <th>valor2</th>\n",
       "      <th>sobrenome</th>\n",
       "      <th>valor3</th>\n",
       "      <th>valor4</th>\n",
       "    </tr>\n",
       "    <tr>\n",
       "      <th>nome</th>\n",
       "      <th></th>\n",
       "      <th></th>\n",
       "      <th></th>\n",
       "      <th></th>\n",
       "      <th></th>\n",
       "      <th></th>\n",
       "    </tr>\n",
       "  </thead>\n",
       "  <tbody>\n",
       "    <tr>\n",
       "      <th>João</th>\n",
       "      <td>Silva</td>\n",
       "      <td>1</td>\n",
       "      <td>3</td>\n",
       "      <td>Silva</td>\n",
       "      <td>1</td>\n",
       "      <td>3</td>\n",
       "    </tr>\n",
       "    <tr>\n",
       "      <th>Maria</th>\n",
       "      <td>Alencar</td>\n",
       "      <td>2</td>\n",
       "      <td>4</td>\n",
       "      <td>Alencar</td>\n",
       "      <td>2</td>\n",
       "      <td>4</td>\n",
       "    </tr>\n",
       "  </tbody>\n",
       "</table>\n",
       "</div>"
      ],
      "text/plain": [
       "      sobrenome_df3  valor1  valor2 sobrenome  valor3  valor4\n",
       "nome                                                         \n",
       "João          Silva       1       3     Silva       1       3\n",
       "Maria       Alencar       2       4   Alencar       2       4"
      ]
     },
     "execution_count": 773,
     "metadata": {},
     "output_type": "execute_result"
    }
   ],
   "source": [
    "df3_nome.join(df4_nome, lsuffix='_df3', how='inner')"
   ]
  },
  {
   "cell_type": "code",
   "execution_count": 774,
   "id": "abde53e3-24c2-40ab-ab3e-a3ec82b0eb38",
   "metadata": {},
   "outputs": [],
   "source": [
    "df3 = pd.DataFrame({\n",
    "    'nome': ['João','Maria', 'Edu'],\n",
    "    'sobrenome': ['Silva','Alencar', 'Deus'],\n",
    "    'valor1': [1, 2, 3],\n",
    "    'valor2': [3, 4, 5]\n",
    "})\n",
    "\n",
    "df4 = pd.DataFrame({\n",
    "    'nome': ['João','João', 'Dadinho'],\n",
    "    'sobrenome': ['Silva','Alencar', 'Deus'],\n",
    "    'valor3': [1, 2, 3],\n",
    "    'valor4': [3, 4, 5]\n",
    "})"
   ]
  },
  {
   "cell_type": "code",
   "execution_count": 775,
   "id": "e34f55dd-d179-427a-9a18-57e7d62d9342",
   "metadata": {},
   "outputs": [
    {
     "data": {
      "text/html": [
       "<div>\n",
       "<style scoped>\n",
       "    .dataframe tbody tr th:only-of-type {\n",
       "        vertical-align: middle;\n",
       "    }\n",
       "\n",
       "    .dataframe tbody tr th {\n",
       "        vertical-align: top;\n",
       "    }\n",
       "\n",
       "    .dataframe thead th {\n",
       "        text-align: right;\n",
       "    }\n",
       "</style>\n",
       "<table border=\"1\" class=\"dataframe\">\n",
       "  <thead>\n",
       "    <tr style=\"text-align: right;\">\n",
       "      <th></th>\n",
       "      <th>nome</th>\n",
       "      <th>sobrenome</th>\n",
       "      <th>valor1</th>\n",
       "      <th>valor2</th>\n",
       "    </tr>\n",
       "  </thead>\n",
       "  <tbody>\n",
       "    <tr>\n",
       "      <th>0</th>\n",
       "      <td>João</td>\n",
       "      <td>Silva</td>\n",
       "      <td>1</td>\n",
       "      <td>3</td>\n",
       "    </tr>\n",
       "    <tr>\n",
       "      <th>1</th>\n",
       "      <td>Maria</td>\n",
       "      <td>Alencar</td>\n",
       "      <td>2</td>\n",
       "      <td>4</td>\n",
       "    </tr>\n",
       "    <tr>\n",
       "      <th>2</th>\n",
       "      <td>Edu</td>\n",
       "      <td>Deus</td>\n",
       "      <td>3</td>\n",
       "      <td>5</td>\n",
       "    </tr>\n",
       "  </tbody>\n",
       "</table>\n",
       "</div>"
      ],
      "text/plain": [
       "    nome sobrenome  valor1  valor2\n",
       "0   João     Silva       1       3\n",
       "1  Maria   Alencar       2       4\n",
       "2    Edu      Deus       3       5"
      ]
     },
     "metadata": {},
     "output_type": "display_data"
    },
    {
     "data": {
      "text/html": [
       "<div>\n",
       "<style scoped>\n",
       "    .dataframe tbody tr th:only-of-type {\n",
       "        vertical-align: middle;\n",
       "    }\n",
       "\n",
       "    .dataframe tbody tr th {\n",
       "        vertical-align: top;\n",
       "    }\n",
       "\n",
       "    .dataframe thead th {\n",
       "        text-align: right;\n",
       "    }\n",
       "</style>\n",
       "<table border=\"1\" class=\"dataframe\">\n",
       "  <thead>\n",
       "    <tr style=\"text-align: right;\">\n",
       "      <th></th>\n",
       "      <th>nome</th>\n",
       "      <th>sobrenome</th>\n",
       "      <th>valor3</th>\n",
       "      <th>valor4</th>\n",
       "    </tr>\n",
       "  </thead>\n",
       "  <tbody>\n",
       "    <tr>\n",
       "      <th>0</th>\n",
       "      <td>João</td>\n",
       "      <td>Silva</td>\n",
       "      <td>1</td>\n",
       "      <td>3</td>\n",
       "    </tr>\n",
       "    <tr>\n",
       "      <th>1</th>\n",
       "      <td>João</td>\n",
       "      <td>Alencar</td>\n",
       "      <td>2</td>\n",
       "      <td>4</td>\n",
       "    </tr>\n",
       "    <tr>\n",
       "      <th>2</th>\n",
       "      <td>Dadinho</td>\n",
       "      <td>Deus</td>\n",
       "      <td>3</td>\n",
       "      <td>5</td>\n",
       "    </tr>\n",
       "  </tbody>\n",
       "</table>\n",
       "</div>"
      ],
      "text/plain": [
       "      nome sobrenome  valor3  valor4\n",
       "0     João     Silva       1       3\n",
       "1     João   Alencar       2       4\n",
       "2  Dadinho      Deus       3       5"
      ]
     },
     "metadata": {},
     "output_type": "display_data"
    }
   ],
   "source": [
    "display(df3)\n",
    "display(df4)"
   ]
  },
  {
   "cell_type": "code",
   "execution_count": 777,
   "id": "7e758cfb-64c5-4108-b9ca-ef39c0bf0be2",
   "metadata": {},
   "outputs": [
    {
     "data": {
      "text/html": [
       "<div>\n",
       "<style scoped>\n",
       "    .dataframe tbody tr th:only-of-type {\n",
       "        vertical-align: middle;\n",
       "    }\n",
       "\n",
       "    .dataframe tbody tr th {\n",
       "        vertical-align: top;\n",
       "    }\n",
       "\n",
       "    .dataframe thead th {\n",
       "        text-align: right;\n",
       "    }\n",
       "</style>\n",
       "<table border=\"1\" class=\"dataframe\">\n",
       "  <thead>\n",
       "    <tr style=\"text-align: right;\">\n",
       "      <th></th>\n",
       "      <th>nome</th>\n",
       "      <th>sobrenome_x</th>\n",
       "      <th>valor1</th>\n",
       "      <th>valor2</th>\n",
       "      <th>sobrenome_y</th>\n",
       "      <th>valor3</th>\n",
       "      <th>valor4</th>\n",
       "    </tr>\n",
       "  </thead>\n",
       "  <tbody>\n",
       "    <tr>\n",
       "      <th>0</th>\n",
       "      <td>João</td>\n",
       "      <td>Silva</td>\n",
       "      <td>1</td>\n",
       "      <td>3</td>\n",
       "      <td>Silva</td>\n",
       "      <td>1.0</td>\n",
       "      <td>3.0</td>\n",
       "    </tr>\n",
       "    <tr>\n",
       "      <th>1</th>\n",
       "      <td>João</td>\n",
       "      <td>Silva</td>\n",
       "      <td>1</td>\n",
       "      <td>3</td>\n",
       "      <td>Alencar</td>\n",
       "      <td>2.0</td>\n",
       "      <td>4.0</td>\n",
       "    </tr>\n",
       "    <tr>\n",
       "      <th>2</th>\n",
       "      <td>Maria</td>\n",
       "      <td>Alencar</td>\n",
       "      <td>2</td>\n",
       "      <td>4</td>\n",
       "      <td>NaN</td>\n",
       "      <td>NaN</td>\n",
       "      <td>NaN</td>\n",
       "    </tr>\n",
       "    <tr>\n",
       "      <th>3</th>\n",
       "      <td>Edu</td>\n",
       "      <td>Deus</td>\n",
       "      <td>3</td>\n",
       "      <td>5</td>\n",
       "      <td>NaN</td>\n",
       "      <td>NaN</td>\n",
       "      <td>NaN</td>\n",
       "    </tr>\n",
       "  </tbody>\n",
       "</table>\n",
       "</div>"
      ],
      "text/plain": [
       "    nome sobrenome_x  valor1  valor2 sobrenome_y  valor3  valor4\n",
       "0   João       Silva       1       3       Silva     1.0     3.0\n",
       "1   João       Silva       1       3     Alencar     2.0     4.0\n",
       "2  Maria     Alencar       2       4         NaN     NaN     NaN\n",
       "3    Edu        Deus       3       5         NaN     NaN     NaN"
      ]
     },
     "execution_count": 777,
     "metadata": {},
     "output_type": "execute_result"
    }
   ],
   "source": [
    "df3.merge(df4, on='nome', how='left')"
   ]
  },
  {
   "cell_type": "code",
   "execution_count": 778,
   "id": "751abc8c-1773-4af0-9e9c-653ebcfe7612",
   "metadata": {},
   "outputs": [
    {
     "data": {
      "text/html": [
       "<div>\n",
       "<style scoped>\n",
       "    .dataframe tbody tr th:only-of-type {\n",
       "        vertical-align: middle;\n",
       "    }\n",
       "\n",
       "    .dataframe tbody tr th {\n",
       "        vertical-align: top;\n",
       "    }\n",
       "\n",
       "    .dataframe thead th {\n",
       "        text-align: right;\n",
       "    }\n",
       "</style>\n",
       "<table border=\"1\" class=\"dataframe\">\n",
       "  <thead>\n",
       "    <tr style=\"text-align: right;\">\n",
       "      <th></th>\n",
       "      <th>nome</th>\n",
       "      <th>sobrenome</th>\n",
       "      <th>valor1</th>\n",
       "      <th>valor2</th>\n",
       "      <th>valor3</th>\n",
       "      <th>valor4</th>\n",
       "    </tr>\n",
       "  </thead>\n",
       "  <tbody>\n",
       "    <tr>\n",
       "      <th>0</th>\n",
       "      <td>João</td>\n",
       "      <td>Silva</td>\n",
       "      <td>1</td>\n",
       "      <td>3</td>\n",
       "      <td>1.0</td>\n",
       "      <td>3.0</td>\n",
       "    </tr>\n",
       "    <tr>\n",
       "      <th>1</th>\n",
       "      <td>Maria</td>\n",
       "      <td>Alencar</td>\n",
       "      <td>2</td>\n",
       "      <td>4</td>\n",
       "      <td>NaN</td>\n",
       "      <td>NaN</td>\n",
       "    </tr>\n",
       "    <tr>\n",
       "      <th>2</th>\n",
       "      <td>Edu</td>\n",
       "      <td>Deus</td>\n",
       "      <td>3</td>\n",
       "      <td>5</td>\n",
       "      <td>NaN</td>\n",
       "      <td>NaN</td>\n",
       "    </tr>\n",
       "  </tbody>\n",
       "</table>\n",
       "</div>"
      ],
      "text/plain": [
       "    nome sobrenome  valor1  valor2  valor3  valor4\n",
       "0   João     Silva       1       3     1.0     3.0\n",
       "1  Maria   Alencar       2       4     NaN     NaN\n",
       "2    Edu      Deus       3       5     NaN     NaN"
      ]
     },
     "execution_count": 778,
     "metadata": {},
     "output_type": "execute_result"
    }
   ],
   "source": [
    "df3.merge(df4, on=['nome', 'sobrenome'], how='left')"
   ]
  },
  {
   "cell_type": "markdown",
   "id": "3f6a72b6-0824-40a1-91ed-4d1adca429d3",
   "metadata": {},
   "source": [
    "__________\n",
    "\n",
    "## Uso do map:"
   ]
  },
  {
   "cell_type": "code",
   "execution_count": 787,
   "id": "aa0a060a-ee83-4c05-bdba-9c511d7c5f8e",
   "metadata": {
    "scrolled": true,
    "tags": []
   },
   "outputs": [
    {
     "data": {
      "text/plain": [
       "0      60\n",
       "1      30\n",
       "2     100\n",
       "3      70\n",
       "4      40\n",
       "5      60\n",
       "6      90\n",
       "7      20\n",
       "8      60\n",
       "9     100\n",
       "10    100\n",
       "11     70\n",
       "12     40\n",
       "13     30\n",
       "14     70\n",
       "15     70\n",
       "16     20\n",
       "17     50\n",
       "18     40\n",
       "19     10\n",
       "20     70\n",
       "21     50\n",
       "22     10\n",
       "23     40\n",
       "24      0\n",
       "25     90\n",
       "26     50\n",
       "27     80\n",
       "28      0\n",
       "29    100\n",
       "Name: nota, dtype: int64"
      ]
     },
     "execution_count": 787,
     "metadata": {},
     "output_type": "execute_result"
    }
   ],
   "source": [
    "df_notas.nota.apply(lambda x: x * 10)"
   ]
  },
  {
   "cell_type": "code",
   "execution_count": null,
   "id": "dae8d314-2d6a-476c-bcfb-b2f08028bd99",
   "metadata": {},
   "outputs": [],
   "source": []
  },
  {
   "cell_type": "code",
   "execution_count": 790,
   "id": "ea17a795-8054-4e52-abf5-81d96a63bddf",
   "metadata": {},
   "outputs": [],
   "source": [
    "def multiplica_10(x):\n",
    "    return x * 10"
   ]
  },
  {
   "cell_type": "code",
   "execution_count": 791,
   "id": "ec67730e-023f-4b98-816d-59cc4dc5894e",
   "metadata": {
    "scrolled": true,
    "tags": []
   },
   "outputs": [
    {
     "data": {
      "text/plain": [
       "0      60\n",
       "1      30\n",
       "2     100\n",
       "3      70\n",
       "4      40\n",
       "5      60\n",
       "6      90\n",
       "7      20\n",
       "8      60\n",
       "9     100\n",
       "10    100\n",
       "11     70\n",
       "12     40\n",
       "13     30\n",
       "14     70\n",
       "15     70\n",
       "16     20\n",
       "17     50\n",
       "18     40\n",
       "19     10\n",
       "20     70\n",
       "21     50\n",
       "22     10\n",
       "23     40\n",
       "24      0\n",
       "25     90\n",
       "26     50\n",
       "27     80\n",
       "28      0\n",
       "29    100\n",
       "Name: nota, dtype: int64"
      ]
     },
     "execution_count": 791,
     "metadata": {},
     "output_type": "execute_result"
    }
   ],
   "source": [
    "df_notas.nota.map(multiplica_10)"
   ]
  },
  {
   "cell_type": "code",
   "execution_count": 793,
   "id": "2762feb5-f4f4-4123-b4f3-5f4fc8d1a0d9",
   "metadata": {},
   "outputs": [],
   "source": [
    "dic_map = {\n",
    "    'Aprovado': 'Azul',\n",
    "    'Reprovado': 'Vermelho'\n",
    "}"
   ]
  },
  {
   "cell_type": "code",
   "execution_count": 795,
   "id": "723e0618-ebd2-4616-b588-825a2992e268",
   "metadata": {},
   "outputs": [
    {
     "data": {
      "text/html": [
       "<div>\n",
       "<style scoped>\n",
       "    .dataframe tbody tr th:only-of-type {\n",
       "        vertical-align: middle;\n",
       "    }\n",
       "\n",
       "    .dataframe tbody tr th {\n",
       "        vertical-align: top;\n",
       "    }\n",
       "\n",
       "    .dataframe thead th {\n",
       "        text-align: right;\n",
       "    }\n",
       "</style>\n",
       "<table border=\"1\" class=\"dataframe\">\n",
       "  <thead>\n",
       "    <tr style=\"text-align: right;\">\n",
       "      <th></th>\n",
       "      <th>nota</th>\n",
       "      <th>nome</th>\n",
       "      <th>e_aprovado</th>\n",
       "      <th>e_aprovado_bool</th>\n",
       "      <th>col_num_1</th>\n",
       "      <th>x</th>\n",
       "      <th>y</th>\n",
       "    </tr>\n",
       "  </thead>\n",
       "  <tbody>\n",
       "    <tr>\n",
       "      <th>0</th>\n",
       "      <td>6</td>\n",
       "      <td>Maria</td>\n",
       "      <td>Aprovado</td>\n",
       "      <td>True</td>\n",
       "      <td>1</td>\n",
       "      <td>2</td>\n",
       "      <td>2.0</td>\n",
       "    </tr>\n",
       "    <tr>\n",
       "      <th>1</th>\n",
       "      <td>3</td>\n",
       "      <td>Maria</td>\n",
       "      <td>Reprovado</td>\n",
       "      <td>False</td>\n",
       "      <td>1</td>\n",
       "      <td>1</td>\n",
       "      <td>16.0</td>\n",
       "    </tr>\n",
       "    <tr>\n",
       "      <th>2</th>\n",
       "      <td>10</td>\n",
       "      <td>Maria</td>\n",
       "      <td>Aprovado</td>\n",
       "      <td>True</td>\n",
       "      <td>1</td>\n",
       "      <td>11</td>\n",
       "      <td>4.0</td>\n",
       "    </tr>\n",
       "    <tr>\n",
       "      <th>3</th>\n",
       "      <td>7</td>\n",
       "      <td>Maria</td>\n",
       "      <td>Aprovado</td>\n",
       "      <td>True</td>\n",
       "      <td>1</td>\n",
       "      <td>5</td>\n",
       "      <td>16.0</td>\n",
       "    </tr>\n",
       "    <tr>\n",
       "      <th>4</th>\n",
       "      <td>4</td>\n",
       "      <td>Maria</td>\n",
       "      <td>Reprovado</td>\n",
       "      <td>False</td>\n",
       "      <td>1</td>\n",
       "      <td>1</td>\n",
       "      <td>16.0</td>\n",
       "    </tr>\n",
       "  </tbody>\n",
       "</table>\n",
       "</div>"
      ],
      "text/plain": [
       "   nota   nome e_aprovado  e_aprovado_bool  col_num_1   x     y\n",
       "0     6  Maria   Aprovado             True          1   2   2.0\n",
       "1     3  Maria  Reprovado            False          1   1  16.0\n",
       "2    10  Maria   Aprovado             True          1  11   4.0\n",
       "3     7  Maria   Aprovado             True          1   5  16.0\n",
       "4     4  Maria  Reprovado            False          1   1  16.0"
      ]
     },
     "execution_count": 795,
     "metadata": {},
     "output_type": "execute_result"
    }
   ],
   "source": [
    "df_notas.head()"
   ]
  },
  {
   "cell_type": "code",
   "execution_count": 796,
   "id": "c9cd501b-d6cd-40e8-b27f-42782abcaa77",
   "metadata": {
    "scrolled": true,
    "tags": []
   },
   "outputs": [],
   "source": [
    "df_notas['cor'] = df_notas.e_aprovado.map(dic_map)"
   ]
  },
  {
   "cell_type": "code",
   "execution_count": 797,
   "id": "c34f66ff-20e1-4afd-a4ed-80542cb0342e",
   "metadata": {
    "scrolled": true,
    "tags": []
   },
   "outputs": [
    {
     "data": {
      "text/html": [
       "<div>\n",
       "<style scoped>\n",
       "    .dataframe tbody tr th:only-of-type {\n",
       "        vertical-align: middle;\n",
       "    }\n",
       "\n",
       "    .dataframe tbody tr th {\n",
       "        vertical-align: top;\n",
       "    }\n",
       "\n",
       "    .dataframe thead th {\n",
       "        text-align: right;\n",
       "    }\n",
       "</style>\n",
       "<table border=\"1\" class=\"dataframe\">\n",
       "  <thead>\n",
       "    <tr style=\"text-align: right;\">\n",
       "      <th></th>\n",
       "      <th>nota</th>\n",
       "      <th>nome</th>\n",
       "      <th>e_aprovado</th>\n",
       "      <th>e_aprovado_bool</th>\n",
       "      <th>col_num_1</th>\n",
       "      <th>x</th>\n",
       "      <th>y</th>\n",
       "      <th>cor</th>\n",
       "    </tr>\n",
       "  </thead>\n",
       "  <tbody>\n",
       "    <tr>\n",
       "      <th>0</th>\n",
       "      <td>6</td>\n",
       "      <td>Maria</td>\n",
       "      <td>Aprovado</td>\n",
       "      <td>True</td>\n",
       "      <td>1</td>\n",
       "      <td>2</td>\n",
       "      <td>2.0</td>\n",
       "      <td>Azul</td>\n",
       "    </tr>\n",
       "    <tr>\n",
       "      <th>1</th>\n",
       "      <td>3</td>\n",
       "      <td>Maria</td>\n",
       "      <td>Reprovado</td>\n",
       "      <td>False</td>\n",
       "      <td>1</td>\n",
       "      <td>1</td>\n",
       "      <td>16.0</td>\n",
       "      <td>Vermelho</td>\n",
       "    </tr>\n",
       "    <tr>\n",
       "      <th>2</th>\n",
       "      <td>10</td>\n",
       "      <td>Maria</td>\n",
       "      <td>Aprovado</td>\n",
       "      <td>True</td>\n",
       "      <td>1</td>\n",
       "      <td>11</td>\n",
       "      <td>4.0</td>\n",
       "      <td>Azul</td>\n",
       "    </tr>\n",
       "    <tr>\n",
       "      <th>3</th>\n",
       "      <td>7</td>\n",
       "      <td>Maria</td>\n",
       "      <td>Aprovado</td>\n",
       "      <td>True</td>\n",
       "      <td>1</td>\n",
       "      <td>5</td>\n",
       "      <td>16.0</td>\n",
       "      <td>Azul</td>\n",
       "    </tr>\n",
       "    <tr>\n",
       "      <th>4</th>\n",
       "      <td>4</td>\n",
       "      <td>Maria</td>\n",
       "      <td>Reprovado</td>\n",
       "      <td>False</td>\n",
       "      <td>1</td>\n",
       "      <td>1</td>\n",
       "      <td>16.0</td>\n",
       "      <td>Vermelho</td>\n",
       "    </tr>\n",
       "    <tr>\n",
       "      <th>5</th>\n",
       "      <td>6</td>\n",
       "      <td>Maria</td>\n",
       "      <td>Aprovado</td>\n",
       "      <td>True</td>\n",
       "      <td>1</td>\n",
       "      <td>0</td>\n",
       "      <td>16.0</td>\n",
       "      <td>Azul</td>\n",
       "    </tr>\n",
       "    <tr>\n",
       "      <th>6</th>\n",
       "      <td>9</td>\n",
       "      <td>Maria</td>\n",
       "      <td>Aprovado</td>\n",
       "      <td>True</td>\n",
       "      <td>1</td>\n",
       "      <td>11</td>\n",
       "      <td>1.0</td>\n",
       "      <td>Azul</td>\n",
       "    </tr>\n",
       "    <tr>\n",
       "      <th>7</th>\n",
       "      <td>2</td>\n",
       "      <td>Maria</td>\n",
       "      <td>Reprovado</td>\n",
       "      <td>False</td>\n",
       "      <td>1</td>\n",
       "      <td>11</td>\n",
       "      <td>1.0</td>\n",
       "      <td>Vermelho</td>\n",
       "    </tr>\n",
       "    <tr>\n",
       "      <th>8</th>\n",
       "      <td>6</td>\n",
       "      <td>Maria</td>\n",
       "      <td>Aprovado</td>\n",
       "      <td>True</td>\n",
       "      <td>1</td>\n",
       "      <td>16</td>\n",
       "      <td>4.0</td>\n",
       "      <td>Azul</td>\n",
       "    </tr>\n",
       "    <tr>\n",
       "      <th>9</th>\n",
       "      <td>10</td>\n",
       "      <td>Maria</td>\n",
       "      <td>Aprovado</td>\n",
       "      <td>True</td>\n",
       "      <td>1</td>\n",
       "      <td>9</td>\n",
       "      <td>0.0</td>\n",
       "      <td>Azul</td>\n",
       "    </tr>\n",
       "    <tr>\n",
       "      <th>10</th>\n",
       "      <td>10</td>\n",
       "      <td>João</td>\n",
       "      <td>Aprovado</td>\n",
       "      <td>True</td>\n",
       "      <td>1</td>\n",
       "      <td>15</td>\n",
       "      <td>0.0</td>\n",
       "      <td>Azul</td>\n",
       "    </tr>\n",
       "    <tr>\n",
       "      <th>11</th>\n",
       "      <td>7</td>\n",
       "      <td>João</td>\n",
       "      <td>Aprovado</td>\n",
       "      <td>True</td>\n",
       "      <td>1</td>\n",
       "      <td>14</td>\n",
       "      <td>0.0</td>\n",
       "      <td>Azul</td>\n",
       "    </tr>\n",
       "    <tr>\n",
       "      <th>12</th>\n",
       "      <td>4</td>\n",
       "      <td>João</td>\n",
       "      <td>Reprovado</td>\n",
       "      <td>False</td>\n",
       "      <td>1</td>\n",
       "      <td>14</td>\n",
       "      <td>0.0</td>\n",
       "      <td>Vermelho</td>\n",
       "    </tr>\n",
       "    <tr>\n",
       "      <th>13</th>\n",
       "      <td>3</td>\n",
       "      <td>João</td>\n",
       "      <td>Reprovado</td>\n",
       "      <td>False</td>\n",
       "      <td>1</td>\n",
       "      <td>18</td>\n",
       "      <td>18.0</td>\n",
       "      <td>Vermelho</td>\n",
       "    </tr>\n",
       "    <tr>\n",
       "      <th>14</th>\n",
       "      <td>7</td>\n",
       "      <td>João</td>\n",
       "      <td>Aprovado</td>\n",
       "      <td>True</td>\n",
       "      <td>1</td>\n",
       "      <td>11</td>\n",
       "      <td>1.0</td>\n",
       "      <td>Azul</td>\n",
       "    </tr>\n",
       "    <tr>\n",
       "      <th>15</th>\n",
       "      <td>7</td>\n",
       "      <td>João</td>\n",
       "      <td>Aprovado</td>\n",
       "      <td>True</td>\n",
       "      <td>1</td>\n",
       "      <td>19</td>\n",
       "      <td>11.0</td>\n",
       "      <td>Azul</td>\n",
       "    </tr>\n",
       "    <tr>\n",
       "      <th>16</th>\n",
       "      <td>2</td>\n",
       "      <td>João</td>\n",
       "      <td>Reprovado</td>\n",
       "      <td>False</td>\n",
       "      <td>1</td>\n",
       "      <td>2</td>\n",
       "      <td>5.0</td>\n",
       "      <td>Vermelho</td>\n",
       "    </tr>\n",
       "    <tr>\n",
       "      <th>17</th>\n",
       "      <td>5</td>\n",
       "      <td>João</td>\n",
       "      <td>Reprovado</td>\n",
       "      <td>False</td>\n",
       "      <td>1</td>\n",
       "      <td>4</td>\n",
       "      <td>3.0</td>\n",
       "      <td>Vermelho</td>\n",
       "    </tr>\n",
       "    <tr>\n",
       "      <th>18</th>\n",
       "      <td>4</td>\n",
       "      <td>João</td>\n",
       "      <td>Reprovado</td>\n",
       "      <td>False</td>\n",
       "      <td>1</td>\n",
       "      <td>18</td>\n",
       "      <td>10.0</td>\n",
       "      <td>Vermelho</td>\n",
       "    </tr>\n",
       "    <tr>\n",
       "      <th>19</th>\n",
       "      <td>1</td>\n",
       "      <td>João</td>\n",
       "      <td>Reprovado</td>\n",
       "      <td>False</td>\n",
       "      <td>1</td>\n",
       "      <td>6</td>\n",
       "      <td>16.0</td>\n",
       "      <td>Vermelho</td>\n",
       "    </tr>\n",
       "    <tr>\n",
       "      <th>20</th>\n",
       "      <td>7</td>\n",
       "      <td>José</td>\n",
       "      <td>Aprovado</td>\n",
       "      <td>True</td>\n",
       "      <td>1</td>\n",
       "      <td>8</td>\n",
       "      <td>5.0</td>\n",
       "      <td>Azul</td>\n",
       "    </tr>\n",
       "    <tr>\n",
       "      <th>21</th>\n",
       "      <td>5</td>\n",
       "      <td>José</td>\n",
       "      <td>Reprovado</td>\n",
       "      <td>False</td>\n",
       "      <td>1</td>\n",
       "      <td>6</td>\n",
       "      <td>4.0</td>\n",
       "      <td>Vermelho</td>\n",
       "    </tr>\n",
       "    <tr>\n",
       "      <th>22</th>\n",
       "      <td>1</td>\n",
       "      <td>José</td>\n",
       "      <td>Reprovado</td>\n",
       "      <td>False</td>\n",
       "      <td>1</td>\n",
       "      <td>17</td>\n",
       "      <td>0.0</td>\n",
       "      <td>Vermelho</td>\n",
       "    </tr>\n",
       "    <tr>\n",
       "      <th>23</th>\n",
       "      <td>4</td>\n",
       "      <td>José</td>\n",
       "      <td>Reprovado</td>\n",
       "      <td>False</td>\n",
       "      <td>1</td>\n",
       "      <td>3</td>\n",
       "      <td>0.0</td>\n",
       "      <td>Vermelho</td>\n",
       "    </tr>\n",
       "    <tr>\n",
       "      <th>24</th>\n",
       "      <td>0</td>\n",
       "      <td>José</td>\n",
       "      <td>Reprovado</td>\n",
       "      <td>False</td>\n",
       "      <td>1</td>\n",
       "      <td>13</td>\n",
       "      <td>0.0</td>\n",
       "      <td>Vermelho</td>\n",
       "    </tr>\n",
       "    <tr>\n",
       "      <th>25</th>\n",
       "      <td>9</td>\n",
       "      <td>José</td>\n",
       "      <td>Aprovado</td>\n",
       "      <td>True</td>\n",
       "      <td>1</td>\n",
       "      <td>17</td>\n",
       "      <td>19.0</td>\n",
       "      <td>Azul</td>\n",
       "    </tr>\n",
       "    <tr>\n",
       "      <th>26</th>\n",
       "      <td>5</td>\n",
       "      <td>José</td>\n",
       "      <td>Reprovado</td>\n",
       "      <td>False</td>\n",
       "      <td>1</td>\n",
       "      <td>8</td>\n",
       "      <td>1.0</td>\n",
       "      <td>Vermelho</td>\n",
       "    </tr>\n",
       "    <tr>\n",
       "      <th>27</th>\n",
       "      <td>8</td>\n",
       "      <td>José</td>\n",
       "      <td>Aprovado</td>\n",
       "      <td>True</td>\n",
       "      <td>1</td>\n",
       "      <td>1</td>\n",
       "      <td>5.0</td>\n",
       "      <td>Azul</td>\n",
       "    </tr>\n",
       "    <tr>\n",
       "      <th>28</th>\n",
       "      <td>0</td>\n",
       "      <td>José</td>\n",
       "      <td>Reprovado</td>\n",
       "      <td>False</td>\n",
       "      <td>1</td>\n",
       "      <td>19</td>\n",
       "      <td>10.0</td>\n",
       "      <td>Vermelho</td>\n",
       "    </tr>\n",
       "    <tr>\n",
       "      <th>29</th>\n",
       "      <td>10</td>\n",
       "      <td>José</td>\n",
       "      <td>Aprovado</td>\n",
       "      <td>True</td>\n",
       "      <td>1</td>\n",
       "      <td>14</td>\n",
       "      <td>15.0</td>\n",
       "      <td>Azul</td>\n",
       "    </tr>\n",
       "  </tbody>\n",
       "</table>\n",
       "</div>"
      ],
      "text/plain": [
       "    nota   nome e_aprovado  e_aprovado_bool  col_num_1   x     y       cor\n",
       "0      6  Maria   Aprovado             True          1   2   2.0      Azul\n",
       "1      3  Maria  Reprovado            False          1   1  16.0  Vermelho\n",
       "2     10  Maria   Aprovado             True          1  11   4.0      Azul\n",
       "3      7  Maria   Aprovado             True          1   5  16.0      Azul\n",
       "4      4  Maria  Reprovado            False          1   1  16.0  Vermelho\n",
       "5      6  Maria   Aprovado             True          1   0  16.0      Azul\n",
       "6      9  Maria   Aprovado             True          1  11   1.0      Azul\n",
       "7      2  Maria  Reprovado            False          1  11   1.0  Vermelho\n",
       "8      6  Maria   Aprovado             True          1  16   4.0      Azul\n",
       "9     10  Maria   Aprovado             True          1   9   0.0      Azul\n",
       "10    10   João   Aprovado             True          1  15   0.0      Azul\n",
       "11     7   João   Aprovado             True          1  14   0.0      Azul\n",
       "12     4   João  Reprovado            False          1  14   0.0  Vermelho\n",
       "13     3   João  Reprovado            False          1  18  18.0  Vermelho\n",
       "14     7   João   Aprovado             True          1  11   1.0      Azul\n",
       "15     7   João   Aprovado             True          1  19  11.0      Azul\n",
       "16     2   João  Reprovado            False          1   2   5.0  Vermelho\n",
       "17     5   João  Reprovado            False          1   4   3.0  Vermelho\n",
       "18     4   João  Reprovado            False          1  18  10.0  Vermelho\n",
       "19     1   João  Reprovado            False          1   6  16.0  Vermelho\n",
       "20     7   José   Aprovado             True          1   8   5.0      Azul\n",
       "21     5   José  Reprovado            False          1   6   4.0  Vermelho\n",
       "22     1   José  Reprovado            False          1  17   0.0  Vermelho\n",
       "23     4   José  Reprovado            False          1   3   0.0  Vermelho\n",
       "24     0   José  Reprovado            False          1  13   0.0  Vermelho\n",
       "25     9   José   Aprovado             True          1  17  19.0      Azul\n",
       "26     5   José  Reprovado            False          1   8   1.0  Vermelho\n",
       "27     8   José   Aprovado             True          1   1   5.0      Azul\n",
       "28     0   José  Reprovado            False          1  19  10.0  Vermelho\n",
       "29    10   José   Aprovado             True          1  14  15.0      Azul"
      ]
     },
     "execution_count": 797,
     "metadata": {},
     "output_type": "execute_result"
    }
   ],
   "source": [
    "df_notas"
   ]
  },
  {
   "cell_type": "code",
   "execution_count": null,
   "id": "320ac6d1-dcf3-4dd1-b037-94ef6ed36c50",
   "metadata": {},
   "outputs": [],
   "source": []
  },
  {
   "cell_type": "markdown",
   "id": "7778d329-7755-4938-8afa-dfcd1463ef0c",
   "metadata": {},
   "source": [
    "# Transformações de dados"
   ]
  },
  {
   "cell_type": "markdown",
   "id": "0c7a65aa-2896-4462-bdf8-0f1a96f28d38",
   "metadata": {},
   "source": [
    "## GroupBy"
   ]
  },
  {
   "cell_type": "code",
   "execution_count": 798,
   "id": "d61b6943-f9a7-456f-b017-7a94acecafd8",
   "metadata": {},
   "outputs": [],
   "source": [
    "titanic = pd.read_csv('./datasets/titanic_completa_oficial.csv')"
   ]
  },
  {
   "cell_type": "code",
   "execution_count": 800,
   "id": "c3200fd2-299a-4a88-b07a-47fb87ec7c6a",
   "metadata": {},
   "outputs": [
    {
     "data": {
      "text/html": [
       "<div>\n",
       "<style scoped>\n",
       "    .dataframe tbody tr th:only-of-type {\n",
       "        vertical-align: middle;\n",
       "    }\n",
       "\n",
       "    .dataframe tbody tr th {\n",
       "        vertical-align: top;\n",
       "    }\n",
       "\n",
       "    .dataframe thead th {\n",
       "        text-align: right;\n",
       "    }\n",
       "</style>\n",
       "<table border=\"1\" class=\"dataframe\">\n",
       "  <thead>\n",
       "    <tr style=\"text-align: right;\">\n",
       "      <th></th>\n",
       "      <th>0</th>\n",
       "      <th>1</th>\n",
       "      <th>2</th>\n",
       "      <th>3</th>\n",
       "      <th>4</th>\n",
       "    </tr>\n",
       "  </thead>\n",
       "  <tbody>\n",
       "    <tr>\n",
       "      <th>pclass</th>\n",
       "      <td>1</td>\n",
       "      <td>1</td>\n",
       "      <td>1</td>\n",
       "      <td>1</td>\n",
       "      <td>1</td>\n",
       "    </tr>\n",
       "    <tr>\n",
       "      <th>survived</th>\n",
       "      <td>1</td>\n",
       "      <td>1</td>\n",
       "      <td>0</td>\n",
       "      <td>0</td>\n",
       "      <td>0</td>\n",
       "    </tr>\n",
       "    <tr>\n",
       "      <th>name</th>\n",
       "      <td>Allen, Miss. Elisabeth Walton</td>\n",
       "      <td>Allison, Master. Hudson Trevor</td>\n",
       "      <td>Allison, Miss. Helen Loraine</td>\n",
       "      <td>Allison, Mr. Hudson Joshua Creighton</td>\n",
       "      <td>Allison, Mrs. Hudson J C (Bessie Waldo Daniels)</td>\n",
       "    </tr>\n",
       "    <tr>\n",
       "      <th>sex</th>\n",
       "      <td>female</td>\n",
       "      <td>male</td>\n",
       "      <td>female</td>\n",
       "      <td>male</td>\n",
       "      <td>female</td>\n",
       "    </tr>\n",
       "    <tr>\n",
       "      <th>age</th>\n",
       "      <td>29</td>\n",
       "      <td>0.9167</td>\n",
       "      <td>2</td>\n",
       "      <td>30</td>\n",
       "      <td>25</td>\n",
       "    </tr>\n",
       "    <tr>\n",
       "      <th>sibsp</th>\n",
       "      <td>0</td>\n",
       "      <td>1</td>\n",
       "      <td>1</td>\n",
       "      <td>1</td>\n",
       "      <td>1</td>\n",
       "    </tr>\n",
       "    <tr>\n",
       "      <th>parch</th>\n",
       "      <td>0</td>\n",
       "      <td>2</td>\n",
       "      <td>2</td>\n",
       "      <td>2</td>\n",
       "      <td>2</td>\n",
       "    </tr>\n",
       "    <tr>\n",
       "      <th>ticket</th>\n",
       "      <td>24160</td>\n",
       "      <td>113781</td>\n",
       "      <td>113781</td>\n",
       "      <td>113781</td>\n",
       "      <td>113781</td>\n",
       "    </tr>\n",
       "    <tr>\n",
       "      <th>fare</th>\n",
       "      <td>211.3375</td>\n",
       "      <td>151.55</td>\n",
       "      <td>151.55</td>\n",
       "      <td>151.55</td>\n",
       "      <td>151.55</td>\n",
       "    </tr>\n",
       "    <tr>\n",
       "      <th>cabin</th>\n",
       "      <td>B5</td>\n",
       "      <td>C22 C26</td>\n",
       "      <td>C22 C26</td>\n",
       "      <td>C22 C26</td>\n",
       "      <td>C22 C26</td>\n",
       "    </tr>\n",
       "    <tr>\n",
       "      <th>embarked</th>\n",
       "      <td>S</td>\n",
       "      <td>S</td>\n",
       "      <td>S</td>\n",
       "      <td>S</td>\n",
       "      <td>S</td>\n",
       "    </tr>\n",
       "    <tr>\n",
       "      <th>boat</th>\n",
       "      <td>2</td>\n",
       "      <td>11</td>\n",
       "      <td>?</td>\n",
       "      <td>?</td>\n",
       "      <td>?</td>\n",
       "    </tr>\n",
       "    <tr>\n",
       "      <th>body</th>\n",
       "      <td>?</td>\n",
       "      <td>?</td>\n",
       "      <td>?</td>\n",
       "      <td>135</td>\n",
       "      <td>?</td>\n",
       "    </tr>\n",
       "    <tr>\n",
       "      <th>home.dest</th>\n",
       "      <td>St Louis, MO</td>\n",
       "      <td>Montreal, PQ / Chesterville, ON</td>\n",
       "      <td>Montreal, PQ / Chesterville, ON</td>\n",
       "      <td>Montreal, PQ / Chesterville, ON</td>\n",
       "      <td>Montreal, PQ / Chesterville, ON</td>\n",
       "    </tr>\n",
       "  </tbody>\n",
       "</table>\n",
       "</div>"
      ],
      "text/plain": [
       "                                       0                                1  \\\n",
       "pclass                                 1                                1   \n",
       "survived                               1                                1   \n",
       "name       Allen, Miss. Elisabeth Walton   Allison, Master. Hudson Trevor   \n",
       "sex                               female                             male   \n",
       "age                                   29                           0.9167   \n",
       "sibsp                                  0                                1   \n",
       "parch                                  0                                2   \n",
       "ticket                             24160                           113781   \n",
       "fare                            211.3375                           151.55   \n",
       "cabin                                 B5                          C22 C26   \n",
       "embarked                               S                                S   \n",
       "boat                                   2                               11   \n",
       "body                                   ?                                ?   \n",
       "home.dest                   St Louis, MO  Montreal, PQ / Chesterville, ON   \n",
       "\n",
       "                                         2  \\\n",
       "pclass                                   1   \n",
       "survived                                 0   \n",
       "name          Allison, Miss. Helen Loraine   \n",
       "sex                                 female   \n",
       "age                                      2   \n",
       "sibsp                                    1   \n",
       "parch                                    2   \n",
       "ticket                              113781   \n",
       "fare                                151.55   \n",
       "cabin                              C22 C26   \n",
       "embarked                                 S   \n",
       "boat                                     ?   \n",
       "body                                     ?   \n",
       "home.dest  Montreal, PQ / Chesterville, ON   \n",
       "\n",
       "                                              3  \\\n",
       "pclass                                        1   \n",
       "survived                                      0   \n",
       "name       Allison, Mr. Hudson Joshua Creighton   \n",
       "sex                                        male   \n",
       "age                                          30   \n",
       "sibsp                                         1   \n",
       "parch                                         2   \n",
       "ticket                                   113781   \n",
       "fare                                     151.55   \n",
       "cabin                                   C22 C26   \n",
       "embarked                                      S   \n",
       "boat                                          ?   \n",
       "body                                        135   \n",
       "home.dest       Montreal, PQ / Chesterville, ON   \n",
       "\n",
       "                                                         4  \n",
       "pclass                                                   1  \n",
       "survived                                                 0  \n",
       "name       Allison, Mrs. Hudson J C (Bessie Waldo Daniels)  \n",
       "sex                                                 female  \n",
       "age                                                     25  \n",
       "sibsp                                                    1  \n",
       "parch                                                    2  \n",
       "ticket                                              113781  \n",
       "fare                                                151.55  \n",
       "cabin                                              C22 C26  \n",
       "embarked                                                 S  \n",
       "boat                                                     ?  \n",
       "body                                                     ?  \n",
       "home.dest                  Montreal, PQ / Chesterville, ON  "
      ]
     },
     "execution_count": 800,
     "metadata": {},
     "output_type": "execute_result"
    }
   ],
   "source": [
    "# transpondo os dados\n",
    "titanic.head().T"
   ]
  },
  {
   "cell_type": "code",
   "execution_count": 802,
   "id": "c9d0efd8-e710-4188-8a08-a5399ec4ad81",
   "metadata": {},
   "outputs": [
    {
     "data": {
      "text/plain": [
       "(466, 14)"
      ]
     },
     "execution_count": 802,
     "metadata": {},
     "output_type": "execute_result"
    }
   ],
   "source": [
    "titanic[titanic['sex'] == 'female'].shape"
   ]
  },
  {
   "cell_type": "code",
   "execution_count": 803,
   "id": "f61d33bf-3e80-4484-854a-b2f0e6890a40",
   "metadata": {},
   "outputs": [
    {
     "data": {
      "text/plain": [
       "(843, 14)"
      ]
     },
     "execution_count": 803,
     "metadata": {},
     "output_type": "execute_result"
    }
   ],
   "source": [
    "titanic[titanic['sex'] == 'male'].shape"
   ]
  },
  {
   "cell_type": "code",
   "execution_count": 804,
   "id": "37e2024a-f38b-4f96-b480-10cce34fa651",
   "metadata": {},
   "outputs": [
    {
     "data": {
      "text/plain": [
       "(1309, 14)"
      ]
     },
     "execution_count": 804,
     "metadata": {},
     "output_type": "execute_result"
    }
   ],
   "source": [
    "titanic.shape"
   ]
  },
  {
   "cell_type": "code",
   "execution_count": 805,
   "id": "fe502eda-2b54-4f57-a0ca-e45cb7968714",
   "metadata": {},
   "outputs": [
    {
     "data": {
      "text/html": [
       "<div>\n",
       "<style scoped>\n",
       "    .dataframe tbody tr th:only-of-type {\n",
       "        vertical-align: middle;\n",
       "    }\n",
       "\n",
       "    .dataframe tbody tr th {\n",
       "        vertical-align: top;\n",
       "    }\n",
       "\n",
       "    .dataframe thead th {\n",
       "        text-align: right;\n",
       "    }\n",
       "</style>\n",
       "<table border=\"1\" class=\"dataframe\">\n",
       "  <thead>\n",
       "    <tr style=\"text-align: right;\">\n",
       "      <th></th>\n",
       "      <th>pclass</th>\n",
       "      <th>survived</th>\n",
       "      <th>name</th>\n",
       "      <th>age</th>\n",
       "      <th>sibsp</th>\n",
       "      <th>parch</th>\n",
       "      <th>ticket</th>\n",
       "      <th>fare</th>\n",
       "      <th>cabin</th>\n",
       "      <th>embarked</th>\n",
       "      <th>boat</th>\n",
       "      <th>body</th>\n",
       "      <th>home.dest</th>\n",
       "    </tr>\n",
       "    <tr>\n",
       "      <th>sex</th>\n",
       "      <th></th>\n",
       "      <th></th>\n",
       "      <th></th>\n",
       "      <th></th>\n",
       "      <th></th>\n",
       "      <th></th>\n",
       "      <th></th>\n",
       "      <th></th>\n",
       "      <th></th>\n",
       "      <th></th>\n",
       "      <th></th>\n",
       "      <th></th>\n",
       "      <th></th>\n",
       "    </tr>\n",
       "  </thead>\n",
       "  <tbody>\n",
       "    <tr>\n",
       "      <th>female</th>\n",
       "      <td>466</td>\n",
       "      <td>466</td>\n",
       "      <td>466</td>\n",
       "      <td>466</td>\n",
       "      <td>466</td>\n",
       "      <td>466</td>\n",
       "      <td>466</td>\n",
       "      <td>466</td>\n",
       "      <td>466</td>\n",
       "      <td>466</td>\n",
       "      <td>466</td>\n",
       "      <td>466</td>\n",
       "      <td>466</td>\n",
       "    </tr>\n",
       "    <tr>\n",
       "      <th>male</th>\n",
       "      <td>843</td>\n",
       "      <td>843</td>\n",
       "      <td>843</td>\n",
       "      <td>843</td>\n",
       "      <td>843</td>\n",
       "      <td>843</td>\n",
       "      <td>843</td>\n",
       "      <td>843</td>\n",
       "      <td>843</td>\n",
       "      <td>843</td>\n",
       "      <td>843</td>\n",
       "      <td>843</td>\n",
       "      <td>843</td>\n",
       "    </tr>\n",
       "  </tbody>\n",
       "</table>\n",
       "</div>"
      ],
      "text/plain": [
       "        pclass  survived  name  age  sibsp  parch  ticket  fare  cabin  \\\n",
       "sex                                                                      \n",
       "female     466       466   466  466    466    466     466   466    466   \n",
       "male       843       843   843  843    843    843     843   843    843   \n",
       "\n",
       "        embarked  boat  body  home.dest  \n",
       "sex                                      \n",
       "female       466   466   466        466  \n",
       "male         843   843   843        843  "
      ]
     },
     "execution_count": 805,
     "metadata": {},
     "output_type": "execute_result"
    }
   ],
   "source": [
    "titanic.groupby('sex').count()"
   ]
  },
  {
   "cell_type": "code",
   "execution_count": 806,
   "id": "4dce7b76-e4a7-44e6-8216-29fe7309b8ea",
   "metadata": {},
   "outputs": [
    {
     "data": {
      "text/plain": [
       "sex\n",
       "female    466\n",
       "male      843\n",
       "dtype: int64"
      ]
     },
     "execution_count": 806,
     "metadata": {},
     "output_type": "execute_result"
    }
   ],
   "source": [
    "titanic.groupby('sex').size()"
   ]
  },
  {
   "cell_type": "code",
   "execution_count": 813,
   "id": "8ed73d52-6798-42f8-9cee-5f3c89e77bfa",
   "metadata": {},
   "outputs": [
    {
     "data": {
      "text/plain": [
       "array([1, 2, 3])"
      ]
     },
     "execution_count": 813,
     "metadata": {},
     "output_type": "execute_result"
    }
   ],
   "source": [
    "titanic.pclass.unique()"
   ]
  },
  {
   "cell_type": "code",
   "execution_count": 814,
   "id": "e47c1df4-7ea9-4ce2-8bf9-b4f2f5611a61",
   "metadata": {},
   "outputs": [
    {
     "data": {
      "text/plain": [
       "pclass\n",
       "1    323\n",
       "2    277\n",
       "3    709\n",
       "dtype: int64"
      ]
     },
     "execution_count": 814,
     "metadata": {},
     "output_type": "execute_result"
    }
   ],
   "source": [
    "titanic.groupby('pclass').size()"
   ]
  },
  {
   "cell_type": "code",
   "execution_count": 815,
   "id": "531ff6c0-44c8-481e-91ea-2c2c558308cd",
   "metadata": {},
   "outputs": [
    {
     "data": {
      "text/plain": [
       "pclass  sex   \n",
       "1       female    144\n",
       "        male      179\n",
       "2       female    106\n",
       "        male      171\n",
       "3       female    216\n",
       "        male      493\n",
       "dtype: int64"
      ]
     },
     "execution_count": 815,
     "metadata": {},
     "output_type": "execute_result"
    }
   ],
   "source": [
    "titanic.groupby(['pclass', 'sex']).size()"
   ]
  },
  {
   "cell_type": "code",
   "execution_count": 817,
   "id": "6c8aeff9-cffc-4491-ad0a-3724984222f1",
   "metadata": {},
   "outputs": [
    {
     "data": {
      "text/plain": [
       "sex     survived\n",
       "female  0           127\n",
       "        1           339\n",
       "male    0           682\n",
       "        1           161\n",
       "dtype: int64"
      ]
     },
     "execution_count": 817,
     "metadata": {},
     "output_type": "execute_result"
    }
   ],
   "source": [
    "titanic.groupby(['sex','survived']).size()"
   ]
  },
  {
   "cell_type": "code",
   "execution_count": 820,
   "id": "08e3452f-9fb2-446f-90e4-22ba05f04df8",
   "metadata": {},
   "outputs": [
    {
     "data": {
      "text/plain": [
       "pclass  sex     survived\n",
       "1       female  0             5\n",
       "                1           139\n",
       "        male    0           118\n",
       "                1            61\n",
       "2       female  0            12\n",
       "                1            94\n",
       "        male    0           146\n",
       "                1            25\n",
       "3       female  0           110\n",
       "                1           106\n",
       "        male    0           418\n",
       "                1            75\n",
       "dtype: int64"
      ]
     },
     "execution_count": 820,
     "metadata": {},
     "output_type": "execute_result"
    }
   ],
   "source": [
    "titanic.groupby(['pclass','sex','survived']).size()"
   ]
  },
  {
   "cell_type": "code",
   "execution_count": 819,
   "id": "68113cbe-ae6f-4fbf-a463-bfb1cae1a54a",
   "metadata": {},
   "outputs": [
    {
     "data": {
      "text/html": [
       "<div>\n",
       "<style scoped>\n",
       "    .dataframe tbody tr th:only-of-type {\n",
       "        vertical-align: middle;\n",
       "    }\n",
       "\n",
       "    .dataframe tbody tr th {\n",
       "        vertical-align: top;\n",
       "    }\n",
       "\n",
       "    .dataframe thead th {\n",
       "        text-align: right;\n",
       "    }\n",
       "</style>\n",
       "<table border=\"1\" class=\"dataframe\">\n",
       "  <thead>\n",
       "    <tr style=\"text-align: right;\">\n",
       "      <th></th>\n",
       "      <th>pclass</th>\n",
       "      <th>sex</th>\n",
       "      <th>survived</th>\n",
       "      <th>0</th>\n",
       "    </tr>\n",
       "  </thead>\n",
       "  <tbody>\n",
       "    <tr>\n",
       "      <th>0</th>\n",
       "      <td>1</td>\n",
       "      <td>female</td>\n",
       "      <td>0</td>\n",
       "      <td>5</td>\n",
       "    </tr>\n",
       "    <tr>\n",
       "      <th>1</th>\n",
       "      <td>1</td>\n",
       "      <td>female</td>\n",
       "      <td>1</td>\n",
       "      <td>139</td>\n",
       "    </tr>\n",
       "    <tr>\n",
       "      <th>2</th>\n",
       "      <td>1</td>\n",
       "      <td>male</td>\n",
       "      <td>0</td>\n",
       "      <td>118</td>\n",
       "    </tr>\n",
       "    <tr>\n",
       "      <th>3</th>\n",
       "      <td>1</td>\n",
       "      <td>male</td>\n",
       "      <td>1</td>\n",
       "      <td>61</td>\n",
       "    </tr>\n",
       "    <tr>\n",
       "      <th>4</th>\n",
       "      <td>2</td>\n",
       "      <td>female</td>\n",
       "      <td>0</td>\n",
       "      <td>12</td>\n",
       "    </tr>\n",
       "    <tr>\n",
       "      <th>5</th>\n",
       "      <td>2</td>\n",
       "      <td>female</td>\n",
       "      <td>1</td>\n",
       "      <td>94</td>\n",
       "    </tr>\n",
       "    <tr>\n",
       "      <th>6</th>\n",
       "      <td>2</td>\n",
       "      <td>male</td>\n",
       "      <td>0</td>\n",
       "      <td>146</td>\n",
       "    </tr>\n",
       "    <tr>\n",
       "      <th>7</th>\n",
       "      <td>2</td>\n",
       "      <td>male</td>\n",
       "      <td>1</td>\n",
       "      <td>25</td>\n",
       "    </tr>\n",
       "    <tr>\n",
       "      <th>8</th>\n",
       "      <td>3</td>\n",
       "      <td>female</td>\n",
       "      <td>0</td>\n",
       "      <td>110</td>\n",
       "    </tr>\n",
       "    <tr>\n",
       "      <th>9</th>\n",
       "      <td>3</td>\n",
       "      <td>female</td>\n",
       "      <td>1</td>\n",
       "      <td>106</td>\n",
       "    </tr>\n",
       "    <tr>\n",
       "      <th>10</th>\n",
       "      <td>3</td>\n",
       "      <td>male</td>\n",
       "      <td>0</td>\n",
       "      <td>418</td>\n",
       "    </tr>\n",
       "    <tr>\n",
       "      <th>11</th>\n",
       "      <td>3</td>\n",
       "      <td>male</td>\n",
       "      <td>1</td>\n",
       "      <td>75</td>\n",
       "    </tr>\n",
       "  </tbody>\n",
       "</table>\n",
       "</div>"
      ],
      "text/plain": [
       "    pclass     sex  survived    0\n",
       "0        1  female         0    5\n",
       "1        1  female         1  139\n",
       "2        1    male         0  118\n",
       "3        1    male         1   61\n",
       "4        2  female         0   12\n",
       "5        2  female         1   94\n",
       "6        2    male         0  146\n",
       "7        2    male         1   25\n",
       "8        3  female         0  110\n",
       "9        3  female         1  106\n",
       "10       3    male         0  418\n",
       "11       3    male         1   75"
      ]
     },
     "execution_count": 819,
     "metadata": {},
     "output_type": "execute_result"
    }
   ],
   "source": [
    "titanic.groupby(['pclass','sex','survived']).size().reset_index()"
   ]
  },
  {
   "cell_type": "code",
   "execution_count": 822,
   "id": "7051aeee-d772-4a09-9d18-dbcced7063be",
   "metadata": {},
   "outputs": [
    {
     "data": {
      "text/plain": [
       "pclass  sex     survived\n",
       "1       female  0             5\n",
       "                1           139\n",
       "        male    0           118\n",
       "                1            61\n",
       "2       female  0            12\n",
       "                1            94\n",
       "        male    0           146\n",
       "                1            25\n",
       "3       female  0           110\n",
       "                1           106\n",
       "        male    0           418\n",
       "                1            75\n",
       "dtype: int64"
      ]
     },
     "execution_count": 822,
     "metadata": {},
     "output_type": "execute_result"
    }
   ],
   "source": [
    "titanic.groupby(['pclass','sex','survived']).size()"
   ]
  },
  {
   "cell_type": "code",
   "execution_count": 825,
   "id": "1eea7e7d-6a2c-45d6-bca0-f0cff4e65943",
   "metadata": {},
   "outputs": [
    {
     "data": {
      "text/plain": [
       "0           29\n",
       "1       0.9167\n",
       "2            2\n",
       "3           30\n",
       "4           25\n",
       "         ...  \n",
       "1304      14.5\n",
       "1305         ?\n",
       "1306      26.5\n",
       "1307        27\n",
       "1308        29\n",
       "Name: age, Length: 1309, dtype: object"
      ]
     },
     "execution_count": 825,
     "metadata": {},
     "output_type": "execute_result"
    }
   ],
   "source": [
    "titanic.age"
   ]
  },
  {
   "cell_type": "code",
   "execution_count": 837,
   "id": "7a721ae0-9fb4-4c86-9b79-eaf93bf34efa",
   "metadata": {},
   "outputs": [],
   "source": [
    "# retirando as idades indeterminadas\n",
    "titanic_age = titanic[titanic['age'] != '?'].copy()"
   ]
  },
  {
   "cell_type": "code",
   "execution_count": 843,
   "id": "ba2c25f9-48d3-4e69-97e0-bbc11404f283",
   "metadata": {},
   "outputs": [
    {
     "data": {
      "text/plain": [
       "dtype('O')"
      ]
     },
     "execution_count": 843,
     "metadata": {},
     "output_type": "execute_result"
    }
   ],
   "source": []
  },
  {
   "cell_type": "code",
   "execution_count": 838,
   "id": "fe7b661a-5a96-4f25-9a96-502f937be7aa",
   "metadata": {},
   "outputs": [],
   "source": [
    "# transformando a coluna idade de string para float\n",
    "titanic_age['age'] = titanic_age.age.astype('float')"
   ]
  },
  {
   "cell_type": "code",
   "execution_count": 839,
   "id": "4a6d41d2-17bb-4c78-8ab1-f494933ea587",
   "metadata": {},
   "outputs": [
    {
     "data": {
      "text/plain": [
       "29.8811345124283"
      ]
     },
     "execution_count": 839,
     "metadata": {},
     "output_type": "execute_result"
    }
   ],
   "source": [
    "titanic_age.age.mean()"
   ]
  },
  {
   "cell_type": "code",
   "execution_count": 840,
   "id": "a3c33b4a-5dc5-4fa4-bb69-c763cdd4bdd0",
   "metadata": {},
   "outputs": [
    {
     "data": {
      "text/html": [
       "<div>\n",
       "<style scoped>\n",
       "    .dataframe tbody tr th:only-of-type {\n",
       "        vertical-align: middle;\n",
       "    }\n",
       "\n",
       "    .dataframe tbody tr th {\n",
       "        vertical-align: top;\n",
       "    }\n",
       "\n",
       "    .dataframe thead th {\n",
       "        text-align: right;\n",
       "    }\n",
       "</style>\n",
       "<table border=\"1\" class=\"dataframe\">\n",
       "  <thead>\n",
       "    <tr style=\"text-align: right;\">\n",
       "      <th></th>\n",
       "      <th>survived</th>\n",
       "      <th>age</th>\n",
       "      <th>sibsp</th>\n",
       "      <th>parch</th>\n",
       "    </tr>\n",
       "    <tr>\n",
       "      <th>pclass</th>\n",
       "      <th></th>\n",
       "      <th></th>\n",
       "      <th></th>\n",
       "      <th></th>\n",
       "    </tr>\n",
       "  </thead>\n",
       "  <tbody>\n",
       "    <tr>\n",
       "      <th>1</th>\n",
       "      <td>0.637324</td>\n",
       "      <td>39.159918</td>\n",
       "      <td>0.475352</td>\n",
       "      <td>0.411972</td>\n",
       "    </tr>\n",
       "    <tr>\n",
       "      <th>2</th>\n",
       "      <td>0.440613</td>\n",
       "      <td>29.506705</td>\n",
       "      <td>0.417625</td>\n",
       "      <td>0.390805</td>\n",
       "    </tr>\n",
       "    <tr>\n",
       "      <th>3</th>\n",
       "      <td>0.261477</td>\n",
       "      <td>24.816367</td>\n",
       "      <td>0.562874</td>\n",
       "      <td>0.441118</td>\n",
       "    </tr>\n",
       "  </tbody>\n",
       "</table>\n",
       "</div>"
      ],
      "text/plain": [
       "        survived        age     sibsp     parch\n",
       "pclass                                         \n",
       "1       0.637324  39.159918  0.475352  0.411972\n",
       "2       0.440613  29.506705  0.417625  0.390805\n",
       "3       0.261477  24.816367  0.562874  0.441118"
      ]
     },
     "execution_count": 840,
     "metadata": {},
     "output_type": "execute_result"
    }
   ],
   "source": [
    "titanic_age.groupby(['pclass']).mean()"
   ]
  },
  {
   "cell_type": "code",
   "execution_count": 841,
   "id": "0c584d1a-a453-47a5-8aa2-ed02dc552b7c",
   "metadata": {},
   "outputs": [
    {
     "data": {
      "text/html": [
       "<div>\n",
       "<style scoped>\n",
       "    .dataframe tbody tr th:only-of-type {\n",
       "        vertical-align: middle;\n",
       "    }\n",
       "\n",
       "    .dataframe tbody tr th {\n",
       "        vertical-align: top;\n",
       "    }\n",
       "\n",
       "    .dataframe thead th {\n",
       "        text-align: right;\n",
       "    }\n",
       "</style>\n",
       "<table border=\"1\" class=\"dataframe\">\n",
       "  <thead>\n",
       "    <tr style=\"text-align: right;\">\n",
       "      <th></th>\n",
       "      <th></th>\n",
       "      <th>survived</th>\n",
       "      <th>age</th>\n",
       "      <th>sibsp</th>\n",
       "      <th>parch</th>\n",
       "    </tr>\n",
       "    <tr>\n",
       "      <th>pclass</th>\n",
       "      <th>sex</th>\n",
       "      <th></th>\n",
       "      <th></th>\n",
       "      <th></th>\n",
       "      <th></th>\n",
       "    </tr>\n",
       "  </thead>\n",
       "  <tbody>\n",
       "    <tr>\n",
       "      <th rowspan=\"2\" valign=\"top\">1</th>\n",
       "      <th>female</th>\n",
       "      <td>0.962406</td>\n",
       "      <td>37.037594</td>\n",
       "      <td>0.556391</td>\n",
       "      <td>0.503759</td>\n",
       "    </tr>\n",
       "    <tr>\n",
       "      <th>male</th>\n",
       "      <td>0.350993</td>\n",
       "      <td>41.029250</td>\n",
       "      <td>0.403974</td>\n",
       "      <td>0.331126</td>\n",
       "    </tr>\n",
       "    <tr>\n",
       "      <th rowspan=\"2\" valign=\"top\">2</th>\n",
       "      <th>female</th>\n",
       "      <td>0.893204</td>\n",
       "      <td>27.499191</td>\n",
       "      <td>0.514563</td>\n",
       "      <td>0.669903</td>\n",
       "    </tr>\n",
       "    <tr>\n",
       "      <th>male</th>\n",
       "      <td>0.145570</td>\n",
       "      <td>30.815401</td>\n",
       "      <td>0.354430</td>\n",
       "      <td>0.208861</td>\n",
       "    </tr>\n",
       "    <tr>\n",
       "      <th rowspan=\"2\" valign=\"top\">3</th>\n",
       "      <th>female</th>\n",
       "      <td>0.473684</td>\n",
       "      <td>22.185307</td>\n",
       "      <td>0.736842</td>\n",
       "      <td>0.796053</td>\n",
       "    </tr>\n",
       "    <tr>\n",
       "      <th>male</th>\n",
       "      <td>0.169054</td>\n",
       "      <td>25.962273</td>\n",
       "      <td>0.487106</td>\n",
       "      <td>0.286533</td>\n",
       "    </tr>\n",
       "  </tbody>\n",
       "</table>\n",
       "</div>"
      ],
      "text/plain": [
       "               survived        age     sibsp     parch\n",
       "pclass sex                                            \n",
       "1      female  0.962406  37.037594  0.556391  0.503759\n",
       "       male    0.350993  41.029250  0.403974  0.331126\n",
       "2      female  0.893204  27.499191  0.514563  0.669903\n",
       "       male    0.145570  30.815401  0.354430  0.208861\n",
       "3      female  0.473684  22.185307  0.736842  0.796053\n",
       "       male    0.169054  25.962273  0.487106  0.286533"
      ]
     },
     "execution_count": 841,
     "metadata": {},
     "output_type": "execute_result"
    }
   ],
   "source": [
    "titanic_age.groupby(['pclass', 'sex']).mean()"
   ]
  },
  {
   "cell_type": "code",
   "execution_count": 854,
   "id": "c926450a-387e-4ae8-83b2-865592895318",
   "metadata": {},
   "outputs": [
    {
     "data": {
      "text/html": [
       "<div>\n",
       "<style scoped>\n",
       "    .dataframe tbody tr th:only-of-type {\n",
       "        vertical-align: middle;\n",
       "    }\n",
       "\n",
       "    .dataframe tbody tr th {\n",
       "        vertical-align: top;\n",
       "    }\n",
       "\n",
       "    .dataframe thead th {\n",
       "        text-align: right;\n",
       "    }\n",
       "</style>\n",
       "<table border=\"1\" class=\"dataframe\">\n",
       "  <thead>\n",
       "    <tr style=\"text-align: right;\">\n",
       "      <th></th>\n",
       "      <th></th>\n",
       "      <th>survived</th>\n",
       "      <th>age</th>\n",
       "      <th>sibsp</th>\n",
       "      <th>parch</th>\n",
       "    </tr>\n",
       "    <tr>\n",
       "      <th>pclass</th>\n",
       "      <th>sex</th>\n",
       "      <th></th>\n",
       "      <th></th>\n",
       "      <th></th>\n",
       "      <th></th>\n",
       "    </tr>\n",
       "  </thead>\n",
       "  <tbody>\n",
       "    <tr>\n",
       "      <th rowspan=\"2\" valign=\"top\">1</th>\n",
       "      <th>female</th>\n",
       "      <td>1.0</td>\n",
       "      <td>36.0</td>\n",
       "      <td>0.0</td>\n",
       "      <td>0.0</td>\n",
       "    </tr>\n",
       "    <tr>\n",
       "      <th>male</th>\n",
       "      <td>0.0</td>\n",
       "      <td>42.0</td>\n",
       "      <td>0.0</td>\n",
       "      <td>0.0</td>\n",
       "    </tr>\n",
       "    <tr>\n",
       "      <th rowspan=\"2\" valign=\"top\">2</th>\n",
       "      <th>female</th>\n",
       "      <td>1.0</td>\n",
       "      <td>28.0</td>\n",
       "      <td>0.0</td>\n",
       "      <td>0.0</td>\n",
       "    </tr>\n",
       "    <tr>\n",
       "      <th>male</th>\n",
       "      <td>0.0</td>\n",
       "      <td>29.5</td>\n",
       "      <td>0.0</td>\n",
       "      <td>0.0</td>\n",
       "    </tr>\n",
       "    <tr>\n",
       "      <th rowspan=\"2\" valign=\"top\">3</th>\n",
       "      <th>female</th>\n",
       "      <td>0.0</td>\n",
       "      <td>22.0</td>\n",
       "      <td>0.0</td>\n",
       "      <td>0.0</td>\n",
       "    </tr>\n",
       "    <tr>\n",
       "      <th>male</th>\n",
       "      <td>0.0</td>\n",
       "      <td>25.0</td>\n",
       "      <td>0.0</td>\n",
       "      <td>0.0</td>\n",
       "    </tr>\n",
       "  </tbody>\n",
       "</table>\n",
       "</div>"
      ],
      "text/plain": [
       "               survived   age  sibsp  parch\n",
       "pclass sex                                 \n",
       "1      female       1.0  36.0    0.0    0.0\n",
       "       male         0.0  42.0    0.0    0.0\n",
       "2      female       1.0  28.0    0.0    0.0\n",
       "       male         0.0  29.5    0.0    0.0\n",
       "3      female       0.0  22.0    0.0    0.0\n",
       "       male         0.0  25.0    0.0    0.0"
      ]
     },
     "execution_count": 854,
     "metadata": {},
     "output_type": "execute_result"
    }
   ],
   "source": [
    "titanic_age.groupby(['pclass', 'sex']).median()"
   ]
  },
  {
   "cell_type": "code",
   "execution_count": 856,
   "id": "51792d31-0c1d-4297-962a-da44905e9adf",
   "metadata": {},
   "outputs": [
    {
     "data": {
      "text/html": [
       "<div>\n",
       "<style scoped>\n",
       "    .dataframe tbody tr th:only-of-type {\n",
       "        vertical-align: middle;\n",
       "    }\n",
       "\n",
       "    .dataframe tbody tr th {\n",
       "        vertical-align: top;\n",
       "    }\n",
       "\n",
       "    .dataframe thead tr th {\n",
       "        text-align: left;\n",
       "    }\n",
       "\n",
       "    .dataframe thead tr:last-of-type th {\n",
       "        text-align: right;\n",
       "    }\n",
       "</style>\n",
       "<table border=\"1\" class=\"dataframe\">\n",
       "  <thead>\n",
       "    <tr>\n",
       "      <th></th>\n",
       "      <th></th>\n",
       "      <th colspan=\"3\" halign=\"left\">survived</th>\n",
       "      <th colspan=\"5\" halign=\"left\">age</th>\n",
       "      <th>sibsp</th>\n",
       "    </tr>\n",
       "    <tr>\n",
       "      <th></th>\n",
       "      <th></th>\n",
       "      <th>mean</th>\n",
       "      <th>median</th>\n",
       "      <th>std</th>\n",
       "      <th>mean</th>\n",
       "      <th>median</th>\n",
       "      <th>std</th>\n",
       "      <th>max</th>\n",
       "      <th>min</th>\n",
       "      <th>max</th>\n",
       "    </tr>\n",
       "    <tr>\n",
       "      <th>pclass</th>\n",
       "      <th>sex</th>\n",
       "      <th></th>\n",
       "      <th></th>\n",
       "      <th></th>\n",
       "      <th></th>\n",
       "      <th></th>\n",
       "      <th></th>\n",
       "      <th></th>\n",
       "      <th></th>\n",
       "      <th></th>\n",
       "    </tr>\n",
       "  </thead>\n",
       "  <tbody>\n",
       "    <tr>\n",
       "      <th rowspan=\"2\" valign=\"top\">1</th>\n",
       "      <th>female</th>\n",
       "      <td>0.962406</td>\n",
       "      <td>1.0</td>\n",
       "      <td>0.190931</td>\n",
       "      <td>37.037594</td>\n",
       "      <td>36.0</td>\n",
       "      <td>14.272460</td>\n",
       "      <td>76.0</td>\n",
       "      <td>2.0000</td>\n",
       "      <td>3</td>\n",
       "    </tr>\n",
       "    <tr>\n",
       "      <th>male</th>\n",
       "      <td>0.350993</td>\n",
       "      <td>0.0</td>\n",
       "      <td>0.478869</td>\n",
       "      <td>41.029250</td>\n",
       "      <td>42.0</td>\n",
       "      <td>14.578590</td>\n",
       "      <td>80.0</td>\n",
       "      <td>0.9167</td>\n",
       "      <td>3</td>\n",
       "    </tr>\n",
       "    <tr>\n",
       "      <th rowspan=\"2\" valign=\"top\">2</th>\n",
       "      <th>female</th>\n",
       "      <td>0.893204</td>\n",
       "      <td>1.0</td>\n",
       "      <td>0.310364</td>\n",
       "      <td>27.499191</td>\n",
       "      <td>28.0</td>\n",
       "      <td>12.911813</td>\n",
       "      <td>60.0</td>\n",
       "      <td>0.9167</td>\n",
       "      <td>3</td>\n",
       "    </tr>\n",
       "    <tr>\n",
       "      <th>male</th>\n",
       "      <td>0.145570</td>\n",
       "      <td>0.0</td>\n",
       "      <td>0.353796</td>\n",
       "      <td>30.815401</td>\n",
       "      <td>29.5</td>\n",
       "      <td>13.977355</td>\n",
       "      <td>70.0</td>\n",
       "      <td>0.6667</td>\n",
       "      <td>2</td>\n",
       "    </tr>\n",
       "    <tr>\n",
       "      <th rowspan=\"2\" valign=\"top\">3</th>\n",
       "      <th>female</th>\n",
       "      <td>0.473684</td>\n",
       "      <td>0.0</td>\n",
       "      <td>0.500958</td>\n",
       "      <td>22.185307</td>\n",
       "      <td>22.0</td>\n",
       "      <td>12.205294</td>\n",
       "      <td>63.0</td>\n",
       "      <td>0.1667</td>\n",
       "      <td>5</td>\n",
       "    </tr>\n",
       "    <tr>\n",
       "      <th>male</th>\n",
       "      <td>0.169054</td>\n",
       "      <td>0.0</td>\n",
       "      <td>0.375338</td>\n",
       "      <td>25.962273</td>\n",
       "      <td>25.0</td>\n",
       "      <td>11.682395</td>\n",
       "      <td>74.0</td>\n",
       "      <td>0.3333</td>\n",
       "      <td>8</td>\n",
       "    </tr>\n",
       "  </tbody>\n",
       "</table>\n",
       "</div>"
      ],
      "text/plain": [
       "               survived                         age                          \\\n",
       "                   mean median       std       mean median        std   max   \n",
       "pclass sex                                                                    \n",
       "1      female  0.962406    1.0  0.190931  37.037594   36.0  14.272460  76.0   \n",
       "       male    0.350993    0.0  0.478869  41.029250   42.0  14.578590  80.0   \n",
       "2      female  0.893204    1.0  0.310364  27.499191   28.0  12.911813  60.0   \n",
       "       male    0.145570    0.0  0.353796  30.815401   29.5  13.977355  70.0   \n",
       "3      female  0.473684    0.0  0.500958  22.185307   22.0  12.205294  63.0   \n",
       "       male    0.169054    0.0  0.375338  25.962273   25.0  11.682395  74.0   \n",
       "\n",
       "                      sibsp  \n",
       "                  min   max  \n",
       "pclass sex                   \n",
       "1      female  2.0000     3  \n",
       "       male    0.9167     3  \n",
       "2      female  0.9167     3  \n",
       "       male    0.6667     2  \n",
       "3      female  0.1667     5  \n",
       "       male    0.3333     8  "
      ]
     },
     "execution_count": 856,
     "metadata": {},
     "output_type": "execute_result"
    }
   ],
   "source": [
    "(titanic_age\n",
    "    .groupby(['pclass', 'sex'])\n",
    "    .agg({\n",
    "             'survived': ['mean', 'median', 'std'],\n",
    "             'age': ['mean', 'median', 'std', 'max', 'min'],\n",
    "             'sibsp': 'max'\n",
    "         }))"
   ]
  },
  {
   "cell_type": "code",
   "execution_count": 865,
   "id": "3c0335a4-e090-485b-83c3-6100532950ec",
   "metadata": {},
   "outputs": [
    {
     "name": "stdout",
     "output_type": "stream",
     "text": [
      "[1]\n"
     ]
    },
    {
     "name": "stderr",
     "output_type": "stream",
     "text": [
      "<ipython-input-865-774343500f2e>:4: FutureWarning: Dropping of nuisance columns in DataFrame reductions (with 'numeric_only=None') is deprecated; in a future version this will raise TypeError.  Select only valid columns before calling the reduction.\n",
      "  display(g.mean())\n"
     ]
    },
    {
     "data": {
      "text/plain": [
       "pclass       1.000000\n",
       "survived     0.637324\n",
       "age         39.159918\n",
       "sibsp        0.475352\n",
       "parch        0.411972\n",
       "dtype: float64"
      ]
     },
     "metadata": {},
     "output_type": "display_data"
    },
    {
     "name": "stdout",
     "output_type": "stream",
     "text": [
      "[2]\n"
     ]
    },
    {
     "data": {
      "text/plain": [
       "pclass       2.000000\n",
       "survived     0.440613\n",
       "age         29.506705\n",
       "sibsp        0.417625\n",
       "parch        0.390805\n",
       "dtype: float64"
      ]
     },
     "metadata": {},
     "output_type": "display_data"
    },
    {
     "name": "stdout",
     "output_type": "stream",
     "text": [
      "[3]\n"
     ]
    },
    {
     "data": {
      "text/plain": [
       "pclass       3.000000\n",
       "survived     0.261477\n",
       "age         24.816367\n",
       "sibsp        0.562874\n",
       "parch        0.441118\n",
       "dtype: float64"
      ]
     },
     "metadata": {},
     "output_type": "display_data"
    }
   ],
   "source": [
    "# quando realizamos o groupby realizamos operações em sub-tabelas\n",
    "for i, g in titanic_age.groupby(['pclass']):\n",
    "    print(g.pclass.unique())\n",
    "    display(g.mean())"
   ]
  },
  {
   "cell_type": "code",
   "execution_count": 864,
   "id": "2f2827d2-e20f-4f62-8809-a380b7bbbba2",
   "metadata": {},
   "outputs": [
    {
     "name": "stderr",
     "output_type": "stream",
     "text": [
      "<ipython-input-864-c79523bc0c66>:1: FutureWarning: Dropping of nuisance columns in DataFrame reductions (with 'numeric_only=None') is deprecated; in a future version this will raise TypeError.  Select only valid columns before calling the reduction.\n",
      "  g.mean()\n"
     ]
    },
    {
     "data": {
      "text/plain": [
       "pclass       3.000000\n",
       "survived     0.261477\n",
       "age         24.816367\n",
       "sibsp        0.562874\n",
       "parch        0.441118\n",
       "dtype: float64"
      ]
     },
     "execution_count": 864,
     "metadata": {},
     "output_type": "execute_result"
    }
   ],
   "source": []
  },
  {
   "cell_type": "markdown",
   "id": "16ec01cc-5d94-4742-adb1-71b828551b44",
   "metadata": {},
   "source": [
    "## Pivot"
   ]
  },
  {
   "cell_type": "code",
   "execution_count": 871,
   "id": "56bd5aa5-3188-42e6-831f-028db14d0e27",
   "metadata": {},
   "outputs": [
    {
     "data": {
      "text/html": [
       "<div>\n",
       "<style scoped>\n",
       "    .dataframe tbody tr th:only-of-type {\n",
       "        vertical-align: middle;\n",
       "    }\n",
       "\n",
       "    .dataframe tbody tr th {\n",
       "        vertical-align: top;\n",
       "    }\n",
       "\n",
       "    .dataframe thead th {\n",
       "        text-align: right;\n",
       "    }\n",
       "</style>\n",
       "<table border=\"1\" class=\"dataframe\">\n",
       "  <thead>\n",
       "    <tr style=\"text-align: right;\">\n",
       "      <th></th>\n",
       "      <th>foo</th>\n",
       "      <th>bar</th>\n",
       "      <th>baz</th>\n",
       "      <th>zoo</th>\n",
       "    </tr>\n",
       "  </thead>\n",
       "  <tbody>\n",
       "    <tr>\n",
       "      <th>0</th>\n",
       "      <td>one</td>\n",
       "      <td>A</td>\n",
       "      <td>1</td>\n",
       "      <td>x</td>\n",
       "    </tr>\n",
       "    <tr>\n",
       "      <th>1</th>\n",
       "      <td>one</td>\n",
       "      <td>B</td>\n",
       "      <td>2</td>\n",
       "      <td>y</td>\n",
       "    </tr>\n",
       "    <tr>\n",
       "      <th>2</th>\n",
       "      <td>one</td>\n",
       "      <td>C</td>\n",
       "      <td>3</td>\n",
       "      <td>z</td>\n",
       "    </tr>\n",
       "    <tr>\n",
       "      <th>3</th>\n",
       "      <td>two</td>\n",
       "      <td>A</td>\n",
       "      <td>4</td>\n",
       "      <td>q</td>\n",
       "    </tr>\n",
       "    <tr>\n",
       "      <th>4</th>\n",
       "      <td>two</td>\n",
       "      <td>B</td>\n",
       "      <td>5</td>\n",
       "      <td>w</td>\n",
       "    </tr>\n",
       "    <tr>\n",
       "      <th>5</th>\n",
       "      <td>two</td>\n",
       "      <td>C</td>\n",
       "      <td>6</td>\n",
       "      <td>t</td>\n",
       "    </tr>\n",
       "  </tbody>\n",
       "</table>\n",
       "</div>"
      ],
      "text/plain": [
       "   foo bar  baz zoo\n",
       "0  one   A    1   x\n",
       "1  one   B    2   y\n",
       "2  one   C    3   z\n",
       "3  two   A    4   q\n",
       "4  two   B    5   w\n",
       "5  two   C    6   t"
      ]
     },
     "execution_count": 871,
     "metadata": {},
     "output_type": "execute_result"
    }
   ],
   "source": [
    "df = pd.DataFrame({'foo': ['one', 'one', 'one', 'two', 'two',\n",
    "                   'two'],\n",
    "                    'bar': ['A', 'B', 'C', 'A', 'B', 'C'],\n",
    "                   'baz': [1, 2, 3, 4, 5, 6],\n",
    "                        'zoo': ['x', 'y', 'z', 'q', 'w', 't']})\n",
    "df"
   ]
  },
  {
   "cell_type": "code",
   "execution_count": 872,
   "id": "1f6583aa-1ea6-4d5c-be94-2f8408d083e3",
   "metadata": {},
   "outputs": [
    {
     "data": {
      "text/html": [
       "<div>\n",
       "<style scoped>\n",
       "    .dataframe tbody tr th:only-of-type {\n",
       "        vertical-align: middle;\n",
       "    }\n",
       "\n",
       "    .dataframe tbody tr th {\n",
       "        vertical-align: top;\n",
       "    }\n",
       "\n",
       "    .dataframe thead th {\n",
       "        text-align: right;\n",
       "    }\n",
       "</style>\n",
       "<table border=\"1\" class=\"dataframe\">\n",
       "  <thead>\n",
       "    <tr style=\"text-align: right;\">\n",
       "      <th>bar</th>\n",
       "      <th>A</th>\n",
       "      <th>B</th>\n",
       "      <th>C</th>\n",
       "    </tr>\n",
       "    <tr>\n",
       "      <th>foo</th>\n",
       "      <th></th>\n",
       "      <th></th>\n",
       "      <th></th>\n",
       "    </tr>\n",
       "  </thead>\n",
       "  <tbody>\n",
       "    <tr>\n",
       "      <th>one</th>\n",
       "      <td>1</td>\n",
       "      <td>2</td>\n",
       "      <td>3</td>\n",
       "    </tr>\n",
       "    <tr>\n",
       "      <th>two</th>\n",
       "      <td>4</td>\n",
       "      <td>5</td>\n",
       "      <td>6</td>\n",
       "    </tr>\n",
       "  </tbody>\n",
       "</table>\n",
       "</div>"
      ],
      "text/plain": [
       "bar  A  B  C\n",
       "foo         \n",
       "one  1  2  3\n",
       "two  4  5  6"
      ]
     },
     "execution_count": 872,
     "metadata": {},
     "output_type": "execute_result"
    }
   ],
   "source": [
    "df.pivot(index='foo', columns=['bar'],values='baz')"
   ]
  },
  {
   "cell_type": "code",
   "execution_count": 880,
   "id": "37f9387f-3d2c-40e8-8108-8d66394d986a",
   "metadata": {},
   "outputs": [
    {
     "data": {
      "text/html": [
       "<div>\n",
       "<style scoped>\n",
       "    .dataframe tbody tr th:only-of-type {\n",
       "        vertical-align: middle;\n",
       "    }\n",
       "\n",
       "    .dataframe tbody tr th {\n",
       "        vertical-align: top;\n",
       "    }\n",
       "\n",
       "    .dataframe thead th {\n",
       "        text-align: right;\n",
       "    }\n",
       "</style>\n",
       "<table border=\"1\" class=\"dataframe\">\n",
       "  <thead>\n",
       "    <tr style=\"text-align: right;\">\n",
       "      <th></th>\n",
       "      <th>pclass</th>\n",
       "      <th>sex</th>\n",
       "      <th>age</th>\n",
       "    </tr>\n",
       "  </thead>\n",
       "  <tbody>\n",
       "    <tr>\n",
       "      <th>0</th>\n",
       "      <td>1</td>\n",
       "      <td>female</td>\n",
       "      <td>29.0000</td>\n",
       "    </tr>\n",
       "    <tr>\n",
       "      <th>1</th>\n",
       "      <td>1</td>\n",
       "      <td>male</td>\n",
       "      <td>0.9167</td>\n",
       "    </tr>\n",
       "    <tr>\n",
       "      <th>2</th>\n",
       "      <td>1</td>\n",
       "      <td>female</td>\n",
       "      <td>2.0000</td>\n",
       "    </tr>\n",
       "    <tr>\n",
       "      <th>3</th>\n",
       "      <td>1</td>\n",
       "      <td>male</td>\n",
       "      <td>30.0000</td>\n",
       "    </tr>\n",
       "    <tr>\n",
       "      <th>4</th>\n",
       "      <td>1</td>\n",
       "      <td>female</td>\n",
       "      <td>25.0000</td>\n",
       "    </tr>\n",
       "  </tbody>\n",
       "</table>\n",
       "</div>"
      ],
      "text/plain": [
       "   pclass     sex      age\n",
       "0       1  female  29.0000\n",
       "1       1    male   0.9167\n",
       "2       1  female   2.0000\n",
       "3       1    male  30.0000\n",
       "4       1  female  25.0000"
      ]
     },
     "execution_count": 880,
     "metadata": {},
     "output_type": "execute_result"
    }
   ],
   "source": [
    "titanic_age.head()[['pclass', 'sex', 'age']]"
   ]
  },
  {
   "cell_type": "code",
   "execution_count": 888,
   "id": "544cba0b-a9af-4ecd-b275-3ee200200362",
   "metadata": {},
   "outputs": [
    {
     "data": {
      "text/html": [
       "<div>\n",
       "<style scoped>\n",
       "    .dataframe tbody tr th:only-of-type {\n",
       "        vertical-align: middle;\n",
       "    }\n",
       "\n",
       "    .dataframe tbody tr th {\n",
       "        vertical-align: top;\n",
       "    }\n",
       "\n",
       "    .dataframe thead tr th {\n",
       "        text-align: left;\n",
       "    }\n",
       "\n",
       "    .dataframe thead tr:last-of-type th {\n",
       "        text-align: right;\n",
       "    }\n",
       "</style>\n",
       "<table border=\"1\" class=\"dataframe\">\n",
       "  <thead>\n",
       "    <tr>\n",
       "      <th></th>\n",
       "      <th colspan=\"3\" halign=\"left\">age</th>\n",
       "    </tr>\n",
       "    <tr>\n",
       "      <th>pclass</th>\n",
       "      <th>1</th>\n",
       "      <th>2</th>\n",
       "      <th>3</th>\n",
       "    </tr>\n",
       "    <tr>\n",
       "      <th>sex</th>\n",
       "      <th></th>\n",
       "      <th></th>\n",
       "      <th></th>\n",
       "    </tr>\n",
       "  </thead>\n",
       "  <tbody>\n",
       "    <tr>\n",
       "      <th>female</th>\n",
       "      <td>37.037594</td>\n",
       "      <td>27.499191</td>\n",
       "      <td>22.185307</td>\n",
       "    </tr>\n",
       "    <tr>\n",
       "      <th>male</th>\n",
       "      <td>41.029250</td>\n",
       "      <td>30.815401</td>\n",
       "      <td>25.962273</td>\n",
       "    </tr>\n",
       "  </tbody>\n",
       "</table>\n",
       "</div>"
      ],
      "text/plain": [
       "              age                      \n",
       "pclass          1          2          3\n",
       "sex                                    \n",
       "female  37.037594  27.499191  22.185307\n",
       "male    41.029250  30.815401  25.962273"
      ]
     },
     "execution_count": 888,
     "metadata": {},
     "output_type": "execute_result"
    }
   ],
   "source": [
    "(titanic_age\n",
    " .groupby(['sex', 'pclass'])\n",
    " .age.mean()\n",
    " .reset_index()\n",
    " .pivot('sex', 'pclass'))"
   ]
  },
  {
   "cell_type": "code",
   "execution_count": 882,
   "id": "c83d9aaa-158e-45b7-97f2-4244f6baf0f3",
   "metadata": {},
   "outputs": [
    {
     "data": {
      "text/html": [
       "<div>\n",
       "<style scoped>\n",
       "    .dataframe tbody tr th:only-of-type {\n",
       "        vertical-align: middle;\n",
       "    }\n",
       "\n",
       "    .dataframe tbody tr th {\n",
       "        vertical-align: top;\n",
       "    }\n",
       "\n",
       "    .dataframe thead th {\n",
       "        text-align: right;\n",
       "    }\n",
       "</style>\n",
       "<table border=\"1\" class=\"dataframe\">\n",
       "  <thead>\n",
       "    <tr style=\"text-align: right;\">\n",
       "      <th>pclass</th>\n",
       "      <th>1</th>\n",
       "      <th>2</th>\n",
       "      <th>3</th>\n",
       "    </tr>\n",
       "    <tr>\n",
       "      <th>sex</th>\n",
       "      <th></th>\n",
       "      <th></th>\n",
       "      <th></th>\n",
       "    </tr>\n",
       "  </thead>\n",
       "  <tbody>\n",
       "    <tr>\n",
       "      <th>female</th>\n",
       "      <td>37.037594</td>\n",
       "      <td>27.499191</td>\n",
       "      <td>22.185307</td>\n",
       "    </tr>\n",
       "    <tr>\n",
       "      <th>male</th>\n",
       "      <td>41.029250</td>\n",
       "      <td>30.815401</td>\n",
       "      <td>25.962273</td>\n",
       "    </tr>\n",
       "  </tbody>\n",
       "</table>\n",
       "</div>"
      ],
      "text/plain": [
       "pclass          1          2          3\n",
       "sex                                    \n",
       "female  37.037594  27.499191  22.185307\n",
       "male    41.029250  30.815401  25.962273"
      ]
     },
     "execution_count": 882,
     "metadata": {},
     "output_type": "execute_result"
    }
   ],
   "source": [
    "titanic_age.pivot_table(index='sex', columns='pclass', values='age', aggfunc=np.mean)"
   ]
  },
  {
   "cell_type": "code",
   "execution_count": 896,
   "id": "1e0468fc-4c79-4f7e-86e1-dbba2ba965ec",
   "metadata": {},
   "outputs": [],
   "source": [
    "df = pd.DataFrame([\n",
    "    ['A', 'B', 1],\n",
    "    ['B', 'C', 3],\n",
    "    ['A', 'C', 4],\n",
    "    ['B', 'A', 0],\n",
    "    ['C', 'A', 3]\n",
    "])"
   ]
  },
  {
   "cell_type": "code",
   "execution_count": 898,
   "id": "546f45e7-71bb-4f5c-8b10-47cfa97517a0",
   "metadata": {},
   "outputs": [
    {
     "data": {
      "text/html": [
       "<div>\n",
       "<style scoped>\n",
       "    .dataframe tbody tr th:only-of-type {\n",
       "        vertical-align: middle;\n",
       "    }\n",
       "\n",
       "    .dataframe tbody tr th {\n",
       "        vertical-align: top;\n",
       "    }\n",
       "\n",
       "    .dataframe thead th {\n",
       "        text-align: right;\n",
       "    }\n",
       "</style>\n",
       "<table border=\"1\" class=\"dataframe\">\n",
       "  <thead>\n",
       "    <tr style=\"text-align: right;\">\n",
       "      <th></th>\n",
       "      <th>0</th>\n",
       "      <th>1</th>\n",
       "      <th>2</th>\n",
       "    </tr>\n",
       "  </thead>\n",
       "  <tbody>\n",
       "    <tr>\n",
       "      <th>0</th>\n",
       "      <td>A</td>\n",
       "      <td>B</td>\n",
       "      <td>1</td>\n",
       "    </tr>\n",
       "    <tr>\n",
       "      <th>1</th>\n",
       "      <td>B</td>\n",
       "      <td>C</td>\n",
       "      <td>3</td>\n",
       "    </tr>\n",
       "    <tr>\n",
       "      <th>2</th>\n",
       "      <td>A</td>\n",
       "      <td>C</td>\n",
       "      <td>4</td>\n",
       "    </tr>\n",
       "    <tr>\n",
       "      <th>3</th>\n",
       "      <td>B</td>\n",
       "      <td>A</td>\n",
       "      <td>0</td>\n",
       "    </tr>\n",
       "    <tr>\n",
       "      <th>4</th>\n",
       "      <td>C</td>\n",
       "      <td>A</td>\n",
       "      <td>3</td>\n",
       "    </tr>\n",
       "  </tbody>\n",
       "</table>\n",
       "</div>"
      ],
      "text/plain": [
       "   0  1  2\n",
       "0  A  B  1\n",
       "1  B  C  3\n",
       "2  A  C  4\n",
       "3  B  A  0\n",
       "4  C  A  3"
      ]
     },
     "execution_count": 898,
     "metadata": {},
     "output_type": "execute_result"
    }
   ],
   "source": [
    "df"
   ]
  },
  {
   "cell_type": "code",
   "execution_count": 899,
   "id": "0fbf83cb-cb5f-426b-b1a6-fc6ec3c8493b",
   "metadata": {},
   "outputs": [],
   "source": [
    "df_pivot = df.pivot(0, 1, 2)"
   ]
  },
  {
   "cell_type": "markdown",
   "id": "163ddf21-fbc5-4c9a-9437-e187af463d8d",
   "metadata": {},
   "source": [
    "## Melt"
   ]
  },
  {
   "cell_type": "code",
   "execution_count": 900,
   "id": "0f750fac-5afd-49e3-aa3a-bd6ce910bc22",
   "metadata": {},
   "outputs": [
    {
     "data": {
      "text/html": [
       "<div>\n",
       "<style scoped>\n",
       "    .dataframe tbody tr th:only-of-type {\n",
       "        vertical-align: middle;\n",
       "    }\n",
       "\n",
       "    .dataframe tbody tr th {\n",
       "        vertical-align: top;\n",
       "    }\n",
       "\n",
       "    .dataframe thead th {\n",
       "        text-align: right;\n",
       "    }\n",
       "</style>\n",
       "<table border=\"1\" class=\"dataframe\">\n",
       "  <thead>\n",
       "    <tr style=\"text-align: right;\">\n",
       "      <th>1</th>\n",
       "      <th>A</th>\n",
       "      <th>B</th>\n",
       "      <th>C</th>\n",
       "    </tr>\n",
       "    <tr>\n",
       "      <th>0</th>\n",
       "      <th></th>\n",
       "      <th></th>\n",
       "      <th></th>\n",
       "    </tr>\n",
       "  </thead>\n",
       "  <tbody>\n",
       "    <tr>\n",
       "      <th>A</th>\n",
       "      <td>NaN</td>\n",
       "      <td>1.0</td>\n",
       "      <td>4.0</td>\n",
       "    </tr>\n",
       "    <tr>\n",
       "      <th>B</th>\n",
       "      <td>0.0</td>\n",
       "      <td>NaN</td>\n",
       "      <td>3.0</td>\n",
       "    </tr>\n",
       "    <tr>\n",
       "      <th>C</th>\n",
       "      <td>3.0</td>\n",
       "      <td>NaN</td>\n",
       "      <td>NaN</td>\n",
       "    </tr>\n",
       "  </tbody>\n",
       "</table>\n",
       "</div>"
      ],
      "text/plain": [
       "1    A    B    C\n",
       "0               \n",
       "A  NaN  1.0  4.0\n",
       "B  0.0  NaN  3.0\n",
       "C  3.0  NaN  NaN"
      ]
     },
     "execution_count": 900,
     "metadata": {},
     "output_type": "execute_result"
    }
   ],
   "source": [
    "df_pivot"
   ]
  },
  {
   "cell_type": "code",
   "execution_count": 901,
   "id": "76483f41-f7cc-44a3-929f-9f1648db1234",
   "metadata": {},
   "outputs": [],
   "source": [
    "df = pd.DataFrame({'A': {0: 'a', 1: 'b', 2: 'c'},\n",
    "                    'B': {0: 1, 1: 3, 2: 5},\n",
    "                    'C': {0: 2, 1: 4, 2: 6}})"
   ]
  },
  {
   "cell_type": "code",
   "execution_count": 903,
   "id": "82de7193-e0d9-462a-a5ca-9ff03af89728",
   "metadata": {},
   "outputs": [
    {
     "data": {
      "text/html": [
       "<div>\n",
       "<style scoped>\n",
       "    .dataframe tbody tr th:only-of-type {\n",
       "        vertical-align: middle;\n",
       "    }\n",
       "\n",
       "    .dataframe tbody tr th {\n",
       "        vertical-align: top;\n",
       "    }\n",
       "\n",
       "    .dataframe thead th {\n",
       "        text-align: right;\n",
       "    }\n",
       "</style>\n",
       "<table border=\"1\" class=\"dataframe\">\n",
       "  <thead>\n",
       "    <tr style=\"text-align: right;\">\n",
       "      <th></th>\n",
       "      <th>A</th>\n",
       "      <th>B</th>\n",
       "      <th>C</th>\n",
       "    </tr>\n",
       "  </thead>\n",
       "  <tbody>\n",
       "    <tr>\n",
       "      <th>0</th>\n",
       "      <td>a</td>\n",
       "      <td>1</td>\n",
       "      <td>2</td>\n",
       "    </tr>\n",
       "    <tr>\n",
       "      <th>1</th>\n",
       "      <td>b</td>\n",
       "      <td>3</td>\n",
       "      <td>4</td>\n",
       "    </tr>\n",
       "    <tr>\n",
       "      <th>2</th>\n",
       "      <td>c</td>\n",
       "      <td>5</td>\n",
       "      <td>6</td>\n",
       "    </tr>\n",
       "  </tbody>\n",
       "</table>\n",
       "</div>"
      ],
      "text/plain": [
       "   A  B  C\n",
       "0  a  1  2\n",
       "1  b  3  4\n",
       "2  c  5  6"
      ]
     },
     "execution_count": 903,
     "metadata": {},
     "output_type": "execute_result"
    }
   ],
   "source": [
    "df"
   ]
  },
  {
   "cell_type": "code",
   "execution_count": 905,
   "id": "dcd5acf1-5d52-4727-bc8b-e4f0441c1547",
   "metadata": {},
   "outputs": [
    {
     "data": {
      "text/html": [
       "<div>\n",
       "<style scoped>\n",
       "    .dataframe tbody tr th:only-of-type {\n",
       "        vertical-align: middle;\n",
       "    }\n",
       "\n",
       "    .dataframe tbody tr th {\n",
       "        vertical-align: top;\n",
       "    }\n",
       "\n",
       "    .dataframe thead th {\n",
       "        text-align: right;\n",
       "    }\n",
       "</style>\n",
       "<table border=\"1\" class=\"dataframe\">\n",
       "  <thead>\n",
       "    <tr style=\"text-align: right;\">\n",
       "      <th></th>\n",
       "      <th>A</th>\n",
       "      <th>variable</th>\n",
       "      <th>value</th>\n",
       "    </tr>\n",
       "  </thead>\n",
       "  <tbody>\n",
       "    <tr>\n",
       "      <th>0</th>\n",
       "      <td>a</td>\n",
       "      <td>B</td>\n",
       "      <td>1</td>\n",
       "    </tr>\n",
       "    <tr>\n",
       "      <th>1</th>\n",
       "      <td>b</td>\n",
       "      <td>B</td>\n",
       "      <td>3</td>\n",
       "    </tr>\n",
       "    <tr>\n",
       "      <th>2</th>\n",
       "      <td>c</td>\n",
       "      <td>B</td>\n",
       "      <td>5</td>\n",
       "    </tr>\n",
       "  </tbody>\n",
       "</table>\n",
       "</div>"
      ],
      "text/plain": [
       "   A variable  value\n",
       "0  a        B      1\n",
       "1  b        B      3\n",
       "2  c        B      5"
      ]
     },
     "execution_count": 905,
     "metadata": {},
     "output_type": "execute_result"
    }
   ],
   "source": [
    "df.melt(id_vars=['A'], value_vars=['B'])"
   ]
  },
  {
   "cell_type": "code",
   "execution_count": 904,
   "id": "f1907e87-f3af-4121-985e-7eda6c8db378",
   "metadata": {},
   "outputs": [
    {
     "data": {
      "text/html": [
       "<div>\n",
       "<style scoped>\n",
       "    .dataframe tbody tr th:only-of-type {\n",
       "        vertical-align: middle;\n",
       "    }\n",
       "\n",
       "    .dataframe tbody tr th {\n",
       "        vertical-align: top;\n",
       "    }\n",
       "\n",
       "    .dataframe thead th {\n",
       "        text-align: right;\n",
       "    }\n",
       "</style>\n",
       "<table border=\"1\" class=\"dataframe\">\n",
       "  <thead>\n",
       "    <tr style=\"text-align: right;\">\n",
       "      <th></th>\n",
       "      <th>A</th>\n",
       "      <th>variable</th>\n",
       "      <th>value</th>\n",
       "    </tr>\n",
       "  </thead>\n",
       "  <tbody>\n",
       "    <tr>\n",
       "      <th>0</th>\n",
       "      <td>a</td>\n",
       "      <td>B</td>\n",
       "      <td>1</td>\n",
       "    </tr>\n",
       "    <tr>\n",
       "      <th>1</th>\n",
       "      <td>b</td>\n",
       "      <td>B</td>\n",
       "      <td>3</td>\n",
       "    </tr>\n",
       "    <tr>\n",
       "      <th>2</th>\n",
       "      <td>c</td>\n",
       "      <td>B</td>\n",
       "      <td>5</td>\n",
       "    </tr>\n",
       "    <tr>\n",
       "      <th>3</th>\n",
       "      <td>a</td>\n",
       "      <td>C</td>\n",
       "      <td>2</td>\n",
       "    </tr>\n",
       "    <tr>\n",
       "      <th>4</th>\n",
       "      <td>b</td>\n",
       "      <td>C</td>\n",
       "      <td>4</td>\n",
       "    </tr>\n",
       "    <tr>\n",
       "      <th>5</th>\n",
       "      <td>c</td>\n",
       "      <td>C</td>\n",
       "      <td>6</td>\n",
       "    </tr>\n",
       "  </tbody>\n",
       "</table>\n",
       "</div>"
      ],
      "text/plain": [
       "   A variable  value\n",
       "0  a        B      1\n",
       "1  b        B      3\n",
       "2  c        B      5\n",
       "3  a        C      2\n",
       "4  b        C      4\n",
       "5  c        C      6"
      ]
     },
     "execution_count": 904,
     "metadata": {},
     "output_type": "execute_result"
    }
   ],
   "source": [
    "df.melt(id_vars=['A'], value_vars=['B', 'C'])"
   ]
  },
  {
   "cell_type": "markdown",
   "id": "0072e63f-9986-45bd-9d3d-da514c68b833",
   "metadata": {},
   "source": [
    "## cut"
   ]
  },
  {
   "cell_type": "code",
   "execution_count": 918,
   "id": "9722bb2d-ae82-4939-93ee-91b8fae06f98",
   "metadata": {},
   "outputs": [
    {
     "data": {
      "text/plain": [
       "age\n",
       "(0.0869, 16.133]    134\n",
       "(16.133, 32.1]      524\n",
       "(32.1, 48.067]      269\n",
       "(48.067, 64.033]    106\n",
       "(64.033, 80.0]       13\n",
       "dtype: int64"
      ]
     },
     "execution_count": 918,
     "metadata": {},
     "output_type": "execute_result"
    }
   ],
   "source": [
    "pd.cut(titanic_age['age'], 5).reset_index().groupby('age').size()"
   ]
  },
  {
   "cell_type": "markdown",
   "id": "7235aeee-1b84-4290-b7a3-05edb17a18ee",
   "metadata": {},
   "source": [
    "## qcut"
   ]
  },
  {
   "cell_type": "code",
   "execution_count": 923,
   "id": "8a5e0a6f-25cf-48d6-b080-84c6375a1593",
   "metadata": {},
   "outputs": [
    {
     "data": {
      "text/plain": [
       "age\n",
       "(0.166, 19.0]    225\n",
       "(19.0, 25.0]     218\n",
       "(25.0, 31.0]     191\n",
       "(31.0, 42.0]     217\n",
       "(42.0, 80.0]     195\n",
       "dtype: int64"
      ]
     },
     "execution_count": 923,
     "metadata": {},
     "output_type": "execute_result"
    }
   ],
   "source": [
    "pd.qcut(titanic_age.age, 5).reset_index().groupby('age').size()"
   ]
  },
  {
   "cell_type": "code",
   "execution_count": null,
   "id": "4ea096f0-c28f-473b-8487-76cf112f0be0",
   "metadata": {},
   "outputs": [],
   "source": []
  },
  {
   "cell_type": "markdown",
   "id": "2c0771fe-5600-44d9-9046-1ea0873ffad0",
   "metadata": {},
   "source": [
    "## get_dummies"
   ]
  },
  {
   "cell_type": "code",
   "execution_count": 926,
   "id": "026414bd-195a-4d29-a99a-26552ea80e23",
   "metadata": {},
   "outputs": [
    {
     "data": {
      "text/html": [
       "<div>\n",
       "<style scoped>\n",
       "    .dataframe tbody tr th:only-of-type {\n",
       "        vertical-align: middle;\n",
       "    }\n",
       "\n",
       "    .dataframe tbody tr th {\n",
       "        vertical-align: top;\n",
       "    }\n",
       "\n",
       "    .dataframe thead th {\n",
       "        text-align: right;\n",
       "    }\n",
       "</style>\n",
       "<table border=\"1\" class=\"dataframe\">\n",
       "  <thead>\n",
       "    <tr style=\"text-align: right;\">\n",
       "      <th></th>\n",
       "      <th>sex</th>\n",
       "    </tr>\n",
       "  </thead>\n",
       "  <tbody>\n",
       "    <tr>\n",
       "      <th>0</th>\n",
       "      <td>female</td>\n",
       "    </tr>\n",
       "    <tr>\n",
       "      <th>1</th>\n",
       "      <td>male</td>\n",
       "    </tr>\n",
       "    <tr>\n",
       "      <th>2</th>\n",
       "      <td>female</td>\n",
       "    </tr>\n",
       "    <tr>\n",
       "      <th>3</th>\n",
       "      <td>male</td>\n",
       "    </tr>\n",
       "    <tr>\n",
       "      <th>4</th>\n",
       "      <td>female</td>\n",
       "    </tr>\n",
       "  </tbody>\n",
       "</table>\n",
       "</div>"
      ],
      "text/plain": [
       "      sex\n",
       "0  female\n",
       "1    male\n",
       "2  female\n",
       "3    male\n",
       "4  female"
      ]
     },
     "execution_count": 926,
     "metadata": {},
     "output_type": "execute_result"
    }
   ],
   "source": [
    "titanic_age.head()[['sex']]"
   ]
  },
  {
   "cell_type": "code",
   "execution_count": null,
   "id": "31621b50-cc87-4cab-ac3f-31428bf181f0",
   "metadata": {},
   "outputs": [],
   "source": []
  },
  {
   "cell_type": "code",
   "execution_count": 924,
   "id": "b5ff0f42-053c-4a52-80fa-221d5750789c",
   "metadata": {},
   "outputs": [
    {
     "data": {
      "text/html": [
       "<div>\n",
       "<style scoped>\n",
       "    .dataframe tbody tr th:only-of-type {\n",
       "        vertical-align: middle;\n",
       "    }\n",
       "\n",
       "    .dataframe tbody tr th {\n",
       "        vertical-align: top;\n",
       "    }\n",
       "\n",
       "    .dataframe thead th {\n",
       "        text-align: right;\n",
       "    }\n",
       "</style>\n",
       "<table border=\"1\" class=\"dataframe\">\n",
       "  <thead>\n",
       "    <tr style=\"text-align: right;\">\n",
       "      <th></th>\n",
       "      <th>female</th>\n",
       "      <th>male</th>\n",
       "    </tr>\n",
       "  </thead>\n",
       "  <tbody>\n",
       "    <tr>\n",
       "      <th>0</th>\n",
       "      <td>1</td>\n",
       "      <td>0</td>\n",
       "    </tr>\n",
       "    <tr>\n",
       "      <th>1</th>\n",
       "      <td>0</td>\n",
       "      <td>1</td>\n",
       "    </tr>\n",
       "    <tr>\n",
       "      <th>2</th>\n",
       "      <td>1</td>\n",
       "      <td>0</td>\n",
       "    </tr>\n",
       "    <tr>\n",
       "      <th>3</th>\n",
       "      <td>0</td>\n",
       "      <td>1</td>\n",
       "    </tr>\n",
       "    <tr>\n",
       "      <th>4</th>\n",
       "      <td>1</td>\n",
       "      <td>0</td>\n",
       "    </tr>\n",
       "    <tr>\n",
       "      <th>...</th>\n",
       "      <td>...</td>\n",
       "      <td>...</td>\n",
       "    </tr>\n",
       "    <tr>\n",
       "      <th>1301</th>\n",
       "      <td>0</td>\n",
       "      <td>1</td>\n",
       "    </tr>\n",
       "    <tr>\n",
       "      <th>1304</th>\n",
       "      <td>1</td>\n",
       "      <td>0</td>\n",
       "    </tr>\n",
       "    <tr>\n",
       "      <th>1306</th>\n",
       "      <td>0</td>\n",
       "      <td>1</td>\n",
       "    </tr>\n",
       "    <tr>\n",
       "      <th>1307</th>\n",
       "      <td>0</td>\n",
       "      <td>1</td>\n",
       "    </tr>\n",
       "    <tr>\n",
       "      <th>1308</th>\n",
       "      <td>0</td>\n",
       "      <td>1</td>\n",
       "    </tr>\n",
       "  </tbody>\n",
       "</table>\n",
       "<p>1046 rows × 2 columns</p>\n",
       "</div>"
      ],
      "text/plain": [
       "      female  male\n",
       "0          1     0\n",
       "1          0     1\n",
       "2          1     0\n",
       "3          0     1\n",
       "4          1     0\n",
       "...      ...   ...\n",
       "1301       0     1\n",
       "1304       1     0\n",
       "1306       0     1\n",
       "1307       0     1\n",
       "1308       0     1\n",
       "\n",
       "[1046 rows x 2 columns]"
      ]
     },
     "execution_count": 924,
     "metadata": {},
     "output_type": "execute_result"
    }
   ],
   "source": [
    "pd.get_dummies(titanic_age.sex)"
   ]
  },
  {
   "cell_type": "code",
   "execution_count": 931,
   "id": "9841a4b0-9a20-43e3-9bb9-2d7d6828a4e1",
   "metadata": {},
   "outputs": [
    {
     "data": {
      "text/html": [
       "<div>\n",
       "<style scoped>\n",
       "    .dataframe tbody tr th:only-of-type {\n",
       "        vertical-align: middle;\n",
       "    }\n",
       "\n",
       "    .dataframe tbody tr th {\n",
       "        vertical-align: top;\n",
       "    }\n",
       "\n",
       "    .dataframe thead th {\n",
       "        text-align: right;\n",
       "    }\n",
       "</style>\n",
       "<table border=\"1\" class=\"dataframe\">\n",
       "  <thead>\n",
       "    <tr style=\"text-align: right;\">\n",
       "      <th></th>\n",
       "      <th>?</th>\n",
       "      <th>A10</th>\n",
       "      <th>A11</th>\n",
       "      <th>A16</th>\n",
       "      <th>A18</th>\n",
       "      <th>A20</th>\n",
       "      <th>A21</th>\n",
       "      <th>A23</th>\n",
       "      <th>A24</th>\n",
       "      <th>A26</th>\n",
       "      <th>...</th>\n",
       "      <th>E8</th>\n",
       "      <th>F</th>\n",
       "      <th>F E57</th>\n",
       "      <th>F G63</th>\n",
       "      <th>F G73</th>\n",
       "      <th>F2</th>\n",
       "      <th>F33</th>\n",
       "      <th>F4</th>\n",
       "      <th>G6</th>\n",
       "      <th>T</th>\n",
       "    </tr>\n",
       "  </thead>\n",
       "  <tbody>\n",
       "    <tr>\n",
       "      <th>0</th>\n",
       "      <td>0</td>\n",
       "      <td>0</td>\n",
       "      <td>0</td>\n",
       "      <td>0</td>\n",
       "      <td>0</td>\n",
       "      <td>0</td>\n",
       "      <td>0</td>\n",
       "      <td>0</td>\n",
       "      <td>0</td>\n",
       "      <td>0</td>\n",
       "      <td>...</td>\n",
       "      <td>0</td>\n",
       "      <td>0</td>\n",
       "      <td>0</td>\n",
       "      <td>0</td>\n",
       "      <td>0</td>\n",
       "      <td>0</td>\n",
       "      <td>0</td>\n",
       "      <td>0</td>\n",
       "      <td>0</td>\n",
       "      <td>0</td>\n",
       "    </tr>\n",
       "    <tr>\n",
       "      <th>1</th>\n",
       "      <td>0</td>\n",
       "      <td>0</td>\n",
       "      <td>0</td>\n",
       "      <td>0</td>\n",
       "      <td>0</td>\n",
       "      <td>0</td>\n",
       "      <td>0</td>\n",
       "      <td>0</td>\n",
       "      <td>0</td>\n",
       "      <td>0</td>\n",
       "      <td>...</td>\n",
       "      <td>0</td>\n",
       "      <td>0</td>\n",
       "      <td>0</td>\n",
       "      <td>0</td>\n",
       "      <td>0</td>\n",
       "      <td>0</td>\n",
       "      <td>0</td>\n",
       "      <td>0</td>\n",
       "      <td>0</td>\n",
       "      <td>0</td>\n",
       "    </tr>\n",
       "    <tr>\n",
       "      <th>2</th>\n",
       "      <td>0</td>\n",
       "      <td>0</td>\n",
       "      <td>0</td>\n",
       "      <td>0</td>\n",
       "      <td>0</td>\n",
       "      <td>0</td>\n",
       "      <td>0</td>\n",
       "      <td>0</td>\n",
       "      <td>0</td>\n",
       "      <td>0</td>\n",
       "      <td>...</td>\n",
       "      <td>0</td>\n",
       "      <td>0</td>\n",
       "      <td>0</td>\n",
       "      <td>0</td>\n",
       "      <td>0</td>\n",
       "      <td>0</td>\n",
       "      <td>0</td>\n",
       "      <td>0</td>\n",
       "      <td>0</td>\n",
       "      <td>0</td>\n",
       "    </tr>\n",
       "    <tr>\n",
       "      <th>3</th>\n",
       "      <td>0</td>\n",
       "      <td>0</td>\n",
       "      <td>0</td>\n",
       "      <td>0</td>\n",
       "      <td>0</td>\n",
       "      <td>0</td>\n",
       "      <td>0</td>\n",
       "      <td>0</td>\n",
       "      <td>0</td>\n",
       "      <td>0</td>\n",
       "      <td>...</td>\n",
       "      <td>0</td>\n",
       "      <td>0</td>\n",
       "      <td>0</td>\n",
       "      <td>0</td>\n",
       "      <td>0</td>\n",
       "      <td>0</td>\n",
       "      <td>0</td>\n",
       "      <td>0</td>\n",
       "      <td>0</td>\n",
       "      <td>0</td>\n",
       "    </tr>\n",
       "    <tr>\n",
       "      <th>4</th>\n",
       "      <td>0</td>\n",
       "      <td>0</td>\n",
       "      <td>0</td>\n",
       "      <td>0</td>\n",
       "      <td>0</td>\n",
       "      <td>0</td>\n",
       "      <td>0</td>\n",
       "      <td>0</td>\n",
       "      <td>0</td>\n",
       "      <td>0</td>\n",
       "      <td>...</td>\n",
       "      <td>0</td>\n",
       "      <td>0</td>\n",
       "      <td>0</td>\n",
       "      <td>0</td>\n",
       "      <td>0</td>\n",
       "      <td>0</td>\n",
       "      <td>0</td>\n",
       "      <td>0</td>\n",
       "      <td>0</td>\n",
       "      <td>0</td>\n",
       "    </tr>\n",
       "    <tr>\n",
       "      <th>...</th>\n",
       "      <td>...</td>\n",
       "      <td>...</td>\n",
       "      <td>...</td>\n",
       "      <td>...</td>\n",
       "      <td>...</td>\n",
       "      <td>...</td>\n",
       "      <td>...</td>\n",
       "      <td>...</td>\n",
       "      <td>...</td>\n",
       "      <td>...</td>\n",
       "      <td>...</td>\n",
       "      <td>...</td>\n",
       "      <td>...</td>\n",
       "      <td>...</td>\n",
       "      <td>...</td>\n",
       "      <td>...</td>\n",
       "      <td>...</td>\n",
       "      <td>...</td>\n",
       "      <td>...</td>\n",
       "      <td>...</td>\n",
       "      <td>...</td>\n",
       "    </tr>\n",
       "    <tr>\n",
       "      <th>1301</th>\n",
       "      <td>1</td>\n",
       "      <td>0</td>\n",
       "      <td>0</td>\n",
       "      <td>0</td>\n",
       "      <td>0</td>\n",
       "      <td>0</td>\n",
       "      <td>0</td>\n",
       "      <td>0</td>\n",
       "      <td>0</td>\n",
       "      <td>0</td>\n",
       "      <td>...</td>\n",
       "      <td>0</td>\n",
       "      <td>0</td>\n",
       "      <td>0</td>\n",
       "      <td>0</td>\n",
       "      <td>0</td>\n",
       "      <td>0</td>\n",
       "      <td>0</td>\n",
       "      <td>0</td>\n",
       "      <td>0</td>\n",
       "      <td>0</td>\n",
       "    </tr>\n",
       "    <tr>\n",
       "      <th>1304</th>\n",
       "      <td>1</td>\n",
       "      <td>0</td>\n",
       "      <td>0</td>\n",
       "      <td>0</td>\n",
       "      <td>0</td>\n",
       "      <td>0</td>\n",
       "      <td>0</td>\n",
       "      <td>0</td>\n",
       "      <td>0</td>\n",
       "      <td>0</td>\n",
       "      <td>...</td>\n",
       "      <td>0</td>\n",
       "      <td>0</td>\n",
       "      <td>0</td>\n",
       "      <td>0</td>\n",
       "      <td>0</td>\n",
       "      <td>0</td>\n",
       "      <td>0</td>\n",
       "      <td>0</td>\n",
       "      <td>0</td>\n",
       "      <td>0</td>\n",
       "    </tr>\n",
       "    <tr>\n",
       "      <th>1306</th>\n",
       "      <td>1</td>\n",
       "      <td>0</td>\n",
       "      <td>0</td>\n",
       "      <td>0</td>\n",
       "      <td>0</td>\n",
       "      <td>0</td>\n",
       "      <td>0</td>\n",
       "      <td>0</td>\n",
       "      <td>0</td>\n",
       "      <td>0</td>\n",
       "      <td>...</td>\n",
       "      <td>0</td>\n",
       "      <td>0</td>\n",
       "      <td>0</td>\n",
       "      <td>0</td>\n",
       "      <td>0</td>\n",
       "      <td>0</td>\n",
       "      <td>0</td>\n",
       "      <td>0</td>\n",
       "      <td>0</td>\n",
       "      <td>0</td>\n",
       "    </tr>\n",
       "    <tr>\n",
       "      <th>1307</th>\n",
       "      <td>1</td>\n",
       "      <td>0</td>\n",
       "      <td>0</td>\n",
       "      <td>0</td>\n",
       "      <td>0</td>\n",
       "      <td>0</td>\n",
       "      <td>0</td>\n",
       "      <td>0</td>\n",
       "      <td>0</td>\n",
       "      <td>0</td>\n",
       "      <td>...</td>\n",
       "      <td>0</td>\n",
       "      <td>0</td>\n",
       "      <td>0</td>\n",
       "      <td>0</td>\n",
       "      <td>0</td>\n",
       "      <td>0</td>\n",
       "      <td>0</td>\n",
       "      <td>0</td>\n",
       "      <td>0</td>\n",
       "      <td>0</td>\n",
       "    </tr>\n",
       "    <tr>\n",
       "      <th>1308</th>\n",
       "      <td>1</td>\n",
       "      <td>0</td>\n",
       "      <td>0</td>\n",
       "      <td>0</td>\n",
       "      <td>0</td>\n",
       "      <td>0</td>\n",
       "      <td>0</td>\n",
       "      <td>0</td>\n",
       "      <td>0</td>\n",
       "      <td>0</td>\n",
       "      <td>...</td>\n",
       "      <td>0</td>\n",
       "      <td>0</td>\n",
       "      <td>0</td>\n",
       "      <td>0</td>\n",
       "      <td>0</td>\n",
       "      <td>0</td>\n",
       "      <td>0</td>\n",
       "      <td>0</td>\n",
       "      <td>0</td>\n",
       "      <td>0</td>\n",
       "    </tr>\n",
       "  </tbody>\n",
       "</table>\n",
       "<p>1046 rows × 175 columns</p>\n",
       "</div>"
      ],
      "text/plain": [
       "      ?  A10  A11  A16  A18  A20  A21  A23  A24  A26  ...  E8  F  F E57  \\\n",
       "0     0    0    0    0    0    0    0    0    0    0  ...   0  0      0   \n",
       "1     0    0    0    0    0    0    0    0    0    0  ...   0  0      0   \n",
       "2     0    0    0    0    0    0    0    0    0    0  ...   0  0      0   \n",
       "3     0    0    0    0    0    0    0    0    0    0  ...   0  0      0   \n",
       "4     0    0    0    0    0    0    0    0    0    0  ...   0  0      0   \n",
       "...  ..  ...  ...  ...  ...  ...  ...  ...  ...  ...  ...  .. ..    ...   \n",
       "1301  1    0    0    0    0    0    0    0    0    0  ...   0  0      0   \n",
       "1304  1    0    0    0    0    0    0    0    0    0  ...   0  0      0   \n",
       "1306  1    0    0    0    0    0    0    0    0    0  ...   0  0      0   \n",
       "1307  1    0    0    0    0    0    0    0    0    0  ...   0  0      0   \n",
       "1308  1    0    0    0    0    0    0    0    0    0  ...   0  0      0   \n",
       "\n",
       "      F G63  F G73  F2  F33  F4  G6  T  \n",
       "0         0      0   0    0   0   0  0  \n",
       "1         0      0   0    0   0   0  0  \n",
       "2         0      0   0    0   0   0  0  \n",
       "3         0      0   0    0   0   0  0  \n",
       "4         0      0   0    0   0   0  0  \n",
       "...     ...    ...  ..  ...  ..  .. ..  \n",
       "1301      0      0   0    0   0   0  0  \n",
       "1304      0      0   0    0   0   0  0  \n",
       "1306      0      0   0    0   0   0  0  \n",
       "1307      0      0   0    0   0   0  0  \n",
       "1308      0      0   0    0   0   0  0  \n",
       "\n",
       "[1046 rows x 175 columns]"
      ]
     },
     "execution_count": 931,
     "metadata": {},
     "output_type": "execute_result"
    }
   ],
   "source": [
    "pd.get_dummies(titanic_age.cabin)"
   ]
  },
  {
   "cell_type": "code",
   "execution_count": null,
   "id": "def52d0e-9349-4424-b993-6b76a78cd504",
   "metadata": {},
   "outputs": [],
   "source": [
    "y = w0*X0 + w1 * X1 + w2 * X3 + ... + wn * Xn"
   ]
  },
  {
   "cell_type": "code",
   "execution_count": null,
   "id": "490f85f8-8a93-40d7-b1ac-2ed8e7b40b03",
   "metadata": {},
   "outputs": [],
   "source": [
    "10 * 1 + 5 * 0  = 10\n",
    "10 * 0 + 5 * 1  = 5"
   ]
  },
  {
   "cell_type": "markdown",
   "id": "9b8f9392-b2b6-4d26-b743-8a4b590598ce",
   "metadata": {},
   "source": [
    "## Voltamos as 21:10"
   ]
  },
  {
   "cell_type": "code",
   "execution_count": null,
   "id": "d3a82062-42ca-4efd-ba89-bc616bc7a59f",
   "metadata": {},
   "outputs": [],
   "source": []
  }
 ],
 "metadata": {
  "kernelspec": {
   "display_name": "Python 3",
   "language": "python",
   "name": "python3"
  },
  "language_info": {
   "codemirror_mode": {
    "name": "ipython",
    "version": 3
   },
   "file_extension": ".py",
   "mimetype": "text/x-python",
   "name": "python",
   "nbconvert_exporter": "python",
   "pygments_lexer": "ipython3",
   "version": "3.8.8"
  }
 },
 "nbformat": 4,
 "nbformat_minor": 5
}
