{
 "cells": [
  {
   "cell_type": "markdown",
   "id": "d1d8cc4d-8769-4162-87f1-08ffcd53675d",
   "metadata": {},
   "source": [
    "# Aula 2 - Pandas\n",
    "\n",
    "Na aula de hoje, vamos explorar os seguintes tópicos em Python:\n",
    "\n",
    "- 2) Pandas"
   ]
  },
  {
   "cell_type": "markdown",
   "id": "6623ade9-d5a5-43cf-aac3-ceaeab01d6b0",
   "metadata": {},
   "source": [
    "## 1) Pandas\n",
    "\n",
    "O **Pandas** é uma das bibliotecas mais usadas em data science.\n",
    "\n",
    "Esta biblioteca, construída a partir do Numpy, possibilita a estruturação e manipulação de dados de maneira simples e eficiente.\n",
    "\n",
    "Comos os dados são a matéria prima de todo projeto de data science, manipulá-los é fundamental! Por isso, utilizaremos o Pandas em quase todas as aulas daqui pra frente!\n",
    "\n",
    "Para entendermos melhor o pandas e passar a utilizá-lo, precisamos entender suas estruturas fundamentais: as **Series** e o **DataFrame**.\n",
    "\n",
    "Começamos importando o pandas:"
   ]
  },
  {
   "cell_type": "code",
   "execution_count": 113,
   "id": "31118d05-c760-4983-862e-62ec242ab9ed",
   "metadata": {},
   "outputs": [],
   "source": [
    "# importando o pandas\n",
    "\n",
    "import numpy as np\n",
    "import pandas as pd"
   ]
  },
  {
   "cell_type": "markdown",
   "id": "ff54ef28-0c91-439a-8875-3114cda69cbe",
   "metadata": {},
   "source": [
    "### Series\n",
    "\n",
    "O objeto fundamental do Pandas são as **Series**, uma classe do pandas.\n",
    "\n",
    "As Series são as **colunas das tabelas** (que veremos mais a frente), e por baixo dos panos, os dados ficam armazenados como **numpy arrays**!\n",
    "\n",
    "A diferença é que a série possui um **índice associado**, permitindo o acesso aos conteúdos dessa estrutura por ele, como um dicionário.\n",
    "\n",
    "Além disso, as séries têm métodos específicos além dos que vimos pra arrays, o que será super útil!\n",
    "\n",
    "Podemos criar uma série **a partir de uma lista**, usando a função do pandas `pd.Series()`: "
   ]
  },
  {
   "cell_type": "code",
   "execution_count": 114,
   "id": "7ea14001-d12e-4b33-9354-9fa80ae9a357",
   "metadata": {},
   "outputs": [],
   "source": [
    "lista = [4, 6, 3, 7, 13]"
   ]
  },
  {
   "cell_type": "code",
   "execution_count": 115,
   "id": "52950dd1-a515-4042-b356-8cdf4f06f154",
   "metadata": {},
   "outputs": [
    {
     "data": {
      "text/plain": [
       "array([ 4,  6,  3,  7, 13])"
      ]
     },
     "execution_count": 115,
     "metadata": {},
     "output_type": "execute_result"
    }
   ],
   "source": [
    "arr = np.array(lista)\n",
    "arr"
   ]
  },
  {
   "cell_type": "code",
   "execution_count": 116,
   "id": "9dff953c-162d-461c-84a2-43390acff1d1",
   "metadata": {},
   "outputs": [
    {
     "data": {
      "text/plain": [
       "3"
      ]
     },
     "execution_count": 116,
     "metadata": {},
     "output_type": "execute_result"
    }
   ],
   "source": [
    "arr[2]"
   ]
  },
  {
   "cell_type": "code",
   "execution_count": 117,
   "id": "55183e91-1294-46de-afbe-d879686bcb6e",
   "metadata": {},
   "outputs": [],
   "source": [
    "serie = pd.Series(lista)"
   ]
  },
  {
   "cell_type": "code",
   "execution_count": 118,
   "id": "2902150d-773b-49ea-8fce-2e0ca23bc51c",
   "metadata": {},
   "outputs": [
    {
     "data": {
      "text/plain": [
       "0     4\n",
       "1     6\n",
       "2     3\n",
       "3     7\n",
       "4    13\n",
       "dtype: int64"
      ]
     },
     "execution_count": 118,
     "metadata": {},
     "output_type": "execute_result"
    }
   ],
   "source": [
    "serie"
   ]
  },
  {
   "cell_type": "code",
   "execution_count": 119,
   "id": "ca2b3d59-01fd-44f0-b733-d6eda83dda65",
   "metadata": {},
   "outputs": [
    {
     "data": {
      "text/plain": [
       "3"
      ]
     },
     "execution_count": 119,
     "metadata": {},
     "output_type": "execute_result"
    }
   ],
   "source": [
    "serie[2]"
   ]
  },
  {
   "cell_type": "code",
   "execution_count": 120,
   "id": "79ee1ddb-e0f6-49bf-949a-008d79c4cd4d",
   "metadata": {},
   "outputs": [
    {
     "data": {
      "text/plain": [
       "array([ 4,  6,  3,  7, 13])"
      ]
     },
     "execution_count": 120,
     "metadata": {},
     "output_type": "execute_result"
    }
   ],
   "source": [
    "serie.values"
   ]
  },
  {
   "cell_type": "code",
   "execution_count": 122,
   "id": "555ac150-3a16-458f-9192-88764addf093",
   "metadata": {},
   "outputs": [
    {
     "data": {
      "text/plain": [
       "RangeIndex(start=0, stop=5, step=1)"
      ]
     },
     "execution_count": 122,
     "metadata": {},
     "output_type": "execute_result"
    }
   ],
   "source": [
    "serie.index"
   ]
  },
  {
   "cell_type": "code",
   "execution_count": 124,
   "id": "e0a97821-5651-45a9-bf83-82f5a826c1d1",
   "metadata": {},
   "outputs": [
    {
     "data": {
      "text/plain": [
       "[0, 1, 2, 3, 4]"
      ]
     },
     "execution_count": 124,
     "metadata": {},
     "output_type": "execute_result"
    }
   ],
   "source": [
    "list(range(0, 5, 1))"
   ]
  },
  {
   "cell_type": "code",
   "execution_count": 125,
   "id": "247556f3-4291-407a-9ef6-81f973a36bb5",
   "metadata": {},
   "outputs": [
    {
     "data": {
      "text/plain": [
       "[0, 1, 2, 3, 4]"
      ]
     },
     "execution_count": 125,
     "metadata": {},
     "output_type": "execute_result"
    }
   ],
   "source": [
    "serie.index.tolist()"
   ]
  },
  {
   "cell_type": "code",
   "execution_count": 126,
   "id": "a8fa0b03-96cd-462c-a41e-a7cbcb09ec21",
   "metadata": {},
   "outputs": [
    {
     "data": {
      "text/plain": [
       "[0, 1, 2, 3, 4]"
      ]
     },
     "execution_count": 126,
     "metadata": {},
     "output_type": "execute_result"
    }
   ],
   "source": [
    "list(serie.index)"
   ]
  },
  {
   "cell_type": "code",
   "execution_count": 127,
   "id": "bc860a5a-97aa-4ba5-bd6f-7ed0fd22cfcd",
   "metadata": {},
   "outputs": [
    {
     "data": {
      "text/plain": [
       "3"
      ]
     },
     "execution_count": 127,
     "metadata": {},
     "output_type": "execute_result"
    }
   ],
   "source": [
    "serie[2]"
   ]
  },
  {
   "cell_type": "code",
   "execution_count": 129,
   "id": "38576640-562c-4254-8a06-2b7ef1dbffff",
   "metadata": {},
   "outputs": [
    {
     "data": {
      "text/plain": [
       "3"
      ]
     },
     "execution_count": 129,
     "metadata": {},
     "output_type": "execute_result"
    }
   ],
   "source": [
    "serie.values[2]"
   ]
  },
  {
   "cell_type": "code",
   "execution_count": 130,
   "id": "1b92f645-6e4a-42ee-8267-e427244be6cf",
   "metadata": {},
   "outputs": [],
   "source": [
    "dic = {\n",
    "    0: 42,\n",
    "    1: 50\n",
    "}"
   ]
  },
  {
   "cell_type": "code",
   "execution_count": 134,
   "id": "465a89b2-734c-4cf5-b9db-4743907cf155",
   "metadata": {},
   "outputs": [
    {
     "data": {
      "text/plain": [
       "{0: 42, 1: 50}"
      ]
     },
     "execution_count": 134,
     "metadata": {},
     "output_type": "execute_result"
    }
   ],
   "source": [
    "dic"
   ]
  },
  {
   "cell_type": "code",
   "execution_count": 131,
   "id": "2d971e34-d1e9-470f-be3c-a87681653750",
   "metadata": {},
   "outputs": [
    {
     "data": {
      "text/plain": [
       "dict_values([42, 50])"
      ]
     },
     "execution_count": 131,
     "metadata": {},
     "output_type": "execute_result"
    }
   ],
   "source": [
    "dic.values()"
   ]
  },
  {
   "cell_type": "code",
   "execution_count": 132,
   "id": "dcd8ff72-8f9f-45e5-a98e-1fd7b90dba78",
   "metadata": {},
   "outputs": [
    {
     "data": {
      "text/plain": [
       "dict_keys([0, 1])"
      ]
     },
     "execution_count": 132,
     "metadata": {},
     "output_type": "execute_result"
    }
   ],
   "source": [
    "dic.keys()"
   ]
  },
  {
   "cell_type": "code",
   "execution_count": 133,
   "id": "7602b107-84e2-4545-bb58-fbf94b43cbfb",
   "metadata": {},
   "outputs": [
    {
     "data": {
      "text/plain": [
       "50"
      ]
     },
     "execution_count": 133,
     "metadata": {},
     "output_type": "execute_result"
    }
   ],
   "source": [
    "dic[1]"
   ]
  },
  {
   "cell_type": "code",
   "execution_count": 135,
   "id": "69020de1-db11-4d7f-8504-46ded246dab0",
   "metadata": {},
   "outputs": [
    {
     "data": {
      "text/plain": [
       "0     4\n",
       "1     6\n",
       "2     3\n",
       "3     7\n",
       "4    13\n",
       "dtype: int64"
      ]
     },
     "execution_count": 135,
     "metadata": {},
     "output_type": "execute_result"
    }
   ],
   "source": [
    "serie"
   ]
  },
  {
   "cell_type": "code",
   "execution_count": 136,
   "id": "10102d83-dbab-4573-879e-11087850d316",
   "metadata": {},
   "outputs": [
    {
     "data": {
      "text/plain": [
       "2     3\n",
       "3     7\n",
       "4    13\n",
       "dtype: int64"
      ]
     },
     "execution_count": 136,
     "metadata": {},
     "output_type": "execute_result"
    }
   ],
   "source": [
    "serie[2:]"
   ]
  },
  {
   "cell_type": "code",
   "execution_count": 137,
   "id": "e5ca1b2f-d15c-43b7-b61c-82847b5d958c",
   "metadata": {},
   "outputs": [],
   "source": [
    "indices = ['a', 'b', 'c', 'd', 'e']"
   ]
  },
  {
   "cell_type": "code",
   "execution_count": 139,
   "id": "156616b6-7d6d-416b-806f-e00368e1c928",
   "metadata": {},
   "outputs": [],
   "source": [
    "serie2 = pd.Series(data=lista, index=indices)"
   ]
  },
  {
   "cell_type": "code",
   "execution_count": 141,
   "id": "2f529f58-a7c4-448a-a228-d1b74815ca59",
   "metadata": {},
   "outputs": [
    {
     "data": {
      "text/plain": [
       "a     4\n",
       "b     6\n",
       "c     3\n",
       "d     7\n",
       "e    13\n",
       "dtype: int64"
      ]
     },
     "execution_count": 141,
     "metadata": {},
     "output_type": "execute_result"
    }
   ],
   "source": [
    "serie2"
   ]
  },
  {
   "cell_type": "code",
   "execution_count": 142,
   "id": "0964078b-ce63-4b6a-97ed-8fb746e363cf",
   "metadata": {},
   "outputs": [
    {
     "data": {
      "text/plain": [
       "3"
      ]
     },
     "execution_count": 142,
     "metadata": {},
     "output_type": "execute_result"
    }
   ],
   "source": [
    "serie[2]"
   ]
  },
  {
   "cell_type": "code",
   "execution_count": 144,
   "id": "b7ca3fa2-119a-4a23-90c4-a212f51b44b8",
   "metadata": {},
   "outputs": [
    {
     "data": {
      "text/plain": [
       "3"
      ]
     },
     "execution_count": 144,
     "metadata": {},
     "output_type": "execute_result"
    }
   ],
   "source": [
    "serie2['c']"
   ]
  },
  {
   "cell_type": "code",
   "execution_count": 145,
   "id": "1d7f4be6-7a40-40f8-bc57-020887ee7325",
   "metadata": {},
   "outputs": [
    {
     "data": {
      "text/plain": [
       "c     3\n",
       "d     7\n",
       "e    13\n",
       "dtype: int64"
      ]
     },
     "execution_count": 145,
     "metadata": {},
     "output_type": "execute_result"
    }
   ],
   "source": [
    "serie2['c':]"
   ]
  },
  {
   "cell_type": "code",
   "execution_count": 146,
   "id": "97213161-6f48-442e-b8be-5075eb3c7074",
   "metadata": {},
   "outputs": [
    {
     "data": {
      "text/plain": [
       "3"
      ]
     },
     "execution_count": 146,
     "metadata": {},
     "output_type": "execute_result"
    }
   ],
   "source": [
    "serie2.loc['c']"
   ]
  },
  {
   "cell_type": "code",
   "execution_count": 149,
   "id": "4b5ca065-70b2-476b-9e7d-e3e965a321ef",
   "metadata": {
    "scrolled": true,
    "tags": []
   },
   "outputs": [
    {
     "ename": "KeyError",
     "evalue": "2",
     "output_type": "error",
     "traceback": [
      "\u001b[0;31m---------------------------------------------------------------------------\u001b[0m",
      "\u001b[0;31mKeyError\u001b[0m                                  Traceback (most recent call last)",
      "\u001b[0;32m~/opt/anaconda3/lib/python3.8/site-packages/pandas/core/indexes/base.py\u001b[0m in \u001b[0;36mget_loc\u001b[0;34m(self, key, method, tolerance)\u001b[0m\n\u001b[1;32m   3360\u001b[0m             \u001b[0;32mtry\u001b[0m\u001b[0;34m:\u001b[0m\u001b[0;34m\u001b[0m\u001b[0;34m\u001b[0m\u001b[0m\n\u001b[0;32m-> 3361\u001b[0;31m                 \u001b[0;32mreturn\u001b[0m \u001b[0mself\u001b[0m\u001b[0;34m.\u001b[0m\u001b[0m_engine\u001b[0m\u001b[0;34m.\u001b[0m\u001b[0mget_loc\u001b[0m\u001b[0;34m(\u001b[0m\u001b[0mcasted_key\u001b[0m\u001b[0;34m)\u001b[0m\u001b[0;34m\u001b[0m\u001b[0;34m\u001b[0m\u001b[0m\n\u001b[0m\u001b[1;32m   3362\u001b[0m             \u001b[0;32mexcept\u001b[0m \u001b[0mKeyError\u001b[0m \u001b[0;32mas\u001b[0m \u001b[0merr\u001b[0m\u001b[0;34m:\u001b[0m\u001b[0;34m\u001b[0m\u001b[0;34m\u001b[0m\u001b[0m\n",
      "\u001b[0;32m~/opt/anaconda3/lib/python3.8/site-packages/pandas/_libs/index.pyx\u001b[0m in \u001b[0;36mpandas._libs.index.IndexEngine.get_loc\u001b[0;34m()\u001b[0m\n",
      "\u001b[0;32m~/opt/anaconda3/lib/python3.8/site-packages/pandas/_libs/index.pyx\u001b[0m in \u001b[0;36mpandas._libs.index.IndexEngine.get_loc\u001b[0;34m()\u001b[0m\n",
      "\u001b[0;32mpandas/_libs/hashtable_class_helper.pxi\u001b[0m in \u001b[0;36mpandas._libs.hashtable.PyObjectHashTable.get_item\u001b[0;34m()\u001b[0m\n",
      "\u001b[0;32mpandas/_libs/hashtable_class_helper.pxi\u001b[0m in \u001b[0;36mpandas._libs.hashtable.PyObjectHashTable.get_item\u001b[0;34m()\u001b[0m\n",
      "\u001b[0;31mKeyError\u001b[0m: 2",
      "\nThe above exception was the direct cause of the following exception:\n",
      "\u001b[0;31mKeyError\u001b[0m                                  Traceback (most recent call last)",
      "\u001b[0;32m<ipython-input-149-d6d37f9144ee>\u001b[0m in \u001b[0;36m<module>\u001b[0;34m\u001b[0m\n\u001b[0;32m----> 1\u001b[0;31m \u001b[0mserie2\u001b[0m\u001b[0;34m.\u001b[0m\u001b[0mloc\u001b[0m\u001b[0;34m[\u001b[0m\u001b[0;36m2\u001b[0m\u001b[0;34m]\u001b[0m\u001b[0;34m\u001b[0m\u001b[0;34m\u001b[0m\u001b[0m\n\u001b[0m",
      "\u001b[0;32m~/opt/anaconda3/lib/python3.8/site-packages/pandas/core/indexing.py\u001b[0m in \u001b[0;36m__getitem__\u001b[0;34m(self, key)\u001b[0m\n\u001b[1;32m    929\u001b[0m \u001b[0;34m\u001b[0m\u001b[0m\n\u001b[1;32m    930\u001b[0m             \u001b[0mmaybe_callable\u001b[0m \u001b[0;34m=\u001b[0m \u001b[0mcom\u001b[0m\u001b[0;34m.\u001b[0m\u001b[0mapply_if_callable\u001b[0m\u001b[0;34m(\u001b[0m\u001b[0mkey\u001b[0m\u001b[0;34m,\u001b[0m \u001b[0mself\u001b[0m\u001b[0;34m.\u001b[0m\u001b[0mobj\u001b[0m\u001b[0;34m)\u001b[0m\u001b[0;34m\u001b[0m\u001b[0;34m\u001b[0m\u001b[0m\n\u001b[0;32m--> 931\u001b[0;31m             \u001b[0;32mreturn\u001b[0m \u001b[0mself\u001b[0m\u001b[0;34m.\u001b[0m\u001b[0m_getitem_axis\u001b[0m\u001b[0;34m(\u001b[0m\u001b[0mmaybe_callable\u001b[0m\u001b[0;34m,\u001b[0m \u001b[0maxis\u001b[0m\u001b[0;34m=\u001b[0m\u001b[0maxis\u001b[0m\u001b[0;34m)\u001b[0m\u001b[0;34m\u001b[0m\u001b[0;34m\u001b[0m\u001b[0m\n\u001b[0m\u001b[1;32m    932\u001b[0m \u001b[0;34m\u001b[0m\u001b[0m\n\u001b[1;32m    933\u001b[0m     \u001b[0;32mdef\u001b[0m \u001b[0m_is_scalar_access\u001b[0m\u001b[0;34m(\u001b[0m\u001b[0mself\u001b[0m\u001b[0;34m,\u001b[0m \u001b[0mkey\u001b[0m\u001b[0;34m:\u001b[0m \u001b[0mtuple\u001b[0m\u001b[0;34m)\u001b[0m\u001b[0;34m:\u001b[0m\u001b[0;34m\u001b[0m\u001b[0;34m\u001b[0m\u001b[0m\n",
      "\u001b[0;32m~/opt/anaconda3/lib/python3.8/site-packages/pandas/core/indexing.py\u001b[0m in \u001b[0;36m_getitem_axis\u001b[0;34m(self, key, axis)\u001b[0m\n\u001b[1;32m   1162\u001b[0m         \u001b[0;31m# fall thru to straight lookup\u001b[0m\u001b[0;34m\u001b[0m\u001b[0;34m\u001b[0m\u001b[0;34m\u001b[0m\u001b[0m\n\u001b[1;32m   1163\u001b[0m         \u001b[0mself\u001b[0m\u001b[0;34m.\u001b[0m\u001b[0m_validate_key\u001b[0m\u001b[0;34m(\u001b[0m\u001b[0mkey\u001b[0m\u001b[0;34m,\u001b[0m \u001b[0maxis\u001b[0m\u001b[0;34m)\u001b[0m\u001b[0;34m\u001b[0m\u001b[0;34m\u001b[0m\u001b[0m\n\u001b[0;32m-> 1164\u001b[0;31m         \u001b[0;32mreturn\u001b[0m \u001b[0mself\u001b[0m\u001b[0;34m.\u001b[0m\u001b[0m_get_label\u001b[0m\u001b[0;34m(\u001b[0m\u001b[0mkey\u001b[0m\u001b[0;34m,\u001b[0m \u001b[0maxis\u001b[0m\u001b[0;34m=\u001b[0m\u001b[0maxis\u001b[0m\u001b[0;34m)\u001b[0m\u001b[0;34m\u001b[0m\u001b[0;34m\u001b[0m\u001b[0m\n\u001b[0m\u001b[1;32m   1165\u001b[0m \u001b[0;34m\u001b[0m\u001b[0m\n\u001b[1;32m   1166\u001b[0m     \u001b[0;32mdef\u001b[0m \u001b[0m_get_slice_axis\u001b[0m\u001b[0;34m(\u001b[0m\u001b[0mself\u001b[0m\u001b[0;34m,\u001b[0m \u001b[0mslice_obj\u001b[0m\u001b[0;34m:\u001b[0m \u001b[0mslice\u001b[0m\u001b[0;34m,\u001b[0m \u001b[0maxis\u001b[0m\u001b[0;34m:\u001b[0m \u001b[0mint\u001b[0m\u001b[0;34m)\u001b[0m\u001b[0;34m:\u001b[0m\u001b[0;34m\u001b[0m\u001b[0;34m\u001b[0m\u001b[0m\n",
      "\u001b[0;32m~/opt/anaconda3/lib/python3.8/site-packages/pandas/core/indexing.py\u001b[0m in \u001b[0;36m_get_label\u001b[0;34m(self, label, axis)\u001b[0m\n\u001b[1;32m   1111\u001b[0m     \u001b[0;32mdef\u001b[0m \u001b[0m_get_label\u001b[0m\u001b[0;34m(\u001b[0m\u001b[0mself\u001b[0m\u001b[0;34m,\u001b[0m \u001b[0mlabel\u001b[0m\u001b[0;34m,\u001b[0m \u001b[0maxis\u001b[0m\u001b[0;34m:\u001b[0m \u001b[0mint\u001b[0m\u001b[0;34m)\u001b[0m\u001b[0;34m:\u001b[0m\u001b[0;34m\u001b[0m\u001b[0;34m\u001b[0m\u001b[0m\n\u001b[1;32m   1112\u001b[0m         \u001b[0;31m# GH#5667 this will fail if the label is not present in the axis.\u001b[0m\u001b[0;34m\u001b[0m\u001b[0;34m\u001b[0m\u001b[0;34m\u001b[0m\u001b[0m\n\u001b[0;32m-> 1113\u001b[0;31m         \u001b[0;32mreturn\u001b[0m \u001b[0mself\u001b[0m\u001b[0;34m.\u001b[0m\u001b[0mobj\u001b[0m\u001b[0;34m.\u001b[0m\u001b[0mxs\u001b[0m\u001b[0;34m(\u001b[0m\u001b[0mlabel\u001b[0m\u001b[0;34m,\u001b[0m \u001b[0maxis\u001b[0m\u001b[0;34m=\u001b[0m\u001b[0maxis\u001b[0m\u001b[0;34m)\u001b[0m\u001b[0;34m\u001b[0m\u001b[0;34m\u001b[0m\u001b[0m\n\u001b[0m\u001b[1;32m   1114\u001b[0m \u001b[0;34m\u001b[0m\u001b[0m\n\u001b[1;32m   1115\u001b[0m     \u001b[0;32mdef\u001b[0m \u001b[0m_handle_lowerdim_multi_index_axis0\u001b[0m\u001b[0;34m(\u001b[0m\u001b[0mself\u001b[0m\u001b[0;34m,\u001b[0m \u001b[0mtup\u001b[0m\u001b[0;34m:\u001b[0m \u001b[0mtuple\u001b[0m\u001b[0;34m)\u001b[0m\u001b[0;34m:\u001b[0m\u001b[0;34m\u001b[0m\u001b[0;34m\u001b[0m\u001b[0m\n",
      "\u001b[0;32m~/opt/anaconda3/lib/python3.8/site-packages/pandas/core/generic.py\u001b[0m in \u001b[0;36mxs\u001b[0;34m(self, key, axis, level, drop_level)\u001b[0m\n\u001b[1;32m   3771\u001b[0m                 \u001b[0;32mraise\u001b[0m \u001b[0mTypeError\u001b[0m\u001b[0;34m(\u001b[0m\u001b[0;34mf\"Expected label or tuple of labels, got {key}\"\u001b[0m\u001b[0;34m)\u001b[0m \u001b[0;32mfrom\u001b[0m \u001b[0me\u001b[0m\u001b[0;34m\u001b[0m\u001b[0;34m\u001b[0m\u001b[0m\n\u001b[1;32m   3772\u001b[0m         \u001b[0;32melse\u001b[0m\u001b[0;34m:\u001b[0m\u001b[0;34m\u001b[0m\u001b[0;34m\u001b[0m\u001b[0m\n\u001b[0;32m-> 3773\u001b[0;31m             \u001b[0mloc\u001b[0m \u001b[0;34m=\u001b[0m \u001b[0mindex\u001b[0m\u001b[0;34m.\u001b[0m\u001b[0mget_loc\u001b[0m\u001b[0;34m(\u001b[0m\u001b[0mkey\u001b[0m\u001b[0;34m)\u001b[0m\u001b[0;34m\u001b[0m\u001b[0;34m\u001b[0m\u001b[0m\n\u001b[0m\u001b[1;32m   3774\u001b[0m \u001b[0;34m\u001b[0m\u001b[0m\n\u001b[1;32m   3775\u001b[0m             \u001b[0;32mif\u001b[0m \u001b[0misinstance\u001b[0m\u001b[0;34m(\u001b[0m\u001b[0mloc\u001b[0m\u001b[0;34m,\u001b[0m \u001b[0mnp\u001b[0m\u001b[0;34m.\u001b[0m\u001b[0mndarray\u001b[0m\u001b[0;34m)\u001b[0m\u001b[0;34m:\u001b[0m\u001b[0;34m\u001b[0m\u001b[0;34m\u001b[0m\u001b[0m\n",
      "\u001b[0;32m~/opt/anaconda3/lib/python3.8/site-packages/pandas/core/indexes/base.py\u001b[0m in \u001b[0;36mget_loc\u001b[0;34m(self, key, method, tolerance)\u001b[0m\n\u001b[1;32m   3361\u001b[0m                 \u001b[0;32mreturn\u001b[0m \u001b[0mself\u001b[0m\u001b[0;34m.\u001b[0m\u001b[0m_engine\u001b[0m\u001b[0;34m.\u001b[0m\u001b[0mget_loc\u001b[0m\u001b[0;34m(\u001b[0m\u001b[0mcasted_key\u001b[0m\u001b[0;34m)\u001b[0m\u001b[0;34m\u001b[0m\u001b[0;34m\u001b[0m\u001b[0m\n\u001b[1;32m   3362\u001b[0m             \u001b[0;32mexcept\u001b[0m \u001b[0mKeyError\u001b[0m \u001b[0;32mas\u001b[0m \u001b[0merr\u001b[0m\u001b[0;34m:\u001b[0m\u001b[0;34m\u001b[0m\u001b[0;34m\u001b[0m\u001b[0m\n\u001b[0;32m-> 3363\u001b[0;31m                 \u001b[0;32mraise\u001b[0m \u001b[0mKeyError\u001b[0m\u001b[0;34m(\u001b[0m\u001b[0mkey\u001b[0m\u001b[0;34m)\u001b[0m \u001b[0;32mfrom\u001b[0m \u001b[0merr\u001b[0m\u001b[0;34m\u001b[0m\u001b[0;34m\u001b[0m\u001b[0m\n\u001b[0m\u001b[1;32m   3364\u001b[0m \u001b[0;34m\u001b[0m\u001b[0m\n\u001b[1;32m   3365\u001b[0m         \u001b[0;32mif\u001b[0m \u001b[0mis_scalar\u001b[0m\u001b[0;34m(\u001b[0m\u001b[0mkey\u001b[0m\u001b[0;34m)\u001b[0m \u001b[0;32mand\u001b[0m \u001b[0misna\u001b[0m\u001b[0;34m(\u001b[0m\u001b[0mkey\u001b[0m\u001b[0;34m)\u001b[0m \u001b[0;32mand\u001b[0m \u001b[0;32mnot\u001b[0m \u001b[0mself\u001b[0m\u001b[0;34m.\u001b[0m\u001b[0mhasnans\u001b[0m\u001b[0;34m:\u001b[0m\u001b[0;34m\u001b[0m\u001b[0;34m\u001b[0m\u001b[0m\n",
      "\u001b[0;31mKeyError\u001b[0m: 2"
     ]
    }
   ],
   "source": [
    "serie2.loc[2]"
   ]
  },
  {
   "cell_type": "code",
   "execution_count": 148,
   "id": "fa767fdc-c8b5-44b0-b2b8-754626163b83",
   "metadata": {},
   "outputs": [
    {
     "data": {
      "text/plain": [
       "3"
      ]
     },
     "execution_count": 148,
     "metadata": {},
     "output_type": "execute_result"
    }
   ],
   "source": [
    "serie2.iloc[2]"
   ]
  },
  {
   "cell_type": "markdown",
   "id": "8d5290a3-d989-4bca-a589-ebc2e510ec85",
   "metadata": {},
   "source": [
    "Outra forma bem natural de construir séries é apartir de um **dicionário**\n",
    "\n",
    "Neste caso, as **chaves** se tornam as labels de índice!"
   ]
  },
  {
   "cell_type": "code",
   "execution_count": 150,
   "id": "5e90b57c-8ab9-483d-bf2d-cfde1868419c",
   "metadata": {},
   "outputs": [
    {
     "data": {
      "text/plain": [
       "{0: 42, 1: 50}"
      ]
     },
     "execution_count": 150,
     "metadata": {},
     "output_type": "execute_result"
    }
   ],
   "source": [
    "dic"
   ]
  },
  {
   "cell_type": "code",
   "execution_count": 151,
   "id": "934e60e9-6bfa-455a-8616-33b7b7083525",
   "metadata": {},
   "outputs": [
    {
     "data": {
      "text/plain": [
       "0    42\n",
       "1    50\n",
       "dtype: int64"
      ]
     },
     "execution_count": 151,
     "metadata": {},
     "output_type": "execute_result"
    }
   ],
   "source": [
    "pd.Series(dic)"
   ]
  },
  {
   "cell_type": "code",
   "execution_count": 152,
   "id": "3672d1ad-801f-4df3-8c4c-fcb95c3e4299",
   "metadata": {},
   "outputs": [],
   "source": [
    "dic = {\n",
    "    'a': 12,\n",
    "    'b': 13,\n",
    "    'd': 42,\n",
    "    'g': 51\n",
    "}"
   ]
  },
  {
   "cell_type": "code",
   "execution_count": 153,
   "id": "0f9854f5-1cc1-4fc3-a4b0-892f99e2e934",
   "metadata": {},
   "outputs": [
    {
     "data": {
      "text/plain": [
       "a    12\n",
       "b    13\n",
       "d    42\n",
       "g    51\n",
       "dtype: int64"
      ]
     },
     "execution_count": 153,
     "metadata": {},
     "output_type": "execute_result"
    }
   ],
   "source": [
    "pd.Series(dic)"
   ]
  },
  {
   "cell_type": "code",
   "execution_count": 154,
   "id": "151765a7-ecc2-495a-bf2d-246a8615a9d6",
   "metadata": {},
   "outputs": [
    {
     "data": {
      "text/plain": [
       "a    12\n",
       "b    13\n",
       "d    42\n",
       "g    51\n",
       "dtype: int64"
      ]
     },
     "execution_count": 154,
     "metadata": {},
     "output_type": "execute_result"
    }
   ],
   "source": [
    "pd.Series(data=dic.values(), index = dic.keys())"
   ]
  },
  {
   "cell_type": "markdown",
   "id": "23aa99b9-d31d-4ab0-9e32-3f1b485b61e4",
   "metadata": {},
   "source": [
    "Ao fazer operações com séries, os valores são alterados um a um, exatamente como vimos com os numpy arrays!"
   ]
  },
  {
   "cell_type": "code",
   "execution_count": 163,
   "id": "3a01a764-3c50-472b-b8ce-c31a7b29ff0e",
   "metadata": {},
   "outputs": [
    {
     "data": {
      "text/plain": [
       "array([ 9, 11,  8, 12, 18])"
      ]
     },
     "execution_count": 163,
     "metadata": {},
     "output_type": "execute_result"
    }
   ],
   "source": [
    "arr + 5 "
   ]
  },
  {
   "cell_type": "code",
   "execution_count": 164,
   "id": "d971cded-2254-47ef-bb6e-101e7c81128b",
   "metadata": {},
   "outputs": [
    {
     "data": {
      "text/plain": [
       "0     9\n",
       "1    11\n",
       "2     8\n",
       "3    12\n",
       "4    18\n",
       "dtype: int64"
      ]
     },
     "execution_count": 164,
     "metadata": {},
     "output_type": "execute_result"
    }
   ],
   "source": [
    "serie + 5"
   ]
  },
  {
   "cell_type": "code",
   "execution_count": 165,
   "id": "6fcac7e3-e086-4dc2-a38e-7aa81f7cebae",
   "metadata": {},
   "outputs": [
    {
     "data": {
      "text/plain": [
       "0    0.8\n",
       "1    1.2\n",
       "2    0.6\n",
       "3    1.4\n",
       "4    2.6\n",
       "dtype: float64"
      ]
     },
     "execution_count": 165,
     "metadata": {},
     "output_type": "execute_result"
    }
   ],
   "source": [
    "serie / 5"
   ]
  },
  {
   "cell_type": "code",
   "execution_count": 166,
   "id": "adc96939-6c11-44de-ae10-9f2f823459f6",
   "metadata": {},
   "outputs": [
    {
     "data": {
      "text/plain": [
       "0     40\n",
       "1     60\n",
       "2     30\n",
       "3     70\n",
       "4    130\n",
       "dtype: int64"
      ]
     },
     "execution_count": 166,
     "metadata": {},
     "output_type": "execute_result"
    }
   ],
   "source": [
    "serie * 10"
   ]
  },
  {
   "cell_type": "code",
   "execution_count": 167,
   "id": "a3992205-04bf-4239-9346-6db804df8b5f",
   "metadata": {},
   "outputs": [
    {
     "data": {
      "text/plain": [
       "0     16\n",
       "1     36\n",
       "2      9\n",
       "3     49\n",
       "4    169\n",
       "dtype: int64"
      ]
     },
     "execution_count": 167,
     "metadata": {},
     "output_type": "execute_result"
    }
   ],
   "source": [
    "serie ** 2"
   ]
  },
  {
   "cell_type": "code",
   "execution_count": 168,
   "id": "5d436410-6b96-4e22-b0f9-dbb471ed6fee",
   "metadata": {},
   "outputs": [
    {
     "data": {
      "text/plain": [
       "0    1.386294\n",
       "1    1.791759\n",
       "2    1.098612\n",
       "3    1.945910\n",
       "4    2.564949\n",
       "dtype: float64"
      ]
     },
     "execution_count": 168,
     "metadata": {},
     "output_type": "execute_result"
    }
   ],
   "source": [
    "np.log(serie)"
   ]
  },
  {
   "cell_type": "code",
   "execution_count": 170,
   "id": "72d70d1a-1526-4100-91a5-11cfb1287257",
   "metadata": {},
   "outputs": [
    {
     "data": {
      "text/plain": [
       "array([ True,  True, False, False, False])"
      ]
     },
     "execution_count": 170,
     "metadata": {},
     "output_type": "execute_result"
    }
   ],
   "source": [
    "arr % 2 == 0"
   ]
  },
  {
   "cell_type": "code",
   "execution_count": 172,
   "id": "75e2ce19-933e-42c3-82b0-8ca7288aeb80",
   "metadata": {},
   "outputs": [],
   "source": [
    "mascara = serie % 2 == 0"
   ]
  },
  {
   "cell_type": "code",
   "execution_count": 173,
   "id": "4f032f93-994b-4cca-85d8-039f2e4cfaf7",
   "metadata": {},
   "outputs": [
    {
     "data": {
      "text/plain": [
       "0    4\n",
       "1    6\n",
       "dtype: int64"
      ]
     },
     "execution_count": 173,
     "metadata": {},
     "output_type": "execute_result"
    }
   ],
   "source": [
    "serie[mascara]"
   ]
  },
  {
   "cell_type": "code",
   "execution_count": 178,
   "id": "b5210dd1-a02a-474e-aa74-8f77e4dab1cb",
   "metadata": {},
   "outputs": [
    {
     "data": {
      "text/plain": [
       "0     4\n",
       "1     6\n",
       "2     3\n",
       "3     7\n",
       "4    13\n",
       "dtype: int64"
      ]
     },
     "execution_count": 178,
     "metadata": {},
     "output_type": "execute_result"
    }
   ],
   "source": [
    "serie"
   ]
  },
  {
   "cell_type": "code",
   "execution_count": 179,
   "id": "27b6c22b-8467-46e3-a604-55824bf260f9",
   "metadata": {},
   "outputs": [],
   "source": [
    "mascara2 = serie < 6"
   ]
  },
  {
   "cell_type": "code",
   "execution_count": 182,
   "id": "13a397be-6086-4fb6-bbf1-1e0ce053222d",
   "metadata": {},
   "outputs": [
    {
     "data": {
      "text/plain": [
       "0     4\n",
       "1     6\n",
       "2     3\n",
       "3     7\n",
       "4    13\n",
       "dtype: int64"
      ]
     },
     "execution_count": 182,
     "metadata": {},
     "output_type": "execute_result"
    }
   ],
   "source": [
    "serie"
   ]
  },
  {
   "cell_type": "code",
   "execution_count": 180,
   "id": "e5ac8984-6ca0-402d-94cc-8ea39e9d9669",
   "metadata": {},
   "outputs": [
    {
     "data": {
      "text/plain": [
       "0     True\n",
       "1    False\n",
       "2     True\n",
       "3    False\n",
       "4    False\n",
       "dtype: bool"
      ]
     },
     "execution_count": 180,
     "metadata": {},
     "output_type": "execute_result"
    }
   ],
   "source": [
    "mascara2"
   ]
  },
  {
   "cell_type": "code",
   "execution_count": 181,
   "id": "a5961fc1-507f-4da5-abd7-4cd25a6ed7d5",
   "metadata": {},
   "outputs": [
    {
     "data": {
      "text/plain": [
       "0    4\n",
       "2    3\n",
       "dtype: int64"
      ]
     },
     "execution_count": 181,
     "metadata": {},
     "output_type": "execute_result"
    }
   ],
   "source": [
    "serie[mascara2]"
   ]
  },
  {
   "cell_type": "code",
   "execution_count": 183,
   "id": "27be98d6-1255-4768-a4b3-be49184485e8",
   "metadata": {},
   "outputs": [],
   "source": [
    "lista1 = [4, 6, 3, 7, 25]\n",
    "lista2 = [21, 31, 98, 65, 42]"
   ]
  },
  {
   "cell_type": "code",
   "execution_count": 187,
   "id": "76759fbd-4a39-4776-8896-473d419f08aa",
   "metadata": {},
   "outputs": [],
   "source": [
    "arr1 = np.array(lista1)\n",
    "arr2 = np.array(lista2)"
   ]
  },
  {
   "cell_type": "code",
   "execution_count": 184,
   "id": "838e8925-565c-4eb6-9cbf-90acfd31126f",
   "metadata": {},
   "outputs": [],
   "source": [
    "s1 = pd.Series(lista1)\n",
    "s2 = pd.Series(lista2)"
   ]
  },
  {
   "cell_type": "code",
   "execution_count": 185,
   "id": "44e19e83-043f-4bd0-b907-b1773be9dce7",
   "metadata": {},
   "outputs": [
    {
     "data": {
      "text/plain": [
       "0     4\n",
       "1     6\n",
       "2     3\n",
       "3     7\n",
       "4    25\n",
       "dtype: int64"
      ]
     },
     "execution_count": 185,
     "metadata": {},
     "output_type": "execute_result"
    }
   ],
   "source": [
    "s1"
   ]
  },
  {
   "cell_type": "code",
   "execution_count": 186,
   "id": "1b649a43-8ea3-485b-892c-48736c1e51c0",
   "metadata": {},
   "outputs": [
    {
     "data": {
      "text/plain": [
       "0    21\n",
       "1    31\n",
       "2    98\n",
       "3    65\n",
       "4    42\n",
       "dtype: int64"
      ]
     },
     "execution_count": 186,
     "metadata": {},
     "output_type": "execute_result"
    }
   ],
   "source": [
    "s2"
   ]
  },
  {
   "cell_type": "code",
   "execution_count": 188,
   "id": "0057e821-d8a6-48ef-826c-26f9ac9183cc",
   "metadata": {},
   "outputs": [
    {
     "data": {
      "text/plain": [
       "array([ 25,  37, 101,  72,  67])"
      ]
     },
     "execution_count": 188,
     "metadata": {},
     "output_type": "execute_result"
    }
   ],
   "source": [
    "arr1 + arr2"
   ]
  },
  {
   "cell_type": "code",
   "execution_count": 189,
   "id": "97cfdf97-feec-4e50-9348-61525a601ebf",
   "metadata": {},
   "outputs": [
    {
     "data": {
      "text/plain": [
       "0     25\n",
       "1     37\n",
       "2    101\n",
       "3     72\n",
       "4     67\n",
       "dtype: int64"
      ]
     },
     "execution_count": 189,
     "metadata": {},
     "output_type": "execute_result"
    }
   ],
   "source": [
    "s1 + s2"
   ]
  },
  {
   "cell_type": "code",
   "execution_count": 193,
   "id": "0fa353b7-4b74-44b8-a4e5-732cf586a9ac",
   "metadata": {},
   "outputs": [
    {
     "name": "stdout",
     "output_type": "stream",
     "text": [
      "[51 92 14 71 60]\n",
      "[20 82 86 74 74 87 99]\n"
     ]
    }
   ],
   "source": [
    "np.random.seed(42)\n",
    "\n",
    "a1 = np.random.randint(0, 100, 5)\n",
    "a2 = np.random.randint(0, 100, 7)\n",
    "print(a1)\n",
    "print(a2)"
   ]
  },
  {
   "cell_type": "code",
   "execution_count": 194,
   "id": "c39f806f-4c99-4ced-b8a9-095c86b66d95",
   "metadata": {},
   "outputs": [],
   "source": [
    "s1 = pd.Series(a1)\n",
    "s2 = pd.Series(a2)"
   ]
  },
  {
   "cell_type": "code",
   "execution_count": 195,
   "id": "3016a6f4-4a72-4e63-a421-cf74b2e7f446",
   "metadata": {},
   "outputs": [
    {
     "data": {
      "text/plain": [
       "0    51\n",
       "1    92\n",
       "2    14\n",
       "3    71\n",
       "4    60\n",
       "dtype: int64"
      ]
     },
     "execution_count": 195,
     "metadata": {},
     "output_type": "execute_result"
    }
   ],
   "source": [
    "s1"
   ]
  },
  {
   "cell_type": "code",
   "execution_count": 196,
   "id": "4e8878bc-83ae-413e-b410-68bf20d16db7",
   "metadata": {},
   "outputs": [
    {
     "data": {
      "text/plain": [
       "0    20\n",
       "1    82\n",
       "2    86\n",
       "3    74\n",
       "4    74\n",
       "5    87\n",
       "6    99\n",
       "dtype: int64"
      ]
     },
     "execution_count": 196,
     "metadata": {},
     "output_type": "execute_result"
    }
   ],
   "source": [
    "s2"
   ]
  },
  {
   "cell_type": "code",
   "execution_count": 198,
   "id": "38648056-bfa0-4f87-83ef-f7a8c76889da",
   "metadata": {},
   "outputs": [
    {
     "data": {
      "text/plain": [
       "(array([51, 92, 14, 71, 60]), array([20, 82, 86, 74, 74, 87, 99]))"
      ]
     },
     "execution_count": 198,
     "metadata": {},
     "output_type": "execute_result"
    }
   ],
   "source": [
    "a1, a2"
   ]
  },
  {
   "cell_type": "code",
   "execution_count": 199,
   "id": "45bc0ecf-7f35-4db0-aa30-e900807890ba",
   "metadata": {},
   "outputs": [
    {
     "ename": "ValueError",
     "evalue": "operands could not be broadcast together with shapes (5,) (7,) ",
     "output_type": "error",
     "traceback": [
      "\u001b[0;31m---------------------------------------------------------------------------\u001b[0m",
      "\u001b[0;31mValueError\u001b[0m                                Traceback (most recent call last)",
      "\u001b[0;32m<ipython-input-199-638078fd0cbc>\u001b[0m in \u001b[0;36m<module>\u001b[0;34m\u001b[0m\n\u001b[0;32m----> 1\u001b[0;31m \u001b[0ma1\u001b[0m \u001b[0;34m+\u001b[0m \u001b[0ma2\u001b[0m\u001b[0;34m\u001b[0m\u001b[0;34m\u001b[0m\u001b[0m\n\u001b[0m",
      "\u001b[0;31mValueError\u001b[0m: operands could not be broadcast together with shapes (5,) (7,) "
     ]
    }
   ],
   "source": [
    "a1 + a2"
   ]
  },
  {
   "cell_type": "code",
   "execution_count": 201,
   "id": "42da8bb1-f57f-4acf-a8a0-e668d1eaeee6",
   "metadata": {},
   "outputs": [
    {
     "data": {
      "text/plain": [
       "0    51\n",
       "1    92\n",
       "2    14\n",
       "3    71\n",
       "4    60\n",
       "dtype: int64"
      ]
     },
     "execution_count": 201,
     "metadata": {},
     "output_type": "execute_result"
    }
   ],
   "source": [
    "s1"
   ]
  },
  {
   "cell_type": "code",
   "execution_count": 200,
   "id": "0eb3d834-9b6e-4547-9578-4fb0f6ccfa89",
   "metadata": {},
   "outputs": [
    {
     "data": {
      "text/plain": [
       "0     71.0\n",
       "1    174.0\n",
       "2    100.0\n",
       "3    145.0\n",
       "4    134.0\n",
       "5      NaN\n",
       "6      NaN\n",
       "dtype: float64"
      ]
     },
     "execution_count": 200,
     "metadata": {},
     "output_type": "execute_result"
    }
   ],
   "source": [
    "s1 + s2"
   ]
  },
  {
   "cell_type": "code",
   "execution_count": 203,
   "id": "6dbb4495-c875-4797-b895-9814c894a3e2",
   "metadata": {},
   "outputs": [
    {
     "data": {
      "text/plain": [
       "0     71.0\n",
       "1    174.0\n",
       "2    100.0\n",
       "3    145.0\n",
       "4    134.0\n",
       "5     87.0\n",
       "6     99.0\n",
       "dtype: float64"
      ]
     },
     "execution_count": 203,
     "metadata": {},
     "output_type": "execute_result"
    }
   ],
   "source": [
    "s1.add(s2, fill_value=0)"
   ]
  },
  {
   "cell_type": "code",
   "execution_count": 204,
   "id": "1bcf6038-82a9-460d-bd5c-e8c0df727164",
   "metadata": {},
   "outputs": [
    {
     "data": {
      "text/plain": [
       "0    1020.0\n",
       "1    7544.0\n",
       "2    1204.0\n",
       "3    5254.0\n",
       "4    4440.0\n",
       "5       NaN\n",
       "6       NaN\n",
       "dtype: float64"
      ]
     },
     "execution_count": 204,
     "metadata": {},
     "output_type": "execute_result"
    }
   ],
   "source": [
    "s1 * s2"
   ]
  },
  {
   "cell_type": "code",
   "execution_count": 207,
   "id": "45457758-f187-4442-89d5-8d51ebb1197d",
   "metadata": {},
   "outputs": [
    {
     "data": {
      "text/plain": [
       "0    1020.0\n",
       "1    7544.0\n",
       "2    1204.0\n",
       "3    5254.0\n",
       "4    4440.0\n",
       "5      87.0\n",
       "6      99.0\n",
       "dtype: float64"
      ]
     },
     "execution_count": 207,
     "metadata": {},
     "output_type": "execute_result"
    }
   ],
   "source": [
    "s1.multiply(s2, fill_value=1)"
   ]
  },
  {
   "cell_type": "code",
   "execution_count": 213,
   "id": "36046572-5c1b-4eb9-9357-ae2bdb98d139",
   "metadata": {},
   "outputs": [],
   "source": [
    "t1 = pd.Series({valor*10: valor for valor in a1})"
   ]
  },
  {
   "cell_type": "code",
   "execution_count": 214,
   "id": "037bbf29-279e-403d-ab75-174df1e9185d",
   "metadata": {},
   "outputs": [],
   "source": [
    "t2 = pd.Series({valor: valor for valor in a2})"
   ]
  },
  {
   "cell_type": "code",
   "execution_count": 215,
   "id": "5a6aab8c-1edf-437b-bf50-7377f497ea12",
   "metadata": {},
   "outputs": [
    {
     "data": {
      "text/plain": [
       "510    51\n",
       "920    92\n",
       "140    14\n",
       "710    71\n",
       "600    60\n",
       "dtype: int64"
      ]
     },
     "execution_count": 215,
     "metadata": {},
     "output_type": "execute_result"
    }
   ],
   "source": [
    "t1"
   ]
  },
  {
   "cell_type": "code",
   "execution_count": 216,
   "id": "8b4b0de6-9d74-45fe-99e5-7921e6fa06a5",
   "metadata": {},
   "outputs": [
    {
     "data": {
      "text/plain": [
       "20    20\n",
       "82    82\n",
       "86    86\n",
       "74    74\n",
       "87    87\n",
       "99    99\n",
       "dtype: int64"
      ]
     },
     "execution_count": 216,
     "metadata": {},
     "output_type": "execute_result"
    }
   ],
   "source": [
    "t2"
   ]
  },
  {
   "cell_type": "code",
   "execution_count": 219,
   "id": "75061185-900c-410d-a88d-48068e6b247c",
   "metadata": {},
   "outputs": [
    {
     "data": {
      "text/plain": [
       "20    NaN\n",
       "74    NaN\n",
       "82    NaN\n",
       "86    NaN\n",
       "87    NaN\n",
       "99    NaN\n",
       "140   NaN\n",
       "510   NaN\n",
       "600   NaN\n",
       "710   NaN\n",
       "920   NaN\n",
       "dtype: float64"
      ]
     },
     "execution_count": 219,
     "metadata": {},
     "output_type": "execute_result"
    }
   ],
   "source": [
    "# Operações baseiam-se no indices\n",
    "t1 + t2"
   ]
  },
  {
   "cell_type": "code",
   "execution_count": 220,
   "id": "92ff0abb-2ec7-46e3-999e-154538c6819b",
   "metadata": {},
   "outputs": [],
   "source": [
    "s_texto = pd.Series(['a', 'b', 'c'])\n",
    "s_numero = pd.Series([1, 2, 3])"
   ]
  },
  {
   "cell_type": "code",
   "execution_count": 221,
   "id": "aaeae8b7-877d-453a-8073-5c795a2d88ed",
   "metadata": {},
   "outputs": [
    {
     "data": {
      "text/plain": [
       "'aaa'"
      ]
     },
     "execution_count": 221,
     "metadata": {},
     "output_type": "execute_result"
    }
   ],
   "source": [
    "'a' * 3"
   ]
  },
  {
   "cell_type": "code",
   "execution_count": 222,
   "id": "328de3df-44eb-4c90-94dd-d59b5ba820a1",
   "metadata": {},
   "outputs": [
    {
     "data": {
      "text/plain": [
       "0    aaa\n",
       "1    bbb\n",
       "2    ccc\n",
       "dtype: object"
      ]
     },
     "execution_count": 222,
     "metadata": {},
     "output_type": "execute_result"
    }
   ],
   "source": [
    "s_texto * 3"
   ]
  },
  {
   "cell_type": "code",
   "execution_count": 223,
   "id": "1884d127-d4ab-4815-bca8-49726b227cf2",
   "metadata": {},
   "outputs": [
    {
     "data": {
      "text/plain": [
       "0      a\n",
       "1     bb\n",
       "2    ccc\n",
       "dtype: object"
      ]
     },
     "execution_count": 223,
     "metadata": {},
     "output_type": "execute_result"
    }
   ],
   "source": [
    "s_texto * s_numero"
   ]
  },
  {
   "cell_type": "code",
   "execution_count": 225,
   "id": "9f0f81ca-3226-40f8-94d8-8258bbd471ef",
   "metadata": {},
   "outputs": [
    {
     "ename": "TypeError",
     "evalue": "can only concatenate str (not \"int\") to str",
     "output_type": "error",
     "traceback": [
      "\u001b[0;31m---------------------------------------------------------------------------\u001b[0m",
      "\u001b[0;31mTypeError\u001b[0m                                 Traceback (most recent call last)",
      "\u001b[0;32m<ipython-input-225-e88bced83533>\u001b[0m in \u001b[0;36m<module>\u001b[0;34m\u001b[0m\n\u001b[0;32m----> 1\u001b[0;31m \u001b[0;34m'a'\u001b[0m \u001b[0;34m+\u001b[0m \u001b[0;36m20\u001b[0m\u001b[0;34m\u001b[0m\u001b[0;34m\u001b[0m\u001b[0m\n\u001b[0m",
      "\u001b[0;31mTypeError\u001b[0m: can only concatenate str (not \"int\") to str"
     ]
    }
   ],
   "source": [
    "'a' + 20"
   ]
  },
  {
   "cell_type": "code",
   "execution_count": 224,
   "id": "17525dbf-9916-4865-b38f-316f89087a27",
   "metadata": {},
   "outputs": [
    {
     "ename": "TypeError",
     "evalue": "can only concatenate str (not \"int\") to str",
     "output_type": "error",
     "traceback": [
      "\u001b[0;31m---------------------------------------------------------------------------\u001b[0m",
      "\u001b[0;31mTypeError\u001b[0m                                 Traceback (most recent call last)",
      "\u001b[0;32m~/opt/anaconda3/lib/python3.8/site-packages/pandas/core/ops/array_ops.py\u001b[0m in \u001b[0;36m_na_arithmetic_op\u001b[0;34m(left, right, op, is_cmp)\u001b[0m\n\u001b[1;32m    165\u001b[0m     \u001b[0;32mtry\u001b[0m\u001b[0;34m:\u001b[0m\u001b[0;34m\u001b[0m\u001b[0;34m\u001b[0m\u001b[0m\n\u001b[0;32m--> 166\u001b[0;31m         \u001b[0mresult\u001b[0m \u001b[0;34m=\u001b[0m \u001b[0mfunc\u001b[0m\u001b[0;34m(\u001b[0m\u001b[0mleft\u001b[0m\u001b[0;34m,\u001b[0m \u001b[0mright\u001b[0m\u001b[0;34m)\u001b[0m\u001b[0;34m\u001b[0m\u001b[0;34m\u001b[0m\u001b[0m\n\u001b[0m\u001b[1;32m    167\u001b[0m     \u001b[0;32mexcept\u001b[0m \u001b[0mTypeError\u001b[0m\u001b[0;34m:\u001b[0m\u001b[0;34m\u001b[0m\u001b[0;34m\u001b[0m\u001b[0m\n",
      "\u001b[0;32m~/opt/anaconda3/lib/python3.8/site-packages/pandas/core/computation/expressions.py\u001b[0m in \u001b[0;36mevaluate\u001b[0;34m(op, a, b, use_numexpr)\u001b[0m\n\u001b[1;32m    238\u001b[0m             \u001b[0;31m# error: \"None\" not callable\u001b[0m\u001b[0;34m\u001b[0m\u001b[0;34m\u001b[0m\u001b[0;34m\u001b[0m\u001b[0m\n\u001b[0;32m--> 239\u001b[0;31m             \u001b[0;32mreturn\u001b[0m \u001b[0m_evaluate\u001b[0m\u001b[0;34m(\u001b[0m\u001b[0mop\u001b[0m\u001b[0;34m,\u001b[0m \u001b[0mop_str\u001b[0m\u001b[0;34m,\u001b[0m \u001b[0ma\u001b[0m\u001b[0;34m,\u001b[0m \u001b[0mb\u001b[0m\u001b[0;34m)\u001b[0m  \u001b[0;31m# type: ignore[misc]\u001b[0m\u001b[0;34m\u001b[0m\u001b[0;34m\u001b[0m\u001b[0m\n\u001b[0m\u001b[1;32m    240\u001b[0m     \u001b[0;32mreturn\u001b[0m \u001b[0m_evaluate_standard\u001b[0m\u001b[0;34m(\u001b[0m\u001b[0mop\u001b[0m\u001b[0;34m,\u001b[0m \u001b[0mop_str\u001b[0m\u001b[0;34m,\u001b[0m \u001b[0ma\u001b[0m\u001b[0;34m,\u001b[0m \u001b[0mb\u001b[0m\u001b[0;34m)\u001b[0m\u001b[0;34m\u001b[0m\u001b[0;34m\u001b[0m\u001b[0m\n",
      "\u001b[0;32m~/opt/anaconda3/lib/python3.8/site-packages/pandas/core/computation/expressions.py\u001b[0m in \u001b[0;36m_evaluate_numexpr\u001b[0;34m(op, op_str, a, b)\u001b[0m\n\u001b[1;32m    127\u001b[0m     \u001b[0;32mif\u001b[0m \u001b[0mresult\u001b[0m \u001b[0;32mis\u001b[0m \u001b[0;32mNone\u001b[0m\u001b[0;34m:\u001b[0m\u001b[0;34m\u001b[0m\u001b[0;34m\u001b[0m\u001b[0m\n\u001b[0;32m--> 128\u001b[0;31m         \u001b[0mresult\u001b[0m \u001b[0;34m=\u001b[0m \u001b[0m_evaluate_standard\u001b[0m\u001b[0;34m(\u001b[0m\u001b[0mop\u001b[0m\u001b[0;34m,\u001b[0m \u001b[0mop_str\u001b[0m\u001b[0;34m,\u001b[0m \u001b[0ma\u001b[0m\u001b[0;34m,\u001b[0m \u001b[0mb\u001b[0m\u001b[0;34m)\u001b[0m\u001b[0;34m\u001b[0m\u001b[0;34m\u001b[0m\u001b[0m\n\u001b[0m\u001b[1;32m    129\u001b[0m \u001b[0;34m\u001b[0m\u001b[0m\n",
      "\u001b[0;32m~/opt/anaconda3/lib/python3.8/site-packages/pandas/core/computation/expressions.py\u001b[0m in \u001b[0;36m_evaluate_standard\u001b[0;34m(op, op_str, a, b)\u001b[0m\n\u001b[1;32m     68\u001b[0m         \u001b[0m_store_test_result\u001b[0m\u001b[0;34m(\u001b[0m\u001b[0;32mFalse\u001b[0m\u001b[0;34m)\u001b[0m\u001b[0;34m\u001b[0m\u001b[0;34m\u001b[0m\u001b[0m\n\u001b[0;32m---> 69\u001b[0;31m     \u001b[0;32mreturn\u001b[0m \u001b[0mop\u001b[0m\u001b[0;34m(\u001b[0m\u001b[0ma\u001b[0m\u001b[0;34m,\u001b[0m \u001b[0mb\u001b[0m\u001b[0;34m)\u001b[0m\u001b[0;34m\u001b[0m\u001b[0;34m\u001b[0m\u001b[0m\n\u001b[0m\u001b[1;32m     70\u001b[0m \u001b[0;34m\u001b[0m\u001b[0m\n",
      "\u001b[0;31mTypeError\u001b[0m: can only concatenate str (not \"int\") to str",
      "\nDuring handling of the above exception, another exception occurred:\n",
      "\u001b[0;31mTypeError\u001b[0m                                 Traceback (most recent call last)",
      "\u001b[0;32m<ipython-input-224-1b1d22ded4a1>\u001b[0m in \u001b[0;36m<module>\u001b[0;34m\u001b[0m\n\u001b[0;32m----> 1\u001b[0;31m \u001b[0ms_texto\u001b[0m \u001b[0;34m+\u001b[0m \u001b[0ms_numero\u001b[0m\u001b[0;34m\u001b[0m\u001b[0;34m\u001b[0m\u001b[0m\n\u001b[0m",
      "\u001b[0;32m~/opt/anaconda3/lib/python3.8/site-packages/pandas/core/ops/common.py\u001b[0m in \u001b[0;36mnew_method\u001b[0;34m(self, other)\u001b[0m\n\u001b[1;32m     67\u001b[0m         \u001b[0mother\u001b[0m \u001b[0;34m=\u001b[0m \u001b[0mitem_from_zerodim\u001b[0m\u001b[0;34m(\u001b[0m\u001b[0mother\u001b[0m\u001b[0;34m)\u001b[0m\u001b[0;34m\u001b[0m\u001b[0;34m\u001b[0m\u001b[0m\n\u001b[1;32m     68\u001b[0m \u001b[0;34m\u001b[0m\u001b[0m\n\u001b[0;32m---> 69\u001b[0;31m         \u001b[0;32mreturn\u001b[0m \u001b[0mmethod\u001b[0m\u001b[0;34m(\u001b[0m\u001b[0mself\u001b[0m\u001b[0;34m,\u001b[0m \u001b[0mother\u001b[0m\u001b[0;34m)\u001b[0m\u001b[0;34m\u001b[0m\u001b[0;34m\u001b[0m\u001b[0m\n\u001b[0m\u001b[1;32m     70\u001b[0m \u001b[0;34m\u001b[0m\u001b[0m\n\u001b[1;32m     71\u001b[0m     \u001b[0;32mreturn\u001b[0m \u001b[0mnew_method\u001b[0m\u001b[0;34m\u001b[0m\u001b[0;34m\u001b[0m\u001b[0m\n",
      "\u001b[0;32m~/opt/anaconda3/lib/python3.8/site-packages/pandas/core/arraylike.py\u001b[0m in \u001b[0;36m__add__\u001b[0;34m(self, other)\u001b[0m\n\u001b[1;32m     90\u001b[0m     \u001b[0;34m@\u001b[0m\u001b[0munpack_zerodim_and_defer\u001b[0m\u001b[0;34m(\u001b[0m\u001b[0;34m\"__add__\"\u001b[0m\u001b[0;34m)\u001b[0m\u001b[0;34m\u001b[0m\u001b[0;34m\u001b[0m\u001b[0m\n\u001b[1;32m     91\u001b[0m     \u001b[0;32mdef\u001b[0m \u001b[0m__add__\u001b[0m\u001b[0;34m(\u001b[0m\u001b[0mself\u001b[0m\u001b[0;34m,\u001b[0m \u001b[0mother\u001b[0m\u001b[0;34m)\u001b[0m\u001b[0;34m:\u001b[0m\u001b[0;34m\u001b[0m\u001b[0;34m\u001b[0m\u001b[0m\n\u001b[0;32m---> 92\u001b[0;31m         \u001b[0;32mreturn\u001b[0m \u001b[0mself\u001b[0m\u001b[0;34m.\u001b[0m\u001b[0m_arith_method\u001b[0m\u001b[0;34m(\u001b[0m\u001b[0mother\u001b[0m\u001b[0;34m,\u001b[0m \u001b[0moperator\u001b[0m\u001b[0;34m.\u001b[0m\u001b[0madd\u001b[0m\u001b[0;34m)\u001b[0m\u001b[0;34m\u001b[0m\u001b[0;34m\u001b[0m\u001b[0m\n\u001b[0m\u001b[1;32m     93\u001b[0m \u001b[0;34m\u001b[0m\u001b[0m\n\u001b[1;32m     94\u001b[0m     \u001b[0;34m@\u001b[0m\u001b[0munpack_zerodim_and_defer\u001b[0m\u001b[0;34m(\u001b[0m\u001b[0;34m\"__radd__\"\u001b[0m\u001b[0;34m)\u001b[0m\u001b[0;34m\u001b[0m\u001b[0;34m\u001b[0m\u001b[0m\n",
      "\u001b[0;32m~/opt/anaconda3/lib/python3.8/site-packages/pandas/core/series.py\u001b[0m in \u001b[0;36m_arith_method\u001b[0;34m(self, other, op)\u001b[0m\n\u001b[1;32m   5523\u001b[0m \u001b[0;34m\u001b[0m\u001b[0m\n\u001b[1;32m   5524\u001b[0m         \u001b[0;32mwith\u001b[0m \u001b[0mnp\u001b[0m\u001b[0;34m.\u001b[0m\u001b[0merrstate\u001b[0m\u001b[0;34m(\u001b[0m\u001b[0mall\u001b[0m\u001b[0;34m=\u001b[0m\u001b[0;34m\"ignore\"\u001b[0m\u001b[0;34m)\u001b[0m\u001b[0;34m:\u001b[0m\u001b[0;34m\u001b[0m\u001b[0;34m\u001b[0m\u001b[0m\n\u001b[0;32m-> 5525\u001b[0;31m             \u001b[0mresult\u001b[0m \u001b[0;34m=\u001b[0m \u001b[0mops\u001b[0m\u001b[0;34m.\u001b[0m\u001b[0marithmetic_op\u001b[0m\u001b[0;34m(\u001b[0m\u001b[0mlvalues\u001b[0m\u001b[0;34m,\u001b[0m \u001b[0mrvalues\u001b[0m\u001b[0;34m,\u001b[0m \u001b[0mop\u001b[0m\u001b[0;34m)\u001b[0m\u001b[0;34m\u001b[0m\u001b[0;34m\u001b[0m\u001b[0m\n\u001b[0m\u001b[1;32m   5526\u001b[0m \u001b[0;34m\u001b[0m\u001b[0m\n\u001b[1;32m   5527\u001b[0m         \u001b[0;32mreturn\u001b[0m \u001b[0mself\u001b[0m\u001b[0;34m.\u001b[0m\u001b[0m_construct_result\u001b[0m\u001b[0;34m(\u001b[0m\u001b[0mresult\u001b[0m\u001b[0;34m,\u001b[0m \u001b[0mname\u001b[0m\u001b[0;34m=\u001b[0m\u001b[0mres_name\u001b[0m\u001b[0;34m)\u001b[0m\u001b[0;34m\u001b[0m\u001b[0;34m\u001b[0m\u001b[0m\n",
      "\u001b[0;32m~/opt/anaconda3/lib/python3.8/site-packages/pandas/core/ops/array_ops.py\u001b[0m in \u001b[0;36marithmetic_op\u001b[0;34m(left, right, op)\u001b[0m\n\u001b[1;32m    222\u001b[0m         \u001b[0m_bool_arith_check\u001b[0m\u001b[0;34m(\u001b[0m\u001b[0mop\u001b[0m\u001b[0;34m,\u001b[0m \u001b[0mleft\u001b[0m\u001b[0;34m,\u001b[0m \u001b[0mright\u001b[0m\u001b[0;34m)\u001b[0m\u001b[0;34m\u001b[0m\u001b[0;34m\u001b[0m\u001b[0m\n\u001b[1;32m    223\u001b[0m \u001b[0;34m\u001b[0m\u001b[0m\n\u001b[0;32m--> 224\u001b[0;31m         \u001b[0mres_values\u001b[0m \u001b[0;34m=\u001b[0m \u001b[0m_na_arithmetic_op\u001b[0m\u001b[0;34m(\u001b[0m\u001b[0mleft\u001b[0m\u001b[0;34m,\u001b[0m \u001b[0mright\u001b[0m\u001b[0;34m,\u001b[0m \u001b[0mop\u001b[0m\u001b[0;34m)\u001b[0m\u001b[0;34m\u001b[0m\u001b[0;34m\u001b[0m\u001b[0m\n\u001b[0m\u001b[1;32m    225\u001b[0m \u001b[0;34m\u001b[0m\u001b[0m\n\u001b[1;32m    226\u001b[0m     \u001b[0;32mreturn\u001b[0m \u001b[0mres_values\u001b[0m\u001b[0;34m\u001b[0m\u001b[0;34m\u001b[0m\u001b[0m\n",
      "\u001b[0;32m~/opt/anaconda3/lib/python3.8/site-packages/pandas/core/ops/array_ops.py\u001b[0m in \u001b[0;36m_na_arithmetic_op\u001b[0;34m(left, right, op, is_cmp)\u001b[0m\n\u001b[1;32m    171\u001b[0m             \u001b[0;31m# Don't do this for comparisons, as that will handle complex numbers\u001b[0m\u001b[0;34m\u001b[0m\u001b[0;34m\u001b[0m\u001b[0;34m\u001b[0m\u001b[0m\n\u001b[1;32m    172\u001b[0m             \u001b[0;31m#  incorrectly, see GH#32047\u001b[0m\u001b[0;34m\u001b[0m\u001b[0;34m\u001b[0m\u001b[0;34m\u001b[0m\u001b[0m\n\u001b[0;32m--> 173\u001b[0;31m             \u001b[0mresult\u001b[0m \u001b[0;34m=\u001b[0m \u001b[0m_masked_arith_op\u001b[0m\u001b[0;34m(\u001b[0m\u001b[0mleft\u001b[0m\u001b[0;34m,\u001b[0m \u001b[0mright\u001b[0m\u001b[0;34m,\u001b[0m \u001b[0mop\u001b[0m\u001b[0;34m)\u001b[0m\u001b[0;34m\u001b[0m\u001b[0;34m\u001b[0m\u001b[0m\n\u001b[0m\u001b[1;32m    174\u001b[0m         \u001b[0;32melse\u001b[0m\u001b[0;34m:\u001b[0m\u001b[0;34m\u001b[0m\u001b[0;34m\u001b[0m\u001b[0m\n\u001b[1;32m    175\u001b[0m             \u001b[0;32mraise\u001b[0m\u001b[0;34m\u001b[0m\u001b[0;34m\u001b[0m\u001b[0m\n",
      "\u001b[0;32m~/opt/anaconda3/lib/python3.8/site-packages/pandas/core/ops/array_ops.py\u001b[0m in \u001b[0;36m_masked_arith_op\u001b[0;34m(x, y, op)\u001b[0m\n\u001b[1;32m    110\u001b[0m         \u001b[0;31m# See GH#5284, GH#5035, GH#19448 for historical reference\u001b[0m\u001b[0;34m\u001b[0m\u001b[0;34m\u001b[0m\u001b[0;34m\u001b[0m\u001b[0m\n\u001b[1;32m    111\u001b[0m         \u001b[0;32mif\u001b[0m \u001b[0mmask\u001b[0m\u001b[0;34m.\u001b[0m\u001b[0many\u001b[0m\u001b[0;34m(\u001b[0m\u001b[0;34m)\u001b[0m\u001b[0;34m:\u001b[0m\u001b[0;34m\u001b[0m\u001b[0;34m\u001b[0m\u001b[0m\n\u001b[0;32m--> 112\u001b[0;31m             \u001b[0mresult\u001b[0m\u001b[0;34m[\u001b[0m\u001b[0mmask\u001b[0m\u001b[0;34m]\u001b[0m \u001b[0;34m=\u001b[0m \u001b[0mop\u001b[0m\u001b[0;34m(\u001b[0m\u001b[0mxrav\u001b[0m\u001b[0;34m[\u001b[0m\u001b[0mmask\u001b[0m\u001b[0;34m]\u001b[0m\u001b[0;34m,\u001b[0m \u001b[0myrav\u001b[0m\u001b[0;34m[\u001b[0m\u001b[0mmask\u001b[0m\u001b[0;34m]\u001b[0m\u001b[0;34m)\u001b[0m\u001b[0;34m\u001b[0m\u001b[0;34m\u001b[0m\u001b[0m\n\u001b[0m\u001b[1;32m    113\u001b[0m \u001b[0;34m\u001b[0m\u001b[0m\n\u001b[1;32m    114\u001b[0m     \u001b[0;32melse\u001b[0m\u001b[0;34m:\u001b[0m\u001b[0;34m\u001b[0m\u001b[0;34m\u001b[0m\u001b[0m\n",
      "\u001b[0;31mTypeError\u001b[0m: can only concatenate str (not \"int\") to str"
     ]
    }
   ],
   "source": [
    "s_texto + s_numero"
   ]
  },
  {
   "cell_type": "code",
   "execution_count": 226,
   "id": "bcf213b5-e087-49d4-9e27-f0a322cac2e8",
   "metadata": {},
   "outputs": [
    {
     "data": {
      "text/plain": [
       "0    a1\n",
       "1    b2\n",
       "2    c3\n",
       "dtype: object"
      ]
     },
     "execution_count": 226,
     "metadata": {},
     "output_type": "execute_result"
    }
   ],
   "source": [
    "s_texto + s_numero.astype('str')"
   ]
  },
  {
   "cell_type": "markdown",
   "id": "3aef1bb0-235f-4535-933a-cfc016622e60",
   "metadata": {},
   "source": [
    "Há vários outros métodos muito úteis para séries!\n",
    "\n",
    "Os principais são:"
   ]
  },
  {
   "cell_type": "code",
   "execution_count": 331,
   "id": "7346d457-de5b-4e4d-8b8a-363792abb954",
   "metadata": {},
   "outputs": [],
   "source": [
    "np.random.seed(42)\n",
    "\n",
    "notas = pd.Series(np.random.randint(0, 11, 30))"
   ]
  },
  {
   "cell_type": "code",
   "execution_count": 229,
   "id": "60ad3158-ee44-4204-ac09-26bcaf58e82c",
   "metadata": {},
   "outputs": [],
   "source": [
    "arr_notas = notas.values"
   ]
  },
  {
   "cell_type": "code",
   "execution_count": 230,
   "id": "1aca9e84-9b6d-4bcf-a0d3-b32c926468ef",
   "metadata": {},
   "outputs": [
    {
     "data": {
      "text/plain": [
       "array([ 6,  3, 10,  7,  4,  6,  9,  2,  6, 10, 10,  7,  4,  3,  7,  7,  2,\n",
       "        5,  4,  1,  7,  5,  1,  4,  0,  9,  5,  8,  0, 10])"
      ]
     },
     "execution_count": 230,
     "metadata": {},
     "output_type": "execute_result"
    }
   ],
   "source": [
    "arr_notas"
   ]
  },
  {
   "cell_type": "code",
   "execution_count": 231,
   "id": "1ce937a1-8866-4c39-b34d-3fade2318ea2",
   "metadata": {
    "scrolled": true,
    "tags": []
   },
   "outputs": [
    {
     "data": {
      "text/plain": [
       "0      6\n",
       "1      3\n",
       "2     10\n",
       "3      7\n",
       "4      4\n",
       "5      6\n",
       "6      9\n",
       "7      2\n",
       "8      6\n",
       "9     10\n",
       "10    10\n",
       "11     7\n",
       "12     4\n",
       "13     3\n",
       "14     7\n",
       "15     7\n",
       "16     2\n",
       "17     5\n",
       "18     4\n",
       "19     1\n",
       "20     7\n",
       "21     5\n",
       "22     1\n",
       "23     4\n",
       "24     0\n",
       "25     9\n",
       "26     5\n",
       "27     8\n",
       "28     0\n",
       "29    10\n",
       "dtype: int64"
      ]
     },
     "execution_count": 231,
     "metadata": {},
     "output_type": "execute_result"
    }
   ],
   "source": [
    "notas"
   ]
  },
  {
   "cell_type": "code",
   "execution_count": 234,
   "id": "e4f62397-b768-494c-a4c7-35ece12c7d51",
   "metadata": {},
   "outputs": [],
   "source": [
    "mascara = arr_notas > 0"
   ]
  },
  {
   "cell_type": "code",
   "execution_count": 235,
   "id": "616c23bd-13da-46e1-9653-46aa3d9b09c9",
   "metadata": {},
   "outputs": [
    {
     "data": {
      "text/plain": [
       "array([ 6,  3, 10,  7,  4,  6,  9,  2,  6, 10, 10,  7,  4,  3,  7,  7,  2,\n",
       "        5,  4,  1,  7,  5,  1,  4,  9,  5,  8, 10])"
      ]
     },
     "execution_count": 235,
     "metadata": {},
     "output_type": "execute_result"
    }
   ],
   "source": [
    "arr_notas[mascara]"
   ]
  },
  {
   "cell_type": "code",
   "execution_count": 239,
   "id": "ba063b53-6761-4a8f-bbf9-d441ca978ee2",
   "metadata": {},
   "outputs": [],
   "source": [
    "mascara2 = notas > 0"
   ]
  },
  {
   "cell_type": "code",
   "execution_count": 240,
   "id": "303dce38-2402-40d5-8921-afc40b68cb2c",
   "metadata": {
    "scrolled": true,
    "tags": []
   },
   "outputs": [
    {
     "data": {
      "text/plain": [
       "0      6\n",
       "1      3\n",
       "2     10\n",
       "3      7\n",
       "4      4\n",
       "5      6\n",
       "6      9\n",
       "7      2\n",
       "8      6\n",
       "9     10\n",
       "10    10\n",
       "11     7\n",
       "12     4\n",
       "13     3\n",
       "14     7\n",
       "15     7\n",
       "16     2\n",
       "17     5\n",
       "18     4\n",
       "19     1\n",
       "20     7\n",
       "21     5\n",
       "22     1\n",
       "23     4\n",
       "25     9\n",
       "26     5\n",
       "27     8\n",
       "29    10\n",
       "dtype: int64"
      ]
     },
     "execution_count": 240,
     "metadata": {},
     "output_type": "execute_result"
    }
   ],
   "source": [
    "notas[mascara2]"
   ]
  },
  {
   "cell_type": "code",
   "execution_count": 241,
   "id": "1a54aa20-73b1-4c9f-9fcc-ef698f84bf23",
   "metadata": {},
   "outputs": [],
   "source": [
    "mascara3 = (notas >= 0) & (notas < 5)"
   ]
  },
  {
   "cell_type": "code",
   "execution_count": 264,
   "id": "2b3e3cde-05c7-4799-ae76-6287170a4d8d",
   "metadata": {},
   "outputs": [],
   "source": [
    "notas_vermelhas = notas[mascara3]\n",
    "\n",
    "# Utilizar o ~ para pegar a negativa da mascara\n",
    "notas_azuis = notas[~mascara3]"
   ]
  },
  {
   "cell_type": "code",
   "execution_count": 265,
   "id": "da592024-fab9-428d-b302-3f3a979fca87",
   "metadata": {
    "scrolled": true,
    "tags": []
   },
   "outputs": [
    {
     "data": {
      "text/plain": [
       "0     False\n",
       "1      True\n",
       "2     False\n",
       "3     False\n",
       "4      True\n",
       "5     False\n",
       "6     False\n",
       "7      True\n",
       "8     False\n",
       "9     False\n",
       "10    False\n",
       "11    False\n",
       "12     True\n",
       "13     True\n",
       "14    False\n",
       "15    False\n",
       "16     True\n",
       "17    False\n",
       "18     True\n",
       "19     True\n",
       "20    False\n",
       "21    False\n",
       "22     True\n",
       "23     True\n",
       "24     True\n",
       "25    False\n",
       "26    False\n",
       "27    False\n",
       "28     True\n",
       "29    False\n",
       "dtype: bool"
      ]
     },
     "execution_count": 265,
     "metadata": {},
     "output_type": "execute_result"
    }
   ],
   "source": [
    "mascara3"
   ]
  },
  {
   "cell_type": "code",
   "execution_count": 266,
   "id": "bb10db1c-f3da-4147-af4d-4598b4e2d0ae",
   "metadata": {
    "scrolled": true,
    "tags": []
   },
   "outputs": [
    {
     "data": {
      "text/plain": [
       "0      True\n",
       "1     False\n",
       "2      True\n",
       "3      True\n",
       "4     False\n",
       "5      True\n",
       "6      True\n",
       "7     False\n",
       "8      True\n",
       "9      True\n",
       "10     True\n",
       "11     True\n",
       "12    False\n",
       "13    False\n",
       "14     True\n",
       "15     True\n",
       "16    False\n",
       "17     True\n",
       "18    False\n",
       "19    False\n",
       "20     True\n",
       "21     True\n",
       "22    False\n",
       "23    False\n",
       "24    False\n",
       "25     True\n",
       "26     True\n",
       "27     True\n",
       "28    False\n",
       "29     True\n",
       "dtype: bool"
      ]
     },
     "execution_count": 266,
     "metadata": {},
     "output_type": "execute_result"
    }
   ],
   "source": [
    "(~mascara3)"
   ]
  },
  {
   "cell_type": "code",
   "execution_count": 272,
   "id": "3c00ce44-2f0e-4c17-8376-c1cd9d5a63bf",
   "metadata": {},
   "outputs": [
    {
     "data": {
      "text/plain": [
       "1     3\n",
       "4     4\n",
       "7     2\n",
       "12    4\n",
       "13    3\n",
       "16    2\n",
       "18    4\n",
       "19    1\n",
       "22    1\n",
       "23    4\n",
       "24    0\n",
       "28    0\n",
       "dtype: int64"
      ]
     },
     "execution_count": 272,
     "metadata": {},
     "output_type": "execute_result"
    }
   ],
   "source": [
    "notas_vermelhas"
   ]
  },
  {
   "cell_type": "code",
   "execution_count": 273,
   "id": "69dfa764-008f-46dd-8790-af7611afe79f",
   "metadata": {},
   "outputs": [
    {
     "data": {
      "text/plain": [
       "0      6\n",
       "2     10\n",
       "3      7\n",
       "5      6\n",
       "6      9\n",
       "8      6\n",
       "9     10\n",
       "10    10\n",
       "11     7\n",
       "14     7\n",
       "15     7\n",
       "17     5\n",
       "20     7\n",
       "21     5\n",
       "25     9\n",
       "26     5\n",
       "27     8\n",
       "29    10\n",
       "dtype: int64"
      ]
     },
     "execution_count": 273,
     "metadata": {},
     "output_type": "execute_result"
    }
   ],
   "source": [
    "notas_azuis"
   ]
  },
  {
   "cell_type": "code",
   "execution_count": 285,
   "id": "8058b147-a5fa-4408-832b-32f1137136b6",
   "metadata": {},
   "outputs": [],
   "source": [
    "soma = lambda a, b: a + b"
   ]
  },
  {
   "cell_type": "code",
   "execution_count": 286,
   "id": "2b65676c-e191-49fb-9fff-1411c367d7f3",
   "metadata": {},
   "outputs": [],
   "source": [
    "def soma_func(a, b):\n",
    "    return a + b"
   ]
  },
  {
   "cell_type": "code",
   "execution_count": 287,
   "id": "5c7e46f4-b379-494f-a65e-440c0cdcbb93",
   "metadata": {},
   "outputs": [
    {
     "data": {
      "text/plain": [
       "3"
      ]
     },
     "execution_count": 287,
     "metadata": {},
     "output_type": "execute_result"
    }
   ],
   "source": [
    "soma(1, 2)"
   ]
  },
  {
   "cell_type": "code",
   "execution_count": 288,
   "id": "77b39713-a4cf-45f4-817a-3f761301d0e2",
   "metadata": {},
   "outputs": [
    {
     "data": {
      "text/plain": [
       "3"
      ]
     },
     "execution_count": 288,
     "metadata": {},
     "output_type": "execute_result"
    }
   ],
   "source": [
    "soma_func(1, 2)"
   ]
  },
  {
   "cell_type": "code",
   "execution_count": 289,
   "id": "b5128537-99be-47e0-83fb-5b833ba5a16a",
   "metadata": {},
   "outputs": [],
   "source": [
    "eleva_quad = lambda x: x ** 2"
   ]
  },
  {
   "cell_type": "code",
   "execution_count": 290,
   "id": "cedc52ea-dbd4-4d73-96bf-63b8e1e92c6d",
   "metadata": {},
   "outputs": [
    {
     "data": {
      "text/plain": [
       "16"
      ]
     },
     "execution_count": 290,
     "metadata": {},
     "output_type": "execute_result"
    }
   ],
   "source": [
    "eleva_quad(4)"
   ]
  },
  {
   "cell_type": "code",
   "execution_count": 293,
   "id": "0d28fcad-302a-4a8e-96e3-4e3b21c2928b",
   "metadata": {},
   "outputs": [],
   "source": [
    "lista_valores = [1, 2, 3, 4]"
   ]
  },
  {
   "cell_type": "code",
   "execution_count": 295,
   "id": "749f3103-6ed4-424b-aeea-8c0308bb16ce",
   "metadata": {},
   "outputs": [
    {
     "data": {
      "text/plain": [
       "[1, 4, 9, 16]"
      ]
     },
     "execution_count": 295,
     "metadata": {},
     "output_type": "execute_result"
    }
   ],
   "source": [
    "[eleva_quad(valor) for valor in lista_valores]"
   ]
  },
  {
   "cell_type": "code",
   "execution_count": 296,
   "id": "54cfed68-1507-4602-be6b-7e52a2caecf0",
   "metadata": {
    "scrolled": true,
    "tags": []
   },
   "outputs": [
    {
     "data": {
      "text/plain": [
       "0       par\n",
       "1     impar\n",
       "2       par\n",
       "3     impar\n",
       "4       par\n",
       "5       par\n",
       "6     impar\n",
       "7       par\n",
       "8       par\n",
       "9       par\n",
       "10      par\n",
       "11    impar\n",
       "12      par\n",
       "13    impar\n",
       "14    impar\n",
       "15    impar\n",
       "16      par\n",
       "17    impar\n",
       "18      par\n",
       "19    impar\n",
       "20    impar\n",
       "21    impar\n",
       "22    impar\n",
       "23      par\n",
       "24      par\n",
       "25    impar\n",
       "26    impar\n",
       "27      par\n",
       "28      par\n",
       "29      par\n",
       "dtype: object"
      ]
     },
     "execution_count": 296,
     "metadata": {},
     "output_type": "execute_result"
    }
   ],
   "source": [
    "notas.apply(lambda nota: 'par' if nota % 2 == 0 else 'impar')"
   ]
  },
  {
   "cell_type": "code",
   "execution_count": 297,
   "id": "b6a84a96-ce69-4250-9073-c92d670b5333",
   "metadata": {
    "scrolled": true,
    "tags": []
   },
   "outputs": [
    {
     "data": {
      "text/plain": [
       "0      6\n",
       "1      3\n",
       "2     10\n",
       "3      7\n",
       "4      4\n",
       "5      6\n",
       "6      9\n",
       "7      2\n",
       "8      6\n",
       "9     10\n",
       "10    10\n",
       "11     7\n",
       "12     4\n",
       "13     3\n",
       "14     7\n",
       "15     7\n",
       "16     2\n",
       "17     5\n",
       "18     4\n",
       "19     1\n",
       "20     7\n",
       "21     5\n",
       "22     1\n",
       "23     4\n",
       "24     0\n",
       "25     9\n",
       "26     5\n",
       "27     8\n",
       "28     0\n",
       "29    10\n",
       "dtype: int64"
      ]
     },
     "execution_count": 297,
     "metadata": {},
     "output_type": "execute_result"
    }
   ],
   "source": [
    "notas"
   ]
  },
  {
   "cell_type": "code",
   "execution_count": 307,
   "id": "b5833d58-b7e9-46c4-947c-4492aad46789",
   "metadata": {},
   "outputs": [],
   "source": [
    "notas_check = notas.apply(lambda x: True if x >= 5 else False)"
   ]
  },
  {
   "cell_type": "code",
   "execution_count": 308,
   "id": "14eb9a83-0256-445a-bd9f-6d9168e5c5c6",
   "metadata": {},
   "outputs": [
    {
     "data": {
      "text/plain": [
       "0      6\n",
       "2     10\n",
       "3      7\n",
       "5      6\n",
       "6      9\n",
       "8      6\n",
       "9     10\n",
       "10    10\n",
       "11     7\n",
       "14     7\n",
       "15     7\n",
       "17     5\n",
       "20     7\n",
       "21     5\n",
       "25     9\n",
       "26     5\n",
       "27     8\n",
       "29    10\n",
       "dtype: int64"
      ]
     },
     "execution_count": 308,
     "metadata": {},
     "output_type": "execute_result"
    }
   ],
   "source": [
    "notas[notas_check]"
   ]
  },
  {
   "cell_type": "code",
   "execution_count": 310,
   "id": "5842491b-cfe5-4072-aa3c-4be3d349af4f",
   "metadata": {},
   "outputs": [
    {
     "data": {
      "text/plain": [
       "10"
      ]
     },
     "execution_count": 310,
     "metadata": {},
     "output_type": "execute_result"
    }
   ],
   "source": [
    "notas.max()"
   ]
  },
  {
   "cell_type": "code",
   "execution_count": 311,
   "id": "6c907776-0c41-492f-8190-11b43c9544c0",
   "metadata": {},
   "outputs": [
    {
     "data": {
      "text/plain": [
       "0"
      ]
     },
     "execution_count": 311,
     "metadata": {},
     "output_type": "execute_result"
    }
   ],
   "source": [
    "notas.min()"
   ]
  },
  {
   "cell_type": "code",
   "execution_count": 312,
   "id": "6e70717e-ffb4-45df-b64b-8ba390307c55",
   "metadata": {},
   "outputs": [
    {
     "data": {
      "text/plain": [
       "5.4"
      ]
     },
     "execution_count": 312,
     "metadata": {},
     "output_type": "execute_result"
    }
   ],
   "source": [
    "notas.mean()"
   ]
  },
  {
   "cell_type": "code",
   "execution_count": 313,
   "id": "f581b545-e921-4dcd-ade8-2540db9accbe",
   "metadata": {},
   "outputs": [
    {
     "data": {
      "text/plain": [
       "3.0580588839868725"
      ]
     },
     "execution_count": 313,
     "metadata": {},
     "output_type": "execute_result"
    }
   ],
   "source": [
    "notas.std()"
   ]
  },
  {
   "cell_type": "code",
   "execution_count": 314,
   "id": "b1d2a3ad-da47-4c8b-993c-53ab3916633e",
   "metadata": {},
   "outputs": [
    {
     "data": {
      "text/plain": [
       "30"
      ]
     },
     "execution_count": 314,
     "metadata": {},
     "output_type": "execute_result"
    }
   ],
   "source": [
    "len(notas)"
   ]
  },
  {
   "cell_type": "code",
   "execution_count": 316,
   "id": "1c0441c6-f811-4ea0-b05f-eb2cfddd2511",
   "metadata": {},
   "outputs": [
    {
     "data": {
      "text/plain": [
       "(30,)"
      ]
     },
     "execution_count": 316,
     "metadata": {},
     "output_type": "execute_result"
    }
   ],
   "source": [
    "notas.shape"
   ]
  },
  {
   "cell_type": "code",
   "execution_count": 317,
   "id": "62ba9a8a-f361-47ec-b7f7-2ebd3d36cc9c",
   "metadata": {},
   "outputs": [
    {
     "data": {
      "text/plain": [
       "30"
      ]
     },
     "execution_count": 317,
     "metadata": {},
     "output_type": "execute_result"
    }
   ],
   "source": [
    "notas.size"
   ]
  },
  {
   "cell_type": "code",
   "execution_count": 332,
   "id": "29bacc03-df42-487d-a287-9386cf00527d",
   "metadata": {
    "scrolled": true,
    "tags": []
   },
   "outputs": [
    {
     "data": {
      "text/plain": [
       "24     0\n",
       "28     0\n",
       "22     1\n",
       "19     1\n",
       "16     2\n",
       "7      2\n",
       "1      3\n",
       "13     3\n",
       "12     4\n",
       "18     4\n",
       "23     4\n",
       "4      4\n",
       "21     5\n",
       "26     5\n",
       "17     5\n",
       "8      6\n",
       "5      6\n",
       "0      6\n",
       "20     7\n",
       "14     7\n",
       "11     7\n",
       "3      7\n",
       "15     7\n",
       "27     8\n",
       "6      9\n",
       "25     9\n",
       "10    10\n",
       "9     10\n",
       "2     10\n",
       "29    10\n",
       "dtype: int64"
      ]
     },
     "execution_count": 332,
     "metadata": {},
     "output_type": "execute_result"
    }
   ],
   "source": [
    "notas.sort_values()"
   ]
  },
  {
   "cell_type": "code",
   "execution_count": 335,
   "id": "fb524928-edbf-4b0b-9d52-fdf7d6a64d78",
   "metadata": {
    "scrolled": true,
    "tags": []
   },
   "outputs": [],
   "source": [
    "notas_ordernadas = notas.sort_values(ascending=False)"
   ]
  },
  {
   "cell_type": "code",
   "execution_count": 338,
   "id": "4797a4c2-d7ae-47af-9d79-a47794151123",
   "metadata": {},
   "outputs": [
    {
     "data": {
      "text/plain": [
       "array([ 6,  3, 10,  7,  4,  9,  2,  5,  1,  0,  8])"
      ]
     },
     "execution_count": 338,
     "metadata": {},
     "output_type": "execute_result"
    }
   ],
   "source": [
    "notas.unique()"
   ]
  },
  {
   "cell_type": "code",
   "execution_count": 339,
   "id": "1ccf786a-c481-46d0-bfe4-cb24dba04e6c",
   "metadata": {},
   "outputs": [
    {
     "data": {
      "text/plain": [
       "7     5\n",
       "10    4\n",
       "4     4\n",
       "6     3\n",
       "5     3\n",
       "3     2\n",
       "9     2\n",
       "2     2\n",
       "1     2\n",
       "0     2\n",
       "8     1\n",
       "dtype: int64"
      ]
     },
     "execution_count": 339,
     "metadata": {},
     "output_type": "execute_result"
    }
   ],
   "source": [
    "# Numero de ocorrencia de cada valor unico\n",
    "\n",
    "# Frequencia absoluta\n",
    "notas.value_counts()"
   ]
  },
  {
   "cell_type": "code",
   "execution_count": 340,
   "id": "8ace0ec2-12ad-42ff-b267-8b09293fd9a7",
   "metadata": {},
   "outputs": [
    {
     "data": {
      "text/plain": [
       "7     0.166667\n",
       "10    0.133333\n",
       "4     0.133333\n",
       "6     0.100000\n",
       "5     0.100000\n",
       "3     0.066667\n",
       "9     0.066667\n",
       "2     0.066667\n",
       "1     0.066667\n",
       "0     0.066667\n",
       "8     0.033333\n",
       "dtype: float64"
      ]
     },
     "execution_count": 340,
     "metadata": {},
     "output_type": "execute_result"
    }
   ],
   "source": [
    "notas.value_counts() / notas.size"
   ]
  },
  {
   "cell_type": "code",
   "execution_count": 342,
   "id": "a39dcb8f-7fbd-4cd3-9a31-c1de73dc366d",
   "metadata": {},
   "outputs": [
    {
     "data": {
      "text/plain": [
       "7     0.166667\n",
       "10    0.133333\n",
       "4     0.133333\n",
       "6     0.100000\n",
       "5     0.100000\n",
       "3     0.066667\n",
       "9     0.066667\n",
       "2     0.066667\n",
       "1     0.066667\n",
       "0     0.066667\n",
       "8     0.033333\n",
       "dtype: float64"
      ]
     },
     "execution_count": 342,
     "metadata": {},
     "output_type": "execute_result"
    }
   ],
   "source": [
    "# Frequência relativa\n",
    "notas.value_counts(normalize=True)"
   ]
  },
  {
   "cell_type": "markdown",
   "id": "b6904e80-05ca-45c6-b499-f2ddc0953f04",
   "metadata": {},
   "source": [
    "## Paramos aqui"
   ]
  },
  {
   "cell_type": "code",
   "execution_count": 38,
   "id": "fd77446c-d1e2-4914-855f-68c044eb1643",
   "metadata": {},
   "outputs": [],
   "source": [
    "# 55\n",
    "(notas\n",
    " .value_counts(normalize=True)\n",
    " .apply(lambda x: roun(x))\n",
    ")"
   ]
  },
  {
   "cell_type": "code",
   "execution_count": 39,
   "id": "4370bd4c-d614-452d-aa2c-a326574cc02c",
   "metadata": {},
   "outputs": [],
   "source": [
    "# 56"
   ]
  },
  {
   "cell_type": "code",
   "execution_count": 40,
   "id": "2661523b-63ef-48f0-a361-6436c6b6c6ca",
   "metadata": {},
   "outputs": [],
   "source": [
    "# 57"
   ]
  },
  {
   "cell_type": "code",
   "execution_count": 41,
   "id": "ce26d108-56ff-4f3f-a95c-aa6cca1eda40",
   "metadata": {},
   "outputs": [],
   "source": [
    "# 58"
   ]
  },
  {
   "cell_type": "code",
   "execution_count": 42,
   "id": "742f50b9-8350-4db0-8e9b-29819246c4bb",
   "metadata": {},
   "outputs": [],
   "source": [
    "# 59"
   ]
  },
  {
   "cell_type": "code",
   "execution_count": 43,
   "id": "33bb6935-1823-4312-935e-5a7e7f963b53",
   "metadata": {},
   "outputs": [],
   "source": [
    "# 60"
   ]
  },
  {
   "cell_type": "code",
   "execution_count": 44,
   "id": "585f33fa-0328-4130-80d6-bc47e7139556",
   "metadata": {},
   "outputs": [],
   "source": [
    "# 61"
   ]
  },
  {
   "cell_type": "code",
   "execution_count": 45,
   "id": "f6ee7b98-888a-45a1-8f18-f9d5ca2de0a8",
   "metadata": {},
   "outputs": [],
   "source": [
    "# 62"
   ]
  },
  {
   "cell_type": "code",
   "execution_count": 46,
   "id": "3b5a1061-e43a-44c1-9467-594c6e8a1bed",
   "metadata": {},
   "outputs": [],
   "source": [
    "# 63"
   ]
  },
  {
   "cell_type": "code",
   "execution_count": 47,
   "id": "6d8eadeb-2a1a-4419-a1d8-e5b173e41b51",
   "metadata": {},
   "outputs": [],
   "source": [
    "# 64"
   ]
  },
  {
   "cell_type": "code",
   "execution_count": 48,
   "id": "90e57706-a0db-4ee4-9692-940e086f14c4",
   "metadata": {},
   "outputs": [],
   "source": [
    "# 65"
   ]
  },
  {
   "cell_type": "code",
   "execution_count": 49,
   "id": "a349392e-d570-4dfa-a282-a9a0a194c87f",
   "metadata": {},
   "outputs": [],
   "source": [
    "# 66"
   ]
  },
  {
   "cell_type": "code",
   "execution_count": 50,
   "id": "c356f7ef-41ed-45b5-8a20-26242e6ea577",
   "metadata": {},
   "outputs": [],
   "source": [
    "# 67"
   ]
  },
  {
   "cell_type": "code",
   "execution_count": 51,
   "id": "19549fb5-f5b6-4da3-a96a-fa4f92c217f9",
   "metadata": {},
   "outputs": [],
   "source": [
    "# 68"
   ]
  },
  {
   "cell_type": "code",
   "execution_count": 52,
   "id": "b95a2d64-8d93-42ed-b3f3-650ab454099f",
   "metadata": {},
   "outputs": [],
   "source": [
    "# 69"
   ]
  },
  {
   "cell_type": "markdown",
   "id": "137da353-d400-4f6b-a038-28271827ef26",
   "metadata": {},
   "source": [
    "Como séries são construídas a partir de numpy arrays, podemos também fazer filtros!"
   ]
  },
  {
   "cell_type": "code",
   "execution_count": null,
   "id": "6378d83f-0499-4d46-ad04-e60fcc684404",
   "metadata": {},
   "outputs": [],
   "source": [
    "# 70"
   ]
  },
  {
   "cell_type": "code",
   "execution_count": null,
   "id": "22d5795b-f450-4317-ba43-6e136e744677",
   "metadata": {},
   "outputs": [],
   "source": [
    "# 71"
   ]
  },
  {
   "cell_type": "markdown",
   "id": "32914cac-5e70-4fb5-a419-d991e97bde62",
   "metadata": {},
   "source": [
    "### DataFrame\n",
    "\n",
    "Agora que conhecemos as séries, vamos partir pro objeto do Pandas que mais utilizaremos: o **DataFrame**\n",
    "\n",
    "Como veremos a seguir, o DataFrame é uma estrutura que se assemalha a uma **tabela**.\n",
    "\n",
    "Estruturalmente, o DataFrame nada mais é que um **conjunto de Series**, uma para cada coluna (e, claro, com mesmo índice, que irão indexar as linhas)."
   ]
  },
  {
   "cell_type": "markdown",
   "id": "45f31fac-2452-4bd0-ac04-77567dc0c522",
   "metadata": {},
   "source": [
    "Veremos depois como **ler um dataframe a partir de um arquivo** (que é provavelmente a forma mais comum)"
   ]
  },
  {
   "cell_type": "markdown",
   "id": "263ea5cb-85e3-41fe-a0e5-01a1206dbda5",
   "metadata": {},
   "source": [
    "Há muitas formas de construir um DataFrame do zero. Todas elas fazem uso da função **pd.DataFrame()**, como veremos a seguir.\n",
    "\n",
    "Se quisermos especificar os índices de linha, o nome das colunas, e os dados, podemos passá-los separadamente: "
   ]
  },
  {
   "cell_type": "code",
   "execution_count": 53,
   "id": "bb0526dc-5302-436e-ada7-e6b5aa6839f3",
   "metadata": {},
   "outputs": [],
   "source": [
    "# 72"
   ]
  },
  {
   "cell_type": "code",
   "execution_count": null,
   "id": "be03239e-46c8-46db-889b-5f6d3f77f40f",
   "metadata": {},
   "outputs": [],
   "source": [
    "# 73"
   ]
  },
  {
   "cell_type": "code",
   "execution_count": null,
   "id": "045b44c3-6616-4542-b28c-43873a1f1c2b",
   "metadata": {},
   "outputs": [],
   "source": [
    "# 74"
   ]
  },
  {
   "cell_type": "code",
   "execution_count": null,
   "id": "23ebb3e5-84d1-4cd1-9b4b-fba50a872b8f",
   "metadata": {},
   "outputs": [],
   "source": [
    "# 75"
   ]
  },
  {
   "cell_type": "code",
   "execution_count": 54,
   "id": "5867e4a9-57c7-4937-94a2-10d8e28d24d1",
   "metadata": {},
   "outputs": [],
   "source": [
    "# 76"
   ]
  },
  {
   "cell_type": "code",
   "execution_count": 55,
   "id": "bb148ade-bdf2-4c2b-97e0-48e5a994a1e7",
   "metadata": {},
   "outputs": [],
   "source": [
    "# 77"
   ]
  },
  {
   "cell_type": "code",
   "execution_count": 56,
   "id": "b1c923a7-d315-4d15-8a37-7b7bf8a7f7c7",
   "metadata": {},
   "outputs": [],
   "source": [
    "# 78"
   ]
  },
  {
   "cell_type": "code",
   "execution_count": 57,
   "id": "66e43b89-9ea7-4eea-a1ca-bc659bc58a33",
   "metadata": {},
   "outputs": [],
   "source": [
    "# 79"
   ]
  },
  {
   "cell_type": "code",
   "execution_count": 58,
   "id": "6767a41e-d1a6-4884-99d5-568345744975",
   "metadata": {},
   "outputs": [],
   "source": [
    "# 80"
   ]
  },
  {
   "cell_type": "code",
   "execution_count": 59,
   "id": "b9eaba8c-6bee-4d54-ad22-21a1368e4b3f",
   "metadata": {},
   "outputs": [],
   "source": [
    "# 81"
   ]
  },
  {
   "cell_type": "markdown",
   "id": "0359aff1-5f85-4b16-95a7-fdcb69fe03d3",
   "metadata": {},
   "source": [
    "Outra forma bem natural é utilizar um dicionário cujos valores são listas. Neste caso, as chaves serão o nome das colunas!"
   ]
  },
  {
   "cell_type": "code",
   "execution_count": null,
   "id": "04e3fc29-e1d1-47b8-9ed0-dda28872df36",
   "metadata": {},
   "outputs": [],
   "source": [
    "# 82"
   ]
  },
  {
   "cell_type": "code",
   "execution_count": 60,
   "id": "b3bfa268-2659-4ac1-bf99-0260e49d584b",
   "metadata": {},
   "outputs": [],
   "source": [
    "# 83"
   ]
  },
  {
   "cell_type": "code",
   "execution_count": 61,
   "id": "185a5834-bd49-4375-9363-207500c3b2f3",
   "metadata": {},
   "outputs": [],
   "source": [
    "# 84"
   ]
  },
  {
   "cell_type": "code",
   "execution_count": 62,
   "id": "93efd4f5-8bbe-4e7d-a5c4-fe274053fa6f",
   "metadata": {},
   "outputs": [],
   "source": [
    "# 85"
   ]
  },
  {
   "cell_type": "code",
   "execution_count": 63,
   "id": "80b10c0e-6fe1-435f-a30e-d47d046efd08",
   "metadata": {},
   "outputs": [],
   "source": [
    "# 86"
   ]
  },
  {
   "cell_type": "code",
   "execution_count": 64,
   "id": "3fba0904-1e65-4529-96c9-1dc76706002f",
   "metadata": {},
   "outputs": [],
   "source": [
    "# 87"
   ]
  },
  {
   "cell_type": "code",
   "execution_count": 65,
   "id": "cf3a3457-6ec6-4bad-930c-b87219527ab3",
   "metadata": {},
   "outputs": [],
   "source": [
    "# 88"
   ]
  },
  {
   "cell_type": "markdown",
   "id": "e77e3975-3e74-4895-9a6e-e9a613a8d82a",
   "metadata": {},
   "source": [
    "Acessando com o .loc e .iloc"
   ]
  },
  {
   "cell_type": "code",
   "execution_count": 66,
   "id": "457bcd9e-fbdb-4eab-80e1-4b8935053034",
   "metadata": {},
   "outputs": [],
   "source": [
    "# 89"
   ]
  },
  {
   "cell_type": "code",
   "execution_count": 68,
   "id": "538ba36d-0789-435b-9151-7f9bdec8c3cb",
   "metadata": {},
   "outputs": [],
   "source": [
    "# 90"
   ]
  },
  {
   "cell_type": "code",
   "execution_count": 69,
   "id": "cd6fca6e-8b5d-48d6-9e50-0f82d57d485d",
   "metadata": {},
   "outputs": [],
   "source": [
    "# 91"
   ]
  },
  {
   "cell_type": "code",
   "execution_count": null,
   "id": "cd922c63-62ba-4181-aef0-fdee40816045",
   "metadata": {},
   "outputs": [],
   "source": [
    "# 92"
   ]
  },
  {
   "cell_type": "code",
   "execution_count": 70,
   "id": "a4de04ad-da13-4f03-97ea-5de2a450217f",
   "metadata": {},
   "outputs": [],
   "source": [
    "# 93"
   ]
  },
  {
   "cell_type": "code",
   "execution_count": null,
   "id": "c9f616ee-4072-4e75-940a-a48a20bed8c9",
   "metadata": {},
   "outputs": [],
   "source": [
    "# 94"
   ]
  },
  {
   "cell_type": "markdown",
   "id": "f5b1cdc9-fc36-4d6d-9df6-7bada40df2b0",
   "metadata": {},
   "source": [
    "Podemos fazer operações com as colunas, dado que elas são séries!"
   ]
  },
  {
   "cell_type": "code",
   "execution_count": 71,
   "id": "c4ba92d5-6ba2-45fc-8748-7afae8650d9e",
   "metadata": {},
   "outputs": [],
   "source": [
    "# 95"
   ]
  },
  {
   "cell_type": "code",
   "execution_count": 72,
   "id": "726feb16-39b9-42b2-96ae-e024ae45f431",
   "metadata": {},
   "outputs": [],
   "source": [
    "# 96"
   ]
  },
  {
   "cell_type": "code",
   "execution_count": 73,
   "id": "3d013b68-8999-4845-9f32-fcf46430995d",
   "metadata": {},
   "outputs": [],
   "source": [
    "# 97"
   ]
  },
  {
   "cell_type": "code",
   "execution_count": 74,
   "id": "cbb87b8a-5ed4-48d1-8c64-2b5dff64c216",
   "metadata": {},
   "outputs": [],
   "source": [
    "# 98"
   ]
  },
  {
   "cell_type": "code",
   "execution_count": 75,
   "id": "f4667646-ac58-4b0b-abc4-da26cceff913",
   "metadata": {},
   "outputs": [],
   "source": [
    "# 99"
   ]
  },
  {
   "cell_type": "code",
   "execution_count": 76,
   "id": "57ee022c-6d8f-4d20-9416-ee89c7da722a",
   "metadata": {},
   "outputs": [],
   "source": [
    "# 100"
   ]
  },
  {
   "cell_type": "code",
   "execution_count": 77,
   "id": "80fbcf32-00d4-4822-a80a-2eadf6c49d0e",
   "metadata": {},
   "outputs": [],
   "source": [
    "# 101"
   ]
  },
  {
   "cell_type": "code",
   "execution_count": 78,
   "id": "933f788c-2761-4b2d-a127-6220cc6634a3",
   "metadata": {},
   "outputs": [],
   "source": [
    "# 102"
   ]
  },
  {
   "cell_type": "code",
   "execution_count": 79,
   "id": "0c61b640-7b30-4bc8-a6c0-4f72d1f669b6",
   "metadata": {},
   "outputs": [],
   "source": [
    "# 103"
   ]
  },
  {
   "cell_type": "code",
   "execution_count": 80,
   "id": "88005cf5-9516-4584-a16f-6352f697c9d5",
   "metadata": {},
   "outputs": [],
   "source": [
    "# 104"
   ]
  },
  {
   "cell_type": "code",
   "execution_count": 81,
   "id": "95a53d06-7bce-4f02-a5a7-92c2cc18f169",
   "metadata": {},
   "outputs": [],
   "source": [
    "# 105"
   ]
  },
  {
   "cell_type": "code",
   "execution_count": 82,
   "id": "8c6a441f-32fe-4afc-bec0-7ea43f7c3d37",
   "metadata": {},
   "outputs": [],
   "source": [
    "# 106"
   ]
  },
  {
   "cell_type": "code",
   "execution_count": 83,
   "id": "b048ebda-920a-4faa-9abb-78734ef7029c",
   "metadata": {},
   "outputs": [],
   "source": [
    "# 107"
   ]
  },
  {
   "cell_type": "code",
   "execution_count": 84,
   "id": "f918620e-78aa-4801-83fd-9cad4cabeeca",
   "metadata": {},
   "outputs": [],
   "source": [
    "# 108"
   ]
  },
  {
   "cell_type": "code",
   "execution_count": 85,
   "id": "d013ee3a-3114-4392-aa27-c18acdc2aefb",
   "metadata": {},
   "outputs": [],
   "source": [
    "# 109"
   ]
  },
  {
   "cell_type": "markdown",
   "id": "b3eaa3bc-1e56-4034-8c5a-c26806b11e0d",
   "metadata": {},
   "source": [
    "Excluindo uma coluna"
   ]
  },
  {
   "cell_type": "code",
   "execution_count": null,
   "id": "65480ac2-b4c8-4135-b49c-d7f0acd1e308",
   "metadata": {},
   "outputs": [],
   "source": [
    "# 110"
   ]
  },
  {
   "cell_type": "code",
   "execution_count": null,
   "id": "660a4fad-2a81-4716-bfff-e7cc6165da46",
   "metadata": {},
   "outputs": [],
   "source": [
    "# 111"
   ]
  },
  {
   "cell_type": "markdown",
   "id": "3558cebe-d599-453e-878f-acd000632a50",
   "metadata": {},
   "source": [
    "Como o dataframe é um conjunto de séries, também podemos fazer filtros!\n"
   ]
  },
  {
   "cell_type": "code",
   "execution_count": 86,
   "id": "07e78ed6-8171-43ad-8597-68037390a0d2",
   "metadata": {},
   "outputs": [],
   "source": [
    "# 112"
   ]
  },
  {
   "cell_type": "code",
   "execution_count": 87,
   "id": "b4e37084-dda7-41aa-9929-1b94a7fb82ff",
   "metadata": {},
   "outputs": [],
   "source": [
    "# 113"
   ]
  },
  {
   "cell_type": "code",
   "execution_count": 88,
   "id": "608fb8c9-4cc1-41c0-9885-0ffb0f0d1b45",
   "metadata": {},
   "outputs": [],
   "source": [
    "# 114"
   ]
  },
  {
   "cell_type": "code",
   "execution_count": 89,
   "id": "870877e8-0fd7-4b41-ab95-af54bd617153",
   "metadata": {},
   "outputs": [],
   "source": [
    "# 115"
   ]
  },
  {
   "cell_type": "code",
   "execution_count": 90,
   "id": "4759832e-f8aa-4303-b4ee-6bd3faea04ce",
   "metadata": {},
   "outputs": [],
   "source": [
    "# 116"
   ]
  },
  {
   "cell_type": "code",
   "execution_count": 91,
   "id": "afb0567a-9e16-4f2a-b35c-b3fec2090190",
   "metadata": {},
   "outputs": [],
   "source": [
    "# 117"
   ]
  },
  {
   "cell_type": "code",
   "execution_count": 92,
   "id": "6c0ad601-a063-423d-9ef9-5672f3969f0b",
   "metadata": {},
   "outputs": [],
   "source": [
    "# 118"
   ]
  },
  {
   "cell_type": "code",
   "execution_count": 93,
   "id": "2bb10c89-49a1-49fc-a85d-d45c0b7601cd",
   "metadata": {},
   "outputs": [],
   "source": [
    "# 119"
   ]
  },
  {
   "cell_type": "markdown",
   "id": "94ec6898-6fa2-445b-aaa9-aef4c481a7fe",
   "metadata": {},
   "source": [
    "Se você quiser fazer com que os indices de linha voltem a ser numéricos, faça:"
   ]
  },
  {
   "cell_type": "code",
   "execution_count": null,
   "id": "c325a2ae-f7f4-48bf-96d9-b46318cdd790",
   "metadata": {},
   "outputs": [],
   "source": [
    "# 120"
   ]
  },
  {
   "cell_type": "code",
   "execution_count": 95,
   "id": "4b3b24c8-2035-480b-ab0d-d921990176f9",
   "metadata": {},
   "outputs": [],
   "source": [
    "# 121"
   ]
  },
  {
   "cell_type": "markdown",
   "id": "b10a5cae-00a3-4931-8a30-5e778fb7c0b6",
   "metadata": {},
   "source": [
    "Também é possível criar uma coluna diretamente a partir da lista (mas tem que ser com o número exato de linhas!)"
   ]
  },
  {
   "cell_type": "code",
   "execution_count": 96,
   "id": "e053bd3b-6185-45ef-a168-7bdcd640226f",
   "metadata": {},
   "outputs": [],
   "source": [
    "# 122"
   ]
  },
  {
   "cell_type": "code",
   "execution_count": 97,
   "id": "427877c1-43bf-4cc5-986f-6b50bc604561",
   "metadata": {},
   "outputs": [],
   "source": [
    "# 123"
   ]
  },
  {
   "cell_type": "markdown",
   "id": "e0802f1a-f85d-4f93-8dd9-7594db8b203c",
   "metadata": {},
   "source": [
    "Alterando o nome de colunas"
   ]
  },
  {
   "cell_type": "code",
   "execution_count": 98,
   "id": "0cd5e0b1-1ab3-447c-adff-55c8a0c9b561",
   "metadata": {},
   "outputs": [],
   "source": [
    "# 124"
   ]
  },
  {
   "cell_type": "code",
   "execution_count": null,
   "id": "0721a3a9-d24a-4c6b-8b9e-a2b942020ded",
   "metadata": {},
   "outputs": [],
   "source": [
    "# 125"
   ]
  },
  {
   "cell_type": "code",
   "execution_count": 99,
   "id": "ad3f402c-b075-44a9-bf69-ddd88af14ed0",
   "metadata": {},
   "outputs": [],
   "source": [
    "# 126"
   ]
  },
  {
   "cell_type": "markdown",
   "id": "b4b6f272-4703-453f-9408-234fdce836d3",
   "metadata": {},
   "source": [
    "#### Concat\n",
    "\n",
    "Muitas vezes, queremos **juntar** dataframes relacionados em um único dataframe.\n",
    "\n",
    "Para isso, utilizamos o método **pd.concat()**"
   ]
  },
  {
   "cell_type": "code",
   "execution_count": 100,
   "id": "49740263-72b8-43c2-91c9-dadda8b06fd8",
   "metadata": {},
   "outputs": [],
   "source": [
    "# 127"
   ]
  },
  {
   "cell_type": "code",
   "execution_count": 101,
   "id": "f58997be-0ce2-4aea-9416-6aa3cacd4f82",
   "metadata": {},
   "outputs": [],
   "source": [
    "# 128"
   ]
  },
  {
   "cell_type": "code",
   "execution_count": 102,
   "id": "b874ed92-8cb4-4a0c-9fb6-dbcabd2853ba",
   "metadata": {},
   "outputs": [],
   "source": [
    "# 129"
   ]
  },
  {
   "cell_type": "code",
   "execution_count": 103,
   "id": "59ecaf5a-4d7f-48ad-9779-7abaf433766c",
   "metadata": {},
   "outputs": [],
   "source": [
    "# 130."
   ]
  },
  {
   "cell_type": "code",
   "execution_count": 104,
   "id": "11210d36-ef0f-49fc-99d4-3dc8e8b70a4c",
   "metadata": {},
   "outputs": [],
   "source": [
    "# 131"
   ]
  },
  {
   "cell_type": "code",
   "execution_count": 105,
   "id": "9256977f-5e9c-4f27-a0b4-f62ad759544d",
   "metadata": {},
   "outputs": [],
   "source": [
    "# 132"
   ]
  },
  {
   "cell_type": "code",
   "execution_count": 106,
   "id": "91b5e53f-0535-47f9-ac44-9f0ed06f2e24",
   "metadata": {},
   "outputs": [],
   "source": [
    "# 133"
   ]
  },
  {
   "cell_type": "code",
   "execution_count": null,
   "id": "a89005a6-9a77-4d28-88fd-e775daf802f4",
   "metadata": {},
   "outputs": [],
   "source": [
    "# 134"
   ]
  },
  {
   "cell_type": "markdown",
   "id": "08de2f2e-fefc-403b-b088-043db1ffba58",
   "metadata": {},
   "source": [
    "### Merge (join)\n",
    "\n",
    "Outra tarefa muito comum quando estamos trabalhando com bases de dados é o **cruzamento**\n",
    "\n",
    "Para fazer isso, utilizamos o método **.merge()**, cujos modos de cruzamento são:\n",
    "\n",
    "<img src=\"https://community.qlik.com/legacyfs/online/87693_all-joins.png\" width=450>"
   ]
  },
  {
   "cell_type": "code",
   "execution_count": null,
   "id": "ae9925a9-878a-42b6-b171-11cc839e4b89",
   "metadata": {},
   "outputs": [],
   "source": [
    "# 135"
   ]
  },
  {
   "cell_type": "code",
   "execution_count": 107,
   "id": "a685063b-7b62-4a0f-adbc-551ccda83bd7",
   "metadata": {},
   "outputs": [],
   "source": [
    "# 136"
   ]
  },
  {
   "cell_type": "code",
   "execution_count": 108,
   "id": "421bbd3c-f822-4af4-8aee-eeb39c254bf5",
   "metadata": {},
   "outputs": [],
   "source": [
    "# 137"
   ]
  },
  {
   "cell_type": "code",
   "execution_count": 109,
   "id": "d7437a1f-11ec-4a40-b5d7-ef6eced612fc",
   "metadata": {},
   "outputs": [],
   "source": [
    "# 138"
   ]
  },
  {
   "cell_type": "code",
   "execution_count": 110,
   "id": "c85ab1b8-c11b-4fc1-af8d-628025411805",
   "metadata": {},
   "outputs": [],
   "source": [
    "# 139"
   ]
  },
  {
   "cell_type": "markdown",
   "id": "3f6a72b6-0824-40a1-91ed-4d1adca429d3",
   "metadata": {},
   "source": [
    "__________\n",
    "\n",
    "## Uso do map:"
   ]
  },
  {
   "cell_type": "code",
   "execution_count": null,
   "id": "aa0a060a-ee83-4c05-bdba-9c511d7c5f8e",
   "metadata": {},
   "outputs": [],
   "source": [
    "# 140"
   ]
  },
  {
   "cell_type": "code",
   "execution_count": null,
   "id": "7fb5d32b-c023-407a-a0b4-63f518ec159a",
   "metadata": {},
   "outputs": [],
   "source": []
  },
  {
   "cell_type": "markdown",
   "id": "7778d329-7755-4938-8afa-dfcd1463ef0c",
   "metadata": {},
   "source": [
    "# Transformações de dados"
   ]
  },
  {
   "cell_type": "markdown",
   "id": "0c7a65aa-2896-4462-bdf8-0f1a96f28d38",
   "metadata": {},
   "source": [
    "## GroupBy"
   ]
  },
  {
   "cell_type": "markdown",
   "id": "a39ce663-b535-4f42-87f6-6de89db5f3c7",
   "metadata": {},
   "source": [
    "### Apply com GroupBy"
   ]
  },
  {
   "cell_type": "markdown",
   "id": "16ec01cc-5d94-4742-adb1-71b828551b44",
   "metadata": {},
   "source": [
    "## Pivot"
   ]
  },
  {
   "cell_type": "markdown",
   "id": "163ddf21-fbc5-4c9a-9437-e187af463d8d",
   "metadata": {},
   "source": [
    "## Melt"
   ]
  },
  {
   "cell_type": "markdown",
   "id": "0072e63f-9986-45bd-9d3d-da514c68b833",
   "metadata": {},
   "source": [
    "## cut"
   ]
  },
  {
   "cell_type": "markdown",
   "id": "7235aeee-1b84-4290-b7a3-05edb17a18ee",
   "metadata": {},
   "source": [
    "## qcut"
   ]
  },
  {
   "cell_type": "markdown",
   "id": "2c0771fe-5600-44d9-9046-1ea0873ffad0",
   "metadata": {},
   "source": [
    "## get_dummies"
   ]
  },
  {
   "cell_type": "code",
   "execution_count": null,
   "id": "b5ff0f42-053c-4a52-80fa-221d5750789c",
   "metadata": {},
   "outputs": [],
   "source": []
  }
 ],
 "metadata": {
  "kernelspec": {
   "display_name": "Python 3",
   "language": "python",
   "name": "python3"
  },
  "language_info": {
   "codemirror_mode": {
    "name": "ipython",
    "version": 3
   },
   "file_extension": ".py",
   "mimetype": "text/x-python",
   "name": "python",
   "nbconvert_exporter": "python",
   "pygments_lexer": "ipython3",
   "version": "3.8.11"
  }
 },
 "nbformat": 4,
 "nbformat_minor": 5
}
