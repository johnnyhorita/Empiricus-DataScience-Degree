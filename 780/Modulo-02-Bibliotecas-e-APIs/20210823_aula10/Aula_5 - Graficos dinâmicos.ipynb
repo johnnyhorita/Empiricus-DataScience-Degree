{
 "cells": [
  {
   "cell_type": "markdown",
   "id": "70a80d0d-d39e-4c57-a6a1-c73ed0d49c8a",
   "metadata": {},
   "source": [
    "# Aula 5 - Gráficos dinâmicos.\n",
    "Muitas vezes precisamos interagir com o gráfico. Além de facilitar visualizar um dado ou um conjunto de dados de forma rápida e intuitiva, torna a apresentação dos dados mais dinâmica. Permitindo explorar de forma ágil, diminiuindo o estresse para responder uma pergunta.\n",
    "\n",
    "## O que é o Plotly?\n",
    "Plotly permite criar mais de 40 visualizações interativas, que podem ser mostradas no Jupyter notebooks ou salvas em arquivos HTML. É amplamente utilizada para dados científicos, estatísticos e financeiros.\n",
    "\n",
    "O Plotly é grátis para uso, e apenas pago caso você queira que eles hospedem os seus dados por você.\n",
    "\n",
    "Além do Plotly, estaremos utilizando o cufflinks (`pip install cufflinks`) que conecta o plotly com o pandas de forma intuitiva!\n",
    "\n",
    "**Talvez seja necessário instalar a extensão jupyterlab-plotly**  \n",
    "jupyter labextension install jupyterlab-plotly\n",
    "\n"
   ]
  },
  {
   "cell_type": "code",
   "execution_count": null,
   "id": "7d028d35-7592-4753-ab0e-043565b70882",
   "metadata": {
    "scrolled": true,
    "tags": []
   },
   "outputs": [],
   "source": [
    "!pip install cufflinks\n",
    "!pip install chart_studio"
   ]
  },
  {
   "cell_type": "code",
   "execution_count": null,
   "id": "92184926-8661-4e76-a52a-05dcd6abcfbf",
   "metadata": {},
   "outputs": [],
   "source": [
    "# 1"
   ]
  },
  {
   "cell_type": "code",
   "execution_count": null,
   "id": "c03e92f3-2fb6-4e7b-afad-32b20509e79e",
   "metadata": {
    "scrolled": true,
    "tags": []
   },
   "outputs": [],
   "source": [
    "# 2"
   ]
  },
  {
   "cell_type": "code",
   "execution_count": null,
   "id": "7b0354f7-2a78-431f-8be8-125863ba7b56",
   "metadata": {},
   "outputs": [],
   "source": [
    "# 3"
   ]
  },
  {
   "cell_type": "code",
   "execution_count": null,
   "id": "d7591c8b-1a01-4101-ac76-a5ddcabae5a6",
   "metadata": {},
   "outputs": [],
   "source": [
    "# 4"
   ]
  },
  {
   "cell_type": "markdown",
   "id": "902769b9-225c-4bf0-bd4d-3cd85084aa7e",
   "metadata": {},
   "source": [
    "## Line plots"
   ]
  },
  {
   "cell_type": "markdown",
   "id": "685ddf20-29f9-455b-bdce-8a45efeb819b",
   "metadata": {},
   "source": [
    "Assim como o seaborn, o plotly oferece diversos datasets para experimentação!"
   ]
  },
  {
   "cell_type": "code",
   "execution_count": null,
   "id": "8570b025-d3c7-4958-ac34-fcef2d186b67",
   "metadata": {},
   "outputs": [],
   "source": [
    "# 5"
   ]
  },
  {
   "cell_type": "code",
   "execution_count": null,
   "id": "8af79c73-bdff-4eb1-ba25-993bd61cdb86",
   "metadata": {},
   "outputs": [],
   "source": [
    "# 6"
   ]
  },
  {
   "cell_type": "code",
   "execution_count": null,
   "id": "edf6f51d-9471-48e1-bbb5-c1b5f7bc24e1",
   "metadata": {},
   "outputs": [],
   "source": [
    "# 7"
   ]
  },
  {
   "cell_type": "code",
   "execution_count": null,
   "id": "0075c0c3-7ad6-43e3-ad2d-b069af5ad50e",
   "metadata": {},
   "outputs": [],
   "source": [
    "# 8"
   ]
  },
  {
   "cell_type": "code",
   "execution_count": null,
   "id": "a8c0d41d-a6f1-42ec-ba00-2bf7f87f7d24",
   "metadata": {},
   "outputs": [],
   "source": [
    "# 9"
   ]
  },
  {
   "cell_type": "code",
   "execution_count": null,
   "id": "cce03246-69c4-4d3c-b1d3-ed3e00fa3a67",
   "metadata": {},
   "outputs": [],
   "source": [
    "# 10"
   ]
  },
  {
   "cell_type": "code",
   "execution_count": null,
   "id": "f45eb021-4f73-4e8b-81a4-492671065801",
   "metadata": {},
   "outputs": [],
   "source": [
    "# 11"
   ]
  },
  {
   "cell_type": "markdown",
   "id": "e577416b-6307-4052-a6c4-c39b6eb74067",
   "metadata": {},
   "source": [
    "## Bar charts"
   ]
  },
  {
   "cell_type": "code",
   "execution_count": null,
   "id": "74d2ac5b-2ea6-4b96-b0c6-62fd004bc52d",
   "metadata": {},
   "outputs": [],
   "source": [
    "# 12"
   ]
  },
  {
   "cell_type": "code",
   "execution_count": null,
   "id": "d065a8ba-971c-471e-9b5f-2998b541cea0",
   "metadata": {},
   "outputs": [],
   "source": [
    "# 13"
   ]
  },
  {
   "cell_type": "code",
   "execution_count": null,
   "id": "3967a5f6-a251-4f1a-94f1-2125afda98d9",
   "metadata": {},
   "outputs": [],
   "source": [
    "# 14"
   ]
  },
  {
   "cell_type": "code",
   "execution_count": null,
   "id": "2b5eb066-5f36-4ac1-8bd3-a08f0448638d",
   "metadata": {},
   "outputs": [],
   "source": [
    "# 15"
   ]
  },
  {
   "cell_type": "code",
   "execution_count": null,
   "id": "0140176e-1f10-43c3-81c5-8df431369057",
   "metadata": {},
   "outputs": [],
   "source": [
    "# 16"
   ]
  },
  {
   "cell_type": "code",
   "execution_count": null,
   "id": "2025a806-7c9f-409f-95d5-ee385d96c92c",
   "metadata": {},
   "outputs": [],
   "source": [
    "# 17"
   ]
  },
  {
   "cell_type": "code",
   "execution_count": null,
   "id": "8672358d-e066-438c-9562-bd3b923288ef",
   "metadata": {},
   "outputs": [],
   "source": [
    "# 18"
   ]
  },
  {
   "cell_type": "markdown",
   "id": "e8a26210-a1b5-45b0-96a1-dd5b0f5637b2",
   "metadata": {},
   "source": [
    "## Scatter Plot"
   ]
  },
  {
   "cell_type": "code",
   "execution_count": null,
   "id": "ecbfd83f-2360-4915-ab5a-5fd3856e3924",
   "metadata": {},
   "outputs": [],
   "source": [
    "# 19"
   ]
  },
  {
   "cell_type": "code",
   "execution_count": null,
   "id": "cbcd6f6a-0f7f-4261-b9da-5936553316fa",
   "metadata": {},
   "outputs": [],
   "source": [
    "# 20"
   ]
  },
  {
   "cell_type": "code",
   "execution_count": null,
   "id": "37e6d565-a543-4ffb-8e6d-ae46afd851c0",
   "metadata": {},
   "outputs": [],
   "source": [
    "# 21"
   ]
  },
  {
   "cell_type": "markdown",
   "id": "428cc6e7-307c-4929-882a-609552ed7fb7",
   "metadata": {},
   "source": [
    "## Pie Charts"
   ]
  },
  {
   "cell_type": "code",
   "execution_count": null,
   "id": "0741a929-122d-4d87-860e-46db5bf7f766",
   "metadata": {},
   "outputs": [],
   "source": [
    "# 22"
   ]
  },
  {
   "cell_type": "code",
   "execution_count": null,
   "id": "8fa40e01-1060-4aa9-aefe-2ba1a1f8f9d1",
   "metadata": {},
   "outputs": [],
   "source": [
    "# 23"
   ]
  },
  {
   "cell_type": "markdown",
   "id": "c1efbf36-47ef-4e94-9fe9-4643b9552196",
   "metadata": {},
   "source": [
    "## Histograms"
   ]
  },
  {
   "cell_type": "code",
   "execution_count": null,
   "id": "47444c7d-ac72-4183-bd2f-bdd73896fb24",
   "metadata": {},
   "outputs": [],
   "source": [
    "# 24"
   ]
  },
  {
   "cell_type": "code",
   "execution_count": null,
   "id": "71567a29-8c2e-4e25-9bcd-d3fb596f24b1",
   "metadata": {},
   "outputs": [],
   "source": [
    "# 25"
   ]
  },
  {
   "cell_type": "code",
   "execution_count": null,
   "id": "2d033840-03ca-49de-923f-c43cca09f0df",
   "metadata": {},
   "outputs": [],
   "source": [
    "# 26"
   ]
  },
  {
   "cell_type": "code",
   "execution_count": null,
   "id": "3261ee78-754d-4108-8438-577dadd4fb36",
   "metadata": {},
   "outputs": [],
   "source": [
    "# 27"
   ]
  },
  {
   "cell_type": "markdown",
   "id": "b0564f57-e8b8-4d67-b45b-7c5c838821f6",
   "metadata": {},
   "source": [
    "## Box plots"
   ]
  },
  {
   "cell_type": "code",
   "execution_count": null,
   "id": "9ae01466-9b9d-46f1-b6c9-e22b8024726b",
   "metadata": {},
   "outputs": [],
   "source": [
    "# 28"
   ]
  },
  {
   "cell_type": "code",
   "execution_count": null,
   "id": "0301282c-f06a-40b4-84af-f7ed7cc9111e",
   "metadata": {},
   "outputs": [],
   "source": [
    "# 29"
   ]
  },
  {
   "cell_type": "code",
   "execution_count": null,
   "id": "67c8e3fb-5e55-4a90-bf14-028a1455ffa7",
   "metadata": {},
   "outputs": [],
   "source": [
    "# 30"
   ]
  },
  {
   "cell_type": "code",
   "execution_count": null,
   "id": "9466c5ac-1a3a-41a1-83f7-cc4f82b969f0",
   "metadata": {},
   "outputs": [],
   "source": [
    "# 31"
   ]
  },
  {
   "cell_type": "code",
   "execution_count": null,
   "id": "4079a5ab-f441-4151-95ff-befde810919d",
   "metadata": {},
   "outputs": [],
   "source": [
    "# 32"
   ]
  },
  {
   "cell_type": "code",
   "execution_count": null,
   "id": "1f56d872-53cf-41a2-aea4-aa1421361ecb",
   "metadata": {},
   "outputs": [],
   "source": [
    "# 33"
   ]
  },
  {
   "cell_type": "markdown",
   "id": "9c834d6e-1e64-46d7-9e4f-57862cfc2fdd",
   "metadata": {},
   "source": [
    "## Violin Plot"
   ]
  },
  {
   "cell_type": "code",
   "execution_count": null,
   "id": "a6cef4c5-46f9-4fc3-9f0d-c99be3a0f3d3",
   "metadata": {},
   "outputs": [],
   "source": [
    "# 34"
   ]
  },
  {
   "cell_type": "code",
   "execution_count": null,
   "id": "87413239-1da1-4de0-945f-a787913a3ea2",
   "metadata": {},
   "outputs": [],
   "source": [
    "# 35"
   ]
  },
  {
   "cell_type": "code",
   "execution_count": null,
   "id": "50454892-a88e-483c-a331-6fe9a54c2e27",
   "metadata": {},
   "outputs": [],
   "source": [
    "# 36"
   ]
  },
  {
   "cell_type": "code",
   "execution_count": null,
   "id": "88857a81-0522-4025-a19f-b79d02868ca3",
   "metadata": {},
   "outputs": [],
   "source": [
    "# 37"
   ]
  },
  {
   "cell_type": "markdown",
   "id": "02864af6-532b-42e7-b2d9-9de061b16b83",
   "metadata": {},
   "source": [
    "## Density Heatmap"
   ]
  },
  {
   "cell_type": "code",
   "execution_count": null,
   "id": "2eb2379a-2a21-4bf9-99d8-d8f3b9507503",
   "metadata": {},
   "outputs": [],
   "source": [
    "# 38"
   ]
  },
  {
   "cell_type": "code",
   "execution_count": null,
   "id": "d3583ce7-bc65-4485-8649-7f66061ce07f",
   "metadata": {},
   "outputs": [],
   "source": [
    "# 39"
   ]
  },
  {
   "cell_type": "markdown",
   "id": "0883b1c6-38db-48a8-8454-94e63b907662",
   "metadata": {},
   "source": [
    "## 3D Scatter plot"
   ]
  },
  {
   "cell_type": "code",
   "execution_count": null,
   "id": "ee30774e-fd14-4a2d-b0d1-aa2edfd47960",
   "metadata": {},
   "outputs": [],
   "source": [
    "# 40"
   ]
  },
  {
   "cell_type": "markdown",
   "id": "f0de6bc2-f3a7-4eff-bdf5-730b8271a225",
   "metadata": {},
   "source": [
    "## 3D Line Plot"
   ]
  },
  {
   "cell_type": "code",
   "execution_count": null,
   "id": "81c0712e-2ccd-4e00-985f-7c034135a0ad",
   "metadata": {},
   "outputs": [],
   "source": [
    "# 41"
   ]
  },
  {
   "cell_type": "markdown",
   "id": "4f5085c3-d4bf-43bc-be2d-93c6dae2ce86",
   "metadata": {},
   "source": [
    "## 3D Surface plot"
   ]
  },
  {
   "cell_type": "code",
   "execution_count": null,
   "id": "234e22c5-d772-411c-b9dd-1140ec6aab64",
   "metadata": {},
   "outputs": [],
   "source": [
    "# 42"
   ]
  },
  {
   "cell_type": "markdown",
   "id": "b67631c3-0bca-47b9-bdb2-a8b9ec6ae99b",
   "metadata": {},
   "source": [
    "## Scatter Matrix"
   ]
  },
  {
   "cell_type": "code",
   "execution_count": null,
   "id": "8083c400-54f4-4e1f-accb-89533f32984f",
   "metadata": {},
   "outputs": [],
   "source": [
    "# 43"
   ]
  },
  {
   "cell_type": "markdown",
   "id": "6a72b405-25c1-479e-9107-ed74410e2fc2",
   "metadata": {},
   "source": [
    "## Map scatter Plots"
   ]
  },
  {
   "cell_type": "code",
   "execution_count": null,
   "id": "4f679e3d-27b6-464e-92c6-705f7718458c",
   "metadata": {},
   "outputs": [],
   "source": [
    "# 44"
   ]
  },
  {
   "cell_type": "markdown",
   "id": "81603a27-8467-4e3b-9ab9-a819c049b791",
   "metadata": {},
   "source": [
    "## Choropleth Maps"
   ]
  },
  {
   "cell_type": "code",
   "execution_count": null,
   "id": "20716747-399c-4bcc-a519-d23a4875eece",
   "metadata": {},
   "outputs": [],
   "source": [
    "# 45"
   ]
  },
  {
   "cell_type": "markdown",
   "id": "ef5c5ac9-c9d6-43eb-b8b4-27e7a4e47753",
   "metadata": {},
   "source": [
    "## Polar/Radio chart"
   ]
  },
  {
   "cell_type": "code",
   "execution_count": null,
   "id": "c5565d48-ea33-4698-8e8f-c8b4d40465bf",
   "metadata": {},
   "outputs": [],
   "source": [
    "# 46"
   ]
  },
  {
   "cell_type": "code",
   "execution_count": null,
   "id": "1019b023-13f0-4b80-af3f-5c4c6537316c",
   "metadata": {},
   "outputs": [],
   "source": []
  },
  {
   "cell_type": "markdown",
   "id": "ad515011-3517-4128-8b22-60f68f396800",
   "metadata": {},
   "source": [
    "## Facets"
   ]
  },
  {
   "cell_type": "code",
   "execution_count": null,
   "id": "b0d6f487-636f-4f05-a13c-24367a2fa059",
   "metadata": {},
   "outputs": [],
   "source": [
    "# 47"
   ]
  },
  {
   "cell_type": "code",
   "execution_count": null,
   "id": "eb9af24e-e4fb-4095-9d9a-021050383c2a",
   "metadata": {},
   "outputs": [],
   "source": [
    "# 48"
   ]
  },
  {
   "cell_type": "code",
   "execution_count": null,
   "id": "c74d3c87-7160-4b2a-85d2-05e215921c3a",
   "metadata": {},
   "outputs": [],
   "source": [
    "# 49"
   ]
  },
  {
   "cell_type": "markdown",
   "id": "db4af828-d106-459f-aa10-e1073096b2e0",
   "metadata": {},
   "source": [
    "## Animações"
   ]
  },
  {
   "cell_type": "code",
   "execution_count": null,
   "id": "fef2c7b9-224b-4b6a-a135-891f97ee68d4",
   "metadata": {},
   "outputs": [],
   "source": [
    "# 50"
   ]
  },
  {
   "cell_type": "code",
   "execution_count": null,
   "id": "18fdd768-0754-4912-9632-93e50e8578c2",
   "metadata": {},
   "outputs": [],
   "source": [
    "# 51"
   ]
  },
  {
   "cell_type": "markdown",
   "id": "f1e3e8d6-3f1f-4bca-9fc2-1e8e4ddfe5cf",
   "metadata": {},
   "source": [
    "## Customizando a informação!"
   ]
  },
  {
   "cell_type": "code",
   "execution_count": null,
   "id": "386abee9-99b0-459b-b622-7e0758798977",
   "metadata": {},
   "outputs": [],
   "source": [
    "# 52"
   ]
  },
  {
   "cell_type": "code",
   "execution_count": null,
   "id": "565cd718-9713-4ae3-abd1-21664e445f7e",
   "metadata": {},
   "outputs": [],
   "source": []
  },
  {
   "cell_type": "code",
   "execution_count": null,
   "id": "d290f24e-cfd0-420b-86eb-8c8ac38fad6b",
   "metadata": {},
   "outputs": [],
   "source": []
  }
 ],
 "metadata": {
  "kernelspec": {
   "display_name": "Python 3",
   "language": "python",
   "name": "python3"
  },
  "language_info": {
   "codemirror_mode": {
    "name": "ipython",
    "version": 3
   },
   "file_extension": ".py",
   "mimetype": "text/x-python",
   "name": "python",
   "nbconvert_exporter": "python",
   "pygments_lexer": "ipython3",
   "version": "3.8.8"
  }
 },
 "nbformat": 4,
 "nbformat_minor": 5
}
