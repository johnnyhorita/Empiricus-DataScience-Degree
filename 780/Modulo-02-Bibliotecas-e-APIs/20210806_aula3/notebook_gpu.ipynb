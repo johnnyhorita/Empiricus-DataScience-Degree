{
 "cells": [
  {
   "cell_type": "markdown",
   "id": "c5bcac6f",
   "metadata": {},
   "source": [
    "https://www.techentice.com/how-to-make-jupyter-notebook-to-run-on-gpu/"
   ]
  },
  {
   "cell_type": "code",
   "execution_count": null,
   "id": "3e8f49af",
   "metadata": {},
   "outputs": [],
   "source": [
    "prompt \n",
    "jupyter kernelspec uninstall yourKernel\n",
    "\n"
   ]
  },
  {
   "cell_type": "code",
   "execution_count": 1,
   "id": "721aadf5",
   "metadata": {
    "ExecuteTime": {
     "end_time": "2021-08-06T23:24:42.525212Z",
     "start_time": "2021-08-06T23:24:38.847934Z"
    }
   },
   "outputs": [
    {
     "data": {
      "text/plain": [
       "[PhysicalDevice(name='/physical_device:GPU:0', device_type='GPU')]"
      ]
     },
     "execution_count": 1,
     "metadata": {},
     "output_type": "execute_result"
    }
   ],
   "source": [
    "import tensorflow as tf\n",
    "from tensorflow.python.client import device_lib\n",
    "tf.config.list_physical_devices('GPU')"
   ]
  },
  {
   "cell_type": "code",
   "execution_count": 2,
   "id": "6e62f276",
   "metadata": {
    "ExecuteTime": {
     "end_time": "2021-08-06T23:24:44.413254Z",
     "start_time": "2021-08-06T23:24:43.940250Z"
    }
   },
   "outputs": [
    {
     "data": {
      "text/plain": [
       "[name: \"/device:CPU:0\"\n",
       " device_type: \"CPU\"\n",
       " memory_limit: 268435456\n",
       " locality {\n",
       " }\n",
       " incarnation: 1493161150161124320,\n",
       " name: \"/device:GPU:0\"\n",
       " device_type: \"GPU\"\n",
       " memory_limit: 2249929524\n",
       " locality {\n",
       "   bus_id: 1\n",
       "   links {\n",
       "   }\n",
       " }\n",
       " incarnation: 2946920236685928357\n",
       " physical_device_desc: \"device: 0, name: NVIDIA GeForce GTX 1650, pci bus id: 0000:01:00.0, compute capability: 7.5\"]"
      ]
     },
     "execution_count": 2,
     "metadata": {},
     "output_type": "execute_result"
    }
   ],
   "source": [
    "device_lib.list_local_devices()"
   ]
  },
  {
   "cell_type": "code",
   "execution_count": 3,
   "id": "e7270fb0",
   "metadata": {
    "ExecuteTime": {
     "end_time": "2021-08-06T23:25:02.281655Z",
     "start_time": "2021-08-06T23:24:53.538605Z"
    }
   },
   "outputs": [
    {
     "name": "stdout",
     "output_type": "stream",
     "text": [
      "Wall time: 8.74 s\n"
     ]
    }
   ],
   "source": [
    "\n",
    "%%time\n",
    "import random\n",
    "\n",
    "pis = []\n",
    "n_sim = 10000\n",
    "agulhas = 1000\n",
    "for _ in range(n_sim):\n",
    "    pontos_circulo = 0\n",
    "    total = 0\n",
    "    for i in range(agulhas):\n",
    "        total +=1\n",
    "        x = random.random()\n",
    "        y = random.random()\n",
    "        dist = (x**2 + y**2) ** 0.5\n",
    "        if dist <= 1:\n",
    "            pontos_circulo += 1\n",
    "    pi = 4 * (pontos_circulo / total) \n",
    "    pis.append(pi)"
   ]
  },
  {
   "cell_type": "code",
   "execution_count": 4,
   "id": "d99e55b5",
   "metadata": {
    "ExecuteTime": {
     "end_time": "2021-08-06T23:25:02.284654Z",
     "start_time": "2021-08-06T23:25:02.282654Z"
    }
   },
   "outputs": [],
   "source": [
    "import numpy as np"
   ]
  },
  {
   "cell_type": "code",
   "execution_count": 5,
   "id": "1f9becb0",
   "metadata": {
    "ExecuteTime": {
     "end_time": "2021-08-06T23:25:07.658352Z",
     "start_time": "2021-08-06T23:25:07.331688Z"
    }
   },
   "outputs": [
    {
     "name": "stdout",
     "output_type": "stream",
     "text": [
      "Wall time: 324 ms\n"
     ]
    }
   ],
   "source": [
    "%%time\n",
    "n_sim = 10_000\n",
    "n_agulhas = 1_000\n",
    "x = np.random.random(n_agulhas * n_sim)\n",
    "y = np.random.random(n_agulhas * n_sim)\n",
    "dist = np.sqrt(x**2 + y**2)\n",
    "dentro = np.where(dist <= 1, 1, 0)\n",
    "pis_arr = dentro.reshape(n_sim, -1).mean(axis=1) * 4"
   ]
  },
  {
   "cell_type": "code",
   "execution_count": null,
   "id": "3eebf837",
   "metadata": {},
   "outputs": [],
   "source": []
  }
 ],
 "metadata": {
  "kernelspec": {
   "display_name": "Python 3",
   "language": "python",
   "name": "python3"
  },
  "language_info": {
   "codemirror_mode": {
    "name": "ipython",
    "version": 3
   },
   "file_extension": ".py",
   "mimetype": "text/x-python",
   "name": "python",
   "nbconvert_exporter": "python",
   "pygments_lexer": "ipython3",
   "version": "3.8.11"
  }
 },
 "nbformat": 4,
 "nbformat_minor": 5
}
