{
 "cells": [
  {
   "cell_type": "markdown",
   "id": "10ec7509-1b46-4ac6-847a-e181c1ebe9ee",
   "metadata": {},
   "source": [
    "## Aula 2: Introdução Pandas"
   ]
  },
  {
   "cell_type": "markdown",
   "id": "3ba1ab73-8f6e-426a-af66-53015e9de67a",
   "metadata": {},
   "source": [
    "## 1) Pandas\n",
    "\n",
    "O **[Pandas](https://pandas.pydata.org/)** é uma das bibliotecas mais usadas em data science.\n",
    "\n",
    "Esta biblioteca, construída a partir do Numpy, possibilita a estruturação e manipulação de dados de maneira simples e eficiente.\n",
    "\n",
    "Comos os dados são a matéria prima de todo projeto de data science, manipulá-los é fundamental! Por isso, utilizaremos o Pandas em quase todas as aulas daqui pra frente!"
   ]
  },
  {
   "cell_type": "markdown",
   "id": "07dfab27-7a22-4c9f-aab9-af335f2b09fc",
   "metadata": {},
   "source": [
    "### DataFrame\n",
    "\n",
    "O objeto do Pandas que mais utilizaremos será o **DataFrame**\n",
    "\n",
    "Como veremos a seguir, o DataFrame é uma estrutura que se assemalha a uma **tabela**."
   ]
  },
  {
   "cell_type": "markdown",
   "id": "c8b129da-750c-4c3a-a3cb-60ff47d9ee18",
   "metadata": {},
   "source": [
    "### Lendo dados de um arquivo\n",
    "\n",
    "A forma mais comum de se construir um dataframe é a partir da **leitura de um arquivo**\n",
    "\n",
    "Em geral, queremos ler arquivos já estruturados como base de dados, em formatos como .csv, .txt, .xlsx, etc.\n",
    "\n",
    "O pandas é capaz de ler todos esses formatos, com funções específicas!"
   ]
  },
  {
   "cell_type": "markdown",
   "id": "7a7f536e-6ae3-4aac-9ecc-32c1a982bb74",
   "metadata": {},
   "source": [
    "### 1. Faça um programa que imprima as linhas do arquivo alunos.csv"
   ]
  },
  {
   "cell_type": "code",
   "execution_count": 3,
   "id": "e1a3b3a9-8aef-495b-877e-420fc0c0bc54",
   "metadata": {},
   "outputs": [],
   "source": [
    "# 1"
   ]
  },
  {
   "cell_type": "code",
   "execution_count": 5,
   "id": "f62a1aa4-07ed-47fd-842d-1f00a2be46a4",
   "metadata": {},
   "outputs": [],
   "source": [
    "# 2"
   ]
  },
  {
   "cell_type": "code",
   "execution_count": 6,
   "id": "6264f2d8-21f3-4dfd-877f-c2efb7fdb2fa",
   "metadata": {},
   "outputs": [],
   "source": [
    "# 3"
   ]
  },
  {
   "cell_type": "code",
   "execution_count": null,
   "id": "52d3b4a9-535b-42d6-8c10-3ae67223a7c1",
   "metadata": {},
   "outputs": [],
   "source": [
    "# 4"
   ]
  },
  {
   "cell_type": "code",
   "execution_count": null,
   "id": "5ec1751b-fe12-4e68-8c44-019b38c7905f",
   "metadata": {},
   "outputs": [],
   "source": [
    "# 5"
   ]
  },
  {
   "cell_type": "code",
   "execution_count": null,
   "id": "865c6d29-2364-46a4-ac8f-1c6358f54d38",
   "metadata": {},
   "outputs": [],
   "source": [
    "# 6"
   ]
  },
  {
   "cell_type": "code",
   "execution_count": 7,
   "id": "873e232d-b08e-463e-98b4-78618a636cca",
   "metadata": {},
   "outputs": [],
   "source": [
    "# 7"
   ]
  },
  {
   "cell_type": "code",
   "execution_count": 8,
   "id": "b17d27a8-0044-407a-b1a5-e02d1197e19b",
   "metadata": {},
   "outputs": [],
   "source": [
    "# 8"
   ]
  },
  {
   "cell_type": "code",
   "execution_count": 9,
   "id": "433db2d4-5a39-4986-9e35-aef33f150a4d",
   "metadata": {},
   "outputs": [],
   "source": [
    "# 9\n"
   ]
  },
  {
   "cell_type": "code",
   "execution_count": 10,
   "id": "883639af-914d-449b-b071-54aff587b5a6",
   "metadata": {},
   "outputs": [],
   "source": [
    "# 10"
   ]
  },
  {
   "cell_type": "code",
   "execution_count": 11,
   "id": "b294f239-d020-4f43-a334-fd1f448a3104",
   "metadata": {},
   "outputs": [],
   "source": [
    "# 11"
   ]
  },
  {
   "cell_type": "code",
   "execution_count": 12,
   "id": "6d157d63-1ff7-411d-aadc-431adc70f703",
   "metadata": {},
   "outputs": [],
   "source": [
    "# 12"
   ]
  },
  {
   "cell_type": "code",
   "execution_count": 13,
   "id": "70e9ba98-6ee4-425b-aa7e-101c27e400d0",
   "metadata": {},
   "outputs": [],
   "source": [
    "# 13"
   ]
  },
  {
   "cell_type": "code",
   "execution_count": 14,
   "id": "1893ab87-2a86-4947-a1cc-7f68a003ada4",
   "metadata": {},
   "outputs": [],
   "source": [
    "# 14"
   ]
  },
  {
   "cell_type": "code",
   "execution_count": null,
   "id": "22ab0b17-429d-4fdd-a8f0-d3cb7e19ae64",
   "metadata": {},
   "outputs": [],
   "source": [
    "# 15"
   ]
  },
  {
   "cell_type": "markdown",
   "id": "e9236a74-e0e7-4b04-a6c3-e31921278869",
   "metadata": {},
   "source": [
    "## Faça um programa que imprima as linhas do arquivo alunos.csv como listas"
   ]
  },
  {
   "cell_type": "code",
   "execution_count": null,
   "id": "cce82473-a856-4a08-a71c-9b8562972f66",
   "metadata": {},
   "outputs": [],
   "source": [
    "# 16"
   ]
  },
  {
   "cell_type": "markdown",
   "id": "3db6fa3c-e5a4-4116-996b-daf9f89d3c56",
   "metadata": {},
   "source": [
    "##  Faça um programa que imprima os elementos da coluna ‘Nome’ do arquivo alunos.csv."
   ]
  },
  {
   "cell_type": "code",
   "execution_count": null,
   "id": "cbddbef9-78dc-4c78-a211-2238ff11b2a1",
   "metadata": {},
   "outputs": [],
   "source": [
    "# 17"
   ]
  },
  {
   "cell_type": "code",
   "execution_count": null,
   "id": "5a06432b-3439-489b-89ab-5358f1ad5834",
   "metadata": {},
   "outputs": [],
   "source": [
    "# 18"
   ]
  },
  {
   "cell_type": "markdown",
   "id": "7ed3bd52-0631-4017-9724-075749559be0",
   "metadata": {},
   "source": [
    "## Faça um programa que copie os dados do arquivo alunos.csv para um arquivo chamado alunos2.csv"
   ]
  },
  {
   "cell_type": "code",
   "execution_count": null,
   "id": "bbcb09d7-4fa1-4482-9119-dcdeb3c64bc3",
   "metadata": {},
   "outputs": [],
   "source": [
    "# 19"
   ]
  },
  {
   "cell_type": "code",
   "execution_count": null,
   "id": "425742f1-2e55-4eac-99e8-7a0b7fbfc794",
   "metadata": {},
   "outputs": [],
   "source": [
    "# 20"
   ]
  },
  {
   "cell_type": "markdown",
   "id": "fd68be7c-4e1c-42a5-acc8-2e2081e5d4e0",
   "metadata": {},
   "source": [
    "## 5. Faça um programa que imprima o nome e a média de cada um dos alunos do arquivo alunos.csv\n"
   ]
  },
  {
   "cell_type": "code",
   "execution_count": 16,
   "id": "d66cab7b-5fea-477e-af93-1711fe541647",
   "metadata": {},
   "outputs": [],
   "source": [
    "# 21"
   ]
  },
  {
   "cell_type": "code",
   "execution_count": null,
   "id": "cff51f7b-7c68-4504-ae14-a46020b35b68",
   "metadata": {},
   "outputs": [],
   "source": [
    "# 22"
   ]
  },
  {
   "cell_type": "code",
   "execution_count": null,
   "id": "4543d6a4-6564-4550-9a65-d30e2ef18d6c",
   "metadata": {},
   "outputs": [],
   "source": [
    "# 23"
   ]
  },
  {
   "cell_type": "code",
   "execution_count": null,
   "id": "fa39b5ec-a31b-40c8-896e-7cc436594f23",
   "metadata": {},
   "outputs": [],
   "source": [
    "# 24"
   ]
  },
  {
   "cell_type": "code",
   "execution_count": null,
   "id": "3ffbe5f6-0f09-47f9-840d-7bfe78b9eab0",
   "metadata": {},
   "outputs": [],
   "source": [
    "# 25\n"
   ]
  },
  {
   "cell_type": "markdown",
   "id": "46e7fcb7-46c4-4d1c-9ef1-f6aff37f805d",
   "metadata": {},
   "source": [
    "6. Faça um programa que crie um arquivo media.csv e guarde o RA\n",
    "(registro do aluno) junto com a respectiva média de cada um dos\n",
    "alunos no arquivo alunos.csv."
   ]
  },
  {
   "cell_type": "code",
   "execution_count": null,
   "id": "a9ce083e-0654-4c36-84f1-cad142998394",
   "metadata": {},
   "outputs": [],
   "source": [
    "# 26"
   ]
  },
  {
   "cell_type": "code",
   "execution_count": null,
   "id": "c68e2adb-0216-4810-a870-93400d9b69ff",
   "metadata": {},
   "outputs": [],
   "source": []
  },
  {
   "cell_type": "code",
   "execution_count": null,
   "id": "91611fdc-9486-4a21-aaa7-cede5bb25a51",
   "metadata": {},
   "outputs": [],
   "source": [
    "# 27"
   ]
  },
  {
   "cell_type": "code",
   "execution_count": null,
   "id": "d0a960dc-470e-4945-b731-6c393a18cddd",
   "metadata": {},
   "outputs": [],
   "source": [
    "# 28"
   ]
  }
 ],
 "metadata": {
  "kernelspec": {
   "display_name": "Python 3",
   "language": "python",
   "name": "python3"
  },
  "language_info": {
   "codemirror_mode": {
    "name": "ipython",
    "version": 3
   },
   "file_extension": ".py",
   "mimetype": "text/x-python",
   "name": "python",
   "nbconvert_exporter": "python",
   "pygments_lexer": "ipython3",
   "version": "3.8.11"
  }
 },
 "nbformat": 4,
 "nbformat_minor": 5
}
