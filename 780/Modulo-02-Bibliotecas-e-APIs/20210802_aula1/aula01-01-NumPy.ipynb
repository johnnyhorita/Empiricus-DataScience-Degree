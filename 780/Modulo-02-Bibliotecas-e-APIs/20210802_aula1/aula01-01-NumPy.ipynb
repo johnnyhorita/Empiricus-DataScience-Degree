{
 "cells": [
  {
   "cell_type": "markdown",
   "id": "8bcdb687",
   "metadata": {},
   "source": [
    "# Aula 01\n",
    "\n",
    "## 01.  NumPy\n"
   ]
  },
  {
   "cell_type": "code",
   "execution_count": 2,
   "id": "494e3d60",
   "metadata": {
    "ExecuteTime": {
     "end_time": "2021-08-03T00:30:51.233449Z",
     "start_time": "2021-08-03T00:30:51.080921Z"
    }
   },
   "outputs": [],
   "source": [
    "import numpy as np"
   ]
  },
  {
   "cell_type": "markdown",
   "id": "a0dfb434",
   "metadata": {},
   "source": [
    "## 1. 1D arrays"
   ]
  },
  {
   "cell_type": "code",
   "execution_count": 3,
   "id": "f22abf4e",
   "metadata": {
    "ExecuteTime": {
     "end_time": "2021-08-03T00:30:52.141305Z",
     "start_time": "2021-08-03T00:30:52.137303Z"
    }
   },
   "outputs": [],
   "source": [
    "a = np.array([1, 2, 3])"
   ]
  },
  {
   "cell_type": "code",
   "execution_count": 4,
   "id": "eb9a20dc",
   "metadata": {
    "ExecuteTime": {
     "end_time": "2021-08-03T00:31:13.688688Z",
     "start_time": "2021-08-03T00:31:13.677661Z"
    }
   },
   "outputs": [
    {
     "data": {
      "text/plain": [
       "numpy.ndarray"
      ]
     },
     "execution_count": 4,
     "metadata": {},
     "output_type": "execute_result"
    }
   ],
   "source": [
    "type(a)"
   ]
  },
  {
   "cell_type": "code",
   "execution_count": 5,
   "id": "9340769a",
   "metadata": {
    "ExecuteTime": {
     "end_time": "2021-08-03T00:31:26.256196Z",
     "start_time": "2021-08-03T00:31:26.251191Z"
    }
   },
   "outputs": [
    {
     "data": {
      "text/plain": [
       "dtype('int32')"
      ]
     },
     "execution_count": 5,
     "metadata": {},
     "output_type": "execute_result"
    }
   ],
   "source": [
    "a.dtype"
   ]
  },
  {
   "cell_type": "code",
   "execution_count": 6,
   "id": "dea42120",
   "metadata": {
    "ExecuteTime": {
     "end_time": "2021-08-03T00:31:50.165645Z",
     "start_time": "2021-08-03T00:31:50.162634Z"
    }
   },
   "outputs": [],
   "source": [
    "a[0] = 10"
   ]
  },
  {
   "cell_type": "code",
   "execution_count": 7,
   "id": "1ff40280",
   "metadata": {
    "ExecuteTime": {
     "end_time": "2021-08-03T00:32:00.189696Z",
     "start_time": "2021-08-03T00:32:00.184694Z"
    }
   },
   "outputs": [
    {
     "data": {
      "text/plain": [
       "array([10,  2,  3])"
      ]
     },
     "execution_count": 7,
     "metadata": {},
     "output_type": "execute_result"
    }
   ],
   "source": [
    "a"
   ]
  },
  {
   "cell_type": "code",
   "execution_count": 8,
   "id": "10d08974",
   "metadata": {
    "ExecuteTime": {
     "end_time": "2021-08-03T00:32:19.318657Z",
     "start_time": "2021-08-03T00:32:19.314660Z"
    }
   },
   "outputs": [],
   "source": [
    "a[0] = 1.2"
   ]
  },
  {
   "cell_type": "code",
   "execution_count": 9,
   "id": "e12deb43",
   "metadata": {
    "ExecuteTime": {
     "end_time": "2021-08-03T00:32:24.135404Z",
     "start_time": "2021-08-03T00:32:24.129406Z"
    }
   },
   "outputs": [
    {
     "data": {
      "text/plain": [
       "array([1, 2, 3])"
      ]
     },
     "execution_count": 9,
     "metadata": {},
     "output_type": "execute_result"
    }
   ],
   "source": [
    "a"
   ]
  },
  {
   "cell_type": "markdown",
   "id": "203a332a",
   "metadata": {},
   "source": [
    "## 2. 2D arrays"
   ]
  },
  {
   "cell_type": "code",
   "execution_count": 10,
   "id": "81a38043",
   "metadata": {
    "ExecuteTime": {
     "end_time": "2021-08-03T00:33:41.508017Z",
     "start_time": "2021-08-03T00:33:41.504942Z"
    }
   },
   "outputs": [],
   "source": [
    "b = np.array([[9.0, 8.0, 7.0],\n",
    "                  [6.0, 5.0, 4.0]])"
   ]
  },
  {
   "cell_type": "code",
   "execution_count": 11,
   "id": "cdc59cfa",
   "metadata": {
    "ExecuteTime": {
     "end_time": "2021-08-03T00:33:44.880129Z",
     "start_time": "2021-08-03T00:33:44.874129Z"
    }
   },
   "outputs": [
    {
     "data": {
      "text/plain": [
       "array([[9., 8., 7.],\n",
       "       [6., 5., 4.]])"
      ]
     },
     "execution_count": 11,
     "metadata": {},
     "output_type": "execute_result"
    }
   ],
   "source": [
    "b"
   ]
  },
  {
   "cell_type": "markdown",
   "id": "73c1809f",
   "metadata": {},
   "source": [
    "### Dimensão e formato"
   ]
  },
  {
   "cell_type": "code",
   "execution_count": 12,
   "id": "0347a1de",
   "metadata": {
    "ExecuteTime": {
     "end_time": "2021-08-03T00:34:32.983021Z",
     "start_time": "2021-08-03T00:34:32.978022Z"
    }
   },
   "outputs": [
    {
     "data": {
      "text/plain": [
       "1"
      ]
     },
     "execution_count": 12,
     "metadata": {},
     "output_type": "execute_result"
    }
   ],
   "source": [
    "a.ndim"
   ]
  },
  {
   "cell_type": "code",
   "execution_count": 13,
   "id": "49bd125c",
   "metadata": {
    "ExecuteTime": {
     "end_time": "2021-08-03T00:34:46.636339Z",
     "start_time": "2021-08-03T00:34:46.632338Z"
    }
   },
   "outputs": [
    {
     "data": {
      "text/plain": [
       "(3,)"
      ]
     },
     "execution_count": 13,
     "metadata": {},
     "output_type": "execute_result"
    }
   ],
   "source": [
    "a.shape"
   ]
  },
  {
   "cell_type": "code",
   "execution_count": 14,
   "id": "34c8d247",
   "metadata": {
    "ExecuteTime": {
     "end_time": "2021-08-03T00:34:54.588484Z",
     "start_time": "2021-08-03T00:34:54.583480Z"
    }
   },
   "outputs": [
    {
     "data": {
      "text/plain": [
       "2"
      ]
     },
     "execution_count": 14,
     "metadata": {},
     "output_type": "execute_result"
    }
   ],
   "source": [
    "b.ndim"
   ]
  },
  {
   "cell_type": "code",
   "execution_count": 15,
   "id": "72478337",
   "metadata": {
    "ExecuteTime": {
     "end_time": "2021-08-03T00:35:03.301902Z",
     "start_time": "2021-08-03T00:35:03.295901Z"
    }
   },
   "outputs": [
    {
     "data": {
      "text/plain": [
       "(2, 3)"
      ]
     },
     "execution_count": 15,
     "metadata": {},
     "output_type": "execute_result"
    }
   ],
   "source": [
    "b.shape"
   ]
  },
  {
   "cell_type": "markdown",
   "id": "67c0c12f",
   "metadata": {},
   "source": [
    "### Tipo de dado e tamanho"
   ]
  },
  {
   "cell_type": "code",
   "execution_count": 16,
   "id": "19e3963b",
   "metadata": {
    "ExecuteTime": {
     "end_time": "2021-08-03T00:35:24.772089Z",
     "start_time": "2021-08-03T00:35:24.768087Z"
    }
   },
   "outputs": [
    {
     "data": {
      "text/plain": [
       "dtype('int32')"
      ]
     },
     "execution_count": 16,
     "metadata": {},
     "output_type": "execute_result"
    }
   ],
   "source": [
    "a.dtype"
   ]
  },
  {
   "cell_type": "code",
   "execution_count": 17,
   "id": "b1a089f2",
   "metadata": {
    "ExecuteTime": {
     "end_time": "2021-08-03T00:35:49.501764Z",
     "start_time": "2021-08-03T00:35:49.497762Z"
    }
   },
   "outputs": [
    {
     "data": {
      "text/plain": [
       "dtype('float64')"
      ]
     },
     "execution_count": 17,
     "metadata": {},
     "output_type": "execute_result"
    }
   ],
   "source": [
    "b.dtype"
   ]
  },
  {
   "cell_type": "code",
   "execution_count": 18,
   "id": "df981e9e",
   "metadata": {
    "ExecuteTime": {
     "end_time": "2021-08-03T00:36:05.998207Z",
     "start_time": "2021-08-03T00:36:05.994239Z"
    }
   },
   "outputs": [],
   "source": [
    "a16 = np.array([1, 2, 3], dtype=np.int16)"
   ]
  },
  {
   "cell_type": "code",
   "execution_count": 19,
   "id": "eb6cddcb",
   "metadata": {
    "ExecuteTime": {
     "end_time": "2021-08-03T00:36:15.181070Z",
     "start_time": "2021-08-03T00:36:15.176063Z"
    }
   },
   "outputs": [
    {
     "data": {
      "text/plain": [
       "array([1, 2, 3], dtype=int16)"
      ]
     },
     "execution_count": 19,
     "metadata": {},
     "output_type": "execute_result"
    }
   ],
   "source": [
    "a16"
   ]
  },
  {
   "cell_type": "code",
   "execution_count": 21,
   "id": "49a33f9f",
   "metadata": {
    "ExecuteTime": {
     "end_time": "2021-08-03T00:36:41.164193Z",
     "start_time": "2021-08-03T00:36:41.160192Z"
    }
   },
   "outputs": [
    {
     "data": {
      "text/plain": [
       "4"
      ]
     },
     "execution_count": 21,
     "metadata": {},
     "output_type": "execute_result"
    }
   ],
   "source": [
    "a.itemsize"
   ]
  },
  {
   "cell_type": "code",
   "execution_count": 22,
   "id": "073cb026",
   "metadata": {
    "ExecuteTime": {
     "end_time": "2021-08-03T00:36:52.312293Z",
     "start_time": "2021-08-03T00:36:52.306313Z"
    }
   },
   "outputs": [
    {
     "data": {
      "text/plain": [
       "2"
      ]
     },
     "execution_count": 22,
     "metadata": {},
     "output_type": "execute_result"
    }
   ],
   "source": [
    "a16.itemsize"
   ]
  },
  {
   "cell_type": "code",
   "execution_count": 25,
   "id": "85b1284f",
   "metadata": {
    "ExecuteTime": {
     "end_time": "2021-08-03T00:37:17.959251Z",
     "start_time": "2021-08-03T00:37:17.954251Z"
    }
   },
   "outputs": [
    {
     "data": {
      "text/plain": [
       "3"
      ]
     },
     "execution_count": 25,
     "metadata": {},
     "output_type": "execute_result"
    }
   ],
   "source": [
    "# quantidade de elementos total\n",
    "a.size"
   ]
  },
  {
   "cell_type": "code",
   "execution_count": 26,
   "id": "f6f5b219",
   "metadata": {
    "ExecuteTime": {
     "end_time": "2021-08-03T00:37:26.893527Z",
     "start_time": "2021-08-03T00:37:26.888528Z"
    }
   },
   "outputs": [
    {
     "data": {
      "text/plain": [
       "12"
      ]
     },
     "execution_count": 26,
     "metadata": {},
     "output_type": "execute_result"
    }
   ],
   "source": [
    "a.size * a.itemsize"
   ]
  },
  {
   "cell_type": "code",
   "execution_count": 27,
   "id": "d2ca1a02",
   "metadata": {
    "ExecuteTime": {
     "end_time": "2021-08-03T00:37:35.197406Z",
     "start_time": "2021-08-03T00:37:35.192434Z"
    }
   },
   "outputs": [
    {
     "data": {
      "text/plain": [
       "12"
      ]
     },
     "execution_count": 27,
     "metadata": {},
     "output_type": "execute_result"
    }
   ],
   "source": [
    "a.nbytes"
   ]
  },
  {
   "cell_type": "markdown",
   "id": "a102b4e1",
   "metadata": {},
   "source": [
    "### Acessando e modificando elementos (Indexing & Slicing)"
   ]
  },
  {
   "cell_type": "code",
   "execution_count": 29,
   "id": "0e3c3a10",
   "metadata": {
    "ExecuteTime": {
     "end_time": "2021-08-03T00:38:09.095112Z",
     "start_time": "2021-08-03T00:38:09.090077Z"
    }
   },
   "outputs": [
    {
     "name": "stdout",
     "output_type": "stream",
     "text": [
      "[[ 1  2  3  4  5  6  7]\n",
      " [ 8  9 10 11 12 13 14]]\n"
     ]
    }
   ],
   "source": [
    "a = np.array([[1, 2, 3, 4, 5, 6, 7], [8, 9, 10, 11, 12, 13, 14]])\n",
    "print(a)"
   ]
  },
  {
   "cell_type": "code",
   "execution_count": 30,
   "id": "c112857c",
   "metadata": {
    "ExecuteTime": {
     "end_time": "2021-08-03T00:38:21.717882Z",
     "start_time": "2021-08-03T00:38:21.713880Z"
    }
   },
   "outputs": [
    {
     "data": {
      "text/plain": [
       "13"
      ]
     },
     "execution_count": 30,
     "metadata": {},
     "output_type": "execute_result"
    }
   ],
   "source": [
    "a[1, 5]"
   ]
  },
  {
   "cell_type": "code",
   "execution_count": 31,
   "id": "ff6c0e66",
   "metadata": {
    "ExecuteTime": {
     "end_time": "2021-08-03T00:38:53.253714Z",
     "start_time": "2021-08-03T00:38:53.249736Z"
    }
   },
   "outputs": [
    {
     "data": {
      "text/plain": [
       "13"
      ]
     },
     "execution_count": 31,
     "metadata": {},
     "output_type": "execute_result"
    }
   ],
   "source": [
    "a[1][5]"
   ]
  },
  {
   "cell_type": "code",
   "execution_count": 32,
   "id": "007327f7",
   "metadata": {
    "ExecuteTime": {
     "end_time": "2021-08-03T00:39:02.798591Z",
     "start_time": "2021-08-03T00:39:02.793592Z"
    }
   },
   "outputs": [
    {
     "data": {
      "text/plain": [
       "13"
      ]
     },
     "execution_count": 32,
     "metadata": {},
     "output_type": "execute_result"
    }
   ],
   "source": [
    "a[1, -2]"
   ]
  },
  {
   "cell_type": "code",
   "execution_count": 33,
   "id": "01afabfa",
   "metadata": {
    "ExecuteTime": {
     "end_time": "2021-08-03T00:39:11.734254Z",
     "start_time": "2021-08-03T00:39:11.729254Z"
    }
   },
   "outputs": [
    {
     "data": {
      "text/plain": [
       "array([1, 2, 3, 4, 5, 6, 7])"
      ]
     },
     "execution_count": 33,
     "metadata": {},
     "output_type": "execute_result"
    }
   ],
   "source": [
    "a[0, :]"
   ]
  },
  {
   "cell_type": "code",
   "execution_count": 34,
   "id": "d9ad3762",
   "metadata": {
    "ExecuteTime": {
     "end_time": "2021-08-03T00:39:20.736256Z",
     "start_time": "2021-08-03T00:39:20.731255Z"
    }
   },
   "outputs": [
    {
     "data": {
      "text/plain": [
       "array([1, 2, 3, 4, 5, 6, 7])"
      ]
     },
     "execution_count": 34,
     "metadata": {},
     "output_type": "execute_result"
    }
   ],
   "source": [
    "a[0]"
   ]
  },
  {
   "cell_type": "code",
   "execution_count": 35,
   "id": "9469370d",
   "metadata": {
    "ExecuteTime": {
     "end_time": "2021-08-03T00:39:29.732214Z",
     "start_time": "2021-08-03T00:39:29.728211Z"
    }
   },
   "outputs": [
    {
     "data": {
      "text/plain": [
       "array([ 3, 10])"
      ]
     },
     "execution_count": 35,
     "metadata": {},
     "output_type": "execute_result"
    }
   ],
   "source": [
    "a[:, 2]"
   ]
  },
  {
   "cell_type": "code",
   "execution_count": 36,
   "id": "70c11607",
   "metadata": {
    "ExecuteTime": {
     "end_time": "2021-08-03T00:39:41.907983Z",
     "start_time": "2021-08-03T00:39:41.903957Z"
    }
   },
   "outputs": [
    {
     "data": {
      "text/plain": [
       "array([2, 4, 6])"
      ]
     },
     "execution_count": 36,
     "metadata": {},
     "output_type": "execute_result"
    }
   ],
   "source": [
    "a[0, 1:6:2]"
   ]
  },
  {
   "cell_type": "code",
   "execution_count": 37,
   "id": "5ff22254",
   "metadata": {
    "ExecuteTime": {
     "end_time": "2021-08-03T00:39:50.489710Z",
     "start_time": "2021-08-03T00:39:50.482708Z"
    }
   },
   "outputs": [
    {
     "data": {
      "text/plain": [
       "array([2, 4, 6])"
      ]
     },
     "execution_count": 37,
     "metadata": {},
     "output_type": "execute_result"
    }
   ],
   "source": [
    "a[0, 1:-1:2]"
   ]
  },
  {
   "cell_type": "code",
   "execution_count": 40,
   "id": "39f435d0",
   "metadata": {
    "ExecuteTime": {
     "end_time": "2021-08-03T00:40:12.178771Z",
     "start_time": "2021-08-03T00:40:12.175796Z"
    }
   },
   "outputs": [
    {
     "name": "stdout",
     "output_type": "stream",
     "text": [
      "[[ 1  2  3  4  5  6  7]\n",
      " [ 8  9 10 11 12 20 14]]\n"
     ]
    }
   ],
   "source": [
    "a[1,5] = 20\n",
    "print(a)"
   ]
  },
  {
   "cell_type": "code",
   "execution_count": 41,
   "id": "878cecab",
   "metadata": {
    "ExecuteTime": {
     "end_time": "2021-08-03T00:40:24.814433Z",
     "start_time": "2021-08-03T00:40:24.809436Z"
    }
   },
   "outputs": [
    {
     "name": "stdout",
     "output_type": "stream",
     "text": [
      "[[ 1  2  5  4  5  6  7]\n",
      " [ 8  9  5 11 12 20 14]]\n"
     ]
    }
   ],
   "source": [
    "a[:, 2] = 5\n",
    "print(a)"
   ]
  },
  {
   "cell_type": "markdown",
   "id": "efa39f14",
   "metadata": {
    "ExecuteTime": {
     "end_time": "2021-07-07T23:43:17.182684Z",
     "start_time": "2021-07-07T23:43:17.176684Z"
    }
   },
   "source": [
    "### Ao alterar o pedaço da matriz recortada, você altera a matriz original"
   ]
  },
  {
   "cell_type": "code",
   "execution_count": 48,
   "id": "2edc66b0",
   "metadata": {
    "ExecuteTime": {
     "end_time": "2021-08-03T00:42:00.425285Z",
     "start_time": "2021-08-03T00:42:00.423284Z"
    }
   },
   "outputs": [],
   "source": [
    "a = [1, 2, 3]\n",
    "b = a[1:]"
   ]
  },
  {
   "cell_type": "code",
   "execution_count": 49,
   "id": "e08f8095",
   "metadata": {
    "ExecuteTime": {
     "end_time": "2021-08-03T00:42:01.174215Z",
     "start_time": "2021-08-03T00:42:01.169212Z"
    }
   },
   "outputs": [
    {
     "data": {
      "text/plain": [
       "[2, 3]"
      ]
     },
     "execution_count": 49,
     "metadata": {},
     "output_type": "execute_result"
    }
   ],
   "source": [
    "b"
   ]
  },
  {
   "cell_type": "code",
   "execution_count": 50,
   "id": "951c18a5",
   "metadata": {
    "ExecuteTime": {
     "end_time": "2021-08-03T00:42:02.747867Z",
     "start_time": "2021-08-03T00:42:02.744868Z"
    }
   },
   "outputs": [],
   "source": [
    "b = [10, 11]"
   ]
  },
  {
   "cell_type": "code",
   "execution_count": 51,
   "id": "23281a88",
   "metadata": {
    "ExecuteTime": {
     "end_time": "2021-08-03T00:42:03.604013Z",
     "start_time": "2021-08-03T00:42:03.599009Z"
    }
   },
   "outputs": [
    {
     "data": {
      "text/plain": [
       "[1, 2, 3]"
      ]
     },
     "execution_count": 51,
     "metadata": {},
     "output_type": "execute_result"
    }
   ],
   "source": [
    "a"
   ]
  },
  {
   "cell_type": "code",
   "execution_count": 52,
   "id": "1504b6b2",
   "metadata": {
    "ExecuteTime": {
     "end_time": "2021-08-03T00:42:05.070968Z",
     "start_time": "2021-08-03T00:42:05.065968Z"
    }
   },
   "outputs": [
    {
     "data": {
      "text/plain": [
       "[10, 11]"
      ]
     },
     "execution_count": 52,
     "metadata": {},
     "output_type": "execute_result"
    }
   ],
   "source": [
    "b"
   ]
  },
  {
   "cell_type": "code",
   "execution_count": 57,
   "id": "83a7b87b",
   "metadata": {
    "ExecuteTime": {
     "end_time": "2021-08-03T00:43:13.175687Z",
     "start_time": "2021-08-03T00:43:13.168653Z"
    }
   },
   "outputs": [
    {
     "ename": "TypeError",
     "evalue": "list indices must be integers or slices, not tuple",
     "output_type": "error",
     "traceback": [
      "\u001b[1;31m---------------------------------------------------------------------------\u001b[0m",
      "\u001b[1;31mTypeError\u001b[0m                                 Traceback (most recent call last)",
      "\u001b[1;32m<ipython-input-57-3c9b502a9097>\u001b[0m in \u001b[0;36m<module>\u001b[1;34m\u001b[0m\n\u001b[1;32m----> 1\u001b[1;33m \u001b[0ma\u001b[0m\u001b[1;33m[\u001b[0m\u001b[1;33m:\u001b[0m\u001b[1;33m,\u001b[0m \u001b[1;36m2\u001b[0m\u001b[1;33m]\u001b[0m\u001b[1;33m.\u001b[0m\u001b[0mshape\u001b[0m\u001b[1;33m\u001b[0m\u001b[1;33m\u001b[0m\u001b[0m\n\u001b[0m",
      "\u001b[1;31mTypeError\u001b[0m: list indices must be integers or slices, not tuple"
     ]
    }
   ],
   "source": [
    "a[:, 2].shape"
   ]
  },
  {
   "cell_type": "code",
   "execution_count": 54,
   "id": "19f563f2",
   "metadata": {
    "ExecuteTime": {
     "end_time": "2021-08-03T00:42:28.648899Z",
     "start_time": "2021-08-03T00:42:28.639895Z"
    }
   },
   "outputs": [
    {
     "ename": "TypeError",
     "evalue": "list indices must be integers or slices, not tuple",
     "output_type": "error",
     "traceback": [
      "\u001b[1;31m---------------------------------------------------------------------------\u001b[0m",
      "\u001b[1;31mTypeError\u001b[0m                                 Traceback (most recent call last)",
      "\u001b[1;32m<ipython-input-54-560953809ac5>\u001b[0m in \u001b[0;36m<module>\u001b[1;34m\u001b[0m\n\u001b[1;32m----> 1\u001b[1;33m \u001b[0ma\u001b[0m\u001b[1;33m[\u001b[0m\u001b[1;33m:\u001b[0m\u001b[1;33m,\u001b[0m \u001b[1;36m2\u001b[0m\u001b[1;33m]\u001b[0m \u001b[1;33m=\u001b[0m \u001b[1;33m[\u001b[0m\u001b[1;36m5\u001b[0m\u001b[1;33m,\u001b[0m \u001b[1;36m10\u001b[0m\u001b[1;33m]\u001b[0m\u001b[1;33m\u001b[0m\u001b[1;33m\u001b[0m\u001b[0m\n\u001b[0m\u001b[0;32m      2\u001b[0m \u001b[0mprint\u001b[0m\u001b[1;33m(\u001b[0m\u001b[0ma\u001b[0m\u001b[1;33m)\u001b[0m\u001b[1;33m\u001b[0m\u001b[1;33m\u001b[0m\u001b[0m\n",
      "\u001b[1;31mTypeError\u001b[0m: list indices must be integers or slices, not tuple"
     ]
    }
   ],
   "source": [
    "a[:, 2] = [5, 10]\n",
    "print(a)"
   ]
  },
  {
   "cell_type": "markdown",
   "id": "713f3525",
   "metadata": {
    "ExecuteTime": {
     "end_time": "2021-08-03T00:44:02.260225Z",
     "start_time": "2021-08-03T00:44:02.257257Z"
    }
   },
   "source": [
    "### Exemplo 3D"
   ]
  },
  {
   "cell_type": "code",
   "execution_count": 58,
   "id": "d39be1be",
   "metadata": {
    "ExecuteTime": {
     "end_time": "2021-08-03T00:43:34.861737Z",
     "start_time": "2021-08-03T00:43:34.856766Z"
    }
   },
   "outputs": [
    {
     "data": {
      "text/plain": [
       "array([[[1, 2],\n",
       "        [3, 4]],\n",
       "\n",
       "       [[5, 6],\n",
       "        [7, 8]]])"
      ]
     },
     "execution_count": 58,
     "metadata": {},
     "output_type": "execute_result"
    }
   ],
   "source": [
    "b = np.array([[[1, 2], [3,4]], [[5, 6], [7, 8]]])\n",
    "b"
   ]
  },
  {
   "cell_type": "code",
   "execution_count": 62,
   "id": "bdc043a1",
   "metadata": {
    "ExecuteTime": {
     "end_time": "2021-08-03T00:44:34.795954Z",
     "start_time": "2021-08-03T00:44:34.790918Z"
    }
   },
   "outputs": [
    {
     "data": {
      "text/plain": [
       "3"
      ]
     },
     "execution_count": 62,
     "metadata": {},
     "output_type": "execute_result"
    }
   ],
   "source": [
    "# Checando a dimensão\n",
    "b.ndim"
   ]
  },
  {
   "cell_type": "code",
   "execution_count": 63,
   "id": "ed6e9b70",
   "metadata": {
    "ExecuteTime": {
     "end_time": "2021-08-03T00:44:54.421754Z",
     "start_time": "2021-08-03T00:44:54.416719Z"
    }
   },
   "outputs": [
    {
     "data": {
      "text/plain": [
       "4"
      ]
     },
     "execution_count": 63,
     "metadata": {},
     "output_type": "execute_result"
    }
   ],
   "source": [
    "# Retirando o elemento 4\n",
    "b[0, 1, 1]"
   ]
  },
  {
   "cell_type": "code",
   "execution_count": 65,
   "id": "5040a8bf",
   "metadata": {
    "ExecuteTime": {
     "end_time": "2021-08-03T00:45:13.596188Z",
     "start_time": "2021-08-03T00:45:13.592185Z"
    }
   },
   "outputs": [
    {
     "data": {
      "text/plain": [
       "array([[3, 4],\n",
       "       [7, 8]])"
      ]
     },
     "execution_count": 65,
     "metadata": {},
     "output_type": "execute_result"
    }
   ],
   "source": [
    "# Pegando todos todos os elementos da posição 1 da dimensão 2\n",
    "b[:, 1, :]"
   ]
  },
  {
   "cell_type": "code",
   "execution_count": 66,
   "id": "c7db397c",
   "metadata": {
    "ExecuteTime": {
     "end_time": "2021-08-03T00:45:26.034331Z",
     "start_time": "2021-08-03T00:45:26.031327Z"
    }
   },
   "outputs": [],
   "source": [
    "# substituindo\n",
    "b[:, 1, :] = [[9, 9], [8, 8]]"
   ]
  },
  {
   "cell_type": "markdown",
   "id": "696b0375",
   "metadata": {
    "ExecuteTime": {
     "end_time": "2021-08-03T00:45:35.953206Z",
     "start_time": "2021-08-03T00:45:35.950148Z"
    }
   },
   "source": [
    "### Inicializando arrays usando métodos internos"
   ]
  },
  {
   "cell_type": "code",
   "execution_count": 69,
   "id": "9f1db225",
   "metadata": {
    "ExecuteTime": {
     "end_time": "2021-08-03T00:45:55.934434Z",
     "start_time": "2021-08-03T00:45:55.929427Z"
    }
   },
   "outputs": [
    {
     "data": {
      "text/plain": [
       "array([0., 0., 0., 0., 0.])"
      ]
     },
     "execution_count": 69,
     "metadata": {},
     "output_type": "execute_result"
    }
   ],
   "source": [
    "# array apenas com zeros\n",
    "np.zeros(5)"
   ]
  },
  {
   "cell_type": "code",
   "execution_count": 70,
   "id": "8fc2ead2",
   "metadata": {
    "ExecuteTime": {
     "end_time": "2021-08-03T00:46:04.934321Z",
     "start_time": "2021-08-03T00:46:04.928322Z"
    }
   },
   "outputs": [
    {
     "data": {
      "text/plain": [
       "array([[0., 0., 0.],\n",
       "       [0., 0., 0.]])"
      ]
     },
     "execution_count": 70,
     "metadata": {},
     "output_type": "execute_result"
    }
   ],
   "source": [
    "np.zeros((2, 3))"
   ]
  },
  {
   "cell_type": "code",
   "execution_count": 71,
   "id": "3d596ae3",
   "metadata": {
    "ExecuteTime": {
     "end_time": "2021-08-03T00:46:12.509124Z",
     "start_time": "2021-08-03T00:46:12.505124Z"
    }
   },
   "outputs": [
    {
     "data": {
      "text/plain": [
       "array([[[1, 1],\n",
       "        [1, 1]],\n",
       "\n",
       "       [[1, 1],\n",
       "        [1, 1]],\n",
       "\n",
       "       [[1, 1],\n",
       "        [1, 1]],\n",
       "\n",
       "       [[1, 1],\n",
       "        [1, 1]]])"
      ]
     },
     "execution_count": 71,
     "metadata": {},
     "output_type": "execute_result"
    }
   ],
   "source": [
    "np.ones((4, 2, 2), dtype='int32')"
   ]
  },
  {
   "cell_type": "code",
   "execution_count": 74,
   "id": "7fb7e2d9",
   "metadata": {
    "ExecuteTime": {
     "end_time": "2021-08-03T00:47:34.413503Z",
     "start_time": "2021-08-03T00:47:34.409503Z"
    }
   },
   "outputs": [
    {
     "data": {
      "text/plain": [
       "array([[10., 10.],\n",
       "       [10., 10.]])"
      ]
     },
     "execution_count": 74,
     "metadata": {},
     "output_type": "execute_result"
    }
   ],
   "source": [
    "# Um coisa muito comum é usar o np.ones para criar uma matriz de qualquer número fazendo a operação\n",
    "np.ones((2, 2)) * 10"
   ]
  },
  {
   "cell_type": "code",
   "execution_count": 75,
   "id": "2d9c7070",
   "metadata": {
    "ExecuteTime": {
     "end_time": "2021-08-03T00:47:49.806423Z",
     "start_time": "2021-08-03T00:47:49.801415Z"
    }
   },
   "outputs": [
    {
     "data": {
      "text/plain": [
       "array([[99, 99],\n",
       "       [99, 99]])"
      ]
     },
     "execution_count": 75,
     "metadata": {},
     "output_type": "execute_result"
    }
   ],
   "source": [
    "# o numpy já tem uma opção mais elegante, o full\n",
    "np.full((2, 2), 99)"
   ]
  },
  {
   "cell_type": "code",
   "execution_count": 77,
   "id": "6ceb6539",
   "metadata": {
    "ExecuteTime": {
     "end_time": "2021-08-03T00:48:18.276936Z",
     "start_time": "2021-08-03T00:48:18.271935Z"
    }
   },
   "outputs": [
    {
     "data": {
      "text/plain": [
       "array([4, 4, 4])"
      ]
     },
     "execution_count": 77,
     "metadata": {},
     "output_type": "execute_result"
    }
   ],
   "source": [
    "# Qualquer outro número copiando o formato de uma matriz existente\n",
    "np.full_like(a, 4)"
   ]
  },
  {
   "cell_type": "markdown",
   "id": "a0e76d6e",
   "metadata": {},
   "source": [
    "### Números decimais aleatórios"
   ]
  },
  {
   "cell_type": "code",
   "execution_count": 78,
   "id": "65b661a3",
   "metadata": {
    "ExecuteTime": {
     "end_time": "2021-08-03T00:48:36.793691Z",
     "start_time": "2021-08-03T00:48:36.785693Z"
    }
   },
   "outputs": [
    {
     "data": {
      "text/plain": [
       "array([[0.37130738, 0.08551893],\n",
       "       [0.2611312 , 0.27901525],\n",
       "       [0.33100336, 0.14933994],\n",
       "       [0.96203799, 0.37160441]])"
      ]
     },
     "execution_count": 78,
     "metadata": {},
     "output_type": "execute_result"
    }
   ],
   "source": [
    "np.random.random_sample((4, 2))"
   ]
  },
  {
   "cell_type": "code",
   "execution_count": 79,
   "id": "73e2ad40",
   "metadata": {
    "ExecuteTime": {
     "end_time": "2021-08-03T00:48:56.884312Z",
     "start_time": "2021-08-03T00:48:56.878311Z"
    }
   },
   "outputs": [
    {
     "data": {
      "text/plain": [
       "array([[0.47327386, 0.34242316],\n",
       "       [0.47312572, 0.79472066],\n",
       "       [0.98469951, 0.44943546],\n",
       "       [0.58846256, 0.45565551]])"
      ]
     },
     "execution_count": 79,
     "metadata": {},
     "output_type": "execute_result"
    }
   ],
   "source": [
    "np.random.rand(4, 2)"
   ]
  },
  {
   "cell_type": "markdown",
   "id": "86c05503",
   "metadata": {
    "ExecuteTime": {
     "end_time": "2021-08-03T00:49:06.499436Z",
     "start_time": "2021-08-03T00:49:06.495387Z"
    }
   },
   "source": [
    "### Números inteiros"
   ]
  },
  {
   "cell_type": "code",
   "execution_count": 81,
   "id": "0737fea3",
   "metadata": {
    "ExecuteTime": {
     "end_time": "2021-08-03T00:49:18.111517Z",
     "start_time": "2021-08-03T00:49:18.103510Z"
    }
   },
   "outputs": [
    {
     "data": {
      "text/plain": [
       "array([[2, 6, 4],\n",
       "       [1, 2, 6],\n",
       "       [6, 6, 6]])"
      ]
     },
     "execution_count": 81,
     "metadata": {},
     "output_type": "execute_result"
    }
   ],
   "source": [
    "np.random.randint(7, size=(3, 3))"
   ]
  },
  {
   "cell_type": "code",
   "execution_count": 83,
   "id": "be549947",
   "metadata": {
    "ExecuteTime": {
     "end_time": "2021-08-03T00:49:46.299919Z",
     "start_time": "2021-08-03T00:49:46.294916Z"
    }
   },
   "outputs": [
    {
     "data": {
      "text/plain": [
       "array([26, 35, 61, 95, 24, 71, 44, 91, 26, 88, 54, 99, 45, 28, 75, 57, 10,\n",
       "       34, 27, 70, 22, 56,  5, 70, 60, 24, 11, 14, 85, 88, 38, 91, 30, 60,\n",
       "       17, 71,  4, 27, 41, 93, 69,  7, 17, 25,  4,  3, 99, 71, 71, 11, 48,\n",
       "       70, 85, 49,  3, 81, 14, 11, 29, 86, 53, 12, 46, 88, 57, 32, 95,  3,\n",
       "       77, 27, 13, 61, 87, 87, 67, 43, 40, 47, 26, 61, 93, 61, 13,  8, 93,\n",
       "       19, 25, 84,  5, 16,  9, 24,  7,  3, 21, 61, 85, 58, 66, 55])"
      ]
     },
     "execution_count": 83,
     "metadata": {},
     "output_type": "execute_result"
    }
   ],
   "source": [
    "# Os argumentos principais são low, high e size, exemplo: criando uma matriz de 0 a 99 de 100 elementos\n",
    "np.random.randint(0, high=100, size=100)"
   ]
  },
  {
   "cell_type": "markdown",
   "id": "495317ca",
   "metadata": {},
   "source": [
    "### Matriz identidade"
   ]
  },
  {
   "cell_type": "code",
   "execution_count": 84,
   "id": "8188f9e6",
   "metadata": {
    "ExecuteTime": {
     "end_time": "2021-08-03T00:50:06.774101Z",
     "start_time": "2021-08-03T00:50:06.768132Z"
    }
   },
   "outputs": [
    {
     "data": {
      "text/plain": [
       "array([[1., 0., 0.],\n",
       "       [0., 1., 0.],\n",
       "       [0., 0., 1.]])"
      ]
     },
     "execution_count": 84,
     "metadata": {},
     "output_type": "execute_result"
    }
   ],
   "source": [
    "np.identity(3)"
   ]
  },
  {
   "cell_type": "code",
   "execution_count": 87,
   "id": "9f8d5ef6",
   "metadata": {
    "ExecuteTime": {
     "end_time": "2021-08-03T00:51:06.395337Z",
     "start_time": "2021-08-03T00:51:06.390363Z"
    }
   },
   "outputs": [
    {
     "name": "stdout",
     "output_type": "stream",
     "text": [
      "[1 1 1 2 2 2 3 3 3]\n"
     ]
    }
   ],
   "source": [
    "# O eixo 0 é linha, o eixo 1 é coluna\n",
    "arr = np.array([1, 2, 3])\n",
    "r1 = np.repeat(arr, 3)\n",
    "print(r1)"
   ]
  },
  {
   "cell_type": "code",
   "execution_count": 88,
   "id": "903c52e3",
   "metadata": {
    "ExecuteTime": {
     "end_time": "2021-08-03T00:51:07.484183Z",
     "start_time": "2021-08-03T00:51:07.479179Z"
    }
   },
   "outputs": [
    {
     "name": "stdout",
     "output_type": "stream",
     "text": [
      "[[1 2 3]\n",
      " [1 2 3]\n",
      " [1 2 3]]\n"
     ]
    }
   ],
   "source": [
    "# Com axis 0\n",
    "arr = np.array([[1, 2, 3]])\n",
    "r1 = np.repeat(arr, 3, axis=0)\n",
    "print(r1)"
   ]
  },
  {
   "cell_type": "code",
   "execution_count": 89,
   "id": "170c90f1",
   "metadata": {
    "ExecuteTime": {
     "end_time": "2021-08-03T00:51:30.387005Z",
     "start_time": "2021-08-03T00:51:30.383971Z"
    }
   },
   "outputs": [
    {
     "name": "stdout",
     "output_type": "stream",
     "text": [
      "[[1 1 1 2 2 2 3 3 3]]\n"
     ]
    }
   ],
   "source": [
    "# Com axis 1\n",
    "arr = np.array([[1, 2, 3]])\n",
    "r1 = np.repeat(arr, 3, axis=1)\n",
    "print(r1)"
   ]
  },
  {
   "cell_type": "markdown",
   "id": "6e47fd65",
   "metadata": {
    "ExecuteTime": {
     "end_time": "2021-08-03T00:51:39.042999Z",
     "start_time": "2021-08-03T00:51:39.039994Z"
    }
   },
   "source": [
    "### arange"
   ]
  },
  {
   "cell_type": "code",
   "execution_count": 91,
   "id": "e4f07928",
   "metadata": {
    "ExecuteTime": {
     "end_time": "2021-08-03T00:51:53.726038Z",
     "start_time": "2021-08-03T00:51:53.719036Z"
    }
   },
   "outputs": [
    {
     "data": {
      "text/plain": [
       "array([0, 1, 2, 3, 4, 5, 6, 7, 8, 9])"
      ]
     },
     "execution_count": 91,
     "metadata": {},
     "output_type": "execute_result"
    }
   ],
   "source": [
    "np.arange(0, 10)"
   ]
  },
  {
   "cell_type": "code",
   "execution_count": 93,
   "id": "8dc61467",
   "metadata": {
    "ExecuteTime": {
     "end_time": "2021-08-03T00:52:13.061353Z",
     "start_time": "2021-08-03T00:52:13.056376Z"
    }
   },
   "outputs": [
    {
     "data": {
      "text/plain": [
       "array([ 0. ,  0.1,  0.2,  0.3,  0.4,  0.5,  0.6,  0.7,  0.8,  0.9,  1. ,\n",
       "        1.1,  1.2,  1.3,  1.4,  1.5,  1.6,  1.7,  1.8,  1.9,  2. ,  2.1,\n",
       "        2.2,  2.3,  2.4,  2.5,  2.6,  2.7,  2.8,  2.9,  3. ,  3.1,  3.2,\n",
       "        3.3,  3.4,  3.5,  3.6,  3.7,  3.8,  3.9,  4. ,  4.1,  4.2,  4.3,\n",
       "        4.4,  4.5,  4.6,  4.7,  4.8,  4.9,  5. ,  5.1,  5.2,  5.3,  5.4,\n",
       "        5.5,  5.6,  5.7,  5.8,  5.9,  6. ,  6.1,  6.2,  6.3,  6.4,  6.5,\n",
       "        6.6,  6.7,  6.8,  6.9,  7. ,  7.1,  7.2,  7.3,  7.4,  7.5,  7.6,\n",
       "        7.7,  7.8,  7.9,  8. ,  8.1,  8.2,  8.3,  8.4,  8.5,  8.6,  8.7,\n",
       "        8.8,  8.9,  9. ,  9.1,  9.2,  9.3,  9.4,  9.5,  9.6,  9.7,  9.8,\n",
       "        9.9, 10. , 10.1, 10.2, 10.3, 10.4, 10.5, 10.6, 10.7, 10.8, 10.9])"
      ]
     },
     "execution_count": 93,
     "metadata": {},
     "output_type": "execute_result"
    }
   ],
   "source": [
    "# Step diferente de 1\n",
    "np.arange(0, 11, 0.1)"
   ]
  },
  {
   "cell_type": "markdown",
   "id": "e0bb5d46",
   "metadata": {
    "ExecuteTime": {
     "end_time": "2021-08-03T00:52:23.827849Z",
     "start_time": "2021-08-03T00:52:23.823847Z"
    }
   },
   "source": [
    "### linspace"
   ]
  },
  {
   "cell_type": "code",
   "execution_count": 95,
   "id": "62bc3fd5",
   "metadata": {
    "ExecuteTime": {
     "end_time": "2021-08-03T00:52:38.718962Z",
     "start_time": "2021-08-03T00:52:38.711961Z"
    }
   },
   "outputs": [
    {
     "data": {
      "text/plain": [
       "array([  0.        ,  11.11111111,  22.22222222,  33.33333333,\n",
       "        44.44444444,  55.55555556,  66.66666667,  77.77777778,\n",
       "        88.88888889, 100.        ])"
      ]
     },
     "execution_count": 95,
     "metadata": {},
     "output_type": "execute_result"
    }
   ],
   "source": [
    " np.linspace(0, 100, num=10)"
   ]
  },
  {
   "cell_type": "markdown",
   "id": "e4fbe0a8",
   "metadata": {
    "ExecuteTime": {
     "end_time": "2021-08-03T00:54:05.714295Z",
     "start_time": "2021-08-03T00:54:05.712294Z"
    }
   },
   "source": [
    "### Tenha cuidado ao copiar arrays!\n",
    "### Jeito errado"
   ]
  },
  {
   "cell_type": "code",
   "execution_count": 96,
   "id": "f2c9e7e0",
   "metadata": {
    "ExecuteTime": {
     "end_time": "2021-08-03T00:52:56.483903Z",
     "start_time": "2021-08-03T00:52:56.478897Z"
    }
   },
   "outputs": [
    {
     "data": {
      "text/plain": [
       "array([1, 2, 3])"
      ]
     },
     "execution_count": 96,
     "metadata": {},
     "output_type": "execute_result"
    }
   ],
   "source": [
    "a = np.array([1, 2, 3])\n",
    "b = a\n",
    "b"
   ]
  },
  {
   "cell_type": "code",
   "execution_count": 97,
   "id": "5c12a201",
   "metadata": {
    "ExecuteTime": {
     "end_time": "2021-08-03T00:53:15.948921Z",
     "start_time": "2021-08-03T00:53:15.944930Z"
    }
   },
   "outputs": [
    {
     "data": {
      "text/plain": [
       "array([100,   2,   3])"
      ]
     },
     "execution_count": 97,
     "metadata": {},
     "output_type": "execute_result"
    }
   ],
   "source": [
    "b[0] = 100\n",
    "b"
   ]
  },
  {
   "cell_type": "code",
   "execution_count": 98,
   "id": "f8d2adbc",
   "metadata": {
    "ExecuteTime": {
     "end_time": "2021-08-03T00:53:17.586510Z",
     "start_time": "2021-08-03T00:53:17.581505Z"
    }
   },
   "outputs": [
    {
     "data": {
      "text/plain": [
       "array([100,   2,   3])"
      ]
     },
     "execution_count": 98,
     "metadata": {},
     "output_type": "execute_result"
    }
   ],
   "source": [
    "a"
   ]
  },
  {
   "cell_type": "markdown",
   "id": "80ffaba0",
   "metadata": {
    "ExecuteTime": {
     "end_time": "2021-08-03T00:54:22.483609Z",
     "start_time": "2021-08-03T00:54:22.480610Z"
    }
   },
   "source": [
    "### Jeito certo"
   ]
  },
  {
   "cell_type": "code",
   "execution_count": 101,
   "id": "3555c5f0",
   "metadata": {
    "ExecuteTime": {
     "end_time": "2021-08-03T00:54:52.740814Z",
     "start_time": "2021-08-03T00:54:52.735811Z"
    }
   },
   "outputs": [
    {
     "data": {
      "text/plain": [
       "array([1, 2, 3])"
      ]
     },
     "execution_count": 101,
     "metadata": {},
     "output_type": "execute_result"
    }
   ],
   "source": [
    "a = np.array([1, 2, 3])\n",
    "b = a.copy()\n",
    "b"
   ]
  },
  {
   "cell_type": "code",
   "execution_count": 102,
   "id": "cc23b269",
   "metadata": {
    "ExecuteTime": {
     "end_time": "2021-08-03T00:54:56.578250Z",
     "start_time": "2021-08-03T00:54:56.575250Z"
    }
   },
   "outputs": [],
   "source": [
    "b[0] = 100"
   ]
  },
  {
   "cell_type": "code",
   "execution_count": 103,
   "id": "8e1ac9c2",
   "metadata": {
    "ExecuteTime": {
     "end_time": "2021-08-03T00:55:01.595639Z",
     "start_time": "2021-08-03T00:55:01.590604Z"
    }
   },
   "outputs": [
    {
     "data": {
      "text/plain": [
       "array([100,   2,   3])"
      ]
     },
     "execution_count": 103,
     "metadata": {},
     "output_type": "execute_result"
    }
   ],
   "source": [
    "b"
   ]
  },
  {
   "cell_type": "code",
   "execution_count": 104,
   "id": "80ebadb6",
   "metadata": {
    "ExecuteTime": {
     "end_time": "2021-08-03T00:55:03.114594Z",
     "start_time": "2021-08-03T00:55:03.109621Z"
    }
   },
   "outputs": [
    {
     "data": {
      "text/plain": [
       "array([1, 2, 3])"
      ]
     },
     "execution_count": 104,
     "metadata": {},
     "output_type": "execute_result"
    }
   ],
   "source": [
    "a"
   ]
  },
  {
   "cell_type": "markdown",
   "id": "6245fbb5",
   "metadata": {},
   "source": [
    "### Matemática"
   ]
  },
  {
   "cell_type": "code",
   "execution_count": 105,
   "id": "803a40c4",
   "metadata": {
    "ExecuteTime": {
     "end_time": "2021-08-03T00:56:45.769700Z",
     "start_time": "2021-08-03T00:56:45.764698Z"
    }
   },
   "outputs": [
    {
     "data": {
      "text/plain": [
       "array([1, 2, 3, 4])"
      ]
     },
     "execution_count": 105,
     "metadata": {},
     "output_type": "execute_result"
    }
   ],
   "source": [
    "a = np.array([1, 2, 3, 4])\n",
    "a"
   ]
  },
  {
   "cell_type": "code",
   "execution_count": 107,
   "id": "6c287701",
   "metadata": {
    "ExecuteTime": {
     "end_time": "2021-08-03T00:57:26.485736Z",
     "start_time": "2021-08-03T00:57:26.479730Z"
    }
   },
   "outputs": [
    {
     "data": {
      "text/plain": [
       "array([3, 4, 5, 6])"
      ]
     },
     "execution_count": 107,
     "metadata": {},
     "output_type": "execute_result"
    }
   ],
   "source": [
    "# Soma\n",
    "a + 2"
   ]
  },
  {
   "cell_type": "code",
   "execution_count": 108,
   "id": "dca8cac8",
   "metadata": {
    "ExecuteTime": {
     "end_time": "2021-08-03T01:06:51.385257Z",
     "start_time": "2021-08-03T01:06:51.374223Z"
    }
   },
   "outputs": [
    {
     "data": {
      "text/plain": [
       "array([-1,  0,  1,  2])"
      ]
     },
     "execution_count": 108,
     "metadata": {},
     "output_type": "execute_result"
    }
   ],
   "source": [
    "# Subtração\n",
    "a - 2"
   ]
  },
  {
   "cell_type": "code",
   "execution_count": 109,
   "id": "14f29480",
   "metadata": {
    "ExecuteTime": {
     "end_time": "2021-08-03T01:07:06.957820Z",
     "start_time": "2021-08-03T01:07:06.941824Z"
    }
   },
   "outputs": [
    {
     "data": {
      "text/plain": [
       "array([2, 4, 6, 8])"
      ]
     },
     "execution_count": 109,
     "metadata": {},
     "output_type": "execute_result"
    }
   ],
   "source": [
    "# multiplicação\n",
    "a * 2"
   ]
  },
  {
   "cell_type": "code",
   "execution_count": 110,
   "id": "16d1f0f1",
   "metadata": {
    "ExecuteTime": {
     "end_time": "2021-08-03T01:07:16.703938Z",
     "start_time": "2021-08-03T01:07:16.695904Z"
    }
   },
   "outputs": [
    {
     "data": {
      "text/plain": [
       "array([0.5, 1. , 1.5, 2. ])"
      ]
     },
     "execution_count": 110,
     "metadata": {},
     "output_type": "execute_result"
    }
   ],
   "source": [
    "# Divisão\n",
    "a / 2"
   ]
  },
  {
   "cell_type": "code",
   "execution_count": 111,
   "id": "b98f4620",
   "metadata": {
    "ExecuteTime": {
     "end_time": "2021-08-03T01:07:29.236239Z",
     "start_time": "2021-08-03T01:07:29.231204Z"
    }
   },
   "outputs": [],
   "source": [
    "# Incrementar\n",
    "a += 2"
   ]
  },
  {
   "cell_type": "code",
   "execution_count": 112,
   "id": "f2e52562",
   "metadata": {
    "ExecuteTime": {
     "end_time": "2021-08-03T01:07:39.814507Z",
     "start_time": "2021-08-03T01:07:39.806511Z"
    }
   },
   "outputs": [
    {
     "data": {
      "text/plain": [
       "array([ 9, 16, 25, 36], dtype=int32)"
      ]
     },
     "execution_count": 112,
     "metadata": {},
     "output_type": "execute_result"
    }
   ],
   "source": [
    "# Potência\n",
    "a ** 2"
   ]
  },
  {
   "cell_type": "markdown",
   "id": "509a433c",
   "metadata": {
    "ExecuteTime": {
     "end_time": "2021-08-03T01:07:50.209911Z",
     "start_time": "2021-08-03T01:07:50.196913Z"
    }
   },
   "source": [
    "### Operação entre arrays"
   ]
  },
  {
   "cell_type": "code",
   "execution_count": 114,
   "id": "00a9b4c7",
   "metadata": {
    "ExecuteTime": {
     "end_time": "2021-08-03T01:08:04.580936Z",
     "start_time": "2021-08-03T01:08:04.565309Z"
    }
   },
   "outputs": [
    {
     "data": {
      "text/plain": [
       "array([2, 2, 4, 4])"
      ]
     },
     "execution_count": 114,
     "metadata": {},
     "output_type": "execute_result"
    }
   ],
   "source": [
    "a = np.array([1, 2, 3, 4])\n",
    "b = np.array([1, 0, 1, 0])\n",
    "a + b"
   ]
  },
  {
   "cell_type": "markdown",
   "id": "935def74",
   "metadata": {},
   "source": [
    "### Funções matemáticas"
   ]
  },
  {
   "cell_type": "code",
   "execution_count": 115,
   "id": "3443281c",
   "metadata": {
    "ExecuteTime": {
     "end_time": "2021-08-03T01:08:28.174614Z",
     "start_time": "2021-08-03T01:08:28.164617Z"
    }
   },
   "outputs": [
    {
     "data": {
      "text/plain": [
       "array([ 0.84147098,  0.90929743,  0.14112001, -0.7568025 ])"
      ]
     },
     "execution_count": 115,
     "metadata": {},
     "output_type": "execute_result"
    }
   ],
   "source": [
    "# Função seno\n",
    "np.sin(a)"
   ]
  },
  {
   "cell_type": "code",
   "execution_count": 116,
   "id": "056fb1dc",
   "metadata": {
    "ExecuteTime": {
     "end_time": "2021-08-03T01:08:47.529373Z",
     "start_time": "2021-08-03T01:08:47.524405Z"
    }
   },
   "outputs": [
    {
     "data": {
      "text/plain": [
       "array([ 0.54030231, -0.41614684, -0.9899925 , -0.65364362])"
      ]
     },
     "execution_count": 116,
     "metadata": {},
     "output_type": "execute_result"
    }
   ],
   "source": [
    "# Função cosseno\n",
    "np.cos(a)"
   ]
  },
  {
   "cell_type": "markdown",
   "id": "f8d236b9",
   "metadata": {
    "ExecuteTime": {
     "end_time": "2021-08-03T01:08:56.971508Z",
     "start_time": "2021-08-03T01:08:56.965465Z"
    }
   },
   "source": [
    "### Álgebra Linear"
   ]
  },
  {
   "cell_type": "code",
   "execution_count": 118,
   "id": "9436576f",
   "metadata": {
    "ExecuteTime": {
     "end_time": "2021-08-03T01:09:36.094019Z",
     "start_time": "2021-08-03T01:09:36.086016Z"
    }
   },
   "outputs": [
    {
     "name": "stdout",
     "output_type": "stream",
     "text": [
      "[[1. 1. 1.]\n",
      " [1. 1. 1.]]\n"
     ]
    }
   ],
   "source": [
    "a = np.ones((2, 3))\n",
    "print(a)"
   ]
  },
  {
   "cell_type": "code",
   "execution_count": 119,
   "id": "468fe237",
   "metadata": {
    "ExecuteTime": {
     "end_time": "2021-08-03T01:09:36.615713Z",
     "start_time": "2021-08-03T01:09:36.612745Z"
    }
   },
   "outputs": [
    {
     "name": "stdout",
     "output_type": "stream",
     "text": [
      "[[2 2]\n",
      " [2 2]\n",
      " [2 2]]\n"
     ]
    }
   ],
   "source": [
    "b = np.full((3, 2), 2)\n",
    "print(b)"
   ]
  },
  {
   "cell_type": "code",
   "execution_count": 120,
   "id": "8995689f",
   "metadata": {
    "ExecuteTime": {
     "end_time": "2021-08-03T01:09:52.546868Z",
     "start_time": "2021-08-03T01:09:52.531868Z"
    }
   },
   "outputs": [
    {
     "data": {
      "text/plain": [
       "array([[1., 1.],\n",
       "       [1., 1.],\n",
       "       [1., 1.]])"
      ]
     },
     "execution_count": 120,
     "metadata": {},
     "output_type": "execute_result"
    }
   ],
   "source": [
    "# Transposição\n",
    "np.transpose(a)"
   ]
  },
  {
   "cell_type": "code",
   "execution_count": 121,
   "id": "7bfdcaf9",
   "metadata": {
    "ExecuteTime": {
     "end_time": "2021-08-03T01:10:02.781477Z",
     "start_time": "2021-08-03T01:10:02.766481Z"
    }
   },
   "outputs": [
    {
     "data": {
      "text/plain": [
       "array([[1., 1.],\n",
       "       [1., 1.],\n",
       "       [1., 1.]])"
      ]
     },
     "execution_count": 121,
     "metadata": {},
     "output_type": "execute_result"
    }
   ],
   "source": [
    "a.T"
   ]
  },
  {
   "cell_type": "markdown",
   "id": "119d761d",
   "metadata": {
    "ExecuteTime": {
     "end_time": "2021-08-03T01:10:11.061324Z",
     "start_time": "2021-08-03T01:10:11.054326Z"
    }
   },
   "source": [
    "### Multiplicação de matrizes"
   ]
  },
  {
   "cell_type": "code",
   "execution_count": 123,
   "id": "f3de3a96",
   "metadata": {
    "ExecuteTime": {
     "end_time": "2021-08-03T01:10:21.306626Z",
     "start_time": "2021-08-03T01:10:21.253671Z"
    }
   },
   "outputs": [
    {
     "data": {
      "text/plain": [
       "array([[6., 6.],\n",
       "       [6., 6.]])"
      ]
     },
     "execution_count": 123,
     "metadata": {},
     "output_type": "execute_result"
    }
   ],
   "source": [
    "np.matmul(a, b)"
   ]
  },
  {
   "cell_type": "code",
   "execution_count": 124,
   "id": "c0d8f112",
   "metadata": {
    "ExecuteTime": {
     "end_time": "2021-08-03T01:10:34.658664Z",
     "start_time": "2021-08-03T01:10:34.653698Z"
    }
   },
   "outputs": [
    {
     "data": {
      "text/plain": [
       "array([[6., 6.],\n",
       "       [6., 6.]])"
      ]
     },
     "execution_count": 124,
     "metadata": {},
     "output_type": "execute_result"
    }
   ],
   "source": [
    "a @ b"
   ]
  },
  {
   "cell_type": "markdown",
   "id": "465e6f73",
   "metadata": {},
   "source": [
    "### Estatística"
   ]
  },
  {
   "cell_type": "code",
   "execution_count": 125,
   "id": "fd73770d",
   "metadata": {
    "ExecuteTime": {
     "end_time": "2021-08-03T14:16:04.461716Z",
     "start_time": "2021-08-03T14:16:04.454718Z"
    }
   },
   "outputs": [
    {
     "data": {
      "text/plain": [
       "array([[1, 2, 3],\n",
       "       [4, 5, 6]])"
      ]
     },
     "execution_count": 125,
     "metadata": {},
     "output_type": "execute_result"
    }
   ],
   "source": [
    "stats = np.array([[1, 2, 3], [4, 5, 6]])\n",
    "stats"
   ]
  },
  {
   "cell_type": "code",
   "execution_count": 126,
   "id": "5ad29192",
   "metadata": {
    "ExecuteTime": {
     "end_time": "2021-08-03T14:16:10.648094Z",
     "start_time": "2021-08-03T14:16:10.643092Z"
    }
   },
   "outputs": [
    {
     "data": {
      "text/plain": [
       "1"
      ]
     },
     "execution_count": 126,
     "metadata": {},
     "output_type": "execute_result"
    }
   ],
   "source": [
    "np.min(stats)"
   ]
  },
  {
   "cell_type": "code",
   "execution_count": 127,
   "id": "976bf87b",
   "metadata": {
    "ExecuteTime": {
     "end_time": "2021-08-03T14:16:15.434826Z",
     "start_time": "2021-08-03T14:16:15.429802Z"
    }
   },
   "outputs": [
    {
     "data": {
      "text/plain": [
       "6"
      ]
     },
     "execution_count": 127,
     "metadata": {},
     "output_type": "execute_result"
    }
   ],
   "source": [
    "np.max(stats)"
   ]
  },
  {
   "cell_type": "code",
   "execution_count": 128,
   "id": "216b00b3",
   "metadata": {
    "ExecuteTime": {
     "end_time": "2021-08-03T14:16:21.179122Z",
     "start_time": "2021-08-03T14:16:21.174119Z"
    }
   },
   "outputs": [
    {
     "data": {
      "text/plain": [
       "array([1, 4])"
      ]
     },
     "execution_count": 128,
     "metadata": {},
     "output_type": "execute_result"
    }
   ],
   "source": [
    "# Mínimo por linha\n",
    "np.min(stats, axis=1)"
   ]
  },
  {
   "cell_type": "code",
   "execution_count": 129,
   "id": "19014ff6",
   "metadata": {
    "ExecuteTime": {
     "end_time": "2021-08-03T14:16:45.915900Z",
     "start_time": "2021-08-03T14:16:45.910900Z"
    }
   },
   "outputs": [
    {
     "data": {
      "text/plain": [
       "array([4, 5, 6])"
      ]
     },
     "execution_count": 129,
     "metadata": {},
     "output_type": "execute_result"
    }
   ],
   "source": [
    "# Máximo por coluna\n",
    "np.max(stats, axis=0)"
   ]
  },
  {
   "cell_type": "code",
   "execution_count": 130,
   "id": "b2d624bd",
   "metadata": {
    "ExecuteTime": {
     "end_time": "2021-08-03T14:16:58.473547Z",
     "start_time": "2021-08-03T14:16:58.469542Z"
    }
   },
   "outputs": [
    {
     "data": {
      "text/plain": [
       "array([5, 7, 9])"
      ]
     },
     "execution_count": 130,
     "metadata": {},
     "output_type": "execute_result"
    }
   ],
   "source": [
    "# Soma por coluna\n",
    "np.sum(stats, axis=0)"
   ]
  },
  {
   "cell_type": "code",
   "execution_count": 131,
   "id": "5211636b",
   "metadata": {
    "ExecuteTime": {
     "end_time": "2021-08-03T14:17:14.403908Z",
     "start_time": "2021-08-03T14:17:14.397906Z"
    }
   },
   "outputs": [
    {
     "data": {
      "text/plain": [
       "3.5"
      ]
     },
     "execution_count": 131,
     "metadata": {},
     "output_type": "execute_result"
    }
   ],
   "source": [
    "# Média\n",
    "np.average(stats)"
   ]
  },
  {
   "cell_type": "markdown",
   "id": "6aab79af",
   "metadata": {},
   "source": [
    "### Reorganizar Array"
   ]
  },
  {
   "cell_type": "code",
   "execution_count": 133,
   "id": "a28fb2a4",
   "metadata": {
    "ExecuteTime": {
     "end_time": "2021-08-03T14:19:50.825405Z",
     "start_time": "2021-08-03T14:19:50.821405Z"
    }
   },
   "outputs": [
    {
     "name": "stdout",
     "output_type": "stream",
     "text": [
      "(2, 4)\n"
     ]
    }
   ],
   "source": [
    "# Reshape\n",
    "before = np.array([[1,2,3,4],[5,6,7,8]])\n",
    "print(before.shape)"
   ]
  },
  {
   "cell_type": "code",
   "execution_count": 134,
   "id": "a58b8d55",
   "metadata": {
    "ExecuteTime": {
     "end_time": "2021-08-03T14:19:59.417386Z",
     "start_time": "2021-08-03T14:19:59.411388Z"
    }
   },
   "outputs": [
    {
     "data": {
      "text/plain": [
       "array([[1],\n",
       "       [2],\n",
       "       [3],\n",
       "       [4],\n",
       "       [5],\n",
       "       [6],\n",
       "       [7],\n",
       "       [8]])"
      ]
     },
     "execution_count": 134,
     "metadata": {},
     "output_type": "execute_result"
    }
   ],
   "source": [
    "after = before.reshape((8, 1)) # tem que possuir a mesma quantidade!\n",
    "after"
   ]
  },
  {
   "cell_type": "code",
   "execution_count": 135,
   "id": "202ca33f",
   "metadata": {
    "ExecuteTime": {
     "end_time": "2021-08-03T14:20:07.746861Z",
     "start_time": "2021-08-03T14:20:07.740857Z"
    }
   },
   "outputs": [
    {
     "data": {
      "text/plain": [
       "array([[[1, 2],\n",
       "        [3, 4]],\n",
       "\n",
       "       [[5, 6],\n",
       "        [7, 8]]])"
      ]
     },
     "execution_count": 135,
     "metadata": {},
     "output_type": "execute_result"
    }
   ],
   "source": [
    "before.reshape(2, 2, 2)"
   ]
  },
  {
   "cell_type": "markdown",
   "id": "100ea915",
   "metadata": {
    "ExecuteTime": {
     "end_time": "2021-08-03T14:20:18.630930Z",
     "start_time": "2021-08-03T14:20:18.626971Z"
    }
   },
   "source": [
    "### Anexar verticalmente os vetores"
   ]
  },
  {
   "cell_type": "code",
   "execution_count": 137,
   "id": "133d1216",
   "metadata": {
    "ExecuteTime": {
     "end_time": "2021-08-03T14:20:27.783528Z",
     "start_time": "2021-08-03T14:20:27.780524Z"
    }
   },
   "outputs": [],
   "source": [
    "v1 = np.array([1,2,3,4])\n",
    "v2 = np.array([5,6,7,8])"
   ]
  },
  {
   "cell_type": "code",
   "execution_count": 138,
   "id": "370ff0ae",
   "metadata": {
    "ExecuteTime": {
     "end_time": "2021-08-03T14:20:32.972950Z",
     "start_time": "2021-08-03T14:20:32.966949Z"
    }
   },
   "outputs": [
    {
     "data": {
      "text/plain": [
       "array([[1, 2, 3, 4],\n",
       "       [5, 6, 7, 8]])"
      ]
     },
     "execution_count": 138,
     "metadata": {},
     "output_type": "execute_result"
    }
   ],
   "source": [
    "np.vstack([v1, v2])"
   ]
  },
  {
   "cell_type": "markdown",
   "id": "3b4a6dfb",
   "metadata": {},
   "source": [
    "### Apendar horizontalmente os vetores"
   ]
  },
  {
   "cell_type": "code",
   "execution_count": 139,
   "id": "f7100830",
   "metadata": {
    "ExecuteTime": {
     "end_time": "2021-08-03T14:20:59.647784Z",
     "start_time": "2021-08-03T14:20:59.644813Z"
    }
   },
   "outputs": [],
   "source": [
    "h1 = np.ones((2, 4))\n",
    "h2 = np.zeros((2, 2))"
   ]
  },
  {
   "cell_type": "code",
   "execution_count": 140,
   "id": "99d87cdd",
   "metadata": {
    "ExecuteTime": {
     "end_time": "2021-08-03T14:21:00.771906Z",
     "start_time": "2021-08-03T14:21:00.766937Z"
    }
   },
   "outputs": [
    {
     "data": {
      "text/plain": [
       "array([[1., 1., 1., 1., 0., 0.],\n",
       "       [1., 1., 1., 1., 0., 0.]])"
      ]
     },
     "execution_count": 140,
     "metadata": {},
     "output_type": "execute_result"
    }
   ],
   "source": [
    "np.hstack((h1, h2))"
   ]
  },
  {
   "cell_type": "markdown",
   "id": "efad69ec",
   "metadata": {},
   "source": [
    "### Funcionalidades extras"
   ]
  },
  {
   "cell_type": "code",
   "execution_count": null,
   "id": "ec351d99",
   "metadata": {},
   "outputs": [],
   "source": [
    "# Carregar dados de um arquivo\n",
    "\n",
    "1,13,21,11,196,75,4,3,34,6,7,8,0,1,2,3,4,5\n",
    "3,42,12,33,766,75,4,55,6,4,3,4,5,6,7,0,11,12\n",
    "1,22,33,11,999,11,2,1,78,0,1,2,9,8,7,1,76,88\n"
   ]
  },
  {
   "cell_type": "code",
   "execution_count": 141,
   "id": "cb51977c",
   "metadata": {
    "ExecuteTime": {
     "end_time": "2021-08-03T14:24:09.245014Z",
     "start_time": "2021-08-03T14:24:09.227014Z"
    }
   },
   "outputs": [
    {
     "data": {
      "text/plain": [
       "array([[  1.,  13.,  21.,  11., 196.,  75.,   4.,   3.,  34.,   6.,   7.,\n",
       "          8.,   0.,   1.,   2.,   3.,   4.,   5.],\n",
       "       [  3.,  42.,  12.,  33., 766.,  75.,   4.,  55.,   6.,   4.,   3.,\n",
       "          4.,   5.,   6.,   7.,   0.,  11.,  12.],\n",
       "       [  1.,  22.,  33.,  11., 999.,  11.,   2.,   1.,  78.,   0.,   1.,\n",
       "          2.,   9.,   8.,   7.,   1.,  76.,  88.]])"
      ]
     },
     "execution_count": 141,
     "metadata": {},
     "output_type": "execute_result"
    }
   ],
   "source": [
    "filedata = np.genfromtxt('data.txt', delimiter=',')\n",
    "filedata"
   ]
  },
  {
   "cell_type": "code",
   "execution_count": 142,
   "id": "89780e70",
   "metadata": {
    "ExecuteTime": {
     "end_time": "2021-08-03T14:58:19.287007Z",
     "start_time": "2021-08-03T14:58:19.275971Z"
    }
   },
   "outputs": [
    {
     "data": {
      "text/plain": [
       "array([[  1,  13,  21,  11, 196,  75,   4,   3,  34,   6,   7,   8,   0,\n",
       "          1,   2,   3,   4,   5],\n",
       "       [  3,  42,  12,  33, 766,  75,   4,  55,   6,   4,   3,   4,   5,\n",
       "          6,   7,   0,  11,  12],\n",
       "       [  1,  22,  33,  11, 999,  11,   2,   1,  78,   0,   1,   2,   9,\n",
       "          8,   7,   1,  76,  88]])"
      ]
     },
     "execution_count": 142,
     "metadata": {},
     "output_type": "execute_result"
    }
   ],
   "source": [
    "filedata.astype('int32')"
   ]
  },
  {
   "cell_type": "code",
   "execution_count": 145,
   "id": "2930ff13",
   "metadata": {
    "ExecuteTime": {
     "end_time": "2021-08-03T15:00:09.898226Z",
     "start_time": "2021-08-03T15:00:09.885226Z"
    }
   },
   "outputs": [],
   "source": [
    "# salvar uma matriz\n",
    "np.save('data', filedata.astype('int32'))"
   ]
  },
  {
   "cell_type": "code",
   "execution_count": 146,
   "id": "295da744",
   "metadata": {
    "ExecuteTime": {
     "end_time": "2021-08-03T15:00:27.298513Z",
     "start_time": "2021-08-03T15:00:27.276523Z"
    }
   },
   "outputs": [],
   "source": [
    "# comprime os dados\n",
    "np.savez_compressed('dataz', filedata)"
   ]
  },
  {
   "cell_type": "code",
   "execution_count": 147,
   "id": "4b85fe95",
   "metadata": {
    "ExecuteTime": {
     "end_time": "2021-08-03T15:00:35.003519Z",
     "start_time": "2021-08-03T15:00:34.980553Z"
    }
   },
   "outputs": [
    {
     "data": {
      "text/plain": [
       "array([[  1,  13,  21,  11, 196,  75,   4,   3,  34,   6,   7,   8,   0,\n",
       "          1,   2,   3,   4,   5],\n",
       "       [  3,  42,  12,  33, 766,  75,   4,  55,   6,   4,   3,   4,   5,\n",
       "          6,   7,   0,  11,  12],\n",
       "       [  1,  22,  33,  11, 999,  11,   2,   1,  78,   0,   1,   2,   9,\n",
       "          8,   7,   1,  76,  88]])"
      ]
     },
     "execution_count": 147,
     "metadata": {},
     "output_type": "execute_result"
    }
   ],
   "source": [
    "np.load('data.npy')"
   ]
  },
  {
   "cell_type": "markdown",
   "id": "8bf8559e",
   "metadata": {
    "ExecuteTime": {
     "end_time": "2021-08-03T15:00:43.070486Z",
     "start_time": "2021-08-03T15:00:43.052489Z"
    }
   },
   "source": [
    "### Máscara Boleana e Seleção Avançada"
   ]
  },
  {
   "cell_type": "code",
   "execution_count": 149,
   "id": "18a04301",
   "metadata": {
    "ExecuteTime": {
     "end_time": "2021-08-03T15:00:56.592640Z",
     "start_time": "2021-08-03T15:00:56.573620Z"
    }
   },
   "outputs": [
    {
     "data": {
      "text/plain": [
       "array([[1, 2, 3]])"
      ]
     },
     "execution_count": 149,
     "metadata": {},
     "output_type": "execute_result"
    }
   ],
   "source": [
    "mat = np.array([1, 10, 20, 30]).reshape(2, 2)\n",
    "arr"
   ]
  },
  {
   "cell_type": "code",
   "execution_count": 150,
   "id": "b2835e13",
   "metadata": {
    "ExecuteTime": {
     "end_time": "2021-08-03T15:01:24.761585Z",
     "start_time": "2021-08-03T15:01:24.748588Z"
    }
   },
   "outputs": [
    {
     "data": {
      "text/plain": [
       "array([[False, False],\n",
       "       [ True,  True]])"
      ]
     },
     "execution_count": 150,
     "metadata": {},
     "output_type": "execute_result"
    }
   ],
   "source": [
    "mat > 10"
   ]
  },
  {
   "cell_type": "code",
   "execution_count": 151,
   "id": "4054a618",
   "metadata": {
    "ExecuteTime": {
     "end_time": "2021-08-03T15:01:32.200104Z",
     "start_time": "2021-08-03T15:01:32.181070Z"
    }
   },
   "outputs": [
    {
     "data": {
      "text/plain": [
       "array([20, 30])"
      ]
     },
     "execution_count": 151,
     "metadata": {},
     "output_type": "execute_result"
    }
   ],
   "source": [
    "mat[mat > 10]"
   ]
  },
  {
   "cell_type": "code",
   "execution_count": 152,
   "id": "dc69ada0",
   "metadata": {
    "ExecuteTime": {
     "end_time": "2021-08-03T15:01:50.627105Z",
     "start_time": "2021-08-03T15:01:50.622003Z"
    }
   },
   "outputs": [
    {
     "data": {
      "text/plain": [
       "array([ True,  True])"
      ]
     },
     "execution_count": 152,
     "metadata": {},
     "output_type": "execute_result"
    }
   ],
   "source": [
    "# Por coluna\n",
    "np.any(mat > 10, axis=0)"
   ]
  },
  {
   "cell_type": "code",
   "execution_count": 153,
   "id": "fe280a57",
   "metadata": {
    "ExecuteTime": {
     "end_time": "2021-08-03T15:02:04.658323Z",
     "start_time": "2021-08-03T15:02:04.650326Z"
    }
   },
   "outputs": [
    {
     "data": {
      "text/plain": [
       "array([False,  True])"
      ]
     },
     "execution_count": 153,
     "metadata": {},
     "output_type": "execute_result"
    }
   ],
   "source": [
    "# Por linha\n",
    "np.any(mat > 10, axis=1)"
   ]
  },
  {
   "cell_type": "code",
   "execution_count": 154,
   "id": "d20903dc",
   "metadata": {
    "ExecuteTime": {
     "end_time": "2021-08-03T15:02:22.661713Z",
     "start_time": "2021-08-03T15:02:22.645720Z"
    }
   },
   "outputs": [
    {
     "data": {
      "text/plain": [
       "array([20])"
      ]
     },
     "execution_count": 154,
     "metadata": {},
     "output_type": "execute_result"
    }
   ],
   "source": [
    "# Operador AND\n",
    "filt = (mat > 10) & (mat <= 20)\n",
    "mat[filt]"
   ]
  },
  {
   "cell_type": "code",
   "execution_count": 155,
   "id": "17869c3a",
   "metadata": {
    "ExecuteTime": {
     "end_time": "2021-08-03T15:02:43.062997Z",
     "start_time": "2021-08-03T15:02:43.046002Z"
    }
   },
   "outputs": [
    {
     "data": {
      "text/plain": [
       "array([ 1, 20, 30])"
      ]
     },
     "execution_count": 155,
     "metadata": {},
     "output_type": "execute_result"
    }
   ],
   "source": [
    "# Operador OR\n",
    "filt = (mat == 1) | (mat >= 20)\n",
    "mat[filt]"
   ]
  },
  {
   "cell_type": "code",
   "execution_count": 156,
   "id": "938b85ed",
   "metadata": {
    "ExecuteTime": {
     "end_time": "2021-08-03T15:03:00.399895Z",
     "start_time": "2021-08-03T15:03:00.390898Z"
    }
   },
   "outputs": [
    {
     "data": {
      "text/plain": [
       "array([10])"
      ]
     },
     "execution_count": 156,
     "metadata": {},
     "output_type": "execute_result"
    }
   ],
   "source": [
    "# Operador NOT\n",
    "filt = (mat == 1) | (mat >= 20)\n",
    "mat[~filt]"
   ]
  },
  {
   "cell_type": "markdown",
   "id": "de294f1f",
   "metadata": {},
   "source": [
    "### Seleção passando listas"
   ]
  },
  {
   "cell_type": "code",
   "execution_count": 157,
   "id": "789a676c",
   "metadata": {
    "ExecuteTime": {
     "end_time": "2021-08-03T15:03:21.631357Z",
     "start_time": "2021-08-03T15:03:21.621360Z"
    }
   },
   "outputs": [],
   "source": [
    "a = np.array([1, 2, 3, 4, 5, 6, 7, 8, 9])"
   ]
  },
  {
   "cell_type": "code",
   "execution_count": 158,
   "id": "bb29d89f",
   "metadata": {
    "ExecuteTime": {
     "end_time": "2021-08-03T15:03:26.832399Z",
     "start_time": "2021-08-03T15:03:26.821400Z"
    }
   },
   "outputs": [
    {
     "data": {
      "text/plain": [
       "array([2, 3, 9])"
      ]
     },
     "execution_count": 158,
     "metadata": {},
     "output_type": "execute_result"
    }
   ],
   "source": [
    "a[[1, 2, 8]]"
   ]
  },
  {
   "cell_type": "code",
   "execution_count": null,
   "id": "cf7aff04",
   "metadata": {},
   "outputs": [],
   "source": []
  }
 ],
 "metadata": {
  "kernelspec": {
   "display_name": "Python 3",
   "language": "python",
   "name": "python3"
  },
  "language_info": {
   "codemirror_mode": {
    "name": "ipython",
    "version": 3
   },
   "file_extension": ".py",
   "mimetype": "text/x-python",
   "name": "python",
   "nbconvert_exporter": "python",
   "pygments_lexer": "ipython3",
   "version": "3.8.10"
  }
 },
 "nbformat": 4,
 "nbformat_minor": 5
}
