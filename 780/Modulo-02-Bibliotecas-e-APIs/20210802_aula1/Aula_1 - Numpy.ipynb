{
 "cells": [
  {
   "cell_type": "markdown",
   "metadata": {
    "ExecuteTime": {
     "end_time": "2021-02-19T15:17:56.469532Z",
     "start_time": "2021-02-19T15:17:56.409648Z"
    }
   },
   "source": [
    "## Aula 1: Introdução ao Numpy e Pandas\n",
    "\n",
    "### Bibliotecas usadas\n",
    "As seguintes bibliotecas serão usadas:\n",
    " - Numpy;\n",
    " - Pandas.\n"
   ]
  },
  {
   "cell_type": "markdown",
   "metadata": {},
   "source": [
    "## Códigos"
   ]
  },
  {
   "cell_type": "markdown",
   "metadata": {},
   "source": [
    "### Numpy"
   ]
  },
  {
   "cell_type": "markdown",
   "metadata": {},
   "source": [
    "Numpy é uma biblioteca das principais bibliotecas do Python, devido a sua grande velocidade e eficiência ele é extremamente utilizada para computação científica e analise de dados. Esta fama se da principalmente a estrutura chamada [numpy array](https://docs.scipy.org/doc/numpy/reference/arrays.html), um forma eficiente de guardar e manipular matrizes, que serve como base para as tabelas que iremos utilizar.\n",
    "\n",
    "Abaixo começaremos o codigo passado em aula:"
   ]
  },
  {
   "cell_type": "code",
   "execution_count": 3,
   "metadata": {
    "ExecuteTime": {
     "end_time": "2021-08-06T22:35:59.161932Z",
     "start_time": "2021-08-06T22:35:59.012674Z"
    }
   },
   "outputs": [],
   "source": [
    "import numpy as np"
   ]
  },
  {
   "cell_type": "markdown",
   "metadata": {},
   "source": [
    "#### Criando listas/vetores/arrays"
   ]
  },
  {
   "cell_type": "code",
   "execution_count": 2,
   "metadata": {},
   "outputs": [],
   "source": [
    "lista = [1, 2, 10, 20, 34, 54]"
   ]
  },
  {
   "cell_type": "code",
   "execution_count": 3,
   "metadata": {},
   "outputs": [
    {
     "data": {
      "text/plain": [
       "[1, 2, 10, 20, 34, 54]"
      ]
     },
     "execution_count": 3,
     "metadata": {},
     "output_type": "execute_result"
    }
   ],
   "source": [
    "lista"
   ]
  },
  {
   "cell_type": "code",
   "execution_count": 4,
   "metadata": {},
   "outputs": [],
   "source": [
    "vetor_numpy = np.array(lista)"
   ]
  },
  {
   "cell_type": "code",
   "execution_count": 5,
   "metadata": {},
   "outputs": [
    {
     "data": {
      "text/plain": [
       "array([ 1,  2, 10, 20, 34, 54])"
      ]
     },
     "execution_count": 5,
     "metadata": {},
     "output_type": "execute_result"
    }
   ],
   "source": [
    "vetor_numpy"
   ]
  },
  {
   "cell_type": "code",
   "execution_count": 6,
   "metadata": {},
   "outputs": [
    {
     "data": {
      "text/plain": [
       "numpy.ndarray"
      ]
     },
     "execution_count": 6,
     "metadata": {},
     "output_type": "execute_result"
    }
   ],
   "source": [
    "type(vetor_numpy)"
   ]
  },
  {
   "cell_type": "code",
   "execution_count": 7,
   "metadata": {},
   "outputs": [],
   "source": [
    "n = 10\n",
    "lista_zeros = [0] * n"
   ]
  },
  {
   "cell_type": "code",
   "execution_count": 9,
   "metadata": {},
   "outputs": [
    {
     "name": "stdout",
     "output_type": "stream",
     "text": [
      "[0, 0, 0, 0, 0, 0, 0, 0, 0, 0]\n",
      "10\n"
     ]
    }
   ],
   "source": [
    "print(lista_zeros)\n",
    "print(len(lista_zeros))"
   ]
  },
  {
   "cell_type": "code",
   "execution_count": 10,
   "metadata": {
    "ExecuteTime": {
     "end_time": "2020-01-04T20:58:06.783851Z",
     "start_time": "2020-01-04T20:58:06.776364Z"
    }
   },
   "outputs": [],
   "source": [
    "zeros = np.zeros(n)"
   ]
  },
  {
   "cell_type": "code",
   "execution_count": 14,
   "metadata": {},
   "outputs": [
    {
     "data": {
      "text/plain": [
       "array([0., 0., 0., 0., 0., 0., 0., 0., 0., 0.])"
      ]
     },
     "execution_count": 14,
     "metadata": {},
     "output_type": "execute_result"
    }
   ],
   "source": [
    "zeros"
   ]
  },
  {
   "cell_type": "code",
   "execution_count": 15,
   "metadata": {},
   "outputs": [],
   "source": [
    "uns = np.ones(n)"
   ]
  },
  {
   "cell_type": "code",
   "execution_count": 16,
   "metadata": {},
   "outputs": [
    {
     "data": {
      "text/plain": [
       "array([1., 1., 1., 1., 1., 1., 1., 1., 1., 1.])"
      ]
     },
     "execution_count": 16,
     "metadata": {},
     "output_type": "execute_result"
    }
   ],
   "source": [
    "uns"
   ]
  },
  {
   "cell_type": "code",
   "execution_count": 17,
   "metadata": {},
   "outputs": [],
   "source": [
    "cincos = np.ones(n) * 5"
   ]
  },
  {
   "cell_type": "code",
   "execution_count": 18,
   "metadata": {},
   "outputs": [
    {
     "data": {
      "text/plain": [
       "array([5., 5., 5., 5., 5., 5., 5., 5., 5., 5.])"
      ]
     },
     "execution_count": 18,
     "metadata": {},
     "output_type": "execute_result"
    }
   ],
   "source": [
    "cincos"
   ]
  },
  {
   "cell_type": "code",
   "execution_count": 19,
   "metadata": {},
   "outputs": [
    {
     "data": {
      "text/plain": [
       "array([50., 50., 50., 50., 50., 50., 50., 50., 50., 50.])"
      ]
     },
     "execution_count": 19,
     "metadata": {},
     "output_type": "execute_result"
    }
   ],
   "source": [
    "cincos * 10"
   ]
  },
  {
   "cell_type": "code",
   "execution_count": 20,
   "metadata": {},
   "outputs": [],
   "source": [
    "lista_cincos = [5] * n"
   ]
  },
  {
   "cell_type": "code",
   "execution_count": 23,
   "metadata": {
    "ExecuteTime": {
     "end_time": "2020-01-04T18:51:19.342075Z",
     "start_time": "2020-01-04T18:51:19.337069Z"
    }
   },
   "outputs": [
    {
     "data": {
      "text/plain": [
       "[0, 2, 4, 6, 8]"
      ]
     },
     "execution_count": 23,
     "metadata": {},
     "output_type": "execute_result"
    }
   ],
   "source": [
    "list(range(0, 10, 2))"
   ]
  },
  {
   "cell_type": "code",
   "execution_count": 24,
   "metadata": {},
   "outputs": [
    {
     "data": {
      "text/plain": [
       "array([0, 1, 2, 3, 4, 5, 6, 7, 8, 9])"
      ]
     },
     "execution_count": 24,
     "metadata": {},
     "output_type": "execute_result"
    }
   ],
   "source": [
    "np.arange(0, 10)"
   ]
  },
  {
   "cell_type": "code",
   "execution_count": 25,
   "metadata": {},
   "outputs": [
    {
     "data": {
      "text/plain": [
       "array([0, 2, 4, 6, 8])"
      ]
     },
     "execution_count": 25,
     "metadata": {},
     "output_type": "execute_result"
    }
   ],
   "source": [
    "np.arange(0, 10, 2)"
   ]
  },
  {
   "cell_type": "code",
   "execution_count": 29,
   "metadata": {
    "ExecuteTime": {
     "end_time": "2020-01-04T18:51:25.950769Z",
     "start_time": "2020-01-04T18:51:25.943781Z"
    }
   },
   "outputs": [
    {
     "data": {
      "text/plain": [
       "[0.0,\n",
       " 0.05,\n",
       " 0.1,\n",
       " 0.15,\n",
       " 0.2,\n",
       " 0.25,\n",
       " 0.3,\n",
       " 0.35,\n",
       " 0.4,\n",
       " 0.45,\n",
       " 0.5,\n",
       " 0.55,\n",
       " 0.6,\n",
       " 0.65,\n",
       " 0.7,\n",
       " 0.75,\n",
       " 0.8,\n",
       " 0.85,\n",
       " 0.9,\n",
       " 0.95,\n",
       " 1.0]"
      ]
     },
     "execution_count": 29,
     "metadata": {},
     "output_type": "execute_result"
    }
   ],
   "source": [
    "[x/20 for x in range(0, 21)]"
   ]
  },
  {
   "cell_type": "code",
   "execution_count": 38,
   "metadata": {},
   "outputs": [
    {
     "data": {
      "text/plain": [
       "array([0.  , 0.05, 0.1 , 0.15, 0.2 , 0.25, 0.3 , 0.35, 0.4 , 0.45, 0.5 ,\n",
       "       0.55, 0.6 , 0.65, 0.7 , 0.75, 0.8 , 0.85, 0.9 , 0.95, 1.  ])"
      ]
     },
     "execution_count": 38,
     "metadata": {},
     "output_type": "execute_result"
    }
   ],
   "source": [
    "np.linspace(0, 1, 21)"
   ]
  },
  {
   "cell_type": "code",
   "execution_count": 36,
   "metadata": {},
   "outputs": [
    {
     "data": {
      "text/plain": [
       "array([0.  , 0.01, 0.02, 0.03, 0.04, 0.05, 0.06, 0.07, 0.08, 0.09, 0.1 ,\n",
       "       0.11, 0.12, 0.13, 0.14, 0.15, 0.16, 0.17, 0.18, 0.19, 0.2 , 0.21,\n",
       "       0.22, 0.23, 0.24, 0.25, 0.26, 0.27, 0.28, 0.29, 0.3 , 0.31, 0.32,\n",
       "       0.33, 0.34, 0.35, 0.36, 0.37, 0.38, 0.39, 0.4 , 0.41, 0.42, 0.43,\n",
       "       0.44, 0.45, 0.46, 0.47, 0.48, 0.49, 0.5 , 0.51, 0.52, 0.53, 0.54,\n",
       "       0.55, 0.56, 0.57, 0.58, 0.59, 0.6 , 0.61, 0.62, 0.63, 0.64, 0.65,\n",
       "       0.66, 0.67, 0.68, 0.69, 0.7 , 0.71, 0.72, 0.73, 0.74, 0.75, 0.76,\n",
       "       0.77, 0.78, 0.79, 0.8 , 0.81, 0.82, 0.83, 0.84, 0.85, 0.86, 0.87,\n",
       "       0.88, 0.89, 0.9 , 0.91, 0.92, 0.93, 0.94, 0.95, 0.96, 0.97, 0.98,\n",
       "       0.99, 1.  ])"
      ]
     },
     "execution_count": 36,
     "metadata": {},
     "output_type": "execute_result"
    }
   ],
   "source": [
    "np.linspace(0, 1, 101)"
   ]
  },
  {
   "cell_type": "code",
   "execution_count": 39,
   "metadata": {
    "ExecuteTime": {
     "end_time": "2020-01-04T18:51:34.656089Z",
     "start_time": "2020-01-04T18:51:34.649601Z"
    }
   },
   "outputs": [],
   "source": [
    "import random"
   ]
  },
  {
   "cell_type": "code",
   "execution_count": 41,
   "metadata": {},
   "outputs": [
    {
     "data": {
      "text/plain": [
       "60"
      ]
     },
     "execution_count": 41,
     "metadata": {},
     "output_type": "execute_result"
    }
   ],
   "source": [
    "random.randint(0, 100)"
   ]
  },
  {
   "cell_type": "code",
   "execution_count": 45,
   "metadata": {
    "ExecuteTime": {
     "end_time": "2020-01-04T18:51:39.558481Z",
     "start_time": "2020-01-04T18:51:39.550975Z"
    }
   },
   "outputs": [
    {
     "data": {
      "text/plain": [
       "45"
      ]
     },
     "execution_count": 45,
     "metadata": {},
     "output_type": "execute_result"
    }
   ],
   "source": [
    "np.random.randint(0, 100)"
   ]
  },
  {
   "cell_type": "code",
   "execution_count": 46,
   "metadata": {},
   "outputs": [
    {
     "data": {
      "text/plain": [
       "int"
      ]
     },
     "execution_count": 46,
     "metadata": {},
     "output_type": "execute_result"
    }
   ],
   "source": [
    "type(np.random.randint(0, 100))"
   ]
  },
  {
   "cell_type": "code",
   "execution_count": 47,
   "metadata": {},
   "outputs": [
    {
     "data": {
      "text/plain": [
       "int"
      ]
     },
     "execution_count": 47,
     "metadata": {},
     "output_type": "execute_result"
    }
   ],
   "source": [
    "type(random.randint(0, 100))"
   ]
  },
  {
   "cell_type": "code",
   "execution_count": 66,
   "metadata": {},
   "outputs": [
    {
     "name": "stdout",
     "output_type": "stream",
     "text": [
      "CPU times: user 77.5 ms, sys: 11.6 ms, total: 89.1 ms\n",
      "Wall time: 89.6 ms\n"
     ]
    },
    {
     "data": {
      "text/plain": [
       "array([17, 83, 91, ..., 94, 11, 89])"
      ]
     },
     "execution_count": 66,
     "metadata": {},
     "output_type": "execute_result"
    }
   ],
   "source": [
    "%%time \n",
    "# Calculando o tempo de execução da célula utilizando o `%%time` funciona somente no jupyter e no ipython\n",
    "\n",
    "# Gerando 10 inteiros aleatórios\n",
    "np.random.randint(0, 100, 5000000)"
   ]
  },
  {
   "cell_type": "code",
   "execution_count": 73,
   "metadata": {
    "scrolled": true,
    "tags": []
   },
   "outputs": [
    {
     "name": "stdout",
     "output_type": "stream",
     "text": [
      "CPU times: user 3.05 s, sys: 20.1 ms, total: 3.07 s\n",
      "Wall time: 3.07 s\n"
     ]
    }
   ],
   "source": [
    "%%time\n",
    "_ = [random.randint(0, 100) for n in range(0, 5000000)]"
   ]
  },
  {
   "cell_type": "markdown",
   "metadata": {},
   "source": [
    "#### Indexação"
   ]
  },
  {
   "cell_type": "code",
   "execution_count": 107,
   "metadata": {
    "ExecuteTime": {
     "end_time": "2020-01-04T20:58:31.727960Z",
     "start_time": "2020-01-04T20:58:31.719976Z"
    }
   },
   "outputs": [],
   "source": [
    "arr1 = np.random.randint(0, 100, 10000)"
   ]
  },
  {
   "cell_type": "code",
   "execution_count": 108,
   "metadata": {},
   "outputs": [
    {
     "data": {
      "text/plain": [
       "array([59, 93, 94, ..., 73, 68, 24])"
      ]
     },
     "execution_count": 108,
     "metadata": {},
     "output_type": "execute_result"
    }
   ],
   "source": [
    "arr1"
   ]
  },
  {
   "cell_type": "code",
   "execution_count": 109,
   "metadata": {
    "ExecuteTime": {
     "end_time": "2020-01-04T20:59:25.253415Z",
     "start_time": "2020-01-04T20:59:25.247925Z"
    }
   },
   "outputs": [
    {
     "data": {
      "text/plain": [
       "59"
      ]
     },
     "execution_count": 109,
     "metadata": {},
     "output_type": "execute_result"
    }
   ],
   "source": [
    "arr1[0]"
   ]
  },
  {
   "cell_type": "code",
   "execution_count": 110,
   "metadata": {},
   "outputs": [
    {
     "data": {
      "text/plain": [
       "array([93, 94, 48])"
      ]
     },
     "execution_count": 110,
     "metadata": {},
     "output_type": "execute_result"
    }
   ],
   "source": [
    "arr1[1: 4]"
   ]
  },
  {
   "cell_type": "code",
   "execution_count": 111,
   "metadata": {
    "ExecuteTime": {
     "end_time": "2020-01-04T20:59:28.429519Z",
     "start_time": "2020-01-04T20:59:28.424033Z"
    }
   },
   "outputs": [
    {
     "data": {
      "text/plain": [
       "array([59, 93, 94, ..., 73, 68, 24])"
      ]
     },
     "execution_count": 111,
     "metadata": {},
     "output_type": "execute_result"
    }
   ],
   "source": [
    "arr1"
   ]
  },
  {
   "cell_type": "code",
   "execution_count": 112,
   "metadata": {},
   "outputs": [],
   "source": [
    "fatia = arr1[3: 8]"
   ]
  },
  {
   "cell_type": "code",
   "execution_count": 113,
   "metadata": {},
   "outputs": [
    {
     "data": {
      "text/plain": [
       "array([48, 19, 52, 62, 15])"
      ]
     },
     "execution_count": 113,
     "metadata": {},
     "output_type": "execute_result"
    }
   ],
   "source": [
    "fatia"
   ]
  },
  {
   "cell_type": "markdown",
   "metadata": {},
   "source": [
    "#### Operações simples"
   ]
  },
  {
   "cell_type": "code",
   "execution_count": 114,
   "metadata": {
    "ExecuteTime": {
     "end_time": "2020-01-04T20:59:48.500686Z",
     "start_time": "2020-01-04T20:59:48.495192Z"
    }
   },
   "outputs": [
    {
     "name": "stdout",
     "output_type": "stream",
     "text": [
      "CPU times: user 235 µs, sys: 150 µs, total: 385 µs\n",
      "Wall time: 272 µs\n"
     ]
    },
    {
     "data": {
      "text/plain": [
       "array([1180, 1860, 1880, ..., 1460, 1360,  480])"
      ]
     },
     "execution_count": 114,
     "metadata": {},
     "output_type": "execute_result"
    }
   ],
   "source": [
    "%%time\n",
    "arr1 * 20"
   ]
  },
  {
   "cell_type": "code",
   "execution_count": 115,
   "metadata": {},
   "outputs": [],
   "source": [
    "lista1 = list(arr1)"
   ]
  },
  {
   "cell_type": "code",
   "execution_count": 116,
   "metadata": {
    "scrolled": true,
    "tags": []
   },
   "outputs": [
    {
     "name": "stdout",
     "output_type": "stream",
     "text": [
      "CPU times: user 6.44 ms, sys: 216 µs, total: 6.65 ms\n",
      "Wall time: 6.78 ms\n"
     ]
    },
    {
     "data": {
      "text/plain": [
       "[1180,\n",
       " 1860,\n",
       " 1880,\n",
       " 960,\n",
       " 380,\n",
       " 1040,\n",
       " 1240,\n",
       " 300,\n",
       " 1040,\n",
       " 1120,\n",
       " 1220,\n",
       " 1820,\n",
       " 1160,\n",
       " 420,\n",
       " 1340,\n",
       " 680,\n",
       " 1880,\n",
       " 20,\n",
       " 120,\n",
       " 640,\n",
       " 1480,\n",
       " 1020,\n",
       " 1300,\n",
       " 1560,\n",
       " 1220,\n",
       " 1920,\n",
       " 1460,\n",
       " 1760,\n",
       " 1760,\n",
       " 1740,\n",
       " 920,\n",
       " 300,\n",
       " 1140,\n",
       " 1180,\n",
       " 600,\n",
       " 680,\n",
       " 960,\n",
       " 300,\n",
       " 80,\n",
       " 480,\n",
       " 1080,\n",
       " 220,\n",
       " 1580,\n",
       " 700,\n",
       " 1420,\n",
       " 1320,\n",
       " 80,\n",
       " 740,\n",
       " 1640,\n",
       " 720,\n",
       " 1540,\n",
       " 1560,\n",
       " 20,\n",
       " 40,\n",
       " 480,\n",
       " 740,\n",
       " 1780,\n",
       " 200,\n",
       " 820,\n",
       " 1520,\n",
       " 1500,\n",
       " 440,\n",
       " 1240,\n",
       " 860,\n",
       " 560,\n",
       " 1180,\n",
       " 560,\n",
       " 1300,\n",
       " 380,\n",
       " 460,\n",
       " 720,\n",
       " 1180,\n",
       " 1540,\n",
       " 680,\n",
       " 1820,\n",
       " 1640,\n",
       " 1620,\n",
       " 60,\n",
       " 960,\n",
       " 640,\n",
       " 1360,\n",
       " 740,\n",
       " 40,\n",
       " 1640,\n",
       " 1340,\n",
       " 600,\n",
       " 780,\n",
       " 980,\n",
       " 1340,\n",
       " 1480,\n",
       " 100,\n",
       " 420,\n",
       " 900,\n",
       " 1560,\n",
       " 260,\n",
       " 1780,\n",
       " 640,\n",
       " 1600,\n",
       " 1680,\n",
       " 960,\n",
       " 1620,\n",
       " 1360,\n",
       " 1920,\n",
       " 1920,\n",
       " 1920,\n",
       " 1260,\n",
       " 960,\n",
       " 1000,\n",
       " 900,\n",
       " 940,\n",
       " 360,\n",
       " 320,\n",
       " 1580,\n",
       " 180,\n",
       " 1580,\n",
       " 20,\n",
       " 1520,\n",
       " 1800,\n",
       " 0,\n",
       " 780,\n",
       " 1620,\n",
       " 1540,\n",
       " 540,\n",
       " 1720,\n",
       " 800,\n",
       " 700,\n",
       " 1520,\n",
       " 680,\n",
       " 540,\n",
       " 1540,\n",
       " 1740,\n",
       " 420,\n",
       " 1880,\n",
       " 880,\n",
       " 1200,\n",
       " 220,\n",
       " 1080,\n",
       " 1440,\n",
       " 1120,\n",
       " 1460,\n",
       " 1560,\n",
       " 580,\n",
       " 680,\n",
       " 580,\n",
       " 620,\n",
       " 380,\n",
       " 1540,\n",
       " 1120,\n",
       " 640,\n",
       " 540,\n",
       " 380,\n",
       " 200,\n",
       " 600,\n",
       " 340,\n",
       " 640,\n",
       " 460,\n",
       " 780,\n",
       " 1020,\n",
       " 1760,\n",
       " 300,\n",
       " 140,\n",
       " 780,\n",
       " 1540,\n",
       " 1800,\n",
       " 1160,\n",
       " 1740,\n",
       " 1140,\n",
       " 320,\n",
       " 1080,\n",
       " 1240,\n",
       " 1860,\n",
       " 1040,\n",
       " 1320,\n",
       " 1080,\n",
       " 760,\n",
       " 1580,\n",
       " 1300,\n",
       " 1140,\n",
       " 800,\n",
       " 320,\n",
       " 580,\n",
       " 280,\n",
       " 220,\n",
       " 1880,\n",
       " 1420,\n",
       " 20,\n",
       " 480,\n",
       " 220,\n",
       " 1100,\n",
       " 1140,\n",
       " 960,\n",
       " 1660,\n",
       " 1080,\n",
       " 1900,\n",
       " 1560,\n",
       " 0,\n",
       " 1860,\n",
       " 120,\n",
       " 1260,\n",
       " 420,\n",
       " 1380,\n",
       " 1680,\n",
       " 1480,\n",
       " 960,\n",
       " 740,\n",
       " 720,\n",
       " 1780,\n",
       " 420,\n",
       " 840,\n",
       " 660,\n",
       " 860,\n",
       " 1100,\n",
       " 1340,\n",
       " 1340,\n",
       " 1980,\n",
       " 560,\n",
       " 400,\n",
       " 1720,\n",
       " 1040,\n",
       " 760,\n",
       " 260,\n",
       " 1140,\n",
       " 1060,\n",
       " 800,\n",
       " 180,\n",
       " 140,\n",
       " 920,\n",
       " 1460,\n",
       " 720,\n",
       " 360,\n",
       " 800,\n",
       " 340,\n",
       " 700,\n",
       " 340,\n",
       " 1280,\n",
       " 1780,\n",
       " 360,\n",
       " 1200,\n",
       " 460,\n",
       " 420,\n",
       " 320,\n",
       " 1000,\n",
       " 1320,\n",
       " 1480,\n",
       " 120,\n",
       " 1600,\n",
       " 820,\n",
       " 1080,\n",
       " 1680,\n",
       " 800,\n",
       " 1400,\n",
       " 1340,\n",
       " 1760,\n",
       " 900,\n",
       " 1420,\n",
       " 1640,\n",
       " 360,\n",
       " 1560,\n",
       " 1120,\n",
       " 420,\n",
       " 1480,\n",
       " 380,\n",
       " 460,\n",
       " 1580,\n",
       " 720,\n",
       " 940,\n",
       " 60,\n",
       " 1680,\n",
       " 40,\n",
       " 1540,\n",
       " 1240,\n",
       " 1500,\n",
       " 20,\n",
       " 1080,\n",
       " 380,\n",
       " 1460,\n",
       " 1800,\n",
       " 1980,\n",
       " 1380,\n",
       " 560,\n",
       " 760,\n",
       " 420,\n",
       " 540,\n",
       " 1300,\n",
       " 1240,\n",
       " 800,\n",
       " 1340,\n",
       " 520,\n",
       " 440,\n",
       " 1280,\n",
       " 780,\n",
       " 1300,\n",
       " 1600,\n",
       " 220,\n",
       " 1600,\n",
       " 1860,\n",
       " 960,\n",
       " 160,\n",
       " 400,\n",
       " 300,\n",
       " 740,\n",
       " 500,\n",
       " 380,\n",
       " 340,\n",
       " 1260,\n",
       " 1220,\n",
       " 1780,\n",
       " 80,\n",
       " 1840,\n",
       " 540,\n",
       " 80,\n",
       " 1420,\n",
       " 60,\n",
       " 480,\n",
       " 1420,\n",
       " 1620,\n",
       " 740,\n",
       " 1700,\n",
       " 1200,\n",
       " 1920,\n",
       " 520,\n",
       " 1320,\n",
       " 1300,\n",
       " 660,\n",
       " 1260,\n",
       " 1800,\n",
       " 1540,\n",
       " 900,\n",
       " 940,\n",
       " 1640,\n",
       " 1040,\n",
       " 440,\n",
       " 1240,\n",
       " 820,\n",
       " 40,\n",
       " 600,\n",
       " 1380,\n",
       " 140,\n",
       " 420,\n",
       " 800,\n",
       " 1980,\n",
       " 80,\n",
       " 840,\n",
       " 1900,\n",
       " 1420,\n",
       " 40,\n",
       " 1980,\n",
       " 400,\n",
       " 1080,\n",
       " 960,\n",
       " 220,\n",
       " 360,\n",
       " 620,\n",
       " 1400,\n",
       " 420,\n",
       " 560,\n",
       " 1220,\n",
       " 520,\n",
       " 1920,\n",
       " 860,\n",
       " 1280,\n",
       " 380,\n",
       " 1460,\n",
       " 1600,\n",
       " 1740,\n",
       " 780,\n",
       " 100,\n",
       " 1500,\n",
       " 1460,\n",
       " 900,\n",
       " 580,\n",
       " 1980,\n",
       " 540,\n",
       " 1220,\n",
       " 180,\n",
       " 1400,\n",
       " 1480,\n",
       " 960,\n",
       " 1040,\n",
       " 820,\n",
       " 440,\n",
       " 1040,\n",
       " 20,\n",
       " 460,\n",
       " 960,\n",
       " 20,\n",
       " 260,\n",
       " 1680,\n",
       " 300,\n",
       " 380,\n",
       " 1080,\n",
       " 700,\n",
       " 660,\n",
       " 100,\n",
       " 880,\n",
       " 1320,\n",
       " 540,\n",
       " 1020,\n",
       " 1020,\n",
       " 360,\n",
       " 740,\n",
       " 680,\n",
       " 620,\n",
       " 120,\n",
       " 260,\n",
       " 1380,\n",
       " 800,\n",
       " 500,\n",
       " 260,\n",
       " 1560,\n",
       " 360,\n",
       " 1680,\n",
       " 500,\n",
       " 1140,\n",
       " 1920,\n",
       " 1820,\n",
       " 420,\n",
       " 280,\n",
       " 360,\n",
       " 1680,\n",
       " 1620,\n",
       " 580,\n",
       " 700,\n",
       " 740,\n",
       " 360,\n",
       " 1000,\n",
       " 660,\n",
       " 280,\n",
       " 80,\n",
       " 80,\n",
       " 1100,\n",
       " 1680,\n",
       " 1720,\n",
       " 1960,\n",
       " 1560,\n",
       " 680,\n",
       " 1260,\n",
       " 1280,\n",
       " 1600,\n",
       " 600,\n",
       " 780,\n",
       " 180,\n",
       " 900,\n",
       " 820,\n",
       " 200,\n",
       " 320,\n",
       " 660,\n",
       " 1340,\n",
       " 560,\n",
       " 1340,\n",
       " 440,\n",
       " 900,\n",
       " 220,\n",
       " 240,\n",
       " 340,\n",
       " 420,\n",
       " 120,\n",
       " 1460,\n",
       " 380,\n",
       " 1960,\n",
       " 520,\n",
       " 900,\n",
       " 340,\n",
       " 1600,\n",
       " 1520,\n",
       " 1200,\n",
       " 1340,\n",
       " 1880,\n",
       " 420,\n",
       " 1720,\n",
       " 1480,\n",
       " 60,\n",
       " 240,\n",
       " 840,\n",
       " 400,\n",
       " 120,\n",
       " 1220,\n",
       " 1060,\n",
       " 1160,\n",
       " 40,\n",
       " 820,\n",
       " 1840,\n",
       " 1720,\n",
       " 1600,\n",
       " 1920,\n",
       " 1760,\n",
       " 1740,\n",
       " 820,\n",
       " 620,\n",
       " 660,\n",
       " 80,\n",
       " 1700,\n",
       " 1720,\n",
       " 1000,\n",
       " 1300,\n",
       " 1480,\n",
       " 40,\n",
       " 260,\n",
       " 1700,\n",
       " 1100,\n",
       " 160,\n",
       " 1280,\n",
       " 20,\n",
       " 360,\n",
       " 1520,\n",
       " 1960,\n",
       " 860,\n",
       " 1600,\n",
       " 1920,\n",
       " 200,\n",
       " 640,\n",
       " 180,\n",
       " 280,\n",
       " 1960,\n",
       " 1640,\n",
       " 1560,\n",
       " 1260,\n",
       " 1780,\n",
       " 1080,\n",
       " 120,\n",
       " 140,\n",
       " 1060,\n",
       " 300,\n",
       " 760,\n",
       " 1840,\n",
       " 520,\n",
       " 880,\n",
       " 1520,\n",
       " 780,\n",
       " 800,\n",
       " 920,\n",
       " 1780,\n",
       " 20,\n",
       " 220,\n",
       " 1180,\n",
       " 760,\n",
       " 1720,\n",
       " 1340,\n",
       " 500,\n",
       " 1060,\n",
       " 1800,\n",
       " 240,\n",
       " 1300,\n",
       " 1180,\n",
       " 1720,\n",
       " 840,\n",
       " 800,\n",
       " 1420,\n",
       " 1660,\n",
       " 360,\n",
       " 1320,\n",
       " 1460,\n",
       " 1380,\n",
       " 1140,\n",
       " 1500,\n",
       " 1780,\n",
       " 1440,\n",
       " 60,\n",
       " 1840,\n",
       " 320,\n",
       " 560,\n",
       " 1840,\n",
       " 1080,\n",
       " 1700,\n",
       " 1940,\n",
       " 620,\n",
       " 1220,\n",
       " 60,\n",
       " 1380,\n",
       " 400,\n",
       " 700,\n",
       " 580,\n",
       " 620,\n",
       " 1320,\n",
       " 1740,\n",
       " 260,\n",
       " 940,\n",
       " 1780,\n",
       " 1720,\n",
       " 1440,\n",
       " 780,\n",
       " 300,\n",
       " 980,\n",
       " 180,\n",
       " 1040,\n",
       " 880,\n",
       " 120,\n",
       " 1320,\n",
       " 1300,\n",
       " 140,\n",
       " 1260,\n",
       " 260,\n",
       " 1980,\n",
       " 1740,\n",
       " 720,\n",
       " 1160,\n",
       " 440,\n",
       " 780,\n",
       " 100,\n",
       " 1700,\n",
       " 680,\n",
       " 380,\n",
       " 660,\n",
       " 1400,\n",
       " 100,\n",
       " 960,\n",
       " 680,\n",
       " 240,\n",
       " 1920,\n",
       " 1220,\n",
       " 1900,\n",
       " 400,\n",
       " 640,\n",
       " 1720,\n",
       " 1060,\n",
       " 1940,\n",
       " 1660,\n",
       " 1240,\n",
       " 140,\n",
       " 1940,\n",
       " 1660,\n",
       " 940,\n",
       " 1060,\n",
       " 320,\n",
       " 1340,\n",
       " 1480,\n",
       " 1260,\n",
       " 1220,\n",
       " 1300,\n",
       " 60,\n",
       " 1200,\n",
       " 1300,\n",
       " 1000,\n",
       " 1460,\n",
       " 620,\n",
       " 540,\n",
       " 1320,\n",
       " 280,\n",
       " 40,\n",
       " 1720,\n",
       " 1480,\n",
       " 420,\n",
       " 1020,\n",
       " 1280,\n",
       " 1420,\n",
       " 1520,\n",
       " 1840,\n",
       " 1000,\n",
       " 400,\n",
       " 620,\n",
       " 1700,\n",
       " 1060,\n",
       " 640,\n",
       " 120,\n",
       " 1180,\n",
       " 1500,\n",
       " 940,\n",
       " 1720,\n",
       " 1180,\n",
       " 1820,\n",
       " 640,\n",
       " 140,\n",
       " 620,\n",
       " 1880,\n",
       " 1680,\n",
       " 460,\n",
       " 1500,\n",
       " 20,\n",
       " 620,\n",
       " 80,\n",
       " 1440,\n",
       " 100,\n",
       " 500,\n",
       " 840,\n",
       " 660,\n",
       " 160,\n",
       " 520,\n",
       " 920,\n",
       " 960,\n",
       " 1460,\n",
       " 380,\n",
       " 640,\n",
       " 1480,\n",
       " 1040,\n",
       " 1800,\n",
       " 760,\n",
       " 440,\n",
       " 900,\n",
       " 1460,\n",
       " 980,\n",
       " 780,\n",
       " 1180,\n",
       " 1940,\n",
       " 1240,\n",
       " 60,\n",
       " 360,\n",
       " 1840,\n",
       " 0,\n",
       " 840,\n",
       " 800,\n",
       " 200,\n",
       " 1820,\n",
       " 480,\n",
       " 1180,\n",
       " 0,\n",
       " 1240,\n",
       " 1960,\n",
       " 1220,\n",
       " 180,\n",
       " 1900,\n",
       " 1120,\n",
       " 1120,\n",
       " 520,\n",
       " 900,\n",
       " 780,\n",
       " 1960,\n",
       " 1300,\n",
       " 1980,\n",
       " 520,\n",
       " 1820,\n",
       " 40,\n",
       " 1520,\n",
       " 860,\n",
       " 660,\n",
       " 160,\n",
       " 640,\n",
       " 400,\n",
       " 1600,\n",
       " 1300,\n",
       " 1300,\n",
       " 1200,\n",
       " 980,\n",
       " 760,\n",
       " 300,\n",
       " 320,\n",
       " 1720,\n",
       " 1780,\n",
       " 1380,\n",
       " 40,\n",
       " 440,\n",
       " 1760,\n",
       " 1020,\n",
       " 1120,\n",
       " 160,\n",
       " 60,\n",
       " 720,\n",
       " 940,\n",
       " 680,\n",
       " 1640,\n",
       " 620,\n",
       " 540,\n",
       " 1240,\n",
       " 460,\n",
       " 1280,\n",
       " 200,\n",
       " 100,\n",
       " 360,\n",
       " 340,\n",
       " 440,\n",
       " 1840,\n",
       " 1060,\n",
       " 980,\n",
       " 680,\n",
       " 700,\n",
       " 260,\n",
       " 160,\n",
       " 1560,\n",
       " 1920,\n",
       " 100,\n",
       " 960,\n",
       " 400,\n",
       " 620,\n",
       " 1700,\n",
       " 1600,\n",
       " 800,\n",
       " 1260,\n",
       " 540,\n",
       " 1860,\n",
       " 140,\n",
       " 640,\n",
       " 1760,\n",
       " 520,\n",
       " 900,\n",
       " 1340,\n",
       " 1660,\n",
       " 180,\n",
       " 800,\n",
       " 220,\n",
       " 1800,\n",
       " 20,\n",
       " 500,\n",
       " 1860,\n",
       " 120,\n",
       " 1060,\n",
       " 1600,\n",
       " 500,\n",
       " 740,\n",
       " 1180,\n",
       " 620,\n",
       " 1160,\n",
       " 1100,\n",
       " 860,\n",
       " 1920,\n",
       " 140,\n",
       " 300,\n",
       " 80,\n",
       " 940,\n",
       " 140,\n",
       " 1480,\n",
       " 500,\n",
       " 1580,\n",
       " 40,\n",
       " 920,\n",
       " 740,\n",
       " 220,\n",
       " 1340,\n",
       " 1360,\n",
       " 1540,\n",
       " 1640,\n",
       " 1020,\n",
       " 1220,\n",
       " 360,\n",
       " 120,\n",
       " 600,\n",
       " 1980,\n",
       " 480,\n",
       " 940,\n",
       " 740,\n",
       " 1180,\n",
       " 900,\n",
       " 700,\n",
       " 1400,\n",
       " 700,\n",
       " 1400,\n",
       " 520,\n",
       " 1120,\n",
       " 540,\n",
       " 640,\n",
       " 460,\n",
       " 80,\n",
       " 820,\n",
       " 120,\n",
       " 760,\n",
       " 380,\n",
       " 1780,\n",
       " 1420,\n",
       " 920,\n",
       " 920,\n",
       " 1980,\n",
       " 40,\n",
       " 280,\n",
       " 1900,\n",
       " 1580,\n",
       " 20,\n",
       " 280,\n",
       " 140,\n",
       " 80,\n",
       " 1280,\n",
       " 120,\n",
       " 1360,\n",
       " 1360,\n",
       " 720,\n",
       " 1940,\n",
       " 820,\n",
       " 1060,\n",
       " 100,\n",
       " 1520,\n",
       " 520,\n",
       " 1980,\n",
       " 1920,\n",
       " 1380,\n",
       " 1760,\n",
       " 1960,\n",
       " 500,\n",
       " 760,\n",
       " 840,\n",
       " 1180,\n",
       " 800,\n",
       " 1620,\n",
       " 1960,\n",
       " 740,\n",
       " 680,\n",
       " 1400,\n",
       " 80,\n",
       " 1740,\n",
       " 1340,\n",
       " 420,\n",
       " 300,\n",
       " 580,\n",
       " 1740,\n",
       " 380,\n",
       " 1620,\n",
       " 1420,\n",
       " 1880,\n",
       " 100,\n",
       " 600,\n",
       " 620,\n",
       " 1500,\n",
       " 1220,\n",
       " 780,\n",
       " 1880,\n",
       " 1300,\n",
       " 1660,\n",
       " 1320,\n",
       " 1460,\n",
       " 540,\n",
       " 1020,\n",
       " 1960,\n",
       " 1880,\n",
       " 1340,\n",
       " 1280,\n",
       " 60,\n",
       " 1040,\n",
       " 740,\n",
       " 40,\n",
       " 760,\n",
       " 280,\n",
       " 1380,\n",
       " 1920,\n",
       " 320,\n",
       " 1600,\n",
       " 1840,\n",
       " 500,\n",
       " 1440,\n",
       " 0,\n",
       " 1880,\n",
       " 480,\n",
       " 1400,\n",
       " 360,\n",
       " 920,\n",
       " 360,\n",
       " 1620,\n",
       " 880,\n",
       " 600,\n",
       " 820,\n",
       " 220,\n",
       " 980,\n",
       " 1440,\n",
       " 1680,\n",
       " 1600,\n",
       " 1100,\n",
       " 560,\n",
       " 1080,\n",
       " 1640,\n",
       " 800,\n",
       " 260,\n",
       " 1840,\n",
       " 1200,\n",
       " 1080,\n",
       " 240,\n",
       " 500,\n",
       " 500,\n",
       " 1300,\n",
       " 1260,\n",
       " 360,\n",
       " 300,\n",
       " 1580,\n",
       " 740,\n",
       " 1220,\n",
       " 820,\n",
       " 1360,\n",
       " 1700,\n",
       " 260,\n",
       " 480,\n",
       " 900,\n",
       " 1940,\n",
       " 800,\n",
       " 1120,\n",
       " 1180,\n",
       " 640,\n",
       " 1320,\n",
       " 480,\n",
       " 140,\n",
       " 1300,\n",
       " 1860,\n",
       " 1760,\n",
       " 1080,\n",
       " 0,\n",
       " 1960,\n",
       " 1700,\n",
       " 20,\n",
       " 1240,\n",
       " 1060,\n",
       " 1700,\n",
       " 340,\n",
       " 500,\n",
       " 460,\n",
       " 1240,\n",
       " 420,\n",
       " 1460,\n",
       " 60,\n",
       " 740,\n",
       " 420,\n",
       " 20,\n",
       " 1220,\n",
       " 1960,\n",
       " 1520,\n",
       " 840,\n",
       " 260,\n",
       " 1720,\n",
       " ...]"
      ]
     },
     "execution_count": 116,
     "metadata": {},
     "output_type": "execute_result"
    }
   ],
   "source": [
    "%%time\n",
    "[num * 20 for num in lista1]"
   ]
  },
  {
   "cell_type": "code",
   "execution_count": 117,
   "metadata": {},
   "outputs": [
    {
     "data": {
      "text/plain": [
       "array([59, 93, 94, ..., 73, 68, 24])"
      ]
     },
     "execution_count": 117,
     "metadata": {},
     "output_type": "execute_result"
    }
   ],
   "source": [
    "arr1"
   ]
  },
  {
   "cell_type": "code",
   "execution_count": 118,
   "metadata": {
    "ExecuteTime": {
     "end_time": "2020-01-04T20:59:48.764689Z",
     "start_time": "2020-01-04T20:59:48.759699Z"
    }
   },
   "outputs": [
    {
     "data": {
      "text/plain": [
       "array([186, 220, 221, ..., 200, 195, 151])"
      ]
     },
     "execution_count": 118,
     "metadata": {},
     "output_type": "execute_result"
    }
   ],
   "source": [
    "arr1 + 127"
   ]
  },
  {
   "cell_type": "code",
   "execution_count": 119,
   "metadata": {},
   "outputs": [
    {
     "data": {
      "text/plain": [
       "array([59, 93, 94, ..., 73, 68, 24])"
      ]
     },
     "execution_count": 119,
     "metadata": {},
     "output_type": "execute_result"
    }
   ],
   "source": [
    "arr1"
   ]
  },
  {
   "cell_type": "code",
   "execution_count": 121,
   "metadata": {},
   "outputs": [
    {
     "data": {
      "text/plain": [
       "array([1.        , 1.57627119, 1.59322034, ..., 1.23728814, 1.15254237,\n",
       "       0.40677966])"
      ]
     },
     "execution_count": 121,
     "metadata": {},
     "output_type": "execute_result"
    }
   ],
   "source": [
    "arr1 / 59"
   ]
  },
  {
   "cell_type": "code",
   "execution_count": 123,
   "metadata": {},
   "outputs": [
    {
     "data": {
      "text/plain": [
       "array([205379, 804357, 830584, ..., 389017, 314432,  13824])"
      ]
     },
     "execution_count": 123,
     "metadata": {},
     "output_type": "execute_result"
    }
   ],
   "source": [
    "arr1 ** 3"
   ]
  },
  {
   "cell_type": "code",
   "execution_count": 124,
   "metadata": {},
   "outputs": [
    {
     "data": {
      "text/plain": [
       "10000"
      ]
     },
     "execution_count": 124,
     "metadata": {},
     "output_type": "execute_result"
    }
   ],
   "source": [
    "len(arr1)"
   ]
  },
  {
   "cell_type": "markdown",
   "metadata": {},
   "source": [
    "#### Operações com várias listas"
   ]
  },
  {
   "cell_type": "code",
   "execution_count": 126,
   "metadata": {
    "ExecuteTime": {
     "end_time": "2020-01-04T20:59:56.078588Z",
     "start_time": "2020-01-04T20:59:56.071600Z"
    }
   },
   "outputs": [],
   "source": [
    "arr1 = np.random.randint(0, 100, 10)\n",
    "arr2 = np.random.randint(0, 100, 10)"
   ]
  },
  {
   "cell_type": "code",
   "execution_count": 127,
   "metadata": {},
   "outputs": [
    {
     "data": {
      "text/plain": [
       "array([71, 54, 98,  3, 15, 82, 49, 14, 75, 40])"
      ]
     },
     "execution_count": 127,
     "metadata": {},
     "output_type": "execute_result"
    }
   ],
   "source": [
    "arr1"
   ]
  },
  {
   "cell_type": "code",
   "execution_count": 128,
   "metadata": {},
   "outputs": [
    {
     "data": {
      "text/plain": [
       "array([13,  2, 63, 60, 34, 54, 84, 83, 11, 17])"
      ]
     },
     "execution_count": 128,
     "metadata": {},
     "output_type": "execute_result"
    }
   ],
   "source": [
    "arr2"
   ]
  },
  {
   "cell_type": "code",
   "execution_count": 129,
   "metadata": {},
   "outputs": [
    {
     "data": {
      "text/plain": [
       "array([ 84,  56, 161,  63,  49, 136, 133,  97,  86,  57])"
      ]
     },
     "execution_count": 129,
     "metadata": {},
     "output_type": "execute_result"
    }
   ],
   "source": [
    "arr1 + arr2"
   ]
  },
  {
   "cell_type": "code",
   "execution_count": 130,
   "metadata": {},
   "outputs": [],
   "source": [
    "lista1 = list(arr1)\n",
    "lista2 = list(arr2)"
   ]
  },
  {
   "cell_type": "code",
   "execution_count": 132,
   "metadata": {},
   "outputs": [
    {
     "data": {
      "text/plain": [
       "[84, 56, 161, 63, 49, 136, 133, 97, 86, 57]"
      ]
     },
     "execution_count": 132,
     "metadata": {},
     "output_type": "execute_result"
    }
   ],
   "source": [
    "[num1 + num2 for num1, num2 in list(zip(arr1, arr2))]"
   ]
  },
  {
   "cell_type": "code",
   "execution_count": 133,
   "metadata": {
    "ExecuteTime": {
     "end_time": "2020-01-04T20:59:56.416959Z",
     "start_time": "2020-01-04T20:59:56.410470Z"
    }
   },
   "outputs": [
    {
     "data": {
      "text/plain": [
       "array([ 5.46153846, 27.        ,  1.55555556,  0.05      ,  0.44117647,\n",
       "        1.51851852,  0.58333333,  0.1686747 ,  6.81818182,  2.35294118])"
      ]
     },
     "execution_count": 133,
     "metadata": {},
     "output_type": "execute_result"
    }
   ],
   "source": [
    "arr1 / arr2"
   ]
  },
  {
   "cell_type": "code",
   "execution_count": 134,
   "metadata": {
    "ExecuteTime": {
     "end_time": "2020-01-04T20:59:56.773310Z",
     "start_time": "2020-01-04T20:59:56.768304Z"
    }
   },
   "outputs": [
    {
     "data": {
      "text/plain": [
       "array([ 923,  108, 6174,  180,  510, 4428, 4116, 1162,  825,  680])"
      ]
     },
     "execution_count": 134,
     "metadata": {},
     "output_type": "execute_result"
    }
   ],
   "source": [
    "arr1 * arr2"
   ]
  },
  {
   "cell_type": "code",
   "execution_count": 136,
   "metadata": {},
   "outputs": [],
   "source": [
    "arr3 = np.random.randint(0, 100, 5)"
   ]
  },
  {
   "cell_type": "code",
   "execution_count": 137,
   "metadata": {},
   "outputs": [
    {
     "ename": "ValueError",
     "evalue": "operands could not be broadcast together with shapes (10,) (5,) ",
     "output_type": "error",
     "traceback": [
      "\u001b[0;31m---------------------------------------------------------------------------\u001b[0m",
      "\u001b[0;31mValueError\u001b[0m                                Traceback (most recent call last)",
      "\u001b[0;32m<ipython-input-137-9cd496795bf2>\u001b[0m in \u001b[0;36m<module>\u001b[0;34m\u001b[0m\n\u001b[0;32m----> 1\u001b[0;31m \u001b[0marr1\u001b[0m \u001b[0;34m+\u001b[0m \u001b[0marr3\u001b[0m\u001b[0;34m\u001b[0m\u001b[0;34m\u001b[0m\u001b[0m\n\u001b[0m",
      "\u001b[0;31mValueError\u001b[0m: operands could not be broadcast together with shapes (10,) (5,) "
     ]
    }
   ],
   "source": [
    "arr1 + arr3"
   ]
  },
  {
   "cell_type": "code",
   "execution_count": 138,
   "metadata": {},
   "outputs": [
    {
     "ename": "ValueError",
     "evalue": "operands could not be broadcast together with shapes (10,) (5,) ",
     "output_type": "error",
     "traceback": [
      "\u001b[0;31m---------------------------------------------------------------------------\u001b[0m",
      "\u001b[0;31mValueError\u001b[0m                                Traceback (most recent call last)",
      "\u001b[0;32m<ipython-input-138-3861a3a50b5e>\u001b[0m in \u001b[0;36m<module>\u001b[0;34m\u001b[0m\n\u001b[0;32m----> 1\u001b[0;31m \u001b[0marr1\u001b[0m \u001b[0;34m*\u001b[0m \u001b[0marr3\u001b[0m\u001b[0;34m\u001b[0m\u001b[0;34m\u001b[0m\u001b[0m\n\u001b[0m",
      "\u001b[0;31mValueError\u001b[0m: operands could not be broadcast together with shapes (10,) (5,) "
     ]
    }
   ],
   "source": [
    "arr1 * arr3"
   ]
  },
  {
   "cell_type": "code",
   "execution_count": null,
   "metadata": {},
   "outputs": [],
   "source": []
  },
  {
   "cell_type": "markdown",
   "metadata": {},
   "source": [
    "#### Métodos"
   ]
  },
  {
   "cell_type": "code",
   "execution_count": 143,
   "metadata": {
    "ExecuteTime": {
     "end_time": "2020-01-04T21:00:36.354683Z",
     "start_time": "2020-01-04T21:00:36.350191Z"
    }
   },
   "outputs": [
    {
     "data": {
      "text/plain": [
       "98"
      ]
     },
     "execution_count": 143,
     "metadata": {},
     "output_type": "execute_result"
    }
   ],
   "source": [
    "# Retornando o valor máximo do array\n",
    "arr1.max()"
   ]
  },
  {
   "cell_type": "code",
   "execution_count": 144,
   "metadata": {},
   "outputs": [
    {
     "data": {
      "text/plain": [
       "98"
      ]
     },
     "execution_count": 144,
     "metadata": {},
     "output_type": "execute_result"
    }
   ],
   "source": [
    "max(arr1)"
   ]
  },
  {
   "cell_type": "code",
   "execution_count": 148,
   "metadata": {},
   "outputs": [
    {
     "data": {
      "text/plain": [
       "2"
      ]
     },
     "execution_count": 148,
     "metadata": {},
     "output_type": "execute_result"
    }
   ],
   "source": [
    "arr1.argmax()"
   ]
  },
  {
   "cell_type": "code",
   "execution_count": 147,
   "metadata": {},
   "outputs": [
    {
     "data": {
      "text/plain": [
       "2"
      ]
     },
     "execution_count": 147,
     "metadata": {},
     "output_type": "execute_result"
    }
   ],
   "source": [
    "lista1.index(max(lista1))"
   ]
  },
  {
   "cell_type": "code",
   "execution_count": 149,
   "metadata": {
    "ExecuteTime": {
     "end_time": "2020-01-04T21:00:38.310545Z",
     "start_time": "2020-01-04T21:00:38.305056Z"
    }
   },
   "outputs": [
    {
     "data": {
      "text/plain": [
       "3"
      ]
     },
     "execution_count": 149,
     "metadata": {},
     "output_type": "execute_result"
    }
   ],
   "source": [
    "arr1.min()"
   ]
  },
  {
   "cell_type": "code",
   "execution_count": 150,
   "metadata": {
    "ExecuteTime": {
     "end_time": "2020-01-04T21:00:52.043506Z",
     "start_time": "2020-01-04T21:00:52.039014Z"
    }
   },
   "outputs": [
    {
     "data": {
      "text/plain": [
       "3"
      ]
     },
     "execution_count": 150,
     "metadata": {},
     "output_type": "execute_result"
    }
   ],
   "source": [
    "arr1.argmin()"
   ]
  },
  {
   "cell_type": "code",
   "execution_count": 152,
   "metadata": {},
   "outputs": [
    {
     "data": {
      "text/plain": [
       "3"
      ]
     },
     "execution_count": 152,
     "metadata": {},
     "output_type": "execute_result"
    }
   ],
   "source": [
    "arr1[arr1.argmin()]"
   ]
  },
  {
   "cell_type": "code",
   "execution_count": 153,
   "metadata": {
    "ExecuteTime": {
     "end_time": "2020-01-04T21:00:58.380221Z",
     "start_time": "2020-01-04T21:00:58.375729Z"
    }
   },
   "outputs": [
    {
     "data": {
      "text/plain": [
       "501"
      ]
     },
     "execution_count": 153,
     "metadata": {},
     "output_type": "execute_result"
    }
   ],
   "source": [
    "arr1.sum()"
   ]
  },
  {
   "cell_type": "code",
   "execution_count": 154,
   "metadata": {
    "ExecuteTime": {
     "end_time": "2020-01-04T21:01:12.109189Z",
     "start_time": "2020-01-04T21:01:12.103698Z"
    }
   },
   "outputs": [
    {
     "data": {
      "text/plain": [
       "50.1"
      ]
     },
     "execution_count": 154,
     "metadata": {},
     "output_type": "execute_result"
    }
   ],
   "source": [
    "arr1.mean()"
   ]
  },
  {
   "cell_type": "code",
   "execution_count": 155,
   "metadata": {
    "ExecuteTime": {
     "end_time": "2020-01-04T21:01:12.407635Z",
     "start_time": "2020-01-04T21:01:12.402643Z"
    }
   },
   "outputs": [
    {
     "data": {
      "text/plain": [
       "30.398848662408252"
      ]
     },
     "execution_count": 155,
     "metadata": {},
     "output_type": "execute_result"
    }
   ],
   "source": [
    "arr1.std()"
   ]
  },
  {
   "cell_type": "code",
   "execution_count": 158,
   "metadata": {
    "ExecuteTime": {
     "end_time": "2020-01-04T21:01:12.832842Z",
     "start_time": "2020-01-04T21:01:12.827853Z"
    }
   },
   "outputs": [],
   "source": [
    "arr1.sort()"
   ]
  },
  {
   "cell_type": "code",
   "execution_count": 166,
   "metadata": {},
   "outputs": [
    {
     "data": {
      "text/plain": [
       "array([ 3, 14, 15, 40, 49, 54, 71, 75, 82, 98])"
      ]
     },
     "execution_count": 166,
     "metadata": {},
     "output_type": "execute_result"
    }
   ],
   "source": [
    "arr1"
   ]
  },
  {
   "cell_type": "code",
   "execution_count": 167,
   "metadata": {},
   "outputs": [
    {
     "data": {
      "text/plain": [
       "array([ 2, 11, 13, 17, 34, 54, 60, 63, 83, 84])"
      ]
     },
     "execution_count": 167,
     "metadata": {},
     "output_type": "execute_result"
    }
   ],
   "source": [
    "# Utilizando a função np.sort -> retorna o valor do array ordenado sem alterar a ordem\n",
    "np.sort(arr2)"
   ]
  },
  {
   "cell_type": "code",
   "execution_count": 168,
   "metadata": {},
   "outputs": [
    {
     "name": "stdout",
     "output_type": "stream",
     "text": [
      "29.06011011679068\n",
      "421\n"
     ]
    }
   ],
   "source": [
    "print(np.std(arr2))\n",
    "print(np.sum(arr2))"
   ]
  },
  {
   "cell_type": "code",
   "execution_count": 172,
   "metadata": {
    "ExecuteTime": {
     "end_time": "2020-01-04T21:01:13.793558Z",
     "start_time": "2020-01-04T21:01:13.787068Z"
    }
   },
   "outputs": [],
   "source": [
    "arr4 = arr1 / 3"
   ]
  },
  {
   "cell_type": "code",
   "execution_count": 175,
   "metadata": {},
   "outputs": [
    {
     "data": {
      "text/plain": [
       "dtype('float64')"
      ]
     },
     "execution_count": 175,
     "metadata": {},
     "output_type": "execute_result"
    }
   ],
   "source": [
    "arr4.dtype"
   ]
  },
  {
   "cell_type": "code",
   "execution_count": 177,
   "metadata": {},
   "outputs": [
    {
     "data": {
      "text/plain": [
       "dtype('int64')"
      ]
     },
     "execution_count": 177,
     "metadata": {},
     "output_type": "execute_result"
    }
   ],
   "source": [
    "arr1.dtype"
   ]
  },
  {
   "cell_type": "code",
   "execution_count": 179,
   "metadata": {},
   "outputs": [
    {
     "data": {
      "text/plain": [
       "array([ 3, 14, 15, 40, 49, 54, 71, 75, 82, 98])"
      ]
     },
     "execution_count": 179,
     "metadata": {},
     "output_type": "execute_result"
    }
   ],
   "source": [
    "arr1"
   ]
  },
  {
   "cell_type": "code",
   "execution_count": 181,
   "metadata": {},
   "outputs": [
    {
     "data": {
      "text/plain": [
       "176"
      ]
     },
     "execution_count": 181,
     "metadata": {},
     "output_type": "execute_result"
    }
   ],
   "source": [
    "import sys\n",
    "sys.getsizeof(arr1)"
   ]
  },
  {
   "cell_type": "code",
   "execution_count": 182,
   "metadata": {},
   "outputs": [
    {
     "data": {
      "text/plain": [
       "dtype('int64')"
      ]
     },
     "execution_count": 182,
     "metadata": {},
     "output_type": "execute_result"
    }
   ],
   "source": [
    "arr1.dtype"
   ]
  },
  {
   "cell_type": "code",
   "execution_count": null,
   "metadata": {},
   "outputs": [],
   "source": []
  },
  {
   "cell_type": "code",
   "execution_count": 183,
   "metadata": {},
   "outputs": [],
   "source": [
    "# Trocando o tipo de dados do array\n",
    "arr5 = arr1.astype('int32')"
   ]
  },
  {
   "cell_type": "code",
   "execution_count": 184,
   "metadata": {},
   "outputs": [
    {
     "data": {
      "text/plain": [
       "dtype('int32')"
      ]
     },
     "execution_count": 184,
     "metadata": {},
     "output_type": "execute_result"
    }
   ],
   "source": [
    "arr5.dtype"
   ]
  },
  {
   "cell_type": "code",
   "execution_count": 185,
   "metadata": {},
   "outputs": [
    {
     "data": {
      "text/plain": [
       "136"
      ]
     },
     "execution_count": 185,
     "metadata": {},
     "output_type": "execute_result"
    }
   ],
   "source": [
    "sys.getsizeof(arr5)"
   ]
  },
  {
   "cell_type": "code",
   "execution_count": 186,
   "metadata": {},
   "outputs": [],
   "source": [
    "arr6 = arr1.astype('int8')"
   ]
  },
  {
   "cell_type": "code",
   "execution_count": 187,
   "metadata": {},
   "outputs": [
    {
     "data": {
      "text/plain": [
       "106"
      ]
     },
     "execution_count": 187,
     "metadata": {},
     "output_type": "execute_result"
    }
   ],
   "source": [
    "sys.getsizeof(arr6)"
   ]
  },
  {
   "cell_type": "code",
   "execution_count": 188,
   "metadata": {},
   "outputs": [],
   "source": [
    "lista_mista = [1, 10, 20.5, 30.2]"
   ]
  },
  {
   "cell_type": "code",
   "execution_count": 190,
   "metadata": {},
   "outputs": [],
   "source": [
    "arr_misto = np.array(lista_mista)"
   ]
  },
  {
   "cell_type": "code",
   "execution_count": 191,
   "metadata": {},
   "outputs": [
    {
     "data": {
      "text/plain": [
       "array([ 1. , 10. , 20.5, 30.2])"
      ]
     },
     "execution_count": 191,
     "metadata": {},
     "output_type": "execute_result"
    }
   ],
   "source": [
    "arr_misto"
   ]
  },
  {
   "cell_type": "code",
   "execution_count": 192,
   "metadata": {},
   "outputs": [
    {
     "data": {
      "text/plain": [
       "dtype('float64')"
      ]
     },
     "execution_count": 192,
     "metadata": {},
     "output_type": "execute_result"
    }
   ],
   "source": [
    "arr_misto.dtype"
   ]
  },
  {
   "cell_type": "code",
   "execution_count": 194,
   "metadata": {},
   "outputs": [],
   "source": [
    "arr_strings = np.array(['hoje', 'abacate', 'laranja'])"
   ]
  },
  {
   "cell_type": "code",
   "execution_count": 195,
   "metadata": {},
   "outputs": [
    {
     "data": {
      "text/plain": [
       "array(['hoje', 'abacate', 'laranja'], dtype='<U7')"
      ]
     },
     "execution_count": 195,
     "metadata": {},
     "output_type": "execute_result"
    }
   ],
   "source": [
    "arr_strings"
   ]
  },
  {
   "cell_type": "code",
   "execution_count": 196,
   "metadata": {},
   "outputs": [
    {
     "data": {
      "text/plain": [
       "dtype('<U7')"
      ]
     },
     "execution_count": 196,
     "metadata": {},
     "output_type": "execute_result"
    }
   ],
   "source": [
    "arr_strings.dtype"
   ]
  },
  {
   "cell_type": "code",
   "execution_count": 197,
   "metadata": {},
   "outputs": [],
   "source": [
    "lista_mista = [1, 10.3, 'laranja']"
   ]
  },
  {
   "cell_type": "code",
   "execution_count": 199,
   "metadata": {},
   "outputs": [],
   "source": [
    "arr_mista = np.array(lista_mista)"
   ]
  },
  {
   "cell_type": "code",
   "execution_count": 200,
   "metadata": {},
   "outputs": [
    {
     "data": {
      "text/plain": [
       "numpy.ndarray"
      ]
     },
     "execution_count": 200,
     "metadata": {},
     "output_type": "execute_result"
    }
   ],
   "source": [
    "type(arr_mista)"
   ]
  },
  {
   "cell_type": "code",
   "execution_count": 201,
   "metadata": {},
   "outputs": [
    {
     "data": {
      "text/plain": [
       "dtype('<U32')"
      ]
     },
     "execution_count": 201,
     "metadata": {},
     "output_type": "execute_result"
    }
   ],
   "source": [
    "arr_mista.dtype"
   ]
  },
  {
   "cell_type": "code",
   "execution_count": 208,
   "metadata": {},
   "outputs": [
    {
     "data": {
      "text/plain": [
       "480"
      ]
     },
     "execution_count": 208,
     "metadata": {},
     "output_type": "execute_result"
    }
   ],
   "source": [
    "sys.getsizeof(arr_mista)"
   ]
  },
  {
   "cell_type": "code",
   "execution_count": 207,
   "metadata": {},
   "outputs": [
    {
     "data": {
      "text/plain": [
       "array(['111', '10.310.310.3', 'laranjalaranjalaranja'], dtype=object)"
      ]
     },
     "execution_count": 207,
     "metadata": {},
     "output_type": "execute_result"
    }
   ],
   "source": [
    "# Precisamos transforma para objeto \n",
    "arr_mista.astype('object') * 3"
   ]
  },
  {
   "cell_type": "code",
   "execution_count": 210,
   "metadata": {},
   "outputs": [
    {
     "data": {
      "text/plain": [
       "120"
      ]
     },
     "execution_count": 210,
     "metadata": {},
     "output_type": "execute_result"
    }
   ],
   "source": [
    "arr_mista_obj = arr_mista.astype('object')\n",
    "sys.getsizeof(arr_mista_obj)"
   ]
  },
  {
   "cell_type": "code",
   "execution_count": 203,
   "metadata": {},
   "outputs": [
    {
     "data": {
      "text/plain": [
       "'laranjalaranjalaranja'"
      ]
     },
     "execution_count": 203,
     "metadata": {},
     "output_type": "execute_result"
    }
   ],
   "source": [
    "'laranja' * 3"
   ]
  },
  {
   "cell_type": "code",
   "execution_count": 204,
   "metadata": {},
   "outputs": [
    {
     "data": {
      "text/plain": [
       "9"
      ]
     },
     "execution_count": 204,
     "metadata": {},
     "output_type": "execute_result"
    }
   ],
   "source": [
    "3 * 3"
   ]
  },
  {
   "cell_type": "markdown",
   "metadata": {},
   "source": [
    "#### Matrix"
   ]
  },
  {
   "cell_type": "code",
   "execution_count": 221,
   "metadata": {
    "ExecuteTime": {
     "end_time": "2020-01-04T21:01:35.504180Z",
     "start_time": "2020-01-04T21:01:35.499687Z"
    }
   },
   "outputs": [],
   "source": [
    "arr_valores = np.arange(0, 20, 2)"
   ]
  },
  {
   "cell_type": "code",
   "execution_count": 222,
   "metadata": {},
   "outputs": [
    {
     "data": {
      "text/plain": [
       "array([ 0,  2,  4,  6,  8, 10, 12, 14, 16, 18])"
      ]
     },
     "execution_count": 222,
     "metadata": {},
     "output_type": "execute_result"
    }
   ],
   "source": [
    "arr_valores"
   ]
  },
  {
   "cell_type": "code",
   "execution_count": 223,
   "metadata": {},
   "outputs": [],
   "source": [
    "matrix = arr_valores.reshape(5, 2)"
   ]
  },
  {
   "cell_type": "code",
   "execution_count": 217,
   "metadata": {},
   "outputs": [
    {
     "data": {
      "text/plain": [
       "array([[ 0,  2],\n",
       "       [ 4,  6],\n",
       "       [ 8, 10],\n",
       "       [12, 14],\n",
       "       [16, 18]])"
      ]
     },
     "execution_count": 217,
     "metadata": {},
     "output_type": "execute_result"
    }
   ],
   "source": [
    "# Quando imprimimos na tela aparece a matrix de forma agradável!\n",
    "matrix"
   ]
  },
  {
   "cell_type": "code",
   "execution_count": 232,
   "metadata": {},
   "outputs": [
    {
     "data": {
      "text/plain": [
       "[[0, 2], [4, 6], [8, 10], [12, 14], [16, 18]]"
      ]
     },
     "execution_count": 232,
     "metadata": {},
     "output_type": "execute_result"
    }
   ],
   "source": [
    "# Na lista não\n",
    "\n",
    "matrix.tolist() # transformando a matriz em uma lista de listas"
   ]
  },
  {
   "cell_type": "code",
   "execution_count": 224,
   "metadata": {},
   "outputs": [
    {
     "data": {
      "text/plain": [
       "(5, 2)"
      ]
     },
     "execution_count": 224,
     "metadata": {},
     "output_type": "execute_result"
    }
   ],
   "source": [
    "matrix.shape"
   ]
  },
  {
   "cell_type": "code",
   "execution_count": 226,
   "metadata": {},
   "outputs": [
    {
     "data": {
      "text/plain": [
       "5"
      ]
     },
     "execution_count": 226,
     "metadata": {},
     "output_type": "execute_result"
    }
   ],
   "source": [
    "matrix.shape[0]"
   ]
  },
  {
   "cell_type": "code",
   "execution_count": 227,
   "metadata": {},
   "outputs": [],
   "source": [
    "n_rows, n_cols = matrix.shape"
   ]
  },
  {
   "cell_type": "code",
   "execution_count": 233,
   "metadata": {},
   "outputs": [],
   "source": [
    "# Criando uma matriz identidade\n",
    "matriz_identidade = np.eye(5)"
   ]
  },
  {
   "cell_type": "code",
   "execution_count": 234,
   "metadata": {},
   "outputs": [
    {
     "data": {
      "text/plain": [
       "array([[1., 0., 0., 0., 0.],\n",
       "       [0., 1., 0., 0., 0.],\n",
       "       [0., 0., 1., 0., 0.],\n",
       "       [0., 0., 0., 1., 0.],\n",
       "       [0., 0., 0., 0., 1.]])"
      ]
     },
     "execution_count": 234,
     "metadata": {},
     "output_type": "execute_result"
    }
   ],
   "source": [
    "matriz_identidade"
   ]
  },
  {
   "cell_type": "code",
   "execution_count": null,
   "metadata": {
    "ExecuteTime": {
     "end_time": "2020-01-04T21:01:47.584713Z",
     "start_time": "2020-01-04T21:01:47.578723Z"
    }
   },
   "outputs": [],
   "source": []
  },
  {
   "cell_type": "code",
   "execution_count": 238,
   "metadata": {
    "ExecuteTime": {
     "end_time": "2020-01-04T21:01:50.382511Z",
     "start_time": "2020-01-04T21:01:50.376020Z"
    }
   },
   "outputs": [
    {
     "data": {
      "text/plain": [
       "2"
      ]
     },
     "execution_count": 238,
     "metadata": {},
     "output_type": "execute_result"
    }
   ],
   "source": [
    "matrix[0][1]"
   ]
  },
  {
   "cell_type": "code",
   "execution_count": 241,
   "metadata": {},
   "outputs": [
    {
     "data": {
      "text/plain": [
       "array([[ 0,  2],\n",
       "       [ 4,  6],\n",
       "       [ 8, 10],\n",
       "       [12, 14],\n",
       "       [16, 18]])"
      ]
     },
     "execution_count": 241,
     "metadata": {},
     "output_type": "execute_result"
    }
   ],
   "source": [
    "matrix"
   ]
  },
  {
   "cell_type": "code",
   "execution_count": 239,
   "metadata": {
    "ExecuteTime": {
     "end_time": "2020-01-04T21:01:54.428499Z",
     "start_time": "2020-01-04T21:01:54.423992Z"
    }
   },
   "outputs": [
    {
     "data": {
      "text/plain": [
       "array([[ 8, 10],\n",
       "       [12, 14],\n",
       "       [16, 18]])"
      ]
     },
     "execution_count": 239,
     "metadata": {},
     "output_type": "execute_result"
    }
   ],
   "source": [
    "matrix[2:]"
   ]
  },
  {
   "cell_type": "code",
   "execution_count": 248,
   "metadata": {},
   "outputs": [
    {
     "data": {
      "text/plain": [
       "array([[10],\n",
       "       [14],\n",
       "       [18]])"
      ]
     },
     "execution_count": 248,
     "metadata": {},
     "output_type": "execute_result"
    }
   ],
   "source": [
    "matrix[2: , 1:] # pegando a terceira linha em diante e a segunda coluna"
   ]
  },
  {
   "cell_type": "code",
   "execution_count": 249,
   "metadata": {},
   "outputs": [
    {
     "data": {
      "text/plain": [
       "array([[10],\n",
       "       [14],\n",
       "       [18]])"
      ]
     },
     "execution_count": 249,
     "metadata": {},
     "output_type": "execute_result"
    }
   ],
   "source": [
    "matrix[2:][ :  , # pegando todas as linhas\n",
    "           1:] # pegando a terceira linha em diante. E depois todas as linhas e a segunda coluna."
   ]
  },
  {
   "cell_type": "code",
   "execution_count": null,
   "metadata": {
    "ExecuteTime": {
     "end_time": "2020-01-04T21:01:55.005910Z",
     "start_time": "2020-01-04T21:01:55.000420Z"
    }
   },
   "outputs": [],
   "source": []
  },
  {
   "cell_type": "code",
   "execution_count": 250,
   "metadata": {},
   "outputs": [],
   "source": [
    "matriz_quadrada = np.array([[1000, 200], [2, -7]])"
   ]
  },
  {
   "cell_type": "code",
   "execution_count": 251,
   "metadata": {},
   "outputs": [
    {
     "data": {
      "text/plain": [
       "array([[1000,  200],\n",
       "       [   2,   -7]])"
      ]
     },
     "execution_count": 251,
     "metadata": {},
     "output_type": "execute_result"
    }
   ],
   "source": [
    "matriz_quadrada"
   ]
  },
  {
   "cell_type": "code",
   "execution_count": 253,
   "metadata": {},
   "outputs": [
    {
     "data": {
      "text/plain": [
       "-7400.0"
      ]
     },
     "execution_count": 253,
     "metadata": {},
     "output_type": "execute_result"
    }
   ],
   "source": [
    "# Achando a determinante\n",
    "np.linalg.det(matriz_quadrada)"
   ]
  },
  {
   "cell_type": "code",
   "execution_count": 255,
   "metadata": {},
   "outputs": [],
   "source": [
    "inv_matriz_quadrada = np.linalg.inv(matriz_quadrada)"
   ]
  },
  {
   "cell_type": "code",
   "execution_count": 258,
   "metadata": {},
   "outputs": [],
   "source": [
    "matriz_quadrada2 = np.array([[0,1], [1, 0]])"
   ]
  },
  {
   "cell_type": "code",
   "execution_count": 260,
   "metadata": {},
   "outputs": [
    {
     "data": {
      "text/plain": [
       "array([[1000,  200],\n",
       "       [   2,   -7]])"
      ]
     },
     "execution_count": 260,
     "metadata": {},
     "output_type": "execute_result"
    }
   ],
   "source": [
    "matriz_quadrada"
   ]
  },
  {
   "cell_type": "code",
   "execution_count": 259,
   "metadata": {},
   "outputs": [
    {
     "data": {
      "text/plain": [
       "array([[0, 1],\n",
       "       [1, 0]])"
      ]
     },
     "execution_count": 259,
     "metadata": {},
     "output_type": "execute_result"
    }
   ],
   "source": [
    "matriz_quadrada2"
   ]
  },
  {
   "cell_type": "code",
   "execution_count": 261,
   "metadata": {},
   "outputs": [
    {
     "data": {
      "text/plain": [
       "array([[  0, 200],\n",
       "       [  2,   0]])"
      ]
     },
     "execution_count": 261,
     "metadata": {},
     "output_type": "execute_result"
    }
   ],
   "source": [
    "matriz_quadrada * matriz_quadrada2"
   ]
  },
  {
   "cell_type": "markdown",
   "metadata": {},
   "source": [
    "```\n",
    "[a, b] @ [e, f]  = [a*e + b*g, a*f + b*h]  \n",
    "[c, d]   [g, h]    [c*e + d*g, c*f + d*h]  \n",
    "```"
   ]
  },
  {
   "cell_type": "code",
   "execution_count": 262,
   "metadata": {},
   "outputs": [
    {
     "data": {
      "text/plain": [
       "array([[ 200, 1000],\n",
       "       [  -7,    2]])"
      ]
     },
     "execution_count": 262,
     "metadata": {},
     "output_type": "execute_result"
    }
   ],
   "source": [
    "# Utilizando o @ para fazer a multiplicação de matrizes\n",
    "matriz_quadrada @ matriz_quadrada2"
   ]
  },
  {
   "cell_type": "code",
   "execution_count": 263,
   "metadata": {},
   "outputs": [
    {
     "data": {
      "text/plain": [
       "array([[ 200, 1000],\n",
       "       [  -7,    2]])"
      ]
     },
     "execution_count": 263,
     "metadata": {},
     "output_type": "execute_result"
    }
   ],
   "source": [
    "# Podemos utilizar o matmul() para realizar a multiplicação de matrizes.\n",
    "np.matmul(matriz_quadrada, matriz_quadrada2)"
   ]
  },
  {
   "cell_type": "code",
   "execution_count": 264,
   "metadata": {},
   "outputs": [],
   "source": [
    "vetor_3d = np.array([6400, 300, 200])"
   ]
  },
  {
   "cell_type": "code",
   "execution_count": 265,
   "metadata": {},
   "outputs": [
    {
     "data": {
      "text/plain": [
       "6410.148204214938"
      ]
     },
     "execution_count": 265,
     "metadata": {},
     "output_type": "execute_result"
    }
   ],
   "source": [
    "# Achando a norma de um vetor\n",
    "np.linalg.norm(vetor_3d)"
   ]
  },
  {
   "cell_type": "markdown",
   "metadata": {},
   "source": [
    "#### Máscaras"
   ]
  },
  {
   "cell_type": "code",
   "execution_count": 333,
   "metadata": {
    "ExecuteTime": {
     "end_time": "2020-01-04T21:02:00.445793Z",
     "start_time": "2020-01-04T21:02:00.441301Z"
    }
   },
   "outputs": [],
   "source": [
    "arr_aleatorio = np.random.random(size=100)"
   ]
  },
  {
   "cell_type": "code",
   "execution_count": 334,
   "metadata": {},
   "outputs": [
    {
     "data": {
      "text/plain": [
       "array([0.76063549, 0.47927263, 0.48779914, 0.23993638, 0.38447807,\n",
       "       0.7660832 , 0.78123504, 0.95477598, 0.80482852, 0.26230887,\n",
       "       0.55420766, 0.43862686, 0.08713906, 0.21347965, 0.58647081,\n",
       "       0.78381351, 0.20548986, 0.18211207, 0.29960479, 0.7729541 ,\n",
       "       0.29258863, 0.08536984, 0.65524618, 0.65308731, 0.09801989,\n",
       "       0.9303646 , 0.76390649, 0.7354853 , 0.27505668, 0.40392875,\n",
       "       0.96159475, 0.61538848, 0.34035254, 0.29180789, 0.19146251,\n",
       "       0.29186801, 0.37573328, 0.13724297, 0.14981161, 0.67491259,\n",
       "       0.01438056, 0.92379591, 0.18001769, 0.45128379, 0.09380285,\n",
       "       0.93680415, 0.21792442, 0.11463289, 0.49891053, 0.8316194 ,\n",
       "       0.23071359, 0.74492804, 0.78612687, 0.68299972, 0.96696273,\n",
       "       0.7533584 , 0.19325746, 0.77322619, 0.83582523, 0.04233407,\n",
       "       0.75282794, 0.11554262, 0.40333027, 0.50447078, 0.49900707,\n",
       "       0.42332687, 0.28418843, 0.03496398, 0.93920676, 0.96218222,\n",
       "       0.29386472, 0.80358111, 0.23279588, 0.47302596, 0.30422378,\n",
       "       0.09362142, 0.80660465, 0.90269535, 0.90862352, 0.9394639 ,\n",
       "       0.56472082, 0.85127219, 0.79920076, 0.80244217, 0.98934667,\n",
       "       0.55134519, 0.16336251, 0.18436886, 0.19199117, 0.67984543,\n",
       "       0.1622165 , 0.67031825, 0.25115323, 0.11998076, 0.83847026,\n",
       "       0.98843427, 0.19046834, 0.69093915, 0.16626762, 0.64876638])"
      ]
     },
     "execution_count": 334,
     "metadata": {},
     "output_type": "execute_result"
    }
   ],
   "source": [
    "arr_aleatorio"
   ]
  },
  {
   "cell_type": "code",
   "execution_count": 335,
   "metadata": {},
   "outputs": [
    {
     "data": {
      "text/plain": [
       "(100,)"
      ]
     },
     "execution_count": 335,
     "metadata": {},
     "output_type": "execute_result"
    }
   ],
   "source": [
    "arr_aleatorio.shape"
   ]
  },
  {
   "cell_type": "code",
   "execution_count": 340,
   "metadata": {},
   "outputs": [
    {
     "data": {
      "text/plain": [
       "array([ True, False, False, False, False,  True,  True,  True,  True,\n",
       "       False,  True, False, False, False,  True,  True, False, False,\n",
       "       False,  True, False, False,  True,  True, False,  True,  True,\n",
       "        True, False, False,  True,  True, False, False, False, False,\n",
       "       False, False, False,  True, False,  True, False, False, False,\n",
       "        True, False, False, False,  True, False,  True,  True,  True,\n",
       "        True,  True, False,  True,  True, False,  True, False, False,\n",
       "        True, False, False, False, False,  True,  True, False,  True,\n",
       "       False, False, False, False,  True,  True,  True,  True,  True,\n",
       "        True,  True,  True,  True,  True, False, False, False,  True,\n",
       "       False,  True, False, False,  True,  True, False,  True, False,\n",
       "        True])"
      ]
     },
     "execution_count": 340,
     "metadata": {},
     "output_type": "execute_result"
    }
   ],
   "source": [
    "arr_aleatorio > 0.5"
   ]
  },
  {
   "cell_type": "code",
   "execution_count": 336,
   "metadata": {},
   "outputs": [],
   "source": [
    "lista_aleatoria = arr_aleatorio.tolist()"
   ]
  },
  {
   "cell_type": "code",
   "execution_count": 341,
   "metadata": {
    "scrolled": true,
    "tags": []
   },
   "outputs": [
    {
     "data": {
      "text/plain": [
       "[True,\n",
       " False,\n",
       " False,\n",
       " False,\n",
       " False,\n",
       " True,\n",
       " True,\n",
       " True,\n",
       " True,\n",
       " False,\n",
       " True,\n",
       " False,\n",
       " False,\n",
       " False,\n",
       " True,\n",
       " True,\n",
       " False,\n",
       " False,\n",
       " False,\n",
       " True,\n",
       " False,\n",
       " False,\n",
       " True,\n",
       " True,\n",
       " False,\n",
       " True,\n",
       " True,\n",
       " True,\n",
       " False,\n",
       " False,\n",
       " True,\n",
       " True,\n",
       " False,\n",
       " False,\n",
       " False,\n",
       " False,\n",
       " False,\n",
       " False,\n",
       " False,\n",
       " True,\n",
       " False,\n",
       " True,\n",
       " False,\n",
       " False,\n",
       " False,\n",
       " True,\n",
       " False,\n",
       " False,\n",
       " False,\n",
       " True,\n",
       " False,\n",
       " True,\n",
       " True,\n",
       " True,\n",
       " True,\n",
       " True,\n",
       " False,\n",
       " True,\n",
       " True,\n",
       " False,\n",
       " True,\n",
       " False,\n",
       " False,\n",
       " True,\n",
       " False,\n",
       " False,\n",
       " False,\n",
       " False,\n",
       " True,\n",
       " True,\n",
       " False,\n",
       " True,\n",
       " False,\n",
       " False,\n",
       " False,\n",
       " False,\n",
       " True,\n",
       " True,\n",
       " True,\n",
       " True,\n",
       " True,\n",
       " True,\n",
       " True,\n",
       " True,\n",
       " True,\n",
       " True,\n",
       " False,\n",
       " False,\n",
       " False,\n",
       " True,\n",
       " False,\n",
       " True,\n",
       " False,\n",
       " False,\n",
       " True,\n",
       " True,\n",
       " False,\n",
       " True,\n",
       " False,\n",
       " True]"
      ]
     },
     "execution_count": 341,
     "metadata": {},
     "output_type": "execute_result"
    }
   ],
   "source": [
    "# Utilizando compreensão de listas\n",
    "[num > 0.5 for num in lista_aleatoria]"
   ]
  },
  {
   "cell_type": "code",
   "execution_count": 339,
   "metadata": {
    "scrolled": true,
    "tags": []
   },
   "outputs": [
    {
     "data": {
      "text/plain": [
       "[True,\n",
       " False,\n",
       " False,\n",
       " False,\n",
       " False,\n",
       " True,\n",
       " True,\n",
       " True,\n",
       " True,\n",
       " False,\n",
       " True,\n",
       " False,\n",
       " False,\n",
       " False,\n",
       " True,\n",
       " True,\n",
       " False,\n",
       " False,\n",
       " False,\n",
       " True,\n",
       " False,\n",
       " False,\n",
       " True,\n",
       " True,\n",
       " False,\n",
       " True,\n",
       " True,\n",
       " True,\n",
       " False,\n",
       " False,\n",
       " True,\n",
       " True,\n",
       " False,\n",
       " False,\n",
       " False,\n",
       " False,\n",
       " False,\n",
       " False,\n",
       " False,\n",
       " True,\n",
       " False,\n",
       " True,\n",
       " False,\n",
       " False,\n",
       " False,\n",
       " True,\n",
       " False,\n",
       " False,\n",
       " False,\n",
       " True,\n",
       " False,\n",
       " True,\n",
       " True,\n",
       " True,\n",
       " True,\n",
       " True,\n",
       " False,\n",
       " True,\n",
       " True,\n",
       " False,\n",
       " True,\n",
       " False,\n",
       " False,\n",
       " True,\n",
       " False,\n",
       " False,\n",
       " False,\n",
       " False,\n",
       " True,\n",
       " True,\n",
       " False,\n",
       " True,\n",
       " False,\n",
       " False,\n",
       " False,\n",
       " False,\n",
       " True,\n",
       " True,\n",
       " True,\n",
       " True,\n",
       " True,\n",
       " True,\n",
       " True,\n",
       " True,\n",
       " True,\n",
       " True,\n",
       " False,\n",
       " False,\n",
       " False,\n",
       " True,\n",
       " False,\n",
       " True,\n",
       " False,\n",
       " False,\n",
       " True,\n",
       " True,\n",
       " False,\n",
       " True,\n",
       " False,\n",
       " True]"
      ]
     },
     "execution_count": 339,
     "metadata": {},
     "output_type": "execute_result"
    }
   ],
   "source": [
    "# Utilizando compreensão de listas com if/else\n",
    "[True if num > 0.5 else False for num in lista_aleatoria]"
   ]
  },
  {
   "cell_type": "code",
   "execution_count": 342,
   "metadata": {},
   "outputs": [
    {
     "data": {
      "text/plain": [
       "array([ True, False, False, False, False,  True,  True,  True,  True,\n",
       "       False,  True, False, False, False,  True,  True, False, False,\n",
       "       False,  True, False, False,  True,  True, False,  True,  True,\n",
       "        True, False, False,  True,  True, False, False, False, False,\n",
       "       False, False, False,  True, False,  True, False, False, False,\n",
       "        True, False, False, False,  True, False,  True,  True,  True,\n",
       "        True,  True, False,  True,  True, False,  True, False, False,\n",
       "        True, False, False, False, False,  True,  True, False,  True,\n",
       "       False, False, False, False,  True,  True,  True,  True,  True,\n",
       "        True,  True,  True,  True,  True, False, False, False,  True,\n",
       "       False,  True, False, False,  True,  True, False,  True, False,\n",
       "        True])"
      ]
     },
     "execution_count": 342,
     "metadata": {},
     "output_type": "execute_result"
    }
   ],
   "source": [
    "arr_aleatorio > 0.5"
   ]
  },
  {
   "cell_type": "code",
   "execution_count": 343,
   "metadata": {},
   "outputs": [
    {
     "data": {
      "text/plain": [
       "array([0.76063549, 0.7660832 , 0.78123504, 0.95477598, 0.80482852,\n",
       "       0.55420766, 0.58647081, 0.78381351, 0.7729541 , 0.65524618,\n",
       "       0.65308731, 0.9303646 , 0.76390649, 0.7354853 , 0.96159475,\n",
       "       0.61538848, 0.67491259, 0.92379591, 0.93680415, 0.8316194 ,\n",
       "       0.74492804, 0.78612687, 0.68299972, 0.96696273, 0.7533584 ,\n",
       "       0.77322619, 0.83582523, 0.75282794, 0.50447078, 0.93920676,\n",
       "       0.96218222, 0.80358111, 0.80660465, 0.90269535, 0.90862352,\n",
       "       0.9394639 , 0.56472082, 0.85127219, 0.79920076, 0.80244217,\n",
       "       0.98934667, 0.55134519, 0.67984543, 0.67031825, 0.83847026,\n",
       "       0.98843427, 0.69093915, 0.64876638])"
      ]
     },
     "execution_count": 343,
     "metadata": {},
     "output_type": "execute_result"
    }
   ],
   "source": [
    "arr_aleatorio[arr_aleatorio > 0.5]"
   ]
  },
  {
   "cell_type": "code",
   "execution_count": 348,
   "metadata": {},
   "outputs": [],
   "source": [
    "arr_inteiros = np.random.randint(0, 100, 100)"
   ]
  },
  {
   "cell_type": "code",
   "execution_count": 349,
   "metadata": {},
   "outputs": [
    {
     "data": {
      "text/plain": [
       "array([ 0, 64,  6, 94,  3, 87,  0, 37, 84, 58, 22, 34,  8, 67, 77, 66, 66,\n",
       "       35, 49, 76, 48, 21,  1, 83, 27, 72, 55,  6, 49, 35, 64, 24, 86, 18,\n",
       "       52, 26, 42, 85, 58, 49, 57, 71, 23, 17, 53, 80, 99, 23, 87, 90,  0,\n",
       "       50, 47, 58,  9, 13,  6, 47, 81, 82, 75, 25, 42, 63, 42, 49, 90, 16,\n",
       "       99, 48, 73, 80, 51, 52, 63,  5, 82, 23, 18, 37, 68, 88, 84,  1,  3,\n",
       "       99, 88, 87, 87,  4, 59, 94, 98, 18, 41, 17, 27, 32, 64,  1])"
      ]
     },
     "execution_count": 349,
     "metadata": {},
     "output_type": "execute_result"
    }
   ],
   "source": [
    "arr_inteiros"
   ]
  },
  {
   "cell_type": "code",
   "execution_count": 351,
   "metadata": {},
   "outputs": [],
   "source": [
    "mascara_pares = (arr_inteiros % 2 == 0)"
   ]
  },
  {
   "cell_type": "code",
   "execution_count": 352,
   "metadata": {},
   "outputs": [
    {
     "data": {
      "text/plain": [
       "array([ 0, 64,  6, 94,  0, 84, 58, 22, 34,  8, 66, 66, 76, 48, 72,  6, 64,\n",
       "       24, 86, 18, 52, 26, 42, 58, 80, 90,  0, 50, 58,  6, 82, 42, 42, 90,\n",
       "       16, 48, 80, 52, 82, 18, 68, 88, 84, 88,  4, 94, 98, 18, 32, 64])"
      ]
     },
     "execution_count": 352,
     "metadata": {},
     "output_type": "execute_result"
    }
   ],
   "source": [
    "arr_inteiros[mascara_pares]"
   ]
  },
  {
   "cell_type": "code",
   "execution_count": 354,
   "metadata": {},
   "outputs": [],
   "source": [
    "mascara_maiores = (arr_inteiros >= 50)"
   ]
  },
  {
   "cell_type": "code",
   "execution_count": 355,
   "metadata": {},
   "outputs": [
    {
     "data": {
      "text/plain": [
       "array([False,  True, False,  True, False,  True, False, False,  True,\n",
       "        True, False, False, False,  True,  True,  True,  True, False,\n",
       "       False,  True, False, False, False,  True, False,  True,  True,\n",
       "       False, False, False,  True, False,  True, False,  True, False,\n",
       "       False,  True,  True, False,  True,  True, False, False,  True,\n",
       "        True,  True, False,  True,  True, False,  True, False,  True,\n",
       "       False, False, False, False,  True,  True,  True, False, False,\n",
       "        True, False, False,  True, False,  True, False,  True,  True,\n",
       "        True,  True,  True, False,  True, False, False, False,  True,\n",
       "        True,  True, False, False,  True,  True,  True,  True, False,\n",
       "        True,  True,  True, False, False, False, False, False,  True,\n",
       "       False])"
      ]
     },
     "execution_count": 355,
     "metadata": {},
     "output_type": "execute_result"
    }
   ],
   "source": [
    "mascara_maiores"
   ]
  },
  {
   "cell_type": "code",
   "execution_count": 356,
   "metadata": {},
   "outputs": [
    {
     "data": {
      "text/plain": [
       "array([64, 94, 87, 84, 58, 67, 77, 66, 66, 76, 83, 72, 55, 64, 86, 52, 85,\n",
       "       58, 57, 71, 53, 80, 99, 87, 90, 50, 58, 81, 82, 75, 63, 90, 99, 73,\n",
       "       80, 51, 52, 63, 82, 68, 88, 84, 99, 88, 87, 87, 59, 94, 98, 64])"
      ]
     },
     "execution_count": 356,
     "metadata": {},
     "output_type": "execute_result"
    }
   ],
   "source": [
    "arr_inteiros[mascara_maiores]"
   ]
  },
  {
   "cell_type": "code",
   "execution_count": 357,
   "metadata": {},
   "outputs": [],
   "source": [
    "arr_maiores = arr_inteiros[mascara_maiores]"
   ]
  },
  {
   "cell_type": "code",
   "execution_count": 359,
   "metadata": {},
   "outputs": [
    {
     "data": {
      "text/plain": [
       "array([64, 94, 84, 58, 66, 66, 76, 72, 64, 86, 52, 58, 80, 90, 50, 58, 82,\n",
       "       90, 80, 52, 82, 68, 88, 84, 88, 94, 98, 64])"
      ]
     },
     "execution_count": 359,
     "metadata": {},
     "output_type": "execute_result"
    }
   ],
   "source": [
    "arr_maiores[(arr_maiores % 2 == 0)]"
   ]
  },
  {
   "cell_type": "code",
   "execution_count": 360,
   "metadata": {},
   "outputs": [
    {
     "data": {
      "text/plain": [
       "array([False,  True, False,  True, False,  True, False, False,  True,\n",
       "        True, False, False, False,  True,  True,  True,  True, False,\n",
       "       False,  True, False, False, False,  True, False,  True,  True,\n",
       "       False, False, False,  True, False,  True, False,  True, False,\n",
       "       False,  True,  True, False,  True,  True, False, False,  True,\n",
       "        True,  True, False,  True,  True, False,  True, False,  True,\n",
       "       False, False, False, False,  True,  True,  True, False, False,\n",
       "        True, False, False,  True, False,  True, False,  True,  True,\n",
       "        True,  True,  True, False,  True, False, False, False,  True,\n",
       "        True,  True, False, False,  True,  True,  True,  True, False,\n",
       "        True,  True,  True, False, False, False, False, False,  True,\n",
       "       False])"
      ]
     },
     "execution_count": 360,
     "metadata": {},
     "output_type": "execute_result"
    }
   ],
   "source": [
    "mascara_maiores"
   ]
  },
  {
   "cell_type": "code",
   "execution_count": 361,
   "metadata": {},
   "outputs": [
    {
     "data": {
      "text/plain": [
       "array([ True,  True,  True,  True, False, False,  True, False,  True,\n",
       "        True,  True,  True,  True, False, False,  True,  True, False,\n",
       "       False,  True,  True, False, False, False, False,  True, False,\n",
       "        True, False, False,  True,  True,  True,  True,  True,  True,\n",
       "        True, False,  True, False, False, False, False, False, False,\n",
       "        True, False, False, False,  True,  True,  True, False,  True,\n",
       "       False, False,  True, False, False,  True, False, False,  True,\n",
       "       False,  True, False,  True,  True, False,  True, False,  True,\n",
       "       False,  True, False, False,  True, False,  True, False,  True,\n",
       "        True,  True, False, False, False,  True, False, False,  True,\n",
       "       False,  True,  True,  True, False, False, False,  True,  True,\n",
       "       False])"
      ]
     },
     "execution_count": 361,
     "metadata": {},
     "output_type": "execute_result"
    }
   ],
   "source": [
    "mascara_pares"
   ]
  },
  {
   "cell_type": "code",
   "execution_count": 366,
   "metadata": {},
   "outputs": [
    {
     "data": {
      "text/plain": [
       "array([False,  True, False,  True, False, False, False, False,  True,\n",
       "        True, False, False, False, False, False,  True,  True, False,\n",
       "       False,  True, False, False, False, False, False,  True, False,\n",
       "       False, False, False,  True, False,  True, False,  True, False,\n",
       "       False, False,  True, False, False, False, False, False, False,\n",
       "        True, False, False, False,  True, False,  True, False,  True,\n",
       "       False, False, False, False, False,  True, False, False, False,\n",
       "       False, False, False,  True, False, False, False, False,  True,\n",
       "       False,  True, False, False,  True, False, False, False,  True,\n",
       "        True,  True, False, False, False,  True, False, False, False,\n",
       "       False,  True,  True, False, False, False, False, False,  True,\n",
       "       False])"
      ]
     },
     "execution_count": 366,
     "metadata": {},
     "output_type": "execute_result"
    }
   ],
   "source": [
    "(mascara_maiores) & (mascara_pares)  # o operador and gera um erro!!!"
   ]
  },
  {
   "cell_type": "code",
   "execution_count": 363,
   "metadata": {},
   "outputs": [
    {
     "data": {
      "text/plain": [
       "array([64, 94, 84, 58, 66, 66, 76, 72, 64, 86, 52, 58, 80, 90, 50, 58, 82,\n",
       "       90, 80, 52, 82, 68, 88, 84, 88, 94, 98, 64])"
      ]
     },
     "execution_count": 363,
     "metadata": {},
     "output_type": "execute_result"
    }
   ],
   "source": [
    "arr_inteiros[(mascara_maiores) & (mascara_pares)]"
   ]
  },
  {
   "cell_type": "code",
   "execution_count": 367,
   "metadata": {},
   "outputs": [
    {
     "data": {
      "text/plain": [
       "array([ 0, 64,  6, 94, 87,  0, 84, 58, 22, 34,  8, 67, 77, 66, 66, 76, 48,\n",
       "       83, 72, 55,  6, 64, 24, 86, 18, 52, 26, 42, 85, 58, 57, 71, 53, 80,\n",
       "       99, 87, 90,  0, 50, 58,  6, 81, 82, 75, 42, 63, 42, 90, 16, 99, 48,\n",
       "       73, 80, 51, 52, 63, 82, 18, 68, 88, 84, 99, 88, 87, 87,  4, 59, 94,\n",
       "       98, 18, 32, 64])"
      ]
     },
     "execution_count": 367,
     "metadata": {},
     "output_type": "execute_result"
    }
   ],
   "source": [
    "arr_inteiros[(mascara_maiores) | (mascara_pares)]"
   ]
  },
  {
   "cell_type": "code",
   "execution_count": 370,
   "metadata": {},
   "outputs": [
    {
     "data": {
      "text/plain": [
       "array([ 0, 64,  6, 94,  3, 87,  0, 37, 84, 58, 22, 34,  8, 67, 77, 66, 66,\n",
       "       35, 49, 76, 48, 21,  1, 83, 27, 72, 55,  6, 49, 35, 64, 24, 86, 18,\n",
       "       52, 26, 42, 85, 58, 49, 57, 71, 23, 17, 53, 80, 99, 23, 87, 90,  0,\n",
       "       50, 47, 58,  9, 13,  6, 47, 81, 82, 75, 25, 42, 63, 42, 49, 90, 16,\n",
       "       99, 48, 73, 80, 51, 52, 63,  5, 82, 23, 18, 37, 68, 88, 84,  1,  3,\n",
       "       99, 88, 87, 87,  4, 59, 94, 98, 18, 41, 17, 27, 32, 64,  1])"
      ]
     },
     "execution_count": 370,
     "metadata": {},
     "output_type": "execute_result"
    }
   ],
   "source": [
    "arr_inteiros"
   ]
  },
  {
   "cell_type": "code",
   "execution_count": 376,
   "metadata": {},
   "outputs": [
    {
     "data": {
      "text/plain": [
       "array([ -10,  -10,  -10,  -10, 1000, 1000,  -10, 1000,  -10,  -10,  -10,\n",
       "        -10,  -10, 1000, 1000,  -10,  -10, 1000, 1000,  -10,  -10, 1000,\n",
       "       1000, 1000, 1000,  -10, 1000,  -10, 1000, 1000,  -10,  -10,  -10,\n",
       "        -10,  -10,  -10,  -10, 1000,  -10, 1000, 1000, 1000, 1000, 1000,\n",
       "       1000,  -10, 1000, 1000, 1000,  -10,  -10,  -10, 1000,  -10, 1000,\n",
       "       1000,  -10, 1000, 1000,  -10, 1000, 1000,  -10, 1000,  -10, 1000,\n",
       "        -10,  -10, 1000,  -10, 1000,  -10, 1000,  -10, 1000, 1000,  -10,\n",
       "       1000,  -10, 1000,  -10,  -10,  -10, 1000, 1000, 1000,  -10, 1000,\n",
       "       1000,  -10, 1000,  -10,  -10,  -10, 1000, 1000, 1000,  -10,  -10,\n",
       "       1000])"
      ]
     },
     "execution_count": 376,
     "metadata": {},
     "output_type": "execute_result"
    }
   ],
   "source": [
    "# Operação de substituição\n",
    "#         condição              , Verdadeiro, Falso\n",
    "np.where((arr_inteiros % 2 == 0), -10       , 1000)"
   ]
  },
  {
   "cell_type": "code",
   "execution_count": 374,
   "metadata": {},
   "outputs": [
    {
     "data": {
      "text/plain": [
       "array([    0, -1000,     6, -1000,  1000,  1000,     0,  1000, -1000,\n",
       "       -1000,    22,    34,     8,  1000,  1000, -1000, -1000,  1000,\n",
       "        1000, -1000,    48,  1000,  1000,  1000,  1000, -1000,  1000,\n",
       "           6,  1000,  1000, -1000,    24, -1000,    18, -1000,    26,\n",
       "          42,  1000, -1000,  1000,  1000,  1000,  1000,  1000,  1000,\n",
       "       -1000,  1000,  1000,  1000, -1000,     0,    50,  1000, -1000,\n",
       "        1000,  1000,     6,  1000,  1000, -1000,  1000,  1000,    42,\n",
       "        1000,    42,  1000, -1000,    16,  1000,    48,  1000, -1000,\n",
       "        1000, -1000,  1000,  1000, -1000,  1000,    18,  1000, -1000,\n",
       "       -1000, -1000,  1000,  1000,  1000, -1000,  1000,  1000,     4,\n",
       "        1000, -1000, -1000,    18,  1000,  1000,  1000,    32, -1000,\n",
       "        1000])"
      ]
     },
     "execution_count": 374,
     "metadata": {},
     "output_type": "execute_result"
    }
   ],
   "source": [
    "# IF(Cond, IF(Cond2, True, False), False)\n",
    "np.where((arr_inteiros % 2 == 0),\n",
    "         np.where(arr_inteiros > 50, -1000, -10), 1000)"
   ]
  },
  {
   "cell_type": "code",
   "execution_count": 375,
   "metadata": {},
   "outputs": [
    {
     "data": {
      "text/plain": [
       "array([   0, -640,  -60, -940,   30,  870,    0,  370, -840, -580, -220,\n",
       "       -340,  -80,  670,  770, -660, -660,  350,  490, -760, -480,  210,\n",
       "         10,  830,  270, -720,  550,  -60,  490,  350, -640, -240, -860,\n",
       "       -180, -520, -260, -420,  850, -580,  490,  570,  710,  230,  170,\n",
       "        530, -800,  990,  230,  870, -900,    0, -500,  470, -580,   90,\n",
       "        130,  -60,  470,  810, -820,  750,  250, -420,  630, -420,  490,\n",
       "       -900, -160,  990, -480,  730, -800,  510, -520,  630,   50, -820,\n",
       "        230, -180,  370, -680, -880, -840,   10,   30,  990, -880,  870,\n",
       "        870,  -40,  590, -940, -980, -180,  410,  170,  270, -320, -640,\n",
       "         10])"
      ]
     },
     "execution_count": 375,
     "metadata": {},
     "output_type": "execute_result"
    }
   ],
   "source": [
    "# Aplicar uma formula no elemento array caso ele seja verdadeiro, ou falso.\n",
    "np.where((arr_inteiros % 2 == 0), arr_inteiros * -10, arr_inteiros * 10)"
   ]
  },
  {
   "cell_type": "code",
   "execution_count": 377,
   "metadata": {},
   "outputs": [
    {
     "data": {
      "text/plain": [
       "2.302585092994046"
      ]
     },
     "execution_count": 377,
     "metadata": {},
     "output_type": "execute_result"
    }
   ],
   "source": [
    "np.log(10)"
   ]
  },
  {
   "cell_type": "code",
   "execution_count": 378,
   "metadata": {},
   "outputs": [
    {
     "data": {
      "text/plain": [
       "10.000000000000002"
      ]
     },
     "execution_count": 378,
     "metadata": {},
     "output_type": "execute_result"
    }
   ],
   "source": [
    "np.exp(2.302585092994046)"
   ]
  },
  {
   "cell_type": "code",
   "execution_count": 397,
   "metadata": {},
   "outputs": [],
   "source": [
    "arr1 = np.array([0, 1, 2, 3, 4, 5, 6, 7, 8])"
   ]
  },
  {
   "cell_type": "code",
   "execution_count": 398,
   "metadata": {},
   "outputs": [
    {
     "data": {
      "text/plain": [
       "array([0, 1, 2, 3, 4, 5, 6, 7, 8])"
      ]
     },
     "execution_count": 398,
     "metadata": {},
     "output_type": "execute_result"
    }
   ],
   "source": [
    "arr1"
   ]
  },
  {
   "cell_type": "code",
   "execution_count": 399,
   "metadata": {},
   "outputs": [],
   "source": [
    "arr2 = arr1.copy()"
   ]
  },
  {
   "cell_type": "code",
   "execution_count": 400,
   "metadata": {},
   "outputs": [],
   "source": [
    "arr3 = arr1"
   ]
  },
  {
   "cell_type": "code",
   "execution_count": 401,
   "metadata": {},
   "outputs": [],
   "source": [
    "arr1[0] = 10"
   ]
  },
  {
   "cell_type": "code",
   "execution_count": 402,
   "metadata": {},
   "outputs": [
    {
     "data": {
      "text/plain": [
       "array([10,  1,  2,  3,  4,  5,  6,  7,  8])"
      ]
     },
     "execution_count": 402,
     "metadata": {},
     "output_type": "execute_result"
    }
   ],
   "source": [
    "arr1"
   ]
  },
  {
   "cell_type": "code",
   "execution_count": 403,
   "metadata": {},
   "outputs": [
    {
     "data": {
      "text/plain": [
       "array([0, 1, 2, 3, 4, 5, 6, 7, 8])"
      ]
     },
     "execution_count": 403,
     "metadata": {},
     "output_type": "execute_result"
    }
   ],
   "source": [
    "arr2"
   ]
  },
  {
   "cell_type": "code",
   "execution_count": 404,
   "metadata": {},
   "outputs": [
    {
     "data": {
      "text/plain": [
       "array([10,  1,  2,  3,  4,  5,  6,  7,  8])"
      ]
     },
     "execution_count": 404,
     "metadata": {},
     "output_type": "execute_result"
    }
   ],
   "source": [
    "arr3"
   ]
  },
  {
   "cell_type": "code",
   "execution_count": 405,
   "metadata": {},
   "outputs": [
    {
     "data": {
      "text/plain": [
       "(9,)"
      ]
     },
     "execution_count": 405,
     "metadata": {},
     "output_type": "execute_result"
    }
   ],
   "source": [
    "arr1.shape"
   ]
  },
  {
   "cell_type": "code",
   "execution_count": 406,
   "metadata": {},
   "outputs": [
    {
     "data": {
      "text/plain": [
       "(9,)"
      ]
     },
     "execution_count": 406,
     "metadata": {},
     "output_type": "execute_result"
    }
   ],
   "source": [
    "arr2.shape"
   ]
  },
  {
   "cell_type": "code",
   "execution_count": 407,
   "metadata": {},
   "outputs": [
    {
     "data": {
      "text/plain": [
       "204"
      ]
     },
     "execution_count": 407,
     "metadata": {},
     "output_type": "execute_result"
    }
   ],
   "source": [
    "arr1 @ arr2"
   ]
  },
  {
   "cell_type": "code",
   "execution_count": 409,
   "metadata": {},
   "outputs": [],
   "source": [
    "arr1 = arr1.reshape(9, 1)"
   ]
  },
  {
   "cell_type": "code",
   "execution_count": 410,
   "metadata": {},
   "outputs": [
    {
     "data": {
      "text/plain": [
       "(9, 1)"
      ]
     },
     "execution_count": 410,
     "metadata": {},
     "output_type": "execute_result"
    }
   ],
   "source": [
    "arr1.shape"
   ]
  },
  {
   "cell_type": "code",
   "execution_count": 412,
   "metadata": {},
   "outputs": [
    {
     "data": {
      "text/plain": [
       "array([[10,  1,  2],\n",
       "       [ 3,  4,  5],\n",
       "       [ 6,  7,  8]])"
      ]
     },
     "execution_count": 412,
     "metadata": {},
     "output_type": "execute_result"
    }
   ],
   "source": [
    "arr1.reshape(3, 3)"
   ]
  },
  {
   "cell_type": "code",
   "execution_count": 413,
   "metadata": {},
   "outputs": [
    {
     "data": {
      "text/plain": [
       "array([[10,  1,  2],\n",
       "       [ 3,  4,  5],\n",
       "       [ 6,  7,  8]])"
      ]
     },
     "execution_count": 413,
     "metadata": {},
     "output_type": "execute_result"
    }
   ],
   "source": [
    "arr1.reshape(3, -1)"
   ]
  },
  {
   "cell_type": "code",
   "execution_count": 417,
   "metadata": {},
   "outputs": [
    {
     "data": {
      "text/plain": [
       "array([[10,  1,  2,  3,  4,  5,  6,  7,  8]])"
      ]
     },
     "execution_count": 417,
     "metadata": {},
     "output_type": "execute_result"
    }
   ],
   "source": [
    "arr1.reshape(-1, 9)"
   ]
  },
  {
   "cell_type": "code",
   "execution_count": 419,
   "metadata": {},
   "outputs": [
    {
     "data": {
      "text/plain": [
       "(9, 1)"
      ]
     },
     "execution_count": 419,
     "metadata": {},
     "output_type": "execute_result"
    }
   ],
   "source": [
    "arr1.shape"
   ]
  },
  {
   "cell_type": "code",
   "execution_count": 420,
   "metadata": {},
   "outputs": [
    {
     "data": {
      "text/plain": [
       "array([0, 1, 2, 3, 4, 5, 6, 7, 8])"
      ]
     },
     "execution_count": 420,
     "metadata": {},
     "output_type": "execute_result"
    }
   ],
   "source": [
    "arr2"
   ]
  },
  {
   "cell_type": "code",
   "execution_count": 421,
   "metadata": {},
   "outputs": [
    {
     "data": {
      "text/plain": [
       "(9,)"
      ]
     },
     "execution_count": 421,
     "metadata": {},
     "output_type": "execute_result"
    }
   ],
   "source": [
    "arr2.shape"
   ]
  },
  {
   "cell_type": "code",
   "execution_count": 423,
   "metadata": {},
   "outputs": [],
   "source": [
    "arr2 = arr2.reshape(1, -1)"
   ]
  },
  {
   "cell_type": "code",
   "execution_count": 425,
   "metadata": {},
   "outputs": [
    {
     "data": {
      "text/plain": [
       "(1, 9)"
      ]
     },
     "execution_count": 425,
     "metadata": {},
     "output_type": "execute_result"
    }
   ],
   "source": [
    "arr2.shape"
   ]
  },
  {
   "cell_type": "code",
   "execution_count": 424,
   "metadata": {},
   "outputs": [
    {
     "data": {
      "text/plain": [
       "array([[ 0, 10, 20, 30, 40, 50, 60, 70, 80],\n",
       "       [ 0,  1,  2,  3,  4,  5,  6,  7,  8],\n",
       "       [ 0,  2,  4,  6,  8, 10, 12, 14, 16],\n",
       "       [ 0,  3,  6,  9, 12, 15, 18, 21, 24],\n",
       "       [ 0,  4,  8, 12, 16, 20, 24, 28, 32],\n",
       "       [ 0,  5, 10, 15, 20, 25, 30, 35, 40],\n",
       "       [ 0,  6, 12, 18, 24, 30, 36, 42, 48],\n",
       "       [ 0,  7, 14, 21, 28, 35, 42, 49, 56],\n",
       "       [ 0,  8, 16, 24, 32, 40, 48, 56, 64]])"
      ]
     },
     "execution_count": 424,
     "metadata": {},
     "output_type": "execute_result"
    }
   ],
   "source": [
    "# (9,1) @ (1,9) => (9, 9)\n",
    "(arr1 @ arr2)"
   ]
  },
  {
   "cell_type": "code",
   "execution_count": null,
   "metadata": {},
   "outputs": [],
   "source": []
  },
  {
   "cell_type": "code",
   "execution_count": 427,
   "metadata": {},
   "outputs": [
    {
     "data": {
      "text/plain": [
       "array([[204]])"
      ]
     },
     "execution_count": 427,
     "metadata": {},
     "output_type": "execute_result"
    }
   ],
   "source": [
    "# (1,9) @ (9,1) => (1,1)\n",
    "arr2 @ arr1"
   ]
  },
  {
   "cell_type": "code",
   "execution_count": 428,
   "metadata": {},
   "outputs": [
    {
     "data": {
      "text/plain": [
       "array([[ 0,  0,  0,  0,  0,  0,  0,  0,  0],\n",
       "       [10,  1,  2,  3,  4,  5,  6,  7,  8],\n",
       "       [20,  2,  4,  6,  8, 10, 12, 14, 16],\n",
       "       [30,  3,  6,  9, 12, 15, 18, 21, 24],\n",
       "       [40,  4,  8, 12, 16, 20, 24, 28, 32],\n",
       "       [50,  5, 10, 15, 20, 25, 30, 35, 40],\n",
       "       [60,  6, 12, 18, 24, 30, 36, 42, 48],\n",
       "       [70,  7, 14, 21, 28, 35, 42, 49, 56],\n",
       "       [80,  8, 16, 24, 32, 40, 48, 56, 64]])"
      ]
     },
     "execution_count": 428,
     "metadata": {},
     "output_type": "execute_result"
    }
   ],
   "source": [
    "# Transpondo a matriz\n",
    "(arr1 @ arr2).T"
   ]
  },
  {
   "cell_type": "code",
   "execution_count": 432,
   "metadata": {},
   "outputs": [],
   "source": [
    "x = np.linspace(1, 100, 100)"
   ]
  },
  {
   "cell_type": "code",
   "execution_count": 433,
   "metadata": {},
   "outputs": [
    {
     "data": {
      "text/plain": [
       "array([  1.,   2.,   3.,   4.,   5.,   6.,   7.,   8.,   9.,  10.,  11.,\n",
       "        12.,  13.,  14.,  15.,  16.,  17.,  18.,  19.,  20.,  21.,  22.,\n",
       "        23.,  24.,  25.,  26.,  27.,  28.,  29.,  30.,  31.,  32.,  33.,\n",
       "        34.,  35.,  36.,  37.,  38.,  39.,  40.,  41.,  42.,  43.,  44.,\n",
       "        45.,  46.,  47.,  48.,  49.,  50.,  51.,  52.,  53.,  54.,  55.,\n",
       "        56.,  57.,  58.,  59.,  60.,  61.,  62.,  63.,  64.,  65.,  66.,\n",
       "        67.,  68.,  69.,  70.,  71.,  72.,  73.,  74.,  75.,  76.,  77.,\n",
       "        78.,  79.,  80.,  81.,  82.,  83.,  84.,  85.,  86.,  87.,  88.,\n",
       "        89.,  90.,  91.,  92.,  93.,  94.,  95.,  96.,  97.,  98.,  99.,\n",
       "       100.])"
      ]
     },
     "execution_count": 433,
     "metadata": {},
     "output_type": "execute_result"
    }
   ],
   "source": [
    "x"
   ]
  },
  {
   "cell_type": "code",
   "execution_count": 442,
   "metadata": {},
   "outputs": [],
   "source": [
    "funcoes = [\n",
    "    np.sin(x),\n",
    "    np.cos(x),\n",
    "#     np.tan(x),\n",
    "    np.exp(x),\n",
    "    np.log(x),\n",
    "#     np.rad2deg(x)\n",
    "]"
   ]
  },
  {
   "cell_type": "code",
   "execution_count": null,
   "metadata": {},
   "outputs": [],
   "source": []
  },
  {
   "cell_type": "code",
   "execution_count": 443,
   "metadata": {
    "scrolled": true,
    "tags": []
   },
   "outputs": [
    {
     "name": "stdout",
     "output_type": "stream",
     "text": [
      "[ 0.84147098  0.90929743  0.14112001 -0.7568025  -0.95892427 -0.2794155\n",
      "  0.6569866   0.98935825  0.41211849 -0.54402111 -0.99999021 -0.53657292\n",
      "  0.42016704  0.99060736  0.65028784 -0.28790332 -0.96139749 -0.75098725\n",
      "  0.14987721  0.91294525  0.83665564 -0.00885131 -0.8462204  -0.90557836\n",
      " -0.13235175  0.76255845  0.95637593  0.27090579 -0.66363388 -0.98803162\n",
      " -0.40403765  0.55142668  0.99991186  0.52908269 -0.42818267 -0.99177885\n",
      " -0.64353813  0.29636858  0.96379539  0.74511316 -0.15862267 -0.91652155\n",
      " -0.83177474  0.01770193  0.85090352  0.90178835  0.12357312 -0.76825466\n",
      " -0.95375265 -0.26237485  0.67022918  0.98662759  0.39592515 -0.55878905\n",
      " -0.99975517 -0.521551    0.43616476  0.99287265  0.63673801 -0.30481062\n",
      " -0.96611777 -0.7391807   0.1673557   0.92002604  0.82682868 -0.02655115\n",
      " -0.85551998 -0.89792768 -0.11478481  0.77389068  0.95105465  0.25382336\n",
      " -0.67677196 -0.98514626 -0.38778164  0.56610764  0.99952016  0.51397846\n",
      " -0.44411267 -0.99388865 -0.62988799  0.31322878  0.96836446  0.73319032\n",
      " -0.17607562 -0.92345845 -0.82181784  0.0353983   0.86006941  0.89399666\n",
      "  0.10598751 -0.77946607 -0.94828214 -0.24525199  0.68326171  0.98358775\n",
      "  0.37960774 -0.57338187 -0.99920683 -0.50636564]\n",
      "[ 0.54030231 -0.41614684 -0.9899925  -0.65364362  0.28366219  0.96017029\n",
      "  0.75390225 -0.14550003 -0.91113026 -0.83907153  0.0044257   0.84385396\n",
      "  0.90744678  0.13673722 -0.75968791 -0.95765948 -0.27516334  0.66031671\n",
      "  0.98870462  0.40808206 -0.54772926 -0.99996083 -0.53283302  0.42417901\n",
      "  0.99120281  0.64691932 -0.29213881 -0.96260587 -0.74805753  0.15425145\n",
      "  0.91474236  0.83422336 -0.01327675 -0.84857027 -0.90369221 -0.12796369\n",
      "  0.76541405  0.95507364  0.26664293 -0.66693806 -0.98733928 -0.39998531\n",
      "  0.5551133   0.99984331  0.52532199 -0.43217794 -0.99233547 -0.64014434\n",
      "  0.30059254  0.96496603  0.7421542  -0.16299078 -0.91828279 -0.82930983\n",
      "  0.02212676  0.85322011  0.89986683  0.11918014 -0.77108022 -0.95241298\n",
      " -0.25810164  0.67350716  0.98589658  0.39185723 -0.56245385 -0.99964746\n",
      " -0.5177698   0.44014302  0.99339038  0.6333192  -0.30902273 -0.96725059\n",
      " -0.73619272  0.17171734  0.92175127  0.82433133 -0.03097503 -0.85780309\n",
      " -0.89597095 -0.11038724  0.77668598  0.9496777   0.24954012 -0.6800235\n",
      " -0.98437664 -0.38369844  0.56975033  0.99937328  0.51017704 -0.44807362\n",
      " -0.99436746 -0.62644445  0.3174287   0.96945937  0.73017356 -0.18043045\n",
      " -0.92514754 -0.81928825  0.03982088  0.86231887]\n",
      "[2.71828183e+00 7.38905610e+00 2.00855369e+01 5.45981500e+01\n",
      " 1.48413159e+02 4.03428793e+02 1.09663316e+03 2.98095799e+03\n",
      " 8.10308393e+03 2.20264658e+04 5.98741417e+04 1.62754791e+05\n",
      " 4.42413392e+05 1.20260428e+06 3.26901737e+06 8.88611052e+06\n",
      " 2.41549528e+07 6.56599691e+07 1.78482301e+08 4.85165195e+08\n",
      " 1.31881573e+09 3.58491285e+09 9.74480345e+09 2.64891221e+10\n",
      " 7.20048993e+10 1.95729609e+11 5.32048241e+11 1.44625706e+12\n",
      " 3.93133430e+12 1.06864746e+13 2.90488497e+13 7.89629602e+13\n",
      " 2.14643580e+14 5.83461743e+14 1.58601345e+15 4.31123155e+15\n",
      " 1.17191424e+16 3.18559318e+16 8.65934004e+16 2.35385267e+17\n",
      " 6.39843494e+17 1.73927494e+18 4.72783947e+18 1.28516001e+19\n",
      " 3.49342711e+19 9.49611942e+19 2.58131289e+20 7.01673591e+20\n",
      " 1.90734657e+21 5.18470553e+21 1.40934908e+22 3.83100800e+22\n",
      " 1.04137594e+23 2.83075330e+23 7.69478527e+23 2.09165950e+24\n",
      " 5.68572000e+24 1.54553894e+25 4.20121040e+25 1.14200739e+26\n",
      " 3.10429794e+26 8.43835667e+26 2.29378316e+27 6.23514908e+27\n",
      " 1.69488924e+28 4.60718663e+28 1.25236317e+29 3.40427605e+29\n",
      " 9.25378173e+29 2.51543867e+30 6.83767123e+30 1.85867175e+31\n",
      " 5.05239363e+31 1.37338298e+32 3.73324200e+32 1.01480039e+33\n",
      " 2.75851345e+33 7.49841700e+33 2.03828107e+34 5.54062238e+34\n",
      " 1.50609731e+35 4.09399696e+35 1.11286375e+36 3.02507732e+36\n",
      " 8.22301271e+36 2.23524660e+37 6.07603023e+37 1.65163625e+38\n",
      " 4.48961282e+38 1.22040329e+39 3.31740010e+39 9.01762841e+39\n",
      " 2.45124554e+40 6.66317622e+40 1.81123908e+41 4.92345829e+41\n",
      " 1.33833472e+42 3.63797095e+42 9.88903032e+42 2.68811714e+43]\n",
      "[0.         0.69314718 1.09861229 1.38629436 1.60943791 1.79175947\n",
      " 1.94591015 2.07944154 2.19722458 2.30258509 2.39789527 2.48490665\n",
      " 2.56494936 2.63905733 2.7080502  2.77258872 2.83321334 2.89037176\n",
      " 2.94443898 2.99573227 3.04452244 3.09104245 3.13549422 3.17805383\n",
      " 3.21887582 3.25809654 3.29583687 3.33220451 3.36729583 3.40119738\n",
      " 3.4339872  3.4657359  3.49650756 3.52636052 3.55534806 3.58351894\n",
      " 3.61091791 3.63758616 3.66356165 3.68887945 3.71357207 3.73766962\n",
      " 3.76120012 3.78418963 3.80666249 3.8286414  3.8501476  3.87120101\n",
      " 3.8918203  3.91202301 3.93182563 3.95124372 3.97029191 3.98898405\n",
      " 4.00733319 4.02535169 4.04305127 4.06044301 4.07753744 4.09434456\n",
      " 4.11087386 4.12713439 4.14313473 4.15888308 4.17438727 4.18965474\n",
      " 4.20469262 4.21950771 4.2341065  4.24849524 4.26267988 4.27666612\n",
      " 4.29045944 4.30406509 4.31748811 4.33073334 4.34380542 4.35670883\n",
      " 4.36944785 4.38202663 4.39444915 4.40671925 4.41884061 4.4308168\n",
      " 4.44265126 4.4543473  4.46590812 4.47733681 4.48863637 4.49980967\n",
      " 4.51085951 4.52178858 4.53259949 4.54329478 4.55387689 4.56434819\n",
      " 4.57471098 4.58496748 4.59511985 4.60517019]\n"
     ]
    }
   ],
   "source": [
    "for funcao in funcoes:\n",
    "    print(funcao)"
   ]
  },
  {
   "cell_type": "code",
   "execution_count": 444,
   "metadata": {},
   "outputs": [],
   "source": [
    "import matplotlib.pyplot as plt"
   ]
  },
  {
   "cell_type": "code",
   "execution_count": 445,
   "metadata": {},
   "outputs": [
    {
     "data": {
      "image/png": "[encoded data removed]",
      "text/plain": [
       "<Figure size 792x792 with 4 Axes>"
      ]
     },
     "metadata": {
      "needs_background": "light"
     },
     "output_type": "display_data"
    }
   ],
   "source": [
    "titulos = ['Função seno','Função cos', 'Função exp', 'Função log']\n",
    "plt.figure(figsize=(11, 11))\n",
    "for index, funcao in enumerate(funcoes):\n",
    "    plt.subplot(2,2, index+1)\n",
    "    plt.plot(x, funcao)\n",
    "    plt.title(titulos[index])"
   ]
  },
  {
   "cell_type": "code",
   "execution_count": null,
   "metadata": {},
   "outputs": [],
   "source": []
  },
  {
   "cell_type": "code",
   "execution_count": 446,
   "metadata": {},
   "outputs": [],
   "source": [
    "def calcula_distancia_euclidiana(Xa, Xb):\n",
    "    total_distancia = 0\n",
    "    for a, b in zip(Xa, Xb):\n",
    "        distancia = (a - b)**2\n",
    "        total_distancia += distancia\n",
    "        \n",
    "    return np.sqrt(total_distancia)\n"
   ]
  },
  {
   "cell_type": "code",
   "execution_count": 447,
   "metadata": {},
   "outputs": [],
   "source": [
    "Xa = np.random.random(size=1_000_000)\n",
    "Xb = np.random.random(size=1_000_000)"
   ]
  },
  {
   "cell_type": "code",
   "execution_count": 450,
   "metadata": {},
   "outputs": [
    {
     "data": {
      "text/plain": [
       "408.01541456801334"
      ]
     },
     "execution_count": 450,
     "metadata": {},
     "output_type": "execute_result"
    }
   ],
   "source": [
    "calcula_distancia_euclidiana(Xa, Xb)"
   ]
  },
  {
   "cell_type": "code",
   "execution_count": 451,
   "metadata": {},
   "outputs": [],
   "source": [
    "def calcula_distancia_euclidiana_vetorizado(Xa, Xb):\n",
    "    return np.sqrt(np.sum((Xa - Xb) ** 2))"
   ]
  },
  {
   "cell_type": "code",
   "execution_count": 452,
   "metadata": {},
   "outputs": [
    {
     "data": {
      "text/plain": [
       "408.01541456801124"
      ]
     },
     "execution_count": 452,
     "metadata": {},
     "output_type": "execute_result"
    }
   ],
   "source": [
    "calcula_distancia_euclidiana_vetorizado(Xa, Xb)"
   ]
  },
  {
   "cell_type": "code",
   "execution_count": 453,
   "metadata": {},
   "outputs": [
    {
     "name": "stdout",
     "output_type": "stream",
     "text": [
      "CPU times: user 686 ms, sys: 4.21 ms, total: 690 ms\n",
      "Wall time: 693 ms\n"
     ]
    },
    {
     "data": {
      "text/plain": [
       "408.01541456801334"
      ]
     },
     "execution_count": 453,
     "metadata": {},
     "output_type": "execute_result"
    }
   ],
   "source": [
    "%%time\n",
    "calcula_distancia_euclidiana(Xa, Xb)"
   ]
  },
  {
   "cell_type": "code",
   "execution_count": 454,
   "metadata": {},
   "outputs": [
    {
     "name": "stdout",
     "output_type": "stream",
     "text": [
      "CPU times: user 4.21 ms, sys: 3.11 ms, total: 7.32 ms\n",
      "Wall time: 5.03 ms\n"
     ]
    },
    {
     "data": {
      "text/plain": [
       "408.01541456801124"
      ]
     },
     "execution_count": 454,
     "metadata": {},
     "output_type": "execute_result"
    }
   ],
   "source": [
    "%%time\n",
    "calcula_distancia_euclidiana_vetorizado(Xa, Xb)"
   ]
  },
  {
   "cell_type": "code",
   "execution_count": 455,
   "metadata": {},
   "outputs": [
    {
     "data": {
      "text/plain": [
       "138.6"
      ]
     },
     "execution_count": 455,
     "metadata": {},
     "output_type": "execute_result"
    }
   ],
   "source": [
    "693 / 5"
   ]
  },
  {
   "cell_type": "code",
   "execution_count": 499,
   "metadata": {},
   "outputs": [],
   "source": [
    "array = np.arange(0, 9)"
   ]
  },
  {
   "cell_type": "code",
   "execution_count": 502,
   "metadata": {},
   "outputs": [],
   "source": [
    "matriz = array.reshape(3, 3)"
   ]
  },
  {
   "cell_type": "code",
   "execution_count": 520,
   "metadata": {},
   "outputs": [
    {
     "data": {
      "text/plain": [
       "(3, 3)"
      ]
     },
     "execution_count": 520,
     "metadata": {},
     "output_type": "execute_result"
    }
   ],
   "source": [
    "matriz.shape"
   ]
  },
  {
   "cell_type": "code",
   "execution_count": 503,
   "metadata": {},
   "outputs": [
    {
     "data": {
      "text/plain": [
       "36"
      ]
     },
     "execution_count": 503,
     "metadata": {},
     "output_type": "execute_result"
    }
   ],
   "source": [
    "matriz.sum()"
   ]
  },
  {
   "cell_type": "code",
   "execution_count": 504,
   "metadata": {},
   "outputs": [
    {
     "data": {
      "text/plain": [
       "array([ 3, 12, 21])"
      ]
     },
     "execution_count": 504,
     "metadata": {},
     "output_type": "execute_result"
    }
   ],
   "source": [
    "matriz.sum(axis=1)"
   ]
  },
  {
   "cell_type": "code",
   "execution_count": 506,
   "metadata": {},
   "outputs": [
    {
     "data": {
      "text/plain": [
       "array([ 9, 12, 15])"
      ]
     },
     "execution_count": 506,
     "metadata": {},
     "output_type": "execute_result"
    }
   ],
   "source": [
    "matriz.sum(axis=0)"
   ]
  },
  {
   "cell_type": "markdown",
   "metadata": {},
   "source": [
    "## Monte Carlo Calculo de Pi\n",
    "\n",
    "Imagine que você tenha um quadrado de lado 2. Dentro desse quadrado conseguimos inserir um circulo com raio 1.\n",
    "\n",
    "Logo a área do quadrado é: $l^2 = (2*r)^2$  \n",
    "E a área do circulo é: $\\pi * r^2$  \n",
    "\n",
    "Imagine que eu jogue 1000 agulhas aleatoriamente nesse quadrado.  \n",
    "Quantas agulhas irão cair dentro do circulo?  \n",
    "Quantas agulhas irão cair fora do circulo?\n",
    "\n",
    "$P(agulha \\ dentro) = ÁreaCirculo / AreaQuadrado$  \n",
    "$P(agulha \\ dentro) = \\pi * r^2 / 4r^2$  \n",
    "$P(agulha \\ dentro) = \\pi / 4$  \n",
    "$\\pi = (Dentro/Total) * 4$  \n",
    "\n",
    "\n",
    "Construa um programa que simule o lançamento de $n$ agulhas (1000 por exemplo).  \n",
    "Qual seria o valor de pi?  \n",
    "E se fizermos essa simulação (Monte Carlo) muitas vezes(1, 10, 100, 1000, 10000)? Qual o valor de pi?  \n",
    "\n",
    "distância <= 1\n",
    "\n",
    "e lembrando que:\n",
    "$d^2 = x^2 + y^2$ ==> $d =  sqrt(x^2 + y^2)$"
   ]
  },
  {
   "cell_type": "code",
   "execution_count": 2,
   "metadata": {
    "ExecuteTime": {
     "end_time": "2021-08-06T22:34:59.513445Z",
     "start_time": "2021-08-06T22:34:50.461375Z"
    }
   },
   "outputs": [
    {
     "name": "stdout",
     "output_type": "stream",
     "text": [
      "Wall time: 9.05 s\n"
     ]
    }
   ],
   "source": [
    "%%time\n",
    "import random\n",
    "\n",
    "pis = []\n",
    "n_sim = 10000\n",
    "agulhas = 1000\n",
    "for _ in range(n_sim):\n",
    "    pontos_circulo = 0\n",
    "    total = 0\n",
    "    for i in range(agulhas):\n",
    "        total +=1\n",
    "        x = random.random()\n",
    "        y = random.random()\n",
    "        dist = (x**2 + y**2) ** 0.5\n",
    "        if dist <= 1:\n",
    "            pontos_circulo += 1\n",
    "    pi = 4 * (pontos_circulo / total) \n",
    "    pis.append(pi)"
   ]
  },
  {
   "cell_type": "code",
   "execution_count": 528,
   "metadata": {},
   "outputs": [
    {
     "data": {
      "text/plain": [
       "<AxesSubplot:ylabel='Density'>"
      ]
     },
     "execution_count": 528,
     "metadata": {},
     "output_type": "execute_result"
    },
    {
     "data": {
      "image/png": "[encoded data removed]",
      "text/plain": [
       "<Figure size 432x288 with 1 Axes>"
      ]
     },
     "metadata": {
      "needs_background": "light"
     },
     "output_type": "display_data"
    }
   ],
   "source": [
    "import seaborn as sns\n",
    "sns.kdeplot(pis)"
   ]
  },
  {
   "cell_type": "code",
   "execution_count": 6,
   "metadata": {
    "ExecuteTime": {
     "end_time": "2021-08-06T22:36:55.168973Z",
     "start_time": "2021-08-06T22:36:54.884005Z"
    }
   },
   "outputs": [
    {
     "name": "stdout",
     "output_type": "stream",
     "text": [
      "Wall time: 280 ms\n"
     ]
    }
   ],
   "source": [
    "%%time\n",
    "n_sim = 10_000\n",
    "n_agulhas = 1_000\n",
    "x = np.random.random(n_agulhas * n_sim)\n",
    "y = np.random.random(n_agulhas * n_sim)\n",
    "dist = np.sqrt(x**2 + y**2)\n",
    "dentro = np.where(dist <= 1, 1, 0)\n",
    "pis_arr = dentro.reshape(n_sim, -1).mean(axis=1) * 4"
   ]
  },
  {
   "cell_type": "code",
   "execution_count": 561,
   "metadata": {},
   "outputs": [
    {
     "data": {
      "text/plain": [
       "<AxesSubplot:ylabel='Density'>"
      ]
     },
     "execution_count": 561,
     "metadata": {},
     "output_type": "execute_result"
    },
    {
     "data": {
      "image/png": "[encoded data removed]",
      "text/plain": [
       "<Figure size 432x288 with 1 Axes>"
      ]
     },
     "metadata": {
      "needs_background": "light"
     },
     "output_type": "display_data"
    }
   ],
   "source": [
    "import seaborn as sns\n",
    "sns.kdeplot(pis_arr)\n",
    "sns.kdeplot(pis)"
   ]
  },
  {
   "cell_type": "code",
   "execution_count": null,
   "metadata": {},
   "outputs": [],
   "source": []
  },
  {
   "cell_type": "code",
   "execution_count": null,
   "metadata": {},
   "outputs": [],
   "source": []
  },
  {
   "cell_type": "code",
   "execution_count": 459,
   "metadata": {},
   "outputs": [],
   "source": [
    "pis = np.array(pis)"
   ]
  },
  {
   "cell_type": "code",
   "execution_count": 473,
   "metadata": {},
   "outputs": [
    {
     "data": {
      "text/plain": [
       "3.14065"
      ]
     },
     "execution_count": 473,
     "metadata": {},
     "output_type": "execute_result"
    }
   ],
   "source": [
    "import numpy as np\n",
    "\n",
    "num_examples = 1_000_000\n",
    "\n",
    "x = np.random.random(num_examples)\n",
    "y = np.random.random(num_examples)\n",
    "results = (x ** 2 + y ** 2) ** 0.5\n",
    "pi = 4 * len(results[results <= 1]) / len(results)\n",
    "round(pi, 5)"
   ]
  },
  {
   "cell_type": "code",
   "execution_count": 474,
   "metadata": {},
   "outputs": [
    {
     "data": {
      "text/plain": [
       "(1000000,)"
      ]
     },
     "execution_count": 474,
     "metadata": {},
     "output_type": "execute_result"
    }
   ],
   "source": [
    "results.shape"
   ]
  },
  {
   "cell_type": "code",
   "execution_count": null,
   "metadata": {},
   "outputs": [],
   "source": []
  },
  {
   "cell_type": "code",
   "execution_count": null,
   "metadata": {},
   "outputs": [],
   "source": []
  },
  {
   "cell_type": "code",
   "execution_count": 477,
   "metadata": {},
   "outputs": [
    {
     "name": "stdout",
     "output_type": "stream",
     "text": [
      "CPU times: user 284 ms, sys: 2.95 ms, total: 286 ms\n",
      "Wall time: 288 ms\n"
     ]
    }
   ],
   "source": [
    "%%time\n",
    "import random\n",
    "import numpy as np\n",
    "\n",
    "pis = []\n",
    "n_sim = 10000\n",
    "agulhas = 1000\n",
    "\n",
    "for _ in range(n_sim):\n",
    "    pontos_circulo = 0\n",
    "    x = np.random.random(agulhas)\n",
    "    y = np.random.random(agulhas)\n",
    "    dist = (x**2 + y**2) ** 0.5\n",
    "    mascara = dist < 1\n",
    "    pontos_circulo = mascara.sum()\n",
    "       \n",
    "    pi = 4 * (pontos_circulo / agulhas) \n",
    "    pis.append(pi)"
   ]
  },
  {
   "cell_type": "code",
   "execution_count": null,
   "metadata": {},
   "outputs": [],
   "source": []
  },
  {
   "cell_type": "code",
   "execution_count": 479,
   "metadata": {},
   "outputs": [
    {
     "name": "stdout",
     "output_type": "stream",
     "text": [
      "CPU times: user 212 ms, sys: 92.4 ms, total: 305 ms\n",
      "Wall time: 333 ms\n"
     ]
    }
   ],
   "source": [
    "%%time\n",
    "import random\n",
    "\n",
    "agulhas = 1000\n",
    "n_sim = 10000\n",
    "x = np.random.random(agulhas * n_sim)\n",
    "y = np.random.random(agulhas * n_sim)\n",
    "dist = (x**2 + y**2) ** 0.5\n",
    "pi = 4 * (len(np.where(dist <= 1)[0]) / (agulhas * n_sim))"
   ]
  },
  {
   "cell_type": "code",
   "execution_count": 518,
   "metadata": {
    "scrolled": true,
    "tags": []
   },
   "outputs": [],
   "source": [
    "import numpy as np\n",
    "\n",
    "n_arrays = 1_000\n",
    "n_vezes = 10_000_000\n",
    "\n",
    "x = np.random.random(n_vezes) * 2 - 1\n",
    "y = np.random.random(n_vezes) * 2 - 1\n",
    "\n",
    "dist = np.sqrt(x ** 2 + y ** 2)\n",
    "resultado = np.where(dist <= 1, 1, 0)\n",
    "grupos = resultado.reshape(1000, 10000)\n",
    "\n",
    "pis = grupos.mean(axis=1) * 4 \n",
    "pi_medio = pis.mean()\n",
    "pi_std = pis.std()"
   ]
  },
  {
   "cell_type": "code",
   "execution_count": 519,
   "metadata": {},
   "outputs": [
    {
     "data": {
      "text/plain": [
       "(3.1427888, 0.01610070913220904)"
      ]
     },
     "execution_count": 519,
     "metadata": {},
     "output_type": "execute_result"
    }
   ],
   "source": [
    "pi_medio, pi_std"
   ]
  },
  {
   "cell_type": "code",
   "execution_count": null,
   "metadata": {},
   "outputs": [],
   "source": []
  },
  {
   "cell_type": "code",
   "execution_count": null,
   "metadata": {},
   "outputs": [],
   "source": [
    "import numpy as np\n",
    "\n",
    "pis = []\n",
    "n_sim = 10000\n",
    "agulhas = 1000\n",
    "for _ in range(n_sim):\n",
    "    Ax = np.random.random(size = agulhas)\n",
    "    Ay = np.random.random(size = agulhas)\n",
    "    Array_dist = np.array(np.sqrt((Ax**2 + Ay**2)))\n",
    "    mask_dist = Array_dist <= 1\n",
    "    a = np.shape(Array_dist[mask_dist])\n",
    "    pi = 4 * (a[0] / agulhas) \n",
    "    pis.append(pi)"
   ]
  },
  {
   "cell_type": "code",
   "execution_count": null,
   "metadata": {},
   "outputs": [],
   "source": [
    "import numpy as np\n",
    "\n",
    "pis = []\n",
    "n_sim = 10000\n",
    "agulhas = 1000\n",
    "for _ in range(n_sim):\n",
    "    Ax = np.random.random(size = agulhas)\n",
    "    Ay = np.random.random(size = agulhas)\n",
    "    Array_dist = np.array(np.sqrt((Ax**2 + Ay**2)))\n",
    "    mask_dist = Array_dist <= 1\n",
    "    a = np.shape(Array_dist[mask_dist])\n",
    "    pi = 4 * (a[0] / agulhas) \n",
    "    pis.append(pi)"
   ]
  },
  {
   "cell_type": "code",
   "execution_count": null,
   "metadata": {},
   "outputs": [],
   "source": [
    "import numpy as np\n",
    "pis = []\n",
    "n_sim = 100_000\n",
    "agulhas = 1_000\n",
    "x = np.random.random((agulhas, n_sim))\n",
    "y = np.random.random((agulhas, n_sim))\n",
    "dist =np.sqrt((x**2 + y**2))\n",
    "dist_circulo = dist[dist <= 1]\n",
    "quantidade = len(dist_circulo)\n",
    "pi = 4 * quantidade / (agulhas * n_sim)\n",
    "print(pi)"
   ]
  },
  {
   "cell_type": "code",
   "execution_count": 562,
   "metadata": {},
   "outputs": [
    {
     "data": {
      "text/plain": [
       "array([3.176, 3.156, 3.1  , ..., 3.092, 3.156, 3.044])"
      ]
     },
     "execution_count": 562,
     "metadata": {},
     "output_type": "execute_result"
    }
   ],
   "source": [
    "import numpy as np\n",
    "\n",
    "n_sim = 10000\n",
    "agulhas = 1000\n",
    "x = np.random.random(n_sim*agulhas).reshape(n_sim,agulhas)\n",
    "y = np.random.random(n_sim*agulhas).reshape(n_sim,agulhas)\n",
    "dist = np.sqrt(x*x + y*y)\n",
    "pontos_circulo = np.sum(dist<=1,axis=1)\n",
    "pis = 4 * (pontos_circulo / agulhas)\n",
    "pis"
   ]
  }
 ],
 "metadata": {
  "kernelspec": {
   "display_name": "Python 3",
   "language": "python",
   "name": "python3"
  },
  "language_info": {
   "codemirror_mode": {
    "name": "ipython",
    "version": 3
   },
   "file_extension": ".py",
   "mimetype": "text/x-python",
   "name": "python",
   "nbconvert_exporter": "python",
   "pygments_lexer": "ipython3",
   "version": "3.8.11"
  },
  "toc": {
   "base_numbering": 1,
   "nav_menu": {},
   "number_sections": true,
   "sideBar": true,
   "skip_h1_title": false,
   "title_cell": "Table of Contents",
   "title_sidebar": "Contents",
   "toc_cell": false,
   "toc_position": {},
   "toc_section_display": true,
   "toc_window_display": false
  },
  "varInspector": {
   "cols": {
    "lenName": 16,
    "lenType": 16,
    "lenVar": 40
   },
   "kernels_config": {
    "python": {
     "delete_cmd_postfix": "",
     "delete_cmd_prefix": "del ",
     "library": "var_list.py",
     "varRefreshCmd": "print(var_dic_list())"
    },
    "r": {
     "delete_cmd_postfix": ") ",
     "delete_cmd_prefix": "rm(",
     "library": "var_list.r",
     "varRefreshCmd": "cat(var_dic_list()) "
    }
   },
   "types_to_exclude": [
    "module",
    "function",
    "builtin_function_or_method",
    "instance",
    "_Feature"
   ],
   "window_display": false
  }
 },
 "nbformat": 4,
 "nbformat_minor": 4
}
