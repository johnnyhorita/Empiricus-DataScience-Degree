{
 "cells": [
  {
   "cell_type": "markdown",
   "metadata": {
    "ExecuteTime": {
     "end_time": "2021-02-19T15:17:56.469532Z",
     "start_time": "2021-02-19T15:17:56.409648Z"
    }
   },
   "source": [
    "## Aula 1: Introdução ao Numpy e Pandas\n",
    "\n",
    "### Bibliotecas usadas\n",
    "As seguintes bibliotecas serão usadas:\n",
    " - Numpy;\n",
    " - Pandas.\n"
   ]
  },
  {
   "cell_type": "markdown",
   "metadata": {},
   "source": [
    "## Códigos"
   ]
  },
  {
   "cell_type": "markdown",
   "metadata": {},
   "source": [
    "### Numpy"
   ]
  },
  {
   "cell_type": "markdown",
   "metadata": {},
   "source": [
    "Numpy é uma biblioteca das principais bibliotecas do Python, devido a sua grande velocidade e eficiência ele é extremamente utilizada para computação científica e analise de dados. Esta fama se da principalmente a estrutura chamada [numpy array](https://docs.scipy.org/doc/numpy/reference/arrays.html), um forma eficiente de guardar e manipular matrizes, que serve como base para as tabelas que iremos utilizar.\n",
    "\n",
    "Abaixo começaremos o codigo passado em aula:"
   ]
  },
  {
   "cell_type": "code",
   "execution_count": 1,
   "metadata": {
    "ExecuteTime": {
     "end_time": "2020-01-04T18:31:24.763954Z",
     "start_time": "2020-01-04T18:31:24.760450Z"
    }
   },
   "outputs": [],
   "source": [
    "import numpy as np"
   ]
  },
  {
   "cell_type": "markdown",
   "metadata": {},
   "source": [
    "#### Criando listas/vetores/arrays"
   ]
  },
  {
   "cell_type": "code",
   "execution_count": 2,
   "metadata": {},
   "outputs": [],
   "source": [
    "lista = [1, 2, 10, 20, 34, 54]"
   ]
  },
  {
   "cell_type": "code",
   "execution_count": 3,
   "metadata": {},
   "outputs": [
    {
     "data": {
      "text/plain": [
       "[1, 2, 10, 20, 34, 54]"
      ]
     },
     "execution_count": 3,
     "metadata": {},
     "output_type": "execute_result"
    }
   ],
   "source": [
    "lista"
   ]
  },
  {
   "cell_type": "code",
   "execution_count": 4,
   "metadata": {},
   "outputs": [],
   "source": [
    "vetor_numpy = np.array(lista)"
   ]
  },
  {
   "cell_type": "code",
   "execution_count": 5,
   "metadata": {},
   "outputs": [
    {
     "data": {
      "text/plain": [
       "array([ 1,  2, 10, 20, 34, 54])"
      ]
     },
     "execution_count": 5,
     "metadata": {},
     "output_type": "execute_result"
    }
   ],
   "source": [
    "vetor_numpy"
   ]
  },
  {
   "cell_type": "code",
   "execution_count": 6,
   "metadata": {},
   "outputs": [
    {
     "data": {
      "text/plain": [
       "numpy.ndarray"
      ]
     },
     "execution_count": 6,
     "metadata": {},
     "output_type": "execute_result"
    }
   ],
   "source": [
    "type(vetor_numpy)"
   ]
  },
  {
   "cell_type": "code",
   "execution_count": 7,
   "metadata": {},
   "outputs": [],
   "source": [
    "n = 10\n",
    "lista_zeros = [0] * n"
   ]
  },
  {
   "cell_type": "code",
   "execution_count": 9,
   "metadata": {},
   "outputs": [
    {
     "name": "stdout",
     "output_type": "stream",
     "text": [
      "[0, 0, 0, 0, 0, 0, 0, 0, 0, 0]\n",
      "10\n"
     ]
    }
   ],
   "source": [
    "print(lista_zeros)\n",
    "print(len(lista_zeros))"
   ]
  },
  {
   "cell_type": "code",
   "execution_count": 10,
   "metadata": {
    "ExecuteTime": {
     "end_time": "2020-01-04T20:58:06.783851Z",
     "start_time": "2020-01-04T20:58:06.776364Z"
    }
   },
   "outputs": [],
   "source": [
    "zeros = np.zeros(n)"
   ]
  },
  {
   "cell_type": "code",
   "execution_count": 14,
   "metadata": {},
   "outputs": [
    {
     "data": {
      "text/plain": [
       "array([0., 0., 0., 0., 0., 0., 0., 0., 0., 0.])"
      ]
     },
     "execution_count": 14,
     "metadata": {},
     "output_type": "execute_result"
    }
   ],
   "source": [
    "zeros"
   ]
  },
  {
   "cell_type": "code",
   "execution_count": 15,
   "metadata": {},
   "outputs": [],
   "source": [
    "uns = np.ones(n)"
   ]
  },
  {
   "cell_type": "code",
   "execution_count": 16,
   "metadata": {},
   "outputs": [
    {
     "data": {
      "text/plain": [
       "array([1., 1., 1., 1., 1., 1., 1., 1., 1., 1.])"
      ]
     },
     "execution_count": 16,
     "metadata": {},
     "output_type": "execute_result"
    }
   ],
   "source": [
    "uns"
   ]
  },
  {
   "cell_type": "code",
   "execution_count": 17,
   "metadata": {},
   "outputs": [],
   "source": [
    "cincos = np.ones(n) * 5"
   ]
  },
  {
   "cell_type": "code",
   "execution_count": 18,
   "metadata": {},
   "outputs": [
    {
     "data": {
      "text/plain": [
       "array([5., 5., 5., 5., 5., 5., 5., 5., 5., 5.])"
      ]
     },
     "execution_count": 18,
     "metadata": {},
     "output_type": "execute_result"
    }
   ],
   "source": [
    "cincos"
   ]
  },
  {
   "cell_type": "code",
   "execution_count": 19,
   "metadata": {},
   "outputs": [
    {
     "data": {
      "text/plain": [
       "array([50., 50., 50., 50., 50., 50., 50., 50., 50., 50.])"
      ]
     },
     "execution_count": 19,
     "metadata": {},
     "output_type": "execute_result"
    }
   ],
   "source": [
    "cincos * 10"
   ]
  },
  {
   "cell_type": "code",
   "execution_count": 20,
   "metadata": {},
   "outputs": [],
   "source": [
    "lista_cincos = [5] * n"
   ]
  },
  {
   "cell_type": "code",
   "execution_count": 23,
   "metadata": {
    "ExecuteTime": {
     "end_time": "2020-01-04T18:51:19.342075Z",
     "start_time": "2020-01-04T18:51:19.337069Z"
    }
   },
   "outputs": [
    {
     "data": {
      "text/plain": [
       "[0, 2, 4, 6, 8]"
      ]
     },
     "execution_count": 23,
     "metadata": {},
     "output_type": "execute_result"
    }
   ],
   "source": [
    "list(range(0, 10, 2))"
   ]
  },
  {
   "cell_type": "code",
   "execution_count": 24,
   "metadata": {},
   "outputs": [
    {
     "data": {
      "text/plain": [
       "array([0, 1, 2, 3, 4, 5, 6, 7, 8, 9])"
      ]
     },
     "execution_count": 24,
     "metadata": {},
     "output_type": "execute_result"
    }
   ],
   "source": [
    "np.arange(0, 10)"
   ]
  },
  {
   "cell_type": "code",
   "execution_count": 25,
   "metadata": {},
   "outputs": [
    {
     "data": {
      "text/plain": [
       "array([0, 2, 4, 6, 8])"
      ]
     },
     "execution_count": 25,
     "metadata": {},
     "output_type": "execute_result"
    }
   ],
   "source": [
    "np.arange(0, 10, 2)"
   ]
  },
  {
   "cell_type": "code",
   "execution_count": 29,
   "metadata": {
    "ExecuteTime": {
     "end_time": "2020-01-04T18:51:25.950769Z",
     "start_time": "2020-01-04T18:51:25.943781Z"
    }
   },
   "outputs": [
    {
     "data": {
      "text/plain": [
       "[0.0,\n",
       " 0.05,\n",
       " 0.1,\n",
       " 0.15,\n",
       " 0.2,\n",
       " 0.25,\n",
       " 0.3,\n",
       " 0.35,\n",
       " 0.4,\n",
       " 0.45,\n",
       " 0.5,\n",
       " 0.55,\n",
       " 0.6,\n",
       " 0.65,\n",
       " 0.7,\n",
       " 0.75,\n",
       " 0.8,\n",
       " 0.85,\n",
       " 0.9,\n",
       " 0.95,\n",
       " 1.0]"
      ]
     },
     "execution_count": 29,
     "metadata": {},
     "output_type": "execute_result"
    }
   ],
   "source": [
    "[x/20 for x in range(0, 21)]"
   ]
  },
  {
   "cell_type": "code",
   "execution_count": 38,
   "metadata": {},
   "outputs": [
    {
     "data": {
      "text/plain": [
       "array([0.  , 0.05, 0.1 , 0.15, 0.2 , 0.25, 0.3 , 0.35, 0.4 , 0.45, 0.5 ,\n",
       "       0.55, 0.6 , 0.65, 0.7 , 0.75, 0.8 , 0.85, 0.9 , 0.95, 1.  ])"
      ]
     },
     "execution_count": 38,
     "metadata": {},
     "output_type": "execute_result"
    }
   ],
   "source": [
    "np.linspace(0, 1, 21)"
   ]
  },
  {
   "cell_type": "code",
   "execution_count": 36,
   "metadata": {},
   "outputs": [
    {
     "data": {
      "text/plain": [
       "array([0.  , 0.01, 0.02, 0.03, 0.04, 0.05, 0.06, 0.07, 0.08, 0.09, 0.1 ,\n",
       "       0.11, 0.12, 0.13, 0.14, 0.15, 0.16, 0.17, 0.18, 0.19, 0.2 , 0.21,\n",
       "       0.22, 0.23, 0.24, 0.25, 0.26, 0.27, 0.28, 0.29, 0.3 , 0.31, 0.32,\n",
       "       0.33, 0.34, 0.35, 0.36, 0.37, 0.38, 0.39, 0.4 , 0.41, 0.42, 0.43,\n",
       "       0.44, 0.45, 0.46, 0.47, 0.48, 0.49, 0.5 , 0.51, 0.52, 0.53, 0.54,\n",
       "       0.55, 0.56, 0.57, 0.58, 0.59, 0.6 , 0.61, 0.62, 0.63, 0.64, 0.65,\n",
       "       0.66, 0.67, 0.68, 0.69, 0.7 , 0.71, 0.72, 0.73, 0.74, 0.75, 0.76,\n",
       "       0.77, 0.78, 0.79, 0.8 , 0.81, 0.82, 0.83, 0.84, 0.85, 0.86, 0.87,\n",
       "       0.88, 0.89, 0.9 , 0.91, 0.92, 0.93, 0.94, 0.95, 0.96, 0.97, 0.98,\n",
       "       0.99, 1.  ])"
      ]
     },
     "execution_count": 36,
     "metadata": {},
     "output_type": "execute_result"
    }
   ],
   "source": [
    "np.linspace(0, 1, 101)"
   ]
  },
  {
   "cell_type": "code",
   "execution_count": 39,
   "metadata": {
    "ExecuteTime": {
     "end_time": "2020-01-04T18:51:34.656089Z",
     "start_time": "2020-01-04T18:51:34.649601Z"
    }
   },
   "outputs": [],
   "source": [
    "import random"
   ]
  },
  {
   "cell_type": "code",
   "execution_count": 41,
   "metadata": {},
   "outputs": [
    {
     "data": {
      "text/plain": [
       "60"
      ]
     },
     "execution_count": 41,
     "metadata": {},
     "output_type": "execute_result"
    }
   ],
   "source": [
    "random.randint(0, 100)"
   ]
  },
  {
   "cell_type": "code",
   "execution_count": 45,
   "metadata": {
    "ExecuteTime": {
     "end_time": "2020-01-04T18:51:39.558481Z",
     "start_time": "2020-01-04T18:51:39.550975Z"
    }
   },
   "outputs": [
    {
     "data": {
      "text/plain": [
       "45"
      ]
     },
     "execution_count": 45,
     "metadata": {},
     "output_type": "execute_result"
    }
   ],
   "source": [
    "np.random.randint(0, 100)"
   ]
  },
  {
   "cell_type": "code",
   "execution_count": 46,
   "metadata": {},
   "outputs": [
    {
     "data": {
      "text/plain": [
       "int"
      ]
     },
     "execution_count": 46,
     "metadata": {},
     "output_type": "execute_result"
    }
   ],
   "source": [
    "type(np.random.randint(0, 100))"
   ]
  },
  {
   "cell_type": "code",
   "execution_count": 47,
   "metadata": {},
   "outputs": [
    {
     "data": {
      "text/plain": [
       "int"
      ]
     },
     "execution_count": 47,
     "metadata": {},
     "output_type": "execute_result"
    }
   ],
   "source": [
    "type(random.randint(0, 100))"
   ]
  },
  {
   "cell_type": "code",
   "execution_count": 66,
   "metadata": {},
   "outputs": [
    {
     "name": "stdout",
     "output_type": "stream",
     "text": [
      "CPU times: user 77.5 ms, sys: 11.6 ms, total: 89.1 ms\n",
      "Wall time: 89.6 ms\n"
     ]
    },
    {
     "data": {
      "text/plain": [
       "array([17, 83, 91, ..., 94, 11, 89])"
      ]
     },
     "execution_count": 66,
     "metadata": {},
     "output_type": "execute_result"
    }
   ],
   "source": [
    "%%time \n",
    "# Calculando o tempo de execução da célula utilizando o `%%time` funciona somente no jupyter e no ipython\n",
    "\n",
    "# Gerando 10 inteiros aleatórios\n",
    "np.random.randint(0, 100, 5000000)"
   ]
  },
  {
   "cell_type": "code",
   "execution_count": 73,
   "metadata": {
    "scrolled": true,
    "tags": []
   },
   "outputs": [
    {
     "name": "stdout",
     "output_type": "stream",
     "text": [
      "CPU times: user 3.05 s, sys: 20.1 ms, total: 3.07 s\n",
      "Wall time: 3.07 s\n"
     ]
    }
   ],
   "source": [
    "%%time\n",
    "_ = [random.randint(0, 100) for n in range(0, 5000000)]"
   ]
  },
  {
   "cell_type": "markdown",
   "metadata": {},
   "source": [
    "#### Indexação"
   ]
  },
  {
   "cell_type": "code",
   "execution_count": 107,
   "metadata": {
    "ExecuteTime": {
     "end_time": "2020-01-04T20:58:31.727960Z",
     "start_time": "2020-01-04T20:58:31.719976Z"
    }
   },
   "outputs": [],
   "source": [
    "arr1 = np.random.randint(0, 100, 10000)"
   ]
  },
  {
   "cell_type": "code",
   "execution_count": 108,
   "metadata": {},
   "outputs": [
    {
     "data": {
      "text/plain": [
       "array([59, 93, 94, ..., 73, 68, 24])"
      ]
     },
     "execution_count": 108,
     "metadata": {},
     "output_type": "execute_result"
    }
   ],
   "source": [
    "arr1"
   ]
  },
  {
   "cell_type": "code",
   "execution_count": 109,
   "metadata": {
    "ExecuteTime": {
     "end_time": "2020-01-04T20:59:25.253415Z",
     "start_time": "2020-01-04T20:59:25.247925Z"
    }
   },
   "outputs": [
    {
     "data": {
      "text/plain": [
       "59"
      ]
     },
     "execution_count": 109,
     "metadata": {},
     "output_type": "execute_result"
    }
   ],
   "source": [
    "arr1[0]"
   ]
  },
  {
   "cell_type": "code",
   "execution_count": 110,
   "metadata": {},
   "outputs": [
    {
     "data": {
      "text/plain": [
       "array([93, 94, 48])"
      ]
     },
     "execution_count": 110,
     "metadata": {},
     "output_type": "execute_result"
    }
   ],
   "source": [
    "arr1[1: 4]"
   ]
  },
  {
   "cell_type": "code",
   "execution_count": 111,
   "metadata": {
    "ExecuteTime": {
     "end_time": "2020-01-04T20:59:28.429519Z",
     "start_time": "2020-01-04T20:59:28.424033Z"
    }
   },
   "outputs": [
    {
     "data": {
      "text/plain": [
       "array([59, 93, 94, ..., 73, 68, 24])"
      ]
     },
     "execution_count": 111,
     "metadata": {},
     "output_type": "execute_result"
    }
   ],
   "source": [
    "arr1"
   ]
  },
  {
   "cell_type": "code",
   "execution_count": 112,
   "metadata": {},
   "outputs": [],
   "source": [
    "fatia = arr1[3: 8]"
   ]
  },
  {
   "cell_type": "code",
   "execution_count": 113,
   "metadata": {},
   "outputs": [
    {
     "data": {
      "text/plain": [
       "array([48, 19, 52, 62, 15])"
      ]
     },
     "execution_count": 113,
     "metadata": {},
     "output_type": "execute_result"
    }
   ],
   "source": [
    "fatia"
   ]
  },
  {
   "cell_type": "markdown",
   "metadata": {},
   "source": [
    "#### Operações simples"
   ]
  },
  {
   "cell_type": "code",
   "execution_count": 114,
   "metadata": {
    "ExecuteTime": {
     "end_time": "2020-01-04T20:59:48.500686Z",
     "start_time": "2020-01-04T20:59:48.495192Z"
    }
   },
   "outputs": [
    {
     "name": "stdout",
     "output_type": "stream",
     "text": [
      "CPU times: user 235 µs, sys: 150 µs, total: 385 µs\n",
      "Wall time: 272 µs\n"
     ]
    },
    {
     "data": {
      "text/plain": [
       "array([1180, 1860, 1880, ..., 1460, 1360,  480])"
      ]
     },
     "execution_count": 114,
     "metadata": {},
     "output_type": "execute_result"
    }
   ],
   "source": [
    "%%time\n",
    "arr1 * 20"
   ]
  },
  {
   "cell_type": "code",
   "execution_count": 115,
   "metadata": {},
   "outputs": [],
   "source": [
    "lista1 = list(arr1)"
   ]
  },
  {
   "cell_type": "code",
   "execution_count": 116,
   "metadata": {
    "scrolled": true,
    "tags": []
   },
   "outputs": [
    {
     "name": "stdout",
     "output_type": "stream",
     "text": [
      "CPU times: user 6.44 ms, sys: 216 µs, total: 6.65 ms\n",
      "Wall time: 6.78 ms\n"
     ]
    },
    {
     "data": {
      "text/plain": [
       "[1180,\n",
       " 1860,\n",
       " 1880,\n",
       " 960,\n",
       " 380,\n",
       " 1040,\n",
       " 1240,\n",
       " 300,\n",
       " 1040,\n",
       " 1120,\n",
       " 1220,\n",
       " 1820,\n",
       " 1160,\n",
       " 420,\n",
       " 1340,\n",
       " 680,\n",
       " 1880,\n",
       " 20,\n",
       " 120,\n",
       " 640,\n",
       " 1480,\n",
       " 1020,\n",
       " 1300,\n",
       " 1560,\n",
       " 1220,\n",
       " 1920,\n",
       " 1460,\n",
       " 1760,\n",
       " 1760,\n",
       " 1740,\n",
       " 920,\n",
       " 300,\n",
       " 1140,\n",
       " 1180,\n",
       " 600,\n",
       " 680,\n",
       " 960,\n",
       " 300,\n",
       " 80,\n",
       " 480,\n",
       " 1080,\n",
       " 220,\n",
       " 1580,\n",
       " 700,\n",
       " 1420,\n",
       " 1320,\n",
       " 80,\n",
       " 740,\n",
       " 1640,\n",
       " 720,\n",
       " 1540,\n",
       " 1560,\n",
       " 20,\n",
       " 40,\n",
       " 480,\n",
       " 740,\n",
       " 1780,\n",
       " 200,\n",
       " 820,\n",
       " 1520,\n",
       " 1500,\n",
       " 440,\n",
       " 1240,\n",
       " 860,\n",
       " 560,\n",
       " 1180,\n",
       " 560,\n",
       " 1300,\n",
       " 380,\n",
       " 460,\n",
       " 720,\n",
       " 1180,\n",
       " 1540,\n",
       " 680,\n",
       " 1820,\n",
       " 1640,\n",
       " 1620,\n",
       " 60,\n",
       " 960,\n",
       " 640,\n",
       " 1360,\n",
       " 740,\n",
       " 40,\n",
       " 1640,\n",
       " 1340,\n",
       " 600,\n",
       " 780,\n",
       " 980,\n",
       " 1340,\n",
       " 1480,\n",
       " 100,\n",
       " 420,\n",
       " 900,\n",
       " 1560,\n",
       " 260,\n",
       " 1780,\n",
       " 640,\n",
       " 1600,\n",
       " 1680,\n",
       " 960,\n",
       " 1620,\n",
       " 1360,\n",
       " 1920,\n",
       " 1920,\n",
       " 1920,\n",
       " 1260,\n",
       " 960,\n",
       " 1000,\n",
       " 900,\n",
       " 940,\n",
       " 360,\n",
       " 320,\n",
       " 1580,\n",
       " 180,\n",
       " 1580,\n",
       " 20,\n",
       " 1520,\n",
       " 1800,\n",
       " 0,\n",
       " 780,\n",
       " 1620,\n",
       " 1540,\n",
       " 540,\n",
       " 1720,\n",
       " 800,\n",
       " 700,\n",
       " 1520,\n",
       " 680,\n",
       " 540,\n",
       " 1540,\n",
       " 1740,\n",
       " 420,\n",
       " 1880,\n",
       " 880,\n",
       " 1200,\n",
       " 220,\n",
       " 1080,\n",
       " 1440,\n",
       " 1120,\n",
       " 1460,\n",
       " 1560,\n",
       " 580,\n",
       " 680,\n",
       " 580,\n",
       " 620,\n",
       " 380,\n",
       " 1540,\n",
       " 1120,\n",
       " 640,\n",
       " 540,\n",
       " 380,\n",
       " 200,\n",
       " 600,\n",
       " 340,\n",
       " 640,\n",
       " 460,\n",
       " 780,\n",
       " 1020,\n",
       " 1760,\n",
       " 300,\n",
       " 140,\n",
       " 780,\n",
       " 1540,\n",
       " 1800,\n",
       " 1160,\n",
       " 1740,\n",
       " 1140,\n",
       " 320,\n",
       " 1080,\n",
       " 1240,\n",
       " 1860,\n",
       " 1040,\n",
       " 1320,\n",
       " 1080,\n",
       " 760,\n",
       " 1580,\n",
       " 1300,\n",
       " 1140,\n",
       " 800,\n",
       " 320,\n",
       " 580,\n",
       " 280,\n",
       " 220,\n",
       " 1880,\n",
       " 1420,\n",
       " 20,\n",
       " 480,\n",
       " 220,\n",
       " 1100,\n",
       " 1140,\n",
       " 960,\n",
       " 1660,\n",
       " 1080,\n",
       " 1900,\n",
       " 1560,\n",
       " 0,\n",
       " 1860,\n",
       " 120,\n",
       " 1260,\n",
       " 420,\n",
       " 1380,\n",
       " 1680,\n",
       " 1480,\n",
       " 960,\n",
       " 740,\n",
       " 720,\n",
       " 1780,\n",
       " 420,\n",
       " 840,\n",
       " 660,\n",
       " 860,\n",
       " 1100,\n",
       " 1340,\n",
       " 1340,\n",
       " 1980,\n",
       " 560,\n",
       " 400,\n",
       " 1720,\n",
       " 1040,\n",
       " 760,\n",
       " 260,\n",
       " 1140,\n",
       " 1060,\n",
       " 800,\n",
       " 180,\n",
       " 140,\n",
       " 920,\n",
       " 1460,\n",
       " 720,\n",
       " 360,\n",
       " 800,\n",
       " 340,\n",
       " 700,\n",
       " 340,\n",
       " 1280,\n",
       " 1780,\n",
       " 360,\n",
       " 1200,\n",
       " 460,\n",
       " 420,\n",
       " 320,\n",
       " 1000,\n",
       " 1320,\n",
       " 1480,\n",
       " 120,\n",
       " 1600,\n",
       " 820,\n",
       " 1080,\n",
       " 1680,\n",
       " 800,\n",
       " 1400,\n",
       " 1340,\n",
       " 1760,\n",
       " 900,\n",
       " 1420,\n",
       " 1640,\n",
       " 360,\n",
       " 1560,\n",
       " 1120,\n",
       " 420,\n",
       " 1480,\n",
       " 380,\n",
       " 460,\n",
       " 1580,\n",
       " 720,\n",
       " 940,\n",
       " 60,\n",
       " 1680,\n",
       " 40,\n",
       " 1540,\n",
       " 1240,\n",
       " 1500,\n",
       " 20,\n",
       " 1080,\n",
       " 380,\n",
       " 1460,\n",
       " 1800,\n",
       " 1980,\n",
       " 1380,\n",
       " 560,\n",
       " 760,\n",
       " 420,\n",
       " 540,\n",
       " 1300,\n",
       " 1240,\n",
       " 800,\n",
       " 1340,\n",
       " 520,\n",
       " 440,\n",
       " 1280,\n",
       " 780,\n",
       " 1300,\n",
       " 1600,\n",
       " 220,\n",
       " 1600,\n",
       " 1860,\n",
       " 960,\n",
       " 160,\n",
       " 400,\n",
       " 300,\n",
       " 740,\n",
       " 500,\n",
       " 380,\n",
       " 340,\n",
       " 1260,\n",
       " 1220,\n",
       " 1780,\n",
       " 80,\n",
       " 1840,\n",
       " 540,\n",
       " 80,\n",
       " 1420,\n",
       " 60,\n",
       " 480,\n",
       " 1420,\n",
       " 1620,\n",
       " 740,\n",
       " 1700,\n",
       " 1200,\n",
       " 1920,\n",
       " 520,\n",
       " 1320,\n",
       " 1300,\n",
       " 660,\n",
       " 1260,\n",
       " 1800,\n",
       " 1540,\n",
       " 900,\n",
       " 940,\n",
       " 1640,\n",
       " 1040,\n",
       " 440,\n",
       " 1240,\n",
       " 820,\n",
       " 40,\n",
       " 600,\n",
       " 1380,\n",
       " 140,\n",
       " 420,\n",
       " 800,\n",
       " 1980,\n",
       " 80,\n",
       " 840,\n",
       " 1900,\n",
       " 1420,\n",
       " 40,\n",
       " 1980,\n",
       " 400,\n",
       " 1080,\n",
       " 960,\n",
       " 220,\n",
       " 360,\n",
       " 620,\n",
       " 1400,\n",
       " 420,\n",
       " 560,\n",
       " 1220,\n",
       " 520,\n",
       " 1920,\n",
       " 860,\n",
       " 1280,\n",
       " 380,\n",
       " 1460,\n",
       " 1600,\n",
       " 1740,\n",
       " 780,\n",
       " 100,\n",
       " 1500,\n",
       " 1460,\n",
       " 900,\n",
       " 580,\n",
       " 1980,\n",
       " 540,\n",
       " 1220,\n",
       " 180,\n",
       " 1400,\n",
       " 1480,\n",
       " 960,\n",
       " 1040,\n",
       " 820,\n",
       " 440,\n",
       " 1040,\n",
       " 20,\n",
       " 460,\n",
       " 960,\n",
       " 20,\n",
       " 260,\n",
       " 1680,\n",
       " 300,\n",
       " 380,\n",
       " 1080,\n",
       " 700,\n",
       " 660,\n",
       " 100,\n",
       " 880,\n",
       " 1320,\n",
       " 540,\n",
       " 1020,\n",
       " 1020,\n",
       " 360,\n",
       " 740,\n",
       " 680,\n",
       " 620,\n",
       " 120,\n",
       " 260,\n",
       " 1380,\n",
       " 800,\n",
       " 500,\n",
       " 260,\n",
       " 1560,\n",
       " 360,\n",
       " 1680,\n",
       " 500,\n",
       " 1140,\n",
       " 1920,\n",
       " 1820,\n",
       " 420,\n",
       " 280,\n",
       " 360,\n",
       " 1680,\n",
       " 1620,\n",
       " 580,\n",
       " 700,\n",
       " 740,\n",
       " 360,\n",
       " 1000,\n",
       " 660,\n",
       " 280,\n",
       " 80,\n",
       " 80,\n",
       " 1100,\n",
       " 1680,\n",
       " 1720,\n",
       " 1960,\n",
       " 1560,\n",
       " 680,\n",
       " 1260,\n",
       " 1280,\n",
       " 1600,\n",
       " 600,\n",
       " 780,\n",
       " 180,\n",
       " 900,\n",
       " 820,\n",
       " 200,\n",
       " 320,\n",
       " 660,\n",
       " 1340,\n",
       " 560,\n",
       " 1340,\n",
       " 440,\n",
       " 900,\n",
       " 220,\n",
       " 240,\n",
       " 340,\n",
       " 420,\n",
       " 120,\n",
       " 1460,\n",
       " 380,\n",
       " 1960,\n",
       " 520,\n",
       " 900,\n",
       " 340,\n",
       " 1600,\n",
       " 1520,\n",
       " 1200,\n",
       " 1340,\n",
       " 1880,\n",
       " 420,\n",
       " 1720,\n",
       " 1480,\n",
       " 60,\n",
       " 240,\n",
       " 840,\n",
       " 400,\n",
       " 120,\n",
       " 1220,\n",
       " 1060,\n",
       " 1160,\n",
       " 40,\n",
       " 820,\n",
       " 1840,\n",
       " 1720,\n",
       " 1600,\n",
       " 1920,\n",
       " 1760,\n",
       " 1740,\n",
       " 820,\n",
       " 620,\n",
       " 660,\n",
       " 80,\n",
       " 1700,\n",
       " 1720,\n",
       " 1000,\n",
       " 1300,\n",
       " 1480,\n",
       " 40,\n",
       " 260,\n",
       " 1700,\n",
       " 1100,\n",
       " 160,\n",
       " 1280,\n",
       " 20,\n",
       " 360,\n",
       " 1520,\n",
       " 1960,\n",
       " 860,\n",
       " 1600,\n",
       " 1920,\n",
       " 200,\n",
       " 640,\n",
       " 180,\n",
       " 280,\n",
       " 1960,\n",
       " 1640,\n",
       " 1560,\n",
       " 1260,\n",
       " 1780,\n",
       " 1080,\n",
       " 120,\n",
       " 140,\n",
       " 1060,\n",
       " 300,\n",
       " 760,\n",
       " 1840,\n",
       " 520,\n",
       " 880,\n",
       " 1520,\n",
       " 780,\n",
       " 800,\n",
       " 920,\n",
       " 1780,\n",
       " 20,\n",
       " 220,\n",
       " 1180,\n",
       " 760,\n",
       " 1720,\n",
       " 1340,\n",
       " 500,\n",
       " 1060,\n",
       " 1800,\n",
       " 240,\n",
       " 1300,\n",
       " 1180,\n",
       " 1720,\n",
       " 840,\n",
       " 800,\n",
       " 1420,\n",
       " 1660,\n",
       " 360,\n",
       " 1320,\n",
       " 1460,\n",
       " 1380,\n",
       " 1140,\n",
       " 1500,\n",
       " 1780,\n",
       " 1440,\n",
       " 60,\n",
       " 1840,\n",
       " 320,\n",
       " 560,\n",
       " 1840,\n",
       " 1080,\n",
       " 1700,\n",
       " 1940,\n",
       " 620,\n",
       " 1220,\n",
       " 60,\n",
       " 1380,\n",
       " 400,\n",
       " 700,\n",
       " 580,\n",
       " 620,\n",
       " 1320,\n",
       " 1740,\n",
       " 260,\n",
       " 940,\n",
       " 1780,\n",
       " 1720,\n",
       " 1440,\n",
       " 780,\n",
       " 300,\n",
       " 980,\n",
       " 180,\n",
       " 1040,\n",
       " 880,\n",
       " 120,\n",
       " 1320,\n",
       " 1300,\n",
       " 140,\n",
       " 1260,\n",
       " 260,\n",
       " 1980,\n",
       " 1740,\n",
       " 720,\n",
       " 1160,\n",
       " 440,\n",
       " 780,\n",
       " 100,\n",
       " 1700,\n",
       " 680,\n",
       " 380,\n",
       " 660,\n",
       " 1400,\n",
       " 100,\n",
       " 960,\n",
       " 680,\n",
       " 240,\n",
       " 1920,\n",
       " 1220,\n",
       " 1900,\n",
       " 400,\n",
       " 640,\n",
       " 1720,\n",
       " 1060,\n",
       " 1940,\n",
       " 1660,\n",
       " 1240,\n",
       " 140,\n",
       " 1940,\n",
       " 1660,\n",
       " 940,\n",
       " 1060,\n",
       " 320,\n",
       " 1340,\n",
       " 1480,\n",
       " 1260,\n",
       " 1220,\n",
       " 1300,\n",
       " 60,\n",
       " 1200,\n",
       " 1300,\n",
       " 1000,\n",
       " 1460,\n",
       " 620,\n",
       " 540,\n",
       " 1320,\n",
       " 280,\n",
       " 40,\n",
       " 1720,\n",
       " 1480,\n",
       " 420,\n",
       " 1020,\n",
       " 1280,\n",
       " 1420,\n",
       " 1520,\n",
       " 1840,\n",
       " 1000,\n",
       " 400,\n",
       " 620,\n",
       " 1700,\n",
       " 1060,\n",
       " 640,\n",
       " 120,\n",
       " 1180,\n",
       " 1500,\n",
       " 940,\n",
       " 1720,\n",
       " 1180,\n",
       " 1820,\n",
       " 640,\n",
       " 140,\n",
       " 620,\n",
       " 1880,\n",
       " 1680,\n",
       " 460,\n",
       " 1500,\n",
       " 20,\n",
       " 620,\n",
       " 80,\n",
       " 1440,\n",
       " 100,\n",
       " 500,\n",
       " 840,\n",
       " 660,\n",
       " 160,\n",
       " 520,\n",
       " 920,\n",
       " 960,\n",
       " 1460,\n",
       " 380,\n",
       " 640,\n",
       " 1480,\n",
       " 1040,\n",
       " 1800,\n",
       " 760,\n",
       " 440,\n",
       " 900,\n",
       " 1460,\n",
       " 980,\n",
       " 780,\n",
       " 1180,\n",
       " 1940,\n",
       " 1240,\n",
       " 60,\n",
       " 360,\n",
       " 1840,\n",
       " 0,\n",
       " 840,\n",
       " 800,\n",
       " 200,\n",
       " 1820,\n",
       " 480,\n",
       " 1180,\n",
       " 0,\n",
       " 1240,\n",
       " 1960,\n",
       " 1220,\n",
       " 180,\n",
       " 1900,\n",
       " 1120,\n",
       " 1120,\n",
       " 520,\n",
       " 900,\n",
       " 780,\n",
       " 1960,\n",
       " 1300,\n",
       " 1980,\n",
       " 520,\n",
       " 1820,\n",
       " 40,\n",
       " 1520,\n",
       " 860,\n",
       " 660,\n",
       " 160,\n",
       " 640,\n",
       " 400,\n",
       " 1600,\n",
       " 1300,\n",
       " 1300,\n",
       " 1200,\n",
       " 980,\n",
       " 760,\n",
       " 300,\n",
       " 320,\n",
       " 1720,\n",
       " 1780,\n",
       " 1380,\n",
       " 40,\n",
       " 440,\n",
       " 1760,\n",
       " 1020,\n",
       " 1120,\n",
       " 160,\n",
       " 60,\n",
       " 720,\n",
       " 940,\n",
       " 680,\n",
       " 1640,\n",
       " 620,\n",
       " 540,\n",
       " 1240,\n",
       " 460,\n",
       " 1280,\n",
       " 200,\n",
       " 100,\n",
       " 360,\n",
       " 340,\n",
       " 440,\n",
       " 1840,\n",
       " 1060,\n",
       " 980,\n",
       " 680,\n",
       " 700,\n",
       " 260,\n",
       " 160,\n",
       " 1560,\n",
       " 1920,\n",
       " 100,\n",
       " 960,\n",
       " 400,\n",
       " 620,\n",
       " 1700,\n",
       " 1600,\n",
       " 800,\n",
       " 1260,\n",
       " 540,\n",
       " 1860,\n",
       " 140,\n",
       " 640,\n",
       " 1760,\n",
       " 520,\n",
       " 900,\n",
       " 1340,\n",
       " 1660,\n",
       " 180,\n",
       " 800,\n",
       " 220,\n",
       " 1800,\n",
       " 20,\n",
       " 500,\n",
       " 1860,\n",
       " 120,\n",
       " 1060,\n",
       " 1600,\n",
       " 500,\n",
       " 740,\n",
       " 1180,\n",
       " 620,\n",
       " 1160,\n",
       " 1100,\n",
       " 860,\n",
       " 1920,\n",
       " 140,\n",
       " 300,\n",
       " 80,\n",
       " 940,\n",
       " 140,\n",
       " 1480,\n",
       " 500,\n",
       " 1580,\n",
       " 40,\n",
       " 920,\n",
       " 740,\n",
       " 220,\n",
       " 1340,\n",
       " 1360,\n",
       " 1540,\n",
       " 1640,\n",
       " 1020,\n",
       " 1220,\n",
       " 360,\n",
       " 120,\n",
       " 600,\n",
       " 1980,\n",
       " 480,\n",
       " 940,\n",
       " 740,\n",
       " 1180,\n",
       " 900,\n",
       " 700,\n",
       " 1400,\n",
       " 700,\n",
       " 1400,\n",
       " 520,\n",
       " 1120,\n",
       " 540,\n",
       " 640,\n",
       " 460,\n",
       " 80,\n",
       " 820,\n",
       " 120,\n",
       " 760,\n",
       " 380,\n",
       " 1780,\n",
       " 1420,\n",
       " 920,\n",
       " 920,\n",
       " 1980,\n",
       " 40,\n",
       " 280,\n",
       " 1900,\n",
       " 1580,\n",
       " 20,\n",
       " 280,\n",
       " 140,\n",
       " 80,\n",
       " 1280,\n",
       " 120,\n",
       " 1360,\n",
       " 1360,\n",
       " 720,\n",
       " 1940,\n",
       " 820,\n",
       " 1060,\n",
       " 100,\n",
       " 1520,\n",
       " 520,\n",
       " 1980,\n",
       " 1920,\n",
       " 1380,\n",
       " 1760,\n",
       " 1960,\n",
       " 500,\n",
       " 760,\n",
       " 840,\n",
       " 1180,\n",
       " 800,\n",
       " 1620,\n",
       " 1960,\n",
       " 740,\n",
       " 680,\n",
       " 1400,\n",
       " 80,\n",
       " 1740,\n",
       " 1340,\n",
       " 420,\n",
       " 300,\n",
       " 580,\n",
       " 1740,\n",
       " 380,\n",
       " 1620,\n",
       " 1420,\n",
       " 1880,\n",
       " 100,\n",
       " 600,\n",
       " 620,\n",
       " 1500,\n",
       " 1220,\n",
       " 780,\n",
       " 1880,\n",
       " 1300,\n",
       " 1660,\n",
       " 1320,\n",
       " 1460,\n",
       " 540,\n",
       " 1020,\n",
       " 1960,\n",
       " 1880,\n",
       " 1340,\n",
       " 1280,\n",
       " 60,\n",
       " 1040,\n",
       " 740,\n",
       " 40,\n",
       " 760,\n",
       " 280,\n",
       " 1380,\n",
       " 1920,\n",
       " 320,\n",
       " 1600,\n",
       " 1840,\n",
       " 500,\n",
       " 1440,\n",
       " 0,\n",
       " 1880,\n",
       " 480,\n",
       " 1400,\n",
       " 360,\n",
       " 920,\n",
       " 360,\n",
       " 1620,\n",
       " 880,\n",
       " 600,\n",
       " 820,\n",
       " 220,\n",
       " 980,\n",
       " 1440,\n",
       " 1680,\n",
       " 1600,\n",
       " 1100,\n",
       " 560,\n",
       " 1080,\n",
       " 1640,\n",
       " 800,\n",
       " 260,\n",
       " 1840,\n",
       " 1200,\n",
       " 1080,\n",
       " 240,\n",
       " 500,\n",
       " 500,\n",
       " 1300,\n",
       " 1260,\n",
       " 360,\n",
       " 300,\n",
       " 1580,\n",
       " 740,\n",
       " 1220,\n",
       " 820,\n",
       " 1360,\n",
       " 1700,\n",
       " 260,\n",
       " 480,\n",
       " 900,\n",
       " 1940,\n",
       " 800,\n",
       " 1120,\n",
       " 1180,\n",
       " 640,\n",
       " 1320,\n",
       " 480,\n",
       " 140,\n",
       " 1300,\n",
       " 1860,\n",
       " 1760,\n",
       " 1080,\n",
       " 0,\n",
       " 1960,\n",
       " 1700,\n",
       " 20,\n",
       " 1240,\n",
       " 1060,\n",
       " 1700,\n",
       " 340,\n",
       " 500,\n",
       " 460,\n",
       " 1240,\n",
       " 420,\n",
       " 1460,\n",
       " 60,\n",
       " 740,\n",
       " 420,\n",
       " 20,\n",
       " 1220,\n",
       " 1960,\n",
       " 1520,\n",
       " 840,\n",
       " 260,\n",
       " 1720,\n",
       " ...]"
      ]
     },
     "execution_count": 116,
     "metadata": {},
     "output_type": "execute_result"
    }
   ],
   "source": [
    "%%time\n",
    "[num * 20 for num in lista1]"
   ]
  },
  {
   "cell_type": "code",
   "execution_count": 117,
   "metadata": {},
   "outputs": [
    {
     "data": {
      "text/plain": [
       "array([59, 93, 94, ..., 73, 68, 24])"
      ]
     },
     "execution_count": 117,
     "metadata": {},
     "output_type": "execute_result"
    }
   ],
   "source": [
    "arr1"
   ]
  },
  {
   "cell_type": "code",
   "execution_count": 118,
   "metadata": {
    "ExecuteTime": {
     "end_time": "2020-01-04T20:59:48.764689Z",
     "start_time": "2020-01-04T20:59:48.759699Z"
    }
   },
   "outputs": [
    {
     "data": {
      "text/plain": [
       "array([186, 220, 221, ..., 200, 195, 151])"
      ]
     },
     "execution_count": 118,
     "metadata": {},
     "output_type": "execute_result"
    }
   ],
   "source": [
    "arr1 + 127"
   ]
  },
  {
   "cell_type": "code",
   "execution_count": 119,
   "metadata": {},
   "outputs": [
    {
     "data": {
      "text/plain": [
       "array([59, 93, 94, ..., 73, 68, 24])"
      ]
     },
     "execution_count": 119,
     "metadata": {},
     "output_type": "execute_result"
    }
   ],
   "source": [
    "arr1"
   ]
  },
  {
   "cell_type": "code",
   "execution_count": 121,
   "metadata": {},
   "outputs": [
    {
     "data": {
      "text/plain": [
       "array([1.        , 1.57627119, 1.59322034, ..., 1.23728814, 1.15254237,\n",
       "       0.40677966])"
      ]
     },
     "execution_count": 121,
     "metadata": {},
     "output_type": "execute_result"
    }
   ],
   "source": [
    "arr1 / 59"
   ]
  },
  {
   "cell_type": "code",
   "execution_count": 123,
   "metadata": {},
   "outputs": [
    {
     "data": {
      "text/plain": [
       "array([205379, 804357, 830584, ..., 389017, 314432,  13824])"
      ]
     },
     "execution_count": 123,
     "metadata": {},
     "output_type": "execute_result"
    }
   ],
   "source": [
    "arr1 ** 3"
   ]
  },
  {
   "cell_type": "code",
   "execution_count": 124,
   "metadata": {},
   "outputs": [
    {
     "data": {
      "text/plain": [
       "10000"
      ]
     },
     "execution_count": 124,
     "metadata": {},
     "output_type": "execute_result"
    }
   ],
   "source": [
    "len(arr1)"
   ]
  },
  {
   "cell_type": "markdown",
   "metadata": {},
   "source": [
    "#### Operações com várias listas"
   ]
  },
  {
   "cell_type": "code",
   "execution_count": 126,
   "metadata": {
    "ExecuteTime": {
     "end_time": "2020-01-04T20:59:56.078588Z",
     "start_time": "2020-01-04T20:59:56.071600Z"
    }
   },
   "outputs": [],
   "source": [
    "arr1 = np.random.randint(0, 100, 10)\n",
    "arr2 = np.random.randint(0, 100, 10)"
   ]
  },
  {
   "cell_type": "code",
   "execution_count": 127,
   "metadata": {},
   "outputs": [
    {
     "data": {
      "text/plain": [
       "array([71, 54, 98,  3, 15, 82, 49, 14, 75, 40])"
      ]
     },
     "execution_count": 127,
     "metadata": {},
     "output_type": "execute_result"
    }
   ],
   "source": [
    "arr1"
   ]
  },
  {
   "cell_type": "code",
   "execution_count": 128,
   "metadata": {},
   "outputs": [
    {
     "data": {
      "text/plain": [
       "array([13,  2, 63, 60, 34, 54, 84, 83, 11, 17])"
      ]
     },
     "execution_count": 128,
     "metadata": {},
     "output_type": "execute_result"
    }
   ],
   "source": [
    "arr2"
   ]
  },
  {
   "cell_type": "code",
   "execution_count": 129,
   "metadata": {},
   "outputs": [
    {
     "data": {
      "text/plain": [
       "array([ 84,  56, 161,  63,  49, 136, 133,  97,  86,  57])"
      ]
     },
     "execution_count": 129,
     "metadata": {},
     "output_type": "execute_result"
    }
   ],
   "source": [
    "arr1 + arr2"
   ]
  },
  {
   "cell_type": "code",
   "execution_count": 130,
   "metadata": {},
   "outputs": [],
   "source": [
    "lista1 = list(arr1)\n",
    "lista2 = list(arr2)"
   ]
  },
  {
   "cell_type": "code",
   "execution_count": 132,
   "metadata": {},
   "outputs": [
    {
     "data": {
      "text/plain": [
       "[84, 56, 161, 63, 49, 136, 133, 97, 86, 57]"
      ]
     },
     "execution_count": 132,
     "metadata": {},
     "output_type": "execute_result"
    }
   ],
   "source": [
    "[num1 + num2 for num1, num2 in list(zip(arr1, arr2))]"
   ]
  },
  {
   "cell_type": "code",
   "execution_count": 133,
   "metadata": {
    "ExecuteTime": {
     "end_time": "2020-01-04T20:59:56.416959Z",
     "start_time": "2020-01-04T20:59:56.410470Z"
    }
   },
   "outputs": [
    {
     "data": {
      "text/plain": [
       "array([ 5.46153846, 27.        ,  1.55555556,  0.05      ,  0.44117647,\n",
       "        1.51851852,  0.58333333,  0.1686747 ,  6.81818182,  2.35294118])"
      ]
     },
     "execution_count": 133,
     "metadata": {},
     "output_type": "execute_result"
    }
   ],
   "source": [
    "arr1 / arr2"
   ]
  },
  {
   "cell_type": "code",
   "execution_count": 134,
   "metadata": {
    "ExecuteTime": {
     "end_time": "2020-01-04T20:59:56.773310Z",
     "start_time": "2020-01-04T20:59:56.768304Z"
    }
   },
   "outputs": [
    {
     "data": {
      "text/plain": [
       "array([ 923,  108, 6174,  180,  510, 4428, 4116, 1162,  825,  680])"
      ]
     },
     "execution_count": 134,
     "metadata": {},
     "output_type": "execute_result"
    }
   ],
   "source": [
    "arr1 * arr2"
   ]
  },
  {
   "cell_type": "code",
   "execution_count": 136,
   "metadata": {},
   "outputs": [],
   "source": [
    "arr3 = np.random.randint(0, 100, 5)"
   ]
  },
  {
   "cell_type": "code",
   "execution_count": 137,
   "metadata": {},
   "outputs": [
    {
     "ename": "ValueError",
     "evalue": "operands could not be broadcast together with shapes (10,) (5,) ",
     "output_type": "error",
     "traceback": [
      "\u001b[0;31m---------------------------------------------------------------------------\u001b[0m",
      "\u001b[0;31mValueError\u001b[0m                                Traceback (most recent call last)",
      "\u001b[0;32m<ipython-input-137-9cd496795bf2>\u001b[0m in \u001b[0;36m<module>\u001b[0;34m\u001b[0m\n\u001b[0;32m----> 1\u001b[0;31m \u001b[0marr1\u001b[0m \u001b[0;34m+\u001b[0m \u001b[0marr3\u001b[0m\u001b[0;34m\u001b[0m\u001b[0;34m\u001b[0m\u001b[0m\n\u001b[0m",
      "\u001b[0;31mValueError\u001b[0m: operands could not be broadcast together with shapes (10,) (5,) "
     ]
    }
   ],
   "source": [
    "arr1 + arr3"
   ]
  },
  {
   "cell_type": "code",
   "execution_count": 138,
   "metadata": {},
   "outputs": [
    {
     "ename": "ValueError",
     "evalue": "operands could not be broadcast together with shapes (10,) (5,) ",
     "output_type": "error",
     "traceback": [
      "\u001b[0;31m---------------------------------------------------------------------------\u001b[0m",
      "\u001b[0;31mValueError\u001b[0m                                Traceback (most recent call last)",
      "\u001b[0;32m<ipython-input-138-3861a3a50b5e>\u001b[0m in \u001b[0;36m<module>\u001b[0;34m\u001b[0m\n\u001b[0;32m----> 1\u001b[0;31m \u001b[0marr1\u001b[0m \u001b[0;34m*\u001b[0m \u001b[0marr3\u001b[0m\u001b[0;34m\u001b[0m\u001b[0;34m\u001b[0m\u001b[0m\n\u001b[0m",
      "\u001b[0;31mValueError\u001b[0m: operands could not be broadcast together with shapes (10,) (5,) "
     ]
    }
   ],
   "source": [
    "arr1 * arr3"
   ]
  },
  {
   "cell_type": "code",
   "execution_count": null,
   "metadata": {},
   "outputs": [],
   "source": []
  },
  {
   "cell_type": "markdown",
   "metadata": {},
   "source": [
    "#### Métodos"
   ]
  },
  {
   "cell_type": "code",
   "execution_count": 143,
   "metadata": {
    "ExecuteTime": {
     "end_time": "2020-01-04T21:00:36.354683Z",
     "start_time": "2020-01-04T21:00:36.350191Z"
    }
   },
   "outputs": [
    {
     "data": {
      "text/plain": [
       "98"
      ]
     },
     "execution_count": 143,
     "metadata": {},
     "output_type": "execute_result"
    }
   ],
   "source": [
    "# Retornando o valor máximo do array\n",
    "arr1.max()"
   ]
  },
  {
   "cell_type": "code",
   "execution_count": 144,
   "metadata": {},
   "outputs": [
    {
     "data": {
      "text/plain": [
       "98"
      ]
     },
     "execution_count": 144,
     "metadata": {},
     "output_type": "execute_result"
    }
   ],
   "source": [
    "max(arr1)"
   ]
  },
  {
   "cell_type": "code",
   "execution_count": 148,
   "metadata": {},
   "outputs": [
    {
     "data": {
      "text/plain": [
       "2"
      ]
     },
     "execution_count": 148,
     "metadata": {},
     "output_type": "execute_result"
    }
   ],
   "source": [
    "arr1.argmax()"
   ]
  },
  {
   "cell_type": "code",
   "execution_count": 147,
   "metadata": {},
   "outputs": [
    {
     "data": {
      "text/plain": [
       "2"
      ]
     },
     "execution_count": 147,
     "metadata": {},
     "output_type": "execute_result"
    }
   ],
   "source": [
    "lista1.index(max(lista1))"
   ]
  },
  {
   "cell_type": "code",
   "execution_count": 149,
   "metadata": {
    "ExecuteTime": {
     "end_time": "2020-01-04T21:00:38.310545Z",
     "start_time": "2020-01-04T21:00:38.305056Z"
    }
   },
   "outputs": [
    {
     "data": {
      "text/plain": [
       "3"
      ]
     },
     "execution_count": 149,
     "metadata": {},
     "output_type": "execute_result"
    }
   ],
   "source": [
    "arr1.min()"
   ]
  },
  {
   "cell_type": "code",
   "execution_count": 150,
   "metadata": {
    "ExecuteTime": {
     "end_time": "2020-01-04T21:00:52.043506Z",
     "start_time": "2020-01-04T21:00:52.039014Z"
    }
   },
   "outputs": [
    {
     "data": {
      "text/plain": [
       "3"
      ]
     },
     "execution_count": 150,
     "metadata": {},
     "output_type": "execute_result"
    }
   ],
   "source": [
    "arr1.argmin()"
   ]
  },
  {
   "cell_type": "code",
   "execution_count": 152,
   "metadata": {},
   "outputs": [
    {
     "data": {
      "text/plain": [
       "3"
      ]
     },
     "execution_count": 152,
     "metadata": {},
     "output_type": "execute_result"
    }
   ],
   "source": [
    "arr1[arr1.argmin()]"
   ]
  },
  {
   "cell_type": "code",
   "execution_count": 153,
   "metadata": {
    "ExecuteTime": {
     "end_time": "2020-01-04T21:00:58.380221Z",
     "start_time": "2020-01-04T21:00:58.375729Z"
    }
   },
   "outputs": [
    {
     "data": {
      "text/plain": [
       "501"
      ]
     },
     "execution_count": 153,
     "metadata": {},
     "output_type": "execute_result"
    }
   ],
   "source": [
    "arr1.sum()"
   ]
  },
  {
   "cell_type": "code",
   "execution_count": 154,
   "metadata": {
    "ExecuteTime": {
     "end_time": "2020-01-04T21:01:12.109189Z",
     "start_time": "2020-01-04T21:01:12.103698Z"
    }
   },
   "outputs": [
    {
     "data": {
      "text/plain": [
       "50.1"
      ]
     },
     "execution_count": 154,
     "metadata": {},
     "output_type": "execute_result"
    }
   ],
   "source": [
    "arr1.mean()"
   ]
  },
  {
   "cell_type": "code",
   "execution_count": 155,
   "metadata": {
    "ExecuteTime": {
     "end_time": "2020-01-04T21:01:12.407635Z",
     "start_time": "2020-01-04T21:01:12.402643Z"
    }
   },
   "outputs": [
    {
     "data": {
      "text/plain": [
       "30.398848662408252"
      ]
     },
     "execution_count": 155,
     "metadata": {},
     "output_type": "execute_result"
    }
   ],
   "source": [
    "arr1.std()"
   ]
  },
  {
   "cell_type": "code",
   "execution_count": 158,
   "metadata": {
    "ExecuteTime": {
     "end_time": "2020-01-04T21:01:12.832842Z",
     "start_time": "2020-01-04T21:01:12.827853Z"
    }
   },
   "outputs": [],
   "source": [
    "arr1.sort()"
   ]
  },
  {
   "cell_type": "code",
   "execution_count": 166,
   "metadata": {},
   "outputs": [
    {
     "data": {
      "text/plain": [
       "array([ 3, 14, 15, 40, 49, 54, 71, 75, 82, 98])"
      ]
     },
     "execution_count": 166,
     "metadata": {},
     "output_type": "execute_result"
    }
   ],
   "source": [
    "arr1"
   ]
  },
  {
   "cell_type": "code",
   "execution_count": 167,
   "metadata": {},
   "outputs": [
    {
     "data": {
      "text/plain": [
       "array([ 2, 11, 13, 17, 34, 54, 60, 63, 83, 84])"
      ]
     },
     "execution_count": 167,
     "metadata": {},
     "output_type": "execute_result"
    }
   ],
   "source": [
    "# Utilizando a função np.sort -> retorna o valor do array ordenado sem alterar a ordem\n",
    "np.sort(arr2)"
   ]
  },
  {
   "cell_type": "code",
   "execution_count": 168,
   "metadata": {},
   "outputs": [
    {
     "name": "stdout",
     "output_type": "stream",
     "text": [
      "29.06011011679068\n",
      "421\n"
     ]
    }
   ],
   "source": [
    "print(np.std(arr2))\n",
    "print(np.sum(arr2))"
   ]
  },
  {
   "cell_type": "code",
   "execution_count": 172,
   "metadata": {
    "ExecuteTime": {
     "end_time": "2020-01-04T21:01:13.793558Z",
     "start_time": "2020-01-04T21:01:13.787068Z"
    }
   },
   "outputs": [],
   "source": [
    "arr4 = arr1 / 3"
   ]
  },
  {
   "cell_type": "code",
   "execution_count": 175,
   "metadata": {},
   "outputs": [
    {
     "data": {
      "text/plain": [
       "dtype('float64')"
      ]
     },
     "execution_count": 175,
     "metadata": {},
     "output_type": "execute_result"
    }
   ],
   "source": [
    "arr4.dtype"
   ]
  },
  {
   "cell_type": "code",
   "execution_count": 177,
   "metadata": {},
   "outputs": [
    {
     "data": {
      "text/plain": [
       "dtype('int64')"
      ]
     },
     "execution_count": 177,
     "metadata": {},
     "output_type": "execute_result"
    }
   ],
   "source": [
    "arr1.dtype"
   ]
  },
  {
   "cell_type": "code",
   "execution_count": 179,
   "metadata": {},
   "outputs": [
    {
     "data": {
      "text/plain": [
       "array([ 3, 14, 15, 40, 49, 54, 71, 75, 82, 98])"
      ]
     },
     "execution_count": 179,
     "metadata": {},
     "output_type": "execute_result"
    }
   ],
   "source": [
    "arr1"
   ]
  },
  {
   "cell_type": "code",
   "execution_count": 181,
   "metadata": {},
   "outputs": [
    {
     "data": {
      "text/plain": [
       "176"
      ]
     },
     "execution_count": 181,
     "metadata": {},
     "output_type": "execute_result"
    }
   ],
   "source": [
    "import sys\n",
    "sys.getsizeof(arr1)"
   ]
  },
  {
   "cell_type": "code",
   "execution_count": 182,
   "metadata": {},
   "outputs": [
    {
     "data": {
      "text/plain": [
       "dtype('int64')"
      ]
     },
     "execution_count": 182,
     "metadata": {},
     "output_type": "execute_result"
    }
   ],
   "source": [
    "arr1.dtype"
   ]
  },
  {
   "cell_type": "code",
   "execution_count": null,
   "metadata": {},
   "outputs": [],
   "source": []
  },
  {
   "cell_type": "code",
   "execution_count": 183,
   "metadata": {},
   "outputs": [],
   "source": [
    "# Trocando o tipo de dados do array\n",
    "arr5 = arr1.astype('int32')"
   ]
  },
  {
   "cell_type": "code",
   "execution_count": 184,
   "metadata": {},
   "outputs": [
    {
     "data": {
      "text/plain": [
       "dtype('int32')"
      ]
     },
     "execution_count": 184,
     "metadata": {},
     "output_type": "execute_result"
    }
   ],
   "source": [
    "arr5.dtype"
   ]
  },
  {
   "cell_type": "code",
   "execution_count": 185,
   "metadata": {},
   "outputs": [
    {
     "data": {
      "text/plain": [
       "136"
      ]
     },
     "execution_count": 185,
     "metadata": {},
     "output_type": "execute_result"
    }
   ],
   "source": [
    "sys.getsizeof(arr5)"
   ]
  },
  {
   "cell_type": "code",
   "execution_count": 186,
   "metadata": {},
   "outputs": [],
   "source": [
    "arr6 = arr1.astype('int8')"
   ]
  },
  {
   "cell_type": "code",
   "execution_count": 187,
   "metadata": {},
   "outputs": [
    {
     "data": {
      "text/plain": [
       "106"
      ]
     },
     "execution_count": 187,
     "metadata": {},
     "output_type": "execute_result"
    }
   ],
   "source": [
    "sys.getsizeof(arr6)"
   ]
  },
  {
   "cell_type": "code",
   "execution_count": 188,
   "metadata": {},
   "outputs": [],
   "source": [
    "lista_mista = [1, 10, 20.5, 30.2]"
   ]
  },
  {
   "cell_type": "code",
   "execution_count": 190,
   "metadata": {},
   "outputs": [],
   "source": [
    "arr_misto = np.array(lista_mista)"
   ]
  },
  {
   "cell_type": "code",
   "execution_count": 191,
   "metadata": {},
   "outputs": [
    {
     "data": {
      "text/plain": [
       "array([ 1. , 10. , 20.5, 30.2])"
      ]
     },
     "execution_count": 191,
     "metadata": {},
     "output_type": "execute_result"
    }
   ],
   "source": [
    "arr_misto"
   ]
  },
  {
   "cell_type": "code",
   "execution_count": 192,
   "metadata": {},
   "outputs": [
    {
     "data": {
      "text/plain": [
       "dtype('float64')"
      ]
     },
     "execution_count": 192,
     "metadata": {},
     "output_type": "execute_result"
    }
   ],
   "source": [
    "arr_misto.dtype"
   ]
  },
  {
   "cell_type": "code",
   "execution_count": 194,
   "metadata": {},
   "outputs": [],
   "source": [
    "arr_strings = np.array(['hoje', 'abacate', 'laranja'])"
   ]
  },
  {
   "cell_type": "code",
   "execution_count": 195,
   "metadata": {},
   "outputs": [
    {
     "data": {
      "text/plain": [
       "array(['hoje', 'abacate', 'laranja'], dtype='<U7')"
      ]
     },
     "execution_count": 195,
     "metadata": {},
     "output_type": "execute_result"
    }
   ],
   "source": [
    "arr_strings"
   ]
  },
  {
   "cell_type": "code",
   "execution_count": 196,
   "metadata": {},
   "outputs": [
    {
     "data": {
      "text/plain": [
       "dtype('<U7')"
      ]
     },
     "execution_count": 196,
     "metadata": {},
     "output_type": "execute_result"
    }
   ],
   "source": [
    "arr_strings.dtype"
   ]
  },
  {
   "cell_type": "code",
   "execution_count": 197,
   "metadata": {},
   "outputs": [],
   "source": [
    "lista_mista = [1, 10.3, 'laranja']"
   ]
  },
  {
   "cell_type": "code",
   "execution_count": 199,
   "metadata": {},
   "outputs": [],
   "source": [
    "arr_mista = np.array(lista_mista)"
   ]
  },
  {
   "cell_type": "code",
   "execution_count": 200,
   "metadata": {},
   "outputs": [
    {
     "data": {
      "text/plain": [
       "numpy.ndarray"
      ]
     },
     "execution_count": 200,
     "metadata": {},
     "output_type": "execute_result"
    }
   ],
   "source": [
    "type(arr_mista)"
   ]
  },
  {
   "cell_type": "code",
   "execution_count": 201,
   "metadata": {},
   "outputs": [
    {
     "data": {
      "text/plain": [
       "dtype('<U32')"
      ]
     },
     "execution_count": 201,
     "metadata": {},
     "output_type": "execute_result"
    }
   ],
   "source": [
    "arr_mista.dtype"
   ]
  },
  {
   "cell_type": "code",
   "execution_count": 208,
   "metadata": {},
   "outputs": [
    {
     "data": {
      "text/plain": [
       "480"
      ]
     },
     "execution_count": 208,
     "metadata": {},
     "output_type": "execute_result"
    }
   ],
   "source": [
    "sys.getsizeof(arr_mista)"
   ]
  },
  {
   "cell_type": "code",
   "execution_count": 207,
   "metadata": {},
   "outputs": [
    {
     "data": {
      "text/plain": [
       "array(['111', '10.310.310.3', 'laranjalaranjalaranja'], dtype=object)"
      ]
     },
     "execution_count": 207,
     "metadata": {},
     "output_type": "execute_result"
    }
   ],
   "source": [
    "# Precisamos transforma para objeto \n",
    "arr_mista.astype('object') * 3"
   ]
  },
  {
   "cell_type": "code",
   "execution_count": 210,
   "metadata": {},
   "outputs": [
    {
     "data": {
      "text/plain": [
       "120"
      ]
     },
     "execution_count": 210,
     "metadata": {},
     "output_type": "execute_result"
    }
   ],
   "source": [
    "arr_mista_obj = arr_mista.astype('object')\n",
    "sys.getsizeof(arr_mista_obj)"
   ]
  },
  {
   "cell_type": "code",
   "execution_count": 203,
   "metadata": {},
   "outputs": [
    {
     "data": {
      "text/plain": [
       "'laranjalaranjalaranja'"
      ]
     },
     "execution_count": 203,
     "metadata": {},
     "output_type": "execute_result"
    }
   ],
   "source": [
    "'laranja' * 3"
   ]
  },
  {
   "cell_type": "code",
   "execution_count": 204,
   "metadata": {},
   "outputs": [
    {
     "data": {
      "text/plain": [
       "9"
      ]
     },
     "execution_count": 204,
     "metadata": {},
     "output_type": "execute_result"
    }
   ],
   "source": [
    "3 * 3"
   ]
  },
  {
   "cell_type": "markdown",
   "metadata": {},
   "source": [
    "#### Matrix"
   ]
  },
  {
   "cell_type": "code",
   "execution_count": 221,
   "metadata": {
    "ExecuteTime": {
     "end_time": "2020-01-04T21:01:35.504180Z",
     "start_time": "2020-01-04T21:01:35.499687Z"
    }
   },
   "outputs": [],
   "source": [
    "arr_valores = np.arange(0, 20, 2)"
   ]
  },
  {
   "cell_type": "code",
   "execution_count": 222,
   "metadata": {},
   "outputs": [
    {
     "data": {
      "text/plain": [
       "array([ 0,  2,  4,  6,  8, 10, 12, 14, 16, 18])"
      ]
     },
     "execution_count": 222,
     "metadata": {},
     "output_type": "execute_result"
    }
   ],
   "source": [
    "arr_valores"
   ]
  },
  {
   "cell_type": "code",
   "execution_count": 223,
   "metadata": {},
   "outputs": [],
   "source": [
    "matrix = arr_valores.reshape(5, 2)"
   ]
  },
  {
   "cell_type": "code",
   "execution_count": 217,
   "metadata": {},
   "outputs": [
    {
     "data": {
      "text/plain": [
       "array([[ 0,  2],\n",
       "       [ 4,  6],\n",
       "       [ 8, 10],\n",
       "       [12, 14],\n",
       "       [16, 18]])"
      ]
     },
     "execution_count": 217,
     "metadata": {},
     "output_type": "execute_result"
    }
   ],
   "source": [
    "# Quando imprimimos na tela aparece a matrix de forma agradável!\n",
    "matrix"
   ]
  },
  {
   "cell_type": "code",
   "execution_count": 232,
   "metadata": {},
   "outputs": [
    {
     "data": {
      "text/plain": [
       "[[0, 2], [4, 6], [8, 10], [12, 14], [16, 18]]"
      ]
     },
     "execution_count": 232,
     "metadata": {},
     "output_type": "execute_result"
    }
   ],
   "source": [
    "# Na lista não\n",
    "\n",
    "matrix.tolist() # transformando a matriz em uma lista de listas"
   ]
  },
  {
   "cell_type": "code",
   "execution_count": 224,
   "metadata": {},
   "outputs": [
    {
     "data": {
      "text/plain": [
       "(5, 2)"
      ]
     },
     "execution_count": 224,
     "metadata": {},
     "output_type": "execute_result"
    }
   ],
   "source": [
    "matrix.shape"
   ]
  },
  {
   "cell_type": "code",
   "execution_count": 226,
   "metadata": {},
   "outputs": [
    {
     "data": {
      "text/plain": [
       "5"
      ]
     },
     "execution_count": 226,
     "metadata": {},
     "output_type": "execute_result"
    }
   ],
   "source": [
    "matrix.shape[0]"
   ]
  },
  {
   "cell_type": "code",
   "execution_count": 227,
   "metadata": {},
   "outputs": [],
   "source": [
    "n_rows, n_cols = matrix.shape"
   ]
  },
  {
   "cell_type": "code",
   "execution_count": 233,
   "metadata": {},
   "outputs": [],
   "source": [
    "# Criando uma matriz identidade\n",
    "matriz_identidade = np.eye(5)"
   ]
  },
  {
   "cell_type": "code",
   "execution_count": 234,
   "metadata": {},
   "outputs": [
    {
     "data": {
      "text/plain": [
       "array([[1., 0., 0., 0., 0.],\n",
       "       [0., 1., 0., 0., 0.],\n",
       "       [0., 0., 1., 0., 0.],\n",
       "       [0., 0., 0., 1., 0.],\n",
       "       [0., 0., 0., 0., 1.]])"
      ]
     },
     "execution_count": 234,
     "metadata": {},
     "output_type": "execute_result"
    }
   ],
   "source": [
    "matriz_identidade"
   ]
  },
  {
   "cell_type": "code",
   "execution_count": null,
   "metadata": {
    "ExecuteTime": {
     "end_time": "2020-01-04T21:01:47.584713Z",
     "start_time": "2020-01-04T21:01:47.578723Z"
    }
   },
   "outputs": [],
   "source": []
  },
  {
   "cell_type": "code",
   "execution_count": 238,
   "metadata": {
    "ExecuteTime": {
     "end_time": "2020-01-04T21:01:50.382511Z",
     "start_time": "2020-01-04T21:01:50.376020Z"
    }
   },
   "outputs": [
    {
     "data": {
      "text/plain": [
       "2"
      ]
     },
     "execution_count": 238,
     "metadata": {},
     "output_type": "execute_result"
    }
   ],
   "source": [
    "matrix[0][1]"
   ]
  },
  {
   "cell_type": "code",
   "execution_count": 241,
   "metadata": {},
   "outputs": [
    {
     "data": {
      "text/plain": [
       "array([[ 0,  2],\n",
       "       [ 4,  6],\n",
       "       [ 8, 10],\n",
       "       [12, 14],\n",
       "       [16, 18]])"
      ]
     },
     "execution_count": 241,
     "metadata": {},
     "output_type": "execute_result"
    }
   ],
   "source": [
    "matrix"
   ]
  },
  {
   "cell_type": "code",
   "execution_count": 239,
   "metadata": {
    "ExecuteTime": {
     "end_time": "2020-01-04T21:01:54.428499Z",
     "start_time": "2020-01-04T21:01:54.423992Z"
    }
   },
   "outputs": [
    {
     "data": {
      "text/plain": [
       "array([[ 8, 10],\n",
       "       [12, 14],\n",
       "       [16, 18]])"
      ]
     },
     "execution_count": 239,
     "metadata": {},
     "output_type": "execute_result"
    }
   ],
   "source": [
    "matrix[2:]"
   ]
  },
  {
   "cell_type": "code",
   "execution_count": 248,
   "metadata": {},
   "outputs": [
    {
     "data": {
      "text/plain": [
       "array([[10],\n",
       "       [14],\n",
       "       [18]])"
      ]
     },
     "execution_count": 248,
     "metadata": {},
     "output_type": "execute_result"
    }
   ],
   "source": [
    "matrix[2: , 1:] # pegando a terceira linha em diante e a segunda coluna"
   ]
  },
  {
   "cell_type": "code",
   "execution_count": 249,
   "metadata": {},
   "outputs": [
    {
     "data": {
      "text/plain": [
       "array([[10],\n",
       "       [14],\n",
       "       [18]])"
      ]
     },
     "execution_count": 249,
     "metadata": {},
     "output_type": "execute_result"
    }
   ],
   "source": [
    "matrix[2:][ :  , # pegando todas as linhas\n",
    "           1:] # pegando a terceira linha em diante. E depois todas as linhas e a segunda coluna."
   ]
  },
  {
   "cell_type": "code",
   "execution_count": null,
   "metadata": {
    "ExecuteTime": {
     "end_time": "2020-01-04T21:01:55.005910Z",
     "start_time": "2020-01-04T21:01:55.000420Z"
    }
   },
   "outputs": [],
   "source": []
  },
  {
   "cell_type": "code",
   "execution_count": 250,
   "metadata": {},
   "outputs": [],
   "source": [
    "matriz_quadrada = np.array([[1000, 200], [2, -7]])"
   ]
  },
  {
   "cell_type": "code",
   "execution_count": 251,
   "metadata": {},
   "outputs": [
    {
     "data": {
      "text/plain": [
       "array([[1000,  200],\n",
       "       [   2,   -7]])"
      ]
     },
     "execution_count": 251,
     "metadata": {},
     "output_type": "execute_result"
    }
   ],
   "source": [
    "matriz_quadrada"
   ]
  },
  {
   "cell_type": "code",
   "execution_count": 253,
   "metadata": {},
   "outputs": [
    {
     "data": {
      "text/plain": [
       "-7400.0"
      ]
     },
     "execution_count": 253,
     "metadata": {},
     "output_type": "execute_result"
    }
   ],
   "source": [
    "# Achando a determinante\n",
    "np.linalg.det(matriz_quadrada)"
   ]
  },
  {
   "cell_type": "code",
   "execution_count": 255,
   "metadata": {},
   "outputs": [],
   "source": [
    "inv_matriz_quadrada = np.linalg.inv(matriz_quadrada)"
   ]
  },
  {
   "cell_type": "code",
   "execution_count": 258,
   "metadata": {},
   "outputs": [],
   "source": [
    "matriz_quadrada2 = np.array([[0,1], [1, 0]])"
   ]
  },
  {
   "cell_type": "code",
   "execution_count": 260,
   "metadata": {},
   "outputs": [
    {
     "data": {
      "text/plain": [
       "array([[1000,  200],\n",
       "       [   2,   -7]])"
      ]
     },
     "execution_count": 260,
     "metadata": {},
     "output_type": "execute_result"
    }
   ],
   "source": [
    "matriz_quadrada"
   ]
  },
  {
   "cell_type": "code",
   "execution_count": 259,
   "metadata": {},
   "outputs": [
    {
     "data": {
      "text/plain": [
       "array([[0, 1],\n",
       "       [1, 0]])"
      ]
     },
     "execution_count": 259,
     "metadata": {},
     "output_type": "execute_result"
    }
   ],
   "source": [
    "matriz_quadrada2"
   ]
  },
  {
   "cell_type": "code",
   "execution_count": 261,
   "metadata": {},
   "outputs": [
    {
     "data": {
      "text/plain": [
       "array([[  0, 200],\n",
       "       [  2,   0]])"
      ]
     },
     "execution_count": 261,
     "metadata": {},
     "output_type": "execute_result"
    }
   ],
   "source": [
    "matriz_quadrada * matriz_quadrada2"
   ]
  },
  {
   "cell_type": "markdown",
   "metadata": {},
   "source": [
    "```\n",
    "[a, b] @ [e, f]  = [a*e + b*g, a*f + b*h]  \n",
    "[c, d]   [g, h]    [c*e + d*g, c*f + d*h]  \n",
    "```"
   ]
  },
  {
   "cell_type": "code",
   "execution_count": 262,
   "metadata": {},
   "outputs": [
    {
     "data": {
      "text/plain": [
       "array([[ 200, 1000],\n",
       "       [  -7,    2]])"
      ]
     },
     "execution_count": 262,
     "metadata": {},
     "output_type": "execute_result"
    }
   ],
   "source": [
    "# Utilizando o @ para fazer a multiplicação de matrizes\n",
    "matriz_quadrada @ matriz_quadrada2"
   ]
  },
  {
   "cell_type": "code",
   "execution_count": 263,
   "metadata": {},
   "outputs": [
    {
     "data": {
      "text/plain": [
       "array([[ 200, 1000],\n",
       "       [  -7,    2]])"
      ]
     },
     "execution_count": 263,
     "metadata": {},
     "output_type": "execute_result"
    }
   ],
   "source": [
    "# Podemos utilizar o matmul() para realizar a multiplicação de matrizes.\n",
    "np.matmul(matriz_quadrada, matriz_quadrada2)"
   ]
  },
  {
   "cell_type": "code",
   "execution_count": 264,
   "metadata": {},
   "outputs": [],
   "source": [
    "vetor_3d = np.array([6400, 300, 200])"
   ]
  },
  {
   "cell_type": "code",
   "execution_count": 265,
   "metadata": {},
   "outputs": [
    {
     "data": {
      "text/plain": [
       "6410.148204214938"
      ]
     },
     "execution_count": 265,
     "metadata": {},
     "output_type": "execute_result"
    }
   ],
   "source": [
    "# Achando a norma de um vetor\n",
    "np.linalg.norm(vetor_3d)"
   ]
  },
  {
   "cell_type": "markdown",
   "metadata": {},
   "source": [
    "#### Máscaras"
   ]
  },
  {
   "cell_type": "code",
   "execution_count": null,
   "metadata": {
    "ExecuteTime": {
     "end_time": "2020-01-04T21:02:00.445793Z",
     "start_time": "2020-01-04T21:02:00.441301Z"
    }
   },
   "outputs": [],
   "source": [
    "# 39"
   ]
  },
  {
   "cell_type": "code",
   "execution_count": null,
   "metadata": {
    "ExecuteTime": {
     "end_time": "2020-01-04T21:02:04.332567Z",
     "start_time": "2020-01-04T21:02:04.327574Z"
    }
   },
   "outputs": [],
   "source": [
    "# 40"
   ]
  },
  {
   "cell_type": "code",
   "execution_count": null,
   "metadata": {
    "ExecuteTime": {
     "end_time": "2020-01-04T21:02:07.325998Z",
     "start_time": "2020-01-04T21:02:07.320508Z"
    }
   },
   "outputs": [],
   "source": [
    "# 41"
   ]
  },
  {
   "cell_type": "code",
   "execution_count": null,
   "metadata": {
    "ExecuteTime": {
     "end_time": "2020-01-04T21:02:07.527623Z",
     "start_time": "2020-01-04T21:02:07.521633Z"
    }
   },
   "outputs": [],
   "source": [
    "# 42"
   ]
  }
 ],
 "metadata": {
  "kernelspec": {
   "display_name": "Python 3",
   "language": "python",
   "name": "python3"
  },
  "language_info": {
   "codemirror_mode": {
    "name": "ipython",
    "version": 3
   },
   "file_extension": ".py",
   "mimetype": "text/x-python",
   "name": "python",
   "nbconvert_exporter": "python",
   "pygments_lexer": "ipython3",
   "version": "3.8.8"
  },
  "toc": {
   "base_numbering": 1,
   "nav_menu": {},
   "number_sections": true,
   "sideBar": true,
   "skip_h1_title": false,
   "title_cell": "Table of Contents",
   "title_sidebar": "Contents",
   "toc_cell": false,
   "toc_position": {},
   "toc_section_display": true,
   "toc_window_display": false
  },
  "varInspector": {
   "cols": {
    "lenName": 16,
    "lenType": 16,
    "lenVar": 40
   },
   "kernels_config": {
    "python": {
     "delete_cmd_postfix": "",
     "delete_cmd_prefix": "del ",
     "library": "var_list.py",
     "varRefreshCmd": "print(var_dic_list())"
    },
    "r": {
     "delete_cmd_postfix": ") ",
     "delete_cmd_prefix": "rm(",
     "library": "var_list.r",
     "varRefreshCmd": "cat(var_dic_list()) "
    }
   },
   "types_to_exclude": [
    "module",
    "function",
    "builtin_function_or_method",
    "instance",
    "_Feature"
   ],
   "window_display": false
  }
 },
 "nbformat": 4,
 "nbformat_minor": 4
}
