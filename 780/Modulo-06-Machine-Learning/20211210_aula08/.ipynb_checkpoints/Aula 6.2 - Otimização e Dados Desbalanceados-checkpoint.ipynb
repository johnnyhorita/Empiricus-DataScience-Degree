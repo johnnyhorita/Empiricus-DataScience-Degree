{
 "cells": [
  {
   "cell_type": "markdown",
   "metadata": {},
   "source": [
    "<img src=\"data:image/jpeg;base64,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\" width=1000>"
   ]
  },
  {
   "cell_type": "markdown",
   "metadata": {},
   "source": [
    "# Aula 6 - Tópicos Avançados de Machine Learning II\n",
    "\n",
    "Nessa aula, iremos tratar dos seguintes conteúdos:\n",
    "- Escolha de Hiperparâmetros (tunagem de Modelos);\n",
    "- Bases Desbalanceadas."
   ]
  },
  {
   "cell_type": "markdown",
   "metadata": {},
   "source": [
    "##   "
   ]
  },
  {
   "cell_type": "markdown",
   "metadata": {},
   "source": [
    "## Exercícios"
   ]
  },
  {
   "cell_type": "markdown",
   "metadata": {},
   "source": [
    "**1)** Realize uma classificação com da coluna y dos dados de marketing bancário (contido no arquivo bank-full.csv). Utiliza as 3 técnicas para dados desbalanceados para melhorar o desempenho do modelo (podem usar o RandomForest). Qual a melhor técnica de balanceamento para esses dados?"
   ]
  },
  {
   "cell_type": "code",
   "execution_count": 1,
   "metadata": {},
   "outputs": [],
   "source": [
    "import pandas as pd\n",
    "import numpy as np\n",
    "import matplotlib.pyplot as plt\n",
    "import seaborn as sns\n",
    "from pprint import pprint"
   ]
  },
  {
   "cell_type": "code",
   "execution_count": 2,
   "metadata": {},
   "outputs": [],
   "source": [
    "bank = pd.read_csv('../datasets/bank-full.csv', sep=';')"
   ]
  },
  {
   "cell_type": "code",
   "execution_count": 3,
   "metadata": {
    "scrolled": true
   },
   "outputs": [
    {
     "data": {
      "text/html": [
       "<div>\n",
       "<style scoped>\n",
       "    .dataframe tbody tr th:only-of-type {\n",
       "        vertical-align: middle;\n",
       "    }\n",
       "\n",
       "    .dataframe tbody tr th {\n",
       "        vertical-align: top;\n",
       "    }\n",
       "\n",
       "    .dataframe thead th {\n",
       "        text-align: right;\n",
       "    }\n",
       "</style>\n",
       "<table border=\"1\" class=\"dataframe\">\n",
       "  <thead>\n",
       "    <tr style=\"text-align: right;\">\n",
       "      <th></th>\n",
       "      <th>age</th>\n",
       "      <th>job</th>\n",
       "      <th>marital</th>\n",
       "      <th>education</th>\n",
       "      <th>default</th>\n",
       "      <th>balance</th>\n",
       "      <th>housing</th>\n",
       "      <th>loan</th>\n",
       "      <th>contact</th>\n",
       "      <th>day</th>\n",
       "      <th>month</th>\n",
       "      <th>duration</th>\n",
       "      <th>campaign</th>\n",
       "      <th>pdays</th>\n",
       "      <th>previous</th>\n",
       "      <th>poutcome</th>\n",
       "      <th>y</th>\n",
       "    </tr>\n",
       "  </thead>\n",
       "  <tbody>\n",
       "    <tr>\n",
       "      <th>0</th>\n",
       "      <td>58</td>\n",
       "      <td>management</td>\n",
       "      <td>married</td>\n",
       "      <td>tertiary</td>\n",
       "      <td>no</td>\n",
       "      <td>2143</td>\n",
       "      <td>yes</td>\n",
       "      <td>no</td>\n",
       "      <td>unknown</td>\n",
       "      <td>5</td>\n",
       "      <td>may</td>\n",
       "      <td>261</td>\n",
       "      <td>1</td>\n",
       "      <td>-1</td>\n",
       "      <td>0</td>\n",
       "      <td>unknown</td>\n",
       "      <td>no</td>\n",
       "    </tr>\n",
       "    <tr>\n",
       "      <th>1</th>\n",
       "      <td>44</td>\n",
       "      <td>technician</td>\n",
       "      <td>single</td>\n",
       "      <td>secondary</td>\n",
       "      <td>no</td>\n",
       "      <td>29</td>\n",
       "      <td>yes</td>\n",
       "      <td>no</td>\n",
       "      <td>unknown</td>\n",
       "      <td>5</td>\n",
       "      <td>may</td>\n",
       "      <td>151</td>\n",
       "      <td>1</td>\n",
       "      <td>-1</td>\n",
       "      <td>0</td>\n",
       "      <td>unknown</td>\n",
       "      <td>no</td>\n",
       "    </tr>\n",
       "    <tr>\n",
       "      <th>2</th>\n",
       "      <td>33</td>\n",
       "      <td>entrepreneur</td>\n",
       "      <td>married</td>\n",
       "      <td>secondary</td>\n",
       "      <td>no</td>\n",
       "      <td>2</td>\n",
       "      <td>yes</td>\n",
       "      <td>yes</td>\n",
       "      <td>unknown</td>\n",
       "      <td>5</td>\n",
       "      <td>may</td>\n",
       "      <td>76</td>\n",
       "      <td>1</td>\n",
       "      <td>-1</td>\n",
       "      <td>0</td>\n",
       "      <td>unknown</td>\n",
       "      <td>no</td>\n",
       "    </tr>\n",
       "    <tr>\n",
       "      <th>3</th>\n",
       "      <td>47</td>\n",
       "      <td>blue-collar</td>\n",
       "      <td>married</td>\n",
       "      <td>unknown</td>\n",
       "      <td>no</td>\n",
       "      <td>1506</td>\n",
       "      <td>yes</td>\n",
       "      <td>no</td>\n",
       "      <td>unknown</td>\n",
       "      <td>5</td>\n",
       "      <td>may</td>\n",
       "      <td>92</td>\n",
       "      <td>1</td>\n",
       "      <td>-1</td>\n",
       "      <td>0</td>\n",
       "      <td>unknown</td>\n",
       "      <td>no</td>\n",
       "    </tr>\n",
       "    <tr>\n",
       "      <th>4</th>\n",
       "      <td>33</td>\n",
       "      <td>unknown</td>\n",
       "      <td>single</td>\n",
       "      <td>unknown</td>\n",
       "      <td>no</td>\n",
       "      <td>1</td>\n",
       "      <td>no</td>\n",
       "      <td>no</td>\n",
       "      <td>unknown</td>\n",
       "      <td>5</td>\n",
       "      <td>may</td>\n",
       "      <td>198</td>\n",
       "      <td>1</td>\n",
       "      <td>-1</td>\n",
       "      <td>0</td>\n",
       "      <td>unknown</td>\n",
       "      <td>no</td>\n",
       "    </tr>\n",
       "  </tbody>\n",
       "</table>\n",
       "</div>"
      ],
      "text/plain": [
       "   age           job  marital  education default  balance housing loan  \\\n",
       "0   58    management  married   tertiary      no     2143     yes   no   \n",
       "1   44    technician   single  secondary      no       29     yes   no   \n",
       "2   33  entrepreneur  married  secondary      no        2     yes  yes   \n",
       "3   47   blue-collar  married    unknown      no     1506     yes   no   \n",
       "4   33       unknown   single    unknown      no        1      no   no   \n",
       "\n",
       "   contact  day month  duration  campaign  pdays  previous poutcome   y  \n",
       "0  unknown    5   may       261         1     -1         0  unknown  no  \n",
       "1  unknown    5   may       151         1     -1         0  unknown  no  \n",
       "2  unknown    5   may        76         1     -1         0  unknown  no  \n",
       "3  unknown    5   may        92         1     -1         0  unknown  no  \n",
       "4  unknown    5   may       198         1     -1         0  unknown  no  "
      ]
     },
     "execution_count": 3,
     "metadata": {},
     "output_type": "execute_result"
    }
   ],
   "source": [
    "bank.head()"
   ]
  },
  {
   "cell_type": "code",
   "execution_count": 4,
   "metadata": {},
   "outputs": [
    {
     "name": "stdout",
     "output_type": "stream",
     "text": [
      "<class 'pandas.core.frame.DataFrame'>\n",
      "RangeIndex: 45211 entries, 0 to 45210\n",
      "Data columns (total 17 columns):\n",
      " #   Column     Non-Null Count  Dtype \n",
      "---  ------     --------------  ----- \n",
      " 0   age        45211 non-null  int64 \n",
      " 1   job        45211 non-null  object\n",
      " 2   marital    45211 non-null  object\n",
      " 3   education  45211 non-null  object\n",
      " 4   default    45211 non-null  object\n",
      " 5   balance    45211 non-null  int64 \n",
      " 6   housing    45211 non-null  object\n",
      " 7   loan       45211 non-null  object\n",
      " 8   contact    45211 non-null  object\n",
      " 9   day        45211 non-null  int64 \n",
      " 10  month      45211 non-null  object\n",
      " 11  duration   45211 non-null  int64 \n",
      " 12  campaign   45211 non-null  int64 \n",
      " 13  pdays      45211 non-null  int64 \n",
      " 14  previous   45211 non-null  int64 \n",
      " 15  poutcome   45211 non-null  object\n",
      " 16  y          45211 non-null  object\n",
      "dtypes: int64(7), object(10)\n",
      "memory usage: 5.9+ MB\n"
     ]
    }
   ],
   "source": [
    "bank.info()"
   ]
  },
  {
   "cell_type": "code",
   "execution_count": 5,
   "metadata": {},
   "outputs": [
    {
     "data": {
      "text/plain": [
       "no     39922\n",
       "yes     5289\n",
       "Name: y, dtype: int64"
      ]
     },
     "execution_count": 5,
     "metadata": {},
     "output_type": "execute_result"
    }
   ],
   "source": [
    "bank['y'].value_counts()"
   ]
  },
  {
   "cell_type": "code",
   "execution_count": 6,
   "metadata": {},
   "outputs": [],
   "source": [
    "X = bank.drop(['y'], axis = 1)"
   ]
  },
  {
   "cell_type": "code",
   "execution_count": 7,
   "metadata": {},
   "outputs": [],
   "source": [
    "X_with_dummies = pd.get_dummies(X, prefix_sep = '_', columns=['job', \n",
    "                                                              'marital', \n",
    "                                                              'education',\n",
    "                                                              'default',\n",
    "                                                              'housing',\n",
    "                                                              'loan',\n",
    "                                                              'contact',\n",
    "                                                              'month',\n",
    "                                                              'poutcome'])"
   ]
  },
  {
   "cell_type": "code",
   "execution_count": 8,
   "metadata": {},
   "outputs": [
    {
     "data": {
      "text/html": [
       "<div>\n",
       "<style scoped>\n",
       "    .dataframe tbody tr th:only-of-type {\n",
       "        vertical-align: middle;\n",
       "    }\n",
       "\n",
       "    .dataframe tbody tr th {\n",
       "        vertical-align: top;\n",
       "    }\n",
       "\n",
       "    .dataframe thead th {\n",
       "        text-align: right;\n",
       "    }\n",
       "</style>\n",
       "<table border=\"1\" class=\"dataframe\">\n",
       "  <thead>\n",
       "    <tr style=\"text-align: right;\">\n",
       "      <th></th>\n",
       "      <th>age</th>\n",
       "      <th>balance</th>\n",
       "      <th>day</th>\n",
       "      <th>duration</th>\n",
       "      <th>campaign</th>\n",
       "      <th>pdays</th>\n",
       "      <th>previous</th>\n",
       "      <th>job_admin.</th>\n",
       "      <th>job_blue-collar</th>\n",
       "      <th>job_entrepreneur</th>\n",
       "      <th>...</th>\n",
       "      <th>month_jun</th>\n",
       "      <th>month_mar</th>\n",
       "      <th>month_may</th>\n",
       "      <th>month_nov</th>\n",
       "      <th>month_oct</th>\n",
       "      <th>month_sep</th>\n",
       "      <th>poutcome_failure</th>\n",
       "      <th>poutcome_other</th>\n",
       "      <th>poutcome_success</th>\n",
       "      <th>poutcome_unknown</th>\n",
       "    </tr>\n",
       "  </thead>\n",
       "  <tbody>\n",
       "    <tr>\n",
       "      <th>0</th>\n",
       "      <td>58</td>\n",
       "      <td>2143</td>\n",
       "      <td>5</td>\n",
       "      <td>261</td>\n",
       "      <td>1</td>\n",
       "      <td>-1</td>\n",
       "      <td>0</td>\n",
       "      <td>0</td>\n",
       "      <td>0</td>\n",
       "      <td>0</td>\n",
       "      <td>...</td>\n",
       "      <td>0</td>\n",
       "      <td>0</td>\n",
       "      <td>1</td>\n",
       "      <td>0</td>\n",
       "      <td>0</td>\n",
       "      <td>0</td>\n",
       "      <td>0</td>\n",
       "      <td>0</td>\n",
       "      <td>0</td>\n",
       "      <td>1</td>\n",
       "    </tr>\n",
       "    <tr>\n",
       "      <th>1</th>\n",
       "      <td>44</td>\n",
       "      <td>29</td>\n",
       "      <td>5</td>\n",
       "      <td>151</td>\n",
       "      <td>1</td>\n",
       "      <td>-1</td>\n",
       "      <td>0</td>\n",
       "      <td>0</td>\n",
       "      <td>0</td>\n",
       "      <td>0</td>\n",
       "      <td>...</td>\n",
       "      <td>0</td>\n",
       "      <td>0</td>\n",
       "      <td>1</td>\n",
       "      <td>0</td>\n",
       "      <td>0</td>\n",
       "      <td>0</td>\n",
       "      <td>0</td>\n",
       "      <td>0</td>\n",
       "      <td>0</td>\n",
       "      <td>1</td>\n",
       "    </tr>\n",
       "    <tr>\n",
       "      <th>2</th>\n",
       "      <td>33</td>\n",
       "      <td>2</td>\n",
       "      <td>5</td>\n",
       "      <td>76</td>\n",
       "      <td>1</td>\n",
       "      <td>-1</td>\n",
       "      <td>0</td>\n",
       "      <td>0</td>\n",
       "      <td>0</td>\n",
       "      <td>1</td>\n",
       "      <td>...</td>\n",
       "      <td>0</td>\n",
       "      <td>0</td>\n",
       "      <td>1</td>\n",
       "      <td>0</td>\n",
       "      <td>0</td>\n",
       "      <td>0</td>\n",
       "      <td>0</td>\n",
       "      <td>0</td>\n",
       "      <td>0</td>\n",
       "      <td>1</td>\n",
       "    </tr>\n",
       "    <tr>\n",
       "      <th>3</th>\n",
       "      <td>47</td>\n",
       "      <td>1506</td>\n",
       "      <td>5</td>\n",
       "      <td>92</td>\n",
       "      <td>1</td>\n",
       "      <td>-1</td>\n",
       "      <td>0</td>\n",
       "      <td>0</td>\n",
       "      <td>1</td>\n",
       "      <td>0</td>\n",
       "      <td>...</td>\n",
       "      <td>0</td>\n",
       "      <td>0</td>\n",
       "      <td>1</td>\n",
       "      <td>0</td>\n",
       "      <td>0</td>\n",
       "      <td>0</td>\n",
       "      <td>0</td>\n",
       "      <td>0</td>\n",
       "      <td>0</td>\n",
       "      <td>1</td>\n",
       "    </tr>\n",
       "    <tr>\n",
       "      <th>4</th>\n",
       "      <td>33</td>\n",
       "      <td>1</td>\n",
       "      <td>5</td>\n",
       "      <td>198</td>\n",
       "      <td>1</td>\n",
       "      <td>-1</td>\n",
       "      <td>0</td>\n",
       "      <td>0</td>\n",
       "      <td>0</td>\n",
       "      <td>0</td>\n",
       "      <td>...</td>\n",
       "      <td>0</td>\n",
       "      <td>0</td>\n",
       "      <td>1</td>\n",
       "      <td>0</td>\n",
       "      <td>0</td>\n",
       "      <td>0</td>\n",
       "      <td>0</td>\n",
       "      <td>0</td>\n",
       "      <td>0</td>\n",
       "      <td>1</td>\n",
       "    </tr>\n",
       "  </tbody>\n",
       "</table>\n",
       "<p>5 rows × 51 columns</p>\n",
       "</div>"
      ],
      "text/plain": [
       "   age  balance  day  duration  campaign  pdays  previous  job_admin.  \\\n",
       "0   58     2143    5       261         1     -1         0           0   \n",
       "1   44       29    5       151         1     -1         0           0   \n",
       "2   33        2    5        76         1     -1         0           0   \n",
       "3   47     1506    5        92         1     -1         0           0   \n",
       "4   33        1    5       198         1     -1         0           0   \n",
       "\n",
       "   job_blue-collar  job_entrepreneur  ...  month_jun  month_mar  month_may  \\\n",
       "0                0                 0  ...          0          0          1   \n",
       "1                0                 0  ...          0          0          1   \n",
       "2                0                 1  ...          0          0          1   \n",
       "3                1                 0  ...          0          0          1   \n",
       "4                0                 0  ...          0          0          1   \n",
       "\n",
       "   month_nov  month_oct  month_sep  poutcome_failure  poutcome_other  \\\n",
       "0          0          0          0                 0               0   \n",
       "1          0          0          0                 0               0   \n",
       "2          0          0          0                 0               0   \n",
       "3          0          0          0                 0               0   \n",
       "4          0          0          0                 0               0   \n",
       "\n",
       "   poutcome_success  poutcome_unknown  \n",
       "0                 0                 1  \n",
       "1                 0                 1  \n",
       "2                 0                 1  \n",
       "3                 0                 1  \n",
       "4                 0                 1  \n",
       "\n",
       "[5 rows x 51 columns]"
      ]
     },
     "execution_count": 8,
     "metadata": {},
     "output_type": "execute_result"
    }
   ],
   "source": [
    "X_with_dummies.head()"
   ]
  },
  {
   "cell_type": "code",
   "execution_count": 9,
   "metadata": {},
   "outputs": [
    {
     "data": {
      "text/plain": [
       "array([0, 0, 0, ..., 1, 0, 0])"
      ]
     },
     "execution_count": 9,
     "metadata": {},
     "output_type": "execute_result"
    }
   ],
   "source": [
    "y_target = np.where(bank['y'] == 'yes', 1, 0)\n",
    "y_target"
   ]
  },
  {
   "cell_type": "code",
   "execution_count": 10,
   "metadata": {},
   "outputs": [],
   "source": [
    "#Separando em train e test\n",
    "from sklearn.model_selection import train_test_split\n",
    "\n",
    "X_train, X_test, y_train, y_test = train_test_split(X_with_dummies, \n",
    "                                                    y_target, \n",
    "                                                    test_size=0.4, \n",
    "                                                    random_state=42,\n",
    "                                                    stratify = y_target)"
   ]
  },
  {
   "cell_type": "code",
   "execution_count": 11,
   "metadata": {},
   "outputs": [],
   "source": [
    "from sklearn.ensemble import RandomForestClassifier\n",
    "\n",
    "model = RandomForestClassifier(random_state = 42)\n",
    "\n",
    "model.fit(X_train, y_train)\n",
    "\n",
    "y_pred = model.predict(X_test)"
   ]
  },
  {
   "cell_type": "code",
   "execution_count": 12,
   "metadata": {},
   "outputs": [
    {
     "name": "stdout",
     "output_type": "stream",
     "text": [
      "              precision    recall  f1-score   support\n",
      "\n",
      "           0       0.92      0.98      0.95     15969\n",
      "           1       0.68      0.40      0.50      2116\n",
      "\n",
      "    accuracy                           0.91     18085\n",
      "   macro avg       0.80      0.69      0.72     18085\n",
      "weighted avg       0.90      0.91      0.90     18085\n",
      "\n"
     ]
    }
   ],
   "source": [
    "from sklearn.metrics import classification_reportb\n",
    "\n",
    "print(classification_report(y_test, y_pred))"
   ]
  },
  {
   "cell_type": "markdown",
   "metadata": {},
   "source": [
    "\n",
    "O suporte define quantidade de linhas\n",
    "separacao para a base de teste tem 2116 registros\n",
    "\n"
   ]
  },
  {
   "cell_type": "markdown",
   "metadata": {},
   "source": [
    "não são verdadeiros e eram 1279 para ser\n"
   ]
  },
  {
   "cell_type": "code",
   "execution_count": 13,
   "metadata": {
    "scrolled": true
   },
   "outputs": [
    {
     "data": {
      "image/png": "[encoded data removed]",
      "text/plain": [
       "<Figure size 432x288 with 1 Axes>"
      ]
     },
     "metadata": {
      "needs_background": "light"
     },
     "output_type": "display_data"
    }
   ],
   "source": [
    "from mlxtend.plotting import plot_confusion_matrix\n",
    "from sklearn.metrics import confusion_matrix\n",
    "\n",
    "cm = confusion_matrix(y_test, y_pred)\n",
    "\n",
    "plot_confusion_matrix(conf_mat=cm)\n",
    "plt.show()"
   ]
  },
  {
   "cell_type": "code",
   "execution_count": 14,
   "metadata": {},
   "outputs": [],
   "source": [
    "from sklearn.metrics import accuracy_score"
   ]
  },
  {
   "cell_type": "code",
   "execution_count": 15,
   "metadata": {},
   "outputs": [],
   "source": [
    "acc_normal = accuracy_score(y_test, y_pred)"
   ]
  },
  {
   "cell_type": "markdown",
   "metadata": {},
   "source": [
    "Utilizando o __Oversampling__:"
   ]
  },
  {
   "cell_type": "code",
   "execution_count": 16,
   "metadata": {},
   "outputs": [],
   "source": [
    "import imblearn\n",
    "from imblearn.under_sampling import RandomUnderSampler\n",
    "from imblearn.over_sampling import RandomOverSampler"
   ]
  },
  {
   "cell_type": "code",
   "execution_count": 17,
   "metadata": {},
   "outputs": [],
   "source": [
    "# tecnicas de balanceamento\n",
    "# Instacia o oversample na classe minoritaria para equilibrar as classes\n",
    "\n",
    "oversample = RandomOverSampler(sampling_strategy='minority')\n"
   ]
  },
  {
   "cell_type": "code",
   "execution_count": 18,
   "metadata": {},
   "outputs": [],
   "source": [
    "# só na base de treino\n",
    "\n",
    "X_train_ov, y_train_ov = oversample.fit_resample(X_train, y_train)\n"
   ]
  },
  {
   "cell_type": "code",
   "execution_count": 19,
   "metadata": {},
   "outputs": [
    {
     "data": {
      "text/plain": [
       "RandomForestClassifier(random_state=42)"
      ]
     },
     "execution_count": 19,
     "metadata": {},
     "output_type": "execute_result"
    }
   ],
   "source": [
    "# fit com base de oversample\n",
    "model.fit(X_train_ov, y_train_ov)"
   ]
  },
  {
   "cell_type": "code",
   "execution_count": 20,
   "metadata": {},
   "outputs": [],
   "source": [
    "y_pred_ov = model.predict(X_test)"
   ]
  },
  {
   "cell_type": "code",
   "execution_count": 21,
   "metadata": {},
   "outputs": [],
   "source": [
    "acc_over = accuracy_score(y_test, y_pred_ov)"
   ]
  },
  {
   "cell_type": "markdown",
   "metadata": {},
   "source": [
    "Utilizando o __Undersampling__:"
   ]
  },
  {
   "cell_type": "code",
   "execution_count": 22,
   "metadata": {},
   "outputs": [],
   "source": [
    "# replica dados\n",
    "\n",
    "undersample = RandomUnderSampler(sampling_strategy='majority')"
   ]
  },
  {
   "cell_type": "code",
   "execution_count": 23,
   "metadata": {},
   "outputs": [],
   "source": [
    "X_train_un, y_train_un = undersample.fit_resample(X_train, y_train)"
   ]
  },
  {
   "cell_type": "code",
   "execution_count": 24,
   "metadata": {},
   "outputs": [
    {
     "data": {
      "text/plain": [
       "RandomForestClassifier(random_state=42)"
      ]
     },
     "execution_count": 24,
     "metadata": {},
     "output_type": "execute_result"
    }
   ],
   "source": [
    "model.fit(X_train_un, y_train_un)"
   ]
  },
  {
   "cell_type": "code",
   "execution_count": 25,
   "metadata": {},
   "outputs": [],
   "source": [
    "y_pred_un = model.predict(X_test)"
   ]
  },
  {
   "cell_type": "code",
   "execution_count": 26,
   "metadata": {},
   "outputs": [],
   "source": [
    "acc_under = accuracy_score(y_test, y_pred_un)"
   ]
  },
  {
   "cell_type": "markdown",
   "metadata": {},
   "source": [
    "Utilizando o __SMOTE__:"
   ]
  },
  {
   "cell_type": "code",
   "execution_count": 27,
   "metadata": {},
   "outputs": [],
   "source": [
    "from imblearn.over_sampling import SMOTE"
   ]
  },
  {
   "cell_type": "code",
   "execution_count": 28,
   "metadata": {},
   "outputs": [],
   "source": [
    "# cria dados artificiais\n",
    "smote = SMOTE()\n",
    "X_train_sm, y_train_sm = smote.fit_resample(X_train, y_train)"
   ]
  },
  {
   "cell_type": "code",
   "execution_count": 29,
   "metadata": {},
   "outputs": [],
   "source": [
    "model = RandomForestClassifier(random_state = 42)"
   ]
  },
  {
   "cell_type": "code",
   "execution_count": 30,
   "metadata": {},
   "outputs": [
    {
     "data": {
      "text/plain": [
       "RandomForestClassifier(random_state=42)"
      ]
     },
     "execution_count": 30,
     "metadata": {},
     "output_type": "execute_result"
    }
   ],
   "source": [
    "model.fit(X_train_sm, y_train_sm)"
   ]
  },
  {
   "cell_type": "code",
   "execution_count": 31,
   "metadata": {},
   "outputs": [],
   "source": [
    "y_pred_sm = model.predict(X_test)"
   ]
  },
  {
   "cell_type": "code",
   "execution_count": 32,
   "metadata": {},
   "outputs": [],
   "source": [
    "acc_smote = accuracy_score(y_test, y_pred_sm)"
   ]
  },
  {
   "cell_type": "code",
   "execution_count": null,
   "metadata": {},
   "outputs": [],
   "source": [
    "print(\"Comparação das Acurácias: \")\n",
    "print('Acurácia sem Tratamento:    ', np.round(acc_normal, 3))\n",
    "print('Acurácia com Oversampling:  ', np.round(acc_over, 3))\n",
    "print('Acurácia com Undersampling: ', np.round(acc_under, 3))\n",
    "print('Acurácia com SMOTE:         ', np.round(acc_smote, 3))"
   ]
  },
  {
   "cell_type": "code",
   "execution_count": null,
   "metadata": {},
   "outputs": [],
   "source": [
    "print('Sem tratamento')\n",
    "print(classification_report(y_test, y_pred))\n",
    "print('\\nOversampling')\n",
    "print(classification_report(y_test, y_pred_ov))\n",
    "print('\\nUndersampling')\n",
    "print(classification_report(y_test, y_pred_un))\n",
    "print('\\nSMOTE')\n",
    "print(classification_report(y_test, y_pred_sm))"
   ]
  },
  {
   "cell_type": "markdown",
   "metadata": {},
   "source": [
    "##   "
   ]
  }
 ],
 "metadata": {
  "kernelspec": {
   "display_name": "Python 3 (ipykernel)",
   "language": "python",
   "name": "python3"
  },
  "language_info": {
   "codemirror_mode": {
    "name": "ipython",
    "version": 3
   },
   "file_extension": ".py",
   "mimetype": "text/x-python",
   "name": "python",
   "nbconvert_exporter": "python",
   "pygments_lexer": "ipython3",
   "version": "3.8.12"
  }
 },
 "nbformat": 4,
 "nbformat_minor": 4
}
