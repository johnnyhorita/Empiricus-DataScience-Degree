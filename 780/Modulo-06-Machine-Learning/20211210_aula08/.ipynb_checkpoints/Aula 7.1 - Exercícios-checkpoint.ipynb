{
 "cells": [
  {
   "cell_type": "markdown",
   "id": "6997ea41",
   "metadata": {},
   "source": [
    "# Exercícios"
   ]
  },
  {
   "cell_type": "markdown",
   "id": "606fb7eb",
   "metadata": {},
   "source": [
    "## "
   ]
  },
  {
   "cell_type": "code",
   "execution_count": 90,
   "id": "d58c6c69",
   "metadata": {},
   "outputs": [],
   "source": [
    "# Bibliotecas\n",
    "import pandas as pd\n",
    "import numpy as np\n",
    "import datetime\n",
    "import requests\n",
    "import warnings\n",
    "from collections import Counter\n",
    "from pprint import pprint\n",
    "\n",
    "import matplotlib.pyplot as plt\n",
    "import matplotlib\n",
    "import seaborn as sns\n",
    "import squarify\n",
    "import plotly.offline as py\n",
    "#import plotly_express as px\n",
    "\n",
    "from sklearn.preprocessing import StandardScaler\n",
    "from sklearn.pipeline import Pipeline\n",
    "from mlxtend.plotting import plot_confusion_matrix\n",
    "\n",
    "from sklearn import metrics\n",
    "from sklearn.metrics import roc_auc_score, roc_curve, accuracy_score, precision_score, recall_score, f1_score, r2_score\n",
    "from sklearn.metrics import mean_squared_error, mean_absolute_error\n",
    "from sklearn.metrics import classification_report, confusion_matrix\n",
    "from sklearn.model_selection import train_test_split, RandomizedSearchCV, GridSearchCV\n",
    "\n",
    "# Logistic Regression\n",
    "from sklearn.linear_model import LogisticRegression \n",
    "# Support Vector Machine\n",
    "from sklearn.svm import SVC \n",
    "# Naive Bayes (Gaussian, Multinomial)\n",
    "from sklearn.naive_bayes import GaussianNB\n",
    "from sklearn.naive_bayes import MultinomialNB\n",
    "# Stochastic Gradient Descent Classifier\n",
    "from sklearn.linear_model import SGDClassifier\n",
    "# KNN (k-nearest neighbor)\n",
    "from sklearn.neighbors import KNeighborsClassifier\n",
    "# Decision Tree\n",
    "from sklearn.tree import DecisionTreeClassifier\n",
    "# Random Forest\n",
    "from sklearn.ensemble import RandomForestClassifier\n",
    "# Gradient Boosting Classifier\n",
    "from sklearn.ensemble import GradientBoostingClassifier\n",
    "# XGBoost Classifier\n",
    "from xgboost import XGBClassifier\n",
    "# LGBM Classifier\n",
    "from lightgbm import LGBMClassifier\n",
    "# Ada Boosting Classifier\n",
    "from sklearn.ensemble import AdaBoostClassifier\n",
    "# Dummy Boosting Classifier\n",
    "from sklearn.dummy import DummyClassifier\n",
    "\n",
    "import shap\n",
    "\n",
    "import imblearn\n",
    "from imblearn.under_sampling import RandomUnderSampler\n",
    "from imblearn.over_sampling import RandomOverSampler\n",
    "from imblearn.over_sampling import SMOTE\n",
    "\n",
    "\n",
    "from IPython.core.display import HTML as Center\n",
    "from IPython.display import Image\n",
    "warnings.filterwarnings('ignore')\n",
    "%matplotlib inline"
   ]
  },
  {
   "cell_type": "code",
   "execution_count": 20,
   "id": "980c184b",
   "metadata": {},
   "outputs": [],
   "source": [
    "# Função de avaliação de modelos apresentação da matriz de confusão\n",
    "\n",
    "def test_models_plot_confusion_matrix(model_list, col_model_name, col_model, X_train, X_test, y_train, y_test):\n",
    "\n",
    "    for mdl in model_list:\n",
    "        model = mdl[col_model]\n",
    "        model.fit(X_train, y_train)\n",
    "        y_predict = model.predict(X_test)\n",
    "        auc = metrics.roc_auc_score(y_test, model.predict(X_test))\n",
    "        print(\"Model      : %s\" % mdl[col_model_name])\n",
    "        print(\"ROC - AUC  : %0.4f \" % auc)\n",
    "        calc_predict(y_test, y_predict)\n",
    "        print(\"======================\")\n",
    "        \n",
    "        cm = confusion_matrix(y_test, y_predict)\n",
    "        plot_confusion_matrix(conf_mat=cm)\n",
    "        plt.show()\n"
   ]
  },
  {
   "cell_type": "code",
   "execution_count": 21,
   "id": "56812bba",
   "metadata": {},
   "outputs": [],
   "source": [
    "# Função para cálcular as métricas \n",
    "\n",
    "def calc_predict(y_test, y_predict):\n",
    "    print(\"Accuracy   : %0.4f \" %  accuracy_score(y_test, y_predict))\n",
    "    print(\"Precision  : %0.4f \" % precision_score(y_test, y_predict, average='weighted'))\n",
    "    print(\"Recall     : %0.4f \" % recall_score(y_test, y_predict, average='weighted'))\n",
    "    print(\"F1 - Score : %0.4f \" % f1_score(y_test, y_predict, average='weighted'))\n",
    "    print(\"MAE        : %0.4f \" % mean_absolute_error(y_test, y_predict))\n",
    "    print(\"RMSE       : %0.4f \" % np.sqrt(mean_squared_error(y_test, y_predict)))\n",
    "    print(\"R2         : %0.4f \" % r2_score(y_test, y_predict))\n",
    "    print(classification_report(y_test, y_predict))"
   ]
  },
  {
   "cell_type": "markdown",
   "id": "1f7a8f45",
   "metadata": {},
   "source": [
    "__1)__ Utilizando a base `Credit_card.csv` com registros de inadimplentes de uma administradora de cartão de crédito. O objetivo será desenvolver um modelo para fazer a predição dos possíveis clientes que vão ficar inadimplentes. Para o desenvolvimento do modelo siga os passos abaixo:"
   ]
  },
  {
   "cell_type": "markdown",
   "id": "2b169809",
   "metadata": {},
   "source": [
    "__A)__ Prepare os dados para fazer a modelagem. Teste os modelos : _KNN_, _Logistic Regression_, _Decision Tree_, _Random Forest_ e _XGBoost_. Em seguida mostre o _classification_report_ e a matriz de confusão para o melhor modelo."
   ]
  },
  {
   "cell_type": "code",
   "execution_count": 4,
   "id": "5e8316a6",
   "metadata": {},
   "outputs": [],
   "source": [
    "df = pd.read_csv('../datasets/credit_card.csv', sep=',')"
   ]
  },
  {
   "cell_type": "code",
   "execution_count": 5,
   "id": "08341ed4",
   "metadata": {},
   "outputs": [
    {
     "data": {
      "text/html": [
       "<div>\n",
       "<style scoped>\n",
       "    .dataframe tbody tr th:only-of-type {\n",
       "        vertical-align: middle;\n",
       "    }\n",
       "\n",
       "    .dataframe tbody tr th {\n",
       "        vertical-align: top;\n",
       "    }\n",
       "\n",
       "    .dataframe thead th {\n",
       "        text-align: right;\n",
       "    }\n",
       "</style>\n",
       "<table border=\"1\" class=\"dataframe\">\n",
       "  <thead>\n",
       "    <tr style=\"text-align: right;\">\n",
       "      <th></th>\n",
       "      <th>ID</th>\n",
       "      <th>LIMIT_BAL</th>\n",
       "      <th>SEX</th>\n",
       "      <th>EDUCATION</th>\n",
       "      <th>MARRIAGE</th>\n",
       "      <th>AGE</th>\n",
       "      <th>PAY_0</th>\n",
       "      <th>PAY_2</th>\n",
       "      <th>PAY_3</th>\n",
       "      <th>PAY_4</th>\n",
       "      <th>...</th>\n",
       "      <th>BILL_AMT4</th>\n",
       "      <th>BILL_AMT5</th>\n",
       "      <th>BILL_AMT6</th>\n",
       "      <th>PAY_AMT1</th>\n",
       "      <th>PAY_AMT2</th>\n",
       "      <th>PAY_AMT3</th>\n",
       "      <th>PAY_AMT4</th>\n",
       "      <th>PAY_AMT5</th>\n",
       "      <th>PAY_AMT6</th>\n",
       "      <th>default.payment.next.month</th>\n",
       "    </tr>\n",
       "  </thead>\n",
       "  <tbody>\n",
       "    <tr>\n",
       "      <th>0</th>\n",
       "      <td>1</td>\n",
       "      <td>20000.0</td>\n",
       "      <td>2</td>\n",
       "      <td>2</td>\n",
       "      <td>1</td>\n",
       "      <td>24</td>\n",
       "      <td>2</td>\n",
       "      <td>2</td>\n",
       "      <td>-1</td>\n",
       "      <td>-1</td>\n",
       "      <td>...</td>\n",
       "      <td>0.0</td>\n",
       "      <td>0.0</td>\n",
       "      <td>0.0</td>\n",
       "      <td>0.0</td>\n",
       "      <td>689.0</td>\n",
       "      <td>0.0</td>\n",
       "      <td>0.0</td>\n",
       "      <td>0.0</td>\n",
       "      <td>0.0</td>\n",
       "      <td>1</td>\n",
       "    </tr>\n",
       "    <tr>\n",
       "      <th>1</th>\n",
       "      <td>2</td>\n",
       "      <td>120000.0</td>\n",
       "      <td>2</td>\n",
       "      <td>2</td>\n",
       "      <td>2</td>\n",
       "      <td>26</td>\n",
       "      <td>-1</td>\n",
       "      <td>2</td>\n",
       "      <td>0</td>\n",
       "      <td>0</td>\n",
       "      <td>...</td>\n",
       "      <td>3272.0</td>\n",
       "      <td>3455.0</td>\n",
       "      <td>3261.0</td>\n",
       "      <td>0.0</td>\n",
       "      <td>1000.0</td>\n",
       "      <td>1000.0</td>\n",
       "      <td>1000.0</td>\n",
       "      <td>0.0</td>\n",
       "      <td>2000.0</td>\n",
       "      <td>1</td>\n",
       "    </tr>\n",
       "    <tr>\n",
       "      <th>2</th>\n",
       "      <td>3</td>\n",
       "      <td>90000.0</td>\n",
       "      <td>2</td>\n",
       "      <td>2</td>\n",
       "      <td>2</td>\n",
       "      <td>34</td>\n",
       "      <td>0</td>\n",
       "      <td>0</td>\n",
       "      <td>0</td>\n",
       "      <td>0</td>\n",
       "      <td>...</td>\n",
       "      <td>14331.0</td>\n",
       "      <td>14948.0</td>\n",
       "      <td>15549.0</td>\n",
       "      <td>1518.0</td>\n",
       "      <td>1500.0</td>\n",
       "      <td>1000.0</td>\n",
       "      <td>1000.0</td>\n",
       "      <td>1000.0</td>\n",
       "      <td>5000.0</td>\n",
       "      <td>0</td>\n",
       "    </tr>\n",
       "    <tr>\n",
       "      <th>3</th>\n",
       "      <td>4</td>\n",
       "      <td>50000.0</td>\n",
       "      <td>2</td>\n",
       "      <td>2</td>\n",
       "      <td>1</td>\n",
       "      <td>37</td>\n",
       "      <td>0</td>\n",
       "      <td>0</td>\n",
       "      <td>0</td>\n",
       "      <td>0</td>\n",
       "      <td>...</td>\n",
       "      <td>28314.0</td>\n",
       "      <td>28959.0</td>\n",
       "      <td>29547.0</td>\n",
       "      <td>2000.0</td>\n",
       "      <td>2019.0</td>\n",
       "      <td>1200.0</td>\n",
       "      <td>1100.0</td>\n",
       "      <td>1069.0</td>\n",
       "      <td>1000.0</td>\n",
       "      <td>0</td>\n",
       "    </tr>\n",
       "    <tr>\n",
       "      <th>4</th>\n",
       "      <td>5</td>\n",
       "      <td>50000.0</td>\n",
       "      <td>1</td>\n",
       "      <td>2</td>\n",
       "      <td>1</td>\n",
       "      <td>57</td>\n",
       "      <td>-1</td>\n",
       "      <td>0</td>\n",
       "      <td>-1</td>\n",
       "      <td>0</td>\n",
       "      <td>...</td>\n",
       "      <td>20940.0</td>\n",
       "      <td>19146.0</td>\n",
       "      <td>19131.0</td>\n",
       "      <td>2000.0</td>\n",
       "      <td>36681.0</td>\n",
       "      <td>10000.0</td>\n",
       "      <td>9000.0</td>\n",
       "      <td>689.0</td>\n",
       "      <td>679.0</td>\n",
       "      <td>0</td>\n",
       "    </tr>\n",
       "  </tbody>\n",
       "</table>\n",
       "<p>5 rows × 25 columns</p>\n",
       "</div>"
      ],
      "text/plain": [
       "   ID  LIMIT_BAL  SEX  EDUCATION  MARRIAGE  AGE  PAY_0  PAY_2  PAY_3  PAY_4  \\\n",
       "0   1    20000.0    2          2         1   24      2      2     -1     -1   \n",
       "1   2   120000.0    2          2         2   26     -1      2      0      0   \n",
       "2   3    90000.0    2          2         2   34      0      0      0      0   \n",
       "3   4    50000.0    2          2         1   37      0      0      0      0   \n",
       "4   5    50000.0    1          2         1   57     -1      0     -1      0   \n",
       "\n",
       "   ...  BILL_AMT4  BILL_AMT5  BILL_AMT6  PAY_AMT1  PAY_AMT2  PAY_AMT3  \\\n",
       "0  ...        0.0        0.0        0.0       0.0     689.0       0.0   \n",
       "1  ...     3272.0     3455.0     3261.0       0.0    1000.0    1000.0   \n",
       "2  ...    14331.0    14948.0    15549.0    1518.0    1500.0    1000.0   \n",
       "3  ...    28314.0    28959.0    29547.0    2000.0    2019.0    1200.0   \n",
       "4  ...    20940.0    19146.0    19131.0    2000.0   36681.0   10000.0   \n",
       "\n",
       "   PAY_AMT4  PAY_AMT5  PAY_AMT6  default.payment.next.month  \n",
       "0       0.0       0.0       0.0                           1  \n",
       "1    1000.0       0.0    2000.0                           1  \n",
       "2    1000.0    1000.0    5000.0                           0  \n",
       "3    1100.0    1069.0    1000.0                           0  \n",
       "4    9000.0     689.0     679.0                           0  \n",
       "\n",
       "[5 rows x 25 columns]"
      ]
     },
     "execution_count": 5,
     "metadata": {},
     "output_type": "execute_result"
    }
   ],
   "source": [
    "df.head()"
   ]
  },
  {
   "cell_type": "code",
   "execution_count": 6,
   "id": "4cf7f81a",
   "metadata": {},
   "outputs": [
    {
     "name": "stdout",
     "output_type": "stream",
     "text": [
      "<class 'pandas.core.frame.DataFrame'>\n",
      "RangeIndex: 30000 entries, 0 to 29999\n",
      "Data columns (total 25 columns):\n",
      " #   Column                      Non-Null Count  Dtype  \n",
      "---  ------                      --------------  -----  \n",
      " 0   ID                          30000 non-null  int64  \n",
      " 1   LIMIT_BAL                   30000 non-null  float64\n",
      " 2   SEX                         30000 non-null  int64  \n",
      " 3   EDUCATION                   30000 non-null  int64  \n",
      " 4   MARRIAGE                    30000 non-null  int64  \n",
      " 5   AGE                         30000 non-null  int64  \n",
      " 6   PAY_0                       30000 non-null  int64  \n",
      " 7   PAY_2                       30000 non-null  int64  \n",
      " 8   PAY_3                       30000 non-null  int64  \n",
      " 9   PAY_4                       30000 non-null  int64  \n",
      " 10  PAY_5                       30000 non-null  int64  \n",
      " 11  PAY_6                       30000 non-null  int64  \n",
      " 12  BILL_AMT1                   30000 non-null  float64\n",
      " 13  BILL_AMT2                   30000 non-null  float64\n",
      " 14  BILL_AMT3                   30000 non-null  float64\n",
      " 15  BILL_AMT4                   30000 non-null  float64\n",
      " 16  BILL_AMT5                   30000 non-null  float64\n",
      " 17  BILL_AMT6                   30000 non-null  float64\n",
      " 18  PAY_AMT1                    30000 non-null  float64\n",
      " 19  PAY_AMT2                    30000 non-null  float64\n",
      " 20  PAY_AMT3                    30000 non-null  float64\n",
      " 21  PAY_AMT4                    30000 non-null  float64\n",
      " 22  PAY_AMT5                    30000 non-null  float64\n",
      " 23  PAY_AMT6                    30000 non-null  float64\n",
      " 24  default.payment.next.month  30000 non-null  int64  \n",
      "dtypes: float64(13), int64(12)\n",
      "memory usage: 5.7 MB\n"
     ]
    }
   ],
   "source": [
    "df.info()"
   ]
  },
  {
   "cell_type": "code",
   "execution_count": 7,
   "id": "18a28e25",
   "metadata": {},
   "outputs": [
    {
     "data": {
      "text/plain": [
       "ID                            0\n",
       "LIMIT_BAL                     0\n",
       "SEX                           0\n",
       "EDUCATION                     0\n",
       "MARRIAGE                      0\n",
       "AGE                           0\n",
       "PAY_0                         0\n",
       "PAY_2                         0\n",
       "PAY_3                         0\n",
       "PAY_4                         0\n",
       "PAY_5                         0\n",
       "PAY_6                         0\n",
       "BILL_AMT1                     0\n",
       "BILL_AMT2                     0\n",
       "BILL_AMT3                     0\n",
       "BILL_AMT4                     0\n",
       "BILL_AMT5                     0\n",
       "BILL_AMT6                     0\n",
       "PAY_AMT1                      0\n",
       "PAY_AMT2                      0\n",
       "PAY_AMT3                      0\n",
       "PAY_AMT4                      0\n",
       "PAY_AMT5                      0\n",
       "PAY_AMT6                      0\n",
       "default.payment.next.month    0\n",
       "dtype: int64"
      ]
     },
     "execution_count": 7,
     "metadata": {},
     "output_type": "execute_result"
    }
   ],
   "source": [
    "df.isna().sum()"
   ]
  },
  {
   "cell_type": "code",
   "execution_count": 8,
   "id": "d407ba49",
   "metadata": {},
   "outputs": [
    {
     "data": {
      "text/plain": [
       "0    23364\n",
       "1     6636\n",
       "Name: default.payment.next.month, dtype: int64"
      ]
     },
     "execution_count": 8,
     "metadata": {},
     "output_type": "execute_result"
    }
   ],
   "source": [
    "df['default.payment.next.month'].value_counts()\n"
   ]
  },
  {
   "cell_type": "code",
   "execution_count": 9,
   "id": "eaffc48a",
   "metadata": {},
   "outputs": [
    {
     "data": {
      "text/html": [
       "<div>\n",
       "<style scoped>\n",
       "    .dataframe tbody tr th:only-of-type {\n",
       "        vertical-align: middle;\n",
       "    }\n",
       "\n",
       "    .dataframe tbody tr th {\n",
       "        vertical-align: top;\n",
       "    }\n",
       "\n",
       "    .dataframe thead th {\n",
       "        text-align: right;\n",
       "    }\n",
       "</style>\n",
       "<table border=\"1\" class=\"dataframe\">\n",
       "  <thead>\n",
       "    <tr style=\"text-align: right;\">\n",
       "      <th></th>\n",
       "      <th>count</th>\n",
       "      <th>mean</th>\n",
       "      <th>std</th>\n",
       "      <th>min</th>\n",
       "      <th>25%</th>\n",
       "      <th>50%</th>\n",
       "      <th>75%</th>\n",
       "      <th>max</th>\n",
       "    </tr>\n",
       "  </thead>\n",
       "  <tbody>\n",
       "    <tr>\n",
       "      <th>ID</th>\n",
       "      <td>30000.0</td>\n",
       "      <td>15000.500000</td>\n",
       "      <td>8660.398374</td>\n",
       "      <td>1.0</td>\n",
       "      <td>7500.75</td>\n",
       "      <td>15000.5</td>\n",
       "      <td>22500.25</td>\n",
       "      <td>30000.0</td>\n",
       "    </tr>\n",
       "    <tr>\n",
       "      <th>LIMIT_BAL</th>\n",
       "      <td>30000.0</td>\n",
       "      <td>167484.322667</td>\n",
       "      <td>129747.661567</td>\n",
       "      <td>10000.0</td>\n",
       "      <td>50000.00</td>\n",
       "      <td>140000.0</td>\n",
       "      <td>240000.00</td>\n",
       "      <td>1000000.0</td>\n",
       "    </tr>\n",
       "    <tr>\n",
       "      <th>SEX</th>\n",
       "      <td>30000.0</td>\n",
       "      <td>1.603733</td>\n",
       "      <td>0.489129</td>\n",
       "      <td>1.0</td>\n",
       "      <td>1.00</td>\n",
       "      <td>2.0</td>\n",
       "      <td>2.00</td>\n",
       "      <td>2.0</td>\n",
       "    </tr>\n",
       "    <tr>\n",
       "      <th>EDUCATION</th>\n",
       "      <td>30000.0</td>\n",
       "      <td>1.853133</td>\n",
       "      <td>0.790349</td>\n",
       "      <td>0.0</td>\n",
       "      <td>1.00</td>\n",
       "      <td>2.0</td>\n",
       "      <td>2.00</td>\n",
       "      <td>6.0</td>\n",
       "    </tr>\n",
       "    <tr>\n",
       "      <th>MARRIAGE</th>\n",
       "      <td>30000.0</td>\n",
       "      <td>1.551867</td>\n",
       "      <td>0.521970</td>\n",
       "      <td>0.0</td>\n",
       "      <td>1.00</td>\n",
       "      <td>2.0</td>\n",
       "      <td>2.00</td>\n",
       "      <td>3.0</td>\n",
       "    </tr>\n",
       "    <tr>\n",
       "      <th>AGE</th>\n",
       "      <td>30000.0</td>\n",
       "      <td>35.485500</td>\n",
       "      <td>9.217904</td>\n",
       "      <td>21.0</td>\n",
       "      <td>28.00</td>\n",
       "      <td>34.0</td>\n",
       "      <td>41.00</td>\n",
       "      <td>79.0</td>\n",
       "    </tr>\n",
       "    <tr>\n",
       "      <th>PAY_0</th>\n",
       "      <td>30000.0</td>\n",
       "      <td>-0.016700</td>\n",
       "      <td>1.123802</td>\n",
       "      <td>-2.0</td>\n",
       "      <td>-1.00</td>\n",
       "      <td>0.0</td>\n",
       "      <td>0.00</td>\n",
       "      <td>8.0</td>\n",
       "    </tr>\n",
       "    <tr>\n",
       "      <th>PAY_2</th>\n",
       "      <td>30000.0</td>\n",
       "      <td>-0.133767</td>\n",
       "      <td>1.197186</td>\n",
       "      <td>-2.0</td>\n",
       "      <td>-1.00</td>\n",
       "      <td>0.0</td>\n",
       "      <td>0.00</td>\n",
       "      <td>8.0</td>\n",
       "    </tr>\n",
       "    <tr>\n",
       "      <th>PAY_3</th>\n",
       "      <td>30000.0</td>\n",
       "      <td>-0.166200</td>\n",
       "      <td>1.196868</td>\n",
       "      <td>-2.0</td>\n",
       "      <td>-1.00</td>\n",
       "      <td>0.0</td>\n",
       "      <td>0.00</td>\n",
       "      <td>8.0</td>\n",
       "    </tr>\n",
       "    <tr>\n",
       "      <th>PAY_4</th>\n",
       "      <td>30000.0</td>\n",
       "      <td>-0.220667</td>\n",
       "      <td>1.169139</td>\n",
       "      <td>-2.0</td>\n",
       "      <td>-1.00</td>\n",
       "      <td>0.0</td>\n",
       "      <td>0.00</td>\n",
       "      <td>8.0</td>\n",
       "    </tr>\n",
       "    <tr>\n",
       "      <th>PAY_5</th>\n",
       "      <td>30000.0</td>\n",
       "      <td>-0.266200</td>\n",
       "      <td>1.133187</td>\n",
       "      <td>-2.0</td>\n",
       "      <td>-1.00</td>\n",
       "      <td>0.0</td>\n",
       "      <td>0.00</td>\n",
       "      <td>8.0</td>\n",
       "    </tr>\n",
       "    <tr>\n",
       "      <th>PAY_6</th>\n",
       "      <td>30000.0</td>\n",
       "      <td>-0.291100</td>\n",
       "      <td>1.149988</td>\n",
       "      <td>-2.0</td>\n",
       "      <td>-1.00</td>\n",
       "      <td>0.0</td>\n",
       "      <td>0.00</td>\n",
       "      <td>8.0</td>\n",
       "    </tr>\n",
       "    <tr>\n",
       "      <th>BILL_AMT1</th>\n",
       "      <td>30000.0</td>\n",
       "      <td>51223.330900</td>\n",
       "      <td>73635.860576</td>\n",
       "      <td>-165580.0</td>\n",
       "      <td>3558.75</td>\n",
       "      <td>22381.5</td>\n",
       "      <td>67091.00</td>\n",
       "      <td>964511.0</td>\n",
       "    </tr>\n",
       "    <tr>\n",
       "      <th>BILL_AMT2</th>\n",
       "      <td>30000.0</td>\n",
       "      <td>49179.075167</td>\n",
       "      <td>71173.768783</td>\n",
       "      <td>-69777.0</td>\n",
       "      <td>2984.75</td>\n",
       "      <td>21200.0</td>\n",
       "      <td>64006.25</td>\n",
       "      <td>983931.0</td>\n",
       "    </tr>\n",
       "    <tr>\n",
       "      <th>BILL_AMT3</th>\n",
       "      <td>30000.0</td>\n",
       "      <td>47013.154800</td>\n",
       "      <td>69349.387427</td>\n",
       "      <td>-157264.0</td>\n",
       "      <td>2666.25</td>\n",
       "      <td>20088.5</td>\n",
       "      <td>60164.75</td>\n",
       "      <td>1664089.0</td>\n",
       "    </tr>\n",
       "    <tr>\n",
       "      <th>BILL_AMT4</th>\n",
       "      <td>30000.0</td>\n",
       "      <td>43262.948967</td>\n",
       "      <td>64332.856134</td>\n",
       "      <td>-170000.0</td>\n",
       "      <td>2326.75</td>\n",
       "      <td>19052.0</td>\n",
       "      <td>54506.00</td>\n",
       "      <td>891586.0</td>\n",
       "    </tr>\n",
       "    <tr>\n",
       "      <th>BILL_AMT5</th>\n",
       "      <td>30000.0</td>\n",
       "      <td>40311.400967</td>\n",
       "      <td>60797.155770</td>\n",
       "      <td>-81334.0</td>\n",
       "      <td>1763.00</td>\n",
       "      <td>18104.5</td>\n",
       "      <td>50190.50</td>\n",
       "      <td>927171.0</td>\n",
       "    </tr>\n",
       "    <tr>\n",
       "      <th>BILL_AMT6</th>\n",
       "      <td>30000.0</td>\n",
       "      <td>38871.760400</td>\n",
       "      <td>59554.107537</td>\n",
       "      <td>-339603.0</td>\n",
       "      <td>1256.00</td>\n",
       "      <td>17071.0</td>\n",
       "      <td>49198.25</td>\n",
       "      <td>961664.0</td>\n",
       "    </tr>\n",
       "    <tr>\n",
       "      <th>PAY_AMT1</th>\n",
       "      <td>30000.0</td>\n",
       "      <td>5663.580500</td>\n",
       "      <td>16563.280354</td>\n",
       "      <td>0.0</td>\n",
       "      <td>1000.00</td>\n",
       "      <td>2100.0</td>\n",
       "      <td>5006.00</td>\n",
       "      <td>873552.0</td>\n",
       "    </tr>\n",
       "    <tr>\n",
       "      <th>PAY_AMT2</th>\n",
       "      <td>30000.0</td>\n",
       "      <td>5921.163500</td>\n",
       "      <td>23040.870402</td>\n",
       "      <td>0.0</td>\n",
       "      <td>833.00</td>\n",
       "      <td>2009.0</td>\n",
       "      <td>5000.00</td>\n",
       "      <td>1684259.0</td>\n",
       "    </tr>\n",
       "    <tr>\n",
       "      <th>PAY_AMT3</th>\n",
       "      <td>30000.0</td>\n",
       "      <td>5225.681500</td>\n",
       "      <td>17606.961470</td>\n",
       "      <td>0.0</td>\n",
       "      <td>390.00</td>\n",
       "      <td>1800.0</td>\n",
       "      <td>4505.00</td>\n",
       "      <td>896040.0</td>\n",
       "    </tr>\n",
       "    <tr>\n",
       "      <th>PAY_AMT4</th>\n",
       "      <td>30000.0</td>\n",
       "      <td>4826.076867</td>\n",
       "      <td>15666.159744</td>\n",
       "      <td>0.0</td>\n",
       "      <td>296.00</td>\n",
       "      <td>1500.0</td>\n",
       "      <td>4013.25</td>\n",
       "      <td>621000.0</td>\n",
       "    </tr>\n",
       "    <tr>\n",
       "      <th>PAY_AMT5</th>\n",
       "      <td>30000.0</td>\n",
       "      <td>4799.387633</td>\n",
       "      <td>15278.305679</td>\n",
       "      <td>0.0</td>\n",
       "      <td>252.50</td>\n",
       "      <td>1500.0</td>\n",
       "      <td>4031.50</td>\n",
       "      <td>426529.0</td>\n",
       "    </tr>\n",
       "    <tr>\n",
       "      <th>PAY_AMT6</th>\n",
       "      <td>30000.0</td>\n",
       "      <td>5215.502567</td>\n",
       "      <td>17777.465775</td>\n",
       "      <td>0.0</td>\n",
       "      <td>117.75</td>\n",
       "      <td>1500.0</td>\n",
       "      <td>4000.00</td>\n",
       "      <td>528666.0</td>\n",
       "    </tr>\n",
       "    <tr>\n",
       "      <th>default.payment.next.month</th>\n",
       "      <td>30000.0</td>\n",
       "      <td>0.221200</td>\n",
       "      <td>0.415062</td>\n",
       "      <td>0.0</td>\n",
       "      <td>0.00</td>\n",
       "      <td>0.0</td>\n",
       "      <td>0.00</td>\n",
       "      <td>1.0</td>\n",
       "    </tr>\n",
       "  </tbody>\n",
       "</table>\n",
       "</div>"
      ],
      "text/plain": [
       "                              count           mean            std       min  \\\n",
       "ID                          30000.0   15000.500000    8660.398374       1.0   \n",
       "LIMIT_BAL                   30000.0  167484.322667  129747.661567   10000.0   \n",
       "SEX                         30000.0       1.603733       0.489129       1.0   \n",
       "EDUCATION                   30000.0       1.853133       0.790349       0.0   \n",
       "MARRIAGE                    30000.0       1.551867       0.521970       0.0   \n",
       "AGE                         30000.0      35.485500       9.217904      21.0   \n",
       "PAY_0                       30000.0      -0.016700       1.123802      -2.0   \n",
       "PAY_2                       30000.0      -0.133767       1.197186      -2.0   \n",
       "PAY_3                       30000.0      -0.166200       1.196868      -2.0   \n",
       "PAY_4                       30000.0      -0.220667       1.169139      -2.0   \n",
       "PAY_5                       30000.0      -0.266200       1.133187      -2.0   \n",
       "PAY_6                       30000.0      -0.291100       1.149988      -2.0   \n",
       "BILL_AMT1                   30000.0   51223.330900   73635.860576 -165580.0   \n",
       "BILL_AMT2                   30000.0   49179.075167   71173.768783  -69777.0   \n",
       "BILL_AMT3                   30000.0   47013.154800   69349.387427 -157264.0   \n",
       "BILL_AMT4                   30000.0   43262.948967   64332.856134 -170000.0   \n",
       "BILL_AMT5                   30000.0   40311.400967   60797.155770  -81334.0   \n",
       "BILL_AMT6                   30000.0   38871.760400   59554.107537 -339603.0   \n",
       "PAY_AMT1                    30000.0    5663.580500   16563.280354       0.0   \n",
       "PAY_AMT2                    30000.0    5921.163500   23040.870402       0.0   \n",
       "PAY_AMT3                    30000.0    5225.681500   17606.961470       0.0   \n",
       "PAY_AMT4                    30000.0    4826.076867   15666.159744       0.0   \n",
       "PAY_AMT5                    30000.0    4799.387633   15278.305679       0.0   \n",
       "PAY_AMT6                    30000.0    5215.502567   17777.465775       0.0   \n",
       "default.payment.next.month  30000.0       0.221200       0.415062       0.0   \n",
       "\n",
       "                                 25%       50%        75%        max  \n",
       "ID                           7500.75   15000.5   22500.25    30000.0  \n",
       "LIMIT_BAL                   50000.00  140000.0  240000.00  1000000.0  \n",
       "SEX                             1.00       2.0       2.00        2.0  \n",
       "EDUCATION                       1.00       2.0       2.00        6.0  \n",
       "MARRIAGE                        1.00       2.0       2.00        3.0  \n",
       "AGE                            28.00      34.0      41.00       79.0  \n",
       "PAY_0                          -1.00       0.0       0.00        8.0  \n",
       "PAY_2                          -1.00       0.0       0.00        8.0  \n",
       "PAY_3                          -1.00       0.0       0.00        8.0  \n",
       "PAY_4                          -1.00       0.0       0.00        8.0  \n",
       "PAY_5                          -1.00       0.0       0.00        8.0  \n",
       "PAY_6                          -1.00       0.0       0.00        8.0  \n",
       "BILL_AMT1                    3558.75   22381.5   67091.00   964511.0  \n",
       "BILL_AMT2                    2984.75   21200.0   64006.25   983931.0  \n",
       "BILL_AMT3                    2666.25   20088.5   60164.75  1664089.0  \n",
       "BILL_AMT4                    2326.75   19052.0   54506.00   891586.0  \n",
       "BILL_AMT5                    1763.00   18104.5   50190.50   927171.0  \n",
       "BILL_AMT6                    1256.00   17071.0   49198.25   961664.0  \n",
       "PAY_AMT1                     1000.00    2100.0    5006.00   873552.0  \n",
       "PAY_AMT2                      833.00    2009.0    5000.00  1684259.0  \n",
       "PAY_AMT3                      390.00    1800.0    4505.00   896040.0  \n",
       "PAY_AMT4                      296.00    1500.0    4013.25   621000.0  \n",
       "PAY_AMT5                      252.50    1500.0    4031.50   426529.0  \n",
       "PAY_AMT6                      117.75    1500.0    4000.00   528666.0  \n",
       "default.payment.next.month      0.00       0.0       0.00        1.0  "
      ]
     },
     "execution_count": 9,
     "metadata": {},
     "output_type": "execute_result"
    }
   ],
   "source": [
    "df.describe().T"
   ]
  },
  {
   "cell_type": "code",
   "execution_count": 10,
   "id": "04399e5d",
   "metadata": {},
   "outputs": [],
   "source": [
    "DeleteList=['ID']\n",
    "\n",
    "# Novo dataframe \n",
    "dfc = df.drop(DeleteList, axis=1).copy()"
   ]
  },
  {
   "cell_type": "code",
   "execution_count": 11,
   "id": "debef6b9",
   "metadata": {},
   "outputs": [],
   "source": [
    "X = dfc.drop(['default.payment.next.month'], axis = 1)\n",
    "y = dfc['default.payment.next.month']"
   ]
  },
  {
   "cell_type": "code",
   "execution_count": 12,
   "id": "0afcbc5e",
   "metadata": {},
   "outputs": [],
   "source": [
    "random_seed = 42\n",
    "X_train, X_test, y_train, y_test = train_test_split(X, y, test_size=0.3, random_state=random_seed, stratify=y)"
   ]
  },
  {
   "cell_type": "code",
   "execution_count": 13,
   "id": "d814d3d7",
   "metadata": {},
   "outputs": [],
   "source": [
    "pipeline = Pipeline([('std_scalar', StandardScaler())])\n",
    "\n",
    "X_train = pipeline.fit_transform(X_train)\n",
    "X_test = pipeline.transform(X_test)\n"
   ]
  },
  {
   "cell_type": "code",
   "execution_count": 14,
   "id": "86ddee7a",
   "metadata": {},
   "outputs": [
    {
     "data": {
      "text/plain": [
       "array([[ 0.48165035, -1.23390539,  0.18000518, ..., -0.18605719,\n",
       "        -0.15304908, -0.22289945],\n",
       "       [-0.67429464,  0.8104349 , -1.07751601, ..., -0.31543421,\n",
       "        -0.31800394, -0.29655448],\n",
       "       [-0.52016864,  0.8104349 , -1.07751601, ..., -0.18929161,\n",
       "        -0.18597407,  0.72328433],\n",
       "       ...,\n",
       "       [-0.44310564,  0.8104349 ,  0.18000518, ..., -0.2456353 ,\n",
       "        -0.24100301, -0.18471215],\n",
       "       [ 2.17703634,  0.8104349 , -1.07751601, ..., -0.31543421,\n",
       "        -0.31800394, -0.29655448],\n",
       "       [-0.59723164, -1.23390539,  0.18000518, ..., -0.21193259,\n",
       "        -0.21903102, -0.18323905]])"
      ]
     },
     "execution_count": 14,
     "metadata": {},
     "output_type": "execute_result"
    }
   ],
   "source": [
    "X_test"
   ]
  },
  {
   "cell_type": "code",
   "execution_count": 15,
   "id": "c7e17813",
   "metadata": {},
   "outputs": [],
   "source": [
    "list_models = [\n",
    "{'model_name': 'KNN (k-nearest neighbor)',\n",
    " 'estimator' : KNeighborsClassifier()},\n",
    "{'model_name': 'Logistic Regression',\n",
    " 'estimator' : LogisticRegression(random_state=random_seed)},\n",
    "{'model_name': 'Decision Tree',\n",
    " 'estimator' : DecisionTreeClassifier(random_state=random_seed)},\n",
    "{'model_name': 'Random Forest',\n",
    " 'estimator' : RandomForestClassifier(random_state=random_seed)}, \n",
    "{'model_name': 'XGBoost',\n",
    " 'estimator' : XGBClassifier(random_state=random_seed)}\n",
    "]\n"
   ]
  },
  {
   "cell_type": "code",
   "execution_count": 22,
   "id": "44fa0e71",
   "metadata": {},
   "outputs": [
    {
     "name": "stdout",
     "output_type": "stream",
     "text": [
      "Model      : KNN (k-nearest neighbor)\n",
      "ROC - AUC  : 0.6366 \n",
      "Accuracy   : 0.7933 \n",
      "Precision  : 0.7712 \n",
      "Recall     : 0.7933 \n",
      "F1 - Score : 0.7760 \n",
      "MAE        : 0.2067 \n",
      "RMSE       : 0.4546 \n",
      "R2         : -0.1996 \n",
      "              precision    recall  f1-score   support\n",
      "\n",
      "           0       0.83      0.92      0.87      7009\n",
      "           1       0.55      0.36      0.43      1991\n",
      "\n",
      "    accuracy                           0.79      9000\n",
      "   macro avg       0.69      0.64      0.65      9000\n",
      "weighted avg       0.77      0.79      0.78      9000\n",
      "\n",
      "======================\n"
     ]
    },
    {
     "data": {
      "image/png": "[encoded data removed]",
      "text/plain": [
       "<Figure size 432x288 with 1 Axes>"
      ]
     },
     "metadata": {
      "needs_background": "light"
     },
     "output_type": "display_data"
    },
    {
     "name": "stdout",
     "output_type": "stream",
     "text": [
      "Model      : Logistic Regression\n",
      "ROC - AUC  : 0.6035 \n",
      "Accuracy   : 0.8083 \n",
      "Precision  : 0.7908 \n",
      "Recall     : 0.8083 \n",
      "F1 - Score : 0.7692 \n",
      "MAE        : 0.1917 \n",
      "RMSE       : 0.4378 \n",
      "R2         : -0.1125 \n",
      "              precision    recall  f1-score   support\n",
      "\n",
      "           0       0.82      0.97      0.89      7009\n",
      "           1       0.70      0.24      0.35      1991\n",
      "\n",
      "    accuracy                           0.81      9000\n",
      "   macro avg       0.76      0.60      0.62      9000\n",
      "weighted avg       0.79      0.81      0.77      9000\n",
      "\n",
      "======================\n"
     ]
    },
    {
     "data": {
      "image/png": "[encoded data removed]",
      "text/plain": [
       "<Figure size 432x288 with 1 Axes>"
      ]
     },
     "metadata": {
      "needs_background": "light"
     },
     "output_type": "display_data"
    },
    {
     "name": "stdout",
     "output_type": "stream",
     "text": [
      "Model      : Decision Tree\n",
      "ROC - AUC  : 0.6090 \n",
      "Accuracy   : 0.7237 \n",
      "Precision  : 0.7292 \n",
      "Recall     : 0.7237 \n",
      "F1 - Score : 0.7263 \n",
      "MAE        : 0.2763 \n",
      "RMSE       : 0.5257 \n",
      "R2         : -0.6040 \n",
      "              precision    recall  f1-score   support\n",
      "\n",
      "           0       0.83      0.81      0.82      7009\n",
      "           1       0.38      0.40      0.39      1991\n",
      "\n",
      "    accuracy                           0.72      9000\n",
      "   macro avg       0.60      0.61      0.61      9000\n",
      "weighted avg       0.73      0.72      0.73      9000\n",
      "\n",
      "======================\n"
     ]
    },
    {
     "data": {
      "image/png": "[encoded data removed]",
      "text/plain": [
       "<Figure size 432x288 with 1 Axes>"
      ]
     },
     "metadata": {
      "needs_background": "light"
     },
     "output_type": "display_data"
    },
    {
     "name": "stdout",
     "output_type": "stream",
     "text": [
      "Model      : Random Forest\n",
      "ROC - AUC  : 0.6518 \n",
      "Accuracy   : 0.8122 \n",
      "Precision  : 0.7928 \n",
      "Recall     : 0.8122 \n",
      "F1 - Score : 0.7924 \n",
      "MAE        : 0.1878 \n",
      "RMSE       : 0.4333 \n",
      "R2         : -0.0899 \n",
      "              precision    recall  f1-score   support\n",
      "\n",
      "           0       0.84      0.94      0.89      7009\n",
      "           1       0.63      0.36      0.46      1991\n",
      "\n",
      "    accuracy                           0.81      9000\n",
      "   macro avg       0.73      0.65      0.67      9000\n",
      "weighted avg       0.79      0.81      0.79      9000\n",
      "\n",
      "======================\n"
     ]
    },
    {
     "data": {
      "image/png": "[encoded data removed]",
      "text/plain": [
       "<Figure size 432x288 with 1 Axes>"
      ]
     },
     "metadata": {
      "needs_background": "light"
     },
     "output_type": "display_data"
    },
    {
     "name": "stdout",
     "output_type": "stream",
     "text": [
      "[20:46:02] WARNING: ..\\src\\learner.cc:1061: Starting in XGBoost 1.3.0, the default evaluation metric used with the objective 'binary:logistic' was changed from 'error' to 'logloss'. Explicitly set eval_metric if you'd like to restore the old behavior.\n",
      "Model      : XGBoost\n",
      "ROC - AUC  : 0.6475 \n",
      "Accuracy   : 0.8114 \n",
      "Precision  : 0.7915 \n",
      "Recall     : 0.8114 \n",
      "F1 - Score : 0.7904 \n",
      "MAE        : 0.1886 \n",
      "RMSE       : 0.4342 \n",
      "R2         : -0.0945 \n",
      "              precision    recall  f1-score   support\n",
      "\n",
      "           0       0.84      0.94      0.89      7009\n",
      "           1       0.63      0.35      0.45      1991\n",
      "\n",
      "    accuracy                           0.81      9000\n",
      "   macro avg       0.73      0.65      0.67      9000\n",
      "weighted avg       0.79      0.81      0.79      9000\n",
      "\n",
      "======================\n"
     ]
    },
    {
     "data": {
      "image/png": "[encoded data removed]",
      "text/plain": [
       "<Figure size 432x288 with 1 Axes>"
      ]
     },
     "metadata": {
      "needs_background": "light"
     },
     "output_type": "display_data"
    }
   ],
   "source": [
    "# Matriz de confusão\n",
    "\n",
    "test_models_plot_confusion_matrix(list_models,\n",
    "                              \"model_name\",\n",
    "                              \"estimator\",\n",
    "                              X_train,\n",
    "                              X_test,\n",
    "                              y_train,\n",
    "                              y_test)\n"
   ]
  },
  {
   "cell_type": "markdown",
   "id": "a55a8a12",
   "metadata": {},
   "source": [
    "## "
   ]
  },
  {
   "cell_type": "markdown",
   "id": "c2ae0cdb",
   "metadata": {},
   "source": [
    "__B)__ Teste as técnicas para balanceamento de dados e avalie se teve um desempenho melhor, e caso positivo qual a melhor técnica a se aplicar."
   ]
  },
  {
   "cell_type": "code",
   "execution_count": 43,
   "id": "8d9a8eb4",
   "metadata": {},
   "outputs": [],
   "source": [
    "model = RandomForestClassifier(random_state=random_seed)"
   ]
  },
  {
   "cell_type": "markdown",
   "id": "b4c7b1fd",
   "metadata": {},
   "source": [
    "Utilizando o __Oversampling__:"
   ]
  },
  {
   "cell_type": "code",
   "execution_count": 44,
   "id": "24a88d5a",
   "metadata": {},
   "outputs": [
    {
     "data": {
      "text/plain": [
       "RandomForestClassifier(random_state=42)"
      ]
     },
     "execution_count": 44,
     "metadata": {},
     "output_type": "execute_result"
    }
   ],
   "source": [
    "# tecnicas de balanceamento\n",
    "# Instacia o oversample na classe minoritaria para equilibrar as classes\n",
    "\n",
    "oversample = RandomOverSampler(sampling_strategy='minority')\n",
    "\n",
    "# só na base de treino\n",
    "X_train_ov, y_train_ov = oversample.fit_resample(X_train, y_train)\n",
    "\n",
    "# fit com base de oversample\n",
    "model.fit(X_train_ov, y_train_ov)\n"
   ]
  },
  {
   "cell_type": "code",
   "execution_count": 45,
   "id": "3e2a5999",
   "metadata": {},
   "outputs": [
    {
     "data": {
      "text/plain": [
       "0    16355\n",
       "1     4645\n",
       "Name: default.payment.next.month, dtype: int64"
      ]
     },
     "execution_count": 45,
     "metadata": {},
     "output_type": "execute_result"
    }
   ],
   "source": [
    "y_train.value_counts()"
   ]
  },
  {
   "cell_type": "code",
   "execution_count": 46,
   "id": "7ba0d82e",
   "metadata": {},
   "outputs": [
    {
     "data": {
      "text/plain": [
       "0    16355\n",
       "1    16355\n",
       "Name: default.payment.next.month, dtype: int64"
      ]
     },
     "execution_count": 46,
     "metadata": {},
     "output_type": "execute_result"
    }
   ],
   "source": [
    "y_train_ov.value_counts()"
   ]
  },
  {
   "cell_type": "code",
   "execution_count": 47,
   "id": "eacccf8b",
   "metadata": {},
   "outputs": [],
   "source": [
    "y_pred_ov = model.predict(X_test)"
   ]
  },
  {
   "cell_type": "code",
   "execution_count": 57,
   "id": "098d26ec",
   "metadata": {},
   "outputs": [],
   "source": [
    "acc_over = accuracy_score(y_test, y_pred_ov)\n",
    "f1_over = f1_score(y_test, y_pred_ov, average='weighted')"
   ]
  },
  {
   "cell_type": "markdown",
   "id": "8cb8ecc9",
   "metadata": {},
   "source": [
    "Utilizando o __Undersampling__:"
   ]
  },
  {
   "cell_type": "code",
   "execution_count": 58,
   "id": "50af22b9",
   "metadata": {},
   "outputs": [
    {
     "data": {
      "text/plain": [
       "RandomForestClassifier(random_state=42)"
      ]
     },
     "execution_count": 58,
     "metadata": {},
     "output_type": "execute_result"
    }
   ],
   "source": [
    "# replica dados\n",
    "\n",
    "undersample = RandomUnderSampler(sampling_strategy='majority')\n",
    "\n",
    "X_train_un, y_train_un = undersample.fit_resample(X_train, y_train)\n",
    "\n",
    "model.fit(X_train_un, y_train_un)"
   ]
  },
  {
   "cell_type": "code",
   "execution_count": 59,
   "id": "852d93e2",
   "metadata": {},
   "outputs": [
    {
     "data": {
      "text/plain": [
       "0    16355\n",
       "1     4645\n",
       "Name: default.payment.next.month, dtype: int64"
      ]
     },
     "execution_count": 59,
     "metadata": {},
     "output_type": "execute_result"
    }
   ],
   "source": [
    "y_train.value_counts()"
   ]
  },
  {
   "cell_type": "code",
   "execution_count": 60,
   "id": "1149c51d",
   "metadata": {},
   "outputs": [
    {
     "data": {
      "text/plain": [
       "0    4645\n",
       "1    4645\n",
       "Name: default.payment.next.month, dtype: int64"
      ]
     },
     "execution_count": 60,
     "metadata": {},
     "output_type": "execute_result"
    }
   ],
   "source": [
    "y_train_un.value_counts()"
   ]
  },
  {
   "cell_type": "code",
   "execution_count": 61,
   "id": "0e95ea8a",
   "metadata": {},
   "outputs": [],
   "source": [
    "y_pred_un = model.predict(X_test)"
   ]
  },
  {
   "cell_type": "code",
   "execution_count": 63,
   "id": "1f57eacd",
   "metadata": {},
   "outputs": [],
   "source": [
    "acc_under = accuracy_score(y_test, y_pred_un)\n",
    "f1_under = f1_score(y_test, y_pred_un, average='weighted')"
   ]
  },
  {
   "cell_type": "markdown",
   "id": "14d51b2c",
   "metadata": {},
   "source": [
    "Utilizando o __SMOTE__:"
   ]
  },
  {
   "cell_type": "code",
   "execution_count": 64,
   "id": "5a2f2e6b",
   "metadata": {},
   "outputs": [
    {
     "data": {
      "text/plain": [
       "RandomForestClassifier(random_state=42)"
      ]
     },
     "execution_count": 64,
     "metadata": {},
     "output_type": "execute_result"
    }
   ],
   "source": [
    "# cria dados artificiais\n",
    "smote = SMOTE()\n",
    "\n",
    "X_train_sm, y_train_sm = smote.fit_resample(X_train, y_train)\n",
    "\n",
    "model.fit(X_train_sm, y_train_sm)"
   ]
  },
  {
   "cell_type": "code",
   "execution_count": 65,
   "id": "5f52f03d",
   "metadata": {},
   "outputs": [
    {
     "data": {
      "text/plain": [
       "0    16355\n",
       "1     4645\n",
       "Name: default.payment.next.month, dtype: int64"
      ]
     },
     "execution_count": 65,
     "metadata": {},
     "output_type": "execute_result"
    }
   ],
   "source": [
    "y_train.value_counts()"
   ]
  },
  {
   "cell_type": "code",
   "execution_count": 66,
   "id": "753c6c11",
   "metadata": {},
   "outputs": [
    {
     "data": {
      "text/plain": [
       "0    16355\n",
       "1    16355\n",
       "Name: default.payment.next.month, dtype: int64"
      ]
     },
     "execution_count": 66,
     "metadata": {},
     "output_type": "execute_result"
    }
   ],
   "source": [
    "y_train_sm.value_counts()"
   ]
  },
  {
   "cell_type": "code",
   "execution_count": 67,
   "id": "84fdab9e",
   "metadata": {},
   "outputs": [],
   "source": [
    "y_pred_sm = model.predict(X_test)"
   ]
  },
  {
   "cell_type": "code",
   "execution_count": 68,
   "id": "8a625554",
   "metadata": {},
   "outputs": [],
   "source": [
    "acc_smote = accuracy_score(y_test, y_pred_sm)\n",
    "f1_smote = f1_score(y_test, y_pred_sm, average='weighted')"
   ]
  },
  {
   "cell_type": "code",
   "execution_count": 70,
   "id": "14eeef41",
   "metadata": {},
   "outputs": [
    {
     "name": "stdout",
     "output_type": "stream",
     "text": [
      "Comparação das Acurácias: \n",
      "Acurácia com Oversampling:   0.808\n",
      "Acurácia com Undersampling:  0.737\n",
      "Acurácia com SMOTE:          0.796\n",
      "f1-score com Oversampling:   0.796\n",
      "f1-score com Undersampling:  0.752\n",
      "f1-score com SMOTE:          0.789\n"
     ]
    }
   ],
   "source": [
    "print(\"Comparação das Acurácias: \")\n",
    "print('Acurácia com Oversampling:  ', np.round(acc_over, 3))\n",
    "print('Acurácia com Undersampling: ', np.round(acc_under, 3))\n",
    "print('Acurácia com SMOTE:         ', np.round(acc_smote, 3))\n",
    "\n",
    "print('f1-score com Oversampling:  ', np.round(f1_over, 3))\n",
    "print('f1-score com Undersampling: ', np.round(f1_under, 3))\n",
    "print('f1-score com SMOTE:         ', np.round(f1_smote, 3))"
   ]
  },
  {
   "cell_type": "code",
   "execution_count": 42,
   "id": "05bec73f",
   "metadata": {},
   "outputs": [
    {
     "name": "stdout",
     "output_type": "stream",
     "text": [
      "\n",
      "Oversampling\n",
      "              precision    recall  f1-score   support\n",
      "\n",
      "           0       0.85      0.92      0.88      7009\n",
      "           1       0.59      0.42      0.49      1991\n",
      "\n",
      "    accuracy                           0.81      9000\n",
      "   macro avg       0.72      0.67      0.69      9000\n",
      "weighted avg       0.79      0.81      0.80      9000\n",
      "\n",
      "\n",
      "Undersampling\n",
      "              precision    recall  f1-score   support\n",
      "\n",
      "           0       0.88      0.77      0.82      7009\n",
      "           1       0.43      0.63      0.51      1991\n",
      "\n",
      "    accuracy                           0.74      9000\n",
      "   macro avg       0.66      0.70      0.67      9000\n",
      "weighted avg       0.78      0.74      0.75      9000\n",
      "\n",
      "\n",
      "SMOTE\n",
      "              precision    recall  f1-score   support\n",
      "\n",
      "           0       0.85      0.89      0.87      7009\n",
      "           1       0.54      0.46      0.50      1991\n",
      "\n",
      "    accuracy                           0.79      9000\n",
      "   macro avg       0.70      0.67      0.68      9000\n",
      "weighted avg       0.78      0.79      0.79      9000\n",
      "\n"
     ]
    }
   ],
   "source": [
    "print('\\nOversampling')\n",
    "print(classification_report(y_test, y_pred_ov))\n",
    "print('\\nUndersampling')\n",
    "print(classification_report(y_test, y_pred_un))\n",
    "print('\\nSMOTE')\n",
    "print(classification_report(y_test, y_pred_sm))\n",
    "\n",
    "#f1-score é a media harmonica da precision"
   ]
  },
  {
   "cell_type": "code",
   "execution_count": null,
   "id": "49efb0c2",
   "metadata": {},
   "outputs": [],
   "source": []
  },
  {
   "cell_type": "code",
   "execution_count": null,
   "id": "a58df3e4",
   "metadata": {},
   "outputs": [],
   "source": []
  },
  {
   "cell_type": "code",
   "execution_count": null,
   "id": "787a47dd",
   "metadata": {},
   "outputs": [],
   "source": []
  },
  {
   "cell_type": "markdown",
   "id": "3a52784b",
   "metadata": {},
   "source": [
    "## "
   ]
  },
  {
   "cell_type": "markdown",
   "id": "56033d36",
   "metadata": {},
   "source": [
    "__2)__ Vamos trabalhar com o dataset `sports.csv`, para predizer de um determinado atleta têm mais que 5 anos de carreira ou não (está é justamente a marcação de _target_ na base). Para o desenvolvimento dos exercícios siga os itens abaixo:"
   ]
  },
  {
   "cell_type": "markdown",
   "id": "c256f1c3",
   "metadata": {},
   "source": [
    "__A)__ Prepare os dados para fazer a modelagem. Teste os modelos : _KNN_, _Logistic Regression_, _Decision Tree_, _Random Forest_ e _XGBoost_. Em seguida mostre o _classification_report_ e a matriz de confusão para o melhor modelo.\n",
    "\n",
    "__Obs.:__ Neste exercício faça o _train_test_split_ utilizando o __stratify__"
   ]
  },
  {
   "cell_type": "code",
   "execution_count": 80,
   "id": "76e58a64",
   "metadata": {},
   "outputs": [],
   "source": [
    "sport = pd.read_csv('../datasets/sports.csv', sep=',')"
   ]
  },
  {
   "cell_type": "code",
   "execution_count": 81,
   "id": "be5a77cb",
   "metadata": {},
   "outputs": [
    {
     "name": "stdout",
     "output_type": "stream",
     "text": [
      "<class 'pandas.core.frame.DataFrame'>\n",
      "RangeIndex: 1340 entries, 0 to 1339\n",
      "Data columns (total 21 columns):\n",
      " #   Column             Non-Null Count  Dtype  \n",
      "---  ------             --------------  -----  \n",
      " 0   Name               1340 non-null   object \n",
      " 1   GamesPlayed        1340 non-null   int64  \n",
      " 2   MinutesPlayed      1340 non-null   float64\n",
      " 3   PointsPerGame      1340 non-null   float64\n",
      " 4   FieldGoalsMade     1340 non-null   float64\n",
      " 5   FieldGoalsAttempt  1340 non-null   float64\n",
      " 6   FieldGoalPercent   1340 non-null   float64\n",
      " 7   3PointMade         1340 non-null   float64\n",
      " 8   3PointAttempt      1340 non-null   float64\n",
      " 9   3PointPercent      1329 non-null   float64\n",
      " 10  FreeThrowMade      1340 non-null   float64\n",
      " 11  FreeThrowAttempt   1340 non-null   float64\n",
      " 12  FreeThrowPercent   1340 non-null   float64\n",
      " 13  OffensiveRebounds  1340 non-null   float64\n",
      " 14  DefensiveRebounds  1340 non-null   float64\n",
      " 15  Rebounds           1340 non-null   float64\n",
      " 16  Assists            1340 non-null   float64\n",
      " 17  Steals             1340 non-null   float64\n",
      " 18  Blocks             1340 non-null   float64\n",
      " 19  Turnovers          1340 non-null   float64\n",
      " 20  Target             1340 non-null   int64  \n",
      "dtypes: float64(18), int64(2), object(1)\n",
      "memory usage: 220.0+ KB\n"
     ]
    }
   ],
   "source": [
    "sport.info()"
   ]
  },
  {
   "cell_type": "code",
   "execution_count": 82,
   "id": "5e2fc710",
   "metadata": {},
   "outputs": [
    {
     "data": {
      "text/plain": [
       "Name                  0\n",
       "GamesPlayed           0\n",
       "MinutesPlayed         0\n",
       "PointsPerGame         0\n",
       "FieldGoalsMade        0\n",
       "FieldGoalsAttempt     0\n",
       "FieldGoalPercent      0\n",
       "3PointMade            0\n",
       "3PointAttempt         0\n",
       "3PointPercent        11\n",
       "FreeThrowMade         0\n",
       "FreeThrowAttempt      0\n",
       "FreeThrowPercent      0\n",
       "OffensiveRebounds     0\n",
       "DefensiveRebounds     0\n",
       "Rebounds              0\n",
       "Assists               0\n",
       "Steals                0\n",
       "Blocks                0\n",
       "Turnovers             0\n",
       "Target                0\n",
       "dtype: int64"
      ]
     },
     "execution_count": 82,
     "metadata": {},
     "output_type": "execute_result"
    }
   ],
   "source": [
    "sport.isna().sum()"
   ]
  },
  {
   "cell_type": "code",
   "execution_count": 83,
   "id": "a9ecb707",
   "metadata": {},
   "outputs": [
    {
     "data": {
      "text/html": [
       "<div>\n",
       "<style scoped>\n",
       "    .dataframe tbody tr th:only-of-type {\n",
       "        vertical-align: middle;\n",
       "    }\n",
       "\n",
       "    .dataframe tbody tr th {\n",
       "        vertical-align: top;\n",
       "    }\n",
       "\n",
       "    .dataframe thead th {\n",
       "        text-align: right;\n",
       "    }\n",
       "</style>\n",
       "<table border=\"1\" class=\"dataframe\">\n",
       "  <thead>\n",
       "    <tr style=\"text-align: right;\">\n",
       "      <th></th>\n",
       "      <th>Name</th>\n",
       "      <th>GamesPlayed</th>\n",
       "      <th>MinutesPlayed</th>\n",
       "      <th>PointsPerGame</th>\n",
       "      <th>FieldGoalsMade</th>\n",
       "      <th>FieldGoalsAttempt</th>\n",
       "      <th>FieldGoalPercent</th>\n",
       "      <th>3PointMade</th>\n",
       "      <th>3PointAttempt</th>\n",
       "      <th>3PointPercent</th>\n",
       "      <th>...</th>\n",
       "      <th>FreeThrowAttempt</th>\n",
       "      <th>FreeThrowPercent</th>\n",
       "      <th>OffensiveRebounds</th>\n",
       "      <th>DefensiveRebounds</th>\n",
       "      <th>Rebounds</th>\n",
       "      <th>Assists</th>\n",
       "      <th>Steals</th>\n",
       "      <th>Blocks</th>\n",
       "      <th>Turnovers</th>\n",
       "      <th>Target</th>\n",
       "    </tr>\n",
       "  </thead>\n",
       "  <tbody>\n",
       "    <tr>\n",
       "      <th>0</th>\n",
       "      <td>Brandon Ingram</td>\n",
       "      <td>36</td>\n",
       "      <td>27.4</td>\n",
       "      <td>7.4</td>\n",
       "      <td>2.6</td>\n",
       "      <td>7.6</td>\n",
       "      <td>34.7</td>\n",
       "      <td>0.5</td>\n",
       "      <td>2.1</td>\n",
       "      <td>25.0</td>\n",
       "      <td>...</td>\n",
       "      <td>2.3</td>\n",
       "      <td>69.9</td>\n",
       "      <td>0.7</td>\n",
       "      <td>3.4</td>\n",
       "      <td>4.1</td>\n",
       "      <td>1.9</td>\n",
       "      <td>0.4</td>\n",
       "      <td>0.4</td>\n",
       "      <td>1.3</td>\n",
       "      <td>0</td>\n",
       "    </tr>\n",
       "    <tr>\n",
       "      <th>1</th>\n",
       "      <td>Andrew Harrison</td>\n",
       "      <td>35</td>\n",
       "      <td>26.9</td>\n",
       "      <td>7.2</td>\n",
       "      <td>2.0</td>\n",
       "      <td>6.7</td>\n",
       "      <td>29.6</td>\n",
       "      <td>0.7</td>\n",
       "      <td>2.8</td>\n",
       "      <td>23.5</td>\n",
       "      <td>...</td>\n",
       "      <td>3.4</td>\n",
       "      <td>76.5</td>\n",
       "      <td>0.5</td>\n",
       "      <td>2.0</td>\n",
       "      <td>2.4</td>\n",
       "      <td>3.7</td>\n",
       "      <td>1.1</td>\n",
       "      <td>0.5</td>\n",
       "      <td>1.6</td>\n",
       "      <td>0</td>\n",
       "    </tr>\n",
       "    <tr>\n",
       "      <th>2</th>\n",
       "      <td>JaKarr Sampson</td>\n",
       "      <td>74</td>\n",
       "      <td>15.3</td>\n",
       "      <td>5.2</td>\n",
       "      <td>2.0</td>\n",
       "      <td>4.7</td>\n",
       "      <td>42.2</td>\n",
       "      <td>0.4</td>\n",
       "      <td>1.7</td>\n",
       "      <td>24.4</td>\n",
       "      <td>...</td>\n",
       "      <td>1.3</td>\n",
       "      <td>67.0</td>\n",
       "      <td>0.5</td>\n",
       "      <td>1.7</td>\n",
       "      <td>2.2</td>\n",
       "      <td>1.0</td>\n",
       "      <td>0.5</td>\n",
       "      <td>0.3</td>\n",
       "      <td>1.0</td>\n",
       "      <td>0</td>\n",
       "    </tr>\n",
       "    <tr>\n",
       "      <th>3</th>\n",
       "      <td>Malik Sealy</td>\n",
       "      <td>58</td>\n",
       "      <td>11.6</td>\n",
       "      <td>5.7</td>\n",
       "      <td>2.3</td>\n",
       "      <td>5.5</td>\n",
       "      <td>42.6</td>\n",
       "      <td>0.1</td>\n",
       "      <td>0.5</td>\n",
       "      <td>22.6</td>\n",
       "      <td>...</td>\n",
       "      <td>1.3</td>\n",
       "      <td>68.9</td>\n",
       "      <td>1.0</td>\n",
       "      <td>0.9</td>\n",
       "      <td>1.9</td>\n",
       "      <td>0.8</td>\n",
       "      <td>0.6</td>\n",
       "      <td>0.1</td>\n",
       "      <td>1.0</td>\n",
       "      <td>1</td>\n",
       "    </tr>\n",
       "    <tr>\n",
       "      <th>4</th>\n",
       "      <td>Matt Geiger</td>\n",
       "      <td>48</td>\n",
       "      <td>11.5</td>\n",
       "      <td>4.5</td>\n",
       "      <td>1.6</td>\n",
       "      <td>3.0</td>\n",
       "      <td>52.4</td>\n",
       "      <td>0.0</td>\n",
       "      <td>0.1</td>\n",
       "      <td>0.0</td>\n",
       "      <td>...</td>\n",
       "      <td>1.9</td>\n",
       "      <td>67.4</td>\n",
       "      <td>1.0</td>\n",
       "      <td>1.5</td>\n",
       "      <td>2.5</td>\n",
       "      <td>0.3</td>\n",
       "      <td>0.3</td>\n",
       "      <td>0.4</td>\n",
       "      <td>0.8</td>\n",
       "      <td>1</td>\n",
       "    </tr>\n",
       "  </tbody>\n",
       "</table>\n",
       "<p>5 rows × 21 columns</p>\n",
       "</div>"
      ],
      "text/plain": [
       "              Name  GamesPlayed  MinutesPlayed  PointsPerGame  FieldGoalsMade  \\\n",
       "0   Brandon Ingram           36           27.4            7.4             2.6   \n",
       "1  Andrew Harrison           35           26.9            7.2             2.0   \n",
       "2   JaKarr Sampson           74           15.3            5.2             2.0   \n",
       "3      Malik Sealy           58           11.6            5.7             2.3   \n",
       "4      Matt Geiger           48           11.5            4.5             1.6   \n",
       "\n",
       "   FieldGoalsAttempt  FieldGoalPercent  3PointMade  3PointAttempt  \\\n",
       "0                7.6              34.7         0.5            2.1   \n",
       "1                6.7              29.6         0.7            2.8   \n",
       "2                4.7              42.2         0.4            1.7   \n",
       "3                5.5              42.6         0.1            0.5   \n",
       "4                3.0              52.4         0.0            0.1   \n",
       "\n",
       "   3PointPercent  ...  FreeThrowAttempt  FreeThrowPercent  OffensiveRebounds  \\\n",
       "0           25.0  ...               2.3              69.9                0.7   \n",
       "1           23.5  ...               3.4              76.5                0.5   \n",
       "2           24.4  ...               1.3              67.0                0.5   \n",
       "3           22.6  ...               1.3              68.9                1.0   \n",
       "4            0.0  ...               1.9              67.4                1.0   \n",
       "\n",
       "   DefensiveRebounds  Rebounds  Assists  Steals  Blocks  Turnovers  Target  \n",
       "0                3.4       4.1      1.9     0.4     0.4        1.3       0  \n",
       "1                2.0       2.4      3.7     1.1     0.5        1.6       0  \n",
       "2                1.7       2.2      1.0     0.5     0.3        1.0       0  \n",
       "3                0.9       1.9      0.8     0.6     0.1        1.0       1  \n",
       "4                1.5       2.5      0.3     0.3     0.4        0.8       1  \n",
       "\n",
       "[5 rows x 21 columns]"
      ]
     },
     "execution_count": 83,
     "metadata": {},
     "output_type": "execute_result"
    }
   ],
   "source": [
    "sport.head()"
   ]
  },
  {
   "cell_type": "code",
   "execution_count": 84,
   "id": "37db414d",
   "metadata": {},
   "outputs": [],
   "source": [
    "sport.dropna(inplace=True)"
   ]
  },
  {
   "cell_type": "code",
   "execution_count": 76,
   "id": "b42e79aa",
   "metadata": {},
   "outputs": [],
   "source": [
    "X = sport.drop(['Name','Target'], axis = 1)\n",
    "y = sport['Target']"
   ]
  },
  {
   "cell_type": "code",
   "execution_count": 77,
   "id": "fb0cea1e",
   "metadata": {},
   "outputs": [],
   "source": [
    "random_seed = 42\n",
    "X_train, X_test, y_train, y_test = train_test_split(X, y, test_size=0.3, random_state=random_seed, stratify=y)"
   ]
  },
  {
   "cell_type": "code",
   "execution_count": 78,
   "id": "539063b1",
   "metadata": {},
   "outputs": [],
   "source": [
    "pipeline = Pipeline([('std_scalar', StandardScaler())])\n",
    "\n",
    "X_train = pipeline.fit_transform(X_train)\n",
    "X_test = pipeline.transform(X_test)\n"
   ]
  },
  {
   "cell_type": "code",
   "execution_count": 79,
   "id": "ce64562d",
   "metadata": {},
   "outputs": [
    {
     "name": "stdout",
     "output_type": "stream",
     "text": [
      "Model      : KNN (k-nearest neighbor)\n",
      "ROC - AUC  : 0.6195 \n",
      "Accuracy   : 0.6541 \n",
      "Precision  : 0.6463 \n",
      "Recall     : 0.6541 \n",
      "F1 - Score : 0.6486 \n",
      "MAE        : 0.3459 \n",
      "RMSE       : 0.5881 \n",
      "R2         : -0.4704 \n",
      "              precision    recall  f1-score   support\n",
      "\n",
      "           0       0.55      0.48      0.51       151\n",
      "           1       0.71      0.76      0.73       248\n",
      "\n",
      "    accuracy                           0.65       399\n",
      "   macro avg       0.63      0.62      0.62       399\n",
      "weighted avg       0.65      0.65      0.65       399\n",
      "\n",
      "======================\n"
     ]
    },
    {
     "data": {
      "image/png": "[encoded data removed]",
      "text/plain": [
       "<Figure size 432x288 with 1 Axes>"
      ]
     },
     "metadata": {
      "needs_background": "light"
     },
     "output_type": "display_data"
    },
    {
     "name": "stdout",
     "output_type": "stream",
     "text": [
      "Model      : Logistic Regression\n",
      "ROC - AUC  : 0.6801 \n",
      "Accuracy   : 0.7118 \n",
      "Precision  : 0.7061 \n",
      "Recall     : 0.7118 \n",
      "F1 - Score : 0.7069 \n",
      "MAE        : 0.2882 \n",
      "RMSE       : 0.5369 \n",
      "R2         : -0.2253 \n",
      "              precision    recall  f1-score   support\n",
      "\n",
      "           0       0.64      0.55      0.59       151\n",
      "           1       0.75      0.81      0.78       248\n",
      "\n",
      "    accuracy                           0.71       399\n",
      "   macro avg       0.69      0.68      0.68       399\n",
      "weighted avg       0.71      0.71      0.71       399\n",
      "\n",
      "======================\n"
     ]
    },
    {
     "data": {
      "image/png": "[encoded data removed]",
      "text/plain": [
       "<Figure size 432x288 with 1 Axes>"
      ]
     },
     "metadata": {
      "needs_background": "light"
     },
     "output_type": "display_data"
    },
    {
     "name": "stdout",
     "output_type": "stream",
     "text": [
      "Model      : Decision Tree\n",
      "ROC - AUC  : 0.5824 \n",
      "Accuracy   : 0.6065 \n",
      "Precision  : 0.6070 \n",
      "Recall     : 0.6065 \n",
      "F1 - Score : 0.6068 \n",
      "MAE        : 0.3935 \n",
      "RMSE       : 0.6273 \n",
      "R2         : -0.6728 \n",
      "              precision    recall  f1-score   support\n",
      "\n",
      "           0       0.48      0.48      0.48       151\n",
      "           1       0.68      0.68      0.68       248\n",
      "\n",
      "    accuracy                           0.61       399\n",
      "   macro avg       0.58      0.58      0.58       399\n",
      "weighted avg       0.61      0.61      0.61       399\n",
      "\n",
      "======================\n"
     ]
    },
    {
     "data": {
      "image/png": "[encoded data removed]",
      "text/plain": [
       "<Figure size 432x288 with 1 Axes>"
      ]
     },
     "metadata": {
      "needs_background": "light"
     },
     "output_type": "display_data"
    },
    {
     "name": "stdout",
     "output_type": "stream",
     "text": [
      "Model      : Random Forest\n",
      "ROC - AUC  : 0.6719 \n",
      "Accuracy   : 0.6967 \n",
      "Precision  : 0.6936 \n",
      "Recall     : 0.6967 \n",
      "F1 - Score : 0.6948 \n",
      "MAE        : 0.3033 \n",
      "RMSE       : 0.5507 \n",
      "R2         : -0.2892 \n",
      "              precision    recall  f1-score   support\n",
      "\n",
      "           0       0.61      0.57      0.59       151\n",
      "           1       0.75      0.77      0.76       248\n",
      "\n",
      "    accuracy                           0.70       399\n",
      "   macro avg       0.68      0.67      0.67       399\n",
      "weighted avg       0.69      0.70      0.69       399\n",
      "\n",
      "======================\n"
     ]
    },
    {
     "data": {
      "image/png": "[encoded data removed]",
      "text/plain": [
       "<Figure size 432x288 with 1 Axes>"
      ]
     },
     "metadata": {
      "needs_background": "light"
     },
     "output_type": "display_data"
    },
    {
     "name": "stdout",
     "output_type": "stream",
     "text": [
      "[20:55:54] WARNING: ..\\src\\learner.cc:1061: Starting in XGBoost 1.3.0, the default evaluation metric used with the objective 'binary:logistic' was changed from 'error' to 'logloss'. Explicitly set eval_metric if you'd like to restore the old behavior.\n",
      "Model      : XGBoost\n",
      "ROC - AUC  : 0.6624 \n",
      "Accuracy   : 0.6817 \n",
      "Precision  : 0.6821 \n",
      "Recall     : 0.6817 \n",
      "F1 - Score : 0.6819 \n",
      "MAE        : 0.3183 \n",
      "RMSE       : 0.5642 \n",
      "R2         : -0.3532 \n",
      "              precision    recall  f1-score   support\n",
      "\n",
      "           0       0.58      0.58      0.58       151\n",
      "           1       0.74      0.74      0.74       248\n",
      "\n",
      "    accuracy                           0.68       399\n",
      "   macro avg       0.66      0.66      0.66       399\n",
      "weighted avg       0.68      0.68      0.68       399\n",
      "\n",
      "======================\n"
     ]
    },
    {
     "data": {
      "image/png": "[encoded data removed]",
      "text/plain": [
       "<Figure size 432x288 with 1 Axes>"
      ]
     },
     "metadata": {
      "needs_background": "light"
     },
     "output_type": "display_data"
    }
   ],
   "source": [
    "# Matriz de confusão\n",
    "\n",
    "test_models_plot_confusion_matrix(list_models,\n",
    "                              \"model_name\",\n",
    "                              \"estimator\",\n",
    "                              X_train,\n",
    "                              X_test,\n",
    "                              y_train,\n",
    "                              y_test)\n"
   ]
  },
  {
   "cell_type": "code",
   "execution_count": null,
   "id": "5dd12df3",
   "metadata": {},
   "outputs": [],
   "source": []
  },
  {
   "cell_type": "markdown",
   "id": "68bf5181",
   "metadata": {},
   "source": [
    "## "
   ]
  },
  {
   "cell_type": "markdown",
   "id": "7c3b58c6",
   "metadata": {},
   "source": [
    "__B)__ Utilizando o _RandomizedSearchCV_, teste os parâmetros definidos abaixo com 3 CV's:"
   ]
  },
  {
   "cell_type": "code",
   "execution_count": 91,
   "id": "d404e99a",
   "metadata": {},
   "outputs": [
    {
     "name": "stdout",
     "output_type": "stream",
     "text": [
      "{'max_depth': [10, 40, 70, 100, None],\n",
      " 'min_samples_leaf': [1, 2, 4],\n",
      " 'min_samples_split': [2, 5, 10],\n",
      " 'n_estimators': [200, 650, 1100, 1550, 2000]}\n"
     ]
    }
   ],
   "source": [
    "# Number of trees in random forest\n",
    "n_estimators = [int(x) for x in np.linspace(start = 200, stop = 2000, num = 5)]\n",
    "\n",
    "# Maximum number of levels in tree\n",
    "max_depth = [int(x) for x in np.linspace(10, 100, num = 4)]\n",
    "max_depth.append(None)\n",
    "\n",
    "# Minimum number of samples required to split a node\n",
    "min_samples_split = [2, 5, 10]\n",
    "\n",
    "# Minimum number of samples required at each leaf node\n",
    "min_samples_leaf = [1, 2, 4]\n",
    "\n",
    "# Create the random grid\n",
    "params_grid = {'n_estimators': n_estimators,\n",
    "               'max_depth': max_depth,\n",
    "               'min_samples_split': min_samples_split,\n",
    "               'min_samples_leaf': min_samples_leaf}\n",
    "\n",
    "pprint(params_grid)"
   ]
  },
  {
   "cell_type": "markdown",
   "id": "5bd22401",
   "metadata": {},
   "source": [
    "Fez diferença a otimização para o modelo?"
   ]
  },
  {
   "cell_type": "code",
   "execution_count": 92,
   "id": "cd20f628",
   "metadata": {},
   "outputs": [],
   "source": [
    "model = RandomForestClassifier(random_state=random_seed)"
   ]
  },
  {
   "cell_type": "code",
   "execution_count": 93,
   "id": "09930a4f",
   "metadata": {},
   "outputs": [],
   "source": [
    "random_search = RandomizedSearchCV(estimator = model, \n",
    "                                   param_distributions = params_grid, \n",
    "                                   n_iter = 100, \n",
    "                                   cv = 3, \n",
    "                                   verbose=2,\n",
    "                                   n_jobs = -1)"
   ]
  },
  {
   "cell_type": "code",
   "execution_count": 94,
   "id": "8d3e4cff",
   "metadata": {},
   "outputs": [
    {
     "name": "stdout",
     "output_type": "stream",
     "text": [
      "Fitting 3 folds for each of 100 candidates, totalling 300 fits\n",
      "Wall time: 2min 18s\n"
     ]
    },
    {
     "data": {
      "text/plain": [
       "RandomizedSearchCV(cv=3, estimator=RandomForestClassifier(random_state=42),\n",
       "                   n_iter=100, n_jobs=-1,\n",
       "                   param_distributions={'max_depth': [10, 40, 70, 100, None],\n",
       "                                        'min_samples_leaf': [1, 2, 4],\n",
       "                                        'min_samples_split': [2, 5, 10],\n",
       "                                        'n_estimators': [200, 650, 1100, 1550,\n",
       "                                                         2000]},\n",
       "                   verbose=2)"
      ]
     },
     "execution_count": 94,
     "metadata": {},
     "output_type": "execute_result"
    }
   ],
   "source": [
    "%%time\n",
    "\n",
    "random_search.fit(X_train, y_train)"
   ]
  },
  {
   "cell_type": "code",
   "execution_count": 95,
   "id": "975852e9",
   "metadata": {},
   "outputs": [
    {
     "name": "stdout",
     "output_type": "stream",
     "text": [
      "0.6666881720430108\n"
     ]
    }
   ],
   "source": [
    "print(random_search.cv_results_['mean_test_score'].mean())"
   ]
  },
  {
   "cell_type": "code",
   "execution_count": 96,
   "id": "61405837",
   "metadata": {},
   "outputs": [
    {
     "data": {
      "text/plain": [
       "{'n_estimators': 650,\n",
       " 'min_samples_split': 5,\n",
       " 'min_samples_leaf': 4,\n",
       " 'max_depth': 40}"
      ]
     },
     "execution_count": 96,
     "metadata": {},
     "output_type": "execute_result"
    }
   ],
   "source": [
    "random_search.best_params_"
   ]
  },
  {
   "cell_type": "code",
   "execution_count": 97,
   "id": "3ba1822b",
   "metadata": {},
   "outputs": [],
   "source": [
    "model_rs = RandomForestClassifier(max_depth = 40,\n",
    "                                  min_samples_leaf = 4,\n",
    "                                  min_samples_split = 5,\n",
    "                                  n_estimators = 650,\n",
    "                                  random_state = 42)"
   ]
  },
  {
   "cell_type": "code",
   "execution_count": 98,
   "id": "f454b13f",
   "metadata": {},
   "outputs": [
    {
     "data": {
      "text/plain": [
       "RandomForestClassifier(max_depth=40, min_samples_leaf=4, min_samples_split=5,\n",
       "                       n_estimators=650, random_state=42)"
      ]
     },
     "execution_count": 98,
     "metadata": {},
     "output_type": "execute_result"
    }
   ],
   "source": [
    "model_rs.fit(X_train, y_train)"
   ]
  },
  {
   "cell_type": "code",
   "execution_count": 99,
   "id": "7ce34411",
   "metadata": {},
   "outputs": [],
   "source": [
    "y_pred_rs = model_rs.predict(X_test)"
   ]
  },
  {
   "cell_type": "code",
   "execution_count": 100,
   "id": "2e32e472",
   "metadata": {},
   "outputs": [
    {
     "name": "stdout",
     "output_type": "stream",
     "text": [
      "0.7268170426065163\n"
     ]
    }
   ],
   "source": [
    "print(accuracy_score(y_test, y_pred_rs))"
   ]
  },
  {
   "cell_type": "code",
   "execution_count": 101,
   "id": "cb8394fa",
   "metadata": {},
   "outputs": [],
   "source": [
    "acc_random = accuracy_score(y_test, y_pred_rs)"
   ]
  },
  {
   "cell_type": "code",
   "execution_count": 104,
   "id": "29bc3dce",
   "metadata": {},
   "outputs": [
    {
     "name": "stdout",
     "output_type": "stream",
     "text": [
      "Comparação das Acurácias: \n",
      "Acurácia com RandomizedSearchCV:  0.727\n"
     ]
    }
   ],
   "source": [
    "print(\"Comparação das Acurácias: \")\n",
    "#print('Acurácia sem Otimização:         ', np.round(acc, 3))\n",
    "#print('Acurácia com GridSearchCV:       ', np.round(acc_grid, 3))\n",
    "print('Acurácia com RandomizedSearchCV: ', np.round(acc_random, 3))"
   ]
  },
  {
   "cell_type": "markdown",
   "id": "ab2e2f9d",
   "metadata": {},
   "source": [
    "## "
   ]
  },
  {
   "cell_type": "markdown",
   "id": "e579fa5c",
   "metadata": {},
   "source": [
    "__C)__ Repita o processo do item A, mas sem aplicar o __stratify__. Qual o modelo que teve a melhor performance?"
   ]
  },
  {
   "cell_type": "code",
   "execution_count": 85,
   "id": "cc111b2d",
   "metadata": {},
   "outputs": [],
   "source": [
    "sport = pd.read_csv('../datasets/sports.csv', sep=',')\n",
    "sport.dropna(inplace=True)\n",
    "X = sport.drop(['Name','Target'], axis = 1)\n",
    "y = sport['Target']\n",
    "\n",
    "random_seed = 42\n",
    "X_train, X_test, y_train, y_test = train_test_split(X, y, test_size=0.3, random_state=random_seed)"
   ]
  },
  {
   "cell_type": "code",
   "execution_count": 86,
   "id": "bf92c50c",
   "metadata": {},
   "outputs": [],
   "source": [
    "pipeline = Pipeline([('std_scalar', StandardScaler())])\n",
    "\n",
    "X_train = pipeline.fit_transform(X_train)\n",
    "X_test = pipeline.transform(X_test)\n"
   ]
  },
  {
   "cell_type": "code",
   "execution_count": 87,
   "id": "63f5ac2e",
   "metadata": {},
   "outputs": [
    {
     "name": "stdout",
     "output_type": "stream",
     "text": [
      "Model      : KNN (k-nearest neighbor)\n",
      "ROC - AUC  : 0.6489 \n",
      "Accuracy   : 0.6792 \n",
      "Precision  : 0.6765 \n",
      "Recall     : 0.6792 \n",
      "F1 - Score : 0.6777 \n",
      "MAE        : 0.3208 \n",
      "RMSE       : 0.5664 \n",
      "R2         : -0.3867 \n",
      "              precision    recall  f1-score   support\n",
      "\n",
      "           0       0.56      0.54      0.55       145\n",
      "           1       0.74      0.76      0.75       254\n",
      "\n",
      "    accuracy                           0.68       399\n",
      "   macro avg       0.65      0.65      0.65       399\n",
      "weighted avg       0.68      0.68      0.68       399\n",
      "\n",
      "======================\n"
     ]
    },
    {
     "data": {
      "image/png": "[encoded data removed]",
      "text/plain": [
       "<Figure size 432x288 with 1 Axes>"
      ]
     },
     "metadata": {
      "needs_background": "light"
     },
     "output_type": "display_data"
    },
    {
     "name": "stdout",
     "output_type": "stream",
     "text": [
      "Model      : Logistic Regression\n",
      "ROC - AUC  : 0.6868 \n",
      "Accuracy   : 0.7218 \n",
      "Precision  : 0.7162 \n",
      "Recall     : 0.7218 \n",
      "F1 - Score : 0.7176 \n",
      "MAE        : 0.2782 \n",
      "RMSE       : 0.5274 \n",
      "R2         : -0.2025 \n",
      "              precision    recall  f1-score   support\n",
      "\n",
      "           0       0.63      0.56      0.59       145\n",
      "           1       0.76      0.81      0.79       254\n",
      "\n",
      "    accuracy                           0.72       399\n",
      "   macro avg       0.70      0.69      0.69       399\n",
      "weighted avg       0.72      0.72      0.72       399\n",
      "\n",
      "======================\n"
     ]
    },
    {
     "data": {
      "image/png": "[encoded data removed]",
      "text/plain": [
       "<Figure size 432x288 with 1 Axes>"
      ]
     },
     "metadata": {
      "needs_background": "light"
     },
     "output_type": "display_data"
    },
    {
     "name": "stdout",
     "output_type": "stream",
     "text": [
      "Model      : Decision Tree\n",
      "ROC - AUC  : 0.6140 \n",
      "Accuracy   : 0.6291 \n",
      "Precision  : 0.6409 \n",
      "Recall     : 0.6291 \n",
      "F1 - Score : 0.6334 \n",
      "MAE        : 0.3709 \n",
      "RMSE       : 0.6090 \n",
      "R2         : -0.6034 \n",
      "              precision    recall  f1-score   support\n",
      "\n",
      "           0       0.49      0.56      0.52       145\n",
      "           1       0.73      0.67      0.70       254\n",
      "\n",
      "    accuracy                           0.63       399\n",
      "   macro avg       0.61      0.61      0.61       399\n",
      "weighted avg       0.64      0.63      0.63       399\n",
      "\n",
      "======================\n"
     ]
    },
    {
     "data": {
      "image/png": "[encoded data removed]",
      "text/plain": [
       "<Figure size 432x288 with 1 Axes>"
      ]
     },
     "metadata": {
      "needs_background": "light"
     },
     "output_type": "display_data"
    },
    {
     "name": "stdout",
     "output_type": "stream",
     "text": [
      "Model      : Random Forest\n",
      "ROC - AUC  : 0.6838 \n",
      "Accuracy   : 0.7143 \n",
      "Precision  : 0.7105 \n",
      "Recall     : 0.7143 \n",
      "F1 - Score : 0.7119 \n",
      "MAE        : 0.2857 \n",
      "RMSE       : 0.5345 \n",
      "R2         : -0.2350 \n",
      "              precision    recall  f1-score   support\n",
      "\n",
      "           0       0.61      0.57      0.59       145\n",
      "           1       0.77      0.80      0.78       254\n",
      "\n",
      "    accuracy                           0.71       399\n",
      "   macro avg       0.69      0.68      0.69       399\n",
      "weighted avg       0.71      0.71      0.71       399\n",
      "\n",
      "======================\n"
     ]
    },
    {
     "data": {
      "image/png": "[encoded data removed]",
      "text/plain": [
       "<Figure size 432x288 with 1 Axes>"
      ]
     },
     "metadata": {
      "needs_background": "light"
     },
     "output_type": "display_data"
    },
    {
     "name": "stdout",
     "output_type": "stream",
     "text": [
      "[20:58:37] WARNING: ..\\src\\learner.cc:1061: Starting in XGBoost 1.3.0, the default evaluation metric used with the objective 'binary:logistic' was changed from 'error' to 'logloss'. Explicitly set eval_metric if you'd like to restore the old behavior.\n",
      "Model      : XGBoost\n",
      "ROC - AUC  : 0.6400 \n",
      "Accuracy   : 0.6642 \n",
      "Precision  : 0.6662 \n",
      "Recall     : 0.6642 \n",
      "F1 - Score : 0.6651 \n",
      "MAE        : 0.3358 \n",
      "RMSE       : 0.5795 \n",
      "R2         : -0.4517 \n",
      "              precision    recall  f1-score   support\n",
      "\n",
      "           0       0.54      0.55      0.54       145\n",
      "           1       0.74      0.73      0.73       254\n",
      "\n",
      "    accuracy                           0.66       399\n",
      "   macro avg       0.64      0.64      0.64       399\n",
      "weighted avg       0.67      0.66      0.67       399\n",
      "\n",
      "======================\n"
     ]
    },
    {
     "data": {
      "image/png": "[encoded data removed]",
      "text/plain": [
       "<Figure size 432x288 with 1 Axes>"
      ]
     },
     "metadata": {
      "needs_background": "light"
     },
     "output_type": "display_data"
    }
   ],
   "source": [
    "# Matriz de confusão\n",
    "\n",
    "test_models_plot_confusion_matrix(list_models,\n",
    "                              \"model_name\",\n",
    "                              \"estimator\",\n",
    "                              X_train,\n",
    "                              X_test,\n",
    "                              y_train,\n",
    "                              y_test)\n"
   ]
  },
  {
   "cell_type": "code",
   "execution_count": null,
   "id": "114237f7",
   "metadata": {},
   "outputs": [],
   "source": [
    "LogisticRegression(random_state=random_seed)},"
   ]
  },
  {
   "cell_type": "markdown",
   "id": "78244c83",
   "metadata": {},
   "source": [
    "## "
   ]
  },
  {
   "cell_type": "markdown",
   "id": "22b48557",
   "metadata": {},
   "source": [
    "__D)__ Avalie utilizar outros valores de _threshold_ para o modelo. Teve diferença no resultado final do modelo?\n",
    "\n",
    "__Dica.:__ utlize o _predict_proba_ ao invés do _predict_ do modelo"
   ]
  },
  {
   "cell_type": "code",
   "execution_count": null,
   "id": "f6bc1bf4",
   "metadata": {},
   "outputs": [],
   "source": []
  },
  {
   "cell_type": "code",
   "execution_count": null,
   "id": "ac81c857",
   "metadata": {},
   "outputs": [],
   "source": []
  },
  {
   "cell_type": "code",
   "execution_count": null,
   "id": "950a03f9",
   "metadata": {},
   "outputs": [],
   "source": []
  },
  {
   "cell_type": "markdown",
   "id": "d93f4f6d",
   "metadata": {},
   "source": [
    "## "
   ]
  }
 ],
 "metadata": {
  "kernelspec": {
   "display_name": "Python 3 (ipykernel)",
   "language": "python",
   "name": "python3"
  },
  "language_info": {
   "codemirror_mode": {
    "name": "ipython",
    "version": 3
   },
   "file_extension": ".py",
   "mimetype": "text/x-python",
   "name": "python",
   "nbconvert_exporter": "python",
   "pygments_lexer": "ipython3",
   "version": "3.8.12"
  }
 },
 "nbformat": 4,
 "nbformat_minor": 5
}
