{
 "cells": [
  {
   "cell_type": "markdown",
   "metadata": {},
   "source": [
    "# Aula 17 - Introdução a Redes Neurais\n",
    "\n",
    "Na aula de hoje, vamos explorar os seguintes tópicos em Python:\n",
    "\n",
    "- 1) TensorFlow e Keras\n",
    "- 2) Introdução\n",
    "- 3) Redes Neurais Artificiais\n",
    "- 4) Como treinar uma Rede Neural\n",
    "- 5) MNIST\n",
    "- 6) Outras arquiteturas de Redes Neurais\n",
    "- 7) Quando utilizamos Redes Neurais?"
   ]
  },
  {
   "cell_type": "markdown",
   "metadata": {},
   "source": [
    "<img src=\"https://sigmoidal.ai/wp-content/uploads/2019/08/main-qimg-7532a36a1e14a3f7a135a5f7301a5752.png\" width=800>\n",
    "\n"
   ]
  },
  {
   "cell_type": "markdown",
   "metadata": {},
   "source": [
    "##   "
   ]
  },
  {
   "cell_type": "markdown",
   "metadata": {},
   "source": [
    "## 1) TensorFlow e Keras"
   ]
  },
  {
   "cell_type": "markdown",
   "metadata": {},
   "source": [
    "Hoje vamos trabalhar com __as principais bibliotecas de redes neurais__, sendo a principal delas desenvolvida para Python, o [__TensorFlow__](https://www.tensorflow.org/).<br>\n",
    " <br>\n",
    "<img src=\"https://www.ambientelivre.com.br/images/logos_open_source/tensorflow_logo.png\" width=500>\n",
    " <br>\n",
    "O __TensorFlow__ é um __framework extremamente poderoso__, mas que apresenta uma __sintaxe consideravelmeente complicada__. Para facilitar a vida e descomplicar Redes Neurais, que surgiu uma outra biblioteca construída encima do TensorFlow, conhecida como [__Keras__](https://keras.io/) <br>\n",
    " <br>\n",
    " <img src=\"https://www.pyimagesearch.com/wp-content/uploads/2020/02/keras_autoencoders_header.png\" width=500>\n",
    " <br>\n",
    "Diferente com o que estamos acostumados do _SciKit-Learn_, o __Keras__ é focada exclusivamente em Redes Neurais, oferencendo implementação de funções de alto nível, construindo essas redes de forma prática e simples!<br><br>\n",
    " \n",
    "Claro que infelizmente até o __Keras__ têm suas limitações, quando precisar de modificações muito especificas, pode ser precise recorrer ao __TensorFlow__, apesar do __Keras__ possuir a __maioria das principais arquiteturas__ de Redes Neurais do __TensorFLow__ completamente integradas. \n",
    "<br><br>\n",
    "Para instalar tanto o __TensorFlow__ quanto o __Keras__ basta seguir o código abaixo:"
   ]
  },
  {
   "cell_type": "code",
   "execution_count": null,
   "metadata": {},
   "outputs": [],
   "source": [
    "# Instalando as Bibliotecas\n",
    "#!pip install tensorflow\n",
    "#!pip install keras"
   ]
  },
  {
   "cell_type": "markdown",
   "metadata": {},
   "source": [
    "##   "
   ]
  },
  {
   "cell_type": "markdown",
   "metadata": {},
   "source": [
    "## 2) Introdução\n",
    "\n",
    "A inspiração para o desenvolvimento de Redes Neurais partiu justamente dos __seres humanos__, somos muito bons em __aprender__ e __reconhecer padrões__. Isto se deve ao nosso __sistema nervoso__, que pode ser entendido como uma __grande rede de neurônios interligados__.<br><br>\n",
    "\n",
    "<img src=\"https://www.tiopen.com.br/wp-content/uploads/2019/08/rede-neural.jpeg.webp\" width=\"600\" />\n",
    "<br><br>\n",
    "\n",
    "Um dos objetivos da Inteligência Artificial é __construir sistemas inteligentes__, com __capacidade cognitiva__ similar à dos __humanos__.\n",
    "\n",
    "Foi assim que começaram a desenvolver as chamadas __Redes Neurais Artificiais (RNAs)__. Na próxima imagem tem uma comparação entre a inspiração biológia e a arquitetura de uma rede neural:<br><br>\n",
    "\n",
    "<img src=\"https://www.ee.co.za/wp-content/uploads/2019/07/Application-of-machine-learning-algorithms-in-boiler-plant-root-cause-analysis-Fig-1.jpg\" width=\"600\" />"
   ]
  },
  {
   "cell_type": "markdown",
   "metadata": {},
   "source": [
    "##   "
   ]
  },
  {
   "cell_type": "markdown",
   "metadata": {},
   "source": [
    "## 3) Redes Neurais Artificiais (RNAs)\n",
    "\n",
    "Uma RNA é composta pelos seguintes elementos básicos:\n",
    "\n",
    "- **Unidades (ou neurônios)**: são as unidades mínimas de processamento da rede neural, onde as operações matemáticas são realizadas;\n",
    "\n",
    "- **Camadas**: há três tipos de camadas:\n",
    "\n",
    "\t- **Camada de entrada (input layer)**: é a camada de entrada de dados. O número de unidades nesta camada é igual ao número de features do modelo;\n",
    "\n",
    "\t- **Camadas ocultas (hidden layers)**: são as camadas de processamento. O número de camadas ocultas, bem como o número de neurônios em cada uma delas, é variável, dependendo do problema e dos dados. Em geral, a melhor estratégia é experimentar diferentes números de camadas e de neurônios;\n",
    "\n",
    "\t- **Camada de saída (output layer)**: é a camada que dá a resposta da rede neural, isto é, o valor predito por ela. O número de unidades nesta camada depende do tipo de output desejado, e é o que determina o target (variável dependente) do modelo.\n",
    "\t\n",
    "\t\n",
    "<img src=\"https://gadictos.com/wp-content/uploads/2019/05/bp1.png\" width=\"400\" />\n",
    "<br><br>\n",
    "\t\n",
    "As camadas e neurônios são interligadas entre si através de conexões. A cada conexão, associa-se um **peso** (que denotamos pela letra **W**). <br><br>\n",
    "\n",
    "O objetivo da RNA é **\"aprender\" os pesos que melhor se ajustam aos dados!** Após treinada, a rede neural faz previsões **passando os dados de input através de todos os nós**, conforme ilustrado a seguir:\n",
    "\n",
    "<img src=\"https://thumbs.gfycat.com/AdorableJoyfulLemming-small.gif\" width=600>\n",
    "\n",
    "<img src=\"https://thumbs.gfycat.com/BouncyGleefulFeline-max-1mb.gif\" width=600>\n"
   ]
  },
  {
   "cell_type": "markdown",
   "metadata": {},
   "source": [
    "##   "
   ]
  },
  {
   "cell_type": "markdown",
   "metadata": {},
   "source": [
    "## 4) Como treinar uma Rede Neural"
   ]
  },
  {
   "cell_type": "markdown",
   "metadata": {},
   "source": [
    "A \"aprendizagem\" da Rede Neural a partir dos dados se dá através de duas etapas, o **Forward Propagation** e o **Backward Propagation**.\n",
    "\n",
    "### Forward Propagation\n",
    "\n",
    "No __Forward Propagation__, a informação propaga na direção habitual (da esquerda para direita) na rede neural: features são lidas na camada de input, passam pelo processamento nas camadas ocultas, e a resposta (target) é predita na camada de output. \n",
    "\n",
    "Para que a predição seja realizada, os neurônios nas camadas ocultas realizam as seguintes duas etapas de cálculo:\n",
    "\n",
    "- Uma combinação linear entre o output (que denotamos pela letra **a**) da camada enterior e os pesos da camada atual. Isto é, se tivermos n ligações. a combinação linear é:\n",
    "\n",
    "![](https://latex.codecogs.com/gif.latex?z%5E%7Batual%7D%20%3D%20W_0%5E%7Batual%7D%20&plus;%20%5Cleft%20%28%20W_1%5E%7Batual%7D%5Ctimes%20a_1%5E%7Banterior%7D%20%5Cright%29%20&plus;%20%5Cleft%28%20W_2%5E%7Batual%7D%20%5Ctimes%20a_2%5E%7Banterior%7D%20%5Cright%20%29%20&plus;%20%5Ccdots%20&plus;%20%5Cleft%20%28%20W_n%5E%7Batual%7D%20%5Ctimes%20a_n%5E%7Banterior%7D%20%5Cright%29)\n",
    "\n",
    "- Aplica-se uma __função de ativação não-linear__ à combinação linear acima. As principais funções de ativação utilizadas são:\n",
    "<br><br>\n",
    "\n",
    "<img src=\"https://cdn-images-1.medium.com/max/1000/1*4ZEDRpFuCIpUjNgjDdT2Lg.png\n",
    "\" width=\"800\" />\n",
    "\n",
    "O cálculo realizado por um único neurônio é bem parecido com um **perceptron**, ilustrado a seguir:\n",
    "<br>\n",
    "\n",
    "<img src=\"https://img2.gratispng.com/20180619/oav/kisspng-multilayer-perceptron-machine-learning-statistical-5b2996bdb9dcd2.4724873615294522217613.jpg\" width=\"400\" />\n",
    "<br>\n",
    "\n",
    "A escolha das funções de ativação também pode ser variável, mas costuma-se utilizar:\n",
    "\n",
    "- **ReLu** nas camadas ocultas;\n",
    "- **Sigmoid** (para problemas de classificação binários) ou **Softmax** (para probelams de classificação multiclasse) na camada de output.\n",
    "\n",
    "\n",
    "Ao fim do __Forward Propagation__, na camada de output, calculamos a **Função de Perda**, que quantifica qual a **diferença entre as predições feitas pela rede neural e os valores reais do target dos dados**. Cada tipo de problema tem uma função de perda própria.\n",
    "<br><br>\n",
    "\n",
    "Queremos que as predições sejam sempre o mais próximas o possível dos valores reais. Então, o que fazemos é **minimizar** a função de perda. \n",
    "\n",
    "\n",
    "### Backward Propagation\n",
    "\n",
    "Isto é feito ao propagarmos a informação na direção contrária (da direita para esquerda) na rede neural, o que caracteriza o chamado __Backward Propagation__. \n",
    "\n",
    "Para minimizar a função de perda, utilizamos um **Otimizador**, que são objetos que representam o procedimento matemático de minimização da função de perda. Os principais otimizadores utilizados são: __gradiente descendente (GD)__, **Adam** e **RMSProp**.\n",
    "\n",
    "Este processo de __Forward e Backward Propagation__ é feito iterativamente, ou seja por diversas vezes no desenvolvimento do modelo. Cada rodada é chamada de __época__ (**epoch**).\n",
    "\n",
    "O objetivo do Backward Propagation é **determinar os Pesos que miminizem a Função de Perda.** A cada epoch, os pesos são **atualizados**, de modo que a função de perda é sempre reduzida em direção ao seu mínimo!\n",
    "\n",
    "Para quem quiser saber mais, segue uma sugestão de leitura adicional: [Neural Networks Explained](https://medium.com/datadriveninvestor/neural-networks-explained-6e21c70d7818)\n",
    "\n",
    "Vamos agora ao nosso exemplo prático: construiremos nossa própria rede neural!"
   ]
  },
  {
   "cell_type": "markdown",
   "metadata": {},
   "source": [
    "##   "
   ]
  },
  {
   "cell_type": "markdown",
   "metadata": {},
   "source": [
    "## 5) O exemplo clássico: MNIST\n",
    "\n",
    "Neste exemplo, usaremos o **[MNIST](https://www.kaggle.com/c/digit-recognizer/data)**, o famoso dataset de dígitos (números de 0 a 9) escritos à mão, onde vocês podem conhecer mais a respeito neste [link](http://yann.lecun.com/exdb/mnist/)\n",
    "\n",
    "<br><br>\n",
    "<img src=\"https://i2.wp.com/syncedreview.com/wp-content/uploads/2019/06/MNIST.png?fit=530%2C297&ssl=1\" width=700>\n",
    "\n",
    "<br><br>\n",
    "O objetivo do nosso modelo será o de **classificar digítos, com base em imagens**. Assim sendo, temos um **problema de classificação multiclasse** (pois os dados serão classificados em uma dentre 10 classes possíveis, de 0 a 9)."
   ]
  },
  {
   "cell_type": "code",
   "execution_count": 1,
   "metadata": {},
   "outputs": [],
   "source": [
    "# importe as bibliotecas padrões\n",
    "\n",
    "import numpy as np\n",
    "import pandas as pd\n",
    "import matplotlib.pyplot as plt\n",
    "import seaborn as sns"
   ]
  },
  {
   "cell_type": "markdown",
   "metadata": {},
   "source": [
    "__Algumas observações sobre a base :__\n",
    "\n",
    "- A base do MNIST é composta por imagens de números manuscritos, onde cada imagem é uma **matriz 28 x 28**, contendo assim **784 pixels**; \n",
    "\n",
    "- As imagens estão em escala de cinza, na qual cada pixel pode variar de **0 a 255**, e foram centralizadas, de forma que o número não fique \"cortado\" por estar na borda;\n",
    "\n",
    "- A base está dividida em 60 mil casos para treino e 10 mil casos para teste;\n",
    "\n",
    "\n",
    "Na função ``carrega_mnist()``, o objetivo é ler a base e retornar dois numpy arrays (a = 60000 ou a = 10000, a depender do tipo): \n",
    "\n",
    "- o primeiro da forma (a, 784), que são os 784 pixels da imagem organizados de forma sequencial;\n",
    "- o segundo da forma (a, 1), que é o identificador (label) da imagem, sendo um número que varia de 0 a 9.\n"
   ]
  },
  {
   "cell_type": "code",
   "execution_count": 2,
   "metadata": {},
   "outputs": [],
   "source": [
    "# Função essencial para ler a base do MNIST\n",
    "import os\n",
    "import gzip\n",
    "\n",
    "def carrega_mnist(caminho, tipo = 'train'):\n",
    "    label_caminho = os.path.join(caminho, '%s-labels-idx1-ubyte.gz' % tipo)\n",
    "    imagens_caminho = os.path.join(caminho, '%s-images-idx3-ubyte.gz' % tipo)\n",
    "        \n",
    "    with gzip.open(label_caminho, 'rb') as lbpath:\n",
    "        lbpath.read(8)\n",
    "        buffer = lbpath.read()\n",
    "        labels = np.frombuffer(buffer, dtype=np.uint8)\n",
    "\n",
    "    with gzip.open(imagens_caminho, 'rb') as imgpath:\n",
    "        imgpath.read(16)\n",
    "        buffer = imgpath.read()\n",
    "        imagens = np.frombuffer(buffer, \n",
    "                               dtype=np.uint8).reshape(\n",
    "            len(labels), 784).astype(np.float64)\n",
    " \n",
    "    return imagens, labels\n",
    "\n",
    "X_train, y_train = carrega_mnist('./datasets/')\n",
    "X_test, y_test = carrega_mnist('./datasets/', \"t10k\")"
   ]
  },
  {
   "cell_type": "code",
   "execution_count": 3,
   "metadata": {},
   "outputs": [
    {
     "data": {
      "text/plain": [
       "((60000, 784), (60000,))"
      ]
     },
     "execution_count": 3,
     "metadata": {},
     "output_type": "execute_result"
    }
   ],
   "source": [
    "X_train.shape, y_train.shape"
   ]
  },
  {
   "cell_type": "code",
   "execution_count": 4,
   "metadata": {},
   "outputs": [
    {
     "data": {
      "text/plain": [
       "((10000, 784), (10000,))"
      ]
     },
     "execution_count": 4,
     "metadata": {},
     "output_type": "execute_result"
    }
   ],
   "source": [
    "X_test.shape, y_test.shape"
   ]
  },
  {
   "cell_type": "markdown",
   "metadata": {},
   "source": [
    "Fazendo uma visualização do Dataset:"
   ]
  },
  {
   "cell_type": "code",
   "execution_count": 5,
   "metadata": {},
   "outputs": [
    {
     "name": "stdout",
     "output_type": "stream",
     "text": [
      "A resposta para o id 21 : 4\n"
     ]
    },
    {
     "data": {
      "image/png": "[encoded data removed]",
      "text/plain": [
       "<Figure size 432x288 with 1 Axes>"
      ]
     },
     "metadata": {
      "needs_background": "light"
     },
     "output_type": "display_data"
    }
   ],
   "source": [
    "# é necessário dar um reshape\n",
    "\n",
    "idx = 20\n",
    "features = X_train[idx]\n",
    "target = y_train[idx]\n",
    "\n",
    "# é necessário dar um reshape\n",
    "img = features.reshape(28,28)\n",
    "\n",
    "print(\"A resposta para o id {} : {}\".format(str(idx + 1), target))\n",
    "\n",
    "plt.imshow(img, cmap=\"gray\")\n",
    "plt.show()"
   ]
  },
  {
   "cell_type": "markdown",
   "metadata": {},
   "source": [
    "## Pré-Processamento dos Dados\n",
    "\n",
    "Um processo muito importante quando trabalhamos com Redes Neurais é o __Rescalamento__, pois é interessante que o os valores sejam rescalados **entre 0 e 1 para que o tempo de treinamento seja otimizado**. Não iremos enttrar em tantos detalhes sobre o motivo dessa otimização, mas [nesse link](https://stackoverflow.com/questions/4674623/why-do-we-have-to-normalize-the-input-for-an-artificial-neural-network) poderam ter mais detalhes sobre esse processo. \n",
    "\n",
    "Então, fazemos a divisão correpondentes aos pixels das imagens pelo pixel de valor máximo do **conjunto de treino**:"
   ]
  },
  {
   "cell_type": "code",
   "execution_count": 6,
   "metadata": {},
   "outputs": [
    {
     "data": {
      "text/plain": [
       "255.0"
      ]
     },
     "execution_count": 6,
     "metadata": {},
     "output_type": "execute_result"
    }
   ],
   "source": [
    "np.max(X_train)"
   ]
  },
  {
   "cell_type": "code",
   "execution_count": 7,
   "metadata": {},
   "outputs": [],
   "source": [
    "m = np.max(X_train)\n",
    "\n",
    "X_train = X_train/m\n",
    "X_test = X_test/m"
   ]
  },
  {
   "cell_type": "code",
   "execution_count": 8,
   "metadata": {},
   "outputs": [
    {
     "name": "stdout",
     "output_type": "stream",
     "text": [
      "Valores máximo e mínimo dos dados de treino: 1.0 0.0\n",
      "Valores máximo e mínimo dos dados de teste: 1.0 0.0\n"
     ]
    }
   ],
   "source": [
    "print(\"Valores máximo e mínimo dos dados de treino:\", np.max(X_train), np.min(X_train))\n",
    "print(\"Valores máximo e mínimo dos dados de teste:\", np.max(X_test), np.min(X_test))"
   ]
  },
  {
   "cell_type": "markdown",
   "metadata": {},
   "source": [
    "Em modelos de rede neural de classificação, necessariamente **devemos ter o target transformado em variáveis dummy**, pois nossa resposta precisa ter a estrutura de output correta, como vimos na animação (GIF) acima. Podemos fazer isso com o __OneHot Encoder__, como já vimos anteriormente.<br><br>\n",
    "\n",
    "Esse tipo de mapeamento é um vetor com a mesma quantidade de classes existentes, com cada posição desse vetor correspondendo a uma das classes. (No nosso caso, como temos 10 classes possíveis, este vetor terá 10 elementos!)"
   ]
  },
  {
   "cell_type": "code",
   "execution_count": 9,
   "metadata": {
    "scrolled": false
   },
   "outputs": [
    {
     "name": "stdout",
     "output_type": "stream",
     "text": [
      "1o dado de treino; label: 5\n"
     ]
    },
    {
     "data": {
      "image/png": "[encoded data removed]",
      "text/plain": [
       "<Figure size 432x288 with 1 Axes>"
      ]
     },
     "metadata": {
      "needs_background": "light"
     },
     "output_type": "display_data"
    },
    {
     "name": "stdout",
     "output_type": "stream",
     "text": [
      "2o dado de treino; label: 0\n"
     ]
    },
    {
     "data": {
      "image/png": "[encoded data removed]",
      "text/plain": [
       "<Figure size 432x288 with 1 Axes>"
      ]
     },
     "metadata": {
      "needs_background": "light"
     },
     "output_type": "display_data"
    },
    {
     "name": "stdout",
     "output_type": "stream",
     "text": [
      "3o dado de treino; label: 4\n"
     ]
    },
    {
     "data": {
      "image/png": "[encoded data removed]",
      "text/plain": [
       "<Figure size 432x288 with 1 Axes>"
      ]
     },
     "metadata": {
      "needs_background": "light"
     },
     "output_type": "display_data"
    },
    {
     "name": "stdout",
     "output_type": "stream",
     "text": [
      "4o dado de treino; label: 1\n"
     ]
    },
    {
     "data": {
      "image/png": "[encoded data removed]",
      "text/plain": [
       "<Figure size 432x288 with 1 Axes>"
      ]
     },
     "metadata": {
      "needs_background": "light"
     },
     "output_type": "display_data"
    },
    {
     "name": "stdout",
     "output_type": "stream",
     "text": [
      "5o dado de treino; label: 9\n"
     ]
    },
    {
     "data": {
      "image/png": "[encoded data removed]",
      "text/plain": [
       "<Figure size 432x288 with 1 Axes>"
      ]
     },
     "metadata": {
      "needs_background": "light"
     },
     "output_type": "display_data"
    }
   ],
   "source": [
    "for idx in range(5):\n",
    "    features = X_train[idx]\n",
    "    target = y_train[idx]\n",
    "\n",
    "    # é necessário dar um reshape\n",
    "    img = features.reshape(28,28)\n",
    "\n",
    "    print(str(idx+1) + \"o dado de treino; label:\", target)\n",
    "\n",
    "    plt.imshow(img, cmap=\"gray\")\n",
    "    plt.show()"
   ]
  },
  {
   "cell_type": "code",
   "execution_count": 10,
   "metadata": {},
   "outputs": [
    {
     "data": {
      "text/plain": [
       "array([5, 0, 4, 1, 9], dtype=uint8)"
      ]
     },
     "execution_count": 10,
     "metadata": {},
     "output_type": "execute_result"
    }
   ],
   "source": [
    "y_train[0:5]"
   ]
  },
  {
   "cell_type": "code",
   "execution_count": 11,
   "metadata": {},
   "outputs": [],
   "source": [
    "from sklearn.preprocessing import OneHotEncoder\n",
    "\n",
    "hot = OneHotEncoder()\n",
    "\n",
    "y_train = hot.fit_transform(y_train.reshape(-1, 1)).toarray()\n",
    "y_test = hot.fit_transform(y_test.reshape(-1, 1)).toarray()"
   ]
  },
  {
   "cell_type": "code",
   "execution_count": 12,
   "metadata": {},
   "outputs": [
    {
     "data": {
      "text/plain": [
       "array([[0., 0., 0., 0., 0., 1., 0., 0., 0., 0.],\n",
       "       [1., 0., 0., 0., 0., 0., 0., 0., 0., 0.],\n",
       "       [0., 0., 0., 0., 1., 0., 0., 0., 0., 0.],\n",
       "       [0., 1., 0., 0., 0., 0., 0., 0., 0., 0.],\n",
       "       [0., 0., 0., 0., 0., 0., 0., 0., 0., 1.]])"
      ]
     },
     "execution_count": 12,
     "metadata": {},
     "output_type": "execute_result"
    }
   ],
   "source": [
    "y_train[0:5]"
   ]
  },
  {
   "cell_type": "markdown",
   "metadata": {},
   "source": [
    "## Conjunto de Validação\n",
    "\n",
    "Em modelos de rede neural, é importante que exista um terceiro conjunto além de treino e teste, o **conjunto de validação**.\n",
    "\n",
    "Durante o treinamento, a depender do caso, **risco de ocorrer overfitting é bastante alto**.\n",
    "\n",
    "Uma forma de verificar e evitar isso é por meio do conjunto de validação, o qual é um subconjunto do conjunto de treino que não é utilizado pelo otimizador.  \n",
    "\n",
    "Espera-se que a o valor da função de perda (loss) vá diminuindo a cada época, tanto para o conjunto de treino como para o conjunto de validação. Porém, se a função de perda diminui para o conjunto de treino e aumenta para o conjunto de validação (ocorrendo assim um descolamento), podemos concluir que está ocorrendo um overfitting para o conjunto de treino.\n",
    "\n",
    "Deve-se então interromper o processo de treinamento. Esse comportamento pode ser visto com mais facilidade nos próximos tópicos.\n",
    "\n",
    "Para fazer a divisão, usamos a função ``train_test_split`` do ``sklearn`` e definimos que o conjunto de validação será 10% do conjunto de treino."
   ]
  },
  {
   "cell_type": "code",
   "execution_count": 13,
   "metadata": {},
   "outputs": [
    {
     "name": "stdout",
     "output_type": "stream",
     "text": [
      "(54000, 784) (6000, 784) (10000, 784) (54000, 10) (6000, 10) (10000, 10)\n"
     ]
    }
   ],
   "source": [
    "from sklearn.model_selection import train_test_split\n",
    "\n",
    "X_train, X_val, y_train, y_val = train_test_split(X_train, y_train, test_size = 0.1, random_state = 42)\n",
    "\n",
    "print(X_train.shape, X_val.shape, X_test.shape, y_train.shape, y_val.shape, y_test.shape)"
   ]
  },
  {
   "cell_type": "markdown",
   "metadata": {},
   "source": [
    "## Arquitetura da Rede\n",
    "\n",
    "Faremos uma rede simples, com:\n",
    "\n",
    "- **3 camadas**;\n",
    "- **25 neurônios cada**; \n",
    "- **Camadas densas**;\n",
    "- **função de ativação ReLu nas camadas escondidas**;\n",
    "- **10 neurônios e ativação Softmax na camada de saída**. \n",
    "\n",
    "Para a construção da rede neural, utilizaremos a biblioteca [Keras](https://keras.io/).\n",
    "\n",
    "Primeiro definimos que nossa rede é do tipo **sequencial**, utilizando a função ``Sequential()``. \n",
    "\n",
    "O Keras funciona de forma super intuitiva: construímos **a arquitetura** de nossa rede neural camada a camada, construindo assim a rede neural da forma que queiramos!\n",
    "\n",
    "[Clique aqui](https://keras.io/api/layers/) para conhecer melhor sobre a estrutura de camadas do Keras, e dar uma olhada nas camadas disponíveis!\n",
    "\n",
    "Dessa forma, utilizamos o método ``.add()`` para adicionar as camadas, uma após a outra, de forma que a saída da camada anterior camada seja a entrada da próxima camada. \n",
    "\n",
    "> A primeira camada adicionada é uma **camada densa (fully connected)** com 25 neurônios. Para isso, é usada a função ``Dense()``, que conecta todos os valores de input e todos o neurônios da camada. \n",
    "Na primeira camada, é necessário **definir a dimensão dos dados de entrada**. Em camadas subsequentes isso não será necessário, já que o Keras automaticamente determinará que a dimensão de entrada será a dimensão da saída da camada anterior. \n",
    "No caso da rede em questão, os **784 pixels da imagem estarão todos conectados, um a um, aos 25 neurônios da primeira camada, produzindo 25 saídas nessa camada**.\n",
    "\n",
    "> Após a camada densa, é necessário inserir **a camada de ativação**, por meio da função ``Activation()``. Ao usar essa função, é necessário definir qual função de fato será usada passando uma string como parâmetro pra função. Dentre as disponíveis no Keras estão ``'tanh'``, ``'sigmoid'``, ``'softmax'`` e ``'relu'``. Nessa camada, a `ReLu` será usada.\n",
    "\n",
    "Esse processo de ``Dense()`` e ``Activation()`` é repetido mais duas vezes com os mesmos parâmetros. \n",
    "\n",
    "> Posteriormente, por ser um problema de classificação com 10 classes diferentes, é importante que a **a camada de saída possua 10 neurônios**. Dessa forma, cada neurônio representará uma classe, e a predição final será a correspondente ao neurônio **com maior valor de saída**. \n",
    "Outro fator importante é o uso de uma **camada de ativação Softmax após essa última camada com 10 neurônios**. \n",
    "A ativação Softmax funciona como uma versão mais generalizada da função sigmóide (ou logística), usada para **predições multiclasse**\n",
    "Ou seja, com valores entre 0 e 1, a saída de cada neurônio pode ser interpretada como a **probabilidade daquela instância pertencer àquela classe**."
   ]
  },
  {
   "cell_type": "code",
   "execution_count": 14,
   "metadata": {},
   "outputs": [],
   "source": [
    "from tensorflow.keras.models import Sequential\n",
    "from tensorflow.keras.layers import Dense, Activation\n",
    "\n",
    "rede_simples = Sequential()\n",
    "\n",
    "# camada de input\n",
    "rede_simples.add(Dense(25,  input_dim = X_train.shape[1]))\n",
    "rede_simples.add(Activation('relu'))\n",
    "\n",
    "# camada oculta\n",
    "rede_simples.add(Dense(25))\n",
    "rede_simples.add(Activation('relu'))\n",
    "\n",
    "# camada oculta\n",
    "rede_simples.add(Dense(25))\n",
    "rede_simples.add(Activation('relu'))\n",
    "\n",
    "# camada de output\n",
    "rede_simples.add(Dense(y_train.shape[1]))\n",
    "rede_simples.add(Activation('softmax'))"
   ]
  },
  {
   "cell_type": "markdown",
   "metadata": {},
   "source": [
    "A rede então deve ser compilada usando o método ``compile()``. Devem ser passados a [função de perda](https://keras.io/losses/) e o [otimizador](https://keras.io/optimizers/) a serem utilizados. \n",
    "\n",
    "Para a função de perda, usamos ``categorial_crossentropy`` por ser um **problema de classificação multiclasse** (não binário). \n",
    "\n",
    "Já o otimizador escolhido foi o ``RMSprop()``.\n",
    "\n",
    "Diferentes funções de perda possuem diferentes propósitos, devendo ser escolhido caso a caso. Já os otimizadores possuem maior liberdade de escolha, não existindo uma regra fechada.\n",
    "\n",
    "A arquitetura da rede pode ser visualizada com o método ``.summary()``."
   ]
  },
  {
   "cell_type": "code",
   "execution_count": 15,
   "metadata": {},
   "outputs": [
    {
     "name": "stdout",
     "output_type": "stream",
     "text": [
      "Model: \"sequential\"\n",
      "_________________________________________________________________\n",
      "Layer (type)                 Output Shape              Param #   \n",
      "=================================================================\n",
      "dense (Dense)                (None, 25)                19625     \n",
      "_________________________________________________________________\n",
      "activation (Activation)      (None, 25)                0         \n",
      "_________________________________________________________________\n",
      "dense_1 (Dense)              (None, 25)                650       \n",
      "_________________________________________________________________\n",
      "activation_1 (Activation)    (None, 25)                0         \n",
      "_________________________________________________________________\n",
      "dense_2 (Dense)              (None, 25)                650       \n",
      "_________________________________________________________________\n",
      "activation_2 (Activation)    (None, 25)                0         \n",
      "_________________________________________________________________\n",
      "dense_3 (Dense)              (None, 10)                260       \n",
      "_________________________________________________________________\n",
      "activation_3 (Activation)    (None, 10)                0         \n",
      "=================================================================\n",
      "Total params: 21,185\n",
      "Trainable params: 21,185\n",
      "Non-trainable params: 0\n",
      "_________________________________________________________________\n"
     ]
    }
   ],
   "source": [
    "from tensorflow.keras.optimizers import RMSprop\n",
    "\n",
    "rede_simples.compile(loss = 'categorical_crossentropy', optimizer = RMSprop())\n",
    "\n",
    "pesos_iniciais = rede_simples.get_weights()\n",
    "\n",
    "rede_simples.summary()"
   ]
  },
  {
   "cell_type": "code",
   "execution_count": 16,
   "metadata": {},
   "outputs": [
    {
     "data": {
      "text/plain": [
       "[array([[ 0.07472086,  0.04624714, -0.07114419, ...,  0.05006371,\n",
       "         -0.02973978,  0.03435659],\n",
       "        [-0.071146  , -0.05691922,  0.03953171, ..., -0.03110552,\n",
       "          0.01009498, -0.06881792],\n",
       "        [-0.03761031, -0.05194968,  0.04745345, ...,  0.04468404,\n",
       "         -0.06337636, -0.05129102],\n",
       "        ...,\n",
       "        [-0.03329081,  0.05949423, -0.01998352, ...,  0.02083641,\n",
       "          0.06192005, -0.0353903 ],\n",
       "        [ 0.06231555,  0.04398414,  0.01989569, ..., -0.07788952,\n",
       "          0.01712528,  0.00804111],\n",
       "        [-0.08259105,  0.07221802, -0.08124258, ...,  0.07907712,\n",
       "          0.03311183,  0.08017935]], dtype=float32),\n",
       " array([0., 0., 0., 0., 0., 0., 0., 0., 0., 0., 0., 0., 0., 0., 0., 0., 0.,\n",
       "        0., 0., 0., 0., 0., 0., 0., 0.], dtype=float32),\n",
       " array([[-0.08146077,  0.22927248, -0.00728109,  0.26770264,  0.27372736,\n",
       "         -0.27161378, -0.1153914 , -0.33661696,  0.02463636, -0.3385021 ,\n",
       "         -0.19434051,  0.21974653, -0.14709191,  0.16856933,  0.29463714,\n",
       "         -0.21382885,  0.33940613,  0.3213737 ,  0.29361916, -0.15706745,\n",
       "          0.2286979 ,  0.13776362, -0.2986771 , -0.05903816,  0.18366826],\n",
       "        [-0.05327088, -0.07283452,  0.24479604, -0.16810428, -0.11973079,\n",
       "         -0.32279733, -0.04543367, -0.23275441, -0.25690463, -0.08914733,\n",
       "         -0.01619536, -0.32968152,  0.01937866,  0.03578147,  0.03180531,\n",
       "          0.02147737, -0.25049222, -0.20737654,  0.2037347 , -0.04147774,\n",
       "          0.16587591, -0.33635038, -0.34294713,  0.32350624, -0.18540908],\n",
       "        [-0.09222093, -0.21431282, -0.02110645, -0.12824869, -0.2136179 ,\n",
       "         -0.11777249,  0.21273267, -0.09797262,  0.02051032, -0.09780967,\n",
       "         -0.13618772, -0.308991  ,  0.05239046,  0.0234265 , -0.13087252,\n",
       "          0.23105145, -0.30104503, -0.11591338, -0.14156783,  0.03493378,\n",
       "          0.07258767,  0.26727784, -0.00828633,  0.10897651,  0.33934617],\n",
       "        [ 0.0050306 ,  0.12739503, -0.02381155,  0.05242869, -0.33455178,\n",
       "          0.2539314 ,  0.28763586, -0.16882612, -0.03179029, -0.07485649,\n",
       "         -0.1816588 ,  0.17968231,  0.29403597, -0.19034651,  0.22305965,\n",
       "         -0.22935942,  0.27760375,  0.17779994, -0.3372654 , -0.2260088 ,\n",
       "         -0.2797877 , -0.07242262, -0.25953797, -0.19143605, -0.03696716],\n",
       "        [ 0.28921205,  0.1589647 ,  0.17106646,  0.10428452,  0.1885041 ,\n",
       "          0.2375884 , -0.302624  ,  0.12399602, -0.04664585,  0.1370512 ,\n",
       "         -0.16959785, -0.233836  ,  0.01273292,  0.12688652, -0.07040536,\n",
       "          0.0610418 ,  0.00911337, -0.31591448,  0.03945097,  0.15820944,\n",
       "         -0.27525446,  0.19619977, -0.2534235 ,  0.2640559 ,  0.13911918],\n",
       "        [ 0.33556867, -0.14619505,  0.3367731 , -0.31706157,  0.26528388,\n",
       "          0.25243205, -0.20666163,  0.3039524 , -0.05423057, -0.00222242,\n",
       "          0.2991796 ,  0.32069457,  0.18201858, -0.308498  ,  0.303451  ,\n",
       "         -0.02858207, -0.16993557, -0.11412388, -0.21883565, -0.21929361,\n",
       "          0.04471093,  0.1001744 ,  0.10326371, -0.2000875 ,  0.0529671 ],\n",
       "        [ 0.286609  ,  0.25885195, -0.16906893, -0.00044143,  0.13425559,\n",
       "         -0.16472939,  0.26672953,  0.28779095, -0.27995294,  0.06038043,\n",
       "         -0.20717269, -0.3314894 ,  0.09653655,  0.06592137,  0.32454675,\n",
       "          0.2081086 ,  0.24762052, -0.07511386, -0.28802204, -0.06578523,\n",
       "         -0.13541698, -0.04041928, -0.06201351, -0.21697225, -0.02712515],\n",
       "        [-0.00913608, -0.16682924,  0.17074883,  0.31427437, -0.27146018,\n",
       "         -0.2146792 ,  0.0416289 ,  0.3228957 , -0.18073007,  0.07891271,\n",
       "         -0.2752011 , -0.12339303,  0.14342341, -0.31601036,  0.20096475,\n",
       "         -0.04431796, -0.32032952,  0.1705274 , -0.20418672, -0.23398641,\n",
       "          0.23410541, -0.25028798,  0.13462585,  0.22033972, -0.00123605],\n",
       "        [ 0.300359  , -0.19184834,  0.2853313 ,  0.00772628, -0.31316355,\n",
       "         -0.04560199,  0.07653704,  0.06571034,  0.04979819,  0.1702277 ,\n",
       "          0.2851137 ,  0.18551272,  0.10135925,  0.15727252,  0.22399467,\n",
       "         -0.07299021, -0.28039646,  0.08239043, -0.34150857, -0.24557543,\n",
       "         -0.24865821,  0.21034867, -0.19937128,  0.19466293,  0.03597167],\n",
       "        [ 0.1599307 , -0.13191397,  0.24996513,  0.24128908,  0.2821265 ,\n",
       "          0.1400916 ,  0.33130723,  0.09054467,  0.01158383, -0.07055005,\n",
       "          0.11164054,  0.28829122,  0.21241051,  0.32585096, -0.22631794,\n",
       "         -0.28815165, -0.14078026, -0.06778112,  0.12424213, -0.1258624 ,\n",
       "         -0.14268297,  0.2548682 ,  0.08232725, -0.15948752,  0.14189762],\n",
       "        [-0.02169117, -0.25054383,  0.0472728 , -0.03925946,  0.11800036,\n",
       "          0.15263167,  0.34168082, -0.16418692, -0.11077376,  0.10331756,\n",
       "          0.29816675, -0.15030245,  0.13253927,  0.32744795,  0.16014725,\n",
       "         -0.19349222, -0.19650422, -0.11140864, -0.01622641, -0.02945024,\n",
       "         -0.26541394, -0.31163877, -0.289604  , -0.31430098,  0.029383  ],\n",
       "        [-0.29388854, -0.06264225,  0.33221465, -0.11708641, -0.19233249,\n",
       "         -0.21481927,  0.10822204, -0.25396913,  0.3135873 , -0.17308697,\n",
       "          0.20254022, -0.2904233 ,  0.07014579,  0.07452235,  0.30117   ,\n",
       "         -0.2099764 ,  0.02827498,  0.33428198, -0.12425189,  0.24156302,\n",
       "          0.10622689, -0.2610232 ,  0.19159347,  0.16971833, -0.3093018 ],\n",
       "        [ 0.27587312, -0.19361347,  0.10665447,  0.27511615,  0.2017808 ,\n",
       "          0.06812719, -0.21181116,  0.3446712 ,  0.26826823,  0.142596  ,\n",
       "          0.23073083, -0.08764738,  0.0416359 , -0.17721494, -0.25459978,\n",
       "          0.3013475 , -0.2205329 , -0.01841381, -0.11747335,  0.10192963,\n",
       "         -0.09575918,  0.26182216,  0.02715027,  0.14121714, -0.10658236],\n",
       "        [-0.29382852, -0.1125336 , -0.31593603,  0.04836127,  0.33499116,\n",
       "         -0.07251325, -0.00304329,  0.2572453 , -0.30969343, -0.12427469,\n",
       "         -0.3363986 ,  0.3126058 ,  0.10527232,  0.23169196, -0.12184809,\n",
       "         -0.01113263, -0.16860189,  0.26472324,  0.15874803,  0.2015639 ,\n",
       "          0.01672426,  0.20992786,  0.02910313,  0.11276525, -0.18985195],\n",
       "        [-0.18550885,  0.17336631, -0.26751953,  0.0248127 , -0.2727104 ,\n",
       "         -0.22551872, -0.22372758,  0.20625633,  0.13998383,  0.32134736,\n",
       "          0.20332581,  0.22924858, -0.29486966,  0.21068966,  0.34568948,\n",
       "          0.29225647, -0.04999688, -0.26029968,  0.29109973, -0.30515307,\n",
       "          0.30545443, -0.05452269,  0.20127493,  0.02245927,  0.14693275],\n",
       "        [ 0.01989591, -0.2900666 ,  0.02680612, -0.19457771,  0.0452078 ,\n",
       "         -0.1138069 , -0.03319243, -0.23839864,  0.34367627,  0.0775373 ,\n",
       "          0.22979236,  0.22943044,  0.18818134, -0.11792809, -0.2440812 ,\n",
       "          0.24097615, -0.30466497,  0.3446399 ,  0.19653368,  0.1740343 ,\n",
       "          0.17148519, -0.10512167, -0.05003983,  0.01813814, -0.11166243],\n",
       "        [ 0.0394167 ,  0.31559741, -0.28675792, -0.3132733 , -0.02829233,\n",
       "         -0.01256442,  0.1756357 ,  0.23726475,  0.12667146,  0.18875468,\n",
       "          0.10100394, -0.0992375 , -0.08890095, -0.15823255,  0.13545638,\n",
       "         -0.12572397,  0.30367345, -0.24954747,  0.28983378, -0.25925493,\n",
       "          0.18231225,  0.21255809,  0.2837854 ,  0.07142404, -0.09890556],\n",
       "        [-0.06455877, -0.20735423, -0.10438512, -0.33863276,  0.0986858 ,\n",
       "          0.32300454, -0.10985123, -0.2029572 ,  0.2860977 ,  0.22126937,\n",
       "         -0.05930278,  0.03855628, -0.30733398,  0.15712309, -0.06212118,\n",
       "          0.23547989,  0.00856432,  0.27605647, -0.31708455, -0.1017343 ,\n",
       "         -0.23248836,  0.32225478, -0.01324481,  0.31082344,  0.03489447],\n",
       "        [ 0.31636   ,  0.1981129 ,  0.3197713 , -0.15285401, -0.22136655,\n",
       "         -0.14536189,  0.05337733, -0.06803989, -0.27126878, -0.14432223,\n",
       "         -0.06477168, -0.05908227,  0.22191435,  0.15565753,  0.02411911,\n",
       "         -0.21823563,  0.08726358,  0.1243239 , -0.2850037 ,  0.16508865,\n",
       "         -0.00243074,  0.21131146,  0.2861356 , -0.28197402, -0.21491632],\n",
       "        [ 0.2709179 , -0.22299185,  0.20724672,  0.01471698, -0.02373621,\n",
       "          0.10710904, -0.09468552, -0.05932295,  0.15385187,  0.19392419,\n",
       "          0.06081402,  0.23832875, -0.01195061, -0.31565067, -0.0194101 ,\n",
       "         -0.2934799 ,  0.07179758, -0.18174866,  0.19565368,  0.17450434,\n",
       "         -0.00469667,  0.2367574 , -0.13512146,  0.19560587, -0.18098214],\n",
       "        [ 0.3353439 ,  0.26752532,  0.19529504,  0.11921081,  0.10451552,\n",
       "          0.09517461,  0.19845259, -0.1433565 ,  0.12539148, -0.14299987,\n",
       "         -0.21530499, -0.0704104 , -0.33073106,  0.12933418,  0.01741034,\n",
       "          0.00876939,  0.08235425,  0.2674752 ,  0.27196515, -0.15812221,\n",
       "         -0.3324873 ,  0.28437155,  0.29818267,  0.13279241, -0.33589992],\n",
       "        [ 0.24263597, -0.06296057,  0.10473159, -0.24095789, -0.18948996,\n",
       "          0.30594075,  0.13855377,  0.0199734 ,  0.18238157,  0.05199268,\n",
       "         -0.0422968 , -0.31403983, -0.09263238,  0.20968956,  0.33596617,\n",
       "          0.16908461,  0.1793232 ,  0.2983678 , -0.11656204, -0.19653024,\n",
       "         -0.02081639,  0.1815036 , -0.01552176, -0.04443407,  0.07935372],\n",
       "        [ 0.30487776, -0.34014657,  0.24484235,  0.13119546, -0.1532739 ,\n",
       "         -0.33296052, -0.20491599,  0.2429511 , -0.24864963,  0.09275281,\n",
       "          0.22442693,  0.30375522, -0.11864795, -0.1930535 , -0.17736153,\n",
       "         -0.05023962, -0.19239344,  0.10427859, -0.1856998 ,  0.23139209,\n",
       "         -0.3185496 , -0.03270969, -0.01409954, -0.23767804, -0.32207286],\n",
       "        [ 0.01371416,  0.13131571,  0.27664828, -0.30244032, -0.18476982,\n",
       "          0.17902863, -0.31910568,  0.28916025,  0.15930563,  0.13736743,\n",
       "         -0.15339713,  0.17295665,  0.31523705, -0.25522673,  0.07599005,\n",
       "          0.30555624,  0.06640673,  0.07193238,  0.26583153,  0.26372808,\n",
       "          0.21417391,  0.0214287 , -0.06720614,  0.23977542, -0.16793984],\n",
       "        [-0.33083382, -0.32716158,  0.30216134, -0.1465502 , -0.20091969,\n",
       "         -0.2995423 ,  0.03442889,  0.25548995,  0.296045  ,  0.2150901 ,\n",
       "         -0.2021108 ,  0.16015083, -0.21774305, -0.16489968, -0.01824343,\n",
       "         -0.08927873, -0.13056825,  0.29287887,  0.31399733,  0.15512043,\n",
       "          0.28572482, -0.19450916, -0.0393559 , -0.18795055,  0.22402108]],\n",
       "       dtype=float32),\n",
       " array([0., 0., 0., 0., 0., 0., 0., 0., 0., 0., 0., 0., 0., 0., 0., 0., 0.,\n",
       "        0., 0., 0., 0., 0., 0., 0., 0.], dtype=float32),\n",
       " array([[-0.09006324,  0.17328948, -0.00881168,  0.07160756, -0.31095994,\n",
       "          0.28537363, -0.13015844,  0.2416256 , -0.05356827,  0.11247307,\n",
       "         -0.21722299,  0.24489528, -0.14121352, -0.01140469,  0.29225254,\n",
       "         -0.0176962 ,  0.19619143, -0.3446608 , -0.0435639 , -0.16235961,\n",
       "          0.17196834, -0.12469664,  0.03859857, -0.1902104 , -0.20762596],\n",
       "        [ 0.1842981 ,  0.13227871,  0.15334311, -0.21258263,  0.2937252 ,\n",
       "          0.07394859, -0.26980537, -0.12449041, -0.3348288 , -0.0083918 ,\n",
       "          0.33313453,  0.30475795,  0.06554779, -0.16496848, -0.29044914,\n",
       "          0.09768817, -0.22388011, -0.23642977,  0.18854266, -0.14283824,\n",
       "         -0.12402278,  0.19449031,  0.1516675 , -0.30331576,  0.04635951],\n",
       "        [-0.21460164, -0.02052915,  0.09972653,  0.3442428 ,  0.11352915,\n",
       "         -0.17048182, -0.10143606,  0.25194705, -0.10786566,  0.08828044,\n",
       "         -0.28533843,  0.05478212, -0.17964566,  0.00111249,  0.18401957,\n",
       "         -0.29073972, -0.13065588, -0.04993281,  0.24243069,  0.11157405,\n",
       "         -0.03214568,  0.04346174,  0.3322494 ,  0.2929784 ,  0.04875967],\n",
       "        [-0.03319424,  0.20977587,  0.03796574,  0.16214132, -0.1370356 ,\n",
       "         -0.08326447, -0.25855595, -0.21752973, -0.14987826,  0.21610379,\n",
       "         -0.20220645,  0.02307558, -0.04594815,  0.13002297, -0.31460345,\n",
       "         -0.09035084, -0.1332299 ,  0.15531027,  0.2495867 ,  0.14267752,\n",
       "         -0.21578649, -0.1233144 ,  0.07884529,  0.00321195,  0.17632306],\n",
       "        [ 0.18305594, -0.10671864,  0.03522456, -0.00054023,  0.2525133 ,\n",
       "         -0.21787463, -0.21432686,  0.02779868,  0.02442634,  0.25059503,\n",
       "         -0.23601416,  0.0526672 , -0.33988458,  0.24006087, -0.20450783,\n",
       "         -0.133135  ,  0.28240877,  0.2097317 ,  0.2923035 , -0.13649338,\n",
       "          0.17864823, -0.09585154, -0.14938223, -0.18443848,  0.12554103],\n",
       "        [-0.02110982,  0.11070067, -0.25024626,  0.04158857,  0.07875022,\n",
       "         -0.02875912, -0.16711327,  0.11463106,  0.04569641,  0.06345981,\n",
       "         -0.01716581, -0.06053257,  0.14833513, -0.2685192 , -0.02199289,\n",
       "          0.3360201 , -0.06680408,  0.28043866,  0.28760338,  0.24759072,\n",
       "          0.20058906, -0.2659522 , -0.10877968,  0.33750236, -0.00389177],\n",
       "        [-0.23533684, -0.01689416, -0.18138824,  0.05685809, -0.15206642,\n",
       "          0.22145247,  0.23203564, -0.19756253, -0.01334319, -0.12357968,\n",
       "         -0.00555   ,  0.24914825,  0.18524408,  0.14970803, -0.29816544,\n",
       "         -0.2708106 ,  0.21255952,  0.10845312,  0.25998527,  0.29057288,\n",
       "          0.27752262, -0.08948645,  0.1364677 , -0.1294878 ,  0.25719643],\n",
       "        [-0.01274142, -0.17585203,  0.28138435,  0.2848171 , -0.25761393,\n",
       "          0.31678468, -0.25550961, -0.3147644 , -0.16631429, -0.25492725,\n",
       "         -0.26813596, -0.08985925, -0.281856  , -0.06661543,  0.15375435,\n",
       "          0.19868189, -0.13975655, -0.33957264, -0.14099383,  0.34057415,\n",
       "          0.19545299, -0.3078409 , -0.12963828,  0.18580097,  0.22502476],\n",
       "        [-0.3060811 , -0.1108091 , -0.0229193 ,  0.24921834, -0.03401098,\n",
       "          0.25912213,  0.1900956 ,  0.31338376,  0.18253756, -0.22672594,\n",
       "         -0.01408839,  0.31838477, -0.10257375,  0.04888406, -0.04816315,\n",
       "          0.30759126, -0.14366315,  0.23174101,  0.16947138, -0.28902158,\n",
       "          0.15753865, -0.22635445, -0.14862463,  0.03133398, -0.08992103],\n",
       "        [-0.08269188,  0.11332753,  0.13803807,  0.14846045, -0.22770712,\n",
       "          0.14113125,  0.0513964 , -0.32638872, -0.2257755 , -0.32847503,\n",
       "         -0.3198776 ,  0.18452942, -0.22914436, -0.20277599,  0.0575963 ,\n",
       "         -0.30593067,  0.32406276, -0.23837468, -0.19003935,  0.20350301,\n",
       "          0.31663418,  0.34250993, -0.1229368 , -0.17433533,  0.2726221 ],\n",
       "        [ 0.18226022,  0.17326081,  0.01240924,  0.26243913,  0.15571421,\n",
       "          0.09298408, -0.01344195, -0.21437559,  0.14407131, -0.05763257,\n",
       "          0.32865608,  0.00886586, -0.22391084, -0.0386202 , -0.24511012,\n",
       "         -0.21559958, -0.19821252, -0.21373741, -0.15187448, -0.0402872 ,\n",
       "          0.02147663, -0.33669096, -0.00817159, -0.29125103, -0.10679685],\n",
       "        [-0.02904332, -0.20009832,  0.31423193, -0.2612698 , -0.09462053,\n",
       "          0.00039908, -0.31639135,  0.3004874 , -0.17836335,  0.04016531,\n",
       "         -0.22461551, -0.12055455, -0.3084728 , -0.03445095, -0.29441473,\n",
       "          0.13406381, -0.04448885,  0.09971735, -0.2386664 ,  0.14414755,\n",
       "         -0.12298989,  0.3100105 , -0.28147972,  0.304272  , -0.06546959],\n",
       "        [-0.29514194, -0.1224799 , -0.34122503, -0.16705976, -0.1248619 ,\n",
       "          0.31648487,  0.14355108,  0.28475595,  0.1064741 ,  0.2554568 ,\n",
       "          0.15332139, -0.0694944 ,  0.19732833, -0.08222482,  0.33562475,\n",
       "         -0.14747141,  0.2695186 , -0.27419788, -0.04903141, -0.22931136,\n",
       "         -0.10418212, -0.32176504,  0.3284756 ,  0.2829833 , -0.17435557],\n",
       "        [ 0.12276337,  0.31093317,  0.14008376, -0.24927409,  0.30105114,\n",
       "          0.11597383,  0.32137215, -0.19802149, -0.12312749,  0.33258092,\n",
       "          0.28831178, -0.07885265, -0.07898992, -0.16592182, -0.24322599,\n",
       "         -0.06923869,  0.06450427,  0.31409955,  0.0149551 , -0.33910823,\n",
       "          0.3031144 , -0.1436966 , -0.23904368, -0.10455741, -0.00503051],\n",
       "        [-0.29318935,  0.29287028, -0.26884732,  0.01318187,  0.21330678,\n",
       "          0.28986108,  0.14597353,  0.04833615,  0.02077433, -0.29425436,\n",
       "          0.08482751,  0.1809128 ,  0.21934944,  0.2995075 , -0.04850754,\n",
       "          0.20065492,  0.32608277,  0.05359256,  0.22192234,  0.24451315,\n",
       "          0.28504664,  0.33427626,  0.32683402, -0.01511845,  0.16167212],\n",
       "        [-0.05503377, -0.17922321,  0.31343752,  0.10025212,  0.23606312,\n",
       "         -0.2717304 , -0.12779766, -0.31043467, -0.15865237,  0.07155487,\n",
       "          0.1526514 , -0.27746648,  0.28708094,  0.08998695, -0.11436644,\n",
       "          0.03314501, -0.05361527, -0.011121  , -0.24920835, -0.16838749,\n",
       "          0.26434958, -0.33507782, -0.1022253 , -0.13912109, -0.18611771],\n",
       "        [-0.25514388, -0.3112078 , -0.01423994, -0.05462784,  0.2236433 ,\n",
       "         -0.26393425,  0.32807547,  0.13644293,  0.2552256 , -0.2103574 ,\n",
       "          0.30623955,  0.09547278, -0.26046008, -0.01116368, -0.28030932,\n",
       "          0.01973519, -0.22980526,  0.17939055, -0.20999457,  0.19174808,\n",
       "         -0.07471842,  0.02635154,  0.04213277, -0.22583008,  0.14046574],\n",
       "        [-0.07956699,  0.10737607, -0.3112989 , -0.25336134, -0.31669942,\n",
       "          0.12095478, -0.24134299,  0.17225593, -0.12717973,  0.22663367,\n",
       "          0.01079714,  0.10665363, -0.23198968, -0.04854569, -0.02226016,\n",
       "         -0.27504972,  0.01732975,  0.16304678, -0.17453685,  0.06662619,\n",
       "         -0.26373982, -0.00091916, -0.18467104,  0.00825864,  0.07037985],\n",
       "        [ 0.34361184,  0.31573707, -0.2553881 ,  0.26051682,  0.31039166,\n",
       "          0.29648042, -0.07987645, -0.25358498,  0.28590715, -0.06307602,\n",
       "         -0.08293113, -0.14351921, -0.086366  ,  0.19361609, -0.22369644,\n",
       "          0.03610474,  0.30302495, -0.13785398, -0.23848222, -0.1356266 ,\n",
       "          0.20170552,  0.05430952, -0.2467275 , -0.31457058,  0.14199251],\n",
       "        [-0.10309969,  0.28598237,  0.16538799, -0.1896985 ,  0.11886358,\n",
       "         -0.07584998,  0.08440578, -0.24030244, -0.28243917, -0.1399621 ,\n",
       "          0.21084064,  0.21649992, -0.05708572,  0.13670093, -0.00718546,\n",
       "          0.0465124 , -0.13501114,  0.17621732,  0.21754324, -0.1990305 ,\n",
       "         -0.12783673, -0.26879942, -0.19661093,  0.12102351, -0.07169262],\n",
       "        [-0.3255334 ,  0.32728982, -0.13472503,  0.11328375,  0.0907144 ,\n",
       "         -0.33737293, -0.3144272 ,  0.12456399, -0.18010454, -0.17621006,\n",
       "         -0.31979707, -0.33814737,  0.27506143, -0.27292466,  0.07370725,\n",
       "          0.20782882,  0.24615896, -0.15294337, -0.26534963, -0.09490943,\n",
       "         -0.18512785, -0.2103749 ,  0.32313085, -0.13848019,  0.21581101],\n",
       "        [-0.1823197 , -0.03368551, -0.07573989,  0.08726615, -0.04076186,\n",
       "          0.2544517 , -0.2987234 , -0.10143821, -0.08501208, -0.25119144,\n",
       "          0.09803498, -0.01689118, -0.01630825,  0.12495711,  0.08774072,\n",
       "          0.13806325,  0.06331083, -0.11524695, -0.00835907, -0.1985277 ,\n",
       "          0.2710439 , -0.2647733 , -0.05204341,  0.19916445,  0.321325  ],\n",
       "        [-0.17825839, -0.24715292, -0.33261985, -0.10886806,  0.24838865,\n",
       "          0.33860207, -0.32826814, -0.02380154,  0.3118571 , -0.10295713,\n",
       "          0.08835369, -0.14164184, -0.21226855, -0.23308781,  0.1944477 ,\n",
       "          0.31607288, -0.22904444,  0.15097523,  0.01854762, -0.0541479 ,\n",
       "         -0.12318498,  0.21490955, -0.18012469,  0.3090095 ,  0.34243464],\n",
       "        [-0.07723793,  0.30198783,  0.02819246, -0.11522168,  0.18464935,\n",
       "          0.31497723,  0.01571205,  0.25593984, -0.19560398, -0.13440946,\n",
       "          0.24642223, -0.00957498,  0.34271234,  0.1988284 , -0.23476467,\n",
       "         -0.07316083,  0.3411376 , -0.27686274,  0.10592008,  0.08768207,\n",
       "          0.2802863 ,  0.26509547, -0.09404173, -0.03707674, -0.186095  ],\n",
       "        [-0.09940583, -0.22071855,  0.11670262,  0.16579854,  0.22461635,\n",
       "          0.33222574, -0.28241143,  0.15778172, -0.16293758,  0.25600803,\n",
       "          0.09574184,  0.32445484,  0.26124328, -0.22734323,  0.08252084,\n",
       "          0.06012216,  0.24970615,  0.1378606 , -0.12361915, -0.29611784,\n",
       "         -0.16671973, -0.0186792 ,  0.31690753, -0.0515596 ,  0.10291955]],\n",
       "       dtype=float32),\n",
       " array([0., 0., 0., 0., 0., 0., 0., 0., 0., 0., 0., 0., 0., 0., 0., 0., 0.,\n",
       "        0., 0., 0., 0., 0., 0., 0., 0.], dtype=float32),\n",
       " array([[ 0.08315378,  0.13769403,  0.10550109, -0.27494958, -0.23951545,\n",
       "          0.04041073,  0.29492053,  0.00496328,  0.3655965 ,  0.25609002],\n",
       "        [ 0.00061342,  0.01318434, -0.2018874 , -0.19187368, -0.06161296,\n",
       "          0.3406978 ,  0.07197791, -0.39834717,  0.0764313 , -0.34905824],\n",
       "        [-0.12739879, -0.21457145,  0.31683215, -0.39107653, -0.08383206,\n",
       "         -0.4065374 , -0.18945675,  0.30094066, -0.28159466, -0.20557597],\n",
       "        [ 0.13338295, -0.02090028, -0.39011228,  0.18050799, -0.30738318,\n",
       "         -0.00172958, -0.3905723 , -0.11538807, -0.3337024 ,  0.07102019],\n",
       "        [ 0.30481097, -0.2606411 , -0.04277879,  0.09466591,  0.2040467 ,\n",
       "          0.34631982, -0.18299568, -0.1205627 ,  0.0617944 , -0.3799186 ],\n",
       "        [ 0.16795865, -0.16833428, -0.40510833, -0.11742327,  0.34439114,\n",
       "          0.18158504, -0.0956488 ,  0.11907706,  0.14237747, -0.3095334 ],\n",
       "        [ 0.3403345 ,  0.29370233, -0.3890136 ,  0.002527  ,  0.14469013,\n",
       "         -0.17908105, -0.27003825, -0.00127146, -0.30013978, -0.03252581],\n",
       "        [ 0.10572025, -0.15156817,  0.21356782,  0.34733894, -0.18371393,\n",
       "         -0.18896604, -0.22172362, -0.1187883 ,  0.38452533, -0.09538463],\n",
       "        [-0.00500631,  0.22431234,  0.24701837, -0.22648591,  0.17655632,\n",
       "          0.19392565, -0.12658203, -0.16101971, -0.07822189, -0.04303151],\n",
       "        [ 0.00262037,  0.11894497,  0.29158804,  0.23319921,  0.10756561,\n",
       "         -0.0384399 , -0.02759382,  0.06027874,  0.2671834 , -0.04878786],\n",
       "        [ 0.28202912, -0.25067937,  0.4073666 ,  0.19618782,  0.07343552,\n",
       "          0.03226224,  0.2828754 ,  0.27722654, -0.27986863, -0.16144991],\n",
       "        [-0.34046492,  0.21899393, -0.394981  ,  0.0283559 , -0.20077093,\n",
       "         -0.15912756,  0.21702716, -0.18387069, -0.0787048 , -0.20020491],\n",
       "        [ 0.10582289, -0.2012344 ,  0.08873215, -0.26053783, -0.26227325,\n",
       "          0.26032898, -0.09664354, -0.20750268,  0.01168585,  0.25761834],\n",
       "        [-0.04605445,  0.1870546 , -0.0347991 ,  0.00788808,  0.06660131,\n",
       "         -0.03751779, -0.03176638, -0.16017827, -0.17685464,  0.4069387 ],\n",
       "        [ 0.16279963,  0.0216971 ,  0.35448626, -0.37639964, -0.3332569 ,\n",
       "         -0.24996519,  0.23683617, -0.16540512, -0.34581873,  0.0106439 ],\n",
       "        [-0.27488977, -0.23033598,  0.27409276,  0.11093089,  0.30736592,\n",
       "          0.411783  , -0.10819423, -0.22701542,  0.33612534, -0.3836301 ],\n",
       "        [ 0.04777849, -0.20584092,  0.37157705, -0.20893256, -0.10961977,\n",
       "          0.31017265, -0.22001961, -0.16332766,  0.19801179,  0.10310814],\n",
       "        [ 0.3405923 ,  0.10666957,  0.10858819,  0.39498594,  0.16422161,\n",
       "         -0.05684069, -0.11536527, -0.30835474,  0.08964911, -0.33678377],\n",
       "        [ 0.27663276,  0.35807392,  0.06049967,  0.20939752,  0.14386687,\n",
       "          0.09497735, -0.04119423,  0.2219018 , -0.40212932,  0.1284056 ],\n",
       "        [-0.14704153, -0.13662821, -0.02197438,  0.3778533 , -0.38868704,\n",
       "          0.2261931 ,  0.38633564,  0.205681  ,  0.29324725,  0.04689392],\n",
       "        [ 0.24054751,  0.07596144,  0.36452278,  0.13236591, -0.08610436,\n",
       "         -0.14186847, -0.13164854, -0.17814928,  0.29079637, -0.06616014],\n",
       "        [-0.3688674 , -0.36169153, -0.39512333,  0.3017269 ,  0.10199967,\n",
       "         -0.23710385, -0.15868077, -0.34613883, -0.35397187,  0.3339691 ],\n",
       "        [-0.04603034, -0.24887203,  0.34112552, -0.33417484, -0.20390789,\n",
       "         -0.37516707, -0.00270736,  0.15268889, -0.02915508, -0.26704037],\n",
       "        [ 0.1833857 , -0.24313226,  0.27293888,  0.33594736, -0.2951775 ,\n",
       "         -0.13884535, -0.11898109, -0.17371985,  0.24981257, -0.2809555 ],\n",
       "        [ 0.28593186, -0.15078646,  0.31541255,  0.3797187 , -0.10768843,\n",
       "          0.2826657 ,  0.06886542,  0.41319057, -0.22645254,  0.3397002 ]],\n",
       "       dtype=float32),\n",
       " array([0., 0., 0., 0., 0., 0., 0., 0., 0., 0.], dtype=float32)]"
      ]
     },
     "execution_count": 16,
     "metadata": {},
     "output_type": "execute_result"
    }
   ],
   "source": [
    "# pesoas aleatórios iniciais\n",
    "pesos_iniciais"
   ]
  },
  {
   "cell_type": "markdown",
   "metadata": {},
   "source": [
    "## Treinamento\n",
    "\n",
    "Agora vem a parte de treinamento da rede neural. Para isso, basta usar o método ``.fit()`` e definir a quantidade de epochs, conjunto de treino e conjunto de validação. O parâmetro ``verbose`` define se informações de treinamento devem ser exibidas na tela a cada epoch."
   ]
  },
  {
   "cell_type": "code",
   "execution_count": 17,
   "metadata": {
    "scrolled": true
   },
   "outputs": [
    {
     "name": "stdout",
     "output_type": "stream",
     "text": [
      "Epoch 1/100\n",
      "1688/1688 [==============================] - 1s 624us/step - loss: 0.4192 - val_loss: 0.2464\n",
      "Epoch 2/100\n",
      "1688/1688 [==============================] - 1s 556us/step - loss: 0.2074 - val_loss: 0.1656\n",
      "Epoch 3/100\n",
      "1688/1688 [==============================] - 1s 553us/step - loss: 0.1681 - val_loss: 0.1545\n",
      "Epoch 4/100\n",
      "1688/1688 [==============================] - 1s 556us/step - loss: 0.1475 - val_loss: 0.1417\n",
      "Epoch 5/100\n",
      "1688/1688 [==============================] - 1s 561us/step - loss: 0.1317 - val_loss: 0.1379\n",
      "Epoch 6/100\n",
      "1688/1688 [==============================] - 1s 561us/step - loss: 0.1229 - val_loss: 0.1359\n",
      "Epoch 7/100\n",
      "1688/1688 [==============================] - 1s 562us/step - loss: 0.1140 - val_loss: 0.1371\n",
      "Epoch 8/100\n",
      "1688/1688 [==============================] - 1s 558us/step - loss: 0.1083 - val_loss: 0.1338\n",
      "Epoch 9/100\n",
      "1688/1688 [==============================] - 1s 551us/step - loss: 0.1023 - val_loss: 0.1351\n",
      "Epoch 10/100\n",
      "1688/1688 [==============================] - 1s 556us/step - loss: 0.0988 - val_loss: 0.1557\n",
      "Epoch 11/100\n",
      "1688/1688 [==============================] - 1s 558us/step - loss: 0.0949 - val_loss: 0.1385\n",
      "Epoch 12/100\n",
      "1688/1688 [==============================] - 1s 552us/step - loss: 0.0911 - val_loss: 0.1623\n",
      "Epoch 13/100\n",
      "1688/1688 [==============================] - 1s 571us/step - loss: 0.0883 - val_loss: 0.1469\n",
      "Epoch 14/100\n",
      "1688/1688 [==============================] - 1s 559us/step - loss: 0.0852 - val_loss: 0.1690\n",
      "Epoch 15/100\n",
      "1688/1688 [==============================] - 1s 556us/step - loss: 0.0837 - val_loss: 0.1551\n",
      "Epoch 16/100\n",
      "1688/1688 [==============================] - 1s 552us/step - loss: 0.0798 - val_loss: 0.1606\n",
      "Epoch 17/100\n",
      "1688/1688 [==============================] - 1s 558us/step - loss: 0.0793 - val_loss: 0.1666\n",
      "Epoch 18/100\n",
      "1688/1688 [==============================] - 1s 556us/step - loss: 0.0749 - val_loss: 0.1841\n",
      "Epoch 19/100\n",
      "1688/1688 [==============================] - 1s 555us/step - loss: 0.0751 - val_loss: 0.1711\n",
      "Epoch 20/100\n",
      "1688/1688 [==============================] - 1s 556us/step - loss: 0.0735 - val_loss: 0.1744\n",
      "Epoch 21/100\n",
      "1688/1688 [==============================] - 1s 554us/step - loss: 0.0711 - val_loss: 0.1915\n",
      "Epoch 22/100\n",
      "1688/1688 [==============================] - 1s 556us/step - loss: 0.0701 - val_loss: 0.1764\n",
      "Epoch 23/100\n",
      "1688/1688 [==============================] - 1s 564us/step - loss: 0.0687 - val_loss: 0.1790\n",
      "Epoch 24/100\n",
      "1688/1688 [==============================] - 1s 566us/step - loss: 0.0682 - val_loss: 0.2029\n",
      "Epoch 25/100\n",
      "1688/1688 [==============================] - 1s 556us/step - loss: 0.0654 - val_loss: 0.1876\n",
      "Epoch 26/100\n",
      "1688/1688 [==============================] - 1s 559us/step - loss: 0.0643 - val_loss: 0.2035\n",
      "Epoch 27/100\n",
      "1688/1688 [==============================] - 1s 562us/step - loss: 0.0633 - val_loss: 0.2122\n",
      "Epoch 28/100\n",
      "1688/1688 [==============================] - 1s 562us/step - loss: 0.0629 - val_loss: 0.2095\n",
      "Epoch 29/100\n",
      "1688/1688 [==============================] - 1s 562us/step - loss: 0.0620 - val_loss: 0.2231\n",
      "Epoch 30/100\n",
      "1688/1688 [==============================] - 1s 561us/step - loss: 0.0614 - val_loss: 0.2521\n",
      "Epoch 31/100\n",
      "1688/1688 [==============================] - 1s 564us/step - loss: 0.0609 - val_loss: 0.2494\n",
      "Epoch 32/100\n",
      "1688/1688 [==============================] - 1s 562us/step - loss: 0.0593 - val_loss: 0.2505\n",
      "Epoch 33/100\n",
      "1688/1688 [==============================] - 1s 578us/step - loss: 0.0582 - val_loss: 0.2366\n",
      "Epoch 34/100\n",
      "1688/1688 [==============================] - 1s 574us/step - loss: 0.0565 - val_loss: 0.2517\n",
      "Epoch 35/100\n",
      "1688/1688 [==============================] - 1s 582us/step - loss: 0.0580 - val_loss: 0.2360\n",
      "Epoch 36/100\n",
      "1688/1688 [==============================] - 1s 562us/step - loss: 0.0575 - val_loss: 0.2619\n",
      "Epoch 37/100\n",
      "1688/1688 [==============================] - 1s 563us/step - loss: 0.0568 - val_loss: 0.2774\n",
      "Epoch 38/100\n",
      "1688/1688 [==============================] - 1s 559us/step - loss: 0.0565 - val_loss: 0.2788\n",
      "Epoch 39/100\n",
      "1688/1688 [==============================] - 1s 557us/step - loss: 0.0576 - val_loss: 0.2907\n",
      "Epoch 40/100\n",
      "1688/1688 [==============================] - 1s 557us/step - loss: 0.0566 - val_loss: 0.2884\n",
      "Epoch 41/100\n",
      "1688/1688 [==============================] - 1s 555us/step - loss: 0.0543 - val_loss: 0.3179\n",
      "Epoch 42/100\n",
      "1688/1688 [==============================] - 1s 555us/step - loss: 0.0556 - val_loss: 0.3004\n",
      "Epoch 43/100\n",
      "1688/1688 [==============================] - 1s 564us/step - loss: 0.0555 - val_loss: 0.3069\n",
      "Epoch 44/100\n",
      "1688/1688 [==============================] - 1s 560us/step - loss: 0.0547 - val_loss: 0.2956\n",
      "Epoch 45/100\n",
      "1688/1688 [==============================] - 1s 554us/step - loss: 0.0518 - val_loss: 0.3018\n",
      "Epoch 46/100\n",
      "1688/1688 [==============================] - 1s 543us/step - loss: 0.0520 - val_loss: 0.3120\n",
      "Epoch 47/100\n",
      "1688/1688 [==============================] - 1s 546us/step - loss: 0.0540 - val_loss: 0.2945\n",
      "Epoch 48/100\n",
      "1688/1688 [==============================] - 1s 540us/step - loss: 0.0527 - val_loss: 0.3004\n",
      "Epoch 49/100\n",
      "1688/1688 [==============================] - 1s 550us/step - loss: 0.0517 - val_loss: 0.3353\n",
      "Epoch 50/100\n",
      "1688/1688 [==============================] - 1s 558us/step - loss: 0.0494 - val_loss: 0.3245\n",
      "Epoch 51/100\n",
      "1688/1688 [==============================] - 1s 553us/step - loss: 0.0538 - val_loss: 0.3439\n",
      "Epoch 52/100\n",
      "1688/1688 [==============================] - 1s 548us/step - loss: 0.0509 - val_loss: 0.3354\n",
      "Epoch 53/100\n",
      "1688/1688 [==============================] - 1s 545us/step - loss: 0.0519 - val_loss: 0.3333\n",
      "Epoch 54/100\n",
      "1688/1688 [==============================] - 1s 545us/step - loss: 0.0497 - val_loss: 0.3651\n",
      "Epoch 55/100\n",
      "1688/1688 [==============================] - 1s 548us/step - loss: 0.0530 - val_loss: 0.3525\n",
      "Epoch 56/100\n",
      "1688/1688 [==============================] - 1s 558us/step - loss: 0.0510 - val_loss: 0.3338\n",
      "Epoch 57/100\n",
      "1688/1688 [==============================] - 1s 548us/step - loss: 0.0498 - val_loss: 0.3288\n",
      "Epoch 58/100\n",
      "1688/1688 [==============================] - 1s 546us/step - loss: 0.0491 - val_loss: 0.3699\n",
      "Epoch 59/100\n",
      "1688/1688 [==============================] - 1s 545us/step - loss: 0.0487 - val_loss: 0.3706\n",
      "Epoch 60/100\n",
      "1688/1688 [==============================] - 1s 549us/step - loss: 0.0485 - val_loss: 0.3981\n",
      "Epoch 61/100\n",
      "1688/1688 [==============================] - 1s 545us/step - loss: 0.0481 - val_loss: 0.4187\n",
      "Epoch 62/100\n",
      "1688/1688 [==============================] - 1s 545us/step - loss: 0.0509 - val_loss: 0.3845\n",
      "Epoch 63/100\n",
      "1688/1688 [==============================] - 1s 559us/step - loss: 0.0499 - val_loss: 0.3951\n",
      "Epoch 64/100\n",
      "1688/1688 [==============================] - 1s 549us/step - loss: 0.0500 - val_loss: 0.4228\n",
      "Epoch 65/100\n",
      "1688/1688 [==============================] - 1s 550us/step - loss: 0.0478 - val_loss: 0.3683\n",
      "Epoch 66/100\n",
      "1688/1688 [==============================] - 1s 552us/step - loss: 0.0459 - val_loss: 0.4059\n",
      "Epoch 67/100\n",
      "1688/1688 [==============================] - 1s 555us/step - loss: 0.0471 - val_loss: 0.4159\n",
      "Epoch 68/100\n",
      "1688/1688 [==============================] - 1s 553us/step - loss: 0.0466 - val_loss: 0.4223\n",
      "Epoch 69/100\n",
      "1688/1688 [==============================] - 1s 552us/step - loss: 0.0482 - val_loss: 0.4252\n",
      "Epoch 70/100\n",
      "1688/1688 [==============================] - 1s 552us/step - loss: 0.0457 - val_loss: 0.4263\n",
      "Epoch 71/100\n",
      "1688/1688 [==============================] - 1s 552us/step - loss: 0.0455 - val_loss: 0.4608\n",
      "Epoch 72/100\n",
      "1688/1688 [==============================] - 1s 561us/step - loss: 0.0462 - val_loss: 0.4583\n",
      "Epoch 73/100\n",
      "1688/1688 [==============================] - 1s 570us/step - loss: 0.0480 - val_loss: 0.4451\n",
      "Epoch 74/100\n",
      "1688/1688 [==============================] - 1s 553us/step - loss: 0.0454 - val_loss: 0.4600\n",
      "Epoch 75/100\n",
      "1688/1688 [==============================] - 1s 555us/step - loss: 0.0477 - val_loss: 0.4266\n",
      "Epoch 76/100\n",
      "1688/1688 [==============================] - 1s 572us/step - loss: 0.0484 - val_loss: 0.5689\n",
      "Epoch 77/100\n",
      "1688/1688 [==============================] - 1s 644us/step - loss: 0.0471 - val_loss: 0.4980\n",
      "Epoch 78/100\n"
     ]
    },
    {
     "name": "stdout",
     "output_type": "stream",
     "text": [
      "1688/1688 [==============================] - 1s 559us/step - loss: 0.0465 - val_loss: 0.4950\n",
      "Epoch 79/100\n",
      "1688/1688 [==============================] - 1s 550us/step - loss: 0.0494 - val_loss: 0.5155\n",
      "Epoch 80/100\n",
      "1688/1688 [==============================] - 1s 552us/step - loss: 0.0462 - val_loss: 0.4877\n",
      "Epoch 81/100\n",
      "1688/1688 [==============================] - 1s 551us/step - loss: 0.0470 - val_loss: 0.4928\n",
      "Epoch 82/100\n",
      "1688/1688 [==============================] - 1s 556us/step - loss: 0.0440 - val_loss: 0.5982\n",
      "Epoch 83/100\n",
      "1688/1688 [==============================] - 1s 554us/step - loss: 0.0479 - val_loss: 0.5441\n",
      "Epoch 84/100\n",
      "1688/1688 [==============================] - 1s 553us/step - loss: 0.0470 - val_loss: 0.5474\n",
      "Epoch 85/100\n",
      "1688/1688 [==============================] - 1s 551us/step - loss: 0.0469 - val_loss: 0.5901\n",
      "Epoch 86/100\n",
      "1688/1688 [==============================] - 1s 550us/step - loss: 0.0460 - val_loss: 0.6122\n",
      "Epoch 87/100\n",
      "1688/1688 [==============================] - 1s 549us/step - loss: 0.0462 - val_loss: 0.5744\n",
      "Epoch 88/100\n",
      "1688/1688 [==============================] - 1s 562us/step - loss: 0.0452 - val_loss: 0.5796\n",
      "Epoch 89/100\n",
      "1688/1688 [==============================] - 1s 548us/step - loss: 0.0464 - val_loss: 0.5596\n",
      "Epoch 90/100\n",
      "1688/1688 [==============================] - 1s 548us/step - loss: 0.0451 - val_loss: 0.5680\n",
      "Epoch 91/100\n",
      "1688/1688 [==============================] - 1s 552us/step - loss: 0.0474 - val_loss: 0.5486\n",
      "Epoch 92/100\n",
      "1688/1688 [==============================] - 1s 550us/step - loss: 0.0448 - val_loss: 0.5782\n",
      "Epoch 93/100\n",
      "1688/1688 [==============================] - 1s 550us/step - loss: 0.0427 - val_loss: 0.6662\n",
      "Epoch 94/100\n",
      "1688/1688 [==============================] - 1s 552us/step - loss: 0.0448 - val_loss: 0.6073\n",
      "Epoch 95/100\n",
      "1688/1688 [==============================] - 1s 551us/step - loss: 0.0438 - val_loss: 0.6151\n",
      "Epoch 96/100\n",
      "1688/1688 [==============================] - 1s 550us/step - loss: 0.0451 - val_loss: 0.6177\n",
      "Epoch 97/100\n",
      "1688/1688 [==============================] - 1s 551us/step - loss: 0.0464 - val_loss: 0.6183\n",
      "Epoch 98/100\n",
      "1688/1688 [==============================] - 1s 551us/step - loss: 0.0467 - val_loss: 0.6263\n",
      "Epoch 99/100\n",
      "1688/1688 [==============================] - 1s 552us/step - loss: 0.0469 - val_loss: 0.6140\n",
      "Epoch 100/100\n",
      "1688/1688 [==============================] - 1s 559us/step - loss: 0.0476 - val_loss: 0.5930\n"
     ]
    }
   ],
   "source": [
    "historico = rede_simples.fit(X_train, \n",
    "                             y_train, \n",
    "                             epochs = 100, \n",
    "                             verbose = 1,\n",
    "                             validation_data = (X_val, y_val))"
   ]
  },
  {
   "cell_type": "markdown",
   "metadata": {},
   "source": [
    "O que está acontecendo acima?\n",
    "\n",
    "O treinamento de uma rede neural (e de todo modelo de machine learning, na verdade) consiste em um **problema de otimização**, em que queremos encontrar **o valor mínimo da função de perda**\n",
    "\n",
    "No nosso caso, a função de perda é a \"__categorical crossentropy__, cuja expressão matemática é:\n",
    "\n",
    "$$ L(y, \\hat{y}) = - \\sum_i{y_i \\log \\hat{y}_i}$$, \n",
    "\n",
    "onde $\\hat{y}$, a previsão do modelo, é uma expressão bem complicada, que relaciona todos os pesos e funções de ativação de toda a rede neural.\n",
    "\n",
    "Como mencionamos, as redes neurais utilizam o procedimento de **Backward Propagation** em seu treinamento (cujo objetivo é **determinar os pesos**):\n",
    "\n",
    "<img src=\"https://machinelearningknowledge.ai/wp-content/uploads/2019/10/Backpropagation.gif\" width=600>\n",
    "\n",
    "Matematicamente, o Backward Propagation é implementado através de algum **método de otimização**, com o fim de **determinar os pesos que minimizam a função de perda**. O principal método utilizado para este fim é o **gradiente descendente**:\n",
    "\n",
    "<img src=\"https://thumbs.gfycat.com/AngryInconsequentialDiplodocus-size_restricted.gif\" width=1000>\n",
    "\n",
    "Então, o que está acontecendo acima, é que **em cada epoch**, o Keras faz o Forward Propagation, avalia as predições, e depois segue com o Backward Propagation para atualizar os pesos. Este processo é realizado pelo número de vezes (epochs) que determinarmos!"
   ]
  },
  {
   "cell_type": "markdown",
   "metadata": {},
   "source": [
    "Após o __modelo treinado__, agora devemos **fazer predições** e **avaliar a performance**:"
   ]
  },
  {
   "cell_type": "code",
   "execution_count": null,
   "metadata": {},
   "outputs": [],
   "source": [
    "# obs: o método .predict() dá as probabilidades! dê uma olhada..."
   ]
  },
  {
   "cell_type": "code",
   "execution_count": 18,
   "metadata": {
    "scrolled": true
   },
   "outputs": [
    {
     "name": "stdout",
     "output_type": "stream",
     "text": [
      "WARNING:tensorflow:From C:\\Users\\ITXGAM~1\\AppData\\Local\\Temp/ipykernel_3312/2167696249.py:3: Sequential.predict_classes (from tensorflow.python.keras.engine.sequential) is deprecated and will be removed after 2021-01-01.\n",
      "Instructions for updating:\n",
      "Please use instead:* `np.argmax(model.predict(x), axis=-1)`,   if your model does multi-class classification   (e.g. if it uses a `softmax` last-layer activation).* `(model.predict(x) > 0.5).astype(\"int32\")`,   if your model does binary classification   (e.g. if it uses a `sigmoid` last-layer activation).\n"
     ]
    }
   ],
   "source": [
    "# método pra predizer as classes finais\n",
    "\n",
    "y_pred = rede_simples.predict_classes(X_test)"
   ]
  },
  {
   "cell_type": "code",
   "execution_count": 19,
   "metadata": {},
   "outputs": [
    {
     "data": {
      "text/plain": [
       "array([7, 2, 1, ..., 4, 5, 6], dtype=int64)"
      ]
     },
     "execution_count": 19,
     "metadata": {},
     "output_type": "execute_result"
    }
   ],
   "source": [
    "y_pred"
   ]
  },
  {
   "cell_type": "code",
   "execution_count": 20,
   "metadata": {},
   "outputs": [
    {
     "data": {
      "text/plain": [
       "array([[0., 0., 0., ..., 1., 0., 0.],\n",
       "       [0., 0., 1., ..., 0., 0., 0.],\n",
       "       [0., 1., 0., ..., 0., 0., 0.],\n",
       "       ...,\n",
       "       [0., 0., 0., ..., 0., 0., 0.],\n",
       "       [0., 0., 0., ..., 0., 0., 0.],\n",
       "       [0., 0., 0., ..., 0., 0., 0.]])"
      ]
     },
     "execution_count": 20,
     "metadata": {},
     "output_type": "execute_result"
    }
   ],
   "source": [
    "y_test"
   ]
  },
  {
   "cell_type": "code",
   "execution_count": 21,
   "metadata": {},
   "outputs": [],
   "source": [
    "# voltando o y_test pra valores nunéricos\n",
    "\n",
    "y_test = np.argmax(y_test, axis=1)"
   ]
  },
  {
   "cell_type": "code",
   "execution_count": 22,
   "metadata": {},
   "outputs": [
    {
     "data": {
      "text/plain": [
       "array([7, 2, 1, ..., 4, 5, 6], dtype=int64)"
      ]
     },
     "execution_count": 22,
     "metadata": {},
     "output_type": "execute_result"
    }
   ],
   "source": [
    "y_test"
   ]
  },
  {
   "cell_type": "code",
   "execution_count": 23,
   "metadata": {},
   "outputs": [
    {
     "name": "stdout",
     "output_type": "stream",
     "text": [
      "              precision    recall  f1-score   support\n",
      "\n",
      "           0       0.96      0.98      0.97       980\n",
      "           1       0.99      0.98      0.99      1135\n",
      "           2       0.95      0.95      0.95      1032\n",
      "           3       0.93      0.96      0.94      1010\n",
      "           4       0.95      0.96      0.96       982\n",
      "           5       0.95      0.95      0.95       892\n",
      "           6       0.98      0.95      0.96       958\n",
      "           7       0.95      0.95      0.95      1028\n",
      "           8       0.95      0.93      0.94       974\n",
      "           9       0.96      0.95      0.95      1009\n",
      "\n",
      "    accuracy                           0.96     10000\n",
      "   macro avg       0.96      0.96      0.96     10000\n",
      "weighted avg       0.96      0.96      0.96     10000\n",
      "\n"
     ]
    }
   ],
   "source": [
    "from mlxtend.plotting import plot_confusion_matrix\n",
    "from sklearn.metrics import classification_report, confusion_matrix\n",
    "\n",
    "print(classification_report(y_test, y_pred))"
   ]
  },
  {
   "cell_type": "code",
   "execution_count": 24,
   "metadata": {},
   "outputs": [
    {
     "name": "stdout",
     "output_type": "stream",
     "text": [
      "Matriz de confusão do modelo nos dados de teste:\n",
      "\n"
     ]
    },
    {
     "data": {
      "image/png": "[encoded data removed]",
      "text/plain": [
       "<Figure size 432x288 with 1 Axes>"
      ]
     },
     "metadata": {
      "needs_background": "light"
     },
     "output_type": "display_data"
    }
   ],
   "source": [
    "cm = confusion_matrix(y_test, y_pred)\n",
    "\n",
    "print(\"Matriz de confusão do modelo nos dados de teste:\\n\")\n",
    "plot_confusion_matrix(conf_mat=cm)\n",
    "plt.show()"
   ]
  },
  {
   "cell_type": "markdown",
   "metadata": {},
   "source": [
    "O modelo teve uma performance muito boa, com uma acurácia de 96%, mas algumas coisas devem ser observadas a partir desse resultado como por exemplo a possibilidade de __Overfitting!__"
   ]
  },
  {
   "cell_type": "markdown",
   "metadata": {},
   "source": [
    "O **Overfitting** é algo que pode ser bastante comum em redes neurais se não for bem tratado, porque ele é um modelo altamente não linear. Relembrando, o overfitting está intimamente relacionado com o tradeoff viés-variância:\n",
    "\n",
    "<img src=\"https://www.learnopencv.com/wp-content/uploads/2017/02/Bias-Variance-Tradeoff-In-Machine-Learning-1.png\" width=600>\n",
    "\n",
    "Podemos visualizar esta característica em nosso modelo ao **plotar** o valor da **função de perda** a cada epoch:"
   ]
  },
  {
   "cell_type": "code",
   "execution_count": 25,
   "metadata": {},
   "outputs": [
    {
     "data": {
      "image/png": "[encoded data removed]",
      "text/plain": [
       "<Figure size 864x432 with 1 Axes>"
      ]
     },
     "metadata": {
      "needs_background": "light"
     },
     "output_type": "display_data"
    }
   ],
   "source": [
    "# valor da função de perda NOS DADOS DE TREINO a cada epoch\n",
    "loss = historico.history['loss']\n",
    "\n",
    "# valor da função de perda NOS DADOS DE VALIDAÇÃO a cada epoch\n",
    "val_loss = historico.history['val_loss']\n",
    "\n",
    "# numero de epochs\n",
    "epochs = range(len(loss))\n",
    "\n",
    "# plot\n",
    "plt.figure(figsize=(12, 6))\n",
    "plt.plot(epochs, loss, 'red', label = 'Training loss')\n",
    "plt.plot(epochs, val_loss, 'blue', label = 'Validation loss')\n",
    "plt.title('Training and validation loss')\n",
    "plt.legend()\n",
    "plt.show()"
   ]
  },
  {
   "cell_type": "markdown",
   "metadata": {},
   "source": [
    "Pelo gráfico, é possível perceber que mais ou menos a partir da 15ª época a função de perda continuou decrescedo pro conjunto de treinamento, mas no conjunto de validação isso se manteve fixo por um tempo e depois começou a perder desempenho.\n",
    "\n",
    "A curva acima é muito parecida com o nosso exemplo do tradeoff vié-variância, não é mesmo?!\n",
    "\n",
    "Temos, portanto, um forte indício que está começando a ocorrer overfitting!\n",
    "\n",
    "Para evitarmos isso, pode ser interessante que o **treinamento seja interrompido antes do overfitting começar a ocorrer**! Esta técnica é conhecida como **early stopping**:\n",
    "<br><br>\n",
    "\n",
    "### Early Stopping\n",
    "\n",
    "Para interromper um treinamento, podemos usar o callback de ``EarlyStopping()``. Esse callback pode receber alguns parâmetros, como o que ele deve monitorar (``monitor``), a diferença mínima que deve ser considerada pra ser um avanço (``min_delta``) e a quantidade de épocas que devem se manter sem avanço até de fato interromper o treinamento (``patience``). No exemplo a seguir, estamos monitorando a função de perda do conjunto de validação, consideramos um avanço mínimo o valor de 0.001 e paciência de 10 épocas. \n",
    "\n",
    "Ou seja, **se a função de perda na validação não tiver uma redução de pelo menos 0.001 por 10 épocas**, o treinamento será interrompido."
   ]
  },
  {
   "cell_type": "code",
   "execution_count": 26,
   "metadata": {
    "scrolled": true
   },
   "outputs": [
    {
     "name": "stdout",
     "output_type": "stream",
     "text": [
      "Epoch 1/150\n",
      "1688/1688 [==============================] - 1s 574us/step - loss: 0.4507 - val_loss: 0.2561\n",
      "Epoch 2/150\n",
      "1688/1688 [==============================] - 1s 575us/step - loss: 0.2180 - val_loss: 0.2033\n",
      "Epoch 3/150\n",
      "1688/1688 [==============================] - 1s 574us/step - loss: 0.1744 - val_loss: 0.1579\n",
      "Epoch 4/150\n",
      "1688/1688 [==============================] - 1s 578us/step - loss: 0.1498 - val_loss: 0.1551\n",
      "Epoch 5/150\n",
      "1688/1688 [==============================] - 1s 572us/step - loss: 0.1365 - val_loss: 0.1629\n",
      "Epoch 6/150\n",
      "1688/1688 [==============================] - 1s 572us/step - loss: 0.1255 - val_loss: 0.1507\n",
      "Epoch 7/150\n",
      "1688/1688 [==============================] - 1s 572us/step - loss: 0.1174 - val_loss: 0.1360\n",
      "Epoch 8/150\n",
      "1688/1688 [==============================] - 1s 574us/step - loss: 0.1115 - val_loss: 0.1499\n",
      "Epoch 9/150\n",
      "1688/1688 [==============================] - 1s 575us/step - loss: 0.1049 - val_loss: 0.1355\n",
      "Epoch 10/150\n",
      "1688/1688 [==============================] - 1s 572us/step - loss: 0.1015 - val_loss: 0.1460\n",
      "Epoch 11/150\n",
      "1688/1688 [==============================] - 1s 572us/step - loss: 0.0984 - val_loss: 0.1451\n",
      "Epoch 12/150\n",
      "1688/1688 [==============================] - 1s 572us/step - loss: 0.0955 - val_loss: 0.1446\n",
      "Epoch 13/150\n",
      "1688/1688 [==============================] - 1s 574us/step - loss: 0.0920 - val_loss: 0.1508\n",
      "Epoch 14/150\n",
      "1688/1688 [==============================] - 1s 573us/step - loss: 0.0882 - val_loss: 0.1453\n",
      "Epoch 15/150\n",
      "1688/1688 [==============================] - 1s 571us/step - loss: 0.0855 - val_loss: 0.1448\n",
      "Epoch 16/150\n",
      "1688/1688 [==============================] - 1s 574us/step - loss: 0.0838 - val_loss: 0.1378\n",
      "Epoch 17/150\n",
      "1688/1688 [==============================] - 1s 571us/step - loss: 0.0804 - val_loss: 0.1474\n",
      "Epoch 00017: early stopping\n"
     ]
    }
   ],
   "source": [
    "from tensorflow.keras.callbacks import EarlyStopping\n",
    "\n",
    "early_stop = EarlyStopping(monitor = 'val_loss', \n",
    "                           min_delta = 0.001,\n",
    "                           patience = 10, \n",
    "                           verbose = 1, mode = 'auto')\n",
    "\n",
    "# setamos os pesos iniciais iguais à versão antes do treinamento pra ter um comparativo mais real.\n",
    "rede_simples.set_weights(pesos_iniciais)\n",
    "\n",
    "# treinando a rede neural novamente\n",
    "# note o argumento \"callbacks\", ao qual passamos o objeto de early_stop\n",
    "historico = rede_simples.fit(X_train, \n",
    "                             y_train, \n",
    "                             epochs = 150, \n",
    "                             verbose = 1,\n",
    "                             validation_data = (X_val, y_val),\n",
    "                             callbacks = [early_stop])"
   ]
  },
  {
   "cell_type": "code",
   "execution_count": 27,
   "metadata": {},
   "outputs": [
    {
     "data": {
      "image/png": "[encoded data removed]",
      "text/plain": [
       "<Figure size 864x432 with 1 Axes>"
      ]
     },
     "metadata": {
      "needs_background": "light"
     },
     "output_type": "display_data"
    }
   ],
   "source": [
    "# valor da função de perda NOS DADOS DE TREINO a cada epoch\n",
    "loss = historico.history['loss']\n",
    "\n",
    "# valor da função de perda NOS DADOS DE VALIDAÇÃO a cada epoch\n",
    "val_loss = historico.history['val_loss']\n",
    "\n",
    "# numero de epochs\n",
    "epochs = range(len(loss))\n",
    "\n",
    "# plot\n",
    "plt.figure(figsize=(12, 6))\n",
    "plt.plot(epochs, loss, 'red', label = 'Training loss')\n",
    "plt.plot(epochs, val_loss, 'blue', label = 'Validation loss')\n",
    "plt.title('Training and validation loss')\n",
    "plt.legend()\n",
    "plt.show()"
   ]
  },
  {
   "cell_type": "markdown",
   "metadata": {},
   "source": [
    "É possível perceber que o treinamento foi interrompido pouco depois da __epoch 15__, bem antes do total de epochs definido inicialmente. Vamos agora fazer predições e avaliar o modelo:"
   ]
  },
  {
   "cell_type": "code",
   "execution_count": 28,
   "metadata": {},
   "outputs": [
    {
     "name": "stdout",
     "output_type": "stream",
     "text": [
      "Matriz de confusão do modelo nos dados de teste:\n",
      "\n"
     ]
    },
    {
     "data": {
      "image/png": "[encoded data removed]",
      "text/plain": [
       "<Figure size 432x288 with 1 Axes>"
      ]
     },
     "metadata": {
      "needs_background": "light"
     },
     "output_type": "display_data"
    },
    {
     "name": "stdout",
     "output_type": "stream",
     "text": [
      "              precision    recall  f1-score   support\n",
      "\n",
      "           0       0.96      0.98      0.97       980\n",
      "           1       0.99      0.99      0.99      1135\n",
      "           2       0.97      0.93      0.95      1032\n",
      "           3       0.96      0.95      0.96      1010\n",
      "           4       0.93      0.98      0.96       982\n",
      "           5       0.95      0.95      0.95       892\n",
      "           6       0.96      0.96      0.96       958\n",
      "           7       0.94      0.97      0.96      1028\n",
      "           8       0.96      0.92      0.94       974\n",
      "           9       0.96      0.94      0.95      1009\n",
      "\n",
      "    accuracy                           0.96     10000\n",
      "   macro avg       0.96      0.96      0.96     10000\n",
      "weighted avg       0.96      0.96      0.96     10000\n",
      "\n"
     ]
    }
   ],
   "source": [
    "y_pred = rede_simples.predict_classes(X_test)\n",
    "\n",
    "cm = confusion_matrix(y_test, y_pred)\n",
    "\n",
    "print(\"Matriz de confusão do modelo nos dados de teste:\\n\")\n",
    "plot_confusion_matrix(conf_mat=cm)\n",
    "plt.show()\n",
    "\n",
    "print(classification_report(y_test, y_pred))"
   ]
  },
  {
   "cell_type": "markdown",
   "metadata": {},
   "source": [
    "Agora garantindo que não houvesse o deslocamento entre o __treino__ e a __validação__ obtemos uma resultado muito bom para o nosso modeolo, e isso é um forte indicativo de que o Early Stopping ajudou a evitar o Overfitting."
   ]
  },
  {
   "cell_type": "markdown",
   "metadata": {},
   "source": [
    "Vimos acima uma forma de evitar o Overfitting em Redes Neurais, mas esta definitivamente não é a única maneira! Existem inúmeras técnicas para mitigar este problema, entre elas a aplicação de **técnicas de regularização** (leia sobre isso [aqui](https://towardsdatascience.com/how-to-improve-a-neural-network-with-regularization-8a18ecda9fe3) e [aqui](https://towardsdatascience.com/regularization-techniques-and-their-implementation-in-tensorflow-keras-c06e7551e709))), cuja implementação existe no Keras! (mais informações [aqui](https://keras.io/api/layers/regularization_layers/) e [aqui](https://keras.io/api/layers/regularizers/)))"
   ]
  },
  {
   "cell_type": "markdown",
   "metadata": {},
   "source": [
    "##   "
   ]
  },
  {
   "cell_type": "markdown",
   "metadata": {},
   "source": [
    "## Exercício"
   ]
  },
  {
   "cell_type": "markdown",
   "metadata": {},
   "source": [
    "__1)__ Refaça o exercício exemplo da aula para fixar conceitos!"
   ]
  },
  {
   "cell_type": "markdown",
   "metadata": {},
   "source": [
    "__2)__ Preencha os códigos nos __locais indicados!!!__\n",
    "\n",
    "O exercicio será montar uma Rede Neural de uma importante base de dados, muito conhecida também, chamada de __Fashion MNIST__, onde queremos classificar roupas em algumas categorias. Está base de dados contém 70,000 imagens em tons de cinza em 10 categorias. As imagens mostram artigos individuais de roupas com baixa resolução (28 por 28 pixels), como vemos aqui:\n",
    "\n",
    "<img src=\"https://tensorflow.org/images/fashion-mnist-sprite.png\" width=\"600\">"
   ]
  },
  {
   "cell_type": "code",
   "execution_count": null,
   "metadata": {},
   "outputs": [],
   "source": [
    "# TensorFlow e tf.keras\n",
    "import tensorflow\n",
    "import keras\n",
    "\n",
    "# Bibliotecas Auxiliares\n",
    "import pandas as pd\n",
    "import numpy as np\n",
    "import matplotlib.pyplot as plt"
   ]
  },
  {
   "cell_type": "code",
   "execution_count": null,
   "metadata": {},
   "outputs": [],
   "source": [
    "#Baixando a nossa base de dados\n",
    "\n",
    "fashion_mnist = keras.datasets.fashion_mnist\n",
    "\n",
    "(train_images, train_labels), (test_images, test_labels) = fashion_mnist.load_data()"
   ]
  },
  {
   "cell_type": "markdown",
   "metadata": {},
   "source": [
    "Carregamos 4 arrays NumPy divididos em treino e teste, e além disso as imagens são arrays NumPy de 28x28, com os valores de pixels entre 0 to 255. As labels (alvo da classificação) são um array de inteiros, no intervalo de 0 a 9. Esse corresponde com a classe de roupa que cada imagem representa:\n",
    "\n",
    "<table>\n",
    "  <tr>\n",
    "    <th>Label</th>\n",
    "    <th>Classe</th>\n",
    "  </tr>\n",
    "  <tr>\n",
    "    <td>0</td>\n",
    "    <td>Camisetas/Top (T-shirt/top)</td>\n",
    "  </tr>\n",
    "  <tr>\n",
    "    <td>1</td>\n",
    "    <td>Calça (Trouser)</td>\n",
    "  </tr>\n",
    "    <tr>\n",
    "    <td>2</td>\n",
    "    <td>Suéter (Pullover)</td>\n",
    "  </tr>\n",
    "    <tr>\n",
    "    <td>3</td>\n",
    "    <td>Vestidos (Dress)</td>\n",
    "  </tr>\n",
    "    <tr>\n",
    "    <td>4</td>\n",
    "    <td>Casaco (Coat)</td>\n",
    "  </tr>\n",
    "    <tr>\n",
    "    <td>5</td>\n",
    "    <td>Sandálias (Sandal)</td>\n",
    "  </tr>\n",
    "    <tr>\n",
    "    <td>6</td>\n",
    "    <td>Camisas (Shirt)</td>\n",
    "  </tr>\n",
    "    <tr>\n",
    "    <td>7</td>\n",
    "    <td>Tênis (Sneaker)</td>\n",
    "  </tr>\n",
    "    <tr>\n",
    "    <td>8</td>\n",
    "    <td>Bolsa (Bag)</td>\n",
    "  </tr>\n",
    "    <tr>\n",
    "    <td>9</td>\n",
    "    <td>Botas (Ankle boot)</td>\n",
    "  </tr>\n",
    "</table>\n"
   ]
  },
  {
   "cell_type": "code",
   "execution_count": null,
   "metadata": {},
   "outputs": [],
   "source": [
    "class_names = ['T-shirt/top', \n",
    "               'Trouser', \n",
    "               'Pullover', \n",
    "               'Dress', \n",
    "               'Coat',\n",
    "               'Sandal', \n",
    "               'Shirt', \n",
    "               'Sneaker', \n",
    "               'Bag', \n",
    "               'Ankle boot']"
   ]
  },
  {
   "cell_type": "code",
   "execution_count": null,
   "metadata": {},
   "outputs": [],
   "source": [
    "train_images.shape"
   ]
  },
  {
   "cell_type": "code",
   "execution_count": null,
   "metadata": {},
   "outputs": [],
   "source": [
    "len(train_labels)"
   ]
  },
  {
   "cell_type": "code",
   "execution_count": null,
   "metadata": {},
   "outputs": [],
   "source": [
    "train_labels"
   ]
  },
  {
   "cell_type": "code",
   "execution_count": null,
   "metadata": {},
   "outputs": [],
   "source": [
    "test_images.shape"
   ]
  },
  {
   "cell_type": "code",
   "execution_count": null,
   "metadata": {},
   "outputs": [],
   "source": [
    "len(test_labels)"
   ]
  },
  {
   "cell_type": "markdown",
   "metadata": {},
   "source": [
    "## Pré-Processamento dos Dados"
   ]
  },
  {
   "cell_type": "code",
   "execution_count": null,
   "metadata": {},
   "outputs": [],
   "source": [
    "plt.figure()\n",
    "plt.imshow(train_images[0])\n",
    "plt.colorbar()\n",
    "plt.grid(False)\n",
    "plt.show()"
   ]
  },
  {
   "cell_type": "code",
   "execution_count": null,
   "metadata": {},
   "outputs": [],
   "source": [
    "# Reshape\n",
    "\n",
    "#Faça o reshape da train_images dividindo por 255. e salvando na mesma variavel\n",
    "### COLOQUE SEU CODIGO AQUI ###\n",
    "\n",
    "#Faça o reshape da test_images dividindo por 255. e salvando na mesma variavel\n",
    "### COLOQUE SEU CODIGO AQUI ###"
   ]
  },
  {
   "cell_type": "code",
   "execution_count": null,
   "metadata": {},
   "outputs": [],
   "source": [
    "# alguns plots da base de teste\n",
    "\n",
    "plt.figure(figsize=(10,10))\n",
    "for i in range(25):\n",
    "    plt.subplot(5,5,i+1)\n",
    "    plt.xticks([])\n",
    "    plt.yticks([])\n",
    "    plt.grid(False)\n",
    "    plt.imshow(train_images[i], cmap=plt.cm.binary)\n",
    "    plt.xlabel(class_names[train_labels[i]])\n",
    "plt.show()"
   ]
  },
  {
   "cell_type": "code",
   "execution_count": null,
   "metadata": {},
   "outputs": [],
   "source": [
    "# Uma outra forma de criarmos a Rede Neural camada a camada é da seguinte forma:\n",
    "\n",
    "model = keras.Sequential([\n",
    "    keras.layers.Flatten(input_shape=(28, 28)),\n",
    "    keras.layers.Dense(128, activation='relu'),\n",
    "    keras.layers.Dense(10, activation='softmax')\n",
    "])"
   ]
  },
  {
   "cell_type": "code",
   "execution_count": null,
   "metadata": {},
   "outputs": [],
   "source": [
    "# Crie um compile() com os seguintes parametros:\n",
    "# optimizer = 'adam'\n",
    "# loss = 'sparse_categorical_crossentropy'\n",
    "# metrics=['accuracy']\n",
    "\n",
    "### COLOQUE SEU CODIGO AQUI ###\n",
    "\n",
    "# Crie o summary() para o modelo\n",
    "### COLOQUE SEU CODIGO AQUI ###"
   ]
  },
  {
   "cell_type": "code",
   "execution_count": null,
   "metadata": {},
   "outputs": [],
   "source": [
    "# Faça o fit do modelo passando train_images, train_labels e epochs = 10\n",
    "### COLOQUE SEU CODIGO AQUI ###"
   ]
  },
  {
   "cell_type": "code",
   "execution_count": null,
   "metadata": {},
   "outputs": [],
   "source": [
    "# Avaliando a acurácia no teste\n",
    "\n",
    "test_loss, test_acc = model.evaluate(test_images,  test_labels, verbose=2)\n",
    "\n",
    "print('\\nTest accuracy:', test_acc)"
   ]
  },
  {
   "cell_type": "code",
   "execution_count": null,
   "metadata": {
    "scrolled": true
   },
   "outputs": [],
   "source": [
    "# crie o pred_labels usando a função predict_classes para o test_images\n",
    "### COLOQUE SEU CODIGO AQUI ###"
   ]
  },
  {
   "cell_type": "code",
   "execution_count": null,
   "metadata": {},
   "outputs": [],
   "source": [
    "from mlxtend.plotting import plot_confusion_matrix\n",
    "from sklearn.metrics import classification_report\n",
    "\n",
    "# Faça o print do classification_report para pred_labels e test_labels\n",
    "### COLOQUE SEU CODIGO AQUI ###"
   ]
  },
  {
   "cell_type": "code",
   "execution_count": null,
   "metadata": {
    "scrolled": true
   },
   "outputs": [],
   "source": [
    "# Crie a matriz de confusão para o pred_labels e test_labels\n",
    "### COLOQUE SEU CODIGO AQUI ###\n",
    "\n",
    "print(\"Matriz de confusão do modelo nos dados de teste:\\n\")\n",
    "plot_confusion_matrix(conf_mat=cm)\n",
    "plt.show()"
   ]
  }
 ],
 "metadata": {
  "kernelspec": {
   "display_name": "Python 3 (ipykernel)",
   "language": "python",
   "name": "python3"
  },
  "language_info": {
   "codemirror_mode": {
    "name": "ipython",
    "version": 3
   },
   "file_extension": ".py",
   "mimetype": "text/x-python",
   "name": "python",
   "nbconvert_exporter": "python",
   "pygments_lexer": "ipython3",
   "version": "3.8.11"
  }
 },
 "nbformat": 4,
 "nbformat_minor": 2
}
