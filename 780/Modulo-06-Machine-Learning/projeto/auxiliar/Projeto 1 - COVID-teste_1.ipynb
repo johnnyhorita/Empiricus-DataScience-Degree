{
 "cells": [
  {
   "cell_type": "markdown",
   "id": "d54bd76a",
   "metadata": {},
   "source": [
    "# Projeto 1 - Base de Dados Covid"
   ]
  },
  {
   "cell_type": "raw",
   "id": "4574796d",
   "metadata": {},
   "source": [
    "# Projeto 1 - Base de Dados Covid"
   ]
  },
  {
   "cell_type": "markdown",
   "id": "4e61fab0",
   "metadata": {},
   "source": [
    "O objetivo do projeto será desenvolver um estudo no dataset `COVID.csv`, base esta que contém informações sobre casos de COVID. Ou seja a partir do diagnóstico de sintomas e informações dos pacientes deve-se desenvolver um modelo para prever casos confirmados de COVID.\n",
    "\n",
    "<br>\n",
    "\n",
    "A descrição das variáveis contidas no dataset pode ser encontradas a seguir:\n",
    "\n",
    " - **id**: Identificação do paciente<br>\n",
    " - **sex**: Sexo do Paciente (0 - Homem / 1 - Mulher) <br>\n",
    " - **patient_type**: Se o paciente foi dispensado para casa (1) ou se foi internado (0) <br>\n",
    " - **intubed**: Seo paciente foi intubado ou não<br>\n",
    " - **pneumonia**: Se o paciente apresentou pneumonia ou não<br>\n",
    " - **age**: Idade do Paciente<br>\n",
    " - **pregnancy**: Se a paciente estava grávida ou não (para pacientes mulheres)<br>\n",
    " - **diabetes**: Se o paciente tem diabetes ou não<br>\n",
    " - **copd**: Se opaciente tem COPD ou não<br>\n",
    " - **asthma**: Se o paciente tem Asma ou não<br>\n",
    " - **inmsupr**: Se o paciente apresentou Imunosupressão ou não<br>\n",
    " - **hypertension**: Se o paciente tem hipertensão ou não<br>\n",
    " - **ohter_disease**: Se o paciente tem outras doenças ou não<br>\n",
    " - **cardiovascular**: Se o paciente tem doenças cardiácas ou não<br>\n",
    " - **obesity**: Se o paciente tem obesidade ou não<br>\n",
    " - **renal_chronic**: Se o paciente tem problemas renais ou não<br>\n",
    " - **tobacco**: Se o paciente é fumante ou não<br>\n",
    " - **contact_other_covid**: Se o paciente teve contato com outras pessoas diagnosticadas com covid<br>\n",
    " - **icu**: Se o paciente precisou ser internado na UTI<br>\n",
    " - **covid_res**: Se o resultado do teste foi Positivo ou Negativo<br>\n",
    " \n",
    "PAra ajudar no desenvolvimento do projeto, vamos separar o projeto em algumas seções, conforme descritas a seguir:\n",
    "\n",
    "- __Preparação dos Dados e Verificação de Consistência__: Neste tópico deve ser feita a verificação da consistência dos dados e caso necessário efetuar eventuais modificações na base de dados. Alguns dos procedimentos que podemos fazer aqui são: Remoção e/ou tratamento de valores faltantes, remoção de duplicatas, ajustes dos tipos de variáveis, análise de _outliers_ entre outras;\n",
    "\n",
    "<br>\n",
    "\n",
    "- __Análise Exploratória dos Dados__: Para fazermos a modelagem, precisamos conhecer muito bem os dados que estamos trabalhando. Por isso, nesta parte do projeto vocês desenvolveram an´laises e gráficos a respeito dos dados que estão utilizando. Tente tirar ao máximo informaç~eos sobre as variáveis em si e suas relações com as demais;\n",
    "\n",
    "<br>\n",
    "\n",
    "- __Modelagem dos Dados__: Nesta parte, vamos modelar um classificador para os resultados dos exames de COVID (`covid_res`). VocÊs deveram __treinar pelo menos 3 modelos__ (podendo testar mais que 3 também) e de acordo com alguma métrica de avaliação (escolhida por vocÊs), decidir qual será o melhor modelo a ser utilizado!;\n",
    "\n",
    "<br>\n",
    "\n",
    "- __Otimização do Modelo__: A partir do modelo escolhido no tópico anterior, vamos tentar aprimorar e garantir um melhor desempenho no modelo, seja fazendo validação cruzada, otimização de parâmetros com _GridSearchCV_ ou _RandomizedSearchCV_ e até mesmo testar diferentes _thresholds_ (ao invés de utilizar a função _predict_ do modelo, utilize a função _predict_proba_ do modelo e a partir das probabilidades determinar qual vai ser o limiar onde será considerado um caso positivo ou negativo);\n",
    "\n",
    "<br>\n",
    "\n",
    "- __Conclusões sobre o Projeto__: Para finalizar, descreva as suas conclusões sobre o desenvolvimento do modelo e os resultados obtidos."
   ]
  },
  {
   "cell_type": "markdown",
   "id": "46cafa7f",
   "metadata": {},
   "source": [
    "## Critérios de Avaliação\n",
    "\n",
    "Um processo de análise e modelagem de dados depende de diversos fatores, desde quais sementes aleatórias foram definadas até mesmo o desempenho computacional da máquina utlizada. Dessa forma, __não__ será cobrado que resultados os alunos obteram, mas sim o desenvolvimento do projeto, olhando os seguinte tópicos:\n",
    "\n",
    "- Desenvolvimento mínimo de cada um dos itens acima;\n",
    "\n",
    "- Padrozinação de Gráficos, Visualizações e códigos;\n",
    "\n",
    "- _Clean COde_ e códigos comentados;\n",
    "\n",
    "- Explicação de todos os processos feitos e decisões tomadas\n",
    "\n",
    "\n",
    "<br>\n",
    "\n",
    "\n",
    "## Informações Gerais sobre o Projeto\n",
    "\n",
    "- O projeto poderá ser desenvolvido __individualmente__ ou em __grupos com até 4 pessoas__, caos façam em grupos enviar a relação de alunos do grupo para o professor;\n",
    "\n",
    "- Data de Divulgação do Projeto: 29/11/2021;\n",
    "\n",
    "- Monitoria do Projeto 1: 10/12/2021;\n",
    "\n",
    "- Data de Entrega: 17/12/2021;\n",
    "\n",
    "- Entrega: Através do _Class_, será criado um Projeto para a entrega dentro do módulo \"_Machine Learning_\", Aula \"Árvore de Decisão\" na aba Exercícios;\n",
    "\n",
    "<br>\n",
    "\n",
    "__Padrão de Entrega__ Para a identificação dos alunos que entregaram o projeto, peço para que sigam o padrão de nome para o arquivo enviado conforme as orientações abaixo:\n",
    "\n",
    "- Para quem realizar __individualmente__: NúmeroDaTurma_Projeto1_NomeDoALuno.ipynb;\n",
    "\n",
    "- Para quem realizar em __grupos__: NúmeroDaTurma_Projeto1_GrupoX.ipynb;\n",
    "\n",
    "__Bem Importante:__ Deixem devidamente identificado o número da turma, número do grupo e o nome do aluno ou alunos dentro do Notebook também."
   ]
  },
  {
   "cell_type": "code",
   "execution_count": null,
   "id": "3dc01788",
   "metadata": {},
   "outputs": [],
   "source": []
  },
  {
   "cell_type": "markdown",
   "id": "addb4bb5",
   "metadata": {},
   "source": [
    "# Projeto 1 - Base de Dados Covid\n",
    "\n",
    "#### 780_Projeto1_JohnnyHorita.ipynb"
   ]
  },
  {
   "cell_type": "markdown",
   "id": "6b45ae5f",
   "metadata": {},
   "source": [
    "## Preparação dos Dados e Verificação de Consistência\n",
    "\n",
    "Neste tópico deve ser feita a verificação da consistência dos dados e caso necessário efetuar eventuais modificações na base de dados. Alguns dos procedimentos que podemos fazer aqui são: Remoção e/ou tratamento de valores faltantes, remoção de duplicatas, ajustes dos tipos de variáveis, análise de outliers entre outras;"
   ]
  },
  {
   "cell_type": "markdown",
   "id": "1a9714be",
   "metadata": {},
   "source": [
    "### Importando bibliotecas"
   ]
  },
  {
   "cell_type": "code",
   "execution_count": 1,
   "id": "48101559",
   "metadata": {},
   "outputs": [
    {
     "data": {
      "text/html": [
       "<style type='text/css'>\n",
       ".datatable table.frame { margin-bottom: 0; }\n",
       ".datatable table.frame thead { border-bottom: none; }\n",
       ".datatable table.frame tr.coltypes td {  color: #FFFFFF;  line-height: 6px;  padding: 0 0.5em;}\n",
       ".datatable .bool    { background: #DDDD99; }\n",
       ".datatable .object  { background: #565656; }\n",
       ".datatable .int     { background: #5D9E5D; }\n",
       ".datatable .float   { background: #4040CC; }\n",
       ".datatable .str     { background: #CC4040; }\n",
       ".datatable .time    { background: #40CC40; }\n",
       ".datatable .row_index {  background: var(--jp-border-color3);  border-right: 1px solid var(--jp-border-color0);  color: var(--jp-ui-font-color3);  font-size: 9px;}\n",
       ".datatable .frame tbody td { text-align: left; }\n",
       ".datatable .frame tr.coltypes .row_index {  background: var(--jp-border-color0);}\n",
       ".datatable th:nth-child(2) { padding-left: 12px; }\n",
       ".datatable .hellipsis {  color: var(--jp-cell-editor-border-color);}\n",
       ".datatable .vellipsis {  background: var(--jp-layout-color0);  color: var(--jp-cell-editor-border-color);}\n",
       ".datatable .na {  color: var(--jp-cell-editor-border-color);  font-size: 80%;}\n",
       ".datatable .sp {  opacity: 0.25;}\n",
       ".datatable .footer { font-size: 9px; }\n",
       ".datatable .frame_dimensions {  background: var(--jp-border-color3);  border-top: 1px solid var(--jp-border-color0);  color: var(--jp-ui-font-color3);  display: inline-block;  opacity: 0.6;  padding: 1px 10px 1px 5px;}\n",
       ".datatable .frame thead tr.colnames {  background-image: url('data:image/png;base64,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');  background-repeat: repeat-x;  background-size: 14px;  height: 28px;}\n",
       "</style>\n"
      ],
      "text/plain": [
       "<IPython.core.display.HTML object>"
      ]
     },
     "metadata": {},
     "output_type": "display_data"
    }
   ],
   "source": [
    "# Bibliotecas\n",
    "import pandas as pd\n",
    "import numpy as np\n",
    "import datetime\n",
    "import requests\n",
    "import warnings\n",
    "from collections import Counter\n",
    "from pprint import pprint\n",
    "\n",
    "import matplotlib.pyplot as plt\n",
    "import matplotlib\n",
    "import seaborn as sns\n",
    "import squarify\n",
    "import plotly.offline as py\n",
    "#import plotly_express as px\n",
    "\n",
    "from sklearn.preprocessing import StandardScaler\n",
    "from sklearn.pipeline import Pipeline\n",
    "from mlxtend.plotting import plot_confusion_matrix\n",
    "\n",
    "from sklearn import metrics\n",
    "from sklearn.metrics import roc_auc_score, roc_curve, accuracy_score, precision_score, recall_score, f1_score, r2_score\n",
    "from sklearn.metrics import mean_squared_error, mean_absolute_error\n",
    "from sklearn.metrics import classification_report, confusion_matrix\n",
    "from sklearn.model_selection import train_test_split, RandomizedSearchCV, GridSearchCV, cross_val_score, StratifiedKFold\n",
    "\n",
    "# Logistic Regression\n",
    "from sklearn.linear_model import LogisticRegression \n",
    "# Support Vector Machine\n",
    "from sklearn.svm import SVC \n",
    "# Naive Bayes (Gaussian, Multinomial)\n",
    "from sklearn.naive_bayes import GaussianNB\n",
    "from sklearn.naive_bayes import MultinomialNB\n",
    "# Stochastic Gradient Descent Classifier\n",
    "from sklearn.linear_model import SGDClassifier\n",
    "# KNN (k-nearest neighbor)\n",
    "from sklearn.neighbors import KNeighborsClassifier\n",
    "# Decision Tree\n",
    "from sklearn.tree import DecisionTreeClassifier\n",
    "# Random Forest\n",
    "from sklearn.ensemble import RandomForestClassifier\n",
    "# Gradient Boosting Classifier\n",
    "from sklearn.ensemble import GradientBoostingClassifier\n",
    "# XGBoost Classifier\n",
    "from xgboost import XGBClassifier\n",
    "# LGBM Classifier\n",
    "from lightgbm import LGBMClassifier\n",
    "# Ada Boosting Classifier\n",
    "from sklearn.ensemble import AdaBoostClassifier\n",
    "# Dummy Boosting Classifier\n",
    "from sklearn.dummy import DummyClassifier\n",
    "\n",
    "import shap\n",
    "\n",
    "import imblearn\n",
    "from imblearn.under_sampling import RandomUnderSampler\n",
    "from imblearn.over_sampling import RandomOverSampler\n",
    "from imblearn.over_sampling import SMOTE\n",
    "\n",
    "\n",
    "from IPython.core.display import HTML as Center\n",
    "from IPython.display import Image\n",
    "warnings.filterwarnings('ignore')\n",
    "%matplotlib inline"
   ]
  },
  {
   "cell_type": "markdown",
   "id": "309f718c",
   "metadata": {},
   "source": [
    "### Padrões\n"
   ]
  },
  {
   "cell_type": "code",
   "execution_count": 2,
   "id": "3ede23c5",
   "metadata": {},
   "outputs": [],
   "source": [
    "sns.set_style('darkgrid') # darkgrid, white grid, dark, white and ticks\n",
    "plt.rc('axes', titlesize=18)     # fontsize of the axes title\n",
    "plt.rc('axes', labelsize=14)    # fontsize of the x and y labels\n",
    "plt.rc('xtick', labelsize=13)    # fontsize of the tick labels\n",
    "plt.rc('ytick', labelsize=13)    # fontsize of the tick labels\n",
    "plt.rc('legend', fontsize=13)    # legend fontsize\n",
    "plt.rc('font', size=13)          # controls default text sizes\n",
    "colors = sns.color_palette('pastel')\n",
    "\n",
    "#sns.color_palette('deep') # deep, pastel, Set1 Set2 Set3"
   ]
  },
  {
   "cell_type": "code",
   "execution_count": 3,
   "id": "00a1d835",
   "metadata": {},
   "outputs": [
    {
     "data": {
      "text/html": [
       " <style>\n",
       ".output_png {\n",
       "    display: table-cell;\n",
       "    text-align: center;\n",
       "    vertical-align: middle;\n",
       "}\n",
       "</style> "
      ],
      "text/plain": [
       "<IPython.core.display.HTML object>"
      ]
     },
     "execution_count": 3,
     "metadata": {},
     "output_type": "execute_result"
    }
   ],
   "source": [
    "Center(\"\"\" <style>\n",
    ".output_png {\n",
    "    display: table-cell;\n",
    "    text-align: center;\n",
    "    vertical-align: middle;\n",
    "}\n",
    "</style> \"\"\")"
   ]
  },
  {
   "cell_type": "markdown",
   "id": "0c1fad80",
   "metadata": {},
   "source": [
    "### Funções\n"
   ]
  },
  {
   "cell_type": "code",
   "execution_count": 4,
   "id": "a74cfe4d",
   "metadata": {},
   "outputs": [],
   "source": [
    "# Função de avaliação dos valores de NaN no dataframe\n",
    "\n",
    "def missing_values_table(df):\n",
    "        mis_val = df.isnull().sum()\n",
    "        mis_val_percent = 100 * df.isnull().sum() / len(df)\n",
    "        mz_table = pd.concat([mis_val, mis_val_percent], axis=1)\n",
    "        mz_table = mz_table.rename(\n",
    "        columns = {0 : 'Valores faltantes', 1 : '% de Valores Totais'})\n",
    "        mz_table['Data Type'] = df.dtypes\n",
    "        mz_table = mz_table[\n",
    "            mz_table.iloc[:,1] != 0].sort_values(\n",
    "        '% de Valores Totais', ascending=False).round(1)\n",
    "        print (\"O dataframe tem \" + str(df.shape[1]) + \" colunas e \" + str(df.shape[0]) + \" linhas.\\n\"      \n",
    "            \"Existem \" + str(mz_table.shape[0]) +\n",
    "              \" colunas que têm valores faltantes.\")\n",
    "        mz_table.to_excel('missing_and_zero_values.xlsx', freeze_panes=(1,0), index = True)\n",
    "        return mz_table\n"
   ]
  },
  {
   "cell_type": "code",
   "execution_count": 5,
   "id": "06456e0c",
   "metadata": {},
   "outputs": [],
   "source": [
    "# Função de avaliação de modelos de aprendizagem de máquinas\n",
    "\n",
    "def test_models_plot_roc_auc_curve(model_list, col_model_name, col_model, X_train, X_test, y_train, y_test):\n",
    "    plt.figure(figsize=(15,7))\n",
    "    for mdl in model_list:\n",
    "        model = mdl[col_model]\n",
    "        model.fit(X_train, y_train)\n",
    "        y_predict = model.predict(X_test)\n",
    "        \n",
    "        fpr, tpr, thresholds = metrics.roc_curve(y_test, model.predict_proba(X_test)[:,1])\n",
    "        auc = metrics.roc_auc_score(y_test, y_predict)\n",
    "        plt.plot(fpr, tpr, label='%s (ROC-AUC = %0.4f)' % (mdl[col_model_name], auc))\n",
    "        print(\"Model      : %s\" % mdl[col_model_name])\n",
    "        calc_predict(mdl[col_model_name], y_test, y_predict)\n",
    "        \n",
    "    plt.plot([0, 1], [0, 1],'r--')\n",
    "    plt.xlim([0.0, 1.0])\n",
    "    plt.ylim([0.0, 1.05])\n",
    "    plt.xlabel('False Positive Rate')\n",
    "    plt.ylabel('True Positive Rate')\n",
    "    plt.title('ROC-AUC curve')\n",
    "    plt.legend(loc=\"lower right\")\n",
    "    plt.show()"
   ]
  },
  {
   "cell_type": "code",
   "execution_count": 6,
   "id": "69773f54",
   "metadata": {},
   "outputs": [],
   "source": [
    "# Função de avaliação de modelos apresentação da matriz de confusão\n",
    "\n",
    "def test_models_plot_confusion_matrix(model_list, col_model_name, col_model, X_train, X_test, y_train, y_test):\n",
    "\n",
    "    for mdl in model_list:\n",
    "        model = mdl[col_model]\n",
    "        model.fit(X_train, y_train)\n",
    "        y_predict = model.predict(X_test)\n",
    "        print(\"Model      : %s\" % mdl[col_model_name])\n",
    "        calc_predict(mdl[col_model_name], y_test, y_predict)\n",
    "        \n",
    "        cm = confusion_matrix(y_test, y_predict)\n",
    "        plot_confusion_matrix(conf_mat=cm)\n",
    "        plt.show()\n",
    "        print(\"=\" * 55)\n",
    "        print(\"\")\n"
   ]
  },
  {
   "cell_type": "code",
   "execution_count": 7,
   "id": "ab9fc1d5",
   "metadata": {},
   "outputs": [],
   "source": [
    "# Função para cálcular as métricas \n",
    "\n",
    "def calc_predict(col_model_name, y_test, y_predict):\n",
    "    print(\"ROC - AUC  : %0.4f \" % metrics.roc_auc_score(y_test, y_predict))\n",
    "    print(\"Accuracy   : %0.4f \" %  accuracy_score(y_test, y_predict))\n",
    "    print(\"Precision  : %0.4f \" % precision_score(y_test, y_predict, average='weighted'))\n",
    "    print(\"Recall     : %0.4f \" % recall_score(y_test, y_predict, average='weighted'))\n",
    "    print(\"F1 - Score : %0.4f \" % f1_score(y_test, y_predict, average='weighted'))\n",
    "    print(\"MAE        : %0.4f \" % mean_absolute_error(y_test, y_predict))\n",
    "    print(\"RMSE       : %0.4f \" % np.sqrt(mean_squared_error(y_test, y_predict)))\n",
    "    print(\"R2         : %0.4f \" % r2_score(y_test, y_predict))\n",
    "    print(\"\")\n",
    "    print(classification_report(y_test, y_predict))\n",
    "    print(\"=\" * 55)\n",
    "    print(\"\")\n"
   ]
  },
  {
   "cell_type": "code",
   "execution_count": 8,
   "id": "390c9ba7",
   "metadata": {},
   "outputs": [],
   "source": [
    "\n",
    "roc=[]\n",
    "acc=[]\n",
    "pre=[]\n",
    "rec=[]\n",
    "f1s=[]\n",
    "mae=[]\n",
    "rms=[]\n",
    "r2s=[]\n",
    "\n",
    "def x_calc_predict(col_model_name, y_test, y_predict):\n",
    "    print(\"Accuracy   : %0.4f \" % accuracy_score(y_test, y_predict))\n",
    "    print(\"Precision  : %0.4f \" % precision_score(y_test, y_predict, average='weighted'))\n",
    "    print(\"Recall     : %0.4f \" % recall_score(y_test, y_predict, average='weighted'))\n",
    "    print(\"F1 - Score : %0.4f \" % f1_score(y_test, y_predict, average='weighted'))\n",
    "    print(\"MAE        : %0.4f \" % mean_absolute_error(y_test, y_predict))\n",
    "    print(\"RMSE       : %0.4f \" % np.sqrt(mean_squared_error(y_test, y_predict)))\n",
    "    print(\"R2         : %0.4f \" % r2_score(y_test, y_predict))\n",
    "    print(\"\")\n",
    "    print(classification_report(y_test, y_predict))\n",
    "    print(\"=\" * 55)\n",
    "    print(\"\")\n",
    "\n",
    "#acc.sort(key = lambda el:el[1],reverse =True)\n",
    "#acc.append(['KNNR',r2_score(y_test,model.predict(X_test))])"
   ]
  },
  {
   "cell_type": "code",
   "execution_count": null,
   "id": "f8c6298a",
   "metadata": {},
   "outputs": [],
   "source": []
  },
  {
   "cell_type": "markdown",
   "id": "530c9516",
   "metadata": {},
   "source": [
    "### Inicializando Dataframe\n"
   ]
  },
  {
   "cell_type": "code",
   "execution_count": 9,
   "id": "88dc5e45",
   "metadata": {},
   "outputs": [],
   "source": [
    "# Importando arquivo\n",
    "\n",
    "df = pd.read_csv('./COVID.csv')\n"
   ]
  },
  {
   "cell_type": "code",
   "execution_count": 10,
   "id": "5a19cb6b",
   "metadata": {},
   "outputs": [
    {
     "name": "stdout",
     "output_type": "stream",
     "text": [
      "Quantidade de linhas...........: 499692\n",
      "Quantidade de linhas duplicadas: 0\n",
      "Quantidade de colunas..........: 20\n"
     ]
    }
   ],
   "source": [
    "# Quantidade de linhas e colunas\n",
    "\n",
    "qtl, qtc = df.shape\n",
    "\n",
    "# Quantidade de linhas duplicadas\n",
    "\n",
    "qtd, _ = df[df.duplicated(keep=False)].shape\n",
    "\n",
    "print(f'Quantidade de linhas...........: {qtl}')\n",
    "print(f'Quantidade de linhas duplicadas: {qtd}')\n",
    "print(f'Quantidade de colunas..........: {qtc}')\n"
   ]
  },
  {
   "cell_type": "code",
   "execution_count": 11,
   "id": "3ce98e03",
   "metadata": {},
   "outputs": [
    {
     "name": "stdout",
     "output_type": "stream",
     "text": [
      "<class 'pandas.core.frame.DataFrame'>\n",
      "RangeIndex: 499692 entries, 0 to 499691\n",
      "Data columns (total 20 columns):\n",
      " #   Column               Non-Null Count   Dtype  \n",
      "---  ------               --------------   -----  \n",
      " 0   Unnamed: 0           499692 non-null  int64  \n",
      " 1   sex                  499692 non-null  int64  \n",
      " 2   patient_type         499692 non-null  int64  \n",
      " 3   intubed              107424 non-null  float64\n",
      " 4   pneumonia            499681 non-null  float64\n",
      " 5   age                  499692 non-null  int64  \n",
      " 6   pregnancy            245258 non-null  float64\n",
      " 7   diabetes             498051 non-null  float64\n",
      " 8   copd                 498246 non-null  float64\n",
      " 9   asthma               498250 non-null  float64\n",
      " 10  inmsupr              498030 non-null  float64\n",
      " 11  hypertension         498203 non-null  float64\n",
      " 12  other_disease        497499 non-null  float64\n",
      " 13  cardiovascular       498183 non-null  float64\n",
      " 14  obesity              498222 non-null  float64\n",
      " 15  renal_chronic        498216 non-null  float64\n",
      " 16  tobacco              498113 non-null  float64\n",
      " 17  contact_other_covid  346017 non-null  float64\n",
      " 18  covid_res            499692 non-null  int64  \n",
      " 19  icu                  107423 non-null  float64\n",
      "dtypes: float64(15), int64(5)\n",
      "memory usage: 76.2 MB\n"
     ]
    }
   ],
   "source": [
    "# Informações do dataframe\n",
    "\n",
    "df.info()\n"
   ]
  },
  {
   "cell_type": "markdown",
   "id": "e14894a3",
   "metadata": {},
   "source": [
    "\n",
    "---\n",
    "\n",
    "**Conclusões:** \n",
    "\n",
    "O dataframe é composto por 20 colunas e 499.692 registros.\n",
    "\n",
    "Na tabela acima são apresentados valores não preenchidos para algumas colunas que serão demonstrados ao longo do projeto.\n",
    "\n"
   ]
  },
  {
   "cell_type": "code",
   "execution_count": null,
   "id": "d37f03ab",
   "metadata": {},
   "outputs": [],
   "source": []
  },
  {
   "cell_type": "code",
   "execution_count": 12,
   "id": "24bbfb2d",
   "metadata": {},
   "outputs": [
    {
     "data": {
      "text/plain": [
       "Index(['Unnamed: 0', 'sex', 'patient_type', 'intubed', 'pneumonia', 'age',\n",
       "       'pregnancy', 'diabetes', 'copd', 'asthma', 'inmsupr', 'hypertension',\n",
       "       'other_disease', 'cardiovascular', 'obesity', 'renal_chronic',\n",
       "       'tobacco', 'contact_other_covid', 'covid_res', 'icu'],\n",
       "      dtype='object')"
      ]
     },
     "execution_count": 12,
     "metadata": {},
     "output_type": "execute_result"
    }
   ],
   "source": [
    "# Lista de colunas do dataframe\n",
    "\n",
    "df.columns\n"
   ]
  },
  {
   "cell_type": "code",
   "execution_count": 13,
   "id": "8d48c695",
   "metadata": {},
   "outputs": [
    {
     "data": {
      "text/html": [
       "<div>\n",
       "<style scoped>\n",
       "    .dataframe tbody tr th:only-of-type {\n",
       "        vertical-align: middle;\n",
       "    }\n",
       "\n",
       "    .dataframe tbody tr th {\n",
       "        vertical-align: top;\n",
       "    }\n",
       "\n",
       "    .dataframe thead th {\n",
       "        text-align: right;\n",
       "    }\n",
       "</style>\n",
       "<table border=\"1\" class=\"dataframe\">\n",
       "  <thead>\n",
       "    <tr style=\"text-align: right;\">\n",
       "      <th></th>\n",
       "      <th>Unnamed: 0</th>\n",
       "      <th>sex</th>\n",
       "      <th>patient_type</th>\n",
       "      <th>intubed</th>\n",
       "      <th>pneumonia</th>\n",
       "      <th>age</th>\n",
       "      <th>pregnancy</th>\n",
       "      <th>diabetes</th>\n",
       "      <th>copd</th>\n",
       "      <th>asthma</th>\n",
       "      <th>inmsupr</th>\n",
       "      <th>hypertension</th>\n",
       "      <th>other_disease</th>\n",
       "      <th>cardiovascular</th>\n",
       "      <th>obesity</th>\n",
       "      <th>renal_chronic</th>\n",
       "      <th>tobacco</th>\n",
       "      <th>contact_other_covid</th>\n",
       "      <th>covid_res</th>\n",
       "      <th>icu</th>\n",
       "    </tr>\n",
       "  </thead>\n",
       "  <tbody>\n",
       "    <tr>\n",
       "      <th>0</th>\n",
       "      <td>0</td>\n",
       "      <td>0</td>\n",
       "      <td>1</td>\n",
       "      <td>NaN</td>\n",
       "      <td>0.0</td>\n",
       "      <td>27</td>\n",
       "      <td>NaN</td>\n",
       "      <td>0.0</td>\n",
       "      <td>0.0</td>\n",
       "      <td>0.0</td>\n",
       "      <td>0.0</td>\n",
       "      <td>0.0</td>\n",
       "      <td>0.0</td>\n",
       "      <td>0.0</td>\n",
       "      <td>0.0</td>\n",
       "      <td>0.0</td>\n",
       "      <td>0.0</td>\n",
       "      <td>0.0</td>\n",
       "      <td>1</td>\n",
       "      <td>NaN</td>\n",
       "    </tr>\n",
       "    <tr>\n",
       "      <th>1</th>\n",
       "      <td>1</td>\n",
       "      <td>0</td>\n",
       "      <td>1</td>\n",
       "      <td>NaN</td>\n",
       "      <td>0.0</td>\n",
       "      <td>24</td>\n",
       "      <td>NaN</td>\n",
       "      <td>0.0</td>\n",
       "      <td>0.0</td>\n",
       "      <td>0.0</td>\n",
       "      <td>0.0</td>\n",
       "      <td>0.0</td>\n",
       "      <td>0.0</td>\n",
       "      <td>0.0</td>\n",
       "      <td>0.0</td>\n",
       "      <td>0.0</td>\n",
       "      <td>0.0</td>\n",
       "      <td>NaN</td>\n",
       "      <td>1</td>\n",
       "      <td>NaN</td>\n",
       "    </tr>\n",
       "    <tr>\n",
       "      <th>2</th>\n",
       "      <td>2</td>\n",
       "      <td>1</td>\n",
       "      <td>0</td>\n",
       "      <td>0.0</td>\n",
       "      <td>0.0</td>\n",
       "      <td>54</td>\n",
       "      <td>0.0</td>\n",
       "      <td>0.0</td>\n",
       "      <td>0.0</td>\n",
       "      <td>0.0</td>\n",
       "      <td>0.0</td>\n",
       "      <td>0.0</td>\n",
       "      <td>0.0</td>\n",
       "      <td>0.0</td>\n",
       "      <td>1.0</td>\n",
       "      <td>0.0</td>\n",
       "      <td>0.0</td>\n",
       "      <td>NaN</td>\n",
       "      <td>1</td>\n",
       "      <td>0.0</td>\n",
       "    </tr>\n",
       "    <tr>\n",
       "      <th>3</th>\n",
       "      <td>3</td>\n",
       "      <td>0</td>\n",
       "      <td>0</td>\n",
       "      <td>0.0</td>\n",
       "      <td>1.0</td>\n",
       "      <td>30</td>\n",
       "      <td>NaN</td>\n",
       "      <td>0.0</td>\n",
       "      <td>0.0</td>\n",
       "      <td>0.0</td>\n",
       "      <td>0.0</td>\n",
       "      <td>0.0</td>\n",
       "      <td>0.0</td>\n",
       "      <td>0.0</td>\n",
       "      <td>0.0</td>\n",
       "      <td>0.0</td>\n",
       "      <td>0.0</td>\n",
       "      <td>NaN</td>\n",
       "      <td>1</td>\n",
       "      <td>0.0</td>\n",
       "    </tr>\n",
       "    <tr>\n",
       "      <th>4</th>\n",
       "      <td>4</td>\n",
       "      <td>1</td>\n",
       "      <td>0</td>\n",
       "      <td>0.0</td>\n",
       "      <td>0.0</td>\n",
       "      <td>60</td>\n",
       "      <td>0.0</td>\n",
       "      <td>1.0</td>\n",
       "      <td>0.0</td>\n",
       "      <td>0.0</td>\n",
       "      <td>0.0</td>\n",
       "      <td>1.0</td>\n",
       "      <td>0.0</td>\n",
       "      <td>1.0</td>\n",
       "      <td>0.0</td>\n",
       "      <td>0.0</td>\n",
       "      <td>0.0</td>\n",
       "      <td>NaN</td>\n",
       "      <td>1</td>\n",
       "      <td>0.0</td>\n",
       "    </tr>\n",
       "  </tbody>\n",
       "</table>\n",
       "</div>"
      ],
      "text/plain": [
       "   Unnamed: 0  sex  patient_type  intubed  pneumonia  age  pregnancy  \\\n",
       "0           0    0             1      NaN        0.0   27        NaN   \n",
       "1           1    0             1      NaN        0.0   24        NaN   \n",
       "2           2    1             0      0.0        0.0   54        0.0   \n",
       "3           3    0             0      0.0        1.0   30        NaN   \n",
       "4           4    1             0      0.0        0.0   60        0.0   \n",
       "\n",
       "   diabetes  copd  asthma  inmsupr  hypertension  other_disease  \\\n",
       "0       0.0   0.0     0.0      0.0           0.0            0.0   \n",
       "1       0.0   0.0     0.0      0.0           0.0            0.0   \n",
       "2       0.0   0.0     0.0      0.0           0.0            0.0   \n",
       "3       0.0   0.0     0.0      0.0           0.0            0.0   \n",
       "4       1.0   0.0     0.0      0.0           1.0            0.0   \n",
       "\n",
       "   cardiovascular  obesity  renal_chronic  tobacco  contact_other_covid  \\\n",
       "0             0.0      0.0            0.0      0.0                  0.0   \n",
       "1             0.0      0.0            0.0      0.0                  NaN   \n",
       "2             0.0      1.0            0.0      0.0                  NaN   \n",
       "3             0.0      0.0            0.0      0.0                  NaN   \n",
       "4             1.0      0.0            0.0      0.0                  NaN   \n",
       "\n",
       "   covid_res  icu  \n",
       "0          1  NaN  \n",
       "1          1  NaN  \n",
       "2          1  0.0  \n",
       "3          1  0.0  \n",
       "4          1  0.0  "
      ]
     },
     "execution_count": 13,
     "metadata": {},
     "output_type": "execute_result"
    }
   ],
   "source": [
    "# Listagem das primeiras linhas do dataframe\n",
    "\n",
    "df.head()\n"
   ]
  },
  {
   "cell_type": "code",
   "execution_count": 14,
   "id": "77e2692e",
   "metadata": {},
   "outputs": [
    {
     "name": "stdout",
     "output_type": "stream",
     "text": [
      "O dataframe tem 20 colunas e 499692 linhas.\n",
      "Existem 15 colunas que têm valores faltantes.\n"
     ]
    },
    {
     "data": {
      "text/html": [
       "<div>\n",
       "<style scoped>\n",
       "    .dataframe tbody tr th:only-of-type {\n",
       "        vertical-align: middle;\n",
       "    }\n",
       "\n",
       "    .dataframe tbody tr th {\n",
       "        vertical-align: top;\n",
       "    }\n",
       "\n",
       "    .dataframe thead th {\n",
       "        text-align: right;\n",
       "    }\n",
       "</style>\n",
       "<table border=\"1\" class=\"dataframe\">\n",
       "  <thead>\n",
       "    <tr style=\"text-align: right;\">\n",
       "      <th></th>\n",
       "      <th>Valores faltantes</th>\n",
       "      <th>% de Valores Totais</th>\n",
       "      <th>Data Type</th>\n",
       "    </tr>\n",
       "  </thead>\n",
       "  <tbody>\n",
       "    <tr>\n",
       "      <th>icu</th>\n",
       "      <td>392269</td>\n",
       "      <td>78.5</td>\n",
       "      <td>float64</td>\n",
       "    </tr>\n",
       "    <tr>\n",
       "      <th>intubed</th>\n",
       "      <td>392268</td>\n",
       "      <td>78.5</td>\n",
       "      <td>float64</td>\n",
       "    </tr>\n",
       "    <tr>\n",
       "      <th>pregnancy</th>\n",
       "      <td>254434</td>\n",
       "      <td>50.9</td>\n",
       "      <td>float64</td>\n",
       "    </tr>\n",
       "    <tr>\n",
       "      <th>contact_other_covid</th>\n",
       "      <td>153675</td>\n",
       "      <td>30.8</td>\n",
       "      <td>float64</td>\n",
       "    </tr>\n",
       "    <tr>\n",
       "      <th>other_disease</th>\n",
       "      <td>2193</td>\n",
       "      <td>0.4</td>\n",
       "      <td>float64</td>\n",
       "    </tr>\n",
       "    <tr>\n",
       "      <th>inmsupr</th>\n",
       "      <td>1662</td>\n",
       "      <td>0.3</td>\n",
       "      <td>float64</td>\n",
       "    </tr>\n",
       "    <tr>\n",
       "      <th>diabetes</th>\n",
       "      <td>1641</td>\n",
       "      <td>0.3</td>\n",
       "      <td>float64</td>\n",
       "    </tr>\n",
       "    <tr>\n",
       "      <th>tobacco</th>\n",
       "      <td>1579</td>\n",
       "      <td>0.3</td>\n",
       "      <td>float64</td>\n",
       "    </tr>\n",
       "    <tr>\n",
       "      <th>cardiovascular</th>\n",
       "      <td>1509</td>\n",
       "      <td>0.3</td>\n",
       "      <td>float64</td>\n",
       "    </tr>\n",
       "    <tr>\n",
       "      <th>hypertension</th>\n",
       "      <td>1489</td>\n",
       "      <td>0.3</td>\n",
       "      <td>float64</td>\n",
       "    </tr>\n",
       "    <tr>\n",
       "      <th>renal_chronic</th>\n",
       "      <td>1476</td>\n",
       "      <td>0.3</td>\n",
       "      <td>float64</td>\n",
       "    </tr>\n",
       "    <tr>\n",
       "      <th>obesity</th>\n",
       "      <td>1470</td>\n",
       "      <td>0.3</td>\n",
       "      <td>float64</td>\n",
       "    </tr>\n",
       "    <tr>\n",
       "      <th>copd</th>\n",
       "      <td>1446</td>\n",
       "      <td>0.3</td>\n",
       "      <td>float64</td>\n",
       "    </tr>\n",
       "    <tr>\n",
       "      <th>asthma</th>\n",
       "      <td>1442</td>\n",
       "      <td>0.3</td>\n",
       "      <td>float64</td>\n",
       "    </tr>\n",
       "    <tr>\n",
       "      <th>pneumonia</th>\n",
       "      <td>11</td>\n",
       "      <td>0.0</td>\n",
       "      <td>float64</td>\n",
       "    </tr>\n",
       "  </tbody>\n",
       "</table>\n",
       "</div>"
      ],
      "text/plain": [
       "                     Valores faltantes  % de Valores Totais Data Type\n",
       "icu                             392269                 78.5   float64\n",
       "intubed                         392268                 78.5   float64\n",
       "pregnancy                       254434                 50.9   float64\n",
       "contact_other_covid             153675                 30.8   float64\n",
       "other_disease                     2193                  0.4   float64\n",
       "inmsupr                           1662                  0.3   float64\n",
       "diabetes                          1641                  0.3   float64\n",
       "tobacco                           1579                  0.3   float64\n",
       "cardiovascular                    1509                  0.3   float64\n",
       "hypertension                      1489                  0.3   float64\n",
       "renal_chronic                     1476                  0.3   float64\n",
       "obesity                           1470                  0.3   float64\n",
       "copd                              1446                  0.3   float64\n",
       "asthma                            1442                  0.3   float64\n",
       "pneumonia                           11                  0.0   float64"
      ]
     },
     "execution_count": 14,
     "metadata": {},
     "output_type": "execute_result"
    }
   ],
   "source": [
    "# Avaliando os valores nulos do dataframe\n",
    "\n",
    "missing_values_table(df)\n"
   ]
  },
  {
   "cell_type": "markdown",
   "id": "081ab13c",
   "metadata": {},
   "source": [
    "\n",
    "---\n",
    "\n",
    "**Conclusões:** \n",
    "\n",
    "A tabela acima calcula o percentual de valores faltantes (não preenchidos - NaN) por coluna/variável.\n",
    "\n",
    "Identificamos que as variáveis abaixo tem o maior percentual de valores faltantes:\n",
    "\n",
    "- **icu**: Se o paciente precisou ser internado na UTI;\n",
    "- **intubed**: Se o paciente foi intubado ou não;\n",
    "- **pregnancy**: Se a paciente estava grávida ou não (para pacientes mulheres);\n",
    "- **contact_other_covid**: Se o paciente teve contato com outras pessoas diagnosticadas com covid;\n"
   ]
  },
  {
   "cell_type": "code",
   "execution_count": null,
   "id": "b4177ad4",
   "metadata": {},
   "outputs": [],
   "source": []
  },
  {
   "cell_type": "markdown",
   "id": "535d83fb",
   "metadata": {},
   "source": [
    "\n",
    "---\n",
    "\n",
    "**Tratamento de variáveis**\n",
    "\n",
    "- Criação de uma nova variável **pregnancy_new**, onde os valores nulos (NaN) de pregnancy foram atualizados para 0, quando a variável sex for igual a 0 (Sexo do Paciente 0 - Homem / 1 - Mulher)<br>\n",
    "    **obs:** Esta variável não apresenta correspondencia para a avaliação do paciente apresentar COVID<br>\n",
    "\n",
    "\n",
    "- Exclusão de variáveis que entendemos não ser relevante para diagnosticar o paciente ser positivo ou não para COVID<br>\n",
    "    **Unnamed: 0**: Indice \"auxiliar\" do dataframe<br>\n",
    "    **icu**: Se o paciente precisou ser internado na UTI (Tem grande percentual de valores faltantes)<br>\n",
    "    **intubed**: Se o paciente foi intubado ou não (Tem grande percentual de valores faltantes)<br>\n",
    "\n",
    "\n",
    "- Exclusão de variáveis tratadas<br>\n",
    "    **pregnancy**: Se a paciente estava grávida ou não (para pacientes mulheres)<br>\n"
   ]
  },
  {
   "cell_type": "code",
   "execution_count": 15,
   "id": "a5c22657",
   "metadata": {},
   "outputs": [
    {
     "name": "stdout",
     "output_type": "stream",
     "text": [
      "pregnancy_new - Percentual de valores NaN: 0.27%\n"
     ]
    }
   ],
   "source": [
    "# pregnancy_new\n",
    "\n",
    "# Criação de uma nova variável pregnancy_new, \n",
    "# onde os valores nulos (NaN) de pregnancy foram atualizados para 0, \n",
    "# quando a variável sex for igual a 0 (Sexo do Paciente 0 - Homem / 1 - Mulher)\n",
    "\n",
    "# porém esta variável não apresenta correspondencia para a avaliação do paciente apresentar COVID\n",
    "    \n",
    "# Criando variável pregnancy_new\n",
    "df['pregnancy_new'] = np.where(df['sex'] == 0, 0, df['pregnancy'])\n",
    "\n",
    "print (f'pregnancy_new - Percentual de valores NaN: {100 * df[\"pregnancy_new\"].isnull().sum() / len(df):.2f}%')\n"
   ]
  },
  {
   "cell_type": "code",
   "execution_count": 16,
   "id": "9b9f0536",
   "metadata": {},
   "outputs": [],
   "source": [
    "# Exclusão de variáveis que entendemos não ser relevante para o modelo\n",
    "\n",
    "# Unnamed: 0: ;\n",
    "# icu: Se o paciente precisou ser internado na UTI;\n",
    "# intubed: Se o paciente foi intubado ou não;\n",
    "# pregnancy: Se a paciente estava grávida ou não (para pacientes mulheres);\n",
    "\n",
    "# Deleting columns\n",
    "DeleteList=['Unnamed: 0', 'pregnancy', 'icu', 'intubed']\n",
    "\n",
    "# Novo dataframe \n",
    "dfc = df.drop(DeleteList, axis=1).copy()\n"
   ]
  },
  {
   "cell_type": "code",
   "execution_count": 17,
   "id": "4f845bdb",
   "metadata": {},
   "outputs": [],
   "source": [
    "# Para melhorar o dataframe optamos em retirar todos os pacientes que estivesse com alguma variável Nula, \n",
    "# pois a perda de dados foi mínima baseada no cálculo de valores faltantes \n",
    "\n",
    "dfc.dropna(inplace=True)\n",
    "\n",
    "# Reindexando os indices do dataframe\n",
    "dfc.reset_index(drop=True, inplace=True)"
   ]
  },
  {
   "cell_type": "code",
   "execution_count": 18,
   "id": "3f3f5991",
   "metadata": {},
   "outputs": [
    {
     "name": "stdout",
     "output_type": "stream",
     "text": [
      "O dataframe tem 17 colunas e 342695 linhas.\n",
      "Existem 0 colunas que têm valores faltantes.\n"
     ]
    },
    {
     "data": {
      "text/html": [
       "<div>\n",
       "<style scoped>\n",
       "    .dataframe tbody tr th:only-of-type {\n",
       "        vertical-align: middle;\n",
       "    }\n",
       "\n",
       "    .dataframe tbody tr th {\n",
       "        vertical-align: top;\n",
       "    }\n",
       "\n",
       "    .dataframe thead th {\n",
       "        text-align: right;\n",
       "    }\n",
       "</style>\n",
       "<table border=\"1\" class=\"dataframe\">\n",
       "  <thead>\n",
       "    <tr style=\"text-align: right;\">\n",
       "      <th></th>\n",
       "      <th>Valores faltantes</th>\n",
       "      <th>% de Valores Totais</th>\n",
       "      <th>Data Type</th>\n",
       "    </tr>\n",
       "  </thead>\n",
       "  <tbody>\n",
       "  </tbody>\n",
       "</table>\n",
       "</div>"
      ],
      "text/plain": [
       "Empty DataFrame\n",
       "Columns: [Valores faltantes, % de Valores Totais, Data Type]\n",
       "Index: []"
      ]
     },
     "execution_count": 18,
     "metadata": {},
     "output_type": "execute_result"
    }
   ],
   "source": [
    "# Avaliando os valores nulos do dataframe tratrado\n",
    "\n",
    "missing_values_table(dfc)\n"
   ]
  },
  {
   "cell_type": "code",
   "execution_count": 19,
   "id": "63e7e071",
   "metadata": {},
   "outputs": [
    {
     "name": "stdout",
     "output_type": "stream",
     "text": [
      "<class 'pandas.core.frame.DataFrame'>\n",
      "RangeIndex: 342695 entries, 0 to 342694\n",
      "Data columns (total 17 columns):\n",
      " #   Column               Non-Null Count   Dtype  \n",
      "---  ------               --------------   -----  \n",
      " 0   sex                  342695 non-null  int64  \n",
      " 1   patient_type         342695 non-null  int64  \n",
      " 2   pneumonia            342695 non-null  float64\n",
      " 3   age                  342695 non-null  int64  \n",
      " 4   diabetes             342695 non-null  float64\n",
      " 5   copd                 342695 non-null  float64\n",
      " 6   asthma               342695 non-null  float64\n",
      " 7   inmsupr              342695 non-null  float64\n",
      " 8   hypertension         342695 non-null  float64\n",
      " 9   other_disease        342695 non-null  float64\n",
      " 10  cardiovascular       342695 non-null  float64\n",
      " 11  obesity              342695 non-null  float64\n",
      " 12  renal_chronic        342695 non-null  float64\n",
      " 13  tobacco              342695 non-null  float64\n",
      " 14  contact_other_covid  342695 non-null  float64\n",
      " 15  covid_res            342695 non-null  int64  \n",
      " 16  pregnancy_new        342695 non-null  float64\n",
      "dtypes: float64(13), int64(4)\n",
      "memory usage: 44.4 MB\n"
     ]
    }
   ],
   "source": [
    "# Informações do dataframe\n",
    "\n",
    "dfc.info()\n"
   ]
  },
  {
   "cell_type": "code",
   "execution_count": 20,
   "id": "b1336b53",
   "metadata": {},
   "outputs": [
    {
     "name": "stdout",
     "output_type": "stream",
     "text": [
      "sex : [0 1]\n",
      "patient_type : [1 0]\n",
      "pneumonia : [0. 1.]\n",
      "age : [ 27  56  34  49  54  25  61  40  52  53  57  51  45  67  78  79  59  44\n",
      "  31  33  58  48  29  35  38  36  80  71  39  26  46  55  32  76  66  24\n",
      "  43  63  17  37  42  60  65  30  50  73  41  47  20  23  28  84  69  62\n",
      "  68  64  92  72  90  70   7  19  82   0  22  21  74   4  83  87  81  18\n",
      "   9   8  93  15  14  11   1  88  13  75  95  77  16  85  91  89  86  10\n",
      "  12   3   5   6   2  98  97  96  94 100 119 101  99 103 114 106 102 116\n",
      " 120 104 118 109 110 117 115 113 108 107 111]\n",
      "diabetes : [0. 1.]\n",
      "copd : [0. 1.]\n",
      "asthma : [0. 1.]\n",
      "inmsupr : [0. 1.]\n",
      "hypertension : [0. 1.]\n",
      "other_disease : [0. 1.]\n",
      "cardiovascular : [0. 1.]\n",
      "obesity : [0. 1.]\n",
      "renal_chronic : [0. 1.]\n",
      "tobacco : [0. 1.]\n",
      "contact_other_covid : [0. 1.]\n",
      "covid_res : [1 0]\n",
      "pregnancy_new : [0. 1.]\n"
     ]
    }
   ],
   "source": [
    "# Analisando os valores das variáveis do datraframe \n",
    "\n",
    "for col in dfc.columns:\n",
    "    print(f'{col} : {dfc[col].unique()}')\n",
    "    "
   ]
  },
  {
   "cell_type": "markdown",
   "id": "2a5d2a1e",
   "metadata": {},
   "source": [
    "---\n",
    "\n",
    "**Conclusões:** \n",
    "\n",
    "Analisando os valores contidos nas variáveis identificamos que os valores podem ter apenas 2 valores, sendo 1 ou 0, com exceção da variável **age** que representa a idade dos pacientes.\n"
   ]
  },
  {
   "cell_type": "code",
   "execution_count": 21,
   "id": "0aca4792",
   "metadata": {},
   "outputs": [],
   "source": [
    "# Alterando o tipo de dado de todas as colunas para int para diminuir o tamanho do dataframe\n",
    "\n",
    "dfc = dfc.astype(int, errors='ignore').copy()\n"
   ]
  },
  {
   "cell_type": "markdown",
   "id": "8a5bca85",
   "metadata": {},
   "source": [
    "---\n",
    "\n",
    "**Conclusões:** \n",
    "\n",
    "Optamos em padronizar o tipo de dados para inteiro (int32) diminuindo o tamanho da memória utilizada pelo dataframe.\n",
    "\n",
    "dfc (antes)\n",
    "memory usage: 44.4 MB\n",
    "\n",
    "dfc (depois)\n",
    "memory usage: 22.2 MB\n"
   ]
  },
  {
   "cell_type": "code",
   "execution_count": 22,
   "id": "59ea8d33",
   "metadata": {},
   "outputs": [
    {
     "name": "stdout",
     "output_type": "stream",
     "text": [
      "<class 'pandas.core.frame.DataFrame'>\n",
      "RangeIndex: 342695 entries, 0 to 342694\n",
      "Data columns (total 17 columns):\n",
      " #   Column               Non-Null Count   Dtype\n",
      "---  ------               --------------   -----\n",
      " 0   sex                  342695 non-null  int32\n",
      " 1   patient_type         342695 non-null  int32\n",
      " 2   pneumonia            342695 non-null  int32\n",
      " 3   age                  342695 non-null  int32\n",
      " 4   diabetes             342695 non-null  int32\n",
      " 5   copd                 342695 non-null  int32\n",
      " 6   asthma               342695 non-null  int32\n",
      " 7   inmsupr              342695 non-null  int32\n",
      " 8   hypertension         342695 non-null  int32\n",
      " 9   other_disease        342695 non-null  int32\n",
      " 10  cardiovascular       342695 non-null  int32\n",
      " 11  obesity              342695 non-null  int32\n",
      " 12  renal_chronic        342695 non-null  int32\n",
      " 13  tobacco              342695 non-null  int32\n",
      " 14  contact_other_covid  342695 non-null  int32\n",
      " 15  covid_res            342695 non-null  int32\n",
      " 16  pregnancy_new        342695 non-null  int32\n",
      "dtypes: int32(17)\n",
      "memory usage: 22.2 MB\n"
     ]
    }
   ],
   "source": [
    "# Informações do dataframe\n",
    "\n",
    "dfc.info()\n"
   ]
  },
  {
   "cell_type": "code",
   "execution_count": 23,
   "id": "0cfc3db9",
   "metadata": {},
   "outputs": [
    {
     "name": "stdout",
     "output_type": "stream",
     "text": [
      "Dataframe original - df\n",
      "Quantidade de linhas...........: 499692\n",
      "Quantidade de colunas..........: 20\n",
      "\n",
      "Dataframe tratado - dfc\n",
      "Quantidade de linhas...........: 342695\n",
      "Quantidade de colunas..........: 17\n",
      "\n",
      "Percentual de registros retirados: 31.42%\n"
     ]
    }
   ],
   "source": [
    "# Quantidade de linhas e colunas\n",
    "qtlc, qtcc = dfc.shape\n",
    "\n",
    "print('Dataframe original - df')\n",
    "print(f'Quantidade de linhas...........: {qtl}')\n",
    "print(f'Quantidade de colunas..........: {qtc}')\n",
    "\n",
    "print('\\nDataframe tratado - dfc')\n",
    "print(f'Quantidade de linhas...........: {qtlc}')\n",
    "print(f'Quantidade de colunas..........: {qtcc}')\n",
    "\n",
    "print (f'\\nPercentual de registros retirados: {(100  * (qtl-qtlc) / qtl):.2f}%')"
   ]
  },
  {
   "cell_type": "code",
   "execution_count": 36,
   "id": "ed54a717",
   "metadata": {},
   "outputs": [
    {
     "data": {
      "text/plain": [
       "(321142, 17)"
      ]
     },
     "execution_count": 36,
     "metadata": {},
     "output_type": "execute_result"
    }
   ],
   "source": [
    "dfc[dfc.duplicated(keep=False)].shape"
   ]
  },
  {
   "cell_type": "markdown",
   "id": "490855bb",
   "metadata": {},
   "source": [
    "---\n",
    "\n",
    "**Conclusões:** \n",
    "\n",
    "Tratamos a variável **pregnancy** para criar a nova variável **pregnancy_new**, onde os valores nulos (NaN) de pregnancy foram atualizados para 0 quando a variável **sex** for igual a 0 (homem).\n",
    "\n",
    "\n",
    "Criamos um novo dataframe **dfc**, retirando as variáveis **Unnamed: 0, pregnancy, icu, intubed**, pois entendemos que essas não são relevantes para a detecção do COVID e também por apresentar altos valores não preenchidos no caso das variáveis icu, intubed.\n",
    "\n",
    "\n",
    "Retiramos todos os registros que estivessem com alguma variável não preenchida (NaN) para manter o máximo de informações no dataframe.\n",
    "\n",
    "\n",
    "Com esses tratamentos acreditamos que o novo dataframe esta melhor preparado para análise exploratória de dados e modelagem.\n"
   ]
  },
  {
   "cell_type": "code",
   "execution_count": null,
   "id": "8ed5afe1",
   "metadata": {},
   "outputs": [],
   "source": []
  },
  {
   "cell_type": "markdown",
   "id": "928e5c1d",
   "metadata": {},
   "source": [
    "### Inicializando Dataframe - Estudo 2\n",
    "\n"
   ]
  },
  {
   "cell_type": "code",
   "execution_count": 24,
   "id": "46125bde",
   "metadata": {},
   "outputs": [],
   "source": [
    "## Exclusão de variáveis que entendemos não ser relevante para o modelo\n",
    "\n",
    "## Unnamed: 0: ;\n",
    "## pregnancy: Se a paciente estava grávida ou não (para pacientes mulheres);\n",
    "\n",
    "## Deleting columns\n",
    "#DeleteList=['Unnamed: 0', 'pregnancy']\n",
    "\n",
    "## Novo dataframe \n",
    "#dfc = df.drop(DeleteList, axis=1).copy()\n",
    "\n",
    "#dfc.dropna(inplace=True)\n",
    "\n",
    "## Reindexando os indices do dataframe\n",
    "#dfc.reset_index(drop=True, inplace=True)\n",
    "\n",
    "## Avaliando os valores nulos do dataframe tratrado\n",
    "\n",
    "#missing_values_table(dfc)\n",
    "\n",
    "## Informações do dataframe\n",
    "\n",
    "##dfc.info()\n",
    "\n",
    "## Alterando o tipo de dado de todas as colunas para int para diminuir o tamanho do dataframe\n",
    "\n",
    "#dfc = dfc.astype(int, errors='ignore').copy()\n",
    "\n",
    "## Informações do dataframe\n",
    "\n",
    "#dfc.info()\n",
    "\n",
    "## Quantidade de linhas e colunas\n",
    "#qtlc, qtcc = dfc.shape\n",
    "\n",
    "#print('Dataframe original - df')\n",
    "#print(f'Quantidade de linhas...........: {qtl}')\n",
    "#print(f'Quantidade de colunas..........: {qtc}')\n",
    "\n",
    "#print('\\nDataframe tratado - dfc')\n",
    "#print(f'Quantidade de linhas...........: {qtlc}')\n",
    "#print(f'Quantidade de colunas..........: {qtcc}')\n",
    "\n",
    "#print (f'\\nPercentual de registros retirados: {(100  * (qtl-qtlc) / qtl):.2f}%')"
   ]
  },
  {
   "cell_type": "code",
   "execution_count": null,
   "id": "fc59f966",
   "metadata": {},
   "outputs": [],
   "source": []
  },
  {
   "cell_type": "markdown",
   "id": "f2d91294",
   "metadata": {},
   "source": [
    "## Análise Exploratória dos Dados\n",
    "\n",
    "Para fazermos a modelagem, precisamos conhecer muito bem os dados que estamos trabalhando. Por isso, nesta parte do projeto vocês desenvolveram análises e gráficos a respeito dos dados que estão utilizando. Tente tirar ao máximo informaçõeos sobre as variáveis em si e suas relações com as demais;"
   ]
  },
  {
   "cell_type": "code",
   "execution_count": 25,
   "id": "584669e0",
   "metadata": {},
   "outputs": [
    {
     "name": "stdout",
     "output_type": "stream",
     "text": [
      "<class 'pandas.core.frame.DataFrame'>\n",
      "RangeIndex: 342695 entries, 0 to 342694\n",
      "Data columns (total 17 columns):\n",
      " #   Column               Non-Null Count   Dtype\n",
      "---  ------               --------------   -----\n",
      " 0   sex                  342695 non-null  int32\n",
      " 1   patient_type         342695 non-null  int32\n",
      " 2   pneumonia            342695 non-null  int32\n",
      " 3   age                  342695 non-null  int32\n",
      " 4   diabetes             342695 non-null  int32\n",
      " 5   copd                 342695 non-null  int32\n",
      " 6   asthma               342695 non-null  int32\n",
      " 7   inmsupr              342695 non-null  int32\n",
      " 8   hypertension         342695 non-null  int32\n",
      " 9   other_disease        342695 non-null  int32\n",
      " 10  cardiovascular       342695 non-null  int32\n",
      " 11  obesity              342695 non-null  int32\n",
      " 12  renal_chronic        342695 non-null  int32\n",
      " 13  tobacco              342695 non-null  int32\n",
      " 14  contact_other_covid  342695 non-null  int32\n",
      " 15  covid_res            342695 non-null  int32\n",
      " 16  pregnancy_new        342695 non-null  int32\n",
      "dtypes: int32(17)\n",
      "memory usage: 22.2 MB\n"
     ]
    }
   ],
   "source": [
    "# Informações do dataframe\n",
    "\n",
    "dfc.info()\n"
   ]
  },
  {
   "cell_type": "code",
   "execution_count": 26,
   "id": "1b4bd88c",
   "metadata": {},
   "outputs": [
    {
     "data": {
      "text/html": [
       "<div>\n",
       "<style scoped>\n",
       "    .dataframe tbody tr th:only-of-type {\n",
       "        vertical-align: middle;\n",
       "    }\n",
       "\n",
       "    .dataframe tbody tr th {\n",
       "        vertical-align: top;\n",
       "    }\n",
       "\n",
       "    .dataframe thead th {\n",
       "        text-align: right;\n",
       "    }\n",
       "</style>\n",
       "<table border=\"1\" class=\"dataframe\">\n",
       "  <thead>\n",
       "    <tr style=\"text-align: right;\">\n",
       "      <th></th>\n",
       "      <th>sex</th>\n",
       "      <th>patient_type</th>\n",
       "      <th>pneumonia</th>\n",
       "      <th>age</th>\n",
       "      <th>diabetes</th>\n",
       "      <th>copd</th>\n",
       "      <th>asthma</th>\n",
       "      <th>inmsupr</th>\n",
       "      <th>hypertension</th>\n",
       "      <th>other_disease</th>\n",
       "      <th>cardiovascular</th>\n",
       "      <th>obesity</th>\n",
       "      <th>renal_chronic</th>\n",
       "      <th>tobacco</th>\n",
       "      <th>contact_other_covid</th>\n",
       "      <th>covid_res</th>\n",
       "      <th>pregnancy_new</th>\n",
       "    </tr>\n",
       "  </thead>\n",
       "  <tbody>\n",
       "    <tr>\n",
       "      <th>0</th>\n",
       "      <td>0</td>\n",
       "      <td>1</td>\n",
       "      <td>0</td>\n",
       "      <td>27</td>\n",
       "      <td>0</td>\n",
       "      <td>0</td>\n",
       "      <td>0</td>\n",
       "      <td>0</td>\n",
       "      <td>0</td>\n",
       "      <td>0</td>\n",
       "      <td>0</td>\n",
       "      <td>0</td>\n",
       "      <td>0</td>\n",
       "      <td>0</td>\n",
       "      <td>0</td>\n",
       "      <td>1</td>\n",
       "      <td>0</td>\n",
       "    </tr>\n",
       "    <tr>\n",
       "      <th>1</th>\n",
       "      <td>1</td>\n",
       "      <td>1</td>\n",
       "      <td>0</td>\n",
       "      <td>56</td>\n",
       "      <td>0</td>\n",
       "      <td>0</td>\n",
       "      <td>0</td>\n",
       "      <td>0</td>\n",
       "      <td>1</td>\n",
       "      <td>0</td>\n",
       "      <td>0</td>\n",
       "      <td>0</td>\n",
       "      <td>1</td>\n",
       "      <td>1</td>\n",
       "      <td>1</td>\n",
       "      <td>1</td>\n",
       "      <td>0</td>\n",
       "    </tr>\n",
       "    <tr>\n",
       "      <th>2</th>\n",
       "      <td>1</td>\n",
       "      <td>1</td>\n",
       "      <td>0</td>\n",
       "      <td>34</td>\n",
       "      <td>0</td>\n",
       "      <td>0</td>\n",
       "      <td>0</td>\n",
       "      <td>0</td>\n",
       "      <td>0</td>\n",
       "      <td>0</td>\n",
       "      <td>0</td>\n",
       "      <td>0</td>\n",
       "      <td>0</td>\n",
       "      <td>0</td>\n",
       "      <td>1</td>\n",
       "      <td>1</td>\n",
       "      <td>0</td>\n",
       "    </tr>\n",
       "    <tr>\n",
       "      <th>3</th>\n",
       "      <td>1</td>\n",
       "      <td>1</td>\n",
       "      <td>0</td>\n",
       "      <td>34</td>\n",
       "      <td>0</td>\n",
       "      <td>0</td>\n",
       "      <td>0</td>\n",
       "      <td>0</td>\n",
       "      <td>0</td>\n",
       "      <td>0</td>\n",
       "      <td>0</td>\n",
       "      <td>0</td>\n",
       "      <td>0</td>\n",
       "      <td>1</td>\n",
       "      <td>0</td>\n",
       "      <td>1</td>\n",
       "      <td>0</td>\n",
       "    </tr>\n",
       "    <tr>\n",
       "      <th>4</th>\n",
       "      <td>1</td>\n",
       "      <td>1</td>\n",
       "      <td>0</td>\n",
       "      <td>49</td>\n",
       "      <td>1</td>\n",
       "      <td>0</td>\n",
       "      <td>0</td>\n",
       "      <td>0</td>\n",
       "      <td>0</td>\n",
       "      <td>0</td>\n",
       "      <td>0</td>\n",
       "      <td>0</td>\n",
       "      <td>0</td>\n",
       "      <td>0</td>\n",
       "      <td>1</td>\n",
       "      <td>1</td>\n",
       "      <td>0</td>\n",
       "    </tr>\n",
       "  </tbody>\n",
       "</table>\n",
       "</div>"
      ],
      "text/plain": [
       "   sex  patient_type  pneumonia  age  diabetes  copd  asthma  inmsupr  \\\n",
       "0    0             1          0   27         0     0       0        0   \n",
       "1    1             1          0   56         0     0       0        0   \n",
       "2    1             1          0   34         0     0       0        0   \n",
       "3    1             1          0   34         0     0       0        0   \n",
       "4    1             1          0   49         1     0       0        0   \n",
       "\n",
       "   hypertension  other_disease  cardiovascular  obesity  renal_chronic  \\\n",
       "0             0              0               0        0              0   \n",
       "1             1              0               0        0              1   \n",
       "2             0              0               0        0              0   \n",
       "3             0              0               0        0              0   \n",
       "4             0              0               0        0              0   \n",
       "\n",
       "   tobacco  contact_other_covid  covid_res  pregnancy_new  \n",
       "0        0                    0          1              0  \n",
       "1        1                    1          1              0  \n",
       "2        0                    1          1              0  \n",
       "3        1                    0          1              0  \n",
       "4        0                    1          1              0  "
      ]
     },
     "execution_count": 26,
     "metadata": {},
     "output_type": "execute_result"
    }
   ],
   "source": [
    "# Listagem das primeiras linhas do dataframe\n",
    "\n",
    "dfc.head()\n"
   ]
  },
  {
   "cell_type": "code",
   "execution_count": null,
   "id": "c1a01a85",
   "metadata": {},
   "outputs": [],
   "source": []
  },
  {
   "cell_type": "markdown",
   "id": "00900192",
   "metadata": {},
   "source": [
    "\n",
    "---\n",
    "\n",
    "**Analisando covid_res (Target)**\n",
    "\n",
    "- covid_res: Se o resultado do teste foi Positivo ou Negativo\n",
    "\n"
   ]
  },
  {
   "cell_type": "code",
   "execution_count": 27,
   "id": "3a15447d",
   "metadata": {},
   "outputs": [
    {
     "data": {
      "text/plain": [
       "Counter({1: 220657, 0: 279035})"
      ]
     },
     "execution_count": 27,
     "metadata": {},
     "output_type": "execute_result"
    }
   ],
   "source": [
    "# Quantidade de pacientes com testes de Covi Positibo e Negativo\n",
    "\n",
    "Counter(df['covid_res'])\n"
   ]
  },
  {
   "cell_type": "code",
   "execution_count": 28,
   "id": "46b51a45",
   "metadata": {},
   "outputs": [
    {
     "data": {
      "image/png": "[encoded data removed]",
      "text/plain": [
       "<Figure size 576x288 with 1 Axes>"
      ]
     },
     "metadata": {},
     "output_type": "display_data"
    },
    {
     "data": {
      "image/png": "[encoded data removed]",
      "text/plain": [
       "<Figure size 414.05x360 with 1 Axes>"
      ]
     },
     "metadata": {},
     "output_type": "display_data"
    }
   ],
   "source": [
    "# Analisando a variavel covid_res \n",
    "\n",
    "col = 'covid_res'\n",
    "\n",
    "total = len(dfc)\n",
    "\n",
    "plt.figure(figsize=(8,4))\n",
    "g = sns.countplot(x=col, data=dfc, palette=colors)\n",
    "g.set_title(f\"Distribuição da variável {col}\")\n",
    "g.set_xlabel(f\"{col}\")\n",
    "g.set_ylabel(\"Quantidade\")\n",
    "sizes=[]\n",
    "for p in g.patches:\n",
    "    height = p.get_height()\n",
    "    sizes.append(height)\n",
    "    g.text(p.get_x()+p.get_width()/2.,\n",
    "            height + 3,\n",
    "            '{:1.2f}%'.format((height/total)*100),\n",
    "            ha=\"center\", fontsize=14) \n",
    "g.set_ylim(0, max(sizes) * 1.15)\n",
    "plt.show()\n",
    "\n",
    "g = sns.catplot(x=col, y=\"age\", hue=\"sex\", kind=\"boxen\", data=dfc, palette=colors)\n",
    "\n",
    "plt.show()"
   ]
  },
  {
   "cell_type": "markdown",
   "id": "9de733c6",
   "metadata": {},
   "source": [
    "---\n",
    "\n",
    "**Conclusões:** \n",
    "\n",
    "Analisando a variável covid_res podemos constatar que a quantidade de pacientes positivos e negativos não estão desbalanceados.\n"
   ]
  },
  {
   "cell_type": "code",
   "execution_count": null,
   "id": "de0f71ac",
   "metadata": {},
   "outputs": [],
   "source": []
  },
  {
   "cell_type": "markdown",
   "id": "91576a66",
   "metadata": {},
   "source": [
    "\n",
    "---\n",
    "\n",
    "**Analisando variáveis**\n",
    "\n"
   ]
  },
  {
   "cell_type": "code",
   "execution_count": 29,
   "id": "d509ab4f",
   "metadata": {},
   "outputs": [
    {
     "data": {
      "image/png": "[encoded data removed]",
      "text/plain": [
       "<Figure size 720x288 with 1 Axes>"
      ]
     },
     "metadata": {},
     "output_type": "display_data"
    },
    {
     "data": {
      "image/png": "[encoded data removed]",
      "text/plain": [
       "<Figure size 720x288 with 1 Axes>"
      ]
     },
     "metadata": {},
     "output_type": "display_data"
    },
    {
     "data": {
      "image/png": "[encoded data removed]",
      "text/plain": [
       "<Figure size 720x288 with 1 Axes>"
      ]
     },
     "metadata": {},
     "output_type": "display_data"
    },
    {
     "data": {
      "image/png": "[encoded data removed]",
      "text/plain": [
       "<Figure size 720x288 with 1 Axes>"
      ]
     },
     "metadata": {},
     "output_type": "display_data"
    },
    {
     "data": {
      "image/png": "[encoded data removed]",
      "text/plain": [
       "<Figure size 720x288 with 1 Axes>"
      ]
     },
     "metadata": {},
     "output_type": "display_data"
    },
    {
     "data": {
      "image/png": "[encoded data removed]",
      "text/plain": [
       "<Figure size 720x288 with 1 Axes>"
      ]
     },
     "metadata": {},
     "output_type": "display_data"
    },
    {
     "data": {
      "image/png": "[encoded data removed]",
      "text/plain": [
       "<Figure size 720x288 with 1 Axes>"
      ]
     },
     "metadata": {},
     "output_type": "display_data"
    },
    {
     "data": {
      "image/png": "[encoded data removed]",
      "text/plain": [
       "<Figure size 720x288 with 1 Axes>"
      ]
     },
     "metadata": {},
     "output_type": "display_data"
    },
    {
     "data": {
      "image/png": "[encoded data removed]",
      "text/plain": [
       "<Figure size 720x288 with 1 Axes>"
      ]
     },
     "metadata": {},
     "output_type": "display_data"
    },
    {
     "data": {
      "image/png": "[encoded data removed]",
      "text/plain": [
       "<Figure size 720x288 with 1 Axes>"
      ]
     },
     "metadata": {},
     "output_type": "display_data"
    },
    {
     "data": {
      "image/png": "[encoded data removed]",
      "text/plain": [
       "<Figure size 720x288 with 1 Axes>"
      ]
     },
     "metadata": {},
     "output_type": "display_data"
    },
    {
     "data": {
      "image/png": "[encoded data removed]",
      "text/plain": [
       "<Figure size 720x288 with 1 Axes>"
      ]
     },
     "metadata": {},
     "output_type": "display_data"
    },
    {
     "data": {
      "image/png": "[encoded data removed]",
      "text/plain": [
       "<Figure size 720x288 with 1 Axes>"
      ]
     },
     "metadata": {},
     "output_type": "display_data"
    },
    {
     "data": {
      "image/png": "[encoded data removed]",
      "text/plain": [
       "<Figure size 720x288 with 1 Axes>"
      ]
     },
     "metadata": {},
     "output_type": "display_data"
    },
    {
     "data": {
      "image/png": "[encoded data removed]",
      "text/plain": [
       "<Figure size 720x288 with 1 Axes>"
      ]
     },
     "metadata": {},
     "output_type": "display_data"
    }
   ],
   "source": [
    "# Analisando os valores das variáveis do datraframe \n",
    "\n",
    "#col_filtered = dfc.columns.tolist()\n",
    "#col_filtered.remove('age')\n",
    "\n",
    "# itens que serão removidos\n",
    "unwanted = {'age', 'covid_res'}\n",
    "col_filtered = [e for e in dfc.columns.tolist() if e not in unwanted]\n",
    "\n",
    "total = len(dfc)\n",
    "\n",
    "for col in col_filtered:\n",
    "    plt.figure(figsize=(10,4))\n",
    "    g = sns.countplot(x=col, data=dfc, palette=colors)\n",
    "    g.set_title(f\"Distribuição da variável {col}\")\n",
    "    g.set_xlabel(f\"{col}\")\n",
    "    g.set_ylabel(\"Quantidade\")\n",
    "\n",
    "    sizes=[]\n",
    "        \n",
    "    for p in g.patches:\n",
    "        height = p.get_height()\n",
    "        sizes.append(height)\n",
    "        g.text(p.get_x()+p.get_width()/2.,\n",
    "                height + 3,\n",
    "                '{:1.2f}%'.format((height/total)*100),\n",
    "                ha=\"center\", fontsize=14) \n",
    "\n",
    "    g.set_ylim(0, max(sizes) * 1.15)\n",
    "\n",
    "    plt.show()\n"
   ]
  },
  {
   "cell_type": "markdown",
   "id": "11e10041",
   "metadata": {},
   "source": [
    "---\n",
    "\n",
    "**Conclusões:** \n",
    "\n",
    "De modo geral as variáveis estão bem desbalanceadas quando são comparadas unitariamente, que podem definir um grupo de caracteristicas de pacientes.\n",
    "\n",
    "- **sex**: Sexo do Paciente (0 - Homem / 1 - Mulher)<br>\n",
    "- **patient_type**: Se o paciente foi dispensado para casa (1) ou se foi internado (0)<br>\n",
    "intubed: Seo paciente foi intubado ou não\n",
    "pneumonia: Se o paciente apresentou pneumonia ou não\n",
    "age: Idade do Paciente\n",
    "pregnancy: Se a paciente estava grávida ou não (para pacientes mulheres)\n",
    "diabetes: Se o paciente tem diabetes ou não\n",
    "copd: Se opaciente tem COPD ou não\n",
    "asthma: Se o paciente tem Asma ou não\n",
    "inmsupr: Se o paciente apresentou Imunosupressão ou não\n",
    "hypertension: Se o paciente tem hipertensão ou não\n",
    "ohter_disease: Se o paciente tem outras doenças ou não\n",
    "cardiovascular: Se o paciente tem doenças cardiácas ou não\n",
    "obesity: Se o paciente tem obesidade ou não\n",
    "renal_chronic: Se o paciente tem problemas renais ou não\n",
    "tobacco: Se o paciente é fumante ou não\n",
    "contact_other_covid: Se o paciente teve contato com outras pessoas diagnosticadas com covid\n",
    "icu: Se o paciente precisou ser internado na UTI\n",
    "covid_res: Se o resultado do teste foi Positivo ou Negativo\n",
    "\n"
   ]
  },
  {
   "cell_type": "code",
   "execution_count": null,
   "id": "0aa80e5b",
   "metadata": {},
   "outputs": [],
   "source": []
  },
  {
   "cell_type": "code",
   "execution_count": 30,
   "id": "8b4583f5",
   "metadata": {},
   "outputs": [
    {
     "data": {
      "image/png": "[encoded data removed]",
      "text/plain": [
       "<Figure size 414.05x360 with 1 Axes>"
      ]
     },
     "metadata": {},
     "output_type": "display_data"
    },
    {
     "data": {
      "image/png": "[encoded data removed]",
      "text/plain": [
       "<Figure size 414.05x360 with 1 Axes>"
      ]
     },
     "metadata": {},
     "output_type": "display_data"
    },
    {
     "data": {
      "image/png": "[encoded data removed]",
      "text/plain": [
       "<Figure size 414.05x360 with 1 Axes>"
      ]
     },
     "metadata": {},
     "output_type": "display_data"
    },
    {
     "data": {
      "image/png": "[encoded data removed]",
      "text/plain": [
       "<Figure size 414.05x360 with 1 Axes>"
      ]
     },
     "metadata": {},
     "output_type": "display_data"
    },
    {
     "data": {
      "image/png": "[encoded data removed]",
      "text/plain": [
       "<Figure size 414.05x360 with 1 Axes>"
      ]
     },
     "metadata": {},
     "output_type": "display_data"
    },
    {
     "data": {
      "image/png": "[encoded data removed]",
      "text/plain": [
       "<Figure size 414.05x360 with 1 Axes>"
      ]
     },
     "metadata": {},
     "output_type": "display_data"
    },
    {
     "data": {
      "image/png": "[encoded data removed]",
      "text/plain": [
       "<Figure size 414.05x360 with 1 Axes>"
      ]
     },
     "metadata": {},
     "output_type": "display_data"
    },
    {
     "data": {
      "image/png": "[encoded data removed]",
      "text/plain": [
       "<Figure size 414.05x360 with 1 Axes>"
      ]
     },
     "metadata": {},
     "output_type": "display_data"
    },
    {
     "data": {
      "image/png": "[encoded data removed]",
      "text/plain": [
       "<Figure size 414.05x360 with 1 Axes>"
      ]
     },
     "metadata": {},
     "output_type": "display_data"
    },
    {
     "data": {
      "image/png": "[encoded data removed]",
      "text/plain": [
       "<Figure size 414.05x360 with 1 Axes>"
      ]
     },
     "metadata": {},
     "output_type": "display_data"
    },
    {
     "data": {
      "image/png": "[encoded data removed]",
      "text/plain": [
       "<Figure size 414.05x360 with 1 Axes>"
      ]
     },
     "metadata": {},
     "output_type": "display_data"
    },
    {
     "data": {
      "image/png": "[encoded data removed]",
      "text/plain": [
       "<Figure size 414.05x360 with 1 Axes>"
      ]
     },
     "metadata": {},
     "output_type": "display_data"
    },
    {
     "data": {
      "image/png": "[encoded data removed]",
      "text/plain": [
       "<Figure size 414.05x360 with 1 Axes>"
      ]
     },
     "metadata": {},
     "output_type": "display_data"
    },
    {
     "data": {
      "image/png": "[encoded data removed]",
      "text/plain": [
       "<Figure size 414.05x360 with 1 Axes>"
      ]
     },
     "metadata": {},
     "output_type": "display_data"
    }
   ],
   "source": [
    "# Analisando os valores das variáveis do datraframe \n",
    "\n",
    "# itens que serão removidos\n",
    "unwanted = {'age', 'sex', 'covid_res'}\n",
    "col_filtered = [e for e in dfc.columns.tolist() if e not in unwanted]\n",
    "\n",
    "for col in col_filtered:\n",
    "    #plt.figure(figsize=(12,6))\n",
    "    g = sns.catplot(x=col, y=\"age\", hue=\"sex\", kind=\"boxen\", palette=colors, data=dfc)\n",
    "    #g.set_title(f\"Distribuição da variável {col}\")\n",
    "    #g.set_xlabel(f\"{col}\")\n",
    "    #g.set_ylabel(\"Quantidade\")\n",
    "\n",
    "    plt.show()"
   ]
  },
  {
   "cell_type": "code",
   "execution_count": 31,
   "id": "7accf4cd",
   "metadata": {},
   "outputs": [],
   "source": [
    "# Verificando a correlação entre as variáveis com heatmap\n",
    "#plt.figure(figsize=(30,15))\n",
    "#sns.heatmap(dfc, annot=True, cmap=\"YlGnBu\")\n",
    "##plt.savefig(\"Plotting_Correlation_heatmap.jpg\")\n",
    "#plt.show()"
   ]
  },
  {
   "cell_type": "code",
   "execution_count": 32,
   "id": "7c8ccdc1",
   "metadata": {},
   "outputs": [],
   "source": [
    "# \"Filtrando\" o percentual de correlação do dataframe\n",
    "dfCorr = dfc.corr()\n",
    "filteredDf = dfCorr[((dfCorr >= .5) | (dfCorr <= -.5)) & (dfCorr !=1.000)]\n"
   ]
  },
  {
   "cell_type": "code",
   "execution_count": 33,
   "id": "0e0657fd",
   "metadata": {},
   "outputs": [
    {
     "data": {
      "image/png": "[encoded data removed]",
      "text/plain": [
       "<Figure size 2160x1080 with 2 Axes>"
      ]
     },
     "metadata": {},
     "output_type": "display_data"
    }
   ],
   "source": [
    "# Verificando a correlação entre as variáveis com heatmap\n",
    "plt.figure(figsize=(30,15))\n",
    "sns.heatmap(filteredDf, annot=True, cmap=\"YlGnBu\")\n",
    "#plt.savefig(\"Plotting_Correlation_heatmap_w.jpg\")\n",
    "plt.show()"
   ]
  },
  {
   "cell_type": "code",
   "execution_count": null,
   "id": "d963b9b1",
   "metadata": {},
   "outputs": [],
   "source": []
  },
  {
   "cell_type": "code",
   "execution_count": null,
   "id": "de31ab43",
   "metadata": {},
   "outputs": [],
   "source": []
  },
  {
   "cell_type": "code",
   "execution_count": null,
   "id": "a9709b4c",
   "metadata": {},
   "outputs": [],
   "source": []
  },
  {
   "cell_type": "code",
   "execution_count": null,
   "id": "0425b72c",
   "metadata": {},
   "outputs": [],
   "source": []
  },
  {
   "cell_type": "code",
   "execution_count": null,
   "id": "c678c3bd",
   "metadata": {},
   "outputs": [],
   "source": []
  },
  {
   "cell_type": "markdown",
   "id": "9b642d37",
   "metadata": {},
   "source": [
    "## Modelagem dos Dados\n",
    "\n",
    "Nesta parte, vamos modelar um classificador para os resultados dos exames de COVID (`covid_res`). Vocês deveram __treinar pelo menos 3 modelos__ (podendo testar mais que 3 também) e de acordo com alguma métrica de avaliação (escolhida por vocês), decidir qual será o melhor modelo a ser utilizado!;\n"
   ]
  },
  {
   "cell_type": "markdown",
   "id": "d0d7708e",
   "metadata": {},
   "source": [
    "### Separando conjunto de dados Treino e Teste"
   ]
  },
  {
   "cell_type": "code",
   "execution_count": null,
   "id": "3d87f03b",
   "metadata": {},
   "outputs": [],
   "source": [
    "# Vamos dividir os nossos dados numa matriz X que contém as características a treinar, \n",
    "# e uma matriz y com a variável alvo, neste caso a coluna covid_res. \n",
    "\n",
    "X = dfc.drop(['covid_res'], axis = 1)\n",
    "y = dfc['covid_res']\n"
   ]
  },
  {
   "cell_type": "code",
   "execution_count": null,
   "id": "81152a25",
   "metadata": {},
   "outputs": [],
   "source": [
    "# Vamos dividir os dados num conjunto de Train e num conjunto de Test. \n",
    "# Iremos treinar o modelo no conjunto de treino e depois utilizaremos o conjunto de testes para avaliar o modelo\n",
    "\n",
    "random_seed = 42\n",
    "X_train, X_test, y_train, y_test = train_test_split(X, y, test_size=0.3, random_state=random_seed, stratify=y)\n"
   ]
  },
  {
   "cell_type": "code",
   "execution_count": null,
   "id": "b5bcc263",
   "metadata": {},
   "outputs": [],
   "source": [
    "# A padronização de um conjunto de dados é um requisito comum a muitos estimadores de aprendizagem de máquinas: \n",
    "# podem comportar-se mal se as características individuais não se parecerem mais ou menos com dados distribuídos normalmente.\n",
    "\n",
    "pipeline = Pipeline([('std_scalar', StandardScaler())])\n",
    "\n",
    "X_train = pipeline.fit_transform(X_train)\n",
    "X_test = pipeline.transform(X_test)\n"
   ]
  },
  {
   "cell_type": "code",
   "execution_count": null,
   "id": "45586fd3",
   "metadata": {},
   "outputs": [],
   "source": [
    "# Quantidade total da variável \"target\" (covid_res)\n",
    "\n",
    "y.value_counts().sort_index()\n"
   ]
  },
  {
   "cell_type": "code",
   "execution_count": null,
   "id": "47540c03",
   "metadata": {},
   "outputs": [],
   "source": [
    "# Quantidade separada para o conjunto de treino inicial\n",
    "\n",
    "y_train.value_counts().sort_index()\n"
   ]
  },
  {
   "cell_type": "code",
   "execution_count": null,
   "id": "5005c1a9",
   "metadata": {},
   "outputs": [],
   "source": [
    "# Quantidade separada para o conjunto de teste inicial\n",
    "\n",
    "y_test.value_counts().sort_index()#(normalize = True)\n"
   ]
  },
  {
   "cell_type": "code",
   "execution_count": null,
   "id": "721a99da",
   "metadata": {},
   "outputs": [],
   "source": []
  },
  {
   "cell_type": "markdown",
   "id": "7a5ff8b2",
   "metadata": {},
   "source": [
    "### Processando os modelos"
   ]
  },
  {
   "cell_type": "markdown",
   "id": "75762544",
   "metadata": {},
   "source": [
    "**Processando modelos Dummy para métrica inicial**"
   ]
  },
  {
   "cell_type": "code",
   "execution_count": null,
   "id": "fb9293c5",
   "metadata": {},
   "outputs": [],
   "source": [
    "# Lista de modelos\n",
    "\n",
    "list_models = [\n",
    "{'model_name': 'Dummy Classifier stratified',\n",
    " 'estimator' : DummyClassifier(strategy='stratified', random_state=random_seed)},\n",
    "{'model_name': 'Dummy Classifier most_frequent',\n",
    " 'estimator' : DummyClassifier(strategy='most_frequent', random_state=random_seed)},\n",
    "{'model_name': 'Dummy Classifier prior',\n",
    " 'estimator' : DummyClassifier(strategy='prior', random_state=random_seed)},\n",
    "{'model_name': 'Dummy Classifier uniform',\n",
    " 'estimator' : DummyClassifier(strategy='uniform', random_state=random_seed)}\n",
    "]\n"
   ]
  },
  {
   "cell_type": "code",
   "execution_count": null,
   "id": "d5f7b927",
   "metadata": {},
   "outputs": [],
   "source": [
    "# Processando os modelos baseado na list_models\n",
    "\n",
    "test_models_plot_roc_auc_curve(list_models,\n",
    "                              \"model_name\",\n",
    "                              \"estimator\",\n",
    "                              X_train,\n",
    "                              X_test,\n",
    "                              y_train,\n",
    "                              y_test)\n"
   ]
  },
  {
   "cell_type": "code",
   "execution_count": null,
   "id": "5ff33e60",
   "metadata": {},
   "outputs": [],
   "source": []
  },
  {
   "cell_type": "markdown",
   "id": "b5f5416e",
   "metadata": {},
   "source": [
    "**Processando modelos para classificação**"
   ]
  },
  {
   "cell_type": "code",
   "execution_count": null,
   "id": "ac9a73aa",
   "metadata": {},
   "outputs": [],
   "source": [
    "\n",
    "list_models = [\n",
    "{'model_name': 'Dummy Classifier uniform',\n",
    " 'estimator' : DummyClassifier(strategy='uniform', random_state=random_seed)},\n",
    "\n",
    "#{'model_name': 'Dummy Classifier prior',\n",
    "# 'estimator' : DummyClassifier(strategy='prior', random_state=random_seed)},\n",
    "    \n",
    "{'model_name': 'Decision Tree',\n",
    " 'estimator' : DecisionTreeClassifier(random_state=random_seed)},\n",
    "{'model_name': 'Random Forest',\n",
    " 'estimator' : RandomForestClassifier(random_state=random_seed)}, \n",
    "{'model_name': 'AdaBoost',\n",
    " 'estimator' : AdaBoostClassifier(random_state=random_seed)},\n",
    "{'model_name': 'GradientBoosting',\n",
    " 'estimator' : GradientBoostingClassifier(random_state=random_seed)},\n",
    "{'model_name': 'XGBoost',\n",
    " 'estimator' : XGBClassifier(random_state=random_seed)},\n",
    "{'model_name': 'LightGBM',\n",
    " 'estimator' : LGBMClassifier(random_state=random_seed)},\n",
    "{'model_name': 'Logistic Regression',\n",
    " 'estimator' : LogisticRegression(random_state=random_seed)},\n",
    "{'model_name': 'Naive Bayes Gaussian',\n",
    " 'estimator' : GaussianNB()},\n",
    "{'model_name': 'Stochastic Gradient Descent Classifier',\n",
    " 'estimator' : SGDClassifier(loss='modified_huber',random_state=random_seed)}\n",
    "#{'model_name': 'Support Vector Machine',\n",
    "# 'estimator' : SVC(random_state=random_seed)},    \n",
    "#{'model_name': 'KNN (k-nearest neighbor)',\n",
    "# 'estimator' : KNeighborsClassifier(n_neighbors=3)},\n",
    "]\n"
   ]
  },
  {
   "cell_type": "code",
   "execution_count": null,
   "id": "b40a6e47",
   "metadata": {},
   "outputs": [],
   "source": [
    "# \n",
    "\n",
    "test_models_plot_roc_auc_curve(list_models,\n",
    "                              \"model_name\",\n",
    "                              \"estimator\",\n",
    "                              X_train,\n",
    "                              X_test,\n",
    "                              y_train,\n",
    "                              y_test)\n"
   ]
  },
  {
   "cell_type": "markdown",
   "id": "6acf44fb",
   "metadata": {},
   "source": [
    "\n",
    "---\n",
    "\n",
    "**Conclusões:** \n",
    "\n",
    "O processo acima retorna informações de cálculos dos modelos de aprendizado de máquina e apresenta um gráfico com as curvas da métrica ROC-AUC.\n",
    "\n",
    "**ROC - Receiver Operating Characteristic**<br>\n",
    "A curva ROC mostra o quão bom o modelo criado pode distinguir entre duas coisas (já que é utilizado para classificação). Essas duas coisas podem ser 0 ou 1, ou positivo e negativo. Os melhores modelos conseguem distinguir com precisão o binômio.\n",
    "\n",
    "\n",
    "**AUC - Area under the (ROC) curve**<br>\n",
    "O valor do AUC varia de 0,0 até 1,0 e o limiar entre a classe é 0,5, ou seja, acima desse limite, o algoritmo classifica em uma classe e abaixo na outra classe.<br>\n",
    "AUC, nada mais é que uma maneira de resumir a curva ROC em um único valor, agregando todos os limiares da ROC, calculando a “área sob a curva”.\n",
    "\n",
    "**The winner is..**\n",
    "GradientBossting"
   ]
  },
  {
   "cell_type": "code",
   "execution_count": null,
   "id": "37e758a9",
   "metadata": {},
   "outputs": [],
   "source": [
    "# Matriz de confusão\n",
    "\n",
    "test_models_plot_confusion_matrix(list_models,\n",
    "                              \"model_name\",\n",
    "                              \"estimator\",\n",
    "                              X_train,\n",
    "                              X_test,\n",
    "                              y_train,\n",
    "                              y_test)\n"
   ]
  },
  {
   "cell_type": "code",
   "execution_count": null,
   "id": "1481297e",
   "metadata": {},
   "outputs": [],
   "source": []
  },
  {
   "cell_type": "code",
   "execution_count": null,
   "id": "86f4e5ab",
   "metadata": {},
   "outputs": [],
   "source": [
    "# O gráfico acima indica o melhor modelo baseado na pontuação ROC - AUC\n",
    "model = GradientBoostingClassifier(random_state=random_seed)\n",
    "\n",
    "# Treinando o modelo com os conjuntos de dados de treinamento equalizados (RandomOverSampler)\n",
    "model.fit(X_train, y_train)\n",
    "\n",
    "# Previsão de saída para o conjunto de dados de teste\n",
    "y_pred = model.predict(X_test)\n"
   ]
  },
  {
   "cell_type": "code",
   "execution_count": null,
   "id": "28399c71",
   "metadata": {},
   "outputs": [],
   "source": []
  },
  {
   "cell_type": "code",
   "execution_count": null,
   "id": "2fd67eb5",
   "metadata": {},
   "outputs": [],
   "source": [
    "\n",
    "#Estudo 2\n",
    "\n",
    "#xgboost\n",
    "#.6325\n",
    "#lightgbm\n",
    "#.6325"
   ]
  },
  {
   "cell_type": "code",
   "execution_count": null,
   "id": "fa411f0d",
   "metadata": {},
   "outputs": [],
   "source": []
  },
  {
   "cell_type": "markdown",
   "id": "e7163b36",
   "metadata": {},
   "source": [
    "### Técnicas de Balanceamento"
   ]
  },
  {
   "cell_type": "markdown",
   "id": "ed3b1653",
   "metadata": {
    "heading_collapsed": true
   },
   "source": [
    "#### Aplicando **OverSampling**:"
   ]
  },
  {
   "cell_type": "code",
   "execution_count": null,
   "id": "396248a7",
   "metadata": {
    "hidden": true
   },
   "outputs": [],
   "source": [
    "# Instanciando RandomOverSampler com a estratégia de equilibrar a classe minoritária\n",
    "\n",
    "oversample = RandomOverSampler(sampling_strategy='minority')\n"
   ]
  },
  {
   "cell_type": "code",
   "execution_count": null,
   "id": "d0ffb06d",
   "metadata": {
    "hidden": true
   },
   "outputs": [],
   "source": [
    "# Adequando as novas classes para treino\n",
    "\n",
    "X_train_ov, y_train_ov = oversample.fit_resample(X_train, y_train)\n"
   ]
  },
  {
   "cell_type": "code",
   "execution_count": null,
   "id": "d461ff23",
   "metadata": {
    "hidden": true
   },
   "outputs": [],
   "source": [
    "# Quantidade \"original\" separada para o conjunto de treino inicial\n",
    "\n",
    "y_train.value_counts().sort_index()\n"
   ]
  },
  {
   "cell_type": "code",
   "execution_count": null,
   "id": "cf502bfa",
   "metadata": {
    "hidden": true
   },
   "outputs": [],
   "source": [
    "# Quantidade \"equalizada\" com técnica de balanceamento para o conjunto de treino \n",
    "# note que a classe minoritária ficou com a mesma quantidade de elementos\n",
    "\n",
    "y_train_ov.value_counts().sort_index()\n"
   ]
  },
  {
   "cell_type": "code",
   "execution_count": null,
   "id": "35a27066",
   "metadata": {
    "hidden": true
   },
   "outputs": [],
   "source": [
    "# Treinando o modelo com os conjuntos de dados de treinamento equalizados (RandomOverSampler)\n",
    "\n",
    "model.fit(X_train_ov, y_train_ov)\n"
   ]
  },
  {
   "cell_type": "code",
   "execution_count": null,
   "id": "093be736",
   "metadata": {
    "hidden": true
   },
   "outputs": [],
   "source": [
    "# Previsão de saída para o conjunto de dados de teste\n",
    "\n",
    "y_pred_ov = model.predict(X_test)\n"
   ]
  },
  {
   "cell_type": "code",
   "execution_count": null,
   "id": "0b0b4a1c",
   "metadata": {
    "hidden": true
   },
   "outputs": [],
   "source": [
    "# Calculando a pontuação \n",
    "score=[]\n",
    "\n",
    "score.append(['f1_score', 'RandomOverSampler', f1_score(y_test, y_pred_ov)])\n",
    "score.append(['roc_auc_score', 'RandomOverSampler', metrics.roc_auc_score(y_test, y_pred_ov)])\n"
   ]
  },
  {
   "cell_type": "code",
   "execution_count": null,
   "id": "84d3030f",
   "metadata": {
    "hidden": true
   },
   "outputs": [],
   "source": [
    "# Exibindo a pontuação\n",
    "\n",
    "print(\"Comparação das Pontuações: \")\n",
    "score\n"
   ]
  },
  {
   "cell_type": "markdown",
   "id": "d478deea",
   "metadata": {},
   "source": [
    "#### Aplicando o _UnderSampling_:"
   ]
  },
  {
   "cell_type": "code",
   "execution_count": null,
   "id": "42c0aab7",
   "metadata": {},
   "outputs": [],
   "source": [
    "# Instanciando RandomUnderSampler com a estratégia de equilibrar a classe majoritária\n",
    "\n",
    "undersample = RandomUnderSampler(sampling_strategy='majority')\n"
   ]
  },
  {
   "cell_type": "code",
   "execution_count": null,
   "id": "f0e106d4",
   "metadata": {},
   "outputs": [],
   "source": [
    "# Adequando as novas classes para treino\n",
    "\n",
    "X_train_un, y_train_un = undersample.fit_resample(X_train, y_train)\n"
   ]
  },
  {
   "cell_type": "code",
   "execution_count": null,
   "id": "efd5be14",
   "metadata": {},
   "outputs": [],
   "source": [
    "# Quantidade \"original\" separada para o conjunto de treino inicial\n",
    "\n",
    "y_train.value_counts().sort_index()\n"
   ]
  },
  {
   "cell_type": "code",
   "execution_count": null,
   "id": "23ac93e9",
   "metadata": {},
   "outputs": [],
   "source": [
    "# Quantidade \"equalizada\" com técnica de balanceamento para o conjunto de treino \n",
    "# note que a classe majoritária ficou com a mesma quantidade de elementos\n",
    "\n",
    "y_train_un.value_counts().sort_index()\n"
   ]
  },
  {
   "cell_type": "code",
   "execution_count": null,
   "id": "cc01f476",
   "metadata": {},
   "outputs": [],
   "source": [
    "# Treinando o modelo com os conjuntos de dados de treinamento equalizados (RandomUnderSampler)\n",
    "\n",
    "model.fit(X_train_un, y_train_un)\n"
   ]
  },
  {
   "cell_type": "code",
   "execution_count": null,
   "id": "332178c2",
   "metadata": {},
   "outputs": [],
   "source": [
    "# Previsão de saída para o conjunto de dados de teste\n",
    "\n",
    "y_pred_un = model.predict(X_test)\n"
   ]
  },
  {
   "cell_type": "code",
   "execution_count": null,
   "id": "74548d1c",
   "metadata": {},
   "outputs": [],
   "source": [
    "# Calculando a pontuação \n",
    "\n",
    "score.append(['f1_score', 'RandomUnderSampler', f1_score(y_test, y_pred_un)])\n",
    "score.append(['roc_auc_score', 'RandomUnderSampler', metrics.roc_auc_score(y_test, y_pred_un)])\n"
   ]
  },
  {
   "cell_type": "code",
   "execution_count": null,
   "id": "ac42720e",
   "metadata": {},
   "outputs": [],
   "source": [
    "# Exibindo a pontuação\n",
    "\n",
    "print(\"Comparação das Pontuações: \")\n",
    "score\n"
   ]
  },
  {
   "cell_type": "code",
   "execution_count": null,
   "id": "be4ee8cf",
   "metadata": {},
   "outputs": [],
   "source": []
  },
  {
   "cell_type": "markdown",
   "id": "086cc957",
   "metadata": {
    "heading_collapsed": true
   },
   "source": [
    "#### Aplicando o SMOTE"
   ]
  },
  {
   "cell_type": "code",
   "execution_count": null,
   "id": "4460d5eb",
   "metadata": {
    "hidden": true
   },
   "outputs": [],
   "source": [
    "# Instanciando SMOTE\n",
    "\n",
    "smote = SMOTE()\n"
   ]
  },
  {
   "cell_type": "code",
   "execution_count": null,
   "id": "391bae4a",
   "metadata": {
    "hidden": true
   },
   "outputs": [],
   "source": [
    "# Adequando as novas classes para treino\n",
    "\n",
    "X_train_sm, y_train_sm = smote.fit_resample(X_train, y_train)\n"
   ]
  },
  {
   "cell_type": "code",
   "execution_count": null,
   "id": "500839e4",
   "metadata": {
    "hidden": true
   },
   "outputs": [],
   "source": [
    "# Quantidade \"original\" separada para o conjunto de treino inicial\n",
    "\n",
    "y_train.value_counts()\n"
   ]
  },
  {
   "cell_type": "code",
   "execution_count": null,
   "id": "bb44b66e",
   "metadata": {
    "hidden": true
   },
   "outputs": [],
   "source": [
    "# Quantidade \"equalizada\" com técnica de balanceamento para o conjunto de treino \n",
    "# note que a classe majoritária ficou com a mesma quantidade de elementos\n",
    "\n",
    "y_train_sm.value_counts()\n"
   ]
  },
  {
   "cell_type": "code",
   "execution_count": null,
   "id": "e7c4f090",
   "metadata": {
    "hidden": true
   },
   "outputs": [],
   "source": [
    "# Treinando o modelo com os conjuntos de dados de treinamento equalizados (SMOTE)\n",
    "\n",
    "model.fit(X_train_sm, y_train_sm)\n"
   ]
  },
  {
   "cell_type": "code",
   "execution_count": null,
   "id": "3217e205",
   "metadata": {
    "hidden": true
   },
   "outputs": [],
   "source": [
    "# Previsão de saída para o conjunto de dados de teste\n",
    "\n",
    "y_pred_sm = model.predict(X_test)\n"
   ]
  },
  {
   "cell_type": "code",
   "execution_count": null,
   "id": "7c4ddfd0",
   "metadata": {
    "hidden": true
   },
   "outputs": [],
   "source": [
    "# Calculando a pontuação \n",
    "\n",
    "score.append(['f1_score', 'SMOTE', f1_score(y_test, y_pred_sm)])\n",
    "score.append(['roc_auc_score', 'SMOTE', metrics.roc_auc_score(y_test, y_pred_sm)])\n"
   ]
  },
  {
   "cell_type": "code",
   "execution_count": null,
   "id": "dca7c335",
   "metadata": {
    "hidden": true
   },
   "outputs": [],
   "source": [
    "# Exibindo a pontuação\n",
    "\n",
    "print(\"Comparação das Pontuações: \")\n",
    "score\n"
   ]
  },
  {
   "cell_type": "markdown",
   "id": "b4235340",
   "metadata": {},
   "source": [
    "#### Análise "
   ]
  },
  {
   "cell_type": "code",
   "execution_count": null,
   "id": "e21af330",
   "metadata": {},
   "outputs": [],
   "source": [
    "# Conmparação das pontuações após técnicas de balanceamento\n",
    "# Ordenando a pontuação\n",
    "score.sort(key = lambda y:y[2],reverse =True)\n",
    "\n",
    "# Exibindo a pontuação\n",
    "print(\"Comparação das Pontuações: \")\n",
    "score\n"
   ]
  },
  {
   "cell_type": "code",
   "execution_count": null,
   "id": "31073c7e",
   "metadata": {},
   "outputs": [],
   "source": [
    "# Utilizando o Cross Validation\n",
    "\n",
    "print(cross_val_score(model, X_train, y_train, scoring='accuracy', cv=5))\n"
   ]
  },
  {
   "cell_type": "code",
   "execution_count": null,
   "id": "77b58e29",
   "metadata": {},
   "outputs": [],
   "source": [
    "# Utilizando o StratifiedKFold\n",
    "\n",
    "kf = StratifiedKFold(n_splits=5)\n",
    "kf.get_n_splits(X_train)\n"
   ]
  },
  {
   "cell_type": "code",
   "execution_count": null,
   "id": "74001905",
   "metadata": {},
   "outputs": [],
   "source": [
    "from sklearn.metrics import accuracy_score, precision_score, recall_score, f1_score\n",
    "\n",
    "list_accuracy = []\n",
    "list_precision = []\n",
    "list_recall = []\n",
    "list_f1_score = []\n",
    "\n",
    "i = 1\n",
    "for train_index, val_index in kf.split(X_train, y_train):\n",
    "    print(\"============================================================================================\")\n",
    "    print(\"Fold \", i)\n",
    "    print(\"TRAIN:\", train_index, \"VALIDATION:\", val_index)\n",
    "    KFold_X_train, KFold_X_val = X_train[train_index], X_train[val_index]\n",
    "    KFold_y_train, KFold_y_val = y_train[train_index], y_train[val_index]\n",
    "    model.fit(KFold_X_train, KFold_y_train)\n",
    "    y_pred = model.predict(KFold_X_val)\n",
    "    #Calcula as métricas\n",
    "    acc = accuracy_score(KFold_y_val, y_pred)\n",
    "    prec = precision_score(KFold_y_val, y_pred)\n",
    "    recall = recall_score(KFold_y_val, y_pred)\n",
    "    f1 = f1_score(KFold_y_val, y_pred)\n",
    "    print(\"Accuracy: \", acc)\n",
    "    print(\"Precison: \", prec)\n",
    "    print(\"Recal:    \", recall)\n",
    "    print(\"F1-Score: \", f1)\n",
    "    # salva na lista\n",
    "    list_accuracy.append(acc)\n",
    "    list_precision.append(prec)\n",
    "    list_recall.append(recall)\n",
    "    list_f1_score.append(f1)\n",
    "    i += 1\n",
    "print(\"============================================================================================\")"
   ]
  },
  {
   "cell_type": "code",
   "execution_count": null,
   "id": "158ee18b",
   "metadata": {},
   "outputs": [],
   "source": []
  },
  {
   "cell_type": "markdown",
   "id": "35790e63",
   "metadata": {},
   "source": [
    "## Otimização do Modelo \n",
    "\n",
    "A partir do modelo escolhido no tópico anterior, vamos tentar aprimorar e garantir um melhor desempenho no modelo, seja fazendo validação cruzada, otimização de parâmetros com _GridSearchCV_ ou _RandomizedSearchCV_ e até mesmo testar diferentes _thresholds_ (ao invés de utilizar a função _predict_ do modelo, utilize a função _predict_proba_ do modelo e a partir das probabilidades determinar qual vai ser o limiar onde será considerado um caso positivo ou negativo);\n"
   ]
  },
  {
   "cell_type": "code",
   "execution_count": null,
   "id": "ec1f4fae",
   "metadata": {},
   "outputs": [],
   "source": [
    "# Definições do modelo \n",
    "pprint(model)\n",
    "\n",
    "# Parâmetros do modelo\n",
    "print(\"\")\n",
    "pprint(model.get_params())\n"
   ]
  },
  {
   "cell_type": "markdown",
   "id": "e232df37",
   "metadata": {},
   "source": [
    "Vamos entender o significado dos parâmetros que vamos mexer:\n",
    "\n",
    "**n_estimators** : São o número de árvores utilizada na floresta aleatória;<br>\n",
    "**criterion** : O critério de cálculo para a separação dos nós;<br>\n",
    "**max_depth** : Profundidade máxima da árvore;<br>\n",
    "**min_samples_split** : Quantidade mínima de dados em um nó antes da separação nas folhas;<br>\n",
    "**min_samples_split** : Quantidade mínima de dados em uma folha após a separação.<br>"
   ]
  },
  {
   "cell_type": "code",
   "execution_count": null,
   "id": "3c73bc8e",
   "metadata": {},
   "outputs": [],
   "source": []
  },
  {
   "cell_type": "markdown",
   "id": "7e1e2cb1",
   "metadata": {},
   "source": [
    "Para efetuarmos a otimização dos modelos vamos definir os __parâmetros__ que vamos variar e para quais valores vamos testar:"
   ]
  },
  {
   "cell_type": "code",
   "execution_count": null,
   "id": "1e49d722",
   "metadata": {},
   "outputs": [],
   "source": [
    "# Number of trees in random forest\n",
    "n_estimators = [int(x) for x in np.linspace(start = 200, stop = 2000, num = 5)]\n",
    "\n",
    "# Maximum number of levels in tree\n",
    "max_depth = [int(x) for x in np.linspace(10, 100, num = 5)]\n",
    "max_depth.append(None)\n",
    "\n",
    "# Minimum number of samples required to split a node\n",
    "min_samples_split = [2, 5, 10]\n",
    "\n",
    "# Minimum number of samples required at each leaf node\n",
    "min_samples_leaf = [1, 2, 4]\n",
    "\n",
    "# Create the random grid\n",
    "params_grid = {'n_estimators': n_estimators,\n",
    "               'max_depth': max_depth,\n",
    "               'min_samples_split': min_samples_split,\n",
    "               'min_samples_leaf': min_samples_leaf}\n",
    "\n",
    "pprint(params_grid)"
   ]
  },
  {
   "cell_type": "code",
   "execution_count": null,
   "id": "df53567d",
   "metadata": {},
   "outputs": [],
   "source": []
  },
  {
   "cell_type": "markdown",
   "id": "b9cd5a1a",
   "metadata": {},
   "source": [
    "Aplicando **GridSearchCV**:"
   ]
  },
  {
   "cell_type": "code",
   "execution_count": null,
   "id": "c4d391f8",
   "metadata": {},
   "outputs": [],
   "source": [
    "# Instanciando GridSearchCV com a variação dos parametros \n",
    "\n",
    "grid_search = GridSearchCV(estimator = model, \n",
    "                           param_grid = params_grid, \n",
    "                           scoring='accuracy', \n",
    "                           cv = 3, \n",
    "                           verbose = 2,\n",
    "                           n_jobs = -1)"
   ]
  },
  {
   "cell_type": "code",
   "execution_count": null,
   "id": "6a61de50",
   "metadata": {},
   "outputs": [],
   "source": [
    "%%time\n",
    "# Adequando as novas classes para treino\n",
    "\n",
    "grid_search.fit(X_train, y_train)"
   ]
  },
  {
   "cell_type": "code",
   "execution_count": null,
   "id": "20e266f1",
   "metadata": {},
   "outputs": [],
   "source": [
    "\n",
    "print(grid_search.cv_results_['mean_test_score'].mean())\n",
    "   "
   ]
  },
  {
   "cell_type": "code",
   "execution_count": null,
   "id": "b43e5f2f",
   "metadata": {},
   "outputs": [],
   "source": [
    "# apresentação dos melhores parametros\n",
    "\n",
    "grid_search.best_params_\n"
   ]
  },
  {
   "cell_type": "code",
   "execution_count": null,
   "id": "575e1d0c",
   "metadata": {},
   "outputs": [],
   "source": [
    "# Instanciando GradientBoostingClassifier com os melhores parametros\n",
    "\n",
    "model_gs = GradientBoostingClassifier(max_depth = 10,\n",
    "                                  min_samples_leaf = 1,\n",
    "                                  min_samples_split = 2,\n",
    "                                  n_estimators = 200,\n",
    "                                  random_state = 42)"
   ]
  },
  {
   "cell_type": "code",
   "execution_count": null,
   "id": "e8636243",
   "metadata": {},
   "outputs": [],
   "source": [
    "# Adequando as novas classes para treino\n",
    "\n",
    "model_gs.fit(X_train, y_train)\n"
   ]
  },
  {
   "cell_type": "code",
   "execution_count": null,
   "id": "3d8d1bf1",
   "metadata": {},
   "outputs": [],
   "source": [
    "# Previsão de saída para o conjunto de dados de teste\n",
    "\n",
    "y_pred_gs = model_gs.predict(X_test)\n"
   ]
  },
  {
   "cell_type": "code",
   "execution_count": null,
   "id": "40010aaa",
   "metadata": {},
   "outputs": [],
   "source": [
    "print(accuracy_score(y_test, y_pred_gs))"
   ]
  },
  {
   "cell_type": "code",
   "execution_count": null,
   "id": "5854acc2",
   "metadata": {},
   "outputs": [],
   "source": [
    "acc_grid = accuracy_score(y_test, y_pred_gs)"
   ]
  },
  {
   "cell_type": "code",
   "execution_count": null,
   "id": "6f9a6847",
   "metadata": {},
   "outputs": [],
   "source": []
  },
  {
   "cell_type": "markdown",
   "id": "620cd2f2",
   "metadata": {},
   "source": [
    "Aplicando **RandomizedSearchCV**:"
   ]
  },
  {
   "cell_type": "code",
   "execution_count": null,
   "id": "c26eecd5",
   "metadata": {},
   "outputs": [],
   "source": [
    "# Instanciando RandomizedSearchCV com a variação dos parametros \n",
    "\n",
    "random_search = RandomizedSearchCV(estimator = model, \n",
    "                                   param_distributions = params_grid, \n",
    "                                   n_iter = 100, \n",
    "                                   cv = 3, \n",
    "                                   verbose=2,\n",
    "                                   n_jobs = -1)\n"
   ]
  },
  {
   "cell_type": "code",
   "execution_count": null,
   "id": "69d852ba",
   "metadata": {},
   "outputs": [],
   "source": [
    "%%time\n",
    "\n",
    "# Adequando as novas classes para treino\n",
    "\n",
    "random_search.fit(X_train, y_train)\n"
   ]
  },
  {
   "cell_type": "code",
   "execution_count": null,
   "id": "5ca20187",
   "metadata": {},
   "outputs": [],
   "source": [
    "\n",
    "print(random_search.cv_results_['mean_test_score'].mean())\n"
   ]
  },
  {
   "cell_type": "code",
   "execution_count": null,
   "id": "52466bf2",
   "metadata": {},
   "outputs": [],
   "source": [
    "# apresentação dos melhores parametros\n",
    "\n",
    "random_search.best_params_\n"
   ]
  },
  {
   "cell_type": "code",
   "execution_count": null,
   "id": "fdd485d2",
   "metadata": {},
   "outputs": [],
   "source": [
    "\n",
    "model_rs = RandomForestClassifier(max_depth = 100,\n",
    "                                  min_samples_leaf = 2,\n",
    "                                  min_samples_split = 2,\n",
    "                                  n_estimators = 650,\n",
    "                                  random_state = 42)"
   ]
  },
  {
   "cell_type": "code",
   "execution_count": null,
   "id": "b170c633",
   "metadata": {},
   "outputs": [],
   "source": [
    "model_rs.fit(X_train, y_train)"
   ]
  },
  {
   "cell_type": "code",
   "execution_count": null,
   "id": "38586006",
   "metadata": {},
   "outputs": [],
   "source": [
    "y_pred_rs = model_rs.predict(X_test)"
   ]
  },
  {
   "cell_type": "code",
   "execution_count": null,
   "id": "bd2aa95b",
   "metadata": {},
   "outputs": [],
   "source": [
    "print(accuracy_score(y_test, y_pred_rs))"
   ]
  },
  {
   "cell_type": "code",
   "execution_count": null,
   "id": "d0b9b22c",
   "metadata": {},
   "outputs": [],
   "source": [
    "acc_random = accuracy_score(y_test, y_pred_rs)"
   ]
  },
  {
   "cell_type": "code",
   "execution_count": null,
   "id": "fb97299c",
   "metadata": {},
   "outputs": [],
   "source": [
    "print(\"Comparação das Acurácias: \")\n",
    "print('Acurácia sem Otimização:         ', np.round(acc, 3))\n",
    "print('Acurácia com GridSearchCV:       ', np.round(acc_grid, 3))\n",
    "print('Acurácia com RandomizedSearchCV: ', np.round(acc_random, 3))"
   ]
  },
  {
   "cell_type": "code",
   "execution_count": null,
   "id": "8620ecb5",
   "metadata": {},
   "outputs": [],
   "source": []
  },
  {
   "cell_type": "markdown",
   "id": "e3e924ec",
   "metadata": {},
   "source": [
    "## Conclusões sobre o Projeto\n",
    "\n",
    "Para finalizar, descreva as suas conclusões sobre o desenvolvimento do modelo e os resultados obtidos."
   ]
  },
  {
   "cell_type": "code",
   "execution_count": null,
   "id": "4dcdf4de",
   "metadata": {},
   "outputs": [],
   "source": []
  },
  {
   "cell_type": "code",
   "execution_count": null,
   "id": "ccde7f37",
   "metadata": {},
   "outputs": [],
   "source": []
  },
  {
   "cell_type": "code",
   "execution_count": null,
   "id": "6ba26ae9",
   "metadata": {},
   "outputs": [],
   "source": []
  },
  {
   "cell_type": "code",
   "execution_count": null,
   "id": "6c1f0cc5",
   "metadata": {},
   "outputs": [],
   "source": []
  },
  {
   "cell_type": "code",
   "execution_count": null,
   "id": "4ad9fc9e",
   "metadata": {},
   "outputs": [],
   "source": []
  },
  {
   "cell_type": "markdown",
   "id": "7dfeeb34",
   "metadata": {},
   "source": [
    "\n",
    "---\n",
    "\n",
    "**Conclusões:** \n",
    "\n",
    "Criamos um novo dataframe denominado dfc, retiramos as variáveis que definimos não ser relevantes para o modelo e excluimos todos os registros com valores faltantes, pois identificamos anteriormente que o percentual de valores faltantes eram mínimos.\n",
    "\n",
    "\n",
    "Conforme apresentado no quadro acima de comparações de dataframes."
   ]
  },
  {
   "cell_type": "code",
   "execution_count": null,
   "id": "b387c3a6",
   "metadata": {},
   "outputs": [],
   "source": []
  },
  {
   "cell_type": "code",
   "execution_count": null,
   "id": "0076c103",
   "metadata": {},
   "outputs": [],
   "source": []
  },
  {
   "cell_type": "code",
   "execution_count": null,
   "id": "6330c8c7",
   "metadata": {},
   "outputs": [],
   "source": []
  },
  {
   "cell_type": "code",
   "execution_count": null,
   "id": "de1e03a3",
   "metadata": {},
   "outputs": [],
   "source": []
  },
  {
   "cell_type": "code",
   "execution_count": null,
   "id": "75184817",
   "metadata": {},
   "outputs": [],
   "source": []
  },
  {
   "cell_type": "markdown",
   "id": "c2964a2e",
   "metadata": {},
   "source": [
    "fit () : Treina o modelo para um determinado número de épocas (isto é para o tempo de treinamento, com o conjunto de dados de treinamento).\n",
    "\n",
    "predict () : gera previsões de saída para as amostras de entrada (isso é para algum lugar entre o tempo de treinamento e teste).\n",
    "\n",
    "evaluate () : Retorna o valor da perda e os valores das métricas para o modelo no modo de teste (isso é para o tempo de teste, com o conjunto de dados de teste).\n",
    "    \n",
    "    \n",
    "    \n",
    "fit() é para treinar o modelo com as entradas dadas.\n",
    "\n",
    "predict() é para a previsão real. Ele gera previsões de saída para as amostras de entrada.\n",
    "\n",
    "evaluate() é para avaliar o modelo já treinado. Retorna o valor da perda e os valores das métricas para o modelo.\n",
    "\n",
    "Vamos considerar um exemplo de regressão simples:    "
   ]
  },
  {
   "cell_type": "code",
   "execution_count": null,
   "id": "f3e54401",
   "metadata": {},
   "outputs": [],
   "source": []
  },
  {
   "cell_type": "code",
   "execution_count": null,
   "id": "de8541ee",
   "metadata": {},
   "outputs": [],
   "source": [
    "# O objetivo do modelo é prever os casos confirmados de COVID a partir do diagnóstico de sintomas e informações dos pacientes.\n",
    "\n",
    "# Para melhorar o dataframe optamos em retirar os pacientes sem informação de declarada de pregnancy\n",
    "dfc.dropna(subset = [\"pregnancy_new\"], inplace=True)\n",
    "\n",
    "print (f'pregnancy - Percentual de valores NaN: {100 * dfc[\"pregnancy_new\"].isnull().sum() / len(dfc):.2f}')"
   ]
  },
  {
   "cell_type": "code",
   "execution_count": null,
   "id": "7bfaeff3",
   "metadata": {},
   "outputs": [],
   "source": [
    "Com a alteração \n",
    "deixar a base consistente"
   ]
  },
  {
   "cell_type": "code",
   "execution_count": null,
   "id": "4209d503",
   "metadata": {},
   "outputs": [],
   "source": [
    "# Verificando se o dataframe esta balanceado, onde o resultado do teste foi Positivo ou Negativo (1 / 0)\n",
    "\n",
    "df['covid_res'].value_counts()\n"
   ]
  },
  {
   "cell_type": "code",
   "execution_count": null,
   "id": "39cdc4a7",
   "metadata": {},
   "outputs": [],
   "source": [
    "for col in df.columns:\n",
    "    print(f\"{col}\")"
   ]
  },
  {
   "cell_type": "code",
   "execution_count": null,
   "id": "4a16c1a7",
   "metadata": {},
   "outputs": [],
   "source": [
    "\n",
    "    col = 'covid_res'\n",
    "\n",
    "    total = len(df)\n",
    "    plt.figure(figsize=(8,7))\n",
    "\n",
    "    g = sns.countplot(x=col, data=df, palette=colors)\n",
    "    g.set_title(f\"Distribuição da variável {col}\")\n",
    "    g.set_xlabel(f\"{col}\")\n",
    "    g.set_ylabel(\"Quantidade\")\n",
    "\n",
    "    sizes=[]\n",
    "\n",
    "    for p in g.patches:\n",
    "        height = p.get_height()\n",
    "        sizes.append(height)\n",
    "        g.text(p.get_x()+p.get_width()/2.,\n",
    "                height + 3,\n",
    "                '{:1.2f}%'.format((height/total)*100),\n",
    "                ha=\"center\", fontsize=14) \n",
    "\n",
    "    g.set_ylim(0, max(sizes) * 1.15)\n",
    "\n",
    "    plt.show()"
   ]
  },
  {
   "cell_type": "code",
   "execution_count": null,
   "id": "2900b8ec",
   "metadata": {},
   "outputs": [],
   "source": [
    "\n",
    "\n",
    "counter = 1\n",
    "ct_ax = 0\n",
    "\n",
    "for col in df.columns:\n",
    "    if ct_ax == 0:\n",
    "        ax1 = plt.subplot(12, 2, counter)        \n",
    "        sns.countplot(x=col, data=df, palette=colors, ax = ax1)\n",
    "        ax1.set_title(f\"Distribuição da variável {col}\")\n",
    "        ax1.set_xlabel(f\"{col}\")\n",
    "        ax1.set_ylabel(\"Quantidade\")\n",
    "        sns.boxplot(data = df, x = col, ax = ax1)\n",
    "        counter += 1\n",
    "        ct_ax = 1\n",
    "\n",
    "        sizes=[]\n",
    "\n",
    "        for p in ax1.patches:\n",
    "            height = p.get_height()\n",
    "            sizes.append(height)\n",
    "            ax1.text(p.get_x()+p.get_width()/2.,\n",
    "                    height + 3,\n",
    "                    '{:1.2f}%'.format((height/total)*100),\n",
    "                    ha=\"center\", fontsize=14) \n",
    "        \n",
    "    if ct_aux == 1:\n",
    "        ax2 = plt.subplot(12, 2, counter)        \n",
    "        sns.countplot(x=col, data=df, palette=colors, ax = ax2)\n",
    "        ax2.set_title(f\"Distribuição da variável {col}\")\n",
    "        ax2.set_xlabel(f\"{col}\")\n",
    "        ax2.set_ylabel(\"Quantidade\")\n",
    "        sns.boxplot(data = df, x = col, ax = ax2)\n",
    "        counter += 1\n",
    "        ct_ax = 0\n",
    "\n",
    "        sizes=[]\n",
    "\n",
    "        for p in ax2.patches:\n",
    "            height = p.get_height()\n",
    "            sizes.append(height)\n",
    "            ax2.text(p.get_x()+p.get_width()/2.,\n",
    "                    height + 3,\n",
    "                    '{:1.2f}%'.format((height/total)*100),\n",
    "                    ha=\"center\", fontsize=14) \n",
    "        \n",
    "plt.show()\n",
    "\n",
    "\n"
   ]
  },
  {
   "cell_type": "code",
   "execution_count": null,
   "id": "a6ca3a0b",
   "metadata": {},
   "outputs": [],
   "source": [
    "total = len(df)\n",
    "plt.figure(figsize=(8,7))\n",
    "\n",
    "g = sns.countplot(x='covid_res', data=df, palette=colors)\n",
    "g.set_title(\"Distribuição da variável de testes de Covid\")\n",
    "g.set_xlabel(\"Testes\")\n",
    "g.set_ylabel(\"Quantidade\")\n",
    "\n",
    "sizes=[]\n",
    "\n",
    "for p in g.patches:\n",
    "    height = p.get_height()\n",
    "    sizes.append(height)\n",
    "    g.text(p.get_x()+p.get_width()/2.,\n",
    "            height + 3,\n",
    "            '{:1.2f}%'.format((height/total)*100),\n",
    "            ha=\"center\", fontsize=14) \n",
    "    \n",
    "g.set_ylim(0, max(sizes) * 1.15)\n",
    "\n",
    "plt.show()"
   ]
  },
  {
   "cell_type": "code",
   "execution_count": null,
   "id": "b80c2285",
   "metadata": {},
   "outputs": [],
   "source": [
    "df.corr().style.background_gradient(cmap='YlGnBu')"
   ]
  },
  {
   "cell_type": "code",
   "execution_count": null,
   "id": "4c7504a9",
   "metadata": {},
   "outputs": [],
   "source": [
    "dfc.describe().T"
   ]
  },
  {
   "cell_type": "code",
   "execution_count": null,
   "id": "24578eb8",
   "metadata": {},
   "outputs": [],
   "source": [
    "sns.catplot(x=\"sex\", kind=\"count\", palette=colors, data=dfc)\n",
    "plt.show()"
   ]
  },
  {
   "cell_type": "code",
   "execution_count": null,
   "id": "e02dd029",
   "metadata": {},
   "outputs": [],
   "source": [
    "sns.catplot(x=\"sex\", y=\"age\", kind=\"boxen\", palette=colors, data=dfc.sort_values(\"age\"))\n",
    "plt.show()"
   ]
  },
  {
   "cell_type": "code",
   "execution_count": null,
   "id": "91f7d2ef",
   "metadata": {},
   "outputs": [],
   "source": [
    "dfc.corr().style.background_gradient(cmap='YlGnBu')"
   ]
  },
  {
   "cell_type": "markdown",
   "id": "9f346bf6",
   "metadata": {},
   "source": [
    "### Auto EDA"
   ]
  },
  {
   "cell_type": "markdown",
   "id": "524c36c2",
   "metadata": {},
   "source": [
    "#### Análise exploratória de dados usando D-tale"
   ]
  },
  {
   "cell_type": "code",
   "execution_count": null,
   "id": "5b21f540",
   "metadata": {},
   "outputs": [],
   "source": [
    "# Instalação da biblioteca\n",
    "#!pip install dtale\n",
    "\n",
    "# Site oficial\n",
    "# https://pypi.org/project/dtale/"
   ]
  },
  {
   "cell_type": "code",
   "execution_count": null,
   "id": "89ed72ee",
   "metadata": {},
   "outputs": [],
   "source": [
    "import dtale \n",
    "\n",
    "#df = pd.read_csv('./COVID.csv')\n",
    "d = dtale.show (dfc) \n",
    "d.open_browser() #Aguarde até a página do d-tale"
   ]
  },
  {
   "cell_type": "code",
   "execution_count": null,
   "id": "ff9daa2d",
   "metadata": {},
   "outputs": [],
   "source": []
  },
  {
   "cell_type": "markdown",
   "id": "3d5fa047",
   "metadata": {},
   "source": [
    "#### Análise exploratória de Dados usando Pandas Profiling"
   ]
  },
  {
   "cell_type": "code",
   "execution_count": null,
   "id": "e6fddaa7",
   "metadata": {},
   "outputs": [],
   "source": [
    "# Instalação da biblioteca\n",
    "#!pip install pandas-profiling\n",
    "\n",
    "# Site oficial\n",
    "# https://pypi.org/project/pandas-profiling/"
   ]
  },
  {
   "cell_type": "code",
   "execution_count": null,
   "id": "15d711aa",
   "metadata": {},
   "outputs": [],
   "source": [
    "#importing pacotes necessários\n",
    "import pandas_profiling\n",
    "\n",
    "#importing the data\n",
    "df = pd.read_csv('./COVID.csv')\n",
    "\n",
    "#estatísticas descritivas\n",
    "pandas_profiling.ProfileReport (df) # Aguarde o tpemino do processamento, pode ser demorado devido ao tamanho do dataframe"
   ]
  },
  {
   "cell_type": "markdown",
   "id": "850c6905",
   "metadata": {},
   "source": [
    "#### Análise exploratória de Dados usando Sweetviz"
   ]
  },
  {
   "cell_type": "code",
   "execution_count": null,
   "id": "3501974d",
   "metadata": {},
   "outputs": [],
   "source": [
    "# Instalação da biblioteca\n",
    "#!pip install sweetviz\n",
    "\n",
    "# Site oficial\n",
    "# https://pypi.org/project/sweetviz/"
   ]
  },
  {
   "cell_type": "code",
   "execution_count": null,
   "id": "30455aa0",
   "metadata": {},
   "outputs": [],
   "source": [
    "import sweetviz\n",
    "\n",
    "df = pd.read_csv('./COVID.csv')\n",
    "my_report = sweetviz.analyze ([df, 'Train'], target_feat = 'covid_res')\n",
    "my_report.show_html ('FinalReport.html')"
   ]
  },
  {
   "cell_type": "code",
   "execution_count": null,
   "id": "6de6f53f",
   "metadata": {},
   "outputs": [],
   "source": []
  },
  {
   "cell_type": "markdown",
   "id": "8ff5c663",
   "metadata": {},
   "source": [
    "#### Análise exploratória de Dados usando Autoviz"
   ]
  },
  {
   "cell_type": "code",
   "execution_count": null,
   "id": "d6f54403",
   "metadata": {},
   "outputs": [],
   "source": [
    "# Instalação da biblioteca\n",
    "#!pip install autoviz\n",
    "\n",
    "# Site oficial\n",
    "# https://pypi.org/project/autoviz/"
   ]
  },
  {
   "cell_type": "code",
   "execution_count": null,
   "id": "7b6786a3",
   "metadata": {},
   "outputs": [],
   "source": [
    "from autoviz.AutoViz_Class import AutoViz_Class\n",
    "AV = AutoViz_Class ()\n",
    "df = AV.AutoViz ('./COVID.csv')"
   ]
  },
  {
   "cell_type": "code",
   "execution_count": null,
   "id": "8b1f4357",
   "metadata": {},
   "outputs": [],
   "source": []
  },
  {
   "cell_type": "code",
   "execution_count": null,
   "id": "c877fccf",
   "metadata": {},
   "outputs": [],
   "source": []
  },
  {
   "cell_type": "code",
   "execution_count": null,
   "id": "96096dbb",
   "metadata": {},
   "outputs": [],
   "source": []
  },
  {
   "cell_type": "code",
   "execution_count": null,
   "id": "10362ef8",
   "metadata": {},
   "outputs": [],
   "source": []
  },
  {
   "cell_type": "code",
   "execution_count": null,
   "id": "a11f24d2",
   "metadata": {},
   "outputs": [],
   "source": []
  },
  {
   "cell_type": "markdown",
   "id": "c73d27ad",
   "metadata": {},
   "source": [
    "### Machine learning"
   ]
  },
  {
   "cell_type": "code",
   "execution_count": null,
   "id": "1428ad7f",
   "metadata": {},
   "outputs": [],
   "source": [
    "X_train, X_test, y_train, y_test = train_test_split(X, y, test_size=0.33, random_state=42, stratify=y)"
   ]
  },
  {
   "cell_type": "code",
   "execution_count": null,
   "id": "d46edf7a",
   "metadata": {},
   "outputs": [],
   "source": [
    "random_seed = 42\n",
    "\n",
    "list_models = [\n",
    "{'model_name': 'Decision Tree',\n",
    " 'estimator' : DecisionTreeClassifier(random_state = random_seed)},\n",
    "{'model_name': 'Random Forest',\n",
    " 'estimator' : RandomForestClassifier(random_state = random_seed)}, \n",
    "{'model_name': 'AdaBoost',\n",
    " 'estimator' : AdaBoostClassifier(random_state = random_seed)},\n",
    "{'model_name': 'GradientBoosting',\n",
    " 'estimator' : GradientBoostingClassifier(random_state = random_seed)},\n",
    "{'model_name': 'XGBoost',\n",
    " 'estimator' : XGBClassifier(random_state = random_seed)},\n",
    "{'model_name': 'LightGBM',\n",
    " 'estimator' : lgb.LGBMClassifier(random_state = random_seed)}\n",
    "]"
   ]
  },
  {
   "cell_type": "code",
   "execution_count": null,
   "id": "1a430796",
   "metadata": {},
   "outputs": [],
   "source": [
    "test_models_plot_roc_auc_curve(list_models,\n",
    "                              \"model_name\",\n",
    "                              \"estimator\",\n",
    "                              X_train,\n",
    "                              X_test,\n",
    "                              y_train,\n",
    "                              y_test)"
   ]
  },
  {
   "cell_type": "code",
   "execution_count": null,
   "id": "e293a91d",
   "metadata": {},
   "outputs": [],
   "source": []
  },
  {
   "cell_type": "markdown",
   "id": "4c3818ff",
   "metadata": {},
   "source": [
    "### AutoML (Automate model)"
   ]
  },
  {
   "cell_type": "code",
   "execution_count": null,
   "id": "8bf29b77",
   "metadata": {},
   "outputs": [],
   "source": [
    "import sklearn.model_selection\n",
    "import sklearn.datasets\n",
    "import sklearn.metrics\n",
    "\n",
    "import autosklearn.regression\n",
    "\n",
    "def main():\n",
    "X, y = sklearn.datasets.load_boston(return_X_y=True)\n",
    "feature_types = (['numerical'] * 3) + ['categorical'] + (['numerical'] * 9)\n",
    "X_train, X_test, y_train, y_test = \\\n",
    "sklearn.model_selection.train_test_split(X, y, random_state=1)\n",
    "\n",
    "automl = autosklearn.regression.AutoSklearnRegressor(\n",
    "time_left_for_this_task=120,\n",
    "per_run_time_limit=30,\n",
    "tmp_folder='/tmp/autosklearn_regression_example_tmp',\n",
    "output_folder='/tmp/autosklearn_regression_example_out',\n",
    ")\n",
    "automl.fit(X_train, y_train, dataset_name='boston',\n",
    "feat_type=feature_types)\n",
    "\n",
    "print(automl.show_models())\n",
    "predictions = automl.predict(X_test)\n",
    "print(\"R2 score:\", sklearn.metrics.r2_score(y_test, predictions))\n",
    "\n",
    "\n",
    "if __name__ == '__main__':\n",
    "main()"
   ]
  },
  {
   "cell_type": "code",
   "execution_count": null,
   "id": "053c95a7",
   "metadata": {},
   "outputs": [],
   "source": []
  },
  {
   "cell_type": "code",
   "execution_count": null,
   "id": "abdb01b4",
   "metadata": {},
   "outputs": [],
   "source": []
  },
  {
   "cell_type": "code",
   "execution_count": null,
   "id": "e3b8b2d3",
   "metadata": {},
   "outputs": [],
   "source": []
  },
  {
   "cell_type": "code",
   "execution_count": null,
   "id": "2961fe1e",
   "metadata": {},
   "outputs": [],
   "source": [
    "# Import libraries\n",
    "!pip install autokeras\n",
    "\n",
    "# Site oficial\n",
    "#https://pypi.org/project/autokeras/"
   ]
  },
  {
   "cell_type": "code",
   "execution_count": null,
   "id": "289cc018",
   "metadata": {},
   "outputs": [],
   "source": [
    "!pip install tensorflow --user"
   ]
  },
  {
   "cell_type": "code",
   "execution_count": null,
   "id": "52f689e8",
   "metadata": {},
   "outputs": [],
   "source": [
    "import TensorFlow as tf\n",
    "from tensorflow.keras.datasets import mnist\n",
    "import autokeras as ak"
   ]
  },
  {
   "cell_type": "code",
   "execution_count": null,
   "id": "39c5cf99",
   "metadata": {},
   "outputs": [],
   "source": [
    "# Load the data \n",
    "(x_train, y_train), (x_test, y_test) = mnist.load_data()\n",
    "print(x_train.shape)  # (60000, 28, 28)\n",
    "print(y_train.shape)  # (60000,)\n",
    "print(y_train[:3])  # array([7, 2, 1], dtype=uint8)"
   ]
  },
  {
   "cell_type": "code",
   "execution_count": null,
   "id": "0a5c1104",
   "metadata": {},
   "outputs": [],
   "source": [
    "# Initialize the image classifier\n",
    "clf = ak.ImageClassifier(overwrite=True, max_trials=1)\n",
    "# Input the training data\n",
    "clf.fit(x_train, y_train, epochs=10)\n",
    "# Make prediction with the best model on the test dataset\n",
    "predicted_y = clf.predict(x_test)\n",
    "print(predicted_y)\n",
    "# Evaluate the model on the test dataset\n",
    "print(clf.evaluate(x_test, y_test))"
   ]
  },
  {
   "cell_type": "code",
   "execution_count": null,
   "id": "f23c9f50",
   "metadata": {},
   "outputs": [],
   "source": [
    "# With 85% training dataset and 15% validation dataset \n",
    "clf.fit(x_train, y_train,validation_split=0.15,epochs=10)"
   ]
  },
  {
   "cell_type": "code",
   "execution_count": null,
   "id": "e4cce2dd",
   "metadata": {},
   "outputs": [],
   "source": [
    "# Initialize AutoKeras input and output nodes\n",
    "input_node = ak.ImageInput()\n",
    "output_node = ak.ImageBlock()\n",
    "# Your neural network options, here we try Resnet\n",
    "block_type=\"resnet\",\n",
    "# You can Normalize the dataset\n",
    "normalize=True,\n",
    "# You can add data augmentation\n",
    "augment=False)(input_node)\n",
    "# Build your output layer with the numbers of classes (in this example, 10 numbers 0-9)\n",
    "output_node = ak.ClassificationHead()(output_node)\n",
    "# Compile the input and output layers \n",
    "clf = ak.AutoModel(inputs=input_node, outputs=output_node, overwrite=True, max_trials=1)\n",
    "# Train the model on the training dataset\n",
    "clf.fit(x_train, y_train, epochs=10)"
   ]
  },
  {
   "cell_type": "code",
   "execution_count": null,
   "id": "f69102ce",
   "metadata": {},
   "outputs": [],
   "source": [
    "# Build your tensors from the train and test datasets \n",
    "train_set = tf.data.Dataset.from_tensor_slices(((x_train,), (y_train,)))\n",
    "test_set = tf.data.Dataset.from_tensor_slices(((x_test,), (y_test,)))\n",
    "# Create your autokeras image classifier \n",
    "clf = ak.ImageClassifier(overwrite=True, max_trials=1)\n",
    "# Train the model on the training dataset\n",
    "clf.fit(train_set, epochs=1)\n",
    "# Predict with the model with the test dataset\n",
    "predicted_y = clf.predict(test_set)\n",
    "# Evaluate the model with the test dataset \n",
    "print(clf.evaluate(test_set))"
   ]
  },
  {
   "cell_type": "code",
   "execution_count": null,
   "id": "0960f345",
   "metadata": {},
   "outputs": [],
   "source": []
  },
  {
   "cell_type": "code",
   "execution_count": null,
   "id": "7d8c83a5",
   "metadata": {},
   "outputs": [],
   "source": []
  },
  {
   "cell_type": "code",
   "execution_count": null,
   "id": "39a00b01",
   "metadata": {},
   "outputs": [],
   "source": [
    "# Verificando a correlação entre as variáveis usando o parplot do Seaborn. \n",
    "#sns.pairplot(dfc)\n",
    "#plt.savefig(\"Plotting_Correlation_pairplot.jpg\")\n",
    "#plt.show()"
   ]
  },
  {
   "cell_type": "code",
   "execution_count": null,
   "id": "1adc3246",
   "metadata": {},
   "outputs": [],
   "source": [
    "# Verificando a correlação entre as variáveis usando o PairGrid do Seaborn\n",
    "#g = sns.PairGrid(df)\n",
    "#g.map_upper(sns.histplot)\n",
    "#g.map_lower(sns.kdeplot, fill=True)\n",
    "#g.map_diag(sns.histplot, kde=True)\n",
    "#plt.savefig(\"Plotting_Correlation_PairGrid.jpg\")\n",
    "#plt.show()"
   ]
  },
  {
   "cell_type": "code",
   "execution_count": null,
   "id": "960bf3ef",
   "metadata": {},
   "outputs": [],
   "source": [
    "# \"Filtrando\" o percentual de correlação do dataframe\n",
    "#dfCorr = dfc.corr()\n",
    "#filteredDf = dfCorr[((dfCorr >= .5) | (dfCorr <= -.5)) & (dfCorr !=1.000)]"
   ]
  },
  {
   "cell_type": "code",
   "execution_count": null,
   "id": "f739398c",
   "metadata": {},
   "outputs": [],
   "source": [
    "# Verificando a correlação entre as variáveis com heatmap\n",
    "#plt.figure(figsize=(30,15))\n",
    "#sns.heatmap(filteredDf, annot=True, cmap=\"YlGnBu\")\n",
    "#plt.savefig(\"Plotting_Correlation_heatmap.jpg\")\n",
    "#plt.show()"
   ]
  },
  {
   "cell_type": "code",
   "execution_count": null,
   "id": "ad681b20",
   "metadata": {},
   "outputs": [],
   "source": [
    "# analisando os dados por boxplot e histograma\n",
    "var = dfc.columns\n",
    "plt.figure(figsize=(15,60))\n",
    "\n",
    "counter = 1\n",
    "\n",
    "for v in var:\n",
    "    ax1 = plt.subplot(12, 2, counter)\n",
    "    ax1.set_title(v)\n",
    "    sns.boxplot(data = dfc, x = v, color=\"#f51d3e\", ax = ax1)\n",
    "    counter += 1\n",
    "    ax2 = plt.subplot(12, 2, counter)\n",
    "    ax2.set_title(v)\n",
    "    sns.histplot(data = dfc, x = v, kde = True, color=\"#f51d3e\", ax=ax2)\n",
    "    counter += 1\n",
    "    \n",
    "plt.show()"
   ]
  },
  {
   "cell_type": "code",
   "execution_count": null,
   "id": "bbaa75a8",
   "metadata": {},
   "outputs": [],
   "source": []
  },
  {
   "cell_type": "code",
   "execution_count": null,
   "id": "7ce73e2e",
   "metadata": {},
   "outputs": [],
   "source": [
    "# Cria novo dataframe\n",
    "# Seleciona todas as linhas duplicadas no dataframe baseado em todas as colunas\n",
    "df_r_duplicateRows = df[df.duplicated(keep=False)].copy()\n",
    "print(\"Todas as linhas duplicadas:\")\n",
    "print(df_r_duplicateRows.shape)\n",
    "\n",
    "df[df.duplicated(keep=False)].shape()\n",
    "\n",
    "# Excluindo os linhas duplicadas\n",
    "df_r_clean = df_r.drop_duplicates(keep='first').copy()\n",
    "df_r_clean.shape\n"
   ]
  },
  {
   "cell_type": "code",
   "execution_count": null,
   "id": "a6b33696",
   "metadata": {},
   "outputs": [],
   "source": [
    "df['pregnancy_new'].unique()"
   ]
  },
  {
   "cell_type": "code",
   "execution_count": null,
   "id": "c7632f81",
   "metadata": {},
   "outputs": [],
   "source": [
    "# pregnancy \n",
    "# Os valores nulos (NaN), foram atualizados para 0, onde a variável sex é igual a 0 (Sexo do Paciente 0 - Homem / 1 - Mulher)\n",
    "    \n",
    "# Method using np.where\n",
    "df['pregnancy_new'] = np.where(df['sex'] == 0, 0, df['pregnancy'])\n",
    "\n",
    "# ============== ALTERNATIVE METHODS ==============\n",
    "## Method using np.select\n",
    "# df['pregnancy_new'] = np.select([df['pregnancy']==0], [0], default=df['pregnancy'])\n",
    "\n",
    "## Method applying lambda function with if\n",
    "# df['pregnancy_new'] = df[['pregnancy_new', 'pregnancy']].apply(lambda x: x[0] if x[1]==0 else x[0], axis=1)\n",
    "\n",
    "## Method A using loc\n",
    "# df.loc[df['pregnancy']!=0, 'pregnancy_new'] = df['pregnancy']\n",
    "# df.loc[df['pregnancy']==0, 'pregnancy_new'] = 0\n",
    "\n",
    "## Method B using loc (works as long as df['radius'] has no missing data)\n",
    "# df['pregnancy_new'] = df['pregnancy']\n",
    "# df.loc[df['pregnancy']==0, 'pregnancy_new'] = 0\n",
    "\n",
    "# Inspect results\n",
    "df"
   ]
  },
  {
   "cell_type": "code",
   "execution_count": null,
   "id": "5b873769",
   "metadata": {},
   "outputs": [],
   "source": [
    "# analisando informações básicas do dataframe\n",
    "df.info()"
   ]
  },
  {
   "cell_type": "code",
   "execution_count": null,
   "id": "40922806",
   "metadata": {},
   "outputs": [],
   "source": [
    "(392268 / 499692) * 100"
   ]
  },
  {
   "cell_type": "code",
   "execution_count": null,
   "id": "cee672cf",
   "metadata": {},
   "outputs": [],
   "source": [
    "( 11 / qtl ) * 100"
   ]
  },
  {
   "cell_type": "code",
   "execution_count": null,
   "id": "5083c7c2",
   "metadata": {},
   "outputs": [],
   "source": [
    "df.count()"
   ]
  },
  {
   "cell_type": "code",
   "execution_count": null,
   "id": "554fd002",
   "metadata": {},
   "outputs": [],
   "source": [
    "(df.isnull().sum() / qtl) * 100"
   ]
  },
  {
   "cell_type": "code",
   "execution_count": null,
   "id": "a91c92b8",
   "metadata": {},
   "outputs": [],
   "source": [
    "df.count()"
   ]
  },
  {
   "cell_type": "code",
   "execution_count": null,
   "id": "e52fb681",
   "metadata": {},
   "outputs": [],
   "source": [
    "df.info()"
   ]
  },
  {
   "cell_type": "code",
   "execution_count": null,
   "id": "0b82ed85",
   "metadata": {},
   "outputs": [],
   "source": [
    "df_tratado = df.drop('Unnamed: 0', axis='columns').copy()"
   ]
  },
  {
   "cell_type": "code",
   "execution_count": null,
   "id": "2e02ef19",
   "metadata": {},
   "outputs": [],
   "source": [
    "df_tratado"
   ]
  },
  {
   "cell_type": "code",
   "execution_count": null,
   "id": "b2f0092d",
   "metadata": {},
   "outputs": [],
   "source": []
  },
  {
   "cell_type": "code",
   "execution_count": null,
   "id": "72292b6e",
   "metadata": {},
   "outputs": [],
   "source": [
    "# Function for evaluating NaN values in dataframe\n",
    "\n",
    "def missing_zero_values_table(df):\n",
    "        zero_val = (df == 0.00).astype(int).sum(axis=0)\n",
    "        mis_val = df.isnull().sum()\n",
    "        mis_val_percent = 100 * df.isnull().sum() / len(df)\n",
    "        mz_table = pd.concat([zero_val, mis_val, mis_val_percent], axis=1)\n",
    "        mz_table = mz_table.rename(\n",
    "        columns = {0 : 'Zero Values', 1 : 'Missing Values', 2 : '% of Total Values'})\n",
    "        mz_table['Total Zero Missing Values'] = mz_table['Zero Values'] + mz_table['Missing Values']\n",
    "        mz_table['% Total Zero Missing Values'] = 100 * mz_table['Total Zero Missing Values'] / len(df)\n",
    "        mz_table['Data Type'] = df.dtypes\n",
    "        mz_table = mz_table[\n",
    "            mz_table.iloc[:,1] != 0].sort_values(\n",
    "        '% of Total Values', ascending=False).round(1)\n",
    "        print (\"Your selected dataframe has \" + str(df.shape[1]) + \" columns and \" + str(df.shape[0]) + \" Rows.\\n\"      \n",
    "            \"There are \" + str(mz_table.shape[0]) +\n",
    "              \" columns that have missing values.\")\n",
    "        mz_table.to_excel('missing_and_zero_values.xlsx', freeze_panes=(1,0), index = True)\n",
    "        return mz_table\n",
    "\n",
    "missing_zero_values_table(df)"
   ]
  }
 ],
 "metadata": {
  "kernelspec": {
   "display_name": "Python 3 (ipykernel)",
   "language": "python",
   "name": "python3"
  },
  "language_info": {
   "codemirror_mode": {
    "name": "ipython",
    "version": 3
   },
   "file_extension": ".py",
   "mimetype": "text/x-python",
   "name": "python",
   "nbconvert_exporter": "python",
   "pygments_lexer": "ipython3",
   "version": "3.8.12"
  }
 },
 "nbformat": 4,
 "nbformat_minor": 5
}
