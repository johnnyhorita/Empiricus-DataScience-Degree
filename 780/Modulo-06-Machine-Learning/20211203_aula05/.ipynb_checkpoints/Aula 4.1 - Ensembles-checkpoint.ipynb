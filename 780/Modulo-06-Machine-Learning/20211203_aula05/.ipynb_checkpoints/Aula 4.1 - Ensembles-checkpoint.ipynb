{
 "cells": [
  {
   "cell_type": "markdown",
   "metadata": {},
   "source": [
    "# Aula 4 - Ensembles\n",
    "\n",
    "Na aula de hoje, vamos explorar os seguintes tópicos em Python:\n",
    "\n",
    "- 1) Métodos de Ensembles - Bagging e Boosting\n",
    "- 2) Random Forest\n",
    "- 3) Adaboost\n",
    "- 4) XGBoost\n",
    "- 5) LightGBM\n",
    "- 6) Curva ROC e ROC-AUC"
   ]
  },
  {
   "cell_type": "markdown",
   "metadata": {},
   "source": [
    "<img src=\"https://miro.medium.com/max/899/0*Wy3QjtXL9qf-Ssyz.jpg\" width=800>"
   ]
  },
  {
   "cell_type": "markdown",
   "metadata": {},
   "source": [
    "###  "
   ]
  },
  {
   "cell_type": "markdown",
   "metadata": {},
   "source": [
    "## Métodos de Ensemble\n",
    "\n",
    "\n",
    "Há uma classe de algoritmos de Machine Learning, os chamados **métodos de ensemble** que tem como objetivo **combinar as predições de diversos estimadores mais simples** para gerar uma **predição final mais robusta**\n",
    "\n",
    "Os métodos de ensemble são ainda divididos em duas classes:\n",
    "\n",
    "- **Métodos de Bagging**: têm como procedimento geral construir diversos estimadores independentes, e tomar a média de suas predições como a predição final. O principal objetivo do método é reduzir variância, de modo que o modelo final seja melhor que todos os modelos individuais. Ex.: **random forest.**\n",
    "\n",
    "<br>\n",
    "\n",
    "- **Métodos de Boosting**: têm como procedimento geral a construção de estimadores de forma sequencial, de modo que estimadores posteriores tentam reduzir o viés do estimador conjunto, que leva em consideração estimadores anteriores. Ex.: **adaboost**.\n",
    "\n",
    "Para mais detalhes, [clique aqui!](https://scikit-learn.org/stable/modules/ensemble.html)"
   ]
  },
  {
   "cell_type": "markdown",
   "metadata": {},
   "source": [
    "### Random Forest\n",
    "\n",
    "Uma técnica muito interessante baseada em árvores é o **Random Forest**. Neste modelo, são criadas varias árvores usando uma seleção aleatória de features, e calculado para uma das árvores\n",
    "\n",
    "<img src=\"https://i.ytimg.com/vi/goPiwckWE9M/maxresdefault.jpg\" width=700>\n",
    "\n",
    "O modelo de RandomForest utiliza os conceitos de **bootstraping** e **aggregation** (ou então, o procedimento composto **bagging**) para criar um modelo composto que é melhor que uma única árvore!. Vamos explicar cada uma das etapas:<br><br>\n",
    "- **Bootstraping**: Usando os dados originais, cria-se uma amostra desses dados, que pode haver ou não **repetições**;<br>\n",
    "- **Aggregation**: Para o bootstrapped dataset, calcula-se diversas árvores diferentes usando seleção aleatória de features para montar as árvores. Então se no nosso dataset tiver 50 features, o modelo vai montar diversas árvores selecionando 10 features aleatoriamente.<br><br>\n",
    "\n",
    "Para obter a predição no final, no caso de classificadores observa-se qual a classe mais frequente na análise, no caso de regressores retorna a média das respostas das diversas árvores (**SIM** *RandomForest* pode ser aplicada em Regressões).\n",
    "\n",
    "<img src=\"https://c.mql5.com/2/33/image1__1.png\" width=600>"
   ]
  },
  {
   "cell_type": "markdown",
   "metadata": {},
   "source": [
    "###  "
   ]
  },
  {
   "cell_type": "markdown",
   "metadata": {},
   "source": [
    "### Exemplos"
   ]
  },
  {
   "cell_type": "markdown",
   "metadata": {},
   "source": [
    "Partindo do mesmo exemplo da aula anterior para _Heart Failure_:"
   ]
  },
  {
   "cell_type": "code",
   "execution_count": 1,
   "metadata": {
    "ExecuteTime": {
     "end_time": "2020-02-16T21:44:37.669368Z",
     "start_time": "2020-02-16T21:44:32.974848Z"
    }
   },
   "outputs": [],
   "source": [
    "# importe as principais bibliotecas\n",
    "import pandas as pd\n",
    "import numpy as np\n",
    "import matplotlib.pyplot as plt\n",
    "import seaborn as sns\n",
    "\n",
    "# desabilita os warnings\n",
    "import warnings\n",
    "warnings.filterwarnings('ignore')"
   ]
  },
  {
   "cell_type": "code",
   "execution_count": 2,
   "metadata": {},
   "outputs": [],
   "source": [
    "df = pd.read_csv('./datasets/heart_failure.csv')"
   ]
  },
  {
   "cell_type": "code",
   "execution_count": 3,
   "metadata": {},
   "outputs": [
    {
     "data": {
      "text/html": [
       "<div>\n",
       "<style scoped>\n",
       "    .dataframe tbody tr th:only-of-type {\n",
       "        vertical-align: middle;\n",
       "    }\n",
       "\n",
       "    .dataframe tbody tr th {\n",
       "        vertical-align: top;\n",
       "    }\n",
       "\n",
       "    .dataframe thead th {\n",
       "        text-align: right;\n",
       "    }\n",
       "</style>\n",
       "<table border=\"1\" class=\"dataframe\">\n",
       "  <thead>\n",
       "    <tr style=\"text-align: right;\">\n",
       "      <th></th>\n",
       "      <th>age</th>\n",
       "      <th>anaemia</th>\n",
       "      <th>creatinine_phosphokinase</th>\n",
       "      <th>diabetes</th>\n",
       "      <th>ejection_fraction</th>\n",
       "      <th>high_blood_pressure</th>\n",
       "      <th>platelets</th>\n",
       "      <th>serum_creatinine</th>\n",
       "      <th>serum_sodium</th>\n",
       "      <th>sex</th>\n",
       "      <th>smoking</th>\n",
       "      <th>time</th>\n",
       "      <th>DEATH_EVENT</th>\n",
       "    </tr>\n",
       "  </thead>\n",
       "  <tbody>\n",
       "    <tr>\n",
       "      <th>0</th>\n",
       "      <td>75.0</td>\n",
       "      <td>0</td>\n",
       "      <td>582</td>\n",
       "      <td>0</td>\n",
       "      <td>20</td>\n",
       "      <td>1</td>\n",
       "      <td>265000.00</td>\n",
       "      <td>1.9</td>\n",
       "      <td>130</td>\n",
       "      <td>1</td>\n",
       "      <td>0</td>\n",
       "      <td>4</td>\n",
       "      <td>1</td>\n",
       "    </tr>\n",
       "    <tr>\n",
       "      <th>1</th>\n",
       "      <td>55.0</td>\n",
       "      <td>0</td>\n",
       "      <td>7861</td>\n",
       "      <td>0</td>\n",
       "      <td>38</td>\n",
       "      <td>0</td>\n",
       "      <td>263358.03</td>\n",
       "      <td>1.1</td>\n",
       "      <td>136</td>\n",
       "      <td>1</td>\n",
       "      <td>0</td>\n",
       "      <td>6</td>\n",
       "      <td>1</td>\n",
       "    </tr>\n",
       "    <tr>\n",
       "      <th>2</th>\n",
       "      <td>65.0</td>\n",
       "      <td>0</td>\n",
       "      <td>146</td>\n",
       "      <td>0</td>\n",
       "      <td>20</td>\n",
       "      <td>0</td>\n",
       "      <td>162000.00</td>\n",
       "      <td>1.3</td>\n",
       "      <td>129</td>\n",
       "      <td>1</td>\n",
       "      <td>1</td>\n",
       "      <td>7</td>\n",
       "      <td>1</td>\n",
       "    </tr>\n",
       "    <tr>\n",
       "      <th>3</th>\n",
       "      <td>50.0</td>\n",
       "      <td>1</td>\n",
       "      <td>111</td>\n",
       "      <td>0</td>\n",
       "      <td>20</td>\n",
       "      <td>0</td>\n",
       "      <td>210000.00</td>\n",
       "      <td>1.9</td>\n",
       "      <td>137</td>\n",
       "      <td>1</td>\n",
       "      <td>0</td>\n",
       "      <td>7</td>\n",
       "      <td>1</td>\n",
       "    </tr>\n",
       "    <tr>\n",
       "      <th>4</th>\n",
       "      <td>65.0</td>\n",
       "      <td>1</td>\n",
       "      <td>160</td>\n",
       "      <td>1</td>\n",
       "      <td>20</td>\n",
       "      <td>0</td>\n",
       "      <td>327000.00</td>\n",
       "      <td>2.7</td>\n",
       "      <td>116</td>\n",
       "      <td>0</td>\n",
       "      <td>0</td>\n",
       "      <td>8</td>\n",
       "      <td>1</td>\n",
       "    </tr>\n",
       "  </tbody>\n",
       "</table>\n",
       "</div>"
      ],
      "text/plain": [
       "    age  anaemia  creatinine_phosphokinase  diabetes  ejection_fraction  \\\n",
       "0  75.0        0                       582         0                 20   \n",
       "1  55.0        0                      7861         0                 38   \n",
       "2  65.0        0                       146         0                 20   \n",
       "3  50.0        1                       111         0                 20   \n",
       "4  65.0        1                       160         1                 20   \n",
       "\n",
       "   high_blood_pressure  platelets  serum_creatinine  serum_sodium  sex  \\\n",
       "0                    1  265000.00               1.9           130    1   \n",
       "1                    0  263358.03               1.1           136    1   \n",
       "2                    0  162000.00               1.3           129    1   \n",
       "3                    0  210000.00               1.9           137    1   \n",
       "4                    0  327000.00               2.7           116    0   \n",
       "\n",
       "   smoking  time  DEATH_EVENT  \n",
       "0        0     4            1  \n",
       "1        0     6            1  \n",
       "2        1     7            1  \n",
       "3        0     7            1  \n",
       "4        0     8            1  "
      ]
     },
     "execution_count": 3,
     "metadata": {},
     "output_type": "execute_result"
    }
   ],
   "source": [
    "df.head()"
   ]
  },
  {
   "cell_type": "code",
   "execution_count": 4,
   "metadata": {},
   "outputs": [
    {
     "name": "stdout",
     "output_type": "stream",
     "text": [
      "<class 'pandas.core.frame.DataFrame'>\n",
      "RangeIndex: 299 entries, 0 to 298\n",
      "Data columns (total 13 columns):\n",
      " #   Column                    Non-Null Count  Dtype  \n",
      "---  ------                    --------------  -----  \n",
      " 0   age                       299 non-null    float64\n",
      " 1   anaemia                   299 non-null    int64  \n",
      " 2   creatinine_phosphokinase  299 non-null    int64  \n",
      " 3   diabetes                  299 non-null    int64  \n",
      " 4   ejection_fraction         299 non-null    int64  \n",
      " 5   high_blood_pressure       299 non-null    int64  \n",
      " 6   platelets                 299 non-null    float64\n",
      " 7   serum_creatinine          299 non-null    float64\n",
      " 8   serum_sodium              299 non-null    int64  \n",
      " 9   sex                       299 non-null    int64  \n",
      " 10  smoking                   299 non-null    int64  \n",
      " 11  time                      299 non-null    int64  \n",
      " 12  DEATH_EVENT               299 non-null    int64  \n",
      "dtypes: float64(3), int64(10)\n",
      "memory usage: 30.5 KB\n"
     ]
    }
   ],
   "source": [
    "df.info()"
   ]
  },
  {
   "cell_type": "code",
   "execution_count": 5,
   "metadata": {},
   "outputs": [
    {
     "data": {
      "text/html": [
       "<div>\n",
       "<style scoped>\n",
       "    .dataframe tbody tr th:only-of-type {\n",
       "        vertical-align: middle;\n",
       "    }\n",
       "\n",
       "    .dataframe tbody tr th {\n",
       "        vertical-align: top;\n",
       "    }\n",
       "\n",
       "    .dataframe thead th {\n",
       "        text-align: right;\n",
       "    }\n",
       "</style>\n",
       "<table border=\"1\" class=\"dataframe\">\n",
       "  <thead>\n",
       "    <tr style=\"text-align: right;\">\n",
       "      <th></th>\n",
       "      <th>age</th>\n",
       "      <th>anaemia</th>\n",
       "      <th>creatinine_phosphokinase</th>\n",
       "      <th>diabetes</th>\n",
       "      <th>ejection_fraction</th>\n",
       "      <th>high_blood_pressure</th>\n",
       "      <th>platelets</th>\n",
       "      <th>serum_creatinine</th>\n",
       "      <th>serum_sodium</th>\n",
       "      <th>sex</th>\n",
       "      <th>smoking</th>\n",
       "      <th>time</th>\n",
       "      <th>DEATH_EVENT</th>\n",
       "    </tr>\n",
       "  </thead>\n",
       "  <tbody>\n",
       "    <tr>\n",
       "      <th>count</th>\n",
       "      <td>299.000000</td>\n",
       "      <td>299.000000</td>\n",
       "      <td>299.000000</td>\n",
       "      <td>299.000000</td>\n",
       "      <td>299.000000</td>\n",
       "      <td>299.000000</td>\n",
       "      <td>299.000000</td>\n",
       "      <td>299.00000</td>\n",
       "      <td>299.000000</td>\n",
       "      <td>299.000000</td>\n",
       "      <td>299.00000</td>\n",
       "      <td>299.000000</td>\n",
       "      <td>299.00000</td>\n",
       "    </tr>\n",
       "    <tr>\n",
       "      <th>mean</th>\n",
       "      <td>60.833893</td>\n",
       "      <td>0.431438</td>\n",
       "      <td>581.839465</td>\n",
       "      <td>0.418060</td>\n",
       "      <td>38.083612</td>\n",
       "      <td>0.351171</td>\n",
       "      <td>263358.029264</td>\n",
       "      <td>1.39388</td>\n",
       "      <td>136.625418</td>\n",
       "      <td>0.648829</td>\n",
       "      <td>0.32107</td>\n",
       "      <td>130.260870</td>\n",
       "      <td>0.32107</td>\n",
       "    </tr>\n",
       "    <tr>\n",
       "      <th>std</th>\n",
       "      <td>11.894809</td>\n",
       "      <td>0.496107</td>\n",
       "      <td>970.287881</td>\n",
       "      <td>0.494067</td>\n",
       "      <td>11.834841</td>\n",
       "      <td>0.478136</td>\n",
       "      <td>97804.236869</td>\n",
       "      <td>1.03451</td>\n",
       "      <td>4.412477</td>\n",
       "      <td>0.478136</td>\n",
       "      <td>0.46767</td>\n",
       "      <td>77.614208</td>\n",
       "      <td>0.46767</td>\n",
       "    </tr>\n",
       "    <tr>\n",
       "      <th>min</th>\n",
       "      <td>40.000000</td>\n",
       "      <td>0.000000</td>\n",
       "      <td>23.000000</td>\n",
       "      <td>0.000000</td>\n",
       "      <td>14.000000</td>\n",
       "      <td>0.000000</td>\n",
       "      <td>25100.000000</td>\n",
       "      <td>0.50000</td>\n",
       "      <td>113.000000</td>\n",
       "      <td>0.000000</td>\n",
       "      <td>0.00000</td>\n",
       "      <td>4.000000</td>\n",
       "      <td>0.00000</td>\n",
       "    </tr>\n",
       "    <tr>\n",
       "      <th>25%</th>\n",
       "      <td>51.000000</td>\n",
       "      <td>0.000000</td>\n",
       "      <td>116.500000</td>\n",
       "      <td>0.000000</td>\n",
       "      <td>30.000000</td>\n",
       "      <td>0.000000</td>\n",
       "      <td>212500.000000</td>\n",
       "      <td>0.90000</td>\n",
       "      <td>134.000000</td>\n",
       "      <td>0.000000</td>\n",
       "      <td>0.00000</td>\n",
       "      <td>73.000000</td>\n",
       "      <td>0.00000</td>\n",
       "    </tr>\n",
       "    <tr>\n",
       "      <th>50%</th>\n",
       "      <td>60.000000</td>\n",
       "      <td>0.000000</td>\n",
       "      <td>250.000000</td>\n",
       "      <td>0.000000</td>\n",
       "      <td>38.000000</td>\n",
       "      <td>0.000000</td>\n",
       "      <td>262000.000000</td>\n",
       "      <td>1.10000</td>\n",
       "      <td>137.000000</td>\n",
       "      <td>1.000000</td>\n",
       "      <td>0.00000</td>\n",
       "      <td>115.000000</td>\n",
       "      <td>0.00000</td>\n",
       "    </tr>\n",
       "    <tr>\n",
       "      <th>75%</th>\n",
       "      <td>70.000000</td>\n",
       "      <td>1.000000</td>\n",
       "      <td>582.000000</td>\n",
       "      <td>1.000000</td>\n",
       "      <td>45.000000</td>\n",
       "      <td>1.000000</td>\n",
       "      <td>303500.000000</td>\n",
       "      <td>1.40000</td>\n",
       "      <td>140.000000</td>\n",
       "      <td>1.000000</td>\n",
       "      <td>1.00000</td>\n",
       "      <td>203.000000</td>\n",
       "      <td>1.00000</td>\n",
       "    </tr>\n",
       "    <tr>\n",
       "      <th>max</th>\n",
       "      <td>95.000000</td>\n",
       "      <td>1.000000</td>\n",
       "      <td>7861.000000</td>\n",
       "      <td>1.000000</td>\n",
       "      <td>80.000000</td>\n",
       "      <td>1.000000</td>\n",
       "      <td>850000.000000</td>\n",
       "      <td>9.40000</td>\n",
       "      <td>148.000000</td>\n",
       "      <td>1.000000</td>\n",
       "      <td>1.00000</td>\n",
       "      <td>285.000000</td>\n",
       "      <td>1.00000</td>\n",
       "    </tr>\n",
       "  </tbody>\n",
       "</table>\n",
       "</div>"
      ],
      "text/plain": [
       "              age     anaemia  creatinine_phosphokinase    diabetes  \\\n",
       "count  299.000000  299.000000                299.000000  299.000000   \n",
       "mean    60.833893    0.431438                581.839465    0.418060   \n",
       "std     11.894809    0.496107                970.287881    0.494067   \n",
       "min     40.000000    0.000000                 23.000000    0.000000   \n",
       "25%     51.000000    0.000000                116.500000    0.000000   \n",
       "50%     60.000000    0.000000                250.000000    0.000000   \n",
       "75%     70.000000    1.000000                582.000000    1.000000   \n",
       "max     95.000000    1.000000               7861.000000    1.000000   \n",
       "\n",
       "       ejection_fraction  high_blood_pressure      platelets  \\\n",
       "count         299.000000           299.000000     299.000000   \n",
       "mean           38.083612             0.351171  263358.029264   \n",
       "std            11.834841             0.478136   97804.236869   \n",
       "min            14.000000             0.000000   25100.000000   \n",
       "25%            30.000000             0.000000  212500.000000   \n",
       "50%            38.000000             0.000000  262000.000000   \n",
       "75%            45.000000             1.000000  303500.000000   \n",
       "max            80.000000             1.000000  850000.000000   \n",
       "\n",
       "       serum_creatinine  serum_sodium         sex    smoking        time  \\\n",
       "count         299.00000    299.000000  299.000000  299.00000  299.000000   \n",
       "mean            1.39388    136.625418    0.648829    0.32107  130.260870   \n",
       "std             1.03451      4.412477    0.478136    0.46767   77.614208   \n",
       "min             0.50000    113.000000    0.000000    0.00000    4.000000   \n",
       "25%             0.90000    134.000000    0.000000    0.00000   73.000000   \n",
       "50%             1.10000    137.000000    1.000000    0.00000  115.000000   \n",
       "75%             1.40000    140.000000    1.000000    1.00000  203.000000   \n",
       "max             9.40000    148.000000    1.000000    1.00000  285.000000   \n",
       "\n",
       "       DEATH_EVENT  \n",
       "count    299.00000  \n",
       "mean       0.32107  \n",
       "std        0.46767  \n",
       "min        0.00000  \n",
       "25%        0.00000  \n",
       "50%        0.00000  \n",
       "75%        1.00000  \n",
       "max        1.00000  "
      ]
     },
     "execution_count": 5,
     "metadata": {},
     "output_type": "execute_result"
    }
   ],
   "source": [
    "df.describe()"
   ]
  },
  {
   "cell_type": "code",
   "execution_count": 7,
   "metadata": {},
   "outputs": [],
   "source": [
    "X = df.drop(['DEATH_EVENT'], axis = 1)\n",
    "y = df['DEATH_EVENT']"
   ]
  },
  {
   "cell_type": "code",
   "execution_count": 8,
   "metadata": {},
   "outputs": [],
   "source": [
    "from sklearn.model_selection import train_test_split\n",
    "\n",
    "X_train, X_test, y_train, y_test = train_test_split(X, \n",
    "                                                    y, \n",
    "                                                    test_size=0.3, \n",
    "                                                    random_state=42,\n",
    "                                                    stratify=y)"
   ]
  },
  {
   "cell_type": "markdown",
   "metadata": {},
   "source": [
    "Obtendo os resultados para o __Decision Tree__:"
   ]
  },
  {
   "cell_type": "code",
   "execution_count": 9,
   "metadata": {},
   "outputs": [],
   "source": [
    "from sklearn.tree import DecisionTreeClassifier"
   ]
  },
  {
   "cell_type": "code",
   "execution_count": 10,
   "metadata": {},
   "outputs": [],
   "source": [
    "# Instancie o modelo\n",
    "\n",
    "model = DecisionTreeClassifier(random_state = 42)"
   ]
  },
  {
   "cell_type": "code",
   "execution_count": 11,
   "metadata": {},
   "outputs": [
    {
     "data": {
      "text/plain": [
       "DecisionTreeClassifier(random_state=42)"
      ]
     },
     "execution_count": 11,
     "metadata": {},
     "output_type": "execute_result"
    }
   ],
   "source": [
    "# Fit do Modelo\n",
    "\n",
    "model.fit(X_train, y_train)"
   ]
  },
  {
   "cell_type": "code",
   "execution_count": 12,
   "metadata": {},
   "outputs": [],
   "source": [
    "# Predict do Modelo\n",
    "\n",
    "y_pred = model.predict(X_test)"
   ]
  },
  {
   "cell_type": "code",
   "execution_count": 13,
   "metadata": {},
   "outputs": [
    {
     "name": "stdout",
     "output_type": "stream",
     "text": [
      "              precision    recall  f1-score   support\n",
      "\n",
      "           0       0.83      0.87      0.85        61\n",
      "           1       0.69      0.62      0.65        29\n",
      "\n",
      "    accuracy                           0.79        90\n",
      "   macro avg       0.76      0.74      0.75        90\n",
      "weighted avg       0.78      0.79      0.79        90\n",
      "\n"
     ]
    }
   ],
   "source": [
    "from sklearn.metrics import classification_report\n",
    "\n",
    "print(classification_report(y_test, y_pred))"
   ]
  },
  {
   "cell_type": "code",
   "execution_count": 14,
   "metadata": {
    "scrolled": true
   },
   "outputs": [
    {
     "data": {
      "image/png": "[encoded data removed]",
      "text/plain": [
       "<Figure size 432x288 with 1 Axes>"
      ]
     },
     "metadata": {
      "needs_background": "light"
     },
     "output_type": "display_data"
    }
   ],
   "source": [
    "from mlxtend.plotting import plot_confusion_matrix\n",
    "from sklearn.metrics import confusion_matrix\n",
    "\n",
    "cm = confusion_matrix(y_test, y_pred)\n",
    "\n",
    "plot_confusion_matrix(conf_mat=cm)\n",
    "plt.show()"
   ]
  },
  {
   "cell_type": "markdown",
   "metadata": {},
   "source": [
    "###  "
   ]
  },
  {
   "cell_type": "markdown",
   "metadata": {},
   "source": [
    "Vamos agora dar uma olhada em como implementar o __Random Forest__ e comparar com os resultados do modelo anterior:"
   ]
  },
  {
   "cell_type": "code",
   "execution_count": 15,
   "metadata": {
    "scrolled": true
   },
   "outputs": [
    {
     "name": "stdout",
     "output_type": "stream",
     "text": [
      "              precision    recall  f1-score   support\n",
      "\n",
      "           0       0.83      0.90      0.87        61\n",
      "           1       0.75      0.62      0.68        29\n",
      "\n",
      "    accuracy                           0.81        90\n",
      "   macro avg       0.79      0.76      0.77        90\n",
      "weighted avg       0.81      0.81      0.81        90\n",
      "\n"
     ]
    }
   ],
   "source": [
    "from sklearn.ensemble import RandomForestClassifier\n",
    "\n",
    "model = RandomForestClassifier(random_state = 42)\n",
    "\n",
    "from sklearn.model_selection import train_test_split\n",
    "X_train, X_test, y_train, y_test = train_test_split(X, y, test_size=0.3, random_state=42, stratify=y)\n",
    "    \n",
    "model.fit(X_train, y_train)\n",
    "\n",
    "y_pred = model.predict(X_test)\n",
    "\n",
    "print(classification_report(y_test, y_pred))"
   ]
  },
  {
   "cell_type": "code",
   "execution_count": 16,
   "metadata": {},
   "outputs": [
    {
     "data": {
      "image/png": "[encoded data removed]",
      "text/plain": [
       "<Figure size 432x288 with 1 Axes>"
      ]
     },
     "metadata": {
      "needs_background": "light"
     },
     "output_type": "display_data"
    }
   ],
   "source": [
    "cm = confusion_matrix(y_test, y_pred)\n",
    "\n",
    "plot_confusion_matrix(conf_mat=cm)\n",
    "plt.show()"
   ]
  },
  {
   "cell_type": "markdown",
   "metadata": {},
   "source": [
    "###  "
   ]
  },
  {
   "cell_type": "markdown",
   "metadata": {},
   "source": [
    "### Adaboost\n",
    "\n",
    "O Adaboost significa **Adaptive Boosting**, e tem como procedimento geral **a criação sucessiva de árvores de um único nó (stumps - modelos fracos) que utiliza dos erros da árvore anterior para melhorar a próxima árvore**. As predições finais são feitas com base **nos pesos de cada stump**, cuja determinação faz parte do algoritmo.\n",
    "\n",
    "\n",
    "<img src=\"https://miro.medium.com/max/1744/1*nJ5VrsiS1yaOR77d4h8gyw.png\" width=300>\n",
    "\n",
    "De forma resumida, as principais ideias por trás deste algoritmo são:\n",
    "\n",
    "- O algoritmo cria e combina um conjunto de **modelos fracos** (em geral, stumps);\n",
    "- Cada stump é criado **levando em consideração os erros do stump anterior**;\n",
    "- Alguns dos stumps têm **maior peso de decisão** do que outros na predição final;\n",
    "\n",
    "<br>\n",
    "\n",
    "<img src=\"https://www.researchgate.net/profile/Zhuo_Wang8/publication/288699540/figure/fig9/AS:668373486686246@1536364065786/Illustration-of-AdaBoost-algorithm-for-creating-a-strong-classifier-based-on-multiple.png\" width=500>\n",
    "\n",
    "<img src=\"https://static.packt-cdn.com/products/9781788295758/graphics/image_04_046-1.png\" width=400>"
   ]
  },
  {
   "cell_type": "code",
   "execution_count": 17,
   "metadata": {},
   "outputs": [
    {
     "name": "stdout",
     "output_type": "stream",
     "text": [
      "              precision    recall  f1-score   support\n",
      "\n",
      "           0       0.82      0.90      0.86        67\n",
      "           1       0.73      0.59      0.66        32\n",
      "\n",
      "    accuracy                           0.80        99\n",
      "   macro avg       0.78      0.74      0.76        99\n",
      "weighted avg       0.79      0.80      0.79        99\n",
      "\n"
     ]
    }
   ],
   "source": [
    "from sklearn.ensemble import AdaBoostClassifier\n",
    "model = AdaBoostClassifier(random_state = 42)\n",
    "\n",
    "X_train, X_test, y_train, y_test = train_test_split(X, y, test_size=0.33, random_state=42, stratify=y)\n",
    "    \n",
    "model.fit(X_train, y_train)\n",
    "\n",
    "y_pred = model.predict(X_test)\n",
    "\n",
    "print(classification_report(y_test, y_pred))"
   ]
  },
  {
   "cell_type": "code",
   "execution_count": 18,
   "metadata": {},
   "outputs": [
    {
     "data": {
      "image/png": "[encoded data removed]",
      "text/plain": [
       "<Figure size 432x288 with 1 Axes>"
      ]
     },
     "metadata": {
      "needs_background": "light"
     },
     "output_type": "display_data"
    }
   ],
   "source": [
    "cm = confusion_matrix(y_test, y_pred)\n",
    "\n",
    "plot_confusion_matrix(conf_mat=cm)\n",
    "plt.show()"
   ]
  },
  {
   "cell_type": "markdown",
   "metadata": {},
   "source": [
    "## "
   ]
  },
  {
   "cell_type": "markdown",
   "metadata": {},
   "source": [
    "## GradientBoosting e XGBoosting"
   ]
  },
  {
   "cell_type": "markdown",
   "metadata": {},
   "source": [
    "Todos os modelos de _Boosting_ partem da mesma estratégia utilizando árvores mais simples e estimando erros. A principal diferença dos diversos modelos de _Boosting_ que existe são justamente o algoritmo de otimização do modelo.\n",
    "\n",
    "<br>\n",
    "\n",
    "No caso de modelos como o __GradientBoosting__, o principal diferencial é justamente utilizar um otimizador através de __gradiente descente__. Conforme o modelo faz uma iteração e cálcula a função de custo do modelo, utiliza-se de gradientes para definir o ajuste necessário na função inicial e repitir o processo iterativo:"
   ]
  },
  {
   "cell_type": "markdown",
   "metadata": {},
   "source": [
    "<img src=\"http://rasbt.github.io/mlxtend/user_guide/general_concepts/gradient-optimization_files/ball.png\" width=500>\n",
    "\n",
    "<br>\n",
    "    \n",
    "   <img src=\"data:image/jpeg;base64,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\" width=500>"
   ]
  },
  {
   "cell_type": "code",
   "execution_count": 38,
   "metadata": {},
   "outputs": [],
   "source": [
    "from sklearn.ensemble import GradientBoostingClassifier"
   ]
  },
  {
   "cell_type": "code",
   "execution_count": 39,
   "metadata": {},
   "outputs": [],
   "source": [
    "clf = GradientBoostingClassifier(random_state = 42)"
   ]
  },
  {
   "cell_type": "code",
   "execution_count": 40,
   "metadata": {},
   "outputs": [
    {
     "name": "stdout",
     "output_type": "stream",
     "text": [
      "              precision    recall  f1-score   support\n",
      "\n",
      "           0       0.85      0.85      0.85        67\n",
      "           1       0.69      0.69      0.69        32\n",
      "\n",
      "    accuracy                           0.80        99\n",
      "   macro avg       0.77      0.77      0.77        99\n",
      "weighted avg       0.80      0.80      0.80        99\n",
      "\n"
     ]
    }
   ],
   "source": [
    "X_train, X_test, y_train, y_test = train_test_split(X, y, test_size=0.33, random_state=42, stratify=y)\n",
    "    \n",
    "clf.fit(X_train, y_train)\n",
    "\n",
    "y_pred = clf.predict(X_test)\n",
    "\n",
    "print(classification_report(y_test, y_pred))"
   ]
  },
  {
   "cell_type": "code",
   "execution_count": 41,
   "metadata": {},
   "outputs": [
    {
     "data": {
      "image/png": "[encoded data removed]",
      "text/plain": [
       "<Figure size 432x288 with 1 Axes>"
      ]
     },
     "metadata": {
      "needs_background": "light"
     },
     "output_type": "display_data"
    }
   ],
   "source": [
    "cm = confusion_matrix(y_test, y_pred)\n",
    "\n",
    "plot_confusion_matrix(conf_mat=cm)\n",
    "plt.show()"
   ]
  },
  {
   "cell_type": "markdown",
   "metadata": {},
   "source": [
    "No caso do __XGBoost__, o nome significa _Extreme Gradient Boosting_, ou seja ele utiliza de otimizações e uma arquitetura mais robusta para desenvolver resultados mais eficientes e com um custo computacional menor!\n",
    "\n",
    "<br>\n",
    "\n",
    "Este modelo junto com o _LightGBM_, são os modelos que dominaram as competições do _Kaggle_, se mostrando com os modelos mais eficientes:"
   ]
  },
  {
   "cell_type": "code",
   "execution_count": null,
   "metadata": {},
   "outputs": [],
   "source": [
    "!pip install xgboost"
   ]
  },
  {
   "cell_type": "code",
   "execution_count": 42,
   "metadata": {},
   "outputs": [],
   "source": [
    "from xgboost import XGBClassifier"
   ]
  },
  {
   "cell_type": "code",
   "execution_count": 43,
   "metadata": {},
   "outputs": [],
   "source": [
    "clf = XGBClassifier(random_state = 42)"
   ]
  },
  {
   "cell_type": "code",
   "execution_count": 44,
   "metadata": {},
   "outputs": [
    {
     "name": "stdout",
     "output_type": "stream",
     "text": [
      "[11:42:06] WARNING: C:/Users/Administrator/workspace/xgboost-win64_release_1.5.1/src/learner.cc:1115: Starting in XGBoost 1.3.0, the default evaluation metric used with the objective 'binary:logistic' was changed from 'error' to 'logloss'. Explicitly set eval_metric if you'd like to restore the old behavior.\n",
      "              precision    recall  f1-score   support\n",
      "\n",
      "           0       0.84      0.91      0.87        67\n",
      "           1       0.77      0.62      0.69        32\n",
      "\n",
      "    accuracy                           0.82        99\n",
      "   macro avg       0.80      0.77      0.78        99\n",
      "weighted avg       0.81      0.82      0.81        99\n",
      "\n"
     ]
    }
   ],
   "source": [
    "X_train, X_test, y_train, y_test = train_test_split(X, y, test_size=0.33, random_state=42, stratify=y)\n",
    "    \n",
    "clf.fit(X_train, y_train)\n",
    "\n",
    "y_pred = clf.predict(X_test)\n",
    "\n",
    "print(classification_report(y_test, y_pred))"
   ]
  },
  {
   "cell_type": "code",
   "execution_count": 45,
   "metadata": {},
   "outputs": [
    {
     "data": {
      "image/png": "[encoded data removed]",
      "text/plain": [
       "<Figure size 432x288 with 1 Axes>"
      ]
     },
     "metadata": {
      "needs_background": "light"
     },
     "output_type": "display_data"
    }
   ],
   "source": [
    "cm = confusion_matrix(y_test, y_pred)\n",
    "\n",
    "plot_confusion_matrix(conf_mat=cm)\n",
    "plt.show()"
   ]
  },
  {
   "cell_type": "markdown",
   "metadata": {},
   "source": [
    "Já o caso do __LightGBM__, foi um _framework_ otimizado do _Gradient Boosting_ desenvolvida pela _Microsoft Research_ e que impactou significativamente as competições de _Machine Learning_ com alta performance: "
   ]
  },
  {
   "cell_type": "code",
   "execution_count": null,
   "metadata": {},
   "outputs": [],
   "source": [
    "!pip install lightgbm"
   ]
  },
  {
   "cell_type": "code",
   "execution_count": 25,
   "metadata": {},
   "outputs": [],
   "source": [
    "import lightgbm as lgb"
   ]
  },
  {
   "cell_type": "code",
   "execution_count": 27,
   "metadata": {},
   "outputs": [],
   "source": [
    "clf = lgb.LGBMClassifier(random_state = 42)"
   ]
  },
  {
   "cell_type": "code",
   "execution_count": 29,
   "metadata": {},
   "outputs": [
    {
     "name": "stdout",
     "output_type": "stream",
     "text": [
      "              precision    recall  f1-score   support\n",
      "\n",
      "           0       0.82      0.91      0.87        67\n",
      "           1       0.76      0.59      0.67        32\n",
      "\n",
      "    accuracy                           0.81        99\n",
      "   macro avg       0.79      0.75      0.77        99\n",
      "weighted avg       0.80      0.81      0.80        99\n",
      "\n"
     ]
    }
   ],
   "source": [
    "X_train, X_test, y_train, y_test = train_test_split(X, y, test_size=0.33, random_state=42, stratify=y)\n",
    "    \n",
    "clf.fit(X_train, y_train)\n",
    "\n",
    "y_pred = clf.predict(X_test)\n",
    "\n",
    "print(classification_report(y_test, y_pred))"
   ]
  },
  {
   "cell_type": "code",
   "execution_count": 30,
   "metadata": {},
   "outputs": [
    {
     "data": {
      "image/png": "[encoded data removed]",
      "text/plain": [
       "<Figure size 432x288 with 1 Axes>"
      ]
     },
     "metadata": {
      "needs_background": "light"
     },
     "output_type": "display_data"
    }
   ],
   "source": [
    "cm = confusion_matrix(y_test, y_pred)\n",
    "\n",
    "plot_confusion_matrix(conf_mat=cm)\n",
    "plt.show()"
   ]
  },
  {
   "cell_type": "markdown",
   "metadata": {},
   "source": [
    "###  "
   ]
  },
  {
   "cell_type": "markdown",
   "metadata": {},
   "source": [
    "## Curva ROC-AUC"
   ]
  },
  {
   "cell_type": "markdown",
   "metadata": {},
   "source": [
    "Veremos agora uma outra métrica de avaliação de modelos de classificação, que é a **AUC (Area Under The Curve) da curva ROC (Receiver Operating Characteristics)**, por vezes chamada de **AUROC (Area Under the Receiver Operating Characteristics)**\n",
    "\n",
    "A curva **ROC é uma curva de probabilidade**, sendo que **AUC é a área sob a curva**, representando **o grau de separabilidade atingido pelo modelo**.\n",
    "\n",
    "Ou seja, esta medida nos diz **o quanto o modelo é capaz de distinguir entre duas classes**.\n",
    "\n",
    "A curva ROC é construída com a **taxa de falsos positivos** no eixo x, e a **taxa de verdadeiros positivos** no eixo y, para diferentes **thresholds de classificação**:\n",
    "\n",
    "<img src=\"https://miro.medium.com/max/1175/1*2nd7NTEBosPakccmLVWy9A.png\" width=500>\n",
    "\n",
    "O valor do AUC-ROC sempre estará **entre 0 e 1**, sendo que **quanto mais próximo de 1, melhor o modelo**.\n",
    "\n",
    "> Valores de AUC-ROC maiores que 0.5 (mais próximos de 1) significam que o modelo tem uma **taxa de veridadeiros positivos maior que a taxa de falsos positivos**, ou seja, o modelo está acertando mais!\n",
    "\n",
    "Quanto **mais próximo de 0** (para valores abaixo de 0.5), teremos um modelo que faz um bom trabalho em separar as classes, mas as classifica erroneamente.\n",
    "\n",
    "E, quanto **mas próximo de 0.5**, pior é o modelo em separar as classes: seria um modelo que simplesmente chuta aleatoriamente ora a classe 0, ora a classe 1. Veja as imagens a seguir para uma ilustração:\n",
    "\n",
    "<img src=\"https://miro.medium.com/max/528/1*Uu-t4pOotRQFoyrfqEvIEg.png\" width=500>\n",
    "\n",
    "\n",
    "<img src=\"https://miro.medium.com/max/507/1*yF8hvKR9eNfqqej2JnVKzg.png\" width=500>\n",
    "\n",
    "\n",
    "<img src=\"https://miro.medium.com/max/430/1*iLW_BrJZRI0UZSflfMrmZQ.png\" width=500>\n",
    "\n",
    "\n",
    "<img src=\"https://miro.medium.com/max/556/1*aUZ7H-Lw74KSucoLlj1pgw.png\" width=500>\n",
    "\n",
    "Ao olhar para a curva em si, temos a seguinte interpretação:\n",
    "\n",
    "<img src=\"https://i.ytimg.com/vi/J9l8J1MeCbY/hqdefault.jpg\" width=400>"
   ]
  },
  {
   "cell_type": "code",
   "execution_count": 32,
   "metadata": {},
   "outputs": [],
   "source": [
    "from sklearn import metrics\n",
    "from sklearn.metrics import roc_auc_score, roc_curve, accuracy_score, precision_score, recall_score, f1_score\n",
    "\n",
    "def test_models_plot_roc_auc_curve(model_list, col_model_name, col_model, X_train, X_test, y_train, y_test):\n",
    "    for mdl in model_list:\n",
    "        model = mdl[col_model]\n",
    "        model.fit(X_train, y_train)\n",
    "        y_predict = model.predict(X_test)\n",
    "        fpr, tpr, thresholds = metrics.roc_curve(y_test, model.predict_proba(X_test)[:,1])\n",
    "        auc = metrics.roc_auc_score(y_test, model.predict(X_test))\n",
    "        plt.plot(fpr, tpr, label='%s ROC (AUC = %0.2f)' % (mdl[col_model_name], auc))\n",
    "        print(\"Model      : %s\" % mdl[col_model_name])\n",
    "        print(\"Accuracy   : %0.4f \" %  accuracy_score(y_test, y_predict))\n",
    "        print(\"Precision  : %0.4f \" % precision_score(y_test, y_predict, average='weighted'))\n",
    "        print(\"Recall     : %0.4f \" % recall_score(y_test, y_predict, average='weighted'))\n",
    "        print(\"F1 - Score : %0.4f \" % f1_score(y_test, y_predict, average='weighted'))\n",
    "        print(\"ROC - AUC  : %0.4f \" % auc)\n",
    "        print(\"======================\")\n",
    "    plt.plot([0, 1], [0, 1],'r--')\n",
    "    plt.xlim([0.0, 1.0])\n",
    "    plt.ylim([0.0, 1.05])\n",
    "    plt.xlabel('False Positive Rate')\n",
    "    plt.ylabel('True Positive Rate')\n",
    "    plt.title('ROC-AUC curve')\n",
    "    plt.legend(loc=\"lower right\")\n",
    "    plt.show()"
   ]
  },
  {
   "cell_type": "code",
   "execution_count": 46,
   "metadata": {},
   "outputs": [],
   "source": [
    "random_seed = 42\n",
    "\n",
    "list_models = [\n",
    "{'model_name': 'Decision Tree',\n",
    " 'estimator' : DecisionTreeClassifier(random_state = random_seed)},\n",
    "{'model_name': 'Random Forest',\n",
    " 'estimator' : RandomForestClassifier(random_state = random_seed)}, \n",
    "{'model_name': 'AdaBoost',\n",
    " 'estimator' : AdaBoostClassifier(random_state = random_seed)},\n",
    "{'model_name': 'GradientBoosting',\n",
    " 'estimator' : GradientBoostingClassifier(random_state = random_seed)},\n",
    "{'model_name': 'XGBoost',\n",
    " 'estimator' : XGBClassifier(random_state = random_seed)},\n",
    "{'model_name': 'LightGBM',\n",
    " 'estimator' : lgb.LGBMClassifier(random_state = random_seed)}\n",
    "]"
   ]
  },
  {
   "cell_type": "code",
   "execution_count": 47,
   "metadata": {},
   "outputs": [
    {
     "name": "stdout",
     "output_type": "stream",
     "text": [
      "Model      : Decision Tree\n",
      "Accuracy   : 0.7980 \n",
      "Precision  : 0.7980 \n",
      "Recall     : 0.7980 \n",
      "F1 - Score : 0.7980 \n",
      "ROC - AUC  : 0.7691 \n",
      "======================\n",
      "Model      : Random Forest\n",
      "Accuracy   : 0.8283 \n",
      "Precision  : 0.8253 \n",
      "Recall     : 0.8283 \n",
      "F1 - Score : 0.8259 \n",
      "ROC - AUC  : 0.7915 \n",
      "======================\n",
      "Model      : AdaBoost\n",
      "Accuracy   : 0.7980 \n",
      "Precision  : 0.7925 \n",
      "Recall     : 0.7980 \n",
      "F1 - Score : 0.7919 \n",
      "ROC - AUC  : 0.7446 \n",
      "======================\n",
      "Model      : GradientBoosting\n",
      "Accuracy   : 0.7980 \n",
      "Precision  : 0.7980 \n",
      "Recall     : 0.7980 \n",
      "F1 - Score : 0.7980 \n",
      "ROC - AUC  : 0.7691 \n",
      "======================\n",
      "[11:49:30] WARNING: C:/Users/Administrator/workspace/xgboost-win64_release_1.5.1/src/learner.cc:1115: Starting in XGBoost 1.3.0, the default evaluation metric used with the objective 'binary:logistic' was changed from 'error' to 'logloss'. Explicitly set eval_metric if you'd like to restore the old behavior.\n",
      "Model      : XGBoost\n",
      "Accuracy   : 0.8182 \n",
      "Precision  : 0.8142 \n",
      "Recall     : 0.8182 \n",
      "F1 - Score : 0.8127 \n",
      "ROC - AUC  : 0.7677 \n",
      "======================\n",
      "Model      : LightGBM\n",
      "Accuracy   : 0.8081 \n",
      "Precision  : 0.8035 \n",
      "Recall     : 0.8081 \n",
      "F1 - Score : 0.8011 \n",
      "ROC - AUC  : 0.7521 \n",
      "======================\n"
     ]
    },
    {
     "data": {
      "image/png": "[encoded data removed]",
      "text/plain": [
       "<Figure size 432x288 with 1 Axes>"
      ]
     },
     "metadata": {
      "needs_background": "light"
     },
     "output_type": "display_data"
    }
   ],
   "source": [
    "test_models_plot_roc_auc_curve(list_models,\n",
    "                              \"model_name\",\n",
    "                              \"estimator\",\n",
    "                              X_train,\n",
    "                              X_test,\n",
    "                              y_train,\n",
    "                              y_test)"
   ]
  },
  {
   "cell_type": "markdown",
   "metadata": {},
   "source": [
    "## "
   ]
  },
  {
   "cell_type": "markdown",
   "metadata": {},
   "source": [
    "## Exercícios"
   ]
  },
  {
   "cell_type": "markdown",
   "metadata": {},
   "source": [
    "__1)__ Realize uma classificação com da coluna y dos dados de marketing bancário (contido no arquivo `bank-full.csv`) utilizando mais de um modelo dentro dos modelos conhecidos por vocês. Qual o melhor modelo a ser implementado?"
   ]
  },
  {
   "cell_type": "code",
   "execution_count": null,
   "metadata": {},
   "outputs": [],
   "source": []
  },
  {
   "cell_type": "code",
   "execution_count": null,
   "metadata": {},
   "outputs": [],
   "source": []
  },
  {
   "cell_type": "code",
   "execution_count": null,
   "metadata": {},
   "outputs": [],
   "source": []
  },
  {
   "cell_type": "markdown",
   "metadata": {},
   "source": [
    "__2)__ Com os dados do arquivo `Admission_Predict.csv` realize uma classificação dos alunos que possuem chance maior que 0.8 de admissão e dos que possuem chance menor que 0.8. Compare diversos modelos e determine qual seria o melhor a ser implementado."
   ]
  },
  {
   "cell_type": "code",
   "execution_count": null,
   "metadata": {},
   "outputs": [],
   "source": []
  },
  {
   "cell_type": "code",
   "execution_count": null,
   "metadata": {},
   "outputs": [],
   "source": []
  },
  {
   "cell_type": "code",
   "execution_count": null,
   "metadata": {},
   "outputs": [],
   "source": []
  },
  {
   "cell_type": "markdown",
   "metadata": {},
   "source": [
    "## "
   ]
  }
 ],
 "metadata": {
  "kernelspec": {
   "display_name": "Python 3 (ipykernel)",
   "language": "python",
   "name": "python3"
  },
  "language_info": {
   "codemirror_mode": {
    "name": "ipython",
    "version": 3
   },
   "file_extension": ".py",
   "mimetype": "text/x-python",
   "name": "python",
   "nbconvert_exporter": "python",
   "pygments_lexer": "ipython3",
   "version": "3.8.12"
  }
 },
 "nbformat": 4,
 "nbformat_minor": 2
}
