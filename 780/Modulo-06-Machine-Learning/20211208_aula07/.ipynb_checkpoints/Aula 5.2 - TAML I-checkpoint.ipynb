{
 "cells": [
  {
   "cell_type": "markdown",
   "metadata": {},
   "source": [
    "<img src=\"data:image/jpeg;base64,/9j/4AAQSkZJRgABAQAAAQABAAD/2wCEAAoHCBUVFBcUFRQYGBcZGh4aGhoYFxoZFxkYGh0ZGRkcGRogICwjGiIrHhgaJDYkKS0vMzMzGiI4PjgyPSwyMy8BCwsLDw4PHhISHjIpIykyMjIyMjIyMjIyMjIyMjIyMjIyMjIyMjIyMjIyMjIyMjIyMjIyMjIyMjIyMjIyMjIyMv/AABEIAIgBcgMBIgACEQEDEQH/xAAbAAABBQEBAAAAAAAAAAAAAAAFAAIDBAYBB//EAEcQAAIBAgQDBQQECgkEAwEAAAECEQADBBIhMQVBUQYTImFxMkKBkRQjobEHM1JicrLB0eHwFSRTc4KSk9PxQ6LD0hZUY4P/xAAYAQADAQEAAAAAAAAAAAAAAAAAAQIDBP/EACARAAIDAAMAAwEBAAAAAAAAAAABAhEhEjFBA1FhQiL/2gAMAwEAAhEDEQA/APHnSDBpJvViwVIKvvsp5A+flNSDC6QAc4OogmtaJsgxXtt+kfvqKpsYPrH/AEm+81EKQvBRTgK4K6KdAKKUU6aVOhWEsNZuNbyrBGUtBHIFufWQ0fGqeNBzmYnTbaIER8IrQcJtM6DKYOQDaf8AqMCG5xBBPTeg3FE+sI5hUB9Qigj51bWEKWlW3cKyAdxB8xXAtXOF8Ne/cFtIBPM7D16akD41WdCpIPLSih2hmWtJhsPat2Ld5kDN7yyD4TnCsVOniIg+S8swNZyaWamsE9LtvAAui95bhjvm9nnLSBVziHB1tq7At4WyiYMzlIaRyAMHzIodg8JcuEqgLEAtA3gbwOfoKt8Rwt20FFxjLAjLmMiGgg/4hykGPKmkJvSJOHENbDsFD6zIIAkjr5VKeGPL6aJuTAjpzO/lNRYXvNHUMcugMSBoWjaNsxj1q3axlxWafab2iyjNqPMSJB5UnRcdZBfwBW2rzo09dInc7T5VQdK0tvDXLtogAZF1MKASepPPf7aAX0g1JpJUiGwozCdpE+k1O9mFcdGA/X/dVcb0Yx9vwPcGzm2/xZbmb/uDD4VaRzyloHyVwrXc1LNRQ7GEVyKfSipoqxoFT4WyGYAkATrJA056kgVGFojwvhrXiwUgZULmei00iXLC9h+Ci5cCW0LlrihVV0YlfeEAz/CvU+y/4McNZ+uxQF19CEYzaT4e/rzOnlzN38HvZ5cHh2vOQzOzFTG1vQCPMxP86k8bjmuHovIVLTk6Q1itkePxqWrqm0qhXXumhYErme0fIa3F8y61C4Lb0JxOJZrl220WrSrJusIKuPEtxSTBCkKdt6iv8Zu3LYa0qWbcDNeukbxqLanSJ2Lb9K0VRCnIKPhecVUxGAB5UH7stq+PuHzIKp8DAWpr2EvoJXE3FB2uA97b8s9tpBHmuU+tNTQ38YI472eS4DKw3JhuD/PKsvY4YiDIyxcQlgxZBmgeGVmQJEfGtdxC7fe21rExZeVyYi231RacyZtZCttOxkjQiKq8VwDi2Scvem0UYgeElh4o6AkfCik9ohprLMBxsDvWiIgbGRsJj4z/AAqjbJBBGkVYxuCuWyBcXKSJ5bfClhsSFUqVkMVJ1jRc2k/H7Kxa01TzC0iK8PopnUHRCfI8vQ/wozhOId0Lgm3lcRoQ5jyA2+MUHe4O40EL3mnrG084H3jrQ8OaGqKhIt42+GOggDYfzzqu+Kby+VOvYdwBI35c9N9KrPbIMH+edTTRUppj/pOs5R8vhUbXQRECmlDMc6TWyNwaRGEdKuspG9NpFCpVylSGXXwjEkjJ8Lif+1XbGHuOoRuXsnMCPQwfkeXpsJmn2zqKtUQ06L+N4bdNx4tufEdlJ5mohwm//Y3f9Nv3UVxWEZ2cMVV8xFslh9ZqYX9zHTkeUN4fhpS5LutxJyrmyzAJMiJ0CtO3Kr46Z83Qw8MXuZK3FujUhlOVvERA00gZT86DshGhq0OL312u3B6XGH7agxGKe42Z2Zm2lmLGPU0m0NKXpHSpV0UIYZ4RjQqOrMui/Vhllc067AmYmOU71StY90ud4IzfogD5DSjnZLh1tmL3kz2ypAAKSTIGxaRpMHrFCjwm4bvdBYfeCQNIncmNq0p0Z2rYc7N3VdLrtcW3czBgxySAVuFtG1YEhRC66j4hu0KBbzKCCBsQEAb87weHXfrRfs72b71ry3Mym2pjLB8cEgbEMNNgZ10ob2m4YMPeNtQ2WJBYglhqM2gGWY9k6jnTfRMa5AalV3hvDbl9sltczRMSBpIHMjmR86t4TgF24baqBmuMyqCYPg9onoNx6g0qKbSIuB8T+jXRdChmUHLJ0DERJHOATpTr3FZZjkVkJOVbkvkWSQFOn8YqS72evK1xCom2SCM66kDMQuvjMa6TUb8DvDIMmtwSozKWIy5tVmRKkEAxM6TVUxWrCHDOPpbtrbNv2HzggnxGH9sE6zmUH80RTrPEbJe67A+MkqSoZwTJIkyBqYmJ03FZ4Wj0q7iOE3rYLXLTqAQCWUgAkSBPWNaWji0g9f42v0ZbaMZ8IKxosZ8xB55iyn4elZe8010GmNSo0c8I6PYRTdwlxB7Vt1ZepQi4WUdY1b/NQKimCdksu6kgrctkEbgxdiqSMZAorXIo33dq/qGW1c5g6WnPVT/0z5Hw+Y2qDEcEvoJNtiv5SjMh9HWVPzooFIGRXVWnm2RyozwnB2ntubj5XHsCYBMaTp1ooHIGWbM1pOB8Lul0ASVuMqklAwjMATqDHtVCcLaVwLbZlPnPvED7AD8a9O7L4MRaYECE1kDYvcOhnyNJ4NaHsc2i2xoqgACqTIxUqrZWOxiYohjiCdKroopx6G+zK8Yv99fNppNqwFa4BvdumCifMjT8o+VWcOhZy0rmtznuMJS2oBJW1JAQCDLneCSdQKF8LYl7re8b5b4zKf8Afkq1gXH0RSuq94k7GRlLW9yJm4LQgESYG01LdWy47SDeAtK5GW5fOp8Zz5GM9WQBhzGkRqDTcXhWsEmBsWdVEW7ie8wXZXUamPaE/Apwy9laQB3YmGAlSDJVgx9onedyZ9BSxfERdFl98118p5G2FuBjvtA+6sblJ0zfErRRxeFa5au2UKAshyF1LplbR1IkSNyDygmDscVhRcIbC3Xzd0hZDr9aoOUKWmco8HmQ6zoCG23CtUtTztf9ptj95rE4rEk8TCKR3am4kTLa2y7ZhupzpsY2raLdJmMqtozfH7L3LpQL+LVVmRqGJK/HxRHlPWhF/htxBLIRrGu8+m9HuIs7Y3JbcqxCrInoTqBvG/wrr4DGZW8UhBESDI/NMftnSm4psz5NGeXCXCBCMZ10B9Kha2yHUEHz0NaC1ZxipI2OsEKWO7SZEnc71Vxr4iYYEke8BMjeJGh/5qXFDUmULuKuHLuCJ11kz167VC+IYmf48oozmxAEd2JbQmBsNNSDC8+lVb9x1PisgTsIO/M+Z1+FS0NMGPdMyBH8aeMSYIPw/bU1xoJm3HPUGapXDJJiKh4aLTt24W1NR12K5SZRylSpVID6db3FNp9rcVaJYXxeLQd7bZNe8chhvMkQfKiFq7axVkWwsYoRDkj60KGGQfnQRE75QJmJA8VH1139N/1jVe25BkValpnxtCu2ypIO9NozxDEpeTvH0vCAxjS6Pyj0ccz72+8yHApNUy1K0IGnCmxRu1wC4cI2LkZVbLHM7CR8SBQkxSaRquyeCtvYUXFUhxcMmRrntDQgSCFR4jr50C7TJ3F9TaJT6tCI8LDw5DtzOWT6mpuznFLgCYYWyWcsisH7tvrTbjK0GPFb35hmFC+0F7NdgEEIiICswcihSRIB1IJ251teGCX+ix2d4iq4lbl9pU5sxbM0kqwGaNTqR51W7QXbbXmNozb0y+1GwzRm1jNMTrETTeFcGu4gsLS5iqliJAMDeOvpRS52NxAZFgHMAWIOZUzXDbhiJBgiTG1LWh4mBeHcQuWGz22ykiNgdAQ3PzUfKiGH7Q3ENpgBntM5DETIfUqR0ksf8RpnEuzt+wC1xIUGM0iD+jr4vhtOsVBwbEJbuq9xA6ifCQCCcpCyDoRmg/CmrQOnpZxHHLzv3hInMW0URJUJ+qAPhVhOO/WWrj21zWsuq5gzlFAt55JGmVZgCdedXxxLDTnRQqfSVuFMok2o0AG0Kc+n54qXjHEcPdfEOmUKbSgDKFLXQyQUG+wMnpPUVVGdgL+m7htCwYNsNmiNZmd/jRHivaFLtpraWTbzFNrkgIghUjLsNTvuZM1Tsthe5AZX77NqdMmWfXePKtL2hv8AD2w9wWcneFgUhCCBKgAHIPdBknmTObRgUFmBzUia7FKKVF2XsM+HygXEuluZW4oHwBQx86MYdcKcPc/Ggd5bn2GM5bsdPOs1FFMOP6rd/vLf6t6qRDOd3heVy6P/AOSH/wAtWMO9pDKYq6h6i1l+1blA8tdC0x0jTjiDcuIP/iF3+NQYljcAV8argGQG76J2mDboCtskwAZNTnAXBMo4gwfCdG6Hz8qVB16F8ThRY7si7bu51DfVknL5MCAQa0HDu0dxVS2nWABu0nRfmT/mNYoYZxurfI1sPwfcMNy8b9wfV2YIn3rrTkHnlEv5EJ1qZIcXZv8AF8SKvlyFh5e1uBvtz5xU2Hv5tRVt7qCyAoGZj4id5G376pWVCihFsyrju8TdQ6Bn3/JbR7TCdDpBHLMpHI1ZsBrbOoth7Tg5rUEgI0hljdrckwwHhBKsAV1g4jc+luxwyfX2pRrdzwi/bHiyk+6ZOZHnQkj3jVLBceRptscrqdbWIi3cRxyDMMpMDceKI0FT2Ugs9+w0gjEODP1feeAk5pEgd57wG/uL5zZQveZiwy6ZIG1m2fbHQXGECN1GpgQDUW+53tvH519yvzZypHqKms4+3lb6y2VtLJS26hFHIM/sjXkOfIUKH0qK5/bLXFeIJhrT3jA0yW1JABYydAeW5IEmA2hivOez1tjde88kw91mY65rsqkwAJKm623KtDx3HDFKqBwbQYyFOjFdIPkNdOcz50N7trlq4ttwubQEkKrH2WMwZABiRGpAB0Ip8aa/DNyxgzG8JS47XBeUs58IBUDMARGpGmiiR1qLD8JcxlxIgayG0Gp0UTJPM6DeqNzgN0XBblSxj3hpOmo3+yld7O4hZ8MwQNCDv0jehv8ABV+k2MwF22MyXgwB18QGUkDUyYB1iqiYC8wNzPJEayWYzpAImdo9PKouJcNvWAO8BUNsJBmIOwPmKHpdZdQSD5GKzb0uKzDQXrOLWPHmO0DxaTGukRI2NRXVxOUloMaSYJkAlkHXSZHlQZcU40DHXzNSpxC4Ii42mwzGPlRyQ+LL7tiCuqSJgggc9IPPnQg4dpYRqoJPkBuasLj7vJ26bzvT3d0BbN4nlXETppIPz2qXTKVoH1w12uVBZylSpUhjhT0aDU/dJlU5oPvc4+FTWMGrAw3M6wYiJ233q0mQ2ivjbwe47DZmZh6Ek1EKN2eDqWTUwcuYcxM5iGiBEDfrV3D9mgyse8APhjwsIliDOmsAcuvztRbIc0ing+JWhYazctAnxEOAM+YiFBOhyg67n0oMBWvPZFYtnvd/a8JMeJV8IAk6MTB6esDMdwQW3uqLqRaPvGGf9Ec6ri/SVJeATLW6w+IX+jfxiBlzSv1RzeJAoKkZpgsQw/JPwzHFcALXdw2bPbV9spBMgiJ8t+e+1U0uaVUaTJnbRo+GcSa9fw6Hu7eQBA3d2/yi0xAE6wPPpJrvavFC3jQ+VXKrbJzKPExRWbvAp1Mkg68o5Vms2tNczTfQJaaTBdrWt3LjraRe8ABCZkAABGgB0Op131PWtpYuPet2r4gZkzP9YVyBbl1gYCEMJtsdNZOoryOKIWOMX0VVS7cVVMqA7AKTMlROm5+ZpKVdhKF9Gp7XcbUtcwzIT3bsqtNsBSDBIAtggGJIBE1muD4RLt1bbvkU5iWgGAqltASNdI351zA4G9i7jBAXuGWMsATqASWYiSSR86uYLs9duNbUFQ11mCgkz4PaJAG0yBzlTpTuxVRffgFpTlN2QcQLPeaBVSAS7Dqcw5x4W3rmL4Mge8oS7bNu13ii4wJMOFMwo0IOnn1qni+E4i0zWj+U0gN4SbS5mMeSsd9dSKk/om+uW2HXNdUeAXBmIgXEVxynwkA8451RmyKxwfNZF7vLcZsuTN9ZvE5Y2+NHeP8AY5LFu5cW9myZfCYDGWKEkTIEjTTr0k5axhrjSUVmC7kAkD1jbaroweJuZAVuHvdELSFcDox0IHyFMLBEU4UTHBL3drcyeB2CqZWCxJA56aq2p00NVHwrqWBUjKYbTY66HodD8qKDkivFODkArJgkEjkSJgx8T8zVlME50CHRS23ugST6QKlfhd0BSbbgMCynKYZVEsR1AGs9KdC5IHRRTs9ibVu8r3kz24YFYB3UqIB6Ez5RVRMKzEKFJJMAAaknYCrDcKuhVc2nysYU5TDESIB56g/KigckGb/E8ILpu27bKwe2yAAZAFCZgRInUN6zR/h3ai2zLbt2yWLaBlmfDkj298oAn161hU4ddZS4tuVX2mCkgc9TGlcwGMazcW4oGZDImYn4EGihL8PRsRxkKpuPbZbTyDKEKWgKI3A0DDQAw2/Olw/tRhznHeAMzZ4JyhiVRSSxUDN4dtBERtQuzYxN/CRfaxYtGSrXsyOSqswYAEDaQoO41AOhIt+w2J91rTgyVyOZYAFpgge6CanDRKXZ6JgcV3lsMNiZGoOnWRpVxTQzhIAtIIykLlZejJ4WAjSJU0RU0MpEmGsqjFwoBOhMakeZoF+ELhCXsM19QBetDPngBjbX2lY8xEt5R50aGHBuC5LSqlYnwkHXUdfOs52/4oi2Rhg0NdZQ8bi3mEj1YiPQMeVTJYWjzL6crFA1pTChVygLmiYzZfaYzE7mtFZwrhLtm+64dkttdhUUtctspDLnmHjVSuXdZnQUX/CDwm3hL+EvWLKBQz5giBVBt5biFgukhc3i3IWTtVrtdwpbllryOEZELIxmHsd1BtA7TmUkDzPU1EbaYSpNGUwnDblpMPcunLhrxU3G1OUGcmaORGum8wdKpPxhO9Zu6D25IQHMuW3JyAAaCB5b6nWtk7qOFK9xPAVtmOo+qUkCREuM2+u53NA8PxWzbQk4Md2WUAnUeGJOu5OU+XrVqP0RKX2DBxSwczGxqY0zGPPWNKDtdaTlLAHz5ecUaD2yypbw8gv4Xgm6wDSAB7ObKQCIIoxxDiGHy5bmDNoNID5AGAAiVERM/wA86riRzMLedm3JPrUWWpbp1qKaydWbx6GEV0CugTREILIk/jDsP7PzP53QcvXaErKboiWLJBIBubwfcHQ/nfd67R4nLkUrPtNvGmidN/XSq7makufi1/Sb7kpMaK1cp0VyKgsbSrsUqALxwpiY0pv0doJAOm/xq6mNOXLppt5az+ym/TmBJESSDMa6bfCtuKMOTKiWW0MHXbTfWNPjRjFq7hQlpkNtIeAd10JI5a7z1qDD8UuaCRpoPCORkcuoo/heKXCG0XxAg+Ee8ZP386qNITTbANuzfiRnjUyM0QN/lI+dRDC3LhJAZiNzBPkJ+6tvwuzdvsyIqlmDnaIzgBogjkv2moV4hcsXCSiFgMm0CAZ5HeobVnUoNR6MFiLbKSrAgjcHQg+dRg0a40WuXGuFYLGYG1BitMxkcDV3NTYroUmnbJwdXYqQYZvyT8q6MM/5J+RqybRLw/iFywxa22UkRMA6AhufmoPwq7a7Q3U7siM9tnKsRJh9WUg6ESWO3vGh4wjn3G/ymufQLh2tt/lP7qTDGErnaO8+fMVJedciyMyhGCGPCCoAgchU9vtE+e1cdEZrUQcuVmKgC3nYe1lyr6x5zQc4C4BmKMBvJUxHWYpirQpNdi4JvAnguK3LYdbbQLghtFMjUcxpudqKYftFcAtK6hktyIGhKlDbYTrByneN6f2e4RYu2ybt7u3kxMRHh1PzPyqzhuB2WMG+vssRoR4h7KydNetVyBfEVP8A5CxsphmUd0rBpE5yAzGBJyg+M6x0qC/x+4wvKAoW9c7xhlBIMsYDET732es6R+y2FmBiRHM5k01A2nX+P5poRx7gNqzbz27wcyogFTvmnYzpA1jnVJ2ZShRzEdpTdnvE3sm0Cp1HiDrvylQI6E1xeOoblq61shkWGhpDlbYRPCfZGgnfc+lZwU8CqM32aZO1WlpGtjLbdH8MKPC1wtlUABSRcA/wD4Ju1MYdLC24KBgHzAHXvYIAEg/WncnbSJNZqK4RQI1NrtJbbIbiOGtliMrDK2YCc4I1JI1M7Hy10PYXgKLhvpdy2rXLlz6ssoJS2kiVnYs06jkBXn3DcE169bspvcYL6A7n4CT8K9m4zjVs4cWbWVVtIqoSJAYQqsfINB+FRL6Rt8a9YLv27eNC57ZaQLq2zcbIqusqWYZSYDESep61zC8AwlplveMG0oJttcz28+pNxREwRsNBpBXlVa52jtWMHbLoyuFCiyQVYtbhDqRqAQfHJ20naquK4kTdsF5U3FW5kW4sMk+y5WSmZQwDaMDOlI0LnC7q9/fZGPdOUZEzAgFgSzgT4QxjpMTRx7qrzknYc/OvNOPcYfD4641qAoygoQSpWAVU8zAIht/tqviu2Ny5cXMoS3zVD4jIIPjI8+QHxptoSs3XFe0Itqwt5XddD4gFSdjcM6em52rE8QwqXwbxxAe5lzlZBB9gvAAlIlhB1OQcoAG8Qe3atsiMX70KwJGXKokiddW9NPM1b7P4FksXL5I8aMoBGynMnzJb5etS9wFb09AxWDuY3DW1F3uyIeWTP7Vp7TLEiJW4deRFWrPA7pwhwpvL+LNouLZmCuWYz9D1p/BlK24ETAA+A0mjGCzZBmjNzjaiqK77M7d4Qi2EwzkuiKia+GchUgmNZlAd6y/HMHecixbC92wA8XuQ4jL8W18q9D4hh5kzv9nnWO7QYTvLbLOVlMyNxqJj5A/OqWoiSMq9jGC4pZhcFvKym40WzKypAaNwPmDNTY7BYrGW7bu9sgCVHiDDOQADppLAAcvhJqsMJbvafSe8cQAWYIACXLHxauBvA1l/KiCYVA2Rca2UCAveiVHhWZnIVCsTA1gR1hEmEvWypKkQRoQdx600LNHOOcOYXtCbhu+MEQzEsSCPDoSGDDTeKs8O4XkXvCU7yYVWZVyEe8wY79B8T0McdNeeAxUFkBm1uHVQfcHJm/O6Dlv0qi0sZOpNHeI8OL3Mwa3JALfWWx4iBm97rNct8GaN0/1Lf/tRQuXpn2SpHXwL+k33LRTE8MYfk/50/fVTG2ggVQZ1M6g8l6fzpUuJakU0tV1rVSo9cuXKhopSZWyUq7mpUiiyl5ckEGR9uu331LaxFsTNvQxHi2ggncc9a7iMCBBXUQSdQdASJEeQmp8Vh7QaJy5mOshgqg6EAcj05RV6ZuhlrGW4A7vUDQ6b5p108QyiPn1o/hOK4eHm2ZOaNoEmVgcoHrQXBcPtO1wd5oqyplVzN+RrzPXyocrRVp4KleG64dx23buZlVgIAOsmcwJI16Aj41U4hxBLlxnX2SZE71lO+p64g1Hp0c6ielcPuWRYTO1gucxTN3c22yuFFyRLSxB8UgQvwzuNw2Ce/eLXHRM/g7q2roRzIl1gTsOlZg4gnnVrDuDvWiZxz00mG4LgXtXsly69wW5thrYQ5gRtFxpETOmgk8qEAW8M2Vct27IIuAk27ZBmFEQ7ae1qu8A70dvYyxYtpb7t5uWla4y3cufNJg+E6DoOgmh6YnBlh9Rc/wBYf7VURZU43xe+t+6Fv3Y71iPGyyQYDECIMAchEcooaeNYn+3u75vxj+1tO++u9abjd7Bm/dJt3GJdvELqgNqdQO70mhpfBf2N3/WT/apNFJgocaxGn113Qkj6x9CZkjXcyfmatcOxOKuMFF91AnxNdZURd2kzoNJgamNATVtDgiQO6va//sn+1UPaK93b3MLblbVu4wC6SzKcuZyAMx0MTtMClQ+V4gvg+KZ7V+0jMyrYYMzOzZ4e3EA6IojRYnr5ZIDWinZ32cT/AHDfr26GTrTatDg6kbbsneti0wuYc3FzCXA1WYgT0OVq09jCYXula3bZrkEMAuffYwdq8/4Txu7aRrdtoV5BEDWRG/p9560avcWxmGyvcUrnRcpdIlAZEdRUUdSkg6j2gD/U3aSWBFobEyNJ8j5aRGpoJiONYIqwbDa6xAXYgwCfImJiYg7gVVXtpiF0DLHQqD8evOsxdYsc0VpE5PkOEa0/IRyp+DQs405/D41o+03aDD32Tu8MqBFCmNMxHPSPtk1ZgZqu1oe0GNwlzDWPo9ko6DLcbq0CDvrqGM6dKzIeiwUTdfg54WC13FOQq2x3aHq7CWy+eXT/AB0d4th++Asa/WyWgkZbSwWPqSUUfpTyrNcP7UW8NYs2WtOZUszIQQWZmOsxrHmf2UZfjqdxdxVvxFoXobaDMFBBgzJY8/Fc6Cai0zojGkgLb4CVviA9+3aJl2y+K4MuhkwFAyD4TVi3xFbl5nuWyGUAIANVCBi0knQzBmDtEa0J4Xxe6uiuQCSSNxLROh9B8q1nEsJbtWUvqEe5ckNuQJGvh2kgmpcvDoj8eWzA9poe/cuK2YOQ06SAQIUxzAgfChWEs+O3mRmVnCwoMsZEqnVtdvMVucFatpiVQ2wRdVW1ghRAuPuDplBHXzr0PBYCVTLFu2Iywo1WDHdiRl39o7yd6X6zOS8MBiuxxxCIUXuI3a7mWVM5RbtklhGkgkb70Vt9lm+jd1buBsqqoLLkDFWBJ3JE5elbq/isJaA7y4g87jhfs0E+dTYfGWrgm26sPzGkfZvRz/BcaAGDwtxBDL9oP7avd+EGs6UUdTEjX11/4oXiCDygjlER8qpSsKor4XiK3VMSRJEwVn0B1PqNDQXHhXXMpBGokGR0IP7qKXNJ89JnX4dKDYhVANwKEuOSLpAAzOoEMY3lSDrtNUiWZ23fwiO1rFYOwbYWRcWUuudt7cMDodedDb/AsNctm5Ya4hLZUW4wImTowKBoiIMncbmil/D22fM6q7DQFlDEDy0p14Zusbf8DejhonIxmAvNh76uy+K2wJU9Ryqzjsf3jvcIgsxaBsJM1qsZhVuAG9bkOID+8HA5HeCIrG8Z4c1kyCSh2PMeR/fUtCr6KVy9rUqYoxvQ5mruapTLcSxiL5NRi4uQj3p3gGR0n3f21AxplZyZcY4dzVxmpVw1Fl0cmlXKVIsJ4jC3AJLFjoCNSdRmGvMRXG4c0osiXGYaNt56T1qA458oWYA2j5VE91juSfUz/O1XaM6YZwPBS/eKWhky66xlKuzEiJOi1axHZe4qFgysQocKoaWQsFBGkAy2x1qrwC2Wz5e8LLlYBLmQk5go906+KZ5a1oUxF23acd1dyznZjetsWHhYmShzDVTIncVtFJoxm2mZjFcKdLKXiRlclQNc0rOadIEQPmI2MUEU0ex7F7BuZLuQsAC15XUN4iJQICPfjbc1e4PxDDrgrtpzFxixMB87+Fe6AI8OUMGJDddNaOOhydGUirFmaP4Xi2CVFV8DnYABm75xmPMwBA9KM8M7Q4Bbd9Rhu7L2ioHePczsSMu4gQfFPl51SREm2jP9on1s/wBxb+6hVm54hRLtM2tn+4t/dQeydRRei4/5CnH784i6cwabj+JfZbxHUanQ+pqh3lWu0E/Sb2x+tfVfZPiO3lQ8A9KQ0sLWFbxr6irfaYf1u/8A3r/rmqWEU5105ir/AGlU/S7+n/Vufrmn4T/RJ2dHgxP9w369uhLDWjHZ9TkxH9y369uhluwztlRSzEwABJJ8hzp1gXo2zcgg1p+L8ZxGOtJn8RsjLovumPEY9NT6Vm2wzqxRlIYGCCIIPQitR2f48+At3AEUm8uWHGyiRm+2I2MHpRxDnvZlcjExFaf/AORJawRwRsIzlg5uHdToY2mYETPMiq/Z3tCMPiFvPZRwJ8OULuCNDGhE9KF9or3eYi5cChQ7FgF9kBjmEfA0NUCbb00HAuO4dcNfsNh1N24PA43XTbWSPhvsayjA6mNKm4GQL1tnEoGBYTHhBlteWgNGu0mPwVzE57Fp0t6aSF15nLBj50IGtJexpwk3DjJ7vJAifb3G3OAf20/s7w/DXrtwMbmVUZhCZgHjwZssmC3lrUHbS7hGNr6ErLbyahp/GTDbneMs/ZRf8HGHizeuRq1xUH+BS3/kpXZSiiPiKLkYXbN0Z1JGZWAUqCwW3JJ9o6dIUARoMxxC5ct5bLyCohpiTDGOW3hERoYB10r2jHpNrKdQVIIOxBEaivNu1HZ23btHE98O8e5lNokFgMs5pmSPUcxUKPFYauf2O4VjcKLHiSLqruRmzMS0QsjYEfLy1qntBd1GaRtlIBSOXhIj7KziNFWcHh3u3EtWxL3GCr0k8z0A3J6A1TiXH5Uel/g2wdzEu926pNtdFdhozScyKT7SggE8pAHM16ZcW2gLNr1J1P8APkKHLirWFspaUqq20VZ0VQFEc6rYLjNi4xQXrTsfdFxSTrOgmTWLUpb4O0XrOMtXZVGBP5JBUn0VgCR6VnOOdkbDsblpTh724uWPq2nfxKPC401BHxFaHF4ZHTLAmQZMTI5gkGDoNYpiqwtgOxZhOpMmJMSeZiNaEhGS7P8AaS9av/Q8ZHexNq6NFxCD9VtNuRnlWg4ogIFxP5jcfz0PlWW7bcPF2yWWRctHvbTL7QZdSB6gRHUDpRTgfFxiMKtz8tA0fnr7Q+Y+01olTIbsZdcHX5fbVbFXLS2yW3MTuddl0HqR8qReJHQ0PxyBonlWtGdlG8NZqFjUtyoGNUSVuIcQdgqEaLz3np6QJ+dQ4u2Llsq2xEH99dxK6+VNV8qwxUmTGQyGAjUEx+ypLMPcw7KSCDoSPlvXbWGdvZUn0BNbN8IQVcYm2CZGUgEoHXIwPnAj4cqWFVrdpwmItDLMKApJMQSSeuQdd6jgD+QwrimUcfhCkZu/tc9MxnSddvL7ajbhCSPrk1EnqN/4bxvWUos1jNAY1w0+8kMQDMHfkfOmGs2aHKVcpUii0mGYiQJ1I89BJ08hUjYFwJy84jczry/wn5VKuMywVWCCWXnEgD9gIpLjiAYABLh9tBAMAA/pH7K2pGPKRZ4Sb9t27tSDllpA9gMDJzcpAHnMVqExOJQMjWO88WRSoHdhRlBVRlmD3cTMaHzrILj7hLHfMuVoUDwghuQ01Ua0YsdqbmaXVSDIeB4mQliU10iWPn51cWjKabYsXcxVxWwotQqkP3aqJUEkrJ6fW7/nDyrPARWlxHaRQxu2reW4wyMGAZe6gLl+KqAdBoT1rOIjO0KpJ6ASdNTQ3o42NNdQ601lPSuoNaL0fgb7RCTY/uLf3U/C8OSyq3cTOolLIMXLg5Fv7NPPc8hzB1LuFNu1cF613y2kSLq3CtoqInKEIduk6DoeQbEYG27F3xtpmJkki+ST1J7rWqoxcvDl/tEGYscLh5JJP1bbnX8qmf0/0w+H/wBIH7zS/oiz/wDctf5L3+3XRwmx/wDctf5L3+3RTC4kmH4+xcfU2BrysW/3UU4nxG8+Lu27dqyx71wPqLRJhjqSV6CST6mhljhuGVgTjE0//O7/AOlTcf41bL3FwwIW4zM9wiHuZmLZfzU/N5xJ5AUS9eFrivGQltrFsWmZhF27bt20WJByWyqgkSBLHeNNNSG4JxZ8LfS+gBZDIDCQZBBn4GjHAuIpbwV/PlL5os6jOHuIUunLvGSNdpArJkzSY0jQYvtK93EnEOlvMWDEZFy6RpqJjTrVrtfxo411v5AnhyQvIr1PPQj7uVZdRWs4Bx2xZwt+zcw4uPc9hzHh0j1Eb6UIGq9Muqma1XGeK4U4Wzhxh4vW/buAgE76TudTsdo0qfsrxDB22Y37GbMpCazlbkdTp68qyGN9s+ppiWmnTEYI8PdEtMMTMlyZ8Ejn020jzrIlaP8AZLufpCHET3WuePycp6ax6a9NasYmzgnxcK7JYLxJWSqTqZmdvKaKDlQ/s1g8Jcw9/wClXDbZRNqPeeDI2193TT1rY9mMKLeDsqPfzXJiJzsQp/yqtYXtVhrIxPc4Ry9vwqh6s0TrAnxGJivT3si3ktr7NtFtj0RQv7KEaRL+J9gH+dq8m7Zo74oLuciqIG8M3zOter3T9WP55Vh+1lxVYLIS5cHhcjkujLm3Wcw12010NJDl0YjiPDblh+7uABonQzR/8Haf1vPHsW2M9CSqj7C1BuLYW7afLenMROpkxJG/qDW5/BrwgtZu3vZEkZjzyjRR8SabpIiFtjuNXDdaWJKyQqyR8yNQOsamQJAoRhrFprq22a1bLeznChRvqeYGhEk0Rx94q6odJzAGOcg/aIj0NCf6LwhZ2xFq5ccmRluC3pAEAMVU8/eHkDUy6w1j3pqeF9oHsOLb3Fu2icodXDhGmBDgmUJ0/N9N9M/ECRFeYYbB2Fd+4R7dp7YUrcbMc+pzbkCPDseVbLAOWt22Y6lFJ9YFKK+xt/RYx94c6zPYK8Bhgqnwq7gehaad2wxRFh8o5R5EkgAfbJ9PWoeyOHNrCoD7RzN89af9B4EMTcbvLeWANc/tElSmgicohgNd9TT77VxvaI6eXTSm3DVpGdlS5rqP58jUN2IEetTmNdBOmvPn/Pwqs5Eueoj5ammIoYqYJP8AIrq4cBQQM93fIIkADUmlitSo6xryA5k+gk0KwzqL90PcdAAwlZknMNDHU/8ANR6NukG8TabKGOCURqRm1IgiPKJG8/dVXEW2W0AcIoJM7+I5dTI3Ginnz89X3LtgW/x94CIk5ukgRtrvHn8qGLe04UJcvMvPcw2kaHyLbfxpmZ1cG+n9UUEBZlt5za/t+AmZqpibLslyMOFzc51B0EAdeenWu4/GWlDhXvZ9lzMR11Ou2oaPOs82KeIzGOkmPlWc2kbQi2OxeAe3q4jWN586qEVK91m3JPqZqM1i0joV+jKVdpVBYcQWgoDQxC+GJjNLTMfD7OU0/Hd0oyLqA685MQxfn5qu+uWuUq6H0cq7JMBjsOlzNkbIUZWEGTPL2jyozaxGDdLhi2CEaSURcxy3MgRSZUglNVGpGvmqVOLFJaD3uYW3au29LlwkG3cyDwjwEqTPODryg/lGJsNxnDJdtXEtFAltleDJZmR18ubDX91dpUXoVho8FxfAXCxyW0A8RL2rQlPERbCycxHh8Y8RjpQRRg7di8QVuNlXuyRDi46srrG5CjxZtgQOtKlTsijIFtadmpUqSNGjV8KwuGbBXXfJ34zd2DcILDwZiVncScu2Ylt4ArLxSpVozJdsdFIrSpUAKKcFrtKgbHKKdSpUEjrYkitH2vuYNksjDBhcC/XEzBfT4Ezm1Gm1KlSF6LiFjBpgbTWbhbEP+NU8gJ020ExzM/CsuTSpVfQkHuw+E73HWpErbJut6WxmH/dlr0x3lifOu0qn02j0XHP1YrA9vsMzC3cHuAk+jFR98UqVCCXRmuDcPu42+loMST7TMSciAyzH5/Ekda9ic27NpMNZGW3bEebHmx6kmTPnSpUnrHHoD4qwrzIBB3B5/wAfOhuJwTZfAA8e6xCt8GOh+MeppUqoAUiOzQ6G0NvGQDB0MDnpI+J8oM4ziSWbZcssKugnTTQD7qVKp+wXZhbFy9xC8FYkWUbMdIB8z1J19AYrfAAZVGyj7Bt8zHyNKlU/F6OY/JPyM/GP3VVvaVylWpBUdt6rXDoB0/k0qVDEU2XM+U27jjK0i2CSNIExy1j4/AhcVj3w+JvEIJYssOuwYzMHy++lSrORXpDjO0t24uU5RykKNoIIjbY1DhOP3baqiEALMeEbk5tT60qVZcmacUDcViGdi7GWJkmq9KlUvstdHRXGpUqH0P0bSpUqko//2Q==\" width=1000>"
   ]
  },
  {
   "cell_type": "markdown",
   "metadata": {},
   "source": [
    "# Aula 5 - Tópicos Avançados de Machine Learning I\n",
    "\n",
    "Nessa aula, iremos tratar dos seguintes conteúdos:\n",
    "- Validação de Modelos;\n",
    "- Pipeline de Modelos."
   ]
  },
  {
   "cell_type": "markdown",
   "metadata": {},
   "source": [
    "##   "
   ]
  },
  {
   "cell_type": "markdown",
   "metadata": {},
   "source": [
    "## Exercicios"
   ]
  },
  {
   "cell_type": "markdown",
   "metadata": {},
   "source": [
    "**1)** Vamos utilizar o dataset sobre a qualidade do vinho tinto [_'winequality-red.csv'_](https://www.kaggle.com/uciml/red-wine-quality-cortez-et-al-2009). Crie um _Pipeline_ onde faça os seguintes passos: _SimpleImputer_, Normalização dos Dados e _RandomForest_. Montado o _Pipeline_, utilize o _Stratified K-Fold_ para separar a base de treino em 5 partes e em seguida faça o _Cross Validation_ utilizando o _cross_val_score_."
   ]
  },
  {
   "cell_type": "code",
   "execution_count": 1,
   "metadata": {},
   "outputs": [],
   "source": [
    "import pandas as pd\n",
    "import numpy as np\n",
    "import matplotlib.pyplot as plt\n",
    "import seaborn as sns"
   ]
  },
  {
   "cell_type": "code",
   "execution_count": 2,
   "metadata": {},
   "outputs": [],
   "source": [
    "wine = pd.read_csv('./datasets/winequality-red.csv')"
   ]
  },
  {
   "cell_type": "code",
   "execution_count": 3,
   "metadata": {},
   "outputs": [
    {
     "name": "stdout",
     "output_type": "stream",
     "text": [
      "<class 'pandas.core.frame.DataFrame'>\n",
      "RangeIndex: 1599 entries, 0 to 1598\n",
      "Data columns (total 12 columns):\n",
      " #   Column                Non-Null Count  Dtype  \n",
      "---  ------                --------------  -----  \n",
      " 0   fixed acidity         1599 non-null   float64\n",
      " 1   volatile acidity      1599 non-null   float64\n",
      " 2   citric acid           1599 non-null   float64\n",
      " 3   residual sugar        1599 non-null   float64\n",
      " 4   chlorides             1599 non-null   float64\n",
      " 5   free sulfur dioxide   1599 non-null   float64\n",
      " 6   total sulfur dioxide  1599 non-null   float64\n",
      " 7   density               1599 non-null   float64\n",
      " 8   pH                    1599 non-null   float64\n",
      " 9   sulphates             1599 non-null   float64\n",
      " 10  alcohol               1599 non-null   float64\n",
      " 11  quality               1599 non-null   int64  \n",
      "dtypes: float64(11), int64(1)\n",
      "memory usage: 150.0 KB\n"
     ]
    }
   ],
   "source": [
    "wine.info()"
   ]
  },
  {
   "cell_type": "code",
   "execution_count": 4,
   "metadata": {},
   "outputs": [
    {
     "data": {
      "text/html": [
       "<div>\n",
       "<style scoped>\n",
       "    .dataframe tbody tr th:only-of-type {\n",
       "        vertical-align: middle;\n",
       "    }\n",
       "\n",
       "    .dataframe tbody tr th {\n",
       "        vertical-align: top;\n",
       "    }\n",
       "\n",
       "    .dataframe thead th {\n",
       "        text-align: right;\n",
       "    }\n",
       "</style>\n",
       "<table border=\"1\" class=\"dataframe\">\n",
       "  <thead>\n",
       "    <tr style=\"text-align: right;\">\n",
       "      <th></th>\n",
       "      <th>fixed acidity</th>\n",
       "      <th>volatile acidity</th>\n",
       "      <th>citric acid</th>\n",
       "      <th>residual sugar</th>\n",
       "      <th>chlorides</th>\n",
       "      <th>free sulfur dioxide</th>\n",
       "      <th>total sulfur dioxide</th>\n",
       "      <th>density</th>\n",
       "      <th>pH</th>\n",
       "      <th>sulphates</th>\n",
       "      <th>alcohol</th>\n",
       "      <th>quality</th>\n",
       "    </tr>\n",
       "  </thead>\n",
       "  <tbody>\n",
       "    <tr>\n",
       "      <th>0</th>\n",
       "      <td>7.4</td>\n",
       "      <td>0.70</td>\n",
       "      <td>0.00</td>\n",
       "      <td>1.9</td>\n",
       "      <td>0.076</td>\n",
       "      <td>11.0</td>\n",
       "      <td>34.0</td>\n",
       "      <td>0.9978</td>\n",
       "      <td>3.51</td>\n",
       "      <td>0.56</td>\n",
       "      <td>9.4</td>\n",
       "      <td>5</td>\n",
       "    </tr>\n",
       "    <tr>\n",
       "      <th>1</th>\n",
       "      <td>7.8</td>\n",
       "      <td>0.88</td>\n",
       "      <td>0.00</td>\n",
       "      <td>2.6</td>\n",
       "      <td>0.098</td>\n",
       "      <td>25.0</td>\n",
       "      <td>67.0</td>\n",
       "      <td>0.9968</td>\n",
       "      <td>3.20</td>\n",
       "      <td>0.68</td>\n",
       "      <td>9.8</td>\n",
       "      <td>5</td>\n",
       "    </tr>\n",
       "    <tr>\n",
       "      <th>2</th>\n",
       "      <td>7.8</td>\n",
       "      <td>0.76</td>\n",
       "      <td>0.04</td>\n",
       "      <td>2.3</td>\n",
       "      <td>0.092</td>\n",
       "      <td>15.0</td>\n",
       "      <td>54.0</td>\n",
       "      <td>0.9970</td>\n",
       "      <td>3.26</td>\n",
       "      <td>0.65</td>\n",
       "      <td>9.8</td>\n",
       "      <td>5</td>\n",
       "    </tr>\n",
       "    <tr>\n",
       "      <th>3</th>\n",
       "      <td>11.2</td>\n",
       "      <td>0.28</td>\n",
       "      <td>0.56</td>\n",
       "      <td>1.9</td>\n",
       "      <td>0.075</td>\n",
       "      <td>17.0</td>\n",
       "      <td>60.0</td>\n",
       "      <td>0.9980</td>\n",
       "      <td>3.16</td>\n",
       "      <td>0.58</td>\n",
       "      <td>9.8</td>\n",
       "      <td>6</td>\n",
       "    </tr>\n",
       "    <tr>\n",
       "      <th>4</th>\n",
       "      <td>7.4</td>\n",
       "      <td>0.70</td>\n",
       "      <td>0.00</td>\n",
       "      <td>1.9</td>\n",
       "      <td>0.076</td>\n",
       "      <td>11.0</td>\n",
       "      <td>34.0</td>\n",
       "      <td>0.9978</td>\n",
       "      <td>3.51</td>\n",
       "      <td>0.56</td>\n",
       "      <td>9.4</td>\n",
       "      <td>5</td>\n",
       "    </tr>\n",
       "  </tbody>\n",
       "</table>\n",
       "</div>"
      ],
      "text/plain": [
       "   fixed acidity  volatile acidity  citric acid  residual sugar  chlorides  \\\n",
       "0            7.4              0.70         0.00             1.9      0.076   \n",
       "1            7.8              0.88         0.00             2.6      0.098   \n",
       "2            7.8              0.76         0.04             2.3      0.092   \n",
       "3           11.2              0.28         0.56             1.9      0.075   \n",
       "4            7.4              0.70         0.00             1.9      0.076   \n",
       "\n",
       "   free sulfur dioxide  total sulfur dioxide  density    pH  sulphates  \\\n",
       "0                 11.0                  34.0   0.9978  3.51       0.56   \n",
       "1                 25.0                  67.0   0.9968  3.20       0.68   \n",
       "2                 15.0                  54.0   0.9970  3.26       0.65   \n",
       "3                 17.0                  60.0   0.9980  3.16       0.58   \n",
       "4                 11.0                  34.0   0.9978  3.51       0.56   \n",
       "\n",
       "   alcohol  quality  \n",
       "0      9.4        5  \n",
       "1      9.8        5  \n",
       "2      9.8        5  \n",
       "3      9.8        6  \n",
       "4      9.4        5  "
      ]
     },
     "execution_count": 4,
     "metadata": {},
     "output_type": "execute_result"
    }
   ],
   "source": [
    "wine.head()"
   ]
  },
  {
   "cell_type": "code",
   "execution_count": 5,
   "metadata": {},
   "outputs": [
    {
     "data": {
      "text/html": [
       "<div>\n",
       "<style scoped>\n",
       "    .dataframe tbody tr th:only-of-type {\n",
       "        vertical-align: middle;\n",
       "    }\n",
       "\n",
       "    .dataframe tbody tr th {\n",
       "        vertical-align: top;\n",
       "    }\n",
       "\n",
       "    .dataframe thead th {\n",
       "        text-align: right;\n",
       "    }\n",
       "</style>\n",
       "<table border=\"1\" class=\"dataframe\">\n",
       "  <thead>\n",
       "    <tr style=\"text-align: right;\">\n",
       "      <th></th>\n",
       "      <th>fixed acidity</th>\n",
       "      <th>volatile acidity</th>\n",
       "      <th>citric acid</th>\n",
       "      <th>residual sugar</th>\n",
       "      <th>chlorides</th>\n",
       "      <th>free sulfur dioxide</th>\n",
       "      <th>total sulfur dioxide</th>\n",
       "      <th>density</th>\n",
       "      <th>pH</th>\n",
       "      <th>sulphates</th>\n",
       "      <th>alcohol</th>\n",
       "      <th>quality</th>\n",
       "    </tr>\n",
       "  </thead>\n",
       "  <tbody>\n",
       "    <tr>\n",
       "      <th>count</th>\n",
       "      <td>1599.000000</td>\n",
       "      <td>1599.000000</td>\n",
       "      <td>1599.000000</td>\n",
       "      <td>1599.000000</td>\n",
       "      <td>1599.000000</td>\n",
       "      <td>1599.000000</td>\n",
       "      <td>1599.000000</td>\n",
       "      <td>1599.000000</td>\n",
       "      <td>1599.000000</td>\n",
       "      <td>1599.000000</td>\n",
       "      <td>1599.000000</td>\n",
       "      <td>1599.000000</td>\n",
       "    </tr>\n",
       "    <tr>\n",
       "      <th>mean</th>\n",
       "      <td>8.319637</td>\n",
       "      <td>0.527821</td>\n",
       "      <td>0.270976</td>\n",
       "      <td>2.538806</td>\n",
       "      <td>0.087467</td>\n",
       "      <td>15.874922</td>\n",
       "      <td>46.467792</td>\n",
       "      <td>0.996747</td>\n",
       "      <td>3.311113</td>\n",
       "      <td>0.658149</td>\n",
       "      <td>10.422983</td>\n",
       "      <td>5.636023</td>\n",
       "    </tr>\n",
       "    <tr>\n",
       "      <th>std</th>\n",
       "      <td>1.741096</td>\n",
       "      <td>0.179060</td>\n",
       "      <td>0.194801</td>\n",
       "      <td>1.409928</td>\n",
       "      <td>0.047065</td>\n",
       "      <td>10.460157</td>\n",
       "      <td>32.895324</td>\n",
       "      <td>0.001887</td>\n",
       "      <td>0.154386</td>\n",
       "      <td>0.169507</td>\n",
       "      <td>1.065668</td>\n",
       "      <td>0.807569</td>\n",
       "    </tr>\n",
       "    <tr>\n",
       "      <th>min</th>\n",
       "      <td>4.600000</td>\n",
       "      <td>0.120000</td>\n",
       "      <td>0.000000</td>\n",
       "      <td>0.900000</td>\n",
       "      <td>0.012000</td>\n",
       "      <td>1.000000</td>\n",
       "      <td>6.000000</td>\n",
       "      <td>0.990070</td>\n",
       "      <td>2.740000</td>\n",
       "      <td>0.330000</td>\n",
       "      <td>8.400000</td>\n",
       "      <td>3.000000</td>\n",
       "    </tr>\n",
       "    <tr>\n",
       "      <th>25%</th>\n",
       "      <td>7.100000</td>\n",
       "      <td>0.390000</td>\n",
       "      <td>0.090000</td>\n",
       "      <td>1.900000</td>\n",
       "      <td>0.070000</td>\n",
       "      <td>7.000000</td>\n",
       "      <td>22.000000</td>\n",
       "      <td>0.995600</td>\n",
       "      <td>3.210000</td>\n",
       "      <td>0.550000</td>\n",
       "      <td>9.500000</td>\n",
       "      <td>5.000000</td>\n",
       "    </tr>\n",
       "    <tr>\n",
       "      <th>50%</th>\n",
       "      <td>7.900000</td>\n",
       "      <td>0.520000</td>\n",
       "      <td>0.260000</td>\n",
       "      <td>2.200000</td>\n",
       "      <td>0.079000</td>\n",
       "      <td>14.000000</td>\n",
       "      <td>38.000000</td>\n",
       "      <td>0.996750</td>\n",
       "      <td>3.310000</td>\n",
       "      <td>0.620000</td>\n",
       "      <td>10.200000</td>\n",
       "      <td>6.000000</td>\n",
       "    </tr>\n",
       "    <tr>\n",
       "      <th>75%</th>\n",
       "      <td>9.200000</td>\n",
       "      <td>0.640000</td>\n",
       "      <td>0.420000</td>\n",
       "      <td>2.600000</td>\n",
       "      <td>0.090000</td>\n",
       "      <td>21.000000</td>\n",
       "      <td>62.000000</td>\n",
       "      <td>0.997835</td>\n",
       "      <td>3.400000</td>\n",
       "      <td>0.730000</td>\n",
       "      <td>11.100000</td>\n",
       "      <td>6.000000</td>\n",
       "    </tr>\n",
       "    <tr>\n",
       "      <th>max</th>\n",
       "      <td>15.900000</td>\n",
       "      <td>1.580000</td>\n",
       "      <td>1.000000</td>\n",
       "      <td>15.500000</td>\n",
       "      <td>0.611000</td>\n",
       "      <td>72.000000</td>\n",
       "      <td>289.000000</td>\n",
       "      <td>1.003690</td>\n",
       "      <td>4.010000</td>\n",
       "      <td>2.000000</td>\n",
       "      <td>14.900000</td>\n",
       "      <td>8.000000</td>\n",
       "    </tr>\n",
       "  </tbody>\n",
       "</table>\n",
       "</div>"
      ],
      "text/plain": [
       "       fixed acidity  volatile acidity  citric acid  residual sugar  \\\n",
       "count    1599.000000       1599.000000  1599.000000     1599.000000   \n",
       "mean        8.319637          0.527821     0.270976        2.538806   \n",
       "std         1.741096          0.179060     0.194801        1.409928   \n",
       "min         4.600000          0.120000     0.000000        0.900000   \n",
       "25%         7.100000          0.390000     0.090000        1.900000   \n",
       "50%         7.900000          0.520000     0.260000        2.200000   \n",
       "75%         9.200000          0.640000     0.420000        2.600000   \n",
       "max        15.900000          1.580000     1.000000       15.500000   \n",
       "\n",
       "         chlorides  free sulfur dioxide  total sulfur dioxide      density  \\\n",
       "count  1599.000000          1599.000000           1599.000000  1599.000000   \n",
       "mean      0.087467            15.874922             46.467792     0.996747   \n",
       "std       0.047065            10.460157             32.895324     0.001887   \n",
       "min       0.012000             1.000000              6.000000     0.990070   \n",
       "25%       0.070000             7.000000             22.000000     0.995600   \n",
       "50%       0.079000            14.000000             38.000000     0.996750   \n",
       "75%       0.090000            21.000000             62.000000     0.997835   \n",
       "max       0.611000            72.000000            289.000000     1.003690   \n",
       "\n",
       "                pH    sulphates      alcohol      quality  \n",
       "count  1599.000000  1599.000000  1599.000000  1599.000000  \n",
       "mean      3.311113     0.658149    10.422983     5.636023  \n",
       "std       0.154386     0.169507     1.065668     0.807569  \n",
       "min       2.740000     0.330000     8.400000     3.000000  \n",
       "25%       3.210000     0.550000     9.500000     5.000000  \n",
       "50%       3.310000     0.620000    10.200000     6.000000  \n",
       "75%       3.400000     0.730000    11.100000     6.000000  \n",
       "max       4.010000     2.000000    14.900000     8.000000  "
      ]
     },
     "execution_count": 5,
     "metadata": {},
     "output_type": "execute_result"
    }
   ],
   "source": [
    "wine.describe()"
   ]
  },
  {
   "cell_type": "code",
   "execution_count": 6,
   "metadata": {},
   "outputs": [
    {
     "data": {
      "image/png": "[encoded data removed]",
      "text/plain": [
       "<Figure size 864x576 with 1 Axes>"
      ]
     },
     "metadata": {
      "needs_background": "light"
     },
     "output_type": "display_data"
    }
   ],
   "source": [
    "plt.figure(figsize=(12,8))\n",
    "sns.histplot(wine['quality'])\n",
    "plt.show()"
   ]
  },
  {
   "cell_type": "code",
   "execution_count": 7,
   "metadata": {},
   "outputs": [],
   "source": [
    "wine['target'] = np.where(wine['quality'] > 6, 1, 0)"
   ]
  },
  {
   "cell_type": "code",
   "execution_count": 11,
   "metadata": {
    "scrolled": true
   },
   "outputs": [
    {
     "data": {
      "text/plain": [
       "0    0.86429\n",
       "1    0.13571\n",
       "Name: target, dtype: float64"
      ]
     },
     "execution_count": 11,
     "metadata": {},
     "output_type": "execute_result"
    }
   ],
   "source": [
    "wine['target'].value_counts(normalize = True)"
   ]
  },
  {
   "cell_type": "code",
   "execution_count": 9,
   "metadata": {},
   "outputs": [],
   "source": [
    "X = wine.drop(['quality', 'target'], axis = 1)\n",
    "y = wine['target']"
   ]
  },
  {
   "cell_type": "code",
   "execution_count": 10,
   "metadata": {},
   "outputs": [],
   "source": [
    "from sklearn.pipeline import Pipeline\n",
    "from sklearn.impute import SimpleImputer\n",
    "from sklearn.model_selection import train_test_split\n",
    "from sklearn.preprocessing import StandardScaler\n",
    "from sklearn.ensemble import RandomForestClassifier\n",
    "from sklearn.model_selection import StratifiedKFold\n",
    "from sklearn.model_selection import cross_val_score"
   ]
  },
  {
   "cell_type": "code",
   "execution_count": 12,
   "metadata": {},
   "outputs": [
    {
     "name": "stdout",
     "output_type": "stream",
     "text": [
      "Accuracy para cada um dos Folds:  [0.89732143 0.89285714 0.86160714 0.89732143 0.89237668]\n",
      "Accuracy Médio:  0.8882967648942985\n"
     ]
    }
   ],
   "source": [
    "# Split de Treino e Teste\n",
    "X_train, X_test, y_train, y_test = train_test_split(X, \n",
    "                                                    y, \n",
    "                                                    test_size=0.3, \n",
    "                                                    random_state=42,\n",
    "                                                    stratify=y)\n",
    "\n",
    "pipeline = Pipeline([('imputer', SimpleImputer(missing_values=np.nan, strategy='mean')),\n",
    "                     ('scaler', StandardScaler()),\n",
    "                     ('model', RandomForestClassifier())])\n",
    "\n",
    "cv = StratifiedKFold(n_splits=5)\n",
    "\n",
    "scores = cross_val_score(pipeline, X_train, y_train, scoring='accuracy', cv = cv)\n",
    "\n",
    "print(\"Accuracy para cada um dos Folds: \", scores)\n",
    "print(\"Accuracy Médio: \", scores.mean())"
   ]
  },
  {
   "cell_type": "code",
   "execution_count": 13,
   "metadata": {},
   "outputs": [],
   "source": [
    "pipeline.fit(X_train, y_train)\n",
    "\n",
    "y_pred = pipeline.predict(X_test)"
   ]
  },
  {
   "cell_type": "code",
   "execution_count": 14,
   "metadata": {},
   "outputs": [
    {
     "name": "stdout",
     "output_type": "stream",
     "text": [
      "              precision    recall  f1-score   support\n",
      "\n",
      "           0       0.93      0.99      0.96       415\n",
      "           1       0.92      0.52      0.67        65\n",
      "\n",
      "    accuracy                           0.93       480\n",
      "   macro avg       0.92      0.76      0.81       480\n",
      "weighted avg       0.93      0.93      0.92       480\n",
      "\n"
     ]
    }
   ],
   "source": [
    "from sklearn.metrics import classification_report\n",
    "\n",
    "print(classification_report(y_test, y_pred))"
   ]
  },
  {
   "cell_type": "code",
   "execution_count": 15,
   "metadata": {
    "scrolled": true
   },
   "outputs": [
    {
     "data": {
      "image/png": "[encoded data removed]",
      "text/plain": [
       "<Figure size 432x288 with 1 Axes>"
      ]
     },
     "metadata": {
      "needs_background": "light"
     },
     "output_type": "display_data"
    }
   ],
   "source": [
    "from mlxtend.plotting import plot_confusion_matrix\n",
    "from sklearn.metrics import confusion_matrix\n",
    "\n",
    "cm = confusion_matrix(y_test, y_pred)\n",
    "\n",
    "plot_confusion_matrix(conf_mat=cm)\n",
    "plt.show()"
   ]
  },
  {
   "cell_type": "markdown",
   "metadata": {},
   "source": [
    "##   "
   ]
  },
  {
   "cell_type": "markdown",
   "metadata": {},
   "source": [
    "## SHAP"
   ]
  },
  {
   "cell_type": "markdown",
   "metadata": {},
   "source": [
    "A sigla SHAP (SHapley Additive exPlanations) é o nome para uma importante biblioteca com foco em __Explainable AI__. Esse conceito vem da ideia de focar em __Visualização de Dados__ com __Interpretabilidade de Modelos__, o nosso modelo deixa de ser só uma __black box__ onde preparamos os dados, setamos o modelo e ele nos devolve um resultado, para evoluir ao entendimento desse modelo e como essas features influenciam nas predições. O SAP Values interpreta o impacto de uma determinada feature em comparação a previsão que fariamos em um modelo com ela."
   ]
  },
  {
   "cell_type": "markdown",
   "metadata": {},
   "source": [
    "Vamos conhecer algumas das principais visualizações usando o SHAP:"
   ]
  },
  {
   "cell_type": "code",
   "execution_count": null,
   "metadata": {},
   "outputs": [],
   "source": [
    "# Provavelmente será preciso instalar o SHAP no notebook\n",
    "#!pip install shap"
   ]
  },
  {
   "cell_type": "code",
   "execution_count": 1,
   "metadata": {},
   "outputs": [],
   "source": [
    "import pandas as pd\n",
    "import numpy as np\n",
    "import seaborn as sns\n",
    "import matplotlib.pyplot as plt\n",
    "import shap"
   ]
  },
  {
   "cell_type": "markdown",
   "metadata": {},
   "source": [
    "Vamos retornar no nosso modelo para o dataset '_Admission_Predict_Ver1.1.csv_' e setar ele novamente:"
   ]
  },
  {
   "cell_type": "code",
   "execution_count": 2,
   "metadata": {},
   "outputs": [],
   "source": [
    "df = pd.read_csv('../datasets/Admission_Predict.csv')"
   ]
  },
  {
   "cell_type": "code",
   "execution_count": 3,
   "metadata": {},
   "outputs": [
    {
     "name": "stdout",
     "output_type": "stream",
     "text": [
      "<class 'pandas.core.frame.DataFrame'>\n",
      "RangeIndex: 400 entries, 0 to 399\n",
      "Data columns (total 9 columns):\n",
      " #   Column             Non-Null Count  Dtype  \n",
      "---  ------             --------------  -----  \n",
      " 0   Serial No.         400 non-null    int64  \n",
      " 1   GRE Score          400 non-null    int64  \n",
      " 2   TOEFL Score        400 non-null    int64  \n",
      " 3   University Rating  400 non-null    int64  \n",
      " 4   SOP                400 non-null    float64\n",
      " 5   LOR                400 non-null    float64\n",
      " 6   CGPA               400 non-null    float64\n",
      " 7   Research           400 non-null    int64  \n",
      " 8   Chance of Admit    400 non-null    float64\n",
      "dtypes: float64(4), int64(5)\n",
      "memory usage: 28.2 KB\n"
     ]
    }
   ],
   "source": [
    "df.info()"
   ]
  },
  {
   "cell_type": "code",
   "execution_count": 4,
   "metadata": {},
   "outputs": [
    {
     "data": {
      "text/html": [
       "<div>\n",
       "<style scoped>\n",
       "    .dataframe tbody tr th:only-of-type {\n",
       "        vertical-align: middle;\n",
       "    }\n",
       "\n",
       "    .dataframe tbody tr th {\n",
       "        vertical-align: top;\n",
       "    }\n",
       "\n",
       "    .dataframe thead th {\n",
       "        text-align: right;\n",
       "    }\n",
       "</style>\n",
       "<table border=\"1\" class=\"dataframe\">\n",
       "  <thead>\n",
       "    <tr style=\"text-align: right;\">\n",
       "      <th></th>\n",
       "      <th>Serial No.</th>\n",
       "      <th>GRE Score</th>\n",
       "      <th>TOEFL Score</th>\n",
       "      <th>University Rating</th>\n",
       "      <th>SOP</th>\n",
       "      <th>LOR</th>\n",
       "      <th>CGPA</th>\n",
       "      <th>Research</th>\n",
       "      <th>Chance of Admit</th>\n",
       "    </tr>\n",
       "  </thead>\n",
       "  <tbody>\n",
       "    <tr>\n",
       "      <th>0</th>\n",
       "      <td>1</td>\n",
       "      <td>337</td>\n",
       "      <td>118</td>\n",
       "      <td>4</td>\n",
       "      <td>4.5</td>\n",
       "      <td>4.5</td>\n",
       "      <td>9.65</td>\n",
       "      <td>1</td>\n",
       "      <td>0.92</td>\n",
       "    </tr>\n",
       "    <tr>\n",
       "      <th>1</th>\n",
       "      <td>2</td>\n",
       "      <td>324</td>\n",
       "      <td>107</td>\n",
       "      <td>4</td>\n",
       "      <td>4.0</td>\n",
       "      <td>4.5</td>\n",
       "      <td>8.87</td>\n",
       "      <td>1</td>\n",
       "      <td>0.76</td>\n",
       "    </tr>\n",
       "    <tr>\n",
       "      <th>2</th>\n",
       "      <td>3</td>\n",
       "      <td>316</td>\n",
       "      <td>104</td>\n",
       "      <td>3</td>\n",
       "      <td>3.0</td>\n",
       "      <td>3.5</td>\n",
       "      <td>8.00</td>\n",
       "      <td>1</td>\n",
       "      <td>0.72</td>\n",
       "    </tr>\n",
       "    <tr>\n",
       "      <th>3</th>\n",
       "      <td>4</td>\n",
       "      <td>322</td>\n",
       "      <td>110</td>\n",
       "      <td>3</td>\n",
       "      <td>3.5</td>\n",
       "      <td>2.5</td>\n",
       "      <td>8.67</td>\n",
       "      <td>1</td>\n",
       "      <td>0.80</td>\n",
       "    </tr>\n",
       "    <tr>\n",
       "      <th>4</th>\n",
       "      <td>5</td>\n",
       "      <td>314</td>\n",
       "      <td>103</td>\n",
       "      <td>2</td>\n",
       "      <td>2.0</td>\n",
       "      <td>3.0</td>\n",
       "      <td>8.21</td>\n",
       "      <td>0</td>\n",
       "      <td>0.65</td>\n",
       "    </tr>\n",
       "  </tbody>\n",
       "</table>\n",
       "</div>"
      ],
      "text/plain": [
       "   Serial No.  GRE Score  TOEFL Score  University Rating  SOP  LOR   CGPA  \\\n",
       "0           1        337          118                  4  4.5   4.5  9.65   \n",
       "1           2        324          107                  4  4.0   4.5  8.87   \n",
       "2           3        316          104                  3  3.0   3.5  8.00   \n",
       "3           4        322          110                  3  3.5   2.5  8.67   \n",
       "4           5        314          103                  2  2.0   3.0  8.21   \n",
       "\n",
       "   Research  Chance of Admit   \n",
       "0         1              0.92  \n",
       "1         1              0.76  \n",
       "2         1              0.72  \n",
       "3         1              0.80  \n",
       "4         0              0.65  "
      ]
     },
     "execution_count": 4,
     "metadata": {},
     "output_type": "execute_result"
    }
   ],
   "source": [
    "df.head()"
   ]
  },
  {
   "cell_type": "code",
   "execution_count": 5,
   "metadata": {},
   "outputs": [
    {
     "data": {
      "text/plain": [
       "(400, 9)"
      ]
     },
     "execution_count": 5,
     "metadata": {},
     "output_type": "execute_result"
    }
   ],
   "source": [
    "df.shape"
   ]
  },
  {
   "cell_type": "code",
   "execution_count": 6,
   "metadata": {},
   "outputs": [],
   "source": [
    "df['Chance of Admit '] = np.where(df['Chance of Admit '] > 0.7, 1, 0)"
   ]
  },
  {
   "cell_type": "code",
   "execution_count": 7,
   "metadata": {},
   "outputs": [],
   "source": [
    "X = df.drop(['Chance of Admit '], axis=1)\n",
    "y = df['Chance of Admit ']"
   ]
  },
  {
   "cell_type": "code",
   "execution_count": 8,
   "metadata": {},
   "outputs": [],
   "source": [
    "from sklearn.model_selection import train_test_split\n",
    "\n",
    "X_train, X_test, y_train, y_test = train_test_split(X, y, test_size=0.3, random_state=42)"
   ]
  },
  {
   "cell_type": "code",
   "execution_count": 9,
   "metadata": {},
   "outputs": [],
   "source": [
    "from sklearn.ensemble import RandomForestClassifier\n",
    "\n",
    "model = RandomForestClassifier(random_state = 42)"
   ]
  },
  {
   "cell_type": "code",
   "execution_count": 10,
   "metadata": {
    "scrolled": true
   },
   "outputs": [
    {
     "data": {
      "text/plain": [
       "RandomForestClassifier(random_state=42)"
      ]
     },
     "execution_count": 10,
     "metadata": {},
     "output_type": "execute_result"
    }
   ],
   "source": [
    "model.fit(X_train, y_train)"
   ]
  },
  {
   "cell_type": "code",
   "execution_count": 11,
   "metadata": {},
   "outputs": [],
   "source": [
    "explainer = shap.TreeExplainer(model)\n",
    "shap_values = explainer.shap_values(X_train)\n",
    "shap_obj = explainer(X_train)"
   ]
  },
  {
   "cell_type": "code",
   "execution_count": 12,
   "metadata": {},
   "outputs": [
    {
     "data": {
      "image/png": "[encoded data removed]",
      "text/plain": [
       "<Figure size 576x338.4 with 2 Axes>"
      ]
     },
     "metadata": {
      "needs_background": "light"
     },
     "output_type": "display_data"
    }
   ],
   "source": [
    "shap.summary_plot(shap_values[1], X_train)"
   ]
  },
  {
   "cell_type": "code",
   "execution_count": null,
   "metadata": {},
   "outputs": [],
   "source": [
    "shap.dependence_plot('GRE Score', shap_values[1], X_train, interaction_index=\"CGPA\")"
   ]
  },
  {
   "cell_type": "code",
   "execution_count": null,
   "metadata": {},
   "outputs": [],
   "source": [
    "shap.initjs()\n",
    "shap.plots.force(explainer.expected_value[1], shap_values[1])"
   ]
  },
  {
   "cell_type": "markdown",
   "metadata": {},
   "source": [
    "Na documentação do [SHAP](https://shap.readthedocs.io/en/latest/), vocês encontram mais detalhes de como funciona a biblioteca e que tipo de visualizações vocês conseguem fazer com ela!"
   ]
  }
 ],
 "metadata": {
  "kernelspec": {
   "display_name": "Python 3 (ipykernel)",
   "language": "python",
   "name": "python3"
  },
  "language_info": {
   "codemirror_mode": {
    "name": "ipython",
    "version": 3
   },
   "file_extension": ".py",
   "mimetype": "text/x-python",
   "name": "python",
   "nbconvert_exporter": "python",
   "pygments_lexer": "ipython3",
   "version": "3.8.12"
  }
 },
 "nbformat": 4,
 "nbformat_minor": 4
}
