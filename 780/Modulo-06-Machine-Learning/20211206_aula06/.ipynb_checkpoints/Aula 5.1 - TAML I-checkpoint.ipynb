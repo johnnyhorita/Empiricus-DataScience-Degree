{
 "cells": [
  {
   "cell_type": "markdown",
   "metadata": {},
   "source": [
    "<img src=\"data:image/jpeg;base64,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\" width=1000>"
   ]
  },
  {
   "cell_type": "markdown",
   "metadata": {},
   "source": [
    "# Aula 5 - Tópicos Avançados de Machine Learning I\n",
    "\n",
    "Nessa aula, iremos tratar dos seguintes conteúdos:\n",
    "- Validação de Modelos;\n",
    "- Pipeline de Modelos."
   ]
  },
  {
   "cell_type": "markdown",
   "metadata": {},
   "source": [
    "##   "
   ]
  },
  {
   "cell_type": "markdown",
   "metadata": {},
   "source": [
    "## Validação de Modelos"
   ]
  },
  {
   "cell_type": "markdown",
   "metadata": {},
   "source": [
    "Hoje iremos falar sobre algumas técnicas que podemos utilizar para garantir que a nossa modelagem esteja performando da melhor maneira possível com a nossa aplicação.<br><br>\n",
    "\n",
    "Existem algumas técnicas de validação bem conhecidas do universo de Machine Learning, sendo elas: __Hold-Out__ e __Cross Validation__.<br><br>\n",
    "\n",
    "### Hold-Out\n",
    "\n",
    "Essa é uma técnica bem conhecida nossa! Onde o conceito dela é separarmnos o dataset em duas partes, seja uma base de __treino__ e uma base de __teste__. Usualmente fazemos essa separação utilizando a ferramenta _train_test_split_ do _Scikit-Learn_.\n",
    "\n",
    "<img src=\"https://d1m75rqqgidzqn.cloudfront.net/wp-data/2020/07/15185319/blogs-15-7-2020-02-1024x565.jpg\" width=800>\n",
    "\n",
    "<br><br>\n",
    "\n",
    "### Cross-Validation (Validação Cruzada)\n",
    "\n",
    "O __Cross Validation__ (Validação Cruzada) é uma técnica utilizada para medir o __poder de generalização__ do nosso modelo. São feitos testes na prática para saber o quão preciso é um modelo, ou seja o seu desempenho em um novo conjunto de dados. De início, faremos a separação da mesma forma em __treino__ e __teste__, em seguida usaremos a seguinte __técnica de generalização__:\n",
    "\n",
    "<img src=\"https://scikit-learn.org/stable/_images/grid_search_cross_validation.png\" width=800>\n",
    "\n",
    "O que está acontecendo na prática aqui? Iremos detalhar:\n",
    "- Primeiro separamos a base em treino e teste;\n",
    "- Usando o Cross Validation, esta função irá separar a nossa base de teste em por exemplo 5 partes;\n",
    "- Serão feitas 5 rodadas de avaliação da nossa base, usando 4 partes para __treino__ e uma para __validação__ (sempre alternando a base de validação entre as partes);\n",
    "- Calcula-se alguma métrica de avaliação para cada rodada, para acompanharmos o desempenho do modelo;\n",
    "- Por fim, temos como o resultado o score médio para o nosso modelo (ou seja, o quão bom ele está generalizando).\n",
    "\n",
    "<br><br>\n",
    "Podemos fazer o Cross Validation de diversas formas: sendo testando diretamente o nosso modelo usando o [__cross_val_score__](https://scikit-learn.org/stable/modules/generated/sklearn.model_selection.cross_val_score.html), ou utilizando duas funções do _Scikit-Learn_ que fazer as separações em _Folds_ para testarmos no modelo sendo elas o [__K-Fold__](https://scikit-learn.org/stable/modules/generated/sklearn.model_selection.KFold.html) e [__Stratified K-Fold__](https://scikit-learn.org/stable/modules/generated/sklearn.model_selection.StratifiedKFold.html?highlight=stratifiedkfold#sklearn.model_selection.StratifiedKFold).\n",
    "<br><br>\n",
    "A diferença de quando utilizar o __K-Fold__ e o __Stratified K-Fold__ é a mesma de quando usamos o _stratify_ no _train_test_split_, quando trabalhamos como __bases desbalanceadas__ utilizamos o _Stratified K-Fold_ para garantir que cada uma das separações feitas no Cross-Validation tenha a mesma proporção de dados.\n",
    "\n",
    "<br>\n",
    "Vamos testar isso na prática:"
   ]
  },
  {
   "cell_type": "markdown",
   "metadata": {},
   "source": [
    "Vamos utilizar a base de dados do _bank-full.csv_ e avaliar a performance utilizando o _K-Fold / Stratified K-Fold_:"
   ]
  },
  {
   "cell_type": "code",
   "execution_count": 1,
   "metadata": {},
   "outputs": [],
   "source": [
    "import pandas as pd\n",
    "import numpy as np\n",
    "import matplotlib.pyplot as plt\n",
    "import seaborn as sns"
   ]
  },
  {
   "cell_type": "code",
   "execution_count": 4,
   "metadata": {},
   "outputs": [
    {
     "ename": "OSError",
     "evalue": "[Errno 22] Invalid argument: '.\\\\datasets\\x08ank-full.csv'",
     "output_type": "error",
     "traceback": [
      "\u001b[1;31m---------------------------------------------------------------------------\u001b[0m",
      "\u001b[1;31mOSError\u001b[0m                                   Traceback (most recent call last)",
      "\u001b[1;32mC:\\Users\\JOHNNY~1.HOR\\AppData\\Local\\Temp/ipykernel_3568/2919934871.py\u001b[0m in \u001b[0;36m<module>\u001b[1;34m\u001b[0m\n\u001b[0;32m      1\u001b[0m \u001b[1;31m# Carregando o dataset e olhando para os nossos dados\u001b[0m\u001b[1;33m\u001b[0m\u001b[1;33m\u001b[0m\u001b[1;33m\u001b[0m\u001b[0m\n\u001b[1;32m----> 2\u001b[1;33m \u001b[0mdf\u001b[0m \u001b[1;33m=\u001b[0m \u001b[0mpd\u001b[0m\u001b[1;33m.\u001b[0m\u001b[0mread_csv\u001b[0m\u001b[1;33m(\u001b[0m\u001b[1;34m'.\\datasets\\bank-full.csv'\u001b[0m\u001b[1;33m,\u001b[0m \u001b[0msep\u001b[0m\u001b[1;33m=\u001b[0m\u001b[1;34m';'\u001b[0m\u001b[1;33m)\u001b[0m\u001b[1;33m\u001b[0m\u001b[1;33m\u001b[0m\u001b[0m\n\u001b[0m\u001b[0;32m      3\u001b[0m \u001b[0mdf\u001b[0m\u001b[1;33m.\u001b[0m\u001b[0mhead\u001b[0m\u001b[1;33m(\u001b[0m\u001b[1;33m)\u001b[0m\u001b[1;33m\u001b[0m\u001b[1;33m\u001b[0m\u001b[0m\n",
      "\u001b[1;32mC:\\ProgramData\\Anaconda3\\lib\\site-packages\\pandas\\util\\_decorators.py\u001b[0m in \u001b[0;36mwrapper\u001b[1;34m(*args, **kwargs)\u001b[0m\n\u001b[0;32m    309\u001b[0m                     \u001b[0mstacklevel\u001b[0m\u001b[1;33m=\u001b[0m\u001b[0mstacklevel\u001b[0m\u001b[1;33m,\u001b[0m\u001b[1;33m\u001b[0m\u001b[1;33m\u001b[0m\u001b[0m\n\u001b[0;32m    310\u001b[0m                 )\n\u001b[1;32m--> 311\u001b[1;33m             \u001b[1;32mreturn\u001b[0m \u001b[0mfunc\u001b[0m\u001b[1;33m(\u001b[0m\u001b[1;33m*\u001b[0m\u001b[0margs\u001b[0m\u001b[1;33m,\u001b[0m \u001b[1;33m**\u001b[0m\u001b[0mkwargs\u001b[0m\u001b[1;33m)\u001b[0m\u001b[1;33m\u001b[0m\u001b[1;33m\u001b[0m\u001b[0m\n\u001b[0m\u001b[0;32m    312\u001b[0m \u001b[1;33m\u001b[0m\u001b[0m\n\u001b[0;32m    313\u001b[0m         \u001b[1;32mreturn\u001b[0m \u001b[0mwrapper\u001b[0m\u001b[1;33m\u001b[0m\u001b[1;33m\u001b[0m\u001b[0m\n",
      "\u001b[1;32mC:\\ProgramData\\Anaconda3\\lib\\site-packages\\pandas\\io\\parsers\\readers.py\u001b[0m in \u001b[0;36mread_csv\u001b[1;34m(filepath_or_buffer, sep, delimiter, header, names, index_col, usecols, squeeze, prefix, mangle_dupe_cols, dtype, engine, converters, true_values, false_values, skipinitialspace, skiprows, skipfooter, nrows, na_values, keep_default_na, na_filter, verbose, skip_blank_lines, parse_dates, infer_datetime_format, keep_date_col, date_parser, dayfirst, cache_dates, iterator, chunksize, compression, thousands, decimal, lineterminator, quotechar, quoting, doublequote, escapechar, comment, encoding, encoding_errors, dialect, error_bad_lines, warn_bad_lines, on_bad_lines, delim_whitespace, low_memory, memory_map, float_precision, storage_options)\u001b[0m\n\u001b[0;32m    584\u001b[0m     \u001b[0mkwds\u001b[0m\u001b[1;33m.\u001b[0m\u001b[0mupdate\u001b[0m\u001b[1;33m(\u001b[0m\u001b[0mkwds_defaults\u001b[0m\u001b[1;33m)\u001b[0m\u001b[1;33m\u001b[0m\u001b[1;33m\u001b[0m\u001b[0m\n\u001b[0;32m    585\u001b[0m \u001b[1;33m\u001b[0m\u001b[0m\n\u001b[1;32m--> 586\u001b[1;33m     \u001b[1;32mreturn\u001b[0m \u001b[0m_read\u001b[0m\u001b[1;33m(\u001b[0m\u001b[0mfilepath_or_buffer\u001b[0m\u001b[1;33m,\u001b[0m \u001b[0mkwds\u001b[0m\u001b[1;33m)\u001b[0m\u001b[1;33m\u001b[0m\u001b[1;33m\u001b[0m\u001b[0m\n\u001b[0m\u001b[0;32m    587\u001b[0m \u001b[1;33m\u001b[0m\u001b[0m\n\u001b[0;32m    588\u001b[0m \u001b[1;33m\u001b[0m\u001b[0m\n",
      "\u001b[1;32mC:\\ProgramData\\Anaconda3\\lib\\site-packages\\pandas\\io\\parsers\\readers.py\u001b[0m in \u001b[0;36m_read\u001b[1;34m(filepath_or_buffer, kwds)\u001b[0m\n\u001b[0;32m    480\u001b[0m \u001b[1;33m\u001b[0m\u001b[0m\n\u001b[0;32m    481\u001b[0m     \u001b[1;31m# Create the parser.\u001b[0m\u001b[1;33m\u001b[0m\u001b[1;33m\u001b[0m\u001b[1;33m\u001b[0m\u001b[0m\n\u001b[1;32m--> 482\u001b[1;33m     \u001b[0mparser\u001b[0m \u001b[1;33m=\u001b[0m \u001b[0mTextFileReader\u001b[0m\u001b[1;33m(\u001b[0m\u001b[0mfilepath_or_buffer\u001b[0m\u001b[1;33m,\u001b[0m \u001b[1;33m**\u001b[0m\u001b[0mkwds\u001b[0m\u001b[1;33m)\u001b[0m\u001b[1;33m\u001b[0m\u001b[1;33m\u001b[0m\u001b[0m\n\u001b[0m\u001b[0;32m    483\u001b[0m \u001b[1;33m\u001b[0m\u001b[0m\n\u001b[0;32m    484\u001b[0m     \u001b[1;32mif\u001b[0m \u001b[0mchunksize\u001b[0m \u001b[1;32mor\u001b[0m \u001b[0miterator\u001b[0m\u001b[1;33m:\u001b[0m\u001b[1;33m\u001b[0m\u001b[1;33m\u001b[0m\u001b[0m\n",
      "\u001b[1;32mC:\\ProgramData\\Anaconda3\\lib\\site-packages\\pandas\\io\\parsers\\readers.py\u001b[0m in \u001b[0;36m__init__\u001b[1;34m(self, f, engine, **kwds)\u001b[0m\n\u001b[0;32m    809\u001b[0m             \u001b[0mself\u001b[0m\u001b[1;33m.\u001b[0m\u001b[0moptions\u001b[0m\u001b[1;33m[\u001b[0m\u001b[1;34m\"has_index_names\"\u001b[0m\u001b[1;33m]\u001b[0m \u001b[1;33m=\u001b[0m \u001b[0mkwds\u001b[0m\u001b[1;33m[\u001b[0m\u001b[1;34m\"has_index_names\"\u001b[0m\u001b[1;33m]\u001b[0m\u001b[1;33m\u001b[0m\u001b[1;33m\u001b[0m\u001b[0m\n\u001b[0;32m    810\u001b[0m \u001b[1;33m\u001b[0m\u001b[0m\n\u001b[1;32m--> 811\u001b[1;33m         \u001b[0mself\u001b[0m\u001b[1;33m.\u001b[0m\u001b[0m_engine\u001b[0m \u001b[1;33m=\u001b[0m \u001b[0mself\u001b[0m\u001b[1;33m.\u001b[0m\u001b[0m_make_engine\u001b[0m\u001b[1;33m(\u001b[0m\u001b[0mself\u001b[0m\u001b[1;33m.\u001b[0m\u001b[0mengine\u001b[0m\u001b[1;33m)\u001b[0m\u001b[1;33m\u001b[0m\u001b[1;33m\u001b[0m\u001b[0m\n\u001b[0m\u001b[0;32m    812\u001b[0m \u001b[1;33m\u001b[0m\u001b[0m\n\u001b[0;32m    813\u001b[0m     \u001b[1;32mdef\u001b[0m \u001b[0mclose\u001b[0m\u001b[1;33m(\u001b[0m\u001b[0mself\u001b[0m\u001b[1;33m)\u001b[0m\u001b[1;33m:\u001b[0m\u001b[1;33m\u001b[0m\u001b[1;33m\u001b[0m\u001b[0m\n",
      "\u001b[1;32mC:\\ProgramData\\Anaconda3\\lib\\site-packages\\pandas\\io\\parsers\\readers.py\u001b[0m in \u001b[0;36m_make_engine\u001b[1;34m(self, engine)\u001b[0m\n\u001b[0;32m   1038\u001b[0m             )\n\u001b[0;32m   1039\u001b[0m         \u001b[1;31m# error: Too many arguments for \"ParserBase\"\u001b[0m\u001b[1;33m\u001b[0m\u001b[1;33m\u001b[0m\u001b[1;33m\u001b[0m\u001b[0m\n\u001b[1;32m-> 1040\u001b[1;33m         \u001b[1;32mreturn\u001b[0m \u001b[0mmapping\u001b[0m\u001b[1;33m[\u001b[0m\u001b[0mengine\u001b[0m\u001b[1;33m]\u001b[0m\u001b[1;33m(\u001b[0m\u001b[0mself\u001b[0m\u001b[1;33m.\u001b[0m\u001b[0mf\u001b[0m\u001b[1;33m,\u001b[0m \u001b[1;33m**\u001b[0m\u001b[0mself\u001b[0m\u001b[1;33m.\u001b[0m\u001b[0moptions\u001b[0m\u001b[1;33m)\u001b[0m  \u001b[1;31m# type: ignore[call-arg]\u001b[0m\u001b[1;33m\u001b[0m\u001b[1;33m\u001b[0m\u001b[0m\n\u001b[0m\u001b[0;32m   1041\u001b[0m \u001b[1;33m\u001b[0m\u001b[0m\n\u001b[0;32m   1042\u001b[0m     \u001b[1;32mdef\u001b[0m \u001b[0m_failover_to_python\u001b[0m\u001b[1;33m(\u001b[0m\u001b[0mself\u001b[0m\u001b[1;33m)\u001b[0m\u001b[1;33m:\u001b[0m\u001b[1;33m\u001b[0m\u001b[1;33m\u001b[0m\u001b[0m\n",
      "\u001b[1;32mC:\\ProgramData\\Anaconda3\\lib\\site-packages\\pandas\\io\\parsers\\c_parser_wrapper.py\u001b[0m in \u001b[0;36m__init__\u001b[1;34m(self, src, **kwds)\u001b[0m\n\u001b[0;32m     49\u001b[0m \u001b[1;33m\u001b[0m\u001b[0m\n\u001b[0;32m     50\u001b[0m         \u001b[1;31m# open handles\u001b[0m\u001b[1;33m\u001b[0m\u001b[1;33m\u001b[0m\u001b[1;33m\u001b[0m\u001b[0m\n\u001b[1;32m---> 51\u001b[1;33m         \u001b[0mself\u001b[0m\u001b[1;33m.\u001b[0m\u001b[0m_open_handles\u001b[0m\u001b[1;33m(\u001b[0m\u001b[0msrc\u001b[0m\u001b[1;33m,\u001b[0m \u001b[0mkwds\u001b[0m\u001b[1;33m)\u001b[0m\u001b[1;33m\u001b[0m\u001b[1;33m\u001b[0m\u001b[0m\n\u001b[0m\u001b[0;32m     52\u001b[0m         \u001b[1;32massert\u001b[0m \u001b[0mself\u001b[0m\u001b[1;33m.\u001b[0m\u001b[0mhandles\u001b[0m \u001b[1;32mis\u001b[0m \u001b[1;32mnot\u001b[0m \u001b[1;32mNone\u001b[0m\u001b[1;33m\u001b[0m\u001b[1;33m\u001b[0m\u001b[0m\n\u001b[0;32m     53\u001b[0m \u001b[1;33m\u001b[0m\u001b[0m\n",
      "\u001b[1;32mC:\\ProgramData\\Anaconda3\\lib\\site-packages\\pandas\\io\\parsers\\base_parser.py\u001b[0m in \u001b[0;36m_open_handles\u001b[1;34m(self, src, kwds)\u001b[0m\n\u001b[0;32m    220\u001b[0m         \u001b[0mLet\u001b[0m \u001b[0mthe\u001b[0m \u001b[0mreaders\u001b[0m \u001b[0mopen\u001b[0m \u001b[0mIOHandles\u001b[0m \u001b[0mafter\u001b[0m \u001b[0mthey\u001b[0m \u001b[0mare\u001b[0m \u001b[0mdone\u001b[0m \u001b[1;32mwith\u001b[0m \u001b[0mtheir\u001b[0m \u001b[0mpotential\u001b[0m \u001b[0mraises\u001b[0m\u001b[1;33m.\u001b[0m\u001b[1;33m\u001b[0m\u001b[1;33m\u001b[0m\u001b[0m\n\u001b[0;32m    221\u001b[0m         \"\"\"\n\u001b[1;32m--> 222\u001b[1;33m         self.handles = get_handle(\n\u001b[0m\u001b[0;32m    223\u001b[0m             \u001b[0msrc\u001b[0m\u001b[1;33m,\u001b[0m\u001b[1;33m\u001b[0m\u001b[1;33m\u001b[0m\u001b[0m\n\u001b[0;32m    224\u001b[0m             \u001b[1;34m\"r\"\u001b[0m\u001b[1;33m,\u001b[0m\u001b[1;33m\u001b[0m\u001b[1;33m\u001b[0m\u001b[0m\n",
      "\u001b[1;32mC:\\ProgramData\\Anaconda3\\lib\\site-packages\\pandas\\io\\common.py\u001b[0m in \u001b[0;36mget_handle\u001b[1;34m(path_or_buf, mode, encoding, compression, memory_map, is_text, errors, storage_options)\u001b[0m\n\u001b[0;32m    700\u001b[0m         \u001b[1;32mif\u001b[0m \u001b[0mioargs\u001b[0m\u001b[1;33m.\u001b[0m\u001b[0mencoding\u001b[0m \u001b[1;32mand\u001b[0m \u001b[1;34m\"b\"\u001b[0m \u001b[1;32mnot\u001b[0m \u001b[1;32min\u001b[0m \u001b[0mioargs\u001b[0m\u001b[1;33m.\u001b[0m\u001b[0mmode\u001b[0m\u001b[1;33m:\u001b[0m\u001b[1;33m\u001b[0m\u001b[1;33m\u001b[0m\u001b[0m\n\u001b[0;32m    701\u001b[0m             \u001b[1;31m# Encoding\u001b[0m\u001b[1;33m\u001b[0m\u001b[1;33m\u001b[0m\u001b[1;33m\u001b[0m\u001b[0m\n\u001b[1;32m--> 702\u001b[1;33m             handle = open(\n\u001b[0m\u001b[0;32m    703\u001b[0m                 \u001b[0mhandle\u001b[0m\u001b[1;33m,\u001b[0m\u001b[1;33m\u001b[0m\u001b[1;33m\u001b[0m\u001b[0m\n\u001b[0;32m    704\u001b[0m                 \u001b[0mioargs\u001b[0m\u001b[1;33m.\u001b[0m\u001b[0mmode\u001b[0m\u001b[1;33m,\u001b[0m\u001b[1;33m\u001b[0m\u001b[1;33m\u001b[0m\u001b[0m\n",
      "\u001b[1;31mOSError\u001b[0m: [Errno 22] Invalid argument: '.\\\\datasets\\x08ank-full.csv'"
     ]
    }
   ],
   "source": [
    "# Carregando o dataset e olhando para os nossos dados\n",
    "df = pd.read_csv('.\\datasets\\bank-full.csv', sep=';')\n",
    "df.head()"
   ]
  },
  {
   "cell_type": "code",
   "execution_count": null,
   "metadata": {
    "scrolled": false
   },
   "outputs": [],
   "source": [
    "# Vamos dar uma olhada em como está os nossos dados\n",
    "df.info()"
   ]
  },
  {
   "cell_type": "code",
   "execution_count": null,
   "metadata": {},
   "outputs": [],
   "source": [
    "# Verificando a proporção da target\n",
    "df['y'].value_counts()"
   ]
  },
  {
   "cell_type": "code",
   "execution_count": null,
   "metadata": {},
   "outputs": [],
   "source": [
    "# Dropando a target das nossas features\n",
    "X = df.drop(['y'], axis = 1)"
   ]
  },
  {
   "cell_type": "code",
   "execution_count": null,
   "metadata": {},
   "outputs": [],
   "source": [
    "# Fazenfo um get_dummies para colunar as nossas variáveis categóricas\n",
    "X_with_dummies = pd.get_dummies(X, prefix_sep = '_', columns=['job', \n",
    "                                                              'marital', \n",
    "                                                              'education',\n",
    "                                                              'default',\n",
    "                                                              'housing',\n",
    "                                                              'loan',\n",
    "                                                              'contact',\n",
    "                                                              'month',\n",
    "                                                              'poutcome'])"
   ]
  },
  {
   "cell_type": "code",
   "execution_count": null,
   "metadata": {},
   "outputs": [],
   "source": [
    "# transformando a target\n",
    "y_target = np.where(df['y'] == 'yes', 1, 0)\n",
    "y_target"
   ]
  },
  {
   "cell_type": "code",
   "execution_count": null,
   "metadata": {},
   "outputs": [],
   "source": [
    "#Separando em train e test\n",
    "from sklearn.model_selection import train_test_split\n",
    "\n",
    "X_train, X_test, y_train, y_test = train_test_split(X_with_dummies, \n",
    "                                                    y_target, \n",
    "                                                    test_size=0.3, \n",
    "                                                    random_state=42,\n",
    "                                                    stratify = y_target)"
   ]
  },
  {
   "cell_type": "code",
   "execution_count": null,
   "metadata": {},
   "outputs": [],
   "source": [
    "# Normalizando os dados\n",
    "from sklearn.preprocessing import StandardScaler \n",
    "scaler = StandardScaler()\n",
    "X_train_std = scaler.fit_transform(X_train)"
   ]
  },
  {
   "cell_type": "code",
   "execution_count": null,
   "metadata": {},
   "outputs": [],
   "source": [
    "# Aplicando na base de teste a normalização\n",
    "X_test_std = scaler.transform(X_test)"
   ]
  },
  {
   "cell_type": "code",
   "execution_count": null,
   "metadata": {},
   "outputs": [],
   "source": [
    "# Testando com o modelo RandomForest\n",
    "from sklearn.ensemble import RandomForestClassifier\n",
    "\n",
    "model = RandomForestClassifier(random_state = 42)"
   ]
  },
  {
   "cell_type": "markdown",
   "metadata": {},
   "source": [
    "Vamos utilizar agora o _cross_vasl_score_:"
   ]
  },
  {
   "cell_type": "code",
   "execution_count": null,
   "metadata": {},
   "outputs": [],
   "source": [
    "# Utilizando o Cross Validation\n",
    "from sklearn.model_selection import cross_val_score\n",
    "\n",
    "print(cross_val_score(model, X_train_std, y_train, scoring='accuracy', cv=5))"
   ]
  },
  {
   "cell_type": "markdown",
   "metadata": {},
   "source": [
    "Agora testando o _Stratified K-Fold_:"
   ]
  },
  {
   "cell_type": "code",
   "execution_count": null,
   "metadata": {},
   "outputs": [],
   "source": [
    "# Utilizando o StratifiedKFold\n",
    "\n",
    "from sklearn.model_selection import StratifiedKFold\n",
    "\n",
    "kf = StratifiedKFold(n_splits=5)\n",
    "kf.get_n_splits(X_train_std)"
   ]
  },
  {
   "cell_type": "code",
   "execution_count": null,
   "metadata": {},
   "outputs": [],
   "source": [
    "from sklearn.metrics import accuracy_score, precision_score, recall_score, f1_score\n",
    "\n",
    "list_accuracy = []\n",
    "list_precision = []\n",
    "list_recall = []\n",
    "list_f1_score = []\n",
    "\n",
    "i = 1\n",
    "for train_index, val_index in kf.split(X_train_std, y_train):\n",
    "    print(\"============================================================================================\")\n",
    "    print(\"Fold \", i)\n",
    "    print(\"TRAIN:\", train_index, \"VALIDATION:\", val_index)\n",
    "    KFold_X_train, KFold_X_val = X_train_std[train_index], X_train_std[val_index]\n",
    "    KFold_y_train, KFold_y_val = y_train[train_index], y_train[val_index]\n",
    "    model.fit(KFold_X_train, KFold_y_train)\n",
    "    y_pred = model.predict(KFold_X_val)\n",
    "    #Calcula as métricas\n",
    "    acc = accuracy_score(KFold_y_val, y_pred)\n",
    "    prec = precision_score(KFold_y_val, y_pred)\n",
    "    recall = recall_score(KFold_y_val, y_pred)\n",
    "    f1 = f1_score(KFold_y_val, y_pred)\n",
    "    print(\"Accuracy: \", acc)\n",
    "    print(\"Precison: \", prec)\n",
    "    print(\"Recal:    \", recall)\n",
    "    print(\"F1-Score: \", f1)\n",
    "    # salva na lista\n",
    "    list_accuracy.append(acc)\n",
    "    list_precision.append(prec)\n",
    "    list_recall.append(recall)\n",
    "    list_f1_score.append(f1)\n",
    "    i += 1\n",
    "print(\"============================================================================================\")"
   ]
  },
  {
   "cell_type": "markdown",
   "metadata": {},
   "source": [
    "Importante lembrar que, tanto para o _cross_val_score_ quando para os tipos de _K-Folds_, esse métodos são usados para __avalaiar a generalização do modelo__. Após testar o nosso modelo e verificar que essa teve uma boa performance (isso ajuda a minimizar as chances de _Underfitting_ e _Overfitting_), deposi desses processos podemos agora rodar o nosso modelo e fazer as predições para a base de __teste__!"
   ]
  },
  {
   "cell_type": "markdown",
   "metadata": {},
   "source": [
    "##   "
   ]
  },
  {
   "cell_type": "markdown",
   "metadata": {},
   "source": [
    "## Pipeline de Modelos"
   ]
  },
  {
   "cell_type": "markdown",
   "metadata": {},
   "source": [
    "Agora vamos aprender como montar Pipelines de Modelos e deixá-los de uma maneira mais automatizada, deixando processos de limpeza, normalização e modelagem prontos para receberem novos dados!"
   ]
  },
  {
   "cell_type": "markdown",
   "metadata": {},
   "source": [
    "### SimpleImputer"
   ]
  },
  {
   "cell_type": "markdown",
   "metadata": {},
   "source": [
    "O [__SimpleImputer__](https://scikit-learn.org/stable/modules/generated/sklearn.impute.SimpleImputer.html) é uma ferramenta bem interessante, onde podemos já deixar claro quais serão as estratégias para lidar com __valores númericos faltantes__.<br><br>\n",
    "Vamos começar importando a biblioteca do __SimpleImputer__:"
   ]
  },
  {
   "cell_type": "code",
   "execution_count": null,
   "metadata": {},
   "outputs": [],
   "source": [
    "from sklearn.impute import SimpleImputer"
   ]
  },
  {
   "cell_type": "code",
   "execution_count": null,
   "metadata": {},
   "outputs": [],
   "source": [
    "[5, 8, 10, np.nan, 7], [np.nan, 1, np.nan, 0, 9], [18, 10, 6, 7, 15], [5, 7, 9, np.nan, np.nan],\n",
    "[1, 3, np.nan, np.nan, np.nan]\n",
    "\n",
    "df = pd.DataFrame(np.array([[5, 8, 10, np.nan, 7], \n",
    "                            [np.nan, 1, np.nan, 0, 9], \n",
    "                            [18, 10, 6, 7, 15], \n",
    "                            [5, 7, 9, np.nan, np.nan],\n",
    "                            [1, 3, np.nan, np.nan, np.nan]]), columns=['a', 'b', 'c', 'd', 'e'])\n",
    "df.head()"
   ]
  },
  {
   "cell_type": "code",
   "execution_count": null,
   "metadata": {},
   "outputs": [],
   "source": [
    "imputer = SimpleImputer(missing_values=np.nan, strategy='mean')"
   ]
  },
  {
   "cell_type": "code",
   "execution_count": null,
   "metadata": {
    "scrolled": false
   },
   "outputs": [],
   "source": [
    "imputer.fit_transform(df)"
   ]
  },
  {
   "cell_type": "code",
   "execution_count": null,
   "metadata": {},
   "outputs": [],
   "source": [
    "imputer = SimpleImputer(missing_values=np.nan, strategy='median')"
   ]
  },
  {
   "cell_type": "code",
   "execution_count": null,
   "metadata": {
    "scrolled": true
   },
   "outputs": [],
   "source": [
    "imputer.fit_transform(df)"
   ]
  },
  {
   "cell_type": "markdown",
   "metadata": {},
   "source": [
    "##   "
   ]
  },
  {
   "cell_type": "markdown",
   "metadata": {},
   "source": [
    "### Label Encoding e One Hot Encoding"
   ]
  },
  {
   "cell_type": "markdown",
   "metadata": {},
   "source": [
    "Agora vamos ver mais algumas funções para tratamento de dados categóricos, para podermos utilizar nos Pipelines. São duas funções para tratamento dos dados sendo elas __Label Encoding__ e __One Hot Encoding__.<br><br>\n",
    "No caso para o __Label Encoding__, a nossa função vai trocar as variáveis categóricas por labels (ou números no caso) onde podemos identificar a diferença entre as labels. Importante é que no caso do __Label Encoding__, a ordem das categorias importa! Então precisamos saber exatamente onde é melhor aplicar esse método:"
   ]
  },
  {
   "cell_type": "markdown",
   "metadata": {},
   "source": [
    "<img src=\"https://i.imgur.com/tEogUAr.png\" width=1000>"
   ]
  },
  {
   "cell_type": "markdown",
   "metadata": {},
   "source": [
    "Já no caso do __One Hot Encoding__, temos algo bem parecido com o que faziamos usando a função do Pandas _get_dummies_, onde colunavamos as nossas variáveis categóricas:"
   ]
  },
  {
   "cell_type": "markdown",
   "metadata": {},
   "source": [
    "<img src=\"https://i.imgur.com/TW5m0aJ.png\" width=1000>"
   ]
  },
  {
   "cell_type": "code",
   "execution_count": null,
   "metadata": {},
   "outputs": [],
   "source": [
    "from sklearn.preprocessing import LabelEncoder, OneHotEncoder"
   ]
  },
  {
   "cell_type": "code",
   "execution_count": null,
   "metadata": {},
   "outputs": [],
   "source": [
    "insurance = pd.read_csv('insurance.csv')"
   ]
  },
  {
   "cell_type": "code",
   "execution_count": null,
   "metadata": {
    "scrolled": true
   },
   "outputs": [],
   "source": [
    "insurance.head()"
   ]
  },
  {
   "cell_type": "code",
   "execution_count": null,
   "metadata": {
    "scrolled": true
   },
   "outputs": [],
   "source": [
    "df = insurance[['sex', 'smoker']]\n",
    "df.head()"
   ]
  },
  {
   "cell_type": "code",
   "execution_count": null,
   "metadata": {},
   "outputs": [],
   "source": [
    "df_labels = df.copy()"
   ]
  },
  {
   "cell_type": "code",
   "execution_count": null,
   "metadata": {},
   "outputs": [],
   "source": [
    "label_encoder = LabelEncoder()"
   ]
  },
  {
   "cell_type": "code",
   "execution_count": null,
   "metadata": {},
   "outputs": [],
   "source": [
    "for col in df.columns:\n",
    "    df_labels[col] = label_encoder.fit_transform(df[col])"
   ]
  },
  {
   "cell_type": "code",
   "execution_count": null,
   "metadata": {},
   "outputs": [],
   "source": [
    "df_labels.head()"
   ]
  },
  {
   "cell_type": "markdown",
   "metadata": {},
   "source": [
    "Agora testando o __OneHotEncoder__:"
   ]
  },
  {
   "cell_type": "code",
   "execution_count": null,
   "metadata": {},
   "outputs": [],
   "source": [
    "OH_encoder = OneHotEncoder(handle_unknown='ignore', sparse=False)"
   ]
  },
  {
   "cell_type": "code",
   "execution_count": null,
   "metadata": {},
   "outputs": [],
   "source": [
    "OH_insurance = OH_encoder.fit_transform(insurance[['sex', 'smoker', 'region']])"
   ]
  },
  {
   "cell_type": "code",
   "execution_count": null,
   "metadata": {},
   "outputs": [],
   "source": [
    "OH_insurance"
   ]
  },
  {
   "cell_type": "code",
   "execution_count": null,
   "metadata": {},
   "outputs": [],
   "source": [
    "columns = OH_encoder.get_feature_names(['sex', 'smoker', 'region'])\n",
    "columns"
   ]
  },
  {
   "cell_type": "code",
   "execution_count": null,
   "metadata": {},
   "outputs": [],
   "source": [
    "OH_df = pd.DataFrame(OH_insurance, columns = columns)\n",
    "OH_df.head()"
   ]
  },
  {
   "cell_type": "markdown",
   "metadata": {},
   "source": [
    "##   "
   ]
  },
  {
   "cell_type": "markdown",
   "metadata": {},
   "source": [
    "### Pipeline"
   ]
  },
  {
   "cell_type": "markdown",
   "metadata": {},
   "source": [
    "A ideia do Pipeline é de todo o processo com os dados, desde tratamento e normalização dos dados até a modelagem, isso tudo passe por uma \"esteira de processos\" onde indicamos todos os passos que precisam ser feitos com os nossos dados.\n",
    "Vamos ver a funcionalidade na prática:"
   ]
  },
  {
   "cell_type": "code",
   "execution_count": null,
   "metadata": {},
   "outputs": [],
   "source": [
    "import pandas as pd\n",
    "import numpy as np\n",
    "import seaborn as sns\n",
    "import matplotlib.pyplot as plt"
   ]
  },
  {
   "cell_type": "code",
   "execution_count": null,
   "metadata": {},
   "outputs": [],
   "source": [
    "df = pd.read_csv('Admission_Predict_Ver1.1.csv')"
   ]
  },
  {
   "cell_type": "code",
   "execution_count": null,
   "metadata": {},
   "outputs": [],
   "source": [
    "df.info()"
   ]
  },
  {
   "cell_type": "code",
   "execution_count": null,
   "metadata": {},
   "outputs": [],
   "source": [
    "df.head()"
   ]
  },
  {
   "cell_type": "code",
   "execution_count": null,
   "metadata": {},
   "outputs": [],
   "source": [
    "df.shape"
   ]
  },
  {
   "cell_type": "code",
   "execution_count": null,
   "metadata": {},
   "outputs": [],
   "source": [
    "df['Chance of Admit '] = np.where(df['Chance of Admit '] > 0.7, 1, 0)"
   ]
  },
  {
   "cell_type": "code",
   "execution_count": null,
   "metadata": {},
   "outputs": [],
   "source": [
    "X = df.drop(['Chance of Admit '], axis=1)\n",
    "y = df['Chance of Admit ']"
   ]
  },
  {
   "cell_type": "code",
   "execution_count": null,
   "metadata": {},
   "outputs": [],
   "source": [
    "# Split de Treino e Teste\n",
    "X_train, X_test, y_train, y_test = train_test_split(X, \n",
    "                                                    y, \n",
    "                                                    test_size=0.2, \n",
    "                                                    random_state=42,\n",
    "                                                    stratify=y)\n",
    "\n",
    "# Utilizando o Pipeline\n",
    "from sklearn.pipeline import Pipeline\n",
    "\n",
    "# o que queremos utilizar para construir o modelo\n",
    "from sklearn.preprocessing import StandardScaler\n",
    "from sklearn.ensemble import RandomForestClassifier\n",
    "\n",
    "# Montando o nosso Pipeline de Dados\n",
    "pipeline = Pipeline([('scaler', StandardScaler()),\n",
    "                     ('model', RandomForestClassifier())])\n",
    "\n",
    "# Fit nos Dados no nosso Pipeline (Normalização + Modelo)\n",
    "pipeline.fit(X_train, y_train)\n",
    "\n",
    "# Predições do Pipeline\n",
    "y_pred = pipeline.predict(X_test)"
   ]
  },
  {
   "cell_type": "code",
   "execution_count": null,
   "metadata": {},
   "outputs": [],
   "source": [
    "from sklearn.metrics import classification_report\n",
    "\n",
    "print(classification_report(y_test, y_pred))"
   ]
  },
  {
   "cell_type": "code",
   "execution_count": null,
   "metadata": {},
   "outputs": [],
   "source": [
    "from mlxtend.plotting import plot_confusion_matrix\n",
    "from sklearn.metrics import confusion_matrix\n",
    "\n",
    "cm = confusion_matrix(y_test, y_pred)\n",
    "\n",
    "plot_confusion_matrix(conf_mat=cm)\n",
    "plt.show()"
   ]
  },
  {
   "cell_type": "markdown",
   "metadata": {},
   "source": [
    "##   "
   ]
  },
  {
   "cell_type": "markdown",
   "metadata": {},
   "source": [
    "## Exercicios"
   ]
  },
  {
   "cell_type": "markdown",
   "metadata": {},
   "source": [
    "**1)** Vamos utilizar o dataset sobre a qualidade do vinho tinto _'winequality-red.csv'_. Crie um _Pipeline_ onde faça os seguintes passos: _SimpleImputer_, Normalização dos Dados e _RandomForest_. Montado o _Pipeline_, utilize o _Stratified K-Fold_ para separar a base de treino em 5 partes e em seguida faça o _Cross Validation_ utilizando o _cross_val_score_."
   ]
  },
  {
   "cell_type": "code",
   "execution_count": null,
   "metadata": {},
   "outputs": [],
   "source": []
  },
  {
   "cell_type": "code",
   "execution_count": null,
   "metadata": {},
   "outputs": [],
   "source": []
  },
  {
   "cell_type": "code",
   "execution_count": null,
   "metadata": {},
   "outputs": [],
   "source": []
  },
  {
   "cell_type": "markdown",
   "metadata": {},
   "source": [
    "##   "
   ]
  }
 ],
 "metadata": {
  "kernelspec": {
   "display_name": "Python 3 (ipykernel)",
   "language": "python",
   "name": "python3"
  },
  "language_info": {
   "codemirror_mode": {
    "name": "ipython",
    "version": 3
   },
   "file_extension": ".py",
   "mimetype": "text/x-python",
   "name": "python",
   "nbconvert_exporter": "python",
   "pygments_lexer": "ipython3",
   "version": "3.8.12"
  }
 },
 "nbformat": 4,
 "nbformat_minor": 4
}
