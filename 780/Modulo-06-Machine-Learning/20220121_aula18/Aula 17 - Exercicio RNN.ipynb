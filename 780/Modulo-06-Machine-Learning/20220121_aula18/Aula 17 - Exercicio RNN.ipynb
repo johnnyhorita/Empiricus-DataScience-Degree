{
 "cells": [
  {
   "cell_type": "markdown",
   "metadata": {},
   "source": [
    "# Prevendo consumo de energia\n",
    "\n",
    "Dados de consumo de energia e de temperatura e humidade em vários pontos de uma casa.\n",
    "\n",
    "Referência:\n",
    "Luis M. Candanedo, Veronique Feldheim, Dominique Deramaix, Data driven prediction models of energy use of appliances in a low-energy house, Energy and Buildings, Volume 140, 1 April 2017, Pages 81-97, ISSN 0378-7788, [Web Link]."
   ]
  },
  {
   "cell_type": "markdown",
   "metadata": {},
   "source": [
    "Vamos tentar prever o consumo de energia de uma casa de hora em hora."
   ]
  },
  {
   "cell_type": "markdown",
   "metadata": {},
   "source": [
    "# Entendendo os dados\n",
    "\n",
    "Descrição:\n",
    "- **Tx** é a temperatura no cômodo x (1:cozinha, 2:sala de estar, 3:\"laundry\", 4:escritório, 5:banheiro, 6:lado de fora, 7:\"ironing\", 8:quarto de adolescente, 9:quarto dos pais)\n",
    "- **RH_x** é a humidade no cômodo x.\n",
    "- **To, Pressure, RH_out, Windspeed, Visibility, Tdewpoint** são informações da região medida por um centro meteorológico.\n",
    "- **Appliances** é a energia total gasta em Wh (Watts-hora)\n",
    "- **lights** é a energia gasta pelas lâmpadas em Wh (Watts-hora)\n",
    "- date é o timestamp em \"ano-mês-dia hora:minuto:segundo\"\n",
    "\n",
    "\n",
    "Obs:\n",
    "Essas medidas foram feitas na Bélgica."
   ]
  },
  {
   "cell_type": "markdown",
   "metadata": {},
   "source": [
    "Faça uma exploração dos primeiros pontos disponíveis.\n",
    "\n",
    "- Qual é a frequência das medidas?\n",
    "- Qual valor máximo e mínimo em cada medida?"
   ]
  },
  {
   "cell_type": "code",
   "execution_count": null,
   "metadata": {},
   "outputs": [],
   "source": []
  },
  {
   "cell_type": "markdown",
   "metadata": {},
   "source": [
    "# Preparar os dados\n"
   ]
  },
  {
   "cell_type": "markdown",
   "metadata": {},
   "source": [
    "- Agregue variáveis em uma frequência de tempo escolhida.\n",
    "- Junte os dados como X e y (lembrando que para RNN, cada valor de X vai ser uma sequência)\n",
    "- Separe os dados entre treino, validação e teste "
   ]
  },
  {
   "cell_type": "code",
   "execution_count": null,
   "metadata": {},
   "outputs": [],
   "source": []
  },
  {
   "cell_type": "markdown",
   "metadata": {},
   "source": [
    "# Algoritmo de previsão\n",
    "\n",
    "Vamos usar a LSTM para previsão 1 período de tempo à frente.\n",
    "\n",
    "- Defina o modelo LSTM.\n",
    "- Use otimizador Adam, e perda \"mean_absolute_error\"\n",
    "- Fique a vontade para escolher usar ou não EarlyStopping\n",
    "- Quão bom ficou o modelo?"
   ]
  },
  {
   "cell_type": "code",
   "execution_count": null,
   "metadata": {},
   "outputs": [],
   "source": []
  }
 ],
 "metadata": {
  "kernelspec": {
   "display_name": "Python (DataScience)",
   "language": "python",
   "name": "data_science"
  },
  "language_info": {
   "codemirror_mode": {
    "name": "ipython",
    "version": 3
   },
   "file_extension": ".py",
   "mimetype": "text/x-python",
   "name": "python",
   "nbconvert_exporter": "python",
   "pygments_lexer": "ipython3",
   "version": "3.7.2"
  }
 },
 "nbformat": 4,
 "nbformat_minor": 2
}
