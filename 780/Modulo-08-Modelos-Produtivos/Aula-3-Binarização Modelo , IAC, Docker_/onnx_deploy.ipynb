{
 "cells": [
  {
   "cell_type": "code",
   "execution_count": 1,
   "id": "b65e27c8",
   "metadata": {},
   "outputs": [],
   "source": [
    "from skl2onnx import convert_sklearn\n",
    "from skl2onnx.common.data_types import FloatTensorType\n",
    "\n",
    "from sklearn import datasets, svm\n",
    "import numpy as np\n",
    "\n",
    "from sklearn.model_selection import train_test_split\n",
    "from sklearn.ensemble import RandomForestClassifier"
   ]
  },
  {
   "cell_type": "code",
   "execution_count": 2,
   "id": "00ae8294",
   "metadata": {},
   "outputs": [],
   "source": [
    "iris = datasets.load_iris()\n",
    "X = iris.data\n",
    "y = iris.target"
   ]
  },
  {
   "cell_type": "code",
   "execution_count": 3,
   "id": "24234381",
   "metadata": {},
   "outputs": [
    {
     "data": {
      "text/plain": [
       "RandomForestClassifier()"
      ]
     },
     "execution_count": 3,
     "metadata": {},
     "output_type": "execute_result"
    }
   ],
   "source": [
    "X_train, X_test, y_train, y_test = train_test_split(X, y)\n",
    "clr = RandomForestClassifier()\n",
    "clr.fit(X_train, y_train)"
   ]
  },
  {
   "cell_type": "code",
   "execution_count": 4,
   "id": "de695c58",
   "metadata": {},
   "outputs": [],
   "source": [
    "tensor_entrada = [('float_input', FloatTensorType([None,4]))]"
   ]
  },
  {
   "cell_type": "code",
   "execution_count": 5,
   "id": "3b04a14c",
   "metadata": {},
   "outputs": [],
   "source": [
    "modelo_onnx = convert_sklearn(clr, initial_types=tensor_entrada)\n",
    "with open(\"modeloiris.onnx\", \"wb\") as arquivo:\n",
    "    arquivo.write(modelo_onnx.SerializeToString())"
   ]
  },
  {
   "cell_type": "code",
   "execution_count": 6,
   "id": "46de5ad3",
   "metadata": {},
   "outputs": [
    {
     "name": "stdout",
     "output_type": "stream",
     "text": [
      "output_label\n"
     ]
    }
   ],
   "source": [
    "import onnxruntime as rt\n",
    "sessao = rt.InferenceSession(\"modeloiris.onnx\")\n",
    "input_name = sessao.get_inputs()[0].name\n",
    "label_name = sessao.get_outputs()[0].name\n",
    "print(label_name)"
   ]
  },
  {
   "cell_type": "code",
   "execution_count": 7,
   "id": "be286fc9",
   "metadata": {},
   "outputs": [
    {
     "name": "stdout",
     "output_type": "stream",
     "text": [
      "[2 2 0 0 0 2 2 0 0 2 1 1 1 2 2 0 2 1 0 2 0 2 0 0 2 1 0 0 2 1 1 1 0 2 1 0 0\n",
      " 2]\n"
     ]
    }
   ],
   "source": [
    "predicoes = sessao.run([label_name], {input_name: X_test.astype(np.float32)})[0]\n",
    "print(predicoes)"
   ]
  },
  {
   "cell_type": "code",
   "execution_count": 9,
   "id": "3fde41e9",
   "metadata": {},
   "outputs": [
    {
     "name": "stdout",
     "output_type": "stream",
     "text": [
      "[2]\n"
     ]
    }
   ],
   "source": [
    "test_predicao = np.array([[4.0,4.0,4.0,4.0]], dtype = np.float32)\n",
    "resultado_predicao_test = sessao.run([label_name], {input_name: test_predicao})[0]\n",
    "print(resultado_predicao_test)"
   ]
  },
  {
   "cell_type": "code",
   "execution_count": 10,
   "id": "29ba4353",
   "metadata": {},
   "outputs": [
    {
     "name": "stdout",
     "output_type": "stream",
     "text": [
      "setosa\n"
     ]
    }
   ],
   "source": [
    "if resultado_predicao_test[0]==0:\n",
    "    prediction = \"versicolor\"\n",
    "elif resultado_predicao_test[0]==1:\n",
    "    prediction = \"virginica\"\n",
    "else:\n",
    "    prediction = \"setosa\"\n",
    "    \n",
    "print(prediction)"
   ]
  },
  {
   "cell_type": "code",
   "execution_count": null,
   "id": "c73692f6",
   "metadata": {},
   "outputs": [],
   "source": []
  }
 ],
 "metadata": {
  "kernelspec": {
   "display_name": "Python 3 (ipykernel)",
   "language": "python",
   "name": "python3"
  },
  "language_info": {
   "codemirror_mode": {
    "name": "ipython",
    "version": 3
   },
   "file_extension": ".py",
   "mimetype": "text/x-python",
   "name": "python",
   "nbconvert_exporter": "python",
   "pygments_lexer": "ipython3",
   "version": "3.8.12"
  }
 },
 "nbformat": 4,
 "nbformat_minor": 5
}
