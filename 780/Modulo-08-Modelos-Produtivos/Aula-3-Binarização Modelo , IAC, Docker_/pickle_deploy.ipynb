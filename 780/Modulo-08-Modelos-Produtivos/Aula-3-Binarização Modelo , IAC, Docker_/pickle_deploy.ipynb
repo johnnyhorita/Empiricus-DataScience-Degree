{
 "cells": [
  {
   "cell_type": "code",
   "execution_count": 1,
   "id": "bb1766c7",
   "metadata": {},
   "outputs": [],
   "source": [
    "import pickle\n",
    "from sklearn import datasets, svm\n",
    "import numpy as np\n"
   ]
  },
  {
   "cell_type": "code",
   "execution_count": 3,
   "id": "eb3068c6",
   "metadata": {},
   "outputs": [],
   "source": [
    "iris = datasets.load_iris()\n",
    "X = iris.data\n",
    "y = iris.target"
   ]
  },
  {
   "cell_type": "code",
   "execution_count": 4,
   "id": "1b12f0e6",
   "metadata": {},
   "outputs": [],
   "source": [
    "path = \"\"\n",
    "model = svm.SVC(kernel= \"poly\", degree=3, C=1.0).fit(X,y)"
   ]
  },
  {
   "cell_type": "code",
   "execution_count": 5,
   "id": "8479cf28",
   "metadata": {},
   "outputs": [
    {
     "name": "stdout",
     "output_type": "stream",
     "text": [
      "Modelo salvo com sucesso!\n"
     ]
    }
   ],
   "source": [
    "pickle.dump(model, open(path + \"modeloiris.pkl\", \"wb\"))\n",
    "print(\"Modelo salvo com sucesso!\")"
   ]
  },
  {
   "cell_type": "code",
   "execution_count": 14,
   "id": "d20315a7",
   "metadata": {},
   "outputs": [
    {
     "name": "stdout",
     "output_type": "stream",
     "text": [
      "setosa\n"
     ]
    }
   ],
   "source": [
    "to_predict_list = [3,3,4,3]\n",
    "to_predict_np_array = np.array(to_predict_list).reshape(1,4)\n",
    "loaded_model = pickle.load(open(path + \"modeloiris.pkl\", \"rb\"))\n",
    "\n",
    "result = loaded_model.predict(to_predict_np_array)\n",
    "\n",
    "if result[0]==0:\n",
    "    prediction = \"versicolor\"\n",
    "elif result[0]==1:\n",
    "    prediction = \"virginica\"\n",
    "else:\n",
    "    prediction = \"setosa\"\n",
    "    \n",
    "print(prediction)"
   ]
  },
  {
   "cell_type": "code",
   "execution_count": null,
   "id": "5a7bed6e",
   "metadata": {},
   "outputs": [],
   "source": []
  }
 ],
 "metadata": {
  "kernelspec": {
   "display_name": "Python 3 (ipykernel)",
   "language": "python",
   "name": "python3"
  },
  "language_info": {
   "codemirror_mode": {
    "name": "ipython",
    "version": 3
   },
   "file_extension": ".py",
   "mimetype": "text/x-python",
   "name": "python",
   "nbconvert_exporter": "python",
   "pygments_lexer": "ipython3",
   "version": "3.8.12"
  }
 },
 "nbformat": 4,
 "nbformat_minor": 5
}
