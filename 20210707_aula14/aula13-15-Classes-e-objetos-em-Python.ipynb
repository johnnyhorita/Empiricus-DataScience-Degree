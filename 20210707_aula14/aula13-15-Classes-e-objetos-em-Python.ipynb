{
 "cells": [
  {
   "cell_type": "markdown",
   "id": "8bcdb687",
   "metadata": {},
   "source": [
    "# Aula 13\n",
    "\n",
    "## 15.  Classes e objetos em Python\n"
   ]
  },
  {
   "cell_type": "markdown",
   "id": "ac0ce577",
   "metadata": {},
   "source": [
    "## 1. Classes"
   ]
  },
  {
   "cell_type": "markdown",
   "id": "2b696253",
   "metadata": {},
   "source": [
    "### 1.1. Criando uma classe"
   ]
  },
  {
   "cell_type": "code",
   "execution_count": 6,
   "id": "494e3d60",
   "metadata": {
    "ExecuteTime": {
     "end_time": "2021-07-08T11:44:34.836234Z",
     "start_time": "2021-07-08T11:44:34.829239Z"
    }
   },
   "outputs": [],
   "source": [
    "import random\n",
    "class Jogador:\n",
    "    # criando o método construtor\n",
    "    def __init__(self, nome):\n",
    "        # cria uma variável (atributo) dentro do objeto sendo criado\n",
    "        # esse atributo recebeu o nome passado como parâmetro\n",
    "        self.nome = nome\n",
    "        # cria outro atributo no objeto sendo criado\n",
    "        # esse atributo não veio como parâmetro, ele sempre começará valendo 0\n",
    "        self.pontuacao = 0\n",
    "\n",
    "    def rolaDado(self):\n",
    "        # sorteia um número de 1 a 6:\n",
    "        dado = random.randrange(1, 7) \n",
    "\n",
    "        # atualiza o atributo \"pontuacao\" do objeto que chamou o método:\n",
    "        self.pontuacao = self.pontuacao + dado"
   ]
  },
  {
   "cell_type": "markdown",
   "id": "a0dfb434",
   "metadata": {},
   "source": [
    "## 2. Objetos"
   ]
  },
  {
   "cell_type": "markdown",
   "id": "67c0c12f",
   "metadata": {},
   "source": [
    "### 2.1. Instanciando objetos"
   ]
  },
  {
   "cell_type": "code",
   "execution_count": 7,
   "id": "cdc59cfa",
   "metadata": {
    "ExecuteTime": {
     "end_time": "2021-07-08T11:44:37.232962Z",
     "start_time": "2021-07-08T11:44:37.223981Z"
    }
   },
   "outputs": [
    {
     "name": "stdout",
     "output_type": "stream",
     "text": [
      "<class '__main__.Jogador'>\n"
     ]
    }
   ],
   "source": [
    "player1 = Jogador('Mario')\n",
    "# vejamos o tipo da \"variável\" (objeto) que criamos:\n",
    "print(type(player1)) "
   ]
  },
  {
   "cell_type": "markdown",
   "id": "66b01bad",
   "metadata": {},
   "source": [
    "### 2.2. Acessando atributos"
   ]
  },
  {
   "cell_type": "code",
   "execution_count": 8,
   "id": "19e3963b",
   "metadata": {
    "ExecuteTime": {
     "end_time": "2021-07-08T11:44:38.152597Z",
     "start_time": "2021-07-08T11:44:38.142600Z"
    }
   },
   "outputs": [
    {
     "name": "stdout",
     "output_type": "stream",
     "text": [
      "Mario\n",
      "0\n"
     ]
    }
   ],
   "source": [
    "print(player1.nome)\n",
    "print(player1.pontuacao)"
   ]
  },
  {
   "cell_type": "code",
   "execution_count": 9,
   "id": "df981e9e",
   "metadata": {
    "ExecuteTime": {
     "end_time": "2021-07-08T11:44:38.510045Z",
     "start_time": "2021-07-08T11:44:38.503011Z"
    }
   },
   "outputs": [
    {
     "name": "stdout",
     "output_type": "stream",
     "text": [
      "Luigi\n"
     ]
    }
   ],
   "source": [
    "player1.nome = 'Luigi'\n",
    "print(player1.nome)"
   ]
  },
  {
   "cell_type": "markdown",
   "id": "a102b4e1",
   "metadata": {},
   "source": [
    "### 2.3. Executando métodos"
   ]
  },
  {
   "cell_type": "code",
   "execution_count": 10,
   "id": "0e3c3a10",
   "metadata": {
    "ExecuteTime": {
     "end_time": "2021-07-08T11:44:39.585147Z",
     "start_time": "2021-07-08T11:44:39.577148Z"
    }
   },
   "outputs": [
    {
     "name": "stdout",
     "output_type": "stream",
     "text": [
      "6\n"
     ]
    }
   ],
   "source": [
    "player1.rolaDado()\n",
    "print(player1.pontuacao)"
   ]
  },
  {
   "cell_type": "code",
   "execution_count": null,
   "id": "4a911ab9",
   "metadata": {},
   "outputs": [],
   "source": []
  }
 ],
 "metadata": {
  "kernelspec": {
   "display_name": "Python 3",
   "language": "python",
   "name": "python3"
  },
  "language_info": {
   "codemirror_mode": {
    "name": "ipython",
    "version": 3
   },
   "file_extension": ".py",
   "mimetype": "text/x-python",
   "name": "python",
   "nbconvert_exporter": "python",
   "pygments_lexer": "ipython3",
   "version": "3.8.10"
  }
 },
 "nbformat": 4,
 "nbformat_minor": 5
}
