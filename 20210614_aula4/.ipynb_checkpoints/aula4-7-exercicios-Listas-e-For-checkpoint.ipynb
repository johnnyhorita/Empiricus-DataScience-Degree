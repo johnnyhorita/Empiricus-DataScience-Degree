{
 "cells": [
  {
   "cell_type": "markdown",
   "id": "5bd880f4",
   "metadata": {},
   "source": [
    "# Lógica da Programação\n",
    "\n",
    "## 7 - LC | Listas e For"
   ]
  },
  {
   "cell_type": "code",
   "execution_count": 6,
   "id": "d4cffbbf",
   "metadata": {},
   "outputs": [
    {
     "name": "stdout",
     "output_type": "stream",
     "text": [
      "Item 1 : Covid-19\n",
      "Item 2 : Dengue\n",
      "Item 3 : Gripe\n"
     ]
    }
   ],
   "source": [
    "# Questão 1\n",
    "# Crie uma lista qualquer e faça um programa que imprima cada elemento da lista usando o for.\n",
    "\n",
    "doencas =['Covid-19','Dengue','Gripe']\n",
    "for i in range(len(doencas)) :\n",
    "    print ('Item', i+1,':', doencas[i])\n",
    "    i+=1\n"
   ]
  },
  {
   "cell_type": "code",
   "execution_count": null,
   "id": "89bfe4a5",
   "metadata": {},
   "outputs": [],
   "source": [
    "# Resposta sugerida\n",
    "\n",
    "lista = [1,2,3,4]\n",
    "for elemento in lista:\n",
    "    print(elemento)"
   ]
  },
  {
   "cell_type": "code",
   "execution_count": 10,
   "id": "2823629c",
   "metadata": {},
   "outputs": [
    {
     "name": "stdout",
     "output_type": "stream",
     "text": [
      "Item 1 : Covid-19\n",
      "Item 2 : Dengue\n",
      "Item 3 : Gripe\n"
     ]
    }
   ],
   "source": [
    "# Questão 2\n",
    "# Faça um programa que imprima todos os itens de uma lista usando while e compare com o exercício 1.\n",
    "\n",
    "doencas =['Covid-19','Dengue','Gripe']\n",
    "i=0\n",
    "while (i < len(doencas)) :\n",
    "    print ('Item', i+1,':', doencas[i])\n",
    "    i+=1"
   ]
  },
  {
   "cell_type": "code",
   "execution_count": null,
   "id": "7aa287ce",
   "metadata": {},
   "outputs": [],
   "source": [
    "# Resposta sugerida\n",
    "\n",
    "lista = [1,2,3,4]\n",
    "i = 0\n",
    "while i < len(lista):\n",
    "    print(lista[i])\n",
    "    i += 1"
   ]
  },
  {
   "cell_type": "code",
   "execution_count": 14,
   "id": "d19261be",
   "metadata": {},
   "outputs": [
    {
     "name": "stdout",
     "output_type": "stream",
     "text": [
      "Digite um número...: 5\n",
      "[0, 1, 2, 3, 4]\n"
     ]
    }
   ],
   "source": [
    "# Questão 3\n",
    "# Faça um programa que peça para o usuário digitar um número n e imprima uma lista com todos os números de 0 a n-1.\n",
    "# Exemplo: se o usuário digitar 5, o programa deve imprimir [0, 1, 2, 3, 4]\n",
    "\n",
    "lista =[]\n",
    "number = int(input('Digite um número...: '))\n",
    "i=0\n",
    "while i < number :\n",
    "    lista.append(i)\n",
    "    i+=1\n",
    "print(lista)\n"
   ]
  },
  {
   "cell_type": "code",
   "execution_count": null,
   "id": "b46008f3",
   "metadata": {},
   "outputs": [],
   "source": [
    "# Resposta sugerida\n",
    "\n",
    "n = int(input(\"Digite um número: \"))\n",
    "lista = []\n",
    "for i in range(n):\n",
    "    lista.append(i)\n",
    "print(lista)"
   ]
  },
  {
   "cell_type": "code",
   "execution_count": 1,
   "id": "2dd0f67d",
   "metadata": {},
   "outputs": [
    {
     "name": "stdout",
     "output_type": "stream",
     "text": [
      "Digite um número...: 20\n",
      "Números pares 10 : [2, 4, 6, 8, 10, 12, 14, 16, 18, 20]\n"
     ]
    }
   ],
   "source": [
    "# Questão 4\n",
    "# Faça um programa que olhe todos os itens de uma lista e diga quantos deles são pares.\n",
    "\n",
    "lista =[]\n",
    "number = int(input('Digite um número...: '))\n",
    "i=1\n",
    "while i <= number :\n",
    "    lista.append(i)\n",
    "    i+=1\n",
    "listapares = [num for num in lista if num % 2 == 0]\n",
    "print(\"Números pares\", len(listapares),\":\", listapares)\n"
   ]
  },
  {
   "cell_type": "code",
   "execution_count": null,
   "id": "434c4f88",
   "metadata": {},
   "outputs": [],
   "source": [
    "# Resposta sugerida\n",
    "\n",
    "lista = [1, 4, -8, 12, 3, -5, 2, -14, 6]\n",
    "pares = 0\n",
    "for elemento in lista:\n",
    "    if elemento % 2 == 0:\n",
    "        pares += 1\n",
    "print(\"Na lista existem\", pares, \"números pares.\")"
   ]
  },
  {
   "cell_type": "code",
   "execution_count": 23,
   "id": "28007a32",
   "metadata": {},
   "outputs": [
    {
     "name": "stdout",
     "output_type": "stream",
     "text": [
      "Lista: [5685, 5613, 5468, 4661, 2568, 1328, 128, 102, 5, 0]\n",
      "Maior número: 5685\n"
     ]
    }
   ],
   "source": [
    "# Questão 5\n",
    "# Faça um programa que imprima o maior número de uma lista, sem usar a função max().\n",
    "lista = [102, 5468, 128, 5, 1328, 5613, 5685, 4661, 0, 2568]\n",
    "lista.sort(reverse=True) # Ordenando a lista pelo maior elemento\n",
    "print('Lista:', lista)\n",
    "print('Maior número:', lista[0])\n"
   ]
  },
  {
   "cell_type": "code",
   "execution_count": null,
   "id": "f9f5a64f",
   "metadata": {},
   "outputs": [],
   "source": [
    "# Resposta sugerida\n",
    "\n",
    "lista = [1, 4, -8, 12, 3, -5, 2, -14, 6]\n",
    "maior = lista[0]\n",
    "for elemento in lista:\n",
    "    if elemento > maior:\n",
    "        maior = elemento\n",
    "print(\"O maior elemento da lista é\", maior)"
   ]
  },
  {
   "cell_type": "code",
   "execution_count": 4,
   "id": "104154bd",
   "metadata": {},
   "outputs": [
    {
     "name": "stdout",
     "output_type": "stream",
     "text": [
      "[12, 6, 4]\n"
     ]
    }
   ],
   "source": [
    "# Questão 6\n",
    "# Agora usando a função max() faça um programa que imprima os três maiores números de uma lista.\n",
    "# Dica: Use o método próprio de listas .remove().\n",
    "\n",
    "#lista = [102, 5468, 128, 5, 1328, 5613, 5685, 4661, 0, 2568]\n",
    "lista = [1, 4, -8, 12, 3, -5, 2, -14, 6]\n",
    "maiores = []\n",
    "i=1\n",
    "while (i <= 3) :\n",
    "    maiores.append(max(lista))\n",
    "    lista.remove(max(lista))\n",
    "    i+=1\n",
    "print(maiores)\n"
   ]
  },
  {
   "cell_type": "code",
   "execution_count": 2,
   "id": "6024af1f",
   "metadata": {},
   "outputs": [
    {
     "name": "stdout",
     "output_type": "stream",
     "text": [
      "12\n",
      "6\n",
      "4\n"
     ]
    }
   ],
   "source": [
    "# Resposta sugerida\n",
    "\n",
    "lista = [1, 4, -8, 12, 3, -5, 2, -14, 6]\n",
    "for i in range(3):\n",
    "    maior_numero = max(lista)\n",
    "    print(maior_numero)\n",
    "    lista.remove(maior_numero)"
   ]
  },
  {
   "cell_type": "code",
   "execution_count": 6,
   "id": "cdd8178b",
   "metadata": {},
   "outputs": [
    {
     "name": "stdout",
     "output_type": "stream",
     "text": [
      "[3, 6, 8]\n"
     ]
    }
   ],
   "source": [
    "# Questão 7\n",
    "\n",
    "# Faça um programa que, dadas duas listas de mesmo tamanho, \n",
    "# crie uma nova lista com cada elemento igual a soma dos elementos da lista 1 com os da lista 2, \n",
    "# na mesma posição.\n",
    "\n",
    "# Exemplo:\n",
    "# Dadas lista1 = [1, 4, 5] e lista2 = [2, 2, 3], então lista3 = [1+2, 4+2, 5+3] = [3, 6, 8]\n",
    "\n",
    "lista1 = [1, 4, 5]\n",
    "lista2 = [2, 2, 3]\n",
    "lista3 = []\n",
    "\n",
    "i=0\n",
    "if (len(lista1) == len(lista2)) :\n",
    "    while i < len(lista1) :\n",
    "        somaitem = lista1[i] + lista2[i]\n",
    "        lista3.append(somaitem)\n",
    "        i+=1\n",
    "    print(lista3)\n",
    "else :\n",
    "    print('Listas incompatíveis!')"
   ]
  },
  {
   "cell_type": "code",
   "execution_count": 7,
   "id": "f858d00e",
   "metadata": {},
   "outputs": [
    {
     "name": "stdout",
     "output_type": "stream",
     "text": [
      "[3, 6, 8]\n"
     ]
    }
   ],
   "source": [
    "# Resposta sugerida\n",
    "\n",
    "lista1 = [1,4,5]\n",
    "lista2 = [2,2,3]\n",
    "lista3 = []\n",
    "if len(lista1) != len(lista2):\n",
    "    print(\"As listas tem tamanhos diferentes!\")\n",
    "else:\n",
    "    for i in range(len(lista1)):\n",
    "        valor = lista1[i] + lista2[i]\n",
    "        lista3.append(valor)\n",
    "    print(lista3)"
   ]
  },
  {
   "cell_type": "code",
   "execution_count": 11,
   "id": "8a0b481c",
   "metadata": {},
   "outputs": [
    {
     "name": "stdout",
     "output_type": "stream",
     "text": [
      "25\n"
     ]
    }
   ],
   "source": [
    "# Questão 8\n",
    "\n",
    "# Faça um programa que dadas duas listas de mesmo tamanho, imprima o produto escalar entre elas.\n",
    "# OBS: produto escalar é a soma do resultado da multiplicação entre o número na posição i da lista1 \n",
    "# pelo número na posição i da lista2, com i variando de 0 ao tamanho da lista.\n",
    "\n",
    "lista1 = [1, 4, 5]\n",
    "lista2 = [2, 2, 3]\n",
    "lista3 = []\n",
    "\n",
    "i=0\n",
    "if (len(lista1) == len(lista2)) :\n",
    "    while i < len(lista1) :\n",
    "        somaitem = lista1[i] * lista2[i]\n",
    "        lista3.append(somaitem)\n",
    "        i+=1\n",
    "    print(sum(lista3))\n",
    "else :\n",
    "    print('Listas incompatíveis!')"
   ]
  },
  {
   "cell_type": "code",
   "execution_count": 8,
   "id": "d7df7244",
   "metadata": {},
   "outputs": [
    {
     "name": "stdout",
     "output_type": "stream",
     "text": [
      "25\n"
     ]
    }
   ],
   "source": [
    "# Resposta sugerida\n",
    "\n",
    "lista1 = [1,4,5]\n",
    "lista2 = [2,2,3]\n",
    "soma = 0\n",
    "for i in range(len(lista1)):\n",
    "    soma = soma + lista1[i]*lista2[i]\n",
    "print(soma)"
   ]
  },
  {
   "cell_type": "code",
   "execution_count": 170,
   "id": "91f14894",
   "metadata": {},
   "outputs": [
    {
     "name": "stdout",
     "output_type": "stream",
     "text": [
      "Digite um número: 1\n",
      "Digite um número: 5\n",
      "Digite um número: 2\n",
      "Digite um número: 3\n",
      "Digite um número: 6\n",
      "Lista dos números: ['1', '5', '2', '3', '6']\n"
     ]
    }
   ],
   "source": [
    "# Questão 9\n",
    "# Faça um programa que pede para o usuário digitar 5 números e, ao final, \n",
    "# imprime uma lista com os 5 números digitados pelo usuário (sem converter os números para int ou float).\n",
    "# Exemplo: Se o usuário digitar 1, 5, 2, 3, 6, o programa deve imprimir a lista ['1','5','2','3','6']\n",
    "\n",
    "numbers=[]\n",
    "def inputnumber():\n",
    "    number = (input('Digite um número: '))\n",
    "    return number\n",
    "\n",
    "i=1\n",
    "while i <= 5 :\n",
    "    numbers.append(inputnumber())\n",
    "    i+=1\n",
    "\n",
    "print('Lista dos números:', numbers)"
   ]
  },
  {
   "cell_type": "code",
   "execution_count": 12,
   "id": "c09e21e8",
   "metadata": {},
   "outputs": [
    {
     "name": "stdout",
     "output_type": "stream",
     "text": [
      "Digite um número: 1\n",
      "Digite um número: 5\n",
      "Digite um número: 2\n",
      "Digite um número: 3\n",
      "Digite um número: 6\n",
      "['1', '5', '2', '3', '6']\n"
     ]
    }
   ],
   "source": [
    "# Resposta sugerida\n",
    "\n",
    "lista = []\n",
    "for i in range(5):\n",
    "    num = input(\"Digite um número: \")\n",
    "    lista.append(num)\n",
    "print(lista)"
   ]
  },
  {
   "cell_type": "code",
   "execution_count": 45,
   "id": "057b198d",
   "metadata": {},
   "outputs": [
    {
     "name": "stdout",
     "output_type": "stream",
     "text": [
      "Digite um número: 565\n",
      "Digite um número: 9\n",
      "Digite um número: 7\n",
      "Digite um número: 7\n",
      "Digite um número: 2\n",
      "\n",
      "Utilizando for\n",
      "Lista dos números: [565.0, 9.0, 7.0, 7.0, 2.0]\n",
      "\n",
      "Utilizando biblioteca numpy\n",
      "Lista dos números: [565.0, 9.0, 7.0, 7.0, 2.0]\n"
     ]
    }
   ],
   "source": [
    "# Questão 10\n",
    "# Pegue a lista gerada no exercício anterior e transforme cada um dos itens dessa lista em um float.\n",
    "# OBS: Não é para alterar o programa anterior, mas sim a lista gerada por ele\n",
    "\n",
    "numbers=[]\n",
    "def inputnumber():\n",
    "    number = (input('Digite um número: '))\n",
    "    return number\n",
    "\n",
    "i=1\n",
    "while i <= 5 :\n",
    "    numbers.append(inputnumber())\n",
    "    i+=1\n",
    "\n",
    "floatnumbers = [float(i) for i in numbers]\n",
    "print('\\nUtilizando for')\n",
    "print('Lista dos números:', floatnumbers)\n",
    "\n",
    "import numpy as np\n",
    "print('\\nUtilizando biblioteca numpy')\n",
    "print('Lista dos números:', list(np.float_(numbers)))\n"
   ]
  },
  {
   "cell_type": "code",
   "execution_count": 13,
   "id": "c0878086",
   "metadata": {},
   "outputs": [
    {
     "name": "stdout",
     "output_type": "stream",
     "text": [
      "Digite um número: 565\n",
      "Digite um número: 9\n",
      "Digite um número: 7\n",
      "Digite um número: 7\n",
      "Digite um número: 2\n",
      "['565', '9', '7', '7', '2']\n"
     ]
    }
   ],
   "source": [
    "# Resposta sugerida\n",
    "\n",
    "lista = []\n",
    "for i in range(5):\n",
    "    num = input(\"Digite um número: \")\n",
    "    lista.append(num)\n",
    "print(lista)\n",
    "\n",
    "for i in range(len(lista)):\n",
    "    lista[i] = float(lista[i])"
   ]
  },
  {
   "cell_type": "code",
   "execution_count": 58,
   "id": "d38ffce4",
   "metadata": {},
   "outputs": [
    {
     "name": "stdout",
     "output_type": "stream",
     "text": [
      "Digite a nota do 1 bimestre [0 ~ 10]:5\n",
      "Digite a nota do 2 bimestre [0 ~ 10]:9\n",
      "Digite a nota do 3 bimestre [0 ~ 10]:7.6\n",
      "Digite a nota do 4 bimestre [0 ~ 10]:3.5\n",
      "\n",
      "Média: 6.275\n"
     ]
    }
   ],
   "source": [
    "# Questão 11\n",
    "# Faça um programa que peça as 4 notas bimestrais e mostre a média aritmética delas, usando listas.\n",
    "\n",
    "notas=[]\n",
    "def inputnota(i):\n",
    "    nota = -1\n",
    "    while (nota < 0 or nota > 10) :\n",
    "        nota = float(input('Digite a nota do ' + str(i) + ' bimestre [0 ~ 10]: '))\n",
    "    return nota\n",
    "\n",
    "i=1\n",
    "while i <= 4 :\n",
    "    notas.append(inputnota(i))\n",
    "    i+=1\n",
    "\n",
    "print('\\nMédia:', sum(notas)/len(notas))\n"
   ]
  },
  {
   "cell_type": "code",
   "execution_count": null,
   "id": "0ca0a855",
   "metadata": {},
   "outputs": [],
   "source": [
    "# Reposta sugerida\n",
    "\n",
    "lista = []\n",
    "for i in range(4):\n",
    "    nota = float(input(\"Digite a nota: \"))\n",
    "    lista.append(nota)\n",
    "print(sum(lista)/len(lista))"
   ]
  },
  {
   "cell_type": "code",
   "execution_count": 169,
   "id": "4f10296a",
   "metadata": {},
   "outputs": [
    {
     "name": "stdout",
     "output_type": "stream",
     "text": [
      "Lista: [1131, 2013, 1594, 1219, 2206, 625, 1907, 1175, 24, 2395]\n",
      "\n",
      "a. uma lista com os 4 primeiros números:  [1131, 2013, 1594, 1219]\n",
      "b. uma lista com os 5 últimos números..:  [625, 1907, 1175, 24, 2395]\n",
      "c. uma lista contendo apenas os elementos das posições pares..: [1131, 1594, 2206, 1907, 24]\n",
      "d. uma lista contendo apenas os elementos das posições ímpares: [2013, 1219, 625, 1175, 2395]\n",
      "e. uma lista inversa da lista sorteada: [2395, 24, 1175, 1907, 625, 2206, 1219, 1594, 2013, 1131]\n",
      "f. uma lista inversa dos 5 primeiros números: [2395, 24, 1175, 1907, 625]\n",
      "g. uma lista inversa dos 5 últimos números: [2206, 1219, 1594, 2013, 1131]\n"
     ]
    }
   ],
   "source": [
    "# Questão 12\n",
    "\n",
    "# Sorteie uma lista de 10 números e imprima:\n",
    "# a. uma lista com os 4 primeiros números;\n",
    "# b. uma lista com os 5 últimos números;\n",
    "# c. uma lista contendo apenas os elementos das posições pares;\n",
    "# d. uma lista contendo apenas os elementos das posições ímpares;\n",
    "# e. a lista inversa da lista sorteada (isto é, uma lista que começa com o último elemento da lista sorteada \n",
    "#    e termina com o primeiro);\n",
    "# f. uma lista inversa dos 5 primeiros números;\n",
    "# g. uma lista inversa dos 5 últimos números.\n",
    "\n",
    "import random\n",
    "numbers=[]\n",
    "numrandom = random.randint(0, 3000)\n",
    "\n",
    "i=1\n",
    "while (i <= 10):\n",
    "    numrandom = random.randint(0, 3000)\n",
    "    if (numrandom not in numbers) :\n",
    "        numbers.append(numrandom)\n",
    "        i+=1\n",
    "\n",
    "print('Lista:',numbers)\n",
    "print('\\na. uma lista com os 4 primeiros números: ',numbers[:4])\n",
    "print('b. uma lista com os 5 últimos números..: ', numbers[5:])\n",
    "print('c. uma lista contendo apenas os elementos das posições pares..:', numbers[0::2])\n",
    "print('d. uma lista contendo apenas os elementos das posições ímpares:', numbers[1::2])\n",
    "print('e. uma lista inversa da lista sorteada:', numbers[::-1])\n",
    "numbers.reverse()\n",
    "print('f. uma lista inversa dos 5 primeiros números:', numbers[:5])\n",
    "print('g. uma lista inversa dos 5 últimos números:', numbers[5:])\n"
   ]
  },
  {
   "cell_type": "code",
   "execution_count": null,
   "id": "d07ac14b",
   "metadata": {},
   "outputs": [],
   "source": [
    "# Resposta sugerida\n",
    "\n",
    "import random\n",
    "numeros = random.sample(range(100), 10) # retorna uma lista de 10 elementos escolhidos aleatoriamente entre 0 e 99.\n",
    "print(\"Lista completa:\", numeros)\n",
    "# a.  uma lista com os 4 primeiros números;\n",
    "print(\"4 primeiros números:\", numeros[:4])\n",
    "# b.  uma lista com os 5 últimos números;\n",
    "print(\"5 últimos números:\", numeros[-5:])\n",
    "# c.  uma lista contendo apenas os elementos das posições pares;\n",
    "print(\"Posições pares:\", numeros[::2])\n",
    "# d.  uma lista contendo apenas os elementos das posições ímpares;\n",
    "print(\"Posições ímpares:\", numeros[1::2])\n",
    "# e.  a lista inversa da lista sorteada (isto é, uma lista que começa com o último elemento da lista sorteada e termina com o primeiro);\n",
    "print(\"Lista invertida:\", numeros[::-1])\n",
    "# f.  uma lista inversa dos 5 primeiros números;\n",
    "print(\"Lista invertida dos 5 primeiros:\", numeros[4::-1])\n",
    "# g.  uma lista inversa dos 5 últimos números.\n",
    "print(\"Lista invertida dos 5 ultimos:\", numeros[:-6:-1])"
   ]
  },
  {
   "cell_type": "code",
   "execution_count": 109,
   "id": "0a202b23",
   "metadata": {},
   "outputs": [
    {
     "name": "stdout",
     "output_type": "stream",
     "text": [
      "Lista:  [61, 70, 95, 35, 1, 30, 73, 11, 74, 6]\n",
      "Quantidade de números > 50: 6\n"
     ]
    }
   ],
   "source": [
    "# Questão 13\n",
    "\n",
    "# Faça um programa que sorteia 10 números entre 0 e 100 e conte quantos números sorteados são maiores que 50.\n",
    "\n",
    "import random\n",
    "numbers = []\n",
    "i=1\n",
    "qtd=1\n",
    "while (i <= 10) :\n",
    "    numrandom = random.randint(0, 100)\n",
    "    if (numrandom not in numbers) :\n",
    "        numbers.append(numrandom)\n",
    "        i+=1\n",
    "\n",
    "for number in numbers :\n",
    "    if (number > 50) :\n",
    "        qtd +=1\n",
    "print('Lista: ', numbers)\n",
    "print('Quantidade de números > 50:', qtd)\n"
   ]
  },
  {
   "cell_type": "code",
   "execution_count": null,
   "id": "2c247195",
   "metadata": {},
   "outputs": [],
   "source": [
    "# Resposta sugerida\n",
    "\n",
    "numeros = random.sample(range(101), 10)\n",
    "maior_que_50 = 0\n",
    "for n in numeros:\n",
    "    if n > 50:\n",
    "        maior_que_50 += 1\n",
    "print(\"números > 50 =\", maior_que_50)"
   ]
  },
  {
   "cell_type": "code",
   "execution_count": 14,
   "id": "20eb392b",
   "metadata": {},
   "outputs": [
    {
     "name": "stdout",
     "output_type": "stream",
     "text": [
      "Lista: [88, 92, 22, 9, 12, 51, 10, 58, 46, 1]\n",
      "a. o maior número sorteado: 92\n",
      "b. o menor número sorteado: 1\n",
      "c. a média dos números sorteados: 38.9\n",
      "d. a soma dos números sorteados: 389\n"
     ]
    }
   ],
   "source": [
    "# Questão 14\n",
    "\n",
    "# Faça um programa que sorteie 10 números entre 0 e 100 e imprima:\n",
    "# a. o maior número sorteado;\n",
    "# b. o menor número sorteado;\n",
    "# c. a média dos números sorteados;\n",
    "# d. a soma dos números sorteados\n",
    "\n",
    "import random\n",
    "numbers = []\n",
    "i=1\n",
    "qtd=1\n",
    "while (i <= 10) :\n",
    "    numrandom = random.randint(0, 100)\n",
    "    if (numrandom not in numbers) :\n",
    "        numbers.append(numrandom)\n",
    "        i+=1\n",
    "print('Lista:', numbers)\n",
    "print('a. o maior número sorteado:', max(numbers))\n",
    "print('b. o menor número sorteado:', min(numbers))\n",
    "print('c. a média dos números sorteados:', sum(numbers)/len(numbers))\n",
    "print('d. a soma dos números sorteados:', sum(numbers))\n"
   ]
  },
  {
   "cell_type": "code",
   "execution_count": 15,
   "id": "e5780dbf",
   "metadata": {},
   "outputs": [
    {
     "name": "stdout",
     "output_type": "stream",
     "text": [
      "98\n",
      "13\n",
      "71.9\n",
      "719\n"
     ]
    }
   ],
   "source": [
    "# Resposta sugerida\n",
    "\n",
    "numeros = random.sample(range(101), 10)\n",
    "\n",
    "# a.  o maior número sorteado;\n",
    "print(max(numeros))\n",
    "# b.  o menor número sorteado;\n",
    "print(min(numeros))\n",
    "# c.  a média dos números sorteados;\n",
    "print(sum(numeros)/len(numeros))\n",
    "# d.  a soma dos números sorteados.\n",
    "print(sum(numeros))"
   ]
  },
  {
   "cell_type": "code",
   "execution_count": 126,
   "id": "6e5addff",
   "metadata": {},
   "outputs": [
    {
     "name": "stdout",
     "output_type": "stream",
     "text": [
      "Digite o nome ...............: johnny horita\n",
      "Digite a idade ..............: 45\n",
      "Digite a quantidade de provas: 5\n",
      "Digite a nota 1: 10\n",
      "Digite a nota 2: 6\n",
      "Digite a nota 3: 5\n",
      "Digite a nota 4: 6\n",
      "Digite a nota 5: 4\n",
      "\n",
      "Boletim:  ['johnny horita', 45, [10, 6, 5, 6, 4], 6.2, True]\n"
     ]
    }
   ],
   "source": [
    "# Questão 15\n",
    "\n",
    "# Desafio 1 - Faça um programa que peça para o usuário digitar o nome e a idade de um aluno e \n",
    "# o número de provas que esse aluno fez. \n",
    "# Depois, o programa deve pedir para o usuário digitar as notas de cada prova do aluno. \n",
    "# Ao final o programa deve imprimir uma lista contendo:\n",
    "# a. Nome do aluno na posição 0;\n",
    "# b. Idade do aluno na posição 1;\n",
    "# c. Uma lista com todas as notas na posição 2;\n",
    "# d. A média do aluno na posição 3;\n",
    "# e. True ou False, caso a média seja maior que 5 ou não, na posição 4.\n",
    "# Dica: Use o que você fez nos exercícios anteriores para criar esse programa.\n",
    "\n",
    "boletim = []\n",
    "nomebool = True\n",
    "while nomebool:\n",
    "    name = input('Digite o nome ...............: ')\n",
    "    if (name == ''):\n",
    "        print('Nome inválido!')\n",
    "    else :\n",
    "        nomebool = False\n",
    "        boletim.append(name)\n",
    "\n",
    "agebool = True\n",
    "while agebool:\n",
    "    age = int(input('Digite a idade ..............: '))\n",
    "    if (age <= 0 or age > 150) :\n",
    "        print('Idade inválida! Menor ou igual 0 ou maior que 150!')\n",
    "    else: \n",
    "        agebool = False\n",
    "        boletim.append(age)\n",
    "\n",
    "testbool = True\n",
    "while testbool:\n",
    "    numtest = int(input('Digite a quantidade de provas: '))\n",
    "    if (numtest < 0 and numtest > 20) :\n",
    "        print('Quantidade inválida! [0 ~ 20]')\n",
    "    else:\n",
    "        testbool = False\n",
    "\n",
    "i = 1\n",
    "notas = []\n",
    "while (i <= numtest):\n",
    "    notabool = True\n",
    "    while notabool:\n",
    "        nota = float(input('Digite a nota ' + str(i) +': '))\n",
    "        if (nota < 0 or nota > 10):\n",
    "            print('Nota inválida!')\n",
    "        else:\n",
    "            notas.append(nota)\n",
    "            notabool = False\n",
    "    i += 1\n",
    "\n",
    "media = sum(notas)/len(notas)\n",
    "boletim.append(notas)\n",
    "boletim.append(media)\n",
    "if (media > 5):\n",
    "    boletim.append(True)\n",
    "else:\n",
    "    boletim.append(False)\n",
    "\n",
    "print('\\nBoletim: ', boletim)  \n"
   ]
  },
  {
   "cell_type": "code",
   "execution_count": 16,
   "id": "564a9e7c",
   "metadata": {},
   "outputs": [
    {
     "name": "stdout",
     "output_type": "stream",
     "text": [
      "Qual o nome do aluno? johnny horita\n",
      "Qual a idade do aluno? 45\n",
      "Quantas provas o aluno fez? 5\n",
      "Digite uma nota de prova: 10\n",
      "Digite uma nota de prova: 6\n",
      "Digite uma nota de prova: 5\n",
      "Digite uma nota de prova: 6\n",
      "Digite uma nota de prova: 4\n",
      "['johnny horita', 45, [10.0, 6.0, 5.0, 6.0, 4.0], 6.2, True]\n"
     ]
    }
   ],
   "source": [
    "nome = input(\"Qual o nome do aluno? \")\n",
    "idade = int(input(\"Qual a idade do aluno? \"))\n",
    "no_provas = int(input(\"Quantas provas o aluno fez? \"))\n",
    "notas = []\n",
    "for i in range(no_provas):\n",
    "    nota = float(input(\"Digite uma nota de prova: \"))\n",
    "    notas.append(nota)\n",
    "media = sum(notas)/len(notas)\n",
    "aprovado = (media >= 5)\n",
    "lista = [nome, idade, notas, media, aprovado]\n",
    "print(lista)"
   ]
  },
  {
   "cell_type": "code",
   "execution_count": 127,
   "id": "2a5633a5",
   "metadata": {},
   "outputs": [
    {
     "name": "stdout",
     "output_type": "stream",
     "text": [
      "Digite o nome ...............: johnny\n",
      "Digite a idade ..............: 45\n",
      "Digite a quantidade de provas: 3\n",
      "Digite a nota 1: 5\n",
      "Digite a nota 2: 1\n",
      "Digite a nota 3: 10\n",
      "\n",
      "Boletim:  ['johnny', 45, [5], 5.0, False]\n"
     ]
    }
   ],
   "source": [
    "# Questão 16\n",
    "\n",
    "# Desafio 2 - Faça um programa como o do item anterior, \n",
    "# porém que imprima a média sem considerar a maior e menor nota do aluno \n",
    "# (nesse caso o número de provas precisa ser obrigatoriamente maior que dois).\n",
    "# Dica: crie uma cópia com a lista de todas as notas antes de fazer a média.\n",
    "    \n",
    "boletim = []\n",
    "nomebool = True\n",
    "while nomebool:\n",
    "    name = input('Digite o nome ...............: ')\n",
    "    if (name == ''):\n",
    "        print('Nome inválido!')\n",
    "    else :\n",
    "        nomebool = False\n",
    "        boletim.append(name)\n",
    "\n",
    "agebool = True\n",
    "while agebool:\n",
    "    age = int(input('Digite a idade ..............: '))\n",
    "    if (age <= 0 or age > 150) :\n",
    "        print('Idade inválida! Menor ou igual 0 ou maior que 150!')\n",
    "    else: \n",
    "        agebool = False\n",
    "        boletim.append(age)\n",
    "\n",
    "testbool = True\n",
    "while testbool:\n",
    "    numtest = int(input('Digite a quantidade de provas: '))\n",
    "    if (numtest < 3 and numtest > 20) :\n",
    "        print('Quantidade inválida! [0 ~ 20]')\n",
    "    else:\n",
    "        testbool = False\n",
    "\n",
    "i = 1\n",
    "notas = []\n",
    "while (i <= numtest):\n",
    "    notabool = True\n",
    "    while notabool:\n",
    "        nota = int(input('Digite a nota ' + str(i) +': '))\n",
    "        if (nota < 0 or nota > 10):\n",
    "            print('Nota inválida!')\n",
    "        else:\n",
    "            notas.append(nota)\n",
    "            notabool = False\n",
    "    i += 1\n",
    "\n",
    "notas.remove(max(notas))\n",
    "notas.remove(min(notas))\n",
    "media = sum(notas)/len(notas)\n",
    "boletim.append(notas)\n",
    "boletim.append(media)\n",
    "if (media > 5):\n",
    "    boletim.append(True)\n",
    "else:\n",
    "    boletim.append(False)\n",
    "\n",
    "print('\\nBoletim: ', boletim) "
   ]
  },
  {
   "cell_type": "code",
   "execution_count": null,
   "id": "79637676",
   "metadata": {},
   "outputs": [],
   "source": [
    "# Resposta sugerida\n",
    "\n",
    "nome = input(\"Qual o nome do aluno? \")\n",
    "idade = int(input(\"Qual a idade do aluno? \"))\n",
    "no_provas = int(input(\"Quantas provas o aluno fez? \"))\n",
    "notas = []\n",
    "for i in range(no_provas):\n",
    "    nota = float(input(\"Digite uma nota de prova: \"))\n",
    "    notas.append(nota)\n",
    "notas2 = notas[:]  # Cópia da lista original para ser destruída\n",
    "notas2.remove(max(notas2))\n",
    "notas2.remove(min(notas2))\n",
    "media = sum(notas2)/len(notas2)\n",
    "aprovado = (media >= 5)\n",
    "lista = [nome, idade, notas, media, aprovado]\n",
    "print(lista)"
   ]
  },
  {
   "cell_type": "code",
   "execution_count": 168,
   "id": "5e3acb12",
   "metadata": {},
   "outputs": [
    {
     "name": "stdout",
     "output_type": "stream",
     "text": [
      "Digite o CPF: 24804447810\n",
      "\n",
      "O CPF: 248.044.478-10 é inválido!\n"
     ]
    }
   ],
   "source": [
    "# Questão 17\n",
    "\n",
    "# Desafio 3 - Faça um programa que pede para o usuário digitar o CPF e verifica se ele é válido. \n",
    "# Para isso, primeiramente o programa deve multiplicar cada um dos 9 primeiros dígitos do CPF \n",
    "# pelos números de 10 a 2 e somar todas as respostas. \n",
    "# O resultado deve ser multiplicado por 10 e dividido por 11. \n",
    "# O resto dessa divisão deve ser igual ao primeiro dígito verificador (10º dígito). \n",
    "# Em seguida, o programa deve multiplicar cada um dos 10 primeiros dígitos do CPF pelos números de 11 a 2 \n",
    "# e repetir o procedimento anterior para verificar o segundo dígito verificador.\n",
    "\n",
    "\n",
    "#Exemplo:\n",
    "# Se o CPF for 286.255.878-87 o programa deve fazer primeiro:\n",
    "# x = (2*10 + 8*9 + 6*8 + 2*7 + 5*6 + 5*5 + 8*4 + 7*3 + 8*2)\n",
    "\n",
    "# Em seguida, o programa deve testar se x*10%11 == 8 (o décimo número do CPF). Se sim, o programa deve calcular:\n",
    "# x = (2*11 + 8*10 + 6*9 + 2*8 + 5*7 + 5*6 + 8*5 + 7*4 + 8*3 + 8*2)\n",
    "# e verificar se x*10%11 == 7 (o décimo primeiro número do CPF).\n",
    "# 39874306807\n",
    "\n",
    "def calculadigito(strcpf, fatores):\n",
    "    calcdig = 0\n",
    "    i = 0\n",
    "    while (i < len(fatores)):\n",
    "        produto = int(strcpf[i]) * fatores[i]\n",
    "        calcdig = calcdig + produto\n",
    "        i += 1\n",
    "    calcdig = (calcdig*10)%11\n",
    "    return calcdig\n",
    "\n",
    "fatores1 = [10,9,8,7,6,5,4,3,2]\n",
    "fatores2 = [11,10,9,8,7,6,5,4,3,2]\n",
    "\n",
    "cpfbool = True\n",
    "while cpfbool:\n",
    "    cpf = input('Digite o CPF: ')\n",
    "    if (len(cpf) != 11) :\n",
    "        print('CPF inválido!')\n",
    "    else:\n",
    "        cpfbool = False\n",
    "\n",
    "lstcpf = list(cpf)\n",
    "dig1 = int(lstcpf[9])\n",
    "dig2 = int(lstcpf[10])\n",
    "\n",
    "calcdig1 = calculadigito(lstcpf, fatores1)\n",
    "calcdig2 = calculadigito(lstcpf, fatores2)\n",
    "\n",
    "if (dig1 == calcdig1 and dig2 == calcdig2):\n",
    "    print('\\nO CPF {}.{}.{}-{} é válido!'.format(cpf[:3], cpf[3:6], cpf[6:9], cpf[9:]))\n",
    "else:\n",
    "    print('\\nO CPF {}.{}.{}-{} é inválido!'.format(cpf[:3], cpf[3:6], cpf[6:9], cpf[9:]))\n",
    "\n",
    "\n",
    "#print(cpf) # 123.456.789-00\n",
    "\n"
   ]
  },
  {
   "cell_type": "code",
   "execution_count": null,
   "id": "958fbc75",
   "metadata": {},
   "outputs": [],
   "source": [
    "# Resposta sugerida\n",
    "\n",
    "CPF = list(input(\"Digite o seu CPF(apenas dígitos): \"))  # Convertemos para uma lista de dígitos\n",
    "for i in range(len(CPF)):\n",
    "    CPF[i] = int(CPF[i])  # Convertemos a lista para inteiros\n",
    "print(CPF)\n",
    "\n",
    "soma = 0\n",
    "\n",
    "for i in range(9):\n",
    "    soma = soma + CPF[i]*(10-i)\n",
    "\n",
    "if soma*10 % 11 == CPF[9]:\n",
    "    soma = 0\n",
    "    for i in range(10):\n",
    "        soma = soma + CPF[i] * (11 - i)\n",
    "    if soma*10 % 11 == CPF[10]:\n",
    "        print(\"CPF Válido\")\n",
    "    else:\n",
    "        print(\"CPF Inválido\")\n",
    "else:\n",
    "    print(\"CPF Inválido\")"
   ]
  },
  {
   "cell_type": "code",
   "execution_count": null,
   "id": "be1cdcb6",
   "metadata": {},
   "outputs": [],
   "source": []
  }
 ],
 "metadata": {
  "kernelspec": {
   "display_name": "Python 3",
   "language": "python",
   "name": "python3"
  },
  "language_info": {
   "codemirror_mode": {
    "name": "ipython",
    "version": 3
   },
   "file_extension": ".py",
   "mimetype": "text/x-python",
   "name": "python",
   "nbconvert_exporter": "python",
   "pygments_lexer": "ipython3",
   "version": "3.8.10"
  }
 },
 "nbformat": 4,
 "nbformat_minor": 5
}
