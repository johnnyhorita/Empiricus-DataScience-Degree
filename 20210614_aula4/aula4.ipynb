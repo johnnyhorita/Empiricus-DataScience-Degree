{
 "cells": [
  {
   "cell_type": "markdown",
   "id": "8bcdb687",
   "metadata": {},
   "source": [
    "# Aula 4\n",
    "\n",
    "## 6.  Listas\n"
   ]
  },
  {
   "cell_type": "code",
   "execution_count": null,
   "id": "494e3d60",
   "metadata": {},
   "outputs": [],
   "source": [
    "nota1 = float(input('Digite a primeira nota: '))\n",
    "nota2 = float(input('Digite a segunda nota: '))\n",
    "\n",
    "media = (nota1 + nota2)/2\n",
    "\n",
    "print(media)"
   ]
  },
  {
   "cell_type": "code",
   "execution_count": null,
   "id": "0b97a363",
   "metadata": {},
   "outputs": [],
   "source": [
    "nota1 = float(input('Digite a primeira nota: '))\n",
    "nota2 = float(input('Digite a segunda nota: '))\n",
    "nota3 = float(input('Digite a terceira nota: '))\n",
    "nota4 = float(input('Digite a quarta nota: '))\n",
    "\n",
    "media = (nota1 + nota2 + nota3 + nota4)/4\n",
    "\n",
    "print(media)"
   ]
  },
  {
   "cell_type": "code",
   "execution_count": null,
   "id": "cdc59cfa",
   "metadata": {},
   "outputs": [],
   "source": [
    "aluno1 = float(input('Digite a nota do aluno 1: '))\n",
    "aluno2 = float(input('Digite a nota do aluno 2: '))\n",
    "aluno3 = float(input('Digite a nota do aluno 3: '))\n",
    "aluno4 = float(input('Digite a nota do aluno 4: '))\n",
    "aluno5 = float(input('Digite a nota do aluno 5: '))\n",
    "aluno6 = float(input('Digite a nota do aluno 6: '))\n",
    "aluno7 = float(input('Digite a nota do aluno 7: '))\n",
    "aluno8 = float(input('Digite a nota do aluno 8: '))\n",
    "aluno9 = float(input('Digite a nota do aluno 9: '))\n",
    "aluno10 = float(input('Digite a nota do aluno 10: '))\n",
    "\n",
    "# ...\n",
    "\n",
    "```\n",
    "Nota do programador: eu me demito. \n",
    "Não ganho bem o suficiente pra ISSO!\n",
    "```"
   ]
  },
  {
   "cell_type": "markdown",
   "id": "4e7c1589",
   "metadata": {},
   "source": [
    "### 1. Listas"
   ]
  },
  {
   "cell_type": "code",
   "execution_count": 1,
   "id": "19e3963b",
   "metadata": {},
   "outputs": [],
   "source": [
    "primeiralista = [] # cria uma lista vazia\n",
    "segundalista = list() # cria uma lista vazia\n",
    "terceiralista = [1, 3.14, 5, 7, 9, 'onze'] # lista com valores"
   ]
  },
  {
   "cell_type": "code",
   "execution_count": null,
   "id": "9035e6e7",
   "metadata": {},
   "outputs": [],
   "source": [
    "terceiralista = [1, 3.14, 5, 7, 9, 'onze'] # lista com valores\n",
    "print(terceiralista[3])"
   ]
  },
  {
   "cell_type": "markdown",
   "id": "da3b0d2f",
   "metadata": {},
   "source": [
    "### 2. Quebrando listas"
   ]
  },
  {
   "cell_type": "code",
   "execution_count": 2,
   "id": "d846f8fa",
   "metadata": {},
   "outputs": [
    {
     "name": "stdout",
     "output_type": "stream",
     "text": [
      "[7, 9, 11]\n"
     ]
    }
   ],
   "source": [
    "impares = [1, 3, 5, 7, 9, 11, 13, 15, 17]\n",
    "meio = impares[3:6]\n",
    "print(meio) # resultado na tela: [7, 9, 11]"
   ]
  },
  {
   "cell_type": "code",
   "execution_count": 3,
   "id": "343051b3",
   "metadata": {},
   "outputs": [
    {
     "name": "stdout",
     "output_type": "stream",
     "text": [
      "[1, 3, 5, 7, 9]\n",
      "[11, 13, 15, 17, 19]\n"
     ]
    }
   ],
   "source": [
    "impares = [1, 3, 5, 7, 9, 11, 13, 15, 17, 19]\n",
    "primeirametade = impares[:5]\n",
    "segundametade = impares[5:]\n",
    "print(primeirametade) # resultado: [1, 3, 5, 7, 9]\n",
    "print(segundametade) # resultado: [11, 13, 15, 17, 19]"
   ]
  },
  {
   "cell_type": "code",
   "execution_count": 4,
   "id": "f492ee00",
   "metadata": {},
   "outputs": [
    {
     "name": "stdout",
     "output_type": "stream",
     "text": [
      "[3, 6, 9]\n"
     ]
    }
   ],
   "source": [
    "numeros = [0, 1, 2, 3, 4, 5, 6, 7, 8, 9, 10, 11, 12, 13, 14, 15]\n",
    "# múltiplos de 3 abaixo de 10:\n",
    "mult3sub10 = numeros[3:10:3]\n",
    "print(mult3sub10) # resultado: [3, 6, 9]"
   ]
  },
  {
   "cell_type": "markdown",
   "id": "db23ff38",
   "metadata": {},
   "source": [
    "### 3. Percorrendo listas"
   ]
  },
  {
   "cell_type": "code",
   "execution_count": 5,
   "id": "56a7495f",
   "metadata": {},
   "outputs": [
    {
     "name": "stdout",
     "output_type": "stream",
     "text": [
      "0\n",
      "2\n",
      "4\n",
      "6\n",
      "8\n"
     ]
    }
   ],
   "source": [
    "pares = [0, 2, 4, 6, 8]\n",
    "tamanho = len(pares)\n",
    "\n",
    "# tamanho vale 5, logo indice recebe os valores 0, 1, 2, 3 e 4\n",
    "for indice in range(tamanho):\n",
    "    print(pares[indice])"
   ]
  },
  {
   "cell_type": "code",
   "execution_count": 6,
   "id": "5626062e",
   "metadata": {},
   "outputs": [
    {
     "name": "stdout",
     "output_type": "stream",
     "text": [
      "0\n",
      "2\n",
      "4\n",
      "6\n",
      "8\n"
     ]
    }
   ],
   "source": [
    "pares = [0, 2, 4, 6, 8]\n",
    "\n",
    "for elemento in pares:\n",
    "    print(elemento)"
   ]
  },
  {
   "cell_type": "markdown",
   "id": "144f3da6",
   "metadata": {},
   "source": [
    "## 7. Funções de listas"
   ]
  },
  {
   "cell_type": "markdown",
   "id": "ac1ab74e",
   "metadata": {},
   "source": [
    "### 1. Adicionando elementos"
   ]
  },
  {
   "cell_type": "code",
   "execution_count": 8,
   "id": "7ffc0171",
   "metadata": {},
   "outputs": [
    {
     "name": "stdout",
     "output_type": "stream",
     "text": [
      "[0, 2, 4, 6, 8, 10]\n"
     ]
    }
   ],
   "source": [
    "pares = [0, 2, 4, 6, 8]\n",
    "pares.append(10)\n",
    "print(pares) # resultado: [0, 2, 4, 6, 8, 10]"
   ]
  },
  {
   "cell_type": "code",
   "execution_count": 9,
   "id": "3dd0a6d8",
   "metadata": {},
   "outputs": [
    {
     "name": "stdout",
     "output_type": "stream",
     "text": [
      "[0, 2, 4, 6, 8, 10]\n"
     ]
    }
   ],
   "source": [
    "pares = [0, 2, 4, 8, 10]\n",
    "pares.insert(3, 6)\n",
    "print(pares) #resultado: [0, 2, 4, 6, 8, 10]"
   ]
  },
  {
   "cell_type": "markdown",
   "id": "be38b729",
   "metadata": {},
   "source": [
    "### 2. Removendo elementos"
   ]
  },
  {
   "cell_type": "code",
   "execution_count": 10,
   "id": "e47d4c32",
   "metadata": {},
   "outputs": [
    {
     "name": "stdout",
     "output_type": "stream",
     "text": [
      "[1, 3, 5, 7, 9]\n"
     ]
    }
   ],
   "source": [
    "impares = [1, 3, 3, 5, 7, 9]\n",
    "impares.remove(3)\n",
    "print(impares) # resultado: [1, 3, 5, 7, 9]"
   ]
  },
  {
   "cell_type": "code",
   "execution_count": 11,
   "id": "f704866f",
   "metadata": {},
   "outputs": [
    {
     "name": "stdout",
     "output_type": "stream",
     "text": [
      "[1, 3, 5, 7, 9]\n"
     ]
    }
   ],
   "source": [
    "impares = [1, 3, 5, 7, 8, 9]\n",
    "impares.pop(4)\n",
    "print(impares) # resultado: [1, 3, 5, 7, 9]"
   ]
  },
  {
   "cell_type": "markdown",
   "id": "aab4b442",
   "metadata": {},
   "source": [
    "### 3. Ordenando a lista"
   ]
  },
  {
   "cell_type": "code",
   "execution_count": null,
   "id": "70df5ade",
   "metadata": {},
   "outputs": [],
   "source": [
    "fibonacci = [8, 1, 0, 5, 13, 1, 3, 2]\n",
    "fibonacci.sort()\n",
    "print(fibonacci) # resultado: [0, 1, 1, 2, 3, 5, 8, 13]"
   ]
  },
  {
   "cell_type": "code",
   "execution_count": null,
   "id": "61f8b6ff",
   "metadata": {},
   "outputs": [],
   "source": [
    "fibonacci = [8, 1, 0, 5, 13, 1, 3, 2]\n",
    "fibonacci.sort(reverse = True)\n",
    "print(fibonacci) # resultado: [13, 8, 5, 3, 2, 1, 1, 0]"
   ]
  },
  {
   "cell_type": "code",
   "execution_count": null,
   "id": "fffe8ffa",
   "metadata": {},
   "outputs": [],
   "source": [
    "lista = [1, 5, 'dois', 4, 3.14]\n",
    "lista.reverse()\n",
    "print(lista) # resultado: [3.14, 4, 'dois', 5, 1]"
   ]
  },
  {
   "cell_type": "markdown",
   "id": "4379f627",
   "metadata": {},
   "source": [
    "### 4. Buscando um elemento"
   ]
  },
  {
   "cell_type": "code",
   "execution_count": 12,
   "id": "3f44a1a7",
   "metadata": {},
   "outputs": [
    {
     "name": "stdout",
     "output_type": "stream",
     "text": [
      "4\n"
     ]
    }
   ],
   "source": [
    "pi = [3, 1, 4, 1, 5, 9, 2, 6, 5]\n",
    "posicao = pi.index(5)\n",
    "print(posicao) # resultado: 4"
   ]
  },
  {
   "cell_type": "markdown",
   "id": "ba1f5caa",
   "metadata": {},
   "source": [
    "### 5. Informações sobre a lista"
   ]
  },
  {
   "cell_type": "code",
   "execution_count": 13,
   "id": "2056cd8c",
   "metadata": {},
   "outputs": [
    {
     "name": "stdout",
     "output_type": "stream",
     "text": [
      "8 9 1\n"
     ]
    }
   ],
   "source": [
    "pi = [3, 1, 4, 1, 5, 9, 2, 6]\n",
    "tamanho = len(pi)\n",
    "maior = max(pi)\n",
    "menor = min(pi)\n",
    "print(tamanho, maior, menor) # resultado: 8 9 1"
   ]
  },
  {
   "cell_type": "code",
   "execution_count": null,
   "id": "7613cbd2",
   "metadata": {},
   "outputs": [],
   "source": []
  }
 ],
 "metadata": {
  "kernelspec": {
   "display_name": "Python 3",
   "language": "python",
   "name": "python3"
  },
  "language_info": {
   "codemirror_mode": {
    "name": "ipython",
    "version": 3
   },
   "file_extension": ".py",
   "mimetype": "text/x-python",
   "name": "python",
   "nbconvert_exporter": "python",
   "pygments_lexer": "ipython3",
   "version": "3.8.10"
  }
 },
 "nbformat": 4,
 "nbformat_minor": 5
}
