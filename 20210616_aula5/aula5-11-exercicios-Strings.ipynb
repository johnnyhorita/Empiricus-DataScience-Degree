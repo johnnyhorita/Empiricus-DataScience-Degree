{
 "cells": [
  {
   "cell_type": "markdown",
   "id": "5bd880f4",
   "metadata": {},
   "source": [
    "# Lógica da Programação\n",
    "\n",
    "## 7 - LC | Listas e For"
   ]
  },
  {
   "cell_type": "markdown",
   "id": "f4f21cef",
   "metadata": {},
   "source": [
    "https://www.pythoncheatsheet.org/"
   ]
  },
  {
   "cell_type": "code",
   "execution_count": 2,
   "id": "d4cffbbf",
   "metadata": {},
   "outputs": [
    {
     "name": "stdout",
     "output_type": "stream",
     "text": [
      "Digite uma palavra: palavra 55\n",
      "indice 0 = p\n",
      "indice 1 = a\n",
      "indice 2 = l\n",
      "indice 3 = a\n",
      "indice 4 = v\n",
      "indice 5 = r\n",
      "indice 6 = a\n",
      "indice 7 =  \n",
      "indice 8 = 5\n",
      "indice 9 = 5\n"
     ]
    }
   ],
   "source": [
    "# Questão 1\n",
    "# Faça um programa que peça para o usuário digitar uma palavra e imprima cada letra em uma linha.\n",
    "\n",
    "word = input('Digite uma palavra: ')\n",
    "for i in range(len(word)):\n",
    "    print('indice {} = {}'.format(i,word[i]))"
   ]
  },
  {
   "cell_type": "code",
   "execution_count": 1,
   "id": "c1839caf",
   "metadata": {},
   "outputs": [
    {
     "name": "stdout",
     "output_type": "stream",
     "text": [
      "Digite uma palavra: palavra 55\n",
      "p\n",
      "a\n",
      "l\n",
      "a\n",
      "v\n",
      "r\n",
      "a\n",
      " \n",
      "5\n",
      "5\n"
     ]
    }
   ],
   "source": [
    "# Resposta sugerida\n",
    "\n",
    "palavra = input(\"Digite uma palavra: \")\n",
    "for letra in palavra:\n",
    "    print(letra)"
   ]
  },
  {
   "cell_type": "code",
   "execution_count": 2,
   "id": "2823629c",
   "metadata": {},
   "outputs": [
    {
     "name": "stdout",
     "output_type": "stream",
     "text": [
      "Digite uma palavra: macaco\n",
      "Nova string = m\n",
      "Nova string = ma\n",
      "Nova string = mac\n",
      "Nova string = maca\n",
      "Nova string = macac\n",
      "Nova string = macaco\n"
     ]
    }
   ],
   "source": [
    "# Questão 2\n",
    "# Faça um programa que pede para o usuário digitar uma palavra e cria uma nova string igual, \n",
    "# copiando letra por letra a palavra digitada, depois imprima a nova string.\n",
    "\n",
    "word = input('Digite uma palavra: ')\n",
    "neword =''\n",
    "for i in range(len(word)):\n",
    "    neword += word[i]\n",
    "    print('Nova string = {}'.format(neword))"
   ]
  },
  {
   "cell_type": "code",
   "execution_count": null,
   "id": "e3af6f76",
   "metadata": {},
   "outputs": [],
   "source": [
    "# Resposta sugerida\n",
    "\n",
    "palavra = input(\"Digite uma palavra: \")\n",
    "nova_palavra = \"\"\n",
    "for letra in palavra:\n",
    "    nova_palavra += letra\n",
    "print(nova_palavra)"
   ]
  },
  {
   "cell_type": "code",
   "execution_count": 9,
   "id": "d19261be",
   "metadata": {},
   "outputs": [
    {
     "name": "stdout",
     "output_type": "stream",
     "text": [
      "Digite uma palavra: latex\n",
      "Nova string = L\n",
      "Nova string = La\n",
      "Nova string = LaT\n",
      "Nova string = LaTe\n",
      "Nova string = LaTeX\n"
     ]
    }
   ],
   "source": [
    "# Questão 3\n",
    "# Altere o exercício anterior para que a string copiada alterne entre letras maiúsculas e minúsculas.\n",
    "# Exemplo: se o usuário digitar \"latex\" o programa deve imprimir \"LaTeX\".\n",
    "\n",
    "word = input('Digite uma palavra: ')\n",
    "neword =''\n",
    "for i in range(len(word)):\n",
    "    if (i % 2) == 0:\n",
    "        neword += word[i].upper()\n",
    "    else:\n",
    "        neword += word[i]\n",
    "    print('Nova string = {}'.format(neword))"
   ]
  },
  {
   "cell_type": "code",
   "execution_count": null,
   "id": "81991020",
   "metadata": {},
   "outputs": [],
   "source": [
    "# Resposta sugerida\n",
    "\n",
    "palavra = input(\"Digite uma palavra: \")\n",
    "nova_palavra = \"\"\n",
    "for i in range(len(palavra)):\n",
    "    letra = palavra[i]\n",
    "    if i%2 == 0:\n",
    "        nova_palavra += letra.upper()\n",
    "    else:\n",
    "        nova_palavra += letra.lower()\n",
    "print(nova_palavra)"
   ]
  },
  {
   "cell_type": "code",
   "execution_count": 13,
   "id": "2dd0f67d",
   "metadata": {},
   "outputs": [
    {
     "name": "stdout",
     "output_type": "stream",
     "text": [
      "Digite uma palavra: mamae\n",
      "Digitei \"mamae\" o resultado é \"m a m a e \"\n"
     ]
    }
   ],
   "source": [
    "# Questão 4\n",
    "# Faça um programa que pede para o usuário digitar uma palavra e cria uma nova string igual, \n",
    "# porém com espaço entre cada letra, depois imprima a nova string:\n",
    "# Exemplo: se o usuário digitar \"python\" o programa deve imprimir \"p y t h o n \"\n",
    "\n",
    "word = input('Digite uma palavra: ')\n",
    "neword =''\n",
    "for i in range(len(word)):\n",
    "    neword += word[i] + ' '\n",
    "\n",
    "print('Digitei \"{}\" o resultado é \"{}\"'.format(word, neword))"
   ]
  },
  {
   "cell_type": "code",
   "execution_count": null,
   "id": "adcee7da",
   "metadata": {},
   "outputs": [],
   "source": [
    "# Resposta sugerida\n",
    "\n",
    "palavra = input(\"Digite uma palavra: \")\n",
    "nova_palavra = \"\"\n",
    "for letra in palavra:\n",
    "    nova_palavra += letra + \" \"\n",
    "print(nova_palavra)"
   ]
  },
  {
   "cell_type": "code",
   "execution_count": 27,
   "id": "28007a32",
   "metadata": {},
   "outputs": [
    {
     "name": "stdout",
     "output_type": "stream",
     "text": [
      "Digite uma palavra: lets code aI\n",
      "Nova string l37s cod3 41\n"
     ]
    }
   ],
   "source": [
    "# Questão 5\n",
    "# Faça uma função que receba uma string e retorne uma nova string substituindo:\n",
    "# 'a' por '4'\n",
    "# 'e' por '3'\n",
    "# 'I' por '1'\n",
    "# 't' por '7'\n",
    "\n",
    "def changelet(word):\n",
    "    word = list(word)\n",
    "    replacements = {\n",
    "        'a': 4,\n",
    "        'e': 3,\n",
    "        'I': 1,\n",
    "        't': 7,\n",
    "    }\n",
    "    word = [replacements.get(x, x) for x in word]\n",
    "    return word\n",
    "\n",
    "word = input('Digite uma palavra: ')\n",
    "neword = ''.join(map(str, changelet(word)))\n",
    "print('Nova string {}'.format(neword))\n"
   ]
  },
  {
   "cell_type": "code",
   "execution_count": null,
   "id": "2739b413",
   "metadata": {},
   "outputs": [],
   "source": [
    "# Resposta sugerida\n",
    "\n",
    "def H4CK3R(palavra):\n",
    "    nova_string = \"\"\n",
    "    for letra in palavra:\n",
    "        if letra.lower() == 'a':\n",
    "            nova_string += '4'\n",
    "        elif letra.lower() == 'e':\n",
    "            nova_string += '3'\n",
    "        elif letra.lower() == 'i':\n",
    "            nova_string += '1'\n",
    "        elif letra.lower() == 't':\n",
    "            nova_string += '7'\n",
    "        else:\n",
    "            nova_string += letra\n",
    "\n",
    "    return (nova_string)\n",
    "\n",
    "print(H4CK3R(\"Apenas testando\"))"
   ]
  },
  {
   "cell_type": "code",
   "execution_count": 28,
   "id": "104154bd",
   "metadata": {},
   "outputs": [
    {
     "name": "stdout",
     "output_type": "stream",
     "text": [
      "Digite uma palavra: teste\n",
      "Nova string etset\n"
     ]
    }
   ],
   "source": [
    "# Questão 6\n",
    "# Faça uma função que recebe uma string e retorna ela ao contrário.\n",
    "# Exemplo: Recebe \"teste\" e retorna \"etset\".\n",
    "\n",
    "def reverselet(word):\n",
    "    return word[::-1]\n",
    "\n",
    "word = input('Digite uma palavra: ')\n",
    "neword = reverselet(word)\n",
    "print('Nova string {}'.format(neword))"
   ]
  },
  {
   "cell_type": "code",
   "execution_count": null,
   "id": "e1401eaf",
   "metadata": {},
   "outputs": [],
   "source": [
    "# Resposta sugerida\n",
    "\n",
    "def inverte(palavra):\n",
    "    string = \"\"\n",
    "    for letra in palavra:\n",
    "        string = letra + string\n",
    "    return string\n",
    "\n",
    "print(inverte(\"teste\"))\n",
    "\n",
    "# OU\n",
    "\n",
    "def inverte(palavra):\n",
    "    return palavra[::-1]\n",
    "\n",
    "palavra = \"teste\"\n",
    "print(inverte(palavra))"
   ]
  },
  {
   "cell_type": "code",
   "execution_count": 40,
   "id": "cdd8178b",
   "metadata": {},
   "outputs": [
    {
     "name": "stdout",
     "output_type": "stream",
     "text": [
      "Digite uma palavra: Amor a Roma\n",
      "A palavra amoR a romA é um palíndromo!\n"
     ]
    }
   ],
   "source": [
    "# Questão 7\n",
    "\n",
    "# Agora faça uma função que recebe uma palavra e diz se ela é um palíndromo, ou seja, \n",
    "# se ela é igual a ela mesma ao contrário.\n",
    "# Dica: Use a função do exercício 6.\n",
    "# Amor a Roma, Lava esse aval, anilina, arara, matam\n",
    "\n",
    "def reverselet(word):\n",
    "    return word[::-1]\n",
    "\n",
    "word = input('Digite uma palavra: ')\n",
    "neword = reverselet(word)\n",
    "if (neword.upper() == word.upper()):\n",
    "    print('A palavra {} é um palíndromo!'.format(neword))\n",
    "else: \n",
    "    print('A palavra não {} é um palíndromo!'.format(neword))"
   ]
  },
  {
   "cell_type": "code",
   "execution_count": null,
   "id": "d7c3677d",
   "metadata": {},
   "outputs": [],
   "source": [
    "# Resposta sugerida\n",
    "\n",
    "# Função criada no ex. 6\n",
    "\n",
    "def inverte(palavra):\n",
    "    return palavra[::-1]\n",
    "\n",
    "# função ex. 07\n",
    "\n",
    "def palindromo(palavra):\n",
    "    palavra = palavra.lower() # Remove letras maiúsculas\n",
    "    if palavra == inverte(palavra):\n",
    "        print(palavra, \"é um palíndromo.\")\n",
    "    else:\n",
    "        print(palavra, \"não é um palíndromo.\")"
   ]
  },
  {
   "cell_type": "code",
   "execution_count": 53,
   "id": "8a0b481c",
   "metadata": {},
   "outputs": [
    {
     "name": "stdout",
     "output_type": "stream",
     "text": [
      "Digite uma frase..: macaos me mordam\n",
      "Digite uma palavra: supinpa\n",
      "Falso! Paravra supinpa não encontrada na frase.\n"
     ]
    }
   ],
   "source": [
    "# Questão 8\n",
    "\n",
    "# Faça uma função que receba um texto e uma palavra, então verifique se a palavra está no texto, \n",
    "# retornando True ou False.\n",
    "\n",
    "def findtext(frase, word):\n",
    "    if (frase.upper().find(word.upper()) > 0):\n",
    "        return True\n",
    "    else:\n",
    "        return False\n",
    "   \n",
    "frase = input('Digite uma frase..: ')\n",
    "word = input('Digite uma palavra: ')\n",
    "\n",
    "if (findtext(frase, word)):\n",
    "    print('Verdadeiro! Palavra \"{}\" encontrada na frase.'.format(word))\n",
    "else:\n",
    "    print('Falso! Palavra {} não encontrada na frase.'.format(word))\n"
   ]
  },
  {
   "cell_type": "code",
   "execution_count": null,
   "id": "47f5113b",
   "metadata": {},
   "outputs": [],
   "source": [
    "# Resposta sugerida\n",
    "\n",
    "def pertence(texto, palavra):\n",
    "    if palavra in texto:\n",
    "        return True\n",
    "    return False\n",
    "\n",
    "# OU\n",
    "\n",
    "def pertence(texto, palavra): # resumido\n",
    "    return palavra in texto"
   ]
  },
  {
   "cell_type": "code",
   "execution_count": 28,
   "id": "91f14894",
   "metadata": {},
   "outputs": [
    {
     "name": "stdout",
     "output_type": "stream",
     "text": [
      "Digite uma palavra: t3st4nd0 m3u c#d#g()o\n",
      "Caracteres: tstnd mu cdgo\n",
      "Números...: 3403\n"
     ]
    }
   ],
   "source": [
    "# Questão 9\n",
    "# Faça uma função que receba uma string que contém tanto números quanto letras e caracteres especiais, \n",
    "# e que separe as letras em uma variável e os números em outra (os caracteres especiais podem ser descartados). \n",
    "# Ao final a função deve imprimir as duas variáveis.\n",
    "\n",
    "def charact_number(wlist):\n",
    "    specialchar = '\"!@#$%^&*()-+?_=,<>/'\n",
    "    wordlist = []\n",
    "    numberlist = []\n",
    "    for i in wlist:\n",
    "        if not any(c in specialchar for c in i):\n",
    "            if i.isnumeric():\n",
    "                numberlist.append(i)\n",
    "            else:\n",
    "                wordlist.append(i)\n",
    "    print('Caracteres:', ''.join(map(str, wordlist)))\n",
    "    print('Números...:', ''.join(map(str, numberlist)))\n",
    "\n",
    "word = input('Digite uma palavra: ')\n",
    "charact_number(list(word))\n"
   ]
  },
  {
   "cell_type": "code",
   "execution_count": null,
   "id": "dce30d32",
   "metadata": {},
   "outputs": [],
   "source": [
    "# Resposta sugerida\n",
    "\n",
    "def separador(texto):\n",
    "    letras = \"\"\n",
    "    numeros = \"\"\n",
    "\n",
    "    for item in texto:\n",
    "        if item.isdigit(): #verifica se é digito\n",
    "            numeros += item\n",
    "        elif item.isalpha(): #verifica se é letra\n",
    "            letras += item\n",
    "    print(\"As letras são:  \", letras)\n",
    "    print(\"Os números são: \", numeros)\n",
    "    return letras, numeros"
   ]
  },
  {
   "cell_type": "code",
   "execution_count": 12,
   "id": "057b198d",
   "metadata": {},
   "outputs": [
    {
     "name": "stdout",
     "output_type": "stream",
     "text": [
      "Digite uma palavra: mais \n",
      "Digite uma letra: s\n",
      "\n",
      "a. imprima quantas vezes a letra aparece na string = 1\n",
      "b. imprima todas as posições em que a letra aparece na string = [3]\n",
      "c. retorne a distância entre a primeira 3 e a última 3 aparição dessa letra na string. = 0\n"
     ]
    }
   ],
   "source": [
    "# Questão 10\n",
    "\n",
    "# Desafio - Faça uma função que receba uma string e uma letra e:\n",
    "# a. imprima quantas vezes a letra aparece na string;\n",
    "# b. imprima todas as posições em que a letra aparece na string;\n",
    "# c. retorne a distância entre a primeira e a última aparição dessa letra na string.\n",
    "\n",
    "word = str(input('Digite uma palavra: '))\n",
    "let = str(input('Digite uma letra..: '))\n",
    "\n",
    "wlist = list(word)\n",
    "idxword = []\n",
    "for i in range(len(wlist)):\n",
    "    if wlist[i] == let:\n",
    "        idxword.append(i)\n",
    "\n",
    "firstidx = min(idxword)\n",
    "lastidx = max(idxword)\n",
    "distidx = lastidx - firstidx\n",
    "\n",
    "print('\\na. imprima quantas vezes a letra aparece na string = {}'.format(word.count(let)))\n",
    "print('b. imprima todas as posições em que a letra aparece na string = {}'.format(idxword))\n",
    "print('c. retorne a distância entre a primeira {} e a última {} aparição dessa letra na string = {}'.format(firstidx, lastidx, distidx))"
   ]
  },
  {
   "cell_type": "code",
   "execution_count": null,
   "id": "89696fb6",
   "metadata": {},
   "outputs": [],
   "source": [
    "# Resposta sugerida\n",
    "\n",
    "def desafio1(texto, letra):\n",
    "    vezes = 0\n",
    "    posicoes = []\n",
    "    for i in range(len(texto)):\n",
    "        if texto[i] == letra:\n",
    "            vezes += 1\n",
    "            posicoes.append(i)\n",
    "\n",
    "    if posicoes == []: # Caso não apareça nenhuma vez\n",
    "        print(letra, \"não aparece no texto.\")\n",
    "        return -1 \n",
    "\n",
    "    # Se chegar aqui, quer dizer que apareceu pelo menos 1 vez\n",
    "    print(letra, \"aparece\", vezes, \"vezes no texto\")\n",
    "    print(\"As posições na qual ela aparece são\", posicoes)\n",
    "    return posicoes[-1] - posicoes[0]\n",
    "\n",
    "\n",
    "#Exemplo:\n",
    "\n",
    "texto = \"Lorem ipsum dolor sit amet, consectetur adipiscing elit.\"\n",
    "letra = \"o\"\n",
    "print(desafio1(texto, letra))"
   ]
  },
  {
   "cell_type": "code",
   "execution_count": 96,
   "id": "d38ffce4",
   "metadata": {},
   "outputs": [
    {
     "name": "stdout",
     "output_type": "stream",
     "text": [
      "Digite uma palavra: macacos me mordam tttt\n",
      "Criptografado.....: mzxzxkg mu mkhvzm ffff\n"
     ]
    }
   ],
   "source": [
    "# Questão 11\n",
    "\n",
    "# Super Desafio! - faça uma função que criptografa uma mensagem substituindo cada letra pela letra oposta do dicionário:\n",
    "# 'a' por 'z'\n",
    "# 'b' por 'y'\n",
    "# 'c' por 'x'\n",
    "\n",
    "def cript(word):\n",
    "    cripto = ''\n",
    "    word = list(word)\n",
    "    alfa = ['a','b','c','d','e','f','g','h','i','j','k','l','m','n','o','p','q','r','s','t','u','v','x','y','z']\n",
    "    alfarev = alfa[::-1]\n",
    "    for i in word:\n",
    "        if (i.lower() in alfa):\n",
    "            index = alfa.index(i.lower())\n",
    "            cripto += alfarev[index]\n",
    "        else:\n",
    "            cripto += i.lower()\n",
    "    return cripto\n",
    "\n",
    "word = (input('Digite uma palavra: '))\n",
    "wordcript = cript(word)\n",
    "print('Criptografado.....: {}'.format(wordcript))"
   ]
  },
  {
   "cell_type": "code",
   "execution_count": null,
   "id": "0ea2cdc6",
   "metadata": {},
   "outputs": [],
   "source": [
    "# Resposta sugerida\n",
    "\n",
    "import string\n",
    "def criptografa(mensagem):\n",
    "    alfabeto1 = string.ascii_lowercase #retorna uma string com todas as letras do alfabeto minúsculas = abcdefghijklmnopqrstuvwxyz\n",
    "    alfabeto2 = string.ascii_uppercase #retorna uma string com todas as letras do alfabeto maiúsculas = ABCDEFGHIJKLMNOPQRSTUVWXYZ\n",
    "    nova_mensagem = \"\"\n",
    "    for item in mensagem:\n",
    "        if item in alfabeto1:\n",
    "            indice = alfabeto1.index(item)\n",
    "            letra_oposta = alfabeto1[-1 - indice]\n",
    "            nova_mensagem += letra_oposta\n",
    "        elif item in alfabeto2:\n",
    "            indice = alfabeto2.index(item)\n",
    "            letra_oposta = alfabeto2[-1 - indice]\n",
    "            nova_mensagem += letra_oposta\n",
    "        else:\n",
    "            nova_mensagem += item\n",
    "    return nova_mensagem\n",
    "\n",
    "texto = \"aBcd eFghij kLmn\"\n",
    "criptografado = criptografa(texto)\n",
    "print(criptografado)\n",
    "print(criptografa(criptografado)) # Texto original"
   ]
  },
  {
   "cell_type": "code",
   "execution_count": null,
   "id": "9f5d2e75",
   "metadata": {},
   "outputs": [],
   "source": []
  }
 ],
 "metadata": {
  "kernelspec": {
   "display_name": "Python 3",
   "language": "python",
   "name": "python3"
  },
  "language_info": {
   "codemirror_mode": {
    "name": "ipython",
    "version": 3
   },
   "file_extension": ".py",
   "mimetype": "text/x-python",
   "name": "python",
   "nbconvert_exporter": "python",
   "pygments_lexer": "ipython3",
   "version": "3.8.10"
  }
 },
 "nbformat": 4,
 "nbformat_minor": 5
}
