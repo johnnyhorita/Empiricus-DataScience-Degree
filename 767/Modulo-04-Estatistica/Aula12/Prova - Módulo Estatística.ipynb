{
 "cells": [
  {
   "cell_type": "markdown",
   "id": "167dd41b",
   "metadata": {
    "id": "167dd41b"
   },
   "source": [
    "# Prova - Módulo Estatística\n",
    "\n",
    "Planejamento da prova:\n",
    "\n",
    "Serão 10 questões de múltipla escolha com cada questão valendo um ponto cada, totalizando 10 pontos. As questões serão divididas nos seguintes tópicos:\n",
    "\n",
    "- 2 Questões sobre Estatística Descritiva\n",
    "- 1 Questão sobre Probabilidade\n",
    "- 3 Questões sobre Distribuições Diversas\n",
    "- 2 Questões sobre Distribuição Normal\n",
    "- 1 Questão sobre Amostragem\n",
    "- 1 Questões sobre Teste de Hipóteses"
   ]
  },
  {
   "cell_type": "markdown",
   "id": "cbbdea97",
   "metadata": {
    "id": "cbbdea97"
   },
   "source": [
    "## Questões da Prova"
   ]
  },
  {
   "cell_type": "markdown",
   "id": "233f5f3c",
   "metadata": {
    "id": "233f5f3c"
   },
   "source": [
    "### Estatística Descritiva"
   ]
  },
  {
   "cell_type": "markdown",
   "id": "9cf75454",
   "metadata": {
    "id": "9cf75454"
   },
   "source": [
    "__1)__ Identifique nas alternativas abaixo, a opção que contenha apenas __métricas de posição__:\n",
    "    \n",
    "a) média, desvio padrão<br>\n",
    "**b) mediana, moda**<br>\n",
    "c) variância, mediana<br>\n",
    "d) desvio padrão, variância<br>\n",
    "e) média, correlação de Pearson<br>"
   ]
  },
  {
   "cell_type": "markdown",
   "id": "64f17229",
   "metadata": {
    "heading_collapsed": true,
    "id": "64f17229"
   },
   "source": [
    "### Resolução:\n",
    "\n",
    "As métricas de posição são a média, mediana e moda;"
   ]
  },
  {
   "cell_type": "markdown",
   "id": "9d96bd30",
   "metadata": {
    "id": "9d96bd30"
   },
   "source": [
    "## "
   ]
  },
  {
   "cell_type": "markdown",
   "id": "219cdba6",
   "metadata": {
    "id": "219cdba6"
   },
   "source": [
    "__2)__ Dado o boxplot conforme a figura abaixo:\n",
    "\n",
    "<img src=\"https://i0.wp.com/www.abgconsultoria.com.br/blog/wp-content/uploads/boxplot-1-1024x664.png?resize=1024%2C664\" width=400>\n",
    "\n",
    "Como é definida a fórmula para os limites __superior__ e __inferior__ do boxplot que separa os dados da distribuição dos prováveis _outliers_?\n",
    "\n",
    "a) Q1 + 1.5*(Q3 - Q1), Q3 - 1.5*(Q3 - Q1) <br>\n",
    "b) Q3 + 1*(Q3 - Q1), Q1 - 1*(Q3 - Q1) <br>\n",
    "c) Q3 - 1.5*(Q3 - Q1), Q1 + 1.5*(Q3 - Q1) <br>\n",
    "__d) Q3 + 1.5*(Q3 - Q1), Q1 - 1.5*(Q3 - Q1)__ <br>\n",
    "e) 1.5*Q3 + (Q3 - Q1), 1.5*Q1 - (Q3 - Q1)<br>\n"
   ]
  },
  {
   "cell_type": "markdown",
   "id": "511bcd01",
   "metadata": {
    "id": "511bcd01"
   },
   "source": [
    "### Resolução\n",
    "\n",
    "Os limites superior e inferior do boxplot podem ser definidos conforme na figura abaixo:\n",
    "\n",
    "<img src=\"https://miro.medium.com/max/724/1*2c21SkzJMf3frPXPAR_gZA.png\" width=600>\n",
    "\n",
    "Lembrando que o cálculo do intervalo interquartil IQR é dado como $IQR = (Q_{3} - Q_{1})$"
   ]
  },
  {
   "cell_type": "markdown",
   "id": "4317559e",
   "metadata": {
    "id": "4317559e"
   },
   "source": [
    "## "
   ]
  },
  {
   "cell_type": "markdown",
   "id": "42257347",
   "metadata": {
    "id": "42257347"
   },
   "source": [
    "### Probabilidade"
   ]
  },
  {
   "cell_type": "markdown",
   "id": "0a01e568",
   "metadata": {
    "id": "0a01e568"
   },
   "source": [
    "__3)__ Rafael queria levar dinheiro na escola para comprar balas, mas sua mãe só deixou que ele levasse duas moedas para a escola. Sabendo que dentro do cofre do Rafael, temos as seguintes moedas:\n",
    "\n",
    "- 10 centavos = 5 moedas\n",
    "- 25 centavos = 3 moedas\n",
    "- 50 centavos = 10 moedas\n",
    "- 01 real     = 2 moedas\n",
    "\n",
    "Qual a probabilidade de Rafael retirar uma moeda de __1 real__ e uma moeda de __25 centavos__?\n",
    "\n",
    "a) 30,0 %  <br>\n",
    "b) 10,0 %  <br>\n",
    "c) 31,6 %  <br>\n",
    "d)  5,3 % <br>\n",
    "__e) 1,6 %__  <br>"
   ]
  },
  {
   "cell_type": "markdown",
   "id": "b525e4a3",
   "metadata": {
    "id": "b525e4a3"
   },
   "source": [
    "### Resolução"
   ]
  },
  {
   "cell_type": "code",
   "execution_count": 1,
   "id": "7ad39632",
   "metadata": {
    "ExecuteTime": {
     "end_time": "2021-11-08T22:23:42.821916Z",
     "start_time": "2021-11-08T22:23:42.796973Z"
    },
    "id": "7ad39632"
   },
   "outputs": [
    {
     "ename": "SyntaxError",
     "evalue": "cannot assign to function call (<ipython-input-1-f8b376c3a217>, line 2)",
     "output_type": "error",
     "traceback": [
      "\u001b[1;36m  File \u001b[1;32m\"<ipython-input-1-f8b376c3a217>\"\u001b[1;36m, line \u001b[1;32m2\u001b[0m\n\u001b[1;33m    P(A) = 2/20 = 1/10\u001b[0m\n\u001b[1;37m    ^\u001b[0m\n\u001b[1;31mSyntaxError\u001b[0m\u001b[1;31m:\u001b[0m cannot assign to function call\n"
     ]
    }
   ],
   "source": [
    "# Evento A - Retirar a moeda de 1 real\n",
    "P(A) = 2/20 = 1/10\n",
    "\n",
    "# Evento B - Retirar a moeda de 25 centavos, dado que ele já tirou uma de 1 real (sem reposição)\n",
    "P(B | A) = 3/19\n",
    "\n",
    "#\n",
    "P(A ∩ B) = P(A)*P(B | A) = P(B)*P(A | B) = (1/10)*(3/19) = 3/190 ~ 1,6%"
   ]
  },
  {
   "cell_type": "markdown",
   "id": "8700bf3a",
   "metadata": {
    "id": "8700bf3a"
   },
   "source": [
    "### Distribuições"
   ]
  },
  {
   "cell_type": "markdown",
   "id": "f71b5b27",
   "metadata": {
    "id": "f71b5b27"
   },
   "source": [
    "__4)__ Em uma filial de um banco, 40% dos clientes que vão ao caixa eletrônico sacam dinheiro do caixa. Utilizando de uma distribuição binomial, qual é a probabilidade de no máximo 12 clientes sacaram dinheiro em um dia que tivemos 30 clientes no caixa eletrônico?\n",
    "\n",
    "__a) 57,8 % <br>__\n",
    "b) 40,0 % <br>\n",
    "c) 52,2 % <br>\n",
    "d) 42,2 % <br>\n",
    "e) 47,8 % <br>"
   ]
  },
  {
   "cell_type": "markdown",
   "id": "67db83fc",
   "metadata": {
    "id": "67db83fc"
   },
   "source": [
    "### Resolução:"
   ]
  },
  {
   "cell_type": "code",
   "execution_count": 2,
   "id": "03a7c67b",
   "metadata": {
    "ExecuteTime": {
     "end_time": "2021-11-08T22:24:00.665689Z",
     "start_time": "2021-11-08T22:24:00.653722Z"
    },
    "id": "03a7c67b"
   },
   "outputs": [],
   "source": [
    "from math import factorial\n",
    "import numpy as np\n",
    "\n",
    "\n",
    "def binomial(n, p, k):\n",
    "    C = (factorial(n) / (factorial(n - k) * factorial(k)))\n",
    "    return C * np.power(p, k) * np.power(1 - p, n - k)"
   ]
  },
  {
   "cell_type": "code",
   "execution_count": 4,
   "id": "c17f03ec",
   "metadata": {
    "ExecuteTime": {
     "end_time": "2021-11-08T22:26:08.593727Z",
     "start_time": "2021-11-08T22:26:08.578953Z"
    },
    "id": "c17f03ec",
    "outputId": "4f3e3f3f-33b9-4283-bc60-b2346d784818"
   },
   "outputs": [
    {
     "name": "stdout",
     "output_type": "stream",
     "text": [
      "A probabilidade será:  57.85  %\n"
     ]
    }
   ],
   "source": [
    "# numero de clientes\n",
    "n = 30\n",
    "\n",
    "# probabilidade de uma bola preta\n",
    "p = 0.4\n",
    "\n",
    "# calculando a probabilidade acumulativa\n",
    "prob = 0\n",
    "for k in range(13, 31):\n",
    "    prob += binomial(n, p, k)\n",
    "\n",
    "# Print da probabilidade\n",
    "print(\"A probabilidade será: \", (1 - np.round(prob, 4))*100, \" %\")"
   ]
  },
  {
   "cell_type": "markdown",
   "id": "b9721408",
   "metadata": {
    "id": "b9721408"
   },
   "source": [
    "## "
   ]
  },
  {
   "cell_type": "markdown",
   "id": "47827929",
   "metadata": {
    "id": "47827929"
   },
   "source": [
    "__5)__ Em um centro de distribuição logístico da Amazon, chegam cerca de 1.440 produtos por dia. Sabendo que segue uma distribuição de Poisson, qual a probabilidade de que em um minuto cheguem 3 produtos?\n",
    "\n",
    "a) 36,8 % <br>\n",
    "b) 18,4 % <br>\n",
    "__c) 6,1 %__  <br>\n",
    "d) 24,5 %  <br>\n",
    "e) 55,2 %  <br>"
   ]
  },
  {
   "cell_type": "markdown",
   "id": "514f570d",
   "metadata": {
    "id": "514f570d"
   },
   "source": [
    "### Resolução"
   ]
  },
  {
   "cell_type": "code",
   "execution_count": 5,
   "id": "b21016d0",
   "metadata": {
    "ExecuteTime": {
     "end_time": "2021-11-08T22:29:06.319506Z",
     "start_time": "2021-11-08T22:29:06.311527Z"
    },
    "id": "b21016d0",
    "outputId": "6934f8d4-dc57-452a-b59b-167fdff92403"
   },
   "outputs": [
    {
     "name": "stdout",
     "output_type": "stream",
     "text": [
      "P(k = 3) =  6.1313240195240395\n"
     ]
    }
   ],
   "source": [
    "def Poisson(lbd, k):\n",
    "    return np.exp(-lbd)*(lbd**k)/factorial(k)\n",
    "\n",
    "\n",
    "lbd = 1440/(24*60)  # 1440/(24 horas * 60 minutos) = 1 produto em um minuto\n",
    "\n",
    "# A frequencia procurada\n",
    "k = 3\n",
    "\n",
    "# print do resultado\n",
    "print(\"P(k = 3) = \", Poisson(lbd, k)*100)"
   ]
  },
  {
   "cell_type": "markdown",
   "id": "0db05ca9",
   "metadata": {
    "id": "0db05ca9"
   },
   "source": [
    "## "
   ]
  },
  {
   "cell_type": "markdown",
   "id": "80b7ea20",
   "metadata": {
    "id": "80b7ea20"
   },
   "source": [
    "__6)__ Suponha que 60% das mulheres que compram kits de gravidez instantâneos estejam, de fato, grávidas. Para um kit de uma marca específica, se a mulher estiver grávida, o teste fornecerá resultado positivo 96% das vezes e negativo 4% das vezes (um “falso negativo\"). Se ela não estiver grávida, o teste resultará positivo em 1% das vezes (um “falso positivo”) e\n",
    "negativo 99% das vezes . Suponha que um teste resulte positivo. Qual a probabilidade de que a mulher esteja realmente grávida?\n",
    "\n",
    "a) 77,7 %  <br>\n",
    "b) 39,4 % <br>\n",
    "c) 63,2 %  <br>\n",
    "d) 86,4 % <br>\n",
    "__e) 99,3 %__  <br>\n",
    "\n",
    "__Obs.:__ Torema de Bayes: $P(grávida | positivo) =  \\frac{P(positivo | grávida) * P(grávida)} {P(positivo | grávida) * P(grávida) + P(positivo | não-grávida) * P(não-grávida)} $"
   ]
  },
  {
   "cell_type": "markdown",
   "id": "4fa2f196",
   "metadata": {
    "id": "4fa2f196"
   },
   "source": [
    "## Resolução"
   ]
  },
  {
   "cell_type": "markdown",
   "id": "e2ec048d",
   "metadata": {
    "id": "e2ec048d"
   },
   "source": [
    "$$ \n",
    "P(grávida | positivo) =  \\frac{P(positivo | grávida) * P(grávida)} {P(positivo | grávida) * P(grávida) + P(positivo | não-grávida) * P(não-grávida)} \n",
    "$$\n",
    "\n",
    "$$ \n",
    "P(grávida | positivo) = \\frac{0,96 * 0,60} {0,96 * 0,6 + 0,01 * 0,4} = 0,9931   -> 99,3\\%\n",
    "$$"
   ]
  },
  {
   "cell_type": "code",
   "execution_count": 6,
   "id": "0d5cae25",
   "metadata": {
    "ExecuteTime": {
     "end_time": "2021-11-08T22:31:23.493589Z",
     "start_time": "2021-11-08T22:31:23.466639Z"
    },
    "id": "0d5cae25",
    "outputId": "926b89b6-bfdc-4c56-b21f-6710db298af0"
   },
   "outputs": [
    {
     "data": {
      "text/plain": [
       "0.993103448275862"
      ]
     },
     "execution_count": 6,
     "metadata": {},
     "output_type": "execute_result"
    }
   ],
   "source": [
    "0.96*0.6 / (0.96*0.6 + 0.01*0.4)"
   ]
  },
  {
   "cell_type": "markdown",
   "id": "594e6f4f",
   "metadata": {
    "id": "594e6f4f"
   },
   "source": [
    "## "
   ]
  },
  {
   "cell_type": "markdown",
   "id": "58459bdc",
   "metadata": {
    "id": "58459bdc"
   },
   "source": [
    "### Distribuição Normal"
   ]
  },
  {
   "cell_type": "markdown",
   "id": "5844dc4c",
   "metadata": {
    "id": "5844dc4c"
   },
   "source": [
    "__7)__ Uma máquina de sorvete está regulada de modo a servir uma média de 80g por casquinha. Se a quantidade servida por casquinha seguir uma distribuição normal com desvio padrão de 8g, qual a porcentagem de casquinhas que conterão mais de 90g de sorvete?\n",
    "\n",
    "a) 26,6 % <br>\n",
    "__b) 10,6 %__ <br>\n",
    "d) 50,0 % <br>\n",
    "c) 73,4 % <br>\n",
    "e) 89,4 % <br>"
   ]
  },
  {
   "cell_type": "markdown",
   "id": "47975331",
   "metadata": {
    "id": "47975331"
   },
   "source": [
    "### Resolução"
   ]
  },
  {
   "cell_type": "markdown",
   "id": "50fa08b5",
   "metadata": {
    "id": "50fa08b5"
   },
   "source": [
    "$$\n",
    "P(X \\geq 90) = P\\left( \\frac{X-\\mu}{\\sigma}\\geq \\frac{90-\\mu}{\\sigma}\\right) = P\\left( Z \\geq \\frac{90-\\mu}{\\sigma}\\right) = 1 - P\\left( Z < \\frac{90-\\mu}{\\sigma}\\right)\n",
    "$$"
   ]
  },
  {
   "cell_type": "code",
   "execution_count": 7,
   "id": "d69446c2",
   "metadata": {
    "ExecuteTime": {
     "end_time": "2021-11-08T22:37:36.446033Z",
     "start_time": "2021-11-08T22:37:35.477689Z"
    },
    "id": "d69446c2",
    "outputId": "d4d4a3c6-06b3-4cc5-8813-aa4a2240f4db"
   },
   "outputs": [
    {
     "name": "stdout",
     "output_type": "stream",
     "text": [
      "10.564977366685536 %\n"
     ]
    }
   ],
   "source": [
    "import scipy.stats as st\n",
    "\n",
    "media = 80\n",
    "\n",
    "std = 8\n",
    "\n",
    "z = (90-media)/std\n",
    "\n",
    "print((1-st.norm.cdf(z))*100,'%')"
   ]
  },
  {
   "cell_type": "markdown",
   "id": "15b3b807",
   "metadata": {
    "id": "15b3b807"
   },
   "source": [
    "__8)__ O tempo para fabricar um perfume em uma empresa é descrito por uma variável aleatória X, medida em horas, com distribuição normal de média $\\mu$ = 7 e desvio padrão $\\sigma$ = 2. Qual a probabilidade de que um perfume será finalizado entre 4 e 11 horas?\n",
    "\n",
    "__a) 91,0 %__ <br>\n",
    "b) 93,4 % <br>\n",
    "c) 2,3 % <br>\n",
    "d) 97,7 % <br>\n",
    "e) 9,0 % <br>"
   ]
  },
  {
   "cell_type": "markdown",
   "id": "50f17873",
   "metadata": {
    "id": "50f17873"
   },
   "source": [
    "### Resolução"
   ]
  },
  {
   "cell_type": "markdown",
   "id": "bb57e681",
   "metadata": {
    "id": "bb57e681"
   },
   "source": [
    "$$\n",
    "P(4 \\leq X \\leq 11) = P\\left(\\frac{4-\\mu}{\\sigma} \\leq \\frac{X-\\mu}{\\sigma} \\leq \\frac{11-\\mu}{\\sigma}\\right)=P\\left(\\frac{4-\\mu}{\\sigma} \\leq Z \\leq \\frac{11-\\mu}{\\sigma}\\right) = \n",
    "$$\n",
    "$$\n",
    "= P\\left(Z \\leq \\frac{11-\\mu}{\\sigma}\\right)-P\\left( Z \\leq \\frac{4-\\mu}{\\sigma}\\right)\n",
    "$$"
   ]
  },
  {
   "cell_type": "code",
   "execution_count": 8,
   "id": "3888508d",
   "metadata": {
    "ExecuteTime": {
     "end_time": "2021-11-08T22:40:55.949607Z",
     "start_time": "2021-11-08T22:40:55.935643Z"
    },
    "id": "3888508d",
    "outputId": "aed80b83-1424-4705-fcf3-47649cb1f665"
   },
   "outputs": [
    {
     "name": "stdout",
     "output_type": "stream",
     "text": [
      "Z - Score para 30 dias:  -1.5\n",
      "Z - Score para 40 dias:  2.0\n",
      "Probabilidade         :  0.9104426667829627\n"
     ]
    }
   ],
   "source": [
    "# função para calcular a probabilidade a partir do Z Score\n",
    "import scipy.stats as st\n",
    "\n",
    "# Média\n",
    "mu = 7\n",
    "\n",
    "# Desvio Padrão\n",
    "sigma = 2\n",
    "\n",
    "# Calculando Z1 para 40 dias\n",
    "z1 = (4 - mu)/sigma\n",
    "\n",
    "# Calculando Z2 para 45 dias\n",
    "z2 = (11 - mu)/sigma\n",
    "\n",
    "# Print do Z Score e da probabilidade\n",
    "print('Z - Score para 30 dias: ', z1)\n",
    "print('Z - Score para 40 dias: ', z2)\n",
    "print('Probabilidade         : ', st.norm.cdf(z2) - st.norm.cdf(z1))"
   ]
  },
  {
   "cell_type": "markdown",
   "id": "17e930d9",
   "metadata": {
    "id": "17e930d9"
   },
   "source": [
    "## "
   ]
  },
  {
   "cell_type": "markdown",
   "id": "fe78f648",
   "metadata": {
    "id": "fe78f648"
   },
   "source": [
    "### Amostragem"
   ]
  },
  {
   "cell_type": "markdown",
   "id": "3d7d1fe9",
   "metadata": {
    "id": "3d7d1fe9"
   },
   "source": [
    "__9)__ Dados os tipos de amostragem e as definições dos mesmos, assinale a alternativa que indique cada tipo de amostragem com a respectiva definição:\n",
    "\n",
    "Tipos de Amostragem:\n",
    "\n",
    "1 - Amostragem Aleatória Simples\n",
    "2 - Amostragem Estratificada\n",
    "3 - Amostragem por Conglomerado\n",
    "\n",
    "Definições:\n",
    "\n",
    "I - Método de amostragem onde a população é dividida em grupos (estratos) segundo algumas características conhecidas sobre a população em estudo;\n",
    "\n",
    "II - Método de amostragem que divide em subpopulações (conglomerados), onde escolhem aleatoriamente por amostragem simples as subpopulações e todos os elementos de uma subpopulação irão fazer parte da amostra;\n",
    "\n",
    "III - Método de amostragem mais simples onde serão escolhidos aleatoriamente elementos com ou sem reposição.\n",
    "\n",
    "a) 1-II, 2-I, 3-III  <br>\n",
    "b) 1-III, 2-II, 3-I  <br>\n",
    "c) 1-II, 2-III, 3-I  <br>\n",
    "__d) 1-III, 2-I, 3-II__  <br>\n",
    "e) 1-I, 2-II, 3-III"
   ]
  },
  {
   "cell_type": "markdown",
   "id": "d9911fce",
   "metadata": {
    "id": "d9911fce"
   },
   "source": [
    "## "
   ]
  },
  {
   "cell_type": "markdown",
   "id": "eceaab61",
   "metadata": {
    "id": "eceaab61"
   },
   "source": [
    "### Teste de Hipóteses"
   ]
  },
  {
   "cell_type": "markdown",
   "id": "8b779de2",
   "metadata": {
    "id": "8b779de2"
   },
   "source": [
    "__10)__ Uma fabricante de refrigerante anunciou que o índice de cafeína do seu refrigerante de cola  é igual 35mg por lata. Um laboratório realizou 20 análises do índice de cafeína obtendo os resultados (37, 34, 36, 37, 35, 32, 30, 35, 34, 36, 39, 38, 34, 35, 31, 30, 33, 35, 36, 31). Sabe-se que o índice de cafeína do refrigerante de cola dessa marca se distribui normalmente com variância igual a 4. Responda respectivamente a conclusão sobre o teste e o valor crítico para este teste com nível de significância de 5%. Utilize da suposição que queremos identificar se a média de cafeína caso não seja 35mg, seja maior que esse valor (caso unicaudal do teste)\n",
    "\n",
    "a) Aceita H0, X_critico = 34,40 mg <br>\n",
    "b) Rejeita H0, X_critico = 35,74 mg <br>\n",
    "c) Rejeita H0, X_critico = 34,40 mg <br>\n",
    "__d) Aceita H0, X_critico = 35,74 mg__ <br>"
   ]
  },
  {
   "cell_type": "markdown",
   "id": "48feb070",
   "metadata": {
    "id": "48feb070"
   },
   "source": [
    "### Resolução"
   ]
  },
  {
   "cell_type": "markdown",
   "id": "ac09328a",
   "metadata": {
    "id": "ac09328a"
   },
   "source": [
    "Temos como hipótese $H_0$ se $\\overline{X}_{obs} = \\overline{X}_{crítico}$ e hipótese $H_1$ como $\\overline{X}_{obs} > \\overline{X}_{crítico}$. Vamos fazer o teste de hipótese para saber se aceitamos ou rejeitámos $H_0$:\n",
    "\n",
    "$$\n",
    "P(Z < \\frac{\\overline{X}_{crítico}-\\mu}{\\frac{\\sigma}{\\sqrt{n}}}  |  \\mu = 20) = 0,95\n",
    "$$\n",
    "\n",
    "<br>\n",
    "\n",
    "$$\n",
    "\\frac{\\overline{X}_{crítico} - 35}{\\frac{\\sqrt{4}}{\\sqrt{20}}} = 1,645\n",
    "$$\n",
    "\n",
    "<br>\n",
    "\n",
    "$$\n",
    "\\overline{X}_{critico} = 35 + \\frac{1,645 * 2}{\\sqrt{20}} = 35,74 mg\n",
    "$$"
   ]
  },
  {
   "cell_type": "code",
   "execution_count": null,
   "id": "c102d6c4",
   "metadata": {
    "id": "c102d6c4",
    "outputId": "4ba69d40-1f10-4eea-bca7-8774a0bf8f7a"
   },
   "outputs": [
    {
     "name": "stdout",
     "output_type": "stream",
     "text": [
      "Valor médio das observações:  34.4\n"
     ]
    }
   ],
   "source": [
    "X = [37, 34, 36, 37, 35, 32, 30, 35, 34, 36, 39, 38, 34, 35, 31, 30, 33, 35, 36, 31]\n",
    "\n",
    "print(\"Valor médio das observações: \", np.mean(X))"
   ]
  },
  {
   "cell_type": "markdown",
   "id": "ec7821c0",
   "metadata": {
    "id": "ec7821c0"
   },
   "source": [
    "Como a média das observações é menor que o valor crítico, então aceitamos H0."
   ]
  },
  {
   "cell_type": "code",
   "execution_count": null,
   "id": "cc120043",
   "metadata": {
    "id": "cc120043"
   },
   "outputs": [],
   "source": []
  }
 ],
 "metadata": {
  "colab": {
   "collapsed_sections": [],
   "name": "Prova - Módulo Estatística-v1.ipynb",
   "provenance": []
  },
  "kernelspec": {
   "display_name": "Python 3 (ipykernel)",
   "language": "python",
   "name": "python3"
  },
  "language_info": {
   "codemirror_mode": {
    "name": "ipython",
    "version": 3
   },
   "file_extension": ".py",
   "mimetype": "text/x-python",
   "name": "python",
   "nbconvert_exporter": "python",
   "pygments_lexer": "ipython3",
   "version": "3.9.7"
  },
  "varInspector": {
   "cols": {
    "lenName": 16,
    "lenType": 16,
    "lenVar": 40
   },
   "kernels_config": {
    "python": {
     "delete_cmd_postfix": "",
     "delete_cmd_prefix": "del ",
     "library": "var_list.py",
     "varRefreshCmd": "print(var_dic_list())"
    },
    "r": {
     "delete_cmd_postfix": ") ",
     "delete_cmd_prefix": "rm(",
     "library": "var_list.r",
     "varRefreshCmd": "cat(var_dic_list()) "
    }
   },
   "types_to_exclude": [
    "module",
    "function",
    "builtin_function_or_method",
    "instance",
    "_Feature"
   ],
   "window_display": false
  }
 },
 "nbformat": 4,
 "nbformat_minor": 5
}
