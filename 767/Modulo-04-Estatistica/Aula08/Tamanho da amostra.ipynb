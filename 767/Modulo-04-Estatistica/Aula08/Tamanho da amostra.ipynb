{
 "cells": [
  {
   "cell_type": "markdown",
   "id": "a3b42095",
   "metadata": {},
   "source": [
    "# Tamanho da amostra"
   ]
  },
  {
   "cell_type": "markdown",
   "id": "b16008b1",
   "metadata": {},
   "source": [
    "### Cálculo do tamanho amostral baseado na estimativa da média populacional\n",
    "\n",
    "#### População Infinita\n",
    "\n",
    "Uma população é considerada infinita quando seu tamanho é muito grande.\n",
    "\n",
    "Ao realizar o cálculo do tamanho da amostra $n$, deve-se levar em consideração o erro $\\epsilon$ máximo que deseja-se assumir (ao estimar a função paramétrica) e o nível de confiança do resultado (probabilidade). Sendo assim, o problema consiste em determinar $n$ de forma que:\n",
    "\n",
    "$$P(\\mid \\overline{X} - \\mu \\mid \\leq \\epsilon) \\simeq 1 - \\alpha $$\n",
    "\n",
    "Mas pelo Teorema Central do Limite, a equação acima pode ser reescrita como:\n",
    "\n",
    "$$P \\left(\\mid \\overline{X} - \\mu \\mid \\leq z_{\\alpha/2}\\frac{\\sigma}{\\sqrt{n}} \\right) \\simeq 1 - \\alpha $$\n",
    "\n",
    "Sendo assim, dados um erro máximo e nível de confiança, calcular o tamanho amostral consiste em:\n",
    "\n",
    "$$ z_{\\alpha/2}\\frac{\\sigma}{\\sqrt{n}} = \\epsilon  \\Longrightarrow n = \\left(\\frac{z_{\\alpha/2}\\sigma}{\\epsilon }\\right) ^2 $$\n",
    "\n",
    "#### População Finita\n",
    "\n",
    "No caso em que o tamanho populacional não é tão grande, a consideramos finita. **Caso a amostra tenha um tamanho $n$ maior ou igual a 5% do tamanho da população $N$, considera-se que a população é finita**. Neste caso, aplica-se um fator de correção à fórmula vista anteriormente:\n",
    "\n",
    "$$n = \\frac{N (z_{\\alpha/2}\\sigma)^2}{(N-1)\\epsilon^2 + (z_{\\alpha/2}\\sigma)^2 }$$\n",
    "\n",
    "#### Principais níveis de confiança usados\n",
    "\n",
    "<table>\n",
    "    <th style=\"text-align: center; border: 1px solid black\">Grau de Confiança</th>\n",
    "    <th style=\"text-align: center; border: 1px solid black\">$\\alpha$</th>\n",
    "    <th style=\"text-align: center; border: 1px solid black\">$z_{\\alpha/2}$</th>\n",
    "    <tr style=\" border: 1px solid black\">\n",
    "        <td style=\"text-align: center; border: 1px solid black\">90%</td>\n",
    "        <td style=\"text-align: center; border: 1px solid black\">0,10</td>\n",
    "        <td style=\"text-align: center; border: 1px solid black\">1,645</td>\n",
    "    </tr>\n",
    "    <tr style=\"text-align: center; border: 1px solid black\">\n",
    "        <td style=\"text-align: center; border: 1px solid black\">95%</td>\n",
    "        <td style=\"text-align: center; border: 1px solid black\">0,05</td>\n",
    "        <td style=\"text-align: center; border: 1px solid black\">1,96</td>\n",
    "    </tr>\n",
    "    <tr style=\"text-align: center; border: 1px solid black\">\n",
    "        <td style=\"text-align: center; border: 1px solid black\">99%</td>\n",
    "        <td style=\"text-align: center; border: 1px solid black\">0,01</td>\n",
    "        <td style=\"text-align: center; border: 1px solid black\">2,575</td>\n",
    "    </tr>\n",
    "</table>\n",
    "\n",
    "\n",
    "#### Variância populacional desconhecida\n",
    "\n",
    "No caso em que a variância populacional é desconhecida, pode-se realizar uma amostragem aleatória preliminar (ao menos 30 elementos) para estimar a variancia amostral e usa-la na equaçao acima.\n",
    "\n",
    "$$\\widehat{\\sigma^2} = s^2 = \\frac{\\sum_{i=1}^{n}(x_i -\\overline{X})^2}{N-1} $$\n",
    "* Vamos conferir depois"
   ]
  },
  {
   "cell_type": "code",
   "execution_count": 6,
   "id": "3365d538",
   "metadata": {
    "ExecuteTime": {
     "end_time": "2021-10-25T22:39:22.883500Z",
     "start_time": "2021-10-25T22:39:22.860568Z"
    }
   },
   "outputs": [],
   "source": [
    "# Importação das bibliotecas\n",
    "import numpy as np\n",
    "import pandas as pd\n",
    "import matplotlib.pyplot as plt\n",
    "import seaborn as sns\n",
    "from scipy.stats import norm\n",
    "\n",
    "\n",
    "sns.set()"
   ]
  },
  {
   "cell_type": "code",
   "execution_count": 2,
   "id": "e473b806",
   "metadata": {
    "ExecuteTime": {
     "end_time": "2021-10-25T22:33:58.756664Z",
     "start_time": "2021-10-25T22:33:58.241044Z"
    }
   },
   "outputs": [],
   "source": [
    "# PNAD - Pesquisa Nacional por Amostra de Domicílios\n",
    "\n",
    "df = pd.read_csv('https://raw.githubusercontent.com/renatapink/DSdegree/master/Modulo4/Aula06/PNAD%20-%202015.csv')"
   ]
  },
  {
   "cell_type": "code",
   "execution_count": 3,
   "id": "57b70177",
   "metadata": {
    "ExecuteTime": {
     "end_time": "2021-10-25T22:34:43.859380Z",
     "start_time": "2021-10-25T22:34:43.816497Z"
    }
   },
   "outputs": [
    {
     "data": {
      "text/html": [
       "<div>\n",
       "<style scoped>\n",
       "    .dataframe tbody tr th:only-of-type {\n",
       "        vertical-align: middle;\n",
       "    }\n",
       "\n",
       "    .dataframe tbody tr th {\n",
       "        vertical-align: top;\n",
       "    }\n",
       "\n",
       "    .dataframe thead th {\n",
       "        text-align: right;\n",
       "    }\n",
       "</style>\n",
       "<table border=\"1\" class=\"dataframe\">\n",
       "  <thead>\n",
       "    <tr style=\"text-align: right;\">\n",
       "      <th></th>\n",
       "      <th>UF</th>\n",
       "      <th>Sexo</th>\n",
       "      <th>Idade</th>\n",
       "      <th>Cor</th>\n",
       "      <th>Anos de Estudo</th>\n",
       "      <th>Renda</th>\n",
       "      <th>Altura</th>\n",
       "    </tr>\n",
       "  </thead>\n",
       "  <tbody>\n",
       "    <tr>\n",
       "      <th>0</th>\n",
       "      <td>11</td>\n",
       "      <td>0</td>\n",
       "      <td>23</td>\n",
       "      <td>8</td>\n",
       "      <td>12</td>\n",
       "      <td>800</td>\n",
       "      <td>1.603808</td>\n",
       "    </tr>\n",
       "    <tr>\n",
       "      <th>1</th>\n",
       "      <td>11</td>\n",
       "      <td>1</td>\n",
       "      <td>23</td>\n",
       "      <td>2</td>\n",
       "      <td>12</td>\n",
       "      <td>1150</td>\n",
       "      <td>1.739790</td>\n",
       "    </tr>\n",
       "    <tr>\n",
       "      <th>2</th>\n",
       "      <td>11</td>\n",
       "      <td>1</td>\n",
       "      <td>35</td>\n",
       "      <td>8</td>\n",
       "      <td>15</td>\n",
       "      <td>880</td>\n",
       "      <td>1.760444</td>\n",
       "    </tr>\n",
       "    <tr>\n",
       "      <th>3</th>\n",
       "      <td>11</td>\n",
       "      <td>0</td>\n",
       "      <td>46</td>\n",
       "      <td>2</td>\n",
       "      <td>6</td>\n",
       "      <td>3500</td>\n",
       "      <td>1.783158</td>\n",
       "    </tr>\n",
       "    <tr>\n",
       "      <th>4</th>\n",
       "      <td>11</td>\n",
       "      <td>1</td>\n",
       "      <td>47</td>\n",
       "      <td>8</td>\n",
       "      <td>9</td>\n",
       "      <td>150</td>\n",
       "      <td>1.690631</td>\n",
       "    </tr>\n",
       "  </tbody>\n",
       "</table>\n",
       "</div>"
      ],
      "text/plain": [
       "   UF  Sexo  Idade  Cor  Anos de Estudo  Renda    Altura\n",
       "0  11     0     23    8              12    800  1.603808\n",
       "1  11     1     23    2              12   1150  1.739790\n",
       "2  11     1     35    8              15    880  1.760444\n",
       "3  11     0     46    2               6   3500  1.783158\n",
       "4  11     1     47    8               9    150  1.690631"
      ]
     },
     "execution_count": 3,
     "metadata": {},
     "output_type": "execute_result"
    }
   ],
   "source": [
    "df.head()"
   ]
  },
  {
   "cell_type": "markdown",
   "id": "f3f7428b",
   "metadata": {},
   "source": [
    "**Exemplo**\n",
    "\n",
    "Estamos estudando o rendimento mensal dos chefes de domicílios no Brasil. Nosso supervisor determinou que o **erro máximo em relação a média seja de R$\\$$ 100,00**. Sabemos que o **desvio padrão populacional** deste grupo de trabalhadores é de **R$\\$$ 3.323,39**. Para um **nível de confiança de 95%**, qual deve ser o tamanho da amostra de nosso estudo?"
   ]
  },
  {
   "cell_type": "markdown",
   "id": "077859b1",
   "metadata": {},
   "source": [
    "$$  n = \\left(\\frac{z_{\\alpha/2}\\sigma}{\\epsilon }\\right) ^2 $$"
   ]
  },
  {
   "cell_type": "code",
   "execution_count": 8,
   "id": "071c158a",
   "metadata": {
    "ExecuteTime": {
     "end_time": "2021-10-25T22:40:51.001975Z",
     "start_time": "2021-10-25T22:40:50.989009Z"
    }
   },
   "outputs": [],
   "source": [
    "erro_maximo = 100\n",
    "\n",
    "confianca = 0.95\n",
    "\n",
    "significancia = 1 - confianca\n",
    "\n",
    "sigma = 3323.39 #desvio padãro populacional"
   ]
  },
  {
   "cell_type": "code",
   "execution_count": 7,
   "id": "599fc466",
   "metadata": {
    "ExecuteTime": {
     "end_time": "2021-10-25T22:39:32.809451Z",
     "start_time": "2021-10-25T22:39:32.781526Z"
    }
   },
   "outputs": [
    {
     "data": {
      "text/plain": [
       "1.959963984540054"
      ]
     },
     "execution_count": 7,
     "metadata": {},
     "output_type": "execute_result"
    }
   ],
   "source": [
    "# para calcular o z_alpha_2 -> from scipy.stats import norm\n",
    "\n",
    "z_alpha_2 = norm.ppf(confianca + significancia / 2)\n",
    "z_alpha_2"
   ]
  },
  {
   "cell_type": "code",
   "execution_count": 9,
   "id": "99932ddb",
   "metadata": {
    "ExecuteTime": {
     "end_time": "2021-10-25T22:41:32.392714Z",
     "start_time": "2021-10-25T22:41:32.372768Z"
    }
   },
   "outputs": [
    {
     "data": {
      "text/plain": [
       "4242.860955311813"
      ]
     },
     "execution_count": 9,
     "metadata": {},
     "output_type": "execute_result"
    }
   ],
   "source": [
    "n = (z_alpha_2 * sigma / erro_maximo)**2\n",
    "n"
   ]
  },
  {
   "cell_type": "code",
   "execution_count": 10,
   "id": "f59b4b58",
   "metadata": {
    "ExecuteTime": {
     "end_time": "2021-10-25T22:42:25.283239Z",
     "start_time": "2021-10-25T22:42:25.274264Z"
    }
   },
   "outputs": [
    {
     "data": {
      "text/plain": [
       "4243"
      ]
     },
     "execution_count": 10,
     "metadata": {},
     "output_type": "execute_result"
    }
   ],
   "source": [
    "# número inteiro\n",
    "int(round(n))"
   ]
  },
  {
   "cell_type": "markdown",
   "id": "cdd8585f",
   "metadata": {},
   "source": [
    "Preciso de **4243** observações para chegar ao erro máximo de 100 reais"
   ]
  },
  {
   "cell_type": "code",
   "execution_count": 11,
   "id": "e9419099",
   "metadata": {
    "ExecuteTime": {
     "end_time": "2021-10-25T22:45:10.071120Z",
     "start_time": "2021-10-25T22:45:10.055163Z"
    }
   },
   "outputs": [
    {
     "data": {
      "text/plain": [
       "2000.3831988547631"
      ]
     },
     "execution_count": 11,
     "metadata": {},
     "output_type": "execute_result"
    }
   ],
   "source": [
    "# Vamos verificar se é verdade:\n",
    "\n",
    "df['Renda'].mean() # média populacional mu"
   ]
  },
  {
   "cell_type": "code",
   "execution_count": 12,
   "id": "04c677ca",
   "metadata": {
    "ExecuteTime": {
     "end_time": "2021-10-25T22:45:39.462587Z",
     "start_time": "2021-10-25T22:45:39.431670Z"
    }
   },
   "outputs": [
    {
     "data": {
      "text/plain": [
       "3323.3877303470294"
      ]
     },
     "execution_count": 12,
     "metadata": {},
     "output_type": "execute_result"
    }
   ],
   "source": [
    "df['Renda'].std() # desvio padrão da população"
   ]
  },
  {
   "cell_type": "code",
   "execution_count": 15,
   "id": "8bf3b616",
   "metadata": {
    "ExecuteTime": {
     "end_time": "2021-10-25T22:47:34.538341Z",
     "start_time": "2021-10-25T22:47:34.477495Z"
    }
   },
   "outputs": [
    {
     "data": {
      "text/html": [
       "<div>\n",
       "<style scoped>\n",
       "    .dataframe tbody tr th:only-of-type {\n",
       "        vertical-align: middle;\n",
       "    }\n",
       "\n",
       "    .dataframe tbody tr th {\n",
       "        vertical-align: top;\n",
       "    }\n",
       "\n",
       "    .dataframe thead th {\n",
       "        text-align: right;\n",
       "    }\n",
       "</style>\n",
       "<table border=\"1\" class=\"dataframe\">\n",
       "  <thead>\n",
       "    <tr style=\"text-align: right;\">\n",
       "      <th></th>\n",
       "      <th>UF</th>\n",
       "      <th>Sexo</th>\n",
       "      <th>Idade</th>\n",
       "      <th>Cor</th>\n",
       "      <th>Anos de Estudo</th>\n",
       "      <th>Renda</th>\n",
       "      <th>Altura</th>\n",
       "    </tr>\n",
       "  </thead>\n",
       "  <tbody>\n",
       "    <tr>\n",
       "      <th>13796</th>\n",
       "      <td>22</td>\n",
       "      <td>0</td>\n",
       "      <td>29</td>\n",
       "      <td>8</td>\n",
       "      <td>9</td>\n",
       "      <td>58</td>\n",
       "      <td>1.656076</td>\n",
       "    </tr>\n",
       "    <tr>\n",
       "      <th>25423</th>\n",
       "      <td>28</td>\n",
       "      <td>1</td>\n",
       "      <td>65</td>\n",
       "      <td>4</td>\n",
       "      <td>1</td>\n",
       "      <td>0</td>\n",
       "      <td>1.727131</td>\n",
       "    </tr>\n",
       "    <tr>\n",
       "      <th>16754</th>\n",
       "      <td>23</td>\n",
       "      <td>0</td>\n",
       "      <td>50</td>\n",
       "      <td>2</td>\n",
       "      <td>1</td>\n",
       "      <td>788</td>\n",
       "      <td>1.621185</td>\n",
       "    </tr>\n",
       "    <tr>\n",
       "      <th>25678</th>\n",
       "      <td>28</td>\n",
       "      <td>1</td>\n",
       "      <td>51</td>\n",
       "      <td>8</td>\n",
       "      <td>9</td>\n",
       "      <td>1130</td>\n",
       "      <td>1.787509</td>\n",
       "    </tr>\n",
       "    <tr>\n",
       "      <th>31420</th>\n",
       "      <td>29</td>\n",
       "      <td>1</td>\n",
       "      <td>61</td>\n",
       "      <td>8</td>\n",
       "      <td>5</td>\n",
       "      <td>0</td>\n",
       "      <td>1.660219</td>\n",
       "    </tr>\n",
       "    <tr>\n",
       "      <th>...</th>\n",
       "      <td>...</td>\n",
       "      <td>...</td>\n",
       "      <td>...</td>\n",
       "      <td>...</td>\n",
       "      <td>...</td>\n",
       "      <td>...</td>\n",
       "      <td>...</td>\n",
       "    </tr>\n",
       "    <tr>\n",
       "      <th>19591</th>\n",
       "      <td>25</td>\n",
       "      <td>1</td>\n",
       "      <td>35</td>\n",
       "      <td>8</td>\n",
       "      <td>10</td>\n",
       "      <td>788</td>\n",
       "      <td>1.812537</td>\n",
       "    </tr>\n",
       "    <tr>\n",
       "      <th>30174</th>\n",
       "      <td>29</td>\n",
       "      <td>0</td>\n",
       "      <td>37</td>\n",
       "      <td>4</td>\n",
       "      <td>10</td>\n",
       "      <td>900</td>\n",
       "      <td>1.762323</td>\n",
       "    </tr>\n",
       "    <tr>\n",
       "      <th>54496</th>\n",
       "      <td>35</td>\n",
       "      <td>0</td>\n",
       "      <td>32</td>\n",
       "      <td>8</td>\n",
       "      <td>5</td>\n",
       "      <td>800</td>\n",
       "      <td>1.658747</td>\n",
       "    </tr>\n",
       "    <tr>\n",
       "      <th>9682</th>\n",
       "      <td>16</td>\n",
       "      <td>1</td>\n",
       "      <td>43</td>\n",
       "      <td>8</td>\n",
       "      <td>5</td>\n",
       "      <td>788</td>\n",
       "      <td>1.707039</td>\n",
       "    </tr>\n",
       "    <tr>\n",
       "      <th>11595</th>\n",
       "      <td>21</td>\n",
       "      <td>0</td>\n",
       "      <td>77</td>\n",
       "      <td>8</td>\n",
       "      <td>1</td>\n",
       "      <td>200</td>\n",
       "      <td>1.583282</td>\n",
       "    </tr>\n",
       "  </tbody>\n",
       "</table>\n",
       "<p>4243 rows × 7 columns</p>\n",
       "</div>"
      ],
      "text/plain": [
       "       UF  Sexo  Idade  Cor  Anos de Estudo  Renda    Altura\n",
       "13796  22     0     29    8               9     58  1.656076\n",
       "25423  28     1     65    4               1      0  1.727131\n",
       "16754  23     0     50    2               1    788  1.621185\n",
       "25678  28     1     51    8               9   1130  1.787509\n",
       "31420  29     1     61    8               5      0  1.660219\n",
       "...    ..   ...    ...  ...             ...    ...       ...\n",
       "19591  25     1     35    8              10    788  1.812537\n",
       "30174  29     0     37    4              10    900  1.762323\n",
       "54496  35     0     32    8               5    800  1.658747\n",
       "9682   16     1     43    8               5    788  1.707039\n",
       "11595  21     0     77    8               1    200  1.583282\n",
       "\n",
       "[4243 rows x 7 columns]"
      ]
     },
     "execution_count": 15,
     "metadata": {},
     "output_type": "execute_result"
    }
   ],
   "source": [
    "# uma amostra\n",
    "amostra = df.sample(n=4243)\n",
    "amostra"
   ]
  },
  {
   "cell_type": "code",
   "execution_count": 16,
   "id": "c05a0400",
   "metadata": {
    "ExecuteTime": {
     "end_time": "2021-10-25T22:47:58.695710Z",
     "start_time": "2021-10-25T22:47:58.674764Z"
    }
   },
   "outputs": [
    {
     "data": {
      "text/plain": [
       "1994.0971011077067"
      ]
     },
     "execution_count": 16,
     "metadata": {},
     "output_type": "execute_result"
    }
   ],
   "source": [
    "media_amostral = amostra['Renda'].mean()\n",
    "media_amostral"
   ]
  },
  {
   "cell_type": "code",
   "execution_count": 18,
   "id": "97f9b121",
   "metadata": {
    "ExecuteTime": {
     "end_time": "2021-10-25T22:49:33.242150Z",
     "start_time": "2021-10-25T22:49:33.217212Z"
    }
   },
   "outputs": [
    {
     "data": {
      "text/plain": [
       "99.99993170669197"
      ]
     },
     "execution_count": 18,
     "metadata": {},
     "output_type": "execute_result"
    }
   ],
   "source": [
    "erro = (z_alpha_2 * df['Renda'].std() /np.sqrt(n))\n",
    "erro"
   ]
  },
  {
   "cell_type": "code",
   "execution_count": 19,
   "id": "7bcb0020",
   "metadata": {
    "ExecuteTime": {
     "end_time": "2021-10-25T22:49:59.544236Z",
     "start_time": "2021-10-25T22:49:59.523292Z"
    }
   },
   "outputs": [
    {
     "data": {
      "text/plain": [
       "(1894.0971694010148, 2094.0970328143985)"
      ]
     },
     "execution_count": 19,
     "metadata": {},
     "output_type": "execute_result"
    }
   ],
   "source": [
    "(media_amostral - erro, media_amostral + erro)"
   ]
  },
  {
   "cell_type": "markdown",
   "id": "12a071d6",
   "metadata": {},
   "source": [
    "Estamos estudando o **rendimento mensal dos chefes de domicílios com renda até R\\\\$ 5.000,00 no Brasil**. Nosso supervisor determinou que o **erro máximo em relação a média seja de R\\\\$ 10,00**. Sabemos que o **desvio padrão populacional** deste grupo de trabalhadores é de **R\\\\$ 1.082,79** e que a **média populacional** é de **R\\\\$ 1.426,54**. Para um **nível de confiança de 95%**, qual deve ser o tamanho da amostra de nosso estudo? Qual o intervalo de confiança para a média considerando o tamanho de amostra obtido?"
   ]
  },
  {
   "cell_type": "code",
   "execution_count": 20,
   "id": "ead808b9",
   "metadata": {
    "ExecuteTime": {
     "end_time": "2021-10-25T22:52:52.420903Z",
     "start_time": "2021-10-25T22:52:52.406424Z"
    }
   },
   "outputs": [],
   "source": [
    "erro_maximo = 10\n",
    "sigma = 1082.79\n",
    "media_populacional = 1426.54\n",
    "confianca = 0.95\n",
    "significancia = 1 - confianca"
   ]
  },
  {
   "cell_type": "code",
   "execution_count": 21,
   "id": "b62e59e9",
   "metadata": {
    "ExecuteTime": {
     "end_time": "2021-10-25T22:53:19.224679Z",
     "start_time": "2021-10-25T22:53:19.195754Z"
    }
   },
   "outputs": [
    {
     "data": {
      "text/plain": [
       "1.959963984540054"
      ]
     },
     "execution_count": 21,
     "metadata": {},
     "output_type": "execute_result"
    }
   ],
   "source": [
    "z_alpha_2 = norm.ppf(confianca + significancia /2)\n",
    "z_alpha_2"
   ]
  },
  {
   "cell_type": "code",
   "execution_count": 23,
   "id": "435fd6eb",
   "metadata": {
    "ExecuteTime": {
     "end_time": "2021-10-25T22:53:48.189538Z",
     "start_time": "2021-10-25T22:53:48.173580Z"
    }
   },
   "outputs": [
    {
     "data": {
      "text/plain": [
       "45038.57638194264"
      ]
     },
     "execution_count": 23,
     "metadata": {},
     "output_type": "execute_result"
    }
   ],
   "source": [
    "n = (z_alpha_2 * sigma / erro_maximo)**2\n",
    "n"
   ]
  },
  {
   "cell_type": "code",
   "execution_count": 24,
   "id": "2c8a7ebc",
   "metadata": {
    "ExecuteTime": {
     "end_time": "2021-10-25T22:54:00.038840Z",
     "start_time": "2021-10-25T22:54:00.027870Z"
    }
   },
   "outputs": [
    {
     "data": {
      "text/plain": [
       "45039"
      ]
     },
     "execution_count": 24,
     "metadata": {},
     "output_type": "execute_result"
    }
   ],
   "source": [
    "int(round(n))"
   ]
  },
  {
   "cell_type": "code",
   "execution_count": 25,
   "id": "a4271da6",
   "metadata": {
    "ExecuteTime": {
     "end_time": "2021-10-25T22:55:11.602173Z",
     "start_time": "2021-10-25T22:55:11.585208Z"
    }
   },
   "outputs": [],
   "source": [
    "# se o nível de confiança fosse 99%\n",
    "erro_maximo = 10\n",
    "sigma = 1082.79\n",
    "media_populacional = 1426.54\n",
    "confianca = 0.99\n",
    "significancia = 1 - confianca"
   ]
  },
  {
   "cell_type": "code",
   "execution_count": 26,
   "id": "a79986be",
   "metadata": {
    "ExecuteTime": {
     "end_time": "2021-10-25T22:55:17.206690Z",
     "start_time": "2021-10-25T22:55:17.179771Z"
    }
   },
   "outputs": [
    {
     "data": {
      "text/plain": [
       "2.5758293035489004"
      ]
     },
     "execution_count": 26,
     "metadata": {},
     "output_type": "execute_result"
    }
   ],
   "source": [
    "z_alpha_2 = norm.ppf(confianca + significancia /2)\n",
    "z_alpha_2"
   ]
  },
  {
   "cell_type": "code",
   "execution_count": 27,
   "id": "c1502778",
   "metadata": {
    "ExecuteTime": {
     "end_time": "2021-10-25T22:55:28.522425Z",
     "start_time": "2021-10-25T22:55:28.502496Z"
    }
   },
   "outputs": [
    {
     "data": {
      "text/plain": [
       "77789.79583006167"
      ]
     },
     "execution_count": 27,
     "metadata": {},
     "output_type": "execute_result"
    }
   ],
   "source": [
    "n = (z_alpha_2 * sigma / erro_maximo)**2\n",
    "n"
   ]
  },
  {
   "cell_type": "code",
   "execution_count": 28,
   "id": "d42c6066",
   "metadata": {
    "ExecuteTime": {
     "end_time": "2021-10-25T22:55:35.464437Z",
     "start_time": "2021-10-25T22:55:35.443488Z"
    }
   },
   "outputs": [
    {
     "data": {
      "text/plain": [
       "77790"
      ]
     },
     "execution_count": 28,
     "metadata": {},
     "output_type": "execute_result"
    }
   ],
   "source": [
    "int(round(n))"
   ]
  },
  {
   "cell_type": "code",
   "execution_count": 30,
   "id": "0a562b6c",
   "metadata": {
    "ExecuteTime": {
     "end_time": "2021-10-25T22:59:14.019423Z",
     "start_time": "2021-10-25T22:59:13.997482Z"
    }
   },
   "outputs": [
    {
     "data": {
      "text/plain": [
       "(76840, 7)"
      ]
     },
     "execution_count": 30,
     "metadata": {},
     "output_type": "execute_result"
    }
   ],
   "source": [
    "# Considerando uma população finita\n",
    "df.shape"
   ]
  },
  {
   "cell_type": "code",
   "execution_count": 31,
   "id": "1f01db38",
   "metadata": {
    "ExecuteTime": {
     "end_time": "2021-10-25T23:00:07.361469Z",
     "start_time": "2021-10-25T23:00:07.328555Z"
    }
   },
   "outputs": [
    {
     "data": {
      "text/plain": [
       "(72109, 7)"
      ]
     },
     "execution_count": 31,
     "metadata": {},
     "output_type": "execute_result"
    }
   ],
   "source": [
    "df[df['Renda']<= 5000].shape"
   ]
  },
  {
   "cell_type": "code",
   "execution_count": 33,
   "id": "5ecc3758",
   "metadata": {
    "ExecuteTime": {
     "end_time": "2021-10-25T23:01:07.363226Z",
     "start_time": "2021-10-25T23:01:07.341285Z"
    }
   },
   "outputs": [
    {
     "data": {
      "text/plain": [
       "72109"
      ]
     },
     "execution_count": 33,
     "metadata": {},
     "output_type": "execute_result"
    }
   ],
   "source": [
    "N = df[df['Renda']<= 5000].shape[0]\n",
    "N"
   ]
  },
  {
   "cell_type": "markdown",
   "id": "e823c11d",
   "metadata": {},
   "source": [
    "$$n = \\frac{N (z_{\\alpha/2}\\sigma)^2}{(N-1)\\epsilon^2 + (z_{\\alpha/2}\\sigma)^2 }$$"
   ]
  },
  {
   "cell_type": "code",
   "execution_count": 32,
   "id": "73737bc2",
   "metadata": {
    "ExecuteTime": {
     "end_time": "2021-10-25T23:00:47.848068Z",
     "start_time": "2021-10-25T23:00:47.834105Z"
    }
   },
   "outputs": [],
   "source": [
    "erro_maximo = 10\n",
    "sigma = 1082.79\n",
    "media_populacional = 1426.54\n",
    "confianca = 0.95\n",
    "significancia = 1 - confianca"
   ]
  },
  {
   "cell_type": "code",
   "execution_count": 34,
   "id": "394ec770",
   "metadata": {
    "ExecuteTime": {
     "end_time": "2021-10-25T23:01:32.327966Z",
     "start_time": "2021-10-25T23:01:32.314005Z"
    }
   },
   "outputs": [
    {
     "data": {
      "text/plain": [
       "1.959963984540054"
      ]
     },
     "execution_count": 34,
     "metadata": {},
     "output_type": "execute_result"
    }
   ],
   "source": [
    "z_alpha_2 = norm.ppf(confianca + significancia /2)\n",
    "z_alpha_2"
   ]
  },
  {
   "cell_type": "code",
   "execution_count": 35,
   "id": "fd195c84",
   "metadata": {
    "ExecuteTime": {
     "end_time": "2021-10-25T23:02:24.898772Z",
     "start_time": "2021-10-25T23:02:24.876831Z"
    }
   },
   "outputs": [
    {
     "data": {
      "text/plain": [
       "27723.274590089608"
      ]
     },
     "execution_count": 35,
     "metadata": {},
     "output_type": "execute_result"
    }
   ],
   "source": [
    "n = N * (z_alpha_2 * sigma) **2 / ((N-1)*erro_maximo**2 + (z_alpha_2*sigma)**2)\n",
    "n"
   ]
  },
  {
   "cell_type": "code",
   "execution_count": 36,
   "id": "c43696a4",
   "metadata": {
    "ExecuteTime": {
     "end_time": "2021-10-25T23:02:36.773769Z",
     "start_time": "2021-10-25T23:02:36.760804Z"
    }
   },
   "outputs": [
    {
     "data": {
      "text/plain": [
       "27723"
      ]
     },
     "execution_count": 36,
     "metadata": {},
     "output_type": "execute_result"
    }
   ],
   "source": [
    "int(round(n))"
   ]
  },
  {
   "cell_type": "markdown",
   "id": "4de1a61b",
   "metadata": {},
   "source": [
    "Considerando população finita, n = 27723 e considerando popluação infinita n = 45039"
   ]
  },
  {
   "attachments": {
    "image.png": {
     "image/png": "[encoded data removed]"
    }
   },
   "cell_type": "markdown",
   "id": "065715a6",
   "metadata": {},
   "source": [
    "![image.png](attachment:image.png)"
   ]
  },
  {
   "cell_type": "markdown",
   "id": "3ac8d6a1",
   "metadata": {},
   "source": [
    "Em um lote de **10.000 latas** de refrigerante foi realizada uma amostra aleatória simples de **500 latas** e foi obtido o **desvio padrão amostral do conteúdo das latas igual a 12 ml**. O fabricante estipula um **erro máximo sobre a média populacional de apenas 5 ml**. Para garantir um **nível de confiança de 95%** qual o tamanho de amostra deve ser selecionado para este estudo?\n",
    "$$n = \\frac{N (z_{\\alpha/2}\\sigma)^2}{(N-1)\\epsilon^2 + (z_{\\alpha/2}\\sigma)^2 }$$"
   ]
  },
  {
   "cell_type": "code",
   "execution_count": 37,
   "id": "49554430",
   "metadata": {
    "ExecuteTime": {
     "end_time": "2021-10-25T23:10:20.310264Z",
     "start_time": "2021-10-25T23:10:20.292308Z"
    }
   },
   "outputs": [],
   "source": [
    "N = 10000\n",
    "n = 500 #( 5% da população) -> usar população finita\n",
    "\n",
    "s = 12 #(desvio padrão amostral)\n",
    "\n",
    "erro_maximo = 5\n",
    "confianca = 0.95\n",
    "significancia = 1 - confianca"
   ]
  },
  {
   "cell_type": "code",
   "execution_count": 38,
   "id": "c1aa2d9d",
   "metadata": {
    "ExecuteTime": {
     "end_time": "2021-10-25T23:11:07.023250Z",
     "start_time": "2021-10-25T23:11:07.004295Z"
    }
   },
   "outputs": [
    {
     "data": {
      "text/plain": [
       "1.959963984540054"
      ]
     },
     "execution_count": 38,
     "metadata": {},
     "output_type": "execute_result"
    }
   ],
   "source": [
    "z_alpha_2 = norm.ppf(confianca + significancia/2)\n",
    "z_alpha_2"
   ]
  },
  {
   "cell_type": "markdown",
   "id": "8541faef",
   "metadata": {},
   "source": [
    "Como não temos o sigma, iremos usar\n",
    "$$\\widehat{\\sigma^2} = s^2$$"
   ]
  },
  {
   "cell_type": "code",
   "execution_count": 42,
   "id": "0731a9a7",
   "metadata": {
    "ExecuteTime": {
     "end_time": "2021-10-25T23:16:02.549436Z",
     "start_time": "2021-10-25T23:16:02.530494Z"
    }
   },
   "outputs": [
    {
     "data": {
      "text/plain": [
       "22.08015450019036"
      ]
     },
     "execution_count": 42,
     "metadata": {},
     "output_type": "execute_result"
    }
   ],
   "source": [
    "n = N * (z_alpha_2*s)**2 / ((N -1)*erro_maximo**2 + (z_alpha_2*s)**2)\n",
    "n"
   ]
  },
  {
   "cell_type": "code",
   "execution_count": 43,
   "id": "bb73acd3",
   "metadata": {
    "ExecuteTime": {
     "end_time": "2021-10-25T23:16:18.328772Z",
     "start_time": "2021-10-25T23:16:18.320793Z"
    }
   },
   "outputs": [
    {
     "data": {
      "text/plain": [
       "22"
      ]
     },
     "execution_count": 43,
     "metadata": {},
     "output_type": "execute_result"
    }
   ],
   "source": [
    "int(round(n))"
   ]
  },
  {
   "cell_type": "markdown",
   "id": "6d7d168c",
   "metadata": {},
   "source": [
    "Na era do big data, os princípios de amostragem aleatória continuam\n",
    "importantes quando são necessárias estimativas precisas. A seleção aleatória\n",
    "de dados pode reduzir o viés e produzir um conjunto de dados de maior\n",
    "qualidade do que os que resultariam apenas do uso dos dados\n",
    "convenientemente disponíveis. O conhecimento de diversas distribuições de\n",
    "amostragem e geração de dados nos permite quantificar potenciais erros em\n",
    "uma estimativa, os quais podem ser causados por variação aleatória. Ao\n",
    "mesmo tempo, o bootstrap (amostragem com reposição de um conjunto de\n",
    "dados observado) é um método “tamanho único” atraente para determinar\n",
    "possíveis erros em estimativas amostrais."
   ]
  },
  {
   "cell_type": "code",
   "execution_count": null,
   "id": "440ecf05",
   "metadata": {},
   "outputs": [],
   "source": []
  }
 ],
 "metadata": {
  "kernelspec": {
   "display_name": "Python 3 (ipykernel)",
   "language": "python",
   "name": "python3"
  },
  "language_info": {
   "codemirror_mode": {
    "name": "ipython",
    "version": 3
   },
   "file_extension": ".py",
   "mimetype": "text/x-python",
   "name": "python",
   "nbconvert_exporter": "python",
   "pygments_lexer": "ipython3",
   "version": "3.9.7"
  },
  "varInspector": {
   "cols": {
    "lenName": 16,
    "lenType": 16,
    "lenVar": 40
   },
   "kernels_config": {
    "python": {
     "delete_cmd_postfix": "",
     "delete_cmd_prefix": "del ",
     "library": "var_list.py",
     "varRefreshCmd": "print(var_dic_list())"
    },
    "r": {
     "delete_cmd_postfix": ") ",
     "delete_cmd_prefix": "rm(",
     "library": "var_list.r",
     "varRefreshCmd": "cat(var_dic_list()) "
    }
   },
   "types_to_exclude": [
    "module",
    "function",
    "builtin_function_or_method",
    "instance",
    "_Feature"
   ],
   "window_display": false
  }
 },
 "nbformat": 4,
 "nbformat_minor": 5
}
