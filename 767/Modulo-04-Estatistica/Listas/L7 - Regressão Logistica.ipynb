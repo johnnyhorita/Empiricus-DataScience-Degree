{
 "cells": [
  {
   "cell_type": "markdown",
   "metadata": {},
   "source": [
    "# Exercícios - Regressão Logística"
   ]
  },
  {
   "cell_type": "code",
   "execution_count": 2,
   "metadata": {},
   "outputs": [],
   "source": [
    "# Imports utilizados em todos os exercícios\n",
    "import pandas as pd\n",
    "import numpy as np\n",
    "import matplotlib.pyplot as plt\n",
    "import seaborn as sns\n",
    "from sklearn.model_selection import train_test_split\n",
    "from sklearn.preprocessing import StandardScaler\n",
    "from sklearn.linear_model import LogisticRegression\n",
    "from sklearn.metrics import classification_report\n",
    "from mlxtend.plotting import plot_confusion_matrix\n",
    "from sklearn.metrics import confusion_matrix\n",
    "\n",
    "# Import da biblioteca warnings para ignorar eventuais warnings\n",
    "import warnings\n",
    "warnings.filterwarnings('ignore')"
   ]
  },
  {
   "cell_type": "markdown",
   "metadata": {},
   "source": [
    "### Questão 1:\n",
    "\n",
    "Utilizando da base de dados _iris.csv_, desenvolva um modelo de classificação com a Regressão Logística para a identificação das espécies da flor. Crie uma `classification_report` e uma matriz de confusão para os dados de teste."
   ]
  },
  {
   "cell_type": "markdown",
   "metadata": {},
   "source": [
    "### Resolução:"
   ]
  },
  {
   "cell_type": "code",
   "execution_count": null,
   "metadata": {},
   "outputs": [],
   "source": []
  },
  {
   "cell_type": "markdown",
   "metadata": {},
   "source": [
    "### Questão 2:\n",
    "\n",
    "A partir da base de alunos indianos `Admission_Predict.csv`, utilize uma Regressão Logística para classificar quais alunos têm chance de admissão ou não. Para esse exercício será preciso construir a resposta para o modelo utilizando a variável `Chance of Admit` e para isso vamos testar dois cenários:\n",
    "\n",
    "__A)__ Utilize como critério para a construção da resposta, os alunos que tiveram chance de admissão maior que 50%;\n",
    "\n",
    "__B)__ Determine outra faixa de corte de acordo com a distribuição da chance de admissão dos alunos."
   ]
  },
  {
   "cell_type": "markdown",
   "metadata": {},
   "source": [
    "### Resolução:"
   ]
  },
  {
   "cell_type": "code",
   "execution_count": null,
   "metadata": {},
   "outputs": [],
   "source": []
  },
  {
   "cell_type": "markdown",
   "metadata": {},
   "source": [
    "### Questão 3:\n",
    "\n",
    "A base de dados `COVID.csv`, contém informações sobre os casos de COVID no México e apresenta as seguintes variáveis:\n",
    "\n",
    " - **id**: Identificação do paciente<br>\n",
    " - **sex**: Sexo do Paciente (0 - Homem / 1 - Mulher) <br>\n",
    " - **patient_type**: Se o paciente foi dispensado para casa (1) ou se foi internado (0) <br>\n",
    " - **intubed**: Seo paciente foi intubado ou não<br>\n",
    " - **pneumonia**: Se o paciente apresentou pneumonia ou não<br>\n",
    " - **age**: Idade do Paciente<br>\n",
    " - **pregnancy**: Se a paciente estava grávida ou não (para pacientes mulheres)<br>\n",
    " - **diabetes**: Se o paciente tem diabetes ou não<br>\n",
    " - **copd**: Se opaciente tem COPD ou não<br>\n",
    " - **asthma**: Se o paciente tem Asma ou não<br>\n",
    " - **inmsupr**: Se o paciente apresentou Imunosupressão ou não<br>\n",
    " - **hypertension**: Se o paciente tem hipertensão ou não<br>\n",
    " - **ohter_disease**: Se o paciente tem outras doenças ou não<br>\n",
    " - **cardiovascular**: Se o paciente tem doenças cardiácas ou não<br>\n",
    " - **obesity**: Se o paciente tem obesidade ou não<br>\n",
    " - **renal_chronic**: Se o paciente tem problemas renais ou não<br>\n",
    " - **tobacco**: Se o paciente é fumante ou não<br>\n",
    " - **contact_other_covid**: Se o paciente teve contato com outras pessoas diagnosticadas com covid<br>\n",
    " - **icu**: Se o paciente precisou ser internado na UTI<br>\n",
    " - **covid_res**: Se o resultado do teste foi Positivo ou Negativo<br>\n",
    " \n",
    " Iremos utilizar uma Regressão Logística para prever os casos de COVID e para desenvolva os itens abaixo:\n",
    " \n",
    " __A)__ Faça a preparação da base para o modelo;\n",
    " \n",
    " __Dica.:__ Observe que a base apresenta alguns dados faltantes, então faça o preenchimento desses dados e explique os critérios utilizados.\n",
    " \n",
    " __B)__ Desenvolva o modelo de Regressão Logística;\n",
    " \n",
    " __C)__ Para o caso do COVID, a classificação padrão da Regressão Logística é a mais adequada? (Ao aplicarmos o `predict`, o modelo vai calcular as probabilidade e para os casos maior que 0.5 ele atribui como da classe 1). Teste diferentes _thresholds_."
   ]
  },
  {
   "cell_type": "markdown",
   "metadata": {},
   "source": [
    "### Resolução:"
   ]
  },
  {
   "cell_type": "code",
   "execution_count": null,
   "metadata": {},
   "outputs": [],
   "source": []
  }
 ],
 "metadata": {
  "kernelspec": {
   "display_name": "Python 3 (ipykernel)",
   "language": "python",
   "name": "python3"
  },
  "language_info": {
   "codemirror_mode": {
    "name": "ipython",
    "version": 3
   },
   "file_extension": ".py",
   "mimetype": "text/x-python",
   "name": "python",
   "nbconvert_exporter": "python",
   "pygments_lexer": "ipython3",
   "version": "3.9.7"
  },
  "varInspector": {
   "cols": {
    "lenName": 16,
    "lenType": 16,
    "lenVar": 40
   },
   "kernels_config": {
    "python": {
     "delete_cmd_postfix": "",
     "delete_cmd_prefix": "del ",
     "library": "var_list.py",
     "varRefreshCmd": "print(var_dic_list())"
    },
    "r": {
     "delete_cmd_postfix": ") ",
     "delete_cmd_prefix": "rm(",
     "library": "var_list.r",
     "varRefreshCmd": "cat(var_dic_list()) "
    }
   },
   "types_to_exclude": [
    "module",
    "function",
    "builtin_function_or_method",
    "instance",
    "_Feature"
   ],
   "window_display": false
  }
 },
 "nbformat": 4,
 "nbformat_minor": 2
}
