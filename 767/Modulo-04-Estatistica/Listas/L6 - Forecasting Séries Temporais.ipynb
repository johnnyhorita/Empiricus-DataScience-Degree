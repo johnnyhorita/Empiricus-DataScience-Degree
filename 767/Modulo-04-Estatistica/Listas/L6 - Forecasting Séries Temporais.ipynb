{
 "cells": [
  {
   "cell_type": "markdown",
   "id": "e1cc4c11",
   "metadata": {},
   "source": [
    "# Exercícios - Forecasting Séries Temporais"
   ]
  },
  {
   "cell_type": "markdown",
   "id": "f163b6c0",
   "metadata": {},
   "source": [
    "### Questão 1"
   ]
  },
  {
   "cell_type": "markdown",
   "id": "f3487e2a",
   "metadata": {},
   "source": [
    "Com os dados do _dataset_ `airline_passengers.csv`, verifique utilizando o teste de Dickey-Fuller Aumentado a estacionaridade dos dados abaixo:\n",
    "\n",
    "__A)__ Dados originais do _dataset_;\n",
    "\n",
    "__B)__ Primeira Diferença dos Dados;\n",
    "\n",
    "__C)__ Segunda Diferença dos Dados."
   ]
  },
  {
   "cell_type": "markdown",
   "id": "5f672a58",
   "metadata": {},
   "source": [
    "### Resolução:"
   ]
  },
  {
   "cell_type": "code",
   "execution_count": null,
   "id": "de248eb2",
   "metadata": {},
   "outputs": [],
   "source": []
  },
  {
   "cell_type": "markdown",
   "id": "babc52dd",
   "metadata": {},
   "source": [
    "### Questão 2"
   ]
  },
  {
   "cell_type": "markdown",
   "id": "7e2b62b3",
   "metadata": {},
   "source": [
    "Uma forma de garantir a estacionariedade de uma série temporal, seria justamente aplicando transformações nas Séries temporais. Vamos utilizar a base de dados sobre o valor de fechamento do Starbucks do `starbucks.csv` e aplicar o teste de Dickey-Fuller Aumentado para os seguintes dados:\n",
    "\n",
    "__A)__ Dados Originais;\n",
    "\n",
    "__B)__ _log_ dos Dados;\n",
    "\n",
    "__C)__ Raiz Quadrada dos Dados;\n",
    "\n",
    "__D)__ Raiz Cúbica dos Dados;\n",
    "\n",
    "__E)__ Primeira Diferença dos Dados."
   ]
  },
  {
   "cell_type": "markdown",
   "id": "b9d48400",
   "metadata": {},
   "source": [
    "### Resolução:"
   ]
  },
  {
   "cell_type": "code",
   "execution_count": null,
   "id": "19c5c3fa",
   "metadata": {},
   "outputs": [],
   "source": []
  },
  {
   "cell_type": "markdown",
   "id": "46a2712a",
   "metadata": {},
   "source": [
    "### Questão 3"
   ]
  },
  {
   "cell_type": "markdown",
   "id": "2b7acaec",
   "metadata": {},
   "source": [
    "Utilizando a base de dados sobre a emissão de $CO_2$, obtido da própria biblioteca do _statsmodels_ a partir do código abaixo:\n",
    "\n",
    "```python\n",
    "import statsmodels.api as sm\n",
    "data = sm.datasets.co2.load_pandas()\n",
    "y = data.data\n",
    "\n",
    "```\n",
    "\n",
    "__A)__ Desenvolva um modelo SARIMA iterando os valores de (p, d, q) e (P, D, Q) sazonal, definindo  qual a melhor combinação de parâmetros para o modelo a partir do valor do AIC;\n",
    "\n",
    "__B)__ Treine o modelo com os melhores parâmetros e avalie o desempenho das previsões;\n",
    "\n",
    "__C)__ Faça 500 previsões futuras e plote o gráfico das previsões e o intervalo de confiança para elas."
   ]
  },
  {
   "cell_type": "markdown",
   "id": "c82c22a8",
   "metadata": {},
   "source": [
    "### Resolução:"
   ]
  },
  {
   "cell_type": "code",
   "execution_count": null,
   "id": "fbe8a25a",
   "metadata": {},
   "outputs": [],
   "source": []
  },
  {
   "cell_type": "markdown",
   "id": "bea3688d",
   "metadata": {},
   "source": [
    "### Questão 4"
   ]
  },
  {
   "cell_type": "markdown",
   "id": "b03a692c",
   "metadata": {},
   "source": [
    "Com o _dataset_ `covid_saopaulo.csv`, treine um modelo SARIMA com 90% dos dados e faça predições para avalair o desempenho do modelo.\n",
    "\n",
    "__Dica.:__ utilize a biblioteca `auto_arima` para fazer as iterações dos parâmetros do modelo SARIMA:\n",
    "        \n",
    "```python\n",
    "! pip install pmdarima\n",
    "from pmdarima import auto_arima\n",
    "\n",
    "```"
   ]
  },
  {
   "cell_type": "markdown",
   "id": "21c35b4e",
   "metadata": {},
   "source": [
    "### Resolução:"
   ]
  },
  {
   "cell_type": "code",
   "execution_count": null,
   "id": "4de0a2b7",
   "metadata": {},
   "outputs": [],
   "source": []
  }
 ],
 "metadata": {
  "kernelspec": {
   "display_name": "Python 3 (ipykernel)",
   "language": "python",
   "name": "python3"
  },
  "language_info": {
   "codemirror_mode": {
    "name": "ipython",
    "version": 3
   },
   "file_extension": ".py",
   "mimetype": "text/x-python",
   "name": "python",
   "nbconvert_exporter": "python",
   "pygments_lexer": "ipython3",
   "version": "3.9.7"
  },
  "varInspector": {
   "cols": {
    "lenName": 16,
    "lenType": 16,
    "lenVar": 40
   },
   "kernels_config": {
    "python": {
     "delete_cmd_postfix": "",
     "delete_cmd_prefix": "del ",
     "library": "var_list.py",
     "varRefreshCmd": "print(var_dic_list())"
    },
    "r": {
     "delete_cmd_postfix": ") ",
     "delete_cmd_prefix": "rm(",
     "library": "var_list.r",
     "varRefreshCmd": "cat(var_dic_list()) "
    }
   },
   "types_to_exclude": [
    "module",
    "function",
    "builtin_function_or_method",
    "instance",
    "_Feature"
   ],
   "window_display": false
  }
 },
 "nbformat": 4,
 "nbformat_minor": 5
}
