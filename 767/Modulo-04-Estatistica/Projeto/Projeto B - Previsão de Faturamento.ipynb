{
 "cells": [
  {
   "cell_type": "markdown",
   "id": "a7333695",
   "metadata": {},
   "source": [
    "# Módulo de estatística \n",
    "\n",
    "## Projeto B - Previsão do faturamento da empresa de acordo com os produtos"
   ]
  },
  {
   "cell_type": "markdown",
   "id": "bdf1f163",
   "metadata": {},
   "source": [
    "### Instruções"
   ]
  },
  {
   "cell_type": "markdown",
   "id": "d86e808f",
   "metadata": {},
   "source": [
    "- O projeto deverá ser entregue até dia 22/11 antes do início da aula\n",
    "- O projeto poderá ser feito em grupo com até 4 integrantes\n",
    "- Serão 2 projetos A e B porém apenas 1 projeto deverá ser entregue e escolhido pelo grupo\n",
    "\n",
    "- A entrega deve ser feita em jupyter notebook com os códigos explícitos e comentados. Além disso os conceitos, decisões e conclusões usadas devem estar destacadas no notebook\n",
    "- A entrega pode ser feita pelo class ou no repositório do git de algum dos alunos"
   ]
  },
  {
   "cell_type": "markdown",
   "id": "287ff267",
   "metadata": {},
   "source": [
    "### Informações sobre o projeto"
   ]
  },
  {
   "cell_type": "markdown",
   "id": "1e1c57c0",
   "metadata": {
    "ExecuteTime": {
     "end_time": "2021-10-27T13:51:00.835165Z",
     "start_time": "2021-10-27T13:50:59.943274Z"
    }
   },
   "source": [
    "Dataset (conjunto de dados a ser utilizado) é um arquivo txt separado por tabulação e encontrasse no github:\n",
    "\n",
    "https://github.com/renatapink/DSdegree/tree/master/Modulo4/Projeto\n",
    "\n",
    "Link dos dados: <br>\n",
    "https://raw.githubusercontent.com/renatapink/DSdegree/master/Modulo4/Projeto/sim_ts.txt"
   ]
  },
  {
   "cell_type": "markdown",
   "id": "e5720c22",
   "metadata": {},
   "source": [
    "#### Case\n",
    "\n",
    "Imagine que você trabalha numa empresa de benefícios que vende diversos produtos para os RHs clientes, com o intuito de melhorar a qualidade de vida de seus colaboradores por meio de alimentação saudável, transporte, saúde, entre outros.\n",
    "\n",
    "Para ajudar no direcionamento e estratégia corporativa, bem como definir a meta do time comercial, você ficou encarregado de prever qual seria o faturamento mensal esperado para 2022. \n",
    "\n",
    "Utilizando as metodologias vistas em aula, sobretudo ligadas a séries temporais, faça o seguinte:\n",
    "\n",
    "#### Etapa I\n",
    "\n",
    "**EDA - Análise exploratória de dados**\n",
    "\n",
    "- Análise de medidas de posição, dispersão, correlação (análises univaridas e bivariadas) - histograma, boxplot, mapa de calor, etc...\n",
    "- Identificação e tratamento de outliers e missings (valores faltantes), caso necessário (sempre explicando a opção)\n",
    "\n",
    "#### Etapa II\n",
    "a. Ajuste um modelo para o faturamento total (sem quebrar por produto) e realize a projeção para os meses faltantes até o final de 2022.\n",
    "\n",
    "b. Faça ajustes indivíduais para cada produto e consolide os resultados para obter o faturamento total para os meses faltantes até o final de 2022.\n",
    "\n",
    "c. Qual dos dois cenários obteve a melhor projeção? Qual cenário você usaria dentro da sua empresa pensando nos desdobramentos estratégicos citados acima? Justifique a sua resposta com base em métricas bem definidas e no entendimento do problema.\n",
    "\n",
    "#### Informação sobre os atributos\n",
    "\n",
    "- **vlr:** Vlr. faturado no mês\n",
    "- **date:** Mês de referência do faturamento\n",
    "- **produto:** Produto ao qual o faturamento diz respeito"
   ]
  },
  {
   "cell_type": "code",
   "execution_count": null,
   "id": "547528a1",
   "metadata": {},
   "outputs": [],
   "source": []
  }
 ],
 "metadata": {
  "kernelspec": {
   "display_name": "Python 3 (ipykernel)",
   "language": "python",
   "name": "python3"
  },
  "language_info": {
   "codemirror_mode": {
    "name": "ipython",
    "version": 3
   },
   "file_extension": ".py",
   "mimetype": "text/x-python",
   "name": "python",
   "nbconvert_exporter": "python",
   "pygments_lexer": "ipython3",
   "version": "3.9.7"
  },
  "varInspector": {
   "cols": {
    "lenName": 16,
    "lenType": 16,
    "lenVar": 40
   },
   "kernels_config": {
    "python": {
     "delete_cmd_postfix": "",
     "delete_cmd_prefix": "del ",
     "library": "var_list.py",
     "varRefreshCmd": "print(var_dic_list())"
    },
    "r": {
     "delete_cmd_postfix": ") ",
     "delete_cmd_prefix": "rm(",
     "library": "var_list.r",
     "varRefreshCmd": "cat(var_dic_list()) "
    }
   },
   "types_to_exclude": [
    "module",
    "function",
    "builtin_function_or_method",
    "instance",
    "_Feature"
   ],
   "window_display": false
  }
 },
 "nbformat": 4,
 "nbformat_minor": 5
}
