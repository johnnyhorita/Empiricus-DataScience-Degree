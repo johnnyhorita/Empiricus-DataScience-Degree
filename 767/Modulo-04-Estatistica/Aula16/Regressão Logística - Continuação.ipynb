{
 "cells": [
  {
   "cell_type": "markdown",
   "id": "dc2bc90e",
   "metadata": {},
   "source": [
    "# Regressão Logística - Continuação"
   ]
  },
  {
   "cell_type": "code",
   "execution_count": 1,
   "id": "3ea2a569",
   "metadata": {
    "ExecuteTime": {
     "end_time": "2021-11-17T22:32:58.393855Z",
     "start_time": "2021-11-17T22:32:56.595682Z"
    }
   },
   "outputs": [],
   "source": [
    "import numpy as np\n",
    "import pandas as pd\n",
    "import matplotlib.pyplot as plt\n",
    "import seaborn as sns\n",
    "from sklearn.model_selection import train_test_split\n",
    "from sklearn.linear_model import LogisticRegression\n",
    "from sklearn.metrics import confusion_matrix\n",
    "from sklearn.metrics import accuracy_score,  precision_score, recall_score, f1_score, classification_report"
   ]
  },
  {
   "cell_type": "markdown",
   "id": "985aff58",
   "metadata": {},
   "source": [
    "**1)** [COVID](https://www.kaggle.com/tanmoyx/covid19-patient-precondition-dataset?select=covid.csv): Esses dados estão no dataset *COVID.csv* e nele encontramos alguns dados sobre os casos de Covid no México, onde têm os sintomas e caractéristicas dos pacientes além do resultado do teste para Covid."
   ]
  },
  {
   "cell_type": "markdown",
   "id": "6e55611e",
   "metadata": {},
   "source": [
    "A descrição das variáveis estão indicadas abaixo:<br>\n",
    " - **id**: Identificação do paciente<br>\n",
    " - **sex**: Sexo do Paciente (0 - Homem / 1 - Mulher) <br>\n",
    " - **patient_type**: Se o paciente foi dispensado para casa (1) ou se foi internado (0) <br>\n",
    " - **intubed**: Se o paciente foi intubado ou não<br>\n",
    " - **pneumonia**: Se o paciente apresentou pneumonia ou não<br>\n",
    " - **age**: Idade do Paciente<br>\n",
    " - **pregnancy**: Se a paciente estava grávida ou não (para pacientes mulheres)<br>\n",
    " - **diabetes**: Se o paciente tem diabetes ou não<br>\n",
    " - **copd**: Se o paciente tem COPD ou não<br>\n",
    " - **asthma**: Se o paciente tem Asma ou não<br>\n",
    " - **inmsupr**: Se o paciente apresentou Imunosupressão ou não<br>\n",
    " - **hypertension**: Se o paciente tem hipertensão ou não<br>\n",
    " - **ohter_disease**: Se o paciente tem outras doenças ou não<br>\n",
    " - **cardiovascular**: Se o paciente tem doenças cardiácas ou não<br>\n",
    " - **obesity**: Se o paciente tem obesidade ou não<br>\n",
    " - **renal_chronic**: Se o paciente tem problemas renais ou não<br>\n",
    " - **tobacco**: Se o paciente é fumante ou não<br>\n",
    " - **contact_other_covid**: Se o paciente teve contato com outras pessoas diagnosticadas com covid<br>\n",
    " - **icu**: Se o paciente precisou ser internado na UTI<br>\n",
    " - **covid_res**: Se o resultado do teste foi Positivo ou Negativo<br>"
   ]
  },
  {
   "cell_type": "code",
   "execution_count": 2,
   "id": "1e1d4e66",
   "metadata": {
    "ExecuteTime": {
     "end_time": "2021-11-17T22:36:16.190412Z",
     "start_time": "2021-11-17T22:36:14.325640Z"
    }
   },
   "outputs": [],
   "source": [
    "covid = pd.read_csv('COVID.csv', index_col=0)"
   ]
  },
  {
   "cell_type": "code",
   "execution_count": 3,
   "id": "a0e41e21",
   "metadata": {
    "ExecuteTime": {
     "end_time": "2021-11-17T22:36:20.991875Z",
     "start_time": "2021-11-17T22:36:20.913082Z"
    }
   },
   "outputs": [
    {
     "data": {
      "text/html": [
       "<div>\n",
       "<style scoped>\n",
       "    .dataframe tbody tr th:only-of-type {\n",
       "        vertical-align: middle;\n",
       "    }\n",
       "\n",
       "    .dataframe tbody tr th {\n",
       "        vertical-align: top;\n",
       "    }\n",
       "\n",
       "    .dataframe thead th {\n",
       "        text-align: right;\n",
       "    }\n",
       "</style>\n",
       "<table border=\"1\" class=\"dataframe\">\n",
       "  <thead>\n",
       "    <tr style=\"text-align: right;\">\n",
       "      <th></th>\n",
       "      <th>sex</th>\n",
       "      <th>patient_type</th>\n",
       "      <th>intubed</th>\n",
       "      <th>pneumonia</th>\n",
       "      <th>age</th>\n",
       "      <th>pregnancy</th>\n",
       "      <th>diabetes</th>\n",
       "      <th>copd</th>\n",
       "      <th>asthma</th>\n",
       "      <th>inmsupr</th>\n",
       "      <th>hypertension</th>\n",
       "      <th>other_disease</th>\n",
       "      <th>cardiovascular</th>\n",
       "      <th>obesity</th>\n",
       "      <th>renal_chronic</th>\n",
       "      <th>tobacco</th>\n",
       "      <th>contact_other_covid</th>\n",
       "      <th>covid_res</th>\n",
       "      <th>icu</th>\n",
       "    </tr>\n",
       "  </thead>\n",
       "  <tbody>\n",
       "    <tr>\n",
       "      <th>0</th>\n",
       "      <td>0</td>\n",
       "      <td>1</td>\n",
       "      <td>NaN</td>\n",
       "      <td>0.0</td>\n",
       "      <td>27</td>\n",
       "      <td>NaN</td>\n",
       "      <td>0.0</td>\n",
       "      <td>0.0</td>\n",
       "      <td>0.0</td>\n",
       "      <td>0.0</td>\n",
       "      <td>0.0</td>\n",
       "      <td>0.0</td>\n",
       "      <td>0.0</td>\n",
       "      <td>0.0</td>\n",
       "      <td>0.0</td>\n",
       "      <td>0.0</td>\n",
       "      <td>0.0</td>\n",
       "      <td>1</td>\n",
       "      <td>NaN</td>\n",
       "    </tr>\n",
       "    <tr>\n",
       "      <th>1</th>\n",
       "      <td>0</td>\n",
       "      <td>1</td>\n",
       "      <td>NaN</td>\n",
       "      <td>0.0</td>\n",
       "      <td>24</td>\n",
       "      <td>NaN</td>\n",
       "      <td>0.0</td>\n",
       "      <td>0.0</td>\n",
       "      <td>0.0</td>\n",
       "      <td>0.0</td>\n",
       "      <td>0.0</td>\n",
       "      <td>0.0</td>\n",
       "      <td>0.0</td>\n",
       "      <td>0.0</td>\n",
       "      <td>0.0</td>\n",
       "      <td>0.0</td>\n",
       "      <td>NaN</td>\n",
       "      <td>1</td>\n",
       "      <td>NaN</td>\n",
       "    </tr>\n",
       "    <tr>\n",
       "      <th>2</th>\n",
       "      <td>1</td>\n",
       "      <td>0</td>\n",
       "      <td>0.0</td>\n",
       "      <td>0.0</td>\n",
       "      <td>54</td>\n",
       "      <td>0.0</td>\n",
       "      <td>0.0</td>\n",
       "      <td>0.0</td>\n",
       "      <td>0.0</td>\n",
       "      <td>0.0</td>\n",
       "      <td>0.0</td>\n",
       "      <td>0.0</td>\n",
       "      <td>0.0</td>\n",
       "      <td>1.0</td>\n",
       "      <td>0.0</td>\n",
       "      <td>0.0</td>\n",
       "      <td>NaN</td>\n",
       "      <td>1</td>\n",
       "      <td>0.0</td>\n",
       "    </tr>\n",
       "    <tr>\n",
       "      <th>3</th>\n",
       "      <td>0</td>\n",
       "      <td>0</td>\n",
       "      <td>0.0</td>\n",
       "      <td>1.0</td>\n",
       "      <td>30</td>\n",
       "      <td>NaN</td>\n",
       "      <td>0.0</td>\n",
       "      <td>0.0</td>\n",
       "      <td>0.0</td>\n",
       "      <td>0.0</td>\n",
       "      <td>0.0</td>\n",
       "      <td>0.0</td>\n",
       "      <td>0.0</td>\n",
       "      <td>0.0</td>\n",
       "      <td>0.0</td>\n",
       "      <td>0.0</td>\n",
       "      <td>NaN</td>\n",
       "      <td>1</td>\n",
       "      <td>0.0</td>\n",
       "    </tr>\n",
       "    <tr>\n",
       "      <th>4</th>\n",
       "      <td>1</td>\n",
       "      <td>0</td>\n",
       "      <td>0.0</td>\n",
       "      <td>0.0</td>\n",
       "      <td>60</td>\n",
       "      <td>0.0</td>\n",
       "      <td>1.0</td>\n",
       "      <td>0.0</td>\n",
       "      <td>0.0</td>\n",
       "      <td>0.0</td>\n",
       "      <td>1.0</td>\n",
       "      <td>0.0</td>\n",
       "      <td>1.0</td>\n",
       "      <td>0.0</td>\n",
       "      <td>0.0</td>\n",
       "      <td>0.0</td>\n",
       "      <td>NaN</td>\n",
       "      <td>1</td>\n",
       "      <td>0.0</td>\n",
       "    </tr>\n",
       "    <tr>\n",
       "      <th>...</th>\n",
       "      <td>...</td>\n",
       "      <td>...</td>\n",
       "      <td>...</td>\n",
       "      <td>...</td>\n",
       "      <td>...</td>\n",
       "      <td>...</td>\n",
       "      <td>...</td>\n",
       "      <td>...</td>\n",
       "      <td>...</td>\n",
       "      <td>...</td>\n",
       "      <td>...</td>\n",
       "      <td>...</td>\n",
       "      <td>...</td>\n",
       "      <td>...</td>\n",
       "      <td>...</td>\n",
       "      <td>...</td>\n",
       "      <td>...</td>\n",
       "      <td>...</td>\n",
       "      <td>...</td>\n",
       "    </tr>\n",
       "    <tr>\n",
       "      <th>499687</th>\n",
       "      <td>0</td>\n",
       "      <td>1</td>\n",
       "      <td>NaN</td>\n",
       "      <td>1.0</td>\n",
       "      <td>77</td>\n",
       "      <td>NaN</td>\n",
       "      <td>0.0</td>\n",
       "      <td>0.0</td>\n",
       "      <td>0.0</td>\n",
       "      <td>0.0</td>\n",
       "      <td>0.0</td>\n",
       "      <td>1.0</td>\n",
       "      <td>0.0</td>\n",
       "      <td>0.0</td>\n",
       "      <td>0.0</td>\n",
       "      <td>1.0</td>\n",
       "      <td>0.0</td>\n",
       "      <td>0</td>\n",
       "      <td>NaN</td>\n",
       "    </tr>\n",
       "    <tr>\n",
       "      <th>499688</th>\n",
       "      <td>0</td>\n",
       "      <td>0</td>\n",
       "      <td>1.0</td>\n",
       "      <td>1.0</td>\n",
       "      <td>63</td>\n",
       "      <td>NaN</td>\n",
       "      <td>0.0</td>\n",
       "      <td>0.0</td>\n",
       "      <td>0.0</td>\n",
       "      <td>0.0</td>\n",
       "      <td>1.0</td>\n",
       "      <td>0.0</td>\n",
       "      <td>0.0</td>\n",
       "      <td>1.0</td>\n",
       "      <td>0.0</td>\n",
       "      <td>1.0</td>\n",
       "      <td>0.0</td>\n",
       "      <td>0</td>\n",
       "      <td>0.0</td>\n",
       "    </tr>\n",
       "    <tr>\n",
       "      <th>499689</th>\n",
       "      <td>1</td>\n",
       "      <td>1</td>\n",
       "      <td>NaN</td>\n",
       "      <td>0.0</td>\n",
       "      <td>25</td>\n",
       "      <td>0.0</td>\n",
       "      <td>0.0</td>\n",
       "      <td>0.0</td>\n",
       "      <td>0.0</td>\n",
       "      <td>0.0</td>\n",
       "      <td>0.0</td>\n",
       "      <td>0.0</td>\n",
       "      <td>0.0</td>\n",
       "      <td>0.0</td>\n",
       "      <td>0.0</td>\n",
       "      <td>0.0</td>\n",
       "      <td>0.0</td>\n",
       "      <td>0</td>\n",
       "      <td>NaN</td>\n",
       "    </tr>\n",
       "    <tr>\n",
       "      <th>499690</th>\n",
       "      <td>1</td>\n",
       "      <td>1</td>\n",
       "      <td>NaN</td>\n",
       "      <td>0.0</td>\n",
       "      <td>45</td>\n",
       "      <td>0.0</td>\n",
       "      <td>0.0</td>\n",
       "      <td>0.0</td>\n",
       "      <td>0.0</td>\n",
       "      <td>0.0</td>\n",
       "      <td>1.0</td>\n",
       "      <td>0.0</td>\n",
       "      <td>0.0</td>\n",
       "      <td>0.0</td>\n",
       "      <td>0.0</td>\n",
       "      <td>0.0</td>\n",
       "      <td>1.0</td>\n",
       "      <td>0</td>\n",
       "      <td>NaN</td>\n",
       "    </tr>\n",
       "    <tr>\n",
       "      <th>499691</th>\n",
       "      <td>1</td>\n",
       "      <td>1</td>\n",
       "      <td>NaN</td>\n",
       "      <td>0.0</td>\n",
       "      <td>51</td>\n",
       "      <td>0.0</td>\n",
       "      <td>0.0</td>\n",
       "      <td>0.0</td>\n",
       "      <td>0.0</td>\n",
       "      <td>0.0</td>\n",
       "      <td>0.0</td>\n",
       "      <td>0.0</td>\n",
       "      <td>0.0</td>\n",
       "      <td>0.0</td>\n",
       "      <td>0.0</td>\n",
       "      <td>0.0</td>\n",
       "      <td>NaN</td>\n",
       "      <td>0</td>\n",
       "      <td>NaN</td>\n",
       "    </tr>\n",
       "  </tbody>\n",
       "</table>\n",
       "<p>499692 rows × 19 columns</p>\n",
       "</div>"
      ],
      "text/plain": [
       "        sex  patient_type  intubed  pneumonia  age  pregnancy  diabetes  copd  \\\n",
       "0         0             1      NaN        0.0   27        NaN       0.0   0.0   \n",
       "1         0             1      NaN        0.0   24        NaN       0.0   0.0   \n",
       "2         1             0      0.0        0.0   54        0.0       0.0   0.0   \n",
       "3         0             0      0.0        1.0   30        NaN       0.0   0.0   \n",
       "4         1             0      0.0        0.0   60        0.0       1.0   0.0   \n",
       "...     ...           ...      ...        ...  ...        ...       ...   ...   \n",
       "499687    0             1      NaN        1.0   77        NaN       0.0   0.0   \n",
       "499688    0             0      1.0        1.0   63        NaN       0.0   0.0   \n",
       "499689    1             1      NaN        0.0   25        0.0       0.0   0.0   \n",
       "499690    1             1      NaN        0.0   45        0.0       0.0   0.0   \n",
       "499691    1             1      NaN        0.0   51        0.0       0.0   0.0   \n",
       "\n",
       "        asthma  inmsupr  hypertension  other_disease  cardiovascular  obesity  \\\n",
       "0          0.0      0.0           0.0            0.0             0.0      0.0   \n",
       "1          0.0      0.0           0.0            0.0             0.0      0.0   \n",
       "2          0.0      0.0           0.0            0.0             0.0      1.0   \n",
       "3          0.0      0.0           0.0            0.0             0.0      0.0   \n",
       "4          0.0      0.0           1.0            0.0             1.0      0.0   \n",
       "...        ...      ...           ...            ...             ...      ...   \n",
       "499687     0.0      0.0           0.0            1.0             0.0      0.0   \n",
       "499688     0.0      0.0           1.0            0.0             0.0      1.0   \n",
       "499689     0.0      0.0           0.0            0.0             0.0      0.0   \n",
       "499690     0.0      0.0           1.0            0.0             0.0      0.0   \n",
       "499691     0.0      0.0           0.0            0.0             0.0      0.0   \n",
       "\n",
       "        renal_chronic  tobacco  contact_other_covid  covid_res  icu  \n",
       "0                 0.0      0.0                  0.0          1  NaN  \n",
       "1                 0.0      0.0                  NaN          1  NaN  \n",
       "2                 0.0      0.0                  NaN          1  0.0  \n",
       "3                 0.0      0.0                  NaN          1  0.0  \n",
       "4                 0.0      0.0                  NaN          1  0.0  \n",
       "...               ...      ...                  ...        ...  ...  \n",
       "499687            0.0      1.0                  0.0          0  NaN  \n",
       "499688            0.0      1.0                  0.0          0  0.0  \n",
       "499689            0.0      0.0                  0.0          0  NaN  \n",
       "499690            0.0      0.0                  1.0          0  NaN  \n",
       "499691            0.0      0.0                  NaN          0  NaN  \n",
       "\n",
       "[499692 rows x 19 columns]"
      ]
     },
     "execution_count": 3,
     "metadata": {},
     "output_type": "execute_result"
    }
   ],
   "source": [
    "covid"
   ]
  },
  {
   "cell_type": "code",
   "execution_count": 4,
   "id": "e5e6a171",
   "metadata": {
    "ExecuteTime": {
     "end_time": "2021-11-17T22:36:40.825472Z",
     "start_time": "2021-11-17T22:36:40.758654Z"
    }
   },
   "outputs": [
    {
     "data": {
      "text/plain": [
       "sex                         0\n",
       "patient_type                0\n",
       "intubed                392268\n",
       "pneumonia                  11\n",
       "age                         0\n",
       "pregnancy              254434\n",
       "diabetes                 1641\n",
       "copd                     1446\n",
       "asthma                   1442\n",
       "inmsupr                  1662\n",
       "hypertension             1489\n",
       "other_disease            2193\n",
       "cardiovascular           1509\n",
       "obesity                  1470\n",
       "renal_chronic            1476\n",
       "tobacco                  1579\n",
       "contact_other_covid    153675\n",
       "covid_res                   0\n",
       "icu                    392269\n",
       "dtype: int64"
      ]
     },
     "execution_count": 4,
     "metadata": {},
     "output_type": "execute_result"
    }
   ],
   "source": [
    "covid.isna().sum()"
   ]
  },
  {
   "cell_type": "code",
   "execution_count": 5,
   "id": "b90d77d2",
   "metadata": {
    "ExecuteTime": {
     "end_time": "2021-11-17T22:37:39.758258Z",
     "start_time": "2021-11-17T22:37:39.708273Z"
    }
   },
   "outputs": [
    {
     "data": {
      "text/plain": [
       "sex                     0.000000\n",
       "patient_type            0.000000\n",
       "intubed                78.501957\n",
       "pneumonia               0.002201\n",
       "age                     0.000000\n",
       "pregnancy              50.918166\n",
       "diabetes                0.328402\n",
       "copd                    0.289378\n",
       "asthma                  0.288578\n",
       "inmsupr                 0.332605\n",
       "hypertension            0.297984\n",
       "other_disease           0.438870\n",
       "cardiovascular          0.301986\n",
       "obesity                 0.294181\n",
       "renal_chronic           0.295382\n",
       "tobacco                 0.315995\n",
       "contact_other_covid    30.753944\n",
       "covid_res               0.000000\n",
       "icu                    78.502157\n",
       "dtype: float64"
      ]
     },
     "execution_count": 5,
     "metadata": {},
     "output_type": "execute_result"
    }
   ],
   "source": [
    "(covid.isna().sum()/len(covid))*100"
   ]
  },
  {
   "cell_type": "markdown",
   "id": "fe5bcf2b",
   "metadata": {},
   "source": [
    "icu, intubed tem muito dado faltante (78%) e iremos eliminar a coluna"
   ]
  },
  {
   "cell_type": "code",
   "execution_count": 9,
   "id": "67de94cb",
   "metadata": {
    "ExecuteTime": {
     "end_time": "2021-11-17T22:39:59.296467Z",
     "start_time": "2021-11-17T22:39:59.266579Z"
    }
   },
   "outputs": [
    {
     "data": {
      "text/plain": [
       "NaN    78.502157\n",
       "0.0    19.694932\n",
       "1.0     1.802911\n",
       "Name: icu, dtype: float64"
      ]
     },
     "execution_count": 9,
     "metadata": {},
     "output_type": "execute_result"
    }
   ],
   "source": [
    "covid['icu'].value_counts(dropna=False, normalize=True)*100"
   ]
  },
  {
   "cell_type": "code",
   "execution_count": 10,
   "id": "906daf4c",
   "metadata": {
    "ExecuteTime": {
     "end_time": "2021-11-17T22:41:57.312428Z",
     "start_time": "2021-11-17T22:41:57.282507Z"
    }
   },
   "outputs": [
    {
     "data": {
      "text/plain": [
       "0    50.650801\n",
       "1    49.349199\n",
       "Name: sex, dtype: float64"
      ]
     },
     "execution_count": 10,
     "metadata": {},
     "output_type": "execute_result"
    }
   ],
   "source": [
    "covid['sex'].value_counts(dropna=False, normalize=True)*100"
   ]
  },
  {
   "cell_type": "code",
   "execution_count": 12,
   "id": "e5370b6e",
   "metadata": {
    "ExecuteTime": {
     "end_time": "2021-11-17T22:43:47.636924Z",
     "start_time": "2021-11-17T22:43:47.600423Z"
    }
   },
   "outputs": [
    {
     "data": {
      "text/plain": [
       "NaN    50.918166\n",
       "0.0    48.358589\n",
       "1.0     0.723246\n",
       "Name: pregnancy, dtype: float64"
      ]
     },
     "execution_count": 12,
     "metadata": {},
     "output_type": "execute_result"
    }
   ],
   "source": [
    "covid['pregnancy'].value_counts(dropna=False, normalize=True)*100"
   ]
  },
  {
   "cell_type": "code",
   "execution_count": 13,
   "id": "9a67abff",
   "metadata": {
    "ExecuteTime": {
     "end_time": "2021-11-17T22:44:34.738087Z",
     "start_time": "2021-11-17T22:44:34.578514Z"
    }
   },
   "outputs": [
    {
     "data": {
      "text/plain": [
       "sex  pregnancy\n",
       "0    NaN          100.000000\n",
       "1    0.0           97.992652\n",
       "     1.0            1.465567\n",
       "     NaN            0.541781\n",
       "Name: pregnancy, dtype: float64"
      ]
     },
     "execution_count": 13,
     "metadata": {},
     "output_type": "execute_result"
    }
   ],
   "source": [
    "covid.groupby(['sex'])['pregnancy'].value_counts(dropna=False, normalize=True)*100"
   ]
  },
  {
   "cell_type": "code",
   "execution_count": 15,
   "id": "22dfde33",
   "metadata": {
    "ExecuteTime": {
     "end_time": "2021-11-17T22:46:25.622947Z",
     "start_time": "2021-11-17T22:46:25.584991Z"
    }
   },
   "outputs": [],
   "source": [
    "covid.loc[covid['sex'] == 0, 'pregnancy'] = 0\n",
    "# substituindo para gravidez zero em todos os homens"
   ]
  },
  {
   "cell_type": "code",
   "execution_count": 16,
   "id": "c5b3f8e9",
   "metadata": {
    "ExecuteTime": {
     "end_time": "2021-11-17T22:48:11.836540Z",
     "start_time": "2021-11-17T22:48:11.825567Z"
    }
   },
   "outputs": [
    {
     "data": {
      "text/plain": [
       "Index(['sex', 'patient_type', 'intubed', 'pneumonia', 'age', 'pregnancy',\n",
       "       'diabetes', 'copd', 'asthma', 'inmsupr', 'hypertension',\n",
       "       'other_disease', 'cardiovascular', 'obesity', 'renal_chronic',\n",
       "       'tobacco', 'contact_other_covid', 'covid_res', 'icu'],\n",
       "      dtype='object')"
      ]
     },
     "execution_count": 16,
     "metadata": {},
     "output_type": "execute_result"
    }
   ],
   "source": [
    "covid.columns"
   ]
  },
  {
   "cell_type": "code",
   "execution_count": 17,
   "id": "b7d4ebbf",
   "metadata": {
    "ExecuteTime": {
     "end_time": "2021-11-17T22:50:25.467466Z",
     "start_time": "2021-11-17T22:50:25.396641Z"
    }
   },
   "outputs": [],
   "source": [
    "# eliminando as colunas que não temos interesse\n",
    "covid = covid.drop(columns=['intubed', 'icu'])"
   ]
  },
  {
   "cell_type": "code",
   "execution_count": 20,
   "id": "cb3cf192",
   "metadata": {
    "ExecuteTime": {
     "end_time": "2021-11-17T22:51:20.981384Z",
     "start_time": "2021-11-17T22:51:20.799866Z"
    }
   },
   "outputs": [],
   "source": [
    "# eliminar os registros onde tem algum dado faltante\n",
    "covid = covid.dropna()"
   ]
  },
  {
   "cell_type": "code",
   "execution_count": 21,
   "id": "2d92f0d3",
   "metadata": {
    "ExecuteTime": {
     "end_time": "2021-11-17T22:51:23.511692Z",
     "start_time": "2021-11-17T22:51:23.459849Z"
    }
   },
   "outputs": [
    {
     "data": {
      "text/plain": [
       "sex                    0\n",
       "patient_type           0\n",
       "pneumonia              0\n",
       "age                    0\n",
       "pregnancy              0\n",
       "diabetes               0\n",
       "copd                   0\n",
       "asthma                 0\n",
       "inmsupr                0\n",
       "hypertension           0\n",
       "other_disease          0\n",
       "cardiovascular         0\n",
       "obesity                0\n",
       "renal_chronic          0\n",
       "tobacco                0\n",
       "contact_other_covid    0\n",
       "covid_res              0\n",
       "dtype: int64"
      ]
     },
     "execution_count": 21,
     "metadata": {},
     "output_type": "execute_result"
    }
   ],
   "source": [
    "covid.isna().sum()"
   ]
  },
  {
   "cell_type": "code",
   "execution_count": 23,
   "id": "cbbc8b27",
   "metadata": {
    "ExecuteTime": {
     "end_time": "2021-11-17T22:52:02.325874Z",
     "start_time": "2021-11-17T22:52:02.318889Z"
    }
   },
   "outputs": [],
   "source": [
    "covid.reset_index(drop=True, inplace=True)"
   ]
  },
  {
   "cell_type": "code",
   "execution_count": 24,
   "id": "ba4ee7e1",
   "metadata": {
    "ExecuteTime": {
     "end_time": "2021-11-17T22:52:05.570240Z",
     "start_time": "2021-11-17T22:52:05.507393Z"
    }
   },
   "outputs": [
    {
     "data": {
      "text/html": [
       "<div>\n",
       "<style scoped>\n",
       "    .dataframe tbody tr th:only-of-type {\n",
       "        vertical-align: middle;\n",
       "    }\n",
       "\n",
       "    .dataframe tbody tr th {\n",
       "        vertical-align: top;\n",
       "    }\n",
       "\n",
       "    .dataframe thead th {\n",
       "        text-align: right;\n",
       "    }\n",
       "</style>\n",
       "<table border=\"1\" class=\"dataframe\">\n",
       "  <thead>\n",
       "    <tr style=\"text-align: right;\">\n",
       "      <th></th>\n",
       "      <th>sex</th>\n",
       "      <th>patient_type</th>\n",
       "      <th>pneumonia</th>\n",
       "      <th>age</th>\n",
       "      <th>pregnancy</th>\n",
       "      <th>diabetes</th>\n",
       "      <th>copd</th>\n",
       "      <th>asthma</th>\n",
       "      <th>inmsupr</th>\n",
       "      <th>hypertension</th>\n",
       "      <th>other_disease</th>\n",
       "      <th>cardiovascular</th>\n",
       "      <th>obesity</th>\n",
       "      <th>renal_chronic</th>\n",
       "      <th>tobacco</th>\n",
       "      <th>contact_other_covid</th>\n",
       "      <th>covid_res</th>\n",
       "    </tr>\n",
       "  </thead>\n",
       "  <tbody>\n",
       "    <tr>\n",
       "      <th>0</th>\n",
       "      <td>0</td>\n",
       "      <td>1</td>\n",
       "      <td>0.0</td>\n",
       "      <td>27</td>\n",
       "      <td>0.0</td>\n",
       "      <td>0.0</td>\n",
       "      <td>0.0</td>\n",
       "      <td>0.0</td>\n",
       "      <td>0.0</td>\n",
       "      <td>0.0</td>\n",
       "      <td>0.0</td>\n",
       "      <td>0.0</td>\n",
       "      <td>0.0</td>\n",
       "      <td>0.0</td>\n",
       "      <td>0.0</td>\n",
       "      <td>0.0</td>\n",
       "      <td>1</td>\n",
       "    </tr>\n",
       "    <tr>\n",
       "      <th>1</th>\n",
       "      <td>1</td>\n",
       "      <td>1</td>\n",
       "      <td>0.0</td>\n",
       "      <td>56</td>\n",
       "      <td>0.0</td>\n",
       "      <td>0.0</td>\n",
       "      <td>0.0</td>\n",
       "      <td>0.0</td>\n",
       "      <td>0.0</td>\n",
       "      <td>1.0</td>\n",
       "      <td>0.0</td>\n",
       "      <td>0.0</td>\n",
       "      <td>0.0</td>\n",
       "      <td>1.0</td>\n",
       "      <td>1.0</td>\n",
       "      <td>1.0</td>\n",
       "      <td>1</td>\n",
       "    </tr>\n",
       "    <tr>\n",
       "      <th>2</th>\n",
       "      <td>1</td>\n",
       "      <td>1</td>\n",
       "      <td>0.0</td>\n",
       "      <td>34</td>\n",
       "      <td>0.0</td>\n",
       "      <td>0.0</td>\n",
       "      <td>0.0</td>\n",
       "      <td>0.0</td>\n",
       "      <td>0.0</td>\n",
       "      <td>0.0</td>\n",
       "      <td>0.0</td>\n",
       "      <td>0.0</td>\n",
       "      <td>0.0</td>\n",
       "      <td>0.0</td>\n",
       "      <td>0.0</td>\n",
       "      <td>1.0</td>\n",
       "      <td>1</td>\n",
       "    </tr>\n",
       "    <tr>\n",
       "      <th>3</th>\n",
       "      <td>1</td>\n",
       "      <td>1</td>\n",
       "      <td>0.0</td>\n",
       "      <td>34</td>\n",
       "      <td>0.0</td>\n",
       "      <td>0.0</td>\n",
       "      <td>0.0</td>\n",
       "      <td>0.0</td>\n",
       "      <td>0.0</td>\n",
       "      <td>0.0</td>\n",
       "      <td>0.0</td>\n",
       "      <td>0.0</td>\n",
       "      <td>0.0</td>\n",
       "      <td>0.0</td>\n",
       "      <td>1.0</td>\n",
       "      <td>0.0</td>\n",
       "      <td>1</td>\n",
       "    </tr>\n",
       "    <tr>\n",
       "      <th>4</th>\n",
       "      <td>1</td>\n",
       "      <td>1</td>\n",
       "      <td>0.0</td>\n",
       "      <td>49</td>\n",
       "      <td>0.0</td>\n",
       "      <td>1.0</td>\n",
       "      <td>0.0</td>\n",
       "      <td>0.0</td>\n",
       "      <td>0.0</td>\n",
       "      <td>0.0</td>\n",
       "      <td>0.0</td>\n",
       "      <td>0.0</td>\n",
       "      <td>0.0</td>\n",
       "      <td>0.0</td>\n",
       "      <td>0.0</td>\n",
       "      <td>1.0</td>\n",
       "      <td>1</td>\n",
       "    </tr>\n",
       "    <tr>\n",
       "      <th>...</th>\n",
       "      <td>...</td>\n",
       "      <td>...</td>\n",
       "      <td>...</td>\n",
       "      <td>...</td>\n",
       "      <td>...</td>\n",
       "      <td>...</td>\n",
       "      <td>...</td>\n",
       "      <td>...</td>\n",
       "      <td>...</td>\n",
       "      <td>...</td>\n",
       "      <td>...</td>\n",
       "      <td>...</td>\n",
       "      <td>...</td>\n",
       "      <td>...</td>\n",
       "      <td>...</td>\n",
       "      <td>...</td>\n",
       "      <td>...</td>\n",
       "    </tr>\n",
       "    <tr>\n",
       "      <th>342690</th>\n",
       "      <td>1</td>\n",
       "      <td>1</td>\n",
       "      <td>0.0</td>\n",
       "      <td>15</td>\n",
       "      <td>0.0</td>\n",
       "      <td>0.0</td>\n",
       "      <td>0.0</td>\n",
       "      <td>0.0</td>\n",
       "      <td>0.0</td>\n",
       "      <td>0.0</td>\n",
       "      <td>0.0</td>\n",
       "      <td>0.0</td>\n",
       "      <td>0.0</td>\n",
       "      <td>0.0</td>\n",
       "      <td>0.0</td>\n",
       "      <td>1.0</td>\n",
       "      <td>0</td>\n",
       "    </tr>\n",
       "    <tr>\n",
       "      <th>342691</th>\n",
       "      <td>0</td>\n",
       "      <td>1</td>\n",
       "      <td>1.0</td>\n",
       "      <td>77</td>\n",
       "      <td>0.0</td>\n",
       "      <td>0.0</td>\n",
       "      <td>0.0</td>\n",
       "      <td>0.0</td>\n",
       "      <td>0.0</td>\n",
       "      <td>0.0</td>\n",
       "      <td>1.0</td>\n",
       "      <td>0.0</td>\n",
       "      <td>0.0</td>\n",
       "      <td>0.0</td>\n",
       "      <td>1.0</td>\n",
       "      <td>0.0</td>\n",
       "      <td>0</td>\n",
       "    </tr>\n",
       "    <tr>\n",
       "      <th>342692</th>\n",
       "      <td>0</td>\n",
       "      <td>0</td>\n",
       "      <td>1.0</td>\n",
       "      <td>63</td>\n",
       "      <td>0.0</td>\n",
       "      <td>0.0</td>\n",
       "      <td>0.0</td>\n",
       "      <td>0.0</td>\n",
       "      <td>0.0</td>\n",
       "      <td>1.0</td>\n",
       "      <td>0.0</td>\n",
       "      <td>0.0</td>\n",
       "      <td>1.0</td>\n",
       "      <td>0.0</td>\n",
       "      <td>1.0</td>\n",
       "      <td>0.0</td>\n",
       "      <td>0</td>\n",
       "    </tr>\n",
       "    <tr>\n",
       "      <th>342693</th>\n",
       "      <td>1</td>\n",
       "      <td>1</td>\n",
       "      <td>0.0</td>\n",
       "      <td>25</td>\n",
       "      <td>0.0</td>\n",
       "      <td>0.0</td>\n",
       "      <td>0.0</td>\n",
       "      <td>0.0</td>\n",
       "      <td>0.0</td>\n",
       "      <td>0.0</td>\n",
       "      <td>0.0</td>\n",
       "      <td>0.0</td>\n",
       "      <td>0.0</td>\n",
       "      <td>0.0</td>\n",
       "      <td>0.0</td>\n",
       "      <td>0.0</td>\n",
       "      <td>0</td>\n",
       "    </tr>\n",
       "    <tr>\n",
       "      <th>342694</th>\n",
       "      <td>1</td>\n",
       "      <td>1</td>\n",
       "      <td>0.0</td>\n",
       "      <td>45</td>\n",
       "      <td>0.0</td>\n",
       "      <td>0.0</td>\n",
       "      <td>0.0</td>\n",
       "      <td>0.0</td>\n",
       "      <td>0.0</td>\n",
       "      <td>1.0</td>\n",
       "      <td>0.0</td>\n",
       "      <td>0.0</td>\n",
       "      <td>0.0</td>\n",
       "      <td>0.0</td>\n",
       "      <td>0.0</td>\n",
       "      <td>1.0</td>\n",
       "      <td>0</td>\n",
       "    </tr>\n",
       "  </tbody>\n",
       "</table>\n",
       "<p>342695 rows × 17 columns</p>\n",
       "</div>"
      ],
      "text/plain": [
       "        sex  patient_type  pneumonia  age  pregnancy  diabetes  copd  asthma  \\\n",
       "0         0             1        0.0   27        0.0       0.0   0.0     0.0   \n",
       "1         1             1        0.0   56        0.0       0.0   0.0     0.0   \n",
       "2         1             1        0.0   34        0.0       0.0   0.0     0.0   \n",
       "3         1             1        0.0   34        0.0       0.0   0.0     0.0   \n",
       "4         1             1        0.0   49        0.0       1.0   0.0     0.0   \n",
       "...     ...           ...        ...  ...        ...       ...   ...     ...   \n",
       "342690    1             1        0.0   15        0.0       0.0   0.0     0.0   \n",
       "342691    0             1        1.0   77        0.0       0.0   0.0     0.0   \n",
       "342692    0             0        1.0   63        0.0       0.0   0.0     0.0   \n",
       "342693    1             1        0.0   25        0.0       0.0   0.0     0.0   \n",
       "342694    1             1        0.0   45        0.0       0.0   0.0     0.0   \n",
       "\n",
       "        inmsupr  hypertension  other_disease  cardiovascular  obesity  \\\n",
       "0           0.0           0.0            0.0             0.0      0.0   \n",
       "1           0.0           1.0            0.0             0.0      0.0   \n",
       "2           0.0           0.0            0.0             0.0      0.0   \n",
       "3           0.0           0.0            0.0             0.0      0.0   \n",
       "4           0.0           0.0            0.0             0.0      0.0   \n",
       "...         ...           ...            ...             ...      ...   \n",
       "342690      0.0           0.0            0.0             0.0      0.0   \n",
       "342691      0.0           0.0            1.0             0.0      0.0   \n",
       "342692      0.0           1.0            0.0             0.0      1.0   \n",
       "342693      0.0           0.0            0.0             0.0      0.0   \n",
       "342694      0.0           1.0            0.0             0.0      0.0   \n",
       "\n",
       "        renal_chronic  tobacco  contact_other_covid  covid_res  \n",
       "0                 0.0      0.0                  0.0          1  \n",
       "1                 1.0      1.0                  1.0          1  \n",
       "2                 0.0      0.0                  1.0          1  \n",
       "3                 0.0      1.0                  0.0          1  \n",
       "4                 0.0      0.0                  1.0          1  \n",
       "...               ...      ...                  ...        ...  \n",
       "342690            0.0      0.0                  1.0          0  \n",
       "342691            0.0      1.0                  0.0          0  \n",
       "342692            0.0      1.0                  0.0          0  \n",
       "342693            0.0      0.0                  0.0          0  \n",
       "342694            0.0      0.0                  1.0          0  \n",
       "\n",
       "[342695 rows x 17 columns]"
      ]
     },
     "execution_count": 24,
     "metadata": {},
     "output_type": "execute_result"
    }
   ],
   "source": [
    "covid"
   ]
  },
  {
   "cell_type": "code",
   "execution_count": 25,
   "id": "1d2eb174",
   "metadata": {
    "ExecuteTime": {
     "end_time": "2021-11-17T22:52:22.810580Z",
     "start_time": "2021-11-17T22:52:22.744758Z"
    }
   },
   "outputs": [
    {
     "name": "stdout",
     "output_type": "stream",
     "text": [
      "<class 'pandas.core.frame.DataFrame'>\n",
      "RangeIndex: 342695 entries, 0 to 342694\n",
      "Data columns (total 17 columns):\n",
      " #   Column               Non-Null Count   Dtype  \n",
      "---  ------               --------------   -----  \n",
      " 0   sex                  342695 non-null  int64  \n",
      " 1   patient_type         342695 non-null  int64  \n",
      " 2   pneumonia            342695 non-null  float64\n",
      " 3   age                  342695 non-null  int64  \n",
      " 4   pregnancy            342695 non-null  float64\n",
      " 5   diabetes             342695 non-null  float64\n",
      " 6   copd                 342695 non-null  float64\n",
      " 7   asthma               342695 non-null  float64\n",
      " 8   inmsupr              342695 non-null  float64\n",
      " 9   hypertension         342695 non-null  float64\n",
      " 10  other_disease        342695 non-null  float64\n",
      " 11  cardiovascular       342695 non-null  float64\n",
      " 12  obesity              342695 non-null  float64\n",
      " 13  renal_chronic        342695 non-null  float64\n",
      " 14  tobacco              342695 non-null  float64\n",
      " 15  contact_other_covid  342695 non-null  float64\n",
      " 16  covid_res            342695 non-null  int64  \n",
      "dtypes: float64(13), int64(4)\n",
      "memory usage: 44.4 MB\n"
     ]
    }
   ],
   "source": [
    "covid.info()"
   ]
  },
  {
   "cell_type": "markdown",
   "id": "cb5a0645",
   "metadata": {},
   "source": [
    "Acima preparamos os dados. Agora vamos iniciar a parte da construção do modelo"
   ]
  },
  {
   "cell_type": "code",
   "execution_count": 26,
   "id": "98cd4d3d",
   "metadata": {
    "ExecuteTime": {
     "end_time": "2021-11-17T22:54:18.481374Z",
     "start_time": "2021-11-17T22:54:18.424526Z"
    }
   },
   "outputs": [],
   "source": [
    "X = covid.drop(['covid_res'], axis=1)\n",
    "y = covid['covid_res']"
   ]
  },
  {
   "cell_type": "code",
   "execution_count": 27,
   "id": "8b1c4fc7",
   "metadata": {
    "ExecuteTime": {
     "end_time": "2021-11-17T22:54:41.116208Z",
     "start_time": "2021-11-17T22:54:40.825937Z"
    }
   },
   "outputs": [],
   "source": [
    "X_train, X_test, y_train, y_test = train_test_split(X, y, test_size=0.3, random_state=42)"
   ]
  },
  {
   "cell_type": "code",
   "execution_count": 28,
   "id": "0ab6b001",
   "metadata": {
    "ExecuteTime": {
     "end_time": "2021-11-17T22:54:55.252765Z",
     "start_time": "2021-11-17T22:54:55.233814Z"
    }
   },
   "outputs": [],
   "source": [
    "model = LogisticRegression(max_iter = 1000)"
   ]
  },
  {
   "cell_type": "code",
   "execution_count": 29,
   "id": "6407ebc0",
   "metadata": {
    "ExecuteTime": {
     "end_time": "2021-11-17T22:55:14.843570Z",
     "start_time": "2021-11-17T22:55:10.105731Z"
    }
   },
   "outputs": [
    {
     "data": {
      "text/plain": [
       "LogisticRegression(max_iter=1000)"
      ]
     },
     "execution_count": 29,
     "metadata": {},
     "output_type": "execute_result"
    }
   ],
   "source": [
    "model.fit(X_train, y_train)"
   ]
  },
  {
   "cell_type": "code",
   "execution_count": 30,
   "id": "2e1700c5",
   "metadata": {
    "ExecuteTime": {
     "end_time": "2021-11-17T22:55:27.052987Z",
     "start_time": "2021-11-17T22:55:27.017084Z"
    }
   },
   "outputs": [
    {
     "data": {
      "text/plain": [
       "array([0, 0, 1, ..., 0, 1, 0], dtype=int64)"
      ]
     },
     "execution_count": 30,
     "metadata": {},
     "output_type": "execute_result"
    }
   ],
   "source": [
    "y_pred = model.predict(X_test)\n",
    "y_pred"
   ]
  },
  {
   "cell_type": "code",
   "execution_count": 32,
   "id": "70040a41",
   "metadata": {
    "ExecuteTime": {
     "end_time": "2021-11-17T22:57:36.462007Z",
     "start_time": "2021-11-17T22:57:36.412146Z"
    }
   },
   "outputs": [
    {
     "data": {
      "text/plain": [
       "array([[0.65204218, 0.34795782],\n",
       "       [0.70666268, 0.29333732],\n",
       "       [0.40130828, 0.59869172],\n",
       "       ...,\n",
       "       [0.64941266, 0.35058734],\n",
       "       [0.4920174 , 0.5079826 ],\n",
       "       [0.59787969, 0.40212031]])"
      ]
     },
     "execution_count": 32,
     "metadata": {},
     "output_type": "execute_result"
    }
   ],
   "source": [
    "y_pred_proba = model.predict_proba(X_test)\n",
    "y_pred_proba"
   ]
  },
  {
   "cell_type": "code",
   "execution_count": 33,
   "id": "8a913b82",
   "metadata": {
    "ExecuteTime": {
     "end_time": "2021-11-17T23:01:25.261425Z",
     "start_time": "2021-11-17T23:01:24.838550Z"
    }
   },
   "outputs": [
    {
     "data": {
      "image/png": "[encoded data removed]",
      "text/plain": [
       "<Figure size 432x288 with 1 Axes>"
      ]
     },
     "metadata": {
      "needs_background": "light"
     },
     "output_type": "display_data"
    }
   ],
   "source": [
    "from mlxtend.plotting import plot_confusion_matrix\n",
    "from sklearn.metrics import confusion_matrix\n",
    "import matplotlib.pyplot as plt\n",
    "\n",
    "cm = confusion_matrix(y_test, y_pred)\n",
    "\n",
    "plot_confusion_matrix(conf_mat=cm)\n",
    "plt.show()"
   ]
  },
  {
   "cell_type": "code",
   "execution_count": 34,
   "id": "2959cb29",
   "metadata": {
    "ExecuteTime": {
     "end_time": "2021-11-17T23:01:34.200132Z",
     "start_time": "2021-11-17T23:01:33.907909Z"
    }
   },
   "outputs": [
    {
     "name": "stdout",
     "output_type": "stream",
     "text": [
      "Acurácia:  0.6484840821328872\n",
      "Precision:  0.6589264173703256\n",
      "Recall:  0.2638315342075394\n",
      "F1-Score:  0.376795599165359\n"
     ]
    }
   ],
   "source": [
    "print('Acurácia: ', accuracy_score(y_test, y_pred))\n",
    "print('Precision: ', precision_score(y_test, y_pred))\n",
    "print('Recall: ', recall_score(y_test, y_pred))\n",
    "print('F1-Score: ', f1_score(y_test, y_pred))"
   ]
  },
  {
   "cell_type": "code",
   "execution_count": 36,
   "id": "31d229a7",
   "metadata": {
    "ExecuteTime": {
     "end_time": "2021-11-17T23:01:53.523300Z",
     "start_time": "2021-11-17T23:01:53.241537Z"
    }
   },
   "outputs": [
    {
     "name": "stdout",
     "output_type": "stream",
     "text": [
      "              precision    recall  f1-score   support\n",
      "\n",
      "           0       0.65      0.91      0.76     61400\n",
      "           1       0.66      0.26      0.38     41409\n",
      "\n",
      "    accuracy                           0.65    102809\n",
      "   macro avg       0.65      0.59      0.57    102809\n",
      "weighted avg       0.65      0.65      0.60    102809\n",
      "\n"
     ]
    }
   ],
   "source": [
    "print(classification_report(y_test, y_pred))"
   ]
  },
  {
   "cell_type": "markdown",
   "id": "37baad14",
   "metadata": {},
   "source": [
    "# Escolha de Threshold"
   ]
  },
  {
   "cell_type": "code",
   "execution_count": 37,
   "id": "7b9b2dbb",
   "metadata": {
    "ExecuteTime": {
     "end_time": "2021-11-17T23:03:52.657499Z",
     "start_time": "2021-11-17T23:03:52.613613Z"
    }
   },
   "outputs": [
    {
     "data": {
      "text/plain": [
       "array([[0.65204218, 0.34795782],\n",
       "       [0.70666268, 0.29333732],\n",
       "       [0.40130828, 0.59869172],\n",
       "       ...,\n",
       "       [0.64941266, 0.35058734],\n",
       "       [0.4920174 , 0.5079826 ],\n",
       "       [0.59787969, 0.40212031]])"
      ]
     },
     "execution_count": 37,
     "metadata": {},
     "output_type": "execute_result"
    }
   ],
   "source": [
    "# Criando o predict proba para a base de teste\n",
    "\n",
    "y_proba_test = model.predict_proba(X_test)\n",
    "y_proba_test"
   ]
  },
  {
   "cell_type": "code",
   "execution_count": 38,
   "id": "bf3935c0",
   "metadata": {
    "ExecuteTime": {
     "end_time": "2021-11-17T23:04:04.679737Z",
     "start_time": "2021-11-17T23:04:04.651814Z"
    }
   },
   "outputs": [],
   "source": [
    "results_test = pd.DataFrame(y_test)\n",
    "results_test['proba'] = np.round(y_proba_test[:, 1], 3)"
   ]
  },
  {
   "cell_type": "code",
   "execution_count": 39,
   "id": "6023fcb0",
   "metadata": {
    "ExecuteTime": {
     "end_time": "2021-11-17T23:04:10.453403Z",
     "start_time": "2021-11-17T23:04:10.436408Z"
    }
   },
   "outputs": [
    {
     "data": {
      "text/html": [
       "<div>\n",
       "<style scoped>\n",
       "    .dataframe tbody tr th:only-of-type {\n",
       "        vertical-align: middle;\n",
       "    }\n",
       "\n",
       "    .dataframe tbody tr th {\n",
       "        vertical-align: top;\n",
       "    }\n",
       "\n",
       "    .dataframe thead th {\n",
       "        text-align: right;\n",
       "    }\n",
       "</style>\n",
       "<table border=\"1\" class=\"dataframe\">\n",
       "  <thead>\n",
       "    <tr style=\"text-align: right;\">\n",
       "      <th></th>\n",
       "      <th>covid_res</th>\n",
       "      <th>proba</th>\n",
       "    </tr>\n",
       "  </thead>\n",
       "  <tbody>\n",
       "    <tr>\n",
       "      <th>206327</th>\n",
       "      <td>0</td>\n",
       "      <td>0.348</td>\n",
       "    </tr>\n",
       "    <tr>\n",
       "      <th>117552</th>\n",
       "      <td>1</td>\n",
       "      <td>0.293</td>\n",
       "    </tr>\n",
       "    <tr>\n",
       "      <th>119525</th>\n",
       "      <td>1</td>\n",
       "      <td>0.599</td>\n",
       "    </tr>\n",
       "    <tr>\n",
       "      <th>235952</th>\n",
       "      <td>0</td>\n",
       "      <td>0.270</td>\n",
       "    </tr>\n",
       "    <tr>\n",
       "      <th>172174</th>\n",
       "      <td>0</td>\n",
       "      <td>0.373</td>\n",
       "    </tr>\n",
       "  </tbody>\n",
       "</table>\n",
       "</div>"
      ],
      "text/plain": [
       "        covid_res  proba\n",
       "206327          0  0.348\n",
       "117552          1  0.293\n",
       "119525          1  0.599\n",
       "235952          0  0.270\n",
       "172174          0  0.373"
      ]
     },
     "execution_count": 39,
     "metadata": {},
     "output_type": "execute_result"
    }
   ],
   "source": [
    "#Criando um dataframe com a probabilidade da classe 1 e a marcação de target\n",
    "results_test.head()"
   ]
  },
  {
   "cell_type": "code",
   "execution_count": 40,
   "id": "354ca853",
   "metadata": {
    "ExecuteTime": {
     "end_time": "2021-11-17T23:05:56.341843Z",
     "start_time": "2021-11-17T23:05:56.331830Z"
    }
   },
   "outputs": [],
   "source": [
    "# Parâmetros para o Looping\n",
    "\n",
    "threshold_increment  = 0.02\n",
    "threshold_begin = threshold_increment\n",
    "threshold_end    = 1.0"
   ]
  },
  {
   "cell_type": "code",
   "execution_count": 42,
   "id": "e7a9fe22",
   "metadata": {
    "ExecuteTime": {
     "end_time": "2021-11-17T23:07:32.698610Z",
     "start_time": "2021-11-17T23:07:28.753492Z"
    }
   },
   "outputs": [
    {
     "name": "stdout",
     "output_type": "stream",
     "text": [
      "0.02 0.04 0.06 0.08 0.1 0.12 0.14 0.16 0.18 0.2 0.22 0.24 0.26 0.28 0.3 0.32 0.34 0.36 0.38 0.4 0.42 0.44 0.46 0.48 0.5 0.52 0.54 0.56 0.58 0.6 0.62 0.64 0.66 0.68 0.7 0.72 0.74 0.76 0.78 0.8 0.82 0.84 0.86 0.88 0.9 0.92 0.94 0.96 0.98 1.0 "
     ]
    }
   ],
   "source": [
    "import warnings\n",
    "warnings.filterwarnings('ignore')\n",
    "\n",
    "# Para cada threshold, no looping calcula TN, FN, FP, TP e outras métricas\n",
    "\n",
    "list_threshold  = []\n",
    "list_TN         = []\n",
    "list_FN         = []\n",
    "list_FP         = []\n",
    "list_TP         = []\n",
    "list_precision  = []\n",
    "list_recall     = []\n",
    "list_accuracy   = []\n",
    "list_f1_score   = []\n",
    "\n",
    "for i in np.arange(threshold_begin, threshold_end + threshold_increment, threshold_increment):\n",
    "    i_threshold = np.round(i, 2)\n",
    "    print(str(i_threshold) + ' ', end = '')\n",
    "    \n",
    "    results_test['y_pred'] = results_test['proba'].apply(lambda x: 1 if x >= i_threshold else 0)\n",
    "    results_test['flag_TN'] = np.where((results_test['y_pred'] == 0) & (results_test['covid_res'] == 0), 1, 0)\n",
    "    results_test['flag_FN'] = np.where((results_test['y_pred'] == 0) & (results_test['covid_res'] == 1), 1, 0)\n",
    "    results_test['flag_TP'] = np.where((results_test['y_pred'] == 1) & (results_test['covid_res'] == 1), 1, 0)\n",
    "    results_test['flag_FP'] = np.where((results_test['y_pred'] == 1) & (results_test['covid_res'] == 0), 1, 0)\n",
    "  \n",
    "    TN = results_test['flag_TN'].sum()\n",
    "    FN = results_test['flag_FN'].sum()\n",
    "    TP = results_test['flag_TP'].sum()\n",
    "    FP = results_test['flag_FP'].sum()\n",
    "    \n",
    "    precision = np.where((TP + FP) > 0, TP / (TP + FP), 0)\n",
    "    recall = np.where((TP + FN) > 0, TP / (TP + FN), 0)\n",
    "    accuracy = np.where((TN + FN + TP + FP) > 0, \n",
    "                         (TP + TN)/(TN + FN + TP + FP), 0)\n",
    "    f1_score = np.where((precision + recall) > 0, (2 * precision * recall)/(precision + recall), 0)\n",
    "    \n",
    "    list_threshold.append(i_threshold)\n",
    "    list_TN.append(TN)\n",
    "    list_FN.append(FN)\n",
    "    list_FP.append(FP)\n",
    "    list_TP.append(TP)\n",
    "    list_precision.append(np.round(precision, 4))\n",
    "    list_recall.append(np.round(recall, 4))\n",
    "    list_accuracy.append(np.round(accuracy, 4))\n",
    "    list_f1_score.append(np.round(f1_score, 4))\n",
    "\n",
    "#---------------------\n",
    "dict_output = {\n",
    "  \"threshold\" : list_threshold, \n",
    "  \"TN\" : list_TN,\n",
    "  \"FN\" : list_FN,\n",
    "  \"FP\" : list_FP,\n",
    "  \"TP\" : list_TP,\n",
    "  \"precision\" : list_precision,\n",
    "  \"recall\" : list_recall,\n",
    "  \"accuracy\" : list_accuracy,\n",
    "  \"f1_score\" : list_f1_score\n",
    "}\n",
    "\n",
    "df_results = pd.DataFrame(dict_output)"
   ]
  },
  {
   "cell_type": "code",
   "execution_count": 43,
   "id": "f019b2b5",
   "metadata": {
    "ExecuteTime": {
     "end_time": "2021-11-17T23:08:48.561747Z",
     "start_time": "2021-11-17T23:08:48.483954Z"
    },
    "scrolled": true
   },
   "outputs": [
    {
     "data": {
      "text/html": [
       "<div>\n",
       "<style scoped>\n",
       "    .dataframe tbody tr th:only-of-type {\n",
       "        vertical-align: middle;\n",
       "    }\n",
       "\n",
       "    .dataframe tbody tr th {\n",
       "        vertical-align: top;\n",
       "    }\n",
       "\n",
       "    .dataframe thead th {\n",
       "        text-align: right;\n",
       "    }\n",
       "</style>\n",
       "<table border=\"1\" class=\"dataframe\">\n",
       "  <thead>\n",
       "    <tr style=\"text-align: right;\">\n",
       "      <th></th>\n",
       "      <th>threshold</th>\n",
       "      <th>TN</th>\n",
       "      <th>FN</th>\n",
       "      <th>FP</th>\n",
       "      <th>TP</th>\n",
       "      <th>precision</th>\n",
       "      <th>recall</th>\n",
       "      <th>accuracy</th>\n",
       "      <th>f1_score</th>\n",
       "    </tr>\n",
       "  </thead>\n",
       "  <tbody>\n",
       "    <tr>\n",
       "      <th>0</th>\n",
       "      <td>0.02</td>\n",
       "      <td>0</td>\n",
       "      <td>0</td>\n",
       "      <td>61400</td>\n",
       "      <td>41409</td>\n",
       "      <td>0.4028</td>\n",
       "      <td>1.0000</td>\n",
       "      <td>0.4028</td>\n",
       "      <td>0.5743</td>\n",
       "    </tr>\n",
       "    <tr>\n",
       "      <th>1</th>\n",
       "      <td>0.04</td>\n",
       "      <td>0</td>\n",
       "      <td>0</td>\n",
       "      <td>61400</td>\n",
       "      <td>41409</td>\n",
       "      <td>0.4028</td>\n",
       "      <td>1.0000</td>\n",
       "      <td>0.4028</td>\n",
       "      <td>0.5743</td>\n",
       "    </tr>\n",
       "    <tr>\n",
       "      <th>2</th>\n",
       "      <td>0.06</td>\n",
       "      <td>0</td>\n",
       "      <td>0</td>\n",
       "      <td>61400</td>\n",
       "      <td>41409</td>\n",
       "      <td>0.4028</td>\n",
       "      <td>1.0000</td>\n",
       "      <td>0.4028</td>\n",
       "      <td>0.5743</td>\n",
       "    </tr>\n",
       "    <tr>\n",
       "      <th>3</th>\n",
       "      <td>0.08</td>\n",
       "      <td>3</td>\n",
       "      <td>4</td>\n",
       "      <td>61397</td>\n",
       "      <td>41405</td>\n",
       "      <td>0.4028</td>\n",
       "      <td>0.9999</td>\n",
       "      <td>0.4028</td>\n",
       "      <td>0.5742</td>\n",
       "    </tr>\n",
       "    <tr>\n",
       "      <th>4</th>\n",
       "      <td>0.10</td>\n",
       "      <td>10</td>\n",
       "      <td>6</td>\n",
       "      <td>61390</td>\n",
       "      <td>41403</td>\n",
       "      <td>0.4028</td>\n",
       "      <td>0.9999</td>\n",
       "      <td>0.4028</td>\n",
       "      <td>0.5742</td>\n",
       "    </tr>\n",
       "    <tr>\n",
       "      <th>5</th>\n",
       "      <td>0.12</td>\n",
       "      <td>13</td>\n",
       "      <td>7</td>\n",
       "      <td>61387</td>\n",
       "      <td>41402</td>\n",
       "      <td>0.4028</td>\n",
       "      <td>0.9998</td>\n",
       "      <td>0.4028</td>\n",
       "      <td>0.5742</td>\n",
       "    </tr>\n",
       "    <tr>\n",
       "      <th>6</th>\n",
       "      <td>0.14</td>\n",
       "      <td>30</td>\n",
       "      <td>10</td>\n",
       "      <td>61370</td>\n",
       "      <td>41399</td>\n",
       "      <td>0.4028</td>\n",
       "      <td>0.9998</td>\n",
       "      <td>0.4030</td>\n",
       "      <td>0.5743</td>\n",
       "    </tr>\n",
       "    <tr>\n",
       "      <th>7</th>\n",
       "      <td>0.16</td>\n",
       "      <td>57</td>\n",
       "      <td>15</td>\n",
       "      <td>61343</td>\n",
       "      <td>41394</td>\n",
       "      <td>0.4029</td>\n",
       "      <td>0.9996</td>\n",
       "      <td>0.4032</td>\n",
       "      <td>0.5743</td>\n",
       "    </tr>\n",
       "    <tr>\n",
       "      <th>8</th>\n",
       "      <td>0.18</td>\n",
       "      <td>114</td>\n",
       "      <td>36</td>\n",
       "      <td>61286</td>\n",
       "      <td>41373</td>\n",
       "      <td>0.4030</td>\n",
       "      <td>0.9991</td>\n",
       "      <td>0.4035</td>\n",
       "      <td>0.5744</td>\n",
       "    </tr>\n",
       "    <tr>\n",
       "      <th>9</th>\n",
       "      <td>0.20</td>\n",
       "      <td>212</td>\n",
       "      <td>81</td>\n",
       "      <td>61188</td>\n",
       "      <td>41328</td>\n",
       "      <td>0.4031</td>\n",
       "      <td>0.9980</td>\n",
       "      <td>0.4041</td>\n",
       "      <td>0.5743</td>\n",
       "    </tr>\n",
       "    <tr>\n",
       "      <th>10</th>\n",
       "      <td>0.22</td>\n",
       "      <td>413</td>\n",
       "      <td>145</td>\n",
       "      <td>60987</td>\n",
       "      <td>41264</td>\n",
       "      <td>0.4036</td>\n",
       "      <td>0.9965</td>\n",
       "      <td>0.4054</td>\n",
       "      <td>0.5745</td>\n",
       "    </tr>\n",
       "    <tr>\n",
       "      <th>11</th>\n",
       "      <td>0.24</td>\n",
       "      <td>989</td>\n",
       "      <td>372</td>\n",
       "      <td>60411</td>\n",
       "      <td>41037</td>\n",
       "      <td>0.4045</td>\n",
       "      <td>0.9910</td>\n",
       "      <td>0.4088</td>\n",
       "      <td>0.5745</td>\n",
       "    </tr>\n",
       "    <tr>\n",
       "      <th>12</th>\n",
       "      <td>0.26</td>\n",
       "      <td>2344</td>\n",
       "      <td>836</td>\n",
       "      <td>59056</td>\n",
       "      <td>40573</td>\n",
       "      <td>0.4072</td>\n",
       "      <td>0.9798</td>\n",
       "      <td>0.4174</td>\n",
       "      <td>0.5753</td>\n",
       "    </tr>\n",
       "    <tr>\n",
       "      <th>13</th>\n",
       "      <td>0.28</td>\n",
       "      <td>4849</td>\n",
       "      <td>1928</td>\n",
       "      <td>56551</td>\n",
       "      <td>39481</td>\n",
       "      <td>0.4111</td>\n",
       "      <td>0.9534</td>\n",
       "      <td>0.4312</td>\n",
       "      <td>0.5745</td>\n",
       "    </tr>\n",
       "    <tr>\n",
       "      <th>14</th>\n",
       "      <td>0.30</td>\n",
       "      <td>10678</td>\n",
       "      <td>4239</td>\n",
       "      <td>50722</td>\n",
       "      <td>37170</td>\n",
       "      <td>0.4229</td>\n",
       "      <td>0.8976</td>\n",
       "      <td>0.4654</td>\n",
       "      <td>0.5749</td>\n",
       "    </tr>\n",
       "    <tr>\n",
       "      <th>15</th>\n",
       "      <td>0.32</td>\n",
       "      <td>17241</td>\n",
       "      <td>7287</td>\n",
       "      <td>44159</td>\n",
       "      <td>34122</td>\n",
       "      <td>0.4359</td>\n",
       "      <td>0.8240</td>\n",
       "      <td>0.4996</td>\n",
       "      <td>0.5702</td>\n",
       "    </tr>\n",
       "    <tr>\n",
       "      <th>16</th>\n",
       "      <td>0.34</td>\n",
       "      <td>24823</td>\n",
       "      <td>10974</td>\n",
       "      <td>36577</td>\n",
       "      <td>30435</td>\n",
       "      <td>0.4542</td>\n",
       "      <td>0.7350</td>\n",
       "      <td>0.5375</td>\n",
       "      <td>0.5614</td>\n",
       "    </tr>\n",
       "    <tr>\n",
       "      <th>17</th>\n",
       "      <td>0.36</td>\n",
       "      <td>33298</td>\n",
       "      <td>15150</td>\n",
       "      <td>28102</td>\n",
       "      <td>26259</td>\n",
       "      <td>0.4830</td>\n",
       "      <td>0.6341</td>\n",
       "      <td>0.5793</td>\n",
       "      <td>0.5484</td>\n",
       "    </tr>\n",
       "    <tr>\n",
       "      <th>18</th>\n",
       "      <td>0.38</td>\n",
       "      <td>39521</td>\n",
       "      <td>18795</td>\n",
       "      <td>21879</td>\n",
       "      <td>22614</td>\n",
       "      <td>0.5083</td>\n",
       "      <td>0.5461</td>\n",
       "      <td>0.6044</td>\n",
       "      <td>0.5265</td>\n",
       "    </tr>\n",
       "    <tr>\n",
       "      <th>19</th>\n",
       "      <td>0.40</td>\n",
       "      <td>44471</td>\n",
       "      <td>21857</td>\n",
       "      <td>16929</td>\n",
       "      <td>19552</td>\n",
       "      <td>0.5360</td>\n",
       "      <td>0.4722</td>\n",
       "      <td>0.6227</td>\n",
       "      <td>0.5020</td>\n",
       "    </tr>\n",
       "    <tr>\n",
       "      <th>20</th>\n",
       "      <td>0.42</td>\n",
       "      <td>48156</td>\n",
       "      <td>24395</td>\n",
       "      <td>13244</td>\n",
       "      <td>17014</td>\n",
       "      <td>0.5623</td>\n",
       "      <td>0.4109</td>\n",
       "      <td>0.6339</td>\n",
       "      <td>0.4748</td>\n",
       "    </tr>\n",
       "    <tr>\n",
       "      <th>21</th>\n",
       "      <td>0.44</td>\n",
       "      <td>50989</td>\n",
       "      <td>26439</td>\n",
       "      <td>10411</td>\n",
       "      <td>14970</td>\n",
       "      <td>0.5898</td>\n",
       "      <td>0.3615</td>\n",
       "      <td>0.6416</td>\n",
       "      <td>0.4483</td>\n",
       "    </tr>\n",
       "    <tr>\n",
       "      <th>22</th>\n",
       "      <td>0.46</td>\n",
       "      <td>53055</td>\n",
       "      <td>28064</td>\n",
       "      <td>8345</td>\n",
       "      <td>13345</td>\n",
       "      <td>0.6153</td>\n",
       "      <td>0.3223</td>\n",
       "      <td>0.6459</td>\n",
       "      <td>0.4230</td>\n",
       "    </tr>\n",
       "    <tr>\n",
       "      <th>23</th>\n",
       "      <td>0.48</td>\n",
       "      <td>54588</td>\n",
       "      <td>29353</td>\n",
       "      <td>6812</td>\n",
       "      <td>12056</td>\n",
       "      <td>0.6390</td>\n",
       "      <td>0.2911</td>\n",
       "      <td>0.6482</td>\n",
       "      <td>0.4000</td>\n",
       "    </tr>\n",
       "    <tr>\n",
       "      <th>24</th>\n",
       "      <td>0.50</td>\n",
       "      <td>55715</td>\n",
       "      <td>30462</td>\n",
       "      <td>5685</td>\n",
       "      <td>10947</td>\n",
       "      <td>0.6582</td>\n",
       "      <td>0.2644</td>\n",
       "      <td>0.6484</td>\n",
       "      <td>0.3772</td>\n",
       "    </tr>\n",
       "    <tr>\n",
       "      <th>25</th>\n",
       "      <td>0.52</td>\n",
       "      <td>56553</td>\n",
       "      <td>31284</td>\n",
       "      <td>4847</td>\n",
       "      <td>10125</td>\n",
       "      <td>0.6763</td>\n",
       "      <td>0.2445</td>\n",
       "      <td>0.6486</td>\n",
       "      <td>0.3592</td>\n",
       "    </tr>\n",
       "    <tr>\n",
       "      <th>26</th>\n",
       "      <td>0.54</td>\n",
       "      <td>57101</td>\n",
       "      <td>31918</td>\n",
       "      <td>4299</td>\n",
       "      <td>9491</td>\n",
       "      <td>0.6883</td>\n",
       "      <td>0.2292</td>\n",
       "      <td>0.6477</td>\n",
       "      <td>0.3439</td>\n",
       "    </tr>\n",
       "    <tr>\n",
       "      <th>27</th>\n",
       "      <td>0.56</td>\n",
       "      <td>57580</td>\n",
       "      <td>32425</td>\n",
       "      <td>3820</td>\n",
       "      <td>8984</td>\n",
       "      <td>0.7017</td>\n",
       "      <td>0.2170</td>\n",
       "      <td>0.6475</td>\n",
       "      <td>0.3314</td>\n",
       "    </tr>\n",
       "    <tr>\n",
       "      <th>28</th>\n",
       "      <td>0.58</td>\n",
       "      <td>58048</td>\n",
       "      <td>32901</td>\n",
       "      <td>3352</td>\n",
       "      <td>8508</td>\n",
       "      <td>0.7174</td>\n",
       "      <td>0.2055</td>\n",
       "      <td>0.6474</td>\n",
       "      <td>0.3194</td>\n",
       "    </tr>\n",
       "    <tr>\n",
       "      <th>29</th>\n",
       "      <td>0.60</td>\n",
       "      <td>58390</td>\n",
       "      <td>33363</td>\n",
       "      <td>3010</td>\n",
       "      <td>8046</td>\n",
       "      <td>0.7277</td>\n",
       "      <td>0.1943</td>\n",
       "      <td>0.6462</td>\n",
       "      <td>0.3067</td>\n",
       "    </tr>\n",
       "    <tr>\n",
       "      <th>30</th>\n",
       "      <td>0.62</td>\n",
       "      <td>58682</td>\n",
       "      <td>33871</td>\n",
       "      <td>2718</td>\n",
       "      <td>7538</td>\n",
       "      <td>0.7350</td>\n",
       "      <td>0.1820</td>\n",
       "      <td>0.6441</td>\n",
       "      <td>0.2918</td>\n",
       "    </tr>\n",
       "    <tr>\n",
       "      <th>31</th>\n",
       "      <td>0.64</td>\n",
       "      <td>58980</td>\n",
       "      <td>34426</td>\n",
       "      <td>2420</td>\n",
       "      <td>6983</td>\n",
       "      <td>0.7426</td>\n",
       "      <td>0.1686</td>\n",
       "      <td>0.6416</td>\n",
       "      <td>0.2749</td>\n",
       "    </tr>\n",
       "    <tr>\n",
       "      <th>32</th>\n",
       "      <td>0.66</td>\n",
       "      <td>59268</td>\n",
       "      <td>35078</td>\n",
       "      <td>2132</td>\n",
       "      <td>6331</td>\n",
       "      <td>0.7481</td>\n",
       "      <td>0.1529</td>\n",
       "      <td>0.6381</td>\n",
       "      <td>0.2539</td>\n",
       "    </tr>\n",
       "    <tr>\n",
       "      <th>33</th>\n",
       "      <td>0.68</td>\n",
       "      <td>59600</td>\n",
       "      <td>35889</td>\n",
       "      <td>1800</td>\n",
       "      <td>5520</td>\n",
       "      <td>0.7541</td>\n",
       "      <td>0.1333</td>\n",
       "      <td>0.6334</td>\n",
       "      <td>0.2266</td>\n",
       "    </tr>\n",
       "    <tr>\n",
       "      <th>34</th>\n",
       "      <td>0.70</td>\n",
       "      <td>59935</td>\n",
       "      <td>36849</td>\n",
       "      <td>1465</td>\n",
       "      <td>4560</td>\n",
       "      <td>0.7568</td>\n",
       "      <td>0.1101</td>\n",
       "      <td>0.6273</td>\n",
       "      <td>0.1923</td>\n",
       "    </tr>\n",
       "    <tr>\n",
       "      <th>35</th>\n",
       "      <td>0.72</td>\n",
       "      <td>60287</td>\n",
       "      <td>37895</td>\n",
       "      <td>1113</td>\n",
       "      <td>3514</td>\n",
       "      <td>0.7595</td>\n",
       "      <td>0.0849</td>\n",
       "      <td>0.6206</td>\n",
       "      <td>0.1527</td>\n",
       "    </tr>\n",
       "    <tr>\n",
       "      <th>36</th>\n",
       "      <td>0.74</td>\n",
       "      <td>60624</td>\n",
       "      <td>38895</td>\n",
       "      <td>776</td>\n",
       "      <td>2514</td>\n",
       "      <td>0.7641</td>\n",
       "      <td>0.0607</td>\n",
       "      <td>0.6141</td>\n",
       "      <td>0.1125</td>\n",
       "    </tr>\n",
       "    <tr>\n",
       "      <th>37</th>\n",
       "      <td>0.76</td>\n",
       "      <td>60899</td>\n",
       "      <td>39822</td>\n",
       "      <td>501</td>\n",
       "      <td>1587</td>\n",
       "      <td>0.7601</td>\n",
       "      <td>0.0383</td>\n",
       "      <td>0.6078</td>\n",
       "      <td>0.0730</td>\n",
       "    </tr>\n",
       "    <tr>\n",
       "      <th>38</th>\n",
       "      <td>0.78</td>\n",
       "      <td>61139</td>\n",
       "      <td>40562</td>\n",
       "      <td>261</td>\n",
       "      <td>847</td>\n",
       "      <td>0.7644</td>\n",
       "      <td>0.0205</td>\n",
       "      <td>0.6029</td>\n",
       "      <td>0.0398</td>\n",
       "    </tr>\n",
       "    <tr>\n",
       "      <th>39</th>\n",
       "      <td>0.80</td>\n",
       "      <td>61277</td>\n",
       "      <td>41045</td>\n",
       "      <td>123</td>\n",
       "      <td>364</td>\n",
       "      <td>0.7474</td>\n",
       "      <td>0.0088</td>\n",
       "      <td>0.5996</td>\n",
       "      <td>0.0174</td>\n",
       "    </tr>\n",
       "    <tr>\n",
       "      <th>40</th>\n",
       "      <td>0.82</td>\n",
       "      <td>61354</td>\n",
       "      <td>41279</td>\n",
       "      <td>46</td>\n",
       "      <td>130</td>\n",
       "      <td>0.7386</td>\n",
       "      <td>0.0031</td>\n",
       "      <td>0.5980</td>\n",
       "      <td>0.0063</td>\n",
       "    </tr>\n",
       "    <tr>\n",
       "      <th>41</th>\n",
       "      <td>0.84</td>\n",
       "      <td>61386</td>\n",
       "      <td>41389</td>\n",
       "      <td>14</td>\n",
       "      <td>20</td>\n",
       "      <td>0.5882</td>\n",
       "      <td>0.0005</td>\n",
       "      <td>0.5973</td>\n",
       "      <td>0.0010</td>\n",
       "    </tr>\n",
       "    <tr>\n",
       "      <th>42</th>\n",
       "      <td>0.86</td>\n",
       "      <td>61397</td>\n",
       "      <td>41407</td>\n",
       "      <td>3</td>\n",
       "      <td>2</td>\n",
       "      <td>0.4000</td>\n",
       "      <td>0.0000</td>\n",
       "      <td>0.5972</td>\n",
       "      <td>0.0001</td>\n",
       "    </tr>\n",
       "    <tr>\n",
       "      <th>43</th>\n",
       "      <td>0.88</td>\n",
       "      <td>61400</td>\n",
       "      <td>41409</td>\n",
       "      <td>0</td>\n",
       "      <td>0</td>\n",
       "      <td>0.0000</td>\n",
       "      <td>0.0000</td>\n",
       "      <td>0.5972</td>\n",
       "      <td>0.0000</td>\n",
       "    </tr>\n",
       "    <tr>\n",
       "      <th>44</th>\n",
       "      <td>0.90</td>\n",
       "      <td>61400</td>\n",
       "      <td>41409</td>\n",
       "      <td>0</td>\n",
       "      <td>0</td>\n",
       "      <td>0.0000</td>\n",
       "      <td>0.0000</td>\n",
       "      <td>0.5972</td>\n",
       "      <td>0.0000</td>\n",
       "    </tr>\n",
       "    <tr>\n",
       "      <th>45</th>\n",
       "      <td>0.92</td>\n",
       "      <td>61400</td>\n",
       "      <td>41409</td>\n",
       "      <td>0</td>\n",
       "      <td>0</td>\n",
       "      <td>0.0000</td>\n",
       "      <td>0.0000</td>\n",
       "      <td>0.5972</td>\n",
       "      <td>0.0000</td>\n",
       "    </tr>\n",
       "    <tr>\n",
       "      <th>46</th>\n",
       "      <td>0.94</td>\n",
       "      <td>61400</td>\n",
       "      <td>41409</td>\n",
       "      <td>0</td>\n",
       "      <td>0</td>\n",
       "      <td>0.0000</td>\n",
       "      <td>0.0000</td>\n",
       "      <td>0.5972</td>\n",
       "      <td>0.0000</td>\n",
       "    </tr>\n",
       "    <tr>\n",
       "      <th>47</th>\n",
       "      <td>0.96</td>\n",
       "      <td>61400</td>\n",
       "      <td>41409</td>\n",
       "      <td>0</td>\n",
       "      <td>0</td>\n",
       "      <td>0.0000</td>\n",
       "      <td>0.0000</td>\n",
       "      <td>0.5972</td>\n",
       "      <td>0.0000</td>\n",
       "    </tr>\n",
       "    <tr>\n",
       "      <th>48</th>\n",
       "      <td>0.98</td>\n",
       "      <td>61400</td>\n",
       "      <td>41409</td>\n",
       "      <td>0</td>\n",
       "      <td>0</td>\n",
       "      <td>0.0000</td>\n",
       "      <td>0.0000</td>\n",
       "      <td>0.5972</td>\n",
       "      <td>0.0000</td>\n",
       "    </tr>\n",
       "    <tr>\n",
       "      <th>49</th>\n",
       "      <td>1.00</td>\n",
       "      <td>61400</td>\n",
       "      <td>41409</td>\n",
       "      <td>0</td>\n",
       "      <td>0</td>\n",
       "      <td>0.0000</td>\n",
       "      <td>0.0000</td>\n",
       "      <td>0.5972</td>\n",
       "      <td>0.0000</td>\n",
       "    </tr>\n",
       "  </tbody>\n",
       "</table>\n",
       "</div>"
      ],
      "text/plain": [
       "    threshold     TN     FN     FP     TP  precision  recall  accuracy  \\\n",
       "0        0.02      0      0  61400  41409     0.4028  1.0000    0.4028   \n",
       "1        0.04      0      0  61400  41409     0.4028  1.0000    0.4028   \n",
       "2        0.06      0      0  61400  41409     0.4028  1.0000    0.4028   \n",
       "3        0.08      3      4  61397  41405     0.4028  0.9999    0.4028   \n",
       "4        0.10     10      6  61390  41403     0.4028  0.9999    0.4028   \n",
       "5        0.12     13      7  61387  41402     0.4028  0.9998    0.4028   \n",
       "6        0.14     30     10  61370  41399     0.4028  0.9998    0.4030   \n",
       "7        0.16     57     15  61343  41394     0.4029  0.9996    0.4032   \n",
       "8        0.18    114     36  61286  41373     0.4030  0.9991    0.4035   \n",
       "9        0.20    212     81  61188  41328     0.4031  0.9980    0.4041   \n",
       "10       0.22    413    145  60987  41264     0.4036  0.9965    0.4054   \n",
       "11       0.24    989    372  60411  41037     0.4045  0.9910    0.4088   \n",
       "12       0.26   2344    836  59056  40573     0.4072  0.9798    0.4174   \n",
       "13       0.28   4849   1928  56551  39481     0.4111  0.9534    0.4312   \n",
       "14       0.30  10678   4239  50722  37170     0.4229  0.8976    0.4654   \n",
       "15       0.32  17241   7287  44159  34122     0.4359  0.8240    0.4996   \n",
       "16       0.34  24823  10974  36577  30435     0.4542  0.7350    0.5375   \n",
       "17       0.36  33298  15150  28102  26259     0.4830  0.6341    0.5793   \n",
       "18       0.38  39521  18795  21879  22614     0.5083  0.5461    0.6044   \n",
       "19       0.40  44471  21857  16929  19552     0.5360  0.4722    0.6227   \n",
       "20       0.42  48156  24395  13244  17014     0.5623  0.4109    0.6339   \n",
       "21       0.44  50989  26439  10411  14970     0.5898  0.3615    0.6416   \n",
       "22       0.46  53055  28064   8345  13345     0.6153  0.3223    0.6459   \n",
       "23       0.48  54588  29353   6812  12056     0.6390  0.2911    0.6482   \n",
       "24       0.50  55715  30462   5685  10947     0.6582  0.2644    0.6484   \n",
       "25       0.52  56553  31284   4847  10125     0.6763  0.2445    0.6486   \n",
       "26       0.54  57101  31918   4299   9491     0.6883  0.2292    0.6477   \n",
       "27       0.56  57580  32425   3820   8984     0.7017  0.2170    0.6475   \n",
       "28       0.58  58048  32901   3352   8508     0.7174  0.2055    0.6474   \n",
       "29       0.60  58390  33363   3010   8046     0.7277  0.1943    0.6462   \n",
       "30       0.62  58682  33871   2718   7538     0.7350  0.1820    0.6441   \n",
       "31       0.64  58980  34426   2420   6983     0.7426  0.1686    0.6416   \n",
       "32       0.66  59268  35078   2132   6331     0.7481  0.1529    0.6381   \n",
       "33       0.68  59600  35889   1800   5520     0.7541  0.1333    0.6334   \n",
       "34       0.70  59935  36849   1465   4560     0.7568  0.1101    0.6273   \n",
       "35       0.72  60287  37895   1113   3514     0.7595  0.0849    0.6206   \n",
       "36       0.74  60624  38895    776   2514     0.7641  0.0607    0.6141   \n",
       "37       0.76  60899  39822    501   1587     0.7601  0.0383    0.6078   \n",
       "38       0.78  61139  40562    261    847     0.7644  0.0205    0.6029   \n",
       "39       0.80  61277  41045    123    364     0.7474  0.0088    0.5996   \n",
       "40       0.82  61354  41279     46    130     0.7386  0.0031    0.5980   \n",
       "41       0.84  61386  41389     14     20     0.5882  0.0005    0.5973   \n",
       "42       0.86  61397  41407      3      2     0.4000  0.0000    0.5972   \n",
       "43       0.88  61400  41409      0      0     0.0000  0.0000    0.5972   \n",
       "44       0.90  61400  41409      0      0     0.0000  0.0000    0.5972   \n",
       "45       0.92  61400  41409      0      0     0.0000  0.0000    0.5972   \n",
       "46       0.94  61400  41409      0      0     0.0000  0.0000    0.5972   \n",
       "47       0.96  61400  41409      0      0     0.0000  0.0000    0.5972   \n",
       "48       0.98  61400  41409      0      0     0.0000  0.0000    0.5972   \n",
       "49       1.00  61400  41409      0      0     0.0000  0.0000    0.5972   \n",
       "\n",
       "    f1_score  \n",
       "0     0.5743  \n",
       "1     0.5743  \n",
       "2     0.5743  \n",
       "3     0.5742  \n",
       "4     0.5742  \n",
       "5     0.5742  \n",
       "6     0.5743  \n",
       "7     0.5743  \n",
       "8     0.5744  \n",
       "9     0.5743  \n",
       "10    0.5745  \n",
       "11    0.5745  \n",
       "12    0.5753  \n",
       "13    0.5745  \n",
       "14    0.5749  \n",
       "15    0.5702  \n",
       "16    0.5614  \n",
       "17    0.5484  \n",
       "18    0.5265  \n",
       "19    0.5020  \n",
       "20    0.4748  \n",
       "21    0.4483  \n",
       "22    0.4230  \n",
       "23    0.4000  \n",
       "24    0.3772  \n",
       "25    0.3592  \n",
       "26    0.3439  \n",
       "27    0.3314  \n",
       "28    0.3194  \n",
       "29    0.3067  \n",
       "30    0.2918  \n",
       "31    0.2749  \n",
       "32    0.2539  \n",
       "33    0.2266  \n",
       "34    0.1923  \n",
       "35    0.1527  \n",
       "36    0.1125  \n",
       "37    0.0730  \n",
       "38    0.0398  \n",
       "39    0.0174  \n",
       "40    0.0063  \n",
       "41    0.0010  \n",
       "42    0.0001  \n",
       "43    0.0000  \n",
       "44    0.0000  \n",
       "45    0.0000  \n",
       "46    0.0000  \n",
       "47    0.0000  \n",
       "48    0.0000  \n",
       "49    0.0000  "
      ]
     },
     "execution_count": 43,
     "metadata": {},
     "output_type": "execute_result"
    }
   ],
   "source": [
    "df_results"
   ]
  },
  {
   "cell_type": "code",
   "execution_count": 45,
   "id": "bd46243c",
   "metadata": {
    "ExecuteTime": {
     "end_time": "2021-11-17T23:13:07.048982Z",
     "start_time": "2021-11-17T23:13:06.677478Z"
    },
    "code_folding": [
     0
    ],
    "hide_input": false
   },
   "outputs": [
    {
     "data": {
      "text/plain": [
       "Text(0.5, 1.0, 'Precision and Recall')"
      ]
     },
     "execution_count": 45,
     "metadata": {},
     "output_type": "execute_result"
    },
    {
     "data": {
      "image/png": "[encoded data removed]",
      "text/plain": [
       "<Figure size 576x432 with 1 Axes>"
      ]
     },
     "metadata": {
      "needs_background": "light"
     },
     "output_type": "display_data"
    }
   ],
   "source": [
    "# Precison-Recall-Threshold Curve\n",
    "\n",
    "k = 2\n",
    "fig = plt.figure(figsize = (k*4,k*3))\n",
    "ax1 = fig.add_subplot(111)\n",
    "ax1.scatter(df_results['threshold'], df_results['precision'], color = 'b', s = 7, label='precisão')\n",
    "ax1.scatter(df_results['threshold'], df_results['recall']   , color = 'g', s = 7, label = 'recall')\n",
    "ax1.set_xlabel('Threshold', fontsize = 12)\n",
    "ax1.set_ylabel('Proportion', fontsize = 12)\n",
    "plt.legend()\n",
    "plt.title(\"Precision and Recall\", fontsize = 15)"
   ]
  },
  {
   "cell_type": "code",
   "execution_count": 46,
   "id": "caec6fd5",
   "metadata": {
    "ExecuteTime": {
     "end_time": "2021-11-17T23:13:22.964800Z",
     "start_time": "2021-11-17T23:13:22.624711Z"
    },
    "code_folding": [
     0
    ],
    "hide_input": false
   },
   "outputs": [
    {
     "data": {
      "text/plain": [
       "[Text(0.5, 0, 'Threshold'), Text(0, 0.5, 'F1 Score'), (0.0, 1.02), (0.0, 1.0)]"
      ]
     },
     "execution_count": 46,
     "metadata": {},
     "output_type": "execute_result"
    },
    {
     "data": {
      "image/png": "[encoded data removed]",
      "text/plain": [
       "<Figure size 576x432 with 1 Axes>"
      ]
     },
     "metadata": {
      "needs_background": "light"
     },
     "output_type": "display_data"
    }
   ],
   "source": [
    "# F1-Score Curve\n",
    "\n",
    "grap = df_results[df_results[\"threshold\"] > 0.0].plot(kind=\"scatter\", \n",
    "                                                         x=\"threshold\", \n",
    "                                                         y=\"f1_score\", \n",
    "                                                         grid=False, \n",
    "                                                         legend=True, \n",
    "                                                         title=\"F1-Score\",\n",
    "                                                         figsize=[8,6])\n",
    "grap.set(xlabel=\"Threshold\", \n",
    "            ylabel=\"F1 Score\", \n",
    "            xlim=(0.0,1.02), \n",
    "            ylim=(0.0,1.0))\n"
   ]
  },
  {
   "cell_type": "code",
   "execution_count": 47,
   "id": "9ad43663",
   "metadata": {
    "ExecuteTime": {
     "end_time": "2021-11-17T23:15:30.844811Z",
     "start_time": "2021-11-17T23:15:30.834828Z"
    }
   },
   "outputs": [
    {
     "data": {
      "text/plain": [
       "array([1, 0, 1, ..., 1, 1, 1])"
      ]
     },
     "execution_count": 47,
     "metadata": {},
     "output_type": "execute_result"
    }
   ],
   "source": [
    "# Create y_predict using a new threshold\n",
    "\n",
    "y_pred2 = np.where(y_proba_test[:,1] >= 0.3, 1, 0)\n",
    "y_pred2"
   ]
  },
  {
   "cell_type": "code",
   "execution_count": 48,
   "id": "1b32a6eb",
   "metadata": {
    "ExecuteTime": {
     "end_time": "2021-11-17T23:16:10.012928Z",
     "start_time": "2021-11-17T23:16:09.752625Z"
    }
   },
   "outputs": [
    {
     "data": {
      "image/png": "[encoded data removed]",
      "text/plain": [
       "<Figure size 432x288 with 1 Axes>"
      ]
     },
     "metadata": {
      "needs_background": "light"
     },
     "output_type": "display_data"
    }
   ],
   "source": [
    "cm = confusion_matrix(y_test, y_pred2)\n",
    "\n",
    "plot_confusion_matrix(conf_mat=cm)\n",
    "plt.show()"
   ]
  },
  {
   "cell_type": "code",
   "execution_count": 49,
   "id": "3df833e1",
   "metadata": {
    "ExecuteTime": {
     "end_time": "2021-11-17T23:16:17.865908Z",
     "start_time": "2021-11-17T23:16:17.594630Z"
    }
   },
   "outputs": [
    {
     "name": "stdout",
     "output_type": "stream",
     "text": [
      "              precision    recall  f1-score   support\n",
      "\n",
      "           0       0.72      0.18      0.28     61400\n",
      "           1       0.42      0.90      0.57     41409\n",
      "\n",
      "    accuracy                           0.47    102809\n",
      "   macro avg       0.57      0.54      0.43    102809\n",
      "weighted avg       0.60      0.47      0.40    102809\n",
      "\n"
     ]
    }
   ],
   "source": [
    "print(classification_report(y_test, y_pred2))"
   ]
  },
  {
   "cell_type": "code",
   "execution_count": null,
   "id": "da9e487b",
   "metadata": {},
   "outputs": [],
   "source": []
  }
 ],
 "metadata": {
  "kernelspec": {
   "display_name": "Python 3 (ipykernel)",
   "language": "python",
   "name": "python3"
  },
  "language_info": {
   "codemirror_mode": {
    "name": "ipython",
    "version": 3
   },
   "file_extension": ".py",
   "mimetype": "text/x-python",
   "name": "python",
   "nbconvert_exporter": "python",
   "pygments_lexer": "ipython3",
   "version": "3.9.7"
  },
  "varInspector": {
   "cols": {
    "lenName": 16,
    "lenType": 16,
    "lenVar": 40
   },
   "kernels_config": {
    "python": {
     "delete_cmd_postfix": "",
     "delete_cmd_prefix": "del ",
     "library": "var_list.py",
     "varRefreshCmd": "print(var_dic_list())"
    },
    "r": {
     "delete_cmd_postfix": ") ",
     "delete_cmd_prefix": "rm(",
     "library": "var_list.r",
     "varRefreshCmd": "cat(var_dic_list()) "
    }
   },
   "types_to_exclude": [
    "module",
    "function",
    "builtin_function_or_method",
    "instance",
    "_Feature"
   ],
   "window_display": false
  }
 },
 "nbformat": 4,
 "nbformat_minor": 5
}
