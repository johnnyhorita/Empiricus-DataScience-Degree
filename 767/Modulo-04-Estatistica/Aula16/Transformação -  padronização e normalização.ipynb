{
 "cells": [
  {
   "cell_type": "markdown",
   "id": "933a3a0d",
   "metadata": {},
   "source": [
    "# Transformação: padronização e normalização"
   ]
  },
  {
   "cell_type": "markdown",
   "id": "a165c2a0",
   "metadata": {},
   "source": [
    "Um dos objetivos principais da transformação de dados é converter um conjunto bruto em uma forma padrao de uso.\n",
    "\n",
    "Existem várias técnicas de transformação de dados"
   ]
  },
  {
   "cell_type": "markdown",
   "id": "22b5dd84",
   "metadata": {},
   "source": [
    "- Normalização Min-Max\n",
    "\n",
    "Transformação onde os dados de um atributo são normalizados gerando valores entre 0,0 a 1,0\n",
    "\n",
    "\n",
    "$$\n",
    "valor\\  transformado = \\frac{(valor\\ original - valor\\ mínimo)}{(valor\\ máximo - valor\\ mínimo)}\n",
    "$$\n",
    "\n",
    "- Padronização\n",
    "\n",
    "Transforma os valoes em números de desvios padrões a partir da média.\n",
    "\n",
    "$$\n",
    "Z = \\frac{(X - \\bar{X})}{(std)}\n",
    "$$\n",
    "\n",
    "\n",
    "Obs.: \n",
    "- A escala das variáveis pode afetar muito a qualidade das predições (principalmente aquelas que usam distância como medida)\n",
    "- Alguns algoritmos darão preferência para utilizar variáveis com valores muito alto\n",
    "- Padronizar as variáveis contínuas para todas terem média de 0 e desvio padrão 1 ou normalizar valores entre 0 a 1"
   ]
  },
  {
   "cell_type": "markdown",
   "id": "52e49dee",
   "metadata": {},
   "source": [
    "https://scikit-learn.org/stable/modules/preprocessing.html"
   ]
  },
  {
   "cell_type": "code",
   "execution_count": 1,
   "id": "2952d82f",
   "metadata": {
    "ExecuteTime": {
     "end_time": "2021-11-17T23:42:57.866355Z",
     "start_time": "2021-11-17T23:42:57.187532Z"
    }
   },
   "outputs": [],
   "source": [
    "import pandas as pd\n",
    "df = pd.DataFrame([\n",
    "    4763.75, 7391.72, 729.33, 2376.28, 1887.72, 1207.36, 4745.39, 3635.80,\n",
    "    8119.15, 2356.41, 13502.54, 2655.92, 3920.45, 853.32, 12819.59, 10088.13,\n",
    "    4414.62, 7293.00, 11445.93, 8339.63, 4858.72, 1616.16, 1339.24, 7108.82,\n",
    "    2054.73, 1441.01, 8981.38, 8753.71, 3426.82, 3873.20, 1165.56, 5431.64,\n",
    "    12541.13, 5889.54, 2585.15, 5146.24, 718.91, 1049.08, 9072.00, 3273.02\n",
    "], columns=['salário'])\n",
    "\n",
    "df = df.reset_index()\n",
    "\n",
    "df['index'] = df['index']+1\n",
    "\n",
    "df.columns = ['id', 'salário']"
   ]
  },
  {
   "cell_type": "code",
   "execution_count": 2,
   "id": "7e84fedf",
   "metadata": {
    "ExecuteTime": {
     "end_time": "2021-11-17T23:43:00.705425Z",
     "start_time": "2021-11-17T23:43:00.664966Z"
    },
    "scrolled": true
   },
   "outputs": [
    {
     "data": {
      "text/html": [
       "<div>\n",
       "<style scoped>\n",
       "    .dataframe tbody tr th:only-of-type {\n",
       "        vertical-align: middle;\n",
       "    }\n",
       "\n",
       "    .dataframe tbody tr th {\n",
       "        vertical-align: top;\n",
       "    }\n",
       "\n",
       "    .dataframe thead th {\n",
       "        text-align: right;\n",
       "    }\n",
       "</style>\n",
       "<table border=\"1\" class=\"dataframe\">\n",
       "  <thead>\n",
       "    <tr style=\"text-align: right;\">\n",
       "      <th></th>\n",
       "      <th>id</th>\n",
       "      <th>salário</th>\n",
       "    </tr>\n",
       "  </thead>\n",
       "  <tbody>\n",
       "    <tr>\n",
       "      <th>0</th>\n",
       "      <td>1</td>\n",
       "      <td>4763.75</td>\n",
       "    </tr>\n",
       "    <tr>\n",
       "      <th>1</th>\n",
       "      <td>2</td>\n",
       "      <td>7391.72</td>\n",
       "    </tr>\n",
       "    <tr>\n",
       "      <th>2</th>\n",
       "      <td>3</td>\n",
       "      <td>729.33</td>\n",
       "    </tr>\n",
       "    <tr>\n",
       "      <th>3</th>\n",
       "      <td>4</td>\n",
       "      <td>2376.28</td>\n",
       "    </tr>\n",
       "    <tr>\n",
       "      <th>4</th>\n",
       "      <td>5</td>\n",
       "      <td>1887.72</td>\n",
       "    </tr>\n",
       "    <tr>\n",
       "      <th>5</th>\n",
       "      <td>6</td>\n",
       "      <td>1207.36</td>\n",
       "    </tr>\n",
       "    <tr>\n",
       "      <th>6</th>\n",
       "      <td>7</td>\n",
       "      <td>4745.39</td>\n",
       "    </tr>\n",
       "    <tr>\n",
       "      <th>7</th>\n",
       "      <td>8</td>\n",
       "      <td>3635.80</td>\n",
       "    </tr>\n",
       "    <tr>\n",
       "      <th>8</th>\n",
       "      <td>9</td>\n",
       "      <td>8119.15</td>\n",
       "    </tr>\n",
       "    <tr>\n",
       "      <th>9</th>\n",
       "      <td>10</td>\n",
       "      <td>2356.41</td>\n",
       "    </tr>\n",
       "    <tr>\n",
       "      <th>10</th>\n",
       "      <td>11</td>\n",
       "      <td>13502.54</td>\n",
       "    </tr>\n",
       "    <tr>\n",
       "      <th>11</th>\n",
       "      <td>12</td>\n",
       "      <td>2655.92</td>\n",
       "    </tr>\n",
       "    <tr>\n",
       "      <th>12</th>\n",
       "      <td>13</td>\n",
       "      <td>3920.45</td>\n",
       "    </tr>\n",
       "    <tr>\n",
       "      <th>13</th>\n",
       "      <td>14</td>\n",
       "      <td>853.32</td>\n",
       "    </tr>\n",
       "    <tr>\n",
       "      <th>14</th>\n",
       "      <td>15</td>\n",
       "      <td>12819.59</td>\n",
       "    </tr>\n",
       "    <tr>\n",
       "      <th>15</th>\n",
       "      <td>16</td>\n",
       "      <td>10088.13</td>\n",
       "    </tr>\n",
       "    <tr>\n",
       "      <th>16</th>\n",
       "      <td>17</td>\n",
       "      <td>4414.62</td>\n",
       "    </tr>\n",
       "    <tr>\n",
       "      <th>17</th>\n",
       "      <td>18</td>\n",
       "      <td>7293.00</td>\n",
       "    </tr>\n",
       "    <tr>\n",
       "      <th>18</th>\n",
       "      <td>19</td>\n",
       "      <td>11445.93</td>\n",
       "    </tr>\n",
       "    <tr>\n",
       "      <th>19</th>\n",
       "      <td>20</td>\n",
       "      <td>8339.63</td>\n",
       "    </tr>\n",
       "    <tr>\n",
       "      <th>20</th>\n",
       "      <td>21</td>\n",
       "      <td>4858.72</td>\n",
       "    </tr>\n",
       "    <tr>\n",
       "      <th>21</th>\n",
       "      <td>22</td>\n",
       "      <td>1616.16</td>\n",
       "    </tr>\n",
       "    <tr>\n",
       "      <th>22</th>\n",
       "      <td>23</td>\n",
       "      <td>1339.24</td>\n",
       "    </tr>\n",
       "    <tr>\n",
       "      <th>23</th>\n",
       "      <td>24</td>\n",
       "      <td>7108.82</td>\n",
       "    </tr>\n",
       "    <tr>\n",
       "      <th>24</th>\n",
       "      <td>25</td>\n",
       "      <td>2054.73</td>\n",
       "    </tr>\n",
       "    <tr>\n",
       "      <th>25</th>\n",
       "      <td>26</td>\n",
       "      <td>1441.01</td>\n",
       "    </tr>\n",
       "    <tr>\n",
       "      <th>26</th>\n",
       "      <td>27</td>\n",
       "      <td>8981.38</td>\n",
       "    </tr>\n",
       "    <tr>\n",
       "      <th>27</th>\n",
       "      <td>28</td>\n",
       "      <td>8753.71</td>\n",
       "    </tr>\n",
       "    <tr>\n",
       "      <th>28</th>\n",
       "      <td>29</td>\n",
       "      <td>3426.82</td>\n",
       "    </tr>\n",
       "    <tr>\n",
       "      <th>29</th>\n",
       "      <td>30</td>\n",
       "      <td>3873.20</td>\n",
       "    </tr>\n",
       "    <tr>\n",
       "      <th>30</th>\n",
       "      <td>31</td>\n",
       "      <td>1165.56</td>\n",
       "    </tr>\n",
       "    <tr>\n",
       "      <th>31</th>\n",
       "      <td>32</td>\n",
       "      <td>5431.64</td>\n",
       "    </tr>\n",
       "    <tr>\n",
       "      <th>32</th>\n",
       "      <td>33</td>\n",
       "      <td>12541.13</td>\n",
       "    </tr>\n",
       "    <tr>\n",
       "      <th>33</th>\n",
       "      <td>34</td>\n",
       "      <td>5889.54</td>\n",
       "    </tr>\n",
       "    <tr>\n",
       "      <th>34</th>\n",
       "      <td>35</td>\n",
       "      <td>2585.15</td>\n",
       "    </tr>\n",
       "    <tr>\n",
       "      <th>35</th>\n",
       "      <td>36</td>\n",
       "      <td>5146.24</td>\n",
       "    </tr>\n",
       "    <tr>\n",
       "      <th>36</th>\n",
       "      <td>37</td>\n",
       "      <td>718.91</td>\n",
       "    </tr>\n",
       "    <tr>\n",
       "      <th>37</th>\n",
       "      <td>38</td>\n",
       "      <td>1049.08</td>\n",
       "    </tr>\n",
       "    <tr>\n",
       "      <th>38</th>\n",
       "      <td>39</td>\n",
       "      <td>9072.00</td>\n",
       "    </tr>\n",
       "    <tr>\n",
       "      <th>39</th>\n",
       "      <td>40</td>\n",
       "      <td>3273.02</td>\n",
       "    </tr>\n",
       "  </tbody>\n",
       "</table>\n",
       "</div>"
      ],
      "text/plain": [
       "    id   salário\n",
       "0    1   4763.75\n",
       "1    2   7391.72\n",
       "2    3    729.33\n",
       "3    4   2376.28\n",
       "4    5   1887.72\n",
       "5    6   1207.36\n",
       "6    7   4745.39\n",
       "7    8   3635.80\n",
       "8    9   8119.15\n",
       "9   10   2356.41\n",
       "10  11  13502.54\n",
       "11  12   2655.92\n",
       "12  13   3920.45\n",
       "13  14    853.32\n",
       "14  15  12819.59\n",
       "15  16  10088.13\n",
       "16  17   4414.62\n",
       "17  18   7293.00\n",
       "18  19  11445.93\n",
       "19  20   8339.63\n",
       "20  21   4858.72\n",
       "21  22   1616.16\n",
       "22  23   1339.24\n",
       "23  24   7108.82\n",
       "24  25   2054.73\n",
       "25  26   1441.01\n",
       "26  27   8981.38\n",
       "27  28   8753.71\n",
       "28  29   3426.82\n",
       "29  30   3873.20\n",
       "30  31   1165.56\n",
       "31  32   5431.64\n",
       "32  33  12541.13\n",
       "33  34   5889.54\n",
       "34  35   2585.15\n",
       "35  36   5146.24\n",
       "36  37    718.91\n",
       "37  38   1049.08\n",
       "38  39   9072.00\n",
       "39  40   3273.02"
      ]
     },
     "execution_count": 2,
     "metadata": {},
     "output_type": "execute_result"
    }
   ],
   "source": [
    "df"
   ]
  },
  {
   "cell_type": "code",
   "execution_count": 8,
   "id": "89c51254",
   "metadata": {
    "ExecuteTime": {
     "end_time": "2021-11-17T23:48:31.190952Z",
     "start_time": "2021-11-17T23:48:31.176989Z"
    }
   },
   "outputs": [],
   "source": [
    "from sklearn.preprocessing import StandardScaler, MinMaxScaler"
   ]
  },
  {
   "cell_type": "markdown",
   "id": "d447f951",
   "metadata": {},
   "source": [
    "## Normalização MinMax"
   ]
  },
  {
   "cell_type": "code",
   "execution_count": 11,
   "id": "cf30a537",
   "metadata": {
    "ExecuteTime": {
     "end_time": "2021-11-17T23:49:14.965494Z",
     "start_time": "2021-11-17T23:49:14.945549Z"
    }
   },
   "outputs": [
    {
     "data": {
      "text/plain": [
       "array([[0.00000000e+00, 3.16407781e-01],\n",
       "       [2.56410256e-02, 5.21980846e-01],\n",
       "       [5.12820513e-02, 8.15104943e-04],\n",
       "       [7.69230769e-02, 1.29647839e-01],\n",
       "       [1.02564103e-01, 9.14302119e-02],\n",
       "       [1.28205128e-01, 3.82090220e-02],\n",
       "       [1.53846154e-01, 3.14971569e-01],\n",
       "       [1.79487179e-01, 2.28173844e-01],\n",
       "       [2.05128205e-01, 5.78884088e-01],\n",
       "       [2.30769231e-01, 1.28093507e-01],\n",
       "       [2.56410256e-01, 1.00000000e+00],\n",
       "       [2.82051282e-01, 1.51522690e-01],\n",
       "       [3.07692308e-01, 2.50440603e-01],\n",
       "       [3.33333333e-01, 1.05142280e-02],\n",
       "       [3.58974359e-01, 9.46576207e-01],\n",
       "       [3.84615385e-01, 7.32907633e-01],\n",
       "       [4.10256410e-01, 2.89097072e-01],\n",
       "       [4.35897436e-01, 5.14258470e-01],\n",
       "       [4.61538462e-01, 8.39121595e-01],\n",
       "       [4.87179487e-01, 5.96131146e-01],\n",
       "       [5.12820513e-01, 3.23836813e-01],\n",
       "       [5.38461538e-01, 7.01874194e-02],\n",
       "       [5.64102564e-01, 4.85253406e-02],\n",
       "       [5.89743590e-01, 4.99850981e-01],\n",
       "       [6.15384615e-01, 1.04494576e-01],\n",
       "       [6.41025641e-01, 5.64863032e-02],\n",
       "       [6.66666667e-01, 6.46332067e-01],\n",
       "       [6.92307692e-01, 6.28522571e-01],\n",
       "       [7.17948718e-01, 2.11826375e-01],\n",
       "       [7.43589744e-01, 2.46744469e-01],\n",
       "       [7.69230769e-01, 3.49392152e-02],\n",
       "       [7.94871795e-01, 3.68653505e-01],\n",
       "       [8.20512821e-01, 9.24793662e-01],\n",
       "       [8.46153846e-01, 4.04472751e-01],\n",
       "       [8.71794872e-01, 1.45986703e-01],\n",
       "       [8.97435897e-01, 3.46328077e-01],\n",
       "       [9.23076923e-01, 0.00000000e+00],\n",
       "       [9.48717949e-01, 2.58275623e-02],\n",
       "       [9.74358974e-01, 6.53420820e-01],\n",
       "       [1.00000000e+00, 1.99795363e-01]])"
      ]
     },
     "execution_count": 11,
     "metadata": {},
     "output_type": "execute_result"
    }
   ],
   "source": [
    "scaler = MinMaxScaler()\n",
    "\n",
    "scaler.fit(df)\n",
    "\n",
    "scaler.transform(df)"
   ]
  },
  {
   "cell_type": "markdown",
   "id": "ce2c8e74",
   "metadata": {},
   "source": [
    "## Padroniação"
   ]
  },
  {
   "cell_type": "code",
   "execution_count": 12,
   "id": "d8a756a6",
   "metadata": {
    "ExecuteTime": {
     "end_time": "2021-11-17T23:51:37.321974Z",
     "start_time": "2021-11-17T23:51:37.309009Z"
    }
   },
   "outputs": [],
   "source": [
    "scaler = StandardScaler()"
   ]
  },
  {
   "cell_type": "code",
   "execution_count": 13,
   "id": "adbb4acd",
   "metadata": {
    "ExecuteTime": {
     "end_time": "2021-11-17T23:51:39.239053Z",
     "start_time": "2021-11-17T23:51:39.221096Z"
    }
   },
   "outputs": [
    {
     "data": {
      "text/plain": [
       "StandardScaler()"
      ]
     },
     "execution_count": 13,
     "metadata": {},
     "output_type": "execute_result"
    }
   ],
   "source": [
    "scaler.fit(df)"
   ]
  },
  {
   "cell_type": "code",
   "execution_count": 14,
   "id": "5bbd426a",
   "metadata": {
    "ExecuteTime": {
     "end_time": "2021-11-17T23:51:39.738123Z",
     "start_time": "2021-11-17T23:51:39.722143Z"
    }
   },
   "outputs": [
    {
     "data": {
      "text/plain": [
       "array([[-1.68927752, -0.08453746],\n",
       "       [-1.6026479 ,  0.63664452],\n",
       "       [-1.51601829, -1.19168518],\n",
       "       [-1.42938867, -0.73972011],\n",
       "       [-1.34275905, -0.87379343],\n",
       "       [-1.25612944, -1.06050156],\n",
       "       [-1.16949982, -0.08957591],\n",
       "       [-1.0828702 , -0.3940757 ],\n",
       "       [-0.99624059,  0.83626986],\n",
       "       [-0.90961097, -0.74517294],\n",
       "       [-0.82298136,  2.31360934],\n",
       "       [-0.73635174, -0.66297976],\n",
       "       [-0.64972212, -0.31596048],\n",
       "       [-0.56309251, -1.15765916],\n",
       "       [-0.47646289,  2.12619045],\n",
       "       [-0.38983327,  1.37660817],\n",
       "       [-0.30320366, -0.18034764],\n",
       "       [-0.21657404,  0.60955323],\n",
       "       [-0.12994442,  1.74922312],\n",
       "       [-0.04331481,  0.89677519],\n",
       "       [ 0.04331481, -0.05847527],\n",
       "       [ 0.12994442, -0.94831642],\n",
       "       [ 0.21657404, -1.02431032],\n",
       "       [ 0.30320366,  0.55900954],\n",
       "       [ 0.38983327, -0.82796162],\n",
       "       [ 0.47646289, -0.99638204],\n",
       "       [ 0.56309251,  1.07288775],\n",
       "       [ 0.64972212,  1.0104093 ],\n",
       "       [ 0.73635174, -0.45142514],\n",
       "       [ 0.82298136, -0.32892709],\n",
       "       [ 0.90961097, -1.07197255],\n",
       "       [ 0.99624059,  0.09874859],\n",
       "       [ 1.0828702 ,  2.04977392],\n",
       "       [ 1.16949982,  0.22440802],\n",
       "       [ 1.25612944, -0.68240085],\n",
       "       [ 1.34275905,  0.02042755],\n",
       "       [ 1.42938867, -1.19454469],\n",
       "       [ 1.51601829, -1.10393763],\n",
       "       [ 1.6026479 ,  1.09775619],\n",
       "       [ 1.68927752, -0.49363178]])"
      ]
     },
     "execution_count": 14,
     "metadata": {},
     "output_type": "execute_result"
    }
   ],
   "source": [
    "scaler.transform(df)"
   ]
  },
  {
   "cell_type": "markdown",
   "id": "e24bdefb",
   "metadata": {},
   "source": [
    "Aí usamos os dados normalizados/padronizados para a entrada do modelo"
   ]
  },
  {
   "cell_type": "markdown",
   "id": "194b0ba4",
   "metadata": {},
   "source": [
    "- Cuidado em normalizar/padronizar os dados COM outlier pq o Mim Max vai ser afetado  \n",
    "\n",
    "\n",
    "Comparando técnicas de transformação e outliers\n",
    "\n",
    "\n",
    "https://scikit-learn.org/stable/auto_examples/preprocessing/plot_all_scaling.html#sphx-glr-auto-examples-preprocessing-plot-all-scaling-py"
   ]
  },
  {
   "cell_type": "markdown",
   "id": "ed72ac3b",
   "metadata": {},
   "source": [
    "- Quando é importante transformar os dados:\n",
    "    - Quando quiser comparar matematicamente dados em escalas diferentes\n",
    "    - Alguns modelos só performam com dados na mesma escala\n",
    "    - Outros modelos, como regressão logística,  regressão linear, árvores, entre outros NÃO precisam PORÉM se a gente transformar, o resultado não será afetado! Esses modelos trabalham igualmente com os dados padronizados/normalizados na mesma escala ou não"
   ]
  },
  {
   "cell_type": "code",
   "execution_count": null,
   "id": "52cf317a",
   "metadata": {},
   "outputs": [],
   "source": []
  }
 ],
 "metadata": {
  "kernelspec": {
   "display_name": "Python 3 (ipykernel)",
   "language": "python",
   "name": "python3"
  },
  "language_info": {
   "codemirror_mode": {
    "name": "ipython",
    "version": 3
   },
   "file_extension": ".py",
   "mimetype": "text/x-python",
   "name": "python",
   "nbconvert_exporter": "python",
   "pygments_lexer": "ipython3",
   "version": "3.9.7"
  },
  "varInspector": {
   "cols": {
    "lenName": 16,
    "lenType": 16,
    "lenVar": 40
   },
   "kernels_config": {
    "python": {
     "delete_cmd_postfix": "",
     "delete_cmd_prefix": "del ",
     "library": "var_list.py",
     "varRefreshCmd": "print(var_dic_list())"
    },
    "r": {
     "delete_cmd_postfix": ") ",
     "delete_cmd_prefix": "rm(",
     "library": "var_list.r",
     "varRefreshCmd": "cat(var_dic_list()) "
    }
   },
   "types_to_exclude": [
    "module",
    "function",
    "builtin_function_or_method",
    "instance",
    "_Feature"
   ],
   "window_display": false
  }
 },
 "nbformat": 4,
 "nbformat_minor": 5
}
