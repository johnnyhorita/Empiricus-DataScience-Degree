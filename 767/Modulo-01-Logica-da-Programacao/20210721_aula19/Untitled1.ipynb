{
 "cells": [
  {
   "cell_type": "code",
   "execution_count": null,
   "id": "eabd97a9",
   "metadata": {},
   "outputs": [],
   "source": [
    "import csv\n",
    "import requests\n",
    "from bs4 import BeautifulSoup\n",
    "\n",
    "# lembrando que uma tabela é uma lista de listas\n",
    "# já estamos colocando o cabeçalho na lista\n",
    "tabela = [['CURSO', 'PRÉ-REQUISITO', 'LINK']]\n",
    "\n",
    "# usando o selenium para compilar o react e captar o html compilado\n",
    "url = \"https://br.advfn.com/bolsa-de-valores/bovespa/A\"\n",
    "driver = webdriver.Chrome('chromedriver')\n",
    "driver.get(url)\n",
    "element = driver.find_element_by_tag_name('body')\n",
    "resposta = element.get_attribute('innerHTML') \n",
    "\n",
    "'''\n",
    "MACETE\n",
    "Não é incomum editores de planilha como o Excel se enrolarem com \n",
    "certos símbolos em um documento.\n",
    "Também não é incomum que o Python entenda errado a codificação\n",
    "de sites, principalmente em línguas com acentos e sinais gráficos.\n",
    "Você deve ter notado que em alguns exemplos anteriores, palavras\n",
    "acentuadas saíam com símbolos estranhos.\n",
    "Aqui estamos forçando o Python a usar uma codificação específica\n",
    "tanto para interpretar o site quanto para escrever na planilha.\n",
    "'''\n",
    "site = BeautifulSoup(resposta.encode('ISO-8859-1'), 'html.parser')\n",
    "arquivo = open('letscode.csv', 'w', encoding='ISO-8859-1')\n",
    "\n",
    "cursos = site.find_all('div', class_ = 'card__curso__text')\n",
    "\n",
    "for curso in cursos:\n",
    "    remover1 = curso.find('div', class_ = 'card__curso__text__desc')\n",
    "    remover2 = curso.find('div', class_ = 'card__curso__text__sub')\n",
    "\n",
    "    titulo = curso.text\n",
    "    titulo = titulo.replace(remover1.text, '')\n",
    "    titulo = titulo.replace(remover2.text, '')\n",
    "\n",
    "    prereq = curso.find('div', class_ = 'card__curso__text__sub__desc')\n",
    "    prereq = prereq.text\n",
    "\n",
    "    link = curso.find('a')\n",
    "    link = 'https://letscode-academy.com' + link['href'] \n",
    "    linha = [titulo, prereq, link]\n",
    "\n",
    "    print(linha)\n",
    "    tabela.append(linha) # inserindo o curso em nossa tabela\n",
    "\n",
    "escritor = csv.writer(arquivo, delimiter=';', lineterminator='\\n')\n",
    "escritor.writerows(tabela)\n",
    "arquivo.close()"
   ]
  }
 ],
 "metadata": {
  "kernelspec": {
   "display_name": "Python 3",
   "language": "python",
   "name": "python3"
  },
  "language_info": {
   "codemirror_mode": {
    "name": "ipython",
    "version": 3
   },
   "file_extension": ".py",
   "mimetype": "text/x-python",
   "name": "python",
   "nbconvert_exporter": "python",
   "pygments_lexer": "ipython3",
   "version": "3.8.10"
  }
 },
 "nbformat": 4,
 "nbformat_minor": 5
}
