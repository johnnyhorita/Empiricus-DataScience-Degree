{
 "cells": [
  {
   "cell_type": "markdown",
   "id": "3bd806c8",
   "metadata": {
    "ExecuteTime": {
     "end_time": "2021-07-30T22:36:24.776853Z",
     "start_time": "2021-07-30T22:36:24.526852Z"
    }
   },
   "source": [
    "Questão #1\n",
    "\n",
    "Enunciado\n",
    "Imprimindo ímpares\n",
    "Dado o seguinte trecho de código, o que deve ser colocado no lugar de XXXXXX \n",
    "para que a função imprima na tela os números ímpares de 0 a 10?\n",
    "\n",
    "x = 0\n",
    "while x <= 10:\n",
    "    if XXXXXX:\n",
    "        print(x)\n",
    "    x += 1\n",
    "\n",
    "\n",
    "Alternativas\n",
    "[X] x%2 == 1\n",
    "[ ] x//2 == 0\n",
    "[ ] x%2 == 0\n",
    "[ ] x//2 == 1"
   ]
  },
  {
   "cell_type": "code",
   "execution_count": 47,
   "id": "8d27e3d1",
   "metadata": {
    "ExecuteTime": {
     "end_time": "2021-07-30T23:13:17.399621Z",
     "start_time": "2021-07-30T23:13:17.394596Z"
    }
   },
   "outputs": [
    {
     "name": "stdout",
     "output_type": "stream",
     "text": [
      "1\n",
      "3\n",
      "5\n",
      "7\n",
      "9\n"
     ]
    }
   ],
   "source": [
    "x = 0\n",
    "while x <= 10:\n",
    "    if x%2 == 1:\n",
    "        print(x)\n",
    "    x += 1"
   ]
  },
  {
   "cell_type": "markdown",
   "id": "b7fff042",
   "metadata": {
    "ExecuteTime": {
     "end_time": "2021-07-30T22:36:59.328980Z",
     "start_time": "2021-07-30T22:36:59.320975Z"
    }
   },
   "source": [
    "Questão #2\n",
    "\n",
    "Enunciado\n",
    "Se... então... se...?\n",
    "Dado o seguinte trecho de código, quais linhas serão mostradas na tela?\n",
    "\n",
    "x = 4\n",
    "if x < 4:\n",
    "    print('linha 1')\n",
    "elif x > 5:\n",
    "    print('linha 2')\n",
    "print('linha 3')\n",
    "if x%4 == 0:\n",
    "    print('linha 4')\n",
    "else:\n",
    "    print('linha 5')\n",
    "\n",
    "\n",
    "Alternativas\n",
    "[X] Linhas 3 e 4\n",
    "[ ] Apenas a linha 3\n",
    "[ ] Linhas 2 e 4\n",
    "[ ] Linhas 2 e 5"
   ]
  },
  {
   "cell_type": "code",
   "execution_count": 48,
   "id": "72006cc1",
   "metadata": {
    "ExecuteTime": {
     "end_time": "2021-07-30T23:13:23.797976Z",
     "start_time": "2021-07-30T23:13:23.794007Z"
    }
   },
   "outputs": [
    {
     "name": "stdout",
     "output_type": "stream",
     "text": [
      "linha 3\n",
      "linha 4\n"
     ]
    }
   ],
   "source": [
    "x = 4\n",
    "if x < 4:\n",
    "    print('linha 1')\n",
    "elif x > 5:\n",
    "    print('linha 2')\n",
    "print('linha 3')\n",
    "if x%4 == 0:\n",
    "    print('linha 4')\n",
    "else:\n",
    "    print('linha 5')\n"
   ]
  },
  {
   "cell_type": "markdown",
   "id": "2dacd820",
   "metadata": {},
   "source": [
    "Questão #3\n",
    "\n",
    "Enunciado\n",
    "Varendo dados\n",
    "Dado o código de uma página WEB:\n",
    "\n",
    "<html>\n",
    "  <body>\n",
    "    <p class=\"classe_a\" id=\"1\"> \n",
    "      Esse é o primeiro parágrafo.\n",
    "    </p>\n",
    "    <p class=\"classe_a\" id=\"2\"> \n",
    "      Esse é o segundo parágrafo.\n",
    "    </p>\n",
    "    <p class=\"classe_b\" id=\"3\"> \n",
    "      Esse é o terceiro parágrafo.\n",
    "    </p>\n",
    "  </body>\n",
    "</html>\n",
    "\n",
    "Suponha que o conteúdo já está em uma variável chamada \"soup\". \n",
    "Utilizando o BeautifulSoup, qual das alternativas mostra o código correto para retornar apenas \n",
    "o texto \"Esse é o terceiro parágrafo.\":\n",
    "\n",
    "Alternativas\n",
    "[ ] soup.find_all('p')\n",
    "[ ] soup.find('p', id='3').get_text()\n",
    "[ ] soup.find_all('p', id='3')\n",
    "[ ] soup.find_all('p')[1]"
   ]
  },
  {
   "cell_type": "code",
   "execution_count": 19,
   "id": "8bf541ab",
   "metadata": {
    "ExecuteTime": {
     "end_time": "2021-07-30T22:58:56.266915Z",
     "start_time": "2021-07-30T22:58:56.253916Z"
    }
   },
   "outputs": [
    {
     "ename": "AttributeError",
     "evalue": "'NoneType' object has no attribute 'get_text'",
     "output_type": "error",
     "traceback": [
      "\u001b[1;31m---------------------------------------------------------------------------\u001b[0m",
      "\u001b[1;31mAttributeError\u001b[0m                            Traceback (most recent call last)",
      "\u001b[1;32m<ipython-input-19-903ca9d38b72>\u001b[0m in \u001b[0;36m<module>\u001b[1;34m\u001b[0m\n\u001b[0;32m      3\u001b[0m \u001b[0mHTML\u001b[0m \u001b[1;33m=\u001b[0m \u001b[1;34m'D:\\\\sandboxes\\\\github\\\\johnnyhorita\\\\empiricus-datascience-degree\\\\Prova\\\\questao3.html'\u001b[0m\u001b[1;33m\u001b[0m\u001b[1;33m\u001b[0m\u001b[0m\n\u001b[0;32m      4\u001b[0m \u001b[0msoup\u001b[0m \u001b[1;33m=\u001b[0m \u001b[0mBeautifulSoup\u001b[0m\u001b[1;33m(\u001b[0m\u001b[0mHTML\u001b[0m\u001b[1;33m)\u001b[0m \u001b[1;31m# instancia objeto BeautifulSoup\u001b[0m\u001b[1;33m\u001b[0m\u001b[1;33m\u001b[0m\u001b[0m\n\u001b[1;32m----> 5\u001b[1;33m \u001b[0msoup\u001b[0m\u001b[1;33m.\u001b[0m\u001b[0mfind\u001b[0m\u001b[1;33m(\u001b[0m\u001b[1;34m'p'\u001b[0m\u001b[1;33m,\u001b[0m \u001b[0mid\u001b[0m\u001b[1;33m=\u001b[0m\u001b[1;34m'3'\u001b[0m\u001b[1;33m)\u001b[0m\u001b[1;33m.\u001b[0m\u001b[0mget_text\u001b[0m\u001b[1;33m(\u001b[0m\u001b[1;33m)\u001b[0m\u001b[1;33m\u001b[0m\u001b[1;33m\u001b[0m\u001b[0m\n\u001b[0m",
      "\u001b[1;31mAttributeError\u001b[0m: 'NoneType' object has no attribute 'get_text'"
     ]
    }
   ],
   "source": [
    "from bs4 import BeautifulSoup\n",
    "\n",
    "HTML = 'D:\\\\sandboxes\\\\github\\\\johnnyhorita\\\\empiricus-datascience-degree\\\\Prova\\\\questao3.html'\n",
    "soup = BeautifulSoup(HTML) # instancia objeto BeautifulSoup\n",
    "soup.find('p', id='3').get_text()\n"
   ]
  },
  {
   "cell_type": "markdown",
   "id": "6fb0355b",
   "metadata": {},
   "source": [
    "Questão #4\n",
    "\n",
    "Enunciado\n",
    "Somando multiplos argumentos\n",
    "Dada a seguinte função:\n",
    "\n",
    "def soma(*args):\n",
    "  result = 0\n",
    "  for i in args:\n",
    "    result = result+i\n",
    "  return result\n",
    "\n",
    "Como o próprio nome diz, essa é uma função para realizar uma soma de n argumentos, mas dependendo da entrada inserida, o programa resultará em erro. \n",
    "Indique a única opção que pode ser passada como argumento da função para que o código não quebre:\n",
    "\n",
    "Alternativas\n",
    "[ ] [1,2,3,4]\n",
    "[X] 1,2,3,4\n",
    "[ ] '1234'\n",
    "[ ] '1','2','3','4'"
   ]
  },
  {
   "cell_type": "code",
   "execution_count": 110,
   "id": "830a90f3",
   "metadata": {
    "ExecuteTime": {
     "end_time": "2021-07-31T00:15:55.746808Z",
     "start_time": "2021-07-31T00:15:55.740808Z"
    }
   },
   "outputs": [
    {
     "data": {
      "text/plain": [
       "10"
      ]
     },
     "execution_count": 110,
     "metadata": {},
     "output_type": "execute_result"
    }
   ],
   "source": [
    "def soma(*args):\n",
    "    result = 0\n",
    "    for i in args:\n",
    "        result = result+i\n",
    "    return result\n",
    "\n",
    "soma(1,2,3,4)"
   ]
  },
  {
   "cell_type": "markdown",
   "id": "afe074fa",
   "metadata": {},
   "source": [
    "Questão #5\n",
    "\n",
    "Enunciado\n",
    "Extraindo valores de um dicionário\n",
    "Escreva um função que extraia a lista de valores de um dicionário com base numa dada chave:\n",
    "\n",
    "Exemplo:\n",
    "\n",
    "-Input:\n",
    "lista_de_notas = [\n",
    " {'matemática': 90, 'português': 92},\n",
    " {'matemática': 89, 'português': 94},\n",
    " {'matemática': 92, 'português': 88}\n",
    "]\n",
    "\n",
    "extrai_notas(lista_de_notas, 'matemática')\n",
    "\n",
    "-Output:\n",
    "-> [90, 89, 92]"
   ]
  },
  {
   "cell_type": "code",
   "execution_count": 111,
   "id": "12450f57",
   "metadata": {
    "ExecuteTime": {
     "end_time": "2021-07-31T00:16:20.888259Z",
     "start_time": "2021-07-31T00:16:20.879257Z"
    }
   },
   "outputs": [
    {
     "data": {
      "text/plain": [
       "[90, 89, 92]"
      ]
     },
     "execution_count": 111,
     "metadata": {},
     "output_type": "execute_result"
    }
   ],
   "source": [
    "lista_de_notas = [\n",
    " {'matemática': 90, 'português': 92},\n",
    " {'matemática': 89, 'português': 94},\n",
    " {'matemática': 92, 'português': 88}\n",
    "]\n",
    "\n",
    "def extrai_notas(lista_de_notas, filtro):\n",
    "    l = list()\n",
    "    for e in lista_de_notas:\n",
    "        d = dict()\n",
    "        d = e\n",
    "        l.append(d[filtro])   \n",
    "    return l\n",
    "\n",
    "extrai_notas(lista_de_notas, 'matemática')\n",
    "    "
   ]
  },
  {
   "cell_type": "code",
   "execution_count": 113,
   "id": "8ffe7583",
   "metadata": {
    "ExecuteTime": {
     "end_time": "2021-07-31T00:22:46.889380Z",
     "start_time": "2021-07-31T00:22:46.869381Z"
    }
   },
   "outputs": [
    {
     "data": {
      "text/plain": [
       "[90, 89, 92]"
      ]
     },
     "execution_count": 113,
     "metadata": {},
     "output_type": "execute_result"
    }
   ],
   "source": [
    "lista_de_notas = [\n",
    " {'matemática': 90, 'português': 92},\n",
    " {'matemática': 89, 'português': 94},\n",
    " {'matemática': 92, 'português': 88}\n",
    "]\n",
    "\n",
    "def extrai_notas(lista_de_notas,materia):\n",
    "    lista=[]\n",
    "    for i in range(len(lista_de_notas)):\n",
    "        c=lista_de_notas[i][materia]\n",
    "        lista.append(c)\n",
    "    return lista\n",
    "\n",
    "extrai_notas(lista_de_notas, 'matemática')"
   ]
  },
  {
   "cell_type": "markdown",
   "id": "725c5ef0",
   "metadata": {},
   "source": [
    "Questão #6\n",
    "\n",
    "Enunciado\n",
    "Removendo itens de lista\n",
    "\n",
    "def remove_retorna(n, lista):\n",
    "    return XXXXXX\n",
    "\n",
    "A função acima, deve remover o elemento da posição ‘n’ da ‘lista’ e o retornar. \n",
    "Com essas informações, o que deveríamos pôr no lugar de XXXXXX para que a função funcione corretamente?\n",
    "\n",
    "Alternativas\n",
    "[X] lista.pop(n)\n",
    "[ ] del(lista[n])\n",
    "[ ] remove(lista[n])\n",
    "[ ] lista.remove(n)"
   ]
  },
  {
   "cell_type": "code",
   "execution_count": 53,
   "id": "fc395626",
   "metadata": {
    "ExecuteTime": {
     "end_time": "2021-07-30T23:15:20.483236Z",
     "start_time": "2021-07-30T23:15:20.480236Z"
    }
   },
   "outputs": [
    {
     "name": "stdout",
     "output_type": "stream",
     "text": [
      "b\n"
     ]
    }
   ],
   "source": [
    "def remove_retorna(n, lista):\n",
    "    return lista.pop(n)\n",
    "\n",
    "lista = ['a','b','c','d','e','f','g']\n",
    "\n",
    "print(remove_retorna(1, lista))\n"
   ]
  },
  {
   "cell_type": "markdown",
   "id": "a69fd770",
   "metadata": {},
   "source": [
    "Questão #7\n",
    "\n",
    "Enunciado\n",
    "Fazendo barulho com classe\n",
    "class Britadeira():\n",
    "    def __init__(self, marca):\n",
    "        self.marca = marca\n",
    "        self.barulho = 'TRRRA'\n",
    "\n",
    "    def furar(self, n=1, sep=''):\n",
    "        som_completo = ''\n",
    "        for i in range(n):\n",
    "            som_completo += self.barulho + sep\n",
    "        print(f'{som_completo}')\n",
    "\n",
    "Sem alterar a classe acima, instancie e faça o objeto imprimir \"TRRRA TRRRA TRRRA\"."
   ]
  },
  {
   "cell_type": "code",
   "execution_count": 60,
   "id": "aeb5dbe3",
   "metadata": {
    "ExecuteTime": {
     "end_time": "2021-07-30T23:19:32.645865Z",
     "start_time": "2021-07-30T23:19:32.639863Z"
    }
   },
   "outputs": [
    {
     "name": "stdout",
     "output_type": "stream",
     "text": [
      "TRRRA TRRRA TRRRA \n"
     ]
    }
   ],
   "source": [
    "class Britadeira():\n",
    "    def __init__(self, marca):\n",
    "        self.marca = marca\n",
    "        self.barulho = 'TRRRA'\n",
    "\n",
    "    def furar(self, n=1, sep=''):\n",
    "        som_completo = ''\n",
    "        for i in range(n):\n",
    "            som_completo += self.barulho + sep\n",
    "        print(f'{som_completo}')\n",
    "        \n",
    "brt = Britadeira('BOSCH')\n",
    "brt.furar(3, ' ')"
   ]
  },
  {
   "cell_type": "markdown",
   "id": "64bf6102",
   "metadata": {},
   "source": [
    "Questão #8\n",
    "\n",
    "Enunciado\n",
    "Herança: de geração a geração\n",
    "class Mae:\n",
    "    def __init__(self, x=1):\n",
    "        self.x = x\n",
    "\n",
    "class Filha(Mae):\n",
    "    def __init__(self, y=2):\n",
    "        super().__init__()\n",
    "        self.y = y\n",
    "\n",
    "def main():\n",
    "    obj = Filha()\n",
    "    print(obj.x, obj.y)\n",
    "\n",
    "main()\n",
    "Explique o que o programa acima faz e o que imprimirá (se imprimirá) na tela."
   ]
  },
  {
   "cell_type": "code",
   "execution_count": 61,
   "id": "15f5e39a",
   "metadata": {
    "ExecuteTime": {
     "end_time": "2021-07-30T23:20:26.717688Z",
     "start_time": "2021-07-30T23:20:26.712686Z"
    }
   },
   "outputs": [
    {
     "name": "stdout",
     "output_type": "stream",
     "text": [
      "1 2\n"
     ]
    }
   ],
   "source": [
    "class Mae:\n",
    "    def __init__(self, x=1):\n",
    "        self.x = x\n",
    "\n",
    "class Filha(Mae):\n",
    "    def __init__(self, y=2):\n",
    "        super().__init__()\n",
    "        self.y = y\n",
    "\n",
    "def main():\n",
    "    obj = Filha()\n",
    "    print(obj.x, obj.y)\n",
    "\n",
    "main()\n"
   ]
  },
  {
   "cell_type": "markdown",
   "id": "183c12a9",
   "metadata": {
    "ExecuteTime": {
     "end_time": "2021-07-30T23:21:03.038453Z",
     "start_time": "2021-07-30T23:21:03.033454Z"
    }
   },
   "source": [
    "O programa cria a classe Mae, com um atributo construtor x com valor padrão 1 (x=1)\n",
    "O programa cria a classe Filha que é filha da classe Mae, com um atributo construtor y com valor padrão 2 (y=2)\n",
    "O programa cria a função main, que instância a variável obj com a classe Filha sem passar argumentos e executa um print do valor do atributo do método construtor x, herdado da classe Mae e o atributo do método construtor y\n",
    "\n",
    "O programa executa a função main e \"printa\" os valores definidos pela função 1 2.\n",
    "    "
   ]
  },
  {
   "cell_type": "code",
   "execution_count": null,
   "id": "f3050bd8",
   "metadata": {},
   "outputs": [],
   "source": []
  }
 ],
 "metadata": {
  "kernelspec": {
   "display_name": "Python 3",
   "language": "python",
   "name": "python3"
  },
  "language_info": {
   "codemirror_mode": {
    "name": "ipython",
    "version": 3
   },
   "file_extension": ".py",
   "mimetype": "text/x-python",
   "name": "python",
   "nbconvert_exporter": "python",
   "pygments_lexer": "ipython3",
   "version": "3.8.10"
  }
 },
 "nbformat": 4,
 "nbformat_minor": 5
}
