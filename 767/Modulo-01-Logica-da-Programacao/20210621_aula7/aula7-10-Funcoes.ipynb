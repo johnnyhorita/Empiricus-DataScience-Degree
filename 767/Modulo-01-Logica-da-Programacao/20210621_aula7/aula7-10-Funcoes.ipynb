{
 "cells": [
  {
   "cell_type": "markdown",
   "id": "8bcdb687",
   "metadata": {},
   "source": [
    "# Aula 7\n",
    "\n",
    "## 8.  Funções\n"
   ]
  },
  {
   "cell_type": "code",
   "execution_count": null,
   "id": "4125a0b9",
   "metadata": {},
   "outputs": [],
   "source": [
    "soma = 0\n",
    "for elemento in lista:\n",
    "    soma = elemento\n",
    "media = soma/len(lista)"
   ]
  },
  {
   "cell_type": "markdown",
   "id": "ac0ce577",
   "metadata": {},
   "source": [
    "## 1. Funções\n",
    "\n",
    "### 1.1. Criando funções"
   ]
  },
  {
   "cell_type": "code",
   "execution_count": 1,
   "id": "494e3d60",
   "metadata": {},
   "outputs": [],
   "source": [
    "def minhaPrimeiraFuncao():\n",
    "    print('Olá Mundo')"
   ]
  },
  {
   "cell_type": "code",
   "execution_count": 3,
   "id": "248d12c9",
   "metadata": {},
   "outputs": [
    {
     "name": "stdout",
     "output_type": "stream",
     "text": [
      "indice 0 = L\n",
      "indice 1 = e\n",
      "indice 2 = t\n",
      "indice 3 = '\n",
      "indice 4 = s\n",
      "indice 5 =  \n",
      "indice 6 = C\n",
      "indice 7 = o\n",
      "indice 8 = d\n",
      "indice 9 = e\n"
     ]
    }
   ],
   "source": [
    "frase = \"Let's Code\"\n",
    "for i in range(len(frase)):\n",
    "    print('indice {} = {}'.format(i,frase[i]))"
   ]
  },
  {
   "cell_type": "code",
   "execution_count": 2,
   "id": "0b97a363",
   "metadata": {},
   "outputs": [
    {
     "name": "stdout",
     "output_type": "stream",
     "text": [
      "Olá Mundo\n"
     ]
    }
   ],
   "source": [
    "# criando a função\n",
    "def minhaPrimeiraFuncao():\n",
    "    print('Olá Mundo')\n",
    "\n",
    "# o programa começa de verdade aqui:\n",
    "minhaPrimeiraFuncao() # chamada para a função"
   ]
  },
  {
   "cell_type": "code",
   "execution_count": 3,
   "id": "6953fce7",
   "metadata": {},
   "outputs": [
    {
     "name": "stdout",
     "output_type": "stream",
     "text": [
      "aaa\n",
      "Olá Mundo\n",
      "bbb\n"
     ]
    }
   ],
   "source": [
    "# criando a função\n",
    "def minhaPrimeiraFuncao():\n",
    "    print('Olá Mundo')\n",
    "\n",
    "# o programa começa de verdade aqui:\n",
    "print('aaa')\n",
    "minhaPrimeiraFuncao() # chamada para a função\n",
    "print('bbb')"
   ]
  },
  {
   "cell_type": "markdown",
   "id": "a0dfb434",
   "metadata": {},
   "source": [
    "### 1.1.2. Parâmetros de uma função"
   ]
  },
  {
   "cell_type": "code",
   "execution_count": 4,
   "id": "cdc59cfa",
   "metadata": {},
   "outputs": [
    {
     "name": "stdout",
     "output_type": "stream",
     "text": [
      "5\n",
      "11\n",
      "15\n"
     ]
    }
   ],
   "source": [
    "def soma(a, b):\n",
    "    resultado = a + b\n",
    "    print(resultado)\n",
    "\n",
    "soma(3, 2) # resultado na tela: 5\n",
    "soma(4, 7) # resultado na tela: 11\n",
    "x = 5\n",
    "soma(10, x) # resultado na tela: 15"
   ]
  },
  {
   "cell_type": "markdown",
   "id": "8713f107",
   "metadata": {},
   "source": [
    "### 1.1.3. Retorno de uma função"
   ]
  },
  {
   "cell_type": "code",
   "execution_count": 7,
   "id": "19e3963b",
   "metadata": {},
   "outputs": [
    {
     "ename": "NameError",
     "evalue": "name 'resultado' is not defined",
     "output_type": "error",
     "traceback": [
      "\u001b[1;31m---------------------------------------------------------------------------\u001b[0m",
      "\u001b[1;31mNameError\u001b[0m                                 Traceback (most recent call last)",
      "\u001b[1;32m<ipython-input-7-e2bfe269b443>\u001b[0m in \u001b[0;36m<module>\u001b[1;34m\u001b[0m\n\u001b[0;32m      2\u001b[0m     \u001b[0mresultado\u001b[0m \u001b[1;33m=\u001b[0m \u001b[0ma\u001b[0m \u001b[1;33m+\u001b[0m \u001b[0mb\u001b[0m\u001b[1;33m\u001b[0m\u001b[1;33m\u001b[0m\u001b[0m\n\u001b[0;32m      3\u001b[0m \u001b[1;33m\u001b[0m\u001b[0m\n\u001b[1;32m----> 4\u001b[1;33m \u001b[0mmedia\u001b[0m \u001b[1;33m=\u001b[0m \u001b[0mresultado\u001b[0m\u001b[1;33m/\u001b[0m\u001b[1;36m2\u001b[0m\u001b[1;33m\u001b[0m\u001b[1;33m\u001b[0m\u001b[0m\n\u001b[0m\u001b[0;32m      5\u001b[0m \u001b[0mprint\u001b[0m\u001b[1;33m(\u001b[0m\u001b[0mmedia\u001b[0m\u001b[1;33m)\u001b[0m\u001b[1;33m\u001b[0m\u001b[1;33m\u001b[0m\u001b[0m\n",
      "\u001b[1;31mNameError\u001b[0m: name 'resultado' is not defined"
     ]
    }
   ],
   "source": [
    "def soma(a, b):\n",
    "    resultado = a + b\n",
    "\n",
    "media = resultado/2\n",
    "print(media)"
   ]
  },
  {
   "cell_type": "code",
   "execution_count": 6,
   "id": "9035e6e7",
   "metadata": {},
   "outputs": [
    {
     "name": "stdout",
     "output_type": "stream",
     "text": [
      "7.5\n"
     ]
    }
   ],
   "source": [
    "def soma(a, b):\n",
    "    resultado = a + b\n",
    "    return resultado\n",
    "\n",
    "s = soma(10, 5)\n",
    "media = s/2\n",
    "print(media)"
   ]
  },
  {
   "cell_type": "markdown",
   "id": "da3b0d2f",
   "metadata": {},
   "source": [
    "## 2. Recursividade"
   ]
  },
  {
   "cell_type": "code",
   "execution_count": 9,
   "id": "d846f8fa",
   "metadata": {},
   "outputs": [
    {
     "name": "stdout",
     "output_type": "stream",
     "text": [
      "7.5\n"
     ]
    }
   ],
   "source": [
    "def soma(a, b):\n",
    "    resultado = a + b\n",
    "    return resultado\n",
    "\n",
    "def media(x, y):\n",
    "    s = soma(x, y)\n",
    "    resultado = s/2\n",
    "    return resultado\n",
    "\n",
    "m = media(10, 5)\n",
    "print(m)"
   ]
  },
  {
   "cell_type": "code",
   "execution_count": 10,
   "id": "5ebc054b",
   "metadata": {},
   "outputs": [],
   "source": [
    "def potenciadedois(x):\n",
    "    if x == 0:\n",
    "        return 1\n",
    "    else:\n",
    "        return 2*potenciadedois(x-1)"
   ]
  },
  {
   "cell_type": "markdown",
   "id": "0737ae0a",
   "metadata": {},
   "source": [
    "### 2.2. Tabulação"
   ]
  },
  {
   "cell_type": "code",
   "execution_count": 11,
   "id": "343051b3",
   "metadata": {},
   "outputs": [
    {
     "name": "stdout",
     "output_type": "stream",
     "text": [
      "Candidatos aprovados:\n",
      "\t Mario\n",
      "\t Peach\n",
      "\t Luigi\n",
      "Candidatos reprovados:\n",
      "\t Wario\n",
      "\t Bowser\n"
     ]
    }
   ],
   "source": [
    "aprovados = ['Mario', 'Peach', 'Luigi']\n",
    "reprovados = ['Wario', 'Bowser']\n",
    "\n",
    "print('Candidatos aprovados:')\n",
    "for nome in aprovados:\n",
    "    print('\\t', nome)\n",
    "\n",
    "print('Candidatos reprovados:')\n",
    "for nome in reprovados:\n",
    "    print('\\t', nome)"
   ]
  },
  {
   "cell_type": "markdown",
   "id": "11746c64",
   "metadata": {},
   "source": [
    "### 2.3. Barra"
   ]
  },
  {
   "cell_type": "code",
   "execution_count": 12,
   "id": "f492ee00",
   "metadata": {},
   "outputs": [
    {
     "name": "stdout",
     "output_type": "stream",
     "text": [
      "Utilizamos o \\n para quebrar linhas.\n"
     ]
    }
   ],
   "source": [
    "print('Utilizamos o \\\\n para quebrar linhas.')"
   ]
  },
  {
   "cell_type": "markdown",
   "id": "db23ff38",
   "metadata": {},
   "source": [
    "### 2.4 Aspas"
   ]
  },
  {
   "cell_type": "code",
   "execution_count": 13,
   "id": "56a7495f",
   "metadata": {},
   "outputs": [
    {
     "name": "stdout",
     "output_type": "stream",
     "text": [
      "Imprimindo uma aspa simples(') dentro de uma string sem problemas\n",
      "Imprimindo aspas duplas(\") dntro de uma string sem problemas\n"
     ]
    }
   ],
   "source": [
    "print('Imprimindo uma aspa simples(\\') dentro de uma string sem problemas')\n",
    "print(\"Imprimindo aspas duplas(\\\") dntro de uma string sem problemas\")"
   ]
  },
  {
   "cell_type": "markdown",
   "id": "144f3da6",
   "metadata": {},
   "source": [
    "# 11. Funções de strings"
   ]
  },
  {
   "cell_type": "markdown",
   "id": "ac1ab74e",
   "metadata": {},
   "source": [
    "## 1. Funções de strings\n",
    "\n",
    "### 1.1. Maiúsculas e minúsculas"
   ]
  },
  {
   "cell_type": "code",
   "execution_count": 14,
   "id": "7ffc0171",
   "metadata": {},
   "outputs": [
    {
     "name": "stdout",
     "output_type": "stream",
     "text": [
      "VAMOS PROGRAMAR\n"
     ]
    }
   ],
   "source": [
    "frase = 'vAmOs PrOgRaMaR'\n",
    "maiuscula = frase.upper()\n",
    "print(maiuscula) # resultado: 'VAMOS PROGRAMAR\n"
   ]
  },
  {
   "cell_type": "code",
   "execution_count": 15,
   "id": "3dd0a6d8",
   "metadata": {},
   "outputs": [
    {
     "name": "stdout",
     "output_type": "stream",
     "text": [
      "vamos programar\n"
     ]
    }
   ],
   "source": [
    "frase = 'vAmOs PrOgRaMaR'\n",
    "minuscula = frase.lower()\n",
    "print(minuscula) # resultado: 'vamos programar'"
   ]
  },
  {
   "cell_type": "code",
   "execution_count": 16,
   "id": "f84664ff",
   "metadata": {},
   "outputs": [
    {
     "name": "stdout",
     "output_type": "stream",
     "text": [
      "Vamos Programar\n"
     ]
    }
   ],
   "source": [
    "frase = 'vAmOs PrOgRaMaR'\n",
    "titulo = frase.title()\n",
    "print(titulo) # resultado: 'Vamos Programar'"
   ]
  },
  {
   "cell_type": "code",
   "execution_count": 17,
   "id": "2eb3ce46",
   "metadata": {},
   "outputs": [
    {
     "name": "stdout",
     "output_type": "stream",
     "text": [
      "Digite \"sim\" se aceita os termos de uso: o\n",
      "Que pena.\n"
     ]
    }
   ],
   "source": [
    "usuario = input('Digite \"sim\" se aceita os termos de uso: ')\n",
    "if usuario.upper() == 'SIM':\n",
    "    print('Seja bem-vindo!')\n",
    "else:\n",
    "   print('Que pena.') "
   ]
  },
  {
   "cell_type": "markdown",
   "id": "be38b729",
   "metadata": {},
   "source": [
    "### 1.2. Quebrando uma string"
   ]
  },
  {
   "cell_type": "code",
   "execution_count": 18,
   "id": "e47d4c32",
   "metadata": {},
   "outputs": [
    {
     "name": "stdout",
     "output_type": "stream",
     "text": [
      "['uma', 'frase', 'qualquer']\n"
     ]
    }
   ],
   "source": [
    "texto = 'uma frase qualquer'\n",
    "palavras = texto.split()\n",
    "print(palavras) # resultado: ['uma', 'frase', 'qualquer']"
   ]
  },
  {
   "cell_type": "code",
   "execution_count": 20,
   "id": "f704866f",
   "metadata": {},
   "outputs": [
    {
     "name": "stdout",
     "output_type": "stream",
     "text": [
      "Digite uma data: 15/06/2021\n",
      "Dia:  15\n",
      "Mês:  6\n",
      "Ano:  2021\n"
     ]
    }
   ],
   "source": [
    "data = input('Digite uma data: ')\n",
    "listaData = data.split('/')\n",
    "dia = int(listaData[0])\n",
    "mes = int(listaData[1])\n",
    "ano = int(listaData[2])\n",
    "print('Dia: ', dia)\n",
    "print('Mês: ', mes)\n",
    "print('Ano: ', ano)"
   ]
  },
  {
   "cell_type": "markdown",
   "id": "aab4b442",
   "metadata": {},
   "source": [
    "### 1.3. Substituindo elementos na string"
   ]
  },
  {
   "cell_type": "code",
   "execution_count": 21,
   "id": "70df5ade",
   "metadata": {},
   "outputs": [
    {
     "name": "stdout",
     "output_type": "stream",
     "text": [
      "Python é fácil. Por ser fácil, devemos estudar.\n"
     ]
    }
   ],
   "source": [
    "frase = 'Python é difícil. Por ser difícil, devemos estudar.'\n",
    "corrigida = frase.replace('difícil', 'fácil')\n",
    "print(corrigida)\n",
    "# resultado: 'Python é fácil. Por ser fácil, devemos estudar.'"
   ]
  },
  {
   "cell_type": "code",
   "execution_count": 22,
   "id": "6591bdfd",
   "metadata": {},
   "outputs": [
    {
     "name": "stdout",
     "output_type": "stream",
     "text": [
      "btt\n"
     ]
    }
   ],
   "source": [
    "palavra = 'batata'\n",
    "consoantes = palavra.replace('a', '')\n",
    "print(consoantes)\n",
    "# resultado: 'btt'"
   ]
  },
  {
   "cell_type": "markdown",
   "id": "4379f627",
   "metadata": {},
   "source": [
    "### 1.4. Concatenando strings em uma coleção"
   ]
  },
  {
   "cell_type": "code",
   "execution_count": 23,
   "id": "61f8b6ff",
   "metadata": {},
   "outputs": [
    {
     "name": "stdout",
     "output_type": "stream",
     "text": [
      "a123b123c\n"
     ]
    }
   ],
   "source": [
    "lista = ['a', 'b', 'c']\n",
    "separador = '123'\n",
    "resultado = separador.join(lista)\n",
    "print(resultado) # resultado: 'a123b123c'"
   ]
  },
  {
   "cell_type": "markdown",
   "id": "00b3f8d0",
   "metadata": {},
   "source": [
    "### 1.5. Formatando strings"
   ]
  },
  {
   "cell_type": "code",
   "execution_count": 24,
   "id": "3f44a1a7",
   "metadata": {},
   "outputs": [
    {
     "name": "stdout",
     "output_type": "stream",
     "text": [
      "Digite seu nome: a\n",
      "Digite seu cpf: 248\n",
      "Digite seu endereço: b\n",
      "Eu, a, portador do CPF 248, residente no endereço b autorizo o procedimento.\n"
     ]
    }
   ],
   "source": [
    "nome = input('Digite seu nome: ')\n",
    "cpf = input('Digite seu cpf: ')\n",
    "endereco = input('Digite seu endereço: ')\n",
    "contrato = 'Eu, {}, portador do CPF {}, residente no endereço {} autorizo o procedimento.'\n",
    "contratoPreenchido = contrato.format(nome, cpf, endereco)\n",
    "print(contratoPreenchido)"
   ]
  },
  {
   "cell_type": "code",
   "execution_count": 25,
   "id": "faf78a5e",
   "metadata": {},
   "outputs": [
    {
     "name": "stdout",
     "output_type": "stream",
     "text": [
      "01/02/2020\n"
     ]
    }
   ],
   "source": [
    "dia = 1\n",
    "mes = 2\n",
    "ano = 2020\n",
    "data = '{:02d}/{:02d}/{:04d}'.format(dia, mes, ano)\n",
    "print(data) # resultado: 01/02/2020"
   ]
  },
  {
   "cell_type": "code",
   "execution_count": 26,
   "id": "7fc01ad2",
   "metadata": {},
   "outputs": [
    {
     "name": "stdout",
     "output_type": "stream",
     "text": [
      "154.403\n",
      "R$ 154.40\n"
     ]
    }
   ],
   "source": [
    "precoLitro = 5.234\n",
    "litros = 29.5\n",
    "total = precoLitro * litros\n",
    "print(total) # resultado: 154.403\n",
    "\n",
    "precoFinal = 'R$ {:.2f}'.format(total)\n",
    "print(precoFinal) # resultado: R$ 154.40"
   ]
  },
  {
   "cell_type": "markdown",
   "id": "850da88c",
   "metadata": {},
   "source": [
    "## Comandos interessantes"
   ]
  },
  {
   "cell_type": "code",
   "execution_count": 4,
   "id": "7613cbd2",
   "metadata": {},
   "outputs": [
    {
     "data": {
      "text/plain": [
       "[4, 2, 3, 4, 3, 2, 4, 4]"
      ]
     },
     "execution_count": 4,
     "metadata": {},
     "output_type": "execute_result"
    }
   ],
   "source": [
    "a=[1,2,3,1,3,2,1,1]\n",
    "[4 if x==1 else x for x in a]\n",
    "#[4, 2, 3, 4, 3, 2, 4, 4]\n"
   ]
  },
  {
   "cell_type": "code",
   "execution_count": 5,
   "id": "ef72d2d0",
   "metadata": {},
   "outputs": [
    {
     "data": {
      "text/plain": [
       "'gnirts a'"
      ]
     },
     "execution_count": 5,
     "metadata": {},
     "output_type": "execute_result"
    }
   ],
   "source": [
    "'a string'[::-1]\n",
    "# 'gnirts a'"
   ]
  },
  {
   "cell_type": "code",
   "execution_count": 6,
   "id": "67adb388",
   "metadata": {},
   "outputs": [
    {
     "data": {
      "text/plain": [
       "'gnirts a'"
      ]
     },
     "execution_count": 6,
     "metadata": {},
     "output_type": "execute_result"
    }
   ],
   "source": [
    "''.join(reversed('a string'))\n",
    "#'gnirts a'"
   ]
  },
  {
   "cell_type": "code",
   "execution_count": 7,
   "id": "8557343a",
   "metadata": {},
   "outputs": [
    {
     "data": {
      "text/plain": [
       "[40, 20, 10, 0]"
      ]
     },
     "execution_count": 7,
     "metadata": {},
     "output_type": "execute_result"
    }
   ],
   "source": [
    "L = [0,10,20,40]\n",
    "L[::-1]\n",
    "#[40, 20, 10, 0]"
   ]
  },
  {
   "cell_type": "code",
   "execution_count": 8,
   "id": "c9b48b69",
   "metadata": {},
   "outputs": [
    {
     "data": {
      "text/plain": [
       "[40, 20, 10, 0]"
      ]
     },
     "execution_count": 8,
     "metadata": {},
     "output_type": "execute_result"
    }
   ],
   "source": [
    "L = [0,10,20,40]\n",
    "L.reverse()\n",
    "L\n",
    "#[40, 20, 10, 0]"
   ]
  },
  {
   "cell_type": "code",
   "execution_count": 9,
   "id": "0abfc45c",
   "metadata": {},
   "outputs": [
    {
     "name": "stdout",
     "output_type": "stream",
     "text": [
      "[10, 20, 'foo', 4, 10, 5, 'foo', 20, 6, 10, 10]\n"
     ]
    }
   ],
   "source": [
    "a = [1, 2, 3, 4, 1, 5, 3, 2, 6, 1, 1]\n",
    "dic = {1:10, 2:20, 3:'foo'}\n",
    "\n",
    "print([dic.get(n, n) for n in a])\n",
    "\n",
    "# > [10, 20, 'foo', 4, 10, 5, 'foo', 20, 6, 10, 10]"
   ]
  },
  {
   "cell_type": "code",
   "execution_count": 1,
   "id": "fbe4fe31",
   "metadata": {},
   "outputs": [
    {
     "name": "stdout",
     "output_type": "stream",
     "text": [
      "[10, 20, 30, 4, 5, 6, 7, 6, 5, 4, 30, 20, 10]\n"
     ]
    }
   ],
   "source": [
    "a = [1,2,3,4,5,6,7,6,5,4,3,2,1]\n",
    "\n",
    "replacements = {\n",
    "    1: 10,\n",
    "    2: 20,\n",
    "    3: 30,\n",
    "}\n",
    "\n",
    "a = [replacements.get(x, x) for x in a]\n",
    "\n",
    "print(a)\n",
    "# Returns [10, 20, 30, 4, 5, 6, 7, 6, 5, 4, 30, 20, 10]"
   ]
  },
  {
   "cell_type": "code",
   "execution_count": null,
   "id": "4a911ab9",
   "metadata": {},
   "outputs": [],
   "source": []
  }
 ],
 "metadata": {
  "kernelspec": {
   "display_name": "Python 3",
   "language": "python",
   "name": "python3"
  },
  "language_info": {
   "codemirror_mode": {
    "name": "ipython",
    "version": 3
   },
   "file_extension": ".py",
   "mimetype": "text/x-python",
   "name": "python",
   "nbconvert_exporter": "python",
   "pygments_lexer": "ipython3",
   "version": "3.8.10"
  }
 },
 "nbformat": 4,
 "nbformat_minor": 5
}
