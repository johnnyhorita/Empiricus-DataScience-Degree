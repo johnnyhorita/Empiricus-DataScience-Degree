{
 "cells": [
  {
   "cell_type": "markdown",
   "id": "87084dca",
   "metadata": {},
   "source": [
    "# Estruturas de repetição FOR"
   ]
  },
  {
   "cell_type": "raw",
   "id": "2ae20c40",
   "metadata": {},
   "source": [
    "for <var> in <iterable>:\n",
    "    <statement (s)>"
   ]
  },
  {
   "cell_type": "markdown",
   "id": "7aa5ac4e",
   "metadata": {},
   "source": [
    "    <var> é criada automaticamente (não preciso definir previamente), ex: i, item, element,  etc   \n",
    "    <iterable> um objeto iterável -> posso percorrer, iterar esse objeto  \n",
    "    <statement> to do, corpo do loop  "
   ]
  },
  {
   "cell_type": "markdown",
   "id": "d2f45262",
   "metadata": {},
   "source": [
    "Exemplos de objetos iteráveis:  \n",
    "   - string (percorrer os \"caracteres do texto\")\n",
    "   - lista (percorrer cada elemento da lista)\n",
    "   - tuplas (percorrer cada elemento da tupla - imutáveis)\n",
    "   - set (percorrer cada elemento - são conjuntos e que não mantém a ordem dos elementos)\n",
    "   - dict (dicionários são iteráveis por chave e itens)\n",
    "   - frozenset"
   ]
  },
  {
   "cell_type": "code",
   "execution_count": 1,
   "id": "d5a0e813",
   "metadata": {
    "ExecuteTime": {
     "end_time": "2021-06-18T22:27:49.633053Z",
     "start_time": "2021-06-18T22:27:49.622082Z"
    }
   },
   "outputs": [
    {
     "name": "stdout",
     "output_type": "stream",
     "text": [
      "l\n",
      "e\n",
      "t\n",
      "'\n",
      "s\n",
      " \n",
      "C\n",
      "o\n",
      "d\n",
      "e\n"
     ]
    }
   ],
   "source": [
    "for element in \"let's Code\": # string com 10 caracteres (10 elementos)\n",
    "    print(element)"
   ]
  },
  {
   "cell_type": "code",
   "execution_count": 7,
   "id": "cd71b4bb",
   "metadata": {
    "ExecuteTime": {
     "end_time": "2021-06-18T22:38:54.243600Z",
     "start_time": "2021-06-18T22:38:54.236578Z"
    }
   },
   "outputs": [
    {
     "name": "stdout",
     "output_type": "stream",
     "text": [
      "Renata\n",
      "Pedro\n",
      "Ale\n",
      "Gabriel\n"
     ]
    }
   ],
   "source": [
    "for element in ['Renata', 'Pedro', 'Ale', 'Gabriel']: # lista com 4 elementos (strings)\n",
    "    print(element)"
   ]
  },
  {
   "cell_type": "code",
   "execution_count": 8,
   "id": "d70287cc",
   "metadata": {
    "ExecuteTime": {
     "end_time": "2021-06-18T22:43:15.316168Z",
     "start_time": "2021-06-18T22:43:15.297166Z"
    }
   },
   "outputs": [
    {
     "name": "stdout",
     "output_type": "stream",
     "text": [
      "0\n",
      "1\n",
      "2\n",
      "3\n",
      "4\n",
      "5\n"
     ]
    }
   ],
   "source": [
    "for element in [0, 1, 2, 3, 4, 5]: # lista com 6 elementos (números)\n",
    "    print(element)"
   ]
  },
  {
   "cell_type": "code",
   "execution_count": 10,
   "id": "9ccceb89",
   "metadata": {
    "ExecuteTime": {
     "end_time": "2021-06-18T22:45:40.060008Z",
     "start_time": "2021-06-18T22:45:40.043059Z"
    }
   },
   "outputs": [
    {
     "name": "stdout",
     "output_type": "stream",
     "text": [
      "Palavra\n",
      "<class 'str'>\n",
      "3\n",
      "<class 'int'>\n",
      "7.5\n",
      "<class 'float'>\n",
      "True\n",
      "<class 'bool'>\n"
     ]
    }
   ],
   "source": [
    "for element in ['Palavra', 3, 7.5, True]: # lista com elementos do tipo string, int, float, bool\n",
    "    print(element)\n",
    "    print(type(element))"
   ]
  },
  {
   "cell_type": "code",
   "execution_count": 12,
   "id": "c3447d38",
   "metadata": {
    "ExecuteTime": {
     "end_time": "2021-06-18T22:47:49.044904Z",
     "start_time": "2021-06-18T22:47:49.035922Z"
    }
   },
   "outputs": [
    {
     "name": "stdout",
     "output_type": "stream",
     "text": [
      "Palavra\n",
      "<class 'str'>\n",
      "3\n",
      "<class 'int'>\n",
      "7.5\n",
      "<class 'float'>\n",
      "True\n",
      "<class 'bool'>\n",
      "[1, 2, 3]\n",
      "<class 'list'>\n"
     ]
    }
   ],
   "source": [
    "# Bônus\n",
    "for element in ['Palavra', 3, 7.5, True, [1, 2, 3]]: # lista com elementos do tipo string, int, float, bool e lista #(lista dentro de outra lista)\n",
    "    print(element)\n",
    "    print(type(element))"
   ]
  },
  {
   "cell_type": "code",
   "execution_count": 100,
   "id": "71cb8b48",
   "metadata": {
    "ExecuteTime": {
     "end_time": "2021-06-19T00:04:23.325259Z",
     "start_time": "2021-06-19T00:04:23.309300Z"
    }
   },
   "outputs": [
    {
     "name": "stdout",
     "output_type": "stream",
     "text": [
      "[1, 2, 3]\n",
      "1\n",
      "2\n",
      "3\n",
      "[3, 4, 5]\n",
      "3\n",
      "4\n",
      "5\n",
      "[5, 6, 7]\n",
      "5\n",
      "6\n",
      "7\n",
      "[1]\n",
      "1\n"
     ]
    }
   ],
   "source": [
    "for element in [[1, 2, 3], [3, 4, 5], [5, 6, 7], [1]]: # lista de lista\n",
    "    print(element)\n",
    "    for item in element: # para cada elemento, percorrer a lista -> print em cada item da lista\n",
    "        print(item)"
   ]
  },
  {
   "cell_type": "code",
   "execution_count": 19,
   "id": "21bd9a77",
   "metadata": {
    "ExecuteTime": {
     "end_time": "2021-06-18T22:57:36.275545Z",
     "start_time": "2021-06-18T22:57:36.262581Z"
    }
   },
   "outputs": [
    {
     "name": "stdout",
     "output_type": "stream",
     "text": [
      "MG\n",
      "SP\n",
      "RJ\n"
     ]
    }
   ],
   "source": [
    "for element in ('MG', 'SP', 'RJ'): # tuplas \n",
    "    print(element)"
   ]
  },
  {
   "cell_type": "code",
   "execution_count": 21,
   "id": "e845dffa",
   "metadata": {
    "ExecuteTime": {
     "end_time": "2021-06-18T22:59:28.763333Z",
     "start_time": "2021-06-18T22:59:28.751364Z"
    }
   },
   "outputs": [
    {
     "name": "stdout",
     "output_type": "stream",
     "text": [
      "Paraguai\n",
      "Argentina\n",
      "Brasil\n"
     ]
    }
   ],
   "source": [
    "for element in {'Brasil', 'Paraguai', 'Argentina'}: # set \n",
    "    print(element)"
   ]
  },
  {
   "cell_type": "code",
   "execution_count": 25,
   "id": "eaca3ab2",
   "metadata": {
    "ExecuteTime": {
     "end_time": "2021-06-18T23:04:13.733455Z",
     "start_time": "2021-06-18T23:04:13.718459Z"
    }
   },
   "outputs": [
    {
     "name": "stdout",
     "output_type": "stream",
     "text": [
      "Gabriel\n",
      "Rodrigo\n",
      "Luiz Felipe\n"
     ]
    }
   ],
   "source": [
    "for element in {'Gabriel': 9, 'Rodrigo': 8, 'Luiz Felipe': 8.5}: # dicionário\n",
    "    print(element)\n",
    "\n",
    "# Veremos em outra aula, dic podem ser iterados por items, key"
   ]
  },
  {
   "cell_type": "code",
   "execution_count": 29,
   "id": "9f90a78d",
   "metadata": {
    "ExecuteTime": {
     "end_time": "2021-06-18T23:07:22.966108Z",
     "start_time": "2021-06-18T23:07:22.953147Z"
    }
   },
   "outputs": [
    {
     "name": "stdout",
     "output_type": "stream",
     "text": [
      "<list_iterator object at 0x000001F386646700>\n",
      "<str_iterator object at 0x000001F3866DADF0>\n",
      "<tuple_iterator object at 0x000001F386646700>\n"
     ]
    }
   ],
   "source": [
    "# teste para saber se é iterável:\n",
    "print(iter([1,2,3]))\n",
    "print(iter('string'))\n",
    "print(iter((1,2,3)))"
   ]
  },
  {
   "cell_type": "markdown",
   "id": "f1c85994",
   "metadata": {},
   "source": [
    "# Exemplos de objetos NÃO iteráveis"
   ]
  },
  {
   "cell_type": "code",
   "execution_count": 31,
   "id": "02dc77a5",
   "metadata": {
    "ExecuteTime": {
     "end_time": "2021-06-18T23:08:08.615024Z",
     "start_time": "2021-06-18T23:08:08.587060Z"
    }
   },
   "outputs": [
    {
     "ename": "TypeError",
     "evalue": "'int' object is not iterable",
     "output_type": "error",
     "traceback": [
      "\u001b[1;31m---------------------------------------------------------------------------\u001b[0m",
      "\u001b[1;31mTypeError\u001b[0m                                 Traceback (most recent call last)",
      "\u001b[1;32m<ipython-input-31-46a84f4128b3>\u001b[0m in \u001b[0;36m<module>\u001b[1;34m\u001b[0m\n\u001b[1;32m----> 1\u001b[1;33m \u001b[1;32mfor\u001b[0m \u001b[0mi\u001b[0m \u001b[1;32min\u001b[0m \u001b[1;36m19\u001b[0m\u001b[1;33m:\u001b[0m\u001b[1;33m\u001b[0m\u001b[1;33m\u001b[0m\u001b[0m\n\u001b[0m\u001b[0;32m      2\u001b[0m     \u001b[0mprint\u001b[0m\u001b[1;33m(\u001b[0m\u001b[0mi\u001b[0m\u001b[1;33m)\u001b[0m\u001b[1;33m\u001b[0m\u001b[1;33m\u001b[0m\u001b[0m\n",
      "\u001b[1;31mTypeError\u001b[0m: 'int' object is not iterable"
     ]
    }
   ],
   "source": [
    "for i in 19:\n",
    "    print(i)"
   ]
  },
  {
   "cell_type": "code",
   "execution_count": 34,
   "id": "c760766b",
   "metadata": {
    "ExecuteTime": {
     "end_time": "2021-06-18T23:09:13.300050Z",
     "start_time": "2021-06-18T23:09:13.283061Z"
    }
   },
   "outputs": [
    {
     "ename": "TypeError",
     "evalue": "'int' object is not iterable",
     "output_type": "error",
     "traceback": [
      "\u001b[1;31m---------------------------------------------------------------------------\u001b[0m",
      "\u001b[1;31mTypeError\u001b[0m                                 Traceback (most recent call last)",
      "\u001b[1;32m<ipython-input-34-e23805dd95fb>\u001b[0m in \u001b[0;36m<module>\u001b[1;34m\u001b[0m\n\u001b[1;32m----> 1\u001b[1;33m \u001b[0mprint\u001b[0m\u001b[1;33m(\u001b[0m\u001b[0miter\u001b[0m\u001b[1;33m(\u001b[0m\u001b[1;36m19\u001b[0m\u001b[1;33m)\u001b[0m\u001b[1;33m)\u001b[0m \u001b[1;31m# int\u001b[0m\u001b[1;33m\u001b[0m\u001b[1;33m\u001b[0m\u001b[0m\n\u001b[0m",
      "\u001b[1;31mTypeError\u001b[0m: 'int' object is not iterable"
     ]
    }
   ],
   "source": [
    "print(iter(19)) # int"
   ]
  },
  {
   "cell_type": "code",
   "execution_count": 35,
   "id": "12b7df0a",
   "metadata": {
    "ExecuteTime": {
     "end_time": "2021-06-18T23:09:14.972217Z",
     "start_time": "2021-06-18T23:09:14.961246Z"
    }
   },
   "outputs": [
    {
     "ename": "TypeError",
     "evalue": "'float' object is not iterable",
     "output_type": "error",
     "traceback": [
      "\u001b[1;31m---------------------------------------------------------------------------\u001b[0m",
      "\u001b[1;31mTypeError\u001b[0m                                 Traceback (most recent call last)",
      "\u001b[1;32m<ipython-input-35-8b4ee0bcaaad>\u001b[0m in \u001b[0;36m<module>\u001b[1;34m\u001b[0m\n\u001b[1;32m----> 1\u001b[1;33m \u001b[0mprint\u001b[0m\u001b[1;33m(\u001b[0m\u001b[0miter\u001b[0m\u001b[1;33m(\u001b[0m\u001b[1;36m13.8\u001b[0m\u001b[1;33m)\u001b[0m\u001b[1;33m)\u001b[0m\u001b[1;33m\u001b[0m\u001b[1;33m\u001b[0m\u001b[0m\n\u001b[0m",
      "\u001b[1;31mTypeError\u001b[0m: 'float' object is not iterable"
     ]
    }
   ],
   "source": [
    "print(iter(13.8)) #float"
   ]
  },
  {
   "cell_type": "code",
   "execution_count": 36,
   "id": "4359d08a",
   "metadata": {
    "ExecuteTime": {
     "end_time": "2021-06-18T23:09:35.976893Z",
     "start_time": "2021-06-18T23:09:35.959503Z"
    }
   },
   "outputs": [
    {
     "ename": "TypeError",
     "evalue": "'builtin_function_or_method' object is not iterable",
     "output_type": "error",
     "traceback": [
      "\u001b[1;31m---------------------------------------------------------------------------\u001b[0m",
      "\u001b[1;31mTypeError\u001b[0m                                 Traceback (most recent call last)",
      "\u001b[1;32m<ipython-input-36-1cf56a50fc04>\u001b[0m in \u001b[0;36m<module>\u001b[1;34m\u001b[0m\n\u001b[1;32m----> 1\u001b[1;33m \u001b[0miter\u001b[0m\u001b[1;33m(\u001b[0m\u001b[0mlen\u001b[0m\u001b[1;33m)\u001b[0m\u001b[1;33m\u001b[0m\u001b[1;33m\u001b[0m\u001b[0m\n\u001b[0m",
      "\u001b[1;31mTypeError\u001b[0m: 'builtin_function_or_method' object is not iterable"
     ]
    }
   ],
   "source": [
    "iter(len) # funçao"
   ]
  },
  {
   "cell_type": "code",
   "execution_count": 37,
   "id": "aa2592aa",
   "metadata": {
    "ExecuteTime": {
     "end_time": "2021-06-18T23:10:05.961230Z",
     "start_time": "2021-06-18T23:10:05.935799Z"
    }
   },
   "outputs": [
    {
     "ename": "TypeError",
     "evalue": "'bool' object is not iterable",
     "output_type": "error",
     "traceback": [
      "\u001b[1;31m---------------------------------------------------------------------------\u001b[0m",
      "\u001b[1;31mTypeError\u001b[0m                                 Traceback (most recent call last)",
      "\u001b[1;32m<ipython-input-37-8f57cb5509ca>\u001b[0m in \u001b[0;36m<module>\u001b[1;34m\u001b[0m\n\u001b[1;32m----> 1\u001b[1;33m \u001b[0miter\u001b[0m\u001b[1;33m(\u001b[0m\u001b[1;32mTrue\u001b[0m\u001b[1;33m)\u001b[0m\u001b[1;33m\u001b[0m\u001b[1;33m\u001b[0m\u001b[0m\n\u001b[0m",
      "\u001b[1;31mTypeError\u001b[0m: 'bool' object is not iterable"
     ]
    }
   ],
   "source": [
    "iter(True)"
   ]
  },
  {
   "cell_type": "code",
   "execution_count": 39,
   "id": "53fd2d50",
   "metadata": {
    "ExecuteTime": {
     "end_time": "2021-06-18T23:12:39.095355Z",
     "start_time": "2021-06-18T23:12:39.071419Z"
    }
   },
   "outputs": [
    {
     "name": "stdout",
     "output_type": "stream",
     "text": [
      "<list_iterator object at 0x000001F3870C1CD0>\n"
     ]
    },
    {
     "ename": "TypeError",
     "evalue": "'int' object is not iterable",
     "output_type": "error",
     "traceback": [
      "\u001b[1;31m---------------------------------------------------------------------------\u001b[0m",
      "\u001b[1;31mTypeError\u001b[0m                                 Traceback (most recent call last)",
      "\u001b[1;32m<ipython-input-39-e45d71f657f5>\u001b[0m in \u001b[0;36m<module>\u001b[1;34m\u001b[0m\n\u001b[0;32m      7\u001b[0m \u001b[1;33m\u001b[0m\u001b[0m\n\u001b[0;32m      8\u001b[0m \u001b[0mvariavel\u001b[0m \u001b[1;33m=\u001b[0m \u001b[1;36m3\u001b[0m\u001b[1;33m\u001b[0m\u001b[1;33m\u001b[0m\u001b[0m\n\u001b[1;32m----> 9\u001b[1;33m \u001b[0miter\u001b[0m\u001b[1;33m(\u001b[0m\u001b[0mvariavel\u001b[0m\u001b[1;33m)\u001b[0m\u001b[1;33m\u001b[0m\u001b[1;33m\u001b[0m\u001b[0m\n\u001b[0m",
      "\u001b[1;31mTypeError\u001b[0m: 'int' object is not iterable"
     ]
    }
   ],
   "source": [
    "# Dúvida: Uma variável é iterável?\n",
    "\n",
    "# Depende da variável pois depende o que está armazenado nessa variável\n",
    "\n",
    "variavel =  [1, 2, 3, 4]\n",
    "print(iter(variavel))\n",
    "\n",
    "variavel = 3\n",
    "iter(variavel)"
   ]
  },
  {
   "cell_type": "markdown",
   "id": "ef9b237e",
   "metadata": {},
   "source": [
    "### Exemplos"
   ]
  },
  {
   "cell_type": "code",
   "execution_count": 42,
   "id": "fecac605",
   "metadata": {
    "ExecuteTime": {
     "end_time": "2021-06-18T23:15:14.686892Z",
     "start_time": "2021-06-18T23:15:14.676902Z"
    }
   },
   "outputs": [
    {
     "name": "stdout",
     "output_type": "stream",
     "text": [
      "0\n",
      "1\n",
      "2\n",
      "3\n",
      "4\n",
      "5\n",
      "6\n",
      "7\n"
     ]
    }
   ],
   "source": [
    "for i in [0, 1,2,3,4,5,6,7]:\n",
    "    print(i)"
   ]
  },
  {
   "cell_type": "code",
   "execution_count": 43,
   "id": "5ab0f33c",
   "metadata": {
    "ExecuteTime": {
     "end_time": "2021-06-18T23:15:17.684235Z",
     "start_time": "2021-06-18T23:15:17.670268Z"
    }
   },
   "outputs": [
    {
     "name": "stdout",
     "output_type": "stream",
     "text": [
      "0\n",
      "1\n",
      "2\n",
      "3\n",
      "4\n",
      "5\n",
      "6\n",
      "7\n"
     ]
    }
   ],
   "source": [
    "lista = [0,1,2,3,4,5,6,7]\n",
    "\n",
    "for i in lista:\n",
    "    print(i)"
   ]
  },
  {
   "cell_type": "code",
   "execution_count": 44,
   "id": "b1ab41ab",
   "metadata": {
    "ExecuteTime": {
     "end_time": "2021-06-18T23:15:28.604133Z",
     "start_time": "2021-06-18T23:15:28.592162Z"
    }
   },
   "outputs": [
    {
     "data": {
      "text/plain": [
       "range(0, 8)"
      ]
     },
     "execution_count": 44,
     "metadata": {},
     "output_type": "execute_result"
    }
   ],
   "source": [
    "range(0,8)"
   ]
  },
  {
   "cell_type": "code",
   "execution_count": 47,
   "id": "027f1471",
   "metadata": {
    "ExecuteTime": {
     "end_time": "2021-06-18T23:20:26.067430Z",
     "start_time": "2021-06-18T23:20:26.056432Z"
    }
   },
   "outputs": [
    {
     "data": {
      "text/plain": [
       "[0, 1, 2, 3, 4, 5, 6, 7]"
      ]
     },
     "execution_count": 47,
     "metadata": {},
     "output_type": "execute_result"
    }
   ],
   "source": [
    "list(range(0,8))"
   ]
  },
  {
   "cell_type": "code",
   "execution_count": 45,
   "id": "8be5ed13",
   "metadata": {
    "ExecuteTime": {
     "end_time": "2021-06-18T23:16:37.487621Z",
     "start_time": "2021-06-18T23:16:37.478646Z"
    }
   },
   "outputs": [
    {
     "name": "stdout",
     "output_type": "stream",
     "text": [
      "0\n",
      "1\n",
      "2\n",
      "3\n",
      "4\n",
      "5\n",
      "6\n",
      "7\n"
     ]
    }
   ],
   "source": [
    "for i in (0,1,2,3,4,5,6,7):\n",
    "    print(i)"
   ]
  },
  {
   "cell_type": "code",
   "execution_count": 46,
   "id": "f0ee670a",
   "metadata": {
    "ExecuteTime": {
     "end_time": "2021-06-18T23:17:00.880099Z",
     "start_time": "2021-06-18T23:17:00.869005Z"
    }
   },
   "outputs": [
    {
     "name": "stdout",
     "output_type": "stream",
     "text": [
      "0\n",
      "1\n",
      "2\n",
      "3\n",
      "4\n",
      "5\n",
      "6\n",
      "7\n"
     ]
    }
   ],
   "source": [
    "for i in range(0,8): #8 exclusivo\n",
    "    print(i)"
   ]
  },
  {
   "cell_type": "code",
   "execution_count": 49,
   "id": "57e60cc9",
   "metadata": {
    "ExecuteTime": {
     "end_time": "2021-06-18T23:23:59.801469Z",
     "start_time": "2021-06-18T23:23:59.795485Z"
    }
   },
   "outputs": [
    {
     "name": "stdout",
     "output_type": "stream",
     "text": [
      "0\n",
      "2\n",
      "4\n",
      "6\n"
     ]
    }
   ],
   "source": [
    "for i in range(0,8,2): #8 exclusivo\n",
    "    print(i)"
   ]
  },
  {
   "cell_type": "code",
   "execution_count": 50,
   "id": "11659ea5",
   "metadata": {
    "ExecuteTime": {
     "end_time": "2021-06-18T23:24:10.923059Z",
     "start_time": "2021-06-18T23:24:10.901120Z"
    }
   },
   "outputs": [
    {
     "data": {
      "text/plain": [
       "range(0, 8, 2)"
      ]
     },
     "execution_count": 50,
     "metadata": {},
     "output_type": "execute_result"
    }
   ],
   "source": [
    "range(0,8,2) # saída é parecido com uma \"tupla\""
   ]
  },
  {
   "cell_type": "code",
   "execution_count": 52,
   "id": "0b547a2d",
   "metadata": {
    "ExecuteTime": {
     "end_time": "2021-06-18T23:26:47.282853Z",
     "start_time": "2021-06-18T23:26:47.273877Z"
    }
   },
   "outputs": [
    {
     "data": {
      "text/plain": [
       "range"
      ]
     },
     "execution_count": 52,
     "metadata": {},
     "output_type": "execute_result"
    }
   ],
   "source": [
    "type(range(0,8,2))"
   ]
  },
  {
   "cell_type": "code",
   "execution_count": 51,
   "id": "2a06298b",
   "metadata": {
    "ExecuteTime": {
     "end_time": "2021-06-18T23:24:22.453174Z",
     "start_time": "2021-06-18T23:24:22.442203Z"
    }
   },
   "outputs": [
    {
     "data": {
      "text/plain": [
       "[0, 2, 4, 6]"
      ]
     },
     "execution_count": 51,
     "metadata": {},
     "output_type": "execute_result"
    }
   ],
   "source": [
    "list(range(0, 8, 2)) # lista"
   ]
  },
  {
   "cell_type": "code",
   "execution_count": 53,
   "id": "6f2cd7a2",
   "metadata": {
    "ExecuteTime": {
     "end_time": "2021-06-18T23:27:22.807818Z",
     "start_time": "2021-06-18T23:27:22.790818Z"
    }
   },
   "outputs": [
    {
     "data": {
      "text/plain": [
       "list"
      ]
     },
     "execution_count": 53,
     "metadata": {},
     "output_type": "execute_result"
    }
   ],
   "source": [
    "type(list(range(0,8,2)))"
   ]
  },
  {
   "cell_type": "code",
   "execution_count": 61,
   "id": "90752949",
   "metadata": {
    "ExecuteTime": {
     "end_time": "2021-06-18T23:33:36.011318Z",
     "start_time": "2021-06-18T23:33:35.993329Z"
    }
   },
   "outputs": [
    {
     "name": "stdout",
     "output_type": "stream",
     "text": [
      "Joao\n",
      "Paulo\n",
      "Hugo\n",
      "Pedro\n",
      "Maria\n",
      "Isa\n",
      "Isaac\n"
     ]
    }
   ],
   "source": [
    "lista = ['Joao', 'Paulo', 'Hugo', 'Pedro', 'Maria', 'Isa', 'Isaac']\n",
    "\n",
    "# percorrer a lista diretamente, percorre por item\n",
    "\n",
    "for nome in lista:\n",
    "    print(nome)"
   ]
  },
  {
   "cell_type": "code",
   "execution_count": 62,
   "id": "c39d87a2",
   "metadata": {
    "ExecuteTime": {
     "end_time": "2021-06-18T23:33:38.914283Z",
     "start_time": "2021-06-18T23:33:38.895325Z"
    }
   },
   "outputs": [
    {
     "name": "stdout",
     "output_type": "stream",
     "text": [
      "Joao\n",
      "Paulo\n",
      "Hugo\n",
      "Pedro\n",
      "Maria\n",
      "Isa\n",
      "Isaac\n"
     ]
    }
   ],
   "source": [
    "# percorrer a lista através do índice/posição (range)\n",
    "# for nome in range(7): outra forma é usar o len para a lista\n",
    "for i in range(len(lista)): \n",
    "    print(lista[i]) # quero o item de cada posição"
   ]
  },
  {
   "cell_type": "code",
   "execution_count": 65,
   "id": "5526bdc6",
   "metadata": {
    "ExecuteTime": {
     "end_time": "2021-06-18T23:34:27.415310Z",
     "start_time": "2021-06-18T23:34:27.398356Z"
    }
   },
   "outputs": [
    {
     "name": "stdout",
     "output_type": "stream",
     "text": [
      "i: 0\n",
      "item da posicao i:  Joao\n",
      "i: 1\n",
      "item da posicao i:  Paulo\n",
      "i: 2\n",
      "item da posicao i:  Hugo\n",
      "i: 3\n",
      "item da posicao i:  Pedro\n",
      "i: 4\n",
      "item da posicao i:  Maria\n",
      "i: 5\n",
      "item da posicao i:  Isa\n",
      "i: 6\n",
      "item da posicao i:  Isaac\n"
     ]
    }
   ],
   "source": [
    "# percorrer a lista através do índice/posição (range)\n",
    "# for nome in range(7): outra forma é usar o len para a lista\n",
    "for i in range(len(lista)): \n",
    "    print('i:', i)\n",
    "    print('item da posicao i: ', lista[i]) # quero o item de cada posição"
   ]
  },
  {
   "cell_type": "code",
   "execution_count": 56,
   "id": "3b0842e8",
   "metadata": {
    "ExecuteTime": {
     "end_time": "2021-06-18T23:29:23.614735Z",
     "start_time": "2021-06-18T23:29:23.603763Z"
    }
   },
   "outputs": [
    {
     "data": {
      "text/plain": [
       "'Joao'"
      ]
     },
     "execution_count": 56,
     "metadata": {},
     "output_type": "execute_result"
    }
   ],
   "source": [
    "lista = ['Joao', 'Paulo', 'Hugo', 'Pedro', 'Maria', 'Isa', 'Isaac']\n",
    "lista[0] # acessando o primeiro elemento da lista _. estou usando o índice"
   ]
  },
  {
   "cell_type": "code",
   "execution_count": 66,
   "id": "d67b5dc3",
   "metadata": {
    "ExecuteTime": {
     "end_time": "2021-06-18T23:37:14.130523Z",
     "start_time": "2021-06-18T23:37:14.121547Z"
    }
   },
   "outputs": [
    {
     "data": {
      "text/plain": [
       "4"
      ]
     },
     "execution_count": 66,
     "metadata": {},
     "output_type": "execute_result"
    }
   ],
   "source": [
    "lista.index('Maria') # mostra a posição do item dentro da lista"
   ]
  },
  {
   "cell_type": "code",
   "execution_count": 69,
   "id": "25b3be5b",
   "metadata": {
    "ExecuteTime": {
     "end_time": "2021-06-18T23:39:04.467316Z",
     "start_time": "2021-06-18T23:39:04.456345Z"
    }
   },
   "outputs": [
    {
     "name": "stdout",
     "output_type": "stream",
     "text": [
      "Joao\n",
      "0\n",
      "Paulo\n",
      "1\n",
      "Hugo\n",
      "2\n",
      "Pedro\n",
      "3\n",
      "Maria\n",
      "4\n",
      "Isa\n",
      "5\n",
      "Isaac\n",
      "6\n"
     ]
    }
   ],
   "source": [
    "for nome in lista:\n",
    "    print(nome)\n",
    "    print(lista.index(nome))"
   ]
  },
  {
   "cell_type": "code",
   "execution_count": 75,
   "id": "0b612101",
   "metadata": {
    "ExecuteTime": {
     "end_time": "2021-06-18T23:41:19.072429Z",
     "start_time": "2021-06-18T23:41:19.055475Z"
    }
   },
   "outputs": [
    {
     "name": "stdout",
     "output_type": "stream",
     "text": [
      "Isaac\n",
      "Isa\n",
      "Maria\n",
      "Pedro\n",
      "Hugo\n",
      "Paulo\n",
      "Joao\n"
     ]
    }
   ],
   "source": [
    "lista_bkp = lista[:]\n",
    "lista_bkp.reverse()\n",
    "\n",
    "for nome in lista_bkp:\n",
    "    print(nome)"
   ]
  },
  {
   "cell_type": "code",
   "execution_count": 91,
   "id": "aa9851f1",
   "metadata": {
    "ExecuteTime": {
     "end_time": "2021-06-18T23:58:23.702820Z",
     "start_time": "2021-06-18T23:58:23.686870Z"
    }
   },
   "outputs": [
    {
     "name": "stdout",
     "output_type": "stream",
     "text": [
      "i: 7\n",
      "item da posicao i:  7\n",
      "i: 6\n",
      "item da posicao i:  6\n",
      "i: 5\n",
      "item da posicao i:  5\n",
      "i: 4\n",
      "item da posicao i:  4\n",
      "i: 3\n",
      "item da posicao i:  3\n",
      "i: 2\n",
      "item da posicao i:  2\n",
      "i: 1\n",
      "item da posicao i:  1\n",
      "i: 0\n",
      "item da posicao i:  0\n"
     ]
    }
   ],
   "source": [
    "for i in range(len(lista)-1, -1, -1): # len(lista) é 7 e nao tem posição 7. -1 por que é exclusivo. -1 é passo\n",
    "    print('i:', i)\n",
    "    print('item da posicao i: ', lista[i]) "
   ]
  },
  {
   "cell_type": "code",
   "execution_count": 80,
   "id": "71654b3e",
   "metadata": {
    "ExecuteTime": {
     "end_time": "2021-06-18T23:46:55.404318Z",
     "start_time": "2021-06-18T23:46:55.395308Z"
    }
   },
   "outputs": [
    {
     "name": "stdout",
     "output_type": "stream",
     "text": [
      "Joao\n",
      "Paulo\n",
      "Hugo\n",
      "Pedro\n"
     ]
    }
   ],
   "source": [
    "for i in ['Joao', 'Paulo', 'Hugo', 'Pedro', 'Maria', 'Isa', 'Isaac']:\n",
    "    if 'Maria' in i:\n",
    "        break # termina o loop e segue para a a primeira instrução após o loop\n",
    "    print(i)"
   ]
  },
  {
   "cell_type": "code",
   "execution_count": 81,
   "id": "b4a8c2ad",
   "metadata": {
    "ExecuteTime": {
     "end_time": "2021-06-18T23:48:28.409206Z",
     "start_time": "2021-06-18T23:48:28.401227Z"
    }
   },
   "outputs": [
    {
     "name": "stdout",
     "output_type": "stream",
     "text": [
      "Joao\n",
      "Paulo\n",
      "Hugo\n",
      "Pedro\n",
      "Isa\n",
      "Isaac\n"
     ]
    }
   ],
   "source": [
    "for i in ['Joao', 'Paulo', 'Hugo', 'Pedro', 'Maria', 'Isa', 'Isaac']:\n",
    "    if 'Maria' in i:\n",
    "        continue # encerra a iteração atual e segue para a próxima iteração\n",
    "    print(i)"
   ]
  },
  {
   "cell_type": "code",
   "execution_count": 87,
   "id": "208ee5ec",
   "metadata": {
    "ExecuteTime": {
     "end_time": "2021-06-18T23:54:50.614219Z",
     "start_time": "2021-06-18T23:54:50.594269Z"
    }
   },
   "outputs": [
    {
     "name": "stdout",
     "output_type": "stream",
     "text": [
      "\n",
      " 0\n",
      "\n",
      " 1\n",
      "\n",
      " 2\n",
      "\n",
      " 3\n",
      "\n",
      " 4\n",
      "\n",
      " 5\n",
      "\n",
      " 6\n",
      "\n",
      " 7\n"
     ]
    }
   ],
   "source": [
    "lista = [0,1,2,3,4,5,6,7]\n",
    "\n",
    "for i in lista:\n",
    "#     print('\\n',i)\n",
    "#     print(f'\\n {i}')\n",
    "    print('\\n {}'.format(i))"
   ]
  },
  {
   "cell_type": "code",
   "execution_count": 89,
   "id": "bcdb3252",
   "metadata": {
    "ExecuteTime": {
     "end_time": "2021-06-18T23:56:35.912001Z",
     "start_time": "2021-06-18T23:56:35.895045Z"
    }
   },
   "outputs": [
    {
     "name": "stdout",
     "output_type": "stream",
     "text": [
      "8\n",
      "6\n",
      "4\n",
      "2\n"
     ]
    }
   ],
   "source": [
    "for i in range(8, 0, -2):\n",
    "    print(i)"
   ]
  },
  {
   "cell_type": "code",
   "execution_count": 92,
   "id": "1f982aff",
   "metadata": {
    "ExecuteTime": {
     "end_time": "2021-06-18T23:59:20.525651Z",
     "start_time": "2021-06-18T23:59:20.507704Z"
    }
   },
   "outputs": [
    {
     "data": {
      "text/plain": [
       "True"
      ]
     },
     "execution_count": 92,
     "metadata": {},
     "output_type": "execute_result"
    }
   ],
   "source": [
    "# in na string\n",
    "'a' in 'Maria'"
   ]
  },
  {
   "cell_type": "code",
   "execution_count": 93,
   "id": "c886db3b",
   "metadata": {
    "ExecuteTime": {
     "end_time": "2021-06-18T23:59:39.250436Z",
     "start_time": "2021-06-18T23:59:39.241465Z"
    }
   },
   "outputs": [
    {
     "data": {
      "text/plain": [
       "False"
      ]
     },
     "execution_count": 93,
     "metadata": {},
     "output_type": "execute_result"
    }
   ],
   "source": [
    "'b' in 'Maria'"
   ]
  },
  {
   "cell_type": "code",
   "execution_count": 94,
   "id": "70a759cf",
   "metadata": {
    "ExecuteTime": {
     "end_time": "2021-06-18T23:59:47.970134Z",
     "start_time": "2021-06-18T23:59:47.964148Z"
    }
   },
   "outputs": [
    {
     "data": {
      "text/plain": [
       "True"
      ]
     },
     "execution_count": 94,
     "metadata": {},
     "output_type": "execute_result"
    }
   ],
   "source": [
    "'Maria' in 'Maria'"
   ]
  },
  {
   "cell_type": "code",
   "execution_count": 95,
   "id": "f0824ae9",
   "metadata": {
    "ExecuteTime": {
     "end_time": "2021-06-19T00:00:04.284430Z",
     "start_time": "2021-06-19T00:00:04.275413Z"
    }
   },
   "outputs": [
    {
     "data": {
      "text/plain": [
       "True"
      ]
     },
     "execution_count": 95,
     "metadata": {},
     "output_type": "execute_result"
    }
   ],
   "source": [
    "'Maria' == 'Maria'"
   ]
  },
  {
   "cell_type": "code",
   "execution_count": 96,
   "id": "fce79dda",
   "metadata": {
    "ExecuteTime": {
     "end_time": "2021-06-19T00:00:18.883796Z",
     "start_time": "2021-06-19T00:00:18.867795Z"
    }
   },
   "outputs": [
    {
     "data": {
      "text/plain": [
       "False"
      ]
     },
     "execution_count": 96,
     "metadata": {},
     "output_type": "execute_result"
    }
   ],
   "source": [
    "'Maria' != 'Maria'"
   ]
  },
  {
   "cell_type": "markdown",
   "id": "62e50a9c",
   "metadata": {},
   "source": [
    "- caracteres especiais: \\n pular linha (dentro de uma string)"
   ]
  },
  {
   "cell_type": "code",
   "execution_count": 101,
   "id": "6407b325",
   "metadata": {
    "ExecuteTime": {
     "end_time": "2021-06-19T00:07:21.021192Z",
     "start_time": "2021-06-19T00:07:21.013257Z"
    }
   },
   "outputs": [
    {
     "name": "stdout",
     "output_type": "stream",
     "text": [
      "abcdefg\n"
     ]
    }
   ],
   "source": [
    "print('abcdefg')"
   ]
  },
  {
   "cell_type": "code",
   "execution_count": 105,
   "id": "f9f24aae",
   "metadata": {
    "ExecuteTime": {
     "end_time": "2021-06-19T00:08:55.833245Z",
     "start_time": "2021-06-19T00:08:55.819283Z"
    }
   },
   "outputs": [
    {
     "name": "stdout",
     "output_type": "stream",
     "text": [
      "abcd\n",
      "efg\n"
     ]
    }
   ],
   "source": [
    "print('abcd\\nefg')"
   ]
  },
  {
   "cell_type": "code",
   "execution_count": 106,
   "id": "524a88c5",
   "metadata": {
    "ExecuteTime": {
     "end_time": "2021-06-19T00:09:03.735458Z",
     "start_time": "2021-06-19T00:09:03.717506Z"
    }
   },
   "outputs": [
    {
     "name": "stdout",
     "output_type": "stream",
     "text": [
      "abcd \n",
      " efg\n"
     ]
    }
   ],
   "source": [
    "print('abcd \\n efg')"
   ]
  },
  {
   "cell_type": "code",
   "execution_count": 107,
   "id": "167a8710",
   "metadata": {
    "ExecuteTime": {
     "end_time": "2021-06-19T00:09:22.500446Z",
     "start_time": "2021-06-19T00:09:22.493468Z"
    }
   },
   "outputs": [
    {
     "name": "stdout",
     "output_type": "stream",
     "text": [
      "abcd \t efg\n"
     ]
    }
   ],
   "source": [
    "print('abcd \\t efg') # tabulação"
   ]
  },
  {
   "cell_type": "code",
   "execution_count": 108,
   "id": "1b717980",
   "metadata": {
    "ExecuteTime": {
     "end_time": "2021-06-19T00:09:41.997714Z",
     "start_time": "2021-06-19T00:09:41.980762Z"
    }
   },
   "outputs": [
    {
     "name": "stdout",
     "output_type": "stream",
     "text": [
      "abcd \n",
      "\n",
      " efg\n"
     ]
    }
   ],
   "source": [
    "print('abcd \\n\\n efg')"
   ]
  },
  {
   "cell_type": "markdown",
   "id": "76a84133",
   "metadata": {
    "ExecuteTime": {
     "end_time": "2021-06-19T00:11:17.283746Z",
     "start_time": "2021-06-19T00:11:17.272774Z"
    }
   },
   "source": [
    "# Dúvidas"
   ]
  },
  {
   "cell_type": "code",
   "execution_count": 111,
   "id": "f365e05a",
   "metadata": {
    "ExecuteTime": {
     "end_time": "2021-06-19T00:21:31.400684Z",
     "start_time": "2021-06-19T00:21:31.393706Z"
    }
   },
   "outputs": [
    {
     "data": {
      "text/plain": [
       "[0, 1, 2, 3, 4, 5, 6, 7]"
      ]
     },
     "execution_count": 111,
     "metadata": {},
     "output_type": "execute_result"
    }
   ],
   "source": [
    "lista"
   ]
  },
  {
   "cell_type": "code",
   "execution_count": 112,
   "id": "77117869",
   "metadata": {
    "ExecuteTime": {
     "end_time": "2021-06-19T00:23:27.044854Z",
     "start_time": "2021-06-19T00:23:27.027900Z"
    }
   },
   "outputs": [
    {
     "name": "stdout",
     "output_type": "stream",
     "text": [
      "[0, 1, 2, 3]\n"
     ]
    }
   ],
   "source": [
    "listafinal = []\n",
    "\n",
    "for i in lista:\n",
    "    if i <= 3:\n",
    "        listafinal.append(i) # se o elemento for menor igual a 3, jogo para a lista final\n",
    "        \n",
    "print(listafinal)"
   ]
  },
  {
   "cell_type": "code",
   "execution_count": 116,
   "id": "1279bd0d",
   "metadata": {
    "ExecuteTime": {
     "end_time": "2021-06-19T00:26:28.231502Z",
     "start_time": "2021-06-19T00:26:28.210560Z"
    }
   },
   "outputs": [
    {
     "name": "stdout",
     "output_type": "stream",
     "text": [
      "[0, 1, 2, 3]\n"
     ]
    }
   ],
   "source": [
    "listafinal = [i for i in lista if i<=3]\n",
    "\n",
    "print(listafinal)"
   ]
  },
  {
   "cell_type": "code",
   "execution_count": 117,
   "id": "680d64c2",
   "metadata": {
    "ExecuteTime": {
     "end_time": "2021-06-19T00:28:57.711497Z",
     "start_time": "2021-06-19T00:28:57.692535Z"
    }
   },
   "outputs": [
    {
     "data": {
      "text/plain": [
       "[0, 1, 2, 3, 4, 5, 6, 7]"
      ]
     },
     "execution_count": 117,
     "metadata": {},
     "output_type": "execute_result"
    }
   ],
   "source": [
    "[i for i in lista]"
   ]
  },
  {
   "cell_type": "code",
   "execution_count": 118,
   "id": "6af6d3dd",
   "metadata": {
    "ExecuteTime": {
     "end_time": "2021-06-19T00:29:18.033944Z",
     "start_time": "2021-06-19T00:29:18.014998Z"
    }
   },
   "outputs": [
    {
     "data": {
      "text/plain": [
       "[3, 4, 5, 6, 7, 8, 9, 10]"
      ]
     },
     "execution_count": 118,
     "metadata": {},
     "output_type": "execute_result"
    }
   ],
   "source": [
    "[i+3 for i in lista]"
   ]
  },
  {
   "cell_type": "code",
   "execution_count": 119,
   "id": "10947e50",
   "metadata": {
    "ExecuteTime": {
     "end_time": "2021-06-19T00:32:55.210676Z",
     "start_time": "2021-06-19T00:32:55.201750Z"
    }
   },
   "outputs": [],
   "source": [
    "lista_vazia = []"
   ]
  },
  {
   "cell_type": "code",
   "execution_count": 120,
   "id": "f665af48",
   "metadata": {
    "ExecuteTime": {
     "end_time": "2021-06-19T00:33:43.727985Z",
     "start_time": "2021-06-19T00:33:43.710033Z"
    }
   },
   "outputs": [
    {
     "ename": "IndexError",
     "evalue": "list index out of range",
     "output_type": "error",
     "traceback": [
      "\u001b[1;31m---------------------------------------------------------------------------\u001b[0m",
      "\u001b[1;31mIndexError\u001b[0m                                Traceback (most recent call last)",
      "\u001b[1;32m<ipython-input-120-eb538832f392>\u001b[0m in \u001b[0;36m<module>\u001b[1;34m\u001b[0m\n\u001b[1;32m----> 1\u001b[1;33m \u001b[0mlista_vazia\u001b[0m\u001b[1;33m[\u001b[0m\u001b[1;36m0\u001b[0m\u001b[1;33m]\u001b[0m\u001b[1;33m\u001b[0m\u001b[1;33m\u001b[0m\u001b[0m\n\u001b[0m",
      "\u001b[1;31mIndexError\u001b[0m: list index out of range"
     ]
    }
   ],
   "source": [
    "lista_vazia[0]"
   ]
  },
  {
   "cell_type": "code",
   "execution_count": 121,
   "id": "5a9c9d99",
   "metadata": {
    "ExecuteTime": {
     "end_time": "2021-06-19T00:33:58.482900Z",
     "start_time": "2021-06-19T00:33:58.468937Z"
    }
   },
   "outputs": [
    {
     "data": {
      "text/plain": [
       "list"
      ]
     },
     "execution_count": 121,
     "metadata": {},
     "output_type": "execute_result"
    }
   ],
   "source": [
    "type(lista_vazia)"
   ]
  },
  {
   "cell_type": "code",
   "execution_count": 124,
   "id": "85782ccf",
   "metadata": {
    "ExecuteTime": {
     "end_time": "2021-06-19T00:34:43.550454Z",
     "start_time": "2021-06-19T00:34:43.536452Z"
    }
   },
   "outputs": [
    {
     "data": {
      "text/plain": [
       "0"
      ]
     },
     "execution_count": 124,
     "metadata": {},
     "output_type": "execute_result"
    }
   ],
   "source": [
    "len(lista_vazia) # o tamanho da lista é zero e NÃO posição"
   ]
  },
  {
   "cell_type": "code",
   "execution_count": null,
   "id": "fe42f096",
   "metadata": {},
   "outputs": [],
   "source": []
  },
  {
   "cell_type": "code",
   "execution_count": null,
   "id": "1a2079bd",
   "metadata": {},
   "outputs": [],
   "source": []
  }
 ],
 "metadata": {
  "kernelspec": {
   "display_name": "Python 3",
   "language": "python",
   "name": "python3"
  },
  "language_info": {
   "codemirror_mode": {
    "name": "ipython",
    "version": 3
   },
   "file_extension": ".py",
   "mimetype": "text/x-python",
   "name": "python",
   "nbconvert_exporter": "python",
   "pygments_lexer": "ipython3",
   "version": "3.8.10"
  },
  "varInspector": {
   "cols": {
    "lenName": 16,
    "lenType": 16,
    "lenVar": 40
   },
   "kernels_config": {
    "python": {
     "delete_cmd_postfix": "",
     "delete_cmd_prefix": "del ",
     "library": "var_list.py",
     "varRefreshCmd": "print(var_dic_list())"
    },
    "r": {
     "delete_cmd_postfix": ") ",
     "delete_cmd_prefix": "rm(",
     "library": "var_list.r",
     "varRefreshCmd": "cat(var_dic_list()) "
    }
   },
   "types_to_exclude": [
    "module",
    "function",
    "builtin_function_or_method",
    "instance",
    "_Feature"
   ],
   "window_display": false
  }
 },
 "nbformat": 4,
 "nbformat_minor": 5
}
