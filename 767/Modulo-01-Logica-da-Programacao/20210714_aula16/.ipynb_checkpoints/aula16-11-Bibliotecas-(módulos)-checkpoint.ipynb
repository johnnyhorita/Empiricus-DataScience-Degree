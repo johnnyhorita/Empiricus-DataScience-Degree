{
 "cells": [
  {
   "cell_type": "markdown",
   "id": "665893bd",
   "metadata": {},
   "source": [
    "# Aula 16\n",
    "\n",
    "## 11.  Bibliotecas (módulos)\n"
   ]
  },
  {
   "cell_type": "markdown",
   "id": "34e18210",
   "metadata": {},
   "source": [
    "### 1. Criando módulos"
   ]
  },
  {
   "cell_type": "code",
   "execution_count": 1,
   "id": "814a59c5",
   "metadata": {
    "ExecuteTime": {
     "end_time": "2021-07-14T23:24:44.698433Z",
     "start_time": "2021-07-14T23:24:44.694426Z"
    }
   },
   "outputs": [],
   "source": [
    "# Salve este código como contas.py\n",
    "def soma(a, b):\n",
    "    resultado = a + b\n",
    "    return resultado\n",
    "\n",
    "def media(x, y):\n",
    "    s = soma(x, y)\n",
    "    resultado = s/2\n",
    "    return resultado"
   ]
  },
  {
   "cell_type": "code",
   "execution_count": 3,
   "id": "0b3b5b38",
   "metadata": {
    "ExecuteTime": {
     "end_time": "2021-07-14T23:30:17.217945Z",
     "start_time": "2021-07-14T23:30:17.202860Z"
    }
   },
   "outputs": [
    {
     "name": "stdout",
     "output_type": "stream",
     "text": [
      "6.0\n"
     ]
    }
   ],
   "source": [
    "# Salve este outro código como principal.py na mesma pasta do contas.py\n",
    "# Execute este código, não o contas.py\n",
    "\n",
    "# Comandos para reload de bibliotecas\n",
    "%load_ext autoreload\n",
    "%autoreload 2\n",
    "\n",
    "\n",
    "import contas\n",
    "\n",
    "x = contas.media(3, 9)\n",
    "print(x)"
   ]
  },
  {
   "cell_type": "markdown",
   "id": "a61c067d",
   "metadata": {},
   "source": [
    "### 2. Módulos pré-instalados"
   ]
  },
  {
   "cell_type": "code",
   "execution_count": 4,
   "id": "36f30d4a",
   "metadata": {
    "ExecuteTime": {
     "end_time": "2021-07-14T23:37:34.695333Z",
     "start_time": "2021-07-14T23:37:34.689340Z"
    }
   },
   "outputs": [
    {
     "name": "stdout",
     "output_type": "stream",
     "text": [
      "32\n"
     ]
    }
   ],
   "source": [
    "import random\n",
    "\n",
    "sorteio = random.randrange(0, 100)\n",
    "print(sorteio)"
   ]
  },
  {
   "cell_type": "markdown",
   "id": "89610d8f",
   "metadata": {},
   "source": [
    "### 3. Instalando módulos"
   ]
  },
  {
   "cell_type": "code",
   "execution_count": null,
   "id": "3e0ccb49",
   "metadata": {},
   "outputs": [],
   "source": []
  }
 ],
 "metadata": {
  "kernelspec": {
   "display_name": "Python 3",
   "language": "python",
   "name": "python3"
  },
  "language_info": {
   "codemirror_mode": {
    "name": "ipython",
    "version": 3
   },
   "file_extension": ".py",
   "mimetype": "text/x-python",
   "name": "python",
   "nbconvert_exporter": "python",
   "pygments_lexer": "ipython3",
   "version": "3.8.10"
  }
 },
 "nbformat": 4,
 "nbformat_minor": 5
}
