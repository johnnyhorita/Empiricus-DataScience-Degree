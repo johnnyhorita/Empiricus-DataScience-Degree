{
 "cells": [
  {
   "cell_type": "markdown",
   "id": "9e060938",
   "metadata": {},
   "source": [
    "# Monitoria - 13/jul/2021\n",
    "## 19h - 20h"
   ]
  },
  {
   "cell_type": "markdown",
   "id": "4af4ab3e",
   "metadata": {},
   "source": [
    "## Fila da monitoria:\n",
    "\n",
    "https://www.invertexto.com/heldervj"
   ]
  },
  {
   "cell_type": "code",
   "execution_count": 1,
   "id": "74bce908",
   "metadata": {},
   "outputs": [
    {
     "ename": "NameError",
     "evalue": "name 'pode_dirigir' is not defined",
     "output_type": "error",
     "traceback": [
      "\u001b[0;31m---------------------------------------------------------------------------\u001b[0m",
      "\u001b[0;31mNameError\u001b[0m                                 Traceback (most recent call last)",
      "\u001b[0;32m<ipython-input-1-eba5ef969bfe>\u001b[0m in \u001b[0;36m<module>\u001b[0;34m\u001b[0m\n\u001b[1;32m      4\u001b[0m     \u001b[0mpode_dirigir\u001b[0m \u001b[0;34m=\u001b[0m \u001b[0;32mTrue\u001b[0m\u001b[0;34m\u001b[0m\u001b[0;34m\u001b[0m\u001b[0m\n\u001b[1;32m      5\u001b[0m \u001b[0;34m\u001b[0m\u001b[0m\n\u001b[0;32m----> 6\u001b[0;31m \u001b[0mprint\u001b[0m\u001b[0;34m(\u001b[0m\u001b[0mpode_dirigir\u001b[0m\u001b[0;34m)\u001b[0m\u001b[0;34m\u001b[0m\u001b[0;34m\u001b[0m\u001b[0m\n\u001b[0m",
      "\u001b[0;31mNameError\u001b[0m: name 'pode_dirigir' is not defined"
     ]
    }
   ],
   "source": [
    "# Caso para tomar cuidado com a declaração da variável\n",
    "\n",
    "idade = 12\n",
    "\n",
    "if idade >= 18:\n",
    "    pode_dirigir = True\n",
    "    \n",
    "print(pode_dirigir)"
   ]
  },
  {
   "cell_type": "code",
   "execution_count": 10,
   "id": "20673d84",
   "metadata": {},
   "outputs": [
    {
     "name": "stdout",
     "output_type": "stream",
     "text": [
      "5\n"
     ]
    }
   ],
   "source": [
    "def soma(a, b):\n",
    "        \n",
    "    resultado = a + b\n",
    "    \n",
    "    variavel = b + b\n",
    "    \n",
    "    return resultado, variavel\n",
    "\n",
    "conta, _ = soma(2, 3)\n",
    "\n",
    "print(conta)"
   ]
  },
  {
   "cell_type": "markdown",
   "id": "187d01cd",
   "metadata": {},
   "source": [
    "--------------"
   ]
  },
  {
   "cell_type": "code",
   "execution_count": 13,
   "id": "85e210e0",
   "metadata": {},
   "outputs": [
    {
     "name": "stdout",
     "output_type": "stream",
     "text": [
      "Digite um número entre 1 e 33\n",
      "Programa terminado\n"
     ]
    }
   ],
   "source": [
    "dic_info = {}\n",
    "\n",
    "while True:\n",
    "    numero = int(input('Digite um número entre 1 e 3'))\n",
    "    \n",
    "    if numero == 1:\n",
    "        print('CPF cadastrado')\n",
    "    elif numero == 2:\n",
    "        print('Montrando CPFs')\n",
    "    elif numero == 3:\n",
    "        print('Programa terminado')\n",
    "        break\n"
   ]
  },
  {
   "cell_type": "markdown",
   "id": "3c3b6c1a",
   "metadata": {},
   "source": [
    "----------"
   ]
  },
  {
   "cell_type": "code",
   "execution_count": 20,
   "id": "cc379b62",
   "metadata": {},
   "outputs": [
    {
     "name": "stdout",
     "output_type": "stream",
     "text": [
      "Digite uma palavra: teste\n",
      "t e s t e\n"
     ]
    }
   ],
   "source": [
    "palavra = input(\"Digite uma palavra: \")\n",
    "\n",
    "lista_palavra = list(palavra)\n",
    "\n",
    "lista_palavra_como_string = ' '.join(lista_palavra)\n",
    "\n",
    "print(lista_palavra_como_string)"
   ]
  },
  {
   "cell_type": "markdown",
   "id": "ce023505",
   "metadata": {},
   "source": [
    "-----------"
   ]
  },
  {
   "cell_type": "code",
   "execution_count": 25,
   "id": "5b1d5f50",
   "metadata": {},
   "outputs": [
    {
     "name": "stdout",
     "output_type": "stream",
     "text": [
      "1\n",
      "1\n",
      "2\n",
      "3\n",
      "5\n",
      "8\n",
      "13\n",
      "21\n",
      "34\n",
      "55\n",
      "89\n",
      "144\n",
      "233\n",
      "377\n",
      "610\n"
     ]
    }
   ],
   "source": [
    "# Fibonacci\n",
    "\n",
    "# fibonacci(n) = 1, se n = 0\n",
    "# fibonacci(n) = 1, se n = 1\n",
    "# fibonacci(n) = fibonacci(n-1) + fibonacci(n-2), caso contrário\n",
    "\n",
    "def fibonacci(n):\n",
    "    if n == 0:\n",
    "        return 1\n",
    "    elif n == 1:\n",
    "        return 1\n",
    "    else:\n",
    "        return fibonacci(n-1) + fibonacci(n-2)\n",
    "\n",
    "for i in range(15):\n",
    "    print(fibonacci(i))"
   ]
  },
  {
   "cell_type": "markdown",
   "id": "3985272e",
   "metadata": {},
   "source": [
    "----------"
   ]
  },
  {
   "cell_type": "code",
   "execution_count": 37,
   "id": "a56f22d5",
   "metadata": {},
   "outputs": [],
   "source": [
    "class Pessoa:\n",
    "    def __init__(self, nome, idade):\n",
    "        self._nome = nome\n",
    "        self._idade = idade\n",
    "        self._cor_cabelo = 'azul'\n",
    "    \n",
    "    def troca_nome(self, novo_nome):\n",
    "        self.nome = novo_nome\n",
    "        \n",
    "    def pinta_cabelo(self, nova_cor):\n",
    "        self.cor_cabelo = nova_cor"
   ]
  },
  {
   "cell_type": "code",
   "execution_count": 38,
   "id": "2be3bfb3",
   "metadata": {},
   "outputs": [],
   "source": [
    "h = Pessoa('Lucas', 50)"
   ]
  },
  {
   "cell_type": "code",
   "execution_count": 40,
   "id": "cb8e7750",
   "metadata": {},
   "outputs": [
    {
     "data": {
      "text/plain": [
       "'Lucas'"
      ]
     },
     "execution_count": 40,
     "metadata": {},
     "output_type": "execute_result"
    }
   ],
   "source": [
    "h._nome"
   ]
  },
  {
   "cell_type": "markdown",
   "id": "d6c05a5d",
   "metadata": {},
   "source": [
    "--------"
   ]
  },
  {
   "cell_type": "markdown",
   "id": "8e0845d2",
   "metadata": {},
   "source": [
    "Faça uma função que receba uma lista e conte quantas vezes cada elemento apareceu nessa lista. Essa função deverá guardar os dados em um dicionário no qual as chaves são os elementos da lista e os valores são a contagem de quantas vezes esse elemento aparece."
   ]
  },
  {
   "cell_type": "code",
   "execution_count": null,
   "id": "fba51ff9",
   "metadata": {},
   "outputs": [],
   "source": [
    "avaliacoes = ['Bom', 'Ruim', 'Neutro', 'Bom', 'Bom', 'Neutro']\n",
    "\n",
    "contagem_avaliacoes = {\n",
    "    'Ruim': 1,\n",
    "    'Neutro': 2,\n",
    "    'Bom', 3,\n",
    "}"
   ]
  },
  {
   "cell_type": "markdown",
   "id": "ac4d067e",
   "metadata": {},
   "source": [
    "--------------"
   ]
  },
  {
   "cell_type": "code",
   "execution_count": 56,
   "id": "01d99b12",
   "metadata": {},
   "outputs": [],
   "source": [
    "def soma(a, b):\n",
    "    \n",
    "    resultado = a + b\n",
    "    \n",
    "    return resultado"
   ]
  },
  {
   "cell_type": "code",
   "execution_count": 55,
   "id": "542a2bb0",
   "metadata": {},
   "outputs": [
    {
     "name": "stdout",
     "output_type": "stream",
     "text": [
      "2\n",
      "3\n"
     ]
    },
    {
     "data": {
      "text/plain": [
       "5"
      ]
     },
     "execution_count": 55,
     "metadata": {},
     "output_type": "execute_result"
    }
   ],
   "source": [
    "soma(numero1, numero2)"
   ]
  },
  {
   "cell_type": "code",
   "execution_count": 48,
   "id": "da29b80e",
   "metadata": {},
   "outputs": [],
   "source": [
    "def calcula_idade_futuro(idade, anos, sexo):\n",
    "    \n",
    "    if sexo == 'M':\n",
    "        idade_futuro = soma(idade, anos-10)\n",
    "    else:\n",
    "        idade_futuro = soma(idade, anos)\n",
    "    \n",
    "    return idade_futuro"
   ]
  },
  {
   "cell_type": "code",
   "execution_count": 57,
   "id": "a2dc064b",
   "metadata": {},
   "outputs": [
    {
     "name": "stdout",
     "output_type": "stream",
     "text": [
      "No final do financiamento vc terá: 50 anos!\n"
     ]
    }
   ],
   "source": [
    "idade_final = calcula_idade_futuro(30, 20, 'H')\n",
    "\n",
    "print('No final do financiamento vc terá:', idade_final, 'anos!')"
   ]
  },
  {
   "cell_type": "markdown",
   "id": "1a5d0a28",
   "metadata": {},
   "source": [
    "-----------"
   ]
  },
  {
   "cell_type": "code",
   "execution_count": 63,
   "id": "bf810bbe",
   "metadata": {},
   "outputs": [],
   "source": [
    "lista = [8.3, 9.8, 5.0]\n",
    "nomes = ['Helder', 'Ricardo', 'Lucas']"
   ]
  },
  {
   "cell_type": "code",
   "execution_count": 84,
   "id": "48079557",
   "metadata": {},
   "outputs": [],
   "source": [
    "dicionario_notas = {\n",
    "    'Helder': 8.3,\n",
    "    'Ricardo': 9.8,\n",
    "    'Lucas': 5.0,\n",
    "}"
   ]
  },
  {
   "cell_type": "code",
   "execution_count": 69,
   "id": "acb54eab",
   "metadata": {},
   "outputs": [
    {
     "name": "stdout",
     "output_type": "stream",
     "text": [
      "8.3\n",
      "9.8\n",
      "5.0\n"
     ]
    }
   ],
   "source": [
    "for chave in dicionario_notas:\n",
    "    print(dicionario_notas[chave])"
   ]
  },
  {
   "cell_type": "code",
   "execution_count": 85,
   "id": "6e110970",
   "metadata": {},
   "outputs": [
    {
     "name": "stdout",
     "output_type": "stream",
     "text": [
      "Ricardo\n"
     ]
    }
   ],
   "source": [
    "aluno = list(dicionario_notas.keys())[0]\n",
    "\n",
    "for chave in dicionario_notas.keys():\n",
    "    if dicionario_notas[chave] > dicionario_notas[aluno]:\n",
    "        aluno = chave\n",
    "    \n",
    "print(aluno)"
   ]
  },
  {
   "cell_type": "code",
   "execution_count": 71,
   "id": "08cbc423",
   "metadata": {},
   "outputs": [
    {
     "name": "stdout",
     "output_type": "stream",
     "text": [
      "8.3\n",
      "9.8\n",
      "5.0\n"
     ]
    }
   ],
   "source": [
    "for valor in dicionario_notas.values():\n",
    "    print(valor)"
   ]
  },
  {
   "cell_type": "code",
   "execution_count": 78,
   "id": "8e51461a",
   "metadata": {},
   "outputs": [],
   "source": [
    "lista_chaves = list(dicionario_notas.keys())"
   ]
  },
  {
   "cell_type": "code",
   "execution_count": 79,
   "id": "115b7e6f",
   "metadata": {},
   "outputs": [
    {
     "data": {
      "text/plain": [
       "['Helder', 'Ricardo', 'Lucas']"
      ]
     },
     "execution_count": 79,
     "metadata": {},
     "output_type": "execute_result"
    }
   ],
   "source": [
    "lista_chaves"
   ]
  }
 ],
 "metadata": {
  "kernelspec": {
   "display_name": "Python 3",
   "language": "python",
   "name": "python3"
  },
  "language_info": {
   "codemirror_mode": {
    "name": "ipython",
    "version": 3
   },
   "file_extension": ".py",
   "mimetype": "text/x-python",
   "name": "python",
   "nbconvert_exporter": "python",
   "pygments_lexer": "ipython3",
   "version": "3.8.8"
  }
 },
 "nbformat": 4,
 "nbformat_minor": 5
}
