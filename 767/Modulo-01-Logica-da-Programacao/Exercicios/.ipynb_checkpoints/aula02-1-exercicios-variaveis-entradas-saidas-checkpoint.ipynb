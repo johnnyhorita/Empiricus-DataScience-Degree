{
 "cells": [
  {
   "cell_type": "markdown",
   "id": "5bd880f4",
   "metadata": {},
   "source": [
    "# Lógica da Programação\n",
    "\n",
    "## 1 - LC | Variáveis, Entradas e Saídas"
   ]
  },
  {
   "cell_type": "code",
   "execution_count": 1,
   "id": "d4cffbbf",
   "metadata": {},
   "outputs": [
    {
     "name": "stdout",
     "output_type": "stream",
     "text": [
      "Olá, mundo!\n"
     ]
    }
   ],
   "source": [
    "# Questão 1\n",
    "# Faça um programa que mostre a mensagem \"Olá, mundo!\" na tela.\n",
    "\n",
    "print('Olá, mundo!')"
   ]
  },
  {
   "cell_type": "code",
   "execution_count": 1,
   "id": "5d812632",
   "metadata": {},
   "outputs": [
    {
     "name": "stdout",
     "output_type": "stream",
     "text": [
      "Olá, mundo!\n"
     ]
    }
   ],
   "source": [
    "# Resposta Sugerida\n",
    "\n",
    "print('Olá, mundo!')"
   ]
  },
  {
   "cell_type": "code",
   "execution_count": 80,
   "id": "2823629c",
   "metadata": {},
   "outputs": [
    {
     "name": "stdout",
     "output_type": "stream",
     "text": [
      "Digite um número: 10\n",
      "O número informado foi 10\n"
     ]
    }
   ],
   "source": [
    "# Questão 2\n",
    "# Faça um programa que peça um número e mostre a mensagem \"O número informado foi [número]\".\n",
    "\n",
    "numero = int(input('Digite um número: '))\n",
    "print('O número informado foi',numero)"
   ]
  },
  {
   "cell_type": "code",
   "execution_count": 2,
   "id": "839afbba",
   "metadata": {},
   "outputs": [
    {
     "name": "stdout",
     "output_type": "stream",
     "text": [
      "digite um número: 10\n",
      "O número informado foi 10\n"
     ]
    }
   ],
   "source": [
    "# Resposta sugerida\n",
    "\n",
    "num = input(\"digite um número: \")\n",
    "print(\"O número informado foi\", num)"
   ]
  },
  {
   "cell_type": "code",
   "execution_count": 10,
   "id": "d19261be",
   "metadata": {},
   "outputs": [
    {
     "name": "stdout",
     "output_type": "stream",
     "text": [
      "Digite um número: 10\n",
      "Número float: 10.0\n",
      "Número int: 10\n"
     ]
    }
   ],
   "source": [
    "# Questão 3\n",
    "# Faça um programa que peça um número para o usuário (string), converta-o para float e depois imprima-o na tela. \n",
    "# Você consegue fazer a mesma coisa, porém convertendo para int?\n",
    "\n",
    "numerostr = input('Digite um número: ')\n",
    "numeroflt = float(numerostr)\n",
    "print('Número float:', numeroflt) \n",
    "numeroint = int(numerostr)\n",
    "print('Número int:', numeroint) "
   ]
  },
  {
   "cell_type": "code",
   "execution_count": 3,
   "id": "eaeec031",
   "metadata": {},
   "outputs": [
    {
     "name": "stdout",
     "output_type": "stream",
     "text": [
      "digite um número: 10\n",
      "O número informado é 10.0\n",
      "digite um número: 10\n",
      "O número informado é 10\n"
     ]
    }
   ],
   "source": [
    "# Resposta sugerida\n",
    "\n",
    "#Convertendo para float\n",
    "\n",
    "num = input(\"digite um número: \")\n",
    "num = float(num)\n",
    "print(\"O número informado é\", num)\n",
    "\n",
    "#Convertendo para int\n",
    "\n",
    "num = input(\"digite um número: \")\n",
    "num = int(num)\n",
    "print(\"O número informado é\", num)"
   ]
  },
  {
   "cell_type": "code",
   "execution_count": 11,
   "id": "2dd0f67d",
   "metadata": {},
   "outputs": [
    {
     "name": "stdout",
     "output_type": "stream",
     "text": [
      "Digite um número...: 5\n",
      "Digite outro número: 5\n",
      "Soma: 10\n"
     ]
    }
   ],
   "source": [
    "# Questão 4\n",
    "# Faça um programa que peça dois números inteiros e imprima a soma deles.\n",
    "\n",
    "numero1 = int(input('Digite um número...: '))\n",
    "numero2 = int(input('Digite outro número: '))\n",
    "print('Soma:', numero1 + numero2) "
   ]
  },
  {
   "cell_type": "code",
   "execution_count": 4,
   "id": "ad15b23c",
   "metadata": {},
   "outputs": [
    {
     "name": "stdout",
     "output_type": "stream",
     "text": [
      "digite um número: 1\n",
      "digite outro número: 1\n",
      "A soma é: 2\n"
     ]
    }
   ],
   "source": [
    "# Resposta sugerida\n",
    "\n",
    "num1 = int(input(\"digite um número: \"))\n",
    "num2 = int(input(\"digite outro número: \"))\n",
    "print('A soma é:', num1 + num2)"
   ]
  },
  {
   "cell_type": "code",
   "execution_count": 57,
   "id": "28007a32",
   "metadata": {},
   "outputs": [
    {
     "name": "stdout",
     "output_type": "stream",
     "text": [
      "Digite nota 1: 5\n",
      "Digite nota 2: 5\n",
      "Digite nota 3: 5\n",
      "Digite nota 4: 10\n",
      "\n",
      "Média aritmética: 6.25 (n1+n2+n3+n4)/4\n"
     ]
    }
   ],
   "source": [
    "# Questão 5\n",
    "# Faça um programa que peça as 4 notas bimestrais de um aluno e mostre a média aritmética delas.\n",
    "\n",
    "nota1 = -1\n",
    "nota2 = -1\n",
    "nota3 = -1\n",
    "nota4 = -1\n",
    "\n",
    "while not (nota1 >= 0 and nota1 <= 10) :\n",
    "    nota1 = float(input('Digite nota 1: '))\n",
    "while not (nota2 >= 0 and nota2 <= 10) :\n",
    "    nota2 = float(input('Digite nota 2: '))\n",
    "while not (nota3 >= 0 and nota3 <= 10) :\n",
    "    nota3 = float(input('Digite nota 3: '))\n",
    "while not (nota4 >= 0 and nota4 <= 10) :\n",
    "    nota4 = float(input('Digite nota 4: '))\n",
    "\n",
    "media = ((nota1 + nota2 + nota3 + nota4)/4)\n",
    "print('\\nMédia aritmética:', media, '(n1+n2+n3+n4)/4')\n"
   ]
  },
  {
   "cell_type": "code",
   "execution_count": 5,
   "id": "6e4d4f7a",
   "metadata": {},
   "outputs": [
    {
     "name": "stdout",
     "output_type": "stream",
     "text": [
      "Digite a nota 1: 1\n",
      "Digite a nota 2: 2\n",
      "Digite a nota 3: 3\n",
      "Digite a nota 4: 4\n",
      "A média das notas é: 2.5\n",
      "A média das notas é: 2.5\n"
     ]
    }
   ],
   "source": [
    "# Resposta sugerida\n",
    "\n",
    "n1 = float(input(\"Digite a nota 1: \"))\n",
    "n2 = float(input(\"Digite a nota 2: \"))\n",
    "n3 = float(input(\"Digite a nota 3: \"))\n",
    "n4 = float(input(\"Digite a nota 4: \"))\n",
    "\n",
    "soma = n1+n2+n3+n4\n",
    "media = soma/4\n",
    "\n",
    "print (\"A média das notas é:\", media)\n",
    "\n",
    "#OU\n",
    "\n",
    "print(\"A média das notas é:\", (n1+n2+n3+n4)/4)"
   ]
  },
  {
   "cell_type": "code",
   "execution_count": 17,
   "id": "104154bd",
   "metadata": {},
   "outputs": [
    {
     "name": "stdout",
     "output_type": "stream",
     "text": [
      "Digite o raio do círculo: 20\n",
      "Área do círculo: 1256.0\n"
     ]
    }
   ],
   "source": [
    "# Questão 6\n",
    "# Faça um programa que peça o raio de um círculo, calcule e mostre sua área.\n",
    "# Obs: Fórmula da área de um círculo: A = 3,14*(r**2), onde r é o raio.\n",
    "\n",
    "raio = float(input('Digite o raio do círculo: '))\n",
    "area = (3.14*(raio**2))\n",
    "\n",
    "print('Área do círculo:', area)"
   ]
  },
  {
   "cell_type": "code",
   "execution_count": 7,
   "id": "a1a8534a",
   "metadata": {},
   "outputs": [
    {
     "name": "stdout",
     "output_type": "stream",
     "text": [
      "Digite o raio de um círculo: 20\n",
      "A área do círculo é 1256.0\n"
     ]
    }
   ],
   "source": [
    "# Resposta sugerida\n",
    "\n",
    "raio = float(input(\"Digite o raio de um círculo: \"))\n",
    "print(\"A área do círculo é\", 3.14*(raio**2))"
   ]
  },
  {
   "cell_type": "code",
   "execution_count": 82,
   "id": "cdd8178b",
   "metadata": {},
   "outputs": [
    {
     "name": "stdout",
     "output_type": "stream",
     "text": [
      "Valor hora...........: 100\n",
      "Horas trabalhadas mês: 180\n",
      "Cálculo do salário...: 18000.0\n"
     ]
    }
   ],
   "source": [
    "# Questão 7\n",
    "# Faça um programa que pergunte quanto você ganha por hora e o número de horas trabalhadas no mês e depois, \n",
    "# calcule e mostre o total do seu salário no referido mês.\n",
    "\n",
    "valor = float(input('Valor hora...........: '))\n",
    "qtdhora = int(input('Horas trabalhadas mês: '))\n",
    "salario = (qtdhora * valor)\n",
    "print('Cálculo do salário...:', salario)"
   ]
  },
  {
   "cell_type": "code",
   "execution_count": 9,
   "id": "8ba5ad2f",
   "metadata": {},
   "outputs": [
    {
     "name": "stdout",
     "output_type": "stream",
     "text": [
      "Quanto você ganha por hora: 100\n",
      "Qual a quantidade de horas que você trabalha por mês: 180\n",
      "Você recebe 18000.0 por mês\n"
     ]
    }
   ],
   "source": [
    "# Resposta sugerida\n",
    "\n",
    "salario = float(input(\"Quanto você ganha por hora: \"))\n",
    "horas = float(input(\"Qual a quantidade de horas que você trabalha por mês: \"))\n",
    "print(\"Você recebe\", salario*horas, \"por mês\")"
   ]
  },
  {
   "cell_type": "code",
   "execution_count": 18,
   "id": "8a0b481c",
   "metadata": {},
   "outputs": [
    {
     "name": "stdout",
     "output_type": "stream",
     "text": [
      "Digite a temperatura em grau Fahrenheit (°F): 69.8\n",
      "Temperatura em °C: 21.0\n",
      "\n",
      "Digite a temperatura em grau Celsius (°C)...: 21\n",
      "Temperatura em °F: 69.8\n"
     ]
    }
   ],
   "source": [
    "# Questão 8\n",
    "# Faça um programa que peça a temperatura em graus Fahrenheit (F), transforme e mostre a temperatura em graus Celsius (°C).\n",
    "# °C = (5 * (F-32) / 9)\n",
    "# Obs: Tente também fazer um programa que faça o inverso: peça a temperatura em graus Celsius e a transforme em graus Fahrenheit.\n",
    "\n",
    "temperaturaF = float(input('Digite a temperatura em grau Fahrenheit (°F): '))\n",
    "temperaturaC = (5 * (temperaturaF-32) / 9)\n",
    "print('Temperatura em °C:', temperaturaC)\n",
    "\n",
    "temperaturaC = float(input('\\nDigite a temperatura em grau Celsius (°C)...: '))\n",
    "temperaturaF = ((9 * temperaturaC) / 5) + 32\n",
    "print('Temperatura em °F:', temperaturaF)\n"
   ]
  },
  {
   "cell_type": "code",
   "execution_count": 12,
   "id": "e63c47b9",
   "metadata": {},
   "outputs": [
    {
     "name": "stdout",
     "output_type": "stream",
     "text": [
      "Digite a temperatura em Farenheit: 69.8\n",
      "21.0\n",
      "Digite a temperatura em graus Celsius: 21\n",
      "A temperatura digitada, em Fahrenheit, é: 69.8\n"
     ]
    }
   ],
   "source": [
    "# Resposta sugerida\n",
    "\n",
    "# °F --> °C\n",
    "fahrenheit = float(input(\"Digite a temperatura em Farenheit: \"))\n",
    "celsius = 5*(fahrenheit-32)/9\n",
    "print(celsius)\n",
    "\n",
    "# °C --> °F\n",
    "celsius = float(input(\"Digite a temperatura em graus Celsius: \"))\n",
    "fahrenheit = celsius*9/5 + 32\n",
    "print(\"A temperatura digitada, em Fahrenheit, é:\", fahrenheit)"
   ]
  },
  {
   "cell_type": "code",
   "execution_count": 59,
   "id": "91f14894",
   "metadata": {},
   "outputs": [
    {
     "name": "stdout",
     "output_type": "stream",
     "text": [
      "Digite o dia: 30\n",
      "Digite o mes: 03\n",
      "Digite o ano: 2021\n",
      "\n",
      "Data 30/03/2021\n"
     ]
    }
   ],
   "source": [
    "# Questão 9\n",
    "# Faça um programa que peça o dia, o mês e o ano para o usuário e imprima a data completa no formato dd/mm/aaaa.\n",
    "\n",
    "import datetime\n",
    "\n",
    "dia = -1\n",
    "mes = -1\n",
    "while not (dia > 0 and dia <= 31) :\n",
    "    dia = int(input('Digite o dia: '))\n",
    "\n",
    "while not (mes > 0 and mes <= 12) :\n",
    "    mes = int(input('Digite o mes: '))\n",
    "\n",
    "ano = int(input('Digite o ano: '))\n",
    "isValidDate = True\n",
    "try :\n",
    "    data = datetime.datetime(ano, mes, dia)\n",
    "except ValueError :\n",
    "    isValidDate = False\n",
    "if(isValidDate) :\n",
    "    print('\\nData', data.strftime(\"%d/%m/%Y\"))\n",
    "else :\n",
    "    print ('\\nErro! Data', str(dia)+'/'+str(mes)+'/'+str(ano), 'inválida!')"
   ]
  },
  {
   "cell_type": "code",
   "execution_count": 21,
   "id": "9774af82",
   "metadata": {},
   "outputs": [
    {
     "name": "stdout",
     "output_type": "stream",
     "text": [
      "Qual o dia? 10\n",
      "Qual o mês? 12\n",
      "Qual o ano? 2021\n",
      "A data é: 10 / 12 / 2021\n",
      "Qual o dia? 10\n",
      "Qual o mês? 12\n",
      "Qual o ano? 2021\n",
      "A data é: 10/12/2021\n"
     ]
    }
   ],
   "source": [
    "# Resposta sugerida\n",
    "dia = int(input(\"Qual o dia? \"))\n",
    "mes = int(input(\"Qual o mês? \"))\n",
    "ano = int(input(\"Qual o ano? \"))\n",
    "print(\"A data é:\", dia, \"/\", mes, \"/\", ano)\n",
    "\n",
    "dia = input(\"Qual o dia? \")\n",
    "mes = input(\"Qual o mês? \")\n",
    "ano = input(\"Qual o ano? \")\n",
    "print(\"A data é: \"+dia+\"/\"+mes+\"/\"+ano) "
   ]
  },
  {
   "cell_type": "code",
   "execution_count": 23,
   "id": "6e5addff",
   "metadata": {},
   "outputs": [
    {
     "name": "stdout",
     "output_type": "stream",
     "text": [
      "Digite um número inteiro...: 10\n",
      "Digite outro número inteiro: 10\n",
      "Digite outro número inteiro: 5\n",
      "\n",
      "a) o produto do dobro do primeiro com metade do segundo: 25.0\n",
      "b) a soma do triplo do primeiro com o terceiro.........: 35\n",
      "c) o terceiro elevado ao cubo..........................: 125\n"
     ]
    }
   ],
   "source": [
    "# Questão 10\n",
    "# Faça um programa que peça 2 números inteiros e um número real, calcule e mostre:\n",
    "# a) o produto do dobro do primeiro com metade do segundo.\n",
    "# b) a soma do triplo do primeiro com o terceiro.\n",
    "# c) o terceiro elevado ao cubo.\n",
    "\n",
    "# obs: Um número real é um valor que representa uma quantidade ao longo de uma linha contínua, ou seja \n",
    "# um ponto sobre uma linha reta infinita, chamada de reta numérica ou reta real, onde os pontos correspondentes \n",
    "# aos números inteiros são igualmente espaçados\n",
    "\n",
    "numero1 = int(input('Digite um número inteiro...: '))\n",
    "numero2 = int(input('Digite outro número inteiro: '))\n",
    "numero3 = int(input('Digite outro número inteiro: '))\n",
    "\n",
    "resultadoa = (numero1 * 2) + (numero2 / 2)\n",
    "resultadob = (numero1 * 3) + numero3\n",
    "resultadoc = numero3**3\n",
    "\n",
    "print('\\na) o produto do dobro do primeiro com metade do segundo:', resultadoa)\n",
    "print('b) a soma do triplo do primeiro com o terceiro.........:', resultadob)\n",
    "print('c) o terceiro elevado ao cubo..........................:', resultadoc)\n"
   ]
  },
  {
   "cell_type": "code",
   "execution_count": 24,
   "id": "2373b5a2",
   "metadata": {},
   "outputs": [
    {
     "name": "stdout",
     "output_type": "stream",
     "text": [
      "digite um número inteiro: 5\n",
      "digite outro número inteiro: 5\n",
      "agora digite um número real: 1\n",
      "O produto do dobro do primeiro com metade do segundo: 25.0\n",
      "A soma do triplo do primeiro com o terceiro: 16.0\n",
      "O terceiro elevado ao cubo: 1.0\n"
     ]
    }
   ],
   "source": [
    "# Resposta sugerida\n",
    "\n",
    "int1 = int(input('digite um número inteiro: '))\n",
    "int2 = int(input('digite outro número inteiro: '))\n",
    "real1 = float(input('agora digite um número real: '))\n",
    "\n",
    "# a)    o produto do dobro do primeiro com metade do segundo.\n",
    "print(\"O produto do dobro do primeiro com metade do segundo:\", 2*int1*int2/2)\n",
    "\n",
    "#b)    a soma do triplo do primeiro com o terceiro.\n",
    "print(\"A soma do triplo do primeiro com o terceiro:\", 3*int1 + real1)\n",
    "\n",
    "#c)    o terceiro elevado ao cubo.\n",
    "print(\"O terceiro elevado ao cubo:\", real1**3)\n"
   ]
  },
  {
   "cell_type": "code",
   "execution_count": 27,
   "id": "2a5633a5",
   "metadata": {},
   "outputs": [
    {
     "name": "stdout",
     "output_type": "stream",
     "text": [
      "Digite o seu peso..: 100\n",
      "Digite a sua altura: 1.7\n",
      "Cálculo do IMC.....: 34.602076124567475\n"
     ]
    }
   ],
   "source": [
    "# Questão 11\n",
    "# Faça um programa que peça o peso e altura de uma pessoa e calcule seu IMC (Índice de Massa Corporal).\n",
    "# Obs: IMC = Peso/Altura**2\n",
    "\n",
    "peso = float(input('Digite o seu peso..: '))\n",
    "altura = float(input('Digite a sua altura: '))\n",
    "IMC = peso/altura**2\n",
    "print('Cálculo do IMC.....:', IMC)\n"
   ]
  },
  {
   "cell_type": "code",
   "execution_count": 26,
   "id": "1d1cda4e",
   "metadata": {},
   "outputs": [
    {
     "name": "stdout",
     "output_type": "stream",
     "text": [
      "Digite seu peso em kg:100\n",
      "Digite sua altura em m:1.7\n",
      "Seu imc é: 34.602076124567475\n"
     ]
    }
   ],
   "source": [
    "# Resposta sugerida\n",
    "\n",
    "peso = float(input('Digite seu peso em kg:'))\n",
    "altura = float(input('Digite sua altura em m:'))\n",
    "\n",
    "print(\"Seu imc é:\", peso/(altura**2))"
   ]
  },
  {
   "cell_type": "code",
   "execution_count": 4,
   "id": "5e3acb12",
   "metadata": {},
   "outputs": [
    {
     "name": "stdout",
     "output_type": "stream",
     "text": [
      "Digite um valor..: 100000\n",
      "\n",
      "Valor............: 100000.0\n",
      "Porcentagem (15%): 15000.0\n",
      "O novo valor é     115000.0\n"
     ]
    }
   ],
   "source": [
    "# Questão 12\n",
    "# Faça um programa que peça um valor monetário e aumente-o em 15%. \n",
    "# Seu programa deve imprimir a mensagem “O novo valor é [valor]”.\n",
    "\n",
    "valor = float(input('Digite um valor..: '))\n",
    "porcentagem = (valor * 0.15)\n",
    "print('\\nValor............:', valor)\n",
    "print('Porcentagem (15%):', porcentagem)\n",
    "print('O novo valor é    ', valor+porcentagem)\n"
   ]
  },
  {
   "cell_type": "code",
   "execution_count": 28,
   "id": "a5a591b6",
   "metadata": {},
   "outputs": [
    {
     "name": "stdout",
     "output_type": "stream",
     "text": [
      "Qual o valor? 10000\n",
      "O novo valor é R$ 11500.0\n"
     ]
    }
   ],
   "source": [
    "# Resposta sugerida\n",
    "valor = float(input(\"Qual o valor? \"))\n",
    "print(\"O novo valor é R$\",valor*1.15)"
   ]
  },
  {
   "cell_type": "code",
   "execution_count": 5,
   "id": "2a535587",
   "metadata": {},
   "outputs": [
    {
     "name": "stdout",
     "output_type": "stream",
     "text": [
      "Digite um valor..: 10000\n",
      "\n",
      "Valor............: 10000.0\n",
      "Porcentagem (15%): 1500.0\n",
      "O novo valor é     8500.0\n"
     ]
    }
   ],
   "source": [
    "# Questão 13\n",
    "# Faça um programa que peça um valor monetário e diminua-o em 15%. \n",
    "# Seu programa deve imprimir a mensagem “O novo valor é [valor]”.\n",
    "\n",
    "valor = float(input('Digite um valor..: '))\n",
    "porcentagem = (valor * 0.15)\n",
    "print('\\nValor............:', valor)\n",
    "print('Porcentagem (15%):', porcentagem)\n",
    "print('O novo valor é    ', valor-porcentagem)\n"
   ]
  },
  {
   "cell_type": "code",
   "execution_count": 29,
   "id": "63040482",
   "metadata": {},
   "outputs": [
    {
     "name": "stdout",
     "output_type": "stream",
     "text": [
      "Qual o valor? 10000\n",
      "O novo valor é R$ 8500.0\n"
     ]
    }
   ],
   "source": [
    "# Resposta sugerida\n",
    "\n",
    "valor = float(input(\"Qual o valor? \"))\n",
    "print(\"O novo valor é R$\",valor*0.85)"
   ]
  },
  {
   "cell_type": "code",
   "execution_count": 31,
   "id": "3b9db044",
   "metadata": {},
   "outputs": [
    {
     "name": "stdout",
     "output_type": "stream",
     "text": [
      "Digite a velocidade (m/s) ....................: 20\n",
      "Digite a posicão inicial (m) .................: 100\n",
      "Digite o tempo (s) ...........................: 10\n",
      "Posição de um projétil nesse instante de tempo: -200.0\n"
     ]
    }
   ],
   "source": [
    "# Questão 14\n",
    "# Desafio 1 - Peça para o usuário \n",
    "# digitar uma velocidade inicial (em m/s), uma posição inicial (em m) e um instante de tempo (em s) \n",
    "# e imprima a posição de um projétil nesse instante de tempo.\n",
    "# Use a fórmula matemática:\n",
    "# y(t) = y(0) + v(0)*t + (g*(t**2)/2)\n",
    "# Onde, g é a aceleração da gravidade (-10m/s²), y(t) é a posição final, y(0) é a posição inicial, \n",
    "# v(0) é a velocidade inicial e t é o instante de tempo.\n",
    "\n",
    "# y(t) = y(0) + v(0)*t + (g*(t**2)/2)\n",
    "# y(0) = posicao\n",
    "# v(0) = velocidade\n",
    "# t = tempo\n",
    "# g = -10m/s² = -1.02 (https://www.convert-me.com/pt/convert/acceleration/m_sec2.html?u=m_sec2&v=10)\n",
    "# y(t) = Posição de um projétil nesse instante de tempo\n",
    "\n",
    "velocidade = float(input('Digite a velocidade (m/s) ....................: '))\n",
    "posicao = float(input('Digite a posicão inicial (m) .................: '))\n",
    "tempo = int(input('Digite o tempo (s) ...........................: '))\n",
    "\n",
    "posicaotempo = posicao + velocidade*tempo + (-10 * (tempo**2) / 2)\n",
    "\n",
    "print('Posição de um projétil nesse instante de tempo:', posicaotempo)\n"
   ]
  },
  {
   "cell_type": "code",
   "execution_count": 30,
   "id": "f1cc4ac5",
   "metadata": {},
   "outputs": [
    {
     "name": "stdout",
     "output_type": "stream",
     "text": [
      "Digite a posição inicial: 20\n",
      "Digite a velocidade inicial: 100\n",
      "Digite um instante no tempo: 10\n",
      "A posição no instante t = 10.0 é 520.0\n"
     ]
    }
   ],
   "source": [
    "# Resposta sugerida\n",
    "\n",
    "y0 = float(input(\"Digite a posição inicial: \"))\n",
    "v0 = float(input(\"Digite a velocidade inicial: \"))\n",
    "t = float(input(\"Digite um instante no tempo: \"))\n",
    "g = -10\n",
    "\n",
    "y = y0 + v0*t + 0.5*g*t**2\n",
    "\n",
    "print(\"A posição no instante t =\", t, \"é\", y)"
   ]
  },
  {
   "cell_type": "code",
   "execution_count": 79,
   "id": "7f3b6579",
   "metadata": {},
   "outputs": [
    {
     "name": "stdout",
     "output_type": "stream",
     "text": [
      "Data e hora: 10/06/2021 08:35\n"
     ]
    }
   ],
   "source": [
    "# Questão 15\n",
    "# Desafio 2 - Faça um programa que informe a data e a hora para o usuário. \n",
    "# Para isso use a função datetime.now() do módulo datetime.\n",
    "\n",
    "from datetime import datetime\n",
    "data = datetime.now()\n",
    "print('Data e hora:', data.strftime('%d/%m/%Y %H:%M'))\n"
   ]
  },
  {
   "cell_type": "code",
   "execution_count": 32,
   "id": "7d3f97d1",
   "metadata": {},
   "outputs": [
    {
     "name": "stdout",
     "output_type": "stream",
     "text": [
      "21/6/2021 12:24:43\n",
      "21/06/2021 12:24:43\n"
     ]
    }
   ],
   "source": [
    "# Resposta sugerida\n",
    "\n",
    "from datetime import datetime # Incluímos a biblioteca datetime\n",
    "agora = datetime.now() # Chamamos a função now() da biblioteca datetime\n",
    "\n",
    "# Separamos cada pedaço que precisamos\n",
    "ano = agora.year\n",
    "mes = agora.month\n",
    "dia = agora.day\n",
    "hora = agora.hour\n",
    "minuto = agora.minute\n",
    "segundo = agora.second\n",
    "\n",
    "# Imprimimos o resultado \n",
    "# (Obs: o sep=\"\" quer dizer que o print não vai inserir um espaço entre cada uma das saídas)\n",
    "print(dia, \"/\", mes, \"/\", ano, \" \", hora, \":\", minuto, \":\", segundo, sep=\"\")\n",
    "\n",
    "# Outra forma\n",
    "agora = datetime.now()\n",
    "formato = \"%d/%m/%Y %H:%M:%S\" # Definimos um formato \n",
    "agora_formatado = datetime.strftime(agora,formato) # Usamos a função strftime(), que formata automaticamente o texto\n",
    "print(agora_formatado)\n"
   ]
  },
  {
   "cell_type": "code",
   "execution_count": null,
   "id": "be1cdcb6",
   "metadata": {},
   "outputs": [],
   "source": []
  }
 ],
 "metadata": {
  "kernelspec": {
   "display_name": "Python 3",
   "language": "python",
   "name": "python3"
  },
  "language_info": {
   "codemirror_mode": {
    "name": "ipython",
    "version": 3
   },
   "file_extension": ".py",
   "mimetype": "text/x-python",
   "name": "python",
   "nbconvert_exporter": "python",
   "pygments_lexer": "ipython3",
   "version": "3.8.10"
  }
 },
 "nbformat": 4,
 "nbformat_minor": 5
}
