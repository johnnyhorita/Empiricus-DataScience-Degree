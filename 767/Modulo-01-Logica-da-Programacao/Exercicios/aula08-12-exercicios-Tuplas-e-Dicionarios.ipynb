{
 "cells": [
  {
   "cell_type": "markdown",
   "id": "5bd880f4",
   "metadata": {},
   "source": [
    "# Lógica da Programação\n",
    "\n",
    "## 12 - LC | Tuplas e Dicionários"
   ]
  },
  {
   "cell_type": "code",
   "execution_count": 3,
   "id": "d4cffbbf",
   "metadata": {},
   "outputs": [
    {
     "name": "stdout",
     "output_type": "stream",
     "text": [
      "1.Declarado com parenteses (0, 1, 2, 3, 4, 5, 6, 7, 8, 9) <class 'tuple'>\n",
      "2.Declarado sem parenteses (0, 1, 2, 3, 4, 5, 6, 7, 8, 9) <class 'tuple'>\n"
     ]
    }
   ],
   "source": [
    "# Questão 1\n",
    "# Crie uma tupla com todos os números de 0 a 9. Explore a sintaxe: use e depois não use parênteses.\n",
    "tupla1 = (0,1,2,3,4,5,6,7,8,9) \n",
    "tupla2 = 0,1,2,3,4,5,6,7,8,9\n",
    "\n",
    "print('1.Declarado com parenteses', tupla1, type(tupla1))\n",
    "print('2.Declarado sem parenteses',tupla2, type(tupla2))\n"
   ]
  },
  {
   "cell_type": "code",
   "execution_count": 116,
   "id": "c1839caf",
   "metadata": {},
   "outputs": [
    {
     "name": "stdout",
     "output_type": "stream",
     "text": [
      "(0, 1, 2, 3, 4, 5, 6, 7, 8, 9)\n",
      "(0, 1, 2, 3, 4, 5, 6, 7, 8, 9)\n",
      "(0, 1, 2, 3, 4, 5, 6, 7, 8, 9)\n"
     ]
    }
   ],
   "source": [
    "# Resposta sugerida\n",
    "\n",
    "# criando direto com parênteses:\n",
    "tupla1 = (0, 1, 2, 3, 4, 5, 6, 7, 8, 9)\n",
    "\n",
    "# criando sem parênteses\n",
    "tupla2 = 0,1,2,3,4,5,6,7,8,9 # Mesma coisa\n",
    "\n",
    "# criando a partir de uma lista:\n",
    "lista = [0, 1, 2, 3, 4, 5, 6, 7, 8, 9]\n",
    "tupla3 = tuple(lista)\n",
    "\n",
    "print(tupla1)\n",
    "print(tupla2)\n",
    "print(tupla3)\n"
   ]
  },
  {
   "cell_type": "code",
   "execution_count": 23,
   "id": "2823629c",
   "metadata": {},
   "outputs": [
    {
     "name": "stdout",
     "output_type": "stream",
     "text": [
      "(0, 2, 4, 6, 8, 10, 12, 14, 16, 18, 20, 22, 24, 26, 28, 30, 32, 34, 36, 38, 40, 42, 44, 46, 48, 50, 52, 54, 56, 58, 60, 62, 64, 66, 68, 70, 72, 74, 76, 78, 80, 82, 84, 86, 88, 90, 92, 94, 96, 98, 100)\n",
      "<class 'tuple'>\n"
     ]
    }
   ],
   "source": [
    "# Questão 2\n",
    "# Crie uma tupla com todos os pares entre 0 e 100 (inclusive).\n",
    "lista = []\n",
    "i=0\n",
    "while i <= 100:\n",
    "    if (i % 2 == 0):\n",
    "        lista.append(i)\n",
    "    i+=1\n",
    "tupla = tuple(lista)\n",
    "print(tuple(tupla))\n",
    "print(type(tupla))\n"
   ]
  },
  {
   "cell_type": "code",
   "execution_count": 117,
   "id": "e3af6f76",
   "metadata": {},
   "outputs": [
    {
     "name": "stdout",
     "output_type": "stream",
     "text": [
      "(0, 2, 4, 6, 8, 10, 12, 14, 16, 18, 20, 22, 24, 26, 28, 30, 32, 34, 36, 38, 40, 42, 44, 46, 48, 50, 52, 54, 56, 58, 60, 62, 64, 66, 68, 70, 72, 74, 76, 78, 80, 82, 84, 86, 88, 90, 92, 94, 96, 98, 100)\n"
     ]
    }
   ],
   "source": [
    "# Resposta sugerida\n",
    "\n",
    "lista = []\n",
    "for i in range(0, 101, 2):\n",
    "    lista.append(i)\n",
    "\n",
    "tupla = tuple(lista)\n",
    "\n",
    "print(tupla)"
   ]
  },
  {
   "cell_type": "code",
   "execution_count": 118,
   "id": "d19261be",
   "metadata": {},
   "outputs": [
    {
     "name": "stdout",
     "output_type": "stream",
     "text": [
      "Lista de números: [9, 8, 7, 6, 4, 3, 2, 1]\n",
      "Retorno função: (1, 5.0, 2.9277002188455996, 9)\n",
      "\n",
      "Minimo.......: 1 \n",
      "Media........: 5.0 \n",
      "Desvio padrão: 2.9277002188455996 \n",
      "Maximo.......: 9\n"
     ]
    }
   ],
   "source": [
    "# Questão 3\n",
    "# Crie uma função que recebe uma lista de números e devolve, nesta ordem, o mínimo, a média, o desvio padrão e o máximo.\n",
    "# Dica: Use a biblioteca statistics (import statistics) para calcular o desvio padrão: desvio = statistics.stdev(lista)\n",
    "\n",
    "import statistics\n",
    "import random\n",
    "\n",
    "def returnstats(lista):\n",
    "    minimo = min(lista)\n",
    "    maximo = max(lista)\n",
    "    media = statistics.median(lista)\n",
    "    desvio = statistics.stdev(lista)\n",
    "    return minimo, media, desvio, maximo\n",
    "\n",
    "numbers=[]\n",
    "numrandom = random.randint(0, 3000)\n",
    "i=1\n",
    "while (i <= 10):\n",
    "    numrandom = random.randint(0, 3000)\n",
    "    if (numrandom not in numbers) :\n",
    "        numbers.append(numrandom)\n",
    "        i+=1\n",
    "\n",
    "numbers= [8, 6, 3, 1, 2, 4, 9, 7]\n",
    "\n",
    "stats = returnstats(numbers)\n",
    "minimo, media, desvio, maximo = stats\n",
    "print('Lista de números:', sorted(numbers, reverse=True))\n",
    "print('Retorno função:', stats)\n",
    "print('\\nMinimo.......:', minimo, '\\nMedia........:',media,'\\nDesvio padrão:',desvio, '\\nMaximo.......:',maximo)\n",
    "#print('\\nMinimo: {minimo}\\nMedia: {media}\\nDesvio padrão: {}\\nMaximo: {}'.format(stats[0], stats[1], stats[2], stats[3]))\n"
   ]
  },
  {
   "cell_type": "code",
   "execution_count": 119,
   "id": "81991020",
   "metadata": {},
   "outputs": [
    {
     "name": "stdout",
     "output_type": "stream",
     "text": [
      "8.571428571428571\n",
      "[8, 6, 3, 1, 2, 4, 9, 7]\n",
      "Mínimo =  1\n",
      "Média =  5.0\n",
      "Desvio padrão =  2.9277002188455996\n",
      "Máximo =  9\n"
     ]
    }
   ],
   "source": [
    "# Resposta sugerida\n",
    "\n",
    "import math\n",
    "\n",
    "def funcaoListaNumeros (numeros):\n",
    "    maior = max(numeros)\n",
    "    menor = min(numeros)\n",
    "\n",
    "    # média\n",
    "    soma = 0\n",
    "    for num in numeros:\n",
    "        soma = soma + num\n",
    "    media = soma/len(numeros)\n",
    "\n",
    "    # desvio padrão\n",
    "    soma = 0\n",
    "    for num in numeros:\n",
    "        soma = soma + (num - media)**2\n",
    "    variancia = soma/(len(numeros) - 1)\n",
    "    print(variancia)\n",
    "    desvio = math.sqrt(variancia)\n",
    "\n",
    "    resposta = (menor, media, desvio, maior)\n",
    "    return resposta\n",
    "\n",
    "teste = [8, 6, 3, 1, 2, 4, 9, 7]\n",
    "\n",
    "minimo, med, dp, maximo = funcaoListaNumeros(teste)\n",
    "\n",
    "print(teste)\n",
    "print('Mínimo = ', minimo)\n",
    "print('Média = ', med)\n",
    "print('Desvio padrão = ', dp)\n",
    "print('Máximo = ', maximo)"
   ]
  },
  {
   "cell_type": "code",
   "execution_count": 123,
   "id": "2dd0f67d",
   "metadata": {},
   "outputs": [
    {
     "name": "stdout",
     "output_type": "stream",
     "text": [
      "A lista é numérica: False\n",
      "[1, 'dois', 3.0]\n"
     ]
    }
   ],
   "source": [
    "# Questão 4\n",
    "# Crie uma função que recebe uma lista e retorna True se todos os seus elementos forem numéricos \n",
    "# (int, float ou string contendo um int ou float) ou False do contrário. \n",
    "# A função deve também retornar a lista tratada: transformar todas as entradas não numéricas em numéricas ou, \n",
    "# no melhor caso, devolver a lista apenas.\n",
    "\n",
    "from collections import defaultdict\n",
    "\n",
    "def tratalista(lista):\n",
    "    listatratada = []\n",
    "    for item in lista:\n",
    "        element = str(item)\n",
    "        if element.isnumeric():\n",
    "            listatratada.append(int(item))\n",
    "        elif type(item) == bool:\n",
    "            listatratada.append(item)       \n",
    "        else:\n",
    "            try:\n",
    "                inNumberfloat = float(item)\n",
    "                listatratada.append(inNumberfloat)\n",
    "            except ValueError:\n",
    "                listatratada.append(item)      \n",
    "\n",
    "    res = defaultdict(list)\n",
    "    for item in listatratada:\n",
    "       res[type(item)].append(item)\n",
    "\n",
    "    is_true = all(isinstance(x, (int, float)) for x in listatratada) #verifica se a lista é numerica\n",
    "\n",
    "    return res, is_true\n",
    "\n",
    "\n",
    "#lista = ['nome', 1, True, False, 'true', 'false', 1.53, '1', '2.06', 1, 3, 1, 6, '4.5', 10, '9.9']\n",
    "#lista = [1, 3, 1, 6, '4.5', 10, '9.9']\n",
    "#lista = [0, 1, 2, \"57\", \"Oi\"]\n",
    "#lista = [-1, 2.7, '3.14']\n",
    "lista = [1, 'dois', 3.0]\n",
    "\n",
    "a, is_listanum = tratalista(lista)\n",
    "\n",
    "print(\"A lista é numérica:\", is_listanum) \n",
    "if not is_listanum:\n",
    "    print(lista)\n",
    "else:\n",
    "    print(a[int]+a[float])\n"
   ]
  },
  {
   "cell_type": "code",
   "execution_count": 120,
   "id": "adcee7da",
   "metadata": {},
   "outputs": [
    {
     "name": "stdout",
     "output_type": "stream",
     "text": [
      "(False, [0, 1, 2, 57.0, 'Oi'])\n",
      "[-1, 2.7, '3.14']\n",
      "É numérica? True\n",
      "Tratada:  [-1, 2.7, '3.14']\n",
      "[1, 'dois', 3.0]\n",
      "É numérica? False\n",
      "Tratada:  [1, 0, 3.0]\n"
     ]
    }
   ],
   "source": [
    "# Resposta sugerida\n",
    "\n",
    "# Exemplo de 2 resoluções: 2 interpretações diferentes para o exercício\n",
    "\n",
    "\n",
    "#Solução 1: Converte strings que contém apenas dígitos em números e não converte strings que contém letras. \n",
    "\n",
    "def converteLista(lista):\n",
    "    todosNumericos = True\n",
    "    novaLista = []\n",
    "    for e in lista:\n",
    "        tipo = type(e)\n",
    "        if not(type(e) == int or type(e) == float):\n",
    "            if (type(e) == str) and (e.isdigit()):\n",
    "                # É uma string mas é possível converter\n",
    "                novaLista.append(float(e))\n",
    "            else:\n",
    "                # Não dá pra converter, mantém igual\n",
    "                novaLista.append(e)\n",
    "                todosNumericos = False\n",
    "        else: # Elemento é numérico\n",
    "            novaLista.append(e)\n",
    "    return todosNumericos, novaLista\n",
    "\n",
    "lista = [0, 1, 2, \"57\", \"Oi\"]\n",
    "print(converteLista(lista))\n",
    "\n",
    "\n",
    "#Solução 2: Não converte strings que contém apenas dígitos (considera como entrada numérica)\n",
    "# mas converte strings que contém letras em uma entrada numérica, no caso 0 (zero). \n",
    "\n",
    "\n",
    "def listaNumerica(lista):\n",
    "    tratada = []\n",
    "    saoNumericos = True\n",
    "\n",
    "    for elemento in lista:\n",
    "        string = str(elemento)\n",
    "        string = string.replace('-', '') # tratando sinal negativo\n",
    "        string = string.replace('.', '') # tratando ponto decimal\n",
    "        numerica = string.isdigit()   # retorna False se uma string contém qualquer coisa diferente de número\n",
    "        if numerica:\n",
    "            tratada.append(elemento)\n",
    "        else:\n",
    "            # o enunciado pediu para transformar entradas não-numéricas em numéricas\n",
    "            # como não especificaram COMO, vamos trocar não-numéricas por 0\n",
    "            tratada.append(0)\n",
    "            saoNumericos = False\n",
    "\n",
    "    return (saoNumericos, tratada)\n",
    "\n",
    "numerica = [-1, 2.7, '3.14']\n",
    "naoNumerica = [1, 'dois', 3.0]\n",
    "\n",
    "print(numerica)\n",
    "resp, lista = listaNumerica(numerica)\n",
    "print('É numérica?', resp)\n",
    "print('Tratada: ', lista)\n",
    "\n",
    "print(naoNumerica)\n",
    "resp, lista = listaNumerica(naoNumerica)\n",
    "print('É numérica?', resp)\n",
    "print('Tratada: ', lista)\n"
   ]
  },
  {
   "cell_type": "code",
   "execution_count": 115,
   "id": "28007a32",
   "metadata": {},
   "outputs": [
    {
     "name": "stdout",
     "output_type": "stream",
     "text": [
      "-12\n",
      "-0.5\n",
      "-1.5\n"
     ]
    }
   ],
   "source": [
    "# Questão 5\n",
    "# Faça uma função que recebe valores a, b e c, resolve a equação quadrática a*x**2 + b*x + c = 0 e retorna:\n",
    "# a. o valor de Δ onde Δ = b**2- 4*a*c\n",
    "# b. uma tupla com o valor do ponto de mínimo ou máximo: x_m = -b/(2*a) e y_m = -Δ/(4*a);\n",
    "# c. uma lista contendo as raízes (a lista pode ser vazia, caso Δ<0; pode conter apenas um elemento, caso Δ = 0; \n",
    "# ou conter duas raízes, caso Δ> 0).\n",
    "\n",
    "a=2\n",
    "b=2\n",
    "c=2\n",
    "\n",
    "delta = b**2- 4*a*c\n",
    "xm = -b/(2*a)\n",
    "ym = delta/(4*a)\n",
    "\n",
    "#eq = a*x**2 + b*x + c\n",
    "\n",
    "print(delta)\n",
    "print(xm)\n",
    "print(ym)"
   ]
  },
  {
   "cell_type": "code",
   "execution_count": 48,
   "id": "2739b413",
   "metadata": {},
   "outputs": [],
   "source": [
    "# Resposta sugerida\n",
    "\n",
    "import math\n",
    "\n",
    "def quadratica(a, b, c):\n",
    "    # item a: valor de delta\n",
    "    delta = b**2 - 4*a*c\n",
    "    # item b: ponto de max ou min:\n",
    "    xm = -b/(2*a)\n",
    "    ym = -delta/(4*a)\n",
    "    # item c: raizes\n",
    "    raizes = []\n",
    "    if delta == 0:\n",
    "        raizes.append(xm)\n",
    "    elif delta > 0:\n",
    "        raiz_delta = math.sqrt(delta)\n",
    "        x1 = (-b + raiz_delta) / (2*a)\n",
    "        x2 = (-b - raiz_delta) / (2*a)\n",
    "        raizes = [x1, x2]\n",
    "    return (delta, (xm, ym), raizes)\n",
    "\n",
    "# Equação com delta negativo: 2x² + x + 1 = 0\n",
    "delta, ponto, raizes = quadratica(2, 1, 1)\n",
    "print('2x² + x + 1 = 0')\n",
    "print('delta =', delta)\n",
    "print('ponto min: ', ponto)\n",
    "print('raizes: ', raizes)\n",
    "\n",
    "# Equação com delta positivo: -2x² + x + 1 = 0\n",
    "delta, ponto, raizes = quadratica(-2, 1, 1)\n",
    "print('-2x² + x + 1 = 0')\n",
    "print('delta =', delta)\n",
    "print('ponto max: ', ponto)\n",
    "print('raizes: ', raizes)\n",
    "\n",
    "# Equação com delta nulo: x² + 2x + 1 = 0\n",
    "delta, ponto, raizes = quadratica(1, 2, 1)\n",
    "print('x² + 2x + 1 = 0')\n",
    "print('delta =', delta)\n",
    "print('ponto min: ', ponto)\n",
    "print('raizes: ', raizes)\n"
   ]
  },
  {
   "cell_type": "code",
   "execution_count": 85,
   "id": "104154bd",
   "metadata": {},
   "outputs": [
    {
     "data": {
      "text/plain": [
       "{'January': 31,\n",
       " 'February': 28,\n",
       " 'March': 31,\n",
       " 'April': 30,\n",
       " 'May': 31,\n",
       " 'June': 30,\n",
       " 'July': 31,\n",
       " 'August': 31,\n",
       " 'September': 30,\n",
       " 'October': 31,\n",
       " 'November': 30,\n",
       " 'December': 31}"
      ]
     },
     "execution_count": 85,
     "metadata": {},
     "output_type": "execute_result"
    }
   ],
   "source": [
    "# Questão 6\n",
    "# Crie um dicionário cujas chaves são os meses do ano e os valores são a duração (em dias) de cada mês.\n",
    "\n",
    "import calendar\n",
    "from datetime import datetime \n",
    "\n",
    "dicionario = dict()\n",
    "dt = datetime.today()\n",
    "i=1\n",
    "while i <= 12:\n",
    "    _, lastday = calendar.monthrange(dt.year, i)\n",
    "    mes = calendar.month_name[i]\n",
    "    dicionario[mes] = lastday    \n",
    "    i+=1\n",
    "\n",
    "dicionario"
   ]
  },
  {
   "cell_type": "code",
   "execution_count": 72,
   "id": "e1401eaf",
   "metadata": {},
   "outputs": [],
   "source": [
    "# Resposta sugerida\n",
    "\n",
    "# Considerando um ano não bissexto:\n",
    "\n",
    "meses = {'Janeiro': 31, 'Fevereiro': 28, 'Março': 31, 'Abril': 30, 'Maio':31, 'Junho':30, 'Agosto':31, 'Setembro':30, 'Outubro':31, 'Novembro':30, 'Dezembro':31}"
   ]
  },
  {
   "cell_type": "code",
   "execution_count": 86,
   "id": "cdd8178b",
   "metadata": {},
   "outputs": [
    {
     "name": "stdout",
     "output_type": "stream",
     "text": [
      "January - 31\n",
      "February - 28\n",
      "March - 31\n",
      "April - 30\n",
      "May - 31\n",
      "June - 30\n",
      "July - 31\n",
      "August - 31\n",
      "September - 30\n",
      "October - 31\n",
      "November - 30\n",
      "December - 31\n"
     ]
    }
   ],
   "source": [
    "# Questão 7\n",
    "\n",
    "# Imprima as chaves seguidas dos seus valores para dicionário criado no exercício anterior.\n",
    "# Janeiro - 31\n",
    "# Fevereiro - 28\n",
    "# Março - 31\n",
    "# Etc...\n",
    "\n",
    "dicionario = {'January': 31, 'February': 28, 'March': 31, 'April': 30, 'May': 31, 'June': 30, 'July': 31, 'August': 31, 'September': 30, 'October': 31, 'November': 30, 'December': 31}\n",
    "for mes in dicionario:\n",
    "    print(mes, '-', dicionario[mes])"
   ]
  },
  {
   "cell_type": "code",
   "execution_count": 124,
   "id": "d7c3677d",
   "metadata": {},
   "outputs": [
    {
     "name": "stdout",
     "output_type": "stream",
     "text": [
      "Janeiro - 31\n",
      "Fevereiro - 28\n",
      "Março - 31\n",
      "Abril - 30\n",
      "Maio - 31\n",
      "Junho - 30\n",
      "Agosto - 31\n",
      "Setembro - 30\n",
      "Outubro - 31\n",
      "Novembro - 30\n",
      "Dezembro - 31\n"
     ]
    }
   ],
   "source": [
    "# Resposta sugerida\n",
    "\n",
    "meses = {'Janeiro': 31, 'Fevereiro': 28, 'Março': 31, 'Abril': 30, 'Maio':31, 'Junho':30, 'Agosto':31, 'Setembro':30, 'Outubro':31, 'Novembro':30, 'Dezembro':31}\n",
    "for k, v in meses.items():\n",
    "    print(\"%s - %d\" %(k, v))"
   ]
  },
  {
   "cell_type": "code",
   "execution_count": 93,
   "id": "8a0b481c",
   "metadata": {},
   "outputs": [
    {
     "name": "stdout",
     "output_type": "stream",
     "text": [
      "Banana - 3.0\n",
      "Cebola - 4.0\n",
      "Maçã - 5.7\n",
      "Abacaxi - 8.0\n"
     ]
    },
    {
     "data": {
      "text/plain": [
       "{'Banana': 3.0, 'Cebola': 4.0, 'Maçã': 5.7, 'Abacaxi': 8.0}"
      ]
     },
     "execution_count": 93,
     "metadata": {},
     "output_type": "execute_result"
    }
   ],
   "source": [
    "# Questão 8\n",
    "\n",
    "# Crie um dicionário para as seguintes relações:\n",
    "# ‘Banana’: 3.0\n",
    "# ‘Cebola’: 4.0\n",
    "# ‘Maçã’: 5.7\n",
    "# ‘Abacaxi’: 8.0\n",
    "    \n",
    "dicionario = {'Banana': 3.0, 'Cebola': 4.0, 'Maçã': 5.7, 'Abacaxi': 8.0}\n",
    "for fruta in dicionario:\n",
    "    print(fruta, '-', dicionario[fruta])\n",
    "    \n",
    "dicionario"
   ]
  },
  {
   "cell_type": "code",
   "execution_count": null,
   "id": "47f5113b",
   "metadata": {},
   "outputs": [],
   "source": [
    "# Resposta sugerida\n",
    "\n",
    "frutas = {'Banana': 3.0, 'Cebola': 4.0, 'Maçã': 5.7, 'Abacaxi': 8.0}"
   ]
  },
  {
   "cell_type": "code",
   "execution_count": 91,
   "id": "91f14894",
   "metadata": {},
   "outputs": [
    {
     "name": "stdout",
     "output_type": "stream",
     "text": [
      "Banana - 3.0\n",
      "Cebola - 4.0\n",
      "Maçã - 8.6\n",
      "Abacaxi - 8.0\n"
     ]
    },
    {
     "data": {
      "text/plain": [
       "{'Banana': 3.0, 'Cebola': 4.0, 'Maçã': 8.6, 'Abacaxi': 8.0}"
      ]
     },
     "execution_count": 91,
     "metadata": {},
     "output_type": "execute_result"
    }
   ],
   "source": [
    "# Questão 9\n",
    "# Altere o valor da chave ‘Maçã’ no dicionário do exercício anterior para 8.6.\n",
    "dicionario = {'Banana': 3.0, 'Cebola': 4.0, 'Maçã': 5.7, 'Abacaxi': 8.0}\n",
    "dicionario[\"Maçã\"] = 8.6\n",
    "for fruta in dicionario:\n",
    "    print(fruta, '-', dicionario[fruta])\n",
    "\n",
    "dicionario"
   ]
  },
  {
   "cell_type": "code",
   "execution_count": 94,
   "id": "dce30d32",
   "metadata": {},
   "outputs": [],
   "source": [
    "# Resposta sugerida\n",
    "\n",
    "frutas = {'Banana': 3.0, 'Cebola': 4.0, 'Maçã': 5.7, 'Abacaxi': 8.0}\n",
    "\n",
    "frutas['Maçã'] = 8.6\n",
    "\n",
    "print(frutas)"
   ]
  },
  {
   "cell_type": "code",
   "execution_count": 108,
   "id": "057b198d",
   "metadata": {},
   "outputs": [
    {
     "name": "stdout",
     "output_type": "stream",
     "text": [
      "Digite o nome..: johnny\n",
      "Digite a idade.: 30\n",
      "Digite o e-mail: johnny@teste.com.br\n"
     ]
    },
    {
     "data": {
      "text/plain": [
       "{'nome': 'johnny', 'idade': 30, 'email': 'johnny@teste.com.br'}"
      ]
     },
     "execution_count": 108,
     "metadata": {},
     "output_type": "execute_result"
    }
   ],
   "source": [
    "# Questão 10\n",
    "# Crie uma função que receba os valores do nome, idade e e-mail de uma pessoa e guarde-os em um dicionário \n",
    "# com as chaves ‘nome’, ‘idade’ e ‘email’, respectivamente. Sua função deve retornar esse dicionário.\n",
    "\n",
    "contato = dict()\n",
    "def cadastro(nome, idade, email):\n",
    "    contato['nome'] = nome\n",
    "    contato['idade'] = idade\n",
    "    contato['email'] = email\n",
    "    return contato\n",
    "\n",
    "nomebool = True\n",
    "while nomebool:\n",
    "    name = input('Digite o nome..: ')\n",
    "    if (name == ''):\n",
    "        print('Nome inválido!')\n",
    "    else :\n",
    "        nomebool = False\n",
    "\n",
    "agebool = True\n",
    "while agebool:\n",
    "    age = int(input('Digite a idade.: '))\n",
    "    if (age <= 0 or age > 150) :\n",
    "        print('Idade inválida! Menor ou igual 0 ou maior que 150!')\n",
    "    else: \n",
    "        agebool = False\n",
    "\n",
    "emailbool = True\n",
    "while emailbool:\n",
    "    email = (input('Digite o e-mail: '))\n",
    "    if (email == ''):\n",
    "        print('Email inválido!')\n",
    "\n",
    "    else:\n",
    "        emailbool = False\n",
    "        \n",
    "cadastro(name, age, email)\n"
   ]
  },
  {
   "cell_type": "code",
   "execution_count": null,
   "id": "89696fb6",
   "metadata": {},
   "outputs": [],
   "source": [
    "# Resposta sugerida\n",
    "\n",
    "def cadastraPessoa(nome, idade, email):\n",
    "    return { \"nome\": nome, \"idade\": idade, \"email\": email }\n",
    "\n",
    "nome = 'Ada Lovelace'\n",
    "idade = 28\n",
    "email = 'primeira@programadora.com'\n",
    "\n",
    "ada = cadastraPessoa(nome, idade, email)\n",
    "\n",
    "print(ada)"
   ]
  },
  {
   "cell_type": "code",
   "execution_count": 21,
   "id": "d38ffce4",
   "metadata": {},
   "outputs": [
    {
     "name": "stdout",
     "output_type": "stream",
     "text": [
      "pedro 3\n"
     ]
    }
   ],
   "source": [
    "# Questão 11\n",
    "# Como você armazenaria a seguinte tabela usando apenas dicionários? \n",
    "# Tente imprimir o valor correspondente da linha Pedro x Coluna B.\n",
    "# Coluna A\tColuna B\n",
    "# Maria\t1\t5\n",
    "# Pedro\t0.5\t3\n",
    "# João\t3.2\t1\n",
    "\n",
    "dicionario = dict()\n",
    "dicionario['maria']={1, 5}\n",
    "dicionario['pedro']={0.5, 3}\n",
    "dicionario['joao']={3.2, 1}\n",
    "\n",
    "item = 'pedro'\n",
    "\n",
    "if item in dicionario:\n",
    "    cola, colb = dicionario[item]\n",
    "    print(item, colb)\n"
   ]
  },
  {
   "cell_type": "code",
   "execution_count": 125,
   "id": "0ea2cdc6",
   "metadata": {},
   "outputs": [
    {
     "name": "stdout",
     "output_type": "stream",
     "text": [
      "3\n"
     ]
    }
   ],
   "source": [
    "# Resposta sugerida\n",
    "\n",
    "tabela = {}\n",
    "tabela[\"Maria\"] = { \"Coluna A\": 1, \"Coluna B\": 5 }\n",
    "tabela[\"Pedro\"] = { \"Coluna A\": 0.5, \"Coluna B\": 3 }\n",
    "tabela[\"João\"] = { \"Coluna A\": 3.2, \"Coluna B\": 1 }\n",
    "print(tabela[\"Pedro\"][\"Coluna B\"])"
   ]
  },
  {
   "cell_type": "code",
   "execution_count": 126,
   "id": "9f5d2e75",
   "metadata": {},
   "outputs": [
    {
     "name": "stdout",
     "output_type": "stream",
     "text": [
      "{'Banana': 2, 'Maçã': 1, 'Abacaxi': 1}\n",
      "dict_keys(['Banana', 'Maçã', 'Abacaxi'])\n",
      "dict_values([2, 1, 1])\n"
     ]
    }
   ],
   "source": [
    "# Questão 12\n",
    "# Faça uma função que receba uma lista e conte quantas vezes cada elemento apareceu nessa lista. \n",
    "# Essa função deverá guardar os dados em um dicionário no qual as chaves são os elementos da lista \n",
    "# e os valores são a contagem de quantas vezes esse elemento aparece.\n",
    "\n",
    "import random\n",
    "dicionario = dict()\n",
    "\n",
    "def montalista(lista):\n",
    "    dicionario = dict((i, lista.count(i)) for i in lista)\n",
    "    return dicionario\n",
    "\n",
    "numbers=[]\n",
    "i=1\n",
    "while (i <= 20):\n",
    "    numrandom = random.randint(0, 50)\n",
    "    numbers.append(numrandom)\n",
    "    i+=1\n",
    "\n",
    "numbers = [\"Banana\", \"Maçã\", \"Banana\", \"Abacaxi\"]\n",
    "    \n",
    "dicionario = montalista(numbers)\n",
    "print(dicionario)\n",
    "print(dicionario.keys())\n",
    "print(dicionario.values())"
   ]
  },
  {
   "cell_type": "code",
   "execution_count": 127,
   "id": "42b242ff",
   "metadata": {},
   "outputs": [
    {
     "name": "stdout",
     "output_type": "stream",
     "text": [
      "{'Banana': 2, 'Maçã': 1, 'Abacaxi': 1}\n"
     ]
    }
   ],
   "source": [
    "# Resposta sugerida\n",
    "\n",
    "def contaElementos(lista):\n",
    "    contagem = {}\n",
    "    for e in lista:\n",
    "        if e not in contagem.keys():\n",
    "            contagem[e] = 1\n",
    "        else:\n",
    "            contagem[e] += 1\n",
    "    return contagem\n",
    "lista_teste = [\"Banana\", \"Maçã\", \"Banana\", \"Abacaxi\"]\n",
    "print(contaElementos(lista_teste))"
   ]
  },
  {
   "cell_type": "code",
   "execution_count": 108,
   "id": "ccf0f1db",
   "metadata": {},
   "outputs": [
    {
     "name": "stdout",
     "output_type": "stream",
     "text": [
      "{'248.044.478-30': {'nome': 'johnny', 'idade': 45, 'email': 'johnny'}, '615.852.150-74': {'nome': '1johnny', 'idade': 45, 'email': '1johnny'}}\n",
      "615.852.150-74\n",
      "{'nome': '1johnny', 'idade': 45, 'email': '1johnny'}\n"
     ]
    }
   ],
   "source": [
    "# testes preenchimento do dicionario\n",
    "contato = {}\n",
    "def cadastro(cpf, nome, idade, email):\n",
    "    cpf = '{}.{}.{}-{}'.format(cpf[:3], cpf[3:6], cpf[6:9], cpf[9:])\n",
    "    \n",
    "    contato[cpf] = {'nome': nome, 'idade': idade, 'email': email}\n",
    "    \n",
    "    #contato[cpf] = {}\n",
    "    #contato[cpf]['nome'] = nome\n",
    "    #contato[cpf]['idade'] = idade\n",
    "    #contato[cpf]['email'] = email\n",
    "    return contato\n",
    "\n",
    "a = cadastro('24804447830', 'johnny', 45, 'johnny')\n",
    "a = cadastro('61585215074', '1johnny', 45, '1johnny')\n",
    "\n",
    "print(a)\n",
    "type(a)\n",
    "\n",
    "cpf = 61585215074\n",
    "retcpf = '{}.{}.{}-{}'.format(str(cpf)[:3], str(cpf)[3:6], str(cpf)[6:9], str(cpf)[9:])\n",
    "print(retcpf)\n",
    "if retcpf in a:\n",
    "    print(a[retcpf])\n"
   ]
  },
  {
   "cell_type": "code",
   "execution_count": 87,
   "id": "731b9163",
   "metadata": {},
   "outputs": [
    {
     "name": "stdout",
     "output_type": "stream",
     "text": [
      "\n",
      "Opções:\n",
      "1. Novo cadastro\n",
      "2. Lista dos usuários\n",
      "3. Fechar\n",
      "\n",
      "Escolha a opção:1\n",
      "Digite o CPF: 56451065048\n",
      "Digite o nome..: 1\n",
      "Digite a idade.: 1\n",
      "Digite o e-mail: 1\n",
      "\n",
      "Opções:\n",
      "1. Novo cadastro\n",
      "2. Lista dos usuários\n",
      "3. Fechar\n",
      "\n",
      "Escolha a opção:1\n",
      "Digite o CPF: 61585215074\n",
      "Digite o nome..: 2\n",
      "Digite a idade.: 2\n",
      "Digite o e-mail: 2\n",
      "\n",
      "Opções:\n",
      "1. Novo cadastro\n",
      "2. Lista dos usuários\n",
      "3. Fechar\n",
      "\n",
      "Escolha a opção:2\n",
      "{'564.510.650-48': {'nome': '1', 'idade': 1, 'email': '1'}, '615.852.150-74': {'nome': '2', 'idade': 2, 'email': '2'}}\n",
      "\n",
      "Opções:\n",
      "1. Novo cadastro\n",
      "2. Lista dos usuários\n",
      "3. Fechar\n",
      "\n",
      "Escolha a opção:3\n",
      "Fechar\n"
     ]
    }
   ],
   "source": [
    "# Questão 13\n",
    "# Faça um programa que fique pedindo uma resposta do usuário, entre 1, 2 e 3. \n",
    "# Se o usuário digitar 1, o programa deve cadastrar um novo usuário nos moldes do exercício 10 \n",
    "# e guardar esse cadastro num dicionário cuja chave será o CPF da pessoa. \n",
    "# Quando o usuário digitar 2, o programa deve imprimir os usuários cadastrados; \n",
    "# e se o usuário digitar 3, o programa deve fechar.\n",
    "\n",
    "# Exemplo do dicionário:\n",
    "# ‘987.654.321-00’: {‘nome’: Maria, ‘idade’: 20, ‘email’ : maria@mail.com}\n",
    "\n",
    "contato = {}\n",
    "dicionario = {}\n",
    "def cadastro(cpf, nome, idade, email):\n",
    "    cpf = '{}.{}.{}-{}'.format(cpf[:3], cpf[3:6], cpf[6:9], cpf[9:])\n",
    "    contato[cpf] = {'nome': nome, 'idade': idade, 'email': email}\n",
    "    return contato\n",
    "\n",
    "def calculadigito(strcpf, fatores):\n",
    "    calcdig = 0\n",
    "    i = 0\n",
    "    while (i < len(fatores)):\n",
    "        produto = int(strcpf[i]) * fatores[i]\n",
    "        calcdig = calcdig + produto\n",
    "        i += 1\n",
    "    calcdig = (calcdig*10)%11\n",
    "    return calcdig\n",
    "\n",
    "fatores1 = [10,9,8,7,6,5,4,3,2]\n",
    "fatores2 = [11,10,9,8,7,6,5,4,3,2]\n",
    "\n",
    "opcao = 0\n",
    "while opcao not in (1,2,3):\n",
    "    opcao = int(input('\\nOpções:\\n1. Novo cadastro\\n2. Lista dos usuários\\n3. Fechar\\n\\nEscolha a opção:'))\n",
    "    \n",
    "    if opcao == 1:\n",
    "        cpfbool = True\n",
    "        while cpfbool:\n",
    "            cpf = int(input('Digite o CPF: '))\n",
    "            if (len(str(cpf)) != 11) :\n",
    "                print('CPF inválido!')\n",
    "            else:\n",
    "                cpfbool = False\n",
    "                lstcpf = list(str(cpf))\n",
    "                dig1 = int(lstcpf[9])\n",
    "                dig2 = int(lstcpf[10])\n",
    "\n",
    "                calcdig1 = calculadigito(lstcpf, fatores1)\n",
    "                calcdig2 = calculadigito(lstcpf, fatores2)\n",
    "\n",
    "                if (dig1 != calcdig1 or dig2 != calcdig2):\n",
    "                    print('\\nO CPF {}.{}.{}-{} é inválido!'.format(str(cpf)[:3], str(cpf)[3:6], str(cpf)[6:9], str(cpf)[9:]))\n",
    "                    cpfbool = True\n",
    "\n",
    "        nomebool = True\n",
    "        while nomebool:\n",
    "            name = input('Digite o nome..: ')\n",
    "            if (name == ''):\n",
    "                print('Nome inválido!')\n",
    "            else :\n",
    "                nomebool = False\n",
    "\n",
    "        agebool = True\n",
    "        while agebool:\n",
    "            age = int(input('Digite a idade.: '))\n",
    "            if (age <= 0 or age > 150) :\n",
    "                print('Idade inválida! Menor ou igual 0 ou maior que 150!')\n",
    "            else: \n",
    "                agebool = False\n",
    "\n",
    "        emailbool = True\n",
    "        while emailbool:\n",
    "            email = (input('Digite o e-mail: '))\n",
    "            if (email == ''):\n",
    "                print('Email inválido!')\n",
    "\n",
    "            else:\n",
    "                emailbool = False\n",
    "\n",
    "        dicionario = cadastro(str(cpf), name, age, email)\n",
    "        opcao = 0\n",
    "        \n",
    "    elif opcao == 2:\n",
    "        print(dicionario)\n",
    "        opcao = 0\n",
    "        \n",
    "    elif opcao == 3:\n",
    "        print('Fechar')\n",
    "    else:\n",
    "        print('Opção inválida!')\n",
    "\n"
   ]
  },
  {
   "cell_type": "code",
   "execution_count": null,
   "id": "5037e80c",
   "metadata": {},
   "outputs": [],
   "source": [
    "# Resposta sugerida\n",
    "\n",
    "def cadastraPessoa(nome, idade, email): #função do exercício 5\n",
    "    return { \"nome\": nome, \"idade\": idade, \"email\": email }\n",
    "\n",
    "usuarios = {}\n",
    "entrada = 0 # Começa a variável num valor que entra no loop\n",
    "while entrada != 3:\n",
    "    print()\n",
    "    print(\"As opções são:\")\n",
    "    print(\"1 - Cadastrar novo usuário\")\n",
    "    print(\"2 - Mostrar usuários cadastrados\")\n",
    "    print(\"3 - Fechar programa\")\n",
    "    entrada = int(input(\"Escolha uma opção: \"))\n",
    "    print()\n",
    "    if entrada == 1:\n",
    "        print(\"Cadastro de usuário\")\n",
    "        CPF = input(\"CPF: \")\n",
    "        nome = input(\"Nome: \")\n",
    "        idade = int(input(\"Idade: \"))\n",
    "        email = input(\"Email: \")\n",
    "        usuarios[CPF] = cadastraPessoa(nome, idade, email) \n",
    "        print(\"Usuário Cadastrado\")\n",
    "\n",
    "    elif entrada == 2:\n",
    "        if len(usuarios) == 0:\n",
    "            print(\"Não há usuários cadastrados\")\n",
    "        else:\n",
    "            print(\"Lista de usuários cadastrados\")\n",
    "            for i in usuarios.items():\n",
    "                print(i)"
   ]
  },
  {
   "cell_type": "code",
   "execution_count": 1,
   "id": "1dfce4ab",
   "metadata": {},
   "outputs": [
    {
     "name": "stdout",
     "output_type": "stream",
     "text": [
      "\n",
      "Opções:\n",
      "1. Novo cadastro\n",
      "2. Lista dos usuários\n",
      "3. Fechar\n",
      "4. Pesquisa CPF\n",
      "\n",
      "Escolha a opção:1\n",
      "Digite o CPF: 24804447830\n",
      "Digite o nome..: johnny horita\n",
      "Digite a idade.: 45\n",
      "Digite o e-mail: johnny.horita@crk.com.br\n",
      "\n",
      "Opções:\n",
      "1. Novo cadastro\n",
      "2. Lista dos usuários\n",
      "3. Fechar\n",
      "4. Pesquisa CPF\n",
      "\n",
      "Escolha a opção:4\n",
      "Digite o CPF: 24804447830\n",
      "\n",
      "CPF: 248.044.478-30 encontrado!\n",
      "{'nome': 'johnny horita', 'idade': 45, 'email': 'johnny.horita@crk.com.br'}\n",
      "\n",
      "Opções:\n",
      "1. Novo cadastro\n",
      "2. Lista dos usuários\n",
      "3. Fechar\n",
      "4. Pesquisa CPF\n",
      "\n",
      "Escolha a opção:3\n",
      "Fechar\n"
     ]
    }
   ],
   "source": [
    "# Questão 14\n",
    "# Implemente um sistema de busca para o programa do exercício 11. \n",
    "# Isto é, se o usuário digitar 4, procure um determinado usuário pelo seu CPF.\n",
    "\n",
    "contato = {}\n",
    "dicionario = {}\n",
    "def cadastro(cpf, nome, idade, email):\n",
    "    cpf = str(cpf)\n",
    "    cpf = '{}.{}.{}-{}'.format(cpf[:3], cpf[3:6], cpf[6:9], cpf[9:])\n",
    "    contato[cpf] = {'nome': nome, 'idade': idade, 'email': email}\n",
    "    return contato\n",
    "\n",
    "def calculadigito(strcpf, fatores):\n",
    "    calcdig = 0\n",
    "    i = 0\n",
    "    while (i < len(fatores)):\n",
    "        produto = int(strcpf[i]) * fatores[i]\n",
    "        calcdig = calcdig + produto\n",
    "        i += 1\n",
    "    calcdig = (calcdig*10)%11\n",
    "    return calcdig\n",
    "\n",
    "fatores1 = [10,9,8,7,6,5,4,3,2]\n",
    "fatores2 = [11,10,9,8,7,6,5,4,3,2]\n",
    "\n",
    "def cpf():\n",
    "    cpfbool = True\n",
    "    while cpfbool:\n",
    "        cpf = int(input('Digite o CPF: '))\n",
    "        if (len(str(cpf)) != 11) :\n",
    "            print('CPF inválido!')\n",
    "        else:\n",
    "            cpfbool = False\n",
    "            lstcpf = list(str(cpf))\n",
    "            dig1 = int(lstcpf[9])\n",
    "            dig2 = int(lstcpf[10])\n",
    "\n",
    "            calcdig1 = calculadigito(lstcpf, fatores1)\n",
    "            calcdig2 = calculadigito(lstcpf, fatores2)\n",
    "\n",
    "            if (dig1 != calcdig1 or dig2 != calcdig2):\n",
    "                print('\\nO CPF {}.{}.{}-{} é inválido!'.format(str(cpf)[:3], str(cpf)[3:6], str(cpf)[6:9], str(cpf)[9:]))\n",
    "                cpfbool = True    \n",
    "    return cpf\n",
    "\n",
    "opcao = 0\n",
    "while opcao not in (1,2,3,4):\n",
    "    opcao = int(input('\\nOpções:\\n1. Novo cadastro\\n2. Lista dos usuários\\n3. Fechar\\n4. Pesquisa CPF\\n\\nEscolha a opção:'))\n",
    "    \n",
    "    if opcao == 1:\n",
    "        retcpf = cpf()\n",
    "\n",
    "        nomebool = True\n",
    "        while nomebool:\n",
    "            name = input('Digite o nome..: ')\n",
    "            if (name == ''):\n",
    "                print('Nome inválido!')\n",
    "            else :\n",
    "                nomebool = False\n",
    "\n",
    "        agebool = True\n",
    "        while agebool:\n",
    "            age = int(input('Digite a idade.: '))\n",
    "            if (age <= 0 or age > 150) :\n",
    "                print('Idade inválida! Menor ou igual 0 ou maior que 150!')\n",
    "            else: \n",
    "                agebool = False\n",
    "\n",
    "        emailbool = True\n",
    "        while emailbool:\n",
    "            email = (input('Digite o e-mail: '))\n",
    "            if (email == ''):\n",
    "                print('Email inválido!')\n",
    "\n",
    "            else:\n",
    "                emailbool = False\n",
    "\n",
    "        dicionario = cadastro(retcpf, name, age, email)\n",
    "        opcao = 0\n",
    "        \n",
    "    elif opcao == 2:\n",
    "        print(dicionario)\n",
    "        opcao = 0\n",
    "        \n",
    "    elif opcao == 3:\n",
    "        print('Fechar')\n",
    "        \n",
    "    elif opcao == 4:\n",
    "        retcpf = cpf()\n",
    "        retcpf = '{}.{}.{}-{}'.format(str(retcpf)[:3], str(retcpf)[3:6], str(retcpf)[6:9], str(retcpf)[9:])\n",
    "        if retcpf in dicionario:\n",
    "            print('\\nCPF:',retcpf, 'encontrado!')\n",
    "            print(dicionario[retcpf])\n",
    "        opcao = 0    \n",
    "        \n",
    "    else:\n",
    "        print('Opção inválida!')\n"
   ]
  },
  {
   "cell_type": "code",
   "execution_count": null,
   "id": "10e18b1b",
   "metadata": {},
   "outputs": [],
   "source": [
    "# Resposta sugerida\n",
    "\n",
    "def cadastraPessoa(nome, idade, email): #função do exercício 5\n",
    "    return { \"nome\": nome, \"idade\": idade, \"email\": email }\n",
    "\n",
    "usuarios = {}\n",
    "entrada = 0 # Começa a variável num valor que entra no loop\n",
    "while entrada != 3:\n",
    "    print()\n",
    "    print(\"As opções são:\")\n",
    "    print(\"1 - Cadastrar novo usuário\")\n",
    "    print(\"2 - Mostrar usuários cadastrados\")\n",
    "    print(\"3 - Fechar programa\")\n",
    "    print(\"4 - Pesquisar usuário\")\n",
    "    entrada = int(input(\"Escolha uma opção: \"))\n",
    "    print()\n",
    "    if entrada == 1:\n",
    "        print(\"Cadastro de usuário\")\n",
    "        CPF = input(\"CPF: \")\n",
    "        nome = input(\"Nome: \")\n",
    "        idade = int(input(\"Idade: \"))\n",
    "        email = input(\"Email: \")\n",
    "        usuarios[CPF] = cadastraPessoa(nome, idade, email) \n",
    "        print(\"Usuário Cadastrado\")\n",
    "\n",
    "    elif entrada == 2:\n",
    "        if len(usuarios) == 0:\n",
    "            print(\"Não há usuários cadastrados\")\n",
    "        else:\n",
    "            print(\"Lista de usuários cadastrados\")\n",
    "            for i in usuarios.items():\n",
    "                print(i)\n",
    "\n",
    "    elif entrada == 4:\n",
    "        print(\"Pesquisa de usuário\")\n",
    "        CPF = input(\"CPF: \")\n",
    "        if CPF in usuarios.keys():\n",
    "            print(usuarios[CPF])\n",
    "        else:\n",
    "            print(\"Esse usuário não existe\")\n",
    "            "
   ]
  },
  {
   "cell_type": "code",
   "execution_count": 129,
   "id": "088225d8",
   "metadata": {},
   "outputs": [
    {
     "name": "stdout",
     "output_type": "stream",
     "text": [
      "['S', 'G', 'R', 'B', 'G', 'P', 'E', 'X', 'N', 'I', 'W', 'I', 'K', 'S', 'J', 'A', 'G', 'F', 'J', 'C', 'S', 'J', 'D', 'U', 'I', 'N', 'H', 'X', 'J', 'X', 'I', 'X', 'V', 'L', 'G', 'R', 'R', 'K', 'H', 'R', 'F', 'O', 'H', 'M', 'A', 'G', 'Z', 'G', 'K', 'K', 'M', 'Z', 'R', 'A', 'C', 'O', 'E', 'W', 'G', 'V', 'Q', 'X', 'R', 'Q', 'E', 'Z', 'U', 'V', 'W', 'B', 'E', 'J', 'V', 'K', 'G', 'T', 'M', 'P', 'C', 'O', 'V', 'Q', 'N', 'Y', 'B', 'W', 'L', 'W', 'D', 'J', 'I', 'T', 'Q', 'T', 'Z', 'N', 'R', 'R', 'V', 'O']\n",
      "{'S': 3, 'G': 8, 'R': 8, 'B': 3, 'P': 2, 'E': 4, 'X': 5, 'N': 4, 'I': 5, 'W': 5, 'K': 5, 'J': 6, 'A': 3, 'F': 2, 'C': 3, 'D': 2, 'U': 2, 'H': 3, 'V': 6, 'L': 2, 'O': 4, 'M': 3, 'Z': 4, 'Q': 4, 'T': 3, 'Y': 1}\n",
      "\n",
      "banana\n",
      "{'b': 1, 'a': 3, 'n': 2}\n"
     ]
    }
   ],
   "source": [
    "# Questão 15\n",
    "# Faça o análogo do exercício 12 para strings: conte quantas vezes cada caracter apareceu nessa string e \n",
    "# retorne um dicionário com essa contagem.\n",
    "\n",
    "import string\n",
    "import random\n",
    "dicionario = dict()\n",
    "\n",
    "def montalista(lista):\n",
    "    dicionario = dict((i, lista.count(i)) for i in lista)\n",
    "    return dicionario\n",
    "\n",
    "letters=[]\n",
    "i=1\n",
    "while (i <= 100):\n",
    "    letrandom = random.choice(string.ascii_letters)\n",
    "    letters.append(letrandom.upper())\n",
    "    i+=1\n",
    "\n",
    "dicionario1 = montalista(letters)\n",
    "print(letters)\n",
    "print(dicionario1)\n",
    "#dicionario1\n",
    "\n",
    "#string = \"Eu estou matriculado no curso de Datascience Degree da Instituição Educacional Let's Code\"\n",
    "string = \"banana\"\n",
    "letters = list()\n",
    "letters = string\n",
    "dicionario2 = montalista(letters)\n",
    "print('\\n'+letters)\n",
    "print(dicionario2)\n",
    "#dicionario2\n"
   ]
  },
  {
   "cell_type": "code",
   "execution_count": 128,
   "id": "a60d6755",
   "metadata": {},
   "outputs": [
    {
     "name": "stdout",
     "output_type": "stream",
     "text": [
      "{'B': 1, 'a': 3, 'n': 2}\n"
     ]
    }
   ],
   "source": [
    "# Resposta sugerida\n",
    "\n",
    "def contaCaracteres(palavra):\n",
    "    contagem = {}\n",
    "    for c in palavra:\n",
    "        if c not in contagem.keys():\n",
    "            contagem[c] = 1\n",
    "        else:\n",
    "            contagem[c] += 1\n",
    "    return contagem\n",
    "palavra_teste = \"Banana\"\n",
    "print(contaCaracteres(palavra_teste))\n"
   ]
  },
  {
   "cell_type": "code",
   "execution_count": null,
   "id": "15bbcb8b",
   "metadata": {},
   "outputs": [],
   "source": [
    "# muito bom essa collection para separar os types\n",
    "# testes diversos\n",
    "from collections import defaultdict\n",
    "\n",
    "lista = ['nome', 1, True, False, 'true', 'false', 1.53, '1']\n",
    "\n",
    "res = defaultdict(list)\n",
    "for item in lista:\n",
    "   res[type(item)].append(item)\n",
    "\n",
    "# printing result\n",
    "print(\"Integer list : \" + str(res[int]))\n",
    "print(\"String list : \" + str(res[str]))\n",
    "print(res)\n",
    "\n",
    "\n",
    "[item for item in l if isinstance(item, str)]\n",
    "\n",
    "\n",
    "a = [1,2,3,'a',4,11,212,'a','b','c',3,32,4,'d','e']\n",
    "[x for x in a if type(x)==str]\n",
    "\n",
    "\n",
    "a = [1,2,3,'a',4,11,212,'a','b','c',3,32,4,'d','e']\n",
    "print [item for item in a if type(item) is str]\n",
    "\n",
    "for item in lista:\n",
    "    type(item)\n",
    "\n",
    "print([item for item in lista if type(item) is str])\n",
    "\n",
    "\n",
    "#item for item in a if type(item) is str\n",
    "\n",
    "    \n",
    "#def verifylist(lista):\n",
    "#    all(isinstance(x, int) for x in lista)\n",
    "\n",
    "\n",
    "    elif\n",
    "\n",
    "inNumber = somenumber\n",
    "\n",
    "    try:\n",
    "        inNumberint = int(item)\n",
    "        listatratada.append(inNumberint)\n",
    "    except ValueError:\n",
    "        try:\n",
    "            inNumberfloat = float(item)\n",
    "            listatratada.append(inNumberfloat)\n",
    "        except ValueError:\n",
    "            listatratada.append(item)\n",
    "\n"
   ]
  },
  {
   "cell_type": "code",
   "execution_count": 142,
   "id": "7eef04ef",
   "metadata": {},
   "outputs": [
    {
     "name": "stdout",
     "output_type": "stream",
     "text": [
      "10.0\n",
      "5.0\n",
      "3.3333333333333335\n",
      "2.5\n",
      "2.0\n",
      "division by zero\n",
      "10.0\n",
      "3.3333333333333335\n"
     ]
    }
   ],
   "source": [
    "lista = [1,2,3,4,5,0,1,3]\n",
    "for i in lista:\n",
    "    try:\n",
    "        a = 10/i\n",
    "        print(a)\n",
    "    except (ZeroDivisionError) as err: \n",
    "        print(err)\n",
    "        pass"
   ]
  },
  {
   "cell_type": "code",
   "execution_count": 143,
   "id": "dc0a2d5e",
   "metadata": {},
   "outputs": [
    {
     "name": "stdout",
     "output_type": "stream",
     "text": [
      "10.0\n",
      "5.0\n",
      "3.3333333333333335\n",
      "2.5\n",
      "2.0\n"
     ]
    },
    {
     "ename": "ZeroDivisionError",
     "evalue": "division by zero",
     "output_type": "error",
     "traceback": [
      "\u001b[1;31m---------------------------------------------------------------------------\u001b[0m",
      "\u001b[1;31mZeroDivisionError\u001b[0m                         Traceback (most recent call last)",
      "\u001b[1;32m<ipython-input-143-0340069bc960>\u001b[0m in \u001b[0;36m<module>\u001b[1;34m\u001b[0m\n\u001b[0;32m      1\u001b[0m \u001b[0mlista\u001b[0m \u001b[1;33m=\u001b[0m \u001b[1;33m[\u001b[0m\u001b[1;36m1\u001b[0m\u001b[1;33m,\u001b[0m\u001b[1;36m2\u001b[0m\u001b[1;33m,\u001b[0m\u001b[1;36m3\u001b[0m\u001b[1;33m,\u001b[0m\u001b[1;36m4\u001b[0m\u001b[1;33m,\u001b[0m\u001b[1;36m5\u001b[0m\u001b[1;33m,\u001b[0m\u001b[1;36m0\u001b[0m\u001b[1;33m,\u001b[0m\u001b[1;36m1\u001b[0m\u001b[1;33m,\u001b[0m\u001b[1;36m3\u001b[0m\u001b[1;33m]\u001b[0m\u001b[1;33m\u001b[0m\u001b[1;33m\u001b[0m\u001b[0m\n\u001b[0;32m      2\u001b[0m \u001b[1;32mfor\u001b[0m \u001b[0mi\u001b[0m \u001b[1;32min\u001b[0m \u001b[0mlista\u001b[0m\u001b[1;33m:\u001b[0m\u001b[1;33m\u001b[0m\u001b[1;33m\u001b[0m\u001b[0m\n\u001b[1;32m----> 3\u001b[1;33m     \u001b[0ma\u001b[0m \u001b[1;33m=\u001b[0m \u001b[1;36m10\u001b[0m\u001b[1;33m/\u001b[0m\u001b[0mi\u001b[0m\u001b[1;33m\u001b[0m\u001b[1;33m\u001b[0m\u001b[0m\n\u001b[0m\u001b[0;32m      4\u001b[0m     \u001b[0mprint\u001b[0m\u001b[1;33m(\u001b[0m\u001b[0ma\u001b[0m\u001b[1;33m)\u001b[0m\u001b[1;33m\u001b[0m\u001b[1;33m\u001b[0m\u001b[0m\n",
      "\u001b[1;31mZeroDivisionError\u001b[0m: division by zero"
     ]
    }
   ],
   "source": [
    "lista = [1,2,3,4,5,0,1,3]\n",
    "for i in lista:\n",
    "    a = 10/i\n",
    "    print(a)"
   ]
  },
  {
   "cell_type": "code",
   "execution_count": null,
   "id": "2d1d1f8d",
   "metadata": {},
   "outputs": [],
   "source": [
    "i = 0    \n",
    "while i <= 10:\n",
    "    try:\n",
    "        a = 10/0\n",
    "    except (ZeroDivisionError) as err: \n",
    "        print(err)\n",
    "        pass\n",
    "    i+=1\n",
    "\n"
   ]
  },
  {
   "cell_type": "code",
   "execution_count": null,
   "id": "ed2cd567",
   "metadata": {},
   "outputs": [],
   "source": []
  }
 ],
 "metadata": {
  "kernelspec": {
   "display_name": "Python 3",
   "language": "python",
   "name": "python3"
  },
  "language_info": {
   "codemirror_mode": {
    "name": "ipython",
    "version": 3
   },
   "file_extension": ".py",
   "mimetype": "text/x-python",
   "name": "python",
   "nbconvert_exporter": "python",
   "pygments_lexer": "ipython3",
   "version": "3.8.10"
  }
 },
 "nbformat": 4,
 "nbformat_minor": 5
}
