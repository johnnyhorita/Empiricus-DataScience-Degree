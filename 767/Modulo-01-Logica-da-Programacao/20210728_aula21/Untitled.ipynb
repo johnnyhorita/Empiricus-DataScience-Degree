{
 "cells": [
  {
   "cell_type": "code",
   "execution_count": 1,
   "id": "51ee4ca7",
   "metadata": {
    "ExecuteTime": {
     "end_time": "2021-07-28T23:10:34.506934Z",
     "start_time": "2021-07-28T23:10:34.501933Z"
    }
   },
   "outputs": [],
   "source": [
    "lista_numeros = [-5, 6, 7, -3, 10, -20, 0, 4, 2]\n",
    "a = [item for item in lista_numeros if item < 0]\n"
   ]
  },
  {
   "cell_type": "code",
   "execution_count": 2,
   "id": "b40e0b82",
   "metadata": {
    "ExecuteTime": {
     "end_time": "2021-07-28T23:10:36.165713Z",
     "start_time": "2021-07-28T23:10:36.155711Z"
    }
   },
   "outputs": [
    {
     "data": {
      "text/plain": [
       "[-5, -3, -20]"
      ]
     },
     "execution_count": 2,
     "metadata": {},
     "output_type": "execute_result"
    }
   ],
   "source": [
    "a"
   ]
  },
  {
   "cell_type": "code",
   "execution_count": null,
   "id": "394b04f4",
   "metadata": {},
   "outputs": [],
   "source": [
    "players_score.items(), key=lambda x: x[1], reverse=True\n"
   ]
  },
  {
   "cell_type": "code",
   "execution_count": 24,
   "id": "c9b3572e",
   "metadata": {
    "ExecuteTime": {
     "end_time": "2021-07-28T23:50:47.850897Z",
     "start_time": "2021-07-28T23:50:47.846896Z"
    }
   },
   "outputs": [],
   "source": [
    "a = '   j o h n n y '"
   ]
  },
  {
   "cell_type": "code",
   "execution_count": 6,
   "id": "71d2f786",
   "metadata": {
    "ExecuteTime": {
     "end_time": "2021-07-28T23:29:38.173475Z",
     "start_time": "2021-07-28T23:29:38.168506Z"
    }
   },
   "outputs": [
    {
     "data": {
      "text/plain": [
       "'jbhnny'"
      ]
     },
     "execution_count": 6,
     "metadata": {},
     "output_type": "execute_result"
    }
   ],
   "source": [
    "a.replace('o', 'b')"
   ]
  },
  {
   "cell_type": "code",
   "execution_count": 25,
   "id": "60be4361",
   "metadata": {
    "ExecuteTime": {
     "end_time": "2021-07-28T23:50:50.818300Z",
     "start_time": "2021-07-28T23:50:50.813296Z"
    }
   },
   "outputs": [
    {
     "data": {
      "text/plain": [
       "'   j o h n n y '"
      ]
     },
     "execution_count": 25,
     "metadata": {},
     "output_type": "execute_result"
    }
   ],
   "source": [
    "a"
   ]
  },
  {
   "cell_type": "code",
   "execution_count": 18,
   "id": "d2a9f2b9",
   "metadata": {
    "ExecuteTime": {
     "end_time": "2021-07-28T23:46:09.039153Z",
     "start_time": "2021-07-28T23:46:09.036153Z"
    }
   },
   "outputs": [],
   "source": [
    "b = a.strip()"
   ]
  },
  {
   "cell_type": "code",
   "execution_count": 21,
   "id": "f8dfa5a9",
   "metadata": {
    "ExecuteTime": {
     "end_time": "2021-07-28T23:46:42.548566Z",
     "start_time": "2021-07-28T23:46:42.543594Z"
    }
   },
   "outputs": [
    {
     "data": {
      "text/plain": [
       "'johnny'"
      ]
     },
     "execution_count": 21,
     "metadata": {},
     "output_type": "execute_result"
    }
   ],
   "source": [
    "b"
   ]
  },
  {
   "cell_type": "code",
   "execution_count": 26,
   "id": "ce24d2d0",
   "metadata": {
    "ExecuteTime": {
     "end_time": "2021-07-28T23:50:53.466313Z",
     "start_time": "2021-07-28T23:50:53.461321Z"
    }
   },
   "outputs": [
    {
     "data": {
      "text/plain": [
       "'johnny'"
      ]
     },
     "execution_count": 26,
     "metadata": {},
     "output_type": "execute_result"
    }
   ],
   "source": [
    "''.join(a.split())"
   ]
  },
  {
   "cell_type": "code",
   "execution_count": 44,
   "id": "787e5396",
   "metadata": {
    "ExecuteTime": {
     "end_time": "2021-07-29T00:06:58.076031Z",
     "start_time": "2021-07-29T00:06:58.073031Z"
    }
   },
   "outputs": [],
   "source": [
    "notas = {'maria':10, 'joao':5, 'jose':3, 'ana':2}"
   ]
  },
  {
   "cell_type": "code",
   "execution_count": 28,
   "id": "aabe7f47",
   "metadata": {
    "ExecuteTime": {
     "end_time": "2021-07-29T00:00:23.950022Z",
     "start_time": "2021-07-29T00:00:23.948003Z"
    }
   },
   "outputs": [],
   "source": [
    "notas['maria'] = 15"
   ]
  },
  {
   "cell_type": "code",
   "execution_count": 36,
   "id": "54cd338c",
   "metadata": {
    "ExecuteTime": {
     "end_time": "2021-07-29T00:02:15.786683Z",
     "start_time": "2021-07-29T00:02:15.779676Z"
    }
   },
   "outputs": [
    {
     "ename": "AttributeError",
     "evalue": "'int' object has no attribute 'pop'",
     "output_type": "error",
     "traceback": [
      "\u001b[1;31m---------------------------------------------------------------------------\u001b[0m",
      "\u001b[1;31mAttributeError\u001b[0m                            Traceback (most recent call last)",
      "\u001b[1;32m<ipython-input-36-1637837e5f27>\u001b[0m in \u001b[0;36m<module>\u001b[1;34m\u001b[0m\n\u001b[1;32m----> 1\u001b[1;33m \u001b[0mnotas\u001b[0m\u001b[1;33m[\u001b[0m\u001b[1;34m'joao'\u001b[0m\u001b[1;33m]\u001b[0m\u001b[1;33m.\u001b[0m\u001b[0mpop\u001b[0m\u001b[1;33m\u001b[0m\u001b[1;33m\u001b[0m\u001b[0m\n\u001b[0m",
      "\u001b[1;31mAttributeError\u001b[0m: 'int' object has no attribute 'pop'"
     ]
    }
   ],
   "source": [
    "notas['joao'].pop"
   ]
  },
  {
   "cell_type": "code",
   "execution_count": 34,
   "id": "4dca9d3e",
   "metadata": {
    "ExecuteTime": {
     "end_time": "2021-07-29T00:01:59.231088Z",
     "start_time": "2021-07-29T00:01:59.227087Z"
    }
   },
   "outputs": [],
   "source": [
    "del notas['maria']"
   ]
  },
  {
   "cell_type": "code",
   "execution_count": 37,
   "id": "3af43ecf",
   "metadata": {
    "ExecuteTime": {
     "end_time": "2021-07-29T00:02:40.665909Z",
     "start_time": "2021-07-29T00:02:40.660898Z"
    }
   },
   "outputs": [
    {
     "data": {
      "text/plain": [
       "dict_keys(['joao', 'jose', 'ana'])"
      ]
     },
     "execution_count": 37,
     "metadata": {},
     "output_type": "execute_result"
    }
   ],
   "source": [
    "notas.keys()"
   ]
  },
  {
   "cell_type": "code",
   "execution_count": 38,
   "id": "5704196b",
   "metadata": {
    "ExecuteTime": {
     "end_time": "2021-07-29T00:02:49.036000Z",
     "start_time": "2021-07-29T00:02:49.030990Z"
    }
   },
   "outputs": [
    {
     "data": {
      "text/plain": [
       "dict_values([10, 10, 10])"
      ]
     },
     "execution_count": 38,
     "metadata": {},
     "output_type": "execute_result"
    }
   ],
   "source": [
    "notas.values()"
   ]
  },
  {
   "cell_type": "code",
   "execution_count": 39,
   "id": "e9f37eb4",
   "metadata": {
    "ExecuteTime": {
     "end_time": "2021-07-29T00:03:06.041896Z",
     "start_time": "2021-07-29T00:03:06.036900Z"
    }
   },
   "outputs": [
    {
     "data": {
      "text/plain": [
       "dict_items([('joao', 10), ('jose', 10), ('ana', 10)])"
      ]
     },
     "execution_count": 39,
     "metadata": {},
     "output_type": "execute_result"
    }
   ],
   "source": [
    "notas.items()"
   ]
  },
  {
   "cell_type": "code",
   "execution_count": 46,
   "id": "6c048c5c",
   "metadata": {
    "ExecuteTime": {
     "end_time": "2021-07-29T00:07:12.715678Z",
     "start_time": "2021-07-29T00:07:12.709699Z"
    }
   },
   "outputs": [
    {
     "data": {
      "text/plain": [
       "[('ana', 2), ('jose', 3), ('joao', 5), ('maria', 10)]"
      ]
     },
     "execution_count": 46,
     "metadata": {},
     "output_type": "execute_result"
    }
   ],
   "source": [
    "sorted(notas.items(), key=lambda x: x[1], reverse=False)"
   ]
  },
  {
   "cell_type": "code",
   "execution_count": 42,
   "id": "da1b9383",
   "metadata": {
    "ExecuteTime": {
     "end_time": "2021-07-29T00:04:41.953482Z",
     "start_time": "2021-07-29T00:04:41.947446Z"
    }
   },
   "outputs": [
    {
     "name": "stdout",
     "output_type": "stream",
     "text": [
      "10 joao\n",
      "10 jose\n",
      "10 ana\n"
     ]
    }
   ],
   "source": [
    "for chave, valor in notas.items():\n",
    "    print(valor, chave)"
   ]
  },
  {
   "cell_type": "code",
   "execution_count": 43,
   "id": "ff3aaf7a",
   "metadata": {
    "ExecuteTime": {
     "end_time": "2021-07-29T00:05:10.011890Z",
     "start_time": "2021-07-29T00:05:10.004915Z"
    }
   },
   "outputs": [
    {
     "ename": "TypeError",
     "evalue": "'dict' object is not callable",
     "output_type": "error",
     "traceback": [
      "\u001b[1;31m---------------------------------------------------------------------------\u001b[0m",
      "\u001b[1;31mTypeError\u001b[0m                                 Traceback (most recent call last)",
      "\u001b[1;32m<ipython-input-43-1c0439d66e72>\u001b[0m in \u001b[0;36m<module>\u001b[1;34m\u001b[0m\n\u001b[1;32m----> 1\u001b[1;33m \u001b[1;32mfor\u001b[0m \u001b[0ma\u001b[0m \u001b[1;32min\u001b[0m \u001b[0mnotas\u001b[0m\u001b[1;33m(\u001b[0m\u001b[1;33m)\u001b[0m\u001b[1;33m:\u001b[0m\u001b[1;33m\u001b[0m\u001b[1;33m\u001b[0m\u001b[0m\n\u001b[0m\u001b[0;32m      2\u001b[0m     \u001b[0mprint\u001b[0m \u001b[1;33m(\u001b[0m\u001b[0ma\u001b[0m\u001b[1;33m)\u001b[0m\u001b[1;33m\u001b[0m\u001b[1;33m\u001b[0m\u001b[0m\n",
      "\u001b[1;31mTypeError\u001b[0m: 'dict' object is not callable"
     ]
    }
   ],
   "source": [
    "for a in notas():\n",
    "    print (a)"
   ]
  },
  {
   "cell_type": "code",
   "execution_count": 57,
   "id": "ef00b14a",
   "metadata": {
    "ExecuteTime": {
     "end_time": "2021-07-29T00:26:27.292949Z",
     "start_time": "2021-07-29T00:26:27.289937Z"
    }
   },
   "outputs": [],
   "source": [
    "def f(*args):\n",
    "    l=[]\n",
    "    for i in args:\n",
    "        l.append(i)\n",
    "    try:\n",
    "        s = sum(l)\n",
    "    except:\n",
    "        print('Error: Elementos incompatíveis.')\n",
    "        s = 0\n",
    "    return s\n",
    "    "
   ]
  },
  {
   "cell_type": "code",
   "execution_count": 58,
   "id": "e2131eb7",
   "metadata": {
    "ExecuteTime": {
     "end_time": "2021-07-29T00:26:27.639873Z",
     "start_time": "2021-07-29T00:26:27.634869Z"
    }
   },
   "outputs": [
    {
     "name": "stdout",
     "output_type": "stream",
     "text": [
      "Error: Elementos incompatíveis.\n"
     ]
    },
    {
     "data": {
      "text/plain": [
       "0"
      ]
     },
     "execution_count": 58,
     "metadata": {},
     "output_type": "execute_result"
    }
   ],
   "source": [
    "f(1,a,1,1)"
   ]
  },
  {
   "cell_type": "code",
   "execution_count": 65,
   "id": "76e7e18f",
   "metadata": {
    "ExecuteTime": {
     "end_time": "2021-07-29T01:04:29.600760Z",
     "start_time": "2021-07-29T01:04:29.597763Z"
    }
   },
   "outputs": [],
   "source": [
    "def soma(a=1, b=1):\n",
    "    return a+b\n"
   ]
  },
  {
   "cell_type": "code",
   "execution_count": 66,
   "id": "c1cfe6be",
   "metadata": {
    "ExecuteTime": {
     "end_time": "2021-07-29T01:04:33.764136Z",
     "start_time": "2021-07-29T01:04:33.759138Z"
    }
   },
   "outputs": [
    {
     "data": {
      "text/plain": [
       "2"
      ]
     },
     "execution_count": 66,
     "metadata": {},
     "output_type": "execute_result"
    }
   ],
   "source": [
    "soma()"
   ]
  },
  {
   "cell_type": "code",
   "execution_count": null,
   "id": "aee41b1c",
   "metadata": {},
   "outputs": [],
   "source": []
  }
 ],
 "metadata": {
  "kernelspec": {
   "display_name": "Python 3",
   "language": "python",
   "name": "python3"
  },
  "language_info": {
   "codemirror_mode": {
    "name": "ipython",
    "version": 3
   },
   "file_extension": ".py",
   "mimetype": "text/x-python",
   "name": "python",
   "nbconvert_exporter": "python",
   "pygments_lexer": "ipython3",
   "version": "3.8.10"
  }
 },
 "nbformat": 4,
 "nbformat_minor": 5
}
