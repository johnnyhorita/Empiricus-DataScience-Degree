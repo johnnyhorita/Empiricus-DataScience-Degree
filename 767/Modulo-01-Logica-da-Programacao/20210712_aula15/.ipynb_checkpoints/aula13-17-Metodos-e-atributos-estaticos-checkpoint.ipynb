{
 "cells": [
  {
   "cell_type": "markdown",
   "id": "8bcdb687",
   "metadata": {},
   "source": [
    "# Aula 13\n",
    "\n",
    "## 17.  Métodos e atributos estáticos\n"
   ]
  },
  {
   "cell_type": "markdown",
   "id": "69567d55",
   "metadata": {},
   "source": [
    "## 1. Atributos estáticos"
   ]
  },
  {
   "cell_type": "code",
   "execution_count": 1,
   "id": "494e3d60",
   "metadata": {
    "ExecuteTime": {
     "end_time": "2021-07-07T23:46:21.082603Z",
     "start_time": "2021-07-07T23:46:21.076603Z"
    }
   },
   "outputs": [
    {
     "name": "stdout",
     "output_type": "stream",
     "text": [
      "População atual:  2\n"
     ]
    }
   ],
   "source": [
    "class Pessoa:\n",
    "    # criando um atributo estático\n",
    "    populacao = 0\n",
    "\n",
    "    def __init__(self, nome, cpf):\n",
    "        self.nome = nome\n",
    "        self.cpf =  cpf\n",
    "        # o __init__ é chamado quando uma Pessoa nova é criada...\n",
    "        # ...portanto, vamos atualizar nossa populacao sempre que alguém for criado!\n",
    "        Pessoa.populacao = Pessoa.populacao + 1\n",
    "\n",
    "maisVelho = Pessoa('Mario', 12345678901)\n",
    "maisNovo = Pessoa('Luigi', 98765432109)\n",
    "\n",
    "# Note que para acessar o atributo estático, não referenciamos um objeto, e sim a classe!\n",
    "print('População atual: ', Pessoa.populacao)"
   ]
  },
  {
   "cell_type": "markdown",
   "id": "684f86d0",
   "metadata": {},
   "source": [
    "## 2. Métodos estáticos"
   ]
  },
  {
   "cell_type": "code",
   "execution_count": 2,
   "id": "f22abf4e",
   "metadata": {
    "ExecuteTime": {
     "end_time": "2021-07-07T23:46:49.255239Z",
     "start_time": "2021-07-07T23:46:49.249280Z"
    }
   },
   "outputs": [
    {
     "ename": "IndentationError",
     "evalue": "unexpected indent (<ipython-input-2-2202c76f8033>, line 2)",
     "output_type": "error",
     "traceback": [
      "\u001b[1;36m  File \u001b[1;32m\"<ipython-input-2-2202c76f8033>\"\u001b[1;36m, line \u001b[1;32m2\u001b[0m\n\u001b[1;33m    def popTotal():\u001b[0m\n\u001b[1;37m    ^\u001b[0m\n\u001b[1;31mIndentationError\u001b[0m\u001b[1;31m:\u001b[0m unexpected indent\n"
     ]
    }
   ],
   "source": [
    "@staticmethod\n",
    "    def popTotal():\n",
    "        print('População total:', Pessoa.populacao)"
   ]
  },
  {
   "cell_type": "code",
   "execution_count": 3,
   "id": "35eac4ad",
   "metadata": {
    "ExecuteTime": {
     "end_time": "2021-07-07T23:46:49.621193Z",
     "start_time": "2021-07-07T23:46:49.424193Z"
    }
   },
   "outputs": [
    {
     "ename": "AttributeError",
     "evalue": "type object 'Pessoa' has no attribute 'popTotal'",
     "output_type": "error",
     "traceback": [
      "\u001b[1;31m---------------------------------------------------------------------------\u001b[0m",
      "\u001b[1;31mAttributeError\u001b[0m                            Traceback (most recent call last)",
      "\u001b[1;32m<ipython-input-3-331d8356c2b9>\u001b[0m in \u001b[0;36m<module>\u001b[1;34m\u001b[0m\n\u001b[1;32m----> 1\u001b[1;33m \u001b[0mPessoa\u001b[0m\u001b[1;33m.\u001b[0m\u001b[0mpopTotal\u001b[0m\u001b[1;33m(\u001b[0m\u001b[1;33m)\u001b[0m\u001b[1;33m\u001b[0m\u001b[1;33m\u001b[0m\u001b[0m\n\u001b[0m",
      "\u001b[1;31mAttributeError\u001b[0m: type object 'Pessoa' has no attribute 'popTotal'"
     ]
    }
   ],
   "source": [
    "Pessoa.popTotal()"
   ]
  },
  {
   "cell_type": "code",
   "execution_count": null,
   "id": "e08f8095",
   "metadata": {},
   "outputs": [],
   "source": []
  }
 ],
 "metadata": {
  "kernelspec": {
   "display_name": "Python 3",
   "language": "python",
   "name": "python3"
  },
  "language_info": {
   "codemirror_mode": {
    "name": "ipython",
    "version": 3
   },
   "file_extension": ".py",
   "mimetype": "text/x-python",
   "name": "python",
   "nbconvert_exporter": "python",
   "pygments_lexer": "ipython3",
   "version": "3.8.10"
  }
 },
 "nbformat": 4,
 "nbformat_minor": 5
}
