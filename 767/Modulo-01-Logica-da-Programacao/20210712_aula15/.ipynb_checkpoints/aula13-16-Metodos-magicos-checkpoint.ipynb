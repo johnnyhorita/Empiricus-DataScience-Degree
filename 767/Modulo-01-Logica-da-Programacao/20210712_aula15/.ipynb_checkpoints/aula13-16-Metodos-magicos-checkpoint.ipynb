{
 "cells": [
  {
   "cell_type": "markdown",
   "id": "8bcdb687",
   "metadata": {},
   "source": [
    "# Aula 13\n",
    "\n",
    "## 15.  Classes e objetos em Python\n"
   ]
  },
  {
   "cell_type": "markdown",
   "id": "ac0ce577",
   "metadata": {},
   "source": [
    "## 1. Classes"
   ]
  },
  {
   "cell_type": "markdown",
   "id": "2b696253",
   "metadata": {},
   "source": [
    "### 1.1. Criando uma classe"
   ]
  },
  {
   "cell_type": "code",
   "execution_count": 1,
   "id": "494e3d60",
   "metadata": {
    "ExecuteTime": {
     "end_time": "2021-07-07T23:37:06.778943Z",
     "start_time": "2021-07-07T23:37:06.773941Z"
    }
   },
   "outputs": [],
   "source": [
    "class Jogador:\n",
    "    # criando o método construtor\n",
    "    def __init__(self, nome):\n",
    "        # cria uma variável (atributo) dentro do objeto sendo criado\n",
    "        # esse atributo recebeu o nome passado como parâmetro\n",
    "        self.nome = nome\n",
    "        # cria outro atributo no objeto sendo criado\n",
    "        # esse atributo não veio como parâmetro, ele sempre começará valendo 0\n",
    "        self.pontuacao = 0\n",
    "\n",
    "    def rolaDado(self):\n",
    "        # sorteia um número de 1 a 6:\n",
    "        dado = random.randrange(1, 7) \n",
    "\n",
    "        # atualiza o atributo \"pontuacao\" do objeto que chamou o método:\n",
    "        self.pontuacao = self.pontuacao + dado"
   ]
  },
  {
   "cell_type": "markdown",
   "id": "a0dfb434",
   "metadata": {},
   "source": [
    "## 2. Objetos"
   ]
  },
  {
   "cell_type": "markdown",
   "id": "67c0c12f",
   "metadata": {},
   "source": [
    "### 2.1. Instanciando objetos"
   ]
  },
  {
   "cell_type": "code",
   "execution_count": 2,
   "id": "cdc59cfa",
   "metadata": {
    "ExecuteTime": {
     "end_time": "2021-07-07T23:37:49.528645Z",
     "start_time": "2021-07-07T23:37:49.522655Z"
    }
   },
   "outputs": [
    {
     "name": "stdout",
     "output_type": "stream",
     "text": [
      "<class '__main__.Jogador'>\n"
     ]
    }
   ],
   "source": [
    "player1 = Jogador('Mario')\n",
    "# vejamos o tipo da \"variável\" (objeto) que criamos:\n",
    "print(type(player1)) "
   ]
  },
  {
   "cell_type": "markdown",
   "id": "66b01bad",
   "metadata": {},
   "source": [
    "### 2.2. Acessando atributos"
   ]
  },
  {
   "cell_type": "code",
   "execution_count": 3,
   "id": "19e3963b",
   "metadata": {
    "ExecuteTime": {
     "end_time": "2021-07-07T23:38:19.544494Z",
     "start_time": "2021-07-07T23:38:19.539493Z"
    }
   },
   "outputs": [
    {
     "name": "stdout",
     "output_type": "stream",
     "text": [
      "Mario\n",
      "0\n"
     ]
    }
   ],
   "source": [
    "print(player1.nome)\n",
    "print(player1.pontuacao)"
   ]
  },
  {
   "cell_type": "code",
   "execution_count": 4,
   "id": "df981e9e",
   "metadata": {
    "ExecuteTime": {
     "end_time": "2021-07-07T23:38:27.647958Z",
     "start_time": "2021-07-07T23:38:27.642950Z"
    }
   },
   "outputs": [
    {
     "name": "stdout",
     "output_type": "stream",
     "text": [
      "Luigi\n"
     ]
    }
   ],
   "source": [
    "player1.nome = 'Luigi'\n",
    "print(player1.nome)"
   ]
  },
  {
   "cell_type": "markdown",
   "id": "a102b4e1",
   "metadata": {},
   "source": [
    "### 2.3. Executando métodos"
   ]
  },
  {
   "cell_type": "code",
   "execution_count": 5,
   "id": "0e3c3a10",
   "metadata": {
    "ExecuteTime": {
     "end_time": "2021-07-07T23:38:45.774427Z",
     "start_time": "2021-07-07T23:38:45.571471Z"
    }
   },
   "outputs": [
    {
     "ename": "NameError",
     "evalue": "name 'random' is not defined",
     "output_type": "error",
     "traceback": [
      "\u001b[1;31m---------------------------------------------------------------------------\u001b[0m",
      "\u001b[1;31mNameError\u001b[0m                                 Traceback (most recent call last)",
      "\u001b[1;32m<ipython-input-5-19ba437a8ac0>\u001b[0m in \u001b[0;36m<module>\u001b[1;34m\u001b[0m\n\u001b[1;32m----> 1\u001b[1;33m \u001b[0mplayer1\u001b[0m\u001b[1;33m.\u001b[0m\u001b[0mrolaDado\u001b[0m\u001b[1;33m(\u001b[0m\u001b[1;33m)\u001b[0m\u001b[1;33m\u001b[0m\u001b[1;33m\u001b[0m\u001b[0m\n\u001b[0m\u001b[0;32m      2\u001b[0m \u001b[0mprint\u001b[0m\u001b[1;33m(\u001b[0m\u001b[0mplayer1\u001b[0m\u001b[1;33m.\u001b[0m\u001b[0mpontuacao\u001b[0m\u001b[1;33m)\u001b[0m\u001b[1;33m\u001b[0m\u001b[1;33m\u001b[0m\u001b[0m\n",
      "\u001b[1;32m<ipython-input-1-51f5178addec>\u001b[0m in \u001b[0;36mrolaDado\u001b[1;34m(self)\u001b[0m\n\u001b[0;32m     11\u001b[0m     \u001b[1;32mdef\u001b[0m \u001b[0mrolaDado\u001b[0m\u001b[1;33m(\u001b[0m\u001b[0mself\u001b[0m\u001b[1;33m)\u001b[0m\u001b[1;33m:\u001b[0m\u001b[1;33m\u001b[0m\u001b[1;33m\u001b[0m\u001b[0m\n\u001b[0;32m     12\u001b[0m         \u001b[1;31m# sorteia um número de 1 a 6:\u001b[0m\u001b[1;33m\u001b[0m\u001b[1;33m\u001b[0m\u001b[1;33m\u001b[0m\u001b[0m\n\u001b[1;32m---> 13\u001b[1;33m         \u001b[0mdado\u001b[0m \u001b[1;33m=\u001b[0m \u001b[0mrandom\u001b[0m\u001b[1;33m.\u001b[0m\u001b[0mrandrange\u001b[0m\u001b[1;33m(\u001b[0m\u001b[1;36m1\u001b[0m\u001b[1;33m,\u001b[0m \u001b[1;36m7\u001b[0m\u001b[1;33m)\u001b[0m\u001b[1;33m\u001b[0m\u001b[1;33m\u001b[0m\u001b[0m\n\u001b[0m\u001b[0;32m     14\u001b[0m \u001b[1;33m\u001b[0m\u001b[0m\n\u001b[0;32m     15\u001b[0m         \u001b[1;31m# atualiza o atributo \"pontuacao\" do objeto que chamou o método:\u001b[0m\u001b[1;33m\u001b[0m\u001b[1;33m\u001b[0m\u001b[1;33m\u001b[0m\u001b[0m\n",
      "\u001b[1;31mNameError\u001b[0m: name 'random' is not defined"
     ]
    }
   ],
   "source": [
    "player1.rolaDado()\n",
    "print(player1.pontuacao)"
   ]
  },
  {
   "cell_type": "code",
   "execution_count": null,
   "id": "4a911ab9",
   "metadata": {},
   "outputs": [],
   "source": []
  }
 ],
 "metadata": {
  "kernelspec": {
   "display_name": "Python 3",
   "language": "python",
   "name": "python3"
  },
  "language_info": {
   "codemirror_mode": {
    "name": "ipython",
    "version": 3
   },
   "file_extension": ".py",
   "mimetype": "text/x-python",
   "name": "python",
   "nbconvert_exporter": "python",
   "pygments_lexer": "ipython3",
   "version": "3.8.10"
  }
 },
 "nbformat": 4,
 "nbformat_minor": 5
}
