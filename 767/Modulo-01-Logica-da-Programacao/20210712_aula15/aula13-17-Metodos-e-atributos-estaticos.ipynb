{
 "cells": [
  {
   "cell_type": "markdown",
   "id": "8bcdb687",
   "metadata": {},
   "source": [
    "# Aula 13\n",
    "\n",
    "## 17.  Métodos e atributos estáticos\n"
   ]
  },
  {
   "cell_type": "markdown",
   "id": "69567d55",
   "metadata": {},
   "source": [
    "## 1. Atributos estáticos"
   ]
  },
  {
   "cell_type": "code",
   "execution_count": 2,
   "id": "494e3d60",
   "metadata": {
    "ExecuteTime": {
     "end_time": "2021-07-12T23:52:59.031332Z",
     "start_time": "2021-07-12T23:52:59.025327Z"
    }
   },
   "outputs": [
    {
     "name": "stdout",
     "output_type": "stream",
     "text": [
      "População atual:  2\n"
     ]
    }
   ],
   "source": [
    "class Pessoa:\n",
    "    # criando um atributo estático\n",
    "    populacao = 0\n",
    "\n",
    "    def __init__(self, nome, cpf):\n",
    "        self.nome = nome\n",
    "        self.cpf =  cpf\n",
    "        # o __init__ é chamado quando uma Pessoa nova é criada...\n",
    "        # ...portanto, vamos atualizar nossa populacao sempre que alguém for criado!\n",
    "        Pessoa.populacao = Pessoa.populacao + 1\n",
    "\n",
    "maisVelho = Pessoa('Mario', 12345678901)\n",
    "maisNovo = Pessoa('Luigi', 98765432109)\n",
    "\n",
    "# Note que para acessar o atributo estático, não referenciamos um objeto, e sim a classe!\n",
    "print('População atual: ', Pessoa.populacao)"
   ]
  },
  {
   "cell_type": "code",
   "execution_count": 4,
   "id": "78fbf3f6",
   "metadata": {
    "ExecuteTime": {
     "end_time": "2021-07-12T23:54:26.246379Z",
     "start_time": "2021-07-12T23:54:26.240377Z"
    }
   },
   "outputs": [
    {
     "name": "stdout",
     "output_type": "stream",
     "text": [
      "População atual:  5\n"
     ]
    }
   ],
   "source": [
    "p1 = Pessoa('p1', 123456789)\n",
    "p2 = Pessoa('p2', 123456789)\n",
    "print('População atual: ', Pessoa.populacao)"
   ]
  },
  {
   "cell_type": "markdown",
   "id": "684f86d0",
   "metadata": {},
   "source": [
    "## 2. Métodos estáticos"
   ]
  },
  {
   "cell_type": "code",
   "execution_count": 5,
   "id": "f22abf4e",
   "metadata": {
    "ExecuteTime": {
     "end_time": "2021-07-12T23:55:38.760891Z",
     "start_time": "2021-07-12T23:55:38.754894Z"
    }
   },
   "outputs": [
    {
     "ename": "IndentationError",
     "evalue": "unexpected indent (<ipython-input-5-2202c76f8033>, line 2)",
     "output_type": "error",
     "traceback": [
      "\u001b[1;36m  File \u001b[1;32m\"<ipython-input-5-2202c76f8033>\"\u001b[1;36m, line \u001b[1;32m2\u001b[0m\n\u001b[1;33m    def popTotal():\u001b[0m\n\u001b[1;37m    ^\u001b[0m\n\u001b[1;31mIndentationError\u001b[0m\u001b[1;31m:\u001b[0m unexpected indent\n"
     ]
    }
   ],
   "source": [
    "@staticmethod\n",
    "    def popTotal():\n",
    "        print('População total:', Pessoa.populacao)"
   ]
  },
  {
   "cell_type": "code",
   "execution_count": 8,
   "id": "7246f9ab",
   "metadata": {
    "ExecuteTime": {
     "end_time": "2021-07-13T00:02:39.903676Z",
     "start_time": "2021-07-13T00:02:39.899676Z"
    }
   },
   "outputs": [
    {
     "name": "stdout",
     "output_type": "stream",
     "text": [
      "População atual:  2\n"
     ]
    }
   ],
   "source": [
    "class Pessoa:\n",
    "    # criando um atributo estático\n",
    "    populacao = 0\n",
    "\n",
    "    def __init__(self, nome, cpf):\n",
    "        self.nome = nome\n",
    "        self.cpf =  cpf\n",
    "        # o __init__ é chamado quando uma Pessoa nova é criada...\n",
    "        # ...portanto, vamos atualizar nossa populacao sempre que alguém for criado!\n",
    "        Pessoa.populacao = Pessoa.populacao + 1\n",
    "\n",
    "    @staticmethod\n",
    "    def popTotal():\n",
    "        print('População total:', Pessoa.populacao)\n",
    "        \n",
    "maisVelho = Pessoa('Mario', 12345678901)\n",
    "maisNovo = Pessoa('Luigi', 98765432109)\n",
    "\n",
    "# Note que para acessar o atributo estático, não referenciamos um objeto, e sim a classe!\n",
    "print('População atual: ', Pessoa.populacao)"
   ]
  },
  {
   "cell_type": "code",
   "execution_count": 11,
   "id": "35eac4ad",
   "metadata": {
    "ExecuteTime": {
     "end_time": "2021-07-13T00:03:53.245450Z",
     "start_time": "2021-07-13T00:03:53.240491Z"
    }
   },
   "outputs": [
    {
     "name": "stdout",
     "output_type": "stream",
     "text": [
      "População total: 2\n"
     ]
    }
   ],
   "source": [
    "Pessoa.popTotal()"
   ]
  },
  {
   "cell_type": "code",
   "execution_count": 10,
   "id": "e08f8095",
   "metadata": {
    "ExecuteTime": {
     "end_time": "2021-07-13T00:03:51.387822Z",
     "start_time": "2021-07-13T00:03:51.384820Z"
    }
   },
   "outputs": [],
   "source": [
    "del maisVelho\n",
    "del maisNovo"
   ]
  },
  {
   "cell_type": "code",
   "execution_count": null,
   "id": "85507945",
   "metadata": {},
   "outputs": [],
   "source": []
  }
 ],
 "metadata": {
  "kernelspec": {
   "display_name": "Python 3",
   "language": "python",
   "name": "python3"
  },
  "language_info": {
   "codemirror_mode": {
    "name": "ipython",
    "version": 3
   },
   "file_extension": ".py",
   "mimetype": "text/x-python",
   "name": "python",
   "nbconvert_exporter": "python",
   "pygments_lexer": "ipython3",
   "version": "3.8.10"
  }
 },
 "nbformat": 4,
 "nbformat_minor": 5
}
