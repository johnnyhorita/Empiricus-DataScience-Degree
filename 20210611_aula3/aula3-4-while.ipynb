{
 "cells": [
  {
   "cell_type": "markdown",
   "id": "5bd880f4",
   "metadata": {},
   "source": [
    "# Lógica da Programação\n",
    "\n",
    "## 4 - LC | While"
   ]
  },
  {
   "cell_type": "code",
   "execution_count": 16,
   "id": "d4cffbbf",
   "metadata": {},
   "outputs": [
    {
     "name": "stdout",
     "output_type": "stream",
     "text": [
      "Digite um número: 5\n",
      "imprime: 1 2 3 4 5 \n"
     ]
    }
   ],
   "source": [
    "# Questão 1\n",
    "# Faça um programa que peça ao usuário um número e imprima todos os números de um até o número dado.\n",
    "# Exemplo:\n",
    "# digite: 5\n",
    "# imprime: 1 2 3 4 5\n",
    "\n",
    "number = int(input('Digite um número: '))\n",
    "\n",
    "i=1\n",
    "imprime = ''\n",
    "while (i <= number) :\n",
    "    imprime = imprime + str(i) + ' '\n",
    "    i+=1\n",
    "   \n",
    "print('imprime:', imprime)\n",
    "    "
   ]
  },
  {
   "cell_type": "code",
   "execution_count": 109,
   "id": "2823629c",
   "metadata": {},
   "outputs": [
    {
     "name": "stdout",
     "output_type": "stream",
     "text": [
      "Digite um número: 10\n",
      "Calculando 10! = 10 x 9 x 8 x 7 x 6 x 5 x 4 x 3 x 2 x 1 = 3628800\n"
     ]
    }
   ],
   "source": [
    "# Questão 2\n",
    "# Peça ao usuário para digitar um número e imprima o fatorial de n.\n",
    "\n",
    "number = int(input('Digite um número: '))\n",
    "i = number\n",
    "fatorial = 1\n",
    "print('Calculando {}! = '.format(i), end='')\n",
    "while (i > 0) :\n",
    "    print('{}'.format(i), end='')\n",
    "    print(' x ' if i > 1 else ' = ', end='')\n",
    "    fatorial *= i\n",
    "    i -=1\n",
    "print(fatorial)"
   ]
  },
  {
   "cell_type": "code",
   "execution_count": 18,
   "id": "d19261be",
   "metadata": {},
   "outputs": [
    {
     "name": "stdout",
     "output_type": "stream",
     "text": [
      "Digite um número: 5\n",
      "Soma: 15\n"
     ]
    }
   ],
   "source": [
    "# Questão 3\n",
    "# Peça ao usuário para digitar um número N e some todos os números de 1 a N utilizando o laço de repetição while.\n",
    "\n",
    "number = int(input('Digite um número: '))\n",
    "\n",
    "calc = 0\n",
    "i=1\n",
    "while (i <= number) :\n",
    "    calc = calc + i\n",
    "    i+=1\n",
    "   \n",
    "print('Soma:', calc)\n"
   ]
  },
  {
   "cell_type": "code",
   "execution_count": 15,
   "id": "2dd0f67d",
   "metadata": {},
   "outputs": [
    {
     "name": "stdout",
     "output_type": "stream",
     "text": [
      "9 x 1 = 9\n",
      "9 x 2 = 18\n",
      "9 x 3 = 27\n",
      "9 x 4 = 36\n",
      "9 x 5 = 45\n",
      "9 x 6 = 54\n",
      "9 x 7 = 63\n",
      "9 x 8 = 72\n",
      "9 x 9 = 81\n",
      "9 x 10 = 90\n"
     ]
    }
   ],
   "source": [
    "# Questão 4\n",
    "# Faça um programa que imprima a tabuada do 9 (de 9*1 a 9*10) usando loops.\n",
    "\n",
    "calc = 1\n",
    "i=1\n",
    "while (i <= 10) :\n",
    "    calc = (9 * i)\n",
    "    print('9 x', i, '=', calc)\n",
    "    i+=1"
   ]
  },
  {
   "cell_type": "code",
   "execution_count": 30,
   "id": "28007a32",
   "metadata": {},
   "outputs": [
    {
     "name": "stdout",
     "output_type": "stream",
     "text": [
      "Digite um número: 100\n",
      "Divisor: 1\n",
      "Divisor: 2\n",
      "Divisor: 4\n",
      "Divisor: 5\n",
      "Divisor: 10\n",
      "Divisor: 20\n",
      "Divisor: 25\n",
      "Divisor: 50\n",
      "Divisor: 100\n",
      "Quantidade de divisores: 9\n"
     ]
    }
   ],
   "source": [
    "# Questão 5\n",
    "# Faça um programa que recebe um número inteiro do usuário e imprime na tela a quantidade de divisores \n",
    "# desse número e quais são eles.\n",
    "\n",
    "number = int(input('Digite um número: '))\n",
    "soma = 0\n",
    "i=0\n",
    "for divisor in range(1,number+1):\n",
    "    if number % divisor == 0:\n",
    "        i+=1\n",
    "        soma += divisor # soma = soma + divisor\n",
    "        print('Divisor:',divisor)\n",
    "\n",
    "print(\"Quantidade de divisores: %d\" %(i))"
   ]
  },
  {
   "cell_type": "code",
   "execution_count": 43,
   "id": "104154bd",
   "metadata": {},
   "outputs": [
    {
     "name": "stdout",
     "output_type": "stream",
     "text": [
      "Digite um número 1: 1\n",
      "Digite um número 2: 1\n",
      "Digite um número 3: 1\n",
      "Digite um número 4: 0\n",
      "A soma: 3.0\n"
     ]
    }
   ],
   "source": [
    "# Questão 6\n",
    "# Faça um programa, usando loops, que peça para um usuário digitar um número e que só finaliza quando o usuário digitar 0. \n",
    "# Ao final imprima a soma de todos os números digitados.\n",
    "\n",
    "i = 0\n",
    "Running = True\n",
    "total = 0\n",
    "while Running :\n",
    "    i+=1\n",
    "    number = float(input('Digite um número ' + str(i) + ': '))\n",
    "    if (number == 0) :\n",
    "        Running = False\n",
    "    else : \n",
    "        total = total + number\n",
    "\n",
    "print('A soma:', total)\n"
   ]
  },
  {
   "cell_type": "code",
   "execution_count": 53,
   "id": "cdd8178b",
   "metadata": {},
   "outputs": [
    {
     "name": "stdout",
     "output_type": "stream",
     "text": [
      "Adivinhe o número de 0 a 10: 1\n",
      "Errou! Tente novamente!\n",
      "Adivinhe o número de 0 a 10: 2\n",
      "Errou! Tente novamente!\n",
      "Adivinhe o número de 0 a 10: 3\n",
      "Errou! Tente novamente!\n",
      "Adivinhe o número de 0 a 10: 4\n",
      "Errou! Tente novamente!\n",
      "Adivinhe o número de 0 a 10: 5\n",
      "Acertou!\n"
     ]
    }
   ],
   "source": [
    "# Questão 7\n",
    "\n",
    "# Faça um programa que sorteia um número N e peça para o usuário adivinhar o número sorteado. \n",
    "# A cada resposta errada, o seu programa deve imprimir um aviso dizendo que a resposta está errada e \n",
    "# pedir novamente uma resposta ao usuário.\n",
    "# Para a realização desse exercício, utilize alguma função da biblioteca random (e.g. randint()).\n",
    "\n",
    "from random import randrange\n",
    "numrandom = randrange(10)\n",
    "\n",
    "while (numrandom != number) :\n",
    "    i+=1\n",
    "    number = int(input('Adivinhe o número de 0 a 10: '))\n",
    "    if (numrandom != number) :\n",
    "        print('Errou! Tente novamente!')\n",
    "print('Acertou!')\n",
    "\n"
   ]
  },
  {
   "cell_type": "code",
   "execution_count": 60,
   "id": "8a0b481c",
   "metadata": {},
   "outputs": [
    {
     "name": "stdout",
     "output_type": "stream",
     "text": [
      "Digite a idade ..............: 150\n",
      "Digite o valor do salário ...: -1\n",
      "Salário inválido! Menor ou igual a 0.\n",
      "Digite o valor do salário ...: 0\n",
      "Salário inválido! Menor ou igual a 0.\n",
      "Digite o valor do salário ...: 1\n",
      "Digite o sexo ...............: \n",
      "Sexo inválido! Opções válidas M, F, Outro\n",
      "Digite o sexo ...............: \n",
      "Sexo inválido! Opções válidas M, F, Outro\n",
      "Digite o sexo ...............: \n",
      "Sexo inválido! Opções válidas M, F, Outro\n",
      "Digite o sexo ...............: \n",
      "Sexo inválido! Opções válidas M, F, Outro\n",
      "Digite o sexo ...............: \n",
      "Sexo inválido! Opções válidas M, F, Outro\n",
      "Digite o sexo ...............: \n",
      "Sexo inválido! Opções válidas M, F, Outro\n",
      "Digite o sexo ...............: \n",
      "Sexo inválido! Opções válidas M, F, Outro\n",
      "Digite o sexo ...............: F\n",
      "\n",
      "Informações:\n",
      "Idade: 150\n",
      "Salário: 1.0\n",
      "Sexo: F\n"
     ]
    }
   ],
   "source": [
    "# Questão 8\n",
    "\n",
    "# Faça um programa que peça para o usuário digitar a idade, o salário e o sexo de uma pessoa \n",
    "# até que as entradas digitadas sejam válidas.\n",
    "# a. Idade: entre 0 e 150;\n",
    "# b. Salário: maior que 0;\n",
    "# c. Sexo: M, F ou Outro.\n",
    "\n",
    "agebool = True\n",
    "while agebool :\n",
    "    age = int(input('Digite a idade ..............: '))\n",
    "    if (age < 0 or age > 150) :\n",
    "        print('Idade inválida! Menor que 0 ou maior que 150!')\n",
    "    else : \n",
    "        agebool = False\n",
    "\n",
    "salarybool = True\n",
    "while salarybool :\n",
    "    salary = float(input('Digite o valor do salário ...: '))\n",
    "    if (salary <= 0) :\n",
    "        print('Salário inválido! Menor ou igual a 0.')\n",
    "    else :\n",
    "        salarybool = False\n",
    "\n",
    "genderbool = True\n",
    "while genderbool :\n",
    "    gender = (input('Digite o sexo ...............: '))\n",
    "    if (gender not in ('M','F','Outro')) :\n",
    "        print('Sexo inválido! Opções válidas M, F, Outro')\n",
    "    else :\n",
    "        genderbool = False\n",
    "\n",
    "print('\\nInformações:')\n",
    "print('Idade:', age)\n",
    "print('Salário:', salary)\n",
    "print('Sexo:', gender)"
   ]
  },
  {
   "cell_type": "code",
   "execution_count": 2,
   "id": "91f14894",
   "metadata": {},
   "outputs": [
    {
     "name": "stdout",
     "output_type": "stream",
     "text": [
      "2.0\n"
     ]
    }
   ],
   "source": [
    "# Questão 9\n",
    "\n",
    "# Desafio! - Calcule a soma de até mil termos da série 1 + 1/2 + 1/4 + 1/8 + 1/16 + ...\n",
    "# Dica: Use três variáveis:\n",
    "# • um contador, que começa em zero;\n",
    "# • uma variável para a soma de todos os termos, que também começa em zero;\n",
    "# • uma variável para cada termo, que começa em 1 e a cada loop é dividida por 2.\n",
    "# A repetição da soma de mil termos pode ser feita com a função while contador < 1000.\n",
    "\n",
    "i = 1\n",
    "while i <= 1000 :\n",
    "    if (i == 1) :\n",
    "        #print(i)\n",
    "        soma = 1.0\n",
    "        divisor = 1\n",
    "    else :\n",
    "        divisor = divisor * 2\n",
    "        termo = 1/divisor\n",
    "        soma = soma + termo\n",
    "        #print(1,'/',divisor,'=',termo)\n",
    "        #print(soma)\n",
    "    i += 1\n",
    "print(soma)    "
   ]
  },
  {
   "cell_type": "code",
   "execution_count": 131,
   "id": "2a5633a5",
   "metadata": {},
   "outputs": [
    {
     "name": "stdout",
     "output_type": "stream",
     "text": [
      "Utilizando math factorial \n",
      "Resultado:  1.7182818284590455\n",
      "\n",
      "Utilizando laço para calcular o Fatorial \n",
      "Resultado:  1.7182818284590455\n"
     ]
    }
   ],
   "source": [
    "# Questão 10\n",
    "\n",
    "# Super Desafio! - Calcule a soma de mil termos dos inversos dos fatoriais: 1/(1!) + 1/(2!) + 1/(3!) + 1/(4!) + ...\n",
    "# Dica: Assim como no exercício anterior use três variáveis: \n",
    "# um contador; uma variável para a soma; e uma variável para os termos. \n",
    "# Lembre-se de que 4! = 4*3*2*1 que também é igual a 4*3!.\n",
    "\n",
    "# Utilizando biblioteca de Fatorial\n",
    "from math import factorial\n",
    "i = 1\n",
    "soma = 0\n",
    "while i <= 1000 :\n",
    "    fatorial = i\n",
    "    termo = 1/factorial(i)\n",
    "    soma = soma + termo\n",
    "    i +=1\n",
    "print('Utilizando math factorial \\nResultado: ',soma)\n",
    "\n",
    "# Utilizando calculando tradicional de Fatorial\n",
    "i = 1\n",
    "fator = 0\n",
    "soma = 0\n",
    "while i <= 1000 :\n",
    "    fator = i\n",
    "    fatorial = 1\n",
    "    while (fator > 0) :\n",
    "        fatorial *= fator\n",
    "        fator -= 1\n",
    "    termo = 1/fatorial\n",
    "    soma = soma + termo\n",
    "    i +=1\n",
    "print('\\nUtilizando laço para calcular o Fatorial \\nResultado: ',soma)\n",
    "\n"
   ]
  },
  {
   "cell_type": "code",
   "execution_count": null,
   "id": "be1cdcb6",
   "metadata": {},
   "outputs": [],
   "source": []
  }
 ],
 "metadata": {
  "kernelspec": {
   "display_name": "Python 3",
   "language": "python",
   "name": "python3"
  },
  "language_info": {
   "codemirror_mode": {
    "name": "ipython",
    "version": 3
   },
   "file_extension": ".py",
   "mimetype": "text/x-python",
   "name": "python",
   "nbconvert_exporter": "python",
   "pygments_lexer": "ipython3",
   "version": "3.8.10"
  }
 },
 "nbformat": 4,
 "nbformat_minor": 5
}
