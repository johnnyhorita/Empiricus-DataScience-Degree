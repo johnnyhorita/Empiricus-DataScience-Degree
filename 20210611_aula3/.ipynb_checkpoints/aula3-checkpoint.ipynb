{
 "cells": [
  {
   "cell_type": "markdown",
   "id": "8bcdb687",
   "metadata": {},
   "source": [
    "# Aula 3\n",
    "\n",
    "## 3.  Expressões condicionais \n"
   ]
  },
  {
   "cell_type": "markdown",
   "id": "68b6bbea",
   "metadata": {},
   "source": [
    "### 1.1. Se"
   ]
  },
  {
   "cell_type": "code",
   "execution_count": null,
   "id": "494e3d60",
   "metadata": {},
   "outputs": [],
   "source": [
    "nota1 = float(input('Digite a nota 1: '))\n",
    "nota2 = float(input('Digite a noat 2: '))\n",
    "\n",
    "media = (nota1 + nota2)/2\n",
    "\n",
    "if media >= 6.0:\n",
    "    print('Aprovado')\n",
    "print('Média: ', media)"
   ]
  },
  {
   "cell_type": "markdown",
   "id": "a43c408f",
   "metadata": {},
   "source": [
    "### 1.2. Senão"
   ]
  },
  {
   "cell_type": "code",
   "execution_count": null,
   "id": "0b97a363",
   "metadata": {},
   "outputs": [],
   "source": [
    "nota1 = float(input('Digite a nota 1: '))\n",
    "nota2 = float(input('Digite a noat 2: '))\n",
    "\n",
    "media = (nota1 + nota2)/2\n",
    "\n",
    "if media >= 6.0:\n",
    "    print('Aprovado')\n",
    "if media < 6.0:\n",
    "    print('Reprovado')\n",
    "\n",
    "print('Média: ', media)"
   ]
  },
  {
   "cell_type": "code",
   "execution_count": null,
   "id": "cdc59cfa",
   "metadata": {},
   "outputs": [],
   "source": [
    "nota1 = float(input('Digite a nota 1: '))\n",
    "nota2 = float(input('Digite a noat 2: '))\n",
    "\n",
    "media = (nota1 + nota2)/2\n",
    "\n",
    "if media >= 6.0:\n",
    "    print('Aprovado')\n",
    "else:\n",
    "    print('Reprovado')\n",
    "\n",
    "print('Média: ', media)"
   ]
  },
  {
   "cell_type": "markdown",
   "id": "4e7c1589",
   "metadata": {},
   "source": [
    "### 1.3. Aninhando condições"
   ]
  },
  {
   "cell_type": "code",
   "execution_count": null,
   "id": "19e3963b",
   "metadata": {},
   "outputs": [],
   "source": [
    "nota1 = float(input('Digite a nota 1: '))\n",
    "nota2 = float(input('Digite a noat 2: '))\n",
    "\n",
    "media = (nota1 + nota2)/2\n",
    "\n",
    "if media >= 6.0:\n",
    "    print('Aprovado')\n",
    "else:\n",
    "    if media >= 3.0:\n",
    "        print('Recuperação')\n",
    "    else:\n",
    "        print('Reprovado')\n",
    "\n",
    "print('Média: ', media)"
   ]
  },
  {
   "cell_type": "markdown",
   "id": "6fa6539f",
   "metadata": {},
   "source": [
    "### 1.4. Senão-se"
   ]
  },
  {
   "cell_type": "code",
   "execution_count": null,
   "id": "9035e6e7",
   "metadata": {},
   "outputs": [],
   "source": [
    "nota1 = float(input('Digite a nota 1: '))\n",
    "nota2 = float(input('Digite a noat 2: '))\n",
    "\n",
    "media = (nota1 + nota2)/2\n",
    "\n",
    "if media >= 6.0:\n",
    "    print('Aprovado')\n",
    "elif media >= 3.0:\n",
    "    print('Recuperação')\n",
    "else:\n",
    "    print('Reprovado')\n",
    "\n",
    "print('Média: ', media)"
   ]
  },
  {
   "cell_type": "markdown",
   "id": "da3b0d2f",
   "metadata": {},
   "source": [
    "## 4. Malhas de repetição"
   ]
  },
  {
   "cell_type": "code",
   "execution_count": null,
   "id": "d846f8fa",
   "metadata": {},
   "outputs": [],
   "source": [
    "idade = int(input('Digite a idade: '))\n",
    "\n",
    "if idade < 0 or idade > 150:\n",
    "    print('Erro')"
   ]
  },
  {
   "cell_type": "markdown",
   "id": "db23ff38",
   "metadata": {},
   "source": [
    "### 1.1. Enquanto"
   ]
  },
  {
   "cell_type": "code",
   "execution_count": null,
   "id": "56a7495f",
   "metadata": {},
   "outputs": [],
   "source": [
    "idade = int(input('Digite a idade: '))\n",
    "\n",
    "while idade < 0 or idade > 150:\n",
    "    print('Erro! Idade deve estar entre 0 e 150!')\n",
    "    idade = int(input('Digite a idade: '))\n",
    "\n",
    "print('Obrigado!')"
   ]
  },
  {
   "cell_type": "markdown",
   "id": "b6db42b2",
   "metadata": {},
   "source": [
    "### 1.2. Condição de parada"
   ]
  },
  {
   "cell_type": "code",
   "execution_count": null,
   "id": "3b711b5b",
   "metadata": {},
   "outputs": [],
   "source": [
    "idade = int(input('Digite a idade: '))\n",
    "\n",
    "while idade < 0 or idade > 150:\n",
    "    print('Erro! Idade deve estar entre 0 e 150!')    \n",
    "print('Obrigado!')"
   ]
  },
  {
   "cell_type": "markdown",
   "id": "6378df3f",
   "metadata": {},
   "source": [
    "### 1.3. Sequências numéricas"
   ]
  },
  {
   "cell_type": "code",
   "execution_count": null,
   "id": "35b9d9c0",
   "metadata": {},
   "outputs": [],
   "source": [
    "x = 5\n",
    "x = x + 1\n",
    "print(x)"
   ]
  },
  {
   "cell_type": "code",
   "execution_count": null,
   "id": "8628bdc1",
   "metadata": {},
   "outputs": [],
   "source": [
    "final = int(input('Digite o valor final da sequência: '))\n",
    "numero = 1\n",
    "\n",
    "while numero <= final:\n",
    "    print(numero)\n",
    "    numero = numero + 1"
   ]
  },
  {
   "cell_type": "markdown",
   "id": "144f3da6",
   "metadata": {},
   "source": [
    "## 5. Malhas de repetição com contador"
   ]
  },
  {
   "cell_type": "code",
   "execution_count": 2,
   "id": "7ffc0171",
   "metadata": {},
   "outputs": [
    {
     "name": "stdout",
     "output_type": "stream",
     "text": [
      "0\n",
      "2\n",
      "4\n",
      "6\n",
      "8\n",
      "10\n",
      "12\n",
      "14\n",
      "16\n",
      "18\n",
      "20\n",
      "22\n",
      "24\n",
      "26\n",
      "28\n",
      "30\n",
      "32\n",
      "34\n",
      "36\n",
      "38\n",
      "40\n",
      "42\n",
      "44\n",
      "46\n",
      "48\n",
      "50\n",
      "52\n",
      "54\n",
      "56\n",
      "58\n",
      "60\n",
      "62\n",
      "64\n",
      "66\n",
      "68\n",
      "70\n",
      "72\n",
      "74\n",
      "76\n",
      "78\n",
      "80\n",
      "82\n",
      "84\n",
      "86\n",
      "88\n",
      "90\n",
      "92\n",
      "94\n",
      "96\n",
      "98\n"
     ]
    }
   ],
   "source": [
    "contador = 0\n",
    "while contador < 100:\n",
    "    print(contador)\n",
    "    contador = contador + 2"
   ]
  },
  {
   "cell_type": "markdown",
   "id": "83df40f2",
   "metadata": {},
   "source": [
    "### 1.1 Loops do tipo \"para\""
   ]
  },
  {
   "cell_type": "code",
   "execution_count": null,
   "id": "3dd0a6d8",
   "metadata": {},
   "outputs": [],
   "source": [
    "for contador in range(10):\n",
    "    print(contador)"
   ]
  },
  {
   "cell_type": "markdown",
   "id": "be38b729",
   "metadata": {},
   "source": [
    "### 1.2 Parâmetros do range"
   ]
  },
  {
   "cell_type": "code",
   "execution_count": null,
   "id": "e47d4c32",
   "metadata": {},
   "outputs": [],
   "source": [
    "for contador in range(1, 10):\n",
    "    print(contador)"
   ]
  },
  {
   "cell_type": "code",
   "execution_count": null,
   "id": "f704866f",
   "metadata": {},
   "outputs": [],
   "source": [
    "for contador in range(0, 100, 2):\n",
    "    print(contador)"
   ]
  },
  {
   "cell_type": "code",
   "execution_count": null,
   "id": "70df5ade",
   "metadata": {},
   "outputs": [],
   "source": [
    "for contador in range(20, 0, -1):\n",
    "    print(contador)"
   ]
  },
  {
   "cell_type": "code",
   "execution_count": null,
   "id": "61f8b6ff",
   "metadata": {},
   "outputs": [],
   "source": []
  }
 ],
 "metadata": {
  "kernelspec": {
   "display_name": "Python 3",
   "language": "python",
   "name": "python3"
  },
  "language_info": {
   "codemirror_mode": {
    "name": "ipython",
    "version": 3
   },
   "file_extension": ".py",
   "mimetype": "text/x-python",
   "name": "python",
   "nbconvert_exporter": "python",
   "pygments_lexer": "ipython3",
   "version": "3.8.10"
  }
 },
 "nbformat": 4,
 "nbformat_minor": 5
}
