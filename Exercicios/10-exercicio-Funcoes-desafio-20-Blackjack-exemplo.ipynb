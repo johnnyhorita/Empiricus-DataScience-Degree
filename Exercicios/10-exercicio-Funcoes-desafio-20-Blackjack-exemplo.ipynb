{
 "cells": [
  {
   "cell_type": "code",
   "execution_count": 1,
   "id": "bd924654",
   "metadata": {
    "ExecuteTime": {
     "end_time": "2021-07-26T23:34:14.305998Z",
     "start_time": "2021-07-26T23:34:14.301001Z"
    }
   },
   "outputs": [],
   "source": [
    "def criarBaralho():\n",
    "    cartas = ['A','2','3','4','5','6','7','8','9','J','Q','K']\n",
    "    pontos = [1,2,3,4,5,6,7,8,9,10,10,10]\n",
    "    baralho = [carta+'_'+naipe+'_'+str(pontos[cartas.index(carta)]) for naipe in ['ouros','espadas','copas','paus'] for carta in cartas]\n",
    "    return baralho;\n"
   ]
  },
  {
   "cell_type": "code",
   "execution_count": 2,
   "id": "35858be5",
   "metadata": {
    "ExecuteTime": {
     "end_time": "2021-07-26T23:34:23.445614Z",
     "start_time": "2021-07-26T23:34:23.436578Z"
    }
   },
   "outputs": [
    {
     "data": {
      "text/plain": [
       "['A_ouros_1',\n",
       " '2_ouros_2',\n",
       " '3_ouros_3',\n",
       " '4_ouros_4',\n",
       " '5_ouros_5',\n",
       " '6_ouros_6',\n",
       " '7_ouros_7',\n",
       " '8_ouros_8',\n",
       " '9_ouros_9',\n",
       " 'J_ouros_10',\n",
       " 'Q_ouros_10',\n",
       " 'K_ouros_10',\n",
       " 'A_espadas_1',\n",
       " '2_espadas_2',\n",
       " '3_espadas_3',\n",
       " '4_espadas_4',\n",
       " '5_espadas_5',\n",
       " '6_espadas_6',\n",
       " '7_espadas_7',\n",
       " '8_espadas_8',\n",
       " '9_espadas_9',\n",
       " 'J_espadas_10',\n",
       " 'Q_espadas_10',\n",
       " 'K_espadas_10',\n",
       " 'A_copas_1',\n",
       " '2_copas_2',\n",
       " '3_copas_3',\n",
       " '4_copas_4',\n",
       " '5_copas_5',\n",
       " '6_copas_6',\n",
       " '7_copas_7',\n",
       " '8_copas_8',\n",
       " '9_copas_9',\n",
       " 'J_copas_10',\n",
       " 'Q_copas_10',\n",
       " 'K_copas_10',\n",
       " 'A_paus_1',\n",
       " '2_paus_2',\n",
       " '3_paus_3',\n",
       " '4_paus_4',\n",
       " '5_paus_5',\n",
       " '6_paus_6',\n",
       " '7_paus_7',\n",
       " '8_paus_8',\n",
       " '9_paus_9',\n",
       " 'J_paus_10',\n",
       " 'Q_paus_10',\n",
       " 'K_paus_10']"
      ]
     },
     "execution_count": 2,
     "metadata": {},
     "output_type": "execute_result"
    }
   ],
   "source": [
    "criarBaralho()"
   ]
  },
  {
   "cell_type": "code",
   "execution_count": null,
   "id": "e1ae6dc5",
   "metadata": {},
   "outputs": [],
   "source": []
  }
 ],
 "metadata": {
  "kernelspec": {
   "display_name": "Python 3",
   "language": "python",
   "name": "python3"
  },
  "language_info": {
   "codemirror_mode": {
    "name": "ipython",
    "version": 3
   },
   "file_extension": ".py",
   "mimetype": "text/x-python",
   "name": "python",
   "nbconvert_exporter": "python",
   "pygments_lexer": "ipython3",
   "version": "3.8.10"
  }
 },
 "nbformat": 4,
 "nbformat_minor": 5
}
