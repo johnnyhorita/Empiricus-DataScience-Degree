{
 "cells": [
  {
   "cell_type": "markdown",
   "id": "5bd880f4",
   "metadata": {},
   "source": [
    "# Lógica da Programação\n",
    "\n",
    "## 10 - LC | Funções"
   ]
  },
  {
   "cell_type": "code",
   "execution_count": 1,
   "id": "d4cffbbf",
   "metadata": {},
   "outputs": [
    {
     "name": "stdout",
     "output_type": "stream",
     "text": [
      "Dobro de 50 : 100\n"
     ]
    }
   ],
   "source": [
    "# Questão 1\n",
    "# Faça uma função que recebe um número e imprime seu dobro.\n",
    "\n",
    "def dobro(num):\n",
    "    num *= 2\n",
    "    return num\n",
    "\n",
    "vlr = 50\n",
    "print('Dobro de', vlr,':', dobro(vlr))\n",
    "    "
   ]
  },
  {
   "cell_type": "code",
   "execution_count": 2,
   "id": "c1839caf",
   "metadata": {},
   "outputs": [],
   "source": [
    "# Resposta sugerida\n"
   ]
  },
  {
   "cell_type": "code",
   "execution_count": 3,
   "id": "2823629c",
   "metadata": {},
   "outputs": [
    {
     "name": "stdout",
     "output_type": "stream",
     "text": [
      "Comprimento de sua circunferência: 314.0\n"
     ]
    }
   ],
   "source": [
    "# Questão 2\n",
    "# Faça uma função que recebe o valor do raio de um círculo e retorna o valor do comprimento de sua circunferência: C = 2*pi*r.\n",
    "\n",
    "def compcirculo(r):\n",
    "    pi = 3.14\n",
    "    c = 2*pi*r\n",
    "    return c\n",
    "\n",
    "print('Comprimento de sua circunferência:', compcirculo(50))\n"
   ]
  },
  {
   "cell_type": "code",
   "execution_count": 4,
   "id": "e3af6f76",
   "metadata": {},
   "outputs": [],
   "source": [
    "# Resposta sugerida\n"
   ]
  },
  {
   "cell_type": "code",
   "execution_count": 5,
   "id": "d19261be",
   "metadata": {},
   "outputs": [
    {
     "name": "stdout",
     "output_type": "stream",
     "text": [
      "Soma: 35\n",
      "Subt: 25\n",
      "Mult: 150\n",
      "Div: 6.0\n"
     ]
    }
   ],
   "source": [
    "# Questão 3\n",
    "# Faça uma função para cada operação matemática básica (soma, subtração, multiplicação e divisão). \n",
    "# As funções devem receber dois números e retornar o resultado da operação.\n",
    "\n",
    "def soma(num1, num2):\n",
    "    num = num1 + num2\n",
    "    return num\n",
    "\n",
    "def subt(num1, num2):\n",
    "    num = num1 - num2\n",
    "    return num\n",
    "\n",
    "def mult(num1, num2):\n",
    "    num = num1 * num2\n",
    "    return num\n",
    "\n",
    "def div(num1, num2):\n",
    "    num = num1 / num2\n",
    "    return num\n",
    "\n",
    "num1 = 30\n",
    "num2 = 5\n",
    "\n",
    "print('Soma:', soma(num1, num2))\n",
    "print('Subt:', subt(num1, num2))\n",
    "print('Mult:', mult(num1, num2))\n",
    "print('Div:', div(num1, num2))\n"
   ]
  },
  {
   "cell_type": "code",
   "execution_count": 6,
   "id": "81991020",
   "metadata": {},
   "outputs": [],
   "source": [
    "# Resposta sugerida\n"
   ]
  },
  {
   "cell_type": "code",
   "execution_count": 7,
   "id": "2dd0f67d",
   "metadata": {},
   "outputs": [
    {
     "name": "stdout",
     "output_type": "stream",
     "text": [
      "Olá, Johnny\n"
     ]
    }
   ],
   "source": [
    "# Questão 4\n",
    "# Faça uma função que recebe um nome e imprime “olá, [nome]”.\n",
    "\n",
    "def ola(nome):\n",
    "    print('Olá,', nome) \n",
    "    \n",
    "ola('Johnny')\n"
   ]
  },
  {
   "cell_type": "code",
   "execution_count": 8,
   "id": "adcee7da",
   "metadata": {},
   "outputs": [],
   "source": [
    "# Resposta sugerida\n"
   ]
  },
  {
   "cell_type": "code",
   "execution_count": 9,
   "id": "28007a32",
   "metadata": {},
   "outputs": [
    {
     "name": "stdout",
     "output_type": "stream",
     "text": [
      "Boa noite Johnny\n",
      "Bom dia Johnny\n",
      "Boa tarde Hideki\n",
      "Boa noite Horita\n"
     ]
    }
   ],
   "source": [
    "# Questão 5\n",
    "# Faça uma função que recebe um nome e um horário e imprime \n",
    "# “Bom dia, [nome]”, caso seja antes de 12h, \n",
    "# “Boa Tarde, [nome]”, caso seja entre 12h e 18h e \n",
    "# “Boa noite, [nome]” se for após às 18h.\n",
    "\n",
    "from datetime import datetime\n",
    "\n",
    "def todayAt (nome, timeNow):\n",
    "    if timeNow.hour < 12:\n",
    "        print(\"Bom dia\", nome)\n",
    "    elif timeNow.hour >= 12 and timeNow.hour <= 18:\n",
    "        print(\"Boa tarde\", nome)\n",
    "    else:\n",
    "        print(\"Boa noite\", nome)\n",
    "\n",
    "todayAt(\"Johnny\", datetime.now())\n",
    "todayAt(\"Johnny\", datetime.fromisoformat(\"2021-06-27 11:59:00\"))\n",
    "todayAt(\"Hideki\", datetime.fromisoformat(\"2021-06-27 14:00:00\"))\n",
    "todayAt(\"Horita\", datetime.fromisoformat(\"2021-06-27 19:00:00\"))\n"
   ]
  },
  {
   "cell_type": "code",
   "execution_count": 10,
   "id": "2739b413",
   "metadata": {},
   "outputs": [],
   "source": [
    "# Resposta sugerida\n"
   ]
  },
  {
   "cell_type": "code",
   "execution_count": 11,
   "id": "104154bd",
   "metadata": {},
   "outputs": [
    {
     "name": "stdout",
     "output_type": "stream",
     "text": [
      "É impar!\n"
     ]
    }
   ],
   "source": [
    "# Questão 6\n",
    "# Faça uma função que recebe um número e retorna True se ele é par ou False, se ele é ímpar.\n",
    "\n",
    "def ehpar(number):\n",
    "    if number % 2 == 0:\n",
    "        return True\n",
    "    else:\n",
    "        return False\n",
    "\n",
    "if ehpar(13):\n",
    "    print(\"É par!\")\n",
    "else:\n",
    "    print(\"É impar!\")"
   ]
  },
  {
   "cell_type": "code",
   "execution_count": 12,
   "id": "e1401eaf",
   "metadata": {},
   "outputs": [],
   "source": [
    "# Resposta sugerida\n"
   ]
  },
  {
   "cell_type": "code",
   "execution_count": 14,
   "id": "cdd8178b",
   "metadata": {},
   "outputs": [
    {
     "data": {
      "text/plain": [
       "91"
      ]
     },
     "execution_count": 14,
     "metadata": {},
     "output_type": "execute_result"
    }
   ],
   "source": [
    "# Questão 7\n",
    "\n",
    "# Faça uma função que sorteia 10 números aleatórios entre 0 e 100 e retorna o maior entre eles.\n",
    "import random\n",
    "\n",
    "def randnummax():\n",
    "    numbers=[]\n",
    "    i=1\n",
    "    while (i <= 10):\n",
    "        numrandom = random.randint(0, 100)\n",
    "        if (numrandom not in numbers):\n",
    "            numbers.append(numrandom)\n",
    "            i+=1\n",
    "    numbers.sort(reverse=True)\n",
    "    return numbers[0]\n",
    "\n",
    "randnummax()"
   ]
  },
  {
   "cell_type": "code",
   "execution_count": 15,
   "id": "d7c3677d",
   "metadata": {},
   "outputs": [],
   "source": [
    "# Resposta sugerida\n"
   ]
  },
  {
   "cell_type": "code",
   "execution_count": 20,
   "id": "8a0b481c",
   "metadata": {},
   "outputs": [
    {
     "name": "stdout",
     "output_type": "stream",
     "text": [
      "Digite o numero: 2\n",
      "\n",
      "Lista 2 números aleatórios: [84, 89]\n",
      "Média: 86.5\n"
     ]
    }
   ],
   "source": [
    "# Questão 8\n",
    "\n",
    "# Faça uma função que recebe um número n de entrada, sorteia n números aleatórios entre 0 e 100 e retorna a média deles.\n",
    "\n",
    "import random\n",
    "\n",
    "def randnummed(num):\n",
    "    numbers=[]\n",
    "    i=1\n",
    "    while (i <= num):\n",
    "        numrandom = random.randint(0, 100)\n",
    "        numbers.append(numrandom)\n",
    "        i +=1\n",
    "    print('\\nLista {} números aleatórios: {}'.format(num, numbers))\n",
    "    return (sum(numbers) / len(numbers))\n",
    "\n",
    "numbool = True\n",
    "while numbool:\n",
    "    try:\n",
    "        num = int(input('Digite o numero: '))\n",
    "        print('Média:', randnummed(num))\n",
    "        numbool = False\n",
    "    except:\n",
    "        numbool = True"
   ]
  },
  {
   "cell_type": "code",
   "execution_count": null,
   "id": "47f5113b",
   "metadata": {},
   "outputs": [],
   "source": [
    "# Resposta sugerida\n"
   ]
  },
  {
   "cell_type": "code",
   "execution_count": 28,
   "id": "91f14894",
   "metadata": {},
   "outputs": [
    {
     "data": {
      "text/plain": [
       "['BANANA', 'CEBOLA', 'MAÇÃ', 'ABACAXI', 'MAMÃO', 'AGRIÃO']"
      ]
     },
     "execution_count": 28,
     "metadata": {},
     "output_type": "execute_result"
    }
   ],
   "source": [
    "# Questão 9\n",
    "# Faça uma função que recebe uma lista de palavras e retorna uma lista contendo as mesmas palavras da lista anterior, \n",
    "# porém escritas em caixa alta.\n",
    "\n",
    "def listaupper(list1):\n",
    "    listaupper = [x.upper() for x in list1]\n",
    "    return listaupper\n",
    "    \n",
    "lista = ['Banana','Cebola','Maçã','Abacaxi', 'mamão', 'agrião']\n",
    "listaupper(lista)\n"
   ]
  },
  {
   "cell_type": "code",
   "execution_count": 26,
   "id": "dce30d32",
   "metadata": {},
   "outputs": [],
   "source": [
    "# Resposta sugerida\n"
   ]
  },
  {
   "cell_type": "code",
   "execution_count": 29,
   "id": "057b198d",
   "metadata": {},
   "outputs": [
    {
     "data": {
      "text/plain": [
       "[4, 9, 4]"
      ]
     },
     "execution_count": 29,
     "metadata": {},
     "output_type": "execute_result"
    }
   ],
   "source": [
    "# Questão 10\n",
    "# Faça uma função que recebe duas listas e retorna a soma item a item dessas listas.\n",
    "# Exemplo: Se a função receber as listas [1,4,3] e [3,5,1], então a função deve retornar [1+3, 4+5, 3+1] = [4, 9, 4].\n",
    "\n",
    "def somalista(list1, list2):\n",
    "    lista = [x + y for x, y in zip(list1, list2)]\n",
    "    return lista\n",
    "    \n",
    "somalista([1,4,3], [3,5,1])\n"
   ]
  },
  {
   "cell_type": "code",
   "execution_count": 30,
   "id": "89696fb6",
   "metadata": {},
   "outputs": [],
   "source": [
    "# Resposta sugerida\n"
   ]
  },
  {
   "cell_type": "code",
   "execution_count": 31,
   "id": "d38ffce4",
   "metadata": {},
   "outputs": [
    {
     "data": {
      "text/plain": [
       "[3, 20, 3]"
      ]
     },
     "execution_count": 31,
     "metadata": {},
     "output_type": "execute_result"
    }
   ],
   "source": [
    "# Questão 11\n",
    "# Faça uma função que receba duas listas e retorne o produto item a item dessas listas.\n",
    "# Exemplo: Se a função receber as listas [1,4,3] e [3,5,1], então a função deve retornar [1x3, 4x5, 3x1] = [3, 20, 3].\n",
    "\n",
    "def multlista(list1, list2):\n",
    "    lista = [x * y for x, y in zip(list1, list2)]\n",
    "    return lista\n",
    "    \n",
    "multlista([1,4,3], [3,5,1])\n"
   ]
  },
  {
   "cell_type": "code",
   "execution_count": 32,
   "id": "0ea2cdc6",
   "metadata": {},
   "outputs": [],
   "source": [
    "# Resposta sugerida\n"
   ]
  },
  {
   "cell_type": "code",
   "execution_count": 33,
   "id": "9f5d2e75",
   "metadata": {},
   "outputs": [
    {
     "data": {
      "text/plain": [
       "[15, 25, 5]"
      ]
     },
     "execution_count": 33,
     "metadata": {},
     "output_type": "execute_result"
    }
   ],
   "source": [
    "# Questão 12\n",
    "# Faça uma função que recebe um número x e uma lista numérica e retorna uma lista cujos elementos são os itens \n",
    "# da lista de entrada multiplicado por x.\n",
    "# Exemplo:\n",
    "# Se a função receber o número 5 e a lista [3,5,1], então a função deve retornar [5x3, 5x5, 5x1] = [15, 25, 5].\n",
    "\n",
    "def multlista(n, list1):\n",
    "    lista = [x * n for x in list1]\n",
    "    return lista\n",
    "    \n",
    "multlista(5, [3,5,1])\n"
   ]
  },
  {
   "cell_type": "code",
   "execution_count": 34,
   "id": "42b242ff",
   "metadata": {},
   "outputs": [],
   "source": [
    "# Resposta sugerida\n"
   ]
  },
  {
   "cell_type": "code",
   "execution_count": 38,
   "id": "731b9163",
   "metadata": {},
   "outputs": [
    {
     "data": {
      "text/plain": [
       "9"
      ]
     },
     "execution_count": 38,
     "metadata": {},
     "output_type": "execute_result"
    }
   ],
   "source": [
    "# Questão 13\n",
    "# Faça uma função que recebe uma lista de números e retorna a soma dos elementos dessa lista.\n",
    "\n",
    "def sumlista(lista):\n",
    "    soma = sum(lista)\n",
    "    return (soma)\n",
    "\n",
    "lista = [1,1,1,1,1,1,1,1,1]\n",
    "sumlista(lista)\n"
   ]
  },
  {
   "cell_type": "code",
   "execution_count": 39,
   "id": "5037e80c",
   "metadata": {},
   "outputs": [],
   "source": [
    "# Resposta sugerida\n"
   ]
  },
  {
   "cell_type": "code",
   "execution_count": 43,
   "id": "1dfce4ab",
   "metadata": {},
   "outputs": [
    {
     "data": {
      "text/plain": [
       "50.0"
      ]
     },
     "execution_count": 43,
     "metadata": {},
     "output_type": "execute_result"
    }
   ],
   "source": [
    "# Questão 14\n",
    "# Faça uma função que recebe uma lista de números e retorna a média aritmética dos elementos dessa lista.\n",
    "\n",
    "def medialista(lista):\n",
    "    media = sum(lista) / len(lista)\n",
    "    return (media)\n",
    "\n",
    "lista = [10, 20, 30, 40, 50, 60, 70, 80, 90]\n",
    "medialista(lista)\n"
   ]
  },
  {
   "cell_type": "code",
   "execution_count": null,
   "id": "10e18b1b",
   "metadata": {},
   "outputs": [],
   "source": [
    "# Resposta sugerida\n"
   ]
  },
  {
   "cell_type": "code",
   "execution_count": 2,
   "id": "088225d8",
   "metadata": {},
   "outputs": [
    {
     "name": "stdout",
     "output_type": "stream",
     "text": [
      "Digite o numero: 6\n",
      "Fatorial: 720\n"
     ]
    }
   ],
   "source": [
    "# Questão 15\n",
    "# Desafio 1 - Faça uma função que receba um número e calcule seu fatorial.\n",
    "\n",
    "# Utilizando biblioteca de Fatorial\n",
    "from math import factorial\n",
    "\n",
    "def fatorial(num):\n",
    "    fator = factorial(num)\n",
    "    return fator\n",
    "\n",
    "numbool = True\n",
    "while numbool:\n",
    "    try:\n",
    "        num = int(input('Digite o numero: '))\n",
    "        print('Fatorial:', fatorial(num))\n",
    "        numbool = False\n",
    "    except:\n",
    "        numbool = True"
   ]
  },
  {
   "cell_type": "code",
   "execution_count": 3,
   "id": "a60d6755",
   "metadata": {},
   "outputs": [],
   "source": [
    "# Resposta sugerida\n"
   ]
  },
  {
   "cell_type": "code",
   "execution_count": 110,
   "id": "8a956e4c",
   "metadata": {},
   "outputs": [
    {
     "name": "stdout",
     "output_type": "stream",
     "text": [
      "Digite o numero: 10\n",
      "Fatorial: 3628800\n"
     ]
    }
   ],
   "source": [
    "# Questão 16\n",
    "# Super Desafio! - Repita o exercício anterior usando recursão, ou seja, \n",
    "# uma função que chame ela mesma, lembrando que 3! = 3*2!, que 2! = 2*1!, que 1! = 1*0! e que 0! = 1.\n",
    "\n",
    "# Utilizando biblioteca de Fatorial\n",
    "from math import factorial\n",
    "\n",
    "def fatorial(num):\n",
    "    fator = factorial(num)\n",
    "    return fator\n",
    "\n",
    "numbool = True\n",
    "while numbool:\n",
    "    try:\n",
    "        num = int(input('Digite o numero: '))\n",
    "        print('Fatorial:', fatorial(num))\n",
    "        numbool = False\n",
    "    except:\n",
    "        numbool = True"
   ]
  },
  {
   "cell_type": "code",
   "execution_count": 3,
   "id": "1d7f7f4f",
   "metadata": {},
   "outputs": [],
   "source": [
    "# Resposta sugerida\n"
   ]
  },
  {
   "cell_type": "code",
   "execution_count": 19,
   "id": "15bbcb8b",
   "metadata": {},
   "outputs": [
    {
     "name": "stdout",
     "output_type": "stream",
     "text": [
      "Digite o numero: 10\n",
      "Fatorial: [1, 1, 2, 3, 5, 8, 13, 21, 34, 55]\n"
     ]
    }
   ],
   "source": [
    "# Questão 17\n",
    "# Enunciado\n",
    "# Desafio 3 - A sequência Fibonacci é a sequência cujos dois primeiros termos são 1 e os demais \n",
    "# são obtidos através da soma de seus dois antecessores, isso é:\n",
    "# a. Fibonacci(1) = 1 e Fibonacci(2) = 2;\n",
    "# b. dado qualquer número n >= 3, Fibonacci(n) = Fibonacci(n-1) + Fibonacci(n-2)\n",
    "# Assim, os 10 primeiros termos da sequência Fibonacci são:\n",
    "# 1, 1, 2, 3, 5, 8, 13, 21, 34, 55…\n",
    "\n",
    "def fibonnacci(num):\n",
    "    lista = [1, 1]\n",
    "    for contador in range(2,num):\n",
    "        lista.append(int(lista[len(lista) - 2]) + int(lista[len(lista) - 1]))\n",
    "    return lista\n",
    "\n",
    "numbool = True\n",
    "while numbool:\n",
    "    try:\n",
    "        num = int(input('Digite o numero: '))\n",
    "        print('Fatorial:', fibonnacci(num))\n",
    "        numbool = False\n",
    "    except:\n",
    "        numbool = True\n"
   ]
  },
  {
   "cell_type": "code",
   "execution_count": 3,
   "id": "ff9ad19e",
   "metadata": {},
   "outputs": [],
   "source": [
    "# Resposta sugerida\n"
   ]
  },
  {
   "cell_type": "code",
   "execution_count": 57,
   "id": "1254ff0d",
   "metadata": {},
   "outputs": [
    {
     "name": "stdout",
     "output_type": "stream",
     "text": [
      "Digite idade: \n",
      "Erro: Informação inválida!\n",
      "Digite idade: 30\n",
      "Digite salário: n\n",
      "Erro: Informação inválida!\n",
      "Digite salário: 1.200\n",
      "Digite sexo: o\n"
     ]
    }
   ],
   "source": [
    "# Questão 18\n",
    "\n",
    "# Desafio 2 - Faça uma função que recebe duas entradas: um input dado pelo usuário \n",
    "# e um string que informa o tipo de dado (\"idade\", \"salário\" ou \"sexo\"), \n",
    "# e verifica se os dados digitados foram válidos, usando os seguintes critérios:\n",
    "\n",
    "# a. Idade: entre 0 e 150;\n",
    "# b. Salário: maior que 0;\n",
    "# c. Sexo: M, F ou Outro.\n",
    "\n",
    "def valida(info, tipo):\n",
    "    valida = False\n",
    "    if tipo == 'idade':\n",
    "        if info.isnumeric():\n",
    "            if int(info) >= 0 and int(info) <= 150:\n",
    "                valida = True\n",
    "            else:\n",
    "                print('Erro: Idade menor que 0 ou maior que 150!')\n",
    "        else:\n",
    "            print('Erro: Informação inválida!')\n",
    "            \n",
    "    elif tipo == 'sexo':\n",
    "        if info.upper() in ('M', 'F', 'O', 'OUTRO'):\n",
    "            valida = True\n",
    "        else:\n",
    "            print('Erro: Sexo inválido, digite \"M\", \"F\", \"O\" ou \"Outro\"!')\n",
    "\n",
    "    elif tipo == 'salário':\n",
    "        try:\n",
    "            t = float(info) / 2\n",
    "            if float(info) > 0: \n",
    "                valida = True\n",
    "            else:\n",
    "                print('Erro: Valor inferior ou igual a 0!')\n",
    "        except ValueError:\n",
    "            print('Erro: Informação inválida!')\n",
    "            pass # a informação é um string\n",
    "        \n",
    "    return valida\n",
    "\n",
    "def digita(tipodado):\n",
    "    info = input(\"Digite \" + tipodado + \": \")\n",
    "    return info\n",
    "\n",
    "tipodado = ['idade','salário','sexo']\n",
    "\n",
    "continua = False\n",
    "for tipo in tipodado:\n",
    "    while not continua:\n",
    "        continua = valida(digita(tipo), tipo)\n",
    "    continua = False"
   ]
  },
  {
   "cell_type": "code",
   "execution_count": 58,
   "id": "d3111165",
   "metadata": {},
   "outputs": [],
   "source": [
    "# Resposta sugerida\n"
   ]
  },
  {
   "cell_type": "code",
   "execution_count": null,
   "id": "b329eedb",
   "metadata": {},
   "outputs": [],
   "source": [
    "# Questão 19\n",
    "\n",
    "# Super Desafio! - Refaça o desafio 3 usando recursão.\n",
    "\n",
    "def valida(info, tipo):\n",
    "    valida = False\n",
    "    if tipo == 'idade':\n",
    "        if info.isnumeric():\n",
    "            if int(info) >= 0 and int(info) <= 150:\n",
    "                valida = True\n",
    "            else:\n",
    "                print('Erro: Idade menor que 0 ou maior que 150!')\n",
    "        else:\n",
    "            print('Erro: Informação inválida!')\n",
    "            \n",
    "    elif tipo == 'sexo':\n",
    "        if info.upper() in ('M', 'F', 'O', 'OUTRO'):\n",
    "            valida = True\n",
    "        else:\n",
    "            print('Erro: Sexo inválido, digite \"M\", \"F\", \"O\" ou \"Outro\"!')\n",
    "\n",
    "    elif tipo == 'salário':\n",
    "        try:\n",
    "            t = float(info) / 2\n",
    "            if float(info) > 0: \n",
    "                valida = True\n",
    "            else:\n",
    "                print('Erro: Valor inferior ou igual a 0!')\n",
    "        except ValueError:\n",
    "            print('Erro: Informação inválida!')\n",
    "            pass # a informação é um string\n",
    "        \n",
    "    return valida\n",
    "\n",
    "def digita(tipodado):\n",
    "    info = input(\"Digite \" + tipodado + \": \")\n",
    "    return info\n",
    "\n",
    "tipodado = ['idade','salário','sexo']\n",
    "\n",
    "continua = False\n",
    "for tipo in tipodado:\n",
    "    while not continua:\n",
    "        continua = valida(digita(tipo), tipo)\n",
    "    continua = False\n",
    "    "
   ]
  },
  {
   "cell_type": "code",
   "execution_count": 59,
   "id": "1f0a0d31",
   "metadata": {},
   "outputs": [],
   "source": [
    "# Resposta sugerida\n"
   ]
  },
  {
   "cell_type": "code",
   "execution_count": 111,
   "id": "eaf0ba84",
   "metadata": {},
   "outputs": [],
   "source": [
    "# Questão 20\n",
    "\n",
    "# Super Desafio! - Faça um jogo de BlackJack usando funções: o BlackJack, ou Vinte e Um, \n",
    "# é um jogo em que os jogadores podem comprar cartas livremente, enquanto tiverem menos de 21 pontos. \n",
    "# No nosso jogo, o Ás vale um ponto; \n",
    "# as cartas de 2 a 10 valem o número de pontos que elas representam; \n",
    "# e Valete, Dama e Rei valem 10 pontos cada. \n",
    "# Ganha o jogador que tiver o maior número de pontos, desde que este seja menor ou igual a 21. \n",
    "# Nosso jogo deve ter as seguintes funções:\n",
    "\n",
    "# a. Função principal: a função que vamos chamar para iniciar o jogo. \n",
    "# Essa função não irá receber nem retornar nenhuma variável. \n",
    "# Ela deve perguntar o número de jogadores participantes e o nome de cada um. \n",
    "# Em seguida ela chama as outras funções do jogo.\n",
    "\n",
    "# b. Função para criar o baralho: essa função deve criar um baralho (uma lista) com as cartas do baralho.\n",
    "\n",
    "# c. Função para a jogada: essa função deve receber o nome do jogador que irá realizar a jogada e, \n",
    "# caso ele ainda esteja ativo (tenha menos de 21 pontos e ainda não tenha desistido de comprar cartas) \n",
    "# deve perguntar se ele quer comprar uma carta. \n",
    "# Se ele responder que sim, a função deve chamar a próxima função para sortear uma carta e somar o valor retornado na pontuação \n",
    "# do jogador; \n",
    "# se ele responder que não, a função deve desativar o jogador para que ele não possa mais comprar cartas; \n",
    "# Essa função só deve ser chamada enquanto houver jogadores ativos.\n",
    "\n",
    "# d. Função para o sorteio: essa função retira uma carta aleatória do baralho e retorna o número de pontos que essa carta vale.\n",
    "\n",
    "# e. Função verificação: verifica e indica qual/quais jogador/jogadores tem o maior número de pontos, \n",
    "# que seja menor ou igual a 21.\n",
    "\n",
    "\n"
   ]
  },
  {
   "cell_type": "code",
   "execution_count": 1,
   "id": "5bf38543",
   "metadata": {},
   "outputs": [
    {
     "name": "stdout",
     "output_type": "stream",
     "text": [
      "Informação inválida! Digite um valor numérico.\n",
      "\n",
      "Informação inválida! Digite um valor numérico.\n",
      "\n",
      "Informação inválida! Digite um valor numérico.\n",
      "\n",
      "Quantidade de jogadores: 0\n",
      "Quantidade inválida! Digite um valor maior que 1.\n",
      "\n",
      "Informação inválida! Digite um valor numérico.\n",
      "\n",
      "Quantidade de jogadores: 2\n",
      "Nome do jogador 1: q1\n",
      "Nome do jogador 2: q2\n",
      "\n",
      "Bem vindo jogadores!\n",
      "\n",
      "\n",
      "Distribuindo cartas...\n"
     ]
    },
    {
     "ename": "KeyboardInterrupt",
     "evalue": "Interrupted by user",
     "output_type": "error",
     "traceback": [
      "\u001b[1;31m---------------------------------------------------------------------------\u001b[0m",
      "\u001b[1;31mKeyboardInterrupt\u001b[0m                         Traceback (most recent call last)",
      "\u001b[1;32m<ipython-input-1-3026e371f6e7>\u001b[0m in \u001b[0;36m<module>\u001b[1;34m\u001b[0m\n\u001b[0;32m    335\u001b[0m \u001b[1;33m\u001b[0m\u001b[0m\n\u001b[0;32m    336\u001b[0m \u001b[1;31m# a. Função principal: a função que vamos chamar para iniciar o jogo.\u001b[0m\u001b[1;33m\u001b[0m\u001b[1;33m\u001b[0m\u001b[1;33m\u001b[0m\u001b[0m\n\u001b[1;32m--> 337\u001b[1;33m \u001b[0mblackjack_game\u001b[0m\u001b[1;33m(\u001b[0m\u001b[0mdeck\u001b[0m\u001b[1;33m)\u001b[0m\u001b[1;33m\u001b[0m\u001b[1;33m\u001b[0m\u001b[0m\n\u001b[0m",
      "\u001b[1;32m<ipython-input-1-3026e371f6e7>\u001b[0m in \u001b[0;36mblackjack_game\u001b[1;34m(deck)\u001b[0m\n\u001b[0;32m    222\u001b[0m \u001b[1;33m\u001b[0m\u001b[0m\n\u001b[0;32m    223\u001b[0m         \u001b[0mprint\u001b[0m\u001b[1;33m(\u001b[0m\u001b[1;34m'\\nDistribuindo cartas...'\u001b[0m\u001b[1;33m)\u001b[0m\u001b[1;33m\u001b[0m\u001b[1;33m\u001b[0m\u001b[0m\n\u001b[1;32m--> 224\u001b[1;33m         \u001b[0minput\u001b[0m\u001b[1;33m(\u001b[0m\u001b[1;33m)\u001b[0m\u001b[1;33m\u001b[0m\u001b[1;33m\u001b[0m\u001b[0m\n\u001b[0m\u001b[0;32m    225\u001b[0m         \u001b[1;32mwhile\u001b[0m \u001b[0mlen\u001b[0m\u001b[1;33m(\u001b[0m\u001b[0mplayers_cards\u001b[0m\u001b[1;33m[\u001b[0m\u001b[0mjogador\u001b[0m\u001b[1;33m]\u001b[0m\u001b[1;33m)\u001b[0m \u001b[1;33m<\u001b[0m \u001b[1;36m2\u001b[0m\u001b[1;33m:\u001b[0m\u001b[1;33m\u001b[0m\u001b[1;33m\u001b[0m\u001b[0m\n\u001b[0;32m    226\u001b[0m             \u001b[1;31m# Randomly dealing a card\u001b[0m\u001b[1;33m\u001b[0m\u001b[1;33m\u001b[0m\u001b[1;33m\u001b[0m\u001b[0m\n",
      "\u001b[1;32mC:\\ProgramData\\Anaconda3\\lib\\site-packages\\ipykernel\\kernelbase.py\u001b[0m in \u001b[0;36mraw_input\u001b[1;34m(self, prompt)\u001b[0m\n\u001b[0;32m    858\u001b[0m                 \u001b[1;34m\"raw_input was called, but this frontend does not support input requests.\"\u001b[0m\u001b[1;33m\u001b[0m\u001b[1;33m\u001b[0m\u001b[0m\n\u001b[0;32m    859\u001b[0m             )\n\u001b[1;32m--> 860\u001b[1;33m         return self._input_request(str(prompt),\n\u001b[0m\u001b[0;32m    861\u001b[0m             \u001b[0mself\u001b[0m\u001b[1;33m.\u001b[0m\u001b[0m_parent_ident\u001b[0m\u001b[1;33m,\u001b[0m\u001b[1;33m\u001b[0m\u001b[1;33m\u001b[0m\u001b[0m\n\u001b[0;32m    862\u001b[0m             \u001b[0mself\u001b[0m\u001b[1;33m.\u001b[0m\u001b[0m_parent_header\u001b[0m\u001b[1;33m,\u001b[0m\u001b[1;33m\u001b[0m\u001b[1;33m\u001b[0m\u001b[0m\n",
      "\u001b[1;32mC:\\ProgramData\\Anaconda3\\lib\\site-packages\\ipykernel\\kernelbase.py\u001b[0m in \u001b[0;36m_input_request\u001b[1;34m(self, prompt, ident, parent, password)\u001b[0m\n\u001b[0;32m    902\u001b[0m             \u001b[1;32mexcept\u001b[0m \u001b[0mKeyboardInterrupt\u001b[0m\u001b[1;33m:\u001b[0m\u001b[1;33m\u001b[0m\u001b[1;33m\u001b[0m\u001b[0m\n\u001b[0;32m    903\u001b[0m                 \u001b[1;31m# re-raise KeyboardInterrupt, to truncate traceback\u001b[0m\u001b[1;33m\u001b[0m\u001b[1;33m\u001b[0m\u001b[1;33m\u001b[0m\u001b[0m\n\u001b[1;32m--> 904\u001b[1;33m                 \u001b[1;32mraise\u001b[0m \u001b[0mKeyboardInterrupt\u001b[0m\u001b[1;33m(\u001b[0m\u001b[1;34m\"Interrupted by user\"\u001b[0m\u001b[1;33m)\u001b[0m \u001b[1;32mfrom\u001b[0m \u001b[1;32mNone\u001b[0m\u001b[1;33m\u001b[0m\u001b[1;33m\u001b[0m\u001b[0m\n\u001b[0m\u001b[0;32m    905\u001b[0m             \u001b[1;32mexcept\u001b[0m \u001b[0mException\u001b[0m \u001b[1;32mas\u001b[0m \u001b[0me\u001b[0m\u001b[1;33m:\u001b[0m\u001b[1;33m\u001b[0m\u001b[1;33m\u001b[0m\u001b[0m\n\u001b[0;32m    906\u001b[0m                 \u001b[0mself\u001b[0m\u001b[1;33m.\u001b[0m\u001b[0mlog\u001b[0m\u001b[1;33m.\u001b[0m\u001b[0mwarning\u001b[0m\u001b[1;33m(\u001b[0m\u001b[1;34m\"Invalid Message:\"\u001b[0m\u001b[1;33m,\u001b[0m \u001b[0mexc_info\u001b[0m\u001b[1;33m=\u001b[0m\u001b[1;32mTrue\u001b[0m\u001b[1;33m)\u001b[0m\u001b[1;33m\u001b[0m\u001b[1;33m\u001b[0m\u001b[0m\n",
      "\u001b[1;31mKeyboardInterrupt\u001b[0m: Interrupted by user"
     ]
    }
   ],
   "source": [
    "import random\n",
    "import os\n",
    "import time\n",
    "    \n",
    "# Definição da classe Card\n",
    "class Card:\n",
    "    def __init__(self, suit, value, card_value):\n",
    "        # Naipe das cartas\n",
    "        self.suit = suit\n",
    "        # Representando o valor das cartas\n",
    "        self.value = value\n",
    "        # Pontuação de valor da carta\n",
    "        self.card_value = card_value \n",
    "        \n",
    "# Cria as cartas\n",
    "def print_cards(cards, hidden):\n",
    "    s = \"\"\n",
    "    for card in cards:\n",
    "        s = s + \"\\t ________________\"\n",
    "    if hidden:\n",
    "        s += \"\\t ________________\"\n",
    "    print(s)\n",
    "\n",
    "    s = \"\"\n",
    "    for card in cards:\n",
    "        s = s + \"\\t|                |\"\n",
    "    if hidden:\n",
    "        s += \"\\t|                |\"        \n",
    "    print(s)\n",
    "\n",
    "    s = \"\"\n",
    "    for card in cards:\n",
    "        if card.value == '10':\n",
    "            s = s + \"\\t|  {}            |\".format(card.value)\n",
    "        else:\n",
    "            s = s + \"\\t|  {}             |\".format(card.value)    \n",
    "    if hidden:\n",
    "        s += \"\\t|                |\"        \n",
    "    print(s)\n",
    "\n",
    "    s = \"\"\n",
    "    for card in cards:\n",
    "        s = s + \"\\t|                |\"\n",
    "    if hidden:\n",
    "        s += \"\\t|      * *       |\"    \n",
    "    print(s)    \n",
    "\n",
    "    s = \"\"\n",
    "    for card in cards:\n",
    "        s = s + \"\\t|                |\"\n",
    "    if hidden:\n",
    "        s += \"\\t|    *     *     |\"    \n",
    "    print(s)    \n",
    "\n",
    "    s = \"\"\n",
    "    for card in cards:\n",
    "        s = s + \"\\t|                |\"\n",
    "    if hidden:\n",
    "        s += \"\\t|   *       *    |\"    \n",
    "    print(s)    \n",
    "\n",
    "    s = \"\"\n",
    "    for card in cards:\n",
    "        s = s + \"\\t|                |\"\n",
    "    if hidden:\n",
    "        s += \"\\t|   *       *    |\"    \n",
    "    print(s)    \n",
    "\n",
    "    s = \"\"\n",
    "    for card in cards:\n",
    "        s = s + \"\\t|       {}        |\".format(card.suit)\n",
    "    if hidden:\n",
    "        s += \"\\t|          *     |\"    \n",
    "    print(s)    \n",
    "\n",
    "    s = \"\"\n",
    "    for card in cards:\n",
    "        s = s + \"\\t|                |\"\n",
    "    if hidden:\n",
    "        s += \"\\t|         *      |\"    \n",
    "    print(s)    \n",
    "\n",
    "    s = \"\"\n",
    "    for card in cards:\n",
    "        s = s + \"\\t|                |\"\n",
    "    if hidden:\n",
    "        s += \"\\t|        *       |\"    \n",
    "    print(s)\n",
    "\n",
    "    s = \"\"\n",
    "    for card in cards:\n",
    "        s = s + \"\\t|                |\"\n",
    "    if hidden:\n",
    "        s += \"\\t|                |\"    \n",
    "    print(s)\n",
    "\n",
    "    s = \"\"\n",
    "    for card in cards:\n",
    "        s = s + \"\\t|                |\"\n",
    "    if hidden:\n",
    "        s += \"\\t|                |\"    \n",
    "    print(s)    \n",
    "\n",
    "    s = \"\"\n",
    "    for card in cards:\n",
    "        if card.value == '10':\n",
    "            s = s + \"\\t|            {}  |\".format(card.value)\n",
    "        else:\n",
    "            s = s + \"\\t|            {}   |\".format(card.value)\n",
    "    if hidden:\n",
    "        s += \"\\t|        *       |\"            \n",
    "    print(s)    \n",
    "        \n",
    "    s = \"\"\n",
    "    for card in cards:\n",
    "        s = s + \"\\t|________________|\"\n",
    "    if hidden:\n",
    "        s += \"\\t|________________|\"    \n",
    "    print(s)        \n",
    "    print()\n",
    "\n",
    "# b. Função para criar o baralho: \n",
    "# essa função deve criar um baralho (uma lista) com as cartas do baralho.\n",
    "def shuffle_cards():\n",
    "    # Prepara as cartas do baralho\n",
    "    suits = [\"Espada\", \"Copas\", \"Paus\", \"Ouro\"]\n",
    "    suits_values = {\"Espada\":\"\\u2664\", \"Copas\":\"\\u2661\", \"Paus\": \"\\u2667\", \"Ouro\": \"\\u2662\"}\n",
    "    cards = [\"A\", \"2\", \"3\", \"4\", \"5\", \"6\", \"7\", \"8\", \"9\", \"10\", \"J\", \"Q\", \"K\"]\n",
    "    cards_values = {\"A\": 1, \"2\":2, \"3\":3, \"4\":4, \"5\":5, \"6\":6, \"7\":7, \"8\":8, \"9\":9, \"10\":10, \"J\":10, \"Q\":10, \"K\":10}\n",
    "    #\"Embaralhando\" as cartas \n",
    "    deck = []\n",
    "    for suit in suits:\n",
    "        for card in cards:\n",
    "            deck.append(Card(suits_values[suit], card, cards_values[card]))\n",
    "    return deck   \n",
    "\n",
    "# Quantidade de jogadores participantes e o nome de cada um \n",
    "def players():\n",
    "    jogadores = list()\n",
    "    qtdbool = True\n",
    "    while qtdbool:\n",
    "        try:\n",
    "            qtd = int(input(\"Quantidade de jogadores: \"))\n",
    "            if qtd <= 1:\n",
    "                print('Quantidade inválida! Digite um valor maior que 1.\\n')\n",
    "            else:\n",
    "                qtdbool = False\n",
    "        except:\n",
    "            print('Informação inválida! Digite um valor numérico.\\n')\n",
    "            qtdbool = True\n",
    "\n",
    "    i = 1\n",
    "    while i <= qtd:\n",
    "        jogador = ''\n",
    "        while len(jogador) == 0:\n",
    "            jogador = input(\"Nome do jogador \" + str(i) + \": \")\n",
    "            if jogador in jogadores:\n",
    "                print('Digite um nome diferente para o jogador {}'.format(i))\n",
    "                jogador = ''\n",
    "        i += 1\n",
    "        jogadores.append(jogador)\n",
    "\n",
    "    print('\\nBem vindo jogadores!\\n')        \n",
    "    return jogadores\n",
    "\n",
    "players_cards = dict()\n",
    "def playercards(player, cards):\n",
    "    players_cards[player] = (cards)\n",
    "    return players_cards\n",
    "\n",
    "players_score = dict()\n",
    "def playerscore(player, score):\n",
    "    players_score[player] = (score)\n",
    "    return players_score\n",
    "\n",
    "players_skip = dict()\n",
    "def playerskip(player, skip):\n",
    "    players_skip[player] = (skip)\n",
    "    return players_skip\n",
    "\n",
    "# e. Função verificação: \n",
    "# verifica e indica qual/quais jogador/jogadores tem o maior número de pontos, \n",
    "# que seja menor ou igual a 21.\n",
    "def getblackjack():\n",
    "    # Verifica se algum jogador fez o 21 - blackjack\n",
    "    player_blackjack = False\n",
    "    for jogador in players_score:\n",
    "        if players_score[jogador] == 21:\n",
    "            player_blackjack = True\n",
    "            player_skip = 1\n",
    "            players_skip = playerskip(jogador, player_skip)\n",
    "            print(\"\\n{} fez o BLACKJACK!!!!\".format(jogador.upper()))\n",
    "            #print(\"Jogador {} ganhou!!!!\".format(jogador.upper()))\n",
    "    return player_blackjack\n",
    "\n",
    "# a. Função principal: a função que vamos chamar para iniciar o jogo. \n",
    "def blackjack_game(deck):\n",
    "    players_blackjack = False\n",
    "    \n",
    "    # Quantidade de jogadores\n",
    "    jogadores = players()\n",
    "    \n",
    "    # Cartas para os jogadores\n",
    "    for jogador in jogadores:\n",
    "        player_cards = list()\n",
    "        players_cards = playercards(jogador, player_cards)\n",
    "\n",
    "    # Pontuação dos jogadores\n",
    "    for jogador in jogadores:\n",
    "        player_score = 0\n",
    "        players_score = playerscore(jogador, player_score)\n",
    "\n",
    "    # Compra cartas\n",
    "    for jogador in jogadores:\n",
    "        player_skip = 0\n",
    "        players_skip = playerskip(jogador, player_skip)\n",
    "       \n",
    "    # Carta dos jogadores\n",
    "    for jogador in players_cards:\n",
    "        player_cards = []\n",
    "        player_score = 0\n",
    "        \n",
    "        print('\\nDistribuindo cartas...')\n",
    "        input()\n",
    "        while len(players_cards[jogador]) < 2:\n",
    "            # Randomly dealing a card\n",
    "            player_card = random.choice(deck)\n",
    "            player_cards.append(player_card)\n",
    "            deck.remove(player_card)\n",
    "            players_cards = playercards(jogador, player_cards)\n",
    "            \n",
    "            # Updating the player score\n",
    "            player_score += player_card.card_value\n",
    "            players_score = playerscore(jogador, player_score)\n",
    "\n",
    "            # Print player cards and score        \n",
    "            print(\"Cartas do jogador(a) {}: \".format(jogador))\n",
    "            print_cards(player_cards, False)\n",
    "            print(\"Pontuação do jogador(a) {} = {}\".format(jogador, player_score))\n",
    "            \n",
    "    # Verifica se algum jogador fez o 21 - blackjack\n",
    "    players_blackjack = getblackjack()\n",
    "\n",
    "    if players_blackjack == False:\n",
    "        # verifica quais jogadores vão comprar cartas\n",
    "        skip = [[jogador] for jogador, skip in players_skip.items() if skip == 0]\n",
    "    \n",
    "        # Rodada de compras até os jogadores pararem\n",
    "        i = 0\n",
    "        while len(skip) != 0:\n",
    "            i += 1\n",
    "            print('\\nRodada de compra de cartas ' + str(i) + '...')\n",
    "            input()\n",
    "            for jogador in players_cards:\n",
    "                player_cards = players_cards[jogador]\n",
    "                player_score = players_score[jogador]\n",
    "                player_skip = players_skip[jogador]\n",
    "\n",
    "                if player_skip == 0:            \n",
    "                    # Mostrando a mão do jogador\n",
    "                    print(\"Cartas do jogador(a) {}: \".format(jogador))\n",
    "                    print_cards(player_cards, False)\n",
    "                    print(\"Pontuação do jogador(a) {} = {}\".format(jogador, player_score))\n",
    "\n",
    "                    if player_score < 21:\n",
    "                        choice = 2\n",
    "                        while choice not in (0,1):\n",
    "                            try:\n",
    "                                choice = int(input(\"Digite 1 para pedir Carta ou 0 para continuar: \"))\n",
    "                            except:\n",
    "                                print('Informação inválida! Digite 1 (um) ou 0 (zero)!')\n",
    "                                pass\n",
    "                    else:\n",
    "                        player_skip = 1\n",
    "                        players_skip = playerskip(jogador, player_skip)\n",
    "\n",
    "                    # Jogador compra carta\n",
    "                    if choice == 1:\n",
    "                        player_card = random.choice(deck)\n",
    "                        player_cards.append(player_card)\n",
    "                        deck.remove(player_card)\n",
    "                        players_cards = playercards(jogador, player_cards)\n",
    "\n",
    "                        # Updating the player score\n",
    "                        player_score += player_card.card_value\n",
    "                        players_score = playerscore(jogador, player_score)\n",
    "\n",
    "                        # Print player cards and score        \n",
    "                        print(\"\\nCartas do jogador(a) {}: \".format(jogador))\n",
    "                        print_cards(player_cards, False)\n",
    "                        print(\"Pontuação do jogador(a) {} = {}\".format(jogador, player_score))                    \n",
    "                        if player_score >= 21:\n",
    "                            player_skip = 1\n",
    "                            players_skip = playerskip(jogador, player_skip)\n",
    "                        if player_score > 21:\n",
    "                            print(\"Fim de jogo para você!!! Jogador(a) {} estourou 21 pontos!\".format(jogador))\n",
    "                    else:\n",
    "                        player_skip = 1\n",
    "                        players_skip = playerskip(jogador, player_skip)\n",
    "                        print('O jogador {} não pediu cartas.\\n'.format(jogador))\n",
    "\n",
    "            # verifica quais jogadores vão comprar cartas\n",
    "            skip = [[jogador] for jogador, skip in players_skip.items() if skip == 0]\n",
    "        \n",
    "        # Verifica se algum jogador fez o 21 - blackjack\n",
    "        #getblackjack()\n",
    "\n",
    "    print(\"\\nMostrar a mão dos jogadores...\")\n",
    "    input()\n",
    "    # Mostrando a mão dos jogadores\n",
    "    for jogador in players_cards:\n",
    "        player_cards = players_cards[jogador]\n",
    "        player_score = players_score[jogador]\n",
    "        player_skip = players_skip[jogador]\n",
    "        # Mostrando a mão do jogador\n",
    "        print(\"Cartas do jogador(a) {}: \".format(jogador))\n",
    "        print_cards(player_cards, False)\n",
    "        print(\"\\nPontuação do jogador(a) {} = {}\".format(jogador, player_score))\n",
    "\n",
    "    input(\"\\nQuem venceu o jogo???\")\n",
    "    for jogador in players_cards:\n",
    "        player_cards = players_cards[jogador]\n",
    "        player_score = players_score[jogador]\n",
    "        player_skip = players_skip[jogador]\n",
    "        print(\"\\nPontuação do jogador(a) {} = {}\".format(jogador, player_score))\n",
    "        if player_score > 21:\n",
    "            print(\"Jogador(a) {} estourou 21 pontos!\".format(jogador))\n",
    "        elif player_score == 21:\n",
    "            print(\"O jogador(a) {} fez 21 pontos!\".format(jogador))\n",
    "            \n",
    "    \n",
    "# inicio do 21 - Blackjack\n",
    "# b. Função para criar o baralho: essa função deve criar um baralho (uma lista) com as cartas do baralho.\n",
    "deck = shuffle_cards()\n",
    "\n",
    "# a. Função principal: a função que vamos chamar para iniciar o jogo. \n",
    "blackjack_game(deck)"
   ]
  },
  {
   "cell_type": "code",
   "execution_count": 3,
   "id": "8c2744d1",
   "metadata": {},
   "outputs": [],
   "source": [
    "# Resposta sugerida\n"
   ]
  },
  {
   "cell_type": "code",
   "execution_count": 1,
   "id": "eeada5d5",
   "metadata": {},
   "outputs": [
    {
     "name": "stdout",
     "output_type": "stream",
     "text": [
      "\n",
      "Opções:\n",
      "1. Novo cliente\n",
      "2. Pesquisa CPF\n",
      "3. Lista de clientes\n",
      "4. Fechar\n",
      "\n",
      "Escolha a opção:1\n",
      "Digite Nome: j\n",
      "Digite CPF: 24804447830\n",
      "Digite E-mail: j\n",
      "\n",
      "\n",
      "{'nome': 'j', 'CPF': '248.044.478-30', 'email': 'j'}\n",
      "Cadastro efetuado com sucesso!\n",
      "\n",
      "Opções:\n",
      "1. Novo cliente\n",
      "2. Pesquisa CPF\n",
      "3. Lista de clientes\n",
      "4. Fechar\n",
      "\n",
      "Escolha a opção:3\n",
      "\n",
      "\n",
      "{'nome': 'j', 'CPF': '248.044.478-30', 'email': 'j'}\n",
      "\n",
      "Opções:\n",
      "1. Novo cliente\n",
      "2. Pesquisa CPF\n",
      "3. Lista de clientes\n",
      "4. Fechar\n",
      "\n",
      "Escolha a opção:2\n",
      "Digite CPF: 24804447830\n",
      "\n",
      "CPF: 248.044.478-30 encontrado!\n",
      "{'nome': 'j', 'CPF': '248.044.478-30', 'email': 'j'}\n"
     ]
    },
    {
     "ename": "KeyboardInterrupt",
     "evalue": "Interrupted by user",
     "output_type": "error",
     "traceback": [
      "\u001b[1;31m---------------------------------------------------------------------------\u001b[0m",
      "\u001b[1;31mKeyboardInterrupt\u001b[0m                         Traceback (most recent call last)",
      "\u001b[1;32m<ipython-input-1-d54dd229db1b>\u001b[0m in \u001b[0;36m<module>\u001b[1;34m\u001b[0m\n\u001b[0;32m     84\u001b[0m \u001b[0mopcao\u001b[0m \u001b[1;33m=\u001b[0m \u001b[1;36m0\u001b[0m\u001b[1;33m\u001b[0m\u001b[1;33m\u001b[0m\u001b[0m\n\u001b[0;32m     85\u001b[0m \u001b[1;32mwhile\u001b[0m \u001b[0mopcao\u001b[0m \u001b[1;32mnot\u001b[0m \u001b[1;32min\u001b[0m \u001b[1;33m(\u001b[0m\u001b[1;36m1\u001b[0m\u001b[1;33m,\u001b[0m\u001b[1;36m2\u001b[0m\u001b[1;33m,\u001b[0m\u001b[1;36m3\u001b[0m\u001b[1;33m,\u001b[0m\u001b[1;36m4\u001b[0m\u001b[1;33m)\u001b[0m\u001b[1;33m:\u001b[0m\u001b[1;33m\u001b[0m\u001b[1;33m\u001b[0m\u001b[0m\n\u001b[1;32m---> 86\u001b[1;33m     \u001b[0mopcao\u001b[0m \u001b[1;33m=\u001b[0m \u001b[0mint\u001b[0m\u001b[1;33m(\u001b[0m\u001b[0minput\u001b[0m\u001b[1;33m(\u001b[0m\u001b[1;34m'\\nOpções:\\n1. Novo cliente\\n2. Pesquisa CPF\\n3. Lista de clientes\\n4. Fechar\\n\\nEscolha a opção:'\u001b[0m\u001b[1;33m)\u001b[0m\u001b[1;33m)\u001b[0m\u001b[1;33m\u001b[0m\u001b[1;33m\u001b[0m\u001b[0m\n\u001b[0m\u001b[0;32m     87\u001b[0m \u001b[1;33m\u001b[0m\u001b[0m\n\u001b[0;32m     88\u001b[0m     \u001b[1;32mif\u001b[0m \u001b[0mopcao\u001b[0m \u001b[1;33m==\u001b[0m \u001b[1;36m1\u001b[0m\u001b[1;33m:\u001b[0m\u001b[1;33m\u001b[0m\u001b[1;33m\u001b[0m\u001b[0m\n",
      "\u001b[1;32mC:\\ProgramData\\Anaconda3\\lib\\site-packages\\ipykernel\\kernelbase.py\u001b[0m in \u001b[0;36mraw_input\u001b[1;34m(self, prompt)\u001b[0m\n\u001b[0;32m    858\u001b[0m                 \u001b[1;34m\"raw_input was called, but this frontend does not support input requests.\"\u001b[0m\u001b[1;33m\u001b[0m\u001b[1;33m\u001b[0m\u001b[0m\n\u001b[0;32m    859\u001b[0m             )\n\u001b[1;32m--> 860\u001b[1;33m         return self._input_request(str(prompt),\n\u001b[0m\u001b[0;32m    861\u001b[0m             \u001b[0mself\u001b[0m\u001b[1;33m.\u001b[0m\u001b[0m_parent_ident\u001b[0m\u001b[1;33m,\u001b[0m\u001b[1;33m\u001b[0m\u001b[1;33m\u001b[0m\u001b[0m\n\u001b[0;32m    862\u001b[0m             \u001b[0mself\u001b[0m\u001b[1;33m.\u001b[0m\u001b[0m_parent_header\u001b[0m\u001b[1;33m,\u001b[0m\u001b[1;33m\u001b[0m\u001b[1;33m\u001b[0m\u001b[0m\n",
      "\u001b[1;32mC:\\ProgramData\\Anaconda3\\lib\\site-packages\\ipykernel\\kernelbase.py\u001b[0m in \u001b[0;36m_input_request\u001b[1;34m(self, prompt, ident, parent, password)\u001b[0m\n\u001b[0;32m    902\u001b[0m             \u001b[1;32mexcept\u001b[0m \u001b[0mKeyboardInterrupt\u001b[0m\u001b[1;33m:\u001b[0m\u001b[1;33m\u001b[0m\u001b[1;33m\u001b[0m\u001b[0m\n\u001b[0;32m    903\u001b[0m                 \u001b[1;31m# re-raise KeyboardInterrupt, to truncate traceback\u001b[0m\u001b[1;33m\u001b[0m\u001b[1;33m\u001b[0m\u001b[1;33m\u001b[0m\u001b[0m\n\u001b[1;32m--> 904\u001b[1;33m                 \u001b[1;32mraise\u001b[0m \u001b[0mKeyboardInterrupt\u001b[0m\u001b[1;33m(\u001b[0m\u001b[1;34m\"Interrupted by user\"\u001b[0m\u001b[1;33m)\u001b[0m \u001b[1;32mfrom\u001b[0m \u001b[1;32mNone\u001b[0m\u001b[1;33m\u001b[0m\u001b[1;33m\u001b[0m\u001b[0m\n\u001b[0m\u001b[0;32m    905\u001b[0m             \u001b[1;32mexcept\u001b[0m \u001b[0mException\u001b[0m \u001b[1;32mas\u001b[0m \u001b[0me\u001b[0m\u001b[1;33m:\u001b[0m\u001b[1;33m\u001b[0m\u001b[1;33m\u001b[0m\u001b[0m\n\u001b[0;32m    906\u001b[0m                 \u001b[0mself\u001b[0m\u001b[1;33m.\u001b[0m\u001b[0mlog\u001b[0m\u001b[1;33m.\u001b[0m\u001b[0mwarning\u001b[0m\u001b[1;33m(\u001b[0m\u001b[1;34m\"Invalid Message:\"\u001b[0m\u001b[1;33m,\u001b[0m \u001b[0mexc_info\u001b[0m\u001b[1;33m=\u001b[0m\u001b[1;32mTrue\u001b[0m\u001b[1;33m)\u001b[0m\u001b[1;33m\u001b[0m\u001b[1;33m\u001b[0m\u001b[0m\n",
      "\u001b[1;31mKeyboardInterrupt\u001b[0m: Interrupted by user"
     ]
    }
   ],
   "source": [
    "# Questão 21\n",
    "\n",
    "# Super desafio! Faça um sistema de cadastro de clientes. \n",
    "# Modele cada cliente como uma lista de três elementos: nome, CPF e e-mail.\n",
    "\n",
    "# a. Faça uma função que peça o nome, o CPF e o e-mail da pessoa e retorne uma lista contendo esses elementos nessa ordem.\n",
    "# b. Os clientes cadastrados devem ser armazenados em uma lista \n",
    "# (uma lista de listas, já que cada cliente será uma lista tal como produzido no item a).\n",
    "# c. Faça uma função que recebe a lista do item b) e um CPF e, se esse cliente estiver na lista de cadastro, \n",
    "# sua função deve devolver a lista de dados desse cliente; caso contrário, sua função deve imprimir “não encontrado”.\n",
    "# d. Enquanto não for digitado 0, o seu programa deve continuar rodando. \n",
    "# Se digitado 1, seu programa deve cadastrar um novo cliente; \n",
    "# se digitado 2, seu programa deve pedir um CPF e procurá-lo na lista de clientes (item c); \n",
    "# se digitado 3, seu programa deve imprimir todos os clientes cadastrados.\n",
    "\n",
    "dicionario = {}\n",
    "contato = {}\n",
    "\n",
    "def digita(tipodado):\n",
    "    info = input(\"Digite \" + tipodado + \": \")\n",
    "    return info\n",
    "\n",
    "def valida(info, tipo):\n",
    "    valida = False\n",
    "    if tipo in ('Nome', 'E-mail'):\n",
    "        if len(info) == 0:\n",
    "            print('Erro: O {} está em branco!'.format(tipo))\n",
    "        else:\n",
    "            valida = True\n",
    "    elif tipo == 'CPF':\n",
    "        if info.isnumeric():\n",
    "            if cpf(info) == True: \n",
    "                valida = True\n",
    "        else:\n",
    "            print('Erro: CPF \"{}\" inválido!'.format(info))\n",
    "    return valida, info\n",
    "\n",
    "def cpf(cpf):\n",
    "    cpfbool = False\n",
    "    if (len(str(cpf)) != 11) :\n",
    "        print('Erro: CPF \"{}\" inválido!'.format(cpf))\n",
    "    else:\n",
    "        lstcpf = list(str(cpf))\n",
    "        dig1 = int(lstcpf[9])\n",
    "        dig2 = int(lstcpf[10])\n",
    "\n",
    "        calcdig1 = calculadigito(lstcpf, fatores1)\n",
    "        calcdig2 = calculadigito(lstcpf, fatores2)\n",
    "\n",
    "        if (dig1 != calcdig1 or dig2 != calcdig2):\n",
    "            print('\\nO CPF {}.{}.{}-{} é inválido!'.format(str(cpf)[:3], str(cpf)[3:6], str(cpf)[6:9], str(cpf)[9:]))\n",
    "        else:\n",
    "            cpfbool = True\n",
    "    return cpfbool\n",
    "\n",
    "def calculadigito(strcpf, fatores):\n",
    "    calcdig = 0\n",
    "    i = 0\n",
    "    while (i < len(fatores)):\n",
    "        produto = int(strcpf[i]) * fatores[i]\n",
    "        calcdig = calcdig + produto\n",
    "        i += 1\n",
    "    calcdig = (calcdig*10)%11\n",
    "    return calcdig\n",
    "\n",
    "def cliente(cadastro):\n",
    "    nome = cadastro[0]\n",
    "    cpf = cadastro[1]\n",
    "    email = cadastro[2]\n",
    "    cpf = '{}.{}.{}-{}'.format(cpf[:3], cpf[3:6], cpf[6:9], cpf[9:])\n",
    "    #contato.append((cpf,cadastro))\n",
    "    contato[cpf] = {'nome': nome, 'CPF': cpf, 'email': email}\n",
    "    return contato\n",
    "\n",
    "def pesquisacpf(cpf):\n",
    "    retcpf = '{}.{}.{}-{}'.format(cpf[:3], cpf[3:6], cpf[6:9], cpf[9:])\n",
    "    if retcpf in dicionario:\n",
    "        print(dicionario[retcpf])\n",
    "\n",
    "fatores1 = [10,9,8,7,6,5,4,3,2]\n",
    "fatores2 = [11,10,9,8,7,6,5,4,3,2]\n",
    "tipodado = ['Nome','CPF','E-mail']\n",
    "\n",
    "opcao = 0\n",
    "while opcao not in (1,2,3,4):\n",
    "    opcao = int(input('\\nOpções:\\n1. Novo cliente\\n2. Pesquisa CPF\\n3. Lista de clientes\\n4. Fechar\\n\\nEscolha a opção:'))\n",
    "    \n",
    "    if opcao == 1:\n",
    "        cadastro = list()\n",
    "        continua = False\n",
    "        for tipo in tipodado:\n",
    "            while not continua:\n",
    "                continua, info = valida(digita(tipo), tipo)\n",
    "            cadastro.append(info)\n",
    "            continua = False\n",
    "        dicionario = cliente(cadastro)\n",
    "        print('\\n')\n",
    "        pesquisacpf(cadastro[1])\n",
    "        print('Cadastro efetuado com sucesso!')\n",
    "        opcao = 0\n",
    "                       \n",
    "    elif opcao == 2:\n",
    "        continua = False        \n",
    "        while not continua:\n",
    "            continua, retcpf = valida(digita('CPF'), 'CPF')\n",
    "        continua = False\n",
    "        retcpf = '{}.{}.{}-{}'.format(str(retcpf)[:3], str(retcpf)[3:6], str(retcpf)[6:9], str(retcpf)[9:])\n",
    "        if retcpf in dicionario:\n",
    "            print('\\nCPF:',retcpf, 'encontrado!')\n",
    "            print(dicionario[retcpf])\n",
    "        opcao = 0\n",
    "\n",
    "    elif opcao == 3:\n",
    "        print('\\n')\n",
    "        for element in dicionario:\n",
    "            print(dicionario[element])\n",
    "        opcao = 0\n",
    "\n",
    "    elif opcao == 4:\n",
    "        print('Fechar')\n",
    "        \n",
    "    else:\n",
    "        print('Opção inválida!')"
   ]
  },
  {
   "cell_type": "code",
   "execution_count": 2,
   "id": "603c1d5d",
   "metadata": {},
   "outputs": [
    {
     "name": "stdout",
     "output_type": "stream",
     "text": [
      "{'248.044.478-30': {'nome': 'j', 'CPF': '248.044.478-30', 'email': 'j'}}\n"
     ]
    }
   ],
   "source": [
    "# Resposta sugerida\n"
   ]
  },
  {
   "cell_type": "code",
   "execution_count": null,
   "id": "7a2fb0b4",
   "metadata": {},
   "outputs": [],
   "source": []
  }
 ],
 "metadata": {
  "kernelspec": {
   "display_name": "Python 3",
   "language": "python",
   "name": "python3"
  },
  "language_info": {
   "codemirror_mode": {
    "name": "ipython",
    "version": 3
   },
   "file_extension": ".py",
   "mimetype": "text/x-python",
   "name": "python",
   "nbconvert_exporter": "python",
   "pygments_lexer": "ipython3",
   "version": "3.8.10"
  }
 },
 "nbformat": 4,
 "nbformat_minor": 5
}
