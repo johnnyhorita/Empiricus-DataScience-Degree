{
 "cells": [
  {
   "cell_type": "markdown",
   "id": "5bd880f4",
   "metadata": {},
   "source": [
    "# Lógica da Programação\n",
    "\n",
    "## 17 - LC | Métodos e atributos estáticos"
   ]
  },
  {
   "cell_type": "code",
   "execution_count": 158,
   "id": "d4cffbbf",
   "metadata": {
    "ExecuteTime": {
     "end_time": "2021-07-14T23:15:42.219766Z",
     "start_time": "2021-07-14T23:15:42.209772Z"
    }
   },
   "outputs": [
    {
     "name": "stdout",
     "output_type": "stream",
     "text": [
      "Nome: Johnny, Idade: 45, Peso: 80, Altura: 1.69\n",
      "Nome: Manuel, Idade: 29, Peso: 95, Altura: 1.75\n",
      "Nome: Joao, Idade: 48, Peso: 101, Altura: 1.89\n",
      "Nome: Maria, Idade: 42, Peso: 75, Altura: 1.6\n",
      "Nome: Paula, Idade: 25, Peso: 65, Altura: 1.55\n"
     ]
    }
   ],
   "source": [
    "# Questão 1\n",
    "# O que faz um método construtor? Crie uma classe Pessoa e defina seu construtor.\n",
    "\n",
    "class Pessoa:\n",
    "    # método construtor\n",
    "    def __init__(self, nome, idade, peso, altura):\n",
    "        # cria variável (atributo) dentro do objeto\n",
    "        self.nome = nome\n",
    "        self.idade = idade\n",
    "        self.peso = peso\n",
    "        self.altura = altura\n",
    "\n",
    "    def __repr__(self):\n",
    "        return f'Nome: {self.nome}, Idade: {self.idade}, Peso: {self.peso}, Altura: {self.altura}'\n",
    "\n",
    "    def lista(self):\n",
    "        lista = (self.nome, self.idade, self.peso, self.altura)\n",
    "        return lista\n",
    "    \n",
    "pess1 = Pessoa('Johnny', 45, 80, 1.69)\n",
    "pess2 = Pessoa('Manuel', 29, 95, 1.75)\n",
    "pess3 = Pessoa('Joao', 48, 101, 1.89)\n",
    "pess4 = Pessoa('Maria', 42, 75, 1.60)\n",
    "pess5 = Pessoa('Paula', 25, 65, 1.55)\n",
    "\n",
    "print(pess1)\n",
    "print(pess2)\n",
    "print(pess3)\n",
    "print(pess4)\n",
    "print(pess5)"
   ]
  },
  {
   "cell_type": "code",
   "execution_count": 87,
   "id": "c1839caf",
   "metadata": {
    "ExecuteTime": {
     "end_time": "2021-07-14T22:19:01.423840Z",
     "start_time": "2021-07-14T22:19:01.420842Z"
    }
   },
   "outputs": [],
   "source": [
    "# Resposta sugerida\n"
   ]
  },
  {
   "cell_type": "code",
   "execution_count": 160,
   "id": "089454fe",
   "metadata": {
    "ExecuteTime": {
     "end_time": "2021-07-14T23:15:52.534172Z",
     "start_time": "2021-07-14T23:15:52.528173Z"
    }
   },
   "outputs": [],
   "source": [
    "pessoas = list()\n",
    "pessoas.append(pess1.lista())\n",
    "pessoas.append(pess2.lista())\n",
    "pessoas.append(pess3.lista())\n",
    "pessoas.append(pess4.lista())\n",
    "pessoas.append(pess5.lista())"
   ]
  },
  {
   "cell_type": "code",
   "execution_count": 190,
   "id": "2823629c",
   "metadata": {
    "ExecuteTime": {
     "end_time": "2021-07-15T01:43:21.818003Z",
     "start_time": "2021-07-15T01:43:21.811002Z"
    }
   },
   "outputs": [
    {
     "name": "stdout",
     "output_type": "stream",
     "text": [
      "Idade mínima: 25\n",
      "Idade máxima: 48\n",
      "Idade média.: 37.8\n"
     ]
    }
   ],
   "source": [
    "# Questão 2\n",
    "# Escreva um programa que lê nome e idade de 5 pessoas e ao final informa \n",
    "# quem é o mais novo, \n",
    "# o mais velho \n",
    "# e qual a média de idade. \n",
    "# Faça o cálculo incluindo um método estático que leva em consideração um atributo estático com a lista de todas as pessoas.\n",
    "\n",
    "class EstatisticaPessoas:\n",
    "    # criando um atributo estático\n",
    "    maisnovo = 0\n",
    "    maisvelho = 0\n",
    "    idademedia = 0\n",
    "    def __init__(self, pessoas):\n",
    "        # cria variável (atributo) dentro do objeto\n",
    "        self.pessoas = pessoas\n",
    "    \n",
    "    def CalculaValores(self):\n",
    "        self.pessoas.sort(key = lambda x: x[1])\n",
    "        EstatisticaPessoas.maisnovo = self.pessoas[0][1]\n",
    "        EstatisticaPessoas.maisvelho = self.pessoas[len(pessoas)-1][1]\n",
    "        EstatisticaPessoas.idademedia = sum(x[1] for x in pessoas) / len(pessoas)\n",
    "        \n",
    "    @staticmethod\n",
    "    def Valores():\n",
    "        print('Idade mínima:', EstatisticaPessoas.maisnovo)\n",
    "        print('Idade máxima:', EstatisticaPessoas.maisvelho)\n",
    "        print('Idade média.:', EstatisticaPessoas.idademedia)\n",
    "    \n",
    "\n",
    "estatistica = EstatisticaPessoas(pessoas)\n",
    "estatistica.CalculaValores()\n",
    "estatistica.Valores()"
   ]
  },
  {
   "cell_type": "code",
   "execution_count": 71,
   "id": "e3af6f76",
   "metadata": {
    "ExecuteTime": {
     "end_time": "2021-07-08T11:31:41.895953Z",
     "start_time": "2021-07-08T11:31:41.880905Z"
    }
   },
   "outputs": [],
   "source": [
    "# Resposta sugerida\n"
   ]
  },
  {
   "cell_type": "code",
   "execution_count": 198,
   "id": "d19261be",
   "metadata": {
    "ExecuteTime": {
     "end_time": "2021-07-15T01:48:41.963483Z",
     "start_time": "2021-07-15T01:48:41.955485Z"
    }
   },
   "outputs": [
    {
     "name": "stdout",
     "output_type": "stream",
     "text": [
      "Paula está fora do peso ideal.\n",
      "Manuel está fora do peso ideal.\n",
      "Maria está fora do peso ideal.\n",
      "Johnny está fora do peso ideal.\n",
      "Joao está fora do peso ideal.\n"
     ]
    }
   ],
   "source": [
    "# Questão 3\n",
    "# Escreva um programa que \n",
    "# lê nome, peso e altura de 5 pessoas, \n",
    "# calcula o IMC de cada um \n",
    "# e ao final informa se alguém está fora do peso ideal (o IMC ideal é entre 18,5 e 25). \n",
    "# Novamente implemente um método estático para realizar este cálculo.\n",
    "\n",
    "class ImcPessoas:\n",
    "    imclista = list()\n",
    "    def __init__(self, pessoas):\n",
    "        # cria variável (atributo) dentro do objeto\n",
    "        self.pessoas = pessoas\n",
    "        \n",
    "    def CalculaIMC(self):\n",
    "        for nome, idade, peso, altura in self.pessoas:\n",
    "            imc = peso / (altura*altura)\n",
    "            if imc >= 18.5 and imc <= 25:\n",
    "                imcideal = True\n",
    "            else:\n",
    "                imcideal = False\n",
    "            lista = (nome, imcideal)\n",
    "            ImcPessoas.imclista.append(lista)\n",
    "            \n",
    "    @staticmethod\n",
    "    def PesoIdeal():\n",
    "        for nome, imcideal in ImcPessoas.imclista:\n",
    "            if imcideal == False:\n",
    "                print(f'{nome} está fora do peso ideal.') \n",
    "\n",
    "imcpessoas = ImcPessoas(pessoas)\n",
    "imcpessoas.CalculaIMC()\n",
    "imcpessoas.PesoIdeal()"
   ]
  },
  {
   "cell_type": "code",
   "execution_count": 179,
   "id": "81991020",
   "metadata": {
    "ExecuteTime": {
     "end_time": "2021-07-09T18:50:50.294296Z",
     "start_time": "2021-07-09T18:50:50.279265Z"
    }
   },
   "outputs": [],
   "source": [
    "# Resposta sugerida\n"
   ]
  }
 ],
 "metadata": {
  "kernelspec": {
   "display_name": "Python 3",
   "language": "python",
   "name": "python3"
  },
  "language_info": {
   "codemirror_mode": {
    "name": "ipython",
    "version": 3
   },
   "file_extension": ".py",
   "mimetype": "text/x-python",
   "name": "python",
   "nbconvert_exporter": "python",
   "pygments_lexer": "ipython3",
   "version": "3.8.10"
  }
 },
 "nbformat": 4,
 "nbformat_minor": 5
}
