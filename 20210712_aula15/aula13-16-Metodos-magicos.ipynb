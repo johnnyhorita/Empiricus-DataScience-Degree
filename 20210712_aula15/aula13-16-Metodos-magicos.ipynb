{
 "cells": [
  {
   "cell_type": "markdown",
   "id": "8bcdb687",
   "metadata": {},
   "source": [
    "# Aula 13\n",
    "\n",
    "## 16.  Métodos mágicos\n"
   ]
  },
  {
   "cell_type": "code",
   "execution_count": 1,
   "id": "494e3d60",
   "metadata": {
    "ExecuteTime": {
     "end_time": "2021-07-07T23:41:07.145033Z",
     "start_time": "2021-07-07T23:41:07.140034Z"
    }
   },
   "outputs": [
    {
     "name": "stdout",
     "output_type": "stream",
     "text": [
      "Let's Code\n"
     ]
    }
   ],
   "source": [
    "string1 = \"Let's \"\n",
    "string2 = \"Code\"\n",
    "string3 = string1 + string2\n",
    "print(string3)"
   ]
  },
  {
   "cell_type": "code",
   "execution_count": 1,
   "id": "f22abf4e",
   "metadata": {
    "ExecuteTime": {
     "end_time": "2021-07-12T22:33:13.475659Z",
     "start_time": "2021-07-12T22:33:13.471661Z"
    }
   },
   "outputs": [],
   "source": [
    "class Horario:\n",
    "    def __init__(self, **dados):\n",
    "        if 'h' in dados:\n",
    "            self.h = dados['h']\n",
    "        else:\n",
    "            self.h = 0\n",
    "        if 'm' in dados:\n",
    "            self.m = dados['m']\n",
    "        else:\n",
    "            self.m = 0\n",
    "        if 's' in dados:\n",
    "            self.s = dados['s']\n",
    "        else:\n",
    "            self.s = 0"
   ]
  },
  {
   "cell_type": "markdown",
   "id": "a0dfb434",
   "metadata": {},
   "source": [
    "## 1. Representação"
   ]
  },
  {
   "cell_type": "code",
   "execution_count": 2,
   "id": "cdc59cfa",
   "metadata": {
    "ExecuteTime": {
     "end_time": "2021-07-12T22:33:14.457869Z",
     "start_time": "2021-07-12T22:33:14.453864Z"
    }
   },
   "outputs": [],
   "source": [
    "def __repr__(self):\n",
    "    representacao = '{:02d}:{:02d}:{:02d}'.format(self.h, self.m, self.s)\n",
    "    return representacao"
   ]
  },
  {
   "cell_type": "markdown",
   "id": "67c0c12f",
   "metadata": {},
   "source": [
    "## 2. Operadores aritméticos"
   ]
  },
  {
   "cell_type": "code",
   "execution_count": 3,
   "id": "19e3963b",
   "metadata": {
    "ExecuteTime": {
     "end_time": "2021-07-12T22:34:38.699034Z",
     "start_time": "2021-07-12T22:34:38.694026Z"
    }
   },
   "outputs": [],
   "source": [
    "def __add__(self, other):\n",
    "    # soma hora com hora, minuto com minuto e segundo com segundo\n",
    "    h = self.h + other.h\n",
    "    m = self.m + other.m\n",
    "    s = self.s + other.s\n",
    "\n",
    "    # corrige os segundos em excesso\n",
    "    if s >= 60:\n",
    "        s = s - 60\n",
    "        m = m + 1\n",
    "\n",
    "    # corrige os minutos em excesso\n",
    "    if m >= 60:\n",
    "        m = m - 60\n",
    "        h = h + 1\n",
    "\n",
    "    # um Horario + outro Horario = terceiro Horario\n",
    "    # vamos criar um objeto Horario usando o h, m e s calculados!\n",
    "    resultado = Horario(h=h, m=m, s=s)\n",
    "\n",
    "    # retornando o resultado para poder fazer operações como \"c = a + b\"\n",
    "    return resultado"
   ]
  },
  {
   "cell_type": "code",
   "execution_count": 4,
   "id": "df981e9e",
   "metadata": {
    "ExecuteTime": {
     "end_time": "2021-07-12T22:34:40.714063Z",
     "start_time": "2021-07-12T22:34:40.479069Z"
    }
   },
   "outputs": [
    {
     "ename": "TypeError",
     "evalue": "unsupported operand type(s) for +: 'Horario' and 'Horario'",
     "output_type": "error",
     "traceback": [
      "\u001b[1;31m---------------------------------------------------------------------------\u001b[0m",
      "\u001b[1;31mTypeError\u001b[0m                                 Traceback (most recent call last)",
      "\u001b[1;32m<ipython-input-4-63b65bf497f0>\u001b[0m in \u001b[0;36m<module>\u001b[1;34m\u001b[0m\n\u001b[0;32m      2\u001b[0m \u001b[0mduracaoIntervalo\u001b[0m \u001b[1;33m=\u001b[0m \u001b[0mHorario\u001b[0m \u001b[1;33m(\u001b[0m\u001b[0mm\u001b[0m\u001b[1;33m=\u001b[0m\u001b[1;36m15\u001b[0m\u001b[1;33m)\u001b[0m\u001b[1;33m\u001b[0m\u001b[1;33m\u001b[0m\u001b[0m\n\u001b[0;32m      3\u001b[0m \u001b[1;33m\u001b[0m\u001b[0m\n\u001b[1;32m----> 4\u001b[1;33m \u001b[0mtransmissaoTotal\u001b[0m \u001b[1;33m=\u001b[0m \u001b[0mduracaoJogo\u001b[0m \u001b[1;33m+\u001b[0m \u001b[0mduracaoIntervalo\u001b[0m\u001b[1;33m\u001b[0m\u001b[1;33m\u001b[0m\u001b[0m\n\u001b[0m\u001b[0;32m      5\u001b[0m \u001b[0mprint\u001b[0m\u001b[1;33m(\u001b[0m\u001b[0mtransmissaoTotal\u001b[0m\u001b[1;33m)\u001b[0m\u001b[1;33m\u001b[0m\u001b[1;33m\u001b[0m\u001b[0m\n",
      "\u001b[1;31mTypeError\u001b[0m: unsupported operand type(s) for +: 'Horario' and 'Horario'"
     ]
    }
   ],
   "source": [
    "duracaoJogo = Horario (h=1, m=30)\n",
    "duracaoIntervalo = Horario (m=15)\n",
    "\n",
    "transmissaoTotal = duracaoJogo + duracaoIntervalo\n",
    "print(transmissaoTotal)"
   ]
  },
  {
   "cell_type": "markdown",
   "id": "a102b4e1",
   "metadata": {},
   "source": [
    "## 3. Operadores lógicos"
   ]
  },
  {
   "cell_type": "code",
   "execution_count": 6,
   "id": "0e3c3a10",
   "metadata": {
    "ExecuteTime": {
     "end_time": "2021-07-07T23:43:11.389579Z",
     "start_time": "2021-07-07T23:43:11.385580Z"
    }
   },
   "outputs": [],
   "source": [
    "def __gt__(self, other):\n",
    "    # hora é maior\n",
    "    if self.h > other.h:\n",
    "        return True\n",
    "    # empate na hora, mas minuto é maior\n",
    "    elif self.h == other.h and self.m > other.m:\n",
    "        return True\n",
    "    # empate na hora e no minuto, mas segundo é maior\n",
    "    elif self.h == other.h and self.m == other.m and self.s > other.s:\n",
    "        return True\n",
    "    # em todos os outros casos, o objeto é definitivamente menor\n",
    "    else:\n",
    "        return False"
   ]
  },
  {
   "cell_type": "code",
   "execution_count": 7,
   "id": "4a911ab9",
   "metadata": {
    "ExecuteTime": {
     "end_time": "2021-07-07T23:43:17.182684Z",
     "start_time": "2021-07-07T23:43:17.176684Z"
    }
   },
   "outputs": [
    {
     "ename": "TypeError",
     "evalue": "'>' not supported between instances of 'Horario' and 'Horario'",
     "output_type": "error",
     "traceback": [
      "\u001b[1;31m---------------------------------------------------------------------------\u001b[0m",
      "\u001b[1;31mTypeError\u001b[0m                                 Traceback (most recent call last)",
      "\u001b[1;32m<ipython-input-7-a23148402d10>\u001b[0m in \u001b[0;36m<module>\u001b[1;34m\u001b[0m\n\u001b[1;32m----> 1\u001b[1;33m \u001b[1;32mif\u001b[0m \u001b[0mduracaoJogo\u001b[0m \u001b[1;33m>\u001b[0m \u001b[0mduracaoIntervalo\u001b[0m\u001b[1;33m:\u001b[0m\u001b[1;33m\u001b[0m\u001b[1;33m\u001b[0m\u001b[0m\n\u001b[0m\u001b[0;32m      2\u001b[0m     \u001b[0mprint\u001b[0m\u001b[1;33m(\u001b[0m\u001b[1;34m'Temos mais tempo de jogo do que de intervalo'\u001b[0m\u001b[1;33m)\u001b[0m\u001b[1;33m\u001b[0m\u001b[1;33m\u001b[0m\u001b[0m\n\u001b[0;32m      3\u001b[0m \u001b[1;32melse\u001b[0m\u001b[1;33m:\u001b[0m\u001b[1;33m\u001b[0m\u001b[1;33m\u001b[0m\u001b[0m\n\u001b[0;32m      4\u001b[0m     \u001b[0mprint\u001b[0m\u001b[1;33m(\u001b[0m\u001b[1;34m'Temos mais tempo de intervalo do que de jogo'\u001b[0m\u001b[1;33m)\u001b[0m\u001b[1;33m\u001b[0m\u001b[1;33m\u001b[0m\u001b[0m\n",
      "\u001b[1;31mTypeError\u001b[0m: '>' not supported between instances of 'Horario' and 'Horario'"
     ]
    }
   ],
   "source": [
    "if duracaoJogo > duracaoIntervalo:\n",
    "    print('Temos mais tempo de jogo do que de intervalo')\n",
    "else:\n",
    "    print('Temos mais tempo de intervalo do que de jogo')"
   ]
  },
  {
   "cell_type": "code",
   "execution_count": 8,
   "id": "2edc66b0",
   "metadata": {
    "ExecuteTime": {
     "end_time": "2021-07-07T23:44:09.446470Z",
     "start_time": "2021-07-07T23:44:09.441447Z"
    }
   },
   "outputs": [
    {
     "ename": "SyntaxError",
     "evalue": "invalid syntax (<ipython-input-8-397d16ca87fb>, line 1)",
     "output_type": "error",
     "traceback": [
      "\u001b[1;36m  File \u001b[1;32m\"<ipython-input-8-397d16ca87fb>\"\u001b[1;36m, line \u001b[1;32m1\u001b[0m\n\u001b[1;33m    Os métodos lógicos são:\u001b[0m\n\u001b[1;37m       ^\u001b[0m\n\u001b[1;31mSyntaxError\u001b[0m\u001b[1;31m:\u001b[0m invalid syntax\n"
     ]
    }
   ],
   "source": [
    "Os métodos lógicos são:\n",
    "\n",
    "__gt__ maior que (greater than): >\n",
    "__ge__ maior ou igual (greater or equal): >=\n",
    "__lt__ menor que (less than): <\n",
    "__le__ menor ou igual (less or equal): <=\n",
    "__eq__ igual (equal): ==\n",
    "__ne__ diferente (not equal): !="
   ]
  },
  {
   "cell_type": "code",
   "execution_count": null,
   "id": "e08f8095",
   "metadata": {},
   "outputs": [],
   "source": []
  }
 ],
 "metadata": {
  "kernelspec": {
   "display_name": "Python 3",
   "language": "python",
   "name": "python3"
  },
  "language_info": {
   "codemirror_mode": {
    "name": "ipython",
    "version": 3
   },
   "file_extension": ".py",
   "mimetype": "text/x-python",
   "name": "python",
   "nbconvert_exporter": "python",
   "pygments_lexer": "ipython3",
   "version": "3.8.10"
  }
 },
 "nbformat": 4,
 "nbformat_minor": 5
}
