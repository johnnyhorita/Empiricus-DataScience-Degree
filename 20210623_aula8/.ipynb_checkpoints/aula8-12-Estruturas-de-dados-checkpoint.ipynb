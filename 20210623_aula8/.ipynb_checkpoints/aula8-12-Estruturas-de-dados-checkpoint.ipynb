{
 "cells": [
  {
   "cell_type": "markdown",
   "id": "8bcdb687",
   "metadata": {},
   "source": [
    "# Aula 8\n",
    "\n",
    "## 12.  Estruturas de dados\n"
   ]
  },
  {
   "cell_type": "markdown",
   "id": "ac0ce577",
   "metadata": {},
   "source": [
    "## 1. Tuplas"
   ]
  },
  {
   "cell_type": "code",
   "execution_count": 1,
   "id": "494e3d60",
   "metadata": {},
   "outputs": [
    {
     "name": "stdout",
     "output_type": "stream",
     "text": [
      "sete\n",
      "Percorrendo a tupla...\n",
      "1\n",
      "2\n",
      "3\n",
      "5\n",
      "sete\n",
      "11.0\n",
      "[1, 2, 3, 5, 'sete', 11.0, 13]\n",
      "(1, 2, 3, 5, 'sete', 11.0, 13)\n"
     ]
    }
   ],
   "source": [
    "# para criar uma tupla utilizamos parênteses\n",
    "tupla = (1, 2, 3, 5, 'sete', 11.0) \n",
    "\n",
    "# note que para acessar um elemento pelo índice ainda usamos colchete\n",
    "print(tupla[4]) \n",
    "\n",
    "print('Percorrendo a tupla...')\n",
    "for elemento in tupla:\n",
    "    print(elemento)\n",
    "\n",
    "# criando uma lista com os elementos da tupla\n",
    "lista = list(tupla) \n",
    "# adicionando um elemento na lista - ao contrário da tupla, a lista é mutável!\n",
    "lista.append(13) \n",
    "print(lista)\n",
    "\n",
    "# criando uma tupla a partir de uma lista:\n",
    "tuplanova = tuple(lista)\n",
    "print(tuplanova)"
   ]
  },
  {
   "cell_type": "markdown",
   "id": "a0dfb434",
   "metadata": {},
   "source": [
    "### 2. Dicionários"
   ]
  },
  {
   "cell_type": "code",
   "execution_count": 2,
   "id": "cdc59cfa",
   "metadata": {},
   "outputs": [
    {
     "name": "stdout",
     "output_type": "stream",
     "text": [
      "Python Pro\n",
      "Let's Code\n"
     ]
    }
   ],
   "source": [
    "dicionario = {'curso':'Python Pro', 'escola':\"Let's Code\"}\n",
    "print(dicionario['curso'])\n",
    "print(dicionario['escola'])"
   ]
  },
  {
   "cell_type": "markdown",
   "id": "67c0c12f",
   "metadata": {},
   "source": [
    "### 2.1. Adicionando elementos em um dicionário"
   ]
  },
  {
   "cell_type": "code",
   "execution_count": 3,
   "id": "19e3963b",
   "metadata": {},
   "outputs": [
    {
     "name": "stdout",
     "output_type": "stream",
     "text": [
      "{'curso': 'Python Pro', 'escola': \"Let's Code\", 'unidade': 'Faria Lima'}\n"
     ]
    }
   ],
   "source": [
    "dicionario = {'curso':'Python Pro', 'escola':\"Let's Code\"}\n",
    "dicionario['unidade'] = 'Faria Lima'\n",
    "print(dicionario)"
   ]
  },
  {
   "cell_type": "markdown",
   "id": "66b01bad",
   "metadata": {},
   "source": [
    "### 2.2. Percorrendo um dicionário"
   ]
  },
  {
   "cell_type": "code",
   "execution_count": 4,
   "id": "df981e9e",
   "metadata": {},
   "outputs": [
    {
     "name": "stdout",
     "output_type": "stream",
     "text": [
      "curso ---> Python Pro\n",
      "escola ---> Let's Code\n",
      "unidade ---> Faria Lima\n"
     ]
    }
   ],
   "source": [
    "dicionario = {'curso':'Python Pro', 'escola':\"Let's Code\"}\n",
    "dicionario['unidade'] = 'Faria Lima'\n",
    "\n",
    "for chave in dicionario:\n",
    "    print(chave, '--->', dicionario[chave])"
   ]
  },
  {
   "cell_type": "markdown",
   "id": "a102b4e1",
   "metadata": {},
   "source": [
    "### 2.3. Separando chaves e valores"
   ]
  },
  {
   "cell_type": "code",
   "execution_count": 5,
   "id": "0e3c3a10",
   "metadata": {},
   "outputs": [
    {
     "name": "stdout",
     "output_type": "stream",
     "text": [
      "Chaves:  ['curso', 'escola', 'unidade']\n",
      "Valores: ['Python Pro', \"Let's Code\", 'Faria Lima']\n"
     ]
    }
   ],
   "source": [
    "dicionario = {'curso':'Python Pro', 'escola':\"Let's Code\"}\n",
    "dicionario['unidade'] = 'Faria Lima'\n",
    "\n",
    "chaves = list(dicionario.keys())\n",
    "valores = list(dicionario.values())\n",
    "\n",
    "print('Chaves: ', chaves)\n",
    "print('Valores:', valores)"
   ]
  },
  {
   "cell_type": "markdown",
   "id": "da3b0d2f",
   "metadata": {},
   "source": [
    "### 2.4. Testando a existência de uma chave"
   ]
  },
  {
   "cell_type": "code",
   "execution_count": 6,
   "id": "97bd9584",
   "metadata": {},
   "outputs": [
    {
     "name": "stdout",
     "output_type": "stream",
     "text": [
      "{'escola': \"Let's Code\", 'unidade': 'Faria Lima', 'cursos': ['Python', 'Data Science']}\n"
     ]
    }
   ],
   "source": [
    "dicionario = {'escola':\"Let's Code\", 'unidade':'Faria Lima'}\n",
    "\n",
    "# Neste caso, 'cursos' ainda não existe.\n",
    "# Cairemos no else e será criada uma lista com a string 'Python'.\n",
    "if 'cursos' in dicionario:\n",
    "    dicionario['cursos'].append('Python')\n",
    "else:\n",
    "    dicionario['cursos'] = ['Python']\n",
    "\n",
    "# Agora a chave já existe. \n",
    "# Portanto, será adicionado 'Data Science' à lista. \n",
    "if 'cursos' in dicionario:\n",
    "    dicionario['cursos'].append('Data Science')\n",
    "else:\n",
    "    dicionario['cursos'] = ['Data Science']\n",
    "\n",
    "print(dicionario)"
   ]
  },
  {
   "cell_type": "code",
   "execution_count": null,
   "id": "4a911ab9",
   "metadata": {},
   "outputs": [],
   "source": []
  }
 ],
 "metadata": {
  "kernelspec": {
   "display_name": "Python 3",
   "language": "python",
   "name": "python3"
  },
  "language_info": {
   "codemirror_mode": {
    "name": "ipython",
    "version": 3
   },
   "file_extension": ".py",
   "mimetype": "text/x-python",
   "name": "python",
   "nbconvert_exporter": "python",
   "pygments_lexer": "ipython3",
   "version": "3.8.10"
  }
 },
 "nbformat": 4,
 "nbformat_minor": 5
}
