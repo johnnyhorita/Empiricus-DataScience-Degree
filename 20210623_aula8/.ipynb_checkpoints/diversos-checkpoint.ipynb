{
 "cells": [
  {
   "cell_type": "code",
   "execution_count": null,
   "id": "351fee22",
   "metadata": {},
   "outputs": [],
   "source": [
    "from pynput.keyboard import Key, Listener\n",
    "  \n",
    "def show(key):\n",
    "  \n",
    "    print('\\nYou Entered {0}'.format( key))\n",
    "  \n",
    "    if key == Key.delete:\n",
    "        # Stop listener\n",
    "        return False\n",
    "  \n",
    "# Collect all event until released\n",
    "with Listener(on_press = show) as listener:   \n",
    "    listener.join()"
   ]
  }
 ],
 "metadata": {
  "kernelspec": {
   "display_name": "Python 3",
   "language": "python",
   "name": "python3"
  },
  "language_info": {
   "codemirror_mode": {
    "name": "ipython",
    "version": 3
   },
   "file_extension": ".py",
   "mimetype": "text/x-python",
   "name": "python",
   "nbconvert_exporter": "python",
   "pygments_lexer": "ipython3",
   "version": "3.8.10"
  }
 },
 "nbformat": 4,
 "nbformat_minor": 5
}
