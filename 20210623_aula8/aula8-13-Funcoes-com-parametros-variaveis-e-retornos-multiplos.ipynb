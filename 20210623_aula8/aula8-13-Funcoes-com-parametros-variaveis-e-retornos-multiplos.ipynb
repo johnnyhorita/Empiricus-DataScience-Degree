{
 "cells": [
  {
   "cell_type": "markdown",
   "id": "8bcdb687",
   "metadata": {},
   "source": [
    "# Aula 8\n",
    "\n",
    "## 13.  Funções com parâmetros variáveis e retornos múltiplos\n"
   ]
  },
  {
   "cell_type": "markdown",
   "id": "ac0ce577",
   "metadata": {},
   "source": [
    "## 1. Funções com retorno múltiplo"
   ]
  },
  {
   "cell_type": "code",
   "execution_count": 2,
   "id": "494e3d60",
   "metadata": {},
   "outputs": [
    {
     "name": "stdout",
     "output_type": "stream",
     "text": [
      "(9, 1)\n",
      "<class 'tuple'>\n"
     ]
    }
   ],
   "source": [
    "def maxmin(colecao):\n",
    "    maior = max(colecao)\n",
    "    menor = min(colecao)\n",
    "    return maior, menor\n",
    "\n",
    "numeros = [3, 1, 4, 1, 5, 9, 2]\n",
    "\n",
    "resposta = maxmin(numeros)\n",
    "print(resposta)\n",
    "print(type(resposta)) # mostra o tipo da variável resposta"
   ]
  },
  {
   "cell_type": "code",
   "execution_count": 3,
   "id": "248d12c9",
   "metadata": {},
   "outputs": [
    {
     "name": "stdout",
     "output_type": "stream",
     "text": [
      "9\n",
      "1\n"
     ]
    }
   ],
   "source": [
    "def maxmin(colecao):\n",
    "    maior = max(colecao)\n",
    "    menor = min(colecao)\n",
    "    return maior, menor\n",
    "\n",
    "numeros = [3, 1, 4, 1, 5, 9, 2]\n",
    "\n",
    "maiorNum, menorNum = maxmin(numeros)\n",
    "print(maiorNum)\n",
    "print(menorNum)"
   ]
  },
  {
   "cell_type": "markdown",
   "id": "a0dfb434",
   "metadata": {},
   "source": [
    "## 2. Funções com quantidade variável de parâmetros\n",
    "\n",
    "### 2.1. Agrupando parâmetros"
   ]
  },
  {
   "cell_type": "code",
   "execution_count": 4,
   "id": "cdc59cfa",
   "metadata": {},
   "outputs": [
    {
     "name": "stdout",
     "output_type": "stream",
     "text": [
      "9 30 55\n"
     ]
    }
   ],
   "source": [
    "def somatorio(*numeros):\n",
    "    # remova o símbolo de comentário das linhas abaixo para entender melhor o parâmetro\n",
    "    # print (numeros)\n",
    "    # print(type(numeros))\n",
    "    soma = 0\n",
    "    for n in numeros:\n",
    "        soma = soma + n\n",
    "    return soma\n",
    "\n",
    "s1 = somatorio(5, 3, 1)\n",
    "s2 = somatorio(2, 4, 6, 8, 10)\n",
    "s3 = somatorio(1, 2, 3, 4, 5, 6, 7, 8, 9, 10)\n",
    "print(s1, s2, s3)"
   ]
  },
  {
   "cell_type": "markdown",
   "id": "8713f107",
   "metadata": {},
   "source": [
    "### 2.2. Expandindo uma coleção"
   ]
  },
  {
   "cell_type": "code",
   "execution_count": 5,
   "id": "19e3963b",
   "metadata": {},
   "outputs": [
    {
     "name": "stdout",
     "output_type": "stream",
     "text": [
      "([1, 2, 3, 4, 5],)\n",
      "<class 'tuple'>\n"
     ]
    },
    {
     "ename": "TypeError",
     "evalue": "unsupported operand type(s) for +: 'int' and 'list'",
     "output_type": "error",
     "traceback": [
      "\u001b[1;31m---------------------------------------------------------------------------\u001b[0m",
      "\u001b[1;31mTypeError\u001b[0m                                 Traceback (most recent call last)",
      "\u001b[1;32m<ipython-input-5-8aa0da5bbf87>\u001b[0m in \u001b[0;36m<module>\u001b[1;34m\u001b[0m\n\u001b[0;32m      8\u001b[0m \u001b[1;33m\u001b[0m\u001b[0m\n\u001b[0;32m      9\u001b[0m \u001b[0mlista\u001b[0m \u001b[1;33m=\u001b[0m \u001b[1;33m[\u001b[0m\u001b[1;36m1\u001b[0m\u001b[1;33m,\u001b[0m \u001b[1;36m2\u001b[0m\u001b[1;33m,\u001b[0m \u001b[1;36m3\u001b[0m\u001b[1;33m,\u001b[0m \u001b[1;36m4\u001b[0m\u001b[1;33m,\u001b[0m \u001b[1;36m5\u001b[0m\u001b[1;33m]\u001b[0m\u001b[1;33m\u001b[0m\u001b[1;33m\u001b[0m\u001b[0m\n\u001b[1;32m---> 10\u001b[1;33m \u001b[0ms\u001b[0m \u001b[1;33m=\u001b[0m \u001b[0msomatorio\u001b[0m\u001b[1;33m(\u001b[0m\u001b[0mlista\u001b[0m\u001b[1;33m)\u001b[0m\u001b[1;33m\u001b[0m\u001b[1;33m\u001b[0m\u001b[0m\n\u001b[0m\u001b[0;32m     11\u001b[0m \u001b[0mprint\u001b[0m\u001b[1;33m(\u001b[0m\u001b[0ms\u001b[0m\u001b[1;33m)\u001b[0m\u001b[1;33m\u001b[0m\u001b[1;33m\u001b[0m\u001b[0m\n",
      "\u001b[1;32m<ipython-input-5-8aa0da5bbf87>\u001b[0m in \u001b[0;36msomatorio\u001b[1;34m(*numeros)\u001b[0m\n\u001b[0;32m      4\u001b[0m     \u001b[0msoma\u001b[0m \u001b[1;33m=\u001b[0m \u001b[1;36m0\u001b[0m\u001b[1;33m\u001b[0m\u001b[1;33m\u001b[0m\u001b[0m\n\u001b[0;32m      5\u001b[0m     \u001b[1;32mfor\u001b[0m \u001b[0mn\u001b[0m \u001b[1;32min\u001b[0m \u001b[0mnumeros\u001b[0m\u001b[1;33m:\u001b[0m\u001b[1;33m\u001b[0m\u001b[1;33m\u001b[0m\u001b[0m\n\u001b[1;32m----> 6\u001b[1;33m         \u001b[0msoma\u001b[0m \u001b[1;33m=\u001b[0m \u001b[0msoma\u001b[0m \u001b[1;33m+\u001b[0m \u001b[0mn\u001b[0m\u001b[1;33m\u001b[0m\u001b[1;33m\u001b[0m\u001b[0m\n\u001b[0m\u001b[0;32m      7\u001b[0m     \u001b[1;32mreturn\u001b[0m \u001b[0msoma\u001b[0m\u001b[1;33m\u001b[0m\u001b[1;33m\u001b[0m\u001b[0m\n\u001b[0;32m      8\u001b[0m \u001b[1;33m\u001b[0m\u001b[0m\n",
      "\u001b[1;31mTypeError\u001b[0m: unsupported operand type(s) for +: 'int' and 'list'"
     ]
    }
   ],
   "source": [
    "# Note que o programa dará erro, pois como os print dentro da função ilustram, foi criada uma tupla, \n",
    "# e na primeira posição da tupla foi armazenada a lista. Isso não funciona com a lógica que projetamos.\n",
    "\n",
    "def somatorio(*numeros):\n",
    "    print (numeros)\n",
    "    print(type(numeros))\n",
    "    soma = 0\n",
    "    for n in numeros:\n",
    "        soma = soma + n\n",
    "    return soma\n",
    "\n",
    "lista = [1, 2, 3, 4, 5]\n",
    "s = somatorio(lista)\n",
    "print(s)"
   ]
  },
  {
   "cell_type": "code",
   "execution_count": 6,
   "id": "9035e6e7",
   "metadata": {},
   "outputs": [
    {
     "name": "stdout",
     "output_type": "stream",
     "text": [
      "(1, 2, 3, 4, 5)\n",
      "<class 'tuple'>\n",
      "15\n"
     ]
    }
   ],
   "source": [
    "def somatorio(*numeros):\n",
    "    print (numeros)\n",
    "    print(type(numeros))\n",
    "    soma = 0\n",
    "    for n in numeros:\n",
    "        soma = soma + n\n",
    "    return soma\n",
    "\n",
    "lista = [1, 2, 3, 4, 5]\n",
    "s = somatorio(*lista)\n",
    "print(s)"
   ]
  },
  {
   "cell_type": "markdown",
   "id": "da3b0d2f",
   "metadata": {},
   "source": [
    "## 3. Parâmetros opcionais\n",
    "\n",
    "### 3.1. Criando parâmetros opcionais"
   ]
  },
  {
   "cell_type": "code",
   "execution_count": 7,
   "id": "d846f8fa",
   "metadata": {},
   "outputs": [
    {
     "name": "stdout",
     "output_type": "stream",
     "text": [
      "Cadastro realizado com sucesso!\n",
      "Cadastro realizado com sucesso!\n",
      "Cadastro realizado com sucesso!\n",
      "Nenhum dado encontrado!\n"
     ]
    }
   ],
   "source": [
    "def cadastro(**usuario):\n",
    "    if not ('nome' in usuario) and not ('cpf') in usuario:\n",
    "        print('Nenhum dado encontrado!')\n",
    "    else:\n",
    "        arquivo = open('usuarios.txt', 'a')\n",
    "        if 'nome' in usuario:\n",
    "            arquivo.write(usuario['nome'] + '\\n')\n",
    "        if 'cpf' in usuario:\n",
    "            arquivo.write(str(usuario['cpf']) + '\\n')\n",
    "        arquivo.write('-----\\n')\n",
    "        arquivo.close()\n",
    "        print('Cadastro realizado com sucesso!')\n",
    "\n",
    "cadastro(nome = 'João', cpf = 123456789) # tem ambos\n",
    "cadastro(nome = 'José') # tem apenas nome\n",
    "cadastro(cpf = 987654321) # tem apenas cpf\n",
    "cadastro(rg = 192837465) # não tem nome nem cpf"
   ]
  },
  {
   "cell_type": "markdown",
   "id": "f864626d",
   "metadata": {},
   "source": [
    "### 3.2. Expandindo um dicionário"
   ]
  },
  {
   "cell_type": "code",
   "execution_count": 8,
   "id": "5ebc054b",
   "metadata": {},
   "outputs": [
    {
     "name": "stdout",
     "output_type": "stream",
     "text": [
      "Cadastro realizado com sucesso!\n"
     ]
    }
   ],
   "source": [
    "def cadastro(**usuario):\n",
    "    if not ('nome' in usuario) and not ('cpf') in usuario:\n",
    "        print('Nenhum dado encontrado!')\n",
    "    else:\n",
    "        arquivo = open('usuarios.txt', 'a')\n",
    "        if 'nome' in usuario:\n",
    "            arquivo.write(usuario['nome'] + '\\n')\n",
    "        if 'cpf' in usuario:\n",
    "            arquivo.write(str(usuario['cpf']) + '\\n')\n",
    "        arquivo.write('-----\\n')\n",
    "        arquivo.close()\n",
    "        print('Cadastro realizado com sucesso!')\n",
    "\n",
    "maria = {'nome':'Maria', 'cpf':2468135790}\n",
    "cadastro(**maria)"
   ]
  },
  {
   "cell_type": "code",
   "execution_count": null,
   "id": "4a911ab9",
   "metadata": {},
   "outputs": [],
   "source": []
  }
 ],
 "metadata": {
  "kernelspec": {
   "display_name": "Python 3",
   "language": "python",
   "name": "python3"
  },
  "language_info": {
   "codemirror_mode": {
    "name": "ipython",
    "version": 3
   },
   "file_extension": ".py",
   "mimetype": "text/x-python",
   "name": "python",
   "nbconvert_exporter": "python",
   "pygments_lexer": "ipython3",
   "version": "3.8.10"
  }
 },
 "nbformat": 4,
 "nbformat_minor": 5
}
