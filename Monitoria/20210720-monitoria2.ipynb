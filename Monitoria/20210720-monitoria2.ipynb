{
 "cells": [
  {
   "cell_type": "markdown",
   "id": "8743bb6e",
   "metadata": {},
   "source": [
    "# Monitoria 20/07/2021"
   ]
  },
  {
   "cell_type": "code",
   "execution_count": null,
   "id": "f98ebe09",
   "metadata": {},
   "outputs": [],
   "source": [
    "def __eq__(self, other):\n",
    "    return self.dia == other.dia and \\\n",
    "            self.mes == other.mes and \\\n",
    "            self.ano == other.ano\n",
    "    "
   ]
  },
  {
   "cell_type": "code",
   "execution_count": 7,
   "id": "c577a327",
   "metadata": {},
   "outputs": [
    {
     "data": {
      "text/plain": [
       "'2021-07-10'"
      ]
     },
     "execution_count": 7,
     "metadata": {},
     "output_type": "execute_result"
    }
   ],
   "source": [
    "dia = 10\n",
    "mes = 7\n",
    "ano = 2021\n",
    "\n",
    "\n",
    "data_convertida = f'{ano}-{mes:02d}-{dia:02d}'\n",
    "\n",
    "data_convertida"
   ]
  },
  {
   "cell_type": "markdown",
   "id": "405b4804",
   "metadata": {},
   "source": [
    "-----------"
   ]
  },
  {
   "cell_type": "code",
   "execution_count": 8,
   "id": "6c493c0b",
   "metadata": {},
   "outputs": [],
   "source": [
    "class Agenda:\n",
    "    \n",
    "    def __init__(self):\n",
    "        self.contatos = {}\n",
    "        \n",
    "    def incluir_contato(self, nome, numero):\n",
    "        # colocar o código que incluir um contato\n",
    "        if nome not in self.contatos.keys():\n",
    "            self.contatos[nome] = numero\n",
    "        \n",
    "    \n",
    "    def remover_contato(self, nome):\n",
    "        # colocar o código que exclui um contato\n",
    "        del self.contatos[nome]\n",
    "    \n",
    "    def buscar_contato(self):\n",
    "        # colocar o código que busca um contato\n",
    "        pass\n",
    "    \n",
    "    def listar_contatos(self):\n",
    "        # colocar o código que lista os contatos\n",
    "        pass\n",
    "    \n",
    "    def __repr__(self):\n",
    "        return str(self.contatos)\n",
    "    \n",
    "class Cliente:\n",
    "    def __init__(self, nome):\n",
    "        self.nome = nome\n",
    "    "
   ]
  },
  {
   "cell_type": "code",
   "execution_count": 9,
   "id": "5adf727a",
   "metadata": {},
   "outputs": [],
   "source": [
    "agenda_1 = Agenda()"
   ]
  },
  {
   "cell_type": "code",
   "execution_count": 11,
   "id": "b96aa6c0",
   "metadata": {},
   "outputs": [],
   "source": [
    "agenda_1.incluir_contato('Helder', 3213123132)"
   ]
  },
  {
   "cell_type": "code",
   "execution_count": 13,
   "id": "897ea7e1",
   "metadata": {},
   "outputs": [],
   "source": [
    "agenda_1.incluir_contato('Carlos', 3213123132)"
   ]
  },
  {
   "cell_type": "code",
   "execution_count": 14,
   "id": "06180b80",
   "metadata": {},
   "outputs": [
    {
     "data": {
      "text/plain": [
       "{'Helder': 3213123132, 'Carlos': 3213123132}"
      ]
     },
     "execution_count": 14,
     "metadata": {},
     "output_type": "execute_result"
    }
   ],
   "source": [
    "agenda_1"
   ]
  },
  {
   "cell_type": "markdown",
   "id": "81b2dc5a",
   "metadata": {},
   "source": [
    "------------"
   ]
  },
  {
   "cell_type": "code",
   "execution_count": 15,
   "id": "7074ddb6",
   "metadata": {},
   "outputs": [
    {
     "name": "stdout",
     "output_type": "stream",
     "text": [
      "Digite o seu CPF (sem pontos ou traço)43399999900\n"
     ]
    }
   ],
   "source": [
    "cpf = input('Digite o seu CPF (sem pontos ou traço)')"
   ]
  },
  {
   "cell_type": "code",
   "execution_count": 18,
   "id": "477a1809",
   "metadata": {},
   "outputs": [
    {
     "data": {
      "text/plain": [
       "[4, 3, 3, 9, 9, 9, 9, 9, 9, 0, 0]"
      ]
     },
     "execution_count": 18,
     "metadata": {},
     "output_type": "execute_result"
    }
   ],
   "source": [
    "lista = []\n",
    "\n",
    "for digito in cpf:\n",
    "    lista.append(int(digito))\n",
    "    \n",
    "lista"
   ]
  },
  {
   "cell_type": "markdown",
   "id": "99631c6b",
   "metadata": {},
   "source": [
    "--------------"
   ]
  },
  {
   "cell_type": "markdown",
   "id": "ce8807e5",
   "metadata": {},
   "source": [
    "Questão #6\n",
    "Vale\n",
    "10\n",
    "Enunciado\n",
    "Faça uma função que recebe um número e retorna True se ele é par ou False, se ele é ímpar."
   ]
  },
  {
   "cell_type": "code",
   "execution_count": 25,
   "id": "ff11f820",
   "metadata": {},
   "outputs": [
    {
     "name": "stdout",
     "output_type": "stream",
     "text": [
      "Digite um numero: 3\n",
      "O número digitado é ímpar!!\n",
      "A informação inserida é um booleano do tipo False. O número digitado foi: 3. O código da operação foi 5\n"
     ]
    }
   ],
   "source": [
    "def testa_par(numero):\n",
    "   \n",
    "    if numero %2 == 0:\n",
    "        return True, 10\n",
    "    else:\n",
    "        return False, 5\n",
    "                \n",
    "numero_digitado = int(input(\"Digite um numero: \"))\n",
    "resultado, codigo = testa_par(numero_digitado)\n",
    "\n",
    "if resultado == True:\n",
    "    print(f\"O número digitado é par!!\")\n",
    "    \n",
    "else:\n",
    "    print(f\"O número digitado é ímpar!!\")\n",
    "\n",
    "print(f\"A informação inserida é um booleano do tipo {resultado}. O número digitado foi: {numero_digitado}. O código da operação foi {codigo}\")"
   ]
  },
  {
   "cell_type": "markdown",
   "id": "904f06a3",
   "metadata": {},
   "source": [
    "---------"
   ]
  },
  {
   "cell_type": "code",
   "execution_count": 27,
   "id": "2cabc985",
   "metadata": {},
   "outputs": [],
   "source": [
    "class Televisor:\n",
    "    def __init__(self,fabricante, modelo):\n",
    "        self.fabricante = fabricante\n",
    "        self.modelo = modelo\n",
    "        self.canal_atual = 2\n",
    "        self.listacanais = [2,4,5,7,9,11,13, 21,32,36,48]\n",
    "        self.volume = 0\n",
    "    \n",
    "    def volume_aumenta(selfx):\n",
    "        \n",
    "        print('O volume atual é:',self.volume)\n",
    "        \n",
    "        if self.volume < 100:\n",
    "            self.volume = self.volume + 1\n",
    "            \n",
    "        print('O volume  é:',self.volume)\n"
   ]
  },
  {
   "cell_type": "markdown",
   "id": "dee903ef",
   "metadata": {},
   "source": [
    "--------------------"
   ]
  },
  {
   "cell_type": "code",
   "execution_count": 40,
   "id": "42346bca",
   "metadata": {},
   "outputs": [],
   "source": [
    "dicionario = {}"
   ]
  },
  {
   "cell_type": "code",
   "execution_count": 39,
   "id": "b9a592b2",
   "metadata": {},
   "outputs": [],
   "source": [
    "dicionario_interno = {'Nome': 'Lucas', 'Idade': 18}"
   ]
  },
  {
   "cell_type": "code",
   "execution_count": 41,
   "id": "b6bec4e9",
   "metadata": {},
   "outputs": [],
   "source": [
    "dicionario['43399900000'] = dicionario_interno"
   ]
  },
  {
   "cell_type": "code",
   "execution_count": 42,
   "id": "9fc0059a",
   "metadata": {},
   "outputs": [
    {
     "data": {
      "text/plain": [
       "{'43399900000': {'Nome': 'Lucas', 'Idade': 18}}"
      ]
     },
     "execution_count": 42,
     "metadata": {},
     "output_type": "execute_result"
    }
   ],
   "source": [
    "dicionario"
   ]
  },
  {
   "cell_type": "code",
   "execution_count": 43,
   "id": "17814285",
   "metadata": {},
   "outputs": [],
   "source": [
    "dicionario_interno_2 = {'Nome': 'Matheus', 'Idade': 33}"
   ]
  },
  {
   "cell_type": "code",
   "execution_count": 44,
   "id": "3af78595",
   "metadata": {},
   "outputs": [],
   "source": [
    "dicionario['43399900048'] = dicionario_interno_2"
   ]
  },
  {
   "cell_type": "code",
   "execution_count": 49,
   "id": "3f229583",
   "metadata": {},
   "outputs": [
    {
     "data": {
      "text/plain": [
       "{'43399900000': {'Nome': 'Lucas', 'Idade': 18},\n",
       " '43399900048': {'Nome': 'Matheus', 'Idade': 33}}"
      ]
     },
     "execution_count": 49,
     "metadata": {},
     "output_type": "execute_result"
    }
   ],
   "source": [
    "dicionario"
   ]
  },
  {
   "cell_type": "code",
   "execution_count": 50,
   "id": "9eb683da",
   "metadata": {},
   "outputs": [
    {
     "name": "stdout",
     "output_type": "stream",
     "text": [
      "Lucas\n",
      "Matheus\n"
     ]
    }
   ],
   "source": [
    "for chave in dicionario:\n",
    "    print(dicionario[chave]['Nome'])"
   ]
  }
 ],
 "metadata": {
  "kernelspec": {
   "display_name": "Python 3",
   "language": "python",
   "name": "python3"
  },
  "language_info": {
   "codemirror_mode": {
    "name": "ipython",
    "version": 3
   },
   "file_extension": ".py",
   "mimetype": "text/x-python",
   "name": "python",
   "nbconvert_exporter": "python",
   "pygments_lexer": "ipython3",
   "version": "3.8.8"
  }
 },
 "nbformat": 4,
 "nbformat_minor": 5
}
