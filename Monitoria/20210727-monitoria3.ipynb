{
 "cells": [
  {
   "cell_type": "markdown",
   "id": "d13f535c",
   "metadata": {},
   "source": [
    "# Monitoria 27/jul/2021"
   ]
  },
  {
   "cell_type": "code",
   "execution_count": 23,
   "id": "70dba27b",
   "metadata": {},
   "outputs": [],
   "source": [
    "class Pessoa:\n",
    "    \n",
    "    lista_pessoas = []\n",
    "    \n",
    "    def __init__(self, nome, idade):\n",
    "        self.nome = nome\n",
    "        self.idade = idade\n",
    "        self.filhos = []\n",
    "        \n",
    "        Pessoa.lista_pessoas.append(self)\n",
    "        \n",
    "    def tem_filho(self, filho):\n",
    "        self.filhos.append(filho)\n",
    "        \n",
    "    def remove_pessoa(self):\n",
    "        Pessoa.lista_pessoas.remove(self)\n",
    "        \n",
    "    def __repr__(self):\n",
    "        return self.nome"
   ]
  },
  {
   "cell_type": "code",
   "execution_count": 16,
   "id": "46320e24",
   "metadata": {},
   "outputs": [],
   "source": [
    "p1 = Pessoa('Paulo', 30)\n",
    "p2 = Pessoa('Ricardo', 18)"
   ]
  },
  {
   "cell_type": "code",
   "execution_count": 17,
   "id": "161fb1e7",
   "metadata": {},
   "outputs": [
    {
     "data": {
      "text/plain": [
       "'Ricardo'"
      ]
     },
     "execution_count": 17,
     "metadata": {},
     "output_type": "execute_result"
    }
   ],
   "source": [
    "p2.nome"
   ]
  },
  {
   "cell_type": "code",
   "execution_count": 19,
   "id": "b39da1b7",
   "metadata": {},
   "outputs": [],
   "source": [
    "p3 = Pessoa('Ana', 25)"
   ]
  },
  {
   "cell_type": "code",
   "execution_count": 20,
   "id": "e65f74b1",
   "metadata": {},
   "outputs": [
    {
     "data": {
      "text/plain": [
       "[Paulo, Ricardo, Ana]"
      ]
     },
     "execution_count": 20,
     "metadata": {},
     "output_type": "execute_result"
    }
   ],
   "source": [
    "Pessoa.lista_pessoas"
   ]
  },
  {
   "cell_type": "markdown",
   "id": "f3a5b9a9",
   "metadata": {},
   "source": [
    "------------"
   ]
  },
  {
   "cell_type": "code",
   "execution_count": 41,
   "id": "e7423417",
   "metadata": {},
   "outputs": [],
   "source": [
    "class Pessoa:\n",
    "    \n",
    "    todas = {}\n",
    "        \n",
    "    def __init__(self, nome, idade, cpf):\n",
    "        self.nome = nome\n",
    "        self.idade = idade\n",
    "        self.filhos = 0\n",
    "        \n",
    "        Pessoa.todas[nome] = self\n",
    "    \n",
    "        \n",
    "    def tem_filho(self):    \n",
    "        self.filhos += 1\n",
    "        \n",
    "    def __repr__(self):\n",
    "        return self.nome + ', ' + str(self.filhos) + ' filhos'"
   ]
  },
  {
   "cell_type": "code",
   "execution_count": 42,
   "id": "75da59ac",
   "metadata": {},
   "outputs": [],
   "source": [
    "for i in range(20):\n",
    "    nome = 'Pessoa ' + str(i)\n",
    "    Pessoa(nome, i)"
   ]
  },
  {
   "cell_type": "code",
   "execution_count": 45,
   "id": "ad319561",
   "metadata": {},
   "outputs": [
    {
     "data": {
      "text/plain": [
       "{'Pessoa 0': Pessoa 0, 1 filhos,\n",
       " 'Pessoa 1': Pessoa 1, 0 filhos,\n",
       " 'Pessoa 2': Pessoa 2, 0 filhos,\n",
       " 'Pessoa 3': Pessoa 3, 0 filhos,\n",
       " 'Pessoa 4': Pessoa 4, 0 filhos,\n",
       " 'Pessoa 5': Pessoa 5, 0 filhos,\n",
       " 'Pessoa 6': Pessoa 6, 0 filhos,\n",
       " 'Pessoa 7': Pessoa 7, 0 filhos,\n",
       " 'Pessoa 8': Pessoa 8, 0 filhos,\n",
       " 'Pessoa 9': Pessoa 9, 0 filhos,\n",
       " 'Pessoa 10': Pessoa 10, 0 filhos,\n",
       " 'Pessoa 11': Pessoa 11, 0 filhos,\n",
       " 'Pessoa 12': Pessoa 12, 0 filhos,\n",
       " 'Pessoa 13': Pessoa 13, 0 filhos,\n",
       " 'Pessoa 14': Pessoa 14, 0 filhos,\n",
       " 'Pessoa 15': Pessoa 15, 0 filhos,\n",
       " 'Pessoa 16': Pessoa 16, 0 filhos,\n",
       " 'Pessoa 17': Pessoa 17, 0 filhos,\n",
       " 'Pessoa 18': Pessoa 18, 0 filhos,\n",
       " 'Pessoa 19': Pessoa 19, 0 filhos}"
      ]
     },
     "execution_count": 45,
     "metadata": {},
     "output_type": "execute_result"
    }
   ],
   "source": [
    "Pessoa.todas"
   ]
  },
  {
   "cell_type": "code",
   "execution_count": 44,
   "id": "a5ea8052",
   "metadata": {},
   "outputs": [],
   "source": [
    "Pessoa.todas['Pessoa 0'].tem_filho()"
   ]
  },
  {
   "cell_type": "markdown",
   "id": "6402b826",
   "metadata": {},
   "source": [
    "---------"
   ]
  },
  {
   "cell_type": "code",
   "execution_count": 4,
   "id": "c18b858b",
   "metadata": {},
   "outputs": [
    {
     "name": "stdout",
     "output_type": "stream",
     "text": [
      "2\n",
      "[1, 3, 4, 5, 6, 7, 8, 9, 10, 10, 10, 10]\n"
     ]
    }
   ],
   "source": [
    "# d. Função para o sorteio: essa função retira uma carta aleatória do baralho e retorna o \n",
    "# número de pontos que essa carta vale.\n",
    "def sorteio(baralho):\n",
    "    # int das cartas de um naipe \n",
    "\n",
    "    import random\n",
    "    # gerar carta aleatória somente dentro da lista\n",
    "    carta_sorteada = random.sample(baralho, 1)[0]\n",
    "    print(carta_sorteada)\n",
    "\n",
    "    baralho.remove(carta_sorteada)\n",
    "    print(baralho)\n",
    "    \n",
    "    return carta_sorteada\n",
    "    \n",
    "baralho = [1, 2, 3, 4, 5, 6, 7, 8, 9, 10, 10, 10, 10]\n",
    "\n",
    "numero_sorteado = sorteio(baralho)"
   ]
  },
  {
   "cell_type": "code",
   "execution_count": 5,
   "id": "4235dd8e",
   "metadata": {},
   "outputs": [
    {
     "data": {
      "text/plain": [
       "2"
      ]
     },
     "execution_count": 5,
     "metadata": {},
     "output_type": "execute_result"
    }
   ],
   "source": [
    "numero_sorteado"
   ]
  }
 ],
 "metadata": {
  "kernelspec": {
   "display_name": "Python 3",
   "language": "python",
   "name": "python3"
  },
  "language_info": {
   "codemirror_mode": {
    "name": "ipython",
    "version": 3
   },
   "file_extension": ".py",
   "mimetype": "text/x-python",
   "name": "python",
   "nbconvert_exporter": "python",
   "pygments_lexer": "ipython3",
   "version": "3.8.8"
  }
 },
 "nbformat": 4,
 "nbformat_minor": 5
}
