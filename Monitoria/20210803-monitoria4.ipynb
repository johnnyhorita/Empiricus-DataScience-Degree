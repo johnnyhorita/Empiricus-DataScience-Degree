{
 "cells": [
  {
   "cell_type": "markdown",
   "id": "2857cd1f",
   "metadata": {},
   "source": [
    "# Monitoria 03/ago/2021"
   ]
  },
  {
   "cell_type": "code",
   "execution_count": 15,
   "id": "97508994",
   "metadata": {},
   "outputs": [],
   "source": [
    "class Britadeira():\n",
    "    def __init__(self, marca):\n",
    "        self.marca = marca\n",
    "        self.barulho = 'TRRRA'\n",
    "    def furar(self, n=1, sep=''):\n",
    "        som_completo = ''\n",
    "        for i in range(n):\n",
    "            som_completo += self.barulho + sep\n",
    "        print(f'{som_completo}')\n",
    "# Sem alterar a classe acima, instancie e faça o objeto imprimir \"TRRRA TRRRA TRRRA\"."
   ]
  },
  {
   "cell_type": "code",
   "execution_count": 17,
   "id": "cc967c34",
   "metadata": {},
   "outputs": [
    {
     "name": "stdout",
     "output_type": "stream",
     "text": [
      "TRRRA TRRRA TRRRA \n"
     ]
    }
   ],
   "source": [
    "britadeira = Britadeira(marca='marca')\n",
    "britadeira.furar(n=3, sep=' ')"
   ]
  },
  {
   "cell_type": "code",
   "execution_count": 23,
   "id": "59c296d4",
   "metadata": {},
   "outputs": [],
   "source": [
    "def soma(a=0, b=0):\n",
    "    return a+b"
   ]
  },
  {
   "cell_type": "code",
   "execution_count": 25,
   "id": "3fa7f1e1",
   "metadata": {},
   "outputs": [
    {
     "data": {
      "text/plain": [
       "3"
      ]
     },
     "execution_count": 25,
     "metadata": {},
     "output_type": "execute_result"
    }
   ],
   "source": [
    "soma(2, 1)"
   ]
  },
  {
   "cell_type": "markdown",
   "id": "dd38af7a",
   "metadata": {},
   "source": [
    "----------"
   ]
  },
  {
   "cell_type": "code",
   "execution_count": null,
   "id": "60976d36",
   "metadata": {},
   "outputs": [],
   "source": []
  },
  {
   "cell_type": "code",
   "execution_count": null,
   "id": "19977dc6",
   "metadata": {},
   "outputs": [],
   "source": []
  }
 ],
 "metadata": {
  "kernelspec": {
   "display_name": "Python 3",
   "language": "python",
   "name": "python3"
  },
  "language_info": {
   "codemirror_mode": {
    "name": "ipython",
    "version": 3
   },
   "file_extension": ".py",
   "mimetype": "text/x-python",
   "name": "python",
   "nbconvert_exporter": "python",
   "pygments_lexer": "ipython3",
   "version": "3.8.8"
  }
 },
 "nbformat": 4,
 "nbformat_minor": 5
}
