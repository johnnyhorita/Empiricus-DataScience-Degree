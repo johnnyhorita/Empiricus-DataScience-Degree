{
 "cells": [
  {
   "cell_type": "markdown",
   "id": "d495b54c",
   "metadata": {},
   "source": [
    "# Monitoria 17-ago-2021"
   ]
  },
  {
   "cell_type": "code",
   "execution_count": 1,
   "id": "a1214289",
   "metadata": {},
   "outputs": [],
   "source": [
    "import numpy as np"
   ]
  },
  {
   "cell_type": "code",
   "execution_count": 4,
   "id": "e7280996",
   "metadata": {},
   "outputs": [],
   "source": [
    "a = np.arange(12)\n",
    "a = a.reshape(2, 2, 3)"
   ]
  },
  {
   "cell_type": "code",
   "execution_count": 8,
   "id": "341d5e0c",
   "metadata": {},
   "outputs": [
    {
     "data": {
      "text/plain": [
       "array([[[ 0,  1,  2],\n",
       "        [ 3,  4,  5]],\n",
       "\n",
       "       [[ 6,  7,  8],\n",
       "        [ 9, 10, 11]]])"
      ]
     },
     "execution_count": 8,
     "metadata": {},
     "output_type": "execute_result"
    }
   ],
   "source": [
    "a"
   ]
  },
  {
   "cell_type": "code",
   "execution_count": 10,
   "id": "373145d1",
   "metadata": {},
   "outputs": [
    {
     "name": "stdout",
     "output_type": "stream",
     "text": [
      "0\n",
      "1\n",
      "2\n",
      "3\n",
      "4\n",
      "5\n",
      "6\n",
      "7\n",
      "8\n",
      "9\n",
      "10\n",
      "11\n"
     ]
    }
   ],
   "source": [
    "for i in np.nditer(a):\n",
    "    print(i)"
   ]
  },
  {
   "cell_type": "code",
   "execution_count": 13,
   "id": "2d6872e2",
   "metadata": {},
   "outputs": [
    {
     "name": "stdout",
     "output_type": "stream",
     "text": [
      "[[0 1 2]\n",
      " [3 4 5]]\n",
      "[[ 6  7  8]\n",
      " [ 9 10 11]]\n"
     ]
    }
   ],
   "source": [
    "for i in a:\n",
    "    print(i)"
   ]
  },
  {
   "cell_type": "code",
   "execution_count": 15,
   "id": "b60874db",
   "metadata": {},
   "outputs": [
    {
     "name": "stdout",
     "output_type": "stream",
     "text": [
      "[0 1 2]\n",
      "[3 4 5]\n",
      "[6 7 8]\n",
      "[ 9 10 11]\n"
     ]
    }
   ],
   "source": [
    "for i in a:\n",
    "    for j in i:\n",
    "        print(j)"
   ]
  },
  {
   "cell_type": "code",
   "execution_count": 16,
   "id": "67eff9ab",
   "metadata": {},
   "outputs": [
    {
     "name": "stdout",
     "output_type": "stream",
     "text": [
      "0\n",
      "1\n",
      "2\n",
      "3\n",
      "4\n",
      "5\n",
      "6\n",
      "7\n",
      "8\n",
      "9\n",
      "10\n",
      "11\n"
     ]
    }
   ],
   "source": [
    "for i in a:\n",
    "    for j in i:\n",
    "        for k in j:\n",
    "            print(k)"
   ]
  },
  {
   "cell_type": "code",
   "execution_count": 23,
   "id": "7f235963",
   "metadata": {},
   "outputs": [
    {
     "name": "stdout",
     "output_type": "stream",
     "text": [
      "0\n",
      "1\n",
      "2\n",
      "3\n",
      "4\n",
      "5\n",
      "6\n",
      "7\n",
      "8\n",
      "9\n",
      "10\n",
      "11\n"
     ]
    }
   ],
   "source": [
    "for i in range(a.shape[0]):\n",
    "    for j in range(a.shape[1]):\n",
    "        for k in range(a.shape[2]):\n",
    "            print(a[i][j][k])"
   ]
  },
  {
   "cell_type": "code",
   "execution_count": 27,
   "id": "09f03572",
   "metadata": {},
   "outputs": [
    {
     "data": {
      "text/plain": [
       "(2, 2, 3)"
      ]
     },
     "execution_count": 27,
     "metadata": {},
     "output_type": "execute_result"
    }
   ],
   "source": [
    "a.shape"
   ]
  },
  {
   "cell_type": "code",
   "execution_count": 24,
   "id": "d6d1230e",
   "metadata": {},
   "outputs": [
    {
     "data": {
      "text/plain": [
       "2"
      ]
     },
     "execution_count": 24,
     "metadata": {},
     "output_type": "execute_result"
    }
   ],
   "source": [
    "len(a)"
   ]
  },
  {
   "cell_type": "code",
   "execution_count": 34,
   "id": "9592aea3",
   "metadata": {},
   "outputs": [
    {
     "name": "stdout",
     "output_type": "stream",
     "text": [
      "[array(0), array(1), array(2), array(3), array(4), array(5), array(6), array(7), array(8), array(9), array(10), array(11)]\n"
     ]
    }
   ],
   "source": [
    "lista = []\n",
    "\n",
    "for i in np.nditer(a):\n",
    "    lista.append(i)\n",
    "    \n",
    "print(lista)"
   ]
  },
  {
   "cell_type": "code",
   "execution_count": 35,
   "id": "b0118896",
   "metadata": {},
   "outputs": [
    {
     "name": "stdout",
     "output_type": "stream",
     "text": [
      "[0, 1, 2, 3, 4, 5, 6, 7, 8, 9, 10, 11]\n"
     ]
    }
   ],
   "source": [
    "lista = []\n",
    "\n",
    "for i in np.nditer(a):\n",
    "    lista.append(i.item())\n",
    "    \n",
    "print(lista)"
   ]
  },
  {
   "cell_type": "markdown",
   "id": "5f67f837",
   "metadata": {},
   "source": [
    "----------------"
   ]
  },
  {
   "cell_type": "markdown",
   "id": "b4277487",
   "metadata": {},
   "source": [
    "Faça uma função que receba uma lista e conte quantas vezes cada elemento apareceu nessa \n",
    "lista. Essa função deverá guardar os dados em um dicionário no qual as chaves são os \n",
    "elementos da lista e os valores são a contagem de quantas vezes esse elemento aparece."
   ]
  },
  {
   "cell_type": "code",
   "execution_count": 41,
   "id": "6a25b107",
   "metadata": {},
   "outputs": [],
   "source": [
    "lista = ['a', 'a', 'b', 'c', 'c', 'c']"
   ]
  },
  {
   "cell_type": "code",
   "execution_count": 51,
   "id": "46ca7cce",
   "metadata": {},
   "outputs": [],
   "source": [
    "import random\n",
    "\n",
    "lista_grande = [random.choice(['a', 'b', 'c']) for i in range(1_000_000)]"
   ]
  },
  {
   "cell_type": "code",
   "execution_count": 42,
   "id": "715f7c12",
   "metadata": {},
   "outputs": [],
   "source": [
    "def conta_dicionario(lista):\n",
    "    dicionario = {}\n",
    "    \n",
    "    for elemento in lista:\n",
    "        if elemento in dicionario.keys():\n",
    "            dicionario[elemento] += 1\n",
    "        else:\n",
    "            dicionario[elemento] = 1\n",
    "            \n",
    "    return dicionario"
   ]
  },
  {
   "cell_type": "code",
   "execution_count": 44,
   "id": "da27ec2b",
   "metadata": {},
   "outputs": [],
   "source": [
    "from collections import Counter\n",
    "\n",
    "def conta_dicionario_2(lista):\n",
    "    \n",
    "    dicionario = dict(Counter(lista))\n",
    "    \n",
    "    return dicionario"
   ]
  },
  {
   "cell_type": "code",
   "execution_count": 54,
   "id": "852123cb",
   "metadata": {},
   "outputs": [
    {
     "name": "stdout",
     "output_type": "stream",
     "text": [
      "127 ms ± 573 µs per loop (mean ± std. dev. of 7 runs, 10 loops each)\n"
     ]
    }
   ],
   "source": [
    "%%timeit\n",
    "\n",
    "conta_dicionario(lista_grande)"
   ]
  },
  {
   "cell_type": "code",
   "execution_count": 55,
   "id": "7e260509",
   "metadata": {},
   "outputs": [
    {
     "name": "stdout",
     "output_type": "stream",
     "text": [
      "35.3 ms ± 837 µs per loop (mean ± std. dev. of 7 runs, 10 loops each)\n"
     ]
    }
   ],
   "source": [
    "%%timeit\n",
    "\n",
    "conta_dicionario_2(lista_grande)"
   ]
  },
  {
   "cell_type": "code",
   "execution_count": null,
   "id": "af663830",
   "metadata": {},
   "outputs": [],
   "source": []
  }
 ],
 "metadata": {
  "kernelspec": {
   "display_name": "Python 3",
   "language": "python",
   "name": "python3"
  },
  "language_info": {
   "codemirror_mode": {
    "name": "ipython",
    "version": 3
   },
   "file_extension": ".py",
   "mimetype": "text/x-python",
   "name": "python",
   "nbconvert_exporter": "python",
   "pygments_lexer": "ipython3",
   "version": "3.8.8"
  }
 },
 "nbformat": 4,
 "nbformat_minor": 5
}
