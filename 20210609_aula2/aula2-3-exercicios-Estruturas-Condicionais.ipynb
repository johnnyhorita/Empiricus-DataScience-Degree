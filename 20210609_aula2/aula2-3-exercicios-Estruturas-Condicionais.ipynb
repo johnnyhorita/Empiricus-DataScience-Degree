{
 "cells": [
  {
   "cell_type": "markdown",
   "id": "5bd880f4",
   "metadata": {},
   "source": [
    "# Lógica da Programação\n",
    "\n",
    "## 3 - LC | Estruturas Condicionais"
   ]
  },
  {
   "cell_type": "code",
   "execution_count": 9,
   "id": "d4cffbbf",
   "metadata": {},
   "outputs": [
    {
     "name": "stdout",
     "output_type": "stream",
     "text": [
      "Digite a sua idade: 100\n",
      "Maior de 18 anos\n"
     ]
    }
   ],
   "source": [
    "# Questão 1\n",
    "# Faça um programa que peça a idade do usuário e imprima se ele é maior ou menor de 18 anos.\n",
    "\n",
    "age = int(input('Digite a sua idade: '))\n",
    "if (age > 18) :\n",
    "    print('Maior de 18 anos')\n",
    "if (age < 18) :\n",
    "    print('Menor de 18 anos')\n",
    "if (age == 18) :\n",
    "    print('Igual a 18 anos')\n"
   ]
  },
  {
   "cell_type": "code",
   "execution_count": 1,
   "id": "39336700",
   "metadata": {},
   "outputs": [
    {
     "name": "stdout",
     "output_type": "stream",
     "text": [
      "digite sua idade100\n",
      "maior de idade\n"
     ]
    }
   ],
   "source": [
    "# Resposta sugerida\n",
    "\n",
    "idade = int(input(\"digite sua idade\"))\n",
    "if idade >= 18:\n",
    "    print(\"maior de idade\")\n",
    "else:\n",
    "    print(\"menor de idade\")"
   ]
  },
  {
   "cell_type": "code",
   "execution_count": 12,
   "id": "2823629c",
   "metadata": {},
   "outputs": [
    {
     "name": "stdout",
     "output_type": "stream",
     "text": [
      "Digite um número: -1\n",
      "O número informado é negativo\n"
     ]
    }
   ],
   "source": [
    "# Questão 2\n",
    "# Faça um programa que peça um número e mostre se ele é positivo ou negativo.\n",
    "\n",
    "number = int(input('Digite um número: '))\n",
    "if (number > 0) :\n",
    "    print('O número informado é positivo')\n",
    "if (number < 0) :\n",
    "    print('O número informado é negativo')\n",
    "if (number == 0) :\n",
    "    print('O número informado é zero')\n"
   ]
  },
  {
   "cell_type": "code",
   "execution_count": 3,
   "id": "7a2fa250",
   "metadata": {},
   "outputs": [
    {
     "name": "stdout",
     "output_type": "stream",
     "text": [
      "digite um número-1\n",
      "negativo\n",
      "digite um número-1\n",
      "negativo\n"
     ]
    }
   ],
   "source": [
    "# Resposta sugerida\n",
    "\n",
    "num = int(input(\"digite um número\"))\n",
    "if num < 0:\n",
    "    print(\"negativo\")\n",
    "elif num == 0:\n",
    "    print(\"nulo\")\n",
    "else:\n",
    "    print(\"positivo\")\n",
    "\n",
    "# ou ainda\n",
    "num = int(input(\"digite um número\"))\n",
    "if num < 0:\n",
    "    print(\"negativo\")\n",
    "elif num > 0:\n",
    "    print(\"nulo\")\n",
    "else:\n",
    "    print(\"nulo\")"
   ]
  },
  {
   "cell_type": "code",
   "execution_count": 18,
   "id": "d19261be",
   "metadata": {},
   "outputs": [
    {
     "name": "stdout",
     "output_type": "stream",
     "text": [
      "Digite um número...: 20\n",
      "Digite outro número: 40\n",
      "\n",
      "Maior 40\n",
      "O número 40 é maior que 20\n"
     ]
    }
   ],
   "source": [
    "# Questão 3\n",
    "# Faça um programa que peça dois números e mostre o maior deles.\n",
    "\n",
    "num1 = int(input('Digite um número...: '))\n",
    "num2 = int(input('Digite outro número: '))\n",
    "\n",
    "if (num1 > num2) :\n",
    "    print('\\nMaior', num1)\n",
    "    print('O número', num1, 'é maior que', num2)\n",
    "if (num1 < num2) :\n",
    "    print('\\nMaior', num2)\n",
    "    print('O número', num2, 'é maior que', num1)\n",
    "if (num1 == num2) :\n",
    "    print('\\nOs número são iguais')\n"
   ]
  },
  {
   "cell_type": "code",
   "execution_count": 4,
   "id": "af2e2255",
   "metadata": {},
   "outputs": [
    {
     "name": "stdout",
     "output_type": "stream",
     "text": [
      "digite um número: 20\n",
      "digite outro número: 40\n",
      "os números são iguais\n"
     ]
    }
   ],
   "source": [
    "# Resposta sugerida\n",
    "\n",
    "num1 = int(input(\"digite um número: \"))\n",
    "num2 = int(input(\"digite outro número: \"))\n",
    "if num1 > num2:\n",
    "    print(num1)\n",
    "elif num2 < num1:\n",
    "    print(num2)\n",
    "else:\n",
    "    print(\"os números são iguais\")"
   ]
  },
  {
   "cell_type": "code",
   "execution_count": 31,
   "id": "2dd0f67d",
   "metadata": {},
   "outputs": [
    {
     "name": "stdout",
     "output_type": "stream",
     "text": [
      "Digite a idade ..............: 10\n",
      "Digite o valor do salário ...: 10\n",
      "Digite o sexo ...............: Outro\n",
      "\n",
      "\n"
     ]
    }
   ],
   "source": [
    "# Questão 4\n",
    "# Faça um programa que leia a validade das informações:\n",
    "# a. Idade: entre 0 e 150;\n",
    "# b. Salário: maior que 0;\n",
    "# c. Sexo: M, F ou Outro;\n",
    "# O programa deve imprimir uma mensagem de erro para cada informação inválida.\n",
    "\n",
    "age = int(input('Digite a idade ..............: '))\n",
    "salary = float(input('Digite o valor do salário ...: '))\n",
    "gender = (input('Digite o sexo ...............: '))\n",
    "print('\\n')\n",
    "if (age < 0 or age > 150) :\n",
    "    print('Idade inválida.')\n",
    "if (salary <= 0) :\n",
    "    print('Salário inválido.')\n",
    "if (gender not in ('M','F','Outro')) :\n",
    "    print('Sexo inválido.')"
   ]
  },
  {
   "cell_type": "code",
   "execution_count": 5,
   "id": "7deb5afd",
   "metadata": {},
   "outputs": [
    {
     "name": "stdout",
     "output_type": "stream",
     "text": [
      "digite idade: 10\n",
      "OK\n",
      "digite seu salário: 10\n",
      "OK\n",
      "digite seu sexo (F/M/Outro): outro\n",
      "erro\n",
      "digite idade: 10\n",
      "ok\n"
     ]
    }
   ],
   "source": [
    "# Reposta sugerida\n",
    "#    a.Idade: entre 0 e 150;\n",
    "\n",
    "idade = int(input(\"digite idade: \"))\n",
    "if idade >= 0 and idade <= 150:\n",
    "    print(\"OK\")\n",
    "else:\n",
    "    print(\"erro\")\n",
    "\n",
    "#    b.Salario: maior que 0;\n",
    "\n",
    "salario = float(input(\"digite seu salário: \"))\n",
    "if salario > 0:\n",
    "    print(\"OK\")\n",
    "else:\n",
    "    print(\"erro\")\n",
    "\n",
    "#    c.Sexo: M ou F;\n",
    "sexo = input(\"digite seu sexo (F/M/Outro): \")\n",
    "if sexo == 'F' or sexo == 'M' or sexo == 'Outro':\n",
    "    print(\"OK\")\n",
    "else:\n",
    "    print(\"erro\")\n",
    "\n",
    "    \n",
    "#    a.Idade: entre 0 e 150;\n",
    "\n",
    "idade = int(input(\"digite idade: \"))\n",
    "if idade < 0:\n",
    "    print(\"erro\")\n",
    "elif idade > 150:\n",
    "    print(\"erro\")\n",
    "else:\n",
    "    print(\"ok\")"
   ]
  },
  {
   "cell_type": "code",
   "execution_count": 37,
   "id": "28007a32",
   "metadata": {},
   "outputs": [
    {
     "name": "stdout",
     "output_type": "stream",
     "text": [
      "Digite nota 1: -1\n",
      "Digite nota 1: 9\n",
      "Digite nota 2: 11\n",
      "Digite nota 2: 2\n",
      "Digite nota 3: 6\n",
      "\n",
      "Média aritmética: 5.666666666666667\n",
      "Aluno reprovado!\n"
     ]
    }
   ],
   "source": [
    "# Questão 5\n",
    "# Escreva um programa que peça a nota de 3 provas de um aluno e verifique se ele passou ou não de ano.\n",
    "# Obs.: O aluno irá passar de ano se sua média for maior que 6\n",
    "\n",
    "nota1 = -1\n",
    "nota2 = -1\n",
    "nota3 = -1\n",
    "while not (nota1 >= 0 and nota1 <= 10) :\n",
    "    nota1 = float(input('Digite nota 1: '))\n",
    "while not (nota2 >= 0 and nota2 <= 10) :\n",
    "    nota2 = float(input('Digite nota 2: '))\n",
    "while not (nota3 >= 0 and nota3 <= 10) :\n",
    "    nota3 = float(input('Digite nota 3: '))\n",
    "\n",
    "media = ((nota1 + nota2 + nota3)/3)\n",
    "print('\\nMédia aritmética:', media)\n",
    "if (media > 6):\n",
    "    print('Aluno aprovado!')\n",
    "else :\n",
    "    print('Aluno reprovado!')"
   ]
  },
  {
   "cell_type": "code",
   "execution_count": 6,
   "id": "1ce40322",
   "metadata": {},
   "outputs": [
    {
     "name": "stdout",
     "output_type": "stream",
     "text": [
      "digite a primeira nota: -1\n",
      "digite a segunda nota: 9\n",
      "digite a terceira nota: 11\n",
      "O aluno passou de ano\n"
     ]
    }
   ],
   "source": [
    "# Resultado esperado\n",
    "\n",
    "nota1 = float(input(\"digite a primeira nota: \"))\n",
    "nota2 = float(input(\"digite a segunda nota: \"))\n",
    "nota3 = float(input(\"digite a terceira nota: \"))\n",
    "\n",
    "media = (nota1 + nota2 + nota3)/3\n",
    "\n",
    "if media >= 6:\n",
    "    print(\"O aluno passou de ano\")\n",
    "else:\n",
    "    print(\"O aluno foi reprovado\")"
   ]
  },
  {
   "cell_type": "code",
   "execution_count": 55,
   "id": "104154bd",
   "metadata": {},
   "outputs": [
    {
     "name": "stdout",
     "output_type": "stream",
     "text": [
      "Escolha a opção correta:\n",
      "a) 1 > 2 : True\n",
      "b) 1 = 1 : True\n",
      "c) False == True : False\n",
      "d) 1 < 2 : False\n",
      "e) true == true : True\n",
      "\n",
      "Resposta: 3\n",
      "Resposta: g\n",
      "Resposta: t\n",
      "Resposta: c\n",
      "Resposta correta!\n"
     ]
    }
   ],
   "source": [
    "# Questão 6\n",
    "# Faça um programa que mostre uma questão de múltipla escolha com 5 opções (letras a, b, c, d, e). \n",
    "# Sabendo a resposta certa, o programa deve receber a opção do usuário e informar a letra que o usuário marcou \n",
    "# e se a resposta está certa ou errada.\n",
    "\n",
    "# Duvida como imprimir os prints depois o input\n",
    "\n",
    "print('Escolha a opção correta:')\n",
    "print('a) 1 > 2 : True')\n",
    "print('b) 1 = 1 : True')\n",
    "print('c) False == True : False')\n",
    "print('d) 1 < 2 : False')\n",
    "print('e) true == true : True\\n')\n",
    "\n",
    "opcao = ''\n",
    "while opcao.upper() not in ('A','B','C','D','E') :\n",
    "    opcao = (input('Resposta: '))\n",
    "\n",
    "if (opcao.upper() != 'C'):\n",
    "    print('Resposta errada!')\n",
    "else:\n",
    "    print('Resposta correta!')\n"
   ]
  },
  {
   "cell_type": "code",
   "execution_count": null,
   "id": "6ff55e10",
   "metadata": {},
   "outputs": [],
   "source": [
    "# Resposta sugerida\n",
    "\n",
    "print(\"Qual o valor de 5 x 5 ?\")\n",
    "print(\"a. 20\")\n",
    "print(\"b. 21\")\n",
    "print(\"c. 25\")\n",
    "print(\"d. 23\")\n",
    "print(\"e. 24\")\n",
    "\n",
    "alternativa = input(\"Informe a alternativa correta: \")\n",
    "if alternativa == 'c' or alternativa == 'C':\n",
    "    print(\"Resposta Correta!\")\n",
    "else:\n",
    "    print(\"Resposta incorreta\")\n",
    "if alternativa == 'c':\n",
    "    print(\"Resposta Correta!\")\n",
    "elif alternativa == 'C':\n",
    "    print(\"Resposta Correta!\")\n",
    "else:\n",
    "    print(\"Resposta incorreta\")"
   ]
  },
  {
   "cell_type": "code",
   "execution_count": 186,
   "id": "cdd8178b",
   "metadata": {},
   "outputs": [
    {
     "name": "stdout",
     "output_type": "stream",
     "text": [
      "a. Mora perto da vítima? (Sim/Não) sim\n",
      "b. Já trabalhou com a vítima? (Sim/Não) não\n",
      "c. Telefonou para a vítima? (Sim/Não) sim\n",
      "d. Esteve no local do crime? (Sim/Não) não\n",
      "e. Devia para a vítima? (Sim/Não) sim\n",
      "\n",
      "Sim: 3\n",
      "Suspeito: Cúmplice\n"
     ]
    }
   ],
   "source": [
    "# Questão 7\n",
    "\n",
    "# Vamos fazer um programa para verificar quem é o assassino de um crime. \n",
    "# Para descobrir o assassino, a polícia faz um pequeno questionário com 5 perguntas onde a resposta só pode ser sim ou não:\n",
    "# a. Mora perto da vítima?\n",
    "# b. Já trabalhou com a vítima?\n",
    "# c. Telefonou para a vítima?\n",
    "# d. Esteve no local do crime?\n",
    "# e. Devia para a vítima?\n",
    "# Cada resposta sim dá um ponto para o suspeito. \n",
    "# A polícia considera que os suspeitos com 5 pontos são os assassinos, com 4 a 3 pontos são cúmplices e \n",
    "# 2 pontos são apenas suspeitos, necessitando outras investigações. Valores iguais ou abaixo de 1 são liberados.\n",
    "\n",
    "questa = ''\n",
    "questb = ''\n",
    "questc = ''\n",
    "questd = ''\n",
    "queste = ''\n",
    "count = 0\n",
    "\n",
    "while not (questa.upper() in ('SIM','NÃO')) :\n",
    "    questa = input('a. Mora perto da vítima? (Sim/Não) ')\n",
    "    if (questa.upper() == 'SIM') :\n",
    "        count+=1       \n",
    "while not (questb.upper() in ('SIM','NÃO')) :\n",
    "    questb = input('b. Já trabalhou com a vítima? (Sim/Não) ')\n",
    "    if (questb.upper() == 'SIM') :\n",
    "        count+=1    \n",
    "while not (questc.upper() in ('SIM','NÃO')) :\n",
    "    questc = input('c. Telefonou para a vítima? (Sim/Não) ')\n",
    "    if (questc.upper() == 'SIM') :\n",
    "        count+=1    \n",
    "while not (questd.upper() in ('SIM','NÃO')) :\n",
    "    questd = input('d. Esteve no local do crime? (Sim/Não) ')   \n",
    "    if (questd.upper() == 'SIM') :\n",
    "        count+=1   \n",
    "while not (queste.upper() in ('SIM','NÃO')) :\n",
    "    queste = input('e. Devia para a vítima? (Sim/Não) ')\n",
    "    if (queste.upper() == 'SIM') :\n",
    "        count+=1\n",
    "\n",
    "print('\\nSim:',count)\n",
    "if (count == 5) :\n",
    "    print('Suspeito: Assassino')\n",
    "elif (count in (3,4)) :\n",
    "    print('Suspeito: Cúmplice')\n",
    "elif (count == 2) :\n",
    "    print('Suspeito: Suspeito')\n",
    "else :\n",
    "    print('Suspeito: Liberado')  "
   ]
  },
  {
   "cell_type": "code",
   "execution_count": null,
   "id": "f27d8192",
   "metadata": {},
   "outputs": [],
   "source": [
    "# Resposta sugerida\n",
    "\n",
    "print(\"Informe Sim ou Não para as perguntas abaixo:\")\n",
    "resp_a = input(\"Mora perto da vítima? \")\n",
    "resp_b = input(\"Já trabalhou com a vítima? \")\n",
    "resp_c = input(\"Telefonou para a vítima? \")\n",
    "resp_d = input(\"Esteve no local do crime? \")\n",
    "resp_e = input(\"Devia para a vítima? \")\n",
    "\n",
    "pontos = 0\n",
    "\n",
    "if resp_a == \"Sim\":\n",
    "    pontos = pontos + 1\n",
    "if resp_b == \"Sim\":\n",
    "    pontos = pontos + 1\n",
    "if resp_c == \"Sim\":\n",
    "    pontos = pontos + 1\n",
    "if resp_d == \"Sim\":\n",
    "    pontos = pontos + 1\n",
    "if resp_e == \"Sim\":\n",
    "    pontos = pontos + 1\n",
    "\n",
    "if pontos == 5:\n",
    "    print(\"A pessoa em questão é a assassina\")\n",
    "elif 3 <= pontos <= 4:\n",
    "    print(\"A pessoa é cúmplice\")\n",
    "elif pontos == 2:\n",
    "    print(\"A pessoa é suspeita\")\n",
    "else:\n",
    "    print(\"A pessoa está liberada\")\n",
    "    "
   ]
  },
  {
   "cell_type": "code",
   "execution_count": 148,
   "id": "a3b635ea",
   "metadata": {},
   "outputs": [
    {
     "name": "stdout",
     "output_type": "stream",
     "text": [
      "a. Mora perto da vítima? (Sim / Não): sim\n",
      "\n",
      "Sim: 1\n",
      "Suspeito: Liberado\n"
     ]
    }
   ],
   "source": [
    "questions = ['a. Mora perto da vítima?', \n",
    "             'b. Já trabalhou com a vítima?', \n",
    "             'c. Telefonou para a vítima?', \n",
    "             'd. Esteve no local do crime?', \n",
    "             'e. Devia para a vítima?']\n",
    "answer = ''\n",
    "count = 0\n",
    "question = ''\n",
    "\n",
    "for question in questions:\n",
    "    while not (answer.upper() in ('SIM','NÃO')) :\n",
    "        answer = input(question + ' (Sim / Não): ')\n",
    "        if (answer.upper() == 'SIM') :\n",
    "            count+=1\n",
    "\n",
    "print('\\nSim:',count)\n",
    "if (count == 5) :\n",
    "    print('Suspeito: Assassino')\n",
    "elif (count in (3,4)) :\n",
    "    print('Suspeito: Cúmplice')\n",
    "elif (count == 2) :\n",
    "    print('Suspeito: Suspeito')\n",
    "else :\n",
    "    print('Suspeito: Liberado')\n"
   ]
  },
  {
   "cell_type": "code",
   "execution_count": 187,
   "id": "8a0b481c",
   "metadata": {},
   "outputs": [
    {
     "name": "stdout",
     "output_type": "stream",
     "text": [
      "Valor do produto / preço antigo: 500\n",
      "\n",
      "Percentual de ajuste: 15% \n",
      "Preço reajustado: 575.0 \n",
      "Mensagem: Muito Caro\n"
     ]
    }
   ],
   "source": [
    "# Questão 8\n",
    "\n",
    "# Um produto vai sofrer aumento de acordo com a Tabela 1 abaixo. \n",
    "# Faça um programa que peça para o usuário digitar o valor do produto de acordo com o preço antigo \n",
    "# e escreva uma das mensagens da Tabela 2, de acordo com o preço reajustado:\n",
    "\n",
    "#Tabela 1\n",
    "#Preço Antigo\t% de aumento\n",
    "#Até 50 reais\t5%\n",
    "#Entre 50 e 100 reais\t10%\n",
    "#De 100 a 150 reais\t13%\n",
    "#Acima de 150 reais\t15%\n",
    "\n",
    "#Tabela 2\n",
    "#Preço Novo\tMensagem\n",
    "#Até 80 reais\tBarato\n",
    "#Entre 80 e 115 reais\tRazoável\n",
    "#Entre 115 e 150 reais\tNormal\n",
    "#Entre 150 e 170 reais\tCaro\n",
    "#Acima de 170 reais\tMuito Caro\n",
    "\n",
    "percentual = ''\n",
    "price = float(input('Valor do produto / preço antigo: '))\n",
    "\n",
    "if (price <= 50) :\n",
    "    percentual = '5%'\n",
    "    vlrpercentual = (price * 0.05)\n",
    "else:\n",
    "    if (price > 50 and price <= 100) :\n",
    "        percentual = '10%'\n",
    "        vlrpercentual = (price * 0.10)\n",
    "    else:\n",
    "        if (price > 100 and price <= 150) :    \n",
    "            percentual = '13%'\n",
    "            vlrpercentual = (price * 0.13)\n",
    "        else:\n",
    "            percentual = '15%'\n",
    "            vlrpercentual = (price * 0.15)\n",
    "\n",
    "newprice = (price + vlrpercentual)\n",
    "if (newprice <= 80) :\n",
    "    msgnewprice = 'Barato'\n",
    "elif (price > 80 and price <= 115) :\n",
    "    msgnewprice = 'Razoável'\n",
    "elif (price > 115 and price <= 150) :\n",
    "    msgnewprice = 'Normal'\n",
    "elif (price > 150 and price <= 170) :\n",
    "    msgnewprice = 'Caro'\n",
    "else :\n",
    "    msgnewprice = 'Muito Caro'\n",
    "            \n",
    "print('\\nPercentual de ajuste:', percentual, '\\nPreço reajustado:', newprice, '\\nMensagem:', msgnewprice)"
   ]
  },
  {
   "cell_type": "code",
   "execution_count": null,
   "id": "a4f81f99",
   "metadata": {},
   "outputs": [],
   "source": [
    "# Resposta sugerida\n",
    "\n",
    "preco = float(input(\"Digite o preço antigo do produto: \"))\n",
    "\n",
    "if preco < 50:\n",
    "    preco_atual = preco * 1.05\n",
    "elif 50 <= preco < 100:\n",
    "    preco_atual = preco * 1.1\n",
    "elif 100 <= preco < 150:\n",
    "    preco_atual = preco * 1.13\n",
    "else:\n",
    "    preco_atual = preco * 1.15\n",
    "\n",
    "if preco_atual <= 80:\n",
    "    print(\"Barato\")\n",
    "elif preco_atual <= 115:\n",
    "    print(\"Razoável\")\n",
    "elif preco_atual <= 150:\n",
    "    print(\"Normal\")\n",
    "elif preco_atual <= 170:\n",
    "    print(\"Caro\")\n",
    "else:\n",
    "    print(\"Muito caro\")"
   ]
  },
  {
   "cell_type": "code",
   "execution_count": 174,
   "id": "91f14894",
   "metadata": {},
   "outputs": [
    {
     "name": "stdout",
     "output_type": "stream",
     "text": [
      "Digite um número: 100\n",
      "Digite um número: 1000\n",
      "Digite um número: 5000\n",
      "Maior número: 5000.0\n"
     ]
    }
   ],
   "source": [
    "# Questão 9\n",
    "# Desafio 1 - Faça um programa que leia 3 números e informe o maior deles.\n",
    "\n",
    "numbers=[]\n",
    "def inputnumber():\n",
    "    number = float(input('Digite um número: '))\n",
    "    return number\n",
    "\n",
    "i=1\n",
    "while i <= 3 :\n",
    "    numbers.append(inputnumber())\n",
    "    i+=1\n",
    "\n",
    "print(\"Maior número:\", max(numbers))"
   ]
  },
  {
   "cell_type": "code",
   "execution_count": null,
   "id": "7d3311fd",
   "metadata": {},
   "outputs": [],
   "source": [
    "# Resposta sugerida\n",
    "\n",
    "numero1 = int(input(\"Digite o primeiro número: \"))\n",
    "numero2 = int(input(\"Digite o segundo número: \"))\n",
    "numero3 = int(input(\"Digite o terceiro número: \"))\n",
    "if numero1 > numero2:\n",
    "    if numero1 > numero3:\n",
    "        print(numero1)\n",
    "    else:\n",
    "        print(numero3)\n",
    "else:\n",
    "    if numero2 > numero3:\n",
    "        print(numero2)\n",
    "    else:\n",
    "        print(numero3)\n"
   ]
  },
  {
   "cell_type": "code",
   "execution_count": 1,
   "id": "6e5addff",
   "metadata": {},
   "outputs": [
    {
     "name": "stdout",
     "output_type": "stream",
     "text": [
      "Digite um número 1: 1\n",
      "Digite um número 2: 5\n",
      "Digite um número 3: 2\n",
      "Digite um número 4: 4\n",
      "Maior número: 5.0\n"
     ]
    }
   ],
   "source": [
    "# Questão 10\n",
    "# Desafio 2 - Faça o mesmo programa do exercício anterior, porém com 4 números.\n",
    "\n",
    "numbers=[]\n",
    "def inputnumber(i):\n",
    "    number = float(input('Digite um número ' + str(i) + ': '))\n",
    "    return number\n",
    "\n",
    "i=1\n",
    "qtd = 4\n",
    "while i <= qtd :\n",
    "    numbers.append(inputnumber(i))\n",
    "    i+=1\n",
    "\n",
    "print(\"Maior número:\", max(numbers))\n"
   ]
  },
  {
   "cell_type": "code",
   "execution_count": null,
   "id": "aa472d46",
   "metadata": {},
   "outputs": [],
   "source": [
    "# Resposta sugerida\n",
    "\n",
    "'''Pelo desafio anterior, podemos perceber que essa estrutura é insustentável para muitos números.\n",
    "Podemos fazer o exercício de uma forma diferente.\n",
    "'''\n",
    "\n",
    "numero1 = int(input(\"Digite um número: \"))\n",
    "numero2 = int(input(\"Digite outro número: \"))\n",
    "numero3 = int(input(\"Digite outro número: \"))\n",
    "numero4 = int(input(\"Digite outro número: \"))\n",
    "\n",
    "maior_numero = numero1\n",
    "if numero2 > maior_numero:\n",
    "    maior_numero = numero2\n",
    "if numero3 > maior_numero:\n",
    "    maior_numero = numero3\n",
    "if numero4 > maior_numero:\n",
    "    maior_numero = numero4\n",
    "\n",
    "print(\"O maior número é\", maior_numero)\n"
   ]
  },
  {
   "cell_type": "code",
   "execution_count": 202,
   "id": "2a5633a5",
   "metadata": {},
   "outputs": [
    {
     "name": "stdout",
     "output_type": "stream",
     "text": [
      "a. Sente dor no corpo? (sim/não): sim\n",
      "b. Você tem febre? (sim/não): sim\n",
      "c. Você tem tosse? (sim/não): nao\n",
      "d. Está com congestão nasal? (sim/não): nao\n",
      "e. Tem manchas pelo corpo? (sim/não): sim\n",
      "\n",
      "Diagnóstico: Dengue\n"
     ]
    }
   ],
   "source": [
    "# Questão 11\n",
    "# Desafio 3 - Um hospital quer fazer o diagnóstico de gripe ou dengue a partir de um questionário de sintomas, \n",
    "# tendo as perguntas abaixo, faça um programa que faça o diagnóstico deste hospital:\n",
    "\n",
    "# Para o diagnóstico ele tem a seguinte tabela:\n",
    "# A\tB\tC\tD\tE\tResultado\n",
    "# Sim\tSim\tNão\tNão\tSim\tDengue\n",
    "# Sim\tSim\tSim\tSim\tNão\tGripe\n",
    "# Não\tSim\tSim\tSim\tNão\tGripe\n",
    "# Sim\tNão\tNão\tNão\tNão\tSem doenças\n",
    "# Não\tNão\tNão\tNão\tNão\tSem doenças\n",
    "\n",
    "#diagnosticos = dengue, gripe, gripe, sem doenca, sem doenca2\n",
    "diagnosticos = [[1,1,0,0,1],[1,1,1,1,0],[0,1,1,1,0],[1,0,0,0,0],[0,0,0,0,0]]\n",
    "\n",
    "perguntas = [\n",
    "'a. Sente dor no corpo?',\n",
    "'b. Você tem febre?',\n",
    "'c. Você tem tosse?',\n",
    "'d. Está com congestão nasal?',\n",
    "'e. Tem manchas pelo corpo?']\n",
    "\n",
    "resposta=[]\n",
    "def sintomas(pergunta):\n",
    "    resposta = ''\n",
    "    while not (resposta.upper() in ('SIM','NÃO','NAO')) :\n",
    "        resposta = (input(pergunta + ' (sim/não): '))\n",
    "    if (resposta.upper() == 'SIM') :\n",
    "        return 1\n",
    "    else :\n",
    "        return 0\n",
    "\n",
    "def compareList(l1,l2):\n",
    "   if(l1==l2):\n",
    "      return True\n",
    "   else:\n",
    "      return False\n",
    "    \n",
    "for pergunta in perguntas :    \n",
    "    resposta.append(sintomas(pergunta))\n",
    "\n",
    "for i in range(len(diagnosticos)) :\n",
    "    if (compareList(diagnosticos[i],resposta)):\n",
    "        if (i == 0) :\n",
    "            diagnostico = 'Dengue'\n",
    "        elif (i == 1) :\n",
    "            diagnostico = 'Gripe'\n",
    "        elif (i == 2) :\n",
    "            diagnostico = 'Gripe'\n",
    "        elif (i == 3) :\n",
    "            diagnostico = 'Sem doença'\n",
    "        else :\n",
    "            diagnostico = 'Sem doença'\n",
    "        break\n",
    "    i+=1\n",
    "\n",
    "print('\\nDiagnóstico:', diagnostico)"
   ]
  },
  {
   "cell_type": "code",
   "execution_count": 197,
   "id": "5e3acb12",
   "metadata": {},
   "outputs": [
    {
     "data": {
      "text/plain": [
       "5"
      ]
     },
     "execution_count": 197,
     "metadata": {},
     "output_type": "execute_result"
    }
   ],
   "source": [
    "diagnosticos = [[1,1,0,0,1],[1,1,1,1,0],[0,1,1,1,0],[1,0,0,0,0],[0,0,0,0,0]]"
   ]
  },
  {
   "cell_type": "code",
   "execution_count": null,
   "id": "b844c2ba",
   "metadata": {},
   "outputs": [],
   "source": [
    "# Resposta sugerida\n",
    "\n",
    "A = input(\"Sente dor no corpo? \")\n",
    "B = input(\"Você tem febre? \")\n",
    "C = input(\"Você tem tosse? \")\n",
    "D = input(\"Está com congestão nasal? \")\n",
    "E = input(\"Tem manchas pelo corpo? \")\n",
    "\n",
    "# Uma das formas de resolver o problema:\n",
    "if B == 'Não' and C == 'Não' and D == 'Não' and E == 'Não':\n",
    "    print(\"Sem doenças\")\n",
    "elif B == 'Sim' and C == 'Sim' and D == 'Sim' and E == 'Não':\n",
    "    print(\"Gripe\")\n",
    "elif A == 'Sim' and B == 'Sim' and C == 'Não' and D == 'Não' and E == 'Sim':\n",
    "    print(\"Dengue\")\n",
    "else:\n",
    "    print(\"Sem diagnóstico possível\")"
   ]
  },
  {
   "cell_type": "code",
   "execution_count": null,
   "id": "be1cdcb6",
   "metadata": {},
   "outputs": [],
   "source": []
  }
 ],
 "metadata": {
  "kernelspec": {
   "display_name": "Python 3",
   "language": "python",
   "name": "python3"
  },
  "language_info": {
   "codemirror_mode": {
    "name": "ipython",
    "version": 3
   },
   "file_extension": ".py",
   "mimetype": "text/x-python",
   "name": "python",
   "nbconvert_exporter": "python",
   "pygments_lexer": "ipython3",
   "version": "3.8.10"
  }
 },
 "nbformat": 4,
 "nbformat_minor": 5
}
