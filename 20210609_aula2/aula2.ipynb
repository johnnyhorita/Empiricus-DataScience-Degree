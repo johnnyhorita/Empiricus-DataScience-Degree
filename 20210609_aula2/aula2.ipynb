{
 "cells": [
  {
   "cell_type": "markdown",
   "id": "05ed34d4",
   "metadata": {},
   "source": [
    "# Aula 2\n",
    "\n",
    "## 1.  Variáveis, entradas e saídas "
   ]
  },
  {
   "cell_type": "markdown",
   "id": "a2fa93d2",
   "metadata": {},
   "source": [
    "### Variáveis"
   ]
  },
  {
   "cell_type": "code",
   "execution_count": 1,
   "id": "3344d60a",
   "metadata": {},
   "outputs": [],
   "source": [
    "# Definição de variável\n",
    "variavel = 10"
   ]
  },
  {
   "cell_type": "markdown",
   "id": "566a80a2",
   "metadata": {},
   "source": [
    "### Tipos de variáveis\n",
    "\n",
    "- str: cadeias de caracteres (strings), ou seja, dados textuais: 'Olá Mundo!', \"eu tenho 18 anos\"\n",
    "- int: números inteiros, ou seja, números sem parte decimal: 0, 5, -1, 1000\n",
    "- float: números reais, ou seja, números com parte decimal: 1.0, -2.7, 3.14\n",
    "- bool: valores lógicos (booleanos), ou seja, apenas um entre dois valores possíveis: True ou False (Inicial sempre maiúscula)"
   ]
  },
  {
   "cell_type": "code",
   "execution_count": 2,
   "id": "60b93b7d",
   "metadata": {},
   "outputs": [],
   "source": [
    "nome = 'Zé' # uma variável do tipo string - note as aspas\n",
    "email = \"ze@letscode.com.br\" # outra string\n",
    "idade = 22 # uma variável inteira\n",
    "salario = 5999.85 # uma variável float - usamos ponto, não vírgula\n",
    "receberNewsletter = True # uma variável bool"
   ]
  },
  {
   "cell_type": "markdown",
   "id": "c5dbbb21",
   "metadata": {},
   "source": [
    "### Comentários"
   ]
  },
  {
   "cell_type": "code",
   "execution_count": 3,
   "id": "b0fa248a",
   "metadata": {},
   "outputs": [
    {
     "data": {
      "text/plain": [
       "'\\nEste é um comentário de várias linhas.\\nTudo que veio após o primeiro trio de aspas e antes do segundo\\nserá ignorado pelo Python.\\n'"
      ]
     },
     "execution_count": 3,
     "metadata": {},
     "output_type": "execute_result"
    }
   ],
   "source": [
    "# Comentários\n",
    "\n",
    "'''\n",
    "Este é um comentário de várias linhas.\n",
    "Tudo que veio após o primeiro trio de aspas e antes do segundo\n",
    "será ignorado pelo Python.\n",
    "'''"
   ]
  },
  {
   "cell_type": "markdown",
   "id": "0bf8f89f",
   "metadata": {},
   "source": [
    "### Saídas"
   ]
  },
  {
   "cell_type": "code",
   "execution_count": 4,
   "id": "5f392521",
   "metadata": {},
   "outputs": [
    {
     "name": "stdout",
     "output_type": "stream",
     "text": [
      "olá mundo!\n"
     ]
    }
   ],
   "source": [
    "print('olá mundo!') # exibe a frase 'olá mundo' na tela"
   ]
  },
  {
   "cell_type": "code",
   "execution_count": 5,
   "id": "389032a9",
   "metadata": {},
   "outputs": [
    {
     "name": "stdout",
     "output_type": "stream",
     "text": [
      "20\n"
     ]
    }
   ],
   "source": [
    "idade = 20\n",
    "print(idade)"
   ]
  },
  {
   "cell_type": "code",
   "execution_count": 6,
   "id": "bb668159",
   "metadata": {},
   "outputs": [
    {
     "name": "stdout",
     "output_type": "stream",
     "text": [
      "Oi, eu sou o Mario e eu programo em Python\n"
     ]
    }
   ],
   "source": [
    "nome = 'Mario'\n",
    "linguagem = 'Python'\n",
    "print('Oi, eu sou o', nome, 'e eu programo em', linguagem)"
   ]
  },
  {
   "cell_type": "markdown",
   "id": "f737cd5f",
   "metadata": {},
   "source": [
    "### Entradas"
   ]
  },
  {
   "cell_type": "code",
   "execution_count": 7,
   "id": "18af7506",
   "metadata": {},
   "outputs": [
    {
     "name": "stdout",
     "output_type": "stream",
     "text": [
      "Qual é o seu nome?Johnny Horita\n",
      "Olá Johnny Horita\n"
     ]
    }
   ],
   "source": [
    "nome = input('Qual é o seu nome?')\n",
    "print('Olá', nome)"
   ]
  },
  {
   "cell_type": "markdown",
   "id": "0db13cf7",
   "metadata": {},
   "source": [
    "#### Determinando o tipo da entrada"
   ]
  },
  {
   "cell_type": "code",
   "execution_count": 8,
   "id": "031680cb",
   "metadata": {},
   "outputs": [
    {
     "name": "stdout",
     "output_type": "stream",
     "text": [
      "Digite a sua idade: 50\n",
      "Faltam 50 anos para chegar em 100 anos.\n"
     ]
    }
   ],
   "source": [
    "idade = int(input('Digite a sua idade: '))\n",
    "resto = 100 - idade\n",
    "print('Faltam', resto, 'anos para chegar em 100 anos.')"
   ]
  },
  {
   "cell_type": "markdown",
   "id": "b1008893",
   "metadata": {},
   "source": [
    "### Operadores"
   ]
  },
  {
   "cell_type": "code",
   "execution_count": 9,
   "id": "97bec0d3",
   "metadata": {
    "scrolled": true
   },
   "outputs": [
    {
     "name": "stdout",
     "output_type": "stream",
     "text": [
      "Digite um número: 100\n",
      "Digite outro número: 50\n",
      "Soma:  150\n",
      "Subtração:  50\n",
      "Multiplicação:  5000\n",
      "Divisão:  2.0\n",
      "Divisão inteira:  2\n",
      "Resto da divisão:  0\n",
      "Potência:  10000000000000000000000000000000000000000000000000000000000000000000000000000000000000000000000000000\n"
     ]
    }
   ],
   "source": [
    "numero1 = int(input('Digite um número: '))\n",
    "numero2 = int(input('Digite outro número: '))\n",
    "soma = numero1 + numero2\n",
    "subtracao = numero1 - numero2\n",
    "multiplicacao = numero1 * numero2\n",
    "divisao = numero1 / numero2 # dividendo / divisor\n",
    "divinteira = numero1 // numero2 # quociente\n",
    "resto = numero1 % numero2 # resto\n",
    "elevado = numero1 ** numero2\n",
    "print('Soma: ', soma)\n",
    "print('Subtração: ', subtracao)\n",
    "print('Multiplicação: ', multiplicacao)\n",
    "print('Divisão: ', divisao)\n",
    "print('Divisão inteira: ', divinteira)\n",
    "print('Resto da divisão: ', resto)\n",
    "print('Potência: ', elevado)"
   ]
  },
  {
   "cell_type": "markdown",
   "id": "fe4a74cc",
   "metadata": {},
   "source": [
    "## 2. Operações lógicas"
   ]
  },
  {
   "cell_type": "markdown",
   "id": "4323cd8e",
   "metadata": {},
   "source": [
    "### 1. Operações booleanas\n",
    "\n",
    "<ol>\n",
    "<li>Maior que: ></li>\n",
    "<li>Maior ou igual: >=</li>\n",
    "<li>Menor que: <</li>\n",
    "<li>Menor ou igual: <=</li>\n",
    "<li>Igual: ==</li>\n",
    "<li>Diferente: !=</li>\n",
    "</ol>"
   ]
  },
  {
   "cell_type": "code",
   "execution_count": 10,
   "id": "39f9717f",
   "metadata": {},
   "outputs": [
    {
     "name": "stdout",
     "output_type": "stream",
     "text": [
      "5 é maior que 3: True\n",
      "5 é menor que 3: False\n"
     ]
    }
   ],
   "source": [
    "comparacao1 = 5 > 3\n",
    "print('5 é maior que 3:', comparacao1)\n",
    "\n",
    "comparacao2 = 5 < 3\n",
    "print('5 é menor que 3:', comparacao2)"
   ]
  },
  {
   "cell_type": "markdown",
   "id": "1fbc4a19",
   "metadata": {},
   "source": [
    "### 1.1. Conjunções lógicas\n",
    "- and: verdadeiro se condição 1 for verdadeira **e** condição 2 for verdadeira\n",
    "- or: verdadeiro se condição 1 for verdadeira **ou** condição 2 for verdadeira"
   ]
  },
  {
   "cell_type": "code",
   "execution_count": 11,
   "id": "fb0ec47e",
   "metadata": {},
   "outputs": [
    {
     "name": "stdout",
     "output_type": "stream",
     "text": [
      "Digite a média do aluno: 7\n",
      "Digite as presenças do aluno: 0.75\n",
      "\n",
      "A média é maior ou igual a 6 e a presença é maior ou igual a 0.75: True\n",
      "\n",
      "Média: 7.0 \n",
      "Frequencia: 0.75\n"
     ]
    }
   ],
   "source": [
    "# critério de aprovação em uma escola\n",
    "media = float(input('Digite a média do aluno: '))\n",
    "presenca = float(input('Digite as presenças do aluno: '))\n",
    "\n",
    "aprovado = (media >= 6.0 and presenca >= 0.75)\n",
    "\n",
    "print('\\nA média é maior ou igual a 6 e a presença é maior ou igual a 0.75:', aprovado)\n",
    "print('\\nMédia:', media, '\\nFrequencia:', presenca)"
   ]
  },
  {
   "cell_type": "code",
   "execution_count": 12,
   "id": "404cf89f",
   "metadata": {
    "scrolled": true
   },
   "outputs": [
    {
     "name": "stdout",
     "output_type": "stream",
     "text": [
      "Digite o dia do mês para encerrar a promoção: 31\n",
      "Digite o dia do mês atual: 8\n",
      "Digite a quantidade de itens no estoque: 1\n",
      "A promoção acabou: False\n"
     ]
    }
   ],
   "source": [
    "# promoção válida até o dia 15 deste mês ou enquanto durarem os estoques\n",
    "diaFinal = int(input('Digite o dia do mês para encerrar a promoção: '))\n",
    "diaAtual = int(input('Digite o dia do mês atual: '))\n",
    "estoque = int(input('Digite a quantidade de itens no estoque: '))\n",
    "\n",
    "acabou = (diaAtual > diaFinal or estoque == 0)\n",
    "print('A promoção acabou:', acabou)"
   ]
  },
  {
   "cell_type": "code",
   "execution_count": null,
   "id": "a9e363a7",
   "metadata": {},
   "outputs": [],
   "source": []
  }
 ],
 "metadata": {
  "kernelspec": {
   "display_name": "Python 3",
   "language": "python",
   "name": "python3"
  },
  "language_info": {
   "codemirror_mode": {
    "name": "ipython",
    "version": 3
   },
   "file_extension": ".py",
   "mimetype": "text/x-python",
   "name": "python",
   "nbconvert_exporter": "python",
   "pygments_lexer": "ipython3",
   "version": "3.8.10"
  }
 },
 "nbformat": 4,
 "nbformat_minor": 5
}
