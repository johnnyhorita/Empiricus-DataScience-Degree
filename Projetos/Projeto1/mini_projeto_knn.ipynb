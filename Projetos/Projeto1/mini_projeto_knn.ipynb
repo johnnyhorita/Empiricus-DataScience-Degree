{
 "cells": [
  {
   "cell_type": "markdown",
   "id": "8339e1a7-c1c6-457c-b938-0a39b9fd9a7c",
   "metadata": {},
   "source": [
    "# K-Nearest Neighbors - KNN"
   ]
  },
  {
   "cell_type": "markdown",
   "id": "1c19272d-c5c6-43c3-b1bd-3735a6250c3a",
   "metadata": {},
   "source": [
    "Modelo supervisionado de machine learning que pode ser utilizado tanto para classificação, isto é, rotular os dados; quanto para regressão, ou seja, aproximar valores.\n",
    "\n",
    "## Características\n",
    "\n",
    "- Dependendo da implementação pode ser $O(n*m)$ ou $O(log(n))$\n",
    "- Simples\n",
    "- Interpretável\n",
    "- Largamente conhecido e estudado\n",
    "- Razoavelmente rápido\n",
    "\n",
    "Por conta disso é um ótimo benchmark\n"
   ]
  },
  {
   "cell_type": "markdown",
   "id": "3d2f059d-b506-45b7-8273-681da038b091",
   "metadata": {},
   "source": [
    "## Algoritmo\n",
    "\n",
    "- Passo 1: \n",
    "    Definir um valor para K\n",
    "- Passo 2: \n",
    "    Definir os K vizinhos mais próximos do ponto a ser classificado de acordo com uma função de distância.\n",
    "- Passo 3:\n",
    "    - Se for um problema de **Regressão**:\n",
    "        Calcular a **média** de todos os vizinhos.\n",
    "    - Se for um problema de **Classificação**:\n",
    "        Calcular a **moda** de todos os vizinhos.\n",
    "- Passo 4:\n",
    "    Atribuir o valor/classe ao ponto de interesse conforme cálculo do Passo 3."
   ]
  },
  {
   "cell_type": "markdown",
   "id": "49aa5d45-0dd0-42ab-86bd-fdc780ee4321",
   "metadata": {},
   "source": [
    "## Links Úteis\n",
    "### Definições\n",
    "- [\"Primeira\" aparição do modelo](https://apps.dtic.mil/dtic/tr/fulltext/u2/a800276.pdf)\n",
    "- [Expansão do KNN](http://ssg.mit.edu/cal/abs/2000_spring/np_dens/classification/cover67.pdf)\n",
    "### Casos de uso\n",
    "- [Click Stream](https://www.sciencedirect.com/science/article/pii/S221083271400026X#:~:text=The%20K%2DNearest%20Neighbor%20classification,a%20given%20time%20%5B24%5D)\n",
    "- [Battery life](https://www.sciencedirect.com/science/article/abs/pii/S0959652619342799)\n",
    "- [Mahalanobis Distance](https://jmlr.csail.mit.edu/papers/volume10/weinberger09a/weinberger09a.pdf)\n",
    "### Dataviz\n",
    "- [Stanford](http://vision.stanford.edu/teaching/cs231n-demos/knn/)\n",
    "- [IRA](https://lecture-demo.ira.uka.de/knn-demo/preset=3)"
   ]
  },
  {
   "cell_type": "markdown",
   "id": "6536a778",
   "metadata": {},
   "source": [
    "![Title](knn.jpeg)"
   ]
  },
  {
   "cell_type": "markdown",
   "id": "34926d77-be0a-4b4e-9431-a722e3fc2a6b",
   "metadata": {},
   "source": [
    "## Definição do Problema\n",
    "\n",
    "### Dados\n",
    "Os dados abaixo são referentes ao cadastro de clientes de uma empresa de investimentos com suas respectivas carteira de investimentos, que indica se esse cliente tem o perfil de investidor **Conservador**, **Moderado** ou **Agressivo**. O nosso intuito é, a partir do investimento de alguns clientes que já tem um perfil definido, estimar esse perfil para aqueles que ainda não estão classificado, afim de oferecer novos produtos que sejam mais adequados a eles. \n",
    "\n",
    "Os dados abaixo seguem o seguinte padrão:\n",
    "\n",
    "[**CPF**: INT, **Perfil Do Investidor**: STRING, **Carteira de Investimento**: TUPLA]\n",
    "\n",
    "### Regras\n",
    "- Se você precisar de uma função para computar algo crie ela\n",
    "- Não é permitido usar nenhum módulo externo como numpy e math\n",
    "- Use apenas os objetos e fluxos visto até o momento no curso"
   ]
  },
  {
   "cell_type": "code",
   "execution_count": 1,
   "id": "1e6b83e0-af8f-4f35-ade9-7efa66ea2625",
   "metadata": {
    "tags": []
   },
   "outputs": [],
   "source": [
    "data = [[66707599984, 'Conservador', (5100., 3500., 1400., 200.)],\n",
    " [55695397315, 'Conservador', (4900., 3000., 1400., 200.)],\n",
    " [63743886918, 'Conservador', (4700., 3200., 1300., 200.)],\n",
    " [55941368774, 'Conservador', (4600., 3100., 1500., 200.)],\n",
    " [75486280874, 'Conservador', (5000., 3600., 1400., 200.)],\n",
    " [53164949799, 'Conservador', (5400., 3900., 1700., 400.)],\n",
    " [39898704131, 'Conservador', (4600., 3400., 1400., 300.)],\n",
    " [53740901207, 'Conservador', (5000., 3400., 1500., 200.)],\n",
    " [51735950236, 'Conservador', (4400., 2900., 1400., 200.)],\n",
    " [47305108951, 'Conservador', (4900., 3100., 1500., 100.)],\n",
    " [63858864633, 'Conservador', (5400., 3700., 1500., 200.)],\n",
    " [53363167240, 'Conservador', (4800., 3400., 1600., 200.)],\n",
    " [72133754195, 'Conservador', (4800., 3000., 1400., 100.)],\n",
    " [52802483512, 'Conservador', (4300., 3000., 1100., 100.)],\n",
    " [57925287214, 'Conservador', (4800., 3400., 1900., 200.)],\n",
    " [74354632224, 'Conservador', (5000., 3000., 1600., 200.)],\n",
    " [64020216626, 'Conservador', (5000., 3400., 1600., 400.)],\n",
    " [78223722856, 'Conservador', (5200., 3500., 1500., 200.)],\n",
    " [58245228846, 'Conservador', (5200., 3400., 1400., 200.)],\n",
    " [74490686776, 'Conservador', (4700., 3200., 1600., 200.)],\n",
    " [48646824781, 'Conservador', (4800., 3100., 1600., 200.)],\n",
    " [77381458676, 'Conservador', (5400., 3400., 1500., 400.)],\n",
    " [41615431874, 'Conservador', (5200., 4100., 1500., 100.)],\n",
    " [52163844491, 'Conservador', (5500., 4200., 1400., 200.)],\n",
    " [70276304567, 'Conservador', (4900., 3100., 1500., 200.)],\n",
    " [69119828185, 'Conservador', (5000., 3200., 1200., 200.)],\n",
    " [65441690046, 'Conservador', (5500., 3500., 1300., 200.)],\n",
    " [56457227894, 'Conservador', (4900., 3600., 1400., 100.)],\n",
    " [46939428126, 'Conservador', (4400., 3000., 1300., 200.)],\n",
    " [60979942480, 'Conservador', (5100., 3400., 1500., 200.)],\n",
    " [41648583220, 'Conservador', (5000., 3500., 1300., 300.)],\n",
    " [50376331791, 'Conservador', (4500., 2300., 1300., 300.)],\n",
    " [67008801023, 'Conservador', (4400., 3200., 1300., 200.)],\n",
    " [72149193419, 'Conservador', (5000., 3500., 1600., 600.)],\n",
    " [62830733382, 'Conservador', (5100., 3800., 1900., 400.)],\n",
    " [56716675811, 'Conservador', (4800., 3000., 1400., 300.)],\n",
    " [61089667146, 'Conservador', (5100., 3800., 1600., 200.)],\n",
    " [47795509468, 'Conservador', (4600., 3200., 1400., 200.)],\n",
    " [60899885693, 'Conservador', (5300., 3700., 1500., 200.)],\n",
    " [53433670705, 'Conservador', (5000., 3300., 1400., 200.)],\n",
    " [54850120580, 'Moderado', (7000., 3200., 4700., 1400.)],\n",
    " [71457789994, 'Moderado', (6400., 3200., 4500., 1500.)],\n",
    " [67692777563, 'Moderado', (6900., 3100., 4900., 1500.)],\n",
    " [43133573182, 'Moderado', (5500., 2300., 4000., 1300.)],\n",
    " [55150612815, 'Moderado', (6500., 2800., 4600., 1500.)],\n",
    " [48211725243, 'Moderado', (5700., 2800., 4500., 1300.)],\n",
    " [76686463776, 'Moderado', (6300., 3300., 4700., 1600.)],\n",
    " [71971000560, 'Moderado', (4900., 2400., 3300., 1000.)],\n",
    " [40307235992, 'Moderado', (6600., 2900., 4600., 1300.)],\n",
    " [44826533081, 'Moderado', (5200., 2700., 3900., 1400.)],\n",
    " [45735414894, 'Moderado', (5900., 3200., 4800., 1800.)],\n",
    " [57137146514, 'Moderado', (6100., 2800., 4000., 1300.)],\n",
    " [53657058251, 'Moderado', (6300., 2500., 4900., 1500.)],\n",
    " [52941460485, 'Moderado', (6100., 2800., 4700., 1200.)],\n",
    " [44306600683, 'Moderado', (6400., 2900., 4300., 1300.)],\n",
    " [43460747924, 'Moderado', (6600., 3000., 4400., 1400.)],\n",
    " [75590376075, 'Moderado', (6800., 2800., 4800., 1400.)],\n",
    " [68267282206, 'Moderado', (6700., 3000., 5000., 1700.)],\n",
    " [77567920298, 'Moderado', (6000., 2900., 4500., 1500.)],\n",
    " [67600419504, 'Moderado', (5700., 2600., 3500., 1000.)],\n",
    " [44902189811, 'Moderado', (5500., 2400., 3800., 1100.)],\n",
    " [62966866614, 'Moderado', (5500., 2400., 3700., 1000.)],\n",
    " [56182108880, 'Moderado', (5800., 2700., 3900., 1200.)],\n",
    " [78299785392, 'Moderado', (6000., 2700., 5100., 1600.)],\n",
    " [45206071878, 'Moderado', (5400., 3000., 4500., 1500.)],\n",
    " [57381925887, 'Moderado', (6000., 3400., 4500., 1600.)],\n",
    " [65654934891, 'Moderado', (6700., 3100., 4700., 1500.)],\n",
    " [56130640481, 'Moderado', (6300., 2300., 4400., 1300.)],\n",
    " [59667611672, 'Moderado', (5600., 3000., 4100., 1300.)],\n",
    " [40349334385, 'Moderado', (5500., 2500., 4000., 1300.)],\n",
    " [68422640081, 'Moderado', (5500., 2600., 4400., 1200.)],\n",
    " [55245923439, 'Moderado', (6100., 3000., 4600., 1400.)],\n",
    " [51286696873, 'Moderado', (5800., 2600., 4000., 1200.)],\n",
    " [41065279767, 'Moderado', (5000., 2300., 3300., 1000.)],\n",
    " [42866454119, 'Moderado', (5600., 2700., 4200., 1300.)],\n",
    " [61962944542, 'Moderado', (5700., 3000., 4200., 1200.)],\n",
    " [48623501235, 'Moderado', (5700., 2900., 4200., 1300.)],\n",
    " [49475220139, 'Moderado', (6200., 2900., 4300., 1300.)],\n",
    " [52245218531, 'Moderado', (5100., 2500., 3000., 1100.)],\n",
    " [50932926697, 'Moderado', (5700., 2800., 4100., 1300.)],\n",
    " [47432932248, 'Agressivo', (6300., 3300., 6000., 2500.)],\n",
    " [39321991579, 'Agressivo', (5800., 2700., 5100., 1900.)],\n",
    " [46283759608, 'Agressivo', (7100., 3000., 5900., 2100.)],\n",
    " [56996272538, 'Agressivo', (6300., 2900., 5600., 1800.)],\n",
    " [77232189978, 'Agressivo', (6500., 3000., 5800., 2200.)],\n",
    " [77183282421, 'Agressivo', (7600., 3000., 6600., 2100.)],\n",
    " [42857147573, 'Agressivo', (4900., 2500., 4500., 1700.)],\n",
    " [39331584043, 'Agressivo', (7300., 2900., 6300., 1800.)],\n",
    " [48130345228, 'Agressivo', (6700., 2500., 5800., 1800.)],\n",
    " [71422443953, 'Agressivo', (7200., 3600., 6100., 2500.)],\n",
    " [72508507904, 'Agressivo', (6900., 3200., 5700., 2300.)],\n",
    " [41188727558, 'Agressivo', (5600., 2800., 4900., 2000.)],\n",
    " [61358776640, 'Agressivo', (7700., 2800., 6700., 2000.)],\n",
    " [66934042323, 'Agressivo', (6300., 2700., 4900., 1800.)],\n",
    " [40622495567, 'Agressivo', (6700., 3300., 5700., 2100.)],\n",
    " [57221661311, 'Agressivo', (7200., 3200., 6000., 1800.)],\n",
    " [45159362930, 'Agressivo', (6200., 2800., 4800., 1800.)],\n",
    " [45018975174, 'Agressivo', (6100., 3000., 4900., 1800.)],\n",
    " [70685429140, 'Agressivo', (6400., 2800., 5600., 2100.)],\n",
    " [61808723477, 'Agressivo', (7200., 3000., 5800., 1600.)],\n",
    " [56363906548, 'Agressivo', (7400., 2800., 6100., 1900.)],\n",
    " [39646194720, 'Agressivo', (7900., 3800., 6400., 2000.)],\n",
    " [55385494438, 'Agressivo', (6400., 2800., 5600., 2200.)],\n",
    " [75796138061, 'Agressivo', (6300., 2800., 5100., 1500.)],\n",
    " [53595767857, 'Agressivo', (6100., 2600., 5600., 1400.)],\n",
    " [48758828080, 'Agressivo', (7700., 3000., 6100., 2300.)],\n",
    " [58387651356, 'Agressivo', (6300., 3400., 5600., 2400.)],\n",
    " [72846931192, 'Agressivo', (6400., 3100., 5500., 1800.)],\n",
    " [47046896346, 'Agressivo', (6000., 3000., 4800., 1800.)],\n",
    " [69730292799, 'Agressivo', (6900., 3100., 5400., 2100.)],\n",
    " [48177836349, 'Agressivo', (6700., 3100., 5600., 2400.)],\n",
    " [57976326635, 'Agressivo', (6900., 3100., 5100., 2300.)],\n",
    " [55710813002, 'Agressivo', (5800., 2700., 5100., 1900.)],\n",
    " [64028580439, 'Agressivo', (6800., 3200., 5900., 2300.)],\n",
    " [49962942971, 'Agressivo', (6700., 3300., 5700., 2500.)],\n",
    " [47250893163, 'Agressivo', (6700., 3000., 5200., 2300.)],\n",
    " [75559276274, 'Agressivo', (6300., 2500., 5000., 1900.)],\n",
    " [58529878272, 'Agressivo', (6500., 3000., 5200., 2000.)],\n",
    " [76005896622, 'Agressivo', (6200., 3400., 5400., 2300.)],\n",
    " [49212614633, 'Agressivo', (5900., 3000., 5100., 1800.)]]\n",
    "\n",
    "no_class = [[45926320819, '', (5800., 4000., 1200., 200.)],\n",
    " [52559670741, '', (5700., 4400., 1500., 400.)],\n",
    " [59016004832, '', (5400., 3900., 1300., 400.)],\n",
    " [66175672425, '', (5100., 3500., 1400., 300.)],\n",
    " [53330429526, '', (5700., 3800., 1700., 300.)],\n",
    " [43765563403, '', (5100., 3800., 1500., 300.)],\n",
    " [68020822591, '', (5400., 3400., 1700., 200.)],\n",
    " [53939481689, '', (5100., 3700., 1500., 400.)],\n",
    " [47014057561, '', (4600., 3600., 1000., 200.)],\n",
    " [57183542047, '', (5100., 3300., 1700., 500.)],\n",
    "            \n",
    " [68518284363, '', (5000., 2000., 3500., 1000.)],\n",
    " [65806049885, '', (5900., 3000., 4200., 1500.)],\n",
    " [54128073086, '', (6000., 2200., 4000., 1000.)],\n",
    " [41306785494, '', (6100., 2900., 4700., 1400.)],\n",
    " [65234831039, '', (5600., 2900., 3600., 1300.)],\n",
    " [50964498067, '', (6700., 3100., 4400., 1400.)],\n",
    " [50810951429, '', (5600., 3000., 4500., 1500.)],\n",
    " [48765044397, '', (5800., 2700., 4100., 1000.)],\n",
    " [41960083761, '', (6200., 2200., 4500., 1500.)],\n",
    " [76657763082, '', (5600., 2500., 3900., 1100.)],\n",
    "            \n",
    " [64726487742, '', (6500., 3200., 5100., 2000.)],\n",
    " [75746566283, '', (6400., 2700., 5300., 1900.)],\n",
    " [78576734793, '', (6800., 3000., 5500., 2100.)],\n",
    " [56440141847, '', (5700., 2500., 5000., 2000.)],\n",
    " [66827423000, '', (5800., 2800., 5100., 2400.)],\n",
    " [45267873396, '', (6400., 3200., 5300., 2300.)],\n",
    " [46387191493, '', (6500., 3000., 5500., 1800.)],\n",
    " [54273611732, '', (7700., 3800., 6700., 2200.)],\n",
    " [75135392881, '', (7700., 2600., 6900., 2300.)],\n",
    " [64703873108, '', (6000., 2200., 5000., 1500.)]]"
   ]
  },
  {
   "cell_type": "markdown",
   "id": "64113385",
   "metadata": {},
   "source": []
  },
  {
   "cell_type": "markdown",
   "id": "7a91e8d9",
   "metadata": {},
   "source": [
    "# Resolução do Projeto"
   ]
  },
  {
   "cell_type": "markdown",
   "id": "cfd3cea9",
   "metadata": {},
   "source": [
    "## Definição de funções"
   ]
  },
  {
   "cell_type": "markdown",
   "id": "f7eeabe5",
   "metadata": {},
   "source": [
    "### Modelo k-nearest neighbors"
   ]
  },
  {
   "cell_type": "markdown",
   "id": "5e45f94d",
   "metadata": {},
   "source": [
    "- [k-nearest neighbors algorithm](https://en.wikipedia.org/wiki/K-nearest_neighbors_algorithm)\n",
    "![alt text](img\\KnnClassification.svg)"
   ]
  },
  {
   "cell_type": "code",
   "execution_count": 43,
   "id": "18494aed",
   "metadata": {},
   "outputs": [],
   "source": [
    "# Função do algoritmo de KNN\n",
    "def knn(k, no_class, data):\n",
    "    # Criação de lista classes definidas a partir da lista de dados classificada (treinada)\n",
    "    classes = list(set([i[1] for i in data]))\n",
    "    classes.sort()\n",
    "\n",
    "    resultado = dict() # Dicionário para armazenar os dados treinados\n",
    "    \n",
    "    # Percorre a lista de dados sem classificação (não treinada)\n",
    "    for cpf_no, b_, carteira_no in no_class:\n",
    "        #print('Avaliando o CPF {}'.format(cpf_no))\n",
    "        \n",
    "        distanciasknn = list() # Lista para armazenar as distancias mais próximas encontradas (Knn)\n",
    "        \n",
    "        # Percorre a lista de dados com classificação (treinada)\n",
    "        for cpf_, classe, carteira in data:\n",
    "            distancias = list() # Lista para armazenar todas as distancias calculadas entre os dados treinados / não treinados\n",
    "            distancia = euclidean_dist(carteira, carteira_no) # Cálcula a distância entre as carteiras (ponto)\n",
    "            distancias.append(distancia) # Adiciona na lista o cálculo entre os pontos\n",
    "            distancias.append(classe) # Adiciona a classe da linha de referencia da carteira\n",
    "            #print('Calculo: Classe {}, distancia {}'.format(classe, distancia))\n",
    "            distanciasknn.append(distancias) # Adiciona a lista auxiliar distancia na lista distanciaknn\n",
    "        \n",
    "        # Depois de calcular o CPF da carteira não treinada contra todos os CPFs da carteira treinada\n",
    "        distanciasknn.sort() # Ordena as distâncias encontradas do menor para o maior\n",
    "        distanciasknn = (distanciasknn[:k]) # Defini a quantidade de valores da lista, onde K = vizinhos próximos\n",
    "                    \n",
    "        classesvizinhas = list() # Lista de classes próximas (distancias/pontos próximos)\n",
    "        # Percorre as distancias encontradas identificando as classes\n",
    "        for _, classe in distanciasknn:\n",
    "            classesvizinhas.append(classe)\n",
    "        \n",
    "        classifica = list() # Lista de classificação da carteira\n",
    "        \n",
    "        # Percorre as classes existentes\n",
    "        for classe in classes:\n",
    "            classifica.append(classesvizinhas.count(classe)) # Adiciona na lista agrupando por classes \n",
    "        \n",
    "        classifica\n",
    "        \n",
    "        classificacao = classes[classifica.index(max(classifica))] # Identifcação da classe por ordem da classe\n",
    "        classificacao\n",
    "        \n",
    "        resultado[cpf_no] = classificacao\n",
    "        \n",
    "    return resultado"
   ]
  },
  {
   "cell_type": "markdown",
   "id": "7ca8c30b",
   "metadata": {},
   "source": [
    "### Função de cálculo da distancia Euclidiana"
   ]
  },
  {
   "cell_type": "markdown",
   "id": "aa1036b0",
   "metadata": {},
   "source": [
    "- [Distância Euclidiana](https://en.wikipedia.org/wiki/Euclidean_distance)\n",
    "![alt text](img\\definition_euclidean.png)"
   ]
  },
  {
   "cell_type": "code",
   "execution_count": 58,
   "id": "62081127",
   "metadata": {},
   "outputs": [],
   "source": [
    "# Função de cálculo distancia euclidiana\n",
    "def euclidean_dist (x,y):\n",
    "    return (sum([(a - b)**2 for a, b in zip(x, y)]))**(0.5)"
   ]
  },
  {
   "cell_type": "markdown",
   "id": "f30542d9",
   "metadata": {},
   "source": [
    "### Execução"
   ]
  },
  {
   "cell_type": "code",
   "execution_count": 44,
   "id": "9af19d54",
   "metadata": {},
   "outputs": [
    {
     "data": {
      "text/plain": [
       "{45926320819: 'Conservador',\n",
       " 52559670741: 'Conservador',\n",
       " 59016004832: 'Conservador',\n",
       " 66175672425: 'Conservador',\n",
       " 53330429526: 'Conservador',\n",
       " 43765563403: 'Conservador',\n",
       " 68020822591: 'Conservador',\n",
       " 53939481689: 'Conservador',\n",
       " 47014057561: 'Conservador',\n",
       " 57183542047: 'Conservador',\n",
       " 68518284363: 'Moderado',\n",
       " 65806049885: 'Moderado',\n",
       " 54128073086: 'Moderado',\n",
       " 41306785494: 'Moderado',\n",
       " 65234831039: 'Moderado',\n",
       " 50964498067: 'Moderado',\n",
       " 50810951429: 'Moderado',\n",
       " 48765044397: 'Moderado',\n",
       " 41960083761: 'Moderado',\n",
       " 76657763082: 'Moderado',\n",
       " 64726487742: 'Agressivo',\n",
       " 75746566283: 'Agressivo',\n",
       " 78576734793: 'Agressivo',\n",
       " 56440141847: 'Agressivo',\n",
       " 66827423000: 'Agressivo',\n",
       " 45267873396: 'Agressivo',\n",
       " 46387191493: 'Agressivo',\n",
       " 54273611732: 'Agressivo',\n",
       " 75135392881: 'Agressivo',\n",
       " 64703873108: 'Agressivo'}"
      ]
     },
     "execution_count": 44,
     "metadata": {},
     "output_type": "execute_result"
    }
   ],
   "source": [
    "# Obs: Executar a célula de de definição de funções para funcionamento correto;\n",
    "\n",
    "# Execução da função principal\n",
    "classificacaoknn = knn(5, no_class, data)\n",
    "\n",
    "# Exibe o dicionário com os dados classificados\n",
    "classificacaoknn"
   ]
  },
  {
   "cell_type": "code",
   "execution_count": null,
   "id": "80181cb7",
   "metadata": {},
   "outputs": [],
   "source": []
  },
  {
   "cell_type": "code",
   "execution_count": null,
   "id": "2dd74944",
   "metadata": {},
   "outputs": [],
   "source": []
  },
  {
   "cell_type": "code",
   "execution_count": null,
   "id": "08e764de",
   "metadata": {},
   "outputs": [],
   "source": []
  },
  {
   "cell_type": "markdown",
   "id": "e1d545f1",
   "metadata": {},
   "source": [
    "# Informações Extra"
   ]
  },
  {
   "cell_type": "markdown",
   "id": "3cfe5a06",
   "metadata": {},
   "source": [
    "## Aprimoramento da solução"
   ]
  },
  {
   "cell_type": "markdown",
   "id": "a306e817",
   "metadata": {},
   "source": [
    "### Funções de cálculo de distância"
   ]
  },
  {
   "cell_type": "markdown",
   "id": "e8190135",
   "metadata": {},
   "source": [
    "### Euclidiana"
   ]
  },
  {
   "cell_type": "markdown",
   "id": "a6593cbf",
   "metadata": {},
   "source": [
    "- [Distância Euclidiana](https://en.wikipedia.org/wiki/Euclidean_distance)\n",
    "![alt text](img\\definition_euclidean.png)"
   ]
  },
  {
   "cell_type": "code",
   "execution_count": 45,
   "id": "fc71b0f1",
   "metadata": {},
   "outputs": [],
   "source": [
    "# definição da função de cálculo distancia euclidiana\n",
    "def euclidean_dist (x,y):\n",
    "    return (sum([(a - b)**2 for a, b in zip(x, y)]))**(0.5)\n"
   ]
  },
  {
   "cell_type": "markdown",
   "id": "e140da77",
   "metadata": {},
   "source": [
    "### Manhattan"
   ]
  },
  {
   "cell_type": "markdown",
   "id": "a8cd9160",
   "metadata": {},
   "source": [
    "- [Distância Manhattan / Taxicab](https://en.wikipedia.org/wiki/Taxicab_geometry)\n",
    "![alt text](img\\definition_manhattan.png \"Title\")"
   ]
  },
  {
   "cell_type": "code",
   "execution_count": 46,
   "id": "05588a81",
   "metadata": {},
   "outputs": [],
   "source": [
    "# definição da função de cálculo distancia Manhattan\n",
    "def manhattan_dist(x, y):\n",
    "    return sum(abs(a-b) for a, b in zip(x,y))"
   ]
  },
  {
   "cell_type": "markdown",
   "id": "74e54bc8",
   "metadata": {},
   "source": [
    "### Hamming"
   ]
  },
  {
   "cell_type": "markdown",
   "id": "eec83792",
   "metadata": {},
   "source": [
    "- [Distância Hamming](https://en.wikipedia.org/wiki/Hamming_distance)\n",
    "![alt text](img\\definition_hamming.png \"Title\")"
   ]
  },
  {
   "cell_type": "code",
   "execution_count": 47,
   "id": "5678ef57",
   "metadata": {},
   "outputs": [],
   "source": [
    "# definição da função de cálculo distancia Hamming\n",
    "def hamming_dist(x, y):\n",
    "    return sum(abs(a - b) for a, b in zip(x, y)) / len(x)\n"
   ]
  },
  {
   "cell_type": "markdown",
   "id": "98135161",
   "metadata": {},
   "source": [
    "### Minkowski"
   ]
  },
  {
   "cell_type": "markdown",
   "id": "cf241712",
   "metadata": {},
   "source": [
    "- [Distância Minkowski](https://en.wikipedia.org/wiki/Minkowski_distance)\n",
    "![alt text](img\\definition_minkowski.png \"Title\")"
   ]
  },
  {
   "cell_type": "code",
   "execution_count": 48,
   "id": "3c00a44f",
   "metadata": {},
   "outputs": [],
   "source": [
    "# definição da função de cálculo distancia Minkowski, onde \n",
    "# p = 1 - Manhattan distance\n",
    "# p = 2 - Euclidean distance\n",
    "def minkowski_dist(x, y, p):\n",
    "    return sum(abs(a-b)**p for a, b in zip(x,y))**(1/p)"
   ]
  },
  {
   "cell_type": "markdown",
   "id": "76bddabf",
   "metadata": {},
   "source": [
    "### Modelo k-nearest neighbors"
   ]
  },
  {
   "cell_type": "code",
   "execution_count": 56,
   "id": "2be63656",
   "metadata": {},
   "outputs": [],
   "source": [
    "# Função do algoritmo de KNN\n",
    "# calc onde: 1 = Euclidean, 2 = Manhattan, 3 = Hamming, 4 = Minkowski/Manhattan,  5 = Minkowski/Euclidean\n",
    "def knn(k, no_class, data, calc):\n",
    "    # Criação de lista classes definidas a partir da lista de dados classificada (treinada)\n",
    "    classes = list(set([i[1] for i in data]))\n",
    "    classes.sort()\n",
    "\n",
    "    resultado = dict() # Dicionário para armazenar os dados treinados\n",
    "    \n",
    "    # Percorre a lista de dados sem classificação (não treinada)\n",
    "    for cpf_no, b_, carteira_no in no_class:\n",
    "        #print('Avaliando o CPF {}'.format(cpf_no))\n",
    "        \n",
    "        distanciasknn = list() # Lista para armazenar as distancias mais próximas encontradas (Knn)\n",
    "        \n",
    "        # Percorre a lista de dados com classificação (treinada)\n",
    "        for cpf_, classe, carteira in data:\n",
    "            distancias = list() # Lista para armazenar todas as distancias calculadas entre os dados treinados / não treinados\n",
    "            \n",
    "            if calc == 1:\n",
    "                distancia = euclidean_dist(carteira, carteira_no) # Cálcula a distância euclidiana entre as carteiras (ponto)\n",
    "            elif calc == 2:\n",
    "                distancia = manhattan_dist(carteira, carteira_no) # Cálcula a distância manhattan entre as carteiras (ponto)\n",
    "            elif calc == 3:\n",
    "                distancia = hamming_dist(carteira, carteira_no) # Cálcula a distância hamming entre as carteiras (ponto)\n",
    "            elif calc == 4:\n",
    "                distancia = minkowski_dist(carteira, carteira_no, 1) # Cálcula a distância minkowski/manhattan entre as carteiras (ponto)\n",
    "            elif calc == 5:\n",
    "                distancia = minkowski_dist(carteira, carteira_no, 2) # Cálcula a distância Minkowski/Euclidean entre as carteiras (ponto)\n",
    "                \n",
    "            distancias.append(distancia) # Adiciona na lista o cálculo entre os pontos\n",
    "            distancias.append(classe) # Adiciona a classe da linha de referencia da carteira\n",
    "            #print('Calculo: Classe {}, distancia {}'.format(classe, distancia))\n",
    "            distanciasknn.append(distancias) # Adiciona a lista auxiliar distancia na lista distanciaknn\n",
    "        \n",
    "        # Depois de calcular o CPF da carteira não treinada contra todos os CPFs da carteira treinada\n",
    "        distanciasknn.sort() # Ordena as distâncias encontradas do menor para o maior\n",
    "        distanciasknn = (distanciasknn[:k]) # Defini a quantidade de valores da lista, onde K = vizinhos próximos\n",
    "                    \n",
    "        classesvizinhas = list() # Lista de classes próximas (distancias/pontos próximos)\n",
    "        # Percorre as distancias encontradas identificando as classes\n",
    "        for _, classe in distanciasknn:\n",
    "            classesvizinhas.append(classe)\n",
    "        \n",
    "        classifica = list() # Lista de classificação da carteira\n",
    "        \n",
    "        # Percorre as classes existentes\n",
    "        for classe in classes:\n",
    "            classifica.append(classesvizinhas.count(classe)) # Adiciona na lista agrupando por classes \n",
    "        \n",
    "        classifica\n",
    "        \n",
    "        classificacao = classes[classifica.index(max(classifica))] # Identifcação da classe por ordem da classe\n",
    "        classificacao\n",
    "        \n",
    "        resultado[cpf_no] = classificacao\n",
    "        \n",
    "    return resultado"
   ]
  },
  {
   "cell_type": "markdown",
   "id": "36701ba9",
   "metadata": {},
   "source": [
    "### Modelo k-nearest neighbors cálculo Distancia Euclidean"
   ]
  },
  {
   "cell_type": "code",
   "execution_count": 50,
   "id": "604fe206",
   "metadata": {},
   "outputs": [
    {
     "data": {
      "text/plain": [
       "{45926320819: 'Conservador',\n",
       " 52559670741: 'Conservador',\n",
       " 59016004832: 'Conservador',\n",
       " 66175672425: 'Conservador',\n",
       " 53330429526: 'Conservador',\n",
       " 43765563403: 'Conservador',\n",
       " 68020822591: 'Conservador',\n",
       " 53939481689: 'Conservador',\n",
       " 47014057561: 'Conservador',\n",
       " 57183542047: 'Conservador',\n",
       " 68518284363: 'Moderado',\n",
       " 65806049885: 'Moderado',\n",
       " 54128073086: 'Moderado',\n",
       " 41306785494: 'Moderado',\n",
       " 65234831039: 'Moderado',\n",
       " 50964498067: 'Moderado',\n",
       " 50810951429: 'Moderado',\n",
       " 48765044397: 'Moderado',\n",
       " 41960083761: 'Moderado',\n",
       " 76657763082: 'Moderado',\n",
       " 64726487742: 'Agressivo',\n",
       " 75746566283: 'Agressivo',\n",
       " 78576734793: 'Agressivo',\n",
       " 56440141847: 'Agressivo',\n",
       " 66827423000: 'Agressivo',\n",
       " 45267873396: 'Agressivo',\n",
       " 46387191493: 'Agressivo',\n",
       " 54273611732: 'Agressivo',\n",
       " 75135392881: 'Agressivo',\n",
       " 64703873108: 'Agressivo'}"
      ]
     },
     "execution_count": 50,
     "metadata": {},
     "output_type": "execute_result"
    }
   ],
   "source": [
    "# Obs: Executar a célula de de definição de funções para funcionamento correto;\n",
    "\n",
    "# Execução do modelo Knn, com cálculo de distancia Euclidiana\n",
    "classificacaoknn = knn(5, no_class, data, 1)\n",
    "\n",
    "# Exibe o dicionário com os dados classificados\n",
    "classificacaoknn"
   ]
  },
  {
   "cell_type": "markdown",
   "id": "58abaf2f",
   "metadata": {},
   "source": [
    "### Modelo k-nearest neighbors cálculo Distancia Manhattan"
   ]
  },
  {
   "cell_type": "code",
   "execution_count": 51,
   "id": "9c99c34c",
   "metadata": {},
   "outputs": [
    {
     "data": {
      "text/plain": [
       "{45926320819: 'Conservador',\n",
       " 52559670741: 'Conservador',\n",
       " 59016004832: 'Conservador',\n",
       " 66175672425: 'Conservador',\n",
       " 53330429526: 'Conservador',\n",
       " 43765563403: 'Conservador',\n",
       " 68020822591: 'Conservador',\n",
       " 53939481689: 'Conservador',\n",
       " 47014057561: 'Conservador',\n",
       " 57183542047: 'Conservador',\n",
       " 68518284363: 'Moderado',\n",
       " 65806049885: 'Moderado',\n",
       " 54128073086: 'Moderado',\n",
       " 41306785494: 'Moderado',\n",
       " 65234831039: 'Moderado',\n",
       " 50964498067: 'Moderado',\n",
       " 50810951429: 'Moderado',\n",
       " 48765044397: 'Moderado',\n",
       " 41960083761: 'Moderado',\n",
       " 76657763082: 'Moderado',\n",
       " 64726487742: 'Agressivo',\n",
       " 75746566283: 'Agressivo',\n",
       " 78576734793: 'Agressivo',\n",
       " 56440141847: 'Agressivo',\n",
       " 66827423000: 'Agressivo',\n",
       " 45267873396: 'Agressivo',\n",
       " 46387191493: 'Agressivo',\n",
       " 54273611732: 'Agressivo',\n",
       " 75135392881: 'Agressivo',\n",
       " 64703873108: 'Agressivo'}"
      ]
     },
     "execution_count": 51,
     "metadata": {},
     "output_type": "execute_result"
    }
   ],
   "source": [
    "# Obs: Executar a célula de de definição de funções para funcionamento correto;\n",
    "\n",
    "# Execução do modelo Knn, com cálculo de distancia Manhattan\n",
    "classificacaoknn = knn(5, no_class, data, 2)\n",
    "\n",
    "# Exibe o dicionário com os dados classificados\n",
    "classificacaoknn"
   ]
  },
  {
   "cell_type": "markdown",
   "id": "a2950b9c",
   "metadata": {},
   "source": [
    "### Modelo k-nearest neighbors cálculo Distancia Hamming"
   ]
  },
  {
   "cell_type": "code",
   "execution_count": 52,
   "id": "da3f4a10",
   "metadata": {},
   "outputs": [
    {
     "data": {
      "text/plain": [
       "{45926320819: 'Conservador',\n",
       " 52559670741: 'Conservador',\n",
       " 59016004832: 'Conservador',\n",
       " 66175672425: 'Conservador',\n",
       " 53330429526: 'Conservador',\n",
       " 43765563403: 'Conservador',\n",
       " 68020822591: 'Conservador',\n",
       " 53939481689: 'Conservador',\n",
       " 47014057561: 'Conservador',\n",
       " 57183542047: 'Conservador',\n",
       " 68518284363: 'Moderado',\n",
       " 65806049885: 'Moderado',\n",
       " 54128073086: 'Moderado',\n",
       " 41306785494: 'Moderado',\n",
       " 65234831039: 'Moderado',\n",
       " 50964498067: 'Moderado',\n",
       " 50810951429: 'Moderado',\n",
       " 48765044397: 'Moderado',\n",
       " 41960083761: 'Moderado',\n",
       " 76657763082: 'Moderado',\n",
       " 64726487742: 'Agressivo',\n",
       " 75746566283: 'Agressivo',\n",
       " 78576734793: 'Agressivo',\n",
       " 56440141847: 'Agressivo',\n",
       " 66827423000: 'Agressivo',\n",
       " 45267873396: 'Agressivo',\n",
       " 46387191493: 'Agressivo',\n",
       " 54273611732: 'Agressivo',\n",
       " 75135392881: 'Agressivo',\n",
       " 64703873108: 'Agressivo'}"
      ]
     },
     "execution_count": 52,
     "metadata": {},
     "output_type": "execute_result"
    }
   ],
   "source": [
    "# Obs: Executar a célula de de definição de funções para funcionamento correto;\n",
    "\n",
    "# Execução do modelo Knn, com cálculo de distancia Hamming\n",
    "classificacaoknn = knn(5, no_class, data, 3)\n",
    "\n",
    "# Exibe o dicionário com os dados classificados\n",
    "classificacaoknn"
   ]
  },
  {
   "cell_type": "markdown",
   "id": "9969f02e",
   "metadata": {},
   "source": [
    "### Modelo k-nearest neighbors cálculo Distancia Minkowski/Manhattan"
   ]
  },
  {
   "cell_type": "code",
   "execution_count": 53,
   "id": "9403262d",
   "metadata": {},
   "outputs": [
    {
     "data": {
      "text/plain": [
       "{45926320819: 'Conservador',\n",
       " 52559670741: 'Conservador',\n",
       " 59016004832: 'Conservador',\n",
       " 66175672425: 'Conservador',\n",
       " 53330429526: 'Conservador',\n",
       " 43765563403: 'Conservador',\n",
       " 68020822591: 'Conservador',\n",
       " 53939481689: 'Conservador',\n",
       " 47014057561: 'Conservador',\n",
       " 57183542047: 'Conservador',\n",
       " 68518284363: 'Moderado',\n",
       " 65806049885: 'Moderado',\n",
       " 54128073086: 'Moderado',\n",
       " 41306785494: 'Moderado',\n",
       " 65234831039: 'Moderado',\n",
       " 50964498067: 'Moderado',\n",
       " 50810951429: 'Moderado',\n",
       " 48765044397: 'Moderado',\n",
       " 41960083761: 'Moderado',\n",
       " 76657763082: 'Moderado',\n",
       " 64726487742: 'Agressivo',\n",
       " 75746566283: 'Agressivo',\n",
       " 78576734793: 'Agressivo',\n",
       " 56440141847: 'Agressivo',\n",
       " 66827423000: 'Agressivo',\n",
       " 45267873396: 'Agressivo',\n",
       " 46387191493: 'Agressivo',\n",
       " 54273611732: 'Agressivo',\n",
       " 75135392881: 'Agressivo',\n",
       " 64703873108: 'Agressivo'}"
      ]
     },
     "execution_count": 53,
     "metadata": {},
     "output_type": "execute_result"
    }
   ],
   "source": [
    "# Obs: Executar a célula de de definição de funções para funcionamento correto;\n",
    "\n",
    "# Execução do modelo Knn, com cálculo de distancia minkowski/manhattan\n",
    "classificacaoknn = knn(5, no_class, data, 4)\n",
    "\n",
    "# Exibe o dicionário com os dados classificados\n",
    "classificacaoknn"
   ]
  },
  {
   "cell_type": "markdown",
   "id": "9cb0eb5b",
   "metadata": {},
   "source": [
    "### Modelo k-nearest neighbors cálculo Distancia Minkowski/Manhattan"
   ]
  },
  {
   "cell_type": "code",
   "execution_count": 57,
   "id": "6f1c9da4",
   "metadata": {},
   "outputs": [
    {
     "data": {
      "text/plain": [
       "{45926320819: 'Conservador',\n",
       " 52559670741: 'Conservador',\n",
       " 59016004832: 'Conservador',\n",
       " 66175672425: 'Conservador',\n",
       " 53330429526: 'Conservador',\n",
       " 43765563403: 'Conservador',\n",
       " 68020822591: 'Conservador',\n",
       " 53939481689: 'Conservador',\n",
       " 47014057561: 'Conservador',\n",
       " 57183542047: 'Conservador',\n",
       " 68518284363: 'Moderado',\n",
       " 65806049885: 'Moderado',\n",
       " 54128073086: 'Moderado',\n",
       " 41306785494: 'Moderado',\n",
       " 65234831039: 'Moderado',\n",
       " 50964498067: 'Moderado',\n",
       " 50810951429: 'Moderado',\n",
       " 48765044397: 'Moderado',\n",
       " 41960083761: 'Moderado',\n",
       " 76657763082: 'Moderado',\n",
       " 64726487742: 'Agressivo',\n",
       " 75746566283: 'Agressivo',\n",
       " 78576734793: 'Agressivo',\n",
       " 56440141847: 'Agressivo',\n",
       " 66827423000: 'Agressivo',\n",
       " 45267873396: 'Agressivo',\n",
       " 46387191493: 'Agressivo',\n",
       " 54273611732: 'Agressivo',\n",
       " 75135392881: 'Agressivo',\n",
       " 64703873108: 'Agressivo'}"
      ]
     },
     "execution_count": 57,
     "metadata": {},
     "output_type": "execute_result"
    }
   ],
   "source": [
    "# Obs: Executar a célula de de definição de funções para funcionamento correto;\n",
    "\n",
    "# Execução do modelo Knn, com cálculo de distancia minkowski/euclidian\n",
    "classificacaoknn = knn(5, no_class, data, 5)\n",
    "\n",
    "# Exibe o dicionário com os dados classificados\n",
    "classificacaoknn"
   ]
  },
  {
   "cell_type": "code",
   "execution_count": null,
   "id": "6d9d5c68",
   "metadata": {},
   "outputs": [],
   "source": []
  }
 ],
 "metadata": {
  "kernelspec": {
   "display_name": "Python 3",
   "language": "python",
   "name": "python3"
  },
  "language_info": {
   "codemirror_mode": {
    "name": "ipython",
    "version": 3
   },
   "file_extension": ".py",
   "mimetype": "text/x-python",
   "name": "python",
   "nbconvert_exporter": "python",
   "pygments_lexer": "ipython3",
   "version": "3.8.10"
  }
 },
 "nbformat": 4,
 "nbformat_minor": 5
}
