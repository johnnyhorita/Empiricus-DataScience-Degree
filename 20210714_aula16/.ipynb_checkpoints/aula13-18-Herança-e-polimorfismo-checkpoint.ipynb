{
 "cells": [
  {
   "cell_type": "markdown",
   "id": "8bcdb687",
   "metadata": {},
   "source": [
    "# Aula 13\n",
    "\n",
    "## 18.  Herança e polimorfismo\n"
   ]
  },
  {
   "cell_type": "markdown",
   "id": "69567d55",
   "metadata": {},
   "source": [
    "## 1. Herança"
   ]
  },
  {
   "cell_type": "code",
   "execution_count": 2,
   "id": "494e3d60",
   "metadata": {
    "ExecuteTime": {
     "end_time": "2021-07-07T23:51:58.390461Z",
     "start_time": "2021-07-07T23:51:58.383456Z"
    }
   },
   "outputs": [
    {
     "name": "stdout",
     "output_type": "stream",
     "text": [
      "Bidu faz au au.\n",
      "Mingau faz miau.\n",
      "Horácio faz barulho.\n"
     ]
    }
   ],
   "source": [
    "class Animal:\n",
    "    def __init__(self, nome):\n",
    "        self.nome = nome\n",
    "\n",
    "    def fala(self):\n",
    "        print(self.nome, 'faz barulho.')\n",
    "\n",
    "\n",
    "class Cachorro(Animal):\n",
    "    def fala(self):\n",
    "        print(self.nome, 'faz au au.')\n",
    "\n",
    "class Gato(Animal):\n",
    "    def fala(self):\n",
    "        print(self.nome, 'faz miau.')\n",
    "\n",
    "class Dinossauro(Animal):\n",
    "    pass\n",
    "    # pass é um comando \"vazio\": ele não faz nada, apenas evita erro por não colocarmos nada dentro da classe\n",
    "\n",
    "cachorrinho = Cachorro('Bidu')\n",
    "gatinho = Gato('Mingau')\n",
    "dino = Dinossauro('Horácio')\n",
    "\n",
    "cachorrinho.fala()\n",
    "gatinho.fala()\n",
    "dino.fala()"
   ]
  },
  {
   "cell_type": "markdown",
   "id": "684f86d0",
   "metadata": {},
   "source": [
    "### 1.1. Herdando parcialmente um método"
   ]
  },
  {
   "cell_type": "code",
   "execution_count": 3,
   "id": "f22abf4e",
   "metadata": {
    "ExecuteTime": {
     "end_time": "2021-07-07T23:53:39.281754Z",
     "start_time": "2021-07-07T23:53:39.278749Z"
    }
   },
   "outputs": [],
   "source": [
    "class Cachorro(Animal):\n",
    "    # redefinindo o __init__\n",
    "    def __init__(self, nome, raca):\n",
    "        # pedaço novo de código\n",
    "        self.raca = raca\n",
    "        # chamando a __init__ da classe mãe para fazer o resto do trabalho\n",
    "        super().__init__(nome)\n",
    "\n",
    "    def fala(self):\n",
    "        print(self.nome, 'faz au au.')"
   ]
  },
  {
   "cell_type": "markdown",
   "id": "536b010e",
   "metadata": {},
   "source": [
    "## 2. Polimorfismo"
   ]
  },
  {
   "cell_type": "code",
   "execution_count": 4,
   "id": "35eac4ad",
   "metadata": {
    "ExecuteTime": {
     "end_time": "2021-07-07T23:54:04.769623Z",
     "start_time": "2021-07-07T23:54:04.765605Z"
    }
   },
   "outputs": [
    {
     "name": "stdout",
     "output_type": "stream",
     "text": [
      "False\n",
      "True\n",
      "False\n",
      "False\n",
      "True\n",
      "True\n"
     ]
    }
   ],
   "source": [
    "# o cachorrinho é cachorro?\n",
    "print(isinstance(cachorrinho, Cachorro))\n",
    "# o gatinho é gato?\n",
    "print(isinstance(gatinho, Gato))\n",
    "# o cachorrinho é gato?\n",
    "print(isinstance(cachorrinho, Gato))\n",
    "# o gatinho é cachorro?\n",
    "print(isinstance(gatinho, Cachorro))\n",
    "# o cachorrinho é animal?\n",
    "print(isinstance(cachorrinho, Animal))\n",
    "# o gatinho é animal?\n",
    "print(isinstance(gatinho, Animal))"
   ]
  },
  {
   "cell_type": "code",
   "execution_count": 5,
   "id": "e08f8095",
   "metadata": {
    "ExecuteTime": {
     "end_time": "2021-07-07T23:54:13.300050Z",
     "start_time": "2021-07-07T23:54:13.295054Z"
    }
   },
   "outputs": [],
   "source": [
    "class Animal:\n",
    "    # lista estática de animais criados\n",
    "    animais = []\n",
    "\n",
    "    def __init__(self, nome):\n",
    "        self.nome = nome\n",
    "        # criamos o animal e o colocaremos na lista estática\n",
    "        Animal.animais.append(self)\n",
    "\n",
    "    def fala(self):\n",
    "        print(self.nome, 'faz barulho.')\n",
    "\n",
    "    @staticmethod\n",
    "    def falatorio():\n",
    "        for a in Animal.animais:\n",
    "            a.fala()"
   ]
  },
  {
   "cell_type": "code",
   "execution_count": 6,
   "id": "33532e91",
   "metadata": {
    "ExecuteTime": {
     "end_time": "2021-07-07T23:54:18.513317Z",
     "start_time": "2021-07-07T23:54:18.510342Z"
    }
   },
   "outputs": [],
   "source": [
    "Animal.falatorio()"
   ]
  },
  {
   "cell_type": "code",
   "execution_count": null,
   "id": "fbefa45a",
   "metadata": {},
   "outputs": [],
   "source": []
  }
 ],
 "metadata": {
  "kernelspec": {
   "display_name": "Python 3",
   "language": "python",
   "name": "python3"
  },
  "language_info": {
   "codemirror_mode": {
    "name": "ipython",
    "version": 3
   },
   "file_extension": ".py",
   "mimetype": "text/x-python",
   "name": "python",
   "nbconvert_exporter": "python",
   "pygments_lexer": "ipython3",
   "version": "3.8.10"
  }
 },
 "nbformat": 4,
 "nbformat_minor": 5
}
